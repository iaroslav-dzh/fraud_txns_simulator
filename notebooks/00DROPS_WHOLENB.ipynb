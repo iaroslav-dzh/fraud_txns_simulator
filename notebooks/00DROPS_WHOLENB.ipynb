{
 "cells": [
  {
   "cell_type": "code",
   "execution_count": 235,
   "id": "c30e67d7-4a3c-4d29-9477-ab02b02e86fc",
   "metadata": {},
   "outputs": [],
   "source": [
    "import pandas as pd\n",
    "import numpy as np\n",
    "import matplotlib.pyplot as plt\n",
    "import seaborn as sns\n",
    "import os\n",
    "import re\n",
    "import geopandas as gpd\n",
    "import random\n",
    "from scipy.stats import truncnorm, norm\n",
    "from collections import defaultdict\n",
    "import math\n",
    "from shapely.ops import transform\n",
    "from pyproj import Geod\n",
    "import pyarrow\n",
    "from datetime import datetime\n",
    "import sys\n",
    "import importlib\n",
    "from dataclasses import dataclass\n",
    "import yaml\n",
    "from typing import Union"
   ]
  },
  {
   "cell_type": "code",
   "execution_count": 4,
   "id": "a6dc00ed-f62f-4871-8e41-47c85bc4c8a9",
   "metadata": {},
   "outputs": [],
   "source": [
    "# добавляем папку modules в sys.path, чтобы импортировать функции созданные ранее\n",
    "\n",
    "# sys.path.append(os.path.abspath(os.path.join(\"..\", \"modules\")))"
   ]
  },
  {
   "cell_type": "code",
   "execution_count": 501,
   "id": "9d87e6be-bb84-44d9-9d35-924a25f2ddca",
   "metadata": {},
   "outputs": [],
   "source": [
    "# Функции генерации паттернов времени и базовые функции времени созданные ранее\n",
    "import data_generator.fraud.time\n",
    "import data_generator.fraud.txndata\n",
    "import data_generator.configs\n",
    "importlib.reload(data_generator.fraud.time)\n",
    "importlib.reload(data_generator.fraud.txndata)\n",
    "importlib.reload(data_generator.configs)\n",
    "from data_generator.general_time import *\n",
    "from data_generator.utils import build_transaction\n",
    "from data_generator.fraud.txndata import FraudTxnPartData, TransAmount, sample_category\n",
    "from data_generator.fraud.time import derive_from_last_time\n",
    "from data_generator.configs import PurchBehaviorHandler"
   ]
  },
  {
   "cell_type": "code",
   "execution_count": null,
   "id": "23828f2a-bd6f-46f6-ab48-67e874a45a45",
   "metadata": {},
   "outputs": [],
   "source": []
  },
  {
   "cell_type": "code",
   "execution_count": 10,
   "id": "6c6c9867-8d32-4b4d-9923-2b2f5711bfc8",
   "metadata": {},
   "outputs": [],
   "source": [
    "np.set_printoptions(suppress=True)\n",
    "pd.set_option('display.max_columns', None)"
   ]
  },
  {
   "cell_type": "code",
   "execution_count": 7,
   "id": "122df125-874a-4cc5-a123-74aca56e5baf",
   "metadata": {},
   "outputs": [
    {
     "data": {
      "text/plain": [
       "'C:\\\\Users\\\\iaros\\\\My_documents\\\\Education\\\\projects\\\\fraud_detection_01\\\\notebooks'"
      ]
     },
     "execution_count": 7,
     "metadata": {},
     "output_type": "execute_result"
    }
   ],
   "source": [
    "os.getcwd()"
   ]
  },
  {
   "cell_type": "code",
   "execution_count": 8,
   "id": "71fc90ba-44d1-4bc6-b2a3-edda53a9123b",
   "metadata": {},
   "outputs": [],
   "source": [
    "os.chdir(\"..\")"
   ]
  },
  {
   "cell_type": "code",
   "execution_count": 9,
   "id": "4c92f5c7-1b75-4e1b-97a1-34a61031d901",
   "metadata": {},
   "outputs": [
    {
     "data": {
      "text/plain": [
       "'C:\\\\Users\\\\iaros\\\\My_documents\\\\Education\\\\projects\\\\fraud_detection_01'"
      ]
     },
     "execution_count": 9,
     "metadata": {},
     "output_type": "execute_result"
    }
   ],
   "source": [
    "os.getcwd()"
   ]
  },
  {
   "cell_type": "markdown",
   "id": "ecd83afb-aeee-4488-b237-366ed2c85d61",
   "metadata": {},
   "source": [
    "## Загрузка конфигураций"
   ]
  },
  {
   "cell_type": "code",
   "execution_count": 18,
   "id": "2596e557-1894-4125-a02a-517e01ff04ff",
   "metadata": {},
   "outputs": [],
   "source": [
    "# Общие настройки\n",
    "with open(\"./config/base.yaml\") as f:\n",
    "    base_cfg = yaml.safe_load(f)\n",
    "# Настройки фрода\n",
    "with open(\"./config/fraud.yaml\") as f:\n",
    "    fraud_cfg = yaml.safe_load(f)\n",
    "# Настройки фрода для дропов\n",
    "with open(\"./config/drops.yaml\", encoding=\"utf8\") as f:\n",
    "    drops_cfg = yaml.safe_load(f)\n",
    "# Настройки времени\n",
    "with open(\"./config/time.yaml\") as f:\n",
    "    time_cfg = yaml.safe_load(f)"
   ]
  },
  {
   "cell_type": "markdown",
   "id": "b44b5ea0-cf43-46d2-8441-a1bb4c2331b0",
   "metadata": {},
   "source": [
    "# Доп. данные для генерации фрод транзакций"
   ]
  },
  {
   "cell_type": "markdown",
   "id": "908fd76b-76e1-45a1-a001-d8d03ef4baed",
   "metadata": {},
   "source": [
    "**Загрузка данных:**\n",
    "- оффлайн мерчантов\n",
    "- онлайн мерчантов\n",
    "- девайсов клиентов и мошенников\n",
    "- городов с полигонами\n",
    "- городов с координатами центров\n",
    "- клиентов\n",
    "- фрод IP адресов\n",
    "- категорий и их характеристик\n",
    "- категорий для дропов покупателей\n",
    "- Счетов клиентов\n",
    "- Внешних счетов"
   ]
  },
  {
   "cell_type": "code",
   "execution_count": 612,
   "id": "7602ab36-bd72-4160-8fec-753775f89880",
   "metadata": {},
   "outputs": [],
   "source": [
    "offline_merchants = gpd.read_file(\"./data/cleaned_data/offline_merchants_points.gpkg\")\n",
    "online_merchant_ids = pd.read_csv(\"./data/cleaned_data/online_merchant_ids.csv\").iloc[:, 0] # нужны в виде серии\n",
    "client_devices = pd.read_csv(\"./data/cleaned_data/client_devices.csv\")\n",
    "fraud_devices = pd.read_csv(\"./data/cleaned_data/fraud_devices.csv\")\n",
    "districts_ru = gpd.read_file(\"./data/cleaned_data/district_ru.gpkg\")\n",
    "area_centers = gpd.read_file(\"./data/cleaned_data/area_centers.gpkg\")\n",
    "clients_with_geo = gpd.read_file(\"./data/cleaned_data/clients_with_geo.gpkg\") \n",
    "fraud_ips = gpd.read_file(\"./data/cleaned_data/fraud_ips.gpkg\")\n",
    "cat_stats_full = pd.read_csv(\"./data/cleaned_data/cat_stats_full.csv\")\n",
    "cat_fraud_amts = pd.read_csv(\"./data/cleaned_data/cat_fraud_amts.csv\")\n",
    "drop_purch_cats = pd.read_csv(\"./data/cleaned_data/drop_purch_cats.csv\")\n",
    "accounts = pd.read_csv(\"./data/generated_data/accounts.csv\")\n",
    "outer_accounts = pd.read_csv(\"./data/generated_data/outer_accounts.csv\").iloc[:, 0] # нужны в виде серии"
   ]
  },
  {
   "cell_type": "markdown",
   "id": "22a206ef-4367-4265-8a7a-d71edb16f77d",
   "metadata": {},
   "source": [
    "**Датафрейм под транзакции. Этап тестов**<br>\n",
    "Создадим пустой датафрейм под транзакции. Будем копировать и использовать его при тестах функций."
   ]
  },
  {
   "cell_type": "code",
   "execution_count": 13,
   "id": "8d5babab-6645-48b9-8b65-41229b4ee162",
   "metadata": {},
   "outputs": [
    {
     "data": {
      "text/html": [
       "<div>\n",
       "<style scoped>\n",
       "    .dataframe tbody tr th:only-of-type {\n",
       "        vertical-align: middle;\n",
       "    }\n",
       "\n",
       "    .dataframe tbody tr th {\n",
       "        vertical-align: top;\n",
       "    }\n",
       "\n",
       "    .dataframe thead th {\n",
       "        text-align: right;\n",
       "    }\n",
       "</style>\n",
       "<table border=\"1\" class=\"dataframe\">\n",
       "  <thead>\n",
       "    <tr style=\"text-align: right;\">\n",
       "      <th></th>\n",
       "      <th>client_id</th>\n",
       "      <th>txn_time</th>\n",
       "      <th>unix_time</th>\n",
       "      <th>amount</th>\n",
       "      <th>type</th>\n",
       "      <th>channel</th>\n",
       "      <th>category</th>\n",
       "      <th>online</th>\n",
       "      <th>merchant_id</th>\n",
       "      <th>trans_city</th>\n",
       "      <th>trans_lat</th>\n",
       "      <th>trans_lon</th>\n",
       "      <th>trans_ip</th>\n",
       "      <th>device_id</th>\n",
       "      <th>account</th>\n",
       "      <th>is_fraud</th>\n",
       "      <th>is_suspicious</th>\n",
       "      <th>status</th>\n",
       "      <th>rule</th>\n",
       "    </tr>\n",
       "  </thead>\n",
       "  <tbody>\n",
       "  </tbody>\n",
       "</table>\n",
       "</div>"
      ],
      "text/plain": [
       "Empty DataFrame\n",
       "Columns: [client_id, txn_time, unix_time, amount, type, channel, category, online, merchant_id, trans_city, trans_lat, trans_lon, trans_ip, device_id, account, is_fraud, is_suspicious, status, rule]\n",
       "Index: []"
      ]
     },
     "execution_count": 13,
     "metadata": {},
     "output_type": "execute_result"
    }
   ],
   "source": [
    "transactions = pd.DataFrame(\n",
    "            {\"client_id\": pd.Series(dtype=\"int64\"),\n",
    "            \"txn_time\": pd.Series(dtype=\"datetime64[ns]\"),\n",
    "             \"unix_time\":pd.Series(dtype=\"int64\"),\n",
    "            \"amount\": pd.Series(dtype=\"float64\"),\n",
    "            \"type\": pd.Series(dtype=\"string\"),\n",
    "            \"channel\": pd.Series(dtype=\"string\"),\n",
    "            \"category\": pd.Series(dtype=\"string\"),\n",
    "            \"online\":pd.Series(dtype=\"bool\"),\n",
    "            \"merchant_id\":pd.Series(dtype=\"int64\"),\n",
    "             \"trans_city\":pd.Series(dtype=\"string\"),\n",
    "            \"trans_lat\":pd.Series(dtype=\"float64\"),\n",
    "             \"trans_lon\":pd.Series(dtype=\"float64\"),\n",
    "            \"trans_ip\":pd.Series(dtype=\"string\"),\n",
    "             \"device_id\":pd.Series(dtype=\"int64\"),\n",
    "             \"account\": pd.Series(dtype=\"int64\"),\n",
    "            \"is_fraud\": pd.Series(dtype=\"bool\"),\n",
    "             \"is_suspicious\": pd.Series(dtype=\"bool\"),\n",
    "            \"status\":pd.Series(dtype=\"string\"),\n",
    "            \"rule\":pd.Series(dtype=\"string\")})\n",
    "transactions"
   ]
  },
  {
   "cell_type": "markdown",
   "id": "212f66bc-3553-4948-8210-a5f7f45cf491",
   "metadata": {},
   "source": [
    "**Функция получения случайных значений из `truncnorm` распределения**\n",
    "- пойдет в модуль `utils`"
   ]
  },
  {
   "cell_type": "code",
   "execution_count": 14,
   "id": "550d6562-2464-485b-80e9-ec239ec866c1",
   "metadata": {},
   "outputs": [],
   "source": [
    "def get_values_from_truncnorm(low_bound, high_bound, mean, std, size=1):\n",
    "    \"\"\"\n",
    "    Сгенерировать массив чисел из обрезанного нормального распределения.\n",
    "    Можно сгенерировать массив с одним числом\n",
    "    ------------\n",
    "    low_bound - float, int. Нижняя граница значений\n",
    "    high_bound - float, int. Верхняя граница значений \n",
    "    mean - float, int. Среднее\n",
    "    std - float, int. Стандартное отклонение\n",
    "    size - Количество чисел в возвращаемом массиве\n",
    "    ------------\n",
    "    Возвращает np.ndarray\n",
    "    \"\"\"\n",
    "    return truncnorm.rvs((low_bound - mean) / std, (high_bound - mean) / std, loc=mean, scale=std, size=size)"
   ]
  },
  {
   "cell_type": "markdown",
   "id": "7302b003-7e50-4387-a361-afdfdc6afc93",
   "metadata": {},
   "source": [
    "## Класс `DropDistributorCfg`\n",
    "- конфигурации на основании которых будут генерироваться транзакции дропов\n",
    "  занятых распределением полученных денег: переводами, снятиями, покупкой криптовалюты."
   ]
  },
  {
   "cell_type": "code",
   "execution_count": 52,
   "id": "d25766b0-5a95-42c3-8dbb-69574a91b127",
   "metadata": {},
   "outputs": [],
   "source": [
    "# ----------- ВСТАВИТЬ ГОТОВЫЙ КЛАСС СЮДА -------------------------"
   ]
  },
  {
   "cell_type": "markdown",
   "id": "d6807bb8-d463-4747-a07e-2c043865484b",
   "metadata": {},
   "source": [
    "### Создание аргументов для `DropDistributorCfg`"
   ]
  },
  {
   "cell_type": "code",
   "execution_count": 16,
   "id": "54162d98-aa61-497a-9f86-91baa0907eed",
   "metadata": {},
   "outputs": [],
   "source": [
    "# timestamp-ы использованные еще для генерации легальных и purchase фрод транзакций\n",
    "timestamps = pd.read_parquet(\"./data/generated_data/timestamps.parquet\", engine=\"pyarrow\")"
   ]
  },
  {
   "cell_type": "code",
   "execution_count": 19,
   "id": "3ee9f416-e7c0-4bfa-8228-5380879bf788",
   "metadata": {},
   "outputs": [],
   "source": [
    "time_weight_args = time_cfg[\"time_weights_args\"]"
   ]
  },
  {
   "cell_type": "code",
   "execution_count": 20,
   "id": "5a9f0664-ba62-4db7-8317-96538b7703cd",
   "metadata": {},
   "outputs": [],
   "source": [
    "time_weights_dict = get_all_time_patterns(time_weight_args)"
   ]
  },
  {
   "cell_type": "markdown",
   "id": "2f932473-9b9b-4420-a515-4dff743428c7",
   "metadata": {},
   "source": [
    "**Легальные транзакции**  \n",
    "Нужно знать их количество для определения числа фрод транзакций  \n",
    "и следовательно, количества клиентов для их генерации"
   ]
  },
  {
   "cell_type": "code",
   "execution_count": 21,
   "id": "dedea0b9-5aee-40db-bb20-055d46c5f942",
   "metadata": {},
   "outputs": [],
   "source": [
    "legit_txns = pd.read_parquet(\"./data/generated_data/legit_trans_148K.parquet\", engine=\"pyarrow\")"
   ]
  },
  {
   "cell_type": "markdown",
   "id": "3eb754d0-1349-4db0-b57d-a8aef4789cca",
   "metadata": {},
   "source": [
    "**Клиенты для дроп фрода**  \n",
    "Случайно возьмем клиентов, у которых нет никаких транзакций  \n",
    "Для этого загрузим семплированных для легальных транзакций клиентов, т.е. у кого были созданы легальные транзакции.  \n",
    "У части этих клиентов также созданы purchase фрод транзакции. Всех этих клиентов надо исключить."
   ]
  },
  {
   "cell_type": "code",
   "execution_count": 22,
   "id": "7f88b9d0-d717-463e-9829-bbf6e4860da2",
   "metadata": {},
   "outputs": [],
   "source": [
    "clients_sample_df = gpd.read_file(\"./data/cleaned_data/clients_sample.gpkg\")"
   ]
  },
  {
   "cell_type": "code",
   "execution_count": 23,
   "id": "c973cadc-fb7a-41e0-a3f3-beddd4471cb6",
   "metadata": {},
   "outputs": [
    {
     "data": {
      "text/plain": [
       "(3000, 12)"
      ]
     },
     "execution_count": 23,
     "metadata": {},
     "output_type": "execute_result"
    }
   ],
   "source": [
    "clients_sample_df.shape"
   ]
  },
  {
   "cell_type": "markdown",
   "id": "14e17758-50df-45ec-a01b-0f67809b8020",
   "metadata": {},
   "source": [
    "Конфиги загружаются временно тут"
   ]
  },
  {
   "cell_type": "code",
   "execution_count": 316,
   "id": "f903ce78-5623-409c-a537-90e7569358bc",
   "metadata": {},
   "outputs": [],
   "source": [
    "# Общие настройки\n",
    "with open(\"./config/base.yaml\") as f:\n",
    "    base_cfg = yaml.safe_load(f)\n",
    "# Настройки фрода\n",
    "with open(\"./config/fraud.yaml\") as f:\n",
    "    fraud_cfg = yaml.safe_load(f)\n",
    "# Настройки фрода для дропов\n",
    "with open(\"./config/drops.yaml\", encoding=\"utf8\") as f:\n",
    "    drops_cfg = yaml.safe_load(f)\n",
    "# Настройки времени\n",
    "with open(\"./config/time.yaml\") as f:\n",
    "    time_cfg = yaml.safe_load(f)"
   ]
  },
  {
   "cell_type": "code",
   "execution_count": 24,
   "id": "1ca9e428-50d7-4a3e-a7f8-209648c37a8b",
   "metadata": {},
   "outputs": [],
   "source": [
    "# доля дроп фрода - Дропы занимающиеся переводами и снятиями; и дропы, которые покупают товары на присланные деньги\n",
    "fraud_rate = fraud_cfg[\"fraud_rates\"][\"total\"]\n",
    "drop_dist_share = drops_cfg[\"distributor\"][\"rate\"] # Дропы распределители. Доля от всего фрода\n",
    "drop_purch_share = drops_cfg[\"purchaser\"][\"rate\"] # Дропы покупатели. Доля от всего фрода"
   ]
  },
  {
   "cell_type": "code",
   "execution_count": 25,
   "id": "4be2e34c-bac8-400a-bfbf-0b04ee53f8ff",
   "metadata": {},
   "outputs": [],
   "source": [
    "# лимит на исходящие транзакции дропа. Нужен сейчас для вычисления количества дропов распределителей\n",
    "\n",
    "dist_out_lim = drops_cfg[\"distributor\"][\"out_lim\"]"
   ]
  },
  {
   "cell_type": "code",
   "execution_count": 33,
   "id": "443dd48a-51c3-4040-ac96-a3d9b63cce82",
   "metadata": {},
   "outputs": [
    {
     "data": {
      "text/plain": [
       "28"
      ]
     },
     "execution_count": 33,
     "metadata": {},
     "output_type": "execute_result"
    }
   ],
   "source": [
    "# отсюда посчитаем количество клиентов для дроп фрода с распределением денег\n",
    "\n",
    "legit_count = legit_txns.shape[0]\n",
    "# подсчет количества транзакций равных 1% от всех транзакций\n",
    "# т.к. не все транзакции еще созданные, то считаем основываясь на количестве легальных транзакций и fraud rate\n",
    "one_perc = round(legit_count / ((1 - fraud_rate) * 100))\n",
    "# Один процент транзакций умножаем на долю транзакций дропов-распределителей и делим на максимальное количество\n",
    "# исходящих транзакций которое распределитель может сделать до детекта. Так находим сколько примерно дропов будет под такой фрод\n",
    "dist_drops_count = round(one_perc * drop_dist_share / dist_out_lim) \n",
    "dist_drops_count"
   ]
  },
  {
   "cell_type": "code",
   "execution_count": 34,
   "id": "7ee558ad-80ac-49e2-8b42-b00f2cf10f2a",
   "metadata": {},
   "outputs": [],
   "source": [
    "# Клиенты незадействованные ранее\n",
    "\n",
    "not_used_clients = clients_with_geo.loc[~clients_with_geo.client_id.isin(clients_sample_df.client_id)].copy()"
   ]
  },
  {
   "cell_type": "code",
   "execution_count": 35,
   "id": "851f96f8-c8c8-4a15-8a70-8ed56b1d1295",
   "metadata": {},
   "outputs": [],
   "source": [
    "# семплируем dist_drops_count клиентов\n",
    "\n",
    "dist_drop_clients = not_used_clients.sample(n=dist_drops_count).reset_index(drop=True)"
   ]
  },
  {
   "cell_type": "code",
   "execution_count": 36,
   "id": "4891e94f-7561-494f-9232-e9d7d9f4adc1",
   "metadata": {},
   "outputs": [
    {
     "data": {
      "text/html": [
       "<div>\n",
       "<style scoped>\n",
       "    .dataframe tbody tr th:only-of-type {\n",
       "        vertical-align: middle;\n",
       "    }\n",
       "\n",
       "    .dataframe tbody tr th {\n",
       "        vertical-align: top;\n",
       "    }\n",
       "\n",
       "    .dataframe thead th {\n",
       "        text-align: right;\n",
       "    }\n",
       "</style>\n",
       "<table border=\"1\" class=\"dataframe\">\n",
       "  <thead>\n",
       "    <tr style=\"text-align: right;\">\n",
       "      <th></th>\n",
       "      <th>client_id</th>\n",
       "      <th>district_id</th>\n",
       "      <th>birth_date</th>\n",
       "      <th>sex</th>\n",
       "      <th>region</th>\n",
       "      <th>area</th>\n",
       "      <th>timezone</th>\n",
       "      <th>lat</th>\n",
       "      <th>lon</th>\n",
       "      <th>population</th>\n",
       "      <th>home_ip</th>\n",
       "      <th>geometry</th>\n",
       "    </tr>\n",
       "  </thead>\n",
       "  <tbody>\n",
       "    <tr>\n",
       "      <th>0</th>\n",
       "      <td>52</td>\n",
       "      <td>32</td>\n",
       "      <td>1924-12-12</td>\n",
       "      <td>male</td>\n",
       "      <td>Курская</td>\n",
       "      <td>Курск</td>\n",
       "      <td>UTC+3</td>\n",
       "      <td>51.730339</td>\n",
       "      <td>36.192645</td>\n",
       "      <td>414595</td>\n",
       "      <td>2.60.0.50</td>\n",
       "      <td>MULTIPOLYGON (((36.0603 51.67692, 36.06039 51....</td>\n",
       "    </tr>\n",
       "    <tr>\n",
       "      <th>1</th>\n",
       "      <td>403</td>\n",
       "      <td>42</td>\n",
       "      <td>1973-05-26</td>\n",
       "      <td>female</td>\n",
       "      <td>Астраханская</td>\n",
       "      <td>Астрахань</td>\n",
       "      <td>UTC+4</td>\n",
       "      <td>46.365581</td>\n",
       "      <td>48.055998</td>\n",
       "      <td>520662</td>\n",
       "      <td>2.60.1.127</td>\n",
       "      <td>MULTIPOLYGON (((47.87112 46.26966, 47.87127 46...</td>\n",
       "    </tr>\n",
       "  </tbody>\n",
       "</table>\n",
       "</div>"
      ],
      "text/plain": [
       "   client_id  district_id  birth_date     sex        region       area  \\\n",
       "0         52           32  1924-12-12    male       Курская      Курск   \n",
       "1        403           42  1973-05-26  female  Астраханская  Астрахань   \n",
       "\n",
       "  timezone        lat        lon  population     home_ip  \\\n",
       "0    UTC+3  51.730339  36.192645      414595   2.60.0.50   \n",
       "1    UTC+4  46.365581  48.055998      520662  2.60.1.127   \n",
       "\n",
       "                                            geometry  \n",
       "0  MULTIPOLYGON (((36.0603 51.67692, 36.06039 51....  \n",
       "1  MULTIPOLYGON (((47.87112 46.26966, 47.87127 46...  "
      ]
     },
     "execution_count": 36,
     "metadata": {},
     "output_type": "execute_result"
    }
   ],
   "source": [
    "dist_drop_clients.head(2)"
   ]
  },
  {
   "cell_type": "code",
   "execution_count": 37,
   "id": "c8b7fe8d-200e-491a-98d1-88dfbb8dfb06",
   "metadata": {},
   "outputs": [
    {
     "data": {
      "text/plain": [
       "(28, 12)"
      ]
     },
     "execution_count": 37,
     "metadata": {},
     "output_type": "execute_result"
    }
   ],
   "source": [
    "dist_drop_clients.shape"
   ]
  },
  {
   "cell_type": "markdown",
   "id": "41bc701a-1ba4-49ee-8fd7-010714fbf90d",
   "metadata": {},
   "source": [
    "## Объект датакласса `DropDistributorCfg` конфиги для дропов распределителей"
   ]
  },
  {
   "cell_type": "code",
   "execution_count": 1015,
   "id": "07c26c2b-b46d-4e58-921b-ccd4227336a7",
   "metadata": {},
   "outputs": [],
   "source": [
    "# Импорт на время разработки\n",
    "import data_generator.configs\n",
    "importlib.reload(data_generator.configs)\n",
    "from data_generator.configs import DropDistributorCfg"
   ]
  },
  {
   "cell_type": "markdown",
   "id": "490d0ee2-5f93-4469-97f2-cd1a93df80ba",
   "metadata": {},
   "source": [
    "**Доп. конфиги из `drop.yaml`**"
   ]
  },
  {
   "cell_type": "code",
   "execution_count": 1016,
   "id": "35c248e0-7ba5-4246-9c11-260175c8a72b",
   "metadata": {},
   "outputs": [],
   "source": [
    "# временно\n",
    "\n",
    "# Общие настройки\n",
    "with open(\"./config/base.yaml\") as f:\n",
    "    base_cfg = yaml.safe_load(f)\n",
    "# Настройки фрода\n",
    "with open(\"./config/fraud.yaml\") as f:\n",
    "    fraud_cfg = yaml.safe_load(f)\n",
    "# Настройки фрода для дропов\n",
    "with open(\"./config/drops.yaml\", encoding=\"utf8\") as f:\n",
    "    drops_cfg = yaml.safe_load(f)\n",
    "# Настройки времени\n",
    "with open(\"./config/time.yaml\") as f:\n",
    "    time_cfg = yaml.safe_load(f)"
   ]
  },
  {
   "cell_type": "code",
   "execution_count": 1017,
   "id": "6e837c6b-344b-4985-aa35-dd9cb71abddc",
   "metadata": {},
   "outputs": [],
   "source": [
    "# Параметры обозначенные в config/drops.yaml\n",
    "\n",
    "dist_cfg = drops_cfg[\"distributor\"]\n",
    "dist_in_lim = dist_cfg[\"in_lim\"]\n",
    "dist_out_im = dist_cfg[\"out_lim\"]\n",
    "period_in_lim = dist_cfg[\"period_in_lim\"]\n",
    "period_out_lim = dist_cfg[\"period_out_lim\"]\n",
    "dist_lag_int = drops_cfg[\"lag_interval\"]\n",
    "two_way_delta = drops_cfg[\"two_way_delta\"]\n",
    "pos_delta = drops_cfg[\"pos_delta\"]\n",
    "split_rate = dist_cfg[\"split_rate\"]\n",
    "chunks = dist_cfg[\"chunks\"]\n",
    "dist_inbound = drops_cfg[\"inbound_amt\"]\n",
    "dist_round = dist_cfg[\"round\"]\n",
    "dist_trf_max = dist_cfg[\"trf_max\"]\n",
    "dist_reduce = dist_cfg[\"reduce_share\"]\n",
    "dist_att = dist_cfg[\"attempts\"]\n",
    "to_drops = dist_cfg[\"to_drops\"]\n",
    "crypto_rate = dist_cfg[\"crypto_rate\"]"
   ]
  },
  {
   "cell_type": "code",
   "execution_count": 1018,
   "id": "c761f555-8c53-4941-99cb-f0946e664438",
   "metadata": {},
   "outputs": [],
   "source": [
    "dist_configs = DropDistributorCfg(clients=dist_drop_clients, timestamps=timestamps, accounts=accounts, \\\n",
    "                                  outer_accounts=outer_accounts, client_devices=client_devices, atms=None, \\\n",
    "                                  online_merchant_ids=online_merchant_ids, cities=districts_ru, in_lim=dist_in_lim, \n",
    "                                  out_lim=dist_out_im, period_in_lim=period_in_lim, period_out_lim=period_out_lim, \\\n",
    "                                  lag_interval=dist_lag_int, two_way_delta=two_way_delta, pos_delta=pos_delta, \\\n",
    "                                  split_rate=split_rate, chunks=chunks, inbound_amt=dist_inbound, round=dist_round, \\\n",
    "                                  trf_max=dist_trf_max, reduce_share=dist_reduce, attempts=dist_att, to_drops=to_drops, \\\n",
    "                                  crypto_rate=crypto_rate\n",
    "                                 )"
   ]
  },
  {
   "cell_type": "markdown",
   "id": "38d40f97-305b-4daa-b418-13d9e03b6980",
   "metadata": {},
   "source": [
    "## Класс `DropPurchaserCfg` конфиги для дропов покупателей"
   ]
  },
  {
   "cell_type": "code",
   "execution_count": 237,
   "id": "c3d54cd9-1c28-4f77-b60a-230a6a41a08b",
   "metadata": {},
   "outputs": [],
   "source": [
    "@dataclass\n",
    "class DropPurchaserCfg: # <-------------------- in development. Совсем не откорректирован.\n",
    "    \"\"\"\n",
    "    Это данные на основе которых будут генерироваться транзакции дропов-покупателей\n",
    "    ---------------------\n",
    "    clients: pd.DataFrame\n",
    "    timestamps: pd.DataFrame\n",
    "    transactions: pd.DataFrame\n",
    "    accounts: pd.DataFrame. Номера счетов клиентов. \n",
    "    outer_accounts: pd.Series. Номера внешних счетов для транзакций вне банка.\n",
    "    client_devices: pd.DataFrame\n",
    "    offline_merchants: pd.DataFrame\n",
    "    categories: pd.DataFrame\n",
    "    online_merchant_ids: pd.Series\n",
    "    time_weights_dict: dict\n",
    "    rules: pd.DataFrame\n",
    "    cities: pd.DataFrame\n",
    "    fraud_amounts: pd.DataFrame\n",
    "    period_in_lim: int. Количество входящих транзакций после которых дроп уходит на паузу.\n",
    "    period_out_lim: int. Количество исходящих транзакций после которых дроп уходит на паузу.\n",
    "    lag_interval: int. Минуты. На сколько дроп должен делать паузу после\n",
    "                       достижения лимита входящих и/или исходящих транзакций.\n",
    "                       Например 1440 минут(сутки). Отсчет идет от первой транзакции в последнем периоде активности.\n",
    "    two_way_delta: dict. Минимум и максимум дельты времени. Для случаев когда дельта может быть и положительной и отрицательной.\n",
    "                         Эта дельта прибавляется к lag_interval, чтобы рандомизировать время возобновления активности,\n",
    "                         чтобы оно не было ровным. Берется из конфига drops.yaml\n",
    "    pos_delta: dict. Минимум и максимум случайной дельты времени в минутах. Для случаев когда дельта может быть только положительной.\n",
    "                          Эта дельта - промежуток между транзакциями дропа в одном периоде. Просто прибавляется ко времени последней транзакции.\n",
    "    chunks: dict. Характеристики для генератора сумм транзакций по частям.\n",
    "    inbound_amt: dict. Настройки для сумм входящих транзакций\n",
    "    round: int. Округление целой части сумм транзакций. Напр. 500 значит что суммы будут кратны 500 - кончаться на 500 или 000\n",
    "    \"\"\"\n",
    "    clients: pd.DataFrame\n",
    "    timestamps: pd.DataFrame\n",
    "    transactions: pd.DataFrame\n",
    "    accounts: pd.DataFrame\n",
    "    outer_accounts: pd.Series\n",
    "    client_devices: pd.DataFrame\n",
    "    offline_merchants: pd.DataFrame\n",
    "    categories: pd.DataFrame\n",
    "    online_merchant_ids: pd.Series\n",
    "    time_weights_dict: dict\n",
    "    rules: pd.DataFrame\n",
    "    cities: pd.DataFrame\n",
    "    fraud_amounts: pd.DataFrame\n",
    "    period_in_lim: int\n",
    "    period_out_lim: int\n",
    "    lag_interval: int\n",
    "    two_way_delta: dict\n",
    "    pos_delta: dict\n",
    "    chunks: dict\n",
    "    inbound_amt: dict\n",
    "    round: dict"
   ]
  },
  {
   "cell_type": "code",
   "execution_count": null,
   "id": "f774e608-0c45-4921-80c9-7c02a969d660",
   "metadata": {},
   "outputs": [],
   "source": []
  },
  {
   "cell_type": "markdown",
   "id": "39949f0f-61f2-4c20-8c7a-dbdba2af883c",
   "metadata": {},
   "source": [
    "## Класс `DropTxnPartData` - генерация части данных транзакции\n",
    "-  локация, мерчант id, ip адрес, device id, канал, тип транзакции. "
   ]
  },
  {
   "cell_type": "code",
   "execution_count": null,
   "id": "bd8c4308-4a9f-4b20-8cfe-c50c8c64e218",
   "metadata": {},
   "outputs": [],
   "source": [
    "class DropTxnPartData:\n",
    "    \"\"\"\n",
    "    Класс для генерации части данных о транзакции дропа:\n",
    "    канал, тип операции, мерчант, геопозиция, город, IP адрес, иногда статус.\n",
    "    ------------------\n",
    "    Атрибуты:\n",
    "    --------\n",
    "    client_info - pd.DataFrame или namedtuple. Запись с информацией о клиенте\n",
    "    online_merchant_ids- pd.Series. id онлайн мерчантов\n",
    "    client_devices - pd.DataFrame. Девайсы клиентов.\n",
    "    last_txn - tuple. Для кэширования данных любой последней транзакции.\n",
    "    \"\"\"\n",
    "    def __init__(self, configs: Union[DropDistributorCfg, DropPurchaserCfg]):\n",
    "        \"\"\"\n",
    "        configs: Один из датаклассов — DropDistributorCfg или DropPurchaserCfg.\n",
    "                 Содержит параметры и конфиги для генерации фрода.\n",
    "        \"\"\"\n",
    "        self.client_info = None\n",
    "        self.online_merchant_ids = configs.online_merchant_ids\n",
    "        self.client_devices = configs.client_devices\n",
    "        self.last_txn = None\n",
    "\n",
    "\n",
    "    def assert_client_info(self):\n",
    "        \"\"\"\n",
    "        Проверка что self.client_info не пустое\n",
    "        \"\"\"\n",
    "        assert self.client_info is not None, \\\n",
    "            f\"self.client_info is {type(self.client_info)}\"\n",
    "\n",
    "\n",
    "    def original_purchase(self, online=True, get_cached=False):\n",
    "        \"\"\"\n",
    "        Оригинальные данные клиента для операций покупок.\n",
    "        На данный момент это для дропов.\n",
    "        Для операций на криптобирже и для покупки товаров дропами\n",
    "        -------\n",
    "        online: bool.\n",
    "        get_cached: bool. Пробовать ли вернуть последние кэшированные данные\n",
    "                    вместо генерации новых.\n",
    "        \"\"\"\n",
    "        self.assert_client_info()\n",
    "\n",
    "        if get_cached and self.last_txn is not None:\n",
    "            return self.last_txn\n",
    "\n",
    "        if online:\n",
    "            merchant_id = self.online_merchant_ids.sample(n=1).iat[0]\n",
    "            # Координаты города и название\n",
    "            trans_lat = self.client_info.lat\n",
    "            trans_lon = self.client_info.lon\n",
    "            trans_ip = self.client_info.home_ip\n",
    "            trans_city = self.client_info.area        \n",
    "            # Семпл девайса клиента\n",
    "            devices = self.client_devices.loc[self.client_devices.client_id == self.client_info.client_id]\n",
    "            device_id = devices.device_id.sample(1).iloc[0]\n",
    "            txn_type = \"purchase\"\n",
    "            # Не генерируем channel. Он должен быть определен вовне\n",
    "            channel = None\n",
    "\n",
    "            self.last_txn = merchant_id, trans_lat, trans_lon, trans_ip, trans_city, \\\n",
    "                            device_id, channel, txn_type\n",
    "            self.last_txn = self.last_txn\n",
    "            return self.last_txn\n",
    "\n",
    "        \n",
    "    def original_data(self, online, receive=None):\n",
    "        \"\"\"\n",
    "        Получение оригинальных данных клиента для транзакции.\n",
    "        Пока этот метод для клиентов дропов и, возможно, для переводов мошенникам\n",
    "        ------------------------------------\n",
    "        online - bool.\n",
    "        received - bool.\n",
    "        \"\"\"\n",
    "        self.assert_client_info()\n",
    "\n",
    "        # Входящий перевод\n",
    "        if online and receive:\n",
    "            trans_ip = \"not applicable\"\n",
    "            device_id = np.nan\n",
    "            channel = \"transfer\"\n",
    "            txn_type = \"inbound\"\n",
    "            merchant_id = np.nan\n",
    "            trans_lat = np.nan\n",
    "            trans_lon = np.nan\n",
    "            trans_city = \"not applicable\"\n",
    "\n",
    "            self.last_txn = merchant_id, trans_lat, trans_lon, trans_ip, trans_city, \\\n",
    "                            device_id, channel, txn_type\n",
    "            return self.last_txn\n",
    "        \n",
    "        client_info = self.client_info\n",
    "        client_devices = self.client_devices\n",
    "        # Исходящий перевод\n",
    "        if online:\n",
    "            # Для онлайна просто берется home_ip и device_id из данных клиента.\n",
    "            trans_ip = client_info.home_ip\n",
    "            devices = client_devices.loc[client_devices.client_id == client_info.client_id]\n",
    "            device_id = devices.device_id.sample(1).iloc[0]\n",
    "            channel = \"transfer\"\n",
    "            txn_type = \"outbound\"  \n",
    "\n",
    "        # Оффлайн. Снятие в банкомате\n",
    "        elif not online:\n",
    "            trans_ip = \"not applicable\"\n",
    "            device_id = np.nan\n",
    "            channel = \"ATM\"\n",
    "            txn_type = \"withdrawal\"\n",
    "            \n",
    "        merchant_id = np.nan\n",
    "        # Локация транзакции просто записываем координаты и название города клиента\n",
    "        trans_lat = client_info.lat\n",
    "        trans_lon = client_info.lon\n",
    "        trans_city = client_info.area\n",
    "\n",
    "        self.last_txn = merchant_id, trans_lat, trans_lon, trans_ip, trans_city, \\\n",
    "                        device_id, channel, txn_type\n",
    "        return self.last_txn\n",
    "    \n",
    "    \n",
    "    def check_previous(self, dist, last_full):\n",
    "        \"\"\"\n",
    "        Решить можно ли вернуть данные последней транзакции\n",
    "        из кэша.\n",
    "        ------\n",
    "        dist: bool. Дроп распределитель или нет.\n",
    "        last_full: dict. Полные данные последней транзакции.\n",
    "                   Нужны, чтобы узнать channel.\n",
    "        \"\"\"\n",
    "        if not dist:\n",
    "            return False\n",
    "        if last_full is None:\n",
    "            return False\n",
    "        if last_full[\"channel\"] == \"crypto_exchange\":\n",
    "            return True\n",
    "        \n",
    "        return False\n",
    "\n",
    "    \n",
    "    def reset_cache(self):\n",
    "        \"\"\"\n",
    "        Сброс кэша\n",
    "        \"\"\"\n",
    "        self.last_txn = None"
   ]
  },
  {
   "cell_type": "code",
   "execution_count": 853,
   "id": "2659566f-f521-4e06-bff5-1d4599c66d5c",
   "metadata": {},
   "outputs": [
    {
     "data": {
      "text/plain": [
       "Pandas(Index=27, client_id=484, district_id=28, birth_date='1959-09-13', sex='female', region='Челябинская', area='Магнитогорск', timezone='UTC+5', lat=53.4071891, lon=58.9791432, population=408401, home_ip='2.60.1.205', geometry=<MULTIPOLYGON (((58.897 53.472, 58.899 53.472, 58.901 53.472, 58.903 53.472,...>)"
      ]
     },
     "execution_count": 853,
     "metadata": {},
     "output_type": "execute_result"
    }
   ],
   "source": [
    "# Временный импорт\n",
    "\n",
    "import data_generator.fraud.txndata\n",
    "importlib.reload(data_generator.fraud.txndata)\n",
    "from data_generator.fraud.txndata import DropTxnPartData\n",
    "\n",
    "txn_part_data_test = DropTxnPartData(configs=dist_configs)\n",
    "\n",
    "for client in dist_drop_clients.itertuples():\n",
    "    txn_part_data_test.client_info = client\n",
    "txn_part_data_test.client_info"
   ]
  },
  {
   "cell_type": "code",
   "execution_count": 854,
   "id": "ba5eeffa-123f-48b6-b676-c1d65a83fc94",
   "metadata": {},
   "outputs": [],
   "source": [
    "txn_part_data_test.last_txn"
   ]
  },
  {
   "cell_type": "code",
   "execution_count": 855,
   "id": "0dfb6612-c14d-4770-a7a0-e93839e4ebd9",
   "metadata": {},
   "outputs": [
    {
     "data": {
      "text/plain": [
       "(np.int64(6822),\n",
       " 53.4071891,\n",
       " 58.9791432,\n",
       " '2.60.1.205',\n",
       " 'Магнитогорск',\n",
       " np.int64(839),\n",
       " None,\n",
       " 'purchase')"
      ]
     },
     "execution_count": 855,
     "metadata": {},
     "output_type": "execute_result"
    }
   ],
   "source": [
    "get_cached = txn_part_data_test.check_previous(dist=True, last_full=None)\n",
    "txn_part_data_test.original_purchase(online=True, get_cached=get_cached)"
   ]
  },
  {
   "cell_type": "code",
   "execution_count": 856,
   "id": "77c014ee-098a-4bf5-b100-cc2910e1af27",
   "metadata": {},
   "outputs": [
    {
     "data": {
      "text/plain": [
       "(np.int64(6822),\n",
       " 53.4071891,\n",
       " 58.9791432,\n",
       " '2.60.1.205',\n",
       " 'Магнитогорск',\n",
       " np.int64(839),\n",
       " None,\n",
       " 'purchase')"
      ]
     },
     "execution_count": 856,
     "metadata": {},
     "output_type": "execute_result"
    }
   ],
   "source": [
    "last_full = {\"channel\":\"crypto_exchange\"}\n",
    "get_cached = txn_part_data_test.check_previous(dist=True, last_full=last_full)\n",
    "txn_part_data_test.original_purchase(online=True, get_cached=get_cached)\n",
    "# merchant_id, trans_lat, trans_lon, trans_ip, trans_city, device_id, channel, txn_type"
   ]
  },
  {
   "cell_type": "code",
   "execution_count": 857,
   "id": "2fe754b2-a658-4fe9-bf8c-181037dbfddf",
   "metadata": {},
   "outputs": [
    {
     "data": {
      "text/plain": [
       "(np.int64(6853),\n",
       " 53.4071891,\n",
       " 58.9791432,\n",
       " '2.60.1.205',\n",
       " 'Магнитогорск',\n",
       " np.int64(839),\n",
       " None,\n",
       " 'purchase')"
      ]
     },
     "execution_count": 857,
     "metadata": {},
     "output_type": "execute_result"
    }
   ],
   "source": [
    "last_full = {\"channel\":\"crypto_exchange\"}\n",
    "get_cached = txn_part_data_test.check_previous(dist=False, last_full=last_full)\n",
    "txn_part_data_test.original_purchase(online=True, get_cached=get_cached)"
   ]
  },
  {
   "cell_type": "code",
   "execution_count": 488,
   "id": "77d25f37-3726-4b47-99c0-e58aaf80b9b8",
   "metadata": {},
   "outputs": [
    {
     "data": {
      "text/plain": [
       "(nan,\n",
       " 53.4071891,\n",
       " 58.9791432,\n",
       " 'not applicable',\n",
       " 'Магнитогорск',\n",
       " nan,\n",
       " 'ATM',\n",
       " 'withdrawal')"
      ]
     },
     "execution_count": 488,
     "metadata": {},
     "output_type": "execute_result"
    }
   ],
   "source": [
    "txn_part_data_test.original_data(online=False)"
   ]
  },
  {
   "cell_type": "code",
   "execution_count": 489,
   "id": "c33463cc-43a0-4b7c-9c82-19a61c444cd1",
   "metadata": {},
   "outputs": [
    {
     "data": {
      "text/plain": [
       "(nan,\n",
       " 53.4071891,\n",
       " 58.9791432,\n",
       " 'not applicable',\n",
       " 'Магнитогорск',\n",
       " nan,\n",
       " 'ATM',\n",
       " 'withdrawal')"
      ]
     },
     "execution_count": 489,
     "metadata": {},
     "output_type": "execute_result"
    }
   ],
   "source": [
    "txn_part_data_test.last_txn"
   ]
  },
  {
   "cell_type": "code",
   "execution_count": 490,
   "id": "c6e228e0-30ae-407a-bfc3-77d8208de38d",
   "metadata": {},
   "outputs": [],
   "source": [
    "txn_part_data_test.reset_cache()\n",
    "txn_part_data_test.last_txn"
   ]
  },
  {
   "cell_type": "code",
   "execution_count": null,
   "id": "29d0ad56-b2bb-4e47-9b5f-27b3c144f1c2",
   "metadata": {},
   "outputs": [],
   "source": []
  },
  {
   "cell_type": "markdown",
   "id": "ce779776-cb0b-437b-8f47-cb04122e0437",
   "metadata": {},
   "source": [
    "## Объект класса `DropTxnPartData` для распределителей\n",
    "- генерация части данных транзакции"
   ]
  },
  {
   "cell_type": "code",
   "execution_count": 92,
   "id": "bc277e88-ecc1-4dca-9899-414dee8bda8e",
   "metadata": {},
   "outputs": [],
   "source": [
    "part_txn_data_dist = DropTxnPartData(configs=dist_configs)"
   ]
  },
  {
   "attachments": {},
   "cell_type": "markdown",
   "id": "9ddb6614-929c-4818-b90c-17786109d3c3",
   "metadata": {},
   "source": [
    "## Класс `DropAccountHandler`"
   ]
  },
  {
   "cell_type": "code",
   "execution_count": 484,
   "id": "fb804981-e1ab-40b5-a287-66b7057a3608",
   "metadata": {},
   "outputs": [],
   "source": [
    "class DropAccountHandler:\n",
    "    \"\"\"\n",
    "    Генератор номеров счетов входящих/исходящих транзакций.\n",
    "    Учет использованных счетов.\n",
    "    \"\"\"\n",
    "    def __init__(self, configs: DropConfigs, client_id, used_accounts=pd.Series(name=\"account_id\")):\n",
    "        \"\"\"\n",
    "        configs - pd.DataFrame. Данные для создания транзакций: номера счетов клиентов и внешних счетов, и др.\n",
    "        client_id - int. id текущего дропа.\n",
    "        used_accounts - pd.Series. Счета на которые дропы уже отправляли деньги.\n",
    "        \"\"\"\n",
    "        self.accounts = configs.accounts\n",
    "        self.outer_accounts = configs.outer_accounts\n",
    "        self.client_id = client_id\n",
    "        # self.account = 0\n",
    "        self.account = configs.accounts.loc[configs.accounts.client_id == client_id, \"account_id\"].iat[0]\n",
    "        self.used_accounts = used_accounts\n",
    "\n",
    "    def get_account(self, to_drop):\n",
    "        \"\"\"\n",
    "        Номер счета входящего/исходящего перевода\n",
    "        to_drop - bool. Перевод другому дропу в нашем банке или нет.\n",
    "        \"\"\"\n",
    "        # Если отправляем/получаем из другого банка.  \n",
    "        if not to_drop:\n",
    "            # Семплируем номер внешнего счета который еще не использовался\n",
    "            account = self.outer_accounts.loc[~(self.outer_accounts.isin(self.used_accounts))].sample(1).iat[0]\n",
    "            # Добавляем этот счет в использованные как последнюю запись в серии\n",
    "            self.used_accounts.loc[self.used_accounts.shape[0]] = account\n",
    "            return account\n",
    "        \n",
    "        # Если надо отправить другому дропу в нашем банке. При условии что есть другие дропы на текущий момент\n",
    "        # Фильтруем accounts исключая свой счет и использованные счета, и выбирая дропов. Для случая если to_drop\n",
    "        drop_accounts = self.accounts.loc[(self.accounts.client_id != self.client_id) & (self.accounts.is_drop == True) \\\n",
    "                                          & ~(self.accounts.account_id.isin(self.used_accounts))]\n",
    "        \n",
    "        # Если счетов дропов ещё нет. Берем внешний неиспользованный счет\n",
    "        if drop_accounts.empty:\n",
    "            account = self.outer_accounts.loc[~(self.outer_accounts.isin(self.used_accounts))].sample(1).iat[0]\n",
    "            self.used_accounts.loc[self.used_accounts.shape[0]] = account\n",
    "            return account\n",
    "\n",
    "        # Дропы есть\n",
    "        account = drop_accounts.account_id.sample(1).iat[0]\n",
    "        # Добавляем этот счет в использованные как последнюю запись в серии\n",
    "        self.used_accounts.loc[self.used_accounts.shape[0]] = account\n",
    "        return account\n",
    "\n",
    "\n",
    "    def reset_cache(self):\n",
    "        \"\"\"\n",
    "        Сброс кэшированных значений.\n",
    "        Это только использованные номера счетов\n",
    "        \"\"\"\n",
    "        self.used_accounts = pd.Series(name=\"account_id\")"
   ]
  },
  {
   "cell_type": "markdown",
   "id": "7ad480ac-a6d9-441c-b9a8-a74b4317d614",
   "metadata": {},
   "source": [
    "**Тест `DropAccountHandler`**"
   ]
  },
  {
   "cell_type": "code",
   "execution_count": 703,
   "id": "b72a9f22-a462-48a5-add0-58f66fed9515",
   "metadata": {},
   "outputs": [],
   "source": [
    "# импорт на время разработки\n",
    "\n",
    "import data_generator.fraud.drops.base\n",
    "importlib.reload(data_generator.fraud.drops.base)\n",
    "from data_generator.fraud.drops.base import DropAccountHandler"
   ]
  },
  {
   "cell_type": "code",
   "execution_count": 704,
   "id": "906163ab-8fd8-4081-acae-4595e475cb24",
   "metadata": {},
   "outputs": [],
   "source": [
    "drop_acc_hand1 = DropAccountHandler(configs=dist_configs)"
   ]
  },
  {
   "cell_type": "code",
   "execution_count": 705,
   "id": "62193c78-e3b2-4783-aa1d-8dcf705af455",
   "metadata": {},
   "outputs": [],
   "source": [
    "drop_acc_hand1.client_id = 1"
   ]
  },
  {
   "cell_type": "code",
   "execution_count": 685,
   "id": "aa8318ef-b7e8-4790-9bc4-f00d028b19bc",
   "metadata": {},
   "outputs": [
    {
     "data": {
      "text/plain": [
       "np.int64(10000)"
      ]
     },
     "execution_count": 685,
     "metadata": {},
     "output_type": "execute_result"
    }
   ],
   "source": [
    "drop_acc_hand1.get_account(own=True)\n",
    "drop_acc_hand1.account"
   ]
  },
  {
   "cell_type": "code",
   "execution_count": 520,
   "id": "7b2f697c-1a71-4ea8-a75a-f3d8ac10e9b2",
   "metadata": {},
   "outputs": [
    {
     "data": {
      "text/plain": [
       "np.int64(18331)"
      ]
     },
     "execution_count": 520,
     "metadata": {},
     "output_type": "execute_result"
    }
   ],
   "source": [
    "drop_acc_hand1.get_account()"
   ]
  },
  {
   "cell_type": "code",
   "execution_count": 521,
   "id": "70177fce-dde6-4f6e-9f12-500feba2ce42",
   "metadata": {},
   "outputs": [
    {
     "data": {
      "text/plain": [
       "0    18331\n",
       "Name: account_id, dtype: int64"
      ]
     },
     "execution_count": 521,
     "metadata": {},
     "output_type": "execute_result"
    }
   ],
   "source": [
    "drop_acc_hand1.used_accounts"
   ]
  },
  {
   "cell_type": "code",
   "execution_count": 541,
   "id": "4f28cf59-94f0-4338-a623-7f9712b264f9",
   "metadata": {},
   "outputs": [],
   "source": [
    "drop_acc_hand1.label_drop()"
   ]
  },
  {
   "cell_type": "code",
   "execution_count": 687,
   "id": "b93cf7a2-a669-4121-9763-41df3ea0bd2c",
   "metadata": {},
   "outputs": [
    {
     "data": {
      "text/html": [
       "<div>\n",
       "<style scoped>\n",
       "    .dataframe tbody tr th:only-of-type {\n",
       "        vertical-align: middle;\n",
       "    }\n",
       "\n",
       "    .dataframe tbody tr th {\n",
       "        vertical-align: top;\n",
       "    }\n",
       "\n",
       "    .dataframe thead th {\n",
       "        text-align: right;\n",
       "    }\n",
       "</style>\n",
       "<table border=\"1\" class=\"dataframe\">\n",
       "  <thead>\n",
       "    <tr style=\"text-align: right;\">\n",
       "      <th></th>\n",
       "      <th>client_id</th>\n",
       "      <th>account_id</th>\n",
       "      <th>is_drop</th>\n",
       "    </tr>\n",
       "  </thead>\n",
       "  <tbody>\n",
       "    <tr>\n",
       "      <th>0</th>\n",
       "      <td>1</td>\n",
       "      <td>10000</td>\n",
       "      <td>True</td>\n",
       "    </tr>\n",
       "    <tr>\n",
       "      <th>1</th>\n",
       "      <td>2</td>\n",
       "      <td>10001</td>\n",
       "      <td>False</td>\n",
       "    </tr>\n",
       "  </tbody>\n",
       "</table>\n",
       "</div>"
      ],
      "text/plain": [
       "   client_id  account_id  is_drop\n",
       "0          1       10000     True\n",
       "1          2       10001    False"
      ]
     },
     "execution_count": 687,
     "metadata": {},
     "output_type": "execute_result"
    }
   ],
   "source": [
    "drop_acc_hand1.accounts.head(2)"
   ]
  },
  {
   "cell_type": "code",
   "execution_count": 545,
   "id": "6b5163c1-3a02-4079-a5f1-3b68704e027c",
   "metadata": {},
   "outputs": [],
   "source": [
    "drop_acc_hand1.client_id = 99"
   ]
  },
  {
   "cell_type": "code",
   "execution_count": 686,
   "id": "c4ba62e4-e151-424a-bbf0-8396826facc0",
   "metadata": {},
   "outputs": [],
   "source": [
    "drop_acc_hand1.get_account(own=True)\n",
    "drop_acc_hand1.label_drop()"
   ]
  },
  {
   "cell_type": "code",
   "execution_count": 688,
   "id": "9cc44296-8e7c-4e18-ae85-d2bb1641ee70",
   "metadata": {},
   "outputs": [
    {
     "data": {
      "text/html": [
       "<div>\n",
       "<style scoped>\n",
       "    .dataframe tbody tr th:only-of-type {\n",
       "        vertical-align: middle;\n",
       "    }\n",
       "\n",
       "    .dataframe tbody tr th {\n",
       "        vertical-align: top;\n",
       "    }\n",
       "\n",
       "    .dataframe thead th {\n",
       "        text-align: right;\n",
       "    }\n",
       "</style>\n",
       "<table border=\"1\" class=\"dataframe\">\n",
       "  <thead>\n",
       "    <tr style=\"text-align: right;\">\n",
       "      <th></th>\n",
       "      <th>client_id</th>\n",
       "      <th>account_id</th>\n",
       "      <th>is_drop</th>\n",
       "    </tr>\n",
       "  </thead>\n",
       "  <tbody>\n",
       "    <tr>\n",
       "      <th>93</th>\n",
       "      <td>99</td>\n",
       "      <td>10093</td>\n",
       "      <td>False</td>\n",
       "    </tr>\n",
       "  </tbody>\n",
       "</table>\n",
       "</div>"
      ],
      "text/plain": [
       "    client_id  account_id  is_drop\n",
       "93         99       10093    False"
      ]
     },
     "execution_count": 688,
     "metadata": {},
     "output_type": "execute_result"
    }
   ],
   "source": [
    "drop_acc_hand1.accounts.query(\"client_id == 99\")"
   ]
  },
  {
   "cell_type": "markdown",
   "id": "82e61636-7626-493a-b478-2b9612b56195",
   "metadata": {},
   "source": [
    "**`to_drop=True`**  нет дропов в self.accounts  (кроме текущего дропа)"
   ]
  },
  {
   "cell_type": "code",
   "execution_count": 689,
   "id": "45d188f3-513f-492d-bbc4-85fccdb3e0f3",
   "metadata": {},
   "outputs": [],
   "source": [
    "own_id = drop_acc_hand1.client_id"
   ]
  },
  {
   "cell_type": "code",
   "execution_count": 691,
   "id": "768e20f3-7379-4eb4-80db-e392150bc223",
   "metadata": {},
   "outputs": [
    {
     "data": {
      "text/html": [
       "<div>\n",
       "<style scoped>\n",
       "    .dataframe tbody tr th:only-of-type {\n",
       "        vertical-align: middle;\n",
       "    }\n",
       "\n",
       "    .dataframe tbody tr th {\n",
       "        vertical-align: top;\n",
       "    }\n",
       "\n",
       "    .dataframe thead th {\n",
       "        text-align: right;\n",
       "    }\n",
       "</style>\n",
       "<table border=\"1\" class=\"dataframe\">\n",
       "  <thead>\n",
       "    <tr style=\"text-align: right;\">\n",
       "      <th></th>\n",
       "      <th>client_id</th>\n",
       "      <th>account_id</th>\n",
       "      <th>is_drop</th>\n",
       "    </tr>\n",
       "  </thead>\n",
       "  <tbody>\n",
       "  </tbody>\n",
       "</table>\n",
       "</div>"
      ],
      "text/plain": [
       "Empty DataFrame\n",
       "Columns: [client_id, account_id, is_drop]\n",
       "Index: []"
      ]
     },
     "execution_count": 691,
     "metadata": {},
     "output_type": "execute_result"
    }
   ],
   "source": [
    "drop_acc_hand1.accounts.query(\"client_id != @own_id and is_drop == True\")"
   ]
  },
  {
   "cell_type": "code",
   "execution_count": 694,
   "id": "97714e7a-7183-4df5-8d33-67cd5e36a7d8",
   "metadata": {},
   "outputs": [
    {
     "data": {
      "text/plain": [
       "4920    20289\n",
       "Name: account_id, dtype: int64"
      ]
     },
     "execution_count": 694,
     "metadata": {},
     "output_type": "execute_result"
    }
   ],
   "source": [
    "drop_acc_hand1.reset_cache()\n",
    "outer_acc1 = drop_acc_hand1.get_account(to_drop=True)\n",
    "drop_acc_hand1.outer_accounts.loc[drop_acc_hand1.outer_accounts == outer_acc1]"
   ]
  },
  {
   "cell_type": "code",
   "execution_count": 695,
   "id": "ba98c4ed-c11f-49ed-8bc2-c6f768a5392a",
   "metadata": {},
   "outputs": [
    {
     "data": {
      "text/plain": [
       "0    20289\n",
       "Name: account_id, dtype: int64"
      ]
     },
     "execution_count": 695,
     "metadata": {},
     "output_type": "execute_result"
    }
   ],
   "source": [
    "drop_acc_hand1.used_accounts"
   ]
  },
  {
   "cell_type": "markdown",
   "id": "3c9b85bf-89c2-4758-8b73-0f8ebc3290d0",
   "metadata": {},
   "source": [
    "**`to_drop=True`** кол-во дропов в self.accounts меньше чем self.min_drops"
   ]
  },
  {
   "cell_type": "code",
   "execution_count": 710,
   "id": "9660a0cb-1c72-486e-b889-94bc3903e8d8",
   "metadata": {},
   "outputs": [
    {
     "name": "stdout",
     "output_type": "stream",
     "text": [
      "6\n"
     ]
    },
    {
     "data": {
      "text/plain": [
       "5"
      ]
     },
     "execution_count": 710,
     "metadata": {},
     "output_type": "execute_result"
    }
   ],
   "source": [
    "drop_acc_hand1.reset_cache()\n",
    "min_drops = dist_configs.to_drops[\"min_drops\"]\n",
    "print(min_drops)\n",
    "drop_acc_hand1.accounts[\"is_drop\"] = False\n",
    "drop_acc_hand1.get_account(own=True)\n",
    "\n",
    "accs_samp = drop_acc_hand1.accounts.query(\"client_id != @own_id\").client_id.sample(n=min_drops - 1)\n",
    "drop_acc_hand1.accounts.loc[drop_acc_hand1.accounts.client_id.isin(accs_samp), \"is_drop\"] = True\n",
    "drop_acc_hand1.accounts.query(\"client_id != @own_id and is_drop == True\").shape[0]"
   ]
  },
  {
   "cell_type": "code",
   "execution_count": 711,
   "id": "bcbfd749-53b8-407d-b1b0-1b9209aa8dee",
   "metadata": {},
   "outputs": [
    {
     "data": {
      "text/plain": [
       "np.int64(21917)"
      ]
     },
     "execution_count": 711,
     "metadata": {},
     "output_type": "execute_result"
    }
   ],
   "source": [
    "outer_acc2 = drop_acc_hand1.get_account(to_drop=True)\n",
    "outer_acc2"
   ]
  },
  {
   "cell_type": "code",
   "execution_count": 712,
   "id": "692b2944-3580-47eb-a725-9814979bfe39",
   "metadata": {},
   "outputs": [
    {
     "data": {
      "text/plain": [
       "6548    21917\n",
       "Name: account_id, dtype: int64"
      ]
     },
     "execution_count": 712,
     "metadata": {},
     "output_type": "execute_result"
    }
   ],
   "source": [
    "drop_acc_hand1.outer_accounts.loc[drop_acc_hand1.outer_accounts == outer_acc2]"
   ]
  },
  {
   "cell_type": "code",
   "execution_count": 713,
   "id": "0261fe16-4dd6-4cba-bad3-74b85d90714d",
   "metadata": {},
   "outputs": [
    {
     "data": {
      "text/plain": [
       "0    21917\n",
       "Name: account_id, dtype: int64"
      ]
     },
     "execution_count": 713,
     "metadata": {},
     "output_type": "execute_result"
    }
   ],
   "source": [
    "drop_acc_hand1.used_accounts"
   ]
  },
  {
   "cell_type": "markdown",
   "id": "36dfbc83-c7ca-4a42-aefc-2dd8437d2ea1",
   "metadata": {},
   "source": [
    "**`to_drop=True`** кол-во дропов в self.accounts `>=` self.min_drops"
   ]
  },
  {
   "cell_type": "code",
   "execution_count": 714,
   "id": "089cbcf9-1c08-4ab6-ad0f-091035ac8f43",
   "metadata": {},
   "outputs": [
    {
     "name": "stdout",
     "output_type": "stream",
     "text": [
      "6\n"
     ]
    },
    {
     "data": {
      "text/plain": [
       "6"
      ]
     },
     "execution_count": 714,
     "metadata": {},
     "output_type": "execute_result"
    }
   ],
   "source": [
    "drop_acc_hand1.reset_cache()\n",
    "min_drops = dist_configs.to_drops[\"min_drops\"]\n",
    "print(min_drops)\n",
    "drop_acc_hand1.accounts[\"is_drop\"] = False\n",
    "drop_acc_hand1.get_account(own=True)\n",
    "\n",
    "accs_samp3 = drop_acc_hand1.accounts.query(\"client_id != @own_id\").client_id.sample(n=min_drops)\n",
    "drop_acc_hand1.accounts.loc[drop_acc_hand1.accounts.client_id.isin(accs_samp3), \"is_drop\"] = True\n",
    "drop_acc_hand1.accounts.query(\"client_id != @own_id and is_drop == True\").shape[0]"
   ]
  },
  {
   "cell_type": "code",
   "execution_count": 715,
   "id": "893a152b-652b-4ae2-ba00-30ef89ddf9ed",
   "metadata": {},
   "outputs": [
    {
     "data": {
      "text/plain": [
       "np.int64(13694)"
      ]
     },
     "execution_count": 715,
     "metadata": {},
     "output_type": "execute_result"
    }
   ],
   "source": [
    "drop_acc1 = drop_acc_hand1.get_account(to_drop=True)\n",
    "drop_acc1"
   ]
  },
  {
   "cell_type": "code",
   "execution_count": 717,
   "id": "8e600194-754c-4c54-a3ce-d5c73f583935",
   "metadata": {},
   "outputs": [
    {
     "data": {
      "text/html": [
       "<div>\n",
       "<style scoped>\n",
       "    .dataframe tbody tr th:only-of-type {\n",
       "        vertical-align: middle;\n",
       "    }\n",
       "\n",
       "    .dataframe tbody tr th {\n",
       "        vertical-align: top;\n",
       "    }\n",
       "\n",
       "    .dataframe thead th {\n",
       "        text-align: right;\n",
       "    }\n",
       "</style>\n",
       "<table border=\"1\" class=\"dataframe\">\n",
       "  <thead>\n",
       "    <tr style=\"text-align: right;\">\n",
       "      <th></th>\n",
       "      <th>client_id</th>\n",
       "      <th>account_id</th>\n",
       "      <th>is_drop</th>\n",
       "    </tr>\n",
       "  </thead>\n",
       "  <tbody>\n",
       "    <tr>\n",
       "      <th>3694</th>\n",
       "      <td>3904</td>\n",
       "      <td>13694</td>\n",
       "      <td>True</td>\n",
       "    </tr>\n",
       "  </tbody>\n",
       "</table>\n",
       "</div>"
      ],
      "text/plain": [
       "      client_id  account_id  is_drop\n",
       "3694       3904       13694     True"
      ]
     },
     "execution_count": 717,
     "metadata": {},
     "output_type": "execute_result"
    }
   ],
   "source": [
    "drop_acc_hand1.accounts.loc[drop_acc_hand1.accounts.account_id == drop_acc1]"
   ]
  },
  {
   "cell_type": "code",
   "execution_count": null,
   "id": "e0910c0a-8dae-4e5f-8ab0-62c141e14463",
   "metadata": {},
   "outputs": [],
   "source": []
  },
  {
   "cell_type": "markdown",
   "id": "50d8d7cd-89a2-49a0-adef-3c5e5fb0ab3e",
   "metadata": {},
   "source": [
    "## Класс `DropAmountHandler`"
   ]
  },
  {
   "cell_type": "code",
   "execution_count": null,
   "id": "d4e2fada-c7a7-4268-a71f-a6dce6f52735",
   "metadata": {},
   "outputs": [],
   "source": [
    "# class DropAmountHandler: \n",
    "#     \"\"\"\n",
    "#     Генератор сумм входящих/исходящих транзакций, сумм снятий.\n",
    "#     Управление балансом текущего дропа.\n",
    "#     -------------\n",
    "#     Атрибуты:\n",
    "#     balance: float, int. Текущий баланс дропа. По умолчанию 0.\n",
    "#     batch_txns: int. Счетчик транзакций сделанных в рамках распределения полученной партии денег.\n",
    "#                       По умолчанию 0.\n",
    "#     chunk_size: int, float. Последний созданный размер части баланса для перевода по частям\n",
    "#                              По умолчанию 0.\n",
    "#     chunks: dict. Содержит ключи:\n",
    "#         atm_min: int. Минимальная сумма для снятий в банкомате.\n",
    "#         atm_share: float. Доля от баланса, которую дроп снимает в случае снятия в банкомате\n",
    "#         low: int. Минимальная сумма исходящего перевода частями.\n",
    "#         high: int. Максимальная сумма исходящего перевода частями.\n",
    "#         step: int. Шаг возможных сумм. Чем меньше шаг, тем больше вариантов.\n",
    "#         rand_rate: float. От 0 до 1.\n",
    "#                    Процент случаев, когда каждый НЕ первый чанк будет случайным и не зависеть от предыдущего.\n",
    "#                    Но возможны случайные совпадаения с предыдущим размером чанка.\n",
    "#                    Доля случайных размеров подряд будет:\n",
    "#                    p(c) - вероятность взять определенный размер (зависит от размера выборки чанков)\n",
    "#                    p(r) - rand_rate\n",
    "#                    p(r) - (p(r) * p(c)). Например p(r) = 0.9; и 5 вариантов размеров чанка - p(c) = 0.20\n",
    "#                    0.9 - (0.9 * 0.2) = 0.72\n",
    "#                    В около 72% случаев размеры чанков не будут подряд одинаковыми \n",
    "#     inbound_amt: dict. Настройки для сумм входящих транзакций. Содержит ключи:\n",
    "#         low: int\n",
    "#         high: int\n",
    "#         mean: int\n",
    "#         std: int\n",
    "#     round: int. Округление целой части сумм транзакций. Напр. 500 значит что суммы будут кратны 500 - кончаться на 500 или 000                  \n",
    "#     \"\"\"\n",
    "\n",
    "#     def __init__(self, configs: DropDistributorCfg | DropPurchaserCfg):\n",
    "#         \"\"\"\n",
    "#         configs: DropDistributorCfg | DropPurchaserCfg. Данные на основании, которых генерируются транзакции.\n",
    "#                  Отсюда берутся: atm_min, atm_share, min, step, rand_rate.\n",
    "#         \"\"\"\n",
    "#         self.balance = 0\n",
    "#         self.batch_txns = 0\n",
    "#         self.chunk_size = 0\n",
    "#         self.chunks = configs.chunks.copy()\n",
    "#         self.inbound_amt = configs.inbound_amt.copy()\n",
    "#         self.round = configs.round\n",
    "#         # self.atm_min = configs.chunks[\"atm_min\"]\n",
    "#         # self.atm_share = configs.chunks[\"atm_share\"]\n",
    "#         # self.min = configs.chunks[\"min\"]\n",
    "#         # self.max = configs.chunks[\"max\"]\n",
    "#         # self.step = configs.chunks[\"step\"]\n",
    "#         # self.rand_rate = configs.chunks[\"rand_rate\"]\n",
    "\n",
    "#     def update_balance(self, amount, receive=False, declined=False):\n",
    "#         \"\"\"\n",
    "#         Увеличить/уменьшить баланс на указанную сумму\n",
    "#         -------------------\n",
    "#         amount - float, int.\n",
    "#         receive - bool. Входящая ли транзакция. Прибавлять сумму или отнимать.\n",
    "#         declined - bool. Отклонена ли транзакция или одобрена.\n",
    "#         \"\"\"\n",
    "#         # Не обновлять баланс если транзакция отклонена.\n",
    "#         if declined:\n",
    "#             return\n",
    "            \n",
    "#         # Увеличить баланс   \n",
    "#         if receive:\n",
    "#             self.balance += amount\n",
    "#             return\n",
    "            \n",
    "#         # Уменьшить баланс    \n",
    "#         self.balance -= amount\n",
    "\n",
    "#     def receive(self, declined):\n",
    "#         \"\"\"\n",
    "#         Генерация суммы входящего перевода\n",
    "#         --------------------------\n",
    "#         declined - bool. Отклонена ли транзакция или одобрена\n",
    "#         \"\"\"\n",
    "#         low = self.inbound_amt[\"low\"]\n",
    "#         high = self.inbound_amt[\"high\"]\n",
    "#         mean = self.inbound_amt[\"mean\"]\n",
    "#         std = self.inbound_amt[\"std\"]\n",
    "\n",
    "#         # Генерация суммы. Округление целой части при необходимости\n",
    "#         amount = get_values_from_truncnorm(low_bound=low, high_bound=high, mean=mean, std=std)[0] // self.round * self.round\n",
    "        \n",
    "#         # Обновляем баланс если транзакция не отклонена\n",
    "#         self.update_balance(amount=amount, receive=True, declined=declined)\n",
    "        \n",
    "#         return amount\n",
    "\n",
    "#     def get_chunk_size(self, online=False):\n",
    "#         \"\"\"\n",
    "#         Вернуть случайный размер суммы перевода для перевода по частям\n",
    "#         либо вернуть долю от баланса для снятия/перевода по частям.\n",
    "#         -------------------------------\n",
    "#         online - bool. Онлайн или оффлайн. Перевод или банкомат. Если банкомат, то снимается доля self.chunks[\"atm_share\"] от баланса, \n",
    "#                  но не меньше self.chunks[\"atm_min\"]\n",
    "#         --------------------\n",
    "#         Возвращает np.int64\n",
    "#         Результат кэшируется в self.chunk_size\n",
    "#         \"\"\"\n",
    "#         # Если это не первая транзакция в серии транзакции для одной полученной дропом суммы\n",
    "#         # И случайное число больше rand_rate, то просто возвращаем ранее созданный размер чанка\n",
    "#         rand_rate = self.chunks[\"rand_rate\"]\n",
    "#         if self.batch_txns != 0 and np.random.uniform(0,1) > rand_rate:\n",
    "#             return self.chunk_size\n",
    "\n",
    "#         # Если снятие\n",
    "#         if not online:\n",
    "#             atm_min = self.chunks[\"atm_min\"]\n",
    "#             atm_share = self.chunks[\"atm_share\"]\n",
    "#             self.chunk_size = max(atm_min, self.balance * atm_share // self.round * self.round)\n",
    "#             return self.chunk_size\n",
    "        \n",
    "#         # Если перевод. \n",
    "#         # Берем лимиты под генерацию массива чанков, в зависимости от\n",
    "#         # полученной дропом суммы\n",
    "#         small = self.chunks[\"rcvd_small\"]\n",
    "#         medium = self.chunks[\"rcvd_medium\"] \n",
    "#         large = self.chunks[\"rcvd_large\"]\n",
    "#         step = self.chunks[\"step\"]\n",
    "\n",
    "#         if self.balance <= small[\"limit\"]:\n",
    "#             low = min(self.balance, small[\"min\"]) # но не больше суммы на балансе\n",
    "#             high = min(self.balance, small[\"max\"]) # но не больше суммы на балансе\n",
    "\n",
    "#         elif self.balance <= medium[\"limit\"]:\n",
    "#             low = min(self.balance, medium[\"min\"])\n",
    "#             high = min(self.balance, medium[\"max\"])\n",
    "\n",
    "#         else:\n",
    "#             low = min(self.balance, large[\"min\"])\n",
    "#             high = min(self.balance, large[\"max\"])\n",
    "   \n",
    "#         # прибавим шаг к максимуму, чтобы было понятнее передавать аргументы в конфиге \n",
    "#         # и не учитывать исключение значения stop в np.arange\n",
    "#         sampling_array = np.arange(low, high + step, step)\n",
    "#         # Если чанк больше бал\n",
    "#         self.chunk_size = np.random.choice(sampling_array)\n",
    "#         return self.chunk_size"
   ]
  },
  {
   "cell_type": "markdown",
   "id": "875e6b2e-9908-4310-8e40-7e4865122b2e",
   "metadata": {},
   "source": [
    "**Тест `DropAmountHandler`**"
   ]
  },
  {
   "cell_type": "code",
   "execution_count": 971,
   "id": "6d2c3ceb-e3e8-477b-a3f7-f02995bb270b",
   "metadata": {},
   "outputs": [],
   "source": [
    "# импорт на время разработки\n",
    "\n",
    "import data_generator.fraud.drops.base\n",
    "importlib.reload(data_generator.fraud.drops.base)\n",
    "from data_generator.fraud.drops.base import DropAmountHandler\n",
    "drop_amt1 = DropAmountHandler(configs=dist_configs)"
   ]
  },
  {
   "cell_type": "code",
   "execution_count": 875,
   "id": "757416b7-57e8-43ea-8216-b26ce1f9a56e",
   "metadata": {},
   "outputs": [
    {
     "data": {
      "text/plain": [
       "{'atm_min': 10000,\n",
       " 'atm_share': {'min': 0.3, 'max': 0.7},\n",
       " 'step': 1000,\n",
       " 'rand_rate': 0.9,\n",
       " 'rcvd_small': {'limit': 10000, 'min': 3000, 'max': 10000},\n",
       " 'rcvd_medium': {'limit': 30000, 'min': 5000, 'max': 25000},\n",
       " 'rcvd_large': {'min': 10000, 'max': 40000}}"
      ]
     },
     "execution_count": 875,
     "metadata": {},
     "output_type": "execute_result"
    }
   ],
   "source": [
    "drop_amt1.chunks"
   ]
  },
  {
   "cell_type": "code",
   "execution_count": 97,
   "id": "088eb415-8574-454d-a95f-c73861462863",
   "metadata": {},
   "outputs": [
    {
     "data": {
      "text/plain": [
       "(0, 0, 0)"
      ]
     },
     "execution_count": 97,
     "metadata": {},
     "output_type": "execute_result"
    }
   ],
   "source": [
    "drop_amt1.balance, drop_amt1.batch_txns, drop_amt1.chunk_size"
   ]
  },
  {
   "cell_type": "code",
   "execution_count": 883,
   "id": "760741f0-627d-4262-9a9d-9329e53c8a40",
   "metadata": {},
   "outputs": [
    {
     "data": {
      "text/plain": [
       "0.6118701379189273"
      ]
     },
     "execution_count": 883,
     "metadata": {},
     "output_type": "execute_result"
    }
   ],
   "source": [
    "drop_amt1.get_atm_share"
   ]
  },
  {
   "cell_type": "code",
   "execution_count": 606,
   "id": "bb326e2d-63fc-4ea1-a089-0a4ce5e343cb",
   "metadata": {},
   "outputs": [],
   "source": [
    "# drop_amt1.chunks, drop_amt1.receive, drop_amt1.round"
   ]
  },
  {
   "cell_type": "code",
   "execution_count": 650,
   "id": "d52618f1-fb13-4d50-85ff-426c00b8a347",
   "metadata": {},
   "outputs": [
    {
     "data": {
      "text/plain": [
       "0"
      ]
     },
     "execution_count": 650,
     "metadata": {},
     "output_type": "execute_result"
    }
   ],
   "source": [
    "drop_amt1.reset_cache()\n",
    "drop_amt1.balance"
   ]
  },
  {
   "cell_type": "code",
   "execution_count": 98,
   "id": "cac6fef0-87c9-4b3e-a6bb-65ae34b3a73c",
   "metadata": {},
   "outputs": [
    {
     "data": {
      "text/plain": [
       "{'low': 5000, 'high': 100000, 'mean': 30000, 'std': 20000}"
      ]
     },
     "execution_count": 98,
     "metadata": {},
     "output_type": "execute_result"
    }
   ],
   "source": [
    "drop_amt1.inbound_amt"
   ]
  },
  {
   "cell_type": "code",
   "execution_count": 891,
   "id": "7411d36f-0aed-4210-a9cf-5e30ea6d1b1a",
   "metadata": {},
   "outputs": [
    {
     "data": {
      "text/plain": [
       "29200.0"
      ]
     },
     "execution_count": 891,
     "metadata": {},
     "output_type": "execute_result"
    }
   ],
   "source": [
    "drop_amt1.balance = 50000\n",
    "drop_amt1.get_chunk_size(online=False)"
   ]
  },
  {
   "cell_type": "code",
   "execution_count": 99,
   "id": "233be42a-f0b6-4c58-8c6e-7dbd69fc5ed8",
   "metadata": {},
   "outputs": [
    {
     "name": "stdout",
     "output_type": "stream",
     "text": [
      "balance: 0\n"
     ]
    },
    {
     "data": {
      "text/plain": [
       "min      5000.0\n",
       "max     99500.0\n",
       "mean    34076.9\n",
       "Name: rcvd_amt, dtype: float64"
      ]
     },
     "execution_count": 99,
     "metadata": {},
     "output_type": "execute_result"
    }
   ],
   "source": [
    "drop_amt1.reset_cache()\n",
    "received_list = [drop_amt1.receive(declined=True) for _ in range(10000)]\n",
    "rcvd_amts_df = pd.DataFrame(pd.Series(received_list, name=\"rcvd_amt\"))\n",
    "print(f\"balance: {drop_amt1.balance}\")\n",
    "rcvd_amts_df.rcvd_amt.agg([\"min\",\"max\", \"mean\"])"
   ]
  },
  {
   "cell_type": "code",
   "execution_count": 100,
   "id": "4e6396ab-21be-4925-adb9-ca0961a8ce40",
   "metadata": {},
   "outputs": [
    {
     "data": {
      "text/plain": [
       "np.float64(30500.0)"
      ]
     },
     "execution_count": 100,
     "metadata": {},
     "output_type": "execute_result"
    }
   ],
   "source": [
    "drop_amt1.receive(declined=False)"
   ]
  },
  {
   "cell_type": "code",
   "execution_count": 101,
   "id": "a5e8d761-f908-446c-9e1a-ca3c8ea2068a",
   "metadata": {},
   "outputs": [
    {
     "data": {
      "text/plain": [
       "np.float64(30500.0)"
      ]
     },
     "execution_count": 101,
     "metadata": {},
     "output_type": "execute_result"
    }
   ],
   "source": [
    "drop_amt1.balance"
   ]
  },
  {
   "cell_type": "code",
   "execution_count": 102,
   "id": "9209bf85-fc1e-4c11-96d2-8d83c1654fd2",
   "metadata": {},
   "outputs": [
    {
     "data": {
      "text/plain": [
       "np.float64(28000.0)"
      ]
     },
     "execution_count": 102,
     "metadata": {},
     "output_type": "execute_result"
    }
   ],
   "source": [
    "drop_amt1.receive(declined=False)"
   ]
  },
  {
   "cell_type": "code",
   "execution_count": 103,
   "id": "115c7523-7009-485e-b132-1f73979e4b8f",
   "metadata": {},
   "outputs": [
    {
     "data": {
      "text/plain": [
       "np.float64(58500.0)"
      ]
     },
     "execution_count": 103,
     "metadata": {},
     "output_type": "execute_result"
    }
   ],
   "source": [
    "drop_amt1.balance"
   ]
  },
  {
   "cell_type": "code",
   "execution_count": 104,
   "id": "dc5107a9-a980-4195-b09e-35113bfc1a19",
   "metadata": {},
   "outputs": [
    {
     "name": "stdout",
     "output_type": "stream",
     "text": [
      "before:  58500.0\n"
     ]
    },
    {
     "data": {
      "text/plain": [
       "np.float64(58500.0)"
      ]
     },
     "execution_count": 104,
     "metadata": {},
     "output_type": "execute_result"
    }
   ],
   "source": [
    "print(\"before: \", drop_amt1.balance)\n",
    "drop_amt1.update_balance(amount=7000, receive=False, declined=True)\n",
    "drop_amt1.balance"
   ]
  },
  {
   "cell_type": "markdown",
   "id": "e309cd1f-d113-4124-af9e-7cbe35f0d780",
   "metadata": {},
   "source": [
    "**Тест `chunk_size`**"
   ]
  },
  {
   "cell_type": "code",
   "execution_count": 689,
   "id": "42b24425-67de-447d-af08-9d8db4decc78",
   "metadata": {},
   "outputs": [],
   "source": [
    "# Значения атрибутов отличные от прописанных в конфиге - закомментить/раскомментить при надобности\n",
    "# drop_amt1.chunks[\"low\"] = 10000\n",
    "# drop_amt1.chunks[\"high\"] = 45000\n",
    "# drop_amt1.chunks[\"step\"] = 1000\n",
    "# drop_amt1.chunks[\"atm_min\"] = 15000\n",
    "# drop_amt1.chunks[\"atm_share\"] = 0.4\n",
    "# drop_amt1.chunks[\"rand_rate\"] = 0.5"
   ]
  },
  {
   "cell_type": "code",
   "execution_count": 204,
   "id": "ab436667-aa69-4f46-8903-be7b1b748c8c",
   "metadata": {},
   "outputs": [
    {
     "data": {
      "text/plain": [
       "(10000, 10000)"
      ]
     },
     "execution_count": 204,
     "metadata": {},
     "output_type": "execute_result"
    }
   ],
   "source": [
    "drop_amt1.balance = 10000\n",
    "drop_amt1.batch_txns = 1\n",
    "drop_amt1.get_chunk_size(online=False), drop_amt1.chunk_size"
   ]
  },
  {
   "cell_type": "code",
   "execution_count": 761,
   "id": "7ccb1ff6-4272-45f7-91e4-57d5b7f00442",
   "metadata": {},
   "outputs": [
    {
     "data": {
      "text/html": [
       "<div>\n",
       "<style scoped>\n",
       "    .dataframe tbody tr th:only-of-type {\n",
       "        vertical-align: middle;\n",
       "    }\n",
       "\n",
       "    .dataframe tbody tr th {\n",
       "        vertical-align: top;\n",
       "    }\n",
       "\n",
       "    .dataframe thead th {\n",
       "        text-align: right;\n",
       "    }\n",
       "</style>\n",
       "<table border=\"1\" class=\"dataframe\">\n",
       "  <thead>\n",
       "    <tr style=\"text-align: right;\">\n",
       "      <th></th>\n",
       "      <th>chunk_size</th>\n",
       "    </tr>\n",
       "  </thead>\n",
       "  <tbody>\n",
       "    <tr>\n",
       "      <th>0</th>\n",
       "      <td>7000</td>\n",
       "    </tr>\n",
       "    <tr>\n",
       "      <th>1</th>\n",
       "      <td>4000</td>\n",
       "    </tr>\n",
       "    <tr>\n",
       "      <th>2</th>\n",
       "      <td>4000</td>\n",
       "    </tr>\n",
       "    <tr>\n",
       "      <th>3</th>\n",
       "      <td>10000</td>\n",
       "    </tr>\n",
       "    <tr>\n",
       "      <th>4</th>\n",
       "      <td>8000</td>\n",
       "    </tr>\n",
       "  </tbody>\n",
       "</table>\n",
       "</div>"
      ],
      "text/plain": [
       "   chunk_size\n",
       "0        7000\n",
       "1        4000\n",
       "2        4000\n",
       "3       10000\n",
       "4        8000"
      ]
     },
     "execution_count": 761,
     "metadata": {},
     "output_type": "execute_result"
    }
   ],
   "source": [
    "drop_amt1.batch_txns = 1\n",
    "# drop_amt1.chunk_size = 20000\n",
    "drop_amt1.balance = drop_amt1.chunks[\"rcvd_small\"][\"limit\"]\n",
    "chunks_list = [drop_amt1.get_chunk_size(online=True) for _ in range(1000)]\n",
    "chunks_df = pd.DataFrame(pd.Series(chunks_list, name=\"chunk_size\"))\n",
    "chunks_df.head()"
   ]
  },
  {
   "cell_type": "code",
   "execution_count": 762,
   "id": "90ce9e0d-552e-48df-8e3f-57c2c46f6c2a",
   "metadata": {},
   "outputs": [
    {
     "data": {
      "text/html": [
       "<div>\n",
       "<style scoped>\n",
       "    .dataframe tbody tr th:only-of-type {\n",
       "        vertical-align: middle;\n",
       "    }\n",
       "\n",
       "    .dataframe tbody tr th {\n",
       "        vertical-align: top;\n",
       "    }\n",
       "\n",
       "    .dataframe thead th {\n",
       "        text-align: right;\n",
       "    }\n",
       "</style>\n",
       "<table border=\"1\" class=\"dataframe\">\n",
       "  <thead>\n",
       "    <tr style=\"text-align: right;\">\n",
       "      <th></th>\n",
       "      <th>chunk_size</th>\n",
       "      <th>prev_size</th>\n",
       "      <th>eq_to_prev</th>\n",
       "    </tr>\n",
       "  </thead>\n",
       "  <tbody>\n",
       "    <tr>\n",
       "      <th>0</th>\n",
       "      <td>7000</td>\n",
       "      <td>NaN</td>\n",
       "      <td>False</td>\n",
       "    </tr>\n",
       "    <tr>\n",
       "      <th>1</th>\n",
       "      <td>4000</td>\n",
       "      <td>7000.0</td>\n",
       "      <td>False</td>\n",
       "    </tr>\n",
       "    <tr>\n",
       "      <th>2</th>\n",
       "      <td>4000</td>\n",
       "      <td>4000.0</td>\n",
       "      <td>True</td>\n",
       "    </tr>\n",
       "  </tbody>\n",
       "</table>\n",
       "</div>"
      ],
      "text/plain": [
       "   chunk_size  prev_size  eq_to_prev\n",
       "0        7000        NaN       False\n",
       "1        4000     7000.0       False\n",
       "2        4000     4000.0        True"
      ]
     },
     "execution_count": 762,
     "metadata": {},
     "output_type": "execute_result"
    }
   ],
   "source": [
    "chunks_df[\"prev_size\"] = chunks_df.chunk_size.shift(1)\n",
    "chunks_df[\"eq_to_prev\"] = chunks_df[\"chunk_size\"] == chunks_df[\"prev_size\"]\n",
    "chunks_df.head(3)"
   ]
  },
  {
   "cell_type": "code",
   "execution_count": 105,
   "id": "01546ecd-278b-49e2-a6b9-61dcd0df1511",
   "metadata": {},
   "outputs": [
    {
     "name": "stdout",
     "output_type": "stream",
     "text": [
      "balance: 58500.0\n",
      "rand_rate: 0.9\n",
      "chunks number: 31\n",
      "prob of taking one chunk: 0.032\n",
      "0.871 chunks won't be the same as a previous chunk size\n"
     ]
    }
   ],
   "source": [
    "rand_rate1 = drop_amt1.chunks[\"rand_rate\"]\n",
    "\n",
    "# Берем лимиты под генерацию массива чанков, в зависимости от\n",
    "# полученной дропом суммы\n",
    "small = drop_amt1.chunks[\"rcvd_small\"]\n",
    "medium = drop_amt1.chunks[\"rcvd_medium\"] \n",
    "large = drop_amt1.chunks[\"rcvd_large\"]\n",
    "\n",
    "if drop_amt1.balance <= small[\"limit\"]:\n",
    "    low = small[\"min\"]\n",
    "    high = min(drop_amt1.balance, small[\"max\"])\n",
    "\n",
    "elif drop_amt1.balance <= medium[\"limit\"]:\n",
    "    low = medium[\"min\"]\n",
    "    high = min(drop_amt1.balance, medium[\"max\"])\n",
    "\n",
    "else:\n",
    "    low = large[\"min\"]\n",
    "    high = min(drop_amt1.balance, large[\"max\"])\n",
    "    \n",
    "step = drop_amt1.chunks[\"step\"]\n",
    "chunks_num = np.arange(start=low, stop=high + step, step=step).shape[0]\n",
    "one_chunk_p = 1 / chunks_num\n",
    "print(f\"\"\"balance: {drop_amt1.balance}\n",
    "rand_rate: {rand_rate1}\n",
    "chunks number: {chunks_num}\n",
    "prob of taking one chunk: {one_chunk_p:.3f}\n",
    "{rand_rate1 - (rand_rate1 * one_chunk_p):.3f} chunks won't be the same as a previous chunk size\"\"\")"
   ]
  },
  {
   "cell_type": "code",
   "execution_count": 764,
   "id": "b76eef62-6cdf-4b59-821b-f0303de8d04f",
   "metadata": {},
   "outputs": [
    {
     "data": {
      "text/plain": [
       "eq_to_prev\n",
       "False    0.788\n",
       "True     0.212\n",
       "Name: proportion, dtype: float64"
      ]
     },
     "execution_count": 764,
     "metadata": {},
     "output_type": "execute_result"
    }
   ],
   "source": [
    "chunks_df.eq_to_prev.value_counts(normalize=True)"
   ]
  },
  {
   "cell_type": "code",
   "execution_count": 757,
   "id": "03834b58-08b2-4f90-a880-813c0e851ff4",
   "metadata": {},
   "outputs": [
    {
     "data": {
      "text/plain": [
       "min     5000\n",
       "max    20000\n",
       "Name: chunk_size, dtype: int64"
      ]
     },
     "execution_count": 757,
     "metadata": {},
     "output_type": "execute_result"
    }
   ],
   "source": [
    "chunks_df.chunk_size.agg([\"min\",\"max\"])"
   ]
  },
  {
   "cell_type": "markdown",
   "id": "ca8bc950-e0b3-4783-a704-38122ff84d56",
   "metadata": {},
   "source": [
    "**Тест `reduce_amt`**"
   ]
  },
  {
   "cell_type": "code",
   "execution_count": 959,
   "id": "a64b1a47-13e1-4810-bd05-c2d5adafaa5e",
   "metadata": {},
   "outputs": [
    {
     "name": "stdout",
     "output_type": "stream",
     "text": [
      "manual:  1750.0\n"
     ]
    },
    {
     "data": {
      "text/plain": [
       "5300.0"
      ]
     },
     "execution_count": 959,
     "metadata": {},
     "output_type": "execute_result"
    }
   ],
   "source": [
    "drop_amt1.balance = 7000\n",
    "drop_amt1.first_decl = 7000\n",
    "drop_amt1.last_amt = 7000\n",
    "print(\"manual: \", drop_amt1.first_decl * drop_amt1.reduce_share)\n",
    "drop_amt1.reduce_amt()"
   ]
  },
  {
   "cell_type": "markdown",
   "id": "d16b5c2d-e547-4b2d-814c-73264cb15527",
   "metadata": {},
   "source": [
    "**тест `one_operation`**"
   ]
  },
  {
   "cell_type": "code",
   "execution_count": null,
   "id": "98209ffb-37b7-489b-882d-41bbc4b2f13f",
   "metadata": {},
   "outputs": [],
   "source": [
    "# chunks: # Настройки создания суммы, для распределения полученных денег по частям\n",
    "# atm_min: 10000 # Минимальная сумма для снятий в банкомате.\n",
    "# atm_share: 0.5 # Доля от баланса, которую дроп снимает в случае снятия в банкомате\n",
    "# step: 1000 # Шаг возможных сумм. Чем меньше шаг, тем больше вариантов.\n",
    "# rand_rate: 0.9 # В скольких случаях размер суммы должен быть семплирован, а не взят размер предыдущей транзакции\n",
    "# rcvd_small: # Категория полученной дропом суммы\n",
    "#   limit: 10000 # Категория все что \"до\" включительно\n",
    "#   min: 3000 # # Минимальная сумма чанка для этой категории\n",
    "#   max: 10000 # Максимальная сумма чанка для этой категории\n",
    "# rcvd_medium:\n",
    "#   limit: 30000\n",
    "#   min: 5000\n",
    "#   max: 25000\n",
    "# rcvd_large: # порог не прописываем, т.к. это все что выше medium\n",
    "#   min: 10000\n",
    "#   max: 40000"
   ]
  },
  {
   "cell_type": "code",
   "execution_count": 109,
   "id": "34df5c07-d51f-407b-afcc-28ba773d1dec",
   "metadata": {},
   "outputs": [],
   "source": [
    "small = drop_amt1.chunks[\"rcvd_small\"]\n",
    "medium = drop_amt1.chunks[\"rcvd_medium\"] \n",
    "large = drop_amt1.chunks[\"rcvd_large\"]"
   ]
  },
  {
   "cell_type": "markdown",
   "id": "7993afe4-0908-47ef-87e6-556c3e3c457c",
   "metadata": {},
   "source": [
    "**Ниже ячейка для кейсов:**\n",
    "- Не отклонена. Онлайн. Частями. Small\n",
    "- Не отклонена. Онлайн. Частями. Medium\n",
    "- Не отклонена. Онлайн. Частями. Large\n",
    "\n",
    "- `min_lim` всегда стоит `min_lim = small[\"min\"]` т.к. баланс уменьшается и могут срабатывать условия для `small`, `medium`\n",
    "- `drop_amt1.balance` для large ставить как `medium[\"limit\"] + число` т.к. у large нет своего лимита, используется все что выше `medium[\"limit\"]`"
   ]
  },
  {
   "cell_type": "code",
   "execution_count": 225,
   "id": "e843aa7c-ac73-4cc6-84fe-84eac4f4a1c5",
   "metadata": {},
   "outputs": [],
   "source": [
    "i = 0\n",
    "min_lim = small[\"min\"]\n",
    "max_lim = small[\"max\"]\n",
    "\n",
    "while i < 1000:\n",
    "    drop_amt1.reset_cache()\n",
    "    drop_amt1.balance = small[\"limit\"]\n",
    "    all_ops = []\n",
    "    \n",
    "    while drop_amt1.balance > 0:\n",
    "        one_op1 = drop_amt1.one_operation(online=True, declined=False, in_chunks=True)\n",
    "        all_ops.append(one_op1)\n",
    "        i += 1\n",
    "    all_ops_ser = pd.Series(all_ops)\n",
    "    # для минимального берем серию без последнего элемента. Т.к. там обычно уже остаток, а не чанк\n",
    "    if all_ops_ser.shape[0] == 1:\n",
    "        assert all_ops_ser.min() >= min_lim, \\\n",
    "                            f\"Min is lower than min limit. {all_ops_ser.min()}\"\n",
    "    else:\n",
    "        assert all_ops_ser.iloc[0:(all_ops_ser.shape[0] - 1)].min() >= min_lim, \\\n",
    "                            f\"Min is lower than min limit. {all_ops_ser.iloc[0:(all_ops_ser.shape[0] - 1)].min()}\"\n",
    "        \n",
    "    assert all_ops_ser.max() <= max_lim, \"Max is higher than min limit.\""
   ]
  },
  {
   "cell_type": "code",
   "execution_count": 195,
   "id": "e212e6dc-6b4e-4833-91de-ef4926c55eda",
   "metadata": {},
   "outputs": [
    {
     "data": {
      "text/plain": [
       "0    12000\n",
       "1    15000\n",
       "2     3000\n",
       "3     1000\n",
       "dtype: int64"
      ]
     },
     "execution_count": 195,
     "metadata": {},
     "output_type": "execute_result"
    }
   ],
   "source": [
    "all_ops_ser"
   ]
  },
  {
   "cell_type": "code",
   "execution_count": 227,
   "id": "f3f93354-a51b-4a58-9691-eefcc07d1b86",
   "metadata": {},
   "outputs": [],
   "source": [
    "atm_min = drop_amt1.chunks[\"atm_min\"]"
   ]
  },
  {
   "cell_type": "code",
   "execution_count": 232,
   "id": "aecf5121-7cf4-4cbf-a115-452ec81188ae",
   "metadata": {},
   "outputs": [
    {
     "name": "stdout",
     "output_type": "stream",
     "text": [
      "9000\n"
     ]
    },
    {
     "data": {
      "text/plain": [
       "0    9000\n",
       "dtype: int64"
      ]
     },
     "execution_count": 232,
     "metadata": {},
     "output_type": "execute_result"
    }
   ],
   "source": [
    "drop_amt1.reset_cache()\n",
    "drop_amt1.balance = atm_min - 1000\n",
    "print(drop_amt1.balance)\n",
    "all_ops2 = []\n",
    "\n",
    "while drop_amt1.balance > 0:\n",
    "    one_op2 = drop_amt1.one_operation(online=False, declined=False, in_chunks=True)\n",
    "    all_ops2.append(one_op2)\n",
    "all_ops_ser = pd.Series(all_ops2)\n",
    "all_ops_ser"
   ]
  },
  {
   "cell_type": "code",
   "execution_count": null,
   "id": "81b30394-d44e-4c72-b568-da4a8af55dd8",
   "metadata": {},
   "outputs": [],
   "source": []
  },
  {
   "cell_type": "markdown",
   "id": "0598055e-bf37-492b-9107-6afb651fa2b9",
   "metadata": {},
   "source": [
    "**Тест отклоненных транзакций. Онлайн/оффлайн**"
   ]
  },
  {
   "cell_type": "code",
   "execution_count": null,
   "id": "b048a3ef-4203-4421-bdfc-690dfb876984",
   "metadata": {},
   "outputs": [],
   "source": [
    "drop_amt1.reset_cache()\n",
    "drop_amt1.drop_txns, drop_amt1."
   ]
  },
  {
   "cell_type": "code",
   "execution_count": 976,
   "id": "fef049d4-eb3e-4de0-b49f-c5bb4d0c8232",
   "metadata": {},
   "outputs": [
    {
     "name": "stdout",
     "output_type": "stream",
     "text": [
      "47000\n",
      "0\n",
      "20700.0\n",
      "20700.0\n",
      "20700.0\n",
      "20700.0\n",
      "20700.0\n",
      "20700.0\n",
      "20700.0\n",
      "20700.0\n",
      "20700.0\n",
      "47000 \n",
      " [20700.0, 15600.0, 10500.0, 10000, 10000, 10000, 10000, 10000, 10000, 10000]\n"
     ]
    }
   ],
   "source": [
    "drop_amt1.reset_cache(life_end=True)\n",
    "drop_amt1.balance = atm_min + 37000\n",
    "print(drop_amt1.balance)\n",
    "one_op_list1 = []\n",
    "while True:\n",
    "    print(drop_amt1.first_decl)\n",
    "    one_op1 = drop_amt1.one_operation(online=False, declined=True, in_chunks=True)\n",
    "    \n",
    "    one_op_list1.append(one_op1)\n",
    "    if len(one_op_list1) == 10:\n",
    "        break\n",
    "print(drop_amt1.balance, \"\\n\", one_op_list1)"
   ]
  },
  {
   "cell_type": "code",
   "execution_count": 991,
   "id": "540b97e3-dcb5-44fb-911e-835866877160",
   "metadata": {},
   "outputs": [
    {
     "data": {
      "text/plain": [
       "0     20700.0\n",
       "1     15600.0\n",
       "2     10500.0\n",
       "3      5400.0\n",
       "4       300.0\n",
       "5     -4800.0\n",
       "6     -9900.0\n",
       "7    -15000.0\n",
       "8    -20100.0\n",
       "9    -25200.0\n",
       "10   -30300.0\n",
       "Name: amt, dtype: float64"
      ]
     },
     "execution_count": 991,
     "metadata": {},
     "output_type": "execute_result"
    }
   ],
   "source": [
    "cum_sub_df = pd.DataFrame()\n",
    "cum_sub_df[\"amt\"] = np.arange(0, 11, step=1)\n",
    "cum_sub_df[\"amt\"] = - (20700 * 0.25 // 100 * 100)\n",
    "cum_sub_df.loc[0, \"amt\"] = 20700\n",
    "cum_sub_df.amt.cumsum()"
   ]
  },
  {
   "cell_type": "markdown",
   "id": "01b32401-cd2e-45b8-abb0-6be9fb68197c",
   "metadata": {},
   "source": [
    "## Класс `DropTimeHandler`\n",
    "- управление временем транзакций дропа"
   ]
  },
  {
   "cell_type": "code",
   "execution_count": 238,
   "id": "dc2c6b55-46b0-4709-83af-9d89727ed534",
   "metadata": {},
   "outputs": [],
   "source": [
    "# <------------------------- ГОТОВЫЙ КЛАСС ВСТАВИТЬ--------------------------"
   ]
  },
  {
   "cell_type": "markdown",
   "id": "ae1c5eff-2fd0-4b61-b3f7-ca4efe527087",
   "metadata": {},
   "source": [
    "**Тест `DropTimeHandler`**"
   ]
  },
  {
   "cell_type": "code",
   "execution_count": 239,
   "id": "a48fdfb8-849e-43cc-8946-82a8d4ca09cc",
   "metadata": {},
   "outputs": [],
   "source": [
    "# Временный reload для разработки\n",
    "import data_generator.configs\n",
    "importlib.reload(data_generator.configs)\n",
    "import data_generator.fraud.drops.time\n",
    "importlib.reload(data_generator.fraud.drops.time)\n",
    "from data_generator.configs import DropDistributorCfg, DropPurchaserCfg\n",
    "from data_generator.fraud.drops.time import DropTimeHandler\n",
    "\n",
    "drop_time_hanler1 = DropTimeHandler(configs=dist_configs)"
   ]
  },
  {
   "cell_type": "code",
   "execution_count": 240,
   "id": "d3327057-d362-4750-971f-bb1f4b14462c",
   "metadata": {},
   "outputs": [
    {
     "data": {
      "text/plain": [
       "(np.float64(-2.687), np.int64(-180), np.int64(180))"
      ]
     },
     "execution_count": 240,
     "metadata": {},
     "output_type": "execute_result"
    }
   ],
   "source": [
    "two_way_deltas1 = pd.Series([drop_time_hanler1.get_time_delta(two_way=True) for _ in range(1000)])\n",
    "two_way_deltas1.mean(), two_way_deltas1.min(), two_way_deltas1.max()"
   ]
  },
  {
   "cell_type": "code",
   "execution_count": 241,
   "id": "27e24fa9-0ccf-4b39-9eb5-69603a4b5ce8",
   "metadata": {},
   "outputs": [
    {
     "data": {
      "text/plain": [
       "(np.float64(104.085), np.int64(30), np.int64(180))"
      ]
     },
     "execution_count": 241,
     "metadata": {},
     "output_type": "execute_result"
    }
   ],
   "source": [
    "pos_deltas1 = pd.Series([drop_time_hanler1.get_time_delta(two_way=False) for _ in range(1000)])\n",
    "pos_deltas1.mean(), pos_deltas1.min(), pos_deltas1.max()"
   ]
  },
  {
   "cell_type": "code",
   "execution_count": 242,
   "id": "5f19815d-ad42-457a-a2b4-a63f2d3e0fc6",
   "metadata": {},
   "outputs": [],
   "source": [
    "for _ in range(3):\n",
    "    drop_time_hanler1.txns_count(receive=True, reset=False)\n",
    "    drop_time_hanler1.txns_count(receive=False, reset=False)"
   ]
  },
  {
   "cell_type": "code",
   "execution_count": 243,
   "id": "8628076f-56b6-4711-b979-e81b950a1cc9",
   "metadata": {},
   "outputs": [
    {
     "data": {
      "text/plain": [
       "(3, 3)"
      ]
     },
     "execution_count": 243,
     "metadata": {},
     "output_type": "execute_result"
    }
   ],
   "source": [
    "drop_time_hanler1.in_txns, drop_time_hanler1.out_txns"
   ]
  },
  {
   "cell_type": "code",
   "execution_count": 393,
   "id": "00a85d47-c78f-4917-9b49-97f899593376",
   "metadata": {},
   "outputs": [
    {
     "data": {
      "text/plain": [
       "(1, 0)"
      ]
     },
     "execution_count": 393,
     "metadata": {},
     "output_type": "execute_result"
    }
   ],
   "source": [
    "drop_time_hanler1.txns_count(receive=True, reset=True)\n",
    "drop_time_hanler1.in_txns, drop_time_hanler1.out_txns"
   ]
  },
  {
   "cell_type": "code",
   "execution_count": 245,
   "id": "271649e5-e6a1-44f5-9ff5-582a64839dbc",
   "metadata": {},
   "outputs": [
    {
     "data": {
      "text/plain": [
       "(1, 0)"
      ]
     },
     "execution_count": 245,
     "metadata": {},
     "output_type": "execute_result"
    }
   ],
   "source": [
    "drop_time_hanler1.in_txns = 2\n",
    "drop_time_hanler1.out_txns = 4\n",
    "drop_time_hanler1.txns_count(receive=True, reset=True)\n",
    "drop_time_hanler1.in_txns, drop_time_hanler1.out_txns"
   ]
  },
  {
   "cell_type": "markdown",
   "id": "c454f686-d69e-4f26-9605-384e5091eba8",
   "metadata": {},
   "source": [
    "**`DropTimeHandler.get_txn_time` тест**  \n",
    "Тест-кейсы\n",
    "- Если это самая первая транзакция. Т.к. активность дропа начинается с входящей транзакции\n",
    "- Не первая транзакция и достигнут лимит входящих транзакций для периода активности\n",
    "- Не первая транзакция и достигнут лимит исходящих транзакций для периода активности\n",
    "- Не первая транзакция. Лимиты не достигнуты. Транзакция входящая\n",
    "- Не первая транзакция. Лимиты не достигнуты. Транзакция исходящая "
   ]
  },
  {
   "cell_type": "code",
   "execution_count": 246,
   "id": "d818372d-c1ba-4b54-bd3c-ce026bc33a60",
   "metadata": {},
   "outputs": [
    {
     "data": {
      "text/plain": [
       "(Timestamp('2025-07-02 11:15:00'), 1751454900)"
      ]
     },
     "execution_count": 246,
     "metadata": {},
     "output_type": "execute_result"
    }
   ],
   "source": [
    "start_time = pd.to_datetime(\"2025-07-02 11:15:00\", format=\"%Y-%m-%d %H:%M:%S\")\n",
    "start_unix = pd_timestamp_to_unix(start_time)\n",
    "start_time, start_unix"
   ]
  },
  {
   "cell_type": "code",
   "execution_count": 247,
   "id": "ad52a6f7-e9fc-4faf-a38f-eabb87e35b1c",
   "metadata": {},
   "outputs": [
    {
     "data": {
      "text/plain": [
       "(Timestamp('2025-07-02 18:31:00'), 1751481060)"
      ]
     },
     "execution_count": 247,
     "metadata": {},
     "output_type": "execute_result"
    }
   ],
   "source": [
    "last_time = pd.to_datetime(\"2025-07-02 18:31:00\", format=\"%Y-%m-%d %H:%M:%S\")\n",
    "last_unix = pd_timestamp_to_unix(last_time)\n",
    "last_time, last_unix"
   ]
  },
  {
   "cell_type": "markdown",
   "id": "67bef8d8-836d-486c-a763-5d2d620ed828",
   "metadata": {},
   "source": [
    "1. Если это самая первая транзакция. Т.к. активность дропа начинается с входящей транзакции"
   ]
  },
  {
   "cell_type": "code",
   "execution_count": 248,
   "id": "ebccedc6-5bab-468e-9dbb-45a114d2e1cd",
   "metadata": {},
   "outputs": [
    {
     "data": {
      "text/plain": [
       "(Timestamp('2025-01-05 13:47:00'), np.int64(1736084820))"
      ]
     },
     "execution_count": 248,
     "metadata": {},
     "output_type": "execute_result"
    }
   ],
   "source": [
    "drop_time_hanler1.reset_cache()\n",
    "drop_time_hanler1.in_txns = 0\n",
    "drop_time_hanler1.out_txns = 0\n",
    "droptime1, dropunix1 = drop_time_hanler1.get_txn_time(receive=True, in_txns=0)\n",
    "droptime1, dropunix1"
   ]
  },
  {
   "cell_type": "code",
   "execution_count": 249,
   "id": "564130ce-813a-4c43-b555-979db8f810c9",
   "metadata": {},
   "outputs": [
    {
     "data": {
      "text/plain": [
       "(np.int64(1736084820), 1, 0)"
      ]
     },
     "execution_count": 249,
     "metadata": {},
     "output_type": "execute_result"
    }
   ],
   "source": [
    "drop_time_hanler1.last_unix, drop_time_hanler1.in_txns, drop_time_hanler1.out_txns"
   ]
  },
  {
   "cell_type": "markdown",
   "id": "31270c48-64c3-4273-b013-0208fe0630b7",
   "metadata": {},
   "source": [
    "2. Не первая транзакция и достигнут лимит входящих транзакций для периода активности\n",
    "- текущая входящая - receive=True\n",
    "- текущая исходящая - receive=False"
   ]
  },
  {
   "cell_type": "code",
   "execution_count": 250,
   "id": "c195724b-2c37-498b-9076-e6b009312d7e",
   "metadata": {},
   "outputs": [
    {
     "data": {
      "text/plain": [
       "(Timestamp('2025-07-02 11:15:00'), Timestamp('2025-07-02 18:31:00'))"
      ]
     },
     "execution_count": 250,
     "metadata": {},
     "output_type": "execute_result"
    }
   ],
   "source": [
    "start_time, last_time"
   ]
  },
  {
   "cell_type": "code",
   "execution_count": 254,
   "id": "fb5364fc-d761-457c-80bd-5a2026a33e0d",
   "metadata": {},
   "outputs": [
    {
     "data": {
      "text/plain": [
       "(Timestamp('2025-07-03 12:05:00'),\n",
       " 1751544300,\n",
       " Timestamp('2025-07-03 12:05:00'))"
      ]
     },
     "execution_count": 254,
     "metadata": {},
     "output_type": "execute_result"
    }
   ],
   "source": [
    "drop_time_hanler1.reset_cache()\n",
    "drop_time_hanler1.in_txns = drop_time_hanler1.in_lim\n",
    "drop_time_hanler1.out_txns = drop_time_hanler1.out_lim - 1\n",
    "drop_time_hanler1.start_unix = start_unix\n",
    "drop_time_hanler1.last_unix = last_unix\n",
    "droptime2, dropunix2 = drop_time_hanler1.get_txn_time(receive=True, in_txns=drop_time_hanler1.in_lim * 2)\n",
    "droptime_start2 = pd.to_datetime(drop_time_hanler1.start_unix, unit=\"s\")\n",
    "droptime2, dropunix2, droptime_start2"
   ]
  },
  {
   "cell_type": "code",
   "execution_count": 255,
   "id": "0fe1c2aa-6b57-4844-99b0-18188794d85e",
   "metadata": {},
   "outputs": [
    {
     "data": {
      "text/plain": [
       "(1, 0, 1751544300, 1751544300)"
      ]
     },
     "execution_count": 255,
     "metadata": {},
     "output_type": "execute_result"
    }
   ],
   "source": [
    "drop_time_hanler1.in_txns, drop_time_hanler1.out_txns, drop_time_hanler1.start_unix, drop_time_hanler1.last_unix"
   ]
  },
  {
   "cell_type": "code",
   "execution_count": 256,
   "id": "ce7b9f7d-aac4-42b7-a26f-a3ef6088a1d7",
   "metadata": {},
   "outputs": [
    {
     "data": {
      "text/plain": [
       "Timedelta('1 days 00:50:00')"
      ]
     },
     "execution_count": 256,
     "metadata": {},
     "output_type": "execute_result"
    }
   ],
   "source": [
    "droptime2 - start_time"
   ]
  },
  {
   "cell_type": "markdown",
   "id": "5264006e-428d-4ad6-8a4d-4f7f5418a540",
   "metadata": {},
   "source": [
    "3. Не первая транзакция и достигнут лимит исходящих транзакций для периода активности  \n",
    "- текущая входящая - receive=True\n",
    "- текущая исходящая - receive=False"
   ]
  },
  {
   "cell_type": "code",
   "execution_count": 260,
   "id": "9bf03dcf-a687-4998-afeb-1cf0a2f56de4",
   "metadata": {},
   "outputs": [
    {
     "data": {
      "text/plain": [
       "(Timestamp('2025-07-03 12:56:00'),\n",
       " 1751547360,\n",
       " Timestamp('2025-07-03 12:56:00'))"
      ]
     },
     "execution_count": 260,
     "metadata": {},
     "output_type": "execute_result"
    }
   ],
   "source": [
    "drop_time_hanler1.reset_cache()\n",
    "drop_time_hanler1.in_txns = drop_time_hanler1.in_lim - 1\n",
    "drop_time_hanler1.out_txns = drop_time_hanler1.out_lim\n",
    "drop_time_hanler1.start_unix = start_unix\n",
    "drop_time_hanler1.last_unix = last_unix\n",
    "droptime3, dropunix3 = drop_time_hanler1.get_txn_time(receive=False, in_txns=drop_time_hanler1.in_lim * 2)\n",
    "droptime_start3 = pd.to_datetime(drop_time_hanler1.start_unix, unit=\"s\")\n",
    "droptime3, dropunix3, droptime_start3"
   ]
  },
  {
   "cell_type": "code",
   "execution_count": 261,
   "id": "1f00d42d-24a0-4a06-b9c1-00b5e2305643",
   "metadata": {},
   "outputs": [
    {
     "data": {
      "text/plain": [
       "(0, 1, 1751547360, 1751547360)"
      ]
     },
     "execution_count": 261,
     "metadata": {},
     "output_type": "execute_result"
    }
   ],
   "source": [
    "drop_time_hanler1.in_txns, drop_time_hanler1.out_txns, drop_time_hanler1.start_unix, drop_time_hanler1.last_unix"
   ]
  },
  {
   "cell_type": "code",
   "execution_count": 262,
   "id": "74c164c1-1a49-4cee-9105-7afe585abfa3",
   "metadata": {},
   "outputs": [
    {
     "data": {
      "text/plain": [
       "Timedelta('1 days 01:41:00')"
      ]
     },
     "execution_count": 262,
     "metadata": {},
     "output_type": "execute_result"
    }
   ],
   "source": [
    "droptime3 - start_time"
   ]
  },
  {
   "cell_type": "markdown",
   "id": "00fe4740-de68-48ac-9706-a7f5471be2f4",
   "metadata": {},
   "source": [
    "4. Не первая транзакция. Лимиты не достигнуты. Транзакция **входящая**"
   ]
  },
  {
   "cell_type": "code",
   "execution_count": 263,
   "id": "26a0fdc3-e38c-4619-86bb-7e7dc223787b",
   "metadata": {},
   "outputs": [
    {
     "name": "stdout",
     "output_type": "stream",
     "text": [
      "In txns: 1 \n",
      "Out txns: 4\n",
      "120\n"
     ]
    },
    {
     "data": {
      "text/plain": [
       "(Timestamp('2025-07-02 20:31:00'),\n",
       " 1751488260,\n",
       " Timestamp('2025-07-02 11:15:00'))"
      ]
     },
     "execution_count": 263,
     "metadata": {},
     "output_type": "execute_result"
    }
   ],
   "source": [
    "drop_time_hanler1.reset_cache()\n",
    "drop_time_hanler1.in_txns = drop_time_hanler1.in_lim - 1\n",
    "drop_time_hanler1.out_txns = drop_time_hanler1.out_lim - 1\n",
    "print(f\"In txns: {drop_time_hanler1.in_txns} \\nOut txns: {drop_time_hanler1.out_txns}\")\n",
    "drop_time_hanler1.start_unix = start_unix\n",
    "drop_time_hanler1.last_unix = last_unix\n",
    "droptime4, dropunix4 = drop_time_hanler1.get_txn_time(receive=True, in_txns=drop_time_hanler1.in_lim * 2)\n",
    "droptime_start4 = pd.to_datetime(drop_time_hanler1.start_unix, unit=\"s\")\n",
    "droptime4, dropunix4, droptime_start4"
   ]
  },
  {
   "cell_type": "code",
   "execution_count": 264,
   "id": "ca43c06d-2a6a-4cf2-8ac5-80b5ca082da8",
   "metadata": {},
   "outputs": [
    {
     "data": {
      "text/plain": [
       "(2, 4, 1751454900, 1751488260)"
      ]
     },
     "execution_count": 264,
     "metadata": {},
     "output_type": "execute_result"
    }
   ],
   "source": [
    "drop_time_hanler1.in_txns, drop_time_hanler1.out_txns, drop_time_hanler1.start_unix, drop_time_hanler1.last_unix"
   ]
  },
  {
   "cell_type": "code",
   "execution_count": 265,
   "id": "5e6666e0-b60c-4860-a378-837ec92b3c28",
   "metadata": {},
   "outputs": [
    {
     "data": {
      "text/plain": [
       "Timedelta('0 days 02:00:00')"
      ]
     },
     "execution_count": 265,
     "metadata": {},
     "output_type": "execute_result"
    }
   ],
   "source": [
    "droptime4 - last_time"
   ]
  },
  {
   "cell_type": "markdown",
   "id": "e6abc38d-0d55-4f2a-b822-8b1e497bcfc5",
   "metadata": {},
   "source": [
    "5. Не первая транзакция. Лимиты не достигнуты. Транзакция **исходящая**"
   ]
  },
  {
   "cell_type": "code",
   "execution_count": 266,
   "id": "44136497-097d-4707-9a8f-38db7656b47e",
   "metadata": {},
   "outputs": [
    {
     "name": "stdout",
     "output_type": "stream",
     "text": [
      "In txns: 1 \n",
      "Out txns: 4\n",
      "179\n"
     ]
    },
    {
     "data": {
      "text/plain": [
       "(Timestamp('2025-07-02 21:30:00'),\n",
       " 1751491800,\n",
       " Timestamp('2025-07-02 11:15:00'))"
      ]
     },
     "execution_count": 266,
     "metadata": {},
     "output_type": "execute_result"
    }
   ],
   "source": [
    "drop_time_hanler1.reset_cache()\n",
    "drop_time_hanler1.in_txns = drop_time_hanler1.in_lim - 1\n",
    "drop_time_hanler1.out_txns = drop_time_hanler1.out_lim - 1\n",
    "print(f\"In txns: {drop_time_hanler1.in_txns} \\nOut txns: {drop_time_hanler1.out_txns}\")\n",
    "drop_time_hanler1.start_unix = start_unix\n",
    "drop_time_hanler1.last_unix = last_unix\n",
    "droptime5, dropunix5 = drop_time_hanler1.get_txn_time(receive=False, in_txns=drop_time_hanler1.in_lim * 2)\n",
    "droptime_start5 = pd.to_datetime(drop_time_hanler1.start_unix, unit=\"s\")\n",
    "droptime5, dropunix5, droptime_start5"
   ]
  },
  {
   "cell_type": "code",
   "execution_count": 267,
   "id": "76ea2951-e019-4814-8564-2ea06e5b6756",
   "metadata": {},
   "outputs": [
    {
     "data": {
      "text/plain": [
       "(1, 5, 1751454900, 1751491800)"
      ]
     },
     "execution_count": 267,
     "metadata": {},
     "output_type": "execute_result"
    }
   ],
   "source": [
    "drop_time_hanler1.in_txns, drop_time_hanler1.out_txns, drop_time_hanler1.start_unix, drop_time_hanler1.last_unix"
   ]
  },
  {
   "cell_type": "code",
   "execution_count": 268,
   "id": "3b0de2c1-1781-4c89-9bd2-62193d4816d4",
   "metadata": {},
   "outputs": [
    {
     "data": {
      "text/plain": [
       "Timedelta('0 days 02:59:00')"
      ]
     },
     "execution_count": 268,
     "metadata": {},
     "output_type": "execute_result"
    }
   ],
   "source": [
    "droptime5 - last_time"
   ]
  },
  {
   "cell_type": "markdown",
   "id": "4b379dde-5eb9-4135-b411-0a213481b847",
   "metadata": {},
   "source": [
    "## Класс `DistBehaviorHandler`  \n",
    "Управление поведением дропов распределителей"
   ]
  },
  {
   "cell_type": "code",
   "execution_count": null,
   "id": "3d21db9d-c7e8-449a-b55d-3a9ef458a11f",
   "metadata": {},
   "outputs": [],
   "source": [
    "# ---------------------------- ВСТАВИТЬ КЛАСС ----------------------------------"
   ]
  },
  {
   "cell_type": "markdown",
   "id": "44ea56ff-4ab8-4167-854e-dc03c980c3f3",
   "metadata": {},
   "source": [
    "**Тест DistBehaviorHandler**"
   ]
  },
  {
   "cell_type": "code",
   "execution_count": 1024,
   "id": "e95ac0c2-d599-4912-80a3-c7a1846469b6",
   "metadata": {},
   "outputs": [],
   "source": [
    "import data_generator.fraud.drops.behavior\n",
    "importlib.reload(data_generator.fraud.drops.behavior)\n",
    "from data_generator.fraud.drops.behavior import DistBehaviorHandler"
   ]
  },
  {
   "cell_type": "code",
   "execution_count": 1025,
   "id": "ddcf0598-8896-4666-9c96-688d238c3b93",
   "metadata": {},
   "outputs": [],
   "source": [
    "drop_amt1.reset_cache()\n",
    "dist_behav1 = DistBehaviorHandler(configs=dist_configs, amt_hand=drop_amt1)"
   ]
  },
  {
   "cell_type": "markdown",
   "id": "c5a80071-84b9-4159-a4bd-dc03999e82e1",
   "metadata": {},
   "source": [
    "**`sample_scenario`**"
   ]
  },
  {
   "cell_type": "markdown",
   "id": "8895651e-c8f7-4d15-bcf8-a26d7bb501d6",
   "metadata": {},
   "source": [
    "`split_rate` = 0.7  \n",
    "Тест `large_balance`: баланс больше чем `DistBehaviorHandler.trf_max`"
   ]
  },
  {
   "cell_type": "code",
   "execution_count": 367,
   "id": "8e99f5c3-de2e-4bba-8371-8e619ed0d134",
   "metadata": {},
   "outputs": [
    {
     "name": "stdout",
     "output_type": "stream",
     "text": [
      "atm+transfer prob: 0.35\n",
      "split_transfer prob: 0.35\n",
      "atm prob: 0.300\n"
     ]
    }
   ],
   "source": [
    "# Вероятности сценариев для large_balance\n",
    "split_rate = 0.7\n",
    "p_atm_and_trf = split_rate * 0.5\n",
    "p_split_trf = split_rate * 0.5\n",
    "p_atm = 1 - split_rate\n",
    "print(f\"\"\"atm+transfer prob: {p_atm_and_trf}\n",
    "split_transfer prob: {p_split_trf}\n",
    "atm prob: {p_atm:.3f}\"\"\")\n",
    "assert sum([p_atm_and_trf, p_split_trf, p_atm]) == 1"
   ]
  },
  {
   "cell_type": "code",
   "execution_count": 449,
   "id": "a7a46fff-d8e9-4110-8cdc-7ab8b5fc918f",
   "metadata": {},
   "outputs": [],
   "source": [
    "all_scens1 = []\n",
    "i = 0\n",
    "while i < 2000:\n",
    "    drop_amt1.reset_cache()\n",
    "    drop_amt1.balance = dist_behav1.trf_max + 1000\n",
    "    assert drop_amt1.balance > dist_behav1.trf_max, \"Balance is below trf_max\"\n",
    "    dist_behav1.sample_scenario()\n",
    "    # print(dist_behav1.scen)\n",
    "    all_scens1.append(dist_behav1.scen)\n",
    "    i += 1\n",
    "all_scens_ser1 = pd.Series(all_scens1)"
   ]
  },
  {
   "cell_type": "code",
   "execution_count": 450,
   "id": "d0c05bf1-c440-4709-8805-d0408042372c",
   "metadata": {},
   "outputs": [
    {
     "data": {
      "text/plain": [
       "split_transfer    0.3495\n",
       "atm+transfer      0.3485\n",
       "atm               0.3020\n",
       "Name: proportion, dtype: float64"
      ]
     },
     "execution_count": 450,
     "metadata": {},
     "output_type": "execute_result"
    }
   ],
   "source": [
    "all_scens_ser1.value_counts(normalize=True)"
   ]
  },
  {
   "cell_type": "markdown",
   "id": "1bfb33a7-3532-4732-aed8-8a3bb8b96b92",
   "metadata": {},
   "source": [
    "`split_rate` = 0.7  \n",
    "Тест `atm_eligible`: баланс больше чем `DistBehaviorHandler.atm_min`, но меньше чем `DistBehaviorHandler.trf_max`"
   ]
  },
  {
   "cell_type": "code",
   "execution_count": 369,
   "id": "debc25e6-05c5-4e93-9f09-f6a776437289",
   "metadata": {},
   "outputs": [
    {
     "name": "stdout",
     "output_type": "stream",
     "text": [
      "atm+transfer prob: 0.35\n",
      "split_transfer prob: 0.35\n",
      "transfer prob: 0.15\n",
      "atm prob: 0.15\n"
     ]
    }
   ],
   "source": [
    "# Вероятности сценариев для atm_eligible\n",
    "split_rate = 0.7\n",
    "p_atm_and_trf = split_rate * 0.5\n",
    "p_split_trf = split_rate * 0.5\n",
    "p_trf = (1 - split_rate) * 0.5\n",
    "p_atm = (1 - split_rate) * 0.5\n",
    "print(f\"\"\"atm+transfer prob: {p_atm_and_trf}\n",
    "split_transfer prob: {p_split_trf}\n",
    "transfer prob: {round(p_trf, 3)}\n",
    "atm prob: {round(p_atm, 3)}\"\"\")\n",
    "assert sum([p_atm_and_trf, p_split_trf, p_trf, p_atm]) == 1"
   ]
  },
  {
   "cell_type": "code",
   "execution_count": 451,
   "id": "f304ac7e-282f-407d-a8c8-207917c12253",
   "metadata": {},
   "outputs": [],
   "source": [
    "all_scens2 = []\n",
    "i = 0\n",
    "while i < 2000:\n",
    "    drop_amt1.reset_cache()\n",
    "    drop_amt1.balance = dist_behav1.atm_min + 1000\n",
    "    assert drop_amt1.balance < dist_behav1.trf_max, \"Balance exceeds trf_max\"\n",
    "    dist_behav1.sample_scenario()\n",
    "    all_scens2.append(dist_behav1.scen)\n",
    "    i += 1\n",
    "all_scens_ser2 = pd.Series(all_scens2)"
   ]
  },
  {
   "cell_type": "code",
   "execution_count": 452,
   "id": "10057d4f-ba5b-47c7-a7cc-cb1c11a56466",
   "metadata": {},
   "outputs": [
    {
     "data": {
      "text/plain": [
       "atm+transfer      0.3455\n",
       "split_transfer    0.3225\n",
       "transfer          0.1695\n",
       "atm               0.1625\n",
       "Name: proportion, dtype: float64"
      ]
     },
     "execution_count": 452,
     "metadata": {},
     "output_type": "execute_result"
    }
   ],
   "source": [
    "all_scens_ser2.value_counts(normalize=True)"
   ]
  },
  {
   "cell_type": "markdown",
   "id": "809d027e-849c-412a-a24d-d9473a8dda58",
   "metadata": {},
   "source": [
    "`split_rate` = 0.7  \n",
    "Тест `split_eligible`: баланс больше чем `DistBehaviorHandler.trf_min * 2`,  \n",
    "но меньше чем `DistBehaviorHandler.atm_min` и `DistBehaviorHandler.trf_max`"
   ]
  },
  {
   "cell_type": "code",
   "execution_count": 397,
   "id": "df2988cb-726f-47dd-aa5f-3b3c362af396",
   "metadata": {},
   "outputs": [
    {
     "name": "stdout",
     "output_type": "stream",
     "text": [
      "split_transfer prob: 0.7\n",
      "transfer prob: 0.3\n"
     ]
    }
   ],
   "source": [
    "# Вероятности сценариев для split_eligible\n",
    "split_rate = 0.7\n",
    "p_split_trf = split_rate\n",
    "p_trf = 1 - split_rate\n",
    "print(f\"\"\"split_transfer prob: {p_split_trf}\n",
    "transfer prob: {round(p_trf, 3)}\"\"\")\n",
    "assert sum([p_split_trf, p_trf]) == 1"
   ]
  },
  {
   "cell_type": "code",
   "execution_count": 455,
   "id": "8c7c92d5-8b2d-41bb-adda-732e7bf28d7f",
   "metadata": {},
   "outputs": [],
   "source": [
    "all_scens3 = []\n",
    "i = 0\n",
    "while i < 3000:\n",
    "    drop_amt1.reset_cache()\n",
    "    drop_amt1.balance = dist_behav1.trf_min * 2\n",
    "    assert drop_amt1.balance < dist_behav1.atm_min, \"Balance exceeds atm_min\"\n",
    "    assert drop_amt1.balance < dist_behav1.trf_max, \"Balance exceeds trf_max\"\n",
    "    dist_behav1.sample_scenario()\n",
    "    all_scens3.append(dist_behav1.scen)\n",
    "    i += 1\n",
    "all_scens_ser3 = pd.Series(all_scens3)"
   ]
  },
  {
   "cell_type": "code",
   "execution_count": 456,
   "id": "f3e3965a-c6bf-4ab4-a001-14177f73521a",
   "metadata": {},
   "outputs": [
    {
     "data": {
      "text/plain": [
       "split_transfer    0.699667\n",
       "transfer          0.300333\n",
       "Name: proportion, dtype: float64"
      ]
     },
     "execution_count": 456,
     "metadata": {},
     "output_type": "execute_result"
    }
   ],
   "source": [
    "all_scens_ser3.value_counts(normalize=True)"
   ]
  },
  {
   "cell_type": "markdown",
   "id": "ed5e8365-39c8-4e9c-a711-226932025020",
   "metadata": {},
   "source": [
    "`split_rate` = 0.7  \n",
    "Остальные случаи. баланс меньше чем `DistBehaviorHandler.trf_min * 2`"
   ]
  },
  {
   "cell_type": "code",
   "execution_count": 457,
   "id": "597d79b2-808c-4e71-8d8a-dcfb22aa3b9b",
   "metadata": {},
   "outputs": [],
   "source": [
    "all_scens4 = []\n",
    "i = 0\n",
    "while i < 3000:\n",
    "    drop_amt1.reset_cache()\n",
    "    drop_amt1.balance = dist_behav1.trf_min + 1000\n",
    "    assert drop_amt1.balance < dist_behav1.trf_min * 2, \"Balance exceeds the limit\"\n",
    "    dist_behav1.sample_scenario()\n",
    "    all_scens4.append(dist_behav1.scen)\n",
    "    i += 1\n",
    "all_scens_ser4 = pd.Series(all_scens4)"
   ]
  },
  {
   "cell_type": "code",
   "execution_count": 458,
   "id": "004804fb-725a-49ea-856c-7cf1fddc532e",
   "metadata": {},
   "outputs": [
    {
     "data": {
      "text/plain": [
       "transfer    1.0\n",
       "Name: proportion, dtype: float64"
      ]
     },
     "execution_count": 458,
     "metadata": {},
     "output_type": "execute_result"
    }
   ],
   "source": [
    "all_scens_ser4.value_counts(normalize=True)"
   ]
  },
  {
   "cell_type": "markdown",
   "id": "6b126e57-ca51-4fba-b8b6-b72896c2376f",
   "metadata": {},
   "source": [
    "**`in_chunks_val`**"
   ]
  },
  {
   "cell_type": "code",
   "execution_count": 469,
   "id": "851b9f8a-7db1-4896-b5b2-dfbe2f5df957",
   "metadata": {},
   "outputs": [
    {
     "data": {
      "text/plain": [
       "True"
      ]
     },
     "execution_count": 469,
     "metadata": {},
     "output_type": "execute_result"
    }
   ],
   "source": [
    "# Список сценариев\n",
    "# \"transfer\"\n",
    "# \"atm\"\n",
    "# \"atm+transfer\"\n",
    "# \"split_transfer\"\n",
    "\n",
    "dist_behav1.scen = \"split_transfer\"\n",
    "dist_behav1.in_chunks_val()\n",
    "dist_behav1.in_chunks"
   ]
  },
  {
   "cell_type": "markdown",
   "id": "649f888e-55c3-427f-9ea9-1b3a1ad5d99e",
   "metadata": {},
   "source": [
    "**`guide_scenario`**"
   ]
  },
  {
   "cell_type": "code",
   "execution_count": 419,
   "id": "96c1ad17-cfb6-48be-be99-529bbecdab1a",
   "metadata": {},
   "outputs": [
    {
     "data": {
      "text/plain": [
       "True"
      ]
     },
     "execution_count": 419,
     "metadata": {},
     "output_type": "execute_result"
    }
   ],
   "source": [
    "# Список сценариев\n",
    "# \"atm+transfer\"\n",
    "# \"atm\"\n",
    "# \"split_transfer\"\n",
    "# \"transfer\"\n",
    "\n",
    "dist_behav1.scen = \"transfer\"\n",
    "dist_behav1.guide_scenario(first_txn=False)"
   ]
  },
  {
   "cell_type": "markdown",
   "id": "f6e2bb23-8c0a-4974-846a-6c99e1e63786",
   "metadata": {},
   "source": [
    "**`to_drop`**"
   ]
  },
  {
   "cell_type": "code",
   "execution_count": 663,
   "id": "442e0749-5acc-45b4-929c-afbcd719b7bd",
   "metadata": {},
   "outputs": [
    {
     "name": "stdout",
     "output_type": "stream",
     "text": [
      "0.1\n"
     ]
    },
    {
     "data": {
      "text/plain": [
       "False    0.91\n",
       "True     0.09\n",
       "Name: proportion, dtype: float64"
      ]
     },
     "execution_count": 663,
     "metadata": {},
     "output_type": "execute_result"
    }
   ],
   "source": [
    "print(dist_behav1.to_drop_rate)\n",
    "to_drop_list1 = []\n",
    "for _ in range(100):\n",
    "    to_drop_list1.append(dist_behav1.to_drop)\n",
    "to_drop_ser1 = pd.Series(to_drop_list1)\n",
    "to_drop_ser1.value_counts(normalize=True)"
   ]
  },
  {
   "cell_type": "markdown",
   "id": "bd27291e-c47a-4e1a-b832-d1527c2e325d",
   "metadata": {},
   "source": [
    "**`to_crypto`**"
   ]
  },
  {
   "cell_type": "code",
   "execution_count": 670,
   "id": "d4185f2d-1865-4d07-9a6a-c08054d3bc4d",
   "metadata": {},
   "outputs": [
    {
     "name": "stdout",
     "output_type": "stream",
     "text": [
      "0.1\n"
     ]
    },
    {
     "data": {
      "text/plain": [
       "False    0.9\n",
       "True     0.1\n",
       "Name: proportion, dtype: float64"
      ]
     },
     "execution_count": 670,
     "metadata": {},
     "output_type": "execute_result"
    }
   ],
   "source": [
    "dist_behav1.online = True\n",
    "print(dist_behav1.crypto_rate)\n",
    "to_drop_list2 = []\n",
    "\n",
    "for _ in range(100):\n",
    "    to_drop_list2.append(dist_behav1.to_drop)\n",
    "to_drop_ser2 = pd.Series(to_drop_list2)\n",
    "to_drop_ser2.value_counts(normalize=True)"
   ]
  },
  {
   "cell_type": "markdown",
   "id": "715e86be-6310-4d8c-a56b-d2a3dc4a2a2c",
   "metadata": {},
   "source": [
    "**`stop_after_decline`**"
   ]
  },
  {
   "cell_type": "code",
   "execution_count": 424,
   "id": "cdc58a09-76fd-4ccd-b4f7-2f726795a254",
   "metadata": {},
   "outputs": [
    {
     "data": {
      "text/plain": [
       "False"
      ]
     },
     "execution_count": 424,
     "metadata": {},
     "output_type": "execute_result"
    }
   ],
   "source": [
    "dist_behav1.attempts = 2\n",
    "dist_behav1.stop_after_decline(declined=True)"
   ]
  },
  {
   "cell_type": "markdown",
   "id": "c60ac3d1-203b-46bc-ac48-2994782aca63",
   "metadata": {},
   "source": [
    "**`reset_cache`**"
   ]
  },
  {
   "cell_type": "code",
   "execution_count": 464,
   "id": "446904f2-b8b7-4af2-9bf4-5913858a4b0e",
   "metadata": {},
   "outputs": [
    {
     "data": {
      "text/plain": [
       "(0, None, None, None)"
      ]
     },
     "execution_count": 464,
     "metadata": {},
     "output_type": "execute_result"
    }
   ],
   "source": [
    "dist_behav1.attempts = 3\n",
    "dist_behav1.scen = \"atm\"\n",
    "dist_behav1.online = True\n",
    "dist_behav1.in_chunks = False\n",
    "dist_behav1.reset_cache()\n",
    "dist_behav1.attempts, dist_behav1.scen, dist_behav1.online, dist_behav1.in_chunks"
   ]
  },
  {
   "cell_type": "markdown",
   "id": "64eaa02a-cd2d-4085-bbe8-41895303f9fe",
   "metadata": {},
   "source": [
    "**`attempts_after_decline`**  \n",
    "self.online = True, self.online = False"
   ]
  },
  {
   "cell_type": "code",
   "execution_count": 1028,
   "id": "945e52a8-c2aa-4d75-91af-664e64750921",
   "metadata": {},
   "outputs": [],
   "source": [
    "att_vals1 = []\n",
    "dist_behav1.online = False\n",
    "\n",
    "for _ in range(100):\n",
    "    dist_behav1.attempts_after_decline(declined=True)\n",
    "    att_vals1.append(dist_behav1.attempts)\n",
    "att_vals_ser1 = pd.Series(att_vals1)"
   ]
  },
  {
   "cell_type": "code",
   "execution_count": 1029,
   "id": "1f64eb20-fdfc-4ce2-99e3-0b2d0bc27f0d",
   "metadata": {},
   "outputs": [
    {
     "data": {
      "text/plain": [
       "min     0.00\n",
       "mean    1.71\n",
       "max     3.00\n",
       "dtype: float64"
      ]
     },
     "execution_count": 1029,
     "metadata": {},
     "output_type": "execute_result"
    }
   ],
   "source": [
    "att_vals_ser1.agg([\"min\",\"mean\", \"max\"])"
   ]
  },
  {
   "cell_type": "markdown",
   "id": "01de4895-2e77-4dde-b828-2b0edfb25a38",
   "metadata": {},
   "source": [
    "**`deduct_attempts`**"
   ]
  },
  {
   "cell_type": "code",
   "execution_count": 434,
   "id": "0beb0051-77be-4e00-a988-58f36de4211f",
   "metadata": {},
   "outputs": [
    {
     "data": {
      "text/plain": [
       "1"
      ]
     },
     "execution_count": 434,
     "metadata": {},
     "output_type": "execute_result"
    }
   ],
   "source": [
    "dist_behav1.attempts = 1\n",
    "dist_behav1.deduct_attempts(declined=True, receive=True)\n",
    "dist_behav1.attempts"
   ]
  },
  {
   "cell_type": "code",
   "execution_count": null,
   "id": "e32f2079-a46f-412c-b7c2-f2f547ea090f",
   "metadata": {},
   "outputs": [],
   "source": []
  },
  {
   "cell_type": "markdown",
   "id": "ed3be713-8ed6-42e7-943c-9dae25068e4f",
   "metadata": {},
   "source": [
    "**Расчет вероятностей сценариев в `DistBehaviorHandler`**"
   ]
  },
  {
   "cell_type": "code",
   "execution_count": null,
   "id": "1904efc4-7530-4ca5-bb54-669de7af8128",
   "metadata": {},
   "outputs": [],
   "source": [
    "# inbound_amt: \n",
    "#   low: 5000\n",
    "#   high: 100000\n",
    "#   mean: 30000\n",
    "#   std: 20000"
   ]
  },
  {
   "cell_type": "code",
   "execution_count": 308,
   "id": "1c81ad41-a44f-4d83-a0af-9d360c65513c",
   "metadata": {},
   "outputs": [],
   "source": [
    "# Баланс генерируется из обрезанного нормального распределения\n",
    "in_low1 = 5000\n",
    "in_high1 = 100000\n",
    "mean1 = 30000\n",
    "std1 = 20000\n",
    "a1 = (in_low1 - mean1) / std1\n",
    "b1 = (in_high1 - mean1) / std1\n",
    "\n",
    "split_rate = 0.7\n",
    "# Есть лимиты для сумм операций\n",
    "atm_min1 = 10000 # минимальная сумма для снятия. Частями или целиком определяется split_rate\n",
    "trf_lim = 40000 # максимальная сумма для перевода. Если больше - дробим на части\n",
    "trf_min = 3000*2 # минимальная сумма для перевода по частям. Если меньше - переводим целиком"
   ]
  },
  {
   "cell_type": "code",
   "execution_count": 309,
   "id": "7f23c923-6b11-428d-b20b-3a73893e6027",
   "metadata": {},
   "outputs": [
    {
     "data": {
      "text/plain": [
       "np.float64(0.345)"
      ]
     },
     "execution_count": 309,
     "metadata": {},
     "output_type": "execute_result"
    }
   ],
   "source": [
    "# вероятность что сумма будет больше trf_lim\n",
    "p_trf_lim = round(truncnorm(a=a1, b=b1, loc=mean1, scale=std1).sf(x=trf_lim), 3)\n",
    "p_trf_lim"
   ]
  },
  {
   "cell_type": "code",
   "execution_count": 310,
   "id": "04e15ce3-d049-4603-9a4e-ae3b7c875cb0",
   "metadata": {},
   "outputs": [
    {
     "data": {
      "text/plain": [
       "np.float64(0.596)"
      ]
     },
     "execution_count": 310,
     "metadata": {},
     "output_type": "execute_result"
    }
   ],
   "source": [
    "# Вероятность что сумма больше atm_min1 но меньше trf_lim\n",
    "p_atm_min = round(truncnorm(a=a1, b=b1, loc=mean1, scale=std1).sf(x=atm_min1) - p_trf_lim, 3)\n",
    "p_atm_min"
   ]
  },
  {
   "cell_type": "code",
   "execution_count": 311,
   "id": "e5b4c9d7-005d-455b-83c6-6bb998da5f38",
   "metadata": {},
   "outputs": [
    {
     "data": {
      "text/plain": [
       "np.float64(0.048)"
      ]
     },
     "execution_count": 311,
     "metadata": {},
     "output_type": "execute_result"
    }
   ],
   "source": [
    "# вероятность что сумма больше trf_min, но меньше trf_lim и atm_min1\n",
    "p_trf_min = round(truncnorm(a=a1, b=b1, loc=mean1, scale=std1).sf(x=trf_min) - p_trf_lim - p_atm_min, 3)\n",
    "p_trf_min"
   ]
  },
  {
   "cell_type": "code",
   "execution_count": 312,
   "id": "2f43a7d9-7b1a-4f11-801a-f64d043a1bf1",
   "metadata": {},
   "outputs": [
    {
     "data": {
      "text/plain": [
       "np.float64(0.6922999999999999)"
      ]
     },
     "execution_count": 312,
     "metadata": {},
     "output_type": "execute_result"
    }
   ],
   "source": [
    "split_rate = 0.7 # доля когда будем переводить частями\n",
    "\n",
    "(p_trf_lim + p_atm_min + p_trf_min) * split_rate"
   ]
  },
  {
   "cell_type": "code",
   "execution_count": 313,
   "id": "f4ed2841-b79d-4cfa-8bdc-e19bfca5cd9c",
   "metadata": {},
   "outputs": [
    {
     "data": {
      "text/plain": [
       "np.float64(0.6922999999999999)"
      ]
     },
     "execution_count": 313,
     "metadata": {},
     "output_type": "execute_result"
    }
   ],
   "source": [
    "round(truncnorm(a=a1, b=b1, loc=mean1, scale=std1).sf(x=trf_min), 3) * split_rate"
   ]
  },
  {
   "cell_type": "code",
   "execution_count": 315,
   "id": "e21aebcb-f010-443a-baba-26662b40ca19",
   "metadata": {},
   "outputs": [
    {
     "data": {
      "text/plain": [
       "np.float64(0.552)"
      ]
     },
     "execution_count": 315,
     "metadata": {},
     "output_type": "execute_result"
    }
   ],
   "source": [
    "\n",
    "# conditions = [\n",
    "#             (balance > self.trf_lim, [\"atm\",\"split_transfer\", \"atm+transfer\"]),\n",
    "#             (balance >= self.atm_min, [\"transfer\", \"atm\", \"split_transfer\", \"atm+transfer\"]),\n",
    "#             (balance >= self.trf_min * 2, [\"transfer\",\"split_transfer\"]),\n",
    "#             \"transfer\",\n",
    "#         ]\n",
    "# Вероятность случаев перевода частями если по условиям выше (синтаксически неправильно) и без split_rate\n",
    "p_trf_lim * 2/3 + p_atm_min * 1/2 + p_trf_min * 1/2"
   ]
  },
  {
   "cell_type": "code",
   "execution_count": 645,
   "id": "5d497ac0-6ba7-41b5-b3c1-40b347ffaa8b",
   "metadata": {},
   "outputs": [
    {
     "data": {
      "text/plain": [
       "np.float64(0.1015)"
      ]
     },
     "execution_count": 645,
     "metadata": {},
     "output_type": "execute_result"
    }
   ],
   "source": [
    "\n",
    "# conditions = [\n",
    "#             (balance > self.trf_lim, [\"atm\",\"split_transfer\", \"atm+transfer\"]),\n",
    "#             (balance >= self.atm_min, [\"transfer\", \"atm\", \"split_transfer\", \"atm+transfer\"]),\n",
    "#             (balance >= self.trf_min * 2, [\"transfer\",\"split_transfer\"]),\n",
    "#             \"transfer\",\n",
    "#         ]\n",
    "# Вероятность случаев перевода в крипту по условиям выше (синтаксически неправильно)\n",
    "crypto_rate = 0.14\n",
    "(p_trf_lim * 2/3 + p_atm_min * 3/4 + p_trf_min) * crypto_rate"
   ]
  },
  {
   "cell_type": "code",
   "execution_count": null,
   "id": "f2cc673f-ef93-401c-969e-59afc80107a9",
   "metadata": {},
   "outputs": [],
   "source": []
  },
  {
   "cell_type": "code",
   "execution_count": null,
   "id": "0c75f33c-2439-4496-973c-7949027f45cd",
   "metadata": {},
   "outputs": [],
   "source": []
  },
  {
   "cell_type": "markdown",
   "id": "78044594-150c-435f-a874-18564073f893",
   "metadata": {},
   "source": [
    "## Класс `DropBaseClasses`  \n",
    "Агрегатор базовых классов для дропов"
   ]
  },
  {
   "cell_type": "code",
   "execution_count": null,
   "id": "aba4cb23-b1cd-434d-b691-ff6e112db791",
   "metadata": {},
   "outputs": [],
   "source": [
    "class DropBaseClasses:\n",
    "    \"\"\"\n",
    "    acc_hand: DropAccountHandler. Управление счетами транзакций.\n",
    "    amt_hand: DropAmountHandler. Управление суммами транзакций.\n",
    "    part_data: DropTxnPartData. Генерация части данных транзакции:\n",
    "               гео, ip, город, мерчант id и т.п.\n",
    "    time_hand: DropTimeHandler. Генерация времени транзакций.\n",
    "    behav_hand: DistBehaviorHandler| PurchBehaviorHandler. Управление поведением дропа\n",
    "    \"\"\"\n",
    "    acc_hand: DropAccountHandler\n",
    "    amt_hand: DropAmountHandler\n",
    "    part_data: DropTxnPartData\n",
    "    time_hand: DropTimeHandler\n",
    "    behav_hand: Union[DistBehaviorHandler, PurchBehaviorHandler] # PurchBehaviorHandler импортирован. Он будет показан в следующем ноутбуке"
   ]
  },
  {
   "cell_type": "code",
   "execution_count": null,
   "id": "ce4e7524-208c-4d6c-997d-207edbadcfb0",
   "metadata": {},
   "outputs": [],
   "source": []
  },
  {
   "cell_type": "markdown",
   "id": "211ccbc6-9e4e-4195-82ea-e14b15a61949",
   "metadata": {},
   "source": [
    "## Класс `CreateDropTxn`"
   ]
  },
  {
   "cell_type": "code",
   "execution_count": 270,
   "id": "f300af58-3414-48c8-af1a-799e79120cf7",
   "metadata": {},
   "outputs": [],
   "source": [
    "class CreateDistTxn:\n",
    "    \"\"\"\n",
    "    Создание транзакций дропа распределителя под разное поведение.\n",
    "    \"\"\"\n",
    "    def __init__(self, timestamps, trans_partial_data, drop_client_cls, in_txns=0, out_txns=0, in_lim=6, out_lim=8, last_txn={}, \\\n",
    "                attempts=0):\n",
    "        \"\"\"\n",
    "        timestamps - pd.DataFrame.\n",
    "        trans_partial_data - FraudTransPartialData. Генератор части данных транзакции - мерчант, гео, ip, девайс и т.п.\n",
    "        drop_client_cls - DropClient. Генератор активности дропов: суммы, счета, баланс\n",
    "        in_txns - int. Количество входящих транзакций\n",
    "        out_txns - int. Количество исходящих транзакций\n",
    "        in_lim - int. Лимит входящих транзакций. Транзакции клиента совершенные после достижения этого лимита отклоняются\n",
    "        out_lim - int. Лимит исходящих транзакций. Транзакции клиента совершенные после достижения этого лимита отклоняются\n",
    "        last_txn - dict. Полные данные последней транзакции\n",
    "        attempts - int. Сколько попыток совершить операцию будет сделано дропом после первой отклоненной транзакции.\n",
    "        \"\"\"\n",
    "        self.timestamps = timestamps\n",
    "        self.trans_partial_data = trans_partial_data\n",
    "        self.drop_client = drop_client_cls\n",
    "        self.in_txns = in_txns\n",
    "        self.out_txns = out_txns\n",
    "        self.in_lim = in_lim\n",
    "        self.out_lim = out_lim\n",
    "        self.last_txn = last_txn\n",
    "        self.attempts = attempts\n",
    "\n",
    "\n",
    "    def cash_flow_action(self, online, declined, in_chunks, to_drop_share=0.2, receive=False): # <------------------------- KEEP, EDIT\n",
    "        \"\"\"\n",
    "        Один входящий/исходящий перевод либо одно снятие в банкомате.\n",
    "        ---------------------\n",
    "        online - bool. Онлайн перевод или снятие в банкомате.\n",
    "        declined - bool. Будет ли текущая транзакция отклонена.\n",
    "        in_chunks - bool. Транзакция будет частью серии транзакций.\n",
    "        to_drop_share - float. Вероятность, что дроп пошлет другому дропу\n",
    "        receive - входящий перевод или нет.\n",
    "        \"\"\"\n",
    "        client_id = self.trans_partial_data.client_info.client_id # берем из namedtuple\n",
    "        \n",
    "        # Время транзакции. Оно должно быть создано до увеличения счетчика self.in_txns\n",
    "        txn_time, txn_unix = self.get_txn_time(in_lim=2, out_lim=5, lag_interval=1440)\n",
    "\n",
    "        # перевод дропу\n",
    "        if receive:\n",
    "            self.in_txns += 1\n",
    "            amount = self.drop_client.receive(declined=declined)\n",
    "            account = self.drop_client.account\n",
    "        # перевод от дропа    \n",
    "        elif not receive and online:\n",
    "            to_drop = np.random.choice([True, False], p=[to_drop_share, 1 - to_drop_share])\n",
    "            self.out_txns += 1\n",
    "            account = self.drop_client.get_account(to_drop=to_drop)\n",
    "        # снятие дропом    \n",
    "        elif not receive and not online:\n",
    "            account = self.drop_client.account\n",
    "            self.out_txns += 1\n",
    "        \n",
    "        # Генерация части данных транзакции. Здесь прописываются аргументы online и receive\n",
    "        merchant_id, trans_lat, trans_lon, trans_ip, trans_city, device_id, channel, type = \\\n",
    "                                                self.trans_partial_data.original_transfer_or_atm(online=online, receive=receive)\n",
    "        \n",
    "        # Генерация суммы если исходящая транзакция\n",
    "        # Если эта транзакция только часть серии операций для распределения всего баланса\n",
    "        if in_chunks:\n",
    "            chunk = self.drop_client.get_chunk_size(online=online, atm_min=10000, start=5000, stop=25000, step=5000)\n",
    "            amount = self.drop_client.one_operation(declined=declined, in_chunks=in_chunks)\n",
    "            \n",
    "        # Иначе если не по частям и не входящая транзакция. not receive т.к. этот метод и для входящих транзакций\n",
    "        # а у входящих транзакций своя генерация суммы\n",
    "        elif not in_chunks and not receive:\n",
    "            amount = self.drop_client.one_operation(declined=declined, in_chunks=in_chunks)\n",
    "\n",
    "        if declined:\n",
    "            status = \"declined\"\n",
    "            is_fraud = True\n",
    "            rule = \"drop_flow_cashout\"\n",
    "        else:\n",
    "            status = \"approved\"\n",
    "            is_fraud = False\n",
    "            rule = \"not applicable\"\n",
    "\n",
    "        # Статичные характеристики\n",
    "        is_suspicious = False\n",
    "        category_name=\"not applicable\"\n",
    "\n",
    "        # Сборка всех данных в транзакцию и запись как послдней транзакции\n",
    "        self.last_txn = build_transaction(client_id=client_id, txn_time=txn_time, txn_unix=txn_unix, amount=amount, type=type, channel=channel, \\\n",
    "                             category_name=category_name, online=online, merchant_id=merchant_id, trans_city=trans_city, \\\n",
    "                             trans_lat=trans_lat, trans_lon=trans_lon, trans_ip=trans_ip, device_id=device_id, account=account, \\\n",
    "                             is_fraud=is_fraud, is_suspicious=is_suspicious, status=status, rule=rule)\n",
    "\n",
    "        return self.last_txn\n",
    "\n",
    "    \n",
    "    def limit_reached(self): # <------------------------- KEEP\n",
    "        \"\"\"\n",
    "        Проверка достижения лимитов входящих и исходящих транзакций\n",
    "        Сверка с self.in_lim и self.out_lim\n",
    "        ------------------------\n",
    "        Вернет True если какой либо лимит достигнут\n",
    "        \"\"\"\n",
    "        if self.in_lim == self.in_txns:\n",
    "            return True\n",
    "        if self.out_lim == self.out_txns:\n",
    "            return True\n",
    "        return False\n",
    "\n",
    "    def reset_cache(self, only_counters=True): # <------------------------- KEEP, EDIT\n",
    "        \"\"\"\n",
    "        Сброос кэшированных данных\n",
    "        -------------\n",
    "        only_counters - bool\n",
    "                        Если True будут сброшены: self.in_txns, self.out_txns, self.attempts.\n",
    "                        Если False то также сбросится информация о последней транзакции self.last_txn\n",
    "        \"\"\"\n",
    "        \n",
    "        self.in_txns = 0\n",
    "        self.out_txns = 0\n",
    "        self.batch_txns = 0\n",
    "\n",
    "        if only_counters:\n",
    "            return\n",
    "\n",
    "        self.last_txn = {}"
   ]
  },
  {
   "cell_type": "code",
   "execution_count": null,
   "id": "b69ccdca-5a4d-463b-ae00-3192bf85239e",
   "metadata": {},
   "outputs": [],
   "source": [
    "# class CreateDropTxn:\n",
    "#     \"\"\"\n",
    "#     Создание транзакций дропа под разное поведение.\n",
    "#     \"\"\"\n",
    "#     def __init__(self, timestamps, trans_partial_data, drop_client_cls, in_txns=0, out_txns=0, in_lim=6, out_lim=8, last_txn={}, \\\n",
    "#                 attempts=0):\n",
    "#         \"\"\"\n",
    "#         timestamps - pd.DataFrame.\n",
    "#         trans_partial_data - FraudTransPartialData. Генератор части данных транзакции - мерчант, гео, ip, девайс и т.п.\n",
    "#         drop_client_cls - DropClient. Генератор активности дропов: суммы, счета, баланс\n",
    "#         in_txns - int. Количество входящих транзакций\n",
    "#         out_txns - int. Количество исходящих транзакций\n",
    "#         in_lim - int. Лимит входящих транзакций. Транзакции клиента совершенные после достижения этого лимита отклоняются\n",
    "#         out_lim - int. Лимит исходящих транзакций. Транзакции клиента совершенные после достижения этого лимита отклоняются\n",
    "#         last_txn - dict. Полные данные последней транзакции\n",
    "#         attempts - int. Сколько попыток совершить операцию будет сделано дропом после первой отклоненной транзакции.\n",
    "#         \"\"\"\n",
    "#         self.timestamps = timestamps\n",
    "#         self.trans_partial_data = trans_partial_data\n",
    "#         self.drop_client = drop_client_cls\n",
    "#         self.in_txns = in_txns\n",
    "#         self.out_txns = out_txns\n",
    "#         self.in_lim = in_lim\n",
    "#         self.out_lim = out_lim\n",
    "#         self.last_txn = last_txn\n",
    "#         self.attempts = attempts\n",
    "\n",
    "#     def get_time_delta(self, min=-180, max=180, minutes=True):\n",
    "#         \"\"\"\n",
    "#         Получение случайного интервала времени в секундах или минутах из равномерного распределения\n",
    "#         ---------------------\n",
    "#         min - int. Минимальное возможное значение\n",
    "#         max - int. Максимальное возможное значение\n",
    "#         minutes - bool. Минуты или секунды\n",
    "#         \"\"\"\n",
    "#         if minutes:\n",
    "#             return round(np.random.uniform(min, max))\n",
    "            \n",
    "#         return round(np.random.uniform(min, max) * 60)\n",
    "\n",
    "#     def get_txn_time(self, in_lim=2, out_lim=5, lag_interval=1440):\n",
    "#         \"\"\"\n",
    "#         Генерация времени транзакции\n",
    "#         ------------------\n",
    "#         in_lim - int. Количество входящих транзакций после которых дроп уходит на паузу указанную в lag_interval\n",
    "#                       Т.е. если на момент генерации времени уже сделано in_lim транзакций, то берется время последней\n",
    "#                       транзакции и прибавляется указанный lag_interval +/- случайное число минут из delta.\n",
    "#         out_lim - int. Количество исходящих транзакций после которых дроп уходит на паузу указанную в lag_interval\n",
    "#         lag_interval - int. Желаемый лаг по времени от последней транзакции в минутах.\n",
    "#                             Используется для перерывов в активности дропа. По умолчанию 1440 минут т.е. 24 часа\n",
    "#         \"\"\"\n",
    "#         # Если это первая транзакция. Т.к. активность дропа начинается с входящей транзакции\n",
    "#         if self.in_txns == 0:\n",
    "#             time_sample = self.timestamps.sample(1)\n",
    "#             txn_time = time_sample.timestamp.iat[0]\n",
    "#             txn_unix = time_sample.unix_time.iat[0]\n",
    "#             return txn_time, txn_unix\n",
    "\n",
    "#         # Для последующих транзакций\n",
    "#         last_txn_unix = self.last_txn[\"unix_time\"]\n",
    "\n",
    "#         # Если достигнуты лимиты активности дропа на период: входящих или исходящих транзакций\n",
    "#         if self.in_txns == in_lim or self.out_txns == out_lim:\n",
    "#             # Генерация дельты, чтобы время выглядело не ровным, а случайным.\n",
    "#             # Слагаем её с lag_interval\n",
    "#             time_delta = self.get_time_delta(min=-180, max=180)\n",
    "#             lag_interval += time_delta\n",
    "#             return derive_from_last_time(last_txn_unix=last_txn_unix, lag_interval=lag_interval)\n",
    "\n",
    "#         # Тоже дельта, но не может быть <= 0 т.к. тут мы ее используем как lag_interval\n",
    "#         # Это для случаев когда транзакция совершается в тот же период активности что и последняя\n",
    "#         time_delta = self.get_time_delta(min=30, max=180)\n",
    "        \n",
    "\n",
    "#         return derive_from_last_time(last_txn_unix=last_txn_unix, lag_interval=time_delta)\n",
    "\n",
    "    \n",
    "#     def stop_after_decline(self, declined):\n",
    "#         \"\"\"\n",
    "#         Будет ли дроп пытаться еще после отклоненной операции\n",
    "#         или остановится\n",
    "#         ---------------\n",
    "#         declined - bool. Отклонена ли операция. Подразумевается что последняя.\n",
    "#         \"\"\"\n",
    "#         if not declined:\n",
    "#             return\n",
    "        \n",
    "#         if self.attempts == 0:\n",
    "#             return True\n",
    "\n",
    "#         if self.attempts > 0:\n",
    "#             return False\n",
    "\n",
    "            \n",
    "#     def attempts_after_decline(self, min=0, max=4):\n",
    "#         \"\"\"\n",
    "#         Определение количества попыток после первой отклоненной транзакции\n",
    "#         ---------------\n",
    "#         min - int. Минимальное число попыток\n",
    "#         max - int. Максимальное число попыток.\n",
    "#         \"\"\"\n",
    "#         self.attempts = np.random.randint(min, max + 1)\n",
    "            \n",
    "        \n",
    "#     def deduct_attempts(self, declined, receive):\n",
    "#         \"\"\"\n",
    "#         Вычитание попытки операции совершенной при статусе declined\n",
    "#         ---------------\n",
    "#         declined - bool. Отклоняется ли текущая транзакция\n",
    "#         receive - bool. Является ли транзакция входящей\n",
    "#         \"\"\"\n",
    "#         if self.attempts == 0:\n",
    "#             return \n",
    "            \n",
    "#         if declined and not receive:\n",
    "#             self.attempts -= 1\n",
    "            \n",
    "        \n",
    "#     def cash_flow_action(self, online, declined, in_chunks, to_drop_share=0.2, receive=False):\n",
    "#         \"\"\"\n",
    "#         Один входящий/исходящий перевод либо одно снятие в банкомате.\n",
    "#         ---------------------\n",
    "#         online - bool. Онлайн перевод или снятие в банкомате.\n",
    "#         declined - bool. Будет ли текущая транзакция отклонена.\n",
    "#         in_chunks - bool. Транзакция будет частью серии транзакций.\n",
    "#         to_drop_share - float. Вероятность, что дроп пошлет другому дропу\n",
    "#         receive - входящий перевод или нет.\n",
    "#         \"\"\"\n",
    "#         client_id = self.trans_partial_data.client_info.client_id\n",
    "        \n",
    "#         # Время транзакции. Оно должно быть создано до увеличения счетчика self.in_txns\n",
    "#         txn_time, txn_unix = self.get_txn_time(in_lim=2, out_lim=5, lag_interval=1440)\n",
    "\n",
    "#         if receive:\n",
    "#             self.in_txns += 1\n",
    "#             amount = self.drop_client.receive(declined=declined)\n",
    "#             account = self.drop_client.account\n",
    "            \n",
    "#         elif not receive and online:\n",
    "#             to_drop = np.random.choice([True, False], p=[to_drop_share, 1 - to_drop_share])\n",
    "#             self.out_txns += 1\n",
    "#             account = self.drop_client.get_account(to_drop=to_drop)\n",
    "            \n",
    "#         elif not receive and not online:\n",
    "#             account = self.drop_client.account\n",
    "#             self.out_txns += 1\n",
    "        \n",
    "            \n",
    "#         # Генерация части данных транзакции. Здесь прописываются аргументы online и receive\n",
    "#         merchant_id, trans_lat, trans_lon, trans_ip, trans_city, device_id, channel, type = \\\n",
    "#                                                 self.trans_partial_data.original_transfer_or_atm(online=online, receive=receive)\n",
    "        \n",
    "#         # Генерация суммы если исходящая транзакция\n",
    "#         # Если эта транзакция только часть серии операций для распределения всего баланса\n",
    "#         if in_chunks:\n",
    "#             chunk = self.drop_client.get_chunk_size(online=online, atm_min=10000, start=5000, stop=25000, step=5000)\n",
    "#             amount = self.drop_client.one_operation(amount=chunk, declined=declined, in_chunks=in_chunks)\n",
    "            \n",
    "#         # Иначе если не по частям и не входящая транзакция\n",
    "#         elif not in_chunks and not receive:\n",
    "#             amount = self.drop_client.one_operation(declined=declined, in_chunks=in_chunks)\n",
    "\n",
    "#         if declined:\n",
    "#             status = \"declined\"\n",
    "#             is_fraud = True\n",
    "#             rule = \"drop_flow_cashout\"\n",
    "#         else:\n",
    "#             status = \"approved\"\n",
    "#             is_fraud = False\n",
    "#             rule = \"not applicable\"\n",
    "\n",
    "#         # Статичные характеристики\n",
    "#         is_suspicious = False\n",
    "#         category_name=\"not applicable\"\n",
    "\n",
    "#         # Сборка всех данных в транзакцию и запись как послдней транзакции\n",
    "#         self.last_txn = build_transaction(client_id=client_id, txn_time=txn_time, txn_unix=txn_unix, amount=amount, type=type, channel=channel, \\\n",
    "#                              category_name=category_name, online=online, merchant_id=merchant_id, trans_city=trans_city, \\\n",
    "#                              trans_lat=trans_lat, trans_lon=trans_lon, trans_ip=trans_ip, device_id=device_id, account=account, \\\n",
    "#                              is_fraud=is_fraud, is_suspicious=is_suspicious, status=status, rule=rule)\n",
    "\n",
    "#         return self.last_txn\n",
    "\n",
    "#     def limit_reached(self):\n",
    "#         \"\"\"\n",
    "#         Проверка достижения лимитов входящих и исходящих транзакций\n",
    "#         Сверка с self.in_lim и self.out_lim\n",
    "#         ------------------------\n",
    "#         Вернет True если какой либо лимит достигнут\n",
    "#         \"\"\"\n",
    "#         if self.in_lim == self.in_txns:\n",
    "#             return True\n",
    "#         if self.out_lim == self.out_txns:\n",
    "#             return True\n",
    "#         return False\n",
    "\n",
    "#     def reset_txn_counters(self, in_txns=False, out_txns=False, batch_txns=False):\n",
    "#         \"\"\"\n",
    "#         Сброс счетчиков входящих и/или исходящих транзакций\n",
    "#         Партия денег это полученные деньги которые дроп должен распределить\n",
    "#         ------------------\n",
    "#         in_txns - bool. Сбросить счетчик входящих.\n",
    "#         out_txns - bool. Сбросить счетчик исходящих.\n",
    "#         batch_txns - bool. Сбросить счетчик транзакций партии денег.\n",
    "#         \"\"\"\n",
    "#         if in_txns:\n",
    "#             self.in_txns = 0\n",
    "#         if out_txns:\n",
    "#             self.out_txns = 0\n",
    "#         if batch_txns:\n",
    "#             self.batch_txns = 0\n",
    "\n",
    "#     def reset_cache(self, only_counters=True):\n",
    "#         \"\"\"\n",
    "#         Сброос кэшированных данных\n",
    "#         -------------\n",
    "#         only_counters - bool\n",
    "#                         Если True будут сброшены: self.in_txns, self.out_txns, self.attempts.\n",
    "#                         Если False то также сбросится информация о последней транзакции self.last_txn\n",
    "#         \"\"\"\n",
    "        \n",
    "#         self.in_txns = 0\n",
    "#         self.out_txns = 0\n",
    "#         self.attempts = 0\n",
    "\n",
    "#         if only_counters:\n",
    "#             return\n",
    "\n",
    "#         self.last_txn = {}"
   ]
  },
  {
   "cell_type": "markdown",
   "id": "d7a2d922-3a9d-46b1-b263-7cb56cdb6353",
   "metadata": {},
   "source": [
    "**Тест `CreateDropTxn`**"
   ]
  },
  {
   "cell_type": "code",
   "execution_count": 992,
   "id": "f1d3535f-26be-49cc-a9ba-23efa3d8f00b",
   "metadata": {},
   "outputs": [
    {
     "data": {
      "text/plain": [
       "Pandas(Index=8, client_id=11794, district_id=31, birth_date='1970-10-07', sex='female', region='Томская', area='Томск', timezone='UTC+7', lat=56.4847036, lon=84.9481737, population=522940, home_ip='2.60.20.87', geometry=<MULTIPOLYGON (((84.828 56.546, 84.828 56.546, 84.828 56.546, 84.828 56.546,...>)"
      ]
     },
     "execution_count": 992,
     "metadata": {},
     "output_type": "execute_result"
    }
   ],
   "source": [
    "import data_generator.indev\n",
    "import data_generator.fraud.drops.base\n",
    "import data_generator.configs\n",
    "import data_generator.fraud.drops.behavior\n",
    "import data_generator.fraud.txndata\n",
    "import data_generator.fraud.drops.time\n",
    "\n",
    "importlib.reload(data_generator.indev)\n",
    "importlib.reload(data_generator.fraud.drops.base)\n",
    "importlib.reload(data_generator.configs)\n",
    "importlib.reload(data_generator.fraud.drops.behavior)\n",
    "importlib.reload(data_generator.fraud.txndata)\n",
    "importlib.reload(data_generator.fraud.drops.time)\n",
    "\n",
    "from data_generator.fraud.drops.base import DropAccountHandler\n",
    "from data_generator.fraud.drops.base import DropAmountHandler\n",
    "from data_generator.fraud.drops.behavior import DistBehaviorHandler\n",
    "from data_generator.indev import CreateDropTxn\n",
    "from data_generator.configs import DropBaseClasses\n",
    "from data_generator.fraud.txndata import DropTxnPartData\n",
    "from data_generator.fraud.drops.time import DropTimeHandler\n",
    "\n",
    "acc_hand1 = DropAccountHandler(configs=dist_configs)\n",
    "amt_hand1 = DropAmountHandler(configs=dist_configs)\n",
    "part_data1 = DropTxnPartData(configs=dist_configs)\n",
    "time_hand1 = DropTimeHandler(configs=dist_configs)\n",
    "behav_hand1 = DistBehaviorHandler(configs=dist_configs, amt_hand=amt_hand1)\n",
    "base_agg1 = DropBaseClasses(acc_hand=acc_hand1, amt_hand=amt_hand1, part_data=part_data1, \\\n",
    "                            time_hand=time_hand1, behav_hand = behav_hand1)\n",
    "\n",
    "cr_drop_txn1 = CreateDropTxn(configs=dist_configs, base=base_agg1, \\\n",
    "                 categories=drop_purch_cats)\n",
    "\n",
    "for client in dist_drop_clients.iloc[[8]].itertuples():\n",
    "    part_data1.client_info = client\n",
    "    acc_hand1.client_id = client.client_id\n",
    "    acc_hand1.get_account(own=True)\n",
    "part_data1.client_info"
   ]
  },
  {
   "cell_type": "code",
   "execution_count": 895,
   "id": "41b4a451-17ed-4cba-8c58-149d63158be8",
   "metadata": {},
   "outputs": [],
   "source": [
    "def reset_caches(cr_drop_txn, behav_hand, amt_hand, time_hand, part_data):\n",
    "    cr_drop_txn.reset_cache()\n",
    "    behav_hand.reset_cache(all=False)\n",
    "    amt_hand.reset_cache(life_end=True) # batch_txns здесь\n",
    "    time_hand.reset_cache()\n",
    "    part_data.reset_cache()"
   ]
  },
  {
   "cell_type": "markdown",
   "id": "10db44f4-4a76-4677-9c71-56bf7daa09c1",
   "metadata": {},
   "source": [
    "**`CreateDropTxn.trf_or_atm` тест**"
   ]
  },
  {
   "cell_type": "code",
   "execution_count": 719,
   "id": "e55db8c7-684b-4e7a-a0e1-1ff8b68d1107",
   "metadata": {},
   "outputs": [
    {
     "data": {
      "text/plain": [
       "(0, 0, None, 0)"
      ]
     },
     "execution_count": 719,
     "metadata": {},
     "output_type": "execute_result"
    }
   ],
   "source": [
    "cr_drop_txn1.in_txns, cr_drop_txn1.out_txns, cr_drop_txn1.last_txn, amt_hand1.batch_txns"
   ]
  },
  {
   "cell_type": "code",
   "execution_count": 720,
   "id": "59411a05-127f-4cca-86c8-37d2f31a4e8f",
   "metadata": {},
   "outputs": [
    {
     "data": {
      "text/plain": [
       "Pandas(Index=8, client_id=11794, district_id=31, birth_date='1970-10-07', sex='female', region='Томская', area='Томск', timezone='UTC+7', lat=56.4847036, lon=84.9481737, population=522940, home_ip='2.60.20.87', geometry=<MULTIPOLYGON (((84.828 56.546, 84.828 56.546, 84.828 56.546, 84.828 56.546,...>)"
      ]
     },
     "execution_count": 720,
     "metadata": {},
     "output_type": "execute_result"
    }
   ],
   "source": [
    "cr_drop_txn1.txn_part_data.client_info"
   ]
  },
  {
   "cell_type": "markdown",
   "id": "975069e6-4a5b-4448-b4a2-a3da40241e74",
   "metadata": {},
   "source": [
    "**`category_and_channel`**"
   ]
  },
  {
   "cell_type": "code",
   "execution_count": 721,
   "id": "27af35ec-5591-4a15-9e7e-b167e8914929",
   "metadata": {},
   "outputs": [
    {
     "data": {
      "text/plain": [
       "('crypto_exchange', 'balance_top_up')"
      ]
     },
     "execution_count": 721,
     "metadata": {},
     "output_type": "execute_result"
    }
   ],
   "source": [
    "cr_drop_txn1.category_and_channel(dist=True)"
   ]
  },
  {
   "cell_type": "code",
   "execution_count": 532,
   "id": "16930e30-447b-459f-ab31-b6c27b397c55",
   "metadata": {},
   "outputs": [],
   "source": [
    "channels1 = []\n",
    "categories1 = []\n",
    "chan_and_cat1 = pd.DataFrame()\n",
    "\n",
    "for _ in range(1000):\n",
    "    chan1, cat1 = cr_drop_txn1.category_and_channel(dist=False)\n",
    "    channels1.append(chan1)\n",
    "    categories1.append(cat1)\n",
    "    \n",
    "chan_and_cat1[\"channel\"] = channels1\n",
    "chan_and_cat1[\"category\"] = categories1"
   ]
  },
  {
   "cell_type": "code",
   "execution_count": 535,
   "id": "e2ac7829-b956-4f98-80ad-dd452f6589c7",
   "metadata": {},
   "outputs": [
    {
     "data": {
      "text/html": [
       "<div>\n",
       "<style scoped>\n",
       "    .dataframe tbody tr th:only-of-type {\n",
       "        vertical-align: middle;\n",
       "    }\n",
       "\n",
       "    .dataframe tbody tr th {\n",
       "        vertical-align: top;\n",
       "    }\n",
       "\n",
       "    .dataframe thead th {\n",
       "        text-align: right;\n",
       "    }\n",
       "</style>\n",
       "<table border=\"1\" class=\"dataframe\">\n",
       "  <thead>\n",
       "    <tr style=\"text-align: right;\">\n",
       "      <th></th>\n",
       "      <th>category</th>\n",
       "      <th>weight</th>\n",
       "    </tr>\n",
       "  </thead>\n",
       "  <tbody>\n",
       "    <tr>\n",
       "      <th>0</th>\n",
       "      <td>shopping_net</td>\n",
       "      <td>0.60</td>\n",
       "    </tr>\n",
       "    <tr>\n",
       "      <th>1</th>\n",
       "      <td>misc_net</td>\n",
       "      <td>0.25</td>\n",
       "    </tr>\n",
       "    <tr>\n",
       "      <th>2</th>\n",
       "      <td>travel_net</td>\n",
       "      <td>0.15</td>\n",
       "    </tr>\n",
       "  </tbody>\n",
       "</table>\n",
       "</div>"
      ],
      "text/plain": [
       "       category  weight\n",
       "0  shopping_net    0.60\n",
       "1      misc_net    0.25\n",
       "2    travel_net    0.15"
      ]
     },
     "execution_count": 535,
     "metadata": {},
     "output_type": "execute_result"
    }
   ],
   "source": [
    "drop_purch_cats"
   ]
  },
  {
   "cell_type": "code",
   "execution_count": 536,
   "id": "da8f4ce1-f385-4965-bd19-c7bec2206678",
   "metadata": {},
   "outputs": [
    {
     "data": {
      "text/html": [
       "<div>\n",
       "<style scoped>\n",
       "    .dataframe tbody tr th:only-of-type {\n",
       "        vertical-align: middle;\n",
       "    }\n",
       "\n",
       "    .dataframe tbody tr th {\n",
       "        vertical-align: top;\n",
       "    }\n",
       "\n",
       "    .dataframe thead th {\n",
       "        text-align: right;\n",
       "    }\n",
       "</style>\n",
       "<table border=\"1\" class=\"dataframe\">\n",
       "  <thead>\n",
       "    <tr style=\"text-align: right;\">\n",
       "      <th></th>\n",
       "      <th>channel</th>\n",
       "      <th>category</th>\n",
       "      <th>proportion</th>\n",
       "    </tr>\n",
       "  </thead>\n",
       "  <tbody>\n",
       "    <tr>\n",
       "      <th>0</th>\n",
       "      <td>ecom</td>\n",
       "      <td>shopping_net</td>\n",
       "      <td>0.596</td>\n",
       "    </tr>\n",
       "    <tr>\n",
       "      <th>1</th>\n",
       "      <td>ecom</td>\n",
       "      <td>misc_net</td>\n",
       "      <td>0.256</td>\n",
       "    </tr>\n",
       "    <tr>\n",
       "      <th>2</th>\n",
       "      <td>ecom</td>\n",
       "      <td>travel_net</td>\n",
       "      <td>0.148</td>\n",
       "    </tr>\n",
       "  </tbody>\n",
       "</table>\n",
       "</div>"
      ],
      "text/plain": [
       "  channel      category  proportion\n",
       "0    ecom  shopping_net       0.596\n",
       "1    ecom      misc_net       0.256\n",
       "2    ecom    travel_net       0.148"
      ]
     },
     "execution_count": 536,
     "metadata": {},
     "output_type": "execute_result"
    }
   ],
   "source": [
    "chan_and_cat1.value_counts(normalize=True).reset_index()"
   ]
  },
  {
   "cell_type": "markdown",
   "id": "44352806-f418-4860-9818-d53d41603735",
   "metadata": {},
   "source": [
    "**`status_and_rule`**  \n",
    "значения: status, is_fraud, rule"
   ]
  },
  {
   "cell_type": "code",
   "execution_count": 554,
   "id": "b9d8a73d-6056-437e-8efa-478bdb9c93d5",
   "metadata": {},
   "outputs": [
    {
     "data": {
      "text/plain": [
       "('approved', False, 'not applicable')"
      ]
     },
     "execution_count": 554,
     "metadata": {},
     "output_type": "execute_result"
    }
   ],
   "source": [
    "cr_drop_txn1.status_and_rule(declined=False, dist=False)"
   ]
  },
  {
   "cell_type": "markdown",
   "id": "f434619c-ca8e-4675-895e-15b8182cabbe",
   "metadata": {},
   "source": [
    "### **`trf_or_atm`**"
   ]
  },
  {
   "cell_type": "markdown",
   "id": "6fb81fc0-5e0e-4da9-9b45-1e0639e9de6a",
   "metadata": {},
   "source": [
    "НЕ отклоненный входящий перевод  \n",
    "`BehavHand.online=None, receive=True, declined=False, BehavHand.in_chunks=False`"
   ]
  },
  {
   "cell_type": "code",
   "execution_count": 569,
   "id": "b07f5b4a-16f7-4dc0-98ad-0f8c15566ac7",
   "metadata": {},
   "outputs": [
    {
     "data": {
      "text/html": [
       "<div>\n",
       "<style scoped>\n",
       "    .dataframe tbody tr th:only-of-type {\n",
       "        vertical-align: middle;\n",
       "    }\n",
       "\n",
       "    .dataframe tbody tr th {\n",
       "        vertical-align: top;\n",
       "    }\n",
       "\n",
       "    .dataframe thead th {\n",
       "        text-align: right;\n",
       "    }\n",
       "</style>\n",
       "<table border=\"1\" class=\"dataframe\">\n",
       "  <thead>\n",
       "    <tr style=\"text-align: right;\">\n",
       "      <th></th>\n",
       "      <th>client_id</th>\n",
       "      <th>account_id</th>\n",
       "      <th>is_drop</th>\n",
       "    </tr>\n",
       "  </thead>\n",
       "  <tbody>\n",
       "    <tr>\n",
       "      <th>5206</th>\n",
       "      <td>11794</td>\n",
       "      <td>15206</td>\n",
       "      <td>False</td>\n",
       "    </tr>\n",
       "  </tbody>\n",
       "</table>\n",
       "</div>"
      ],
      "text/plain": [
       "      client_id  account_id  is_drop\n",
       "5206      11794       15206    False"
      ]
     },
     "execution_count": 569,
     "metadata": {},
     "output_type": "execute_result"
    }
   ],
   "source": [
    "acc_hand1.accounts.query(\"client_id == 11794\")[\"account\"]\n",
    "acc_hand1.accounts.loc[acc_hand1.accounts.client_id == acc_hand1.client_id, \"account_id\"].iat[0]"
   ]
  },
  {
   "cell_type": "code",
   "execution_count": 993,
   "id": "30f3acbc-25f6-46e6-b03b-085f71301659",
   "metadata": {},
   "outputs": [
    {
     "data": {
      "text/html": [
       "<div>\n",
       "<style scoped>\n",
       "    .dataframe tbody tr th:only-of-type {\n",
       "        vertical-align: middle;\n",
       "    }\n",
       "\n",
       "    .dataframe tbody tr th {\n",
       "        vertical-align: top;\n",
       "    }\n",
       "\n",
       "    .dataframe thead th {\n",
       "        text-align: right;\n",
       "    }\n",
       "</style>\n",
       "<table border=\"1\" class=\"dataframe\">\n",
       "  <thead>\n",
       "    <tr style=\"text-align: right;\">\n",
       "      <th></th>\n",
       "      <th>client_id</th>\n",
       "      <th>txn_time</th>\n",
       "      <th>unix_time</th>\n",
       "      <th>amount</th>\n",
       "      <th>type</th>\n",
       "      <th>channel</th>\n",
       "      <th>category</th>\n",
       "      <th>online</th>\n",
       "      <th>merchant_id</th>\n",
       "      <th>trans_city</th>\n",
       "      <th>trans_lat</th>\n",
       "      <th>trans_lon</th>\n",
       "      <th>trans_ip</th>\n",
       "      <th>device_id</th>\n",
       "      <th>account</th>\n",
       "      <th>is_fraud</th>\n",
       "      <th>is_suspicious</th>\n",
       "      <th>status</th>\n",
       "      <th>rule</th>\n",
       "    </tr>\n",
       "  </thead>\n",
       "  <tbody>\n",
       "    <tr>\n",
       "      <th>0</th>\n",
       "      <td>11794</td>\n",
       "      <td>2025-01-09 23:00:00</td>\n",
       "      <td>1736463600</td>\n",
       "      <td>42500.0</td>\n",
       "      <td>inbound</td>\n",
       "      <td>transfer</td>\n",
       "      <td>not applicable</td>\n",
       "      <td>True</td>\n",
       "      <td>NaN</td>\n",
       "      <td>not applicable</td>\n",
       "      <td>NaN</td>\n",
       "      <td>NaN</td>\n",
       "      <td>not applicable</td>\n",
       "      <td>NaN</td>\n",
       "      <td>15206</td>\n",
       "      <td>False</td>\n",
       "      <td>False</td>\n",
       "      <td>approved</td>\n",
       "      <td>not applicable</td>\n",
       "    </tr>\n",
       "  </tbody>\n",
       "</table>\n",
       "</div>"
      ],
      "text/plain": [
       "   client_id            txn_time   unix_time   amount     type   channel  \\\n",
       "0      11794 2025-01-09 23:00:00  1736463600  42500.0  inbound  transfer   \n",
       "\n",
       "         category  online  merchant_id      trans_city  trans_lat  trans_lon  \\\n",
       "0  not applicable    True          NaN  not applicable        NaN        NaN   \n",
       "\n",
       "         trans_ip  device_id  account  is_fraud  is_suspicious    status  \\\n",
       "0  not applicable        NaN    15206     False          False  approved   \n",
       "\n",
       "             rule  \n",
       "0  not applicable  "
      ]
     },
     "execution_count": 993,
     "metadata": {},
     "output_type": "execute_result"
    }
   ],
   "source": [
    "reset_caches(cr_drop_txn1, behav_hand1, amt_hand1, time_hand1, part_data1)\n",
    "\n",
    "behav_hand1.online = None\n",
    "behav_hand1.in_chunks = None\n",
    "receive_txn = cr_drop_txn1.trf_or_atm(declined=False, to_drop=False, receive=True)\n",
    "\n",
    "pd.DataFrame([receive_txn])"
   ]
  },
  {
   "cell_type": "code",
   "execution_count": 723,
   "id": "c573a09e-762f-4427-a266-a6954782b53e",
   "metadata": {},
   "outputs": [
    {
     "data": {
      "text/plain": [
       "(np.float64(36000.0), 0)"
      ]
     },
     "execution_count": 723,
     "metadata": {},
     "output_type": "execute_result"
    }
   ],
   "source": [
    "amt_hand1.balance, behav_hand1.batch_txns"
   ]
  },
  {
   "cell_type": "code",
   "execution_count": 724,
   "id": "6f5a3fb7-1eef-4e20-8f87-95b1579a4ee7",
   "metadata": {},
   "outputs": [
    {
     "data": {
      "text/plain": [
       "(1, 0)"
      ]
     },
     "execution_count": 724,
     "metadata": {},
     "output_type": "execute_result"
    }
   ],
   "source": [
    "cr_drop_txn1.in_txns, cr_drop_txn1.out_txns"
   ]
  },
  {
   "cell_type": "markdown",
   "id": "709d8e19-3bed-4957-81bf-fcbe3071640f",
   "metadata": {},
   "source": [
    "НЕ отклоненный исходящий перевод целиком  \n",
    "`BehavHand.online=True, receive=False, declined=False, BehavHand.in_chunks=False`"
   ]
  },
  {
   "cell_type": "code",
   "execution_count": 725,
   "id": "3788eccd-e74f-44b2-963c-5d62f578ec26",
   "metadata": {},
   "outputs": [
    {
     "data": {
      "text/plain": [
       "'Томск'"
      ]
     },
     "execution_count": 725,
     "metadata": {},
     "output_type": "execute_result"
    }
   ],
   "source": [
    "part_data1.client_info.area"
   ]
  },
  {
   "cell_type": "code",
   "execution_count": 994,
   "id": "b44c7de4-45ae-4aed-8aa7-69d45c7760b5",
   "metadata": {},
   "outputs": [
    {
     "data": {
      "text/html": [
       "<div>\n",
       "<style scoped>\n",
       "    .dataframe tbody tr th:only-of-type {\n",
       "        vertical-align: middle;\n",
       "    }\n",
       "\n",
       "    .dataframe tbody tr th {\n",
       "        vertical-align: top;\n",
       "    }\n",
       "\n",
       "    .dataframe thead th {\n",
       "        text-align: right;\n",
       "    }\n",
       "</style>\n",
       "<table border=\"1\" class=\"dataframe\">\n",
       "  <thead>\n",
       "    <tr style=\"text-align: right;\">\n",
       "      <th></th>\n",
       "      <th>client_id</th>\n",
       "      <th>txn_time</th>\n",
       "      <th>unix_time</th>\n",
       "      <th>amount</th>\n",
       "      <th>type</th>\n",
       "      <th>channel</th>\n",
       "      <th>category</th>\n",
       "      <th>online</th>\n",
       "      <th>merchant_id</th>\n",
       "      <th>trans_city</th>\n",
       "      <th>trans_lat</th>\n",
       "      <th>trans_lon</th>\n",
       "      <th>trans_ip</th>\n",
       "      <th>device_id</th>\n",
       "      <th>account</th>\n",
       "      <th>is_fraud</th>\n",
       "      <th>is_suspicious</th>\n",
       "      <th>status</th>\n",
       "      <th>rule</th>\n",
       "    </tr>\n",
       "  </thead>\n",
       "  <tbody>\n",
       "    <tr>\n",
       "      <th>0</th>\n",
       "      <td>11794</td>\n",
       "      <td>2025-01-09 23:00:00</td>\n",
       "      <td>1736463600</td>\n",
       "      <td>42500.0</td>\n",
       "      <td>inbound</td>\n",
       "      <td>transfer</td>\n",
       "      <td>not applicable</td>\n",
       "      <td>True</td>\n",
       "      <td>NaN</td>\n",
       "      <td>not applicable</td>\n",
       "      <td>NaN</td>\n",
       "      <td>NaN</td>\n",
       "      <td>not applicable</td>\n",
       "      <td>NaN</td>\n",
       "      <td>15206</td>\n",
       "      <td>False</td>\n",
       "      <td>False</td>\n",
       "      <td>approved</td>\n",
       "      <td>not applicable</td>\n",
       "    </tr>\n",
       "    <tr>\n",
       "      <th>1</th>\n",
       "      <td>11794</td>\n",
       "      <td>2025-01-09 23:36:00</td>\n",
       "      <td>1736465760</td>\n",
       "      <td>42500.0</td>\n",
       "      <td>outbound</td>\n",
       "      <td>transfer</td>\n",
       "      <td>not applicable</td>\n",
       "      <td>True</td>\n",
       "      <td>NaN</td>\n",
       "      <td>Томск</td>\n",
       "      <td>56.484704</td>\n",
       "      <td>84.948174</td>\n",
       "      <td>2.60.20.87</td>\n",
       "      <td>9367.0</td>\n",
       "      <td>17770</td>\n",
       "      <td>False</td>\n",
       "      <td>False</td>\n",
       "      <td>approved</td>\n",
       "      <td>not applicable</td>\n",
       "    </tr>\n",
       "  </tbody>\n",
       "</table>\n",
       "</div>"
      ],
      "text/plain": [
       "   client_id            txn_time   unix_time   amount      type   channel  \\\n",
       "0      11794 2025-01-09 23:00:00  1736463600  42500.0   inbound  transfer   \n",
       "1      11794 2025-01-09 23:36:00  1736465760  42500.0  outbound  transfer   \n",
       "\n",
       "         category  online  merchant_id      trans_city  trans_lat  trans_lon  \\\n",
       "0  not applicable    True          NaN  not applicable        NaN        NaN   \n",
       "1  not applicable    True          NaN           Томск  56.484704  84.948174   \n",
       "\n",
       "         trans_ip  device_id  account  is_fraud  is_suspicious    status  \\\n",
       "0  not applicable        NaN    15206     False          False  approved   \n",
       "1      2.60.20.87     9367.0    17770     False          False  approved   \n",
       "\n",
       "             rule  \n",
       "0  not applicable  \n",
       "1  not applicable  "
      ]
     },
     "execution_count": 994,
     "metadata": {},
     "output_type": "execute_result"
    }
   ],
   "source": [
    "behav_hand1.online = True\n",
    "behav_hand1.in_chunks = False\n",
    "\n",
    "whole_out = cr_drop_txn1.trf_or_atm(receive=False, to_drop=False, declined=False)\n",
    "pd.concat([pd.DataFrame([receive_txn]), pd.DataFrame([whole_out])], ignore_index=True)"
   ]
  },
  {
   "cell_type": "markdown",
   "id": "8a0f5853-475c-4078-897f-cfe546a4260d",
   "metadata": {},
   "source": [
    "НЕ отклоненное снятие целиком  \n",
    "`BehavHand.online=False, receive=False, declined=False, BehavHand.in_chunks=False, BehavHand.scen = \"atm\"`"
   ]
  },
  {
   "cell_type": "code",
   "execution_count": 995,
   "id": "106c9a2b-ce5d-4b90-9242-bcbc4aad6ff9",
   "metadata": {},
   "outputs": [
    {
     "data": {
      "text/html": [
       "<div>\n",
       "<style scoped>\n",
       "    .dataframe tbody tr th:only-of-type {\n",
       "        vertical-align: middle;\n",
       "    }\n",
       "\n",
       "    .dataframe tbody tr th {\n",
       "        vertical-align: top;\n",
       "    }\n",
       "\n",
       "    .dataframe thead th {\n",
       "        text-align: right;\n",
       "    }\n",
       "</style>\n",
       "<table border=\"1\" class=\"dataframe\">\n",
       "  <thead>\n",
       "    <tr style=\"text-align: right;\">\n",
       "      <th></th>\n",
       "      <th>client_id</th>\n",
       "      <th>txn_time</th>\n",
       "      <th>unix_time</th>\n",
       "      <th>amount</th>\n",
       "      <th>type</th>\n",
       "      <th>channel</th>\n",
       "      <th>category</th>\n",
       "      <th>online</th>\n",
       "      <th>merchant_id</th>\n",
       "      <th>trans_city</th>\n",
       "      <th>trans_lat</th>\n",
       "      <th>trans_lon</th>\n",
       "      <th>trans_ip</th>\n",
       "      <th>device_id</th>\n",
       "      <th>account</th>\n",
       "      <th>is_fraud</th>\n",
       "      <th>is_suspicious</th>\n",
       "      <th>status</th>\n",
       "      <th>rule</th>\n",
       "    </tr>\n",
       "  </thead>\n",
       "  <tbody>\n",
       "    <tr>\n",
       "      <th>0</th>\n",
       "      <td>11794</td>\n",
       "      <td>2025-01-10 12:37:00</td>\n",
       "      <td>1736512620</td>\n",
       "      <td>24700.0</td>\n",
       "      <td>inbound</td>\n",
       "      <td>transfer</td>\n",
       "      <td>not applicable</td>\n",
       "      <td>True</td>\n",
       "      <td>NaN</td>\n",
       "      <td>not applicable</td>\n",
       "      <td>NaN</td>\n",
       "      <td>NaN</td>\n",
       "      <td>not applicable</td>\n",
       "      <td>NaN</td>\n",
       "      <td>15206</td>\n",
       "      <td>False</td>\n",
       "      <td>False</td>\n",
       "      <td>approved</td>\n",
       "      <td>not applicable</td>\n",
       "    </tr>\n",
       "    <tr>\n",
       "      <th>1</th>\n",
       "      <td>11794</td>\n",
       "      <td>2025-01-10 15:02:00</td>\n",
       "      <td>1736521320</td>\n",
       "      <td>24700.0</td>\n",
       "      <td>withdrawal</td>\n",
       "      <td>ATM</td>\n",
       "      <td>not applicable</td>\n",
       "      <td>False</td>\n",
       "      <td>NaN</td>\n",
       "      <td>Томск</td>\n",
       "      <td>56.484704</td>\n",
       "      <td>84.948174</td>\n",
       "      <td>not applicable</td>\n",
       "      <td>NaN</td>\n",
       "      <td>15206</td>\n",
       "      <td>False</td>\n",
       "      <td>False</td>\n",
       "      <td>approved</td>\n",
       "      <td>not applicable</td>\n",
       "    </tr>\n",
       "  </tbody>\n",
       "</table>\n",
       "</div>"
      ],
      "text/plain": [
       "   client_id            txn_time   unix_time   amount        type   channel  \\\n",
       "0      11794 2025-01-10 12:37:00  1736512620  24700.0     inbound  transfer   \n",
       "1      11794 2025-01-10 15:02:00  1736521320  24700.0  withdrawal       ATM   \n",
       "\n",
       "         category  online  merchant_id      trans_city  trans_lat  trans_lon  \\\n",
       "0  not applicable    True          NaN  not applicable        NaN        NaN   \n",
       "1  not applicable   False          NaN           Томск  56.484704  84.948174   \n",
       "\n",
       "         trans_ip  device_id  account  is_fraud  is_suspicious    status  \\\n",
       "0  not applicable        NaN    15206     False          False  approved   \n",
       "1  not applicable        NaN    15206     False          False  approved   \n",
       "\n",
       "             rule  \n",
       "0  not applicable  \n",
       "1  not applicable  "
      ]
     },
     "execution_count": 995,
     "metadata": {},
     "output_type": "execute_result"
    }
   ],
   "source": [
    "reset_caches(cr_drop_txn1, behav_hand1, amt_hand1, time_hand1, part_data1)\n",
    "\n",
    "behav_hand1.scen = \"atm\"\n",
    "behav_hand1.guide_scenario()\n",
    "behav_hand1.in_chunks = False\n",
    "\n",
    "receive_txn2 = cr_drop_txn1.trf_or_atm(declined=False, to_drop=False, receive=True)\n",
    "whole_atm = cr_drop_txn1.trf_or_atm(declined=False, to_drop=False, receive=False)\n",
    "\n",
    "pd.concat([pd.DataFrame([receive_txn2]), pd.DataFrame([whole_atm])], ignore_index=True)"
   ]
  },
  {
   "cell_type": "code",
   "execution_count": 920,
   "id": "822f40fe-2baf-4111-82e4-cfae1182e227",
   "metadata": {},
   "outputs": [
    {
     "data": {
      "text/plain": [
       "(np.float64(0.0), 1)"
      ]
     },
     "execution_count": 920,
     "metadata": {},
     "output_type": "execute_result"
    }
   ],
   "source": [
    "amt_hand1.balance, amt_hand1.batch_txns"
   ]
  },
  {
   "cell_type": "markdown",
   "id": "f82c661f-a9d7-4f7c-8ee0-95a49ff41bbe",
   "metadata": {},
   "source": [
    "НЕ отклоненный исходящий перевод частями  \n",
    "`BehavHand.online=True, receive=False, declined=False, BehavHand.in_chunks=True, BehavHand.scen = \"split_transfer\"`"
   ]
  },
  {
   "cell_type": "code",
   "execution_count": 996,
   "id": "83f5064d-4592-4777-9ccd-c891f41006fe",
   "metadata": {},
   "outputs": [
    {
     "data": {
      "text/html": [
       "<div>\n",
       "<style scoped>\n",
       "    .dataframe tbody tr th:only-of-type {\n",
       "        vertical-align: middle;\n",
       "    }\n",
       "\n",
       "    .dataframe tbody tr th {\n",
       "        vertical-align: top;\n",
       "    }\n",
       "\n",
       "    .dataframe thead th {\n",
       "        text-align: right;\n",
       "    }\n",
       "</style>\n",
       "<table border=\"1\" class=\"dataframe\">\n",
       "  <thead>\n",
       "    <tr style=\"text-align: right;\">\n",
       "      <th></th>\n",
       "      <th>client_id</th>\n",
       "      <th>txn_time</th>\n",
       "      <th>unix_time</th>\n",
       "      <th>amount</th>\n",
       "      <th>type</th>\n",
       "      <th>channel</th>\n",
       "      <th>category</th>\n",
       "      <th>online</th>\n",
       "      <th>merchant_id</th>\n",
       "      <th>trans_city</th>\n",
       "      <th>trans_lat</th>\n",
       "      <th>trans_lon</th>\n",
       "      <th>trans_ip</th>\n",
       "      <th>device_id</th>\n",
       "      <th>account</th>\n",
       "      <th>is_fraud</th>\n",
       "      <th>is_suspicious</th>\n",
       "      <th>status</th>\n",
       "      <th>rule</th>\n",
       "    </tr>\n",
       "  </thead>\n",
       "  <tbody>\n",
       "    <tr>\n",
       "      <th>0</th>\n",
       "      <td>11794</td>\n",
       "      <td>2025-01-03 15:51:00</td>\n",
       "      <td>1735919460</td>\n",
       "      <td>24600.0</td>\n",
       "      <td>inbound</td>\n",
       "      <td>transfer</td>\n",
       "      <td>not applicable</td>\n",
       "      <td>True</td>\n",
       "      <td>NaN</td>\n",
       "      <td>not applicable</td>\n",
       "      <td>NaN</td>\n",
       "      <td>NaN</td>\n",
       "      <td>not applicable</td>\n",
       "      <td>NaN</td>\n",
       "      <td>15206</td>\n",
       "      <td>False</td>\n",
       "      <td>False</td>\n",
       "      <td>approved</td>\n",
       "      <td>not applicable</td>\n",
       "    </tr>\n",
       "    <tr>\n",
       "      <th>1</th>\n",
       "      <td>11794</td>\n",
       "      <td>2025-01-03 18:22:00</td>\n",
       "      <td>1735928520</td>\n",
       "      <td>7000.0</td>\n",
       "      <td>outbound</td>\n",
       "      <td>transfer</td>\n",
       "      <td>not applicable</td>\n",
       "      <td>True</td>\n",
       "      <td>NaN</td>\n",
       "      <td>Томск</td>\n",
       "      <td>56.484704</td>\n",
       "      <td>84.948174</td>\n",
       "      <td>2.60.20.87</td>\n",
       "      <td>9367.0</td>\n",
       "      <td>20935</td>\n",
       "      <td>False</td>\n",
       "      <td>False</td>\n",
       "      <td>approved</td>\n",
       "      <td>not applicable</td>\n",
       "    </tr>\n",
       "    <tr>\n",
       "      <th>2</th>\n",
       "      <td>11794</td>\n",
       "      <td>2025-01-03 19:16:00</td>\n",
       "      <td>1735931760</td>\n",
       "      <td>10000.0</td>\n",
       "      <td>outbound</td>\n",
       "      <td>transfer</td>\n",
       "      <td>not applicable</td>\n",
       "      <td>True</td>\n",
       "      <td>NaN</td>\n",
       "      <td>Томск</td>\n",
       "      <td>56.484704</td>\n",
       "      <td>84.948174</td>\n",
       "      <td>2.60.20.87</td>\n",
       "      <td>9366.0</td>\n",
       "      <td>20245</td>\n",
       "      <td>False</td>\n",
       "      <td>False</td>\n",
       "      <td>approved</td>\n",
       "      <td>not applicable</td>\n",
       "    </tr>\n",
       "    <tr>\n",
       "      <th>3</th>\n",
       "      <td>11794</td>\n",
       "      <td>2025-01-03 20:46:00</td>\n",
       "      <td>1735937160</td>\n",
       "      <td>7000.0</td>\n",
       "      <td>outbound</td>\n",
       "      <td>transfer</td>\n",
       "      <td>not applicable</td>\n",
       "      <td>True</td>\n",
       "      <td>NaN</td>\n",
       "      <td>Томск</td>\n",
       "      <td>56.484704</td>\n",
       "      <td>84.948174</td>\n",
       "      <td>2.60.20.87</td>\n",
       "      <td>9367.0</td>\n",
       "      <td>16278</td>\n",
       "      <td>False</td>\n",
       "      <td>False</td>\n",
       "      <td>approved</td>\n",
       "      <td>not applicable</td>\n",
       "    </tr>\n",
       "    <tr>\n",
       "      <th>4</th>\n",
       "      <td>11794</td>\n",
       "      <td>2025-01-03 21:52:00</td>\n",
       "      <td>1735941120</td>\n",
       "      <td>600.0</td>\n",
       "      <td>outbound</td>\n",
       "      <td>transfer</td>\n",
       "      <td>not applicable</td>\n",
       "      <td>True</td>\n",
       "      <td>NaN</td>\n",
       "      <td>Томск</td>\n",
       "      <td>56.484704</td>\n",
       "      <td>84.948174</td>\n",
       "      <td>2.60.20.87</td>\n",
       "      <td>9366.0</td>\n",
       "      <td>20575</td>\n",
       "      <td>False</td>\n",
       "      <td>False</td>\n",
       "      <td>approved</td>\n",
       "      <td>not applicable</td>\n",
       "    </tr>\n",
       "  </tbody>\n",
       "</table>\n",
       "</div>"
      ],
      "text/plain": [
       "   client_id            txn_time   unix_time   amount      type   channel  \\\n",
       "0      11794 2025-01-03 15:51:00  1735919460  24600.0   inbound  transfer   \n",
       "1      11794 2025-01-03 18:22:00  1735928520   7000.0  outbound  transfer   \n",
       "2      11794 2025-01-03 19:16:00  1735931760  10000.0  outbound  transfer   \n",
       "3      11794 2025-01-03 20:46:00  1735937160   7000.0  outbound  transfer   \n",
       "4      11794 2025-01-03 21:52:00  1735941120    600.0  outbound  transfer   \n",
       "\n",
       "         category  online  merchant_id      trans_city  trans_lat  trans_lon  \\\n",
       "0  not applicable    True          NaN  not applicable        NaN        NaN   \n",
       "1  not applicable    True          NaN           Томск  56.484704  84.948174   \n",
       "2  not applicable    True          NaN           Томск  56.484704  84.948174   \n",
       "3  not applicable    True          NaN           Томск  56.484704  84.948174   \n",
       "4  not applicable    True          NaN           Томск  56.484704  84.948174   \n",
       "\n",
       "         trans_ip  device_id  account  is_fraud  is_suspicious    status  \\\n",
       "0  not applicable        NaN    15206     False          False  approved   \n",
       "1      2.60.20.87     9367.0    20935     False          False  approved   \n",
       "2      2.60.20.87     9366.0    20245     False          False  approved   \n",
       "3      2.60.20.87     9367.0    16278     False          False  approved   \n",
       "4      2.60.20.87     9366.0    20575     False          False  approved   \n",
       "\n",
       "             rule  \n",
       "0  not applicable  \n",
       "1  not applicable  \n",
       "2  not applicable  \n",
       "3  not applicable  \n",
       "4  not applicable  "
      ]
     },
     "execution_count": 996,
     "metadata": {},
     "output_type": "execute_result"
    }
   ],
   "source": [
    "reset_caches(cr_drop_txn1, behav_hand1, amt_hand1, time_hand1, part_data1)\n",
    "\n",
    "behav_hand1.scen = \"split_transfer\"\n",
    "behav_hand1.in_chunks = True\n",
    "\n",
    "receive_txn3 = cr_drop_txn1.trf_or_atm(declined=False, to_drop=False, receive=True)\n",
    "\n",
    "all_txns3 = [receive_txn3]\n",
    "while amt_hand1.balance > 0:\n",
    "    behav_hand1.guide_scenario()\n",
    "    part_out = cr_drop_txn1.trf_or_atm(declined=False, to_drop=False, receive=False)\n",
    "    all_txns3.append(part_out)\n",
    "pd.DataFrame(all_txns3)"
   ]
  },
  {
   "cell_type": "code",
   "execution_count": 923,
   "id": "c827257b-fade-406f-8aac-64c6d71b95b8",
   "metadata": {},
   "outputs": [
    {
     "data": {
      "text/plain": [
       "(np.float64(0.0), 3)"
      ]
     },
     "execution_count": 923,
     "metadata": {},
     "output_type": "execute_result"
    }
   ],
   "source": [
    "amt_hand1.balance, amt_hand1.batch_txns"
   ]
  },
  {
   "cell_type": "markdown",
   "id": "d976bd88-f898-4b01-83a5-c3e75f663a21",
   "metadata": {},
   "source": [
    "НЕ отклоненное снятие и перевод(ы) частями"
   ]
  },
  {
   "cell_type": "code",
   "execution_count": 997,
   "id": "3729d901-0944-46fa-81e3-e0363c2ef277",
   "metadata": {
    "scrolled": true
   },
   "outputs": [
    {
     "data": {
      "text/html": [
       "<div>\n",
       "<style scoped>\n",
       "    .dataframe tbody tr th:only-of-type {\n",
       "        vertical-align: middle;\n",
       "    }\n",
       "\n",
       "    .dataframe tbody tr th {\n",
       "        vertical-align: top;\n",
       "    }\n",
       "\n",
       "    .dataframe thead th {\n",
       "        text-align: right;\n",
       "    }\n",
       "</style>\n",
       "<table border=\"1\" class=\"dataframe\">\n",
       "  <thead>\n",
       "    <tr style=\"text-align: right;\">\n",
       "      <th></th>\n",
       "      <th>client_id</th>\n",
       "      <th>txn_time</th>\n",
       "      <th>unix_time</th>\n",
       "      <th>amount</th>\n",
       "      <th>type</th>\n",
       "      <th>channel</th>\n",
       "      <th>category</th>\n",
       "      <th>online</th>\n",
       "      <th>merchant_id</th>\n",
       "      <th>trans_city</th>\n",
       "      <th>trans_lat</th>\n",
       "      <th>trans_lon</th>\n",
       "      <th>trans_ip</th>\n",
       "      <th>device_id</th>\n",
       "      <th>account</th>\n",
       "      <th>is_fraud</th>\n",
       "      <th>is_suspicious</th>\n",
       "      <th>status</th>\n",
       "      <th>rule</th>\n",
       "    </tr>\n",
       "  </thead>\n",
       "  <tbody>\n",
       "    <tr>\n",
       "      <th>0</th>\n",
       "      <td>11794</td>\n",
       "      <td>2025-01-19 00:30:00</td>\n",
       "      <td>1737246600</td>\n",
       "      <td>45700.0</td>\n",
       "      <td>inbound</td>\n",
       "      <td>transfer</td>\n",
       "      <td>not applicable</td>\n",
       "      <td>True</td>\n",
       "      <td>NaN</td>\n",
       "      <td>not applicable</td>\n",
       "      <td>NaN</td>\n",
       "      <td>NaN</td>\n",
       "      <td>not applicable</td>\n",
       "      <td>NaN</td>\n",
       "      <td>15206</td>\n",
       "      <td>False</td>\n",
       "      <td>False</td>\n",
       "      <td>approved</td>\n",
       "      <td>not applicable</td>\n",
       "    </tr>\n",
       "    <tr>\n",
       "      <th>1</th>\n",
       "      <td>11794</td>\n",
       "      <td>2025-01-19 02:48:00</td>\n",
       "      <td>1737254880</td>\n",
       "      <td>15900.0</td>\n",
       "      <td>withdrawal</td>\n",
       "      <td>ATM</td>\n",
       "      <td>not applicable</td>\n",
       "      <td>False</td>\n",
       "      <td>NaN</td>\n",
       "      <td>Томск</td>\n",
       "      <td>56.484704</td>\n",
       "      <td>84.948174</td>\n",
       "      <td>not applicable</td>\n",
       "      <td>NaN</td>\n",
       "      <td>15206</td>\n",
       "      <td>False</td>\n",
       "      <td>False</td>\n",
       "      <td>approved</td>\n",
       "      <td>not applicable</td>\n",
       "    </tr>\n",
       "    <tr>\n",
       "      <th>2</th>\n",
       "      <td>11794</td>\n",
       "      <td>2025-01-19 05:37:00</td>\n",
       "      <td>1737265020</td>\n",
       "      <td>19000.0</td>\n",
       "      <td>outbound</td>\n",
       "      <td>transfer</td>\n",
       "      <td>not applicable</td>\n",
       "      <td>True</td>\n",
       "      <td>NaN</td>\n",
       "      <td>Томск</td>\n",
       "      <td>56.484704</td>\n",
       "      <td>84.948174</td>\n",
       "      <td>2.60.20.87</td>\n",
       "      <td>9366.0</td>\n",
       "      <td>16611</td>\n",
       "      <td>False</td>\n",
       "      <td>False</td>\n",
       "      <td>approved</td>\n",
       "      <td>not applicable</td>\n",
       "    </tr>\n",
       "    <tr>\n",
       "      <th>3</th>\n",
       "      <td>11794</td>\n",
       "      <td>2025-01-19 07:04:00</td>\n",
       "      <td>1737270240</td>\n",
       "      <td>9000.0</td>\n",
       "      <td>outbound</td>\n",
       "      <td>transfer</td>\n",
       "      <td>not applicable</td>\n",
       "      <td>True</td>\n",
       "      <td>NaN</td>\n",
       "      <td>Томск</td>\n",
       "      <td>56.484704</td>\n",
       "      <td>84.948174</td>\n",
       "      <td>2.60.20.87</td>\n",
       "      <td>9367.0</td>\n",
       "      <td>22249</td>\n",
       "      <td>False</td>\n",
       "      <td>False</td>\n",
       "      <td>approved</td>\n",
       "      <td>not applicable</td>\n",
       "    </tr>\n",
       "    <tr>\n",
       "      <th>4</th>\n",
       "      <td>11794</td>\n",
       "      <td>2025-01-19 08:01:00</td>\n",
       "      <td>1737273660</td>\n",
       "      <td>1800.0</td>\n",
       "      <td>outbound</td>\n",
       "      <td>transfer</td>\n",
       "      <td>not applicable</td>\n",
       "      <td>True</td>\n",
       "      <td>NaN</td>\n",
       "      <td>Томск</td>\n",
       "      <td>56.484704</td>\n",
       "      <td>84.948174</td>\n",
       "      <td>2.60.20.87</td>\n",
       "      <td>9366.0</td>\n",
       "      <td>16748</td>\n",
       "      <td>False</td>\n",
       "      <td>False</td>\n",
       "      <td>approved</td>\n",
       "      <td>not applicable</td>\n",
       "    </tr>\n",
       "  </tbody>\n",
       "</table>\n",
       "</div>"
      ],
      "text/plain": [
       "   client_id            txn_time   unix_time   amount        type   channel  \\\n",
       "0      11794 2025-01-19 00:30:00  1737246600  45700.0     inbound  transfer   \n",
       "1      11794 2025-01-19 02:48:00  1737254880  15900.0  withdrawal       ATM   \n",
       "2      11794 2025-01-19 05:37:00  1737265020  19000.0    outbound  transfer   \n",
       "3      11794 2025-01-19 07:04:00  1737270240   9000.0    outbound  transfer   \n",
       "4      11794 2025-01-19 08:01:00  1737273660   1800.0    outbound  transfer   \n",
       "\n",
       "         category  online  merchant_id      trans_city  trans_lat  trans_lon  \\\n",
       "0  not applicable    True          NaN  not applicable        NaN        NaN   \n",
       "1  not applicable   False          NaN           Томск  56.484704  84.948174   \n",
       "2  not applicable    True          NaN           Томск  56.484704  84.948174   \n",
       "3  not applicable    True          NaN           Томск  56.484704  84.948174   \n",
       "4  not applicable    True          NaN           Томск  56.484704  84.948174   \n",
       "\n",
       "         trans_ip  device_id  account  is_fraud  is_suspicious    status  \\\n",
       "0  not applicable        NaN    15206     False          False  approved   \n",
       "1  not applicable        NaN    15206     False          False  approved   \n",
       "2      2.60.20.87     9366.0    16611     False          False  approved   \n",
       "3      2.60.20.87     9367.0    22249     False          False  approved   \n",
       "4      2.60.20.87     9366.0    16748     False          False  approved   \n",
       "\n",
       "             rule  \n",
       "0  not applicable  \n",
       "1  not applicable  \n",
       "2  not applicable  \n",
       "3  not applicable  \n",
       "4  not applicable  "
      ]
     },
     "execution_count": 997,
     "metadata": {},
     "output_type": "execute_result"
    }
   ],
   "source": [
    "reset_caches(cr_drop_txn1, behav_hand1, amt_hand1, time_hand1, part_data1)\n",
    "\n",
    "behav_hand1.scen = \"atm+transfer\"\n",
    "behav_hand1.in_chunks = True\n",
    "\n",
    "receive_txn4 = cr_drop_txn1.trf_or_atm(declined=False, to_drop=False, receive=True)\n",
    "all_txns4 = [receive_txn4]\n",
    "\n",
    "while amt_hand1.balance > 0:\n",
    "    behav_hand1.guide_scenario()\n",
    "    part_out = cr_drop_txn1.trf_or_atm(declined=False, to_drop=False, receive=False)\n",
    "    all_txns4.append(part_out)\n",
    "pd.DataFrame(all_txns4)"
   ]
  },
  {
   "cell_type": "code",
   "execution_count": 763,
   "id": "6bee2152-5d75-490d-97b2-f195b4cdf171",
   "metadata": {},
   "outputs": [
    {
     "data": {
      "text/plain": [
       "(np.float64(0.0), 5)"
      ]
     },
     "execution_count": 763,
     "metadata": {},
     "output_type": "execute_result"
    }
   ],
   "source": [
    "amt_hand1.balance, amt_hand1.batch_txns"
   ]
  },
  {
   "cell_type": "markdown",
   "id": "fc0e62f1-16ea-4c19-b67e-4d745e33c426",
   "metadata": {},
   "source": [
    "Отклоненный входящий перевод  \n",
    "`BehavHand.online=None, receive=True, declined=True, BehavHand.in_chunks=False`"
   ]
  },
  {
   "cell_type": "code",
   "execution_count": 764,
   "id": "dca21431-1c51-416a-a8b8-643f65e117e8",
   "metadata": {},
   "outputs": [
    {
     "data": {
      "text/html": [
       "<div>\n",
       "<style scoped>\n",
       "    .dataframe tbody tr th:only-of-type {\n",
       "        vertical-align: middle;\n",
       "    }\n",
       "\n",
       "    .dataframe tbody tr th {\n",
       "        vertical-align: top;\n",
       "    }\n",
       "\n",
       "    .dataframe thead th {\n",
       "        text-align: right;\n",
       "    }\n",
       "</style>\n",
       "<table border=\"1\" class=\"dataframe\">\n",
       "  <thead>\n",
       "    <tr style=\"text-align: right;\">\n",
       "      <th></th>\n",
       "      <th>client_id</th>\n",
       "      <th>txn_time</th>\n",
       "      <th>unix_time</th>\n",
       "      <th>amount</th>\n",
       "      <th>type</th>\n",
       "      <th>channel</th>\n",
       "      <th>category</th>\n",
       "      <th>online</th>\n",
       "      <th>merchant_id</th>\n",
       "      <th>trans_city</th>\n",
       "      <th>trans_lat</th>\n",
       "      <th>trans_lon</th>\n",
       "      <th>trans_ip</th>\n",
       "      <th>device_id</th>\n",
       "      <th>account</th>\n",
       "      <th>is_fraud</th>\n",
       "      <th>is_suspicious</th>\n",
       "      <th>status</th>\n",
       "      <th>rule</th>\n",
       "    </tr>\n",
       "  </thead>\n",
       "  <tbody>\n",
       "    <tr>\n",
       "      <th>0</th>\n",
       "      <td>11794</td>\n",
       "      <td>2025-01-05 11:52:00</td>\n",
       "      <td>1736077920</td>\n",
       "      <td>40000.0</td>\n",
       "      <td>inbound</td>\n",
       "      <td>transfer</td>\n",
       "      <td>not applicable</td>\n",
       "      <td>True</td>\n",
       "      <td>NaN</td>\n",
       "      <td>not applicable</td>\n",
       "      <td>NaN</td>\n",
       "      <td>NaN</td>\n",
       "      <td>not applicable</td>\n",
       "      <td>NaN</td>\n",
       "      <td>15206</td>\n",
       "      <td>True</td>\n",
       "      <td>False</td>\n",
       "      <td>declined</td>\n",
       "      <td>drop_flow_cashout</td>\n",
       "    </tr>\n",
       "  </tbody>\n",
       "</table>\n",
       "</div>"
      ],
      "text/plain": [
       "   client_id            txn_time   unix_time   amount     type   channel  \\\n",
       "0      11794 2025-01-05 11:52:00  1736077920  40000.0  inbound  transfer   \n",
       "\n",
       "         category  online  merchant_id      trans_city  trans_lat  trans_lon  \\\n",
       "0  not applicable    True          NaN  not applicable        NaN        NaN   \n",
       "\n",
       "         trans_ip  device_id  account  is_fraud  is_suspicious    status  \\\n",
       "0  not applicable        NaN    15206      True          False  declined   \n",
       "\n",
       "                rule  \n",
       "0  drop_flow_cashout  "
      ]
     },
     "execution_count": 764,
     "metadata": {},
     "output_type": "execute_result"
    }
   ],
   "source": [
    "reset_caches(cr_drop_txn1, behav_hand1, amt_hand1, time_hand1)\n",
    "\n",
    "behav_hand1.online = None\n",
    "behav_hand1.in_chunks = None\n",
    "receive_txn5 = cr_drop_txn1.trf_or_atm(declined=True, to_drop=False, receive=True)\n",
    "\n",
    "pd.DataFrame([receive_txn5])"
   ]
  },
  {
   "cell_type": "code",
   "execution_count": 766,
   "id": "2b9921df-93e1-4c8a-8741-de85996b0e7a",
   "metadata": {},
   "outputs": [
    {
     "data": {
      "text/plain": [
       "(0, 0)"
      ]
     },
     "execution_count": 766,
     "metadata": {},
     "output_type": "execute_result"
    }
   ],
   "source": [
    "amt_hand1.balance, amt_hand1.batch_txns"
   ]
  },
  {
   "cell_type": "markdown",
   "id": "245cd0e3-0fc9-47ef-a439-9a64e524bbb8",
   "metadata": {},
   "source": [
    "Отклоненный исходящий перевод целиком  \n",
    "`BehavHand.online=True, receive=False, declined=True, BehavHand.in_chunks=False`"
   ]
  },
  {
   "cell_type": "code",
   "execution_count": 1001,
   "id": "d9af35c0-6448-491f-ba23-bb50f1d31c2a",
   "metadata": {},
   "outputs": [
    {
     "data": {
      "text/html": [
       "<div>\n",
       "<style scoped>\n",
       "    .dataframe tbody tr th:only-of-type {\n",
       "        vertical-align: middle;\n",
       "    }\n",
       "\n",
       "    .dataframe tbody tr th {\n",
       "        vertical-align: top;\n",
       "    }\n",
       "\n",
       "    .dataframe thead th {\n",
       "        text-align: right;\n",
       "    }\n",
       "</style>\n",
       "<table border=\"1\" class=\"dataframe\">\n",
       "  <thead>\n",
       "    <tr style=\"text-align: right;\">\n",
       "      <th></th>\n",
       "      <th>client_id</th>\n",
       "      <th>txn_time</th>\n",
       "      <th>unix_time</th>\n",
       "      <th>amount</th>\n",
       "      <th>type</th>\n",
       "      <th>channel</th>\n",
       "      <th>category</th>\n",
       "      <th>online</th>\n",
       "      <th>merchant_id</th>\n",
       "      <th>trans_city</th>\n",
       "      <th>trans_lat</th>\n",
       "      <th>trans_lon</th>\n",
       "      <th>trans_ip</th>\n",
       "      <th>device_id</th>\n",
       "      <th>account</th>\n",
       "      <th>is_fraud</th>\n",
       "      <th>is_suspicious</th>\n",
       "      <th>status</th>\n",
       "      <th>rule</th>\n",
       "    </tr>\n",
       "  </thead>\n",
       "  <tbody>\n",
       "    <tr>\n",
       "      <th>0</th>\n",
       "      <td>11794</td>\n",
       "      <td>2025-01-02 15:15:00</td>\n",
       "      <td>1735830900</td>\n",
       "      <td>55500.0</td>\n",
       "      <td>inbound</td>\n",
       "      <td>transfer</td>\n",
       "      <td>not applicable</td>\n",
       "      <td>True</td>\n",
       "      <td>NaN</td>\n",
       "      <td>not applicable</td>\n",
       "      <td>NaN</td>\n",
       "      <td>NaN</td>\n",
       "      <td>not applicable</td>\n",
       "      <td>NaN</td>\n",
       "      <td>15206</td>\n",
       "      <td>False</td>\n",
       "      <td>False</td>\n",
       "      <td>approved</td>\n",
       "      <td>not applicable</td>\n",
       "    </tr>\n",
       "    <tr>\n",
       "      <th>1</th>\n",
       "      <td>11794</td>\n",
       "      <td>2025-01-02 18:07:00</td>\n",
       "      <td>1735841220</td>\n",
       "      <td>55500.0</td>\n",
       "      <td>outbound</td>\n",
       "      <td>transfer</td>\n",
       "      <td>not applicable</td>\n",
       "      <td>True</td>\n",
       "      <td>NaN</td>\n",
       "      <td>Томск</td>\n",
       "      <td>56.484704</td>\n",
       "      <td>84.948174</td>\n",
       "      <td>2.60.20.87</td>\n",
       "      <td>9367.0</td>\n",
       "      <td>16916</td>\n",
       "      <td>True</td>\n",
       "      <td>False</td>\n",
       "      <td>declined</td>\n",
       "      <td>drop_flow_cashout</td>\n",
       "    </tr>\n",
       "    <tr>\n",
       "      <th>2</th>\n",
       "      <td>11794</td>\n",
       "      <td>2025-01-02 19:35:00</td>\n",
       "      <td>1735846500</td>\n",
       "      <td>41700.0</td>\n",
       "      <td>outbound</td>\n",
       "      <td>transfer</td>\n",
       "      <td>not applicable</td>\n",
       "      <td>True</td>\n",
       "      <td>NaN</td>\n",
       "      <td>Томск</td>\n",
       "      <td>56.484704</td>\n",
       "      <td>84.948174</td>\n",
       "      <td>2.60.20.87</td>\n",
       "      <td>9366.0</td>\n",
       "      <td>19357</td>\n",
       "      <td>True</td>\n",
       "      <td>False</td>\n",
       "      <td>declined</td>\n",
       "      <td>drop_flow_cashout</td>\n",
       "    </tr>\n",
       "    <tr>\n",
       "      <th>3</th>\n",
       "      <td>11794</td>\n",
       "      <td>2025-01-02 22:18:00</td>\n",
       "      <td>1735856280</td>\n",
       "      <td>27900.0</td>\n",
       "      <td>outbound</td>\n",
       "      <td>transfer</td>\n",
       "      <td>not applicable</td>\n",
       "      <td>True</td>\n",
       "      <td>NaN</td>\n",
       "      <td>Томск</td>\n",
       "      <td>56.484704</td>\n",
       "      <td>84.948174</td>\n",
       "      <td>2.60.20.87</td>\n",
       "      <td>9367.0</td>\n",
       "      <td>19292</td>\n",
       "      <td>True</td>\n",
       "      <td>False</td>\n",
       "      <td>declined</td>\n",
       "      <td>drop_flow_cashout</td>\n",
       "    </tr>\n",
       "    <tr>\n",
       "      <th>4</th>\n",
       "      <td>11794</td>\n",
       "      <td>2025-01-02 23:02:00</td>\n",
       "      <td>1735858920</td>\n",
       "      <td>14100.0</td>\n",
       "      <td>outbound</td>\n",
       "      <td>transfer</td>\n",
       "      <td>not applicable</td>\n",
       "      <td>True</td>\n",
       "      <td>NaN</td>\n",
       "      <td>Томск</td>\n",
       "      <td>56.484704</td>\n",
       "      <td>84.948174</td>\n",
       "      <td>2.60.20.87</td>\n",
       "      <td>9367.0</td>\n",
       "      <td>22143</td>\n",
       "      <td>True</td>\n",
       "      <td>False</td>\n",
       "      <td>declined</td>\n",
       "      <td>drop_flow_cashout</td>\n",
       "    </tr>\n",
       "  </tbody>\n",
       "</table>\n",
       "</div>"
      ],
      "text/plain": [
       "   client_id            txn_time   unix_time   amount      type   channel  \\\n",
       "0      11794 2025-01-02 15:15:00  1735830900  55500.0   inbound  transfer   \n",
       "1      11794 2025-01-02 18:07:00  1735841220  55500.0  outbound  transfer   \n",
       "2      11794 2025-01-02 19:35:00  1735846500  41700.0  outbound  transfer   \n",
       "3      11794 2025-01-02 22:18:00  1735856280  27900.0  outbound  transfer   \n",
       "4      11794 2025-01-02 23:02:00  1735858920  14100.0  outbound  transfer   \n",
       "\n",
       "         category  online  merchant_id      trans_city  trans_lat  trans_lon  \\\n",
       "0  not applicable    True          NaN  not applicable        NaN        NaN   \n",
       "1  not applicable    True          NaN           Томск  56.484704  84.948174   \n",
       "2  not applicable    True          NaN           Томск  56.484704  84.948174   \n",
       "3  not applicable    True          NaN           Томск  56.484704  84.948174   \n",
       "4  not applicable    True          NaN           Томск  56.484704  84.948174   \n",
       "\n",
       "         trans_ip  device_id  account  is_fraud  is_suspicious    status  \\\n",
       "0  not applicable        NaN    15206     False          False  approved   \n",
       "1      2.60.20.87     9367.0    16916      True          False  declined   \n",
       "2      2.60.20.87     9366.0    19357      True          False  declined   \n",
       "3      2.60.20.87     9367.0    19292      True          False  declined   \n",
       "4      2.60.20.87     9367.0    22143      True          False  declined   \n",
       "\n",
       "                rule  \n",
       "0     not applicable  \n",
       "1  drop_flow_cashout  \n",
       "2  drop_flow_cashout  \n",
       "3  drop_flow_cashout  \n",
       "4  drop_flow_cashout  "
      ]
     },
     "execution_count": 1001,
     "metadata": {},
     "output_type": "execute_result"
    }
   ],
   "source": [
    "reset_caches(cr_drop_txn1, behav_hand1, amt_hand1, time_hand1, part_data1)\n",
    "\n",
    "behav_hand1.scen = \"transfer\"\n",
    "behav_hand1.in_chunks = False\n",
    "\n",
    "receive_txn4 = cr_drop_txn1.trf_or_atm(declined=False, to_drop=False, receive=True)\n",
    "all_txns4 = [receive_txn4]\n",
    "i = 0\n",
    "while amt_hand1.balance > 0 and i < 4:\n",
    "    behav_hand1.guide_scenario()\n",
    "    part_out = cr_drop_txn1.trf_or_atm(declined=True, to_drop=False, receive=False)\n",
    "    all_txns4.append(part_out)\n",
    "    i += 1\n",
    "pd.DataFrame(all_txns4)"
   ]
  },
  {
   "cell_type": "code",
   "execution_count": 1002,
   "id": "e6f0bc61-6c29-4b51-8170-d6d6b1c33f02",
   "metadata": {},
   "outputs": [
    {
     "data": {
      "text/plain": [
       "(np.float64(55500.0), 4, 4)"
      ]
     },
     "execution_count": 1002,
     "metadata": {},
     "output_type": "execute_result"
    }
   ],
   "source": [
    "amt_hand1.balance, amt_hand1.batch_txns, amt_hand1.declined_txns"
   ]
  },
  {
   "cell_type": "markdown",
   "id": "cf1d2620-6d59-461b-ad4b-091392ff50b6",
   "metadata": {},
   "source": [
    "**Отклоненное снятие целиком**  \n",
    "`BehavHand.online=False, receive=False, declined=True, BehavHand.in_chunks=False`"
   ]
  },
  {
   "cell_type": "code",
   "execution_count": 1004,
   "id": "fbd49dd8-04ec-4020-9ee5-842a49cc3f95",
   "metadata": {},
   "outputs": [
    {
     "data": {
      "text/html": [
       "<div>\n",
       "<style scoped>\n",
       "    .dataframe tbody tr th:only-of-type {\n",
       "        vertical-align: middle;\n",
       "    }\n",
       "\n",
       "    .dataframe tbody tr th {\n",
       "        vertical-align: top;\n",
       "    }\n",
       "\n",
       "    .dataframe thead th {\n",
       "        text-align: right;\n",
       "    }\n",
       "</style>\n",
       "<table border=\"1\" class=\"dataframe\">\n",
       "  <thead>\n",
       "    <tr style=\"text-align: right;\">\n",
       "      <th></th>\n",
       "      <th>client_id</th>\n",
       "      <th>txn_time</th>\n",
       "      <th>unix_time</th>\n",
       "      <th>amount</th>\n",
       "      <th>type</th>\n",
       "      <th>channel</th>\n",
       "      <th>category</th>\n",
       "      <th>online</th>\n",
       "      <th>merchant_id</th>\n",
       "      <th>trans_city</th>\n",
       "      <th>trans_lat</th>\n",
       "      <th>trans_lon</th>\n",
       "      <th>trans_ip</th>\n",
       "      <th>device_id</th>\n",
       "      <th>account</th>\n",
       "      <th>is_fraud</th>\n",
       "      <th>is_suspicious</th>\n",
       "      <th>status</th>\n",
       "      <th>rule</th>\n",
       "    </tr>\n",
       "  </thead>\n",
       "  <tbody>\n",
       "    <tr>\n",
       "      <th>0</th>\n",
       "      <td>11794</td>\n",
       "      <td>2025-01-22 22:24:00</td>\n",
       "      <td>1737584640</td>\n",
       "      <td>31600.0</td>\n",
       "      <td>inbound</td>\n",
       "      <td>transfer</td>\n",
       "      <td>not applicable</td>\n",
       "      <td>True</td>\n",
       "      <td>NaN</td>\n",
       "      <td>not applicable</td>\n",
       "      <td>NaN</td>\n",
       "      <td>NaN</td>\n",
       "      <td>not applicable</td>\n",
       "      <td>NaN</td>\n",
       "      <td>15206</td>\n",
       "      <td>False</td>\n",
       "      <td>False</td>\n",
       "      <td>approved</td>\n",
       "      <td>not applicable</td>\n",
       "    </tr>\n",
       "    <tr>\n",
       "      <th>1</th>\n",
       "      <td>11794</td>\n",
       "      <td>2025-01-23 00:34:00</td>\n",
       "      <td>1737592440</td>\n",
       "      <td>31600.0</td>\n",
       "      <td>withdrawal</td>\n",
       "      <td>ATM</td>\n",
       "      <td>not applicable</td>\n",
       "      <td>False</td>\n",
       "      <td>NaN</td>\n",
       "      <td>Томск</td>\n",
       "      <td>56.484704</td>\n",
       "      <td>84.948174</td>\n",
       "      <td>not applicable</td>\n",
       "      <td>NaN</td>\n",
       "      <td>15206</td>\n",
       "      <td>True</td>\n",
       "      <td>False</td>\n",
       "      <td>declined</td>\n",
       "      <td>drop_flow_cashout</td>\n",
       "    </tr>\n",
       "  </tbody>\n",
       "</table>\n",
       "</div>"
      ],
      "text/plain": [
       "   client_id            txn_time   unix_time   amount        type   channel  \\\n",
       "0      11794 2025-01-22 22:24:00  1737584640  31600.0     inbound  transfer   \n",
       "1      11794 2025-01-23 00:34:00  1737592440  31600.0  withdrawal       ATM   \n",
       "\n",
       "         category  online  merchant_id      trans_city  trans_lat  trans_lon  \\\n",
       "0  not applicable    True          NaN  not applicable        NaN        NaN   \n",
       "1  not applicable   False          NaN           Томск  56.484704  84.948174   \n",
       "\n",
       "         trans_ip  device_id  account  is_fraud  is_suspicious    status  \\\n",
       "0  not applicable        NaN    15206     False          False  approved   \n",
       "1  not applicable        NaN    15206      True          False  declined   \n",
       "\n",
       "                rule  \n",
       "0     not applicable  \n",
       "1  drop_flow_cashout  "
      ]
     },
     "execution_count": 1004,
     "metadata": {},
     "output_type": "execute_result"
    }
   ],
   "source": [
    "reset_caches(cr_drop_txn1, behav_hand1, amt_hand1, time_hand1, part_data1)\n",
    "\n",
    "behav_hand1.scen = \"atm\"\n",
    "behav_hand1.in_chunks = False\n",
    "\n",
    "receive_txn7 = cr_drop_txn1.trf_or_atm(declined=False, to_drop=False, receive=True)\n",
    "\n",
    "behav_hand1.guide_scenario()\n",
    "whole_out7 = cr_drop_txn1.trf_or_atm(declined=True, to_drop=False, receive=False)\n",
    "pd.DataFrame([receive_txn7, whole_out7])"
   ]
  },
  {
   "cell_type": "code",
   "execution_count": 1006,
   "id": "a143a7a1-2763-4456-be69-b270e7b155d2",
   "metadata": {},
   "outputs": [
    {
     "data": {
      "text/plain": [
       "(np.float64(31600.0), 1, 1)"
      ]
     },
     "execution_count": 1006,
     "metadata": {},
     "output_type": "execute_result"
    }
   ],
   "source": [
    "amt_hand1.balance, amt_hand1.batch_txns, amt_hand1.declined_txns"
   ]
  },
  {
   "cell_type": "markdown",
   "id": "58fceb2c-2aa9-4b3a-925e-9c79e2ead3fc",
   "metadata": {},
   "source": [
    "**Отклоненный  исходящий перевод частями**  \n",
    "`BehavHand.online=True, receive=False, declined=True, BehavHand.in_chunks=True`"
   ]
  },
  {
   "cell_type": "code",
   "execution_count": 1007,
   "id": "5763b0bc-518f-4152-8c69-126c3e91c673",
   "metadata": {},
   "outputs": [
    {
     "data": {
      "text/html": [
       "<div>\n",
       "<style scoped>\n",
       "    .dataframe tbody tr th:only-of-type {\n",
       "        vertical-align: middle;\n",
       "    }\n",
       "\n",
       "    .dataframe tbody tr th {\n",
       "        vertical-align: top;\n",
       "    }\n",
       "\n",
       "    .dataframe thead th {\n",
       "        text-align: right;\n",
       "    }\n",
       "</style>\n",
       "<table border=\"1\" class=\"dataframe\">\n",
       "  <thead>\n",
       "    <tr style=\"text-align: right;\">\n",
       "      <th></th>\n",
       "      <th>client_id</th>\n",
       "      <th>txn_time</th>\n",
       "      <th>unix_time</th>\n",
       "      <th>amount</th>\n",
       "      <th>type</th>\n",
       "      <th>channel</th>\n",
       "      <th>category</th>\n",
       "      <th>online</th>\n",
       "      <th>merchant_id</th>\n",
       "      <th>trans_city</th>\n",
       "      <th>trans_lat</th>\n",
       "      <th>trans_lon</th>\n",
       "      <th>trans_ip</th>\n",
       "      <th>device_id</th>\n",
       "      <th>account</th>\n",
       "      <th>is_fraud</th>\n",
       "      <th>is_suspicious</th>\n",
       "      <th>status</th>\n",
       "      <th>rule</th>\n",
       "    </tr>\n",
       "  </thead>\n",
       "  <tbody>\n",
       "    <tr>\n",
       "      <th>0</th>\n",
       "      <td>11794</td>\n",
       "      <td>2025-01-22 23:58:00</td>\n",
       "      <td>1737590280</td>\n",
       "      <td>25300.0</td>\n",
       "      <td>inbound</td>\n",
       "      <td>transfer</td>\n",
       "      <td>not applicable</td>\n",
       "      <td>True</td>\n",
       "      <td>NaN</td>\n",
       "      <td>not applicable</td>\n",
       "      <td>NaN</td>\n",
       "      <td>NaN</td>\n",
       "      <td>not applicable</td>\n",
       "      <td>NaN</td>\n",
       "      <td>15206</td>\n",
       "      <td>False</td>\n",
       "      <td>False</td>\n",
       "      <td>approved</td>\n",
       "      <td>not applicable</td>\n",
       "    </tr>\n",
       "    <tr>\n",
       "      <th>1</th>\n",
       "      <td>11794</td>\n",
       "      <td>2025-01-23 02:01:00</td>\n",
       "      <td>1737597660</td>\n",
       "      <td>13000.0</td>\n",
       "      <td>outbound</td>\n",
       "      <td>transfer</td>\n",
       "      <td>not applicable</td>\n",
       "      <td>True</td>\n",
       "      <td>NaN</td>\n",
       "      <td>Томск</td>\n",
       "      <td>56.484704</td>\n",
       "      <td>84.948174</td>\n",
       "      <td>2.60.20.87</td>\n",
       "      <td>9366.0</td>\n",
       "      <td>15830</td>\n",
       "      <td>True</td>\n",
       "      <td>False</td>\n",
       "      <td>declined</td>\n",
       "      <td>drop_flow_cashout</td>\n",
       "    </tr>\n",
       "    <tr>\n",
       "      <th>2</th>\n",
       "      <td>11794</td>\n",
       "      <td>2025-01-23 04:03:00</td>\n",
       "      <td>1737604980</td>\n",
       "      <td>9800.0</td>\n",
       "      <td>outbound</td>\n",
       "      <td>transfer</td>\n",
       "      <td>not applicable</td>\n",
       "      <td>True</td>\n",
       "      <td>NaN</td>\n",
       "      <td>Томск</td>\n",
       "      <td>56.484704</td>\n",
       "      <td>84.948174</td>\n",
       "      <td>2.60.20.87</td>\n",
       "      <td>9367.0</td>\n",
       "      <td>17257</td>\n",
       "      <td>True</td>\n",
       "      <td>False</td>\n",
       "      <td>declined</td>\n",
       "      <td>drop_flow_cashout</td>\n",
       "    </tr>\n",
       "    <tr>\n",
       "      <th>3</th>\n",
       "      <td>11794</td>\n",
       "      <td>2025-01-23 06:54:00</td>\n",
       "      <td>1737615240</td>\n",
       "      <td>6600.0</td>\n",
       "      <td>outbound</td>\n",
       "      <td>transfer</td>\n",
       "      <td>not applicable</td>\n",
       "      <td>True</td>\n",
       "      <td>NaN</td>\n",
       "      <td>Томск</td>\n",
       "      <td>56.484704</td>\n",
       "      <td>84.948174</td>\n",
       "      <td>2.60.20.87</td>\n",
       "      <td>9367.0</td>\n",
       "      <td>15744</td>\n",
       "      <td>True</td>\n",
       "      <td>False</td>\n",
       "      <td>declined</td>\n",
       "      <td>drop_flow_cashout</td>\n",
       "    </tr>\n",
       "    <tr>\n",
       "      <th>4</th>\n",
       "      <td>11794</td>\n",
       "      <td>2025-01-23 07:25:00</td>\n",
       "      <td>1737617100</td>\n",
       "      <td>3400.0</td>\n",
       "      <td>outbound</td>\n",
       "      <td>transfer</td>\n",
       "      <td>not applicable</td>\n",
       "      <td>True</td>\n",
       "      <td>NaN</td>\n",
       "      <td>Томск</td>\n",
       "      <td>56.484704</td>\n",
       "      <td>84.948174</td>\n",
       "      <td>2.60.20.87</td>\n",
       "      <td>9366.0</td>\n",
       "      <td>17677</td>\n",
       "      <td>True</td>\n",
       "      <td>False</td>\n",
       "      <td>declined</td>\n",
       "      <td>drop_flow_cashout</td>\n",
       "    </tr>\n",
       "    <tr>\n",
       "      <th>5</th>\n",
       "      <td>11794</td>\n",
       "      <td>2025-01-23 09:44:00</td>\n",
       "      <td>1737625440</td>\n",
       "      <td>3000.0</td>\n",
       "      <td>outbound</td>\n",
       "      <td>transfer</td>\n",
       "      <td>not applicable</td>\n",
       "      <td>True</td>\n",
       "      <td>NaN</td>\n",
       "      <td>Томск</td>\n",
       "      <td>56.484704</td>\n",
       "      <td>84.948174</td>\n",
       "      <td>2.60.20.87</td>\n",
       "      <td>9366.0</td>\n",
       "      <td>22265</td>\n",
       "      <td>True</td>\n",
       "      <td>False</td>\n",
       "      <td>declined</td>\n",
       "      <td>drop_flow_cashout</td>\n",
       "    </tr>\n",
       "  </tbody>\n",
       "</table>\n",
       "</div>"
      ],
      "text/plain": [
       "   client_id            txn_time   unix_time   amount      type   channel  \\\n",
       "0      11794 2025-01-22 23:58:00  1737590280  25300.0   inbound  transfer   \n",
       "1      11794 2025-01-23 02:01:00  1737597660  13000.0  outbound  transfer   \n",
       "2      11794 2025-01-23 04:03:00  1737604980   9800.0  outbound  transfer   \n",
       "3      11794 2025-01-23 06:54:00  1737615240   6600.0  outbound  transfer   \n",
       "4      11794 2025-01-23 07:25:00  1737617100   3400.0  outbound  transfer   \n",
       "5      11794 2025-01-23 09:44:00  1737625440   3000.0  outbound  transfer   \n",
       "\n",
       "         category  online  merchant_id      trans_city  trans_lat  trans_lon  \\\n",
       "0  not applicable    True          NaN  not applicable        NaN        NaN   \n",
       "1  not applicable    True          NaN           Томск  56.484704  84.948174   \n",
       "2  not applicable    True          NaN           Томск  56.484704  84.948174   \n",
       "3  not applicable    True          NaN           Томск  56.484704  84.948174   \n",
       "4  not applicable    True          NaN           Томск  56.484704  84.948174   \n",
       "5  not applicable    True          NaN           Томск  56.484704  84.948174   \n",
       "\n",
       "         trans_ip  device_id  account  is_fraud  is_suspicious    status  \\\n",
       "0  not applicable        NaN    15206     False          False  approved   \n",
       "1      2.60.20.87     9366.0    15830      True          False  declined   \n",
       "2      2.60.20.87     9367.0    17257      True          False  declined   \n",
       "3      2.60.20.87     9367.0    15744      True          False  declined   \n",
       "4      2.60.20.87     9366.0    17677      True          False  declined   \n",
       "5      2.60.20.87     9366.0    22265      True          False  declined   \n",
       "\n",
       "                rule  \n",
       "0     not applicable  \n",
       "1  drop_flow_cashout  \n",
       "2  drop_flow_cashout  \n",
       "3  drop_flow_cashout  \n",
       "4  drop_flow_cashout  \n",
       "5  drop_flow_cashout  "
      ]
     },
     "execution_count": 1007,
     "metadata": {},
     "output_type": "execute_result"
    }
   ],
   "source": [
    "reset_caches(cr_drop_txn1, behav_hand1, amt_hand1, time_hand1, part_data1)\n",
    "\n",
    "behav_hand1.scen = \"split_transfer\"\n",
    "behav_hand1.in_chunks = True\n",
    "\n",
    "receive_txn8 = cr_drop_txn1.trf_or_atm(declined=False, to_drop=False, receive=True)\n",
    "all_txns8 = [receive_txn8]\n",
    "i = 0\n",
    "while amt_hand1.balance > 0:\n",
    "    behav_hand1.guide_scenario()\n",
    "    part_out8 = cr_drop_txn1.trf_or_atm(declined=True, to_drop=False, receive=False)\n",
    "    all_txns8.append(part_out8)\n",
    "    i += 1\n",
    "    if i > 4:\n",
    "        break\n",
    "        \n",
    "pd.DataFrame(all_txns8)"
   ]
  },
  {
   "cell_type": "code",
   "execution_count": 1008,
   "id": "27025529-46b0-451d-993c-5cf2d213a2d2",
   "metadata": {},
   "outputs": [
    {
     "data": {
      "text/plain": [
       "(np.float64(25300.0), 5, 5)"
      ]
     },
     "execution_count": 1008,
     "metadata": {},
     "output_type": "execute_result"
    }
   ],
   "source": [
    "amt_hand1.balance, amt_hand1.batch_txns, amt_hand1.declined_txns"
   ]
  },
  {
   "cell_type": "markdown",
   "id": "36c74cfb-e17e-4272-afa2-2772418c9f6b",
   "metadata": {},
   "source": [
    "**Отклоненное снятие частями**  \n",
    "`BehavHand.online=False, receive=False, declined=True, BehavHand.in_chunks=True`"
   ]
  },
  {
   "cell_type": "code",
   "execution_count": 1009,
   "id": "8f1e0577-e08e-4de6-99c1-50ca54bb6a71",
   "metadata": {},
   "outputs": [
    {
     "data": {
      "text/html": [
       "<div>\n",
       "<style scoped>\n",
       "    .dataframe tbody tr th:only-of-type {\n",
       "        vertical-align: middle;\n",
       "    }\n",
       "\n",
       "    .dataframe tbody tr th {\n",
       "        vertical-align: top;\n",
       "    }\n",
       "\n",
       "    .dataframe thead th {\n",
       "        text-align: right;\n",
       "    }\n",
       "</style>\n",
       "<table border=\"1\" class=\"dataframe\">\n",
       "  <thead>\n",
       "    <tr style=\"text-align: right;\">\n",
       "      <th></th>\n",
       "      <th>client_id</th>\n",
       "      <th>txn_time</th>\n",
       "      <th>unix_time</th>\n",
       "      <th>amount</th>\n",
       "      <th>type</th>\n",
       "      <th>channel</th>\n",
       "      <th>category</th>\n",
       "      <th>online</th>\n",
       "      <th>merchant_id</th>\n",
       "      <th>trans_city</th>\n",
       "      <th>trans_lat</th>\n",
       "      <th>trans_lon</th>\n",
       "      <th>trans_ip</th>\n",
       "      <th>device_id</th>\n",
       "      <th>account</th>\n",
       "      <th>is_fraud</th>\n",
       "      <th>is_suspicious</th>\n",
       "      <th>status</th>\n",
       "      <th>rule</th>\n",
       "    </tr>\n",
       "  </thead>\n",
       "  <tbody>\n",
       "    <tr>\n",
       "      <th>0</th>\n",
       "      <td>11794</td>\n",
       "      <td>2025-01-13 20:13:00</td>\n",
       "      <td>1736799180</td>\n",
       "      <td>47000.0</td>\n",
       "      <td>inbound</td>\n",
       "      <td>transfer</td>\n",
       "      <td>not applicable</td>\n",
       "      <td>True</td>\n",
       "      <td>NaN</td>\n",
       "      <td>not applicable</td>\n",
       "      <td>NaN</td>\n",
       "      <td>NaN</td>\n",
       "      <td>not applicable</td>\n",
       "      <td>NaN</td>\n",
       "      <td>15206</td>\n",
       "      <td>False</td>\n",
       "      <td>False</td>\n",
       "      <td>approved</td>\n",
       "      <td>not applicable</td>\n",
       "    </tr>\n",
       "    <tr>\n",
       "      <th>1</th>\n",
       "      <td>11794</td>\n",
       "      <td>2025-01-13 23:05:00</td>\n",
       "      <td>1736809500</td>\n",
       "      <td>23300.0</td>\n",
       "      <td>withdrawal</td>\n",
       "      <td>ATM</td>\n",
       "      <td>not applicable</td>\n",
       "      <td>False</td>\n",
       "      <td>NaN</td>\n",
       "      <td>Томск</td>\n",
       "      <td>56.484704</td>\n",
       "      <td>84.948174</td>\n",
       "      <td>not applicable</td>\n",
       "      <td>NaN</td>\n",
       "      <td>15206</td>\n",
       "      <td>True</td>\n",
       "      <td>False</td>\n",
       "      <td>declined</td>\n",
       "      <td>drop_flow_cashout</td>\n",
       "    </tr>\n",
       "    <tr>\n",
       "      <th>2</th>\n",
       "      <td>11794</td>\n",
       "      <td>2025-01-13 23:55:00</td>\n",
       "      <td>1736812500</td>\n",
       "      <td>17500.0</td>\n",
       "      <td>outbound</td>\n",
       "      <td>transfer</td>\n",
       "      <td>not applicable</td>\n",
       "      <td>True</td>\n",
       "      <td>NaN</td>\n",
       "      <td>Томск</td>\n",
       "      <td>56.484704</td>\n",
       "      <td>84.948174</td>\n",
       "      <td>2.60.20.87</td>\n",
       "      <td>9366.0</td>\n",
       "      <td>25211</td>\n",
       "      <td>True</td>\n",
       "      <td>False</td>\n",
       "      <td>declined</td>\n",
       "      <td>drop_flow_cashout</td>\n",
       "    </tr>\n",
       "    <tr>\n",
       "      <th>3</th>\n",
       "      <td>11794</td>\n",
       "      <td>2025-01-14 01:56:00</td>\n",
       "      <td>1736819760</td>\n",
       "      <td>11700.0</td>\n",
       "      <td>outbound</td>\n",
       "      <td>transfer</td>\n",
       "      <td>not applicable</td>\n",
       "      <td>True</td>\n",
       "      <td>NaN</td>\n",
       "      <td>Томск</td>\n",
       "      <td>56.484704</td>\n",
       "      <td>84.948174</td>\n",
       "      <td>2.60.20.87</td>\n",
       "      <td>9366.0</td>\n",
       "      <td>17059</td>\n",
       "      <td>True</td>\n",
       "      <td>False</td>\n",
       "      <td>declined</td>\n",
       "      <td>drop_flow_cashout</td>\n",
       "    </tr>\n",
       "    <tr>\n",
       "      <th>4</th>\n",
       "      <td>11794</td>\n",
       "      <td>2025-01-14 04:39:00</td>\n",
       "      <td>1736829540</td>\n",
       "      <td>5900.0</td>\n",
       "      <td>outbound</td>\n",
       "      <td>transfer</td>\n",
       "      <td>not applicable</td>\n",
       "      <td>True</td>\n",
       "      <td>NaN</td>\n",
       "      <td>Томск</td>\n",
       "      <td>56.484704</td>\n",
       "      <td>84.948174</td>\n",
       "      <td>2.60.20.87</td>\n",
       "      <td>9367.0</td>\n",
       "      <td>24922</td>\n",
       "      <td>True</td>\n",
       "      <td>False</td>\n",
       "      <td>declined</td>\n",
       "      <td>drop_flow_cashout</td>\n",
       "    </tr>\n",
       "  </tbody>\n",
       "</table>\n",
       "</div>"
      ],
      "text/plain": [
       "   client_id            txn_time   unix_time   amount        type   channel  \\\n",
       "0      11794 2025-01-13 20:13:00  1736799180  47000.0     inbound  transfer   \n",
       "1      11794 2025-01-13 23:05:00  1736809500  23300.0  withdrawal       ATM   \n",
       "2      11794 2025-01-13 23:55:00  1736812500  17500.0    outbound  transfer   \n",
       "3      11794 2025-01-14 01:56:00  1736819760  11700.0    outbound  transfer   \n",
       "4      11794 2025-01-14 04:39:00  1736829540   5900.0    outbound  transfer   \n",
       "\n",
       "         category  online  merchant_id      trans_city  trans_lat  trans_lon  \\\n",
       "0  not applicable    True          NaN  not applicable        NaN        NaN   \n",
       "1  not applicable   False          NaN           Томск  56.484704  84.948174   \n",
       "2  not applicable    True          NaN           Томск  56.484704  84.948174   \n",
       "3  not applicable    True          NaN           Томск  56.484704  84.948174   \n",
       "4  not applicable    True          NaN           Томск  56.484704  84.948174   \n",
       "\n",
       "         trans_ip  device_id  account  is_fraud  is_suspicious    status  \\\n",
       "0  not applicable        NaN    15206     False          False  approved   \n",
       "1  not applicable        NaN    15206      True          False  declined   \n",
       "2      2.60.20.87     9366.0    25211      True          False  declined   \n",
       "3      2.60.20.87     9366.0    17059      True          False  declined   \n",
       "4      2.60.20.87     9367.0    24922      True          False  declined   \n",
       "\n",
       "                rule  \n",
       "0     not applicable  \n",
       "1  drop_flow_cashout  \n",
       "2  drop_flow_cashout  \n",
       "3  drop_flow_cashout  \n",
       "4  drop_flow_cashout  "
      ]
     },
     "execution_count": 1009,
     "metadata": {},
     "output_type": "execute_result"
    }
   ],
   "source": [
    "reset_caches(cr_drop_txn1, behav_hand1, amt_hand1, time_hand1, part_data1)\n",
    "\n",
    "behav_hand1.scen = \"atm+transfer\"\n",
    "behav_hand1.in_chunks = True\n",
    "\n",
    "receive_txn9 = cr_drop_txn1.trf_or_atm(declined=False, to_drop=False, receive=True)\n",
    "all_txns9 = [receive_txn9]\n",
    "i = 0\n",
    "while amt_hand1.balance > 0:\n",
    "    behav_hand1.guide_scenario()\n",
    "    part_out9 = cr_drop_txn1.trf_or_atm(declined=True, to_drop=False, receive=False)\n",
    "    all_txns9.append(part_out9)\n",
    "    i += 1\n",
    "    if i > 3:\n",
    "        break\n",
    "        \n",
    "pd.DataFrame(all_txns9)"
   ]
  },
  {
   "cell_type": "markdown",
   "id": "381e9e5e-76e9-445d-bb27-df0c1ed028db",
   "metadata": {},
   "source": [
    "**НЕ отклоненный перевод другому дропу**  \n",
    "Дропов >= `AccHand.min_drops`"
   ]
  },
  {
   "cell_type": "code",
   "execution_count": 784,
   "id": "edf29550-fb8a-4dfd-8064-555c484cda4c",
   "metadata": {},
   "outputs": [
    {
     "name": "stdout",
     "output_type": "stream",
     "text": [
      "6\n"
     ]
    },
    {
     "data": {
      "text/plain": [
       "6"
      ]
     },
     "execution_count": 784,
     "metadata": {},
     "output_type": "execute_result"
    }
   ],
   "source": [
    "min_drops = dist_configs.to_drops[\"min_drops\"]\n",
    "print(min_drops)\n",
    "acc_hand1.accounts[\"is_drop\"] = False\n",
    "acc_hand1.get_account(own=True)\n",
    "\n",
    "accs_samp = acc_hand1.accounts.query(\"client_id != @acc_hand1.client_id\").client_id.sample(n=min_drops)\n",
    "acc_hand1.accounts.loc[acc_hand1.accounts.client_id.isin(accs_samp), \"is_drop\"] = True\n",
    "acc_hand1.accounts.query(\"client_id != @own_id and is_drop == True\").shape[0]"
   ]
  },
  {
   "cell_type": "code",
   "execution_count": 785,
   "id": "ae2b3694-aaa2-4360-9228-745e06739436",
   "metadata": {},
   "outputs": [
    {
     "data": {
      "text/html": [
       "<div>\n",
       "<style scoped>\n",
       "    .dataframe tbody tr th:only-of-type {\n",
       "        vertical-align: middle;\n",
       "    }\n",
       "\n",
       "    .dataframe tbody tr th {\n",
       "        vertical-align: top;\n",
       "    }\n",
       "\n",
       "    .dataframe thead th {\n",
       "        text-align: right;\n",
       "    }\n",
       "</style>\n",
       "<table border=\"1\" class=\"dataframe\">\n",
       "  <thead>\n",
       "    <tr style=\"text-align: right;\">\n",
       "      <th></th>\n",
       "      <th>client_id</th>\n",
       "      <th>txn_time</th>\n",
       "      <th>unix_time</th>\n",
       "      <th>amount</th>\n",
       "      <th>type</th>\n",
       "      <th>channel</th>\n",
       "      <th>category</th>\n",
       "      <th>online</th>\n",
       "      <th>merchant_id</th>\n",
       "      <th>trans_city</th>\n",
       "      <th>trans_lat</th>\n",
       "      <th>trans_lon</th>\n",
       "      <th>trans_ip</th>\n",
       "      <th>device_id</th>\n",
       "      <th>account</th>\n",
       "      <th>is_fraud</th>\n",
       "      <th>is_suspicious</th>\n",
       "      <th>status</th>\n",
       "      <th>rule</th>\n",
       "    </tr>\n",
       "  </thead>\n",
       "  <tbody>\n",
       "    <tr>\n",
       "      <th>0</th>\n",
       "      <td>11794</td>\n",
       "      <td>2025-01-24 02:54:00</td>\n",
       "      <td>1737687240</td>\n",
       "      <td>36500.0</td>\n",
       "      <td>inbound</td>\n",
       "      <td>transfer</td>\n",
       "      <td>not applicable</td>\n",
       "      <td>True</td>\n",
       "      <td>NaN</td>\n",
       "      <td>not applicable</td>\n",
       "      <td>NaN</td>\n",
       "      <td>NaN</td>\n",
       "      <td>not applicable</td>\n",
       "      <td>NaN</td>\n",
       "      <td>15206</td>\n",
       "      <td>False</td>\n",
       "      <td>False</td>\n",
       "      <td>approved</td>\n",
       "      <td>not applicable</td>\n",
       "    </tr>\n",
       "    <tr>\n",
       "      <th>1</th>\n",
       "      <td>11794</td>\n",
       "      <td>2025-01-24 04:11:00</td>\n",
       "      <td>1737691860</td>\n",
       "      <td>36500.0</td>\n",
       "      <td>outbound</td>\n",
       "      <td>transfer</td>\n",
       "      <td>not applicable</td>\n",
       "      <td>True</td>\n",
       "      <td>NaN</td>\n",
       "      <td>Томск</td>\n",
       "      <td>56.484704</td>\n",
       "      <td>84.948174</td>\n",
       "      <td>2.60.20.87</td>\n",
       "      <td>9367.0</td>\n",
       "      <td>14438</td>\n",
       "      <td>False</td>\n",
       "      <td>False</td>\n",
       "      <td>approved</td>\n",
       "      <td>not applicable</td>\n",
       "    </tr>\n",
       "  </tbody>\n",
       "</table>\n",
       "</div>"
      ],
      "text/plain": [
       "   client_id            txn_time   unix_time   amount      type   channel  \\\n",
       "0      11794 2025-01-24 02:54:00  1737687240  36500.0   inbound  transfer   \n",
       "1      11794 2025-01-24 04:11:00  1737691860  36500.0  outbound  transfer   \n",
       "\n",
       "         category  online  merchant_id      trans_city  trans_lat  trans_lon  \\\n",
       "0  not applicable    True          NaN  not applicable        NaN        NaN   \n",
       "1  not applicable    True          NaN           Томск  56.484704  84.948174   \n",
       "\n",
       "         trans_ip  device_id  account  is_fraud  is_suspicious    status  \\\n",
       "0  not applicable        NaN    15206     False          False  approved   \n",
       "1      2.60.20.87     9367.0    14438     False          False  approved   \n",
       "\n",
       "             rule  \n",
       "0  not applicable  \n",
       "1  not applicable  "
      ]
     },
     "execution_count": 785,
     "metadata": {},
     "output_type": "execute_result"
    }
   ],
   "source": [
    "reset_caches(cr_drop_txn1, behav_hand1, amt_hand1, time_hand1)\n",
    "acc_hand1.reset_cache()\n",
    "\n",
    "behav_hand1.scen = \"transfer\"\n",
    "behav_hand1.in_chunks_val()\n",
    "\n",
    "receive_txn10 = cr_drop_txn1.trf_or_atm(declined=False, to_drop=False, receive=True)\n",
    "all_txns10 = [receive_txn10]\n",
    "\n",
    "\n",
    "behav_hand1.guide_scenario()\n",
    "part_out10 = cr_drop_txn1.trf_or_atm(declined=False, to_drop=True, receive=False)\n",
    "all_txns10.append(part_out10)\n",
    "all_df10 = pd.DataFrame(all_txns10)\n",
    "all_df10"
   ]
  },
  {
   "cell_type": "code",
   "execution_count": 786,
   "id": "b03abb1f-de33-4690-a1ec-d8a14fe934c7",
   "metadata": {},
   "outputs": [
    {
     "data": {
      "text/html": [
       "<div>\n",
       "<style scoped>\n",
       "    .dataframe tbody tr th:only-of-type {\n",
       "        vertical-align: middle;\n",
       "    }\n",
       "\n",
       "    .dataframe tbody tr th {\n",
       "        vertical-align: top;\n",
       "    }\n",
       "\n",
       "    .dataframe thead th {\n",
       "        text-align: right;\n",
       "    }\n",
       "</style>\n",
       "<table border=\"1\" class=\"dataframe\">\n",
       "  <thead>\n",
       "    <tr style=\"text-align: right;\">\n",
       "      <th></th>\n",
       "      <th>client_id</th>\n",
       "      <th>account_id</th>\n",
       "      <th>is_drop</th>\n",
       "    </tr>\n",
       "  </thead>\n",
       "  <tbody>\n",
       "    <tr>\n",
       "      <th>4438</th>\n",
       "      <td>4695</td>\n",
       "      <td>14438</td>\n",
       "      <td>True</td>\n",
       "    </tr>\n",
       "  </tbody>\n",
       "</table>\n",
       "</div>"
      ],
      "text/plain": [
       "      client_id  account_id  is_drop\n",
       "4438       4695       14438     True"
      ]
     },
     "execution_count": 786,
     "metadata": {},
     "output_type": "execute_result"
    }
   ],
   "source": [
    "target_acc10 = all_df10.loc[1, \"account\"]\n",
    "acc_hand1.accounts.query(\"account_id == @target_acc10\")"
   ]
  },
  {
   "cell_type": "markdown",
   "id": "660dd7d0-a152-461a-9a02-abff4a65a33f",
   "metadata": {},
   "source": [
    "**НЕ отклоненный перевод другому дропу**  \n",
    "Дропов < `AccHand.min_drops`"
   ]
  },
  {
   "cell_type": "code",
   "execution_count": 798,
   "id": "8cc3c394-fe78-4c45-a37c-3857c3201fe2",
   "metadata": {},
   "outputs": [
    {
     "name": "stdout",
     "output_type": "stream",
     "text": [
      "6\n"
     ]
    },
    {
     "data": {
      "text/plain": [
       "5"
      ]
     },
     "execution_count": 798,
     "metadata": {},
     "output_type": "execute_result"
    }
   ],
   "source": [
    "min_drops = dist_configs.to_drops[\"min_drops\"]\n",
    "print(min_drops)\n",
    "acc_hand1.accounts[\"is_drop\"] = False\n",
    "acc_hand1.get_account(own=True)\n",
    "\n",
    "accs_samp = acc_hand1.accounts.query(\"client_id != @acc_hand1.client_id\").client_id.sample(n=min_drops - 1)\n",
    "acc_hand1.accounts.loc[acc_hand1.accounts.client_id.isin(accs_samp), \"is_drop\"] = True\n",
    "acc_hand1.accounts.query(\"client_id != @own_id and is_drop == True\").shape[0]"
   ]
  },
  {
   "cell_type": "code",
   "execution_count": 799,
   "id": "8f506f46-042b-4b62-96bf-bc916a294165",
   "metadata": {},
   "outputs": [
    {
     "data": {
      "text/html": [
       "<div>\n",
       "<style scoped>\n",
       "    .dataframe tbody tr th:only-of-type {\n",
       "        vertical-align: middle;\n",
       "    }\n",
       "\n",
       "    .dataframe tbody tr th {\n",
       "        vertical-align: top;\n",
       "    }\n",
       "\n",
       "    .dataframe thead th {\n",
       "        text-align: right;\n",
       "    }\n",
       "</style>\n",
       "<table border=\"1\" class=\"dataframe\">\n",
       "  <thead>\n",
       "    <tr style=\"text-align: right;\">\n",
       "      <th></th>\n",
       "      <th>client_id</th>\n",
       "      <th>txn_time</th>\n",
       "      <th>unix_time</th>\n",
       "      <th>amount</th>\n",
       "      <th>type</th>\n",
       "      <th>channel</th>\n",
       "      <th>category</th>\n",
       "      <th>online</th>\n",
       "      <th>merchant_id</th>\n",
       "      <th>trans_city</th>\n",
       "      <th>trans_lat</th>\n",
       "      <th>trans_lon</th>\n",
       "      <th>trans_ip</th>\n",
       "      <th>device_id</th>\n",
       "      <th>account</th>\n",
       "      <th>is_fraud</th>\n",
       "      <th>is_suspicious</th>\n",
       "      <th>status</th>\n",
       "      <th>rule</th>\n",
       "    </tr>\n",
       "  </thead>\n",
       "  <tbody>\n",
       "    <tr>\n",
       "      <th>0</th>\n",
       "      <td>11794</td>\n",
       "      <td>2025-01-21 07:10:00</td>\n",
       "      <td>1737443400</td>\n",
       "      <td>13700.0</td>\n",
       "      <td>inbound</td>\n",
       "      <td>transfer</td>\n",
       "      <td>not applicable</td>\n",
       "      <td>True</td>\n",
       "      <td>NaN</td>\n",
       "      <td>not applicable</td>\n",
       "      <td>NaN</td>\n",
       "      <td>NaN</td>\n",
       "      <td>not applicable</td>\n",
       "      <td>NaN</td>\n",
       "      <td>15206</td>\n",
       "      <td>False</td>\n",
       "      <td>False</td>\n",
       "      <td>approved</td>\n",
       "      <td>not applicable</td>\n",
       "    </tr>\n",
       "    <tr>\n",
       "      <th>1</th>\n",
       "      <td>11794</td>\n",
       "      <td>2025-01-21 09:57:00</td>\n",
       "      <td>1737453420</td>\n",
       "      <td>13700.0</td>\n",
       "      <td>outbound</td>\n",
       "      <td>transfer</td>\n",
       "      <td>not applicable</td>\n",
       "      <td>True</td>\n",
       "      <td>NaN</td>\n",
       "      <td>Томск</td>\n",
       "      <td>56.484704</td>\n",
       "      <td>84.948174</td>\n",
       "      <td>2.60.20.87</td>\n",
       "      <td>9367.0</td>\n",
       "      <td>15531</td>\n",
       "      <td>False</td>\n",
       "      <td>False</td>\n",
       "      <td>approved</td>\n",
       "      <td>not applicable</td>\n",
       "    </tr>\n",
       "  </tbody>\n",
       "</table>\n",
       "</div>"
      ],
      "text/plain": [
       "   client_id            txn_time   unix_time   amount      type   channel  \\\n",
       "0      11794 2025-01-21 07:10:00  1737443400  13700.0   inbound  transfer   \n",
       "1      11794 2025-01-21 09:57:00  1737453420  13700.0  outbound  transfer   \n",
       "\n",
       "         category  online  merchant_id      trans_city  trans_lat  trans_lon  \\\n",
       "0  not applicable    True          NaN  not applicable        NaN        NaN   \n",
       "1  not applicable    True          NaN           Томск  56.484704  84.948174   \n",
       "\n",
       "         trans_ip  device_id  account  is_fraud  is_suspicious    status  \\\n",
       "0  not applicable        NaN    15206     False          False  approved   \n",
       "1      2.60.20.87     9367.0    15531     False          False  approved   \n",
       "\n",
       "             rule  \n",
       "0  not applicable  \n",
       "1  not applicable  "
      ]
     },
     "execution_count": 799,
     "metadata": {},
     "output_type": "execute_result"
    }
   ],
   "source": [
    "reset_caches(cr_drop_txn1, behav_hand1, amt_hand1, time_hand1)\n",
    "acc_hand1.reset_cache()\n",
    "\n",
    "behav_hand1.scen = \"transfer\"\n",
    "behav_hand1.in_chunks_val()\n",
    "\n",
    "receive_txn11 = cr_drop_txn1.trf_or_atm(declined=False, to_drop=False, receive=True)\n",
    "all_txns11 = [receive_txn11]\n",
    "\n",
    "\n",
    "behav_hand1.guide_scenario()\n",
    "part_out11 = cr_drop_txn1.trf_or_atm(declined=False, to_drop=True, receive=False)\n",
    "all_txns11.append(part_out11)\n",
    "all_df11 = pd.DataFrame(all_txns11)\n",
    "all_df11"
   ]
  },
  {
   "cell_type": "code",
   "execution_count": 790,
   "id": "b4a45fa2-e324-40d6-ac7b-3d14b9fa1e13",
   "metadata": {},
   "outputs": [
    {
     "data": {
      "text/plain": [
       "2403    17772\n",
       "Name: account_id, dtype: int64"
      ]
     },
     "execution_count": 790,
     "metadata": {},
     "output_type": "execute_result"
    }
   ],
   "source": [
    "target_acc11 = all_df11.loc[1, \"account\"]\n",
    "acc_hand1.outer_accounts.loc[acc_hand1.outer_accounts == target_acc11]"
   ]
  },
  {
   "cell_type": "markdown",
   "id": "678bd711-cbb0-4213-a487-a5fa25e2bbfd",
   "metadata": {},
   "source": [
    "**НЕ отклоненный перевод другому дропу**  \n",
    "Дропов НЕТ"
   ]
  },
  {
   "cell_type": "code",
   "execution_count": 792,
   "id": "24086e41-2304-495c-a625-2bafc9fb8063",
   "metadata": {},
   "outputs": [
    {
     "name": "stdout",
     "output_type": "stream",
     "text": [
      "6\n"
     ]
    },
    {
     "data": {
      "text/plain": [
       "0"
      ]
     },
     "execution_count": 792,
     "metadata": {},
     "output_type": "execute_result"
    }
   ],
   "source": [
    "min_drops = dist_configs.to_drops[\"min_drops\"]\n",
    "print(min_drops)\n",
    "acc_hand1.accounts[\"is_drop\"] = False\n",
    "acc_hand1.get_account(own=True)\n",
    "\n",
    "acc_hand1.accounts.query(\"client_id != @own_id and is_drop == True\").shape[0]"
   ]
  },
  {
   "cell_type": "code",
   "execution_count": 793,
   "id": "0b932881-d393-432a-b8c1-d0ac4c2f9d59",
   "metadata": {},
   "outputs": [
    {
     "data": {
      "text/html": [
       "<div>\n",
       "<style scoped>\n",
       "    .dataframe tbody tr th:only-of-type {\n",
       "        vertical-align: middle;\n",
       "    }\n",
       "\n",
       "    .dataframe tbody tr th {\n",
       "        vertical-align: top;\n",
       "    }\n",
       "\n",
       "    .dataframe thead th {\n",
       "        text-align: right;\n",
       "    }\n",
       "</style>\n",
       "<table border=\"1\" class=\"dataframe\">\n",
       "  <thead>\n",
       "    <tr style=\"text-align: right;\">\n",
       "      <th></th>\n",
       "      <th>client_id</th>\n",
       "      <th>txn_time</th>\n",
       "      <th>unix_time</th>\n",
       "      <th>amount</th>\n",
       "      <th>type</th>\n",
       "      <th>channel</th>\n",
       "      <th>category</th>\n",
       "      <th>online</th>\n",
       "      <th>merchant_id</th>\n",
       "      <th>trans_city</th>\n",
       "      <th>trans_lat</th>\n",
       "      <th>trans_lon</th>\n",
       "      <th>trans_ip</th>\n",
       "      <th>device_id</th>\n",
       "      <th>account</th>\n",
       "      <th>is_fraud</th>\n",
       "      <th>is_suspicious</th>\n",
       "      <th>status</th>\n",
       "      <th>rule</th>\n",
       "    </tr>\n",
       "  </thead>\n",
       "  <tbody>\n",
       "    <tr>\n",
       "      <th>0</th>\n",
       "      <td>11794</td>\n",
       "      <td>2025-01-01 21:59:00</td>\n",
       "      <td>1735768740</td>\n",
       "      <td>10000.0</td>\n",
       "      <td>inbound</td>\n",
       "      <td>transfer</td>\n",
       "      <td>not applicable</td>\n",
       "      <td>True</td>\n",
       "      <td>NaN</td>\n",
       "      <td>not applicable</td>\n",
       "      <td>NaN</td>\n",
       "      <td>NaN</td>\n",
       "      <td>not applicable</td>\n",
       "      <td>NaN</td>\n",
       "      <td>15206</td>\n",
       "      <td>False</td>\n",
       "      <td>False</td>\n",
       "      <td>approved</td>\n",
       "      <td>not applicable</td>\n",
       "    </tr>\n",
       "    <tr>\n",
       "      <th>1</th>\n",
       "      <td>11794</td>\n",
       "      <td>2025-01-01 23:12:00</td>\n",
       "      <td>1735773120</td>\n",
       "      <td>10000.0</td>\n",
       "      <td>outbound</td>\n",
       "      <td>transfer</td>\n",
       "      <td>not applicable</td>\n",
       "      <td>True</td>\n",
       "      <td>NaN</td>\n",
       "      <td>Томск</td>\n",
       "      <td>56.484704</td>\n",
       "      <td>84.948174</td>\n",
       "      <td>2.60.20.87</td>\n",
       "      <td>9366.0</td>\n",
       "      <td>25209</td>\n",
       "      <td>False</td>\n",
       "      <td>False</td>\n",
       "      <td>approved</td>\n",
       "      <td>not applicable</td>\n",
       "    </tr>\n",
       "  </tbody>\n",
       "</table>\n",
       "</div>"
      ],
      "text/plain": [
       "   client_id            txn_time   unix_time   amount      type   channel  \\\n",
       "0      11794 2025-01-01 21:59:00  1735768740  10000.0   inbound  transfer   \n",
       "1      11794 2025-01-01 23:12:00  1735773120  10000.0  outbound  transfer   \n",
       "\n",
       "         category  online  merchant_id      trans_city  trans_lat  trans_lon  \\\n",
       "0  not applicable    True          NaN  not applicable        NaN        NaN   \n",
       "1  not applicable    True          NaN           Томск  56.484704  84.948174   \n",
       "\n",
       "         trans_ip  device_id  account  is_fraud  is_suspicious    status  \\\n",
       "0  not applicable        NaN    15206     False          False  approved   \n",
       "1      2.60.20.87     9366.0    25209     False          False  approved   \n",
       "\n",
       "             rule  \n",
       "0  not applicable  \n",
       "1  not applicable  "
      ]
     },
     "execution_count": 793,
     "metadata": {},
     "output_type": "execute_result"
    }
   ],
   "source": [
    "reset_caches(cr_drop_txn1, behav_hand1, amt_hand1, time_hand1)\n",
    "acc_hand1.reset_cache()\n",
    "\n",
    "behav_hand1.scen = \"transfer\"\n",
    "behav_hand1.in_chunks_val()\n",
    "\n",
    "receive_txn12 = cr_drop_txn1.trf_or_atm(declined=False, to_drop=False, receive=True)\n",
    "all_txns12 = [receive_txn12]\n",
    "\n",
    "behav_hand1.guide_scenario()\n",
    "part_out12 = cr_drop_txn1.trf_or_atm(declined=False, to_drop=True, receive=False)\n",
    "all_txns12.append(part_out12)\n",
    "all_df12 = pd.DataFrame(all_txns12)\n",
    "all_df12"
   ]
  },
  {
   "cell_type": "code",
   "execution_count": 800,
   "id": "d8aed970-901a-400c-a873-f96f22c1c148",
   "metadata": {},
   "outputs": [
    {
     "data": {
      "text/plain": [
       "9840    25209\n",
       "Name: account_id, dtype: int64"
      ]
     },
     "execution_count": 800,
     "metadata": {},
     "output_type": "execute_result"
    }
   ],
   "source": [
    "target_acc12 = all_df12.loc[1, \"account\"]\n",
    "acc_hand1.outer_accounts.loc[acc_hand1.outer_accounts == target_acc12]"
   ]
  },
  {
   "cell_type": "markdown",
   "id": "b499a78e-0ab3-42ae-8011-2b8d54b7b940",
   "metadata": {},
   "source": [
    "**Отклоненный перевод другому дропу**  \n",
    "Дропов >= AccHand.min_drops"
   ]
  },
  {
   "cell_type": "code",
   "execution_count": 1010,
   "id": "68d4f3b4-abb2-45a3-ab3a-f7fa58259618",
   "metadata": {},
   "outputs": [
    {
     "name": "stdout",
     "output_type": "stream",
     "text": [
      "6\n"
     ]
    },
    {
     "data": {
      "text/plain": [
       "7"
      ]
     },
     "execution_count": 1010,
     "metadata": {},
     "output_type": "execute_result"
    }
   ],
   "source": [
    "min_drops = dist_configs.to_drops[\"min_drops\"]\n",
    "print(min_drops)\n",
    "acc_hand1.accounts[\"is_drop\"] = False\n",
    "acc_hand1.get_account(own=True)\n",
    "\n",
    "accs_samp = acc_hand1.accounts.query(\"client_id != @acc_hand1.client_id\").client_id.sample(n=min_drops + 1)\n",
    "acc_hand1.accounts.loc[acc_hand1.accounts.client_id.isin(accs_samp), \"is_drop\"] = True\n",
    "acc_hand1.accounts.query(\"client_id != @own_id and is_drop == True\").shape[0]"
   ]
  },
  {
   "cell_type": "code",
   "execution_count": 1012,
   "id": "24d8836b-5e7a-4ebb-97b3-6498fcc7fdd4",
   "metadata": {},
   "outputs": [
    {
     "data": {
      "text/html": [
       "<div>\n",
       "<style scoped>\n",
       "    .dataframe tbody tr th:only-of-type {\n",
       "        vertical-align: middle;\n",
       "    }\n",
       "\n",
       "    .dataframe tbody tr th {\n",
       "        vertical-align: top;\n",
       "    }\n",
       "\n",
       "    .dataframe thead th {\n",
       "        text-align: right;\n",
       "    }\n",
       "</style>\n",
       "<table border=\"1\" class=\"dataframe\">\n",
       "  <thead>\n",
       "    <tr style=\"text-align: right;\">\n",
       "      <th></th>\n",
       "      <th>client_id</th>\n",
       "      <th>txn_time</th>\n",
       "      <th>unix_time</th>\n",
       "      <th>amount</th>\n",
       "      <th>type</th>\n",
       "      <th>channel</th>\n",
       "      <th>category</th>\n",
       "      <th>online</th>\n",
       "      <th>merchant_id</th>\n",
       "      <th>trans_city</th>\n",
       "      <th>trans_lat</th>\n",
       "      <th>trans_lon</th>\n",
       "      <th>trans_ip</th>\n",
       "      <th>device_id</th>\n",
       "      <th>account</th>\n",
       "      <th>is_fraud</th>\n",
       "      <th>is_suspicious</th>\n",
       "      <th>status</th>\n",
       "      <th>rule</th>\n",
       "    </tr>\n",
       "  </thead>\n",
       "  <tbody>\n",
       "    <tr>\n",
       "      <th>0</th>\n",
       "      <td>11794</td>\n",
       "      <td>2025-01-06 05:21:00</td>\n",
       "      <td>1736140860</td>\n",
       "      <td>37300.0</td>\n",
       "      <td>inbound</td>\n",
       "      <td>transfer</td>\n",
       "      <td>not applicable</td>\n",
       "      <td>True</td>\n",
       "      <td>NaN</td>\n",
       "      <td>not applicable</td>\n",
       "      <td>NaN</td>\n",
       "      <td>NaN</td>\n",
       "      <td>not applicable</td>\n",
       "      <td>NaN</td>\n",
       "      <td>15206</td>\n",
       "      <td>False</td>\n",
       "      <td>False</td>\n",
       "      <td>approved</td>\n",
       "      <td>not applicable</td>\n",
       "    </tr>\n",
       "    <tr>\n",
       "      <th>1</th>\n",
       "      <td>11794</td>\n",
       "      <td>2025-01-06 08:11:00</td>\n",
       "      <td>1736151060</td>\n",
       "      <td>37300.0</td>\n",
       "      <td>outbound</td>\n",
       "      <td>transfer</td>\n",
       "      <td>not applicable</td>\n",
       "      <td>True</td>\n",
       "      <td>NaN</td>\n",
       "      <td>Томск</td>\n",
       "      <td>56.484704</td>\n",
       "      <td>84.948174</td>\n",
       "      <td>2.60.20.87</td>\n",
       "      <td>9366.0</td>\n",
       "      <td>15034</td>\n",
       "      <td>True</td>\n",
       "      <td>False</td>\n",
       "      <td>declined</td>\n",
       "      <td>drop_flow_cashout</td>\n",
       "    </tr>\n",
       "  </tbody>\n",
       "</table>\n",
       "</div>"
      ],
      "text/plain": [
       "   client_id            txn_time   unix_time   amount      type   channel  \\\n",
       "0      11794 2025-01-06 05:21:00  1736140860  37300.0   inbound  transfer   \n",
       "1      11794 2025-01-06 08:11:00  1736151060  37300.0  outbound  transfer   \n",
       "\n",
       "         category  online  merchant_id      trans_city  trans_lat  trans_lon  \\\n",
       "0  not applicable    True          NaN  not applicable        NaN        NaN   \n",
       "1  not applicable    True          NaN           Томск  56.484704  84.948174   \n",
       "\n",
       "         trans_ip  device_id  account  is_fraud  is_suspicious    status  \\\n",
       "0  not applicable        NaN    15206     False          False  approved   \n",
       "1      2.60.20.87     9366.0    15034      True          False  declined   \n",
       "\n",
       "                rule  \n",
       "0     not applicable  \n",
       "1  drop_flow_cashout  "
      ]
     },
     "execution_count": 1012,
     "metadata": {},
     "output_type": "execute_result"
    }
   ],
   "source": [
    "reset_caches(cr_drop_txn1, behav_hand1, amt_hand1, time_hand1, part_data1)\n",
    "acc_hand1.reset_cache()\n",
    "\n",
    "behav_hand1.scen = \"transfer\"\n",
    "behav_hand1.in_chunks_val()\n",
    "\n",
    "receive_txn13 = cr_drop_txn1.trf_or_atm(declined=False, to_drop=False, receive=True)\n",
    "all_txns13 = [receive_txn13]\n",
    "\n",
    "behav_hand1.guide_scenario()\n",
    "part_out13 = cr_drop_txn1.trf_or_atm(declined=True, to_drop=True, receive=False)\n",
    "all_txns13.append(part_out13)\n",
    "all_df13 = pd.DataFrame(all_txns13)\n",
    "all_df13"
   ]
  },
  {
   "cell_type": "code",
   "execution_count": 803,
   "id": "dd883a4c-ea0a-4b17-bb10-afdce170b6cb",
   "metadata": {},
   "outputs": [
    {
     "data": {
      "text/html": [
       "<div>\n",
       "<style scoped>\n",
       "    .dataframe tbody tr th:only-of-type {\n",
       "        vertical-align: middle;\n",
       "    }\n",
       "\n",
       "    .dataframe tbody tr th {\n",
       "        vertical-align: top;\n",
       "    }\n",
       "\n",
       "    .dataframe thead th {\n",
       "        text-align: right;\n",
       "    }\n",
       "</style>\n",
       "<table border=\"1\" class=\"dataframe\">\n",
       "  <thead>\n",
       "    <tr style=\"text-align: right;\">\n",
       "      <th></th>\n",
       "      <th>client_id</th>\n",
       "      <th>account_id</th>\n",
       "      <th>is_drop</th>\n",
       "    </tr>\n",
       "  </thead>\n",
       "  <tbody>\n",
       "    <tr>\n",
       "      <th>1307</th>\n",
       "      <td>1377</td>\n",
       "      <td>11307</td>\n",
       "      <td>True</td>\n",
       "    </tr>\n",
       "  </tbody>\n",
       "</table>\n",
       "</div>"
      ],
      "text/plain": [
       "      client_id  account_id  is_drop\n",
       "1307       1377       11307     True"
      ]
     },
     "execution_count": 803,
     "metadata": {},
     "output_type": "execute_result"
    }
   ],
   "source": [
    "target_acc13 = all_df13.loc[1, \"account\"]\n",
    "acc_hand1.accounts.query(\"account_id == @target_acc13\")"
   ]
  },
  {
   "cell_type": "markdown",
   "id": "680d39dd-0f90-42bb-a658-7fea1ab6f206",
   "metadata": {},
   "source": [
    "**Отклоненный перевод другому дропу**  \n",
    "Дропов < AccHand.min_drops"
   ]
  },
  {
   "cell_type": "code",
   "execution_count": 1013,
   "id": "ea4d48d6-712e-4815-93dc-58f0631b6831",
   "metadata": {},
   "outputs": [
    {
     "name": "stdout",
     "output_type": "stream",
     "text": [
      "6\n"
     ]
    },
    {
     "data": {
      "text/plain": [
       "5"
      ]
     },
     "execution_count": 1013,
     "metadata": {},
     "output_type": "execute_result"
    }
   ],
   "source": [
    "min_drops = dist_configs.to_drops[\"min_drops\"]\n",
    "print(min_drops)\n",
    "acc_hand1.accounts[\"is_drop\"] = False\n",
    "acc_hand1.get_account(own=True)\n",
    "\n",
    "accs_samp = acc_hand1.accounts.query(\"client_id != @acc_hand1.client_id\").client_id.sample(n=min_drops - 1)\n",
    "acc_hand1.accounts.loc[acc_hand1.accounts.client_id.isin(accs_samp), \"is_drop\"] = True\n",
    "acc_hand1.accounts.query(\"client_id != @own_id and is_drop == True\").shape[0]"
   ]
  },
  {
   "cell_type": "code",
   "execution_count": 1014,
   "id": "721a4982-e5f9-40ae-be17-770a793d85ab",
   "metadata": {},
   "outputs": [
    {
     "data": {
      "text/html": [
       "<div>\n",
       "<style scoped>\n",
       "    .dataframe tbody tr th:only-of-type {\n",
       "        vertical-align: middle;\n",
       "    }\n",
       "\n",
       "    .dataframe tbody tr th {\n",
       "        vertical-align: top;\n",
       "    }\n",
       "\n",
       "    .dataframe thead th {\n",
       "        text-align: right;\n",
       "    }\n",
       "</style>\n",
       "<table border=\"1\" class=\"dataframe\">\n",
       "  <thead>\n",
       "    <tr style=\"text-align: right;\">\n",
       "      <th></th>\n",
       "      <th>client_id</th>\n",
       "      <th>txn_time</th>\n",
       "      <th>unix_time</th>\n",
       "      <th>amount</th>\n",
       "      <th>type</th>\n",
       "      <th>channel</th>\n",
       "      <th>category</th>\n",
       "      <th>online</th>\n",
       "      <th>merchant_id</th>\n",
       "      <th>trans_city</th>\n",
       "      <th>trans_lat</th>\n",
       "      <th>trans_lon</th>\n",
       "      <th>trans_ip</th>\n",
       "      <th>device_id</th>\n",
       "      <th>account</th>\n",
       "      <th>is_fraud</th>\n",
       "      <th>is_suspicious</th>\n",
       "      <th>status</th>\n",
       "      <th>rule</th>\n",
       "    </tr>\n",
       "  </thead>\n",
       "  <tbody>\n",
       "    <tr>\n",
       "      <th>0</th>\n",
       "      <td>11794</td>\n",
       "      <td>2025-01-05 04:23:00</td>\n",
       "      <td>1736050980</td>\n",
       "      <td>78100.0</td>\n",
       "      <td>inbound</td>\n",
       "      <td>transfer</td>\n",
       "      <td>not applicable</td>\n",
       "      <td>True</td>\n",
       "      <td>NaN</td>\n",
       "      <td>not applicable</td>\n",
       "      <td>NaN</td>\n",
       "      <td>NaN</td>\n",
       "      <td>not applicable</td>\n",
       "      <td>NaN</td>\n",
       "      <td>15206</td>\n",
       "      <td>False</td>\n",
       "      <td>False</td>\n",
       "      <td>approved</td>\n",
       "      <td>not applicable</td>\n",
       "    </tr>\n",
       "    <tr>\n",
       "      <th>1</th>\n",
       "      <td>11794</td>\n",
       "      <td>2025-01-05 07:03:00</td>\n",
       "      <td>1736060580</td>\n",
       "      <td>78100.0</td>\n",
       "      <td>outbound</td>\n",
       "      <td>transfer</td>\n",
       "      <td>not applicable</td>\n",
       "      <td>True</td>\n",
       "      <td>NaN</td>\n",
       "      <td>Томск</td>\n",
       "      <td>56.484704</td>\n",
       "      <td>84.948174</td>\n",
       "      <td>2.60.20.87</td>\n",
       "      <td>9366.0</td>\n",
       "      <td>22098</td>\n",
       "      <td>True</td>\n",
       "      <td>False</td>\n",
       "      <td>declined</td>\n",
       "      <td>drop_flow_cashout</td>\n",
       "    </tr>\n",
       "  </tbody>\n",
       "</table>\n",
       "</div>"
      ],
      "text/plain": [
       "   client_id            txn_time   unix_time   amount      type   channel  \\\n",
       "0      11794 2025-01-05 04:23:00  1736050980  78100.0   inbound  transfer   \n",
       "1      11794 2025-01-05 07:03:00  1736060580  78100.0  outbound  transfer   \n",
       "\n",
       "         category  online  merchant_id      trans_city  trans_lat  trans_lon  \\\n",
       "0  not applicable    True          NaN  not applicable        NaN        NaN   \n",
       "1  not applicable    True          NaN           Томск  56.484704  84.948174   \n",
       "\n",
       "         trans_ip  device_id  account  is_fraud  is_suspicious    status  \\\n",
       "0  not applicable        NaN    15206     False          False  approved   \n",
       "1      2.60.20.87     9366.0    22098      True          False  declined   \n",
       "\n",
       "                rule  \n",
       "0     not applicable  \n",
       "1  drop_flow_cashout  "
      ]
     },
     "execution_count": 1014,
     "metadata": {},
     "output_type": "execute_result"
    }
   ],
   "source": [
    "reset_caches(cr_drop_txn1, behav_hand1, amt_hand1, time_hand1, part_data1)\n",
    "acc_hand1.reset_cache()\n",
    "\n",
    "behav_hand1.scen = \"transfer\"\n",
    "behav_hand1.in_chunks_val()\n",
    "\n",
    "receive_txn14 = cr_drop_txn1.trf_or_atm(declined=False, to_drop=False, receive=True)\n",
    "all_txns14 = [receive_txn14]\n",
    "\n",
    "behav_hand1.guide_scenario()\n",
    "part_out14 = cr_drop_txn1.trf_or_atm(declined=True, to_drop=True, receive=False)\n",
    "all_txns14.append(part_out14)\n",
    "all_df14 = pd.DataFrame(all_txns14)\n",
    "all_df14"
   ]
  },
  {
   "cell_type": "code",
   "execution_count": 806,
   "id": "491e1d4c-b160-43aa-b838-a9928d4a6a3c",
   "metadata": {},
   "outputs": [
    {
     "data": {
      "text/plain": [
       "5542    20911\n",
       "Name: account_id, dtype: int64"
      ]
     },
     "execution_count": 806,
     "metadata": {},
     "output_type": "execute_result"
    }
   ],
   "source": [
    "target_acc14 = all_df14.loc[1, \"account\"]\n",
    "acc_hand1.outer_accounts.loc[acc_hand1.outer_accounts == target_acc14]"
   ]
  },
  {
   "cell_type": "markdown",
   "id": "c1f5466b-3afa-4b56-b5ec-d20e217625d4",
   "metadata": {},
   "source": [
    "**Отклоненный перевод другому дропу**  \n",
    "Дропов НЕТ"
   ]
  },
  {
   "cell_type": "code",
   "execution_count": 807,
   "id": "6aec74bd-1b07-48d9-862d-09c9e90fd222",
   "metadata": {},
   "outputs": [
    {
     "name": "stdout",
     "output_type": "stream",
     "text": [
      "6\n"
     ]
    },
    {
     "data": {
      "text/plain": [
       "0"
      ]
     },
     "execution_count": 807,
     "metadata": {},
     "output_type": "execute_result"
    }
   ],
   "source": [
    "min_drops = dist_configs.to_drops[\"min_drops\"]\n",
    "print(min_drops)\n",
    "acc_hand1.accounts[\"is_drop\"] = False\n",
    "acc_hand1.get_account(own=True)\n",
    "\n",
    "acc_hand1.accounts.query(\"client_id != @own_id and is_drop == True\").shape[0]"
   ]
  },
  {
   "cell_type": "code",
   "execution_count": 808,
   "id": "cab5bb40-0152-437e-aa14-fee1a1b764b4",
   "metadata": {},
   "outputs": [
    {
     "data": {
      "text/html": [
       "<div>\n",
       "<style scoped>\n",
       "    .dataframe tbody tr th:only-of-type {\n",
       "        vertical-align: middle;\n",
       "    }\n",
       "\n",
       "    .dataframe tbody tr th {\n",
       "        vertical-align: top;\n",
       "    }\n",
       "\n",
       "    .dataframe thead th {\n",
       "        text-align: right;\n",
       "    }\n",
       "</style>\n",
       "<table border=\"1\" class=\"dataframe\">\n",
       "  <thead>\n",
       "    <tr style=\"text-align: right;\">\n",
       "      <th></th>\n",
       "      <th>client_id</th>\n",
       "      <th>txn_time</th>\n",
       "      <th>unix_time</th>\n",
       "      <th>amount</th>\n",
       "      <th>type</th>\n",
       "      <th>channel</th>\n",
       "      <th>category</th>\n",
       "      <th>online</th>\n",
       "      <th>merchant_id</th>\n",
       "      <th>trans_city</th>\n",
       "      <th>trans_lat</th>\n",
       "      <th>trans_lon</th>\n",
       "      <th>trans_ip</th>\n",
       "      <th>device_id</th>\n",
       "      <th>account</th>\n",
       "      <th>is_fraud</th>\n",
       "      <th>is_suspicious</th>\n",
       "      <th>status</th>\n",
       "      <th>rule</th>\n",
       "    </tr>\n",
       "  </thead>\n",
       "  <tbody>\n",
       "    <tr>\n",
       "      <th>0</th>\n",
       "      <td>11794</td>\n",
       "      <td>2025-01-13 00:09:00</td>\n",
       "      <td>1736726940</td>\n",
       "      <td>84200.0</td>\n",
       "      <td>inbound</td>\n",
       "      <td>transfer</td>\n",
       "      <td>not applicable</td>\n",
       "      <td>True</td>\n",
       "      <td>NaN</td>\n",
       "      <td>not applicable</td>\n",
       "      <td>NaN</td>\n",
       "      <td>NaN</td>\n",
       "      <td>not applicable</td>\n",
       "      <td>NaN</td>\n",
       "      <td>15206</td>\n",
       "      <td>False</td>\n",
       "      <td>False</td>\n",
       "      <td>approved</td>\n",
       "      <td>not applicable</td>\n",
       "    </tr>\n",
       "    <tr>\n",
       "      <th>1</th>\n",
       "      <td>11794</td>\n",
       "      <td>2025-01-13 02:04:00</td>\n",
       "      <td>1736733840</td>\n",
       "      <td>84200.0</td>\n",
       "      <td>outbound</td>\n",
       "      <td>transfer</td>\n",
       "      <td>not applicable</td>\n",
       "      <td>True</td>\n",
       "      <td>NaN</td>\n",
       "      <td>Томск</td>\n",
       "      <td>56.484704</td>\n",
       "      <td>84.948174</td>\n",
       "      <td>2.60.20.87</td>\n",
       "      <td>9367.0</td>\n",
       "      <td>17583</td>\n",
       "      <td>True</td>\n",
       "      <td>False</td>\n",
       "      <td>declined</td>\n",
       "      <td>drop_flow_cashout</td>\n",
       "    </tr>\n",
       "  </tbody>\n",
       "</table>\n",
       "</div>"
      ],
      "text/plain": [
       "   client_id            txn_time   unix_time   amount      type   channel  \\\n",
       "0      11794 2025-01-13 00:09:00  1736726940  84200.0   inbound  transfer   \n",
       "1      11794 2025-01-13 02:04:00  1736733840  84200.0  outbound  transfer   \n",
       "\n",
       "         category  online  merchant_id      trans_city  trans_lat  trans_lon  \\\n",
       "0  not applicable    True          NaN  not applicable        NaN        NaN   \n",
       "1  not applicable    True          NaN           Томск  56.484704  84.948174   \n",
       "\n",
       "         trans_ip  device_id  account  is_fraud  is_suspicious    status  \\\n",
       "0  not applicable        NaN    15206     False          False  approved   \n",
       "1      2.60.20.87     9367.0    17583      True          False  declined   \n",
       "\n",
       "                rule  \n",
       "0     not applicable  \n",
       "1  drop_flow_cashout  "
      ]
     },
     "execution_count": 808,
     "metadata": {},
     "output_type": "execute_result"
    }
   ],
   "source": [
    "reset_caches(cr_drop_txn1, behav_hand1, amt_hand1, time_hand1)\n",
    "acc_hand1.reset_cache()\n",
    "\n",
    "behav_hand1.scen = \"transfer\"\n",
    "behav_hand1.in_chunks_val()\n",
    "\n",
    "receive_txn15 = cr_drop_txn1.trf_or_atm(declined=False, to_drop=False, receive=True)\n",
    "all_txns15 = [receive_txn15]\n",
    "\n",
    "behav_hand1.guide_scenario()\n",
    "part_out15 = cr_drop_txn1.trf_or_atm(declined=True, to_drop=True, receive=False)\n",
    "all_txns15.append(part_out15)\n",
    "all_df15 = pd.DataFrame(all_txns15)\n",
    "all_df15"
   ]
  },
  {
   "cell_type": "code",
   "execution_count": 809,
   "id": "a5938725-1c83-4dc2-b01f-d0937d208432",
   "metadata": {},
   "outputs": [
    {
     "data": {
      "text/plain": [
       "2214    17583\n",
       "Name: account_id, dtype: int64"
      ]
     },
     "execution_count": 809,
     "metadata": {},
     "output_type": "execute_result"
    }
   ],
   "source": [
    "target_acc15 = all_df15.loc[1, \"account\"]\n",
    "acc_hand1.outer_accounts.loc[acc_hand1.outer_accounts == target_acc15]"
   ]
  },
  {
   "cell_type": "markdown",
   "id": "e89a802c-55ab-4f1d-a22e-5baecebdebe9",
   "metadata": {},
   "source": [
    "**Доля переводов дропам**  \n",
    "Дропов `>=` AccHand.min_drops. Проверка в цикле"
   ]
  },
  {
   "cell_type": "code",
   "execution_count": 811,
   "id": "baaab66d-7102-4994-ab77-4aa5d1c7a10a",
   "metadata": {},
   "outputs": [
    {
     "name": "stdout",
     "output_type": "stream",
     "text": [
      "6\n"
     ]
    },
    {
     "data": {
      "text/plain": [
       "7"
      ]
     },
     "execution_count": 811,
     "metadata": {},
     "output_type": "execute_result"
    }
   ],
   "source": [
    "min_drops = dist_configs.to_drops[\"min_drops\"]\n",
    "print(min_drops)\n",
    "acc_hand1.accounts[\"is_drop\"] = False\n",
    "acc_hand1.get_account(own=True)\n",
    "\n",
    "accs_samp = acc_hand1.accounts.query(\"client_id != @acc_hand1.client_id\").client_id.sample(n=min_drops + 1)\n",
    "acc_hand1.accounts.loc[acc_hand1.accounts.client_id.isin(accs_samp), \"is_drop\"] = True\n",
    "acc_hand1.accounts.query(\"client_id != @own_id and is_drop == True\").shape[0]"
   ]
  },
  {
   "cell_type": "code",
   "execution_count": 823,
   "id": "99092c6d-0cdc-4136-89a0-710382e5be91",
   "metadata": {},
   "outputs": [
    {
     "name": "stdout",
     "output_type": "stream",
     "text": [
      "2966 rows\n"
     ]
    },
    {
     "data": {
      "text/html": [
       "<div>\n",
       "<style scoped>\n",
       "    .dataframe tbody tr th:only-of-type {\n",
       "        vertical-align: middle;\n",
       "    }\n",
       "\n",
       "    .dataframe tbody tr th {\n",
       "        vertical-align: top;\n",
       "    }\n",
       "\n",
       "    .dataframe thead th {\n",
       "        text-align: right;\n",
       "    }\n",
       "</style>\n",
       "<table border=\"1\" class=\"dataframe\">\n",
       "  <thead>\n",
       "    <tr style=\"text-align: right;\">\n",
       "      <th></th>\n",
       "      <th>client_id</th>\n",
       "      <th>txn_time</th>\n",
       "      <th>unix_time</th>\n",
       "      <th>amount</th>\n",
       "      <th>type</th>\n",
       "      <th>channel</th>\n",
       "      <th>category</th>\n",
       "      <th>online</th>\n",
       "      <th>merchant_id</th>\n",
       "      <th>trans_city</th>\n",
       "      <th>trans_lat</th>\n",
       "      <th>trans_lon</th>\n",
       "      <th>trans_ip</th>\n",
       "      <th>device_id</th>\n",
       "      <th>account</th>\n",
       "      <th>is_fraud</th>\n",
       "      <th>is_suspicious</th>\n",
       "      <th>status</th>\n",
       "      <th>rule</th>\n",
       "    </tr>\n",
       "  </thead>\n",
       "  <tbody>\n",
       "    <tr>\n",
       "      <th>0</th>\n",
       "      <td>11794</td>\n",
       "      <td>2025-03-25 11:17:00</td>\n",
       "      <td>1742901420</td>\n",
       "      <td>62900.0</td>\n",
       "      <td>inbound</td>\n",
       "      <td>transfer</td>\n",
       "      <td>not applicable</td>\n",
       "      <td>True</td>\n",
       "      <td>NaN</td>\n",
       "      <td>not applicable</td>\n",
       "      <td>NaN</td>\n",
       "      <td>NaN</td>\n",
       "      <td>not applicable</td>\n",
       "      <td>NaN</td>\n",
       "      <td>15206</td>\n",
       "      <td>False</td>\n",
       "      <td>False</td>\n",
       "      <td>approved</td>\n",
       "      <td>not applicable</td>\n",
       "    </tr>\n",
       "    <tr>\n",
       "      <th>1</th>\n",
       "      <td>11794</td>\n",
       "      <td>2025-03-26 05:59:00</td>\n",
       "      <td>1742968740</td>\n",
       "      <td>24000.0</td>\n",
       "      <td>outbound</td>\n",
       "      <td>transfer</td>\n",
       "      <td>not applicable</td>\n",
       "      <td>True</td>\n",
       "      <td>NaN</td>\n",
       "      <td>Томск</td>\n",
       "      <td>56.484704</td>\n",
       "      <td>84.948174</td>\n",
       "      <td>2.60.20.87</td>\n",
       "      <td>9366.0</td>\n",
       "      <td>19214</td>\n",
       "      <td>False</td>\n",
       "      <td>False</td>\n",
       "      <td>approved</td>\n",
       "      <td>not applicable</td>\n",
       "    </tr>\n",
       "    <tr>\n",
       "      <th>2</th>\n",
       "      <td>11794</td>\n",
       "      <td>2025-03-26 07:50:00</td>\n",
       "      <td>1742975400</td>\n",
       "      <td>14000.0</td>\n",
       "      <td>outbound</td>\n",
       "      <td>transfer</td>\n",
       "      <td>not applicable</td>\n",
       "      <td>True</td>\n",
       "      <td>NaN</td>\n",
       "      <td>Томск</td>\n",
       "      <td>56.484704</td>\n",
       "      <td>84.948174</td>\n",
       "      <td>2.60.20.87</td>\n",
       "      <td>9366.0</td>\n",
       "      <td>12633</td>\n",
       "      <td>False</td>\n",
       "      <td>False</td>\n",
       "      <td>approved</td>\n",
       "      <td>not applicable</td>\n",
       "    </tr>\n",
       "    <tr>\n",
       "      <th>3</th>\n",
       "      <td>11794</td>\n",
       "      <td>2025-03-26 09:37:00</td>\n",
       "      <td>1742981820</td>\n",
       "      <td>11000.0</td>\n",
       "      <td>outbound</td>\n",
       "      <td>transfer</td>\n",
       "      <td>not applicable</td>\n",
       "      <td>True</td>\n",
       "      <td>NaN</td>\n",
       "      <td>Томск</td>\n",
       "      <td>56.484704</td>\n",
       "      <td>84.948174</td>\n",
       "      <td>2.60.20.87</td>\n",
       "      <td>9366.0</td>\n",
       "      <td>19873</td>\n",
       "      <td>False</td>\n",
       "      <td>False</td>\n",
       "      <td>approved</td>\n",
       "      <td>not applicable</td>\n",
       "    </tr>\n",
       "    <tr>\n",
       "      <th>4</th>\n",
       "      <td>11794</td>\n",
       "      <td>2025-03-26 10:41:00</td>\n",
       "      <td>1742985660</td>\n",
       "      <td>11000.0</td>\n",
       "      <td>outbound</td>\n",
       "      <td>transfer</td>\n",
       "      <td>not applicable</td>\n",
       "      <td>True</td>\n",
       "      <td>NaN</td>\n",
       "      <td>Томск</td>\n",
       "      <td>56.484704</td>\n",
       "      <td>84.948174</td>\n",
       "      <td>2.60.20.87</td>\n",
       "      <td>9367.0</td>\n",
       "      <td>15832</td>\n",
       "      <td>False</td>\n",
       "      <td>False</td>\n",
       "      <td>approved</td>\n",
       "      <td>not applicable</td>\n",
       "    </tr>\n",
       "  </tbody>\n",
       "</table>\n",
       "</div>"
      ],
      "text/plain": [
       "   client_id            txn_time   unix_time   amount      type   channel  \\\n",
       "0      11794 2025-03-25 11:17:00  1742901420  62900.0   inbound  transfer   \n",
       "1      11794 2025-03-26 05:59:00  1742968740  24000.0  outbound  transfer   \n",
       "2      11794 2025-03-26 07:50:00  1742975400  14000.0  outbound  transfer   \n",
       "3      11794 2025-03-26 09:37:00  1742981820  11000.0  outbound  transfer   \n",
       "4      11794 2025-03-26 10:41:00  1742985660  11000.0  outbound  transfer   \n",
       "\n",
       "         category  online  merchant_id      trans_city  trans_lat  trans_lon  \\\n",
       "0  not applicable    True          NaN  not applicable        NaN        NaN   \n",
       "1  not applicable    True          NaN           Томск  56.484704  84.948174   \n",
       "2  not applicable    True          NaN           Томск  56.484704  84.948174   \n",
       "3  not applicable    True          NaN           Томск  56.484704  84.948174   \n",
       "4  not applicable    True          NaN           Томск  56.484704  84.948174   \n",
       "\n",
       "         trans_ip  device_id  account  is_fraud  is_suspicious    status  \\\n",
       "0  not applicable        NaN    15206     False          False  approved   \n",
       "1      2.60.20.87     9366.0    19214     False          False  approved   \n",
       "2      2.60.20.87     9366.0    12633     False          False  approved   \n",
       "3      2.60.20.87     9366.0    19873     False          False  approved   \n",
       "4      2.60.20.87     9367.0    15832     False          False  approved   \n",
       "\n",
       "             rule  \n",
       "0  not applicable  \n",
       "1  not applicable  \n",
       "2  not applicable  \n",
       "3  not applicable  \n",
       "4  not applicable  "
      ]
     },
     "execution_count": 823,
     "metadata": {},
     "output_type": "execute_result"
    }
   ],
   "source": [
    "reset_caches(cr_drop_txn1, behav_hand1, amt_hand1, time_hand1)\n",
    "acc_hand1.reset_cache()\n",
    "\n",
    "behav_hand1.scen = \"split_transfer\"\n",
    "all_txns16\n",
    "\n",
    "i = 0\n",
    "while i < 300:\n",
    "    receive_txn16 = cr_drop_txn1.trf_or_atm(declined=False, to_drop=False, receive=True)\n",
    "    all_txns16.append(receive_txn16)\n",
    "    \n",
    "\n",
    "    while amt_hand1.balance > 0:\n",
    "        behav_hand1.in_chunks_val()\n",
    "        behav_hand1.guide_scenario()\n",
    "        to_drop16 = behav_hand1.to_drop\n",
    "        part_out16 = cr_drop_txn1.trf_or_atm(declined=False, to_drop=to_drop16, receive=False)\n",
    "        all_txns16.append(part_out16)\n",
    "    i += 1\n",
    "    \n",
    "all_df16 = pd.DataFrame(all_txns16)\n",
    "print(f\"{all_df16.shape[0]} rows\")\n",
    "all_df16.head()"
   ]
  },
  {
   "cell_type": "code",
   "execution_count": 828,
   "id": "f5d07e94-7b57-4001-9bc5-bbf272e88baa",
   "metadata": {},
   "outputs": [
    {
     "data": {
      "text/html": [
       "<div>\n",
       "<style scoped>\n",
       "    .dataframe tbody tr th:only-of-type {\n",
       "        vertical-align: middle;\n",
       "    }\n",
       "\n",
       "    .dataframe tbody tr th {\n",
       "        vertical-align: top;\n",
       "    }\n",
       "\n",
       "    .dataframe thead th {\n",
       "        text-align: right;\n",
       "    }\n",
       "</style>\n",
       "<table border=\"1\" class=\"dataframe\">\n",
       "  <thead>\n",
       "    <tr style=\"text-align: right;\">\n",
       "      <th></th>\n",
       "      <th>client_id_x</th>\n",
       "      <th>txn_time</th>\n",
       "      <th>unix_time</th>\n",
       "      <th>amount</th>\n",
       "      <th>type</th>\n",
       "      <th>channel</th>\n",
       "      <th>category</th>\n",
       "      <th>online</th>\n",
       "      <th>merchant_id</th>\n",
       "      <th>trans_city</th>\n",
       "      <th>trans_lat</th>\n",
       "      <th>trans_lon</th>\n",
       "      <th>trans_ip</th>\n",
       "      <th>device_id</th>\n",
       "      <th>account</th>\n",
       "      <th>is_fraud</th>\n",
       "      <th>is_suspicious</th>\n",
       "      <th>status</th>\n",
       "      <th>rule</th>\n",
       "      <th>client_id_y</th>\n",
       "      <th>account_id</th>\n",
       "      <th>is_drop</th>\n",
       "    </tr>\n",
       "  </thead>\n",
       "  <tbody>\n",
       "    <tr>\n",
       "      <th>2175</th>\n",
       "      <td>11794</td>\n",
       "      <td>2025-01-07 12:37:00</td>\n",
       "      <td>1736253420</td>\n",
       "      <td>13000.0</td>\n",
       "      <td>outbound</td>\n",
       "      <td>transfer</td>\n",
       "      <td>not applicable</td>\n",
       "      <td>True</td>\n",
       "      <td>NaN</td>\n",
       "      <td>Томск</td>\n",
       "      <td>56.484704</td>\n",
       "      <td>84.948174</td>\n",
       "      <td>2.60.20.87</td>\n",
       "      <td>9366.0</td>\n",
       "      <td>21592</td>\n",
       "      <td>False</td>\n",
       "      <td>False</td>\n",
       "      <td>approved</td>\n",
       "      <td>not applicable</td>\n",
       "      <td>NaN</td>\n",
       "      <td>NaN</td>\n",
       "      <td>NaN</td>\n",
       "    </tr>\n",
       "    <tr>\n",
       "      <th>2180</th>\n",
       "      <td>11794</td>\n",
       "      <td>2025-01-07 14:50:00</td>\n",
       "      <td>1736261400</td>\n",
       "      <td>8900.0</td>\n",
       "      <td>outbound</td>\n",
       "      <td>transfer</td>\n",
       "      <td>not applicable</td>\n",
       "      <td>True</td>\n",
       "      <td>NaN</td>\n",
       "      <td>Томск</td>\n",
       "      <td>56.484704</td>\n",
       "      <td>84.948174</td>\n",
       "      <td>2.60.20.87</td>\n",
       "      <td>9367.0</td>\n",
       "      <td>21600</td>\n",
       "      <td>False</td>\n",
       "      <td>False</td>\n",
       "      <td>approved</td>\n",
       "      <td>not applicable</td>\n",
       "      <td>NaN</td>\n",
       "      <td>NaN</td>\n",
       "      <td>NaN</td>\n",
       "    </tr>\n",
       "    <tr>\n",
       "      <th>1143</th>\n",
       "      <td>11794</td>\n",
       "      <td>2025-01-08 09:55:00</td>\n",
       "      <td>1736330100</td>\n",
       "      <td>6000.0</td>\n",
       "      <td>outbound</td>\n",
       "      <td>transfer</td>\n",
       "      <td>not applicable</td>\n",
       "      <td>True</td>\n",
       "      <td>NaN</td>\n",
       "      <td>Томск</td>\n",
       "      <td>56.484704</td>\n",
       "      <td>84.948174</td>\n",
       "      <td>2.60.20.87</td>\n",
       "      <td>9366.0</td>\n",
       "      <td>16415</td>\n",
       "      <td>False</td>\n",
       "      <td>False</td>\n",
       "      <td>approved</td>\n",
       "      <td>not applicable</td>\n",
       "      <td>NaN</td>\n",
       "      <td>NaN</td>\n",
       "      <td>NaN</td>\n",
       "    </tr>\n",
       "    <tr>\n",
       "      <th>168</th>\n",
       "      <td>11794</td>\n",
       "      <td>2025-01-08 10:37:00</td>\n",
       "      <td>1736332620</td>\n",
       "      <td>4000.0</td>\n",
       "      <td>outbound</td>\n",
       "      <td>transfer</td>\n",
       "      <td>not applicable</td>\n",
       "      <td>True</td>\n",
       "      <td>NaN</td>\n",
       "      <td>Томск</td>\n",
       "      <td>56.484704</td>\n",
       "      <td>84.948174</td>\n",
       "      <td>2.60.20.87</td>\n",
       "      <td>9367.0</td>\n",
       "      <td>13517</td>\n",
       "      <td>False</td>\n",
       "      <td>False</td>\n",
       "      <td>approved</td>\n",
       "      <td>not applicable</td>\n",
       "      <td>3713.0</td>\n",
       "      <td>13517.0</td>\n",
       "      <td>True</td>\n",
       "    </tr>\n",
       "    <tr>\n",
       "      <th>1774</th>\n",
       "      <td>11794</td>\n",
       "      <td>2025-01-08 12:22:00</td>\n",
       "      <td>1736338920</td>\n",
       "      <td>1600.0</td>\n",
       "      <td>outbound</td>\n",
       "      <td>transfer</td>\n",
       "      <td>not applicable</td>\n",
       "      <td>True</td>\n",
       "      <td>NaN</td>\n",
       "      <td>Томск</td>\n",
       "      <td>56.484704</td>\n",
       "      <td>84.948174</td>\n",
       "      <td>2.60.20.87</td>\n",
       "      <td>9367.0</td>\n",
       "      <td>19656</td>\n",
       "      <td>False</td>\n",
       "      <td>False</td>\n",
       "      <td>approved</td>\n",
       "      <td>not applicable</td>\n",
       "      <td>NaN</td>\n",
       "      <td>NaN</td>\n",
       "      <td>NaN</td>\n",
       "    </tr>\n",
       "  </tbody>\n",
       "</table>\n",
       "</div>"
      ],
      "text/plain": [
       "      client_id_x            txn_time   unix_time   amount      type  \\\n",
       "2175        11794 2025-01-07 12:37:00  1736253420  13000.0  outbound   \n",
       "2180        11794 2025-01-07 14:50:00  1736261400   8900.0  outbound   \n",
       "1143        11794 2025-01-08 09:55:00  1736330100   6000.0  outbound   \n",
       "168         11794 2025-01-08 10:37:00  1736332620   4000.0  outbound   \n",
       "1774        11794 2025-01-08 12:22:00  1736338920   1600.0  outbound   \n",
       "\n",
       "       channel        category  online  merchant_id trans_city  trans_lat  \\\n",
       "2175  transfer  not applicable    True          NaN      Томск  56.484704   \n",
       "2180  transfer  not applicable    True          NaN      Томск  56.484704   \n",
       "1143  transfer  not applicable    True          NaN      Томск  56.484704   \n",
       "168   transfer  not applicable    True          NaN      Томск  56.484704   \n",
       "1774  transfer  not applicable    True          NaN      Томск  56.484704   \n",
       "\n",
       "      trans_lon    trans_ip  device_id  account  is_fraud  is_suspicious  \\\n",
       "2175  84.948174  2.60.20.87     9366.0    21592     False          False   \n",
       "2180  84.948174  2.60.20.87     9367.0    21600     False          False   \n",
       "1143  84.948174  2.60.20.87     9366.0    16415     False          False   \n",
       "168   84.948174  2.60.20.87     9367.0    13517     False          False   \n",
       "1774  84.948174  2.60.20.87     9367.0    19656     False          False   \n",
       "\n",
       "        status            rule  client_id_y  account_id is_drop  \n",
       "2175  approved  not applicable          NaN         NaN     NaN  \n",
       "2180  approved  not applicable          NaN         NaN     NaN  \n",
       "1143  approved  not applicable          NaN         NaN     NaN  \n",
       "168   approved  not applicable       3713.0     13517.0    True  \n",
       "1774  approved  not applicable          NaN         NaN     NaN  "
      ]
     },
     "execution_count": 828,
     "metadata": {},
     "output_type": "execute_result"
    }
   ],
   "source": [
    "own_id16 = acc_hand1.client_id\n",
    "drop_accounts16 = acc_hand1.accounts.query(\"client_id != @own_id16 and is_drop == True\")\n",
    "df16_merged = all_df16.merge(drop_accounts16, how=\"outer\", left_on=\"account\", right_on=\"account_id\").sort_values(\"unix_time\")\n",
    "df16_no_rcvd = df16_merged.query(\"type != 'inbound'\")\n",
    "df16_no_rcvd.head()"
   ]
  },
  {
   "cell_type": "code",
   "execution_count": 829,
   "id": "4aa5a14b-d708-48e4-bd85-187e0f0d72a2",
   "metadata": {},
   "outputs": [
    {
     "data": {
      "text/plain": [
       "is_drop\n",
       "NaN     0.898013\n",
       "True    0.101987\n",
       "Name: proportion, dtype: float64"
      ]
     },
     "execution_count": 829,
     "metadata": {},
     "output_type": "execute_result"
    }
   ],
   "source": [
    "df16_no_rcvd.is_drop.value_counts(normalize=True, dropna=False)"
   ]
  },
  {
   "cell_type": "code",
   "execution_count": 906,
   "id": "ce47974c-6379-4b9b-82a3-d0a2c7f90daf",
   "metadata": {},
   "outputs": [
    {
     "data": {
      "text/plain": [
       "array([ True,  True,  True, False])"
      ]
     },
     "execution_count": 906,
     "metadata": {},
     "output_type": "execute_result"
    }
   ],
   "source": []
  },
  {
   "cell_type": "code",
   "execution_count": null,
   "id": "019cd940-39ab-4e3e-9583-1270fff4145c",
   "metadata": {},
   "outputs": [],
   "source": []
  },
  {
   "cell_type": "code",
   "execution_count": null,
   "id": "96b3c310-041a-4144-a174-36024e895f41",
   "metadata": {},
   "outputs": [],
   "source": []
  },
  {
   "cell_type": "markdown",
   "id": "5003d750-9234-41a5-830f-23092d753c46",
   "metadata": {},
   "source": [
    "**Отклоненный  исходящий перевод частями и заодно набросок полного цикла дропа распределителя**"
   ]
  },
  {
   "cell_type": "code",
   "execution_count": 1794,
   "id": "574d86cf-b676-4307-839f-fbc6aa77aedb",
   "metadata": {},
   "outputs": [
    {
     "data": {
      "text/plain": [
       "(0, 0, 0, False)"
      ]
     },
     "execution_count": 1794,
     "metadata": {},
     "output_type": "execute_result"
    }
   ],
   "source": [
    "# Объявление новых объектов классов для тестов.\n",
    "drop_txn_part_data = FraudTransPartialData(merchants_df=pd.DataFrame(), client_info=clients_with_geo.loc[0], \\\n",
    "                                        online_merchant_ids=pd.DataFrame(), fraud_ips=fraud_ips, used_ips=pd.Series(), \\\n",
    "                                         fraud_devices=fraud_devices,  used_devices=pd.Series(), \\\n",
    "                                        client_devices=client_devices)\n",
    "\n",
    "\n",
    "drop_client_test2 = DropClient(accounts=accounts, account=1, outer_accounts=outer_accounts)\n",
    "\n",
    "create_drop_txn_tst = CreateDropTxn(timestamps=drop_stamps, trans_partial_data=drop_txn_part_data, drop_client_cls=drop_client_test2, \\\n",
    "                                      in_txns=0, out_txns=0, in_lim=6, out_lim=8, last_txn={}, attempts=0)\n",
    "create_drop_txn_tst.reset_cache(only_counters=False)\n",
    "create_drop_txn_tst.in_txns, create_drop_txn_tst.out_txns, drop_client_test2.batch_txns, create_drop_txn_tst.limit_reached()"
   ]
  },
  {
   "cell_type": "code",
   "execution_count": null,
   "id": "fede3010-b579-40a8-8d21-e5f737bec979",
   "metadata": {},
   "outputs": [],
   "source": [
    "create_drop_txn_tst.reset_cache(only_counters=False)\n",
    "drop_client_test2.reset_cache(balance=True, used_accounts=True, chunk_size=True, batch_txns=True)\n",
    "all_txns5 = []\n",
    "declined=False\n",
    "create_drop_txn_tst.attempts_after_decline(min=0, max=1)\n",
    "drop_client_test2.chunk_size = 5000\n",
    "drop_client_test2.batch_txns = 1\n",
    "\n",
    "i = 1\n",
    "\n",
    "while True:\n",
    "    receive_txn8 = create_drop_txn_tst.single_operation(online=True, declined=declined, in_chunks=False, receive=True)\n",
    "    all_txns5.append(receive_txn8)\n",
    "    if declined:\n",
    "        break\n",
    "        \n",
    "    while drop_client_test2.balance > 0:\n",
    "        part_out = create_drop_txn_tst.cash_flow_action(online=True, receive=False, declined=declined, in_chunks=True)\n",
    "        all_txns5.append(declined)\n",
    "        print(f\"iter {i}\")\n",
    "        create_drop_txn_tst.deduct_attempts(declined=declined, receive=False) \n",
    "        if create_drop_txn_tst.stop_after_decline(declined=declined):\n",
    "            break\n",
    "           \n",
    "        declined = create_drop_txn_tst.limit_reached()\n",
    "        i += 1\n",
    "        \n",
    "    # pd.DataFrame(all_txns5)"
   ]
  },
  {
   "cell_type": "markdown",
   "id": "89170596-3a82-42cd-a42b-b88960a8a2a1",
   "metadata": {},
   "source": [
    "Ниже нерабочий код т.к. это прикидки с криптой"
   ]
  },
  {
   "cell_type": "code",
   "execution_count": null,
   "id": "16fcf197-7379-43c1-92f7-d02f277742af",
   "metadata": {},
   "outputs": [],
   "source": [
    "# create_drop_txn_tst.reset_cache(only_counters=False)\n",
    "# drop_client_test2.reset_cache(balance=True, used_accounts=True, chunk_size=True, batch_txns=True)\n",
    "# all_txns5 = []\n",
    "# declined=False\n",
    "# crypto_rate = 0.05\n",
    "# create_drop_txn_tst.attempts_after_decline(min=0, max=1)\n",
    "# drop_client_test2.chunk_size = 5000\n",
    "# drop_client_test2.batch_txns = 1\n",
    "\n",
    "# i = 1\n",
    "\n",
    "# while True:\n",
    "#     receive_txn8 = create_drop_txn_tst.single_operation(online=True, declined=declined, in_chunks=False, receive=True)\n",
    "#     all_txns5.append(receive_txn8)\n",
    "#     if declined:\n",
    "#         break\n",
    "        \n",
    "#     while drop_client_test2.balance > 0:\n",
    "#         if np.random.uniform(0, 1) < crypto_rate:\n",
    "#             # использовать метод FraudTransPartialData.original_purchase внутри\n",
    "#             part_out = create_drop_txn_tst.purchase(online=True, declined=declined, in_chunks=True, channel=\"crypto_exchange\")\n",
    "#         else:\n",
    "#             part_out = create_drop_txn_tst.cash_flow_action(online=True, receive=False, declined=declined, in_chunks=True)\n",
    "#         all_txns5.append(part_out)\n",
    "#         print(f\"iter {i}\")\n",
    "#         create_drop_txn_tst.deduct_attempts(declined=declined, receive=False) \n",
    "#         if create_drop_txn_tst.stop_after_decline(declined=declined):\n",
    "#             break\n",
    "           \n",
    "#         declined = create_drop_txn_tst.limit_reached()\n",
    "#         i += 1\n",
    "        \n",
    "#     # pd.DataFrame(all_txns5)"
   ]
  },
  {
   "cell_type": "markdown",
   "id": "87b9ccea-a26a-4e73-bbde-d96f38522148",
   "metadata": {},
   "source": [
    "## **Тест `CreateTxn.purchase`**"
   ]
  },
  {
   "cell_type": "markdown",
   "id": "031077da-4da0-43a1-bfc4-aec30cc90e94",
   "metadata": {},
   "source": [
    "### **`dist=True` дроп распределитель**"
   ]
  },
  {
   "cell_type": "markdown",
   "id": "9916fa58-69f9-48a4-85c7-28b184d7f6d9",
   "metadata": {},
   "source": [
    "**НЕ отклоненная покупка крипты целиком**  \n",
    "`BehavHand.online=True, receive=False, declined=False, BehavHand.in_chunks=False`"
   ]
  },
  {
   "cell_type": "code",
   "execution_count": 838,
   "id": "3b7c1a24-6bd1-4797-b42f-9e4807dfcca3",
   "metadata": {},
   "outputs": [
    {
     "data": {
      "text/html": [
       "<div>\n",
       "<style scoped>\n",
       "    .dataframe tbody tr th:only-of-type {\n",
       "        vertical-align: middle;\n",
       "    }\n",
       "\n",
       "    .dataframe tbody tr th {\n",
       "        vertical-align: top;\n",
       "    }\n",
       "\n",
       "    .dataframe thead th {\n",
       "        text-align: right;\n",
       "    }\n",
       "</style>\n",
       "<table border=\"1\" class=\"dataframe\">\n",
       "  <thead>\n",
       "    <tr style=\"text-align: right;\">\n",
       "      <th></th>\n",
       "      <th>client_id</th>\n",
       "      <th>txn_time</th>\n",
       "      <th>unix_time</th>\n",
       "      <th>amount</th>\n",
       "      <th>type</th>\n",
       "      <th>channel</th>\n",
       "      <th>category</th>\n",
       "      <th>online</th>\n",
       "      <th>merchant_id</th>\n",
       "      <th>trans_city</th>\n",
       "      <th>trans_lat</th>\n",
       "      <th>trans_lon</th>\n",
       "      <th>trans_ip</th>\n",
       "      <th>device_id</th>\n",
       "      <th>account</th>\n",
       "      <th>is_fraud</th>\n",
       "      <th>is_suspicious</th>\n",
       "      <th>status</th>\n",
       "      <th>rule</th>\n",
       "    </tr>\n",
       "  </thead>\n",
       "  <tbody>\n",
       "    <tr>\n",
       "      <th>0</th>\n",
       "      <td>11794</td>\n",
       "      <td>2025-01-28 08:04:00</td>\n",
       "      <td>1738051440</td>\n",
       "      <td>36000.0</td>\n",
       "      <td>inbound</td>\n",
       "      <td>transfer</td>\n",
       "      <td>not applicable</td>\n",
       "      <td>True</td>\n",
       "      <td>NaN</td>\n",
       "      <td>not applicable</td>\n",
       "      <td>NaN</td>\n",
       "      <td>NaN</td>\n",
       "      <td>not applicable</td>\n",
       "      <td>NaN</td>\n",
       "      <td>15206.0</td>\n",
       "      <td>False</td>\n",
       "      <td>False</td>\n",
       "      <td>approved</td>\n",
       "      <td>not applicable</td>\n",
       "    </tr>\n",
       "    <tr>\n",
       "      <th>1</th>\n",
       "      <td>11794</td>\n",
       "      <td>2025-01-28 10:31:00</td>\n",
       "      <td>1738060260</td>\n",
       "      <td>36000.0</td>\n",
       "      <td>purchase</td>\n",
       "      <td>crypto_exchange</td>\n",
       "      <td>balance_top_up</td>\n",
       "      <td>True</td>\n",
       "      <td>6850.0</td>\n",
       "      <td>Томск</td>\n",
       "      <td>56.484704</td>\n",
       "      <td>84.948174</td>\n",
       "      <td>2.60.20.87</td>\n",
       "      <td>9366.0</td>\n",
       "      <td>NaN</td>\n",
       "      <td>False</td>\n",
       "      <td>False</td>\n",
       "      <td>approved</td>\n",
       "      <td>not applicable</td>\n",
       "    </tr>\n",
       "  </tbody>\n",
       "</table>\n",
       "</div>"
      ],
      "text/plain": [
       "   client_id            txn_time   unix_time   amount      type  \\\n",
       "0      11794 2025-01-28 08:04:00  1738051440  36000.0   inbound   \n",
       "1      11794 2025-01-28 10:31:00  1738060260  36000.0  purchase   \n",
       "\n",
       "           channel        category  online  merchant_id      trans_city  \\\n",
       "0         transfer  not applicable    True          NaN  not applicable   \n",
       "1  crypto_exchange  balance_top_up    True       6850.0           Томск   \n",
       "\n",
       "   trans_lat  trans_lon        trans_ip  device_id  account  is_fraud  \\\n",
       "0        NaN        NaN  not applicable        NaN  15206.0     False   \n",
       "1  56.484704  84.948174      2.60.20.87     9366.0      NaN     False   \n",
       "\n",
       "   is_suspicious    status            rule  \n",
       "0          False  approved  not applicable  \n",
       "1          False  approved  not applicable  "
      ]
     },
     "execution_count": 838,
     "metadata": {},
     "output_type": "execute_result"
    }
   ],
   "source": [
    "reset_caches(cr_drop_txn1, behav_hand1, amt_hand1, time_hand1)\n",
    "acc_hand1.reset_cache()\n",
    "\n",
    "behav_hand1.scen = \"transfer\"\n",
    "behav_hand1.in_chunks_val()\n",
    "\n",
    "receive_txn17 = cr_drop_txn1.trf_or_atm(declined=False, to_drop=False, receive=True)\n",
    "all_txns17 = [receive_txn17]\n",
    "\n",
    "behav_hand1.guide_scenario()\n",
    "whole_out17 = cr_drop_txn1.purchase(declined=False, dist=True)\n",
    "all_txns17.append(whole_out17)\n",
    "all_df17 = pd.DataFrame(all_txns17)\n",
    "all_df17"
   ]
  },
  {
   "cell_type": "code",
   "execution_count": 837,
   "id": "8e06d170-674c-4223-9c69-c20516c96747",
   "metadata": {},
   "outputs": [
    {
     "data": {
      "text/plain": [
       "(1, 1, 1)"
      ]
     },
     "execution_count": 837,
     "metadata": {},
     "output_type": "execute_result"
    }
   ],
   "source": [
    "amt_hand1.batch_txns, time_hand1.in_txns, time_hand1.out_txns"
   ]
  },
  {
   "cell_type": "markdown",
   "id": "c9bb1a05-3df9-4c1e-99da-cacd106d7a85",
   "metadata": {},
   "source": [
    "**НЕ отклоненная покупка крипты частями**  \n",
    "`BehavHand.online=True, receive=False, declined=False, BehavHand.in_chunks=True, BehavHand.scen = \"split_transfer\"`"
   ]
  },
  {
   "cell_type": "code",
   "execution_count": 862,
   "id": "e6c2a152-aac3-4c23-9f7d-e4f4685a59fe",
   "metadata": {},
   "outputs": [],
   "source": [
    "reset_caches(cr_drop_txn1, behav_hand1, amt_hand1, time_hand1)\n",
    "\n",
    "all_txns18 = []\n",
    "\n",
    "receive_txn18 = cr_drop_txn1.trf_or_atm(declined=False, to_drop=False, receive=True)\n",
    "all_txns18.append(receive_txn18)\n",
    "\n",
    "behav_hand1.scen = \"split_transfer\"\n",
    "behav_hand1.in_chunks_val()\n",
    "\n",
    "\n",
    "while amt_hand1.balance > 0:\n",
    "    behav_hand1.guide_scenario()\n",
    "    part_out18 = cr_drop_txn1.purchase(declined=False, dist=True)\n",
    "    all_txns18.append(part_out18)\n",
    "    \n",
    "all_df18 = pd.DataFrame(all_txns18)"
   ]
  },
  {
   "cell_type": "code",
   "execution_count": 863,
   "id": "6e8ba011-d390-4248-9f5a-509f4e32d808",
   "metadata": {
    "scrolled": true
   },
   "outputs": [
    {
     "data": {
      "text/html": [
       "<div>\n",
       "<style scoped>\n",
       "    .dataframe tbody tr th:only-of-type {\n",
       "        vertical-align: middle;\n",
       "    }\n",
       "\n",
       "    .dataframe tbody tr th {\n",
       "        vertical-align: top;\n",
       "    }\n",
       "\n",
       "    .dataframe thead th {\n",
       "        text-align: right;\n",
       "    }\n",
       "</style>\n",
       "<table border=\"1\" class=\"dataframe\">\n",
       "  <thead>\n",
       "    <tr style=\"text-align: right;\">\n",
       "      <th></th>\n",
       "      <th>client_id</th>\n",
       "      <th>txn_time</th>\n",
       "      <th>unix_time</th>\n",
       "      <th>amount</th>\n",
       "      <th>type</th>\n",
       "      <th>channel</th>\n",
       "      <th>category</th>\n",
       "      <th>online</th>\n",
       "      <th>merchant_id</th>\n",
       "      <th>trans_city</th>\n",
       "      <th>trans_lat</th>\n",
       "      <th>trans_lon</th>\n",
       "      <th>trans_ip</th>\n",
       "      <th>device_id</th>\n",
       "      <th>account</th>\n",
       "      <th>is_fraud</th>\n",
       "      <th>is_suspicious</th>\n",
       "      <th>status</th>\n",
       "      <th>rule</th>\n",
       "    </tr>\n",
       "  </thead>\n",
       "  <tbody>\n",
       "    <tr>\n",
       "      <th>0</th>\n",
       "      <td>11794</td>\n",
       "      <td>2025-01-09 01:29:00</td>\n",
       "      <td>1736386140</td>\n",
       "      <td>67800.0</td>\n",
       "      <td>inbound</td>\n",
       "      <td>transfer</td>\n",
       "      <td>not applicable</td>\n",
       "      <td>True</td>\n",
       "      <td>NaN</td>\n",
       "      <td>not applicable</td>\n",
       "      <td>NaN</td>\n",
       "      <td>NaN</td>\n",
       "      <td>not applicable</td>\n",
       "      <td>NaN</td>\n",
       "      <td>15206.0</td>\n",
       "      <td>False</td>\n",
       "      <td>False</td>\n",
       "      <td>approved</td>\n",
       "      <td>not applicable</td>\n",
       "    </tr>\n",
       "    <tr>\n",
       "      <th>1</th>\n",
       "      <td>11794</td>\n",
       "      <td>2025-01-09 02:06:00</td>\n",
       "      <td>1736388360</td>\n",
       "      <td>12000.0</td>\n",
       "      <td>purchase</td>\n",
       "      <td>crypto_exchange</td>\n",
       "      <td>balance_top_up</td>\n",
       "      <td>True</td>\n",
       "      <td>6894.0</td>\n",
       "      <td>Томск</td>\n",
       "      <td>56.484704</td>\n",
       "      <td>84.948174</td>\n",
       "      <td>2.60.20.87</td>\n",
       "      <td>9366.0</td>\n",
       "      <td>NaN</td>\n",
       "      <td>False</td>\n",
       "      <td>False</td>\n",
       "      <td>approved</td>\n",
       "      <td>not applicable</td>\n",
       "    </tr>\n",
       "    <tr>\n",
       "      <th>2</th>\n",
       "      <td>11794</td>\n",
       "      <td>2025-01-09 02:59:00</td>\n",
       "      <td>1736391540</td>\n",
       "      <td>33000.0</td>\n",
       "      <td>purchase</td>\n",
       "      <td>crypto_exchange</td>\n",
       "      <td>balance_top_up</td>\n",
       "      <td>True</td>\n",
       "      <td>6894.0</td>\n",
       "      <td>Томск</td>\n",
       "      <td>56.484704</td>\n",
       "      <td>84.948174</td>\n",
       "      <td>2.60.20.87</td>\n",
       "      <td>9366.0</td>\n",
       "      <td>NaN</td>\n",
       "      <td>False</td>\n",
       "      <td>False</td>\n",
       "      <td>approved</td>\n",
       "      <td>not applicable</td>\n",
       "    </tr>\n",
       "    <tr>\n",
       "      <th>3</th>\n",
       "      <td>11794</td>\n",
       "      <td>2025-01-09 05:57:00</td>\n",
       "      <td>1736402220</td>\n",
       "      <td>13000.0</td>\n",
       "      <td>purchase</td>\n",
       "      <td>crypto_exchange</td>\n",
       "      <td>balance_top_up</td>\n",
       "      <td>True</td>\n",
       "      <td>6894.0</td>\n",
       "      <td>Томск</td>\n",
       "      <td>56.484704</td>\n",
       "      <td>84.948174</td>\n",
       "      <td>2.60.20.87</td>\n",
       "      <td>9366.0</td>\n",
       "      <td>NaN</td>\n",
       "      <td>False</td>\n",
       "      <td>False</td>\n",
       "      <td>approved</td>\n",
       "      <td>not applicable</td>\n",
       "    </tr>\n",
       "    <tr>\n",
       "      <th>4</th>\n",
       "      <td>11794</td>\n",
       "      <td>2025-01-09 07:14:00</td>\n",
       "      <td>1736406840</td>\n",
       "      <td>9800.0</td>\n",
       "      <td>purchase</td>\n",
       "      <td>crypto_exchange</td>\n",
       "      <td>balance_top_up</td>\n",
       "      <td>True</td>\n",
       "      <td>6894.0</td>\n",
       "      <td>Томск</td>\n",
       "      <td>56.484704</td>\n",
       "      <td>84.948174</td>\n",
       "      <td>2.60.20.87</td>\n",
       "      <td>9366.0</td>\n",
       "      <td>NaN</td>\n",
       "      <td>False</td>\n",
       "      <td>False</td>\n",
       "      <td>approved</td>\n",
       "      <td>not applicable</td>\n",
       "    </tr>\n",
       "  </tbody>\n",
       "</table>\n",
       "</div>"
      ],
      "text/plain": [
       "   client_id            txn_time   unix_time   amount      type  \\\n",
       "0      11794 2025-01-09 01:29:00  1736386140  67800.0   inbound   \n",
       "1      11794 2025-01-09 02:06:00  1736388360  12000.0  purchase   \n",
       "2      11794 2025-01-09 02:59:00  1736391540  33000.0  purchase   \n",
       "3      11794 2025-01-09 05:57:00  1736402220  13000.0  purchase   \n",
       "4      11794 2025-01-09 07:14:00  1736406840   9800.0  purchase   \n",
       "\n",
       "           channel        category  online  merchant_id      trans_city  \\\n",
       "0         transfer  not applicable    True          NaN  not applicable   \n",
       "1  crypto_exchange  balance_top_up    True       6894.0           Томск   \n",
       "2  crypto_exchange  balance_top_up    True       6894.0           Томск   \n",
       "3  crypto_exchange  balance_top_up    True       6894.0           Томск   \n",
       "4  crypto_exchange  balance_top_up    True       6894.0           Томск   \n",
       "\n",
       "   trans_lat  trans_lon        trans_ip  device_id  account  is_fraud  \\\n",
       "0        NaN        NaN  not applicable        NaN  15206.0     False   \n",
       "1  56.484704  84.948174      2.60.20.87     9366.0      NaN     False   \n",
       "2  56.484704  84.948174      2.60.20.87     9366.0      NaN     False   \n",
       "3  56.484704  84.948174      2.60.20.87     9366.0      NaN     False   \n",
       "4  56.484704  84.948174      2.60.20.87     9366.0      NaN     False   \n",
       "\n",
       "   is_suspicious    status            rule  \n",
       "0          False  approved  not applicable  \n",
       "1          False  approved  not applicable  \n",
       "2          False  approved  not applicable  \n",
       "3          False  approved  not applicable  \n",
       "4          False  approved  not applicable  "
      ]
     },
     "execution_count": 863,
     "metadata": {},
     "output_type": "execute_result"
    }
   ],
   "source": [
    "all_df18"
   ]
  },
  {
   "cell_type": "markdown",
   "id": "9741938f-31ee-48b5-a0f7-5da4cce1acc8",
   "metadata": {},
   "source": [
    "**Отклоненная покупка крипты целиком**  \n",
    "`BehavHand.online=True, receive=False, declined=True, BehavHand.in_chunks=False`"
   ]
  },
  {
   "cell_type": "code",
   "execution_count": 867,
   "id": "86aab498-59a5-4204-bb79-e92af8acb038",
   "metadata": {},
   "outputs": [
    {
     "data": {
      "text/html": [
       "<div>\n",
       "<style scoped>\n",
       "    .dataframe tbody tr th:only-of-type {\n",
       "        vertical-align: middle;\n",
       "    }\n",
       "\n",
       "    .dataframe tbody tr th {\n",
       "        vertical-align: top;\n",
       "    }\n",
       "\n",
       "    .dataframe thead th {\n",
       "        text-align: right;\n",
       "    }\n",
       "</style>\n",
       "<table border=\"1\" class=\"dataframe\">\n",
       "  <thead>\n",
       "    <tr style=\"text-align: right;\">\n",
       "      <th></th>\n",
       "      <th>client_id</th>\n",
       "      <th>txn_time</th>\n",
       "      <th>unix_time</th>\n",
       "      <th>amount</th>\n",
       "      <th>type</th>\n",
       "      <th>channel</th>\n",
       "      <th>category</th>\n",
       "      <th>online</th>\n",
       "      <th>merchant_id</th>\n",
       "      <th>trans_city</th>\n",
       "      <th>trans_lat</th>\n",
       "      <th>trans_lon</th>\n",
       "      <th>trans_ip</th>\n",
       "      <th>device_id</th>\n",
       "      <th>account</th>\n",
       "      <th>is_fraud</th>\n",
       "      <th>is_suspicious</th>\n",
       "      <th>status</th>\n",
       "      <th>rule</th>\n",
       "    </tr>\n",
       "  </thead>\n",
       "  <tbody>\n",
       "    <tr>\n",
       "      <th>0</th>\n",
       "      <td>11794</td>\n",
       "      <td>2025-01-01 15:24:00</td>\n",
       "      <td>1735745040</td>\n",
       "      <td>27600.0</td>\n",
       "      <td>inbound</td>\n",
       "      <td>transfer</td>\n",
       "      <td>not applicable</td>\n",
       "      <td>True</td>\n",
       "      <td>NaN</td>\n",
       "      <td>not applicable</td>\n",
       "      <td>NaN</td>\n",
       "      <td>NaN</td>\n",
       "      <td>not applicable</td>\n",
       "      <td>NaN</td>\n",
       "      <td>15206.0</td>\n",
       "      <td>False</td>\n",
       "      <td>False</td>\n",
       "      <td>approved</td>\n",
       "      <td>not applicable</td>\n",
       "    </tr>\n",
       "    <tr>\n",
       "      <th>1</th>\n",
       "      <td>11794</td>\n",
       "      <td>2025-01-01 17:12:00</td>\n",
       "      <td>1735751520</td>\n",
       "      <td>27600.0</td>\n",
       "      <td>purchase</td>\n",
       "      <td>crypto_exchange</td>\n",
       "      <td>balance_top_up</td>\n",
       "      <td>True</td>\n",
       "      <td>6858.0</td>\n",
       "      <td>Томск</td>\n",
       "      <td>56.484704</td>\n",
       "      <td>84.948174</td>\n",
       "      <td>2.60.20.87</td>\n",
       "      <td>9367.0</td>\n",
       "      <td>NaN</td>\n",
       "      <td>True</td>\n",
       "      <td>False</td>\n",
       "      <td>declined</td>\n",
       "      <td>drop_flow_cashout</td>\n",
       "    </tr>\n",
       "    <tr>\n",
       "      <th>2</th>\n",
       "      <td>11794</td>\n",
       "      <td>2025-01-01 19:44:00</td>\n",
       "      <td>1735760640</td>\n",
       "      <td>27600.0</td>\n",
       "      <td>purchase</td>\n",
       "      <td>crypto_exchange</td>\n",
       "      <td>balance_top_up</td>\n",
       "      <td>True</td>\n",
       "      <td>6858.0</td>\n",
       "      <td>Томск</td>\n",
       "      <td>56.484704</td>\n",
       "      <td>84.948174</td>\n",
       "      <td>2.60.20.87</td>\n",
       "      <td>9367.0</td>\n",
       "      <td>NaN</td>\n",
       "      <td>True</td>\n",
       "      <td>False</td>\n",
       "      <td>declined</td>\n",
       "      <td>drop_flow_cashout</td>\n",
       "    </tr>\n",
       "    <tr>\n",
       "      <th>3</th>\n",
       "      <td>11794</td>\n",
       "      <td>2025-01-01 20:50:00</td>\n",
       "      <td>1735764600</td>\n",
       "      <td>27600.0</td>\n",
       "      <td>purchase</td>\n",
       "      <td>crypto_exchange</td>\n",
       "      <td>balance_top_up</td>\n",
       "      <td>True</td>\n",
       "      <td>6858.0</td>\n",
       "      <td>Томск</td>\n",
       "      <td>56.484704</td>\n",
       "      <td>84.948174</td>\n",
       "      <td>2.60.20.87</td>\n",
       "      <td>9367.0</td>\n",
       "      <td>NaN</td>\n",
       "      <td>True</td>\n",
       "      <td>False</td>\n",
       "      <td>declined</td>\n",
       "      <td>drop_flow_cashout</td>\n",
       "    </tr>\n",
       "  </tbody>\n",
       "</table>\n",
       "</div>"
      ],
      "text/plain": [
       "   client_id            txn_time   unix_time   amount      type  \\\n",
       "0      11794 2025-01-01 15:24:00  1735745040  27600.0   inbound   \n",
       "1      11794 2025-01-01 17:12:00  1735751520  27600.0  purchase   \n",
       "2      11794 2025-01-01 19:44:00  1735760640  27600.0  purchase   \n",
       "3      11794 2025-01-01 20:50:00  1735764600  27600.0  purchase   \n",
       "\n",
       "           channel        category  online  merchant_id      trans_city  \\\n",
       "0         transfer  not applicable    True          NaN  not applicable   \n",
       "1  crypto_exchange  balance_top_up    True       6858.0           Томск   \n",
       "2  crypto_exchange  balance_top_up    True       6858.0           Томск   \n",
       "3  crypto_exchange  balance_top_up    True       6858.0           Томск   \n",
       "\n",
       "   trans_lat  trans_lon        trans_ip  device_id  account  is_fraud  \\\n",
       "0        NaN        NaN  not applicable        NaN  15206.0     False   \n",
       "1  56.484704  84.948174      2.60.20.87     9367.0      NaN      True   \n",
       "2  56.484704  84.948174      2.60.20.87     9367.0      NaN      True   \n",
       "3  56.484704  84.948174      2.60.20.87     9367.0      NaN      True   \n",
       "\n",
       "   is_suspicious    status               rule  \n",
       "0          False  approved     not applicable  \n",
       "1          False  declined  drop_flow_cashout  \n",
       "2          False  declined  drop_flow_cashout  \n",
       "3          False  declined  drop_flow_cashout  "
      ]
     },
     "execution_count": 867,
     "metadata": {},
     "output_type": "execute_result"
    }
   ],
   "source": [
    "reset_caches(cr_drop_txn1, behav_hand1, amt_hand1, time_hand1)\n",
    "\n",
    "all_txns19 = []\n",
    "\n",
    "receive_txn19 = cr_drop_txn1.trf_or_atm(declined=False, to_drop=False, receive=True)\n",
    "all_txns19.append(receive_txn19)\n",
    "\n",
    "behav_hand1.scen = \"transfer\"\n",
    "behav_hand1.in_chunks_val()\n",
    "\n",
    "i = 0\n",
    "while amt_hand1.balance > 0 and i < 3:\n",
    "    behav_hand1.guide_scenario()\n",
    "    part_out19 = cr_drop_txn1.purchase(declined=True, dist=True)\n",
    "    all_txns19.append(part_out19)\n",
    "    i += 1\n",
    "    \n",
    "all_df19 = pd.DataFrame(all_txns19)\n",
    "all_df19"
   ]
  },
  {
   "cell_type": "markdown",
   "id": "08f243ef-1cc2-4b5b-83e7-68ba5d5519ee",
   "metadata": {},
   "source": [
    "**Отклоненная  покупка крипты частями**  \n",
    "`BehavHand.online=True, receive=False, declined=True, BehavHand.in_chunks=True`"
   ]
  },
  {
   "cell_type": "code",
   "execution_count": 869,
   "id": "60491db7-f764-47bd-90f3-7df0d3d8d772",
   "metadata": {},
   "outputs": [
    {
     "data": {
      "text/html": [
       "<div>\n",
       "<style scoped>\n",
       "    .dataframe tbody tr th:only-of-type {\n",
       "        vertical-align: middle;\n",
       "    }\n",
       "\n",
       "    .dataframe tbody tr th {\n",
       "        vertical-align: top;\n",
       "    }\n",
       "\n",
       "    .dataframe thead th {\n",
       "        text-align: right;\n",
       "    }\n",
       "</style>\n",
       "<table border=\"1\" class=\"dataframe\">\n",
       "  <thead>\n",
       "    <tr style=\"text-align: right;\">\n",
       "      <th></th>\n",
       "      <th>client_id</th>\n",
       "      <th>txn_time</th>\n",
       "      <th>unix_time</th>\n",
       "      <th>amount</th>\n",
       "      <th>type</th>\n",
       "      <th>channel</th>\n",
       "      <th>category</th>\n",
       "      <th>online</th>\n",
       "      <th>merchant_id</th>\n",
       "      <th>trans_city</th>\n",
       "      <th>trans_lat</th>\n",
       "      <th>trans_lon</th>\n",
       "      <th>trans_ip</th>\n",
       "      <th>device_id</th>\n",
       "      <th>account</th>\n",
       "      <th>is_fraud</th>\n",
       "      <th>is_suspicious</th>\n",
       "      <th>status</th>\n",
       "      <th>rule</th>\n",
       "    </tr>\n",
       "  </thead>\n",
       "  <tbody>\n",
       "    <tr>\n",
       "      <th>0</th>\n",
       "      <td>11794</td>\n",
       "      <td>2025-01-30 15:52:00</td>\n",
       "      <td>1738252320</td>\n",
       "      <td>30500.0</td>\n",
       "      <td>inbound</td>\n",
       "      <td>transfer</td>\n",
       "      <td>not applicable</td>\n",
       "      <td>True</td>\n",
       "      <td>NaN</td>\n",
       "      <td>not applicable</td>\n",
       "      <td>NaN</td>\n",
       "      <td>NaN</td>\n",
       "      <td>not applicable</td>\n",
       "      <td>NaN</td>\n",
       "      <td>15206.0</td>\n",
       "      <td>False</td>\n",
       "      <td>False</td>\n",
       "      <td>approved</td>\n",
       "      <td>not applicable</td>\n",
       "    </tr>\n",
       "    <tr>\n",
       "      <th>1</th>\n",
       "      <td>11794</td>\n",
       "      <td>2025-01-30 16:46:00</td>\n",
       "      <td>1738255560</td>\n",
       "      <td>24000.0</td>\n",
       "      <td>purchase</td>\n",
       "      <td>crypto_exchange</td>\n",
       "      <td>balance_top_up</td>\n",
       "      <td>True</td>\n",
       "      <td>6887.0</td>\n",
       "      <td>Томск</td>\n",
       "      <td>56.484704</td>\n",
       "      <td>84.948174</td>\n",
       "      <td>2.60.20.87</td>\n",
       "      <td>9366.0</td>\n",
       "      <td>NaN</td>\n",
       "      <td>True</td>\n",
       "      <td>False</td>\n",
       "      <td>declined</td>\n",
       "      <td>drop_flow_cashout</td>\n",
       "    </tr>\n",
       "    <tr>\n",
       "      <th>2</th>\n",
       "      <td>11794</td>\n",
       "      <td>2025-01-30 18:41:00</td>\n",
       "      <td>1738262460</td>\n",
       "      <td>18000.0</td>\n",
       "      <td>purchase</td>\n",
       "      <td>crypto_exchange</td>\n",
       "      <td>balance_top_up</td>\n",
       "      <td>True</td>\n",
       "      <td>6887.0</td>\n",
       "      <td>Томск</td>\n",
       "      <td>56.484704</td>\n",
       "      <td>84.948174</td>\n",
       "      <td>2.60.20.87</td>\n",
       "      <td>9366.0</td>\n",
       "      <td>NaN</td>\n",
       "      <td>True</td>\n",
       "      <td>False</td>\n",
       "      <td>declined</td>\n",
       "      <td>drop_flow_cashout</td>\n",
       "    </tr>\n",
       "    <tr>\n",
       "      <th>3</th>\n",
       "      <td>11794</td>\n",
       "      <td>2025-01-30 21:00:00</td>\n",
       "      <td>1738270800</td>\n",
       "      <td>14000.0</td>\n",
       "      <td>purchase</td>\n",
       "      <td>crypto_exchange</td>\n",
       "      <td>balance_top_up</td>\n",
       "      <td>True</td>\n",
       "      <td>6887.0</td>\n",
       "      <td>Томск</td>\n",
       "      <td>56.484704</td>\n",
       "      <td>84.948174</td>\n",
       "      <td>2.60.20.87</td>\n",
       "      <td>9366.0</td>\n",
       "      <td>NaN</td>\n",
       "      <td>True</td>\n",
       "      <td>False</td>\n",
       "      <td>declined</td>\n",
       "      <td>drop_flow_cashout</td>\n",
       "    </tr>\n",
       "    <tr>\n",
       "      <th>4</th>\n",
       "      <td>11794</td>\n",
       "      <td>2025-01-30 23:13:00</td>\n",
       "      <td>1738278780</td>\n",
       "      <td>15000.0</td>\n",
       "      <td>purchase</td>\n",
       "      <td>crypto_exchange</td>\n",
       "      <td>balance_top_up</td>\n",
       "      <td>True</td>\n",
       "      <td>6887.0</td>\n",
       "      <td>Томск</td>\n",
       "      <td>56.484704</td>\n",
       "      <td>84.948174</td>\n",
       "      <td>2.60.20.87</td>\n",
       "      <td>9366.0</td>\n",
       "      <td>NaN</td>\n",
       "      <td>True</td>\n",
       "      <td>False</td>\n",
       "      <td>declined</td>\n",
       "      <td>drop_flow_cashout</td>\n",
       "    </tr>\n",
       "  </tbody>\n",
       "</table>\n",
       "</div>"
      ],
      "text/plain": [
       "   client_id            txn_time   unix_time   amount      type  \\\n",
       "0      11794 2025-01-30 15:52:00  1738252320  30500.0   inbound   \n",
       "1      11794 2025-01-30 16:46:00  1738255560  24000.0  purchase   \n",
       "2      11794 2025-01-30 18:41:00  1738262460  18000.0  purchase   \n",
       "3      11794 2025-01-30 21:00:00  1738270800  14000.0  purchase   \n",
       "4      11794 2025-01-30 23:13:00  1738278780  15000.0  purchase   \n",
       "\n",
       "           channel        category  online  merchant_id      trans_city  \\\n",
       "0         transfer  not applicable    True          NaN  not applicable   \n",
       "1  crypto_exchange  balance_top_up    True       6887.0           Томск   \n",
       "2  crypto_exchange  balance_top_up    True       6887.0           Томск   \n",
       "3  crypto_exchange  balance_top_up    True       6887.0           Томск   \n",
       "4  crypto_exchange  balance_top_up    True       6887.0           Томск   \n",
       "\n",
       "   trans_lat  trans_lon        trans_ip  device_id  account  is_fraud  \\\n",
       "0        NaN        NaN  not applicable        NaN  15206.0     False   \n",
       "1  56.484704  84.948174      2.60.20.87     9366.0      NaN      True   \n",
       "2  56.484704  84.948174      2.60.20.87     9366.0      NaN      True   \n",
       "3  56.484704  84.948174      2.60.20.87     9366.0      NaN      True   \n",
       "4  56.484704  84.948174      2.60.20.87     9366.0      NaN      True   \n",
       "\n",
       "   is_suspicious    status               rule  \n",
       "0          False  approved     not applicable  \n",
       "1          False  declined  drop_flow_cashout  \n",
       "2          False  declined  drop_flow_cashout  \n",
       "3          False  declined  drop_flow_cashout  \n",
       "4          False  declined  drop_flow_cashout  "
      ]
     },
     "execution_count": 869,
     "metadata": {},
     "output_type": "execute_result"
    }
   ],
   "source": [
    "reset_caches(cr_drop_txn1, behav_hand1, amt_hand1, time_hand1, part_data1)\n",
    "\n",
    "all_txns20 = []\n",
    "\n",
    "receive_txn20 = cr_drop_txn1.trf_or_atm(declined=False, to_drop=False, receive=True)\n",
    "all_txns20.append(receive_txn20)\n",
    "\n",
    "behav_hand1.scen = \"split_transfer\"\n",
    "behav_hand1.in_chunks_val()\n",
    "\n",
    "i = 0\n",
    "while amt_hand1.balance > 0 and i < 4:\n",
    "    behav_hand1.guide_scenario()\n",
    "    part_out20 = cr_drop_txn1.purchase(declined=True, dist=True)\n",
    "    all_txns20.append(part_out20)\n",
    "    i += 1\n",
    "    \n",
    "all_df20 = pd.DataFrame(all_txns20)\n",
    "all_df20"
   ]
  },
  {
   "cell_type": "code",
   "execution_count": 870,
   "id": "2779795d-4f80-4769-801e-8586a06f6e3a",
   "metadata": {},
   "outputs": [
    {
     "data": {
      "text/plain": [
       "np.float64(30500.0)"
      ]
     },
     "execution_count": 870,
     "metadata": {},
     "output_type": "execute_result"
    }
   ],
   "source": [
    "amt_hand1.balance"
   ]
  },
  {
   "cell_type": "markdown",
   "id": "adb77bdd-6d24-413e-a93c-97846067ba80",
   "metadata": {},
   "source": [
    "### **`dist=False` дроп покупатель**"
   ]
  },
  {
   "cell_type": "markdown",
   "id": "6388b074-29b1-45af-9840-8433e8335df8",
   "metadata": {},
   "source": [
    "**НЕ отклоненная покупка целиком**  \n",
    "`BehavHand.online=True, declined=False, BehavHand.in_chunks=False`"
   ]
  },
  {
   "cell_type": "code",
   "execution_count": 900,
   "id": "ae728eae-0d8d-46db-9ccb-62e096128ed4",
   "metadata": {},
   "outputs": [
    {
     "data": {
      "text/html": [
       "<div>\n",
       "<style scoped>\n",
       "    .dataframe tbody tr th:only-of-type {\n",
       "        vertical-align: middle;\n",
       "    }\n",
       "\n",
       "    .dataframe tbody tr th {\n",
       "        vertical-align: top;\n",
       "    }\n",
       "\n",
       "    .dataframe thead th {\n",
       "        text-align: right;\n",
       "    }\n",
       "</style>\n",
       "<table border=\"1\" class=\"dataframe\">\n",
       "  <thead>\n",
       "    <tr style=\"text-align: right;\">\n",
       "      <th></th>\n",
       "      <th>client_id</th>\n",
       "      <th>txn_time</th>\n",
       "      <th>unix_time</th>\n",
       "      <th>amount</th>\n",
       "      <th>type</th>\n",
       "      <th>channel</th>\n",
       "      <th>category</th>\n",
       "      <th>online</th>\n",
       "      <th>merchant_id</th>\n",
       "      <th>trans_city</th>\n",
       "      <th>trans_lat</th>\n",
       "      <th>trans_lon</th>\n",
       "      <th>trans_ip</th>\n",
       "      <th>device_id</th>\n",
       "      <th>account</th>\n",
       "      <th>is_fraud</th>\n",
       "      <th>is_suspicious</th>\n",
       "      <th>status</th>\n",
       "      <th>rule</th>\n",
       "    </tr>\n",
       "  </thead>\n",
       "  <tbody>\n",
       "    <tr>\n",
       "      <th>0</th>\n",
       "      <td>11794</td>\n",
       "      <td>2025-01-11 17:34:00</td>\n",
       "      <td>1736616840</td>\n",
       "      <td>38600.0</td>\n",
       "      <td>inbound</td>\n",
       "      <td>transfer</td>\n",
       "      <td>not applicable</td>\n",
       "      <td>True</td>\n",
       "      <td>NaN</td>\n",
       "      <td>not applicable</td>\n",
       "      <td>NaN</td>\n",
       "      <td>NaN</td>\n",
       "      <td>not applicable</td>\n",
       "      <td>NaN</td>\n",
       "      <td>15206.0</td>\n",
       "      <td>False</td>\n",
       "      <td>False</td>\n",
       "      <td>approved</td>\n",
       "      <td>not applicable</td>\n",
       "    </tr>\n",
       "    <tr>\n",
       "      <th>1</th>\n",
       "      <td>11794</td>\n",
       "      <td>2025-01-11 18:50:00</td>\n",
       "      <td>1736621400</td>\n",
       "      <td>38600.0</td>\n",
       "      <td>purchase</td>\n",
       "      <td>ecom</td>\n",
       "      <td>shopping_net</td>\n",
       "      <td>True</td>\n",
       "      <td>6971.0</td>\n",
       "      <td>Томск</td>\n",
       "      <td>56.484704</td>\n",
       "      <td>84.948174</td>\n",
       "      <td>2.60.20.87</td>\n",
       "      <td>9367.0</td>\n",
       "      <td>NaN</td>\n",
       "      <td>False</td>\n",
       "      <td>False</td>\n",
       "      <td>approved</td>\n",
       "      <td>not applicable</td>\n",
       "    </tr>\n",
       "  </tbody>\n",
       "</table>\n",
       "</div>"
      ],
      "text/plain": [
       "   client_id            txn_time   unix_time   amount      type   channel  \\\n",
       "0      11794 2025-01-11 17:34:00  1736616840  38600.0   inbound  transfer   \n",
       "1      11794 2025-01-11 18:50:00  1736621400  38600.0  purchase      ecom   \n",
       "\n",
       "         category  online  merchant_id      trans_city  trans_lat  trans_lon  \\\n",
       "0  not applicable    True          NaN  not applicable        NaN        NaN   \n",
       "1    shopping_net    True       6971.0           Томск  56.484704  84.948174   \n",
       "\n",
       "         trans_ip  device_id  account  is_fraud  is_suspicious    status  \\\n",
       "0  not applicable        NaN  15206.0     False          False  approved   \n",
       "1      2.60.20.87     9367.0      NaN     False          False  approved   \n",
       "\n",
       "             rule  \n",
       "0  not applicable  \n",
       "1  not applicable  "
      ]
     },
     "execution_count": 900,
     "metadata": {},
     "output_type": "execute_result"
    }
   ],
   "source": [
    "reset_caches(cr_drop_txn1, behav_hand1, amt_hand1, time_hand1, part_data1)\n",
    "\n",
    "all_txns21 = []\n",
    "\n",
    "receive_txn21 = cr_drop_txn1.trf_or_atm(declined=False, to_drop=False, receive=True)\n",
    "all_txns21.append(receive_txn21)\n",
    "\n",
    "behav_hand1.online = True\n",
    "behav_hand1.in_chunks = False\n",
    "\n",
    "while amt_hand1.balance > 0:\n",
    "    behav_hand1.guide_scenario()\n",
    "    part_out21 = cr_drop_txn1.purchase(declined=False, dist=False)\n",
    "    all_txns21.append(part_out21)\n",
    "    \n",
    "all_df21 = pd.DataFrame(all_txns21)\n",
    "all_df21"
   ]
  },
  {
   "cell_type": "markdown",
   "id": "965d4e33-49ab-40ea-abe5-0bd18bac37f4",
   "metadata": {},
   "source": [
    "**НЕ отклоненная покупка частями**  \n",
    "`BehavHand.online=True, declined=False, BehavHand.in_chunks=True, BehavHand.scen = \"split_transfer\"`"
   ]
  },
  {
   "cell_type": "code",
   "execution_count": 901,
   "id": "c6c71f11-56df-4477-a3d8-396d7942a8a6",
   "metadata": {},
   "outputs": [
    {
     "data": {
      "text/html": [
       "<div>\n",
       "<style scoped>\n",
       "    .dataframe tbody tr th:only-of-type {\n",
       "        vertical-align: middle;\n",
       "    }\n",
       "\n",
       "    .dataframe tbody tr th {\n",
       "        vertical-align: top;\n",
       "    }\n",
       "\n",
       "    .dataframe thead th {\n",
       "        text-align: right;\n",
       "    }\n",
       "</style>\n",
       "<table border=\"1\" class=\"dataframe\">\n",
       "  <thead>\n",
       "    <tr style=\"text-align: right;\">\n",
       "      <th></th>\n",
       "      <th>client_id</th>\n",
       "      <th>txn_time</th>\n",
       "      <th>unix_time</th>\n",
       "      <th>amount</th>\n",
       "      <th>type</th>\n",
       "      <th>channel</th>\n",
       "      <th>category</th>\n",
       "      <th>online</th>\n",
       "      <th>merchant_id</th>\n",
       "      <th>trans_city</th>\n",
       "      <th>trans_lat</th>\n",
       "      <th>trans_lon</th>\n",
       "      <th>trans_ip</th>\n",
       "      <th>device_id</th>\n",
       "      <th>account</th>\n",
       "      <th>is_fraud</th>\n",
       "      <th>is_suspicious</th>\n",
       "      <th>status</th>\n",
       "      <th>rule</th>\n",
       "    </tr>\n",
       "  </thead>\n",
       "  <tbody>\n",
       "    <tr>\n",
       "      <th>0</th>\n",
       "      <td>11794</td>\n",
       "      <td>2025-01-10 03:25:00</td>\n",
       "      <td>1736479500</td>\n",
       "      <td>38600.0</td>\n",
       "      <td>inbound</td>\n",
       "      <td>transfer</td>\n",
       "      <td>not applicable</td>\n",
       "      <td>True</td>\n",
       "      <td>NaN</td>\n",
       "      <td>not applicable</td>\n",
       "      <td>NaN</td>\n",
       "      <td>NaN</td>\n",
       "      <td>not applicable</td>\n",
       "      <td>NaN</td>\n",
       "      <td>15206.0</td>\n",
       "      <td>False</td>\n",
       "      <td>False</td>\n",
       "      <td>approved</td>\n",
       "      <td>not applicable</td>\n",
       "    </tr>\n",
       "    <tr>\n",
       "      <th>1</th>\n",
       "      <td>11794</td>\n",
       "      <td>2025-01-10 05:32:00</td>\n",
       "      <td>1736487120</td>\n",
       "      <td>25000.0</td>\n",
       "      <td>purchase</td>\n",
       "      <td>ecom</td>\n",
       "      <td>misc_net</td>\n",
       "      <td>True</td>\n",
       "      <td>6791.0</td>\n",
       "      <td>Томск</td>\n",
       "      <td>56.484704</td>\n",
       "      <td>84.948174</td>\n",
       "      <td>2.60.20.87</td>\n",
       "      <td>9367.0</td>\n",
       "      <td>NaN</td>\n",
       "      <td>False</td>\n",
       "      <td>False</td>\n",
       "      <td>approved</td>\n",
       "      <td>not applicable</td>\n",
       "    </tr>\n",
       "    <tr>\n",
       "      <th>2</th>\n",
       "      <td>11794</td>\n",
       "      <td>2025-01-10 06:27:00</td>\n",
       "      <td>1736490420</td>\n",
       "      <td>8000.0</td>\n",
       "      <td>purchase</td>\n",
       "      <td>ecom</td>\n",
       "      <td>misc_net</td>\n",
       "      <td>True</td>\n",
       "      <td>6960.0</td>\n",
       "      <td>Томск</td>\n",
       "      <td>56.484704</td>\n",
       "      <td>84.948174</td>\n",
       "      <td>2.60.20.87</td>\n",
       "      <td>9366.0</td>\n",
       "      <td>NaN</td>\n",
       "      <td>False</td>\n",
       "      <td>False</td>\n",
       "      <td>approved</td>\n",
       "      <td>not applicable</td>\n",
       "    </tr>\n",
       "    <tr>\n",
       "      <th>3</th>\n",
       "      <td>11794</td>\n",
       "      <td>2025-01-10 07:06:00</td>\n",
       "      <td>1736492760</td>\n",
       "      <td>5600.0</td>\n",
       "      <td>purchase</td>\n",
       "      <td>ecom</td>\n",
       "      <td>shopping_net</td>\n",
       "      <td>True</td>\n",
       "      <td>6908.0</td>\n",
       "      <td>Томск</td>\n",
       "      <td>56.484704</td>\n",
       "      <td>84.948174</td>\n",
       "      <td>2.60.20.87</td>\n",
       "      <td>9366.0</td>\n",
       "      <td>NaN</td>\n",
       "      <td>False</td>\n",
       "      <td>False</td>\n",
       "      <td>approved</td>\n",
       "      <td>not applicable</td>\n",
       "    </tr>\n",
       "  </tbody>\n",
       "</table>\n",
       "</div>"
      ],
      "text/plain": [
       "   client_id            txn_time   unix_time   amount      type   channel  \\\n",
       "0      11794 2025-01-10 03:25:00  1736479500  38600.0   inbound  transfer   \n",
       "1      11794 2025-01-10 05:32:00  1736487120  25000.0  purchase      ecom   \n",
       "2      11794 2025-01-10 06:27:00  1736490420   8000.0  purchase      ecom   \n",
       "3      11794 2025-01-10 07:06:00  1736492760   5600.0  purchase      ecom   \n",
       "\n",
       "         category  online  merchant_id      trans_city  trans_lat  trans_lon  \\\n",
       "0  not applicable    True          NaN  not applicable        NaN        NaN   \n",
       "1        misc_net    True       6791.0           Томск  56.484704  84.948174   \n",
       "2        misc_net    True       6960.0           Томск  56.484704  84.948174   \n",
       "3    shopping_net    True       6908.0           Томск  56.484704  84.948174   \n",
       "\n",
       "         trans_ip  device_id  account  is_fraud  is_suspicious    status  \\\n",
       "0  not applicable        NaN  15206.0     False          False  approved   \n",
       "1      2.60.20.87     9367.0      NaN     False          False  approved   \n",
       "2      2.60.20.87     9366.0      NaN     False          False  approved   \n",
       "3      2.60.20.87     9366.0      NaN     False          False  approved   \n",
       "\n",
       "             rule  \n",
       "0  not applicable  \n",
       "1  not applicable  \n",
       "2  not applicable  \n",
       "3  not applicable  "
      ]
     },
     "execution_count": 901,
     "metadata": {},
     "output_type": "execute_result"
    }
   ],
   "source": [
    "reset_caches(cr_drop_txn1, behav_hand1, amt_hand1, time_hand1, part_data1)\n",
    "\n",
    "all_txns22 = []\n",
    "\n",
    "receive_txn22 = cr_drop_txn1.trf_or_atm(declined=False, to_drop=False, receive=True)\n",
    "all_txns22.append(receive_txn22)\n",
    "\n",
    "behav_hand1.online = True\n",
    "behav_hand1.in_chunks = True\n",
    "\n",
    "while amt_hand1.balance > 0:\n",
    "    behav_hand1.guide_scenario()\n",
    "    part_out22 = cr_drop_txn1.purchase(declined=False, dist=False)\n",
    "    all_txns22.append(part_out22)\n",
    "    \n",
    "all_df22 = pd.DataFrame(all_txns22)\n",
    "all_df22"
   ]
  },
  {
   "cell_type": "markdown",
   "id": "2f45b682-02f5-4e74-a9de-52909bd4234c",
   "metadata": {},
   "source": [
    "**Отклоненная покупка целиком**  \n",
    "`BehavHand.online=True, declined=True, BehavHand.in_chunks=False`"
   ]
  },
  {
   "cell_type": "code",
   "execution_count": 1030,
   "id": "91c64608-c8a9-493c-8c77-4b6453d09bb2",
   "metadata": {},
   "outputs": [
    {
     "data": {
      "text/html": [
       "<div>\n",
       "<style scoped>\n",
       "    .dataframe tbody tr th:only-of-type {\n",
       "        vertical-align: middle;\n",
       "    }\n",
       "\n",
       "    .dataframe tbody tr th {\n",
       "        vertical-align: top;\n",
       "    }\n",
       "\n",
       "    .dataframe thead th {\n",
       "        text-align: right;\n",
       "    }\n",
       "</style>\n",
       "<table border=\"1\" class=\"dataframe\">\n",
       "  <thead>\n",
       "    <tr style=\"text-align: right;\">\n",
       "      <th></th>\n",
       "      <th>client_id</th>\n",
       "      <th>txn_time</th>\n",
       "      <th>unix_time</th>\n",
       "      <th>amount</th>\n",
       "      <th>type</th>\n",
       "      <th>channel</th>\n",
       "      <th>category</th>\n",
       "      <th>online</th>\n",
       "      <th>merchant_id</th>\n",
       "      <th>trans_city</th>\n",
       "      <th>trans_lat</th>\n",
       "      <th>trans_lon</th>\n",
       "      <th>trans_ip</th>\n",
       "      <th>device_id</th>\n",
       "      <th>account</th>\n",
       "      <th>is_fraud</th>\n",
       "      <th>is_suspicious</th>\n",
       "      <th>status</th>\n",
       "      <th>rule</th>\n",
       "    </tr>\n",
       "  </thead>\n",
       "  <tbody>\n",
       "    <tr>\n",
       "      <th>0</th>\n",
       "      <td>11794</td>\n",
       "      <td>2025-01-19 09:12:00</td>\n",
       "      <td>1737277920</td>\n",
       "      <td>48100.0</td>\n",
       "      <td>inbound</td>\n",
       "      <td>transfer</td>\n",
       "      <td>not applicable</td>\n",
       "      <td>True</td>\n",
       "      <td>NaN</td>\n",
       "      <td>not applicable</td>\n",
       "      <td>NaN</td>\n",
       "      <td>NaN</td>\n",
       "      <td>not applicable</td>\n",
       "      <td>NaN</td>\n",
       "      <td>15206.0</td>\n",
       "      <td>False</td>\n",
       "      <td>False</td>\n",
       "      <td>approved</td>\n",
       "      <td>not applicable</td>\n",
       "    </tr>\n",
       "    <tr>\n",
       "      <th>1</th>\n",
       "      <td>11794</td>\n",
       "      <td>2025-01-19 10:56:00</td>\n",
       "      <td>1737284160</td>\n",
       "      <td>48100.0</td>\n",
       "      <td>purchase</td>\n",
       "      <td>ecom</td>\n",
       "      <td>misc_net</td>\n",
       "      <td>True</td>\n",
       "      <td>6846.0</td>\n",
       "      <td>Томск</td>\n",
       "      <td>56.484704</td>\n",
       "      <td>84.948174</td>\n",
       "      <td>2.60.20.87</td>\n",
       "      <td>9367.0</td>\n",
       "      <td>NaN</td>\n",
       "      <td>True</td>\n",
       "      <td>False</td>\n",
       "      <td>declined</td>\n",
       "      <td>drop_purchaser</td>\n",
       "    </tr>\n",
       "    <tr>\n",
       "      <th>2</th>\n",
       "      <td>11794</td>\n",
       "      <td>2025-01-19 12:11:00</td>\n",
       "      <td>1737288660</td>\n",
       "      <td>36100.0</td>\n",
       "      <td>purchase</td>\n",
       "      <td>ecom</td>\n",
       "      <td>shopping_net</td>\n",
       "      <td>True</td>\n",
       "      <td>6964.0</td>\n",
       "      <td>Томск</td>\n",
       "      <td>56.484704</td>\n",
       "      <td>84.948174</td>\n",
       "      <td>2.60.20.87</td>\n",
       "      <td>9367.0</td>\n",
       "      <td>NaN</td>\n",
       "      <td>True</td>\n",
       "      <td>False</td>\n",
       "      <td>declined</td>\n",
       "      <td>drop_purchaser</td>\n",
       "    </tr>\n",
       "    <tr>\n",
       "      <th>3</th>\n",
       "      <td>11794</td>\n",
       "      <td>2025-01-19 12:55:00</td>\n",
       "      <td>1737291300</td>\n",
       "      <td>24100.0</td>\n",
       "      <td>purchase</td>\n",
       "      <td>ecom</td>\n",
       "      <td>shopping_net</td>\n",
       "      <td>True</td>\n",
       "      <td>6884.0</td>\n",
       "      <td>Томск</td>\n",
       "      <td>56.484704</td>\n",
       "      <td>84.948174</td>\n",
       "      <td>2.60.20.87</td>\n",
       "      <td>9367.0</td>\n",
       "      <td>NaN</td>\n",
       "      <td>True</td>\n",
       "      <td>False</td>\n",
       "      <td>declined</td>\n",
       "      <td>drop_purchaser</td>\n",
       "    </tr>\n",
       "    <tr>\n",
       "      <th>4</th>\n",
       "      <td>11794</td>\n",
       "      <td>2025-01-19 14:52:00</td>\n",
       "      <td>1737298320</td>\n",
       "      <td>12100.0</td>\n",
       "      <td>purchase</td>\n",
       "      <td>ecom</td>\n",
       "      <td>shopping_net</td>\n",
       "      <td>True</td>\n",
       "      <td>6806.0</td>\n",
       "      <td>Томск</td>\n",
       "      <td>56.484704</td>\n",
       "      <td>84.948174</td>\n",
       "      <td>2.60.20.87</td>\n",
       "      <td>9367.0</td>\n",
       "      <td>NaN</td>\n",
       "      <td>True</td>\n",
       "      <td>False</td>\n",
       "      <td>declined</td>\n",
       "      <td>drop_purchaser</td>\n",
       "    </tr>\n",
       "  </tbody>\n",
       "</table>\n",
       "</div>"
      ],
      "text/plain": [
       "   client_id            txn_time   unix_time   amount      type   channel  \\\n",
       "0      11794 2025-01-19 09:12:00  1737277920  48100.0   inbound  transfer   \n",
       "1      11794 2025-01-19 10:56:00  1737284160  48100.0  purchase      ecom   \n",
       "2      11794 2025-01-19 12:11:00  1737288660  36100.0  purchase      ecom   \n",
       "3      11794 2025-01-19 12:55:00  1737291300  24100.0  purchase      ecom   \n",
       "4      11794 2025-01-19 14:52:00  1737298320  12100.0  purchase      ecom   \n",
       "\n",
       "         category  online  merchant_id      trans_city  trans_lat  trans_lon  \\\n",
       "0  not applicable    True          NaN  not applicable        NaN        NaN   \n",
       "1        misc_net    True       6846.0           Томск  56.484704  84.948174   \n",
       "2    shopping_net    True       6964.0           Томск  56.484704  84.948174   \n",
       "3    shopping_net    True       6884.0           Томск  56.484704  84.948174   \n",
       "4    shopping_net    True       6806.0           Томск  56.484704  84.948174   \n",
       "\n",
       "         trans_ip  device_id  account  is_fraud  is_suspicious    status  \\\n",
       "0  not applicable        NaN  15206.0     False          False  approved   \n",
       "1      2.60.20.87     9367.0      NaN      True          False  declined   \n",
       "2      2.60.20.87     9367.0      NaN      True          False  declined   \n",
       "3      2.60.20.87     9367.0      NaN      True          False  declined   \n",
       "4      2.60.20.87     9367.0      NaN      True          False  declined   \n",
       "\n",
       "             rule  \n",
       "0  not applicable  \n",
       "1  drop_purchaser  \n",
       "2  drop_purchaser  \n",
       "3  drop_purchaser  \n",
       "4  drop_purchaser  "
      ]
     },
     "execution_count": 1030,
     "metadata": {},
     "output_type": "execute_result"
    }
   ],
   "source": [
    "reset_caches(cr_drop_txn1, behav_hand1, amt_hand1, time_hand1, part_data1)\n",
    "\n",
    "all_txns23 = []\n",
    "\n",
    "receive_txn23 = cr_drop_txn1.trf_or_atm(declined=False, to_drop=False, receive=True)\n",
    "all_txns23.append(receive_txn23)\n",
    "\n",
    "behav_hand1.online = True\n",
    "behav_hand1.in_chunks = False\n",
    "\n",
    "i = 0\n",
    "while amt_hand1.balance > 0 and i < 4:\n",
    "    part_out23 = cr_drop_txn1.purchase(declined=True, dist=False)\n",
    "    all_txns23.append(part_out23)\n",
    "    i += 1\n",
    "    \n",
    "all_df23 = pd.DataFrame(all_txns23)\n",
    "all_df23"
   ]
  },
  {
   "cell_type": "code",
   "execution_count": 1032,
   "id": "69085cbb-9f30-4478-a01d-aeaf02a48424",
   "metadata": {},
   "outputs": [
    {
     "data": {
      "text/plain": [
       "0    48100.0\n",
       "1    36100.0\n",
       "2    24100.0\n",
       "3    12100.0\n",
       "4      100.0\n",
       "Name: amt, dtype: float64"
      ]
     },
     "execution_count": 1032,
     "metadata": {},
     "output_type": "execute_result"
    }
   ],
   "source": [
    "cum_sub_df = pd.DataFrame()\n",
    "cum_sub_df[\"amt\"] = np.arange(0, 5, step=1)\n",
    "cum_sub_df[\"amt\"] = - (48100 * 0.25 // 100 * 100)\n",
    "cum_sub_df.loc[0, \"amt\"] = 48100\n",
    "cum_sub_df.amt.cumsum()"
   ]
  },
  {
   "cell_type": "markdown",
   "id": "0c6009a2-5f5a-46b5-9b1a-d1aa4b8c6320",
   "metadata": {},
   "source": [
    "**Отклоненная  покупка частями**  \n",
    "`BehavHand.online=True, declined=True, BehavHand.in_chunks=True`"
   ]
  },
  {
   "cell_type": "code",
   "execution_count": 1033,
   "id": "c84e1ed5-3f9c-43aa-bba8-c6d45ff7b0d9",
   "metadata": {},
   "outputs": [
    {
     "data": {
      "text/html": [
       "<div>\n",
       "<style scoped>\n",
       "    .dataframe tbody tr th:only-of-type {\n",
       "        vertical-align: middle;\n",
       "    }\n",
       "\n",
       "    .dataframe tbody tr th {\n",
       "        vertical-align: top;\n",
       "    }\n",
       "\n",
       "    .dataframe thead th {\n",
       "        text-align: right;\n",
       "    }\n",
       "</style>\n",
       "<table border=\"1\" class=\"dataframe\">\n",
       "  <thead>\n",
       "    <tr style=\"text-align: right;\">\n",
       "      <th></th>\n",
       "      <th>client_id</th>\n",
       "      <th>txn_time</th>\n",
       "      <th>unix_time</th>\n",
       "      <th>amount</th>\n",
       "      <th>type</th>\n",
       "      <th>channel</th>\n",
       "      <th>category</th>\n",
       "      <th>online</th>\n",
       "      <th>merchant_id</th>\n",
       "      <th>trans_city</th>\n",
       "      <th>trans_lat</th>\n",
       "      <th>trans_lon</th>\n",
       "      <th>trans_ip</th>\n",
       "      <th>device_id</th>\n",
       "      <th>account</th>\n",
       "      <th>is_fraud</th>\n",
       "      <th>is_suspicious</th>\n",
       "      <th>status</th>\n",
       "      <th>rule</th>\n",
       "    </tr>\n",
       "  </thead>\n",
       "  <tbody>\n",
       "    <tr>\n",
       "      <th>0</th>\n",
       "      <td>11794</td>\n",
       "      <td>2025-01-15 10:18:00</td>\n",
       "      <td>1736936280</td>\n",
       "      <td>49500.0</td>\n",
       "      <td>inbound</td>\n",
       "      <td>transfer</td>\n",
       "      <td>not applicable</td>\n",
       "      <td>True</td>\n",
       "      <td>NaN</td>\n",
       "      <td>not applicable</td>\n",
       "      <td>NaN</td>\n",
       "      <td>NaN</td>\n",
       "      <td>not applicable</td>\n",
       "      <td>NaN</td>\n",
       "      <td>15206.0</td>\n",
       "      <td>False</td>\n",
       "      <td>False</td>\n",
       "      <td>approved</td>\n",
       "      <td>not applicable</td>\n",
       "    </tr>\n",
       "    <tr>\n",
       "      <th>1</th>\n",
       "      <td>11794</td>\n",
       "      <td>2025-01-15 11:25:00</td>\n",
       "      <td>1736940300</td>\n",
       "      <td>23000.0</td>\n",
       "      <td>purchase</td>\n",
       "      <td>ecom</td>\n",
       "      <td>shopping_net</td>\n",
       "      <td>True</td>\n",
       "      <td>6921.0</td>\n",
       "      <td>Томск</td>\n",
       "      <td>56.484704</td>\n",
       "      <td>84.948174</td>\n",
       "      <td>2.60.20.87</td>\n",
       "      <td>9367.0</td>\n",
       "      <td>NaN</td>\n",
       "      <td>True</td>\n",
       "      <td>False</td>\n",
       "      <td>declined</td>\n",
       "      <td>drop_purchaser</td>\n",
       "    </tr>\n",
       "    <tr>\n",
       "      <th>2</th>\n",
       "      <td>11794</td>\n",
       "      <td>2025-01-15 13:22:00</td>\n",
       "      <td>1736947320</td>\n",
       "      <td>17300.0</td>\n",
       "      <td>purchase</td>\n",
       "      <td>ecom</td>\n",
       "      <td>travel_net</td>\n",
       "      <td>True</td>\n",
       "      <td>6868.0</td>\n",
       "      <td>Томск</td>\n",
       "      <td>56.484704</td>\n",
       "      <td>84.948174</td>\n",
       "      <td>2.60.20.87</td>\n",
       "      <td>9367.0</td>\n",
       "      <td>NaN</td>\n",
       "      <td>True</td>\n",
       "      <td>False</td>\n",
       "      <td>declined</td>\n",
       "      <td>drop_purchaser</td>\n",
       "    </tr>\n",
       "    <tr>\n",
       "      <th>3</th>\n",
       "      <td>11794</td>\n",
       "      <td>2025-01-15 15:20:00</td>\n",
       "      <td>1736954400</td>\n",
       "      <td>11600.0</td>\n",
       "      <td>purchase</td>\n",
       "      <td>ecom</td>\n",
       "      <td>shopping_net</td>\n",
       "      <td>True</td>\n",
       "      <td>6827.0</td>\n",
       "      <td>Томск</td>\n",
       "      <td>56.484704</td>\n",
       "      <td>84.948174</td>\n",
       "      <td>2.60.20.87</td>\n",
       "      <td>9366.0</td>\n",
       "      <td>NaN</td>\n",
       "      <td>True</td>\n",
       "      <td>False</td>\n",
       "      <td>declined</td>\n",
       "      <td>drop_purchaser</td>\n",
       "    </tr>\n",
       "    <tr>\n",
       "      <th>4</th>\n",
       "      <td>11794</td>\n",
       "      <td>2025-01-15 17:20:00</td>\n",
       "      <td>1736961600</td>\n",
       "      <td>5900.0</td>\n",
       "      <td>purchase</td>\n",
       "      <td>ecom</td>\n",
       "      <td>shopping_net</td>\n",
       "      <td>True</td>\n",
       "      <td>6933.0</td>\n",
       "      <td>Томск</td>\n",
       "      <td>56.484704</td>\n",
       "      <td>84.948174</td>\n",
       "      <td>2.60.20.87</td>\n",
       "      <td>9366.0</td>\n",
       "      <td>NaN</td>\n",
       "      <td>True</td>\n",
       "      <td>False</td>\n",
       "      <td>declined</td>\n",
       "      <td>drop_purchaser</td>\n",
       "    </tr>\n",
       "  </tbody>\n",
       "</table>\n",
       "</div>"
      ],
      "text/plain": [
       "   client_id            txn_time   unix_time   amount      type   channel  \\\n",
       "0      11794 2025-01-15 10:18:00  1736936280  49500.0   inbound  transfer   \n",
       "1      11794 2025-01-15 11:25:00  1736940300  23000.0  purchase      ecom   \n",
       "2      11794 2025-01-15 13:22:00  1736947320  17300.0  purchase      ecom   \n",
       "3      11794 2025-01-15 15:20:00  1736954400  11600.0  purchase      ecom   \n",
       "4      11794 2025-01-15 17:20:00  1736961600   5900.0  purchase      ecom   \n",
       "\n",
       "         category  online  merchant_id      trans_city  trans_lat  trans_lon  \\\n",
       "0  not applicable    True          NaN  not applicable        NaN        NaN   \n",
       "1    shopping_net    True       6921.0           Томск  56.484704  84.948174   \n",
       "2      travel_net    True       6868.0           Томск  56.484704  84.948174   \n",
       "3    shopping_net    True       6827.0           Томск  56.484704  84.948174   \n",
       "4    shopping_net    True       6933.0           Томск  56.484704  84.948174   \n",
       "\n",
       "         trans_ip  device_id  account  is_fraud  is_suspicious    status  \\\n",
       "0  not applicable        NaN  15206.0     False          False  approved   \n",
       "1      2.60.20.87     9367.0      NaN      True          False  declined   \n",
       "2      2.60.20.87     9367.0      NaN      True          False  declined   \n",
       "3      2.60.20.87     9366.0      NaN      True          False  declined   \n",
       "4      2.60.20.87     9366.0      NaN      True          False  declined   \n",
       "\n",
       "             rule  \n",
       "0  not applicable  \n",
       "1  drop_purchaser  \n",
       "2  drop_purchaser  \n",
       "3  drop_purchaser  \n",
       "4  drop_purchaser  "
      ]
     },
     "execution_count": 1033,
     "metadata": {},
     "output_type": "execute_result"
    }
   ],
   "source": [
    "reset_caches(cr_drop_txn1, behav_hand1, amt_hand1, time_hand1, part_data1)\n",
    "\n",
    "all_txns24 = []\n",
    "\n",
    "receive_txn24 = cr_drop_txn1.trf_or_atm(declined=False, to_drop=False, receive=True)\n",
    "all_txns24.append(receive_txn24)\n",
    "\n",
    "behav_hand1.online = True\n",
    "behav_hand1.in_chunks = True\n",
    "\n",
    "i = 0\n",
    "while amt_hand1.balance > 0 and i < 4:\n",
    "    part_out24 = cr_drop_txn1.purchase(declined=True, dist=False)\n",
    "    all_txns24.append(part_out24)\n",
    "    i += 1\n",
    "    \n",
    "all_df24 = pd.DataFrame(all_txns24)\n",
    "all_df24"
   ]
  },
  {
   "cell_type": "code",
   "execution_count": 1034,
   "id": "ab56404f-d591-4c57-88a7-a83a181853a8",
   "metadata": {},
   "outputs": [
    {
     "data": {
      "text/plain": [
       "0    23000.0\n",
       "1    17300.0\n",
       "2    11600.0\n",
       "3     5900.0\n",
       "4      200.0\n",
       "Name: amt, dtype: float64"
      ]
     },
     "execution_count": 1034,
     "metadata": {},
     "output_type": "execute_result"
    }
   ],
   "source": [
    "cum_sub_df = pd.DataFrame()\n",
    "cum_sub_df[\"amt\"] = np.arange(0, 5, step=1)\n",
    "cum_sub_df[\"amt\"] = - (23000.0 * 0.25 // 100 * 100)\n",
    "cum_sub_df.loc[0, \"amt\"] = 23000.0\n",
    "cum_sub_df.amt.cumsum()"
   ]
  },
  {
   "cell_type": "markdown",
   "id": "8b84332b-4c46-48d5-8140-c93df724928e",
   "metadata": {},
   "source": [
    "**`limit_reached`**"
   ]
  },
  {
   "cell_type": "code",
   "execution_count": 1039,
   "id": "516752b4-1d73-4f88-ab97-79ed7f38d27c",
   "metadata": {},
   "outputs": [
    {
     "data": {
      "text/plain": [
       "False"
      ]
     },
     "execution_count": 1039,
     "metadata": {},
     "output_type": "execute_result"
    }
   ],
   "source": [
    "cr_drop_txn1.reset_cache()\n",
    "# cr_drop_txn1.in_txns = cr_drop_txn1.in_lim - 1\n",
    "cr_drop_txn1.out_txns = cr_drop_txn1.out_lim - 1\n",
    "cr_drop_txn1.limit_reached()"
   ]
  },
  {
   "cell_type": "markdown",
   "id": "f4fa1bb3-aa36-4eb7-b54f-8260737ba526",
   "metadata": {},
   "source": [
    "**Конец теста `CreateDropTxn`**"
   ]
  },
  {
   "cell_type": "markdown",
   "id": "09e7f8cc-ff51-42f1-882d-e8a450110296",
   "metadata": {},
   "source": [
    "## Функция генерации транзакции дропа `gen_drop_txn`"
   ]
  },
  {
   "cell_type": "code",
   "execution_count": 1074,
   "id": "7b5bb952-cdbe-447f-96d0-e50830709442",
   "metadata": {},
   "outputs": [],
   "source": [
    "def one_batch_dist(drop_info, drop_client_act: DropClient, batch):\n",
    "    \"\"\"\n",
    "    Распределение дропом одной партии полученных денег\n",
    "    -------------------\n",
    "    drop_info - namedtuples из itertuples(). Информация клиента-дропа из общего датафрейма клиентов\n",
    "    drop_client_act - DropClient. Генератор атрибутов дропа и его действий; генератор счетов транзакций дропа\n",
    "    batch - int. id партии денег полученной дропом.\n",
    "    \"\"\"\n",
    "    amount_received = drop_client_act.received(batch=batch)\n",
    "    scenario = np.random.choice([\"atm-only\", \"transfer+atm\", \"transfer\", \"transfer_chunks\"])\n",
    "    for i in range(n):\n",
    "        if i == 0:\n",
    "            first = True\n",
    "        else:\n",
    "            first = False\n",
    "        \n",
    "        if scenario == \"atm-only\":\n",
    "            atm_withdrawal()\n",
    "            \n",
    "        elif scenario == \"atm+transfer\":\n",
    "            atm_withdrawal()"
   ]
  },
  {
   "cell_type": "markdown",
   "id": "fb5bb613-2e35-413b-8dbe-6723a3dd83c0",
   "metadata": {},
   "source": [
    "## Функция генерации активности дропа `drop_activity`"
   ]
  },
  {
   "cell_type": "code",
   "execution_count": null,
   "id": "3ab4bdc1-6a9b-449c-b050-05438ce51f42",
   "metadata": {},
   "outputs": [],
   "source": [
    "def drop_activity(drop_info, drop_client_act: DropClient, lifetime):\n",
    "    \"\"\"\n",
    "    drop_info - namedtuples из itertuples(). Информация клиента-дропа из общего датафрейма клиентов\n",
    "    drop_client_act - DropClient. Генератор атрибутов дропа и его действий; генератор счетов транзакций дропа.\n",
    "    lifetime - int. Сколько дней дроп будет проявлять активность, учитывая даже отклоненные транзакции\n",
    "    \"\"\"\n",
    "    amount_received = drop_client_act.received(batch=)\n",
    "    scenario = np.random.choice([\"atm-only\", \"transfer+atm\", \"transfer\", \"transfer_chunks\"])\n",
    "    for i in range(n):\n",
    "        if i == 0:\n",
    "            first = True\n",
    "        else:\n",
    "            first = False\n",
    "        \n",
    "        if scenario == \"atm-only\":\n",
    "            atm_withdrawal()\n",
    "            \n",
    "        elif scenario == \"atm+transfer\":\n",
    "            atm_withdrawal()"
   ]
  },
  {
   "cell_type": "code",
   "execution_count": 1077,
   "id": "9d437755-9e76-475c-8662-0778e5a8c6c5",
   "metadata": {},
   "outputs": [
    {
     "data": {
      "text/plain": [
       "\u001b[31mSignature:\u001b[39m\n",
       "DropClient.receive(\n",
       "    self,\n",
       "    batch,\n",
       "    low=\u001b[32m5000\u001b[39m,\n",
       "    high=\u001b[32m100000\u001b[39m,\n",
       "    mean=\u001b[32m30000\u001b[39m,\n",
       "    std=\u001b[32m20000\u001b[39m,\n",
       "    round=\u001b[32m500\u001b[39m,\n",
       ")\n",
       "\u001b[31mDocstring:\u001b[39m\n",
       "Генерация суммы входящего перевода\n",
       "--------------------------\n",
       "batch - int. id текущей партии денег, которую он должен распределить (снять, перевести)\n",
       "low - float. Минимальная сумма\n",
       "high - float. Максимальная сумма\n",
       "mean - float. Средняя сумма\n",
       "std - float. Стандартное отклонение\n",
       "round - int. Округление целой части. По умолчанию 500. Значит числа будут либо с 500 либо с 000 на конце.\n",
       "             При условии что round не больше low и high. Чтобы отменить округление, нужно выставить 1.\n",
       "\u001b[31mFile:\u001b[39m      c:\\users\\iaros\\appdata\\local\\temp\\ipykernel_7648\\484414114.py\n",
       "\u001b[31mType:\u001b[39m      function"
      ]
     },
     "metadata": {},
     "output_type": "display_data"
    }
   ],
   "source": [
    "?DropClient.receive"
   ]
  },
  {
   "cell_type": "markdown",
   "id": "3f8c9ee8-21f3-4fae-add7-b40f1ce5f415",
   "metadata": {},
   "source": [
    "## Функция генерации входящих/исходящих переводов дропов"
   ]
  },
  {
   "cell_type": "code",
   "execution_count": null,
   "id": "af6c2095-486d-45b6-b393-e169507e5418",
   "metadata": {},
   "outputs": [],
   "source": [
    "def drop_transfer(type, first, configs: ConfigForTrans, fraud_amount: TransAmount, \\\n",
    "                 trans_part_data: FraudTransPartialData, last_txn_unix, accounts, lag_interval=None) -> dict:\n",
    "    \n",
    "\tif type == 'inbound':\n",
    "\t\tfraud_amount.transfer(type=type)\n",
    "\t\tfraud_amount.balance += amount\n",
    "\t\ttrans_part_data.original_data(online=True)\n",
    "        \n",
    "\telif type == 'outbound':\n",
    "\t\tTransAmount.transfer(type=type)\n",
    "\t\tTransAmount.balance -= amount\n",
    "\t\ttrans_part_data.original_data(online=True)\n",
    "\n",
    "\tif first:\n",
    "        timestamp_sample = configs.timestamps.sample(1)\n",
    "\t\ttxn_time = timestamp_sample.timestamp.iat[0]\n",
    "        txn_unix = timestamp_sample.unix_time.iat[0]\n",
    "\telse:\n",
    "\t\ttxn_time, txn_unix = derive_from_last_time(last_txn_unix=last_txn_unix, lag_interval=lag_interval)\n",
    "\n",
    "    account = accounts.sample(1).iat[0]\n",
    "\n",
    "\tbuild_trans()\n"
   ]
  },
  {
   "cell_type": "code",
   "execution_count": 820,
   "id": "12287a8c-dd5b-49be-9ad2-60ca02d5d76f",
   "metadata": {},
   "outputs": [
    {
     "data": {
      "text/plain": [
       "\u001b[31mSignature:\u001b[39m\n",
       "get_time_for_trans(\n",
       "    trans_df,\n",
       "    is_fraud,\n",
       "    time_weights,\n",
       "    timestamps,\n",
       "    timestamps_1st_month,\n",
       "    round_clock,\n",
       "    online=\u001b[38;5;28;01mNone\u001b[39;00m,\n",
       "    rule=\u001b[38;5;28;01mNone\u001b[39;00m,\n",
       "    geo_distance=\u001b[38;5;28;01mNone\u001b[39;00m,\n",
       "    lag=\u001b[38;5;28;01mNone\u001b[39;00m,\n",
       ")\n",
       "\u001b[31mDocstring:\u001b[39m\n",
       "trans_df - датафрейм с транзакциями текущего клиента. Откуда брать информацию по предыдущим транзакциям клиента\n",
       "is_fraud - boolean. Фрод или не фрод\n",
       "time_weights - датафрейм с весами часов в периоде времени\n",
       "timestamps - датафрейм с timestamps\n",
       "timestamps_1st_month - сабсет timestamps отфильтрованный по первому месяцу и, если применимо, году. Чтобы генерировать первые транзакции\n",
       "round_clock - boolean. Круглосуточная или дневная категория.\n",
       "online - boolean. Онлайн или оффлайн покупка. True or False\n",
       "rule - str. Название антифрод правила\n",
       "geo_distance - int. Дистанция между локацией последней и текущей транзакции если фрод со сменой геолокации - в километрах\n",
       "lag - boolean. Задержка по времени от предыдущей транзакции. Нужна для моделирования увеличения частоты транзакций.\n",
       "      Это задержка именно между последней легитимной транзакцией и серией частых фрод транзакций. Подразумевается что функция\n",
       "      get_time_for_trans будет использована в цикле, и для первой итерации lag будет True.\n",
       "\n",
       "Возвращает время для генерируемой транзакции в виде pd.Timestamp и в виде unix времени\n",
       "\u001b[31mFile:\u001b[39m      c:\\users\\iaros\\appdata\\local\\temp\\ipykernel_7648\\2964965603.py\n",
       "\u001b[31mType:\u001b[39m      function"
      ]
     },
     "metadata": {},
     "output_type": "display_data"
    }
   ],
   "source": [
    "?get_time_for_trans"
   ]
  },
  {
   "cell_type": "markdown",
   "id": "0f141f47-d74e-4dc7-b32e-f672752f9473",
   "metadata": {},
   "source": [
    "# Урезание количества клиентов - `отменено`\n",
    "**Думаю просто можно равновероятно семплировать n клиентов и все, без ухищрений как внизу**  \n",
    "Т.к. на ~5400 клиентов нужно очень много транзакций, чтобы у каждого их было хотя бы 50.  \n",
    "Условно 270000 транзакций по 50 на 5400 клиентов. Скорее всего генерироваться будут больше часа"
   ]
  },
  {
   "cell_type": "code",
   "execution_count": 436,
   "id": "44f0c719-c049-4d73-b690-7f42efe3f0d4",
   "metadata": {},
   "outputs": [],
   "source": [
    "# на данный момент примерно до 800.\n",
    "\n",
    "# clients_reduced_num = pd.DataFrame(districts_ru.clients.mul(0.15).round().astype(\"int\"))\n",
    "# clients_reduced_num[\"city\"] = districts_ru[\"area\"].copy()\n",
    "# clients_reduced_num\n",
    "\n",
    "# clients_reduced_df = gpd.GeoDataFrame(columns=clients_with_geo.columns)\n",
    "# # clients_reduced_df.columns = \n",
    "# for col, data_type in clients_with_geo.dtypes.items():\n",
    "#     # if data_type != \"geometry\" print(data_type)\n",
    "#     clients_reduced_df[col] = clients_reduced_df[col].astype(f\"{data_type}\")\n",
    "# # list(zip(clients_with_geo.dtypes.items(), clients_reduced_df.columns))\n",
    "# clients_reduced_df.dtypes\n",
    "\n",
    "# for row in clients_reduced_num.itertuples():\n",
    "#     clients_with_geo_part = clients_with_geo.loc[clients_with_geo[\"area\"] == row.city].iloc[0:row.clients]\n",
    "#     clients_reduced_df = pd.concat([clients_reduced_df,clients_with_geo_part])\n",
    "\n",
    "# clients_reduced_df"
   ]
  },
  {
   "cell_type": "code",
   "execution_count": null,
   "id": "2e60511e-1302-4e80-a416-e821da43f3a3",
   "metadata": {},
   "outputs": [],
   "source": []
  },
  {
   "cell_type": "code",
   "execution_count": null,
   "id": "6ab7683e-f333-46a5-ace8-df63d5a937b0",
   "metadata": {},
   "outputs": [],
   "source": []
  },
  {
   "cell_type": "code",
   "execution_count": null,
   "id": "5be99ed7-cc21-4cbd-b454-d56b750582ae",
   "metadata": {},
   "outputs": [],
   "source": []
  },
  {
   "cell_type": "code",
   "execution_count": null,
   "id": "7939b75b-e266-4cde-8249-c9b98671aa58",
   "metadata": {},
   "outputs": [],
   "source": []
  },
  {
   "cell_type": "code",
   "execution_count": null,
   "id": "288064bb-6698-40c2-9d7f-40bbdd8f864e",
   "metadata": {},
   "outputs": [],
   "source": []
  },
  {
   "cell_type": "code",
   "execution_count": null,
   "id": "0762f4d0-c01f-406a-9e0c-70702e533434",
   "metadata": {},
   "outputs": [],
   "source": []
  },
  {
   "cell_type": "code",
   "execution_count": null,
   "id": "47b566a1-9a42-472b-8915-42c0a3d14206",
   "metadata": {},
   "outputs": [],
   "source": []
  },
  {
   "cell_type": "code",
   "execution_count": null,
   "id": "cb70731a-cd97-4741-938b-a96019e34504",
   "metadata": {},
   "outputs": [],
   "source": []
  },
  {
   "cell_type": "code",
   "execution_count": null,
   "id": "adc188fd-70bc-4959-aacd-45e9e308e569",
   "metadata": {},
   "outputs": [],
   "source": []
  },
  {
   "cell_type": "code",
   "execution_count": null,
   "id": "84c29781-401f-4c2c-a384-31d8d41afd46",
   "metadata": {},
   "outputs": [],
   "source": []
  },
  {
   "cell_type": "code",
   "execution_count": null,
   "id": "d8a4f622-3f17-4eb5-b4cc-63e56a8e25a8",
   "metadata": {},
   "outputs": [],
   "source": []
  },
  {
   "cell_type": "code",
   "execution_count": null,
   "id": "2a3c6762-9644-4519-84f5-7890cd69dca7",
   "metadata": {},
   "outputs": [],
   "source": []
  },
  {
   "cell_type": "code",
   "execution_count": null,
   "id": "6b123219-e195-4cc1-9421-3e05d44e78b4",
   "metadata": {},
   "outputs": [],
   "source": []
  },
  {
   "cell_type": "code",
   "execution_count": null,
   "id": "6ad426d1-b818-433a-956b-708a86181c64",
   "metadata": {},
   "outputs": [],
   "source": []
  },
  {
   "cell_type": "code",
   "execution_count": null,
   "id": "8c7c5cfa-becf-4af4-82ae-f04a158568c3",
   "metadata": {},
   "outputs": [],
   "source": []
  },
  {
   "cell_type": "code",
   "execution_count": null,
   "id": "3c8a2f2e-f820-4449-9167-e0ef36a2fa63",
   "metadata": {},
   "outputs": [],
   "source": []
  },
  {
   "cell_type": "code",
   "execution_count": null,
   "id": "11c13f7e-c545-4cc1-b02c-190a81069b09",
   "metadata": {},
   "outputs": [],
   "source": []
  },
  {
   "cell_type": "code",
   "execution_count": null,
   "id": "d042357e-3ee1-4878-881b-39ff34bad961",
   "metadata": {},
   "outputs": [],
   "source": []
  },
  {
   "cell_type": "code",
   "execution_count": null,
   "id": "45d629d6-72a2-40f2-8480-70c97bb9350a",
   "metadata": {},
   "outputs": [],
   "source": []
  },
  {
   "cell_type": "code",
   "execution_count": null,
   "id": "7f0b6aa3-9db0-4279-b3f2-7567cc4de2de",
   "metadata": {},
   "outputs": [],
   "source": []
  },
  {
   "cell_type": "code",
   "execution_count": null,
   "id": "b85aacb6-c2d1-4fdc-beed-7b1b018fbeb5",
   "metadata": {},
   "outputs": [],
   "source": []
  },
  {
   "cell_type": "code",
   "execution_count": null,
   "id": "6c3b491b-565a-4052-bee2-0af55b80657e",
   "metadata": {},
   "outputs": [],
   "source": []
  },
  {
   "cell_type": "code",
   "execution_count": null,
   "id": "3d3008ad-4c28-4781-9b47-f97000b6e473",
   "metadata": {},
   "outputs": [],
   "source": []
  },
  {
   "cell_type": "code",
   "execution_count": null,
   "id": "6c539cbd-3caf-42c4-b034-8566d86a0349",
   "metadata": {},
   "outputs": [],
   "source": []
  },
  {
   "cell_type": "code",
   "execution_count": null,
   "id": "bb05dca9-c2cd-4980-9bf7-1997556e33a7",
   "metadata": {},
   "outputs": [],
   "source": []
  },
  {
   "cell_type": "markdown",
   "id": "e927ca5b-d562-413a-9750-46d20a4e1a18",
   "metadata": {},
   "source": [
    "# Старый код, функции и т.д."
   ]
  },
  {
   "cell_type": "markdown",
   "id": "d38d6843-442f-469f-a618-738c95b5a54b",
   "metadata": {},
   "source": [
    "## Класс `DropClient`\n",
    "- метод get_account(self): Мб добавить вариант to_drop: bool. Перевод другому имеющемуся дропу. при этом. \n",
    "    - записываем счет дропа в свой счет. Атрибут account\n",
    "    - записываем  счет дропа в атрибут drop_accounts\n",
    "    - если надо перевести другому дропу, то фильтруем drop_accounts исключая свой\n",
    "    - надо тогда клиентам приписать шестизначные счета. просто по порядку.\n",
    "    - счета куда отправляют дропы это номера начинающиеся со счета последнего клиента + 1"
   ]
  },
  {
   "cell_type": "code",
   "execution_count": null,
   "id": "58236419-c4ef-45a4-957b-d7a134a9a9f3",
   "metadata": {},
   "outputs": [],
   "source": [
    "# class DropClient: \n",
    "#     \"\"\"\n",
    "#     Генератор сумм входящих/исходящих транзакций, сумм снятий, номеров счетов.\n",
    "#     Управление балансом текущего дропа.\n",
    "#     \"\"\"\n",
    "#     def __init__(self, accounts, account, outer_accounts, balance=0, batch_txns=0, chunk_size=0, used_accounts=pd.Series(name=\"account_id\")):\n",
    "#         \"\"\"\n",
    "#         accounts - pd.DataFrame. Счета клиентов банка.\n",
    "#         account - int. Номер счета текущего дропа.\n",
    "#         outer_accounts - pd.Series. Номера счетов для входящих и исходящих переводов в/из других банков.\n",
    "#         balance - float. Текущий баланс дропа\n",
    "#         batch_txns - int. Счетчик транзакций сделанных в рамках распределения полученной партии денег\n",
    "#         chunk_size - int, float. Последний созданный размер части баланса для перевода по частям.\n",
    "#         used_accounts - pd.Series. Счета на которые дропы уже отправляли деньги.\n",
    "#         \"\"\"\n",
    "#         self.accounts = accounts\n",
    "#         self.account = account\n",
    "#         self.outer_accounts = outer_accounts\n",
    "#         self.balance = balance\n",
    "#         self.batch_txns = batch_txns\n",
    "#         self.chunk_size = chunk_size\n",
    "#         self.used_accounts = used_accounts\n",
    "\n",
    "#     def update_balance(self, amount, add=False, declined=False):\n",
    "#         \"\"\"\n",
    "#         Увеличить/уменьшить баланс на указанную сумму\n",
    "#         -------------------\n",
    "#         amount - float, int.\n",
    "#         add - bool. Прибавлять сумму или отнимать.\n",
    "#         declined - bool. Отклонена ли транзакция или одобрена.\n",
    "#         \"\"\"\n",
    "#         # Не обновлять баланс если транзакция отклонена.\n",
    "#         if declined:\n",
    "#             return\n",
    "            \n",
    "#         # Увеличить баланс   \n",
    "#         if add:\n",
    "#             self.balance += amount\n",
    "#             return\n",
    "            \n",
    "#         # Уменьшить баланс    \n",
    "#         self.balance -= amount\n",
    "\n",
    "#     def receive(self, declined, low=5000, high=100000, mean=30000, std=20000, round=500):\n",
    "#         \"\"\"\n",
    "#         Генерация суммы входящего перевода\n",
    "#         --------------------------\n",
    "#         declined - bool. Отклонена ли транзакция или одобрена\n",
    "#         low - float. Минимальная сумма\n",
    "#         high - float. Максимальная сумма\n",
    "#         mean - float. Средняя сумма\n",
    "#         std - float. Стандартное отклонение\n",
    "#         round - int. Округление целой части. По умолчанию 500. Значит числа будут либо с 500 либо с 000 на конце\n",
    "#                      При условии что round не больше low и high. Чтобы отменить округление, нужно выставить 1\n",
    "#         \"\"\"\n",
    "\n",
    "#         # Генерация суммы. Округление целой части при необходимости\n",
    "#         amount = get_values_from_truncnorm(low_bound=low, high_bound=high, mean=mean, std=std)[0] // round * round\n",
    "        \n",
    "#         # Обновляем баланс если транзакция не отклонена\n",
    "#         self.update_balance(amount=amount, add=True, declined=declined)\n",
    "        \n",
    "#         return amount\n",
    "\n",
    "#     def get_chunk_size(self, online=False, atm_min=10000, atm_share=0.5, round=500, rand_rate=0.9, start=0, stop=0, step=0):\n",
    "#         \"\"\"\n",
    "#         Вернуть случайный размер суммы перевода для перевода по частям\n",
    "#         либо вернуть долю от баланса для снятия/перевода по частям.\n",
    "#         -------------------------------\n",
    "#         online - bool. Онлайн или оффлайн. Перевод или банкомат. Если банкомат, то снимается доля atm_share от баланса, но не меньше atm_min\n",
    "#         atm_min - int, float. Минимальная сумма снятия дропом в банкомате.\n",
    "#         atm_share - float. Доля от баланса если снятие через банкомат.\n",
    "#         round - int. Округление целой части. По умолчанию 500. \n",
    "#                      Значит суммы будут округлены до тысяч или пяти сотен\n",
    "#         rand_rate - float. От 0 до 1. Процент случаев, когда каждый НЕ первый чанк будет случайным и не зависеть от предыдущего.\n",
    "#                            Но возможны случайные совпадаения с предыдущим размером чанка.\n",
    "#                            Доля случайных размеров подряд будет:\n",
    "#                            p(c) - вероятность взять определенный размер (зависит от размера выборки чанков)\n",
    "#                            p(rr) - rand_rate\n",
    "#                            p(rr) - (p(rr) * p(c)). Например p(rr) = 0.9, 5 вариантов размеров чанка - p(c) = 0.20\n",
    "#                            0.9 - (0.9 * 0.2) = 0.72\n",
    "#                            В около 72% случаев размеры чанков не будут подряд одинаковыми \n",
    "#         start - int. Минимальный размер. Прописываем если генерация не через share.\n",
    "#                      То же самое для stop и step\n",
    "#         stop - int. Максимальный размер - не входит в возможный выбор.\n",
    "#                     Максимальное генерируемое значение равно stop - step\n",
    "#         step - int. Шаг размеров.\n",
    "#         --------------------\n",
    "#         Возвращает np.int64\n",
    "#         Результат кэшируется в self.chunk_size\n",
    "#         \"\"\"\n",
    "#         # Если это не первая транзакция в серии транзакции для одной полученной дропом суммы\n",
    "#         # И случайное число больше rand_rate, то просто возвращаем ранее созданный размер чанка\n",
    "#         if self.batch_txns != 0 and np.random.uniform(0,1) > rand_rate:\n",
    "#             return self.chunk_size\n",
    "\n",
    "#         # Если перевод\n",
    "#         if online:\n",
    "#             sampling_array = np.arange(start, stop, step)\n",
    "#             self.chunk_size = np.random.choice(sampling_array)\n",
    "#             return self.chunk_size\n",
    "            \n",
    "#         # Если снятие    \n",
    "#         self.chunk_size = max(atm_min, self.balance * atm_share // round * round)\n",
    "#         return self.chunk_size\n",
    "            \n",
    "        \n",
    "#     def one_operation(self, amount=0, declined=False, in_chunks=False):\n",
    "#         \"\"\"\n",
    "#         Генерация суммы операции дропа.\n",
    "#         ---------\n",
    "#         amount - float, int. Сумма перевода если перевод по частям - in_chunks == True\n",
    "#         declined - bool. Отклонена ли транзакция или одобрена\n",
    "#         in_chunks - bool. Перевод по частям или целиком. Если False, то просто пробуем перевести все с баланса\n",
    "#                           При True нужно указать amount.\n",
    "#         \"\"\"\n",
    "#         if in_chunks and amount <= 0:\n",
    "#             raise ValueError(f\"\"\"If in_chunks is True, then amount must be greater than 0.\n",
    "# Passed amount: {amount}\"\"\")\n",
    "\n",
    "#         # Если перевод не по частям. Пробуем перевестит все с баланса. \n",
    "#         if not in_chunks:\n",
    "#             amount = self.balance\n",
    "#             self.update_balance(amount=self.balance, add=False, declined=declined)\n",
    "#             # Прибавляем счетчик транзакции для текущей партии денег\n",
    "#             self.batch_txns += 1\n",
    "#             return amount\n",
    "\n",
    "#         # Иначе считаем сколько частей исходя из размера одной части\n",
    "#         chunks = self.balance // amount\n",
    "\n",
    "#         # Если целое число частей больше 0. Пробуем перевести одну часть\n",
    "#         if chunks > 0:\n",
    "#             self.update_balance(amount=amount, add=False, declined=declined)\n",
    "#             self.batch_txns += 1\n",
    "#             return amount\n",
    "\n",
    "#         # Если баланс меньше одной части. Пробуем перевести то что осталось\n",
    "#         rest = self.balance\n",
    "#         self.update_balance(amount=rest, add=False, declined=declined)\n",
    "#         self.batch_txns += 1\n",
    "#         return rest\n",
    "\n",
    "#     def get_account(self, to_drop):\n",
    "#         \"\"\"\n",
    "#         Номер счета входящего/исходящего перевода\n",
    "#         to_drop - bool. Перевод другому дропу в нашем банке или нет.\n",
    "#         \"\"\"\n",
    "#         # Фильтруем accounts исключая свой счет и выбирая дропов. Для случая если to_drop\n",
    "#         drop_accounts = self.accounts.loc[(self.accounts.account_id != self.account) & (self.accounts.is_drop == True)]\n",
    "\n",
    "#         # Если надо отправить другому дропу в нашем банке. При условии что есть другие дропы на текущий момент\n",
    "#         if to_drop and not drop_accounts.empty: \n",
    "#             account = drop_accounts.account_id.sample(1).iat[0]\n",
    "#             # Добавляем этот счет в использованные как последнюю запись в серии\n",
    "#             self.used_accounts.loc[self.used_accounts.shape[0]] = account\n",
    "#             return account\n",
    "\n",
    "#         # Если отправляем/получаем из другого банка.  \n",
    "#         # Семплируем номер внешнего счета который еще не использовался\n",
    "#         account = self.outer_accounts.loc[~(self.outer_accounts.isin(self.used_accounts))].sample(1).iat[0]\n",
    "#         # Добавляем этот счет в использованные как последнюю запись в серии\n",
    "#         self.used_accounts.loc[self.used_accounts.shape[0]] = account\n",
    "        \n",
    "#         return account\n",
    "\n",
    "#     def reset_cache(self, balance=True, used_accounts=True, chunk_size=True, batch_txns=True):\n",
    "#         \"\"\"\n",
    "#         Сброс кэшированных значений\n",
    "#         По умолчанию сбрасывается всё. Если что-то надо оставить, то надо выставить False\n",
    "#         для этого\n",
    "#         -----------------\n",
    "#         balance - bool\n",
    "#         used_accounts - bool\n",
    "#         chunk_size - bool\n",
    "#         batch_txns - bool\n",
    "#         \"\"\"\n",
    "#         if balance:\n",
    "#             self.balance = 0\n",
    "#         if used_accounts:\n",
    "#             self.used_accounts = pd.Series(name=\"account_id\")\n",
    "#         if chunk_size:\n",
    "#             self.chunk_size = 0\n",
    "#         if batch_txns:\n",
    "#             self.batch_txns = 0"
   ]
  },
  {
   "cell_type": "code",
   "execution_count": null,
   "id": "1c1514a3-87af-43e0-97b9-00449c92ec7f",
   "metadata": {},
   "outputs": [],
   "source": []
  }
 ],
 "metadata": {
  "kernelspec": {
   "display_name": "Python 3 (ipykernel)",
   "language": "python",
   "name": "python3"
  },
  "language_info": {
   "codemirror_mode": {
    "name": "ipython",
    "version": 3
   },
   "file_extension": ".py",
   "mimetype": "text/x-python",
   "name": "python",
   "nbconvert_exporter": "python",
   "pygments_lexer": "ipython3",
   "version": "3.13.3"
  }
 },
 "nbformat": 4,
 "nbformat_minor": 5
}
