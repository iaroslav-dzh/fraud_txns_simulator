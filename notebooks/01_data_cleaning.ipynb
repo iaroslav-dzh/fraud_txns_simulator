{
 "cells": [
  {
   "cell_type": "code",
   "execution_count": 2,
   "id": "d2a6fd5f-062d-4ddd-8b9f-e3fa5777de5d",
   "metadata": {},
   "outputs": [],
   "source": [
    "import pandas as pd\n",
    "import numpy as np\n",
    "import os"
   ]
  },
  {
   "cell_type": "code",
   "execution_count": 3,
   "id": "cbbe2a42-bc4d-4332-bdd7-1f9746e33c6e",
   "metadata": {
    "scrolled": true
   },
   "outputs": [
    {
     "data": {
      "text/plain": [
       "'C:\\\\Users\\\\iaros\\\\My_documents\\\\Education\\\\projects\\\\iaros_data_berka_analysis\\\\notebooks'"
      ]
     },
     "execution_count": 3,
     "metadata": {},
     "output_type": "execute_result"
    }
   ],
   "source": [
    "os.getcwd()"
   ]
  },
  {
   "cell_type": "code",
   "execution_count": 4,
   "id": "e06b3f6c-8b83-49c5-b20a-addec282b409",
   "metadata": {},
   "outputs": [],
   "source": [
    "os.chdir('C:\\\\Users\\\\iaros\\\\My_documents\\\\Education\\\\projects\\\\iaros_data_berka_analysis\\\\')"
   ]
  },
  {
   "cell_type": "code",
   "execution_count": 5,
   "id": "405b8753-246c-4828-a349-b6cf9caa8e25",
   "metadata": {
    "scrolled": true
   },
   "outputs": [
    {
     "data": {
      "text/plain": [
       "['account.asc',\n",
       " 'card.asc',\n",
       " 'client.asc',\n",
       " 'disp.asc',\n",
       " 'district.asc',\n",
       " 'loan.asc',\n",
       " 'order.asc',\n",
       " 'trans.asc']"
      ]
     },
     "execution_count": 5,
     "metadata": {},
     "output_type": "execute_result"
    }
   ],
   "source": [
    "os.listdir('data/raw_data')"
   ]
  },
  {
   "cell_type": "markdown",
   "id": "731dad83-f14a-404e-8452-2a4fd44917be",
   "metadata": {},
   "source": [
    "## Таблица account\n",
    "\n",
    "| item        | meaning                             | remark                                                                                                                                                              |\n",
    "| ----------- | ----------------------------------- | ------------------------------------------------------------------------------------------------------------------------------------------------------------------- |\n",
    "| account_id  | identification of the account       |                                                                                                                                                                     |\n",
    "| district_id | location of the branch              |                                                                                                                                                                     |\n",
    "| date        | date of creating of the account     | in the form YYMMDD                                                                                                                                                  |\n",
    "| frequency   | frequency of issuance of statements | \"POPLATEK MESICNE\" stands for monthly issuance<br><br>\"POPLATEK TYDNE\" stands for weekly issuance<br><br>\"POPLATEK PO OBRATU\" stands for issuance after transaction |\n",
    "\n",
    "***frequency of issuance of statements** - частота выдачи выписок по счету. \"Ежемесячно\", \"Еженедельно\", \"После транзакции\""
   ]
  },
  {
   "cell_type": "code",
   "execution_count": 220,
   "id": "3d8bde7e-d002-4056-84de-1866b3fac745",
   "metadata": {},
   "outputs": [
    {
     "data": {
      "text/html": [
       "<div>\n",
       "<style scoped>\n",
       "    .dataframe tbody tr th:only-of-type {\n",
       "        vertical-align: middle;\n",
       "    }\n",
       "\n",
       "    .dataframe tbody tr th {\n",
       "        vertical-align: top;\n",
       "    }\n",
       "\n",
       "    .dataframe thead th {\n",
       "        text-align: right;\n",
       "    }\n",
       "</style>\n",
       "<table border=\"1\" class=\"dataframe\">\n",
       "  <thead>\n",
       "    <tr style=\"text-align: right;\">\n",
       "      <th></th>\n",
       "      <th>account_id</th>\n",
       "      <th>district_id</th>\n",
       "      <th>frequency</th>\n",
       "      <th>date</th>\n",
       "    </tr>\n",
       "  </thead>\n",
       "  <tbody>\n",
       "    <tr>\n",
       "      <th>0</th>\n",
       "      <td>576</td>\n",
       "      <td>55</td>\n",
       "      <td>POPLATEK MESICNE</td>\n",
       "      <td>930101</td>\n",
       "    </tr>\n",
       "    <tr>\n",
       "      <th>1</th>\n",
       "      <td>3818</td>\n",
       "      <td>74</td>\n",
       "      <td>POPLATEK MESICNE</td>\n",
       "      <td>930101</td>\n",
       "    </tr>\n",
       "    <tr>\n",
       "      <th>2</th>\n",
       "      <td>704</td>\n",
       "      <td>55</td>\n",
       "      <td>POPLATEK MESICNE</td>\n",
       "      <td>930101</td>\n",
       "    </tr>\n",
       "  </tbody>\n",
       "</table>\n",
       "</div>"
      ],
      "text/plain": [
       "   account_id  district_id         frequency    date\n",
       "0         576           55  POPLATEK MESICNE  930101\n",
       "1        3818           74  POPLATEK MESICNE  930101\n",
       "2         704           55  POPLATEK MESICNE  930101"
      ]
     },
     "execution_count": 220,
     "metadata": {},
     "output_type": "execute_result"
    }
   ],
   "source": [
    "account_df = pd.read_csv('data/raw_data/account.asc', sep=';', dtype={'date':'str'})\n",
    "account_df.head(3)"
   ]
  },
  {
   "cell_type": "code",
   "execution_count": 221,
   "id": "66287967-0deb-4252-a34a-e6d937d3f027",
   "metadata": {},
   "outputs": [],
   "source": [
    "# изначальный размер датафрейма\n",
    "account_initial_shape = account_df.shape"
   ]
  },
  {
   "cell_type": "code",
   "execution_count": 222,
   "id": "67d400f0-454a-4254-b2fc-4aa3f2e50d9c",
   "metadata": {
    "scrolled": true
   },
   "outputs": [
    {
     "data": {
      "text/plain": [
       "account_id      int64\n",
       "district_id     int64\n",
       "frequency      object\n",
       "date           object\n",
       "dtype: object"
      ]
     },
     "execution_count": 222,
     "metadata": {},
     "output_type": "execute_result"
    }
   ],
   "source": [
    "account_df.dtypes"
   ]
  },
  {
   "cell_type": "code",
   "execution_count": 223,
   "id": "19a61c37-faca-401b-b272-02395f3d4027",
   "metadata": {},
   "outputs": [
    {
     "data": {
      "text/plain": [
       "array([1993, 1994, 1995, 1996, 1997], dtype=int32)"
      ]
     },
     "execution_count": 223,
     "metadata": {},
     "output_type": "execute_result"
    }
   ],
   "source": [
    "# меняем тип date на datetime64[ns]\n",
    "account_df.date = pd.to_datetime(account_df.date, format='%y%m%d')\n",
    "account_df.date.dt.year.unique()"
   ]
  },
  {
   "cell_type": "code",
   "execution_count": 224,
   "id": "f483395c-686a-404e-8623-b258d73fab39",
   "metadata": {},
   "outputs": [],
   "source": [
    "# Функция проверки на NaN в любом месте датафрейма\n",
    "def check_for_nans(df: pd.DataFrame):\n",
    "    rows_isna = df.isna().any(axis=1)\n",
    "    \n",
    "    if rows_isna.any():\n",
    "        print(\"Following rows have missing values!\")\n",
    "        return df[rows_isna]\n",
    "    else:\n",
    "        print(\"No missing values\")"
   ]
  },
  {
   "cell_type": "code",
   "execution_count": 225,
   "id": "c50ad209-ba38-47a7-99a3-1fb7d0535f41",
   "metadata": {},
   "outputs": [
    {
     "name": "stdout",
     "output_type": "stream",
     "text": [
      "No missing values\n"
     ]
    }
   ],
   "source": [
    "# проверяем account_df на наличие NaN\n",
    "check_for_nans(account_df)"
   ]
  },
  {
   "cell_type": "code",
   "execution_count": 226,
   "id": "a2d40bca-8ed0-4dea-8f15-bf04f10e84af",
   "metadata": {},
   "outputs": [
    {
     "data": {
      "text/plain": [
       "array(['POPLATEK MESICNE', 'POPLATEK PO OBRATU', 'POPLATEK TYDNE'],\n",
       "      dtype=object)"
      ]
     },
     "execution_count": 226,
     "metadata": {},
     "output_type": "execute_result"
    }
   ],
   "source": [
    "# фактические значения в колонке frequency\n",
    "account_df.frequency.unique()"
   ]
  },
  {
   "cell_type": "code",
   "execution_count": 227,
   "id": "70a871c2-50b5-4399-9124-cf93da14be92",
   "metadata": {},
   "outputs": [
    {
     "data": {
      "text/plain": [
       "array(['monthly issuance', 'issuance per transaction', 'weekly issuance'],\n",
       "      dtype=object)"
      ]
     },
     "execution_count": 227,
     "metadata": {},
     "output_type": "execute_result"
    }
   ],
   "source": [
    "# меняем значения в frequency с чесшского на англоязычные. Функция\n",
    "\n",
    "freq_mapping = {'POPLATEK MESICNE':'monthly issuance', 'POPLATEK TYDNE':'weekly issuance', \\\n",
    "               'POPLATEK PO OBRATU':'issuance per transaction'}\n",
    "account_df.frequency = account_df.frequency.replace(freq_mapping).fillna('unspecified')\n",
    "\n",
    "account_df.frequency.unique()"
   ]
  },
  {
   "cell_type": "code",
   "execution_count": 228,
   "id": "6e6dbf3f-286c-4025-aee6-1867446652aa",
   "metadata": {},
   "outputs": [],
   "source": [
    "# функция проверки датафрейма после изменений\n",
    "# df_name название датафрейма\n",
    "\n",
    "def check_df_integrity(initial_df_shape: tuple[int, int], current_df: pd.DataFrame, df_name: str, axis: int | None = None):\n",
    "\n",
    "    if not isinstance(df_name, str):\n",
    "        raise TypeError(f'df_name must be a string (name of a DataFrame), but got {type(df_name)}')\n",
    "        \n",
    "    current_shape = current_df.shape\n",
    "    axis_names = {0:'rows', 1:'columns'}\n",
    "    \n",
    "    \n",
    "    if axis != None:\n",
    "        initial_ax = initial_df_shape[axis]\n",
    "        current_ax = current_shape[axis]\n",
    "        other_axis = 1 - axis\n",
    "        \n",
    "    \n",
    "        if initial_ax != current_ax:\n",
    "            raise ValueError(f'''Something is wrong with {axis_names[axis]}!\n",
    "            initial {axis_names[axis]} shape is: {initial_ax}\n",
    "            current {axis_names[axis]} shape is: {current_ax}''')\n",
    "            \n",
    "        else:\n",
    "            initial_other = initial_df_shape[other_axis]\n",
    "            current_other = current_shape[other_axis]\n",
    "            \n",
    "            if current_other != initial_other:\n",
    "                print(f'''{axis_names[axis]} count is equal.\n",
    "But changes were made to {axis_names[other_axis]}\n",
    "initial {axis_names[other_axis]} shape is: {initial_df_shape[other_axis]}\n",
    "current {axis_names[other_axis]} shape is: {current_shape[other_axis]}''')\n",
    "            else:\n",
    "                print(f\"{df_name} is intact!\")\n",
    "\n",
    "    else:\n",
    "        if initial_df_shape != current_shape:\n",
    "           raise ValueError(f'''Something is wrong!\n",
    "           initial shape is: {initial_df_shape}\n",
    "           current shape is: {current_shape}''')\n",
    "        else:    \n",
    "            print(f\"{df_name} is intact!\")"
   ]
  },
  {
   "cell_type": "code",
   "execution_count": 229,
   "id": "ee19fc53-2db4-4305-bdb3-d3c08c26c5aa",
   "metadata": {},
   "outputs": [
    {
     "name": "stdout",
     "output_type": "stream",
     "text": [
      "account_df is intact!\n"
     ]
    }
   ],
   "source": [
    "# проверка размеров датафрейма после изменений\n",
    "check_df_integrity(account_initial_shape, account_df, 'account_df')"
   ]
  },
  {
   "cell_type": "code",
   "execution_count": 230,
   "id": "d743e330-fa2a-43ad-8ee8-a6fd8b98938a",
   "metadata": {
    "scrolled": true
   },
   "outputs": [
    {
     "data": {
      "text/html": [
       "<div>\n",
       "<style scoped>\n",
       "    .dataframe tbody tr th:only-of-type {\n",
       "        vertical-align: middle;\n",
       "    }\n",
       "\n",
       "    .dataframe tbody tr th {\n",
       "        vertical-align: top;\n",
       "    }\n",
       "\n",
       "    .dataframe thead th {\n",
       "        text-align: right;\n",
       "    }\n",
       "</style>\n",
       "<table border=\"1\" class=\"dataframe\">\n",
       "  <thead>\n",
       "    <tr style=\"text-align: right;\">\n",
       "      <th></th>\n",
       "      <th>account_id</th>\n",
       "      <th>district_id</th>\n",
       "      <th>frequency</th>\n",
       "      <th>date</th>\n",
       "    </tr>\n",
       "  </thead>\n",
       "  <tbody>\n",
       "    <tr>\n",
       "      <th>0</th>\n",
       "      <td>576</td>\n",
       "      <td>55</td>\n",
       "      <td>monthly issuance</td>\n",
       "      <td>1993-01-01</td>\n",
       "    </tr>\n",
       "    <tr>\n",
       "      <th>1</th>\n",
       "      <td>3818</td>\n",
       "      <td>74</td>\n",
       "      <td>monthly issuance</td>\n",
       "      <td>1993-01-01</td>\n",
       "    </tr>\n",
       "    <tr>\n",
       "      <th>2</th>\n",
       "      <td>704</td>\n",
       "      <td>55</td>\n",
       "      <td>monthly issuance</td>\n",
       "      <td>1993-01-01</td>\n",
       "    </tr>\n",
       "  </tbody>\n",
       "</table>\n",
       "</div>"
      ],
      "text/plain": [
       "   account_id  district_id         frequency       date\n",
       "0         576           55  monthly issuance 1993-01-01\n",
       "1        3818           74  monthly issuance 1993-01-01\n",
       "2         704           55  monthly issuance 1993-01-01"
      ]
     },
     "execution_count": 230,
     "metadata": {},
     "output_type": "execute_result"
    }
   ],
   "source": [
    "account_df.head(3)"
   ]
  },
  {
   "cell_type": "code",
   "execution_count": 231,
   "id": "46ede39a-8496-46c6-911a-bf64cca5dfdf",
   "metadata": {},
   "outputs": [],
   "source": [
    "# функция сохранения датафрейма в csv\n",
    "\n",
    "def df_to_csv(df: pd.DataFrame, df_name: str, directory: str = 'data/cleaned_data/', suffix: str = 'clean'):\n",
    "\n",
    "    # проверка что аргумент df_name это строка\n",
    "    if not isinstance(df_name, str):\n",
    "        raise TypeError(f\"df_name must be a string (name of the DataFrame), got {type(df_name)}\")\n",
    "\n",
    "    # Создать директорию если она не существует\n",
    "    os.makedirs(directory, exist_ok=True)\n",
    "\n",
    "    # название файла\n",
    "    if suffix:\n",
    "        filename = f\"{df_name}_{suffix}.csv\"\n",
    "    else:\n",
    "        filename = f\"{df_name}.csv\"\n",
    "    # путь к файлу: директория + название файла\n",
    "    filepath = os.path.join(directory, filename)\n",
    "\n",
    "    # сохраняем датафрейм в csv, индекс не сохраняем\n",
    "    df.to_csv(filepath, index=False)\n",
    "    print(f\"Saved cleaned DataFrame to {filepath}\")"
   ]
  },
  {
   "cell_type": "code",
   "execution_count": 232,
   "id": "7a35cbae-faf2-4b6a-bfdf-1561b3effb5f",
   "metadata": {},
   "outputs": [
    {
     "name": "stdout",
     "output_type": "stream",
     "text": [
      "Saved cleaned DataFrame to data/cleaned_data/account_df_clean.csv\n"
     ]
    }
   ],
   "source": [
    "df_to_csv(account_df, 'account_df')"
   ]
  },
  {
   "cell_type": "markdown",
   "id": "557a08d8-6c81-43ab-bf81-99d0ecc585ce",
   "metadata": {},
   "source": [
    "# Таблица client\n",
    "| item         | meaning                  | remark                                                                                                                                   |\n",
    "| ------------ | ------------------------ | ---------------------------------------------------------------------------------------------------------------------------------------- |\n",
    "| client_id    | record identifier        |                                                                                                                                          |\n",
    "| birth number | identification of client | the number is in the form YYMMDD for men,  <br>the number is in the form YYMM+50DD for women,  <br><br>where YYMMDD is the date of birth |\n",
    "| district_id  | address of the client    |                                                                                                                                          |\n",
    "\n",
    "***YYMM+50DD for women** значит что для мужчины например 1972-04-01 будет 720401, а для женщины 725401. Нужно отфильтровать где средние два числа больше 12 и на этом условии создать колонку с полом; а также заменить две средние цифры для женщин - вычесть из них 50 или 5000 из всего числа\n"
   ]
  },
  {
   "cell_type": "code",
   "execution_count": 233,
   "id": "b8d9d9e7-b60e-4d7c-aa8b-2e232893cbfe",
   "metadata": {},
   "outputs": [],
   "source": [
    "client_df = pd.read_csv(r'data/raw_data/client.asc', sep=';')"
   ]
  },
  {
   "cell_type": "code",
   "execution_count": 234,
   "id": "eab158d2-493f-4ebe-974e-a1c6699d00ba",
   "metadata": {
    "scrolled": true
   },
   "outputs": [
    {
     "data": {
      "text/html": [
       "<div>\n",
       "<style scoped>\n",
       "    .dataframe tbody tr th:only-of-type {\n",
       "        vertical-align: middle;\n",
       "    }\n",
       "\n",
       "    .dataframe tbody tr th {\n",
       "        vertical-align: top;\n",
       "    }\n",
       "\n",
       "    .dataframe thead th {\n",
       "        text-align: right;\n",
       "    }\n",
       "</style>\n",
       "<table border=\"1\" class=\"dataframe\">\n",
       "  <thead>\n",
       "    <tr style=\"text-align: right;\">\n",
       "      <th></th>\n",
       "      <th>client_id</th>\n",
       "      <th>birth_number</th>\n",
       "      <th>district_id</th>\n",
       "    </tr>\n",
       "  </thead>\n",
       "  <tbody>\n",
       "    <tr>\n",
       "      <th>0</th>\n",
       "      <td>1</td>\n",
       "      <td>706213</td>\n",
       "      <td>18</td>\n",
       "    </tr>\n",
       "    <tr>\n",
       "      <th>1</th>\n",
       "      <td>2</td>\n",
       "      <td>450204</td>\n",
       "      <td>1</td>\n",
       "    </tr>\n",
       "    <tr>\n",
       "      <th>2</th>\n",
       "      <td>3</td>\n",
       "      <td>406009</td>\n",
       "      <td>1</td>\n",
       "    </tr>\n",
       "  </tbody>\n",
       "</table>\n",
       "</div>"
      ],
      "text/plain": [
       "   client_id  birth_number  district_id\n",
       "0          1        706213           18\n",
       "1          2        450204            1\n",
       "2          3        406009            1"
      ]
     },
     "execution_count": 234,
     "metadata": {},
     "output_type": "execute_result"
    }
   ],
   "source": [
    "client_df.head(3)"
   ]
  },
  {
   "cell_type": "code",
   "execution_count": 235,
   "id": "f1dfcc50-5da8-4887-92f2-eea438263ab4",
   "metadata": {},
   "outputs": [
    {
     "data": {
      "text/plain": [
       "client_id       int64\n",
       "birth_number    int64\n",
       "district_id     int64\n",
       "dtype: object"
      ]
     },
     "execution_count": 235,
     "metadata": {},
     "output_type": "execute_result"
    }
   ],
   "source": [
    "client_df.dtypes"
   ]
  },
  {
   "cell_type": "code",
   "execution_count": 236,
   "id": "5cdecd98-25f7-4d91-bd51-1d6c65f7427d",
   "metadata": {},
   "outputs": [
    {
     "name": "stdout",
     "output_type": "stream",
     "text": [
      "No missing values\n"
     ]
    }
   ],
   "source": [
    "# проверка на NaN в любой колонке\n",
    "check_for_nans(client_df)"
   ]
  },
  {
   "cell_type": "code",
   "execution_count": 237,
   "id": "ed27b2f8-e01a-44c0-b740-0ff2352b5285",
   "metadata": {},
   "outputs": [
    {
     "data": {
      "text/plain": [
       "(5369, 3)"
      ]
     },
     "execution_count": 237,
     "metadata": {},
     "output_type": "execute_result"
    }
   ],
   "source": [
    "client_initial_shape = client_df.shape\n",
    "client_initial_shape"
   ]
  },
  {
   "cell_type": "code",
   "execution_count": 238,
   "id": "fb2e9a10-a566-470b-adaf-40acd6c1139a",
   "metadata": {},
   "outputs": [],
   "source": [
    "# функция определения пола по дате и возврата обычной даты для женщин, но всё еще в виде целого числа\n",
    "\n",
    "def check_birth_num(birth_num):\n",
    "    if birth_num // 100 % 100 > 50:\n",
    "        return birth_num - 5000, 'female'\n",
    "    elif birth_num // 100 % 100 <= 12:\n",
    "        return birth_num, 'male'\n",
    "    else:\n",
    "        return 'invalid_date', 'unknown'"
   ]
  },
  {
   "cell_type": "code",
   "execution_count": 239,
   "id": "19160ae5-2531-4b8a-aa5d-fcf4c647a813",
   "metadata": {},
   "outputs": [],
   "source": [
    "client_df['birth_date'], client_df['sex'] = zip(*client_df.birth_number.map(check_birth_num))"
   ]
  },
  {
   "cell_type": "code",
   "execution_count": 240,
   "id": "4f5da23c-e794-4a45-a15d-b3e907e3983f",
   "metadata": {},
   "outputs": [],
   "source": [
    "def parse_int_date(date: int):\n",
    "    year = date // 10_000\n",
    "    month = date % 10_000 // 100\n",
    "    day = date % 10_000 % 100\n",
    "\n",
    "    full_year = 1900 + year if year > 9 else 2000 + year\n",
    "    return pd.to_datetime(f'{full_year}-{month}-{day}')\n",
    "    \n"
   ]
  },
  {
   "cell_type": "code",
   "execution_count": 241,
   "id": "bcecc1ab-f448-49b0-a30a-adae093e27df",
   "metadata": {},
   "outputs": [],
   "source": [
    "client_df['birth_date'] = client_df['birth_date'].map(parse_int_date)"
   ]
  },
  {
   "cell_type": "code",
   "execution_count": 242,
   "id": "f800154d-42a1-4254-b320-cd0712b1999f",
   "metadata": {},
   "outputs": [
    {
     "data": {
      "text/html": [
       "<div>\n",
       "<style scoped>\n",
       "    .dataframe tbody tr th:only-of-type {\n",
       "        vertical-align: middle;\n",
       "    }\n",
       "\n",
       "    .dataframe tbody tr th {\n",
       "        vertical-align: top;\n",
       "    }\n",
       "\n",
       "    .dataframe thead th {\n",
       "        text-align: right;\n",
       "    }\n",
       "</style>\n",
       "<table border=\"1\" class=\"dataframe\">\n",
       "  <thead>\n",
       "    <tr style=\"text-align: right;\">\n",
       "      <th></th>\n",
       "      <th>client_id</th>\n",
       "      <th>birth_number</th>\n",
       "      <th>district_id</th>\n",
       "      <th>birth_date</th>\n",
       "      <th>sex</th>\n",
       "    </tr>\n",
       "  </thead>\n",
       "  <tbody>\n",
       "    <tr>\n",
       "      <th>0</th>\n",
       "      <td>1</td>\n",
       "      <td>706213</td>\n",
       "      <td>18</td>\n",
       "      <td>1970-12-13</td>\n",
       "      <td>female</td>\n",
       "    </tr>\n",
       "    <tr>\n",
       "      <th>1</th>\n",
       "      <td>2</td>\n",
       "      <td>450204</td>\n",
       "      <td>1</td>\n",
       "      <td>1945-02-04</td>\n",
       "      <td>male</td>\n",
       "    </tr>\n",
       "    <tr>\n",
       "      <th>2</th>\n",
       "      <td>3</td>\n",
       "      <td>406009</td>\n",
       "      <td>1</td>\n",
       "      <td>1940-10-09</td>\n",
       "      <td>female</td>\n",
       "    </tr>\n",
       "    <tr>\n",
       "      <th>3</th>\n",
       "      <td>4</td>\n",
       "      <td>561201</td>\n",
       "      <td>5</td>\n",
       "      <td>1956-12-01</td>\n",
       "      <td>male</td>\n",
       "    </tr>\n",
       "    <tr>\n",
       "      <th>4</th>\n",
       "      <td>5</td>\n",
       "      <td>605703</td>\n",
       "      <td>5</td>\n",
       "      <td>1960-07-03</td>\n",
       "      <td>female</td>\n",
       "    </tr>\n",
       "  </tbody>\n",
       "</table>\n",
       "</div>"
      ],
      "text/plain": [
       "   client_id  birth_number  district_id birth_date     sex\n",
       "0          1        706213           18 1970-12-13  female\n",
       "1          2        450204            1 1945-02-04    male\n",
       "2          3        406009            1 1940-10-09  female\n",
       "3          4        561201            5 1956-12-01    male\n",
       "4          5        605703            5 1960-07-03  female"
      ]
     },
     "execution_count": 242,
     "metadata": {},
     "output_type": "execute_result"
    }
   ],
   "source": [
    "client_df.head()"
   ]
  },
  {
   "cell_type": "code",
   "execution_count": 243,
   "id": "1d2ed35c-5408-4ea5-a311-0da4b6dea869",
   "metadata": {},
   "outputs": [
    {
     "name": "stdout",
     "output_type": "stream",
     "text": [
      "client_df is correct.\n"
     ]
    }
   ],
   "source": [
    "# Проверка что нет дат с 50+MM и полом \"не женщина\"\n",
    "# filtered_df это датафрейм где первые две цифры birth_number отличаются если отнять 5000 и пол \"female\"\n",
    "# то есть по ошибке мужчину отметили как женщину\n",
    "\n",
    "filtered_df =  client_df[((client_df.birth_number - 5000) // 10000 != client_df.birth_number // 10000) \\\n",
    "          & (client_df.sex == 'female')]\n",
    "\n",
    "if not filtered_df.empty:\n",
    "    raise ValueError(f'''Wrong rows in client_df!\n",
    "{filtered_df}''')\n",
    "else:\n",
    "    print('client_df is correct.')"
   ]
  },
  {
   "cell_type": "code",
   "execution_count": 244,
   "id": "fb95122b-022b-41b7-a6c0-e96cd305ba76",
   "metadata": {},
   "outputs": [
    {
     "data": {
      "text/plain": [
       "client_id                int64\n",
       "birth_number             int64\n",
       "district_id              int64\n",
       "birth_date      datetime64[ns]\n",
       "sex                     object\n",
       "dtype: object"
      ]
     },
     "execution_count": 244,
     "metadata": {},
     "output_type": "execute_result"
    }
   ],
   "source": [
    "client_df.dtypes"
   ]
  },
  {
   "cell_type": "code",
   "execution_count": 245,
   "id": "75c52655-15ab-4a42-baca-c2e4ac0f889f",
   "metadata": {},
   "outputs": [
    {
     "data": {
      "text/html": [
       "<div>\n",
       "<style scoped>\n",
       "    .dataframe tbody tr th:only-of-type {\n",
       "        vertical-align: middle;\n",
       "    }\n",
       "\n",
       "    .dataframe tbody tr th {\n",
       "        vertical-align: top;\n",
       "    }\n",
       "\n",
       "    .dataframe thead th {\n",
       "        text-align: right;\n",
       "    }\n",
       "</style>\n",
       "<table border=\"1\" class=\"dataframe\">\n",
       "  <thead>\n",
       "    <tr style=\"text-align: right;\">\n",
       "      <th></th>\n",
       "      <th>client_id</th>\n",
       "      <th>district_id</th>\n",
       "      <th>birth_date</th>\n",
       "      <th>sex</th>\n",
       "    </tr>\n",
       "  </thead>\n",
       "  <tbody>\n",
       "    <tr>\n",
       "      <th>0</th>\n",
       "      <td>1</td>\n",
       "      <td>18</td>\n",
       "      <td>1970-12-13</td>\n",
       "      <td>female</td>\n",
       "    </tr>\n",
       "    <tr>\n",
       "      <th>1</th>\n",
       "      <td>2</td>\n",
       "      <td>1</td>\n",
       "      <td>1945-02-04</td>\n",
       "      <td>male</td>\n",
       "    </tr>\n",
       "  </tbody>\n",
       "</table>\n",
       "</div>"
      ],
      "text/plain": [
       "   client_id  district_id birth_date     sex\n",
       "0          1           18 1970-12-13  female\n",
       "1          2            1 1945-02-04    male"
      ]
     },
     "execution_count": 245,
     "metadata": {},
     "output_type": "execute_result"
    }
   ],
   "source": [
    "client_df = client_df.drop(columns='birth_number')\n",
    "client_df.head(2)"
   ]
  },
  {
   "cell_type": "code",
   "execution_count": 246,
   "id": "faefcbeb-b136-4f5b-8848-81a364aae907",
   "metadata": {},
   "outputs": [
    {
     "name": "stdout",
     "output_type": "stream",
     "text": [
      "rows count is equal.\n",
      "But changes were made to columns\n",
      "initial columns shape is: 3\n",
      "current columns shape is: 4\n"
     ]
    }
   ],
   "source": [
    "# Проверка целостности client_df по строкам после изменений\n",
    "check_df_integrity(client_initial_shape, client_df, 'client_df', 0)"
   ]
  },
  {
   "cell_type": "code",
   "execution_count": 247,
   "id": "4b6065f9-941c-402d-aa0d-9426267e6307",
   "metadata": {},
   "outputs": [
    {
     "name": "stdout",
     "output_type": "stream",
     "text": [
      "Saved cleaned DataFrame to data/cleaned_data/client_df_clean.csv\n"
     ]
    }
   ],
   "source": [
    "df_to_csv(client_df, 'client_df')"
   ]
  },
  {
   "cell_type": "markdown",
   "id": "e8ed3359-e906-441b-8fad-5999f6b32698",
   "metadata": {
    "jp-MarkdownHeadingCollapsed": true
   },
   "source": [
    "# Таблица disposition\n",
    "| item       | meaning                          | remark                                                   |\n",
    "| ---------- | -------------------------------- | -------------------------------------------------------- |\n",
    "| disp_id    | record identifier                |                                                          |\n",
    "| client_id  | identification of a client       |                                                          |\n",
    "| account_id | identification of an account     |                                                          |\n",
    "| type       | type of disposition (owner/user) | only owner can issue permanent orders and ask for a loan |\n",
    "\n",
    "each record relates together a client with an account i.e. this relation describes the rights of clients to operate accounts"
   ]
  },
  {
   "cell_type": "code",
   "execution_count": 248,
   "id": "c89f89cb-95af-4084-abc5-7f1efa82abbd",
   "metadata": {},
   "outputs": [],
   "source": [
    "disposition_df = pd.read_csv('data/raw_data/disp.asc', sep=';')"
   ]
  },
  {
   "cell_type": "code",
   "execution_count": 249,
   "id": "8c4c6c81-62dd-41a7-91ea-018c8d6a3c90",
   "metadata": {
    "scrolled": true
   },
   "outputs": [
    {
     "data": {
      "text/html": [
       "<div>\n",
       "<style scoped>\n",
       "    .dataframe tbody tr th:only-of-type {\n",
       "        vertical-align: middle;\n",
       "    }\n",
       "\n",
       "    .dataframe tbody tr th {\n",
       "        vertical-align: top;\n",
       "    }\n",
       "\n",
       "    .dataframe thead th {\n",
       "        text-align: right;\n",
       "    }\n",
       "</style>\n",
       "<table border=\"1\" class=\"dataframe\">\n",
       "  <thead>\n",
       "    <tr style=\"text-align: right;\">\n",
       "      <th></th>\n",
       "      <th>disp_id</th>\n",
       "      <th>client_id</th>\n",
       "      <th>account_id</th>\n",
       "      <th>type</th>\n",
       "    </tr>\n",
       "  </thead>\n",
       "  <tbody>\n",
       "    <tr>\n",
       "      <th>0</th>\n",
       "      <td>1</td>\n",
       "      <td>1</td>\n",
       "      <td>1</td>\n",
       "      <td>OWNER</td>\n",
       "    </tr>\n",
       "    <tr>\n",
       "      <th>1</th>\n",
       "      <td>2</td>\n",
       "      <td>2</td>\n",
       "      <td>2</td>\n",
       "      <td>OWNER</td>\n",
       "    </tr>\n",
       "    <tr>\n",
       "      <th>2</th>\n",
       "      <td>3</td>\n",
       "      <td>3</td>\n",
       "      <td>2</td>\n",
       "      <td>DISPONENT</td>\n",
       "    </tr>\n",
       "    <tr>\n",
       "      <th>3</th>\n",
       "      <td>4</td>\n",
       "      <td>4</td>\n",
       "      <td>3</td>\n",
       "      <td>OWNER</td>\n",
       "    </tr>\n",
       "    <tr>\n",
       "      <th>4</th>\n",
       "      <td>5</td>\n",
       "      <td>5</td>\n",
       "      <td>3</td>\n",
       "      <td>DISPONENT</td>\n",
       "    </tr>\n",
       "  </tbody>\n",
       "</table>\n",
       "</div>"
      ],
      "text/plain": [
       "   disp_id  client_id  account_id       type\n",
       "0        1          1           1      OWNER\n",
       "1        2          2           2      OWNER\n",
       "2        3          3           2  DISPONENT\n",
       "3        4          4           3      OWNER\n",
       "4        5          5           3  DISPONENT"
      ]
     },
     "execution_count": 249,
     "metadata": {},
     "output_type": "execute_result"
    }
   ],
   "source": [
    "disposition_df.head()"
   ]
  },
  {
   "cell_type": "code",
   "execution_count": 250,
   "id": "ca003315-bdc9-4213-9d34-aba07e5250d6",
   "metadata": {},
   "outputs": [
    {
     "data": {
      "text/plain": [
       "disp_id        int64\n",
       "client_id      int64\n",
       "account_id     int64\n",
       "type          object\n",
       "dtype: object"
      ]
     },
     "execution_count": 250,
     "metadata": {},
     "output_type": "execute_result"
    }
   ],
   "source": [
    "disposition_df.dtypes"
   ]
  },
  {
   "cell_type": "code",
   "execution_count": 251,
   "id": "4da3dff7-fa1a-4ac0-bd13-862928dfbfac",
   "metadata": {},
   "outputs": [
    {
     "data": {
      "text/plain": [
       "array(['OWNER', 'DISPONENT'], dtype=object)"
      ]
     },
     "execution_count": 251,
     "metadata": {},
     "output_type": "execute_result"
    }
   ],
   "source": [
    "disposition_df.type.unique()"
   ]
  },
  {
   "cell_type": "code",
   "execution_count": 252,
   "id": "69fb6149-8d2f-4029-911d-e5e6270ec06a",
   "metadata": {},
   "outputs": [
    {
     "name": "stdout",
     "output_type": "stream",
     "text": [
      "No missing values\n"
     ]
    }
   ],
   "source": [
    "# проверка на NaN-ы\n",
    "check_for_nans(disposition_df)"
   ]
  },
  {
   "cell_type": "code",
   "execution_count": 253,
   "id": "e0c5a526-b5af-4aa3-bfef-36c7afbad8cb",
   "metadata": {},
   "outputs": [
    {
     "data": {
      "text/plain": [
       "(5369, 4)"
      ]
     },
     "execution_count": 253,
     "metadata": {},
     "output_type": "execute_result"
    }
   ],
   "source": [
    "disposition_initial_shape = disposition_df.shape\n",
    "disposition_initial_shape"
   ]
  },
  {
   "cell_type": "code",
   "execution_count": 254,
   "id": "21bc2271-0c5f-4b9f-b17b-c9f9953733fe",
   "metadata": {},
   "outputs": [],
   "source": [
    "# import warnings\n",
    "\n",
    "# warnings.warn(\"Что-то подозрительное, но программа идёт дальше\", UserWarning)"
   ]
  },
  {
   "cell_type": "code",
   "execution_count": 255,
   "id": "80fde3d1-3432-47ce-a7d9-3e063c978672",
   "metadata": {},
   "outputs": [
    {
     "name": "stdout",
     "output_type": "stream",
     "text": [
      "Saved cleaned DataFrame to data/cleaned_data/disposition_df_clean.csv\n"
     ]
    }
   ],
   "source": [
    "df_to_csv(disposition_df, 'disposition_df')"
   ]
  },
  {
   "cell_type": "markdown",
   "id": "0a0d47aa-ce3a-4b52-836c-434eb12ee70e",
   "metadata": {
    "jp-MarkdownHeadingCollapsed": true
   },
   "source": [
    "# Таблица permanent order\n",
    "| item       | meaning                          | remark                                                                                                                                                |\n",
    "| ---------- | -------------------------------- | ----------------------------------------------------------------------------------------------------------------------------------------------------- |\n",
    "| order_id   | record identifier                |                                                                                                                                                       |\n",
    "| account_id | account, the order is issued for |                                                                                                                                                       |\n",
    "| bank_to    | bank of the recipient            | each bank has unique two-letter code                                                                                                                  |\n",
    "| account_to | account of the recipient         |                                                                                                                                                       |\n",
    "| amount     | debited amount                   |                                                                                                                                                       |\n",
    "| K_symbol   | characterization of the payment  | \"POJISTNE\" stands for insurrance payment<br><br>\"SIPO\" stands for household<br><br>\"LEASING\" stands for leasing<br><br>\"UVER\" stands for loan payment |\n",
    "\n",
    "- each record describes characteristics of a payment order\n",
    "- SIPO is a service provided by Česká pošta (Czech Post). It allows you to combine several regular direct debits into a single payment (e.g. rent, telephone, radio)\n",
    "- Czech Post offers SIPO services as an agent collecting payments from individuals on behalf of legal or other entities under a SIPO agency contract. SIPO can be used to pay for rental, electricity, gas, water, radio and television subscription fees, cable television, newspaper and magazine subscription fees, building savings, life and other insurance, and other payments or fees\n"
   ]
  },
  {
   "cell_type": "code",
   "execution_count": 256,
   "id": "1eb8a242-c0bc-4eef-a3f5-8e8c54a6b8ff",
   "metadata": {},
   "outputs": [
    {
     "data": {
      "text/html": [
       "<div>\n",
       "<style scoped>\n",
       "    .dataframe tbody tr th:only-of-type {\n",
       "        vertical-align: middle;\n",
       "    }\n",
       "\n",
       "    .dataframe tbody tr th {\n",
       "        vertical-align: top;\n",
       "    }\n",
       "\n",
       "    .dataframe thead th {\n",
       "        text-align: right;\n",
       "    }\n",
       "</style>\n",
       "<table border=\"1\" class=\"dataframe\">\n",
       "  <thead>\n",
       "    <tr style=\"text-align: right;\">\n",
       "      <th></th>\n",
       "      <th>order_id</th>\n",
       "      <th>account_id</th>\n",
       "      <th>bank_to</th>\n",
       "      <th>account_to</th>\n",
       "      <th>amount</th>\n",
       "      <th>k_symbol</th>\n",
       "    </tr>\n",
       "  </thead>\n",
       "  <tbody>\n",
       "    <tr>\n",
       "      <th>0</th>\n",
       "      <td>29401</td>\n",
       "      <td>1</td>\n",
       "      <td>YZ</td>\n",
       "      <td>87144583</td>\n",
       "      <td>2452.0</td>\n",
       "      <td>SIPO</td>\n",
       "    </tr>\n",
       "    <tr>\n",
       "      <th>1</th>\n",
       "      <td>29402</td>\n",
       "      <td>2</td>\n",
       "      <td>ST</td>\n",
       "      <td>89597016</td>\n",
       "      <td>3372.7</td>\n",
       "      <td>UVER</td>\n",
       "    </tr>\n",
       "    <tr>\n",
       "      <th>2</th>\n",
       "      <td>29403</td>\n",
       "      <td>2</td>\n",
       "      <td>QR</td>\n",
       "      <td>13943797</td>\n",
       "      <td>7266.0</td>\n",
       "      <td>SIPO</td>\n",
       "    </tr>\n",
       "    <tr>\n",
       "      <th>3</th>\n",
       "      <td>29404</td>\n",
       "      <td>3</td>\n",
       "      <td>WX</td>\n",
       "      <td>83084338</td>\n",
       "      <td>1135.0</td>\n",
       "      <td>SIPO</td>\n",
       "    </tr>\n",
       "    <tr>\n",
       "      <th>4</th>\n",
       "      <td>29405</td>\n",
       "      <td>3</td>\n",
       "      <td>CD</td>\n",
       "      <td>24485939</td>\n",
       "      <td>327.0</td>\n",
       "      <td></td>\n",
       "    </tr>\n",
       "  </tbody>\n",
       "</table>\n",
       "</div>"
      ],
      "text/plain": [
       "   order_id  account_id bank_to  account_to  amount k_symbol\n",
       "0     29401           1      YZ    87144583  2452.0     SIPO\n",
       "1     29402           2      ST    89597016  3372.7     UVER\n",
       "2     29403           2      QR    13943797  7266.0     SIPO\n",
       "3     29404           3      WX    83084338  1135.0     SIPO\n",
       "4     29405           3      CD    24485939   327.0         "
      ]
     },
     "execution_count": 256,
     "metadata": {},
     "output_type": "execute_result"
    }
   ],
   "source": [
    "order_df = pd.read_csv('data/raw_data/order.asc', sep=';')\n",
    "order_df.head()"
   ]
  },
  {
   "cell_type": "code",
   "execution_count": 257,
   "id": "7334829c-a490-463d-8fb4-5e61dfd592de",
   "metadata": {},
   "outputs": [
    {
     "data": {
      "text/plain": [
       "(6471, 6)"
      ]
     },
     "execution_count": 257,
     "metadata": {},
     "output_type": "execute_result"
    }
   ],
   "source": [
    "order_initial_shape = order_df.shape\n",
    "order_initial_shape"
   ]
  },
  {
   "cell_type": "code",
   "execution_count": 258,
   "id": "93cc328e-da04-4f3d-86fe-f3893eabe3c4",
   "metadata": {},
   "outputs": [
    {
     "name": "stdout",
     "output_type": "stream",
     "text": [
      "No missing values\n"
     ]
    }
   ],
   "source": [
    "# Проверка на NaN\n",
    "check_for_nans(order_df)"
   ]
  },
  {
   "cell_type": "code",
   "execution_count": 259,
   "id": "b48de4a2-0ce8-44a6-8d20-39eb1254fc02",
   "metadata": {},
   "outputs": [
    {
     "data": {
      "text/plain": [
       "array(['SIPO', 'UVER', ' ', 'POJISTNE', 'LEASING'], dtype=object)"
      ]
     },
     "execution_count": 259,
     "metadata": {},
     "output_type": "execute_result"
    }
   ],
   "source": [
    "order_df.k_symbol.unique()"
   ]
  },
  {
   "cell_type": "code",
   "execution_count": 260,
   "id": "de75f9f9-e1e0-4c6e-bc1c-a93a90b0d663",
   "metadata": {
    "scrolled": true
   },
   "outputs": [
    {
     "data": {
      "text/plain": [
       "order_id        int64\n",
       "account_id      int64\n",
       "bank_to        object\n",
       "account_to      int64\n",
       "amount        float64\n",
       "k_symbol       object\n",
       "dtype: object"
      ]
     },
     "execution_count": 260,
     "metadata": {},
     "output_type": "execute_result"
    }
   ],
   "source": [
    "order_df.dtypes"
   ]
  },
  {
   "cell_type": "code",
   "execution_count": 261,
   "id": "f1d061fa-89ed-4039-81de-0bda43bbf24a",
   "metadata": {},
   "outputs": [],
   "source": [
    "# Функция замены значений в колонке k_symbol\n",
    "\n",
    "def replace_k_symbol(k_symbol_val):\n",
    "    if k_symbol_val == 'POJISTNE':\n",
    "        return 'insurance payment'\n",
    "    elif k_symbol_val == 'SIPO':\n",
    "        return 'household'\n",
    "    elif k_symbol_val == 'LEASING':\n",
    "        return 'leasing'\n",
    "    elif k_symbol_val == 'UVER':\n",
    "        return 'loan payment'\n",
    "    else:\n",
    "        return 'unclassified' # для всех остальных значений"
   ]
  },
  {
   "cell_type": "code",
   "execution_count": 262,
   "id": "5f613425-d092-4205-9bc7-679a9f309c9e",
   "metadata": {},
   "outputs": [
    {
     "data": {
      "text/plain": [
       "array(['household', 'loan payment', 'unclassified', 'insurance payment',\n",
       "       'leasing'], dtype=object)"
      ]
     },
     "execution_count": 262,
     "metadata": {},
     "output_type": "execute_result"
    }
   ],
   "source": [
    "order_mapping = {'POJISTNE':'insurance payment', 'SIPO':'household', 'LEASING':'leasing', 'UVER':'loan payment', '':'unclassified'}\n",
    "\n",
    "order_df.k_symbol = order_df.k_symbol.str.strip().replace(order_mapping)\n",
    "order_df.k_symbol.unique()"
   ]
  },
  {
   "cell_type": "code",
   "execution_count": 263,
   "id": "a93992e6-de07-4ddd-b160-6869efc354ba",
   "metadata": {},
   "outputs": [
    {
     "data": {
      "text/html": [
       "<div>\n",
       "<style scoped>\n",
       "    .dataframe tbody tr th:only-of-type {\n",
       "        vertical-align: middle;\n",
       "    }\n",
       "\n",
       "    .dataframe tbody tr th {\n",
       "        vertical-align: top;\n",
       "    }\n",
       "\n",
       "    .dataframe thead th {\n",
       "        text-align: right;\n",
       "    }\n",
       "</style>\n",
       "<table border=\"1\" class=\"dataframe\">\n",
       "  <thead>\n",
       "    <tr style=\"text-align: right;\">\n",
       "      <th></th>\n",
       "      <th>order_id</th>\n",
       "      <th>account_id</th>\n",
       "      <th>bank_to</th>\n",
       "      <th>account_to</th>\n",
       "      <th>amount</th>\n",
       "      <th>k_symbol</th>\n",
       "    </tr>\n",
       "  </thead>\n",
       "  <tbody>\n",
       "    <tr>\n",
       "      <th>0</th>\n",
       "      <td>29401</td>\n",
       "      <td>1</td>\n",
       "      <td>YZ</td>\n",
       "      <td>87144583</td>\n",
       "      <td>2452.0</td>\n",
       "      <td>household</td>\n",
       "    </tr>\n",
       "    <tr>\n",
       "      <th>1</th>\n",
       "      <td>29402</td>\n",
       "      <td>2</td>\n",
       "      <td>ST</td>\n",
       "      <td>89597016</td>\n",
       "      <td>3372.7</td>\n",
       "      <td>loan payment</td>\n",
       "    </tr>\n",
       "    <tr>\n",
       "      <th>2</th>\n",
       "      <td>29403</td>\n",
       "      <td>2</td>\n",
       "      <td>QR</td>\n",
       "      <td>13943797</td>\n",
       "      <td>7266.0</td>\n",
       "      <td>household</td>\n",
       "    </tr>\n",
       "    <tr>\n",
       "      <th>3</th>\n",
       "      <td>29404</td>\n",
       "      <td>3</td>\n",
       "      <td>WX</td>\n",
       "      <td>83084338</td>\n",
       "      <td>1135.0</td>\n",
       "      <td>household</td>\n",
       "    </tr>\n",
       "    <tr>\n",
       "      <th>4</th>\n",
       "      <td>29405</td>\n",
       "      <td>3</td>\n",
       "      <td>CD</td>\n",
       "      <td>24485939</td>\n",
       "      <td>327.0</td>\n",
       "      <td>unclassified</td>\n",
       "    </tr>\n",
       "  </tbody>\n",
       "</table>\n",
       "</div>"
      ],
      "text/plain": [
       "   order_id  account_id bank_to  account_to  amount      k_symbol\n",
       "0     29401           1      YZ    87144583  2452.0     household\n",
       "1     29402           2      ST    89597016  3372.7  loan payment\n",
       "2     29403           2      QR    13943797  7266.0     household\n",
       "3     29404           3      WX    83084338  1135.0     household\n",
       "4     29405           3      CD    24485939   327.0  unclassified"
      ]
     },
     "execution_count": 263,
     "metadata": {},
     "output_type": "execute_result"
    }
   ],
   "source": [
    "order_df.head()"
   ]
  },
  {
   "cell_type": "code",
   "execution_count": 264,
   "id": "a67bd461-ee2d-46b8-8a7e-957a5dcf3066",
   "metadata": {},
   "outputs": [
    {
     "name": "stdout",
     "output_type": "stream",
     "text": [
      "order_df is intact!\n"
     ]
    }
   ],
   "source": [
    "# Проверка целостности после изменений\n",
    "check_df_integrity(order_initial_shape, order_df, 'order_df')"
   ]
  },
  {
   "cell_type": "code",
   "execution_count": 265,
   "id": "338b8a9a-929d-4bfd-9575-738ddd5daf22",
   "metadata": {},
   "outputs": [
    {
     "name": "stdout",
     "output_type": "stream",
     "text": [
      "Saved cleaned DataFrame to data/cleaned_data/order_df_clean.csv\n"
     ]
    }
   ],
   "source": [
    "df_to_csv(order_df, 'order_df')"
   ]
  },
  {
   "cell_type": "markdown",
   "id": "c6fdc778-5f8b-4c77-90f7-b41657964f31",
   "metadata": {},
   "source": [
    "# Таблица Transaction\n",
    "| item       | meaning                             | remark                                                                                                                                                                                                                                                                                                              |\n",
    "| ---------- | ----------------------------------- | ------------------------------------------------------------------------------------------------------------------------------------------------------------------------------------------------------------------------------------------------------------------------------------------------------------------- |\n",
    "| trans_id   | record identifier                   |                                                                                                                                                                                                                                                                                                                     |\n",
    "| account_id | account, the transation deals with  |                                                                                                                                                                                                                                                                                                                     |\n",
    "| date       | date of transaction                 | in the form YYMMDD                                                                                                                                                                                                                                                                                                  |\n",
    "| type       | +/- transaction                     | \"PRIJEM\" stands for credit<br><br>\"VYDAJ\" stands for withdrawal                                                                                                                                                                                                                                                     |\n",
    "| operation  | mode of transaction                 | \"VYBER KARTOU\" credit card withdrawal<br><br>\"VKLAD\" credit in cash<br><br>\"PREVOD Z UCTU\" collection from another bank<br><br>\"VYBER\" withdrawal in cash<br><br>\"PREVOD NA UCET\" remittance to another bank                                                                                                        |\n",
    "| amount     | amount of money                     |                                                                                                                                                                                                                                                                                                                     |\n",
    "| balance    | balance after transaction           |                                                                                                                                                                                                                                                                                                                     |\n",
    "| k_symbol   | characterization of the transaction | \"POJISTNE\" stands for insurrance payment<br><br>\"SLUZBY\" stands for payment for statement<br><br>\"UROK\" stands for interest credited<br><br>\"SANKC. UROK\" sanction interest if negative balance<br><br>\"SIPO\" stands for household<br><br>\"DUCHOD\" stands for old-age pension<br><br>\"UVER\" stands for loan payment |\n",
    "| bank       | bank of the partner                 | each bank has unique two-letter code                                                                                                                                                                                                                                                                                |\n",
    "| account    | account of the partner              |                                                                                                                                                                                                                                                                                                                     |"
   ]
  },
  {
   "cell_type": "code",
   "execution_count": 266,
   "id": "881bceea-1bab-4c92-8077-e50b55286f97",
   "metadata": {},
   "outputs": [],
   "source": [
    "transaction_df = pd.read_csv('data/raw_data/trans.asc', sep=';', \\\n",
    "                             dtype={'trans_id':'str','account_id':'str','bank':'str', 'account':'str'})"
   ]
  },
  {
   "cell_type": "code",
   "execution_count": 267,
   "id": "5612493e-3d43-41f5-b569-8817d4507b49",
   "metadata": {},
   "outputs": [
    {
     "data": {
      "text/plain": [
       "trans_id       object\n",
       "account_id     object\n",
       "date            int64\n",
       "type           object\n",
       "operation      object\n",
       "amount        float64\n",
       "balance       float64\n",
       "k_symbol       object\n",
       "bank           object\n",
       "account        object\n",
       "dtype: object"
      ]
     },
     "execution_count": 267,
     "metadata": {},
     "output_type": "execute_result"
    }
   ],
   "source": [
    "transaction_df.dtypes"
   ]
  },
  {
   "cell_type": "code",
   "execution_count": 268,
   "id": "7e9528af-35b4-422b-85ba-10f008901653",
   "metadata": {},
   "outputs": [
    {
     "data": {
      "text/html": [
       "<div>\n",
       "<style scoped>\n",
       "    .dataframe tbody tr th:only-of-type {\n",
       "        vertical-align: middle;\n",
       "    }\n",
       "\n",
       "    .dataframe tbody tr th {\n",
       "        vertical-align: top;\n",
       "    }\n",
       "\n",
       "    .dataframe thead th {\n",
       "        text-align: right;\n",
       "    }\n",
       "</style>\n",
       "<table border=\"1\" class=\"dataframe\">\n",
       "  <thead>\n",
       "    <tr style=\"text-align: right;\">\n",
       "      <th></th>\n",
       "      <th>trans_id</th>\n",
       "      <th>account_id</th>\n",
       "      <th>date</th>\n",
       "      <th>type</th>\n",
       "      <th>operation</th>\n",
       "      <th>amount</th>\n",
       "      <th>balance</th>\n",
       "      <th>k_symbol</th>\n",
       "      <th>bank</th>\n",
       "      <th>account</th>\n",
       "    </tr>\n",
       "  </thead>\n",
       "  <tbody>\n",
       "    <tr>\n",
       "      <th>0</th>\n",
       "      <td>695247</td>\n",
       "      <td>2378</td>\n",
       "      <td>930101</td>\n",
       "      <td>PRIJEM</td>\n",
       "      <td>VKLAD</td>\n",
       "      <td>700.0</td>\n",
       "      <td>700.0</td>\n",
       "      <td>NaN</td>\n",
       "      <td>NaN</td>\n",
       "      <td>NaN</td>\n",
       "    </tr>\n",
       "    <tr>\n",
       "      <th>1</th>\n",
       "      <td>171812</td>\n",
       "      <td>576</td>\n",
       "      <td>930101</td>\n",
       "      <td>PRIJEM</td>\n",
       "      <td>VKLAD</td>\n",
       "      <td>900.0</td>\n",
       "      <td>900.0</td>\n",
       "      <td>NaN</td>\n",
       "      <td>NaN</td>\n",
       "      <td>NaN</td>\n",
       "    </tr>\n",
       "    <tr>\n",
       "      <th>2</th>\n",
       "      <td>207264</td>\n",
       "      <td>704</td>\n",
       "      <td>930101</td>\n",
       "      <td>PRIJEM</td>\n",
       "      <td>VKLAD</td>\n",
       "      <td>1000.0</td>\n",
       "      <td>1000.0</td>\n",
       "      <td>NaN</td>\n",
       "      <td>NaN</td>\n",
       "      <td>NaN</td>\n",
       "    </tr>\n",
       "    <tr>\n",
       "      <th>3</th>\n",
       "      <td>1117247</td>\n",
       "      <td>3818</td>\n",
       "      <td>930101</td>\n",
       "      <td>PRIJEM</td>\n",
       "      <td>VKLAD</td>\n",
       "      <td>600.0</td>\n",
       "      <td>600.0</td>\n",
       "      <td>NaN</td>\n",
       "      <td>NaN</td>\n",
       "      <td>NaN</td>\n",
       "    </tr>\n",
       "    <tr>\n",
       "      <th>4</th>\n",
       "      <td>579373</td>\n",
       "      <td>1972</td>\n",
       "      <td>930102</td>\n",
       "      <td>PRIJEM</td>\n",
       "      <td>VKLAD</td>\n",
       "      <td>400.0</td>\n",
       "      <td>400.0</td>\n",
       "      <td>NaN</td>\n",
       "      <td>NaN</td>\n",
       "      <td>NaN</td>\n",
       "    </tr>\n",
       "  </tbody>\n",
       "</table>\n",
       "</div>"
      ],
      "text/plain": [
       "  trans_id account_id    date    type operation  amount  balance k_symbol  \\\n",
       "0   695247       2378  930101  PRIJEM     VKLAD   700.0    700.0      NaN   \n",
       "1   171812        576  930101  PRIJEM     VKLAD   900.0    900.0      NaN   \n",
       "2   207264        704  930101  PRIJEM     VKLAD  1000.0   1000.0      NaN   \n",
       "3  1117247       3818  930101  PRIJEM     VKLAD   600.0    600.0      NaN   \n",
       "4   579373       1972  930102  PRIJEM     VKLAD   400.0    400.0      NaN   \n",
       "\n",
       "  bank account  \n",
       "0  NaN     NaN  \n",
       "1  NaN     NaN  \n",
       "2  NaN     NaN  \n",
       "3  NaN     NaN  \n",
       "4  NaN     NaN  "
      ]
     },
     "execution_count": 268,
     "metadata": {},
     "output_type": "execute_result"
    }
   ],
   "source": [
    "transaction_df.head()"
   ]
  },
  {
   "cell_type": "code",
   "execution_count": 269,
   "id": "d265bc02-214d-475e-a123-c162f5a203b1",
   "metadata": {},
   "outputs": [
    {
     "data": {
      "text/plain": [
       "trans_id           0\n",
       "account_id         0\n",
       "date               0\n",
       "type               0\n",
       "operation     183114\n",
       "amount             0\n",
       "balance            0\n",
       "k_symbol      481881\n",
       "bank          782812\n",
       "account       760931\n",
       "dtype: int64"
      ]
     },
     "execution_count": 269,
     "metadata": {},
     "output_type": "execute_result"
    }
   ],
   "source": [
    "transaction_df.isna().sum()"
   ]
  },
  {
   "cell_type": "code",
   "execution_count": 270,
   "id": "8aba280d-12a9-45f2-8077-aaf783d3e5a3",
   "metadata": {},
   "outputs": [],
   "source": [
    "trans_initial_shape = transaction_df.shape"
   ]
  },
  {
   "cell_type": "code",
   "execution_count": 271,
   "id": "77900a8f-3734-4362-85f0-fae4ddd9549a",
   "metadata": {},
   "outputs": [
    {
     "data": {
      "text/html": [
       "<div>\n",
       "<style scoped>\n",
       "    .dataframe tbody tr th:only-of-type {\n",
       "        vertical-align: middle;\n",
       "    }\n",
       "\n",
       "    .dataframe tbody tr th {\n",
       "        vertical-align: top;\n",
       "    }\n",
       "\n",
       "    .dataframe thead th {\n",
       "        text-align: right;\n",
       "    }\n",
       "</style>\n",
       "<table border=\"1\" class=\"dataframe\">\n",
       "  <thead>\n",
       "    <tr style=\"text-align: right;\">\n",
       "      <th></th>\n",
       "      <th>trans_id</th>\n",
       "      <th>account_id</th>\n",
       "      <th>date</th>\n",
       "      <th>type</th>\n",
       "      <th>operation</th>\n",
       "      <th>amount</th>\n",
       "      <th>balance</th>\n",
       "      <th>k_symbol</th>\n",
       "      <th>bank</th>\n",
       "      <th>account</th>\n",
       "    </tr>\n",
       "  </thead>\n",
       "  <tbody>\n",
       "    <tr>\n",
       "      <th>0</th>\n",
       "      <td>695247</td>\n",
       "      <td>2378</td>\n",
       "      <td>1993-01-01</td>\n",
       "      <td>PRIJEM</td>\n",
       "      <td>VKLAD</td>\n",
       "      <td>700.0</td>\n",
       "      <td>700.0</td>\n",
       "      <td>NaN</td>\n",
       "      <td>NaN</td>\n",
       "      <td>NaN</td>\n",
       "    </tr>\n",
       "    <tr>\n",
       "      <th>1</th>\n",
       "      <td>171812</td>\n",
       "      <td>576</td>\n",
       "      <td>1993-01-01</td>\n",
       "      <td>PRIJEM</td>\n",
       "      <td>VKLAD</td>\n",
       "      <td>900.0</td>\n",
       "      <td>900.0</td>\n",
       "      <td>NaN</td>\n",
       "      <td>NaN</td>\n",
       "      <td>NaN</td>\n",
       "    </tr>\n",
       "    <tr>\n",
       "      <th>2</th>\n",
       "      <td>207264</td>\n",
       "      <td>704</td>\n",
       "      <td>1993-01-01</td>\n",
       "      <td>PRIJEM</td>\n",
       "      <td>VKLAD</td>\n",
       "      <td>1000.0</td>\n",
       "      <td>1000.0</td>\n",
       "      <td>NaN</td>\n",
       "      <td>NaN</td>\n",
       "      <td>NaN</td>\n",
       "    </tr>\n",
       "  </tbody>\n",
       "</table>\n",
       "</div>"
      ],
      "text/plain": [
       "  trans_id account_id       date    type operation  amount  balance k_symbol  \\\n",
       "0   695247       2378 1993-01-01  PRIJEM     VKLAD   700.0    700.0      NaN   \n",
       "1   171812        576 1993-01-01  PRIJEM     VKLAD   900.0    900.0      NaN   \n",
       "2   207264        704 1993-01-01  PRIJEM     VKLAD  1000.0   1000.0      NaN   \n",
       "\n",
       "  bank account  \n",
       "0  NaN     NaN  \n",
       "1  NaN     NaN  \n",
       "2  NaN     NaN  "
      ]
     },
     "execution_count": 271,
     "metadata": {},
     "output_type": "execute_result"
    }
   ],
   "source": [
    "# переводим целые числа в date в формат даты.\n",
    "transaction_df['date'] = pd.to_datetime(transaction_df['date'], format='%y%m%d')\n",
    "transaction_df.head(3)"
   ]
  },
  {
   "cell_type": "code",
   "execution_count": 272,
   "id": "41e41879-e7e4-48bf-9163-abbe9644530f",
   "metadata": {},
   "outputs": [
    {
     "data": {
      "text/plain": [
       "array(['PRIJEM', 'VYDAJ', 'VYBER'], dtype=object)"
      ]
     },
     "execution_count": 272,
     "metadata": {},
     "output_type": "execute_result"
    }
   ],
   "source": [
    "# проверка значений в колонке type\n",
    "transaction_df.type.unique()"
   ]
  },
  {
   "cell_type": "code",
   "execution_count": 273,
   "id": "42b1baf8-3252-4628-b052-1153ee56842c",
   "metadata": {},
   "outputs": [
    {
     "data": {
      "text/plain": [
       "np.int64(16666)"
      ]
     },
     "execution_count": 273,
     "metadata": {},
     "output_type": "execute_result"
    }
   ],
   "source": [
    "# видно что в type есть значение VYBER, которого там по аннотации к данным быть не должно. Посмотрим количество VYBER в колонке type\n",
    "transaction_df[transaction_df.type == 'VYBER'].type.count()"
   ]
  },
  {
   "cell_type": "code",
   "execution_count": 274,
   "id": "e7711cd4-091c-4a83-ab4b-606890fda27d",
   "metadata": {},
   "outputs": [],
   "source": [
    "# копирую датафрейм для дальнейшего удобства при случае если надо откатить датафрейм к состоянию до изменений\n",
    "transaction_df_copy = transaction_df.copy()"
   ]
  },
  {
   "cell_type": "code",
   "execution_count": 275,
   "id": "2547b83b-c755-418a-9756-e51991eb146f",
   "metadata": {},
   "outputs": [],
   "source": [
    "# В этой ячейке мы создаем датафрейм с транзакциями аккаунтов у которых есть type == 'VYBER'.\n",
    "# Чтобы потом посмотреть где предыдущий баланс и текущий баланс на момент транзакции с type == 'VYBER' сходятся, а где нет.\n",
    "# И в связи с этим поменять VYBER на VYDAJ либо на что-то типа uknown или unidentified\n",
    "\n",
    "# фильтрация аккаунтов где тип тразакции VYBER\n",
    "vyber_accounts = transaction_df_copy[transaction_df_copy.type == 'VYBER'].account_id.unique()\n",
    "\n",
    "# Сортируем по account_id и trans_id для дальнейшего создания колонки с балансом на момент предыдущей транзакции\n",
    "vyber_acc_trans = transaction_df_copy.loc[transaction_df_copy.account_id.isin(vyber_accounts)].sort_values(by=['account_id','trans_id'])\n",
    "\n",
    "# Создаем колонку с балансом на предыдущую транзакцию\n",
    "vyber_acc_shift = vyber_acc_trans.groupby('account_id', as_index=False).balance.shift(1)\n",
    "vyber_acc_trans['prev_balance'] = vyber_acc_shift\n",
    "\n",
    "# ставим prev_balance рядом с balance\n",
    "vyber_acc_trans = vyber_acc_trans.loc[:,['trans_id', 'account_id', 'date', 'type', 'operation', 'amount', \\\n",
    "       'balance','prev_balance', 'k_symbol', 'bank', 'account']]"
   ]
  },
  {
   "cell_type": "code",
   "execution_count": 276,
   "id": "612cea02-4385-4e74-8c5b-f5f4331043e7",
   "metadata": {},
   "outputs": [
    {
     "data": {
      "text/plain": [
       "(301956, 11)"
      ]
     },
     "execution_count": 276,
     "metadata": {},
     "output_type": "execute_result"
    }
   ],
   "source": [
    "vyber_acc_trans.shape"
   ]
  },
  {
   "cell_type": "code",
   "execution_count": 277,
   "id": "84045d51-16e0-4d3a-b9d3-1aa6d48a1d4a",
   "metadata": {},
   "outputs": [
    {
     "data": {
      "text/html": [
       "<div>\n",
       "<style scoped>\n",
       "    .dataframe tbody tr th:only-of-type {\n",
       "        vertical-align: middle;\n",
       "    }\n",
       "\n",
       "    .dataframe tbody tr th {\n",
       "        vertical-align: top;\n",
       "    }\n",
       "\n",
       "    .dataframe thead th {\n",
       "        text-align: right;\n",
       "    }\n",
       "</style>\n",
       "<table border=\"1\" class=\"dataframe\">\n",
       "  <thead>\n",
       "    <tr style=\"text-align: right;\">\n",
       "      <th></th>\n",
       "      <th>trans_id</th>\n",
       "      <th>account_id</th>\n",
       "      <th>date</th>\n",
       "      <th>type</th>\n",
       "      <th>operation</th>\n",
       "      <th>amount</th>\n",
       "      <th>balance</th>\n",
       "      <th>prev_balance</th>\n",
       "      <th>k_symbol</th>\n",
       "      <th>bank</th>\n",
       "      <th>account</th>\n",
       "    </tr>\n",
       "  </thead>\n",
       "  <tbody>\n",
       "    <tr>\n",
       "      <th>112</th>\n",
       "      <td>292053</td>\n",
       "      <td>1000</td>\n",
       "      <td>1993-01-25</td>\n",
       "      <td>PRIJEM</td>\n",
       "      <td>VKLAD</td>\n",
       "      <td>200.0</td>\n",
       "      <td>200.0</td>\n",
       "      <td>NaN</td>\n",
       "      <td>NaN</td>\n",
       "      <td>NaN</td>\n",
       "      <td>NaN</td>\n",
       "    </tr>\n",
       "    <tr>\n",
       "      <th>247</th>\n",
       "      <td>292055</td>\n",
       "      <td>1000</td>\n",
       "      <td>1993-02-07</td>\n",
       "      <td>PRIJEM</td>\n",
       "      <td>PREVOD Z UCTU</td>\n",
       "      <td>31348.0</td>\n",
       "      <td>31548.0</td>\n",
       "      <td>200.0</td>\n",
       "      <td>NaN</td>\n",
       "      <td>ST</td>\n",
       "      <td>87163465</td>\n",
       "    </tr>\n",
       "    <tr>\n",
       "      <th>682</th>\n",
       "      <td>292056</td>\n",
       "      <td>1000</td>\n",
       "      <td>1993-03-07</td>\n",
       "      <td>PRIJEM</td>\n",
       "      <td>PREVOD Z UCTU</td>\n",
       "      <td>31348.0</td>\n",
       "      <td>61418.3</td>\n",
       "      <td>31548.0</td>\n",
       "      <td>NaN</td>\n",
       "      <td>ST</td>\n",
       "      <td>87163465</td>\n",
       "    </tr>\n",
       "  </tbody>\n",
       "</table>\n",
       "</div>"
      ],
      "text/plain": [
       "    trans_id account_id       date    type      operation   amount  balance  \\\n",
       "112   292053       1000 1993-01-25  PRIJEM          VKLAD    200.0    200.0   \n",
       "247   292055       1000 1993-02-07  PRIJEM  PREVOD Z UCTU  31348.0  31548.0   \n",
       "682   292056       1000 1993-03-07  PRIJEM  PREVOD Z UCTU  31348.0  61418.3   \n",
       "\n",
       "     prev_balance k_symbol bank   account  \n",
       "112           NaN      NaN  NaN       NaN  \n",
       "247         200.0      NaN   ST  87163465  \n",
       "682       31548.0      NaN   ST  87163465  "
      ]
     },
     "execution_count": 277,
     "metadata": {},
     "output_type": "execute_result"
    }
   ],
   "source": [
    "vyber_acc_trans.head(3)"
   ]
  },
  {
   "cell_type": "code",
   "execution_count": 278,
   "id": "be155550-f350-41f7-84e0-ed7a8350c303",
   "metadata": {},
   "outputs": [],
   "source": [
    "# Создание серий с trans_id по критерию консистентности баланса для последующей смены либо на VYDAJ либо на unknown\n",
    "# То есть если type равно VYBER и текущий баланс отличается от баланса предыдущей транзакции на amount в отрицательную сторону,\n",
    "# то записываем VYDAJ вместо VYBER либо unknown если баланс непоследовательный\n",
    "\n",
    "# создаем датафрейм где type равняется VYBER\n",
    "vyber_trans = vyber_acc_trans[vyber_acc_trans.type == 'VYBER']\n",
    "\n",
    "# создаем булеву маску где текущий баланс некосистентен с балансом предыдущей транзакции\n",
    "inconsistent_vyber_mask = vyber_trans.prev_balance != vyber_trans.balance + vyber_trans.amount\n",
    "\n",
    "# применяем булеву маску для неконсистентых записей, которые попадут в новую категорию unknown\n",
    "trans_id_type_to_unknown = vyber_trans[inconsistent_vyber_mask].trans_id\n",
    "\n",
    "# применяем булеву маску для консистентных записей, которые попадут в категорию VYDAJ\n",
    "trans_id_type_to_vydaj = vyber_trans[~inconsistent_vyber_mask].trans_id\n",
    "\n",
    "# сверяем количество записей после изменений с vyber_trans. при сложении должно быть количество равное vyber_trans\n",
    "to_vydaj_and_unknown_count = trans_id_type_to_unknown.count() + trans_id_type_to_vydaj.count()\n",
    "vyber_trans_count = vyber_trans.trans_id.count()"
   ]
  },
  {
   "cell_type": "code",
   "execution_count": 279,
   "id": "ed310a29-47cc-4017-b7bc-4a0f559a1087",
   "metadata": {},
   "outputs": [
    {
     "name": "stdout",
     "output_type": "stream",
     "text": [
      "vyber_trans count is equal to to_vydaj + to_unknown count. Everything is OK.\n",
      "\n",
      "Transactions count whose type to be changed to VYDAJ: 168\n"
     ]
    }
   ],
   "source": [
    "if to_vydaj_and_unknown_count != vyber_trans_count:\n",
    "    raise ValueError(f'''Rows count is not equal after changes!\n",
    "vyber_trans count is {vyber_trans_count} while to_vydaj + to_unknown count is {to_vydaj_and_unknown_count}''')\n",
    "else:\n",
    "    print('vyber_trans count is equal to to_vydaj + to_unknown count. Everything is OK.')\n",
    "\n",
    "# Посмотрим сколько значений попадают под смену на VYDAJ\n",
    "print(f'\\nTransactions count whose type to be changed to VYDAJ: {trans_id_type_to_vydaj.count()}')"
   ]
  },
  {
   "cell_type": "code",
   "execution_count": 280,
   "id": "37c8706c-fe77-4e43-a883-110e0a460599",
   "metadata": {},
   "outputs": [
    {
     "data": {
      "text/plain": [
       "array(['PRIJEM', 'VYDAJ', 'unknown'], dtype=object)"
      ]
     },
     "execution_count": 280,
     "metadata": {},
     "output_type": "execute_result"
    }
   ],
   "source": [
    "# Меняем VYBER в колонке type соответственно, делая булевы маски по отобранным транзакциям\n",
    "\n",
    "transaction_df_copy.loc[transaction_df_copy.trans_id.isin(trans_id_type_to_vydaj), 'type'] = 'VYDAJ'\n",
    "transaction_df_copy.loc[transaction_df_copy.trans_id.isin(trans_id_type_to_unknown), 'type'] = 'unknown'\n",
    "\n",
    "# смотрим результат: какие теперь значения в колонке type\n",
    "transaction_df_copy.type.unique()"
   ]
  },
  {
   "cell_type": "code",
   "execution_count": 281,
   "id": "c1f05458-6818-4f9d-8c0e-8b42ea00ca05",
   "metadata": {
    "scrolled": true
   },
   "outputs": [
    {
     "data": {
      "text/plain": [
       "type     operation\n",
       "VYDAJ    VYBER        247166\n",
       "PRIJEM   VKLAD        156743\n",
       "unknown  VYBER         16498\n",
       "Name: count, dtype: int64"
      ]
     },
     "execution_count": 281,
     "metadata": {},
     "output_type": "execute_result"
    }
   ],
   "source": [
    "# продолжаем дальше знакомиться с данными в transactions\n",
    "# посмотрим какие пары type и operation есть при условии что bank, k_symbol, account пустые\n",
    "\n",
    "transaction_df_copy.loc[transaction_df_copy[['bank', 'k_symbol', 'account']].isna().all(axis=1), ['type','operation']].value_counts()"
   ]
  },
  {
   "cell_type": "markdown",
   "id": "2ee4d0d9-b710-41a0-8528-5d0ad834c6de",
   "metadata": {},
   "source": [
    "## Значения в type\n",
    "\n",
    "\"PRIJEM\" stands for credit\n",
    "\n",
    "\"VYDAJ\" stands for withdrawal"
   ]
  },
  {
   "cell_type": "code",
   "execution_count": 282,
   "id": "a52ec9da-fbc5-4cd3-81d5-b275caa3f266",
   "metadata": {},
   "outputs": [
    {
     "data": {
      "text/plain": [
       "array(['credit', 'withdrawal', 'unknown'], dtype=object)"
      ]
     },
     "execution_count": 282,
     "metadata": {},
     "output_type": "execute_result"
    }
   ],
   "source": [
    "# Меняем значения в колонке type на англоязычные\n",
    "type_mapping = {\"PRIJEM\":\"credit\", \"VYDAJ\":\"withdrawal\"}\n",
    "transaction_df_copy.type = transaction_df_copy.type.replace(type_mapping)\n",
    "\n",
    "# смотрим какие значения после замены\n",
    "transaction_df_copy.type.unique()"
   ]
  },
  {
   "cell_type": "code",
   "execution_count": 283,
   "id": "8292c2fa-8831-485b-989c-69f5cf0585d3",
   "metadata": {},
   "outputs": [
    {
     "data": {
      "text/html": [
       "<div>\n",
       "<style scoped>\n",
       "    .dataframe tbody tr th:only-of-type {\n",
       "        vertical-align: middle;\n",
       "    }\n",
       "\n",
       "    .dataframe tbody tr th {\n",
       "        vertical-align: top;\n",
       "    }\n",
       "\n",
       "    .dataframe thead th {\n",
       "        text-align: right;\n",
       "    }\n",
       "</style>\n",
       "<table border=\"1\" class=\"dataframe\">\n",
       "  <thead>\n",
       "    <tr style=\"text-align: right;\">\n",
       "      <th></th>\n",
       "      <th>trans_id</th>\n",
       "      <th>account_id</th>\n",
       "      <th>date</th>\n",
       "      <th>type</th>\n",
       "      <th>operation</th>\n",
       "      <th>amount</th>\n",
       "      <th>balance</th>\n",
       "      <th>k_symbol</th>\n",
       "      <th>bank</th>\n",
       "      <th>account</th>\n",
       "    </tr>\n",
       "  </thead>\n",
       "  <tbody>\n",
       "    <tr>\n",
       "      <th>0</th>\n",
       "      <td>695247</td>\n",
       "      <td>2378</td>\n",
       "      <td>1993-01-01</td>\n",
       "      <td>credit</td>\n",
       "      <td>VKLAD</td>\n",
       "      <td>700.0</td>\n",
       "      <td>700.0</td>\n",
       "      <td>NaN</td>\n",
       "      <td>NaN</td>\n",
       "      <td>NaN</td>\n",
       "    </tr>\n",
       "  </tbody>\n",
       "</table>\n",
       "</div>"
      ],
      "text/plain": [
       "  trans_id account_id       date    type operation  amount  balance k_symbol  \\\n",
       "0   695247       2378 1993-01-01  credit     VKLAD   700.0    700.0      NaN   \n",
       "\n",
       "  bank account  \n",
       "0  NaN     NaN  "
      ]
     },
     "execution_count": 283,
     "metadata": {},
     "output_type": "execute_result"
    }
   ],
   "source": [
    "transaction_df_copy.head(1)"
   ]
  },
  {
   "cell_type": "code",
   "execution_count": 284,
   "id": "2db970f2-96d1-43e8-b5e8-50e9b5f65be4",
   "metadata": {},
   "outputs": [
    {
     "data": {
      "text/html": [
       "<div>\n",
       "<style scoped>\n",
       "    .dataframe tbody tr th:only-of-type {\n",
       "        vertical-align: middle;\n",
       "    }\n",
       "\n",
       "    .dataframe tbody tr th {\n",
       "        vertical-align: top;\n",
       "    }\n",
       "\n",
       "    .dataframe thead th {\n",
       "        text-align: right;\n",
       "    }\n",
       "</style>\n",
       "<table border=\"1\" class=\"dataframe\">\n",
       "  <thead>\n",
       "    <tr style=\"text-align: right;\">\n",
       "      <th></th>\n",
       "      <th>trans_id</th>\n",
       "      <th>account_id</th>\n",
       "      <th>date</th>\n",
       "      <th>type</th>\n",
       "      <th>operation</th>\n",
       "      <th>amount</th>\n",
       "      <th>balance</th>\n",
       "      <th>k_symbol</th>\n",
       "      <th>bank</th>\n",
       "      <th>account</th>\n",
       "    </tr>\n",
       "  </thead>\n",
       "  <tbody>\n",
       "    <tr>\n",
       "      <th>304834</th>\n",
       "      <td>236564</td>\n",
       "      <td>808</td>\n",
       "      <td>1996-04-12</td>\n",
       "      <td>withdrawal</td>\n",
       "      <td>PREVOD NA UCET</td>\n",
       "      <td>4500.0</td>\n",
       "      <td>4140.6</td>\n",
       "      <td>UVER</td>\n",
       "      <td>NaN</td>\n",
       "      <td>NaN</td>\n",
       "    </tr>\n",
       "  </tbody>\n",
       "</table>\n",
       "</div>"
      ],
      "text/plain": [
       "       trans_id account_id       date        type       operation  amount  \\\n",
       "304834   236564        808 1996-04-12  withdrawal  PREVOD NA UCET  4500.0   \n",
       "\n",
       "        balance k_symbol bank account  \n",
       "304834   4140.6     UVER  NaN     NaN  "
      ]
     },
     "execution_count": 284,
     "metadata": {},
     "output_type": "execute_result"
    }
   ],
   "source": [
    "# посмотрим есть ли транзакции где operation это PREVOD NA UCET(перевод в другой банк)\n",
    "# или PREVOD Z UCTU (перевод из другого банка)\n",
    "# и при этом пустое значение account(счет на который переводили)\n",
    "\n",
    "from_to_another_acc_mask = transaction_df_copy.operation.isin(['PREVOD NA UCET', 'PREVOD Z UCTU'])\n",
    "acc_isna_mask = transaction_df_copy['account'].isna()\n",
    "transaction_df_copy.loc[(from_to_another_acc_mask) & (acc_isna_mask)]"
   ]
  },
  {
   "cell_type": "markdown",
   "id": "7e9a5f0d-f207-4384-9924-006fd2fb77d7",
   "metadata": {},
   "source": [
    "\"PREVOD Z UCTU\" collection from another bank\n",
    "\n",
    "\"VYBER\" withdrawal in cash\n",
    "\n",
    "\"PREVOD NA UCET\" remittance to another bank"
   ]
  },
  {
   "cell_type": "code",
   "execution_count": 285,
   "id": "73941820-ffd4-4ce2-89e2-745ac9bef94f",
   "metadata": {},
   "outputs": [
    {
     "data": {
      "text/html": [
       "<div>\n",
       "<style scoped>\n",
       "    .dataframe tbody tr th:only-of-type {\n",
       "        vertical-align: middle;\n",
       "    }\n",
       "\n",
       "    .dataframe tbody tr th {\n",
       "        vertical-align: top;\n",
       "    }\n",
       "\n",
       "    .dataframe thead th {\n",
       "        text-align: right;\n",
       "    }\n",
       "</style>\n",
       "<table border=\"1\" class=\"dataframe\">\n",
       "  <thead>\n",
       "    <tr style=\"text-align: right;\">\n",
       "      <th></th>\n",
       "      <th>trans_id</th>\n",
       "      <th>account_id</th>\n",
       "      <th>date</th>\n",
       "      <th>type</th>\n",
       "      <th>operation</th>\n",
       "      <th>amount</th>\n",
       "      <th>balance</th>\n",
       "      <th>k_symbol</th>\n",
       "      <th>bank</th>\n",
       "      <th>account</th>\n",
       "    </tr>\n",
       "  </thead>\n",
       "  <tbody>\n",
       "    <tr>\n",
       "      <th>304834</th>\n",
       "      <td>236564</td>\n",
       "      <td>808</td>\n",
       "      <td>1996-04-12</td>\n",
       "      <td>withdrawal</td>\n",
       "      <td>PREVOD NA UCET</td>\n",
       "      <td>4500.0</td>\n",
       "      <td>4140.6</td>\n",
       "      <td>UVER</td>\n",
       "      <td>NaN</td>\n",
       "      <td>NaN</td>\n",
       "    </tr>\n",
       "  </tbody>\n",
       "</table>\n",
       "</div>"
      ],
      "text/plain": [
       "       trans_id account_id       date        type       operation  amount  \\\n",
       "304834   236564        808 1996-04-12  withdrawal  PREVOD NA UCET  4500.0   \n",
       "\n",
       "        balance k_symbol bank account  \n",
       "304834   4140.6     UVER  NaN     NaN  "
      ]
     },
     "execution_count": 285,
     "metadata": {},
     "output_type": "execute_result"
    }
   ],
   "source": [
    "# посмотрим теперь где operation это PREVOD NA UCET(перевод в другой банк)\n",
    "# или PREVOD Z UCTU (перевод из другого банка), но при этом пустое значение bank\n",
    "\n",
    "bank_isna_mask = transaction_df_copy['bank'].isna()\n",
    "transaction_df_copy.loc[(from_to_another_acc_mask) & (bank_isna_mask)]"
   ]
  },
  {
   "cell_type": "code",
   "execution_count": 286,
   "id": "dea95d0f-8850-4610-a963-8d063fef948a",
   "metadata": {},
   "outputs": [
    {
     "data": {
      "text/plain": [
       "trans_id           0\n",
       "account_id         0\n",
       "date               0\n",
       "type               0\n",
       "operation     183114\n",
       "amount             0\n",
       "balance            0\n",
       "k_symbol      481881\n",
       "bank          782812\n",
       "account       760931\n",
       "dtype: int64"
      ]
     },
     "execution_count": 286,
     "metadata": {},
     "output_type": "execute_result"
    }
   ],
   "source": [
    "transaction_df_copy.isna().sum()"
   ]
  },
  {
   "cell_type": "code",
   "execution_count": 287,
   "id": "6ef13451-0557-423d-9a72-7df806fecd09",
   "metadata": {
    "scrolled": true
   },
   "outputs": [
    {
     "data": {
      "text/html": [
       "<div>\n",
       "<style scoped>\n",
       "    .dataframe tbody tr th:only-of-type {\n",
       "        vertical-align: middle;\n",
       "    }\n",
       "\n",
       "    .dataframe tbody tr th {\n",
       "        vertical-align: top;\n",
       "    }\n",
       "\n",
       "    .dataframe thead th {\n",
       "        text-align: right;\n",
       "    }\n",
       "</style>\n",
       "<table border=\"1\" class=\"dataframe\">\n",
       "  <thead>\n",
       "    <tr style=\"text-align: right;\">\n",
       "      <th></th>\n",
       "      <th>operation</th>\n",
       "      <th>k_symbol</th>\n",
       "      <th>bank</th>\n",
       "      <th>account</th>\n",
       "    </tr>\n",
       "  </thead>\n",
       "  <tbody>\n",
       "    <tr>\n",
       "      <th>137</th>\n",
       "      <td>NaN</td>\n",
       "      <td>UROK</td>\n",
       "      <td>NaN</td>\n",
       "      <td>NaN</td>\n",
       "    </tr>\n",
       "  </tbody>\n",
       "</table>\n",
       "</div>"
      ],
      "text/plain": [
       "    operation k_symbol bank account\n",
       "137       NaN     UROK  NaN     NaN"
      ]
     },
     "execution_count": 287,
     "metadata": {},
     "output_type": "execute_result"
    }
   ],
   "source": [
    "# проверка комбинаций значений: k_symbol, bank, account, где в строке есть operation == NaN\n",
    "\n",
    "k_sym_bank_or_acc_notna = transaction_df_copy[['k_symbol','bank','account']].notna().any(axis=1)\n",
    "op_isna_mask = transaction_df_copy['operation'].isna()\n",
    "transaction_df_copy.loc[(k_sym_bank_or_acc_notna) & (op_isna_mask),['operation','k_symbol','bank','account']].drop_duplicates()"
   ]
  },
  {
   "cell_type": "markdown",
   "id": "31c86b34-e70c-4f5a-8107-e30c3fe6a673",
   "metadata": {},
   "source": [
    "## Значения в operation\n",
    "\n",
    "\"VYBER KARTOU\" credit card withdrawal\n",
    "\n",
    "\"VKLAD\" credit in cash\n",
    "\n",
    "\"PREVOD Z UCTU\" collection from another bank\n",
    "\n",
    "\"VYBER\" withdrawal in cash\n",
    "\n",
    "\"PREVOD NA UCET\" remittance to another bank"
   ]
  },
  {
   "cell_type": "code",
   "execution_count": 288,
   "id": "d10db74f-fd5c-466f-a183-4c15166919c8",
   "metadata": {},
   "outputs": [],
   "source": [
    "# Смена значений колонки operation на англоязычные\n",
    "\n",
    "operation_mapping = {\"VYBER KARTOU\":\"credit card withdrawal\", \"VKLAD\":\"credit in cash\", \\\n",
    "                    \"PREVOD Z UCTU\":\"collection from another bank\", \"VYBER\":\"withdrawal in cash\", \\\n",
    "                    \"PREVOD NA UCET\":\"remittance to another bank\"}\n",
    "transaction_df_copy.operation = transaction_df_copy.operation.replace(operation_mapping).fillna('unspecified')"
   ]
  },
  {
   "cell_type": "code",
   "execution_count": 289,
   "id": "c2d0d5e9-9b04-46e5-a0c7-6a27178b2d88",
   "metadata": {},
   "outputs": [
    {
     "data": {
      "text/plain": [
       "array(['credit in cash', 'collection from another bank',\n",
       "       'withdrawal in cash', 'unspecified', 'remittance to another bank',\n",
       "       'credit card withdrawal'], dtype=object)"
      ]
     },
     "execution_count": 289,
     "metadata": {},
     "output_type": "execute_result"
    }
   ],
   "source": [
    "transaction_df_copy.operation.unique()"
   ]
  },
  {
   "cell_type": "markdown",
   "id": "10c7d9f7-574b-46b0-b4b5-c117d324e0cc",
   "metadata": {},
   "source": [
    "## Значения в k_symbol\n",
    "\"POJISTNE\" stands for insurrance payment\n",
    "\n",
    "\"SLUZBY\" stands for payment for statement\n",
    "\n",
    "\"UROK\" stands for interest credited\n",
    "\n",
    "\"SANKC. UROK\" sanction interest if negative balance\n",
    "\n",
    "\"SIPO\" stands for household\n",
    "\n",
    "\"DUCHOD\" stands for old-age pension\n",
    "\n",
    "\"UVER\" stands for loan payment"
   ]
  },
  {
   "cell_type": "code",
   "execution_count": 290,
   "id": "c8e00c43-2761-4902-aaae-4d60f13e4d57",
   "metadata": {},
   "outputs": [
    {
     "data": {
      "text/plain": [
       "array([nan, 'DUCHOD', 'UROK', 'SIPO', 'SLUZBY', '', 'POJISTNE',\n",
       "       'SANKC. UROK', 'UVER'], dtype=object)"
      ]
     },
     "execution_count": 290,
     "metadata": {},
     "output_type": "execute_result"
    }
   ],
   "source": [
    "# смотрим что есть в k_symbol\n",
    "transaction_df_copy.k_symbol.str.strip().unique()"
   ]
  },
  {
   "cell_type": "code",
   "execution_count": 291,
   "id": "d07e7af5-169c-495e-a0bc-0a9f485405db",
   "metadata": {},
   "outputs": [
    {
     "data": {
      "text/plain": [
       "array([nan, 'old-age pension', 'interest credited', 'household',\n",
       "       'payment for statement', 'unspecified', 'insurance payment',\n",
       "       'negative balance sanction interest', 'loan payment'], dtype=object)"
      ]
     },
     "execution_count": 291,
     "metadata": {},
     "output_type": "execute_result"
    }
   ],
   "source": [
    "# меняем значения в k_symbol на анлийский. Пустые строки обозначаем 'unspecified'. NaN-ы не трогаем\n",
    "\n",
    "k_sym_mapping = {\"POJISTNE\":\"insurance payment\", \"SLUZBY\":\"payment for statement\", \"UROK\":\"interest credited\", \\\n",
    "                \"SANKC. UROK\": \"negative balance sanction interest\", \"SIPO\":\"household\", \\\n",
    "                 \"DUCHOD\":\"old-age pension\", \"UVER\":\"loan payment\", \"\":\"unspecified\"}\n",
    "\n",
    "transaction_df_copy.k_symbol = transaction_df_copy.k_symbol.str.strip().replace(k_sym_mapping)\n",
    "transaction_df_copy.k_symbol.unique()"
   ]
  },
  {
   "cell_type": "code",
   "execution_count": 292,
   "id": "7ab58901-091c-4b36-aeaf-a1e6481f3701",
   "metadata": {},
   "outputs": [
    {
     "data": {
      "text/plain": [
       "array([nan, 'YZ', 'IJ', 'ST', 'UV', 'MN', 'OP', 'AB', 'CD', 'WX', 'GH',\n",
       "       'EF', 'QR', 'KL'], dtype=object)"
      ]
     },
     "execution_count": 292,
     "metadata": {},
     "output_type": "execute_result"
    }
   ],
   "source": [
    "# проверка значений в bank\n",
    "\n",
    "transaction_df_copy.bank.unique()"
   ]
  },
  {
   "cell_type": "code",
   "execution_count": 293,
   "id": "36cafe66-c064-48b9-b6ea-71ed11f47b5d",
   "metadata": {},
   "outputs": [
    {
     "name": "stdout",
     "output_type": "stream",
     "text": [
      "transaction_df_copy is intact!\n"
     ]
    }
   ],
   "source": [
    "# проверяем датафрейм на целостность после изменений. Должны совпадать и строки и колонки\n",
    "\n",
    "check_df_integrity(trans_initial_shape, transaction_df_copy, 'transaction_df_copy')"
   ]
  },
  {
   "cell_type": "code",
   "execution_count": 294,
   "id": "6d87330f-5da6-4e93-bb6b-3037878700e1",
   "metadata": {},
   "outputs": [
    {
     "data": {
      "text/html": [
       "<div>\n",
       "<style scoped>\n",
       "    .dataframe tbody tr th:only-of-type {\n",
       "        vertical-align: middle;\n",
       "    }\n",
       "\n",
       "    .dataframe tbody tr th {\n",
       "        vertical-align: top;\n",
       "    }\n",
       "\n",
       "    .dataframe thead th {\n",
       "        text-align: right;\n",
       "    }\n",
       "</style>\n",
       "<table border=\"1\" class=\"dataframe\">\n",
       "  <thead>\n",
       "    <tr style=\"text-align: right;\">\n",
       "      <th></th>\n",
       "      <th>trans_id</th>\n",
       "      <th>account_id</th>\n",
       "      <th>date</th>\n",
       "      <th>type</th>\n",
       "      <th>operation</th>\n",
       "      <th>amount</th>\n",
       "      <th>balance</th>\n",
       "      <th>k_symbol</th>\n",
       "      <th>bank</th>\n",
       "      <th>account</th>\n",
       "    </tr>\n",
       "  </thead>\n",
       "  <tbody>\n",
       "    <tr>\n",
       "      <th>0</th>\n",
       "      <td>695247</td>\n",
       "      <td>2378</td>\n",
       "      <td>1993-01-01</td>\n",
       "      <td>credit</td>\n",
       "      <td>credit in cash</td>\n",
       "      <td>700.0</td>\n",
       "      <td>700.0</td>\n",
       "      <td>NaN</td>\n",
       "      <td>NaN</td>\n",
       "      <td>NaN</td>\n",
       "    </tr>\n",
       "    <tr>\n",
       "      <th>1</th>\n",
       "      <td>171812</td>\n",
       "      <td>576</td>\n",
       "      <td>1993-01-01</td>\n",
       "      <td>credit</td>\n",
       "      <td>credit in cash</td>\n",
       "      <td>900.0</td>\n",
       "      <td>900.0</td>\n",
       "      <td>NaN</td>\n",
       "      <td>NaN</td>\n",
       "      <td>NaN</td>\n",
       "    </tr>\n",
       "    <tr>\n",
       "      <th>2</th>\n",
       "      <td>207264</td>\n",
       "      <td>704</td>\n",
       "      <td>1993-01-01</td>\n",
       "      <td>credit</td>\n",
       "      <td>credit in cash</td>\n",
       "      <td>1000.0</td>\n",
       "      <td>1000.0</td>\n",
       "      <td>NaN</td>\n",
       "      <td>NaN</td>\n",
       "      <td>NaN</td>\n",
       "    </tr>\n",
       "  </tbody>\n",
       "</table>\n",
       "</div>"
      ],
      "text/plain": [
       "  trans_id account_id       date    type       operation  amount  balance  \\\n",
       "0   695247       2378 1993-01-01  credit  credit in cash   700.0    700.0   \n",
       "1   171812        576 1993-01-01  credit  credit in cash   900.0    900.0   \n",
       "2   207264        704 1993-01-01  credit  credit in cash  1000.0   1000.0   \n",
       "\n",
       "  k_symbol bank account  \n",
       "0      NaN  NaN     NaN  \n",
       "1      NaN  NaN     NaN  \n",
       "2      NaN  NaN     NaN  "
      ]
     },
     "execution_count": 294,
     "metadata": {},
     "output_type": "execute_result"
    }
   ],
   "source": [
    "transaction_df_copy.head(3)"
   ]
  },
  {
   "cell_type": "code",
   "execution_count": 295,
   "id": "148d1fd3-0220-4c5c-ae71-4c73c63e9ebe",
   "metadata": {},
   "outputs": [
    {
     "name": "stdout",
     "output_type": "stream",
     "text": [
      "Saved cleaned DataFrame to data/cleaned_data/transaction_df_clean.csv\n"
     ]
    }
   ],
   "source": [
    "# Сохраняем очищенные данные в csv\n",
    "\n",
    "df_to_csv(transaction_df_copy, 'transaction_df')"
   ]
  },
  {
   "cell_type": "markdown",
   "id": "cc50cc67-b826-4b65-b962-21fb64597da9",
   "metadata": {},
   "source": [
    "# Таблица Loan\n",
    "| item       | meaning                        | remark                                                                                                                                                                                                            |\n",
    "| ---------- | ------------------------------ | ----------------------------------------------------------------------------------------------------------------------------------------------------------------------------------------------------------------- |\n",
    "| loan_id    | record identifier              |                                                                                                                                                                                                                   |\n",
    "| account_id | identification of the account  |                                                                                                                                                                                                                   |\n",
    "| date       | date when the loan was granted | in the form YYMMDD                                                                                                                                                                                                |\n",
    "| amount     | amount of money                |                                                                                                                                                                                                                   |\n",
    "| duration   | duration of the loan           |                                                                                                                                                                                                                   |\n",
    "| payments   | monthly payments               |                                                                                                                                                                                                                   |\n",
    "| status     | status of paying off the loan  | 'A' stands for contract finished, no problems,<br><br>'B' stands for contract finished, loan not paid,<br><br>'C' stands for running contract, OK so far,<br><br>'D' stands for running contract, client in debt |"
   ]
  },
  {
   "cell_type": "code",
   "execution_count": 296,
   "id": "7270362a-a34b-463e-86cc-a33ed919c15f",
   "metadata": {},
   "outputs": [],
   "source": [
    "loan_df = pd.read_csv('./data/raw_data/loan.asc', sep=';', dtype={'loan_id':'str', 'account_id':'str', 'amount':'float64'})"
   ]
  },
  {
   "cell_type": "code",
   "execution_count": 297,
   "id": "cc52c3f7-53fe-4d0b-940f-9cf6367ac684",
   "metadata": {},
   "outputs": [
    {
     "data": {
      "text/plain": [
       "(682, 7)"
      ]
     },
     "execution_count": 297,
     "metadata": {},
     "output_type": "execute_result"
    }
   ],
   "source": [
    "loan_initial_shape = loan_df.shape\n",
    "loan_initial_shape"
   ]
  },
  {
   "cell_type": "code",
   "execution_count": 298,
   "id": "ac5e2c60-1de3-4a62-a1bd-5cc52416ceb4",
   "metadata": {},
   "outputs": [],
   "source": [
    "loan_df.date = pd.to_datetime(loan_df.date, format='%y%m%d')"
   ]
  },
  {
   "cell_type": "code",
   "execution_count": 299,
   "id": "401557b6-938f-48a9-85d1-6a75786546ff",
   "metadata": {},
   "outputs": [
    {
     "data": {
      "text/plain": [
       "array([1993, 1994, 1995, 1996, 1997, 1998], dtype=int32)"
      ]
     },
     "execution_count": 299,
     "metadata": {},
     "output_type": "execute_result"
    }
   ],
   "source": [
    "loan_df.date.dt.year.unique()"
   ]
  },
  {
   "cell_type": "code",
   "execution_count": 300,
   "id": "a640272d-ae9c-4096-8538-6130d25e0974",
   "metadata": {},
   "outputs": [
    {
     "data": {
      "text/plain": [
       "loan_id               object\n",
       "account_id            object\n",
       "date          datetime64[ns]\n",
       "amount               float64\n",
       "duration               int64\n",
       "payments             float64\n",
       "status                object\n",
       "dtype: object"
      ]
     },
     "execution_count": 300,
     "metadata": {},
     "output_type": "execute_result"
    }
   ],
   "source": [
    "loan_df.dtypes"
   ]
  },
  {
   "cell_type": "code",
   "execution_count": 301,
   "id": "535f1690-1e7e-4af7-9100-e7ba772a859b",
   "metadata": {},
   "outputs": [
    {
     "data": {
      "text/plain": [
       "loan_id       0\n",
       "account_id    0\n",
       "date          0\n",
       "amount        0\n",
       "duration      0\n",
       "payments      0\n",
       "status        0\n",
       "dtype: int64"
      ]
     },
     "execution_count": 301,
     "metadata": {},
     "output_type": "execute_result"
    }
   ],
   "source": [
    "loan_df.isna().sum()"
   ]
  },
  {
   "cell_type": "code",
   "execution_count": 302,
   "id": "ffd80eca-c583-47f5-88b2-38d68dfd51e8",
   "metadata": {},
   "outputs": [
    {
     "data": {
      "text/html": [
       "<div>\n",
       "<style scoped>\n",
       "    .dataframe tbody tr th:only-of-type {\n",
       "        vertical-align: middle;\n",
       "    }\n",
       "\n",
       "    .dataframe tbody tr th {\n",
       "        vertical-align: top;\n",
       "    }\n",
       "\n",
       "    .dataframe thead th {\n",
       "        text-align: right;\n",
       "    }\n",
       "</style>\n",
       "<table border=\"1\" class=\"dataframe\">\n",
       "  <thead>\n",
       "    <tr style=\"text-align: right;\">\n",
       "      <th></th>\n",
       "      <th>loan_id</th>\n",
       "      <th>account_id</th>\n",
       "      <th>date</th>\n",
       "      <th>amount</th>\n",
       "      <th>duration</th>\n",
       "      <th>payments</th>\n",
       "      <th>status</th>\n",
       "    </tr>\n",
       "  </thead>\n",
       "  <tbody>\n",
       "    <tr>\n",
       "      <th>0</th>\n",
       "      <td>5314</td>\n",
       "      <td>1787</td>\n",
       "      <td>1993-07-05</td>\n",
       "      <td>96396.0</td>\n",
       "      <td>12</td>\n",
       "      <td>8033.0</td>\n",
       "      <td>B</td>\n",
       "    </tr>\n",
       "    <tr>\n",
       "      <th>1</th>\n",
       "      <td>5316</td>\n",
       "      <td>1801</td>\n",
       "      <td>1993-07-11</td>\n",
       "      <td>165960.0</td>\n",
       "      <td>36</td>\n",
       "      <td>4610.0</td>\n",
       "      <td>A</td>\n",
       "    </tr>\n",
       "    <tr>\n",
       "      <th>2</th>\n",
       "      <td>6863</td>\n",
       "      <td>9188</td>\n",
       "      <td>1993-07-28</td>\n",
       "      <td>127080.0</td>\n",
       "      <td>60</td>\n",
       "      <td>2118.0</td>\n",
       "      <td>A</td>\n",
       "    </tr>\n",
       "    <tr>\n",
       "      <th>3</th>\n",
       "      <td>5325</td>\n",
       "      <td>1843</td>\n",
       "      <td>1993-08-03</td>\n",
       "      <td>105804.0</td>\n",
       "      <td>36</td>\n",
       "      <td>2939.0</td>\n",
       "      <td>A</td>\n",
       "    </tr>\n",
       "    <tr>\n",
       "      <th>4</th>\n",
       "      <td>7240</td>\n",
       "      <td>11013</td>\n",
       "      <td>1993-09-06</td>\n",
       "      <td>274740.0</td>\n",
       "      <td>60</td>\n",
       "      <td>4579.0</td>\n",
       "      <td>A</td>\n",
       "    </tr>\n",
       "  </tbody>\n",
       "</table>\n",
       "</div>"
      ],
      "text/plain": [
       "  loan_id account_id       date    amount  duration  payments status\n",
       "0    5314       1787 1993-07-05   96396.0        12    8033.0      B\n",
       "1    5316       1801 1993-07-11  165960.0        36    4610.0      A\n",
       "2    6863       9188 1993-07-28  127080.0        60    2118.0      A\n",
       "3    5325       1843 1993-08-03  105804.0        36    2939.0      A\n",
       "4    7240      11013 1993-09-06  274740.0        60    4579.0      A"
      ]
     },
     "execution_count": 302,
     "metadata": {},
     "output_type": "execute_result"
    }
   ],
   "source": [
    "loan_df.head()"
   ]
  },
  {
   "cell_type": "markdown",
   "id": "0d8ddb40-8c14-495a-ac39-766b801e3bf9",
   "metadata": {},
   "source": [
    "'A' stands for contract finished, no problems,\n",
    "\n",
    "'B' stands for contract finished, loan not paid,\n",
    "\n",
    "'C' stands for running contract, OK so far,\n",
    "\n",
    "'D' stands for running contract, client in debt"
   ]
  },
  {
   "cell_type": "code",
   "execution_count": 303,
   "id": "c452e2ba-4819-418a-b89a-e78a07de13b5",
   "metadata": {},
   "outputs": [
    {
     "data": {
      "text/plain": [
       "array(['contract finished, loan not paid',\n",
       "       'contract finished, no problems', 'running contract, OK so far',\n",
       "       'running contract, client in debt'], dtype=object)"
      ]
     },
     "execution_count": 303,
     "metadata": {},
     "output_type": "execute_result"
    }
   ],
   "source": [
    "# меняем буквенные обозначения в status на подробные\n",
    "status_mapping = {'A':'contract finished, no problems', 'B':'contract finished, loan not paid', \\\n",
    "                 'C': 'running contract, OK so far', 'D': 'running contract, client in debt'}\n",
    "\n",
    "loan_df.status = loan_df.status.replace(status_mapping)\n",
    "loan_df.status.unique()"
   ]
  },
  {
   "cell_type": "code",
   "execution_count": 304,
   "id": "fe25ca29-ebcf-402b-9799-b25e92f6f509",
   "metadata": {},
   "outputs": [
    {
     "data": {
      "text/html": [
       "<div>\n",
       "<style scoped>\n",
       "    .dataframe tbody tr th:only-of-type {\n",
       "        vertical-align: middle;\n",
       "    }\n",
       "\n",
       "    .dataframe tbody tr th {\n",
       "        vertical-align: top;\n",
       "    }\n",
       "\n",
       "    .dataframe thead th {\n",
       "        text-align: right;\n",
       "    }\n",
       "</style>\n",
       "<table border=\"1\" class=\"dataframe\">\n",
       "  <thead>\n",
       "    <tr style=\"text-align: right;\">\n",
       "      <th></th>\n",
       "      <th>date</th>\n",
       "      <th>amount</th>\n",
       "      <th>duration</th>\n",
       "      <th>payments</th>\n",
       "    </tr>\n",
       "  </thead>\n",
       "  <tbody>\n",
       "    <tr>\n",
       "      <th>count</th>\n",
       "      <td>682</td>\n",
       "      <td>682.000000</td>\n",
       "      <td>682.000000</td>\n",
       "      <td>682.000000</td>\n",
       "    </tr>\n",
       "    <tr>\n",
       "      <th>mean</th>\n",
       "      <td>1996-09-29 05:35:43.108504448</td>\n",
       "      <td>151410.175953</td>\n",
       "      <td>36.492669</td>\n",
       "      <td>4190.664223</td>\n",
       "    </tr>\n",
       "    <tr>\n",
       "      <th>min</th>\n",
       "      <td>1993-07-05 00:00:00</td>\n",
       "      <td>4980.000000</td>\n",
       "      <td>12.000000</td>\n",
       "      <td>304.000000</td>\n",
       "    </tr>\n",
       "    <tr>\n",
       "      <th>25%</th>\n",
       "      <td>1995-07-04 12:00:00</td>\n",
       "      <td>66732.000000</td>\n",
       "      <td>24.000000</td>\n",
       "      <td>2477.000000</td>\n",
       "    </tr>\n",
       "    <tr>\n",
       "      <th>50%</th>\n",
       "      <td>1997-02-06 12:00:00</td>\n",
       "      <td>116928.000000</td>\n",
       "      <td>36.000000</td>\n",
       "      <td>3934.000000</td>\n",
       "    </tr>\n",
       "    <tr>\n",
       "      <th>75%</th>\n",
       "      <td>1997-12-12 12:00:00</td>\n",
       "      <td>210654.000000</td>\n",
       "      <td>48.000000</td>\n",
       "      <td>5813.500000</td>\n",
       "    </tr>\n",
       "    <tr>\n",
       "      <th>max</th>\n",
       "      <td>1998-12-08 00:00:00</td>\n",
       "      <td>590820.000000</td>\n",
       "      <td>60.000000</td>\n",
       "      <td>9910.000000</td>\n",
       "    </tr>\n",
       "    <tr>\n",
       "      <th>std</th>\n",
       "      <td>NaN</td>\n",
       "      <td>113372.406310</td>\n",
       "      <td>17.075219</td>\n",
       "      <td>2215.830344</td>\n",
       "    </tr>\n",
       "  </tbody>\n",
       "</table>\n",
       "</div>"
      ],
      "text/plain": [
       "                                date         amount    duration     payments\n",
       "count                            682     682.000000  682.000000   682.000000\n",
       "mean   1996-09-29 05:35:43.108504448  151410.175953   36.492669  4190.664223\n",
       "min              1993-07-05 00:00:00    4980.000000   12.000000   304.000000\n",
       "25%              1995-07-04 12:00:00   66732.000000   24.000000  2477.000000\n",
       "50%              1997-02-06 12:00:00  116928.000000   36.000000  3934.000000\n",
       "75%              1997-12-12 12:00:00  210654.000000   48.000000  5813.500000\n",
       "max              1998-12-08 00:00:00  590820.000000   60.000000  9910.000000\n",
       "std                              NaN  113372.406310   17.075219  2215.830344"
      ]
     },
     "execution_count": 304,
     "metadata": {},
     "output_type": "execute_result"
    }
   ],
   "source": [
    "loan_df.describe()"
   ]
  },
  {
   "cell_type": "code",
   "execution_count": 305,
   "id": "43f95a4f-a421-475c-aec1-2dd257b630fd",
   "metadata": {},
   "outputs": [
    {
     "name": "stdout",
     "output_type": "stream",
     "text": [
      "loan_df is intact!\n"
     ]
    }
   ],
   "source": [
    "# целостность датафрейма после изменений\n",
    "\n",
    "check_df_integrity(loan_initial_shape, loan_df, 'loan_df')"
   ]
  },
  {
   "cell_type": "code",
   "execution_count": 306,
   "id": "ebc3aeb8-5ceb-41e8-b48b-a20e4b768527",
   "metadata": {},
   "outputs": [
    {
     "name": "stdout",
     "output_type": "stream",
     "text": [
      "Saved cleaned DataFrame to data/cleaned_data/loan_df_clean.csv\n"
     ]
    }
   ],
   "source": [
    "# Сохраняем очищенные данные в csv\n",
    "\n",
    "df_to_csv(loan_df, 'loan_df')"
   ]
  },
  {
   "cell_type": "markdown",
   "id": "15bad081-279d-4bba-8333-808a9baa4f94",
   "metadata": {},
   "source": [
    "# Таблица Credit Card\n",
    "\n",
    "| item    | meaning                   | remark                                          |\n",
    "| ------- | ------------------------- | ----------------------------------------------- |\n",
    "| card_id | record identifier         |                                                 |\n",
    "| disp_id | disposition to an account |                                                 |\n",
    "| type    | type of card              | possible values are \"junior\", \"classic\", \"gold\" |\n",
    "| issued  | issue date                | in the form YYMMDD                              |"
   ]
  },
  {
   "cell_type": "code",
   "execution_count": 307,
   "id": "64378411-bfd6-4a80-89c2-57ca3071dbc0",
   "metadata": {},
   "outputs": [],
   "source": [
    "card_df = pd.read_csv('./data/raw_data/card.asc', sep=';', dtype={'card_id':'str', 'disp_id':'str'})"
   ]
  },
  {
   "cell_type": "code",
   "execution_count": 308,
   "id": "c0ec84e8-5b60-4c67-9ac6-47dbebb31feb",
   "metadata": {},
   "outputs": [
    {
     "data": {
      "text/plain": [
       "(892, 4)"
      ]
     },
     "execution_count": 308,
     "metadata": {},
     "output_type": "execute_result"
    }
   ],
   "source": [
    "card_initial_shape = card_df.shape\n",
    "card_initial_shape"
   ]
  },
  {
   "cell_type": "code",
   "execution_count": 309,
   "id": "e7db45b5-cf6e-4090-97b7-6786ae6f6337",
   "metadata": {},
   "outputs": [
    {
     "data": {
      "text/plain": [
       "card_id    object\n",
       "disp_id    object\n",
       "type       object\n",
       "issued     object\n",
       "dtype: object"
      ]
     },
     "execution_count": 309,
     "metadata": {},
     "output_type": "execute_result"
    }
   ],
   "source": [
    "card_df.dtypes"
   ]
  },
  {
   "cell_type": "code",
   "execution_count": 310,
   "id": "7b63fa64-bbe6-469c-a75a-759f1e973032",
   "metadata": {
    "scrolled": true
   },
   "outputs": [
    {
     "data": {
      "text/plain": [
       "card_id    0\n",
       "disp_id    0\n",
       "type       0\n",
       "issued     0\n",
       "dtype: int64"
      ]
     },
     "execution_count": 310,
     "metadata": {},
     "output_type": "execute_result"
    }
   ],
   "source": [
    "card_df.isna().sum()"
   ]
  },
  {
   "cell_type": "code",
   "execution_count": 311,
   "id": "2407e6c5-557d-4510-b991-c8ceae45607e",
   "metadata": {},
   "outputs": [
    {
     "data": {
      "text/html": [
       "<div>\n",
       "<style scoped>\n",
       "    .dataframe tbody tr th:only-of-type {\n",
       "        vertical-align: middle;\n",
       "    }\n",
       "\n",
       "    .dataframe tbody tr th {\n",
       "        vertical-align: top;\n",
       "    }\n",
       "\n",
       "    .dataframe thead th {\n",
       "        text-align: right;\n",
       "    }\n",
       "</style>\n",
       "<table border=\"1\" class=\"dataframe\">\n",
       "  <thead>\n",
       "    <tr style=\"text-align: right;\">\n",
       "      <th></th>\n",
       "      <th>card_id</th>\n",
       "      <th>disp_id</th>\n",
       "      <th>type</th>\n",
       "      <th>issued</th>\n",
       "    </tr>\n",
       "  </thead>\n",
       "  <tbody>\n",
       "    <tr>\n",
       "      <th>0</th>\n",
       "      <td>1005</td>\n",
       "      <td>9285</td>\n",
       "      <td>classic</td>\n",
       "      <td>931107 00:00:00</td>\n",
       "    </tr>\n",
       "    <tr>\n",
       "      <th>1</th>\n",
       "      <td>104</td>\n",
       "      <td>588</td>\n",
       "      <td>classic</td>\n",
       "      <td>940119 00:00:00</td>\n",
       "    </tr>\n",
       "    <tr>\n",
       "      <th>2</th>\n",
       "      <td>747</td>\n",
       "      <td>4915</td>\n",
       "      <td>classic</td>\n",
       "      <td>940205 00:00:00</td>\n",
       "    </tr>\n",
       "    <tr>\n",
       "      <th>3</th>\n",
       "      <td>70</td>\n",
       "      <td>439</td>\n",
       "      <td>classic</td>\n",
       "      <td>940208 00:00:00</td>\n",
       "    </tr>\n",
       "    <tr>\n",
       "      <th>4</th>\n",
       "      <td>577</td>\n",
       "      <td>3687</td>\n",
       "      <td>classic</td>\n",
       "      <td>940215 00:00:00</td>\n",
       "    </tr>\n",
       "  </tbody>\n",
       "</table>\n",
       "</div>"
      ],
      "text/plain": [
       "  card_id disp_id     type           issued\n",
       "0    1005    9285  classic  931107 00:00:00\n",
       "1     104     588  classic  940119 00:00:00\n",
       "2     747    4915  classic  940205 00:00:00\n",
       "3      70     439  classic  940208 00:00:00\n",
       "4     577    3687  classic  940215 00:00:00"
      ]
     },
     "execution_count": 311,
     "metadata": {},
     "output_type": "execute_result"
    }
   ],
   "source": [
    "card_df.head()"
   ]
  },
  {
   "cell_type": "code",
   "execution_count": 312,
   "id": "9505b905-0862-4433-b063-1e29f29a5d1c",
   "metadata": {},
   "outputs": [
    {
     "data": {
      "text/plain": [
       "array([1993, 1994, 1995, 1996, 1997, 1998], dtype=int32)"
      ]
     },
     "execution_count": 312,
     "metadata": {},
     "output_type": "execute_result"
    }
   ],
   "source": [
    "card_df.issued = pd.to_datetime(card_df.issued, format='%y%m%d %H:%M:%S')\n",
    "card_df.issued.dt.year.unique()"
   ]
  },
  {
   "cell_type": "code",
   "execution_count": 313,
   "id": "062622ba-8ba6-4204-b4b2-4670cee8c47d",
   "metadata": {},
   "outputs": [
    {
     "data": {
      "text/html": [
       "<div>\n",
       "<style scoped>\n",
       "    .dataframe tbody tr th:only-of-type {\n",
       "        vertical-align: middle;\n",
       "    }\n",
       "\n",
       "    .dataframe tbody tr th {\n",
       "        vertical-align: top;\n",
       "    }\n",
       "\n",
       "    .dataframe thead th {\n",
       "        text-align: right;\n",
       "    }\n",
       "</style>\n",
       "<table border=\"1\" class=\"dataframe\">\n",
       "  <thead>\n",
       "    <tr style=\"text-align: right;\">\n",
       "      <th></th>\n",
       "      <th>card_id</th>\n",
       "      <th>disp_id</th>\n",
       "      <th>type</th>\n",
       "      <th>issued</th>\n",
       "    </tr>\n",
       "  </thead>\n",
       "  <tbody>\n",
       "    <tr>\n",
       "      <th>0</th>\n",
       "      <td>1005</td>\n",
       "      <td>9285</td>\n",
       "      <td>classic</td>\n",
       "      <td>1993-11-07</td>\n",
       "    </tr>\n",
       "    <tr>\n",
       "      <th>1</th>\n",
       "      <td>104</td>\n",
       "      <td>588</td>\n",
       "      <td>classic</td>\n",
       "      <td>1994-01-19</td>\n",
       "    </tr>\n",
       "    <tr>\n",
       "      <th>2</th>\n",
       "      <td>747</td>\n",
       "      <td>4915</td>\n",
       "      <td>classic</td>\n",
       "      <td>1994-02-05</td>\n",
       "    </tr>\n",
       "  </tbody>\n",
       "</table>\n",
       "</div>"
      ],
      "text/plain": [
       "  card_id disp_id     type     issued\n",
       "0    1005    9285  classic 1993-11-07\n",
       "1     104     588  classic 1994-01-19\n",
       "2     747    4915  classic 1994-02-05"
      ]
     },
     "execution_count": 313,
     "metadata": {},
     "output_type": "execute_result"
    }
   ],
   "source": [
    "card_df.head(3)"
   ]
  },
  {
   "cell_type": "code",
   "execution_count": 314,
   "id": "9c9de62e-99c8-43d8-b96d-f6abfe5e1fde",
   "metadata": {},
   "outputs": [
    {
     "name": "stdout",
     "output_type": "stream",
     "text": [
      "card_df is intact!\n"
     ]
    }
   ],
   "source": [
    "# проверка на целостность\n",
    "\n",
    "check_df_integrity(card_initial_shape, card_df, 'card_df')"
   ]
  },
  {
   "cell_type": "code",
   "execution_count": 315,
   "id": "5c0b9bae-ce66-4707-858d-4262d3af3e8b",
   "metadata": {},
   "outputs": [
    {
     "name": "stdout",
     "output_type": "stream",
     "text": [
      "Saved cleaned DataFrame to data/cleaned_data/card_df_clean.csv\n"
     ]
    }
   ],
   "source": [
    "# Сохраняем очищенные данные в csv\n",
    "\n",
    "df_to_csv(card_df, 'card_df')"
   ]
  },
  {
   "cell_type": "markdown",
   "id": "29df0818-971c-40c6-9c50-9944c5245b78",
   "metadata": {},
   "source": [
    "# Таблица Demographic data (District)\n",
    "| item             | meaning                                          | remark |\n",
    "| ---------------- | ------------------------------------------------ | ------ |\n",
    "| A1 = district_id | district code                                    |        |\n",
    "| A2               | district name                                    |        |\n",
    "| A3               | region                                           |        |\n",
    "| A4               | no. of inhabitants                               |        |\n",
    "| A5               | no. of municipalities with inhabitants < 499     |        |\n",
    "| A6               | no. of municipalities with inhabitants 500-1999  |        |\n",
    "| A7               | no. of municipalities with inhabitants 2000-9999 |        |\n",
    "| A8               | no. of municipalities with inhabitants >10000    |        |\n",
    "| A9               | no. of cities                                    |        |\n",
    "| A10              | ratio of urban inhabitants                       |        |\n",
    "| A11              | average salary                                   |        |\n",
    "| A12              | unemploymant rate '95                            |        |\n",
    "| A13              | unemploymant rate '96                            |        |\n",
    "| A14              | no. of enterpreneurs per 1000 inhabitants        |        |\n",
    "| A15              | no. of commited crimes '95                       |        |\n",
    "| A16              | no. of commited crimes '96                       |        |"
   ]
  },
  {
   "cell_type": "code",
   "execution_count": 316,
   "id": "b888a856-56d6-4bc8-bf07-bb5f116a1e63",
   "metadata": {},
   "outputs": [],
   "source": [
    "district_df = pd.read_csv(\"./data/raw_data/district.asc\", sep=';')"
   ]
  },
  {
   "cell_type": "code",
   "execution_count": 317,
   "id": "5d2570dc-1655-437b-830c-b527c1c31b5e",
   "metadata": {},
   "outputs": [
    {
     "data": {
      "text/plain": [
       "(77, 16)"
      ]
     },
     "execution_count": 317,
     "metadata": {},
     "output_type": "execute_result"
    }
   ],
   "source": [
    "district_initial_shape = district_df.shape\n",
    "district_initial_shape"
   ]
  },
  {
   "cell_type": "code",
   "execution_count": 318,
   "id": "9ae3a8e3-8c53-4048-bd04-eeda3d07dca5",
   "metadata": {},
   "outputs": [
    {
     "data": {
      "text/html": [
       "<div>\n",
       "<style scoped>\n",
       "    .dataframe tbody tr th:only-of-type {\n",
       "        vertical-align: middle;\n",
       "    }\n",
       "\n",
       "    .dataframe tbody tr th {\n",
       "        vertical-align: top;\n",
       "    }\n",
       "\n",
       "    .dataframe thead th {\n",
       "        text-align: right;\n",
       "    }\n",
       "</style>\n",
       "<table border=\"1\" class=\"dataframe\">\n",
       "  <thead>\n",
       "    <tr style=\"text-align: right;\">\n",
       "      <th></th>\n",
       "      <th>A1</th>\n",
       "      <th>A2</th>\n",
       "      <th>A3</th>\n",
       "      <th>A4</th>\n",
       "      <th>A5</th>\n",
       "      <th>A6</th>\n",
       "      <th>A7</th>\n",
       "      <th>A8</th>\n",
       "      <th>A9</th>\n",
       "      <th>A10</th>\n",
       "      <th>A11</th>\n",
       "      <th>A12</th>\n",
       "      <th>A13</th>\n",
       "      <th>A14</th>\n",
       "      <th>A15</th>\n",
       "      <th>A16</th>\n",
       "    </tr>\n",
       "  </thead>\n",
       "  <tbody>\n",
       "    <tr>\n",
       "      <th>0</th>\n",
       "      <td>1</td>\n",
       "      <td>Hl.m. Praha</td>\n",
       "      <td>Prague</td>\n",
       "      <td>1204953</td>\n",
       "      <td>0</td>\n",
       "      <td>0</td>\n",
       "      <td>0</td>\n",
       "      <td>1</td>\n",
       "      <td>1</td>\n",
       "      <td>100.0</td>\n",
       "      <td>12541</td>\n",
       "      <td>0.29</td>\n",
       "      <td>0.43</td>\n",
       "      <td>167</td>\n",
       "      <td>85677</td>\n",
       "      <td>99107</td>\n",
       "    </tr>\n",
       "    <tr>\n",
       "      <th>1</th>\n",
       "      <td>2</td>\n",
       "      <td>Benesov</td>\n",
       "      <td>central Bohemia</td>\n",
       "      <td>88884</td>\n",
       "      <td>80</td>\n",
       "      <td>26</td>\n",
       "      <td>6</td>\n",
       "      <td>2</td>\n",
       "      <td>5</td>\n",
       "      <td>46.7</td>\n",
       "      <td>8507</td>\n",
       "      <td>1.67</td>\n",
       "      <td>1.85</td>\n",
       "      <td>132</td>\n",
       "      <td>2159</td>\n",
       "      <td>2674</td>\n",
       "    </tr>\n",
       "    <tr>\n",
       "      <th>2</th>\n",
       "      <td>3</td>\n",
       "      <td>Beroun</td>\n",
       "      <td>central Bohemia</td>\n",
       "      <td>75232</td>\n",
       "      <td>55</td>\n",
       "      <td>26</td>\n",
       "      <td>4</td>\n",
       "      <td>1</td>\n",
       "      <td>5</td>\n",
       "      <td>41.7</td>\n",
       "      <td>8980</td>\n",
       "      <td>1.95</td>\n",
       "      <td>2.21</td>\n",
       "      <td>111</td>\n",
       "      <td>2824</td>\n",
       "      <td>2813</td>\n",
       "    </tr>\n",
       "    <tr>\n",
       "      <th>3</th>\n",
       "      <td>4</td>\n",
       "      <td>Kladno</td>\n",
       "      <td>central Bohemia</td>\n",
       "      <td>149893</td>\n",
       "      <td>63</td>\n",
       "      <td>29</td>\n",
       "      <td>6</td>\n",
       "      <td>2</td>\n",
       "      <td>6</td>\n",
       "      <td>67.4</td>\n",
       "      <td>9753</td>\n",
       "      <td>4.64</td>\n",
       "      <td>5.05</td>\n",
       "      <td>109</td>\n",
       "      <td>5244</td>\n",
       "      <td>5892</td>\n",
       "    </tr>\n",
       "    <tr>\n",
       "      <th>4</th>\n",
       "      <td>5</td>\n",
       "      <td>Kolin</td>\n",
       "      <td>central Bohemia</td>\n",
       "      <td>95616</td>\n",
       "      <td>65</td>\n",
       "      <td>30</td>\n",
       "      <td>4</td>\n",
       "      <td>1</td>\n",
       "      <td>6</td>\n",
       "      <td>51.4</td>\n",
       "      <td>9307</td>\n",
       "      <td>3.85</td>\n",
       "      <td>4.43</td>\n",
       "      <td>118</td>\n",
       "      <td>2616</td>\n",
       "      <td>3040</td>\n",
       "    </tr>\n",
       "  </tbody>\n",
       "</table>\n",
       "</div>"
      ],
      "text/plain": [
       "   A1           A2               A3       A4  A5  A6  A7  A8  A9    A10  \\\n",
       "0   1  Hl.m. Praha           Prague  1204953   0   0   0   1   1  100.0   \n",
       "1   2      Benesov  central Bohemia    88884  80  26   6   2   5   46.7   \n",
       "2   3       Beroun  central Bohemia    75232  55  26   4   1   5   41.7   \n",
       "3   4       Kladno  central Bohemia   149893  63  29   6   2   6   67.4   \n",
       "4   5        Kolin  central Bohemia    95616  65  30   4   1   6   51.4   \n",
       "\n",
       "     A11   A12   A13  A14    A15    A16  \n",
       "0  12541  0.29  0.43  167  85677  99107  \n",
       "1   8507  1.67  1.85  132   2159   2674  \n",
       "2   8980  1.95  2.21  111   2824   2813  \n",
       "3   9753  4.64  5.05  109   5244   5892  \n",
       "4   9307  3.85  4.43  118   2616   3040  "
      ]
     },
     "execution_count": 318,
     "metadata": {},
     "output_type": "execute_result"
    }
   ],
   "source": [
    "district_df.head()"
   ]
  },
  {
   "cell_type": "code",
   "execution_count": 319,
   "id": "0dd852a1-6d4b-4df5-a954-81a729162548",
   "metadata": {},
   "outputs": [],
   "source": [
    "# строка со значениями колонок по порядку\n",
    "\n",
    "district_col_raw = ''' district code                                    |\n",
    "| district name                                    |\n",
    "| region                                           |\n",
    "| population                               |\n",
    "| no_of_mun_below_500     |\n",
    "| no of mun_between_500_1999  |\n",
    "| no of mun_between_2000_9999 |\n",
    "| no of mun_above_10000    |\n",
    "| no. of cities                                    |\n",
    "| ratio of urban population                       |\n",
    "| avg_salary                                   |\n",
    "| unemployment rate '95                            |\n",
    "| unemployment rate '96                            |\n",
    "| enterpreneurs per_1000      |\n",
    "| crimes num '95                       |\n",
    "| crimes num '96                       '''"
   ]
  },
  {
   "cell_type": "code",
   "execution_count": 320,
   "id": "2cc1a88c-bbca-4e90-be5c-a453b52acb05",
   "metadata": {},
   "outputs": [],
   "source": [
    "# разбиваем строку по символу |\n",
    "district_col_split = district_col_raw.split('|')"
   ]
  },
  {
   "cell_type": "code",
   "execution_count": 321,
   "id": "c174ab9b-0956-4642-87e6-500e1b99a6a9",
   "metadata": {},
   "outputs": [
    {
     "data": {
      "text/plain": [
       "[' district code                                    ',\n",
       " '\\n',\n",
       " ' district name                                    ',\n",
       " '\\n',\n",
       " ' region                                           ',\n",
       " '\\n',\n",
       " ' population                               ',\n",
       " '\\n',\n",
       " ' no_of_mun_below_500     ',\n",
       " '\\n',\n",
       " ' no of mun_between_500_1999  ',\n",
       " '\\n',\n",
       " ' no of mun_between_2000_9999 ',\n",
       " '\\n',\n",
       " ' no of mun_above_10000    ',\n",
       " '\\n',\n",
       " ' no. of cities                                    ',\n",
       " '\\n',\n",
       " ' ratio of urban population                       ',\n",
       " '\\n',\n",
       " ' avg_salary                                   ',\n",
       " '\\n',\n",
       " \" unemployment rate '95                            \",\n",
       " '\\n',\n",
       " \" unemployment rate '96                            \",\n",
       " '\\n',\n",
       " ' enterpreneurs per_1000      ',\n",
       " '\\n',\n",
       " \" crimes num '95                       \",\n",
       " '\\n',\n",
       " \" crimes num '96                       \"]"
      ]
     },
     "execution_count": 321,
     "metadata": {},
     "output_type": "execute_result"
    }
   ],
   "source": [
    "district_col_split"
   ]
  },
  {
   "cell_type": "code",
   "execution_count": 322,
   "id": "77b50d38-c0f9-4132-9710-219a57219d75",
   "metadata": {},
   "outputs": [
    {
     "data": {
      "text/plain": [
       "0                   district_code\n",
       "1                   district_name\n",
       "2                          region\n",
       "3                      population\n",
       "4             no_of_mun_below_500\n",
       "5      no_of_mun_between_500_1999\n",
       "6     no_of_mun_between_2000_9999\n",
       "7           no_of_mun_above_10000\n",
       "8                    no_of_cities\n",
       "9       ratio_of_urban_population\n",
       "10                     avg_salary\n",
       "11           unemployment_rate_95\n",
       "12           unemployment_rate_96\n",
       "13         enterpreneurs_per_1000\n",
       "14                  crimes_num_95\n",
       "15                  crimes_num_96\n",
       "dtype: object"
      ]
     },
     "execution_count": 322,
     "metadata": {},
     "output_type": "execute_result"
    }
   ],
   "source": [
    "# убираем пробелы с начала и конца каждой строки\n",
    "# меняем пробелы на _\n",
    "# удаляем апострофы\n",
    "# удаляем точки\n",
    "\n",
    "dist_col_series = pd.Series(district_col_split).str.strip() \\\n",
    ".str.replace(' ','_') \\\n",
    ".str.replace('\\'', '') \\\n",
    ".str.replace('.', '')\n",
    "\n",
    "# Фильтруем серию, чтобы избавиться от пустых строк. Сбрасываем индекс\n",
    "dist_col_clean = dist_col_series[dist_col_series != ''].reset_index(drop=True)\n",
    "dist_col_clean"
   ]
  },
  {
   "cell_type": "code",
   "execution_count": 323,
   "id": "b54242b2-0282-42e8-bd6d-8b99b0706aa4",
   "metadata": {},
   "outputs": [
    {
     "data": {
      "text/html": [
       "<div>\n",
       "<style scoped>\n",
       "    .dataframe tbody tr th:only-of-type {\n",
       "        vertical-align: middle;\n",
       "    }\n",
       "\n",
       "    .dataframe tbody tr th {\n",
       "        vertical-align: top;\n",
       "    }\n",
       "\n",
       "    .dataframe thead th {\n",
       "        text-align: right;\n",
       "    }\n",
       "</style>\n",
       "<table border=\"1\" class=\"dataframe\">\n",
       "  <thead>\n",
       "    <tr style=\"text-align: right;\">\n",
       "      <th></th>\n",
       "      <th>district_code</th>\n",
       "      <th>district_name</th>\n",
       "      <th>region</th>\n",
       "      <th>population</th>\n",
       "      <th>no_of_mun_below_500</th>\n",
       "      <th>no_of_mun_between_500_1999</th>\n",
       "      <th>no_of_mun_between_2000_9999</th>\n",
       "      <th>no_of_mun_above_10000</th>\n",
       "      <th>no_of_cities</th>\n",
       "      <th>ratio_of_urban_population</th>\n",
       "      <th>avg_salary</th>\n",
       "      <th>unemployment_rate_95</th>\n",
       "      <th>unemployment_rate_96</th>\n",
       "      <th>enterpreneurs_per_1000</th>\n",
       "      <th>crimes_num_95</th>\n",
       "      <th>crimes_num_96</th>\n",
       "    </tr>\n",
       "  </thead>\n",
       "  <tbody>\n",
       "    <tr>\n",
       "      <th>0</th>\n",
       "      <td>1</td>\n",
       "      <td>Hl.m. Praha</td>\n",
       "      <td>Prague</td>\n",
       "      <td>1204953</td>\n",
       "      <td>0</td>\n",
       "      <td>0</td>\n",
       "      <td>0</td>\n",
       "      <td>1</td>\n",
       "      <td>1</td>\n",
       "      <td>100.0</td>\n",
       "      <td>12541</td>\n",
       "      <td>0.29</td>\n",
       "      <td>0.43</td>\n",
       "      <td>167</td>\n",
       "      <td>85677</td>\n",
       "      <td>99107</td>\n",
       "    </tr>\n",
       "    <tr>\n",
       "      <th>1</th>\n",
       "      <td>2</td>\n",
       "      <td>Benesov</td>\n",
       "      <td>central Bohemia</td>\n",
       "      <td>88884</td>\n",
       "      <td>80</td>\n",
       "      <td>26</td>\n",
       "      <td>6</td>\n",
       "      <td>2</td>\n",
       "      <td>5</td>\n",
       "      <td>46.7</td>\n",
       "      <td>8507</td>\n",
       "      <td>1.67</td>\n",
       "      <td>1.85</td>\n",
       "      <td>132</td>\n",
       "      <td>2159</td>\n",
       "      <td>2674</td>\n",
       "    </tr>\n",
       "    <tr>\n",
       "      <th>2</th>\n",
       "      <td>3</td>\n",
       "      <td>Beroun</td>\n",
       "      <td>central Bohemia</td>\n",
       "      <td>75232</td>\n",
       "      <td>55</td>\n",
       "      <td>26</td>\n",
       "      <td>4</td>\n",
       "      <td>1</td>\n",
       "      <td>5</td>\n",
       "      <td>41.7</td>\n",
       "      <td>8980</td>\n",
       "      <td>1.95</td>\n",
       "      <td>2.21</td>\n",
       "      <td>111</td>\n",
       "      <td>2824</td>\n",
       "      <td>2813</td>\n",
       "    </tr>\n",
       "    <tr>\n",
       "      <th>3</th>\n",
       "      <td>4</td>\n",
       "      <td>Kladno</td>\n",
       "      <td>central Bohemia</td>\n",
       "      <td>149893</td>\n",
       "      <td>63</td>\n",
       "      <td>29</td>\n",
       "      <td>6</td>\n",
       "      <td>2</td>\n",
       "      <td>6</td>\n",
       "      <td>67.4</td>\n",
       "      <td>9753</td>\n",
       "      <td>4.64</td>\n",
       "      <td>5.05</td>\n",
       "      <td>109</td>\n",
       "      <td>5244</td>\n",
       "      <td>5892</td>\n",
       "    </tr>\n",
       "    <tr>\n",
       "      <th>4</th>\n",
       "      <td>5</td>\n",
       "      <td>Kolin</td>\n",
       "      <td>central Bohemia</td>\n",
       "      <td>95616</td>\n",
       "      <td>65</td>\n",
       "      <td>30</td>\n",
       "      <td>4</td>\n",
       "      <td>1</td>\n",
       "      <td>6</td>\n",
       "      <td>51.4</td>\n",
       "      <td>9307</td>\n",
       "      <td>3.85</td>\n",
       "      <td>4.43</td>\n",
       "      <td>118</td>\n",
       "      <td>2616</td>\n",
       "      <td>3040</td>\n",
       "    </tr>\n",
       "  </tbody>\n",
       "</table>\n",
       "</div>"
      ],
      "text/plain": [
       "   district_code district_name           region  population  \\\n",
       "0              1   Hl.m. Praha           Prague     1204953   \n",
       "1              2       Benesov  central Bohemia       88884   \n",
       "2              3        Beroun  central Bohemia       75232   \n",
       "3              4        Kladno  central Bohemia      149893   \n",
       "4              5         Kolin  central Bohemia       95616   \n",
       "\n",
       "   no_of_mun_below_500  no_of_mun_between_500_1999  \\\n",
       "0                    0                           0   \n",
       "1                   80                          26   \n",
       "2                   55                          26   \n",
       "3                   63                          29   \n",
       "4                   65                          30   \n",
       "\n",
       "   no_of_mun_between_2000_9999  no_of_mun_above_10000  no_of_cities  \\\n",
       "0                            0                      1             1   \n",
       "1                            6                      2             5   \n",
       "2                            4                      1             5   \n",
       "3                            6                      2             6   \n",
       "4                            4                      1             6   \n",
       "\n",
       "   ratio_of_urban_population  avg_salary unemployment_rate_95  \\\n",
       "0                      100.0       12541                 0.29   \n",
       "1                       46.7        8507                 1.67   \n",
       "2                       41.7        8980                 1.95   \n",
       "3                       67.4        9753                 4.64   \n",
       "4                       51.4        9307                 3.85   \n",
       "\n",
       "   unemployment_rate_96  enterpreneurs_per_1000 crimes_num_95  crimes_num_96  \n",
       "0                  0.43                     167         85677          99107  \n",
       "1                  1.85                     132          2159           2674  \n",
       "2                  2.21                     111          2824           2813  \n",
       "3                  5.05                     109          5244           5892  \n",
       "4                  4.43                     118          2616           3040  "
      ]
     },
     "execution_count": 323,
     "metadata": {},
     "output_type": "execute_result"
    }
   ],
   "source": [
    "# назначаем district_df очищенные названия колонок\n",
    "\n",
    "district_df.columns = dist_col_clean\n",
    "district_df.head()"
   ]
  },
  {
   "cell_type": "code",
   "execution_count": 324,
   "id": "7cdbf1ce-c642-4166-a6b9-97a53ae4630c",
   "metadata": {
    "scrolled": true
   },
   "outputs": [
    {
     "data": {
      "text/plain": [
       "district_code                    int64\n",
       "district_name                   object\n",
       "region                          object\n",
       "population                       int64\n",
       "no_of_mun_below_500              int64\n",
       "no_of_mun_between_500_1999       int64\n",
       "no_of_mun_between_2000_9999      int64\n",
       "no_of_mun_above_10000            int64\n",
       "no_of_cities                     int64\n",
       "ratio_of_urban_population      float64\n",
       "avg_salary                       int64\n",
       "unemployment_rate_95            object\n",
       "unemployment_rate_96           float64\n",
       "enterpreneurs_per_1000           int64\n",
       "crimes_num_95                   object\n",
       "crimes_num_96                    int64\n",
       "dtype: object"
      ]
     },
     "execution_count": 324,
     "metadata": {},
     "output_type": "execute_result"
    }
   ],
   "source": [
    "district_df.dtypes"
   ]
  },
  {
   "cell_type": "code",
   "execution_count": 325,
   "id": "c1e69488-caf6-4c8c-8fad-5c298892d8b6",
   "metadata": {
    "scrolled": true
   },
   "outputs": [
    {
     "data": {
      "text/plain": [
       "array([0.29, 1.67, 1.95, 4.64, 3.85, 2.95, 2.26, 1.25, 3.39, 0.56, 0.45,\n",
       "       3.83, 2.77, 1.42, 3.13, 1.12, 2.38, 2.83, 2.65, 1.51, 1.1 , 1.79,\n",
       "       1.39, 2.47, 2.64, 0.65, 1.62, 2.82, 3.38, 3.52, 2.8 , 5.75, 6.43,\n",
       "       1.02, 3.33, 4.46, 7.08, 7.34, 6.49, 3.32, 2.41, 1.72, 2.79, 2.28,\n",
       "       1.78, 1.89, 4.83, 2.51, 2.52, 2.53, 1.6 , 1.88, 4.69, 3.73, 3.24,\n",
       "       3.45, 4.76, 1.29, 3.79, 5.74, 3.51, 5.77, 4.09,  nan, 6.63, 5.93,\n",
       "       3.8 , 4.75, 5.38, 4.73, 4.01])"
      ]
     },
     "execution_count": 325,
     "metadata": {},
     "output_type": "execute_result"
    }
   ],
   "source": [
    "# Замена значений '?' в unemployment_rate_95 на NaN, и приведение к float64\n",
    "\n",
    "unemp95_mapping = {'?':np.nan}\n",
    "district_df.unemployment_rate_95 = district_df.unemployment_rate_95.replace(unemp95_mapping).astype('float64')\n",
    "district_df.unemployment_rate_95.unique()"
   ]
  },
  {
   "cell_type": "code",
   "execution_count": 326,
   "id": "b47a1954-6e0d-427a-925c-c3e04ad7df04",
   "metadata": {},
   "outputs": [
    {
     "data": {
      "text/plain": [
       "<IntegerArray>\n",
       "[85677,  2159,  2824,  5244,  2616,  2640,  4289,  5179,  2987,  3810,  3475,\n",
       "  3804,  1597,  6604,  1845,  1874,  1003,  1740,   999,  1563,  2299,  1089,\n",
       "  2879,  5198,  1822,  6041,  1029,  1580,   818,  2985,  1328,  4340,  4650,\n",
       "  5323,  3384,  5796,  4147,  2653,  4947,  6949,  6445,  1658,  4085,  2166,\n",
       "  2080,  2854,  6079,  1655,  1660,  2123,  3496,  2564,  1850, 18721,  3659,\n",
       "  3729,  2212,  2595,  1879,  2112,  2719,  1562,  4484,  2157,  2247,  3244,\n",
       "  5623,  <NA>,  9878,  4980,  9672,  4355, 18782,  4063,  3736,  3460]\n",
       "Length: 76, dtype: Int64"
      ]
     },
     "execution_count": 326,
     "metadata": {},
     "output_type": "execute_result"
    }
   ],
   "source": [
    "# Замена значений '?' в crimes_num_95 на NaN, и приведение к float64\n",
    "\n",
    "crime95_mapping = {'?':pd.NA}\n",
    "district_df.crimes_num_95 = district_df.crimes_num_95.replace(crime95_mapping).astype('Int64')\n",
    "district_df.crimes_num_95.unique()"
   ]
  },
  {
   "cell_type": "code",
   "execution_count": 327,
   "id": "cf105edc-7470-406b-b757-02a434055df2",
   "metadata": {},
   "outputs": [
    {
     "data": {
      "text/plain": [
       "district_code                  0\n",
       "district_name                  0\n",
       "region                         0\n",
       "population                     0\n",
       "no_of_mun_below_500            0\n",
       "no_of_mun_between_500_1999     0\n",
       "no_of_mun_between_2000_9999    0\n",
       "no_of_mun_above_10000          0\n",
       "no_of_cities                   0\n",
       "ratio_of_urban_population      0\n",
       "avg_salary                     0\n",
       "unemployment_rate_95           1\n",
       "unemployment_rate_96           0\n",
       "enterpreneurs_per_1000         0\n",
       "crimes_num_95                  1\n",
       "crimes_num_96                  0\n",
       "dtype: int64"
      ]
     },
     "execution_count": 327,
     "metadata": {},
     "output_type": "execute_result"
    }
   ],
   "source": [
    "district_df.isna().sum()"
   ]
  },
  {
   "cell_type": "code",
   "execution_count": 328,
   "id": "8b300c89-ee71-4fef-bdfc-4dae6903adae",
   "metadata": {},
   "outputs": [
    {
     "name": "stdout",
     "output_type": "stream",
     "text": [
      "district_df is intact!\n"
     ]
    }
   ],
   "source": [
    "# проверка целостности\n",
    "\n",
    "check_df_integrity(district_initial_shape, district_df, 'district_df')"
   ]
  },
  {
   "cell_type": "code",
   "execution_count": 329,
   "id": "587d97c2-69dd-4efd-b675-2ca83765c1fb",
   "metadata": {},
   "outputs": [
    {
     "name": "stdout",
     "output_type": "stream",
     "text": [
      "Saved cleaned DataFrame to data/cleaned_data/district_df_clean.csv\n"
     ]
    }
   ],
   "source": [
    "# Сохраняем очищенные данные в csv\n",
    "\n",
    "df_to_csv(district_df, 'district_df')"
   ]
  },
  {
   "cell_type": "code",
   "execution_count": 333,
   "id": "f1fff2dc-4667-4a64-92fa-19863bbf2500",
   "metadata": {},
   "outputs": [
    {
     "name": "stdout",
     "output_type": "stream",
     "text": [
      "Raw and cleaned files count is equal.\n"
     ]
    }
   ],
   "source": [
    "# В конце сверимся с количеством оригинальных файлов с данными и файлов с очищенными данными\n",
    "\n",
    "raw_count = len(os.listdir('data/raw_data'))\n",
    "cleaned_count = len(os.listdir('data/cleaned_data'))\n",
    "\n",
    "if raw_count != cleaned_count:\n",
    "    raise ValueError(f'''Cleaned files count differs from raw files count!\n",
    "Raw files: {raw_count}\n",
    "Cleaned files: {cleaned_count}\n",
    "''')\n",
    "\n",
    "else:\n",
    "    print('Raw and cleaned files count is equal.')"
   ]
  }
 ],
 "metadata": {
  "kernelspec": {
   "display_name": "Python 3.12 (Updated)",
   "language": "python",
   "name": "python312"
  },
  "language_info": {
   "codemirror_mode": {
    "name": "ipython",
    "version": 3
   },
   "file_extension": ".py",
   "mimetype": "text/x-python",
   "name": "python",
   "nbconvert_exporter": "python",
   "pygments_lexer": "ipython3",
   "version": "3.12.9"
  }
 },
 "nbformat": 4,
 "nbformat_minor": 5
}
