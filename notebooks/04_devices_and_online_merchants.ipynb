{
 "cells": [
  {
   "cell_type": "code",
   "execution_count": 2,
   "id": "c30e67d7-4a3c-4d29-9477-ab02b02e86fc",
   "metadata": {},
   "outputs": [],
   "source": [
    "import pandas as pd\n",
    "import numpy as np\n",
    "import matplotlib.pyplot as plt\n",
    "import seaborn as sns\n",
    "import os\n",
    "import re\n",
    "import geopandas as gpd\n",
    "import random\n",
    "from scipy.stats import truncnorm, norm\n",
    "from collections import defaultdict\n",
    "import math\n",
    "import sys\n",
    "import importlib"
   ]
  },
  {
   "cell_type": "code",
   "execution_count": 3,
   "id": "a6dc00ed-f62f-4871-8e41-47c85bc4c8a9",
   "metadata": {},
   "outputs": [],
   "source": [
    "# добавляем папку modules в sys.path, чтобы импортировать функции созданные ранее\n",
    "\n",
    "sys.path.append(os.path.abspath(os.path.join(\"..\", \"modules\")))"
   ]
  },
  {
   "cell_type": "code",
   "execution_count": 4,
   "id": "296320a2-1a10-43a4-af5c-eca01d7d7699",
   "metadata": {},
   "outputs": [],
   "source": [
    "# Функции сохранения и загрузки сессии (сохранять и загружать переменные, функции и т.д.)\n",
    "\n",
    "# import session.session_handler as session_h\n",
    "# importlib.reload(session_h)"
   ]
  },
  {
   "cell_type": "code",
   "execution_count": 5,
   "id": "6c6c9867-8d32-4b4d-9923-2b2f5711bfc8",
   "metadata": {},
   "outputs": [],
   "source": [
    "np.set_printoptions(suppress=True)\n",
    "pd.set_option('display.max_columns', None)"
   ]
  },
  {
   "cell_type": "code",
   "execution_count": 6,
   "id": "122df125-874a-4cc5-a123-74aca56e5baf",
   "metadata": {},
   "outputs": [
    {
     "data": {
      "text/plain": [
       "'C:\\\\Users\\\\iaros\\\\My_documents\\\\Education\\\\projects\\\\fraud_detection_01\\\\notebooks'"
      ]
     },
     "execution_count": 6,
     "metadata": {},
     "output_type": "execute_result"
    }
   ],
   "source": [
    "os.getcwd()"
   ]
  },
  {
   "cell_type": "code",
   "execution_count": 7,
   "id": "71fc90ba-44d1-4bc6-b2a3-edda53a9123b",
   "metadata": {},
   "outputs": [],
   "source": [
    "os.chdir(\"..\")"
   ]
  },
  {
   "cell_type": "code",
   "execution_count": 8,
   "id": "4c92f5c7-1b75-4e1b-97a1-34a61031d901",
   "metadata": {},
   "outputs": [
    {
     "data": {
      "text/plain": [
       "'C:\\\\Users\\\\iaros\\\\My_documents\\\\Education\\\\projects\\\\fraud_detection_01'"
      ]
     },
     "execution_count": 8,
     "metadata": {},
     "output_type": "execute_result"
    }
   ],
   "source": [
    "os.getcwd()"
   ]
  },
  {
   "cell_type": "code",
   "execution_count": 9,
   "id": "6f14bf80-fa06-4e9b-9343-1c87e9ccf839",
   "metadata": {},
   "outputs": [],
   "source": [
    "category_stats = pd.read_csv(\"./data/cleaned_data/category_stats.csv\")\n",
    "fraud_kaggle = pd.read_csv(\"data/raw_data/fraudTest.csv.zip\", compression=\"zip\")"
   ]
  },
  {
   "cell_type": "markdown",
   "id": "ea422774-17db-4055-ad70-1e9c5ec3e4b1",
   "metadata": {},
   "source": [
    "# Генерации девайсов и id онлайн мерчантов"
   ]
  },
  {
   "cell_type": "markdown",
   "id": "8e78ce8a-1f33-4b1b-8c50-4b3376d2f2f6",
   "metadata": {},
   "source": [
    "**Загрузка данных:**\n",
    "- оффлайн мерчантов\n",
    "- клиентов"
   ]
  },
  {
   "cell_type": "code",
   "execution_count": 10,
   "id": "d3bff253-7d14-483d-81ee-e9a5341b6e3b",
   "metadata": {},
   "outputs": [],
   "source": [
    "offline_merchants = gpd.read_file(\"./data/cleaned_data/offline_merchants_points.gpkg\")\n",
    "clients_with_geo = gpd.read_file(\"./data/cleaned_data/clients_with_geo.gpkg\") "
   ]
  },
  {
   "cell_type": "markdown",
   "id": "4600ad3d-5d53-4d49-85aa-e2b7aedb15b4",
   "metadata": {},
   "source": [
    "## Сгенерируем id для онлайн мерчантов.\n",
    "Просто, чтобы было чем заполнить поле merchant_id для онлайн покупок"
   ]
  },
  {
   "cell_type": "code",
   "execution_count": 11,
   "id": "d167f3b4-3b59-4956-9dc3-d50e1fbe9225",
   "metadata": {},
   "outputs": [
    {
     "data": {
      "text/plain": [
       "0      6777\n",
       "1      6778\n",
       "2      6779\n",
       "3      6780\n",
       "4      6781\n",
       "       ... \n",
       "195    6972\n",
       "196    6973\n",
       "197    6974\n",
       "198    6975\n",
       "199    6976\n",
       "Length: 200, dtype: int64"
      ]
     },
     "execution_count": 11,
     "metadata": {},
     "output_type": "execute_result"
    }
   ],
   "source": [
    "offline_merch_max_id = int(offline_merchants.merchant_id.max())\n",
    "online_merchant_ids = pd.Series([i for i in range(offline_merch_max_id + 1, offline_merch_max_id + 201)])\n",
    "online_merchant_ids"
   ]
  },
  {
   "cell_type": "code",
   "execution_count": 12,
   "id": "3a8a6342-3583-415b-a654-61095b5a485a",
   "metadata": {},
   "outputs": [],
   "source": [
    "online_merchant_ids.to_csv(\"./data/cleaned_data/online_merchant_ids.csv\", index=False)"
   ]
  },
  {
   "cell_type": "markdown",
   "id": "7c8751de-2cc7-45ec-a3e7-720489af0ed0",
   "metadata": {},
   "source": [
    "# Генерация device-ов\n",
    "Для клиентов и для потенциальных мошенников"
   ]
  },
  {
   "cell_type": "markdown",
   "id": "1dc5d7e2-b094-47b5-ad90-96284318b7e3",
   "metadata": {},
   "source": [
    "## Девайсы клиентов"
   ]
  },
  {
   "cell_type": "code",
   "execution_count": 13,
   "id": "bec844f0-2a1f-41c1-b20f-2691665e8eb9",
   "metadata": {},
   "outputs": [
    {
     "data": {
      "text/html": [
       "<div>\n",
       "<style scoped>\n",
       "    .dataframe tbody tr th:only-of-type {\n",
       "        vertical-align: middle;\n",
       "    }\n",
       "\n",
       "    .dataframe tbody tr th {\n",
       "        vertical-align: top;\n",
       "    }\n",
       "\n",
       "    .dataframe thead th {\n",
       "        text-align: right;\n",
       "    }\n",
       "</style>\n",
       "<table border=\"1\" class=\"dataframe\">\n",
       "  <thead>\n",
       "    <tr style=\"text-align: right;\">\n",
       "      <th></th>\n",
       "      <th>platform</th>\n",
       "      <th>weight</th>\n",
       "      <th>type</th>\n",
       "    </tr>\n",
       "  </thead>\n",
       "  <tbody>\n",
       "    <tr>\n",
       "      <th>0</th>\n",
       "      <td>Android</td>\n",
       "      <td>0.842105</td>\n",
       "      <td>mobile</td>\n",
       "    </tr>\n",
       "    <tr>\n",
       "      <th>1</th>\n",
       "      <td>iOS</td>\n",
       "      <td>0.157895</td>\n",
       "      <td>mobile</td>\n",
       "    </tr>\n",
       "  </tbody>\n",
       "</table>\n",
       "</div>"
      ],
      "text/plain": [
       "  platform    weight    type\n",
       "0  Android  0.842105  mobile\n",
       "1      iOS  0.157895  mobile"
      ]
     },
     "execution_count": 13,
     "metadata": {},
     "output_type": "execute_result"
    }
   ],
   "source": [
    "# проценты использования платформ с мая 2024 по май 2025 по данным https://gs.statcounter.com/os-market-share\n",
    "# Сделаем это весами, для случайного назначения клиентам их платформ(ы)\n",
    "\n",
    "platforms_mobile= pd.DataFrame({\"platform\":[\"Android\", \"iOS\"], \\\n",
    "                              \"weight\":[16, 3], \"type\":[\"mobile\",\"mobile\"]})\n",
    "platforms_mobile[\"weight\"] = platforms_mobile.weight.div(platforms_mobile.weight.sum())\n",
    "platforms_mobile"
   ]
  },
  {
   "cell_type": "code",
   "execution_count": 14,
   "id": "7ea7e383-e88e-4fe3-84a0-9fd3240cf107",
   "metadata": {},
   "outputs": [
    {
     "data": {
      "text/html": [
       "<div>\n",
       "<style scoped>\n",
       "    .dataframe tbody tr th:only-of-type {\n",
       "        vertical-align: middle;\n",
       "    }\n",
       "\n",
       "    .dataframe tbody tr th {\n",
       "        vertical-align: top;\n",
       "    }\n",
       "\n",
       "    .dataframe thead th {\n",
       "        text-align: right;\n",
       "    }\n",
       "</style>\n",
       "<table border=\"1\" class=\"dataframe\">\n",
       "  <thead>\n",
       "    <tr style=\"text-align: right;\">\n",
       "      <th></th>\n",
       "      <th>platform</th>\n",
       "      <th>weight</th>\n",
       "      <th>type</th>\n",
       "    </tr>\n",
       "  </thead>\n",
       "  <tbody>\n",
       "    <tr>\n",
       "      <th>0</th>\n",
       "      <td>Windows</td>\n",
       "      <td>0.684211</td>\n",
       "      <td>desktop</td>\n",
       "    </tr>\n",
       "    <tr>\n",
       "      <th>1</th>\n",
       "      <td>macOS</td>\n",
       "      <td>0.210526</td>\n",
       "      <td>desktop</td>\n",
       "    </tr>\n",
       "    <tr>\n",
       "      <th>2</th>\n",
       "      <td>Linux</td>\n",
       "      <td>0.105263</td>\n",
       "      <td>desktop</td>\n",
       "    </tr>\n",
       "  </tbody>\n",
       "</table>\n",
       "</div>"
      ],
      "text/plain": [
       "  platform    weight     type\n",
       "0  Windows  0.684211  desktop\n",
       "1    macOS  0.210526  desktop\n",
       "2    Linux  0.105263  desktop"
      ]
     },
     "execution_count": 14,
     "metadata": {},
     "output_type": "execute_result"
    }
   ],
   "source": [
    "platforms_desktop = pd.DataFrame({\"platform\":[\"Windows\", \"macOS\", \"Linux\"], \\\n",
    "                              \"weight\":[26, 8, 4], \"type\":[\"desktop\",\"desktop\",\"desktop\"]})\n",
    "platforms_desktop[\"weight\"] = platforms_desktop.weight.div(platforms_desktop.weight.sum())\n",
    "platforms_desktop"
   ]
  },
  {
   "cell_type": "code",
   "execution_count": 15,
   "id": "0a403c12-014d-484a-b401-d2f34bac998d",
   "metadata": {},
   "outputs": [],
   "source": [
    "client_devices = clients_with_geo[[\"client_id\"]].copy()"
   ]
  },
  {
   "cell_type": "code",
   "execution_count": 16,
   "id": "5ff1f1d4-a43b-4f07-aacb-509db6244a79",
   "metadata": {},
   "outputs": [],
   "source": [
    "client_devices[\"platform\"] = \"temp_value\"\n",
    "client_devices[\"device_id\"] = 0"
   ]
  },
  {
   "cell_type": "code",
   "execution_count": 17,
   "id": "968ddfda-1e74-42de-9a73-c3aa2db01e30",
   "metadata": {},
   "outputs": [],
   "source": [
    "# добавим еще по записи на каждого клиента. Т.к. максимальное количество девайсов - 2.\n",
    "# Потом просто у кого не будет второго девайса, те записи будут удалены\n",
    "\n",
    "client_devices = pd.concat([client_devices, client_devices], ignore_index=True)"
   ]
  },
  {
   "cell_type": "code",
   "execution_count": 18,
   "id": "4f689c05-3f24-443d-999c-dde63f7ae63d",
   "metadata": {},
   "outputs": [
    {
     "data": {
      "text/plain": [
       "(10738, 3)"
      ]
     },
     "execution_count": 18,
     "metadata": {},
     "output_type": "execute_result"
    }
   ],
   "source": [
    "client_devices.shape"
   ]
  },
  {
   "cell_type": "code",
   "execution_count": 19,
   "id": "e9c4ba8d-6d01-40fd-a9b4-c9d949b8ce1f",
   "metadata": {},
   "outputs": [],
   "source": [
    "# назначение платформ клиентам. \n",
    "# Клиент может иметь 1 или 2 платформы: мобильную и ПК или какую-то одну из них. \n",
    "# Это, конечно же упрощение. Но для демонтсрации антифрод-правил связанных с девайсами, думаю достаточно.\n",
    "\n",
    "\n",
    "# id для девайса. Это будет своего рода уникальность этого девайса среди других, своего рода фингерпринт.\n",
    "device_id = 1\n",
    "\n",
    "for _, row in clients_with_geo.iterrows():\n",
    "    client_id = row[\"client_id\"]\n",
    "    \n",
    "    # если случайное float число меньше или равно 0.8, то у клиента будет два девайса.\n",
    "    # Т.е. примерно 80% клиентов будут с двумя девайсами\n",
    "    device_rand_value = np.random.uniform(0,1)\n",
    "    \n",
    "    if device_rand_value <= 0.8:\n",
    "        client_subset = client_devices.loc[client_devices.client_id == client_id]\n",
    "        i = 0\n",
    "        for lab, row_2 in client_subset.iterrows():\n",
    "            if i == 0:\n",
    "                sample_mobile = platforms_mobile[\"platform\"].sample(n=1, weights=platforms_mobile.weight).iloc[0]\n",
    "                client_devices.loc[lab, [\"platform\", \"device_id\"]] = (sample_mobile, device_id)\n",
    "                device_id += 1\n",
    "                i += 1\n",
    "            else:\n",
    "                sample_desktop = platforms_desktop[\"platform\"].sample(n=1, weights=platforms_desktop.weight).iloc[0]\n",
    "                client_devices.loc[lab, [\"platform\", \"device_id\"]] = (sample_desktop, device_id)\n",
    "                device_id += 1\n",
    "                \n",
    "\n",
    "            \n",
    "    # ~15% будут иметь только мобильный девайс\n",
    "    elif device_rand_value > 0.8 and device_rand_value < 0.95:\n",
    "        # берем только первую строчку из client_devices для клиента т.к. девайс будет один\n",
    "        client_subset = client_devices.loc[client_devices.client_id == client_id].head(1)\n",
    "        sample_mobile = platforms_mobile[\"platform\"].sample(n=1, weights=platforms_mobile.weight).iloc[0]\n",
    "        client_devices.loc[client_subset.index, [\"platform\", \"device_id\"]] = (sample_mobile, device_id)\n",
    "        device_id += 1\n",
    "\n",
    "    # и оставшиеся 5% - только ПК.\n",
    "    else:\n",
    "        # берем только первую строчку из client_devices для клиента т.к. девайс будет один\n",
    "        client_subset = client_devices.loc[client_devices.client_id == client_id].head(1)\n",
    "        sample_desktop = platforms_desktop[\"platform\"].sample(n=1, weights=platforms_desktop.weight).iloc[0]\n",
    "        client_devices.loc[client_subset.index, [\"platform\", \"device_id\"]] = (sample_desktop, device_id)\n",
    "        device_id += 1"
   ]
  },
  {
   "cell_type": "code",
   "execution_count": 20,
   "id": "3c2d563f-a70a-4031-b3fa-a90921bb3594",
   "metadata": {},
   "outputs": [
    {
     "data": {
      "text/html": [
       "<div>\n",
       "<style scoped>\n",
       "    .dataframe tbody tr th:only-of-type {\n",
       "        vertical-align: middle;\n",
       "    }\n",
       "\n",
       "    .dataframe tbody tr th {\n",
       "        vertical-align: top;\n",
       "    }\n",
       "\n",
       "    .dataframe thead th {\n",
       "        text-align: right;\n",
       "    }\n",
       "</style>\n",
       "<table border=\"1\" class=\"dataframe\">\n",
       "  <thead>\n",
       "    <tr style=\"text-align: right;\">\n",
       "      <th></th>\n",
       "      <th>client_id</th>\n",
       "      <th>platform</th>\n",
       "      <th>device_id</th>\n",
       "    </tr>\n",
       "  </thead>\n",
       "  <tbody>\n",
       "    <tr>\n",
       "      <th>0</th>\n",
       "      <td>1</td>\n",
       "      <td>Android</td>\n",
       "      <td>1</td>\n",
       "    </tr>\n",
       "    <tr>\n",
       "      <th>1</th>\n",
       "      <td>2</td>\n",
       "      <td>Android</td>\n",
       "      <td>3</td>\n",
       "    </tr>\n",
       "    <tr>\n",
       "      <th>2</th>\n",
       "      <td>3</td>\n",
       "      <td>Android</td>\n",
       "      <td>4</td>\n",
       "    </tr>\n",
       "    <tr>\n",
       "      <th>3</th>\n",
       "      <td>4</td>\n",
       "      <td>iOS</td>\n",
       "      <td>5</td>\n",
       "    </tr>\n",
       "    <tr>\n",
       "      <th>4</th>\n",
       "      <td>5</td>\n",
       "      <td>Android</td>\n",
       "      <td>7</td>\n",
       "    </tr>\n",
       "  </tbody>\n",
       "</table>\n",
       "</div>"
      ],
      "text/plain": [
       "   client_id platform  device_id\n",
       "0          1  Android          1\n",
       "1          2  Android          3\n",
       "2          3  Android          4\n",
       "3          4      iOS          5\n",
       "4          5  Android          7"
      ]
     },
     "execution_count": 20,
     "metadata": {},
     "output_type": "execute_result"
    }
   ],
   "source": [
    "client_devices.head()"
   ]
  },
  {
   "cell_type": "code",
   "execution_count": 21,
   "id": "ceb85393-9c5b-42fd-bc99-47372e324874",
   "metadata": {},
   "outputs": [],
   "source": [
    "# client_devices[[\"client_id\",\"platform\"]].value_counts().reset_index()#.query(\"count == 2\").client_id.value_counts()"
   ]
  },
  {
   "cell_type": "code",
   "execution_count": 22,
   "id": "8f8fe46d-4ac1-45d6-be7c-dbca6b998e97",
   "metadata": {},
   "outputs": [
    {
     "data": {
      "text/plain": [
       "0.20264481281430433"
      ]
     },
     "execution_count": 22,
     "metadata": {},
     "output_type": "execute_result"
    }
   ],
   "source": [
    "# клиенты с одним девайсом\n",
    "\n",
    "one_device_clients = client_devices.query(\"platform == 'temp_value'\").client_id\n",
    "one_device_clients.shape[0] /  client_devices.client_id.nunique()"
   ]
  },
  {
   "cell_type": "code",
   "execution_count": 23,
   "id": "f9de763f-fad1-4fd8-8ae9-44e9d5a33398",
   "metadata": {},
   "outputs": [
    {
     "data": {
      "text/plain": [
       "0.15310113615198362"
      ]
     },
     "execution_count": 23,
     "metadata": {},
     "output_type": "execute_result"
    }
   ],
   "source": [
    "# клиенты только с мобильным девайсом\n",
    "\n",
    "mobile_only_clients = client_devices[(client_devices.client_id.isin(one_device_clients)) \\\n",
    "                                   & (client_devices.platform.isin(platforms_mobile.platform))]\n",
    "mobile_only_clients.shape[0] /  client_devices.client_id.nunique()"
   ]
  },
  {
   "cell_type": "code",
   "execution_count": 24,
   "id": "56ae52f5-2734-428b-ac72-1fd2191238f9",
   "metadata": {},
   "outputs": [
    {
     "data": {
      "text/plain": [
       "0.04954367666232073"
      ]
     },
     "execution_count": 24,
     "metadata": {},
     "output_type": "execute_result"
    }
   ],
   "source": [
    "# клиенты только с десктопным девайсом\n",
    "\n",
    "desktop_only_clients = client_devices[(client_devices.client_id.isin(one_device_clients)) \\\n",
    "                                   & (client_devices.platform.isin(platforms_desktop.platform))]\n",
    "desktop_only_clients.shape[0] /  client_devices.client_id.nunique()"
   ]
  },
  {
   "cell_type": "code",
   "execution_count": 25,
   "id": "8f8dd3d0-9a1c-491e-b53a-a975bf820eaa",
   "metadata": {},
   "outputs": [],
   "source": [
    "client_devices = client_devices.query(\"platform != 'temp_value'\").reset_index(drop=True).copy()"
   ]
  },
  {
   "cell_type": "code",
   "execution_count": 26,
   "id": "b7befdb9-25b5-4395-a3b3-e70cb230c0fb",
   "metadata": {},
   "outputs": [
    {
     "data": {
      "text/plain": [
       "platform\n",
       "Android    0.444456\n",
       "Windows    0.325078\n",
       "macOS      0.094301\n",
       "iOS        0.084352\n",
       "Linux      0.051813\n",
       "Name: proportion, dtype: float64"
      ]
     },
     "execution_count": 26,
     "metadata": {},
     "output_type": "execute_result"
    }
   ],
   "source": [
    "# доли платформ\n",
    "\n",
    "client_devices.platform.value_counts(normalize=True)"
   ]
  },
  {
   "cell_type": "code",
   "execution_count": 27,
   "id": "73b9b0b3-5b3a-456a-83be-e4abd6c969ba",
   "metadata": {},
   "outputs": [
    {
     "name": "stdout",
     "output_type": "stream",
     "text": [
      "All device ids are unique\n"
     ]
    }
   ],
   "source": [
    "# проверка что все device_id уникальны\n",
    "\n",
    "if client_devices.device_id.nunique() != client_devices.shape[0]:\n",
    "    raise ValueError(f\"\"\"Device ids are not unique!\n",
    "Devices count: {client_devices.shape[0]}\n",
    "Unique device ids: {client_devices.device_id.nunique()}\"\"\")\n",
    "\n",
    "else:\n",
    "    print(\"All device ids are unique\")"
   ]
  },
  {
   "cell_type": "markdown",
   "id": "4af331e2-15a4-40d3-ac9b-8828b3293b4b",
   "metadata": {},
   "source": [
    "**Выгрузка клиентских девайсов в csv**"
   ]
  },
  {
   "cell_type": "code",
   "execution_count": 28,
   "id": "bec759f6-1819-4a76-bbc6-eff171781e4f",
   "metadata": {},
   "outputs": [],
   "source": [
    "client_devices.to_csv(\"./data/cleaned_data/client_devices.csv\", index=False)"
   ]
  },
  {
   "cell_type": "markdown",
   "id": "c9338db8-abf2-41b7-92d9-adc7e1ac1601",
   "metadata": {},
   "source": [
    "## Девайсы мошенников"
   ]
  },
  {
   "cell_type": "code",
   "execution_count": 29,
   "id": "3a4ae620-fca9-480f-8b41-25af67495af4",
   "metadata": {},
   "outputs": [
    {
     "data": {
      "text/html": [
       "<div>\n",
       "<style scoped>\n",
       "    .dataframe tbody tr th:only-of-type {\n",
       "        vertical-align: middle;\n",
       "    }\n",
       "\n",
       "    .dataframe tbody tr th {\n",
       "        vertical-align: top;\n",
       "    }\n",
       "\n",
       "    .dataframe thead th {\n",
       "        text-align: right;\n",
       "    }\n",
       "</style>\n",
       "<table border=\"1\" class=\"dataframe\">\n",
       "  <thead>\n",
       "    <tr style=\"text-align: right;\">\n",
       "      <th></th>\n",
       "      <th>platform</th>\n",
       "      <th>weight</th>\n",
       "      <th>type</th>\n",
       "    </tr>\n",
       "  </thead>\n",
       "  <tbody>\n",
       "    <tr>\n",
       "      <th>0</th>\n",
       "      <td>Windows</td>\n",
       "      <td>0.60</td>\n",
       "      <td>desktop</td>\n",
       "    </tr>\n",
       "    <tr>\n",
       "      <th>1</th>\n",
       "      <td>macOS</td>\n",
       "      <td>0.08</td>\n",
       "      <td>desktop</td>\n",
       "    </tr>\n",
       "    <tr>\n",
       "      <th>2</th>\n",
       "      <td>Linux</td>\n",
       "      <td>0.02</td>\n",
       "      <td>desktop</td>\n",
       "    </tr>\n",
       "    <tr>\n",
       "      <th>3</th>\n",
       "      <td>Android</td>\n",
       "      <td>0.25</td>\n",
       "      <td>mobile</td>\n",
       "    </tr>\n",
       "    <tr>\n",
       "      <th>4</th>\n",
       "      <td>iOS</td>\n",
       "      <td>0.05</td>\n",
       "      <td>mobile</td>\n",
       "    </tr>\n",
       "  </tbody>\n",
       "</table>\n",
       "</div>"
      ],
      "text/plain": [
       "  platform  weight     type\n",
       "0  Windows    0.60  desktop\n",
       "1    macOS    0.08  desktop\n",
       "2    Linux    0.02  desktop\n",
       "3  Android    0.25   mobile\n",
       "4      iOS    0.05   mobile"
      ]
     },
     "execution_count": 29,
     "metadata": {},
     "output_type": "execute_result"
    }
   ],
   "source": [
    "# назначим вероятности для девайсов мошенников\n",
    "\n",
    "platforms_fraud = pd.DataFrame({\"platform\":[\"Windows\", \"macOS\", \"Linux\",\"Android\", \"iOS\"], \\\n",
    "                              \"weight\":[60, 8, 2, 25, 5], \"type\":[\"desktop\",\"desktop\",\"desktop\",\"mobile\",\"mobile\"]})\n",
    "platforms_fraud[\"weight\"] = platforms_fraud.weight.div(platforms_fraud.weight.sum())\n",
    "platforms_fraud"
   ]
  },
  {
   "cell_type": "code",
   "execution_count": 30,
   "id": "ec26af99-599a-4779-b15b-fab6d4eb45c7",
   "metadata": {},
   "outputs": [],
   "source": [
    "# стартовый device_id для фрод девайсов\n",
    "\n",
    "fraud_device_id = client_devices.device_id.max() + 1"
   ]
  },
  {
   "cell_type": "code",
   "execution_count": 31,
   "id": "eb42e267-8071-402d-80c9-81e37281b89d",
   "metadata": {},
   "outputs": [
    {
     "data": {
      "text/plain": [
       "5369"
      ]
     },
     "execution_count": 31,
     "metadata": {},
     "output_type": "execute_result"
    }
   ],
   "source": [
    "clients_count = clients_with_geo.shape[0]\n",
    "clients_count"
   ]
  },
  {
   "cell_type": "code",
   "execution_count": 32,
   "id": "5671130e-bd48-4891-b09d-172d0c0bd367",
   "metadata": {},
   "outputs": [],
   "source": [
    "# количество девайсов для фрода. Прикидывая что будет сгенерировано около 1 миллиона транзакций и примерно 1% из них будут фродом\n",
    "# при этом около 0.5% будут онлайн. Т.е. будет фигурировать посторонний девайс. Конечно, возможно, мошеннический девайс будет повторяться\n",
    "# в общем, создадим 5500 уникальных девайсов\n",
    "\n",
    "fraud_dev_count = 5500"
   ]
  },
  {
   "cell_type": "code",
   "execution_count": 33,
   "id": "c7ea8df4-4db0-43dd-b374-e6d48cdce325",
   "metadata": {},
   "outputs": [],
   "source": [
    "# Начнем генерацию фрод девайсов с создания массива их id, которые отличаются от клиентских\n",
    "\n",
    "fraud_devices = pd.DataFrame({\"device_id\":list(range(fraud_device_id, fraud_device_id + fraud_dev_count))})"
   ]
  },
  {
   "cell_type": "code",
   "execution_count": 34,
   "id": "a90314d1-edf4-4625-8df0-91dbdcd5ef20",
   "metadata": {},
   "outputs": [],
   "source": [
    "fraud_devices[\"platform\"] = \"temp_value\""
   ]
  },
  {
   "cell_type": "code",
   "execution_count": 35,
   "id": "4e5676b0-2543-4e51-852e-d65e993bf39d",
   "metadata": {},
   "outputs": [
    {
     "data": {
      "text/plain": [
       "np.int64(9650)"
      ]
     },
     "execution_count": 35,
     "metadata": {},
     "output_type": "execute_result"
    }
   ],
   "source": [
    "client_devices.device_id.max()"
   ]
  },
  {
   "cell_type": "code",
   "execution_count": 36,
   "id": "c03623af-27f2-40ab-a955-f4bd43b3699e",
   "metadata": {},
   "outputs": [
    {
     "data": {
      "text/html": [
       "<div>\n",
       "<style scoped>\n",
       "    .dataframe tbody tr th:only-of-type {\n",
       "        vertical-align: middle;\n",
       "    }\n",
       "\n",
       "    .dataframe tbody tr th {\n",
       "        vertical-align: top;\n",
       "    }\n",
       "\n",
       "    .dataframe thead th {\n",
       "        text-align: right;\n",
       "    }\n",
       "</style>\n",
       "<table border=\"1\" class=\"dataframe\">\n",
       "  <thead>\n",
       "    <tr style=\"text-align: right;\">\n",
       "      <th></th>\n",
       "      <th>device_id</th>\n",
       "      <th>platform</th>\n",
       "    </tr>\n",
       "  </thead>\n",
       "  <tbody>\n",
       "    <tr>\n",
       "      <th>0</th>\n",
       "      <td>9651</td>\n",
       "      <td>temp_value</td>\n",
       "    </tr>\n",
       "    <tr>\n",
       "      <th>1</th>\n",
       "      <td>9652</td>\n",
       "      <td>temp_value</td>\n",
       "    </tr>\n",
       "    <tr>\n",
       "      <th>2</th>\n",
       "      <td>9653</td>\n",
       "      <td>temp_value</td>\n",
       "    </tr>\n",
       "    <tr>\n",
       "      <th>3</th>\n",
       "      <td>9654</td>\n",
       "      <td>temp_value</td>\n",
       "    </tr>\n",
       "    <tr>\n",
       "      <th>4</th>\n",
       "      <td>9655</td>\n",
       "      <td>temp_value</td>\n",
       "    </tr>\n",
       "    <tr>\n",
       "      <th>5495</th>\n",
       "      <td>15146</td>\n",
       "      <td>temp_value</td>\n",
       "    </tr>\n",
       "    <tr>\n",
       "      <th>5496</th>\n",
       "      <td>15147</td>\n",
       "      <td>temp_value</td>\n",
       "    </tr>\n",
       "    <tr>\n",
       "      <th>5497</th>\n",
       "      <td>15148</td>\n",
       "      <td>temp_value</td>\n",
       "    </tr>\n",
       "    <tr>\n",
       "      <th>5498</th>\n",
       "      <td>15149</td>\n",
       "      <td>temp_value</td>\n",
       "    </tr>\n",
       "    <tr>\n",
       "      <th>5499</th>\n",
       "      <td>15150</td>\n",
       "      <td>temp_value</td>\n",
       "    </tr>\n",
       "  </tbody>\n",
       "</table>\n",
       "</div>"
      ],
      "text/plain": [
       "      device_id    platform\n",
       "0          9651  temp_value\n",
       "1          9652  temp_value\n",
       "2          9653  temp_value\n",
       "3          9654  temp_value\n",
       "4          9655  temp_value\n",
       "5495      15146  temp_value\n",
       "5496      15147  temp_value\n",
       "5497      15148  temp_value\n",
       "5498      15149  temp_value\n",
       "5499      15150  temp_value"
      ]
     },
     "execution_count": 36,
     "metadata": {},
     "output_type": "execute_result"
    }
   ],
   "source": [
    "# первые и последние 5 записей\n",
    "fraud_devices.iloc[np.r_[0:5,-5:0]]"
   ]
  },
  {
   "cell_type": "code",
   "execution_count": 37,
   "id": "614be005-9fd4-41d5-979c-3d6e90c8090b",
   "metadata": {},
   "outputs": [],
   "source": [
    "# сэмплируем платфрому для каждого device_id\n",
    "\n",
    "for row in fraud_devices.itertuples():\n",
    "    sample_platform = platforms_fraud.platform.sample(n=1, weights=platforms_fraud.weight).iloc[0]\n",
    "    fraud_devices.loc[row.Index, \"platform\"] = sample_platform\n",
    "    "
   ]
  },
  {
   "cell_type": "code",
   "execution_count": 38,
   "id": "3ecf8e53-4dee-4500-8d99-5984b595ea62",
   "metadata": {},
   "outputs": [
    {
     "data": {
      "text/html": [
       "<div>\n",
       "<style scoped>\n",
       "    .dataframe tbody tr th:only-of-type {\n",
       "        vertical-align: middle;\n",
       "    }\n",
       "\n",
       "    .dataframe tbody tr th {\n",
       "        vertical-align: top;\n",
       "    }\n",
       "\n",
       "    .dataframe thead th {\n",
       "        text-align: right;\n",
       "    }\n",
       "</style>\n",
       "<table border=\"1\" class=\"dataframe\">\n",
       "  <thead>\n",
       "    <tr style=\"text-align: right;\">\n",
       "      <th></th>\n",
       "      <th>device_id</th>\n",
       "      <th>platform</th>\n",
       "    </tr>\n",
       "  </thead>\n",
       "  <tbody>\n",
       "    <tr>\n",
       "      <th>0</th>\n",
       "      <td>9651</td>\n",
       "      <td>Windows</td>\n",
       "    </tr>\n",
       "    <tr>\n",
       "      <th>1</th>\n",
       "      <td>9652</td>\n",
       "      <td>Windows</td>\n",
       "    </tr>\n",
       "    <tr>\n",
       "      <th>2</th>\n",
       "      <td>9653</td>\n",
       "      <td>Windows</td>\n",
       "    </tr>\n",
       "    <tr>\n",
       "      <th>3</th>\n",
       "      <td>9654</td>\n",
       "      <td>Windows</td>\n",
       "    </tr>\n",
       "    <tr>\n",
       "      <th>4</th>\n",
       "      <td>9655</td>\n",
       "      <td>macOS</td>\n",
       "    </tr>\n",
       "  </tbody>\n",
       "</table>\n",
       "</div>"
      ],
      "text/plain": [
       "   device_id platform\n",
       "0       9651  Windows\n",
       "1       9652  Windows\n",
       "2       9653  Windows\n",
       "3       9654  Windows\n",
       "4       9655    macOS"
      ]
     },
     "execution_count": 38,
     "metadata": {},
     "output_type": "execute_result"
    }
   ],
   "source": [
    "fraud_devices.head()"
   ]
  },
  {
   "cell_type": "code",
   "execution_count": 39,
   "id": "405a084f-d7a0-42a5-83e0-6670d7de3f48",
   "metadata": {},
   "outputs": [],
   "source": [
    "assert fraud_devices.device_id.nunique() == fraud_devices.shape[0], \"There are duplicated device ids for fraud\""
   ]
  },
  {
   "cell_type": "code",
   "execution_count": 40,
   "id": "e091c7ba-87f0-4590-b5f3-7f95519dd699",
   "metadata": {
    "scrolled": true
   },
   "outputs": [
    {
     "data": {
      "text/html": [
       "<div>\n",
       "<style scoped>\n",
       "    .dataframe tbody tr th:only-of-type {\n",
       "        vertical-align: middle;\n",
       "    }\n",
       "\n",
       "    .dataframe tbody tr th {\n",
       "        vertical-align: top;\n",
       "    }\n",
       "\n",
       "    .dataframe thead th {\n",
       "        text-align: right;\n",
       "    }\n",
       "</style>\n",
       "<table border=\"1\" class=\"dataframe\">\n",
       "  <thead>\n",
       "    <tr style=\"text-align: right;\">\n",
       "      <th></th>\n",
       "      <th>platform</th>\n",
       "      <th>weight</th>\n",
       "      <th>type</th>\n",
       "      <th>proportion</th>\n",
       "    </tr>\n",
       "  </thead>\n",
       "  <tbody>\n",
       "    <tr>\n",
       "      <th>0</th>\n",
       "      <td>Windows</td>\n",
       "      <td>0.60</td>\n",
       "      <td>desktop</td>\n",
       "      <td>0.60</td>\n",
       "    </tr>\n",
       "    <tr>\n",
       "      <th>1</th>\n",
       "      <td>macOS</td>\n",
       "      <td>0.08</td>\n",
       "      <td>desktop</td>\n",
       "      <td>0.08</td>\n",
       "    </tr>\n",
       "    <tr>\n",
       "      <th>2</th>\n",
       "      <td>Linux</td>\n",
       "      <td>0.02</td>\n",
       "      <td>desktop</td>\n",
       "      <td>0.02</td>\n",
       "    </tr>\n",
       "    <tr>\n",
       "      <th>3</th>\n",
       "      <td>Android</td>\n",
       "      <td>0.25</td>\n",
       "      <td>mobile</td>\n",
       "      <td>0.26</td>\n",
       "    </tr>\n",
       "    <tr>\n",
       "      <th>4</th>\n",
       "      <td>iOS</td>\n",
       "      <td>0.05</td>\n",
       "      <td>mobile</td>\n",
       "      <td>0.05</td>\n",
       "    </tr>\n",
       "  </tbody>\n",
       "</table>\n",
       "</div>"
      ],
      "text/plain": [
       "  platform  weight     type  proportion\n",
       "0  Windows    0.60  desktop        0.60\n",
       "1    macOS    0.08  desktop        0.08\n",
       "2    Linux    0.02  desktop        0.02\n",
       "3  Android    0.25   mobile        0.26\n",
       "4      iOS    0.05   mobile        0.05"
      ]
     },
     "execution_count": 40,
     "metadata": {},
     "output_type": "execute_result"
    }
   ],
   "source": [
    "# проверим пропорции полученного результата\n",
    "\n",
    "fraud_devices_result = fraud_devices.platform.value_counts(normalize=True).reset_index().round({\"proportion\":2})\n",
    "platforms_fraud.merge(fraud_devices_result, on=\"platform\")"
   ]
  },
  {
   "cell_type": "markdown",
   "id": "31f0fca7-6f4a-4cb4-bcf2-7e6f7f1d4d83",
   "metadata": {},
   "source": [
    "**Выгрузка девайсов мошенников в csv**"
   ]
  },
  {
   "cell_type": "code",
   "execution_count": 41,
   "id": "1f0df5b7-00bf-490b-bc24-c0ea9dfdab76",
   "metadata": {},
   "outputs": [],
   "source": [
    "fraud_devices.to_csv(\"./data/cleaned_data/fraud_devices.csv\", index=False)"
   ]
  }
 ],
 "metadata": {
  "kernelspec": {
   "display_name": "Python 3 (ipykernel)",
   "language": "python",
   "name": "python3"
  },
  "language_info": {
   "codemirror_mode": {
    "name": "ipython",
    "version": 3
   },
   "file_extension": ".py",
   "mimetype": "text/x-python",
   "name": "python",
   "nbconvert_exporter": "python",
   "pygments_lexer": "ipython3",
   "version": "3.13.3"
  }
 },
 "nbformat": 4,
 "nbformat_minor": 5
}
