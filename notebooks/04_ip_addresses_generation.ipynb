{
 "cells": [
  {
   "cell_type": "code",
   "execution_count": 1,
   "id": "c30e67d7-4a3c-4d29-9477-ab02b02e86fc",
   "metadata": {},
   "outputs": [],
   "source": [
    "import pandas as pd\n",
    "import numpy as np\n",
    "import matplotlib.pyplot as plt\n",
    "import seaborn as sns\n",
    "import os\n",
    "import re\n",
    "import geopandas as gpd\n",
    "import random\n",
    "import ipaddress"
   ]
  },
  {
   "cell_type": "code",
   "execution_count": 2,
   "id": "6c6c9867-8d32-4b4d-9923-2b2f5711bfc8",
   "metadata": {},
   "outputs": [],
   "source": [
    "np.set_printoptions(suppress=True)\n",
    "pd.set_option('display.max_columns', None)"
   ]
  },
  {
   "cell_type": "code",
   "execution_count": 3,
   "id": "122df125-874a-4cc5-a123-74aca56e5baf",
   "metadata": {},
   "outputs": [
    {
     "data": {
      "text/plain": [
       "'C:\\\\Users\\\\iaros\\\\My_documents\\\\Education\\\\projects\\\\fraud_detection_01\\\\notebooks'"
      ]
     },
     "execution_count": 3,
     "metadata": {},
     "output_type": "execute_result"
    }
   ],
   "source": [
    "os.getcwd()"
   ]
  },
  {
   "cell_type": "code",
   "execution_count": 4,
   "id": "71fc90ba-44d1-4bc6-b2a3-edda53a9123b",
   "metadata": {},
   "outputs": [],
   "source": [
    "os.chdir(\"..\")"
   ]
  },
  {
   "cell_type": "code",
   "execution_count": 5,
   "id": "bbfceaca-a495-446e-8f7c-b7f3aac20cab",
   "metadata": {},
   "outputs": [],
   "source": [
    "clients = pd.read_csv(\"./data/cleaned_data/client_df_clean.csv\")\n",
    "district_ru = pd.read_csv(\"./data/cleaned_data/district_ru.csv\")"
   ]
  },
  {
   "cell_type": "markdown",
   "id": "a33fccd5-8470-4862-8bcc-c3451f536117",
   "metadata": {},
   "source": [
    "# Генерация ip-адресов для клиентов\n",
    "Понадобится для онлайн покупок и, возможно, переводов"
   ]
  },
  {
   "cell_type": "code",
   "execution_count": 6,
   "id": "377b3eca-dc22-4d7a-a4ac-c9ec762b060b",
   "metadata": {},
   "outputs": [
    {
     "data": {
      "text/html": [
       "<div>\n",
       "<style scoped>\n",
       "    .dataframe tbody tr th:only-of-type {\n",
       "        vertical-align: middle;\n",
       "    }\n",
       "\n",
       "    .dataframe tbody tr th {\n",
       "        vertical-align: top;\n",
       "    }\n",
       "\n",
       "    .dataframe thead th {\n",
       "        text-align: right;\n",
       "    }\n",
       "</style>\n",
       "<table border=\"1\" class=\"dataframe\">\n",
       "  <thead>\n",
       "    <tr style=\"text-align: right;\">\n",
       "      <th></th>\n",
       "      <th>client_id</th>\n",
       "      <th>district_id</th>\n",
       "      <th>birth_date</th>\n",
       "      <th>sex</th>\n",
       "      <th>region</th>\n",
       "      <th>area</th>\n",
       "      <th>timezone</th>\n",
       "      <th>lat</th>\n",
       "      <th>lon</th>\n",
       "      <th>population</th>\n",
       "      <th>geometry</th>\n",
       "    </tr>\n",
       "  </thead>\n",
       "  <tbody>\n",
       "    <tr>\n",
       "      <th>0</th>\n",
       "      <td>1</td>\n",
       "      <td>18</td>\n",
       "      <td>1970-12-13</td>\n",
       "      <td>female</td>\n",
       "      <td>Рязанская</td>\n",
       "      <td>Рязань</td>\n",
       "      <td>UTC+3</td>\n",
       "      <td>54.625457</td>\n",
       "      <td>39.735999</td>\n",
       "      <td>525062</td>\n",
       "      <td>POLYGON ((39.5366736 54.6385048, 39.5367682 54...</td>\n",
       "    </tr>\n",
       "    <tr>\n",
       "      <th>1</th>\n",
       "      <td>2</td>\n",
       "      <td>1</td>\n",
       "      <td>1945-02-04</td>\n",
       "      <td>male</td>\n",
       "      <td>Москва</td>\n",
       "      <td>Москва</td>\n",
       "      <td>UTC+3</td>\n",
       "      <td>55.753879</td>\n",
       "      <td>37.620373</td>\n",
       "      <td>11514330</td>\n",
       "      <td>MULTIPOLYGON (((37.290502 55.8019897, 37.29542...</td>\n",
       "    </tr>\n",
       "    <tr>\n",
       "      <th>2</th>\n",
       "      <td>3</td>\n",
       "      <td>1</td>\n",
       "      <td>1940-10-09</td>\n",
       "      <td>female</td>\n",
       "      <td>Москва</td>\n",
       "      <td>Москва</td>\n",
       "      <td>UTC+3</td>\n",
       "      <td>55.753879</td>\n",
       "      <td>37.620373</td>\n",
       "      <td>11514330</td>\n",
       "      <td>MULTIPOLYGON (((37.290502 55.8019897, 37.29542...</td>\n",
       "    </tr>\n",
       "    <tr>\n",
       "      <th>3</th>\n",
       "      <td>4</td>\n",
       "      <td>5</td>\n",
       "      <td>1956-12-01</td>\n",
       "      <td>male</td>\n",
       "      <td>Ростовская</td>\n",
       "      <td>Ростов-на-Дону</td>\n",
       "      <td>UTC+3</td>\n",
       "      <td>47.222436</td>\n",
       "      <td>39.718787</td>\n",
       "      <td>1091544</td>\n",
       "      <td>POLYGON ((39.4709911 47.2048727, 39.4838092 47...</td>\n",
       "    </tr>\n",
       "    <tr>\n",
       "      <th>4</th>\n",
       "      <td>5</td>\n",
       "      <td>5</td>\n",
       "      <td>1960-07-03</td>\n",
       "      <td>female</td>\n",
       "      <td>Ростовская</td>\n",
       "      <td>Ростов-на-Дону</td>\n",
       "      <td>UTC+3</td>\n",
       "      <td>47.222436</td>\n",
       "      <td>39.718787</td>\n",
       "      <td>1091544</td>\n",
       "      <td>POLYGON ((39.4709911 47.2048727, 39.4838092 47...</td>\n",
       "    </tr>\n",
       "  </tbody>\n",
       "</table>\n",
       "</div>"
      ],
      "text/plain": [
       "   client_id  district_id  birth_date     sex      region            area  \\\n",
       "0          1           18  1970-12-13  female   Рязанская          Рязань   \n",
       "1          2            1  1945-02-04    male      Москва          Москва   \n",
       "2          3            1  1940-10-09  female      Москва          Москва   \n",
       "3          4            5  1956-12-01    male  Ростовская  Ростов-на-Дону   \n",
       "4          5            5  1960-07-03  female  Ростовская  Ростов-на-Дону   \n",
       "\n",
       "  timezone        lat        lon  population  \\\n",
       "0    UTC+3  54.625457  39.735999      525062   \n",
       "1    UTC+3  55.753879  37.620373    11514330   \n",
       "2    UTC+3  55.753879  37.620373    11514330   \n",
       "3    UTC+3  47.222436  39.718787     1091544   \n",
       "4    UTC+3  47.222436  39.718787     1091544   \n",
       "\n",
       "                                            geometry  \n",
       "0  POLYGON ((39.5366736 54.6385048, 39.5367682 54...  \n",
       "1  MULTIPOLYGON (((37.290502 55.8019897, 37.29542...  \n",
       "2  MULTIPOLYGON (((37.290502 55.8019897, 37.29542...  \n",
       "3  POLYGON ((39.4709911 47.2048727, 39.4838092 47...  \n",
       "4  POLYGON ((39.4709911 47.2048727, 39.4838092 47...  "
      ]
     },
     "execution_count": 6,
     "metadata": {},
     "output_type": "execute_result"
    }
   ],
   "source": [
    "clients_with_geo = clients.merge(district_ru, left_on=\"district_id\", right_on=\"district_code\").drop(columns=[\"district_code\", \"clients\"])\n",
    "clients_with_geo.head()"
   ]
  },
  {
   "cell_type": "code",
   "execution_count": 7,
   "id": "da9b8be0-d0ee-47f9-bfc2-a761612eff77",
   "metadata": {},
   "outputs": [
    {
     "data": {
      "text/plain": [
       "0               Рязань\n",
       "1               Москва\n",
       "2       Ростов-на-Дону\n",
       "3         Петрозаводск\n",
       "4            Ульяновск\n",
       "            ...       \n",
       "72         Стерлитамак\n",
       "73    Набережные Челны\n",
       "74           Астрахань\n",
       "75            Владимир\n",
       "76         Новокузнецк\n",
       "Length: 77, dtype: object"
      ]
     },
     "execution_count": 7,
     "metadata": {},
     "output_type": "execute_result"
    }
   ],
   "source": [
    "ru_77_cities_series = pd.Series(clients_with_geo.area.unique())\n",
    "ru_77_cities_series"
   ]
  },
  {
   "cell_type": "code",
   "execution_count": 8,
   "id": "4aac090e-c198-43d7-80f4-6db29ffd46e5",
   "metadata": {},
   "outputs": [],
   "source": [
    "ru_ip_ranges = pd.read_csv(\"./data/raw_data/geo/Russia_and_Belarus_IP_ranges\", header=None)"
   ]
  },
  {
   "cell_type": "code",
   "execution_count": 9,
   "id": "ce99cc2f-362e-4d1d-994d-671d2f366135",
   "metadata": {},
   "outputs": [],
   "source": [
    "ru_ip_ranges.columns = [\"range\"]"
   ]
  },
  {
   "cell_type": "code",
   "execution_count": 10,
   "id": "2573c09b-47bf-46da-abc2-a5980ab09e0c",
   "metadata": {},
   "outputs": [],
   "source": [
    "ru_ip_ranges[\"range\"] = ru_ip_ranges[\"range\"].str.strip()"
   ]
  },
  {
   "cell_type": "code",
   "execution_count": 11,
   "id": "7556b2b4-1804-4601-9c19-9ed52b246795",
   "metadata": {},
   "outputs": [
    {
     "data": {
      "text/plain": [
       "(22508, 1)"
      ]
     },
     "execution_count": 11,
     "metadata": {},
     "output_type": "execute_result"
    }
   ],
   "source": [
    "ru_ip_ranges.shape"
   ]
  },
  {
   "cell_type": "code",
   "execution_count": 12,
   "id": "86ca8b98-8aea-4600-8d20-f90e9e859eab",
   "metadata": {},
   "outputs": [
    {
     "data": {
      "text/html": [
       "<div>\n",
       "<style scoped>\n",
       "    .dataframe tbody tr th:only-of-type {\n",
       "        vertical-align: middle;\n",
       "    }\n",
       "\n",
       "    .dataframe tbody tr th {\n",
       "        vertical-align: top;\n",
       "    }\n",
       "\n",
       "    .dataframe thead th {\n",
       "        text-align: right;\n",
       "    }\n",
       "</style>\n",
       "<table border=\"1\" class=\"dataframe\">\n",
       "  <thead>\n",
       "    <tr style=\"text-align: right;\">\n",
       "      <th></th>\n",
       "      <th>range</th>\n",
       "    </tr>\n",
       "  </thead>\n",
       "  <tbody>\n",
       "    <tr>\n",
       "      <th>0</th>\n",
       "      <td>2.60.0.0/19</td>\n",
       "    </tr>\n",
       "    <tr>\n",
       "      <th>1</th>\n",
       "      <td>2.60.32.0/19</td>\n",
       "    </tr>\n",
       "    <tr>\n",
       "      <th>2</th>\n",
       "      <td>2.60.64.0/19</td>\n",
       "    </tr>\n",
       "    <tr>\n",
       "      <th>3</th>\n",
       "      <td>2.60.96.0/19</td>\n",
       "    </tr>\n",
       "    <tr>\n",
       "      <th>4</th>\n",
       "      <td>2.60.128.0/19</td>\n",
       "    </tr>\n",
       "  </tbody>\n",
       "</table>\n",
       "</div>"
      ],
      "text/plain": [
       "           range\n",
       "0    2.60.0.0/19\n",
       "1   2.60.32.0/19\n",
       "2   2.60.64.0/19\n",
       "3   2.60.96.0/19\n",
       "4  2.60.128.0/19"
      ]
     },
     "execution_count": 12,
     "metadata": {},
     "output_type": "execute_result"
    }
   ],
   "source": [
    "ru_ip_ranges.head()"
   ]
  },
  {
   "cell_type": "code",
   "execution_count": 13,
   "id": "7dbe99ec-efa4-456c-85b6-58d3f5db9c2d",
   "metadata": {},
   "outputs": [
    {
     "data": {
      "text/plain": [
       "(50, 1)"
      ]
     },
     "execution_count": 13,
     "metadata": {},
     "output_type": "execute_result"
    }
   ],
   "source": [
    "ru_ip_ranges_50 = ru_ip_ranges[:50].copy()\n",
    "ru_ip_ranges_50.shape"
   ]
  },
  {
   "cell_type": "code",
   "execution_count": 14,
   "id": "b88f80d6-9d8d-4e4a-9509-200b5b468e0c",
   "metadata": {},
   "outputs": [],
   "source": [
    "# функция извлечения возможных ip-адресов из диапазона\n",
    "\n",
    "def get_ips_from_range(ip_range):\n",
    "    unpacked_ips = []\n",
    "    # Создаём объект сети\n",
    "    network = ipaddress.ip_network(ip_range)\n",
    "    \n",
    "    # Вывод всех хостов в сети (исключая сетевой и broadcast-адрес)\n",
    "    for ip in network.hosts():\n",
    "        unpacked_ips.append(str(ip))\n",
    "    return pd.Series(unpacked_ips)"
   ]
  },
  {
   "cell_type": "code",
   "execution_count": 15,
   "id": "7e4011e2-9ebb-4406-a720-656651d43bb5",
   "metadata": {},
   "outputs": [
    {
     "data": {
      "text/plain": [
       "606876"
      ]
     },
     "execution_count": 15,
     "metadata": {},
     "output_type": "execute_result"
    }
   ],
   "source": [
    "# непосредственно извлечение ip-адресов при помощи функции\n",
    "\n",
    "unpacked_ips_glob = pd.concat([get_ips_from_range(ip_range) for ip_range in ru_ip_ranges_50.range.values], ignore_index=True)\n",
    "unpacked_ips_glob.nunique()"
   ]
  },
  {
   "cell_type": "code",
   "execution_count": 16,
   "id": "7b4a83f4-7ea1-41dc-a80d-f8d9968f251a",
   "metadata": {},
   "outputs": [
    {
     "data": {
      "text/plain": [
       "606871    5.8.31.250\n",
       "606872    5.8.31.251\n",
       "606873    5.8.31.252\n",
       "606874    5.8.31.253\n",
       "606875    5.8.31.254\n",
       "dtype: object"
      ]
     },
     "execution_count": 16,
     "metadata": {},
     "output_type": "execute_result"
    }
   ],
   "source": [
    "unpacked_ips_glob.tail()"
   ]
  },
  {
   "cell_type": "markdown",
   "id": "a78b1bcb-be92-46bc-a4af-f288e9716aef",
   "metadata": {},
   "source": [
    "## Присвоение ip клиентам и потенциальным мошенникам"
   ]
  },
  {
   "cell_type": "code",
   "execution_count": 17,
   "id": "2f115950-5f61-43fd-a21d-58369998699b",
   "metadata": {},
   "outputs": [
    {
     "data": {
      "text/html": [
       "<div>\n",
       "<style scoped>\n",
       "    .dataframe tbody tr th:only-of-type {\n",
       "        vertical-align: middle;\n",
       "    }\n",
       "\n",
       "    .dataframe tbody tr th {\n",
       "        vertical-align: top;\n",
       "    }\n",
       "\n",
       "    .dataframe thead th {\n",
       "        text-align: right;\n",
       "    }\n",
       "</style>\n",
       "<table border=\"1\" class=\"dataframe\">\n",
       "  <thead>\n",
       "    <tr style=\"text-align: right;\">\n",
       "      <th></th>\n",
       "      <th>client_id</th>\n",
       "      <th>district_id</th>\n",
       "      <th>birth_date</th>\n",
       "      <th>sex</th>\n",
       "      <th>region</th>\n",
       "      <th>area</th>\n",
       "      <th>timezone</th>\n",
       "      <th>lat</th>\n",
       "      <th>lon</th>\n",
       "      <th>population</th>\n",
       "      <th>geometry</th>\n",
       "    </tr>\n",
       "  </thead>\n",
       "  <tbody>\n",
       "    <tr>\n",
       "      <th>0</th>\n",
       "      <td>1</td>\n",
       "      <td>18</td>\n",
       "      <td>1970-12-13</td>\n",
       "      <td>female</td>\n",
       "      <td>Рязанская</td>\n",
       "      <td>Рязань</td>\n",
       "      <td>UTC+3</td>\n",
       "      <td>54.625457</td>\n",
       "      <td>39.735999</td>\n",
       "      <td>525062</td>\n",
       "      <td>POLYGON ((39.5366736 54.6385048, 39.5367682 54...</td>\n",
       "    </tr>\n",
       "    <tr>\n",
       "      <th>1</th>\n",
       "      <td>2</td>\n",
       "      <td>1</td>\n",
       "      <td>1945-02-04</td>\n",
       "      <td>male</td>\n",
       "      <td>Москва</td>\n",
       "      <td>Москва</td>\n",
       "      <td>UTC+3</td>\n",
       "      <td>55.753879</td>\n",
       "      <td>37.620373</td>\n",
       "      <td>11514330</td>\n",
       "      <td>MULTIPOLYGON (((37.290502 55.8019897, 37.29542...</td>\n",
       "    </tr>\n",
       "    <tr>\n",
       "      <th>2</th>\n",
       "      <td>3</td>\n",
       "      <td>1</td>\n",
       "      <td>1940-10-09</td>\n",
       "      <td>female</td>\n",
       "      <td>Москва</td>\n",
       "      <td>Москва</td>\n",
       "      <td>UTC+3</td>\n",
       "      <td>55.753879</td>\n",
       "      <td>37.620373</td>\n",
       "      <td>11514330</td>\n",
       "      <td>MULTIPOLYGON (((37.290502 55.8019897, 37.29542...</td>\n",
       "    </tr>\n",
       "    <tr>\n",
       "      <th>3</th>\n",
       "      <td>4</td>\n",
       "      <td>5</td>\n",
       "      <td>1956-12-01</td>\n",
       "      <td>male</td>\n",
       "      <td>Ростовская</td>\n",
       "      <td>Ростов-на-Дону</td>\n",
       "      <td>UTC+3</td>\n",
       "      <td>47.222436</td>\n",
       "      <td>39.718787</td>\n",
       "      <td>1091544</td>\n",
       "      <td>POLYGON ((39.4709911 47.2048727, 39.4838092 47...</td>\n",
       "    </tr>\n",
       "    <tr>\n",
       "      <th>4</th>\n",
       "      <td>5</td>\n",
       "      <td>5</td>\n",
       "      <td>1960-07-03</td>\n",
       "      <td>female</td>\n",
       "      <td>Ростовская</td>\n",
       "      <td>Ростов-на-Дону</td>\n",
       "      <td>UTC+3</td>\n",
       "      <td>47.222436</td>\n",
       "      <td>39.718787</td>\n",
       "      <td>1091544</td>\n",
       "      <td>POLYGON ((39.4709911 47.2048727, 39.4838092 47...</td>\n",
       "    </tr>\n",
       "  </tbody>\n",
       "</table>\n",
       "</div>"
      ],
      "text/plain": [
       "   client_id  district_id  birth_date     sex      region            area  \\\n",
       "0          1           18  1970-12-13  female   Рязанская          Рязань   \n",
       "1          2            1  1945-02-04    male      Москва          Москва   \n",
       "2          3            1  1940-10-09  female      Москва          Москва   \n",
       "3          4            5  1956-12-01    male  Ростовская  Ростов-на-Дону   \n",
       "4          5            5  1960-07-03  female  Ростовская  Ростов-на-Дону   \n",
       "\n",
       "  timezone        lat        lon  population  \\\n",
       "0    UTC+3  54.625457  39.735999      525062   \n",
       "1    UTC+3  55.753879  37.620373    11514330   \n",
       "2    UTC+3  55.753879  37.620373    11514330   \n",
       "3    UTC+3  47.222436  39.718787     1091544   \n",
       "4    UTC+3  47.222436  39.718787     1091544   \n",
       "\n",
       "                                            geometry  \n",
       "0  POLYGON ((39.5366736 54.6385048, 39.5367682 54...  \n",
       "1  MULTIPOLYGON (((37.290502 55.8019897, 37.29542...  \n",
       "2  MULTIPOLYGON (((37.290502 55.8019897, 37.29542...  \n",
       "3  POLYGON ((39.4709911 47.2048727, 39.4838092 47...  \n",
       "4  POLYGON ((39.4709911 47.2048727, 39.4838092 47...  "
      ]
     },
     "execution_count": 17,
     "metadata": {},
     "output_type": "execute_result"
    }
   ],
   "source": [
    "clients_with_geo.head()"
   ]
  },
  {
   "cell_type": "code",
   "execution_count": 18,
   "id": "03096bd8-3bf9-40e9-b4f6-f43037a04094",
   "metadata": {},
   "outputs": [
    {
     "data": {
      "text/plain": [
       "5369"
      ]
     },
     "execution_count": 18,
     "metadata": {},
     "output_type": "execute_result"
    }
   ],
   "source": [
    "clients_rows = clients_with_geo.shape[0]\n",
    "clients_rows"
   ]
  },
  {
   "cell_type": "code",
   "execution_count": 19,
   "id": "c1b70d62-9282-42ee-befb-5d4f123f9195",
   "metadata": {
    "scrolled": true
   },
   "outputs": [
    {
     "data": {
      "text/html": [
       "<div>\n",
       "<style scoped>\n",
       "    .dataframe tbody tr th:only-of-type {\n",
       "        vertical-align: middle;\n",
       "    }\n",
       "\n",
       "    .dataframe tbody tr th {\n",
       "        vertical-align: top;\n",
       "    }\n",
       "\n",
       "    .dataframe thead th {\n",
       "        text-align: right;\n",
       "    }\n",
       "</style>\n",
       "<table border=\"1\" class=\"dataframe\">\n",
       "  <thead>\n",
       "    <tr style=\"text-align: right;\">\n",
       "      <th></th>\n",
       "      <th>client_id</th>\n",
       "      <th>district_id</th>\n",
       "      <th>birth_date</th>\n",
       "      <th>sex</th>\n",
       "      <th>region</th>\n",
       "      <th>area</th>\n",
       "      <th>timezone</th>\n",
       "      <th>lat</th>\n",
       "      <th>lon</th>\n",
       "      <th>population</th>\n",
       "      <th>geometry</th>\n",
       "      <th>home_ip</th>\n",
       "    </tr>\n",
       "  </thead>\n",
       "  <tbody>\n",
       "    <tr>\n",
       "      <th>0</th>\n",
       "      <td>1</td>\n",
       "      <td>18</td>\n",
       "      <td>1970-12-13</td>\n",
       "      <td>female</td>\n",
       "      <td>Рязанская</td>\n",
       "      <td>Рязань</td>\n",
       "      <td>UTC+3</td>\n",
       "      <td>54.625457</td>\n",
       "      <td>39.735999</td>\n",
       "      <td>525062</td>\n",
       "      <td>POLYGON ((39.5366736 54.6385048, 39.5367682 54...</td>\n",
       "      <td>2.60.0.1</td>\n",
       "    </tr>\n",
       "    <tr>\n",
       "      <th>1</th>\n",
       "      <td>2</td>\n",
       "      <td>1</td>\n",
       "      <td>1945-02-04</td>\n",
       "      <td>male</td>\n",
       "      <td>Москва</td>\n",
       "      <td>Москва</td>\n",
       "      <td>UTC+3</td>\n",
       "      <td>55.753879</td>\n",
       "      <td>37.620373</td>\n",
       "      <td>11514330</td>\n",
       "      <td>MULTIPOLYGON (((37.290502 55.8019897, 37.29542...</td>\n",
       "      <td>2.60.0.2</td>\n",
       "    </tr>\n",
       "    <tr>\n",
       "      <th>2</th>\n",
       "      <td>3</td>\n",
       "      <td>1</td>\n",
       "      <td>1940-10-09</td>\n",
       "      <td>female</td>\n",
       "      <td>Москва</td>\n",
       "      <td>Москва</td>\n",
       "      <td>UTC+3</td>\n",
       "      <td>55.753879</td>\n",
       "      <td>37.620373</td>\n",
       "      <td>11514330</td>\n",
       "      <td>MULTIPOLYGON (((37.290502 55.8019897, 37.29542...</td>\n",
       "      <td>2.60.0.3</td>\n",
       "    </tr>\n",
       "    <tr>\n",
       "      <th>3</th>\n",
       "      <td>4</td>\n",
       "      <td>5</td>\n",
       "      <td>1956-12-01</td>\n",
       "      <td>male</td>\n",
       "      <td>Ростовская</td>\n",
       "      <td>Ростов-на-Дону</td>\n",
       "      <td>UTC+3</td>\n",
       "      <td>47.222436</td>\n",
       "      <td>39.718787</td>\n",
       "      <td>1091544</td>\n",
       "      <td>POLYGON ((39.4709911 47.2048727, 39.4838092 47...</td>\n",
       "      <td>2.60.0.4</td>\n",
       "    </tr>\n",
       "    <tr>\n",
       "      <th>4</th>\n",
       "      <td>5</td>\n",
       "      <td>5</td>\n",
       "      <td>1960-07-03</td>\n",
       "      <td>female</td>\n",
       "      <td>Ростовская</td>\n",
       "      <td>Ростов-на-Дону</td>\n",
       "      <td>UTC+3</td>\n",
       "      <td>47.222436</td>\n",
       "      <td>39.718787</td>\n",
       "      <td>1091544</td>\n",
       "      <td>POLYGON ((39.4709911 47.2048727, 39.4838092 47...</td>\n",
       "      <td>2.60.0.5</td>\n",
       "    </tr>\n",
       "  </tbody>\n",
       "</table>\n",
       "</div>"
      ],
      "text/plain": [
       "   client_id  district_id  birth_date     sex      region            area  \\\n",
       "0          1           18  1970-12-13  female   Рязанская          Рязань   \n",
       "1          2            1  1945-02-04    male      Москва          Москва   \n",
       "2          3            1  1940-10-09  female      Москва          Москва   \n",
       "3          4            5  1956-12-01    male  Ростовская  Ростов-на-Дону   \n",
       "4          5            5  1960-07-03  female  Ростовская  Ростов-на-Дону   \n",
       "\n",
       "  timezone        lat        lon  population  \\\n",
       "0    UTC+3  54.625457  39.735999      525062   \n",
       "1    UTC+3  55.753879  37.620373    11514330   \n",
       "2    UTC+3  55.753879  37.620373    11514330   \n",
       "3    UTC+3  47.222436  39.718787     1091544   \n",
       "4    UTC+3  47.222436  39.718787     1091544   \n",
       "\n",
       "                                            geometry   home_ip  \n",
       "0  POLYGON ((39.5366736 54.6385048, 39.5367682 54...  2.60.0.1  \n",
       "1  MULTIPOLYGON (((37.290502 55.8019897, 37.29542...  2.60.0.2  \n",
       "2  MULTIPOLYGON (((37.290502 55.8019897, 37.29542...  2.60.0.3  \n",
       "3  POLYGON ((39.4709911 47.2048727, 39.4838092 47...  2.60.0.4  \n",
       "4  POLYGON ((39.4709911 47.2048727, 39.4838092 47...  2.60.0.5  "
      ]
     },
     "execution_count": 19,
     "metadata": {},
     "output_type": "execute_result"
    }
   ],
   "source": [
    "clients_with_geo[\"home_ip\"] = unpacked_ips_glob[:clients_rows].copy()\n",
    "clients_with_geo.head()"
   ]
  },
  {
   "cell_type": "markdown",
   "id": "a2673e1b-138c-4c7e-baf4-1dc97eda6dc7",
   "metadata": {},
   "source": [
    "### Выгрузка clients_with_geo в csv"
   ]
  },
  {
   "cell_type": "code",
   "execution_count": 20,
   "id": "1b983904-648a-44d2-827e-afe48b7ab11b",
   "metadata": {},
   "outputs": [],
   "source": [
    "# данные понадобятся в других ноутбуках\n",
    "\n",
    "clients_with_geo.to_csv(\"./data/cleaned_data/clients_with_geo.csv\", index=False)"
   ]
  },
  {
   "cell_type": "code",
   "execution_count": 21,
   "id": "f332df79-47b1-4366-8968-a3ca3485a74e",
   "metadata": {},
   "outputs": [
    {
     "data": {
      "text/plain": [
       "0            Рязань\n",
       "1            Москва\n",
       "2    Ростов-на-Дону\n",
       "3      Петрозаводск\n",
       "4         Ульяновск\n",
       "dtype: object"
      ]
     },
     "execution_count": 21,
     "metadata": {},
     "output_type": "execute_result"
    }
   ],
   "source": [
    "ru_77_cities_series.head()"
   ]
  },
  {
   "cell_type": "code",
   "execution_count": 22,
   "id": "db0e6cfc-a585-4aca-9a6b-8a8a5b8af960",
   "metadata": {},
   "outputs": [
    {
     "name": "stdout",
     "output_type": "stream",
     "text": [
      "(7700,)\n"
     ]
    },
    {
     "data": {
      "text/plain": [
       "7695         Стерлитамак\n",
       "7696    Набережные Челны\n",
       "7697           Астрахань\n",
       "7698            Владимир\n",
       "7699         Новокузнецк\n",
       "dtype: object"
      ]
     },
     "execution_count": 22,
     "metadata": {},
     "output_type": "execute_result"
    }
   ],
   "source": [
    "# умножим количество имеющихся городов в 100 раз для добавления 7700 мошеннических/подозрительных ip адресов\n",
    "\n",
    "online_fraud_cities = pd.concat([ru_77_cities_series for _ in range(100)], ignore_index=True)\n",
    "print(online_fraud_cities.shape)\n",
    "online_fraud_cities.tail()"
   ]
  },
  {
   "cell_type": "code",
   "execution_count": 23,
   "id": "d0407b57-e48e-4291-9c39-6cdc8cf01872",
   "metadata": {},
   "outputs": [
    {
     "data": {
      "text/plain": [
       "0       5.3.252.223\n",
       "1       5.3.252.224\n",
       "2       5.3.252.225\n",
       "3       5.3.252.226\n",
       "4       5.3.252.227\n",
       "           ...     \n",
       "7695     5.8.31.250\n",
       "7696     5.8.31.251\n",
       "7697     5.8.31.252\n",
       "7698     5.8.31.253\n",
       "7699     5.8.31.254\n",
       "Length: 7700, dtype: object"
      ]
     },
     "execution_count": 23,
     "metadata": {},
     "output_type": "execute_result"
    }
   ],
   "source": [
    "# возьмем 7700 ip с конца серии. home ip клиентов мы сзяли с начала серии. Серия очень большая: 600+ тыс адресов\n",
    "fraud_ip_ser = unpacked_ips_glob.iloc[np.r_[-online_fraud_cities.shape[0]:0]].reset_index(drop=True)\n",
    "fraud_ip_ser"
   ]
  },
  {
   "cell_type": "code",
   "execution_count": 24,
   "id": "629b9be3-240a-46b8-9865-282fc4d677f5",
   "metadata": {},
   "outputs": [
    {
     "name": "stdout",
     "output_type": "stream",
     "text": [
      "(7700, 2)\n"
     ]
    },
    {
     "data": {
      "text/html": [
       "<div>\n",
       "<style scoped>\n",
       "    .dataframe tbody tr th:only-of-type {\n",
       "        vertical-align: middle;\n",
       "    }\n",
       "\n",
       "    .dataframe tbody tr th {\n",
       "        vertical-align: top;\n",
       "    }\n",
       "\n",
       "    .dataframe thead th {\n",
       "        text-align: right;\n",
       "    }\n",
       "</style>\n",
       "<table border=\"1\" class=\"dataframe\">\n",
       "  <thead>\n",
       "    <tr style=\"text-align: right;\">\n",
       "      <th></th>\n",
       "      <th>area</th>\n",
       "      <th>fraud_ip</th>\n",
       "    </tr>\n",
       "  </thead>\n",
       "  <tbody>\n",
       "    <tr>\n",
       "      <th>7695</th>\n",
       "      <td>Стерлитамак</td>\n",
       "      <td>5.8.31.250</td>\n",
       "    </tr>\n",
       "    <tr>\n",
       "      <th>7696</th>\n",
       "      <td>Набережные Челны</td>\n",
       "      <td>5.8.31.251</td>\n",
       "    </tr>\n",
       "    <tr>\n",
       "      <th>7697</th>\n",
       "      <td>Астрахань</td>\n",
       "      <td>5.8.31.252</td>\n",
       "    </tr>\n",
       "    <tr>\n",
       "      <th>7698</th>\n",
       "      <td>Владимир</td>\n",
       "      <td>5.8.31.253</td>\n",
       "    </tr>\n",
       "    <tr>\n",
       "      <th>7699</th>\n",
       "      <td>Новокузнецк</td>\n",
       "      <td>5.8.31.254</td>\n",
       "    </tr>\n",
       "  </tbody>\n",
       "</table>\n",
       "</div>"
      ],
      "text/plain": [
       "                  area    fraud_ip\n",
       "7695       Стерлитамак  5.8.31.250\n",
       "7696  Набережные Челны  5.8.31.251\n",
       "7697         Астрахань  5.8.31.252\n",
       "7698          Владимир  5.8.31.253\n",
       "7699       Новокузнецк  5.8.31.254"
      ]
     },
     "execution_count": 24,
     "metadata": {},
     "output_type": "execute_result"
    }
   ],
   "source": [
    "# соединим названия городов и ip адреса\n",
    "\n",
    "fraud_ips = pd.concat([online_fraud_cities, fraud_ip_ser], axis=1)\n",
    "fraud_ips.columns = [\"area\", \"fraud_ip\"]\n",
    "print(fraud_ips.shape)\n",
    "fraud_ips.tail()"
   ]
  },
  {
   "cell_type": "markdown",
   "id": "b7fb86fb-a8a8-4465-ba02-3f865dffa2fe",
   "metadata": {},
   "source": [
    "### Выгрузка fraud_ips в csv"
   ]
  },
  {
   "cell_type": "code",
   "execution_count": 25,
   "id": "a92f5739-1356-49d6-b355-d4f676662bdf",
   "metadata": {},
   "outputs": [],
   "source": [
    "fraud_ips.to_csv(\"./data/cleaned_data/fraud_ips.csv\", index=False)"
   ]
  }
 ],
 "metadata": {
  "kernelspec": {
   "display_name": "Python 3 (ipykernel)",
   "language": "python",
   "name": "python3"
  },
  "language_info": {
   "codemirror_mode": {
    "name": "ipython",
    "version": 3
   },
   "file_extension": ".py",
   "mimetype": "text/x-python",
   "name": "python",
   "nbconvert_exporter": "python",
   "pygments_lexer": "ipython3",
   "version": "3.13.3"
  }
 },
 "nbformat": 4,
 "nbformat_minor": 5
}
