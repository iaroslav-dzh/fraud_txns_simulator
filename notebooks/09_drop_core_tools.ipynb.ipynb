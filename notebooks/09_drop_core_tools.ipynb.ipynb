{
 "cells": [
  {
   "cell_type": "code",
   "execution_count": 235,
   "id": "c30e67d7-4a3c-4d29-9477-ab02b02e86fc",
   "metadata": {},
   "outputs": [],
   "source": [
    "import pandas as pd\n",
    "import numpy as np\n",
    "import matplotlib.pyplot as plt\n",
    "import seaborn as sns\n",
    "import os\n",
    "import re\n",
    "import geopandas as gpd\n",
    "import random\n",
    "from scipy.stats import truncnorm, norm\n",
    "from collections import defaultdict\n",
    "import math\n",
    "from shapely.ops import transform\n",
    "from pyproj import Geod\n",
    "import pyarrow\n",
    "from datetime import datetime\n",
    "import sys\n",
    "import importlib\n",
    "from dataclasses import dataclass\n",
    "import yaml\n",
    "from typing import Union"
   ]
  },
  {
   "cell_type": "code",
   "execution_count": 4,
   "id": "a6dc00ed-f62f-4871-8e41-47c85bc4c8a9",
   "metadata": {},
   "outputs": [],
   "source": [
    "# добавляем папку modules в sys.path, чтобы импортировать функции созданные ранее\n",
    "\n",
    "# sys.path.append(os.path.abspath(os.path.join(\"..\", \"modules\")))"
   ]
  },
  {
   "cell_type": "code",
   "execution_count": 501,
   "id": "9d87e6be-bb84-44d9-9d35-924a25f2ddca",
   "metadata": {},
   "outputs": [],
   "source": [
    "# Функции генерации паттернов времени и базовые функции времени созданные ранее\n",
    "import data_generator.fraud.time\n",
    "import data_generator.fraud.txndata\n",
    "import data_generator.configs\n",
    "importlib.reload(data_generator.fraud.time)\n",
    "importlib.reload(data_generator.fraud.txndata)\n",
    "importlib.reload(data_generator.configs)\n",
    "from data_generator.general_time import *\n",
    "from data_generator.utils import build_transaction\n",
    "from data_generator.fraud.txndata import FraudTxnPartData, TransAmount, sample_category\n",
    "from data_generator.fraud.time import derive_from_last_time\n",
    "from data_generator.configs import PurchBehaviorHandler"
   ]
  },
  {
   "cell_type": "code",
   "execution_count": null,
   "id": "23828f2a-bd6f-46f6-ab48-67e874a45a45",
   "metadata": {},
   "outputs": [],
   "source": []
  },
  {
   "cell_type": "code",
   "execution_count": 10,
   "id": "6c6c9867-8d32-4b4d-9923-2b2f5711bfc8",
   "metadata": {},
   "outputs": [],
   "source": [
    "np.set_printoptions(suppress=True)\n",
    "pd.set_option('display.max_columns', None)"
   ]
  },
  {
   "cell_type": "code",
   "execution_count": 7,
   "id": "122df125-874a-4cc5-a123-74aca56e5baf",
   "metadata": {},
   "outputs": [
    {
     "data": {
      "text/plain": [
       "'C:\\\\Users\\\\iaros\\\\My_documents\\\\Education\\\\projects\\\\fraud_detection_01\\\\notebooks'"
      ]
     },
     "execution_count": 7,
     "metadata": {},
     "output_type": "execute_result"
    }
   ],
   "source": [
    "os.getcwd()"
   ]
  },
  {
   "cell_type": "code",
   "execution_count": 8,
   "id": "71fc90ba-44d1-4bc6-b2a3-edda53a9123b",
   "metadata": {},
   "outputs": [],
   "source": [
    "os.chdir(\"..\")"
   ]
  },
  {
   "cell_type": "code",
   "execution_count": 9,
   "id": "4c92f5c7-1b75-4e1b-97a1-34a61031d901",
   "metadata": {},
   "outputs": [
    {
     "data": {
      "text/plain": [
       "'C:\\\\Users\\\\iaros\\\\My_documents\\\\Education\\\\projects\\\\fraud_detection_01'"
      ]
     },
     "execution_count": 9,
     "metadata": {},
     "output_type": "execute_result"
    }
   ],
   "source": [
    "os.getcwd()"
   ]
  },
  {
   "cell_type": "markdown",
   "id": "ecd83afb-aeee-4488-b237-366ed2c85d61",
   "metadata": {},
   "source": [
    "## Загрузка конфигураций"
   ]
  },
  {
   "cell_type": "code",
   "execution_count": 18,
   "id": "2596e557-1894-4125-a02a-517e01ff04ff",
   "metadata": {},
   "outputs": [],
   "source": [
    "# Общие настройки\n",
    "with open(\"./config/base.yaml\") as f:\n",
    "    base_cfg = yaml.safe_load(f)\n",
    "# Настройки фрода\n",
    "with open(\"./config/fraud.yaml\") as f:\n",
    "    fraud_cfg = yaml.safe_load(f)\n",
    "# Настройки фрода для дропов\n",
    "with open(\"./config/drops.yaml\", encoding=\"utf8\") as f:\n",
    "    drops_cfg = yaml.safe_load(f)\n",
    "# Настройки времени\n",
    "with open(\"./config/time.yaml\") as f:\n",
    "    time_cfg = yaml.safe_load(f)"
   ]
  },
  {
   "cell_type": "markdown",
   "id": "b44b5ea0-cf43-46d2-8441-a1bb4c2331b0",
   "metadata": {},
   "source": [
    "# Доп. данные для генерации фрод транзакций"
   ]
  },
  {
   "cell_type": "markdown",
   "id": "908fd76b-76e1-45a1-a001-d8d03ef4baed",
   "metadata": {},
   "source": [
    "**Загрузка данных:**\n",
    "- оффлайн мерчантов\n",
    "- онлайн мерчантов\n",
    "- девайсов клиентов и мошенников\n",
    "- городов с полигонами\n",
    "- городов с координатами центров\n",
    "- клиентов\n",
    "- фрод IP адресов\n",
    "- категорий и их характеристик\n",
    "- категорий для дропов покупателей\n",
    "- Счетов клиентов\n",
    "- Внешних счетов"
   ]
  },
  {
   "cell_type": "code",
   "execution_count": 612,
   "id": "7602ab36-bd72-4160-8fec-753775f89880",
   "metadata": {},
   "outputs": [],
   "source": [
    "offline_merchants = gpd.read_file(\"./data/cleaned_data/offline_merchants_points.gpkg\")\n",
    "online_merchant_ids = pd.read_csv(\"./data/cleaned_data/online_merchant_ids.csv\").iloc[:, 0] # нужны в виде серии\n",
    "client_devices = pd.read_csv(\"./data/cleaned_data/client_devices.csv\")\n",
    "fraud_devices = pd.read_csv(\"./data/cleaned_data/fraud_devices.csv\")\n",
    "districts_ru = gpd.read_file(\"./data/cleaned_data/district_ru.gpkg\")\n",
    "area_centers = gpd.read_file(\"./data/cleaned_data/area_centers.gpkg\")\n",
    "clients_with_geo = gpd.read_file(\"./data/cleaned_data/clients_with_geo.gpkg\") \n",
    "fraud_ips = gpd.read_file(\"./data/cleaned_data/fraud_ips.gpkg\")\n",
    "cat_stats_full = pd.read_csv(\"./data/cleaned_data/cat_stats_full.csv\")\n",
    "cat_fraud_amts = pd.read_csv(\"./data/cleaned_data/cat_fraud_amts.csv\")\n",
    "drop_purch_cats = pd.read_csv(\"./data/cleaned_data/drop_purch_cats.csv\")\n",
    "accounts = pd.read_csv(\"./data/generated_data/accounts.csv\")\n",
    "outer_accounts = pd.read_csv(\"./data/generated_data/outer_accounts.csv\").iloc[:, 0] # нужны в виде серии"
   ]
  },
  {
   "cell_type": "markdown",
   "id": "22a206ef-4367-4265-8a7a-d71edb16f77d",
   "metadata": {},
   "source": [
    "**Датафрейм под транзакции. Этап тестов**<br>\n",
    "Создадим пустой датафрейм под транзакции. Будем копировать и использовать его при тестах функций."
   ]
  },
  {
   "cell_type": "code",
   "execution_count": 13,
   "id": "8d5babab-6645-48b9-8b65-41229b4ee162",
   "metadata": {},
   "outputs": [
    {
     "data": {
      "text/html": [
       "<div>\n",
       "<style scoped>\n",
       "    .dataframe tbody tr th:only-of-type {\n",
       "        vertical-align: middle;\n",
       "    }\n",
       "\n",
       "    .dataframe tbody tr th {\n",
       "        vertical-align: top;\n",
       "    }\n",
       "\n",
       "    .dataframe thead th {\n",
       "        text-align: right;\n",
       "    }\n",
       "</style>\n",
       "<table border=\"1\" class=\"dataframe\">\n",
       "  <thead>\n",
       "    <tr style=\"text-align: right;\">\n",
       "      <th></th>\n",
       "      <th>client_id</th>\n",
       "      <th>txn_time</th>\n",
       "      <th>unix_time</th>\n",
       "      <th>amount</th>\n",
       "      <th>type</th>\n",
       "      <th>channel</th>\n",
       "      <th>category</th>\n",
       "      <th>online</th>\n",
       "      <th>merchant_id</th>\n",
       "      <th>trans_city</th>\n",
       "      <th>trans_lat</th>\n",
       "      <th>trans_lon</th>\n",
       "      <th>trans_ip</th>\n",
       "      <th>device_id</th>\n",
       "      <th>account</th>\n",
       "      <th>is_fraud</th>\n",
       "      <th>is_suspicious</th>\n",
       "      <th>status</th>\n",
       "      <th>rule</th>\n",
       "    </tr>\n",
       "  </thead>\n",
       "  <tbody>\n",
       "  </tbody>\n",
       "</table>\n",
       "</div>"
      ],
      "text/plain": [
       "Empty DataFrame\n",
       "Columns: [client_id, txn_time, unix_time, amount, type, channel, category, online, merchant_id, trans_city, trans_lat, trans_lon, trans_ip, device_id, account, is_fraud, is_suspicious, status, rule]\n",
       "Index: []"
      ]
     },
     "execution_count": 13,
     "metadata": {},
     "output_type": "execute_result"
    }
   ],
   "source": [
    "transactions = pd.DataFrame(\n",
    "            {\"client_id\": pd.Series(dtype=\"int64\"),\n",
    "            \"txn_time\": pd.Series(dtype=\"datetime64[ns]\"),\n",
    "             \"unix_time\":pd.Series(dtype=\"int64\"),\n",
    "            \"amount\": pd.Series(dtype=\"float64\"),\n",
    "            \"type\": pd.Series(dtype=\"string\"),\n",
    "            \"channel\": pd.Series(dtype=\"string\"),\n",
    "            \"category\": pd.Series(dtype=\"string\"),\n",
    "            \"online\":pd.Series(dtype=\"bool\"),\n",
    "            \"merchant_id\":pd.Series(dtype=\"int64\"),\n",
    "             \"trans_city\":pd.Series(dtype=\"string\"),\n",
    "            \"trans_lat\":pd.Series(dtype=\"float64\"),\n",
    "             \"trans_lon\":pd.Series(dtype=\"float64\"),\n",
    "            \"trans_ip\":pd.Series(dtype=\"string\"),\n",
    "             \"device_id\":pd.Series(dtype=\"int64\"),\n",
    "             \"account\": pd.Series(dtype=\"int64\"),\n",
    "            \"is_fraud\": pd.Series(dtype=\"bool\"),\n",
    "             \"is_suspicious\": pd.Series(dtype=\"bool\"),\n",
    "            \"status\":pd.Series(dtype=\"string\"),\n",
    "            \"rule\":pd.Series(dtype=\"string\")})\n",
    "transactions"
   ]
  },
  {
   "cell_type": "markdown",
   "id": "212f66bc-3553-4948-8210-a5f7f45cf491",
   "metadata": {},
   "source": [
    "**Функция получения случайных значений из `truncnorm` распределения**\n",
    "- пойдет в модуль `utils`"
   ]
  },
  {
   "cell_type": "code",
   "execution_count": 14,
   "id": "550d6562-2464-485b-80e9-ec239ec866c1",
   "metadata": {},
   "outputs": [],
   "source": [
    "def get_values_from_truncnorm(low_bound, high_bound, mean, std, size=1):\n",
    "    \"\"\"\n",
    "    Сгенерировать массив чисел из обрезанного нормального распределения.\n",
    "    Можно сгенерировать массив с одним числом\n",
    "    ------------\n",
    "    low_bound - float, int. Нижняя граница значений\n",
    "    high_bound - float, int. Верхняя граница значений \n",
    "    mean - float, int. Среднее\n",
    "    std - float, int. Стандартное отклонение\n",
    "    size - Количество чисел в возвращаемом массиве\n",
    "    ------------\n",
    "    Возвращает np.ndarray\n",
    "    \"\"\"\n",
    "    return truncnorm.rvs((low_bound - mean) / std, (high_bound - mean) / std, loc=mean, scale=std, size=size)"
   ]
  },
  {
   "cell_type": "markdown",
   "id": "7302b003-7e50-4387-a361-afdfdc6afc93",
   "metadata": {},
   "source": [
    "## Класс `DropDistributorCfg`\n",
    "- конфигурации на основании которых будут генерироваться транзакции дропов\n",
    "  занятых распределением полученных денег: переводами, снятиями, покупкой криптовалюты."
   ]
  },
  {
   "cell_type": "code",
   "execution_count": 52,
   "id": "d25766b0-5a95-42c3-8dbb-69574a91b127",
   "metadata": {},
   "outputs": [],
   "source": [
    "# ----------- ВСТАВИТЬ ГОТОВЫЙ КЛАСС СЮДА -------------------------"
   ]
  },
  {
   "cell_type": "markdown",
   "id": "d6807bb8-d463-4747-a07e-2c043865484b",
   "metadata": {},
   "source": [
    "### Создание аргументов для `DropDistributorCfg`"
   ]
  },
  {
   "cell_type": "code",
   "execution_count": 16,
   "id": "54162d98-aa61-497a-9f86-91baa0907eed",
   "metadata": {},
   "outputs": [],
   "source": [
    "# timestamp-ы использованные еще для генерации легальных и purchase фрод транзакций\n",
    "timestamps = pd.read_parquet(\"./data/generated_data/timestamps.parquet\", engine=\"pyarrow\")"
   ]
  },
  {
   "cell_type": "code",
   "execution_count": 19,
   "id": "3ee9f416-e7c0-4bfa-8228-5380879bf788",
   "metadata": {},
   "outputs": [],
   "source": [
    "time_weight_args = time_cfg[\"time_weights_args\"]"
   ]
  },
  {
   "cell_type": "code",
   "execution_count": 20,
   "id": "5a9f0664-ba62-4db7-8317-96538b7703cd",
   "metadata": {},
   "outputs": [],
   "source": [
    "time_weights_dict = get_all_time_patterns(time_weight_args)"
   ]
  },
  {
   "cell_type": "markdown",
   "id": "2f932473-9b9b-4420-a515-4dff743428c7",
   "metadata": {},
   "source": [
    "**Легальные транзакции**  \n",
    "Нужно знать их количество для определения числа фрод транзакций  \n",
    "и следовательно, количества клиентов для их генерации"
   ]
  },
  {
   "cell_type": "code",
   "execution_count": 21,
   "id": "dedea0b9-5aee-40db-bb20-055d46c5f942",
   "metadata": {},
   "outputs": [],
   "source": [
    "legit_txns = pd.read_parquet(\"./data/generated_data/legit_trans_148K.parquet\", engine=\"pyarrow\")"
   ]
  },
  {
   "cell_type": "markdown",
   "id": "3eb754d0-1349-4db0-b57d-a8aef4789cca",
   "metadata": {},
   "source": [
    "**Клиенты для дроп фрода**  \n",
    "Случайно возьмем клиентов, у которых нет никаких транзакций  \n",
    "Для этого загрузим семплированных для легальных транзакций клиентов, т.е. у кого были созданы легальные транзакции.  \n",
    "У части этих клиентов также созданы purchase фрод транзакции. Всех этих клиентов надо исключить."
   ]
  },
  {
   "cell_type": "code",
   "execution_count": 22,
   "id": "7f88b9d0-d717-463e-9829-bbf6e4860da2",
   "metadata": {},
   "outputs": [],
   "source": [
    "clients_sample_df = gpd.read_file(\"./data/cleaned_data/clients_sample.gpkg\")"
   ]
  },
  {
   "cell_type": "code",
   "execution_count": 23,
   "id": "c973cadc-fb7a-41e0-a3f3-beddd4471cb6",
   "metadata": {},
   "outputs": [
    {
     "data": {
      "text/plain": [
       "(3000, 12)"
      ]
     },
     "execution_count": 23,
     "metadata": {},
     "output_type": "execute_result"
    }
   ],
   "source": [
    "clients_sample_df.shape"
   ]
  },
  {
   "cell_type": "markdown",
   "id": "14e17758-50df-45ec-a01b-0f67809b8020",
   "metadata": {},
   "source": [
    "Конфиги загружаются временно тут"
   ]
  },
  {
   "cell_type": "code",
   "execution_count": 316,
   "id": "f903ce78-5623-409c-a537-90e7569358bc",
   "metadata": {},
   "outputs": [],
   "source": [
    "# Общие настройки\n",
    "with open(\"./config/base.yaml\") as f:\n",
    "    base_cfg = yaml.safe_load(f)\n",
    "# Настройки фрода\n",
    "with open(\"./config/fraud.yaml\") as f:\n",
    "    fraud_cfg = yaml.safe_load(f)\n",
    "# Настройки фрода для дропов\n",
    "with open(\"./config/drops.yaml\", encoding=\"utf8\") as f:\n",
    "    drops_cfg = yaml.safe_load(f)\n",
    "# Настройки времени\n",
    "with open(\"./config/time.yaml\") as f:\n",
    "    time_cfg = yaml.safe_load(f)"
   ]
  },
  {
   "cell_type": "code",
   "execution_count": 24,
   "id": "1ca9e428-50d7-4a3e-a7f8-209648c37a8b",
   "metadata": {},
   "outputs": [],
   "source": [
    "# доля дроп фрода - Дропы занимающиеся переводами и снятиями; и дропы, которые покупают товары на присланные деньги\n",
    "fraud_rate = fraud_cfg[\"fraud_rates\"][\"total\"]\n",
    "drop_dist_share = drops_cfg[\"distributor\"][\"rate\"] # Дропы распределители. Доля от всего фрода\n",
    "drop_purch_share = drops_cfg[\"purchaser\"][\"rate\"] # Дропы покупатели. Доля от всего фрода"
   ]
  },
  {
   "cell_type": "code",
   "execution_count": 25,
   "id": "4be2e34c-bac8-400a-bfbf-0b04ee53f8ff",
   "metadata": {},
   "outputs": [],
   "source": [
    "# лимит на исходящие транзакции дропа. Нужен сейчас для вычисления количества дропов распределителей\n",
    "\n",
    "dist_out_lim = drops_cfg[\"distributor\"][\"out_lim\"]"
   ]
  },
  {
   "cell_type": "code",
   "execution_count": 33,
   "id": "443dd48a-51c3-4040-ac96-a3d9b63cce82",
   "metadata": {},
   "outputs": [
    {
     "data": {
      "text/plain": [
       "28"
      ]
     },
     "execution_count": 33,
     "metadata": {},
     "output_type": "execute_result"
    }
   ],
   "source": [
    "# отсюда посчитаем количество клиентов для дроп фрода с распределением денег\n",
    "\n",
    "legit_count = legit_txns.shape[0]\n",
    "# подсчет количества транзакций равных 1% от всех транзакций\n",
    "# т.к. не все транзакции еще созданные, то считаем основываясь на количестве легальных транзакций и fraud rate\n",
    "one_perc = round(legit_count / ((1 - fraud_rate) * 100))\n",
    "# Один процент транзакций умножаем на долю транзакций дропов-распределителей и делим на максимальное количество\n",
    "# исходящих транзакций которое распределитель может сделать до детекта. Так находим сколько примерно дропов будет под такой фрод\n",
    "dist_drops_count = round(one_perc * drop_dist_share / dist_out_lim) \n",
    "dist_drops_count"
   ]
  },
  {
   "cell_type": "code",
   "execution_count": 34,
   "id": "7ee558ad-80ac-49e2-8b42-b00f2cf10f2a",
   "metadata": {},
   "outputs": [],
   "source": [
    "# Клиенты незадействованные ранее\n",
    "\n",
    "not_used_clients = clients_with_geo.loc[~clients_with_geo.client_id.isin(clients_sample_df.client_id)].copy()"
   ]
  },
  {
   "cell_type": "code",
   "execution_count": 35,
   "id": "851f96f8-c8c8-4a15-8a70-8ed56b1d1295",
   "metadata": {},
   "outputs": [],
   "source": [
    "# семплируем dist_drops_count клиентов\n",
    "\n",
    "dist_drop_clients = not_used_clients.sample(n=dist_drops_count).reset_index(drop=True)"
   ]
  },
  {
   "cell_type": "code",
   "execution_count": 36,
   "id": "4891e94f-7561-494f-9232-e9d7d9f4adc1",
   "metadata": {},
   "outputs": [
    {
     "data": {
      "text/html": [
       "<div>\n",
       "<style scoped>\n",
       "    .dataframe tbody tr th:only-of-type {\n",
       "        vertical-align: middle;\n",
       "    }\n",
       "\n",
       "    .dataframe tbody tr th {\n",
       "        vertical-align: top;\n",
       "    }\n",
       "\n",
       "    .dataframe thead th {\n",
       "        text-align: right;\n",
       "    }\n",
       "</style>\n",
       "<table border=\"1\" class=\"dataframe\">\n",
       "  <thead>\n",
       "    <tr style=\"text-align: right;\">\n",
       "      <th></th>\n",
       "      <th>client_id</th>\n",
       "      <th>district_id</th>\n",
       "      <th>birth_date</th>\n",
       "      <th>sex</th>\n",
       "      <th>region</th>\n",
       "      <th>area</th>\n",
       "      <th>timezone</th>\n",
       "      <th>lat</th>\n",
       "      <th>lon</th>\n",
       "      <th>population</th>\n",
       "      <th>home_ip</th>\n",
       "      <th>geometry</th>\n",
       "    </tr>\n",
       "  </thead>\n",
       "  <tbody>\n",
       "    <tr>\n",
       "      <th>0</th>\n",
       "      <td>52</td>\n",
       "      <td>32</td>\n",
       "      <td>1924-12-12</td>\n",
       "      <td>male</td>\n",
       "      <td>Курская</td>\n",
       "      <td>Курск</td>\n",
       "      <td>UTC+3</td>\n",
       "      <td>51.730339</td>\n",
       "      <td>36.192645</td>\n",
       "      <td>414595</td>\n",
       "      <td>2.60.0.50</td>\n",
       "      <td>MULTIPOLYGON (((36.0603 51.67692, 36.06039 51....</td>\n",
       "    </tr>\n",
       "    <tr>\n",
       "      <th>1</th>\n",
       "      <td>403</td>\n",
       "      <td>42</td>\n",
       "      <td>1973-05-26</td>\n",
       "      <td>female</td>\n",
       "      <td>Астраханская</td>\n",
       "      <td>Астрахань</td>\n",
       "      <td>UTC+4</td>\n",
       "      <td>46.365581</td>\n",
       "      <td>48.055998</td>\n",
       "      <td>520662</td>\n",
       "      <td>2.60.1.127</td>\n",
       "      <td>MULTIPOLYGON (((47.87112 46.26966, 47.87127 46...</td>\n",
       "    </tr>\n",
       "  </tbody>\n",
       "</table>\n",
       "</div>"
      ],
      "text/plain": [
       "   client_id  district_id  birth_date     sex        region       area  \\\n",
       "0         52           32  1924-12-12    male       Курская      Курск   \n",
       "1        403           42  1973-05-26  female  Астраханская  Астрахань   \n",
       "\n",
       "  timezone        lat        lon  population     home_ip  \\\n",
       "0    UTC+3  51.730339  36.192645      414595   2.60.0.50   \n",
       "1    UTC+4  46.365581  48.055998      520662  2.60.1.127   \n",
       "\n",
       "                                            geometry  \n",
       "0  MULTIPOLYGON (((36.0603 51.67692, 36.06039 51....  \n",
       "1  MULTIPOLYGON (((47.87112 46.26966, 47.87127 46...  "
      ]
     },
     "execution_count": 36,
     "metadata": {},
     "output_type": "execute_result"
    }
   ],
   "source": [
    "dist_drop_clients.head(2)"
   ]
  },
  {
   "cell_type": "code",
   "execution_count": 37,
   "id": "c8b7fe8d-200e-491a-98d1-88dfbb8dfb06",
   "metadata": {},
   "outputs": [
    {
     "data": {
      "text/plain": [
       "(28, 12)"
      ]
     },
     "execution_count": 37,
     "metadata": {},
     "output_type": "execute_result"
    }
   ],
   "source": [
    "dist_drop_clients.shape"
   ]
  },
  {
   "cell_type": "markdown",
   "id": "41bc701a-1ba4-49ee-8fd7-010714fbf90d",
   "metadata": {},
   "source": [
    "## Объект датакласса `DropDistributorCfg` конфиги для дропов распределителей"
   ]
  },
  {
   "cell_type": "code",
   "execution_count": 1015,
   "id": "07c26c2b-b46d-4e58-921b-ccd4227336a7",
   "metadata": {},
   "outputs": [],
   "source": [
    "# Импорт на время разработки\n",
    "import data_generator.configs\n",
    "importlib.reload(data_generator.configs)\n",
    "from data_generator.configs import DropDistributorCfg"
   ]
  },
  {
   "cell_type": "markdown",
   "id": "490d0ee2-5f93-4469-97f2-cd1a93df80ba",
   "metadata": {},
   "source": [
    "**Доп. конфиги из `drop.yaml`**"
   ]
  },
  {
   "cell_type": "code",
   "execution_count": 1016,
   "id": "35c248e0-7ba5-4246-9c11-260175c8a72b",
   "metadata": {},
   "outputs": [],
   "source": [
    "# временно\n",
    "\n",
    "# Общие настройки\n",
    "with open(\"./config/base.yaml\") as f:\n",
    "    base_cfg = yaml.safe_load(f)\n",
    "# Настройки фрода\n",
    "with open(\"./config/fraud.yaml\") as f:\n",
    "    fraud_cfg = yaml.safe_load(f)\n",
    "# Настройки фрода для дропов\n",
    "with open(\"./config/drops.yaml\", encoding=\"utf8\") as f:\n",
    "    drops_cfg = yaml.safe_load(f)\n",
    "# Настройки времени\n",
    "with open(\"./config/time.yaml\") as f:\n",
    "    time_cfg = yaml.safe_load(f)"
   ]
  },
  {
   "cell_type": "code",
   "execution_count": 1017,
   "id": "6e837c6b-344b-4985-aa35-dd9cb71abddc",
   "metadata": {},
   "outputs": [],
   "source": [
    "# Параметры обозначенные в config/drops.yaml\n",
    "\n",
    "dist_cfg = drops_cfg[\"distributor\"]\n",
    "dist_in_lim = dist_cfg[\"in_lim\"]\n",
    "dist_out_im = dist_cfg[\"out_lim\"]\n",
    "period_in_lim = dist_cfg[\"period_in_lim\"]\n",
    "period_out_lim = dist_cfg[\"period_out_lim\"]\n",
    "dist_lag_int = drops_cfg[\"lag_interval\"]\n",
    "two_way_delta = drops_cfg[\"two_way_delta\"]\n",
    "pos_delta = drops_cfg[\"pos_delta\"]\n",
    "split_rate = dist_cfg[\"split_rate\"]\n",
    "chunks = dist_cfg[\"chunks\"]\n",
    "dist_inbound = drops_cfg[\"inbound_amt\"]\n",
    "dist_round = dist_cfg[\"round\"]\n",
    "dist_trf_max = dist_cfg[\"trf_max\"]\n",
    "dist_reduce = dist_cfg[\"reduce_share\"]\n",
    "dist_att = dist_cfg[\"attempts\"]\n",
    "to_drops = dist_cfg[\"to_drops\"]\n",
    "crypto_rate = dist_cfg[\"crypto_rate\"]"
   ]
  },
  {
   "cell_type": "code",
   "execution_count": 1018,
   "id": "c761f555-8c53-4941-99cb-f0946e664438",
   "metadata": {},
   "outputs": [],
   "source": [
    "dist_configs = DropDistributorCfg(clients=dist_drop_clients, timestamps=timestamps, accounts=accounts, \\\n",
    "                                  outer_accounts=outer_accounts, client_devices=client_devices, atms=None, \\\n",
    "                                  online_merchant_ids=online_merchant_ids, cities=districts_ru, in_lim=dist_in_lim, \n",
    "                                  out_lim=dist_out_im, period_in_lim=period_in_lim, period_out_lim=period_out_lim, \\\n",
    "                                  lag_interval=dist_lag_int, two_way_delta=two_way_delta, pos_delta=pos_delta, \\\n",
    "                                  split_rate=split_rate, chunks=chunks, inbound_amt=dist_inbound, round=dist_round, \\\n",
    "                                  trf_max=dist_trf_max, reduce_share=dist_reduce, attempts=dist_att, to_drops=to_drops, \\\n",
    "                                  crypto_rate=crypto_rate\n",
    "                                 )"
   ]
  },
  {
   "cell_type": "markdown",
   "id": "38d40f97-305b-4daa-b418-13d9e03b6980",
   "metadata": {},
   "source": [
    "## Класс `DropPurchaserCfg` конфиги для дропов покупателей"
   ]
  },
  {
   "cell_type": "code",
   "execution_count": 237,
   "id": "c3d54cd9-1c28-4f77-b60a-230a6a41a08b",
   "metadata": {},
   "outputs": [],
   "source": [
    "@dataclass\n",
    "class DropPurchaserCfg: # <-------------------- in development. Совсем не откорректирован.\n",
    "    \"\"\"\n",
    "    Это данные на основе которых будут генерироваться транзакции дропов-покупателей\n",
    "    ---------------------\n",
    "    clients: pd.DataFrame\n",
    "    timestamps: pd.DataFrame\n",
    "    transactions: pd.DataFrame\n",
    "    accounts: pd.DataFrame. Номера счетов клиентов. \n",
    "    outer_accounts: pd.Series. Номера внешних счетов для транзакций вне банка.\n",
    "    client_devices: pd.DataFrame\n",
    "    offline_merchants: pd.DataFrame\n",
    "    categories: pd.DataFrame\n",
    "    online_merchant_ids: pd.Series\n",
    "    time_weights_dict: dict\n",
    "    rules: pd.DataFrame\n",
    "    cities: pd.DataFrame\n",
    "    fraud_amounts: pd.DataFrame\n",
    "    period_in_lim: int. Количество входящих транзакций после которых дроп уходит на паузу.\n",
    "    period_out_lim: int. Количество исходящих транзакций после которых дроп уходит на паузу.\n",
    "    lag_interval: int. Минуты. На сколько дроп должен делать паузу после\n",
    "                       достижения лимита входящих и/или исходящих транзакций.\n",
    "                       Например 1440 минут(сутки). Отсчет идет от первой транзакции в последнем периоде активности.\n",
    "    two_way_delta: dict. Минимум и максимум дельты времени. Для случаев когда дельта может быть и положительной и отрицательной.\n",
    "                         Эта дельта прибавляется к lag_interval, чтобы рандомизировать время возобновления активности,\n",
    "                         чтобы оно не было ровным. Берется из конфига drops.yaml\n",
    "    pos_delta: dict. Минимум и максимум случайной дельты времени в минутах. Для случаев когда дельта может быть только положительной.\n",
    "                          Эта дельта - промежуток между транзакциями дропа в одном периоде. Просто прибавляется ко времени последней транзакции.\n",
    "    chunks: dict. Характеристики для генератора сумм транзакций по частям.\n",
    "    inbound_amt: dict. Настройки для сумм входящих транзакций\n",
    "    round: int. Округление целой части сумм транзакций. Напр. 500 значит что суммы будут кратны 500 - кончаться на 500 или 000\n",
    "    \"\"\"\n",
    "    clients: pd.DataFrame\n",
    "    timestamps: pd.DataFrame\n",
    "    transactions: pd.DataFrame\n",
    "    accounts: pd.DataFrame\n",
    "    outer_accounts: pd.Series\n",
    "    client_devices: pd.DataFrame\n",
    "    offline_merchants: pd.DataFrame\n",
    "    categories: pd.DataFrame\n",
    "    online_merchant_ids: pd.Series\n",
    "    time_weights_dict: dict\n",
    "    rules: pd.DataFrame\n",
    "    cities: pd.DataFrame\n",
    "    fraud_amounts: pd.DataFrame\n",
    "    period_in_lim: int\n",
    "    period_out_lim: int\n",
    "    lag_interval: int\n",
    "    two_way_delta: dict\n",
    "    pos_delta: dict\n",
    "    chunks: dict\n",
    "    inbound_amt: dict\n",
    "    round: dict"
   ]
  },
  {
   "cell_type": "code",
   "execution_count": null,
   "id": "f774e608-0c45-4921-80c9-7c02a969d660",
   "metadata": {},
   "outputs": [],
   "source": []
  },
  {
   "attachments": {},
   "cell_type": "markdown",
   "id": "9ddb6614-929c-4818-b90c-17786109d3c3",
   "metadata": {},
   "source": [
    "## Класс `DropAccountHandler`"
   ]
  },
  {
   "cell_type": "code",
   "execution_count": 484,
   "id": "fb804981-e1ab-40b5-a287-66b7057a3608",
   "metadata": {},
   "outputs": [],
   "source": [
    "class DropAccountHandler:\n",
    "    \"\"\"\n",
    "    Генератор номеров счетов входящих/исходящих транзакций.\n",
    "    Учет использованных счетов.\n",
    "    \"\"\"\n",
    "    def __init__(self, configs: DropConfigs, client_id, used_accounts=pd.Series(name=\"account_id\")):\n",
    "        \"\"\"\n",
    "        configs - pd.DataFrame. Данные для создания транзакций: номера счетов клиентов и внешних счетов, и др.\n",
    "        client_id - int. id текущего дропа.\n",
    "        used_accounts - pd.Series. Счета на которые дропы уже отправляли деньги.\n",
    "        \"\"\"\n",
    "        self.accounts = configs.accounts\n",
    "        self.outer_accounts = configs.outer_accounts\n",
    "        self.client_id = client_id\n",
    "        # self.account = 0\n",
    "        self.account = configs.accounts.loc[configs.accounts.client_id == client_id, \"account_id\"].iat[0]\n",
    "        self.used_accounts = used_accounts\n",
    "\n",
    "    def get_account(self, to_drop):\n",
    "        \"\"\"\n",
    "        Номер счета входящего/исходящего перевода\n",
    "        to_drop - bool. Перевод другому дропу в нашем банке или нет.\n",
    "        \"\"\"\n",
    "        # Если отправляем/получаем из другого банка.  \n",
    "        if not to_drop:\n",
    "            # Семплируем номер внешнего счета который еще не использовался\n",
    "            account = self.outer_accounts.loc[~(self.outer_accounts.isin(self.used_accounts))].sample(1).iat[0]\n",
    "            # Добавляем этот счет в использованные как последнюю запись в серии\n",
    "            self.used_accounts.loc[self.used_accounts.shape[0]] = account\n",
    "            return account\n",
    "        \n",
    "        # Если надо отправить другому дропу в нашем банке. При условии что есть другие дропы на текущий момент\n",
    "        # Фильтруем accounts исключая свой счет и использованные счета, и выбирая дропов. Для случая если to_drop\n",
    "        drop_accounts = self.accounts.loc[(self.accounts.client_id != self.client_id) & (self.accounts.is_drop == True) \\\n",
    "                                          & ~(self.accounts.account_id.isin(self.used_accounts))]\n",
    "        \n",
    "        # Если счетов дропов ещё нет. Берем внешний неиспользованный счет\n",
    "        if drop_accounts.empty:\n",
    "            account = self.outer_accounts.loc[~(self.outer_accounts.isin(self.used_accounts))].sample(1).iat[0]\n",
    "            self.used_accounts.loc[self.used_accounts.shape[0]] = account\n",
    "            return account\n",
    "\n",
    "        # Дропы есть\n",
    "        account = drop_accounts.account_id.sample(1).iat[0]\n",
    "        # Добавляем этот счет в использованные как последнюю запись в серии\n",
    "        self.used_accounts.loc[self.used_accounts.shape[0]] = account\n",
    "        return account\n",
    "\n",
    "\n",
    "    def reset_cache(self):\n",
    "        \"\"\"\n",
    "        Сброс кэшированных значений.\n",
    "        Это только использованные номера счетов\n",
    "        \"\"\"\n",
    "        self.used_accounts = pd.Series(name=\"account_id\")"
   ]
  },
  {
   "cell_type": "markdown",
   "id": "7ad480ac-a6d9-441c-b9a8-a74b4317d614",
   "metadata": {},
   "source": [
    "**Тест `DropAccountHandler`**"
   ]
  },
  {
   "cell_type": "code",
   "execution_count": 703,
   "id": "b72a9f22-a462-48a5-add0-58f66fed9515",
   "metadata": {},
   "outputs": [],
   "source": [
    "# импорт на время разработки\n",
    "\n",
    "import data_generator.fraud.drops.base\n",
    "importlib.reload(data_generator.fraud.drops.base)\n",
    "from data_generator.fraud.drops.base import DropAccountHandler"
   ]
  },
  {
   "cell_type": "code",
   "execution_count": 704,
   "id": "906163ab-8fd8-4081-acae-4595e475cb24",
   "metadata": {},
   "outputs": [],
   "source": [
    "drop_acc_hand1 = DropAccountHandler(configs=dist_configs)"
   ]
  },
  {
   "cell_type": "code",
   "execution_count": 705,
   "id": "62193c78-e3b2-4783-aa1d-8dcf705af455",
   "metadata": {},
   "outputs": [],
   "source": [
    "drop_acc_hand1.client_id = 1"
   ]
  },
  {
   "cell_type": "code",
   "execution_count": 685,
   "id": "aa8318ef-b7e8-4790-9bc4-f00d028b19bc",
   "metadata": {},
   "outputs": [
    {
     "data": {
      "text/plain": [
       "np.int64(10000)"
      ]
     },
     "execution_count": 685,
     "metadata": {},
     "output_type": "execute_result"
    }
   ],
   "source": [
    "drop_acc_hand1.get_account(own=True)\n",
    "drop_acc_hand1.account"
   ]
  },
  {
   "cell_type": "code",
   "execution_count": 520,
   "id": "7b2f697c-1a71-4ea8-a75a-f3d8ac10e9b2",
   "metadata": {},
   "outputs": [
    {
     "data": {
      "text/plain": [
       "np.int64(18331)"
      ]
     },
     "execution_count": 520,
     "metadata": {},
     "output_type": "execute_result"
    }
   ],
   "source": [
    "drop_acc_hand1.get_account()"
   ]
  },
  {
   "cell_type": "code",
   "execution_count": 521,
   "id": "70177fce-dde6-4f6e-9f12-500feba2ce42",
   "metadata": {},
   "outputs": [
    {
     "data": {
      "text/plain": [
       "0    18331\n",
       "Name: account_id, dtype: int64"
      ]
     },
     "execution_count": 521,
     "metadata": {},
     "output_type": "execute_result"
    }
   ],
   "source": [
    "drop_acc_hand1.used_accounts"
   ]
  },
  {
   "cell_type": "code",
   "execution_count": 541,
   "id": "4f28cf59-94f0-4338-a623-7f9712b264f9",
   "metadata": {},
   "outputs": [],
   "source": [
    "drop_acc_hand1.label_drop()"
   ]
  },
  {
   "cell_type": "code",
   "execution_count": 687,
   "id": "b93cf7a2-a669-4121-9763-41df3ea0bd2c",
   "metadata": {},
   "outputs": [
    {
     "data": {
      "text/html": [
       "<div>\n",
       "<style scoped>\n",
       "    .dataframe tbody tr th:only-of-type {\n",
       "        vertical-align: middle;\n",
       "    }\n",
       "\n",
       "    .dataframe tbody tr th {\n",
       "        vertical-align: top;\n",
       "    }\n",
       "\n",
       "    .dataframe thead th {\n",
       "        text-align: right;\n",
       "    }\n",
       "</style>\n",
       "<table border=\"1\" class=\"dataframe\">\n",
       "  <thead>\n",
       "    <tr style=\"text-align: right;\">\n",
       "      <th></th>\n",
       "      <th>client_id</th>\n",
       "      <th>account_id</th>\n",
       "      <th>is_drop</th>\n",
       "    </tr>\n",
       "  </thead>\n",
       "  <tbody>\n",
       "    <tr>\n",
       "      <th>0</th>\n",
       "      <td>1</td>\n",
       "      <td>10000</td>\n",
       "      <td>True</td>\n",
       "    </tr>\n",
       "    <tr>\n",
       "      <th>1</th>\n",
       "      <td>2</td>\n",
       "      <td>10001</td>\n",
       "      <td>False</td>\n",
       "    </tr>\n",
       "  </tbody>\n",
       "</table>\n",
       "</div>"
      ],
      "text/plain": [
       "   client_id  account_id  is_drop\n",
       "0          1       10000     True\n",
       "1          2       10001    False"
      ]
     },
     "execution_count": 687,
     "metadata": {},
     "output_type": "execute_result"
    }
   ],
   "source": [
    "drop_acc_hand1.accounts.head(2)"
   ]
  },
  {
   "cell_type": "code",
   "execution_count": 545,
   "id": "6b5163c1-3a02-4079-a5f1-3b68704e027c",
   "metadata": {},
   "outputs": [],
   "source": [
    "drop_acc_hand1.client_id = 99"
   ]
  },
  {
   "cell_type": "code",
   "execution_count": 686,
   "id": "c4ba62e4-e151-424a-bbf0-8396826facc0",
   "metadata": {},
   "outputs": [],
   "source": [
    "drop_acc_hand1.get_account(own=True)\n",
    "drop_acc_hand1.label_drop()"
   ]
  },
  {
   "cell_type": "code",
   "execution_count": 688,
   "id": "9cc44296-8e7c-4e18-ae85-d2bb1641ee70",
   "metadata": {},
   "outputs": [
    {
     "data": {
      "text/html": [
       "<div>\n",
       "<style scoped>\n",
       "    .dataframe tbody tr th:only-of-type {\n",
       "        vertical-align: middle;\n",
       "    }\n",
       "\n",
       "    .dataframe tbody tr th {\n",
       "        vertical-align: top;\n",
       "    }\n",
       "\n",
       "    .dataframe thead th {\n",
       "        text-align: right;\n",
       "    }\n",
       "</style>\n",
       "<table border=\"1\" class=\"dataframe\">\n",
       "  <thead>\n",
       "    <tr style=\"text-align: right;\">\n",
       "      <th></th>\n",
       "      <th>client_id</th>\n",
       "      <th>account_id</th>\n",
       "      <th>is_drop</th>\n",
       "    </tr>\n",
       "  </thead>\n",
       "  <tbody>\n",
       "    <tr>\n",
       "      <th>93</th>\n",
       "      <td>99</td>\n",
       "      <td>10093</td>\n",
       "      <td>False</td>\n",
       "    </tr>\n",
       "  </tbody>\n",
       "</table>\n",
       "</div>"
      ],
      "text/plain": [
       "    client_id  account_id  is_drop\n",
       "93         99       10093    False"
      ]
     },
     "execution_count": 688,
     "metadata": {},
     "output_type": "execute_result"
    }
   ],
   "source": [
    "drop_acc_hand1.accounts.query(\"client_id == 99\")"
   ]
  },
  {
   "cell_type": "markdown",
   "id": "82e61636-7626-493a-b478-2b9612b56195",
   "metadata": {},
   "source": [
    "**`to_drop=True`**  нет дропов в self.accounts  (кроме текущего дропа)"
   ]
  },
  {
   "cell_type": "code",
   "execution_count": 689,
   "id": "45d188f3-513f-492d-bbc4-85fccdb3e0f3",
   "metadata": {},
   "outputs": [],
   "source": [
    "own_id = drop_acc_hand1.client_id"
   ]
  },
  {
   "cell_type": "code",
   "execution_count": 691,
   "id": "768e20f3-7379-4eb4-80db-e392150bc223",
   "metadata": {},
   "outputs": [
    {
     "data": {
      "text/html": [
       "<div>\n",
       "<style scoped>\n",
       "    .dataframe tbody tr th:only-of-type {\n",
       "        vertical-align: middle;\n",
       "    }\n",
       "\n",
       "    .dataframe tbody tr th {\n",
       "        vertical-align: top;\n",
       "    }\n",
       "\n",
       "    .dataframe thead th {\n",
       "        text-align: right;\n",
       "    }\n",
       "</style>\n",
       "<table border=\"1\" class=\"dataframe\">\n",
       "  <thead>\n",
       "    <tr style=\"text-align: right;\">\n",
       "      <th></th>\n",
       "      <th>client_id</th>\n",
       "      <th>account_id</th>\n",
       "      <th>is_drop</th>\n",
       "    </tr>\n",
       "  </thead>\n",
       "  <tbody>\n",
       "  </tbody>\n",
       "</table>\n",
       "</div>"
      ],
      "text/plain": [
       "Empty DataFrame\n",
       "Columns: [client_id, account_id, is_drop]\n",
       "Index: []"
      ]
     },
     "execution_count": 691,
     "metadata": {},
     "output_type": "execute_result"
    }
   ],
   "source": [
    "drop_acc_hand1.accounts.query(\"client_id != @own_id and is_drop == True\")"
   ]
  },
  {
   "cell_type": "code",
   "execution_count": 694,
   "id": "97714e7a-7183-4df5-8d33-67cd5e36a7d8",
   "metadata": {},
   "outputs": [
    {
     "data": {
      "text/plain": [
       "4920    20289\n",
       "Name: account_id, dtype: int64"
      ]
     },
     "execution_count": 694,
     "metadata": {},
     "output_type": "execute_result"
    }
   ],
   "source": [
    "drop_acc_hand1.reset_cache()\n",
    "outer_acc1 = drop_acc_hand1.get_account(to_drop=True)\n",
    "drop_acc_hand1.outer_accounts.loc[drop_acc_hand1.outer_accounts == outer_acc1]"
   ]
  },
  {
   "cell_type": "code",
   "execution_count": 695,
   "id": "ba98c4ed-c11f-49ed-8bc2-c6f768a5392a",
   "metadata": {},
   "outputs": [
    {
     "data": {
      "text/plain": [
       "0    20289\n",
       "Name: account_id, dtype: int64"
      ]
     },
     "execution_count": 695,
     "metadata": {},
     "output_type": "execute_result"
    }
   ],
   "source": [
    "drop_acc_hand1.used_accounts"
   ]
  },
  {
   "cell_type": "markdown",
   "id": "3c9b85bf-89c2-4758-8b73-0f8ebc3290d0",
   "metadata": {},
   "source": [
    "**`to_drop=True`** кол-во дропов в self.accounts меньше чем self.min_drops"
   ]
  },
  {
   "cell_type": "code",
   "execution_count": 710,
   "id": "9660a0cb-1c72-486e-b889-94bc3903e8d8",
   "metadata": {},
   "outputs": [
    {
     "name": "stdout",
     "output_type": "stream",
     "text": [
      "6\n"
     ]
    },
    {
     "data": {
      "text/plain": [
       "5"
      ]
     },
     "execution_count": 710,
     "metadata": {},
     "output_type": "execute_result"
    }
   ],
   "source": [
    "drop_acc_hand1.reset_cache()\n",
    "min_drops = dist_configs.to_drops[\"min_drops\"]\n",
    "print(min_drops)\n",
    "drop_acc_hand1.accounts[\"is_drop\"] = False\n",
    "drop_acc_hand1.get_account(own=True)\n",
    "\n",
    "accs_samp = drop_acc_hand1.accounts.query(\"client_id != @own_id\").client_id.sample(n=min_drops - 1)\n",
    "drop_acc_hand1.accounts.loc[drop_acc_hand1.accounts.client_id.isin(accs_samp), \"is_drop\"] = True\n",
    "drop_acc_hand1.accounts.query(\"client_id != @own_id and is_drop == True\").shape[0]"
   ]
  },
  {
   "cell_type": "code",
   "execution_count": 711,
   "id": "bcbfd749-53b8-407d-b1b0-1b9209aa8dee",
   "metadata": {},
   "outputs": [
    {
     "data": {
      "text/plain": [
       "np.int64(21917)"
      ]
     },
     "execution_count": 711,
     "metadata": {},
     "output_type": "execute_result"
    }
   ],
   "source": [
    "outer_acc2 = drop_acc_hand1.get_account(to_drop=True)\n",
    "outer_acc2"
   ]
  },
  {
   "cell_type": "code",
   "execution_count": 712,
   "id": "692b2944-3580-47eb-a725-9814979bfe39",
   "metadata": {},
   "outputs": [
    {
     "data": {
      "text/plain": [
       "6548    21917\n",
       "Name: account_id, dtype: int64"
      ]
     },
     "execution_count": 712,
     "metadata": {},
     "output_type": "execute_result"
    }
   ],
   "source": [
    "drop_acc_hand1.outer_accounts.loc[drop_acc_hand1.outer_accounts == outer_acc2]"
   ]
  },
  {
   "cell_type": "code",
   "execution_count": 713,
   "id": "0261fe16-4dd6-4cba-bad3-74b85d90714d",
   "metadata": {},
   "outputs": [
    {
     "data": {
      "text/plain": [
       "0    21917\n",
       "Name: account_id, dtype: int64"
      ]
     },
     "execution_count": 713,
     "metadata": {},
     "output_type": "execute_result"
    }
   ],
   "source": [
    "drop_acc_hand1.used_accounts"
   ]
  },
  {
   "cell_type": "markdown",
   "id": "36dfbc83-c7ca-4a42-aefc-2dd8437d2ea1",
   "metadata": {},
   "source": [
    "**`to_drop=True`** кол-во дропов в self.accounts `>=` self.min_drops"
   ]
  },
  {
   "cell_type": "code",
   "execution_count": 714,
   "id": "089cbcf9-1c08-4ab6-ad0f-091035ac8f43",
   "metadata": {},
   "outputs": [
    {
     "name": "stdout",
     "output_type": "stream",
     "text": [
      "6\n"
     ]
    },
    {
     "data": {
      "text/plain": [
       "6"
      ]
     },
     "execution_count": 714,
     "metadata": {},
     "output_type": "execute_result"
    }
   ],
   "source": [
    "drop_acc_hand1.reset_cache()\n",
    "min_drops = dist_configs.to_drops[\"min_drops\"]\n",
    "print(min_drops)\n",
    "drop_acc_hand1.accounts[\"is_drop\"] = False\n",
    "drop_acc_hand1.get_account(own=True)\n",
    "\n",
    "accs_samp3 = drop_acc_hand1.accounts.query(\"client_id != @own_id\").client_id.sample(n=min_drops)\n",
    "drop_acc_hand1.accounts.loc[drop_acc_hand1.accounts.client_id.isin(accs_samp3), \"is_drop\"] = True\n",
    "drop_acc_hand1.accounts.query(\"client_id != @own_id and is_drop == True\").shape[0]"
   ]
  },
  {
   "cell_type": "code",
   "execution_count": 715,
   "id": "893a152b-652b-4ae2-ba00-30ef89ddf9ed",
   "metadata": {},
   "outputs": [
    {
     "data": {
      "text/plain": [
       "np.int64(13694)"
      ]
     },
     "execution_count": 715,
     "metadata": {},
     "output_type": "execute_result"
    }
   ],
   "source": [
    "drop_acc1 = drop_acc_hand1.get_account(to_drop=True)\n",
    "drop_acc1"
   ]
  },
  {
   "cell_type": "code",
   "execution_count": 717,
   "id": "8e600194-754c-4c54-a3ce-d5c73f583935",
   "metadata": {},
   "outputs": [
    {
     "data": {
      "text/html": [
       "<div>\n",
       "<style scoped>\n",
       "    .dataframe tbody tr th:only-of-type {\n",
       "        vertical-align: middle;\n",
       "    }\n",
       "\n",
       "    .dataframe tbody tr th {\n",
       "        vertical-align: top;\n",
       "    }\n",
       "\n",
       "    .dataframe thead th {\n",
       "        text-align: right;\n",
       "    }\n",
       "</style>\n",
       "<table border=\"1\" class=\"dataframe\">\n",
       "  <thead>\n",
       "    <tr style=\"text-align: right;\">\n",
       "      <th></th>\n",
       "      <th>client_id</th>\n",
       "      <th>account_id</th>\n",
       "      <th>is_drop</th>\n",
       "    </tr>\n",
       "  </thead>\n",
       "  <tbody>\n",
       "    <tr>\n",
       "      <th>3694</th>\n",
       "      <td>3904</td>\n",
       "      <td>13694</td>\n",
       "      <td>True</td>\n",
       "    </tr>\n",
       "  </tbody>\n",
       "</table>\n",
       "</div>"
      ],
      "text/plain": [
       "      client_id  account_id  is_drop\n",
       "3694       3904       13694     True"
      ]
     },
     "execution_count": 717,
     "metadata": {},
     "output_type": "execute_result"
    }
   ],
   "source": [
    "drop_acc_hand1.accounts.loc[drop_acc_hand1.accounts.account_id == drop_acc1]"
   ]
  },
  {
   "cell_type": "code",
   "execution_count": null,
   "id": "e0910c0a-8dae-4e5f-8ab0-62c141e14463",
   "metadata": {},
   "outputs": [],
   "source": []
  },
  {
   "cell_type": "markdown",
   "id": "50d8d7cd-89a2-49a0-adef-3c5e5fb0ab3e",
   "metadata": {},
   "source": [
    "## Класс `DropAmountHandler`"
   ]
  },
  {
   "cell_type": "code",
   "execution_count": null,
   "id": "d4e2fada-c7a7-4268-a71f-a6dce6f52735",
   "metadata": {},
   "outputs": [],
   "source": [
    "# class DropAmountHandler: \n",
    "#     \"\"\"\n",
    "#     Генератор сумм входящих/исходящих транзакций, сумм снятий.\n",
    "#     Управление балансом текущего дропа.\n",
    "#     -------------\n",
    "#     Атрибуты:\n",
    "#     balance: float, int. Текущий баланс дропа. По умолчанию 0.\n",
    "#     batch_txns: int. Счетчик транзакций сделанных в рамках распределения полученной партии денег.\n",
    "#                       По умолчанию 0.\n",
    "#     chunk_size: int, float. Последний созданный размер части баланса для перевода по частям\n",
    "#                              По умолчанию 0.\n",
    "#     chunks: dict. Содержит ключи:\n",
    "#         atm_min: int. Минимальная сумма для снятий в банкомате.\n",
    "#         atm_share: float. Доля от баланса, которую дроп снимает в случае снятия в банкомате\n",
    "#         low: int. Минимальная сумма исходящего перевода частями.\n",
    "#         high: int. Максимальная сумма исходящего перевода частями.\n",
    "#         step: int. Шаг возможных сумм. Чем меньше шаг, тем больше вариантов.\n",
    "#         rand_rate: float. От 0 до 1.\n",
    "#                    Процент случаев, когда каждый НЕ первый чанк будет случайным и не зависеть от предыдущего.\n",
    "#                    Но возможны случайные совпадаения с предыдущим размером чанка.\n",
    "#                    Доля случайных размеров подряд будет:\n",
    "#                    p(c) - вероятность взять определенный размер (зависит от размера выборки чанков)\n",
    "#                    p(r) - rand_rate\n",
    "#                    p(r) - (p(r) * p(c)). Например p(r) = 0.9; и 5 вариантов размеров чанка - p(c) = 0.20\n",
    "#                    0.9 - (0.9 * 0.2) = 0.72\n",
    "#                    В около 72% случаев размеры чанков не будут подряд одинаковыми \n",
    "#     inbound_amt: dict. Настройки для сумм входящих транзакций. Содержит ключи:\n",
    "#         low: int\n",
    "#         high: int\n",
    "#         mean: int\n",
    "#         std: int\n",
    "#     round: int. Округление целой части сумм транзакций. Напр. 500 значит что суммы будут кратны 500 - кончаться на 500 или 000                  \n",
    "#     \"\"\"\n",
    "\n",
    "#     def __init__(self, configs: DropDistributorCfg | DropPurchaserCfg):\n",
    "#         \"\"\"\n",
    "#         configs: DropDistributorCfg | DropPurchaserCfg. Данные на основании, которых генерируются транзакции.\n",
    "#                  Отсюда берутся: atm_min, atm_share, min, step, rand_rate.\n",
    "#         \"\"\"\n",
    "#         self.balance = 0\n",
    "#         self.batch_txns = 0\n",
    "#         self.chunk_size = 0\n",
    "#         self.chunks = configs.chunks.copy()\n",
    "#         self.inbound_amt = configs.inbound_amt.copy()\n",
    "#         self.round = configs.round\n",
    "#         # self.atm_min = configs.chunks[\"atm_min\"]\n",
    "#         # self.atm_share = configs.chunks[\"atm_share\"]\n",
    "#         # self.min = configs.chunks[\"min\"]\n",
    "#         # self.max = configs.chunks[\"max\"]\n",
    "#         # self.step = configs.chunks[\"step\"]\n",
    "#         # self.rand_rate = configs.chunks[\"rand_rate\"]\n",
    "\n",
    "#     def update_balance(self, amount, receive=False, declined=False):\n",
    "#         \"\"\"\n",
    "#         Увеличить/уменьшить баланс на указанную сумму\n",
    "#         -------------------\n",
    "#         amount - float, int.\n",
    "#         receive - bool. Входящая ли транзакция. Прибавлять сумму или отнимать.\n",
    "#         declined - bool. Отклонена ли транзакция или одобрена.\n",
    "#         \"\"\"\n",
    "#         # Не обновлять баланс если транзакция отклонена.\n",
    "#         if declined:\n",
    "#             return\n",
    "            \n",
    "#         # Увеличить баланс   \n",
    "#         if receive:\n",
    "#             self.balance += amount\n",
    "#             return\n",
    "            \n",
    "#         # Уменьшить баланс    \n",
    "#         self.balance -= amount\n",
    "\n",
    "#     def receive(self, declined):\n",
    "#         \"\"\"\n",
    "#         Генерация суммы входящего перевода\n",
    "#         --------------------------\n",
    "#         declined - bool. Отклонена ли транзакция или одобрена\n",
    "#         \"\"\"\n",
    "#         low = self.inbound_amt[\"low\"]\n",
    "#         high = self.inbound_amt[\"high\"]\n",
    "#         mean = self.inbound_amt[\"mean\"]\n",
    "#         std = self.inbound_amt[\"std\"]\n",
    "\n",
    "#         # Генерация суммы. Округление целой части при необходимости\n",
    "#         amount = get_values_from_truncnorm(low_bound=low, high_bound=high, mean=mean, std=std)[0] // self.round * self.round\n",
    "        \n",
    "#         # Обновляем баланс если транзакция не отклонена\n",
    "#         self.update_balance(amount=amount, receive=True, declined=declined)\n",
    "        \n",
    "#         return amount\n",
    "\n",
    "#     def get_chunk_size(self, online=False):\n",
    "#         \"\"\"\n",
    "#         Вернуть случайный размер суммы перевода для перевода по частям\n",
    "#         либо вернуть долю от баланса для снятия/перевода по частям.\n",
    "#         -------------------------------\n",
    "#         online - bool. Онлайн или оффлайн. Перевод или банкомат. Если банкомат, то снимается доля self.chunks[\"atm_share\"] от баланса, \n",
    "#                  но не меньше self.chunks[\"atm_min\"]\n",
    "#         --------------------\n",
    "#         Возвращает np.int64\n",
    "#         Результат кэшируется в self.chunk_size\n",
    "#         \"\"\"\n",
    "#         # Если это не первая транзакция в серии транзакции для одной полученной дропом суммы\n",
    "#         # И случайное число больше rand_rate, то просто возвращаем ранее созданный размер чанка\n",
    "#         rand_rate = self.chunks[\"rand_rate\"]\n",
    "#         if self.batch_txns != 0 and np.random.uniform(0,1) > rand_rate:\n",
    "#             return self.chunk_size\n",
    "\n",
    "#         # Если снятие\n",
    "#         if not online:\n",
    "#             atm_min = self.chunks[\"atm_min\"]\n",
    "#             atm_share = self.chunks[\"atm_share\"]\n",
    "#             self.chunk_size = max(atm_min, self.balance * atm_share // self.round * self.round)\n",
    "#             return self.chunk_size\n",
    "        \n",
    "#         # Если перевод. \n",
    "#         # Берем лимиты под генерацию массива чанков, в зависимости от\n",
    "#         # полученной дропом суммы\n",
    "#         small = self.chunks[\"rcvd_small\"]\n",
    "#         medium = self.chunks[\"rcvd_medium\"] \n",
    "#         large = self.chunks[\"rcvd_large\"]\n",
    "#         step = self.chunks[\"step\"]\n",
    "\n",
    "#         if self.balance <= small[\"limit\"]:\n",
    "#             low = min(self.balance, small[\"min\"]) # но не больше суммы на балансе\n",
    "#             high = min(self.balance, small[\"max\"]) # но не больше суммы на балансе\n",
    "\n",
    "#         elif self.balance <= medium[\"limit\"]:\n",
    "#             low = min(self.balance, medium[\"min\"])\n",
    "#             high = min(self.balance, medium[\"max\"])\n",
    "\n",
    "#         else:\n",
    "#             low = min(self.balance, large[\"min\"])\n",
    "#             high = min(self.balance, large[\"max\"])\n",
    "   \n",
    "#         # прибавим шаг к максимуму, чтобы было понятнее передавать аргументы в конфиге \n",
    "#         # и не учитывать исключение значения stop в np.arange\n",
    "#         sampling_array = np.arange(low, high + step, step)\n",
    "#         # Если чанк больше бал\n",
    "#         self.chunk_size = np.random.choice(sampling_array)\n",
    "#         return self.chunk_size"
   ]
  },
  {
   "cell_type": "markdown",
   "id": "875e6b2e-9908-4310-8e40-7e4865122b2e",
   "metadata": {},
   "source": [
    "**Тест `DropAmountHandler`**"
   ]
  },
  {
   "cell_type": "code",
   "execution_count": 971,
   "id": "6d2c3ceb-e3e8-477b-a3f7-f02995bb270b",
   "metadata": {},
   "outputs": [],
   "source": [
    "# импорт на время разработки\n",
    "\n",
    "import data_generator.fraud.drops.base\n",
    "importlib.reload(data_generator.fraud.drops.base)\n",
    "from data_generator.fraud.drops.base import DropAmountHandler\n",
    "drop_amt1 = DropAmountHandler(configs=dist_configs)"
   ]
  },
  {
   "cell_type": "code",
   "execution_count": 875,
   "id": "757416b7-57e8-43ea-8216-b26ce1f9a56e",
   "metadata": {},
   "outputs": [
    {
     "data": {
      "text/plain": [
       "{'atm_min': 10000,\n",
       " 'atm_share': {'min': 0.3, 'max': 0.7},\n",
       " 'step': 1000,\n",
       " 'rand_rate': 0.9,\n",
       " 'rcvd_small': {'limit': 10000, 'min': 3000, 'max': 10000},\n",
       " 'rcvd_medium': {'limit': 30000, 'min': 5000, 'max': 25000},\n",
       " 'rcvd_large': {'min': 10000, 'max': 40000}}"
      ]
     },
     "execution_count": 875,
     "metadata": {},
     "output_type": "execute_result"
    }
   ],
   "source": [
    "drop_amt1.chunks"
   ]
  },
  {
   "cell_type": "code",
   "execution_count": 97,
   "id": "088eb415-8574-454d-a95f-c73861462863",
   "metadata": {},
   "outputs": [
    {
     "data": {
      "text/plain": [
       "(0, 0, 0)"
      ]
     },
     "execution_count": 97,
     "metadata": {},
     "output_type": "execute_result"
    }
   ],
   "source": [
    "drop_amt1.balance, drop_amt1.batch_txns, drop_amt1.chunk_size"
   ]
  },
  {
   "cell_type": "code",
   "execution_count": 883,
   "id": "760741f0-627d-4262-9a9d-9329e53c8a40",
   "metadata": {},
   "outputs": [
    {
     "data": {
      "text/plain": [
       "0.6118701379189273"
      ]
     },
     "execution_count": 883,
     "metadata": {},
     "output_type": "execute_result"
    }
   ],
   "source": [
    "drop_amt1.get_atm_share"
   ]
  },
  {
   "cell_type": "code",
   "execution_count": 606,
   "id": "bb326e2d-63fc-4ea1-a089-0a4ce5e343cb",
   "metadata": {},
   "outputs": [],
   "source": [
    "# drop_amt1.chunks, drop_amt1.receive, drop_amt1.round"
   ]
  },
  {
   "cell_type": "code",
   "execution_count": 650,
   "id": "d52618f1-fb13-4d50-85ff-426c00b8a347",
   "metadata": {},
   "outputs": [
    {
     "data": {
      "text/plain": [
       "0"
      ]
     },
     "execution_count": 650,
     "metadata": {},
     "output_type": "execute_result"
    }
   ],
   "source": [
    "drop_amt1.reset_cache()\n",
    "drop_amt1.balance"
   ]
  },
  {
   "cell_type": "code",
   "execution_count": 98,
   "id": "cac6fef0-87c9-4b3e-a6bb-65ae34b3a73c",
   "metadata": {},
   "outputs": [
    {
     "data": {
      "text/plain": [
       "{'low': 5000, 'high': 100000, 'mean': 30000, 'std': 20000}"
      ]
     },
     "execution_count": 98,
     "metadata": {},
     "output_type": "execute_result"
    }
   ],
   "source": [
    "drop_amt1.inbound_amt"
   ]
  },
  {
   "cell_type": "code",
   "execution_count": 891,
   "id": "7411d36f-0aed-4210-a9cf-5e30ea6d1b1a",
   "metadata": {},
   "outputs": [
    {
     "data": {
      "text/plain": [
       "29200.0"
      ]
     },
     "execution_count": 891,
     "metadata": {},
     "output_type": "execute_result"
    }
   ],
   "source": [
    "drop_amt1.balance = 50000\n",
    "drop_amt1.get_chunk_size(online=False)"
   ]
  },
  {
   "cell_type": "code",
   "execution_count": 99,
   "id": "233be42a-f0b6-4c58-8c6e-7dbd69fc5ed8",
   "metadata": {},
   "outputs": [
    {
     "name": "stdout",
     "output_type": "stream",
     "text": [
      "balance: 0\n"
     ]
    },
    {
     "data": {
      "text/plain": [
       "min      5000.0\n",
       "max     99500.0\n",
       "mean    34076.9\n",
       "Name: rcvd_amt, dtype: float64"
      ]
     },
     "execution_count": 99,
     "metadata": {},
     "output_type": "execute_result"
    }
   ],
   "source": [
    "drop_amt1.reset_cache()\n",
    "received_list = [drop_amt1.receive(declined=True) for _ in range(10000)]\n",
    "rcvd_amts_df = pd.DataFrame(pd.Series(received_list, name=\"rcvd_amt\"))\n",
    "print(f\"balance: {drop_amt1.balance}\")\n",
    "rcvd_amts_df.rcvd_amt.agg([\"min\",\"max\", \"mean\"])"
   ]
  },
  {
   "cell_type": "code",
   "execution_count": 100,
   "id": "4e6396ab-21be-4925-adb9-ca0961a8ce40",
   "metadata": {},
   "outputs": [
    {
     "data": {
      "text/plain": [
       "np.float64(30500.0)"
      ]
     },
     "execution_count": 100,
     "metadata": {},
     "output_type": "execute_result"
    }
   ],
   "source": [
    "drop_amt1.receive(declined=False)"
   ]
  },
  {
   "cell_type": "code",
   "execution_count": 101,
   "id": "a5e8d761-f908-446c-9e1a-ca3c8ea2068a",
   "metadata": {},
   "outputs": [
    {
     "data": {
      "text/plain": [
       "np.float64(30500.0)"
      ]
     },
     "execution_count": 101,
     "metadata": {},
     "output_type": "execute_result"
    }
   ],
   "source": [
    "drop_amt1.balance"
   ]
  },
  {
   "cell_type": "code",
   "execution_count": 102,
   "id": "9209bf85-fc1e-4c11-96d2-8d83c1654fd2",
   "metadata": {},
   "outputs": [
    {
     "data": {
      "text/plain": [
       "np.float64(28000.0)"
      ]
     },
     "execution_count": 102,
     "metadata": {},
     "output_type": "execute_result"
    }
   ],
   "source": [
    "drop_amt1.receive(declined=False)"
   ]
  },
  {
   "cell_type": "code",
   "execution_count": 103,
   "id": "115c7523-7009-485e-b132-1f73979e4b8f",
   "metadata": {},
   "outputs": [
    {
     "data": {
      "text/plain": [
       "np.float64(58500.0)"
      ]
     },
     "execution_count": 103,
     "metadata": {},
     "output_type": "execute_result"
    }
   ],
   "source": [
    "drop_amt1.balance"
   ]
  },
  {
   "cell_type": "code",
   "execution_count": 104,
   "id": "dc5107a9-a980-4195-b09e-35113bfc1a19",
   "metadata": {},
   "outputs": [
    {
     "name": "stdout",
     "output_type": "stream",
     "text": [
      "before:  58500.0\n"
     ]
    },
    {
     "data": {
      "text/plain": [
       "np.float64(58500.0)"
      ]
     },
     "execution_count": 104,
     "metadata": {},
     "output_type": "execute_result"
    }
   ],
   "source": [
    "print(\"before: \", drop_amt1.balance)\n",
    "drop_amt1.update_balance(amount=7000, receive=False, declined=True)\n",
    "drop_amt1.balance"
   ]
  },
  {
   "cell_type": "markdown",
   "id": "e309cd1f-d113-4124-af9e-7cbe35f0d780",
   "metadata": {},
   "source": [
    "**Тест `chunk_size`**"
   ]
  },
  {
   "cell_type": "code",
   "execution_count": 689,
   "id": "42b24425-67de-447d-af08-9d8db4decc78",
   "metadata": {},
   "outputs": [],
   "source": [
    "# Значения атрибутов отличные от прописанных в конфиге - закомментить/раскомментить при надобности\n",
    "# drop_amt1.chunks[\"low\"] = 10000\n",
    "# drop_amt1.chunks[\"high\"] = 45000\n",
    "# drop_amt1.chunks[\"step\"] = 1000\n",
    "# drop_amt1.chunks[\"atm_min\"] = 15000\n",
    "# drop_amt1.chunks[\"atm_share\"] = 0.4\n",
    "# drop_amt1.chunks[\"rand_rate\"] = 0.5"
   ]
  },
  {
   "cell_type": "code",
   "execution_count": 204,
   "id": "ab436667-aa69-4f46-8903-be7b1b748c8c",
   "metadata": {},
   "outputs": [
    {
     "data": {
      "text/plain": [
       "(10000, 10000)"
      ]
     },
     "execution_count": 204,
     "metadata": {},
     "output_type": "execute_result"
    }
   ],
   "source": [
    "drop_amt1.balance = 10000\n",
    "drop_amt1.batch_txns = 1\n",
    "drop_amt1.get_chunk_size(online=False), drop_amt1.chunk_size"
   ]
  },
  {
   "cell_type": "code",
   "execution_count": 761,
   "id": "7ccb1ff6-4272-45f7-91e4-57d5b7f00442",
   "metadata": {},
   "outputs": [
    {
     "data": {
      "text/html": [
       "<div>\n",
       "<style scoped>\n",
       "    .dataframe tbody tr th:only-of-type {\n",
       "        vertical-align: middle;\n",
       "    }\n",
       "\n",
       "    .dataframe tbody tr th {\n",
       "        vertical-align: top;\n",
       "    }\n",
       "\n",
       "    .dataframe thead th {\n",
       "        text-align: right;\n",
       "    }\n",
       "</style>\n",
       "<table border=\"1\" class=\"dataframe\">\n",
       "  <thead>\n",
       "    <tr style=\"text-align: right;\">\n",
       "      <th></th>\n",
       "      <th>chunk_size</th>\n",
       "    </tr>\n",
       "  </thead>\n",
       "  <tbody>\n",
       "    <tr>\n",
       "      <th>0</th>\n",
       "      <td>7000</td>\n",
       "    </tr>\n",
       "    <tr>\n",
       "      <th>1</th>\n",
       "      <td>4000</td>\n",
       "    </tr>\n",
       "    <tr>\n",
       "      <th>2</th>\n",
       "      <td>4000</td>\n",
       "    </tr>\n",
       "    <tr>\n",
       "      <th>3</th>\n",
       "      <td>10000</td>\n",
       "    </tr>\n",
       "    <tr>\n",
       "      <th>4</th>\n",
       "      <td>8000</td>\n",
       "    </tr>\n",
       "  </tbody>\n",
       "</table>\n",
       "</div>"
      ],
      "text/plain": [
       "   chunk_size\n",
       "0        7000\n",
       "1        4000\n",
       "2        4000\n",
       "3       10000\n",
       "4        8000"
      ]
     },
     "execution_count": 761,
     "metadata": {},
     "output_type": "execute_result"
    }
   ],
   "source": [
    "drop_amt1.batch_txns = 1\n",
    "# drop_amt1.chunk_size = 20000\n",
    "drop_amt1.balance = drop_amt1.chunks[\"rcvd_small\"][\"limit\"]\n",
    "chunks_list = [drop_amt1.get_chunk_size(online=True) for _ in range(1000)]\n",
    "chunks_df = pd.DataFrame(pd.Series(chunks_list, name=\"chunk_size\"))\n",
    "chunks_df.head()"
   ]
  },
  {
   "cell_type": "code",
   "execution_count": 762,
   "id": "90ce9e0d-552e-48df-8e3f-57c2c46f6c2a",
   "metadata": {},
   "outputs": [
    {
     "data": {
      "text/html": [
       "<div>\n",
       "<style scoped>\n",
       "    .dataframe tbody tr th:only-of-type {\n",
       "        vertical-align: middle;\n",
       "    }\n",
       "\n",
       "    .dataframe tbody tr th {\n",
       "        vertical-align: top;\n",
       "    }\n",
       "\n",
       "    .dataframe thead th {\n",
       "        text-align: right;\n",
       "    }\n",
       "</style>\n",
       "<table border=\"1\" class=\"dataframe\">\n",
       "  <thead>\n",
       "    <tr style=\"text-align: right;\">\n",
       "      <th></th>\n",
       "      <th>chunk_size</th>\n",
       "      <th>prev_size</th>\n",
       "      <th>eq_to_prev</th>\n",
       "    </tr>\n",
       "  </thead>\n",
       "  <tbody>\n",
       "    <tr>\n",
       "      <th>0</th>\n",
       "      <td>7000</td>\n",
       "      <td>NaN</td>\n",
       "      <td>False</td>\n",
       "    </tr>\n",
       "    <tr>\n",
       "      <th>1</th>\n",
       "      <td>4000</td>\n",
       "      <td>7000.0</td>\n",
       "      <td>False</td>\n",
       "    </tr>\n",
       "    <tr>\n",
       "      <th>2</th>\n",
       "      <td>4000</td>\n",
       "      <td>4000.0</td>\n",
       "      <td>True</td>\n",
       "    </tr>\n",
       "  </tbody>\n",
       "</table>\n",
       "</div>"
      ],
      "text/plain": [
       "   chunk_size  prev_size  eq_to_prev\n",
       "0        7000        NaN       False\n",
       "1        4000     7000.0       False\n",
       "2        4000     4000.0        True"
      ]
     },
     "execution_count": 762,
     "metadata": {},
     "output_type": "execute_result"
    }
   ],
   "source": [
    "chunks_df[\"prev_size\"] = chunks_df.chunk_size.shift(1)\n",
    "chunks_df[\"eq_to_prev\"] = chunks_df[\"chunk_size\"] == chunks_df[\"prev_size\"]\n",
    "chunks_df.head(3)"
   ]
  },
  {
   "cell_type": "code",
   "execution_count": 105,
   "id": "01546ecd-278b-49e2-a6b9-61dcd0df1511",
   "metadata": {},
   "outputs": [
    {
     "name": "stdout",
     "output_type": "stream",
     "text": [
      "balance: 58500.0\n",
      "rand_rate: 0.9\n",
      "chunks number: 31\n",
      "prob of taking one chunk: 0.032\n",
      "0.871 chunks won't be the same as a previous chunk size\n"
     ]
    }
   ],
   "source": [
    "rand_rate1 = drop_amt1.chunks[\"rand_rate\"]\n",
    "\n",
    "# Берем лимиты под генерацию массива чанков, в зависимости от\n",
    "# полученной дропом суммы\n",
    "small = drop_amt1.chunks[\"rcvd_small\"]\n",
    "medium = drop_amt1.chunks[\"rcvd_medium\"] \n",
    "large = drop_amt1.chunks[\"rcvd_large\"]\n",
    "\n",
    "if drop_amt1.balance <= small[\"limit\"]:\n",
    "    low = small[\"min\"]\n",
    "    high = min(drop_amt1.balance, small[\"max\"])\n",
    "\n",
    "elif drop_amt1.balance <= medium[\"limit\"]:\n",
    "    low = medium[\"min\"]\n",
    "    high = min(drop_amt1.balance, medium[\"max\"])\n",
    "\n",
    "else:\n",
    "    low = large[\"min\"]\n",
    "    high = min(drop_amt1.balance, large[\"max\"])\n",
    "    \n",
    "step = drop_amt1.chunks[\"step\"]\n",
    "chunks_num = np.arange(start=low, stop=high + step, step=step).shape[0]\n",
    "one_chunk_p = 1 / chunks_num\n",
    "print(f\"\"\"balance: {drop_amt1.balance}\n",
    "rand_rate: {rand_rate1}\n",
    "chunks number: {chunks_num}\n",
    "prob of taking one chunk: {one_chunk_p:.3f}\n",
    "{rand_rate1 - (rand_rate1 * one_chunk_p):.3f} chunks won't be the same as a previous chunk size\"\"\")"
   ]
  },
  {
   "cell_type": "code",
   "execution_count": 764,
   "id": "b76eef62-6cdf-4b59-821b-f0303de8d04f",
   "metadata": {},
   "outputs": [
    {
     "data": {
      "text/plain": [
       "eq_to_prev\n",
       "False    0.788\n",
       "True     0.212\n",
       "Name: proportion, dtype: float64"
      ]
     },
     "execution_count": 764,
     "metadata": {},
     "output_type": "execute_result"
    }
   ],
   "source": [
    "chunks_df.eq_to_prev.value_counts(normalize=True)"
   ]
  },
  {
   "cell_type": "code",
   "execution_count": 757,
   "id": "03834b58-08b2-4f90-a880-813c0e851ff4",
   "metadata": {},
   "outputs": [
    {
     "data": {
      "text/plain": [
       "min     5000\n",
       "max    20000\n",
       "Name: chunk_size, dtype: int64"
      ]
     },
     "execution_count": 757,
     "metadata": {},
     "output_type": "execute_result"
    }
   ],
   "source": [
    "chunks_df.chunk_size.agg([\"min\",\"max\"])"
   ]
  },
  {
   "cell_type": "markdown",
   "id": "ca8bc950-e0b3-4783-a704-38122ff84d56",
   "metadata": {},
   "source": [
    "**Тест `reduce_amt`**"
   ]
  },
  {
   "cell_type": "code",
   "execution_count": 959,
   "id": "a64b1a47-13e1-4810-bd05-c2d5adafaa5e",
   "metadata": {},
   "outputs": [
    {
     "name": "stdout",
     "output_type": "stream",
     "text": [
      "manual:  1750.0\n"
     ]
    },
    {
     "data": {
      "text/plain": [
       "5300.0"
      ]
     },
     "execution_count": 959,
     "metadata": {},
     "output_type": "execute_result"
    }
   ],
   "source": [
    "drop_amt1.balance = 7000\n",
    "drop_amt1.first_decl = 7000\n",
    "drop_amt1.last_amt = 7000\n",
    "print(\"manual: \", drop_amt1.first_decl * drop_amt1.reduce_share)\n",
    "drop_amt1.reduce_amt()"
   ]
  },
  {
   "cell_type": "markdown",
   "id": "d16b5c2d-e547-4b2d-814c-73264cb15527",
   "metadata": {},
   "source": [
    "**тест `one_operation`**"
   ]
  },
  {
   "cell_type": "code",
   "execution_count": null,
   "id": "98209ffb-37b7-489b-882d-41bbc4b2f13f",
   "metadata": {},
   "outputs": [],
   "source": [
    "# chunks: # Настройки создания суммы, для распределения полученных денег по частям\n",
    "# atm_min: 10000 # Минимальная сумма для снятий в банкомате.\n",
    "# atm_share: 0.5 # Доля от баланса, которую дроп снимает в случае снятия в банкомате\n",
    "# step: 1000 # Шаг возможных сумм. Чем меньше шаг, тем больше вариантов.\n",
    "# rand_rate: 0.9 # В скольких случаях размер суммы должен быть семплирован, а не взят размер предыдущей транзакции\n",
    "# rcvd_small: # Категория полученной дропом суммы\n",
    "#   limit: 10000 # Категория все что \"до\" включительно\n",
    "#   min: 3000 # # Минимальная сумма чанка для этой категории\n",
    "#   max: 10000 # Максимальная сумма чанка для этой категории\n",
    "# rcvd_medium:\n",
    "#   limit: 30000\n",
    "#   min: 5000\n",
    "#   max: 25000\n",
    "# rcvd_large: # порог не прописываем, т.к. это все что выше medium\n",
    "#   min: 10000\n",
    "#   max: 40000"
   ]
  },
  {
   "cell_type": "code",
   "execution_count": 109,
   "id": "34df5c07-d51f-407b-afcc-28ba773d1dec",
   "metadata": {},
   "outputs": [],
   "source": [
    "small = drop_amt1.chunks[\"rcvd_small\"]\n",
    "medium = drop_amt1.chunks[\"rcvd_medium\"] \n",
    "large = drop_amt1.chunks[\"rcvd_large\"]"
   ]
  },
  {
   "cell_type": "markdown",
   "id": "7993afe4-0908-47ef-87e6-556c3e3c457c",
   "metadata": {},
   "source": [
    "**Ниже ячейка для кейсов:**\n",
    "- Не отклонена. Онлайн. Частями. Small\n",
    "- Не отклонена. Онлайн. Частями. Medium\n",
    "- Не отклонена. Онлайн. Частями. Large\n",
    "\n",
    "- `min_lim` всегда стоит `min_lim = small[\"min\"]` т.к. баланс уменьшается и могут срабатывать условия для `small`, `medium`\n",
    "- `drop_amt1.balance` для large ставить как `medium[\"limit\"] + число` т.к. у large нет своего лимита, используется все что выше `medium[\"limit\"]`"
   ]
  },
  {
   "cell_type": "code",
   "execution_count": 225,
   "id": "e843aa7c-ac73-4cc6-84fe-84eac4f4a1c5",
   "metadata": {},
   "outputs": [],
   "source": [
    "i = 0\n",
    "min_lim = small[\"min\"]\n",
    "max_lim = small[\"max\"]\n",
    "\n",
    "while i < 1000:\n",
    "    drop_amt1.reset_cache()\n",
    "    drop_amt1.balance = small[\"limit\"]\n",
    "    all_ops = []\n",
    "    \n",
    "    while drop_amt1.balance > 0:\n",
    "        one_op1 = drop_amt1.one_operation(online=True, declined=False, in_chunks=True)\n",
    "        all_ops.append(one_op1)\n",
    "        i += 1\n",
    "    all_ops_ser = pd.Series(all_ops)\n",
    "    # для минимального берем серию без последнего элемента. Т.к. там обычно уже остаток, а не чанк\n",
    "    if all_ops_ser.shape[0] == 1:\n",
    "        assert all_ops_ser.min() >= min_lim, \\\n",
    "                            f\"Min is lower than min limit. {all_ops_ser.min()}\"\n",
    "    else:\n",
    "        assert all_ops_ser.iloc[0:(all_ops_ser.shape[0] - 1)].min() >= min_lim, \\\n",
    "                            f\"Min is lower than min limit. {all_ops_ser.iloc[0:(all_ops_ser.shape[0] - 1)].min()}\"\n",
    "        \n",
    "    assert all_ops_ser.max() <= max_lim, \"Max is higher than min limit.\""
   ]
  },
  {
   "cell_type": "code",
   "execution_count": 195,
   "id": "e212e6dc-6b4e-4833-91de-ef4926c55eda",
   "metadata": {},
   "outputs": [
    {
     "data": {
      "text/plain": [
       "0    12000\n",
       "1    15000\n",
       "2     3000\n",
       "3     1000\n",
       "dtype: int64"
      ]
     },
     "execution_count": 195,
     "metadata": {},
     "output_type": "execute_result"
    }
   ],
   "source": [
    "all_ops_ser"
   ]
  },
  {
   "cell_type": "code",
   "execution_count": 227,
   "id": "f3f93354-a51b-4a58-9691-eefcc07d1b86",
   "metadata": {},
   "outputs": [],
   "source": [
    "atm_min = drop_amt1.chunks[\"atm_min\"]"
   ]
  },
  {
   "cell_type": "code",
   "execution_count": 232,
   "id": "aecf5121-7cf4-4cbf-a115-452ec81188ae",
   "metadata": {},
   "outputs": [
    {
     "name": "stdout",
     "output_type": "stream",
     "text": [
      "9000\n"
     ]
    },
    {
     "data": {
      "text/plain": [
       "0    9000\n",
       "dtype: int64"
      ]
     },
     "execution_count": 232,
     "metadata": {},
     "output_type": "execute_result"
    }
   ],
   "source": [
    "drop_amt1.reset_cache()\n",
    "drop_amt1.balance = atm_min - 1000\n",
    "print(drop_amt1.balance)\n",
    "all_ops2 = []\n",
    "\n",
    "while drop_amt1.balance > 0:\n",
    "    one_op2 = drop_amt1.one_operation(online=False, declined=False, in_chunks=True)\n",
    "    all_ops2.append(one_op2)\n",
    "all_ops_ser = pd.Series(all_ops2)\n",
    "all_ops_ser"
   ]
  },
  {
   "cell_type": "code",
   "execution_count": null,
   "id": "81b30394-d44e-4c72-b568-da4a8af55dd8",
   "metadata": {},
   "outputs": [],
   "source": []
  },
  {
   "cell_type": "markdown",
   "id": "0598055e-bf37-492b-9107-6afb651fa2b9",
   "metadata": {},
   "source": [
    "**Тест отклоненных транзакций. Онлайн/оффлайн**"
   ]
  },
  {
   "cell_type": "code",
   "execution_count": null,
   "id": "b048a3ef-4203-4421-bdfc-690dfb876984",
   "metadata": {},
   "outputs": [],
   "source": [
    "drop_amt1.reset_cache()\n",
    "drop_amt1.drop_txns, drop_amt1."
   ]
  },
  {
   "cell_type": "code",
   "execution_count": 976,
   "id": "fef049d4-eb3e-4de0-b49f-c5bb4d0c8232",
   "metadata": {},
   "outputs": [
    {
     "name": "stdout",
     "output_type": "stream",
     "text": [
      "47000\n",
      "0\n",
      "20700.0\n",
      "20700.0\n",
      "20700.0\n",
      "20700.0\n",
      "20700.0\n",
      "20700.0\n",
      "20700.0\n",
      "20700.0\n",
      "20700.0\n",
      "47000 \n",
      " [20700.0, 15600.0, 10500.0, 10000, 10000, 10000, 10000, 10000, 10000, 10000]\n"
     ]
    }
   ],
   "source": [
    "drop_amt1.reset_cache(life_end=True)\n",
    "drop_amt1.balance = atm_min + 37000\n",
    "print(drop_amt1.balance)\n",
    "one_op_list1 = []\n",
    "while True:\n",
    "    print(drop_amt1.first_decl)\n",
    "    one_op1 = drop_amt1.one_operation(online=False, declined=True, in_chunks=True)\n",
    "    \n",
    "    one_op_list1.append(one_op1)\n",
    "    if len(one_op_list1) == 10:\n",
    "        break\n",
    "print(drop_amt1.balance, \"\\n\", one_op_list1)"
   ]
  },
  {
   "cell_type": "code",
   "execution_count": 991,
   "id": "540b97e3-dcb5-44fb-911e-835866877160",
   "metadata": {},
   "outputs": [
    {
     "data": {
      "text/plain": [
       "0     20700.0\n",
       "1     15600.0\n",
       "2     10500.0\n",
       "3      5400.0\n",
       "4       300.0\n",
       "5     -4800.0\n",
       "6     -9900.0\n",
       "7    -15000.0\n",
       "8    -20100.0\n",
       "9    -25200.0\n",
       "10   -30300.0\n",
       "Name: amt, dtype: float64"
      ]
     },
     "execution_count": 991,
     "metadata": {},
     "output_type": "execute_result"
    }
   ],
   "source": [
    "cum_sub_df = pd.DataFrame()\n",
    "cum_sub_df[\"amt\"] = np.arange(0, 11, step=1)\n",
    "cum_sub_df[\"amt\"] = - (20700 * 0.25 // 100 * 100)\n",
    "cum_sub_df.loc[0, \"amt\"] = 20700\n",
    "cum_sub_df.amt.cumsum()"
   ]
  },
  {
   "cell_type": "markdown",
   "id": "01b32401-cd2e-45b8-abb0-6be9fb68197c",
   "metadata": {},
   "source": [
    "## Класс `DropTimeHandler`\n",
    "- управление временем транзакций дропа"
   ]
  },
  {
   "cell_type": "code",
   "execution_count": 238,
   "id": "dc2c6b55-46b0-4709-83af-9d89727ed534",
   "metadata": {},
   "outputs": [],
   "source": [
    "# <------------------------- ГОТОВЫЙ КЛАСС ВСТАВИТЬ--------------------------"
   ]
  },
  {
   "cell_type": "markdown",
   "id": "ae1c5eff-2fd0-4b61-b3f7-ca4efe527087",
   "metadata": {},
   "source": [
    "**Тест `DropTimeHandler`**"
   ]
  },
  {
   "cell_type": "code",
   "execution_count": 239,
   "id": "a48fdfb8-849e-43cc-8946-82a8d4ca09cc",
   "metadata": {},
   "outputs": [],
   "source": [
    "# Временный reload для разработки\n",
    "import data_generator.configs\n",
    "importlib.reload(data_generator.configs)\n",
    "import data_generator.fraud.drops.time\n",
    "importlib.reload(data_generator.fraud.drops.time)\n",
    "from data_generator.configs import DropDistributorCfg, DropPurchaserCfg\n",
    "from data_generator.fraud.drops.time import DropTimeHandler\n",
    "\n",
    "drop_time_hanler1 = DropTimeHandler(configs=dist_configs)"
   ]
  },
  {
   "cell_type": "code",
   "execution_count": 240,
   "id": "d3327057-d362-4750-971f-bb1f4b14462c",
   "metadata": {},
   "outputs": [
    {
     "data": {
      "text/plain": [
       "(np.float64(-2.687), np.int64(-180), np.int64(180))"
      ]
     },
     "execution_count": 240,
     "metadata": {},
     "output_type": "execute_result"
    }
   ],
   "source": [
    "two_way_deltas1 = pd.Series([drop_time_hanler1.get_time_delta(two_way=True) for _ in range(1000)])\n",
    "two_way_deltas1.mean(), two_way_deltas1.min(), two_way_deltas1.max()"
   ]
  },
  {
   "cell_type": "code",
   "execution_count": 241,
   "id": "27e24fa9-0ccf-4b39-9eb5-69603a4b5ce8",
   "metadata": {},
   "outputs": [
    {
     "data": {
      "text/plain": [
       "(np.float64(104.085), np.int64(30), np.int64(180))"
      ]
     },
     "execution_count": 241,
     "metadata": {},
     "output_type": "execute_result"
    }
   ],
   "source": [
    "pos_deltas1 = pd.Series([drop_time_hanler1.get_time_delta(two_way=False) for _ in range(1000)])\n",
    "pos_deltas1.mean(), pos_deltas1.min(), pos_deltas1.max()"
   ]
  },
  {
   "cell_type": "code",
   "execution_count": 242,
   "id": "5f19815d-ad42-457a-a2b4-a63f2d3e0fc6",
   "metadata": {},
   "outputs": [],
   "source": [
    "for _ in range(3):\n",
    "    drop_time_hanler1.txns_count(receive=True, reset=False)\n",
    "    drop_time_hanler1.txns_count(receive=False, reset=False)"
   ]
  },
  {
   "cell_type": "code",
   "execution_count": 243,
   "id": "8628076f-56b6-4711-b979-e81b950a1cc9",
   "metadata": {},
   "outputs": [
    {
     "data": {
      "text/plain": [
       "(3, 3)"
      ]
     },
     "execution_count": 243,
     "metadata": {},
     "output_type": "execute_result"
    }
   ],
   "source": [
    "drop_time_hanler1.in_txns, drop_time_hanler1.out_txns"
   ]
  },
  {
   "cell_type": "code",
   "execution_count": 393,
   "id": "00a85d47-c78f-4917-9b49-97f899593376",
   "metadata": {},
   "outputs": [
    {
     "data": {
      "text/plain": [
       "(1, 0)"
      ]
     },
     "execution_count": 393,
     "metadata": {},
     "output_type": "execute_result"
    }
   ],
   "source": [
    "drop_time_hanler1.txns_count(receive=True, reset=True)\n",
    "drop_time_hanler1.in_txns, drop_time_hanler1.out_txns"
   ]
  },
  {
   "cell_type": "code",
   "execution_count": 245,
   "id": "271649e5-e6a1-44f5-9ff5-582a64839dbc",
   "metadata": {},
   "outputs": [
    {
     "data": {
      "text/plain": [
       "(1, 0)"
      ]
     },
     "execution_count": 245,
     "metadata": {},
     "output_type": "execute_result"
    }
   ],
   "source": [
    "drop_time_hanler1.in_txns = 2\n",
    "drop_time_hanler1.out_txns = 4\n",
    "drop_time_hanler1.txns_count(receive=True, reset=True)\n",
    "drop_time_hanler1.in_txns, drop_time_hanler1.out_txns"
   ]
  },
  {
   "cell_type": "markdown",
   "id": "c454f686-d69e-4f26-9605-384e5091eba8",
   "metadata": {},
   "source": [
    "**`DropTimeHandler.get_txn_time` тест**  \n",
    "Тест-кейсы\n",
    "- Если это самая первая транзакция. Т.к. активность дропа начинается с входящей транзакции\n",
    "- Не первая транзакция и достигнут лимит входящих транзакций для периода активности\n",
    "- Не первая транзакция и достигнут лимит исходящих транзакций для периода активности\n",
    "- Не первая транзакция. Лимиты не достигнуты. Транзакция входящая\n",
    "- Не первая транзакция. Лимиты не достигнуты. Транзакция исходящая "
   ]
  },
  {
   "cell_type": "code",
   "execution_count": 246,
   "id": "d818372d-c1ba-4b54-bd3c-ce026bc33a60",
   "metadata": {},
   "outputs": [
    {
     "data": {
      "text/plain": [
       "(Timestamp('2025-07-02 11:15:00'), 1751454900)"
      ]
     },
     "execution_count": 246,
     "metadata": {},
     "output_type": "execute_result"
    }
   ],
   "source": [
    "start_time = pd.to_datetime(\"2025-07-02 11:15:00\", format=\"%Y-%m-%d %H:%M:%S\")\n",
    "start_unix = pd_timestamp_to_unix(start_time)\n",
    "start_time, start_unix"
   ]
  },
  {
   "cell_type": "code",
   "execution_count": 247,
   "id": "ad52a6f7-e9fc-4faf-a38f-eabb87e35b1c",
   "metadata": {},
   "outputs": [
    {
     "data": {
      "text/plain": [
       "(Timestamp('2025-07-02 18:31:00'), 1751481060)"
      ]
     },
     "execution_count": 247,
     "metadata": {},
     "output_type": "execute_result"
    }
   ],
   "source": [
    "last_time = pd.to_datetime(\"2025-07-02 18:31:00\", format=\"%Y-%m-%d %H:%M:%S\")\n",
    "last_unix = pd_timestamp_to_unix(last_time)\n",
    "last_time, last_unix"
   ]
  },
  {
   "cell_type": "markdown",
   "id": "67bef8d8-836d-486c-a763-5d2d620ed828",
   "metadata": {},
   "source": [
    "1. Если это самая первая транзакция. Т.к. активность дропа начинается с входящей транзакции"
   ]
  },
  {
   "cell_type": "code",
   "execution_count": 248,
   "id": "ebccedc6-5bab-468e-9dbb-45a114d2e1cd",
   "metadata": {},
   "outputs": [
    {
     "data": {
      "text/plain": [
       "(Timestamp('2025-01-05 13:47:00'), np.int64(1736084820))"
      ]
     },
     "execution_count": 248,
     "metadata": {},
     "output_type": "execute_result"
    }
   ],
   "source": [
    "drop_time_hanler1.reset_cache()\n",
    "drop_time_hanler1.in_txns = 0\n",
    "drop_time_hanler1.out_txns = 0\n",
    "droptime1, dropunix1 = drop_time_hanler1.get_txn_time(receive=True, in_txns=0)\n",
    "droptime1, dropunix1"
   ]
  },
  {
   "cell_type": "code",
   "execution_count": 249,
   "id": "564130ce-813a-4c43-b555-979db8f810c9",
   "metadata": {},
   "outputs": [
    {
     "data": {
      "text/plain": [
       "(np.int64(1736084820), 1, 0)"
      ]
     },
     "execution_count": 249,
     "metadata": {},
     "output_type": "execute_result"
    }
   ],
   "source": [
    "drop_time_hanler1.last_unix, drop_time_hanler1.in_txns, drop_time_hanler1.out_txns"
   ]
  },
  {
   "cell_type": "markdown",
   "id": "31270c48-64c3-4273-b013-0208fe0630b7",
   "metadata": {},
   "source": [
    "2. Не первая транзакция и достигнут лимит входящих транзакций для периода активности\n",
    "- текущая входящая - receive=True\n",
    "- текущая исходящая - receive=False"
   ]
  },
  {
   "cell_type": "code",
   "execution_count": 250,
   "id": "c195724b-2c37-498b-9076-e6b009312d7e",
   "metadata": {},
   "outputs": [
    {
     "data": {
      "text/plain": [
       "(Timestamp('2025-07-02 11:15:00'), Timestamp('2025-07-02 18:31:00'))"
      ]
     },
     "execution_count": 250,
     "metadata": {},
     "output_type": "execute_result"
    }
   ],
   "source": [
    "start_time, last_time"
   ]
  },
  {
   "cell_type": "code",
   "execution_count": 254,
   "id": "fb5364fc-d761-457c-80bd-5a2026a33e0d",
   "metadata": {},
   "outputs": [
    {
     "data": {
      "text/plain": [
       "(Timestamp('2025-07-03 12:05:00'),\n",
       " 1751544300,\n",
       " Timestamp('2025-07-03 12:05:00'))"
      ]
     },
     "execution_count": 254,
     "metadata": {},
     "output_type": "execute_result"
    }
   ],
   "source": [
    "drop_time_hanler1.reset_cache()\n",
    "drop_time_hanler1.in_txns = drop_time_hanler1.in_lim\n",
    "drop_time_hanler1.out_txns = drop_time_hanler1.out_lim - 1\n",
    "drop_time_hanler1.start_unix = start_unix\n",
    "drop_time_hanler1.last_unix = last_unix\n",
    "droptime2, dropunix2 = drop_time_hanler1.get_txn_time(receive=True, in_txns=drop_time_hanler1.in_lim * 2)\n",
    "droptime_start2 = pd.to_datetime(drop_time_hanler1.start_unix, unit=\"s\")\n",
    "droptime2, dropunix2, droptime_start2"
   ]
  },
  {
   "cell_type": "code",
   "execution_count": 255,
   "id": "0fe1c2aa-6b57-4844-99b0-18188794d85e",
   "metadata": {},
   "outputs": [
    {
     "data": {
      "text/plain": [
       "(1, 0, 1751544300, 1751544300)"
      ]
     },
     "execution_count": 255,
     "metadata": {},
     "output_type": "execute_result"
    }
   ],
   "source": [
    "drop_time_hanler1.in_txns, drop_time_hanler1.out_txns, drop_time_hanler1.start_unix, drop_time_hanler1.last_unix"
   ]
  },
  {
   "cell_type": "code",
   "execution_count": 256,
   "id": "ce7b9f7d-aac4-42b7-a26f-a3ef6088a1d7",
   "metadata": {},
   "outputs": [
    {
     "data": {
      "text/plain": [
       "Timedelta('1 days 00:50:00')"
      ]
     },
     "execution_count": 256,
     "metadata": {},
     "output_type": "execute_result"
    }
   ],
   "source": [
    "droptime2 - start_time"
   ]
  },
  {
   "cell_type": "markdown",
   "id": "5264006e-428d-4ad6-8a4d-4f7f5418a540",
   "metadata": {},
   "source": [
    "3. Не первая транзакция и достигнут лимит исходящих транзакций для периода активности  \n",
    "- текущая входящая - receive=True\n",
    "- текущая исходящая - receive=False"
   ]
  },
  {
   "cell_type": "code",
   "execution_count": 260,
   "id": "9bf03dcf-a687-4998-afeb-1cf0a2f56de4",
   "metadata": {},
   "outputs": [
    {
     "data": {
      "text/plain": [
       "(Timestamp('2025-07-03 12:56:00'),\n",
       " 1751547360,\n",
       " Timestamp('2025-07-03 12:56:00'))"
      ]
     },
     "execution_count": 260,
     "metadata": {},
     "output_type": "execute_result"
    }
   ],
   "source": [
    "drop_time_hanler1.reset_cache()\n",
    "drop_time_hanler1.in_txns = drop_time_hanler1.in_lim - 1\n",
    "drop_time_hanler1.out_txns = drop_time_hanler1.out_lim\n",
    "drop_time_hanler1.start_unix = start_unix\n",
    "drop_time_hanler1.last_unix = last_unix\n",
    "droptime3, dropunix3 = drop_time_hanler1.get_txn_time(receive=False, in_txns=drop_time_hanler1.in_lim * 2)\n",
    "droptime_start3 = pd.to_datetime(drop_time_hanler1.start_unix, unit=\"s\")\n",
    "droptime3, dropunix3, droptime_start3"
   ]
  },
  {
   "cell_type": "code",
   "execution_count": 261,
   "id": "1f00d42d-24a0-4a06-b9c1-00b5e2305643",
   "metadata": {},
   "outputs": [
    {
     "data": {
      "text/plain": [
       "(0, 1, 1751547360, 1751547360)"
      ]
     },
     "execution_count": 261,
     "metadata": {},
     "output_type": "execute_result"
    }
   ],
   "source": [
    "drop_time_hanler1.in_txns, drop_time_hanler1.out_txns, drop_time_hanler1.start_unix, drop_time_hanler1.last_unix"
   ]
  },
  {
   "cell_type": "code",
   "execution_count": 262,
   "id": "74c164c1-1a49-4cee-9105-7afe585abfa3",
   "metadata": {},
   "outputs": [
    {
     "data": {
      "text/plain": [
       "Timedelta('1 days 01:41:00')"
      ]
     },
     "execution_count": 262,
     "metadata": {},
     "output_type": "execute_result"
    }
   ],
   "source": [
    "droptime3 - start_time"
   ]
  },
  {
   "cell_type": "markdown",
   "id": "00fe4740-de68-48ac-9706-a7f5471be2f4",
   "metadata": {},
   "source": [
    "4. Не первая транзакция. Лимиты не достигнуты. Транзакция **входящая**"
   ]
  },
  {
   "cell_type": "code",
   "execution_count": 263,
   "id": "26a0fdc3-e38c-4619-86bb-7e7dc223787b",
   "metadata": {},
   "outputs": [
    {
     "name": "stdout",
     "output_type": "stream",
     "text": [
      "In txns: 1 \n",
      "Out txns: 4\n",
      "120\n"
     ]
    },
    {
     "data": {
      "text/plain": [
       "(Timestamp('2025-07-02 20:31:00'),\n",
       " 1751488260,\n",
       " Timestamp('2025-07-02 11:15:00'))"
      ]
     },
     "execution_count": 263,
     "metadata": {},
     "output_type": "execute_result"
    }
   ],
   "source": [
    "drop_time_hanler1.reset_cache()\n",
    "drop_time_hanler1.in_txns = drop_time_hanler1.in_lim - 1\n",
    "drop_time_hanler1.out_txns = drop_time_hanler1.out_lim - 1\n",
    "print(f\"In txns: {drop_time_hanler1.in_txns} \\nOut txns: {drop_time_hanler1.out_txns}\")\n",
    "drop_time_hanler1.start_unix = start_unix\n",
    "drop_time_hanler1.last_unix = last_unix\n",
    "droptime4, dropunix4 = drop_time_hanler1.get_txn_time(receive=True, in_txns=drop_time_hanler1.in_lim * 2)\n",
    "droptime_start4 = pd.to_datetime(drop_time_hanler1.start_unix, unit=\"s\")\n",
    "droptime4, dropunix4, droptime_start4"
   ]
  },
  {
   "cell_type": "code",
   "execution_count": 264,
   "id": "ca43c06d-2a6a-4cf2-8ac5-80b5ca082da8",
   "metadata": {},
   "outputs": [
    {
     "data": {
      "text/plain": [
       "(2, 4, 1751454900, 1751488260)"
      ]
     },
     "execution_count": 264,
     "metadata": {},
     "output_type": "execute_result"
    }
   ],
   "source": [
    "drop_time_hanler1.in_txns, drop_time_hanler1.out_txns, drop_time_hanler1.start_unix, drop_time_hanler1.last_unix"
   ]
  },
  {
   "cell_type": "code",
   "execution_count": 265,
   "id": "5e6666e0-b60c-4860-a378-837ec92b3c28",
   "metadata": {},
   "outputs": [
    {
     "data": {
      "text/plain": [
       "Timedelta('0 days 02:00:00')"
      ]
     },
     "execution_count": 265,
     "metadata": {},
     "output_type": "execute_result"
    }
   ],
   "source": [
    "droptime4 - last_time"
   ]
  },
  {
   "cell_type": "markdown",
   "id": "e6abc38d-0d55-4f2a-b822-8b1e497bcfc5",
   "metadata": {},
   "source": [
    "5. Не первая транзакция. Лимиты не достигнуты. Транзакция **исходящая**"
   ]
  },
  {
   "cell_type": "code",
   "execution_count": 266,
   "id": "44136497-097d-4707-9a8f-38db7656b47e",
   "metadata": {},
   "outputs": [
    {
     "name": "stdout",
     "output_type": "stream",
     "text": [
      "In txns: 1 \n",
      "Out txns: 4\n",
      "179\n"
     ]
    },
    {
     "data": {
      "text/plain": [
       "(Timestamp('2025-07-02 21:30:00'),\n",
       " 1751491800,\n",
       " Timestamp('2025-07-02 11:15:00'))"
      ]
     },
     "execution_count": 266,
     "metadata": {},
     "output_type": "execute_result"
    }
   ],
   "source": [
    "drop_time_hanler1.reset_cache()\n",
    "drop_time_hanler1.in_txns = drop_time_hanler1.in_lim - 1\n",
    "drop_time_hanler1.out_txns = drop_time_hanler1.out_lim - 1\n",
    "print(f\"In txns: {drop_time_hanler1.in_txns} \\nOut txns: {drop_time_hanler1.out_txns}\")\n",
    "drop_time_hanler1.start_unix = start_unix\n",
    "drop_time_hanler1.last_unix = last_unix\n",
    "droptime5, dropunix5 = drop_time_hanler1.get_txn_time(receive=False, in_txns=drop_time_hanler1.in_lim * 2)\n",
    "droptime_start5 = pd.to_datetime(drop_time_hanler1.start_unix, unit=\"s\")\n",
    "droptime5, dropunix5, droptime_start5"
   ]
  },
  {
   "cell_type": "code",
   "execution_count": 267,
   "id": "76ea2951-e019-4814-8564-2ea06e5b6756",
   "metadata": {},
   "outputs": [
    {
     "data": {
      "text/plain": [
       "(1, 5, 1751454900, 1751491800)"
      ]
     },
     "execution_count": 267,
     "metadata": {},
     "output_type": "execute_result"
    }
   ],
   "source": [
    "drop_time_hanler1.in_txns, drop_time_hanler1.out_txns, drop_time_hanler1.start_unix, drop_time_hanler1.last_unix"
   ]
  },
  {
   "cell_type": "code",
   "execution_count": 268,
   "id": "3b0de2c1-1781-4c89-9bd2-62193d4816d4",
   "metadata": {},
   "outputs": [
    {
     "data": {
      "text/plain": [
       "Timedelta('0 days 02:59:00')"
      ]
     },
     "execution_count": 268,
     "metadata": {},
     "output_type": "execute_result"
    }
   ],
   "source": [
    "droptime5 - last_time"
   ]
  },
  {
   "cell_type": "markdown",
   "id": "4b379dde-5eb9-4135-b411-0a213481b847",
   "metadata": {},
   "source": [
    "## Класс `DistBehaviorHandler`  \n",
    "Управление поведением дропов распределителей"
   ]
  },
  {
   "cell_type": "code",
   "execution_count": null,
   "id": "3d21db9d-c7e8-449a-b55d-3a9ef458a11f",
   "metadata": {},
   "outputs": [],
   "source": [
    "# ---------------------------- ВСТАВИТЬ КЛАСС ----------------------------------"
   ]
  },
  {
   "cell_type": "markdown",
   "id": "44ea56ff-4ab8-4167-854e-dc03c980c3f3",
   "metadata": {},
   "source": [
    "**Тест DistBehaviorHandler**"
   ]
  },
  {
   "cell_type": "code",
   "execution_count": 1024,
   "id": "e95ac0c2-d599-4912-80a3-c7a1846469b6",
   "metadata": {},
   "outputs": [],
   "source": [
    "import data_generator.fraud.drops.behavior\n",
    "importlib.reload(data_generator.fraud.drops.behavior)\n",
    "from data_generator.fraud.drops.behavior import DistBehaviorHandler"
   ]
  },
  {
   "cell_type": "code",
   "execution_count": 1025,
   "id": "ddcf0598-8896-4666-9c96-688d238c3b93",
   "metadata": {},
   "outputs": [],
   "source": [
    "drop_amt1.reset_cache()\n",
    "dist_behav1 = DistBehaviorHandler(configs=dist_configs, amt_hand=drop_amt1)"
   ]
  },
  {
   "cell_type": "markdown",
   "id": "c5a80071-84b9-4159-a4bd-dc03999e82e1",
   "metadata": {},
   "source": [
    "**`sample_scenario`**"
   ]
  },
  {
   "cell_type": "markdown",
   "id": "8895651e-c8f7-4d15-bcf8-a26d7bb501d6",
   "metadata": {},
   "source": [
    "`split_rate` = 0.7  \n",
    "Тест `large_balance`: баланс больше чем `DistBehaviorHandler.trf_max`"
   ]
  },
  {
   "cell_type": "code",
   "execution_count": 367,
   "id": "8e99f5c3-de2e-4bba-8371-8e619ed0d134",
   "metadata": {},
   "outputs": [
    {
     "name": "stdout",
     "output_type": "stream",
     "text": [
      "atm+transfer prob: 0.35\n",
      "split_transfer prob: 0.35\n",
      "atm prob: 0.300\n"
     ]
    }
   ],
   "source": [
    "# Вероятности сценариев для large_balance\n",
    "split_rate = 0.7\n",
    "p_atm_and_trf = split_rate * 0.5\n",
    "p_split_trf = split_rate * 0.5\n",
    "p_atm = 1 - split_rate\n",
    "print(f\"\"\"atm+transfer prob: {p_atm_and_trf}\n",
    "split_transfer prob: {p_split_trf}\n",
    "atm prob: {p_atm:.3f}\"\"\")\n",
    "assert sum([p_atm_and_trf, p_split_trf, p_atm]) == 1"
   ]
  },
  {
   "cell_type": "code",
   "execution_count": 449,
   "id": "a7a46fff-d8e9-4110-8cdc-7ab8b5fc918f",
   "metadata": {},
   "outputs": [],
   "source": [
    "all_scens1 = []\n",
    "i = 0\n",
    "while i < 2000:\n",
    "    drop_amt1.reset_cache()\n",
    "    drop_amt1.balance = dist_behav1.trf_max + 1000\n",
    "    assert drop_amt1.balance > dist_behav1.trf_max, \"Balance is below trf_max\"\n",
    "    dist_behav1.sample_scenario()\n",
    "    # print(dist_behav1.scen)\n",
    "    all_scens1.append(dist_behav1.scen)\n",
    "    i += 1\n",
    "all_scens_ser1 = pd.Series(all_scens1)"
   ]
  },
  {
   "cell_type": "code",
   "execution_count": 450,
   "id": "d0c05bf1-c440-4709-8805-d0408042372c",
   "metadata": {},
   "outputs": [
    {
     "data": {
      "text/plain": [
       "split_transfer    0.3495\n",
       "atm+transfer      0.3485\n",
       "atm               0.3020\n",
       "Name: proportion, dtype: float64"
      ]
     },
     "execution_count": 450,
     "metadata": {},
     "output_type": "execute_result"
    }
   ],
   "source": [
    "all_scens_ser1.value_counts(normalize=True)"
   ]
  },
  {
   "cell_type": "markdown",
   "id": "1bfb33a7-3532-4732-aed8-8a3bb8b96b92",
   "metadata": {},
   "source": [
    "`split_rate` = 0.7  \n",
    "Тест `atm_eligible`: баланс больше чем `DistBehaviorHandler.atm_min`, но меньше чем `DistBehaviorHandler.trf_max`"
   ]
  },
  {
   "cell_type": "code",
   "execution_count": 369,
   "id": "debc25e6-05c5-4e93-9f09-f6a776437289",
   "metadata": {},
   "outputs": [
    {
     "name": "stdout",
     "output_type": "stream",
     "text": [
      "atm+transfer prob: 0.35\n",
      "split_transfer prob: 0.35\n",
      "transfer prob: 0.15\n",
      "atm prob: 0.15\n"
     ]
    }
   ],
   "source": [
    "# Вероятности сценариев для atm_eligible\n",
    "split_rate = 0.7\n",
    "p_atm_and_trf = split_rate * 0.5\n",
    "p_split_trf = split_rate * 0.5\n",
    "p_trf = (1 - split_rate) * 0.5\n",
    "p_atm = (1 - split_rate) * 0.5\n",
    "print(f\"\"\"atm+transfer prob: {p_atm_and_trf}\n",
    "split_transfer prob: {p_split_trf}\n",
    "transfer prob: {round(p_trf, 3)}\n",
    "atm prob: {round(p_atm, 3)}\"\"\")\n",
    "assert sum([p_atm_and_trf, p_split_trf, p_trf, p_atm]) == 1"
   ]
  },
  {
   "cell_type": "code",
   "execution_count": 451,
   "id": "f304ac7e-282f-407d-a8c8-207917c12253",
   "metadata": {},
   "outputs": [],
   "source": [
    "all_scens2 = []\n",
    "i = 0\n",
    "while i < 2000:\n",
    "    drop_amt1.reset_cache()\n",
    "    drop_amt1.balance = dist_behav1.atm_min + 1000\n",
    "    assert drop_amt1.balance < dist_behav1.trf_max, \"Balance exceeds trf_max\"\n",
    "    dist_behav1.sample_scenario()\n",
    "    all_scens2.append(dist_behav1.scen)\n",
    "    i += 1\n",
    "all_scens_ser2 = pd.Series(all_scens2)"
   ]
  },
  {
   "cell_type": "code",
   "execution_count": 452,
   "id": "10057d4f-ba5b-47c7-a7cc-cb1c11a56466",
   "metadata": {},
   "outputs": [
    {
     "data": {
      "text/plain": [
       "atm+transfer      0.3455\n",
       "split_transfer    0.3225\n",
       "transfer          0.1695\n",
       "atm               0.1625\n",
       "Name: proportion, dtype: float64"
      ]
     },
     "execution_count": 452,
     "metadata": {},
     "output_type": "execute_result"
    }
   ],
   "source": [
    "all_scens_ser2.value_counts(normalize=True)"
   ]
  },
  {
   "cell_type": "markdown",
   "id": "809d027e-849c-412a-a24d-d9473a8dda58",
   "metadata": {},
   "source": [
    "`split_rate` = 0.7  \n",
    "Тест `split_eligible`: баланс больше чем `DistBehaviorHandler.trf_min * 2`,  \n",
    "но меньше чем `DistBehaviorHandler.atm_min` и `DistBehaviorHandler.trf_max`"
   ]
  },
  {
   "cell_type": "code",
   "execution_count": 397,
   "id": "df2988cb-726f-47dd-aa5f-3b3c362af396",
   "metadata": {},
   "outputs": [
    {
     "name": "stdout",
     "output_type": "stream",
     "text": [
      "split_transfer prob: 0.7\n",
      "transfer prob: 0.3\n"
     ]
    }
   ],
   "source": [
    "# Вероятности сценариев для split_eligible\n",
    "split_rate = 0.7\n",
    "p_split_trf = split_rate\n",
    "p_trf = 1 - split_rate\n",
    "print(f\"\"\"split_transfer prob: {p_split_trf}\n",
    "transfer prob: {round(p_trf, 3)}\"\"\")\n",
    "assert sum([p_split_trf, p_trf]) == 1"
   ]
  },
  {
   "cell_type": "code",
   "execution_count": 455,
   "id": "8c7c92d5-8b2d-41bb-adda-732e7bf28d7f",
   "metadata": {},
   "outputs": [],
   "source": [
    "all_scens3 = []\n",
    "i = 0\n",
    "while i < 3000:\n",
    "    drop_amt1.reset_cache()\n",
    "    drop_amt1.balance = dist_behav1.trf_min * 2\n",
    "    assert drop_amt1.balance < dist_behav1.atm_min, \"Balance exceeds atm_min\"\n",
    "    assert drop_amt1.balance < dist_behav1.trf_max, \"Balance exceeds trf_max\"\n",
    "    dist_behav1.sample_scenario()\n",
    "    all_scens3.append(dist_behav1.scen)\n",
    "    i += 1\n",
    "all_scens_ser3 = pd.Series(all_scens3)"
   ]
  },
  {
   "cell_type": "code",
   "execution_count": 456,
   "id": "f3e3965a-c6bf-4ab4-a001-14177f73521a",
   "metadata": {},
   "outputs": [
    {
     "data": {
      "text/plain": [
       "split_transfer    0.699667\n",
       "transfer          0.300333\n",
       "Name: proportion, dtype: float64"
      ]
     },
     "execution_count": 456,
     "metadata": {},
     "output_type": "execute_result"
    }
   ],
   "source": [
    "all_scens_ser3.value_counts(normalize=True)"
   ]
  },
  {
   "cell_type": "markdown",
   "id": "ed5e8365-39c8-4e9c-a711-226932025020",
   "metadata": {},
   "source": [
    "`split_rate` = 0.7  \n",
    "Остальные случаи. баланс меньше чем `DistBehaviorHandler.trf_min * 2`"
   ]
  },
  {
   "cell_type": "code",
   "execution_count": 457,
   "id": "597d79b2-808c-4e71-8d8a-dcfb22aa3b9b",
   "metadata": {},
   "outputs": [],
   "source": [
    "all_scens4 = []\n",
    "i = 0\n",
    "while i < 3000:\n",
    "    drop_amt1.reset_cache()\n",
    "    drop_amt1.balance = dist_behav1.trf_min + 1000\n",
    "    assert drop_amt1.balance < dist_behav1.trf_min * 2, \"Balance exceeds the limit\"\n",
    "    dist_behav1.sample_scenario()\n",
    "    all_scens4.append(dist_behav1.scen)\n",
    "    i += 1\n",
    "all_scens_ser4 = pd.Series(all_scens4)"
   ]
  },
  {
   "cell_type": "code",
   "execution_count": 458,
   "id": "004804fb-725a-49ea-856c-7cf1fddc532e",
   "metadata": {},
   "outputs": [
    {
     "data": {
      "text/plain": [
       "transfer    1.0\n",
       "Name: proportion, dtype: float64"
      ]
     },
     "execution_count": 458,
     "metadata": {},
     "output_type": "execute_result"
    }
   ],
   "source": [
    "all_scens_ser4.value_counts(normalize=True)"
   ]
  },
  {
   "cell_type": "markdown",
   "id": "6b126e57-ca51-4fba-b8b6-b72896c2376f",
   "metadata": {},
   "source": [
    "**`in_chunks_val`**"
   ]
  },
  {
   "cell_type": "code",
   "execution_count": 469,
   "id": "851b9f8a-7db1-4896-b5b2-dfbe2f5df957",
   "metadata": {},
   "outputs": [
    {
     "data": {
      "text/plain": [
       "True"
      ]
     },
     "execution_count": 469,
     "metadata": {},
     "output_type": "execute_result"
    }
   ],
   "source": [
    "# Список сценариев\n",
    "# \"transfer\"\n",
    "# \"atm\"\n",
    "# \"atm+transfer\"\n",
    "# \"split_transfer\"\n",
    "\n",
    "dist_behav1.scen = \"split_transfer\"\n",
    "dist_behav1.in_chunks_val()\n",
    "dist_behav1.in_chunks"
   ]
  },
  {
   "cell_type": "markdown",
   "id": "649f888e-55c3-427f-9ea9-1b3a1ad5d99e",
   "metadata": {},
   "source": [
    "**`guide_scenario`**"
   ]
  },
  {
   "cell_type": "code",
   "execution_count": 419,
   "id": "96c1ad17-cfb6-48be-be99-529bbecdab1a",
   "metadata": {},
   "outputs": [
    {
     "data": {
      "text/plain": [
       "True"
      ]
     },
     "execution_count": 419,
     "metadata": {},
     "output_type": "execute_result"
    }
   ],
   "source": [
    "# Список сценариев\n",
    "# \"atm+transfer\"\n",
    "# \"atm\"\n",
    "# \"split_transfer\"\n",
    "# \"transfer\"\n",
    "\n",
    "dist_behav1.scen = \"transfer\"\n",
    "dist_behav1.guide_scenario(first_txn=False)"
   ]
  },
  {
   "cell_type": "markdown",
   "id": "f6e2bb23-8c0a-4974-846a-6c99e1e63786",
   "metadata": {},
   "source": [
    "**`to_drop`**"
   ]
  },
  {
   "cell_type": "code",
   "execution_count": 663,
   "id": "442e0749-5acc-45b4-929c-afbcd719b7bd",
   "metadata": {},
   "outputs": [
    {
     "name": "stdout",
     "output_type": "stream",
     "text": [
      "0.1\n"
     ]
    },
    {
     "data": {
      "text/plain": [
       "False    0.91\n",
       "True     0.09\n",
       "Name: proportion, dtype: float64"
      ]
     },
     "execution_count": 663,
     "metadata": {},
     "output_type": "execute_result"
    }
   ],
   "source": [
    "print(dist_behav1.to_drop_rate)\n",
    "to_drop_list1 = []\n",
    "for _ in range(100):\n",
    "    to_drop_list1.append(dist_behav1.to_drop)\n",
    "to_drop_ser1 = pd.Series(to_drop_list1)\n",
    "to_drop_ser1.value_counts(normalize=True)"
   ]
  },
  {
   "cell_type": "markdown",
   "id": "bd27291e-c47a-4e1a-b832-d1527c2e325d",
   "metadata": {},
   "source": [
    "**`to_crypto`**"
   ]
  },
  {
   "cell_type": "code",
   "execution_count": 670,
   "id": "d4185f2d-1865-4d07-9a6a-c08054d3bc4d",
   "metadata": {},
   "outputs": [
    {
     "name": "stdout",
     "output_type": "stream",
     "text": [
      "0.1\n"
     ]
    },
    {
     "data": {
      "text/plain": [
       "False    0.9\n",
       "True     0.1\n",
       "Name: proportion, dtype: float64"
      ]
     },
     "execution_count": 670,
     "metadata": {},
     "output_type": "execute_result"
    }
   ],
   "source": [
    "dist_behav1.online = True\n",
    "print(dist_behav1.crypto_rate)\n",
    "to_drop_list2 = []\n",
    "\n",
    "for _ in range(100):\n",
    "    to_drop_list2.append(dist_behav1.to_drop)\n",
    "to_drop_ser2 = pd.Series(to_drop_list2)\n",
    "to_drop_ser2.value_counts(normalize=True)"
   ]
  },
  {
   "cell_type": "markdown",
   "id": "715e86be-6310-4d8c-a56b-d2a3dc4a2a2c",
   "metadata": {},
   "source": [
    "**`stop_after_decline`**"
   ]
  },
  {
   "cell_type": "code",
   "execution_count": 424,
   "id": "cdc58a09-76fd-4ccd-b4f7-2f726795a254",
   "metadata": {},
   "outputs": [
    {
     "data": {
      "text/plain": [
       "False"
      ]
     },
     "execution_count": 424,
     "metadata": {},
     "output_type": "execute_result"
    }
   ],
   "source": [
    "dist_behav1.attempts = 2\n",
    "dist_behav1.stop_after_decline(declined=True)"
   ]
  },
  {
   "cell_type": "markdown",
   "id": "c60ac3d1-203b-46bc-ac48-2994782aca63",
   "metadata": {},
   "source": [
    "**`reset_cache`**"
   ]
  },
  {
   "cell_type": "code",
   "execution_count": 464,
   "id": "446904f2-b8b7-4af2-9bf4-5913858a4b0e",
   "metadata": {},
   "outputs": [
    {
     "data": {
      "text/plain": [
       "(0, None, None, None)"
      ]
     },
     "execution_count": 464,
     "metadata": {},
     "output_type": "execute_result"
    }
   ],
   "source": [
    "dist_behav1.attempts = 3\n",
    "dist_behav1.scen = \"atm\"\n",
    "dist_behav1.online = True\n",
    "dist_behav1.in_chunks = False\n",
    "dist_behav1.reset_cache()\n",
    "dist_behav1.attempts, dist_behav1.scen, dist_behav1.online, dist_behav1.in_chunks"
   ]
  },
  {
   "cell_type": "markdown",
   "id": "64eaa02a-cd2d-4085-bbe8-41895303f9fe",
   "metadata": {},
   "source": [
    "**`attempts_after_decline`**  \n",
    "self.online = True, self.online = False"
   ]
  },
  {
   "cell_type": "code",
   "execution_count": 1028,
   "id": "945e52a8-c2aa-4d75-91af-664e64750921",
   "metadata": {},
   "outputs": [],
   "source": [
    "att_vals1 = []\n",
    "dist_behav1.online = False\n",
    "\n",
    "for _ in range(100):\n",
    "    dist_behav1.attempts_after_decline(declined=True)\n",
    "    att_vals1.append(dist_behav1.attempts)\n",
    "att_vals_ser1 = pd.Series(att_vals1)"
   ]
  },
  {
   "cell_type": "code",
   "execution_count": 1029,
   "id": "1f64eb20-fdfc-4ce2-99e3-0b2d0bc27f0d",
   "metadata": {},
   "outputs": [
    {
     "data": {
      "text/plain": [
       "min     0.00\n",
       "mean    1.71\n",
       "max     3.00\n",
       "dtype: float64"
      ]
     },
     "execution_count": 1029,
     "metadata": {},
     "output_type": "execute_result"
    }
   ],
   "source": [
    "att_vals_ser1.agg([\"min\",\"mean\", \"max\"])"
   ]
  },
  {
   "cell_type": "markdown",
   "id": "01de4895-2e77-4dde-b828-2b0edfb25a38",
   "metadata": {},
   "source": [
    "**`deduct_attempts`**"
   ]
  },
  {
   "cell_type": "code",
   "execution_count": 434,
   "id": "0beb0051-77be-4e00-a988-58f36de4211f",
   "metadata": {},
   "outputs": [
    {
     "data": {
      "text/plain": [
       "1"
      ]
     },
     "execution_count": 434,
     "metadata": {},
     "output_type": "execute_result"
    }
   ],
   "source": [
    "dist_behav1.attempts = 1\n",
    "dist_behav1.deduct_attempts(declined=True, receive=True)\n",
    "dist_behav1.attempts"
   ]
  },
  {
   "cell_type": "code",
   "execution_count": null,
   "id": "e32f2079-a46f-412c-b7c2-f2f547ea090f",
   "metadata": {},
   "outputs": [],
   "source": []
  },
  {
   "cell_type": "markdown",
   "id": "ed3be713-8ed6-42e7-943c-9dae25068e4f",
   "metadata": {},
   "source": [
    "**Расчет вероятностей сценариев в `DistBehaviorHandler`**"
   ]
  },
  {
   "cell_type": "code",
   "execution_count": null,
   "id": "1904efc4-7530-4ca5-bb54-669de7af8128",
   "metadata": {},
   "outputs": [],
   "source": [
    "# inbound_amt: \n",
    "#   low: 5000\n",
    "#   high: 100000\n",
    "#   mean: 30000\n",
    "#   std: 20000"
   ]
  },
  {
   "cell_type": "code",
   "execution_count": 308,
   "id": "1c81ad41-a44f-4d83-a0af-9d360c65513c",
   "metadata": {},
   "outputs": [],
   "source": [
    "# Баланс генерируется из обрезанного нормального распределения\n",
    "in_low1 = 5000\n",
    "in_high1 = 100000\n",
    "mean1 = 30000\n",
    "std1 = 20000\n",
    "a1 = (in_low1 - mean1) / std1\n",
    "b1 = (in_high1 - mean1) / std1\n",
    "\n",
    "split_rate = 0.7\n",
    "# Есть лимиты для сумм операций\n",
    "atm_min1 = 10000 # минимальная сумма для снятия. Частями или целиком определяется split_rate\n",
    "trf_lim = 40000 # максимальная сумма для перевода. Если больше - дробим на части\n",
    "trf_min = 3000*2 # минимальная сумма для перевода по частям. Если меньше - переводим целиком"
   ]
  },
  {
   "cell_type": "code",
   "execution_count": 309,
   "id": "7f23c923-6b11-428d-b20b-3a73893e6027",
   "metadata": {},
   "outputs": [
    {
     "data": {
      "text/plain": [
       "np.float64(0.345)"
      ]
     },
     "execution_count": 309,
     "metadata": {},
     "output_type": "execute_result"
    }
   ],
   "source": [
    "# вероятность что сумма будет больше trf_lim\n",
    "p_trf_lim = round(truncnorm(a=a1, b=b1, loc=mean1, scale=std1).sf(x=trf_lim), 3)\n",
    "p_trf_lim"
   ]
  },
  {
   "cell_type": "code",
   "execution_count": 310,
   "id": "04e15ce3-d049-4603-9a4e-ae3b7c875cb0",
   "metadata": {},
   "outputs": [
    {
     "data": {
      "text/plain": [
       "np.float64(0.596)"
      ]
     },
     "execution_count": 310,
     "metadata": {},
     "output_type": "execute_result"
    }
   ],
   "source": [
    "# Вероятность что сумма больше atm_min1 но меньше trf_lim\n",
    "p_atm_min = round(truncnorm(a=a1, b=b1, loc=mean1, scale=std1).sf(x=atm_min1) - p_trf_lim, 3)\n",
    "p_atm_min"
   ]
  },
  {
   "cell_type": "code",
   "execution_count": 311,
   "id": "e5b4c9d7-005d-455b-83c6-6bb998da5f38",
   "metadata": {},
   "outputs": [
    {
     "data": {
      "text/plain": [
       "np.float64(0.048)"
      ]
     },
     "execution_count": 311,
     "metadata": {},
     "output_type": "execute_result"
    }
   ],
   "source": [
    "# вероятность что сумма больше trf_min, но меньше trf_lim и atm_min1\n",
    "p_trf_min = round(truncnorm(a=a1, b=b1, loc=mean1, scale=std1).sf(x=trf_min) - p_trf_lim - p_atm_min, 3)\n",
    "p_trf_min"
   ]
  },
  {
   "cell_type": "code",
   "execution_count": 312,
   "id": "2f43a7d9-7b1a-4f11-801a-f64d043a1bf1",
   "metadata": {},
   "outputs": [
    {
     "data": {
      "text/plain": [
       "np.float64(0.6922999999999999)"
      ]
     },
     "execution_count": 312,
     "metadata": {},
     "output_type": "execute_result"
    }
   ],
   "source": [
    "split_rate = 0.7 # доля когда будем переводить частями\n",
    "\n",
    "(p_trf_lim + p_atm_min + p_trf_min) * split_rate"
   ]
  },
  {
   "cell_type": "code",
   "execution_count": 313,
   "id": "f4ed2841-b79d-4cfa-8bdc-e19bfca5cd9c",
   "metadata": {},
   "outputs": [
    {
     "data": {
      "text/plain": [
       "np.float64(0.6922999999999999)"
      ]
     },
     "execution_count": 313,
     "metadata": {},
     "output_type": "execute_result"
    }
   ],
   "source": [
    "round(truncnorm(a=a1, b=b1, loc=mean1, scale=std1).sf(x=trf_min), 3) * split_rate"
   ]
  },
  {
   "cell_type": "code",
   "execution_count": 315,
   "id": "e21aebcb-f010-443a-baba-26662b40ca19",
   "metadata": {},
   "outputs": [
    {
     "data": {
      "text/plain": [
       "np.float64(0.552)"
      ]
     },
     "execution_count": 315,
     "metadata": {},
     "output_type": "execute_result"
    }
   ],
   "source": [
    "\n",
    "# conditions = [\n",
    "#             (balance > self.trf_lim, [\"atm\",\"split_transfer\", \"atm+transfer\"]),\n",
    "#             (balance >= self.atm_min, [\"transfer\", \"atm\", \"split_transfer\", \"atm+transfer\"]),\n",
    "#             (balance >= self.trf_min * 2, [\"transfer\",\"split_transfer\"]),\n",
    "#             \"transfer\",\n",
    "#         ]\n",
    "# Вероятность случаев перевода частями если по условиям выше (синтаксически неправильно) и без split_rate\n",
    "p_trf_lim * 2/3 + p_atm_min * 1/2 + p_trf_min * 1/2"
   ]
  },
  {
   "cell_type": "code",
   "execution_count": 645,
   "id": "5d497ac0-6ba7-41b5-b3c1-40b347ffaa8b",
   "metadata": {},
   "outputs": [
    {
     "data": {
      "text/plain": [
       "np.float64(0.1015)"
      ]
     },
     "execution_count": 645,
     "metadata": {},
     "output_type": "execute_result"
    }
   ],
   "source": [
    "\n",
    "# conditions = [\n",
    "#             (balance > self.trf_lim, [\"atm\",\"split_transfer\", \"atm+transfer\"]),\n",
    "#             (balance >= self.atm_min, [\"transfer\", \"atm\", \"split_transfer\", \"atm+transfer\"]),\n",
    "#             (balance >= self.trf_min * 2, [\"transfer\",\"split_transfer\"]),\n",
    "#             \"transfer\",\n",
    "#         ]\n",
    "# Вероятность случаев перевода в крипту по условиям выше (синтаксически неправильно)\n",
    "crypto_rate = 0.14\n",
    "(p_trf_lim * 2/3 + p_atm_min * 3/4 + p_trf_min) * crypto_rate"
   ]
  },
  {
   "cell_type": "markdown",
   "id": "211ccbc6-9e4e-4195-82ea-e14b15a61949",
   "metadata": {},
   "source": [
    "## Конец информативной части"
   ]
  },
  {
   "cell_type": "markdown",
   "id": "e927ca5b-d562-413a-9750-46d20a4e1a18",
   "metadata": {},
   "source": [
    "# Старый код, функции и т.д."
   ]
  },
  {
   "cell_type": "markdown",
   "id": "d38d6843-442f-469f-a618-738c95b5a54b",
   "metadata": {},
   "source": [
    "## Класс `DropClient`\n",
    "- метод get_account(self): Мб добавить вариант to_drop: bool. Перевод другому имеющемуся дропу. при этом. \n",
    "    - записываем счет дропа в свой счет. Атрибут account\n",
    "    - записываем  счет дропа в атрибут drop_accounts\n",
    "    - если надо перевести другому дропу, то фильтруем drop_accounts исключая свой\n",
    "    - надо тогда клиентам приписать шестизначные счета. просто по порядку.\n",
    "    - счета куда отправляют дропы это номера начинающиеся со счета последнего клиента + 1"
   ]
  },
  {
   "cell_type": "code",
   "execution_count": null,
   "id": "58236419-c4ef-45a4-957b-d7a134a9a9f3",
   "metadata": {},
   "outputs": [],
   "source": [
    "# class DropClient: \n",
    "#     \"\"\"\n",
    "#     Генератор сумм входящих/исходящих транзакций, сумм снятий, номеров счетов.\n",
    "#     Управление балансом текущего дропа.\n",
    "#     \"\"\"\n",
    "#     def __init__(self, accounts, account, outer_accounts, balance=0, batch_txns=0, chunk_size=0, used_accounts=pd.Series(name=\"account_id\")):\n",
    "#         \"\"\"\n",
    "#         accounts - pd.DataFrame. Счета клиентов банка.\n",
    "#         account - int. Номер счета текущего дропа.\n",
    "#         outer_accounts - pd.Series. Номера счетов для входящих и исходящих переводов в/из других банков.\n",
    "#         balance - float. Текущий баланс дропа\n",
    "#         batch_txns - int. Счетчик транзакций сделанных в рамках распределения полученной партии денег\n",
    "#         chunk_size - int, float. Последний созданный размер части баланса для перевода по частям.\n",
    "#         used_accounts - pd.Series. Счета на которые дропы уже отправляли деньги.\n",
    "#         \"\"\"\n",
    "#         self.accounts = accounts\n",
    "#         self.account = account\n",
    "#         self.outer_accounts = outer_accounts\n",
    "#         self.balance = balance\n",
    "#         self.batch_txns = batch_txns\n",
    "#         self.chunk_size = chunk_size\n",
    "#         self.used_accounts = used_accounts\n",
    "\n",
    "#     def update_balance(self, amount, add=False, declined=False):\n",
    "#         \"\"\"\n",
    "#         Увеличить/уменьшить баланс на указанную сумму\n",
    "#         -------------------\n",
    "#         amount - float, int.\n",
    "#         add - bool. Прибавлять сумму или отнимать.\n",
    "#         declined - bool. Отклонена ли транзакция или одобрена.\n",
    "#         \"\"\"\n",
    "#         # Не обновлять баланс если транзакция отклонена.\n",
    "#         if declined:\n",
    "#             return\n",
    "            \n",
    "#         # Увеличить баланс   \n",
    "#         if add:\n",
    "#             self.balance += amount\n",
    "#             return\n",
    "            \n",
    "#         # Уменьшить баланс    \n",
    "#         self.balance -= amount\n",
    "\n",
    "#     def receive(self, declined, low=5000, high=100000, mean=30000, std=20000, round=500):\n",
    "#         \"\"\"\n",
    "#         Генерация суммы входящего перевода\n",
    "#         --------------------------\n",
    "#         declined - bool. Отклонена ли транзакция или одобрена\n",
    "#         low - float. Минимальная сумма\n",
    "#         high - float. Максимальная сумма\n",
    "#         mean - float. Средняя сумма\n",
    "#         std - float. Стандартное отклонение\n",
    "#         round - int. Округление целой части. По умолчанию 500. Значит числа будут либо с 500 либо с 000 на конце\n",
    "#                      При условии что round не больше low и high. Чтобы отменить округление, нужно выставить 1\n",
    "#         \"\"\"\n",
    "\n",
    "#         # Генерация суммы. Округление целой части при необходимости\n",
    "#         amount = get_values_from_truncnorm(low_bound=low, high_bound=high, mean=mean, std=std)[0] // round * round\n",
    "        \n",
    "#         # Обновляем баланс если транзакция не отклонена\n",
    "#         self.update_balance(amount=amount, add=True, declined=declined)\n",
    "        \n",
    "#         return amount\n",
    "\n",
    "#     def get_chunk_size(self, online=False, atm_min=10000, atm_share=0.5, round=500, rand_rate=0.9, start=0, stop=0, step=0):\n",
    "#         \"\"\"\n",
    "#         Вернуть случайный размер суммы перевода для перевода по частям\n",
    "#         либо вернуть долю от баланса для снятия/перевода по частям.\n",
    "#         -------------------------------\n",
    "#         online - bool. Онлайн или оффлайн. Перевод или банкомат. Если банкомат, то снимается доля atm_share от баланса, но не меньше atm_min\n",
    "#         atm_min - int, float. Минимальная сумма снятия дропом в банкомате.\n",
    "#         atm_share - float. Доля от баланса если снятие через банкомат.\n",
    "#         round - int. Округление целой части. По умолчанию 500. \n",
    "#                      Значит суммы будут округлены до тысяч или пяти сотен\n",
    "#         rand_rate - float. От 0 до 1. Процент случаев, когда каждый НЕ первый чанк будет случайным и не зависеть от предыдущего.\n",
    "#                            Но возможны случайные совпадаения с предыдущим размером чанка.\n",
    "#                            Доля случайных размеров подряд будет:\n",
    "#                            p(c) - вероятность взять определенный размер (зависит от размера выборки чанков)\n",
    "#                            p(rr) - rand_rate\n",
    "#                            p(rr) - (p(rr) * p(c)). Например p(rr) = 0.9, 5 вариантов размеров чанка - p(c) = 0.20\n",
    "#                            0.9 - (0.9 * 0.2) = 0.72\n",
    "#                            В около 72% случаев размеры чанков не будут подряд одинаковыми \n",
    "#         start - int. Минимальный размер. Прописываем если генерация не через share.\n",
    "#                      То же самое для stop и step\n",
    "#         stop - int. Максимальный размер - не входит в возможный выбор.\n",
    "#                     Максимальное генерируемое значение равно stop - step\n",
    "#         step - int. Шаг размеров.\n",
    "#         --------------------\n",
    "#         Возвращает np.int64\n",
    "#         Результат кэшируется в self.chunk_size\n",
    "#         \"\"\"\n",
    "#         # Если это не первая транзакция в серии транзакции для одной полученной дропом суммы\n",
    "#         # И случайное число больше rand_rate, то просто возвращаем ранее созданный размер чанка\n",
    "#         if self.batch_txns != 0 and np.random.uniform(0,1) > rand_rate:\n",
    "#             return self.chunk_size\n",
    "\n",
    "#         # Если перевод\n",
    "#         if online:\n",
    "#             sampling_array = np.arange(start, stop, step)\n",
    "#             self.chunk_size = np.random.choice(sampling_array)\n",
    "#             return self.chunk_size\n",
    "            \n",
    "#         # Если снятие    \n",
    "#         self.chunk_size = max(atm_min, self.balance * atm_share // round * round)\n",
    "#         return self.chunk_size\n",
    "            \n",
    "        \n",
    "#     def one_operation(self, amount=0, declined=False, in_chunks=False):\n",
    "#         \"\"\"\n",
    "#         Генерация суммы операции дропа.\n",
    "#         ---------\n",
    "#         amount - float, int. Сумма перевода если перевод по частям - in_chunks == True\n",
    "#         declined - bool. Отклонена ли транзакция или одобрена\n",
    "#         in_chunks - bool. Перевод по частям или целиком. Если False, то просто пробуем перевести все с баланса\n",
    "#                           При True нужно указать amount.\n",
    "#         \"\"\"\n",
    "#         if in_chunks and amount <= 0:\n",
    "#             raise ValueError(f\"\"\"If in_chunks is True, then amount must be greater than 0.\n",
    "# Passed amount: {amount}\"\"\")\n",
    "\n",
    "#         # Если перевод не по частям. Пробуем перевестит все с баланса. \n",
    "#         if not in_chunks:\n",
    "#             amount = self.balance\n",
    "#             self.update_balance(amount=self.balance, add=False, declined=declined)\n",
    "#             # Прибавляем счетчик транзакции для текущей партии денег\n",
    "#             self.batch_txns += 1\n",
    "#             return amount\n",
    "\n",
    "#         # Иначе считаем сколько частей исходя из размера одной части\n",
    "#         chunks = self.balance // amount\n",
    "\n",
    "#         # Если целое число частей больше 0. Пробуем перевести одну часть\n",
    "#         if chunks > 0:\n",
    "#             self.update_balance(amount=amount, add=False, declined=declined)\n",
    "#             self.batch_txns += 1\n",
    "#             return amount\n",
    "\n",
    "#         # Если баланс меньше одной части. Пробуем перевести то что осталось\n",
    "#         rest = self.balance\n",
    "#         self.update_balance(amount=rest, add=False, declined=declined)\n",
    "#         self.batch_txns += 1\n",
    "#         return rest\n",
    "\n",
    "#     def get_account(self, to_drop):\n",
    "#         \"\"\"\n",
    "#         Номер счета входящего/исходящего перевода\n",
    "#         to_drop - bool. Перевод другому дропу в нашем банке или нет.\n",
    "#         \"\"\"\n",
    "#         # Фильтруем accounts исключая свой счет и выбирая дропов. Для случая если to_drop\n",
    "#         drop_accounts = self.accounts.loc[(self.accounts.account_id != self.account) & (self.accounts.is_drop == True)]\n",
    "\n",
    "#         # Если надо отправить другому дропу в нашем банке. При условии что есть другие дропы на текущий момент\n",
    "#         if to_drop and not drop_accounts.empty: \n",
    "#             account = drop_accounts.account_id.sample(1).iat[0]\n",
    "#             # Добавляем этот счет в использованные как последнюю запись в серии\n",
    "#             self.used_accounts.loc[self.used_accounts.shape[0]] = account\n",
    "#             return account\n",
    "\n",
    "#         # Если отправляем/получаем из другого банка.  \n",
    "#         # Семплируем номер внешнего счета который еще не использовался\n",
    "#         account = self.outer_accounts.loc[~(self.outer_accounts.isin(self.used_accounts))].sample(1).iat[0]\n",
    "#         # Добавляем этот счет в использованные как последнюю запись в серии\n",
    "#         self.used_accounts.loc[self.used_accounts.shape[0]] = account\n",
    "        \n",
    "#         return account\n",
    "\n",
    "#     def reset_cache(self, balance=True, used_accounts=True, chunk_size=True, batch_txns=True):\n",
    "#         \"\"\"\n",
    "#         Сброс кэшированных значений\n",
    "#         По умолчанию сбрасывается всё. Если что-то надо оставить, то надо выставить False\n",
    "#         для этого\n",
    "#         -----------------\n",
    "#         balance - bool\n",
    "#         used_accounts - bool\n",
    "#         chunk_size - bool\n",
    "#         batch_txns - bool\n",
    "#         \"\"\"\n",
    "#         if balance:\n",
    "#             self.balance = 0\n",
    "#         if used_accounts:\n",
    "#             self.used_accounts = pd.Series(name=\"account_id\")\n",
    "#         if chunk_size:\n",
    "#             self.chunk_size = 0\n",
    "#         if batch_txns:\n",
    "#             self.batch_txns = 0"
   ]
  },
  {
   "cell_type": "code",
   "execution_count": null,
   "id": "1c1514a3-87af-43e0-97b9-00449c92ec7f",
   "metadata": {},
   "outputs": [],
   "source": []
  }
 ],
 "metadata": {
  "kernelspec": {
   "display_name": "Python 3 (ipykernel)",
   "language": "python",
   "name": "python3"
  },
  "language_info": {
   "codemirror_mode": {
    "name": "ipython",
    "version": 3
   },
   "file_extension": ".py",
   "mimetype": "text/x-python",
   "name": "python",
   "nbconvert_exporter": "python",
   "pygments_lexer": "ipython3",
   "version": "3.13.3"
  }
 },
 "nbformat": 4,
 "nbformat_minor": 5
}
