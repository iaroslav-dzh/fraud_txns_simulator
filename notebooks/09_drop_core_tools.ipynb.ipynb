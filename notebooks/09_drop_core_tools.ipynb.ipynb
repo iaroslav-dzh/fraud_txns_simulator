{
 "cells": [
  {
   "cell_type": "code",
   "execution_count": 1,
   "id": "c30e67d7-4a3c-4d29-9477-ab02b02e86fc",
   "metadata": {},
   "outputs": [],
   "source": [
    "import pandas as pd\n",
    "import numpy as np\n",
    "import matplotlib.pyplot as plt\n",
    "import seaborn as sns\n",
    "import os\n",
    "import re\n",
    "import geopandas as gpd\n",
    "import random\n",
    "from scipy.stats import truncnorm, norm\n",
    "from collections import defaultdict\n",
    "import math\n",
    "from shapely.ops import transform\n",
    "from pyproj import Geod\n",
    "import pyarrow\n",
    "from datetime import datetime\n",
    "import sys\n",
    "import importlib\n",
    "from dataclasses import dataclass\n",
    "import yaml\n",
    "from typing import Union"
   ]
  },
  {
   "cell_type": "code",
   "execution_count": 4,
   "id": "a6dc00ed-f62f-4871-8e41-47c85bc4c8a9",
   "metadata": {},
   "outputs": [],
   "source": [
    "# добавляем папку modules в sys.path, чтобы импортировать функции созданные ранее\n",
    "\n",
    "# sys.path.append(os.path.abspath(os.path.join(\"..\", \"modules\")))"
   ]
  },
  {
   "cell_type": "code",
   "execution_count": 501,
   "id": "9d87e6be-bb84-44d9-9d35-924a25f2ddca",
   "metadata": {},
   "outputs": [],
   "source": [
    "# Функции генерации паттернов времени и базовые функции времени созданные ранее\n",
    "import data_generator.fraud.time\n",
    "import data_generator.fraud.txndata\n",
    "import data_generator.configs\n",
    "importlib.reload(data_generator.fraud.time)\n",
    "importlib.reload(data_generator.fraud.txndata)\n",
    "importlib.reload(data_generator.configs)\n",
    "from data_generator.general_time import *\n",
    "from data_generator.utils import build_transaction\n",
    "from data_generator.fraud.txndata import FraudTxnPartData, TransAmount, sample_category\n",
    "from data_generator.fraud.time import derive_from_last_time\n",
    "from data_generator.configs import PurchBehaviorHandler"
   ]
  },
  {
   "cell_type": "code",
   "execution_count": null,
   "id": "23828f2a-bd6f-46f6-ab48-67e874a45a45",
   "metadata": {},
   "outputs": [],
   "source": []
  },
  {
   "cell_type": "code",
   "execution_count": 2,
   "id": "6c6c9867-8d32-4b4d-9923-2b2f5711bfc8",
   "metadata": {},
   "outputs": [],
   "source": [
    "np.set_printoptions(suppress=True)\n",
    "pd.set_option('display.max_columns', None)"
   ]
  },
  {
   "cell_type": "code",
   "execution_count": 3,
   "id": "122df125-874a-4cc5-a123-74aca56e5baf",
   "metadata": {},
   "outputs": [
    {
     "data": {
      "text/plain": [
       "'C:\\\\Users\\\\iaros\\\\My_documents\\\\Education\\\\projects\\\\fraud_detection_01\\\\notebooks'"
      ]
     },
     "execution_count": 3,
     "metadata": {},
     "output_type": "execute_result"
    }
   ],
   "source": [
    "os.getcwd()"
   ]
  },
  {
   "cell_type": "code",
   "execution_count": 4,
   "id": "71fc90ba-44d1-4bc6-b2a3-edda53a9123b",
   "metadata": {},
   "outputs": [],
   "source": [
    "os.chdir(\"..\")"
   ]
  },
  {
   "cell_type": "code",
   "execution_count": 5,
   "id": "4c92f5c7-1b75-4e1b-97a1-34a61031d901",
   "metadata": {},
   "outputs": [
    {
     "data": {
      "text/plain": [
       "'C:\\\\Users\\\\iaros\\\\My_documents\\\\Education\\\\projects\\\\fraud_detection_01'"
      ]
     },
     "execution_count": 5,
     "metadata": {},
     "output_type": "execute_result"
    }
   ],
   "source": [
    "os.getcwd()"
   ]
  },
  {
   "cell_type": "markdown",
   "id": "ecd83afb-aeee-4488-b237-366ed2c85d61",
   "metadata": {},
   "source": [
    "## Загрузка конфигураций"
   ]
  },
  {
   "cell_type": "code",
   "execution_count": 6,
   "id": "2596e557-1894-4125-a02a-517e01ff04ff",
   "metadata": {},
   "outputs": [],
   "source": [
    "# Общие настройки\n",
    "with open(\"./config/base.yaml\") as f:\n",
    "    base_cfg = yaml.safe_load(f)\n",
    "# Настройки фрода\n",
    "with open(\"./config/fraud.yaml\") as f:\n",
    "    fraud_cfg = yaml.safe_load(f)\n",
    "# Настройки фрода для дропов\n",
    "with open(\"./config/drops.yaml\", encoding=\"utf8\") as f:\n",
    "    drops_cfg = yaml.safe_load(f)\n",
    "# Настройки времени\n",
    "with open(\"./config/time.yaml\") as f:\n",
    "    time_cfg = yaml.safe_load(f)"
   ]
  },
  {
   "cell_type": "markdown",
   "id": "b44b5ea0-cf43-46d2-8441-a1bb4c2331b0",
   "metadata": {},
   "source": [
    "# Доп. данные для генерации фрод транзакций"
   ]
  },
  {
   "cell_type": "markdown",
   "id": "908fd76b-76e1-45a1-a001-d8d03ef4baed",
   "metadata": {},
   "source": [
    "**Загрузка данных:**\n",
    "- оффлайн мерчантов\n",
    "- онлайн мерчантов\n",
    "- девайсов клиентов и мошенников\n",
    "- городов с полигонами\n",
    "- городов с координатами центров\n",
    "- клиентов\n",
    "- фрод IP адресов\n",
    "- категорий и их характеристик\n",
    "- категорий для дропов покупателей\n",
    "- Счетов клиентов\n",
    "- Внешних счетов"
   ]
  },
  {
   "cell_type": "code",
   "execution_count": 612,
   "id": "7602ab36-bd72-4160-8fec-753775f89880",
   "metadata": {},
   "outputs": [],
   "source": [
    "offline_merchants = gpd.read_file(\"./data/cleaned_data/offline_merchants_points.gpkg\")\n",
    "online_merchant_ids = pd.read_csv(\"./data/cleaned_data/online_merchant_ids.csv\").iloc[:, 0] # нужны в виде серии\n",
    "client_devices = pd.read_csv(\"./data/cleaned_data/client_devices.csv\")\n",
    "fraud_devices = pd.read_csv(\"./data/cleaned_data/fraud_devices.csv\")\n",
    "districts_ru = gpd.read_file(\"./data/cleaned_data/district_ru.gpkg\")\n",
    "area_centers = gpd.read_file(\"./data/cleaned_data/area_centers.gpkg\")\n",
    "clients_with_geo = gpd.read_file(\"./data/cleaned_data/clients_with_geo.gpkg\") \n",
    "fraud_ips = gpd.read_file(\"./data/cleaned_data/fraud_ips.gpkg\")\n",
    "cat_stats_full = pd.read_csv(\"./data/cleaned_data/cat_stats_full.csv\")\n",
    "cat_fraud_amts = pd.read_csv(\"./data/cleaned_data/cat_fraud_amts.csv\")\n",
    "drop_purch_cats = pd.read_csv(\"./data/cleaned_data/drop_purch_cats.csv\")\n",
    "accounts = pd.read_csv(\"./data/generated_data/accounts.csv\")\n",
    "outer_accounts = pd.read_csv(\"./data/generated_data/outer_accounts.csv\").iloc[:, 0] # нужны в виде серии"
   ]
  },
  {
   "cell_type": "markdown",
   "id": "212f66bc-3553-4948-8210-a5f7f45cf491",
   "metadata": {},
   "source": [
    "**Функция получения случайных значений из `truncnorm` распределения**\n",
    "- пойдет в модуль `utils`"
   ]
  },
  {
   "cell_type": "code",
   "execution_count": 14,
   "id": "550d6562-2464-485b-80e9-ec239ec866c1",
   "metadata": {},
   "outputs": [],
   "source": [
    "def get_values_from_truncnorm(low_bound, high_bound, mean, std, size=1):\n",
    "    \"\"\"\n",
    "    Сгенерировать массив чисел из обрезанного нормального распределения.\n",
    "    Можно сгенерировать массив с одним числом\n",
    "    ------------\n",
    "    low_bound - float, int. Нижняя граница значений\n",
    "    high_bound - float, int. Верхняя граница значений \n",
    "    mean - float, int. Среднее\n",
    "    std - float, int. Стандартное отклонение\n",
    "    size - Количество чисел в возвращаемом массиве\n",
    "    ------------\n",
    "    Возвращает np.ndarray\n",
    "    \"\"\"\n",
    "    return truncnorm.rvs((low_bound - mean) / std, (high_bound - mean) / std, loc=mean, scale=std, size=size)"
   ]
  },
  {
   "cell_type": "markdown",
   "id": "7302b003-7e50-4387-a361-afdfdc6afc93",
   "metadata": {},
   "source": [
    "## Класс `DropDistributorCfg` конфиги для дропов распределителей\n",
    "- конфигурации на основании которых будут генерироваться транзакции дропов распределителей,\n",
    "  которые заняты распределением полученных денег: переводами, снятиями, покупкой криптовалюты."
   ]
  },
  {
   "cell_type": "code",
   "execution_count": 52,
   "id": "d25766b0-5a95-42c3-8dbb-69574a91b127",
   "metadata": {},
   "outputs": [],
   "source": [
    "# ----------- ВСТАВИТЬ ГОТОВЫЙ КЛАСС СЮДА -------------------------"
   ]
  },
  {
   "cell_type": "markdown",
   "id": "3685c4e4-10ab-4133-9860-43d2cf17165a",
   "metadata": {},
   "source": [
    "## Класс `DropPurchaserCfg` конфиги для дропов покупателей\n",
    "- конфигурации на основании которых будут генерироваться транзакции дропов покупателей,\n",
    "  которые заняты покупкой товаров на полученные деньги."
   ]
  },
  {
   "cell_type": "code",
   "execution_count": null,
   "id": "9e69bd66-523e-4649-8379-c97e89e45e24",
   "metadata": {},
   "outputs": [],
   "source": [
    "# ----------- ВСТАВИТЬ ГОТОВЫЙ КЛАСС СЮДА -------------------------"
   ]
  },
  {
   "cell_type": "markdown",
   "id": "dc737a7f-1650-4115-886a-683a410cb21d",
   "metadata": {},
   "source": [
    "## Класс `DropConfigBuilder`\n",
    "- создает объект `DropDistributorCfg` или `DropPurchaserCfg`"
   ]
  },
  {
   "cell_type": "code",
   "execution_count": 1,
   "id": "e8144753-45cb-4dee-8ca0-f0870cfaa22c",
   "metadata": {},
   "outputs": [],
   "source": [
    "# ----------- ВСТАВИТЬ ГОТОВЫЙ КЛАСС СЮДА -------------------------"
   ]
  },
  {
   "cell_type": "markdown",
   "id": "38d77079-e5ec-4d9b-9a41-76bd5d113c64",
   "metadata": {},
   "source": [
    "### **Тест `DropConfigBuilder`**"
   ]
  },
  {
   "cell_type": "code",
   "execution_count": 1,
   "id": "f394f834-9871-45fb-95de-daa68c421a4a",
   "metadata": {},
   "outputs": [],
   "source": [
    "# Временный импорт\n",
    "import os\n",
    "import yaml\n",
    "import pandas as pd\n",
    "import numpy as np\n",
    "import geopandas as gpd\n",
    "os.chdir(\"..\")\n",
    "\n",
    "# Общие настройки\n",
    "with open(\"./config/base.yaml\") as f:\n",
    "    base_cfg = yaml.safe_load(f)\n",
    "# Настройки фрода\n",
    "with open(\"./config/fraud.yaml\") as f:\n",
    "    fraud_cfg = yaml.safe_load(f)\n",
    "# Настройки фрода для дропов\n",
    "with open(\"./config/drops.yaml\", encoding=\"utf8\") as f:\n",
    "    drops_cfg = yaml.safe_load(f)\n",
    "# Настройки времени\n",
    "with open(\"./config/time.yaml\") as f:\n",
    "    time_cfg = yaml.safe_load(f)\n",
    "\n",
    "clients_with_geo = gpd.read_file(\"./data/cleaned_data/clients_with_geo.gpkg\") "
   ]
  },
  {
   "cell_type": "code",
   "execution_count": 2,
   "id": "3e64d781-06cb-4748-9e43-6f2f4d9b263d",
   "metadata": {},
   "outputs": [],
   "source": [
    "from data_generator.fraud.drops.build.config import DropConfigBuilder"
   ]
  },
  {
   "cell_type": "code",
   "execution_count": 3,
   "id": "f61314ab-e7d3-4d62-9a34-4cb955a89841",
   "metadata": {},
   "outputs": [],
   "source": [
    "drop_cfg_build = DropConfigBuilder(base_cfg=base_cfg, fraud_cfg=fraud_cfg, drop_cfg=drops_cfg)"
   ]
  },
  {
   "cell_type": "code",
   "execution_count": 4,
   "id": "d8abb5ac-1968-44d9-a4ac-e4e9ed8eeba3",
   "metadata": {},
   "outputs": [],
   "source": [
    "clients_sample = gpd.read_file(\"./data/cleaned_data/clients_sample.gpkg\")"
   ]
  },
  {
   "cell_type": "code",
   "execution_count": 5,
   "id": "5f1cee52-d487-4af8-96d2-7ecb7b9ecc71",
   "metadata": {},
   "outputs": [],
   "source": [
    "# Клиенты незадействованные ранее в легальных транзакциях и compromised фроде\n",
    "\n",
    "not_used_clients = clients_with_geo.loc[~clients_with_geo.client_id.isin(clients_sample.client_id)].copy()"
   ]
  },
  {
   "cell_type": "markdown",
   "id": "b8ef7a5f-4573-49cf-928e-d40f2aa62471",
   "metadata": {},
   "source": [
    "**Тест `get_clients_for_drops`**"
   ]
  },
  {
   "cell_type": "markdown",
   "id": "00f8722a-f25f-4dd8-b51a-bcfe2f1badd7",
   "metadata": {},
   "source": [
    "**генерируем `purchaser`-ов**  \n",
    "Файл с `distributor`-ами существует"
   ]
  },
  {
   "cell_type": "code",
   "execution_count": 6,
   "id": "eb79526f-ecef-4b45-b4a2-53c3eb5566fd",
   "metadata": {},
   "outputs": [
    {
     "data": {
      "text/plain": [
       "28"
      ]
     },
     "execution_count": 6,
     "metadata": {},
     "output_type": "execute_result"
    }
   ],
   "source": [
    "dist_count = drop_cfg_build.estimate_drops_count(drop_type=\"distributor\")\n",
    "dist_count"
   ]
  },
  {
   "cell_type": "code",
   "execution_count": 7,
   "id": "ba7a4879-8223-421a-87a9-13143b80c390",
   "metadata": {},
   "outputs": [],
   "source": [
    "dist_drops = not_used_clients.sample(n=dist_count).reset_index(drop=True)"
   ]
  },
  {
   "cell_type": "code",
   "execution_count": 8,
   "id": "3a67639a-0b0a-47ab-a5fb-ea7e8860f87b",
   "metadata": {},
   "outputs": [],
   "source": [
    "dist_drops.to_file(\"./data/generated_data/dist_drops.gpkg\", layer='layer_name', driver=\"GPKG\")"
   ]
  },
  {
   "cell_type": "code",
   "execution_count": 9,
   "id": "658c9996-dc5a-404f-b72e-c634741642f3",
   "metadata": {},
   "outputs": [
    {
     "name": "stdout",
     "output_type": "stream",
     "text": [
      "28\n"
     ]
    },
    {
     "data": {
      "text/html": [
       "<div>\n",
       "<style scoped>\n",
       "    .dataframe tbody tr th:only-of-type {\n",
       "        vertical-align: middle;\n",
       "    }\n",
       "\n",
       "    .dataframe tbody tr th {\n",
       "        vertical-align: top;\n",
       "    }\n",
       "\n",
       "    .dataframe thead th {\n",
       "        text-align: right;\n",
       "    }\n",
       "</style>\n",
       "<table border=\"1\" class=\"dataframe\">\n",
       "  <thead>\n",
       "    <tr style=\"text-align: right;\">\n",
       "      <th></th>\n",
       "      <th>client_id</th>\n",
       "      <th>district_id</th>\n",
       "      <th>birth_date</th>\n",
       "      <th>sex</th>\n",
       "      <th>region</th>\n",
       "      <th>area</th>\n",
       "      <th>timezone</th>\n",
       "      <th>lat</th>\n",
       "      <th>lon</th>\n",
       "      <th>population</th>\n",
       "      <th>home_ip</th>\n",
       "      <th>geometry</th>\n",
       "    </tr>\n",
       "  </thead>\n",
       "  <tbody>\n",
       "    <tr>\n",
       "      <th>0</th>\n",
       "      <td>2380</td>\n",
       "      <td>40</td>\n",
       "      <td>1927-08-17</td>\n",
       "      <td>male</td>\n",
       "      <td>Пензенская</td>\n",
       "      <td>Пенза</td>\n",
       "      <td>UTC+3</td>\n",
       "      <td>53.175388</td>\n",
       "      <td>45.034741</td>\n",
       "      <td>519592</td>\n",
       "      <td>2.60.8.206</td>\n",
       "      <td>MULTIPOLYGON (((44.82976 53.24571, 44.83161 53...</td>\n",
       "    </tr>\n",
       "    <tr>\n",
       "      <th>1</th>\n",
       "      <td>696</td>\n",
       "      <td>28</td>\n",
       "      <td>1952-12-01</td>\n",
       "      <td>female</td>\n",
       "      <td>Челябинская</td>\n",
       "      <td>Магнитогорск</td>\n",
       "      <td>UTC+5</td>\n",
       "      <td>53.407189</td>\n",
       "      <td>58.979143</td>\n",
       "      <td>408401</td>\n",
       "      <td>2.60.2.153</td>\n",
       "      <td>MULTIPOLYGON (((58.89722 53.47195, 58.89909 53...</td>\n",
       "    </tr>\n",
       "    <tr>\n",
       "      <th>2</th>\n",
       "      <td>156</td>\n",
       "      <td>54</td>\n",
       "      <td>1930-07-22</td>\n",
       "      <td>female</td>\n",
       "      <td>Свердловская</td>\n",
       "      <td>Екатеринбург</td>\n",
       "      <td>UTC+5</td>\n",
       "      <td>56.838633</td>\n",
       "      <td>60.605489</td>\n",
       "      <td>1377738</td>\n",
       "      <td>2.60.0.147</td>\n",
       "      <td>MULTIPOLYGON (((60.00708 56.80588, 60.01103 56...</td>\n",
       "    </tr>\n",
       "    <tr>\n",
       "      <th>3</th>\n",
       "      <td>740</td>\n",
       "      <td>55</td>\n",
       "      <td>1923-11-07</td>\n",
       "      <td>male</td>\n",
       "      <td>Самарская</td>\n",
       "      <td>Тольятти</td>\n",
       "      <td>UTC+4</td>\n",
       "      <td>53.520644</td>\n",
       "      <td>49.389461</td>\n",
       "      <td>719484</td>\n",
       "      <td>2.60.2.196</td>\n",
       "      <td>MULTIPOLYGON (((49.14714 53.55389, 49.15065 53...</td>\n",
       "    </tr>\n",
       "    <tr>\n",
       "      <th>4</th>\n",
       "      <td>3632</td>\n",
       "      <td>15</td>\n",
       "      <td>1943-09-29</td>\n",
       "      <td>female</td>\n",
       "      <td>Ульяновская</td>\n",
       "      <td>Ульяновск</td>\n",
       "      <td>UTC+4</td>\n",
       "      <td>54.308067</td>\n",
       "      <td>48.374872</td>\n",
       "      <td>613793</td>\n",
       "      <td>2.60.13.113</td>\n",
       "      <td>MULTIPOLYGON (((48.25014 54.29555, 48.26023 54...</td>\n",
       "    </tr>\n",
       "  </tbody>\n",
       "</table>\n",
       "</div>"
      ],
      "text/plain": [
       "   client_id  district_id  birth_date     sex        region          area  \\\n",
       "0       2380           40  1927-08-17    male    Пензенская         Пенза   \n",
       "1        696           28  1952-12-01  female   Челябинская  Магнитогорск   \n",
       "2        156           54  1930-07-22  female  Свердловская  Екатеринбург   \n",
       "3        740           55  1923-11-07    male     Самарская      Тольятти   \n",
       "4       3632           15  1943-09-29  female   Ульяновская     Ульяновск   \n",
       "\n",
       "  timezone        lat        lon  population      home_ip  \\\n",
       "0    UTC+3  53.175388  45.034741      519592   2.60.8.206   \n",
       "1    UTC+5  53.407189  58.979143      408401   2.60.2.153   \n",
       "2    UTC+5  56.838633  60.605489     1377738   2.60.0.147   \n",
       "3    UTC+4  53.520644  49.389461      719484   2.60.2.196   \n",
       "4    UTC+4  54.308067  48.374872      613793  2.60.13.113   \n",
       "\n",
       "                                            geometry  \n",
       "0  MULTIPOLYGON (((44.82976 53.24571, 44.83161 53...  \n",
       "1  MULTIPOLYGON (((58.89722 53.47195, 58.89909 53...  \n",
       "2  MULTIPOLYGON (((60.00708 56.80588, 60.01103 56...  \n",
       "3  MULTIPOLYGON (((49.14714 53.55389, 49.15065 53...  \n",
       "4  MULTIPOLYGON (((48.25014 54.29555, 48.26023 54...  "
      ]
     },
     "execution_count": 9,
     "metadata": {},
     "output_type": "execute_result"
    }
   ],
   "source": [
    "drop_cfg_build.get_clients_for_drops(drop_type=\"purchaser\")\n",
    "print(drop_cfg_build.drops.shape[0])\n",
    "drop_cfg_build.drops.head()"
   ]
  },
  {
   "cell_type": "code",
   "execution_count": 10,
   "id": "ae4d468f-635d-481b-9b0d-97f068edcd3a",
   "metadata": {},
   "outputs": [],
   "source": [
    "purch_drops = drop_cfg_build.drops"
   ]
  },
  {
   "cell_type": "code",
   "execution_count": 11,
   "id": "ff823ef4-4d5a-41e2-9335-46483a25d8f7",
   "metadata": {},
   "outputs": [],
   "source": [
    "samp_and_dist = pd.concat([clients_sample, dist_drops], ignore_index=True)\n",
    "assert samp_and_dist.loc[samp_and_dist.client_id.isin(purch_drops.client_id)].empty"
   ]
  },
  {
   "cell_type": "markdown",
   "id": "8cb09f52-a9ba-4abd-b75d-3d2c9a6e535e",
   "metadata": {},
   "source": [
    "**генерируем `purchaser`-ов**  \n",
    "Файл с `distributor`-ами НЕ существует"
   ]
  },
  {
   "cell_type": "code",
   "execution_count": 12,
   "id": "8b5de4aa-7bb3-459d-8bdb-091bb5219b77",
   "metadata": {},
   "outputs": [
    {
     "name": "stdout",
     "output_type": "stream",
     "text": [
      "28\n"
     ]
    },
    {
     "data": {
      "text/html": [
       "<div>\n",
       "<style scoped>\n",
       "    .dataframe tbody tr th:only-of-type {\n",
       "        vertical-align: middle;\n",
       "    }\n",
       "\n",
       "    .dataframe tbody tr th {\n",
       "        vertical-align: top;\n",
       "    }\n",
       "\n",
       "    .dataframe thead th {\n",
       "        text-align: right;\n",
       "    }\n",
       "</style>\n",
       "<table border=\"1\" class=\"dataframe\">\n",
       "  <thead>\n",
       "    <tr style=\"text-align: right;\">\n",
       "      <th></th>\n",
       "      <th>client_id</th>\n",
       "      <th>district_id</th>\n",
       "      <th>birth_date</th>\n",
       "      <th>sex</th>\n",
       "      <th>region</th>\n",
       "      <th>area</th>\n",
       "      <th>timezone</th>\n",
       "      <th>lat</th>\n",
       "      <th>lon</th>\n",
       "      <th>population</th>\n",
       "      <th>home_ip</th>\n",
       "      <th>geometry</th>\n",
       "    </tr>\n",
       "  </thead>\n",
       "  <tbody>\n",
       "    <tr>\n",
       "      <th>0</th>\n",
       "      <td>144</td>\n",
       "      <td>65</td>\n",
       "      <td>1958-12-06</td>\n",
       "      <td>male</td>\n",
       "      <td>Ростовская</td>\n",
       "      <td>Таганрог</td>\n",
       "      <td>UTC+3</td>\n",
       "      <td>47.209491</td>\n",
       "      <td>38.935154</td>\n",
       "      <td>257692</td>\n",
       "      <td>2.60.0.135</td>\n",
       "      <td>MULTIPOLYGON (((38.79298 47.23052, 38.7937 47....</td>\n",
       "    </tr>\n",
       "    <tr>\n",
       "      <th>1</th>\n",
       "      <td>3717</td>\n",
       "      <td>71</td>\n",
       "      <td>1925-01-30</td>\n",
       "      <td>male</td>\n",
       "      <td>Мурманская</td>\n",
       "      <td>Мурманск</td>\n",
       "      <td>UTC+3</td>\n",
       "      <td>69.007696</td>\n",
       "      <td>33.068602</td>\n",
       "      <td>307664</td>\n",
       "      <td>2.60.13.193</td>\n",
       "      <td>MULTIPOLYGON (((32.93287 68.90211, 32.93588 68...</td>\n",
       "    </tr>\n",
       "    <tr>\n",
       "      <th>2</th>\n",
       "      <td>2141</td>\n",
       "      <td>28</td>\n",
       "      <td>1951-09-06</td>\n",
       "      <td>male</td>\n",
       "      <td>Челябинская</td>\n",
       "      <td>Магнитогорск</td>\n",
       "      <td>UTC+5</td>\n",
       "      <td>53.407189</td>\n",
       "      <td>58.979143</td>\n",
       "      <td>408401</td>\n",
       "      <td>2.60.7.233</td>\n",
       "      <td>MULTIPOLYGON (((58.89722 53.47195, 58.89909 53...</td>\n",
       "    </tr>\n",
       "    <tr>\n",
       "      <th>3</th>\n",
       "      <td>8217</td>\n",
       "      <td>69</td>\n",
       "      <td>1978-08-02</td>\n",
       "      <td>male</td>\n",
       "      <td>Иркутская</td>\n",
       "      <td>Иркутск</td>\n",
       "      <td>UTC+8</td>\n",
       "      <td>52.286351</td>\n",
       "      <td>104.280655</td>\n",
       "      <td>587225</td>\n",
       "      <td>2.60.19.84</td>\n",
       "      <td>MULTIPOLYGON (((104.05892 52.39701, 104.05964 ...</td>\n",
       "    </tr>\n",
       "    <tr>\n",
       "      <th>4</th>\n",
       "      <td>6114</td>\n",
       "      <td>66</td>\n",
       "      <td>1940-02-15</td>\n",
       "      <td>female</td>\n",
       "      <td>Воронежская</td>\n",
       "      <td>Воронеж</td>\n",
       "      <td>UTC+3</td>\n",
       "      <td>51.659238</td>\n",
       "      <td>39.196828</td>\n",
       "      <td>889680</td>\n",
       "      <td>2.60.18.184</td>\n",
       "      <td>MULTIPOLYGON (((39.01323 51.60446, 39.01766 51...</td>\n",
       "    </tr>\n",
       "  </tbody>\n",
       "</table>\n",
       "</div>"
      ],
      "text/plain": [
       "   client_id  district_id  birth_date     sex       region          area  \\\n",
       "0        144           65  1958-12-06    male   Ростовская      Таганрог   \n",
       "1       3717           71  1925-01-30    male   Мурманская      Мурманск   \n",
       "2       2141           28  1951-09-06    male  Челябинская  Магнитогорск   \n",
       "3       8217           69  1978-08-02    male    Иркутская       Иркутск   \n",
       "4       6114           66  1940-02-15  female  Воронежская       Воронеж   \n",
       "\n",
       "  timezone        lat         lon  population      home_ip  \\\n",
       "0    UTC+3  47.209491   38.935154      257692   2.60.0.135   \n",
       "1    UTC+3  69.007696   33.068602      307664  2.60.13.193   \n",
       "2    UTC+5  53.407189   58.979143      408401   2.60.7.233   \n",
       "3    UTC+8  52.286351  104.280655      587225   2.60.19.84   \n",
       "4    UTC+3  51.659238   39.196828      889680  2.60.18.184   \n",
       "\n",
       "                                            geometry  \n",
       "0  MULTIPOLYGON (((38.79298 47.23052, 38.7937 47....  \n",
       "1  MULTIPOLYGON (((32.93287 68.90211, 32.93588 68...  \n",
       "2  MULTIPOLYGON (((58.89722 53.47195, 58.89909 53...  \n",
       "3  MULTIPOLYGON (((104.05892 52.39701, 104.05964 ...  \n",
       "4  MULTIPOLYGON (((39.01323 51.60446, 39.01766 51...  "
      ]
     },
     "execution_count": 12,
     "metadata": {},
     "output_type": "execute_result"
    }
   ],
   "source": [
    "path1 = \"./data/generated_data/dist_drops.gpkg\"\n",
    "if os.path.exists(path1):\n",
    "    os.remove(path1)\n",
    "drop_cfg_build.get_clients_for_drops(drop_type=\"purchaser\")\n",
    "print(drop_cfg_build.drops.shape[0])\n",
    "drop_cfg_build.drops.head()"
   ]
  },
  {
   "cell_type": "code",
   "execution_count": 13,
   "id": "8aaf336a-4f96-4496-b420-24bd87336db0",
   "metadata": {},
   "outputs": [],
   "source": [
    "purch_drops2 = drop_cfg_build.drops"
   ]
  },
  {
   "cell_type": "code",
   "execution_count": 14,
   "id": "6f936f67-9fbe-4a4c-b5d9-c5bf2059b4c4",
   "metadata": {},
   "outputs": [],
   "source": [
    "assert clients_sample.loc[clients_sample.client_id.isin(purch_drops2.client_id)].empty"
   ]
  },
  {
   "cell_type": "markdown",
   "id": "72977838-eff0-47f7-8447-4afa954cfdc2",
   "metadata": {},
   "source": [
    "**генерируем `distributor-ов`**  \n",
    "Файл с `purchaser`-ами существует"
   ]
  },
  {
   "cell_type": "code",
   "execution_count": 15,
   "id": "14c49317-32d3-4e53-ab34-5a794faa6b3c",
   "metadata": {},
   "outputs": [],
   "source": [
    "purch_count = drop_cfg_build.estimate_drops_count(drop_type=\"purchaser\")\n",
    "purch_drops = not_used_clients.sample(n=purch_count).reset_index(drop=True)\n",
    "dist_drops.to_file(\"./data/generated_data/dist_drops.gpkg\", layer='layer_name', driver=\"GPKG\")"
   ]
  },
  {
   "cell_type": "code",
   "execution_count": 16,
   "id": "bb337fff-da0c-4c66-9f07-14fd2654c2d8",
   "metadata": {},
   "outputs": [
    {
     "name": "stdout",
     "output_type": "stream",
     "text": [
      "28\n"
     ]
    },
    {
     "data": {
      "text/html": [
       "<div>\n",
       "<style scoped>\n",
       "    .dataframe tbody tr th:only-of-type {\n",
       "        vertical-align: middle;\n",
       "    }\n",
       "\n",
       "    .dataframe tbody tr th {\n",
       "        vertical-align: top;\n",
       "    }\n",
       "\n",
       "    .dataframe thead th {\n",
       "        text-align: right;\n",
       "    }\n",
       "</style>\n",
       "<table border=\"1\" class=\"dataframe\">\n",
       "  <thead>\n",
       "    <tr style=\"text-align: right;\">\n",
       "      <th></th>\n",
       "      <th>client_id</th>\n",
       "      <th>district_id</th>\n",
       "      <th>birth_date</th>\n",
       "      <th>sex</th>\n",
       "      <th>region</th>\n",
       "      <th>area</th>\n",
       "      <th>timezone</th>\n",
       "      <th>lat</th>\n",
       "      <th>lon</th>\n",
       "      <th>population</th>\n",
       "      <th>home_ip</th>\n",
       "      <th>geometry</th>\n",
       "    </tr>\n",
       "  </thead>\n",
       "  <tbody>\n",
       "    <tr>\n",
       "      <th>0</th>\n",
       "      <td>625</td>\n",
       "      <td>60</td>\n",
       "      <td>1978-11-24</td>\n",
       "      <td>female</td>\n",
       "      <td>Хабаровский</td>\n",
       "      <td>Хабаровск</td>\n",
       "      <td>UTC+10</td>\n",
       "      <td>48.464799</td>\n",
       "      <td>135.059881</td>\n",
       "      <td>577668</td>\n",
       "      <td>2.60.2.84</td>\n",
       "      <td>MULTIPOLYGON (((134.89789 48.4426, 134.89823 4...</td>\n",
       "    </tr>\n",
       "    <tr>\n",
       "      <th>1</th>\n",
       "      <td>4434</td>\n",
       "      <td>64</td>\n",
       "      <td>1964-03-29</td>\n",
       "      <td>male</td>\n",
       "      <td>Нижегородская</td>\n",
       "      <td>Нижний Новгород</td>\n",
       "      <td>UTC+3</td>\n",
       "      <td>56.324209</td>\n",
       "      <td>44.005395</td>\n",
       "      <td>1250615</td>\n",
       "      <td>2.60.16.97</td>\n",
       "      <td>MULTIPOLYGON (((43.72068 56.21979, 43.7211 56....</td>\n",
       "    </tr>\n",
       "    <tr>\n",
       "      <th>2</th>\n",
       "      <td>1435</td>\n",
       "      <td>52</td>\n",
       "      <td>1953-06-25</td>\n",
       "      <td>male</td>\n",
       "      <td>Челябинская</td>\n",
       "      <td>Челябинск</td>\n",
       "      <td>UTC+5</td>\n",
       "      <td>55.160366</td>\n",
       "      <td>61.400786</td>\n",
       "      <td>1130273</td>\n",
       "      <td>2.60.5.80</td>\n",
       "      <td>MULTIPOLYGON (((61.1436 55.05351, 61.1436 55.0...</td>\n",
       "    </tr>\n",
       "    <tr>\n",
       "      <th>3</th>\n",
       "      <td>343</td>\n",
       "      <td>44</td>\n",
       "      <td>1919-11-19</td>\n",
       "      <td>male</td>\n",
       "      <td>Ставропольский</td>\n",
       "      <td>Ставрополь</td>\n",
       "      <td>UTC+3</td>\n",
       "      <td>45.044544</td>\n",
       "      <td>41.969017</td>\n",
       "      <td>398266</td>\n",
       "      <td>2.60.1.68</td>\n",
       "      <td>MULTIPOLYGON (((41.81047 45.00561, 41.81108 45...</td>\n",
       "    </tr>\n",
       "    <tr>\n",
       "      <th>4</th>\n",
       "      <td>9450</td>\n",
       "      <td>68</td>\n",
       "      <td>1943-10-11</td>\n",
       "      <td>female</td>\n",
       "      <td>Самарская</td>\n",
       "      <td>Самара</td>\n",
       "      <td>UTC+4</td>\n",
       "      <td>53.195166</td>\n",
       "      <td>50.106769</td>\n",
       "      <td>1164900</td>\n",
       "      <td>2.60.19.150</td>\n",
       "      <td>MULTIPOLYGON (((49.73139 53.48063, 49.73797 53...</td>\n",
       "    </tr>\n",
       "  </tbody>\n",
       "</table>\n",
       "</div>"
      ],
      "text/plain": [
       "   client_id  district_id  birth_date     sex          region  \\\n",
       "0        625           60  1978-11-24  female     Хабаровский   \n",
       "1       4434           64  1964-03-29    male   Нижегородская   \n",
       "2       1435           52  1953-06-25    male     Челябинская   \n",
       "3        343           44  1919-11-19    male  Ставропольский   \n",
       "4       9450           68  1943-10-11  female       Самарская   \n",
       "\n",
       "              area timezone        lat         lon  population      home_ip  \\\n",
       "0        Хабаровск   UTC+10  48.464799  135.059881      577668    2.60.2.84   \n",
       "1  Нижний Новгород    UTC+3  56.324209   44.005395     1250615   2.60.16.97   \n",
       "2        Челябинск    UTC+5  55.160366   61.400786     1130273    2.60.5.80   \n",
       "3       Ставрополь    UTC+3  45.044544   41.969017      398266    2.60.1.68   \n",
       "4           Самара    UTC+4  53.195166   50.106769     1164900  2.60.19.150   \n",
       "\n",
       "                                            geometry  \n",
       "0  MULTIPOLYGON (((134.89789 48.4426, 134.89823 4...  \n",
       "1  MULTIPOLYGON (((43.72068 56.21979, 43.7211 56....  \n",
       "2  MULTIPOLYGON (((61.1436 55.05351, 61.1436 55.0...  \n",
       "3  MULTIPOLYGON (((41.81047 45.00561, 41.81108 45...  \n",
       "4  MULTIPOLYGON (((49.73139 53.48063, 49.73797 53...  "
      ]
     },
     "execution_count": 16,
     "metadata": {},
     "output_type": "execute_result"
    }
   ],
   "source": [
    "path2 = \"./data/generated_data/purchase_drops.gpkg\"\n",
    "assert os.path.exists(path2), \"File does not exist\"\n",
    "\n",
    "drop_cfg_build.get_clients_for_drops(drop_type=\"distributor\")\n",
    "print(drop_cfg_build.drops.shape[0])\n",
    "drop_cfg_build.drops.head()"
   ]
  },
  {
   "cell_type": "code",
   "execution_count": 17,
   "id": "62ec8a94-cd1e-448b-8579-99a29d52ee14",
   "metadata": {},
   "outputs": [],
   "source": [
    "dist_drops1 = drop_cfg_build.drops"
   ]
  },
  {
   "cell_type": "code",
   "execution_count": 18,
   "id": "c0a8174b-f5ac-4d10-89ab-56e3a1fcfe20",
   "metadata": {},
   "outputs": [],
   "source": [
    "samp_and_purch = pd.concat([clients_sample, purch_drops], ignore_index=True)\n",
    "assert samp_and_purch.loc[samp_and_purch.client_id.isin(dist_drops1.client_id)].empty"
   ]
  },
  {
   "cell_type": "markdown",
   "id": "92e96c92-f5e9-4add-9e3a-0684b070a8ed",
   "metadata": {},
   "source": [
    "**генерируем `distributor-ов`**  \n",
    "Файл с `purchaser`-ами НЕ существует"
   ]
  },
  {
   "cell_type": "code",
   "execution_count": 19,
   "id": "030c1a2c-667a-4142-8b8c-24f3b54bad18",
   "metadata": {},
   "outputs": [
    {
     "name": "stdout",
     "output_type": "stream",
     "text": [
      "28\n"
     ]
    },
    {
     "data": {
      "text/html": [
       "<div>\n",
       "<style scoped>\n",
       "    .dataframe tbody tr th:only-of-type {\n",
       "        vertical-align: middle;\n",
       "    }\n",
       "\n",
       "    .dataframe tbody tr th {\n",
       "        vertical-align: top;\n",
       "    }\n",
       "\n",
       "    .dataframe thead th {\n",
       "        text-align: right;\n",
       "    }\n",
       "</style>\n",
       "<table border=\"1\" class=\"dataframe\">\n",
       "  <thead>\n",
       "    <tr style=\"text-align: right;\">\n",
       "      <th></th>\n",
       "      <th>client_id</th>\n",
       "      <th>district_id</th>\n",
       "      <th>birth_date</th>\n",
       "      <th>sex</th>\n",
       "      <th>region</th>\n",
       "      <th>area</th>\n",
       "      <th>timezone</th>\n",
       "      <th>lat</th>\n",
       "      <th>lon</th>\n",
       "      <th>population</th>\n",
       "      <th>home_ip</th>\n",
       "      <th>geometry</th>\n",
       "    </tr>\n",
       "  </thead>\n",
       "  <tbody>\n",
       "    <tr>\n",
       "      <th>0</th>\n",
       "      <td>3126</td>\n",
       "      <td>47</td>\n",
       "      <td>1938-01-13</td>\n",
       "      <td>male</td>\n",
       "      <td>Алтайский</td>\n",
       "      <td>Барнаул</td>\n",
       "      <td>UTC+7</td>\n",
       "      <td>53.348115</td>\n",
       "      <td>83.779836</td>\n",
       "      <td>635585</td>\n",
       "      <td>2.60.11.146</td>\n",
       "      <td>MULTIPOLYGON (((83.5329 53.34391, 83.53472 53....</td>\n",
       "    </tr>\n",
       "    <tr>\n",
       "      <th>1</th>\n",
       "      <td>283</td>\n",
       "      <td>73</td>\n",
       "      <td>1933-11-04</td>\n",
       "      <td>male</td>\n",
       "      <td>Оренбургская</td>\n",
       "      <td>Оренбург</td>\n",
       "      <td>UTC+5</td>\n",
       "      <td>51.787519</td>\n",
       "      <td>55.101738</td>\n",
       "      <td>570329</td>\n",
       "      <td>2.60.1.11</td>\n",
       "      <td>MULTIPOLYGON (((55.01926 51.78958, 55.01948 51...</td>\n",
       "    </tr>\n",
       "    <tr>\n",
       "      <th>2</th>\n",
       "      <td>5699</td>\n",
       "      <td>73</td>\n",
       "      <td>1950-10-08</td>\n",
       "      <td>male</td>\n",
       "      <td>Оренбургская</td>\n",
       "      <td>Оренбург</td>\n",
       "      <td>UTC+5</td>\n",
       "      <td>51.787519</td>\n",
       "      <td>55.101738</td>\n",
       "      <td>570329</td>\n",
       "      <td>2.60.18.148</td>\n",
       "      <td>MULTIPOLYGON (((55.01926 51.78958, 55.01948 51...</td>\n",
       "    </tr>\n",
       "    <tr>\n",
       "      <th>3</th>\n",
       "      <td>258</td>\n",
       "      <td>22</td>\n",
       "      <td>1937-05-31</td>\n",
       "      <td>male</td>\n",
       "      <td>Забайкальский</td>\n",
       "      <td>Чита</td>\n",
       "      <td>UTC+9</td>\n",
       "      <td>52.034013</td>\n",
       "      <td>113.499488</td>\n",
       "      <td>323964</td>\n",
       "      <td>2.60.0.243</td>\n",
       "      <td>MULTIPOLYGON (((113.13361 51.99927, 113.13574 ...</td>\n",
       "    </tr>\n",
       "    <tr>\n",
       "      <th>4</th>\n",
       "      <td>831</td>\n",
       "      <td>2</td>\n",
       "      <td>1948-05-02</td>\n",
       "      <td>male</td>\n",
       "      <td>Мордовия</td>\n",
       "      <td>Саранск</td>\n",
       "      <td>UTC+3</td>\n",
       "      <td>54.180760</td>\n",
       "      <td>45.186226</td>\n",
       "      <td>297425</td>\n",
       "      <td>2.60.3.21</td>\n",
       "      <td>MULTIPOLYGON (((45.05548 54.18571, 45.06143 54...</td>\n",
       "    </tr>\n",
       "  </tbody>\n",
       "</table>\n",
       "</div>"
      ],
      "text/plain": [
       "   client_id  district_id  birth_date   sex         region      area timezone  \\\n",
       "0       3126           47  1938-01-13  male      Алтайский   Барнаул    UTC+7   \n",
       "1        283           73  1933-11-04  male   Оренбургская  Оренбург    UTC+5   \n",
       "2       5699           73  1950-10-08  male   Оренбургская  Оренбург    UTC+5   \n",
       "3        258           22  1937-05-31  male  Забайкальский      Чита    UTC+9   \n",
       "4        831            2  1948-05-02  male       Мордовия   Саранск    UTC+3   \n",
       "\n",
       "         lat         lon  population      home_ip  \\\n",
       "0  53.348115   83.779836      635585  2.60.11.146   \n",
       "1  51.787519   55.101738      570329    2.60.1.11   \n",
       "2  51.787519   55.101738      570329  2.60.18.148   \n",
       "3  52.034013  113.499488      323964   2.60.0.243   \n",
       "4  54.180760   45.186226      297425    2.60.3.21   \n",
       "\n",
       "                                            geometry  \n",
       "0  MULTIPOLYGON (((83.5329 53.34391, 83.53472 53....  \n",
       "1  MULTIPOLYGON (((55.01926 51.78958, 55.01948 51...  \n",
       "2  MULTIPOLYGON (((55.01926 51.78958, 55.01948 51...  \n",
       "3  MULTIPOLYGON (((113.13361 51.99927, 113.13574 ...  \n",
       "4  MULTIPOLYGON (((45.05548 54.18571, 45.06143 54...  "
      ]
     },
     "execution_count": 19,
     "metadata": {},
     "output_type": "execute_result"
    }
   ],
   "source": [
    "path2 = \"./data/generated_data/purchase_drops.gpkg\"\n",
    "if os.path.exists(path2):\n",
    "    os.remove(path2)\n",
    "drop_cfg_build.get_clients_for_drops(drop_type=\"distributor\")\n",
    "print(drop_cfg_build.drops.shape[0])\n",
    "drop_cfg_build.drops.head()"
   ]
  },
  {
   "cell_type": "code",
   "execution_count": 20,
   "id": "28c58c71-c7f3-4d0f-b37f-44ec238bdef9",
   "metadata": {},
   "outputs": [],
   "source": [
    "dist_drops2 = drop_cfg_build.drops"
   ]
  },
  {
   "cell_type": "code",
   "execution_count": 21,
   "id": "67db8c25-cb9c-46fa-8747-ad821ab55d40",
   "metadata": {},
   "outputs": [],
   "source": [
    "assert clients_sample.loc[clients_sample.client_id.isin(dist_drops2.client_id)].empty"
   ]
  },
  {
   "cell_type": "markdown",
   "id": "e7474eaa-efad-47d2-85fb-52434c5eb9b9",
   "metadata": {},
   "source": [
    "**Тест `build_dist_cfg`**  \n",
    "**создание объекта `DropDistributorCfg`**"
   ]
  },
  {
   "cell_type": "code",
   "execution_count": 1159,
   "id": "273553e4-3fdc-43d3-b776-0e265b3cabe3",
   "metadata": {},
   "outputs": [],
   "source": [
    "dist_configs = drop_cfg_build.build_dist_cfg()"
   ]
  },
  {
   "cell_type": "code",
   "execution_count": null,
   "id": "b9729223-8abb-467d-a5e4-f858f2211715",
   "metadata": {},
   "outputs": [],
   "source": []
  },
  {
   "cell_type": "code",
   "execution_count": null,
   "id": "7c623fbf-a63b-4bc5-b9f1-881eefa6c74f",
   "metadata": {},
   "outputs": [],
   "source": []
  },
  {
   "cell_type": "markdown",
   "id": "14e17758-50df-45ec-a01b-0f67809b8020",
   "metadata": {},
   "source": [
    "Конфиги загружаются временно тут"
   ]
  },
  {
   "cell_type": "code",
   "execution_count": 1067,
   "id": "f903ce78-5623-409c-a537-90e7569358bc",
   "metadata": {},
   "outputs": [],
   "source": [
    "# Общие настройки\n",
    "with open(\"./config/base.yaml\") as f:\n",
    "    base_cfg = yaml.safe_load(f)\n",
    "# Настройки фрода\n",
    "with open(\"./config/fraud.yaml\") as f:\n",
    "    fraud_cfg = yaml.safe_load(f)\n",
    "# Настройки фрода для дропов\n",
    "with open(\"./config/drops.yaml\", encoding=\"utf8\") as f:\n",
    "    drops_cfg = yaml.safe_load(f)\n",
    "# Настройки времени\n",
    "with open(\"./config/time.yaml\") as f:\n",
    "    time_cfg = yaml.safe_load(f)"
   ]
  },
  {
   "cell_type": "code",
   "execution_count": 1073,
   "id": "e6b21d1c-3dd0-4ef7-b01e-1b68ddebc611",
   "metadata": {},
   "outputs": [],
   "source": []
  },
  {
   "cell_type": "markdown",
   "id": "41bc701a-1ba4-49ee-8fd7-010714fbf90d",
   "metadata": {},
   "source": [
    "## Объект датакласса `DropDistributorCfg` конфиги для дропов распределителей"
   ]
  },
  {
   "cell_type": "code",
   "execution_count": 1015,
   "id": "07c26c2b-b46d-4e58-921b-ccd4227336a7",
   "metadata": {},
   "outputs": [],
   "source": [
    "# Импорт на время разработки\n",
    "import data_generator.configs\n",
    "importlib.reload(data_generator.configs)\n",
    "from data_generator.configs import DropDistributorCfg"
   ]
  },
  {
   "cell_type": "markdown",
   "id": "490d0ee2-5f93-4469-97f2-cd1a93df80ba",
   "metadata": {},
   "source": [
    "**Доп. конфиги из `drop.yaml`**"
   ]
  },
  {
   "cell_type": "code",
   "execution_count": 1040,
   "id": "35c248e0-7ba5-4246-9c11-260175c8a72b",
   "metadata": {},
   "outputs": [],
   "source": [
    "# временно\n",
    "\n",
    "# Общие настройки\n",
    "with open(\"./config/base.yaml\") as f:\n",
    "    base_cfg = yaml.safe_load(f)\n",
    "# Настройки фрода\n",
    "with open(\"./config/fraud.yaml\") as f:\n",
    "    fraud_cfg = yaml.safe_load(f)\n",
    "# Настройки фрода для дропов\n",
    "with open(\"./config/drops.yaml\", encoding=\"utf8\") as f:\n",
    "    drops_cfg = yaml.safe_load(f)\n",
    "# Настройки времени\n",
    "with open(\"./config/time.yaml\") as f:\n",
    "    time_cfg = yaml.safe_load(f)"
   ]
  },
  {
   "cell_type": "code",
   "execution_count": 1042,
   "id": "c761f555-8c53-4941-99cb-f0946e664438",
   "metadata": {},
   "outputs": [],
   "source": [
    "dist_configs = DropDistributorCfg(clients=dist_drop_clients, timestamps=timestamps, accounts=accounts, \\\n",
    "                                  outer_accounts=outer_accounts, client_devices=client_devices, \\\n",
    "                                  online_merchant_ids=online_merchant_ids, cities=districts_ru, in_lim=dist_in_lim, \n",
    "                                  out_lim=dist_out_im, period_in_lim=period_in_lim, period_out_lim=period_out_lim, \\\n",
    "                                  lag_interval=dist_lag_int, two_way_delta=two_way_delta, pos_delta=pos_delta, \\\n",
    "                                  split_rate=split_rate, chunks=chunks, inbound_amt=dist_inbound, round=dist_round, \\\n",
    "                                  trf_max=dist_trf_max, reduce_share=dist_reduce, attempts=dist_att, to_drops=to_drops, \\\n",
    "                                  crypto_rate=crypto_rate\n",
    "                                 )"
   ]
  },
  {
   "attachments": {},
   "cell_type": "markdown",
   "id": "9ddb6614-929c-4818-b90c-17786109d3c3",
   "metadata": {},
   "source": [
    "## Класс `DropAccountHandler`"
   ]
  },
  {
   "cell_type": "code",
   "execution_count": 484,
   "id": "fb804981-e1ab-40b5-a287-66b7057a3608",
   "metadata": {},
   "outputs": [],
   "source": [
    "class DropAccountHandler:\n",
    "    \"\"\"\n",
    "    Генератор номеров счетов входящих/исходящих транзакций.\n",
    "    Учет использованных счетов.\n",
    "    \"\"\"\n",
    "    def __init__(self, configs: DropConfigs, client_id, used_accounts=pd.Series(name=\"account_id\")):\n",
    "        \"\"\"\n",
    "        configs - pd.DataFrame. Данные для создания транзакций: номера счетов клиентов и внешних счетов, и др.\n",
    "        client_id - int. id текущего дропа.\n",
    "        used_accounts - pd.Series. Счета на которые дропы уже отправляли деньги.\n",
    "        \"\"\"\n",
    "        self.accounts = configs.accounts\n",
    "        self.outer_accounts = configs.outer_accounts\n",
    "        self.client_id = client_id\n",
    "        # self.account = 0\n",
    "        self.account = configs.accounts.loc[configs.accounts.client_id == client_id, \"account_id\"].iat[0]\n",
    "        self.used_accounts = used_accounts\n",
    "\n",
    "    def get_account(self, to_drop):\n",
    "        \"\"\"\n",
    "        Номер счета входящего/исходящего перевода\n",
    "        to_drop - bool. Перевод другому дропу в нашем банке или нет.\n",
    "        \"\"\"\n",
    "        # Если отправляем/получаем из другого банка.  \n",
    "        if not to_drop:\n",
    "            # Семплируем номер внешнего счета который еще не использовался\n",
    "            account = self.outer_accounts.loc[~(self.outer_accounts.isin(self.used_accounts))].sample(1).iat[0]\n",
    "            # Добавляем этот счет в использованные как последнюю запись в серии\n",
    "            self.used_accounts.loc[self.used_accounts.shape[0]] = account\n",
    "            return account\n",
    "        \n",
    "        # Если надо отправить другому дропу в нашем банке. При условии что есть другие дропы на текущий момент\n",
    "        # Фильтруем accounts исключая свой счет и использованные счета, и выбирая дропов. Для случая если to_drop\n",
    "        drop_accounts = self.accounts.loc[(self.accounts.client_id != self.client_id) & (self.accounts.is_drop == True) \\\n",
    "                                          & ~(self.accounts.account_id.isin(self.used_accounts))]\n",
    "        \n",
    "        # Если счетов дропов ещё нет. Берем внешний неиспользованный счет\n",
    "        if drop_accounts.empty:\n",
    "            account = self.outer_accounts.loc[~(self.outer_accounts.isin(self.used_accounts))].sample(1).iat[0]\n",
    "            self.used_accounts.loc[self.used_accounts.shape[0]] = account\n",
    "            return account\n",
    "\n",
    "        # Дропы есть\n",
    "        account = drop_accounts.account_id.sample(1).iat[0]\n",
    "        # Добавляем этот счет в использованные как последнюю запись в серии\n",
    "        self.used_accounts.loc[self.used_accounts.shape[0]] = account\n",
    "        return account\n",
    "\n",
    "\n",
    "    def reset_cache(self):\n",
    "        \"\"\"\n",
    "        Сброс кэшированных значений.\n",
    "        Это только использованные номера счетов\n",
    "        \"\"\"\n",
    "        self.used_accounts = pd.Series(name=\"account_id\")"
   ]
  },
  {
   "cell_type": "markdown",
   "id": "7ad480ac-a6d9-441c-b9a8-a74b4317d614",
   "metadata": {},
   "source": [
    "**Тест `DropAccountHandler`**"
   ]
  },
  {
   "cell_type": "code",
   "execution_count": 1,
   "id": "e4386c03-5594-4cd7-8b0c-4f64333e3a90",
   "metadata": {},
   "outputs": [],
   "source": [
    "# Временный импорт\n",
    "import os\n",
    "import yaml\n",
    "\n",
    "os.chdir(\"..\")\n",
    "\n",
    "# Общие настройки\n",
    "with open(\"./config/base.yaml\") as f:\n",
    "    base_cfg = yaml.safe_load(f)\n",
    "# Настройки фрода\n",
    "with open(\"./config/fraud.yaml\") as f:\n",
    "    fraud_cfg = yaml.safe_load(f)\n",
    "# Настройки фрода для дропов\n",
    "with open(\"./config/drops.yaml\", encoding=\"utf8\") as f:\n",
    "    drops_cfg = yaml.safe_load(f)\n",
    "# Настройки времени\n",
    "with open(\"./config/time.yaml\") as f:\n",
    "    time_cfg = yaml.safe_load(f)"
   ]
  },
  {
   "cell_type": "code",
   "execution_count": 12,
   "id": "b72a9f22-a462-48a5-add0-58f66fed9515",
   "metadata": {},
   "outputs": [],
   "source": [
    "# импорт на время разработки\n",
    "\n",
    "from data_generator.fraud.drops.build.config import DropConfigBuilder\n",
    "from data_generator.fraud.drops.base import DropAccountHandler\n",
    "\n",
    "drop_cfg_build = DropConfigBuilder(base_cfg=base_cfg, fraud_cfg=fraud_cfg, drop_cfg=drops_cfg)\n",
    "dist_configs = drop_cfg_build.build_dist_cfg()\n",
    "# purch_configs = drop_cfg_build.build_purch_cfg()"
   ]
  },
  {
   "cell_type": "code",
   "execution_count": 14,
   "id": "906163ab-8fd8-4081-acae-4595e475cb24",
   "metadata": {},
   "outputs": [],
   "source": [
    "drop_acc_hand1 = DropAccountHandler(configs=dist_configs)\n",
    "# drop_acc_hand1 = DropAccountHandler(configs=purch_configs)"
   ]
  },
  {
   "cell_type": "code",
   "execution_count": 15,
   "id": "62193c78-e3b2-4783-aa1d-8dcf705af455",
   "metadata": {},
   "outputs": [],
   "source": [
    "drop_acc_hand1.client_id = 1"
   ]
  },
  {
   "cell_type": "code",
   "execution_count": 16,
   "id": "aa8318ef-b7e8-4790-9bc4-f00d028b19bc",
   "metadata": {},
   "outputs": [
    {
     "data": {
      "text/plain": [
       "np.int64(10000)"
      ]
     },
     "execution_count": 16,
     "metadata": {},
     "output_type": "execute_result"
    }
   ],
   "source": [
    "drop_acc_hand1.get_account(own=True)\n",
    "drop_acc_hand1.account"
   ]
  },
  {
   "cell_type": "code",
   "execution_count": 17,
   "id": "7b2f697c-1a71-4ea8-a75a-f3d8ac10e9b2",
   "metadata": {},
   "outputs": [
    {
     "data": {
      "text/plain": [
       "np.int64(17191)"
      ]
     },
     "execution_count": 17,
     "metadata": {},
     "output_type": "execute_result"
    }
   ],
   "source": [
    "drop_acc_hand1.get_account()"
   ]
  },
  {
   "cell_type": "code",
   "execution_count": 7,
   "id": "70177fce-dde6-4f6e-9f12-500feba2ce42",
   "metadata": {},
   "outputs": [
    {
     "data": {
      "text/plain": [
       "0    21539\n",
       "Name: account_id, dtype: int64"
      ]
     },
     "execution_count": 7,
     "metadata": {},
     "output_type": "execute_result"
    }
   ],
   "source": [
    "drop_acc_hand1.used_accounts"
   ]
  },
  {
   "cell_type": "code",
   "execution_count": 16,
   "id": "4f28cf59-94f0-4338-a623-7f9712b264f9",
   "metadata": {},
   "outputs": [],
   "source": [
    "drop_acc_hand1.label_drop()"
   ]
  },
  {
   "cell_type": "code",
   "execution_count": 17,
   "id": "b93cf7a2-a669-4121-9763-41df3ea0bd2c",
   "metadata": {},
   "outputs": [
    {
     "data": {
      "text/html": [
       "<div>\n",
       "<style scoped>\n",
       "    .dataframe tbody tr th:only-of-type {\n",
       "        vertical-align: middle;\n",
       "    }\n",
       "\n",
       "    .dataframe tbody tr th {\n",
       "        vertical-align: top;\n",
       "    }\n",
       "\n",
       "    .dataframe thead th {\n",
       "        text-align: right;\n",
       "    }\n",
       "</style>\n",
       "<table border=\"1\" class=\"dataframe\">\n",
       "  <thead>\n",
       "    <tr style=\"text-align: right;\">\n",
       "      <th></th>\n",
       "      <th>client_id</th>\n",
       "      <th>account_id</th>\n",
       "      <th>is_drop</th>\n",
       "    </tr>\n",
       "  </thead>\n",
       "  <tbody>\n",
       "    <tr>\n",
       "      <th>0</th>\n",
       "      <td>1</td>\n",
       "      <td>10000</td>\n",
       "      <td>True</td>\n",
       "    </tr>\n",
       "    <tr>\n",
       "      <th>1</th>\n",
       "      <td>2</td>\n",
       "      <td>10001</td>\n",
       "      <td>False</td>\n",
       "    </tr>\n",
       "  </tbody>\n",
       "</table>\n",
       "</div>"
      ],
      "text/plain": [
       "   client_id  account_id  is_drop\n",
       "0          1       10000     True\n",
       "1          2       10001    False"
      ]
     },
     "execution_count": 17,
     "metadata": {},
     "output_type": "execute_result"
    }
   ],
   "source": [
    "drop_acc_hand1.accounts.head(2)"
   ]
  },
  {
   "cell_type": "code",
   "execution_count": 1274,
   "id": "6b5163c1-3a02-4079-a5f1-3b68704e027c",
   "metadata": {},
   "outputs": [],
   "source": [
    "drop_acc_hand1.client_id = 99"
   ]
  },
  {
   "cell_type": "code",
   "execution_count": 1275,
   "id": "c4ba62e4-e151-424a-bbf0-8396826facc0",
   "metadata": {},
   "outputs": [],
   "source": [
    "drop_acc_hand1.get_account(own=True)\n",
    "drop_acc_hand1.label_drop()"
   ]
  },
  {
   "cell_type": "code",
   "execution_count": 1276,
   "id": "9cc44296-8e7c-4e18-ae85-d2bb1641ee70",
   "metadata": {},
   "outputs": [
    {
     "data": {
      "text/html": [
       "<div>\n",
       "<style scoped>\n",
       "    .dataframe tbody tr th:only-of-type {\n",
       "        vertical-align: middle;\n",
       "    }\n",
       "\n",
       "    .dataframe tbody tr th {\n",
       "        vertical-align: top;\n",
       "    }\n",
       "\n",
       "    .dataframe thead th {\n",
       "        text-align: right;\n",
       "    }\n",
       "</style>\n",
       "<table border=\"1\" class=\"dataframe\">\n",
       "  <thead>\n",
       "    <tr style=\"text-align: right;\">\n",
       "      <th></th>\n",
       "      <th>client_id</th>\n",
       "      <th>account_id</th>\n",
       "      <th>is_drop</th>\n",
       "    </tr>\n",
       "  </thead>\n",
       "  <tbody>\n",
       "    <tr>\n",
       "      <th>93</th>\n",
       "      <td>99</td>\n",
       "      <td>10093</td>\n",
       "      <td>True</td>\n",
       "    </tr>\n",
       "  </tbody>\n",
       "</table>\n",
       "</div>"
      ],
      "text/plain": [
       "    client_id  account_id  is_drop\n",
       "93         99       10093     True"
      ]
     },
     "execution_count": 1276,
     "metadata": {},
     "output_type": "execute_result"
    }
   ],
   "source": [
    "drop_acc_hand1.accounts.query(\"client_id == 99\")"
   ]
  },
  {
   "cell_type": "markdown",
   "id": "82e61636-7626-493a-b478-2b9612b56195",
   "metadata": {},
   "source": [
    "**`to_drop=True`**  нет дропов в self.accounts  (кроме текущего дропа)"
   ]
  },
  {
   "cell_type": "code",
   "execution_count": 1277,
   "id": "45d188f3-513f-492d-bbc4-85fccdb3e0f3",
   "metadata": {},
   "outputs": [],
   "source": [
    "own_id = drop_acc_hand1.client_id"
   ]
  },
  {
   "cell_type": "code",
   "execution_count": 1283,
   "id": "768e20f3-7379-4eb4-80db-e392150bc223",
   "metadata": {},
   "outputs": [
    {
     "data": {
      "text/html": [
       "<div>\n",
       "<style scoped>\n",
       "    .dataframe tbody tr th:only-of-type {\n",
       "        vertical-align: middle;\n",
       "    }\n",
       "\n",
       "    .dataframe tbody tr th {\n",
       "        vertical-align: top;\n",
       "    }\n",
       "\n",
       "    .dataframe thead th {\n",
       "        text-align: right;\n",
       "    }\n",
       "</style>\n",
       "<table border=\"1\" class=\"dataframe\">\n",
       "  <thead>\n",
       "    <tr style=\"text-align: right;\">\n",
       "      <th></th>\n",
       "      <th>client_id</th>\n",
       "      <th>account_id</th>\n",
       "      <th>is_drop</th>\n",
       "    </tr>\n",
       "  </thead>\n",
       "  <tbody>\n",
       "  </tbody>\n",
       "</table>\n",
       "</div>"
      ],
      "text/plain": [
       "Empty DataFrame\n",
       "Columns: [client_id, account_id, is_drop]\n",
       "Index: []"
      ]
     },
     "execution_count": 1283,
     "metadata": {},
     "output_type": "execute_result"
    }
   ],
   "source": [
    "drop_acc_hand1.accounts.query(\"client_id != @own_id and is_drop == True\")"
   ]
  },
  {
   "cell_type": "code",
   "execution_count": 18,
   "id": "97714e7a-7183-4df5-8d33-67cd5e36a7d8",
   "metadata": {},
   "outputs": [
    {
     "ename": "AssertionError",
     "evalue": "Other functionality works only for DropDistributorCfg object.\n            But <class 'data_generator.configs.DropPurchaserCfg'> was passed",
     "output_type": "error",
     "traceback": [
      "\u001b[31m---------------------------------------------------------------------------\u001b[39m",
      "\u001b[31mAssertionError\u001b[39m                            Traceback (most recent call last)",
      "\u001b[36mCell\u001b[39m\u001b[36m \u001b[39m\u001b[32mIn[18]\u001b[39m\u001b[32m, line 2\u001b[39m\n\u001b[32m      1\u001b[39m drop_acc_hand1.reset_cache()\n\u001b[32m----> \u001b[39m\u001b[32m2\u001b[39m outer_acc1 = \u001b[43mdrop_acc_hand1\u001b[49m\u001b[43m.\u001b[49m\u001b[43mget_account\u001b[49m\u001b[43m(\u001b[49m\u001b[43mto_drop\u001b[49m\u001b[43m=\u001b[49m\u001b[38;5;28;43;01mTrue\u001b[39;49;00m\u001b[43m)\u001b[49m\n\u001b[32m      3\u001b[39m drop_acc_hand1.outer_accounts.loc[drop_acc_hand1.outer_accounts == outer_acc1]\n",
      "\u001b[36mFile \u001b[39m\u001b[32m~\\My_documents\\Education\\projects\\fraud_detection_01\\modules\\data_generator\\fraud\\drops\\base.py:65\u001b[39m, in \u001b[36mDropAccountHandler.get_account\u001b[39m\u001b[34m(self, own, to_drop)\u001b[39m\n\u001b[32m     62\u001b[39m     \u001b[38;5;28mself\u001b[39m.account = \u001b[38;5;28mself\u001b[39m.accounts.loc[\u001b[38;5;28mself\u001b[39m.accounts.client_id == \u001b[38;5;28mself\u001b[39m.client_id, \u001b[33m\"\u001b[39m\u001b[33maccount_id\u001b[39m\u001b[33m\"\u001b[39m].iat[\u001b[32m0\u001b[39m]\n\u001b[32m     63\u001b[39m     \u001b[38;5;28;01mreturn\u001b[39;00m\n\u001b[32m---> \u001b[39m\u001b[32m65\u001b[39m \u001b[38;5;28;01massert\u001b[39;00m \u001b[38;5;28misinstance\u001b[39m(\u001b[38;5;28mself\u001b[39m.configs, DropDistributorCfg), \\\n\u001b[32m     66\u001b[39m     \u001b[33mf\u001b[39m\u001b[33m\"\"\"\u001b[39m\u001b[33mOther functionality works only for DropDistributorCfg object.\u001b[39m\n\u001b[32m     67\u001b[39m \u001b[33m    But \u001b[39m\u001b[38;5;132;01m{\u001b[39;00m\u001b[38;5;28mtype\u001b[39m(\u001b[38;5;28mself\u001b[39m.configs)\u001b[38;5;132;01m}\u001b[39;00m\u001b[33m was passed\u001b[39m\u001b[33m\"\"\"\u001b[39m\n\u001b[32m     68\u001b[39m \u001b[38;5;66;03m# Если отправляем/получаем из другого банка.  \u001b[39;00m\n\u001b[32m     69\u001b[39m \u001b[38;5;28;01mif\u001b[39;00m \u001b[38;5;129;01mnot\u001b[39;00m to_drop:\n\u001b[32m     70\u001b[39m     \u001b[38;5;66;03m# Семплируем номер внешнего счета который еще не использовался\u001b[39;00m\n",
      "\u001b[31mAssertionError\u001b[39m: Other functionality works only for DropDistributorCfg object.\n            But <class 'data_generator.configs.DropPurchaserCfg'> was passed"
     ]
    }
   ],
   "source": [
    "drop_acc_hand1.reset_cache()\n",
    "outer_acc1 = drop_acc_hand1.get_account(to_drop=True)\n",
    "drop_acc_hand1.outer_accounts.loc[drop_acc_hand1.outer_accounts == outer_acc1]"
   ]
  },
  {
   "cell_type": "code",
   "execution_count": 1182,
   "id": "ba98c4ed-c11f-49ed-8bc2-c6f768a5392a",
   "metadata": {},
   "outputs": [
    {
     "data": {
      "text/plain": [
       "0    18779\n",
       "Name: account_id, dtype: int64"
      ]
     },
     "execution_count": 1182,
     "metadata": {},
     "output_type": "execute_result"
    }
   ],
   "source": [
    "drop_acc_hand1.used_accounts"
   ]
  },
  {
   "cell_type": "markdown",
   "id": "3c9b85bf-89c2-4758-8b73-0f8ebc3290d0",
   "metadata": {},
   "source": [
    "**`to_drop=True`** кол-во дропов в self.accounts меньше чем self.min_drops"
   ]
  },
  {
   "cell_type": "code",
   "execution_count": 710,
   "id": "9660a0cb-1c72-486e-b889-94bc3903e8d8",
   "metadata": {},
   "outputs": [
    {
     "name": "stdout",
     "output_type": "stream",
     "text": [
      "6\n"
     ]
    },
    {
     "data": {
      "text/plain": [
       "5"
      ]
     },
     "execution_count": 710,
     "metadata": {},
     "output_type": "execute_result"
    }
   ],
   "source": [
    "drop_acc_hand1.reset_cache()\n",
    "min_drops = dist_configs.to_drops[\"min_drops\"]\n",
    "print(min_drops)\n",
    "drop_acc_hand1.accounts[\"is_drop\"] = False\n",
    "drop_acc_hand1.get_account(own=True)\n",
    "\n",
    "accs_samp = drop_acc_hand1.accounts.query(\"client_id != @own_id\").client_id.sample(n=min_drops - 1)\n",
    "drop_acc_hand1.accounts.loc[drop_acc_hand1.accounts.client_id.isin(accs_samp), \"is_drop\"] = True\n",
    "drop_acc_hand1.accounts.query(\"client_id != @own_id and is_drop == True\").shape[0]"
   ]
  },
  {
   "cell_type": "code",
   "execution_count": 711,
   "id": "bcbfd749-53b8-407d-b1b0-1b9209aa8dee",
   "metadata": {},
   "outputs": [
    {
     "data": {
      "text/plain": [
       "np.int64(21917)"
      ]
     },
     "execution_count": 711,
     "metadata": {},
     "output_type": "execute_result"
    }
   ],
   "source": [
    "outer_acc2 = drop_acc_hand1.get_account(to_drop=True)\n",
    "outer_acc2"
   ]
  },
  {
   "cell_type": "code",
   "execution_count": 712,
   "id": "692b2944-3580-47eb-a725-9814979bfe39",
   "metadata": {},
   "outputs": [
    {
     "data": {
      "text/plain": [
       "6548    21917\n",
       "Name: account_id, dtype: int64"
      ]
     },
     "execution_count": 712,
     "metadata": {},
     "output_type": "execute_result"
    }
   ],
   "source": [
    "drop_acc_hand1.outer_accounts.loc[drop_acc_hand1.outer_accounts == outer_acc2]"
   ]
  },
  {
   "cell_type": "code",
   "execution_count": 713,
   "id": "0261fe16-4dd6-4cba-bad3-74b85d90714d",
   "metadata": {},
   "outputs": [
    {
     "data": {
      "text/plain": [
       "0    21917\n",
       "Name: account_id, dtype: int64"
      ]
     },
     "execution_count": 713,
     "metadata": {},
     "output_type": "execute_result"
    }
   ],
   "source": [
    "drop_acc_hand1.used_accounts"
   ]
  },
  {
   "cell_type": "markdown",
   "id": "36dfbc83-c7ca-4a42-aefc-2dd8437d2ea1",
   "metadata": {},
   "source": [
    "**`to_drop=True`** кол-во дропов в self.accounts `>=` self.min_drops"
   ]
  },
  {
   "cell_type": "code",
   "execution_count": 714,
   "id": "089cbcf9-1c08-4ab6-ad0f-091035ac8f43",
   "metadata": {},
   "outputs": [
    {
     "name": "stdout",
     "output_type": "stream",
     "text": [
      "6\n"
     ]
    },
    {
     "data": {
      "text/plain": [
       "6"
      ]
     },
     "execution_count": 714,
     "metadata": {},
     "output_type": "execute_result"
    }
   ],
   "source": [
    "drop_acc_hand1.reset_cache()\n",
    "min_drops = dist_configs.to_drops[\"min_drops\"]\n",
    "print(min_drops)\n",
    "drop_acc_hand1.accounts[\"is_drop\"] = False\n",
    "drop_acc_hand1.get_account(own=True)\n",
    "\n",
    "accs_samp3 = drop_acc_hand1.accounts.query(\"client_id != @own_id\").client_id.sample(n=min_drops)\n",
    "drop_acc_hand1.accounts.loc[drop_acc_hand1.accounts.client_id.isin(accs_samp3), \"is_drop\"] = True\n",
    "drop_acc_hand1.accounts.query(\"client_id != @own_id and is_drop == True\").shape[0]"
   ]
  },
  {
   "cell_type": "code",
   "execution_count": 715,
   "id": "893a152b-652b-4ae2-ba00-30ef89ddf9ed",
   "metadata": {},
   "outputs": [
    {
     "data": {
      "text/plain": [
       "np.int64(13694)"
      ]
     },
     "execution_count": 715,
     "metadata": {},
     "output_type": "execute_result"
    }
   ],
   "source": [
    "drop_acc1 = drop_acc_hand1.get_account(to_drop=True)\n",
    "drop_acc1"
   ]
  },
  {
   "cell_type": "code",
   "execution_count": 717,
   "id": "8e600194-754c-4c54-a3ce-d5c73f583935",
   "metadata": {},
   "outputs": [
    {
     "data": {
      "text/html": [
       "<div>\n",
       "<style scoped>\n",
       "    .dataframe tbody tr th:only-of-type {\n",
       "        vertical-align: middle;\n",
       "    }\n",
       "\n",
       "    .dataframe tbody tr th {\n",
       "        vertical-align: top;\n",
       "    }\n",
       "\n",
       "    .dataframe thead th {\n",
       "        text-align: right;\n",
       "    }\n",
       "</style>\n",
       "<table border=\"1\" class=\"dataframe\">\n",
       "  <thead>\n",
       "    <tr style=\"text-align: right;\">\n",
       "      <th></th>\n",
       "      <th>client_id</th>\n",
       "      <th>account_id</th>\n",
       "      <th>is_drop</th>\n",
       "    </tr>\n",
       "  </thead>\n",
       "  <tbody>\n",
       "    <tr>\n",
       "      <th>3694</th>\n",
       "      <td>3904</td>\n",
       "      <td>13694</td>\n",
       "      <td>True</td>\n",
       "    </tr>\n",
       "  </tbody>\n",
       "</table>\n",
       "</div>"
      ],
      "text/plain": [
       "      client_id  account_id  is_drop\n",
       "3694       3904       13694     True"
      ]
     },
     "execution_count": 717,
     "metadata": {},
     "output_type": "execute_result"
    }
   ],
   "source": [
    "drop_acc_hand1.accounts.loc[drop_acc_hand1.accounts.account_id == drop_acc1]"
   ]
  },
  {
   "cell_type": "code",
   "execution_count": null,
   "id": "e0910c0a-8dae-4e5f-8ab0-62c141e14463",
   "metadata": {},
   "outputs": [],
   "source": []
  },
  {
   "cell_type": "markdown",
   "id": "50d8d7cd-89a2-49a0-adef-3c5e5fb0ab3e",
   "metadata": {},
   "source": [
    "## Класс `DropAmountHandler`"
   ]
  },
  {
   "cell_type": "code",
   "execution_count": null,
   "id": "d4e2fada-c7a7-4268-a71f-a6dce6f52735",
   "metadata": {},
   "outputs": [],
   "source": [
    "# class DropAmountHandler: \n",
    "#     \"\"\"\n",
    "#     Генератор сумм входящих/исходящих транзакций, сумм снятий.\n",
    "#     Управление балансом текущего дропа.\n",
    "#     -------------\n",
    "#     Атрибуты:\n",
    "#     balance: float, int. Текущий баланс дропа. По умолчанию 0.\n",
    "#     batch_txns: int. Счетчик транзакций сделанных в рамках распределения полученной партии денег.\n",
    "#                       По умолчанию 0.\n",
    "#     chunk_size: int, float. Последний созданный размер части баланса для перевода по частям\n",
    "#                              По умолчанию 0.\n",
    "#     chunks: dict. Содержит ключи:\n",
    "#         atm_min: int. Минимальная сумма для снятий в банкомате.\n",
    "#         atm_share: float. Доля от баланса, которую дроп снимает в случае снятия в банкомате\n",
    "#         low: int. Минимальная сумма исходящего перевода частями.\n",
    "#         high: int. Максимальная сумма исходящего перевода частями.\n",
    "#         step: int. Шаг возможных сумм. Чем меньше шаг, тем больше вариантов.\n",
    "#         rand_rate: float. От 0 до 1.\n",
    "#                    Процент случаев, когда каждый НЕ первый чанк будет случайным и не зависеть от предыдущего.\n",
    "#                    Но возможны случайные совпадаения с предыдущим размером чанка.\n",
    "#                    Доля случайных размеров подряд будет:\n",
    "#                    p(c) - вероятность взять определенный размер (зависит от размера выборки чанков)\n",
    "#                    p(r) - rand_rate\n",
    "#                    p(r) - (p(r) * p(c)). Например p(r) = 0.9; и 5 вариантов размеров чанка - p(c) = 0.20\n",
    "#                    0.9 - (0.9 * 0.2) = 0.72\n",
    "#                    В около 72% случаев размеры чанков не будут подряд одинаковыми \n",
    "#     inbound_amt: dict. Настройки для сумм входящих транзакций. Содержит ключи:\n",
    "#         low: int\n",
    "#         high: int\n",
    "#         mean: int\n",
    "#         std: int\n",
    "#     round: int. Округление целой части сумм транзакций. Напр. 500 значит что суммы будут кратны 500 - кончаться на 500 или 000                  \n",
    "#     \"\"\"\n",
    "\n",
    "#     def __init__(self, configs: DropDistributorCfg | DropPurchaserCfg):\n",
    "#         \"\"\"\n",
    "#         configs: DropDistributorCfg | DropPurchaserCfg. Данные на основании, которых генерируются транзакции.\n",
    "#                  Отсюда берутся: atm_min, atm_share, min, step, rand_rate.\n",
    "#         \"\"\"\n",
    "#         self.balance = 0\n",
    "#         self.batch_txns = 0\n",
    "#         self.chunk_size = 0\n",
    "#         self.chunks = configs.chunks.copy()\n",
    "#         self.inbound_amt = configs.inbound_amt.copy()\n",
    "#         self.round = configs.round\n",
    "#         # self.atm_min = configs.chunks[\"atm_min\"]\n",
    "#         # self.atm_share = configs.chunks[\"atm_share\"]\n",
    "#         # self.min = configs.chunks[\"min\"]\n",
    "#         # self.max = configs.chunks[\"max\"]\n",
    "#         # self.step = configs.chunks[\"step\"]\n",
    "#         # self.rand_rate = configs.chunks[\"rand_rate\"]\n",
    "\n",
    "#     def update_balance(self, amount, receive=False, declined=False):\n",
    "#         \"\"\"\n",
    "#         Увеличить/уменьшить баланс на указанную сумму\n",
    "#         -------------------\n",
    "#         amount - float, int.\n",
    "#         receive - bool. Входящая ли транзакция. Прибавлять сумму или отнимать.\n",
    "#         declined - bool. Отклонена ли транзакция или одобрена.\n",
    "#         \"\"\"\n",
    "#         # Не обновлять баланс если транзакция отклонена.\n",
    "#         if declined:\n",
    "#             return\n",
    "            \n",
    "#         # Увеличить баланс   \n",
    "#         if receive:\n",
    "#             self.balance += amount\n",
    "#             return\n",
    "            \n",
    "#         # Уменьшить баланс    \n",
    "#         self.balance -= amount\n",
    "\n",
    "#     def receive(self, declined):\n",
    "#         \"\"\"\n",
    "#         Генерация суммы входящего перевода\n",
    "#         --------------------------\n",
    "#         declined - bool. Отклонена ли транзакция или одобрена\n",
    "#         \"\"\"\n",
    "#         low = self.inbound_amt[\"low\"]\n",
    "#         high = self.inbound_amt[\"high\"]\n",
    "#         mean = self.inbound_amt[\"mean\"]\n",
    "#         std = self.inbound_amt[\"std\"]\n",
    "\n",
    "#         # Генерация суммы. Округление целой части при необходимости\n",
    "#         amount = get_values_from_truncnorm(low_bound=low, high_bound=high, mean=mean, std=std)[0] // self.round * self.round\n",
    "        \n",
    "#         # Обновляем баланс если транзакция не отклонена\n",
    "#         self.update_balance(amount=amount, receive=True, declined=declined)\n",
    "        \n",
    "#         return amount\n",
    "\n",
    "#     def get_chunk_size(self, online=False):\n",
    "#         \"\"\"\n",
    "#         Вернуть случайный размер суммы перевода для перевода по частям\n",
    "#         либо вернуть долю от баланса для снятия/перевода по частям.\n",
    "#         -------------------------------\n",
    "#         online - bool. Онлайн или оффлайн. Перевод или банкомат. Если банкомат, то снимается доля self.chunks[\"atm_share\"] от баланса, \n",
    "#                  но не меньше self.chunks[\"atm_min\"]\n",
    "#         --------------------\n",
    "#         Возвращает np.int64\n",
    "#         Результат кэшируется в self.chunk_size\n",
    "#         \"\"\"\n",
    "#         # Если это не первая транзакция в серии транзакции для одной полученной дропом суммы\n",
    "#         # И случайное число больше rand_rate, то просто возвращаем ранее созданный размер чанка\n",
    "#         rand_rate = self.chunks[\"rand_rate\"]\n",
    "#         if self.batch_txns != 0 and np.random.uniform(0,1) > rand_rate:\n",
    "#             return self.chunk_size\n",
    "\n",
    "#         # Если снятие\n",
    "#         if not online:\n",
    "#             atm_min = self.chunks[\"atm_min\"]\n",
    "#             atm_share = self.chunks[\"atm_share\"]\n",
    "#             self.chunk_size = max(atm_min, self.balance * atm_share // self.round * self.round)\n",
    "#             return self.chunk_size\n",
    "        \n",
    "#         # Если перевод. \n",
    "#         # Берем лимиты под генерацию массива чанков, в зависимости от\n",
    "#         # полученной дропом суммы\n",
    "#         small = self.chunks[\"rcvd_small\"]\n",
    "#         medium = self.chunks[\"rcvd_medium\"] \n",
    "#         large = self.chunks[\"rcvd_large\"]\n",
    "#         step = self.chunks[\"step\"]\n",
    "\n",
    "#         if self.balance <= small[\"limit\"]:\n",
    "#             low = min(self.balance, small[\"min\"]) # но не больше суммы на балансе\n",
    "#             high = min(self.balance, small[\"max\"]) # но не больше суммы на балансе\n",
    "\n",
    "#         elif self.balance <= medium[\"limit\"]:\n",
    "#             low = min(self.balance, medium[\"min\"])\n",
    "#             high = min(self.balance, medium[\"max\"])\n",
    "\n",
    "#         else:\n",
    "#             low = min(self.balance, large[\"min\"])\n",
    "#             high = min(self.balance, large[\"max\"])\n",
    "   \n",
    "#         # прибавим шаг к максимуму, чтобы было понятнее передавать аргументы в конфиге \n",
    "#         # и не учитывать исключение значения stop в np.arange\n",
    "#         sampling_array = np.arange(low, high + step, step)\n",
    "#         # Если чанк больше бал\n",
    "#         self.chunk_size = np.random.choice(sampling_array)\n",
    "#         return self.chunk_size"
   ]
  },
  {
   "cell_type": "markdown",
   "id": "875e6b2e-9908-4310-8e40-7e4865122b2e",
   "metadata": {},
   "source": [
    "**Тест `DropAmountHandler`**"
   ]
  },
  {
   "cell_type": "code",
   "execution_count": 1,
   "id": "e4af7751-79ff-41a7-9bd9-e5506021a2d5",
   "metadata": {},
   "outputs": [],
   "source": [
    "# Временный импорт\n",
    "import os\n",
    "import yaml\n",
    "\n",
    "os.chdir(\"..\")\n",
    "\n",
    "# Общие настройки\n",
    "with open(\"./config/base.yaml\") as f:\n",
    "    base_cfg = yaml.safe_load(f)\n",
    "# Настройки фрода\n",
    "with open(\"./config/fraud.yaml\") as f:\n",
    "    fraud_cfg = yaml.safe_load(f)\n",
    "# Настройки фрода для дропов\n",
    "with open(\"./config/drops.yaml\", encoding=\"utf8\") as f:\n",
    "    drops_cfg = yaml.safe_load(f)\n",
    "# Настройки времени\n",
    "with open(\"./config/time.yaml\") as f:\n",
    "    time_cfg = yaml.safe_load(f)"
   ]
  },
  {
   "cell_type": "code",
   "execution_count": 3,
   "id": "6d2c3ceb-e3e8-477b-a3f7-f02995bb270b",
   "metadata": {},
   "outputs": [],
   "source": [
    "# импорт на время разработки\n",
    "\n",
    "# import data_generator.fraud.drops.base\n",
    "# import data_generator.indev\n",
    "# import data_generator.configs\n",
    "\n",
    "# importlib.reload(data_generator.indev)\n",
    "# importlib.reload(data_generator.configs)\n",
    "# importlib.reload(data_generator.fraud.drops.base)\n",
    "import pandas as pd\n",
    "import numpy as np\n",
    "from data_generator.indev import DropConfigBuilder\n",
    "# from data_generator.configs import DropDistributorCfg\n",
    "from data_generator.fraud.drops.base import DropAmountHandler\n",
    "\n",
    "drop_cfg_build = DropConfigBuilder(base_cfg=base_cfg, fraud_cfg=fraud_cfg, drop_cfg=drops_cfg)\n",
    "configs1 = drop_cfg_build.build_dist_cfg()\n",
    "# configs1 = drop_cfg_build.build_purch_cfg()\n",
    "drop_amt1 = DropAmountHandler(configs=configs1)"
   ]
  },
  {
   "cell_type": "code",
   "execution_count": 4,
   "id": "757416b7-57e8-43ea-8216-b26ce1f9a56e",
   "metadata": {},
   "outputs": [
    {
     "data": {
      "text/plain": [
       "{'atm_min': 10000,\n",
       " 'atm_share': {'min': 0.3, 'max': 0.7},\n",
       " 'step': 1000,\n",
       " 'rand_rate': 0.9,\n",
       " 'rcvd_small': {'limit': 10000, 'min': 3000, 'max': 10000},\n",
       " 'rcvd_medium': {'limit': 30000, 'min': 5000, 'max': 25000},\n",
       " 'rcvd_large': {'min': 10000, 'max': 40000}}"
      ]
     },
     "execution_count": 4,
     "metadata": {},
     "output_type": "execute_result"
    }
   ],
   "source": [
    "drop_amt1.chunks"
   ]
  },
  {
   "cell_type": "code",
   "execution_count": 4,
   "id": "088eb415-8574-454d-a95f-c73861462863",
   "metadata": {},
   "outputs": [
    {
     "data": {
      "text/plain": [
       "(0, 0, 0)"
      ]
     },
     "execution_count": 4,
     "metadata": {},
     "output_type": "execute_result"
    }
   ],
   "source": [
    "drop_amt1.balance, drop_amt1.batch_txns, drop_amt1.chunk_size"
   ]
  },
  {
   "cell_type": "code",
   "execution_count": 1187,
   "id": "bb326e2d-63fc-4ea1-a089-0a4ce5e343cb",
   "metadata": {},
   "outputs": [],
   "source": [
    "# drop_amt1.chunks, drop_amt1.receive, drop_amt1.round"
   ]
  },
  {
   "cell_type": "code",
   "execution_count": 1188,
   "id": "d52618f1-fb13-4d50-85ff-426c00b8a347",
   "metadata": {},
   "outputs": [
    {
     "data": {
      "text/plain": [
       "0"
      ]
     },
     "execution_count": 1188,
     "metadata": {},
     "output_type": "execute_result"
    }
   ],
   "source": [
    "drop_amt1.reset_cache()\n",
    "drop_amt1.balance"
   ]
  },
  {
   "cell_type": "code",
   "execution_count": 6,
   "id": "cac6fef0-87c9-4b3e-a6bb-65ae34b3a73c",
   "metadata": {},
   "outputs": [
    {
     "data": {
      "text/plain": [
       "{'low': 5000, 'high': 100000, 'mean': 30000, 'std': 20000}"
      ]
     },
     "execution_count": 6,
     "metadata": {},
     "output_type": "execute_result"
    }
   ],
   "source": [
    "drop_amt1.inbound_amt"
   ]
  },
  {
   "cell_type": "code",
   "execution_count": 5,
   "id": "7411d36f-0aed-4210-a9cf-5e30ea6d1b1a",
   "metadata": {},
   "outputs": [
    {
     "data": {
      "text/plain": [
       "29200.0"
      ]
     },
     "execution_count": 5,
     "metadata": {},
     "output_type": "execute_result"
    }
   ],
   "source": [
    "drop_amt1.balance = 50000\n",
    "drop_amt1.get_chunk_size(online=False)"
   ]
  },
  {
   "cell_type": "code",
   "execution_count": 4,
   "id": "233be42a-f0b6-4c58-8c6e-7dbd69fc5ed8",
   "metadata": {},
   "outputs": [
    {
     "name": "stdout",
     "output_type": "stream",
     "text": [
      "balance: 50000\n"
     ]
    },
    {
     "data": {
      "text/plain": [
       "min      5000.00\n",
       "max     99900.00\n",
       "mean    33808.04\n",
       "Name: rcvd_amt, dtype: float64"
      ]
     },
     "execution_count": 4,
     "metadata": {},
     "output_type": "execute_result"
    }
   ],
   "source": [
    "drop_amt1.reset_cache()\n",
    "received_list = [drop_amt1.receive(declined=True) for _ in range(10000)]\n",
    "rcvd_amts_df = pd.DataFrame(pd.Series(received_list, name=\"rcvd_amt\"))\n",
    "print(f\"balance: {drop_amt1.balance}\")\n",
    "rcvd_amts_df.rcvd_amt.agg([\"min\",\"max\", \"mean\"])"
   ]
  },
  {
   "cell_type": "code",
   "execution_count": 11,
   "id": "4e6396ab-21be-4925-adb9-ca0961a8ce40",
   "metadata": {},
   "outputs": [
    {
     "data": {
      "text/plain": [
       "np.float64(46400.0)"
      ]
     },
     "execution_count": 11,
     "metadata": {},
     "output_type": "execute_result"
    }
   ],
   "source": [
    "drop_amt1.receive(declined=False)"
   ]
  },
  {
   "cell_type": "code",
   "execution_count": 12,
   "id": "a5e8d761-f908-446c-9e1a-ca3c8ea2068a",
   "metadata": {},
   "outputs": [
    {
     "data": {
      "text/plain": [
       "np.float64(46400.0)"
      ]
     },
     "execution_count": 12,
     "metadata": {},
     "output_type": "execute_result"
    }
   ],
   "source": [
    "drop_amt1.balance"
   ]
  },
  {
   "cell_type": "code",
   "execution_count": 1194,
   "id": "9209bf85-fc1e-4c11-96d2-8d83c1654fd2",
   "metadata": {},
   "outputs": [
    {
     "data": {
      "text/plain": [
       "np.float64(25400.0)"
      ]
     },
     "execution_count": 1194,
     "metadata": {},
     "output_type": "execute_result"
    }
   ],
   "source": [
    "drop_amt1.receive(declined=False)"
   ]
  },
  {
   "cell_type": "code",
   "execution_count": 1195,
   "id": "115c7523-7009-485e-b132-1f73979e4b8f",
   "metadata": {},
   "outputs": [
    {
     "data": {
      "text/plain": [
       "np.float64(89400.0)"
      ]
     },
     "execution_count": 1195,
     "metadata": {},
     "output_type": "execute_result"
    }
   ],
   "source": [
    "drop_amt1.balance"
   ]
  },
  {
   "cell_type": "code",
   "execution_count": 13,
   "id": "dc5107a9-a980-4195-b09e-35113bfc1a19",
   "metadata": {},
   "outputs": [
    {
     "name": "stdout",
     "output_type": "stream",
     "text": [
      "before:  46400.0\n"
     ]
    },
    {
     "data": {
      "text/plain": [
       "np.float64(46400.0)"
      ]
     },
     "execution_count": 13,
     "metadata": {},
     "output_type": "execute_result"
    }
   ],
   "source": [
    "print(\"before: \", drop_amt1.balance)\n",
    "drop_amt1.update_balance(amount=7000, receive=False, declined=True)\n",
    "drop_amt1.balance"
   ]
  },
  {
   "cell_type": "markdown",
   "id": "e309cd1f-d113-4124-af9e-7cbe35f0d780",
   "metadata": {},
   "source": [
    "**Тест `chunk_size`**"
   ]
  },
  {
   "cell_type": "code",
   "execution_count": 689,
   "id": "42b24425-67de-447d-af08-9d8db4decc78",
   "metadata": {},
   "outputs": [],
   "source": [
    "# Значения атрибутов отличные от прописанных в конфиге - закомментить/раскомментить при надобности\n",
    "# drop_amt1.chunks[\"low\"] = 10000\n",
    "# drop_amt1.chunks[\"high\"] = 45000\n",
    "# drop_amt1.chunks[\"step\"] = 1000\n",
    "# drop_amt1.chunks[\"atm_min\"] = 15000\n",
    "# drop_amt1.chunks[\"atm_share\"] = 0.4\n",
    "# drop_amt1.chunks[\"rand_rate\"] = 0.5"
   ]
  },
  {
   "cell_type": "code",
   "execution_count": 6,
   "id": "ab436667-aa69-4f46-8903-be7b1b748c8c",
   "metadata": {},
   "outputs": [
    {
     "data": {
      "text/plain": [
       "(10000, 10000)"
      ]
     },
     "execution_count": 6,
     "metadata": {},
     "output_type": "execute_result"
    }
   ],
   "source": [
    "drop_amt1.balance = 10000\n",
    "drop_amt1.batch_txns = 1\n",
    "drop_amt1.get_chunk_size(online=False), drop_amt1.chunk_size"
   ]
  },
  {
   "cell_type": "code",
   "execution_count": 16,
   "id": "7ccb1ff6-4272-45f7-91e4-57d5b7f00442",
   "metadata": {},
   "outputs": [
    {
     "data": {
      "text/html": [
       "<div>\n",
       "<style scoped>\n",
       "    .dataframe tbody tr th:only-of-type {\n",
       "        vertical-align: middle;\n",
       "    }\n",
       "\n",
       "    .dataframe tbody tr th {\n",
       "        vertical-align: top;\n",
       "    }\n",
       "\n",
       "    .dataframe thead th {\n",
       "        text-align: right;\n",
       "    }\n",
       "</style>\n",
       "<table border=\"1\" class=\"dataframe\">\n",
       "  <thead>\n",
       "    <tr style=\"text-align: right;\">\n",
       "      <th></th>\n",
       "      <th>chunk_size</th>\n",
       "    </tr>\n",
       "  </thead>\n",
       "  <tbody>\n",
       "    <tr>\n",
       "      <th>0</th>\n",
       "      <td>20800.0</td>\n",
       "    </tr>\n",
       "    <tr>\n",
       "      <th>1</th>\n",
       "      <td>40800.0</td>\n",
       "    </tr>\n",
       "    <tr>\n",
       "      <th>2</th>\n",
       "      <td>40800.0</td>\n",
       "    </tr>\n",
       "    <tr>\n",
       "      <th>3</th>\n",
       "      <td>21900.0</td>\n",
       "    </tr>\n",
       "    <tr>\n",
       "      <th>4</th>\n",
       "      <td>18500.0</td>\n",
       "    </tr>\n",
       "  </tbody>\n",
       "</table>\n",
       "</div>"
      ],
      "text/plain": [
       "   chunk_size\n",
       "0     20800.0\n",
       "1     40800.0\n",
       "2     40800.0\n",
       "3     21900.0\n",
       "4     18500.0"
      ]
     },
     "execution_count": 16,
     "metadata": {},
     "output_type": "execute_result"
    }
   ],
   "source": [
    "drop_amt1.reset_cache(life_end=True)\n",
    "drop_amt1.batch_txns = 1\n",
    "# drop_amt1.chunk_size = 20000\n",
    "drop_amt1.balance = drop_amt1.chunks[\"rcvd_medium\"][\"limit\"] + 30000\n",
    "chunks_list = [drop_amt1.get_chunk_size(online=False) for _ in range(1000)]\n",
    "chunks_df = pd.DataFrame(pd.Series(chunks_list, name=\"chunk_size\"))\n",
    "chunks_df.head()"
   ]
  },
  {
   "cell_type": "code",
   "execution_count": 10,
   "id": "90ce9e0d-552e-48df-8e3f-57c2c46f6c2a",
   "metadata": {
    "scrolled": true
   },
   "outputs": [
    {
     "data": {
      "text/html": [
       "<div>\n",
       "<style scoped>\n",
       "    .dataframe tbody tr th:only-of-type {\n",
       "        vertical-align: middle;\n",
       "    }\n",
       "\n",
       "    .dataframe tbody tr th {\n",
       "        vertical-align: top;\n",
       "    }\n",
       "\n",
       "    .dataframe thead th {\n",
       "        text-align: right;\n",
       "    }\n",
       "</style>\n",
       "<table border=\"1\" class=\"dataframe\">\n",
       "  <thead>\n",
       "    <tr style=\"text-align: right;\">\n",
       "      <th></th>\n",
       "      <th>chunk_size</th>\n",
       "      <th>prev_size</th>\n",
       "      <th>eq_to_prev</th>\n",
       "    </tr>\n",
       "  </thead>\n",
       "  <tbody>\n",
       "    <tr>\n",
       "      <th>0</th>\n",
       "      <td>39500.0</td>\n",
       "      <td>NaN</td>\n",
       "      <td>False</td>\n",
       "    </tr>\n",
       "    <tr>\n",
       "      <th>1</th>\n",
       "      <td>36300.0</td>\n",
       "      <td>39500.0</td>\n",
       "      <td>False</td>\n",
       "    </tr>\n",
       "    <tr>\n",
       "      <th>2</th>\n",
       "      <td>39900.0</td>\n",
       "      <td>36300.0</td>\n",
       "      <td>False</td>\n",
       "    </tr>\n",
       "  </tbody>\n",
       "</table>\n",
       "</div>"
      ],
      "text/plain": [
       "   chunk_size  prev_size  eq_to_prev\n",
       "0     39500.0        NaN       False\n",
       "1     36300.0    39500.0       False\n",
       "2     39900.0    36300.0       False"
      ]
     },
     "execution_count": 10,
     "metadata": {},
     "output_type": "execute_result"
    }
   ],
   "source": [
    "chunks_df[\"prev_size\"] = chunks_df.chunk_size.shift(1)\n",
    "chunks_df[\"eq_to_prev\"] = chunks_df[\"chunk_size\"] == chunks_df[\"prev_size\"]\n",
    "chunks_df.head(3)"
   ]
  },
  {
   "cell_type": "code",
   "execution_count": null,
   "id": "ec7c421b-9fbf-41bb-b15e-ad68ad488fe2",
   "metadata": {},
   "outputs": [],
   "source": []
  },
  {
   "cell_type": "code",
   "execution_count": 14,
   "id": "01546ecd-278b-49e2-a6b9-61dcd0df1511",
   "metadata": {},
   "outputs": [
    {
     "name": "stdout",
     "output_type": "stream",
     "text": [
      "balance: 10000\n",
      "rand_rate: 0.9\n",
      "chunks number: 8\n",
      "prob of taking one chunk: 0.125\n",
      "0.787 chunks won't be the same as a previous chunk size\n"
     ]
    }
   ],
   "source": [
    "rand_rate1 = drop_amt1.chunks[\"rand_rate\"]\n",
    "\n",
    "# Берем лимиты под генерацию массива чанков, в зависимости от\n",
    "# полученной дропом суммы\n",
    "small = drop_amt1.chunks[\"rcvd_small\"]\n",
    "medium = drop_amt1.chunks[\"rcvd_medium\"] \n",
    "large = drop_amt1.chunks[\"rcvd_large\"]\n",
    "\n",
    "if drop_amt1.balance <= small[\"limit\"]:\n",
    "    low = small[\"min\"]\n",
    "    high = min(drop_amt1.balance, small[\"max\"])\n",
    "\n",
    "elif drop_amt1.balance <= medium[\"limit\"]:\n",
    "    low = medium[\"min\"]\n",
    "    high = min(drop_amt1.balance, medium[\"max\"])\n",
    "\n",
    "else:\n",
    "    low = large[\"min\"]\n",
    "    high = min(drop_amt1.balance, large[\"max\"])\n",
    "    \n",
    "step = drop_amt1.chunks[\"step\"]\n",
    "chunks_num = np.arange(start=low, stop=high + step, step=step).shape[0]\n",
    "one_chunk_p = 1 / chunks_num\n",
    "print(f\"\"\"balance: {drop_amt1.balance}\n",
    "rand_rate: {rand_rate1}\n",
    "chunks number: {chunks_num}\n",
    "prob of taking one chunk: {one_chunk_p:.3f}\n",
    "{rand_rate1 - (rand_rate1 * one_chunk_p):.3f} chunks won't be the same as a previous chunk size\"\"\")"
   ]
  },
  {
   "cell_type": "code",
   "execution_count": 11,
   "id": "b76eef62-6cdf-4b59-821b-f0303de8d04f",
   "metadata": {},
   "outputs": [
    {
     "data": {
      "text/plain": [
       "eq_to_prev\n",
       "False    0.908\n",
       "True     0.092\n",
       "Name: proportion, dtype: float64"
      ]
     },
     "execution_count": 11,
     "metadata": {},
     "output_type": "execute_result"
    }
   ],
   "source": [
    "chunks_df.eq_to_prev.value_counts(normalize=True)"
   ]
  },
  {
   "cell_type": "code",
   "execution_count": 12,
   "id": "03834b58-08b2-4f90-a880-813c0e851ff4",
   "metadata": {},
   "outputs": [
    {
     "data": {
      "text/plain": [
       "min    18000.0\n",
       "max    41900.0\n",
       "Name: chunk_size, dtype: float64"
      ]
     },
     "execution_count": 12,
     "metadata": {},
     "output_type": "execute_result"
    }
   ],
   "source": [
    "chunks_df.chunk_size.agg([\"min\",\"max\"])"
   ]
  },
  {
   "cell_type": "markdown",
   "id": "ca8bc950-e0b3-4783-a704-38122ff84d56",
   "metadata": {},
   "source": [
    "**Тест `reduce_amt`**"
   ]
  },
  {
   "cell_type": "code",
   "execution_count": 13,
   "id": "a64b1a47-13e1-4810-bd05-c2d5adafaa5e",
   "metadata": {},
   "outputs": [
    {
     "name": "stdout",
     "output_type": "stream",
     "text": [
      "manual:  2500.0\n"
     ]
    },
    {
     "data": {
      "text/plain": [
       "5000.0"
      ]
     },
     "execution_count": 13,
     "metadata": {},
     "output_type": "execute_result"
    }
   ],
   "source": [
    "drop_amt1.balance = 10000\n",
    "drop_amt1.first_decl = 10000\n",
    "drop_amt1.last_amt = 7500\n",
    "print(\"manual: \", drop_amt1.first_decl * drop_amt1.reduce_share)\n",
    "drop_amt1.reduce_amt(online=True)"
   ]
  },
  {
   "cell_type": "markdown",
   "id": "d16b5c2d-e547-4b2d-814c-73264cb15527",
   "metadata": {},
   "source": [
    "**тест `one_operation`**"
   ]
  },
  {
   "cell_type": "code",
   "execution_count": null,
   "id": "98209ffb-37b7-489b-882d-41bbc4b2f13f",
   "metadata": {},
   "outputs": [],
   "source": [
    "# chunks: # Настройки создания суммы, для распределения полученных денег по частям\n",
    "# atm_min: 10000 # Минимальная сумма для снятий в банкомате.\n",
    "# atm_share: 0.5 # Доля от баланса, которую дроп снимает в случае снятия в банкомате\n",
    "# step: 1000 # Шаг возможных сумм. Чем меньше шаг, тем больше вариантов.\n",
    "# rand_rate: 0.9 # В скольких случаях размер суммы должен быть семплирован, а не взят размер предыдущей транзакции\n",
    "# rcvd_small: # Категория полученной дропом суммы\n",
    "#   limit: 10000 # Категория все что \"до\" включительно\n",
    "#   min: 3000 # # Минимальная сумма чанка для этой категории\n",
    "#   max: 10000 # Максимальная сумма чанка для этой категории\n",
    "# rcvd_medium:\n",
    "#   limit: 30000\n",
    "#   min: 5000\n",
    "#   max: 25000\n",
    "# rcvd_large: # порог не прописываем, т.к. это все что выше medium\n",
    "#   min: 10000\n",
    "#   max: 40000"
   ]
  },
  {
   "cell_type": "code",
   "execution_count": 14,
   "id": "34df5c07-d51f-407b-afcc-28ba773d1dec",
   "metadata": {},
   "outputs": [],
   "source": [
    "small = drop_amt1.chunks[\"rcvd_small\"]\n",
    "medium = drop_amt1.chunks[\"rcvd_medium\"] \n",
    "large = drop_amt1.chunks[\"rcvd_large\"]"
   ]
  },
  {
   "cell_type": "markdown",
   "id": "7993afe4-0908-47ef-87e6-556c3e3c457c",
   "metadata": {},
   "source": [
    "**Ниже ячейка для кейсов:**\n",
    "- Не отклонена. Онлайн. Частями. Small\n",
    "- Не отклонена. Онлайн. Частями. Medium\n",
    "- Не отклонена. Онлайн. Частями. Large\n",
    "\n",
    "- `min_lim` всегда стоит `min_lim = small[\"min\"]` т.к. баланс уменьшается и могут срабатывать условия для `small`, `medium`\n",
    "- `drop_amt1.balance` для large ставить как `medium[\"limit\"] + число` т.к. у large нет своего лимита, используется все что выше `medium[\"limit\"]`"
   ]
  },
  {
   "cell_type": "code",
   "execution_count": 18,
   "id": "e843aa7c-ac73-4cc6-84fe-84eac4f4a1c5",
   "metadata": {},
   "outputs": [],
   "source": [
    "i = 0\n",
    "min_lim = small[\"min\"]\n",
    "max_lim = large[\"max\"]\n",
    "\n",
    "while i < 1000:\n",
    "    drop_amt1.reset_cache()\n",
    "    drop_amt1.balance = medium[\"max\"] + 30000\n",
    "\n",
    "    all_ops = []\n",
    "    \n",
    "    while drop_amt1.balance > 0:\n",
    "        one_op1 = drop_amt1.one_operation(online=True, declined=False, in_chunks=True)\n",
    "        all_ops.append(one_op1)\n",
    "        i += 1\n",
    "    all_ops_ser = pd.Series(all_ops)\n",
    "    # для минимального берем серию без последнего элемента. Т.к. там обычно уже остаток, а не чанк\n",
    "    if all_ops_ser.shape[0] == 1:\n",
    "        assert all_ops_ser.min() >= min_lim, \\\n",
    "                            f\"Min is lower than min limit. {all_ops_ser.min()}\"\n",
    "    else:\n",
    "        assert all_ops_ser.iloc[0:(all_ops_ser.shape[0] - 1)].min() >= min_lim, \\\n",
    "                            f\"Min is lower than min limit. {all_ops_ser.iloc[0:(all_ops_ser.shape[0] - 1)].min()}\"\n",
    "        \n",
    "    assert all_ops_ser.max() <= max_lim, \"Max is higher than min limit.\""
   ]
  },
  {
   "cell_type": "code",
   "execution_count": 19,
   "id": "e212e6dc-6b4e-4833-91de-ef4926c55eda",
   "metadata": {},
   "outputs": [
    {
     "data": {
      "text/plain": [
       "0    14000\n",
       "1    12000\n",
       "2    21000\n",
       "3     6000\n",
       "4     2000\n",
       "dtype: int64"
      ]
     },
     "execution_count": 19,
     "metadata": {},
     "output_type": "execute_result"
    }
   ],
   "source": [
    "all_ops_ser"
   ]
  },
  {
   "cell_type": "code",
   "execution_count": 20,
   "id": "f3f93354-a51b-4a58-9691-eefcc07d1b86",
   "metadata": {},
   "outputs": [],
   "source": [
    "atm_min = drop_amt1.chunks[\"atm_min\"]"
   ]
  },
  {
   "cell_type": "code",
   "execution_count": 21,
   "id": "aecf5121-7cf4-4cbf-a115-452ec81188ae",
   "metadata": {},
   "outputs": [
    {
     "name": "stdout",
     "output_type": "stream",
     "text": [
      "10000\n"
     ]
    },
    {
     "data": {
      "text/plain": [
       "0    10000\n",
       "dtype: int64"
      ]
     },
     "execution_count": 21,
     "metadata": {},
     "output_type": "execute_result"
    }
   ],
   "source": [
    "drop_amt1.reset_cache()\n",
    "drop_amt1.balance = atm_min\n",
    "print(drop_amt1.balance)\n",
    "all_ops2 = []\n",
    "\n",
    "while drop_amt1.balance > 0:\n",
    "    one_op2 = drop_amt1.one_operation(online=False, declined=False, in_chunks=True)\n",
    "    all_ops2.append(one_op2)\n",
    "all_ops_ser = pd.Series(all_ops2)\n",
    "all_ops_ser"
   ]
  },
  {
   "cell_type": "code",
   "execution_count": null,
   "id": "81b30394-d44e-4c72-b568-da4a8af55dd8",
   "metadata": {},
   "outputs": [],
   "source": []
  },
  {
   "cell_type": "markdown",
   "id": "0598055e-bf37-492b-9107-6afb651fa2b9",
   "metadata": {},
   "source": [
    "**Тест отклоненных транзакций. Онлайн/оффлайн**"
   ]
  },
  {
   "cell_type": "code",
   "execution_count": 22,
   "id": "14379e69-35b8-4c1d-b507-92ba9ee8fb39",
   "metadata": {},
   "outputs": [
    {
     "data": {
      "text/plain": [
       "10000"
      ]
     },
     "execution_count": 22,
     "metadata": {},
     "output_type": "execute_result"
    }
   ],
   "source": [
    "drop_amt1.chunks[\"atm_min\"]"
   ]
  },
  {
   "cell_type": "code",
   "execution_count": 23,
   "id": "fef049d4-eb3e-4de0-b49f-c5bb4d0c8232",
   "metadata": {},
   "outputs": [
    {
     "name": "stdout",
     "output_type": "stream",
     "text": [
      "47000\n",
      "47000 \n",
      " [26900.0, 20200.0, 13500.0, 10000, 10000, 10000, 10000, 10000, 10000, 10000]\n"
     ]
    }
   ],
   "source": [
    "drop_amt1.reset_cache(life_end=True)\n",
    "drop_amt1.balance = atm_min + 37000\n",
    "print(drop_amt1.balance)\n",
    "one_op_list1 = []\n",
    "while True:\n",
    "    # print(drop_amt1.first_decl)\n",
    "    one_op1 = drop_amt1.one_operation(online=False, declined=True, in_chunks=True)\n",
    "    \n",
    "    one_op_list1.append(one_op1)\n",
    "    if len(one_op_list1) == 10:\n",
    "        break\n",
    "print(drop_amt1.balance, \"\\n\", one_op_list1)"
   ]
  },
  {
   "cell_type": "code",
   "execution_count": 24,
   "id": "540b97e3-dcb5-44fb-911e-835866877160",
   "metadata": {},
   "outputs": [
    {
     "data": {
      "text/plain": [
       "0     26900.0\n",
       "1     20200.0\n",
       "2     13500.0\n",
       "3      6800.0\n",
       "4       100.0\n",
       "5     -6600.0\n",
       "6    -13300.0\n",
       "7    -20000.0\n",
       "8    -26700.0\n",
       "9    -33400.0\n",
       "10   -40100.0\n",
       "Name: amt, dtype: float64"
      ]
     },
     "execution_count": 24,
     "metadata": {},
     "output_type": "execute_result"
    }
   ],
   "source": [
    "cum_sub_df = pd.DataFrame()\n",
    "cum_sub_df[\"amt\"] = np.arange(0, 11, step=1)\n",
    "cum_sub_df[\"amt\"] = - (26900 * 0.25 // 100 * 100)\n",
    "cum_sub_df.loc[0, \"amt\"] = 26900\n",
    "cum_sub_df.amt.cumsum()"
   ]
  },
  {
   "cell_type": "markdown",
   "id": "01b32401-cd2e-45b8-abb0-6be9fb68197c",
   "metadata": {},
   "source": [
    "## Класс `DropTimeHandler`\n",
    "- управление временем транзакций дропа"
   ]
  },
  {
   "cell_type": "code",
   "execution_count": 238,
   "id": "dc2c6b55-46b0-4709-83af-9d89727ed534",
   "metadata": {},
   "outputs": [],
   "source": [
    "# <------------------------- ГОТОВЫЙ КЛАСС ВСТАВИТЬ--------------------------"
   ]
  },
  {
   "cell_type": "markdown",
   "id": "ae1c5eff-2fd0-4b61-b3f7-ca4efe527087",
   "metadata": {},
   "source": [
    "**Тест `DropTimeHandler`**"
   ]
  },
  {
   "cell_type": "code",
   "execution_count": 1,
   "id": "a39e3035-6a12-465a-b29b-9f6056403cc2",
   "metadata": {},
   "outputs": [],
   "source": [
    "# Временный импорт\n",
    "import os\n",
    "import yaml\n",
    "import pandas as pd\n",
    "import numpy as np\n",
    "os.chdir(\"..\")\n",
    "\n",
    "# Общие настройки\n",
    "with open(\"./config/base.yaml\") as f:\n",
    "    base_cfg = yaml.safe_load(f)\n",
    "# Настройки фрода\n",
    "with open(\"./config/fraud.yaml\") as f:\n",
    "    fraud_cfg = yaml.safe_load(f)\n",
    "# Настройки фрода для дропов\n",
    "with open(\"./config/drops.yaml\", encoding=\"utf8\") as f:\n",
    "    drops_cfg = yaml.safe_load(f)\n",
    "# Настройки времени\n",
    "with open(\"./config/time.yaml\") as f:\n",
    "    time_cfg = yaml.safe_load(f)"
   ]
  },
  {
   "cell_type": "code",
   "execution_count": 2,
   "id": "a48fdfb8-849e-43cc-8946-82a8d4ca09cc",
   "metadata": {},
   "outputs": [],
   "source": [
    "# Временный reload для разработки\n",
    "# import data_generator.fraud.drops.base\n",
    "# import data_generator.indev\n",
    "# import data_generator.configs\n",
    "\n",
    "# importlib.reload(data_generator.indev)\n",
    "# importlib.reload(data_generator.configs)\n",
    "# importlib.reload(data_generator.fraud.drops.base)\n",
    "\n",
    "\n",
    "# from data_generator.configs import DropDistributorCfg\n",
    "from data_generator.indev import DropConfigBuilder\n",
    "from data_generator.fraud.drops.time import DropTimeHandler\n",
    "from data_generator.general_time import *\n",
    "\n",
    "drop_cfg_build = DropConfigBuilder(base_cfg=base_cfg, fraud_cfg=fraud_cfg, drop_cfg=drops_cfg)\n",
    "# config2 = drop_cfg_build.build_dist_cfg()\n",
    "config2 = drop_cfg_build.build_purch_cfg()\n",
    "drop_time_hanler1 = DropTimeHandler(configs=config2)"
   ]
  },
  {
   "cell_type": "code",
   "execution_count": 3,
   "id": "d3327057-d362-4750-971f-bb1f4b14462c",
   "metadata": {},
   "outputs": [
    {
     "data": {
      "text/plain": [
       "(np.float64(-7.073), np.int64(-180), np.int64(180))"
      ]
     },
     "execution_count": 3,
     "metadata": {},
     "output_type": "execute_result"
    }
   ],
   "source": [
    "two_way_deltas1 = pd.Series([drop_time_hanler1.get_time_delta(two_way=True) for _ in range(1000)])\n",
    "two_way_deltas1.mean(), two_way_deltas1.min(), two_way_deltas1.max()"
   ]
  },
  {
   "cell_type": "code",
   "execution_count": 4,
   "id": "27e24fa9-0ccf-4b39-9eb5-69603a4b5ce8",
   "metadata": {},
   "outputs": [
    {
     "data": {
      "text/plain": [
       "(np.float64(106.413), np.int64(30), np.int64(180))"
      ]
     },
     "execution_count": 4,
     "metadata": {},
     "output_type": "execute_result"
    }
   ],
   "source": [
    "pos_deltas1 = pd.Series([drop_time_hanler1.get_time_delta(two_way=False) for _ in range(1000)])\n",
    "pos_deltas1.mean(), pos_deltas1.min(), pos_deltas1.max()"
   ]
  },
  {
   "cell_type": "code",
   "execution_count": 5,
   "id": "5f19815d-ad42-457a-a2b4-a63f2d3e0fc6",
   "metadata": {},
   "outputs": [],
   "source": [
    "for _ in range(3):\n",
    "    drop_time_hanler1.txns_count(receive=True, reset=False)\n",
    "    drop_time_hanler1.txns_count(receive=False, reset=False)"
   ]
  },
  {
   "cell_type": "code",
   "execution_count": 6,
   "id": "8628076f-56b6-4711-b979-e81b950a1cc9",
   "metadata": {},
   "outputs": [
    {
     "data": {
      "text/plain": [
       "(3, 3)"
      ]
     },
     "execution_count": 6,
     "metadata": {},
     "output_type": "execute_result"
    }
   ],
   "source": [
    "drop_time_hanler1.in_txns, drop_time_hanler1.out_txns"
   ]
  },
  {
   "cell_type": "code",
   "execution_count": 7,
   "id": "00a85d47-c78f-4917-9b49-97f899593376",
   "metadata": {},
   "outputs": [
    {
     "data": {
      "text/plain": [
       "(1, 0)"
      ]
     },
     "execution_count": 7,
     "metadata": {},
     "output_type": "execute_result"
    }
   ],
   "source": [
    "drop_time_hanler1.txns_count(receive=True, reset=True)\n",
    "drop_time_hanler1.in_txns, drop_time_hanler1.out_txns"
   ]
  },
  {
   "cell_type": "code",
   "execution_count": 8,
   "id": "271649e5-e6a1-44f5-9ff5-582a64839dbc",
   "metadata": {},
   "outputs": [
    {
     "data": {
      "text/plain": [
       "(1, 0)"
      ]
     },
     "execution_count": 8,
     "metadata": {},
     "output_type": "execute_result"
    }
   ],
   "source": [
    "drop_time_hanler1.in_txns = 2\n",
    "drop_time_hanler1.out_txns = 4\n",
    "drop_time_hanler1.txns_count(receive=True, reset=True)\n",
    "drop_time_hanler1.in_txns, drop_time_hanler1.out_txns"
   ]
  },
  {
   "cell_type": "markdown",
   "id": "c454f686-d69e-4f26-9605-384e5091eba8",
   "metadata": {},
   "source": [
    "**`DropTimeHandler.get_txn_time` тест**  \n",
    "Тест-кейсы\n",
    "- Если это самая первая транзакция. Т.к. активность дропа начинается с входящей транзакции\n",
    "- Не первая транзакция и достигнут лимит входящих транзакций для периода активности\n",
    "- Не первая транзакция и достигнут лимит исходящих транзакций для периода активности\n",
    "- Не первая транзакция. Лимиты не достигнуты. Транзакция входящая\n",
    "- Не первая транзакция. Лимиты не достигнуты. Транзакция исходящая "
   ]
  },
  {
   "cell_type": "code",
   "execution_count": 3,
   "id": "d818372d-c1ba-4b54-bd3c-ce026bc33a60",
   "metadata": {},
   "outputs": [
    {
     "data": {
      "text/plain": [
       "(Timestamp('2025-07-02 11:15:00'), 1751454900)"
      ]
     },
     "execution_count": 3,
     "metadata": {},
     "output_type": "execute_result"
    }
   ],
   "source": [
    "start_time = pd.to_datetime(\"2025-07-02 11:15:00\", format=\"%Y-%m-%d %H:%M:%S\")\n",
    "start_unix = pd_timestamp_to_unix(start_time)\n",
    "start_time, start_unix"
   ]
  },
  {
   "cell_type": "code",
   "execution_count": 4,
   "id": "ad52a6f7-e9fc-4faf-a38f-eabb87e35b1c",
   "metadata": {},
   "outputs": [
    {
     "data": {
      "text/plain": [
       "(Timestamp('2025-07-02 18:31:00'), 1751481060)"
      ]
     },
     "execution_count": 4,
     "metadata": {},
     "output_type": "execute_result"
    }
   ],
   "source": [
    "last_time = pd.to_datetime(\"2025-07-02 18:31:00\", format=\"%Y-%m-%d %H:%M:%S\")\n",
    "last_unix = pd_timestamp_to_unix(last_time)\n",
    "last_time, last_unix"
   ]
  },
  {
   "cell_type": "markdown",
   "id": "67bef8d8-836d-486c-a763-5d2d620ed828",
   "metadata": {},
   "source": [
    "1. Если это самая первая транзакция. Т.к. активность дропа начинается с входящей транзакции"
   ]
  },
  {
   "cell_type": "code",
   "execution_count": 5,
   "id": "ebccedc6-5bab-468e-9dbb-45a114d2e1cd",
   "metadata": {},
   "outputs": [
    {
     "data": {
      "text/plain": [
       "(Timestamp('2025-01-10 06:37:00'), np.int64(1736491020))"
      ]
     },
     "execution_count": 5,
     "metadata": {},
     "output_type": "execute_result"
    }
   ],
   "source": [
    "drop_time_hanler1.reset_cache()\n",
    "drop_time_hanler1.in_txns = 0\n",
    "drop_time_hanler1.out_txns = 0\n",
    "droptime1, dropunix1 = drop_time_hanler1.get_txn_time(receive=True, in_txns=0)\n",
    "droptime1, dropunix1"
   ]
  },
  {
   "cell_type": "code",
   "execution_count": 6,
   "id": "564130ce-813a-4c43-b555-979db8f810c9",
   "metadata": {},
   "outputs": [
    {
     "data": {
      "text/plain": [
       "(np.int64(1736491020), 1, 0)"
      ]
     },
     "execution_count": 6,
     "metadata": {},
     "output_type": "execute_result"
    }
   ],
   "source": [
    "drop_time_hanler1.last_unix, drop_time_hanler1.in_txns, drop_time_hanler1.out_txns"
   ]
  },
  {
   "cell_type": "markdown",
   "id": "31270c48-64c3-4273-b013-0208fe0630b7",
   "metadata": {},
   "source": [
    "2. Не первая транзакция и достигнут лимит входящих транзакций для периода активности\n",
    "- текущая входящая - receive=True\n",
    "- текущая исходящая - receive=False"
   ]
  },
  {
   "cell_type": "code",
   "execution_count": 7,
   "id": "c195724b-2c37-498b-9076-e6b009312d7e",
   "metadata": {},
   "outputs": [
    {
     "data": {
      "text/plain": [
       "(Timestamp('2025-07-02 11:15:00'), Timestamp('2025-07-02 18:31:00'))"
      ]
     },
     "execution_count": 7,
     "metadata": {},
     "output_type": "execute_result"
    }
   ],
   "source": [
    "start_time, last_time"
   ]
  },
  {
   "cell_type": "code",
   "execution_count": 8,
   "id": "fb5364fc-d761-457c-80bd-5a2026a33e0d",
   "metadata": {},
   "outputs": [
    {
     "data": {
      "text/plain": [
       "(Timestamp('2025-07-03 12:32:00'),\n",
       " 1751545920,\n",
       " Timestamp('2025-07-03 12:32:00'))"
      ]
     },
     "execution_count": 8,
     "metadata": {},
     "output_type": "execute_result"
    }
   ],
   "source": [
    "drop_time_hanler1.reset_cache()\n",
    "drop_time_hanler1.in_txns = drop_time_hanler1.in_lim\n",
    "drop_time_hanler1.out_txns = drop_time_hanler1.out_lim - 1\n",
    "drop_time_hanler1.start_unix = start_unix\n",
    "drop_time_hanler1.last_unix = last_unix\n",
    "droptime2, dropunix2 = drop_time_hanler1.get_txn_time(receive=True, in_txns=drop_time_hanler1.in_lim * 2)\n",
    "droptime_start2 = pd.to_datetime(drop_time_hanler1.start_unix, unit=\"s\")\n",
    "droptime2, dropunix2, droptime_start2"
   ]
  },
  {
   "cell_type": "code",
   "execution_count": 9,
   "id": "0fe1c2aa-6b57-4844-99b0-18188794d85e",
   "metadata": {},
   "outputs": [
    {
     "data": {
      "text/plain": [
       "(1, 0, 1751545920, 1751545920)"
      ]
     },
     "execution_count": 9,
     "metadata": {},
     "output_type": "execute_result"
    }
   ],
   "source": [
    "drop_time_hanler1.in_txns, drop_time_hanler1.out_txns, drop_time_hanler1.start_unix, drop_time_hanler1.last_unix"
   ]
  },
  {
   "cell_type": "code",
   "execution_count": 10,
   "id": "ce7b9f7d-aac4-42b7-a26f-a3ef6088a1d7",
   "metadata": {},
   "outputs": [
    {
     "data": {
      "text/plain": [
       "Timedelta('1 days 01:17:00')"
      ]
     },
     "execution_count": 10,
     "metadata": {},
     "output_type": "execute_result"
    }
   ],
   "source": [
    "droptime2 - start_time"
   ]
  },
  {
   "cell_type": "markdown",
   "id": "5264006e-428d-4ad6-8a4d-4f7f5418a540",
   "metadata": {},
   "source": [
    "3. Не первая транзакция и достигнут лимит исходящих транзакций для периода активности  \n",
    "- текущая входящая - receive=True\n",
    "- текущая исходящая - receive=False"
   ]
  },
  {
   "cell_type": "code",
   "execution_count": 11,
   "id": "9bf03dcf-a687-4998-afeb-1cf0a2f56de4",
   "metadata": {},
   "outputs": [
    {
     "data": {
      "text/plain": [
       "(Timestamp('2025-07-03 09:13:00'),\n",
       " 1751533980,\n",
       " Timestamp('2025-07-03 09:13:00'))"
      ]
     },
     "execution_count": 11,
     "metadata": {},
     "output_type": "execute_result"
    }
   ],
   "source": [
    "drop_time_hanler1.reset_cache()\n",
    "drop_time_hanler1.in_txns = drop_time_hanler1.in_lim - 1\n",
    "drop_time_hanler1.out_txns = drop_time_hanler1.out_lim\n",
    "drop_time_hanler1.start_unix = start_unix\n",
    "drop_time_hanler1.last_unix = last_unix\n",
    "droptime3, dropunix3 = drop_time_hanler1.get_txn_time(receive=False, in_txns=drop_time_hanler1.in_lim * 2)\n",
    "droptime_start3 = pd.to_datetime(drop_time_hanler1.start_unix, unit=\"s\")\n",
    "droptime3, dropunix3, droptime_start3"
   ]
  },
  {
   "cell_type": "code",
   "execution_count": 12,
   "id": "1f00d42d-24a0-4a06-b9c1-00b5e2305643",
   "metadata": {},
   "outputs": [
    {
     "data": {
      "text/plain": [
       "(0, 1, 1751533980, 1751533980)"
      ]
     },
     "execution_count": 12,
     "metadata": {},
     "output_type": "execute_result"
    }
   ],
   "source": [
    "drop_time_hanler1.in_txns, drop_time_hanler1.out_txns, drop_time_hanler1.start_unix, drop_time_hanler1.last_unix"
   ]
  },
  {
   "cell_type": "code",
   "execution_count": 13,
   "id": "74c164c1-1a49-4cee-9105-7afe585abfa3",
   "metadata": {},
   "outputs": [
    {
     "data": {
      "text/plain": [
       "Timedelta('0 days 21:58:00')"
      ]
     },
     "execution_count": 13,
     "metadata": {},
     "output_type": "execute_result"
    }
   ],
   "source": [
    "droptime3 - start_time"
   ]
  },
  {
   "cell_type": "markdown",
   "id": "00fe4740-de68-48ac-9706-a7f5471be2f4",
   "metadata": {},
   "source": [
    "4. Не первая транзакция. Лимиты не достигнуты. Транзакция **входящая**"
   ]
  },
  {
   "cell_type": "code",
   "execution_count": 14,
   "id": "26a0fdc3-e38c-4619-86bb-7e7dc223787b",
   "metadata": {},
   "outputs": [
    {
     "name": "stdout",
     "output_type": "stream",
     "text": [
      "In txns: 1 \n",
      "Out txns: 4\n"
     ]
    },
    {
     "data": {
      "text/plain": [
       "(Timestamp('2025-07-02 20:34:00'),\n",
       " 1751488440,\n",
       " Timestamp('2025-07-02 11:15:00'))"
      ]
     },
     "execution_count": 14,
     "metadata": {},
     "output_type": "execute_result"
    }
   ],
   "source": [
    "drop_time_hanler1.reset_cache()\n",
    "drop_time_hanler1.in_txns = drop_time_hanler1.in_lim - 1\n",
    "drop_time_hanler1.out_txns = drop_time_hanler1.out_lim - 1\n",
    "print(f\"In txns: {drop_time_hanler1.in_txns} \\nOut txns: {drop_time_hanler1.out_txns}\")\n",
    "drop_time_hanler1.start_unix = start_unix\n",
    "drop_time_hanler1.last_unix = last_unix\n",
    "droptime4, dropunix4 = drop_time_hanler1.get_txn_time(receive=True, in_txns=drop_time_hanler1.in_lim * 2)\n",
    "droptime_start4 = pd.to_datetime(drop_time_hanler1.start_unix, unit=\"s\")\n",
    "droptime4, dropunix4, droptime_start4"
   ]
  },
  {
   "cell_type": "code",
   "execution_count": 15,
   "id": "ca43c06d-2a6a-4cf2-8ac5-80b5ca082da8",
   "metadata": {},
   "outputs": [
    {
     "data": {
      "text/plain": [
       "(2, 4, 1751454900, 1751488440)"
      ]
     },
     "execution_count": 15,
     "metadata": {},
     "output_type": "execute_result"
    }
   ],
   "source": [
    "drop_time_hanler1.in_txns, drop_time_hanler1.out_txns, drop_time_hanler1.start_unix, drop_time_hanler1.last_unix"
   ]
  },
  {
   "cell_type": "code",
   "execution_count": 16,
   "id": "5e6666e0-b60c-4860-a378-837ec92b3c28",
   "metadata": {},
   "outputs": [
    {
     "data": {
      "text/plain": [
       "Timedelta('0 days 02:03:00')"
      ]
     },
     "execution_count": 16,
     "metadata": {},
     "output_type": "execute_result"
    }
   ],
   "source": [
    "droptime4 - last_time"
   ]
  },
  {
   "cell_type": "markdown",
   "id": "e6abc38d-0d55-4f2a-b822-8b1e497bcfc5",
   "metadata": {},
   "source": [
    "5. Не первая транзакция. Лимиты не достигнуты. Транзакция **исходящая**"
   ]
  },
  {
   "cell_type": "code",
   "execution_count": 17,
   "id": "44136497-097d-4707-9a8f-38db7656b47e",
   "metadata": {},
   "outputs": [
    {
     "name": "stdout",
     "output_type": "stream",
     "text": [
      "In txns: 1 \n",
      "Out txns: 4\n"
     ]
    },
    {
     "data": {
      "text/plain": [
       "(Timestamp('2025-07-02 19:59:00'),\n",
       " 1751486340,\n",
       " Timestamp('2025-07-02 11:15:00'))"
      ]
     },
     "execution_count": 17,
     "metadata": {},
     "output_type": "execute_result"
    }
   ],
   "source": [
    "drop_time_hanler1.reset_cache()\n",
    "drop_time_hanler1.in_txns = drop_time_hanler1.in_lim - 1\n",
    "drop_time_hanler1.out_txns = drop_time_hanler1.out_lim - 1\n",
    "print(f\"In txns: {drop_time_hanler1.in_txns} \\nOut txns: {drop_time_hanler1.out_txns}\")\n",
    "drop_time_hanler1.start_unix = start_unix\n",
    "drop_time_hanler1.last_unix = last_unix\n",
    "droptime5, dropunix5 = drop_time_hanler1.get_txn_time(receive=False, in_txns=drop_time_hanler1.in_lim * 2)\n",
    "droptime_start5 = pd.to_datetime(drop_time_hanler1.start_unix, unit=\"s\")\n",
    "droptime5, dropunix5, droptime_start5"
   ]
  },
  {
   "cell_type": "code",
   "execution_count": 18,
   "id": "76ea2951-e019-4814-8564-2ea06e5b6756",
   "metadata": {},
   "outputs": [
    {
     "data": {
      "text/plain": [
       "(1, 5, 1751454900, 1751486340)"
      ]
     },
     "execution_count": 18,
     "metadata": {},
     "output_type": "execute_result"
    }
   ],
   "source": [
    "drop_time_hanler1.in_txns, drop_time_hanler1.out_txns, drop_time_hanler1.start_unix, drop_time_hanler1.last_unix"
   ]
  },
  {
   "cell_type": "code",
   "execution_count": 19,
   "id": "3b0de2c1-1781-4c89-9bd2-62193d4816d4",
   "metadata": {},
   "outputs": [
    {
     "data": {
      "text/plain": [
       "Timedelta('0 days 01:28:00')"
      ]
     },
     "execution_count": 19,
     "metadata": {},
     "output_type": "execute_result"
    }
   ],
   "source": [
    "droptime5 - last_time"
   ]
  },
  {
   "cell_type": "markdown",
   "id": "4b379dde-5eb9-4135-b411-0a213481b847",
   "metadata": {},
   "source": [
    "## Класс `DistBehaviorHandler`  \n",
    "Управление поведением дропов распределителей"
   ]
  },
  {
   "cell_type": "code",
   "execution_count": null,
   "id": "3d21db9d-c7e8-449a-b55d-3a9ef458a11f",
   "metadata": {},
   "outputs": [],
   "source": [
    "# ---------------------------- ВСТАВИТЬ КЛАСС ----------------------------------"
   ]
  },
  {
   "cell_type": "markdown",
   "id": "44ea56ff-4ab8-4167-854e-dc03c980c3f3",
   "metadata": {},
   "source": [
    "**Тест DistBehaviorHandler**"
   ]
  },
  {
   "cell_type": "code",
   "execution_count": 1,
   "id": "5b0c25ba-d6b7-436d-a78e-07ec52cc7e78",
   "metadata": {},
   "outputs": [],
   "source": [
    "# Временный импорт\n",
    "import os\n",
    "import yaml\n",
    "import pandas as pd\n",
    "import numpy as np\n",
    "os.chdir(\"..\")\n",
    "\n",
    "# Общие настройки\n",
    "with open(\"./config/base.yaml\") as f:\n",
    "    base_cfg = yaml.safe_load(f)\n",
    "# Настройки фрода\n",
    "with open(\"./config/fraud.yaml\") as f:\n",
    "    fraud_cfg = yaml.safe_load(f)\n",
    "# Настройки фрода для дропов\n",
    "with open(\"./config/drops.yaml\", encoding=\"utf8\") as f:\n",
    "    drops_cfg = yaml.safe_load(f)\n",
    "# Настройки времени\n",
    "with open(\"./config/time.yaml\") as f:\n",
    "    time_cfg = yaml.safe_load(f)"
   ]
  },
  {
   "cell_type": "code",
   "execution_count": 3,
   "id": "e95ac0c2-d599-4912-80a3-c7a1846469b6",
   "metadata": {},
   "outputs": [],
   "source": [
    "# import data_generator.fraud.drops.behavior\n",
    "# import data_generator.indev\n",
    "# import data_generator.configs\n",
    "\n",
    "# importlib.reload(data_generator.indev)\n",
    "# importlib.reload(data_generator.configs)\n",
    "# importlib.reload(data_generator.fraud.drops.behavior)\n",
    "\n",
    "from data_generator.indev import DropConfigBuilder\n",
    "# from data_generator.configs import DropDistributorCfg\n",
    "from data_generator.fraud.drops.behavior import DistBehaviorHandler\n",
    "from data_generator.fraud.drops.base import DropAmountHandler\n",
    "\n",
    "drop_cfg_build = DropConfigBuilder(base_cfg=base_cfg, fraud_cfg=fraud_cfg, drop_cfg=drops_cfg)\n",
    "config3 = drop_cfg_build.build_dist_cfg()\n",
    "drop_amt1 = DropAmountHandler(configs=config3)\n",
    "dist_behav1 = DistBehaviorHandler(configs=config3, amt_hand=drop_amt1)"
   ]
  },
  {
   "cell_type": "markdown",
   "id": "c5a80071-84b9-4159-a4bd-dc03999e82e1",
   "metadata": {},
   "source": [
    "**`sample_scenario`**"
   ]
  },
  {
   "cell_type": "markdown",
   "id": "8895651e-c8f7-4d15-bcf8-a26d7bb501d6",
   "metadata": {},
   "source": [
    "`split_rate` = 0.7  \n",
    "Тест `large_balance`: баланс больше чем `DistBehaviorHandler.trf_max`"
   ]
  },
  {
   "cell_type": "code",
   "execution_count": 1242,
   "id": "8e99f5c3-de2e-4bba-8371-8e619ed0d134",
   "metadata": {},
   "outputs": [
    {
     "name": "stdout",
     "output_type": "stream",
     "text": [
      "atm+transfer prob: 0.35\n",
      "split_transfer prob: 0.35\n",
      "atm prob: 0.300\n"
     ]
    }
   ],
   "source": [
    "# Вероятности сценариев для large_balance\n",
    "split_rate = 0.7\n",
    "p_atm_and_trf = split_rate * 0.5\n",
    "p_split_trf = split_rate * 0.5\n",
    "p_atm = 1 - split_rate\n",
    "print(f\"\"\"atm+transfer prob: {p_atm_and_trf}\n",
    "split_transfer prob: {p_split_trf}\n",
    "atm prob: {p_atm:.3f}\"\"\")\n",
    "assert sum([p_atm_and_trf, p_split_trf, p_atm]) == 1"
   ]
  },
  {
   "cell_type": "code",
   "execution_count": 4,
   "id": "a7a46fff-d8e9-4110-8cdc-7ab8b5fc918f",
   "metadata": {},
   "outputs": [],
   "source": [
    "all_scens1 = []\n",
    "i = 0\n",
    "while i < 2000:\n",
    "    drop_amt1.reset_cache()\n",
    "    drop_amt1.balance = dist_behav1.trf_max + 1000\n",
    "    assert drop_amt1.balance > dist_behav1.trf_max, \"Balance is below trf_max\"\n",
    "    dist_behav1.sample_scenario()\n",
    "    # print(dist_behav1.scen)\n",
    "    all_scens1.append(dist_behav1.scen)\n",
    "    i += 1\n",
    "all_scens_ser1 = pd.Series(all_scens1)"
   ]
  },
  {
   "cell_type": "code",
   "execution_count": 5,
   "id": "d0c05bf1-c440-4709-8805-d0408042372c",
   "metadata": {},
   "outputs": [
    {
     "data": {
      "text/plain": [
       "split_transfer    0.3775\n",
       "atm+transfer      0.3270\n",
       "atm               0.2955\n",
       "Name: proportion, dtype: float64"
      ]
     },
     "execution_count": 5,
     "metadata": {},
     "output_type": "execute_result"
    }
   ],
   "source": [
    "all_scens_ser1.value_counts(normalize=True)"
   ]
  },
  {
   "cell_type": "markdown",
   "id": "1bfb33a7-3532-4732-aed8-8a3bb8b96b92",
   "metadata": {},
   "source": [
    "`split_rate` = 0.7  \n",
    "Тест `atm_eligible`: баланс больше чем `DistBehaviorHandler.atm_min`, но меньше чем `DistBehaviorHandler.trf_max`"
   ]
  },
  {
   "cell_type": "code",
   "execution_count": 1245,
   "id": "debc25e6-05c5-4e93-9f09-f6a776437289",
   "metadata": {},
   "outputs": [
    {
     "name": "stdout",
     "output_type": "stream",
     "text": [
      "atm+transfer prob: 0.35\n",
      "split_transfer prob: 0.35\n",
      "transfer prob: 0.15\n",
      "atm prob: 0.15\n"
     ]
    }
   ],
   "source": [
    "# Вероятности сценариев для atm_eligible\n",
    "split_rate = 0.7\n",
    "p_atm_and_trf = split_rate * 0.5\n",
    "p_split_trf = split_rate * 0.5\n",
    "p_trf = (1 - split_rate) * 0.5\n",
    "p_atm = (1 - split_rate) * 0.5\n",
    "print(f\"\"\"atm+transfer prob: {p_atm_and_trf}\n",
    "split_transfer prob: {p_split_trf}\n",
    "transfer prob: {round(p_trf, 3)}\n",
    "atm prob: {round(p_atm, 3)}\"\"\")\n",
    "assert sum([p_atm_and_trf, p_split_trf, p_trf, p_atm]) == 1"
   ]
  },
  {
   "cell_type": "code",
   "execution_count": 6,
   "id": "f304ac7e-282f-407d-a8c8-207917c12253",
   "metadata": {},
   "outputs": [],
   "source": [
    "all_scens2 = []\n",
    "i = 0\n",
    "while i < 2000:\n",
    "    drop_amt1.reset_cache()\n",
    "    drop_amt1.balance = dist_behav1.atm_min + 1000\n",
    "    assert drop_amt1.balance < dist_behav1.trf_max, \"Balance exceeds trf_max\"\n",
    "    dist_behav1.sample_scenario()\n",
    "    all_scens2.append(dist_behav1.scen)\n",
    "    i += 1\n",
    "all_scens_ser2 = pd.Series(all_scens2)"
   ]
  },
  {
   "cell_type": "code",
   "execution_count": 7,
   "id": "10057d4f-ba5b-47c7-a7cc-cb1c11a56466",
   "metadata": {},
   "outputs": [
    {
     "data": {
      "text/plain": [
       "atm+transfer      0.3455\n",
       "split_transfer    0.3420\n",
       "atm               0.1610\n",
       "transfer          0.1515\n",
       "Name: proportion, dtype: float64"
      ]
     },
     "execution_count": 7,
     "metadata": {},
     "output_type": "execute_result"
    }
   ],
   "source": [
    "all_scens_ser2.value_counts(normalize=True)"
   ]
  },
  {
   "cell_type": "markdown",
   "id": "809d027e-849c-412a-a24d-d9473a8dda58",
   "metadata": {},
   "source": [
    "`split_rate` = 0.7  \n",
    "Тест `split_eligible`: баланс больше чем `DistBehaviorHandler.trf_min * 2`,  \n",
    "но меньше чем `DistBehaviorHandler.atm_min` и `DistBehaviorHandler.trf_max`"
   ]
  },
  {
   "cell_type": "code",
   "execution_count": 8,
   "id": "df2988cb-726f-47dd-aa5f-3b3c362af396",
   "metadata": {},
   "outputs": [
    {
     "name": "stdout",
     "output_type": "stream",
     "text": [
      "split_transfer prob: 0.7\n",
      "transfer prob: 0.3\n"
     ]
    }
   ],
   "source": [
    "# Вероятности сценариев для split_eligible\n",
    "split_rate = 0.7\n",
    "p_split_trf = split_rate\n",
    "p_trf = 1 - split_rate\n",
    "print(f\"\"\"split_transfer prob: {p_split_trf}\n",
    "transfer prob: {round(p_trf, 3)}\"\"\")\n",
    "assert sum([p_split_trf, p_trf]) == 1"
   ]
  },
  {
   "cell_type": "code",
   "execution_count": 9,
   "id": "8c7c92d5-8b2d-41bb-adda-732e7bf28d7f",
   "metadata": {},
   "outputs": [],
   "source": [
    "all_scens3 = []\n",
    "i = 0\n",
    "while i < 3000:\n",
    "    drop_amt1.reset_cache()\n",
    "    drop_amt1.balance = dist_behav1.trf_min * 2\n",
    "    assert drop_amt1.balance < dist_behav1.atm_min, \"Balance exceeds atm_min\"\n",
    "    assert drop_amt1.balance < dist_behav1.trf_max, \"Balance exceeds trf_max\"\n",
    "    dist_behav1.sample_scenario()\n",
    "    all_scens3.append(dist_behav1.scen)\n",
    "    i += 1\n",
    "all_scens_ser3 = pd.Series(all_scens3)"
   ]
  },
  {
   "cell_type": "code",
   "execution_count": 10,
   "id": "f3e3965a-c6bf-4ab4-a001-14177f73521a",
   "metadata": {},
   "outputs": [
    {
     "data": {
      "text/plain": [
       "split_transfer    0.692333\n",
       "transfer          0.307667\n",
       "Name: proportion, dtype: float64"
      ]
     },
     "execution_count": 10,
     "metadata": {},
     "output_type": "execute_result"
    }
   ],
   "source": [
    "all_scens_ser3.value_counts(normalize=True)"
   ]
  },
  {
   "cell_type": "markdown",
   "id": "ed5e8365-39c8-4e9c-a711-226932025020",
   "metadata": {},
   "source": [
    "`split_rate` = 0.7  \n",
    "Остальные случаи. баланс меньше чем `DistBehaviorHandler.trf_min * 2`"
   ]
  },
  {
   "cell_type": "code",
   "execution_count": 1251,
   "id": "597d79b2-808c-4e71-8d8a-dcfb22aa3b9b",
   "metadata": {},
   "outputs": [],
   "source": [
    "all_scens4 = []\n",
    "i = 0\n",
    "while i < 3000:\n",
    "    drop_amt1.reset_cache()\n",
    "    drop_amt1.balance = dist_behav1.trf_min + 1000\n",
    "    assert drop_amt1.balance < dist_behav1.trf_min * 2, \"Balance exceeds the limit\"\n",
    "    dist_behav1.sample_scenario()\n",
    "    all_scens4.append(dist_behav1.scen)\n",
    "    i += 1\n",
    "all_scens_ser4 = pd.Series(all_scens4)"
   ]
  },
  {
   "cell_type": "code",
   "execution_count": 1252,
   "id": "004804fb-725a-49ea-856c-7cf1fddc532e",
   "metadata": {},
   "outputs": [
    {
     "data": {
      "text/plain": [
       "transfer    1.0\n",
       "Name: proportion, dtype: float64"
      ]
     },
     "execution_count": 1252,
     "metadata": {},
     "output_type": "execute_result"
    }
   ],
   "source": [
    "all_scens_ser4.value_counts(normalize=True)"
   ]
  },
  {
   "cell_type": "markdown",
   "id": "6b126e57-ca51-4fba-b8b6-b72896c2376f",
   "metadata": {},
   "source": [
    "**`in_chunks_val`**"
   ]
  },
  {
   "cell_type": "code",
   "execution_count": 1253,
   "id": "851b9f8a-7db1-4896-b5b2-dfbe2f5df957",
   "metadata": {},
   "outputs": [
    {
     "data": {
      "text/plain": [
       "True"
      ]
     },
     "execution_count": 1253,
     "metadata": {},
     "output_type": "execute_result"
    }
   ],
   "source": [
    "# Список сценариев\n",
    "# \"transfer\"\n",
    "# \"atm\"\n",
    "# \"atm+transfer\"\n",
    "# \"split_transfer\"\n",
    "\n",
    "dist_behav1.scen = \"split_transfer\"\n",
    "dist_behav1.in_chunks_val()\n",
    "dist_behav1.in_chunks"
   ]
  },
  {
   "cell_type": "markdown",
   "id": "649f888e-55c3-427f-9ea9-1b3a1ad5d99e",
   "metadata": {},
   "source": [
    "**`guide_scenario`**"
   ]
  },
  {
   "cell_type": "code",
   "execution_count": 1256,
   "id": "96c1ad17-cfb6-48be-be99-529bbecdab1a",
   "metadata": {},
   "outputs": [
    {
     "data": {
      "text/plain": [
       "True"
      ]
     },
     "execution_count": 1256,
     "metadata": {},
     "output_type": "execute_result"
    }
   ],
   "source": [
    "# Список сценариев\n",
    "# \"atm+transfer\"\n",
    "# \"atm\"\n",
    "# \"split_transfer\"\n",
    "# \"transfer\"\n",
    "\n",
    "dist_behav1.scen = \"transfer\"\n",
    "dist_behav1.guide_scenario()\n",
    "dist_behav1.online"
   ]
  },
  {
   "cell_type": "markdown",
   "id": "f6e2bb23-8c0a-4974-846a-6c99e1e63786",
   "metadata": {},
   "source": [
    "**`to_drop`**"
   ]
  },
  {
   "cell_type": "code",
   "execution_count": 1257,
   "id": "442e0749-5acc-45b4-929c-afbcd719b7bd",
   "metadata": {},
   "outputs": [
    {
     "name": "stdout",
     "output_type": "stream",
     "text": [
      "0.1\n"
     ]
    },
    {
     "data": {
      "text/plain": [
       "False    0.92\n",
       "True     0.08\n",
       "Name: proportion, dtype: float64"
      ]
     },
     "execution_count": 1257,
     "metadata": {},
     "output_type": "execute_result"
    }
   ],
   "source": [
    "print(dist_behav1.to_drop_rate)\n",
    "to_drop_list1 = []\n",
    "for _ in range(100):\n",
    "    to_drop_list1.append(dist_behav1.to_drop)\n",
    "to_drop_ser1 = pd.Series(to_drop_list1)\n",
    "to_drop_ser1.value_counts(normalize=True)"
   ]
  },
  {
   "cell_type": "markdown",
   "id": "bd27291e-c47a-4e1a-b832-d1527c2e325d",
   "metadata": {},
   "source": [
    "**`to_crypto`**"
   ]
  },
  {
   "cell_type": "code",
   "execution_count": 1258,
   "id": "d4185f2d-1865-4d07-9a6a-c08054d3bc4d",
   "metadata": {},
   "outputs": [
    {
     "name": "stdout",
     "output_type": "stream",
     "text": [
      "0.1\n"
     ]
    },
    {
     "data": {
      "text/plain": [
       "False    0.91\n",
       "True     0.09\n",
       "Name: proportion, dtype: float64"
      ]
     },
     "execution_count": 1258,
     "metadata": {},
     "output_type": "execute_result"
    }
   ],
   "source": [
    "dist_behav1.online = True\n",
    "print(dist_behav1.crypto_rate)\n",
    "to_drop_list2 = []\n",
    "\n",
    "for _ in range(100):\n",
    "    to_drop_list2.append(dist_behav1.to_drop)\n",
    "to_drop_ser2 = pd.Series(to_drop_list2)\n",
    "to_drop_ser2.value_counts(normalize=True)"
   ]
  },
  {
   "cell_type": "markdown",
   "id": "715e86be-6310-4d8c-a56b-d2a3dc4a2a2c",
   "metadata": {},
   "source": [
    "**`stop_after_decline`**"
   ]
  },
  {
   "cell_type": "code",
   "execution_count": 424,
   "id": "cdc58a09-76fd-4ccd-b4f7-2f726795a254",
   "metadata": {},
   "outputs": [
    {
     "data": {
      "text/plain": [
       "False"
      ]
     },
     "execution_count": 424,
     "metadata": {},
     "output_type": "execute_result"
    }
   ],
   "source": [
    "dist_behav1.attempts = 2\n",
    "dist_behav1.stop_after_decline(declined=True)"
   ]
  },
  {
   "cell_type": "markdown",
   "id": "c60ac3d1-203b-46bc-ac48-2994782aca63",
   "metadata": {},
   "source": [
    "**`reset_cache`**"
   ]
  },
  {
   "cell_type": "code",
   "execution_count": 1261,
   "id": "446904f2-b8b7-4af2-9bf4-5913858a4b0e",
   "metadata": {},
   "outputs": [
    {
     "data": {
      "text/plain": [
       "(0, None, None, None)"
      ]
     },
     "execution_count": 1261,
     "metadata": {},
     "output_type": "execute_result"
    }
   ],
   "source": [
    "dist_behav1.attempts = 3\n",
    "dist_behav1.scen = \"atm\"\n",
    "dist_behav1.online = True\n",
    "dist_behav1.in_chunks = False\n",
    "dist_behav1.reset_cache(all=True)\n",
    "dist_behav1.attempts, dist_behav1.scen, dist_behav1.online, dist_behav1.in_chunks"
   ]
  },
  {
   "cell_type": "markdown",
   "id": "64eaa02a-cd2d-4085-bbe8-41895303f9fe",
   "metadata": {},
   "source": [
    "**`attempts_after_decline`**  \n",
    "self.online = True, self.online = False"
   ]
  },
  {
   "cell_type": "code",
   "execution_count": 1264,
   "id": "945e52a8-c2aa-4d75-91af-664e64750921",
   "metadata": {},
   "outputs": [],
   "source": [
    "att_vals1 = []\n",
    "dist_behav1.online = True\n",
    "\n",
    "for _ in range(100):\n",
    "    dist_behav1.attempts_after_decline(declined=True)\n",
    "    att_vals1.append(dist_behav1.attempts)\n",
    "att_vals_ser1 = pd.Series(att_vals1)"
   ]
  },
  {
   "cell_type": "code",
   "execution_count": 1265,
   "id": "1f64eb20-fdfc-4ce2-99e3-0b2d0bc27f0d",
   "metadata": {},
   "outputs": [
    {
     "data": {
      "text/plain": [
       "min     0.00\n",
       "mean    1.94\n",
       "max     4.00\n",
       "dtype: float64"
      ]
     },
     "execution_count": 1265,
     "metadata": {},
     "output_type": "execute_result"
    }
   ],
   "source": [
    "att_vals_ser1.agg([\"min\",\"mean\", \"max\"])"
   ]
  },
  {
   "cell_type": "markdown",
   "id": "01de4895-2e77-4dde-b828-2b0edfb25a38",
   "metadata": {},
   "source": [
    "**`deduct_attempts`**"
   ]
  },
  {
   "cell_type": "code",
   "execution_count": 434,
   "id": "0beb0051-77be-4e00-a988-58f36de4211f",
   "metadata": {},
   "outputs": [
    {
     "data": {
      "text/plain": [
       "1"
      ]
     },
     "execution_count": 434,
     "metadata": {},
     "output_type": "execute_result"
    }
   ],
   "source": [
    "dist_behav1.attempts = 1\n",
    "dist_behav1.deduct_attempts(declined=True, receive=True)\n",
    "dist_behav1.attempts"
   ]
  },
  {
   "cell_type": "code",
   "execution_count": null,
   "id": "e32f2079-a46f-412c-b7c2-f2f547ea090f",
   "metadata": {},
   "outputs": [],
   "source": []
  },
  {
   "cell_type": "markdown",
   "id": "ed3be713-8ed6-42e7-943c-9dae25068e4f",
   "metadata": {},
   "source": [
    "**Расчет вероятностей сценариев в `DistBehaviorHandler`**"
   ]
  },
  {
   "cell_type": "code",
   "execution_count": null,
   "id": "1904efc4-7530-4ca5-bb54-669de7af8128",
   "metadata": {},
   "outputs": [],
   "source": [
    "# inbound_amt: \n",
    "#   low: 5000\n",
    "#   high: 100000\n",
    "#   mean: 30000\n",
    "#   std: 20000"
   ]
  },
  {
   "cell_type": "code",
   "execution_count": 308,
   "id": "1c81ad41-a44f-4d83-a0af-9d360c65513c",
   "metadata": {},
   "outputs": [],
   "source": [
    "# Баланс генерируется из обрезанного нормального распределения\n",
    "in_low1 = 5000\n",
    "in_high1 = 100000\n",
    "mean1 = 30000\n",
    "std1 = 20000\n",
    "a1 = (in_low1 - mean1) / std1\n",
    "b1 = (in_high1 - mean1) / std1\n",
    "\n",
    "split_rate = 0.7\n",
    "# Есть лимиты для сумм операций\n",
    "atm_min1 = 10000 # минимальная сумма для снятия. Частями или целиком определяется split_rate\n",
    "trf_lim = 40000 # максимальная сумма для перевода. Если больше - дробим на части\n",
    "trf_min = 3000*2 # минимальная сумма для перевода по частям. Если меньше - переводим целиком"
   ]
  },
  {
   "cell_type": "code",
   "execution_count": 309,
   "id": "7f23c923-6b11-428d-b20b-3a73893e6027",
   "metadata": {},
   "outputs": [
    {
     "data": {
      "text/plain": [
       "np.float64(0.345)"
      ]
     },
     "execution_count": 309,
     "metadata": {},
     "output_type": "execute_result"
    }
   ],
   "source": [
    "# вероятность что сумма будет больше trf_lim\n",
    "p_trf_lim = round(truncnorm(a=a1, b=b1, loc=mean1, scale=std1).sf(x=trf_lim), 3)\n",
    "p_trf_lim"
   ]
  },
  {
   "cell_type": "code",
   "execution_count": 310,
   "id": "04e15ce3-d049-4603-9a4e-ae3b7c875cb0",
   "metadata": {},
   "outputs": [
    {
     "data": {
      "text/plain": [
       "np.float64(0.596)"
      ]
     },
     "execution_count": 310,
     "metadata": {},
     "output_type": "execute_result"
    }
   ],
   "source": [
    "# Вероятность что сумма больше atm_min1 но меньше trf_lim\n",
    "p_atm_min = round(truncnorm(a=a1, b=b1, loc=mean1, scale=std1).sf(x=atm_min1) - p_trf_lim, 3)\n",
    "p_atm_min"
   ]
  },
  {
   "cell_type": "code",
   "execution_count": 311,
   "id": "e5b4c9d7-005d-455b-83c6-6bb998da5f38",
   "metadata": {},
   "outputs": [
    {
     "data": {
      "text/plain": [
       "np.float64(0.048)"
      ]
     },
     "execution_count": 311,
     "metadata": {},
     "output_type": "execute_result"
    }
   ],
   "source": [
    "# вероятность что сумма больше trf_min, но меньше trf_lim и atm_min1\n",
    "p_trf_min = round(truncnorm(a=a1, b=b1, loc=mean1, scale=std1).sf(x=trf_min) - p_trf_lim - p_atm_min, 3)\n",
    "p_trf_min"
   ]
  },
  {
   "cell_type": "code",
   "execution_count": 312,
   "id": "2f43a7d9-7b1a-4f11-801a-f64d043a1bf1",
   "metadata": {},
   "outputs": [
    {
     "data": {
      "text/plain": [
       "np.float64(0.6922999999999999)"
      ]
     },
     "execution_count": 312,
     "metadata": {},
     "output_type": "execute_result"
    }
   ],
   "source": [
    "split_rate = 0.7 # доля когда будем переводить частями\n",
    "\n",
    "(p_trf_lim + p_atm_min + p_trf_min) * split_rate"
   ]
  },
  {
   "cell_type": "code",
   "execution_count": 313,
   "id": "f4ed2841-b79d-4cfa-8bdc-e19bfca5cd9c",
   "metadata": {},
   "outputs": [
    {
     "data": {
      "text/plain": [
       "np.float64(0.6922999999999999)"
      ]
     },
     "execution_count": 313,
     "metadata": {},
     "output_type": "execute_result"
    }
   ],
   "source": [
    "round(truncnorm(a=a1, b=b1, loc=mean1, scale=std1).sf(x=trf_min), 3) * split_rate"
   ]
  },
  {
   "cell_type": "code",
   "execution_count": 315,
   "id": "e21aebcb-f010-443a-baba-26662b40ca19",
   "metadata": {},
   "outputs": [
    {
     "data": {
      "text/plain": [
       "np.float64(0.552)"
      ]
     },
     "execution_count": 315,
     "metadata": {},
     "output_type": "execute_result"
    }
   ],
   "source": [
    "\n",
    "# conditions = [\n",
    "#             (balance > self.trf_lim, [\"atm\",\"split_transfer\", \"atm+transfer\"]),\n",
    "#             (balance >= self.atm_min, [\"transfer\", \"atm\", \"split_transfer\", \"atm+transfer\"]),\n",
    "#             (balance >= self.trf_min * 2, [\"transfer\",\"split_transfer\"]),\n",
    "#             \"transfer\",\n",
    "#         ]\n",
    "# Вероятность случаев перевода частями если по условиям выше (синтаксически неправильно) и без split_rate\n",
    "p_trf_lim * 2/3 + p_atm_min * 1/2 + p_trf_min * 1/2"
   ]
  },
  {
   "cell_type": "code",
   "execution_count": 645,
   "id": "5d497ac0-6ba7-41b5-b3c1-40b347ffaa8b",
   "metadata": {},
   "outputs": [
    {
     "data": {
      "text/plain": [
       "np.float64(0.1015)"
      ]
     },
     "execution_count": 645,
     "metadata": {},
     "output_type": "execute_result"
    }
   ],
   "source": [
    "\n",
    "# conditions = [\n",
    "#             (balance > self.trf_lim, [\"atm\",\"split_transfer\", \"atm+transfer\"]),\n",
    "#             (balance >= self.atm_min, [\"transfer\", \"atm\", \"split_transfer\", \"atm+transfer\"]),\n",
    "#             (balance >= self.trf_min * 2, [\"transfer\",\"split_transfer\"]),\n",
    "#             \"transfer\",\n",
    "#         ]\n",
    "# Вероятность случаев перевода в крипту по условиям выше (синтаксически неправильно)\n",
    "crypto_rate = 0.14\n",
    "(p_trf_lim * 2/3 + p_atm_min * 3/4 + p_trf_min) * crypto_rate"
   ]
  },
  {
   "cell_type": "markdown",
   "id": "096f5dcf-6f90-4e92-97ee-8b6eed4aacd8",
   "metadata": {},
   "source": [
    "## Класс `PurchBehaviorHandler`  \n",
    "- Управление поведением дропа покупателя"
   ]
  },
  {
   "cell_type": "code",
   "execution_count": null,
   "id": "6749d681-63e9-46fa-a416-4f9444c08688",
   "metadata": {},
   "outputs": [],
   "source": [
    "# -------------------------- ВСТАВИТЬ ГОТОВЫЙ КЛАСС --------------------------"
   ]
  },
  {
   "cell_type": "markdown",
   "id": "aec57089-b72f-46c6-80fa-8c8aa8681ff7",
   "metadata": {},
   "source": [
    "**Тест `PurchBehaviorHandler`**"
   ]
  },
  {
   "cell_type": "code",
   "execution_count": 1,
   "id": "8ae5a990-6b0c-44e7-af2f-c58d20c1ceaa",
   "metadata": {},
   "outputs": [],
   "source": [
    "# Временный импорт\n",
    "import os\n",
    "import yaml\n",
    "import pandas as pd\n",
    "import numpy as np\n",
    "os.chdir(\"..\")\n",
    "\n",
    "# Общие настройки\n",
    "with open(\"./config/base.yaml\") as f:\n",
    "    base_cfg = yaml.safe_load(f)\n",
    "# Настройки фрода\n",
    "with open(\"./config/fraud.yaml\") as f:\n",
    "    fraud_cfg = yaml.safe_load(f)\n",
    "# Настройки фрода для дропов\n",
    "with open(\"./config/drops.yaml\", encoding=\"utf8\") as f:\n",
    "    drops_cfg = yaml.safe_load(f)\n",
    "# Настройки времени\n",
    "with open(\"./config/time.yaml\") as f:\n",
    "    time_cfg = yaml.safe_load(f)"
   ]
  },
  {
   "cell_type": "code",
   "execution_count": 2,
   "id": "e191ca7d-e560-40bc-8075-30281d3647f5",
   "metadata": {},
   "outputs": [],
   "source": [
    "from data_generator.indev import DropConfigBuilder\n",
    "from data_generator.fraud.drops.behavior import PurchBehaviorHandler\n",
    "from data_generator.fraud.drops.base import DropAmountHandler\n",
    "\n",
    "drop_cfg_build = DropConfigBuilder(base_cfg=base_cfg, fraud_cfg=fraud_cfg, drop_cfg=drops_cfg)\n",
    "configs = drop_cfg_build.build_purch_cfg()\n",
    "drop_amt1 = DropAmountHandler(configs=configs)\n",
    "purch_behav1 = PurchBehaviorHandler(configs=configs, amt_hand=drop_amt1)"
   ]
  },
  {
   "cell_type": "markdown",
   "id": "20fe5d48-a04c-4ef1-9d80-b5e7108ea2f7",
   "metadata": {},
   "source": [
    "`split_rate` = 0.7  \n",
    "Тест `large_balance`: баланс больше чем amt_max"
   ]
  },
  {
   "cell_type": "code",
   "execution_count": 3,
   "id": "aba854bf-bf2d-4e8c-a41c-2492daab3f6d",
   "metadata": {},
   "outputs": [
    {
     "data": {
      "text/plain": [
       "split_money    1.0\n",
       "Name: proportion, dtype: float64"
      ]
     },
     "execution_count": 3,
     "metadata": {},
     "output_type": "execute_result"
    }
   ],
   "source": [
    "all_scens1 = []\n",
    "i = 0\n",
    "while i < 2000:\n",
    "    drop_amt1.reset_cache()\n",
    "    drop_amt1.balance = purch_behav1.amt_max + 1000\n",
    "    assert drop_amt1.balance > purch_behav1.amt_max, \"Balance is below amt_max\"\n",
    "    purch_behav1.sample_scenario()\n",
    "    # print(purch_behav1.scen)\n",
    "    all_scens1.append(purch_behav1.scen)\n",
    "    i += 1\n",
    "all_scens_ser1 = pd.Series(all_scens1)\n",
    "\n",
    "all_scens_ser1.value_counts(normalize=True)"
   ]
  },
  {
   "cell_type": "markdown",
   "id": "e3f36c5a-d021-4331-b10c-f00f4bf2e9f0",
   "metadata": {},
   "source": [
    "`split_rate` = 0.7  \n",
    "Тест `split_eligible`: баланс больше чем `self.amt_min * 2`,  \n",
    "но меньше чем `self.amt_max`"
   ]
  },
  {
   "cell_type": "code",
   "execution_count": 5,
   "id": "a0289228-d4b5-441c-8289-e3e2b6eb49c9",
   "metadata": {},
   "outputs": [
    {
     "name": "stdout",
     "output_type": "stream",
     "text": [
      "split_money prob: 0.7\n",
      "one_purchase prob: 0.3\n"
     ]
    }
   ],
   "source": [
    "# Вероятности сценариев для split_eligible\n",
    "split_rate = 0.7\n",
    "p_split = split_rate\n",
    "p_one = 1 - split_rate\n",
    "print(f\"\"\"split_money prob: {p_split}\n",
    "one_purchase prob: {round(p_one, 3)}\"\"\")\n",
    "assert sum([p_split, p_one]) == 1"
   ]
  },
  {
   "cell_type": "code",
   "execution_count": 6,
   "id": "803e08c3-d1a3-4c6a-bdb8-4cc554d9be9d",
   "metadata": {},
   "outputs": [
    {
     "data": {
      "text/plain": [
       "split_money     0.697333\n",
       "one_purchase    0.302667\n",
       "Name: proportion, dtype: float64"
      ]
     },
     "execution_count": 6,
     "metadata": {},
     "output_type": "execute_result"
    }
   ],
   "source": [
    "all_scens3 = []\n",
    "i = 0\n",
    "while i < 3000:\n",
    "    drop_amt1.reset_cache()\n",
    "    drop_amt1.balance = purch_behav1.amt_min * 2\n",
    "    assert drop_amt1.balance < purch_behav1.amt_max, \"Balance exceeds amt_max\"\n",
    "    purch_behav1.sample_scenario()\n",
    "    all_scens3.append(purch_behav1.scen)\n",
    "    i += 1\n",
    "all_scens_ser3 = pd.Series(all_scens3)\n",
    "\n",
    "all_scens_ser3.value_counts(normalize=True)"
   ]
  },
  {
   "cell_type": "markdown",
   "id": "8e8f3bee-2dce-45cd-b67b-ffd5f76a9b32",
   "metadata": {},
   "source": [
    "`split_rate` = 0.7  \n",
    "баланс меньше чем `amt_min * 2`"
   ]
  },
  {
   "cell_type": "code",
   "execution_count": 8,
   "id": "9edf49de-561f-46a9-93ae-49edcab35655",
   "metadata": {},
   "outputs": [
    {
     "data": {
      "text/plain": [
       "one_purchase    1.0\n",
       "Name: proportion, dtype: float64"
      ]
     },
     "execution_count": 8,
     "metadata": {},
     "output_type": "execute_result"
    }
   ],
   "source": [
    "all_scens4 = []\n",
    "i = 0\n",
    "while i < 3000:\n",
    "    drop_amt1.reset_cache()\n",
    "    drop_amt1.balance = purch_behav1.amt_min + 1000\n",
    "    assert drop_amt1.balance < purch_behav1.amt_min * 2, \"Balance exceeds the limit\"\n",
    "    purch_behav1.sample_scenario()\n",
    "    all_scens4.append(purch_behav1.scen)\n",
    "    i += 1\n",
    "all_scens_ser4 = pd.Series(all_scens4)\n",
    "\n",
    "all_scens_ser4.value_counts(normalize=True)"
   ]
  },
  {
   "cell_type": "markdown",
   "id": "1e44e9a4-b1a5-46d0-ac79-7ceb3c820ef1",
   "metadata": {},
   "source": [
    "# **`in_chunks_val`**"
   ]
  },
  {
   "cell_type": "code",
   "execution_count": 4,
   "id": "c6ba60be-ba23-4779-8a05-8e63162c032b",
   "metadata": {},
   "outputs": [
    {
     "data": {
      "text/plain": [
       "False"
      ]
     },
     "execution_count": 4,
     "metadata": {},
     "output_type": "execute_result"
    }
   ],
   "source": [
    "# Список сценариев\n",
    "# \"split_money\"\n",
    "# \"one_purchase\"\n",
    "\n",
    "purch_behav1.scen = \"one_purchase\"\n",
    "purch_behav1.in_chunks_val()\n",
    "purch_behav1.in_chunks"
   ]
  },
  {
   "cell_type": "markdown",
   "id": "5353d21d-2c8a-40a1-9cd3-b41f77460711",
   "metadata": {},
   "source": [
    "**`stop_after_decline`**"
   ]
  },
  {
   "cell_type": "code",
   "execution_count": 8,
   "id": "e6c79f65-2e5c-431b-9f49-8c5322695308",
   "metadata": {},
   "outputs": [
    {
     "data": {
      "text/plain": [
       "True"
      ]
     },
     "execution_count": 8,
     "metadata": {},
     "output_type": "execute_result"
    }
   ],
   "source": [
    "purch_behav1.attempts = 0\n",
    "purch_behav1.stop_after_decline(declined=True)"
   ]
  },
  {
   "cell_type": "markdown",
   "id": "12af8edd-63a6-428e-a9fe-f132bf8b971e",
   "metadata": {},
   "source": [
    "**`reset_cache`**"
   ]
  },
  {
   "cell_type": "code",
   "execution_count": 9,
   "id": "d096a2a4-ca5a-4b50-ab69-dcfb49d35881",
   "metadata": {},
   "outputs": [
    {
     "data": {
      "text/plain": [
       "(0, None, True, None)"
      ]
     },
     "execution_count": 9,
     "metadata": {},
     "output_type": "execute_result"
    }
   ],
   "source": [
    "purch_behav1.attempts = 3\n",
    "purch_behav1.scen = \"split_money\"\n",
    "purch_behav1.online = True\n",
    "purch_behav1.in_chunks = False\n",
    "purch_behav1.reset_cache(all=True)\n",
    "purch_behav1.attempts, purch_behav1.scen, purch_behav1.online, purch_behav1.in_chunks"
   ]
  },
  {
   "cell_type": "markdown",
   "id": "01510476-1e5a-4e56-94ad-874e8e5946ac",
   "metadata": {},
   "source": [
    "**`attempts_after_decline`**  \n",
    "declined = True/False"
   ]
  },
  {
   "cell_type": "code",
   "execution_count": 3,
   "id": "c1683e5f-800a-4553-81cd-da2b836abe83",
   "metadata": {},
   "outputs": [
    {
     "data": {
      "text/plain": [
       "min     0.00\n",
       "mean    1.87\n",
       "max     4.00\n",
       "dtype: float64"
      ]
     },
     "execution_count": 3,
     "metadata": {},
     "output_type": "execute_result"
    }
   ],
   "source": [
    "att_vals1 = []\n",
    "\n",
    "for _ in range(100):\n",
    "    purch_behav1.attempts_after_decline(declined=True)\n",
    "    att_vals1.append(purch_behav1.attempts)\n",
    "att_vals_ser1 = pd.Series(att_vals1)\n",
    "\n",
    "att_vals_ser1.agg([\"min\",\"mean\", \"max\"])"
   ]
  },
  {
   "cell_type": "markdown",
   "id": "520ce9d3-e5a0-4afd-93b6-d062224a9636",
   "metadata": {},
   "source": [
    "**`deduct_attempts`**"
   ]
  },
  {
   "cell_type": "code",
   "execution_count": 6,
   "id": "ce5f6078-4bcc-444d-8741-c9a98faf8803",
   "metadata": {},
   "outputs": [
    {
     "data": {
      "text/plain": [
       "3"
      ]
     },
     "execution_count": 6,
     "metadata": {},
     "output_type": "execute_result"
    }
   ],
   "source": [
    "purch_behav1.attempts = 4\n",
    "purch_behav1.deduct_attempts(declined=True, receive=False)\n",
    "purch_behav1.attempts"
   ]
  },
  {
   "cell_type": "code",
   "execution_count": null,
   "id": "8016d6cc-1532-47cc-aa47-0d2304264d9d",
   "metadata": {},
   "outputs": [],
   "source": []
  },
  {
   "cell_type": "code",
   "execution_count": null,
   "id": "51b3e4ef-684f-4d1c-9506-9c3977b7f952",
   "metadata": {},
   "outputs": [],
   "source": []
  },
  {
   "cell_type": "markdown",
   "id": "211ccbc6-9e4e-4195-82ea-e14b15a61949",
   "metadata": {},
   "source": [
    "## Конец информативной части"
   ]
  },
  {
   "cell_type": "markdown",
   "id": "e927ca5b-d562-413a-9750-46d20a4e1a18",
   "metadata": {},
   "source": [
    "# Старый код, функции и т.д."
   ]
  },
  {
   "cell_type": "code",
   "execution_count": null,
   "id": "1c1514a3-87af-43e0-97b9-00449c92ec7f",
   "metadata": {},
   "outputs": [],
   "source": []
  }
 ],
 "metadata": {
  "kernelspec": {
   "display_name": "Python 3 (ipykernel)",
   "language": "python",
   "name": "python3"
  },
  "language_info": {
   "codemirror_mode": {
    "name": "ipython",
    "version": 3
   },
   "file_extension": ".py",
   "mimetype": "text/x-python",
   "name": "python",
   "nbconvert_exporter": "python",
   "pygments_lexer": "ipython3",
   "version": "3.13.3"
  }
 },
 "nbformat": 4,
 "nbformat_minor": 5
}
