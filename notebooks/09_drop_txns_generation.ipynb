{
 "cells": [
  {
   "cell_type": "code",
   "execution_count": 10,
   "id": "c30e67d7-4a3c-4d29-9477-ab02b02e86fc",
   "metadata": {},
   "outputs": [],
   "source": [
    "import pandas as pd\n",
    "import numpy as np\n",
    "import matplotlib.pyplot as plt\n",
    "import seaborn as sns\n",
    "import os\n",
    "import re\n",
    "import geopandas as gpd\n",
    "import random\n",
    "from scipy.stats import truncnorm, norm\n",
    "from collections import defaultdict\n",
    "import math\n",
    "from shapely.ops import transform\n",
    "from pyproj import Geod\n",
    "import pyarrow\n",
    "from datetime import datetime\n",
    "import sys\n",
    "import importlib\n",
    "from dataclasses import dataclass\n",
    "import yaml"
   ]
  },
  {
   "cell_type": "code",
   "execution_count": 62,
   "id": "a6dc00ed-f62f-4871-8e41-47c85bc4c8a9",
   "metadata": {},
   "outputs": [],
   "source": [
    "# добавляем папку modules в sys.path, чтобы импортировать функции созданные ранее\n",
    "\n",
    "sys.path.append(os.path.abspath(os.path.join(\"..\", \"modules\")))"
   ]
  },
  {
   "cell_type": "code",
   "execution_count": 203,
   "id": "9d87e6be-bb84-44d9-9d35-924a25f2ddca",
   "metadata": {},
   "outputs": [],
   "source": [
    "# Функции генерации паттернов времени и базовые функции времени созданные ранее\n",
    "data_generator.fraud.time\n",
    "importlib.reload(data_generator.fraud.time)\n",
    "# importlib.invalidate_caches()\n",
    "from data_generator.general_time import *\n",
    "from data_generator.utils import build_transaction, ConfigForTrans\n",
    "from data_generator.fraud.txndata import FraudTransPartialData, TransAmount, sample_category\n",
    "from data_generator.fraud.time import derive_from_last_time"
   ]
  },
  {
   "cell_type": "code",
   "execution_count": null,
   "id": "23828f2a-bd6f-46f6-ab48-67e874a45a45",
   "metadata": {},
   "outputs": [],
   "source": []
  },
  {
   "cell_type": "code",
   "execution_count": 4,
   "id": "6c6c9867-8d32-4b4d-9923-2b2f5711bfc8",
   "metadata": {},
   "outputs": [],
   "source": [
    "np.set_printoptions(suppress=True)\n",
    "pd.set_option('display.max_columns', None)"
   ]
  },
  {
   "cell_type": "code",
   "execution_count": 5,
   "id": "122df125-874a-4cc5-a123-74aca56e5baf",
   "metadata": {},
   "outputs": [
    {
     "data": {
      "text/plain": [
       "'C:\\\\Users\\\\iaros\\\\My_documents\\\\Education\\\\projects\\\\fraud_detection_01\\\\notebooks'"
      ]
     },
     "execution_count": 5,
     "metadata": {},
     "output_type": "execute_result"
    }
   ],
   "source": [
    "os.getcwd()"
   ]
  },
  {
   "cell_type": "code",
   "execution_count": 6,
   "id": "71fc90ba-44d1-4bc6-b2a3-edda53a9123b",
   "metadata": {},
   "outputs": [],
   "source": [
    "os.chdir(\"..\")"
   ]
  },
  {
   "cell_type": "code",
   "execution_count": 12,
   "id": "4c92f5c7-1b75-4e1b-97a1-34a61031d901",
   "metadata": {},
   "outputs": [
    {
     "data": {
      "text/plain": [
       "'C:\\\\Users\\\\iaros\\\\My_documents\\\\Education\\\\projects\\\\fraud_detection_01'"
      ]
     },
     "execution_count": 12,
     "metadata": {},
     "output_type": "execute_result"
    }
   ],
   "source": [
    "os.getcwd()"
   ]
  },
  {
   "cell_type": "markdown",
   "id": "ecd83afb-aeee-4488-b237-366ed2c85d61",
   "metadata": {},
   "source": [
    "## Загрузка конфигураций"
   ]
  },
  {
   "cell_type": "code",
   "execution_count": 39,
   "id": "2596e557-1894-4125-a02a-517e01ff04ff",
   "metadata": {},
   "outputs": [],
   "source": [
    "# Общие настройки\n",
    "with open(\"./config/base.yaml\") as f:\n",
    "    base_cfg = yaml.safe_load(f)"
   ]
  },
  {
   "cell_type": "code",
   "execution_count": 44,
   "id": "aca0aff2-d3a9-4a6a-ae07-6b3adfea351c",
   "metadata": {},
   "outputs": [],
   "source": [
    "# Настройки фрода\n",
    "with open(\"./config/fraud.yaml\") as f:\n",
    "    fraud_cfg = yaml.safe_load(f)"
   ]
  },
  {
   "cell_type": "code",
   "execution_count": 41,
   "id": "9517dd08-ca7c-42ec-b75d-05674dba69e3",
   "metadata": {},
   "outputs": [],
   "source": [
    "# Настройки времени\n",
    "with open(\"./config/time.yaml\") as f:\n",
    "    time_cfg = yaml.safe_load(f)"
   ]
  },
  {
   "cell_type": "markdown",
   "id": "b44b5ea0-cf43-46d2-8441-a1bb4c2331b0",
   "metadata": {},
   "source": [
    "# Доп. данные для генерации фрод транзакций"
   ]
  },
  {
   "cell_type": "markdown",
   "id": "908fd76b-76e1-45a1-a001-d8d03ef4baed",
   "metadata": {},
   "source": [
    "**Загрузка данных:**\n",
    "- оффлайн мерчантов\n",
    "- онлайн мерчантов\n",
    "- девайсов клиентов и мошенников\n",
    "- городов с полигонами\n",
    "- городов с координатами центров\n",
    "- клиентов\n",
    "- фрод IP адресов\n",
    "- категорий и их характеристик"
   ]
  },
  {
   "cell_type": "code",
   "execution_count": 88,
   "id": "7602ab36-bd72-4160-8fec-753775f89880",
   "metadata": {},
   "outputs": [],
   "source": [
    "offline_merchants = gpd.read_file(\"./data/cleaned_data/offline_merchants_points.gpkg\")\n",
    "online_merchant_ids = pd.read_csv(\"./data/cleaned_data/online_merchant_ids.csv\").iloc[:, 0]\n",
    "client_devices = pd.read_csv(\"./data/cleaned_data/client_devices.csv\")\n",
    "fraud_devices = pd.read_csv(\"./data/cleaned_data/fraud_devices.csv\")\n",
    "districts_ru = gpd.read_file(\"./data/cleaned_data/district_ru.gpkg\")\n",
    "area_centers = gpd.read_file(\"./data/cleaned_data/area_centers.gpkg\")\n",
    "clients_with_geo = gpd.read_file(\"./data/cleaned_data/clients_with_geo.gpkg\") \n",
    "fraud_ips = gpd.read_file(\"./data/cleaned_data/fraud_ips.gpkg\")\n",
    "cat_stats_full = pd.read_csv(\"./data/cleaned_data/cat_stats_full.csv\")\n",
    "cat_fraud_amts = pd.read_csv(\"./data/cleaned_data/cat_fraud_amts.csv\")"
   ]
  },
  {
   "cell_type": "markdown",
   "id": "ac12ce0e-4bba-4692-a19e-9b44b69c6ff0",
   "metadata": {},
   "source": [
    "# Генерация времени"
   ]
  },
  {
   "cell_type": "markdown",
   "id": "22a206ef-4367-4265-8a7a-d71edb16f77d",
   "metadata": {},
   "source": [
    "**Датафрейм под транзакции. Этап тестов**<br>\n",
    "Создадим пустой датафрейм под транзакции. Будем копировать и использовать его при тестах функций."
   ]
  },
  {
   "cell_type": "code",
   "execution_count": 24,
   "id": "8d5babab-6645-48b9-8b65-41229b4ee162",
   "metadata": {},
   "outputs": [
    {
     "data": {
      "text/html": [
       "<div>\n",
       "<style scoped>\n",
       "    .dataframe tbody tr th:only-of-type {\n",
       "        vertical-align: middle;\n",
       "    }\n",
       "\n",
       "    .dataframe tbody tr th {\n",
       "        vertical-align: top;\n",
       "    }\n",
       "\n",
       "    .dataframe thead th {\n",
       "        text-align: right;\n",
       "    }\n",
       "</style>\n",
       "<table border=\"1\" class=\"dataframe\">\n",
       "  <thead>\n",
       "    <tr style=\"text-align: right;\">\n",
       "      <th></th>\n",
       "      <th>client_id</th>\n",
       "      <th>txn_time</th>\n",
       "      <th>unix_time</th>\n",
       "      <th>amount</th>\n",
       "      <th>type</th>\n",
       "      <th>channel</th>\n",
       "      <th>category</th>\n",
       "      <th>online</th>\n",
       "      <th>merchant_id</th>\n",
       "      <th>trans_city</th>\n",
       "      <th>trans_lat</th>\n",
       "      <th>trans_lon</th>\n",
       "      <th>trans_ip</th>\n",
       "      <th>device_id</th>\n",
       "      <th>account</th>\n",
       "      <th>is_fraud</th>\n",
       "      <th>is_suspicious</th>\n",
       "      <th>status</th>\n",
       "      <th>rule</th>\n",
       "    </tr>\n",
       "  </thead>\n",
       "  <tbody>\n",
       "  </tbody>\n",
       "</table>\n",
       "</div>"
      ],
      "text/plain": [
       "Empty DataFrame\n",
       "Columns: [client_id, txn_time, unix_time, amount, type, channel, category, online, merchant_id, trans_city, trans_lat, trans_lon, trans_ip, device_id, account, is_fraud, is_suspicious, status, rule]\n",
       "Index: []"
      ]
     },
     "execution_count": 24,
     "metadata": {},
     "output_type": "execute_result"
    }
   ],
   "source": [
    "transactions = pd.DataFrame(\n",
    "            {\"client_id\": pd.Series(dtype=\"int64\"),\n",
    "            \"txn_time\": pd.Series(dtype=\"datetime64[ns]\"),\n",
    "             \"unix_time\":pd.Series(dtype=\"int64\"),\n",
    "            \"amount\": pd.Series(dtype=\"float64\"),\n",
    "            \"type\": pd.Series(dtype=\"string\"),\n",
    "            \"channel\": pd.Series(dtype=\"string\"),\n",
    "            \"category\": pd.Series(dtype=\"string\"),\n",
    "            \"online\":pd.Series(dtype=\"bool\"),\n",
    "            \"merchant_id\":pd.Series(dtype=\"int64\"),\n",
    "             \"trans_city\":pd.Series(dtype=\"string\"),\n",
    "            \"trans_lat\":pd.Series(dtype=\"float64\"),\n",
    "             \"trans_lon\":pd.Series(dtype=\"float64\"),\n",
    "            \"trans_ip\":pd.Series(dtype=\"string\"),\n",
    "             \"device_id\":pd.Series(dtype=\"int64\"),\n",
    "             \"account\": pd.Series(dtype=\"int64\"),\n",
    "            \"is_fraud\": pd.Series(dtype=\"bool\"),\n",
    "             \"is_suspicious\": pd.Series(dtype=\"bool\"),\n",
    "            \"status\":pd.Series(dtype=\"string\"),\n",
    "            \"rule\":pd.Series(dtype=\"string\")})\n",
    "transactions"
   ]
  },
  {
   "cell_type": "markdown",
   "id": "212f66bc-3553-4948-8210-a5f7f45cf491",
   "metadata": {},
   "source": [
    "**Функция получения случайных значений из `truncnorm` распределения**\n",
    "- пойдет в модуль `utils`"
   ]
  },
  {
   "cell_type": "code",
   "execution_count": 124,
   "id": "550d6562-2464-485b-80e9-ec239ec866c1",
   "metadata": {},
   "outputs": [],
   "source": [
    "def get_values_from_truncnorm(low_bound, high_bound, mean, std, size=1):\n",
    "    \"\"\"\n",
    "    Сгенерировать массив чисел из обрезанного нормального распределения.\n",
    "    Можно сгенерировать массив с одним числом\n",
    "    ------------\n",
    "    low_bound - float, int. Нижняя граница значений\n",
    "    high_bound - float, int. Верхняя граница значений \n",
    "    mean - float, int. Среднее\n",
    "    std - float, int. Стандартное отклонение\n",
    "    size - Количество чисел в возвращаемом массиве\n",
    "    ------------\n",
    "    Возвращает np.ndarray\n",
    "    \"\"\"\n",
    "    return truncnorm.rvs((low_bound - mean) / std, (high_bound - mean) / std, loc=mean, scale=std, size=size)"
   ]
  },
  {
   "cell_type": "markdown",
   "id": "cf195bfe-ca99-4996-a311-ebfb80ea722e",
   "metadata": {},
   "source": [
    "## Подфункция генерации времени c прибавлением к времени последней транзакции `derive_from_last_time`"
   ]
  },
  {
   "cell_type": "code",
   "execution_count": 211,
   "id": "c828ba05-611c-40bb-8bf4-57eda4c1d0b4",
   "metadata": {},
   "outputs": [
    {
     "data": {
      "text/plain": [
       "1750420632"
      ]
     },
     "execution_count": 211,
     "metadata": {},
     "output_type": "execute_result"
    }
   ],
   "source": [
    "derive_last = pd_timestamp_to_unix(pd.to_datetime(\"2025-06-20 11:57:12\", format=\"%Y-%m-%d %H:%M:%S\"))\n",
    "derive_last\n",
    "# pd.to_datetime(derive_last, unit=\"s\")"
   ]
  },
  {
   "cell_type": "code",
   "execution_count": 214,
   "id": "652ea98b-2b44-4b44-b6ec-ff0d72660082",
   "metadata": {},
   "outputs": [
    {
     "data": {
      "text/plain": [
       "(Timestamp('2025-06-20 12:43:12'), 1750423392)"
      ]
     },
     "execution_count": 214,
     "metadata": {},
     "output_type": "execute_result"
    }
   ],
   "source": [
    "derive_from_last_time(last_txn_unix=derive_last, lag_interval=0, min=30, max=60, random_lag=True)"
   ]
  },
  {
   "cell_type": "markdown",
   "id": "7302b003-7e50-4387-a361-afdfdc6afc93",
   "metadata": {},
   "source": [
    "## Класс `DropConfigs`\n",
    "- конфигурации на основании которых будут генерироваться транзакции дропов"
   ]
  },
  {
   "cell_type": "code",
   "execution_count": 282,
   "id": "d25766b0-5a95-42c3-8dbb-69574a91b127",
   "metadata": {},
   "outputs": [],
   "source": [
    "@dataclass\n",
    "class DropConfigs:\n",
    "    \"\"\"\n",
    "    Это данные на основе которых будут генерироваться транзакции\n",
    "    ---------------------\n",
    "    clients: pd.DataFrame\n",
    "    timestamps: pd.DataFrame\n",
    "    transactions: pd.DataFrame\n",
    "    client_devices: pd.DataFrame\n",
    "    offline_merchants: pd.DataFrame\n",
    "    categories: pd.DataFrame\n",
    "    online_merchant_ids: pd.Series\n",
    "    time_weights_dict: dict\n",
    "    rules: pd.DataFrame\n",
    "    cities: pd.DataFrame\n",
    "    fraud_amounts: pd.DataFrame\n",
    "    period_in_lim: int. Количество входящих транзакций после которых дроп уходит на паузу.\n",
    "    period_out_lim: int. Количество исходящих транзакций после которых дроп уходит на паузу.\n",
    "    lag_interval: int. Минуты. На сколько дроп должен делать паузу после\n",
    "                       достижения лимита входящих и/или исходящих транзакций.\n",
    "                       Например 1440 минут(сутки). Отсчет идет от первой транзакции в последнем периоде активности.\n",
    "    two_way_delta: dict. Минимум и максимум дельты времени. Для случаев когда дельта может быть и положительной и отрицательной.\n",
    "                         Эта дельта прибавляется к lag_interval, чтобы рандомизировать время возобновления активности,\n",
    "                         чтобы оно не было ровным. Берется из конфига drops.yaml\n",
    "    pos_delta: dict. Минимум и максимум случайной дельты времени в минутах. Для случаев когда дельта может быть только положительной.\n",
    "                          Эта дельта - промежуток между транзакциями дропа в одном периоде. Просто прибавляется ко времени последней транзакции.\n",
    "    \"\"\"\n",
    "    clients: pd.DataFrame\n",
    "    timestamps: pd.DataFrame\n",
    "    transactions: pd.DataFrame\n",
    "    client_devices: pd.DataFrame\n",
    "    offline_merchants: pd.DataFrame\n",
    "    categories: pd.DataFrame\n",
    "    online_merchant_ids: pd.Series\n",
    "    time_weights_dict: dict\n",
    "    rules: pd.DataFrame\n",
    "    cities: pd.DataFrame\n",
    "    fraud_amounts: pd.DataFrame\n",
    "    period_in_lim: int\n",
    "    period_out_lim: int\n",
    "    lag_interval: int\n",
    "    two_way_delta: dict\n",
    "    pos_delta: dict"
   ]
  },
  {
   "cell_type": "markdown",
   "id": "d6807bb8-d463-4747-a07e-2c043865484b",
   "metadata": {},
   "source": [
    "### Создание аргументов для `DropConfigs`"
   ]
  },
  {
   "cell_type": "code",
   "execution_count": 283,
   "id": "54162d98-aa61-497a-9f86-91baa0907eed",
   "metadata": {},
   "outputs": [],
   "source": [
    "# timestamp-ы использованные еще для генерации легальных и purchase фрод транзакций\n",
    "timestamps = pd.read_parquet(\"./data/generated_data/timestamps.parquet\", engine=\"pyarrow\")"
   ]
  },
  {
   "cell_type": "code",
   "execution_count": 284,
   "id": "3ee9f416-e7c0-4bfa-8228-5380879bf788",
   "metadata": {},
   "outputs": [
    {
     "data": {
      "text/plain": [
       "{'Offline_24h_Legit': {'is_fraud': False,\n",
       "  'round_clock': True,\n",
       "  'online': False},\n",
       " 'Offline_24h_Fraud': {'is_fraud': True, 'round_clock': True, 'online': False},\n",
       " 'Online_Legit': {'is_fraud': False, 'round_clock': True, 'online': True},\n",
       " 'Online_Fraud': {'is_fraud': True, 'round_clock': True, 'online': True},\n",
       " 'Offline_Day_Legit': {'is_fraud': False,\n",
       "  'round_clock': False,\n",
       "  'online': False},\n",
       " 'Offline_Day_Fraud': {'is_fraud': True,\n",
       "  'round_clock': False,\n",
       "  'online': False}}"
      ]
     },
     "execution_count": 284,
     "metadata": {},
     "output_type": "execute_result"
    }
   ],
   "source": [
    "time_weight_args = time_cfg[\"time_weights_args\"]\n",
    "time_weight_args"
   ]
  },
  {
   "cell_type": "code",
   "execution_count": 285,
   "id": "5a9f0664-ba62-4db7-8317-96538b7703cd",
   "metadata": {},
   "outputs": [],
   "source": [
    "time_weights_dict = get_all_time_patterns(time_weight_args)"
   ]
  },
  {
   "cell_type": "markdown",
   "id": "2f932473-9b9b-4420-a515-4dff743428c7",
   "metadata": {},
   "source": [
    "**Легальные транзакции**  \n",
    "Нужно знать их количество для определения числа фрод транзакций  \n",
    "и следовательно, количества клиентов для их генерации"
   ]
  },
  {
   "cell_type": "code",
   "execution_count": 34,
   "id": "dedea0b9-5aee-40db-bb20-055d46c5f942",
   "metadata": {},
   "outputs": [],
   "source": [
    "legit_txns = pd.read_parquet(\"./data/generated_data/legit_trans_148K.parquet\", engine=\"pyarrow\")"
   ]
  },
  {
   "cell_type": "markdown",
   "id": "3eb754d0-1349-4db0-b57d-a8aef4789cca",
   "metadata": {},
   "source": [
    "**Клиенты для дроп фрода**  \n",
    "Случайно возьмем клиентов, у которых нет никаких транзакций  \n",
    "Для этого загрузим семплированных для легальных транзакций клиентов, т.е. у кого были созданы легальные транзакции.  \n",
    "У части этих клиентов также созданы purchase фрод транзакции. Всех этих клиентов надо исключить."
   ]
  },
  {
   "cell_type": "code",
   "execution_count": 29,
   "id": "7f88b9d0-d717-463e-9829-bbf6e4860da2",
   "metadata": {},
   "outputs": [],
   "source": [
    "clients_sample_df = gpd.read_file(\"./data/cleaned_data/clients_sample.gpkg\")"
   ]
  },
  {
   "cell_type": "code",
   "execution_count": 30,
   "id": "c973cadc-fb7a-41e0-a3f3-beddd4471cb6",
   "metadata": {},
   "outputs": [
    {
     "data": {
      "text/plain": [
       "(3000, 12)"
      ]
     },
     "execution_count": 30,
     "metadata": {},
     "output_type": "execute_result"
    }
   ],
   "source": [
    "clients_sample_df.shape"
   ]
  },
  {
   "cell_type": "markdown",
   "id": "14e17758-50df-45ec-a01b-0f67809b8020",
   "metadata": {},
   "source": [
    "Конфиги загружаются временно тут"
   ]
  },
  {
   "cell_type": "code",
   "execution_count": 286,
   "id": "f903ce78-5623-409c-a537-90e7569358bc",
   "metadata": {},
   "outputs": [],
   "source": [
    "# Общие настройки\n",
    "with open(\"./config/base.yaml\") as f:\n",
    "    base_cfg = yaml.safe_load(f)\n",
    "# Настройки фрода\n",
    "with open(\"./config/fraud.yaml\") as f:\n",
    "    fraud_cfg = yaml.safe_load(f)\n",
    "# Настройки фрода для дропов\n",
    "with open(\"./config/drops.yaml\", encoding=\"utf8\") as f:\n",
    "    drops_cfg = yaml.safe_load(f)\n",
    "# Настройки времени\n",
    "with open(\"./config/time.yaml\") as f:\n",
    "    time_cfg = yaml.safe_load(f)"
   ]
  },
  {
   "cell_type": "code",
   "execution_count": 287,
   "id": "1ca9e428-50d7-4a3e-a7f8-209648c37a8b",
   "metadata": {},
   "outputs": [],
   "source": [
    "# доля дроп фрода - Дропы занимающиеся переводами и снятиями; и дропы, которые покупают товары на присланные деньги\n",
    "fraud_rate = fraud_cfg[\"fraud_rate\"]\n",
    "drop_flow_share = drops_cfg[\"drop_distributor\"][\"rate\"] # доля от всего фрода\n",
    "drop_purchase_share = drops_cfg[\"drop_purchaser\"][\"rate\"] # доля от всего фрода"
   ]
  },
  {
   "cell_type": "code",
   "execution_count": 288,
   "id": "4be2e34c-bac8-400a-bfbf-0b04ee53f8ff",
   "metadata": {},
   "outputs": [],
   "source": [
    "# лимит на исходящие транзакции дропа. Нужен сейчас для вычисления количества клиентов дропов\n",
    "\n",
    "drop_out_lim = drops_cfg[\"drop_distributor\"][\"out_lim\"]"
   ]
  },
  {
   "cell_type": "code",
   "execution_count": 289,
   "id": "443dd48a-51c3-4040-ac96-a3d9b63cce82",
   "metadata": {},
   "outputs": [
    {
     "data": {
      "text/plain": [
       "56"
      ]
     },
     "execution_count": 289,
     "metadata": {},
     "output_type": "execute_result"
    }
   ],
   "source": [
    "# отсюда посчитаем количество клиентов для дроп фрода\n",
    "\n",
    "legit_count = legit_txns.shape[0]\n",
    "drop_fraud_count = round(legit_count * fraud_rate *(drop_flow_share + drop_purchase_share))\n",
    "drops_count = round(drop_fraud_count / drop_out_lim)\n",
    "drops_count"
   ]
  },
  {
   "cell_type": "code",
   "execution_count": 55,
   "id": "7ee558ad-80ac-49e2-8b42-b00f2cf10f2a",
   "metadata": {},
   "outputs": [],
   "source": [
    "# Клиенты незадействованные ранее\n",
    "\n",
    "not_used_clients = clients_with_geo.loc[~clients_with_geo.client_id.isin(clients_sample_df.client_id)].copy()"
   ]
  },
  {
   "cell_type": "code",
   "execution_count": 56,
   "id": "851f96f8-c8c8-4a15-8a70-8ed56b1d1295",
   "metadata": {},
   "outputs": [],
   "source": [
    "# семплируем drops_count клиентов\n",
    "\n",
    "clients_for_drop = not_used_clients.sample(n=drops_count).reset_index(drop=True)"
   ]
  },
  {
   "cell_type": "code",
   "execution_count": 57,
   "id": "4891e94f-7561-494f-9232-e9d7d9f4adc1",
   "metadata": {},
   "outputs": [
    {
     "data": {
      "text/html": [
       "<div>\n",
       "<style scoped>\n",
       "    .dataframe tbody tr th:only-of-type {\n",
       "        vertical-align: middle;\n",
       "    }\n",
       "\n",
       "    .dataframe tbody tr th {\n",
       "        vertical-align: top;\n",
       "    }\n",
       "\n",
       "    .dataframe thead th {\n",
       "        text-align: right;\n",
       "    }\n",
       "</style>\n",
       "<table border=\"1\" class=\"dataframe\">\n",
       "  <thead>\n",
       "    <tr style=\"text-align: right;\">\n",
       "      <th></th>\n",
       "      <th>client_id</th>\n",
       "      <th>district_id</th>\n",
       "      <th>birth_date</th>\n",
       "      <th>sex</th>\n",
       "      <th>region</th>\n",
       "      <th>area</th>\n",
       "      <th>timezone</th>\n",
       "      <th>lat</th>\n",
       "      <th>lon</th>\n",
       "      <th>population</th>\n",
       "      <th>home_ip</th>\n",
       "      <th>geometry</th>\n",
       "    </tr>\n",
       "  </thead>\n",
       "  <tbody>\n",
       "    <tr>\n",
       "      <th>0</th>\n",
       "      <td>966</td>\n",
       "      <td>13</td>\n",
       "      <td>1978-09-02</td>\n",
       "      <td>male</td>\n",
       "      <td>Краснодарский</td>\n",
       "      <td>Сочи</td>\n",
       "      <td>UTC+3</td>\n",
       "      <td>43.585583</td>\n",
       "      <td>39.723142</td>\n",
       "      <td>343285</td>\n",
       "      <td>2.60.3.149</td>\n",
       "      <td>MULTIPOLYGON (((39.14937 44.02339, 39.14982 44...</td>\n",
       "    </tr>\n",
       "    <tr>\n",
       "      <th>1</th>\n",
       "      <td>12755</td>\n",
       "      <td>55</td>\n",
       "      <td>1959-11-01</td>\n",
       "      <td>female</td>\n",
       "      <td>Самарская</td>\n",
       "      <td>Тольятти</td>\n",
       "      <td>UTC+4</td>\n",
       "      <td>53.520644</td>\n",
       "      <td>49.389461</td>\n",
       "      <td>719484</td>\n",
       "      <td>2.60.20.162</td>\n",
       "      <td>MULTIPOLYGON (((49.14714 53.55389, 49.15065 53...</td>\n",
       "    </tr>\n",
       "  </tbody>\n",
       "</table>\n",
       "</div>"
      ],
      "text/plain": [
       "   client_id  district_id  birth_date     sex         region      area  \\\n",
       "0        966           13  1978-09-02    male  Краснодарский      Сочи   \n",
       "1      12755           55  1959-11-01  female      Самарская  Тольятти   \n",
       "\n",
       "  timezone        lat        lon  population      home_ip  \\\n",
       "0    UTC+3  43.585583  39.723142      343285   2.60.3.149   \n",
       "1    UTC+4  53.520644  49.389461      719484  2.60.20.162   \n",
       "\n",
       "                                            geometry  \n",
       "0  MULTIPOLYGON (((39.14937 44.02339, 39.14982 44...  \n",
       "1  MULTIPOLYGON (((49.14714 53.55389, 49.15065 53...  "
      ]
     },
     "execution_count": 57,
     "metadata": {},
     "output_type": "execute_result"
    }
   ],
   "source": [
    "clients_for_drop.head(2)"
   ]
  },
  {
   "cell_type": "code",
   "execution_count": 58,
   "id": "c8b7fe8d-200e-491a-98d1-88dfbb8dfb06",
   "metadata": {},
   "outputs": [
    {
     "data": {
      "text/plain": [
       "(56, 12)"
      ]
     },
     "execution_count": 58,
     "metadata": {},
     "output_type": "execute_result"
    }
   ],
   "source": [
    "clients_for_drop.shape"
   ]
  },
  {
   "cell_type": "markdown",
   "id": "43312881-7ac7-4ded-a49f-bf8688993018",
   "metadata": {},
   "source": [
    "## Генерация счетов клиентов и внешних счетов"
   ]
  },
  {
   "cell_type": "markdown",
   "id": "3ba57146-6721-4213-8d33-71075353171a",
   "metadata": {},
   "source": [
    "**Счета клиентов**  \n",
    "\n",
    "Пускай начинаются с 10000"
   ]
  },
  {
   "cell_type": "code",
   "execution_count": 462,
   "id": "c78e26a7-3b69-4658-8bc1-d136a2330c4c",
   "metadata": {},
   "outputs": [],
   "source": [
    "accounts = clients_with_geo[[\"client_id\"]].copy()"
   ]
  },
  {
   "cell_type": "code",
   "execution_count": 463,
   "id": "f256c810-ceda-48a5-bf94-eb21917678fb",
   "metadata": {},
   "outputs": [],
   "source": [
    "accounts[\"account_id\"] = 1"
   ]
  },
  {
   "cell_type": "code",
   "execution_count": 464,
   "id": "a0c536ea-b528-4429-92d8-4af906f3017b",
   "metadata": {},
   "outputs": [],
   "source": [
    "accounts.loc[0, \"account_id\"] = 10000"
   ]
  },
  {
   "cell_type": "code",
   "execution_count": 465,
   "id": "67e7c6ca-2ec7-477a-9127-9855f88b138c",
   "metadata": {},
   "outputs": [
    {
     "data": {
      "text/html": [
       "<div>\n",
       "<style scoped>\n",
       "    .dataframe tbody tr th:only-of-type {\n",
       "        vertical-align: middle;\n",
       "    }\n",
       "\n",
       "    .dataframe tbody tr th {\n",
       "        vertical-align: top;\n",
       "    }\n",
       "\n",
       "    .dataframe thead th {\n",
       "        text-align: right;\n",
       "    }\n",
       "</style>\n",
       "<table border=\"1\" class=\"dataframe\">\n",
       "  <thead>\n",
       "    <tr style=\"text-align: right;\">\n",
       "      <th></th>\n",
       "      <th>client_id</th>\n",
       "      <th>account_id</th>\n",
       "    </tr>\n",
       "  </thead>\n",
       "  <tbody>\n",
       "    <tr>\n",
       "      <th>0</th>\n",
       "      <td>1</td>\n",
       "      <td>10000</td>\n",
       "    </tr>\n",
       "    <tr>\n",
       "      <th>1</th>\n",
       "      <td>2</td>\n",
       "      <td>1</td>\n",
       "    </tr>\n",
       "    <tr>\n",
       "      <th>2</th>\n",
       "      <td>3</td>\n",
       "      <td>1</td>\n",
       "    </tr>\n",
       "    <tr>\n",
       "      <th>3</th>\n",
       "      <td>4</td>\n",
       "      <td>1</td>\n",
       "    </tr>\n",
       "    <tr>\n",
       "      <th>4</th>\n",
       "      <td>5</td>\n",
       "      <td>1</td>\n",
       "    </tr>\n",
       "  </tbody>\n",
       "</table>\n",
       "</div>"
      ],
      "text/plain": [
       "   client_id  account_id\n",
       "0          1       10000\n",
       "1          2           1\n",
       "2          3           1\n",
       "3          4           1\n",
       "4          5           1"
      ]
     },
     "execution_count": 465,
     "metadata": {},
     "output_type": "execute_result"
    }
   ],
   "source": [
    "accounts.head()"
   ]
  },
  {
   "cell_type": "code",
   "execution_count": 466,
   "id": "9ca9d8ba-e299-4232-a04e-294ccf917c1f",
   "metadata": {},
   "outputs": [],
   "source": [
    "# Кумулятивно складываем числа в серии. Получается в каждой записи будет результат сложения текущего и всех предыдущих чисел\n",
    "# Т.е. 10000, 10000 + 1, 10001 + 1 и т.д. Так будут счета с номерами от 10000 до 10000 + n-1 клиентов\n",
    "\n",
    "accounts[\"account_id\"] = accounts[\"account_id\"].cumsum()"
   ]
  },
  {
   "cell_type": "code",
   "execution_count": 467,
   "id": "d0d099fd-9b02-49db-b0ed-6e270517951c",
   "metadata": {},
   "outputs": [
    {
     "data": {
      "text/html": [
       "<div>\n",
       "<style scoped>\n",
       "    .dataframe tbody tr th:only-of-type {\n",
       "        vertical-align: middle;\n",
       "    }\n",
       "\n",
       "    .dataframe tbody tr th {\n",
       "        vertical-align: top;\n",
       "    }\n",
       "\n",
       "    .dataframe thead th {\n",
       "        text-align: right;\n",
       "    }\n",
       "</style>\n",
       "<table border=\"1\" class=\"dataframe\">\n",
       "  <thead>\n",
       "    <tr style=\"text-align: right;\">\n",
       "      <th></th>\n",
       "      <th>client_id</th>\n",
       "      <th>account_id</th>\n",
       "    </tr>\n",
       "  </thead>\n",
       "  <tbody>\n",
       "    <tr>\n",
       "      <th>0</th>\n",
       "      <td>1</td>\n",
       "      <td>10000</td>\n",
       "    </tr>\n",
       "    <tr>\n",
       "      <th>1</th>\n",
       "      <td>2</td>\n",
       "      <td>10001</td>\n",
       "    </tr>\n",
       "    <tr>\n",
       "      <th>2</th>\n",
       "      <td>3</td>\n",
       "      <td>10002</td>\n",
       "    </tr>\n",
       "    <tr>\n",
       "      <th>3</th>\n",
       "      <td>4</td>\n",
       "      <td>10003</td>\n",
       "    </tr>\n",
       "    <tr>\n",
       "      <th>4</th>\n",
       "      <td>5</td>\n",
       "      <td>10004</td>\n",
       "    </tr>\n",
       "  </tbody>\n",
       "</table>\n",
       "</div>"
      ],
      "text/plain": [
       "   client_id  account_id\n",
       "0          1       10000\n",
       "1          2       10001\n",
       "2          3       10002\n",
       "3          4       10003\n",
       "4          5       10004"
      ]
     },
     "execution_count": 467,
     "metadata": {},
     "output_type": "execute_result"
    }
   ],
   "source": [
    "accounts.head()"
   ]
  },
  {
   "cell_type": "code",
   "execution_count": 468,
   "id": "3431cf1c-5040-4f66-b444-816404eed048",
   "metadata": {},
   "outputs": [
    {
     "data": {
      "text/html": [
       "<div>\n",
       "<style scoped>\n",
       "    .dataframe tbody tr th:only-of-type {\n",
       "        vertical-align: middle;\n",
       "    }\n",
       "\n",
       "    .dataframe tbody tr th {\n",
       "        vertical-align: top;\n",
       "    }\n",
       "\n",
       "    .dataframe thead th {\n",
       "        text-align: right;\n",
       "    }\n",
       "</style>\n",
       "<table border=\"1\" class=\"dataframe\">\n",
       "  <thead>\n",
       "    <tr style=\"text-align: right;\">\n",
       "      <th></th>\n",
       "      <th>account_id</th>\n",
       "    </tr>\n",
       "  </thead>\n",
       "  <tbody>\n",
       "    <tr>\n",
       "      <th>min</th>\n",
       "      <td>10000</td>\n",
       "    </tr>\n",
       "    <tr>\n",
       "      <th>max</th>\n",
       "      <td>15368</td>\n",
       "    </tr>\n",
       "  </tbody>\n",
       "</table>\n",
       "</div>"
      ],
      "text/plain": [
       "     account_id\n",
       "min       10000\n",
       "max       15368"
      ]
     },
     "execution_count": 468,
     "metadata": {},
     "output_type": "execute_result"
    }
   ],
   "source": [
    "accounts.agg({\"account_id\":[\"min\",\"max\"]})"
   ]
  },
  {
   "cell_type": "code",
   "execution_count": 469,
   "id": "030f679c-ce69-4124-9f8d-a3541376dd31",
   "metadata": {},
   "outputs": [],
   "source": [
    "assert accounts.shape[0] == accounts.account_id.nunique(), \"Values in account_id are not unique!\""
   ]
  },
  {
   "cell_type": "code",
   "execution_count": 470,
   "id": "9e478cee-946c-4887-bb29-5b6116449fa7",
   "metadata": {},
   "outputs": [
    {
     "data": {
      "text/plain": [
       "5369"
      ]
     },
     "execution_count": 470,
     "metadata": {},
     "output_type": "execute_result"
    }
   ],
   "source": [
    "accounts.shape[0]"
   ]
  },
  {
   "cell_type": "code",
   "execution_count": 534,
   "id": "b3fd4045-e936-4529-8e14-ed6349327cb3",
   "metadata": {},
   "outputs": [],
   "source": [
    "# Колонка is_drop. Дроп клиент или нет. Пока нет дропов.\n",
    "# Они будут обозначаться непосредственно во время генерации активности дропов\n",
    "\n",
    "accounts[\"is_drop\"] = False"
   ]
  },
  {
   "cell_type": "code",
   "execution_count": 535,
   "id": "1cf74324-afe3-4f58-9719-1d44f9d76b6d",
   "metadata": {},
   "outputs": [
    {
     "data": {
      "text/html": [
       "<div>\n",
       "<style scoped>\n",
       "    .dataframe tbody tr th:only-of-type {\n",
       "        vertical-align: middle;\n",
       "    }\n",
       "\n",
       "    .dataframe tbody tr th {\n",
       "        vertical-align: top;\n",
       "    }\n",
       "\n",
       "    .dataframe thead th {\n",
       "        text-align: right;\n",
       "    }\n",
       "</style>\n",
       "<table border=\"1\" class=\"dataframe\">\n",
       "  <thead>\n",
       "    <tr style=\"text-align: right;\">\n",
       "      <th></th>\n",
       "      <th>client_id</th>\n",
       "      <th>account_id</th>\n",
       "      <th>is_drop</th>\n",
       "    </tr>\n",
       "  </thead>\n",
       "  <tbody>\n",
       "    <tr>\n",
       "      <th>0</th>\n",
       "      <td>1</td>\n",
       "      <td>10000</td>\n",
       "      <td>False</td>\n",
       "    </tr>\n",
       "    <tr>\n",
       "      <th>1</th>\n",
       "      <td>2</td>\n",
       "      <td>10001</td>\n",
       "      <td>False</td>\n",
       "    </tr>\n",
       "    <tr>\n",
       "      <th>2</th>\n",
       "      <td>3</td>\n",
       "      <td>10002</td>\n",
       "      <td>False</td>\n",
       "    </tr>\n",
       "    <tr>\n",
       "      <th>3</th>\n",
       "      <td>4</td>\n",
       "      <td>10003</td>\n",
       "      <td>False</td>\n",
       "    </tr>\n",
       "    <tr>\n",
       "      <th>4</th>\n",
       "      <td>5</td>\n",
       "      <td>10004</td>\n",
       "      <td>False</td>\n",
       "    </tr>\n",
       "  </tbody>\n",
       "</table>\n",
       "</div>"
      ],
      "text/plain": [
       "   client_id  account_id  is_drop\n",
       "0          1       10000    False\n",
       "1          2       10001    False\n",
       "2          3       10002    False\n",
       "3          4       10003    False\n",
       "4          5       10004    False"
      ]
     },
     "execution_count": 535,
     "metadata": {},
     "output_type": "execute_result"
    }
   ],
   "source": [
    "accounts.head()"
   ]
  },
  {
   "cell_type": "markdown",
   "id": "9ab19a74-cb31-4a4c-b6a7-ca2ed8481680",
   "metadata": {},
   "source": [
    "**Внешние счета**  \n",
    "Счета начинающиеся с максимального номера счета нашего клиента + 1"
   ]
  },
  {
   "cell_type": "code",
   "execution_count": 473,
   "id": "be3f3878-8f26-4ff6-9bd9-c4aa8782391c",
   "metadata": {},
   "outputs": [],
   "source": [
    "# Пусть будет 10000 счетов\n",
    "\n",
    "start_id = accounts.account_id.max() + 1\n",
    "outer_accounts = pd.Series(data=np.arange(start_id, start_id + 10000, step=1), name=\"account_id\", dtype=\"int\")"
   ]
  },
  {
   "cell_type": "code",
   "execution_count": 476,
   "id": "ae62885d-fb9b-414d-b7fd-cdcd3bc45e12",
   "metadata": {},
   "outputs": [
    {
     "data": {
      "text/plain": [
       "0       15369\n",
       "1       15370\n",
       "2       15371\n",
       "9997    25366\n",
       "9998    25367\n",
       "9999    25368\n",
       "Name: account_id, dtype: int64"
      ]
     },
     "execution_count": 476,
     "metadata": {},
     "output_type": "execute_result"
    }
   ],
   "source": [
    "outer_accounts.iloc[np.r_[0:3,-3:0]]"
   ]
  },
  {
   "cell_type": "code",
   "execution_count": 477,
   "id": "15a223e1-83d9-40f7-aa00-8cf99c871fdb",
   "metadata": {},
   "outputs": [],
   "source": [
    "# Не должно быть пересечений по account_id\n",
    "\n",
    "assert accounts.merge(outer_accounts, on=\"account_id\").empty, \"Clients account ids are in the outer account ids\""
   ]
  },
  {
   "cell_type": "markdown",
   "id": "fa9d1b37-abb3-4db0-a485-bc73ec4d3742",
   "metadata": {},
   "source": [
    "**Сохранение счетов в файлы**"
   ]
  },
  {
   "cell_type": "code",
   "execution_count": 479,
   "id": "5f730037-aeb1-4f04-917e-6f9243c09771",
   "metadata": {},
   "outputs": [],
   "source": [
    "accounts.to_csv(\"./data/generated_data/accounts.csv\", index=False)"
   ]
  },
  {
   "cell_type": "code",
   "execution_count": 480,
   "id": "a70c1ebf-3e5c-4278-8649-5cfe21850b46",
   "metadata": {},
   "outputs": [],
   "source": [
    "outer_accounts.to_csv(\"./data/generated_data/outer_accounts.csv\", index=False)"
   ]
  },
  {
   "cell_type": "markdown",
   "id": "41bc701a-1ba4-49ee-8fd7-010714fbf90d",
   "metadata": {},
   "source": [
    "## Конфиги для дроп фрода, объект датакласса `DropConfigs`"
   ]
  },
  {
   "cell_type": "code",
   "execution_count": 481,
   "id": "07c26c2b-b46d-4e58-921b-ccd4227336a7",
   "metadata": {},
   "outputs": [],
   "source": [
    "# Импорт на время разработки\n",
    "\n",
    "importlib.reload(data_generator.utils)\n",
    "from data_generator.utils import DropConfigs"
   ]
  },
  {
   "cell_type": "markdown",
   "id": "490d0ee2-5f93-4469-97f2-cd1a93df80ba",
   "metadata": {},
   "source": [
    "**Доп. конфиги из `drop.yaml`**"
   ]
  },
  {
   "cell_type": "code",
   "execution_count": 374,
   "id": "6e837c6b-344b-4985-aa35-dd9cb71abddc",
   "metadata": {},
   "outputs": [],
   "source": [
    "period_in_lim = drops_cfg[\"drop_distributor\"][\"period_in_lim\"]\n",
    "period_out_lim = drops_cfg[\"drop_distributor\"][\"period_out_lim\"]\n",
    "lag_interval = drops_cfg[\"lag_interval\"]\n",
    "two_way_delta = drops_cfg[\"two_way_delta\"]\n",
    "pos_delta = drops_cfg[\"pos_delta\"]"
   ]
  },
  {
   "cell_type": "code",
   "execution_count": 536,
   "id": "c761f555-8c53-4941-99cb-f0946e664438",
   "metadata": {},
   "outputs": [],
   "source": [
    "drop_configs = DropConfigs(clients=clients_for_drop, timestamps=timestamps, transactions=None, \n",
    "                           accounts=accounts, outer_accounts=outer_accounts,\n",
    "                           client_devices=client_devices, offline_merchants=offline_merchants, \n",
    "                           categories=cat_stats_full, online_merchant_ids=online_merchant_ids, \\\n",
    "                           time_weights_dict=time_weights_dict, rules=None, cities=districts_ru, \\\n",
    "                           fraud_amounts=None, period_in_lim=period_in_lim, period_out_lim=period_out_lim, \\\n",
    "                           lag_interval=lag_interval, two_way_delta=two_way_delta, pos_delta=pos_delta\n",
    "                              )"
   ]
  },
  {
   "cell_type": "code",
   "execution_count": 84,
   "id": "6e0a4918-1cb5-4c2b-a0d8-55c686a10c11",
   "metadata": {},
   "outputs": [
    {
     "data": {
      "text/html": [
       "<div>\n",
       "<style scoped>\n",
       "    .dataframe tbody tr th:only-of-type {\n",
       "        vertical-align: middle;\n",
       "    }\n",
       "\n",
       "    .dataframe tbody tr th {\n",
       "        vertical-align: top;\n",
       "    }\n",
       "\n",
       "    .dataframe thead th {\n",
       "        text-align: right;\n",
       "    }\n",
       "</style>\n",
       "<table border=\"1\" class=\"dataframe\">\n",
       "  <thead>\n",
       "    <tr style=\"text-align: right;\">\n",
       "      <th></th>\n",
       "      <th>category</th>\n",
       "      <th>avg_amt</th>\n",
       "      <th>amt_std</th>\n",
       "      <th>cat_count</th>\n",
       "      <th>online</th>\n",
       "      <th>share</th>\n",
       "      <th>fraud_count</th>\n",
       "      <th>fraud_share</th>\n",
       "      <th>round_clock</th>\n",
       "    </tr>\n",
       "  </thead>\n",
       "  <tbody>\n",
       "    <tr>\n",
       "      <th>5</th>\n",
       "      <td>shopping_net</td>\n",
       "      <td>1252.224798</td>\n",
       "      <td>3558.296372</td>\n",
       "      <td>41779</td>\n",
       "      <td>True</td>\n",
       "      <td>0.07518</td>\n",
       "      <td>506</td>\n",
       "      <td>0.012111</td>\n",
       "      <td>True</td>\n",
       "    </tr>\n",
       "  </tbody>\n",
       "</table>\n",
       "</div>"
      ],
      "text/plain": [
       "       category      avg_amt      amt_std  cat_count  online    share  \\\n",
       "5  shopping_net  1252.224798  3558.296372      41779    True  0.07518   \n",
       "\n",
       "   fraud_count  fraud_share  round_clock  \n",
       "5          506     0.012111         True  "
      ]
     },
     "execution_count": 84,
     "metadata": {},
     "output_type": "execute_result"
    }
   ],
   "source": [
    "sample_category(fraud_configs.categories, online=True, is_fraud=True, rule=\"blalb\")"
   ]
  },
  {
   "cell_type": "markdown",
   "id": "ce779776-cb0b-437b-8f47-cb04122e0437",
   "metadata": {},
   "source": [
    "## Объект класса `FraudTransPartialData`\n",
    "- генерация части данных транзакции"
   ]
  },
  {
   "cell_type": "code",
   "execution_count": 114,
   "id": "bc277e88-ecc1-4dca-9899-414dee8bda8e",
   "metadata": {},
   "outputs": [],
   "source": [
    "trans_part_test = FraudTransPartialData(merchants_df=offline_merchants, client_info=None, \\\n",
    "                                        online_merchant_ids=online_merchant_ids, fraud_ips=fraud_ips, used_ips=pd.Series(), \\\n",
    "                                         fraud_devices=fraud_devices,  used_devices=pd.Series(), \\\n",
    "                                        client_devices=client_devices)"
   ]
  },
  {
   "cell_type": "code",
   "execution_count": 115,
   "id": "504c61f4-b9f1-4079-bdf3-2d883e0f9930",
   "metadata": {},
   "outputs": [
    {
     "data": {
      "text/plain": [
       "Pandas(Index=1, client_id=2, district_id=1, birth_date='1945-02-04', sex='male', region='Москва', area='Москва', timezone='UTC+3', lat=55.7538789, lon=37.6203735, population=11514330, home_ip='2.60.0.2', geometry=<MULTIPOLYGON (((37.291 55.802, 37.295 55.803, 37.297 55.803, 37.298 55.803,...>)"
      ]
     },
     "execution_count": 115,
     "metadata": {},
     "output_type": "execute_result"
    }
   ],
   "source": [
    "for client_info in clients_with_geo.loc[[1]].itertuples():\n",
    "    trans_part_test.client_info = client_info\n",
    "trans_part_test.client_info"
   ]
  },
  {
   "cell_type": "code",
   "execution_count": 116,
   "id": "10716ee5-e5ae-4197-8d6c-eae08ed9c24d",
   "metadata": {},
   "outputs": [
    {
     "data": {
      "text/plain": [
       "(nan,\n",
       " nan,\n",
       " nan,\n",
       " 'not applicable',\n",
       " 'not applicable',\n",
       " <NA>,\n",
       " 'transfer',\n",
       " 'inbound')"
      ]
     },
     "execution_count": 116,
     "metadata": {},
     "output_type": "execute_result"
    }
   ],
   "source": [
    "trans_part_test.original_data(online=True, receive=True)"
   ]
  },
  {
   "cell_type": "code",
   "execution_count": 117,
   "id": "a8182f49-e94b-4fec-adcf-a611fcad5cb5",
   "metadata": {},
   "outputs": [
    {
     "data": {
      "text/plain": [
       "(nan,\n",
       " 55.7538789,\n",
       " 37.6203735,\n",
       " '2.60.0.2',\n",
       " 'Москва',\n",
       " np.int64(3),\n",
       " 'transfer',\n",
       " 'outbound')"
      ]
     },
     "execution_count": 117,
     "metadata": {},
     "output_type": "execute_result"
    }
   ],
   "source": [
    "trans_part_test.original_data(online=True, receive=False)"
   ]
  },
  {
   "cell_type": "code",
   "execution_count": 118,
   "id": "b648df0e-b4c8-4281-8a49-19c20925c3f9",
   "metadata": {},
   "outputs": [
    {
     "data": {
      "text/plain": [
       "(nan,\n",
       " 55.7538789,\n",
       " 37.6203735,\n",
       " 'not applicable',\n",
       " 'Москва',\n",
       " <NA>,\n",
       " 'ATM',\n",
       " 'withdrawal')"
      ]
     },
     "execution_count": 118,
     "metadata": {},
     "output_type": "execute_result"
    }
   ],
   "source": [
    "trans_part_test.original_data(online=False)"
   ]
  },
  {
   "cell_type": "code",
   "execution_count": 86,
   "id": "557cc92b-da94-48e2-ad51-6ad7e7687a4b",
   "metadata": {},
   "outputs": [
    {
     "data": {
      "text/plain": [
       "Series([], dtype: object)"
      ]
     },
     "execution_count": 86,
     "metadata": {},
     "output_type": "execute_result"
    }
   ],
   "source": [
    "trans_part_test.used_ips"
   ]
  },
  {
   "cell_type": "code",
   "execution_count": 87,
   "id": "86916acb-8ae8-4a54-a15d-cd8c95271dfe",
   "metadata": {},
   "outputs": [
    {
     "data": {
      "text/plain": [
       "Series([], dtype: object)"
      ]
     },
     "execution_count": 87,
     "metadata": {},
     "output_type": "execute_result"
    }
   ],
   "source": [
    "trans_part_test.used_devices"
   ]
  },
  {
   "cell_type": "markdown",
   "id": "c91e4265-0f11-48ef-9529-a27169b95d64",
   "metadata": {},
   "source": [
    "## Объект класса `TransAmount`"
   ]
  },
  {
   "cell_type": "code",
   "execution_count": 90,
   "id": "38a27df4-7fa1-4ef7-8aaf-abe1d79cc013",
   "metadata": {},
   "outputs": [],
   "source": [
    "fraud_amts_test = TransAmount(categories_stats=cat_fraud_amts)"
   ]
  },
  {
   "cell_type": "code",
   "execution_count": 91,
   "id": "c4a301b3-0e9d-4c03-9618-920d1ec6811a",
   "metadata": {},
   "outputs": [
    {
     "data": {
      "text/plain": [
       "np.float64(30930.0)"
      ]
     },
     "execution_count": 91,
     "metadata": {},
     "output_type": "execute_result"
    }
   ],
   "source": [
    "fraud_amts_test.fraud_amount(category_name=\"shopping_net\")"
   ]
  },
  {
   "cell_type": "code",
   "execution_count": 92,
   "id": "1b020386-d25c-4d89-a967-6af4ecef9606",
   "metadata": {},
   "outputs": [
    {
     "data": {
      "text/plain": [
       "np.float64(3090.0)"
      ]
     },
     "execution_count": 92,
     "metadata": {},
     "output_type": "execute_result"
    }
   ],
   "source": [
    "fraud_amts_test.freq_trans_amount(low=3000)"
   ]
  },
  {
   "attachments": {},
   "cell_type": "markdown",
   "id": "9ddb6614-929c-4818-b90c-17786109d3c3",
   "metadata": {},
   "source": [
    "## Класс `DropAccountHandler`"
   ]
  },
  {
   "cell_type": "code",
   "execution_count": 484,
   "id": "fb804981-e1ab-40b5-a287-66b7057a3608",
   "metadata": {},
   "outputs": [],
   "source": [
    "class DropAccountHandler:\n",
    "    \"\"\"\n",
    "    Генератор номеров счетов входящих/исходящих транзакций.\n",
    "    Учет использованных счетов.\n",
    "    \"\"\"\n",
    "    def __init__(self, configs: DropConfigs, client_id, used_accounts=pd.Series(name=\"account_id\")):\n",
    "        \"\"\"\n",
    "        configs - pd.DataFrame. Данные для создания транзакций: номера счетов клиентов и внешних счетов, и др.\n",
    "        client_id - int. id текущего дропа.\n",
    "        used_accounts - pd.Series. Счета на которые дропы уже отправляли деньги.\n",
    "        \"\"\"\n",
    "        self.accounts = configs.accounts\n",
    "        self.outer_accounts = configs.outer_accounts\n",
    "        self.client_id = client_id\n",
    "        # self.account = 0\n",
    "        self.account = configs.accounts.loc[configs.accounts.client_id == client_id, \"account_id\"].iat[0]\n",
    "        self.used_accounts = used_accounts\n",
    "\n",
    "    def get_account(self, to_drop):\n",
    "        \"\"\"\n",
    "        Номер счета входящего/исходящего перевода\n",
    "        to_drop - bool. Перевод другому дропу в нашем банке или нет.\n",
    "        \"\"\"\n",
    "        # Если отправляем/получаем из другого банка.  \n",
    "        if not to_drop:\n",
    "            # Семплируем номер внешнего счета который еще не использовался\n",
    "            account = self.outer_accounts.loc[~(self.outer_accounts.isin(self.used_accounts))].sample(1).iat[0]\n",
    "            # Добавляем этот счет в использованные как последнюю запись в серии\n",
    "            self.used_accounts.loc[self.used_accounts.shape[0]] = account\n",
    "            return account\n",
    "        \n",
    "        # Если надо отправить другому дропу в нашем банке. При условии что есть другие дропы на текущий момент\n",
    "        # Фильтруем accounts исключая свой счет и использованные счета, и выбирая дропов. Для случая если to_drop\n",
    "        drop_accounts = self.accounts.loc[(self.accounts.client_id != self.client_id) & (self.accounts.is_drop == True) \\\n",
    "                                          & ~(self.accounts.account_id.isin(self.used_accounts))]\n",
    "        \n",
    "        # Если счетов дропов ещё нет. Берем внешний неиспользованный счет\n",
    "        if drop_accounts.empty:\n",
    "            account = self.outer_accounts.loc[~(self.outer_accounts.isin(self.used_accounts))].sample(1).iat[0]\n",
    "            self.used_accounts.loc[self.used_accounts.shape[0]] = account\n",
    "            return account\n",
    "\n",
    "        # Дропы есть\n",
    "        account = drop_accounts.account_id.sample(1).iat[0]\n",
    "        # Добавляем этот счет в использованные как последнюю запись в серии\n",
    "        self.used_accounts.loc[self.used_accounts.shape[0]] = account\n",
    "        return account\n",
    "\n",
    "\n",
    "    def reset_cache(self):\n",
    "        \"\"\"\n",
    "        Сброс кэшированных значений.\n",
    "        Это только использованные номера счетов\n",
    "        \"\"\"\n",
    "        self.used_accounts = pd.Series(name=\"account_id\")"
   ]
  },
  {
   "cell_type": "markdown",
   "id": "7ad480ac-a6d9-441c-b9a8-a74b4317d614",
   "metadata": {},
   "source": [
    "**Тест `DropAccountHandler`**"
   ]
  },
  {
   "cell_type": "code",
   "execution_count": 537,
   "id": "b72a9f22-a462-48a5-add0-58f66fed9515",
   "metadata": {},
   "outputs": [],
   "source": [
    "# импорт на время разработки\n",
    "\n",
    "import data_generator.fraud.drops.base\n",
    "importlib.reload(data_generator.fraud.drops.base)\n",
    "from data_generator.fraud.drops.base import DropAccountHandler"
   ]
  },
  {
   "cell_type": "code",
   "execution_count": 554,
   "id": "906163ab-8fd8-4081-acae-4595e475cb24",
   "metadata": {},
   "outputs": [],
   "source": [
    "drop_acc_hand1 = DropAccountHandler(configs=drop_configs)"
   ]
  },
  {
   "cell_type": "code",
   "execution_count": 556,
   "id": "62193c78-e3b2-4783-aa1d-8dcf705af455",
   "metadata": {},
   "outputs": [],
   "source": [
    "drop_acc_hand1.client_id = 1"
   ]
  },
  {
   "cell_type": "code",
   "execution_count": 557,
   "id": "aa8318ef-b7e8-4790-9bc4-f00d028b19bc",
   "metadata": {},
   "outputs": [
    {
     "data": {
      "text/plain": [
       "np.int64(10000)"
      ]
     },
     "execution_count": 557,
     "metadata": {},
     "output_type": "execute_result"
    }
   ],
   "source": [
    "drop_acc_hand1.get_account(own=True)\n",
    "drop_acc_hand1.account"
   ]
  },
  {
   "cell_type": "code",
   "execution_count": 520,
   "id": "7b2f697c-1a71-4ea8-a75a-f3d8ac10e9b2",
   "metadata": {},
   "outputs": [
    {
     "data": {
      "text/plain": [
       "np.int64(18331)"
      ]
     },
     "execution_count": 520,
     "metadata": {},
     "output_type": "execute_result"
    }
   ],
   "source": [
    "drop_acc_hand1.get_account()"
   ]
  },
  {
   "cell_type": "code",
   "execution_count": 521,
   "id": "70177fce-dde6-4f6e-9f12-500feba2ce42",
   "metadata": {},
   "outputs": [
    {
     "data": {
      "text/plain": [
       "0    18331\n",
       "Name: account_id, dtype: int64"
      ]
     },
     "execution_count": 521,
     "metadata": {},
     "output_type": "execute_result"
    }
   ],
   "source": [
    "drop_acc_hand1.used_accounts"
   ]
  },
  {
   "cell_type": "code",
   "execution_count": 541,
   "id": "4f28cf59-94f0-4338-a623-7f9712b264f9",
   "metadata": {},
   "outputs": [],
   "source": [
    "drop_acc_hand1.label_drop()"
   ]
  },
  {
   "cell_type": "code",
   "execution_count": 544,
   "id": "b93cf7a2-a669-4121-9763-41df3ea0bd2c",
   "metadata": {},
   "outputs": [
    {
     "data": {
      "text/html": [
       "<div>\n",
       "<style scoped>\n",
       "    .dataframe tbody tr th:only-of-type {\n",
       "        vertical-align: middle;\n",
       "    }\n",
       "\n",
       "    .dataframe tbody tr th {\n",
       "        vertical-align: top;\n",
       "    }\n",
       "\n",
       "    .dataframe thead th {\n",
       "        text-align: right;\n",
       "    }\n",
       "</style>\n",
       "<table border=\"1\" class=\"dataframe\">\n",
       "  <thead>\n",
       "    <tr style=\"text-align: right;\">\n",
       "      <th></th>\n",
       "      <th>client_id</th>\n",
       "      <th>account_id</th>\n",
       "      <th>is_drop</th>\n",
       "    </tr>\n",
       "  </thead>\n",
       "  <tbody>\n",
       "    <tr>\n",
       "      <th>0</th>\n",
       "      <td>1</td>\n",
       "      <td>10000</td>\n",
       "      <td>True</td>\n",
       "    </tr>\n",
       "    <tr>\n",
       "      <th>1</th>\n",
       "      <td>2</td>\n",
       "      <td>10001</td>\n",
       "      <td>False</td>\n",
       "    </tr>\n",
       "  </tbody>\n",
       "</table>\n",
       "</div>"
      ],
      "text/plain": [
       "   client_id  account_id  is_drop\n",
       "0          1       10000     True\n",
       "1          2       10001    False"
      ]
     },
     "execution_count": 544,
     "metadata": {},
     "output_type": "execute_result"
    }
   ],
   "source": [
    "drop_acc_hand1.accounts.head(2)"
   ]
  },
  {
   "cell_type": "code",
   "execution_count": 545,
   "id": "6b5163c1-3a02-4079-a5f1-3b68704e027c",
   "metadata": {},
   "outputs": [],
   "source": [
    "drop_acc_hand1.client_id = 99"
   ]
  },
  {
   "cell_type": "code",
   "execution_count": 547,
   "id": "c4ba62e4-e151-424a-bbf0-8396826facc0",
   "metadata": {},
   "outputs": [],
   "source": [
    "drop_acc_hand1.get_account(own=True)\n",
    "drop_acc_hand1.label_drop()"
   ]
  },
  {
   "cell_type": "code",
   "execution_count": 549,
   "id": "9cc44296-8e7c-4e18-ae85-d2bb1641ee70",
   "metadata": {},
   "outputs": [
    {
     "data": {
      "text/html": [
       "<div>\n",
       "<style scoped>\n",
       "    .dataframe tbody tr th:only-of-type {\n",
       "        vertical-align: middle;\n",
       "    }\n",
       "\n",
       "    .dataframe tbody tr th {\n",
       "        vertical-align: top;\n",
       "    }\n",
       "\n",
       "    .dataframe thead th {\n",
       "        text-align: right;\n",
       "    }\n",
       "</style>\n",
       "<table border=\"1\" class=\"dataframe\">\n",
       "  <thead>\n",
       "    <tr style=\"text-align: right;\">\n",
       "      <th></th>\n",
       "      <th>client_id</th>\n",
       "      <th>account_id</th>\n",
       "      <th>is_drop</th>\n",
       "    </tr>\n",
       "  </thead>\n",
       "  <tbody>\n",
       "    <tr>\n",
       "      <th>93</th>\n",
       "      <td>99</td>\n",
       "      <td>10093</td>\n",
       "      <td>True</td>\n",
       "    </tr>\n",
       "  </tbody>\n",
       "</table>\n",
       "</div>"
      ],
      "text/plain": [
       "    client_id  account_id  is_drop\n",
       "93         99       10093     True"
      ]
     },
     "execution_count": 549,
     "metadata": {},
     "output_type": "execute_result"
    }
   ],
   "source": [
    "drop_acc_hand1.accounts.query(\"client_id == 99\")"
   ]
  },
  {
   "cell_type": "code",
   "execution_count": 550,
   "id": "97714e7a-7183-4df5-8d33-67cd5e36a7d8",
   "metadata": {},
   "outputs": [
    {
     "data": {
      "text/plain": [
       "np.int64(10000)"
      ]
     },
     "execution_count": 550,
     "metadata": {},
     "output_type": "execute_result"
    }
   ],
   "source": [
    "drop_acc_hand1.get_account(to_drop=True)"
   ]
  },
  {
   "cell_type": "code",
   "execution_count": 551,
   "id": "ba98c4ed-c11f-49ed-8bc2-c6f768a5392a",
   "metadata": {},
   "outputs": [
    {
     "data": {
      "text/plain": [
       "0    18287\n",
       "1    10000\n",
       "Name: account_id, dtype: int64"
      ]
     },
     "execution_count": 551,
     "metadata": {},
     "output_type": "execute_result"
    }
   ],
   "source": [
    "drop_acc_hand1.used_accounts"
   ]
  },
  {
   "cell_type": "code",
   "execution_count": 553,
   "id": "0261fe16-4dd6-4cba-bad3-74b85d90714d",
   "metadata": {},
   "outputs": [
    {
     "data": {
      "text/plain": [
       "Series([], Name: account_id, dtype: object)"
      ]
     },
     "execution_count": 553,
     "metadata": {},
     "output_type": "execute_result"
    }
   ],
   "source": [
    "drop_acc_hand1.reset_cache()\n",
    "drop_acc_hand1.used_accounts"
   ]
  },
  {
   "cell_type": "code",
   "execution_count": 558,
   "id": "1117d7ac-959d-4a30-9055-53a66680f444",
   "metadata": {},
   "outputs": [
    {
     "data": {
      "text/html": [
       "<div>\n",
       "<style scoped>\n",
       "    .dataframe tbody tr th:only-of-type {\n",
       "        vertical-align: middle;\n",
       "    }\n",
       "\n",
       "    .dataframe tbody tr th {\n",
       "        vertical-align: top;\n",
       "    }\n",
       "\n",
       "    .dataframe thead th {\n",
       "        text-align: right;\n",
       "    }\n",
       "</style>\n",
       "<table border=\"1\" class=\"dataframe\">\n",
       "  <thead>\n",
       "    <tr style=\"text-align: right;\">\n",
       "      <th></th>\n",
       "      <th>client_id</th>\n",
       "      <th>account_id</th>\n",
       "      <th>is_drop</th>\n",
       "    </tr>\n",
       "  </thead>\n",
       "  <tbody>\n",
       "  </tbody>\n",
       "</table>\n",
       "</div>"
      ],
      "text/plain": [
       "Empty DataFrame\n",
       "Columns: [client_id, account_id, is_drop]\n",
       "Index: []"
      ]
     },
     "execution_count": 558,
     "metadata": {},
     "output_type": "execute_result"
    }
   ],
   "source": [
    "nodrops_acc = drop_acc_hand1.get_account(to_drop=True)\n",
    "drop_acc_hand1.accounts.loc[drop_acc_hand1.accounts.account_id == nodrops_acc]"
   ]
  },
  {
   "cell_type": "code",
   "execution_count": 559,
   "id": "089cbcf9-1c08-4ab6-ad0f-091035ac8f43",
   "metadata": {},
   "outputs": [
    {
     "data": {
      "text/plain": [
       "0    23419\n",
       "Name: account_id, dtype: int64"
      ]
     },
     "execution_count": 559,
     "metadata": {},
     "output_type": "execute_result"
    }
   ],
   "source": [
    "drop_acc_hand1.used_accounts.loc[drop_acc_hand1.used_accounts == nodrops_acc]"
   ]
  },
  {
   "cell_type": "code",
   "execution_count": null,
   "id": "51fa60a9-776d-4800-9b42-42639c1750c7",
   "metadata": {},
   "outputs": [],
   "source": []
  },
  {
   "cell_type": "code",
   "execution_count": null,
   "id": "6d2c3ceb-e3e8-477b-a3f7-f02995bb270b",
   "metadata": {},
   "outputs": [],
   "source": []
  },
  {
   "cell_type": "markdown",
   "id": "6027d026-0b8c-4996-ac71-610742e25ab7",
   "metadata": {},
   "source": [
    "## Класс `DropClient`\n",
    "- метод get_account(self): Мб добавить вариант to_drop: bool. Перевод другому имеющемуся дропу. при этом. \n",
    "    - записываем счет дропа в свой счет. Атрибут account\n",
    "    - записываем  счет дропа в атрибут drop_accounts\n",
    "    - если надо перевести другому дропу, то фильтруем drop_accounts исключая свой\n",
    "    - надо тогда клиентам приписать шестизначные счета. просто по порядку.\n",
    "    - счета куда отправляют дропы это номера начинающиеся со счета последнего клиента + 1"
   ]
  },
  {
   "cell_type": "code",
   "execution_count": 259,
   "id": "56ae4008-fee6-4f53-991e-85d36ed6151e",
   "metadata": {},
   "outputs": [],
   "source": [
    "class DropClient: \n",
    "    \"\"\"\n",
    "    Генератор сумм входящих/исходящих транзакций, сумм снятий, номеров счетов.\n",
    "    Управление балансом текущего дропа.\n",
    "    \"\"\"\n",
    "    def __init__(self, accounts, account, outer_accounts, balance=0, batch_txns=0, chunk_size=0, used_accounts=pd.Series(name=\"account_id\")):\n",
    "        \"\"\"\n",
    "        accounts - pd.DataFrame. Счета клиентов банка.\n",
    "        account - int. Номер счета текущего дропа.\n",
    "        outer_accounts - pd.Series. Номера счетов для входящих и исходящих переводов в/из других банков.\n",
    "        balance - float. Текущий баланс дропа\n",
    "        batch_txns - int. Счетчик транзакций сделанных в рамках распределения полученной партии денег\n",
    "        chunk_size - int, float. Последний созданный размер части баланса для перевода по частям.\n",
    "        used_accounts - pd.Series. Счета на которые дропы уже отправляли деньги.\n",
    "        \"\"\"\n",
    "        self.accounts = accounts\n",
    "        self.account = account\n",
    "        self.outer_accounts = outer_accounts\n",
    "        self.balance = balance\n",
    "        self.batch_txns = batch_txns\n",
    "        self.chunk_size = chunk_size\n",
    "        self.used_accounts = used_accounts\n",
    "\n",
    "    def update_balance(self, amount, add=False, declined=False):\n",
    "        \"\"\"\n",
    "        Увеличить/уменьшить баланс на указанную сумму\n",
    "        -------------------\n",
    "        amount - float, int.\n",
    "        add - bool. Прибавлять сумму или отнимать.\n",
    "        declined - bool. Отклонена ли транзакция или одобрена.\n",
    "        \"\"\"\n",
    "        # Не обновлять баланс если транзакция отклонена.\n",
    "        if declined:\n",
    "            return\n",
    "            \n",
    "        # Увеличить баланс   \n",
    "        if add:\n",
    "            self.balance += amount\n",
    "            return\n",
    "            \n",
    "        # Уменьшить баланс    \n",
    "        self.balance -= amount\n",
    "\n",
    "    def receive(self, declined, low=5000, high=100000, mean=30000, std=20000, round=500):\n",
    "        \"\"\"\n",
    "        Генерация суммы входящего перевода\n",
    "        --------------------------\n",
    "        declined - bool. Отклонена ли транзакция или одобрена\n",
    "        low - float. Минимальная сумма\n",
    "        high - float. Максимальная сумма\n",
    "        mean - float. Средняя сумма\n",
    "        std - float. Стандартное отклонение\n",
    "        round - int. Округление целой части. По умолчанию 500. Значит числа будут либо с 500 либо с 000 на конце\n",
    "                     При условии что round не больше low и high. Чтобы отменить округление, нужно выставить 1\n",
    "        \"\"\"\n",
    "\n",
    "        # Генерация суммы. Округление целой части при необходимости\n",
    "        amount = get_values_from_truncnorm(low_bound=low, high_bound=high, mean=mean, std=std)[0] // round * round\n",
    "        \n",
    "        # Обновляем баланс если транзакция не отклонена\n",
    "        self.update_balance(amount=amount, add=True, declined=declined)\n",
    "        \n",
    "        return amount\n",
    "\n",
    "    def get_chunk_size(self, online=False, atm_min=10000, atm_share=0.5, round=500, rand_rate=0.9, start=0, stop=0, step=0):\n",
    "        \"\"\"\n",
    "        Вернуть случайный размер суммы перевода для перевода по частям\n",
    "        либо вернуть долю от баланса для снятия/перевода по частям.\n",
    "        -------------------------------\n",
    "        online - bool. Онлайн или оффлайн. Перевод или банкомат. Если банкомат, то снимается доля atm_share от баланса, но не меньше atm_min\n",
    "        atm_min - int, float. Минимальная сумма снятия дропом в банкомате.\n",
    "        atm_share - float. Доля от баланса если снятие через банкомат.\n",
    "        round - int. Округление целой части. По умолчанию 500. \n",
    "                     Значит суммы будут округлены до тысяч или пяти сотен\n",
    "        rand_rate - float. От 0 до 1. Процент случаев, когда каждый НЕ первый чанк будет случайным и не зависеть от предыдущего.\n",
    "                           Но возможны случайные совпадаения с предыдущим размером чанка.\n",
    "                           Доля случайных размеров подряд будет:\n",
    "                           p(c) - вероятность взять определенный размер (зависит от размера выборки чанков)\n",
    "                           p(rr) - rand_rate\n",
    "                           p(rr) - (p(rr) * p(c)). Например p(rr) = 0.9, 5 вариантов размеров чанка - p(c) = 0.20\n",
    "                           0.9 - (0.9 * 0.2) = 0.72\n",
    "                           В около 72% случаев размеры чанков не будут подряд одинаковыми \n",
    "        start - int. Минимальный размер. Прописываем если генерация не через share.\n",
    "                     То же самое для stop и step\n",
    "        stop - int. Максимальный размер - не входит в возможный выбор.\n",
    "                    Максимальное генерируемое значение равно stop - step\n",
    "        step - int. Шаг размеров.\n",
    "        --------------------\n",
    "        Возвращает np.int64\n",
    "        Результат кэшируется в self.chunk_size\n",
    "        \"\"\"\n",
    "        # Если это не первая транзакция в серии транзакции для одной полученной дропом суммы\n",
    "        # И случайное число больше rand_rate, то просто возвращаем ранее созданный размер чанка\n",
    "        if self.batch_txns != 0 and np.random.uniform(0,1) > rand_rate:\n",
    "            return self.chunk_size\n",
    "\n",
    "        # Если перевод\n",
    "        if online:\n",
    "            sampling_array = np.arange(start, stop, step)\n",
    "            self.chunk_size = np.random.choice(sampling_array)\n",
    "            return self.chunk_size\n",
    "            \n",
    "        # Если снятие    \n",
    "        self.chunk_size = max(atm_min, self.balance * atm_share // round * round)\n",
    "        return self.chunk_size\n",
    "            \n",
    "        \n",
    "    def one_operation(self, amount=0, declined=False, in_chunks=False):\n",
    "        \"\"\"\n",
    "        Генерация суммы операции дропа.\n",
    "        ---------\n",
    "        amount - float, int. Сумма перевода если перевод по частям - in_chunks == True\n",
    "        declined - bool. Отклонена ли транзакция или одобрена\n",
    "        in_chunks - bool. Перевод по частям или целиком. Если False, то просто пробуем перевести все с баланса\n",
    "                          При True нужно указать amount.\n",
    "        \"\"\"\n",
    "        if in_chunks and amount <= 0:\n",
    "            raise ValueError(f\"\"\"If in_chunks is True, then amount must be greater than 0.\n",
    "Passed amount: {amount}\"\"\")\n",
    "\n",
    "        # Если перевод не по частям. Пробуем перевестит все с баланса. \n",
    "        if not in_chunks:\n",
    "            amount = self.balance\n",
    "            self.update_balance(amount=self.balance, add=False, declined=declined)\n",
    "            # Прибавляем счетчик транзакции для текущей партии денег\n",
    "            self.batch_txns += 1\n",
    "            return amount\n",
    "\n",
    "        # Иначе считаем сколько частей исходя из размера одной части\n",
    "        chunks = self.balance // amount\n",
    "\n",
    "        # Если целое число частей больше 0. Пробуем перевести одну часть\n",
    "        if chunks > 0:\n",
    "            self.update_balance(amount=amount, add=False, declined=declined)\n",
    "            self.batch_txns += 1\n",
    "            return amount\n",
    "\n",
    "        # Если баланс меньше одной части. Пробуем перевести то что осталось\n",
    "        rest = self.balance\n",
    "        self.update_balance(amount=rest, add=False, declined=declined)\n",
    "        self.batch_txns += 1\n",
    "        return rest\n",
    "\n",
    "    def get_account(self, to_drop):\n",
    "        \"\"\"\n",
    "        Номер счета входящего/исходящего перевода\n",
    "        to_drop - bool. Перевод другому дропу в нашем банке или нет.\n",
    "        \"\"\"\n",
    "        # Фильтруем accounts исключая свой счет и выбирая дропов. Для случая если to_drop\n",
    "        drop_accounts = self.accounts.loc[(self.accounts.account_id != self.account) & (self.accounts.is_drop == True)]\n",
    "\n",
    "        # Если надо отправить другому дропу в нашем банке. При условии что есть другие дропы на текущий момент\n",
    "        if to_drop and not drop_accounts.empty: \n",
    "            account = drop_accounts.account_id.sample(1).iat[0]\n",
    "            # Добавляем этот счет в использованные как последнюю запись в серии\n",
    "            self.used_accounts.loc[self.used_accounts.shape[0]] = account\n",
    "            return account\n",
    "\n",
    "        # Если отправляем/получаем из другого банка.  \n",
    "        # Семплируем номер внешнего счета который еще не использовался\n",
    "        account = self.outer_accounts.loc[~(self.outer_accounts.isin(self.used_accounts))].sample(1).iat[0]\n",
    "        # Добавляем этот счет в использованные как последнюю запись в серии\n",
    "        self.used_accounts.loc[self.used_accounts.shape[0]] = account\n",
    "        \n",
    "        return account\n",
    "\n",
    "    def reset_cache(self, balance=True, used_accounts=True, chunk_size=True, batch_txns=True):\n",
    "        \"\"\"\n",
    "        Сброс кэшированных значений\n",
    "        По умолчанию сбрасывается всё. Если что-то надо оставить, то надо выставить False\n",
    "        для этого\n",
    "        -----------------\n",
    "        balance - bool\n",
    "        used_accounts - bool\n",
    "        chunk_size - bool\n",
    "        batch_txns - bool\n",
    "        \"\"\"\n",
    "        if balance:\n",
    "            self.balance = 0\n",
    "        if used_accounts:\n",
    "            self.used_accounts = pd.Series(name=\"account_id\")\n",
    "        if chunk_size:\n",
    "            self.chunk_size = 0\n",
    "        if batch_txns:\n",
    "            self.batch_txns = 0"
   ]
  },
  {
   "cell_type": "code",
   "execution_count": 250,
   "id": "718ea907-3b64-4f31-944a-d28f2d2d39f7",
   "metadata": {},
   "outputs": [],
   "source": [
    "drop_client_test = DropClient(accounts=accounts, account=1, outer_accounts=outer_accounts)"
   ]
  },
  {
   "cell_type": "code",
   "execution_count": 177,
   "id": "9672b494-3a33-4420-99dc-99fbef44fc59",
   "metadata": {},
   "outputs": [
    {
     "data": {
      "text/plain": [
       "np.float64(40500.0)"
      ]
     },
     "execution_count": 177,
     "metadata": {},
     "output_type": "execute_result"
    }
   ],
   "source": [
    "drop_client_test.receive(declined=True)"
   ]
  },
  {
   "cell_type": "code",
   "execution_count": 178,
   "id": "4ac5e4e5-d8eb-4371-b4d0-013729a3f51d",
   "metadata": {},
   "outputs": [
    {
     "data": {
      "text/plain": [
       "0"
      ]
     },
     "execution_count": 178,
     "metadata": {},
     "output_type": "execute_result"
    }
   ],
   "source": [
    "drop_client_test.balance"
   ]
  },
  {
   "cell_type": "code",
   "execution_count": 179,
   "id": "209abd30-ad70-4c08-a59a-c82fe6f7db81",
   "metadata": {},
   "outputs": [
    {
     "data": {
      "text/plain": [
       "np.float64(29500.0)"
      ]
     },
     "execution_count": 179,
     "metadata": {},
     "output_type": "execute_result"
    }
   ],
   "source": [
    "drop_client_test.receive(declined=False)"
   ]
  },
  {
   "cell_type": "code",
   "execution_count": 131,
   "id": "50f70481-e31e-48a5-912e-d4a51bc01d42",
   "metadata": {},
   "outputs": [
    {
     "data": {
      "text/plain": [
       "15000"
      ]
     },
     "execution_count": 131,
     "metadata": {},
     "output_type": "execute_result"
    }
   ],
   "source": [
    "drop_client_test.reset_cache()\n",
    "drop_client_test.update_balance(amount=15000, add=True)\n",
    "drop_client_test.balance"
   ]
  },
  {
   "cell_type": "code",
   "execution_count": 180,
   "id": "7b38fa83-a33b-4ea8-81f1-41fb92824944",
   "metadata": {},
   "outputs": [
    {
     "data": {
      "text/plain": [
       "[np.int64(15000),\n",
       " np.int64(5000),\n",
       " np.int64(5000),\n",
       " np.int64(10000),\n",
       " np.int64(20000),\n",
       " np.int64(5000),\n",
       " np.int64(5000),\n",
       " np.int64(5000),\n",
       " np.int64(15000),\n",
       " np.int64(15000)]"
      ]
     },
     "execution_count": 180,
     "metadata": {},
     "output_type": "execute_result"
    }
   ],
   "source": [
    "drop_client_test.batch_txns = 0\n",
    "# Проверка что размер чанка меняется если batch_txns равно нулю\n",
    "[drop_client_test.get_chunk_size(online=True, atm_min=10000, atm_share=0.5, round=500, start=5000, stop=25000, step=5000) for _ in range(10)]"
   ]
  },
  {
   "cell_type": "code",
   "execution_count": 255,
   "id": "4ff67965-141a-444a-a148-4bdb4163c659",
   "metadata": {},
   "outputs": [
    {
     "data": {
      "text/html": [
       "<div>\n",
       "<style scoped>\n",
       "    .dataframe tbody tr th:only-of-type {\n",
       "        vertical-align: middle;\n",
       "    }\n",
       "\n",
       "    .dataframe tbody tr th {\n",
       "        vertical-align: top;\n",
       "    }\n",
       "\n",
       "    .dataframe thead th {\n",
       "        text-align: right;\n",
       "    }\n",
       "</style>\n",
       "<table border=\"1\" class=\"dataframe\">\n",
       "  <thead>\n",
       "    <tr style=\"text-align: right;\">\n",
       "      <th></th>\n",
       "      <th>chunk_size</th>\n",
       "    </tr>\n",
       "  </thead>\n",
       "  <tbody>\n",
       "    <tr>\n",
       "      <th>0</th>\n",
       "      <td>25000</td>\n",
       "    </tr>\n",
       "    <tr>\n",
       "      <th>1</th>\n",
       "      <td>20000</td>\n",
       "    </tr>\n",
       "    <tr>\n",
       "      <th>2</th>\n",
       "      <td>20000</td>\n",
       "    </tr>\n",
       "    <tr>\n",
       "      <th>3</th>\n",
       "      <td>10000</td>\n",
       "    </tr>\n",
       "    <tr>\n",
       "      <th>4</th>\n",
       "      <td>15000</td>\n",
       "    </tr>\n",
       "  </tbody>\n",
       "</table>\n",
       "</div>"
      ],
      "text/plain": [
       "   chunk_size\n",
       "0       25000\n",
       "1       20000\n",
       "2       20000\n",
       "3       10000\n",
       "4       15000"
      ]
     },
     "execution_count": 255,
     "metadata": {},
     "output_type": "execute_result"
    }
   ],
   "source": [
    "# Проверка что размер чанка не меняется если batch_txns не равно нулю\n",
    "drop_client_test.batch_txns = 1\n",
    "chunks_list = [drop_client_test.get_chunk_size(online=True, atm_min=10000, atm_share=0.5, \\\n",
    "                                                 round=500, rand_rate=0.9, start=5000, stop=30000, step=5000) for _ in range(1000)]\n",
    "chunks_df = pd.DataFrame(pd.Series(chunks_list, name=\"chunk_size\"))\n",
    "chunks_df.head()"
   ]
  },
  {
   "cell_type": "code",
   "execution_count": 256,
   "id": "721fb127-3e77-4a57-a2c1-e021cba8b12b",
   "metadata": {},
   "outputs": [
    {
     "data": {
      "text/plain": [
       "array([ 5000, 10000, 15000, 20000])"
      ]
     },
     "execution_count": 256,
     "metadata": {},
     "output_type": "execute_result"
    }
   ],
   "source": [
    "np.arange(start=5000, stop=25000, step=5000)"
   ]
  },
  {
   "cell_type": "code",
   "execution_count": 257,
   "id": "d0f47d47-6d16-4393-a0db-cf77fd15312d",
   "metadata": {},
   "outputs": [
    {
     "data": {
      "text/html": [
       "<div>\n",
       "<style scoped>\n",
       "    .dataframe tbody tr th:only-of-type {\n",
       "        vertical-align: middle;\n",
       "    }\n",
       "\n",
       "    .dataframe tbody tr th {\n",
       "        vertical-align: top;\n",
       "    }\n",
       "\n",
       "    .dataframe thead th {\n",
       "        text-align: right;\n",
       "    }\n",
       "</style>\n",
       "<table border=\"1\" class=\"dataframe\">\n",
       "  <thead>\n",
       "    <tr style=\"text-align: right;\">\n",
       "      <th></th>\n",
       "      <th>chunk_size</th>\n",
       "      <th>prev_size</th>\n",
       "      <th>eq_to_prev</th>\n",
       "    </tr>\n",
       "  </thead>\n",
       "  <tbody>\n",
       "    <tr>\n",
       "      <th>0</th>\n",
       "      <td>25000</td>\n",
       "      <td>NaN</td>\n",
       "      <td>False</td>\n",
       "    </tr>\n",
       "    <tr>\n",
       "      <th>1</th>\n",
       "      <td>20000</td>\n",
       "      <td>25000.0</td>\n",
       "      <td>False</td>\n",
       "    </tr>\n",
       "    <tr>\n",
       "      <th>2</th>\n",
       "      <td>20000</td>\n",
       "      <td>20000.0</td>\n",
       "      <td>True</td>\n",
       "    </tr>\n",
       "  </tbody>\n",
       "</table>\n",
       "</div>"
      ],
      "text/plain": [
       "   chunk_size  prev_size  eq_to_prev\n",
       "0       25000        NaN       False\n",
       "1       20000    25000.0       False\n",
       "2       20000    20000.0        True"
      ]
     },
     "execution_count": 257,
     "metadata": {},
     "output_type": "execute_result"
    }
   ],
   "source": [
    "chunks_df[\"prev_size\"] = chunks_df.chunk_size.shift(1)\n",
    "chunks_df[\"eq_to_prev\"] = chunks_df[\"chunk_size\"] == chunks_df[\"prev_size\"]\n",
    "chunks_df.head(3)"
   ]
  },
  {
   "cell_type": "code",
   "execution_count": 258,
   "id": "2ff23055-f704-4c0c-8e59-a52f759e50d7",
   "metadata": {},
   "outputs": [
    {
     "data": {
      "text/plain": [
       "eq_to_prev\n",
       "False    0.712\n",
       "True     0.288\n",
       "Name: proportion, dtype: float64"
      ]
     },
     "execution_count": 258,
     "metadata": {},
     "output_type": "execute_result"
    }
   ],
   "source": [
    "chunks_df.eq_to_prev.value_counts(normalize=True)"
   ]
  },
  {
   "cell_type": "code",
   "execution_count": 134,
   "id": "55e8a0b2-4fec-4267-847c-3aedfb653cd4",
   "metadata": {},
   "outputs": [
    {
     "data": {
      "text/plain": [
       "np.int64(24643)"
      ]
     },
     "execution_count": 134,
     "metadata": {},
     "output_type": "execute_result"
    }
   ],
   "source": [
    "drop_client_test.get_account(to_drop=False)"
   ]
  },
  {
   "cell_type": "code",
   "execution_count": 135,
   "id": "d503a43d-5d53-469b-8737-2d9cafe3d6b5",
   "metadata": {},
   "outputs": [
    {
     "data": {
      "text/plain": [
       "(0    24643\n",
       " Name: account_id, dtype: int64,\n",
       " np.int64(5000),\n",
       " 15000)"
      ]
     },
     "execution_count": 135,
     "metadata": {},
     "output_type": "execute_result"
    }
   ],
   "source": [
    "drop_client_test.used_accounts, drop_client_test.chunk_size, drop_client_test.balance"
   ]
  },
  {
   "cell_type": "code",
   "execution_count": 136,
   "id": "ff6512b2-44d5-416f-b6ee-f1f51003d435",
   "metadata": {},
   "outputs": [],
   "source": [
    "drop_client_test.reset_cache()"
   ]
  },
  {
   "cell_type": "code",
   "execution_count": 137,
   "id": "e4e76105-2d2d-437f-9283-9ac73cac8cf4",
   "metadata": {},
   "outputs": [
    {
     "data": {
      "text/plain": [
       "(Series([], Name: account_id, dtype: object), 0, 0)"
      ]
     },
     "execution_count": 137,
     "metadata": {},
     "output_type": "execute_result"
    }
   ],
   "source": [
    "drop_client_test.used_accounts, drop_client_test.chunk_size, drop_client_test.balance"
   ]
  },
  {
   "cell_type": "code",
   "execution_count": 138,
   "id": "f8048cd4-80c9-4396-8016-51afb73d6346",
   "metadata": {},
   "outputs": [
    {
     "data": {
      "text/plain": [
       "-7500"
      ]
     },
     "execution_count": 138,
     "metadata": {},
     "output_type": "execute_result"
    }
   ],
   "source": [
    "drop_client_test.update_balance(amount=7500)\n",
    "drop_client_test.balance"
   ]
  },
  {
   "cell_type": "code",
   "execution_count": 139,
   "id": "8672c04b-5dba-4690-818b-d01da1a60f2d",
   "metadata": {},
   "outputs": [
    {
     "data": {
      "text/plain": [
       "2400"
      ]
     },
     "execution_count": 139,
     "metadata": {},
     "output_type": "execute_result"
    }
   ],
   "source": [
    "drop_client_test.update_balance(amount=9900, add=True)\n",
    "drop_client_test.balance"
   ]
  },
  {
   "cell_type": "code",
   "execution_count": 140,
   "id": "d95be707-7f4d-4630-8e56-af0ec1eb964f",
   "metadata": {},
   "outputs": [
    {
     "data": {
      "text/plain": [
       "10000"
      ]
     },
     "execution_count": 140,
     "metadata": {},
     "output_type": "execute_result"
    }
   ],
   "source": [
    "chunk_size = drop_client_test.get_chunk_size(start=5000, stop=25000, step=5000)\n",
    "chunk_size"
   ]
  },
  {
   "cell_type": "code",
   "execution_count": 1233,
   "id": "b197cb81-fca7-4b5b-9aca-efa565ae07e1",
   "metadata": {},
   "outputs": [
    {
     "data": {
      "text/plain": [
       "np.float64(8000.0)"
      ]
     },
     "execution_count": 1233,
     "metadata": {},
     "output_type": "execute_result"
    }
   ],
   "source": [
    "chunk_size = drop_client_test.get_chunk_size(share=0.25)\n",
    "chunk_size"
   ]
  },
  {
   "cell_type": "code",
   "execution_count": 1658,
   "id": "5317f255-1b79-4b9a-96e8-7fcf9610d703",
   "metadata": {},
   "outputs": [
    {
     "data": {
      "text/plain": [
       "np.float64(17000.0)"
      ]
     },
     "execution_count": 1658,
     "metadata": {},
     "output_type": "execute_result"
    }
   ],
   "source": [
    "drop_client_test.one_operation(amount=chunk_size, declined=False, in_chunks=True)"
   ]
  },
  {
   "cell_type": "code",
   "execution_count": 1659,
   "id": "b8bf4d13-af6c-40b4-ac55-6bca1204bf76",
   "metadata": {},
   "outputs": [
    {
     "data": {
      "text/plain": [
       "(np.float64(17500.0), 1)"
      ]
     },
     "execution_count": 1659,
     "metadata": {},
     "output_type": "execute_result"
    }
   ],
   "source": [
    "drop_client_test.balance, drop_client_test.batch_txns"
   ]
  },
  {
   "cell_type": "code",
   "execution_count": 1236,
   "id": "4433045a-9811-4478-b305-b621d31c44e1",
   "metadata": {},
   "outputs": [
    {
     "data": {
      "text/plain": [
       "np.float64(25000.0)"
      ]
     },
     "execution_count": 1236,
     "metadata": {},
     "output_type": "execute_result"
    }
   ],
   "source": [
    "drop_client_test.one_operation(amount=chunk_size, share=1, declined=True, in_chunks=True)\n",
    "drop_client_test.balance"
   ]
  },
  {
   "cell_type": "code",
   "execution_count": 1237,
   "id": "4a0c9489-cabe-4fef-aba4-4d0204a748c5",
   "metadata": {},
   "outputs": [
    {
     "data": {
      "text/plain": [
       "np.float64(25000.0)"
      ]
     },
     "execution_count": 1237,
     "metadata": {},
     "output_type": "execute_result"
    }
   ],
   "source": [
    "drop_client_test.one_operation(amount=0, share=1, declined=True, in_chunks=False)\n",
    "drop_client_test.balance"
   ]
  },
  {
   "cell_type": "code",
   "execution_count": 1243,
   "id": "158780cf-8b49-488e-b773-4f1b7a7e18d9",
   "metadata": {},
   "outputs": [
    {
     "data": {
      "text/plain": [
       "np.float64(152000.0)"
      ]
     },
     "execution_count": 1243,
     "metadata": {},
     "output_type": "execute_result"
    }
   ],
   "source": [
    "drop_client_test.receive(declined=False, low=100000, high=500000, mean=250000, std=150000, round=1000)\n",
    "drop_client_test.balance"
   ]
  },
  {
   "cell_type": "code",
   "execution_count": null,
   "id": "e8af6e31-9852-400a-a784-85609636b7b3",
   "metadata": {},
   "outputs": [],
   "source": [
    "drop_client_test.balance"
   ]
  },
  {
   "cell_type": "code",
   "execution_count": 1239,
   "id": "0533827c-ac6c-4870-affb-4c106d370e60",
   "metadata": {},
   "outputs": [
    {
     "data": {
      "text/plain": [
       "np.float64(0.0)"
      ]
     },
     "execution_count": 1239,
     "metadata": {},
     "output_type": "execute_result"
    }
   ],
   "source": [
    "drop_client_test.one_operation(amount=0, share=0.5, declined=False, in_chunks=True)\n",
    "drop_client_test.balance"
   ]
  },
  {
   "cell_type": "code",
   "execution_count": 1153,
   "id": "b6d0d167-e706-4185-b6ee-204dae43a89c",
   "metadata": {},
   "outputs": [
    {
     "data": {
      "text/plain": [
       "np.float64(38500.0)"
      ]
     },
     "execution_count": 1153,
     "metadata": {},
     "output_type": "execute_result"
    }
   ],
   "source": [
    "drop_client_test.balance"
   ]
  },
  {
   "cell_type": "code",
   "execution_count": 1166,
   "id": "0c95b447-4c3f-487a-bc9b-78f93123bd90",
   "metadata": {},
   "outputs": [
    {
     "data": {
      "text/plain": [
       "np.float64(38500.0)"
      ]
     },
     "execution_count": 1166,
     "metadata": {},
     "output_type": "execute_result"
    }
   ],
   "source": [
    "drop_client_test.transfer(declined=True, in_chunks=False)"
   ]
  },
  {
   "cell_type": "code",
   "execution_count": 1167,
   "id": "405ae12b-15bc-4d93-bee9-dec4c6c40d26",
   "metadata": {},
   "outputs": [
    {
     "data": {
      "text/plain": [
       "np.float64(38500.0)"
      ]
     },
     "execution_count": 1167,
     "metadata": {},
     "output_type": "execute_result"
    }
   ],
   "source": [
    "drop_client_test.balance"
   ]
  },
  {
   "cell_type": "code",
   "execution_count": 1242,
   "id": "4b02af40-193b-4421-8cfa-c6e081361bcb",
   "metadata": {},
   "outputs": [],
   "source": [
    "drop_client_test.reset_balance()"
   ]
  },
  {
   "cell_type": "code",
   "execution_count": 1173,
   "id": "6454c390-5809-4095-b11e-82dfaecf6f78",
   "metadata": {},
   "outputs": [
    {
     "data": {
      "text/plain": [
       "np.float64(186491.0)"
      ]
     },
     "execution_count": 1173,
     "metadata": {},
     "output_type": "execute_result"
    }
   ],
   "source": []
  },
  {
   "cell_type": "code",
   "execution_count": 1180,
   "id": "d39da121-4639-4d67-a50d-cd3d75a2a489",
   "metadata": {},
   "outputs": [
    {
     "data": {
      "text/plain": [
       "np.float64(93000.0)"
      ]
     },
     "execution_count": 1180,
     "metadata": {},
     "output_type": "execute_result"
    }
   ],
   "source": [
    "drop_client_test.atm(share=0.5, declined=False)"
   ]
  },
  {
   "cell_type": "code",
   "execution_count": 1181,
   "id": "098ccc24-f156-4867-a362-2b1617f99724",
   "metadata": {},
   "outputs": [
    {
     "data": {
      "text/plain": [
       "np.float64(93491.0)"
      ]
     },
     "execution_count": 1181,
     "metadata": {},
     "output_type": "execute_result"
    }
   ],
   "source": [
    "drop_client_test.balance"
   ]
  },
  {
   "cell_type": "code",
   "execution_count": 1009,
   "id": "04fb747e-77ef-4a40-9cac-17a430703bad",
   "metadata": {},
   "outputs": [
    {
     "data": {
      "text/plain": [
       "np.int64(15000)"
      ]
     },
     "execution_count": 1009,
     "metadata": {},
     "output_type": "execute_result"
    }
   ],
   "source": [
    "chunk_size = drop_client_test.get_chunk_size(start=5000, stop=25000, step=5000)\n",
    "chunk_size"
   ]
  },
  {
   "cell_type": "code",
   "execution_count": 1011,
   "id": "cf819fdf-0fc1-451a-8d08-ff9fc9e8f9c2",
   "metadata": {},
   "outputs": [
    {
     "data": {
      "text/plain": [
       "np.int64(15000)"
      ]
     },
     "execution_count": 1011,
     "metadata": {},
     "output_type": "execute_result"
    }
   ],
   "source": [
    "# drop_client_test.transfer(batch=3, chunk_size=chunk_size)"
   ]
  },
  {
   "cell_type": "code",
   "execution_count": 1012,
   "id": "d74e5c63-5fc8-47c1-a61f-1bd9a1704d45",
   "metadata": {},
   "outputs": [
    {
     "data": {
      "text/plain": [
       "np.float64(43141.0)"
      ]
     },
     "execution_count": 1012,
     "metadata": {},
     "output_type": "execute_result"
    }
   ],
   "source": [
    "drop_client_test.balance"
   ]
  },
  {
   "cell_type": "code",
   "execution_count": 1013,
   "id": "1cafee26-b692-484f-ab2f-feb6364ef30a",
   "metadata": {},
   "outputs": [
    {
     "data": {
      "text/plain": [
       "np.float64(13141.0)"
      ]
     },
     "execution_count": 1013,
     "metadata": {},
     "output_type": "execute_result"
    }
   ],
   "source": [
    "# drop_client_test.transfer(batch=3, chunk_size=chunk_size)\n",
    "# drop_client_test.transfer(batch=3, chunk_size=chunk_size)\n",
    "# drop_client_test.transfer(batch=3, chunk_size=chunk_size)"
   ]
  },
  {
   "cell_type": "code",
   "execution_count": 1014,
   "id": "ba2a6894-0eaf-42e7-be9b-2e684fa0e802",
   "metadata": {},
   "outputs": [
    {
     "data": {
      "text/plain": [
       "0"
      ]
     },
     "execution_count": 1014,
     "metadata": {},
     "output_type": "execute_result"
    }
   ],
   "source": [
    "drop_client_test.balance"
   ]
  },
  {
   "cell_type": "code",
   "execution_count": 1015,
   "id": "d7ed77a1-ecba-4bb1-b0c1-4cedd6d84621",
   "metadata": {},
   "outputs": [
    {
     "data": {
      "text/plain": [
       "np.float64(26000.0)"
      ]
     },
     "execution_count": 1015,
     "metadata": {},
     "output_type": "execute_result"
    }
   ],
   "source": [
    "# drop_client_test.receive(batch=4)"
   ]
  },
  {
   "cell_type": "code",
   "execution_count": 1016,
   "id": "2d5e40fb-5195-43b9-a463-867ba630a5a4",
   "metadata": {},
   "outputs": [
    {
     "data": {
      "text/plain": [
       "0"
      ]
     },
     "execution_count": 1016,
     "metadata": {},
     "output_type": "execute_result"
    }
   ],
   "source": [
    "# drop_client_test.reset_balance()\n",
    "# drop_client_test.balance"
   ]
  },
  {
   "cell_type": "markdown",
   "id": "81fc35e5-6bec-4006-ae8e-5a5a45f3c066",
   "metadata": {},
   "source": [
    "**тест `get_account`**"
   ]
  },
  {
   "cell_type": "code",
   "execution_count": 141,
   "id": "324eeb2f-f13b-4462-bcb3-b7ff96d852d0",
   "metadata": {},
   "outputs": [],
   "source": [
    "test_accounts = accounts.sample(1000).copy()"
   ]
  },
  {
   "cell_type": "code",
   "execution_count": 142,
   "id": "3c01c39a-ac16-4cd7-904e-8994cbed6413",
   "metadata": {},
   "outputs": [],
   "source": [
    "# Сделаем 10 процентов дропами для тестов\n",
    "\n",
    "for client in test_accounts.itertuples():\n",
    "    if np.random.uniform(0, 1) < 0.101:\n",
    "        test_accounts.loc[client.Index, \"is_drop\"] = True"
   ]
  },
  {
   "cell_type": "code",
   "execution_count": 143,
   "id": "a7caeea7-9b5a-48a5-9152-6d1d1bb6bad9",
   "metadata": {},
   "outputs": [
    {
     "data": {
      "text/plain": [
       "is_drop\n",
       "False    0.909\n",
       "True     0.091\n",
       "Name: proportion, dtype: float64"
      ]
     },
     "execution_count": 143,
     "metadata": {},
     "output_type": "execute_result"
    }
   ],
   "source": [
    "test_accounts[\"is_drop\"].value_counts(normalize=True)"
   ]
  },
  {
   "cell_type": "code",
   "execution_count": 144,
   "id": "417610c8-4679-4faf-ae74-979789ee67b7",
   "metadata": {},
   "outputs": [],
   "source": [
    "test_acc = test_accounts.account_id.sample(1, random_state=33).iat[0]\n",
    "\n",
    "drop_cl_test_accs = DropClient(accounts=test_accounts, account=test_acc, outer_accounts=outer_accounts)"
   ]
  },
  {
   "cell_type": "code",
   "execution_count": 145,
   "id": "5725b3f8-ec27-4254-9212-292dbda40d8a",
   "metadata": {},
   "outputs": [
    {
     "data": {
      "text/plain": [
       "458    10458\n",
       "Name: account_id, dtype: int64"
      ]
     },
     "execution_count": 145,
     "metadata": {},
     "output_type": "execute_result"
    }
   ],
   "source": [
    "test_accounts.account_id.sample(1, random_state=33)"
   ]
  },
  {
   "cell_type": "code",
   "execution_count": 146,
   "id": "2253baf9-c01e-4733-b947-a7033d2efa06",
   "metadata": {},
   "outputs": [
    {
     "data": {
      "text/plain": [
       "np.int64(22412)"
      ]
     },
     "execution_count": 146,
     "metadata": {},
     "output_type": "execute_result"
    }
   ],
   "source": [
    "drop_cl_test_accs.get_account(to_drop=False)"
   ]
  },
  {
   "cell_type": "code",
   "execution_count": 147,
   "id": "195f1938-5385-4448-a14c-dafa4a13f5cf",
   "metadata": {},
   "outputs": [
    {
     "data": {
      "text/plain": [
       "0    22412\n",
       "Name: account_id, dtype: int64"
      ]
     },
     "execution_count": 147,
     "metadata": {},
     "output_type": "execute_result"
    }
   ],
   "source": [
    "drop_cl_test_accs.used_accounts"
   ]
  },
  {
   "cell_type": "code",
   "execution_count": 148,
   "id": "d964daba-e38b-4fa9-99f3-cedf42223944",
   "metadata": {},
   "outputs": [
    {
     "data": {
      "text/plain": [
       "np.int64(11684)"
      ]
     },
     "execution_count": 148,
     "metadata": {},
     "output_type": "execute_result"
    }
   ],
   "source": [
    "drop_to = drop_cl_test_accs.get_account(to_drop=True)\n",
    "drop_to"
   ]
  },
  {
   "cell_type": "code",
   "execution_count": 149,
   "id": "ef8c3fe4-eac4-44aa-8a5d-e892f24fbcb0",
   "metadata": {},
   "outputs": [
    {
     "data": {
      "text/html": [
       "<div>\n",
       "<style scoped>\n",
       "    .dataframe tbody tr th:only-of-type {\n",
       "        vertical-align: middle;\n",
       "    }\n",
       "\n",
       "    .dataframe tbody tr th {\n",
       "        vertical-align: top;\n",
       "    }\n",
       "\n",
       "    .dataframe thead th {\n",
       "        text-align: right;\n",
       "    }\n",
       "</style>\n",
       "<table border=\"1\" class=\"dataframe\">\n",
       "  <thead>\n",
       "    <tr style=\"text-align: right;\">\n",
       "      <th></th>\n",
       "      <th>client_id</th>\n",
       "      <th>account_id</th>\n",
       "      <th>is_drop</th>\n",
       "    </tr>\n",
       "  </thead>\n",
       "  <tbody>\n",
       "    <tr>\n",
       "      <th>1684</th>\n",
       "      <td>1787</td>\n",
       "      <td>11684</td>\n",
       "      <td>True</td>\n",
       "    </tr>\n",
       "  </tbody>\n",
       "</table>\n",
       "</div>"
      ],
      "text/plain": [
       "      client_id  account_id  is_drop\n",
       "1684       1787       11684     True"
      ]
     },
     "execution_count": 149,
     "metadata": {},
     "output_type": "execute_result"
    }
   ],
   "source": [
    "test_accounts.loc[test_accounts.account_id == drop_to]"
   ]
  },
  {
   "cell_type": "code",
   "execution_count": 150,
   "id": "697b2679-cc6d-4faf-8c5b-b55ae5c4b78d",
   "metadata": {},
   "outputs": [
    {
     "data": {
      "text/plain": [
       "0    22412\n",
       "1    11684\n",
       "Name: account_id, dtype: int64"
      ]
     },
     "execution_count": 150,
     "metadata": {},
     "output_type": "execute_result"
    }
   ],
   "source": [
    "drop_cl_test_accs.used_accounts"
   ]
  },
  {
   "cell_type": "code",
   "execution_count": 151,
   "id": "79b5428e-3d7a-4204-a2cf-1d8868485bf1",
   "metadata": {},
   "outputs": [
    {
     "data": {
      "text/plain": [
       "0"
      ]
     },
     "execution_count": 151,
     "metadata": {},
     "output_type": "execute_result"
    }
   ],
   "source": [
    "drop_cl_test_accs.balance"
   ]
  },
  {
   "cell_type": "markdown",
   "id": "01b32401-cd2e-45b8-abb0-6be9fb68197c",
   "metadata": {},
   "source": [
    "## Класс `DropTimeHandler`\n",
    "- управление временем транзакций дропа"
   ]
  },
  {
   "cell_type": "code",
   "execution_count": 460,
   "id": "dc2c6b55-46b0-4709-83af-9d89727ed534",
   "metadata": {},
   "outputs": [],
   "source": [
    "class DropTimeHandler:\n",
    "    \"\"\"\n",
    "    Управление временем транзакций дропа\n",
    "    \"\"\"\n",
    "    def __init__(self, configs: DropConfigs, start_unix=0, last_unix=0, in_lim=2, out_lim=5, in_txns=0, out_txns=0):\n",
    "        \"\"\"\n",
    "        timestamps - pd.DataFrame. Диапазон timestamp-ов с колонками: | timestamp | unix_time |\n",
    "        in_lim - int. Количество входящих транзакций после которых дроп уходит на паузу\n",
    "        out_lim - int. Количество исходящих транзакций после которых дроп уходит на паузу\n",
    "        start_unix - int. Во сколько была первая транзакция в периоде. Нужная для отсчета следующего периода\n",
    "                          активности. Unix время в секундах. \n",
    "        last_unix - int. Время последней транзакции. Unix время в секундах.\n",
    "        \"\"\"\n",
    "        self.configs = configs\n",
    "        self.start_unix = start_unix\n",
    "        self.last_unix = last_unix\n",
    "        self.in_lim = in_lim\n",
    "        self.out_lim = out_lim\n",
    "        self.in_txns = in_txns\n",
    "        self.out_txns = out_txns\n",
    "\n",
    "\n",
    "    def get_time_delta(self, two_way, minutes=True):\n",
    "        \"\"\"\n",
    "        Получение случайного интервала времени в секундах или минутах из равномерного распределения\n",
    "        ---------------------\n",
    "        two_way - bool. Дельта может быть <= 0 и > 0. Если False то только > 0\n",
    "        minutes - bool. Минуты или секунды\n",
    "        \"\"\"\n",
    "        if two_way:\n",
    "            delta = np.random.uniform(self.configs.two_way_delta[\"min\"], self.configs.two_way_delta[\"max\"])\n",
    "        else:\n",
    "            delta = np.random.uniform(self.configs.pos_delta[\"min\"], self.configs.pos_delta[\"max\"])\n",
    "\n",
    "        if minutes:\n",
    "            return round(delta)\n",
    "            \n",
    "        return round(delta * 60)\n",
    "    \n",
    "\n",
    "    def txns_count(self, receive=False, reset=False):\n",
    "        \"\"\"\n",
    "        Внутренний счетчик входящих и исходящих транзакций за период активности.\n",
    "        Имеет 4 варианта действий для self.in_txns и self.out_txns: \n",
    "        1. сброс счетчиков на in=1, out=0; \n",
    "        2. Сброс на in=0, out=1;\n",
    "        3. in + 1;\n",
    "        4. out + 1;\n",
    "        ---------------------\n",
    "        receive: bool. Входящая транзакция или исходящая.\n",
    "        reset: bool. Начать отчет заново или нет.\n",
    "        \"\"\"\n",
    "        # Если транзакция входящая. Период начинается заново и с входящей транзакции\n",
    "        # Эта транзакция будет первой в периоде\n",
    "        if receive and reset:\n",
    "            self.in_txns = 1\n",
    "            self.out_txns = 0\n",
    "            return\n",
    "        # Исходящая транзакция и период начинается заново. Эта транзакция будет первой входящей в периоде\n",
    "        if reset:\n",
    "            self.in_txns = 0\n",
    "            self.out_txns = 1\n",
    "            return\n",
    "        # Входящая транзакция и период продолжается. Прибавлем счетчик входящих.\n",
    "        if receive:\n",
    "            self.in_txns += 1\n",
    "            return\n",
    "        # Исходящая транзакция и период продолжается. Прибавлем счетчик исходящих.\n",
    "        self.out_txns += 1\n",
    "\n",
    "\n",
    "    def get_txn_time(self, receive, in_txns, lag_interval=1440):\n",
    "        \"\"\"\n",
    "        Генерация времени транзакции\n",
    "        ------------------\n",
    "        receive: bool. Текущая транзакция будет входящей или исходящей.\n",
    "        in_txns: int. Абсолютное количество входящих транзакций на текущий момент, не считая генерируемую.\n",
    "        lag_interval: int. Желаемый лаг по времени от последней транзакции в минутах.\n",
    "                            Используется для перерывов в активности дропа. По умолчанию 1440 минут т.е. 24 часа\n",
    "        \"\"\"\n",
    "\n",
    "        # Если это самая первая транзакция. Т.к. активность дропа начинается с входящей транзакции\n",
    "        if receive and in_txns == 0:\n",
    "            time_sample = self.configs.timestamps.sample(1)\n",
    "            txn_time = time_sample.timestamp.iat[0]\n",
    "            self.last_unix = time_sample.unix_time.iat[0]\n",
    "            self.start_unix = self.last_unix\n",
    "            self.in_txns += 1\n",
    "            return txn_time, self.last_unix\n",
    "\n",
    "        # Условия для не первых транзакций\n",
    "\n",
    "        # Если достигнут лимит входящих транзакций для периода активности\n",
    "        if self.in_txns == self.in_lim:\n",
    "            # Генерация дельты, чтобы время выглядело не ровным, а случайным.\n",
    "            # Слагаем её с lag_interval\n",
    "            time_delta = self.get_time_delta(two_way=True)\n",
    "            lag_interval = self.configs.lag_interval + time_delta\n",
    "            # print(time_delta, lag_interval)\n",
    "            # Сбрасываем счетчик входящих и исходящих транзакций. Отсчет заново для нового периода\n",
    "            # Входящие = 1, исходящие = 0\n",
    "            self.txns_count(receive=receive, reset=True)\n",
    "            # Создаем время и записываем его как время последней транзакции в целом\n",
    "            # и как время первой транзакции в новом периоде\n",
    "            last_time, self.last_unix = derive_from_last_time(last_txn_unix=self.start_unix, lag_interval=lag_interval)\n",
    "            self.start_unix = self.last_unix\n",
    "            return last_time, self.last_unix\n",
    "\n",
    "        # Если достигнут лимит исходящих транзакций для периода активности\n",
    "        elif self.out_txns == self.out_lim:\n",
    "            time_delta = self.get_time_delta(two_way=True)\n",
    "            lag_interval = self.configs.lag_interval + time_delta\n",
    "            # Входящие = 0, исходящие = 1\n",
    "            self.txns_count(receive=receive, reset=True)\n",
    "            # Создаем время и записываем его как время последней транзакции в целом\n",
    "            # и как время первой транзакции в новом периоде\n",
    "            last_time, self.last_unix = derive_from_last_time(last_txn_unix=self.start_unix, lag_interval=lag_interval)\n",
    "            self.start_unix = self.last_unix\n",
    "            return last_time, self.last_unix\n",
    "\n",
    "        # Тоже дельта, но не может быть <= 0 т.к. тут мы ее используем как lag_interval\n",
    "        # Это для случаев когда транзакция совершается в тот же период активности что и последняя\n",
    "        time_delta = self.get_time_delta(two_way=False)\n",
    "        print(time_delta)\n",
    "        last_time, self.last_unix = derive_from_last_time(last_txn_unix=self.last_unix, lag_interval=time_delta)\n",
    "        # +1 к счетчику соответствующего типа\n",
    "        self.txns_count(receive=receive, reset=False)\n",
    "\n",
    "        return last_time, self.last_unix\n",
    "    \n",
    "\n",
    "    def reset_cache(self):\n",
    "        \"\"\"\n",
    "        Очистка кэшированных данных в атрибутах:\n",
    "        self.start_unix\n",
    "        self.last_unix\n",
    "        self.in_txns\n",
    "        self.out_txns\n",
    "        \"\"\"\n",
    "        self.start_unix = 0\n",
    "        self.last_unix = 0\n",
    "        self.in_txns = 0\n",
    "        self.out_txns = 0"
   ]
  },
  {
   "cell_type": "markdown",
   "id": "ae1c5eff-2fd0-4b61-b3f7-ca4efe527087",
   "metadata": {},
   "source": [
    "**Тест `DropTimeHandeler`**"
   ]
  },
  {
   "cell_type": "code",
   "execution_count": 435,
   "id": "a48fdfb8-849e-43cc-8946-82a8d4ca09cc",
   "metadata": {},
   "outputs": [],
   "source": [
    "# Временный reload для разработки\n",
    "import data_generator.utils\n",
    "importlib.reload(data_generator.utils)\n",
    "import data_generator.fraud.drops.time\n",
    "importlib.reload(data_generator.fraud.drops.time)\n",
    "from data_generator.utils import DropConfigs\n",
    "from data_generator.fraud.drops.time import DropTimeHandler\n",
    "\n",
    "drop_time_hanler1 = DropTimeHandler(configs=drop_configs)"
   ]
  },
  {
   "cell_type": "code",
   "execution_count": 389,
   "id": "d3327057-d362-4750-971f-bb1f4b14462c",
   "metadata": {},
   "outputs": [
    {
     "data": {
      "text/plain": [
       "(np.float64(1.25), np.int64(-180), np.int64(180))"
      ]
     },
     "execution_count": 389,
     "metadata": {},
     "output_type": "execute_result"
    }
   ],
   "source": [
    "two_way_deltas1 = pd.Series([drop_time_hanler1.get_time_delta(two_way=True) for _ in range(1000)])\n",
    "two_way_deltas1.mean(), two_way_deltas1.min(), two_way_deltas1.max()"
   ]
  },
  {
   "cell_type": "code",
   "execution_count": 390,
   "id": "27e24fa9-0ccf-4b39-9eb5-69603a4b5ce8",
   "metadata": {},
   "outputs": [
    {
     "data": {
      "text/plain": [
       "(np.float64(105.04), np.int64(30), np.int64(180))"
      ]
     },
     "execution_count": 390,
     "metadata": {},
     "output_type": "execute_result"
    }
   ],
   "source": [
    "pos_deltas1 = pd.Series([drop_time_hanler1.get_time_delta(two_way=False) for _ in range(1000)])\n",
    "pos_deltas1.mean(), pos_deltas1.min(), pos_deltas1.max()"
   ]
  },
  {
   "cell_type": "code",
   "execution_count": 391,
   "id": "5f19815d-ad42-457a-a2b4-a63f2d3e0fc6",
   "metadata": {},
   "outputs": [],
   "source": [
    "for _ in range(3):\n",
    "    drop_time_hanler1.txns_count(receive=True, reset=False)\n",
    "    drop_time_hanler1.txns_count(receive=False, reset=False)"
   ]
  },
  {
   "cell_type": "code",
   "execution_count": 392,
   "id": "8628076f-56b6-4711-b979-e81b950a1cc9",
   "metadata": {},
   "outputs": [
    {
     "data": {
      "text/plain": [
       "(3, 3)"
      ]
     },
     "execution_count": 392,
     "metadata": {},
     "output_type": "execute_result"
    }
   ],
   "source": [
    "drop_time_hanler1.in_txns, drop_time_hanler1.out_txns"
   ]
  },
  {
   "cell_type": "code",
   "execution_count": 393,
   "id": "00a85d47-c78f-4917-9b49-97f899593376",
   "metadata": {},
   "outputs": [
    {
     "data": {
      "text/plain": [
       "(1, 0)"
      ]
     },
     "execution_count": 393,
     "metadata": {},
     "output_type": "execute_result"
    }
   ],
   "source": [
    "drop_time_hanler1.txns_count(receive=True, reset=True)\n",
    "drop_time_hanler1.in_txns, drop_time_hanler1.out_txns"
   ]
  },
  {
   "cell_type": "code",
   "execution_count": 394,
   "id": "271649e5-e6a1-44f5-9ff5-582a64839dbc",
   "metadata": {},
   "outputs": [
    {
     "data": {
      "text/plain": [
       "(0, 1)"
      ]
     },
     "execution_count": 394,
     "metadata": {},
     "output_type": "execute_result"
    }
   ],
   "source": [
    "drop_time_hanler1.in_txns = 2\n",
    "drop_time_hanler1.out_txns = 4\n",
    "drop_time_hanler1.txns_count(receive=False, reset=True)\n",
    "drop_time_hanler1.in_txns, drop_time_hanler1.out_txns"
   ]
  },
  {
   "cell_type": "markdown",
   "id": "c454f686-d69e-4f26-9605-384e5091eba8",
   "metadata": {},
   "source": [
    "**`DropTimeHandler.get_txn_time` тест**  \n",
    "Тест-кейсы\n",
    "- Если это самая первая транзакция. Т.к. активность дропа начинается с входящей транзакции\n",
    "- Не первая транзакция и достигнут лимит входящих транзакций для периода активности\n",
    "- Не первая транзакция и достигнут лимит исходящих транзакций для периода активности\n",
    "- Не первая транзакция. Лимиты не достигнуты. Транзакция входящая\n",
    "- Не первая транзакция. Лимиты не достигнуты. Транзакция исходящая "
   ]
  },
  {
   "cell_type": "code",
   "execution_count": 330,
   "id": "d818372d-c1ba-4b54-bd3c-ce026bc33a60",
   "metadata": {},
   "outputs": [
    {
     "data": {
      "text/plain": [
       "(Timestamp('2025-07-02 11:15:00'), 1751454900)"
      ]
     },
     "execution_count": 330,
     "metadata": {},
     "output_type": "execute_result"
    }
   ],
   "source": [
    "start_time = pd.to_datetime(\"2025-07-02 11:15:00\", format=\"%Y-%m-%d %H:%M:%S\")\n",
    "start_unix = pd_timestamp_to_unix(start_time)\n",
    "start_time, start_unix"
   ]
  },
  {
   "cell_type": "code",
   "execution_count": 331,
   "id": "ad52a6f7-e9fc-4faf-a38f-eabb87e35b1c",
   "metadata": {},
   "outputs": [
    {
     "data": {
      "text/plain": [
       "(Timestamp('2025-07-02 18:31:00'), 1751481060)"
      ]
     },
     "execution_count": 331,
     "metadata": {},
     "output_type": "execute_result"
    }
   ],
   "source": [
    "last_time = pd.to_datetime(\"2025-07-02 18:31:00\", format=\"%Y-%m-%d %H:%M:%S\")\n",
    "last_unix = pd_timestamp_to_unix(last_time)\n",
    "last_time, last_unix"
   ]
  },
  {
   "cell_type": "markdown",
   "id": "67bef8d8-836d-486c-a763-5d2d620ed828",
   "metadata": {},
   "source": [
    "1. Если это самая первая транзакция. Т.к. активность дропа начинается с входящей транзакции"
   ]
  },
  {
   "cell_type": "code",
   "execution_count": 407,
   "id": "ebccedc6-5bab-468e-9dbb-45a114d2e1cd",
   "metadata": {},
   "outputs": [
    {
     "data": {
      "text/plain": [
       "(Timestamp('2025-01-18 05:35:00'), np.int64(1737178500))"
      ]
     },
     "execution_count": 407,
     "metadata": {},
     "output_type": "execute_result"
    }
   ],
   "source": [
    "drop_time_hanler1.reset_cache()\n",
    "drop_time_hanler1.in_txns = 0\n",
    "drop_time_hanler1.out_txns = 0\n",
    "droptime1, dropunix1 = drop_time_hanler1.get_txn_time(receive=True, in_txns=0)\n",
    "droptime1, dropunix1"
   ]
  },
  {
   "cell_type": "code",
   "execution_count": 408,
   "id": "564130ce-813a-4c43-b555-979db8f810c9",
   "metadata": {},
   "outputs": [
    {
     "data": {
      "text/plain": [
       "(np.int64(1737178500), 1, 0)"
      ]
     },
     "execution_count": 408,
     "metadata": {},
     "output_type": "execute_result"
    }
   ],
   "source": [
    "drop_time_hanler1.last_unix, drop_time_hanler1.in_txns, drop_time_hanler1.out_txns"
   ]
  },
  {
   "cell_type": "markdown",
   "id": "31270c48-64c3-4273-b013-0208fe0630b7",
   "metadata": {},
   "source": [
    "2. Не первая транзакция и достигнут лимит входящих транзакций для периода активности\n",
    "- текущая входящая - receive=True\n",
    "- текущая исходящая - receive=False"
   ]
  },
  {
   "cell_type": "code",
   "execution_count": 379,
   "id": "c195724b-2c37-498b-9076-e6b009312d7e",
   "metadata": {},
   "outputs": [
    {
     "data": {
      "text/plain": [
       "(Timestamp('2025-07-02 11:15:00'), Timestamp('2025-07-02 18:31:00'))"
      ]
     },
     "execution_count": 379,
     "metadata": {},
     "output_type": "execute_result"
    }
   ],
   "source": [
    "start_time, last_time"
   ]
  },
  {
   "cell_type": "code",
   "execution_count": 426,
   "id": "fb5364fc-d761-457c-80bd-5a2026a33e0d",
   "metadata": {},
   "outputs": [
    {
     "data": {
      "text/plain": [
       "(Timestamp('2025-07-03 09:03:00'),\n",
       " 1751533380,\n",
       " Timestamp('2025-07-03 09:03:00'))"
      ]
     },
     "execution_count": 426,
     "metadata": {},
     "output_type": "execute_result"
    }
   ],
   "source": [
    "drop_time_hanler1.reset_cache()\n",
    "drop_time_hanler1.in_txns = drop_time_hanler1.in_lim\n",
    "drop_time_hanler1.out_txns = drop_time_hanler1.out_lim - 1\n",
    "drop_time_hanler1.start_unix = start_unix\n",
    "drop_time_hanler1.last_unix = last_unix\n",
    "droptime2, dropunix2 = drop_time_hanler1.get_txn_time(receive=False, in_txns=drop_time_hanler1.in_lim * 2)\n",
    "droptime_start2 = pd.to_datetime(drop_time_hanler1.start_unix, unit=\"s\")\n",
    "droptime2, dropunix2, droptime_start2"
   ]
  },
  {
   "cell_type": "code",
   "execution_count": 427,
   "id": "0fe1c2aa-6b57-4844-99b0-18188794d85e",
   "metadata": {},
   "outputs": [
    {
     "data": {
      "text/plain": [
       "(0, 1, 1751533380, 1751533380)"
      ]
     },
     "execution_count": 427,
     "metadata": {},
     "output_type": "execute_result"
    }
   ],
   "source": [
    "drop_time_hanler1.in_txns, drop_time_hanler1.out_txns, drop_time_hanler1.start_unix, drop_time_hanler1.last_unix"
   ]
  },
  {
   "cell_type": "code",
   "execution_count": 428,
   "id": "ce7b9f7d-aac4-42b7-a26f-a3ef6088a1d7",
   "metadata": {},
   "outputs": [
    {
     "data": {
      "text/plain": [
       "Timedelta('0 days 21:48:00')"
      ]
     },
     "execution_count": 428,
     "metadata": {},
     "output_type": "execute_result"
    }
   ],
   "source": [
    "droptime2 - start_time"
   ]
  },
  {
   "cell_type": "markdown",
   "id": "5264006e-428d-4ad6-8a4d-4f7f5418a540",
   "metadata": {},
   "source": [
    "3. Не первая транзакция и достигнут лимит исходящих транзакций для периода активности  \n",
    "- текущая входящая - receive=True\n",
    "- текущая исходящая - receive=False"
   ]
  },
  {
   "cell_type": "code",
   "execution_count": 446,
   "id": "9bf03dcf-a687-4998-afeb-1cf0a2f56de4",
   "metadata": {},
   "outputs": [
    {
     "data": {
      "text/plain": [
       "(Timestamp('2025-07-03 13:06:00'),\n",
       " 1751547960,\n",
       " Timestamp('2025-07-03 13:06:00'))"
      ]
     },
     "execution_count": 446,
     "metadata": {},
     "output_type": "execute_result"
    }
   ],
   "source": [
    "drop_time_hanler1.reset_cache()\n",
    "drop_time_hanler1.in_txns = drop_time_hanler1.in_lim - 1\n",
    "drop_time_hanler1.out_txns = drop_time_hanler1.out_lim\n",
    "drop_time_hanler1.start_unix = start_unix\n",
    "drop_time_hanler1.last_unix = last_unix\n",
    "droptime3, dropunix3 = drop_time_hanler1.get_txn_time(receive=False, in_txns=drop_time_hanler1.in_lim * 2)\n",
    "droptime_start3 = pd.to_datetime(drop_time_hanler1.start_unix, unit=\"s\")\n",
    "droptime3, dropunix3, droptime_start3"
   ]
  },
  {
   "cell_type": "code",
   "execution_count": 447,
   "id": "1f00d42d-24a0-4a06-b9c1-00b5e2305643",
   "metadata": {},
   "outputs": [
    {
     "data": {
      "text/plain": [
       "(0, 1, 1751547960, 1751547960)"
      ]
     },
     "execution_count": 447,
     "metadata": {},
     "output_type": "execute_result"
    }
   ],
   "source": [
    "drop_time_hanler1.in_txns, drop_time_hanler1.out_txns, drop_time_hanler1.start_unix, drop_time_hanler1.last_unix"
   ]
  },
  {
   "cell_type": "code",
   "execution_count": 448,
   "id": "74c164c1-1a49-4cee-9105-7afe585abfa3",
   "metadata": {},
   "outputs": [
    {
     "data": {
      "text/plain": [
       "Timedelta('1 days 01:51:00')"
      ]
     },
     "execution_count": 448,
     "metadata": {},
     "output_type": "execute_result"
    }
   ],
   "source": [
    "droptime3 - start_time"
   ]
  },
  {
   "cell_type": "markdown",
   "id": "00fe4740-de68-48ac-9706-a7f5471be2f4",
   "metadata": {},
   "source": [
    "4. Не первая транзакция. Лимиты не достигнуты. Транзакция **входящая**"
   ]
  },
  {
   "cell_type": "code",
   "execution_count": 451,
   "id": "26a0fdc3-e38c-4619-86bb-7e7dc223787b",
   "metadata": {},
   "outputs": [
    {
     "name": "stdout",
     "output_type": "stream",
     "text": [
      "In txns: 1 \n",
      "Out txns: 4\n",
      "126\n"
     ]
    },
    {
     "data": {
      "text/plain": [
       "(Timestamp('2025-07-02 20:37:00'),\n",
       " 1751488620,\n",
       " Timestamp('2025-07-02 11:15:00'))"
      ]
     },
     "execution_count": 451,
     "metadata": {},
     "output_type": "execute_result"
    }
   ],
   "source": [
    "drop_time_hanler1.reset_cache()\n",
    "drop_time_hanler1.in_txns = drop_time_hanler1.in_lim - 1\n",
    "drop_time_hanler1.out_txns = drop_time_hanler1.out_lim - 1\n",
    "print(f\"In txns: {drop_time_hanler1.in_txns} \\nOut txns: {drop_time_hanler1.out_txns}\")\n",
    "drop_time_hanler1.start_unix = start_unix\n",
    "drop_time_hanler1.last_unix = last_unix\n",
    "droptime4, dropunix4 = drop_time_hanler1.get_txn_time(receive=True, in_txns=drop_time_hanler1.in_lim * 2)\n",
    "droptime_start4 = pd.to_datetime(drop_time_hanler1.start_unix, unit=\"s\")\n",
    "droptime4, dropunix4, droptime_start4"
   ]
  },
  {
   "cell_type": "code",
   "execution_count": 452,
   "id": "ca43c06d-2a6a-4cf2-8ac5-80b5ca082da8",
   "metadata": {},
   "outputs": [
    {
     "data": {
      "text/plain": [
       "(2, 4, 1751454900, 1751488620)"
      ]
     },
     "execution_count": 452,
     "metadata": {},
     "output_type": "execute_result"
    }
   ],
   "source": [
    "drop_time_hanler1.in_txns, drop_time_hanler1.out_txns, drop_time_hanler1.start_unix, drop_time_hanler1.last_unix"
   ]
  },
  {
   "cell_type": "code",
   "execution_count": 454,
   "id": "5e6666e0-b60c-4860-a378-837ec92b3c28",
   "metadata": {},
   "outputs": [
    {
     "data": {
      "text/plain": [
       "Timedelta('0 days 02:06:00')"
      ]
     },
     "execution_count": 454,
     "metadata": {},
     "output_type": "execute_result"
    }
   ],
   "source": [
    "droptime4 - last_time"
   ]
  },
  {
   "cell_type": "markdown",
   "id": "e6abc38d-0d55-4f2a-b822-8b1e497bcfc5",
   "metadata": {},
   "source": [
    "5. Не первая транзакция. Лимиты не достигнуты. Транзакция **исходящая**"
   ]
  },
  {
   "cell_type": "code",
   "execution_count": 457,
   "id": "44136497-097d-4707-9a8f-38db7656b47e",
   "metadata": {},
   "outputs": [
    {
     "name": "stdout",
     "output_type": "stream",
     "text": [
      "In txns: 1 \n",
      "Out txns: 4\n",
      "172\n"
     ]
    },
    {
     "data": {
      "text/plain": [
       "(Timestamp('2025-07-02 21:23:00'),\n",
       " 1751491380,\n",
       " Timestamp('2025-07-02 11:15:00'))"
      ]
     },
     "execution_count": 457,
     "metadata": {},
     "output_type": "execute_result"
    }
   ],
   "source": [
    "drop_time_hanler1.reset_cache()\n",
    "drop_time_hanler1.in_txns = drop_time_hanler1.in_lim - 1\n",
    "drop_time_hanler1.out_txns = drop_time_hanler1.out_lim - 1\n",
    "print(f\"In txns: {drop_time_hanler1.in_txns} \\nOut txns: {drop_time_hanler1.out_txns}\")\n",
    "drop_time_hanler1.start_unix = start_unix\n",
    "drop_time_hanler1.last_unix = last_unix\n",
    "droptime5, dropunix5 = drop_time_hanler1.get_txn_time(receive=False, in_txns=drop_time_hanler1.in_lim * 2)\n",
    "droptime_start5 = pd.to_datetime(drop_time_hanler1.start_unix, unit=\"s\")\n",
    "droptime5, dropunix5, droptime_start5"
   ]
  },
  {
   "cell_type": "code",
   "execution_count": 458,
   "id": "76ea2951-e019-4814-8564-2ea06e5b6756",
   "metadata": {},
   "outputs": [
    {
     "data": {
      "text/plain": [
       "(1, 5, 1751454900, 1751491380)"
      ]
     },
     "execution_count": 458,
     "metadata": {},
     "output_type": "execute_result"
    }
   ],
   "source": [
    "drop_time_hanler1.in_txns, drop_time_hanler1.out_txns, drop_time_hanler1.start_unix, drop_time_hanler1.last_unix"
   ]
  },
  {
   "cell_type": "code",
   "execution_count": 459,
   "id": "3b0de2c1-1781-4c89-9bd2-62193d4816d4",
   "metadata": {},
   "outputs": [
    {
     "data": {
      "text/plain": [
       "Timedelta('0 days 02:52:00')"
      ]
     },
     "execution_count": 459,
     "metadata": {},
     "output_type": "execute_result"
    }
   ],
   "source": [
    "droptime5 - last_time"
   ]
  },
  {
   "cell_type": "code",
   "execution_count": null,
   "id": "88d99e71-d0f0-475d-b0cd-a32c592064a3",
   "metadata": {},
   "outputs": [],
   "source": []
  },
  {
   "cell_type": "code",
   "execution_count": null,
   "id": "e95ac0c2-d599-4912-80a3-c7a1846469b6",
   "metadata": {},
   "outputs": [],
   "source": []
  },
  {
   "cell_type": "code",
   "execution_count": null,
   "id": "9625fa7d-799c-475e-91a2-d134458ead7a",
   "metadata": {},
   "outputs": [],
   "source": []
  },
  {
   "cell_type": "code",
   "execution_count": null,
   "id": "acc06f6d-3063-43ac-85b9-7ac8e0d8d1be",
   "metadata": {},
   "outputs": [],
   "source": []
  },
  {
   "cell_type": "code",
   "execution_count": null,
   "id": "c828e946-34e5-4774-978d-6df89e8358a1",
   "metadata": {},
   "outputs": [],
   "source": []
  },
  {
   "cell_type": "code",
   "execution_count": null,
   "id": "cb9f578f-ce42-4157-9e3e-c2a10eddcf99",
   "metadata": {},
   "outputs": [],
   "source": []
  },
  {
   "cell_type": "markdown",
   "id": "211ccbc6-9e4e-4195-82ea-e14b15a61949",
   "metadata": {},
   "source": [
    "## Класс `CreateDropTxn`"
   ]
  },
  {
   "cell_type": "code",
   "execution_count": 270,
   "id": "f300af58-3414-48c8-af1a-799e79120cf7",
   "metadata": {},
   "outputs": [],
   "source": [
    "class CreateDropTxn:\n",
    "    \"\"\"\n",
    "    Создание транзакций дропа под разное поведение.\n",
    "    \"\"\"\n",
    "    def __init__(self, timestamps, trans_partial_data, drop_client_cls, in_txns=0, out_txns=0, in_lim=6, out_lim=8, last_txn={}, \\\n",
    "                attempts=0):\n",
    "        \"\"\"\n",
    "        timestamps - pd.DataFrame.\n",
    "        trans_partial_data - FraudTransPartialData. Генератор части данных транзакции - мерчант, гео, ip, девайс и т.п.\n",
    "        drop_client_cls - DropClient. Генератор активности дропов: суммы, счета, баланс\n",
    "        in_txns - int. Количество входящих транзакций\n",
    "        out_txns - int. Количество исходящих транзакций\n",
    "        in_lim - int. Лимит входящих транзакций. Транзакции клиента совершенные после достижения этого лимита отклоняются\n",
    "        out_lim - int. Лимит исходящих транзакций. Транзакции клиента совершенные после достижения этого лимита отклоняются\n",
    "        last_txn - dict. Полные данные последней транзакции\n",
    "        attempts - int. Сколько попыток совершить операцию будет сделано дропом после первой отклоненной транзакции.\n",
    "        \"\"\"\n",
    "        self.timestamps = timestamps\n",
    "        self.trans_partial_data = trans_partial_data\n",
    "        self.drop_client = drop_client_cls\n",
    "        self.in_txns = in_txns\n",
    "        self.out_txns = out_txns\n",
    "        self.in_lim = in_lim\n",
    "        self.out_lim = out_lim\n",
    "        self.last_txn = last_txn\n",
    "        self.attempts = attempts\n",
    "\n",
    "\n",
    "\n",
    "    \n",
    "    def stop_after_decline(self, declined):\n",
    "        \"\"\"\n",
    "        Будет ли дроп пытаться еще после отклоненной операции\n",
    "        или остановится\n",
    "        ---------------\n",
    "        declined - bool. Отклонена ли операция. Подразумевается что последняя.\n",
    "        \"\"\"\n",
    "        if not declined:\n",
    "            return\n",
    "        \n",
    "        if self.attempts == 0:\n",
    "            return True\n",
    "\n",
    "        if self.attempts > 0:\n",
    "            return False\n",
    "\n",
    "            \n",
    "    def attempts_after_decline(self, min=0, max=4):\n",
    "        \"\"\"\n",
    "        Определение количества попыток после первой отклоненной транзакции\n",
    "        ---------------\n",
    "        min - int. Минимальное число попыток\n",
    "        max - int. Максимальное число попыток.\n",
    "        \"\"\"\n",
    "        self.attempts = np.random.randint(min, max + 1)\n",
    "            \n",
    "        \n",
    "    def deduct_attempts(self, declined, receive):\n",
    "        \"\"\"\n",
    "        Вычитание попытки операции совершенной при статусе declined\n",
    "        ---------------\n",
    "        declined - bool. Отклоняется ли текущая транзакция\n",
    "        receive - bool. Является ли транзакция входящей\n",
    "        \"\"\"\n",
    "        if self.attempts == 0:\n",
    "            return \n",
    "            \n",
    "        if declined and not receive:\n",
    "            self.attempts -= 1\n",
    "            \n",
    "        \n",
    "    def cash_flow_action(self, online, declined, in_chunks, to_drop_share=0.2, receive=False):\n",
    "        \"\"\"\n",
    "        Один входящий/исходящий перевод либо одно снятие в банкомате.\n",
    "        ---------------------\n",
    "        online - bool. Онлайн перевод или снятие в банкомате.\n",
    "        declined - bool. Будет ли текущая транзакция отклонена.\n",
    "        in_chunks - bool. Транзакция будет частью серии транзакций.\n",
    "        to_drop_share - float. Вероятность, что дроп пошлет другому дропу\n",
    "        receive - входящий перевод или нет.\n",
    "        \"\"\"\n",
    "        client_id = self.trans_partial_data.client_info.client_id # берем из namedtuple\n",
    "        \n",
    "        # Время транзакции. Оно должно быть создано до увеличения счетчика self.in_txns\n",
    "        txn_time, txn_unix = self.get_txn_time(in_lim=2, out_lim=5, lag_interval=1440)\n",
    "\n",
    "        if receive:\n",
    "            self.in_txns += 1\n",
    "            amount = self.drop_client.receive(declined=declined)\n",
    "            account = self.drop_client.account\n",
    "            \n",
    "        elif not receive and online:\n",
    "            to_drop = np.random.choice([True, False], p=[to_drop_share, 1 - to_drop_share])\n",
    "            self.out_txns += 1\n",
    "            account = self.drop_client.get_account(to_drop=to_drop)\n",
    "            \n",
    "        elif not receive and not online:\n",
    "            account = self.drop_client.account\n",
    "            self.out_txns += 1\n",
    "        \n",
    "            \n",
    "        # Генерация части данных транзакции. Здесь прописываются аргументы online и receive\n",
    "        merchant_id, trans_lat, trans_lon, trans_ip, trans_city, device_id, channel, type = \\\n",
    "                                                self.trans_partial_data.original_transfer_or_atm(online=online, receive=receive)\n",
    "        \n",
    "        # Генерация суммы если исходящая транзакция\n",
    "        # Если эта транзакция только часть серии операций для распределения всего баланса\n",
    "        if in_chunks:\n",
    "            chunk = self.drop_client.get_chunk_size(online=online, atm_min=10000, start=5000, stop=25000, step=5000)\n",
    "            amount = self.drop_client.one_operation(amount=chunk, declined=declined, in_chunks=in_chunks)\n",
    "            \n",
    "        # Иначе если не по частям и не входящая транзакция\n",
    "        elif not in_chunks and not receive:\n",
    "            amount = self.drop_client.one_operation(declined=declined, in_chunks=in_chunks)\n",
    "\n",
    "        if declined:\n",
    "            status = \"declined\"\n",
    "            is_fraud = True\n",
    "            rule = \"drop_flow_cashout\"\n",
    "        else:\n",
    "            status = \"approved\"\n",
    "            is_fraud = False\n",
    "            rule = \"not applicable\"\n",
    "\n",
    "        # Статичные характеристики\n",
    "        is_suspicious = False\n",
    "        category_name=\"not applicable\"\n",
    "\n",
    "        # Сборка всех данных в транзакцию и запись как послдней транзакции\n",
    "        self.last_txn = build_transaction(client_id=client_id, txn_time=txn_time, txn_unix=txn_unix, amount=amount, type=type, channel=channel, \\\n",
    "                             category_name=category_name, online=online, merchant_id=merchant_id, trans_city=trans_city, \\\n",
    "                             trans_lat=trans_lat, trans_lon=trans_lon, trans_ip=trans_ip, device_id=device_id, account=account, \\\n",
    "                             is_fraud=is_fraud, is_suspicious=is_suspicious, status=status, rule=rule)\n",
    "\n",
    "        return self.last_txn\n",
    "\n",
    "    def limit_reached(self):\n",
    "        \"\"\"\n",
    "        Проверка достижения лимитов входящих и исходящих транзакций\n",
    "        Сверка с self.in_lim и self.out_lim\n",
    "        ------------------------\n",
    "        Вернет True если какой либо лимит достигнут\n",
    "        \"\"\"\n",
    "        if self.in_lim == self.in_txns:\n",
    "            return True\n",
    "        if self.out_lim == self.out_txns:\n",
    "            return True\n",
    "        return False\n",
    "\n",
    "    def reset_txn_counters(self, in_txns=False, out_txns=False, batch_txns=False):\n",
    "        \"\"\"\n",
    "        Сброс счетчиков входящих и/или исходящих транзакций\n",
    "        Партия денег это полученные деньги которые дроп должен распределить\n",
    "        ------------------\n",
    "        in_txns - bool. Сбросить счетчик входящих.\n",
    "        out_txns - bool. Сбросить счетчик исходящих.\n",
    "        batch_txns - bool. Сбросить счетчик транзакций партии денег.\n",
    "        \"\"\"\n",
    "        if in_txns:\n",
    "            self.in_txns = 0\n",
    "        if out_txns:\n",
    "            self.out_txns = 0\n",
    "        if batch_txns:\n",
    "            self.batch_txns = 0\n",
    "\n",
    "    def reset_cache(self, only_counters=True):\n",
    "        \"\"\"\n",
    "        Сброос кэшированных данных\n",
    "        -------------\n",
    "        only_counters - bool\n",
    "                        Если True будут сброшены: self.in_txns, self.out_txns, self.attempts.\n",
    "                        Если False то также сбросится информация о последней транзакции self.last_txn\n",
    "        \"\"\"\n",
    "        \n",
    "        self.in_txns = 0\n",
    "        self.out_txns = 0\n",
    "        self.attempts = 0\n",
    "\n",
    "        if only_counters:\n",
    "            return\n",
    "\n",
    "        self.last_txn = {}"
   ]
  },
  {
   "cell_type": "code",
   "execution_count": null,
   "id": "b69ccdca-5a4d-463b-ae00-3192bf85239e",
   "metadata": {},
   "outputs": [],
   "source": [
    "# class CreateDropTxn:\n",
    "#     \"\"\"\n",
    "#     Создание транзакций дропа под разное поведение.\n",
    "#     \"\"\"\n",
    "#     def __init__(self, timestamps, trans_partial_data, drop_client_cls, in_txns=0, out_txns=0, in_lim=6, out_lim=8, last_txn={}, \\\n",
    "#                 attempts=0):\n",
    "#         \"\"\"\n",
    "#         timestamps - pd.DataFrame.\n",
    "#         trans_partial_data - FraudTransPartialData. Генератор части данных транзакции - мерчант, гео, ip, девайс и т.п.\n",
    "#         drop_client_cls - DropClient. Генератор активности дропов: суммы, счета, баланс\n",
    "#         in_txns - int. Количество входящих транзакций\n",
    "#         out_txns - int. Количество исходящих транзакций\n",
    "#         in_lim - int. Лимит входящих транзакций. Транзакции клиента совершенные после достижения этого лимита отклоняются\n",
    "#         out_lim - int. Лимит исходящих транзакций. Транзакции клиента совершенные после достижения этого лимита отклоняются\n",
    "#         last_txn - dict. Полные данные последней транзакции\n",
    "#         attempts - int. Сколько попыток совершить операцию будет сделано дропом после первой отклоненной транзакции.\n",
    "#         \"\"\"\n",
    "#         self.timestamps = timestamps\n",
    "#         self.trans_partial_data = trans_partial_data\n",
    "#         self.drop_client = drop_client_cls\n",
    "#         self.in_txns = in_txns\n",
    "#         self.out_txns = out_txns\n",
    "#         self.in_lim = in_lim\n",
    "#         self.out_lim = out_lim\n",
    "#         self.last_txn = last_txn\n",
    "#         self.attempts = attempts\n",
    "\n",
    "#     def get_time_delta(self, min=-180, max=180, minutes=True):\n",
    "#         \"\"\"\n",
    "#         Получение случайного интервала времени в секундах или минутах из равномерного распределения\n",
    "#         ---------------------\n",
    "#         min - int. Минимальное возможное значение\n",
    "#         max - int. Максимальное возможное значение\n",
    "#         minutes - bool. Минуты или секунды\n",
    "#         \"\"\"\n",
    "#         if minutes:\n",
    "#             return round(np.random.uniform(min, max))\n",
    "            \n",
    "#         return round(np.random.uniform(min, max) * 60)\n",
    "\n",
    "#     def get_txn_time(self, in_lim=2, out_lim=5, lag_interval=1440):\n",
    "#         \"\"\"\n",
    "#         Генерация времени транзакции\n",
    "#         ------------------\n",
    "#         in_lim - int. Количество входящих транзакций после которых дроп уходит на паузу указанную в lag_interval\n",
    "#                       Т.е. если на момент генерации времени уже сделано in_lim транзакций, то берется время последней\n",
    "#                       транзакции и прибавляется указанный lag_interval +/- случайное число минут из delta.\n",
    "#         out_lim - int. Количество исходящих транзакций после которых дроп уходит на паузу указанную в lag_interval\n",
    "#         lag_interval - int. Желаемый лаг по времени от последней транзакции в минутах.\n",
    "#                             Используется для перерывов в активности дропа. По умолчанию 1440 минут т.е. 24 часа\n",
    "#         \"\"\"\n",
    "#         # Если это первая транзакция. Т.к. активность дропа начинается с входящей транзакции\n",
    "#         if self.in_txns == 0:\n",
    "#             time_sample = self.timestamps.sample(1)\n",
    "#             txn_time = time_sample.timestamp.iat[0]\n",
    "#             txn_unix = time_sample.unix_time.iat[0]\n",
    "#             return txn_time, txn_unix\n",
    "\n",
    "#         # Для последующих транзакций\n",
    "#         last_txn_unix = self.last_txn[\"unix_time\"]\n",
    "\n",
    "#         # Если достигнуты лимиты активности дропа на период: входящих или исходящих транзакций\n",
    "#         if self.in_txns == in_lim or self.out_txns == out_lim:\n",
    "#             # Генерация дельты, чтобы время выглядело не ровным, а случайным.\n",
    "#             # Слагаем её с lag_interval\n",
    "#             time_delta = self.get_time_delta(min=-180, max=180)\n",
    "#             lag_interval += time_delta\n",
    "#             return derive_from_last_time(last_txn_unix=last_txn_unix, lag_interval=lag_interval)\n",
    "\n",
    "#         # Тоже дельта, но не может быть <= 0 т.к. тут мы ее используем как lag_interval\n",
    "#         # Это для случаев когда транзакция совершается в тот же период активности что и последняя\n",
    "#         time_delta = self.get_time_delta(min=30, max=180)\n",
    "        \n",
    "\n",
    "#         return derive_from_last_time(last_txn_unix=last_txn_unix, lag_interval=time_delta)\n",
    "\n",
    "    \n",
    "#     def stop_after_decline(self, declined):\n",
    "#         \"\"\"\n",
    "#         Будет ли дроп пытаться еще после отклоненной операции\n",
    "#         или остановится\n",
    "#         ---------------\n",
    "#         declined - bool. Отклонена ли операция. Подразумевается что последняя.\n",
    "#         \"\"\"\n",
    "#         if not declined:\n",
    "#             return\n",
    "        \n",
    "#         if self.attempts == 0:\n",
    "#             return True\n",
    "\n",
    "#         if self.attempts > 0:\n",
    "#             return False\n",
    "\n",
    "            \n",
    "#     def attempts_after_decline(self, min=0, max=4):\n",
    "#         \"\"\"\n",
    "#         Определение количества попыток после первой отклоненной транзакции\n",
    "#         ---------------\n",
    "#         min - int. Минимальное число попыток\n",
    "#         max - int. Максимальное число попыток.\n",
    "#         \"\"\"\n",
    "#         self.attempts = np.random.randint(min, max + 1)\n",
    "            \n",
    "        \n",
    "#     def deduct_attempts(self, declined, receive):\n",
    "#         \"\"\"\n",
    "#         Вычитание попытки операции совершенной при статусе declined\n",
    "#         ---------------\n",
    "#         declined - bool. Отклоняется ли текущая транзакция\n",
    "#         receive - bool. Является ли транзакция входящей\n",
    "#         \"\"\"\n",
    "#         if self.attempts == 0:\n",
    "#             return \n",
    "            \n",
    "#         if declined and not receive:\n",
    "#             self.attempts -= 1\n",
    "            \n",
    "        \n",
    "#     def cash_flow_action(self, online, declined, in_chunks, to_drop_share=0.2, receive=False):\n",
    "#         \"\"\"\n",
    "#         Один входящий/исходящий перевод либо одно снятие в банкомате.\n",
    "#         ---------------------\n",
    "#         online - bool. Онлайн перевод или снятие в банкомате.\n",
    "#         declined - bool. Будет ли текущая транзакция отклонена.\n",
    "#         in_chunks - bool. Транзакция будет частью серии транзакций.\n",
    "#         to_drop_share - float. Вероятность, что дроп пошлет другому дропу\n",
    "#         receive - входящий перевод или нет.\n",
    "#         \"\"\"\n",
    "#         client_id = self.trans_partial_data.client_info.client_id\n",
    "        \n",
    "#         # Время транзакции. Оно должно быть создано до увеличения счетчика self.in_txns\n",
    "#         txn_time, txn_unix = self.get_txn_time(in_lim=2, out_lim=5, lag_interval=1440)\n",
    "\n",
    "#         if receive:\n",
    "#             self.in_txns += 1\n",
    "#             amount = self.drop_client.receive(declined=declined)\n",
    "#             account = self.drop_client.account\n",
    "            \n",
    "#         elif not receive and online:\n",
    "#             to_drop = np.random.choice([True, False], p=[to_drop_share, 1 - to_drop_share])\n",
    "#             self.out_txns += 1\n",
    "#             account = self.drop_client.get_account(to_drop=to_drop)\n",
    "            \n",
    "#         elif not receive and not online:\n",
    "#             account = self.drop_client.account\n",
    "#             self.out_txns += 1\n",
    "        \n",
    "            \n",
    "#         # Генерация части данных транзакции. Здесь прописываются аргументы online и receive\n",
    "#         merchant_id, trans_lat, trans_lon, trans_ip, trans_city, device_id, channel, type = \\\n",
    "#                                                 self.trans_partial_data.original_transfer_or_atm(online=online, receive=receive)\n",
    "        \n",
    "#         # Генерация суммы если исходящая транзакция\n",
    "#         # Если эта транзакция только часть серии операций для распределения всего баланса\n",
    "#         if in_chunks:\n",
    "#             chunk = self.drop_client.get_chunk_size(online=online, atm_min=10000, start=5000, stop=25000, step=5000)\n",
    "#             amount = self.drop_client.one_operation(amount=chunk, declined=declined, in_chunks=in_chunks)\n",
    "            \n",
    "#         # Иначе если не по частям и не входящая транзакция\n",
    "#         elif not in_chunks and not receive:\n",
    "#             amount = self.drop_client.one_operation(declined=declined, in_chunks=in_chunks)\n",
    "\n",
    "#         if declined:\n",
    "#             status = \"declined\"\n",
    "#             is_fraud = True\n",
    "#             rule = \"drop_flow_cashout\"\n",
    "#         else:\n",
    "#             status = \"approved\"\n",
    "#             is_fraud = False\n",
    "#             rule = \"not applicable\"\n",
    "\n",
    "#         # Статичные характеристики\n",
    "#         is_suspicious = False\n",
    "#         category_name=\"not applicable\"\n",
    "\n",
    "#         # Сборка всех данных в транзакцию и запись как послдней транзакции\n",
    "#         self.last_txn = build_transaction(client_id=client_id, txn_time=txn_time, txn_unix=txn_unix, amount=amount, type=type, channel=channel, \\\n",
    "#                              category_name=category_name, online=online, merchant_id=merchant_id, trans_city=trans_city, \\\n",
    "#                              trans_lat=trans_lat, trans_lon=trans_lon, trans_ip=trans_ip, device_id=device_id, account=account, \\\n",
    "#                              is_fraud=is_fraud, is_suspicious=is_suspicious, status=status, rule=rule)\n",
    "\n",
    "#         return self.last_txn\n",
    "\n",
    "#     def limit_reached(self):\n",
    "#         \"\"\"\n",
    "#         Проверка достижения лимитов входящих и исходящих транзакций\n",
    "#         Сверка с self.in_lim и self.out_lim\n",
    "#         ------------------------\n",
    "#         Вернет True если какой либо лимит достигнут\n",
    "#         \"\"\"\n",
    "#         if self.in_lim == self.in_txns:\n",
    "#             return True\n",
    "#         if self.out_lim == self.out_txns:\n",
    "#             return True\n",
    "#         return False\n",
    "\n",
    "#     def reset_txn_counters(self, in_txns=False, out_txns=False, batch_txns=False):\n",
    "#         \"\"\"\n",
    "#         Сброс счетчиков входящих и/или исходящих транзакций\n",
    "#         Партия денег это полученные деньги которые дроп должен распределить\n",
    "#         ------------------\n",
    "#         in_txns - bool. Сбросить счетчик входящих.\n",
    "#         out_txns - bool. Сбросить счетчик исходящих.\n",
    "#         batch_txns - bool. Сбросить счетчик транзакций партии денег.\n",
    "#         \"\"\"\n",
    "#         if in_txns:\n",
    "#             self.in_txns = 0\n",
    "#         if out_txns:\n",
    "#             self.out_txns = 0\n",
    "#         if batch_txns:\n",
    "#             self.batch_txns = 0\n",
    "\n",
    "#     def reset_cache(self, only_counters=True):\n",
    "#         \"\"\"\n",
    "#         Сброос кэшированных данных\n",
    "#         -------------\n",
    "#         only_counters - bool\n",
    "#                         Если True будут сброшены: self.in_txns, self.out_txns, self.attempts.\n",
    "#                         Если False то также сбросится информация о последней транзакции self.last_txn\n",
    "#         \"\"\"\n",
    "        \n",
    "#         self.in_txns = 0\n",
    "#         self.out_txns = 0\n",
    "#         self.attempts = 0\n",
    "\n",
    "#         if only_counters:\n",
    "#             return\n",
    "\n",
    "#         self.last_txn = {}"
   ]
  },
  {
   "cell_type": "markdown",
   "id": "10db44f4-4a76-4677-9c71-56bf7daa09c1",
   "metadata": {},
   "source": [
    "**`CreateDropTxn.single_operation` тест**"
   ]
  },
  {
   "cell_type": "code",
   "execution_count": 159,
   "id": "6a42fdee-4133-4af5-811c-2506c6c77f05",
   "metadata": {},
   "outputs": [],
   "source": [
    "drop_stamps = create_timestamps_range_df(start=\"2025-01-01\", end=\"2025-01-31\")"
   ]
  },
  {
   "cell_type": "code",
   "execution_count": 260,
   "id": "f401c4d8-244d-42c6-9956-1082c5289388",
   "metadata": {},
   "outputs": [],
   "source": [
    "drop_txn_part_data = FraudTransPartialData(merchants_df=pd.DataFrame(), client_info=clients_with_geo.loc[0], \\\n",
    "                                        online_merchant_ids=pd.DataFrame(), fraud_ips=fraud_ips, used_ips=pd.Series(), \\\n",
    "                                         fraud_devices=fraud_devices,  used_devices=pd.Series(), \\\n",
    "                                        client_devices=client_devices)"
   ]
  },
  {
   "cell_type": "code",
   "execution_count": 261,
   "id": "0b7aa15f-06cd-49ec-b234-16a72a625ec4",
   "metadata": {},
   "outputs": [],
   "source": [
    "# drop_txn_part_data.client_info"
   ]
  },
  {
   "cell_type": "code",
   "execution_count": 262,
   "id": "2f512a47-4c04-4231-a505-c5bb69515334",
   "metadata": {},
   "outputs": [],
   "source": [
    "drop_client_test2 = DropClient(accounts=accounts, account=1, outer_accounts=outer_accounts)"
   ]
  },
  {
   "cell_type": "code",
   "execution_count": 263,
   "id": "61d77e8a-9263-4fd4-88be-6cdac85fc4a5",
   "metadata": {},
   "outputs": [],
   "source": [
    "create_drop_txn_tst = CreateDropTxn(timestamps=drop_stamps, trans_partial_data=drop_txn_part_data, drop_client_cls=drop_client_test2, \\\n",
    "                                      in_txns=0, out_txns=0, in_lim=6, out_lim=8, last_txn={}, attempts=0)"
   ]
  },
  {
   "cell_type": "code",
   "execution_count": 264,
   "id": "e55db8c7-684b-4e7a-a0e1-1ff8b68d1107",
   "metadata": {},
   "outputs": [
    {
     "data": {
      "text/plain": [
       "(0, 0, {}, 0)"
      ]
     },
     "execution_count": 264,
     "metadata": {},
     "output_type": "execute_result"
    }
   ],
   "source": [
    "create_drop_txn_tst.in_txns, create_drop_txn_tst.out_txns, create_drop_txn_tst.last_txn, drop_client_test2.batch_txns"
   ]
  },
  {
   "cell_type": "code",
   "execution_count": 1342,
   "id": "59411a05-127f-4cca-86c8-37d2f31a4e8f",
   "metadata": {},
   "outputs": [],
   "source": [
    "# ?CreateDropTxn.single_operation"
   ]
  },
  {
   "cell_type": "markdown",
   "id": "6fb81fc0-5e0e-4da9-9b45-1e0639e9de6a",
   "metadata": {},
   "source": [
    "Входящая НЕотклоненная транзакция дропу"
   ]
  },
  {
   "cell_type": "code",
   "execution_count": 205,
   "id": "30f3acbc-25f6-46e6-b03b-085f71301659",
   "metadata": {},
   "outputs": [
    {
     "data": {
      "text/html": [
       "<div>\n",
       "<style scoped>\n",
       "    .dataframe tbody tr th:only-of-type {\n",
       "        vertical-align: middle;\n",
       "    }\n",
       "\n",
       "    .dataframe tbody tr th {\n",
       "        vertical-align: top;\n",
       "    }\n",
       "\n",
       "    .dataframe thead th {\n",
       "        text-align: right;\n",
       "    }\n",
       "</style>\n",
       "<table border=\"1\" class=\"dataframe\">\n",
       "  <thead>\n",
       "    <tr style=\"text-align: right;\">\n",
       "      <th></th>\n",
       "      <th>client_id</th>\n",
       "      <th>txn_time</th>\n",
       "      <th>unix_time</th>\n",
       "      <th>amount</th>\n",
       "      <th>type</th>\n",
       "      <th>channel</th>\n",
       "      <th>category</th>\n",
       "      <th>online</th>\n",
       "      <th>merchant_id</th>\n",
       "      <th>trans_city</th>\n",
       "      <th>trans_lat</th>\n",
       "      <th>trans_lon</th>\n",
       "      <th>trans_ip</th>\n",
       "      <th>device_id</th>\n",
       "      <th>account</th>\n",
       "      <th>is_fraud</th>\n",
       "      <th>is_suspicious</th>\n",
       "      <th>status</th>\n",
       "      <th>rule</th>\n",
       "    </tr>\n",
       "  </thead>\n",
       "  <tbody>\n",
       "    <tr>\n",
       "      <th>0</th>\n",
       "      <td>1</td>\n",
       "      <td>2025-01-02 12:17:00</td>\n",
       "      <td>1735820220</td>\n",
       "      <td>52000.0</td>\n",
       "      <td>inbound</td>\n",
       "      <td>transfer</td>\n",
       "      <td>not applicable</td>\n",
       "      <td>True</td>\n",
       "      <td>NaN</td>\n",
       "      <td>not applicable</td>\n",
       "      <td>NaN</td>\n",
       "      <td>NaN</td>\n",
       "      <td>not applicable</td>\n",
       "      <td>&lt;NA&gt;</td>\n",
       "      <td>1</td>\n",
       "      <td>False</td>\n",
       "      <td>False</td>\n",
       "      <td>approved</td>\n",
       "      <td>not applicable</td>\n",
       "    </tr>\n",
       "  </tbody>\n",
       "</table>\n",
       "</div>"
      ],
      "text/plain": [
       "   client_id            txn_time   unix_time   amount     type   channel  \\\n",
       "0          1 2025-01-02 12:17:00  1735820220  52000.0  inbound  transfer   \n",
       "\n",
       "         category  online  merchant_id      trans_city  trans_lat  trans_lon  \\\n",
       "0  not applicable    True          NaN  not applicable        NaN        NaN   \n",
       "\n",
       "         trans_ip device_id  account  is_fraud  is_suspicious    status  \\\n",
       "0  not applicable      <NA>        1     False          False  approved   \n",
       "\n",
       "             rule  \n",
       "0  not applicable  "
      ]
     },
     "execution_count": 205,
     "metadata": {},
     "output_type": "execute_result"
    }
   ],
   "source": [
    "create_drop_txn_tst.reset_cache(only_counters=False)\n",
    "receive_txn = create_drop_txn_tst.single_operation(online=True, declined=False, in_chunks=False, receive=True)\n",
    "pd.DataFrame([receive_txn])"
   ]
  },
  {
   "cell_type": "code",
   "execution_count": 206,
   "id": "c573a09e-762f-4427-a266-a6954782b53e",
   "metadata": {},
   "outputs": [
    {
     "data": {
      "text/plain": [
       "(np.float64(52000.0), 1)"
      ]
     },
     "execution_count": 206,
     "metadata": {},
     "output_type": "execute_result"
    }
   ],
   "source": [
    "drop_client_test2.balance, drop_client_test2.batch_txns"
   ]
  },
  {
   "cell_type": "code",
   "execution_count": 207,
   "id": "6f5a3fb7-1eef-4e20-8f87-95b1579a4ee7",
   "metadata": {},
   "outputs": [
    {
     "data": {
      "text/plain": [
       "(1, 0, 0)"
      ]
     },
     "execution_count": 207,
     "metadata": {},
     "output_type": "execute_result"
    }
   ],
   "source": [
    "create_drop_txn_tst.in_txns, create_drop_txn_tst.out_txns, create_drop_txn_tst.attempts"
   ]
  },
  {
   "cell_type": "code",
   "execution_count": 1542,
   "id": "6e3552b6-187f-4f8e-aab1-70d29424c6bc",
   "metadata": {},
   "outputs": [],
   "source": [
    "# create_drop_txn_tst.last_txn"
   ]
  },
  {
   "cell_type": "markdown",
   "id": "709d8e19-3bed-4957-81bf-fcbe3071640f",
   "metadata": {},
   "source": [
    "НЕ отклоненный исходящий перевод целиком"
   ]
  },
  {
   "cell_type": "code",
   "execution_count": 208,
   "id": "b44c7de4-45ae-4aed-8aa7-69d45c7760b5",
   "metadata": {},
   "outputs": [
    {
     "data": {
      "text/html": [
       "<div>\n",
       "<style scoped>\n",
       "    .dataframe tbody tr th:only-of-type {\n",
       "        vertical-align: middle;\n",
       "    }\n",
       "\n",
       "    .dataframe tbody tr th {\n",
       "        vertical-align: top;\n",
       "    }\n",
       "\n",
       "    .dataframe thead th {\n",
       "        text-align: right;\n",
       "    }\n",
       "</style>\n",
       "<table border=\"1\" class=\"dataframe\">\n",
       "  <thead>\n",
       "    <tr style=\"text-align: right;\">\n",
       "      <th></th>\n",
       "      <th>client_id</th>\n",
       "      <th>txn_time</th>\n",
       "      <th>unix_time</th>\n",
       "      <th>amount</th>\n",
       "      <th>type</th>\n",
       "      <th>channel</th>\n",
       "      <th>category</th>\n",
       "      <th>online</th>\n",
       "      <th>merchant_id</th>\n",
       "      <th>trans_city</th>\n",
       "      <th>trans_lat</th>\n",
       "      <th>trans_lon</th>\n",
       "      <th>trans_ip</th>\n",
       "      <th>device_id</th>\n",
       "      <th>account</th>\n",
       "      <th>is_fraud</th>\n",
       "      <th>is_suspicious</th>\n",
       "      <th>status</th>\n",
       "      <th>rule</th>\n",
       "    </tr>\n",
       "  </thead>\n",
       "  <tbody>\n",
       "    <tr>\n",
       "      <th>0</th>\n",
       "      <td>1</td>\n",
       "      <td>2025-01-02 12:17:00</td>\n",
       "      <td>1735820220</td>\n",
       "      <td>52000.0</td>\n",
       "      <td>inbound</td>\n",
       "      <td>transfer</td>\n",
       "      <td>not applicable</td>\n",
       "      <td>True</td>\n",
       "      <td>NaN</td>\n",
       "      <td>not applicable</td>\n",
       "      <td>NaN</td>\n",
       "      <td>NaN</td>\n",
       "      <td>not applicable</td>\n",
       "      <td>&lt;NA&gt;</td>\n",
       "      <td>1</td>\n",
       "      <td>False</td>\n",
       "      <td>False</td>\n",
       "      <td>approved</td>\n",
       "      <td>not applicable</td>\n",
       "    </tr>\n",
       "    <tr>\n",
       "      <th>1</th>\n",
       "      <td>1</td>\n",
       "      <td>2025-01-02 13:25:00</td>\n",
       "      <td>1735824300</td>\n",
       "      <td>52000.0</td>\n",
       "      <td>outbound</td>\n",
       "      <td>transfer</td>\n",
       "      <td>not applicable</td>\n",
       "      <td>True</td>\n",
       "      <td>NaN</td>\n",
       "      <td>Рязань</td>\n",
       "      <td>54.625457</td>\n",
       "      <td>39.735999</td>\n",
       "      <td>2.60.0.1</td>\n",
       "      <td>1</td>\n",
       "      <td>21193</td>\n",
       "      <td>False</td>\n",
       "      <td>False</td>\n",
       "      <td>approved</td>\n",
       "      <td>not applicable</td>\n",
       "    </tr>\n",
       "  </tbody>\n",
       "</table>\n",
       "</div>"
      ],
      "text/plain": [
       "   client_id            txn_time   unix_time   amount      type   channel  \\\n",
       "0          1 2025-01-02 12:17:00  1735820220  52000.0   inbound  transfer   \n",
       "1          1 2025-01-02 13:25:00  1735824300  52000.0  outbound  transfer   \n",
       "\n",
       "         category  online  merchant_id      trans_city  trans_lat  trans_lon  \\\n",
       "0  not applicable    True          NaN  not applicable        NaN        NaN   \n",
       "1  not applicable    True          NaN          Рязань  54.625457  39.735999   \n",
       "\n",
       "         trans_ip device_id  account  is_fraud  is_suspicious    status  \\\n",
       "0  not applicable      <NA>        1     False          False  approved   \n",
       "1        2.60.0.1         1    21193     False          False  approved   \n",
       "\n",
       "             rule  \n",
       "0  not applicable  \n",
       "1  not applicable  "
      ]
     },
     "execution_count": 208,
     "metadata": {},
     "output_type": "execute_result"
    }
   ],
   "source": [
    "whole_out = create_drop_txn_tst.single_operation(online=True, receive=False, declined=False, in_chunks=False)\n",
    "pd.concat([pd.DataFrame([receive_txn]), pd.DataFrame([whole_out])], ignore_index=True)"
   ]
  },
  {
   "cell_type": "markdown",
   "id": "8a0f5853-475c-4078-897f-cfe546a4260d",
   "metadata": {},
   "source": [
    "НЕ отклоненное снятие целиком"
   ]
  },
  {
   "cell_type": "code",
   "execution_count": 209,
   "id": "106c9a2b-ce5d-4b90-9242-bcbc4aad6ff9",
   "metadata": {},
   "outputs": [
    {
     "data": {
      "text/html": [
       "<div>\n",
       "<style scoped>\n",
       "    .dataframe tbody tr th:only-of-type {\n",
       "        vertical-align: middle;\n",
       "    }\n",
       "\n",
       "    .dataframe tbody tr th {\n",
       "        vertical-align: top;\n",
       "    }\n",
       "\n",
       "    .dataframe thead th {\n",
       "        text-align: right;\n",
       "    }\n",
       "</style>\n",
       "<table border=\"1\" class=\"dataframe\">\n",
       "  <thead>\n",
       "    <tr style=\"text-align: right;\">\n",
       "      <th></th>\n",
       "      <th>client_id</th>\n",
       "      <th>txn_time</th>\n",
       "      <th>unix_time</th>\n",
       "      <th>amount</th>\n",
       "      <th>type</th>\n",
       "      <th>channel</th>\n",
       "      <th>category</th>\n",
       "      <th>online</th>\n",
       "      <th>merchant_id</th>\n",
       "      <th>trans_city</th>\n",
       "      <th>trans_lat</th>\n",
       "      <th>trans_lon</th>\n",
       "      <th>trans_ip</th>\n",
       "      <th>device_id</th>\n",
       "      <th>account</th>\n",
       "      <th>is_fraud</th>\n",
       "      <th>is_suspicious</th>\n",
       "      <th>status</th>\n",
       "      <th>rule</th>\n",
       "    </tr>\n",
       "  </thead>\n",
       "  <tbody>\n",
       "    <tr>\n",
       "      <th>0</th>\n",
       "      <td>1</td>\n",
       "      <td>2025-01-24 01:00:00</td>\n",
       "      <td>1737680400</td>\n",
       "      <td>6500.0</td>\n",
       "      <td>inbound</td>\n",
       "      <td>transfer</td>\n",
       "      <td>not applicable</td>\n",
       "      <td>True</td>\n",
       "      <td>NaN</td>\n",
       "      <td>not applicable</td>\n",
       "      <td>NaN</td>\n",
       "      <td>NaN</td>\n",
       "      <td>not applicable</td>\n",
       "      <td>&lt;NA&gt;</td>\n",
       "      <td>1</td>\n",
       "      <td>False</td>\n",
       "      <td>False</td>\n",
       "      <td>approved</td>\n",
       "      <td>not applicable</td>\n",
       "    </tr>\n",
       "    <tr>\n",
       "      <th>1</th>\n",
       "      <td>1</td>\n",
       "      <td>2025-01-24 02:35:00</td>\n",
       "      <td>1737686100</td>\n",
       "      <td>6500.0</td>\n",
       "      <td>withdrawal</td>\n",
       "      <td>ATM</td>\n",
       "      <td>not applicable</td>\n",
       "      <td>False</td>\n",
       "      <td>NaN</td>\n",
       "      <td>Рязань</td>\n",
       "      <td>54.625457</td>\n",
       "      <td>39.735999</td>\n",
       "      <td>not applicable</td>\n",
       "      <td>&lt;NA&gt;</td>\n",
       "      <td>1</td>\n",
       "      <td>False</td>\n",
       "      <td>False</td>\n",
       "      <td>approved</td>\n",
       "      <td>not applicable</td>\n",
       "    </tr>\n",
       "  </tbody>\n",
       "</table>\n",
       "</div>"
      ],
      "text/plain": [
       "   client_id            txn_time   unix_time  amount        type   channel  \\\n",
       "0          1 2025-01-24 01:00:00  1737680400  6500.0     inbound  transfer   \n",
       "1          1 2025-01-24 02:35:00  1737686100  6500.0  withdrawal       ATM   \n",
       "\n",
       "         category  online  merchant_id      trans_city  trans_lat  trans_lon  \\\n",
       "0  not applicable    True          NaN  not applicable        NaN        NaN   \n",
       "1  not applicable   False          NaN          Рязань  54.625457  39.735999   \n",
       "\n",
       "         trans_ip device_id  account  is_fraud  is_suspicious    status  \\\n",
       "0  not applicable      <NA>        1     False          False  approved   \n",
       "1  not applicable      <NA>        1     False          False  approved   \n",
       "\n",
       "             rule  \n",
       "0  not applicable  \n",
       "1  not applicable  "
      ]
     },
     "execution_count": 209,
     "metadata": {},
     "output_type": "execute_result"
    }
   ],
   "source": [
    "create_drop_txn_tst.reset_cache(only_counters=False)\n",
    "drop_client_test2.reset_cache(balance=True, used_accounts=True, chunk_size=True, batch_txns=True)\n",
    "receive_txn2 = create_drop_txn_tst.single_operation(online=True, declined=False, in_chunks=False, receive=True)\n",
    "whole_atm = create_drop_txn_tst.single_operation(online=False, receive=False, declined=False, in_chunks=False)\n",
    "\n",
    "pd.concat([pd.DataFrame([receive_txn2]), pd.DataFrame([whole_atm])], ignore_index=True)"
   ]
  },
  {
   "cell_type": "code",
   "execution_count": 210,
   "id": "822f40fe-2baf-4111-82e4-cfae1182e227",
   "metadata": {},
   "outputs": [
    {
     "data": {
      "text/plain": [
       "(np.float64(0.0), 1)"
      ]
     },
     "execution_count": 210,
     "metadata": {},
     "output_type": "execute_result"
    }
   ],
   "source": [
    "drop_client_test2.balance, drop_client_test2.batch_txns"
   ]
  },
  {
   "cell_type": "markdown",
   "id": "f82c661f-a9d7-4f7c-8ee0-95a49ff41bbe",
   "metadata": {},
   "source": [
    "НЕ отклоненный исходящий перевод частями"
   ]
  },
  {
   "cell_type": "code",
   "execution_count": 267,
   "id": "83f5064d-4592-4777-9ccd-c891f41006fe",
   "metadata": {},
   "outputs": [
    {
     "data": {
      "text/html": [
       "<div>\n",
       "<style scoped>\n",
       "    .dataframe tbody tr th:only-of-type {\n",
       "        vertical-align: middle;\n",
       "    }\n",
       "\n",
       "    .dataframe tbody tr th {\n",
       "        vertical-align: top;\n",
       "    }\n",
       "\n",
       "    .dataframe thead th {\n",
       "        text-align: right;\n",
       "    }\n",
       "</style>\n",
       "<table border=\"1\" class=\"dataframe\">\n",
       "  <thead>\n",
       "    <tr style=\"text-align: right;\">\n",
       "      <th></th>\n",
       "      <th>client_id</th>\n",
       "      <th>txn_time</th>\n",
       "      <th>unix_time</th>\n",
       "      <th>amount</th>\n",
       "      <th>type</th>\n",
       "      <th>channel</th>\n",
       "      <th>category</th>\n",
       "      <th>online</th>\n",
       "      <th>merchant_id</th>\n",
       "      <th>trans_city</th>\n",
       "      <th>trans_lat</th>\n",
       "      <th>trans_lon</th>\n",
       "      <th>trans_ip</th>\n",
       "      <th>device_id</th>\n",
       "      <th>account</th>\n",
       "      <th>is_fraud</th>\n",
       "      <th>is_suspicious</th>\n",
       "      <th>status</th>\n",
       "      <th>rule</th>\n",
       "    </tr>\n",
       "  </thead>\n",
       "  <tbody>\n",
       "    <tr>\n",
       "      <th>0</th>\n",
       "      <td>1</td>\n",
       "      <td>2025-01-22 12:27:00</td>\n",
       "      <td>1737548820</td>\n",
       "      <td>36500.0</td>\n",
       "      <td>inbound</td>\n",
       "      <td>transfer</td>\n",
       "      <td>not applicable</td>\n",
       "      <td>True</td>\n",
       "      <td>NaN</td>\n",
       "      <td>not applicable</td>\n",
       "      <td>NaN</td>\n",
       "      <td>NaN</td>\n",
       "      <td>not applicable</td>\n",
       "      <td>&lt;NA&gt;</td>\n",
       "      <td>1</td>\n",
       "      <td>False</td>\n",
       "      <td>False</td>\n",
       "      <td>approved</td>\n",
       "      <td>not applicable</td>\n",
       "    </tr>\n",
       "  </tbody>\n",
       "</table>\n",
       "</div>"
      ],
      "text/plain": [
       "   client_id            txn_time   unix_time   amount     type   channel  \\\n",
       "0          1 2025-01-22 12:27:00  1737548820  36500.0  inbound  transfer   \n",
       "\n",
       "         category  online  merchant_id      trans_city  trans_lat  trans_lon  \\\n",
       "0  not applicable    True          NaN  not applicable        NaN        NaN   \n",
       "\n",
       "         trans_ip device_id  account  is_fraud  is_suspicious    status  \\\n",
       "0  not applicable      <NA>        1     False          False  approved   \n",
       "\n",
       "             rule  \n",
       "0  not applicable  "
      ]
     },
     "execution_count": 267,
     "metadata": {},
     "output_type": "execute_result"
    }
   ],
   "source": [
    "create_drop_txn_tst.reset_cache(only_counters=False)\n",
    "drop_client_test2.reset_cache(balance=True, used_accounts=True, chunk_size=True, batch_txns=True)\n",
    "receive_txn3 = create_drop_txn_tst.single_operation(online=True, declined=False, in_chunks=False, receive=True)\n",
    "pd.DataFrame([receive_txn3])"
   ]
  },
  {
   "cell_type": "code",
   "execution_count": 268,
   "id": "db93c6a0-d54d-483e-a9b2-0ed63f87cc2e",
   "metadata": {},
   "outputs": [
    {
     "data": {
      "text/html": [
       "<div>\n",
       "<style scoped>\n",
       "    .dataframe tbody tr th:only-of-type {\n",
       "        vertical-align: middle;\n",
       "    }\n",
       "\n",
       "    .dataframe tbody tr th {\n",
       "        vertical-align: top;\n",
       "    }\n",
       "\n",
       "    .dataframe thead th {\n",
       "        text-align: right;\n",
       "    }\n",
       "</style>\n",
       "<table border=\"1\" class=\"dataframe\">\n",
       "  <thead>\n",
       "    <tr style=\"text-align: right;\">\n",
       "      <th></th>\n",
       "      <th>client_id</th>\n",
       "      <th>txn_time</th>\n",
       "      <th>unix_time</th>\n",
       "      <th>amount</th>\n",
       "      <th>type</th>\n",
       "      <th>channel</th>\n",
       "      <th>category</th>\n",
       "      <th>online</th>\n",
       "      <th>merchant_id</th>\n",
       "      <th>trans_city</th>\n",
       "      <th>trans_lat</th>\n",
       "      <th>trans_lon</th>\n",
       "      <th>trans_ip</th>\n",
       "      <th>device_id</th>\n",
       "      <th>account</th>\n",
       "      <th>is_fraud</th>\n",
       "      <th>is_suspicious</th>\n",
       "      <th>status</th>\n",
       "      <th>rule</th>\n",
       "    </tr>\n",
       "  </thead>\n",
       "  <tbody>\n",
       "    <tr>\n",
       "      <th>0</th>\n",
       "      <td>1</td>\n",
       "      <td>2025-01-22 12:27:00</td>\n",
       "      <td>1737548820</td>\n",
       "      <td>36500.0</td>\n",
       "      <td>inbound</td>\n",
       "      <td>transfer</td>\n",
       "      <td>not applicable</td>\n",
       "      <td>True</td>\n",
       "      <td>NaN</td>\n",
       "      <td>not applicable</td>\n",
       "      <td>NaN</td>\n",
       "      <td>NaN</td>\n",
       "      <td>not applicable</td>\n",
       "      <td>&lt;NA&gt;</td>\n",
       "      <td>1</td>\n",
       "      <td>False</td>\n",
       "      <td>False</td>\n",
       "      <td>approved</td>\n",
       "      <td>not applicable</td>\n",
       "    </tr>\n",
       "    <tr>\n",
       "      <th>1</th>\n",
       "      <td>1</td>\n",
       "      <td>2025-01-22 15:20:00</td>\n",
       "      <td>1737559200</td>\n",
       "      <td>20000.0</td>\n",
       "      <td>outbound</td>\n",
       "      <td>transfer</td>\n",
       "      <td>not applicable</td>\n",
       "      <td>True</td>\n",
       "      <td>NaN</td>\n",
       "      <td>Рязань</td>\n",
       "      <td>54.625457</td>\n",
       "      <td>39.735999</td>\n",
       "      <td>2.60.0.1</td>\n",
       "      <td>1</td>\n",
       "      <td>16461</td>\n",
       "      <td>False</td>\n",
       "      <td>False</td>\n",
       "      <td>approved</td>\n",
       "      <td>not applicable</td>\n",
       "    </tr>\n",
       "    <tr>\n",
       "      <th>2</th>\n",
       "      <td>1</td>\n",
       "      <td>2025-01-22 18:11:00</td>\n",
       "      <td>1737569460</td>\n",
       "      <td>5000.0</td>\n",
       "      <td>outbound</td>\n",
       "      <td>transfer</td>\n",
       "      <td>not applicable</td>\n",
       "      <td>True</td>\n",
       "      <td>NaN</td>\n",
       "      <td>Рязань</td>\n",
       "      <td>54.625457</td>\n",
       "      <td>39.735999</td>\n",
       "      <td>2.60.0.1</td>\n",
       "      <td>2</td>\n",
       "      <td>18060</td>\n",
       "      <td>False</td>\n",
       "      <td>False</td>\n",
       "      <td>approved</td>\n",
       "      <td>not applicable</td>\n",
       "    </tr>\n",
       "    <tr>\n",
       "      <th>3</th>\n",
       "      <td>1</td>\n",
       "      <td>2025-01-22 20:14:00</td>\n",
       "      <td>1737576840</td>\n",
       "      <td>11500.0</td>\n",
       "      <td>outbound</td>\n",
       "      <td>transfer</td>\n",
       "      <td>not applicable</td>\n",
       "      <td>True</td>\n",
       "      <td>NaN</td>\n",
       "      <td>Рязань</td>\n",
       "      <td>54.625457</td>\n",
       "      <td>39.735999</td>\n",
       "      <td>2.60.0.1</td>\n",
       "      <td>2</td>\n",
       "      <td>19418</td>\n",
       "      <td>False</td>\n",
       "      <td>False</td>\n",
       "      <td>approved</td>\n",
       "      <td>not applicable</td>\n",
       "    </tr>\n",
       "  </tbody>\n",
       "</table>\n",
       "</div>"
      ],
      "text/plain": [
       "   client_id            txn_time   unix_time   amount      type   channel  \\\n",
       "0          1 2025-01-22 12:27:00  1737548820  36500.0   inbound  transfer   \n",
       "1          1 2025-01-22 15:20:00  1737559200  20000.0  outbound  transfer   \n",
       "2          1 2025-01-22 18:11:00  1737569460   5000.0  outbound  transfer   \n",
       "3          1 2025-01-22 20:14:00  1737576840  11500.0  outbound  transfer   \n",
       "\n",
       "         category  online  merchant_id      trans_city  trans_lat  trans_lon  \\\n",
       "0  not applicable    True          NaN  not applicable        NaN        NaN   \n",
       "1  not applicable    True          NaN          Рязань  54.625457  39.735999   \n",
       "2  not applicable    True          NaN          Рязань  54.625457  39.735999   \n",
       "3  not applicable    True          NaN          Рязань  54.625457  39.735999   \n",
       "\n",
       "         trans_ip device_id  account  is_fraud  is_suspicious    status  \\\n",
       "0  not applicable      <NA>        1     False          False  approved   \n",
       "1        2.60.0.1         1    16461     False          False  approved   \n",
       "2        2.60.0.1         2    18060     False          False  approved   \n",
       "3        2.60.0.1         2    19418     False          False  approved   \n",
       "\n",
       "             rule  \n",
       "0  not applicable  \n",
       "1  not applicable  \n",
       "2  not applicable  \n",
       "3  not applicable  "
      ]
     },
     "execution_count": 268,
     "metadata": {},
     "output_type": "execute_result"
    }
   ],
   "source": [
    "all_txns3 = [receive_txn3]\n",
    "while drop_client_test2.balance > 0:\n",
    "    part_out = create_drop_txn_tst.single_operation(online=True, receive=False, declined=False, in_chunks=True)\n",
    "    all_txns3.append(part_out)\n",
    "pd.DataFrame(all_txns3)"
   ]
  },
  {
   "cell_type": "code",
   "execution_count": 269,
   "id": "c827257b-fade-406f-8aac-64c6d71b95b8",
   "metadata": {},
   "outputs": [
    {
     "data": {
      "text/plain": [
       "(np.float64(0.0), 3)"
      ]
     },
     "execution_count": 269,
     "metadata": {},
     "output_type": "execute_result"
    }
   ],
   "source": [
    "drop_client_test2.balance, drop_client_test2.batch_txns"
   ]
  },
  {
   "cell_type": "markdown",
   "id": "d976bd88-f898-4b01-83a5-c3e75f663a21",
   "metadata": {},
   "source": [
    "НЕ отклоненное снятие частями"
   ]
  },
  {
   "cell_type": "code",
   "execution_count": 1700,
   "id": "3729d901-0944-46fa-81e3-e0363c2ef277",
   "metadata": {},
   "outputs": [
    {
     "data": {
      "text/html": [
       "<div>\n",
       "<style scoped>\n",
       "    .dataframe tbody tr th:only-of-type {\n",
       "        vertical-align: middle;\n",
       "    }\n",
       "\n",
       "    .dataframe tbody tr th {\n",
       "        vertical-align: top;\n",
       "    }\n",
       "\n",
       "    .dataframe thead th {\n",
       "        text-align: right;\n",
       "    }\n",
       "</style>\n",
       "<table border=\"1\" class=\"dataframe\">\n",
       "  <thead>\n",
       "    <tr style=\"text-align: right;\">\n",
       "      <th></th>\n",
       "      <th>client_id</th>\n",
       "      <th>txn_time</th>\n",
       "      <th>unix_time</th>\n",
       "      <th>amount</th>\n",
       "      <th>type</th>\n",
       "      <th>channel</th>\n",
       "      <th>category</th>\n",
       "      <th>online</th>\n",
       "      <th>merchant_id</th>\n",
       "      <th>trans_city</th>\n",
       "      <th>trans_lat</th>\n",
       "      <th>trans_lon</th>\n",
       "      <th>trans_ip</th>\n",
       "      <th>device_id</th>\n",
       "      <th>account_to</th>\n",
       "      <th>is_fraud</th>\n",
       "      <th>is_suspicious</th>\n",
       "      <th>status</th>\n",
       "      <th>rule</th>\n",
       "    </tr>\n",
       "  </thead>\n",
       "  <tbody>\n",
       "    <tr>\n",
       "      <th>0</th>\n",
       "      <td>1</td>\n",
       "      <td>2025-01-17 08:20:00</td>\n",
       "      <td>1737102000</td>\n",
       "      <td>45000.0</td>\n",
       "      <td>inbound</td>\n",
       "      <td>transfer</td>\n",
       "      <td>not applicable</td>\n",
       "      <td>True</td>\n",
       "      <td>NaN</td>\n",
       "      <td>not applicable</td>\n",
       "      <td>NaN</td>\n",
       "      <td>NaN</td>\n",
       "      <td>not applicable</td>\n",
       "      <td>&lt;NA&gt;</td>\n",
       "      <td>1</td>\n",
       "      <td>False</td>\n",
       "      <td>False</td>\n",
       "      <td>approved</td>\n",
       "      <td>not applicable</td>\n",
       "    </tr>\n",
       "    <tr>\n",
       "      <th>1</th>\n",
       "      <td>1</td>\n",
       "      <td>2025-01-17 10:35:00</td>\n",
       "      <td>1737110100</td>\n",
       "      <td>22500.0</td>\n",
       "      <td>withdrawal</td>\n",
       "      <td>ATM</td>\n",
       "      <td>not applicable</td>\n",
       "      <td>False</td>\n",
       "      <td>NaN</td>\n",
       "      <td>Рязань</td>\n",
       "      <td>54.625457</td>\n",
       "      <td>39.735999</td>\n",
       "      <td>not applicable</td>\n",
       "      <td>&lt;NA&gt;</td>\n",
       "      <td>1</td>\n",
       "      <td>False</td>\n",
       "      <td>False</td>\n",
       "      <td>approved</td>\n",
       "      <td>not applicable</td>\n",
       "    </tr>\n",
       "    <tr>\n",
       "      <th>2</th>\n",
       "      <td>1</td>\n",
       "      <td>2025-01-17 11:40:00</td>\n",
       "      <td>1737114000</td>\n",
       "      <td>22500.0</td>\n",
       "      <td>withdrawal</td>\n",
       "      <td>ATM</td>\n",
       "      <td>not applicable</td>\n",
       "      <td>False</td>\n",
       "      <td>NaN</td>\n",
       "      <td>Рязань</td>\n",
       "      <td>54.625457</td>\n",
       "      <td>39.735999</td>\n",
       "      <td>not applicable</td>\n",
       "      <td>&lt;NA&gt;</td>\n",
       "      <td>1</td>\n",
       "      <td>False</td>\n",
       "      <td>False</td>\n",
       "      <td>approved</td>\n",
       "      <td>not applicable</td>\n",
       "    </tr>\n",
       "  </tbody>\n",
       "</table>\n",
       "</div>"
      ],
      "text/plain": [
       "   client_id            txn_time   unix_time   amount        type   channel  \\\n",
       "0          1 2025-01-17 08:20:00  1737102000  45000.0     inbound  transfer   \n",
       "1          1 2025-01-17 10:35:00  1737110100  22500.0  withdrawal       ATM   \n",
       "2          1 2025-01-17 11:40:00  1737114000  22500.0  withdrawal       ATM   \n",
       "\n",
       "         category  online  merchant_id      trans_city  trans_lat  trans_lon  \\\n",
       "0  not applicable    True          NaN  not applicable        NaN        NaN   \n",
       "1  not applicable   False          NaN          Рязань  54.625457  39.735999   \n",
       "2  not applicable   False          NaN          Рязань  54.625457  39.735999   \n",
       "\n",
       "         trans_ip device_id  account_to  is_fraud  is_suspicious    status  \\\n",
       "0  not applicable      <NA>           1     False          False  approved   \n",
       "1  not applicable      <NA>           1     False          False  approved   \n",
       "2  not applicable      <NA>           1     False          False  approved   \n",
       "\n",
       "             rule  \n",
       "0  not applicable  \n",
       "1  not applicable  \n",
       "2  not applicable  "
      ]
     },
     "execution_count": 1700,
     "metadata": {},
     "output_type": "execute_result"
    }
   ],
   "source": [
    "create_drop_txn_tst.reset_cache(only_counters=False)\n",
    "drop_client_test2.reset_cache(balance=True, used_accounts=True, chunk_size=True, batch_txns=True)\n",
    "receive_txn4 = create_drop_txn_tst.single_operation(online=True, declined=False, in_chunks=False, receive=True)\n",
    "\n",
    "all_txns4 = [receive_txn4]\n",
    "while drop_client_test2.balance > 0:\n",
    "    part_out = create_drop_txn_tst.single_operation(online=False, receive=False, declined=False, in_chunks=True)\n",
    "    all_txns4.append(part_out)\n",
    "pd.DataFrame(all_txns4)"
   ]
  },
  {
   "cell_type": "markdown",
   "id": "fc0e62f1-16ea-4c19-b67e-4d745e33c426",
   "metadata": {},
   "source": [
    "Отклоненный входящий перевод"
   ]
  },
  {
   "cell_type": "code",
   "execution_count": 1706,
   "id": "dca21431-1c51-416a-a8b8-643f65e117e8",
   "metadata": {},
   "outputs": [
    {
     "data": {
      "text/html": [
       "<div>\n",
       "<style scoped>\n",
       "    .dataframe tbody tr th:only-of-type {\n",
       "        vertical-align: middle;\n",
       "    }\n",
       "\n",
       "    .dataframe tbody tr th {\n",
       "        vertical-align: top;\n",
       "    }\n",
       "\n",
       "    .dataframe thead th {\n",
       "        text-align: right;\n",
       "    }\n",
       "</style>\n",
       "<table border=\"1\" class=\"dataframe\">\n",
       "  <thead>\n",
       "    <tr style=\"text-align: right;\">\n",
       "      <th></th>\n",
       "      <th>client_id</th>\n",
       "      <th>txn_time</th>\n",
       "      <th>unix_time</th>\n",
       "      <th>amount</th>\n",
       "      <th>type</th>\n",
       "      <th>channel</th>\n",
       "      <th>category</th>\n",
       "      <th>online</th>\n",
       "      <th>merchant_id</th>\n",
       "      <th>trans_city</th>\n",
       "      <th>trans_lat</th>\n",
       "      <th>trans_lon</th>\n",
       "      <th>trans_ip</th>\n",
       "      <th>device_id</th>\n",
       "      <th>account_to</th>\n",
       "      <th>is_fraud</th>\n",
       "      <th>is_suspicious</th>\n",
       "      <th>status</th>\n",
       "      <th>rule</th>\n",
       "    </tr>\n",
       "  </thead>\n",
       "  <tbody>\n",
       "    <tr>\n",
       "      <th>0</th>\n",
       "      <td>1</td>\n",
       "      <td>2025-01-01 07:56:00</td>\n",
       "      <td>1735718160</td>\n",
       "      <td>30000.0</td>\n",
       "      <td>inbound</td>\n",
       "      <td>transfer</td>\n",
       "      <td>not applicable</td>\n",
       "      <td>True</td>\n",
       "      <td>NaN</td>\n",
       "      <td>not applicable</td>\n",
       "      <td>NaN</td>\n",
       "      <td>NaN</td>\n",
       "      <td>not applicable</td>\n",
       "      <td>&lt;NA&gt;</td>\n",
       "      <td>1</td>\n",
       "      <td>True</td>\n",
       "      <td>False</td>\n",
       "      <td>declined</td>\n",
       "      <td>client_is_drop</td>\n",
       "    </tr>\n",
       "  </tbody>\n",
       "</table>\n",
       "</div>"
      ],
      "text/plain": [
       "   client_id            txn_time   unix_time   amount     type   channel  \\\n",
       "0          1 2025-01-01 07:56:00  1735718160  30000.0  inbound  transfer   \n",
       "\n",
       "         category  online  merchant_id      trans_city  trans_lat  trans_lon  \\\n",
       "0  not applicable    True          NaN  not applicable        NaN        NaN   \n",
       "\n",
       "         trans_ip device_id  account_to  is_fraud  is_suspicious    status  \\\n",
       "0  not applicable      <NA>           1      True          False  declined   \n",
       "\n",
       "             rule  \n",
       "0  client_is_drop  "
      ]
     },
     "execution_count": 1706,
     "metadata": {},
     "output_type": "execute_result"
    }
   ],
   "source": [
    "create_drop_txn_tst.reset_cache(only_counters=False)\n",
    "drop_client_test2.reset_cache(balance=True, used_accounts=True, chunk_size=True, batch_txns=True)\n",
    "receive_txn5 = create_drop_txn_tst.single_operation(online=True, receive=True, declined=True, in_chunks=False)\n",
    "pd.DataFrame([receive_txn5])"
   ]
  },
  {
   "cell_type": "code",
   "execution_count": 1707,
   "id": "2b9921df-93e1-4c8a-8741-de85996b0e7a",
   "metadata": {},
   "outputs": [
    {
     "data": {
      "text/plain": [
       "(0, 0)"
      ]
     },
     "execution_count": 1707,
     "metadata": {},
     "output_type": "execute_result"
    }
   ],
   "source": [
    "drop_client_test2.balance, drop_client_test2.batch_txns"
   ]
  },
  {
   "cell_type": "markdown",
   "id": "245cd0e3-0fc9-47ef-a439-9a64e524bbb8",
   "metadata": {},
   "source": [
    "Отклоненный исходящий перевод целиком"
   ]
  },
  {
   "cell_type": "code",
   "execution_count": null,
   "id": "cdb8b08f-471b-4b46-8369-a106b4fa6966",
   "metadata": {},
   "outputs": [],
   "source": [
    "online=True, receive=False, declined=True, in_chunks=False"
   ]
  },
  {
   "cell_type": "code",
   "execution_count": 1710,
   "id": "d9af35c0-6448-491f-ba23-bb50f1d31c2a",
   "metadata": {},
   "outputs": [
    {
     "data": {
      "text/html": [
       "<div>\n",
       "<style scoped>\n",
       "    .dataframe tbody tr th:only-of-type {\n",
       "        vertical-align: middle;\n",
       "    }\n",
       "\n",
       "    .dataframe tbody tr th {\n",
       "        vertical-align: top;\n",
       "    }\n",
       "\n",
       "    .dataframe thead th {\n",
       "        text-align: right;\n",
       "    }\n",
       "</style>\n",
       "<table border=\"1\" class=\"dataframe\">\n",
       "  <thead>\n",
       "    <tr style=\"text-align: right;\">\n",
       "      <th></th>\n",
       "      <th>client_id</th>\n",
       "      <th>txn_time</th>\n",
       "      <th>unix_time</th>\n",
       "      <th>amount</th>\n",
       "      <th>type</th>\n",
       "      <th>channel</th>\n",
       "      <th>category</th>\n",
       "      <th>online</th>\n",
       "      <th>merchant_id</th>\n",
       "      <th>trans_city</th>\n",
       "      <th>trans_lat</th>\n",
       "      <th>trans_lon</th>\n",
       "      <th>trans_ip</th>\n",
       "      <th>device_id</th>\n",
       "      <th>account_to</th>\n",
       "      <th>is_fraud</th>\n",
       "      <th>is_suspicious</th>\n",
       "      <th>status</th>\n",
       "      <th>rule</th>\n",
       "    </tr>\n",
       "  </thead>\n",
       "  <tbody>\n",
       "    <tr>\n",
       "      <th>0</th>\n",
       "      <td>1</td>\n",
       "      <td>2025-01-30 12:16:00</td>\n",
       "      <td>1738239360</td>\n",
       "      <td>25000.0</td>\n",
       "      <td>inbound</td>\n",
       "      <td>transfer</td>\n",
       "      <td>not applicable</td>\n",
       "      <td>True</td>\n",
       "      <td>NaN</td>\n",
       "      <td>not applicable</td>\n",
       "      <td>NaN</td>\n",
       "      <td>NaN</td>\n",
       "      <td>not applicable</td>\n",
       "      <td>&lt;NA&gt;</td>\n",
       "      <td>1</td>\n",
       "      <td>False</td>\n",
       "      <td>False</td>\n",
       "      <td>approved</td>\n",
       "      <td>not applicable</td>\n",
       "    </tr>\n",
       "    <tr>\n",
       "      <th>1</th>\n",
       "      <td>1</td>\n",
       "      <td>2025-01-30 14:51:00</td>\n",
       "      <td>1738248660</td>\n",
       "      <td>25000.0</td>\n",
       "      <td>outbound</td>\n",
       "      <td>transfer</td>\n",
       "      <td>not applicable</td>\n",
       "      <td>True</td>\n",
       "      <td>NaN</td>\n",
       "      <td>Рязань</td>\n",
       "      <td>54.625457</td>\n",
       "      <td>39.735999</td>\n",
       "      <td>2.60.0.1</td>\n",
       "      <td>1</td>\n",
       "      <td>17922</td>\n",
       "      <td>True</td>\n",
       "      <td>False</td>\n",
       "      <td>declined</td>\n",
       "      <td>client_is_drop</td>\n",
       "    </tr>\n",
       "  </tbody>\n",
       "</table>\n",
       "</div>"
      ],
      "text/plain": [
       "   client_id            txn_time   unix_time   amount      type   channel  \\\n",
       "0          1 2025-01-30 12:16:00  1738239360  25000.0   inbound  transfer   \n",
       "1          1 2025-01-30 14:51:00  1738248660  25000.0  outbound  transfer   \n",
       "\n",
       "         category  online  merchant_id      trans_city  trans_lat  trans_lon  \\\n",
       "0  not applicable    True          NaN  not applicable        NaN        NaN   \n",
       "1  not applicable    True          NaN          Рязань  54.625457  39.735999   \n",
       "\n",
       "         trans_ip device_id  account_to  is_fraud  is_suspicious    status  \\\n",
       "0  not applicable      <NA>           1     False          False  approved   \n",
       "1        2.60.0.1         1       17922      True          False  declined   \n",
       "\n",
       "             rule  \n",
       "0  not applicable  \n",
       "1  client_is_drop  "
      ]
     },
     "execution_count": 1710,
     "metadata": {},
     "output_type": "execute_result"
    }
   ],
   "source": [
    "create_drop_txn_tst.reset_cache(only_counters=False)\n",
    "drop_client_test2.reset_cache(balance=True, used_accounts=True, chunk_size=True, batch_txns=True)\n",
    "receive_txn6 = create_drop_txn_tst.single_operation(online=True, receive=True, declined=False, in_chunks=False)\n",
    "\n",
    "whole_out2 = create_drop_txn_tst.single_operation(online=True, receive=False, declined=True, in_chunks=False)\n",
    "\n",
    "\n",
    "pd.concat([pd.DataFrame([receive_txn6]), pd.DataFrame([whole_out2])], ignore_index=True)"
   ]
  },
  {
   "cell_type": "code",
   "execution_count": 1711,
   "id": "e6f0bc61-6c29-4b51-8170-d6d6b1c33f02",
   "metadata": {},
   "outputs": [
    {
     "data": {
      "text/plain": [
       "(np.float64(25000.0), 1)"
      ]
     },
     "execution_count": 1711,
     "metadata": {},
     "output_type": "execute_result"
    }
   ],
   "source": [
    "drop_client_test2.balance, drop_client_test2.batch_txns"
   ]
  },
  {
   "cell_type": "markdown",
   "id": "cf1d2620-6d59-461b-ad4b-091392ff50b6",
   "metadata": {},
   "source": [
    "**Отклоненное снятие целиком**"
   ]
  },
  {
   "cell_type": "code",
   "execution_count": 1781,
   "id": "fbd49dd8-04ec-4020-9ee5-842a49cc3f95",
   "metadata": {},
   "outputs": [
    {
     "data": {
      "text/html": [
       "<div>\n",
       "<style scoped>\n",
       "    .dataframe tbody tr th:only-of-type {\n",
       "        vertical-align: middle;\n",
       "    }\n",
       "\n",
       "    .dataframe tbody tr th {\n",
       "        vertical-align: top;\n",
       "    }\n",
       "\n",
       "    .dataframe thead th {\n",
       "        text-align: right;\n",
       "    }\n",
       "</style>\n",
       "<table border=\"1\" class=\"dataframe\">\n",
       "  <thead>\n",
       "    <tr style=\"text-align: right;\">\n",
       "      <th></th>\n",
       "      <th>client_id</th>\n",
       "      <th>txn_time</th>\n",
       "      <th>unix_time</th>\n",
       "      <th>amount</th>\n",
       "      <th>type</th>\n",
       "      <th>channel</th>\n",
       "      <th>category</th>\n",
       "      <th>online</th>\n",
       "      <th>merchant_id</th>\n",
       "      <th>trans_city</th>\n",
       "      <th>trans_lat</th>\n",
       "      <th>trans_lon</th>\n",
       "      <th>trans_ip</th>\n",
       "      <th>device_id</th>\n",
       "      <th>account_to</th>\n",
       "      <th>is_fraud</th>\n",
       "      <th>is_suspicious</th>\n",
       "      <th>status</th>\n",
       "      <th>rule</th>\n",
       "    </tr>\n",
       "  </thead>\n",
       "  <tbody>\n",
       "    <tr>\n",
       "      <th>0</th>\n",
       "      <td>1</td>\n",
       "      <td>2025-01-03 14:40:00</td>\n",
       "      <td>1735915200</td>\n",
       "      <td>29500.0</td>\n",
       "      <td>inbound</td>\n",
       "      <td>transfer</td>\n",
       "      <td>not applicable</td>\n",
       "      <td>True</td>\n",
       "      <td>NaN</td>\n",
       "      <td>not applicable</td>\n",
       "      <td>NaN</td>\n",
       "      <td>NaN</td>\n",
       "      <td>not applicable</td>\n",
       "      <td>&lt;NA&gt;</td>\n",
       "      <td>1</td>\n",
       "      <td>False</td>\n",
       "      <td>False</td>\n",
       "      <td>approved</td>\n",
       "      <td>not applicable</td>\n",
       "    </tr>\n",
       "    <tr>\n",
       "      <th>1</th>\n",
       "      <td>1</td>\n",
       "      <td>2025-01-03 15:42:00</td>\n",
       "      <td>1735918920</td>\n",
       "      <td>29500.0</td>\n",
       "      <td>withdrawal</td>\n",
       "      <td>ATM</td>\n",
       "      <td>not applicable</td>\n",
       "      <td>False</td>\n",
       "      <td>NaN</td>\n",
       "      <td>Рязань</td>\n",
       "      <td>54.625457</td>\n",
       "      <td>39.735999</td>\n",
       "      <td>not applicable</td>\n",
       "      <td>&lt;NA&gt;</td>\n",
       "      <td>1</td>\n",
       "      <td>True</td>\n",
       "      <td>False</td>\n",
       "      <td>declined</td>\n",
       "      <td>client_is_drop</td>\n",
       "    </tr>\n",
       "  </tbody>\n",
       "</table>\n",
       "</div>"
      ],
      "text/plain": [
       "   client_id            txn_time   unix_time   amount        type   channel  \\\n",
       "0          1 2025-01-03 14:40:00  1735915200  29500.0     inbound  transfer   \n",
       "1          1 2025-01-03 15:42:00  1735918920  29500.0  withdrawal       ATM   \n",
       "\n",
       "         category  online  merchant_id      trans_city  trans_lat  trans_lon  \\\n",
       "0  not applicable    True          NaN  not applicable        NaN        NaN   \n",
       "1  not applicable   False          NaN          Рязань  54.625457  39.735999   \n",
       "\n",
       "         trans_ip device_id  account_to  is_fraud  is_suspicious    status  \\\n",
       "0  not applicable      <NA>           1     False          False  approved   \n",
       "1  not applicable      <NA>           1      True          False  declined   \n",
       "\n",
       "             rule  \n",
       "0  not applicable  \n",
       "1  client_is_drop  "
      ]
     },
     "execution_count": 1781,
     "metadata": {},
     "output_type": "execute_result"
    }
   ],
   "source": [
    "create_drop_txn_tst.reset_cache(only_counters=False)\n",
    "drop_client_test2.reset_cache(balance=True, used_accounts=True, chunk_size=True, batch_txns=True)\n",
    "receive_txn7 = create_drop_txn_tst.single_operation(online=True, declined=False, in_chunks=False, receive=True)\n",
    "whole_atm_2 = create_drop_txn_tst.single_operation(online=False, receive=False, declined=True, in_chunks=False)\n",
    "\n",
    "pd.concat([pd.DataFrame([receive_txn7]), pd.DataFrame([whole_atm_2])], ignore_index=True)"
   ]
  },
  {
   "cell_type": "code",
   "execution_count": 1782,
   "id": "a143a7a1-2763-4456-be69-b270e7b155d2",
   "metadata": {},
   "outputs": [
    {
     "data": {
      "text/plain": [
       "(np.float64(29500.0), 1)"
      ]
     },
     "execution_count": 1782,
     "metadata": {},
     "output_type": "execute_result"
    }
   ],
   "source": [
    "drop_client_test2.balance, drop_client_test2.batch_txns"
   ]
  },
  {
   "cell_type": "markdown",
   "id": "5003d750-9234-41a5-830f-23092d753c46",
   "metadata": {},
   "source": [
    "**Отклоненный  исходящий перевод частями**"
   ]
  },
  {
   "cell_type": "code",
   "execution_count": 1794,
   "id": "574d86cf-b676-4307-839f-fbc6aa77aedb",
   "metadata": {},
   "outputs": [
    {
     "data": {
      "text/plain": [
       "(0, 0, 0, False)"
      ]
     },
     "execution_count": 1794,
     "metadata": {},
     "output_type": "execute_result"
    }
   ],
   "source": [
    "# Объявление новых объектов классов для тестов.\n",
    "drop_txn_part_data = FraudTransPartialData(merchants_df=pd.DataFrame(), client_info=clients_with_geo.loc[0], \\\n",
    "                                        online_merchant_ids=pd.DataFrame(), fraud_ips=fraud_ips, used_ips=pd.Series(), \\\n",
    "                                         fraud_devices=fraud_devices,  used_devices=pd.Series(), \\\n",
    "                                        client_devices=client_devices)\n",
    "\n",
    "\n",
    "drop_client_test2 = DropClient(accounts=accounts, account=1, outer_accounts=outer_accounts)\n",
    "\n",
    "create_drop_txn_tst = CreateDropTxn(timestamps=drop_stamps, trans_partial_data=drop_txn_part_data, drop_client_cls=drop_client_test2, \\\n",
    "                                      in_txns=0, out_txns=0, in_lim=6, out_lim=8, last_txn={}, attempts=0)\n",
    "create_drop_txn_tst.reset_cache(only_counters=False)\n",
    "create_drop_txn_tst.in_txns, create_drop_txn_tst.out_txns, drop_client_test2.batch_txns, create_drop_txn_tst.limit_reached()"
   ]
  },
  {
   "cell_type": "code",
   "execution_count": 1795,
   "id": "8e06d170-674c-4223-9c69-c20516c96747",
   "metadata": {},
   "outputs": [
    {
     "name": "stdout",
     "output_type": "stream",
     "text": [
      "iter 1\n",
      "iter 2\n",
      "iter 3\n",
      "iter 4\n",
      "iter 5\n",
      "iter 6\n",
      "iter 7\n",
      "iter 8\n",
      "iter 9\n"
     ]
    }
   ],
   "source": [
    "create_drop_txn_tst.reset_cache(only_counters=False)\n",
    "drop_client_test2.reset_cache(balance=True, used_accounts=True, chunk_size=True, batch_txns=True)\n",
    "all_txns5 = []\n",
    "declined=False\n",
    "crypto_rate = 0.05\n",
    "create_drop_txn_tst.attempts_after_decline(min=0, max=1)\n",
    "drop_client_test2.chunk_size = 5000\n",
    "drop_client_test2.batch_txns = 1\n",
    "\n",
    "i = 1\n",
    "\n",
    "while True:\n",
    "    receive_txn8 = create_drop_txn_tst.single_operation(online=True, declined=declined, in_chunks=False, receive=True)\n",
    "    all_txns5.append(receive_txn8)\n",
    "    if declined:\n",
    "        break\n",
    "        \n",
    "    while drop_client_test2.balance > 0:\n",
    "        if np.random.uniform(0, 1) < crypto_rate:\n",
    "            part_out = create_drop_txn_tst.purchase(online=True, declined=declined, in_chunks=True, channel=\"crypto_exchange\")\n",
    "        else:\n",
    "            part_out = create_drop_txn_tst.cash_flow_action(online=True, receive=False, declined=declined, in_chunks=True)\n",
    "        all_txns5.append(part_out)\n",
    "        print(f\"iter {i}\")\n",
    "        create_drop_txn_tst.deduct_attempts(declined=declined, receive=False) \n",
    "        if create_drop_txn_tst.stop_after_decline(declined=declined):\n",
    "            break\n",
    "           \n",
    "        declined = create_drop_txn_tst.limit_reached()\n",
    "        i += 1\n",
    "        \n",
    "    # pd.DataFrame(all_txns5)"
   ]
  },
  {
   "cell_type": "code",
   "execution_count": 1798,
   "id": "054fe891-e681-4292-9c97-01d18770e51f",
   "metadata": {},
   "outputs": [
    {
     "data": {
      "text/html": [
       "<div>\n",
       "<style scoped>\n",
       "    .dataframe tbody tr th:only-of-type {\n",
       "        vertical-align: middle;\n",
       "    }\n",
       "\n",
       "    .dataframe tbody tr th {\n",
       "        vertical-align: top;\n",
       "    }\n",
       "\n",
       "    .dataframe thead th {\n",
       "        text-align: right;\n",
       "    }\n",
       "</style>\n",
       "<table border=\"1\" class=\"dataframe\">\n",
       "  <thead>\n",
       "    <tr style=\"text-align: right;\">\n",
       "      <th></th>\n",
       "      <th>client_id</th>\n",
       "      <th>txn_time</th>\n",
       "      <th>unix_time</th>\n",
       "      <th>amount</th>\n",
       "      <th>type</th>\n",
       "      <th>channel</th>\n",
       "      <th>category</th>\n",
       "      <th>online</th>\n",
       "      <th>merchant_id</th>\n",
       "      <th>trans_city</th>\n",
       "      <th>trans_lat</th>\n",
       "      <th>trans_lon</th>\n",
       "      <th>trans_ip</th>\n",
       "      <th>device_id</th>\n",
       "      <th>account_to</th>\n",
       "      <th>is_fraud</th>\n",
       "      <th>is_suspicious</th>\n",
       "      <th>status</th>\n",
       "      <th>rule</th>\n",
       "    </tr>\n",
       "  </thead>\n",
       "  <tbody>\n",
       "    <tr>\n",
       "      <th>0</th>\n",
       "      <td>1</td>\n",
       "      <td>2025-01-26 19:17:00</td>\n",
       "      <td>1737919020</td>\n",
       "      <td>9000.0</td>\n",
       "      <td>inbound</td>\n",
       "      <td>transfer</td>\n",
       "      <td>not applicable</td>\n",
       "      <td>True</td>\n",
       "      <td>NaN</td>\n",
       "      <td>not applicable</td>\n",
       "      <td>NaN</td>\n",
       "      <td>NaN</td>\n",
       "      <td>not applicable</td>\n",
       "      <td>&lt;NA&gt;</td>\n",
       "      <td>1</td>\n",
       "      <td>False</td>\n",
       "      <td>False</td>\n",
       "      <td>approved</td>\n",
       "      <td>not applicable</td>\n",
       "    </tr>\n",
       "    <tr>\n",
       "      <th>1</th>\n",
       "      <td>1</td>\n",
       "      <td>2025-01-26 19:54:00</td>\n",
       "      <td>1737921240</td>\n",
       "      <td>5000.0</td>\n",
       "      <td>outbound</td>\n",
       "      <td>transfer</td>\n",
       "      <td>not applicable</td>\n",
       "      <td>True</td>\n",
       "      <td>NaN</td>\n",
       "      <td>Рязань</td>\n",
       "      <td>54.625457</td>\n",
       "      <td>39.735999</td>\n",
       "      <td>2.60.0.1</td>\n",
       "      <td>2</td>\n",
       "      <td>17264</td>\n",
       "      <td>False</td>\n",
       "      <td>False</td>\n",
       "      <td>approved</td>\n",
       "      <td>not applicable</td>\n",
       "    </tr>\n",
       "    <tr>\n",
       "      <th>2</th>\n",
       "      <td>1</td>\n",
       "      <td>2025-01-26 22:17:00</td>\n",
       "      <td>1737929820</td>\n",
       "      <td>4000.0</td>\n",
       "      <td>outbound</td>\n",
       "      <td>transfer</td>\n",
       "      <td>not applicable</td>\n",
       "      <td>True</td>\n",
       "      <td>NaN</td>\n",
       "      <td>Рязань</td>\n",
       "      <td>54.625457</td>\n",
       "      <td>39.735999</td>\n",
       "      <td>2.60.0.1</td>\n",
       "      <td>2</td>\n",
       "      <td>18967</td>\n",
       "      <td>False</td>\n",
       "      <td>False</td>\n",
       "      <td>approved</td>\n",
       "      <td>not applicable</td>\n",
       "    </tr>\n",
       "    <tr>\n",
       "      <th>3</th>\n",
       "      <td>1</td>\n",
       "      <td>2025-01-26 23:24:00</td>\n",
       "      <td>1737933840</td>\n",
       "      <td>32500.0</td>\n",
       "      <td>inbound</td>\n",
       "      <td>transfer</td>\n",
       "      <td>not applicable</td>\n",
       "      <td>True</td>\n",
       "      <td>NaN</td>\n",
       "      <td>not applicable</td>\n",
       "      <td>NaN</td>\n",
       "      <td>NaN</td>\n",
       "      <td>not applicable</td>\n",
       "      <td>&lt;NA&gt;</td>\n",
       "      <td>1</td>\n",
       "      <td>False</td>\n",
       "      <td>False</td>\n",
       "      <td>approved</td>\n",
       "      <td>not applicable</td>\n",
       "    </tr>\n",
       "    <tr>\n",
       "      <th>4</th>\n",
       "      <td>1</td>\n",
       "      <td>2025-01-27 21:51:00</td>\n",
       "      <td>1738014660</td>\n",
       "      <td>5000.0</td>\n",
       "      <td>outbound</td>\n",
       "      <td>transfer</td>\n",
       "      <td>not applicable</td>\n",
       "      <td>True</td>\n",
       "      <td>NaN</td>\n",
       "      <td>Рязань</td>\n",
       "      <td>54.625457</td>\n",
       "      <td>39.735999</td>\n",
       "      <td>2.60.0.1</td>\n",
       "      <td>2</td>\n",
       "      <td>20290</td>\n",
       "      <td>False</td>\n",
       "      <td>False</td>\n",
       "      <td>approved</td>\n",
       "      <td>not applicable</td>\n",
       "    </tr>\n",
       "    <tr>\n",
       "      <th>5</th>\n",
       "      <td>1</td>\n",
       "      <td>2025-01-28 19:29:00</td>\n",
       "      <td>1738092540</td>\n",
       "      <td>5000.0</td>\n",
       "      <td>outbound</td>\n",
       "      <td>transfer</td>\n",
       "      <td>not applicable</td>\n",
       "      <td>True</td>\n",
       "      <td>NaN</td>\n",
       "      <td>Рязань</td>\n",
       "      <td>54.625457</td>\n",
       "      <td>39.735999</td>\n",
       "      <td>2.60.0.1</td>\n",
       "      <td>2</td>\n",
       "      <td>20575</td>\n",
       "      <td>False</td>\n",
       "      <td>False</td>\n",
       "      <td>approved</td>\n",
       "      <td>not applicable</td>\n",
       "    </tr>\n",
       "    <tr>\n",
       "      <th>6</th>\n",
       "      <td>1</td>\n",
       "      <td>2025-01-29 18:13:00</td>\n",
       "      <td>1738174380</td>\n",
       "      <td>5000.0</td>\n",
       "      <td>outbound</td>\n",
       "      <td>transfer</td>\n",
       "      <td>not applicable</td>\n",
       "      <td>True</td>\n",
       "      <td>NaN</td>\n",
       "      <td>Рязань</td>\n",
       "      <td>54.625457</td>\n",
       "      <td>39.735999</td>\n",
       "      <td>2.60.0.1</td>\n",
       "      <td>1</td>\n",
       "      <td>19220</td>\n",
       "      <td>False</td>\n",
       "      <td>False</td>\n",
       "      <td>approved</td>\n",
       "      <td>not applicable</td>\n",
       "    </tr>\n",
       "    <tr>\n",
       "      <th>7</th>\n",
       "      <td>1</td>\n",
       "      <td>2025-01-30 16:10:00</td>\n",
       "      <td>1738253400</td>\n",
       "      <td>5000.0</td>\n",
       "      <td>outbound</td>\n",
       "      <td>transfer</td>\n",
       "      <td>not applicable</td>\n",
       "      <td>True</td>\n",
       "      <td>NaN</td>\n",
       "      <td>Рязань</td>\n",
       "      <td>54.625457</td>\n",
       "      <td>39.735999</td>\n",
       "      <td>2.60.0.1</td>\n",
       "      <td>1</td>\n",
       "      <td>23528</td>\n",
       "      <td>False</td>\n",
       "      <td>False</td>\n",
       "      <td>approved</td>\n",
       "      <td>not applicable</td>\n",
       "    </tr>\n",
       "    <tr>\n",
       "      <th>8</th>\n",
       "      <td>1</td>\n",
       "      <td>2025-01-31 13:16:00</td>\n",
       "      <td>1738329360</td>\n",
       "      <td>5000.0</td>\n",
       "      <td>outbound</td>\n",
       "      <td>transfer</td>\n",
       "      <td>not applicable</td>\n",
       "      <td>True</td>\n",
       "      <td>NaN</td>\n",
       "      <td>Рязань</td>\n",
       "      <td>54.625457</td>\n",
       "      <td>39.735999</td>\n",
       "      <td>2.60.0.1</td>\n",
       "      <td>2</td>\n",
       "      <td>24752</td>\n",
       "      <td>False</td>\n",
       "      <td>False</td>\n",
       "      <td>approved</td>\n",
       "      <td>not applicable</td>\n",
       "    </tr>\n",
       "    <tr>\n",
       "      <th>9</th>\n",
       "      <td>1</td>\n",
       "      <td>2025-02-01 10:57:00</td>\n",
       "      <td>1738407420</td>\n",
       "      <td>5000.0</td>\n",
       "      <td>outbound</td>\n",
       "      <td>transfer</td>\n",
       "      <td>not applicable</td>\n",
       "      <td>True</td>\n",
       "      <td>NaN</td>\n",
       "      <td>Рязань</td>\n",
       "      <td>54.625457</td>\n",
       "      <td>39.735999</td>\n",
       "      <td>2.60.0.1</td>\n",
       "      <td>1</td>\n",
       "      <td>16527</td>\n",
       "      <td>False</td>\n",
       "      <td>False</td>\n",
       "      <td>approved</td>\n",
       "      <td>not applicable</td>\n",
       "    </tr>\n",
       "    <tr>\n",
       "      <th>10</th>\n",
       "      <td>1</td>\n",
       "      <td>2025-02-02 10:50:00</td>\n",
       "      <td>1738493400</td>\n",
       "      <td>2500.0</td>\n",
       "      <td>outbound</td>\n",
       "      <td>transfer</td>\n",
       "      <td>not applicable</td>\n",
       "      <td>True</td>\n",
       "      <td>NaN</td>\n",
       "      <td>Рязань</td>\n",
       "      <td>54.625457</td>\n",
       "      <td>39.735999</td>\n",
       "      <td>2.60.0.1</td>\n",
       "      <td>1</td>\n",
       "      <td>16215</td>\n",
       "      <td>True</td>\n",
       "      <td>False</td>\n",
       "      <td>declined</td>\n",
       "      <td>client_is_drop</td>\n",
       "    </tr>\n",
       "    <tr>\n",
       "      <th>11</th>\n",
       "      <td>1</td>\n",
       "      <td>2025-02-03 11:57:00</td>\n",
       "      <td>1738583820</td>\n",
       "      <td>35000.0</td>\n",
       "      <td>inbound</td>\n",
       "      <td>transfer</td>\n",
       "      <td>not applicable</td>\n",
       "      <td>True</td>\n",
       "      <td>NaN</td>\n",
       "      <td>not applicable</td>\n",
       "      <td>NaN</td>\n",
       "      <td>NaN</td>\n",
       "      <td>not applicable</td>\n",
       "      <td>&lt;NA&gt;</td>\n",
       "      <td>1</td>\n",
       "      <td>True</td>\n",
       "      <td>False</td>\n",
       "      <td>declined</td>\n",
       "      <td>client_is_drop</td>\n",
       "    </tr>\n",
       "  </tbody>\n",
       "</table>\n",
       "</div>"
      ],
      "text/plain": [
       "    client_id            txn_time   unix_time   amount      type   channel  \\\n",
       "0           1 2025-01-26 19:17:00  1737919020   9000.0   inbound  transfer   \n",
       "1           1 2025-01-26 19:54:00  1737921240   5000.0  outbound  transfer   \n",
       "2           1 2025-01-26 22:17:00  1737929820   4000.0  outbound  transfer   \n",
       "3           1 2025-01-26 23:24:00  1737933840  32500.0   inbound  transfer   \n",
       "4           1 2025-01-27 21:51:00  1738014660   5000.0  outbound  transfer   \n",
       "5           1 2025-01-28 19:29:00  1738092540   5000.0  outbound  transfer   \n",
       "6           1 2025-01-29 18:13:00  1738174380   5000.0  outbound  transfer   \n",
       "7           1 2025-01-30 16:10:00  1738253400   5000.0  outbound  transfer   \n",
       "8           1 2025-01-31 13:16:00  1738329360   5000.0  outbound  transfer   \n",
       "9           1 2025-02-01 10:57:00  1738407420   5000.0  outbound  transfer   \n",
       "10          1 2025-02-02 10:50:00  1738493400   2500.0  outbound  transfer   \n",
       "11          1 2025-02-03 11:57:00  1738583820  35000.0   inbound  transfer   \n",
       "\n",
       "          category  online  merchant_id      trans_city  trans_lat  trans_lon  \\\n",
       "0   not applicable    True          NaN  not applicable        NaN        NaN   \n",
       "1   not applicable    True          NaN          Рязань  54.625457  39.735999   \n",
       "2   not applicable    True          NaN          Рязань  54.625457  39.735999   \n",
       "3   not applicable    True          NaN  not applicable        NaN        NaN   \n",
       "4   not applicable    True          NaN          Рязань  54.625457  39.735999   \n",
       "5   not applicable    True          NaN          Рязань  54.625457  39.735999   \n",
       "6   not applicable    True          NaN          Рязань  54.625457  39.735999   \n",
       "7   not applicable    True          NaN          Рязань  54.625457  39.735999   \n",
       "8   not applicable    True          NaN          Рязань  54.625457  39.735999   \n",
       "9   not applicable    True          NaN          Рязань  54.625457  39.735999   \n",
       "10  not applicable    True          NaN          Рязань  54.625457  39.735999   \n",
       "11  not applicable    True          NaN  not applicable        NaN        NaN   \n",
       "\n",
       "          trans_ip device_id  account_to  is_fraud  is_suspicious    status  \\\n",
       "0   not applicable      <NA>           1     False          False  approved   \n",
       "1         2.60.0.1         2       17264     False          False  approved   \n",
       "2         2.60.0.1         2       18967     False          False  approved   \n",
       "3   not applicable      <NA>           1     False          False  approved   \n",
       "4         2.60.0.1         2       20290     False          False  approved   \n",
       "5         2.60.0.1         2       20575     False          False  approved   \n",
       "6         2.60.0.1         1       19220     False          False  approved   \n",
       "7         2.60.0.1         1       23528     False          False  approved   \n",
       "8         2.60.0.1         2       24752     False          False  approved   \n",
       "9         2.60.0.1         1       16527     False          False  approved   \n",
       "10        2.60.0.1         1       16215      True          False  declined   \n",
       "11  not applicable      <NA>           1      True          False  declined   \n",
       "\n",
       "              rule  \n",
       "0   not applicable  \n",
       "1   not applicable  \n",
       "2   not applicable  \n",
       "3   not applicable  \n",
       "4   not applicable  \n",
       "5   not applicable  \n",
       "6   not applicable  \n",
       "7   not applicable  \n",
       "8   not applicable  \n",
       "9   not applicable  \n",
       "10  client_is_drop  \n",
       "11  client_is_drop  "
      ]
     },
     "execution_count": 1798,
     "metadata": {},
     "output_type": "execute_result"
    }
   ],
   "source": [
    "pd.DataFrame(all_txns5)"
   ]
  },
  {
   "cell_type": "code",
   "execution_count": 1799,
   "id": "919c0c01-a245-4264-9afb-2abcccebaa18",
   "metadata": {},
   "outputs": [
    {
     "data": {
      "text/plain": [
       "np.float64(2500.0)"
      ]
     },
     "execution_count": 1799,
     "metadata": {},
     "output_type": "execute_result"
    }
   ],
   "source": []
  },
  {
   "cell_type": "markdown",
   "id": "09e7f8cc-ff51-42f1-882d-e8a450110296",
   "metadata": {},
   "source": [
    "## Функция генерации транзакции дропа `gen_drop_txn`"
   ]
  },
  {
   "cell_type": "code",
   "execution_count": 1074,
   "id": "7b5bb952-cdbe-447f-96d0-e50830709442",
   "metadata": {},
   "outputs": [],
   "source": [
    "def one_batch_dist(drop_info, drop_client_act: DropClient, batch):\n",
    "    \"\"\"\n",
    "    Распределение дропом одной партии полученных денег\n",
    "    -------------------\n",
    "    drop_info - namedtuples из itertuples(). Информация клиента-дропа из общего датафрейма клиентов\n",
    "    drop_client_act - DropClient. Генератор атрибутов дропа и его действий; генератор счетов транзакций дропа\n",
    "    batch - int. id партии денег полученной дропом.\n",
    "    \"\"\"\n",
    "    amount_received = drop_client_act.received(batch=batch)\n",
    "    scenario = np.random.choice([\"atm-only\", \"transfer+atm\", \"transfer\", \"transfer_chunks\"])\n",
    "    for i in range(n):\n",
    "        if i == 0:\n",
    "            first = True\n",
    "        else:\n",
    "            first = False\n",
    "        \n",
    "        if scenario == \"atm-only\":\n",
    "            atm_withdrawal()\n",
    "            \n",
    "        elif scenario == \"atm+transfer\":\n",
    "            atm_withdrawal()"
   ]
  },
  {
   "cell_type": "markdown",
   "id": "fb5bb613-2e35-413b-8dbe-6723a3dd83c0",
   "metadata": {},
   "source": [
    "## Функция генерации активности дропа `drop_activity`"
   ]
  },
  {
   "cell_type": "code",
   "execution_count": null,
   "id": "3ab4bdc1-6a9b-449c-b050-05438ce51f42",
   "metadata": {},
   "outputs": [],
   "source": [
    "def drop_activity(drop_info, drop_client_act: DropClient, lifetime):\n",
    "    \"\"\"\n",
    "    drop_info - namedtuples из itertuples(). Информация клиента-дропа из общего датафрейма клиентов\n",
    "    drop_client_act - DropClient. Генератор атрибутов дропа и его действий; генератор счетов транзакций дропа.\n",
    "    lifetime - int. Сколько дней дроп будет проявлять активность, учитывая даже отклоненные транзакции\n",
    "    \"\"\"\n",
    "    amount_received = drop_client_act.received(batch=)\n",
    "    scenario = np.random.choice([\"atm-only\", \"transfer+atm\", \"transfer\", \"transfer_chunks\"])\n",
    "    for i in range(n):\n",
    "        if i == 0:\n",
    "            first = True\n",
    "        else:\n",
    "            first = False\n",
    "        \n",
    "        if scenario == \"atm-only\":\n",
    "            atm_withdrawal()\n",
    "            \n",
    "        elif scenario == \"atm+transfer\":\n",
    "            atm_withdrawal()"
   ]
  },
  {
   "cell_type": "code",
   "execution_count": 1077,
   "id": "9d437755-9e76-475c-8662-0778e5a8c6c5",
   "metadata": {},
   "outputs": [
    {
     "data": {
      "text/plain": [
       "\u001b[31mSignature:\u001b[39m\n",
       "DropClient.receive(\n",
       "    self,\n",
       "    batch,\n",
       "    low=\u001b[32m5000\u001b[39m,\n",
       "    high=\u001b[32m100000\u001b[39m,\n",
       "    mean=\u001b[32m30000\u001b[39m,\n",
       "    std=\u001b[32m20000\u001b[39m,\n",
       "    round=\u001b[32m500\u001b[39m,\n",
       ")\n",
       "\u001b[31mDocstring:\u001b[39m\n",
       "Генерация суммы входящего перевода\n",
       "--------------------------\n",
       "batch - int. id текущей партии денег, которую он должен распределить (снять, перевести)\n",
       "low - float. Минимальная сумма\n",
       "high - float. Максимальная сумма\n",
       "mean - float. Средняя сумма\n",
       "std - float. Стандартное отклонение\n",
       "round - int. Округление целой части. По умолчанию 500. Значит числа будут либо с 500 либо с 000 на конце.\n",
       "             При условии что round не больше low и high. Чтобы отменить округление, нужно выставить 1.\n",
       "\u001b[31mFile:\u001b[39m      c:\\users\\iaros\\appdata\\local\\temp\\ipykernel_7648\\484414114.py\n",
       "\u001b[31mType:\u001b[39m      function"
      ]
     },
     "metadata": {},
     "output_type": "display_data"
    }
   ],
   "source": [
    "?DropClient.receive"
   ]
  },
  {
   "cell_type": "markdown",
   "id": "3f8c9ee8-21f3-4fae-add7-b40f1ce5f415",
   "metadata": {},
   "source": [
    "## Функция генерации входящих/исходящих переводов дропов"
   ]
  },
  {
   "cell_type": "code",
   "execution_count": null,
   "id": "af6c2095-486d-45b6-b393-e169507e5418",
   "metadata": {},
   "outputs": [],
   "source": [
    "def drop_transfer(type, first, configs: ConfigForTrans, fraud_amount: TransAmount, \\\n",
    "                 trans_part_data: FraudTransPartialData, last_txn_unix, accounts, lag_interval=None) -> dict:\n",
    "    \n",
    "\tif type == 'inbound':\n",
    "\t\tfraud_amount.transfer(type=type)\n",
    "\t\tfraud_amount.balance += amount\n",
    "\t\ttrans_part_data.original_data(online=True)\n",
    "        \n",
    "\telif type == 'outbound':\n",
    "\t\tTransAmount.transfer(type=type)\n",
    "\t\tTransAmount.balance -= amount\n",
    "\t\ttrans_part_data.original_data(online=True)\n",
    "\n",
    "\tif first:\n",
    "        timestamp_sample = configs.timestamps.sample(1)\n",
    "\t\ttxn_time = timestamp_sample.timestamp.iat[0]\n",
    "        txn_unix = timestamp_sample.unix_time.iat[0]\n",
    "\telse:\n",
    "\t\ttxn_time, txn_unix = derive_from_last_time(last_txn_unix=last_txn_unix, lag_interval=lag_interval)\n",
    "\n",
    "    account = accounts.sample(1).iat[0]\n",
    "\n",
    "\tbuild_trans()\n"
   ]
  },
  {
   "cell_type": "code",
   "execution_count": 820,
   "id": "12287a8c-dd5b-49be-9ad2-60ca02d5d76f",
   "metadata": {},
   "outputs": [
    {
     "data": {
      "text/plain": [
       "\u001b[31mSignature:\u001b[39m\n",
       "get_time_for_trans(\n",
       "    trans_df,\n",
       "    is_fraud,\n",
       "    time_weights,\n",
       "    timestamps,\n",
       "    timestamps_1st_month,\n",
       "    round_clock,\n",
       "    online=\u001b[38;5;28;01mNone\u001b[39;00m,\n",
       "    rule=\u001b[38;5;28;01mNone\u001b[39;00m,\n",
       "    geo_distance=\u001b[38;5;28;01mNone\u001b[39;00m,\n",
       "    lag=\u001b[38;5;28;01mNone\u001b[39;00m,\n",
       ")\n",
       "\u001b[31mDocstring:\u001b[39m\n",
       "trans_df - датафрейм с транзакциями текущего клиента. Откуда брать информацию по предыдущим транзакциям клиента\n",
       "is_fraud - boolean. Фрод или не фрод\n",
       "time_weights - датафрейм с весами часов в периоде времени\n",
       "timestamps - датафрейм с timestamps\n",
       "timestamps_1st_month - сабсет timestamps отфильтрованный по первому месяцу и, если применимо, году. Чтобы генерировать первые транзакции\n",
       "round_clock - boolean. Круглосуточная или дневная категория.\n",
       "online - boolean. Онлайн или оффлайн покупка. True or False\n",
       "rule - str. Название антифрод правила\n",
       "geo_distance - int. Дистанция между локацией последней и текущей транзакции если фрод со сменой геолокации - в километрах\n",
       "lag - boolean. Задержка по времени от предыдущей транзакции. Нужна для моделирования увеличения частоты транзакций.\n",
       "      Это задержка именно между последней легитимной транзакцией и серией частых фрод транзакций. Подразумевается что функция\n",
       "      get_time_for_trans будет использована в цикле, и для первой итерации lag будет True.\n",
       "\n",
       "Возвращает время для генерируемой транзакции в виде pd.Timestamp и в виде unix времени\n",
       "\u001b[31mFile:\u001b[39m      c:\\users\\iaros\\appdata\\local\\temp\\ipykernel_7648\\2964965603.py\n",
       "\u001b[31mType:\u001b[39m      function"
      ]
     },
     "metadata": {},
     "output_type": "display_data"
    }
   ],
   "source": [
    "?get_time_for_trans"
   ]
  },
  {
   "cell_type": "markdown",
   "id": "0f141f47-d74e-4dc7-b32e-f672752f9473",
   "metadata": {},
   "source": [
    "# Урезание количества клиентов - `отменено`\n",
    "**Думаю просто можно равновероятно семплировать n клиентов и все, без ухищрений как внизу**  \n",
    "Т.к. на ~5400 клиентов нужно очень много транзакций, чтобы у каждого их было хотя бы 50.  \n",
    "Условно 270000 транзакций по 50 на 5400 клиентов. Скорее всего генерироваться будут больше часа"
   ]
  },
  {
   "cell_type": "code",
   "execution_count": 436,
   "id": "44f0c719-c049-4d73-b690-7f42efe3f0d4",
   "metadata": {},
   "outputs": [],
   "source": [
    "# на данный момент примерно до 800.\n",
    "\n",
    "# clients_reduced_num = pd.DataFrame(districts_ru.clients.mul(0.15).round().astype(\"int\"))\n",
    "# clients_reduced_num[\"city\"] = districts_ru[\"area\"].copy()\n",
    "# clients_reduced_num\n",
    "\n",
    "# clients_reduced_df = gpd.GeoDataFrame(columns=clients_with_geo.columns)\n",
    "# # clients_reduced_df.columns = \n",
    "# for col, data_type in clients_with_geo.dtypes.items():\n",
    "#     # if data_type != \"geometry\" print(data_type)\n",
    "#     clients_reduced_df[col] = clients_reduced_df[col].astype(f\"{data_type}\")\n",
    "# # list(zip(clients_with_geo.dtypes.items(), clients_reduced_df.columns))\n",
    "# clients_reduced_df.dtypes\n",
    "\n",
    "# for row in clients_reduced_num.itertuples():\n",
    "#     clients_with_geo_part = clients_with_geo.loc[clients_with_geo[\"area\"] == row.city].iloc[0:row.clients]\n",
    "#     clients_reduced_df = pd.concat([clients_reduced_df,clients_with_geo_part])\n",
    "\n",
    "# clients_reduced_df"
   ]
  },
  {
   "cell_type": "code",
   "execution_count": null,
   "id": "2e60511e-1302-4e80-a416-e821da43f3a3",
   "metadata": {},
   "outputs": [],
   "source": []
  },
  {
   "cell_type": "code",
   "execution_count": null,
   "id": "6ab7683e-f333-46a5-ace8-df63d5a937b0",
   "metadata": {},
   "outputs": [],
   "source": []
  },
  {
   "cell_type": "code",
   "execution_count": null,
   "id": "5be99ed7-cc21-4cbd-b454-d56b750582ae",
   "metadata": {},
   "outputs": [],
   "source": []
  },
  {
   "cell_type": "code",
   "execution_count": null,
   "id": "7939b75b-e266-4cde-8249-c9b98671aa58",
   "metadata": {},
   "outputs": [],
   "source": []
  },
  {
   "cell_type": "code",
   "execution_count": null,
   "id": "288064bb-6698-40c2-9d7f-40bbdd8f864e",
   "metadata": {},
   "outputs": [],
   "source": []
  },
  {
   "cell_type": "code",
   "execution_count": null,
   "id": "0762f4d0-c01f-406a-9e0c-70702e533434",
   "metadata": {},
   "outputs": [],
   "source": []
  },
  {
   "cell_type": "code",
   "execution_count": null,
   "id": "47b566a1-9a42-472b-8915-42c0a3d14206",
   "metadata": {},
   "outputs": [],
   "source": []
  },
  {
   "cell_type": "code",
   "execution_count": null,
   "id": "cb70731a-cd97-4741-938b-a96019e34504",
   "metadata": {},
   "outputs": [],
   "source": []
  },
  {
   "cell_type": "code",
   "execution_count": null,
   "id": "adc188fd-70bc-4959-aacd-45e9e308e569",
   "metadata": {},
   "outputs": [],
   "source": []
  },
  {
   "cell_type": "code",
   "execution_count": null,
   "id": "84c29781-401f-4c2c-a384-31d8d41afd46",
   "metadata": {},
   "outputs": [],
   "source": []
  },
  {
   "cell_type": "code",
   "execution_count": null,
   "id": "d8a4f622-3f17-4eb5-b4cc-63e56a8e25a8",
   "metadata": {},
   "outputs": [],
   "source": []
  },
  {
   "cell_type": "code",
   "execution_count": null,
   "id": "2a3c6762-9644-4519-84f5-7890cd69dca7",
   "metadata": {},
   "outputs": [],
   "source": []
  },
  {
   "cell_type": "code",
   "execution_count": null,
   "id": "6b123219-e195-4cc1-9421-3e05d44e78b4",
   "metadata": {},
   "outputs": [],
   "source": []
  },
  {
   "cell_type": "code",
   "execution_count": null,
   "id": "6ad426d1-b818-433a-956b-708a86181c64",
   "metadata": {},
   "outputs": [],
   "source": []
  },
  {
   "cell_type": "code",
   "execution_count": null,
   "id": "8c7c5cfa-becf-4af4-82ae-f04a158568c3",
   "metadata": {},
   "outputs": [],
   "source": []
  },
  {
   "cell_type": "code",
   "execution_count": null,
   "id": "3c8a2f2e-f820-4449-9167-e0ef36a2fa63",
   "metadata": {},
   "outputs": [],
   "source": []
  },
  {
   "cell_type": "code",
   "execution_count": null,
   "id": "11c13f7e-c545-4cc1-b02c-190a81069b09",
   "metadata": {},
   "outputs": [],
   "source": []
  },
  {
   "cell_type": "code",
   "execution_count": null,
   "id": "d042357e-3ee1-4878-881b-39ff34bad961",
   "metadata": {},
   "outputs": [],
   "source": []
  },
  {
   "cell_type": "code",
   "execution_count": null,
   "id": "45d629d6-72a2-40f2-8480-70c97bb9350a",
   "metadata": {},
   "outputs": [],
   "source": []
  },
  {
   "cell_type": "code",
   "execution_count": null,
   "id": "7f0b6aa3-9db0-4279-b3f2-7567cc4de2de",
   "metadata": {},
   "outputs": [],
   "source": []
  },
  {
   "cell_type": "code",
   "execution_count": null,
   "id": "b85aacb6-c2d1-4fdc-beed-7b1b018fbeb5",
   "metadata": {},
   "outputs": [],
   "source": []
  },
  {
   "cell_type": "code",
   "execution_count": null,
   "id": "6c3b491b-565a-4052-bee2-0af55b80657e",
   "metadata": {},
   "outputs": [],
   "source": []
  },
  {
   "cell_type": "code",
   "execution_count": null,
   "id": "3d3008ad-4c28-4781-9b47-f97000b6e473",
   "metadata": {},
   "outputs": [],
   "source": []
  },
  {
   "cell_type": "code",
   "execution_count": null,
   "id": "6c539cbd-3caf-42c4-b034-8566d86a0349",
   "metadata": {},
   "outputs": [],
   "source": []
  },
  {
   "cell_type": "code",
   "execution_count": null,
   "id": "bb05dca9-c2cd-4980-9bf7-1997556e33a7",
   "metadata": {},
   "outputs": [],
   "source": []
  },
  {
   "cell_type": "markdown",
   "id": "e927ca5b-d562-413a-9750-46d20a4e1a18",
   "metadata": {},
   "source": [
    "# Старый код, функции и т.д."
   ]
  },
  {
   "cell_type": "markdown",
   "id": "9632f965-487d-4545-9d9f-fabf42dbaab9",
   "metadata": {},
   "source": [
    "# Функция генерации весов для часов в периоде времени `get_time_for_trans` - Не модульная. Старая версия"
   ]
  },
  {
   "cell_type": "code",
   "execution_count": null,
   "id": "c497f122-bd87-407f-a000-9f13a6c8ae6b",
   "metadata": {},
   "outputs": [],
   "source": [
    "# def get_time_for_trans(trans_df, client_id, is_fraud, time_weights, timestamps, online=None, rule=None, geo_distance=None, lag=None):\n",
    "#     \"\"\"\n",
    "#     trans_df - датафрейм с транзакциями. Откуда брать информацию по предыдущим транзакциям\n",
    "#     client_id - id клиента, число, клиент чьи транзакции проверяются\n",
    "#     is_fraud - boolean. Фрод или не фрод\n",
    "#     time_weights - датафрейм с весами часов в периоде времени\n",
    "#     timestamps - датафрейм с timestamps\n",
    "#     online - boolean. Онлайн или оффлайн покупка. True or False\n",
    "#     rule - строка. Название антифрод правила\n",
    "#     geo_distance - число. Дистанция между локацией последней и текущей транзакции если фрод со сменой геолокации - в метрах\n",
    "#     lag - boolean. Задержка по времени от предыдущей транзакции. Нужна для моделирования увеличения частоты транзакций.\n",
    "#           Это задержка именно между последней легитимной транзакцией и серией частых транзакций. Подразумевается что функция\n",
    "#           get_time_for_trans будет использована в цикле, и для первой итерации lag будет True.\n",
    "\n",
    "#     Возвращает время для генерируемой транзакции в виде pd.Timestamp и в виде unix времени\n",
    "#     \"\"\"\n",
    "    \n",
    "#     # timestamp последней транзакции клиента - может быть вынести фильтрацию по client_id из функции?\n",
    "#     # Хотя наверное и вне функции все равно надо будет каждый раз обновлять состояние перед генерацией новой транзакции\n",
    "    \n",
    "#     last_txn_time = trans_df[trans_df.client_id == client_id].txn_time.max()\n",
    "#     last_txn_unix = trans_df[trans_df.client_id == client_id].unix_time.max()\n",
    "    \n",
    "#     # Если нет предыдущей транзакции т.е. нет последнего времени\n",
    "#     if not is_fraud and last_txn_time is pd.NaT:\n",
    "#         # берем первый год всего времененного периода т.к. это первая транзакция, пусть будет создана в первом году\n",
    "#         timestamps_1st_year = timestamps.loc[timestamps.timestamp.dt.year == timestamps.timestamp.dt.year.min()]\n",
    "\n",
    "#         # семплируем час из весов времени, указав веса для семплирования\n",
    "#         txn_hour = time_weights.hours.sample(n=1, weights=time_weights.proportion, replace=True).iloc[0]\n",
    "#         # фильтруем основной датафрейм с диапазоном таймстемпов по этому часу\n",
    "#         timestamps_subset = timestamps_1st_year.loc[timestamps_1st_year.hour == txn_hour]\n",
    "#         # из отфильтрованного датафрейма таймстемпов семплируем один таймстемп с равной вероятностью\n",
    "#         txn_time = timestamps_subset.timestamp.sample(n=1, replace=True).iloc[0]\n",
    "#         txn_unix = (txn_time - pd.Timestamp(\"1970-01-01\")) // pd.Timedelta('1s')\n",
    "\n",
    "#     # Если есть предыдущая транзакция\n",
    "\n",
    "#     # Не фрод. Но есть предыдущая транзакция\n",
    "#     elif not is_fraud:\n",
    "\n",
    "#         txn_hour = time_weights.hours.sample(n=1, weights=time_weights.proportion, replace=True).iloc[0]\n",
    "#         timestamps_subset = timestamps.loc[timestamps.hour == txn_hour]\n",
    "#         timestamp_sample = timestamps_subset.sample(n=1, replace=True)\n",
    "#         trans_time_diff = timestamp_sample.unix_time - last_txn_unix\n",
    "#         pos_one_hour_diff = 3600\n",
    "#         neg_one_hour_diff = -3600\n",
    "        \n",
    "#         # если время между текущей и последней транзакцией меньше часа в положительную сторону,\n",
    "#         # то увеличим время чтобы разница была минимум час \n",
    "#         if trans_time_diff < pos_one_hour_diff and trans_time_diff >= 0:\n",
    "#             time_addition = pos_one_hour_diff - trans_time_diff\n",
    "#             txn_unix = txn_unix + time_addition\n",
    "#             txn_time = pd.to_datetime(txn_unix, unit=\"s\")\n",
    "        \n",
    "#         # если время между текущей и последней транзакцией меньше часа в отрицательную сторону, \n",
    "#         # то уменьшим время чтобы разница была минимум час\n",
    "#         elif trans_time_diff > neg_one_hour_diff and trans_time_diff < 0:\n",
    "#             time_subtraction = neg_one_hour_diff - trans_time_diff\n",
    "#             txn_unix = txn_unix + time_subtraction\n",
    "#             txn_time = pd.to_datetime(txn_unix, unit=\"s\")\n",
    "\n",
    "#     # Фрод. Правила: другая гео за короткое время либо по локации оффлайн мерчанта либо по новому ip адресу\n",
    "#     elif is_fraud and rule in [\"fast_geo_change\", \"fast_geo_change_online\"]:\n",
    "#         # Выставим порог скорости перемещения между точками транзакций - м/с\n",
    "#         # выше порога - детект как фрода. \n",
    "#         # Это нужно чтобы генерировать соответствующее время в зависимости от дистанции между точками транзакций\n",
    "#         # пусть будет порог в 800 км/ч. Делим на 3.6 для перевода в м/с\n",
    "#         speed_threshold = 800 / 3.6\n",
    "        \n",
    "#         # Случайно сгенерированная фактическая скорость превышающая легитимный порог. Допустим от 801 до 36000 км/ч\n",
    "#         # до 36000 км/ч т.к. грубо говоря транзакция может быть совершена через 20 минут в 9000 км от предыдущей т.е. как-будто бы скорость 36000 км/ч\n",
    "#         # 9000 км взяты как весьма примерное, самое длинное возможное расстояние между городами России при путешествии самолетом.\n",
    "#         # но в зависимости от расстояния мы берем разные границы для распределений, чтобы не было перекоса в очень быстрое время. \n",
    "#         # Также 20 минут я случайно взял как средний интервал для подобной фрод транзакции.\n",
    "#         # Конечно же \"скорость перемещения\" может быть и больше в реальной жизни\n",
    "        \n",
    "#         if geo_distance < 1000_000:\n",
    "#             fact_speed = random.randint(speed_threshold + 1, 3000) / 3.6\n",
    "#         elif geo_distance >= 1000_000 and geo_distance <= 3000_000:\n",
    "#             fact_speed = random.randint(speed_threshold + 1, 9000) / 3.6\n",
    "#         elif geo_distance > 3000_000 and geo_distance <= 6000_000:\n",
    "#             fact_speed = random.randint(speed_threshold + 1, 18000) / 3.6\n",
    "#         else:\n",
    "#             fact_speed = random.randint(speed_threshold + 1, 36000) / 3.6\n",
    "\n",
    "#         # интервал времени между последней транзакцией и текущей фрод транзакцией\n",
    "#         time_interval = geo_distance / fact_speed\n",
    "        \n",
    "#         txn_unix = last_txn_unix + time_interval\n",
    "#         txn_time = pd.to_datetime(txn_unix, unit=\"s\")\n",
    "\n",
    "#     # Фрод. Увеличение количества транзакций в единицу времени выше установленного порога в процентах.\n",
    "#     # генерируем время\n",
    "#     elif is_fraud and rule == \"trans_freq_increase\":\n",
    "#         # семплируем таймстемп из таймстемпов по времени не ранее последней транзакции\n",
    "#         timestamp_sample = timestamps.loc[timestamps.timestamp > last_txn_time].sample(n=1, replace=True)\n",
    "#         trans_time_diff = timestamp_sample.unix_time - last_txn_unix\n",
    "#         lag_interval = 1800\n",
    "\n",
    "#         # частота фрод транзакций. от 1 до 5 минут. Выразим в секундах для удобства\n",
    "#         freq = random.randint(1, 5) * 60\n",
    "        \n",
    "#         # если транзакция первая в серии фрод транзакций - аргумент lag=True\n",
    "#         # и интервал между последней транзакцией менее 30 минут\n",
    "#         # прибавить интервал 30 минут к семплированному времени текущей транзакции\n",
    "#         if lag and trans_time_diff < lag_interval:\n",
    "#             txn_unix = timestamp_sample.unix_time + lag_interval\n",
    "#             txn_time = pd.to_datetime(txn_unix, unit=\"s\")\n",
    "\n",
    "#         # Если lag=True, но не надо добавлять интервал\n",
    "#         elif lag:\n",
    "#             txn_unix = timestamp_sample.unix_time\n",
    "#             txn_time = pd.to_datetime(txn_unix, unit=\"s\")\n",
    "\n",
    "#         # для остальных случаев - когда это не первые фрод транзакции в серии\n",
    "#         else:\n",
    "#             txn_unix = last_txn_unix + freq\n",
    "#             txn_time = pd.to_datetime(txn_unix, unit=\"s\")\n",
    "\n",
    "#     # Любой другой фрод\n",
    "#     elif is_fraud:\n",
    "\n",
    "#         txn_hour = time_weights.hours.sample(n=1, weights=time_weights.proportion, replace=True).iloc[0]\n",
    "#         timestamps_subset = timestamps.loc[timestamps.hour == txn_hour]\n",
    "#         timestamp_sample = timestamps_subset.sample(n=1, replace=True)\n",
    "\n",
    "#         txn_unix = timestamp_sample.unix_time\n",
    "#         txn_time = timestamp_sample.time\n",
    "\n",
    "    \n",
    "#     # время транзакции в виде timestamp и unix time\n",
    "#     return txn_time, txn_unix\n",
    "    "
   ]
  },
  {
   "cell_type": "markdown",
   "id": "550fed38-4106-4d21-ae9a-4b12a8c3ab26",
   "metadata": {},
   "source": [
    "## Подфункция `ensure_min_interval_from_last_offline_trans` - когда есть предыдущие оффлайн транзакции и нужно обеспечить минимальный фиксированный интервал между транзакциями<br>\n",
    "`Отменена`"
   ]
  },
  {
   "cell_type": "code",
   "execution_count": null,
   "id": "c1f10c5e-088f-40b1-92e4-49d5a31cf72d",
   "metadata": {},
   "outputs": [],
   "source": [
    "# def ensure_min_interval_from_last_offline_trans(last_txn_unix, timestamp_sample, time_diff=3600):\n",
    "#     \"\"\"\n",
    "#     Обеспечивает минимальный фиксированный интервал от последней транзакции\n",
    "#     -----------------------------------------------\n",
    "#     last_txn_unix - unix время последней транзакции\n",
    "#     timestamp_sample - случайно выбранная запись из датафрейма с таймстемпами\n",
    "#     time_diff - желаемая минимальная разница от последней транзакции\n",
    "    \n",
    "#     Если сгенерированное время отличается от времени последней по времени транзакции на разницу меньше установленной\n",
    "#     То вернет время с минимальной установленной разницей от последней транзакции.\n",
    "#     Например либо час вперед либо час назад.\n",
    "    \n",
    "#     Если сгенерированное время раньше последней транзакции менее чем на time_diff, то вернет время последней транзакции минус time_diff.\n",
    "#     Т.е. например на час раньше последней.\n",
    "#     Если сгенерированное время позже последней транзакции менее чем на time_diff, то вернет время позже последней транзакции плюс time_diff.\n",
    "#     Т.е. например на час позже последней.\n",
    "#     Если разница в положительную либо в отрицательную сторону больше time_diff, то вернет исходное время без изменений.\n",
    "#     \"\"\"\n",
    "    \n",
    "#     timestamp_unix = timestamp_sample.unix_time.iloc[0]\n",
    "#     trans_time_diff = timestamp_unix - last_txn_unix\n",
    "#     pos_one_hour_diff = time_diff\n",
    "#     neg_one_hour_diff = - time_diff\n",
    "    \n",
    "#     # если время между текущей и последней транзакцией меньше time_diff в положительную сторону,\n",
    "#     # то увеличим время чтобы разница была минимум time_diff \n",
    "#     if trans_time_diff < pos_one_hour_diff and trans_time_diff >= 0:\n",
    "#         print(\"Condition #1\")\n",
    "#         time_addition = pos_one_hour_diff - trans_time_diff\n",
    "#         txn_unix = timestamp_unix + time_addition\n",
    "#         txn_time = pd.to_datetime(txn_unix, unit=\"s\")\n",
    "    \n",
    "#     # если время между текущей и последней транзакцией меньше time_diff в отрицательную сторону, \n",
    "#     # то уменьшим время чтобы разница была минимум time_diff\n",
    "#     elif trans_time_diff > neg_one_hour_diff and trans_time_diff < 0:\n",
    "#         print(\"Condition #2\")\n",
    "#         time_subtraction = neg_one_hour_diff - trans_time_diff\n",
    "#         txn_unix = timestamp_unix + time_subtraction\n",
    "#         txn_time = pd.to_datetime(txn_unix, unit=\"s\")\n",
    "\n",
    "#     # если разница во времени больше установленной\n",
    "#     else:\n",
    "#         txn_unix = timestamp_unix\n",
    "#         txn_time = pd.to_datetime(txn_unix, unit=\"s\")\n",
    "        \n",
    "        \n",
    "#     return txn_time, txn_unix"
   ]
  },
  {
   "cell_type": "code",
   "execution_count": null,
   "id": "e2ee7610-82e3-45ac-9cc5-d0b7b7932ee2",
   "metadata": {},
   "outputs": [],
   "source": [
    "# def check_min_interval_from_near_trans(client_txns, timestamp_sample, online, offline_time_diff=60, \\\n",
    "#                                        online_time_diff=6, online_ceil=60, general_diff=30, general_ceil=90):\n",
    "#     \"\"\"\n",
    "#     Если для сгенерированного времени есть транзакции, которые по времени ближе заданного минимума, \n",
    "#     то создать время на основании времени последней транзакции + установленный минимальный интервал.\n",
    "#     Проверяет время либо для оффлайн либо для онлайн транзакций.\n",
    "#     Для оффлайн и онлайн транзакций можно поставить свои минимальные интервалы.\n",
    "#     Для онлайн ставится и максимальный интервал. Время берется случайно и равновероятно из диапазона между online_time_diff и online_ceil\n",
    "#     -----------------------------------------------\n",
    "\n",
    "#     client_txns - датафрейм с транзакциями клиента.\n",
    "#     timestamp_sample - случайно выбранная запись из датафрейма с таймстемпами\n",
    "#     offline_time_diff - int. желаемая минимальная разница от последней оффлайн транзакции в минутах\n",
    "#     online_time_diff - int. желаемая минимальная разница от последней оффлайн транзакции в минутах\n",
    "#     online_ceil - int. желаемая максимальная разница от последней оффлайн транзакции в минутах\n",
    "#     general_diff - int. минимально допустимая разница от последней транзакции противоположной по флагу online.\n",
    "#     general_ceil - int. максимальная разница от последней транзакции противоположной по флагу online.\n",
    "#                    При случае необходимости увеличения разрыва времени.\n",
    "#     \"\"\"\n",
    "    \n",
    "#     timestamp_unix = timestamp_sample.unix_time.iloc[0]\n",
    "\n",
    "#     offline_txns = client_txns.loc[client_txns.online == False]\n",
    "#     online_txns = client_txns.loc[client_txns.online == True]\n",
    "    \n",
    "#     # смотрим ближайшие оффлайн и онлайн транзакции по времени по модулю.\n",
    "#     # В переменные записываем время по модулю до ближайшей транзакции онлайн или оффлайн типа\n",
    "#     closest_offline_txn = offline_txns.unix_time.sub(timestamp_unix).abs().min()\n",
    "#     closest_online_txn = online_txns.unix_time.sub(timestamp_unix).abs().min()\n",
    "\n",
    "#     # перевод аргументов в секунды для работы с unix time\n",
    "#     offline_time_diff= offline_time_diff * 60\n",
    "#     online_time_diff= online_time_diff * 60\n",
    "#     online_ceil= online_ceil * 60\n",
    "#     general_diff = general_diff * 60\n",
    "#     general_ceil = general_ceil * 60\n",
    "    \n",
    "#     # Если текущая транзакция - оффлайн и разница с ближайшей транзакцией меньше допустимой\n",
    "#     if not online and closest_txn_by_time < offline_time_diff:\n",
    "        \n",
    "#         # извлекаем время последней оффлайн транзакции и прибавляем установленный интервал\n",
    "#         last_offline_txn_unix = offline_txns.unix_time.max()\n",
    "#         txn_unix = last_offline_txn_unix + offline_time_diff\n",
    "#         txn_time = pd.to_datetime(txn_unix, unit=\"s\")\n",
    "\n",
    "#     # Если текущая транзакция - онлайн и разница с ближайшей транзакцией меньше допустимой\n",
    "#     elif online and closest_txn_by_time < online_time_diff:\n",
    "        \n",
    "#         # извлекаем время последней онлайн транзакции и прибавляем установленный интервал\n",
    "#         last_online_txn_unix = online_txns.unix_time.max()\n",
    "\n",
    "#         # Берем случайное время между online_time_diff и online_ceil\n",
    "#         online_random_diff = random.randint(online_time_diff, online_ceil)\n",
    "\n",
    "#         # прибавляем установленный интервал ко времени последней транзакции\n",
    "#         txn_unix = last_online_txn_unix + online_random_diff\n",
    "#         txn_time = pd.to_datetime(txn_unix, unit=\"s\")\n",
    "        \n",
    "#     # если разница во времени является допустимой. Просто берем текущий timestamp\n",
    "#     else:\n",
    "#         txn_unix = timestamp_unix\n",
    "#         txn_time = pd.to_datetime(txn_unix, unit=\"s\")  \n",
    "        \n",
    "    \n",
    "#     # Проверка есть ли слишком близкие по времени транзакции противоположные по флагу online\n",
    "#     # Любая последняя транзакция. Если последняя транзакция такая же по флагу online, то разница\n",
    "#     # Уже проверена и обеспечена в прошлом if-else блоке, и ничего не изменится.\n",
    "#     last_txn_unix = client_txns.unix_time.max()\n",
    "#     last_txn_diff = abs(last_txn_unix - txn_unix)\n",
    "    \n",
    "#     if last_txn_diff < general_diff:\n",
    "#         general_random_diff = random.randint(general_diff, general_ceil)\n",
    "#         txn_unix = last_txn_unix + general_random_diff\n",
    "#         txn_time = pd.to_datetime(txn_unix, unit=\"s\")\n",
    "        \n",
    "#     return txn_time, txn_unix"
   ]
  },
  {
   "cell_type": "code",
   "execution_count": null,
   "id": "f67e3672-b0a5-4a06-b6fb-5432fe7715bd",
   "metadata": {},
   "outputs": [],
   "source": []
  },
  {
   "cell_type": "markdown",
   "id": "1d70730e-ec52-40cf-beca-6cf235fcc113",
   "metadata": {},
   "source": [
    "# Немодульная `get_time_for_trans` - старая версия"
   ]
  },
  {
   "cell_type": "markdown",
   "id": "827a34b3-6add-4389-8514-905fc1e135c2",
   "metadata": {},
   "source": [
    "# `check_min_interval_from_near_trans` - до рефактора и добавления условий"
   ]
  },
  {
   "cell_type": "code",
   "execution_count": null,
   "id": "a6960cab-f234-4075-9da9-0e05a71a5b7f",
   "metadata": {},
   "outputs": [],
   "source": [
    "# def get_time_for_trans(trans_df, client_id, is_fraud, time_weights, timestamps, online=None, rule=None, geo_distance=None, lag=None):\n",
    "#     \"\"\"\n",
    "#     trans_df - датафрейм с транзакциями. Откуда брать информацию по предыдущим транзакциям\n",
    "#     client_id - id клиента, число, клиент чьи транзакции проверяются\n",
    "#     is_fraud - boolean. Фрод или не фрод\n",
    "#     time_weights - датафрейм с весами часов в периоде времени\n",
    "#     timestamps - датафрейм с timestamps\n",
    "#     online - boolean. Онлайн или оффлайн покупка. True or False\n",
    "#     rule - строка. Название антифрод правила\n",
    "#     geo_distance - число. Дистанция между локацией последней и текущей транзакции если фрод со сменой геолокации - в метрах\n",
    "#     lag - boolean. Задержка по времени от предыдущей транзакции. Нужна для моделирования увеличения частоты транзакций.\n",
    "#           Это задержка именно между последней легитимной транзакцией и серией частых транзакций. Подразумевается что функция\n",
    "#           get_time_for_trans будет использована в цикле, и для первой итерации lag будет True.\n",
    "\n",
    "#     Возвращает время для генерируемой транзакции в виде pd.Timestamp и в виде unix времени\n",
    "#     \"\"\"\n",
    "    \n",
    "#     # timestamp последней транзакции клиента - может быть вынести фильтрацию по client_id из функции?\n",
    "#     # Хотя наверное и вне функции все равно надо будет каждый раз обновлять состояние перед генерацией новой транзакции\n",
    "    \n",
    "#     last_txn_time = trans_df[trans_df.client_id == client_id].txn_time.max()\n",
    "#     last_txn_unix = trans_df[trans_df.client_id == client_id].unix_time.max()\n",
    "    \n",
    "#     # Если нет предыдущей транзакции т.е. нет последнего времени\n",
    "#     if not is_fraud and last_txn_time is pd.NaT:\n",
    "#         # берем первый год всего времененного периода т.к. это первая транзакция, пусть будет создана в первом году\n",
    "#         timestamps_1st_year = timestamps.loc[timestamps.timestamp.dt.year == timestamps.timestamp.dt.year.min()]\n",
    "\n",
    "#         # семплируем час из весов времени, указав веса для семплирования\n",
    "#         txn_hour = time_weights.hours.sample(n=1, weights=time_weights.proportion, replace=True).iloc[0]\n",
    "#         # фильтруем основной датафрейм с диапазоном таймстемпов по этому часу\n",
    "#         timestamps_subset = timestamps_1st_year.loc[timestamps_1st_year.hour == txn_hour]\n",
    "#         # из отфильтрованного датафрейма таймстемпов семплируем один таймстемп с равной вероятностью\n",
    "#         txn_time = timestamps_subset.timestamp.sample(n=1, replace=True).iloc[0]\n",
    "#         txn_unix = (txn_time - pd.Timestamp(\"1970-01-01\")) // pd.Timedelta('1s')\n",
    "\n",
    "#     # Если есть предыдущая транзакция\n",
    "\n",
    "#     # Не фрод. Но есть предыдущая транзакция\n",
    "#     elif not is_fraud:\n",
    "\n",
    "#         txn_hour = time_weights.hours.sample(n=1, weights=time_weights.proportion, replace=True).iloc[0]\n",
    "#         timestamps_subset = timestamps.loc[timestamps.hour == txn_hour]\n",
    "#         timestamp_sample = timestamps_subset.sample(n=1, replace=True)\n",
    "#         trans_time_diff = timestamp_sample.unix_time - last_txn_unix\n",
    "#         pos_one_hour_diff = 3600\n",
    "#         neg_one_hour_diff = -3600\n",
    "        \n",
    "#         # если время между текущей и последней транзакцией меньше часа в положительную сторону,\n",
    "#         # то увеличим время чтобы разница была минимум час \n",
    "#         if trans_time_diff < pos_one_hour_diff and trans_time_diff >= 0:\n",
    "#             time_addition = pos_one_hour_diff - trans_time_diff\n",
    "#             txn_unix = txn_unix + time_addition\n",
    "#             txn_time = pd.to_datetime(txn_unix, unit=\"s\")\n",
    "        \n",
    "#         # если время между текущей и последней транзакцией меньше часа в отрицательную сторону, \n",
    "#         # то уменьшим время чтобы разница была минимум час\n",
    "#         elif trans_time_diff > neg_one_hour_diff and trans_time_diff < 0:\n",
    "#             time_subtraction = neg_one_hour_diff - trans_time_diff\n",
    "#             txn_unix = txn_unix + time_subtraction\n",
    "#             txn_time = pd.to_datetime(txn_unix, unit=\"s\")\n",
    "\n",
    "#     # Фрод. Правила: другая гео за короткое время либо по локации оффлайн мерчанта либо по новому ip адресу\n",
    "#     elif is_fraud and rule in [\"fast_geo_change\", \"fast_geo_change_online\"]:\n",
    "#         # Выставим порог скорости перемещения между точками транзакций - м/с\n",
    "#         # выше порога - детект как фрода. \n",
    "#         # Это нужно чтобы генерировать соответствующее время в зависимости от дистанции между точками транзакций\n",
    "#         # пусть будет порог в 800 км/ч. Делим на 3.6 для перевода в м/с\n",
    "#         speed_threshold = 800 / 3.6\n",
    "        \n",
    "#         # Случайно сгенерированная фактическая скорость превышающая легитимный порог. Допустим от 801 до 36000 км/ч\n",
    "#         # до 36000 км/ч т.к. грубо говоря транзакция может быть совершена через 20 минут в 9000 км от предыдущей т.е. как-будто бы скорость 36000 км/ч\n",
    "#         # 9000 км взяты как весьма примерное, самое длинное возможное расстояние между городами России при путешествии самолетом.\n",
    "#         # но в зависимости от расстояния мы берем разные границы для распределений, чтобы не было перекоса в очень быстрое время. \n",
    "#         # Также 20 минут я случайно взял как средний интервал для подобной фрод транзакции.\n",
    "#         # Конечно же \"скорость перемещения\" может быть и больше в реальной жизни\n",
    "        \n",
    "#         if geo_distance < 1000_000:\n",
    "#             fact_speed = random.randint(speed_threshold + 1, 3000) / 3.6\n",
    "#         elif geo_distance >= 1000_000 and geo_distance <= 3000_000:\n",
    "#             fact_speed = random.randint(speed_threshold + 1, 9000) / 3.6\n",
    "#         elif geo_distance > 3000_000 and geo_distance <= 6000_000:\n",
    "#             fact_speed = random.randint(speed_threshold + 1, 18000) / 3.6\n",
    "#         else:\n",
    "#             fact_speed = random.randint(speed_threshold + 1, 36000) / 3.6\n",
    "\n",
    "#         # интервал времени между последней транзакцией и текущей фрод транзакцией\n",
    "#         time_interval = geo_distance / fact_speed\n",
    "        \n",
    "#         txn_unix = last_txn_unix + time_interval\n",
    "#         txn_time = pd.to_datetime(txn_unix, unit=\"s\")\n",
    "\n",
    "#     # Фрод. Увеличение количества транзакций в единицу времени выше установленного порога в процентах.\n",
    "#     # генерируем время\n",
    "#     elif is_fraud and rule == \"trans_freq_increase\":\n",
    "#         # семплируем таймстемп из таймстемпов по времени не ранее последней транзакции\n",
    "#         timestamp_sample = timestamps.loc[timestamps.timestamp > last_txn_time].sample(n=1, replace=True)\n",
    "#         trans_time_diff = timestamp_sample.unix_time - last_txn_unix\n",
    "#         lag_interval = 1800\n",
    "\n",
    "#         # частота фрод транзакций. от 1 до 5 минут. Выразим в секундах для удобства\n",
    "#         freq = random.randint(1, 5) * 60\n",
    "        \n",
    "#         # если транзакция первая в серии фрод транзакций - аргумент lag=True\n",
    "#         # и интервал между последней транзакцией менее 30 минут\n",
    "#         # прибавить интервал 30 минут к семплированному времени текущей транзакции\n",
    "#         if lag and trans_time_diff < lag_interval:\n",
    "#             txn_unix = timestamp_sample.unix_time + lag_interval\n",
    "#             txn_time = pd.to_datetime(txn_unix, unit=\"s\")\n",
    "\n",
    "#         # Если lag=True, но не надо добавлять интервал\n",
    "#         elif lag:\n",
    "#             txn_unix = timestamp_sample.unix_time\n",
    "#             txn_time = pd.to_datetime(txn_unix, unit=\"s\")\n",
    "\n",
    "#         # для остальных случаев - когда это не первые фрод транзакции в серии\n",
    "#         else:\n",
    "#             txn_unix = last_txn_unix + freq\n",
    "#             txn_time = pd.to_datetime(txn_unix, unit=\"s\")\n",
    "\n",
    "#     # Любой другой фрод\n",
    "#     elif is_fraud:\n",
    "\n",
    "#         txn_hour = time_weights.hours.sample(n=1, weights=time_weights.proportion, replace=True).iloc[0]\n",
    "#         timestamps_subset = timestamps.loc[timestamps.hour == txn_hour]\n",
    "#         timestamp_sample = timestamps_subset.sample(n=1, replace=True)\n",
    "\n",
    "#         txn_unix = timestamp_sample.unix_time\n",
    "#         txn_time = timestamp_sample.time\n",
    "\n",
    "    \n",
    "#     # время транзакции в виде timestamp и unix time\n",
    "#     return txn_time, txn_unix\n",
    "    "
   ]
  },
  {
   "cell_type": "markdown",
   "id": "1ae85cfc-bb5c-44ff-8683-e79e1a66a2de",
   "metadata": {},
   "source": [
    "# Функция генератор одной легитимной POS транзакции `generate_one_legit_trans` - `первые тест сделаны` версия до рефактора"
   ]
  },
  {
   "cell_type": "code",
   "execution_count": null,
   "id": "e9f8d22e-5ef7-4333-9759-055b9bc7e3c0",
   "metadata": {},
   "outputs": [],
   "source": [
    "# def generate_one_legit_trans(client_info, client_trans_df, category, merchants_df, online_merchant_ids, timestamps, \\\n",
    "#                              timestamps_1st_month, time_weights_dict):\n",
    "#     \"\"\"\n",
    "#     Генерация одной легальной транзакции для клиента\n",
    "#     ------------------------------------------------\n",
    "#     client_info - namedtuple, полученная в результате итерации с помощью .itertuples() через датафрейм с информацией о клиентах\n",
    "#     client_trans_df - датафрейм с транзакциями клиента.\n",
    "#     category - датафрейм в одну запись с категорией и её характеристиками\n",
    "#     merchants_df - датафрейм с оффлайн мерчантами заранее отфильтрованный по городу клиента т.к. это легальные транзакции\n",
    "#     online_merchant_ids - id для онлайн мерчантов\n",
    "#     time_weights_dict - веса для часов времени в виде словаря с: датафреймом с весами, названием распределения и цветом для графика\n",
    "#     \"\"\"\n",
    "\n",
    "#     # Записываем данные клиента в переменные\n",
    "#     client_id = client_info.client_id\n",
    "#     client_area = client_info.area\n",
    "#     client_area_lat = client_info.lat\n",
    "#     client_area_lon = client_info.lon\n",
    "#     client_ip = client_info.home_ip\n",
    "    \n",
    "    \n",
    "#     # category = categories.sample(1, replace=True, weights=categories.share)\n",
    "#     category_name = category[\"category\"].iloc[0]\n",
    "#     round_clock = category[\"round_clock\"].iloc[0]\n",
    "#     online = category[\"online\"].iloc[0]\n",
    "#     # средняя сумма для этой категории\n",
    "#     amt_mean = category[\"avg_amt\"].iloc[0]\n",
    "#     # стандартное отклонение сумм для этой категории\n",
    "#     amt_std = category[\"amt_std\"].iloc[0]\n",
    "    \n",
    "#     # случайно сгенерированная сумма транзакции, но не менее 1\n",
    "#     amount = max(1, np.random.normal(amt_mean, amt_std))\n",
    "\n",
    "    \n",
    "#     # 1. Offline_24h_Legit - круглосуточные оффлайн покупки\n",
    "#     if not online and round_clock:\n",
    "#         time_weights = time_weights_dict[\"Offline_24h_Legit\"][\"weights\"]\n",
    "#         merchant = merchants_df.loc[merchants_df.category == category_name].sample(1, replace=True)\n",
    "#         merchant_id = merchant[\"merchant_id\"].iloc[0]\n",
    "#         trans_lat = merchant[\"merchant_lat\"].iloc[0]\n",
    "#         trans_lon = merchant[\"merchant_lon\"].iloc[0]\n",
    "#         status = \"approved\"\n",
    "        \n",
    "#         txn_time, txn_unix = get_time_for_trans(trans_df=client_trans_df, is_fraud=False, time_weights=time_weights, \\\n",
    "#                                                 timestamps=timestamps, timestamps_1st_month=timestamps_1st_month, \\\n",
    "#                                                 online=online)\n",
    "#         pos_txn = {\n",
    "#                     \"client_id\": client_id, \"txn_time\": txn_time, \"unix_time\":txn_unix, \"amount\": round(amount, 2), \"type\": \"purchase\",\n",
    "#                     \"channel\": \"POS\", \"category\": category_name, \"online\": online, \"merchant_id\": merchant_id,\n",
    "#                     \"trans_city\":client_area, \"trans_lat\": trans_lat, \"trans_lon\": trans_lon,\"trans_ip\":\"not applicable\",\n",
    "#                     \"account_to\": np.nan, \"is_fraud\": False, \"is_suspicious\":False, \"status\":\"approved\",\n",
    "#                     \"rule\":\"not applicable\"\n",
    "#                     }\n",
    "\n",
    "\n",
    "#     # 2. Online_Legit - Онлайн покупки\n",
    "#     elif online:\n",
    "#         time_weights = time_weights_dict[\"Online_Legit\"][\"weights\"]\n",
    "#         merchant_id = online_merchant_ids.sample(n=1).iloc[0]\n",
    "#         # локация клиента по IP. Т.к. это не фрод. Просто записываем координаты города клиента\n",
    "#         trans_lat = client_area_lat\n",
    "#         trans_lon = client_area_lon\n",
    "    \n",
    "#         txn_time, txn_unix = get_time_for_trans(trans_df=client_trans_df, is_fraud=False, time_weights=time_weights, \\\n",
    "#                                                 timestamps=timestamps, timestamps_1st_month=timestamps_1st_month, \\\n",
    "#                                                 online=online)\n",
    "#         pos_txn = {\n",
    "#                     \"client_id\": client_id, \"txn_time\": txn_time, \"unix_time\":txn_unix, \"amount\": round(amount, 2), \"type\": \"purchase\",\n",
    "#                     \"channel\": \"POS\", \"category\": category_name, \"online\": online, \"merchant_id\": merchant_id,\n",
    "#                     \"trans_city\":client_area, \"trans_lat\": trans_lat, \"trans_lon\": trans_lon, \"trans_ip\":client_ip,\n",
    "#                     \"account_to\": np.nan, \"is_fraud\": False, \"is_suspicious\":False, \"status\":\"approved\",\n",
    "#                     \"rule\":\"not applicable\"\n",
    "#                     }\n",
    "\n",
    "#     # 3. Offline_Day_Legit - Оффлайн покупки. Дневные категории.\n",
    "#     elif not online and not round_clock:\n",
    "#         time_weights = time_weights_dict[\"Offline_Day_Legit\"][\"weights\"]\n",
    "#         merchant = merchants_df.loc[merchants_df.category == category_name].sample(1, replace=True)\n",
    "#         merchant_id = merchant[\"merchant_id\"].iloc[0]\n",
    "#         trans_lat = merchant[\"merchant_lat\"].iloc[0]\n",
    "#         trans_lon = merchant[\"merchant_lon\"].iloc[0]\n",
    "#         status = \"approved\"\n",
    "        \n",
    "#         txn_time, txn_unix = get_time_for_trans(trans_df=client_trans_df, is_fraud=False, time_weights=time_weights, \\\n",
    "#                                                 timestamps=timestamps, timestamps_1st_month=timestamps_1st_month, \\\n",
    "#                                                 online=online)\n",
    "#         pos_txn = {\n",
    "#                     \"client_id\": client_id, \"txn_time\": txn_time, \"unix_time\":txn_unix, \"amount\": round(amount, 2), \"type\": \"purchase\",\n",
    "#                     \"channel\": \"POS\", \"category\": category_name, \"online\": online, \"merchant_id\": merchant_id,\n",
    "#                     \"trans_city\":client_area, \"trans_lat\": trans_lat, \"trans_lon\": trans_lon,\"trans_ip\":\"not applicable\",\n",
    "#                     \"account_to\": np.nan, \"is_fraud\": False, \"is_suspicious\":False, \"status\":\"approved\",\n",
    "#                     \"rule\":\"not applicable\"\n",
    "#                     }\n",
    "\n",
    "\n",
    "#     return pos_txn"
   ]
  },
  {
   "cell_type": "markdown",
   "id": "9b9850a4-12a2-4e79-8f46-13b16c7d5306",
   "metadata": {},
   "source": [
    "# Основная функция генератор POS транзакций - изначальная. - старая, самая первая версия. До разбивки на легальные и фрод"
   ]
  },
  {
   "cell_type": "code",
   "execution_count": null,
   "id": "d363df53-8245-4821-a126-2942bfd370f3",
   "metadata": {},
   "outputs": [],
   "source": [
    "# Генерация POS транзакций\n",
    "# def generate_legit_pos_transactions(client_info, start_date, end_date, time_weights_dict, categories, rules, trans_df, merchants_df, \\\n",
    "#                               area_centers, fraud_ips, online_merchant_ids, num=50, fraud_rate=0.01):\n",
    "#     \"\"\"\n",
    "#     client_info  - датафрейм с данными клиента\n",
    "#     start_date - первая транзакция\n",
    "#     end_date - последняя транзакция\n",
    "#     time_weights_dict - веса для часов времени в виде словаря с: датафреймом с весами, названием распределения и цветом для графика\n",
    "#     categories - датафрейм с категориями и их характеристиками\n",
    "#     rules -  датафрейм с антифрод правилами и их весами fraud_ips - датафрейм с фродовыми ip адресами\n",
    "#     trans_df - датафрейм с транзакциями.\n",
    "#                Куда их писать и куда обращаться за информацией по предыдущим транзакциям\n",
    "#     merchants_df - датафрейм с оффлайн мерачантами\n",
    "#     area_centers - названия городов с координатами центра\n",
    "#     online_merchant_ids - id для онлайн мерчантов\n",
    "#     num - количество транзакций на клиента\n",
    "#     fraud_rate - доля фрода во всех транзакциях\n",
    "#     \"\"\"\n",
    "\n",
    "#     # Датафрейм timestamp-ов откуда будет семплироваться время\n",
    "#     timestamps = pd.DataFrame(pd.Series(pd.date_range(pd.to_datetime(start_date, format=\"%Y-%m-%d\"), \\\n",
    "#                                                   pd.to_datetime(end_date, format=\"%Y-%m-%d\"), freq='min'), name=\"timestamp\"))\n",
    "#     timestamps[\"hour\"] = timestamps.timestamp.dt.hour\n",
    "#     timestamps[\"unix_time\"] = (timestamps.timestamp - pd.Timestamp(\"1970-01-01\")) // pd.Timedelta('1s')\n",
    "#     # timestamps = pd.Series(pd.date_range(pd.to_datetime(start_date), pd.to_datetime(end_date), freq='min'))\n",
    "    \n",
    "    \n",
    "\n",
    "\n",
    "\n",
    "#     # итерируемся через уникальных клиентов\n",
    "#     for row in client_info.itertuples():\n",
    "#         pos_txns = [] # сюда временно будут добавляться созданные транзакции для текущего клиента\n",
    "\n",
    "#         # данные клиента\n",
    "#         client_id = row.client_id\n",
    "#         client_area = row.area\n",
    "#         client_area_geometry = row.geometry\n",
    "#         client_ip = row.home_ip\n",
    "        \n",
    "#         # цикл создания n транзакций для текущего клиента\n",
    "#         for _ in range(num):\n",
    "\n",
    "#             # будет ли транзакция фродом или нет. Процент фрод транзакций зависит от выставленного fraud rate\n",
    "#             is_fraud = random.random() < fraud_rate\n",
    "            \n",
    "#             #########################\n",
    "#             # ЛЕГЕТИМНЫЕ ТРАНЗАКЦИИ #\n",
    "#             #########################\n",
    "#             if not is_fraud:\n",
    "#                 # случайный выбор категории транзакции. В зависимости от частоты категории\n",
    "#                 category = categories.sample(1, replace=True, weights=categories.share)\n",
    "#                 category_name = category[\"category\"].iloc[0]\n",
    "#                 round_clock = category[\"round_clock\"].iloc[0]\n",
    "#                 online = category[\"online\"].iloc[0]\n",
    "#                 # средняя сумма для этой категории\n",
    "#                 amt_mean = category[\"avg_amt\"].iloc[0]\n",
    "#                 # стандартное отклонение сумм для этой категории\n",
    "#                 amt_std = category[\"amt_std\"].iloc[0]\n",
    "#                 # случайно сгенерированная сумма транзакции, но не менее 1\n",
    "#                 amount = max(1, np.random.normal(amt_mean, amt_std))\n",
    "\n",
    "#             # СТРОКА ДЛЯ ТЕСТОВ\n",
    "#             # print(f\"is_fraud:{is_fraud}, category_name: {category_name}\")\n",
    "\n",
    "            \n",
    "#             # 1. Offline_24h_Legit - круглосуточные оффлайн покупки - НЕ фрод\n",
    "#             if not is_fraud and not online and round_clock:\n",
    "#                 time_weights = time_weights_dict[\"Offline_24h_Legit\"][\"weights\"]\n",
    "#                 merchant = merchants_df.loc[(merchants_df[\"area\"] == client_area) & (merchants_df.category == category_name)].sample(1, replace=True)\n",
    "#                 merchant_id = merchant[\"merchant_id\"].iloc[0]\n",
    "#                 trans_loc = merchant[\"geometry\"].iloc[0]\n",
    "#                 status = \"approved\"\n",
    "                \n",
    "#                 txn_time, txn_unix = get_time_for_trans(trans_df=trans_df, client_id=client_id, is_fraud=is_fraud, time_weights=time_weights, \\\n",
    "#                                                         timestamps=timestamps, online=False)\n",
    "#                 pos_txns.append({\n",
    "#                 \"client_id\": client_id, \"txn_time\": txn_time, \"unix_time\":txn_unix, \"amount\": round(amount, 2), \"type\": \"purchase\",\n",
    "#                 \"channel\": \"POS\", \"category\": category_name, \"online\": online, \"merchant_id\": merchant_id,\n",
    "#                 \"trans_loc\": trans_loc, \"client_ip\":\"not applicable\",\n",
    "#                 \"account_to\": np.nan, \"is_fraud\": is_fraud, \"status\":\"approved\"\n",
    "#             })\n",
    "\n",
    "\n",
    "#             # 2. Online_Legit - Онлайн покупки - НЕ фрод\n",
    "#             elif not is_fraud and online:\n",
    "#                 time_weights = time_weights_dict[\"Online_Legit\"][\"weights\"]\n",
    "#                 merchant_id = online_merchant_ids.sample(n=1).iloc[0]\n",
    "#                 # локация клиента по IP. Т.к. это не фрод. То просто ищем координаты города по городу клиента\n",
    "#                 trans_loc = area_centers.loc[area_centers[\"area\"] == client_area]\n",
    "\n",
    "#                 txn_time, txn_unix = get_time_for_trans(trans_df=trans_df, client_id=client_id, is_fraud=is_fraud, time_weights=time_weights, \\\n",
    "#                                                         timestamps=timestamps, online=True)\n",
    "#                 pos_txns.append({\n",
    "#                 \"client_id\": client_id, \"txn_time\": txn_time, \"unix_time\":txn_unix, \"amount\": round(amount, 2), \"type\": \"purchase\",\n",
    "#                 \"channel\": \"POS\", \"category\": category_name, \"online\": online, \"merchant_id\": merchant_id,\n",
    "#                 \"trans_loc\": trans_loc, \"client_ip\":\"not applicable\",\n",
    "#                 \"account_to\": np.nan, \"is_fraud\": is_fraud, \"status\":\"approved\"\n",
    "#             })\n",
    "\n",
    "\n",
    "            \n",
    "#             #############################\n",
    "#             # ГЕНЕРАЦИЯ ФРОД ТРАНЗАКЦИЙ #\n",
    "#             #############################    \n",
    "\n",
    "#             if is_fraud:\n",
    "#                 # случайный выбор категории транзакции. В зависимости от частоты фрода в категории\n",
    "#                 category = categories.sample(1, replace=True, weights=categories.fraud_share)\n",
    "#                 category_name = category[\"category\"].iloc[0]\n",
    "#                 round_clock = category[\"round_clock\"].iloc[0]\n",
    "#                 online = category[\"online\"].iloc[0]\n",
    "#                 # средняя сумма для этой категории\n",
    "#                 amt_mean = category[\"avg_amt\"].iloc[0]\n",
    "#                 # стандартное отклонение сумм для этой категории\n",
    "#                 amt_std = category[\"amt_std\"].iloc[0]\n",
    "#                 # случайно сгенерированная сумма транзакции, но не менее 1\n",
    "#                 # amount = max(1, np.random.normal(amt_mean, amt_std)) - amount для фрода генерится после определения правила\n",
    "\n",
    "\n",
    "        \n",
    "#         # Список словарей с готовыми транзакциями для одного клиента делаем геодатафреймом\n",
    "#         # и присоединяем к основному геодатафрейму\n",
    "#         trans_df_one_client = gpd.GeoDataFrame(pos_txns)\n",
    "#         trans_df = pd.concat([trans_df, trans_df_one_client], ignore_index=True)\n",
    "\n",
    "#     # Возвращаем целый датафрейм. Колонкой с геометрией устанавливаем trans_loc\n",
    "#     return trans_df.set_geometry(\"trans_loc\")"
   ]
  },
  {
   "cell_type": "markdown",
   "id": "b5900904-190b-45a9-8d2a-8201a50f256d",
   "metadata": {},
   "source": [
    "# Разбитая на подфункции функция `get_time_for_trans` - старая версия, до рефактора"
   ]
  },
  {
   "cell_type": "code",
   "execution_count": null,
   "id": "a4c6f511-eab3-4fa5-a494-c351f9519620",
   "metadata": {},
   "outputs": [],
   "source": [
    "# def get_time_for_trans(trans_df, is_fraud, time_weights, timestamps, timestamps_1st_month, \\\n",
    "#                        online=None, rule=None, geo_distance=None, lag=None):\n",
    "#     \"\"\"\n",
    "#     trans_df - датафрейм с транзакциями текущего клиента. Откуда брать информацию по предыдущим транзакциям клиента\n",
    "#     is_fraud - boolean. Фрод или не фрод\n",
    "#     time_weights - датафрейм с весами часов в периоде времени\n",
    "#     timestamps - датафрейм с timestamps\n",
    "#     timestamps_1st_month - сабсет timestamps отфильтрованный по первому месяцу и, если применимо, году. Чтобы генерировать первые транзакции\n",
    "#     online - boolean. Онлайн или оффлайн покупка. True or False\n",
    "#     rule - str. Название антифрод правила\n",
    "#     geo_distance - int. Дистанция между локацией последней и текущей транзакции если фрод со сменой геолокации - в километрах\n",
    "#     lag - boolean. Задержка по времени от предыдущей транзакции. Нужна для моделирования увеличения частоты транзакций.\n",
    "#           Это задержка именно между последней легитимной транзакцией и серией частых фрод транзакций. Подразумевается что функция\n",
    "#           get_time_for_trans будет использована в цикле, и для первой итерации lag будет True.\n",
    "\n",
    "#     Возвращает время для генерируемой транзакции в виде pd.Timestamp и в виде unix времени\n",
    "#     \"\"\"\n",
    "    \n",
    "#     # timestamp последней транзакции клиента - может быть вынести фильтрацию по client_id из функции?\n",
    "#     # Да. Вынесу фильтрацию по client_id из функции. Т.к. транзакции планируется генерировать в цикле итерируясь через клиентов.\n",
    "    \n",
    "#     last_txn_time = trans_df.txn_time.max()\n",
    "#     last_txn_unix = trans_df.unix_time.max()\n",
    "#     offline_txns = trans_df[trans_df.online == False]\n",
    "#     online_txns = trans_df[trans_df.online == True]\n",
    "    \n",
    "\n",
    "#     ########################\n",
    "#     # ЛЕГАЛЬНЫЕ ТРАНЗАКЦИИ #\n",
    "#     ########################\n",
    "    \n",
    "#     # Если нет никакой предыдущей транзакции т.е. нет последнего времени совсем\n",
    "#     if not is_fraud and last_txn_time is pd.NaT:\n",
    "#         # берем первый месяц всего времененного периода т.к. это первая транзакция, пусть будет создана в первом месяце\n",
    "#         # timestamps_1st_month = timestamps.loc[timestamps.timestamp.dt.month == timestamps.timestamp.dt.month.min()]\n",
    "\n",
    "#         # получаем timestamp и unix время транзакции\n",
    "#         txn_time, txn_unix = sample_time_for_trans(timestamps=timestamps_1st_month, time_weights=time_weights)\n",
    "\n",
    "#         # время транзакции в виде timestamp и unix time. Здесь отдельный return, чтобы прервать дальнейшее выполнений функции\n",
    "#         # т.к. это отдельный блок if-statements\n",
    "#         return txn_time, txn_unix\n",
    "\n",
    "    \n",
    "#     # Если есть предыдущая транзакция\n",
    "\n",
    "#     # берем случайный час передав веса часов\n",
    "#     txn_hour = time_weights.hours.sample(n=1, weights=time_weights.proportion, replace=True).iloc[0]\n",
    "    \n",
    "#     # фильтруем по этому часу timestamp-ы и семплируем timestamp уже с равной вероятностью\n",
    "#     timestamps_subset = timestamps.loc[timestamps.hour == txn_hour]\n",
    "#     timestamp_sample = timestamps_subset.sample(n=1, replace=True)\n",
    "        \n",
    "#     # Не фрод. Текущая транзакция оффлайн и есть предыдущая оффлайн транзакция.\n",
    "#     # Обеспечение минимального интервала времени между оффлайн транзакциями\n",
    "#     # Это чтобы легальные транзакции не попали под фрод из-за частоты выполнения или быстроты физического перемещения клиента между транзакциями\n",
    "    \n",
    "#     if not is_fraud and not online and not offline_txns.empty:\n",
    "\n",
    "#         # передаем функции сабсет из оффлайн транзакций, семплированный timestamp, онлайн ставим False, \n",
    "#         # минимально допустимая разница между другими оффлайн транзакциями - 60 минут\n",
    "        \n",
    "#         txn_time, txn_unix = check_min_interval_from_near_trans(txns_subset=offline_txns, timestamp_sample=timestamp_sample, online=False, \\\n",
    "#                                                                 offline_time_diff=60)\n",
    "\n",
    "#     # Не фрод. Текущая транзакция онлайн и есть предыдущая онлайн транзакция.\n",
    "#     # Обеспечение минимального интервала времени между онлайн транзакциями\n",
    "    \n",
    "#     elif not is_fraud and online and not online_txns.empty:\n",
    "        \n",
    "#         # передаем функции сабсет из оффлайн транзакций, семплированный timestamp, онлайн ставим True, \n",
    "#         # минимально допустимая разница между другими онлайн транзакциями - 6 минут\n",
    "#         # разница от последней транзакции: от 6 до 60 минут - для случая если timestamp близко по времени к существующей транзакции\n",
    "        \n",
    "#         txn_time, txn_unix = check_min_interval_from_near_trans(txns_subset=offline_txns, timestamp_sample=timestamp_sample, online=False, \\\n",
    "#                                                                 online_time_diff=6, online_ceil=60)\n",
    "\n",
    "#     # Случай когда есть любые предыдущие транзакции, но они другого типа: либо текущая категория онлайн, а предыдущие транзакции все оффлайн\n",
    "#     # либо текущая категория оффлайн, а предыдущие транзакции все онлайн\n",
    "#     elif not is_fraud:\n",
    "#         # из отфильтрованного датафрейма таймстемпов семплируем один таймстемп с равной вероятностью\n",
    "#         txn_time = timestamps_subset.timestamp.sample(n=1, replace=True).iloc[0]\n",
    "#         txn_unix = pd_timestamp_to_unix(txn_time)\n",
    "        \n",
    "\n",
    "#     ########\n",
    "#     # ФРОД #\n",
    "#     ########\n",
    "\n",
    "#     # Фрод. Правила: другая гео за короткое время либо по локации оффлайн мерчанта либо по новому ip адресу\n",
    "#     elif is_fraud and rule in [\"fast_geo_change\", \"fast_geo_change_online\"]:\n",
    "#         txn_time, txn_unix = generate_time_fast_geo_jump(last_txn_unix, geo_distance, threshold=800)\n",
    "\n",
    "    \n",
    "#     # Фрод. Увеличение количества транзакций в единицу времени выше установленного порога в процентах.\n",
    "#     elif is_fraud and rule == \"trans_freq_increase\":\n",
    "#         txn_time, txn_unix = gen_time_for_frequent_trans(last_txn_time, last_txn_unix, timestamps, time_weights, lag, \\\n",
    "#                                                          lag_interval=30, freq_low=1, freq_high=5)\n",
    "\n",
    "#     # Фрод. Любое другое правило, где сабсет timestamp-ов семплирован ранее в соответствии с переданными весами\n",
    "#     elif is_fraud:\n",
    "#         # из отфильтрованного датафрейма таймстемпов семплируем один таймстемп с равной вероятностью\n",
    "#         txn_time = timestamps_subset.timestamp.sample(n=1, replace=True).iloc[0]\n",
    "#         txn_unix = pd_timestamp_to_unix(txn_time)\n",
    "\n",
    "\n",
    "#     # время транзакции в виде timestamp и unix time\n",
    "#     return txn_time, txn_unix"
   ]
  },
  {
   "cell_type": "markdown",
   "id": "df0af92b-ba59-4033-92f8-6a75c259e812",
   "metadata": {},
   "source": [
    "# Подфункция `check_min_interval_from_near_trans` - когда есть предыдущие транзакции - `Версия с багом`"
   ]
  },
  {
   "cell_type": "code",
   "execution_count": null,
   "id": "9d520547-6d28-4c8e-9927-f7b79dc14f6e",
   "metadata": {},
   "outputs": [],
   "source": [
    "# def check_min_interval_from_near_trans(client_txns, timestamp_sample, online, round_clock, offline_time_diff=60, \\\n",
    "#                                        online_time_diff=6, online_ceil=60, general_diff=30, general_ceil=90, test=False):\n",
    "#     \"\"\"\n",
    "#     Если для сгенерированного времени есть транзакции, которые по времени ближе заданного минимума, \n",
    "#     то создать время на основании времени последней транзакции + установленный минимальный интервал.\n",
    "#     Учитывает разницу между типами транзакций: онлайн-онлайн, онлайн-оффлайн, оффлайн-оффлайн.\n",
    "#     Можно поставить свои минимальные интервалы для случаев: онлайн-онлайн, онлайн-оффлайн, оффлайн-оффлайн. \n",
    "#     Для оффлайн-оффлайн - один фиксированный интервал.\n",
    "#     Для онлайн-онлайн задается минимум и максимум откуда интервал берется с равной вероятностью\n",
    "#     Для оффлайн-онлайн задается минимум и максимум откуда интервал берется с равной вероятностью\n",
    "#     -----------------------------------------------\n",
    "\n",
    "#     client_txns - датафрейм с транзакциями клиента.\n",
    "#     timestamp_sample - случайно выбранная запись из датафрейма с таймстемпами\n",
    "#     online - boolean. Онлайн или оффлайн категория\n",
    "#     round_clock - boolean. Круглосуточная или дневная категория.\n",
    "#     offline_time_diff - int. желаемая минимальная разница от последней оффлайн транзакции в минутах\n",
    "#     online_time_diff - int. желаемая минимальная разница от последней оффлайн транзакции в минутах\n",
    "#     online_ceil - int. желаемая максимальная разница от последней оффлайн транзакции в минутах\n",
    "#     general_diff - int. минимально допустимая разница от последней транзакции противоположной по флагу online.\n",
    "#     general_ceil - int. максимальная разница от последней транзакции противоположной по флагу online.\n",
    "#                    При случае необходимости увеличения разрыва времени.\n",
    "#     test - boolean. True - логировать исполнение функции в csv.\n",
    "#     ------------------------------------------------\n",
    "#     Возвращает pd.Timestamp и int unix время в секундах \n",
    "#     \"\"\"\n",
    "\n",
    "#     # перевод аргументов в секунды для работы с unix time\n",
    "#     offline_time_diff= offline_time_diff * 60\n",
    "#     online_time_diff= online_time_diff * 60\n",
    "#     online_ceil= online_ceil * 60\n",
    "#     general_diff = general_diff * 60\n",
    "#     general_ceil = general_ceil * 60\n",
    "\n",
    "    \n",
    "#     timestamp_unix = timestamp_sample.unix_time.iloc[0]\n",
    "#     # Копия, чтобы не внести изменения в исходный датафрейм\n",
    "#     client_txns = client_txns.copy()\n",
    "#     client_txns[\"abs_time_proximity\"] = client_txns.unix_time.sub(timestamp_unix).abs()\n",
    "\n",
    "#     # Запись о ближайшей по времени транзакции\n",
    "#     closest_txn = client_txns.loc[client_txns.abs_time_proximity == client_txns.abs_time_proximity.min()]\n",
    "#     # Онлайн или не онлайн ближайшая по времени транзакция\n",
    "#     closest_online_flag = closest_txn.online.iloc[0]\n",
    "#     # Разница семплированного timestamp-а с ближайшей по времени транзакцией\n",
    "#     closest_time_diff = closest_txn.abs_time_proximity.iloc[0]\n",
    "\n",
    "#     # Запись о последней транзакции\n",
    "#     last_txn = client_txns.loc[client_txns.unix_time == client_txns.unix_time.max()]\n",
    "#     # Онлайн или не онлайн последняя транзакция\n",
    "#     last_online_flag = last_txn.online.iloc[0]\n",
    "#     # unix время\n",
    "#     last_txn_unix = last_txn.unix_time.iloc[0]\n",
    "    \n",
    "#     # Если, создаваемая транзакция оффлайн и ближайшая по времени тоже оффлайн\n",
    "#     # И разница меньше допустимой\n",
    "#     if not online and not closest_online_flag and closest_time_diff < offline_time_diff:\n",
    "#         close_flag = \"offline_to_offline\"\n",
    "\n",
    "#     # Если оффлайн транзакция и ближайшая онлайн. И разница меньше допустимой\n",
    "#     elif not online and closest_online_flag and closest_time_diff < general_diff:\n",
    "#         close_flag = \"offline_to_online\"\n",
    "        \n",
    "#     # Если, создаваемая транзакция онлайн и ближайшая по времени тоже онлайн\n",
    "#     # И разница меньше допустимой\n",
    "#     elif online and closest_online_flag and closest_time_diff < online_time_diff:\n",
    "#         close_flag = \"online_to_online\"\n",
    "\n",
    "#     # Если онлайн транзакция и ближайшая оффлайн. И разница меньше допустимой\n",
    "#     elif online and not closest_online_flag and closest_time_diff < general_diff:\n",
    "#         close_flag = \"online_to_offline\"\n",
    "        \n",
    "#     # Если нет транзакций ближе установленной разницы\n",
    "#     # Просто берем изначальный timestamp\n",
    "#     else:\n",
    "#         close_flag = \"No flag\"\n",
    "#         txn_unix = timestamp_unix\n",
    "#         txn_time = pd.to_datetime(txn_unix, unit=\"s\")\n",
    "\n",
    "#     # Если транзакция близка по времени к другой, то согласно типам транзакций\n",
    "#     # создаем другое время на основании времени и типа последней и текущей транзакции\n",
    "#     if close_flag in [\"offline_to_offline\", \"offline_to_online\"]:\n",
    "#         # Если последняя транзакция Онлайн. То добавляем случайную разницу для онлайн и оффлайн транзакций в установленном диапазоне\n",
    "#         if last_online_flag:\n",
    "#             general_random_diff = random.randint(general_diff, general_ceil)\n",
    "#             txn_unix = last_txn_unix + general_random_diff\n",
    "#             txn_time = pd.to_datetime(txn_unix, unit=\"s\")\n",
    "            \n",
    "#         # Если последняя транзакция Оффлайн. То добавляем допустимую разницу между оффлайн транзакциями\n",
    "#         elif not last_online_flag:\n",
    "#             txn_unix = last_txn_unix + offline_time_diff\n",
    "#             txn_time = pd.to_datetime(txn_unix, unit=\"s\")\n",
    "\n",
    "#     # Если текущая транзакция онлайн и есть онлайн/оффлайн транзакция с разницей меньше допустимой\n",
    "#     elif close_flag in [\"online_to_online\", \"online_to_offline\"]:\n",
    "#         # Если последняя транзакция онлайн. То добавляем случайную разницу для онлайн транзакций в установленном диапазоне\n",
    "#         if last_online_flag:\n",
    "#             online_random_diff = random.randint(online_time_diff, online_ceil)\n",
    "#             txn_unix = last_txn_unix + online_random_diff\n",
    "#             txn_time = pd.to_datetime(txn_unix, unit=\"s\")\n",
    "            \n",
    "#         # Если последняя транзакция Оффлайн. То добавляем случайную разницу для онлайн и оффлайн транзакций в установленном диапазоне\n",
    "#         elif not last_online_flag:\n",
    "#             general_random_diff = random.randint(general_diff, general_ceil)\n",
    "#             txn_unix = last_txn_unix + general_random_diff\n",
    "#             txn_time = pd.to_datetime(txn_unix, unit=\"s\")\n",
    "\n",
    "#     # Проверка и корректировка времени, на случай если категория дневная, и время выходит за рамки этой категории\n",
    "#     # Если час меньше 8 и больше 21. Т.е. ограничение 08:00-21:59\n",
    "#     if not online and not round_clock and (txn_time.hour < 8 or txn_time.hour > 21):\n",
    "#         txn_time = txn_time + pd.Timedelta(10, unit=\"h\")\n",
    "#         txn_unix = pd_timestamp_to_unix(txn_time)\n",
    "        \n",
    "#     if not test:\n",
    "#         return txn_time, txn_unix\n",
    "        \n",
    "#     # В тестовом режиме логируем некоторые данные в csv\n",
    "#     else:\n",
    "#         log_check_min_time(client_id=client_txns.client_id.iloc[0], txn_time=txn_time, txn_unix=txn_unix, online=online, closest_txn=closest_txn, \\\n",
    "#                            closest_online_flag=closest_online_flag, last_txn=last_txn, last_online_flag=last_online_flag, close_flag=close_flag)\n",
    "#         return txn_time, txn_unix"
   ]
  },
  {
   "cell_type": "markdown",
   "id": "26dd4d50-46e8-4c51-b59d-1e3de6644fbf",
   "metadata": {},
   "source": [
    "## Подфункция генерации времени транзакции для правила `trans_freq_increase` - timestamp семплируется `первая версия с lag`"
   ]
  },
  {
   "cell_type": "code",
   "execution_count": 327,
   "id": "f666ed4a-55fc-4543-b745-529b95618381",
   "metadata": {},
   "outputs": [],
   "source": [
    "# def gen_time_for_frequent_trans(last_txn_time, last_txn_unix, timestamps, time_weights, lag, lag_interval=30, \\\n",
    "#                                 freq_low=1, freq_high=5, test=False, test_timestamp=None):\n",
    "#     \"\"\"\n",
    "#     Функция для имитации времени нескольких частых транзакций подряд.\n",
    "#     -------------------------------------------------\n",
    "#     last_txn_time - pd.Timestamp последней транзакции\n",
    "#     last_txn_unix - unix время последней транзакции в секундах\n",
    "#     timestamps - pd.DataFrame с диапазоном pd.Timestamp-ов и их unix аналогом в секундах и колонкой часа timestamp-а\n",
    "#     lag - True или False. Является ли текущая транзакция первой в серии мошеннических/подозрительных учащенных транзакций.\n",
    "#           При True будет добавлен лаг равный lag_interval от предыдущей легальной транзакции\n",
    "#     lag_interval - int. лаг от предыдущей транзакции в минутах\n",
    "#     freq_low - int. минимальный разрыв между транзакциями в цепочке фрод транзакций, в минутах\n",
    "#     freq_high - int. максимальный разрыв между транзакциями в цепочке фрод транзакций, в минутах\n",
    "#     test - True или False. Тестируем мы функцию или нет. Если тестируем, то надо передать test_timestamp\n",
    "#     test_timestamp - str. Дата и время в формате '1899-01-01 00:00:00'. Это замена семплируемуго внутри\n",
    "#                      функции timestamp-а, который проверяется на разницу во времени с последней легальной транзакцией.\n",
    "#     --------------------------------------------------\n",
    "#     При test == False возвращает pd.Timestamp и unix time в секундах\n",
    "#     При test == True возвращает pd.Timestamp, unix time в секундах и получившуюся разницу времени с предыдущей транзакцией в минутах в виде int\n",
    "#     \"\"\"\n",
    "\n",
    "#     # перевод минут в секунды для удобства подсчета с unix time\n",
    "#     lag_interval = lag_interval * 60\n",
    "    \n",
    "#     # если транзакция первая в серии фрод транзакций - аргумент lag равен True. И не режим тестирования функции\n",
    "#     if lag and not test:\n",
    "        \n",
    "#         # Фильтруем timestamp-ы, оставляя те, что после последней легитимной транзакции\n",
    "#         timestamp_after_last_trans = timestamps.loc[timestamps.timestamp > last_txn_time]\n",
    "\n",
    "#         # Семплируем час первой транзакции, передав веса часов.\n",
    "#         # Затем фильтруем timestamp-ы по этому часу\n",
    "#         txn_hour = time_weights.hours.sample(n=1, weights=time_weights.proportion, replace=True).iloc[0]\n",
    "#         timestamps_subset = timestamp_after_last_trans.loc[timestamp_after_last_trans.hour == txn_hour]\n",
    "#         # семплируем таймстемп из таймстемпов по времени не ранее последней транзакции\n",
    "#         timestamp_sample = timestamps_subset.sample(n=1, replace=True)\n",
    "#         # Узнаем разницу между timestamp-ом и последней транзакцией\n",
    "#         trans_time_diff = timestamp_sample.unix_time.sub(last_txn_unix).iloc[0]\n",
    "\n",
    "#     # Если режим тестирования. То timestamp_sample у нас это не семпл, а переданный в аргументе timestamp\n",
    "#     elif lag and test:\n",
    "#         timestamp_sample = pd.DataFrame({\"timestamp\":pd.Series(dtype=\"datetime64[s]\"), \"unix_time\":pd.Series(dtype=\"int64\")})\n",
    "#         timestamp_sample.loc[0, \"timestamp\"] = pd.to_datetime(test_timestamp, format=\"%Y-%m-%d %H:%M:%S\")\n",
    "#         timestamp_sample.loc[0, \"unix_time\"] = pd_timestamp_to_unix(timestamp_sample.timestamp.iloc[0])\n",
    "#         # Узнаем разницу между timestamp-ом и последней транзакцией\n",
    "#         trans_time_diff = timestamp_sample.unix_time.iloc[0] - last_txn_unix\n",
    "\n",
    "\n",
    "#     # если транзакция первая в серии фрод транзакций\n",
    "#     # и интервал между последней транзакцией менее 30 минут\n",
    "#     # прибавить интервал 30 минут к семплированному времени текущей транзакции\n",
    "#     if lag and trans_time_diff < lag_interval:\n",
    "#         # print(\"Condition #1\")\n",
    "#         time_addition = lag_interval - trans_time_diff\n",
    "#         txn_unix = timestamp_sample.unix_time.iloc[0] + time_addition\n",
    "#         txn_time = pd.to_datetime(txn_unix, unit=\"s\")\n",
    "\n",
    "#     # Если lag равен True, но не надо добавлять интервал\n",
    "#     elif lag:\n",
    "#         # print(\"Condition #2\")\n",
    "#         txn_unix = timestamp_sample.unix_time.iloc[0]\n",
    "#         txn_time = pd.to_datetime(txn_unix, unit=\"s\")\n",
    "\n",
    "#     # для остальных случаев - когда это не первые фрод транзакции в серии\n",
    "#     # просто добавляем 1-5 минут ко времени предыдущей транзакции\n",
    "#     else:\n",
    "#         # частота фрод транзакций. от 1 до 5 минут. Выразим в секундах для удобства расчетов\n",
    "#         freq = random.randint(freq_low, freq_high) * 60\n",
    "#         txn_unix = last_txn_unix + freq\n",
    "#         txn_time = pd.to_datetime(txn_unix, unit=\"s\")\n",
    "\n",
    "#     if not test:\n",
    "#         return txn_time, txn_unix\n",
    "    \n",
    "#     elif test and lag:\n",
    "#         return txn_time, txn_unix\n",
    "        \n",
    "#     elif test and not lag:\n",
    "#         return txn_time, txn_unix, freq"
   ]
  },
  {
   "cell_type": "markdown",
   "id": "44935bf4-d2e8-447c-b9d9-e229379d3122",
   "metadata": {},
   "source": [
    "**Старые тесты `gen_time_for_frequent_trans`**"
   ]
  },
  {
   "cell_type": "code",
   "execution_count": 328,
   "id": "0a18d4f3-2e9a-40e0-a984-70e8097af3e4",
   "metadata": {},
   "outputs": [],
   "source": [
    "# weights_for_freq_trans = time_weights[\"Online_Fraud\"][\"weights\"]\n",
    "\n",
    "# Диапазон timestamp-ов для семплирования\n",
    "\n",
    "# timestamps_freq_test = create_timestamps_range_df(start=\"2023-09-20\", end=\"2023-09-21\")\n",
    "\n",
    "# # Датафрейм с последней транзакцией - перезапустить ячейку для теста ниже\n",
    "\n",
    "# last_time = pd.to_datetime(\"2023-09-20 09:14:00\", format=\"%Y-%m-%d %H:%M:%S\")\n",
    "# last_unix = pd_timestamp_to_unix(last_time)\n",
    "\n",
    "# # условно основной датафрейм с транзакциями. У нас там одна легальная последняя транзакция на данный момент\n",
    "\n",
    "# trans_test_freq_time = transactions.copy().loc[:, ['txn_time', 'unix_time','online','account_to', 'is_fraud', 'is_suspicious']]\n",
    "# trans_test_freq_time.loc[0, [\"txn_time\",\"unix_time\"]] = last_time, last_unix\n",
    "# print(f\"last_time, last_unix: {last_time, last_unix}\")\n",
    "# trans_test_freq_time\n",
    "\n",
    "# # в этом скрипте нужно проверить с условиями:\n",
    "# # 1. test_timestamp равен txn_time в исходном датафрейме с последней легальной транзакцией\n",
    "# # 2. test_timestamp больше txn_time в исходном датафрейме с последней легальной транзакцией,на не более чем на 29 минут\n",
    "# # 3. test_timestamp больше txn_time в исходном датафрейме с последней легальной транзакцией, на 30 и более минут\n",
    "\n",
    "# trans_freq_temp_df = transactions.copy().loc[:, ['txn_time', 'unix_time','online','account_to', 'is_fraud', 'is_suspicious']]\n",
    "# last_time = trans_test_freq_time.txn_time.max()\n",
    "# last_unix = trans_test_freq_time.unix_time.max()\n",
    "\n",
    "# test_mode = 3\n",
    "\n",
    "# if test_mode == 1:\n",
    "#     test_timestamp = last_time\n",
    "# elif test_mode == 2:\n",
    "#     test_timestamp = last_time + pd.Timedelta(7, unit=\"m\")\n",
    "# elif test_mode == 3:\n",
    "#     test_timestamp = last_time + pd.Timedelta(30, unit=\"m\")\n",
    "\n",
    "\n",
    "# freq_values = []\n",
    "\n",
    "\n",
    "# for i in range(1,6):\n",
    "#     if i == 1:\n",
    "#         lag = True\n",
    "\n",
    "#         txn_time, txn_unix = gen_time_for_frequent_trans(last_txn_time=last_time, last_txn_unix=last_unix, timestamps=timestamps_freq_test, \\\n",
    "#                                                          time_weights=weights_for_freq_trans, lag=lag, \\\n",
    "#                                                          test=True, test_timestamp=test_timestamp)\n",
    "        \n",
    "#     else:\n",
    "#         lag = False\n",
    "    \n",
    "#         txn_time, txn_unix, freq = gen_time_for_frequent_trans(last_txn_time=last_time, last_txn_unix=last_unix, timestamps=timestamps_freq_test, \\\n",
    "#                                                          time_weights=weights_for_freq_trans, lag=lag, \\\n",
    "#                                                          test=True, test_timestamp=test_timestamp)\n",
    "#         freq_values.append(freq / 60)\n",
    "        \n",
    "#     trans_freq_temp_df.loc[i, \"txn_time\"] = txn_time\n",
    "#     trans_freq_temp_df.loc[i, \"unix_time\"] = txn_unix\n",
    "#     trans_freq_temp_df.loc[i, \"is_fraud\"] = True\n",
    "\n",
    "    \n",
    "#     last_time = txn_time\n",
    "#     last_unix = txn_unix\n",
    "\n",
    "# # средняя частота фрод транзакций - всех, кроме первой фрод транзакции\n",
    "# print(\"\\n\\n Mean freq: \",pd.Series(freq_values).mean(), \" minutes\\n\\n\")\n",
    "\n",
    "# # к последней легальной транзакции присоединяем сгенерированные частые транзакции\n",
    "# trans_test_freq_time = pd.concat([trans_test_freq_time, trans_freq_temp_df])\n",
    "# # разница во времени с предыдущей транзакцией, в минутах\n",
    "# trans_test_freq_time[\"time_diff\"] = trans_test_freq_time.unix_time.sub(trans_test_freq_time.unix_time.shift(1)) / 60\n",
    "# trans_test_freq_time"
   ]
  },
  {
   "cell_type": "code",
   "execution_count": 329,
   "id": "9ae5f95e-f6ba-42a7-b0b1-e074ee9984a8",
   "metadata": {},
   "outputs": [],
   "source": [
    "# вторая запись. Первая фрод транзакция. time_diff должен быть не менее установленного lag_interval\n",
    "# trans_test_freq_time.loc[1, \"time_diff\"]\n",
    "\n",
    "# записи с третьей по последнюю - 2-я фрод транзакция и далее. time_diff должно быть в пределах диапазона freq\n",
    "# trans_test_freq_time.loc[2:(trans_test_freq_time.shape[0] - 1)]\n",
    "\n",
    "# txn_hour = time_weights[\"Offline_24h_Legit\"][\"weights\"].hours.sample(n=1, \\\n",
    "#                                 weights=time_weights[\"Offline_24h_Legit\"][\"weights\"].proportion, replace=True).iloc[0]\n",
    "# timestamps_subset = timestamps.loc[timestamps.hour == txn_hour]\n",
    "# timestamp_sample = timestamps_subset.sample(n=1, replace=True)\n",
    "\n",
    "# last_time = pd.to_datetime(\"2024-07-24 19:26:00\", format=\"%Y-%m-%d %H:%M:%S\")\n",
    "# last_unix = pd_timestamp_to_unix(last_time)\n",
    "# last_time, last_unix"
   ]
  },
  {
   "cell_type": "code",
   "execution_count": null,
   "id": "7a9070e7-6fa6-45e7-ade0-39c6429004db",
   "metadata": {},
   "outputs": [],
   "source": []
  }
 ],
 "metadata": {
  "kernelspec": {
   "display_name": "Python 3 (ipykernel)",
   "language": "python",
   "name": "python3"
  },
  "language_info": {
   "codemirror_mode": {
    "name": "ipython",
    "version": 3
   },
   "file_extension": ".py",
   "mimetype": "text/x-python",
   "name": "python",
   "nbconvert_exporter": "python",
   "pygments_lexer": "ipython3",
   "version": "3.13.3"
  }
 },
 "nbformat": 4,
 "nbformat_minor": 5
}
