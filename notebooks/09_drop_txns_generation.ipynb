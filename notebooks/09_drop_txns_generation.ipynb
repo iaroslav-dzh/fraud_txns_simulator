{
 "cells": [
  {
   "cell_type": "code",
   "execution_count": 235,
   "id": "c30e67d7-4a3c-4d29-9477-ab02b02e86fc",
   "metadata": {},
   "outputs": [],
   "source": [
    "import pandas as pd\n",
    "import numpy as np\n",
    "import matplotlib.pyplot as plt\n",
    "import seaborn as sns\n",
    "import os\n",
    "import re\n",
    "import geopandas as gpd\n",
    "import random\n",
    "from scipy.stats import truncnorm, norm\n",
    "from collections import defaultdict\n",
    "import math\n",
    "from shapely.ops import transform\n",
    "from pyproj import Geod\n",
    "import pyarrow\n",
    "from datetime import datetime\n",
    "import sys\n",
    "import importlib\n",
    "from dataclasses import dataclass\n",
    "import yaml\n",
    "from typing import Union"
   ]
  },
  {
   "cell_type": "code",
   "execution_count": 4,
   "id": "a6dc00ed-f62f-4871-8e41-47c85bc4c8a9",
   "metadata": {},
   "outputs": [],
   "source": [
    "# добавляем папку modules в sys.path, чтобы импортировать функции созданные ранее\n",
    "\n",
    "# sys.path.append(os.path.abspath(os.path.join(\"..\", \"modules\")))"
   ]
  },
  {
   "cell_type": "code",
   "execution_count": 5,
   "id": "9d87e6be-bb84-44d9-9d35-924a25f2ddca",
   "metadata": {},
   "outputs": [],
   "source": [
    "# Функции генерации паттернов времени и базовые функции времени созданные ранее\n",
    "import data_generator.fraud.time\n",
    "import data_generator.fraud.txndata\n",
    "importlib.reload(data_generator.fraud.time)\n",
    "importlib.reload(data_generator.fraud.txndata)\n",
    "from data_generator.general_time import *\n",
    "from data_generator.utils import build_transaction\n",
    "from data_generator.fraud.txndata import FraudTxnPartData, TransAmount, sample_category\n",
    "from data_generator.fraud.time import derive_from_last_time"
   ]
  },
  {
   "cell_type": "code",
   "execution_count": null,
   "id": "23828f2a-bd6f-46f6-ab48-67e874a45a45",
   "metadata": {},
   "outputs": [],
   "source": []
  },
  {
   "cell_type": "code",
   "execution_count": 10,
   "id": "6c6c9867-8d32-4b4d-9923-2b2f5711bfc8",
   "metadata": {},
   "outputs": [],
   "source": [
    "np.set_printoptions(suppress=True)\n",
    "pd.set_option('display.max_columns', None)"
   ]
  },
  {
   "cell_type": "code",
   "execution_count": 7,
   "id": "122df125-874a-4cc5-a123-74aca56e5baf",
   "metadata": {},
   "outputs": [
    {
     "data": {
      "text/plain": [
       "'C:\\\\Users\\\\iaros\\\\My_documents\\\\Education\\\\projects\\\\fraud_detection_01\\\\notebooks'"
      ]
     },
     "execution_count": 7,
     "metadata": {},
     "output_type": "execute_result"
    }
   ],
   "source": [
    "os.getcwd()"
   ]
  },
  {
   "cell_type": "code",
   "execution_count": 8,
   "id": "71fc90ba-44d1-4bc6-b2a3-edda53a9123b",
   "metadata": {},
   "outputs": [],
   "source": [
    "os.chdir(\"..\")"
   ]
  },
  {
   "cell_type": "code",
   "execution_count": 9,
   "id": "4c92f5c7-1b75-4e1b-97a1-34a61031d901",
   "metadata": {},
   "outputs": [
    {
     "data": {
      "text/plain": [
       "'C:\\\\Users\\\\iaros\\\\My_documents\\\\Education\\\\projects\\\\fraud_detection_01'"
      ]
     },
     "execution_count": 9,
     "metadata": {},
     "output_type": "execute_result"
    }
   ],
   "source": [
    "os.getcwd()"
   ]
  },
  {
   "cell_type": "markdown",
   "id": "ecd83afb-aeee-4488-b237-366ed2c85d61",
   "metadata": {},
   "source": [
    "## Загрузка конфигураций"
   ]
  },
  {
   "cell_type": "code",
   "execution_count": 18,
   "id": "2596e557-1894-4125-a02a-517e01ff04ff",
   "metadata": {},
   "outputs": [],
   "source": [
    "# Общие настройки\n",
    "with open(\"./config/base.yaml\") as f:\n",
    "    base_cfg = yaml.safe_load(f)\n",
    "# Настройки фрода\n",
    "with open(\"./config/fraud.yaml\") as f:\n",
    "    fraud_cfg = yaml.safe_load(f)\n",
    "# Настройки фрода для дропов\n",
    "with open(\"./config/drops.yaml\", encoding=\"utf8\") as f:\n",
    "    drops_cfg = yaml.safe_load(f)\n",
    "# Настройки времени\n",
    "with open(\"./config/time.yaml\") as f:\n",
    "    time_cfg = yaml.safe_load(f)"
   ]
  },
  {
   "cell_type": "markdown",
   "id": "b44b5ea0-cf43-46d2-8441-a1bb4c2331b0",
   "metadata": {},
   "source": [
    "# Доп. данные для генерации фрод транзакций"
   ]
  },
  {
   "cell_type": "markdown",
   "id": "908fd76b-76e1-45a1-a001-d8d03ef4baed",
   "metadata": {},
   "source": [
    "**Загрузка данных:**\n",
    "- оффлайн мерчантов\n",
    "- онлайн мерчантов\n",
    "- девайсов клиентов и мошенников\n",
    "- городов с полигонами\n",
    "- городов с координатами центров\n",
    "- клиентов\n",
    "- фрод IP адресов\n",
    "- категорий и их характеристик\n",
    "- Счетов клиентов\n",
    "- Внешних счетов"
   ]
  },
  {
   "cell_type": "code",
   "execution_count": 11,
   "id": "7602ab36-bd72-4160-8fec-753775f89880",
   "metadata": {},
   "outputs": [],
   "source": [
    "offline_merchants = gpd.read_file(\"./data/cleaned_data/offline_merchants_points.gpkg\")\n",
    "online_merchant_ids = pd.read_csv(\"./data/cleaned_data/online_merchant_ids.csv\").iloc[:, 0]\n",
    "client_devices = pd.read_csv(\"./data/cleaned_data/client_devices.csv\")\n",
    "fraud_devices = pd.read_csv(\"./data/cleaned_data/fraud_devices.csv\")\n",
    "districts_ru = gpd.read_file(\"./data/cleaned_data/district_ru.gpkg\")\n",
    "area_centers = gpd.read_file(\"./data/cleaned_data/area_centers.gpkg\")\n",
    "clients_with_geo = gpd.read_file(\"./data/cleaned_data/clients_with_geo.gpkg\") \n",
    "fraud_ips = gpd.read_file(\"./data/cleaned_data/fraud_ips.gpkg\")\n",
    "cat_stats_full = pd.read_csv(\"./data/cleaned_data/cat_stats_full.csv\")\n",
    "cat_fraud_amts = pd.read_csv(\"./data/cleaned_data/cat_fraud_amts.csv\")\n",
    "accounts = pd.read_csv(\"./data/generated_data/accounts.csv\")\n",
    "outer_accounts = pd.read_csv(\"./data/generated_data/outer_accounts.csv\")"
   ]
  },
  {
   "cell_type": "markdown",
   "id": "22a206ef-4367-4265-8a7a-d71edb16f77d",
   "metadata": {},
   "source": [
    "**Датафрейм под транзакции. Этап тестов**<br>\n",
    "Создадим пустой датафрейм под транзакции. Будем копировать и использовать его при тестах функций."
   ]
  },
  {
   "cell_type": "code",
   "execution_count": 13,
   "id": "8d5babab-6645-48b9-8b65-41229b4ee162",
   "metadata": {},
   "outputs": [
    {
     "data": {
      "text/html": [
       "<div>\n",
       "<style scoped>\n",
       "    .dataframe tbody tr th:only-of-type {\n",
       "        vertical-align: middle;\n",
       "    }\n",
       "\n",
       "    .dataframe tbody tr th {\n",
       "        vertical-align: top;\n",
       "    }\n",
       "\n",
       "    .dataframe thead th {\n",
       "        text-align: right;\n",
       "    }\n",
       "</style>\n",
       "<table border=\"1\" class=\"dataframe\">\n",
       "  <thead>\n",
       "    <tr style=\"text-align: right;\">\n",
       "      <th></th>\n",
       "      <th>client_id</th>\n",
       "      <th>txn_time</th>\n",
       "      <th>unix_time</th>\n",
       "      <th>amount</th>\n",
       "      <th>type</th>\n",
       "      <th>channel</th>\n",
       "      <th>category</th>\n",
       "      <th>online</th>\n",
       "      <th>merchant_id</th>\n",
       "      <th>trans_city</th>\n",
       "      <th>trans_lat</th>\n",
       "      <th>trans_lon</th>\n",
       "      <th>trans_ip</th>\n",
       "      <th>device_id</th>\n",
       "      <th>account</th>\n",
       "      <th>is_fraud</th>\n",
       "      <th>is_suspicious</th>\n",
       "      <th>status</th>\n",
       "      <th>rule</th>\n",
       "    </tr>\n",
       "  </thead>\n",
       "  <tbody>\n",
       "  </tbody>\n",
       "</table>\n",
       "</div>"
      ],
      "text/plain": [
       "Empty DataFrame\n",
       "Columns: [client_id, txn_time, unix_time, amount, type, channel, category, online, merchant_id, trans_city, trans_lat, trans_lon, trans_ip, device_id, account, is_fraud, is_suspicious, status, rule]\n",
       "Index: []"
      ]
     },
     "execution_count": 13,
     "metadata": {},
     "output_type": "execute_result"
    }
   ],
   "source": [
    "transactions = pd.DataFrame(\n",
    "            {\"client_id\": pd.Series(dtype=\"int64\"),\n",
    "            \"txn_time\": pd.Series(dtype=\"datetime64[ns]\"),\n",
    "             \"unix_time\":pd.Series(dtype=\"int64\"),\n",
    "            \"amount\": pd.Series(dtype=\"float64\"),\n",
    "            \"type\": pd.Series(dtype=\"string\"),\n",
    "            \"channel\": pd.Series(dtype=\"string\"),\n",
    "            \"category\": pd.Series(dtype=\"string\"),\n",
    "            \"online\":pd.Series(dtype=\"bool\"),\n",
    "            \"merchant_id\":pd.Series(dtype=\"int64\"),\n",
    "             \"trans_city\":pd.Series(dtype=\"string\"),\n",
    "            \"trans_lat\":pd.Series(dtype=\"float64\"),\n",
    "             \"trans_lon\":pd.Series(dtype=\"float64\"),\n",
    "            \"trans_ip\":pd.Series(dtype=\"string\"),\n",
    "             \"device_id\":pd.Series(dtype=\"int64\"),\n",
    "             \"account\": pd.Series(dtype=\"int64\"),\n",
    "            \"is_fraud\": pd.Series(dtype=\"bool\"),\n",
    "             \"is_suspicious\": pd.Series(dtype=\"bool\"),\n",
    "            \"status\":pd.Series(dtype=\"string\"),\n",
    "            \"rule\":pd.Series(dtype=\"string\")})\n",
    "transactions"
   ]
  },
  {
   "cell_type": "markdown",
   "id": "212f66bc-3553-4948-8210-a5f7f45cf491",
   "metadata": {},
   "source": [
    "**Функция получения случайных значений из `truncnorm` распределения**\n",
    "- пойдет в модуль `utils`"
   ]
  },
  {
   "cell_type": "code",
   "execution_count": 14,
   "id": "550d6562-2464-485b-80e9-ec239ec866c1",
   "metadata": {},
   "outputs": [],
   "source": [
    "def get_values_from_truncnorm(low_bound, high_bound, mean, std, size=1):\n",
    "    \"\"\"\n",
    "    Сгенерировать массив чисел из обрезанного нормального распределения.\n",
    "    Можно сгенерировать массив с одним числом\n",
    "    ------------\n",
    "    low_bound - float, int. Нижняя граница значений\n",
    "    high_bound - float, int. Верхняя граница значений \n",
    "    mean - float, int. Среднее\n",
    "    std - float, int. Стандартное отклонение\n",
    "    size - Количество чисел в возвращаемом массиве\n",
    "    ------------\n",
    "    Возвращает np.ndarray\n",
    "    \"\"\"\n",
    "    return truncnorm.rvs((low_bound - mean) / std, (high_bound - mean) / std, loc=mean, scale=std, size=size)"
   ]
  },
  {
   "cell_type": "markdown",
   "id": "7302b003-7e50-4387-a361-afdfdc6afc93",
   "metadata": {},
   "source": [
    "## Класс `DropDistributorCfg`\n",
    "- конфигурации на основании которых будут генерироваться транзакции дропов\n",
    "  занятых распределением полученных денег: переводами, снятиями, покупкой криптовалюты."
   ]
  },
  {
   "cell_type": "code",
   "execution_count": 52,
   "id": "d25766b0-5a95-42c3-8dbb-69574a91b127",
   "metadata": {},
   "outputs": [],
   "source": [
    "# ----------- ВСТАВИТЬ ГОТОВЫЙ КЛАСС СЮДА -------------------------"
   ]
  },
  {
   "cell_type": "markdown",
   "id": "d6807bb8-d463-4747-a07e-2c043865484b",
   "metadata": {},
   "source": [
    "### Создание аргументов для `DropDistributorCfg`"
   ]
  },
  {
   "cell_type": "code",
   "execution_count": 16,
   "id": "54162d98-aa61-497a-9f86-91baa0907eed",
   "metadata": {},
   "outputs": [],
   "source": [
    "# timestamp-ы использованные еще для генерации легальных и purchase фрод транзакций\n",
    "timestamps = pd.read_parquet(\"./data/generated_data/timestamps.parquet\", engine=\"pyarrow\")"
   ]
  },
  {
   "cell_type": "code",
   "execution_count": 19,
   "id": "3ee9f416-e7c0-4bfa-8228-5380879bf788",
   "metadata": {},
   "outputs": [],
   "source": [
    "time_weight_args = time_cfg[\"time_weights_args\"]"
   ]
  },
  {
   "cell_type": "code",
   "execution_count": 20,
   "id": "5a9f0664-ba62-4db7-8317-96538b7703cd",
   "metadata": {},
   "outputs": [],
   "source": [
    "time_weights_dict = get_all_time_patterns(time_weight_args)"
   ]
  },
  {
   "cell_type": "markdown",
   "id": "2f932473-9b9b-4420-a515-4dff743428c7",
   "metadata": {},
   "source": [
    "**Легальные транзакции**  \n",
    "Нужно знать их количество для определения числа фрод транзакций  \n",
    "и следовательно, количества клиентов для их генерации"
   ]
  },
  {
   "cell_type": "code",
   "execution_count": 21,
   "id": "dedea0b9-5aee-40db-bb20-055d46c5f942",
   "metadata": {},
   "outputs": [],
   "source": [
    "legit_txns = pd.read_parquet(\"./data/generated_data/legit_trans_148K.parquet\", engine=\"pyarrow\")"
   ]
  },
  {
   "cell_type": "markdown",
   "id": "3eb754d0-1349-4db0-b57d-a8aef4789cca",
   "metadata": {},
   "source": [
    "**Клиенты для дроп фрода**  \n",
    "Случайно возьмем клиентов, у которых нет никаких транзакций  \n",
    "Для этого загрузим семплированных для легальных транзакций клиентов, т.е. у кого были созданы легальные транзакции.  \n",
    "У части этих клиентов также созданы purchase фрод транзакции. Всех этих клиентов надо исключить."
   ]
  },
  {
   "cell_type": "code",
   "execution_count": 22,
   "id": "7f88b9d0-d717-463e-9829-bbf6e4860da2",
   "metadata": {},
   "outputs": [],
   "source": [
    "clients_sample_df = gpd.read_file(\"./data/cleaned_data/clients_sample.gpkg\")"
   ]
  },
  {
   "cell_type": "code",
   "execution_count": 23,
   "id": "c973cadc-fb7a-41e0-a3f3-beddd4471cb6",
   "metadata": {},
   "outputs": [
    {
     "data": {
      "text/plain": [
       "(3000, 12)"
      ]
     },
     "execution_count": 23,
     "metadata": {},
     "output_type": "execute_result"
    }
   ],
   "source": [
    "clients_sample_df.shape"
   ]
  },
  {
   "cell_type": "markdown",
   "id": "14e17758-50df-45ec-a01b-0f67809b8020",
   "metadata": {},
   "source": [
    "Конфиги загружаются временно тут"
   ]
  },
  {
   "cell_type": "code",
   "execution_count": 316,
   "id": "f903ce78-5623-409c-a537-90e7569358bc",
   "metadata": {},
   "outputs": [],
   "source": [
    "# Общие настройки\n",
    "with open(\"./config/base.yaml\") as f:\n",
    "    base_cfg = yaml.safe_load(f)\n",
    "# Настройки фрода\n",
    "with open(\"./config/fraud.yaml\") as f:\n",
    "    fraud_cfg = yaml.safe_load(f)\n",
    "# Настройки фрода для дропов\n",
    "with open(\"./config/drops.yaml\", encoding=\"utf8\") as f:\n",
    "    drops_cfg = yaml.safe_load(f)\n",
    "# Настройки времени\n",
    "with open(\"./config/time.yaml\") as f:\n",
    "    time_cfg = yaml.safe_load(f)"
   ]
  },
  {
   "cell_type": "code",
   "execution_count": 24,
   "id": "1ca9e428-50d7-4a3e-a7f8-209648c37a8b",
   "metadata": {},
   "outputs": [],
   "source": [
    "# доля дроп фрода - Дропы занимающиеся переводами и снятиями; и дропы, которые покупают товары на присланные деньги\n",
    "fraud_rate = fraud_cfg[\"fraud_rates\"][\"total\"]\n",
    "drop_dist_share = drops_cfg[\"distributor\"][\"rate\"] # Дропы распределители. Доля от всего фрода\n",
    "drop_purch_share = drops_cfg[\"purchaser\"][\"rate\"] # Дропы покупатели. Доля от всего фрода"
   ]
  },
  {
   "cell_type": "code",
   "execution_count": 25,
   "id": "4be2e34c-bac8-400a-bfbf-0b04ee53f8ff",
   "metadata": {},
   "outputs": [],
   "source": [
    "# лимит на исходящие транзакции дропа. Нужен сейчас для вычисления количества дропов распределителей\n",
    "\n",
    "dist_out_lim = drops_cfg[\"distributor\"][\"out_lim\"]"
   ]
  },
  {
   "cell_type": "code",
   "execution_count": 33,
   "id": "443dd48a-51c3-4040-ac96-a3d9b63cce82",
   "metadata": {},
   "outputs": [
    {
     "data": {
      "text/plain": [
       "28"
      ]
     },
     "execution_count": 33,
     "metadata": {},
     "output_type": "execute_result"
    }
   ],
   "source": [
    "# отсюда посчитаем количество клиентов для дроп фрода с распределением денег\n",
    "\n",
    "legit_count = legit_txns.shape[0]\n",
    "# подсчет количества транзакций равных 1% от всех транзакций\n",
    "# т.к. не все транзакции еще созданные, то считаем основываясь на количестве легальных транзакций и fraud rate\n",
    "one_perc = round(legit_count / ((1 - fraud_rate) * 100))\n",
    "# Один процент транзакций умножаем на долю транзакций дропов-распределителей и делим на максимальное количество\n",
    "# исходящих транзакций которое распределитель может сделать до детекта. Так находим сколько примерно дропов будет под такой фрод\n",
    "dist_drops_count = round(one_perc * drop_dist_share / dist_out_lim) \n",
    "dist_drops_count"
   ]
  },
  {
   "cell_type": "code",
   "execution_count": 34,
   "id": "7ee558ad-80ac-49e2-8b42-b00f2cf10f2a",
   "metadata": {},
   "outputs": [],
   "source": [
    "# Клиенты незадействованные ранее\n",
    "\n",
    "not_used_clients = clients_with_geo.loc[~clients_with_geo.client_id.isin(clients_sample_df.client_id)].copy()"
   ]
  },
  {
   "cell_type": "code",
   "execution_count": 35,
   "id": "851f96f8-c8c8-4a15-8a70-8ed56b1d1295",
   "metadata": {},
   "outputs": [],
   "source": [
    "# семплируем dist_drops_count клиентов\n",
    "\n",
    "dist_drop_clients = not_used_clients.sample(n=dist_drops_count).reset_index(drop=True)"
   ]
  },
  {
   "cell_type": "code",
   "execution_count": 36,
   "id": "4891e94f-7561-494f-9232-e9d7d9f4adc1",
   "metadata": {},
   "outputs": [
    {
     "data": {
      "text/html": [
       "<div>\n",
       "<style scoped>\n",
       "    .dataframe tbody tr th:only-of-type {\n",
       "        vertical-align: middle;\n",
       "    }\n",
       "\n",
       "    .dataframe tbody tr th {\n",
       "        vertical-align: top;\n",
       "    }\n",
       "\n",
       "    .dataframe thead th {\n",
       "        text-align: right;\n",
       "    }\n",
       "</style>\n",
       "<table border=\"1\" class=\"dataframe\">\n",
       "  <thead>\n",
       "    <tr style=\"text-align: right;\">\n",
       "      <th></th>\n",
       "      <th>client_id</th>\n",
       "      <th>district_id</th>\n",
       "      <th>birth_date</th>\n",
       "      <th>sex</th>\n",
       "      <th>region</th>\n",
       "      <th>area</th>\n",
       "      <th>timezone</th>\n",
       "      <th>lat</th>\n",
       "      <th>lon</th>\n",
       "      <th>population</th>\n",
       "      <th>home_ip</th>\n",
       "      <th>geometry</th>\n",
       "    </tr>\n",
       "  </thead>\n",
       "  <tbody>\n",
       "    <tr>\n",
       "      <th>0</th>\n",
       "      <td>52</td>\n",
       "      <td>32</td>\n",
       "      <td>1924-12-12</td>\n",
       "      <td>male</td>\n",
       "      <td>Курская</td>\n",
       "      <td>Курск</td>\n",
       "      <td>UTC+3</td>\n",
       "      <td>51.730339</td>\n",
       "      <td>36.192645</td>\n",
       "      <td>414595</td>\n",
       "      <td>2.60.0.50</td>\n",
       "      <td>MULTIPOLYGON (((36.0603 51.67692, 36.06039 51....</td>\n",
       "    </tr>\n",
       "    <tr>\n",
       "      <th>1</th>\n",
       "      <td>403</td>\n",
       "      <td>42</td>\n",
       "      <td>1973-05-26</td>\n",
       "      <td>female</td>\n",
       "      <td>Астраханская</td>\n",
       "      <td>Астрахань</td>\n",
       "      <td>UTC+4</td>\n",
       "      <td>46.365581</td>\n",
       "      <td>48.055998</td>\n",
       "      <td>520662</td>\n",
       "      <td>2.60.1.127</td>\n",
       "      <td>MULTIPOLYGON (((47.87112 46.26966, 47.87127 46...</td>\n",
       "    </tr>\n",
       "  </tbody>\n",
       "</table>\n",
       "</div>"
      ],
      "text/plain": [
       "   client_id  district_id  birth_date     sex        region       area  \\\n",
       "0         52           32  1924-12-12    male       Курская      Курск   \n",
       "1        403           42  1973-05-26  female  Астраханская  Астрахань   \n",
       "\n",
       "  timezone        lat        lon  population     home_ip  \\\n",
       "0    UTC+3  51.730339  36.192645      414595   2.60.0.50   \n",
       "1    UTC+4  46.365581  48.055998      520662  2.60.1.127   \n",
       "\n",
       "                                            geometry  \n",
       "0  MULTIPOLYGON (((36.0603 51.67692, 36.06039 51....  \n",
       "1  MULTIPOLYGON (((47.87112 46.26966, 47.87127 46...  "
      ]
     },
     "execution_count": 36,
     "metadata": {},
     "output_type": "execute_result"
    }
   ],
   "source": [
    "dist_drop_clients.head(2)"
   ]
  },
  {
   "cell_type": "code",
   "execution_count": 37,
   "id": "c8b7fe8d-200e-491a-98d1-88dfbb8dfb06",
   "metadata": {},
   "outputs": [
    {
     "data": {
      "text/plain": [
       "(28, 12)"
      ]
     },
     "execution_count": 37,
     "metadata": {},
     "output_type": "execute_result"
    }
   ],
   "source": [
    "dist_drop_clients.shape"
   ]
  },
  {
   "cell_type": "markdown",
   "id": "41bc701a-1ba4-49ee-8fd7-010714fbf90d",
   "metadata": {},
   "source": [
    "## Объект датакласса `DropDistributorCfg` конфиги для дропов распределителей"
   ]
  },
  {
   "cell_type": "code",
   "execution_count": 320,
   "id": "07c26c2b-b46d-4e58-921b-ccd4227336a7",
   "metadata": {},
   "outputs": [],
   "source": [
    "# Импорт на время разработки\n",
    "import data_generator.configs\n",
    "importlib.reload(data_generator.configs)\n",
    "from data_generator.configs import DropDistributorCfg"
   ]
  },
  {
   "cell_type": "markdown",
   "id": "490d0ee2-5f93-4469-97f2-cd1a93df80ba",
   "metadata": {},
   "source": [
    "**Доп. конфиги из `drop.yaml`**"
   ]
  },
  {
   "cell_type": "code",
   "execution_count": 317,
   "id": "35c248e0-7ba5-4246-9c11-260175c8a72b",
   "metadata": {},
   "outputs": [],
   "source": [
    "# временно\n",
    "\n",
    "# Общие настройки\n",
    "with open(\"./config/base.yaml\") as f:\n",
    "    base_cfg = yaml.safe_load(f)\n",
    "# Настройки фрода\n",
    "with open(\"./config/fraud.yaml\") as f:\n",
    "    fraud_cfg = yaml.safe_load(f)\n",
    "# Настройки фрода для дропов\n",
    "with open(\"./config/drops.yaml\", encoding=\"utf8\") as f:\n",
    "    drops_cfg = yaml.safe_load(f)\n",
    "# Настройки времени\n",
    "with open(\"./config/time.yaml\") as f:\n",
    "    time_cfg = yaml.safe_load(f)"
   ]
  },
  {
   "cell_type": "code",
   "execution_count": 318,
   "id": "6e837c6b-344b-4985-aa35-dd9cb71abddc",
   "metadata": {},
   "outputs": [],
   "source": [
    "# Параметры обозначенные в config/drops.yaml\n",
    "\n",
    "dist_cfg = drops_cfg[\"distributor\"]\n",
    "period_in_lim = dist_cfg[\"period_in_lim\"]\n",
    "period_out_lim = dist_cfg[\"period_out_lim\"]\n",
    "dist_lag_int = drops_cfg[\"lag_interval\"]\n",
    "two_way_delta = drops_cfg[\"two_way_delta\"]\n",
    "pos_delta = drops_cfg[\"pos_delta\"]\n",
    "split_rate = dist_cfg[\"split_rate\"]\n",
    "chunks = dist_cfg[\"chunks\"]\n",
    "dist_inbound = drops_cfg[\"inbound_amt\"]\n",
    "dist_round = dist_cfg[\"round\"]\n",
    "dist_trf_lim = dist_cfg[\"trf_lim\"]\n",
    "dist_att = dist_cfg[\"attempts\"]"
   ]
  },
  {
   "cell_type": "code",
   "execution_count": 322,
   "id": "c761f555-8c53-4941-99cb-f0946e664438",
   "metadata": {},
   "outputs": [],
   "source": [
    "dist_configs = DropDistributorCfg(clients=dist_drop_clients, timestamps=timestamps, accounts=accounts, \\\n",
    "                                  outer_accounts=outer_accounts, client_devices=client_devices, atms=None, \\\n",
    "                                  online_merchant_ids=online_merchant_ids, cities=districts_ru, period_in_lim=period_in_lim, \\\n",
    "                                  period_out_lim=period_out_lim, lag_interval=dist_lag_int, two_way_delta=two_way_delta, \\\n",
    "                                  pos_delta=pos_delta, split_rate=split_rate, chunks=chunks, inbound_amt=dist_inbound, round=dist_round, \\\n",
    "                                  trf_lim=dist_trf_lim, attempts=dist_att\n",
    "                                 )"
   ]
  },
  {
   "cell_type": "markdown",
   "id": "38d40f97-305b-4daa-b418-13d9e03b6980",
   "metadata": {},
   "source": [
    "## Класс `DropPurchaserCfg` конфиги для дропов покупателей"
   ]
  },
  {
   "cell_type": "code",
   "execution_count": 237,
   "id": "c3d54cd9-1c28-4f77-b60a-230a6a41a08b",
   "metadata": {},
   "outputs": [],
   "source": [
    "@dataclass\n",
    "class DropPurchaserCfg: # <-------------------- in development. Совсем не откорректирован.\n",
    "    \"\"\"\n",
    "    Это данные на основе которых будут генерироваться транзакции дропов-покупателей\n",
    "    ---------------------\n",
    "    clients: pd.DataFrame\n",
    "    timestamps: pd.DataFrame\n",
    "    transactions: pd.DataFrame\n",
    "    accounts: pd.DataFrame. Номера счетов клиентов. \n",
    "    outer_accounts: pd.Series. Номера внешних счетов для транзакций вне банка.\n",
    "    client_devices: pd.DataFrame\n",
    "    offline_merchants: pd.DataFrame\n",
    "    categories: pd.DataFrame\n",
    "    online_merchant_ids: pd.Series\n",
    "    time_weights_dict: dict\n",
    "    rules: pd.DataFrame\n",
    "    cities: pd.DataFrame\n",
    "    fraud_amounts: pd.DataFrame\n",
    "    period_in_lim: int. Количество входящих транзакций после которых дроп уходит на паузу.\n",
    "    period_out_lim: int. Количество исходящих транзакций после которых дроп уходит на паузу.\n",
    "    lag_interval: int. Минуты. На сколько дроп должен делать паузу после\n",
    "                       достижения лимита входящих и/или исходящих транзакций.\n",
    "                       Например 1440 минут(сутки). Отсчет идет от первой транзакции в последнем периоде активности.\n",
    "    two_way_delta: dict. Минимум и максимум дельты времени. Для случаев когда дельта может быть и положительной и отрицательной.\n",
    "                         Эта дельта прибавляется к lag_interval, чтобы рандомизировать время возобновления активности,\n",
    "                         чтобы оно не было ровным. Берется из конфига drops.yaml\n",
    "    pos_delta: dict. Минимум и максимум случайной дельты времени в минутах. Для случаев когда дельта может быть только положительной.\n",
    "                          Эта дельта - промежуток между транзакциями дропа в одном периоде. Просто прибавляется ко времени последней транзакции.\n",
    "    chunks: dict. Характеристики для генератора сумм транзакций по частям.\n",
    "    inbound_amt: dict. Настройки для сумм входящих транзакций\n",
    "    round: int. Округление целой части сумм транзакций. Напр. 500 значит что суммы будут кратны 500 - кончаться на 500 или 000\n",
    "    \"\"\"\n",
    "    clients: pd.DataFrame\n",
    "    timestamps: pd.DataFrame\n",
    "    transactions: pd.DataFrame\n",
    "    accounts: pd.DataFrame\n",
    "    outer_accounts: pd.Series\n",
    "    client_devices: pd.DataFrame\n",
    "    offline_merchants: pd.DataFrame\n",
    "    categories: pd.DataFrame\n",
    "    online_merchant_ids: pd.Series\n",
    "    time_weights_dict: dict\n",
    "    rules: pd.DataFrame\n",
    "    cities: pd.DataFrame\n",
    "    fraud_amounts: pd.DataFrame\n",
    "    period_in_lim: int\n",
    "    period_out_lim: int\n",
    "    lag_interval: int\n",
    "    two_way_delta: dict\n",
    "    pos_delta: dict\n",
    "    chunks: dict\n",
    "    inbound_amt: dict\n",
    "    round: dict"
   ]
  },
  {
   "cell_type": "code",
   "execution_count": null,
   "id": "f774e608-0c45-4921-80c9-7c02a969d660",
   "metadata": {},
   "outputs": [],
   "source": []
  },
  {
   "cell_type": "markdown",
   "id": "39949f0f-61f2-4c20-8c7a-dbdba2af883c",
   "metadata": {},
   "source": [
    "## Класс `DropTxnPartData` - генерация части данных транзакции\n",
    "-  локация, мерчант id, ip адрес, device id, канал, тип транзакции. "
   ]
  },
  {
   "cell_type": "code",
   "execution_count": null,
   "id": "bd8c4308-4a9f-4b20-8cfe-c50c8c64e218",
   "metadata": {},
   "outputs": [],
   "source": [
    "class DropTxnPartData:\n",
    "    \"\"\"\n",
    "    Класс для генерации части данных о транзакции дропа:\n",
    "    канал, тип операции, мерчант, геопозиция, город, IP адрес, иногда статус.\n",
    "    ------------------\n",
    "    Атрибуты:\n",
    "    --------\n",
    "    atms - pd.DataFrame. id банкоматов и их координаты.\n",
    "    client_info - pd.DataFrame или namedtuple. Запись с информацией о клиенте\n",
    "    online_merchant_ids- pd.Series. id онлайн мерчантов\n",
    "    client_devices - pd.DataFrame. Девайсы клиентов.\n",
    "    last_txn - tuple. Для кэширования предыдущей транзакции\n",
    "    \"\"\"\n",
    "    def __init__(self, configs: Union[DropDistributorCfg, DropPurchaserCfg]):\n",
    "        \"\"\"\n",
    "        configs: Один из датаклассов — DropDistributorCfg или DropPurchaserCfg.\n",
    "                 Содержит параметры и конфиги для генерации фрода.\n",
    "        \"\"\"\n",
    "        self.atms = configs.atms\n",
    "        self.client_info = None\n",
    "        self.online_merchant_ids = configs.online_merchant_ids\n",
    "        self.client_devices = configs.client_devices\n",
    "        self.last_txn = None\n",
    "    \n",
    "\n",
    "    def original_purchase(self, online=True):\n",
    "        \"\"\"\n",
    "        Оригинальные данные клиента для операций покупок.\n",
    "        На данный момент это для дропов.\n",
    "        Для операций на криптобирже и для покупки товаров дропами\n",
    "        \"\"\"\n",
    "        if online:\n",
    "            merchant_id = self.online_merchant_ids.sample(n=1).iat[0]\n",
    "            # Координаты города и название\n",
    "            trans_lat = self.client_info.lat\n",
    "            trans_lon = self.client_info.lon\n",
    "            trans_ip = self.client_info.home_ip\n",
    "            trans_city = self.client_info.area        \n",
    "            # Семпл девайса клиента\n",
    "            devices = self.client_devices.loc[self.client_devices.client_id == self.client_info.client_id]\n",
    "            device_id = devices.device_id.sample(1).iloc[0]\n",
    "            txn_type = \"purchase\"\n",
    "            # Не генерируем channel. Он должен быть определен вовне\n",
    "            channel = None\n",
    "\n",
    "        return merchant_id, trans_lat, trans_lon, trans_ip, trans_city, device_id, channel, txn_type\n",
    "\n",
    "        \n",
    "    def original_data(self, online, receive=None):\n",
    "        \"\"\"\n",
    "        Пока этот метод для клиентов дропов и, возможно, для переводов мошенникам\n",
    "        ------------------------------------\n",
    "        client_id - int.\n",
    "        online - bool.\n",
    "        received - bool.\n",
    "        \"\"\"\n",
    "        # Входящий перевод\n",
    "        if online and receive:\n",
    "            trans_ip = \"not applicable\"\n",
    "            device_id = np.nan\n",
    "            channel = \"transfer\"\n",
    "            txn_type = \"inbound\"\n",
    "            merchant_id = np.nan\n",
    "            trans_lat = np.nan\n",
    "            trans_lon = np.nan\n",
    "            trans_city = \"not applicable\"\n",
    "            \n",
    "            return merchant_id, trans_lat, trans_lon, trans_ip, trans_city, device_id, channel, txn_type\n",
    "        \n",
    "        # Исходящий перевод\n",
    "        elif online:\n",
    "            # Для онлайна просто берется home_ip и device_id из данных клиента.\n",
    "            trans_ip = self.client_info.home_ip\n",
    "            devices = self.client_devices.loc[self.client_devices.client_id == self.client_info.client_id]\n",
    "            device_id = devices.device_id.sample(1).iloc[0]\n",
    "            channel = \"transfer\"\n",
    "            txn_type = \"outbound\"  \n",
    "\n",
    "        # Оффлайн. Снятие в банкомате\n",
    "        else:\n",
    "            trans_ip = \"not applicable\"\n",
    "            device_id = np.nan\n",
    "            channel = \"ATM\"\n",
    "            txn_type = \"withdrawal\"\n",
    "            \n",
    "        merchant_id = np.nan\n",
    "        # Локация транзакции просто записываем координаты и название города клиента\n",
    "        trans_lat = self.client_info.lat\n",
    "        trans_lon = self.client_info.lon\n",
    "        trans_city = self.client_info.area\n",
    "\n",
    "        return merchant_id, trans_lat, trans_lon, trans_ip, trans_city, device_id, channel, txn_type"
   ]
  },
  {
   "cell_type": "code",
   "execution_count": 73,
   "id": "2659566f-f521-4e06-bff5-1d4599c66d5c",
   "metadata": {},
   "outputs": [],
   "source": [
    "# Временный импорт\n",
    "\n",
    "import data_generator.fraud.txndata\n",
    "importlib.reload(data_generator.fraud.txndata)\n",
    "from data_generator.fraud.txndata import DropTxnPartData"
   ]
  },
  {
   "cell_type": "code",
   "execution_count": 82,
   "id": "bca5d223-13ca-464b-ac7e-86f5546a4d2c",
   "metadata": {},
   "outputs": [],
   "source": [
    "txn_part_data_test = DropTxnPartData(configs=dist_configs)"
   ]
  },
  {
   "cell_type": "code",
   "execution_count": 85,
   "id": "1ce845f6-ecde-431c-a8ec-6650e01b8aab",
   "metadata": {},
   "outputs": [
    {
     "data": {
      "text/plain": [
       "Pandas(Index=27, client_id=484, district_id=28, birth_date='1959-09-13', sex='female', region='Челябинская', area='Магнитогорск', timezone='UTC+5', lat=53.4071891, lon=58.9791432, population=408401, home_ip='2.60.1.205', geometry=<MULTIPOLYGON (((58.897 53.472, 58.899 53.472, 58.901 53.472, 58.903 53.472,...>)"
      ]
     },
     "execution_count": 85,
     "metadata": {},
     "output_type": "execute_result"
    }
   ],
   "source": [
    "for client in dist_drop_clients.itertuples():\n",
    "    txn_part_data_test.client_info = client\n",
    "txn_part_data_test.client_info"
   ]
  },
  {
   "cell_type": "code",
   "execution_count": 86,
   "id": "0dfb6612-c14d-4770-a7a0-e93839e4ebd9",
   "metadata": {},
   "outputs": [
    {
     "data": {
      "text/plain": [
       "(np.int64(6789),\n",
       " 53.4071891,\n",
       " 58.9791432,\n",
       " '2.60.1.205',\n",
       " 'Магнитогорск',\n",
       " np.int64(839),\n",
       " None,\n",
       " 'purchase')"
      ]
     },
     "execution_count": 86,
     "metadata": {},
     "output_type": "execute_result"
    }
   ],
   "source": [
    "txn_part_data_test.original_purchase(online=True)"
   ]
  },
  {
   "cell_type": "code",
   "execution_count": 87,
   "id": "77c014ee-098a-4bf5-b100-cc2910e1af27",
   "metadata": {},
   "outputs": [
    {
     "data": {
      "text/plain": [
       "(nan, nan, nan, 'not applicable', 'not applicable', nan, 'transfer', 'inbound')"
      ]
     },
     "execution_count": 87,
     "metadata": {},
     "output_type": "execute_result"
    }
   ],
   "source": [
    "txn_part_data_test.original_data(online=True, receive=True)\n",
    "# merchant_id, trans_lat, trans_lon, trans_ip, trans_city, device_id, channel, txn_type"
   ]
  },
  {
   "cell_type": "code",
   "execution_count": 88,
   "id": "77d25f37-3726-4b47-99c0-e58aaf80b9b8",
   "metadata": {},
   "outputs": [
    {
     "data": {
      "text/plain": [
       "(nan,\n",
       " 53.4071891,\n",
       " 58.9791432,\n",
       " 'not applicable',\n",
       " 'Магнитогорск',\n",
       " nan,\n",
       " 'ATM',\n",
       " 'withdrawal')"
      ]
     },
     "execution_count": 88,
     "metadata": {},
     "output_type": "execute_result"
    }
   ],
   "source": [
    "txn_part_data_test.original_data(online=False)"
   ]
  },
  {
   "cell_type": "markdown",
   "id": "ce779776-cb0b-437b-8f47-cb04122e0437",
   "metadata": {},
   "source": [
    "## Объект класса `DropTxnPartData` для распределителей\n",
    "- генерация части данных транзакции"
   ]
  },
  {
   "cell_type": "code",
   "execution_count": 92,
   "id": "bc277e88-ecc1-4dca-9899-414dee8bda8e",
   "metadata": {},
   "outputs": [],
   "source": [
    "part_txn_data_dist = DropTxnPartData(configs=dist_configs)"
   ]
  },
  {
   "attachments": {},
   "cell_type": "markdown",
   "id": "9ddb6614-929c-4818-b90c-17786109d3c3",
   "metadata": {},
   "source": [
    "## Класс `DropAccountHandler`"
   ]
  },
  {
   "cell_type": "code",
   "execution_count": 484,
   "id": "fb804981-e1ab-40b5-a287-66b7057a3608",
   "metadata": {},
   "outputs": [],
   "source": [
    "class DropAccountHandler:\n",
    "    \"\"\"\n",
    "    Генератор номеров счетов входящих/исходящих транзакций.\n",
    "    Учет использованных счетов.\n",
    "    \"\"\"\n",
    "    def __init__(self, configs: DropConfigs, client_id, used_accounts=pd.Series(name=\"account_id\")):\n",
    "        \"\"\"\n",
    "        configs - pd.DataFrame. Данные для создания транзакций: номера счетов клиентов и внешних счетов, и др.\n",
    "        client_id - int. id текущего дропа.\n",
    "        used_accounts - pd.Series. Счета на которые дропы уже отправляли деньги.\n",
    "        \"\"\"\n",
    "        self.accounts = configs.accounts\n",
    "        self.outer_accounts = configs.outer_accounts\n",
    "        self.client_id = client_id\n",
    "        # self.account = 0\n",
    "        self.account = configs.accounts.loc[configs.accounts.client_id == client_id, \"account_id\"].iat[0]\n",
    "        self.used_accounts = used_accounts\n",
    "\n",
    "    def get_account(self, to_drop):\n",
    "        \"\"\"\n",
    "        Номер счета входящего/исходящего перевода\n",
    "        to_drop - bool. Перевод другому дропу в нашем банке или нет.\n",
    "        \"\"\"\n",
    "        # Если отправляем/получаем из другого банка.  \n",
    "        if not to_drop:\n",
    "            # Семплируем номер внешнего счета который еще не использовался\n",
    "            account = self.outer_accounts.loc[~(self.outer_accounts.isin(self.used_accounts))].sample(1).iat[0]\n",
    "            # Добавляем этот счет в использованные как последнюю запись в серии\n",
    "            self.used_accounts.loc[self.used_accounts.shape[0]] = account\n",
    "            return account\n",
    "        \n",
    "        # Если надо отправить другому дропу в нашем банке. При условии что есть другие дропы на текущий момент\n",
    "        # Фильтруем accounts исключая свой счет и использованные счета, и выбирая дропов. Для случая если to_drop\n",
    "        drop_accounts = self.accounts.loc[(self.accounts.client_id != self.client_id) & (self.accounts.is_drop == True) \\\n",
    "                                          & ~(self.accounts.account_id.isin(self.used_accounts))]\n",
    "        \n",
    "        # Если счетов дропов ещё нет. Берем внешний неиспользованный счет\n",
    "        if drop_accounts.empty:\n",
    "            account = self.outer_accounts.loc[~(self.outer_accounts.isin(self.used_accounts))].sample(1).iat[0]\n",
    "            self.used_accounts.loc[self.used_accounts.shape[0]] = account\n",
    "            return account\n",
    "\n",
    "        # Дропы есть\n",
    "        account = drop_accounts.account_id.sample(1).iat[0]\n",
    "        # Добавляем этот счет в использованные как последнюю запись в серии\n",
    "        self.used_accounts.loc[self.used_accounts.shape[0]] = account\n",
    "        return account\n",
    "\n",
    "\n",
    "    def reset_cache(self):\n",
    "        \"\"\"\n",
    "        Сброс кэшированных значений.\n",
    "        Это только использованные номера счетов\n",
    "        \"\"\"\n",
    "        self.used_accounts = pd.Series(name=\"account_id\")"
   ]
  },
  {
   "cell_type": "markdown",
   "id": "7ad480ac-a6d9-441c-b9a8-a74b4317d614",
   "metadata": {},
   "source": [
    "**Тест `DropAccountHandler`**"
   ]
  },
  {
   "cell_type": "code",
   "execution_count": 625,
   "id": "b72a9f22-a462-48a5-add0-58f66fed9515",
   "metadata": {},
   "outputs": [],
   "source": [
    "# импорт на время разработки\n",
    "\n",
    "import data_generator.fraud.drops.base\n",
    "importlib.reload(data_generator.fraud.drops.base)\n",
    "from data_generator.fraud.drops.base import DropAccountHandler"
   ]
  },
  {
   "cell_type": "code",
   "execution_count": 626,
   "id": "906163ab-8fd8-4081-acae-4595e475cb24",
   "metadata": {},
   "outputs": [],
   "source": [
    "drop_acc_hand1 = DropAccountHandler(configs=drop_configs)"
   ]
  },
  {
   "cell_type": "code",
   "execution_count": 627,
   "id": "62193c78-e3b2-4783-aa1d-8dcf705af455",
   "metadata": {},
   "outputs": [],
   "source": [
    "drop_acc_hand1.client_id = 1"
   ]
  },
  {
   "cell_type": "code",
   "execution_count": 557,
   "id": "aa8318ef-b7e8-4790-9bc4-f00d028b19bc",
   "metadata": {},
   "outputs": [
    {
     "data": {
      "text/plain": [
       "np.int64(10000)"
      ]
     },
     "execution_count": 557,
     "metadata": {},
     "output_type": "execute_result"
    }
   ],
   "source": [
    "drop_acc_hand1.get_account(own=True)\n",
    "drop_acc_hand1.account"
   ]
  },
  {
   "cell_type": "code",
   "execution_count": 520,
   "id": "7b2f697c-1a71-4ea8-a75a-f3d8ac10e9b2",
   "metadata": {},
   "outputs": [
    {
     "data": {
      "text/plain": [
       "np.int64(18331)"
      ]
     },
     "execution_count": 520,
     "metadata": {},
     "output_type": "execute_result"
    }
   ],
   "source": [
    "drop_acc_hand1.get_account()"
   ]
  },
  {
   "cell_type": "code",
   "execution_count": 521,
   "id": "70177fce-dde6-4f6e-9f12-500feba2ce42",
   "metadata": {},
   "outputs": [
    {
     "data": {
      "text/plain": [
       "0    18331\n",
       "Name: account_id, dtype: int64"
      ]
     },
     "execution_count": 521,
     "metadata": {},
     "output_type": "execute_result"
    }
   ],
   "source": [
    "drop_acc_hand1.used_accounts"
   ]
  },
  {
   "cell_type": "code",
   "execution_count": 541,
   "id": "4f28cf59-94f0-4338-a623-7f9712b264f9",
   "metadata": {},
   "outputs": [],
   "source": [
    "drop_acc_hand1.label_drop()"
   ]
  },
  {
   "cell_type": "code",
   "execution_count": 544,
   "id": "b93cf7a2-a669-4121-9763-41df3ea0bd2c",
   "metadata": {},
   "outputs": [
    {
     "data": {
      "text/html": [
       "<div>\n",
       "<style scoped>\n",
       "    .dataframe tbody tr th:only-of-type {\n",
       "        vertical-align: middle;\n",
       "    }\n",
       "\n",
       "    .dataframe tbody tr th {\n",
       "        vertical-align: top;\n",
       "    }\n",
       "\n",
       "    .dataframe thead th {\n",
       "        text-align: right;\n",
       "    }\n",
       "</style>\n",
       "<table border=\"1\" class=\"dataframe\">\n",
       "  <thead>\n",
       "    <tr style=\"text-align: right;\">\n",
       "      <th></th>\n",
       "      <th>client_id</th>\n",
       "      <th>account_id</th>\n",
       "      <th>is_drop</th>\n",
       "    </tr>\n",
       "  </thead>\n",
       "  <tbody>\n",
       "    <tr>\n",
       "      <th>0</th>\n",
       "      <td>1</td>\n",
       "      <td>10000</td>\n",
       "      <td>True</td>\n",
       "    </tr>\n",
       "    <tr>\n",
       "      <th>1</th>\n",
       "      <td>2</td>\n",
       "      <td>10001</td>\n",
       "      <td>False</td>\n",
       "    </tr>\n",
       "  </tbody>\n",
       "</table>\n",
       "</div>"
      ],
      "text/plain": [
       "   client_id  account_id  is_drop\n",
       "0          1       10000     True\n",
       "1          2       10001    False"
      ]
     },
     "execution_count": 544,
     "metadata": {},
     "output_type": "execute_result"
    }
   ],
   "source": [
    "drop_acc_hand1.accounts.head(2)"
   ]
  },
  {
   "cell_type": "code",
   "execution_count": 545,
   "id": "6b5163c1-3a02-4079-a5f1-3b68704e027c",
   "metadata": {},
   "outputs": [],
   "source": [
    "drop_acc_hand1.client_id = 99"
   ]
  },
  {
   "cell_type": "code",
   "execution_count": 547,
   "id": "c4ba62e4-e151-424a-bbf0-8396826facc0",
   "metadata": {},
   "outputs": [],
   "source": [
    "drop_acc_hand1.get_account(own=True)\n",
    "drop_acc_hand1.label_drop()"
   ]
  },
  {
   "cell_type": "code",
   "execution_count": 549,
   "id": "9cc44296-8e7c-4e18-ae85-d2bb1641ee70",
   "metadata": {},
   "outputs": [
    {
     "data": {
      "text/html": [
       "<div>\n",
       "<style scoped>\n",
       "    .dataframe tbody tr th:only-of-type {\n",
       "        vertical-align: middle;\n",
       "    }\n",
       "\n",
       "    .dataframe tbody tr th {\n",
       "        vertical-align: top;\n",
       "    }\n",
       "\n",
       "    .dataframe thead th {\n",
       "        text-align: right;\n",
       "    }\n",
       "</style>\n",
       "<table border=\"1\" class=\"dataframe\">\n",
       "  <thead>\n",
       "    <tr style=\"text-align: right;\">\n",
       "      <th></th>\n",
       "      <th>client_id</th>\n",
       "      <th>account_id</th>\n",
       "      <th>is_drop</th>\n",
       "    </tr>\n",
       "  </thead>\n",
       "  <tbody>\n",
       "    <tr>\n",
       "      <th>93</th>\n",
       "      <td>99</td>\n",
       "      <td>10093</td>\n",
       "      <td>True</td>\n",
       "    </tr>\n",
       "  </tbody>\n",
       "</table>\n",
       "</div>"
      ],
      "text/plain": [
       "    client_id  account_id  is_drop\n",
       "93         99       10093     True"
      ]
     },
     "execution_count": 549,
     "metadata": {},
     "output_type": "execute_result"
    }
   ],
   "source": [
    "drop_acc_hand1.accounts.query(\"client_id == 99\")"
   ]
  },
  {
   "cell_type": "code",
   "execution_count": 550,
   "id": "97714e7a-7183-4df5-8d33-67cd5e36a7d8",
   "metadata": {},
   "outputs": [
    {
     "data": {
      "text/plain": [
       "np.int64(10000)"
      ]
     },
     "execution_count": 550,
     "metadata": {},
     "output_type": "execute_result"
    }
   ],
   "source": [
    "drop_acc_hand1.get_account(to_drop=True)"
   ]
  },
  {
   "cell_type": "code",
   "execution_count": 551,
   "id": "ba98c4ed-c11f-49ed-8bc2-c6f768a5392a",
   "metadata": {},
   "outputs": [
    {
     "data": {
      "text/plain": [
       "0    18287\n",
       "1    10000\n",
       "Name: account_id, dtype: int64"
      ]
     },
     "execution_count": 551,
     "metadata": {},
     "output_type": "execute_result"
    }
   ],
   "source": [
    "drop_acc_hand1.used_accounts"
   ]
  },
  {
   "cell_type": "code",
   "execution_count": 553,
   "id": "0261fe16-4dd6-4cba-bad3-74b85d90714d",
   "metadata": {},
   "outputs": [
    {
     "data": {
      "text/plain": [
       "Series([], Name: account_id, dtype: object)"
      ]
     },
     "execution_count": 553,
     "metadata": {},
     "output_type": "execute_result"
    }
   ],
   "source": [
    "drop_acc_hand1.reset_cache()\n",
    "drop_acc_hand1.used_accounts"
   ]
  },
  {
   "cell_type": "code",
   "execution_count": 558,
   "id": "1117d7ac-959d-4a30-9055-53a66680f444",
   "metadata": {},
   "outputs": [
    {
     "data": {
      "text/html": [
       "<div>\n",
       "<style scoped>\n",
       "    .dataframe tbody tr th:only-of-type {\n",
       "        vertical-align: middle;\n",
       "    }\n",
       "\n",
       "    .dataframe tbody tr th {\n",
       "        vertical-align: top;\n",
       "    }\n",
       "\n",
       "    .dataframe thead th {\n",
       "        text-align: right;\n",
       "    }\n",
       "</style>\n",
       "<table border=\"1\" class=\"dataframe\">\n",
       "  <thead>\n",
       "    <tr style=\"text-align: right;\">\n",
       "      <th></th>\n",
       "      <th>client_id</th>\n",
       "      <th>account_id</th>\n",
       "      <th>is_drop</th>\n",
       "    </tr>\n",
       "  </thead>\n",
       "  <tbody>\n",
       "  </tbody>\n",
       "</table>\n",
       "</div>"
      ],
      "text/plain": [
       "Empty DataFrame\n",
       "Columns: [client_id, account_id, is_drop]\n",
       "Index: []"
      ]
     },
     "execution_count": 558,
     "metadata": {},
     "output_type": "execute_result"
    }
   ],
   "source": [
    "nodrops_acc = drop_acc_hand1.get_account(to_drop=True)\n",
    "drop_acc_hand1.accounts.loc[drop_acc_hand1.accounts.account_id == nodrops_acc]"
   ]
  },
  {
   "cell_type": "code",
   "execution_count": 559,
   "id": "089cbcf9-1c08-4ab6-ad0f-091035ac8f43",
   "metadata": {},
   "outputs": [
    {
     "data": {
      "text/plain": [
       "0    23419\n",
       "Name: account_id, dtype: int64"
      ]
     },
     "execution_count": 559,
     "metadata": {},
     "output_type": "execute_result"
    }
   ],
   "source": [
    "drop_acc_hand1.used_accounts.loc[drop_acc_hand1.used_accounts == nodrops_acc]"
   ]
  },
  {
   "cell_type": "markdown",
   "id": "50d8d7cd-89a2-49a0-adef-3c5e5fb0ab3e",
   "metadata": {},
   "source": [
    "## Класс `DropAmountHandler`"
   ]
  },
  {
   "cell_type": "code",
   "execution_count": null,
   "id": "d4e2fada-c7a7-4268-a71f-a6dce6f52735",
   "metadata": {},
   "outputs": [],
   "source": [
    "# class DropAmountHandler: \n",
    "#     \"\"\"\n",
    "#     Генератор сумм входящих/исходящих транзакций, сумм снятий.\n",
    "#     Управление балансом текущего дропа.\n",
    "#     -------------\n",
    "#     Атрибуты:\n",
    "#     balance: float, int. Текущий баланс дропа. По умолчанию 0.\n",
    "#     batch_txns: int. Счетчик транзакций сделанных в рамках распределения полученной партии денег.\n",
    "#                       По умолчанию 0.\n",
    "#     chunk_size: int, float. Последний созданный размер части баланса для перевода по частям\n",
    "#                              По умолчанию 0.\n",
    "#     chunks: dict. Содержит ключи:\n",
    "#         atm_min: int. Минимальная сумма для снятий в банкомате.\n",
    "#         atm_share: float. Доля от баланса, которую дроп снимает в случае снятия в банкомате\n",
    "#         low: int. Минимальная сумма исходящего перевода частями.\n",
    "#         high: int. Максимальная сумма исходящего перевода частями.\n",
    "#         step: int. Шаг возможных сумм. Чем меньше шаг, тем больше вариантов.\n",
    "#         rand_rate: float. От 0 до 1.\n",
    "#                    Процент случаев, когда каждый НЕ первый чанк будет случайным и не зависеть от предыдущего.\n",
    "#                    Но возможны случайные совпадаения с предыдущим размером чанка.\n",
    "#                    Доля случайных размеров подряд будет:\n",
    "#                    p(c) - вероятность взять определенный размер (зависит от размера выборки чанков)\n",
    "#                    p(r) - rand_rate\n",
    "#                    p(r) - (p(r) * p(c)). Например p(r) = 0.9; и 5 вариантов размеров чанка - p(c) = 0.20\n",
    "#                    0.9 - (0.9 * 0.2) = 0.72\n",
    "#                    В около 72% случаев размеры чанков не будут подряд одинаковыми \n",
    "#     inbound_amt: dict. Настройки для сумм входящих транзакций. Содержит ключи:\n",
    "#         low: int\n",
    "#         high: int\n",
    "#         mean: int\n",
    "#         std: int\n",
    "#     round: int. Округление целой части сумм транзакций. Напр. 500 значит что суммы будут кратны 500 - кончаться на 500 или 000                  \n",
    "#     \"\"\"\n",
    "\n",
    "#     def __init__(self, configs: DropDistributorCfg | DropPurchaserCfg):\n",
    "#         \"\"\"\n",
    "#         configs: DropDistributorCfg | DropPurchaserCfg. Данные на основании, которых генерируются транзакции.\n",
    "#                  Отсюда берутся: atm_min, atm_share, min, step, rand_rate.\n",
    "#         \"\"\"\n",
    "#         self.balance = 0\n",
    "#         self.batch_txns = 0\n",
    "#         self.chunk_size = 0\n",
    "#         self.chunks = configs.chunks.copy()\n",
    "#         self.inbound_amt = configs.inbound_amt.copy()\n",
    "#         self.round = configs.round\n",
    "#         # self.atm_min = configs.chunks[\"atm_min\"]\n",
    "#         # self.atm_share = configs.chunks[\"atm_share\"]\n",
    "#         # self.min = configs.chunks[\"min\"]\n",
    "#         # self.max = configs.chunks[\"max\"]\n",
    "#         # self.step = configs.chunks[\"step\"]\n",
    "#         # self.rand_rate = configs.chunks[\"rand_rate\"]\n",
    "\n",
    "#     def update_balance(self, amount, receive=False, declined=False):\n",
    "#         \"\"\"\n",
    "#         Увеличить/уменьшить баланс на указанную сумму\n",
    "#         -------------------\n",
    "#         amount - float, int.\n",
    "#         receive - bool. Входящая ли транзакция. Прибавлять сумму или отнимать.\n",
    "#         declined - bool. Отклонена ли транзакция или одобрена.\n",
    "#         \"\"\"\n",
    "#         # Не обновлять баланс если транзакция отклонена.\n",
    "#         if declined:\n",
    "#             return\n",
    "            \n",
    "#         # Увеличить баланс   \n",
    "#         if receive:\n",
    "#             self.balance += amount\n",
    "#             return\n",
    "            \n",
    "#         # Уменьшить баланс    \n",
    "#         self.balance -= amount\n",
    "\n",
    "#     def receive(self, declined):\n",
    "#         \"\"\"\n",
    "#         Генерация суммы входящего перевода\n",
    "#         --------------------------\n",
    "#         declined - bool. Отклонена ли транзакция или одобрена\n",
    "#         \"\"\"\n",
    "#         low = self.inbound_amt[\"low\"]\n",
    "#         high = self.inbound_amt[\"high\"]\n",
    "#         mean = self.inbound_amt[\"mean\"]\n",
    "#         std = self.inbound_amt[\"std\"]\n",
    "\n",
    "#         # Генерация суммы. Округление целой части при необходимости\n",
    "#         amount = get_values_from_truncnorm(low_bound=low, high_bound=high, mean=mean, std=std)[0] // self.round * self.round\n",
    "        \n",
    "#         # Обновляем баланс если транзакция не отклонена\n",
    "#         self.update_balance(amount=amount, receive=True, declined=declined)\n",
    "        \n",
    "#         return amount\n",
    "\n",
    "#     def get_chunk_size(self, online=False):\n",
    "#         \"\"\"\n",
    "#         Вернуть случайный размер суммы перевода для перевода по частям\n",
    "#         либо вернуть долю от баланса для снятия/перевода по частям.\n",
    "#         -------------------------------\n",
    "#         online - bool. Онлайн или оффлайн. Перевод или банкомат. Если банкомат, то снимается доля self.chunks[\"atm_share\"] от баланса, \n",
    "#                  но не меньше self.chunks[\"atm_min\"]\n",
    "#         --------------------\n",
    "#         Возвращает np.int64\n",
    "#         Результат кэшируется в self.chunk_size\n",
    "#         \"\"\"\n",
    "#         # Если это не первая транзакция в серии транзакции для одной полученной дропом суммы\n",
    "#         # И случайное число больше rand_rate, то просто возвращаем ранее созданный размер чанка\n",
    "#         rand_rate = self.chunks[\"rand_rate\"]\n",
    "#         if self.batch_txns != 0 and np.random.uniform(0,1) > rand_rate:\n",
    "#             return self.chunk_size\n",
    "\n",
    "#         # Если снятие\n",
    "#         if not online:\n",
    "#             atm_min = self.chunks[\"atm_min\"]\n",
    "#             atm_share = self.chunks[\"atm_share\"]\n",
    "#             self.chunk_size = max(atm_min, self.balance * atm_share // self.round * self.round)\n",
    "#             return self.chunk_size\n",
    "        \n",
    "#         # Если перевод. \n",
    "#         # Берем лимиты под генерацию массива чанков, в зависимости от\n",
    "#         # полученной дропом суммы\n",
    "#         small = self.chunks[\"rcvd_small\"]\n",
    "#         medium = self.chunks[\"rcvd_medium\"] \n",
    "#         large = self.chunks[\"rcvd_large\"]\n",
    "#         step = self.chunks[\"step\"]\n",
    "\n",
    "#         if self.balance <= small[\"limit\"]:\n",
    "#             low = min(self.balance, small[\"min\"]) # но не больше суммы на балансе\n",
    "#             high = min(self.balance, small[\"max\"]) # но не больше суммы на балансе\n",
    "\n",
    "#         elif self.balance <= medium[\"limit\"]:\n",
    "#             low = min(self.balance, medium[\"min\"])\n",
    "#             high = min(self.balance, medium[\"max\"])\n",
    "\n",
    "#         else:\n",
    "#             low = min(self.balance, large[\"min\"])\n",
    "#             high = min(self.balance, large[\"max\"])\n",
    "   \n",
    "#         # прибавим шаг к максимуму, чтобы было понятнее передавать аргументы в конфиге \n",
    "#         # и не учитывать исключение значения stop в np.arange\n",
    "#         sampling_array = np.arange(low, high + step, step)\n",
    "#         # Если чанк больше бал\n",
    "#         self.chunk_size = np.random.choice(sampling_array)\n",
    "#         return self.chunk_size"
   ]
  },
  {
   "cell_type": "markdown",
   "id": "875e6b2e-9908-4310-8e40-7e4865122b2e",
   "metadata": {},
   "source": [
    "**Тест `DropAmountHandler`**"
   ]
  },
  {
   "cell_type": "code",
   "execution_count": 201,
   "id": "6d2c3ceb-e3e8-477b-a3f7-f02995bb270b",
   "metadata": {},
   "outputs": [],
   "source": [
    "# импорт на время разработки\n",
    "\n",
    "import data_generator.fraud.drops.base\n",
    "importlib.reload(data_generator.fraud.drops.base)\n",
    "from data_generator.fraud.drops.base import DropAmountHandler\n",
    "drop_amt1 = DropAmountHandler(configs=dist_configs)"
   ]
  },
  {
   "cell_type": "code",
   "execution_count": 197,
   "id": "757416b7-57e8-43ea-8216-b26ce1f9a56e",
   "metadata": {},
   "outputs": [
    {
     "data": {
      "text/plain": [
       "{'atm_min': 10000,\n",
       " 'atm_share': 0.5,\n",
       " 'step': 1000,\n",
       " 'rand_rate': 0.9,\n",
       " 'rcvd_small': {'limit': 10000, 'min': 3000, 'max': 10000},\n",
       " 'rcvd_medium': {'limit': 30000, 'min': 5000, 'max': 25000},\n",
       " 'rcvd_large': {'min': 10000, 'max': 40000}}"
      ]
     },
     "execution_count": 197,
     "metadata": {},
     "output_type": "execute_result"
    }
   ],
   "source": [
    "drop_amt1.chunks"
   ]
  },
  {
   "cell_type": "code",
   "execution_count": 97,
   "id": "088eb415-8574-454d-a95f-c73861462863",
   "metadata": {},
   "outputs": [
    {
     "data": {
      "text/plain": [
       "(0, 0, 0)"
      ]
     },
     "execution_count": 97,
     "metadata": {},
     "output_type": "execute_result"
    }
   ],
   "source": [
    "drop_amt1.balance, drop_amt1.batch_txns, drop_amt1.chunk_size"
   ]
  },
  {
   "cell_type": "code",
   "execution_count": 606,
   "id": "bb326e2d-63fc-4ea1-a089-0a4ce5e343cb",
   "metadata": {},
   "outputs": [],
   "source": [
    "# drop_amt1.chunks, drop_amt1.receive, drop_amt1.round"
   ]
  },
  {
   "cell_type": "code",
   "execution_count": 650,
   "id": "d52618f1-fb13-4d50-85ff-426c00b8a347",
   "metadata": {},
   "outputs": [
    {
     "data": {
      "text/plain": [
       "0"
      ]
     },
     "execution_count": 650,
     "metadata": {},
     "output_type": "execute_result"
    }
   ],
   "source": [
    "drop_amt1.reset_cache()\n",
    "drop_amt1.balance"
   ]
  },
  {
   "cell_type": "code",
   "execution_count": 98,
   "id": "cac6fef0-87c9-4b3e-a6bb-65ae34b3a73c",
   "metadata": {},
   "outputs": [
    {
     "data": {
      "text/plain": [
       "{'low': 5000, 'high': 100000, 'mean': 30000, 'std': 20000}"
      ]
     },
     "execution_count": 98,
     "metadata": {},
     "output_type": "execute_result"
    }
   ],
   "source": [
    "drop_amt1.inbound_amt"
   ]
  },
  {
   "cell_type": "code",
   "execution_count": 99,
   "id": "233be42a-f0b6-4c58-8c6e-7dbd69fc5ed8",
   "metadata": {},
   "outputs": [
    {
     "name": "stdout",
     "output_type": "stream",
     "text": [
      "balance: 0\n"
     ]
    },
    {
     "data": {
      "text/plain": [
       "min      5000.0\n",
       "max     99500.0\n",
       "mean    34076.9\n",
       "Name: rcvd_amt, dtype: float64"
      ]
     },
     "execution_count": 99,
     "metadata": {},
     "output_type": "execute_result"
    }
   ],
   "source": [
    "drop_amt1.reset_cache()\n",
    "received_list = [drop_amt1.receive(declined=True) for _ in range(10000)]\n",
    "rcvd_amts_df = pd.DataFrame(pd.Series(received_list, name=\"rcvd_amt\"))\n",
    "print(f\"balance: {drop_amt1.balance}\")\n",
    "rcvd_amts_df.rcvd_amt.agg([\"min\",\"max\", \"mean\"])"
   ]
  },
  {
   "cell_type": "code",
   "execution_count": 100,
   "id": "4e6396ab-21be-4925-adb9-ca0961a8ce40",
   "metadata": {},
   "outputs": [
    {
     "data": {
      "text/plain": [
       "np.float64(30500.0)"
      ]
     },
     "execution_count": 100,
     "metadata": {},
     "output_type": "execute_result"
    }
   ],
   "source": [
    "drop_amt1.receive(declined=False)"
   ]
  },
  {
   "cell_type": "code",
   "execution_count": 101,
   "id": "a5e8d761-f908-446c-9e1a-ca3c8ea2068a",
   "metadata": {},
   "outputs": [
    {
     "data": {
      "text/plain": [
       "np.float64(30500.0)"
      ]
     },
     "execution_count": 101,
     "metadata": {},
     "output_type": "execute_result"
    }
   ],
   "source": [
    "drop_amt1.balance"
   ]
  },
  {
   "cell_type": "code",
   "execution_count": 102,
   "id": "9209bf85-fc1e-4c11-96d2-8d83c1654fd2",
   "metadata": {},
   "outputs": [
    {
     "data": {
      "text/plain": [
       "np.float64(28000.0)"
      ]
     },
     "execution_count": 102,
     "metadata": {},
     "output_type": "execute_result"
    }
   ],
   "source": [
    "drop_amt1.receive(declined=False)"
   ]
  },
  {
   "cell_type": "code",
   "execution_count": 103,
   "id": "115c7523-7009-485e-b132-1f73979e4b8f",
   "metadata": {},
   "outputs": [
    {
     "data": {
      "text/plain": [
       "np.float64(58500.0)"
      ]
     },
     "execution_count": 103,
     "metadata": {},
     "output_type": "execute_result"
    }
   ],
   "source": [
    "drop_amt1.balance"
   ]
  },
  {
   "cell_type": "code",
   "execution_count": 104,
   "id": "dc5107a9-a980-4195-b09e-35113bfc1a19",
   "metadata": {},
   "outputs": [
    {
     "name": "stdout",
     "output_type": "stream",
     "text": [
      "before:  58500.0\n"
     ]
    },
    {
     "data": {
      "text/plain": [
       "np.float64(58500.0)"
      ]
     },
     "execution_count": 104,
     "metadata": {},
     "output_type": "execute_result"
    }
   ],
   "source": [
    "print(\"before: \", drop_amt1.balance)\n",
    "drop_amt1.update_balance(amount=7000, receive=False, declined=True)\n",
    "drop_amt1.balance"
   ]
  },
  {
   "cell_type": "markdown",
   "id": "e309cd1f-d113-4124-af9e-7cbe35f0d780",
   "metadata": {},
   "source": [
    "**Тест `chunk_size`**"
   ]
  },
  {
   "cell_type": "code",
   "execution_count": 689,
   "id": "42b24425-67de-447d-af08-9d8db4decc78",
   "metadata": {},
   "outputs": [],
   "source": [
    "# Значения атрибутов отличные от прописанных в конфиге - закомментить/раскомментить при надобности\n",
    "# drop_amt1.chunks[\"low\"] = 10000\n",
    "# drop_amt1.chunks[\"high\"] = 45000\n",
    "# drop_amt1.chunks[\"step\"] = 1000\n",
    "# drop_amt1.chunks[\"atm_min\"] = 15000\n",
    "# drop_amt1.chunks[\"atm_share\"] = 0.4\n",
    "# drop_amt1.chunks[\"rand_rate\"] = 0.5"
   ]
  },
  {
   "cell_type": "code",
   "execution_count": 204,
   "id": "ab436667-aa69-4f46-8903-be7b1b748c8c",
   "metadata": {},
   "outputs": [
    {
     "data": {
      "text/plain": [
       "(10000, 10000)"
      ]
     },
     "execution_count": 204,
     "metadata": {},
     "output_type": "execute_result"
    }
   ],
   "source": [
    "drop_amt1.balance = 10000\n",
    "drop_amt1.batch_txns = 1\n",
    "drop_amt1.get_chunk_size(online=False), drop_amt1.chunk_size"
   ]
  },
  {
   "cell_type": "code",
   "execution_count": 761,
   "id": "7ccb1ff6-4272-45f7-91e4-57d5b7f00442",
   "metadata": {},
   "outputs": [
    {
     "data": {
      "text/html": [
       "<div>\n",
       "<style scoped>\n",
       "    .dataframe tbody tr th:only-of-type {\n",
       "        vertical-align: middle;\n",
       "    }\n",
       "\n",
       "    .dataframe tbody tr th {\n",
       "        vertical-align: top;\n",
       "    }\n",
       "\n",
       "    .dataframe thead th {\n",
       "        text-align: right;\n",
       "    }\n",
       "</style>\n",
       "<table border=\"1\" class=\"dataframe\">\n",
       "  <thead>\n",
       "    <tr style=\"text-align: right;\">\n",
       "      <th></th>\n",
       "      <th>chunk_size</th>\n",
       "    </tr>\n",
       "  </thead>\n",
       "  <tbody>\n",
       "    <tr>\n",
       "      <th>0</th>\n",
       "      <td>7000</td>\n",
       "    </tr>\n",
       "    <tr>\n",
       "      <th>1</th>\n",
       "      <td>4000</td>\n",
       "    </tr>\n",
       "    <tr>\n",
       "      <th>2</th>\n",
       "      <td>4000</td>\n",
       "    </tr>\n",
       "    <tr>\n",
       "      <th>3</th>\n",
       "      <td>10000</td>\n",
       "    </tr>\n",
       "    <tr>\n",
       "      <th>4</th>\n",
       "      <td>8000</td>\n",
       "    </tr>\n",
       "  </tbody>\n",
       "</table>\n",
       "</div>"
      ],
      "text/plain": [
       "   chunk_size\n",
       "0        7000\n",
       "1        4000\n",
       "2        4000\n",
       "3       10000\n",
       "4        8000"
      ]
     },
     "execution_count": 761,
     "metadata": {},
     "output_type": "execute_result"
    }
   ],
   "source": [
    "drop_amt1.batch_txns = 1\n",
    "# drop_amt1.chunk_size = 20000\n",
    "drop_amt1.balance = drop_amt1.chunks[\"rcvd_small\"][\"limit\"]\n",
    "chunks_list = [drop_amt1.get_chunk_size(online=True) for _ in range(1000)]\n",
    "chunks_df = pd.DataFrame(pd.Series(chunks_list, name=\"chunk_size\"))\n",
    "chunks_df.head()"
   ]
  },
  {
   "cell_type": "code",
   "execution_count": 762,
   "id": "90ce9e0d-552e-48df-8e3f-57c2c46f6c2a",
   "metadata": {},
   "outputs": [
    {
     "data": {
      "text/html": [
       "<div>\n",
       "<style scoped>\n",
       "    .dataframe tbody tr th:only-of-type {\n",
       "        vertical-align: middle;\n",
       "    }\n",
       "\n",
       "    .dataframe tbody tr th {\n",
       "        vertical-align: top;\n",
       "    }\n",
       "\n",
       "    .dataframe thead th {\n",
       "        text-align: right;\n",
       "    }\n",
       "</style>\n",
       "<table border=\"1\" class=\"dataframe\">\n",
       "  <thead>\n",
       "    <tr style=\"text-align: right;\">\n",
       "      <th></th>\n",
       "      <th>chunk_size</th>\n",
       "      <th>prev_size</th>\n",
       "      <th>eq_to_prev</th>\n",
       "    </tr>\n",
       "  </thead>\n",
       "  <tbody>\n",
       "    <tr>\n",
       "      <th>0</th>\n",
       "      <td>7000</td>\n",
       "      <td>NaN</td>\n",
       "      <td>False</td>\n",
       "    </tr>\n",
       "    <tr>\n",
       "      <th>1</th>\n",
       "      <td>4000</td>\n",
       "      <td>7000.0</td>\n",
       "      <td>False</td>\n",
       "    </tr>\n",
       "    <tr>\n",
       "      <th>2</th>\n",
       "      <td>4000</td>\n",
       "      <td>4000.0</td>\n",
       "      <td>True</td>\n",
       "    </tr>\n",
       "  </tbody>\n",
       "</table>\n",
       "</div>"
      ],
      "text/plain": [
       "   chunk_size  prev_size  eq_to_prev\n",
       "0        7000        NaN       False\n",
       "1        4000     7000.0       False\n",
       "2        4000     4000.0        True"
      ]
     },
     "execution_count": 762,
     "metadata": {},
     "output_type": "execute_result"
    }
   ],
   "source": [
    "chunks_df[\"prev_size\"] = chunks_df.chunk_size.shift(1)\n",
    "chunks_df[\"eq_to_prev\"] = chunks_df[\"chunk_size\"] == chunks_df[\"prev_size\"]\n",
    "chunks_df.head(3)"
   ]
  },
  {
   "cell_type": "code",
   "execution_count": 105,
   "id": "01546ecd-278b-49e2-a6b9-61dcd0df1511",
   "metadata": {},
   "outputs": [
    {
     "name": "stdout",
     "output_type": "stream",
     "text": [
      "balance: 58500.0\n",
      "rand_rate: 0.9\n",
      "chunks number: 31\n",
      "prob of taking one chunk: 0.032\n",
      "0.871 chunks won't be the same as a previous chunk size\n"
     ]
    }
   ],
   "source": [
    "rand_rate1 = drop_amt1.chunks[\"rand_rate\"]\n",
    "\n",
    "# Берем лимиты под генерацию массива чанков, в зависимости от\n",
    "# полученной дропом суммы\n",
    "small = drop_amt1.chunks[\"rcvd_small\"]\n",
    "medium = drop_amt1.chunks[\"rcvd_medium\"] \n",
    "large = drop_amt1.chunks[\"rcvd_large\"]\n",
    "\n",
    "if drop_amt1.balance <= small[\"limit\"]:\n",
    "    low = small[\"min\"]\n",
    "    high = min(drop_amt1.balance, small[\"max\"])\n",
    "\n",
    "elif drop_amt1.balance <= medium[\"limit\"]:\n",
    "    low = medium[\"min\"]\n",
    "    high = min(drop_amt1.balance, medium[\"max\"])\n",
    "\n",
    "else:\n",
    "    low = large[\"min\"]\n",
    "    high = min(drop_amt1.balance, large[\"max\"])\n",
    "    \n",
    "step = drop_amt1.chunks[\"step\"]\n",
    "chunks_num = np.arange(start=low, stop=high + step, step=step).shape[0]\n",
    "one_chunk_p = 1 / chunks_num\n",
    "print(f\"\"\"balance: {drop_amt1.balance}\n",
    "rand_rate: {rand_rate1}\n",
    "chunks number: {chunks_num}\n",
    "prob of taking one chunk: {one_chunk_p:.3f}\n",
    "{rand_rate1 - (rand_rate1 * one_chunk_p):.3f} chunks won't be the same as a previous chunk size\"\"\")"
   ]
  },
  {
   "cell_type": "code",
   "execution_count": 764,
   "id": "b76eef62-6cdf-4b59-821b-f0303de8d04f",
   "metadata": {},
   "outputs": [
    {
     "data": {
      "text/plain": [
       "eq_to_prev\n",
       "False    0.788\n",
       "True     0.212\n",
       "Name: proportion, dtype: float64"
      ]
     },
     "execution_count": 764,
     "metadata": {},
     "output_type": "execute_result"
    }
   ],
   "source": [
    "chunks_df.eq_to_prev.value_counts(normalize=True)"
   ]
  },
  {
   "cell_type": "code",
   "execution_count": 757,
   "id": "03834b58-08b2-4f90-a880-813c0e851ff4",
   "metadata": {},
   "outputs": [
    {
     "data": {
      "text/plain": [
       "min     5000\n",
       "max    20000\n",
       "Name: chunk_size, dtype: int64"
      ]
     },
     "execution_count": 757,
     "metadata": {},
     "output_type": "execute_result"
    }
   ],
   "source": [
    "chunks_df.chunk_size.agg([\"min\",\"max\"])"
   ]
  },
  {
   "cell_type": "markdown",
   "id": "d16b5c2d-e547-4b2d-814c-73264cb15527",
   "metadata": {},
   "source": [
    "**тест `one_operation`**"
   ]
  },
  {
   "cell_type": "code",
   "execution_count": null,
   "id": "98209ffb-37b7-489b-882d-41bbc4b2f13f",
   "metadata": {},
   "outputs": [],
   "source": [
    "# chunks: # Настройки создания суммы, для распределения полученных денег по частям\n",
    "# atm_min: 10000 # Минимальная сумма для снятий в банкомате.\n",
    "# atm_share: 0.5 # Доля от баланса, которую дроп снимает в случае снятия в банкомате\n",
    "# step: 1000 # Шаг возможных сумм. Чем меньше шаг, тем больше вариантов.\n",
    "# rand_rate: 0.9 # В скольких случаях размер суммы должен быть семплирован, а не взят размер предыдущей транзакции\n",
    "# rcvd_small: # Категория полученной дропом суммы\n",
    "#   limit: 10000 # Категория все что \"до\" включительно\n",
    "#   min: 3000 # # Минимальная сумма чанка для этой категории\n",
    "#   max: 10000 # Максимальная сумма чанка для этой категории\n",
    "# rcvd_medium:\n",
    "#   limit: 30000\n",
    "#   min: 5000\n",
    "#   max: 25000\n",
    "# rcvd_large: # порог не прописываем, т.к. это все что выше medium\n",
    "#   min: 10000\n",
    "#   max: 40000"
   ]
  },
  {
   "cell_type": "code",
   "execution_count": 109,
   "id": "34df5c07-d51f-407b-afcc-28ba773d1dec",
   "metadata": {},
   "outputs": [],
   "source": [
    "small = drop_amt1.chunks[\"rcvd_small\"]\n",
    "medium = drop_amt1.chunks[\"rcvd_medium\"] \n",
    "large = drop_amt1.chunks[\"rcvd_large\"]"
   ]
  },
  {
   "cell_type": "markdown",
   "id": "7993afe4-0908-47ef-87e6-556c3e3c457c",
   "metadata": {},
   "source": [
    "**Ниже ячейка для кейсов:**\n",
    "- Не отклонена. Онлайн. Частями. Small\n",
    "- Не отклонена. Онлайн. Частями. Medium\n",
    "- Не отклонена. Онлайн. Частями. Large\n",
    "\n",
    "- `min_lim` всегда стоит `min_lim = small[\"min\"]` т.к. баланс уменьшается и могут срабатывать условия для `small`, `medium`\n",
    "- `drop_amt1.balance` для large ставить как `medium[\"limit\"] + число` т.к. у large нет своего лимита, используется все что выше `medium[\"limit\"]`"
   ]
  },
  {
   "cell_type": "code",
   "execution_count": 225,
   "id": "e843aa7c-ac73-4cc6-84fe-84eac4f4a1c5",
   "metadata": {},
   "outputs": [],
   "source": [
    "i = 0\n",
    "min_lim = small[\"min\"]\n",
    "max_lim = small[\"max\"]\n",
    "\n",
    "while i < 1000:\n",
    "    drop_amt1.reset_cache()\n",
    "    drop_amt1.balance = small[\"limit\"]\n",
    "    all_ops = []\n",
    "    \n",
    "    while drop_amt1.balance > 0:\n",
    "        one_op1 = drop_amt1.one_operation(online=True, declined=False, in_chunks=True)\n",
    "        all_ops.append(one_op1)\n",
    "        i += 1\n",
    "    all_ops_ser = pd.Series(all_ops)\n",
    "    # для минимального берем серию без последнего элемента. Т.к. там обычно уже остаток, а не чанк\n",
    "    if all_ops_ser.shape[0] == 1:\n",
    "        assert all_ops_ser.min() >= min_lim, \\\n",
    "                            f\"Min is lower than min limit. {all_ops_ser.min()}\"\n",
    "    else:\n",
    "        assert all_ops_ser.iloc[0:(all_ops_ser.shape[0] - 1)].min() >= min_lim, \\\n",
    "                            f\"Min is lower than min limit. {all_ops_ser.iloc[0:(all_ops_ser.shape[0] - 1)].min()}\"\n",
    "        \n",
    "    assert all_ops_ser.max() <= max_lim, \"Max is higher than min limit.\""
   ]
  },
  {
   "cell_type": "code",
   "execution_count": 195,
   "id": "e212e6dc-6b4e-4833-91de-ef4926c55eda",
   "metadata": {},
   "outputs": [
    {
     "data": {
      "text/plain": [
       "0    12000\n",
       "1    15000\n",
       "2     3000\n",
       "3     1000\n",
       "dtype: int64"
      ]
     },
     "execution_count": 195,
     "metadata": {},
     "output_type": "execute_result"
    }
   ],
   "source": [
    "all_ops_ser"
   ]
  },
  {
   "cell_type": "code",
   "execution_count": 227,
   "id": "f3f93354-a51b-4a58-9691-eefcc07d1b86",
   "metadata": {},
   "outputs": [],
   "source": [
    "atm_min = drop_amt1.chunks[\"atm_min\"]"
   ]
  },
  {
   "cell_type": "code",
   "execution_count": 232,
   "id": "aecf5121-7cf4-4cbf-a115-452ec81188ae",
   "metadata": {},
   "outputs": [
    {
     "name": "stdout",
     "output_type": "stream",
     "text": [
      "9000\n"
     ]
    },
    {
     "data": {
      "text/plain": [
       "0    9000\n",
       "dtype: int64"
      ]
     },
     "execution_count": 232,
     "metadata": {},
     "output_type": "execute_result"
    }
   ],
   "source": [
    "drop_amt1.reset_cache()\n",
    "drop_amt1.balance = atm_min - 1000\n",
    "print(drop_amt1.balance)\n",
    "all_ops2 = []\n",
    "\n",
    "while drop_amt1.balance > 0:\n",
    "    one_op2 = drop_amt1.one_operation(online=False, declined=False, in_chunks=True)\n",
    "    all_ops2.append(one_op2)\n",
    "all_ops_ser = pd.Series(all_ops2)\n",
    "all_ops_ser"
   ]
  },
  {
   "cell_type": "code",
   "execution_count": null,
   "id": "81b30394-d44e-4c72-b568-da4a8af55dd8",
   "metadata": {},
   "outputs": [],
   "source": []
  },
  {
   "cell_type": "markdown",
   "id": "0598055e-bf37-492b-9107-6afb651fa2b9",
   "metadata": {},
   "source": [
    "**Тест отклоненных транзакций. Онлайн/оффлайн**"
   ]
  },
  {
   "cell_type": "code",
   "execution_count": 234,
   "id": "fef049d4-eb3e-4de0-b49f-c5bb4d0c8232",
   "metadata": {},
   "outputs": [
    {
     "name": "stdout",
     "output_type": "stream",
     "text": [
      "47000\n",
      "47000 \n",
      " [23500.0, 23500.0, 23500.0, 23500.0, 23500.0]\n"
     ]
    }
   ],
   "source": [
    "drop_amt1.reset_cache()\n",
    "drop_amt1.balance = atm_min + 37000\n",
    "print(drop_amt1.balance)\n",
    "one_op_list1 = []\n",
    "while True:\n",
    "    one_op1 = drop_amt1.one_operation(online=False, declined=True, in_chunks=True)\n",
    "    one_op_list1.append(one_op1)\n",
    "    if len(one_op_list1) == 5:\n",
    "        break\n",
    "print(drop_amt1.balance, \"\\n\", one_op_list1)"
   ]
  },
  {
   "cell_type": "markdown",
   "id": "01b32401-cd2e-45b8-abb0-6be9fb68197c",
   "metadata": {},
   "source": [
    "## Класс `DropTimeHandler`\n",
    "- управление временем транзакций дропа"
   ]
  },
  {
   "cell_type": "code",
   "execution_count": 238,
   "id": "dc2c6b55-46b0-4709-83af-9d89727ed534",
   "metadata": {},
   "outputs": [],
   "source": [
    "# <------------------------- ГОТОВЫЙ КЛАСС ВСТАВИТЬ--------------------------"
   ]
  },
  {
   "cell_type": "markdown",
   "id": "ae1c5eff-2fd0-4b61-b3f7-ca4efe527087",
   "metadata": {},
   "source": [
    "**Тест `DropTimeHandler`**"
   ]
  },
  {
   "cell_type": "code",
   "execution_count": 239,
   "id": "a48fdfb8-849e-43cc-8946-82a8d4ca09cc",
   "metadata": {},
   "outputs": [],
   "source": [
    "# Временный reload для разработки\n",
    "import data_generator.configs\n",
    "importlib.reload(data_generator.configs)\n",
    "import data_generator.fraud.drops.time\n",
    "importlib.reload(data_generator.fraud.drops.time)\n",
    "from data_generator.configs import DropDistributorCfg, DropPurchaserCfg\n",
    "from data_generator.fraud.drops.time import DropTimeHandler\n",
    "\n",
    "drop_time_hanler1 = DropTimeHandler(configs=dist_configs)"
   ]
  },
  {
   "cell_type": "code",
   "execution_count": 240,
   "id": "d3327057-d362-4750-971f-bb1f4b14462c",
   "metadata": {},
   "outputs": [
    {
     "data": {
      "text/plain": [
       "(np.float64(-2.687), np.int64(-180), np.int64(180))"
      ]
     },
     "execution_count": 240,
     "metadata": {},
     "output_type": "execute_result"
    }
   ],
   "source": [
    "two_way_deltas1 = pd.Series([drop_time_hanler1.get_time_delta(two_way=True) for _ in range(1000)])\n",
    "two_way_deltas1.mean(), two_way_deltas1.min(), two_way_deltas1.max()"
   ]
  },
  {
   "cell_type": "code",
   "execution_count": 241,
   "id": "27e24fa9-0ccf-4b39-9eb5-69603a4b5ce8",
   "metadata": {},
   "outputs": [
    {
     "data": {
      "text/plain": [
       "(np.float64(104.085), np.int64(30), np.int64(180))"
      ]
     },
     "execution_count": 241,
     "metadata": {},
     "output_type": "execute_result"
    }
   ],
   "source": [
    "pos_deltas1 = pd.Series([drop_time_hanler1.get_time_delta(two_way=False) for _ in range(1000)])\n",
    "pos_deltas1.mean(), pos_deltas1.min(), pos_deltas1.max()"
   ]
  },
  {
   "cell_type": "code",
   "execution_count": 242,
   "id": "5f19815d-ad42-457a-a2b4-a63f2d3e0fc6",
   "metadata": {},
   "outputs": [],
   "source": [
    "for _ in range(3):\n",
    "    drop_time_hanler1.txns_count(receive=True, reset=False)\n",
    "    drop_time_hanler1.txns_count(receive=False, reset=False)"
   ]
  },
  {
   "cell_type": "code",
   "execution_count": 243,
   "id": "8628076f-56b6-4711-b979-e81b950a1cc9",
   "metadata": {},
   "outputs": [
    {
     "data": {
      "text/plain": [
       "(3, 3)"
      ]
     },
     "execution_count": 243,
     "metadata": {},
     "output_type": "execute_result"
    }
   ],
   "source": [
    "drop_time_hanler1.in_txns, drop_time_hanler1.out_txns"
   ]
  },
  {
   "cell_type": "code",
   "execution_count": 393,
   "id": "00a85d47-c78f-4917-9b49-97f899593376",
   "metadata": {},
   "outputs": [
    {
     "data": {
      "text/plain": [
       "(1, 0)"
      ]
     },
     "execution_count": 393,
     "metadata": {},
     "output_type": "execute_result"
    }
   ],
   "source": [
    "drop_time_hanler1.txns_count(receive=True, reset=True)\n",
    "drop_time_hanler1.in_txns, drop_time_hanler1.out_txns"
   ]
  },
  {
   "cell_type": "code",
   "execution_count": 245,
   "id": "271649e5-e6a1-44f5-9ff5-582a64839dbc",
   "metadata": {},
   "outputs": [
    {
     "data": {
      "text/plain": [
       "(1, 0)"
      ]
     },
     "execution_count": 245,
     "metadata": {},
     "output_type": "execute_result"
    }
   ],
   "source": [
    "drop_time_hanler1.in_txns = 2\n",
    "drop_time_hanler1.out_txns = 4\n",
    "drop_time_hanler1.txns_count(receive=True, reset=True)\n",
    "drop_time_hanler1.in_txns, drop_time_hanler1.out_txns"
   ]
  },
  {
   "cell_type": "markdown",
   "id": "c454f686-d69e-4f26-9605-384e5091eba8",
   "metadata": {},
   "source": [
    "**`DropTimeHandler.get_txn_time` тест**  \n",
    "Тест-кейсы\n",
    "- Если это самая первая транзакция. Т.к. активность дропа начинается с входящей транзакции\n",
    "- Не первая транзакция и достигнут лимит входящих транзакций для периода активности\n",
    "- Не первая транзакция и достигнут лимит исходящих транзакций для периода активности\n",
    "- Не первая транзакция. Лимиты не достигнуты. Транзакция входящая\n",
    "- Не первая транзакция. Лимиты не достигнуты. Транзакция исходящая "
   ]
  },
  {
   "cell_type": "code",
   "execution_count": 246,
   "id": "d818372d-c1ba-4b54-bd3c-ce026bc33a60",
   "metadata": {},
   "outputs": [
    {
     "data": {
      "text/plain": [
       "(Timestamp('2025-07-02 11:15:00'), 1751454900)"
      ]
     },
     "execution_count": 246,
     "metadata": {},
     "output_type": "execute_result"
    }
   ],
   "source": [
    "start_time = pd.to_datetime(\"2025-07-02 11:15:00\", format=\"%Y-%m-%d %H:%M:%S\")\n",
    "start_unix = pd_timestamp_to_unix(start_time)\n",
    "start_time, start_unix"
   ]
  },
  {
   "cell_type": "code",
   "execution_count": 247,
   "id": "ad52a6f7-e9fc-4faf-a38f-eabb87e35b1c",
   "metadata": {},
   "outputs": [
    {
     "data": {
      "text/plain": [
       "(Timestamp('2025-07-02 18:31:00'), 1751481060)"
      ]
     },
     "execution_count": 247,
     "metadata": {},
     "output_type": "execute_result"
    }
   ],
   "source": [
    "last_time = pd.to_datetime(\"2025-07-02 18:31:00\", format=\"%Y-%m-%d %H:%M:%S\")\n",
    "last_unix = pd_timestamp_to_unix(last_time)\n",
    "last_time, last_unix"
   ]
  },
  {
   "cell_type": "markdown",
   "id": "67bef8d8-836d-486c-a763-5d2d620ed828",
   "metadata": {},
   "source": [
    "1. Если это самая первая транзакция. Т.к. активность дропа начинается с входящей транзакции"
   ]
  },
  {
   "cell_type": "code",
   "execution_count": 248,
   "id": "ebccedc6-5bab-468e-9dbb-45a114d2e1cd",
   "metadata": {},
   "outputs": [
    {
     "data": {
      "text/plain": [
       "(Timestamp('2025-01-05 13:47:00'), np.int64(1736084820))"
      ]
     },
     "execution_count": 248,
     "metadata": {},
     "output_type": "execute_result"
    }
   ],
   "source": [
    "drop_time_hanler1.reset_cache()\n",
    "drop_time_hanler1.in_txns = 0\n",
    "drop_time_hanler1.out_txns = 0\n",
    "droptime1, dropunix1 = drop_time_hanler1.get_txn_time(receive=True, in_txns=0)\n",
    "droptime1, dropunix1"
   ]
  },
  {
   "cell_type": "code",
   "execution_count": 249,
   "id": "564130ce-813a-4c43-b555-979db8f810c9",
   "metadata": {},
   "outputs": [
    {
     "data": {
      "text/plain": [
       "(np.int64(1736084820), 1, 0)"
      ]
     },
     "execution_count": 249,
     "metadata": {},
     "output_type": "execute_result"
    }
   ],
   "source": [
    "drop_time_hanler1.last_unix, drop_time_hanler1.in_txns, drop_time_hanler1.out_txns"
   ]
  },
  {
   "cell_type": "markdown",
   "id": "31270c48-64c3-4273-b013-0208fe0630b7",
   "metadata": {},
   "source": [
    "2. Не первая транзакция и достигнут лимит входящих транзакций для периода активности\n",
    "- текущая входящая - receive=True\n",
    "- текущая исходящая - receive=False"
   ]
  },
  {
   "cell_type": "code",
   "execution_count": 250,
   "id": "c195724b-2c37-498b-9076-e6b009312d7e",
   "metadata": {},
   "outputs": [
    {
     "data": {
      "text/plain": [
       "(Timestamp('2025-07-02 11:15:00'), Timestamp('2025-07-02 18:31:00'))"
      ]
     },
     "execution_count": 250,
     "metadata": {},
     "output_type": "execute_result"
    }
   ],
   "source": [
    "start_time, last_time"
   ]
  },
  {
   "cell_type": "code",
   "execution_count": 254,
   "id": "fb5364fc-d761-457c-80bd-5a2026a33e0d",
   "metadata": {},
   "outputs": [
    {
     "data": {
      "text/plain": [
       "(Timestamp('2025-07-03 12:05:00'),\n",
       " 1751544300,\n",
       " Timestamp('2025-07-03 12:05:00'))"
      ]
     },
     "execution_count": 254,
     "metadata": {},
     "output_type": "execute_result"
    }
   ],
   "source": [
    "drop_time_hanler1.reset_cache()\n",
    "drop_time_hanler1.in_txns = drop_time_hanler1.in_lim\n",
    "drop_time_hanler1.out_txns = drop_time_hanler1.out_lim - 1\n",
    "drop_time_hanler1.start_unix = start_unix\n",
    "drop_time_hanler1.last_unix = last_unix\n",
    "droptime2, dropunix2 = drop_time_hanler1.get_txn_time(receive=True, in_txns=drop_time_hanler1.in_lim * 2)\n",
    "droptime_start2 = pd.to_datetime(drop_time_hanler1.start_unix, unit=\"s\")\n",
    "droptime2, dropunix2, droptime_start2"
   ]
  },
  {
   "cell_type": "code",
   "execution_count": 255,
   "id": "0fe1c2aa-6b57-4844-99b0-18188794d85e",
   "metadata": {},
   "outputs": [
    {
     "data": {
      "text/plain": [
       "(1, 0, 1751544300, 1751544300)"
      ]
     },
     "execution_count": 255,
     "metadata": {},
     "output_type": "execute_result"
    }
   ],
   "source": [
    "drop_time_hanler1.in_txns, drop_time_hanler1.out_txns, drop_time_hanler1.start_unix, drop_time_hanler1.last_unix"
   ]
  },
  {
   "cell_type": "code",
   "execution_count": 256,
   "id": "ce7b9f7d-aac4-42b7-a26f-a3ef6088a1d7",
   "metadata": {},
   "outputs": [
    {
     "data": {
      "text/plain": [
       "Timedelta('1 days 00:50:00')"
      ]
     },
     "execution_count": 256,
     "metadata": {},
     "output_type": "execute_result"
    }
   ],
   "source": [
    "droptime2 - start_time"
   ]
  },
  {
   "cell_type": "markdown",
   "id": "5264006e-428d-4ad6-8a4d-4f7f5418a540",
   "metadata": {},
   "source": [
    "3. Не первая транзакция и достигнут лимит исходящих транзакций для периода активности  \n",
    "- текущая входящая - receive=True\n",
    "- текущая исходящая - receive=False"
   ]
  },
  {
   "cell_type": "code",
   "execution_count": 260,
   "id": "9bf03dcf-a687-4998-afeb-1cf0a2f56de4",
   "metadata": {},
   "outputs": [
    {
     "data": {
      "text/plain": [
       "(Timestamp('2025-07-03 12:56:00'),\n",
       " 1751547360,\n",
       " Timestamp('2025-07-03 12:56:00'))"
      ]
     },
     "execution_count": 260,
     "metadata": {},
     "output_type": "execute_result"
    }
   ],
   "source": [
    "drop_time_hanler1.reset_cache()\n",
    "drop_time_hanler1.in_txns = drop_time_hanler1.in_lim - 1\n",
    "drop_time_hanler1.out_txns = drop_time_hanler1.out_lim\n",
    "drop_time_hanler1.start_unix = start_unix\n",
    "drop_time_hanler1.last_unix = last_unix\n",
    "droptime3, dropunix3 = drop_time_hanler1.get_txn_time(receive=False, in_txns=drop_time_hanler1.in_lim * 2)\n",
    "droptime_start3 = pd.to_datetime(drop_time_hanler1.start_unix, unit=\"s\")\n",
    "droptime3, dropunix3, droptime_start3"
   ]
  },
  {
   "cell_type": "code",
   "execution_count": 261,
   "id": "1f00d42d-24a0-4a06-b9c1-00b5e2305643",
   "metadata": {},
   "outputs": [
    {
     "data": {
      "text/plain": [
       "(0, 1, 1751547360, 1751547360)"
      ]
     },
     "execution_count": 261,
     "metadata": {},
     "output_type": "execute_result"
    }
   ],
   "source": [
    "drop_time_hanler1.in_txns, drop_time_hanler1.out_txns, drop_time_hanler1.start_unix, drop_time_hanler1.last_unix"
   ]
  },
  {
   "cell_type": "code",
   "execution_count": 262,
   "id": "74c164c1-1a49-4cee-9105-7afe585abfa3",
   "metadata": {},
   "outputs": [
    {
     "data": {
      "text/plain": [
       "Timedelta('1 days 01:41:00')"
      ]
     },
     "execution_count": 262,
     "metadata": {},
     "output_type": "execute_result"
    }
   ],
   "source": [
    "droptime3 - start_time"
   ]
  },
  {
   "cell_type": "markdown",
   "id": "00fe4740-de68-48ac-9706-a7f5471be2f4",
   "metadata": {},
   "source": [
    "4. Не первая транзакция. Лимиты не достигнуты. Транзакция **входящая**"
   ]
  },
  {
   "cell_type": "code",
   "execution_count": 263,
   "id": "26a0fdc3-e38c-4619-86bb-7e7dc223787b",
   "metadata": {},
   "outputs": [
    {
     "name": "stdout",
     "output_type": "stream",
     "text": [
      "In txns: 1 \n",
      "Out txns: 4\n",
      "120\n"
     ]
    },
    {
     "data": {
      "text/plain": [
       "(Timestamp('2025-07-02 20:31:00'),\n",
       " 1751488260,\n",
       " Timestamp('2025-07-02 11:15:00'))"
      ]
     },
     "execution_count": 263,
     "metadata": {},
     "output_type": "execute_result"
    }
   ],
   "source": [
    "drop_time_hanler1.reset_cache()\n",
    "drop_time_hanler1.in_txns = drop_time_hanler1.in_lim - 1\n",
    "drop_time_hanler1.out_txns = drop_time_hanler1.out_lim - 1\n",
    "print(f\"In txns: {drop_time_hanler1.in_txns} \\nOut txns: {drop_time_hanler1.out_txns}\")\n",
    "drop_time_hanler1.start_unix = start_unix\n",
    "drop_time_hanler1.last_unix = last_unix\n",
    "droptime4, dropunix4 = drop_time_hanler1.get_txn_time(receive=True, in_txns=drop_time_hanler1.in_lim * 2)\n",
    "droptime_start4 = pd.to_datetime(drop_time_hanler1.start_unix, unit=\"s\")\n",
    "droptime4, dropunix4, droptime_start4"
   ]
  },
  {
   "cell_type": "code",
   "execution_count": 264,
   "id": "ca43c06d-2a6a-4cf2-8ac5-80b5ca082da8",
   "metadata": {},
   "outputs": [
    {
     "data": {
      "text/plain": [
       "(2, 4, 1751454900, 1751488260)"
      ]
     },
     "execution_count": 264,
     "metadata": {},
     "output_type": "execute_result"
    }
   ],
   "source": [
    "drop_time_hanler1.in_txns, drop_time_hanler1.out_txns, drop_time_hanler1.start_unix, drop_time_hanler1.last_unix"
   ]
  },
  {
   "cell_type": "code",
   "execution_count": 265,
   "id": "5e6666e0-b60c-4860-a378-837ec92b3c28",
   "metadata": {},
   "outputs": [
    {
     "data": {
      "text/plain": [
       "Timedelta('0 days 02:00:00')"
      ]
     },
     "execution_count": 265,
     "metadata": {},
     "output_type": "execute_result"
    }
   ],
   "source": [
    "droptime4 - last_time"
   ]
  },
  {
   "cell_type": "markdown",
   "id": "e6abc38d-0d55-4f2a-b822-8b1e497bcfc5",
   "metadata": {},
   "source": [
    "5. Не первая транзакция. Лимиты не достигнуты. Транзакция **исходящая**"
   ]
  },
  {
   "cell_type": "code",
   "execution_count": 266,
   "id": "44136497-097d-4707-9a8f-38db7656b47e",
   "metadata": {},
   "outputs": [
    {
     "name": "stdout",
     "output_type": "stream",
     "text": [
      "In txns: 1 \n",
      "Out txns: 4\n",
      "179\n"
     ]
    },
    {
     "data": {
      "text/plain": [
       "(Timestamp('2025-07-02 21:30:00'),\n",
       " 1751491800,\n",
       " Timestamp('2025-07-02 11:15:00'))"
      ]
     },
     "execution_count": 266,
     "metadata": {},
     "output_type": "execute_result"
    }
   ],
   "source": [
    "drop_time_hanler1.reset_cache()\n",
    "drop_time_hanler1.in_txns = drop_time_hanler1.in_lim - 1\n",
    "drop_time_hanler1.out_txns = drop_time_hanler1.out_lim - 1\n",
    "print(f\"In txns: {drop_time_hanler1.in_txns} \\nOut txns: {drop_time_hanler1.out_txns}\")\n",
    "drop_time_hanler1.start_unix = start_unix\n",
    "drop_time_hanler1.last_unix = last_unix\n",
    "droptime5, dropunix5 = drop_time_hanler1.get_txn_time(receive=False, in_txns=drop_time_hanler1.in_lim * 2)\n",
    "droptime_start5 = pd.to_datetime(drop_time_hanler1.start_unix, unit=\"s\")\n",
    "droptime5, dropunix5, droptime_start5"
   ]
  },
  {
   "cell_type": "code",
   "execution_count": 267,
   "id": "76ea2951-e019-4814-8564-2ea06e5b6756",
   "metadata": {},
   "outputs": [
    {
     "data": {
      "text/plain": [
       "(1, 5, 1751454900, 1751491800)"
      ]
     },
     "execution_count": 267,
     "metadata": {},
     "output_type": "execute_result"
    }
   ],
   "source": [
    "drop_time_hanler1.in_txns, drop_time_hanler1.out_txns, drop_time_hanler1.start_unix, drop_time_hanler1.last_unix"
   ]
  },
  {
   "cell_type": "code",
   "execution_count": 268,
   "id": "3b0de2c1-1781-4c89-9bd2-62193d4816d4",
   "metadata": {},
   "outputs": [
    {
     "data": {
      "text/plain": [
       "Timedelta('0 days 02:59:00')"
      ]
     },
     "execution_count": 268,
     "metadata": {},
     "output_type": "execute_result"
    }
   ],
   "source": [
    "droptime5 - last_time"
   ]
  },
  {
   "cell_type": "markdown",
   "id": "4b379dde-5eb9-4135-b411-0a213481b847",
   "metadata": {},
   "source": [
    "## Класс `DistBehaviorHandler`"
   ]
  },
  {
   "cell_type": "code",
   "execution_count": null,
   "id": "3d21db9d-c7e8-449a-b55d-3a9ef458a11f",
   "metadata": {},
   "outputs": [],
   "source": [
    "# ---------------------------- ВСТАВИТЬ КЛАСС ----------------------------------"
   ]
  },
  {
   "cell_type": "code",
   "execution_count": 269,
   "id": "e95ac0c2-d599-4912-80a3-c7a1846469b6",
   "metadata": {},
   "outputs": [],
   "source": [
    "limits1 = {\"transfer\":{\"trf_lim\":\"max\"}, \"atm\":{\"atm_min\":\"min\"}, \\\n",
    "         \"split_transfer\":{\"trf_min\":\"min\"}, \"atm+transfer\":{\"atm_min\":\"min\", \"trf_min\":\"min\"}}"
   ]
  },
  {
   "cell_type": "code",
   "execution_count": 272,
   "id": "ddcf0598-8896-4666-9c96-688d238c3b93",
   "metadata": {},
   "outputs": [],
   "source": [
    "lims_cfg1 = {\"trf_lim\":40000, \"atm_min\":10000, \"trf_min\":3000*2}"
   ]
  },
  {
   "cell_type": "code",
   "execution_count": null,
   "id": "a7a46fff-d8e9-4110-8cdc-7ab8b5fc918f",
   "metadata": {},
   "outputs": [],
   "source": [
    "for key in limits1.keys():\n",
    "    temp_lim1 = []\n",
    "    for nest_key in limits1[key].keys():\n",
    "        if limits1[key][nest_key] == \"min\":"
   ]
  },
  {
   "cell_type": "code",
   "execution_count": null,
   "id": "d52c81ee-7d19-4f9c-972a-69073ef435df",
   "metadata": {},
   "outputs": [],
   "source": []
  },
  {
   "cell_type": "code",
   "execution_count": null,
   "id": "1904efc4-7530-4ca5-bb54-669de7af8128",
   "metadata": {},
   "outputs": [],
   "source": [
    "# inbound_amt: \n",
    "#   low: 5000\n",
    "#   high: 100000\n",
    "#   mean: 30000\n",
    "#   std: 20000"
   ]
  },
  {
   "cell_type": "code",
   "execution_count": 308,
   "id": "1c81ad41-a44f-4d83-a0af-9d360c65513c",
   "metadata": {},
   "outputs": [],
   "source": [
    "# Баланс генерируется из обрезанного нормального распределения\n",
    "in_low1 = 5000\n",
    "in_high1 = 100000\n",
    "mean1 = 30000\n",
    "std1 = 20000\n",
    "a1 = (in_low1 - mean1) / std1\n",
    "b1 = (in_high1 - mean1) / std1\n",
    "\n",
    "split_rate = 0.7\n",
    "# Есть лимиты для сумм операций\n",
    "atm_min1 = 10000 # минимальная сумма для снятия. Частями или целиком определяется split_rate\n",
    "trf_lim = 40000 # максимальная сумма для перевода. Если больше - дробим на части\n",
    "trf_min = 3000*2 # минимальная сумма для перевода по частям. Если меньше - переводим целиком"
   ]
  },
  {
   "cell_type": "code",
   "execution_count": 309,
   "id": "7f23c923-6b11-428d-b20b-3a73893e6027",
   "metadata": {},
   "outputs": [
    {
     "data": {
      "text/plain": [
       "np.float64(0.345)"
      ]
     },
     "execution_count": 309,
     "metadata": {},
     "output_type": "execute_result"
    }
   ],
   "source": [
    "# вероятность что сумма будет больше trf_lim\n",
    "p_trf_lim = round(truncnorm(a=a1, b=b1, loc=mean1, scale=std1).sf(x=trf_lim), 3)\n",
    "p_trf_lim"
   ]
  },
  {
   "cell_type": "code",
   "execution_count": 310,
   "id": "04e15ce3-d049-4603-9a4e-ae3b7c875cb0",
   "metadata": {},
   "outputs": [
    {
     "data": {
      "text/plain": [
       "np.float64(0.596)"
      ]
     },
     "execution_count": 310,
     "metadata": {},
     "output_type": "execute_result"
    }
   ],
   "source": [
    "# Вероятность что сумма больше atm_min1 но меньше trf_lim\n",
    "p_atm_min = round(truncnorm(a=a1, b=b1, loc=mean1, scale=std1).sf(x=atm_min1) - p_trf_lim, 3)\n",
    "p_atm_min"
   ]
  },
  {
   "cell_type": "code",
   "execution_count": 311,
   "id": "e5b4c9d7-005d-455b-83c6-6bb998da5f38",
   "metadata": {},
   "outputs": [
    {
     "data": {
      "text/plain": [
       "np.float64(0.048)"
      ]
     },
     "execution_count": 311,
     "metadata": {},
     "output_type": "execute_result"
    }
   ],
   "source": [
    "# вероятность что сумма больше trf_min, но меньше trf_lim и atm_min1\n",
    "p_trf_min = round(truncnorm(a=a1, b=b1, loc=mean1, scale=std1).sf(x=trf_min) - p_trf_lim - p_atm_min, 3)\n",
    "p_trf_min"
   ]
  },
  {
   "cell_type": "code",
   "execution_count": 312,
   "id": "2f43a7d9-7b1a-4f11-801a-f64d043a1bf1",
   "metadata": {},
   "outputs": [
    {
     "data": {
      "text/plain": [
       "np.float64(0.6922999999999999)"
      ]
     },
     "execution_count": 312,
     "metadata": {},
     "output_type": "execute_result"
    }
   ],
   "source": [
    "split_rate = 0.7 # доля когда будем переводить частями\n",
    "\n",
    "(p_trf_lim + p_atm_min + p_trf_min) * split_rate"
   ]
  },
  {
   "cell_type": "code",
   "execution_count": 313,
   "id": "f4ed2841-b79d-4cfa-8bdc-e19bfca5cd9c",
   "metadata": {},
   "outputs": [
    {
     "data": {
      "text/plain": [
       "np.float64(0.6922999999999999)"
      ]
     },
     "execution_count": 313,
     "metadata": {},
     "output_type": "execute_result"
    }
   ],
   "source": [
    "round(truncnorm(a=a1, b=b1, loc=mean1, scale=std1).sf(x=trf_min), 3) * split_rate"
   ]
  },
  {
   "cell_type": "code",
   "execution_count": 315,
   "id": "e21aebcb-f010-443a-baba-26662b40ca19",
   "metadata": {},
   "outputs": [
    {
     "data": {
      "text/plain": [
       "np.float64(0.552)"
      ]
     },
     "execution_count": 315,
     "metadata": {},
     "output_type": "execute_result"
    }
   ],
   "source": [
    "\n",
    "# conditions = [\n",
    "#             (balance > self.trf_lim, [\"atm\",\"split_transfer\", \"atm+transfer\"]),\n",
    "#             (balance >= self.atm_min, [\"transfer\", \"atm\", \"split_transfer\", \"atm+transfer\"]),\n",
    "#             (balance >= self.trf_min * 2, [\"transfer\",\"split_transfer\"]),\n",
    "#             \"transfer\",\n",
    "#         ]\n",
    "# Вероятность случаев перевода частями если по условиям выше (синтаксически неправильно) и без split_rate\n",
    "p_trf_lim * 2/3 + p_atm_min * 1/2 + p_trf_min * 1/2"
   ]
  },
  {
   "cell_type": "code",
   "execution_count": null,
   "id": "7f03bf46-3495-4f9d-818a-5bddc97e67f2",
   "metadata": {},
   "outputs": [],
   "source": [
    "def sample_scenario(self):\n",
    "    \"\"\"\n",
    "    Выбор сценария поведения дропа с учётом текущего баланса и актуальных лимитов.\n",
    "    \"\"\"\n",
    "    balance = self.amt_hand.balance\n",
    "    split = False\n",
    "    if np.random.uniform(0,1) <= self.split_rate:\n",
    "            split = True\n",
    "            \n",
    "    # Список: (условие, список возможных сценариев)\n",
    "    # Минимальный баланс для переводов по частям будет самый маленький возможный размер чанка\n",
    "    # self.trf_min умноженный на 2\n",
    "    conditions = [\n",
    "                (balance > self.trf_lim and split, [\"split_transfer\", \"atm+transfer\"]),\n",
    "                (balance > self.trf_lim, [\"atm\"]),\n",
    "                (balance >= self.atm_min and split, [\"split_transfer\", \"atm+transfer\"]),\n",
    "                (balance >= self.atm_min, [\"transfer\", \"atm\"]),\n",
    "                (balance >= self.trf_min * 2 and split, [\"split_transfer\"]),\n",
    "                ]\n",
    "\n",
    "    for cond, scen_list in conditions:\n",
    "        if cond:\n",
    "            return np.random.choice(scen_list)\n",
    "\n",
    "    # Если ни одно из условий не сработало — fallback\n",
    "    return \"transfer\""
   ]
  },
  {
   "cell_type": "code",
   "execution_count": null,
   "id": "0c75f33c-2439-4496-973c-7949027f45cd",
   "metadata": {},
   "outputs": [],
   "source": []
  },
  {
   "cell_type": "markdown",
   "id": "211ccbc6-9e4e-4195-82ea-e14b15a61949",
   "metadata": {},
   "source": [
    "## Класс `CreateDropTxn`"
   ]
  },
  {
   "cell_type": "code",
   "execution_count": 270,
   "id": "f300af58-3414-48c8-af1a-799e79120cf7",
   "metadata": {},
   "outputs": [],
   "source": [
    "class CreateDropTxn:\n",
    "    \"\"\"\n",
    "    Создание транзакций дропа под разное поведение.\n",
    "    \"\"\"\n",
    "    def __init__(self, timestamps, trans_partial_data, drop_client_cls, in_txns=0, out_txns=0, in_lim=6, out_lim=8, last_txn={}, \\\n",
    "                attempts=0):\n",
    "        \"\"\"\n",
    "        timestamps - pd.DataFrame.\n",
    "        trans_partial_data - FraudTransPartialData. Генератор части данных транзакции - мерчант, гео, ip, девайс и т.п.\n",
    "        drop_client_cls - DropClient. Генератор активности дропов: суммы, счета, баланс\n",
    "        in_txns - int. Количество входящих транзакций\n",
    "        out_txns - int. Количество исходящих транзакций\n",
    "        in_lim - int. Лимит входящих транзакций. Транзакции клиента совершенные после достижения этого лимита отклоняются\n",
    "        out_lim - int. Лимит исходящих транзакций. Транзакции клиента совершенные после достижения этого лимита отклоняются\n",
    "        last_txn - dict. Полные данные последней транзакции\n",
    "        attempts - int. Сколько попыток совершить операцию будет сделано дропом после первой отклоненной транзакции.\n",
    "        \"\"\"\n",
    "        self.timestamps = timestamps\n",
    "        self.trans_partial_data = trans_partial_data\n",
    "        self.drop_client = drop_client_cls\n",
    "        self.in_txns = in_txns\n",
    "        self.out_txns = out_txns\n",
    "        self.in_lim = in_lim\n",
    "        self.out_lim = out_lim\n",
    "        self.last_txn = last_txn\n",
    "        self.attempts = attempts\n",
    "\n",
    "\n",
    "    def cash_flow_action(self, online, declined, in_chunks, to_drop_share=0.2, receive=False): # <------------------------- KEEP, EDIT\n",
    "        \"\"\"\n",
    "        Один входящий/исходящий перевод либо одно снятие в банкомате.\n",
    "        ---------------------\n",
    "        online - bool. Онлайн перевод или снятие в банкомате.\n",
    "        declined - bool. Будет ли текущая транзакция отклонена.\n",
    "        in_chunks - bool. Транзакция будет частью серии транзакций.\n",
    "        to_drop_share - float. Вероятность, что дроп пошлет другому дропу\n",
    "        receive - входящий перевод или нет.\n",
    "        \"\"\"\n",
    "        client_id = self.trans_partial_data.client_info.client_id # берем из namedtuple\n",
    "        \n",
    "        # Время транзакции. Оно должно быть создано до увеличения счетчика self.in_txns\n",
    "        txn_time, txn_unix = self.get_txn_time(in_lim=2, out_lim=5, lag_interval=1440)\n",
    "\n",
    "        # перевод дропу\n",
    "        if receive:\n",
    "            self.in_txns += 1\n",
    "            amount = self.drop_client.receive(declined=declined)\n",
    "            account = self.drop_client.account\n",
    "        # перевод от дропа    \n",
    "        elif not receive and online:\n",
    "            to_drop = np.random.choice([True, False], p=[to_drop_share, 1 - to_drop_share])\n",
    "            self.out_txns += 1\n",
    "            account = self.drop_client.get_account(to_drop=to_drop)\n",
    "        # снятие дропом    \n",
    "        elif not receive and not online:\n",
    "            account = self.drop_client.account\n",
    "            self.out_txns += 1\n",
    "        \n",
    "        # Генерация части данных транзакции. Здесь прописываются аргументы online и receive\n",
    "        merchant_id, trans_lat, trans_lon, trans_ip, trans_city, device_id, channel, type = \\\n",
    "                                                self.trans_partial_data.original_transfer_or_atm(online=online, receive=receive)\n",
    "        \n",
    "        # Генерация суммы если исходящая транзакция\n",
    "        # Если эта транзакция только часть серии операций для распределения всего баланса\n",
    "        if in_chunks:\n",
    "            chunk = self.drop_client.get_chunk_size(online=online, atm_min=10000, start=5000, stop=25000, step=5000)\n",
    "            amount = self.drop_client.one_operation(declined=declined, in_chunks=in_chunks)\n",
    "            \n",
    "        # Иначе если не по частям и не входящая транзакция. not receive т.к. этот метод и для входящих транзакций\n",
    "        # а у входящих транзакций своя генерация суммы\n",
    "        elif not in_chunks and not receive:\n",
    "            amount = self.drop_client.one_operation(declined=declined, in_chunks=in_chunks)\n",
    "\n",
    "        if declined:\n",
    "            status = \"declined\"\n",
    "            is_fraud = True\n",
    "            rule = \"drop_flow_cashout\"\n",
    "        else:\n",
    "            status = \"approved\"\n",
    "            is_fraud = False\n",
    "            rule = \"not applicable\"\n",
    "\n",
    "        # Статичные характеристики\n",
    "        is_suspicious = False\n",
    "        category_name=\"not applicable\"\n",
    "\n",
    "        # Сборка всех данных в транзакцию и запись как послдней транзакции\n",
    "        self.last_txn = build_transaction(client_id=client_id, txn_time=txn_time, txn_unix=txn_unix, amount=amount, type=type, channel=channel, \\\n",
    "                             category_name=category_name, online=online, merchant_id=merchant_id, trans_city=trans_city, \\\n",
    "                             trans_lat=trans_lat, trans_lon=trans_lon, trans_ip=trans_ip, device_id=device_id, account=account, \\\n",
    "                             is_fraud=is_fraud, is_suspicious=is_suspicious, status=status, rule=rule)\n",
    "\n",
    "        return self.last_txn\n",
    "\n",
    "    \n",
    "    def limit_reached(self): # <------------------------- KEEP\n",
    "        \"\"\"\n",
    "        Проверка достижения лимитов входящих и исходящих транзакций\n",
    "        Сверка с self.in_lim и self.out_lim\n",
    "        ------------------------\n",
    "        Вернет True если какой либо лимит достигнут\n",
    "        \"\"\"\n",
    "        if self.in_lim == self.in_txns:\n",
    "            return True\n",
    "        if self.out_lim == self.out_txns:\n",
    "            return True\n",
    "        return False\n",
    "\n",
    "    def reset_cache(self, only_counters=True): # <------------------------- KEEP, EDIT\n",
    "        \"\"\"\n",
    "        Сброос кэшированных данных\n",
    "        -------------\n",
    "        only_counters - bool\n",
    "                        Если True будут сброшены: self.in_txns, self.out_txns, self.attempts.\n",
    "                        Если False то также сбросится информация о последней транзакции self.last_txn\n",
    "        \"\"\"\n",
    "        \n",
    "        self.in_txns = 0\n",
    "        self.out_txns = 0\n",
    "        self.batch_txns = 0\n",
    "\n",
    "        if only_counters:\n",
    "            return\n",
    "\n",
    "        self.last_txn = {}"
   ]
  },
  {
   "cell_type": "code",
   "execution_count": null,
   "id": "b69ccdca-5a4d-463b-ae00-3192bf85239e",
   "metadata": {},
   "outputs": [],
   "source": [
    "# class CreateDropTxn:\n",
    "#     \"\"\"\n",
    "#     Создание транзакций дропа под разное поведение.\n",
    "#     \"\"\"\n",
    "#     def __init__(self, timestamps, trans_partial_data, drop_client_cls, in_txns=0, out_txns=0, in_lim=6, out_lim=8, last_txn={}, \\\n",
    "#                 attempts=0):\n",
    "#         \"\"\"\n",
    "#         timestamps - pd.DataFrame.\n",
    "#         trans_partial_data - FraudTransPartialData. Генератор части данных транзакции - мерчант, гео, ip, девайс и т.п.\n",
    "#         drop_client_cls - DropClient. Генератор активности дропов: суммы, счета, баланс\n",
    "#         in_txns - int. Количество входящих транзакций\n",
    "#         out_txns - int. Количество исходящих транзакций\n",
    "#         in_lim - int. Лимит входящих транзакций. Транзакции клиента совершенные после достижения этого лимита отклоняются\n",
    "#         out_lim - int. Лимит исходящих транзакций. Транзакции клиента совершенные после достижения этого лимита отклоняются\n",
    "#         last_txn - dict. Полные данные последней транзакции\n",
    "#         attempts - int. Сколько попыток совершить операцию будет сделано дропом после первой отклоненной транзакции.\n",
    "#         \"\"\"\n",
    "#         self.timestamps = timestamps\n",
    "#         self.trans_partial_data = trans_partial_data\n",
    "#         self.drop_client = drop_client_cls\n",
    "#         self.in_txns = in_txns\n",
    "#         self.out_txns = out_txns\n",
    "#         self.in_lim = in_lim\n",
    "#         self.out_lim = out_lim\n",
    "#         self.last_txn = last_txn\n",
    "#         self.attempts = attempts\n",
    "\n",
    "#     def get_time_delta(self, min=-180, max=180, minutes=True):\n",
    "#         \"\"\"\n",
    "#         Получение случайного интервала времени в секундах или минутах из равномерного распределения\n",
    "#         ---------------------\n",
    "#         min - int. Минимальное возможное значение\n",
    "#         max - int. Максимальное возможное значение\n",
    "#         minutes - bool. Минуты или секунды\n",
    "#         \"\"\"\n",
    "#         if minutes:\n",
    "#             return round(np.random.uniform(min, max))\n",
    "            \n",
    "#         return round(np.random.uniform(min, max) * 60)\n",
    "\n",
    "#     def get_txn_time(self, in_lim=2, out_lim=5, lag_interval=1440):\n",
    "#         \"\"\"\n",
    "#         Генерация времени транзакции\n",
    "#         ------------------\n",
    "#         in_lim - int. Количество входящих транзакций после которых дроп уходит на паузу указанную в lag_interval\n",
    "#                       Т.е. если на момент генерации времени уже сделано in_lim транзакций, то берется время последней\n",
    "#                       транзакции и прибавляется указанный lag_interval +/- случайное число минут из delta.\n",
    "#         out_lim - int. Количество исходящих транзакций после которых дроп уходит на паузу указанную в lag_interval\n",
    "#         lag_interval - int. Желаемый лаг по времени от последней транзакции в минутах.\n",
    "#                             Используется для перерывов в активности дропа. По умолчанию 1440 минут т.е. 24 часа\n",
    "#         \"\"\"\n",
    "#         # Если это первая транзакция. Т.к. активность дропа начинается с входящей транзакции\n",
    "#         if self.in_txns == 0:\n",
    "#             time_sample = self.timestamps.sample(1)\n",
    "#             txn_time = time_sample.timestamp.iat[0]\n",
    "#             txn_unix = time_sample.unix_time.iat[0]\n",
    "#             return txn_time, txn_unix\n",
    "\n",
    "#         # Для последующих транзакций\n",
    "#         last_txn_unix = self.last_txn[\"unix_time\"]\n",
    "\n",
    "#         # Если достигнуты лимиты активности дропа на период: входящих или исходящих транзакций\n",
    "#         if self.in_txns == in_lim or self.out_txns == out_lim:\n",
    "#             # Генерация дельты, чтобы время выглядело не ровным, а случайным.\n",
    "#             # Слагаем её с lag_interval\n",
    "#             time_delta = self.get_time_delta(min=-180, max=180)\n",
    "#             lag_interval += time_delta\n",
    "#             return derive_from_last_time(last_txn_unix=last_txn_unix, lag_interval=lag_interval)\n",
    "\n",
    "#         # Тоже дельта, но не может быть <= 0 т.к. тут мы ее используем как lag_interval\n",
    "#         # Это для случаев когда транзакция совершается в тот же период активности что и последняя\n",
    "#         time_delta = self.get_time_delta(min=30, max=180)\n",
    "        \n",
    "\n",
    "#         return derive_from_last_time(last_txn_unix=last_txn_unix, lag_interval=time_delta)\n",
    "\n",
    "    \n",
    "#     def stop_after_decline(self, declined):\n",
    "#         \"\"\"\n",
    "#         Будет ли дроп пытаться еще после отклоненной операции\n",
    "#         или остановится\n",
    "#         ---------------\n",
    "#         declined - bool. Отклонена ли операция. Подразумевается что последняя.\n",
    "#         \"\"\"\n",
    "#         if not declined:\n",
    "#             return\n",
    "        \n",
    "#         if self.attempts == 0:\n",
    "#             return True\n",
    "\n",
    "#         if self.attempts > 0:\n",
    "#             return False\n",
    "\n",
    "            \n",
    "#     def attempts_after_decline(self, min=0, max=4):\n",
    "#         \"\"\"\n",
    "#         Определение количества попыток после первой отклоненной транзакции\n",
    "#         ---------------\n",
    "#         min - int. Минимальное число попыток\n",
    "#         max - int. Максимальное число попыток.\n",
    "#         \"\"\"\n",
    "#         self.attempts = np.random.randint(min, max + 1)\n",
    "            \n",
    "        \n",
    "#     def deduct_attempts(self, declined, receive):\n",
    "#         \"\"\"\n",
    "#         Вычитание попытки операции совершенной при статусе declined\n",
    "#         ---------------\n",
    "#         declined - bool. Отклоняется ли текущая транзакция\n",
    "#         receive - bool. Является ли транзакция входящей\n",
    "#         \"\"\"\n",
    "#         if self.attempts == 0:\n",
    "#             return \n",
    "            \n",
    "#         if declined and not receive:\n",
    "#             self.attempts -= 1\n",
    "            \n",
    "        \n",
    "#     def cash_flow_action(self, online, declined, in_chunks, to_drop_share=0.2, receive=False):\n",
    "#         \"\"\"\n",
    "#         Один входящий/исходящий перевод либо одно снятие в банкомате.\n",
    "#         ---------------------\n",
    "#         online - bool. Онлайн перевод или снятие в банкомате.\n",
    "#         declined - bool. Будет ли текущая транзакция отклонена.\n",
    "#         in_chunks - bool. Транзакция будет частью серии транзакций.\n",
    "#         to_drop_share - float. Вероятность, что дроп пошлет другому дропу\n",
    "#         receive - входящий перевод или нет.\n",
    "#         \"\"\"\n",
    "#         client_id = self.trans_partial_data.client_info.client_id\n",
    "        \n",
    "#         # Время транзакции. Оно должно быть создано до увеличения счетчика self.in_txns\n",
    "#         txn_time, txn_unix = self.get_txn_time(in_lim=2, out_lim=5, lag_interval=1440)\n",
    "\n",
    "#         if receive:\n",
    "#             self.in_txns += 1\n",
    "#             amount = self.drop_client.receive(declined=declined)\n",
    "#             account = self.drop_client.account\n",
    "            \n",
    "#         elif not receive and online:\n",
    "#             to_drop = np.random.choice([True, False], p=[to_drop_share, 1 - to_drop_share])\n",
    "#             self.out_txns += 1\n",
    "#             account = self.drop_client.get_account(to_drop=to_drop)\n",
    "            \n",
    "#         elif not receive and not online:\n",
    "#             account = self.drop_client.account\n",
    "#             self.out_txns += 1\n",
    "        \n",
    "            \n",
    "#         # Генерация части данных транзакции. Здесь прописываются аргументы online и receive\n",
    "#         merchant_id, trans_lat, trans_lon, trans_ip, trans_city, device_id, channel, type = \\\n",
    "#                                                 self.trans_partial_data.original_transfer_or_atm(online=online, receive=receive)\n",
    "        \n",
    "#         # Генерация суммы если исходящая транзакция\n",
    "#         # Если эта транзакция только часть серии операций для распределения всего баланса\n",
    "#         if in_chunks:\n",
    "#             chunk = self.drop_client.get_chunk_size(online=online, atm_min=10000, start=5000, stop=25000, step=5000)\n",
    "#             amount = self.drop_client.one_operation(amount=chunk, declined=declined, in_chunks=in_chunks)\n",
    "            \n",
    "#         # Иначе если не по частям и не входящая транзакция\n",
    "#         elif not in_chunks and not receive:\n",
    "#             amount = self.drop_client.one_operation(declined=declined, in_chunks=in_chunks)\n",
    "\n",
    "#         if declined:\n",
    "#             status = \"declined\"\n",
    "#             is_fraud = True\n",
    "#             rule = \"drop_flow_cashout\"\n",
    "#         else:\n",
    "#             status = \"approved\"\n",
    "#             is_fraud = False\n",
    "#             rule = \"not applicable\"\n",
    "\n",
    "#         # Статичные характеристики\n",
    "#         is_suspicious = False\n",
    "#         category_name=\"not applicable\"\n",
    "\n",
    "#         # Сборка всех данных в транзакцию и запись как послдней транзакции\n",
    "#         self.last_txn = build_transaction(client_id=client_id, txn_time=txn_time, txn_unix=txn_unix, amount=amount, type=type, channel=channel, \\\n",
    "#                              category_name=category_name, online=online, merchant_id=merchant_id, trans_city=trans_city, \\\n",
    "#                              trans_lat=trans_lat, trans_lon=trans_lon, trans_ip=trans_ip, device_id=device_id, account=account, \\\n",
    "#                              is_fraud=is_fraud, is_suspicious=is_suspicious, status=status, rule=rule)\n",
    "\n",
    "#         return self.last_txn\n",
    "\n",
    "#     def limit_reached(self):\n",
    "#         \"\"\"\n",
    "#         Проверка достижения лимитов входящих и исходящих транзакций\n",
    "#         Сверка с self.in_lim и self.out_lim\n",
    "#         ------------------------\n",
    "#         Вернет True если какой либо лимит достигнут\n",
    "#         \"\"\"\n",
    "#         if self.in_lim == self.in_txns:\n",
    "#             return True\n",
    "#         if self.out_lim == self.out_txns:\n",
    "#             return True\n",
    "#         return False\n",
    "\n",
    "#     def reset_txn_counters(self, in_txns=False, out_txns=False, batch_txns=False):\n",
    "#         \"\"\"\n",
    "#         Сброс счетчиков входящих и/или исходящих транзакций\n",
    "#         Партия денег это полученные деньги которые дроп должен распределить\n",
    "#         ------------------\n",
    "#         in_txns - bool. Сбросить счетчик входящих.\n",
    "#         out_txns - bool. Сбросить счетчик исходящих.\n",
    "#         batch_txns - bool. Сбросить счетчик транзакций партии денег.\n",
    "#         \"\"\"\n",
    "#         if in_txns:\n",
    "#             self.in_txns = 0\n",
    "#         if out_txns:\n",
    "#             self.out_txns = 0\n",
    "#         if batch_txns:\n",
    "#             self.batch_txns = 0\n",
    "\n",
    "#     def reset_cache(self, only_counters=True):\n",
    "#         \"\"\"\n",
    "#         Сброос кэшированных данных\n",
    "#         -------------\n",
    "#         only_counters - bool\n",
    "#                         Если True будут сброшены: self.in_txns, self.out_txns, self.attempts.\n",
    "#                         Если False то также сбросится информация о последней транзакции self.last_txn\n",
    "#         \"\"\"\n",
    "        \n",
    "#         self.in_txns = 0\n",
    "#         self.out_txns = 0\n",
    "#         self.attempts = 0\n",
    "\n",
    "#         if only_counters:\n",
    "#             return\n",
    "\n",
    "#         self.last_txn = {}"
   ]
  },
  {
   "cell_type": "markdown",
   "id": "10db44f4-4a76-4677-9c71-56bf7daa09c1",
   "metadata": {},
   "source": [
    "**`CreateDropTxn.single_operation` тест**"
   ]
  },
  {
   "cell_type": "code",
   "execution_count": 159,
   "id": "6a42fdee-4133-4af5-811c-2506c6c77f05",
   "metadata": {},
   "outputs": [],
   "source": [
    "drop_stamps = create_timestamps_range_df(start=\"2025-01-01\", end=\"2025-01-31\")"
   ]
  },
  {
   "cell_type": "code",
   "execution_count": 260,
   "id": "f401c4d8-244d-42c6-9956-1082c5289388",
   "metadata": {},
   "outputs": [],
   "source": [
    "drop_txn_part_data = FraudTransPartialData(merchants_df=pd.DataFrame(), client_info=clients_with_geo.loc[0], \\\n",
    "                                        online_merchant_ids=pd.DataFrame(), fraud_ips=fraud_ips, used_ips=pd.Series(), \\\n",
    "                                         fraud_devices=fraud_devices,  used_devices=pd.Series(), \\\n",
    "                                        client_devices=client_devices)"
   ]
  },
  {
   "cell_type": "code",
   "execution_count": 261,
   "id": "0b7aa15f-06cd-49ec-b234-16a72a625ec4",
   "metadata": {},
   "outputs": [],
   "source": [
    "# drop_txn_part_data.client_info"
   ]
  },
  {
   "cell_type": "code",
   "execution_count": 262,
   "id": "2f512a47-4c04-4231-a505-c5bb69515334",
   "metadata": {},
   "outputs": [],
   "source": [
    "drop_client_test2 = DropClient(accounts=accounts, account=1, outer_accounts=outer_accounts)"
   ]
  },
  {
   "cell_type": "code",
   "execution_count": 263,
   "id": "61d77e8a-9263-4fd4-88be-6cdac85fc4a5",
   "metadata": {},
   "outputs": [],
   "source": [
    "create_drop_txn_tst = CreateDropTxn(timestamps=drop_stamps, trans_partial_data=drop_txn_part_data, drop_client_cls=drop_client_test2, \\\n",
    "                                      in_txns=0, out_txns=0, in_lim=6, out_lim=8, last_txn={}, attempts=0)"
   ]
  },
  {
   "cell_type": "code",
   "execution_count": 264,
   "id": "e55db8c7-684b-4e7a-a0e1-1ff8b68d1107",
   "metadata": {},
   "outputs": [
    {
     "data": {
      "text/plain": [
       "(0, 0, {}, 0)"
      ]
     },
     "execution_count": 264,
     "metadata": {},
     "output_type": "execute_result"
    }
   ],
   "source": [
    "create_drop_txn_tst.in_txns, create_drop_txn_tst.out_txns, create_drop_txn_tst.last_txn, drop_client_test2.batch_txns"
   ]
  },
  {
   "cell_type": "code",
   "execution_count": 1342,
   "id": "59411a05-127f-4cca-86c8-37d2f31a4e8f",
   "metadata": {},
   "outputs": [],
   "source": [
    "# ?CreateDropTxn.single_operation"
   ]
  },
  {
   "cell_type": "markdown",
   "id": "6fb81fc0-5e0e-4da9-9b45-1e0639e9de6a",
   "metadata": {},
   "source": [
    "Входящая НЕотклоненная транзакция дропу"
   ]
  },
  {
   "cell_type": "code",
   "execution_count": 205,
   "id": "30f3acbc-25f6-46e6-b03b-085f71301659",
   "metadata": {},
   "outputs": [
    {
     "data": {
      "text/html": [
       "<div>\n",
       "<style scoped>\n",
       "    .dataframe tbody tr th:only-of-type {\n",
       "        vertical-align: middle;\n",
       "    }\n",
       "\n",
       "    .dataframe tbody tr th {\n",
       "        vertical-align: top;\n",
       "    }\n",
       "\n",
       "    .dataframe thead th {\n",
       "        text-align: right;\n",
       "    }\n",
       "</style>\n",
       "<table border=\"1\" class=\"dataframe\">\n",
       "  <thead>\n",
       "    <tr style=\"text-align: right;\">\n",
       "      <th></th>\n",
       "      <th>client_id</th>\n",
       "      <th>txn_time</th>\n",
       "      <th>unix_time</th>\n",
       "      <th>amount</th>\n",
       "      <th>type</th>\n",
       "      <th>channel</th>\n",
       "      <th>category</th>\n",
       "      <th>online</th>\n",
       "      <th>merchant_id</th>\n",
       "      <th>trans_city</th>\n",
       "      <th>trans_lat</th>\n",
       "      <th>trans_lon</th>\n",
       "      <th>trans_ip</th>\n",
       "      <th>device_id</th>\n",
       "      <th>account</th>\n",
       "      <th>is_fraud</th>\n",
       "      <th>is_suspicious</th>\n",
       "      <th>status</th>\n",
       "      <th>rule</th>\n",
       "    </tr>\n",
       "  </thead>\n",
       "  <tbody>\n",
       "    <tr>\n",
       "      <th>0</th>\n",
       "      <td>1</td>\n",
       "      <td>2025-01-02 12:17:00</td>\n",
       "      <td>1735820220</td>\n",
       "      <td>52000.0</td>\n",
       "      <td>inbound</td>\n",
       "      <td>transfer</td>\n",
       "      <td>not applicable</td>\n",
       "      <td>True</td>\n",
       "      <td>NaN</td>\n",
       "      <td>not applicable</td>\n",
       "      <td>NaN</td>\n",
       "      <td>NaN</td>\n",
       "      <td>not applicable</td>\n",
       "      <td>&lt;NA&gt;</td>\n",
       "      <td>1</td>\n",
       "      <td>False</td>\n",
       "      <td>False</td>\n",
       "      <td>approved</td>\n",
       "      <td>not applicable</td>\n",
       "    </tr>\n",
       "  </tbody>\n",
       "</table>\n",
       "</div>"
      ],
      "text/plain": [
       "   client_id            txn_time   unix_time   amount     type   channel  \\\n",
       "0          1 2025-01-02 12:17:00  1735820220  52000.0  inbound  transfer   \n",
       "\n",
       "         category  online  merchant_id      trans_city  trans_lat  trans_lon  \\\n",
       "0  not applicable    True          NaN  not applicable        NaN        NaN   \n",
       "\n",
       "         trans_ip device_id  account  is_fraud  is_suspicious    status  \\\n",
       "0  not applicable      <NA>        1     False          False  approved   \n",
       "\n",
       "             rule  \n",
       "0  not applicable  "
      ]
     },
     "execution_count": 205,
     "metadata": {},
     "output_type": "execute_result"
    }
   ],
   "source": [
    "create_drop_txn_tst.reset_cache(only_counters=False)\n",
    "receive_txn = create_drop_txn_tst.single_operation(online=True, declined=False, in_chunks=False, receive=True)\n",
    "pd.DataFrame([receive_txn])"
   ]
  },
  {
   "cell_type": "code",
   "execution_count": 206,
   "id": "c573a09e-762f-4427-a266-a6954782b53e",
   "metadata": {},
   "outputs": [
    {
     "data": {
      "text/plain": [
       "(np.float64(52000.0), 1)"
      ]
     },
     "execution_count": 206,
     "metadata": {},
     "output_type": "execute_result"
    }
   ],
   "source": [
    "drop_client_test2.balance, drop_client_test2.batch_txns"
   ]
  },
  {
   "cell_type": "code",
   "execution_count": 207,
   "id": "6f5a3fb7-1eef-4e20-8f87-95b1579a4ee7",
   "metadata": {},
   "outputs": [
    {
     "data": {
      "text/plain": [
       "(1, 0, 0)"
      ]
     },
     "execution_count": 207,
     "metadata": {},
     "output_type": "execute_result"
    }
   ],
   "source": [
    "create_drop_txn_tst.in_txns, create_drop_txn_tst.out_txns, create_drop_txn_tst.attempts"
   ]
  },
  {
   "cell_type": "code",
   "execution_count": 1542,
   "id": "6e3552b6-187f-4f8e-aab1-70d29424c6bc",
   "metadata": {},
   "outputs": [],
   "source": [
    "# create_drop_txn_tst.last_txn"
   ]
  },
  {
   "cell_type": "markdown",
   "id": "709d8e19-3bed-4957-81bf-fcbe3071640f",
   "metadata": {},
   "source": [
    "НЕ отклоненный исходящий перевод целиком"
   ]
  },
  {
   "cell_type": "code",
   "execution_count": 208,
   "id": "b44c7de4-45ae-4aed-8aa7-69d45c7760b5",
   "metadata": {},
   "outputs": [
    {
     "data": {
      "text/html": [
       "<div>\n",
       "<style scoped>\n",
       "    .dataframe tbody tr th:only-of-type {\n",
       "        vertical-align: middle;\n",
       "    }\n",
       "\n",
       "    .dataframe tbody tr th {\n",
       "        vertical-align: top;\n",
       "    }\n",
       "\n",
       "    .dataframe thead th {\n",
       "        text-align: right;\n",
       "    }\n",
       "</style>\n",
       "<table border=\"1\" class=\"dataframe\">\n",
       "  <thead>\n",
       "    <tr style=\"text-align: right;\">\n",
       "      <th></th>\n",
       "      <th>client_id</th>\n",
       "      <th>txn_time</th>\n",
       "      <th>unix_time</th>\n",
       "      <th>amount</th>\n",
       "      <th>type</th>\n",
       "      <th>channel</th>\n",
       "      <th>category</th>\n",
       "      <th>online</th>\n",
       "      <th>merchant_id</th>\n",
       "      <th>trans_city</th>\n",
       "      <th>trans_lat</th>\n",
       "      <th>trans_lon</th>\n",
       "      <th>trans_ip</th>\n",
       "      <th>device_id</th>\n",
       "      <th>account</th>\n",
       "      <th>is_fraud</th>\n",
       "      <th>is_suspicious</th>\n",
       "      <th>status</th>\n",
       "      <th>rule</th>\n",
       "    </tr>\n",
       "  </thead>\n",
       "  <tbody>\n",
       "    <tr>\n",
       "      <th>0</th>\n",
       "      <td>1</td>\n",
       "      <td>2025-01-02 12:17:00</td>\n",
       "      <td>1735820220</td>\n",
       "      <td>52000.0</td>\n",
       "      <td>inbound</td>\n",
       "      <td>transfer</td>\n",
       "      <td>not applicable</td>\n",
       "      <td>True</td>\n",
       "      <td>NaN</td>\n",
       "      <td>not applicable</td>\n",
       "      <td>NaN</td>\n",
       "      <td>NaN</td>\n",
       "      <td>not applicable</td>\n",
       "      <td>&lt;NA&gt;</td>\n",
       "      <td>1</td>\n",
       "      <td>False</td>\n",
       "      <td>False</td>\n",
       "      <td>approved</td>\n",
       "      <td>not applicable</td>\n",
       "    </tr>\n",
       "    <tr>\n",
       "      <th>1</th>\n",
       "      <td>1</td>\n",
       "      <td>2025-01-02 13:25:00</td>\n",
       "      <td>1735824300</td>\n",
       "      <td>52000.0</td>\n",
       "      <td>outbound</td>\n",
       "      <td>transfer</td>\n",
       "      <td>not applicable</td>\n",
       "      <td>True</td>\n",
       "      <td>NaN</td>\n",
       "      <td>Рязань</td>\n",
       "      <td>54.625457</td>\n",
       "      <td>39.735999</td>\n",
       "      <td>2.60.0.1</td>\n",
       "      <td>1</td>\n",
       "      <td>21193</td>\n",
       "      <td>False</td>\n",
       "      <td>False</td>\n",
       "      <td>approved</td>\n",
       "      <td>not applicable</td>\n",
       "    </tr>\n",
       "  </tbody>\n",
       "</table>\n",
       "</div>"
      ],
      "text/plain": [
       "   client_id            txn_time   unix_time   amount      type   channel  \\\n",
       "0          1 2025-01-02 12:17:00  1735820220  52000.0   inbound  transfer   \n",
       "1          1 2025-01-02 13:25:00  1735824300  52000.0  outbound  transfer   \n",
       "\n",
       "         category  online  merchant_id      trans_city  trans_lat  trans_lon  \\\n",
       "0  not applicable    True          NaN  not applicable        NaN        NaN   \n",
       "1  not applicable    True          NaN          Рязань  54.625457  39.735999   \n",
       "\n",
       "         trans_ip device_id  account  is_fraud  is_suspicious    status  \\\n",
       "0  not applicable      <NA>        1     False          False  approved   \n",
       "1        2.60.0.1         1    21193     False          False  approved   \n",
       "\n",
       "             rule  \n",
       "0  not applicable  \n",
       "1  not applicable  "
      ]
     },
     "execution_count": 208,
     "metadata": {},
     "output_type": "execute_result"
    }
   ],
   "source": [
    "whole_out = create_drop_txn_tst.single_operation(online=True, receive=False, declined=False, in_chunks=False)\n",
    "pd.concat([pd.DataFrame([receive_txn]), pd.DataFrame([whole_out])], ignore_index=True)"
   ]
  },
  {
   "cell_type": "markdown",
   "id": "8a0f5853-475c-4078-897f-cfe546a4260d",
   "metadata": {},
   "source": [
    "НЕ отклоненное снятие целиком"
   ]
  },
  {
   "cell_type": "code",
   "execution_count": 209,
   "id": "106c9a2b-ce5d-4b90-9242-bcbc4aad6ff9",
   "metadata": {},
   "outputs": [
    {
     "data": {
      "text/html": [
       "<div>\n",
       "<style scoped>\n",
       "    .dataframe tbody tr th:only-of-type {\n",
       "        vertical-align: middle;\n",
       "    }\n",
       "\n",
       "    .dataframe tbody tr th {\n",
       "        vertical-align: top;\n",
       "    }\n",
       "\n",
       "    .dataframe thead th {\n",
       "        text-align: right;\n",
       "    }\n",
       "</style>\n",
       "<table border=\"1\" class=\"dataframe\">\n",
       "  <thead>\n",
       "    <tr style=\"text-align: right;\">\n",
       "      <th></th>\n",
       "      <th>client_id</th>\n",
       "      <th>txn_time</th>\n",
       "      <th>unix_time</th>\n",
       "      <th>amount</th>\n",
       "      <th>type</th>\n",
       "      <th>channel</th>\n",
       "      <th>category</th>\n",
       "      <th>online</th>\n",
       "      <th>merchant_id</th>\n",
       "      <th>trans_city</th>\n",
       "      <th>trans_lat</th>\n",
       "      <th>trans_lon</th>\n",
       "      <th>trans_ip</th>\n",
       "      <th>device_id</th>\n",
       "      <th>account</th>\n",
       "      <th>is_fraud</th>\n",
       "      <th>is_suspicious</th>\n",
       "      <th>status</th>\n",
       "      <th>rule</th>\n",
       "    </tr>\n",
       "  </thead>\n",
       "  <tbody>\n",
       "    <tr>\n",
       "      <th>0</th>\n",
       "      <td>1</td>\n",
       "      <td>2025-01-24 01:00:00</td>\n",
       "      <td>1737680400</td>\n",
       "      <td>6500.0</td>\n",
       "      <td>inbound</td>\n",
       "      <td>transfer</td>\n",
       "      <td>not applicable</td>\n",
       "      <td>True</td>\n",
       "      <td>NaN</td>\n",
       "      <td>not applicable</td>\n",
       "      <td>NaN</td>\n",
       "      <td>NaN</td>\n",
       "      <td>not applicable</td>\n",
       "      <td>&lt;NA&gt;</td>\n",
       "      <td>1</td>\n",
       "      <td>False</td>\n",
       "      <td>False</td>\n",
       "      <td>approved</td>\n",
       "      <td>not applicable</td>\n",
       "    </tr>\n",
       "    <tr>\n",
       "      <th>1</th>\n",
       "      <td>1</td>\n",
       "      <td>2025-01-24 02:35:00</td>\n",
       "      <td>1737686100</td>\n",
       "      <td>6500.0</td>\n",
       "      <td>withdrawal</td>\n",
       "      <td>ATM</td>\n",
       "      <td>not applicable</td>\n",
       "      <td>False</td>\n",
       "      <td>NaN</td>\n",
       "      <td>Рязань</td>\n",
       "      <td>54.625457</td>\n",
       "      <td>39.735999</td>\n",
       "      <td>not applicable</td>\n",
       "      <td>&lt;NA&gt;</td>\n",
       "      <td>1</td>\n",
       "      <td>False</td>\n",
       "      <td>False</td>\n",
       "      <td>approved</td>\n",
       "      <td>not applicable</td>\n",
       "    </tr>\n",
       "  </tbody>\n",
       "</table>\n",
       "</div>"
      ],
      "text/plain": [
       "   client_id            txn_time   unix_time  amount        type   channel  \\\n",
       "0          1 2025-01-24 01:00:00  1737680400  6500.0     inbound  transfer   \n",
       "1          1 2025-01-24 02:35:00  1737686100  6500.0  withdrawal       ATM   \n",
       "\n",
       "         category  online  merchant_id      trans_city  trans_lat  trans_lon  \\\n",
       "0  not applicable    True          NaN  not applicable        NaN        NaN   \n",
       "1  not applicable   False          NaN          Рязань  54.625457  39.735999   \n",
       "\n",
       "         trans_ip device_id  account  is_fraud  is_suspicious    status  \\\n",
       "0  not applicable      <NA>        1     False          False  approved   \n",
       "1  not applicable      <NA>        1     False          False  approved   \n",
       "\n",
       "             rule  \n",
       "0  not applicable  \n",
       "1  not applicable  "
      ]
     },
     "execution_count": 209,
     "metadata": {},
     "output_type": "execute_result"
    }
   ],
   "source": [
    "create_drop_txn_tst.reset_cache(only_counters=False)\n",
    "drop_client_test2.reset_cache(balance=True, used_accounts=True, chunk_size=True, batch_txns=True)\n",
    "receive_txn2 = create_drop_txn_tst.single_operation(online=True, declined=False, in_chunks=False, receive=True)\n",
    "whole_atm = create_drop_txn_tst.single_operation(online=False, receive=False, declined=False, in_chunks=False)\n",
    "\n",
    "pd.concat([pd.DataFrame([receive_txn2]), pd.DataFrame([whole_atm])], ignore_index=True)"
   ]
  },
  {
   "cell_type": "code",
   "execution_count": 210,
   "id": "822f40fe-2baf-4111-82e4-cfae1182e227",
   "metadata": {},
   "outputs": [
    {
     "data": {
      "text/plain": [
       "(np.float64(0.0), 1)"
      ]
     },
     "execution_count": 210,
     "metadata": {},
     "output_type": "execute_result"
    }
   ],
   "source": [
    "drop_client_test2.balance, drop_client_test2.batch_txns"
   ]
  },
  {
   "cell_type": "markdown",
   "id": "f82c661f-a9d7-4f7c-8ee0-95a49ff41bbe",
   "metadata": {},
   "source": [
    "НЕ отклоненный исходящий перевод частями"
   ]
  },
  {
   "cell_type": "code",
   "execution_count": 267,
   "id": "83f5064d-4592-4777-9ccd-c891f41006fe",
   "metadata": {},
   "outputs": [
    {
     "data": {
      "text/html": [
       "<div>\n",
       "<style scoped>\n",
       "    .dataframe tbody tr th:only-of-type {\n",
       "        vertical-align: middle;\n",
       "    }\n",
       "\n",
       "    .dataframe tbody tr th {\n",
       "        vertical-align: top;\n",
       "    }\n",
       "\n",
       "    .dataframe thead th {\n",
       "        text-align: right;\n",
       "    }\n",
       "</style>\n",
       "<table border=\"1\" class=\"dataframe\">\n",
       "  <thead>\n",
       "    <tr style=\"text-align: right;\">\n",
       "      <th></th>\n",
       "      <th>client_id</th>\n",
       "      <th>txn_time</th>\n",
       "      <th>unix_time</th>\n",
       "      <th>amount</th>\n",
       "      <th>type</th>\n",
       "      <th>channel</th>\n",
       "      <th>category</th>\n",
       "      <th>online</th>\n",
       "      <th>merchant_id</th>\n",
       "      <th>trans_city</th>\n",
       "      <th>trans_lat</th>\n",
       "      <th>trans_lon</th>\n",
       "      <th>trans_ip</th>\n",
       "      <th>device_id</th>\n",
       "      <th>account</th>\n",
       "      <th>is_fraud</th>\n",
       "      <th>is_suspicious</th>\n",
       "      <th>status</th>\n",
       "      <th>rule</th>\n",
       "    </tr>\n",
       "  </thead>\n",
       "  <tbody>\n",
       "    <tr>\n",
       "      <th>0</th>\n",
       "      <td>1</td>\n",
       "      <td>2025-01-22 12:27:00</td>\n",
       "      <td>1737548820</td>\n",
       "      <td>36500.0</td>\n",
       "      <td>inbound</td>\n",
       "      <td>transfer</td>\n",
       "      <td>not applicable</td>\n",
       "      <td>True</td>\n",
       "      <td>NaN</td>\n",
       "      <td>not applicable</td>\n",
       "      <td>NaN</td>\n",
       "      <td>NaN</td>\n",
       "      <td>not applicable</td>\n",
       "      <td>&lt;NA&gt;</td>\n",
       "      <td>1</td>\n",
       "      <td>False</td>\n",
       "      <td>False</td>\n",
       "      <td>approved</td>\n",
       "      <td>not applicable</td>\n",
       "    </tr>\n",
       "  </tbody>\n",
       "</table>\n",
       "</div>"
      ],
      "text/plain": [
       "   client_id            txn_time   unix_time   amount     type   channel  \\\n",
       "0          1 2025-01-22 12:27:00  1737548820  36500.0  inbound  transfer   \n",
       "\n",
       "         category  online  merchant_id      trans_city  trans_lat  trans_lon  \\\n",
       "0  not applicable    True          NaN  not applicable        NaN        NaN   \n",
       "\n",
       "         trans_ip device_id  account  is_fraud  is_suspicious    status  \\\n",
       "0  not applicable      <NA>        1     False          False  approved   \n",
       "\n",
       "             rule  \n",
       "0  not applicable  "
      ]
     },
     "execution_count": 267,
     "metadata": {},
     "output_type": "execute_result"
    }
   ],
   "source": [
    "create_drop_txn_tst.reset_cache(only_counters=False)\n",
    "drop_client_test2.reset_cache(balance=True, used_accounts=True, chunk_size=True, batch_txns=True)\n",
    "receive_txn3 = create_drop_txn_tst.single_operation(online=True, declined=False, in_chunks=False, receive=True)\n",
    "pd.DataFrame([receive_txn3])"
   ]
  },
  {
   "cell_type": "code",
   "execution_count": 268,
   "id": "db93c6a0-d54d-483e-a9b2-0ed63f87cc2e",
   "metadata": {},
   "outputs": [
    {
     "data": {
      "text/html": [
       "<div>\n",
       "<style scoped>\n",
       "    .dataframe tbody tr th:only-of-type {\n",
       "        vertical-align: middle;\n",
       "    }\n",
       "\n",
       "    .dataframe tbody tr th {\n",
       "        vertical-align: top;\n",
       "    }\n",
       "\n",
       "    .dataframe thead th {\n",
       "        text-align: right;\n",
       "    }\n",
       "</style>\n",
       "<table border=\"1\" class=\"dataframe\">\n",
       "  <thead>\n",
       "    <tr style=\"text-align: right;\">\n",
       "      <th></th>\n",
       "      <th>client_id</th>\n",
       "      <th>txn_time</th>\n",
       "      <th>unix_time</th>\n",
       "      <th>amount</th>\n",
       "      <th>type</th>\n",
       "      <th>channel</th>\n",
       "      <th>category</th>\n",
       "      <th>online</th>\n",
       "      <th>merchant_id</th>\n",
       "      <th>trans_city</th>\n",
       "      <th>trans_lat</th>\n",
       "      <th>trans_lon</th>\n",
       "      <th>trans_ip</th>\n",
       "      <th>device_id</th>\n",
       "      <th>account</th>\n",
       "      <th>is_fraud</th>\n",
       "      <th>is_suspicious</th>\n",
       "      <th>status</th>\n",
       "      <th>rule</th>\n",
       "    </tr>\n",
       "  </thead>\n",
       "  <tbody>\n",
       "    <tr>\n",
       "      <th>0</th>\n",
       "      <td>1</td>\n",
       "      <td>2025-01-22 12:27:00</td>\n",
       "      <td>1737548820</td>\n",
       "      <td>36500.0</td>\n",
       "      <td>inbound</td>\n",
       "      <td>transfer</td>\n",
       "      <td>not applicable</td>\n",
       "      <td>True</td>\n",
       "      <td>NaN</td>\n",
       "      <td>not applicable</td>\n",
       "      <td>NaN</td>\n",
       "      <td>NaN</td>\n",
       "      <td>not applicable</td>\n",
       "      <td>&lt;NA&gt;</td>\n",
       "      <td>1</td>\n",
       "      <td>False</td>\n",
       "      <td>False</td>\n",
       "      <td>approved</td>\n",
       "      <td>not applicable</td>\n",
       "    </tr>\n",
       "    <tr>\n",
       "      <th>1</th>\n",
       "      <td>1</td>\n",
       "      <td>2025-01-22 15:20:00</td>\n",
       "      <td>1737559200</td>\n",
       "      <td>20000.0</td>\n",
       "      <td>outbound</td>\n",
       "      <td>transfer</td>\n",
       "      <td>not applicable</td>\n",
       "      <td>True</td>\n",
       "      <td>NaN</td>\n",
       "      <td>Рязань</td>\n",
       "      <td>54.625457</td>\n",
       "      <td>39.735999</td>\n",
       "      <td>2.60.0.1</td>\n",
       "      <td>1</td>\n",
       "      <td>16461</td>\n",
       "      <td>False</td>\n",
       "      <td>False</td>\n",
       "      <td>approved</td>\n",
       "      <td>not applicable</td>\n",
       "    </tr>\n",
       "    <tr>\n",
       "      <th>2</th>\n",
       "      <td>1</td>\n",
       "      <td>2025-01-22 18:11:00</td>\n",
       "      <td>1737569460</td>\n",
       "      <td>5000.0</td>\n",
       "      <td>outbound</td>\n",
       "      <td>transfer</td>\n",
       "      <td>not applicable</td>\n",
       "      <td>True</td>\n",
       "      <td>NaN</td>\n",
       "      <td>Рязань</td>\n",
       "      <td>54.625457</td>\n",
       "      <td>39.735999</td>\n",
       "      <td>2.60.0.1</td>\n",
       "      <td>2</td>\n",
       "      <td>18060</td>\n",
       "      <td>False</td>\n",
       "      <td>False</td>\n",
       "      <td>approved</td>\n",
       "      <td>not applicable</td>\n",
       "    </tr>\n",
       "    <tr>\n",
       "      <th>3</th>\n",
       "      <td>1</td>\n",
       "      <td>2025-01-22 20:14:00</td>\n",
       "      <td>1737576840</td>\n",
       "      <td>11500.0</td>\n",
       "      <td>outbound</td>\n",
       "      <td>transfer</td>\n",
       "      <td>not applicable</td>\n",
       "      <td>True</td>\n",
       "      <td>NaN</td>\n",
       "      <td>Рязань</td>\n",
       "      <td>54.625457</td>\n",
       "      <td>39.735999</td>\n",
       "      <td>2.60.0.1</td>\n",
       "      <td>2</td>\n",
       "      <td>19418</td>\n",
       "      <td>False</td>\n",
       "      <td>False</td>\n",
       "      <td>approved</td>\n",
       "      <td>not applicable</td>\n",
       "    </tr>\n",
       "  </tbody>\n",
       "</table>\n",
       "</div>"
      ],
      "text/plain": [
       "   client_id            txn_time   unix_time   amount      type   channel  \\\n",
       "0          1 2025-01-22 12:27:00  1737548820  36500.0   inbound  transfer   \n",
       "1          1 2025-01-22 15:20:00  1737559200  20000.0  outbound  transfer   \n",
       "2          1 2025-01-22 18:11:00  1737569460   5000.0  outbound  transfer   \n",
       "3          1 2025-01-22 20:14:00  1737576840  11500.0  outbound  transfer   \n",
       "\n",
       "         category  online  merchant_id      trans_city  trans_lat  trans_lon  \\\n",
       "0  not applicable    True          NaN  not applicable        NaN        NaN   \n",
       "1  not applicable    True          NaN          Рязань  54.625457  39.735999   \n",
       "2  not applicable    True          NaN          Рязань  54.625457  39.735999   \n",
       "3  not applicable    True          NaN          Рязань  54.625457  39.735999   \n",
       "\n",
       "         trans_ip device_id  account  is_fraud  is_suspicious    status  \\\n",
       "0  not applicable      <NA>        1     False          False  approved   \n",
       "1        2.60.0.1         1    16461     False          False  approved   \n",
       "2        2.60.0.1         2    18060     False          False  approved   \n",
       "3        2.60.0.1         2    19418     False          False  approved   \n",
       "\n",
       "             rule  \n",
       "0  not applicable  \n",
       "1  not applicable  \n",
       "2  not applicable  \n",
       "3  not applicable  "
      ]
     },
     "execution_count": 268,
     "metadata": {},
     "output_type": "execute_result"
    }
   ],
   "source": [
    "all_txns3 = [receive_txn3]\n",
    "while drop_client_test2.balance > 0:\n",
    "    part_out = create_drop_txn_tst.single_operation(online=True, receive=False, declined=False, in_chunks=True)\n",
    "    all_txns3.append(part_out)\n",
    "pd.DataFrame(all_txns3)"
   ]
  },
  {
   "cell_type": "code",
   "execution_count": 269,
   "id": "c827257b-fade-406f-8aac-64c6d71b95b8",
   "metadata": {},
   "outputs": [
    {
     "data": {
      "text/plain": [
       "(np.float64(0.0), 3)"
      ]
     },
     "execution_count": 269,
     "metadata": {},
     "output_type": "execute_result"
    }
   ],
   "source": [
    "drop_client_test2.balance, drop_client_test2.batch_txns"
   ]
  },
  {
   "cell_type": "markdown",
   "id": "d976bd88-f898-4b01-83a5-c3e75f663a21",
   "metadata": {},
   "source": [
    "НЕ отклоненное снятие частями"
   ]
  },
  {
   "cell_type": "code",
   "execution_count": 1700,
   "id": "3729d901-0944-46fa-81e3-e0363c2ef277",
   "metadata": {},
   "outputs": [
    {
     "data": {
      "text/html": [
       "<div>\n",
       "<style scoped>\n",
       "    .dataframe tbody tr th:only-of-type {\n",
       "        vertical-align: middle;\n",
       "    }\n",
       "\n",
       "    .dataframe tbody tr th {\n",
       "        vertical-align: top;\n",
       "    }\n",
       "\n",
       "    .dataframe thead th {\n",
       "        text-align: right;\n",
       "    }\n",
       "</style>\n",
       "<table border=\"1\" class=\"dataframe\">\n",
       "  <thead>\n",
       "    <tr style=\"text-align: right;\">\n",
       "      <th></th>\n",
       "      <th>client_id</th>\n",
       "      <th>txn_time</th>\n",
       "      <th>unix_time</th>\n",
       "      <th>amount</th>\n",
       "      <th>type</th>\n",
       "      <th>channel</th>\n",
       "      <th>category</th>\n",
       "      <th>online</th>\n",
       "      <th>merchant_id</th>\n",
       "      <th>trans_city</th>\n",
       "      <th>trans_lat</th>\n",
       "      <th>trans_lon</th>\n",
       "      <th>trans_ip</th>\n",
       "      <th>device_id</th>\n",
       "      <th>account_to</th>\n",
       "      <th>is_fraud</th>\n",
       "      <th>is_suspicious</th>\n",
       "      <th>status</th>\n",
       "      <th>rule</th>\n",
       "    </tr>\n",
       "  </thead>\n",
       "  <tbody>\n",
       "    <tr>\n",
       "      <th>0</th>\n",
       "      <td>1</td>\n",
       "      <td>2025-01-17 08:20:00</td>\n",
       "      <td>1737102000</td>\n",
       "      <td>45000.0</td>\n",
       "      <td>inbound</td>\n",
       "      <td>transfer</td>\n",
       "      <td>not applicable</td>\n",
       "      <td>True</td>\n",
       "      <td>NaN</td>\n",
       "      <td>not applicable</td>\n",
       "      <td>NaN</td>\n",
       "      <td>NaN</td>\n",
       "      <td>not applicable</td>\n",
       "      <td>&lt;NA&gt;</td>\n",
       "      <td>1</td>\n",
       "      <td>False</td>\n",
       "      <td>False</td>\n",
       "      <td>approved</td>\n",
       "      <td>not applicable</td>\n",
       "    </tr>\n",
       "    <tr>\n",
       "      <th>1</th>\n",
       "      <td>1</td>\n",
       "      <td>2025-01-17 10:35:00</td>\n",
       "      <td>1737110100</td>\n",
       "      <td>22500.0</td>\n",
       "      <td>withdrawal</td>\n",
       "      <td>ATM</td>\n",
       "      <td>not applicable</td>\n",
       "      <td>False</td>\n",
       "      <td>NaN</td>\n",
       "      <td>Рязань</td>\n",
       "      <td>54.625457</td>\n",
       "      <td>39.735999</td>\n",
       "      <td>not applicable</td>\n",
       "      <td>&lt;NA&gt;</td>\n",
       "      <td>1</td>\n",
       "      <td>False</td>\n",
       "      <td>False</td>\n",
       "      <td>approved</td>\n",
       "      <td>not applicable</td>\n",
       "    </tr>\n",
       "    <tr>\n",
       "      <th>2</th>\n",
       "      <td>1</td>\n",
       "      <td>2025-01-17 11:40:00</td>\n",
       "      <td>1737114000</td>\n",
       "      <td>22500.0</td>\n",
       "      <td>withdrawal</td>\n",
       "      <td>ATM</td>\n",
       "      <td>not applicable</td>\n",
       "      <td>False</td>\n",
       "      <td>NaN</td>\n",
       "      <td>Рязань</td>\n",
       "      <td>54.625457</td>\n",
       "      <td>39.735999</td>\n",
       "      <td>not applicable</td>\n",
       "      <td>&lt;NA&gt;</td>\n",
       "      <td>1</td>\n",
       "      <td>False</td>\n",
       "      <td>False</td>\n",
       "      <td>approved</td>\n",
       "      <td>not applicable</td>\n",
       "    </tr>\n",
       "  </tbody>\n",
       "</table>\n",
       "</div>"
      ],
      "text/plain": [
       "   client_id            txn_time   unix_time   amount        type   channel  \\\n",
       "0          1 2025-01-17 08:20:00  1737102000  45000.0     inbound  transfer   \n",
       "1          1 2025-01-17 10:35:00  1737110100  22500.0  withdrawal       ATM   \n",
       "2          1 2025-01-17 11:40:00  1737114000  22500.0  withdrawal       ATM   \n",
       "\n",
       "         category  online  merchant_id      trans_city  trans_lat  trans_lon  \\\n",
       "0  not applicable    True          NaN  not applicable        NaN        NaN   \n",
       "1  not applicable   False          NaN          Рязань  54.625457  39.735999   \n",
       "2  not applicable   False          NaN          Рязань  54.625457  39.735999   \n",
       "\n",
       "         trans_ip device_id  account_to  is_fraud  is_suspicious    status  \\\n",
       "0  not applicable      <NA>           1     False          False  approved   \n",
       "1  not applicable      <NA>           1     False          False  approved   \n",
       "2  not applicable      <NA>           1     False          False  approved   \n",
       "\n",
       "             rule  \n",
       "0  not applicable  \n",
       "1  not applicable  \n",
       "2  not applicable  "
      ]
     },
     "execution_count": 1700,
     "metadata": {},
     "output_type": "execute_result"
    }
   ],
   "source": [
    "create_drop_txn_tst.reset_cache(only_counters=False)\n",
    "drop_client_test2.reset_cache(balance=True, used_accounts=True, chunk_size=True, batch_txns=True)\n",
    "receive_txn4 = create_drop_txn_tst.single_operation(online=True, declined=False, in_chunks=False, receive=True)\n",
    "\n",
    "all_txns4 = [receive_txn4]\n",
    "while drop_client_test2.balance > 0:\n",
    "    part_out = create_drop_txn_tst.single_operation(online=False, receive=False, declined=False, in_chunks=True)\n",
    "    all_txns4.append(part_out)\n",
    "pd.DataFrame(all_txns4)"
   ]
  },
  {
   "cell_type": "markdown",
   "id": "fc0e62f1-16ea-4c19-b67e-4d745e33c426",
   "metadata": {},
   "source": [
    "Отклоненный входящий перевод"
   ]
  },
  {
   "cell_type": "code",
   "execution_count": 1706,
   "id": "dca21431-1c51-416a-a8b8-643f65e117e8",
   "metadata": {},
   "outputs": [
    {
     "data": {
      "text/html": [
       "<div>\n",
       "<style scoped>\n",
       "    .dataframe tbody tr th:only-of-type {\n",
       "        vertical-align: middle;\n",
       "    }\n",
       "\n",
       "    .dataframe tbody tr th {\n",
       "        vertical-align: top;\n",
       "    }\n",
       "\n",
       "    .dataframe thead th {\n",
       "        text-align: right;\n",
       "    }\n",
       "</style>\n",
       "<table border=\"1\" class=\"dataframe\">\n",
       "  <thead>\n",
       "    <tr style=\"text-align: right;\">\n",
       "      <th></th>\n",
       "      <th>client_id</th>\n",
       "      <th>txn_time</th>\n",
       "      <th>unix_time</th>\n",
       "      <th>amount</th>\n",
       "      <th>type</th>\n",
       "      <th>channel</th>\n",
       "      <th>category</th>\n",
       "      <th>online</th>\n",
       "      <th>merchant_id</th>\n",
       "      <th>trans_city</th>\n",
       "      <th>trans_lat</th>\n",
       "      <th>trans_lon</th>\n",
       "      <th>trans_ip</th>\n",
       "      <th>device_id</th>\n",
       "      <th>account_to</th>\n",
       "      <th>is_fraud</th>\n",
       "      <th>is_suspicious</th>\n",
       "      <th>status</th>\n",
       "      <th>rule</th>\n",
       "    </tr>\n",
       "  </thead>\n",
       "  <tbody>\n",
       "    <tr>\n",
       "      <th>0</th>\n",
       "      <td>1</td>\n",
       "      <td>2025-01-01 07:56:00</td>\n",
       "      <td>1735718160</td>\n",
       "      <td>30000.0</td>\n",
       "      <td>inbound</td>\n",
       "      <td>transfer</td>\n",
       "      <td>not applicable</td>\n",
       "      <td>True</td>\n",
       "      <td>NaN</td>\n",
       "      <td>not applicable</td>\n",
       "      <td>NaN</td>\n",
       "      <td>NaN</td>\n",
       "      <td>not applicable</td>\n",
       "      <td>&lt;NA&gt;</td>\n",
       "      <td>1</td>\n",
       "      <td>True</td>\n",
       "      <td>False</td>\n",
       "      <td>declined</td>\n",
       "      <td>client_is_drop</td>\n",
       "    </tr>\n",
       "  </tbody>\n",
       "</table>\n",
       "</div>"
      ],
      "text/plain": [
       "   client_id            txn_time   unix_time   amount     type   channel  \\\n",
       "0          1 2025-01-01 07:56:00  1735718160  30000.0  inbound  transfer   \n",
       "\n",
       "         category  online  merchant_id      trans_city  trans_lat  trans_lon  \\\n",
       "0  not applicable    True          NaN  not applicable        NaN        NaN   \n",
       "\n",
       "         trans_ip device_id  account_to  is_fraud  is_suspicious    status  \\\n",
       "0  not applicable      <NA>           1      True          False  declined   \n",
       "\n",
       "             rule  \n",
       "0  client_is_drop  "
      ]
     },
     "execution_count": 1706,
     "metadata": {},
     "output_type": "execute_result"
    }
   ],
   "source": [
    "create_drop_txn_tst.reset_cache(only_counters=False)\n",
    "drop_client_test2.reset_cache(balance=True, used_accounts=True, chunk_size=True, batch_txns=True)\n",
    "receive_txn5 = create_drop_txn_tst.single_operation(online=True, receive=True, declined=True, in_chunks=False)\n",
    "pd.DataFrame([receive_txn5])"
   ]
  },
  {
   "cell_type": "code",
   "execution_count": 1707,
   "id": "2b9921df-93e1-4c8a-8741-de85996b0e7a",
   "metadata": {},
   "outputs": [
    {
     "data": {
      "text/plain": [
       "(0, 0)"
      ]
     },
     "execution_count": 1707,
     "metadata": {},
     "output_type": "execute_result"
    }
   ],
   "source": [
    "drop_client_test2.balance, drop_client_test2.batch_txns"
   ]
  },
  {
   "cell_type": "markdown",
   "id": "245cd0e3-0fc9-47ef-a439-9a64e524bbb8",
   "metadata": {},
   "source": [
    "Отклоненный исходящий перевод целиком"
   ]
  },
  {
   "cell_type": "code",
   "execution_count": null,
   "id": "cdb8b08f-471b-4b46-8369-a106b4fa6966",
   "metadata": {},
   "outputs": [],
   "source": [
    "online=True, receive=False, declined=True, in_chunks=False"
   ]
  },
  {
   "cell_type": "code",
   "execution_count": 1710,
   "id": "d9af35c0-6448-491f-ba23-bb50f1d31c2a",
   "metadata": {},
   "outputs": [
    {
     "data": {
      "text/html": [
       "<div>\n",
       "<style scoped>\n",
       "    .dataframe tbody tr th:only-of-type {\n",
       "        vertical-align: middle;\n",
       "    }\n",
       "\n",
       "    .dataframe tbody tr th {\n",
       "        vertical-align: top;\n",
       "    }\n",
       "\n",
       "    .dataframe thead th {\n",
       "        text-align: right;\n",
       "    }\n",
       "</style>\n",
       "<table border=\"1\" class=\"dataframe\">\n",
       "  <thead>\n",
       "    <tr style=\"text-align: right;\">\n",
       "      <th></th>\n",
       "      <th>client_id</th>\n",
       "      <th>txn_time</th>\n",
       "      <th>unix_time</th>\n",
       "      <th>amount</th>\n",
       "      <th>type</th>\n",
       "      <th>channel</th>\n",
       "      <th>category</th>\n",
       "      <th>online</th>\n",
       "      <th>merchant_id</th>\n",
       "      <th>trans_city</th>\n",
       "      <th>trans_lat</th>\n",
       "      <th>trans_lon</th>\n",
       "      <th>trans_ip</th>\n",
       "      <th>device_id</th>\n",
       "      <th>account_to</th>\n",
       "      <th>is_fraud</th>\n",
       "      <th>is_suspicious</th>\n",
       "      <th>status</th>\n",
       "      <th>rule</th>\n",
       "    </tr>\n",
       "  </thead>\n",
       "  <tbody>\n",
       "    <tr>\n",
       "      <th>0</th>\n",
       "      <td>1</td>\n",
       "      <td>2025-01-30 12:16:00</td>\n",
       "      <td>1738239360</td>\n",
       "      <td>25000.0</td>\n",
       "      <td>inbound</td>\n",
       "      <td>transfer</td>\n",
       "      <td>not applicable</td>\n",
       "      <td>True</td>\n",
       "      <td>NaN</td>\n",
       "      <td>not applicable</td>\n",
       "      <td>NaN</td>\n",
       "      <td>NaN</td>\n",
       "      <td>not applicable</td>\n",
       "      <td>&lt;NA&gt;</td>\n",
       "      <td>1</td>\n",
       "      <td>False</td>\n",
       "      <td>False</td>\n",
       "      <td>approved</td>\n",
       "      <td>not applicable</td>\n",
       "    </tr>\n",
       "    <tr>\n",
       "      <th>1</th>\n",
       "      <td>1</td>\n",
       "      <td>2025-01-30 14:51:00</td>\n",
       "      <td>1738248660</td>\n",
       "      <td>25000.0</td>\n",
       "      <td>outbound</td>\n",
       "      <td>transfer</td>\n",
       "      <td>not applicable</td>\n",
       "      <td>True</td>\n",
       "      <td>NaN</td>\n",
       "      <td>Рязань</td>\n",
       "      <td>54.625457</td>\n",
       "      <td>39.735999</td>\n",
       "      <td>2.60.0.1</td>\n",
       "      <td>1</td>\n",
       "      <td>17922</td>\n",
       "      <td>True</td>\n",
       "      <td>False</td>\n",
       "      <td>declined</td>\n",
       "      <td>client_is_drop</td>\n",
       "    </tr>\n",
       "  </tbody>\n",
       "</table>\n",
       "</div>"
      ],
      "text/plain": [
       "   client_id            txn_time   unix_time   amount      type   channel  \\\n",
       "0          1 2025-01-30 12:16:00  1738239360  25000.0   inbound  transfer   \n",
       "1          1 2025-01-30 14:51:00  1738248660  25000.0  outbound  transfer   \n",
       "\n",
       "         category  online  merchant_id      trans_city  trans_lat  trans_lon  \\\n",
       "0  not applicable    True          NaN  not applicable        NaN        NaN   \n",
       "1  not applicable    True          NaN          Рязань  54.625457  39.735999   \n",
       "\n",
       "         trans_ip device_id  account_to  is_fraud  is_suspicious    status  \\\n",
       "0  not applicable      <NA>           1     False          False  approved   \n",
       "1        2.60.0.1         1       17922      True          False  declined   \n",
       "\n",
       "             rule  \n",
       "0  not applicable  \n",
       "1  client_is_drop  "
      ]
     },
     "execution_count": 1710,
     "metadata": {},
     "output_type": "execute_result"
    }
   ],
   "source": [
    "create_drop_txn_tst.reset_cache(only_counters=False)\n",
    "drop_client_test2.reset_cache(balance=True, used_accounts=True, chunk_size=True, batch_txns=True)\n",
    "receive_txn6 = create_drop_txn_tst.single_operation(online=True, receive=True, declined=False, in_chunks=False)\n",
    "\n",
    "whole_out2 = create_drop_txn_tst.single_operation(online=True, receive=False, declined=True, in_chunks=False)\n",
    "\n",
    "\n",
    "pd.concat([pd.DataFrame([receive_txn6]), pd.DataFrame([whole_out2])], ignore_index=True)"
   ]
  },
  {
   "cell_type": "code",
   "execution_count": 1711,
   "id": "e6f0bc61-6c29-4b51-8170-d6d6b1c33f02",
   "metadata": {},
   "outputs": [
    {
     "data": {
      "text/plain": [
       "(np.float64(25000.0), 1)"
      ]
     },
     "execution_count": 1711,
     "metadata": {},
     "output_type": "execute_result"
    }
   ],
   "source": [
    "drop_client_test2.balance, drop_client_test2.batch_txns"
   ]
  },
  {
   "cell_type": "markdown",
   "id": "cf1d2620-6d59-461b-ad4b-091392ff50b6",
   "metadata": {},
   "source": [
    "**Отклоненное снятие целиком**"
   ]
  },
  {
   "cell_type": "code",
   "execution_count": 1781,
   "id": "fbd49dd8-04ec-4020-9ee5-842a49cc3f95",
   "metadata": {},
   "outputs": [
    {
     "data": {
      "text/html": [
       "<div>\n",
       "<style scoped>\n",
       "    .dataframe tbody tr th:only-of-type {\n",
       "        vertical-align: middle;\n",
       "    }\n",
       "\n",
       "    .dataframe tbody tr th {\n",
       "        vertical-align: top;\n",
       "    }\n",
       "\n",
       "    .dataframe thead th {\n",
       "        text-align: right;\n",
       "    }\n",
       "</style>\n",
       "<table border=\"1\" class=\"dataframe\">\n",
       "  <thead>\n",
       "    <tr style=\"text-align: right;\">\n",
       "      <th></th>\n",
       "      <th>client_id</th>\n",
       "      <th>txn_time</th>\n",
       "      <th>unix_time</th>\n",
       "      <th>amount</th>\n",
       "      <th>type</th>\n",
       "      <th>channel</th>\n",
       "      <th>category</th>\n",
       "      <th>online</th>\n",
       "      <th>merchant_id</th>\n",
       "      <th>trans_city</th>\n",
       "      <th>trans_lat</th>\n",
       "      <th>trans_lon</th>\n",
       "      <th>trans_ip</th>\n",
       "      <th>device_id</th>\n",
       "      <th>account_to</th>\n",
       "      <th>is_fraud</th>\n",
       "      <th>is_suspicious</th>\n",
       "      <th>status</th>\n",
       "      <th>rule</th>\n",
       "    </tr>\n",
       "  </thead>\n",
       "  <tbody>\n",
       "    <tr>\n",
       "      <th>0</th>\n",
       "      <td>1</td>\n",
       "      <td>2025-01-03 14:40:00</td>\n",
       "      <td>1735915200</td>\n",
       "      <td>29500.0</td>\n",
       "      <td>inbound</td>\n",
       "      <td>transfer</td>\n",
       "      <td>not applicable</td>\n",
       "      <td>True</td>\n",
       "      <td>NaN</td>\n",
       "      <td>not applicable</td>\n",
       "      <td>NaN</td>\n",
       "      <td>NaN</td>\n",
       "      <td>not applicable</td>\n",
       "      <td>&lt;NA&gt;</td>\n",
       "      <td>1</td>\n",
       "      <td>False</td>\n",
       "      <td>False</td>\n",
       "      <td>approved</td>\n",
       "      <td>not applicable</td>\n",
       "    </tr>\n",
       "    <tr>\n",
       "      <th>1</th>\n",
       "      <td>1</td>\n",
       "      <td>2025-01-03 15:42:00</td>\n",
       "      <td>1735918920</td>\n",
       "      <td>29500.0</td>\n",
       "      <td>withdrawal</td>\n",
       "      <td>ATM</td>\n",
       "      <td>not applicable</td>\n",
       "      <td>False</td>\n",
       "      <td>NaN</td>\n",
       "      <td>Рязань</td>\n",
       "      <td>54.625457</td>\n",
       "      <td>39.735999</td>\n",
       "      <td>not applicable</td>\n",
       "      <td>&lt;NA&gt;</td>\n",
       "      <td>1</td>\n",
       "      <td>True</td>\n",
       "      <td>False</td>\n",
       "      <td>declined</td>\n",
       "      <td>client_is_drop</td>\n",
       "    </tr>\n",
       "  </tbody>\n",
       "</table>\n",
       "</div>"
      ],
      "text/plain": [
       "   client_id            txn_time   unix_time   amount        type   channel  \\\n",
       "0          1 2025-01-03 14:40:00  1735915200  29500.0     inbound  transfer   \n",
       "1          1 2025-01-03 15:42:00  1735918920  29500.0  withdrawal       ATM   \n",
       "\n",
       "         category  online  merchant_id      trans_city  trans_lat  trans_lon  \\\n",
       "0  not applicable    True          NaN  not applicable        NaN        NaN   \n",
       "1  not applicable   False          NaN          Рязань  54.625457  39.735999   \n",
       "\n",
       "         trans_ip device_id  account_to  is_fraud  is_suspicious    status  \\\n",
       "0  not applicable      <NA>           1     False          False  approved   \n",
       "1  not applicable      <NA>           1      True          False  declined   \n",
       "\n",
       "             rule  \n",
       "0  not applicable  \n",
       "1  client_is_drop  "
      ]
     },
     "execution_count": 1781,
     "metadata": {},
     "output_type": "execute_result"
    }
   ],
   "source": [
    "create_drop_txn_tst.reset_cache(only_counters=False)\n",
    "drop_client_test2.reset_cache(balance=True, used_accounts=True, chunk_size=True, batch_txns=True)\n",
    "receive_txn7 = create_drop_txn_tst.single_operation(online=True, declined=False, in_chunks=False, receive=True)\n",
    "whole_atm_2 = create_drop_txn_tst.single_operation(online=False, receive=False, declined=True, in_chunks=False)\n",
    "\n",
    "pd.concat([pd.DataFrame([receive_txn7]), pd.DataFrame([whole_atm_2])], ignore_index=True)"
   ]
  },
  {
   "cell_type": "code",
   "execution_count": 1782,
   "id": "a143a7a1-2763-4456-be69-b270e7b155d2",
   "metadata": {},
   "outputs": [
    {
     "data": {
      "text/plain": [
       "(np.float64(29500.0), 1)"
      ]
     },
     "execution_count": 1782,
     "metadata": {},
     "output_type": "execute_result"
    }
   ],
   "source": [
    "drop_client_test2.balance, drop_client_test2.batch_txns"
   ]
  },
  {
   "cell_type": "markdown",
   "id": "5003d750-9234-41a5-830f-23092d753c46",
   "metadata": {},
   "source": [
    "**Отклоненный  исходящий перевод частями и заодно набросок полного цикла дропа распределителя**"
   ]
  },
  {
   "cell_type": "code",
   "execution_count": 1794,
   "id": "574d86cf-b676-4307-839f-fbc6aa77aedb",
   "metadata": {},
   "outputs": [
    {
     "data": {
      "text/plain": [
       "(0, 0, 0, False)"
      ]
     },
     "execution_count": 1794,
     "metadata": {},
     "output_type": "execute_result"
    }
   ],
   "source": [
    "# Объявление новых объектов классов для тестов.\n",
    "drop_txn_part_data = FraudTransPartialData(merchants_df=pd.DataFrame(), client_info=clients_with_geo.loc[0], \\\n",
    "                                        online_merchant_ids=pd.DataFrame(), fraud_ips=fraud_ips, used_ips=pd.Series(), \\\n",
    "                                         fraud_devices=fraud_devices,  used_devices=pd.Series(), \\\n",
    "                                        client_devices=client_devices)\n",
    "\n",
    "\n",
    "drop_client_test2 = DropClient(accounts=accounts, account=1, outer_accounts=outer_accounts)\n",
    "\n",
    "create_drop_txn_tst = CreateDropTxn(timestamps=drop_stamps, trans_partial_data=drop_txn_part_data, drop_client_cls=drop_client_test2, \\\n",
    "                                      in_txns=0, out_txns=0, in_lim=6, out_lim=8, last_txn={}, attempts=0)\n",
    "create_drop_txn_tst.reset_cache(only_counters=False)\n",
    "create_drop_txn_tst.in_txns, create_drop_txn_tst.out_txns, drop_client_test2.batch_txns, create_drop_txn_tst.limit_reached()"
   ]
  },
  {
   "cell_type": "code",
   "execution_count": null,
   "id": "fede3010-b579-40a8-8d21-e5f737bec979",
   "metadata": {},
   "outputs": [],
   "source": [
    "create_drop_txn_tst.reset_cache(only_counters=False)\n",
    "drop_client_test2.reset_cache(balance=True, used_accounts=True, chunk_size=True, batch_txns=True)\n",
    "all_txns5 = []\n",
    "declined=False\n",
    "create_drop_txn_tst.attempts_after_decline(min=0, max=1)\n",
    "drop_client_test2.chunk_size = 5000\n",
    "drop_client_test2.batch_txns = 1\n",
    "\n",
    "i = 1\n",
    "\n",
    "while True:\n",
    "    receive_txn8 = create_drop_txn_tst.single_operation(online=True, declined=declined, in_chunks=False, receive=True)\n",
    "    all_txns5.append(receive_txn8)\n",
    "    if declined:\n",
    "        break\n",
    "        \n",
    "    while drop_client_test2.balance > 0:\n",
    "        part_out = create_drop_txn_tst.cash_flow_action(online=True, receive=False, declined=declined, in_chunks=True)\n",
    "        all_txns5.append(declined)\n",
    "        print(f\"iter {i}\")\n",
    "        create_drop_txn_tst.deduct_attempts(declined=declined, receive=False) \n",
    "        if create_drop_txn_tst.stop_after_decline(declined=declined):\n",
    "            break\n",
    "           \n",
    "        declined = create_drop_txn_tst.limit_reached()\n",
    "        i += 1\n",
    "        \n",
    "    # pd.DataFrame(all_txns5)"
   ]
  },
  {
   "cell_type": "code",
   "execution_count": null,
   "id": "8a6b4758-dd95-4bc0-aae8-b737b9ea7f0f",
   "metadata": {},
   "outputs": [],
   "source": []
  },
  {
   "cell_type": "code",
   "execution_count": null,
   "id": "dbed747e-fb79-4ee1-8ec0-f7c1260a83f5",
   "metadata": {},
   "outputs": [],
   "source": []
  },
  {
   "cell_type": "code",
   "execution_count": null,
   "id": "7dbf2e1a-bcc0-4399-9568-9b2421e327f2",
   "metadata": {},
   "outputs": [],
   "source": []
  },
  {
   "cell_type": "markdown",
   "id": "a1ace9af-612f-4bcb-a834-5c5bdfca5678",
   "metadata": {},
   "source": [
    "Ниже нерабочий код т.к. это прикидки с криптой"
   ]
  },
  {
   "cell_type": "code",
   "execution_count": 1795,
   "id": "8e06d170-674c-4223-9c69-c20516c96747",
   "metadata": {},
   "outputs": [
    {
     "name": "stdout",
     "output_type": "stream",
     "text": [
      "iter 1\n",
      "iter 2\n",
      "iter 3\n",
      "iter 4\n",
      "iter 5\n",
      "iter 6\n",
      "iter 7\n",
      "iter 8\n",
      "iter 9\n"
     ]
    }
   ],
   "source": [
    "create_drop_txn_tst.reset_cache(only_counters=False)\n",
    "drop_client_test2.reset_cache(balance=True, used_accounts=True, chunk_size=True, batch_txns=True)\n",
    "all_txns5 = []\n",
    "declined=False\n",
    "crypto_rate = 0.05\n",
    "create_drop_txn_tst.attempts_after_decline(min=0, max=1)\n",
    "drop_client_test2.chunk_size = 5000\n",
    "drop_client_test2.batch_txns = 1\n",
    "\n",
    "i = 1\n",
    "\n",
    "while True:\n",
    "    receive_txn8 = create_drop_txn_tst.single_operation(online=True, declined=declined, in_chunks=False, receive=True)\n",
    "    all_txns5.append(receive_txn8)\n",
    "    if declined:\n",
    "        break\n",
    "        \n",
    "    while drop_client_test2.balance > 0:\n",
    "        if np.random.uniform(0, 1) < crypto_rate:\n",
    "            # использовать метод FraudTransPartialData.original_purchase внутри\n",
    "            part_out = create_drop_txn_tst.purchase(online=True, declined=declined, in_chunks=True, channel=\"crypto_exchange\")\n",
    "        else:\n",
    "            part_out = create_drop_txn_tst.cash_flow_action(online=True, receive=False, declined=declined, in_chunks=True)\n",
    "        all_txns5.append(part_out)\n",
    "        print(f\"iter {i}\")\n",
    "        create_drop_txn_tst.deduct_attempts(declined=declined, receive=False) \n",
    "        if create_drop_txn_tst.stop_after_decline(declined=declined):\n",
    "            break\n",
    "           \n",
    "        declined = create_drop_txn_tst.limit_reached()\n",
    "        i += 1\n",
    "        \n",
    "    # pd.DataFrame(all_txns5)"
   ]
  },
  {
   "cell_type": "code",
   "execution_count": 1798,
   "id": "054fe891-e681-4292-9c97-01d18770e51f",
   "metadata": {},
   "outputs": [
    {
     "data": {
      "text/html": [
       "<div>\n",
       "<style scoped>\n",
       "    .dataframe tbody tr th:only-of-type {\n",
       "        vertical-align: middle;\n",
       "    }\n",
       "\n",
       "    .dataframe tbody tr th {\n",
       "        vertical-align: top;\n",
       "    }\n",
       "\n",
       "    .dataframe thead th {\n",
       "        text-align: right;\n",
       "    }\n",
       "</style>\n",
       "<table border=\"1\" class=\"dataframe\">\n",
       "  <thead>\n",
       "    <tr style=\"text-align: right;\">\n",
       "      <th></th>\n",
       "      <th>client_id</th>\n",
       "      <th>txn_time</th>\n",
       "      <th>unix_time</th>\n",
       "      <th>amount</th>\n",
       "      <th>type</th>\n",
       "      <th>channel</th>\n",
       "      <th>category</th>\n",
       "      <th>online</th>\n",
       "      <th>merchant_id</th>\n",
       "      <th>trans_city</th>\n",
       "      <th>trans_lat</th>\n",
       "      <th>trans_lon</th>\n",
       "      <th>trans_ip</th>\n",
       "      <th>device_id</th>\n",
       "      <th>account_to</th>\n",
       "      <th>is_fraud</th>\n",
       "      <th>is_suspicious</th>\n",
       "      <th>status</th>\n",
       "      <th>rule</th>\n",
       "    </tr>\n",
       "  </thead>\n",
       "  <tbody>\n",
       "    <tr>\n",
       "      <th>0</th>\n",
       "      <td>1</td>\n",
       "      <td>2025-01-26 19:17:00</td>\n",
       "      <td>1737919020</td>\n",
       "      <td>9000.0</td>\n",
       "      <td>inbound</td>\n",
       "      <td>transfer</td>\n",
       "      <td>not applicable</td>\n",
       "      <td>True</td>\n",
       "      <td>NaN</td>\n",
       "      <td>not applicable</td>\n",
       "      <td>NaN</td>\n",
       "      <td>NaN</td>\n",
       "      <td>not applicable</td>\n",
       "      <td>&lt;NA&gt;</td>\n",
       "      <td>1</td>\n",
       "      <td>False</td>\n",
       "      <td>False</td>\n",
       "      <td>approved</td>\n",
       "      <td>not applicable</td>\n",
       "    </tr>\n",
       "    <tr>\n",
       "      <th>1</th>\n",
       "      <td>1</td>\n",
       "      <td>2025-01-26 19:54:00</td>\n",
       "      <td>1737921240</td>\n",
       "      <td>5000.0</td>\n",
       "      <td>outbound</td>\n",
       "      <td>transfer</td>\n",
       "      <td>not applicable</td>\n",
       "      <td>True</td>\n",
       "      <td>NaN</td>\n",
       "      <td>Рязань</td>\n",
       "      <td>54.625457</td>\n",
       "      <td>39.735999</td>\n",
       "      <td>2.60.0.1</td>\n",
       "      <td>2</td>\n",
       "      <td>17264</td>\n",
       "      <td>False</td>\n",
       "      <td>False</td>\n",
       "      <td>approved</td>\n",
       "      <td>not applicable</td>\n",
       "    </tr>\n",
       "    <tr>\n",
       "      <th>2</th>\n",
       "      <td>1</td>\n",
       "      <td>2025-01-26 22:17:00</td>\n",
       "      <td>1737929820</td>\n",
       "      <td>4000.0</td>\n",
       "      <td>outbound</td>\n",
       "      <td>transfer</td>\n",
       "      <td>not applicable</td>\n",
       "      <td>True</td>\n",
       "      <td>NaN</td>\n",
       "      <td>Рязань</td>\n",
       "      <td>54.625457</td>\n",
       "      <td>39.735999</td>\n",
       "      <td>2.60.0.1</td>\n",
       "      <td>2</td>\n",
       "      <td>18967</td>\n",
       "      <td>False</td>\n",
       "      <td>False</td>\n",
       "      <td>approved</td>\n",
       "      <td>not applicable</td>\n",
       "    </tr>\n",
       "    <tr>\n",
       "      <th>3</th>\n",
       "      <td>1</td>\n",
       "      <td>2025-01-26 23:24:00</td>\n",
       "      <td>1737933840</td>\n",
       "      <td>32500.0</td>\n",
       "      <td>inbound</td>\n",
       "      <td>transfer</td>\n",
       "      <td>not applicable</td>\n",
       "      <td>True</td>\n",
       "      <td>NaN</td>\n",
       "      <td>not applicable</td>\n",
       "      <td>NaN</td>\n",
       "      <td>NaN</td>\n",
       "      <td>not applicable</td>\n",
       "      <td>&lt;NA&gt;</td>\n",
       "      <td>1</td>\n",
       "      <td>False</td>\n",
       "      <td>False</td>\n",
       "      <td>approved</td>\n",
       "      <td>not applicable</td>\n",
       "    </tr>\n",
       "    <tr>\n",
       "      <th>4</th>\n",
       "      <td>1</td>\n",
       "      <td>2025-01-27 21:51:00</td>\n",
       "      <td>1738014660</td>\n",
       "      <td>5000.0</td>\n",
       "      <td>outbound</td>\n",
       "      <td>transfer</td>\n",
       "      <td>not applicable</td>\n",
       "      <td>True</td>\n",
       "      <td>NaN</td>\n",
       "      <td>Рязань</td>\n",
       "      <td>54.625457</td>\n",
       "      <td>39.735999</td>\n",
       "      <td>2.60.0.1</td>\n",
       "      <td>2</td>\n",
       "      <td>20290</td>\n",
       "      <td>False</td>\n",
       "      <td>False</td>\n",
       "      <td>approved</td>\n",
       "      <td>not applicable</td>\n",
       "    </tr>\n",
       "    <tr>\n",
       "      <th>5</th>\n",
       "      <td>1</td>\n",
       "      <td>2025-01-28 19:29:00</td>\n",
       "      <td>1738092540</td>\n",
       "      <td>5000.0</td>\n",
       "      <td>outbound</td>\n",
       "      <td>transfer</td>\n",
       "      <td>not applicable</td>\n",
       "      <td>True</td>\n",
       "      <td>NaN</td>\n",
       "      <td>Рязань</td>\n",
       "      <td>54.625457</td>\n",
       "      <td>39.735999</td>\n",
       "      <td>2.60.0.1</td>\n",
       "      <td>2</td>\n",
       "      <td>20575</td>\n",
       "      <td>False</td>\n",
       "      <td>False</td>\n",
       "      <td>approved</td>\n",
       "      <td>not applicable</td>\n",
       "    </tr>\n",
       "    <tr>\n",
       "      <th>6</th>\n",
       "      <td>1</td>\n",
       "      <td>2025-01-29 18:13:00</td>\n",
       "      <td>1738174380</td>\n",
       "      <td>5000.0</td>\n",
       "      <td>outbound</td>\n",
       "      <td>transfer</td>\n",
       "      <td>not applicable</td>\n",
       "      <td>True</td>\n",
       "      <td>NaN</td>\n",
       "      <td>Рязань</td>\n",
       "      <td>54.625457</td>\n",
       "      <td>39.735999</td>\n",
       "      <td>2.60.0.1</td>\n",
       "      <td>1</td>\n",
       "      <td>19220</td>\n",
       "      <td>False</td>\n",
       "      <td>False</td>\n",
       "      <td>approved</td>\n",
       "      <td>not applicable</td>\n",
       "    </tr>\n",
       "    <tr>\n",
       "      <th>7</th>\n",
       "      <td>1</td>\n",
       "      <td>2025-01-30 16:10:00</td>\n",
       "      <td>1738253400</td>\n",
       "      <td>5000.0</td>\n",
       "      <td>outbound</td>\n",
       "      <td>transfer</td>\n",
       "      <td>not applicable</td>\n",
       "      <td>True</td>\n",
       "      <td>NaN</td>\n",
       "      <td>Рязань</td>\n",
       "      <td>54.625457</td>\n",
       "      <td>39.735999</td>\n",
       "      <td>2.60.0.1</td>\n",
       "      <td>1</td>\n",
       "      <td>23528</td>\n",
       "      <td>False</td>\n",
       "      <td>False</td>\n",
       "      <td>approved</td>\n",
       "      <td>not applicable</td>\n",
       "    </tr>\n",
       "    <tr>\n",
       "      <th>8</th>\n",
       "      <td>1</td>\n",
       "      <td>2025-01-31 13:16:00</td>\n",
       "      <td>1738329360</td>\n",
       "      <td>5000.0</td>\n",
       "      <td>outbound</td>\n",
       "      <td>transfer</td>\n",
       "      <td>not applicable</td>\n",
       "      <td>True</td>\n",
       "      <td>NaN</td>\n",
       "      <td>Рязань</td>\n",
       "      <td>54.625457</td>\n",
       "      <td>39.735999</td>\n",
       "      <td>2.60.0.1</td>\n",
       "      <td>2</td>\n",
       "      <td>24752</td>\n",
       "      <td>False</td>\n",
       "      <td>False</td>\n",
       "      <td>approved</td>\n",
       "      <td>not applicable</td>\n",
       "    </tr>\n",
       "    <tr>\n",
       "      <th>9</th>\n",
       "      <td>1</td>\n",
       "      <td>2025-02-01 10:57:00</td>\n",
       "      <td>1738407420</td>\n",
       "      <td>5000.0</td>\n",
       "      <td>outbound</td>\n",
       "      <td>transfer</td>\n",
       "      <td>not applicable</td>\n",
       "      <td>True</td>\n",
       "      <td>NaN</td>\n",
       "      <td>Рязань</td>\n",
       "      <td>54.625457</td>\n",
       "      <td>39.735999</td>\n",
       "      <td>2.60.0.1</td>\n",
       "      <td>1</td>\n",
       "      <td>16527</td>\n",
       "      <td>False</td>\n",
       "      <td>False</td>\n",
       "      <td>approved</td>\n",
       "      <td>not applicable</td>\n",
       "    </tr>\n",
       "    <tr>\n",
       "      <th>10</th>\n",
       "      <td>1</td>\n",
       "      <td>2025-02-02 10:50:00</td>\n",
       "      <td>1738493400</td>\n",
       "      <td>2500.0</td>\n",
       "      <td>outbound</td>\n",
       "      <td>transfer</td>\n",
       "      <td>not applicable</td>\n",
       "      <td>True</td>\n",
       "      <td>NaN</td>\n",
       "      <td>Рязань</td>\n",
       "      <td>54.625457</td>\n",
       "      <td>39.735999</td>\n",
       "      <td>2.60.0.1</td>\n",
       "      <td>1</td>\n",
       "      <td>16215</td>\n",
       "      <td>True</td>\n",
       "      <td>False</td>\n",
       "      <td>declined</td>\n",
       "      <td>client_is_drop</td>\n",
       "    </tr>\n",
       "    <tr>\n",
       "      <th>11</th>\n",
       "      <td>1</td>\n",
       "      <td>2025-02-03 11:57:00</td>\n",
       "      <td>1738583820</td>\n",
       "      <td>35000.0</td>\n",
       "      <td>inbound</td>\n",
       "      <td>transfer</td>\n",
       "      <td>not applicable</td>\n",
       "      <td>True</td>\n",
       "      <td>NaN</td>\n",
       "      <td>not applicable</td>\n",
       "      <td>NaN</td>\n",
       "      <td>NaN</td>\n",
       "      <td>not applicable</td>\n",
       "      <td>&lt;NA&gt;</td>\n",
       "      <td>1</td>\n",
       "      <td>True</td>\n",
       "      <td>False</td>\n",
       "      <td>declined</td>\n",
       "      <td>client_is_drop</td>\n",
       "    </tr>\n",
       "  </tbody>\n",
       "</table>\n",
       "</div>"
      ],
      "text/plain": [
       "    client_id            txn_time   unix_time   amount      type   channel  \\\n",
       "0           1 2025-01-26 19:17:00  1737919020   9000.0   inbound  transfer   \n",
       "1           1 2025-01-26 19:54:00  1737921240   5000.0  outbound  transfer   \n",
       "2           1 2025-01-26 22:17:00  1737929820   4000.0  outbound  transfer   \n",
       "3           1 2025-01-26 23:24:00  1737933840  32500.0   inbound  transfer   \n",
       "4           1 2025-01-27 21:51:00  1738014660   5000.0  outbound  transfer   \n",
       "5           1 2025-01-28 19:29:00  1738092540   5000.0  outbound  transfer   \n",
       "6           1 2025-01-29 18:13:00  1738174380   5000.0  outbound  transfer   \n",
       "7           1 2025-01-30 16:10:00  1738253400   5000.0  outbound  transfer   \n",
       "8           1 2025-01-31 13:16:00  1738329360   5000.0  outbound  transfer   \n",
       "9           1 2025-02-01 10:57:00  1738407420   5000.0  outbound  transfer   \n",
       "10          1 2025-02-02 10:50:00  1738493400   2500.0  outbound  transfer   \n",
       "11          1 2025-02-03 11:57:00  1738583820  35000.0   inbound  transfer   \n",
       "\n",
       "          category  online  merchant_id      trans_city  trans_lat  trans_lon  \\\n",
       "0   not applicable    True          NaN  not applicable        NaN        NaN   \n",
       "1   not applicable    True          NaN          Рязань  54.625457  39.735999   \n",
       "2   not applicable    True          NaN          Рязань  54.625457  39.735999   \n",
       "3   not applicable    True          NaN  not applicable        NaN        NaN   \n",
       "4   not applicable    True          NaN          Рязань  54.625457  39.735999   \n",
       "5   not applicable    True          NaN          Рязань  54.625457  39.735999   \n",
       "6   not applicable    True          NaN          Рязань  54.625457  39.735999   \n",
       "7   not applicable    True          NaN          Рязань  54.625457  39.735999   \n",
       "8   not applicable    True          NaN          Рязань  54.625457  39.735999   \n",
       "9   not applicable    True          NaN          Рязань  54.625457  39.735999   \n",
       "10  not applicable    True          NaN          Рязань  54.625457  39.735999   \n",
       "11  not applicable    True          NaN  not applicable        NaN        NaN   \n",
       "\n",
       "          trans_ip device_id  account_to  is_fraud  is_suspicious    status  \\\n",
       "0   not applicable      <NA>           1     False          False  approved   \n",
       "1         2.60.0.1         2       17264     False          False  approved   \n",
       "2         2.60.0.1         2       18967     False          False  approved   \n",
       "3   not applicable      <NA>           1     False          False  approved   \n",
       "4         2.60.0.1         2       20290     False          False  approved   \n",
       "5         2.60.0.1         2       20575     False          False  approved   \n",
       "6         2.60.0.1         1       19220     False          False  approved   \n",
       "7         2.60.0.1         1       23528     False          False  approved   \n",
       "8         2.60.0.1         2       24752     False          False  approved   \n",
       "9         2.60.0.1         1       16527     False          False  approved   \n",
       "10        2.60.0.1         1       16215      True          False  declined   \n",
       "11  not applicable      <NA>           1      True          False  declined   \n",
       "\n",
       "              rule  \n",
       "0   not applicable  \n",
       "1   not applicable  \n",
       "2   not applicable  \n",
       "3   not applicable  \n",
       "4   not applicable  \n",
       "5   not applicable  \n",
       "6   not applicable  \n",
       "7   not applicable  \n",
       "8   not applicable  \n",
       "9   not applicable  \n",
       "10  client_is_drop  \n",
       "11  client_is_drop  "
      ]
     },
     "execution_count": 1798,
     "metadata": {},
     "output_type": "execute_result"
    }
   ],
   "source": [
    "pd.DataFrame(all_txns5)"
   ]
  },
  {
   "cell_type": "code",
   "execution_count": 1799,
   "id": "919c0c01-a245-4264-9afb-2abcccebaa18",
   "metadata": {},
   "outputs": [
    {
     "data": {
      "text/plain": [
       "np.float64(2500.0)"
      ]
     },
     "execution_count": 1799,
     "metadata": {},
     "output_type": "execute_result"
    }
   ],
   "source": []
  },
  {
   "cell_type": "markdown",
   "id": "09e7f8cc-ff51-42f1-882d-e8a450110296",
   "metadata": {},
   "source": [
    "## Функция генерации транзакции дропа `gen_drop_txn`"
   ]
  },
  {
   "cell_type": "code",
   "execution_count": 1074,
   "id": "7b5bb952-cdbe-447f-96d0-e50830709442",
   "metadata": {},
   "outputs": [],
   "source": [
    "def one_batch_dist(drop_info, drop_client_act: DropClient, batch):\n",
    "    \"\"\"\n",
    "    Распределение дропом одной партии полученных денег\n",
    "    -------------------\n",
    "    drop_info - namedtuples из itertuples(). Информация клиента-дропа из общего датафрейма клиентов\n",
    "    drop_client_act - DropClient. Генератор атрибутов дропа и его действий; генератор счетов транзакций дропа\n",
    "    batch - int. id партии денег полученной дропом.\n",
    "    \"\"\"\n",
    "    amount_received = drop_client_act.received(batch=batch)\n",
    "    scenario = np.random.choice([\"atm-only\", \"transfer+atm\", \"transfer\", \"transfer_chunks\"])\n",
    "    for i in range(n):\n",
    "        if i == 0:\n",
    "            first = True\n",
    "        else:\n",
    "            first = False\n",
    "        \n",
    "        if scenario == \"atm-only\":\n",
    "            atm_withdrawal()\n",
    "            \n",
    "        elif scenario == \"atm+transfer\":\n",
    "            atm_withdrawal()"
   ]
  },
  {
   "cell_type": "markdown",
   "id": "fb5bb613-2e35-413b-8dbe-6723a3dd83c0",
   "metadata": {},
   "source": [
    "## Функция генерации активности дропа `drop_activity`"
   ]
  },
  {
   "cell_type": "code",
   "execution_count": null,
   "id": "3ab4bdc1-6a9b-449c-b050-05438ce51f42",
   "metadata": {},
   "outputs": [],
   "source": [
    "def drop_activity(drop_info, drop_client_act: DropClient, lifetime):\n",
    "    \"\"\"\n",
    "    drop_info - namedtuples из itertuples(). Информация клиента-дропа из общего датафрейма клиентов\n",
    "    drop_client_act - DropClient. Генератор атрибутов дропа и его действий; генератор счетов транзакций дропа.\n",
    "    lifetime - int. Сколько дней дроп будет проявлять активность, учитывая даже отклоненные транзакции\n",
    "    \"\"\"\n",
    "    amount_received = drop_client_act.received(batch=)\n",
    "    scenario = np.random.choice([\"atm-only\", \"transfer+atm\", \"transfer\", \"transfer_chunks\"])\n",
    "    for i in range(n):\n",
    "        if i == 0:\n",
    "            first = True\n",
    "        else:\n",
    "            first = False\n",
    "        \n",
    "        if scenario == \"atm-only\":\n",
    "            atm_withdrawal()\n",
    "            \n",
    "        elif scenario == \"atm+transfer\":\n",
    "            atm_withdrawal()"
   ]
  },
  {
   "cell_type": "code",
   "execution_count": 1077,
   "id": "9d437755-9e76-475c-8662-0778e5a8c6c5",
   "metadata": {},
   "outputs": [
    {
     "data": {
      "text/plain": [
       "\u001b[31mSignature:\u001b[39m\n",
       "DropClient.receive(\n",
       "    self,\n",
       "    batch,\n",
       "    low=\u001b[32m5000\u001b[39m,\n",
       "    high=\u001b[32m100000\u001b[39m,\n",
       "    mean=\u001b[32m30000\u001b[39m,\n",
       "    std=\u001b[32m20000\u001b[39m,\n",
       "    round=\u001b[32m500\u001b[39m,\n",
       ")\n",
       "\u001b[31mDocstring:\u001b[39m\n",
       "Генерация суммы входящего перевода\n",
       "--------------------------\n",
       "batch - int. id текущей партии денег, которую он должен распределить (снять, перевести)\n",
       "low - float. Минимальная сумма\n",
       "high - float. Максимальная сумма\n",
       "mean - float. Средняя сумма\n",
       "std - float. Стандартное отклонение\n",
       "round - int. Округление целой части. По умолчанию 500. Значит числа будут либо с 500 либо с 000 на конце.\n",
       "             При условии что round не больше low и high. Чтобы отменить округление, нужно выставить 1.\n",
       "\u001b[31mFile:\u001b[39m      c:\\users\\iaros\\appdata\\local\\temp\\ipykernel_7648\\484414114.py\n",
       "\u001b[31mType:\u001b[39m      function"
      ]
     },
     "metadata": {},
     "output_type": "display_data"
    }
   ],
   "source": [
    "?DropClient.receive"
   ]
  },
  {
   "cell_type": "markdown",
   "id": "3f8c9ee8-21f3-4fae-add7-b40f1ce5f415",
   "metadata": {},
   "source": [
    "## Функция генерации входящих/исходящих переводов дропов"
   ]
  },
  {
   "cell_type": "code",
   "execution_count": null,
   "id": "af6c2095-486d-45b6-b393-e169507e5418",
   "metadata": {},
   "outputs": [],
   "source": [
    "def drop_transfer(type, first, configs: ConfigForTrans, fraud_amount: TransAmount, \\\n",
    "                 trans_part_data: FraudTransPartialData, last_txn_unix, accounts, lag_interval=None) -> dict:\n",
    "    \n",
    "\tif type == 'inbound':\n",
    "\t\tfraud_amount.transfer(type=type)\n",
    "\t\tfraud_amount.balance += amount\n",
    "\t\ttrans_part_data.original_data(online=True)\n",
    "        \n",
    "\telif type == 'outbound':\n",
    "\t\tTransAmount.transfer(type=type)\n",
    "\t\tTransAmount.balance -= amount\n",
    "\t\ttrans_part_data.original_data(online=True)\n",
    "\n",
    "\tif first:\n",
    "        timestamp_sample = configs.timestamps.sample(1)\n",
    "\t\ttxn_time = timestamp_sample.timestamp.iat[0]\n",
    "        txn_unix = timestamp_sample.unix_time.iat[0]\n",
    "\telse:\n",
    "\t\ttxn_time, txn_unix = derive_from_last_time(last_txn_unix=last_txn_unix, lag_interval=lag_interval)\n",
    "\n",
    "    account = accounts.sample(1).iat[0]\n",
    "\n",
    "\tbuild_trans()\n"
   ]
  },
  {
   "cell_type": "code",
   "execution_count": 820,
   "id": "12287a8c-dd5b-49be-9ad2-60ca02d5d76f",
   "metadata": {},
   "outputs": [
    {
     "data": {
      "text/plain": [
       "\u001b[31mSignature:\u001b[39m\n",
       "get_time_for_trans(\n",
       "    trans_df,\n",
       "    is_fraud,\n",
       "    time_weights,\n",
       "    timestamps,\n",
       "    timestamps_1st_month,\n",
       "    round_clock,\n",
       "    online=\u001b[38;5;28;01mNone\u001b[39;00m,\n",
       "    rule=\u001b[38;5;28;01mNone\u001b[39;00m,\n",
       "    geo_distance=\u001b[38;5;28;01mNone\u001b[39;00m,\n",
       "    lag=\u001b[38;5;28;01mNone\u001b[39;00m,\n",
       ")\n",
       "\u001b[31mDocstring:\u001b[39m\n",
       "trans_df - датафрейм с транзакциями текущего клиента. Откуда брать информацию по предыдущим транзакциям клиента\n",
       "is_fraud - boolean. Фрод или не фрод\n",
       "time_weights - датафрейм с весами часов в периоде времени\n",
       "timestamps - датафрейм с timestamps\n",
       "timestamps_1st_month - сабсет timestamps отфильтрованный по первому месяцу и, если применимо, году. Чтобы генерировать первые транзакции\n",
       "round_clock - boolean. Круглосуточная или дневная категория.\n",
       "online - boolean. Онлайн или оффлайн покупка. True or False\n",
       "rule - str. Название антифрод правила\n",
       "geo_distance - int. Дистанция между локацией последней и текущей транзакции если фрод со сменой геолокации - в километрах\n",
       "lag - boolean. Задержка по времени от предыдущей транзакции. Нужна для моделирования увеличения частоты транзакций.\n",
       "      Это задержка именно между последней легитимной транзакцией и серией частых фрод транзакций. Подразумевается что функция\n",
       "      get_time_for_trans будет использована в цикле, и для первой итерации lag будет True.\n",
       "\n",
       "Возвращает время для генерируемой транзакции в виде pd.Timestamp и в виде unix времени\n",
       "\u001b[31mFile:\u001b[39m      c:\\users\\iaros\\appdata\\local\\temp\\ipykernel_7648\\2964965603.py\n",
       "\u001b[31mType:\u001b[39m      function"
      ]
     },
     "metadata": {},
     "output_type": "display_data"
    }
   ],
   "source": [
    "?get_time_for_trans"
   ]
  },
  {
   "cell_type": "markdown",
   "id": "0f141f47-d74e-4dc7-b32e-f672752f9473",
   "metadata": {},
   "source": [
    "# Урезание количества клиентов - `отменено`\n",
    "**Думаю просто можно равновероятно семплировать n клиентов и все, без ухищрений как внизу**  \n",
    "Т.к. на ~5400 клиентов нужно очень много транзакций, чтобы у каждого их было хотя бы 50.  \n",
    "Условно 270000 транзакций по 50 на 5400 клиентов. Скорее всего генерироваться будут больше часа"
   ]
  },
  {
   "cell_type": "code",
   "execution_count": 436,
   "id": "44f0c719-c049-4d73-b690-7f42efe3f0d4",
   "metadata": {},
   "outputs": [],
   "source": [
    "# на данный момент примерно до 800.\n",
    "\n",
    "# clients_reduced_num = pd.DataFrame(districts_ru.clients.mul(0.15).round().astype(\"int\"))\n",
    "# clients_reduced_num[\"city\"] = districts_ru[\"area\"].copy()\n",
    "# clients_reduced_num\n",
    "\n",
    "# clients_reduced_df = gpd.GeoDataFrame(columns=clients_with_geo.columns)\n",
    "# # clients_reduced_df.columns = \n",
    "# for col, data_type in clients_with_geo.dtypes.items():\n",
    "#     # if data_type != \"geometry\" print(data_type)\n",
    "#     clients_reduced_df[col] = clients_reduced_df[col].astype(f\"{data_type}\")\n",
    "# # list(zip(clients_with_geo.dtypes.items(), clients_reduced_df.columns))\n",
    "# clients_reduced_df.dtypes\n",
    "\n",
    "# for row in clients_reduced_num.itertuples():\n",
    "#     clients_with_geo_part = clients_with_geo.loc[clients_with_geo[\"area\"] == row.city].iloc[0:row.clients]\n",
    "#     clients_reduced_df = pd.concat([clients_reduced_df,clients_with_geo_part])\n",
    "\n",
    "# clients_reduced_df"
   ]
  },
  {
   "cell_type": "code",
   "execution_count": null,
   "id": "2e60511e-1302-4e80-a416-e821da43f3a3",
   "metadata": {},
   "outputs": [],
   "source": []
  },
  {
   "cell_type": "code",
   "execution_count": null,
   "id": "6ab7683e-f333-46a5-ace8-df63d5a937b0",
   "metadata": {},
   "outputs": [],
   "source": []
  },
  {
   "cell_type": "code",
   "execution_count": null,
   "id": "5be99ed7-cc21-4cbd-b454-d56b750582ae",
   "metadata": {},
   "outputs": [],
   "source": []
  },
  {
   "cell_type": "code",
   "execution_count": null,
   "id": "7939b75b-e266-4cde-8249-c9b98671aa58",
   "metadata": {},
   "outputs": [],
   "source": []
  },
  {
   "cell_type": "code",
   "execution_count": null,
   "id": "288064bb-6698-40c2-9d7f-40bbdd8f864e",
   "metadata": {},
   "outputs": [],
   "source": []
  },
  {
   "cell_type": "code",
   "execution_count": null,
   "id": "0762f4d0-c01f-406a-9e0c-70702e533434",
   "metadata": {},
   "outputs": [],
   "source": []
  },
  {
   "cell_type": "code",
   "execution_count": null,
   "id": "47b566a1-9a42-472b-8915-42c0a3d14206",
   "metadata": {},
   "outputs": [],
   "source": []
  },
  {
   "cell_type": "code",
   "execution_count": null,
   "id": "cb70731a-cd97-4741-938b-a96019e34504",
   "metadata": {},
   "outputs": [],
   "source": []
  },
  {
   "cell_type": "code",
   "execution_count": null,
   "id": "adc188fd-70bc-4959-aacd-45e9e308e569",
   "metadata": {},
   "outputs": [],
   "source": []
  },
  {
   "cell_type": "code",
   "execution_count": null,
   "id": "84c29781-401f-4c2c-a384-31d8d41afd46",
   "metadata": {},
   "outputs": [],
   "source": []
  },
  {
   "cell_type": "code",
   "execution_count": null,
   "id": "d8a4f622-3f17-4eb5-b4cc-63e56a8e25a8",
   "metadata": {},
   "outputs": [],
   "source": []
  },
  {
   "cell_type": "code",
   "execution_count": null,
   "id": "2a3c6762-9644-4519-84f5-7890cd69dca7",
   "metadata": {},
   "outputs": [],
   "source": []
  },
  {
   "cell_type": "code",
   "execution_count": null,
   "id": "6b123219-e195-4cc1-9421-3e05d44e78b4",
   "metadata": {},
   "outputs": [],
   "source": []
  },
  {
   "cell_type": "code",
   "execution_count": null,
   "id": "6ad426d1-b818-433a-956b-708a86181c64",
   "metadata": {},
   "outputs": [],
   "source": []
  },
  {
   "cell_type": "code",
   "execution_count": null,
   "id": "8c7c5cfa-becf-4af4-82ae-f04a158568c3",
   "metadata": {},
   "outputs": [],
   "source": []
  },
  {
   "cell_type": "code",
   "execution_count": null,
   "id": "3c8a2f2e-f820-4449-9167-e0ef36a2fa63",
   "metadata": {},
   "outputs": [],
   "source": []
  },
  {
   "cell_type": "code",
   "execution_count": null,
   "id": "11c13f7e-c545-4cc1-b02c-190a81069b09",
   "metadata": {},
   "outputs": [],
   "source": []
  },
  {
   "cell_type": "code",
   "execution_count": null,
   "id": "d042357e-3ee1-4878-881b-39ff34bad961",
   "metadata": {},
   "outputs": [],
   "source": []
  },
  {
   "cell_type": "code",
   "execution_count": null,
   "id": "45d629d6-72a2-40f2-8480-70c97bb9350a",
   "metadata": {},
   "outputs": [],
   "source": []
  },
  {
   "cell_type": "code",
   "execution_count": null,
   "id": "7f0b6aa3-9db0-4279-b3f2-7567cc4de2de",
   "metadata": {},
   "outputs": [],
   "source": []
  },
  {
   "cell_type": "code",
   "execution_count": null,
   "id": "b85aacb6-c2d1-4fdc-beed-7b1b018fbeb5",
   "metadata": {},
   "outputs": [],
   "source": []
  },
  {
   "cell_type": "code",
   "execution_count": null,
   "id": "6c3b491b-565a-4052-bee2-0af55b80657e",
   "metadata": {},
   "outputs": [],
   "source": []
  },
  {
   "cell_type": "code",
   "execution_count": null,
   "id": "3d3008ad-4c28-4781-9b47-f97000b6e473",
   "metadata": {},
   "outputs": [],
   "source": []
  },
  {
   "cell_type": "code",
   "execution_count": null,
   "id": "6c539cbd-3caf-42c4-b034-8566d86a0349",
   "metadata": {},
   "outputs": [],
   "source": []
  },
  {
   "cell_type": "code",
   "execution_count": null,
   "id": "bb05dca9-c2cd-4980-9bf7-1997556e33a7",
   "metadata": {},
   "outputs": [],
   "source": []
  },
  {
   "cell_type": "markdown",
   "id": "e927ca5b-d562-413a-9750-46d20a4e1a18",
   "metadata": {},
   "source": [
    "# Старый код, функции и т.д."
   ]
  },
  {
   "cell_type": "markdown",
   "id": "d38d6843-442f-469f-a618-738c95b5a54b",
   "metadata": {},
   "source": [
    "## Класс `DropClient`\n",
    "- метод get_account(self): Мб добавить вариант to_drop: bool. Перевод другому имеющемуся дропу. при этом. \n",
    "    - записываем счет дропа в свой счет. Атрибут account\n",
    "    - записываем  счет дропа в атрибут drop_accounts\n",
    "    - если надо перевести другому дропу, то фильтруем drop_accounts исключая свой\n",
    "    - надо тогда клиентам приписать шестизначные счета. просто по порядку.\n",
    "    - счета куда отправляют дропы это номера начинающиеся со счета последнего клиента + 1"
   ]
  },
  {
   "cell_type": "code",
   "execution_count": null,
   "id": "58236419-c4ef-45a4-957b-d7a134a9a9f3",
   "metadata": {},
   "outputs": [],
   "source": [
    "# class DropClient: \n",
    "#     \"\"\"\n",
    "#     Генератор сумм входящих/исходящих транзакций, сумм снятий, номеров счетов.\n",
    "#     Управление балансом текущего дропа.\n",
    "#     \"\"\"\n",
    "#     def __init__(self, accounts, account, outer_accounts, balance=0, batch_txns=0, chunk_size=0, used_accounts=pd.Series(name=\"account_id\")):\n",
    "#         \"\"\"\n",
    "#         accounts - pd.DataFrame. Счета клиентов банка.\n",
    "#         account - int. Номер счета текущего дропа.\n",
    "#         outer_accounts - pd.Series. Номера счетов для входящих и исходящих переводов в/из других банков.\n",
    "#         balance - float. Текущий баланс дропа\n",
    "#         batch_txns - int. Счетчик транзакций сделанных в рамках распределения полученной партии денег\n",
    "#         chunk_size - int, float. Последний созданный размер части баланса для перевода по частям.\n",
    "#         used_accounts - pd.Series. Счета на которые дропы уже отправляли деньги.\n",
    "#         \"\"\"\n",
    "#         self.accounts = accounts\n",
    "#         self.account = account\n",
    "#         self.outer_accounts = outer_accounts\n",
    "#         self.balance = balance\n",
    "#         self.batch_txns = batch_txns\n",
    "#         self.chunk_size = chunk_size\n",
    "#         self.used_accounts = used_accounts\n",
    "\n",
    "#     def update_balance(self, amount, add=False, declined=False):\n",
    "#         \"\"\"\n",
    "#         Увеличить/уменьшить баланс на указанную сумму\n",
    "#         -------------------\n",
    "#         amount - float, int.\n",
    "#         add - bool. Прибавлять сумму или отнимать.\n",
    "#         declined - bool. Отклонена ли транзакция или одобрена.\n",
    "#         \"\"\"\n",
    "#         # Не обновлять баланс если транзакция отклонена.\n",
    "#         if declined:\n",
    "#             return\n",
    "            \n",
    "#         # Увеличить баланс   \n",
    "#         if add:\n",
    "#             self.balance += amount\n",
    "#             return\n",
    "            \n",
    "#         # Уменьшить баланс    \n",
    "#         self.balance -= amount\n",
    "\n",
    "#     def receive(self, declined, low=5000, high=100000, mean=30000, std=20000, round=500):\n",
    "#         \"\"\"\n",
    "#         Генерация суммы входящего перевода\n",
    "#         --------------------------\n",
    "#         declined - bool. Отклонена ли транзакция или одобрена\n",
    "#         low - float. Минимальная сумма\n",
    "#         high - float. Максимальная сумма\n",
    "#         mean - float. Средняя сумма\n",
    "#         std - float. Стандартное отклонение\n",
    "#         round - int. Округление целой части. По умолчанию 500. Значит числа будут либо с 500 либо с 000 на конце\n",
    "#                      При условии что round не больше low и high. Чтобы отменить округление, нужно выставить 1\n",
    "#         \"\"\"\n",
    "\n",
    "#         # Генерация суммы. Округление целой части при необходимости\n",
    "#         amount = get_values_from_truncnorm(low_bound=low, high_bound=high, mean=mean, std=std)[0] // round * round\n",
    "        \n",
    "#         # Обновляем баланс если транзакция не отклонена\n",
    "#         self.update_balance(amount=amount, add=True, declined=declined)\n",
    "        \n",
    "#         return amount\n",
    "\n",
    "#     def get_chunk_size(self, online=False, atm_min=10000, atm_share=0.5, round=500, rand_rate=0.9, start=0, stop=0, step=0):\n",
    "#         \"\"\"\n",
    "#         Вернуть случайный размер суммы перевода для перевода по частям\n",
    "#         либо вернуть долю от баланса для снятия/перевода по частям.\n",
    "#         -------------------------------\n",
    "#         online - bool. Онлайн или оффлайн. Перевод или банкомат. Если банкомат, то снимается доля atm_share от баланса, но не меньше atm_min\n",
    "#         atm_min - int, float. Минимальная сумма снятия дропом в банкомате.\n",
    "#         atm_share - float. Доля от баланса если снятие через банкомат.\n",
    "#         round - int. Округление целой части. По умолчанию 500. \n",
    "#                      Значит суммы будут округлены до тысяч или пяти сотен\n",
    "#         rand_rate - float. От 0 до 1. Процент случаев, когда каждый НЕ первый чанк будет случайным и не зависеть от предыдущего.\n",
    "#                            Но возможны случайные совпадаения с предыдущим размером чанка.\n",
    "#                            Доля случайных размеров подряд будет:\n",
    "#                            p(c) - вероятность взять определенный размер (зависит от размера выборки чанков)\n",
    "#                            p(rr) - rand_rate\n",
    "#                            p(rr) - (p(rr) * p(c)). Например p(rr) = 0.9, 5 вариантов размеров чанка - p(c) = 0.20\n",
    "#                            0.9 - (0.9 * 0.2) = 0.72\n",
    "#                            В около 72% случаев размеры чанков не будут подряд одинаковыми \n",
    "#         start - int. Минимальный размер. Прописываем если генерация не через share.\n",
    "#                      То же самое для stop и step\n",
    "#         stop - int. Максимальный размер - не входит в возможный выбор.\n",
    "#                     Максимальное генерируемое значение равно stop - step\n",
    "#         step - int. Шаг размеров.\n",
    "#         --------------------\n",
    "#         Возвращает np.int64\n",
    "#         Результат кэшируется в self.chunk_size\n",
    "#         \"\"\"\n",
    "#         # Если это не первая транзакция в серии транзакции для одной полученной дропом суммы\n",
    "#         # И случайное число больше rand_rate, то просто возвращаем ранее созданный размер чанка\n",
    "#         if self.batch_txns != 0 and np.random.uniform(0,1) > rand_rate:\n",
    "#             return self.chunk_size\n",
    "\n",
    "#         # Если перевод\n",
    "#         if online:\n",
    "#             sampling_array = np.arange(start, stop, step)\n",
    "#             self.chunk_size = np.random.choice(sampling_array)\n",
    "#             return self.chunk_size\n",
    "            \n",
    "#         # Если снятие    \n",
    "#         self.chunk_size = max(atm_min, self.balance * atm_share // round * round)\n",
    "#         return self.chunk_size\n",
    "            \n",
    "        \n",
    "#     def one_operation(self, amount=0, declined=False, in_chunks=False):\n",
    "#         \"\"\"\n",
    "#         Генерация суммы операции дропа.\n",
    "#         ---------\n",
    "#         amount - float, int. Сумма перевода если перевод по частям - in_chunks == True\n",
    "#         declined - bool. Отклонена ли транзакция или одобрена\n",
    "#         in_chunks - bool. Перевод по частям или целиком. Если False, то просто пробуем перевести все с баланса\n",
    "#                           При True нужно указать amount.\n",
    "#         \"\"\"\n",
    "#         if in_chunks and amount <= 0:\n",
    "#             raise ValueError(f\"\"\"If in_chunks is True, then amount must be greater than 0.\n",
    "# Passed amount: {amount}\"\"\")\n",
    "\n",
    "#         # Если перевод не по частям. Пробуем перевестит все с баланса. \n",
    "#         if not in_chunks:\n",
    "#             amount = self.balance\n",
    "#             self.update_balance(amount=self.balance, add=False, declined=declined)\n",
    "#             # Прибавляем счетчик транзакции для текущей партии денег\n",
    "#             self.batch_txns += 1\n",
    "#             return amount\n",
    "\n",
    "#         # Иначе считаем сколько частей исходя из размера одной части\n",
    "#         chunks = self.balance // amount\n",
    "\n",
    "#         # Если целое число частей больше 0. Пробуем перевести одну часть\n",
    "#         if chunks > 0:\n",
    "#             self.update_balance(amount=amount, add=False, declined=declined)\n",
    "#             self.batch_txns += 1\n",
    "#             return amount\n",
    "\n",
    "#         # Если баланс меньше одной части. Пробуем перевести то что осталось\n",
    "#         rest = self.balance\n",
    "#         self.update_balance(amount=rest, add=False, declined=declined)\n",
    "#         self.batch_txns += 1\n",
    "#         return rest\n",
    "\n",
    "#     def get_account(self, to_drop):\n",
    "#         \"\"\"\n",
    "#         Номер счета входящего/исходящего перевода\n",
    "#         to_drop - bool. Перевод другому дропу в нашем банке или нет.\n",
    "#         \"\"\"\n",
    "#         # Фильтруем accounts исключая свой счет и выбирая дропов. Для случая если to_drop\n",
    "#         drop_accounts = self.accounts.loc[(self.accounts.account_id != self.account) & (self.accounts.is_drop == True)]\n",
    "\n",
    "#         # Если надо отправить другому дропу в нашем банке. При условии что есть другие дропы на текущий момент\n",
    "#         if to_drop and not drop_accounts.empty: \n",
    "#             account = drop_accounts.account_id.sample(1).iat[0]\n",
    "#             # Добавляем этот счет в использованные как последнюю запись в серии\n",
    "#             self.used_accounts.loc[self.used_accounts.shape[0]] = account\n",
    "#             return account\n",
    "\n",
    "#         # Если отправляем/получаем из другого банка.  \n",
    "#         # Семплируем номер внешнего счета который еще не использовался\n",
    "#         account = self.outer_accounts.loc[~(self.outer_accounts.isin(self.used_accounts))].sample(1).iat[0]\n",
    "#         # Добавляем этот счет в использованные как последнюю запись в серии\n",
    "#         self.used_accounts.loc[self.used_accounts.shape[0]] = account\n",
    "        \n",
    "#         return account\n",
    "\n",
    "#     def reset_cache(self, balance=True, used_accounts=True, chunk_size=True, batch_txns=True):\n",
    "#         \"\"\"\n",
    "#         Сброс кэшированных значений\n",
    "#         По умолчанию сбрасывается всё. Если что-то надо оставить, то надо выставить False\n",
    "#         для этого\n",
    "#         -----------------\n",
    "#         balance - bool\n",
    "#         used_accounts - bool\n",
    "#         chunk_size - bool\n",
    "#         batch_txns - bool\n",
    "#         \"\"\"\n",
    "#         if balance:\n",
    "#             self.balance = 0\n",
    "#         if used_accounts:\n",
    "#             self.used_accounts = pd.Series(name=\"account_id\")\n",
    "#         if chunk_size:\n",
    "#             self.chunk_size = 0\n",
    "#         if batch_txns:\n",
    "#             self.batch_txns = 0"
   ]
  },
  {
   "cell_type": "code",
   "execution_count": null,
   "id": "1c1514a3-87af-43e0-97b9-00449c92ec7f",
   "metadata": {},
   "outputs": [],
   "source": []
  }
 ],
 "metadata": {
  "kernelspec": {
   "display_name": "Python 3 (ipykernel)",
   "language": "python",
   "name": "python3"
  },
  "language_info": {
   "codemirror_mode": {
    "name": "ipython",
    "version": 3
   },
   "file_extension": ".py",
   "mimetype": "text/x-python",
   "name": "python",
   "nbconvert_exporter": "python",
   "pygments_lexer": "ipython3",
   "version": "3.13.3"
  }
 },
 "nbformat": 4,
 "nbformat_minor": 5
}
