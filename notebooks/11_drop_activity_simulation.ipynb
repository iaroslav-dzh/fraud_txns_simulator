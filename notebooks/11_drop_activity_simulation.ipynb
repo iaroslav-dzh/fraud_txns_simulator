{
 "cells": [
  {
   "cell_type": "code",
   "execution_count": 1,
   "id": "bbae5b4f-3204-4d14-9b95-f4ac0713feaf",
   "metadata": {},
   "outputs": [],
   "source": [
    "import pandas as pd\n",
    "import numpy as np\n",
    "import matplotlib.pyplot as plt\n",
    "import seaborn as sns\n",
    "import os\n",
    "import pyarrow\n",
    "from dataclasses import dataclass\n",
    "import yaml\n",
    "from typing import Union"
   ]
  },
  {
   "cell_type": "code",
   "execution_count": 2,
   "id": "93365953-391c-4ad8-86ce-c7b17cef67d3",
   "metadata": {},
   "outputs": [
    {
     "data": {
      "text/plain": [
       "'C:\\\\Users\\\\iaros\\\\My_documents\\\\Education\\\\projects\\\\fraud_detection_01\\\\notebooks'"
      ]
     },
     "execution_count": 2,
     "metadata": {},
     "output_type": "execute_result"
    }
   ],
   "source": [
    "os.getcwd()"
   ]
  },
  {
   "cell_type": "code",
   "execution_count": 3,
   "id": "a72408c6-94be-469d-bfd0-f172fa0d5b8f",
   "metadata": {},
   "outputs": [
    {
     "data": {
      "text/plain": [
       "'C:\\\\Users\\\\iaros\\\\My_documents\\\\Education\\\\projects\\\\fraud_detection_01'"
      ]
     },
     "execution_count": 3,
     "metadata": {},
     "output_type": "execute_result"
    }
   ],
   "source": [
    "os.chdir(\"..\")\n",
    "os.getcwd()"
   ]
  },
  {
   "cell_type": "markdown",
   "id": "4b09db79-7db0-477f-8823-8701516efd8f",
   "metadata": {},
   "source": [
    "## Загрузка конфигураций"
   ]
  },
  {
   "cell_type": "code",
   "execution_count": 4,
   "id": "738b6376-fc32-4bf6-8f27-c9d562089114",
   "metadata": {},
   "outputs": [],
   "source": [
    "# Общие настройки\n",
    "with open(\"./config/base.yaml\") as f:\n",
    "    base_cfg = yaml.safe_load(f)\n",
    "# Настройки фрода\n",
    "with open(\"./config/fraud.yaml\") as f:\n",
    "    fraud_cfg = yaml.safe_load(f)\n",
    "# Настройки фрода для дропов\n",
    "with open(\"./config/drops.yaml\", encoding=\"utf8\") as f:\n",
    "    drops_cfg = yaml.safe_load(f)\n",
    "# Настройки времени\n",
    "with open(\"./config/time.yaml\") as f:\n",
    "    time_cfg = yaml.safe_load(f)"
   ]
  },
  {
   "cell_type": "markdown",
   "id": "c0df9be0-4dc3-42ee-86e5-d57dad7448c2",
   "metadata": {},
   "source": [
    "## Класс `DropBatchProcessor`"
   ]
  },
  {
   "cell_type": "code",
   "execution_count": 5,
   "id": "2ac02222-22b3-4639-8fba-1a7a7419f17a",
   "metadata": {},
   "outputs": [],
   "source": [
    "# ----------- ВСТАВИТЬ ГОТОВЫЙ КЛАСС СЮДА -------------------------"
   ]
  },
  {
   "cell_type": "markdown",
   "id": "98c81037-5e10-40f9-8a69-2b3a4f1c823d",
   "metadata": {},
   "source": [
    "**Тест `DropBatchProcessor`**"
   ]
  },
  {
   "cell_type": "code",
   "execution_count": 1,
   "id": "cbacc12f-7476-4324-977e-1600c0994cd3",
   "metadata": {},
   "outputs": [],
   "source": [
    "# Временный импорт\n",
    "import os\n",
    "import yaml\n",
    "import pandas as pd\n",
    "import numpy as np\n",
    "os.chdir(\"..\")\n",
    "\n",
    "# Общие настройки\n",
    "with open(\"./config/base.yaml\") as f:\n",
    "    base_cfg = yaml.safe_load(f)\n",
    "# Настройки фрода\n",
    "with open(\"./config/fraud.yaml\") as f:\n",
    "    fraud_cfg = yaml.safe_load(f)\n",
    "# Настройки фрода для дропов\n",
    "with open(\"./config/drops.yaml\", encoding=\"utf8\") as f:\n",
    "    drops_cfg = yaml.safe_load(f)\n",
    "# Настройки времени\n",
    "with open(\"./config/time.yaml\") as f:\n",
    "    time_cfg = yaml.safe_load(f)"
   ]
  },
  {
   "cell_type": "code",
   "execution_count": 2,
   "id": "60af8bfd-e376-4716-88e5-19d0354e968d",
   "metadata": {},
   "outputs": [
    {
     "data": {
      "text/plain": [
       "Pandas(Index=8, client_id=12890, district_id=70, birth_date='1958-01-20', sex='female', region='Новосибирская', area='Новосибирск', timezone='UTC+7', lat=55.0281016, lon=82.9210575, population=1498921, home_ip='2.60.20.172', geometry=<MULTIPOLYGON (((82.751 54.991, 82.751 54.991, 82.751 54.991, 82.752 54.991,...>)"
      ]
     },
     "execution_count": 2,
     "metadata": {},
     "output_type": "execute_result"
    }
   ],
   "source": [
    "from data_generator.fraud.drops.build.config import DropConfigBuilder\n",
    "from data_generator.fraud.drops.build.builder import DropBaseClasses\n",
    "from data_generator.fraud.drops.txns import CreateDropTxn\n",
    "from data_generator.fraud.drops.processor import DropBatchProcessor\n",
    "\n",
    "drop_cfg_build = DropConfigBuilder(base_cfg=base_cfg, fraud_cfg=fraud_cfg, drop_cfg=drops_cfg)\n",
    "configs = drop_cfg_build.build_dist_cfg()\n",
    "# configs = drop_cfg_build.build_purch_cfg()\n",
    "\n",
    "base_agg1 = DropBaseClasses(configs=configs)\n",
    "# base_agg1.build_all(drop_type=\"distributor\")\n",
    "base_agg1.build_all(drop_type=\"distributor\")\n",
    "acc_hand1 = base_agg1.acc_hand\n",
    "amt_hand1 = base_agg1.amt_hand\n",
    "part_data1 = base_agg1.part_data\n",
    "time_hand1 = base_agg1.time_hand\n",
    "behav_hand1 = base_agg1.behav_hand\n",
    "\n",
    "cr_drop_txn1 = CreateDropTxn(configs=configs, base=base_agg1)\n",
    "drop_clients = configs.clients\n",
    "\n",
    "batch_processor = DropBatchProcessor(base=base_agg1, create_txn=cr_drop_txn1)\n",
    "\n",
    "for client in drop_clients.iloc[[8]].itertuples():\n",
    "    part_data1.client_info = client\n",
    "    acc_hand1.client_id = client.client_id\n",
    "    acc_hand1.get_account(own=True)\n",
    "part_data1.client_info"
   ]
  },
  {
   "cell_type": "code",
   "execution_count": 4,
   "id": "ee553ff5-8b41-42ac-8c47-a97856c56706",
   "metadata": {},
   "outputs": [],
   "source": [
    "def reset_caches(cr_drop_txn, behav_hand, amt_hand, time_hand, part_data, processor):\n",
    "    cr_drop_txn.reset_cache()\n",
    "    behav_hand.reset_cache(all=True)\n",
    "    amt_hand.reset_cache(all=True) # batch_txns здесь\n",
    "    time_hand.reset_cache()\n",
    "    part_data.reset_cache()\n",
    "    processor.reset_cache(all=True)"
   ]
  },
  {
   "cell_type": "markdown",
   "id": "1e3d3f79-bf05-4165-880f-36d8b7d12678",
   "metadata": {},
   "source": [
    "**`is_declined`**  \n",
    "- cr_drop_txn1.out_txns = cr_drop_txn1.out_lim\n",
    "- cr_drop_txn1.in_txns = cr_drop_txn1.in_lim\n",
    "- cr_drop_txn1.out_txns = cr_drop_txn1.out_lim - 1\n",
    "- cr_drop_txn1.in_txns = cr_drop_txn1.in_lim - 1"
   ]
  },
  {
   "cell_type": "code",
   "execution_count": 9,
   "id": "dea682a9-d69d-48cc-bd74-aa380a84326d",
   "metadata": {},
   "outputs": [
    {
     "data": {
      "text/plain": [
       "False"
      ]
     },
     "execution_count": 9,
     "metadata": {},
     "output_type": "execute_result"
    }
   ],
   "source": [
    "reset_caches(cr_drop_txn1, behav_hand1, amt_hand1, time_hand1, part_data1, batch_processor)\n",
    "# cr_drop_txn1.out_txns = cr_drop_txn1.out_lim\n",
    "# cr_drop_txn1.in_txns = cr_drop_txn1.in_lim\n",
    "# cr_drop_txn1.out_txns = cr_drop_txn1.out_lim - 1\n",
    "# cr_drop_txn1.in_txns = cr_drop_txn1.in_lim - 1\n",
    "batch_processor.is_declined()"
   ]
  },
  {
   "cell_type": "markdown",
   "id": "699753bb-2cc7-4441-ba09-531438b5efa5",
   "metadata": {},
   "source": [
    "### **Тест метода `distributor`**"
   ]
  },
  {
   "cell_type": "code",
   "execution_count": null,
   "id": "d272fb9e-b8a3-487a-a1fe-d503629f5d30",
   "metadata": {},
   "outputs": [],
   "source": [
    "reset_caches(cr_drop_txn1, behav_hand1, amt_hand1, time_hand1, part_data1, batch_processor)\n",
    "all_txns1 = []\n",
    "\n",
    "while True:\n",
    "    declined = batch_processor.declined\n",
    "    receive_txn1 = cr_drop_txn1.trf_or_atm(declined=declined, receive=receive)\n",
    "    if declined:\n",
    "        break\n",
    "        \n",
    "    batch_processor.distributor()"
   ]
  }
 ],
 "metadata": {
  "kernelspec": {
   "display_name": "Python 3 (ipykernel)",
   "language": "python",
   "name": "python3"
  },
  "language_info": {
   "codemirror_mode": {
    "name": "ipython",
    "version": 3
   },
   "file_extension": ".py",
   "mimetype": "text/x-python",
   "name": "python",
   "nbconvert_exporter": "python",
   "pygments_lexer": "ipython3",
   "version": "3.13.3"
  }
 },
 "nbformat": 4,
 "nbformat_minor": 5
}
