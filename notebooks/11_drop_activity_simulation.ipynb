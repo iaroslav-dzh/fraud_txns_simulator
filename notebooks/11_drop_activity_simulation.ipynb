{
 "cells": [
  {
   "cell_type": "code",
   "execution_count": 1,
   "id": "bbae5b4f-3204-4d14-9b95-f4ac0713feaf",
   "metadata": {},
   "outputs": [],
   "source": [
    "import pandas as pd\n",
    "import numpy as np\n",
    "import matplotlib.pyplot as plt\n",
    "import seaborn as sns\n",
    "import os\n",
    "import pyarrow\n",
    "from dataclasses import dataclass\n",
    "import yaml\n",
    "from typing import Union"
   ]
  },
  {
   "cell_type": "code",
   "execution_count": 2,
   "id": "93365953-391c-4ad8-86ce-c7b17cef67d3",
   "metadata": {},
   "outputs": [
    {
     "data": {
      "text/plain": [
       "'C:\\\\Users\\\\iaros\\\\My_documents\\\\Education\\\\projects\\\\fraud_detection_01\\\\notebooks'"
      ]
     },
     "execution_count": 2,
     "metadata": {},
     "output_type": "execute_result"
    }
   ],
   "source": [
    "os.getcwd()"
   ]
  },
  {
   "cell_type": "code",
   "execution_count": 3,
   "id": "a72408c6-94be-469d-bfd0-f172fa0d5b8f",
   "metadata": {},
   "outputs": [
    {
     "data": {
      "text/plain": [
       "'C:\\\\Users\\\\iaros\\\\My_documents\\\\Education\\\\projects\\\\fraud_detection_01'"
      ]
     },
     "execution_count": 3,
     "metadata": {},
     "output_type": "execute_result"
    }
   ],
   "source": [
    "os.chdir(\"..\")\n",
    "os.getcwd()"
   ]
  },
  {
   "cell_type": "markdown",
   "id": "4b09db79-7db0-477f-8823-8701516efd8f",
   "metadata": {},
   "source": [
    "## Загрузка конфигураций"
   ]
  },
  {
   "cell_type": "code",
   "execution_count": 4,
   "id": "738b6376-fc32-4bf6-8f27-c9d562089114",
   "metadata": {},
   "outputs": [],
   "source": [
    "# Общие настройки\n",
    "with open(\"./config/base.yaml\") as f:\n",
    "    base_cfg = yaml.safe_load(f)\n",
    "# Настройки фрода\n",
    "with open(\"./config/fraud.yaml\") as f:\n",
    "    fraud_cfg = yaml.safe_load(f)\n",
    "# Настройки фрода для дропов\n",
    "with open(\"./config/drops.yaml\", encoding=\"utf8\") as f:\n",
    "    drops_cfg = yaml.safe_load(f)\n",
    "# Настройки времени\n",
    "with open(\"./config/time.yaml\") as f:\n",
    "    time_cfg = yaml.safe_load(f)"
   ]
  },
  {
   "cell_type": "markdown",
   "id": "c0df9be0-4dc3-42ee-86e5-d57dad7448c2",
   "metadata": {},
   "source": [
    "## Класс `DropBatchProcessor`"
   ]
  },
  {
   "cell_type": "code",
   "execution_count": 5,
   "id": "2ac02222-22b3-4639-8fba-1a7a7419f17a",
   "metadata": {},
   "outputs": [],
   "source": [
    "# ----------- ВСТАВИТЬ ГОТОВЫЙ КЛАСС СЮДА -------------------------"
   ]
  },
  {
   "cell_type": "markdown",
   "id": "98c81037-5e10-40f9-8a69-2b3a4f1c823d",
   "metadata": {},
   "source": [
    "**Тест `DropBatchProcessor`**"
   ]
  },
  {
   "cell_type": "code",
   "execution_count": 1,
   "id": "cbacc12f-7476-4324-977e-1600c0994cd3",
   "metadata": {},
   "outputs": [],
   "source": [
    "# Временный импорт\n",
    "import os\n",
    "import yaml\n",
    "import pandas as pd\n",
    "import numpy as np\n",
    "os.chdir(\"..\")\n",
    "\n",
    "# Общие настройки\n",
    "with open(\"./config/base.yaml\") as f:\n",
    "    base_cfg = yaml.safe_load(f)\n",
    "# Настройки фрода\n",
    "with open(\"./config/fraud.yaml\") as f:\n",
    "    fraud_cfg = yaml.safe_load(f)\n",
    "# Настройки фрода для дропов\n",
    "with open(\"./config/drops.yaml\", encoding=\"utf8\") as f:\n",
    "    drops_cfg = yaml.safe_load(f)\n",
    "# Настройки времени\n",
    "with open(\"./config/time.yaml\") as f:\n",
    "    time_cfg = yaml.safe_load(f)"
   ]
  },
  {
   "cell_type": "code",
   "execution_count": 2,
   "id": "60af8bfd-e376-4716-88e5-19d0354e968d",
   "metadata": {},
   "outputs": [
    {
     "data": {
      "text/plain": [
       "Pandas(Index=8, client_id=2337, district_id=12, birth_date='1917-04-09', sex='female', region='Карелия', area='Петрозаводск', timezone='UTC+3', lat=61.78909, lon=34.3596263, population=263540, home_ip='2.60.8.164', geometry=<MULTIPOLYGON (((34.186 61.851, 34.191 61.851, 34.195 61.851, 34.197 61.851,...>)"
      ]
     },
     "execution_count": 2,
     "metadata": {},
     "output_type": "execute_result"
    }
   ],
   "source": [
    "from data_generator.fraud.drops.build.config import DropConfigBuilder\n",
    "from data_generator.fraud.drops.build.builder import DropBaseClasses\n",
    "from data_generator.fraud.drops.txns import CreateDropTxn\n",
    "from data_generator.fraud.drops.processor import DropBatchHandler\n",
    "from data_generator.general_time import pd_timestamp_to_unix\n",
    "\n",
    "drop_cfg_build = DropConfigBuilder(base_cfg=base_cfg, fraud_cfg=fraud_cfg, drop_cfg=drops_cfg)\n",
    "# configs = drop_cfg_build.build_dist_cfg()\n",
    "configs = drop_cfg_build.build_purch_cfg()\n",
    "\n",
    "# base_agg1 = DropBaseClasses(drop_type=\"distributor\", configs=configs)\n",
    "base_agg1 = DropBaseClasses(drop_type=\"purchaser\", configs=configs)\n",
    "base_agg1.build_all()\n",
    "# base_agg1.build_all(drop_type=\"purchaser\")\n",
    "acc_hand1 = base_agg1.acc_hand\n",
    "amt_hand1 = base_agg1.amt_hand\n",
    "part_data1 = base_agg1.part_data\n",
    "time_hand1 = base_agg1.time_hand\n",
    "behav_hand1 = base_agg1.behav_hand\n",
    "\n",
    "cr_drop_txn1 = CreateDropTxn(configs=configs, base=base_agg1)\n",
    "drop_clients = configs.clients\n",
    "\n",
    "batch_hand = DropBatchHandler(base=base_agg1, create_txn=cr_drop_txn1)\n",
    "\n",
    "for client in drop_clients.iloc[[8]].itertuples():\n",
    "    part_data1.client_info = client\n",
    "    acc_hand1.client_id = client.client_id\n",
    "    acc_hand1.get_account(own=True)\n",
    "part_data1.client_info"
   ]
  },
  {
   "cell_type": "code",
   "execution_count": 3,
   "id": "ee553ff5-8b41-42ac-8c47-a97856c56706",
   "metadata": {},
   "outputs": [],
   "source": [
    "def reset_caches(cr_drop_txn, behav_hand, amt_hand, time_hand, part_data, batch_hand):\n",
    "    cr_drop_txn.reset_cache(only_counters=False)\n",
    "    behav_hand.reset_cache(all=True)\n",
    "    amt_hand.reset_cache(all=True) # batch_txns здесь\n",
    "    time_hand.reset_cache()\n",
    "    part_data.reset_cache()\n",
    "    batch_hand.reset_cache(all=True)"
   ]
  },
  {
   "cell_type": "code",
   "execution_count": 4,
   "id": "a01798c1-646a-47ad-ab45-c2f733b04cbc",
   "metadata": {},
   "outputs": [
    {
     "data": {
      "text/plain": [
       "Series([], Name: account_id, dtype: object)"
      ]
     },
     "execution_count": 4,
     "metadata": {},
     "output_type": "execute_result"
    }
   ],
   "source": [
    "# acc_hand1.outer_accounts.loc[~(acc_hand1.outer_accounts.isin(acc_hand1.used_accounts))].sample(1)\n",
    "# acc_hand1.outer_accounts.loc[~(acc_hand1.outer_accounts.isin(acc_hand1.used_accounts))]\n",
    "# acc_hand1.reset_cache()\n",
    "acc_hand1.used_accounts"
   ]
  },
  {
   "cell_type": "markdown",
   "id": "1e3d3f79-bf05-4165-880f-36d8b7d12678",
   "metadata": {},
   "source": [
    "**`should_decline`**  \n",
    "- cr_drop_txn1.out_txns = cr_drop_txn1.out_lim\n",
    "- cr_drop_txn1.in_txns = cr_drop_txn1.in_lim\n",
    "- cr_drop_txn1.out_txns = cr_drop_txn1.out_lim - 1\n",
    "- cr_drop_txn1.in_txns = cr_drop_txn1.in_lim - 1\n",
    "- cr_drop_txn1.out_txns = cr_drop_txn1.out_lim + 1\n",
    "- cr_drop_txn1.in_txns = cr_drop_txn1.in_lim + 1"
   ]
  },
  {
   "cell_type": "code",
   "execution_count": 5,
   "id": "dea682a9-d69d-48cc-bd74-aa380a84326d",
   "metadata": {},
   "outputs": [
    {
     "data": {
      "text/plain": [
       "True"
      ]
     },
     "execution_count": 5,
     "metadata": {},
     "output_type": "execute_result"
    }
   ],
   "source": [
    "reset_caches(cr_drop_txn1, behav_hand1, amt_hand1, time_hand1, part_data1, batch_hand)\n",
    "# cr_drop_txn1.out_txns = cr_drop_txn1.out_lim\n",
    "# cr_drop_txn1.in_txns = cr_drop_txn1.in_lim\n",
    "# cr_drop_txn1.out_txns = cr_drop_txn1.out_lim - 1\n",
    "# cr_drop_txn1.in_txns = cr_drop_txn1.in_lim - 1\n",
    "# cr_drop_txn1.out_txns = cr_drop_txn1.out_lim + 1\n",
    "# cr_drop_txn1.in_txns = cr_drop_txn1.in_lim + 1\n",
    "batch_hand.should_decline()"
   ]
  },
  {
   "cell_type": "markdown",
   "id": "699753bb-2cc7-4441-ba09-531438b5efa5",
   "metadata": {},
   "source": [
    "### **Тест метода `distributor`**"
   ]
  },
  {
   "cell_type": "markdown",
   "id": "a97d79a2-831c-40c5-aa2e-076d856c0f48",
   "metadata": {},
   "source": [
    "**баланс > trf_max** - выводить кол-во попыток через print внутри atts_after_decline()  \n",
    "4 кейса\n",
    "- scen=`\"split_transfer\"`, in_chunks = `True`\n",
    "- scen=`\"atm+transfer`\", in_chunks = `True`\n",
    "- scen=`\"atm\"`, in_chunks = `False`\n",
    "- scen=`\"transfer\"`, in_chunks = `False`"
   ]
  },
  {
   "cell_type": "code",
   "execution_count": 10,
   "id": "78406e74-6d9e-4214-99c3-6523e850e016",
   "metadata": {},
   "outputs": [],
   "source": [
    "reset_caches(cr_drop_txn1, behav_hand1, amt_hand1, time_hand1, part_data1, batch_hand)\n",
    "acc_hand1.reset_cache()\n",
    "all_txns1 = []\n",
    "start_time = pd.to_datetime(\"2025-07-02 11:15:00\", format=\"%Y-%m-%d %H:%M:%S\")\n",
    "time_hand1.last_unix = pd_timestamp_to_unix(start_time)\n",
    "time_hand1.start_unix = pd_timestamp_to_unix(start_time)"
   ]
  },
  {
   "cell_type": "code",
   "execution_count": 11,
   "id": "bf437c5a-468d-4d91-b2f6-9c41ddbc7c5c",
   "metadata": {},
   "outputs": [
    {
     "name": "stdout",
     "output_type": "stream",
     "text": [
      "attempts 3\n"
     ]
    }
   ],
   "source": [
    "while not batch_hand.declined:\n",
    "    amt_hand1.balance = behav_hand1.trf_max + 1000\n",
    "    behav_hand1.scen = \"transfer\"\n",
    "    behav_hand1.in_chunks = False\n",
    "\n",
    "    batch_hand.distributor()\n",
    "    txns_fm_batch1 = batch_hand.txns_fm_batch\n",
    "    all_txns1.extend(txns_fm_batch1)\n",
    "    batch_hand.reset_cache(all=False)"
   ]
  },
  {
   "cell_type": "code",
   "execution_count": 4,
   "id": "c10fb409-6e7a-4fb4-aacb-1727eb93b18d",
   "metadata": {},
   "outputs": [],
   "source": [
    "all_txns_df = pd.DataFrame(all_txns1)\n",
    "print(all_txns_df.shape[0])\n",
    "all_txns_df"
   ]
  },
  {
   "cell_type": "markdown",
   "id": "38a0ab18-b44b-478c-a84a-ee02d03f5c34",
   "metadata": {},
   "source": [
    "**С генерацией входящих транзакций и рандомизацией поведения**\n",
    "- реализация через цикл наподобие run_drop_lifecycle()"
   ]
  },
  {
   "cell_type": "code",
   "execution_count": 7,
   "id": "83066831-c62d-4671-a576-142a671c3a4d",
   "metadata": {},
   "outputs": [],
   "source": [
    "reset_caches(cr_drop_txn1, behav_hand1, amt_hand1, time_hand1, part_data1, batch_hand)\n",
    "acc_hand1.reset_cache()\n",
    "all_txns1 = []\n",
    "\n",
    "while True:\n",
    "    declined = batch_hand.declined\n",
    "    receive_txn1 = cr_drop_txn1.trf_or_atm(dist=True, receive=True, to_drop=False, declined=declined)\n",
    "    all_txns1.append(receive_txn1)\n",
    "    if declined:\n",
    "        break\n",
    "        \n",
    "    behav_hand1.sample_scenario() # выбрать сценарий\n",
    "    behav_hand1.in_chunks_val() # транзакции по частям или нет \n",
    "    \n",
    "    batch_hand.process_batch()\n",
    "    txns_fm_batch1 = batch_hand.txns_fm_batch\n",
    "    all_txns1.extend(txns_fm_batch1)\n",
    "    batch_hand.reset_cache(all=False)"
   ]
  },
  {
   "cell_type": "code",
   "execution_count": 9,
   "id": "5e932f5e-9ba2-4a27-bbd9-29154dab7396",
   "metadata": {},
   "outputs": [
    {
     "name": "stdout",
     "output_type": "stream",
     "text": [
      "16\n"
     ]
    },
    {
     "data": {
      "text/plain": [
       "(11, 19)"
      ]
     },
     "execution_count": 9,
     "metadata": {},
     "output_type": "execute_result"
    }
   ],
   "source": [
    "all_txns_df = pd.DataFrame(all_txns1)\n",
    "print(all_txns_df.shape[0])\n",
    "all_txns_df #.query(\"type != 'inbound'\").shape"
   ]
  },
  {
   "cell_type": "markdown",
   "id": "2bfd18d2-b163-437a-96fe-907765aa0bce",
   "metadata": {},
   "source": [
    "### **Тест метода `purchaser`**"
   ]
  },
  {
   "cell_type": "markdown",
   "id": "37052e79-3146-47f1-b573-49e5fc0adfa1",
   "metadata": {},
   "source": [
    "**баланс > amt_max** - выводить кол-во попыток через print внутри atts_after_decline()\n",
    "- scen=`\"split_money\"`, in_chunks = `True`\n",
    "- scen=`\"transfer\"`, in_chunks = `False`"
   ]
  },
  {
   "cell_type": "code",
   "execution_count": 7,
   "id": "3d009d53-e6e4-4dd8-a67a-a397627a0561",
   "metadata": {},
   "outputs": [],
   "source": [
    "reset_caches(cr_drop_txn1, behav_hand1, amt_hand1, time_hand1, part_data1, batch_hand)\n",
    "acc_hand1.reset_cache()\n",
    "all_txns2 = []\n",
    "start_time = pd.to_datetime(\"2025-07-02 11:15:00\", format=\"%Y-%m-%d %H:%M:%S\")\n",
    "time_hand1.last_unix = pd_timestamp_to_unix(start_time)\n",
    "time_hand1.start_unix = pd_timestamp_to_unix(start_time)"
   ]
  },
  {
   "cell_type": "code",
   "execution_count": 8,
   "id": "f919b79e-64d6-4504-845d-270d16f16c97",
   "metadata": {},
   "outputs": [
    {
     "name": "stdout",
     "output_type": "stream",
     "text": [
      "attempts 0\n"
     ]
    }
   ],
   "source": [
    "while not batch_hand.declined:\n",
    "    amt_hand1.balance = behav_hand1.amt_max + 1000\n",
    "    behav_hand1.scen = \"one_purchase\"\n",
    "    behav_hand1.in_chunks = False\n",
    "\n",
    "    batch_hand.purchaser()\n",
    "    txns_fm_batch2 = batch_hand.txns_fm_batch\n",
    "    all_txns2.extend(txns_fm_batch2)\n",
    "    batch_hand.reset_cache(all=False)"
   ]
  },
  {
   "cell_type": "code",
   "execution_count": 10,
   "id": "8183dd19-066b-4a41-a044-6d8eeeec5d48",
   "metadata": {},
   "outputs": [],
   "source": [
    "all_txns_df2 = pd.DataFrame(all_txns2)\n",
    "print(all_txns_df2.shape[0])\n",
    "all_txns_df2"
   ]
  },
  {
   "cell_type": "markdown",
   "id": "a2955f14-4357-4ba1-80ad-05dd1536dc74",
   "metadata": {},
   "source": [
    "**`purchaser` с генерацией входящих транзакций и рандомизацией поведения**\n",
    "- реализация через цикл наподобие run_drop_lifecycle()"
   ]
  },
  {
   "cell_type": "code",
   "execution_count": 5,
   "id": "262a0cfa-776f-4a86-a327-88c425ca203c",
   "metadata": {},
   "outputs": [
    {
     "name": "stdout",
     "output_type": "stream",
     "text": [
      "attempts 3\n"
     ]
    }
   ],
   "source": [
    "reset_caches(cr_drop_txn1, behav_hand1, amt_hand1, time_hand1, part_data1, batch_hand)\n",
    "acc_hand1.reset_cache()\n",
    "all_txns3 = []\n",
    "\n",
    "while True:\n",
    "    declined = batch_hand.declined\n",
    "    receive_txn3 = cr_drop_txn1.trf_or_atm(dist=False, receive=True, to_drop=False, declined=declined)\n",
    "    all_txns3.append(receive_txn3)\n",
    "    if declined:\n",
    "        break\n",
    "        \n",
    "    behav_hand1.sample_scenario() # выбрать сценарий\n",
    "    behav_hand1.in_chunks_val() # транзакции по частям или нет \n",
    "    \n",
    "    batch_hand.process_batch()\n",
    "    txns_fm_batch3 = batch_hand.txns_fm_batch\n",
    "    all_txns3.extend(txns_fm_batch3)\n",
    "    batch_hand.reset_cache(all=False)"
   ]
  },
  {
   "cell_type": "code",
   "execution_count": 7,
   "id": "bb05bc04-3f9f-4448-bed9-d00734b8ad99",
   "metadata": {},
   "outputs": [
    {
     "name": "stdout",
     "output_type": "stream",
     "text": [
      "17\n"
     ]
    },
    {
     "data": {
      "text/plain": [
       "(12, 19)"
      ]
     },
     "execution_count": 7,
     "metadata": {},
     "output_type": "execute_result"
    }
   ],
   "source": [
    "all_txns_df3 = pd.DataFrame(all_txns3)\n",
    "print(all_txns_df3.shape[0])\n",
    "all_txns_df3 #.query(\"type != 'inbound'\").shape"
   ]
  },
  {
   "cell_type": "markdown",
   "id": "6a403922-8cf9-40a4-83d9-86f4ef6f82f5",
   "metadata": {},
   "source": [
    "## Класс `DropLifecycleManager`\n",
    "- Полный жизненный цикл дропа"
   ]
  },
  {
   "cell_type": "code",
   "execution_count": null,
   "id": "db0f4bd2-32ad-4bf4-8ebb-e9ece74175ef",
   "metadata": {},
   "outputs": [],
   "source": [
    "# ----------ВСТАВИТЬ ГОТОВЫЙ КЛАСС-------------------------"
   ]
  },
  {
   "cell_type": "markdown",
   "id": "02ddfaab-3760-4a57-91bd-e7a450ed0719",
   "metadata": {},
   "source": [
    "**Тест `DropLifecycleManager`**"
   ]
  },
  {
   "cell_type": "code",
   "execution_count": null,
   "id": "43fbf6fd-b2af-47d3-93ca-6d3ed7e26ef4",
   "metadata": {},
   "outputs": [],
   "source": [
    "# Временный импорт\n",
    "import os\n",
    "import yaml\n",
    "import pandas as pd\n",
    "import numpy as np\n",
    "os.chdir(\"..\")\n",
    "\n",
    "# Общие настройки\n",
    "with open(\"./config/base.yaml\") as f:\n",
    "    base_cfg = yaml.safe_load(f)\n",
    "# Настройки фрода\n",
    "with open(\"./config/fraud.yaml\") as f:\n",
    "    fraud_cfg = yaml.safe_load(f)\n",
    "# Настройки фрода для дропов\n",
    "with open(\"./config/drops.yaml\", encoding=\"utf8\") as f:\n",
    "    drops_cfg = yaml.safe_load(f)\n",
    "# Настройки времени\n",
    "with open(\"./config/time.yaml\") as f:\n",
    "    time_cfg = yaml.safe_load(f)"
   ]
  },
  {
   "cell_type": "code",
   "execution_count": null,
   "id": "d18f1807-a254-471b-a8c5-78a27c83fd6e",
   "metadata": {},
   "outputs": [],
   "source": [
    "from data_generator.fraud.drops.build.config import DropConfigBuilder\n",
    "from data_generator.fraud.drops.build.builder import DropBaseClasses\n",
    "from data_generator.fraud.drops.txns import CreateDropTxn\n",
    "# from data_generator.fraud.drops.processor import DropBatchHandler\n",
    "# from data_generator.general_time import pd_timestamp_to_unix\n",
    "from data_generator.fraud.drops.simulator import DropLifecycleManager\n",
    "\n",
    "drop_cfg_build = DropConfigBuilder(base_cfg=base_cfg, fraud_cfg=fraud_cfg, drop_cfg=drops_cfg)\n",
    "configs = drop_cfg_build.build_dist_cfg()\n",
    "# configs = drop_cfg_build.build_purch_cfg()\n",
    "\n",
    "base_agg1 = DropBaseClasses(drop_type=\"distributor\", configs=configs)\n",
    "# base_agg1 = DropBaseClasses(drop_type=\"purchaser\", configs=configs)\n",
    "base_agg1.build_all()\n",
    "acc_hand1 = base_agg1.acc_hand\n",
    "amt_hand1 = base_agg1.amt_hand\n",
    "part_data1 = base_agg1.part_data\n",
    "time_hand1 = base_agg1.time_hand\n",
    "behav_hand1 = base_agg1.behav_hand\n",
    "\n",
    "cr_drop_txn1 = CreateDropTxn(configs=configs, base=base_agg1)\n",
    "drop_clients = configs.clients\n",
    "\n",
    "life_manager = DropLifecycleManager(base=base_agg1, create_txn=cr_drop_txn1)\n",
    "batch_hand = DropBatchHandler(base=base_agg1, create_txn=cr_drop_txn1)\n",
    "\n",
    "for client in drop_clients.iloc[[8]].itertuples():\n",
    "    part_data1.client_info = client\n",
    "    acc_hand1.client_id = client.client_id\n",
    "    acc_hand1.get_account(own=True)\n",
    "part_data1.client_info"
   ]
  },
  {
   "cell_type": "code",
   "execution_count": null,
   "id": "770384b5-6b86-40ad-bc38-7f371fd795e4",
   "metadata": {},
   "outputs": [],
   "source": []
  },
  {
   "cell_type": "code",
   "execution_count": null,
   "id": "19560e2e-e5aa-4424-baef-f83c07f4caf5",
   "metadata": {},
   "outputs": [],
   "source": []
  }
 ],
 "metadata": {
  "kernelspec": {
   "display_name": "Python 3 (ipykernel)",
   "language": "python",
   "name": "python3"
  },
  "language_info": {
   "codemirror_mode": {
    "name": "ipython",
    "version": 3
   },
   "file_extension": ".py",
   "mimetype": "text/x-python",
   "name": "python",
   "nbconvert_exporter": "python",
   "pygments_lexer": "ipython3",
   "version": "3.13.3"
  }
 },
 "nbformat": 4,
 "nbformat_minor": 5
}
