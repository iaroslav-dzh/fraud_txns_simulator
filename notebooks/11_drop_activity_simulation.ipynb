{
 "cells": [
  {
   "cell_type": "code",
   "execution_count": 1,
   "id": "bbae5b4f-3204-4d14-9b95-f4ac0713feaf",
   "metadata": {},
   "outputs": [],
   "source": [
    "import pandas as pd\n",
    "import numpy as np\n",
    "import matplotlib.pyplot as plt\n",
    "import seaborn as sns\n",
    "import os\n",
    "import pyarrow\n",
    "from dataclasses import dataclass\n",
    "import yaml\n",
    "from typing import Union"
   ]
  },
  {
   "cell_type": "code",
   "execution_count": 2,
   "id": "93365953-391c-4ad8-86ce-c7b17cef67d3",
   "metadata": {},
   "outputs": [
    {
     "data": {
      "text/plain": [
       "'C:\\\\Users\\\\iaros\\\\My_documents\\\\Education\\\\projects\\\\fraud_detection_01\\\\notebooks'"
      ]
     },
     "execution_count": 2,
     "metadata": {},
     "output_type": "execute_result"
    }
   ],
   "source": [
    "os.getcwd()"
   ]
  },
  {
   "cell_type": "code",
   "execution_count": 3,
   "id": "a72408c6-94be-469d-bfd0-f172fa0d5b8f",
   "metadata": {},
   "outputs": [
    {
     "data": {
      "text/plain": [
       "'C:\\\\Users\\\\iaros\\\\My_documents\\\\Education\\\\projects\\\\fraud_detection_01'"
      ]
     },
     "execution_count": 3,
     "metadata": {},
     "output_type": "execute_result"
    }
   ],
   "source": [
    "os.chdir(\"..\")\n",
    "os.getcwd()"
   ]
  },
  {
   "cell_type": "markdown",
   "id": "4b09db79-7db0-477f-8823-8701516efd8f",
   "metadata": {},
   "source": [
    "## Загрузка конфигураций"
   ]
  },
  {
   "cell_type": "code",
   "execution_count": 4,
   "id": "738b6376-fc32-4bf6-8f27-c9d562089114",
   "metadata": {},
   "outputs": [],
   "source": [
    "# Общие настройки\n",
    "with open(\"./config/base.yaml\") as f:\n",
    "    base_cfg = yaml.safe_load(f)\n",
    "# Настройки фрода\n",
    "with open(\"./config/fraud.yaml\") as f:\n",
    "    fraud_cfg = yaml.safe_load(f)\n",
    "# Настройки фрода для дропов\n",
    "with open(\"./config/drops.yaml\", encoding=\"utf8\") as f:\n",
    "    drops_cfg = yaml.safe_load(f)\n",
    "# Настройки времени\n",
    "with open(\"./config/time.yaml\") as f:\n",
    "    time_cfg = yaml.safe_load(f)"
   ]
  },
  {
   "cell_type": "markdown",
   "id": "c0df9be0-4dc3-42ee-86e5-d57dad7448c2",
   "metadata": {},
   "source": [
    "## Класс `DropBatchProcessor`"
   ]
  },
  {
   "cell_type": "code",
   "execution_count": 5,
   "id": "2ac02222-22b3-4639-8fba-1a7a7419f17a",
   "metadata": {},
   "outputs": [],
   "source": [
    "# ----------- ВСТАВИТЬ ГОТОВЫЙ КЛАСС СЮДА -------------------------"
   ]
  },
  {
   "cell_type": "markdown",
   "id": "98c81037-5e10-40f9-8a69-2b3a4f1c823d",
   "metadata": {},
   "source": [
    "**Тест `DropBatchProcessor`**"
   ]
  },
  {
   "cell_type": "code",
   "execution_count": 1,
   "id": "cbacc12f-7476-4324-977e-1600c0994cd3",
   "metadata": {},
   "outputs": [],
   "source": [
    "# Временный импорт\n",
    "import os\n",
    "import yaml\n",
    "import pandas as pd\n",
    "import numpy as np\n",
    "os.chdir(\"..\")\n",
    "\n",
    "# Общие настройки\n",
    "with open(\"./config/base.yaml\") as f:\n",
    "    base_cfg = yaml.safe_load(f)\n",
    "# Настройки фрода\n",
    "with open(\"./config/fraud.yaml\") as f:\n",
    "    fraud_cfg = yaml.safe_load(f)\n",
    "# Настройки фрода для дропов\n",
    "with open(\"./config/drops.yaml\", encoding=\"utf8\") as f:\n",
    "    drops_cfg = yaml.safe_load(f)\n",
    "# Настройки времени\n",
    "with open(\"./config/time.yaml\") as f:\n",
    "    time_cfg = yaml.safe_load(f)"
   ]
  },
  {
   "cell_type": "code",
   "execution_count": 2,
   "id": "60af8bfd-e376-4716-88e5-19d0354e968d",
   "metadata": {},
   "outputs": [
    {
     "data": {
      "text/plain": [
       "Pandas(Index=8, client_id=4819, district_id=62, birth_date='1964-04-13', sex='male', region='Татарстан', area='Набережные Челны', timezone='UTC+3', lat=55.7436475, lon=52.3958739, population=513242, home_ip='2.60.17.208', geometry=<MULTIPOLYGON (((52.184 55.685, 52.223 55.694, 52.253 55.698, 52.25 55.705, ...>)"
      ]
     },
     "execution_count": 2,
     "metadata": {},
     "output_type": "execute_result"
    }
   ],
   "source": [
    "from data_generator.fraud.drops.build.config import DropConfigBuilder\n",
    "from data_generator.fraud.drops.build.builder import DropBaseClasses\n",
    "from data_generator.fraud.drops.txns import CreateDropTxn\n",
    "from data_generator.fraud.drops.processor import DropBatchHandler\n",
    "from data_generator.general_time import pd_timestamp_to_unix\n",
    "\n",
    "drop_cfg_build = DropConfigBuilder(base_cfg=base_cfg, fraud_cfg=fraud_cfg, drop_cfg=drops_cfg)\n",
    "# configs = drop_cfg_build.build_dist_cfg()\n",
    "configs = drop_cfg_build.build_purch_cfg()\n",
    "\n",
    "base_agg1 = DropBaseClasses(configs=configs)\n",
    "# base_agg1.build_all(drop_type=\"distributor\")\n",
    "base_agg1.build_all(drop_type=\"purchaser\")\n",
    "acc_hand1 = base_agg1.acc_hand\n",
    "amt_hand1 = base_agg1.amt_hand\n",
    "part_data1 = base_agg1.part_data\n",
    "time_hand1 = base_agg1.time_hand\n",
    "behav_hand1 = base_agg1.behav_hand\n",
    "\n",
    "cr_drop_txn1 = CreateDropTxn(configs=configs, base=base_agg1)\n",
    "drop_clients = configs.clients\n",
    "\n",
    "batch_hand = DropBatchHandler(base=base_agg1, create_txn=cr_drop_txn1)\n",
    "\n",
    "for client in drop_clients.iloc[[8]].itertuples():\n",
    "    part_data1.client_info = client\n",
    "    acc_hand1.client_id = client.client_id\n",
    "    acc_hand1.get_account(own=True)\n",
    "part_data1.client_info"
   ]
  },
  {
   "cell_type": "code",
   "execution_count": 3,
   "id": "ee553ff5-8b41-42ac-8c47-a97856c56706",
   "metadata": {},
   "outputs": [],
   "source": [
    "def reset_caches(cr_drop_txn, behav_hand, amt_hand, time_hand, part_data, batch_hand):\n",
    "    cr_drop_txn.reset_cache(only_counters=False)\n",
    "    behav_hand.reset_cache(all=True)\n",
    "    amt_hand.reset_cache(all=True) # batch_txns здесь\n",
    "    time_hand.reset_cache()\n",
    "    part_data.reset_cache()\n",
    "    batch_hand.reset_cache(all=True)"
   ]
  },
  {
   "cell_type": "code",
   "execution_count": 4,
   "id": "a01798c1-646a-47ad-ab45-c2f733b04cbc",
   "metadata": {},
   "outputs": [
    {
     "data": {
      "text/plain": [
       "Series([], Name: account_id, dtype: object)"
      ]
     },
     "execution_count": 4,
     "metadata": {},
     "output_type": "execute_result"
    }
   ],
   "source": [
    "# acc_hand1.outer_accounts.loc[~(acc_hand1.outer_accounts.isin(acc_hand1.used_accounts))].sample(1)\n",
    "# acc_hand1.outer_accounts.loc[~(acc_hand1.outer_accounts.isin(acc_hand1.used_accounts))]\n",
    "# acc_hand1.reset_cache()\n",
    "acc_hand1.used_accounts"
   ]
  },
  {
   "cell_type": "markdown",
   "id": "1e3d3f79-bf05-4165-880f-36d8b7d12678",
   "metadata": {},
   "source": [
    "**`should_decline`**  \n",
    "- cr_drop_txn1.out_txns = cr_drop_txn1.out_lim\n",
    "- cr_drop_txn1.in_txns = cr_drop_txn1.in_lim\n",
    "- cr_drop_txn1.out_txns = cr_drop_txn1.out_lim - 1\n",
    "- cr_drop_txn1.in_txns = cr_drop_txn1.in_lim - 1\n",
    "- cr_drop_txn1.out_txns = cr_drop_txn1.out_lim + 1\n",
    "- cr_drop_txn1.in_txns = cr_drop_txn1.in_lim + 1"
   ]
  },
  {
   "cell_type": "code",
   "execution_count": 36,
   "id": "dea682a9-d69d-48cc-bd74-aa380a84326d",
   "metadata": {},
   "outputs": [
    {
     "name": "stdout",
     "output_type": "stream",
     "text": [
      "is_declined True\n"
     ]
    },
    {
     "data": {
      "text/plain": [
       "True"
      ]
     },
     "execution_count": 36,
     "metadata": {},
     "output_type": "execute_result"
    }
   ],
   "source": [
    "reset_caches(cr_drop_txn1, behav_hand1, amt_hand1, time_hand1, part_data1, batch_hand)\n",
    "# cr_drop_txn1.out_txns = cr_drop_txn1.out_lim\n",
    "# cr_drop_txn1.in_txns = cr_drop_txn1.in_lim\n",
    "# cr_drop_txn1.out_txns = cr_drop_txn1.out_lim - 1\n",
    "# cr_drop_txn1.in_txns = cr_drop_txn1.in_lim - 1\n",
    "# cr_drop_txn1.out_txns = cr_drop_txn1.out_lim + 1\n",
    "# cr_drop_txn1.in_txns = cr_drop_txn1.in_lim + 1\n",
    "batch_hand.should_decline()"
   ]
  },
  {
   "cell_type": "markdown",
   "id": "699753bb-2cc7-4441-ba09-531438b5efa5",
   "metadata": {},
   "source": [
    "### **Тест метода `distributor`**"
   ]
  },
  {
   "cell_type": "markdown",
   "id": "a97d79a2-831c-40c5-aa2e-076d856c0f48",
   "metadata": {},
   "source": [
    "**баланс > trf_max** - выводить кол-во попыток через print внутри atts_after_decline()  \n",
    "4 кейса\n",
    "- scen=`\"split_transfer\"`, in_chunks = `True`\n",
    "- scen=`\"atm+transfer`\", in_chunks = `True`\n",
    "- scen=`\"atm\"`, in_chunks = `False`\n",
    "- scen=`\"transfer\"`, in_chunks = `False`"
   ]
  },
  {
   "cell_type": "code",
   "execution_count": 10,
   "id": "78406e74-6d9e-4214-99c3-6523e850e016",
   "metadata": {},
   "outputs": [],
   "source": [
    "reset_caches(cr_drop_txn1, behav_hand1, amt_hand1, time_hand1, part_data1, batch_hand)\n",
    "acc_hand1.reset_cache()\n",
    "all_txns1 = []\n",
    "start_time = pd.to_datetime(\"2025-07-02 11:15:00\", format=\"%Y-%m-%d %H:%M:%S\")\n",
    "time_hand1.last_unix = pd_timestamp_to_unix(start_time)\n",
    "time_hand1.start_unix = pd_timestamp_to_unix(start_time)"
   ]
  },
  {
   "cell_type": "code",
   "execution_count": 11,
   "id": "bf437c5a-468d-4d91-b2f6-9c41ddbc7c5c",
   "metadata": {},
   "outputs": [
    {
     "name": "stdout",
     "output_type": "stream",
     "text": [
      "attempts 3\n"
     ]
    }
   ],
   "source": [
    "while not batch_hand.declined:\n",
    "    amt_hand1.balance = behav_hand1.trf_max + 1000\n",
    "    behav_hand1.scen = \"transfer\"\n",
    "    behav_hand1.in_chunks = False\n",
    "\n",
    "    batch_hand.distributor()\n",
    "    txns_fm_batch1 = batch_hand.txns_fm_batch\n",
    "    all_txns1.extend(txns_fm_batch1)\n",
    "    batch_hand.reset_cache(all=False)"
   ]
  },
  {
   "cell_type": "code",
   "execution_count": 4,
   "id": "c10fb409-6e7a-4fb4-aacb-1727eb93b18d",
   "metadata": {},
   "outputs": [],
   "source": [
    "all_txns_df = pd.DataFrame(all_txns1)\n",
    "print(all_txns_df.shape[0])\n",
    "all_txns_df"
   ]
  },
  {
   "cell_type": "markdown",
   "id": "38a0ab18-b44b-478c-a84a-ee02d03f5c34",
   "metadata": {},
   "source": [
    "**С генерацией входящих транзакций и рандомизацией поведения**\n",
    "- реализация через цикл наподобие run_drop_lifecycle()"
   ]
  },
  {
   "cell_type": "code",
   "execution_count": 11,
   "id": "83066831-c62d-4671-a576-142a671c3a4d",
   "metadata": {},
   "outputs": [
    {
     "name": "stdout",
     "output_type": "stream",
     "text": [
      "attempts 1\n"
     ]
    }
   ],
   "source": [
    "reset_caches(cr_drop_txn1, behav_hand1, amt_hand1, time_hand1, part_data1, batch_hand)\n",
    "acc_hand1.reset_cache()\n",
    "all_txns1 = []\n",
    "\n",
    "while True:\n",
    "    declined = batch_hand.declined\n",
    "    receive_txn1 = cr_drop_txn1.trf_or_atm(receive=True, to_drop=False, declined=declined)\n",
    "    all_txns1.append(receive_txn1)\n",
    "    if declined:\n",
    "        break\n",
    "        \n",
    "    behav_hand1.sample_scenario() # выбрать сценарий\n",
    "    behav_hand1.in_chunks_val() # транзакции по частям или нет \n",
    "    \n",
    "    batch_hand.process_batch(drop_type=\"distributor\")\n",
    "    txns_fm_batch1 = batch_hand.txns_fm_batch\n",
    "    all_txns1.extend(txns_fm_batch1)\n",
    "    batch_hand.reset_cache(all=False)"
   ]
  },
  {
   "cell_type": "code",
   "execution_count": 4,
   "id": "5e932f5e-9ba2-4a27-bbd9-29154dab7396",
   "metadata": {},
   "outputs": [],
   "source": [
    "all_txns_df = pd.DataFrame(all_txns1)\n",
    "print(all_txns_df.shape[0])\n",
    "all_txns_df"
   ]
  },
  {
   "cell_type": "markdown",
   "id": "2bfd18d2-b163-437a-96fe-907765aa0bce",
   "metadata": {},
   "source": [
    "### **Тест метода `purchaser`**"
   ]
  },
  {
   "cell_type": "markdown",
   "id": "37052e79-3146-47f1-b573-49e5fc0adfa1",
   "metadata": {},
   "source": [
    "**баланс > amt_max** - выводить кол-во попыток через print внутри atts_after_decline()\n",
    "- scen=`\"split_money\"`, in_chunks = `True`\n",
    "- scen=`\"transfer\"`, in_chunks = `False`"
   ]
  },
  {
   "cell_type": "code",
   "execution_count": 7,
   "id": "3d009d53-e6e4-4dd8-a67a-a397627a0561",
   "metadata": {},
   "outputs": [],
   "source": [
    "reset_caches(cr_drop_txn1, behav_hand1, amt_hand1, time_hand1, part_data1, batch_hand)\n",
    "acc_hand1.reset_cache()\n",
    "all_txns2 = []\n",
    "start_time = pd.to_datetime(\"2025-07-02 11:15:00\", format=\"%Y-%m-%d %H:%M:%S\")\n",
    "time_hand1.last_unix = pd_timestamp_to_unix(start_time)\n",
    "time_hand1.start_unix = pd_timestamp_to_unix(start_time)"
   ]
  },
  {
   "cell_type": "code",
   "execution_count": 8,
   "id": "f919b79e-64d6-4504-845d-270d16f16c97",
   "metadata": {},
   "outputs": [
    {
     "name": "stdout",
     "output_type": "stream",
     "text": [
      "attempts 0\n"
     ]
    }
   ],
   "source": [
    "while not batch_hand.declined:\n",
    "    amt_hand1.balance = behav_hand1.amt_max + 1000\n",
    "    behav_hand1.scen = \"one_purchase\"\n",
    "    behav_hand1.in_chunks = False\n",
    "\n",
    "    batch_hand.purchaser()\n",
    "    txns_fm_batch2 = batch_hand.txns_fm_batch\n",
    "    all_txns2.extend(txns_fm_batch2)\n",
    "    batch_hand.reset_cache(all=False)"
   ]
  },
  {
   "cell_type": "code",
   "execution_count": 10,
   "id": "8183dd19-066b-4a41-a044-6d8eeeec5d48",
   "metadata": {},
   "outputs": [],
   "source": [
    "all_txns_df2 = pd.DataFrame(all_txns2)\n",
    "print(all_txns_df2.shape[0])\n",
    "all_txns_df2"
   ]
  },
  {
   "cell_type": "markdown",
   "id": "a2955f14-4357-4ba1-80ad-05dd1536dc74",
   "metadata": {},
   "source": [
    "**`purchaser` с генерацией входящих транзакций и рандомизацией поведения**\n",
    "- реализация через цикл наподобие run_drop_lifecycle()"
   ]
  },
  {
   "cell_type": "code",
   "execution_count": 11,
   "id": "262a0cfa-776f-4a86-a327-88c425ca203c",
   "metadata": {},
   "outputs": [
    {
     "name": "stdout",
     "output_type": "stream",
     "text": [
      "attempts 0\n"
     ]
    }
   ],
   "source": [
    "reset_caches(cr_drop_txn1, behav_hand1, amt_hand1, time_hand1, part_data1, batch_hand)\n",
    "acc_hand1.reset_cache()\n",
    "all_txns3 = []\n",
    "\n",
    "while True:\n",
    "    declined = batch_hand.declined\n",
    "    receive_txn3 = cr_drop_txn1.trf_or_atm(dist=False, receive=True, to_drop=False, declined=declined)\n",
    "    all_txns3.append(receive_txn3)\n",
    "    if declined:\n",
    "        break\n",
    "        \n",
    "    behav_hand1.sample_scenario() # выбрать сценарий\n",
    "    behav_hand1.in_chunks_val() # транзакции по частям или нет \n",
    "    \n",
    "    batch_hand.process_batch(dist=False)\n",
    "    txns_fm_batch3 = batch_hand.txns_fm_batch\n",
    "    all_txns3.extend(txns_fm_batch3)\n",
    "    batch_hand.reset_cache(all=False)"
   ]
  },
  {
   "cell_type": "code",
   "execution_count": 12,
   "id": "bb05bc04-3f9f-4448-bed9-d00734b8ad99",
   "metadata": {},
   "outputs": [
    {
     "name": "stdout",
     "output_type": "stream",
     "text": [
      "13\n"
     ]
    },
    {
     "data": {
      "text/html": [
       "<div>\n",
       "<style scoped>\n",
       "    .dataframe tbody tr th:only-of-type {\n",
       "        vertical-align: middle;\n",
       "    }\n",
       "\n",
       "    .dataframe tbody tr th {\n",
       "        vertical-align: top;\n",
       "    }\n",
       "\n",
       "    .dataframe thead th {\n",
       "        text-align: right;\n",
       "    }\n",
       "</style>\n",
       "<table border=\"1\" class=\"dataframe\">\n",
       "  <thead>\n",
       "    <tr style=\"text-align: right;\">\n",
       "      <th></th>\n",
       "      <th>client_id</th>\n",
       "      <th>txn_time</th>\n",
       "      <th>unix_time</th>\n",
       "      <th>amount</th>\n",
       "      <th>type</th>\n",
       "      <th>channel</th>\n",
       "      <th>category</th>\n",
       "      <th>online</th>\n",
       "      <th>merchant_id</th>\n",
       "      <th>trans_city</th>\n",
       "      <th>trans_lat</th>\n",
       "      <th>trans_lon</th>\n",
       "      <th>trans_ip</th>\n",
       "      <th>device_id</th>\n",
       "      <th>account</th>\n",
       "      <th>is_fraud</th>\n",
       "      <th>is_suspicious</th>\n",
       "      <th>status</th>\n",
       "      <th>rule</th>\n",
       "    </tr>\n",
       "  </thead>\n",
       "  <tbody>\n",
       "    <tr>\n",
       "      <th>0</th>\n",
       "      <td>5860</td>\n",
       "      <td>2025-01-11 04:19:00</td>\n",
       "      <td>1736569140</td>\n",
       "      <td>21500.0</td>\n",
       "      <td>inbound</td>\n",
       "      <td>transfer</td>\n",
       "      <td>not applicable</td>\n",
       "      <td>True</td>\n",
       "      <td>NaN</td>\n",
       "      <td>not applicable</td>\n",
       "      <td>NaN</td>\n",
       "      <td>NaN</td>\n",
       "      <td>not applicable</td>\n",
       "      <td>NaN</td>\n",
       "      <td>14772.0</td>\n",
       "      <td>False</td>\n",
       "      <td>False</td>\n",
       "      <td>approved</td>\n",
       "      <td>not applicable</td>\n",
       "    </tr>\n",
       "    <tr>\n",
       "      <th>1</th>\n",
       "      <td>5860</td>\n",
       "      <td>2025-01-11 06:44:00</td>\n",
       "      <td>1736577840</td>\n",
       "      <td>18000.0</td>\n",
       "      <td>purchase</td>\n",
       "      <td>ecom</td>\n",
       "      <td>shopping_net</td>\n",
       "      <td>True</td>\n",
       "      <td>6885.0</td>\n",
       "      <td>Барнаул</td>\n",
       "      <td>53.348115</td>\n",
       "      <td>83.779836</td>\n",
       "      <td>2.60.18.165</td>\n",
       "      <td>8584.0</td>\n",
       "      <td>NaN</td>\n",
       "      <td>False</td>\n",
       "      <td>False</td>\n",
       "      <td>approved</td>\n",
       "      <td>not applicable</td>\n",
       "    </tr>\n",
       "    <tr>\n",
       "      <th>2</th>\n",
       "      <td>5860</td>\n",
       "      <td>2025-01-11 08:21:00</td>\n",
       "      <td>1736583660</td>\n",
       "      <td>3000.0</td>\n",
       "      <td>purchase</td>\n",
       "      <td>ecom</td>\n",
       "      <td>travel_net</td>\n",
       "      <td>True</td>\n",
       "      <td>6869.0</td>\n",
       "      <td>Барнаул</td>\n",
       "      <td>53.348115</td>\n",
       "      <td>83.779836</td>\n",
       "      <td>2.60.18.165</td>\n",
       "      <td>8585.0</td>\n",
       "      <td>NaN</td>\n",
       "      <td>False</td>\n",
       "      <td>False</td>\n",
       "      <td>approved</td>\n",
       "      <td>not applicable</td>\n",
       "    </tr>\n",
       "    <tr>\n",
       "      <th>3</th>\n",
       "      <td>5860</td>\n",
       "      <td>2025-01-11 10:49:00</td>\n",
       "      <td>1736592540</td>\n",
       "      <td>500.0</td>\n",
       "      <td>purchase</td>\n",
       "      <td>ecom</td>\n",
       "      <td>misc_net</td>\n",
       "      <td>True</td>\n",
       "      <td>6915.0</td>\n",
       "      <td>Барнаул</td>\n",
       "      <td>53.348115</td>\n",
       "      <td>83.779836</td>\n",
       "      <td>2.60.18.165</td>\n",
       "      <td>8584.0</td>\n",
       "      <td>NaN</td>\n",
       "      <td>False</td>\n",
       "      <td>False</td>\n",
       "      <td>approved</td>\n",
       "      <td>not applicable</td>\n",
       "    </tr>\n",
       "    <tr>\n",
       "      <th>4</th>\n",
       "      <td>5860</td>\n",
       "      <td>2025-01-11 11:24:00</td>\n",
       "      <td>1736594640</td>\n",
       "      <td>49100.0</td>\n",
       "      <td>inbound</td>\n",
       "      <td>transfer</td>\n",
       "      <td>not applicable</td>\n",
       "      <td>True</td>\n",
       "      <td>NaN</td>\n",
       "      <td>not applicable</td>\n",
       "      <td>NaN</td>\n",
       "      <td>NaN</td>\n",
       "      <td>not applicable</td>\n",
       "      <td>NaN</td>\n",
       "      <td>14772.0</td>\n",
       "      <td>False</td>\n",
       "      <td>False</td>\n",
       "      <td>approved</td>\n",
       "      <td>not applicable</td>\n",
       "    </tr>\n",
       "    <tr>\n",
       "      <th>5</th>\n",
       "      <td>5860</td>\n",
       "      <td>2025-01-12 03:10:00</td>\n",
       "      <td>1736651400</td>\n",
       "      <td>33000.0</td>\n",
       "      <td>purchase</td>\n",
       "      <td>ecom</td>\n",
       "      <td>misc_net</td>\n",
       "      <td>True</td>\n",
       "      <td>6892.0</td>\n",
       "      <td>Барнаул</td>\n",
       "      <td>53.348115</td>\n",
       "      <td>83.779836</td>\n",
       "      <td>2.60.18.165</td>\n",
       "      <td>8585.0</td>\n",
       "      <td>NaN</td>\n",
       "      <td>False</td>\n",
       "      <td>False</td>\n",
       "      <td>approved</td>\n",
       "      <td>not applicable</td>\n",
       "    </tr>\n",
       "    <tr>\n",
       "      <th>6</th>\n",
       "      <td>5860</td>\n",
       "      <td>2025-01-12 04:54:00</td>\n",
       "      <td>1736657640</td>\n",
       "      <td>7000.0</td>\n",
       "      <td>purchase</td>\n",
       "      <td>ecom</td>\n",
       "      <td>travel_net</td>\n",
       "      <td>True</td>\n",
       "      <td>6961.0</td>\n",
       "      <td>Барнаул</td>\n",
       "      <td>53.348115</td>\n",
       "      <td>83.779836</td>\n",
       "      <td>2.60.18.165</td>\n",
       "      <td>8585.0</td>\n",
       "      <td>NaN</td>\n",
       "      <td>False</td>\n",
       "      <td>False</td>\n",
       "      <td>approved</td>\n",
       "      <td>not applicable</td>\n",
       "    </tr>\n",
       "    <tr>\n",
       "      <th>7</th>\n",
       "      <td>5860</td>\n",
       "      <td>2025-01-12 07:01:00</td>\n",
       "      <td>1736665260</td>\n",
       "      <td>5000.0</td>\n",
       "      <td>purchase</td>\n",
       "      <td>ecom</td>\n",
       "      <td>misc_net</td>\n",
       "      <td>True</td>\n",
       "      <td>6855.0</td>\n",
       "      <td>Барнаул</td>\n",
       "      <td>53.348115</td>\n",
       "      <td>83.779836</td>\n",
       "      <td>2.60.18.165</td>\n",
       "      <td>8585.0</td>\n",
       "      <td>NaN</td>\n",
       "      <td>False</td>\n",
       "      <td>False</td>\n",
       "      <td>approved</td>\n",
       "      <td>not applicable</td>\n",
       "    </tr>\n",
       "    <tr>\n",
       "      <th>8</th>\n",
       "      <td>5860</td>\n",
       "      <td>2025-01-12 07:39:00</td>\n",
       "      <td>1736667540</td>\n",
       "      <td>4100.0</td>\n",
       "      <td>purchase</td>\n",
       "      <td>ecom</td>\n",
       "      <td>shopping_net</td>\n",
       "      <td>True</td>\n",
       "      <td>6909.0</td>\n",
       "      <td>Барнаул</td>\n",
       "      <td>53.348115</td>\n",
       "      <td>83.779836</td>\n",
       "      <td>2.60.18.165</td>\n",
       "      <td>8585.0</td>\n",
       "      <td>NaN</td>\n",
       "      <td>False</td>\n",
       "      <td>False</td>\n",
       "      <td>approved</td>\n",
       "      <td>not applicable</td>\n",
       "    </tr>\n",
       "    <tr>\n",
       "      <th>9</th>\n",
       "      <td>5860</td>\n",
       "      <td>2025-01-12 08:16:00</td>\n",
       "      <td>1736669760</td>\n",
       "      <td>47100.0</td>\n",
       "      <td>inbound</td>\n",
       "      <td>transfer</td>\n",
       "      <td>not applicable</td>\n",
       "      <td>True</td>\n",
       "      <td>NaN</td>\n",
       "      <td>not applicable</td>\n",
       "      <td>NaN</td>\n",
       "      <td>NaN</td>\n",
       "      <td>not applicable</td>\n",
       "      <td>NaN</td>\n",
       "      <td>14772.0</td>\n",
       "      <td>False</td>\n",
       "      <td>False</td>\n",
       "      <td>approved</td>\n",
       "      <td>not applicable</td>\n",
       "    </tr>\n",
       "    <tr>\n",
       "      <th>10</th>\n",
       "      <td>5860</td>\n",
       "      <td>2025-01-12 10:13:00</td>\n",
       "      <td>1736676780</td>\n",
       "      <td>11000.0</td>\n",
       "      <td>purchase</td>\n",
       "      <td>ecom</td>\n",
       "      <td>shopping_net</td>\n",
       "      <td>True</td>\n",
       "      <td>6836.0</td>\n",
       "      <td>Барнаул</td>\n",
       "      <td>53.348115</td>\n",
       "      <td>83.779836</td>\n",
       "      <td>2.60.18.165</td>\n",
       "      <td>8585.0</td>\n",
       "      <td>NaN</td>\n",
       "      <td>False</td>\n",
       "      <td>False</td>\n",
       "      <td>approved</td>\n",
       "      <td>not applicable</td>\n",
       "    </tr>\n",
       "    <tr>\n",
       "      <th>11</th>\n",
       "      <td>5860</td>\n",
       "      <td>2025-01-13 01:25:00</td>\n",
       "      <td>1736731500</td>\n",
       "      <td>16000.0</td>\n",
       "      <td>purchase</td>\n",
       "      <td>ecom</td>\n",
       "      <td>shopping_net</td>\n",
       "      <td>True</td>\n",
       "      <td>6851.0</td>\n",
       "      <td>Барнаул</td>\n",
       "      <td>53.348115</td>\n",
       "      <td>83.779836</td>\n",
       "      <td>2.60.18.165</td>\n",
       "      <td>8585.0</td>\n",
       "      <td>NaN</td>\n",
       "      <td>True</td>\n",
       "      <td>False</td>\n",
       "      <td>declined</td>\n",
       "      <td>drop_purchaser</td>\n",
       "    </tr>\n",
       "    <tr>\n",
       "      <th>12</th>\n",
       "      <td>5860</td>\n",
       "      <td>2025-01-13 03:48:00</td>\n",
       "      <td>1736740080</td>\n",
       "      <td>14800.0</td>\n",
       "      <td>inbound</td>\n",
       "      <td>transfer</td>\n",
       "      <td>not applicable</td>\n",
       "      <td>True</td>\n",
       "      <td>NaN</td>\n",
       "      <td>not applicable</td>\n",
       "      <td>NaN</td>\n",
       "      <td>NaN</td>\n",
       "      <td>not applicable</td>\n",
       "      <td>NaN</td>\n",
       "      <td>14772.0</td>\n",
       "      <td>True</td>\n",
       "      <td>False</td>\n",
       "      <td>declined</td>\n",
       "      <td>drop_flow_cashout</td>\n",
       "    </tr>\n",
       "  </tbody>\n",
       "</table>\n",
       "</div>"
      ],
      "text/plain": [
       "    client_id            txn_time   unix_time   amount      type   channel  \\\n",
       "0        5860 2025-01-11 04:19:00  1736569140  21500.0   inbound  transfer   \n",
       "1        5860 2025-01-11 06:44:00  1736577840  18000.0  purchase      ecom   \n",
       "2        5860 2025-01-11 08:21:00  1736583660   3000.0  purchase      ecom   \n",
       "3        5860 2025-01-11 10:49:00  1736592540    500.0  purchase      ecom   \n",
       "4        5860 2025-01-11 11:24:00  1736594640  49100.0   inbound  transfer   \n",
       "5        5860 2025-01-12 03:10:00  1736651400  33000.0  purchase      ecom   \n",
       "6        5860 2025-01-12 04:54:00  1736657640   7000.0  purchase      ecom   \n",
       "7        5860 2025-01-12 07:01:00  1736665260   5000.0  purchase      ecom   \n",
       "8        5860 2025-01-12 07:39:00  1736667540   4100.0  purchase      ecom   \n",
       "9        5860 2025-01-12 08:16:00  1736669760  47100.0   inbound  transfer   \n",
       "10       5860 2025-01-12 10:13:00  1736676780  11000.0  purchase      ecom   \n",
       "11       5860 2025-01-13 01:25:00  1736731500  16000.0  purchase      ecom   \n",
       "12       5860 2025-01-13 03:48:00  1736740080  14800.0   inbound  transfer   \n",
       "\n",
       "          category  online  merchant_id      trans_city  trans_lat  trans_lon  \\\n",
       "0   not applicable    True          NaN  not applicable        NaN        NaN   \n",
       "1     shopping_net    True       6885.0         Барнаул  53.348115  83.779836   \n",
       "2       travel_net    True       6869.0         Барнаул  53.348115  83.779836   \n",
       "3         misc_net    True       6915.0         Барнаул  53.348115  83.779836   \n",
       "4   not applicable    True          NaN  not applicable        NaN        NaN   \n",
       "5         misc_net    True       6892.0         Барнаул  53.348115  83.779836   \n",
       "6       travel_net    True       6961.0         Барнаул  53.348115  83.779836   \n",
       "7         misc_net    True       6855.0         Барнаул  53.348115  83.779836   \n",
       "8     shopping_net    True       6909.0         Барнаул  53.348115  83.779836   \n",
       "9   not applicable    True          NaN  not applicable        NaN        NaN   \n",
       "10    shopping_net    True       6836.0         Барнаул  53.348115  83.779836   \n",
       "11    shopping_net    True       6851.0         Барнаул  53.348115  83.779836   \n",
       "12  not applicable    True          NaN  not applicable        NaN        NaN   \n",
       "\n",
       "          trans_ip  device_id  account  is_fraud  is_suspicious    status  \\\n",
       "0   not applicable        NaN  14772.0     False          False  approved   \n",
       "1      2.60.18.165     8584.0      NaN     False          False  approved   \n",
       "2      2.60.18.165     8585.0      NaN     False          False  approved   \n",
       "3      2.60.18.165     8584.0      NaN     False          False  approved   \n",
       "4   not applicable        NaN  14772.0     False          False  approved   \n",
       "5      2.60.18.165     8585.0      NaN     False          False  approved   \n",
       "6      2.60.18.165     8585.0      NaN     False          False  approved   \n",
       "7      2.60.18.165     8585.0      NaN     False          False  approved   \n",
       "8      2.60.18.165     8585.0      NaN     False          False  approved   \n",
       "9   not applicable        NaN  14772.0     False          False  approved   \n",
       "10     2.60.18.165     8585.0      NaN     False          False  approved   \n",
       "11     2.60.18.165     8585.0      NaN      True          False  declined   \n",
       "12  not applicable        NaN  14772.0      True          False  declined   \n",
       "\n",
       "                 rule  \n",
       "0      not applicable  \n",
       "1      not applicable  \n",
       "2      not applicable  \n",
       "3      not applicable  \n",
       "4      not applicable  \n",
       "5      not applicable  \n",
       "6      not applicable  \n",
       "7      not applicable  \n",
       "8      not applicable  \n",
       "9      not applicable  \n",
       "10     not applicable  \n",
       "11     drop_purchaser  \n",
       "12  drop_flow_cashout  "
      ]
     },
     "execution_count": 12,
     "metadata": {},
     "output_type": "execute_result"
    }
   ],
   "source": [
    "all_txns_df3 = pd.DataFrame(all_txns3)\n",
    "print(all_txns_df3.shape[0])\n",
    "all_txns_df3"
   ]
  },
  {
   "cell_type": "code",
   "execution_count": null,
   "id": "7f6e8e99-70d2-4cc1-9c25-9d103abb3a6a",
   "metadata": {},
   "outputs": [],
   "source": []
  }
 ],
 "metadata": {
  "kernelspec": {
   "display_name": "Python 3 (ipykernel)",
   "language": "python",
   "name": "python3"
  },
  "language_info": {
   "codemirror_mode": {
    "name": "ipython",
    "version": 3
   },
   "file_extension": ".py",
   "mimetype": "text/x-python",
   "name": "python",
   "nbconvert_exporter": "python",
   "pygments_lexer": "ipython3",
   "version": "3.13.3"
  }
 },
 "nbformat": 4,
 "nbformat_minor": 5
}
