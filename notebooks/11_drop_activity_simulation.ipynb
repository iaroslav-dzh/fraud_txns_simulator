{
 "cells": [
  {
   "cell_type": "code",
   "execution_count": 1,
   "id": "bbae5b4f-3204-4d14-9b95-f4ac0713feaf",
   "metadata": {},
   "outputs": [],
   "source": [
    "import pandas as pd\n",
    "import numpy as np\n",
    "import matplotlib.pyplot as plt\n",
    "import seaborn as sns\n",
    "import os\n",
    "import pyarrow\n",
    "from dataclasses import dataclass\n",
    "import yaml\n",
    "from typing import Union"
   ]
  },
  {
   "cell_type": "code",
   "execution_count": 2,
   "id": "93365953-391c-4ad8-86ce-c7b17cef67d3",
   "metadata": {},
   "outputs": [
    {
     "data": {
      "text/plain": [
       "'C:\\\\Users\\\\iaros\\\\My_documents\\\\Education\\\\projects\\\\fraud_detection_01\\\\notebooks'"
      ]
     },
     "execution_count": 2,
     "metadata": {},
     "output_type": "execute_result"
    }
   ],
   "source": [
    "os.getcwd()"
   ]
  },
  {
   "cell_type": "code",
   "execution_count": 3,
   "id": "a72408c6-94be-469d-bfd0-f172fa0d5b8f",
   "metadata": {},
   "outputs": [
    {
     "data": {
      "text/plain": [
       "'C:\\\\Users\\\\iaros\\\\My_documents\\\\Education\\\\projects\\\\fraud_detection_01'"
      ]
     },
     "execution_count": 3,
     "metadata": {},
     "output_type": "execute_result"
    }
   ],
   "source": [
    "os.chdir(\"..\")\n",
    "os.getcwd()"
   ]
  },
  {
   "cell_type": "markdown",
   "id": "4b09db79-7db0-477f-8823-8701516efd8f",
   "metadata": {},
   "source": [
    "## Загрузка конфигураций"
   ]
  },
  {
   "cell_type": "code",
   "execution_count": 4,
   "id": "738b6376-fc32-4bf6-8f27-c9d562089114",
   "metadata": {},
   "outputs": [],
   "source": [
    "# Общие настройки\n",
    "with open(\"./config/base.yaml\") as f:\n",
    "    base_cfg = yaml.safe_load(f)\n",
    "# Настройки фрода\n",
    "with open(\"./config/fraud.yaml\") as f:\n",
    "    fraud_cfg = yaml.safe_load(f)\n",
    "# Настройки фрода для дропов\n",
    "with open(\"./config/drops.yaml\", encoding=\"utf8\") as f:\n",
    "    drops_cfg = yaml.safe_load(f)\n",
    "# Настройки времени\n",
    "with open(\"./config/time.yaml\") as f:\n",
    "    time_cfg = yaml.safe_load(f)"
   ]
  },
  {
   "cell_type": "markdown",
   "id": "c0df9be0-4dc3-42ee-86e5-d57dad7448c2",
   "metadata": {},
   "source": [
    "## Класс `DropBatchProcessor`\n",
    "- модуль `data_generator.fraud.drops.processor`\n",
    "- Обработка полученной дропом партии (батча) денег"
   ]
  },
  {
   "cell_type": "code",
   "execution_count": 5,
   "id": "2ac02222-22b3-4639-8fba-1a7a7419f17a",
   "metadata": {},
   "outputs": [],
   "source": [
    "class DropBatchHandler:\n",
    "    \"\"\"\n",
    "    Обработка полученной дропом партии (батча) денег\n",
    "    ---------------------------\n",
    "    drop_type: str. 'distributor' или 'purchaser'\n",
    "    amt_hand: DropAmountHandler. Генератор сумм входящих/исходящих транзакций, сумм снятий.\n",
    "              Управление балансом текущего дропа.\n",
    "    behav_hand: DistBehaviorHandler | PurchBehaviorHandler.\n",
    "                Управление поведением дропа: распределителя или покупателя.\n",
    "    create_txn: CreateDropTxn. Создание транзакций.\n",
    "    declined: bool. По умолчанию False. Отклоняются ли транзакции.\n",
    "    txns_fm_batch: list. Транзакции дропа в текущем батче.\n",
    "    \"\"\"\n",
    "\n",
    "    def __init__(self, base: DropBaseClasses, create_txn: CreateDropTxn):\n",
    "        \"\"\"\n",
    "        base: DropBaseClasses. Объекты основных классов для дропов.\n",
    "        create_txn: CreateDropTxn. Создание транзакций.\n",
    "        \"\"\"\n",
    "        self.drop_type = base.drop_type\n",
    "        self.amt_hand = base.amt_hand\n",
    "        self.behav_hand = base.behav_hand\n",
    "        self.create_txn = create_txn\n",
    "        self.declined = False\n",
    "        self.txns_fm_batch = []\n",
    "\n",
    "\n",
    "    def should_decline(self):\n",
    "        \"\"\"\n",
    "        Проверка будет ли отклонена транзакция.\n",
    "        Возвращает True или False в зависимости от достижения лимитов.\n",
    "        Также записывает это значение в self.declined\n",
    "        \"\"\"\n",
    "        self.declined = self.create_txn.limit_reached()\n",
    "        # print(\"is_declined\", self.declined)\n",
    "        return self.declined\n",
    "\n",
    "\n",
    "    def reset_cache(self, all=False):\n",
    "        \"\"\"\n",
    "        Сброс кэша.\n",
    "        --------\n",
    "        all: bool. Если True то сбрасывает атрибуты: txns_fm_batch, declined.\n",
    "             Если False то declined не сбрсывает\n",
    "             Также передается в методы классов:\n",
    "             DistBehaviorHandler | PurchBehaviorHandler,\n",
    "             DropAmountHandler.\n",
    "        \"\"\"\n",
    "        behav_hand = self.behav_hand\n",
    "        amt_hand = self.amt_hand\n",
    "\n",
    "        self.txns_fm_batch = []\n",
    "        amt_hand.reset_cache(all=all)\n",
    "        behav_hand.reset_cache(all=all)\n",
    "\n",
    "        if not all:\n",
    "            return\n",
    "        \n",
    "        self.declined = False\n",
    "\n",
    "\n",
    "    def distributor(self):\n",
    "        \"\"\"\n",
    "        Обработка партии(батча) денег полученных дропом\n",
    "        распределителем.\n",
    "        \"\"\"\n",
    "        behav_hand = self.behav_hand\n",
    "        amt_hand = self.amt_hand\n",
    "        create_txn = self.create_txn\n",
    "        \n",
    "    \n",
    "        while amt_hand.balance > 0:\n",
    "            declined = self.should_decline() # будет ли отклонена транзакция\n",
    "            behav_hand.guide_scenario()\n",
    "\n",
    "            if behav_hand.to_crypto: # перевод на криптобиржу или нет\n",
    "                txn_out = create_txn.purchase(declined=declined)\n",
    "            else: # Иначе перевод/снятие\n",
    "                to_drop = behav_hand.to_drop # Пробовать ли перевести другому дропу.\n",
    "                txn_out = create_txn.trf_or_atm(receive=False, \n",
    "                                    to_drop=to_drop, declined=declined)\n",
    "            # Добавляем в список транз-ций батча   \n",
    "            self.txns_fm_batch.append(txn_out)\n",
    "\n",
    "            # Сколько попыток будет после первой откл. транз-ции\n",
    "            behav_hand.attempts_after_decline()\n",
    "\n",
    "            # Если это не первая отклоненная транзакция, то вычитаем попытку\n",
    "            # совершить транзакцию после отклонения\n",
    "            behav_hand.deduct_attempts()\n",
    "            \n",
    "            # Решение об остановке после отклоненной транзакции\n",
    "            if behav_hand.stop_after_decline():\n",
    "                break\n",
    "            \n",
    "\n",
    "    def purchaser(self):\n",
    "        \"\"\"\n",
    "        Обработка партии(батча) денег полученных дропом\n",
    "        покупателем.\n",
    "        \"\"\"\n",
    "        behav_hand = self.behav_hand\n",
    "        amt_hand = self.amt_hand\n",
    "        create_txn = self.create_txn\n",
    "        \n",
    "        while amt_hand.balance > 0:\n",
    "            declined = self.should_decline() # будет ли отклонена транзакция\n",
    "\n",
    "            txn_out = create_txn.purchase(declined=declined)\n",
    "            self.txns_fm_batch.append(txn_out)\n",
    "            \n",
    "            # Сколько попыток будет после первой откл. транз-ции\n",
    "            behav_hand.attempts_after_decline()\n",
    "\n",
    "            # Если это не первая отклоненная транзакция, то вычитаем попытку\n",
    "            # совершить транзакцию после отклонения\n",
    "            behav_hand.deduct_attempts()\n",
    "            \n",
    "            # Решение об остановке после отклоненной транзакции\n",
    "            if behav_hand.stop_after_decline():\n",
    "                break\n",
    "\n",
    "\n",
    "    def process_batch(self):\n",
    "        \"\"\"\n",
    "        Вызов соответствующего типу дропа метода для обработки\n",
    "        батча денег.\n",
    "        Метод выбирается исходя из self.drop_type.\n",
    "        ---------\n",
    "        \"\"\"\n",
    "        drop_type = self.drop_type\n",
    "\n",
    "        if drop_type == \"distributor\":\n",
    "            self.distributor()\n",
    "        elif drop_type == \"purchaser\":\n",
    "            self.purchaser()"
   ]
  },
  {
   "cell_type": "markdown",
   "id": "98c81037-5e10-40f9-8a69-2b3a4f1c823d",
   "metadata": {},
   "source": [
    "**Тест `DropBatchProcessor`**"
   ]
  },
  {
   "cell_type": "code",
   "execution_count": 2,
   "id": "cbacc12f-7476-4324-977e-1600c0994cd3",
   "metadata": {},
   "outputs": [],
   "source": [
    "# Временный импорт\n",
    "import os\n",
    "import yaml\n",
    "import pandas as pd\n",
    "import numpy as np\n",
    "os.chdir(\"..\")\n",
    "\n",
    "# Общие настройки\n",
    "with open(\"./config/base.yaml\") as f:\n",
    "    base_cfg = yaml.safe_load(f)\n",
    "# Настройки фрода\n",
    "with open(\"./config/fraud.yaml\") as f:\n",
    "    fraud_cfg = yaml.safe_load(f)\n",
    "# Настройки фрода для дропов\n",
    "with open(\"./config/drops.yaml\", encoding=\"utf8\") as f:\n",
    "    drops_cfg = yaml.safe_load(f)\n",
    "# Настройки времени\n",
    "with open(\"./config/time.yaml\") as f:\n",
    "    time_cfg = yaml.safe_load(f)"
   ]
  },
  {
   "cell_type": "code",
   "execution_count": 3,
   "id": "60af8bfd-e376-4716-88e5-19d0354e968d",
   "metadata": {},
   "outputs": [
    {
     "data": {
      "text/plain": [
       "Pandas(Index=8, client_id=3565, district_id=44, birth_date='1962-07-29', sex='male', region='Ставропольский', area='Ставрополь', timezone='UTC+3', lat=45.0445439, lon=41.9690168, population=398266, home_ip='2.60.13.50', geometry=<MULTIPOLYGON (((41.81 45.006, 41.811 45.006, 41.813 45.007, 41.815 45.007, ...>)"
      ]
     },
     "execution_count": 3,
     "metadata": {},
     "output_type": "execute_result"
    }
   ],
   "source": [
    "from data_generator.fraud.drops.build.config import DropConfigBuilder\n",
    "from data_generator.fraud.drops.build.builder import DropBaseClasses\n",
    "from data_generator.fraud.drops.txns import CreateDropTxn\n",
    "from data_generator.fraud.drops.processor import DropBatchHandler\n",
    "from data_generator.general_time import pd_timestamp_to_unix\n",
    "\n",
    "drop_cfg_build = DropConfigBuilder(base_cfg=base_cfg, fraud_cfg=fraud_cfg, drop_cfg=drops_cfg)\n",
    "configs = drop_cfg_build.build_dist_cfg()\n",
    "# configs = drop_cfg_build.build_purch_cfg()\n",
    "\n",
    "base_agg1 = DropBaseClasses(drop_type=\"distributor\", configs=configs)\n",
    "# base_agg1 = DropBaseClasses(drop_type=\"purchaser\", configs=configs)\n",
    "base_agg1.build_all()\n",
    "# base_agg1.build_all(drop_type=\"purchaser\")\n",
    "acc_hand1 = base_agg1.acc_hand\n",
    "amt_hand1 = base_agg1.amt_hand\n",
    "part_data1 = base_agg1.part_data\n",
    "time_hand1 = base_agg1.time_hand\n",
    "behav_hand1 = base_agg1.behav_hand\n",
    "\n",
    "cr_drop_txn1 = CreateDropTxn(configs=configs, base=base_agg1)\n",
    "drop_clients = configs.clients\n",
    "\n",
    "batch_hand = DropBatchHandler(base=base_agg1, create_txn=cr_drop_txn1)\n",
    "\n",
    "for client in drop_clients.iloc[[8]].itertuples():\n",
    "    part_data1.client_info = client\n",
    "    acc_hand1.client_id = client.client_id\n",
    "    acc_hand1.get_account(own=True)\n",
    "part_data1.client_info"
   ]
  },
  {
   "cell_type": "code",
   "execution_count": 4,
   "id": "ee553ff5-8b41-42ac-8c47-a97856c56706",
   "metadata": {},
   "outputs": [],
   "source": [
    "def reset_caches(cr_drop_txn, behav_hand, amt_hand, time_hand, part_data, batch_hand):\n",
    "    cr_drop_txn.reset_cache(only_counters=False)\n",
    "    behav_hand.reset_cache(all=True)\n",
    "    amt_hand.reset_cache(all=True) # batch_txns здесь\n",
    "    time_hand.reset_cache()\n",
    "    part_data.reset_cache()\n",
    "    batch_hand.reset_cache(all=True)"
   ]
  },
  {
   "cell_type": "code",
   "execution_count": 4,
   "id": "a01798c1-646a-47ad-ab45-c2f733b04cbc",
   "metadata": {},
   "outputs": [
    {
     "data": {
      "text/plain": [
       "Series([], Name: account_id, dtype: object)"
      ]
     },
     "execution_count": 4,
     "metadata": {},
     "output_type": "execute_result"
    }
   ],
   "source": [
    "# acc_hand1.outer_accounts.loc[~(acc_hand1.outer_accounts.isin(acc_hand1.used_accounts))].sample(1)\n",
    "# acc_hand1.outer_accounts.loc[~(acc_hand1.outer_accounts.isin(acc_hand1.used_accounts))]\n",
    "# acc_hand1.reset_cache()\n",
    "acc_hand1.used_accounts"
   ]
  },
  {
   "cell_type": "markdown",
   "id": "1e3d3f79-bf05-4165-880f-36d8b7d12678",
   "metadata": {},
   "source": [
    "**`should_decline`**  \n",
    "- cr_drop_txn1.out_txns = cr_drop_txn1.out_lim\n",
    "- cr_drop_txn1.in_txns = cr_drop_txn1.in_lim\n",
    "- cr_drop_txn1.out_txns = cr_drop_txn1.out_lim - 1\n",
    "- cr_drop_txn1.in_txns = cr_drop_txn1.in_lim - 1\n",
    "- cr_drop_txn1.out_txns = cr_drop_txn1.out_lim + 1\n",
    "- cr_drop_txn1.in_txns = cr_drop_txn1.in_lim + 1"
   ]
  },
  {
   "cell_type": "code",
   "execution_count": 5,
   "id": "dea682a9-d69d-48cc-bd74-aa380a84326d",
   "metadata": {},
   "outputs": [
    {
     "data": {
      "text/plain": [
       "True"
      ]
     },
     "execution_count": 5,
     "metadata": {},
     "output_type": "execute_result"
    }
   ],
   "source": [
    "reset_caches(cr_drop_txn1, behav_hand1, amt_hand1, time_hand1, part_data1, batch_hand)\n",
    "# cr_drop_txn1.out_txns = cr_drop_txn1.out_lim\n",
    "# cr_drop_txn1.in_txns = cr_drop_txn1.in_lim\n",
    "# cr_drop_txn1.out_txns = cr_drop_txn1.out_lim - 1\n",
    "# cr_drop_txn1.in_txns = cr_drop_txn1.in_lim - 1\n",
    "# cr_drop_txn1.out_txns = cr_drop_txn1.out_lim + 1\n",
    "# cr_drop_txn1.in_txns = cr_drop_txn1.in_lim + 1\n",
    "batch_hand.should_decline()"
   ]
  },
  {
   "cell_type": "markdown",
   "id": "699753bb-2cc7-4441-ba09-531438b5efa5",
   "metadata": {},
   "source": [
    "### **Тест метода `distributor`**"
   ]
  },
  {
   "cell_type": "markdown",
   "id": "a97d79a2-831c-40c5-aa2e-076d856c0f48",
   "metadata": {},
   "source": [
    "**баланс > trf_max** - выводить кол-во попыток через print внутри atts_after_decline()  \n",
    "4 кейса\n",
    "- scen=`\"split_transfer\"`, in_chunks = `True`\n",
    "- scen=`\"atm+transfer`\", in_chunks = `True`\n",
    "- scen=`\"atm\"`, in_chunks = `False`\n",
    "- scen=`\"transfer\"`, in_chunks = `False`"
   ]
  },
  {
   "cell_type": "code",
   "execution_count": 10,
   "id": "78406e74-6d9e-4214-99c3-6523e850e016",
   "metadata": {},
   "outputs": [],
   "source": [
    "reset_caches(cr_drop_txn1, behav_hand1, amt_hand1, time_hand1, part_data1, batch_hand)\n",
    "acc_hand1.reset_cache()\n",
    "all_txns1 = []\n",
    "start_time = pd.to_datetime(\"2025-07-02 11:15:00\", format=\"%Y-%m-%d %H:%M:%S\")\n",
    "time_hand1.last_unix = pd_timestamp_to_unix(start_time)\n",
    "time_hand1.start_unix = pd_timestamp_to_unix(start_time)"
   ]
  },
  {
   "cell_type": "code",
   "execution_count": 11,
   "id": "bf437c5a-468d-4d91-b2f6-9c41ddbc7c5c",
   "metadata": {},
   "outputs": [
    {
     "name": "stdout",
     "output_type": "stream",
     "text": [
      "attempts 3\n"
     ]
    }
   ],
   "source": [
    "while not batch_hand.declined:\n",
    "    amt_hand1.balance = behav_hand1.trf_max + 1000\n",
    "    behav_hand1.scen = \"transfer\"\n",
    "    behav_hand1.in_chunks = False\n",
    "\n",
    "    batch_hand.distributor()\n",
    "    txns_fm_batch1 = batch_hand.txns_fm_batch\n",
    "    all_txns1.extend(txns_fm_batch1)\n",
    "    batch_hand.reset_cache(all=False)"
   ]
  },
  {
   "cell_type": "code",
   "execution_count": 4,
   "id": "c10fb409-6e7a-4fb4-aacb-1727eb93b18d",
   "metadata": {},
   "outputs": [],
   "source": [
    "all_txns_df = pd.DataFrame(all_txns1)\n",
    "print(all_txns_df.shape[0])\n",
    "all_txns_df"
   ]
  },
  {
   "cell_type": "markdown",
   "id": "38a0ab18-b44b-478c-a84a-ee02d03f5c34",
   "metadata": {},
   "source": [
    "**С генерацией входящих транзакций и рандомизацией поведения**\n",
    "- реализация через цикл наподобие run_drop_lifecycle()"
   ]
  },
  {
   "cell_type": "code",
   "execution_count": 7,
   "id": "83066831-c62d-4671-a576-142a671c3a4d",
   "metadata": {},
   "outputs": [],
   "source": [
    "reset_caches(cr_drop_txn1, behav_hand1, amt_hand1, time_hand1, part_data1, batch_hand)\n",
    "acc_hand1.reset_cache()\n",
    "all_txns1 = []\n",
    "\n",
    "while True:\n",
    "    declined = batch_hand.declined\n",
    "    receive_txn1 = cr_drop_txn1.trf_or_atm(dist=True, receive=True, to_drop=False, declined=declined)\n",
    "    all_txns1.append(receive_txn1)\n",
    "    if declined:\n",
    "        break\n",
    "        \n",
    "    behav_hand1.sample_scenario() # выбрать сценарий\n",
    "    behav_hand1.in_chunks_val() # транзакции по частям или нет \n",
    "    \n",
    "    batch_hand.process_batch()\n",
    "    txns_fm_batch1 = batch_hand.txns_fm_batch\n",
    "    all_txns1.extend(txns_fm_batch1)\n",
    "    batch_hand.reset_cache(all=False)"
   ]
  },
  {
   "cell_type": "code",
   "execution_count": 9,
   "id": "5e932f5e-9ba2-4a27-bbd9-29154dab7396",
   "metadata": {},
   "outputs": [
    {
     "name": "stdout",
     "output_type": "stream",
     "text": [
      "16\n"
     ]
    },
    {
     "data": {
      "text/plain": [
       "(11, 19)"
      ]
     },
     "execution_count": 9,
     "metadata": {},
     "output_type": "execute_result"
    }
   ],
   "source": [
    "all_txns_df = pd.DataFrame(all_txns1)\n",
    "print(all_txns_df.shape[0])\n",
    "all_txns_df #.query(\"type != 'inbound'\").shape"
   ]
  },
  {
   "cell_type": "markdown",
   "id": "2bfd18d2-b163-437a-96fe-907765aa0bce",
   "metadata": {},
   "source": [
    "### **Тест метода `purchaser`**"
   ]
  },
  {
   "cell_type": "markdown",
   "id": "37052e79-3146-47f1-b573-49e5fc0adfa1",
   "metadata": {},
   "source": [
    "**баланс > amt_max** - выводить кол-во попыток через print внутри atts_after_decline()\n",
    "- scen=`\"split_money\"`, in_chunks = `True`\n",
    "- scen=`\"transfer\"`, in_chunks = `False`"
   ]
  },
  {
   "cell_type": "code",
   "execution_count": 7,
   "id": "3d009d53-e6e4-4dd8-a67a-a397627a0561",
   "metadata": {},
   "outputs": [],
   "source": [
    "reset_caches(cr_drop_txn1, behav_hand1, amt_hand1, time_hand1, part_data1, batch_hand)\n",
    "acc_hand1.reset_cache()\n",
    "all_txns2 = []\n",
    "start_time = pd.to_datetime(\"2025-07-02 11:15:00\", format=\"%Y-%m-%d %H:%M:%S\")\n",
    "time_hand1.last_unix = pd_timestamp_to_unix(start_time)\n",
    "time_hand1.start_unix = pd_timestamp_to_unix(start_time)"
   ]
  },
  {
   "cell_type": "code",
   "execution_count": 8,
   "id": "f919b79e-64d6-4504-845d-270d16f16c97",
   "metadata": {},
   "outputs": [
    {
     "name": "stdout",
     "output_type": "stream",
     "text": [
      "attempts 0\n"
     ]
    }
   ],
   "source": [
    "while not batch_hand.declined:\n",
    "    amt_hand1.balance = behav_hand1.amt_max + 1000\n",
    "    behav_hand1.scen = \"one_purchase\"\n",
    "    behav_hand1.in_chunks = False\n",
    "\n",
    "    batch_hand.purchaser()\n",
    "    txns_fm_batch2 = batch_hand.txns_fm_batch\n",
    "    all_txns2.extend(txns_fm_batch2)\n",
    "    batch_hand.reset_cache(all=False)"
   ]
  },
  {
   "cell_type": "code",
   "execution_count": 10,
   "id": "8183dd19-066b-4a41-a044-6d8eeeec5d48",
   "metadata": {},
   "outputs": [],
   "source": [
    "all_txns_df2 = pd.DataFrame(all_txns2)\n",
    "print(all_txns_df2.shape[0])\n",
    "all_txns_df2"
   ]
  },
  {
   "cell_type": "markdown",
   "id": "a2955f14-4357-4ba1-80ad-05dd1536dc74",
   "metadata": {},
   "source": [
    "**`purchaser` с генерацией входящих транзакций и рандомизацией поведения**\n",
    "- реализация через цикл наподобие run_drop_lifecycle()"
   ]
  },
  {
   "cell_type": "code",
   "execution_count": 7,
   "id": "262a0cfa-776f-4a86-a327-88c425ca203c",
   "metadata": {},
   "outputs": [],
   "source": [
    "reset_caches(cr_drop_txn1, behav_hand1, amt_hand1, time_hand1, part_data1, batch_hand)\n",
    "acc_hand1.reset_cache()\n",
    "all_txns3 = []\n",
    "\n",
    "while True:\n",
    "    declined = batch_hand.declined\n",
    "    receive_txn3 = cr_drop_txn1.trf_or_atm(receive=True, to_drop=False, declined=declined)\n",
    "    all_txns3.append(receive_txn3)\n",
    "    if declined:\n",
    "        break\n",
    "        \n",
    "    behav_hand1.sample_scenario() # выбрать сценарий\n",
    "    behav_hand1.in_chunks_val() # транзакции по частям или нет \n",
    "    \n",
    "    batch_hand.process_batch()\n",
    "    txns_fm_batch3 = batch_hand.txns_fm_batch\n",
    "    all_txns3.extend(txns_fm_batch3)\n",
    "    batch_hand.reset_cache(all=False)"
   ]
  },
  {
   "cell_type": "code",
   "execution_count": 33,
   "id": "bb05bc04-3f9f-4448-bed9-d00734b8ad99",
   "metadata": {},
   "outputs": [],
   "source": [
    "all_txns_df3 = pd.DataFrame(all_txns3)\n",
    "print(all_txns_df3.shape[0])\n",
    "all_txns_df3\n",
    "\n",
    "# from_7th = all_txns_df3.iloc[7:all_txns_df3.index.max()+1].copy()[[\"type\", \"amount\", \"status\"]] #.query(\"type != 'inbound'\").shape\n",
    "# from_7th[\"balance\"] = -from_7th[\"amount\"]\n",
    "# from_7th.loc[from_7th.index.min(), \"balance\"] = from_7th.loc[from_7th.index.min(), \"amount\"]\n",
    "# from_7th[\"balance\"] = from_7th[\"balance\"].cumsum()\n",
    "# from_7th"
   ]
  },
  {
   "cell_type": "code",
   "execution_count": 29,
   "id": "f65cc4ed-f637-484b-9b30-08776c3f2215",
   "metadata": {},
   "outputs": [
    {
     "data": {
      "text/plain": [
       "np.float64(5700.0)"
      ]
     },
     "execution_count": 29,
     "metadata": {},
     "output_type": "execute_result"
    }
   ],
   "source": [
    "amt_hand1.balance"
   ]
  },
  {
   "cell_type": "markdown",
   "id": "6a403922-8cf9-40a4-83d9-86f4ef6f82f5",
   "metadata": {},
   "source": [
    "## Класс `DropLifecycleManager`\n",
    "- модуль `data_generator.fraud.drops.simulator`\n",
    "- Полный жизненный цикл дропа"
   ]
  },
  {
   "cell_type": "code",
   "execution_count": null,
   "id": "db0f4bd2-32ad-4bf4-8ebb-e9ece74175ef",
   "metadata": {},
   "outputs": [],
   "source": [
    "class DropLifecycleManager:\n",
    "    \"\"\"\n",
    "    Управление полным жизненный циклом одного дропа.\n",
    "    ------------------\n",
    "    drop_type: str. 'distributor' или 'purchaser'\n",
    "    acc_hand: DropAccountHandler. Генератор номеров счетов входящих/исходящих транзакций.\n",
    "              Учет использованных счетов.\n",
    "    amt_hand: DropAmountHandler. Генератор сумм входящих/исходящих транзакций, сумм снятий.\n",
    "              Управление балансом текущего дропа.\n",
    "    time_hand: DropTimeHandler.\n",
    "               Управление временем транзакций дропа.\n",
    "    behav_hand: DistBehaviorHandler | PurchBehaviorHandler.\n",
    "                Управление поведением дропа: распределителя или покупателя.\n",
    "    part_data: DropTxnPartData.\n",
    "               Генерация части данных о транзакции дропа.\n",
    "    behav_hand: DistBehaviorHandler | PurchBehaviorHandler.\n",
    "                Управление поведением дропа: распределителя или покупателя.\n",
    "    create_txn: CreateDropTxn. Создание транзакций.\n",
    "    batch_hand: DropBatchHandler. Обработка полученной дропом партии (батча) денег\n",
    "    drop_txns: list. Созданные транзакции дропа.\n",
    "    \"\"\"\n",
    "    def __init__(self, base: DropBaseClasses, create_txn: CreateDropTxn):\n",
    "        \"\"\"\n",
    "        base: DropBaseClasses. Объекты основных классов для дропов.\n",
    "        create_txn: CreateDropTxn. Создание транзакций.\n",
    "        \"\"\"\n",
    "        self.drop_type = base.drop_type\n",
    "        self.acc_hand = base.acc_hand\n",
    "        self.amt_hand = base.amt_hand\n",
    "        self.time_hand = base.time_hand\n",
    "        self.part_data = base.part_data\n",
    "        self.behav_hand = base.behav_hand\n",
    "        self.create_txn = create_txn\n",
    "        self.batch_hand = DropBatchHandler(base=base, create_txn=create_txn)\n",
    "        self.drop_txns = []\n",
    "\n",
    "\n",
    "    def reset_all_caches(self):\n",
    "        \"\"\"\n",
    "        Сброс кэшей когда активность дропа закончена совсем\n",
    "        \"\"\"\n",
    "        # Сброс всего кэша batch_hand включает в себя полный сброс кэша\n",
    "        # в behav_hand и amt_hand\n",
    "        self.batch_hand.reset_cache(all=True)\n",
    "        self.time_hand.reset_cache()\n",
    "        self.part_data.reset_cache()\n",
    "        self.create_txn.reset_cache()\n",
    "        self.drop_txns = []\n",
    "        \n",
    "\n",
    "    def run_drop_lifecycle(self):\n",
    "        # создать счет дропа, записать is_drop = True в таблице acc_hand.accounts\n",
    "        acc_hand = self.acc_hand\n",
    "        # получить номер счета дропа. Пишется в атрибут acc_hand.account\n",
    "        acc_hand.get_account(own=True) \n",
    "        acc_hand.label_drop() # помечаем клиента как дропа в таблице acc_hand.accounts\n",
    "        \n",
    "        behav_hand = self.behav_hand\n",
    "        batch_hand = self.batch_hand\n",
    "        create_txn = self.create_txn\n",
    "\n",
    "        while True:\n",
    "            declined = batch_hand.declined # статус транзакции. будет ли она отклонена\n",
    "            # входящая транзакция. Новый батч денег.\n",
    "            receive_txn = create_txn.trf_or_atm(declined=declined, \\\n",
    "                                                to_drop=False, receive=True) \n",
    "            drop_txns = self.drop_txns\n",
    "            drop_txns.append(receive_txn)\n",
    "            # если у дропа достигнут лимит то транзакции отклоняются. \n",
    "            # Если входящая отклонена, дропу больше не пытаются послать деньги\n",
    "            if declined: \n",
    "                break\n",
    "\n",
    "            behav_hand.sample_scenario() # выбрать сценарий\n",
    "            behav_hand.in_chunks_val() # транзакции по частям или нет\n",
    "\n",
    "            batch_hand.process_batch() # обработка полученного батча\n",
    "\n",
    "            txns_fm_batch = batch_hand.txns_fm_batch\n",
    "            drop_txns.extend(txns_fm_batch)\n",
    "            # сброс кэша после завершения обработки батча\n",
    "            batch_hand.reset_cache(all=False)"
   ]
  },
  {
   "cell_type": "markdown",
   "id": "02ddfaab-3760-4a57-91bd-e7a450ed0719",
   "metadata": {},
   "source": [
    "## **Тест `DropLifecycleManager`**"
   ]
  },
  {
   "cell_type": "code",
   "execution_count": 1,
   "id": "43fbf6fd-b2af-47d3-93ca-6d3ed7e26ef4",
   "metadata": {},
   "outputs": [],
   "source": [
    "# Временный импорт\n",
    "import os\n",
    "import yaml\n",
    "import pandas as pd\n",
    "import numpy as np\n",
    "os.chdir(\"..\")\n",
    "\n",
    "# Общие настройки\n",
    "with open(\"./config/base.yaml\") as f:\n",
    "    base_cfg = yaml.safe_load(f)\n",
    "# Настройки фрода\n",
    "with open(\"./config/fraud.yaml\") as f:\n",
    "    fraud_cfg = yaml.safe_load(f)\n",
    "# Настройки фрода для дропов\n",
    "with open(\"./config/drops.yaml\", encoding=\"utf8\") as f:\n",
    "    drops_cfg = yaml.safe_load(f)\n",
    "# Настройки времени\n",
    "with open(\"./config/time.yaml\") as f:\n",
    "    time_cfg = yaml.safe_load(f)"
   ]
  },
  {
   "cell_type": "code",
   "execution_count": 2,
   "id": "d18f1807-a254-471b-a8c5-78a27c83fd6e",
   "metadata": {},
   "outputs": [
    {
     "data": {
      "text/plain": [
       "Pandas(Index=8, client_id=3048, district_id=16, birth_date='1923-01-06', sex='female', region='Ярославская', area='Ярославль', timezone='UTC+3', lat=57.6216145, lon=39.897878, population=591486, home_ip='2.60.11.70', geometry=<MULTIPOLYGON (((39.729 57.727, 39.73 57.727, 39.731 57.727, 39.732 57.728, ...>)"
      ]
     },
     "execution_count": 2,
     "metadata": {},
     "output_type": "execute_result"
    }
   ],
   "source": [
    "from data_generator.fraud.drops.build.config import DropConfigBuilder\n",
    "from data_generator.fraud.drops.build.builder import DropBaseClasses\n",
    "from data_generator.fraud.drops.txns import CreateDropTxn\n",
    "from data_generator.fraud.drops.simulator import DropLifecycleManager\n",
    "\n",
    "drop_cfg_build = DropConfigBuilder(base_cfg=base_cfg, fraud_cfg=fraud_cfg, drop_cfg=drops_cfg)\n",
    "# configs = drop_cfg_build.build_dist_cfg()\n",
    "configs = drop_cfg_build.build_purch_cfg()\n",
    "\n",
    "# base_agg1 = DropBaseClasses(drop_type=\"distributor\", configs=configs)\n",
    "base_agg1 = DropBaseClasses(drop_type=\"purchaser\", configs=configs)\n",
    "base_agg1.build_all()\n",
    "acc_hand1 = base_agg1.acc_hand\n",
    "# amt_hand1 = base_agg1.amt_hand\n",
    "part_data1 = base_agg1.part_data\n",
    "# time_hand1 = base_agg1.time_hand\n",
    "# behav_hand1 = base_agg1.behav_hand\n",
    "\n",
    "cr_drop_txn1 = CreateDropTxn(configs=configs, base=base_agg1)\n",
    "drop_clients = configs.clients\n",
    "\n",
    "life_manager = DropLifecycleManager(base=base_agg1, create_txn=cr_drop_txn1)\n",
    "batch_hand = life_manager.batch_hand\n",
    "\n",
    "for client in drop_clients.iloc[[8]].itertuples():\n",
    "    part_data1.client_info = client\n",
    "    acc_hand1.client_id = client.client_id\n",
    "    acc_hand1.get_account(own=True)\n",
    "part_data1.client_info"
   ]
  },
  {
   "cell_type": "code",
   "execution_count": 3,
   "id": "19560e2e-e5aa-4424-baef-f83c07f4caf5",
   "metadata": {},
   "outputs": [],
   "source": [
    "# def reset_caches(cr_drop_txn, behav_hand, amt_hand, time_hand, part_data):\n",
    "#     cr_drop_txn.reset_cache()\n",
    "#     behav_hand.reset_cache(all=False)\n",
    "#     amt_hand.reset_cache(life_end=True) # batch_txns здесь\n",
    "#     time_hand.reset_cache()\n",
    "#     part_data.reset_cache()"
   ]
  },
  {
   "cell_type": "markdown",
   "id": "d36eea12-c59f-48b5-8263-3c171d17c5b0",
   "metadata": {},
   "source": [
    "**`run_drop_lifecycle`**  "
   ]
  },
  {
   "cell_type": "code",
   "execution_count": 3,
   "id": "a4bb9f4e-c185-4fb0-921d-eeb215204e57",
   "metadata": {},
   "outputs": [],
   "source": [
    "all_txns = []\n",
    "life_manager.run_drop_lifecycle()\n",
    "drop_txns = life_manager.drop_txns\n",
    "all_txns.extend(drop_txns)\n",
    "life_manager.reset_all_caches() # сброс всего кэша после завершения активности дропа"
   ]
  },
  {
   "cell_type": "code",
   "execution_count": 4,
   "id": "49f7808c-dda0-4e6f-838d-ae1077f89067",
   "metadata": {},
   "outputs": [
    {
     "data": {
      "text/plain": [
       "16"
      ]
     },
     "execution_count": 4,
     "metadata": {},
     "output_type": "execute_result"
    }
   ],
   "source": [
    "all_txns_df = pd.DataFrame(all_txns)\n",
    "len(all_txns_df)"
   ]
  },
  {
   "cell_type": "code",
   "execution_count": 5,
   "id": "2b53d701-a86d-425c-8f27-a2ab482fc9cd",
   "metadata": {},
   "outputs": [
    {
     "data": {
      "text/plain": [
       "[]"
      ]
     },
     "execution_count": 5,
     "metadata": {},
     "output_type": "execute_result"
    }
   ],
   "source": [
    "life_manager.drop_txns"
   ]
  },
  {
   "cell_type": "code",
   "execution_count": 5,
   "id": "f376e7f3-453b-4509-b9d7-ca97973b3711",
   "metadata": {},
   "outputs": [
    {
     "data": {
      "text/plain": [
       "(None, None, 0)"
      ]
     },
     "execution_count": 5,
     "metadata": {},
     "output_type": "execute_result"
    }
   ],
   "source": [
    "behav_hand1.scen, behav_hand1.in_chunks, behav_hand1.attempts"
   ]
  },
  {
   "cell_type": "code",
   "execution_count": 6,
   "id": "33cc439d-9544-41d1-8df3-a8e25025efc2",
   "metadata": {},
   "outputs": [
    {
     "data": {
      "text/plain": [
       "(None, 0, 0)"
      ]
     },
     "execution_count": 6,
     "metadata": {},
     "output_type": "execute_result"
    }
   ],
   "source": [
    "cr_drop_txn1.last_txn, cr_drop_txn1.in_txns, cr_drop_txn1.out_txns"
   ]
  },
  {
   "cell_type": "code",
   "execution_count": 7,
   "id": "1595e0eb-1672-46a2-9791-145bad8cb104",
   "metadata": {},
   "outputs": [
    {
     "data": {
      "text/plain": [
       "(0, 0, 0, 0, 0, 0)"
      ]
     },
     "execution_count": 7,
     "metadata": {},
     "output_type": "execute_result"
    }
   ],
   "source": [
    "amt_hand1.batch_txns, amt_hand1.chunk_size, amt_hand1.balance, amt_hand1.last_amt, amt_hand1.first_decl, amt_hand1.declined_txns"
   ]
  },
  {
   "cell_type": "code",
   "execution_count": 8,
   "id": "74e5ac14-315d-46fe-999d-021417fd6bae",
   "metadata": {},
   "outputs": [
    {
     "data": {
      "text/plain": [
       "(0, 0, 0, 0)"
      ]
     },
     "execution_count": 8,
     "metadata": {},
     "output_type": "execute_result"
    }
   ],
   "source": [
    "time_hand1.start_unix, time_hand1.last_unix, time_hand1.in_txns, time_hand1.out_txns,"
   ]
  },
  {
   "cell_type": "code",
   "execution_count": 9,
   "id": "ac30d0f8-8f88-4ea7-817e-55fb7a66f4b9",
   "metadata": {},
   "outputs": [],
   "source": [
    "part_data1.last_txn"
   ]
  },
  {
   "cell_type": "code",
   "execution_count": 12,
   "id": "31d60e47-7395-4f56-ad0e-8455a18648ef",
   "metadata": {},
   "outputs": [],
   "source": [
    "# правильный account_id в aсс_hand.account\n",
    "own_id = acc_hand1.client_id\n",
    "own_acc_id = acc_hand1.accounts.query(\"client_id == @own_id\")[\"account_id\"].iat[0]\n",
    "assert acc_hand1.account == own_acc_id, \"aсс_hand.account does not belong to client.\""
   ]
  },
  {
   "cell_type": "code",
   "execution_count": 13,
   "id": "88b14013-0de9-4abb-9549-bd32bdaeb0dd",
   "metadata": {},
   "outputs": [
    {
     "data": {
      "text/html": [
       "<div>\n",
       "<style scoped>\n",
       "    .dataframe tbody tr th:only-of-type {\n",
       "        vertical-align: middle;\n",
       "    }\n",
       "\n",
       "    .dataframe tbody tr th {\n",
       "        vertical-align: top;\n",
       "    }\n",
       "\n",
       "    .dataframe thead th {\n",
       "        text-align: right;\n",
       "    }\n",
       "</style>\n",
       "<table border=\"1\" class=\"dataframe\">\n",
       "  <thead>\n",
       "    <tr style=\"text-align: right;\">\n",
       "      <th></th>\n",
       "      <th>client_id</th>\n",
       "      <th>account_id</th>\n",
       "      <th>is_drop</th>\n",
       "    </tr>\n",
       "  </thead>\n",
       "  <tbody>\n",
       "    <tr>\n",
       "      <th>2057</th>\n",
       "      <td>2174</td>\n",
       "      <td>12057</td>\n",
       "      <td>True</td>\n",
       "    </tr>\n",
       "  </tbody>\n",
       "</table>\n",
       "</div>"
      ],
      "text/plain": [
       "      client_id  account_id  is_drop\n",
       "2057       2174       12057     True"
      ]
     },
     "execution_count": 13,
     "metadata": {},
     "output_type": "execute_result"
    }
   ],
   "source": [
    "# клиент помечен как дроп в accounts\n",
    "acc_hand1.accounts.query(\"client_id == @own_id\")"
   ]
  },
  {
   "cell_type": "markdown",
   "id": "e9296468-f64f-4719-8b0e-5e97a67346eb",
   "metadata": {},
   "source": [
    "## Класс `DropSimulator`\n",
    "- модуль `data_generator.fraud.drops.simulator`\n",
    "- Генерация множества дропов"
   ]
  },
  {
   "cell_type": "code",
   "execution_count": null,
   "id": "41132732-52c7-43d3-9405-366cbd3e6060",
   "metadata": {},
   "outputs": [],
   "source": [
    "class DropSimulator:\n",
    "    \"\"\"\n",
    "    Генерация активности множества дропов.\n",
    "    ------------------------\n",
    "    drop_clients: pd.DataFrame. Клиенты которые будут дропами.\n",
    "    part_data: DropTxnPartData.\n",
    "            Генерация части данных о транзакции дропа.\n",
    "    acc_hand: DropAccountHandler. Генератор номеров счетов входящих/исходящих транзакций.\n",
    "            Учет использованных счетов.\n",
    "    life_manager: DropLifecycleManager. Управление полным жизненный циклом одного дропа.\n",
    "    \"\"\"\n",
    "    def __init__(self, base_cfg, configs, base, create_txn):\n",
    "        \"\"\"\n",
    "        base_cfg: dict. Конфиги из base.yaml\n",
    "        configs: DropDistributorCfg | DropPurchaserCfg.\n",
    "                 Конфиги и данные для создания дроп транзакций.\n",
    "        base: Объекты основных классов для дропов. \n",
    "        create_txn: CreateDropTxn. Создание транзакций.\n",
    "        \"\"\"\n",
    "        self.base_cfg = base_cfg\n",
    "        self.drop_type = base.drop_type\n",
    "        self.drop_clients = configs.clients\n",
    "        self.part_data = base.part_data\n",
    "        self.acc_hand = base.acc_hand\n",
    "        self.life_manager = DropLifecycleManager(base=base, create_txn=create_txn)\n",
    "        self.all_txns = []\n",
    "    \n",
    "    def write_to_file(self, data, category, file_key):\n",
    "        \"\"\"\n",
    "        Запись данных в файл по пути из yaml конфига.\n",
    "        data: pd.DataFrame | gpd.DataFrame. Данные.\n",
    "        category: str. Категория файлов в yaml конфиге например:\n",
    "                  'cleaned_data', 'generated_data'. Соответсвует\n",
    "                  структуре папок в data/\n",
    "        file_key: str. Ключ к полному пути конкретного файла в категории.\n",
    "        \"\"\"\n",
    "        path = self.base_cfg[\"data_paths\"][category][file_key]\n",
    "        file_type = path.split(\".\")[-1]\n",
    "\n",
    "        if file_type == \"csv\":\n",
    "            return data.to_csv(path, index=False)\n",
    "        \n",
    "        if file_type == \"gpkg\":\n",
    "            return data.to_file(path, layer=\"layer_name\", driver=\"GPKG\")\n",
    "        \n",
    "        if file_type == \"parquet\":\n",
    "            return data.to_parquet(path, engine=\"pyarrow\")\n",
    "\n",
    "\n",
    "    def run(self):\n",
    "        \"\"\"\n",
    "        Полная генерация активности дропов соответсвующего типа\n",
    "        \"\"\"\n",
    "        drop_clients = self.drop_clients\n",
    "        progress_bar = create_progress_bar(drop_clients)\n",
    "        part_data = self.part_data\n",
    "        acc_hand = self.acc_hand\n",
    "        life_manager = self.life_manager\n",
    "        all_txns = self.all_txns\n",
    "\n",
    "        # Итерируемся через семплированных клиентов под дроп\n",
    "        for client in drop_clients.itertuples():\n",
    "            # Запись данных текущего клиента в атрибуты\n",
    "            # некоторых классов\n",
    "            part_data.client_info = client\n",
    "            acc_hand.client_id = client.client_id\n",
    "\n",
    "            # Генерация полного цикла активности одного дропа\n",
    "            life_manager.run_drop_lifecycle()\n",
    "            # Запись транзакций дропа в общий список\n",
    "            drop_txns = life_manager.drop_txns\n",
    "            all_txns.extend(drop_txns)\n",
    "\n",
    "            # Сброс кэша дропа для следующей итерации\n",
    "            life_manager.reset_all_caches()\n",
    "            progress_bar.update(1)\n",
    "        \n",
    "        # Запись измененного датафрейма accounts в csv файл\n",
    "        # Путь указывается в base.yaml\n",
    "        accounts = acc_hand.accounts\n",
    "        self.write_to_file(data=accounts, category=\"generated_data\", \\\n",
    "                           file_key=\"accounts\")\n",
    "        \n",
    "        # Запись всех созданных транзакций дропов в parquet файл\n",
    "        # Путь указывается в base.yaml\n",
    "        all_txns_df = pd.DataFrame(self.all_txns)\n",
    "\n",
    "        if self.drop_type == \"distributor\":\n",
    "            self.write_to_file(data=all_txns_df, category=\"generated_data\", \\\n",
    "                           file_key=\"dist_drop_txns\")\n",
    "            \n",
    "        elif self.drop_type == \"purchaser\":\n",
    "            self.write_to_file(data=all_txns_df, category=\"generated_data\", \\\n",
    "                           file_key=\"purch_drop_txns\")"
   ]
  },
  {
   "cell_type": "markdown",
   "id": "4208876f-b4f1-4ecd-8c93-bca6a3584e1e",
   "metadata": {},
   "source": [
    "**Тест `DropSimulator`**"
   ]
  },
  {
   "cell_type": "code",
   "execution_count": 1,
   "id": "6dd3e542-ace4-449e-970f-f716f03d8c1a",
   "metadata": {},
   "outputs": [],
   "source": [
    "# Временный импорт\n",
    "import os\n",
    "import yaml\n",
    "import pandas as pd\n",
    "import numpy as np\n",
    "import geopandas as gpd\n",
    "import pyarrow\n",
    "\n",
    "os.chdir(\"..\")\n",
    "\n",
    "# Общие настройки\n",
    "with open(\"./config/base.yaml\") as f:\n",
    "    base_cfg = yaml.safe_load(f)\n",
    "# Настройки фрода\n",
    "with open(\"./config/fraud.yaml\") as f:\n",
    "    fraud_cfg = yaml.safe_load(f)\n",
    "# Настройки фрода для дропов\n",
    "with open(\"./config/drops.yaml\", encoding=\"utf8\") as f:\n",
    "    drops_cfg = yaml.safe_load(f)\n",
    "# Настройки времени\n",
    "with open(\"./config/time.yaml\") as f:\n",
    "    time_cfg = yaml.safe_load(f)\n",
    "\n",
    "client_devices = pd.read_csv(\"./data/cleaned_data/client_devices.csv\")"
   ]
  },
  {
   "cell_type": "code",
   "execution_count": 2,
   "id": "770afafd-e7ee-45dc-85c2-9b5579f8f6b2",
   "metadata": {},
   "outputs": [
    {
     "name": "stdout",
     "output_type": "stream",
     "text": [
      "ready for tests\n"
     ]
    }
   ],
   "source": [
    "from data_generator.fraud.drops.build.config import DropConfigBuilder\n",
    "from data_generator.fraud.drops.build.builder import DropBaseClasses\n",
    "from data_generator.fraud.drops.txns import CreateDropTxn\n",
    "from data_generator.fraud.drops.simulator import DropLifecycleManager, DropSimulator\n",
    "\n",
    "# drop_type = \"distributor\"\n",
    "drop_type = \"purchaser\"\n",
    "\n",
    "drop_cfg_build = DropConfigBuilder(base_cfg=base_cfg, fraud_cfg=fraud_cfg, drop_cfg=drops_cfg)\n",
    "\n",
    "if drop_type == \"distributor\":\n",
    "    configs = drop_cfg_build.build_dist_cfg()\n",
    "elif drop_type == \"purchaser\":\n",
    "    configs = drop_cfg_build.build_purch_cfg()\n",
    "\n",
    "base = DropBaseClasses(drop_type=drop_type, configs=configs)\n",
    "base.build_all()\n",
    "# acc_hand1 = base.acc_hand\n",
    "# amt_hand1 = base.amt_hand\n",
    "# part_data1 = base.part_data\n",
    "# time_hand1 = base.time_hand\n",
    "# behav_hand1 = base.behav_hand\n",
    "\n",
    "create_txn = CreateDropTxn(configs=configs, base=base)\n",
    "drop_clients = configs.clients\n",
    "\n",
    "# life_manager = DropLifecycleManager(base=base, create_txn=create_txn)\n",
    "# batch_hand = life_manager.batch_hand\n",
    "drop_sim = DropSimulator(base_cfg=base_cfg, configs=configs, base=base, create_txn=create_txn)\n",
    "print(\"ready for tests\")"
   ]
  },
  {
   "cell_type": "code",
   "execution_count": 3,
   "id": "1a6b8da6-879e-452b-8c45-1d836b8f7cf3",
   "metadata": {},
   "outputs": [
    {
     "name": "stderr",
     "output_type": "stream",
     "text": [
      "100%|██████████| 28/28 [00:00<00:00, 50.69it/s]\n"
     ]
    }
   ],
   "source": [
    "drop_sim.run()\n",
    "all_txns = drop_sim.all_txns"
   ]
  },
  {
   "cell_type": "code",
   "execution_count": 4,
   "id": "2fbd9156-16bc-49bf-b849-b871e0a603fb",
   "metadata": {},
   "outputs": [
    {
     "data": {
      "text/plain": [
       "((442, 19), (442, 19))"
      ]
     },
     "execution_count": 4,
     "metadata": {},
     "output_type": "execute_result"
    }
   ],
   "source": [
    "all_txns_df = pd.DataFrame(all_txns)\n",
    "all_txns_df.shape, all_txns_df.drop_duplicates().shape"
   ]
  },
  {
   "cell_type": "code",
   "execution_count": 5,
   "id": "be08885c-6760-44c6-b681-db25595dcb6a",
   "metadata": {},
   "outputs": [
    {
     "data": {
      "text/plain": [
       "(28, 12)"
      ]
     },
     "execution_count": 5,
     "metadata": {},
     "output_type": "execute_result"
    }
   ],
   "source": [
    "drop_clients.shape"
   ]
  },
  {
   "cell_type": "code",
   "execution_count": 6,
   "id": "3cf71f13-be17-4d88-8e5d-194ac693427f",
   "metadata": {},
   "outputs": [
    {
     "data": {
      "text/html": [
       "<div>\n",
       "<style scoped>\n",
       "    .dataframe tbody tr th:only-of-type {\n",
       "        vertical-align: middle;\n",
       "    }\n",
       "\n",
       "    .dataframe tbody tr th {\n",
       "        vertical-align: top;\n",
       "    }\n",
       "\n",
       "    .dataframe thead th {\n",
       "        text-align: right;\n",
       "    }\n",
       "</style>\n",
       "<table border=\"1\" class=\"dataframe\">\n",
       "  <thead>\n",
       "    <tr style=\"text-align: right;\">\n",
       "      <th></th>\n",
       "      <th>client_id</th>\n",
       "      <th>txn_time</th>\n",
       "      <th>unix_time</th>\n",
       "      <th>amount</th>\n",
       "      <th>type</th>\n",
       "      <th>channel</th>\n",
       "      <th>category</th>\n",
       "      <th>online</th>\n",
       "      <th>merchant_id</th>\n",
       "      <th>trans_city</th>\n",
       "      <th>trans_lat</th>\n",
       "      <th>trans_lon</th>\n",
       "      <th>trans_ip</th>\n",
       "      <th>device_id</th>\n",
       "      <th>account</th>\n",
       "      <th>is_fraud</th>\n",
       "      <th>is_suspicious</th>\n",
       "      <th>status</th>\n",
       "      <th>rule</th>\n",
       "    </tr>\n",
       "  </thead>\n",
       "  <tbody>\n",
       "    <tr>\n",
       "      <th>0</th>\n",
       "      <td>677</td>\n",
       "      <td>2025-01-28 03:46:00</td>\n",
       "      <td>1738035960</td>\n",
       "      <td>39100.0</td>\n",
       "      <td>inbound</td>\n",
       "      <td>transfer</td>\n",
       "      <td>not applicable</td>\n",
       "      <td>True</td>\n",
       "      <td>NaN</td>\n",
       "      <td>not applicable</td>\n",
       "      <td>NaN</td>\n",
       "      <td>NaN</td>\n",
       "      <td>not applicable</td>\n",
       "      <td>NaN</td>\n",
       "      <td>10645.0</td>\n",
       "      <td>False</td>\n",
       "      <td>False</td>\n",
       "      <td>approved</td>\n",
       "      <td>not applicable</td>\n",
       "    </tr>\n",
       "    <tr>\n",
       "      <th>1</th>\n",
       "      <td>677</td>\n",
       "      <td>2025-01-28 06:11:00</td>\n",
       "      <td>1738044660</td>\n",
       "      <td>39100.0</td>\n",
       "      <td>purchase</td>\n",
       "      <td>ecom</td>\n",
       "      <td>travel_net</td>\n",
       "      <td>True</td>\n",
       "      <td>6802.0</td>\n",
       "      <td>Ростов-на-Дону</td>\n",
       "      <td>47.222436</td>\n",
       "      <td>39.718787</td>\n",
       "      <td>2.60.2.134</td>\n",
       "      <td>1164.0</td>\n",
       "      <td>NaN</td>\n",
       "      <td>False</td>\n",
       "      <td>False</td>\n",
       "      <td>approved</td>\n",
       "      <td>not applicable</td>\n",
       "    </tr>\n",
       "    <tr>\n",
       "      <th>2</th>\n",
       "      <td>677</td>\n",
       "      <td>2025-01-28 07:30:00</td>\n",
       "      <td>1738049400</td>\n",
       "      <td>18900.0</td>\n",
       "      <td>inbound</td>\n",
       "      <td>transfer</td>\n",
       "      <td>not applicable</td>\n",
       "      <td>True</td>\n",
       "      <td>NaN</td>\n",
       "      <td>not applicable</td>\n",
       "      <td>NaN</td>\n",
       "      <td>NaN</td>\n",
       "      <td>not applicable</td>\n",
       "      <td>NaN</td>\n",
       "      <td>10645.0</td>\n",
       "      <td>False</td>\n",
       "      <td>False</td>\n",
       "      <td>approved</td>\n",
       "      <td>not applicable</td>\n",
       "    </tr>\n",
       "    <tr>\n",
       "      <th>3</th>\n",
       "      <td>677</td>\n",
       "      <td>2025-01-29 05:00:00</td>\n",
       "      <td>1738126800</td>\n",
       "      <td>8000.0</td>\n",
       "      <td>purchase</td>\n",
       "      <td>ecom</td>\n",
       "      <td>shopping_net</td>\n",
       "      <td>True</td>\n",
       "      <td>6943.0</td>\n",
       "      <td>Ростов-на-Дону</td>\n",
       "      <td>47.222436</td>\n",
       "      <td>39.718787</td>\n",
       "      <td>2.60.2.134</td>\n",
       "      <td>1164.0</td>\n",
       "      <td>NaN</td>\n",
       "      <td>False</td>\n",
       "      <td>False</td>\n",
       "      <td>approved</td>\n",
       "      <td>not applicable</td>\n",
       "    </tr>\n",
       "    <tr>\n",
       "      <th>4</th>\n",
       "      <td>677</td>\n",
       "      <td>2025-01-29 06:07:00</td>\n",
       "      <td>1738130820</td>\n",
       "      <td>6000.0</td>\n",
       "      <td>purchase</td>\n",
       "      <td>ecom</td>\n",
       "      <td>shopping_net</td>\n",
       "      <td>True</td>\n",
       "      <td>6787.0</td>\n",
       "      <td>Ростов-на-Дону</td>\n",
       "      <td>47.222436</td>\n",
       "      <td>39.718787</td>\n",
       "      <td>2.60.2.134</td>\n",
       "      <td>1164.0</td>\n",
       "      <td>NaN</td>\n",
       "      <td>False</td>\n",
       "      <td>False</td>\n",
       "      <td>approved</td>\n",
       "      <td>not applicable</td>\n",
       "    </tr>\n",
       "  </tbody>\n",
       "</table>\n",
       "</div>"
      ],
      "text/plain": [
       "   client_id            txn_time   unix_time   amount      type   channel  \\\n",
       "0        677 2025-01-28 03:46:00  1738035960  39100.0   inbound  transfer   \n",
       "1        677 2025-01-28 06:11:00  1738044660  39100.0  purchase      ecom   \n",
       "2        677 2025-01-28 07:30:00  1738049400  18900.0   inbound  transfer   \n",
       "3        677 2025-01-29 05:00:00  1738126800   8000.0  purchase      ecom   \n",
       "4        677 2025-01-29 06:07:00  1738130820   6000.0  purchase      ecom   \n",
       "\n",
       "         category  online  merchant_id      trans_city  trans_lat  trans_lon  \\\n",
       "0  not applicable    True          NaN  not applicable        NaN        NaN   \n",
       "1      travel_net    True       6802.0  Ростов-на-Дону  47.222436  39.718787   \n",
       "2  not applicable    True          NaN  not applicable        NaN        NaN   \n",
       "3    shopping_net    True       6943.0  Ростов-на-Дону  47.222436  39.718787   \n",
       "4    shopping_net    True       6787.0  Ростов-на-Дону  47.222436  39.718787   \n",
       "\n",
       "         trans_ip  device_id  account  is_fraud  is_suspicious    status  \\\n",
       "0  not applicable        NaN  10645.0     False          False  approved   \n",
       "1      2.60.2.134     1164.0      NaN     False          False  approved   \n",
       "2  not applicable        NaN  10645.0     False          False  approved   \n",
       "3      2.60.2.134     1164.0      NaN     False          False  approved   \n",
       "4      2.60.2.134     1164.0      NaN     False          False  approved   \n",
       "\n",
       "             rule  \n",
       "0  not applicable  \n",
       "1  not applicable  \n",
       "2  not applicable  \n",
       "3  not applicable  \n",
       "4  not applicable  "
      ]
     },
     "execution_count": 6,
     "metadata": {},
     "output_type": "execute_result"
    }
   ],
   "source": [
    "all_txns_df.head()"
   ]
  },
  {
   "cell_type": "code",
   "execution_count": 7,
   "id": "a229d281-4a35-43ac-adde-ec0f7bc08b83",
   "metadata": {},
   "outputs": [
    {
     "data": {
      "text/plain": [
       "min    13\n",
       "max    19\n",
       "Name: count, dtype: int64"
      ]
     },
     "execution_count": 7,
     "metadata": {},
     "output_type": "execute_result"
    }
   ],
   "source": [
    "all_txns_minmax = all_txns_df.client_id.value_counts().agg([\"min\", \"max\"])\n",
    "all_txns_minmax"
   ]
  },
  {
   "cell_type": "code",
   "execution_count": 8,
   "id": "4d94a6ae-1523-40bf-8543-ff2602a37251",
   "metadata": {},
   "outputs": [
    {
     "data": {
      "text/plain": [
       "np.int64(11978)"
      ]
     },
     "execution_count": 8,
     "metadata": {},
     "output_type": "execute_result"
    }
   ],
   "source": [
    "max_client = all_txns_df.client_id.value_counts().idxmax()\n",
    "max_client"
   ]
  },
  {
   "cell_type": "code",
   "execution_count": 34,
   "id": "6a615616-e8bd-4e88-97e5-bcf47f7cb24b",
   "metadata": {},
   "outputs": [],
   "source": [
    "max_client_txns = all_txns_df.query(\"client_id == @max_client\")\n",
    "max_client_txns"
   ]
  },
  {
   "cell_type": "code",
   "execution_count": 14,
   "id": "51764aba-ad8c-4041-a2d7-4cbb7f79322e",
   "metadata": {},
   "outputs": [
    {
     "data": {
      "text/plain": [
       "type\n",
       "purchase    13\n",
       "inbound      6\n",
       "Name: count, dtype: int64"
      ]
     },
     "execution_count": 14,
     "metadata": {},
     "output_type": "execute_result"
    }
   ],
   "source": [
    "max_client_txns.type.value_counts()"
   ]
  },
  {
   "cell_type": "code",
   "execution_count": 15,
   "id": "b56e9e01-d085-41f3-a9a7-00f79b7271dc",
   "metadata": {},
   "outputs": [
    {
     "data": {
      "text/plain": [
       "(28, 4)"
      ]
     },
     "execution_count": 15,
     "metadata": {},
     "output_type": "execute_result"
    }
   ],
   "source": [
    "all_txns_df.query(\"type != 'inbound'\")[[\"client_id\",\"trans_city\", \"trans_lat\", \"trans_lon\"]].drop_duplicates().shape"
   ]
  },
  {
   "cell_type": "code",
   "execution_count": 16,
   "id": "adfcca7f-94e9-442a-8919-b9f7cd10d0c7",
   "metadata": {},
   "outputs": [
    {
     "data": {
      "text/plain": [
       "28"
      ]
     },
     "execution_count": 16,
     "metadata": {},
     "output_type": "execute_result"
    }
   ],
   "source": [
    "all_txns_df.client_id.nunique()"
   ]
  },
  {
   "cell_type": "code",
   "execution_count": 17,
   "id": "55265b94-a33f-456e-80e4-ea40b91c1c33",
   "metadata": {},
   "outputs": [],
   "source": [
    "# проверка что нет дропов у кого не свой девайс\n",
    "\n",
    "assert all_txns_df.merge(client_devices, on=\"device_id\").query(\"client_id_x != client_id_y\").empty"
   ]
  },
  {
   "cell_type": "code",
   "execution_count": 18,
   "id": "8b06a11f-5333-4415-94a7-cd3e4c24517d",
   "metadata": {},
   "outputs": [
    {
     "data": {
      "text/html": [
       "<div>\n",
       "<style scoped>\n",
       "    .dataframe tbody tr th:only-of-type {\n",
       "        vertical-align: middle;\n",
       "    }\n",
       "\n",
       "    .dataframe tbody tr th {\n",
       "        vertical-align: top;\n",
       "    }\n",
       "\n",
       "    .dataframe thead th {\n",
       "        text-align: right;\n",
       "    }\n",
       "</style>\n",
       "<table border=\"1\" class=\"dataframe\">\n",
       "  <thead>\n",
       "    <tr style=\"text-align: right;\">\n",
       "      <th></th>\n",
       "      <th>client_id</th>\n",
       "      <th>status</th>\n",
       "      <th>txns_count</th>\n",
       "    </tr>\n",
       "  </thead>\n",
       "  <tbody>\n",
       "    <tr>\n",
       "      <th>0</th>\n",
       "      <td>103</td>\n",
       "      <td>approved</td>\n",
       "      <td>3</td>\n",
       "    </tr>\n",
       "    <tr>\n",
       "      <th>1</th>\n",
       "      <td>103</td>\n",
       "      <td>declined</td>\n",
       "      <td>1</td>\n",
       "    </tr>\n",
       "  </tbody>\n",
       "</table>\n",
       "</div>"
      ],
      "text/plain": [
       "   client_id    status  txns_count\n",
       "0        103  approved           3\n",
       "1        103  declined           1"
      ]
     },
     "execution_count": 18,
     "metadata": {},
     "output_type": "execute_result"
    }
   ],
   "source": [
    "# кол-во approved и declined вх. транз. в рамках лимитов\n",
    "\n",
    "inbound_by_status = all_txns_df.query(\"type == 'inbound'\").groupby([\"client_id\",\"status\"], as_index=False).agg({\"unix_time\":\"count\"}) \\\n",
    "                                .rename(columns={\"unix_time\":\"txns_count\"})\n",
    "inbound_by_status.head(2)"
   ]
  },
  {
   "cell_type": "code",
   "execution_count": 19,
   "id": "91920f1a-abcb-4458-a06e-36c1b040e097",
   "metadata": {},
   "outputs": [
    {
     "data": {
      "text/html": [
       "<div>\n",
       "<style scoped>\n",
       "    .dataframe tbody tr th:only-of-type {\n",
       "        vertical-align: middle;\n",
       "    }\n",
       "\n",
       "    .dataframe tbody tr th {\n",
       "        vertical-align: top;\n",
       "    }\n",
       "\n",
       "    .dataframe thead tr th {\n",
       "        text-align: left;\n",
       "    }\n",
       "\n",
       "    .dataframe thead tr:last-of-type th {\n",
       "        text-align: right;\n",
       "    }\n",
       "</style>\n",
       "<table border=\"1\" class=\"dataframe\">\n",
       "  <thead>\n",
       "    <tr>\n",
       "      <th></th>\n",
       "      <th colspan=\"2\" halign=\"left\">txns_count</th>\n",
       "    </tr>\n",
       "    <tr>\n",
       "      <th></th>\n",
       "      <th>min</th>\n",
       "      <th>max</th>\n",
       "    </tr>\n",
       "    <tr>\n",
       "      <th>status</th>\n",
       "      <th></th>\n",
       "      <th></th>\n",
       "    </tr>\n",
       "  </thead>\n",
       "  <tbody>\n",
       "    <tr>\n",
       "      <th>approved</th>\n",
       "      <td>3</td>\n",
       "      <td>6</td>\n",
       "    </tr>\n",
       "    <tr>\n",
       "      <th>declined</th>\n",
       "      <td>1</td>\n",
       "      <td>1</td>\n",
       "    </tr>\n",
       "  </tbody>\n",
       "</table>\n",
       "</div>"
      ],
      "text/plain": [
       "         txns_count    \n",
       "                min max\n",
       "status                 \n",
       "approved          3   6\n",
       "declined          1   1"
      ]
     },
     "execution_count": 19,
     "metadata": {},
     "output_type": "execute_result"
    }
   ],
   "source": [
    "inbound_by_status[[\"status\", \"txns_count\"]].groupby(\"status\").agg([\"min\", \"max\"])"
   ]
  },
  {
   "cell_type": "code",
   "execution_count": 20,
   "id": "15b71ff6-fd34-4565-80cb-055ffcc38c11",
   "metadata": {},
   "outputs": [
    {
     "data": {
      "text/html": [
       "<div>\n",
       "<style scoped>\n",
       "    .dataframe tbody tr th:only-of-type {\n",
       "        vertical-align: middle;\n",
       "    }\n",
       "\n",
       "    .dataframe tbody tr th {\n",
       "        vertical-align: top;\n",
       "    }\n",
       "\n",
       "    .dataframe thead th {\n",
       "        text-align: right;\n",
       "    }\n",
       "</style>\n",
       "<table border=\"1\" class=\"dataframe\">\n",
       "  <thead>\n",
       "    <tr style=\"text-align: right;\">\n",
       "      <th></th>\n",
       "      <th>client_id</th>\n",
       "      <th>status</th>\n",
       "      <th>txns_count</th>\n",
       "    </tr>\n",
       "  </thead>\n",
       "  <tbody>\n",
       "    <tr>\n",
       "      <th>0</th>\n",
       "      <td>103</td>\n",
       "      <td>approved</td>\n",
       "      <td>8</td>\n",
       "    </tr>\n",
       "    <tr>\n",
       "      <th>1</th>\n",
       "      <td>103</td>\n",
       "      <td>declined</td>\n",
       "      <td>5</td>\n",
       "    </tr>\n",
       "  </tbody>\n",
       "</table>\n",
       "</div>"
      ],
      "text/plain": [
       "   client_id    status  txns_count\n",
       "0        103  approved           8\n",
       "1        103  declined           5"
      ]
     },
     "execution_count": 20,
     "metadata": {},
     "output_type": "execute_result"
    }
   ],
   "source": [
    "# кол-во approved и declined исх. транз. в рамках лимитов\n",
    "\n",
    "outbound_by_status = all_txns_df.query(\"type != 'inbound'\").groupby([\"client_id\",\"status\"], as_index=False).agg({\"unix_time\":\"count\"}) \\\n",
    "                                .rename(columns={\"unix_time\":\"txns_count\"})\n",
    "outbound_by_status.head(2)"
   ]
  },
  {
   "cell_type": "code",
   "execution_count": 21,
   "id": "daf0749a-4d13-4502-b7ab-80fbb9574472",
   "metadata": {},
   "outputs": [
    {
     "data": {
      "text/html": [
       "<div>\n",
       "<style scoped>\n",
       "    .dataframe tbody tr th:only-of-type {\n",
       "        vertical-align: middle;\n",
       "    }\n",
       "\n",
       "    .dataframe tbody tr th {\n",
       "        vertical-align: top;\n",
       "    }\n",
       "\n",
       "    .dataframe thead tr th {\n",
       "        text-align: left;\n",
       "    }\n",
       "\n",
       "    .dataframe thead tr:last-of-type th {\n",
       "        text-align: right;\n",
       "    }\n",
       "</style>\n",
       "<table border=\"1\" class=\"dataframe\">\n",
       "  <thead>\n",
       "    <tr>\n",
       "      <th></th>\n",
       "      <th colspan=\"2\" halign=\"left\">txns_count</th>\n",
       "    </tr>\n",
       "    <tr>\n",
       "      <th></th>\n",
       "      <th>min</th>\n",
       "      <th>max</th>\n",
       "    </tr>\n",
       "    <tr>\n",
       "      <th>status</th>\n",
       "      <th></th>\n",
       "      <th></th>\n",
       "    </tr>\n",
       "  </thead>\n",
       "  <tbody>\n",
       "    <tr>\n",
       "      <th>approved</th>\n",
       "      <td>8</td>\n",
       "      <td>8</td>\n",
       "    </tr>\n",
       "    <tr>\n",
       "      <th>declined</th>\n",
       "      <td>1</td>\n",
       "      <td>5</td>\n",
       "    </tr>\n",
       "  </tbody>\n",
       "</table>\n",
       "</div>"
      ],
      "text/plain": [
       "         txns_count    \n",
       "                min max\n",
       "status                 \n",
       "approved          8   8\n",
       "declined          1   5"
      ]
     },
     "execution_count": 21,
     "metadata": {},
     "output_type": "execute_result"
    }
   ],
   "source": [
    "outbound_by_status[[\"status\", \"txns_count\"]].groupby(\"status\").agg([\"min\", \"max\"])"
   ]
  },
  {
   "cell_type": "markdown",
   "id": "ee6283e2-5908-455f-b51b-1bd0b33c84e6",
   "metadata": {},
   "source": [
    "клиенты записаны в дропы. проверка записанного accounts.csv"
   ]
  },
  {
   "cell_type": "code",
   "execution_count": 22,
   "id": "71490972-c959-4ecd-98a5-434909a1ca4e",
   "metadata": {},
   "outputs": [
    {
     "data": {
      "text/html": [
       "<div>\n",
       "<style scoped>\n",
       "    .dataframe tbody tr th:only-of-type {\n",
       "        vertical-align: middle;\n",
       "    }\n",
       "\n",
       "    .dataframe tbody tr th {\n",
       "        vertical-align: top;\n",
       "    }\n",
       "\n",
       "    .dataframe thead th {\n",
       "        text-align: right;\n",
       "    }\n",
       "</style>\n",
       "<table border=\"1\" class=\"dataframe\">\n",
       "  <thead>\n",
       "    <tr style=\"text-align: right;\">\n",
       "      <th></th>\n",
       "      <th>client_id</th>\n",
       "      <th>account_id</th>\n",
       "      <th>is_drop</th>\n",
       "    </tr>\n",
       "  </thead>\n",
       "  <tbody>\n",
       "    <tr>\n",
       "      <th>0</th>\n",
       "      <td>1</td>\n",
       "      <td>10000</td>\n",
       "      <td>False</td>\n",
       "    </tr>\n",
       "    <tr>\n",
       "      <th>1</th>\n",
       "      <td>2</td>\n",
       "      <td>10001</td>\n",
       "      <td>False</td>\n",
       "    </tr>\n",
       "  </tbody>\n",
       "</table>\n",
       "</div>"
      ],
      "text/plain": [
       "   client_id  account_id  is_drop\n",
       "0          1       10000    False\n",
       "1          2       10001    False"
      ]
     },
     "execution_count": 22,
     "metadata": {},
     "output_type": "execute_result"
    }
   ],
   "source": [
    "accounts1 = pd.read_csv(\"./data/generated_data/accounts.csv\")\n",
    "accounts1.head(2)"
   ]
  },
  {
   "cell_type": "code",
   "execution_count": 23,
   "id": "af2629ac-15c0-42de-aae8-5565771415b4",
   "metadata": {},
   "outputs": [],
   "source": [
    "assert accounts1.loc[accounts1.client_id.isin(drop_clients.client_id)].query(\"is_drop == False\").empty"
   ]
  },
  {
   "cell_type": "markdown",
   "id": "d3f8608e-d279-41a6-9016-bc9d09fd6f9b",
   "metadata": {},
   "source": [
    "дропы не пересекаются с другими сегментами: легальные/compr фрод,  дропы другого типа"
   ]
  },
  {
   "cell_type": "code",
   "execution_count": 24,
   "id": "b83dea32-b25a-4cfa-a0ad-56f5bfa996c7",
   "metadata": {},
   "outputs": [],
   "source": [
    "clients_sample = gpd.read_file(\"./data/cleaned_data/clients_sample.gpkg\")"
   ]
  },
  {
   "cell_type": "code",
   "execution_count": 25,
   "id": "5ae947b6-e589-48c8-af61-176bb4884511",
   "metadata": {},
   "outputs": [],
   "source": [
    "other_drops = gpd.read_file(\"./data/generated_data/dist_drops.gpkg\") # distributors\n",
    "# other_drops = gpd.read_file(\"./data/generated_data/purchase_drops.gpkg\") # purchasers\n",
    "exclude_clients = pd.concat([clients_sample, other_drops], ignore_index=True)"
   ]
  },
  {
   "cell_type": "code",
   "execution_count": 26,
   "id": "fb357de0-a324-406b-8001-e69ce80f1076",
   "metadata": {},
   "outputs": [],
   "source": [
    "assert exclude_clients.loc[exclude_clients.client_id.isin(all_txns_df.client_id.unique())].empty"
   ]
  },
  {
   "cell_type": "markdown",
   "id": "d1b847da-5e1b-482d-8fd1-8cf1145a9163",
   "metadata": {},
   "source": [
    "транзакции записаны в файл"
   ]
  },
  {
   "cell_type": "code",
   "execution_count": 27,
   "id": "8a95c663-da09-4054-a90b-c697b8b4a3f1",
   "metadata": {},
   "outputs": [
    {
     "name": "stdout",
     "output_type": "stream",
     "text": [
      "(442, 19)\n"
     ]
    },
    {
     "data": {
      "text/html": [
       "<div>\n",
       "<style scoped>\n",
       "    .dataframe tbody tr th:only-of-type {\n",
       "        vertical-align: middle;\n",
       "    }\n",
       "\n",
       "    .dataframe tbody tr th {\n",
       "        vertical-align: top;\n",
       "    }\n",
       "\n",
       "    .dataframe thead th {\n",
       "        text-align: right;\n",
       "    }\n",
       "</style>\n",
       "<table border=\"1\" class=\"dataframe\">\n",
       "  <thead>\n",
       "    <tr style=\"text-align: right;\">\n",
       "      <th></th>\n",
       "      <th>client_id</th>\n",
       "      <th>txn_time</th>\n",
       "      <th>unix_time</th>\n",
       "      <th>amount</th>\n",
       "      <th>type</th>\n",
       "      <th>channel</th>\n",
       "      <th>category</th>\n",
       "      <th>online</th>\n",
       "      <th>merchant_id</th>\n",
       "      <th>trans_city</th>\n",
       "      <th>trans_lat</th>\n",
       "      <th>trans_lon</th>\n",
       "      <th>trans_ip</th>\n",
       "      <th>device_id</th>\n",
       "      <th>account</th>\n",
       "      <th>is_fraud</th>\n",
       "      <th>is_suspicious</th>\n",
       "      <th>status</th>\n",
       "      <th>rule</th>\n",
       "    </tr>\n",
       "  </thead>\n",
       "  <tbody>\n",
       "    <tr>\n",
       "      <th>0</th>\n",
       "      <td>677</td>\n",
       "      <td>2025-01-28 03:46:00</td>\n",
       "      <td>1738035960</td>\n",
       "      <td>39100.0</td>\n",
       "      <td>inbound</td>\n",
       "      <td>transfer</td>\n",
       "      <td>not applicable</td>\n",
       "      <td>True</td>\n",
       "      <td>NaN</td>\n",
       "      <td>not applicable</td>\n",
       "      <td>NaN</td>\n",
       "      <td>NaN</td>\n",
       "      <td>not applicable</td>\n",
       "      <td>NaN</td>\n",
       "      <td>10645.0</td>\n",
       "      <td>False</td>\n",
       "      <td>False</td>\n",
       "      <td>approved</td>\n",
       "      <td>not applicable</td>\n",
       "    </tr>\n",
       "    <tr>\n",
       "      <th>1</th>\n",
       "      <td>677</td>\n",
       "      <td>2025-01-28 06:11:00</td>\n",
       "      <td>1738044660</td>\n",
       "      <td>39100.0</td>\n",
       "      <td>purchase</td>\n",
       "      <td>ecom</td>\n",
       "      <td>travel_net</td>\n",
       "      <td>True</td>\n",
       "      <td>6802.0</td>\n",
       "      <td>Ростов-на-Дону</td>\n",
       "      <td>47.222436</td>\n",
       "      <td>39.718787</td>\n",
       "      <td>2.60.2.134</td>\n",
       "      <td>1164.0</td>\n",
       "      <td>NaN</td>\n",
       "      <td>False</td>\n",
       "      <td>False</td>\n",
       "      <td>approved</td>\n",
       "      <td>not applicable</td>\n",
       "    </tr>\n",
       "    <tr>\n",
       "      <th>2</th>\n",
       "      <td>677</td>\n",
       "      <td>2025-01-28 07:30:00</td>\n",
       "      <td>1738049400</td>\n",
       "      <td>18900.0</td>\n",
       "      <td>inbound</td>\n",
       "      <td>transfer</td>\n",
       "      <td>not applicable</td>\n",
       "      <td>True</td>\n",
       "      <td>NaN</td>\n",
       "      <td>not applicable</td>\n",
       "      <td>NaN</td>\n",
       "      <td>NaN</td>\n",
       "      <td>not applicable</td>\n",
       "      <td>NaN</td>\n",
       "      <td>10645.0</td>\n",
       "      <td>False</td>\n",
       "      <td>False</td>\n",
       "      <td>approved</td>\n",
       "      <td>not applicable</td>\n",
       "    </tr>\n",
       "    <tr>\n",
       "      <th>3</th>\n",
       "      <td>677</td>\n",
       "      <td>2025-01-29 05:00:00</td>\n",
       "      <td>1738126800</td>\n",
       "      <td>8000.0</td>\n",
       "      <td>purchase</td>\n",
       "      <td>ecom</td>\n",
       "      <td>shopping_net</td>\n",
       "      <td>True</td>\n",
       "      <td>6943.0</td>\n",
       "      <td>Ростов-на-Дону</td>\n",
       "      <td>47.222436</td>\n",
       "      <td>39.718787</td>\n",
       "      <td>2.60.2.134</td>\n",
       "      <td>1164.0</td>\n",
       "      <td>NaN</td>\n",
       "      <td>False</td>\n",
       "      <td>False</td>\n",
       "      <td>approved</td>\n",
       "      <td>not applicable</td>\n",
       "    </tr>\n",
       "    <tr>\n",
       "      <th>4</th>\n",
       "      <td>677</td>\n",
       "      <td>2025-01-29 06:07:00</td>\n",
       "      <td>1738130820</td>\n",
       "      <td>6000.0</td>\n",
       "      <td>purchase</td>\n",
       "      <td>ecom</td>\n",
       "      <td>shopping_net</td>\n",
       "      <td>True</td>\n",
       "      <td>6787.0</td>\n",
       "      <td>Ростов-на-Дону</td>\n",
       "      <td>47.222436</td>\n",
       "      <td>39.718787</td>\n",
       "      <td>2.60.2.134</td>\n",
       "      <td>1164.0</td>\n",
       "      <td>NaN</td>\n",
       "      <td>False</td>\n",
       "      <td>False</td>\n",
       "      <td>approved</td>\n",
       "      <td>not applicable</td>\n",
       "    </tr>\n",
       "  </tbody>\n",
       "</table>\n",
       "</div>"
      ],
      "text/plain": [
       "   client_id            txn_time   unix_time   amount      type   channel  \\\n",
       "0        677 2025-01-28 03:46:00  1738035960  39100.0   inbound  transfer   \n",
       "1        677 2025-01-28 06:11:00  1738044660  39100.0  purchase      ecom   \n",
       "2        677 2025-01-28 07:30:00  1738049400  18900.0   inbound  transfer   \n",
       "3        677 2025-01-29 05:00:00  1738126800   8000.0  purchase      ecom   \n",
       "4        677 2025-01-29 06:07:00  1738130820   6000.0  purchase      ecom   \n",
       "\n",
       "         category  online  merchant_id      trans_city  trans_lat  trans_lon  \\\n",
       "0  not applicable    True          NaN  not applicable        NaN        NaN   \n",
       "1      travel_net    True       6802.0  Ростов-на-Дону  47.222436  39.718787   \n",
       "2  not applicable    True          NaN  not applicable        NaN        NaN   \n",
       "3    shopping_net    True       6943.0  Ростов-на-Дону  47.222436  39.718787   \n",
       "4    shopping_net    True       6787.0  Ростов-на-Дону  47.222436  39.718787   \n",
       "\n",
       "         trans_ip  device_id  account  is_fraud  is_suspicious    status  \\\n",
       "0  not applicable        NaN  10645.0     False          False  approved   \n",
       "1      2.60.2.134     1164.0      NaN     False          False  approved   \n",
       "2  not applicable        NaN  10645.0     False          False  approved   \n",
       "3      2.60.2.134     1164.0      NaN     False          False  approved   \n",
       "4      2.60.2.134     1164.0      NaN     False          False  approved   \n",
       "\n",
       "             rule  \n",
       "0  not applicable  \n",
       "1  not applicable  \n",
       "2  not applicable  \n",
       "3  not applicable  \n",
       "4  not applicable  "
      ]
     },
     "execution_count": 27,
     "metadata": {},
     "output_type": "execute_result"
    }
   ],
   "source": [
    "# drop_txns = pd.read_parquet(\"./data/generated_data/dist_drop_txns.parquet\", engine=\"pyarrow\") # distributors\n",
    "drop_txns = pd.read_parquet(\"./data/generated_data/purch_drop_txns.parquet\", engine=\"pyarrow\") # purchasers\n",
    "print(drop_txns.shape)\n",
    "drop_txns.head()"
   ]
  },
  {
   "cell_type": "markdown",
   "id": "85abb49c-b53f-4f1a-bdfe-9fa3c79b4358",
   "metadata": {},
   "source": [
    "мин и макс разницы во времени у дропов в рамках лимитов"
   ]
  },
  {
   "cell_type": "code",
   "execution_count": 28,
   "id": "c011f8a7-e793-4d3c-bb46-579d50b9afce",
   "metadata": {},
   "outputs": [],
   "source": [
    "# Добавим колонку со временем предыдущей транзакции каждого клиента\n",
    "for client in drop_clients.itertuples():\n",
    "    client_id = client.client_id\n",
    "    all_txns_df.loc[all_txns_df.client_id == client_id, \"prev_txn_unix\"] \\\n",
    "                = all_txns_df.loc[all_txns_df.client_id == client_id, \"unix_time\"].shift(1)"
   ]
  },
  {
   "cell_type": "code",
   "execution_count": 29,
   "id": "2bded382-c5e7-46d3-bf86-e8f8eb50b687",
   "metadata": {},
   "outputs": [],
   "source": [
    "# all_txns_df.drop(columns=\"prev_time_diff_m\", inplace=True)"
   ]
  },
  {
   "cell_type": "code",
   "execution_count": 30,
   "id": "a93709d5-1ea2-418c-b01e-ab391dbed4b8",
   "metadata": {},
   "outputs": [
    {
     "data": {
      "text/html": [
       "<div>\n",
       "<style scoped>\n",
       "    .dataframe tbody tr th:only-of-type {\n",
       "        vertical-align: middle;\n",
       "    }\n",
       "\n",
       "    .dataframe tbody tr th {\n",
       "        vertical-align: top;\n",
       "    }\n",
       "\n",
       "    .dataframe thead th {\n",
       "        text-align: right;\n",
       "    }\n",
       "</style>\n",
       "<table border=\"1\" class=\"dataframe\">\n",
       "  <thead>\n",
       "    <tr style=\"text-align: right;\">\n",
       "      <th></th>\n",
       "      <th>client_id</th>\n",
       "      <th>txn_time</th>\n",
       "      <th>unix_time</th>\n",
       "      <th>amount</th>\n",
       "      <th>type</th>\n",
       "      <th>channel</th>\n",
       "      <th>category</th>\n",
       "      <th>online</th>\n",
       "      <th>merchant_id</th>\n",
       "      <th>trans_city</th>\n",
       "      <th>...</th>\n",
       "      <th>trans_lon</th>\n",
       "      <th>trans_ip</th>\n",
       "      <th>device_id</th>\n",
       "      <th>account</th>\n",
       "      <th>is_fraud</th>\n",
       "      <th>is_suspicious</th>\n",
       "      <th>status</th>\n",
       "      <th>rule</th>\n",
       "      <th>prev_txn_unix</th>\n",
       "      <th>prev_time_diff</th>\n",
       "    </tr>\n",
       "  </thead>\n",
       "  <tbody>\n",
       "    <tr>\n",
       "      <th>0</th>\n",
       "      <td>677</td>\n",
       "      <td>2025-01-28 03:46:00</td>\n",
       "      <td>1738035960</td>\n",
       "      <td>39100.0</td>\n",
       "      <td>inbound</td>\n",
       "      <td>transfer</td>\n",
       "      <td>not applicable</td>\n",
       "      <td>True</td>\n",
       "      <td>NaN</td>\n",
       "      <td>not applicable</td>\n",
       "      <td>...</td>\n",
       "      <td>NaN</td>\n",
       "      <td>not applicable</td>\n",
       "      <td>NaN</td>\n",
       "      <td>10645.0</td>\n",
       "      <td>False</td>\n",
       "      <td>False</td>\n",
       "      <td>approved</td>\n",
       "      <td>not applicable</td>\n",
       "      <td>NaN</td>\n",
       "      <td>NaN</td>\n",
       "    </tr>\n",
       "    <tr>\n",
       "      <th>1</th>\n",
       "      <td>677</td>\n",
       "      <td>2025-01-28 06:11:00</td>\n",
       "      <td>1738044660</td>\n",
       "      <td>39100.0</td>\n",
       "      <td>purchase</td>\n",
       "      <td>ecom</td>\n",
       "      <td>travel_net</td>\n",
       "      <td>True</td>\n",
       "      <td>6802.0</td>\n",
       "      <td>Ростов-на-Дону</td>\n",
       "      <td>...</td>\n",
       "      <td>39.718787</td>\n",
       "      <td>2.60.2.134</td>\n",
       "      <td>1164.0</td>\n",
       "      <td>NaN</td>\n",
       "      <td>False</td>\n",
       "      <td>False</td>\n",
       "      <td>approved</td>\n",
       "      <td>not applicable</td>\n",
       "      <td>1.738036e+09</td>\n",
       "      <td>145.0</td>\n",
       "    </tr>\n",
       "    <tr>\n",
       "      <th>2</th>\n",
       "      <td>677</td>\n",
       "      <td>2025-01-28 07:30:00</td>\n",
       "      <td>1738049400</td>\n",
       "      <td>18900.0</td>\n",
       "      <td>inbound</td>\n",
       "      <td>transfer</td>\n",
       "      <td>not applicable</td>\n",
       "      <td>True</td>\n",
       "      <td>NaN</td>\n",
       "      <td>not applicable</td>\n",
       "      <td>...</td>\n",
       "      <td>NaN</td>\n",
       "      <td>not applicable</td>\n",
       "      <td>NaN</td>\n",
       "      <td>10645.0</td>\n",
       "      <td>False</td>\n",
       "      <td>False</td>\n",
       "      <td>approved</td>\n",
       "      <td>not applicable</td>\n",
       "      <td>1.738045e+09</td>\n",
       "      <td>79.0</td>\n",
       "    </tr>\n",
       "    <tr>\n",
       "      <th>3</th>\n",
       "      <td>677</td>\n",
       "      <td>2025-01-29 05:00:00</td>\n",
       "      <td>1738126800</td>\n",
       "      <td>8000.0</td>\n",
       "      <td>purchase</td>\n",
       "      <td>ecom</td>\n",
       "      <td>shopping_net</td>\n",
       "      <td>True</td>\n",
       "      <td>6943.0</td>\n",
       "      <td>Ростов-на-Дону</td>\n",
       "      <td>...</td>\n",
       "      <td>39.718787</td>\n",
       "      <td>2.60.2.134</td>\n",
       "      <td>1164.0</td>\n",
       "      <td>NaN</td>\n",
       "      <td>False</td>\n",
       "      <td>False</td>\n",
       "      <td>approved</td>\n",
       "      <td>not applicable</td>\n",
       "      <td>1.738049e+09</td>\n",
       "      <td>1290.0</td>\n",
       "    </tr>\n",
       "    <tr>\n",
       "      <th>4</th>\n",
       "      <td>677</td>\n",
       "      <td>2025-01-29 06:07:00</td>\n",
       "      <td>1738130820</td>\n",
       "      <td>6000.0</td>\n",
       "      <td>purchase</td>\n",
       "      <td>ecom</td>\n",
       "      <td>shopping_net</td>\n",
       "      <td>True</td>\n",
       "      <td>6787.0</td>\n",
       "      <td>Ростов-на-Дону</td>\n",
       "      <td>...</td>\n",
       "      <td>39.718787</td>\n",
       "      <td>2.60.2.134</td>\n",
       "      <td>1164.0</td>\n",
       "      <td>NaN</td>\n",
       "      <td>False</td>\n",
       "      <td>False</td>\n",
       "      <td>approved</td>\n",
       "      <td>not applicable</td>\n",
       "      <td>1.738127e+09</td>\n",
       "      <td>67.0</td>\n",
       "    </tr>\n",
       "  </tbody>\n",
       "</table>\n",
       "<p>5 rows × 21 columns</p>\n",
       "</div>"
      ],
      "text/plain": [
       "   client_id            txn_time   unix_time   amount      type   channel  \\\n",
       "0        677 2025-01-28 03:46:00  1738035960  39100.0   inbound  transfer   \n",
       "1        677 2025-01-28 06:11:00  1738044660  39100.0  purchase      ecom   \n",
       "2        677 2025-01-28 07:30:00  1738049400  18900.0   inbound  transfer   \n",
       "3        677 2025-01-29 05:00:00  1738126800   8000.0  purchase      ecom   \n",
       "4        677 2025-01-29 06:07:00  1738130820   6000.0  purchase      ecom   \n",
       "\n",
       "         category  online  merchant_id      trans_city  ...  trans_lon  \\\n",
       "0  not applicable    True          NaN  not applicable  ...        NaN   \n",
       "1      travel_net    True       6802.0  Ростов-на-Дону  ...  39.718787   \n",
       "2  not applicable    True          NaN  not applicable  ...        NaN   \n",
       "3    shopping_net    True       6943.0  Ростов-на-Дону  ...  39.718787   \n",
       "4    shopping_net    True       6787.0  Ростов-на-Дону  ...  39.718787   \n",
       "\n",
       "         trans_ip device_id  account  is_fraud  is_suspicious    status  \\\n",
       "0  not applicable       NaN  10645.0     False          False  approved   \n",
       "1      2.60.2.134    1164.0      NaN     False          False  approved   \n",
       "2  not applicable       NaN  10645.0     False          False  approved   \n",
       "3      2.60.2.134    1164.0      NaN     False          False  approved   \n",
       "4      2.60.2.134    1164.0      NaN     False          False  approved   \n",
       "\n",
       "             rule prev_txn_unix  prev_time_diff  \n",
       "0  not applicable           NaN             NaN  \n",
       "1  not applicable  1.738036e+09           145.0  \n",
       "2  not applicable  1.738045e+09            79.0  \n",
       "3  not applicable  1.738049e+09          1290.0  \n",
       "4  not applicable  1.738127e+09            67.0  \n",
       "\n",
       "[5 rows x 21 columns]"
      ]
     },
     "execution_count": 30,
     "metadata": {},
     "output_type": "execute_result"
    }
   ],
   "source": [
    "# Разница между предыдущей транзакцией клиента в минутах\n",
    "\n",
    "all_txns_df[\"prev_time_diff\"] = all_txns_df.unix_time.sub(all_txns_df.prev_txn_unix).div(60)\n",
    "all_txns_df.head()"
   ]
  },
  {
   "cell_type": "code",
   "execution_count": 31,
   "id": "1459dc76-5518-4953-9976-0182d666cc54",
   "metadata": {},
   "outputs": [
    {
     "data": {
      "text/html": [
       "<div>\n",
       "<style scoped>\n",
       "    .dataframe tbody tr th:only-of-type {\n",
       "        vertical-align: middle;\n",
       "    }\n",
       "\n",
       "    .dataframe tbody tr th {\n",
       "        vertical-align: top;\n",
       "    }\n",
       "\n",
       "    .dataframe thead th {\n",
       "        text-align: right;\n",
       "    }\n",
       "</style>\n",
       "<table border=\"1\" class=\"dataframe\">\n",
       "  <thead>\n",
       "    <tr style=\"text-align: right;\">\n",
       "      <th></th>\n",
       "      <th>client_id</th>\n",
       "      <th>txn_time</th>\n",
       "      <th>unix_time</th>\n",
       "      <th>amount</th>\n",
       "      <th>type</th>\n",
       "      <th>channel</th>\n",
       "      <th>category</th>\n",
       "      <th>online</th>\n",
       "      <th>merchant_id</th>\n",
       "      <th>trans_city</th>\n",
       "      <th>...</th>\n",
       "      <th>trans_ip</th>\n",
       "      <th>device_id</th>\n",
       "      <th>account</th>\n",
       "      <th>is_fraud</th>\n",
       "      <th>is_suspicious</th>\n",
       "      <th>status</th>\n",
       "      <th>rule</th>\n",
       "      <th>prev_txn_unix</th>\n",
       "      <th>prev_time_diff</th>\n",
       "      <th>prev_time_diff_m</th>\n",
       "    </tr>\n",
       "  </thead>\n",
       "  <tbody>\n",
       "    <tr>\n",
       "      <th>0</th>\n",
       "      <td>677</td>\n",
       "      <td>2025-01-28 03:46:00</td>\n",
       "      <td>1738035960</td>\n",
       "      <td>39100.0</td>\n",
       "      <td>inbound</td>\n",
       "      <td>transfer</td>\n",
       "      <td>not applicable</td>\n",
       "      <td>True</td>\n",
       "      <td>NaN</td>\n",
       "      <td>not applicable</td>\n",
       "      <td>...</td>\n",
       "      <td>not applicable</td>\n",
       "      <td>NaN</td>\n",
       "      <td>10645.0</td>\n",
       "      <td>False</td>\n",
       "      <td>False</td>\n",
       "      <td>approved</td>\n",
       "      <td>not applicable</td>\n",
       "      <td>NaN</td>\n",
       "      <td>NaN</td>\n",
       "      <td>NaT</td>\n",
       "    </tr>\n",
       "    <tr>\n",
       "      <th>1</th>\n",
       "      <td>677</td>\n",
       "      <td>2025-01-28 06:11:00</td>\n",
       "      <td>1738044660</td>\n",
       "      <td>39100.0</td>\n",
       "      <td>purchase</td>\n",
       "      <td>ecom</td>\n",
       "      <td>travel_net</td>\n",
       "      <td>True</td>\n",
       "      <td>6802.0</td>\n",
       "      <td>Ростов-на-Дону</td>\n",
       "      <td>...</td>\n",
       "      <td>2.60.2.134</td>\n",
       "      <td>1164.0</td>\n",
       "      <td>NaN</td>\n",
       "      <td>False</td>\n",
       "      <td>False</td>\n",
       "      <td>approved</td>\n",
       "      <td>not applicable</td>\n",
       "      <td>1.738036e+09</td>\n",
       "      <td>145.0</td>\n",
       "      <td>0 days 02:25:00</td>\n",
       "    </tr>\n",
       "    <tr>\n",
       "      <th>2</th>\n",
       "      <td>677</td>\n",
       "      <td>2025-01-28 07:30:00</td>\n",
       "      <td>1738049400</td>\n",
       "      <td>18900.0</td>\n",
       "      <td>inbound</td>\n",
       "      <td>transfer</td>\n",
       "      <td>not applicable</td>\n",
       "      <td>True</td>\n",
       "      <td>NaN</td>\n",
       "      <td>not applicable</td>\n",
       "      <td>...</td>\n",
       "      <td>not applicable</td>\n",
       "      <td>NaN</td>\n",
       "      <td>10645.0</td>\n",
       "      <td>False</td>\n",
       "      <td>False</td>\n",
       "      <td>approved</td>\n",
       "      <td>not applicable</td>\n",
       "      <td>1.738045e+09</td>\n",
       "      <td>79.0</td>\n",
       "      <td>0 days 01:19:00</td>\n",
       "    </tr>\n",
       "    <tr>\n",
       "      <th>3</th>\n",
       "      <td>677</td>\n",
       "      <td>2025-01-29 05:00:00</td>\n",
       "      <td>1738126800</td>\n",
       "      <td>8000.0</td>\n",
       "      <td>purchase</td>\n",
       "      <td>ecom</td>\n",
       "      <td>shopping_net</td>\n",
       "      <td>True</td>\n",
       "      <td>6943.0</td>\n",
       "      <td>Ростов-на-Дону</td>\n",
       "      <td>...</td>\n",
       "      <td>2.60.2.134</td>\n",
       "      <td>1164.0</td>\n",
       "      <td>NaN</td>\n",
       "      <td>False</td>\n",
       "      <td>False</td>\n",
       "      <td>approved</td>\n",
       "      <td>not applicable</td>\n",
       "      <td>1.738049e+09</td>\n",
       "      <td>1290.0</td>\n",
       "      <td>0 days 21:30:00</td>\n",
       "    </tr>\n",
       "    <tr>\n",
       "      <th>4</th>\n",
       "      <td>677</td>\n",
       "      <td>2025-01-29 06:07:00</td>\n",
       "      <td>1738130820</td>\n",
       "      <td>6000.0</td>\n",
       "      <td>purchase</td>\n",
       "      <td>ecom</td>\n",
       "      <td>shopping_net</td>\n",
       "      <td>True</td>\n",
       "      <td>6787.0</td>\n",
       "      <td>Ростов-на-Дону</td>\n",
       "      <td>...</td>\n",
       "      <td>2.60.2.134</td>\n",
       "      <td>1164.0</td>\n",
       "      <td>NaN</td>\n",
       "      <td>False</td>\n",
       "      <td>False</td>\n",
       "      <td>approved</td>\n",
       "      <td>not applicable</td>\n",
       "      <td>1.738127e+09</td>\n",
       "      <td>67.0</td>\n",
       "      <td>0 days 01:07:00</td>\n",
       "    </tr>\n",
       "  </tbody>\n",
       "</table>\n",
       "<p>5 rows × 22 columns</p>\n",
       "</div>"
      ],
      "text/plain": [
       "   client_id            txn_time   unix_time   amount      type   channel  \\\n",
       "0        677 2025-01-28 03:46:00  1738035960  39100.0   inbound  transfer   \n",
       "1        677 2025-01-28 06:11:00  1738044660  39100.0  purchase      ecom   \n",
       "2        677 2025-01-28 07:30:00  1738049400  18900.0   inbound  transfer   \n",
       "3        677 2025-01-29 05:00:00  1738126800   8000.0  purchase      ecom   \n",
       "4        677 2025-01-29 06:07:00  1738130820   6000.0  purchase      ecom   \n",
       "\n",
       "         category  online  merchant_id      trans_city  ...        trans_ip  \\\n",
       "0  not applicable    True          NaN  not applicable  ...  not applicable   \n",
       "1      travel_net    True       6802.0  Ростов-на-Дону  ...      2.60.2.134   \n",
       "2  not applicable    True          NaN  not applicable  ...  not applicable   \n",
       "3    shopping_net    True       6943.0  Ростов-на-Дону  ...      2.60.2.134   \n",
       "4    shopping_net    True       6787.0  Ростов-на-Дону  ...      2.60.2.134   \n",
       "\n",
       "   device_id  account  is_fraud  is_suspicious    status            rule  \\\n",
       "0        NaN  10645.0     False          False  approved  not applicable   \n",
       "1     1164.0      NaN     False          False  approved  not applicable   \n",
       "2        NaN  10645.0     False          False  approved  not applicable   \n",
       "3     1164.0      NaN     False          False  approved  not applicable   \n",
       "4     1164.0      NaN     False          False  approved  not applicable   \n",
       "\n",
       "  prev_txn_unix prev_time_diff  prev_time_diff_m  \n",
       "0           NaN            NaN               NaT  \n",
       "1  1.738036e+09          145.0   0 days 02:25:00  \n",
       "2  1.738045e+09           79.0   0 days 01:19:00  \n",
       "3  1.738049e+09         1290.0   0 days 21:30:00  \n",
       "4  1.738127e+09           67.0   0 days 01:07:00  \n",
       "\n",
       "[5 rows x 22 columns]"
      ]
     },
     "execution_count": 31,
     "metadata": {},
     "output_type": "execute_result"
    }
   ],
   "source": [
    "# timedelta\n",
    "\n",
    "all_txns_df[\"prev_time_diff_m\"] = pd.to_timedelta(all_txns_df[\"prev_time_diff\"], unit=\"m\")\n",
    "all_txns_df.head()"
   ]
  },
  {
   "cell_type": "code",
   "execution_count": 32,
   "id": "f9c34289-099f-4485-adaa-29eff7a9582e",
   "metadata": {},
   "outputs": [
    {
     "data": {
      "text/plain": [
       "min   0 days 00:30:00\n",
       "max   1 days 00:26:00\n",
       "Name: prev_time_diff_m, dtype: timedelta64[ns]"
      ]
     },
     "execution_count": 32,
     "metadata": {},
     "output_type": "execute_result"
    }
   ],
   "source": [
    "all_txns_df[\"prev_time_diff_m\"].agg([\"min\",\"max\"])"
   ]
  },
  {
   "cell_type": "code",
   "execution_count": null,
   "id": "7c29b3f3-69b3-438b-bec0-f11a980756b9",
   "metadata": {},
   "outputs": [],
   "source": []
  }
 ],
 "metadata": {
  "kernelspec": {
   "display_name": "Python 3 (ipykernel)",
   "language": "python",
   "name": "python3"
  },
  "language_info": {
   "codemirror_mode": {
    "name": "ipython",
    "version": 3
   },
   "file_extension": ".py",
   "mimetype": "text/x-python",
   "name": "python",
   "nbconvert_exporter": "python",
   "pygments_lexer": "ipython3",
   "version": "3.13.3"
  }
 },
 "nbformat": 4,
 "nbformat_minor": 5
}
