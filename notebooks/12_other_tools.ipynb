{
 "cells": [
  {
   "cell_type": "markdown",
   "id": "f70675f0-cd56-4b7c-83f6-580a5a228ac6",
   "metadata": {},
   "source": [
    "## Валидатор конфигураций `ConfigsValidator`\n",
    "- модуль `data_generator.validator`"
   ]
  },
  {
   "cell_type": "markdown",
   "id": "cca63d22-e84f-42cf-a426-3dbd654693b5",
   "metadata": {},
   "source": [
    "**Тест валидатора конфигураций**"
   ]
  },
  {
   "cell_type": "code",
   "execution_count": 1,
   "id": "b502c9c0-d7d6-408e-80e4-7b4083d24aeb",
   "metadata": {},
   "outputs": [],
   "source": [
    "import os\n",
    "import yaml\n",
    "import pandas as pd\n",
    "import numpy as np\n",
    "import matplotlib.pyplot as plt\n",
    "import seaborn as sns\n",
    "\n",
    "os.chdir(\"..\")\n",
    "\n",
    "# Общие настройки\n",
    "with open(\"./config/base.yaml\") as f:\n",
    "    base_cfg = yaml.safe_load(f)\n",
    "# Настройки легальных транз.\n",
    "with open(\"./config/legit.yaml\") as f:\n",
    "    legit_cfg = yaml.safe_load(f)\n",
    "# Общие настройки фрода\n",
    "with open(\"./config/fraud.yaml\") as f:\n",
    "    fraud_cfg = yaml.safe_load(f)\n",
    "# Настройки дроп фрода\n",
    "with open(\"./config/drops.yaml\", encoding=\"utf8\") as f:\n",
    "    drop_cfg = yaml.safe_load(f)\n",
    "# Настройки времени\n",
    "with open(\"./config/time.yaml\") as f:\n",
    "    time_cfg = yaml.safe_load(f)"
   ]
  },
  {
   "cell_type": "code",
   "execution_count": 2,
   "id": "41c2b09e-ab9c-422f-af93-85d3bc609c12",
   "metadata": {},
   "outputs": [],
   "source": [
    "from data_generator.validator import ConfigsValidator\n",
    "\n",
    "cfg_validator = ConfigsValidator(base_cfg, legit_cfg, fraud_cfg, drop_cfg)"
   ]
  },
  {
   "cell_type": "markdown",
   "id": "c5781318-82d2-41a0-8d6a-05cdf2679b43",
   "metadata": {},
   "source": [
    "**get_total_clients**"
   ]
  },
  {
   "cell_type": "code",
   "execution_count": 3,
   "id": "da0cb997-0214-4140-beeb-a7d0c5d8f9b7",
   "metadata": {},
   "outputs": [
    {
     "data": {
      "text/plain": [
       "5369"
      ]
     },
     "execution_count": 3,
     "metadata": {},
     "output_type": "execute_result"
    }
   ],
   "source": [
    "cfg_validator.get_total_clients()"
   ]
  },
  {
   "cell_type": "markdown",
   "id": "fbee2e51-3838-480a-944a-b96ce8d47fc0",
   "metadata": {},
   "source": [
    "**estimate_legit_clients**"
   ]
  },
  {
   "cell_type": "code",
   "execution_count": 3,
   "id": "cc2a07e2-65e0-4e41-aa75-2bba0f31f40a",
   "metadata": {},
   "outputs": [
    {
     "data": {
      "text/plain": [
       "7500"
      ]
     },
     "execution_count": 3,
     "metadata": {},
     "output_type": "execute_result"
    }
   ],
   "source": [
    "cfg_validator.estimate_legit_clients()"
   ]
  },
  {
   "cell_type": "markdown",
   "id": "ea28c3ea-3e51-4067-8d6e-a5d037ceffa7",
   "metadata": {},
   "source": [
    "**model_legit_txns_num_dist**"
   ]
  },
  {
   "cell_type": "code",
   "execution_count": 3,
   "id": "df2d1301-b252-4bfd-bc7e-e05d69ac0eae",
   "metadata": {},
   "outputs": [
    {
     "data": {
      "text/plain": [
       "(np.float64(10822.162378214074),\n",
       " np.float64(10337.778922506115),\n",
       " np.float64(208.21626082370474))"
      ]
     },
     "execution_count": 3,
     "metadata": {},
     "output_type": "execute_result"
    }
   ],
   "source": [
    "legit_dist = cfg_validator.model_legit_txns_num_dist()\n",
    "legit_dist.ppf(0.99), legit_dist.mean(), legit_dist.std()"
   ]
  },
  {
   "cell_type": "markdown",
   "id": "48721920-fe9a-4b31-8c1b-de941145b8ce",
   "metadata": {},
   "source": [
    "**estimate_legit_txns_max**"
   ]
  },
  {
   "cell_type": "code",
   "execution_count": 3,
   "id": "50643f7b-0fda-44c5-9fc3-c5196a6b4d4f",
   "metadata": {},
   "outputs": [
    {
     "data": {
      "text/plain": [
       "10981"
      ]
     },
     "execution_count": 3,
     "metadata": {},
     "output_type": "execute_result"
    }
   ],
   "source": [
    "cfg_validator.estimate_legit_txns_max()"
   ]
  },
  {
   "cell_type": "markdown",
   "id": "cdb2c67b-3330-46bc-a4ca-83eb06f9ccc7",
   "metadata": {},
   "source": [
    "**estimate_compr_clients**"
   ]
  },
  {
   "cell_type": "code",
   "execution_count": 3,
   "id": "62aeb67e-8096-4a17-910a-e00474aff031",
   "metadata": {},
   "outputs": [
    {
     "data": {
      "text/plain": [
       "12208"
      ]
     },
     "execution_count": 3,
     "metadata": {},
     "output_type": "execute_result"
    }
   ],
   "source": [
    "cfg_validator.estimate_compr_clients()"
   ]
  },
  {
   "cell_type": "markdown",
   "id": "ba69aefd-4304-474a-bab1-dc453fde32f0",
   "metadata": {},
   "source": [
    "**validate_legit_txn_num**"
   ]
  },
  {
   "cell_type": "code",
   "execution_count": 7,
   "id": "f970b065-92a0-45f7-9046-0062a67a43e2",
   "metadata": {},
   "outputs": [
    {
     "ename": "ValueError",
     "evalue": "Desired legit txns number is too large: 150000.\n            Clients number needed for generation: 7500.\n            Available clients: 5369.\n            Either reduce legit txns number or increase avg txn number per client\n            or both.",
     "output_type": "error",
     "traceback": [
      "\u001b[31m---------------------------------------------------------------------------\u001b[39m",
      "\u001b[31mValueError\u001b[39m                                Traceback (most recent call last)",
      "\u001b[36mCell\u001b[39m\u001b[36m \u001b[39m\u001b[32mIn[7]\u001b[39m\u001b[32m, line 1\u001b[39m\n\u001b[32m----> \u001b[39m\u001b[32m1\u001b[39m \u001b[43mcfg_validator\u001b[49m\u001b[43m.\u001b[49m\u001b[43mvalidate_legit_txn_num\u001b[49m\u001b[43m(\u001b[49m\u001b[43m)\u001b[49m\n",
      "\u001b[36mFile \u001b[39m\u001b[32m~\\My_documents\\Education\\projects\\fraud_detection_01\\modules\\data_generator\\validator.py:112\u001b[39m, in \u001b[36mConfigsValidator.validate_legit_txn_num\u001b[39m\u001b[34m(self)\u001b[39m\n\u001b[32m    109\u001b[39m legit_clients = \u001b[38;5;28mself\u001b[39m.estimate_legit_clients()\n\u001b[32m    111\u001b[39m \u001b[38;5;28;01mif\u001b[39;00m legit_clients > total_clients:\n\u001b[32m--> \u001b[39m\u001b[32m112\u001b[39m     \u001b[38;5;28;01mraise\u001b[39;00m \u001b[38;5;167;01mValueError\u001b[39;00m(\u001b[33mf\u001b[39m\u001b[33m\"\"\"\u001b[39m\u001b[33mDesired legit txns number is too large: \u001b[39m\u001b[38;5;132;01m{\u001b[39;00mtotal_txns\u001b[38;5;132;01m}\u001b[39;00m\u001b[33m.\u001b[39m\n\u001b[32m    113\u001b[39m \u001b[33m    Clients number needed for generation: \u001b[39m\u001b[38;5;132;01m{\u001b[39;00mlegit_clients\u001b[38;5;132;01m}\u001b[39;00m\u001b[33m.\u001b[39m\n\u001b[32m    114\u001b[39m \u001b[33m    Available clients: \u001b[39m\u001b[38;5;132;01m{\u001b[39;00mtotal_clients\u001b[38;5;132;01m}\u001b[39;00m\u001b[33m.\u001b[39m\n\u001b[32m    115\u001b[39m \u001b[33m    Either reduce legit txns number or increase avg txn number per client\u001b[39m\n\u001b[32m    116\u001b[39m \u001b[33m    or both.\u001b[39m\u001b[33m\"\"\"\u001b[39m)\n\u001b[32m    118\u001b[39m \u001b[38;5;28mprint\u001b[39m(\u001b[33m\"\u001b[39m\u001b[33mLegit txns number config is OK\u001b[39m\u001b[33m\"\u001b[39m)\n",
      "\u001b[31mValueError\u001b[39m: Desired legit txns number is too large: 150000.\n            Clients number needed for generation: 7500.\n            Available clients: 5369.\n            Either reduce legit txns number or increase avg txn number per client\n            or both."
     ]
    }
   ],
   "source": [
    "cfg_validator.validate_legit_txn_num()"
   ]
  },
  {
   "cell_type": "markdown",
   "id": "bc02fa03-ddad-4dda-99c6-34c0fe96d70d",
   "metadata": {},
   "source": [
    "**validate_comp_rate**"
   ]
  },
  {
   "cell_type": "code",
   "execution_count": 1,
   "id": "cbad4eb1-6b2f-429d-97d5-1d75445ed116",
   "metadata": {},
   "outputs": [],
   "source": []
  },
  {
   "cell_type": "code",
   "execution_count": 2,
   "id": "7864e3de-efb9-485a-8d73-14c87c671fe6",
   "metadata": {},
   "outputs": [
    {
     "ename": "ValueError",
     "evalue": "Estimated maximum possible number of clients that might be needed to generate\n            'compromised client' fraud transactions: 1012.\n            Estimated number of clients required for generating legitimate transactions: 1000.\n\n            The number of compromised fraud clients cannot be less than the number required\n            for legitimate transaction generation.\n\n            Please either:\n            1. Decrease the 'compr_client' rate and/or the overall fraud rate in configs/fraud.yaml\n            2. Reduce the average number of legitimate transactions per client in legit.yaml\n            ",
     "output_type": "error",
     "traceback": [
      "\u001b[31m---------------------------------------------------------------------------\u001b[39m",
      "\u001b[31mValueError\u001b[39m                                Traceback (most recent call last)",
      "\u001b[36mCell\u001b[39m\u001b[36m \u001b[39m\u001b[32mIn[2]\u001b[39m\u001b[32m, line 1\u001b[39m\n\u001b[32m----> \u001b[39m\u001b[32m1\u001b[39m \u001b[43mcfg_validator\u001b[49m\u001b[43m.\u001b[49m\u001b[43mvalidate_comp_rate\u001b[49m\u001b[43m(\u001b[49m\u001b[43m)\u001b[49m\n",
      "\u001b[36mFile \u001b[39m\u001b[32m~\\My_documents\\Education\\projects\\fraud_detection_01\\modules\\data_generator\\validator.py:131\u001b[39m, in \u001b[36mConfigsValidator.validate_comp_rate\u001b[39m\u001b[34m(self)\u001b[39m\n\u001b[32m    128\u001b[39m clients_count = \u001b[38;5;28mself\u001b[39m.estimate_compr_clients()\n\u001b[32m    130\u001b[39m \u001b[38;5;28;01mif\u001b[39;00m clients_count > est_clients:\n\u001b[32m--> \u001b[39m\u001b[32m131\u001b[39m     \u001b[38;5;28;01mraise\u001b[39;00m \u001b[38;5;167;01mValueError\u001b[39;00m(\u001b[33mf\u001b[39m\u001b[33m\"\"\"\u001b[39m\u001b[33mEstimated maximum possible number of clients that might be needed to generate\u001b[39m\n\u001b[32m    132\u001b[39m \u001b[33m    \u001b[39m\u001b[33m'\u001b[39m\u001b[33mcompromised client\u001b[39m\u001b[33m'\u001b[39m\u001b[33m fraud transactions: \u001b[39m\u001b[38;5;132;01m{\u001b[39;00mclients_count\u001b[38;5;132;01m}\u001b[39;00m\u001b[33m.\u001b[39m\n\u001b[32m    133\u001b[39m \u001b[33m    Estimated number of clients required for generating legitimate transactions: \u001b[39m\u001b[38;5;132;01m{\u001b[39;00mest_clients\u001b[38;5;132;01m}\u001b[39;00m\u001b[33m.\u001b[39m\n\u001b[32m    134\u001b[39m \n\u001b[32m    135\u001b[39m \u001b[33m    The number of compromised fraud clients cannot be less than the number required\u001b[39m\n\u001b[32m    136\u001b[39m \u001b[33m    for legitimate transaction generation.\u001b[39m\n\u001b[32m    137\u001b[39m \n\u001b[32m    138\u001b[39m \u001b[33m    Please either:\u001b[39m\n\u001b[32m    139\u001b[39m \u001b[33m    1. Decrease the \u001b[39m\u001b[33m'\u001b[39m\u001b[33mcompr_client\u001b[39m\u001b[33m'\u001b[39m\u001b[33m rate and/or the overall fraud rate in configs/fraud.yaml\u001b[39m\n\u001b[32m    140\u001b[39m \u001b[33m    2. Reduce the average number of legitimate transactions per client in legit.yaml\u001b[39m\n\u001b[32m    141\u001b[39m \u001b[33m    \u001b[39m\u001b[33m\"\"\"\u001b[39m)\n\u001b[32m    143\u001b[39m \u001b[38;5;28mprint\u001b[39m(\u001b[33m\"\u001b[39m\u001b[33mCompromised fraud rate config is OK\u001b[39m\u001b[33m\"\u001b[39m)\n",
      "\u001b[31mValueError\u001b[39m: Estimated maximum possible number of clients that might be needed to generate\n            'compromised client' fraud transactions: 1012.\n            Estimated number of clients required for generating legitimate transactions: 1000.\n\n            The number of compromised fraud clients cannot be less than the number required\n            for legitimate transaction generation.\n\n            Please either:\n            1. Decrease the 'compr_client' rate and/or the overall fraud rate in configs/fraud.yaml\n            2. Reduce the average number of legitimate transactions per client in legit.yaml\n            "
     ]
    }
   ],
   "source": [
    "cfg_validator.validate_comp_rate()"
   ]
  },
  {
   "cell_type": "markdown",
   "id": "80e7d4e3-31e2-4576-9a48-a83c962f7f09",
   "metadata": {},
   "source": [
    "**validate_drops_rate**"
   ]
  },
  {
   "cell_type": "code",
   "execution_count": 5,
   "id": "f4c15e83-4d19-4868-9a83-950767497796",
   "metadata": {},
   "outputs": [
    {
     "ename": "ValueError",
     "evalue": "Total clients number needed for drop fraud generation\n            exceeds the available clients number.\n            Clients number needed for drops: 654\n            Available clients: 0\n            Legit txns clients: 7500\n            Compr fraud clients: 12208\n            Please eitehr:\n            1. Reduce total fraud rate.\n            2. Reduce legit txns number",
     "output_type": "error",
     "traceback": [
      "\u001b[31m---------------------------------------------------------------------------\u001b[39m",
      "\u001b[31mValueError\u001b[39m                                Traceback (most recent call last)",
      "\u001b[36mCell\u001b[39m\u001b[36m \u001b[39m\u001b[32mIn[5]\u001b[39m\u001b[32m, line 1\u001b[39m\n\u001b[32m----> \u001b[39m\u001b[32m1\u001b[39m \u001b[43mcfg_validator\u001b[49m\u001b[43m.\u001b[49m\u001b[43mvalidate_drops_rate\u001b[49m\u001b[43m(\u001b[49m\u001b[43m)\u001b[49m\n",
      "\u001b[36mFile \u001b[39m\u001b[32m~\\My_documents\\Education\\projects\\fraud_detection_01\\modules\\data_generator\\validator.py:174\u001b[39m, in \u001b[36mConfigsValidator.validate_drops_rate\u001b[39m\u001b[34m(self)\u001b[39m\n\u001b[32m    171\u001b[39m remainder = \u001b[38;5;28mmax\u001b[39m(\u001b[32m0\u001b[39m, total_clients - (legit_clients + compr_clients))\n\u001b[32m    173\u001b[39m \u001b[38;5;28;01mif\u001b[39;00m remainder < total_drops:\n\u001b[32m--> \u001b[39m\u001b[32m174\u001b[39m     \u001b[38;5;28;01mraise\u001b[39;00m \u001b[38;5;167;01mValueError\u001b[39;00m(\u001b[33mf\u001b[39m\u001b[33m\"\"\"\u001b[39m\u001b[33mTotal clients number needed for drop fraud generation\u001b[39m\n\u001b[32m    175\u001b[39m \u001b[33m    exceeds the available clients number.\u001b[39m\n\u001b[32m    176\u001b[39m \u001b[33m    Clients number needed for drops: \u001b[39m\u001b[38;5;132;01m{\u001b[39;00mtotal_drops\u001b[38;5;132;01m}\u001b[39;00m\n\u001b[32m    177\u001b[39m \u001b[33m    Available clients: \u001b[39m\u001b[38;5;132;01m{\u001b[39;00mremainder\u001b[38;5;132;01m}\u001b[39;00m\n\u001b[32m    178\u001b[39m \u001b[33m    Legit txns clients: \u001b[39m\u001b[38;5;132;01m{\u001b[39;00mlegit_clients\u001b[38;5;132;01m}\u001b[39;00m\n\u001b[32m    179\u001b[39m \u001b[33m    Compr fraud clients: \u001b[39m\u001b[38;5;132;01m{\u001b[39;00mcompr_clients\u001b[38;5;132;01m}\u001b[39;00m\n\u001b[32m    180\u001b[39m \u001b[33m    Please eitehr:\u001b[39m\n\u001b[32m    181\u001b[39m \u001b[33m    1. Reduce total fraud rate.\u001b[39m\n\u001b[32m    182\u001b[39m \u001b[33m    2. Reduce legit txns number\u001b[39m\u001b[33m\"\"\"\u001b[39m)\n\u001b[32m    184\u001b[39m \u001b[38;5;28mprint\u001b[39m(\u001b[33m\"\u001b[39m\u001b[33mDrop fraud rate config is OK\u001b[39m\u001b[33m\"\u001b[39m)\n",
      "\u001b[31mValueError\u001b[39m: Total clients number needed for drop fraud generation\n            exceeds the available clients number.\n            Clients number needed for drops: 654\n            Available clients: 0\n            Legit txns clients: 7500\n            Compr fraud clients: 12208\n            Please eitehr:\n            1. Reduce total fraud rate.\n            2. Reduce legit txns number"
     ]
    }
   ],
   "source": [
    "cfg_validator.validate_drops_rate()"
   ]
  },
  {
   "cell_type": "markdown",
   "id": "ec78f566-97a2-4d00-91e2-2f281a7855a6",
   "metadata": {},
   "source": [
    "**validate_all**"
   ]
  },
  {
   "cell_type": "code",
   "execution_count": 1,
   "id": "46727efd-d2a4-4191-845c-f4959316e087",
   "metadata": {},
   "outputs": [],
   "source": [
    "import os\n",
    "import yaml\n",
    "import pandas as pd\n",
    "import numpy as np\n",
    "import matplotlib.pyplot as plt\n",
    "import seaborn as sns\n",
    "\n",
    "os.chdir(\"..\")\n",
    "\n",
    "# Общие настройки\n",
    "with open(\"./config/base.yaml\") as f:\n",
    "    base_cfg = yaml.safe_load(f)\n",
    "# Настройки легальных транз.\n",
    "with open(\"./config/legit.yaml\") as f:\n",
    "    legit_cfg = yaml.safe_load(f)\n",
    "# Общие настройки фрода\n",
    "with open(\"./config/fraud.yaml\") as f:\n",
    "    fraud_cfg = yaml.safe_load(f)\n",
    "# Настройки дроп фрода\n",
    "with open(\"./config/drops.yaml\", encoding=\"utf8\") as f:\n",
    "    drop_cfg = yaml.safe_load(f)\n",
    "# Настройки времени\n",
    "with open(\"./config/time.yaml\") as f:\n",
    "    time_cfg = yaml.safe_load(f)\n",
    "    \n",
    "from data_generator.validator import ConfigsValidator\n",
    "\n",
    "cfg_validator = ConfigsValidator(base_cfg, legit_cfg, fraud_cfg, drop_cfg)"
   ]
  },
  {
   "cell_type": "code",
   "execution_count": 2,
   "id": "352484ad-d504-4f88-a894-64813c41229f",
   "metadata": {},
   "outputs": [
    {
     "name": "stdout",
     "output_type": "stream",
     "text": [
      "Legit txns number config is OK\n",
      "Compromised fraud rate config is OK\n",
      "Drop fraud rate config is OK\n"
     ]
    },
    {
     "ename": "AssertionError",
     "evalue": "general_diff must not be lower than online_time_diff.\n            4 vs 6 Check configs in legit.yaml",
     "output_type": "error",
     "traceback": [
      "\u001b[31m---------------------------------------------------------------------------\u001b[39m",
      "\u001b[31mAssertionError\u001b[39m                            Traceback (most recent call last)",
      "\u001b[36mCell\u001b[39m\u001b[36m \u001b[39m\u001b[32mIn[2]\u001b[39m\u001b[32m, line 1\u001b[39m\n\u001b[32m----> \u001b[39m\u001b[32m1\u001b[39m \u001b[43mcfg_validator\u001b[49m\u001b[43m.\u001b[49m\u001b[43mvalidate_all\u001b[49m\u001b[43m(\u001b[49m\u001b[43m)\u001b[49m\n",
      "\u001b[36mFile \u001b[39m\u001b[32m~\\My_documents\\Education\\projects\\fraud_detection_01\\modules\\data_generator\\validator.py:218\u001b[39m, in \u001b[36mConfigsValidator.validate_all\u001b[39m\u001b[34m(self)\u001b[39m\n\u001b[32m    216\u001b[39m \u001b[38;5;28mself\u001b[39m.validate_comp_rate()\n\u001b[32m    217\u001b[39m \u001b[38;5;28mself\u001b[39m.validate_drops_rate()\n\u001b[32m--> \u001b[39m\u001b[32m218\u001b[39m \u001b[38;5;28;43mself\u001b[39;49m\u001b[43m.\u001b[49m\u001b[43massert_legit_time_limits\u001b[49m\u001b[43m(\u001b[49m\u001b[43m)\u001b[49m\n",
      "\u001b[36mFile \u001b[39m\u001b[32m~\\My_documents\\Education\\projects\\fraud_detection_01\\modules\\data_generator\\validator.py:205\u001b[39m, in \u001b[36mConfigsValidator.assert_legit_time_limits\u001b[39m\u001b[34m(self)\u001b[39m\n\u001b[32m    197\u001b[39m \u001b[38;5;28;01massert\u001b[39;00m offline_time_diff > general_diff, \\\n\u001b[32m    198\u001b[39m     \u001b[33mf\u001b[39m\u001b[33m\"\"\"\u001b[39m\u001b[33moffline_time_diff must not be lower than general_diff. \u001b[39m\n\u001b[32m    199\u001b[39m \u001b[33m    \u001b[39m\u001b[38;5;132;01m{\u001b[39;00moffline_time_diff\u001b[38;5;132;01m}\u001b[39;00m\u001b[33m vs \u001b[39m\u001b[38;5;132;01m{\u001b[39;00mgeneral_diff\u001b[38;5;132;01m}\u001b[39;00m\u001b[33m Check configs in legit.yaml\u001b[39m\u001b[33m\"\"\"\u001b[39m\n\u001b[32m    201\u001b[39m \u001b[38;5;28;01massert\u001b[39;00m offline_time_diff > online_time_diff, \\\n\u001b[32m    202\u001b[39m     \u001b[33mf\u001b[39m\u001b[33m\"\"\"\u001b[39m\u001b[33moffline_time_diff must not be lower than online_time_diff.\u001b[39m\n\u001b[32m    203\u001b[39m \u001b[33m    \u001b[39m\u001b[38;5;132;01m{\u001b[39;00moffline_time_diff\u001b[38;5;132;01m}\u001b[39;00m\u001b[33m vs \u001b[39m\u001b[38;5;132;01m{\u001b[39;00monline_time_diff\u001b[38;5;132;01m}\u001b[39;00m\u001b[33m Check configs in legit.yaml\u001b[39m\u001b[33m\"\"\"\u001b[39m\n\u001b[32m--> \u001b[39m\u001b[32m205\u001b[39m \u001b[38;5;28;01massert\u001b[39;00m general_diff > online_time_diff, \\\n\u001b[32m    206\u001b[39m     \u001b[33mf\u001b[39m\u001b[33m\"\"\"\u001b[39m\u001b[33mgeneral_diff must not be lower than online_time_diff.\u001b[39m\n\u001b[32m    207\u001b[39m \u001b[33m    \u001b[39m\u001b[38;5;132;01m{\u001b[39;00mgeneral_diff\u001b[38;5;132;01m}\u001b[39;00m\u001b[33m vs \u001b[39m\u001b[38;5;132;01m{\u001b[39;00monline_time_diff\u001b[38;5;132;01m}\u001b[39;00m\u001b[33m Check configs in legit.yaml\u001b[39m\u001b[33m\"\"\"\u001b[39m    \n\u001b[32m    209\u001b[39m \u001b[38;5;28mprint\u001b[39m(\u001b[33m\"\u001b[39m\u001b[33mLegit min time intervals config is OK\u001b[39m\u001b[33m\"\u001b[39m)\n",
      "\u001b[31mAssertionError\u001b[39m: general_diff must not be lower than online_time_diff.\n            4 vs 6 Check configs in legit.yaml"
     ]
    }
   ],
   "source": [
    "cfg_validator.validate_all()"
   ]
  },
  {
   "cell_type": "markdown",
   "id": "a90375a0-2180-46a5-ba8d-e49a742e4736",
   "metadata": {},
   "source": [
    "**assert_legit_time_limits**"
   ]
  },
  {
   "cell_type": "code",
   "execution_count": 7,
   "id": "b11f82d3-6028-43bb-980a-355359816156",
   "metadata": {},
   "outputs": [
    {
     "name": "stdout",
     "output_type": "stream",
     "text": [
      "Legit time limits config is OK\n"
     ]
    }
   ],
   "source": [
    "cfg_validator.assert_legit_time_limits()"
   ]
  },
  {
   "cell_type": "code",
   "execution_count": null,
   "id": "6e54f569-f077-4f55-bd75-f673a87d3267",
   "metadata": {},
   "outputs": [],
   "source": [
    "\n",
    "legit_cfg: dict. Конфиги из .yaml\n",
    "base_cfg: dict. Конфиги из .yaml\n",
    "fraud_cfg: dict. Конфиги из .yaml\n",
    "drop_cfg: dict. Конфиги из .yaml\n",
    "total_clients: dict. Конфиги из .yaml"
   ]
  }
 ],
 "metadata": {
  "kernelspec": {
   "display_name": "Python 3 (ipykernel)",
   "language": "python",
   "name": "python3"
  },
  "language_info": {
   "codemirror_mode": {
    "name": "ipython",
    "version": 3
   },
   "file_extension": ".py",
   "mimetype": "text/x-python",
   "name": "python",
   "nbconvert_exporter": "python",
   "pygments_lexer": "ipython3",
   "version": "3.13.3"
  }
 },
 "nbformat": 4,
 "nbformat_minor": 5
}
