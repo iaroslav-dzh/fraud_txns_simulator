{
 "cells": [
  {
   "cell_type": "code",
   "execution_count": 16,
   "id": "ffea4ed8-1dd0-4d02-bda8-3d85536ee43d",
   "metadata": {},
   "outputs": [],
   "source": [
    "import os\n",
    "from scipy.stats import truncnorm"
   ]
  },
  {
   "cell_type": "code",
   "execution_count": 38,
   "id": "85d31988-546d-420b-b75f-b36aff462d90",
   "metadata": {},
   "outputs": [],
   "source": [
    "def get_values_from_truncnorm(low_bound, high_bound, mean, std, size=1):\n",
    "    \"\"\"\n",
    "    Сгенерировать массив чисел из обрезанного нормального распределения.\n",
    "    Можно сгенерировать массив с одним числом\n",
    "    ------------\n",
    "    low_bound - float, int. Нижняя граница значений\n",
    "    high_bound - float, int. Верхняя граница значений \n",
    "    mean - float, int. Среднее\n",
    "    std - float, int. Стандартное отклонение\n",
    "    size - Количество чисел в возвращаемом массиве\n",
    "    ------------\n",
    "    Возвращает np.ndarray\n",
    "    \"\"\"\n",
    "    return truncnorm.rvs((low_bound - mean) / std, (high_bound - mean) / std, loc=mean, scale=std, size=size)"
   ]
  },
  {
   "cell_type": "code",
   "execution_count": 17,
   "id": "60cdb8d5-2447-4c12-996c-45376b9f42e1",
   "metadata": {},
   "outputs": [],
   "source": [
    "total_txns = 20000\n",
    "avg_num_per_client = 20 # Среднее кол-во на клиента\n",
    "txn_num_std = 10 # Стандартное откл. кол-ва транзакций на клиента\n",
    "low_bound = 1 # мин. транз-ций на клиента\n",
    "up_bound = 120 # макс. транз-ций на клиента\n",
    "\n",
    "avg_total = total_txns\n",
    "est_clients = total_txns / avg_num_per_client\n",
    "total_std = txn_num_std * est_clients\n",
    "total_low = 1 * est_clients\n",
    "total_up = 120 * est_clients"
   ]
  },
  {
   "cell_type": "code",
   "execution_count": 76,
   "id": "4a701c99-3682-4999-b92a-498fcf1e96e7",
   "metadata": {},
   "outputs": [],
   "source": [
    "a = (total_low - avg_total) / total_std\n",
    "b = (total_up - avg_total) / total_std\n",
    "dist01 = norm(loc=avg_total, scale=total_std)"
   ]
  },
  {
   "cell_type": "code",
   "execution_count": null,
   "id": "571c664f-bfd4-4023-b0e1-cd9a72ea4989",
   "metadata": {},
   "outputs": [],
   "source": [
    "dist01.ppf(0.95)"
   ]
  },
  {
   "cell_type": "code",
   "execution_count": 53,
   "id": "7ed76432-51a7-43d7-893f-bc1ad6557c90",
   "metadata": {},
   "outputs": [],
   "source": [
    "all_runs = []\n",
    "rand_txn_nums = []\n",
    "for _ in range(100):\n",
    "    for _ in range(est_clients):\n",
    "        rand_txn_nums.append(round(get_values_from_truncnorm(low_bound=low_bound, high_bound=up_bound, \\\n",
    "                                                             mean=avg_num_per_client, std=txn_num_std)[0]))\n",
    "    rand_nums_sum = sum(rand_txn_nums)\n",
    "    rand_txn_nums.clear()\n",
    "    all_runs.append(rand_nums_sum)"
   ]
  },
  {
   "cell_type": "code",
   "execution_count": 54,
   "id": "2b89b22a-73b1-4164-a627-f616d81c4653",
   "metadata": {},
   "outputs": [
    {
     "data": {
      "text/plain": [
       "(19968, 21349)"
      ]
     },
     "execution_count": 54,
     "metadata": {},
     "output_type": "execute_result"
    }
   ],
   "source": [
    "min(all_runs), max(all_runs)"
   ]
  },
  {
   "cell_type": "code",
   "execution_count": 59,
   "id": "038a2348-4e99-4933-b753-7efaeb210ab1",
   "metadata": {},
   "outputs": [
    {
     "data": {
      "text/plain": [
       "Text(0.5, 1.0, 'Распределение общего числа транзакций')"
      ]
     },
     "execution_count": 59,
     "metadata": {},
     "output_type": "execute_result"
    },
    {
     "data": {
      "image/png": "[encoded data removed]",
      "text/plain": [
       "<Figure size 640x480 with 1 Axes>"
      ]
     },
     "metadata": {},
     "output_type": "display_data"
    }
   ],
   "source": [
    "import matplotlib.pyplot as plt\n",
    "plt.hist(all_runs, bins=25)\n",
    "plt.title(\"Распределение общего числа транзакций\")"
   ]
  },
  {
   "cell_type": "code",
   "execution_count": 23,
   "id": "330c292d-b4f5-4219-80c1-f279276f6425",
   "metadata": {},
   "outputs": [
    {
     "data": {
      "text/plain": [
       "np.float64(36589.37713944947)"
      ]
     },
     "execution_count": 23,
     "metadata": {},
     "output_type": "execute_result"
    }
   ],
   "source": []
  },
  {
   "cell_type": "code",
   "execution_count": 125,
   "id": "69acc04e-7607-4b7e-bdec-366af09cdb8e",
   "metadata": {},
   "outputs": [],
   "source": [
    "from scipy.stats import truncnorm\n",
    "import numpy as np\n",
    "\n",
    "total_txns = 50000\n",
    "avg_num_per_client = 30\n",
    "txn_num_std = 10\n",
    "low_bound = 1\n",
    "up_bound = 120\n",
    "\n",
    "est_clients = int(total_txns / avg_num_per_client)\n",
    "\n",
    "# параметры отдельной транзакции на клиента\n",
    "a = (low_bound - avg_num_per_client) / txn_num_std\n",
    "b = (up_bound - avg_num_per_client) / txn_num_std\n",
    "per_client_dist = truncnorm(a=a, b=b, loc=avg_num_per_client, scale=txn_num_std)"
   ]
  },
  {
   "cell_type": "code",
   "execution_count": 126,
   "id": "03d036cd-997d-4333-8076-4fb7545129c1",
   "metadata": {},
   "outputs": [],
   "source": [
    "samples = per_client_dist.rvs(size=(10000, est_clients))\n",
    "sum_txns = samples.sum(axis=1)"
   ]
  },
  {
   "cell_type": "code",
   "execution_count": 127,
   "id": "2bc0fd6c-928c-4621-8323-8c77f585ba4b",
   "metadata": {},
   "outputs": [],
   "source": [
    "mean_sum = est_clients * per_client_dist.mean()\n",
    "std_sum = np.sqrt(est_clients) * per_client_dist.std()"
   ]
  },
  {
   "cell_type": "code",
   "execution_count": 128,
   "id": "47d9073a-6aaf-43f3-a365-fbbf72c8457a",
   "metadata": {},
   "outputs": [
    {
     "data": {
      "text/plain": [
       "(np.float64(50079.354567186376), np.float64(404.61437490963584))"
      ]
     },
     "execution_count": 128,
     "metadata": {},
     "output_type": "execute_result"
    }
   ],
   "source": [
    "mean_sum, std_sum"
   ]
  },
  {
   "cell_type": "code",
   "execution_count": 152,
   "id": "6cb4cf6c-8fb0-4001-b06a-b39b41ac1d3a",
   "metadata": {},
   "outputs": [
    {
     "data": {
      "text/plain": [
       "(1691, 1666, 0.68)"
      ]
     },
     "execution_count": 152,
     "metadata": {},
     "output_type": "execute_result"
    }
   ],
   "source": [
    "fraud_rate = 0.04499054820415879\n",
    "compr_share = 0.7\n",
    "\n",
    "legit_count = round(mean_sum + 3*std_sum)\n",
    "# подсчет количества транзакций равных 1% от всех транзакций\n",
    "# т.к. не все транзакции еще созданы, то считаем основываясь на количестве \n",
    "# легальных транзакций и fraud rate\n",
    "one_perc = round(legit_count / ((1 - fraud_rate) * 100))\n",
    "# Абсолютное кол-во всего фрода\n",
    "fraud_abs = one_perc * fraud_rate * 100\n",
    "# Абсолютное кол-во фрод транзакций умножаем на долю транзакций compromised фрода\n",
    "clients_count = round(fraud_abs * compr_share)\n",
    "clients_count, est_clients, est_clients/fraud_abs // 0.01 * 0.01"
   ]
  },
  {
   "cell_type": "code",
   "execution_count": 151,
   "id": "dc5ae31e-658d-4f47-b700-4a44e1519975",
   "metadata": {},
   "outputs": [
    {
     "data": {
      "text/plain": [
       "0.04499054820415879"
      ]
     },
     "execution_count": 151,
     "metadata": {},
     "output_type": "execute_result"
    }
   ],
   "source": [
    "# est_clients / (one_perc * fraud_rate * 100)\n",
    "# fraud_rate = est_clients / (one_perc * 100)\n",
    "# clients_count = (one_perc * fraud_rate * 100) * compr_share\n",
    "fraud_rate = est_clients / (one_perc * 100 * compr_share)\n",
    "fraud_rate"
   ]
  },
  {
   "cell_type": "code",
   "execution_count": 154,
   "id": "2950a574-80a2-4af3-ad2f-64c492b6433d",
   "metadata": {},
   "outputs": [
    {
     "data": {
      "text/plain": [
       "'C:\\\\Users\\\\iaros\\\\My_documents\\\\Education\\\\projects\\\\fraud_detection_01\\\\notebooks'"
      ]
     },
     "execution_count": 154,
     "metadata": {},
     "output_type": "execute_result"
    }
   ],
   "source": [
    "os.getcwd()"
   ]
  },
  {
   "cell_type": "code",
   "execution_count": 155,
   "id": "638ca1c4-2c0d-4187-8ca5-ed76067f95d9",
   "metadata": {},
   "outputs": [],
   "source": [
    "os.chdir(\"..\")"
   ]
  },
  {
   "cell_type": "code",
   "execution_count": 158,
   "id": "9d4e3423-3d12-4383-9fc5-f65946aa8918",
   "metadata": {},
   "outputs": [],
   "source": [
    "\n",
    "from test01 import bimbus"
   ]
  },
  {
   "cell_type": "code",
   "execution_count": 159,
   "id": "a9abd69b-c1eb-4091-9e3d-ac0994e3b0bb",
   "metadata": {},
   "outputs": [
    {
     "data": {
      "text/plain": [
       "'aboba galaboba'"
      ]
     },
     "execution_count": 159,
     "metadata": {},
     "output_type": "execute_result"
    }
   ],
   "source": [
    "bimbus"
   ]
  },
  {
   "cell_type": "code",
   "execution_count": 93,
   "id": "768ececb-ccfc-49a5-9f18-ee67fd4cd197",
   "metadata": {},
   "outputs": [],
   "source": [
    "from scipy.stats import norm\n",
    "approx_dist = norm(loc=mean_sum, scale=std_sum)"
   ]
  },
  {
   "cell_type": "code",
   "execution_count": 94,
   "id": "f5648945-f06c-4230-a2bd-e77c9931dcdb",
   "metadata": {},
   "outputs": [
    {
     "name": "stdout",
     "output_type": "stream",
     "text": [
      "mean: 10338\n",
      "std: 208\n",
      "addition: 0\n"
     ]
    },
    {
     "data": {
      "text/plain": [
       "882"
      ]
     },
     "execution_count": 94,
     "metadata": {},
     "output_type": "execute_result"
    }
   ],
   "source": [
    "addition = 0\n",
    "mul = 3\n",
    "mean = approx_dist.mean()\n",
    "std = approx_dist.std()\n",
    "print(f\"\"\"mean: {round(mean)}\n",
    "std: {round(std)}\n",
    "addition: {addition}\"\"\")\n",
    "# approx_dist.cdf(mean + std + addition) - approx_dist.cdf(mean - std - addition)\n",
    "1 - approx_dist.cdf(mean + std*mul) - approx_dist.cdf(mean - std*mul)\n",
    "294 * mul"
   ]
  },
  {
   "cell_type": "code",
   "execution_count": 100,
   "id": "537de6a4-73f1-4e84-98bd-1859f5d9a755",
   "metadata": {},
   "outputs": [
    {
     "data": {
      "text/plain": [
       "(78, 500)"
      ]
     },
     "execution_count": 100,
     "metadata": {},
     "output_type": "execute_result"
    }
   ],
   "source": []
  },
  {
   "cell_type": "code",
   "execution_count": 77,
   "id": "dda56e77-7060-4784-955f-3b2650390ebc",
   "metadata": {},
   "outputs": [
    {
     "name": "stdout",
     "output_type": "stream",
     "text": [
      "mean: 20000\n",
      "std: 10000\n",
      "addition: 0\n"
     ]
    },
    {
     "data": {
      "text/plain": [
       "np.float64(0.6826894921370859)"
      ]
     },
     "execution_count": 77,
     "metadata": {},
     "output_type": "execute_result"
    }
   ],
   "source": [
    "addition = 0\n",
    "mean = dist01.mean()\n",
    "std = dist01.std()\n",
    "print(f\"\"\"mean: {round(mean)}\n",
    "std: {round(std)}\n",
    "addition: {addition}\"\"\")\n",
    "dist01.cdf(mean + std + addition) - dist01.cdf(mean - std - addition)"
   ]
  },
  {
   "cell_type": "code",
   "execution_count": 78,
   "id": "28618bf1-63c0-4cdb-b9a6-a73e8d6b0b27",
   "metadata": {},
   "outputs": [
    {
     "data": {
      "text/plain": [
       "2.220446049250313e-16"
      ]
     },
     "execution_count": 78,
     "metadata": {},
     "output_type": "execute_result"
    }
   ],
   "source": [
    "0.6826894921370859 - 0.6826894921370856"
   ]
  },
  {
   "cell_type": "code",
   "execution_count": 36,
   "id": "0a30d041-7c8c-4ae1-8636-1fc7b72b78ef",
   "metadata": {},
   "outputs": [
    {
     "data": {
      "text/plain": [
       "Text(0.5, 1.0, 'Распределение общего числа транзакций')"
      ]
     },
     "execution_count": 36,
     "metadata": {},
     "output_type": "execute_result"
    },
    {
     "data": {
      "image/png": "[encoded data removed]",
      "text/plain": [
       "<Figure size 640x480 with 1 Axes>"
      ]
     },
     "metadata": {},
     "output_type": "display_data"
    }
   ],
   "source": [
    "import matplotlib.pyplot as plt\n",
    "plt.hist(sum_txns, bins=50)\n",
    "plt.title(\"Распределение общего числа транзакций\")"
   ]
  },
  {
   "cell_type": "code",
   "execution_count": null,
   "id": "e78692f4-4f24-43d4-9711-23b6394d10db",
   "metadata": {},
   "outputs": [],
   "source": [
    "addition = 8000\n",
    "dist01.cdf(avg_total + total_std + addition) - dist01.cdf(avg_total - total_std - addition)"
   ]
  },
  {
   "cell_type": "code",
   "execution_count": null,
   "id": "50b2f677-bf27-4e42-b602-7d42390baf4f",
   "metadata": {},
   "outputs": [],
   "source": []
  },
  {
   "cell_type": "code",
   "execution_count": null,
   "id": "88c20026-eadc-4041-9ca7-6639823b5358",
   "metadata": {},
   "outputs": [],
   "source": []
  },
  {
   "cell_type": "code",
   "execution_count": 14,
   "id": "1bd5433b-0454-4c85-b00b-2da683c6bf5d",
   "metadata": {},
   "outputs": [],
   "source": [
    "import itertools, sys, time\n",
    "def spinner(static_text):\n",
    "    \"\"\"\n",
    "    \"\"\"\n",
    "    spinner = itertools.cycle(['', '..', '....', '.....'])\n",
    "    i = 0\n",
    "    while i < 10:\n",
    "        text = next(spinner)\n",
    "        sys.stdout.write('\\r' + static_text + text + ' ' * 10)  # перезаписываем строку + очищаем остатки\n",
    "        sys.stdout.flush()\n",
    "        time.sleep(1)\n",
    "        i += 1\n",
    "    \n",
    "    sys.stdout.write('\\nDone.\\n')\n",
    "\n",
    "# print(\"done with spinner\")"
   ]
  },
  {
   "cell_type": "code",
   "execution_count": 15,
   "id": "f3098e45-0428-43a5-911d-04f903d624c8",
   "metadata": {},
   "outputs": [
    {
     "name": "stdout",
     "output_type": "stream",
     "text": [
      "Generating legit txns..             \n",
      "Done.\n"
     ]
    }
   ],
   "source": [
    "spinner(\"Generating legit txns\")"
   ]
  },
  {
   "cell_type": "code",
   "execution_count": null,
   "id": "ee38bef5-4338-48d9-80c6-f3d2a04f1655",
   "metadata": {},
   "outputs": [],
   "source": []
  },
  {
   "cell_type": "code",
   "execution_count": 2,
   "id": "34aab34b-1156-4dff-8242-dfa9ab4d5d2d",
   "metadata": {},
   "outputs": [
    {
     "data": {
      "text/plain": [
       "['.ipynb_checkpoints',\n",
       " '01_data_cleaning.ipynb',\n",
       " '02_cleaned_data_to_sql_db.ipynb',\n",
       " '03_geo_data_generation.ipynb',\n",
       " '03_whole_notebook_data_generation_v2.ipynb',\n",
       " '04_ip_addresses_generation.ipynb',\n",
       " '05COMMON_time_time_patterns_generation_30-06-2025.ipynb',\n",
       " '05DUPLICATE.ipynb',\n",
       " '05WHOLE_NB_time_patterns_generation_18-06-25.ipynb',\n",
       " '05_time_patterns_generation.ipynb',\n",
       " '06_devices_and_online_merchants.ipynb',\n",
       " '07v1_legit_transactions_generation.ipynb',\n",
       " '07v2_legit_transactions_generation.ipynb',\n",
       " '08_purchase_fraud_generation.ipynb',\n",
       " '09_drop_txns_generation.ipynb',\n",
       " 'Untitled.ipynb']"
      ]
     },
     "execution_count": 2,
     "metadata": {},
     "output_type": "execute_result"
    }
   ],
   "source": [
    "os.listdir(r\"C:\\Users\\iaros\\My_documents\\Education\\projects\\fraud_detection_01\\notebooks\")"
   ]
  },
  {
   "cell_type": "code",
   "execution_count": null,
   "id": "9a56f3ad-b21d-4faf-8a12-792f1d8a20e9",
   "metadata": {},
   "outputs": [],
   "source": [
    "\t# 1. 01_data_cleaning\n",
    "\t# 2. 02_geo_data_generation\n",
    "\t# 3. 03_ip_addresses_generation\n",
    "\t# 4. 06_devices_and_online_merchants\n",
    "\t# 5. 05_time_patterns_generation\n",
    "\t# 6. other_additional_data\n",
    "\t# 7. 07v2_legit_transactions_generation\n",
    "\t# 8. 08_purchase_fraud_generation\n",
    "\t# 9. 09_drop_txns_generation\n",
    "\t# 10. data_to_sql_db"
   ]
  }
 ],
 "metadata": {
  "kernelspec": {
   "display_name": "Python 3 (ipykernel)",
   "language": "python",
   "name": "python3"
  },
  "language_info": {
   "codemirror_mode": {
    "name": "ipython",
    "version": 3
   },
   "file_extension": ".py",
   "mimetype": "text/x-python",
   "name": "python",
   "nbconvert_exporter": "python",
   "pygments_lexer": "ipython3",
   "version": "3.13.3"
  }
 },
 "nbformat": 4,
 "nbformat_minor": 5
}
