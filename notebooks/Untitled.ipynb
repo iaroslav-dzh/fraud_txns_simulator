{
 "cells": [
  {
   "cell_type": "code",
   "execution_count": 1,
   "id": "ffea4ed8-1dd0-4d02-bda8-3d85536ee43d",
   "metadata": {},
   "outputs": [],
   "source": [
    "import os"
   ]
  },
  {
   "cell_type": "code",
   "execution_count": 2,
   "id": "34aab34b-1156-4dff-8242-dfa9ab4d5d2d",
   "metadata": {},
   "outputs": [
    {
     "data": {
      "text/plain": [
       "['.ipynb_checkpoints',\n",
       " '01_data_cleaning.ipynb',\n",
       " '02_cleaned_data_to_sql_db.ipynb',\n",
       " '03_geo_data_generation.ipynb',\n",
       " '03_whole_notebook_data_generation_v2.ipynb',\n",
       " '04_ip_addresses_generation.ipynb',\n",
       " '05COMMON_time_time_patterns_generation_30-06-2025.ipynb',\n",
       " '05DUPLICATE.ipynb',\n",
       " '05WHOLE_NB_time_patterns_generation_18-06-25.ipynb',\n",
       " '05_time_patterns_generation.ipynb',\n",
       " '06_devices_and_online_merchants.ipynb',\n",
       " '07v1_legit_transactions_generation.ipynb',\n",
       " '07v2_legit_transactions_generation.ipynb',\n",
       " '08_purchase_fraud_generation.ipynb',\n",
       " '09_drop_txns_generation.ipynb',\n",
       " 'Untitled.ipynb']"
      ]
     },
     "execution_count": 2,
     "metadata": {},
     "output_type": "execute_result"
    }
   ],
   "source": [
    "os.listdir(r\"C:\\Users\\iaros\\My_documents\\Education\\projects\\fraud_detection_01\\notebooks\")"
   ]
  },
  {
   "cell_type": "code",
   "execution_count": null,
   "id": "9a56f3ad-b21d-4faf-8a12-792f1d8a20e9",
   "metadata": {},
   "outputs": [],
   "source": [
    "\t# 1. 01_data_cleaning\n",
    "\t# 2. 02_geo_data_generation\n",
    "\t# 3. 03_ip_addresses_generation\n",
    "\t# 4. 06_devices_and_online_merchants\n",
    "\t# 5. 05_time_patterns_generation\n",
    "\t# 6. other_additional_data\n",
    "\t# 7. 07v2_legit_transactions_generation\n",
    "\t# 8. 08_purchase_fraud_generation\n",
    "\t# 9. 09_drop_txns_generation\n",
    "\t# 10. data_to_sql_db"
   ]
  }
 ],
 "metadata": {
  "kernelspec": {
   "display_name": "Python 3 (ipykernel)",
   "language": "python",
   "name": "python3"
  },
  "language_info": {
   "codemirror_mode": {
    "name": "ipython",
    "version": 3
   },
   "file_extension": ".py",
   "mimetype": "text/x-python",
   "name": "python",
   "nbconvert_exporter": "python",
   "pygments_lexer": "ipython3",
   "version": "3.13.3"
  }
 },
 "nbformat": 4,
 "nbformat_minor": 5
}
