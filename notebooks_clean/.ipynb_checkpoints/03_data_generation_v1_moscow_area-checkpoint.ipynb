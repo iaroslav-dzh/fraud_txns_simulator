{
 "cells": [
  {
   "cell_type": "code",
   "execution_count": 107,
   "id": "c30e67d7-4a3c-4d29-9477-ab02b02e86fc",
   "metadata": {},
   "outputs": [],
   "source": [
    "import pandas as pd\n",
    "import numpy as np\n",
    "import os\n",
    "import re"
   ]
  },
  {
   "cell_type": "code",
   "execution_count": 242,
   "id": "6c6c9867-8d32-4b4d-9923-2b2f5711bfc8",
   "metadata": {},
   "outputs": [],
   "source": [
    "pd.options.display.float_format = '{:.0f}'.format"
   ]
  },
  {
   "cell_type": "code",
   "execution_count": 4,
   "id": "122df125-874a-4cc5-a123-74aca56e5baf",
   "metadata": {},
   "outputs": [
    {
     "data": {
      "text/plain": [
       "'C:\\\\Users\\\\iaros\\\\My_documents\\\\Education\\\\projects\\\\fraud_detection_01'"
      ]
     },
     "execution_count": 4,
     "metadata": {},
     "output_type": "execute_result"
    }
   ],
   "source": [
    "os.getcwd()"
   ]
  },
  {
   "cell_type": "code",
   "execution_count": 3,
   "id": "71fc90ba-44d1-4bc6-b2a3-edda53a9123b",
   "metadata": {},
   "outputs": [],
   "source": [
    "os.chdir(\"..\")"
   ]
  },
  {
   "cell_type": "code",
   "execution_count": 5,
   "id": "bbfceaca-a495-446e-8f7c-b7f3aac20cab",
   "metadata": {},
   "outputs": [],
   "source": [
    "accounts = pd.read_csv(\"./data/cleaned_data/account_df_clean.csv\")\n",
    "clients = pd.read_csv(\"./data/cleaned_data/client_df_clean.csv\")\n",
    "disp = pd.read_csv(\"./data/cleaned_data/disposition_df_clean.csv\")\n",
    "card = pd.read_csv(\"./data/cleaned_data/card_df_clean.csv\")\n",
    "district = pd.read_csv(\"./data/cleaned_data/district_df_clean.csv\")\n",
    "loan = pd.read_csv(\"./data/cleaned_data/loan_df_clean.csv\")"
   ]
  },
  {
   "cell_type": "code",
   "execution_count": 11,
   "id": "6f8a0fbf-bb4d-4ed4-9675-61c856d8c636",
   "metadata": {},
   "outputs": [],
   "source": [
    "trans = pd.read_csv(\"./data/cleaned_data/transaction_df_clean.csv\", dtype={8:\"str\"})"
   ]
  },
  {
   "cell_type": "code",
   "execution_count": 22,
   "id": "663c4a4c-6f47-4266-b05c-05d13caafc2e",
   "metadata": {},
   "outputs": [
    {
     "data": {
      "text/html": [
       "<div>\n",
       "<style scoped>\n",
       "    .dataframe tbody tr th:only-of-type {\n",
       "        vertical-align: middle;\n",
       "    }\n",
       "\n",
       "    .dataframe tbody tr th {\n",
       "        vertical-align: top;\n",
       "    }\n",
       "\n",
       "    .dataframe thead th {\n",
       "        text-align: right;\n",
       "    }\n",
       "</style>\n",
       "<table border=\"1\" class=\"dataframe\">\n",
       "  <thead>\n",
       "    <tr style=\"text-align: right;\">\n",
       "      <th></th>\n",
       "      <th>district_code</th>\n",
       "      <th>district_name</th>\n",
       "      <th>region</th>\n",
       "      <th>population</th>\n",
       "      <th>no_of_mun_below_500</th>\n",
       "      <th>no_of_mun_between_500_1999</th>\n",
       "      <th>no_of_mun_between_2000_9999</th>\n",
       "      <th>no_of_mun_above_10000</th>\n",
       "      <th>no_of_cities</th>\n",
       "      <th>ratio_of_urban_population</th>\n",
       "      <th>avg_salary</th>\n",
       "      <th>unemployment_rate_95</th>\n",
       "      <th>unemployment_rate_96</th>\n",
       "      <th>enterpreneurs_per_1000</th>\n",
       "      <th>crimes_num_95</th>\n",
       "      <th>crimes_num_96</th>\n",
       "    </tr>\n",
       "  </thead>\n",
       "  <tbody>\n",
       "    <tr>\n",
       "      <th>0</th>\n",
       "      <td>1</td>\n",
       "      <td>Hl.m. Praha</td>\n",
       "      <td>Prague</td>\n",
       "      <td>1204953</td>\n",
       "      <td>0</td>\n",
       "      <td>0</td>\n",
       "      <td>0</td>\n",
       "      <td>1</td>\n",
       "      <td>1</td>\n",
       "      <td>100.0</td>\n",
       "      <td>12541</td>\n",
       "      <td>0.29</td>\n",
       "      <td>0.43</td>\n",
       "      <td>167</td>\n",
       "      <td>85677.0</td>\n",
       "      <td>99107</td>\n",
       "    </tr>\n",
       "  </tbody>\n",
       "</table>\n",
       "</div>"
      ],
      "text/plain": [
       "   district_code district_name  region  population  no_of_mun_below_500  \\\n",
       "0              1   Hl.m. Praha  Prague     1204953                    0   \n",
       "\n",
       "   no_of_mun_between_500_1999  no_of_mun_between_2000_9999  \\\n",
       "0                           0                            0   \n",
       "\n",
       "   no_of_mun_above_10000  no_of_cities  ratio_of_urban_population  avg_salary  \\\n",
       "0                      1             1                      100.0       12541   \n",
       "\n",
       "   unemployment_rate_95  unemployment_rate_96  enterpreneurs_per_1000  \\\n",
       "0                  0.29                  0.43                     167   \n",
       "\n",
       "   crimes_num_95  crimes_num_96  \n",
       "0        85677.0          99107  "
      ]
     },
     "execution_count": 22,
     "metadata": {},
     "output_type": "execute_result"
    }
   ],
   "source": [
    "district.head(1)"
   ]
  },
  {
   "cell_type": "code",
   "execution_count": 236,
   "id": "78f9610f-a80b-4518-b26d-8a6e7db77522",
   "metadata": {},
   "outputs": [
    {
     "data": {
      "text/html": [
       "<div>\n",
       "<style scoped>\n",
       "    .dataframe tbody tr th:only-of-type {\n",
       "        vertical-align: middle;\n",
       "    }\n",
       "\n",
       "    .dataframe tbody tr th {\n",
       "        vertical-align: top;\n",
       "    }\n",
       "\n",
       "    .dataframe thead th {\n",
       "        text-align: right;\n",
       "    }\n",
       "</style>\n",
       "<table border=\"1\" class=\"dataframe\">\n",
       "  <thead>\n",
       "    <tr style=\"text-align: right;\">\n",
       "      <th></th>\n",
       "      <th>district_code</th>\n",
       "      <th>district_name</th>\n",
       "      <th>region</th>\n",
       "      <th>population</th>\n",
       "    </tr>\n",
       "  </thead>\n",
       "  <tbody>\n",
       "    <tr>\n",
       "      <th>0</th>\n",
       "      <td>1</td>\n",
       "      <td>Hl.m. Praha</td>\n",
       "      <td>Prague</td>\n",
       "      <td>1204953</td>\n",
       "    </tr>\n",
       "    <tr>\n",
       "      <th>1</th>\n",
       "      <td>54</td>\n",
       "      <td>Brno - mesto</td>\n",
       "      <td>south Moravia</td>\n",
       "      <td>387570</td>\n",
       "    </tr>\n",
       "    <tr>\n",
       "      <th>2</th>\n",
       "      <td>74</td>\n",
       "      <td>Ostrava - mesto</td>\n",
       "      <td>north Moravia</td>\n",
       "      <td>323870</td>\n",
       "    </tr>\n",
       "    <tr>\n",
       "      <th>3</th>\n",
       "      <td>70</td>\n",
       "      <td>Karvina</td>\n",
       "      <td>north Moravia</td>\n",
       "      <td>285387</td>\n",
       "    </tr>\n",
       "    <tr>\n",
       "      <th>4</th>\n",
       "      <td>68</td>\n",
       "      <td>Frydek - Mistek</td>\n",
       "      <td>north Moravia</td>\n",
       "      <td>228848</td>\n",
       "    </tr>\n",
       "  </tbody>\n",
       "</table>\n",
       "</div>"
      ],
      "text/plain": [
       "   district_code    district_name         region  population\n",
       "0              1      Hl.m. Praha         Prague     1204953\n",
       "1             54     Brno - mesto  south Moravia      387570\n",
       "2             74  Ostrava - mesto  north Moravia      323870\n",
       "3             70          Karvina  north Moravia      285387\n",
       "4             68  Frydek - Mistek  north Moravia      228848"
      ]
     },
     "execution_count": 236,
     "metadata": {},
     "output_type": "execute_result"
    }
   ],
   "source": [
    "district_short = district[[\"district_code\",\"district_name\", \"region\", \"population\"]].sort_values(\"population\", ascending=False).reset_index(drop=True)\n",
    "district_short.head()"
   ]
  },
  {
   "cell_type": "code",
   "execution_count": 250,
   "id": "50d69ce6-c8e9-48cc-aafe-bcbc040d5368",
   "metadata": {},
   "outputs": [],
   "source": [
    "moscow_area_districts_wiki = \"https://ru.wikipedia.org/wiki/%D0%90%D0%B4%D0%BC%D0%B8%D0%BD%D0%B8%D1%81%D1%82%D1%80%D0%B0%D1%82%D0%B8%D0%B2%D0%BD%D0%BE-%D1%82%D0%B5%D1%80%D1%80%D0%B8%D1%82%D0%BE%D1%80%D0%B8%D0%B0%D0%BB%D1%8C%D0%BD%D0%BE%D0%B5_%D0%B4%D0%B5%D0%BB%D0%B5%D0%BD%D0%B8%D0%B5_%D0%9C%D0%BE%D1%81%D0%BA%D0%BE%D0%B2%D1%81%D0%BA%D0%BE%D0%B9_%D0%BE%D0%B1%D0%BB%D0%B0%D1%81%D1%82%D0%B8\"\n"
   ]
  },
  {
   "cell_type": "code",
   "execution_count": 251,
   "id": "0f8e02b3-c59d-4ae9-86f2-277737305d8c",
   "metadata": {},
   "outputs": [],
   "source": [
    "moscow_area_districts = pd.read_html(moscow_area_districts_wiki, header=0)"
   ]
  },
  {
   "cell_type": "code",
   "execution_count": 252,
   "id": "4faaea34-0f81-426d-b5f9-5935a48c750d",
   "metadata": {},
   "outputs": [
    {
     "data": {
      "text/html": [
       "<div>\n",
       "<style scoped>\n",
       "    .dataframe tbody tr th:only-of-type {\n",
       "        vertical-align: middle;\n",
       "    }\n",
       "\n",
       "    .dataframe tbody tr th {\n",
       "        vertical-align: top;\n",
       "    }\n",
       "\n",
       "    .dataframe thead th {\n",
       "        text-align: right;\n",
       "    }\n",
       "</style>\n",
       "<table border=\"1\" class=\"dataframe\">\n",
       "  <thead>\n",
       "    <tr style=\"text-align: right;\">\n",
       "      <th></th>\n",
       "      <th>№</th>\n",
       "      <th>Код ОКАТО</th>\n",
       "      <th>Название АТЕ</th>\n",
       "      <th>Код ОКТМО</th>\n",
       "      <th>Название МО</th>\n",
       "      <th>Флаг</th>\n",
       "      <th>Герб</th>\n",
       "      <th>Закон</th>\n",
       "      <th>Геогра- фия</th>\n",
       "      <th>Население (чел.)</th>\n",
       "      <th>Площадь (км²)</th>\n",
       "      <th>Плотность населения (чел./км²)</th>\n",
       "      <th>Адм. центр</th>\n",
       "    </tr>\n",
       "  </thead>\n",
       "  <tbody>\n",
       "    <tr>\n",
       "      <th>1</th>\n",
       "      <td>1</td>\n",
       "      <td>46 404</td>\n",
       "      <td>Балашиха</td>\n",
       "      <td>46 704</td>\n",
       "      <td>Балашиха</td>\n",
       "      <td>NaN</td>\n",
       "      <td>NaN</td>\n",
       "      <td>208/2014-ОЗ от 30.12.14</td>\n",
       "      <td>восток</td>\n",
       "      <td>↗554 248[6]</td>\n",
       "      <td>24398</td>\n",
       "      <td>2271.69</td>\n",
       "      <td>г. Балашиха</td>\n",
       "    </tr>\n",
       "    <tr>\n",
       "      <th>2</th>\n",
       "      <td>2</td>\n",
       "      <td>46 407</td>\n",
       "      <td>Видное</td>\n",
       "      <td>46 707</td>\n",
       "      <td>Ленинский</td>\n",
       "      <td>NaN</td>\n",
       "      <td>NaN</td>\n",
       "      <td>172/2019-ОЗ от 19.07.19</td>\n",
       "      <td>юг</td>\n",
       "      <td>↗327 211[6]</td>\n",
       "      <td>20282</td>\n",
       "      <td>1613.31</td>\n",
       "      <td>г. Видное</td>\n",
       "    </tr>\n",
       "    <tr>\n",
       "      <th>3</th>\n",
       "      <td>3</td>\n",
       "      <td>46 408</td>\n",
       "      <td>Волоколамск</td>\n",
       "      <td>46 708</td>\n",
       "      <td>Волоколамский МО</td>\n",
       "      <td>NaN</td>\n",
       "      <td>NaN</td>\n",
       "      <td>139/2019-ОЗ от 09.07.19</td>\n",
       "      <td>запад</td>\n",
       "      <td>↘40 245[7]</td>\n",
       "      <td>168351</td>\n",
       "      <td>23.91</td>\n",
       "      <td>г. Волоколамск</td>\n",
       "    </tr>\n",
       "    <tr>\n",
       "      <th>4</th>\n",
       "      <td>4</td>\n",
       "      <td>46 410</td>\n",
       "      <td>Воскресенск</td>\n",
       "      <td>46 710</td>\n",
       "      <td>Воскресенск</td>\n",
       "      <td>NaN</td>\n",
       "      <td>NaN</td>\n",
       "      <td>105/2019-ОЗ от 13.06.19</td>\n",
       "      <td>юго-восток</td>\n",
       "      <td>↗160 755[6]</td>\n",
       "      <td>81248</td>\n",
       "      <td>197.86</td>\n",
       "      <td>г. Воскресенск</td>\n",
       "    </tr>\n",
       "    <tr>\n",
       "      <th>5</th>\n",
       "      <td>5</td>\n",
       "      <td>46 415</td>\n",
       "      <td>Дмитров</td>\n",
       "      <td>46 715</td>\n",
       "      <td>Дмитровский МО</td>\n",
       "      <td>NaN</td>\n",
       "      <td>NaN</td>\n",
       "      <td>85/2018-ОЗ от 20.06.18</td>\n",
       "      <td>север</td>\n",
       "      <td>↗165 081[8]</td>\n",
       "      <td>218199</td>\n",
       "      <td>75.66</td>\n",
       "      <td>г. Дмитров</td>\n",
       "    </tr>\n",
       "  </tbody>\n",
       "</table>\n",
       "</div>"
      ],
      "text/plain": [
       "   № Код ОКАТО Название АТЕ Код ОКТМО       Название МО Флаг Герб  \\\n",
       "1  1    46 404     Балашиха    46 704          Балашиха  NaN  NaN   \n",
       "2  2    46 407       Видное    46 707         Ленинский  NaN  NaN   \n",
       "3  3    46 408  Волоколамск    46 708  Волоколамский МО  NaN  NaN   \n",
       "4  4    46 410  Воскресенск    46 710       Воскресенск  NaN  NaN   \n",
       "5  5    46 415      Дмитров    46 715    Дмитровский МО  NaN  NaN   \n",
       "\n",
       "                     Закон Геогра- фия Население (чел.) Площадь (км²)  \\\n",
       "1  208/2014-ОЗ от 30.12.14      восток      ↗554 248[6]         24398   \n",
       "2  172/2019-ОЗ от 19.07.19          юг      ↗327 211[6]         20282   \n",
       "3  139/2019-ОЗ от 09.07.19       запад       ↘40 245[7]        168351   \n",
       "4  105/2019-ОЗ от 13.06.19  юго-восток      ↗160 755[6]         81248   \n",
       "5   85/2018-ОЗ от 20.06.18       север      ↗165 081[8]        218199   \n",
       "\n",
       "  Плотность населения (чел./км²)      Адм. центр  \n",
       "1                        2271.69     г. Балашиха  \n",
       "2                        1613.31       г. Видное  \n",
       "3                          23.91  г. Волоколамск  \n",
       "4                         197.86  г. Воскресенск  \n",
       "5                          75.66      г. Дмитров  "
      ]
     },
     "execution_count": 252,
     "metadata": {},
     "output_type": "execute_result"
    }
   ],
   "source": [
    "moscow_area_districts = moscow_area_districts[2].drop(index=0)\n",
    "moscow_area_districts.head()"
   ]
  },
  {
   "cell_type": "code",
   "execution_count": 253,
   "id": "d4cb4cb9-fef3-4b4a-984c-7581f0361b9b",
   "metadata": {},
   "outputs": [],
   "source": [
    "moscow_area_districts = moscow_area_districts.rename(columns={\"Название АТЕ\":\"dist_name\", \"Население (чел.)\":\"population\"})"
   ]
  },
  {
   "cell_type": "code",
   "execution_count": 254,
   "id": "813acce0-e57d-400e-92af-d66e3f497d27",
   "metadata": {},
   "outputs": [],
   "source": [
    "# список колонок которые надо оставить\n",
    "\n",
    "moscow_cols_to_keep = [\"dist_name\", \"population\"]\n",
    "moscow_cols_to_drop = [col for col in moscow_area_districts.columns if col not in moscow_cols_to_keep]"
   ]
  },
  {
   "cell_type": "code",
   "execution_count": 255,
   "id": "988c2738-090a-40b6-a211-3a2b6e0c3ad6",
   "metadata": {},
   "outputs": [
    {
     "data": {
      "text/html": [
       "<div>\n",
       "<style scoped>\n",
       "    .dataframe tbody tr th:only-of-type {\n",
       "        vertical-align: middle;\n",
       "    }\n",
       "\n",
       "    .dataframe tbody tr th {\n",
       "        vertical-align: top;\n",
       "    }\n",
       "\n",
       "    .dataframe thead th {\n",
       "        text-align: right;\n",
       "    }\n",
       "</style>\n",
       "<table border=\"1\" class=\"dataframe\">\n",
       "  <thead>\n",
       "    <tr style=\"text-align: right;\">\n",
       "      <th></th>\n",
       "      <th>dist_name</th>\n",
       "      <th>population</th>\n",
       "    </tr>\n",
       "  </thead>\n",
       "  <tbody>\n",
       "    <tr>\n",
       "      <th>1</th>\n",
       "      <td>Балашиха</td>\n",
       "      <td>↗554 248[6]</td>\n",
       "    </tr>\n",
       "    <tr>\n",
       "      <th>2</th>\n",
       "      <td>Видное</td>\n",
       "      <td>↗327 211[6]</td>\n",
       "    </tr>\n",
       "    <tr>\n",
       "      <th>3</th>\n",
       "      <td>Волоколамск</td>\n",
       "      <td>↘40 245[7]</td>\n",
       "    </tr>\n",
       "    <tr>\n",
       "      <th>4</th>\n",
       "      <td>Воскресенск</td>\n",
       "      <td>↗160 755[6]</td>\n",
       "    </tr>\n",
       "    <tr>\n",
       "      <th>5</th>\n",
       "      <td>Дмитров</td>\n",
       "      <td>↗165 081[8]</td>\n",
       "    </tr>\n",
       "  </tbody>\n",
       "</table>\n",
       "</div>"
      ],
      "text/plain": [
       "     dist_name   population\n",
       "1     Балашиха  ↗554 248[6]\n",
       "2       Видное  ↗327 211[6]\n",
       "3  Волоколамск   ↘40 245[7]\n",
       "4  Воскресенск  ↗160 755[6]\n",
       "5      Дмитров  ↗165 081[8]"
      ]
     },
     "execution_count": 255,
     "metadata": {},
     "output_type": "execute_result"
    }
   ],
   "source": [
    "moscow_area_dist = moscow_area_districts.drop(columns=moscow_cols_to_drop).copy()\n",
    "moscow_area_dist.head()"
   ]
  },
  {
   "cell_type": "code",
   "execution_count": 256,
   "id": "120091e8-2637-4491-95f0-f79c1b8d52e8",
   "metadata": {},
   "outputs": [
    {
     "data": {
      "text/plain": [
       "40    60\n",
       "50    56\n",
       "54    52\n",
       "Name: dist_name, dtype: int64"
      ]
     },
     "execution_count": 256,
     "metadata": {},
     "output_type": "execute_result"
    }
   ],
   "source": [
    "# индексы записей которые нужно удалить - там описательные части таблицы\n",
    "\n",
    "indices_to_drop = moscow_area_dist.dist_name.str.len().sort_values(ascending=False).iloc[:3]\n",
    "indices_to_drop"
   ]
  },
  {
   "cell_type": "code",
   "execution_count": 257,
   "id": "5ddb8f53-bbb0-4c30-a5dd-22f11055fe4e",
   "metadata": {},
   "outputs": [
    {
     "data": {
      "text/html": [
       "<div>\n",
       "<style scoped>\n",
       "    .dataframe tbody tr th:only-of-type {\n",
       "        vertical-align: middle;\n",
       "    }\n",
       "\n",
       "    .dataframe tbody tr th {\n",
       "        vertical-align: top;\n",
       "    }\n",
       "\n",
       "    .dataframe thead th {\n",
       "        text-align: right;\n",
       "    }\n",
       "</style>\n",
       "<table border=\"1\" class=\"dataframe\">\n",
       "  <thead>\n",
       "    <tr style=\"text-align: right;\">\n",
       "      <th></th>\n",
       "      <th>dist_name</th>\n",
       "      <th>population</th>\n",
       "    </tr>\n",
       "  </thead>\n",
       "  <tbody>\n",
       "    <tr>\n",
       "      <th>40</th>\n",
       "      <td>Города областного подчинения без административ...</td>\n",
       "      <td>Города областного подчинения без административ...</td>\n",
       "    </tr>\n",
       "    <tr>\n",
       "      <th>50</th>\n",
       "      <td>Пгт областного подчинения с административной т...</td>\n",
       "      <td>Пгт областного подчинения с административной т...</td>\n",
       "    </tr>\n",
       "    <tr>\n",
       "      <th>54</th>\n",
       "      <td>Закрытые административно-территориальные образ...</td>\n",
       "      <td>Закрытые административно-территориальные образ...</td>\n",
       "    </tr>\n",
       "  </tbody>\n",
       "</table>\n",
       "</div>"
      ],
      "text/plain": [
       "                                            dist_name  \\\n",
       "40  Города областного подчинения без административ...   \n",
       "50  Пгт областного подчинения с административной т...   \n",
       "54  Закрытые административно-территориальные образ...   \n",
       "\n",
       "                                           population  \n",
       "40  Города областного подчинения без административ...  \n",
       "50  Пгт областного подчинения с административной т...  \n",
       "54  Закрытые административно-территориальные образ...  "
      ]
     },
     "execution_count": 257,
     "metadata": {},
     "output_type": "execute_result"
    }
   ],
   "source": [
    "# что находится по этим индексам в таблице\n",
    "\n",
    "moscow_area_dist.loc[indices_to_drop.index]"
   ]
  },
  {
   "cell_type": "code",
   "execution_count": 258,
   "id": "cdfb3b13-4416-4bb4-acfc-4a3554bee2ad",
   "metadata": {},
   "outputs": [],
   "source": [
    "# удаляем строки с указанными индексами и сбрасываем индекс\n",
    "\n",
    "moscow_area_dist = moscow_area_dist.drop(index=indices_to_drop.index).reset_index(drop=True)"
   ]
  },
  {
   "cell_type": "code",
   "execution_count": 259,
   "id": "97910ffe-1818-4485-8c4a-a10c59b6ffb3",
   "metadata": {},
   "outputs": [
    {
     "data": {
      "text/plain": [
       "(56, 2)"
      ]
     },
     "execution_count": 259,
     "metadata": {},
     "output_type": "execute_result"
    }
   ],
   "source": [
    "moscow_area_dist.shape"
   ]
  },
  {
   "cell_type": "code",
   "execution_count": 260,
   "id": "8f78ba72-9c16-4081-8e8c-dbbbfffbd5aa",
   "metadata": {},
   "outputs": [
    {
     "data": {
      "text/html": [
       "<div>\n",
       "<style scoped>\n",
       "    .dataframe tbody tr th:only-of-type {\n",
       "        vertical-align: middle;\n",
       "    }\n",
       "\n",
       "    .dataframe tbody tr th {\n",
       "        vertical-align: top;\n",
       "    }\n",
       "\n",
       "    .dataframe thead th {\n",
       "        text-align: right;\n",
       "    }\n",
       "</style>\n",
       "<table border=\"1\" class=\"dataframe\">\n",
       "  <thead>\n",
       "    <tr style=\"text-align: right;\">\n",
       "      <th></th>\n",
       "      <th>dist_name</th>\n",
       "      <th>population</th>\n",
       "    </tr>\n",
       "  </thead>\n",
       "  <tbody>\n",
       "    <tr>\n",
       "      <th>0</th>\n",
       "      <td>Балашиха</td>\n",
       "      <td>↗554 248[6]</td>\n",
       "    </tr>\n",
       "    <tr>\n",
       "      <th>1</th>\n",
       "      <td>Видное</td>\n",
       "      <td>↗327 211[6]</td>\n",
       "    </tr>\n",
       "    <tr>\n",
       "      <th>2</th>\n",
       "      <td>Волоколамск</td>\n",
       "      <td>↘40 245[7]</td>\n",
       "    </tr>\n",
       "    <tr>\n",
       "      <th>3</th>\n",
       "      <td>Воскресенск</td>\n",
       "      <td>↗160 755[6]</td>\n",
       "    </tr>\n",
       "    <tr>\n",
       "      <th>4</th>\n",
       "      <td>Дмитров</td>\n",
       "      <td>↗165 081[8]</td>\n",
       "    </tr>\n",
       "  </tbody>\n",
       "</table>\n",
       "</div>"
      ],
      "text/plain": [
       "     dist_name   population\n",
       "0     Балашиха  ↗554 248[6]\n",
       "1       Видное  ↗327 211[6]\n",
       "2  Волоколамск   ↘40 245[7]\n",
       "3  Воскресенск  ↗160 755[6]\n",
       "4      Дмитров  ↗165 081[8]"
      ]
     },
     "execution_count": 260,
     "metadata": {},
     "output_type": "execute_result"
    }
   ],
   "source": [
    "moscow_area_dist.head()"
   ]
  },
  {
   "cell_type": "code",
   "execution_count": 261,
   "id": "4a8edc30-0431-4bcf-8745-e091266c1eb4",
   "metadata": {},
   "outputs": [
    {
     "data": {
      "text/plain": [
       "'↗554\\xa0248[6]'"
      ]
     },
     "execution_count": 261,
     "metadata": {},
     "output_type": "execute_result"
    }
   ],
   "source": [
    "moscow_area_dist.population[0]"
   ]
  },
  {
   "cell_type": "code",
   "execution_count": 262,
   "id": "de213ee5-b959-4bb4-ab9c-32f137487260",
   "metadata": {},
   "outputs": [],
   "source": [
    "# чистим значения в population: нужно привести к числам.\n",
    "# по regex извлечь часть с числом и убрать пробел \"\\xa0\" - non-breaking space - из строки с числом\n",
    "\n",
    "clean_population = moscow_area_dist[\"population\"].str.findall(r\"\\d{1,3}(?:\\s)\\d{3}|\\d{4}\").str[0].str.replace(\"\\xa0\", \"\").astype(\"int\")\n",
    "clean_population.name = \"pop_clean\""
   ]
  },
  {
   "cell_type": "code",
   "execution_count": 263,
   "id": "6abd96b2-78a8-4158-a6bb-69cb09ccf143",
   "metadata": {},
   "outputs": [
    {
     "data": {
      "text/plain": [
       "0    554248\n",
       "1    327211\n",
       "2     40245\n",
       "3    160755\n",
       "4    165081\n",
       "Name: pop_clean, dtype: int64"
      ]
     },
     "execution_count": 263,
     "metadata": {},
     "output_type": "execute_result"
    }
   ],
   "source": [
    "clean_population.head()"
   ]
  },
  {
   "cell_type": "code",
   "execution_count": 264,
   "id": "18057225-70b4-4443-831c-43a3b55d508e",
   "metadata": {},
   "outputs": [],
   "source": [
    "moscow_area_dist[\"pop_clean\"] = clean_population"
   ]
  },
  {
   "cell_type": "code",
   "execution_count": 265,
   "id": "888666cc-e7ad-4787-9bab-cc6d491c0cc9",
   "metadata": {
    "scrolled": true
   },
   "outputs": [
    {
     "data": {
      "text/html": [
       "<div>\n",
       "<style scoped>\n",
       "    .dataframe tbody tr th:only-of-type {\n",
       "        vertical-align: middle;\n",
       "    }\n",
       "\n",
       "    .dataframe tbody tr th {\n",
       "        vertical-align: top;\n",
       "    }\n",
       "\n",
       "    .dataframe thead th {\n",
       "        text-align: right;\n",
       "    }\n",
       "</style>\n",
       "<table border=\"1\" class=\"dataframe\">\n",
       "  <thead>\n",
       "    <tr style=\"text-align: right;\">\n",
       "      <th></th>\n",
       "      <th>dist_name</th>\n",
       "      <th>population</th>\n",
       "      <th>pop_clean</th>\n",
       "    </tr>\n",
       "  </thead>\n",
       "  <tbody>\n",
       "    <tr>\n",
       "      <th>0</th>\n",
       "      <td>Балашиха</td>\n",
       "      <td>↗554 248[6]</td>\n",
       "      <td>554248</td>\n",
       "    </tr>\n",
       "    <tr>\n",
       "      <th>1</th>\n",
       "      <td>Видное</td>\n",
       "      <td>↗327 211[6]</td>\n",
       "      <td>327211</td>\n",
       "    </tr>\n",
       "    <tr>\n",
       "      <th>2</th>\n",
       "      <td>Волоколамск</td>\n",
       "      <td>↘40 245[7]</td>\n",
       "      <td>40245</td>\n",
       "    </tr>\n",
       "    <tr>\n",
       "      <th>3</th>\n",
       "      <td>Воскресенск</td>\n",
       "      <td>↗160 755[6]</td>\n",
       "      <td>160755</td>\n",
       "    </tr>\n",
       "    <tr>\n",
       "      <th>4</th>\n",
       "      <td>Дмитров</td>\n",
       "      <td>↗165 081[8]</td>\n",
       "      <td>165081</td>\n",
       "    </tr>\n",
       "  </tbody>\n",
       "</table>\n",
       "</div>"
      ],
      "text/plain": [
       "     dist_name   population  pop_clean\n",
       "0     Балашиха  ↗554 248[6]     554248\n",
       "1       Видное  ↗327 211[6]     327211\n",
       "2  Волоколамск   ↘40 245[7]      40245\n",
       "3  Воскресенск  ↗160 755[6]     160755\n",
       "4      Дмитров  ↗165 081[8]     165081"
      ]
     },
     "execution_count": 265,
     "metadata": {},
     "output_type": "execute_result"
    }
   ],
   "source": [
    "# проверим что получилось. первые 5 и последние 5 строк\n",
    "\n",
    "moscow_area_dist.head()"
   ]
  },
  {
   "cell_type": "code",
   "execution_count": 266,
   "id": "4364fe05-2319-4789-86e6-0f3c2b069de8",
   "metadata": {},
   "outputs": [
    {
     "data": {
      "text/html": [
       "<div>\n",
       "<style scoped>\n",
       "    .dataframe tbody tr th:only-of-type {\n",
       "        vertical-align: middle;\n",
       "    }\n",
       "\n",
       "    .dataframe tbody tr th {\n",
       "        vertical-align: top;\n",
       "    }\n",
       "\n",
       "    .dataframe thead th {\n",
       "        text-align: right;\n",
       "    }\n",
       "</style>\n",
       "<table border=\"1\" class=\"dataframe\">\n",
       "  <thead>\n",
       "    <tr style=\"text-align: right;\">\n",
       "      <th></th>\n",
       "      <th>dist_name</th>\n",
       "      <th>population</th>\n",
       "      <th>pop_clean</th>\n",
       "    </tr>\n",
       "  </thead>\n",
       "  <tbody>\n",
       "    <tr>\n",
       "      <th>51</th>\n",
       "      <td>Краснознаменск</td>\n",
       "      <td>↗44 657[6]</td>\n",
       "      <td>44657</td>\n",
       "    </tr>\n",
       "    <tr>\n",
       "      <th>52</th>\n",
       "      <td>Власиха</td>\n",
       "      <td>↗28 633[6]</td>\n",
       "      <td>28633</td>\n",
       "    </tr>\n",
       "    <tr>\n",
       "      <th>53</th>\n",
       "      <td>Восход</td>\n",
       "      <td>↘2056[6]</td>\n",
       "      <td>2056</td>\n",
       "    </tr>\n",
       "    <tr>\n",
       "      <th>54</th>\n",
       "      <td>Звёздный городок</td>\n",
       "      <td>↘7569[6]</td>\n",
       "      <td>7569</td>\n",
       "    </tr>\n",
       "    <tr>\n",
       "      <th>55</th>\n",
       "      <td>Молодёжный</td>\n",
       "      <td>↘2869[6]</td>\n",
       "      <td>2869</td>\n",
       "    </tr>\n",
       "  </tbody>\n",
       "</table>\n",
       "</div>"
      ],
      "text/plain": [
       "           dist_name  population  pop_clean\n",
       "51    Краснознаменск  ↗44 657[6]      44657\n",
       "52           Власиха  ↗28 633[6]      28633\n",
       "53            Восход    ↘2056[6]       2056\n",
       "54  Звёздный городок    ↘7569[6]       7569\n",
       "55        Молодёжный    ↘2869[6]       2869"
      ]
     },
     "execution_count": 266,
     "metadata": {},
     "output_type": "execute_result"
    }
   ],
   "source": [
    "moscow_area_dist.tail()"
   ]
  },
  {
   "cell_type": "code",
   "execution_count": 267,
   "id": "274d27fe-a3f4-4e1e-8b65-2e7ea4660548",
   "metadata": {},
   "outputs": [],
   "source": [
    "# удалим изначальную колонку population и переименуем колонку с чистыми цифрами\n",
    "\n",
    "moscow_area_dist.drop(columns=\"population\", inplace=True)"
   ]
  },
  {
   "cell_type": "code",
   "execution_count": 293,
   "id": "c75e921c-36ba-467a-911d-9533f9157f0e",
   "metadata": {
    "scrolled": true
   },
   "outputs": [
    {
     "data": {
      "text/html": [
       "<div>\n",
       "<style scoped>\n",
       "    .dataframe tbody tr th:only-of-type {\n",
       "        vertical-align: middle;\n",
       "    }\n",
       "\n",
       "    .dataframe tbody tr th {\n",
       "        vertical-align: top;\n",
       "    }\n",
       "\n",
       "    .dataframe thead th {\n",
       "        text-align: right;\n",
       "    }\n",
       "</style>\n",
       "<table border=\"1\" class=\"dataframe\">\n",
       "  <thead>\n",
       "    <tr style=\"text-align: right;\">\n",
       "      <th></th>\n",
       "      <th>dist_name</th>\n",
       "      <th>pop_clean</th>\n",
       "    </tr>\n",
       "  </thead>\n",
       "  <tbody>\n",
       "    <tr>\n",
       "      <th>0</th>\n",
       "      <td>Москва</td>\n",
       "      <td>13274285</td>\n",
       "    </tr>\n",
       "    <tr>\n",
       "      <th>1</th>\n",
       "      <td>Балашиха</td>\n",
       "      <td>554248</td>\n",
       "    </tr>\n",
       "    <tr>\n",
       "      <th>2</th>\n",
       "      <td>Одинцово</td>\n",
       "      <td>482184</td>\n",
       "    </tr>\n",
       "    <tr>\n",
       "      <th>3</th>\n",
       "      <td>Люберцы</td>\n",
       "      <td>364888</td>\n",
       "    </tr>\n",
       "    <tr>\n",
       "      <th>4</th>\n",
       "      <td>Подольск</td>\n",
       "      <td>350634</td>\n",
       "    </tr>\n",
       "  </tbody>\n",
       "</table>\n",
       "</div>"
      ],
      "text/plain": [
       "  dist_name  pop_clean\n",
       "0    Москва   13274285\n",
       "1  Балашиха     554248\n",
       "2  Одинцово     482184\n",
       "3   Люберцы     364888\n",
       "4  Подольск     350634"
      ]
     },
     "execution_count": 293,
     "metadata": {},
     "output_type": "execute_result"
    }
   ],
   "source": [
    "# проверим результат\n",
    "\n",
    "moscow_area_dist.head()"
   ]
  },
  {
   "cell_type": "code",
   "execution_count": 283,
   "id": "b9f15c46-7eb3-4fd7-ae6e-e309c44ecffa",
   "metadata": {},
   "outputs": [
    {
     "data": {
      "text/plain": [
       "count         57\n",
       "mean      374689\n",
       "std      1743561\n",
       "min         1521\n",
       "25%        47029\n",
       "50%       112070\n",
       "75%       220062\n",
       "max     13274285\n",
       "Name: pop_clean, dtype: float64"
      ]
     },
     "execution_count": 283,
     "metadata": {},
     "output_type": "execute_result"
    }
   ],
   "source": [
    "moscow_area_dist.pop_clean.describe()"
   ]
  },
  {
   "cell_type": "code",
   "execution_count": 287,
   "id": "3c4aec4c-6550-4c9f-9600-6406f1ebfd92",
   "metadata": {},
   "outputs": [],
   "source": [
    "# уберем районы с меньше чем 25000 населения\n",
    "\n",
    "moscow_area_dist = moscow_area_dist.query(\"pop_clean > 25000\").copy()"
   ]
  },
  {
   "cell_type": "code",
   "execution_count": 288,
   "id": "13ea42f5-8ab5-493e-b881-cdade26b6c32",
   "metadata": {
    "scrolled": true
   },
   "outputs": [
    {
     "data": {
      "text/plain": [
       "(48, 3)"
      ]
     },
     "execution_count": 288,
     "metadata": {},
     "output_type": "execute_result"
    }
   ],
   "source": [
    "moscow_area_dist.shape"
   ]
  },
  {
   "cell_type": "code",
   "execution_count": 269,
   "id": "ab61ce87-c12c-4dd6-a05e-f89f12aa3c75",
   "metadata": {},
   "outputs": [],
   "source": [
    "# moscow_area_dist.rename(columns={\"pop_clean\":\"population\"}, inplace=True)"
   ]
  },
  {
   "cell_type": "code",
   "execution_count": 270,
   "id": "1bfe0068-6bc2-42b9-a2d4-c2bb7f63f002",
   "metadata": {},
   "outputs": [
    {
     "data": {
      "text/plain": [
       "['Москва', 13274285]"
      ]
     },
     "execution_count": 270,
     "metadata": {},
     "output_type": "execute_result"
    }
   ],
   "source": [
    "# добавим Москву в датафрейм\n",
    "\n",
    "moscow_record = [\"Москва\", 13274285]\n",
    "moscow_record"
   ]
  },
  {
   "cell_type": "code",
   "execution_count": 271,
   "id": "6f03e37a-fc9c-487a-993c-b399de7e0525",
   "metadata": {},
   "outputs": [],
   "source": [
    "moscow_area_dist.loc[moscow_area_dist.shape[0]] = moscow_record"
   ]
  },
  {
   "cell_type": "code",
   "execution_count": 289,
   "id": "2444122c-3f54-4a27-ad12-3758cc2227ac",
   "metadata": {
    "scrolled": true
   },
   "outputs": [
    {
     "data": {
      "text/plain": [
       "dist_id      0\n",
       "dist_name    0\n",
       "pop_clean    0\n",
       "dtype: int64"
      ]
     },
     "execution_count": 289,
     "metadata": {},
     "output_type": "execute_result"
    }
   ],
   "source": [
    "moscow_area_dist.isna().sum()"
   ]
  },
  {
   "cell_type": "code",
   "execution_count": 273,
   "id": "e442488b-7cc9-4bc2-836a-ebbe7d23f917",
   "metadata": {},
   "outputs": [
    {
     "data": {
      "text/plain": [
       "(57, 2)"
      ]
     },
     "execution_count": 273,
     "metadata": {},
     "output_type": "execute_result"
    }
   ],
   "source": [
    "moscow_area_dist.shape"
   ]
  },
  {
   "cell_type": "code",
   "execution_count": 291,
   "id": "9b5193f3-b687-4526-b29d-3e2e6407c4c9",
   "metadata": {},
   "outputs": [],
   "source": [
    "# moscow_area_dist.drop(columns=\"dist_id\", inplace=True)"
   ]
  },
  {
   "cell_type": "code",
   "execution_count": 276,
   "id": "0c0b8b8f-043a-412e-9271-14694d6fa766",
   "metadata": {},
   "outputs": [],
   "source": [
    "# сбросить индекс потерявший порядок\n",
    "\n",
    "moscow_area_dist = moscow_area_dist.sort_values(\"pop_clean\", ascending=False) \\\n",
    "                                    .reset_index(drop=True)"
   ]
  },
  {
   "cell_type": "code",
   "execution_count": 292,
   "id": "d8f4f509-1083-4b12-a838-77929fcbaaf7",
   "metadata": {},
   "outputs": [],
   "source": [
    "# сместим dist_id на единицу, чтобы не было id равным 0\n",
    "\n",
    "# moscow_area_dist[\"dist_id\"]  = moscow_area_dist[\"dist_id\"] + 1\n",
    "# moscow_area_dist.head()"
   ]
  },
  {
   "cell_type": "code",
   "execution_count": null,
   "id": "2dc9ca77-73d8-445b-9a80-d5e7e41c0ef5",
   "metadata": {},
   "outputs": [],
   "source": [
    "district_short.shape[0]"
   ]
  },
  {
   "cell_type": "code",
   "execution_count": null,
   "id": "9cd0aa4a-f04d-4b98-92fc-11c6cca06a69",
   "metadata": {},
   "outputs": [],
   "source": [
    "czech_and_russian_districts.loc[[56]]"
   ]
  },
  {
   "cell_type": "code",
   "execution_count": null,
   "id": "73b4ec57-7f6e-49c5-8a92-eeb0d7972009",
   "metadata": {},
   "outputs": [],
   "source": [
    "czech_and_russian_districts = pd.concat([district_short, moscow_area_dist], axis=1)"
   ]
  },
  {
   "cell_type": "code",
   "execution_count": null,
   "id": "df86ce9c-cf92-4eb1-9d1f-006034ad4b6d",
   "metadata": {},
   "outputs": [],
   "source": [
    "czech_and_russian_districts[czech_and_russian_districts.isna().any(axis=1)]"
   ]
  },
  {
   "cell_type": "code",
   "execution_count": null,
   "id": "2363ff0e-50f3-47dc-8dd4-ea59eb926442",
   "metadata": {},
   "outputs": [],
   "source": [
    "district_short.population.min()"
   ]
  },
  {
   "cell_type": "code",
   "execution_count": null,
   "id": "9b118a00-9a5c-4e28-8aff-455c36411950",
   "metadata": {},
   "outputs": [],
   "source": [
    "moscow_area_dist.population.describe()"
   ]
  },
  {
   "cell_type": "code",
   "execution_count": null,
   "id": "d7368f9e-1f30-4309-866f-bfbecbcc5459",
   "metadata": {},
   "outputs": [],
   "source": [
    "accounts.merge(district_short, left_on=\"district_id\", right_on=\"district_code\")[\"district_name\"].value_counts()"
   ]
  },
  {
   "cell_type": "code",
   "execution_count": 294,
   "id": "8aba8d6b-3218-4486-9980-f82b4a83267a",
   "metadata": {},
   "outputs": [
    {
     "data": {
      "text/plain": [
       "np.int64(10309137)"
      ]
     },
     "execution_count": 294,
     "metadata": {},
     "output_type": "execute_result"
    }
   ],
   "source": [
    "district_short.population.sum()"
   ]
  },
  {
   "cell_type": "code",
   "execution_count": null,
   "id": "f183d72e-dc3c-40fe-a462-e47f3e567b8b",
   "metadata": {},
   "outputs": [],
   "source": []
  }
 ],
 "metadata": {
  "kernelspec": {
   "display_name": "Python 3.12 (Updated)",
   "language": "python",
   "name": "python312"
  },
  "language_info": {
   "codemirror_mode": {
    "name": "ipython",
    "version": 3
   },
   "file_extension": ".py",
   "mimetype": "text/x-python",
   "name": "python",
   "nbconvert_exporter": "python",
   "pygments_lexer": "ipython3",
   "version": "3.12.9"
  }
 },
 "nbformat": 4,
 "nbformat_minor": 5
}
