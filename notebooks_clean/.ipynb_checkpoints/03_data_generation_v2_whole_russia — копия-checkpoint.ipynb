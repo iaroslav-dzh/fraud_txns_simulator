{
 "cells": [
  {
   "cell_type": "code",
   "execution_count": 348,
   "id": "c30e67d7-4a3c-4d29-9477-ab02b02e86fc",
   "metadata": {},
   "outputs": [],
   "source": [
    "import pandas as pd\n",
    "import numpy as np\n",
    "import matplotlib.pyplot as plt\n",
    "import seaborn as sns\n",
    "import os\n",
    "import re\n",
    "import geopandas as gpd\n",
    "import random\n",
    "import ipaddress"
   ]
  },
  {
   "cell_type": "code",
   "execution_count": 510,
   "id": "6c6c9867-8d32-4b4d-9923-2b2f5711bfc8",
   "metadata": {},
   "outputs": [],
   "source": [
    "# pd.options.display.float_format = None\n",
    "np.set_printoptions(suppress=True)\n",
    "pd.set_option('display.max_columns', None)"
   ]
  },
  {
   "cell_type": "code",
   "execution_count": 3,
   "id": "122df125-874a-4cc5-a123-74aca56e5baf",
   "metadata": {},
   "outputs": [
    {
     "data": {
      "text/plain": [
       "'C:\\\\Users\\\\iaros\\\\My_documents\\\\Education\\\\projects\\\\fraud_detection_01\\\\notebooks'"
      ]
     },
     "execution_count": 3,
     "metadata": {},
     "output_type": "execute_result"
    }
   ],
   "source": [
    "os.getcwd()"
   ]
  },
  {
   "cell_type": "code",
   "execution_count": 4,
   "id": "71fc90ba-44d1-4bc6-b2a3-edda53a9123b",
   "metadata": {},
   "outputs": [],
   "source": [
    "os.chdir(\"..\")"
   ]
  },
  {
   "cell_type": "code",
   "execution_count": 5,
   "id": "bbfceaca-a495-446e-8f7c-b7f3aac20cab",
   "metadata": {},
   "outputs": [],
   "source": [
    "accounts = pd.read_csv(\"./data/cleaned_data/account_df_clean.csv\")\n",
    "clients = pd.read_csv(\"./data/cleaned_data/client_df_clean.csv\")\n",
    "disp = pd.read_csv(\"./data/cleaned_data/disposition_df_clean.csv\")\n",
    "card = pd.read_csv(\"./data/cleaned_data/card_df_clean.csv\")\n",
    "district = pd.read_csv(\"./data/cleaned_data/district_df_clean.csv\")\n",
    "loan = pd.read_csv(\"./data/cleaned_data/loan_df_clean.csv\")"
   ]
  },
  {
   "cell_type": "code",
   "execution_count": 6,
   "id": "6f8a0fbf-bb4d-4ed4-9675-61c856d8c636",
   "metadata": {},
   "outputs": [],
   "source": [
    "trans = pd.read_csv(\"./data/cleaned_data/transaction_df_clean.csv\", dtype={8:\"str\"})"
   ]
  },
  {
   "cell_type": "code",
   "execution_count": 7,
   "id": "663c4a4c-6f47-4266-b05c-05d13caafc2e",
   "metadata": {},
   "outputs": [
    {
     "name": "stdout",
     "output_type": "stream",
     "text": [
      "(77, 16)\n"
     ]
    },
    {
     "data": {
      "text/html": [
       "<div>\n",
       "<style scoped>\n",
       "    .dataframe tbody tr th:only-of-type {\n",
       "        vertical-align: middle;\n",
       "    }\n",
       "\n",
       "    .dataframe tbody tr th {\n",
       "        vertical-align: top;\n",
       "    }\n",
       "\n",
       "    .dataframe thead th {\n",
       "        text-align: right;\n",
       "    }\n",
       "</style>\n",
       "<table border=\"1\" class=\"dataframe\">\n",
       "  <thead>\n",
       "    <tr style=\"text-align: right;\">\n",
       "      <th></th>\n",
       "      <th>district_code</th>\n",
       "      <th>district_name</th>\n",
       "      <th>region</th>\n",
       "      <th>population</th>\n",
       "      <th>no_of_mun_below_500</th>\n",
       "      <th>no_of_mun_between_500_1999</th>\n",
       "      <th>no_of_mun_between_2000_9999</th>\n",
       "      <th>no_of_mun_above_10000</th>\n",
       "      <th>no_of_cities</th>\n",
       "      <th>ratio_of_urban_population</th>\n",
       "      <th>avg_salary</th>\n",
       "      <th>unemployment_rate_95</th>\n",
       "      <th>unemployment_rate_96</th>\n",
       "      <th>enterpreneurs_per_1000</th>\n",
       "      <th>crimes_num_95</th>\n",
       "      <th>crimes_num_96</th>\n",
       "    </tr>\n",
       "  </thead>\n",
       "  <tbody>\n",
       "    <tr>\n",
       "      <th>0</th>\n",
       "      <td>1</td>\n",
       "      <td>Hl.m. Praha</td>\n",
       "      <td>Prague</td>\n",
       "      <td>1204953</td>\n",
       "      <td>0</td>\n",
       "      <td>0</td>\n",
       "      <td>0</td>\n",
       "      <td>1</td>\n",
       "      <td>1</td>\n",
       "      <td>100.000000</td>\n",
       "      <td>12541</td>\n",
       "      <td>0.290000</td>\n",
       "      <td>0.430000</td>\n",
       "      <td>167</td>\n",
       "      <td>85677.000000</td>\n",
       "      <td>99107</td>\n",
       "    </tr>\n",
       "  </tbody>\n",
       "</table>\n",
       "</div>"
      ],
      "text/plain": [
       "   district_code district_name  region  population  no_of_mun_below_500  \\\n",
       "0              1   Hl.m. Praha  Prague     1204953                    0   \n",
       "\n",
       "   no_of_mun_between_500_1999  no_of_mun_between_2000_9999  \\\n",
       "0                           0                            0   \n",
       "\n",
       "   no_of_mun_above_10000  no_of_cities  ratio_of_urban_population  avg_salary  \\\n",
       "0                      1             1                 100.000000       12541   \n",
       "\n",
       "   unemployment_rate_95  unemployment_rate_96  enterpreneurs_per_1000  \\\n",
       "0              0.290000              0.430000                     167   \n",
       "\n",
       "   crimes_num_95  crimes_num_96  \n",
       "0   85677.000000          99107  "
      ]
     },
     "execution_count": 7,
     "metadata": {},
     "output_type": "execute_result"
    }
   ],
   "source": [
    "print(district.shape)\n",
    "district.head(1)"
   ]
  },
  {
   "cell_type": "code",
   "execution_count": 8,
   "id": "78f9610f-a80b-4518-b26d-8a6e7db77522",
   "metadata": {},
   "outputs": [
    {
     "data": {
      "text/html": [
       "<div>\n",
       "<style scoped>\n",
       "    .dataframe tbody tr th:only-of-type {\n",
       "        vertical-align: middle;\n",
       "    }\n",
       "\n",
       "    .dataframe tbody tr th {\n",
       "        vertical-align: top;\n",
       "    }\n",
       "\n",
       "    .dataframe thead th {\n",
       "        text-align: right;\n",
       "    }\n",
       "</style>\n",
       "<table border=\"1\" class=\"dataframe\">\n",
       "  <thead>\n",
       "    <tr style=\"text-align: right;\">\n",
       "      <th></th>\n",
       "      <th>district_code</th>\n",
       "      <th>district_name</th>\n",
       "      <th>region</th>\n",
       "      <th>population</th>\n",
       "    </tr>\n",
       "  </thead>\n",
       "  <tbody>\n",
       "    <tr>\n",
       "      <th>0</th>\n",
       "      <td>1</td>\n",
       "      <td>Hl.m. Praha</td>\n",
       "      <td>Prague</td>\n",
       "      <td>1204953</td>\n",
       "    </tr>\n",
       "    <tr>\n",
       "      <th>1</th>\n",
       "      <td>54</td>\n",
       "      <td>Brno - mesto</td>\n",
       "      <td>south Moravia</td>\n",
       "      <td>387570</td>\n",
       "    </tr>\n",
       "    <tr>\n",
       "      <th>2</th>\n",
       "      <td>74</td>\n",
       "      <td>Ostrava - mesto</td>\n",
       "      <td>north Moravia</td>\n",
       "      <td>323870</td>\n",
       "    </tr>\n",
       "    <tr>\n",
       "      <th>3</th>\n",
       "      <td>70</td>\n",
       "      <td>Karvina</td>\n",
       "      <td>north Moravia</td>\n",
       "      <td>285387</td>\n",
       "    </tr>\n",
       "    <tr>\n",
       "      <th>4</th>\n",
       "      <td>68</td>\n",
       "      <td>Frydek - Mistek</td>\n",
       "      <td>north Moravia</td>\n",
       "      <td>228848</td>\n",
       "    </tr>\n",
       "  </tbody>\n",
       "</table>\n",
       "</div>"
      ],
      "text/plain": [
       "   district_code    district_name         region  population\n",
       "0              1      Hl.m. Praha         Prague     1204953\n",
       "1             54     Brno - mesto  south Moravia      387570\n",
       "2             74  Ostrava - mesto  north Moravia      323870\n",
       "3             70          Karvina  north Moravia      285387\n",
       "4             68  Frydek - Mistek  north Moravia      228848"
      ]
     },
     "execution_count": 8,
     "metadata": {},
     "output_type": "execute_result"
    }
   ],
   "source": [
    "district_short = district[[\"district_code\",\"district_name\", \"region\", \"population\"]].sort_values(\"population\", ascending=False).reset_index(drop=True)\n",
    "district_short.head()"
   ]
  },
  {
   "cell_type": "code",
   "execution_count": 9,
   "id": "8816f20a-2be6-44e9-9feb-fa2d24577402",
   "metadata": {},
   "outputs": [],
   "source": [
    "# посчитаем клиентов по районам. Это нужно для дальнейшей замены чешских районов\n",
    "\n",
    "clieints_by_dist = clients.groupby(\"district_id\", as_index=False).agg({\"client_id\":\"count\"}) \\\n",
    "                        .rename(columns={\"client_id\":\"clients\"})"
   ]
  },
  {
   "cell_type": "code",
   "execution_count": 10,
   "id": "620cc02d-ff35-4683-86f7-742673c4962a",
   "metadata": {},
   "outputs": [
    {
     "name": "stdout",
     "output_type": "stream",
     "text": [
      "(77, 6)\n"
     ]
    },
    {
     "data": {
      "text/html": [
       "<div>\n",
       "<style scoped>\n",
       "    .dataframe tbody tr th:only-of-type {\n",
       "        vertical-align: middle;\n",
       "    }\n",
       "\n",
       "    .dataframe tbody tr th {\n",
       "        vertical-align: top;\n",
       "    }\n",
       "\n",
       "    .dataframe thead th {\n",
       "        text-align: right;\n",
       "    }\n",
       "</style>\n",
       "<table border=\"1\" class=\"dataframe\">\n",
       "  <thead>\n",
       "    <tr style=\"text-align: right;\">\n",
       "      <th></th>\n",
       "      <th>district_code</th>\n",
       "      <th>district_name</th>\n",
       "      <th>region</th>\n",
       "      <th>population</th>\n",
       "      <th>district_id</th>\n",
       "      <th>clients</th>\n",
       "    </tr>\n",
       "  </thead>\n",
       "  <tbody>\n",
       "    <tr>\n",
       "      <th>0</th>\n",
       "      <td>1</td>\n",
       "      <td>Hl.m. Praha</td>\n",
       "      <td>Prague</td>\n",
       "      <td>1204953</td>\n",
       "      <td>1</td>\n",
       "      <td>663</td>\n",
       "    </tr>\n",
       "    <tr>\n",
       "      <th>1</th>\n",
       "      <td>54</td>\n",
       "      <td>Brno - mesto</td>\n",
       "      <td>south Moravia</td>\n",
       "      <td>387570</td>\n",
       "      <td>54</td>\n",
       "      <td>155</td>\n",
       "    </tr>\n",
       "    <tr>\n",
       "      <th>2</th>\n",
       "      <td>74</td>\n",
       "      <td>Ostrava - mesto</td>\n",
       "      <td>north Moravia</td>\n",
       "      <td>323870</td>\n",
       "      <td>74</td>\n",
       "      <td>180</td>\n",
       "    </tr>\n",
       "    <tr>\n",
       "      <th>3</th>\n",
       "      <td>70</td>\n",
       "      <td>Karvina</td>\n",
       "      <td>north Moravia</td>\n",
       "      <td>285387</td>\n",
       "      <td>70</td>\n",
       "      <td>169</td>\n",
       "    </tr>\n",
       "    <tr>\n",
       "      <th>4</th>\n",
       "      <td>68</td>\n",
       "      <td>Frydek - Mistek</td>\n",
       "      <td>north Moravia</td>\n",
       "      <td>228848</td>\n",
       "      <td>68</td>\n",
       "      <td>86</td>\n",
       "    </tr>\n",
       "  </tbody>\n",
       "</table>\n",
       "</div>"
      ],
      "text/plain": [
       "   district_code    district_name         region  population  district_id  \\\n",
       "0              1      Hl.m. Praha         Prague     1204953            1   \n",
       "1             54     Brno - mesto  south Moravia      387570           54   \n",
       "2             74  Ostrava - mesto  north Moravia      323870           74   \n",
       "3             70          Karvina  north Moravia      285387           70   \n",
       "4             68  Frydek - Mistek  north Moravia      228848           68   \n",
       "\n",
       "   clients  \n",
       "0      663  \n",
       "1      155  \n",
       "2      180  \n",
       "3      169  \n",
       "4       86  "
      ]
     },
     "execution_count": 10,
     "metadata": {},
     "output_type": "execute_result"
    }
   ],
   "source": [
    "# соединим district_short и clieints_by_dist чтобы отсортировать районы по количеству клиентов в дальнейшем\n",
    "\n",
    "district_short = district_short.merge(clieints_by_dist, left_on=\"district_code\", right_on=\"district_id\")\n",
    "print(district_short.shape)\n",
    "district_short.head()"
   ]
  },
  {
   "cell_type": "markdown",
   "id": "157ae04a-2c3c-4444-945f-48321d49b5fa",
   "metadata": {},
   "source": [
    "# Замена чешских районов на Российские города\n",
    "С целью чтобы упростить в дальнейшем процесс реалистичной генерации координат транзакций клиентов, я решил заменить чешские районы на российские города.\n",
    "Далее мы проверим насколько схожи профиля городов России и районов Чехии. Но сильное сходство нам не нужно"
   ]
  },
  {
   "cell_type": "code",
   "execution_count": 11,
   "id": "d7f98930-5d14-4821-a461-56a00c14296a",
   "metadata": {},
   "outputs": [],
   "source": [
    "# список российских городов с населением и другой информацией\n",
    "\n",
    "russian_cities_list = \"https://gist.githubusercontent.com/dnovik/694d106be3ff20eb0c73a0511c83b7f3/raw/056b7ece3b762723c02d3809ef77e2ae92a2bcd0/cities.csv\""
   ]
  },
  {
   "cell_type": "code",
   "execution_count": 12,
   "id": "0e0dfc71-df37-4165-aa2c-b3895481df9c",
   "metadata": {},
   "outputs": [],
   "source": [
    "russian_cities = pd.read_csv(russian_cities_list)"
   ]
  },
  {
   "cell_type": "code",
   "execution_count": 13,
   "id": "5f6c969e-89be-466d-9e6e-df89725b71bf",
   "metadata": {},
   "outputs": [
    {
     "data": {
      "text/html": [
       "<div>\n",
       "<style scoped>\n",
       "    .dataframe tbody tr th:only-of-type {\n",
       "        vertical-align: middle;\n",
       "    }\n",
       "\n",
       "    .dataframe tbody tr th {\n",
       "        vertical-align: top;\n",
       "    }\n",
       "\n",
       "    .dataframe thead th {\n",
       "        text-align: right;\n",
       "    }\n",
       "</style>\n",
       "<table border=\"1\" class=\"dataframe\">\n",
       "  <thead>\n",
       "    <tr style=\"text-align: right;\">\n",
       "      <th></th>\n",
       "      <th>Индекс</th>\n",
       "      <th>Тип региона</th>\n",
       "      <th>Регион</th>\n",
       "      <th>Тип района</th>\n",
       "      <th>Район</th>\n",
       "      <th>Тип города</th>\n",
       "      <th>Город</th>\n",
       "      <th>Тип н/п</th>\n",
       "      <th>Н/п</th>\n",
       "      <th>Код КЛАДР</th>\n",
       "      <th>Код ФИАС</th>\n",
       "      <th>Уровень по ФИАС</th>\n",
       "      <th>Признак центра района или региона</th>\n",
       "      <th>Код ОКАТО</th>\n",
       "      <th>Код ОКТМО</th>\n",
       "      <th>Код ИФНС</th>\n",
       "      <th>Часовой пояс</th>\n",
       "      <th>Широта</th>\n",
       "      <th>Долгота</th>\n",
       "      <th>Федеральный округ</th>\n",
       "      <th>Население</th>\n",
       "    </tr>\n",
       "  </thead>\n",
       "  <tbody>\n",
       "    <tr>\n",
       "      <th>0</th>\n",
       "      <td>385200.000000</td>\n",
       "      <td>Респ</td>\n",
       "      <td>Адыгея</td>\n",
       "      <td>NaN</td>\n",
       "      <td>NaN</td>\n",
       "      <td>г</td>\n",
       "      <td>Адыгейск</td>\n",
       "      <td>NaN</td>\n",
       "      <td>NaN</td>\n",
       "      <td>100000200000</td>\n",
       "      <td>ccdfd496-8108-4655-aadd-bd228747306d</td>\n",
       "      <td>4: город</td>\n",
       "      <td>0</td>\n",
       "      <td>79403000000</td>\n",
       "      <td>79703000001.000000</td>\n",
       "      <td>107</td>\n",
       "      <td>UTC+3</td>\n",
       "      <td>44.878372</td>\n",
       "      <td>39.190172</td>\n",
       "      <td>Южный</td>\n",
       "      <td>12689</td>\n",
       "    </tr>\n",
       "    <tr>\n",
       "      <th>1</th>\n",
       "      <td>385000.000000</td>\n",
       "      <td>Респ</td>\n",
       "      <td>Адыгея</td>\n",
       "      <td>NaN</td>\n",
       "      <td>NaN</td>\n",
       "      <td>г</td>\n",
       "      <td>Майкоп</td>\n",
       "      <td>NaN</td>\n",
       "      <td>NaN</td>\n",
       "      <td>100000100000</td>\n",
       "      <td>8cfbe842-e803-49ca-9347-1ef90481dd98</td>\n",
       "      <td>4: город</td>\n",
       "      <td>2</td>\n",
       "      <td>79401000000</td>\n",
       "      <td>79701000001.000000</td>\n",
       "      <td>105</td>\n",
       "      <td>UTC+3</td>\n",
       "      <td>44.609827</td>\n",
       "      <td>40.100653</td>\n",
       "      <td>Южный</td>\n",
       "      <td>144055</td>\n",
       "    </tr>\n",
       "    <tr>\n",
       "      <th>2</th>\n",
       "      <td>649000.000000</td>\n",
       "      <td>Респ</td>\n",
       "      <td>Алтай</td>\n",
       "      <td>NaN</td>\n",
       "      <td>NaN</td>\n",
       "      <td>г</td>\n",
       "      <td>Горно-Алтайск</td>\n",
       "      <td>NaN</td>\n",
       "      <td>NaN</td>\n",
       "      <td>400000100000</td>\n",
       "      <td>0839d751-b940-4d3d-afb6-5df03fdd7791</td>\n",
       "      <td>4: город</td>\n",
       "      <td>2</td>\n",
       "      <td>84401000000</td>\n",
       "      <td>84701000.000000</td>\n",
       "      <td>400</td>\n",
       "      <td>UTC+7</td>\n",
       "      <td>51.958268</td>\n",
       "      <td>85.960296</td>\n",
       "      <td>Сибирский</td>\n",
       "      <td>62861</td>\n",
       "    </tr>\n",
       "    <tr>\n",
       "      <th>3</th>\n",
       "      <td>658125.000000</td>\n",
       "      <td>край</td>\n",
       "      <td>Алтайский</td>\n",
       "      <td>NaN</td>\n",
       "      <td>NaN</td>\n",
       "      <td>г</td>\n",
       "      <td>Алейск</td>\n",
       "      <td>NaN</td>\n",
       "      <td>NaN</td>\n",
       "      <td>2200000200000</td>\n",
       "      <td>ae716080-f27b-40b6-a555-cf8b518e849e</td>\n",
       "      <td>4: город</td>\n",
       "      <td>0</td>\n",
       "      <td>1403000000</td>\n",
       "      <td>1703000.000000</td>\n",
       "      <td>2201</td>\n",
       "      <td>UTC+7</td>\n",
       "      <td>52.492091</td>\n",
       "      <td>82.779415</td>\n",
       "      <td>Сибирский</td>\n",
       "      <td>28528</td>\n",
       "    </tr>\n",
       "    <tr>\n",
       "      <th>4</th>\n",
       "      <td>656000.000000</td>\n",
       "      <td>край</td>\n",
       "      <td>Алтайский</td>\n",
       "      <td>NaN</td>\n",
       "      <td>NaN</td>\n",
       "      <td>г</td>\n",
       "      <td>Барнаул</td>\n",
       "      <td>NaN</td>\n",
       "      <td>NaN</td>\n",
       "      <td>2200000100000</td>\n",
       "      <td>d13945a8-7017-46ab-b1e6-ede1e89317ad</td>\n",
       "      <td>4: город</td>\n",
       "      <td>2</td>\n",
       "      <td>1401000000</td>\n",
       "      <td>1701000.000000</td>\n",
       "      <td>2200</td>\n",
       "      <td>UTC+7</td>\n",
       "      <td>53.348115</td>\n",
       "      <td>83.779836</td>\n",
       "      <td>Сибирский</td>\n",
       "      <td>635585</td>\n",
       "    </tr>\n",
       "  </tbody>\n",
       "</table>\n",
       "</div>"
      ],
      "text/plain": [
       "         Индекс Тип региона     Регион Тип района Район Тип города  \\\n",
       "0 385200.000000        Респ     Адыгея        NaN   NaN          г   \n",
       "1 385000.000000        Респ     Адыгея        NaN   NaN          г   \n",
       "2 649000.000000        Респ      Алтай        NaN   NaN          г   \n",
       "3 658125.000000        край  Алтайский        NaN   NaN          г   \n",
       "4 656000.000000        край  Алтайский        NaN   NaN          г   \n",
       "\n",
       "           Город Тип н/п  Н/п      Код КЛАДР  \\\n",
       "0       Адыгейск     NaN  NaN   100000200000   \n",
       "1         Майкоп     NaN  NaN   100000100000   \n",
       "2  Горно-Алтайск     NaN  NaN   400000100000   \n",
       "3         Алейск     NaN  NaN  2200000200000   \n",
       "4        Барнаул     NaN  NaN  2200000100000   \n",
       "\n",
       "                               Код ФИАС Уровень по ФИАС  \\\n",
       "0  ccdfd496-8108-4655-aadd-bd228747306d        4: город   \n",
       "1  8cfbe842-e803-49ca-9347-1ef90481dd98        4: город   \n",
       "2  0839d751-b940-4d3d-afb6-5df03fdd7791        4: город   \n",
       "3  ae716080-f27b-40b6-a555-cf8b518e849e        4: город   \n",
       "4  d13945a8-7017-46ab-b1e6-ede1e89317ad        4: город   \n",
       "\n",
       "   Признак центра района или региона    Код ОКАТО          Код ОКТМО  \\\n",
       "0                                  0  79403000000 79703000001.000000   \n",
       "1                                  2  79401000000 79701000001.000000   \n",
       "2                                  2  84401000000    84701000.000000   \n",
       "3                                  0   1403000000     1703000.000000   \n",
       "4                                  2   1401000000     1701000.000000   \n",
       "\n",
       "   Код ИФНС Часовой пояс    Широта   Долгота Федеральный округ Население  \n",
       "0       107        UTC+3 44.878372 39.190172             Южный     12689  \n",
       "1       105        UTC+3 44.609827 40.100653             Южный    144055  \n",
       "2       400        UTC+7 51.958268 85.960296         Сибирский     62861  \n",
       "3      2201        UTC+7 52.492091 82.779415         Сибирский     28528  \n",
       "4      2200        UTC+7 53.348115 83.779836         Сибирский    635585  "
      ]
     },
     "execution_count": 13,
     "metadata": {},
     "output_type": "execute_result"
    }
   ],
   "source": [
    "russian_cities.head()"
   ]
  },
  {
   "cell_type": "code",
   "execution_count": 14,
   "id": "c02df835-87d5-47ec-ba4b-9baaa9f0ecd4",
   "metadata": {},
   "outputs": [],
   "source": [
    "# создадим маппинг для переименования колонок\n",
    "\n",
    "ru_cities_col_mapping = {\"Регион\":\"region\", \"Город\":\"area\", \"Часовой пояс\":\"timezone\", \"Широта\":\"lat\", \"Долгота\":\"lon\", \"Население\":\"population_ru\"}"
   ]
  },
  {
   "cell_type": "code",
   "execution_count": 15,
   "id": "168612cd-bf5e-4c3f-94b2-dacf1343a6b1",
   "metadata": {},
   "outputs": [],
   "source": [
    "# russian_cities.columns"
   ]
  },
  {
   "cell_type": "code",
   "execution_count": 16,
   "id": "67c71c5c-9af9-4a71-b37c-95a7f935afc2",
   "metadata": {},
   "outputs": [],
   "source": [
    "# переименуем нужные нам колонки и оставим только их. Население приведем к типу int\n",
    "\n",
    "ru_cities_short = russian_cities.rename(columns=ru_cities_col_mapping).loc[:, ru_cities_col_mapping.values()].copy()"
   ]
  },
  {
   "cell_type": "code",
   "execution_count": 17,
   "id": "eb36d0dd-b6af-4309-a0e3-eb80eef8e823",
   "metadata": {},
   "outputs": [
    {
     "data": {
      "text/plain": [
       "region            object\n",
       "area              object\n",
       "timezone          object\n",
       "lat              float64\n",
       "lon              float64\n",
       "population_ru     object\n",
       "dtype: object"
      ]
     },
     "execution_count": 17,
     "metadata": {},
     "output_type": "execute_result"
    }
   ],
   "source": [
    "ru_cities_short.dtypes"
   ]
  },
  {
   "cell_type": "code",
   "execution_count": 18,
   "id": "23315f45-3f4d-412d-a16a-243be3b82f55",
   "metadata": {},
   "outputs": [
    {
     "data": {
      "text/plain": [
       "923    96[3]\n",
       "Name: population_ru, dtype: object"
      ]
     },
     "execution_count": 18,
     "metadata": {},
     "output_type": "execute_result"
    }
   ],
   "source": [
    "# проверим на значения в population где кроме чисел есть что-то еще\n",
    "# отфильтруем по булевой маске: сперва создадим массив с булевыми значениями,\n",
    "# где True это совпадение с regex - у нас regex проверяет является ли строка числом с количеством цифр от 1 до 8\n",
    "# через тильду ~ мы инвертируем этот массив. И у нас теперь True это все строки где кроме цельного числа есть что-то еще в строке\n",
    "# ^ начало строки. $ конец строки. \\d{1,8} это значит \"числа, от 1 до 8 чисел подряд\"\n",
    "\n",
    "dirty_records = ru_cities_short[~ru_cities_short.population_ru.str.match(r\"^\\d{1,8}$\")].population_ru\n",
    "dirty_records"
   ]
  },
  {
   "cell_type": "code",
   "execution_count": 19,
   "id": "cc52cabb-ec4a-4d12-879a-ac31247e0bd3",
   "metadata": {},
   "outputs": [],
   "source": [
    "# создадим дубликат колонки для дальнейших изменений в ней. Чтобы можно было коротко сверить что значения для остальных записей\n",
    "# остались прежними\n",
    "\n",
    "ru_cities_short.loc[:, \"popul_ru_clean\"] = ru_cities_short.loc[:, \"population_ru\"]"
   ]
  },
  {
   "cell_type": "code",
   "execution_count": 20,
   "id": "6f317e6f-1f22-49f5-a672-a11f0ab7f065",
   "metadata": {},
   "outputs": [],
   "source": [
    "# извлечем чистые числа из грязных значений. Отфильтруем по индексу для изменения и вставки значений\n",
    "# сделаем этом кусок кода масштабируемым на случай если у нас изменятся исходные данные - прибавятся новые и т.п.\n",
    "\n",
    "ru_cities_short.loc[dirty_records.index, \"popul_ru_clean\"] = ru_cities_short.loc[dirty_records.index, \"population_ru\"] \\\n",
    "                                                                .str.findall(r\"\\d{1,8}\").str[0]"
   ]
  },
  {
   "cell_type": "code",
   "execution_count": 21,
   "id": "aa132a3b-b664-4082-8e82-c6681075011e",
   "metadata": {},
   "outputs": [
    {
     "data": {
      "text/html": [
       "<div>\n",
       "<style scoped>\n",
       "    .dataframe tbody tr th:only-of-type {\n",
       "        vertical-align: middle;\n",
       "    }\n",
       "\n",
       "    .dataframe tbody tr th {\n",
       "        vertical-align: top;\n",
       "    }\n",
       "\n",
       "    .dataframe thead th {\n",
       "        text-align: right;\n",
       "    }\n",
       "</style>\n",
       "<table border=\"1\" class=\"dataframe\">\n",
       "  <thead>\n",
       "    <tr style=\"text-align: right;\">\n",
       "      <th></th>\n",
       "      <th>region</th>\n",
       "      <th>area</th>\n",
       "      <th>timezone</th>\n",
       "      <th>lat</th>\n",
       "      <th>lon</th>\n",
       "      <th>population_ru</th>\n",
       "      <th>popul_ru_clean</th>\n",
       "    </tr>\n",
       "  </thead>\n",
       "  <tbody>\n",
       "    <tr>\n",
       "      <th>0</th>\n",
       "      <td>Адыгея</td>\n",
       "      <td>Адыгейск</td>\n",
       "      <td>UTC+3</td>\n",
       "      <td>44.878372</td>\n",
       "      <td>39.190172</td>\n",
       "      <td>12689</td>\n",
       "      <td>12689</td>\n",
       "    </tr>\n",
       "    <tr>\n",
       "      <th>1</th>\n",
       "      <td>Адыгея</td>\n",
       "      <td>Майкоп</td>\n",
       "      <td>UTC+3</td>\n",
       "      <td>44.609827</td>\n",
       "      <td>40.100653</td>\n",
       "      <td>144055</td>\n",
       "      <td>144055</td>\n",
       "    </tr>\n",
       "    <tr>\n",
       "      <th>2</th>\n",
       "      <td>Алтай</td>\n",
       "      <td>Горно-Алтайск</td>\n",
       "      <td>UTC+7</td>\n",
       "      <td>51.958268</td>\n",
       "      <td>85.960296</td>\n",
       "      <td>62861</td>\n",
       "      <td>62861</td>\n",
       "    </tr>\n",
       "    <tr>\n",
       "      <th>3</th>\n",
       "      <td>Алтайский</td>\n",
       "      <td>Алейск</td>\n",
       "      <td>UTC+7</td>\n",
       "      <td>52.492091</td>\n",
       "      <td>82.779415</td>\n",
       "      <td>28528</td>\n",
       "      <td>28528</td>\n",
       "    </tr>\n",
       "    <tr>\n",
       "      <th>4</th>\n",
       "      <td>Алтайский</td>\n",
       "      <td>Барнаул</td>\n",
       "      <td>UTC+7</td>\n",
       "      <td>53.348115</td>\n",
       "      <td>83.779836</td>\n",
       "      <td>635585</td>\n",
       "      <td>635585</td>\n",
       "    </tr>\n",
       "  </tbody>\n",
       "</table>\n",
       "</div>"
      ],
      "text/plain": [
       "      region           area timezone       lat       lon population_ru  \\\n",
       "0     Адыгея       Адыгейск    UTC+3 44.878372 39.190172         12689   \n",
       "1     Адыгея         Майкоп    UTC+3 44.609827 40.100653        144055   \n",
       "2      Алтай  Горно-Алтайск    UTC+7 51.958268 85.960296         62861   \n",
       "3  Алтайский         Алейск    UTC+7 52.492091 82.779415         28528   \n",
       "4  Алтайский        Барнаул    UTC+7 53.348115 83.779836        635585   \n",
       "\n",
       "  popul_ru_clean  \n",
       "0          12689  \n",
       "1         144055  \n",
       "2          62861  \n",
       "3          28528  \n",
       "4         635585  "
      ]
     },
     "execution_count": 21,
     "metadata": {},
     "output_type": "execute_result"
    }
   ],
   "source": [
    "ru_cities_short.head()"
   ]
  },
  {
   "cell_type": "code",
   "execution_count": 22,
   "id": "2f6482ca-31cc-4db0-9c0e-6de8d1d7bec6",
   "metadata": {},
   "outputs": [
    {
     "data": {
      "text/html": [
       "<div>\n",
       "<style scoped>\n",
       "    .dataframe tbody tr th:only-of-type {\n",
       "        vertical-align: middle;\n",
       "    }\n",
       "\n",
       "    .dataframe tbody tr th {\n",
       "        vertical-align: top;\n",
       "    }\n",
       "\n",
       "    .dataframe thead th {\n",
       "        text-align: right;\n",
       "    }\n",
       "</style>\n",
       "<table border=\"1\" class=\"dataframe\">\n",
       "  <thead>\n",
       "    <tr style=\"text-align: right;\">\n",
       "      <th></th>\n",
       "      <th>region</th>\n",
       "      <th>area</th>\n",
       "      <th>timezone</th>\n",
       "      <th>lat</th>\n",
       "      <th>lon</th>\n",
       "      <th>population_ru</th>\n",
       "      <th>popul_ru_clean</th>\n",
       "    </tr>\n",
       "  </thead>\n",
       "  <tbody>\n",
       "    <tr>\n",
       "      <th>1107</th>\n",
       "      <td>Ярославская</td>\n",
       "      <td>Ростов</td>\n",
       "      <td>UTC+3</td>\n",
       "      <td>57.205018</td>\n",
       "      <td>39.437836</td>\n",
       "      <td>31791</td>\n",
       "      <td>31791</td>\n",
       "    </tr>\n",
       "    <tr>\n",
       "      <th>1108</th>\n",
       "      <td>Ярославская</td>\n",
       "      <td>Рыбинск</td>\n",
       "      <td>UTC+3</td>\n",
       "      <td>58.048380</td>\n",
       "      <td>38.858338</td>\n",
       "      <td>200771</td>\n",
       "      <td>200771</td>\n",
       "    </tr>\n",
       "    <tr>\n",
       "      <th>1109</th>\n",
       "      <td>Ярославская</td>\n",
       "      <td>Тутаев</td>\n",
       "      <td>UTC+3</td>\n",
       "      <td>57.867424</td>\n",
       "      <td>39.536823</td>\n",
       "      <td>41001</td>\n",
       "      <td>41001</td>\n",
       "    </tr>\n",
       "    <tr>\n",
       "      <th>1110</th>\n",
       "      <td>Ярославская</td>\n",
       "      <td>Углич</td>\n",
       "      <td>UTC+3</td>\n",
       "      <td>57.522387</td>\n",
       "      <td>38.301979</td>\n",
       "      <td>34505</td>\n",
       "      <td>34505</td>\n",
       "    </tr>\n",
       "    <tr>\n",
       "      <th>1111</th>\n",
       "      <td>Ярославская</td>\n",
       "      <td>Ярославль</td>\n",
       "      <td>UTC+3</td>\n",
       "      <td>57.621614</td>\n",
       "      <td>39.897878</td>\n",
       "      <td>591486</td>\n",
       "      <td>591486</td>\n",
       "    </tr>\n",
       "  </tbody>\n",
       "</table>\n",
       "</div>"
      ],
      "text/plain": [
       "           region       area timezone       lat       lon population_ru  \\\n",
       "1107  Ярославская     Ростов    UTC+3 57.205018 39.437836         31791   \n",
       "1108  Ярославская    Рыбинск    UTC+3 58.048380 38.858338        200771   \n",
       "1109  Ярославская     Тутаев    UTC+3 57.867424 39.536823         41001   \n",
       "1110  Ярославская      Углич    UTC+3 57.522387 38.301979         34505   \n",
       "1111  Ярославская  Ярославль    UTC+3 57.621614 39.897878        591486   \n",
       "\n",
       "     popul_ru_clean  \n",
       "1107          31791  \n",
       "1108         200771  \n",
       "1109          41001  \n",
       "1110          34505  \n",
       "1111         591486  "
      ]
     },
     "execution_count": 22,
     "metadata": {},
     "output_type": "execute_result"
    }
   ],
   "source": [
    "ru_cities_short.tail()"
   ]
  },
  {
   "cell_type": "code",
   "execution_count": 23,
   "id": "87e53f63-162f-4889-89a4-8136ef3dd259",
   "metadata": {},
   "outputs": [
    {
     "data": {
      "text/html": [
       "<div>\n",
       "<style scoped>\n",
       "    .dataframe tbody tr th:only-of-type {\n",
       "        vertical-align: middle;\n",
       "    }\n",
       "\n",
       "    .dataframe tbody tr th {\n",
       "        vertical-align: top;\n",
       "    }\n",
       "\n",
       "    .dataframe thead th {\n",
       "        text-align: right;\n",
       "    }\n",
       "</style>\n",
       "<table border=\"1\" class=\"dataframe\">\n",
       "  <thead>\n",
       "    <tr style=\"text-align: right;\">\n",
       "      <th></th>\n",
       "      <th>region</th>\n",
       "      <th>area</th>\n",
       "      <th>timezone</th>\n",
       "      <th>lat</th>\n",
       "      <th>lon</th>\n",
       "      <th>population_ru</th>\n",
       "      <th>popul_ru_clean</th>\n",
       "    </tr>\n",
       "  </thead>\n",
       "  <tbody>\n",
       "    <tr>\n",
       "      <th>923</th>\n",
       "      <td>Татарстан</td>\n",
       "      <td>Иннополис</td>\n",
       "      <td>UTC+3</td>\n",
       "      <td>55.752154</td>\n",
       "      <td>48.744616</td>\n",
       "      <td>96[3]</td>\n",
       "      <td>96</td>\n",
       "    </tr>\n",
       "  </tbody>\n",
       "</table>\n",
       "</div>"
      ],
      "text/plain": [
       "        region       area timezone       lat       lon population_ru  \\\n",
       "923  Татарстан  Иннополис    UTC+3 55.752154 48.744616         96[3]   \n",
       "\n",
       "    popul_ru_clean  \n",
       "923             96  "
      ]
     },
     "execution_count": 23,
     "metadata": {},
     "output_type": "execute_result"
    }
   ],
   "source": [
    "ru_cities_short.loc[dirty_records.index]"
   ]
  },
  {
   "cell_type": "code",
   "execution_count": 24,
   "id": "9e6a7296-6f72-4eea-ab4a-2a5ca19839b4",
   "metadata": {},
   "outputs": [],
   "source": [
    "# удалим колонку population_ru со старыми значениями\n",
    "\n",
    "ru_cities_short.drop(columns=\"population_ru\", inplace=True)"
   ]
  },
  {
   "cell_type": "code",
   "execution_count": 25,
   "id": "2097678a-9974-4bb9-8039-62b21bf3eed2",
   "metadata": {},
   "outputs": [
    {
     "data": {
      "text/html": [
       "<div>\n",
       "<style scoped>\n",
       "    .dataframe tbody tr th:only-of-type {\n",
       "        vertical-align: middle;\n",
       "    }\n",
       "\n",
       "    .dataframe tbody tr th {\n",
       "        vertical-align: top;\n",
       "    }\n",
       "\n",
       "    .dataframe thead th {\n",
       "        text-align: right;\n",
       "    }\n",
       "</style>\n",
       "<table border=\"1\" class=\"dataframe\">\n",
       "  <thead>\n",
       "    <tr style=\"text-align: right;\">\n",
       "      <th></th>\n",
       "      <th>region</th>\n",
       "      <th>area</th>\n",
       "      <th>timezone</th>\n",
       "      <th>lat</th>\n",
       "      <th>lon</th>\n",
       "      <th>popul_ru_clean</th>\n",
       "    </tr>\n",
       "  </thead>\n",
       "  <tbody>\n",
       "    <tr>\n",
       "      <th>0</th>\n",
       "      <td>Адыгея</td>\n",
       "      <td>Адыгейск</td>\n",
       "      <td>UTC+3</td>\n",
       "      <td>44.878372</td>\n",
       "      <td>39.190172</td>\n",
       "      <td>12689</td>\n",
       "    </tr>\n",
       "  </tbody>\n",
       "</table>\n",
       "</div>"
      ],
      "text/plain": [
       "   region      area timezone       lat       lon popul_ru_clean\n",
       "0  Адыгея  Адыгейск    UTC+3 44.878372 39.190172          12689"
      ]
     },
     "execution_count": 25,
     "metadata": {},
     "output_type": "execute_result"
    }
   ],
   "source": [
    "ru_cities_short.head(1)"
   ]
  },
  {
   "cell_type": "code",
   "execution_count": 26,
   "id": "f4fdf7ff-3b69-498f-b868-5a6b30a2eb79",
   "metadata": {},
   "outputs": [],
   "source": [
    "# приведем значения в колонке к int\n",
    "\n",
    "ru_cities_short[\"popul_ru_clean\"] = ru_cities_short.loc[:, \"popul_ru_clean\"].astype(\"int\")"
   ]
  },
  {
   "cell_type": "code",
   "execution_count": 27,
   "id": "853729c0-efbb-4f15-9e73-202463dce421",
   "metadata": {},
   "outputs": [
    {
     "data": {
      "text/html": [
       "<div>\n",
       "<style scoped>\n",
       "    .dataframe tbody tr th:only-of-type {\n",
       "        vertical-align: middle;\n",
       "    }\n",
       "\n",
       "    .dataframe tbody tr th {\n",
       "        vertical-align: top;\n",
       "    }\n",
       "\n",
       "    .dataframe thead th {\n",
       "        text-align: right;\n",
       "    }\n",
       "</style>\n",
       "<table border=\"1\" class=\"dataframe\">\n",
       "  <thead>\n",
       "    <tr style=\"text-align: right;\">\n",
       "      <th></th>\n",
       "      <th>region</th>\n",
       "      <th>area</th>\n",
       "      <th>timezone</th>\n",
       "      <th>lat</th>\n",
       "      <th>lon</th>\n",
       "      <th>popul_ru_clean</th>\n",
       "    </tr>\n",
       "  </thead>\n",
       "  <tbody>\n",
       "    <tr>\n",
       "      <th>0</th>\n",
       "      <td>Адыгея</td>\n",
       "      <td>Адыгейск</td>\n",
       "      <td>UTC+3</td>\n",
       "      <td>44.878372</td>\n",
       "      <td>39.190172</td>\n",
       "      <td>12689</td>\n",
       "    </tr>\n",
       "    <tr>\n",
       "      <th>1</th>\n",
       "      <td>Адыгея</td>\n",
       "      <td>Майкоп</td>\n",
       "      <td>UTC+3</td>\n",
       "      <td>44.609827</td>\n",
       "      <td>40.100653</td>\n",
       "      <td>144055</td>\n",
       "    </tr>\n",
       "    <tr>\n",
       "      <th>2</th>\n",
       "      <td>Алтай</td>\n",
       "      <td>Горно-Алтайск</td>\n",
       "      <td>UTC+7</td>\n",
       "      <td>51.958268</td>\n",
       "      <td>85.960296</td>\n",
       "      <td>62861</td>\n",
       "    </tr>\n",
       "    <tr>\n",
       "      <th>3</th>\n",
       "      <td>Алтайский</td>\n",
       "      <td>Алейск</td>\n",
       "      <td>UTC+7</td>\n",
       "      <td>52.492091</td>\n",
       "      <td>82.779415</td>\n",
       "      <td>28528</td>\n",
       "    </tr>\n",
       "    <tr>\n",
       "      <th>4</th>\n",
       "      <td>Алтайский</td>\n",
       "      <td>Барнаул</td>\n",
       "      <td>UTC+7</td>\n",
       "      <td>53.348115</td>\n",
       "      <td>83.779836</td>\n",
       "      <td>635585</td>\n",
       "    </tr>\n",
       "    <tr>\n",
       "      <th>...</th>\n",
       "      <td>...</td>\n",
       "      <td>...</td>\n",
       "      <td>...</td>\n",
       "      <td>...</td>\n",
       "      <td>...</td>\n",
       "      <td>...</td>\n",
       "    </tr>\n",
       "    <tr>\n",
       "      <th>1107</th>\n",
       "      <td>Ярославская</td>\n",
       "      <td>Ростов</td>\n",
       "      <td>UTC+3</td>\n",
       "      <td>57.205018</td>\n",
       "      <td>39.437836</td>\n",
       "      <td>31791</td>\n",
       "    </tr>\n",
       "    <tr>\n",
       "      <th>1108</th>\n",
       "      <td>Ярославская</td>\n",
       "      <td>Рыбинск</td>\n",
       "      <td>UTC+3</td>\n",
       "      <td>58.048380</td>\n",
       "      <td>38.858338</td>\n",
       "      <td>200771</td>\n",
       "    </tr>\n",
       "    <tr>\n",
       "      <th>1109</th>\n",
       "      <td>Ярославская</td>\n",
       "      <td>Тутаев</td>\n",
       "      <td>UTC+3</td>\n",
       "      <td>57.867424</td>\n",
       "      <td>39.536823</td>\n",
       "      <td>41001</td>\n",
       "    </tr>\n",
       "    <tr>\n",
       "      <th>1110</th>\n",
       "      <td>Ярославская</td>\n",
       "      <td>Углич</td>\n",
       "      <td>UTC+3</td>\n",
       "      <td>57.522387</td>\n",
       "      <td>38.301979</td>\n",
       "      <td>34505</td>\n",
       "    </tr>\n",
       "    <tr>\n",
       "      <th>1111</th>\n",
       "      <td>Ярославская</td>\n",
       "      <td>Ярославль</td>\n",
       "      <td>UTC+3</td>\n",
       "      <td>57.621614</td>\n",
       "      <td>39.897878</td>\n",
       "      <td>591486</td>\n",
       "    </tr>\n",
       "  </tbody>\n",
       "</table>\n",
       "<p>1112 rows × 6 columns</p>\n",
       "</div>"
      ],
      "text/plain": [
       "           region           area timezone       lat       lon  popul_ru_clean\n",
       "0          Адыгея       Адыгейск    UTC+3 44.878372 39.190172           12689\n",
       "1          Адыгея         Майкоп    UTC+3 44.609827 40.100653          144055\n",
       "2           Алтай  Горно-Алтайск    UTC+7 51.958268 85.960296           62861\n",
       "3       Алтайский         Алейск    UTC+7 52.492091 82.779415           28528\n",
       "4       Алтайский        Барнаул    UTC+7 53.348115 83.779836          635585\n",
       "...           ...            ...      ...       ...       ...             ...\n",
       "1107  Ярославская         Ростов    UTC+3 57.205018 39.437836           31791\n",
       "1108  Ярославская        Рыбинск    UTC+3 58.048380 38.858338          200771\n",
       "1109  Ярославская         Тутаев    UTC+3 57.867424 39.536823           41001\n",
       "1110  Ярославская          Углич    UTC+3 57.522387 38.301979           34505\n",
       "1111  Ярославская      Ярославль    UTC+3 57.621614 39.897878          591486\n",
       "\n",
       "[1112 rows x 6 columns]"
      ]
     },
     "execution_count": 27,
     "metadata": {},
     "output_type": "execute_result"
    }
   ],
   "source": [
    "ru_cities_short"
   ]
  },
  {
   "cell_type": "code",
   "execution_count": 28,
   "id": "a9376579-f7c1-4e33-b0ab-ba6608c8018f",
   "metadata": {},
   "outputs": [
    {
     "data": {
      "text/plain": [
       "region             object\n",
       "area               object\n",
       "timezone           object\n",
       "lat               float64\n",
       "lon               float64\n",
       "popul_ru_clean      int64\n",
       "dtype: object"
      ]
     },
     "execution_count": 28,
     "metadata": {},
     "output_type": "execute_result"
    }
   ],
   "source": [
    "ru_cities_short.dtypes"
   ]
  },
  {
   "cell_type": "code",
   "execution_count": 520,
   "id": "e596c13d-9fae-4191-8188-3973eb25d669",
   "metadata": {},
   "outputs": [
    {
     "data": {
      "text/html": [
       "<div>\n",
       "<style scoped>\n",
       "    .dataframe tbody tr th:only-of-type {\n",
       "        vertical-align: middle;\n",
       "    }\n",
       "\n",
       "    .dataframe tbody tr th {\n",
       "        vertical-align: top;\n",
       "    }\n",
       "\n",
       "    .dataframe thead th {\n",
       "        text-align: right;\n",
       "    }\n",
       "</style>\n",
       "<table border=\"1\" class=\"dataframe\">\n",
       "  <thead>\n",
       "    <tr style=\"text-align: right;\">\n",
       "      <th></th>\n",
       "      <th>region</th>\n",
       "      <th>area</th>\n",
       "      <th>timezone</th>\n",
       "      <th>lat</th>\n",
       "      <th>lon</th>\n",
       "      <th>popul_ru_clean</th>\n",
       "    </tr>\n",
       "  </thead>\n",
       "  <tbody>\n",
       "    <tr>\n",
       "      <th>506</th>\n",
       "      <td>Москва</td>\n",
       "      <td>NaN</td>\n",
       "      <td>UTC+3</td>\n",
       "      <td>55.753879</td>\n",
       "      <td>37.620373</td>\n",
       "      <td>11514330</td>\n",
       "    </tr>\n",
       "    <tr>\n",
       "      <th>782</th>\n",
       "      <td>Санкт-Петербург</td>\n",
       "      <td>NaN</td>\n",
       "      <td>UTC+3</td>\n",
       "      <td>59.939125</td>\n",
       "      <td>30.315822</td>\n",
       "      <td>4848742</td>\n",
       "    </tr>\n",
       "    <tr>\n",
       "      <th>863</th>\n",
       "      <td>Севастополь</td>\n",
       "      <td>NaN</td>\n",
       "      <td>UTC+3</td>\n",
       "      <td>44.616733</td>\n",
       "      <td>33.525355</td>\n",
       "      <td>344479</td>\n",
       "    </tr>\n",
       "  </tbody>\n",
       "</table>\n",
       "</div>"
      ],
      "text/plain": [
       "              region area timezone        lat        lon  popul_ru_clean\n",
       "506           Москва  NaN    UTC+3  55.753879  37.620373        11514330\n",
       "782  Санкт-Петербург  NaN    UTC+3  59.939125  30.315822         4848742\n",
       "863      Севастополь  NaN    UTC+3  44.616733  33.525355          344479"
      ]
     },
     "execution_count": 520,
     "metadata": {},
     "output_type": "execute_result"
    }
   ],
   "source": [
    "# Проверим на пустые значения\n",
    "\n",
    "nan_area = ru_cities_short[ru_cities_short.isna().any(axis=1)]\n",
    "nan_area"
   ]
  },
  {
   "cell_type": "code",
   "execution_count": 515,
   "id": "00d2fbf7-7781-424b-9922-23850358698b",
   "metadata": {},
   "outputs": [
    {
     "data": {
      "text/plain": [
       "np.float64(45.5406838)"
      ]
     },
     "execution_count": 515,
     "metadata": {},
     "output_type": "execute_result"
    }
   ],
   "source": [
    "ru_cities_short.loc[ru_cities_short.popul_ru_clean == 49071].iloc[0,-2]"
   ]
  },
  {
   "cell_type": "code",
   "execution_count": 518,
   "id": "e6d15c44-c38b-4ba3-b073-b5b10a86a0b0",
   "metadata": {},
   "outputs": [
    {
     "data": {
      "text/plain": [
       "np.float64(43.1276072)"
      ]
     },
     "execution_count": 518,
     "metadata": {},
     "output_type": "execute_result"
    }
   ],
   "source": [
    "ru_cities_short.loc[ru_cities_short.popul_ru_clean == 49071].iloc[0,-3]"
   ]
  },
  {
   "cell_type": "code",
   "execution_count": 519,
   "id": "0d880e0a-d56c-47ec-9327-3c5050cd087f",
   "metadata": {},
   "outputs": [],
   "source": [
    "# город из Чеченской республики узнаем по координатам и заполним вручную. Остальные названия возьмем из region\n",
    "\n",
    "ru_cities_short.loc[(ru_cities_short.lat == 43.1276072) & (ru_cities_short.lon == 45.5406838), \"area\"] = \"Урус-Мартан\""
   ]
  },
  {
   "cell_type": "code",
   "execution_count": 521,
   "id": "54e55b5e-41d9-4c06-bcfb-a3a18e3a442c",
   "metadata": {},
   "outputs": [],
   "source": [
    "# заполняем остальное\n",
    "\n",
    "ru_cities_short[\"area\"] = ru_cities_short[\"area\"].fillna(ru_cities_short[\"region\"])"
   ]
  },
  {
   "cell_type": "code",
   "execution_count": 522,
   "id": "e2e796e4-d5a3-4073-a829-2ae4a548a899",
   "metadata": {},
   "outputs": [
    {
     "data": {
      "text/html": [
       "<div>\n",
       "<style scoped>\n",
       "    .dataframe tbody tr th:only-of-type {\n",
       "        vertical-align: middle;\n",
       "    }\n",
       "\n",
       "    .dataframe tbody tr th {\n",
       "        vertical-align: top;\n",
       "    }\n",
       "\n",
       "    .dataframe thead th {\n",
       "        text-align: right;\n",
       "    }\n",
       "</style>\n",
       "<table border=\"1\" class=\"dataframe\">\n",
       "  <thead>\n",
       "    <tr style=\"text-align: right;\">\n",
       "      <th></th>\n",
       "      <th>region</th>\n",
       "      <th>area</th>\n",
       "      <th>timezone</th>\n",
       "      <th>lat</th>\n",
       "      <th>lon</th>\n",
       "      <th>popul_ru_clean</th>\n",
       "    </tr>\n",
       "  </thead>\n",
       "  <tbody>\n",
       "    <tr>\n",
       "      <th>506</th>\n",
       "      <td>Москва</td>\n",
       "      <td>Москва</td>\n",
       "      <td>UTC+3</td>\n",
       "      <td>55.753879</td>\n",
       "      <td>37.620373</td>\n",
       "      <td>11514330</td>\n",
       "    </tr>\n",
       "    <tr>\n",
       "      <th>782</th>\n",
       "      <td>Санкт-Петербург</td>\n",
       "      <td>Санкт-Петербург</td>\n",
       "      <td>UTC+3</td>\n",
       "      <td>59.939125</td>\n",
       "      <td>30.315822</td>\n",
       "      <td>4848742</td>\n",
       "    </tr>\n",
       "    <tr>\n",
       "      <th>863</th>\n",
       "      <td>Севастополь</td>\n",
       "      <td>Севастополь</td>\n",
       "      <td>UTC+3</td>\n",
       "      <td>44.616733</td>\n",
       "      <td>33.525355</td>\n",
       "      <td>344479</td>\n",
       "    </tr>\n",
       "  </tbody>\n",
       "</table>\n",
       "</div>"
      ],
      "text/plain": [
       "              region             area timezone        lat        lon  \\\n",
       "506           Москва           Москва    UTC+3  55.753879  37.620373   \n",
       "782  Санкт-Петербург  Санкт-Петербург    UTC+3  59.939125  30.315822   \n",
       "863      Севастополь      Севастополь    UTC+3  44.616733  33.525355   \n",
       "\n",
       "     popul_ru_clean  \n",
       "506        11514330  \n",
       "782         4848742  \n",
       "863          344479  "
      ]
     },
     "execution_count": 522,
     "metadata": {},
     "output_type": "execute_result"
    }
   ],
   "source": [
    "# проверим результат\n",
    "\n",
    "ru_cities_short.loc[(ru_cities_short.lat.isin(nan_area.lat)) & (ru_cities_short.lon.isin(nan_area.lon))]"
   ]
  },
  {
   "cell_type": "code",
   "execution_count": 29,
   "id": "e6d1b15e-b6c5-412d-80b8-76f1283b355e",
   "metadata": {},
   "outputs": [
    {
     "data": {
      "text/plain": [
       "77"
      ]
     },
     "execution_count": 29,
     "metadata": {},
     "output_type": "execute_result"
    }
   ],
   "source": [
    "# количество чешских районов в data berka \n",
    "\n",
    "district_short.shape[0]"
   ]
  },
  {
   "cell_type": "code",
   "execution_count": 30,
   "id": "9bca15d3-b5d6-4d97-9bd4-5a9c3b805ff1",
   "metadata": {},
   "outputs": [],
   "source": [
    "# значит нужно 77 первых по населению городов РФ\n",
    "\n",
    "ru_77_cities = ru_cities_short.sort_values(\"popul_ru_clean\", ascending=False).copy().reset_index(drop=True).loc[0:76]"
   ]
  },
  {
   "cell_type": "code",
   "execution_count": 31,
   "id": "2428bae3-b019-48f2-b949-174f60593091",
   "metadata": {},
   "outputs": [
    {
     "data": {
      "text/html": [
       "<div>\n",
       "<style scoped>\n",
       "    .dataframe tbody tr th:only-of-type {\n",
       "        vertical-align: middle;\n",
       "    }\n",
       "\n",
       "    .dataframe tbody tr th {\n",
       "        vertical-align: top;\n",
       "    }\n",
       "\n",
       "    .dataframe thead th {\n",
       "        text-align: right;\n",
       "    }\n",
       "</style>\n",
       "<table border=\"1\" class=\"dataframe\">\n",
       "  <thead>\n",
       "    <tr style=\"text-align: right;\">\n",
       "      <th></th>\n",
       "      <th>region</th>\n",
       "      <th>area</th>\n",
       "      <th>timezone</th>\n",
       "      <th>lat</th>\n",
       "      <th>lon</th>\n",
       "      <th>popul_ru_clean</th>\n",
       "    </tr>\n",
       "  </thead>\n",
       "  <tbody>\n",
       "    <tr>\n",
       "      <th>0</th>\n",
       "      <td>Москва</td>\n",
       "      <td>NaN</td>\n",
       "      <td>UTC+3</td>\n",
       "      <td>55.753879</td>\n",
       "      <td>37.620373</td>\n",
       "      <td>11514330</td>\n",
       "    </tr>\n",
       "    <tr>\n",
       "      <th>1</th>\n",
       "      <td>Санкт-Петербург</td>\n",
       "      <td>NaN</td>\n",
       "      <td>UTC+3</td>\n",
       "      <td>59.939125</td>\n",
       "      <td>30.315822</td>\n",
       "      <td>4848742</td>\n",
       "    </tr>\n",
       "    <tr>\n",
       "      <th>2</th>\n",
       "      <td>Новосибирская</td>\n",
       "      <td>Новосибирск</td>\n",
       "      <td>UTC+7</td>\n",
       "      <td>55.028102</td>\n",
       "      <td>82.921058</td>\n",
       "      <td>1498921</td>\n",
       "    </tr>\n",
       "    <tr>\n",
       "      <th>3</th>\n",
       "      <td>Свердловская</td>\n",
       "      <td>Екатеринбург</td>\n",
       "      <td>UTC+5</td>\n",
       "      <td>56.838633</td>\n",
       "      <td>60.605489</td>\n",
       "      <td>1377738</td>\n",
       "    </tr>\n",
       "    <tr>\n",
       "      <th>4</th>\n",
       "      <td>Нижегородская</td>\n",
       "      <td>Нижний Новгород</td>\n",
       "      <td>UTC+3</td>\n",
       "      <td>56.324209</td>\n",
       "      <td>44.005395</td>\n",
       "      <td>1250615</td>\n",
       "    </tr>\n",
       "    <tr>\n",
       "      <th>72</th>\n",
       "      <td>Карелия</td>\n",
       "      <td>Петрозаводск</td>\n",
       "      <td>UTC+3</td>\n",
       "      <td>61.789090</td>\n",
       "      <td>34.359626</td>\n",
       "      <td>263540</td>\n",
       "    </tr>\n",
       "    <tr>\n",
       "      <th>73</th>\n",
       "      <td>Ростовская</td>\n",
       "      <td>Таганрог</td>\n",
       "      <td>UTC+3</td>\n",
       "      <td>47.209491</td>\n",
       "      <td>38.935154</td>\n",
       "      <td>257692</td>\n",
       "    </tr>\n",
       "    <tr>\n",
       "      <th>74</th>\n",
       "      <td>Ханты-Мансийский Автономный округ - Югра</td>\n",
       "      <td>Нижневартовск</td>\n",
       "      <td>UTC+5</td>\n",
       "      <td>60.939738</td>\n",
       "      <td>76.569621</td>\n",
       "      <td>251860</td>\n",
       "    </tr>\n",
       "    <tr>\n",
       "      <th>75</th>\n",
       "      <td>Марий Эл</td>\n",
       "      <td>Йошкар-Ола</td>\n",
       "      <td>UTC+3</td>\n",
       "      <td>56.634376</td>\n",
       "      <td>47.899845</td>\n",
       "      <td>248688</td>\n",
       "    </tr>\n",
       "    <tr>\n",
       "      <th>76</th>\n",
       "      <td>Иркутская</td>\n",
       "      <td>Братск</td>\n",
       "      <td>UTC+8</td>\n",
       "      <td>56.151395</td>\n",
       "      <td>101.633989</td>\n",
       "      <td>246348</td>\n",
       "    </tr>\n",
       "  </tbody>\n",
       "</table>\n",
       "</div>"
      ],
      "text/plain": [
       "                                      region             area timezone  \\\n",
       "0                                     Москва              NaN    UTC+3   \n",
       "1                            Санкт-Петербург              NaN    UTC+3   \n",
       "2                              Новосибирская      Новосибирск    UTC+7   \n",
       "3                               Свердловская     Екатеринбург    UTC+5   \n",
       "4                              Нижегородская  Нижний Новгород    UTC+3   \n",
       "72                                   Карелия     Петрозаводск    UTC+3   \n",
       "73                                Ростовская         Таганрог    UTC+3   \n",
       "74  Ханты-Мансийский Автономный округ - Югра    Нижневартовск    UTC+5   \n",
       "75                                  Марий Эл       Йошкар-Ола    UTC+3   \n",
       "76                                 Иркутская           Братск    UTC+8   \n",
       "\n",
       "         lat        lon  popul_ru_clean  \n",
       "0  55.753879  37.620373        11514330  \n",
       "1  59.939125  30.315822         4848742  \n",
       "2  55.028102  82.921058         1498921  \n",
       "3  56.838633  60.605489         1377738  \n",
       "4  56.324209  44.005395         1250615  \n",
       "72 61.789090  34.359626          263540  \n",
       "73 47.209491  38.935154          257692  \n",
       "74 60.939738  76.569621          251860  \n",
       "75 56.634376  47.899845          248688  \n",
       "76 56.151395 101.633989          246348  "
      ]
     },
     "execution_count": 31,
     "metadata": {},
     "output_type": "execute_result"
    }
   ],
   "source": [
    "# первые 5 и последние 5 записей урезанного до 77 городов датафрейма\n",
    "\n",
    "ru_77_cities.iloc[np.r_[0:5,-5:0]]"
   ]
  },
  {
   "cell_type": "code",
   "execution_count": 526,
   "id": "1e6a78bb-c56b-47a6-a1bc-37d06a9b4d28",
   "metadata": {},
   "outputs": [],
   "source": [
    "# ru_77_cities.isna().sum()"
   ]
  },
  {
   "cell_type": "code",
   "execution_count": 527,
   "id": "af9d8d3d-bb66-4af5-91fb-5b43a28e69d5",
   "metadata": {},
   "outputs": [],
   "source": [
    "# ru_77_cities[ru_77_cities.area.isna()]"
   ]
  },
  {
   "cell_type": "code",
   "execution_count": 524,
   "id": "13b15af9-d9ae-4a87-9a50-3553a3a05ff4",
   "metadata": {},
   "outputs": [],
   "source": [
    "# ru_77_cities[\"area\"] = ru_77_cities[\"area\"].fillna(ru_77_cities[\"region\"])"
   ]
  },
  {
   "cell_type": "code",
   "execution_count": 528,
   "id": "6d18a801-2759-48c4-a38c-409dd05810a5",
   "metadata": {},
   "outputs": [],
   "source": [
    "# ru_77_cities.isna().sum()"
   ]
  },
  {
   "cell_type": "code",
   "execution_count": 529,
   "id": "15544b8c-6a91-4961-ab3f-65f87cc35bf2",
   "metadata": {},
   "outputs": [
    {
     "data": {
      "text/html": [
       "<div>\n",
       "<style scoped>\n",
       "    .dataframe tbody tr th:only-of-type {\n",
       "        vertical-align: middle;\n",
       "    }\n",
       "\n",
       "    .dataframe tbody tr th {\n",
       "        vertical-align: top;\n",
       "    }\n",
       "\n",
       "    .dataframe thead th {\n",
       "        text-align: right;\n",
       "    }\n",
       "</style>\n",
       "<table border=\"1\" class=\"dataframe\">\n",
       "  <thead>\n",
       "    <tr style=\"text-align: right;\">\n",
       "      <th></th>\n",
       "      <th>region</th>\n",
       "      <th>area</th>\n",
       "      <th>timezone</th>\n",
       "      <th>lat</th>\n",
       "      <th>lon</th>\n",
       "      <th>popul_ru_clean</th>\n",
       "    </tr>\n",
       "  </thead>\n",
       "  <tbody>\n",
       "    <tr>\n",
       "      <th>0</th>\n",
       "      <td>Москва</td>\n",
       "      <td>Москва</td>\n",
       "      <td>UTC+3</td>\n",
       "      <td>55.753879</td>\n",
       "      <td>37.620373</td>\n",
       "      <td>11514330</td>\n",
       "    </tr>\n",
       "    <tr>\n",
       "      <th>1</th>\n",
       "      <td>Санкт-Петербург</td>\n",
       "      <td>Санкт-Петербург</td>\n",
       "      <td>UTC+3</td>\n",
       "      <td>59.939125</td>\n",
       "      <td>30.315822</td>\n",
       "      <td>4848742</td>\n",
       "    </tr>\n",
       "    <tr>\n",
       "      <th>2</th>\n",
       "      <td>Новосибирская</td>\n",
       "      <td>Новосибирск</td>\n",
       "      <td>UTC+7</td>\n",
       "      <td>55.028102</td>\n",
       "      <td>82.921058</td>\n",
       "      <td>1498921</td>\n",
       "    </tr>\n",
       "    <tr>\n",
       "      <th>3</th>\n",
       "      <td>Свердловская</td>\n",
       "      <td>Екатеринбург</td>\n",
       "      <td>UTC+5</td>\n",
       "      <td>56.838633</td>\n",
       "      <td>60.605489</td>\n",
       "      <td>1377738</td>\n",
       "    </tr>\n",
       "    <tr>\n",
       "      <th>4</th>\n",
       "      <td>Нижегородская</td>\n",
       "      <td>Нижний Новгород</td>\n",
       "      <td>UTC+3</td>\n",
       "      <td>56.324209</td>\n",
       "      <td>44.005395</td>\n",
       "      <td>1250615</td>\n",
       "    </tr>\n",
       "  </tbody>\n",
       "</table>\n",
       "</div>"
      ],
      "text/plain": [
       "            region             area timezone        lat        lon  \\\n",
       "0           Москва           Москва    UTC+3  55.753879  37.620373   \n",
       "1  Санкт-Петербург  Санкт-Петербург    UTC+3  59.939125  30.315822   \n",
       "2    Новосибирская      Новосибирск    UTC+7  55.028102  82.921058   \n",
       "3     Свердловская     Екатеринбург    UTC+5  56.838633  60.605489   \n",
       "4    Нижегородская  Нижний Новгород    UTC+3  56.324209  44.005395   \n",
       "\n",
       "   popul_ru_clean  \n",
       "0        11514330  \n",
       "1         4848742  \n",
       "2         1498921  \n",
       "3         1377738  \n",
       "4         1250615  "
      ]
     },
     "execution_count": 529,
     "metadata": {},
     "output_type": "execute_result"
    }
   ],
   "source": [
    "ru_77_cities.head()"
   ]
  },
  {
   "cell_type": "code",
   "execution_count": 37,
   "id": "7e238c31-c7cd-4b4b-a03b-acbc49aa0167",
   "metadata": {},
   "outputs": [
    {
     "data": {
      "text/plain": [
       "(77, 6)"
      ]
     },
     "execution_count": 37,
     "metadata": {},
     "output_type": "execute_result"
    }
   ],
   "source": [
    "# количество записей\n",
    "\n",
    "ru_77_cities.shape"
   ]
  },
  {
   "cell_type": "markdown",
   "id": "7100019d-64ff-4703-a31e-8d3826eb3ecf",
   "metadata": {},
   "source": [
    "# Сравнения профилей численности населения чешских районов и российских городов\n",
    "## Насколько подходит замена чешских районов на российские города?"
   ]
  },
  {
   "cell_type": "markdown",
   "id": "2b64c239-9de1-45b3-87d1-bffa60ce057a",
   "metadata": {},
   "source": [
    "### Сравним коэффиценты изменчивости численности населения для чешских районов и для российских городов\n",
    "\n",
    "Формула коэффициента: cv = standard deviation / mean * 100"
   ]
  },
  {
   "cell_type": "code",
   "execution_count": 38,
   "id": "b303e302-eaf1-4529-8737-00bc4b39abd8",
   "metadata": {},
   "outputs": [
    {
     "name": "stdout",
     "output_type": "stream",
     "text": [
      "Czech variability coefficient: 102.26%\n"
     ]
    }
   ],
   "source": [
    "cz_mean_pop = district_short.population.mean()\n",
    "cz_pop_std = district_short.population.std()\n",
    "czech_cv = cz_pop_std / cz_mean_pop * 100\n",
    "\n",
    "\n",
    "print(f\"\"\"Czech variability coefficient: {czech_cv:.2f}%\"\"\")"
   ]
  },
  {
   "cell_type": "code",
   "execution_count": 39,
   "id": "6d48cc27-2d01-4ec8-adb8-2b01904e85b4",
   "metadata": {},
   "outputs": [
    {
     "name": "stdout",
     "output_type": "stream",
     "text": [
      "Russian variability coefficient: 183.48%\n"
     ]
    }
   ],
   "source": [
    "ru_mean_pop = ru_77_cities.popul_ru_clean.mean()\n",
    "ru_pop_std = ru_77_cities.popul_ru_clean.std()\n",
    "\n",
    "ru_cv = ru_pop_std / ru_mean_pop * 100\n",
    "\n",
    "print(f\"\"\"Russian variability coefficient: {ru_cv:.2f}%\"\"\")"
   ]
  },
  {
   "cell_type": "code",
   "execution_count": 40,
   "id": "4e809992-0291-4ff7-9a0d-bbd4cc811891",
   "metadata": {},
   "outputs": [
    {
     "name": "stdout",
     "output_type": "stream",
     "text": [
      "Russian population cv is 1.79 times higher than czech cv\n"
     ]
    }
   ],
   "source": [
    "# во сколько раз российский коэффициент изменчивости больше чешского\n",
    "\n",
    "print(f\"\"\"Russian population cv is {ru_cv / czech_cv:.2f} times higher than czech cv\"\"\")"
   ]
  },
  {
   "cell_type": "markdown",
   "id": "bcf57f6f-4a5b-40cd-baea-90d939698c93",
   "metadata": {},
   "source": [
    "### Вывод по коэффициентам изменчивости\n",
    "В России отклонение от среднего почти в два раза больше чем Чехии"
   ]
  },
  {
   "cell_type": "markdown",
   "id": "b1359e77-ff78-4308-b349-ee71f9e39b76",
   "metadata": {},
   "source": [
    "#### Сравним процент населения от столицы в Чехии и России"
   ]
  },
  {
   "cell_type": "code",
   "execution_count": 41,
   "id": "abc2a23c-d72f-4f08-a11a-a759fe2680f3",
   "metadata": {},
   "outputs": [],
   "source": [
    "czech_pop_perc_from_max = district_short.population.div(district_short.population.max()).mul(100).round(2)"
   ]
  },
  {
   "cell_type": "code",
   "execution_count": 42,
   "id": "0f80497f-bc4a-4e3f-b296-590f208053a7",
   "metadata": {},
   "outputs": [],
   "source": [
    "ru_pop_perc_from_max = ru_77_cities.popul_ru_clean.div(ru_77_cities.popul_ru_clean.max()).mul(100).round(2)"
   ]
  },
  {
   "cell_type": "code",
   "execution_count": 43,
   "id": "bc330b6a-fbf0-4b57-a9a5-910335226d87",
   "metadata": {},
   "outputs": [
    {
     "data": {
      "text/html": [
       "<div>\n",
       "<style scoped>\n",
       "    .dataframe tbody tr th:only-of-type {\n",
       "        vertical-align: middle;\n",
       "    }\n",
       "\n",
       "    .dataframe tbody tr th {\n",
       "        vertical-align: top;\n",
       "    }\n",
       "\n",
       "    .dataframe thead th {\n",
       "        text-align: right;\n",
       "    }\n",
       "</style>\n",
       "<table border=\"1\" class=\"dataframe\">\n",
       "  <thead>\n",
       "    <tr style=\"text-align: right;\">\n",
       "      <th></th>\n",
       "      <th>pop_perc_cz</th>\n",
       "      <th>pop_perc_ru</th>\n",
       "    </tr>\n",
       "  </thead>\n",
       "  <tbody>\n",
       "    <tr>\n",
       "      <th>1</th>\n",
       "      <td>32.160000</td>\n",
       "      <td>42.110000</td>\n",
       "    </tr>\n",
       "    <tr>\n",
       "      <th>2</th>\n",
       "      <td>26.880000</td>\n",
       "      <td>13.020000</td>\n",
       "    </tr>\n",
       "    <tr>\n",
       "      <th>3</th>\n",
       "      <td>23.680000</td>\n",
       "      <td>11.970000</td>\n",
       "    </tr>\n",
       "    <tr>\n",
       "      <th>4</th>\n",
       "      <td>18.990000</td>\n",
       "      <td>10.860000</td>\n",
       "    </tr>\n",
       "    <tr>\n",
       "      <th>5</th>\n",
       "      <td>18.770000</td>\n",
       "      <td>10.570000</td>\n",
       "    </tr>\n",
       "  </tbody>\n",
       "</table>\n",
       "</div>"
      ],
      "text/plain": [
       "   pop_perc_cz  pop_perc_ru\n",
       "1    32.160000    42.110000\n",
       "2    26.880000    13.020000\n",
       "3    23.680000    11.970000\n",
       "4    18.990000    10.860000\n",
       "5    18.770000    10.570000"
      ]
     },
     "execution_count": 43,
     "metadata": {},
     "output_type": "execute_result"
    }
   ],
   "source": [
    "pop_perc_from_capital = pd.concat([czech_pop_perc_from_max, ru_pop_perc_from_max], axis=1) \\\n",
    "                                .rename(columns={\"population\":\"pop_perc_cz\",\"popul_ru_clean\":\"pop_perc_ru\"}) \\\n",
    "                                .query(\"pop_perc_cz < 100 and pop_perc_ru < 100\")\n",
    "pop_perc_from_capital.head()"
   ]
  },
  {
   "cell_type": "markdown",
   "id": "1f49d01e-455c-4108-b254-ec2dca0708bf",
   "metadata": {},
   "source": [
    "#### Посмотрим на графике"
   ]
  },
  {
   "cell_type": "code",
   "execution_count": 44,
   "id": "4b8c1476-420a-4b48-900f-4b00990e5346",
   "metadata": {
    "scrolled": true
   },
   "outputs": [
    {
     "data": {
      "text/plain": [
       "''"
      ]
     },
     "execution_count": 44,
     "metadata": {},
     "output_type": "execute_result"
    },
    {
     "data": {
      "image/png": "[encoded data removed]",
      "text/plain": [
       "<Figure size 640x480 with 1 Axes>"
      ]
     },
     "metadata": {},
     "output_type": "display_data"
    }
   ],
   "source": [
    "fig, ax = plt.subplots()\n",
    "\n",
    "sns.lineplot(data=pop_perc_from_capital, x=pop_perc_from_capital.index, y=\"pop_perc_cz\", label=\"Czechia\", color=\"red\", ax=ax)\n",
    "sns.lineplot(data=pop_perc_from_capital, x=pop_perc_from_capital.index, y=\"pop_perc_ru\", label=\"Russia\", color=\"steelblue\", ax=ax)\n",
    "ax.grid(which=\"both\")\n",
    "ax.set_title(\"Cities population percentage from capital city\", pad=20)\n",
    "ax.set_xlabel(\"City index\")\n",
    "ax.set_ylabel(\"Population percent\")\n",
    "\n",
    ";"
   ]
  },
  {
   "cell_type": "markdown",
   "id": "de0e6cf3-b8cf-48c9-879a-9a6e992f60a6",
   "metadata": {},
   "source": [
    "### Вывод по проценту населения относительно столицы\n",
    "В России он меньше, кроме первого города в сравнении - С.Петербурга<br>\n",
    "Но динамика в целом схожа. Так что остановимся на выборе российских городов для замены в датасете.\n"
   ]
  },
  {
   "cell_type": "markdown",
   "id": "c08b943d-b791-44bb-a15f-1c37a58dfa05",
   "metadata": {},
   "source": [
    "# Замена чешских районов на российские города"
   ]
  },
  {
   "cell_type": "code",
   "execution_count": 45,
   "id": "42460505-c13f-43ea-9b7c-b490bbf9e9af",
   "metadata": {},
   "outputs": [],
   "source": [
    "district_ru = ru_77_cities.copy()"
   ]
  },
  {
   "cell_type": "code",
   "execution_count": 46,
   "id": "a655c900-d4a2-44fb-925e-3b7d6eb370ef",
   "metadata": {},
   "outputs": [
    {
     "data": {
      "text/html": [
       "<div>\n",
       "<style scoped>\n",
       "    .dataframe tbody tr th:only-of-type {\n",
       "        vertical-align: middle;\n",
       "    }\n",
       "\n",
       "    .dataframe tbody tr th {\n",
       "        vertical-align: top;\n",
       "    }\n",
       "\n",
       "    .dataframe thead th {\n",
       "        text-align: right;\n",
       "    }\n",
       "</style>\n",
       "<table border=\"1\" class=\"dataframe\">\n",
       "  <thead>\n",
       "    <tr style=\"text-align: right;\">\n",
       "      <th></th>\n",
       "      <th>district_code</th>\n",
       "      <th>district_name</th>\n",
       "      <th>region</th>\n",
       "      <th>population</th>\n",
       "      <th>district_id</th>\n",
       "      <th>clients</th>\n",
       "    </tr>\n",
       "  </thead>\n",
       "  <tbody>\n",
       "    <tr>\n",
       "      <th>0</th>\n",
       "      <td>1</td>\n",
       "      <td>Hl.m. Praha</td>\n",
       "      <td>Prague</td>\n",
       "      <td>1204953</td>\n",
       "      <td>1</td>\n",
       "      <td>663</td>\n",
       "    </tr>\n",
       "    <tr>\n",
       "      <th>1</th>\n",
       "      <td>74</td>\n",
       "      <td>Ostrava - mesto</td>\n",
       "      <td>north Moravia</td>\n",
       "      <td>323870</td>\n",
       "      <td>74</td>\n",
       "      <td>180</td>\n",
       "    </tr>\n",
       "    <tr>\n",
       "      <th>2</th>\n",
       "      <td>70</td>\n",
       "      <td>Karvina</td>\n",
       "      <td>north Moravia</td>\n",
       "      <td>285387</td>\n",
       "      <td>70</td>\n",
       "      <td>169</td>\n",
       "    </tr>\n",
       "    <tr>\n",
       "      <th>3</th>\n",
       "      <td>54</td>\n",
       "      <td>Brno - mesto</td>\n",
       "      <td>south Moravia</td>\n",
       "      <td>387570</td>\n",
       "      <td>54</td>\n",
       "      <td>155</td>\n",
       "    </tr>\n",
       "    <tr>\n",
       "      <th>4</th>\n",
       "      <td>64</td>\n",
       "      <td>Zlin</td>\n",
       "      <td>south Moravia</td>\n",
       "      <td>197099</td>\n",
       "      <td>64</td>\n",
       "      <td>109</td>\n",
       "    </tr>\n",
       "    <tr>\n",
       "      <th>72</th>\n",
       "      <td>12</td>\n",
       "      <td>Pribram</td>\n",
       "      <td>central Bohemia</td>\n",
       "      <td>107870</td>\n",
       "      <td>12</td>\n",
       "      <td>44</td>\n",
       "    </tr>\n",
       "    <tr>\n",
       "      <th>73</th>\n",
       "      <td>65</td>\n",
       "      <td>Znojmo</td>\n",
       "      <td>south Moravia</td>\n",
       "      <td>114200</td>\n",
       "      <td>65</td>\n",
       "      <td>44</td>\n",
       "    </tr>\n",
       "    <tr>\n",
       "      <th>74</th>\n",
       "      <td>58</td>\n",
       "      <td>Jihlava</td>\n",
       "      <td>south Moravia</td>\n",
       "      <td>109164</td>\n",
       "      <td>58</td>\n",
       "      <td>44</td>\n",
       "    </tr>\n",
       "    <tr>\n",
       "      <th>75</th>\n",
       "      <td>24</td>\n",
       "      <td>Karlovy Vary</td>\n",
       "      <td>west Bohemia</td>\n",
       "      <td>122603</td>\n",
       "      <td>24</td>\n",
       "      <td>43</td>\n",
       "    </tr>\n",
       "    <tr>\n",
       "      <th>76</th>\n",
       "      <td>20</td>\n",
       "      <td>Strakonice</td>\n",
       "      <td>south Bohemia</td>\n",
       "      <td>70646</td>\n",
       "      <td>20</td>\n",
       "      <td>43</td>\n",
       "    </tr>\n",
       "  </tbody>\n",
       "</table>\n",
       "</div>"
      ],
      "text/plain": [
       "    district_code    district_name           region  population  district_id  \\\n",
       "0               1      Hl.m. Praha           Prague     1204953            1   \n",
       "1              74  Ostrava - mesto    north Moravia      323870           74   \n",
       "2              70          Karvina    north Moravia      285387           70   \n",
       "3              54     Brno - mesto    south Moravia      387570           54   \n",
       "4              64             Zlin    south Moravia      197099           64   \n",
       "72             12          Pribram  central Bohemia      107870           12   \n",
       "73             65           Znojmo    south Moravia      114200           65   \n",
       "74             58          Jihlava    south Moravia      109164           58   \n",
       "75             24     Karlovy Vary     west Bohemia      122603           24   \n",
       "76             20       Strakonice    south Bohemia       70646           20   \n",
       "\n",
       "    clients  \n",
       "0       663  \n",
       "1       180  \n",
       "2       169  \n",
       "3       155  \n",
       "4       109  \n",
       "72       44  \n",
       "73       44  \n",
       "74       44  \n",
       "75       43  \n",
       "76       43  "
      ]
     },
     "execution_count": 46,
     "metadata": {},
     "output_type": "execute_result"
    }
   ],
   "source": [
    "# отсортируем district_short по количеству клиентов в районе, по убыванию. \n",
    "# Чтобы у нас в дальнейшей замене динамика населения городов России совпадала с количеством клиентов в городах\n",
    "\n",
    "district_short = district_short.sort_values(\"clients\", ascending=False).reset_index(drop=True)\n",
    "district_short.iloc[np.r_[0:5,-5:0]] # первые 5 и последние 5 записей"
   ]
  },
  {
   "cell_type": "code",
   "execution_count": 47,
   "id": "7c35b642-e92e-49a7-a3c3-662e4ff9e2da",
   "metadata": {},
   "outputs": [],
   "source": [
    "# district_ru.drop(columns=[\"district_code\",\"clients\"] , inplace=True)"
   ]
  },
  {
   "cell_type": "code",
   "execution_count": 48,
   "id": "aa476594-ca02-4caf-a048-f1d649239504",
   "metadata": {},
   "outputs": [],
   "source": [
    "# просто берем отсортированные по количеству клиентов коды районов и добавляем в датафрейм с российскими городами\n",
    "\n",
    "district_ru[\"district_code\"] = district_short.district_code"
   ]
  },
  {
   "cell_type": "code",
   "execution_count": 49,
   "id": "1ea60bb8-8415-409a-8433-13b9bbb1a402",
   "metadata": {},
   "outputs": [],
   "source": [
    "# количество колонок в district_ru\n",
    "district_ru_col_number = district_ru.shape[1]"
   ]
  },
  {
   "cell_type": "code",
   "execution_count": 50,
   "id": "3979fd80-a027-484f-bbcf-4c5d4088341d",
   "metadata": {},
   "outputs": [],
   "source": [
    "# переставим добавленную колонку district_code в начало\n",
    "# для этого создадим список с желаемыми позициями колонок. последняя позиция + список позиций с 0 до предпоследней\n",
    "dist_cols_reorder = [-1] + list(range(district_ru.shape[1] - 1))\n",
    "district_ru = district_ru.iloc[:,dist_cols_reorder].copy()"
   ]
  },
  {
   "cell_type": "code",
   "execution_count": 51,
   "id": "131198c2-f699-4fbc-8bf1-627698c39d08",
   "metadata": {},
   "outputs": [
    {
     "name": "stdout",
     "output_type": "stream",
     "text": [
      "Initial cols and current cols number are identical:\n",
      "Initial cols shape: 7\n",
      "Current cols shape: 7\n"
     ]
    }
   ],
   "source": [
    "# Сверим количество колонок после перестановки\n",
    "\n",
    "if district_ru_col_number > district_ru.shape[1]:\n",
    "    raise ValueError(f\"\"\"Initial cols number is bigger than current cols number for district_ru:\n",
    "Initial cols shape: {district_ru_col_number}\n",
    "Current cols shape: {district_ru.shape[1]}\"\"\")\n",
    "\n",
    "elif district_ru_col_number < district_ru.shape[1]:\n",
    "    raise ValueError(f\"\"\"Initial cols number is less than current cols number for district_ru:\n",
    "Initial cols shape: {district_ru_col_number}\n",
    "Current cols shape: {district_ru.shape[1]}\"\"\")  \n",
    "\n",
    "else:\n",
    "    print(f\"\"\"Initial cols and current cols number are identical:\n",
    "Initial cols shape: {district_ru_col_number}\n",
    "Current cols shape: {district_ru.shape[1]}\"\"\") \n",
    "    "
   ]
  },
  {
   "cell_type": "code",
   "execution_count": 55,
   "id": "fc96b3a6-4e96-4cdd-a57d-bdf7826dd9ca",
   "metadata": {},
   "outputs": [],
   "source": [
    "# добавим также количество клиентов.\n",
    "\n",
    "district_ru[\"clients\"] = district_short.clients"
   ]
  },
  {
   "cell_type": "code",
   "execution_count": 53,
   "id": "ab220c9a-e9f1-47c7-a75c-330e058d610e",
   "metadata": {},
   "outputs": [],
   "source": [
    "# переименуем popul_ru_clean\n",
    "\n",
    "district_ru = district_ru.rename(columns={\"popul_ru_clean\":\"population\"})"
   ]
  },
  {
   "cell_type": "code",
   "execution_count": 56,
   "id": "b2c3c093-5890-45d4-95d3-e263db1fde0e",
   "metadata": {},
   "outputs": [
    {
     "data": {
      "text/html": [
       "<div>\n",
       "<style scoped>\n",
       "    .dataframe tbody tr th:only-of-type {\n",
       "        vertical-align: middle;\n",
       "    }\n",
       "\n",
       "    .dataframe tbody tr th {\n",
       "        vertical-align: top;\n",
       "    }\n",
       "\n",
       "    .dataframe thead th {\n",
       "        text-align: right;\n",
       "    }\n",
       "</style>\n",
       "<table border=\"1\" class=\"dataframe\">\n",
       "  <thead>\n",
       "    <tr style=\"text-align: right;\">\n",
       "      <th></th>\n",
       "      <th>district_code</th>\n",
       "      <th>region</th>\n",
       "      <th>area</th>\n",
       "      <th>timezone</th>\n",
       "      <th>lat</th>\n",
       "      <th>lon</th>\n",
       "      <th>population</th>\n",
       "      <th>clients</th>\n",
       "    </tr>\n",
       "  </thead>\n",
       "  <tbody>\n",
       "    <tr>\n",
       "      <th>0</th>\n",
       "      <td>1</td>\n",
       "      <td>Москва</td>\n",
       "      <td>Москва</td>\n",
       "      <td>UTC+3</td>\n",
       "      <td>55.753879</td>\n",
       "      <td>37.620373</td>\n",
       "      <td>11514330</td>\n",
       "      <td>663</td>\n",
       "    </tr>\n",
       "    <tr>\n",
       "      <th>1</th>\n",
       "      <td>74</td>\n",
       "      <td>Санкт-Петербург</td>\n",
       "      <td>Санкт-Петербург</td>\n",
       "      <td>UTC+3</td>\n",
       "      <td>59.939125</td>\n",
       "      <td>30.315822</td>\n",
       "      <td>4848742</td>\n",
       "      <td>180</td>\n",
       "    </tr>\n",
       "    <tr>\n",
       "      <th>2</th>\n",
       "      <td>70</td>\n",
       "      <td>Новосибирская</td>\n",
       "      <td>Новосибирск</td>\n",
       "      <td>UTC+7</td>\n",
       "      <td>55.028102</td>\n",
       "      <td>82.921058</td>\n",
       "      <td>1498921</td>\n",
       "      <td>169</td>\n",
       "    </tr>\n",
       "    <tr>\n",
       "      <th>3</th>\n",
       "      <td>54</td>\n",
       "      <td>Свердловская</td>\n",
       "      <td>Екатеринбург</td>\n",
       "      <td>UTC+5</td>\n",
       "      <td>56.838633</td>\n",
       "      <td>60.605489</td>\n",
       "      <td>1377738</td>\n",
       "      <td>155</td>\n",
       "    </tr>\n",
       "    <tr>\n",
       "      <th>4</th>\n",
       "      <td>64</td>\n",
       "      <td>Нижегородская</td>\n",
       "      <td>Нижний Новгород</td>\n",
       "      <td>UTC+3</td>\n",
       "      <td>56.324209</td>\n",
       "      <td>44.005395</td>\n",
       "      <td>1250615</td>\n",
       "      <td>109</td>\n",
       "    </tr>\n",
       "    <tr>\n",
       "      <th>72</th>\n",
       "      <td>12</td>\n",
       "      <td>Карелия</td>\n",
       "      <td>Петрозаводск</td>\n",
       "      <td>UTC+3</td>\n",
       "      <td>61.789090</td>\n",
       "      <td>34.359626</td>\n",
       "      <td>263540</td>\n",
       "      <td>44</td>\n",
       "    </tr>\n",
       "    <tr>\n",
       "      <th>73</th>\n",
       "      <td>65</td>\n",
       "      <td>Ростовская</td>\n",
       "      <td>Таганрог</td>\n",
       "      <td>UTC+3</td>\n",
       "      <td>47.209491</td>\n",
       "      <td>38.935154</td>\n",
       "      <td>257692</td>\n",
       "      <td>44</td>\n",
       "    </tr>\n",
       "    <tr>\n",
       "      <th>74</th>\n",
       "      <td>58</td>\n",
       "      <td>Ханты-Мансийский Автономный округ - Югра</td>\n",
       "      <td>Нижневартовск</td>\n",
       "      <td>UTC+5</td>\n",
       "      <td>60.939738</td>\n",
       "      <td>76.569621</td>\n",
       "      <td>251860</td>\n",
       "      <td>44</td>\n",
       "    </tr>\n",
       "    <tr>\n",
       "      <th>75</th>\n",
       "      <td>24</td>\n",
       "      <td>Марий Эл</td>\n",
       "      <td>Йошкар-Ола</td>\n",
       "      <td>UTC+3</td>\n",
       "      <td>56.634376</td>\n",
       "      <td>47.899845</td>\n",
       "      <td>248688</td>\n",
       "      <td>43</td>\n",
       "    </tr>\n",
       "    <tr>\n",
       "      <th>76</th>\n",
       "      <td>20</td>\n",
       "      <td>Иркутская</td>\n",
       "      <td>Братск</td>\n",
       "      <td>UTC+8</td>\n",
       "      <td>56.151395</td>\n",
       "      <td>101.633989</td>\n",
       "      <td>246348</td>\n",
       "      <td>43</td>\n",
       "    </tr>\n",
       "  </tbody>\n",
       "</table>\n",
       "</div>"
      ],
      "text/plain": [
       "    district_code                                    region             area  \\\n",
       "0               1                                    Москва           Москва   \n",
       "1              74                           Санкт-Петербург  Санкт-Петербург   \n",
       "2              70                             Новосибирская      Новосибирск   \n",
       "3              54                              Свердловская     Екатеринбург   \n",
       "4              64                             Нижегородская  Нижний Новгород   \n",
       "72             12                                   Карелия     Петрозаводск   \n",
       "73             65                                Ростовская         Таганрог   \n",
       "74             58  Ханты-Мансийский Автономный округ - Югра    Нижневартовск   \n",
       "75             24                                  Марий Эл       Йошкар-Ола   \n",
       "76             20                                 Иркутская           Братск   \n",
       "\n",
       "   timezone       lat        lon  population  clients  \n",
       "0     UTC+3 55.753879  37.620373    11514330      663  \n",
       "1     UTC+3 59.939125  30.315822     4848742      180  \n",
       "2     UTC+7 55.028102  82.921058     1498921      169  \n",
       "3     UTC+5 56.838633  60.605489     1377738      155  \n",
       "4     UTC+3 56.324209  44.005395     1250615      109  \n",
       "72    UTC+3 61.789090  34.359626      263540       44  \n",
       "73    UTC+3 47.209491  38.935154      257692       44  \n",
       "74    UTC+5 60.939738  76.569621      251860       44  \n",
       "75    UTC+3 56.634376  47.899845      248688       43  \n",
       "76    UTC+8 56.151395 101.633989      246348       43  "
      ]
     },
     "execution_count": 56,
     "metadata": {},
     "output_type": "execute_result"
    }
   ],
   "source": [
    "district_ru.iloc[np.r_[0:5, -5:0]] # первые 5 и последние 5 записей"
   ]
  },
  {
   "cell_type": "code",
   "execution_count": 57,
   "id": "b44e71b0-bf2b-428d-9df3-15e6c3212fee",
   "metadata": {},
   "outputs": [
    {
     "data": {
      "text/plain": [
       "(77, 8)"
      ]
     },
     "execution_count": 57,
     "metadata": {},
     "output_type": "execute_result"
    }
   ],
   "source": [
    "# проверим форму district_ru после всех изменений\n",
    "\n",
    "district_ru.shape"
   ]
  },
  {
   "cell_type": "code",
   "execution_count": 147,
   "id": "50223e31-c0bc-4ea9-82ea-610d4e4bf4bd",
   "metadata": {},
   "outputs": [],
   "source": [
    "# os.chdir(r\"C:\\Users\\iaros\\My_documents\\Education\\projects\\fraud_detection_01\")"
   ]
  },
  {
   "cell_type": "code",
   "execution_count": 145,
   "id": "fecf7313-d4ed-45df-85af-936ef607e39a",
   "metadata": {},
   "outputs": [],
   "source": [
    "# dir = r\"C:\\Users\\iaros\\My_documents\\Education\\projects\\fraud_detection_01\\data\\raw_data\\geo\\\\\"\n",
    "# os.chdir(dir)\n",
    "# files_1 = os.listdir(dir)\n",
    "# i = 1\n",
    "\n",
    "# for file in files_1:\n",
    "#     new_name = \"0\" + str(i) + re.search(r\"\\D+\", file).group()\n",
    "#     os.rename(file, new_name)\n",
    "#     print(new_name)\n",
    "#     i += 1\n",
    "    "
   ]
  },
  {
   "cell_type": "markdown",
   "id": "a32fa09c-cf00-4dbe-882f-5c7b1bce9b89",
   "metadata": {},
   "source": [
    "# Работа с сырыми геоданными"
   ]
  },
  {
   "cell_type": "code",
   "execution_count": 59,
   "id": "7a44670d-f8c4-4867-9467-7edb4f75b404",
   "metadata": {},
   "outputs": [
    {
     "data": {
      "text/plain": [
       "['01_central_ru.cpg',\n",
       " '01_central_ru.dbf',\n",
       " '01_central_ru.prj',\n",
       " '01_central_ru.shp',\n",
       " '01_central_ru.shx']"
      ]
     },
     "execution_count": 59,
     "metadata": {},
     "output_type": "execute_result"
    }
   ],
   "source": [
    "geo_files = os.listdir(\"./data/raw_data/geo/\")\n",
    "geo_files[:5]"
   ]
  },
  {
   "cell_type": "code",
   "execution_count": 60,
   "id": "9685d5a0-65be-429e-96c0-59ffed57bb78",
   "metadata": {},
   "outputs": [
    {
     "data": {
      "text/plain": [
       "['01_central_ru.shp',\n",
       " '02_crimea_ru.shp',\n",
       " '03_far_east_ru.shp',\n",
       " '04_caucasus_ru.shp',\n",
       " '05_northwest_ru.shp',\n",
       " '06_siberia_ru.shp',\n",
       " '07_south_ru.shp',\n",
       " '08_ural_ru.shp',\n",
       " '09_volga_ru.shp']"
      ]
     },
     "execution_count": 60,
     "metadata": {},
     "output_type": "execute_result"
    }
   ],
   "source": [
    "[file for file in geo_files if re.match(r\".+\\.shp\", file)]"
   ]
  },
  {
   "cell_type": "markdown",
   "id": "fc37b388-3f17-4fa6-9958-2537c878e032",
   "metadata": {},
   "source": [
    "## Загрузка геоданных\n",
    "города и их геополигоны (координаты границ)"
   ]
  },
  {
   "cell_type": "code",
   "execution_count": 61,
   "id": "8f1b392d-a6f4-48dd-b130-6a7b5bfedc6d",
   "metadata": {},
   "outputs": [],
   "source": [
    "ru_cities_tentative = pd.concat([gpd.read_file(f\"./data/raw_data/geo/{file}\") \\\n",
    "                       .query(\"fclass =='city' or fclass =='town'\") for file in geo_files if re.match(r\".+\\.shp\", file)], \\\n",
    "                     ignore_index=True)"
   ]
  },
  {
   "cell_type": "code",
   "execution_count": 62,
   "id": "7c213e5c-89b6-4878-be70-1576b84e1ea8",
   "metadata": {},
   "outputs": [],
   "source": [
    "# сузим данные, отфильтровав по именам городов из district_ru\n",
    "\n",
    "ru_cities_tent_subset = ru_cities_tentative.loc[ru_cities_tentative.name.isin(district_ru.area)]\n"
   ]
  },
  {
   "cell_type": "code",
   "execution_count": 63,
   "id": "4d69c55a-745b-469b-aaac-fa80dcfff9a8",
   "metadata": {
    "scrolled": true
   },
   "outputs": [
    {
     "data": {
      "text/html": [
       "<div>\n",
       "<style scoped>\n",
       "    .dataframe tbody tr th:only-of-type {\n",
       "        vertical-align: middle;\n",
       "    }\n",
       "\n",
       "    .dataframe tbody tr th {\n",
       "        vertical-align: top;\n",
       "    }\n",
       "\n",
       "    .dataframe thead th {\n",
       "        text-align: right;\n",
       "    }\n",
       "</style>\n",
       "<table border=\"1\" class=\"dataframe\">\n",
       "  <thead>\n",
       "    <tr style=\"text-align: right;\">\n",
       "      <th></th>\n",
       "      <th>osm_id</th>\n",
       "      <th>code</th>\n",
       "      <th>fclass</th>\n",
       "      <th>population</th>\n",
       "      <th>name</th>\n",
       "      <th>geometry</th>\n",
       "    </tr>\n",
       "  </thead>\n",
       "  <tbody>\n",
       "    <tr>\n",
       "      <th>300</th>\n",
       "      <td>3401282</td>\n",
       "      <td>1002</td>\n",
       "      <td>town</td>\n",
       "      <td>0</td>\n",
       "      <td>Киров</td>\n",
       "      <td>POLYGON ((34.22729 54.09437, 34.23057 54.09479...</td>\n",
       "    </tr>\n",
       "    <tr>\n",
       "      <th>2671</th>\n",
       "      <td>2383150</td>\n",
       "      <td>1001</td>\n",
       "      <td>city</td>\n",
       "      <td>521091</td>\n",
       "      <td>Киров</td>\n",
       "      <td>MULTIPOLYGON (((49.34343 58.4958, 49.34606 58....</td>\n",
       "    </tr>\n",
       "  </tbody>\n",
       "</table>\n",
       "</div>"
      ],
      "text/plain": [
       "       osm_id  code fclass  population   name  \\\n",
       "300   3401282  1002   town           0  Киров   \n",
       "2671  2383150  1001   city      521091  Киров   \n",
       "\n",
       "                                               geometry  \n",
       "300   POLYGON ((34.22729 54.09437, 34.23057 54.09479...  \n",
       "2671  MULTIPOLYGON (((49.34343 58.4958, 49.34606 58....  "
      ]
     },
     "execution_count": 63,
     "metadata": {},
     "output_type": "execute_result"
    }
   ],
   "source": [
    "# проверка на одинаковые названия городов\n",
    "\n",
    "ru_cities_tent_subset[ru_cities_tent_subset.duplicated(\"name\", keep=False)]"
   ]
  },
  {
   "cell_type": "code",
   "execution_count": 64,
   "id": "9372b78a-1940-4fa9-aed7-7d16737c23b7",
   "metadata": {},
   "outputs": [
    {
     "data": {
      "text/html": [
       "<div>\n",
       "<style scoped>\n",
       "    .dataframe tbody tr th:only-of-type {\n",
       "        vertical-align: middle;\n",
       "    }\n",
       "\n",
       "    .dataframe tbody tr th {\n",
       "        vertical-align: top;\n",
       "    }\n",
       "\n",
       "    .dataframe thead th {\n",
       "        text-align: right;\n",
       "    }\n",
       "</style>\n",
       "<table border=\"1\" class=\"dataframe\">\n",
       "  <thead>\n",
       "    <tr style=\"text-align: right;\">\n",
       "      <th></th>\n",
       "      <th>osm_id</th>\n",
       "      <th>code</th>\n",
       "      <th>fclass</th>\n",
       "      <th>population</th>\n",
       "      <th>name</th>\n",
       "      <th>geometry</th>\n",
       "    </tr>\n",
       "  </thead>\n",
       "  <tbody>\n",
       "    <tr>\n",
       "      <th>242</th>\n",
       "      <td>930950</td>\n",
       "      <td>1001</td>\n",
       "      <td>city</td>\n",
       "      <td>425000</td>\n",
       "      <td>Тверь</td>\n",
       "      <td>MULTIPOLYGON (((35.72142 56.83594, 35.72156 56...</td>\n",
       "    </tr>\n",
       "    <tr>\n",
       "      <th>315</th>\n",
       "      <td>3134925</td>\n",
       "      <td>1001</td>\n",
       "      <td>city</td>\n",
       "      <td>503216</td>\n",
       "      <td>Липецк</td>\n",
       "      <td>MULTIPOLYGON (((39.37977 52.62677, 39.38317 52...</td>\n",
       "    </tr>\n",
       "    <tr>\n",
       "      <th>388</th>\n",
       "      <td>389790</td>\n",
       "      <td>1001</td>\n",
       "      <td>city</td>\n",
       "      <td>401505</td>\n",
       "      <td>Иваново</td>\n",
       "      <td>POLYGON ((40.86788 56.99265, 40.87023 56.99384...</td>\n",
       "    </tr>\n",
       "    <tr>\n",
       "      <th>432</th>\n",
       "      <td>3348896</td>\n",
       "      <td>1001</td>\n",
       "      <td>city</td>\n",
       "      <td>449556</td>\n",
       "      <td>Курск</td>\n",
       "      <td>POLYGON ((36.0603 51.67692, 36.06039 51.67947,...</td>\n",
       "    </tr>\n",
       "    <tr>\n",
       "      <th>438</th>\n",
       "      <td>1991003</td>\n",
       "      <td>1001</td>\n",
       "      <td>city</td>\n",
       "      <td>352347</td>\n",
       "      <td>Владимир</td>\n",
       "      <td>MULTIPOLYGON (((40.16496 56.12132, 40.16772 56...</td>\n",
       "    </tr>\n",
       "  </tbody>\n",
       "</table>\n",
       "</div>"
      ],
      "text/plain": [
       "      osm_id  code fclass  population      name  \\\n",
       "242   930950  1001   city      425000     Тверь   \n",
       "315  3134925  1001   city      503216    Липецк   \n",
       "388   389790  1001   city      401505   Иваново   \n",
       "432  3348896  1001   city      449556     Курск   \n",
       "438  1991003  1001   city      352347  Владимир   \n",
       "\n",
       "                                              geometry  \n",
       "242  MULTIPOLYGON (((35.72142 56.83594, 35.72156 56...  \n",
       "315  MULTIPOLYGON (((39.37977 52.62677, 39.38317 52...  \n",
       "388  POLYGON ((40.86788 56.99265, 40.87023 56.99384...  \n",
       "432  POLYGON ((36.0603 51.67692, 36.06039 51.67947,...  \n",
       "438  MULTIPOLYGON (((40.16496 56.12132, 40.16772 56...  "
      ]
     },
     "execution_count": 64,
     "metadata": {},
     "output_type": "execute_result"
    }
   ],
   "source": [
    "# Удалим дубликаты. Ставим флаг keep='last', чтобы оставить последний из дубликатов\n",
    "\n",
    "ru_cities_tent_subset = ru_cities_tent_subset.drop_duplicates(subset=\"name\", keep='last')\n",
    "\n",
    "ru_cities_tent_subset.head()"
   ]
  },
  {
   "cell_type": "code",
   "execution_count": 65,
   "id": "08782aae-3b42-4914-8638-22acd2f60795",
   "metadata": {},
   "outputs": [
    {
     "data": {
      "text/plain": [
       "(76, 6)"
      ]
     },
     "execution_count": 65,
     "metadata": {},
     "output_type": "execute_result"
    }
   ],
   "source": [
    "# проверим форму датафрейма\n",
    "\n",
    "ru_cities_tent_subset.shape"
   ]
  },
  {
   "cell_type": "markdown",
   "id": "a590a1b5-f89c-4ba2-ab59-6a94eca04b70",
   "metadata": {},
   "source": [
    "#### Не хватает одного города, должно быть 77. Проверим какого"
   ]
  },
  {
   "cell_type": "code",
   "execution_count": 66,
   "id": "2d5bc3b6-ebad-4b67-b81a-d5c38aef6854",
   "metadata": {},
   "outputs": [
    {
     "data": {
      "text/html": [
       "<div>\n",
       "<style scoped>\n",
       "    .dataframe tbody tr th:only-of-type {\n",
       "        vertical-align: middle;\n",
       "    }\n",
       "\n",
       "    .dataframe tbody tr th {\n",
       "        vertical-align: top;\n",
       "    }\n",
       "\n",
       "    .dataframe thead th {\n",
       "        text-align: right;\n",
       "    }\n",
       "</style>\n",
       "<table border=\"1\" class=\"dataframe\">\n",
       "  <thead>\n",
       "    <tr style=\"text-align: right;\">\n",
       "      <th></th>\n",
       "      <th>district_code</th>\n",
       "      <th>region</th>\n",
       "      <th>area</th>\n",
       "      <th>timezone</th>\n",
       "      <th>lat</th>\n",
       "      <th>lon</th>\n",
       "      <th>population</th>\n",
       "      <th>clients</th>\n",
       "    </tr>\n",
       "  </thead>\n",
       "  <tbody>\n",
       "    <tr>\n",
       "      <th>25</th>\n",
       "      <td>51</td>\n",
       "      <td>Дагестан</td>\n",
       "      <td>Махачкала</td>\n",
       "      <td>UTC+3</td>\n",
       "      <td>42.984857</td>\n",
       "      <td>47.504630</td>\n",
       "      <td>577990</td>\n",
       "      <td>61</td>\n",
       "    </tr>\n",
       "  </tbody>\n",
       "</table>\n",
       "</div>"
      ],
      "text/plain": [
       "    district_code    region       area timezone       lat       lon  \\\n",
       "25             51  Дагестан  Махачкала    UTC+3 42.984857 47.504630   \n",
       "\n",
       "    population  clients  \n",
       "25      577990       61  "
      ]
     },
     "execution_count": 66,
     "metadata": {},
     "output_type": "execute_result"
    }
   ],
   "source": [
    "# сделаем булеву маску и инвертируем ее значения.\n",
    "# Покажет True для города, который не в ru_cities_tent_subset, но есть в district_ru\n",
    "\n",
    "district_ru[~district_ru.area.isin(ru_cities_tent_subset.name)]"
   ]
  },
  {
   "cell_type": "code",
   "execution_count": 67,
   "id": "74b9126d-a4a5-4584-ab1d-b63319e47398",
   "metadata": {},
   "outputs": [
    {
     "data": {
      "text/html": [
       "<div>\n",
       "<style scoped>\n",
       "    .dataframe tbody tr th:only-of-type {\n",
       "        vertical-align: middle;\n",
       "    }\n",
       "\n",
       "    .dataframe tbody tr th {\n",
       "        vertical-align: top;\n",
       "    }\n",
       "\n",
       "    .dataframe thead th {\n",
       "        text-align: right;\n",
       "    }\n",
       "</style>\n",
       "<table border=\"1\" class=\"dataframe\">\n",
       "  <thead>\n",
       "    <tr style=\"text-align: right;\">\n",
       "      <th></th>\n",
       "      <th>geometry</th>\n",
       "    </tr>\n",
       "  </thead>\n",
       "  <tbody>\n",
       "    <tr>\n",
       "      <th>0</th>\n",
       "      <td>POLYGON ((47.51911 42.90425, 47.53096 42.90538...</td>\n",
       "    </tr>\n",
       "  </tbody>\n",
       "</table>\n",
       "</div>"
      ],
      "text/plain": [
       "                                            geometry\n",
       "0  POLYGON ((47.51911 42.90425, 47.53096 42.90538..."
      ]
     },
     "execution_count": 67,
     "metadata": {},
     "output_type": "execute_result"
    }
   ],
   "source": [
    "# создадим вручную геополигон для Махачкалы на сайте https://geojson.io. B загрузим этот .geojson файл\n",
    "# после соединения датафреймов, мы заполним недостающие данные для Махачкалы\n",
    "\n",
    "makhachkala_poly = gpd.read_file(\"./data/raw_data/geo/makhachkala.geojson\")\n",
    "makhachkala_poly"
   ]
  },
  {
   "cell_type": "code",
   "execution_count": 68,
   "id": "f224d372-8cac-4ac0-8044-caf3eaa709a8",
   "metadata": {},
   "outputs": [
    {
     "data": {
      "text/plain": [
       "<Axes: >"
      ]
     },
     "execution_count": 68,
     "metadata": {},
     "output_type": "execute_result"
    },
    {
     "data": {
      "image/png": "[encoded data removed]",
      "text/plain": [
       "<Figure size 640x480 with 1 Axes>"
      ]
     },
     "metadata": {},
     "output_type": "display_data"
    }
   ],
   "source": [
    "makhachkala_poly.plot() # график чтобы проверить, что полигон правильно загрузился"
   ]
  },
  {
   "cell_type": "code",
   "execution_count": 69,
   "id": "5dbf16ef-20c9-4db8-800c-ba7395c86cb0",
   "metadata": {},
   "outputs": [
    {
     "data": {
      "text/html": [
       "<div>\n",
       "<style scoped>\n",
       "    .dataframe tbody tr th:only-of-type {\n",
       "        vertical-align: middle;\n",
       "    }\n",
       "\n",
       "    .dataframe tbody tr th {\n",
       "        vertical-align: top;\n",
       "    }\n",
       "\n",
       "    .dataframe thead th {\n",
       "        text-align: right;\n",
       "    }\n",
       "</style>\n",
       "<table border=\"1\" class=\"dataframe\">\n",
       "  <thead>\n",
       "    <tr style=\"text-align: right;\">\n",
       "      <th></th>\n",
       "      <th>name</th>\n",
       "      <th>geometry</th>\n",
       "    </tr>\n",
       "  </thead>\n",
       "  <tbody>\n",
       "    <tr>\n",
       "      <th>0</th>\n",
       "      <td>Тверь</td>\n",
       "      <td>MULTIPOLYGON (((35.72142 56.83594, 35.72156 56...</td>\n",
       "    </tr>\n",
       "    <tr>\n",
       "      <th>1</th>\n",
       "      <td>Липецк</td>\n",
       "      <td>MULTIPOLYGON (((39.37977 52.62677, 39.38317 52...</td>\n",
       "    </tr>\n",
       "    <tr>\n",
       "      <th>2</th>\n",
       "      <td>Иваново</td>\n",
       "      <td>POLYGON ((40.86788 56.99265, 40.87023 56.99384...</td>\n",
       "    </tr>\n",
       "    <tr>\n",
       "      <th>3</th>\n",
       "      <td>Курск</td>\n",
       "      <td>POLYGON ((36.0603 51.67692, 36.06039 51.67947,...</td>\n",
       "    </tr>\n",
       "    <tr>\n",
       "      <th>4</th>\n",
       "      <td>Владимир</td>\n",
       "      <td>MULTIPOLYGON (((40.16496 56.12132, 40.16772 56...</td>\n",
       "    </tr>\n",
       "  </tbody>\n",
       "</table>\n",
       "</div>"
      ],
      "text/plain": [
       "       name                                           geometry\n",
       "0     Тверь  MULTIPOLYGON (((35.72142 56.83594, 35.72156 56...\n",
       "1    Липецк  MULTIPOLYGON (((39.37977 52.62677, 39.38317 52...\n",
       "2   Иваново  POLYGON ((40.86788 56.99265, 40.87023 56.99384...\n",
       "3     Курск  POLYGON ((36.0603 51.67692, 36.06039 51.67947,...\n",
       "4  Владимир  MULTIPOLYGON (((40.16496 56.12132, 40.16772 56..."
      ]
     },
     "execution_count": 69,
     "metadata": {},
     "output_type": "execute_result"
    }
   ],
   "source": [
    "# сузим датафрейм с гео данными до двух колонок\n",
    "\n",
    "ru_cities = ru_cities_tent_subset.loc[:, [\"name\", \"geometry\"]].copy().reset_index(drop=True)\n",
    "ru_cities.head()"
   ]
  },
  {
   "cell_type": "markdown",
   "id": "c94d64be-bb62-4f7b-b692-9ac119a03315",
   "metadata": {},
   "source": [
    "## Соедининение district_ru и датафрейма с гео данными"
   ]
  },
  {
   "cell_type": "code",
   "execution_count": 70,
   "id": "54e0d489-b28c-4b1f-a936-a59f8ce8c896",
   "metadata": {},
   "outputs": [
    {
     "data": {
      "text/html": [
       "<div>\n",
       "<style scoped>\n",
       "    .dataframe tbody tr th:only-of-type {\n",
       "        vertical-align: middle;\n",
       "    }\n",
       "\n",
       "    .dataframe tbody tr th {\n",
       "        vertical-align: top;\n",
       "    }\n",
       "\n",
       "    .dataframe thead th {\n",
       "        text-align: right;\n",
       "    }\n",
       "</style>\n",
       "<table border=\"1\" class=\"dataframe\">\n",
       "  <thead>\n",
       "    <tr style=\"text-align: right;\">\n",
       "      <th></th>\n",
       "      <th>district_code</th>\n",
       "      <th>region</th>\n",
       "      <th>area</th>\n",
       "      <th>timezone</th>\n",
       "      <th>lat</th>\n",
       "      <th>lon</th>\n",
       "      <th>population</th>\n",
       "      <th>clients</th>\n",
       "      <th>name</th>\n",
       "      <th>geometry</th>\n",
       "    </tr>\n",
       "  </thead>\n",
       "  <tbody>\n",
       "    <tr>\n",
       "      <th>0</th>\n",
       "      <td>1</td>\n",
       "      <td>Москва</td>\n",
       "      <td>Москва</td>\n",
       "      <td>UTC+3</td>\n",
       "      <td>55.753879</td>\n",
       "      <td>37.620373</td>\n",
       "      <td>11514330</td>\n",
       "      <td>663</td>\n",
       "      <td>Москва</td>\n",
       "      <td>MULTIPOLYGON (((37.2905 55.80199, 37.29542 55....</td>\n",
       "    </tr>\n",
       "    <tr>\n",
       "      <th>1</th>\n",
       "      <td>74</td>\n",
       "      <td>Санкт-Петербург</td>\n",
       "      <td>Санкт-Петербург</td>\n",
       "      <td>UTC+3</td>\n",
       "      <td>59.939125</td>\n",
       "      <td>30.315822</td>\n",
       "      <td>4848742</td>\n",
       "      <td>180</td>\n",
       "      <td>Санкт-Петербург</td>\n",
       "      <td>POLYGON ((30.04334 59.76418, 30.04535 59.76553...</td>\n",
       "    </tr>\n",
       "    <tr>\n",
       "      <th>2</th>\n",
       "      <td>70</td>\n",
       "      <td>Новосибирская</td>\n",
       "      <td>Новосибирск</td>\n",
       "      <td>UTC+7</td>\n",
       "      <td>55.028102</td>\n",
       "      <td>82.921058</td>\n",
       "      <td>1498921</td>\n",
       "      <td>169</td>\n",
       "      <td>Новосибирск</td>\n",
       "      <td>MULTIPOLYGON (((82.75113 54.99103, 82.75147 54...</td>\n",
       "    </tr>\n",
       "    <tr>\n",
       "      <th>3</th>\n",
       "      <td>54</td>\n",
       "      <td>Свердловская</td>\n",
       "      <td>Екатеринбург</td>\n",
       "      <td>UTC+5</td>\n",
       "      <td>56.838633</td>\n",
       "      <td>60.605489</td>\n",
       "      <td>1377738</td>\n",
       "      <td>155</td>\n",
       "      <td>Екатеринбург</td>\n",
       "      <td>POLYGON ((60.00708 56.80588, 60.01103 56.80777...</td>\n",
       "    </tr>\n",
       "    <tr>\n",
       "      <th>4</th>\n",
       "      <td>64</td>\n",
       "      <td>Нижегородская</td>\n",
       "      <td>Нижний Новгород</td>\n",
       "      <td>UTC+3</td>\n",
       "      <td>56.324209</td>\n",
       "      <td>44.005395</td>\n",
       "      <td>1250615</td>\n",
       "      <td>109</td>\n",
       "      <td>Нижний Новгород</td>\n",
       "      <td>MULTIPOLYGON (((43.72068 56.21979, 43.7211 56....</td>\n",
       "    </tr>\n",
       "  </tbody>\n",
       "</table>\n",
       "</div>"
      ],
      "text/plain": [
       "   district_code           region             area timezone       lat  \\\n",
       "0              1           Москва           Москва    UTC+3 55.753879   \n",
       "1             74  Санкт-Петербург  Санкт-Петербург    UTC+3 59.939125   \n",
       "2             70    Новосибирская      Новосибирск    UTC+7 55.028102   \n",
       "3             54     Свердловская     Екатеринбург    UTC+5 56.838633   \n",
       "4             64    Нижегородская  Нижний Новгород    UTC+3 56.324209   \n",
       "\n",
       "        lon  population  clients             name  \\\n",
       "0 37.620373    11514330      663           Москва   \n",
       "1 30.315822     4848742      180  Санкт-Петербург   \n",
       "2 82.921058     1498921      169      Новосибирск   \n",
       "3 60.605489     1377738      155     Екатеринбург   \n",
       "4 44.005395     1250615      109  Нижний Новгород   \n",
       "\n",
       "                                            geometry  \n",
       "0  MULTIPOLYGON (((37.2905 55.80199, 37.29542 55....  \n",
       "1  POLYGON ((30.04334 59.76418, 30.04535 59.76553...  \n",
       "2  MULTIPOLYGON (((82.75113 54.99103, 82.75147 54...  \n",
       "3  POLYGON ((60.00708 56.80588, 60.01103 56.80777...  \n",
       "4  MULTIPOLYGON (((43.72068 56.21979, 43.7211 56....  "
      ]
     },
     "execution_count": 70,
     "metadata": {},
     "output_type": "execute_result"
    }
   ],
   "source": [
    "district_ru_merge = district_ru.merge(ru_cities, how='left', left_on=\"area\", right_on=\"name\")\n",
    "district_ru_merge.head()"
   ]
  },
  {
   "cell_type": "code",
   "execution_count": 71,
   "id": "70de7aee-eca9-4bf0-a5af-635372e769f8",
   "metadata": {
    "scrolled": true
   },
   "outputs": [
    {
     "data": {
      "text/html": [
       "<div>\n",
       "<style scoped>\n",
       "    .dataframe tbody tr th:only-of-type {\n",
       "        vertical-align: middle;\n",
       "    }\n",
       "\n",
       "    .dataframe tbody tr th {\n",
       "        vertical-align: top;\n",
       "    }\n",
       "\n",
       "    .dataframe thead th {\n",
       "        text-align: right;\n",
       "    }\n",
       "</style>\n",
       "<table border=\"1\" class=\"dataframe\">\n",
       "  <thead>\n",
       "    <tr style=\"text-align: right;\">\n",
       "      <th></th>\n",
       "      <th>district_code</th>\n",
       "      <th>region</th>\n",
       "      <th>area</th>\n",
       "      <th>timezone</th>\n",
       "      <th>lat</th>\n",
       "      <th>lon</th>\n",
       "      <th>population</th>\n",
       "      <th>clients</th>\n",
       "      <th>name</th>\n",
       "      <th>geometry</th>\n",
       "    </tr>\n",
       "  </thead>\n",
       "  <tbody>\n",
       "    <tr>\n",
       "      <th>25</th>\n",
       "      <td>51</td>\n",
       "      <td>Дагестан</td>\n",
       "      <td>Махачкала</td>\n",
       "      <td>UTC+3</td>\n",
       "      <td>42.984857</td>\n",
       "      <td>47.504630</td>\n",
       "      <td>577990</td>\n",
       "      <td>61</td>\n",
       "      <td>NaN</td>\n",
       "      <td>None</td>\n",
       "    </tr>\n",
       "  </tbody>\n",
       "</table>\n",
       "</div>"
      ],
      "text/plain": [
       "    district_code    region       area timezone       lat       lon  \\\n",
       "25             51  Дагестан  Махачкала    UTC+3 42.984857 47.504630   \n",
       "\n",
       "    population  clients name geometry  \n",
       "25      577990       61  NaN     None  "
      ]
     },
     "execution_count": 71,
     "metadata": {},
     "output_type": "execute_result"
    }
   ],
   "source": [
    "# проверка где не хватает значений после джоина\n",
    "\n",
    "district_ru_merge[district_ru_merge.isna().any(axis=1)]"
   ]
  },
  {
   "cell_type": "code",
   "execution_count": 72,
   "id": "567ec09c-7961-4199-800b-6fc957179e2d",
   "metadata": {},
   "outputs": [
    {
     "data": {
      "text/html": [
       "<div>\n",
       "<style scoped>\n",
       "    .dataframe tbody tr th:only-of-type {\n",
       "        vertical-align: middle;\n",
       "    }\n",
       "\n",
       "    .dataframe tbody tr th {\n",
       "        vertical-align: top;\n",
       "    }\n",
       "\n",
       "    .dataframe thead th {\n",
       "        text-align: right;\n",
       "    }\n",
       "</style>\n",
       "<table border=\"1\" class=\"dataframe\">\n",
       "  <thead>\n",
       "    <tr style=\"text-align: right;\">\n",
       "      <th></th>\n",
       "      <th>district_code</th>\n",
       "      <th>region</th>\n",
       "      <th>area</th>\n",
       "      <th>timezone</th>\n",
       "      <th>lat</th>\n",
       "      <th>lon</th>\n",
       "      <th>population</th>\n",
       "      <th>clients</th>\n",
       "      <th>name</th>\n",
       "      <th>geometry</th>\n",
       "    </tr>\n",
       "  </thead>\n",
       "  <tbody>\n",
       "    <tr>\n",
       "      <th>25</th>\n",
       "      <td>51</td>\n",
       "      <td>Дагестан</td>\n",
       "      <td>Махачкала</td>\n",
       "      <td>UTC+3</td>\n",
       "      <td>42.984857</td>\n",
       "      <td>47.504630</td>\n",
       "      <td>577990</td>\n",
       "      <td>61</td>\n",
       "      <td>NaN</td>\n",
       "      <td>POLYGON ((47.51911 42.90425, 47.53096 42.90538...</td>\n",
       "    </tr>\n",
       "  </tbody>\n",
       "</table>\n",
       "</div>"
      ],
      "text/plain": [
       "    district_code    region       area timezone       lat       lon  \\\n",
       "25             51  Дагестан  Махачкала    UTC+3 42.984857 47.504630   \n",
       "\n",
       "    population  clients name  \\\n",
       "25      577990       61  NaN   \n",
       "\n",
       "                                             geometry  \n",
       "25  POLYGON ((47.51911 42.90425, 47.53096 42.90538...  "
      ]
     },
     "execution_count": 72,
     "metadata": {},
     "output_type": "execute_result"
    }
   ],
   "source": [
    "# заполним данные о полигоне для Махачкалы\n",
    "\n",
    "district_ru_merge.loc[district_ru_merge.area == \"Махачкала\", \"geometry\"] = makhachkala_poly.iloc[0,0]\n",
    "district_ru_merge.loc[district_ru_merge.area == \"Махачкала\"]"
   ]
  },
  {
   "cell_type": "code",
   "execution_count": 73,
   "id": "3e1b5835-6ffc-44c5-b6b1-ebb02ac3129a",
   "metadata": {},
   "outputs": [],
   "source": [
    "# удалим колонку name. Она не нужна\n",
    "\n",
    "district_ru_merge.drop(columns=\"name\", inplace=True)"
   ]
  },
  {
   "cell_type": "code",
   "execution_count": 74,
   "id": "f857aa8d-d445-4b90-8c2f-824c5f5756a4",
   "metadata": {},
   "outputs": [
    {
     "data": {
      "text/html": [
       "<div>\n",
       "<style scoped>\n",
       "    .dataframe tbody tr th:only-of-type {\n",
       "        vertical-align: middle;\n",
       "    }\n",
       "\n",
       "    .dataframe tbody tr th {\n",
       "        vertical-align: top;\n",
       "    }\n",
       "\n",
       "    .dataframe thead th {\n",
       "        text-align: right;\n",
       "    }\n",
       "</style>\n",
       "<table border=\"1\" class=\"dataframe\">\n",
       "  <thead>\n",
       "    <tr style=\"text-align: right;\">\n",
       "      <th></th>\n",
       "      <th>district_code</th>\n",
       "      <th>region</th>\n",
       "      <th>area</th>\n",
       "      <th>timezone</th>\n",
       "      <th>lat</th>\n",
       "      <th>lon</th>\n",
       "      <th>population</th>\n",
       "      <th>clients</th>\n",
       "      <th>geometry</th>\n",
       "    </tr>\n",
       "  </thead>\n",
       "  <tbody>\n",
       "    <tr>\n",
       "      <th>0</th>\n",
       "      <td>1</td>\n",
       "      <td>Москва</td>\n",
       "      <td>Москва</td>\n",
       "      <td>UTC+3</td>\n",
       "      <td>55.753879</td>\n",
       "      <td>37.620373</td>\n",
       "      <td>11514330</td>\n",
       "      <td>663</td>\n",
       "      <td>MULTIPOLYGON (((37.2905 55.80199, 37.29542 55....</td>\n",
       "    </tr>\n",
       "    <tr>\n",
       "      <th>1</th>\n",
       "      <td>74</td>\n",
       "      <td>Санкт-Петербург</td>\n",
       "      <td>Санкт-Петербург</td>\n",
       "      <td>UTC+3</td>\n",
       "      <td>59.939125</td>\n",
       "      <td>30.315822</td>\n",
       "      <td>4848742</td>\n",
       "      <td>180</td>\n",
       "      <td>POLYGON ((30.04334 59.76418, 30.04535 59.76553...</td>\n",
       "    </tr>\n",
       "    <tr>\n",
       "      <th>2</th>\n",
       "      <td>70</td>\n",
       "      <td>Новосибирская</td>\n",
       "      <td>Новосибирск</td>\n",
       "      <td>UTC+7</td>\n",
       "      <td>55.028102</td>\n",
       "      <td>82.921058</td>\n",
       "      <td>1498921</td>\n",
       "      <td>169</td>\n",
       "      <td>MULTIPOLYGON (((82.75113 54.99103, 82.75147 54...</td>\n",
       "    </tr>\n",
       "    <tr>\n",
       "      <th>3</th>\n",
       "      <td>54</td>\n",
       "      <td>Свердловская</td>\n",
       "      <td>Екатеринбург</td>\n",
       "      <td>UTC+5</td>\n",
       "      <td>56.838633</td>\n",
       "      <td>60.605489</td>\n",
       "      <td>1377738</td>\n",
       "      <td>155</td>\n",
       "      <td>POLYGON ((60.00708 56.80588, 60.01103 56.80777...</td>\n",
       "    </tr>\n",
       "    <tr>\n",
       "      <th>4</th>\n",
       "      <td>64</td>\n",
       "      <td>Нижегородская</td>\n",
       "      <td>Нижний Новгород</td>\n",
       "      <td>UTC+3</td>\n",
       "      <td>56.324209</td>\n",
       "      <td>44.005395</td>\n",
       "      <td>1250615</td>\n",
       "      <td>109</td>\n",
       "      <td>MULTIPOLYGON (((43.72068 56.21979, 43.7211 56....</td>\n",
       "    </tr>\n",
       "  </tbody>\n",
       "</table>\n",
       "</div>"
      ],
      "text/plain": [
       "   district_code           region             area timezone       lat  \\\n",
       "0              1           Москва           Москва    UTC+3 55.753879   \n",
       "1             74  Санкт-Петербург  Санкт-Петербург    UTC+3 59.939125   \n",
       "2             70    Новосибирская      Новосибирск    UTC+7 55.028102   \n",
       "3             54     Свердловская     Екатеринбург    UTC+5 56.838633   \n",
       "4             64    Нижегородская  Нижний Новгород    UTC+3 56.324209   \n",
       "\n",
       "        lon  population  clients  \\\n",
       "0 37.620373    11514330      663   \n",
       "1 30.315822     4848742      180   \n",
       "2 82.921058     1498921      169   \n",
       "3 60.605489     1377738      155   \n",
       "4 44.005395     1250615      109   \n",
       "\n",
       "                                            geometry  \n",
       "0  MULTIPOLYGON (((37.2905 55.80199, 37.29542 55....  \n",
       "1  POLYGON ((30.04334 59.76418, 30.04535 59.76553...  \n",
       "2  MULTIPOLYGON (((82.75113 54.99103, 82.75147 54...  \n",
       "3  POLYGON ((60.00708 56.80588, 60.01103 56.80777...  \n",
       "4  MULTIPOLYGON (((43.72068 56.21979, 43.7211 56....  "
      ]
     },
     "execution_count": 74,
     "metadata": {},
     "output_type": "execute_result"
    }
   ],
   "source": [
    "district_ru_merge.head()"
   ]
  },
  {
   "cell_type": "code",
   "execution_count": 75,
   "id": "7184c1df-d19d-4267-8fc9-afc608e60f98",
   "metadata": {},
   "outputs": [
    {
     "data": {
      "text/plain": [
       "(77, 9)"
      ]
     },
     "execution_count": 75,
     "metadata": {},
     "output_type": "execute_result"
    }
   ],
   "source": [
    "# проверим форму\n",
    "\n",
    "district_ru_merge.shape"
   ]
  },
  {
   "cell_type": "code",
   "execution_count": 76,
   "id": "db7658e2-2539-4c01-84d5-8b13ed04292e",
   "metadata": {
    "scrolled": true
   },
   "outputs": [
    {
     "data": {
      "text/plain": [
       "district_code    0\n",
       "region           0\n",
       "area             0\n",
       "timezone         0\n",
       "lat              0\n",
       "lon              0\n",
       "population       0\n",
       "clients          0\n",
       "geometry         0\n",
       "dtype: int64"
      ]
     },
     "execution_count": 76,
     "metadata": {},
     "output_type": "execute_result"
    }
   ],
   "source": [
    "# остались ли пустые значения\n",
    "\n",
    "district_ru_merge.isna().sum()"
   ]
  },
  {
   "cell_type": "markdown",
   "id": "43b48d58-1bd6-4aec-a971-7ee553c5d92a",
   "metadata": {},
   "source": [
    "# Генерация координат для транзакций"
   ]
  },
  {
   "cell_type": "markdown",
   "id": "c8ff6d10-b7b0-46a5-8e6d-3f35fc2e5504",
   "metadata": {},
   "source": [
    "## Равномерное распределение"
   ]
  },
  {
   "cell_type": "code",
   "execution_count": 77,
   "id": "101e68a3-de45-4540-985e-4a675fc1aa18",
   "metadata": {},
   "outputs": [],
   "source": [
    "from shapely.geometry import Point, Polygon\n",
    "\n",
    "def Random_Points_in_Bounds(polygon, number):   \n",
    "    minx, miny, maxx, maxy = polygon.bounds\n",
    "    x = np.random.uniform( minx, maxx, number )\n",
    "    y = np.random.uniform( miny, maxy, number )\n",
    "    return x, y"
   ]
  },
  {
   "cell_type": "code",
   "execution_count": 78,
   "id": "687f6167-9357-4f31-a089-87c1c604d9ca",
   "metadata": {},
   "outputs": [],
   "source": [
    "nn_poly = district_ru_merge.query(\"area == 'Нижний Новгород'\").iloc[0,-1]"
   ]
  },
  {
   "cell_type": "code",
   "execution_count": 79,
   "id": "984a9546-e4e9-4e69-b564-24f41cfd9f77",
   "metadata": {},
   "outputs": [],
   "source": [
    "gdf_poly = gpd.GeoDataFrame(index=[\"myPoly\"], geometry=[nn_poly])"
   ]
  },
  {
   "cell_type": "code",
   "execution_count": 80,
   "id": "9265b8cc-ac81-4ef5-9156-50b9e9d3374a",
   "metadata": {},
   "outputs": [],
   "source": [
    "x,y = Random_Points_in_Bounds(nn_poly, 500)\n",
    "df = pd.DataFrame()\n",
    "df['points'] = list(zip(x,y))\n",
    "df['points'] = df['points'].apply(Point)\n",
    "gdf_points = gpd.GeoDataFrame(df, geometry='points')"
   ]
  },
  {
   "cell_type": "code",
   "execution_count": 81,
   "id": "557fe878-5212-4aec-907a-323476d1e4d2",
   "metadata": {
    "scrolled": true
   },
   "outputs": [
    {
     "data": {
      "image/png": "[encoded data removed]",
      "text/plain": [
       "<Figure size 640x480 with 1 Axes>"
      ]
     },
     "metadata": {},
     "output_type": "display_data"
    }
   ],
   "source": [
    "Sjoin = gpd.tools.sjoin(gdf_points, gdf_poly, predicate=\"within\", how='left')\n",
    "\n",
    "# Keep points in \"myPoly\"\n",
    "pnts_in_poly = gdf_points[Sjoin.index_right=='myPoly']\n",
    "\n",
    "# Plot result\n",
    "base = gdf_poly.boundary.plot(linewidth=1, edgecolor=\"black\")\n",
    "pnts_in_poly.plot(ax=base, linewidth=1, color=\"red\", markersize=8)\n",
    "plt.show()"
   ]
  },
  {
   "cell_type": "code",
   "execution_count": null,
   "id": "432f794f-b4ba-4c22-a57f-3ee187911083",
   "metadata": {},
   "outputs": [],
   "source": []
  },
  {
   "cell_type": "code",
   "execution_count": 82,
   "id": "d3c4ddc9-6bae-4ced-9340-f03af70491f0",
   "metadata": {},
   "outputs": [
    {
     "data": {
      "text/html": [
       "<div>\n",
       "<style scoped>\n",
       "    .dataframe tbody tr th:only-of-type {\n",
       "        vertical-align: middle;\n",
       "    }\n",
       "\n",
       "    .dataframe tbody tr th {\n",
       "        vertical-align: top;\n",
       "    }\n",
       "\n",
       "    .dataframe thead th {\n",
       "        text-align: right;\n",
       "    }\n",
       "</style>\n",
       "<table border=\"1\" class=\"dataframe\">\n",
       "  <thead>\n",
       "    <tr style=\"text-align: right;\">\n",
       "      <th></th>\n",
       "      <th>district_code</th>\n",
       "      <th>region</th>\n",
       "      <th>area</th>\n",
       "      <th>timezone</th>\n",
       "      <th>lat</th>\n",
       "      <th>lon</th>\n",
       "      <th>population</th>\n",
       "      <th>clients</th>\n",
       "      <th>geometry</th>\n",
       "    </tr>\n",
       "  </thead>\n",
       "  <tbody>\n",
       "    <tr>\n",
       "      <th>0</th>\n",
       "      <td>1</td>\n",
       "      <td>Москва</td>\n",
       "      <td>Москва</td>\n",
       "      <td>UTC+3</td>\n",
       "      <td>55.753879</td>\n",
       "      <td>37.620373</td>\n",
       "      <td>11514330</td>\n",
       "      <td>663</td>\n",
       "      <td>MULTIPOLYGON (((37.2905 55.80199, 37.29542 55....</td>\n",
       "    </tr>\n",
       "  </tbody>\n",
       "</table>\n",
       "</div>"
      ],
      "text/plain": [
       "   district_code  region    area timezone       lat       lon  population  \\\n",
       "0              1  Москва  Москва    UTC+3 55.753879 37.620373    11514330   \n",
       "\n",
       "   clients                                           geometry  \n",
       "0      663  MULTIPOLYGON (((37.2905 55.80199, 37.29542 55....  "
      ]
     },
     "execution_count": 82,
     "metadata": {},
     "output_type": "execute_result"
    }
   ],
   "source": [
    "district_ru_merge.head(1)"
   ]
  },
  {
   "cell_type": "code",
   "execution_count": 83,
   "id": "76c4fb5a-dd99-4185-9c51-f9167f7b1a19",
   "metadata": {},
   "outputs": [
    {
     "data": {
      "text/plain": [
       "(5369, 4)"
      ]
     },
     "execution_count": 83,
     "metadata": {},
     "output_type": "execute_result"
    }
   ],
   "source": [
    "clients.shape"
   ]
  },
  {
   "cell_type": "code",
   "execution_count": 116,
   "id": "dfe0457a-a5f0-4796-87e6-ab936b6c87f4",
   "metadata": {},
   "outputs": [],
   "source": [
    "# clients_with_geo = clients.merge(district_ru_merge, left_on=\"district_id\", right_on=\"district_code\")\n",
    "# clients_with_geo.head()"
   ]
  },
  {
   "cell_type": "code",
   "execution_count": 117,
   "id": "19a08e7a-b538-4a03-9f7f-89e8b3ef2571",
   "metadata": {},
   "outputs": [],
   "source": [
    "# проверим форму\n",
    "\n",
    "# clients_with_geo.shape"
   ]
  },
  {
   "cell_type": "code",
   "execution_count": 86,
   "id": "419a86fb-25a5-43c1-91e9-546559d95552",
   "metadata": {},
   "outputs": [],
   "source": [
    "def gen_trans_coordinates(polygon, number):\n",
    "    x,y = Random_Points_in_Bounds(polygon, number)\n",
    "    df = pd.DataFrame()\n",
    "    df['points'] = list(zip(x,y))\n",
    "    df['points'] = df['points'].apply(Point)\n",
    "    gdf_points = gpd.GeoDataFrame(df, geometry='points')\n",
    "\n",
    "    gdf_poly = gpd.GeoDataFrame(index=[\"myPoly\"], geometry=[polygon])\n",
    "    \n",
    "    Sjoin = gpd.tools.sjoin(gdf_points, gdf_poly, predicate=\"within\", how='left')\n",
    "\n",
    "    # Оставить точки внутри \"myPoly\"\n",
    "    pnts_in_poly = gdf_points[Sjoin.index_right=='myPoly']\n",
    "\n",
    "    return pnts_in_poly, gdf_poly\n",
    "    "
   ]
  },
  {
   "cell_type": "code",
   "execution_count": 87,
   "id": "51085f60-f33f-4baf-96f0-bf4b15157437",
   "metadata": {},
   "outputs": [
    {
     "data": {
      "image/png": "[encoded data removed]",
      "text/plain": [
       "<Figure size 640x480 with 1 Axes>"
      ]
     },
     "metadata": {},
     "output_type": "display_data"
    }
   ],
   "source": [
    "# Plot result\n",
    "pnts_in_poly, gdf_poly = gen_trans_coordinates(nn_poly, 1)\n",
    "\n",
    "base = gdf_poly.boundary.plot(linewidth=1, edgecolor=\"black\")\n",
    "pnts_in_poly.plot(ax=base, linewidth=1, color=\"red\", markersize=8)\n",
    "plt.show()"
   ]
  },
  {
   "cell_type": "code",
   "execution_count": 118,
   "id": "99b9beb8-0958-4439-9f5e-5c0d4e3d6460",
   "metadata": {
    "scrolled": true
   },
   "outputs": [],
   "source": [
    "# clients_with_geo.head()"
   ]
  },
  {
   "cell_type": "code",
   "execution_count": 119,
   "id": "7d27aa9e-f4ce-41d9-8a72-3b519838d0ae",
   "metadata": {},
   "outputs": [],
   "source": [
    "# clients_with_geo[[\"area\"]].value_counts()"
   ]
  },
  {
   "cell_type": "code",
   "execution_count": 120,
   "id": "2657366d-9cbc-4e36-81ce-93820bb083ab",
   "metadata": {},
   "outputs": [
    {
     "data": {
      "text/html": [
       "<div>\n",
       "<style scoped>\n",
       "    .dataframe tbody tr th:only-of-type {\n",
       "        vertical-align: middle;\n",
       "    }\n",
       "\n",
       "    .dataframe tbody tr th {\n",
       "        vertical-align: top;\n",
       "    }\n",
       "\n",
       "    .dataframe thead th {\n",
       "        text-align: right;\n",
       "    }\n",
       "</style>\n",
       "<table border=\"1\" class=\"dataframe\">\n",
       "  <thead>\n",
       "    <tr style=\"text-align: right;\">\n",
       "      <th></th>\n",
       "      <th>district_code</th>\n",
       "      <th>region</th>\n",
       "      <th>area</th>\n",
       "      <th>timezone</th>\n",
       "      <th>lat</th>\n",
       "      <th>lon</th>\n",
       "      <th>population</th>\n",
       "      <th>clients</th>\n",
       "      <th>geometry</th>\n",
       "    </tr>\n",
       "  </thead>\n",
       "  <tbody>\n",
       "    <tr>\n",
       "      <th>0</th>\n",
       "      <td>1</td>\n",
       "      <td>Москва</td>\n",
       "      <td>Москва</td>\n",
       "      <td>UTC+3</td>\n",
       "      <td>55.753879</td>\n",
       "      <td>37.620373</td>\n",
       "      <td>11514330</td>\n",
       "      <td>663</td>\n",
       "      <td>MULTIPOLYGON (((37.2905 55.80199, 37.29542 55....</td>\n",
       "    </tr>\n",
       "    <tr>\n",
       "      <th>1</th>\n",
       "      <td>74</td>\n",
       "      <td>Санкт-Петербург</td>\n",
       "      <td>Санкт-Петербург</td>\n",
       "      <td>UTC+3</td>\n",
       "      <td>59.939125</td>\n",
       "      <td>30.315822</td>\n",
       "      <td>4848742</td>\n",
       "      <td>180</td>\n",
       "      <td>POLYGON ((30.04334 59.76418, 30.04535 59.76553...</td>\n",
       "    </tr>\n",
       "    <tr>\n",
       "      <th>2</th>\n",
       "      <td>70</td>\n",
       "      <td>Новосибирская</td>\n",
       "      <td>Новосибирск</td>\n",
       "      <td>UTC+7</td>\n",
       "      <td>55.028102</td>\n",
       "      <td>82.921058</td>\n",
       "      <td>1498921</td>\n",
       "      <td>169</td>\n",
       "      <td>MULTIPOLYGON (((82.75113 54.99103, 82.75147 54...</td>\n",
       "    </tr>\n",
       "    <tr>\n",
       "      <th>3</th>\n",
       "      <td>54</td>\n",
       "      <td>Свердловская</td>\n",
       "      <td>Екатеринбург</td>\n",
       "      <td>UTC+5</td>\n",
       "      <td>56.838633</td>\n",
       "      <td>60.605489</td>\n",
       "      <td>1377738</td>\n",
       "      <td>155</td>\n",
       "      <td>POLYGON ((60.00708 56.80588, 60.01103 56.80777...</td>\n",
       "    </tr>\n",
       "    <tr>\n",
       "      <th>4</th>\n",
       "      <td>64</td>\n",
       "      <td>Нижегородская</td>\n",
       "      <td>Нижний Новгород</td>\n",
       "      <td>UTC+3</td>\n",
       "      <td>56.324209</td>\n",
       "      <td>44.005395</td>\n",
       "      <td>1250615</td>\n",
       "      <td>109</td>\n",
       "      <td>MULTIPOLYGON (((43.72068 56.21979, 43.7211 56....</td>\n",
       "    </tr>\n",
       "  </tbody>\n",
       "</table>\n",
       "</div>"
      ],
      "text/plain": [
       "   district_code           region             area timezone       lat  \\\n",
       "0              1           Москва           Москва    UTC+3 55.753879   \n",
       "1             74  Санкт-Петербург  Санкт-Петербург    UTC+3 59.939125   \n",
       "2             70    Новосибирская      Новосибирск    UTC+7 55.028102   \n",
       "3             54     Свердловская     Екатеринбург    UTC+5 56.838633   \n",
       "4             64    Нижегородская  Нижний Новгород    UTC+3 56.324209   \n",
       "\n",
       "        lon  population  clients  \\\n",
       "0 37.620373    11514330      663   \n",
       "1 30.315822     4848742      180   \n",
       "2 82.921058     1498921      169   \n",
       "3 60.605489     1377738      155   \n",
       "4 44.005395     1250615      109   \n",
       "\n",
       "                                            geometry  \n",
       "0  MULTIPOLYGON (((37.2905 55.80199, 37.29542 55....  \n",
       "1  POLYGON ((30.04334 59.76418, 30.04535 59.76553...  \n",
       "2  MULTIPOLYGON (((82.75113 54.99103, 82.75147 54...  \n",
       "3  POLYGON ((60.00708 56.80588, 60.01103 56.80777...  \n",
       "4  MULTIPOLYGON (((43.72068 56.21979, 43.7211 56....  "
      ]
     },
     "execution_count": 120,
     "metadata": {},
     "output_type": "execute_result"
    }
   ],
   "source": [
    "district_ru_merge.head()"
   ]
  },
  {
   "cell_type": "code",
   "execution_count": 121,
   "id": "1276e227-7dc7-4602-ac0f-c0d3507f6b6a",
   "metadata": {},
   "outputs": [],
   "source": [
    "# загрузим датасет по антифроду для заимстования категорий товаров и их средних цен\n",
    "\n",
    "fraud_kaggle = pd.read_csv(r\"C:\\Users\\iaros\\My_documents\\Education\\DBs_datasets\\antifraud\\cc_trans_fraud_detect_kaggle\\fraudTest.csv.zip\", \\\n",
    "                          compression=\"zip\")"
   ]
  },
  {
   "cell_type": "code",
   "execution_count": 123,
   "id": "bc5ba637-4281-4fbb-99a5-4aa3cee5aa87",
   "metadata": {},
   "outputs": [
    {
     "data": {
      "text/plain": [
       "693"
      ]
     },
     "execution_count": 123,
     "metadata": {},
     "output_type": "execute_result"
    }
   ],
   "source": [
    "# fraud_kaggle.merchant.nunique()"
   ]
  },
  {
   "cell_type": "code",
   "execution_count": 136,
   "id": "e804b3dc-f3d0-45ce-ad67-d903264c06ad",
   "metadata": {},
   "outputs": [],
   "source": [
    "# fraud_kaggle[['first', 'last', 'gender']].value_counts().reset_index().query(\"count > 200\")"
   ]
  },
  {
   "cell_type": "code",
   "execution_count": 135,
   "id": "fa5bc2c9-1910-40fe-90a2-184e5614d1a9",
   "metadata": {},
   "outputs": [
    {
     "data": {
      "text/plain": [
       "75.57251908396947"
      ]
     },
     "execution_count": 135,
     "metadata": {},
     "output_type": "execute_result"
    }
   ],
   "source": [
    "693 / 917 * 100 # merchants percent from customers in fraud_kaggle"
   ]
  },
  {
   "cell_type": "code",
   "execution_count": 180,
   "id": "5887a023-3346-4ec3-a0ed-f644effd26fb",
   "metadata": {},
   "outputs": [],
   "source": [
    "# hours_dist = [round(np.random.normal(12, 4)) for i in range(10000)]\n",
    "# hours_dist = [hour for hour in hours_dist if hour < 25 and hour > 0]"
   ]
  },
  {
   "cell_type": "code",
   "execution_count": 196,
   "id": "025d1a72-b015-4afa-8396-a9587f49845f",
   "metadata": {},
   "outputs": [],
   "source": [
    "# p = sns.countplot(x=hours_dist);"
   ]
  },
  {
   "cell_type": "code",
   "execution_count": 199,
   "id": "412c4234-10f3-45b1-8926-c64290f761ad",
   "metadata": {},
   "outputs": [
    {
     "data": {
      "text/html": [
       "<div>\n",
       "<style scoped>\n",
       "    .dataframe tbody tr th:only-of-type {\n",
       "        vertical-align: middle;\n",
       "    }\n",
       "\n",
       "    .dataframe tbody tr th {\n",
       "        vertical-align: top;\n",
       "    }\n",
       "\n",
       "    .dataframe thead th {\n",
       "        text-align: right;\n",
       "    }\n",
       "</style>\n",
       "<table border=\"1\" class=\"dataframe\">\n",
       "  <thead>\n",
       "    <tr style=\"text-align: right;\">\n",
       "      <th></th>\n",
       "      <th>Unnamed: 0</th>\n",
       "      <th>trans_date_trans_time</th>\n",
       "      <th>cc_num</th>\n",
       "      <th>merchant</th>\n",
       "      <th>category</th>\n",
       "      <th>amt</th>\n",
       "      <th>first</th>\n",
       "      <th>last</th>\n",
       "      <th>gender</th>\n",
       "      <th>street</th>\n",
       "      <th>city</th>\n",
       "      <th>state</th>\n",
       "      <th>zip</th>\n",
       "      <th>lat</th>\n",
       "      <th>long</th>\n",
       "      <th>city_pop</th>\n",
       "      <th>job</th>\n",
       "      <th>dob</th>\n",
       "      <th>trans_num</th>\n",
       "      <th>unix_time</th>\n",
       "      <th>merch_lat</th>\n",
       "      <th>merch_long</th>\n",
       "      <th>is_fraud</th>\n",
       "    </tr>\n",
       "  </thead>\n",
       "  <tbody>\n",
       "    <tr>\n",
       "      <th>0</th>\n",
       "      <td>0</td>\n",
       "      <td>2020-06-21 12:14:25</td>\n",
       "      <td>2291163933867244</td>\n",
       "      <td>fraud_Kirlin and Sons</td>\n",
       "      <td>personal_care</td>\n",
       "      <td>2.860</td>\n",
       "      <td>Jeff</td>\n",
       "      <td>Elliott</td>\n",
       "      <td>M</td>\n",
       "      <td>351 Darlene Green</td>\n",
       "      <td>Columbia</td>\n",
       "      <td>SC</td>\n",
       "      <td>29209</td>\n",
       "      <td>33.966</td>\n",
       "      <td>-80.936</td>\n",
       "      <td>333497</td>\n",
       "      <td>Mechanical engineer</td>\n",
       "      <td>1968-03-19</td>\n",
       "      <td>2da90c7d74bd46a0caf3777415b3ebd3</td>\n",
       "      <td>1371816865</td>\n",
       "      <td>33.986</td>\n",
       "      <td>-81.201</td>\n",
       "      <td>0</td>\n",
       "    </tr>\n",
       "  </tbody>\n",
       "</table>\n",
       "</div>"
      ],
      "text/plain": [
       "   Unnamed: 0 trans_date_trans_time            cc_num               merchant  \\\n",
       "0           0   2020-06-21 12:14:25  2291163933867244  fraud_Kirlin and Sons   \n",
       "\n",
       "        category   amt first     last gender             street      city  \\\n",
       "0  personal_care 2.860  Jeff  Elliott      M  351 Darlene Green  Columbia   \n",
       "\n",
       "  state    zip    lat    long  city_pop                  job         dob  \\\n",
       "0    SC  29209 33.966 -80.936    333497  Mechanical engineer  1968-03-19   \n",
       "\n",
       "                          trans_num   unix_time  merch_lat  merch_long  \\\n",
       "0  2da90c7d74bd46a0caf3777415b3ebd3  1371816865     33.986     -81.201   \n",
       "\n",
       "   is_fraud  \n",
       "0         0  "
      ]
     },
     "execution_count": 199,
     "metadata": {},
     "output_type": "execute_result"
    }
   ],
   "source": [
    "fraud_kaggle.head(1)"
   ]
  },
  {
   "cell_type": "code",
   "execution_count": 222,
   "id": "3745898e-2e0d-493d-811d-c9ebe224685d",
   "metadata": {},
   "outputs": [],
   "source": [
    "# ru_retail = pd.read_csv(r\"C:\\Users\\iaros\\My_documents\\Education\\Загрузки_учеба\\russian_retail.csv.zip\", compression=\"zip\")"
   ]
  },
  {
   "cell_type": "code",
   "execution_count": 679,
   "id": "3c45ab9b-9072-4e12-b143-2d9f148ad68b",
   "metadata": {},
   "outputs": [
    {
     "data": {
      "text/html": [
       "<div>\n",
       "<style scoped>\n",
       "    .dataframe tbody tr th:only-of-type {\n",
       "        vertical-align: middle;\n",
       "    }\n",
       "\n",
       "    .dataframe tbody tr th {\n",
       "        vertical-align: top;\n",
       "    }\n",
       "\n",
       "    .dataframe thead th {\n",
       "        text-align: right;\n",
       "    }\n",
       "</style>\n",
       "<table border=\"1\" class=\"dataframe\">\n",
       "  <thead>\n",
       "    <tr style=\"text-align: right;\">\n",
       "      <th></th>\n",
       "      <th>category</th>\n",
       "      <th>avg_amt</th>\n",
       "      <th>amt_std</th>\n",
       "      <th>cat_count</th>\n",
       "    </tr>\n",
       "  </thead>\n",
       "  <tbody>\n",
       "    <tr>\n",
       "      <th>0</th>\n",
       "      <td>gas_transport</td>\n",
       "      <td>63.577001</td>\n",
       "      <td>15.828399</td>\n",
       "      <td>56370</td>\n",
       "    </tr>\n",
       "    <tr>\n",
       "      <th>1</th>\n",
       "      <td>grocery_pos</td>\n",
       "      <td>115.885327</td>\n",
       "      <td>51.552330</td>\n",
       "      <td>52553</td>\n",
       "    </tr>\n",
       "    <tr>\n",
       "      <th>2</th>\n",
       "      <td>home</td>\n",
       "      <td>57.995413</td>\n",
       "      <td>48.085281</td>\n",
       "      <td>52345</td>\n",
       "    </tr>\n",
       "    <tr>\n",
       "      <th>3</th>\n",
       "      <td>shopping_pos</td>\n",
       "      <td>76.862457</td>\n",
       "      <td>232.484678</td>\n",
       "      <td>49791</td>\n",
       "    </tr>\n",
       "    <tr>\n",
       "      <th>4</th>\n",
       "      <td>kids_pets</td>\n",
       "      <td>57.506913</td>\n",
       "      <td>48.748482</td>\n",
       "      <td>48692</td>\n",
       "    </tr>\n",
       "    <tr>\n",
       "      <th>5</th>\n",
       "      <td>shopping_net</td>\n",
       "      <td>83.481653</td>\n",
       "      <td>237.219758</td>\n",
       "      <td>41779</td>\n",
       "    </tr>\n",
       "    <tr>\n",
       "      <th>6</th>\n",
       "      <td>entertainment</td>\n",
       "      <td>63.984840</td>\n",
       "      <td>64.229935</td>\n",
       "      <td>40104</td>\n",
       "    </tr>\n",
       "    <tr>\n",
       "      <th>7</th>\n",
       "      <td>personal_care</td>\n",
       "      <td>48.233021</td>\n",
       "      <td>49.410941</td>\n",
       "      <td>39327</td>\n",
       "    </tr>\n",
       "    <tr>\n",
       "      <th>8</th>\n",
       "      <td>food_dining</td>\n",
       "      <td>50.777938</td>\n",
       "      <td>48.449053</td>\n",
       "      <td>39268</td>\n",
       "    </tr>\n",
       "    <tr>\n",
       "      <th>9</th>\n",
       "      <td>health_fitness</td>\n",
       "      <td>53.867432</td>\n",
       "      <td>47.965251</td>\n",
       "      <td>36674</td>\n",
       "    </tr>\n",
       "    <tr>\n",
       "      <th>10</th>\n",
       "      <td>misc_pos</td>\n",
       "      <td>62.182246</td>\n",
       "      <td>133.987228</td>\n",
       "      <td>34574</td>\n",
       "    </tr>\n",
       "    <tr>\n",
       "      <th>11</th>\n",
       "      <td>misc_net</td>\n",
       "      <td>78.600237</td>\n",
       "      <td>163.639089</td>\n",
       "      <td>27367</td>\n",
       "    </tr>\n",
       "    <tr>\n",
       "      <th>12</th>\n",
       "      <td>grocery_net</td>\n",
       "      <td>53.731667</td>\n",
       "      <td>22.908437</td>\n",
       "      <td>19426</td>\n",
       "    </tr>\n",
       "    <tr>\n",
       "      <th>13</th>\n",
       "      <td>travel</td>\n",
       "      <td>112.389683</td>\n",
       "      <td>595.946295</td>\n",
       "      <td>17449</td>\n",
       "    </tr>\n",
       "  </tbody>\n",
       "</table>\n",
       "</div>"
      ],
      "text/plain": [
       "          category     avg_amt     amt_std  cat_count\n",
       "0    gas_transport   63.577001   15.828399      56370\n",
       "1      grocery_pos  115.885327   51.552330      52553\n",
       "2             home   57.995413   48.085281      52345\n",
       "3     shopping_pos   76.862457  232.484678      49791\n",
       "4        kids_pets   57.506913   48.748482      48692\n",
       "5     shopping_net   83.481653  237.219758      41779\n",
       "6    entertainment   63.984840   64.229935      40104\n",
       "7    personal_care   48.233021   49.410941      39327\n",
       "8      food_dining   50.777938   48.449053      39268\n",
       "9   health_fitness   53.867432   47.965251      36674\n",
       "10        misc_pos   62.182246  133.987228      34574\n",
       "11        misc_net   78.600237  163.639089      27367\n",
       "12     grocery_net   53.731667   22.908437      19426\n",
       "13          travel  112.389683  595.946295      17449"
      ]
     },
     "execution_count": 679,
     "metadata": {},
     "output_type": "execute_result"
    }
   ],
   "source": [
    "category_stats = fraud_kaggle.groupby(\"category\").agg({\"amt\":[\"mean\",\"std\"], \"category\":\"count\"})\n",
    "category_stats.columns = [\"avg_amt\", \"amt_std\", \"cat_count\"]\n",
    "category_stats = category_stats.sort_values(\"cat_count\",ascending=False).reset_index()\n",
    "category_stats"
   ]
  },
  {
   "cell_type": "code",
   "execution_count": 238,
   "id": "fd51a52f-1685-4dbd-8d85-06394056e2d4",
   "metadata": {},
   "outputs": [
    {
     "data": {
      "text/html": [
       "<div>\n",
       "<style scoped>\n",
       "    .dataframe tbody tr th:only-of-type {\n",
       "        vertical-align: middle;\n",
       "    }\n",
       "\n",
       "    .dataframe tbody tr th {\n",
       "        vertical-align: top;\n",
       "    }\n",
       "\n",
       "    .dataframe thead th {\n",
       "        text-align: right;\n",
       "    }\n",
       "</style>\n",
       "<table border=\"1\" class=\"dataframe\">\n",
       "  <thead>\n",
       "    <tr style=\"text-align: right;\">\n",
       "      <th></th>\n",
       "      <th>category</th>\n",
       "      <th>avg_amt</th>\n",
       "      <th>amt_std</th>\n",
       "      <th>cat_count</th>\n",
       "    </tr>\n",
       "  </thead>\n",
       "  <tbody>\n",
       "    <tr>\n",
       "      <th>0</th>\n",
       "      <td>gas_transport</td>\n",
       "      <td>635.770</td>\n",
       "      <td>158.284</td>\n",
       "      <td>563700</td>\n",
       "    </tr>\n",
       "    <tr>\n",
       "      <th>1</th>\n",
       "      <td>grocery_pos</td>\n",
       "      <td>1158.853</td>\n",
       "      <td>515.523</td>\n",
       "      <td>525530</td>\n",
       "    </tr>\n",
       "    <tr>\n",
       "      <th>2</th>\n",
       "      <td>home</td>\n",
       "      <td>579.954</td>\n",
       "      <td>480.853</td>\n",
       "      <td>523450</td>\n",
       "    </tr>\n",
       "    <tr>\n",
       "      <th>3</th>\n",
       "      <td>shopping_pos</td>\n",
       "      <td>768.625</td>\n",
       "      <td>2324.847</td>\n",
       "      <td>497910</td>\n",
       "    </tr>\n",
       "    <tr>\n",
       "      <th>4</th>\n",
       "      <td>kids_pets</td>\n",
       "      <td>575.069</td>\n",
       "      <td>487.485</td>\n",
       "      <td>486920</td>\n",
       "    </tr>\n",
       "    <tr>\n",
       "      <th>5</th>\n",
       "      <td>entertainment</td>\n",
       "      <td>639.848</td>\n",
       "      <td>642.299</td>\n",
       "      <td>401040</td>\n",
       "    </tr>\n",
       "    <tr>\n",
       "      <th>6</th>\n",
       "      <td>personal_care</td>\n",
       "      <td>482.330</td>\n",
       "      <td>494.109</td>\n",
       "      <td>393270</td>\n",
       "    </tr>\n",
       "    <tr>\n",
       "      <th>7</th>\n",
       "      <td>food_dining</td>\n",
       "      <td>507.779</td>\n",
       "      <td>484.491</td>\n",
       "      <td>392680</td>\n",
       "    </tr>\n",
       "    <tr>\n",
       "      <th>8</th>\n",
       "      <td>health_fitness</td>\n",
       "      <td>538.674</td>\n",
       "      <td>479.653</td>\n",
       "      <td>366740</td>\n",
       "    </tr>\n",
       "    <tr>\n",
       "      <th>9</th>\n",
       "      <td>misc_pos</td>\n",
       "      <td>621.822</td>\n",
       "      <td>1339.872</td>\n",
       "      <td>345740</td>\n",
       "    </tr>\n",
       "    <tr>\n",
       "      <th>10</th>\n",
       "      <td>travel</td>\n",
       "      <td>1123.897</td>\n",
       "      <td>5959.463</td>\n",
       "      <td>174490</td>\n",
       "    </tr>\n",
       "  </tbody>\n",
       "</table>\n",
       "</div>"
      ],
      "text/plain": [
       "          category  avg_amt  amt_std  cat_count\n",
       "0    gas_transport  635.770  158.284     563700\n",
       "1      grocery_pos 1158.853  515.523     525530\n",
       "2             home  579.954  480.853     523450\n",
       "3     shopping_pos  768.625 2324.847     497910\n",
       "4        kids_pets  575.069  487.485     486920\n",
       "5    entertainment  639.848  642.299     401040\n",
       "6    personal_care  482.330  494.109     393270\n",
       "7      food_dining  507.779  484.491     392680\n",
       "8   health_fitness  538.674  479.653     366740\n",
       "9         misc_pos  621.822 1339.872     345740\n",
       "10          travel 1123.897 5959.463     174490"
      ]
     },
     "execution_count": 238,
     "metadata": {},
     "output_type": "execute_result"
    }
   ],
   "source": [
    "offline_categories = category_stats[~category_stats.category.str.contains(\"net\")].reset_index(drop=True)\n",
    "offline_categories[[\"avg_amt\",\"amt_std\",\"cat_count\"]] = offline_categories[[\"avg_amt\",\"amt_std\",\"cat_count\"]] * 10\n",
    "offline_categories"
   ]
  },
  {
   "cell_type": "code",
   "execution_count": 239,
   "id": "549a4ed7-2245-4b76-a063-993e5a50d89f",
   "metadata": {},
   "outputs": [
    {
     "data": {
      "text/html": [
       "<div>\n",
       "<style scoped>\n",
       "    .dataframe tbody tr th:only-of-type {\n",
       "        vertical-align: middle;\n",
       "    }\n",
       "\n",
       "    .dataframe tbody tr th {\n",
       "        vertical-align: top;\n",
       "    }\n",
       "\n",
       "    .dataframe thead th {\n",
       "        text-align: right;\n",
       "    }\n",
       "</style>\n",
       "<table border=\"1\" class=\"dataframe\">\n",
       "  <thead>\n",
       "    <tr style=\"text-align: right;\">\n",
       "      <th></th>\n",
       "      <th>category</th>\n",
       "      <th>avg_amt</th>\n",
       "      <th>amt_std</th>\n",
       "      <th>cat_count</th>\n",
       "    </tr>\n",
       "  </thead>\n",
       "  <tbody>\n",
       "    <tr>\n",
       "      <th>0</th>\n",
       "      <td>shopping_net</td>\n",
       "      <td>834.817</td>\n",
       "      <td>2372.198</td>\n",
       "      <td>417790</td>\n",
       "    </tr>\n",
       "    <tr>\n",
       "      <th>1</th>\n",
       "      <td>misc_net</td>\n",
       "      <td>786.002</td>\n",
       "      <td>1636.391</td>\n",
       "      <td>273670</td>\n",
       "    </tr>\n",
       "    <tr>\n",
       "      <th>2</th>\n",
       "      <td>grocery_net</td>\n",
       "      <td>537.317</td>\n",
       "      <td>229.084</td>\n",
       "      <td>194260</td>\n",
       "    </tr>\n",
       "  </tbody>\n",
       "</table>\n",
       "</div>"
      ],
      "text/plain": [
       "       category  avg_amt  amt_std  cat_count\n",
       "0  shopping_net  834.817 2372.198     417790\n",
       "1      misc_net  786.002 1636.391     273670\n",
       "2   grocery_net  537.317  229.084     194260"
      ]
     },
     "execution_count": 239,
     "metadata": {},
     "output_type": "execute_result"
    }
   ],
   "source": [
    "online_categories = category_stats[category_stats.category.str.contains(\"net\")].reset_index(drop=True)\n",
    "online_categories[[\"avg_amt\",\"amt_std\",\"cat_count\"]] = online_categories[[\"avg_amt\",\"amt_std\",\"cat_count\"]] * 10\n",
    "online_categories"
   ]
  },
  {
   "cell_type": "code",
   "execution_count": 240,
   "id": "ad1589ef-1c85-4459-8685-4f70d5491014",
   "metadata": {
    "scrolled": true
   },
   "outputs": [
    {
     "data": {
      "text/html": [
       "<div>\n",
       "<style scoped>\n",
       "    .dataframe tbody tr th:only-of-type {\n",
       "        vertical-align: middle;\n",
       "    }\n",
       "\n",
       "    .dataframe tbody tr th {\n",
       "        vertical-align: top;\n",
       "    }\n",
       "\n",
       "    .dataframe thead th {\n",
       "        text-align: right;\n",
       "    }\n",
       "</style>\n",
       "<table border=\"1\" class=\"dataframe\">\n",
       "  <thead>\n",
       "    <tr style=\"text-align: right;\">\n",
       "      <th></th>\n",
       "      <th>district_code</th>\n",
       "      <th>region</th>\n",
       "      <th>area</th>\n",
       "      <th>timezone</th>\n",
       "      <th>lat</th>\n",
       "      <th>lon</th>\n",
       "      <th>population</th>\n",
       "      <th>clients</th>\n",
       "      <th>geometry</th>\n",
       "      <th>category</th>\n",
       "      <th>avg_amt</th>\n",
       "      <th>amt_std</th>\n",
       "      <th>cat_count</th>\n",
       "    </tr>\n",
       "  </thead>\n",
       "  <tbody>\n",
       "    <tr>\n",
       "      <th>4</th>\n",
       "      <td>1</td>\n",
       "      <td>Москва</td>\n",
       "      <td>Москва</td>\n",
       "      <td>UTC+3</td>\n",
       "      <td>55.754</td>\n",
       "      <td>37.620</td>\n",
       "      <td>11514330</td>\n",
       "      <td>663</td>\n",
       "      <td>MULTIPOLYGON (((37.2905 55.80199, 37.29542 55....</td>\n",
       "      <td>kids_pets</td>\n",
       "      <td>575.069</td>\n",
       "      <td>487.485</td>\n",
       "      <td>486920</td>\n",
       "    </tr>\n",
       "    <tr>\n",
       "      <th>1</th>\n",
       "      <td>1</td>\n",
       "      <td>Москва</td>\n",
       "      <td>Москва</td>\n",
       "      <td>UTC+3</td>\n",
       "      <td>55.754</td>\n",
       "      <td>37.620</td>\n",
       "      <td>11514330</td>\n",
       "      <td>663</td>\n",
       "      <td>MULTIPOLYGON (((37.2905 55.80199, 37.29542 55....</td>\n",
       "      <td>grocery_pos</td>\n",
       "      <td>1158.853</td>\n",
       "      <td>515.523</td>\n",
       "      <td>525530</td>\n",
       "    </tr>\n",
       "    <tr>\n",
       "      <th>0</th>\n",
       "      <td>1</td>\n",
       "      <td>Москва</td>\n",
       "      <td>Москва</td>\n",
       "      <td>UTC+3</td>\n",
       "      <td>55.754</td>\n",
       "      <td>37.620</td>\n",
       "      <td>11514330</td>\n",
       "      <td>663</td>\n",
       "      <td>MULTIPOLYGON (((37.2905 55.80199, 37.29542 55....</td>\n",
       "      <td>gas_transport</td>\n",
       "      <td>635.770</td>\n",
       "      <td>158.284</td>\n",
       "      <td>563700</td>\n",
       "    </tr>\n",
       "    <tr>\n",
       "      <th>2</th>\n",
       "      <td>1</td>\n",
       "      <td>Москва</td>\n",
       "      <td>Москва</td>\n",
       "      <td>UTC+3</td>\n",
       "      <td>55.754</td>\n",
       "      <td>37.620</td>\n",
       "      <td>11514330</td>\n",
       "      <td>663</td>\n",
       "      <td>MULTIPOLYGON (((37.2905 55.80199, 37.29542 55....</td>\n",
       "      <td>home</td>\n",
       "      <td>579.954</td>\n",
       "      <td>480.853</td>\n",
       "      <td>523450</td>\n",
       "    </tr>\n",
       "    <tr>\n",
       "      <th>6</th>\n",
       "      <td>1</td>\n",
       "      <td>Москва</td>\n",
       "      <td>Москва</td>\n",
       "      <td>UTC+3</td>\n",
       "      <td>55.754</td>\n",
       "      <td>37.620</td>\n",
       "      <td>11514330</td>\n",
       "      <td>663</td>\n",
       "      <td>MULTIPOLYGON (((37.2905 55.80199, 37.29542 55....</td>\n",
       "      <td>personal_care</td>\n",
       "      <td>482.330</td>\n",
       "      <td>494.109</td>\n",
       "      <td>393270</td>\n",
       "    </tr>\n",
       "    <tr>\n",
       "      <th>...</th>\n",
       "      <td>...</td>\n",
       "      <td>...</td>\n",
       "      <td>...</td>\n",
       "      <td>...</td>\n",
       "      <td>...</td>\n",
       "      <td>...</td>\n",
       "      <td>...</td>\n",
       "      <td>...</td>\n",
       "      <td>...</td>\n",
       "      <td>...</td>\n",
       "      <td>...</td>\n",
       "      <td>...</td>\n",
       "      <td>...</td>\n",
       "    </tr>\n",
       "    <tr>\n",
       "      <th>839</th>\n",
       "      <td>20</td>\n",
       "      <td>Иркутская</td>\n",
       "      <td>Братск</td>\n",
       "      <td>UTC+8</td>\n",
       "      <td>56.151</td>\n",
       "      <td>101.634</td>\n",
       "      <td>246348</td>\n",
       "      <td>43</td>\n",
       "      <td>POLYGON ((101.35303 56.14807, 101.35323 56.148...</td>\n",
       "      <td>shopping_pos</td>\n",
       "      <td>768.625</td>\n",
       "      <td>2324.847</td>\n",
       "      <td>497910</td>\n",
       "    </tr>\n",
       "    <tr>\n",
       "      <th>843</th>\n",
       "      <td>20</td>\n",
       "      <td>Иркутская</td>\n",
       "      <td>Братск</td>\n",
       "      <td>UTC+8</td>\n",
       "      <td>56.151</td>\n",
       "      <td>101.634</td>\n",
       "      <td>246348</td>\n",
       "      <td>43</td>\n",
       "      <td>POLYGON ((101.35303 56.14807, 101.35323 56.148...</td>\n",
       "      <td>food_dining</td>\n",
       "      <td>507.779</td>\n",
       "      <td>484.491</td>\n",
       "      <td>392680</td>\n",
       "    </tr>\n",
       "    <tr>\n",
       "      <th>844</th>\n",
       "      <td>20</td>\n",
       "      <td>Иркутская</td>\n",
       "      <td>Братск</td>\n",
       "      <td>UTC+8</td>\n",
       "      <td>56.151</td>\n",
       "      <td>101.634</td>\n",
       "      <td>246348</td>\n",
       "      <td>43</td>\n",
       "      <td>POLYGON ((101.35303 56.14807, 101.35323 56.148...</td>\n",
       "      <td>health_fitness</td>\n",
       "      <td>538.674</td>\n",
       "      <td>479.653</td>\n",
       "      <td>366740</td>\n",
       "    </tr>\n",
       "    <tr>\n",
       "      <th>845</th>\n",
       "      <td>20</td>\n",
       "      <td>Иркутская</td>\n",
       "      <td>Братск</td>\n",
       "      <td>UTC+8</td>\n",
       "      <td>56.151</td>\n",
       "      <td>101.634</td>\n",
       "      <td>246348</td>\n",
       "      <td>43</td>\n",
       "      <td>POLYGON ((101.35303 56.14807, 101.35323 56.148...</td>\n",
       "      <td>misc_pos</td>\n",
       "      <td>621.822</td>\n",
       "      <td>1339.872</td>\n",
       "      <td>345740</td>\n",
       "    </tr>\n",
       "    <tr>\n",
       "      <th>846</th>\n",
       "      <td>20</td>\n",
       "      <td>Иркутская</td>\n",
       "      <td>Братск</td>\n",
       "      <td>UTC+8</td>\n",
       "      <td>56.151</td>\n",
       "      <td>101.634</td>\n",
       "      <td>246348</td>\n",
       "      <td>43</td>\n",
       "      <td>POLYGON ((101.35303 56.14807, 101.35323 56.148...</td>\n",
       "      <td>travel</td>\n",
       "      <td>1123.897</td>\n",
       "      <td>5959.463</td>\n",
       "      <td>174490</td>\n",
       "    </tr>\n",
       "  </tbody>\n",
       "</table>\n",
       "<p>847 rows × 13 columns</p>\n",
       "</div>"
      ],
      "text/plain": [
       "     district_code     region    area timezone    lat     lon  population  \\\n",
       "4                1     Москва  Москва    UTC+3 55.754  37.620    11514330   \n",
       "1                1     Москва  Москва    UTC+3 55.754  37.620    11514330   \n",
       "0                1     Москва  Москва    UTC+3 55.754  37.620    11514330   \n",
       "2                1     Москва  Москва    UTC+3 55.754  37.620    11514330   \n",
       "6                1     Москва  Москва    UTC+3 55.754  37.620    11514330   \n",
       "..             ...        ...     ...      ...    ...     ...         ...   \n",
       "839             20  Иркутская  Братск    UTC+8 56.151 101.634      246348   \n",
       "843             20  Иркутская  Братск    UTC+8 56.151 101.634      246348   \n",
       "844             20  Иркутская  Братск    UTC+8 56.151 101.634      246348   \n",
       "845             20  Иркутская  Братск    UTC+8 56.151 101.634      246348   \n",
       "846             20  Иркутская  Братск    UTC+8 56.151 101.634      246348   \n",
       "\n",
       "     clients                                           geometry  \\\n",
       "4        663  MULTIPOLYGON (((37.2905 55.80199, 37.29542 55....   \n",
       "1        663  MULTIPOLYGON (((37.2905 55.80199, 37.29542 55....   \n",
       "0        663  MULTIPOLYGON (((37.2905 55.80199, 37.29542 55....   \n",
       "2        663  MULTIPOLYGON (((37.2905 55.80199, 37.29542 55....   \n",
       "6        663  MULTIPOLYGON (((37.2905 55.80199, 37.29542 55....   \n",
       "..       ...                                                ...   \n",
       "839       43  POLYGON ((101.35303 56.14807, 101.35323 56.148...   \n",
       "843       43  POLYGON ((101.35303 56.14807, 101.35323 56.148...   \n",
       "844       43  POLYGON ((101.35303 56.14807, 101.35323 56.148...   \n",
       "845       43  POLYGON ((101.35303 56.14807, 101.35323 56.148...   \n",
       "846       43  POLYGON ((101.35303 56.14807, 101.35323 56.148...   \n",
       "\n",
       "           category  avg_amt  amt_std  cat_count  \n",
       "4         kids_pets  575.069  487.485     486920  \n",
       "1       grocery_pos 1158.853  515.523     525530  \n",
       "0     gas_transport  635.770  158.284     563700  \n",
       "2              home  579.954  480.853     523450  \n",
       "6     personal_care  482.330  494.109     393270  \n",
       "..              ...      ...      ...        ...  \n",
       "839    shopping_pos  768.625 2324.847     497910  \n",
       "843     food_dining  507.779  484.491     392680  \n",
       "844  health_fitness  538.674  479.653     366740  \n",
       "845        misc_pos  621.822 1339.872     345740  \n",
       "846          travel 1123.897 5959.463     174490  \n",
       "\n",
       "[847 rows x 13 columns]"
      ]
     },
     "execution_count": 240,
     "metadata": {},
     "output_type": "execute_result"
    }
   ],
   "source": [
    "\n",
    "selling_points_prep = district_ru_merge.merge(offline_categories, how=\"cross\").sort_values(\"population\", ascending=False)\n",
    "selling_points_prep"
   ]
  },
  {
   "cell_type": "code",
   "execution_count": 307,
   "id": "05e77935-19cb-49bd-9adf-6fc6b2769349",
   "metadata": {},
   "outputs": [],
   "source": [
    "selling_points_8_merchants = selling_points_prep.copy()\n",
    "\n",
    "for i in range(1,8):\n",
    "    df = selling_points_prep.copy()\n",
    "    selling_points_8_merchants = pd.concat([selling_points_8_merchants, df], ignore_index=True)"
   ]
  },
  {
   "cell_type": "code",
   "execution_count": 309,
   "id": "6914dabe-bf47-4b7c-a5d8-6ccbb91ec060",
   "metadata": {},
   "outputs": [
    {
     "data": {
      "text/plain": [
       "(6776, 13)"
      ]
     },
     "execution_count": 309,
     "metadata": {},
     "output_type": "execute_result"
    }
   ],
   "source": [
    "selling_points_8_merchants.shape"
   ]
  },
  {
   "cell_type": "code",
   "execution_count": 267,
   "id": "a289d4d9-5f7f-4ea7-b515-a0c1082ee064",
   "metadata": {},
   "outputs": [],
   "source": [
    "# selling_points_5_merchants.drop(columns=\"merchant_id\", inplace=True)"
   ]
  },
  {
   "cell_type": "code",
   "execution_count": 310,
   "id": "ab383955-6f29-4b77-a7c9-2336d20a1c1a",
   "metadata": {},
   "outputs": [],
   "source": [
    "merchant_id = 1\n",
    "for lab, row in selling_points_8_merchants.iterrows():\n",
    "        selling_points_8_merchants.loc[lab, \"merchant_id\"] = merchant_id\n",
    "        merchant_id += 1"
   ]
  },
  {
   "cell_type": "code",
   "execution_count": 312,
   "id": "469a6fb9-fe54-4b70-abf3-37830399b9b9",
   "metadata": {},
   "outputs": [
    {
     "data": {
      "text/plain": [
       "6776"
      ]
     },
     "execution_count": 312,
     "metadata": {},
     "output_type": "execute_result"
    }
   ],
   "source": [
    "selling_points_8_merchants.merchant_id.nunique()"
   ]
  },
  {
   "cell_type": "code",
   "execution_count": 648,
   "id": "6f33c3a9-16f2-4065-8815-fd1a5d66c427",
   "metadata": {
    "scrolled": true
   },
   "outputs": [
    {
     "data": {
      "text/html": [
       "<div>\n",
       "<style scoped>\n",
       "    .dataframe tbody tr th:only-of-type {\n",
       "        vertical-align: middle;\n",
       "    }\n",
       "\n",
       "    .dataframe tbody tr th {\n",
       "        vertical-align: top;\n",
       "    }\n",
       "\n",
       "    .dataframe thead th {\n",
       "        text-align: right;\n",
       "    }\n",
       "</style>\n",
       "<table border=\"1\" class=\"dataframe\">\n",
       "  <thead>\n",
       "    <tr style=\"text-align: right;\">\n",
       "      <th></th>\n",
       "      <th>district_code</th>\n",
       "      <th>region</th>\n",
       "      <th>area</th>\n",
       "      <th>timezone</th>\n",
       "      <th>lat</th>\n",
       "      <th>lon</th>\n",
       "      <th>population</th>\n",
       "      <th>clients</th>\n",
       "      <th>geometry</th>\n",
       "      <th>category</th>\n",
       "      <th>avg_amt</th>\n",
       "      <th>amt_std</th>\n",
       "      <th>cat_count</th>\n",
       "      <th>merchant_id</th>\n",
       "      <th>merchant_loc</th>\n",
       "    </tr>\n",
       "  </thead>\n",
       "  <tbody>\n",
       "    <tr>\n",
       "      <th>0</th>\n",
       "      <td>1</td>\n",
       "      <td>Москва</td>\n",
       "      <td>Москва</td>\n",
       "      <td>UTC+3</td>\n",
       "      <td>55.753879</td>\n",
       "      <td>37.620373</td>\n",
       "      <td>11514330</td>\n",
       "      <td>663</td>\n",
       "      <td>MULTIPOLYGON (((37.2905 55.80199, 37.29542 55....</td>\n",
       "      <td>kids_pets</td>\n",
       "      <td>575.069126</td>\n",
       "      <td>487.484822</td>\n",
       "      <td>486920</td>\n",
       "      <td>1.0</td>\n",
       "      <td>POINT (37.474316943268114 55.88357347760059)</td>\n",
       "    </tr>\n",
       "    <tr>\n",
       "      <th>1</th>\n",
       "      <td>1</td>\n",
       "      <td>Москва</td>\n",
       "      <td>Москва</td>\n",
       "      <td>UTC+3</td>\n",
       "      <td>55.753879</td>\n",
       "      <td>37.620373</td>\n",
       "      <td>11514330</td>\n",
       "      <td>663</td>\n",
       "      <td>MULTIPOLYGON (((37.2905 55.80199, 37.29542 55....</td>\n",
       "      <td>grocery_pos</td>\n",
       "      <td>1158.853270</td>\n",
       "      <td>515.523301</td>\n",
       "      <td>525530</td>\n",
       "      <td>2.0</td>\n",
       "      <td>POINT (37.7532536917489 55.71553818693781)</td>\n",
       "    </tr>\n",
       "    <tr>\n",
       "      <th>2</th>\n",
       "      <td>1</td>\n",
       "      <td>Москва</td>\n",
       "      <td>Москва</td>\n",
       "      <td>UTC+3</td>\n",
       "      <td>55.753879</td>\n",
       "      <td>37.620373</td>\n",
       "      <td>11514330</td>\n",
       "      <td>663</td>\n",
       "      <td>MULTIPOLYGON (((37.2905 55.80199, 37.29542 55....</td>\n",
       "      <td>gas_transport</td>\n",
       "      <td>635.770012</td>\n",
       "      <td>158.283987</td>\n",
       "      <td>563700</td>\n",
       "      <td>3.0</td>\n",
       "      <td>POINT (37.776684638898566 55.74638629747583)</td>\n",
       "    </tr>\n",
       "    <tr>\n",
       "      <th>3</th>\n",
       "      <td>1</td>\n",
       "      <td>Москва</td>\n",
       "      <td>Москва</td>\n",
       "      <td>UTC+3</td>\n",
       "      <td>55.753879</td>\n",
       "      <td>37.620373</td>\n",
       "      <td>11514330</td>\n",
       "      <td>663</td>\n",
       "      <td>MULTIPOLYGON (((37.2905 55.80199, 37.29542 55....</td>\n",
       "      <td>home</td>\n",
       "      <td>579.954129</td>\n",
       "      <td>480.852810</td>\n",
       "      <td>523450</td>\n",
       "      <td>4.0</td>\n",
       "      <td>POINT (37.61477234324918 55.700006617455415)</td>\n",
       "    </tr>\n",
       "    <tr>\n",
       "      <th>4</th>\n",
       "      <td>1</td>\n",
       "      <td>Москва</td>\n",
       "      <td>Москва</td>\n",
       "      <td>UTC+3</td>\n",
       "      <td>55.753879</td>\n",
       "      <td>37.620373</td>\n",
       "      <td>11514330</td>\n",
       "      <td>663</td>\n",
       "      <td>MULTIPOLYGON (((37.2905 55.80199, 37.29542 55....</td>\n",
       "      <td>personal_care</td>\n",
       "      <td>482.330206</td>\n",
       "      <td>494.109413</td>\n",
       "      <td>393270</td>\n",
       "      <td>5.0</td>\n",
       "      <td>POINT (37.44386586889964 55.76291806293364)</td>\n",
       "    </tr>\n",
       "  </tbody>\n",
       "</table>\n",
       "</div>"
      ],
      "text/plain": [
       "   district_code  region    area timezone        lat        lon  population  \\\n",
       "0              1  Москва  Москва    UTC+3  55.753879  37.620373    11514330   \n",
       "1              1  Москва  Москва    UTC+3  55.753879  37.620373    11514330   \n",
       "2              1  Москва  Москва    UTC+3  55.753879  37.620373    11514330   \n",
       "3              1  Москва  Москва    UTC+3  55.753879  37.620373    11514330   \n",
       "4              1  Москва  Москва    UTC+3  55.753879  37.620373    11514330   \n",
       "\n",
       "   clients                                           geometry       category  \\\n",
       "0      663  MULTIPOLYGON (((37.2905 55.80199, 37.29542 55....      kids_pets   \n",
       "1      663  MULTIPOLYGON (((37.2905 55.80199, 37.29542 55....    grocery_pos   \n",
       "2      663  MULTIPOLYGON (((37.2905 55.80199, 37.29542 55....  gas_transport   \n",
       "3      663  MULTIPOLYGON (((37.2905 55.80199, 37.29542 55....           home   \n",
       "4      663  MULTIPOLYGON (((37.2905 55.80199, 37.29542 55....  personal_care   \n",
       "\n",
       "       avg_amt     amt_std  cat_count  merchant_id  \\\n",
       "0   575.069126  487.484822     486920          1.0   \n",
       "1  1158.853270  515.523301     525530          2.0   \n",
       "2   635.770012  158.283987     563700          3.0   \n",
       "3   579.954129  480.852810     523450          4.0   \n",
       "4   482.330206  494.109413     393270          5.0   \n",
       "\n",
       "                                   merchant_loc  \n",
       "0  POINT (37.474316943268114 55.88357347760059)  \n",
       "1    POINT (37.7532536917489 55.71553818693781)  \n",
       "2  POINT (37.776684638898566 55.74638629747583)  \n",
       "3  POINT (37.61477234324918 55.700006617455415)  \n",
       "4   POINT (37.44386586889964 55.76291806293364)  "
      ]
     },
     "execution_count": 648,
     "metadata": {},
     "output_type": "execute_result"
    }
   ],
   "source": [
    "selling_points_8_merchants.head()"
   ]
  },
  {
   "cell_type": "markdown",
   "id": "e5e98573-c48c-4e21-aa3c-289ff31fbe67",
   "metadata": {},
   "source": [
    "## Генерация координат для мерчантов в каждом городе"
   ]
  },
  {
   "cell_type": "code",
   "execution_count": 299,
   "id": "95f2d008-656e-4d61-8ab3-a60e7af884b2",
   "metadata": {},
   "outputs": [],
   "source": [
    "# selling_points_5_merchants.drop(columns=\"merchant_loc\", inplace=True)"
   ]
  },
  {
   "cell_type": "code",
   "execution_count": 313,
   "id": "30648df0-7280-4341-b43a-5c5995084571",
   "metadata": {},
   "outputs": [],
   "source": [
    "# для каждого мерчанта генерируем свои координаты. цикл while для случаев если gen_trans_coordinates не вернет точек внутри города т.е. пустая серия\n",
    "\n",
    "for lab, row in selling_points_8_merchants.iterrows():\n",
    "    points = pd.Series()\n",
    "    while points.empty:\n",
    "        points, gdp_poly = gen_trans_coordinates(row[\"geometry\"], 20)\n",
    "    selling_points_8_merchants.loc[lab, \"merchant_loc\"] = points.iloc[0,0]\n",
    "    "
   ]
  },
  {
   "cell_type": "code",
   "execution_count": 314,
   "id": "3e797308-19d6-4adf-a858-fd6f24a6ffe4",
   "metadata": {},
   "outputs": [
    {
     "data": {
      "text/plain": [
       "np.int64(0)"
      ]
     },
     "execution_count": 314,
     "metadata": {},
     "output_type": "execute_result"
    }
   ],
   "source": [
    "selling_points_8_merchants.merchant_loc.isna().sum()"
   ]
  },
  {
   "cell_type": "code",
   "execution_count": 315,
   "id": "8ced9f4c-e090-4e04-8539-ac9a812b6ce6",
   "metadata": {},
   "outputs": [
    {
     "data": {
      "text/plain": [
       "6776"
      ]
     },
     "execution_count": 315,
     "metadata": {},
     "output_type": "execute_result"
    }
   ],
   "source": [
    "selling_points_8_merchants.merchant_loc.nunique()"
   ]
  },
  {
   "cell_type": "code",
   "execution_count": 320,
   "id": "a0edc206-00a9-42cb-9e77-689f56d47fbf",
   "metadata": {},
   "outputs": [],
   "source": [
    "# point_1 = Random_Points_in_Bounds(nn_poly, 1)\n",
    "# points_2 = Random_Points_in_Bounds(nn_poly, 1)\n",
    "# Point(point_1) == Point(point_1)"
   ]
  },
  {
   "cell_type": "code",
   "execution_count": 337,
   "id": "68bbf1c0-8ed3-43aa-8ec6-c64e688b2fb4",
   "metadata": {},
   "outputs": [],
   "source": [
    "# for _ in range(10):\n",
    "#     i = 0\n",
    "#     e = 0\n",
    "#     while i < 4235:\n",
    "#         pnts_in_poly, gdf_poly = gen_trans_coordinates(nn_poly, 20)\n",
    "#         if pnts_in_poly.empty:\n",
    "#             e += 1\n",
    "#         i += 1\n",
    "    \n",
    "#     print(f\"{100 * e / i:.2f}\")"
   ]
  },
  {
   "cell_type": "code",
   "execution_count": 330,
   "id": "3cd57781-f7b8-45af-b518-1392b13e856e",
   "metadata": {},
   "outputs": [],
   "source": [
    "# Проверка результата на нескольких случайных городах\n",
    "six_random_cities_check = selling_points_8_merchants \\\n",
    "                            .query(\"area in ['Нижний Новгород', 'Калининград', 'Магнитогорск', 'Екатеринбург', 'Братск', 'Махачкала']\") \\\n",
    "                            [[\"area\", \"geometry\", \"merchant_loc\"]]"
   ]
  },
  {
   "cell_type": "code",
   "execution_count": 336,
   "id": "ccb6644b-7e75-4313-92c5-d3660dd13f66",
   "metadata": {},
   "outputs": [
    {
     "data": {
      "image/png": "[encoded data removed]",
      "text/plain": [
       "<Figure size 640x480 with 6 Axes>"
      ]
     },
     "metadata": {},
     "output_type": "display_data"
    }
   ],
   "source": [
    "fig, axes = plt.subplots(nrows=3, ncols=2)\n",
    "six_random_cities_names = [['Нижний Новгород', 'Калининград'], ['Магнитогорск', 'Екатеринбург'], ['Братск', 'Махачкала']]\n",
    "\n",
    "# all_geoms = gpd.GeoSeries(six_random_cities_check.geometry)\n",
    "# minx, miny, maxx, maxy = all_geoms.total_bounds\n",
    "\n",
    "for row, two_cities in zip(axes, six_random_cities_names):\n",
    "    for ax, city in zip(row, two_cities):\n",
    "        gpd.GeoSeries(six_random_cities_check.query(\"area == @city\").geometry).boundary.plot(linewidth=1, edgecolor=\"black\", ax=ax)\n",
    "        gpd.GeoSeries(six_random_cities_check.query(\"area == @city\").merchant_loc).plot(ax=ax, linewidth=1, color=\"red\", markersize=8)\n",
    "        ax.set_title(city)\n",
    "        # ax.set_xlim(minx, maxx)\n",
    "        # ax.set_ylim(miny, maxy)\n",
    "plt.tight_layout()\n",
    "plt.show()"
   ]
  },
  {
   "cell_type": "code",
   "execution_count": 338,
   "id": "10adceb2-4a8a-4e2e-af0e-e1dd4db5d4e7",
   "metadata": {},
   "outputs": [
    {
     "data": {
      "text/html": [
       "<div>\n",
       "<style scoped>\n",
       "    .dataframe tbody tr th:only-of-type {\n",
       "        vertical-align: middle;\n",
       "    }\n",
       "\n",
       "    .dataframe tbody tr th {\n",
       "        vertical-align: top;\n",
       "    }\n",
       "\n",
       "    .dataframe thead th {\n",
       "        text-align: right;\n",
       "    }\n",
       "</style>\n",
       "<table border=\"1\" class=\"dataframe\">\n",
       "  <thead>\n",
       "    <tr style=\"text-align: right;\">\n",
       "      <th></th>\n",
       "      <th>client_id</th>\n",
       "      <th>district_id</th>\n",
       "      <th>birth_date</th>\n",
       "      <th>sex</th>\n",
       "    </tr>\n",
       "  </thead>\n",
       "  <tbody>\n",
       "    <tr>\n",
       "      <th>0</th>\n",
       "      <td>1</td>\n",
       "      <td>18</td>\n",
       "      <td>1970-12-13</td>\n",
       "      <td>female</td>\n",
       "    </tr>\n",
       "    <tr>\n",
       "      <th>1</th>\n",
       "      <td>2</td>\n",
       "      <td>1</td>\n",
       "      <td>1945-02-04</td>\n",
       "      <td>male</td>\n",
       "    </tr>\n",
       "    <tr>\n",
       "      <th>2</th>\n",
       "      <td>3</td>\n",
       "      <td>1</td>\n",
       "      <td>1940-10-09</td>\n",
       "      <td>female</td>\n",
       "    </tr>\n",
       "    <tr>\n",
       "      <th>3</th>\n",
       "      <td>4</td>\n",
       "      <td>5</td>\n",
       "      <td>1956-12-01</td>\n",
       "      <td>male</td>\n",
       "    </tr>\n",
       "    <tr>\n",
       "      <th>4</th>\n",
       "      <td>5</td>\n",
       "      <td>5</td>\n",
       "      <td>1960-07-03</td>\n",
       "      <td>female</td>\n",
       "    </tr>\n",
       "  </tbody>\n",
       "</table>\n",
       "</div>"
      ],
      "text/plain": [
       "   client_id  district_id  birth_date     sex\n",
       "0          1           18  1970-12-13  female\n",
       "1          2            1  1945-02-04    male\n",
       "2          3            1  1940-10-09  female\n",
       "3          4            5  1956-12-01    male\n",
       "4          5            5  1960-07-03  female"
      ]
     },
     "execution_count": 338,
     "metadata": {},
     "output_type": "execute_result"
    }
   ],
   "source": [
    "\n",
    "clients.head()"
   ]
  },
  {
   "cell_type": "markdown",
   "id": "a33fccd5-8470-4862-8bcc-c3451f536117",
   "metadata": {},
   "source": [
    "# Генерация ip-адресов для клиентов\n",
    "Понадобится для онлайн покупок и, возможно, переводов"
   ]
  },
  {
   "cell_type": "code",
   "execution_count": 342,
   "id": "377b3eca-dc22-4d7a-a4ac-c9ec762b060b",
   "metadata": {},
   "outputs": [
    {
     "data": {
      "text/html": [
       "<div>\n",
       "<style scoped>\n",
       "    .dataframe tbody tr th:only-of-type {\n",
       "        vertical-align: middle;\n",
       "    }\n",
       "\n",
       "    .dataframe tbody tr th {\n",
       "        vertical-align: top;\n",
       "    }\n",
       "\n",
       "    .dataframe thead th {\n",
       "        text-align: right;\n",
       "    }\n",
       "</style>\n",
       "<table border=\"1\" class=\"dataframe\">\n",
       "  <thead>\n",
       "    <tr style=\"text-align: right;\">\n",
       "      <th></th>\n",
       "      <th>client_id</th>\n",
       "      <th>district_id</th>\n",
       "      <th>birth_date</th>\n",
       "      <th>sex</th>\n",
       "      <th>region</th>\n",
       "      <th>area</th>\n",
       "      <th>timezone</th>\n",
       "      <th>lat</th>\n",
       "      <th>lon</th>\n",
       "      <th>population</th>\n",
       "    </tr>\n",
       "  </thead>\n",
       "  <tbody>\n",
       "    <tr>\n",
       "      <th>0</th>\n",
       "      <td>1</td>\n",
       "      <td>18</td>\n",
       "      <td>1970-12-13</td>\n",
       "      <td>female</td>\n",
       "      <td>Рязанская</td>\n",
       "      <td>Рязань</td>\n",
       "      <td>UTC+3</td>\n",
       "      <td>54.625</td>\n",
       "      <td>39.736</td>\n",
       "      <td>525062</td>\n",
       "    </tr>\n",
       "    <tr>\n",
       "      <th>1</th>\n",
       "      <td>2</td>\n",
       "      <td>1</td>\n",
       "      <td>1945-02-04</td>\n",
       "      <td>male</td>\n",
       "      <td>Москва</td>\n",
       "      <td>Москва</td>\n",
       "      <td>UTC+3</td>\n",
       "      <td>55.754</td>\n",
       "      <td>37.620</td>\n",
       "      <td>11514330</td>\n",
       "    </tr>\n",
       "    <tr>\n",
       "      <th>2</th>\n",
       "      <td>3</td>\n",
       "      <td>1</td>\n",
       "      <td>1940-10-09</td>\n",
       "      <td>female</td>\n",
       "      <td>Москва</td>\n",
       "      <td>Москва</td>\n",
       "      <td>UTC+3</td>\n",
       "      <td>55.754</td>\n",
       "      <td>37.620</td>\n",
       "      <td>11514330</td>\n",
       "    </tr>\n",
       "    <tr>\n",
       "      <th>3</th>\n",
       "      <td>4</td>\n",
       "      <td>5</td>\n",
       "      <td>1956-12-01</td>\n",
       "      <td>male</td>\n",
       "      <td>Ростовская</td>\n",
       "      <td>Ростов-на-Дону</td>\n",
       "      <td>UTC+3</td>\n",
       "      <td>47.222</td>\n",
       "      <td>39.719</td>\n",
       "      <td>1091544</td>\n",
       "    </tr>\n",
       "    <tr>\n",
       "      <th>4</th>\n",
       "      <td>5</td>\n",
       "      <td>5</td>\n",
       "      <td>1960-07-03</td>\n",
       "      <td>female</td>\n",
       "      <td>Ростовская</td>\n",
       "      <td>Ростов-на-Дону</td>\n",
       "      <td>UTC+3</td>\n",
       "      <td>47.222</td>\n",
       "      <td>39.719</td>\n",
       "      <td>1091544</td>\n",
       "    </tr>\n",
       "  </tbody>\n",
       "</table>\n",
       "</div>"
      ],
      "text/plain": [
       "   client_id  district_id  birth_date     sex      region            area  \\\n",
       "0          1           18  1970-12-13  female   Рязанская          Рязань   \n",
       "1          2            1  1945-02-04    male      Москва          Москва   \n",
       "2          3            1  1940-10-09  female      Москва          Москва   \n",
       "3          4            5  1956-12-01    male  Ростовская  Ростов-на-Дону   \n",
       "4          5            5  1960-07-03  female  Ростовская  Ростов-на-Дону   \n",
       "\n",
       "  timezone    lat    lon  population  \n",
       "0    UTC+3 54.625 39.736      525062  \n",
       "1    UTC+3 55.754 37.620    11514330  \n",
       "2    UTC+3 55.754 37.620    11514330  \n",
       "3    UTC+3 47.222 39.719     1091544  \n",
       "4    UTC+3 47.222 39.719     1091544  "
      ]
     },
     "execution_count": 342,
     "metadata": {},
     "output_type": "execute_result"
    }
   ],
   "source": [
    "clients_and_geo = clients.merge(district_ru, left_on=\"district_id\", right_on=\"district_code\").drop(columns=[\"district_code\", \"clients\"])\n",
    "clients_and_geo.head()"
   ]
  },
  {
   "cell_type": "code",
   "execution_count": 345,
   "id": "da9b8be0-d0ee-47f9-bfc2-a761612eff77",
   "metadata": {},
   "outputs": [
    {
     "data": {
      "text/plain": [
       "0               Рязань\n",
       "1               Москва\n",
       "2       Ростов-на-Дону\n",
       "3         Петрозаводск\n",
       "4            Ульяновск\n",
       "            ...       \n",
       "72         Стерлитамак\n",
       "73    Набережные Челны\n",
       "74           Астрахань\n",
       "75            Владимир\n",
       "76         Новокузнецк\n",
       "Length: 77, dtype: object"
      ]
     },
     "execution_count": 345,
     "metadata": {},
     "output_type": "execute_result"
    }
   ],
   "source": [
    "ru_77_cities_series = pd.Series(clients_and_geo.area.unique())\n",
    "ru_77_cities_series"
   ]
  },
  {
   "cell_type": "code",
   "execution_count": 431,
   "id": "4aac090e-c198-43d7-80f4-6db29ffd46e5",
   "metadata": {},
   "outputs": [],
   "source": [
    "ru_ip_ranges = pd.read_csv(\"./data/raw_data/geo/Russia_and_Belarus_IP_ranges\", header=None)"
   ]
  },
  {
   "cell_type": "code",
   "execution_count": 432,
   "id": "ce99cc2f-362e-4d1d-994d-671d2f366135",
   "metadata": {},
   "outputs": [],
   "source": [
    "ru_ip_ranges.columns = [\"range\"]"
   ]
  },
  {
   "cell_type": "code",
   "execution_count": 433,
   "id": "2573c09b-47bf-46da-abc2-a5980ab09e0c",
   "metadata": {},
   "outputs": [],
   "source": [
    "ru_ip_ranges[\"range\"] = ru_ip_ranges[\"range\"].str.strip()"
   ]
  },
  {
   "cell_type": "code",
   "execution_count": 434,
   "id": "7556b2b4-1804-4601-9c19-9ed52b246795",
   "metadata": {},
   "outputs": [
    {
     "data": {
      "text/plain": [
       "(22508, 1)"
      ]
     },
     "execution_count": 434,
     "metadata": {},
     "output_type": "execute_result"
    }
   ],
   "source": [
    "ru_ip_ranges.shape"
   ]
  },
  {
   "cell_type": "code",
   "execution_count": 435,
   "id": "86ca8b98-8aea-4600-8d20-f90e9e859eab",
   "metadata": {},
   "outputs": [
    {
     "data": {
      "text/html": [
       "<div>\n",
       "<style scoped>\n",
       "    .dataframe tbody tr th:only-of-type {\n",
       "        vertical-align: middle;\n",
       "    }\n",
       "\n",
       "    .dataframe tbody tr th {\n",
       "        vertical-align: top;\n",
       "    }\n",
       "\n",
       "    .dataframe thead th {\n",
       "        text-align: right;\n",
       "    }\n",
       "</style>\n",
       "<table border=\"1\" class=\"dataframe\">\n",
       "  <thead>\n",
       "    <tr style=\"text-align: right;\">\n",
       "      <th></th>\n",
       "      <th>range</th>\n",
       "    </tr>\n",
       "  </thead>\n",
       "  <tbody>\n",
       "    <tr>\n",
       "      <th>0</th>\n",
       "      <td>2.60.0.0/19</td>\n",
       "    </tr>\n",
       "    <tr>\n",
       "      <th>1</th>\n",
       "      <td>2.60.32.0/19</td>\n",
       "    </tr>\n",
       "    <tr>\n",
       "      <th>2</th>\n",
       "      <td>2.60.64.0/19</td>\n",
       "    </tr>\n",
       "    <tr>\n",
       "      <th>3</th>\n",
       "      <td>2.60.96.0/19</td>\n",
       "    </tr>\n",
       "    <tr>\n",
       "      <th>4</th>\n",
       "      <td>2.60.128.0/19</td>\n",
       "    </tr>\n",
       "  </tbody>\n",
       "</table>\n",
       "</div>"
      ],
      "text/plain": [
       "           range\n",
       "0    2.60.0.0/19\n",
       "1   2.60.32.0/19\n",
       "2   2.60.64.0/19\n",
       "3   2.60.96.0/19\n",
       "4  2.60.128.0/19"
      ]
     },
     "execution_count": 435,
     "metadata": {},
     "output_type": "execute_result"
    }
   ],
   "source": [
    "ru_ip_ranges.head()"
   ]
  },
  {
   "cell_type": "code",
   "execution_count": 446,
   "id": "7dbe99ec-efa4-456c-85b6-58d3f5db9c2d",
   "metadata": {},
   "outputs": [
    {
     "data": {
      "text/plain": [
       "(50, 2)"
      ]
     },
     "execution_count": 446,
     "metadata": {},
     "output_type": "execute_result"
    }
   ],
   "source": [
    "ru_ip_ranges_50 = ru_ip_ranges[:50].copy()\n",
    "ru_ip_ranges_50.shape"
   ]
  },
  {
   "cell_type": "code",
   "execution_count": 447,
   "id": "6e099d45-8cf7-4c97-aede-a1498466abea",
   "metadata": {
    "scrolled": true
   },
   "outputs": [],
   "source": [
    "# создадим группы на основании первых двух цифр айпи, чтобы потом взять определенной количество диапазонов из всего датасета\n",
    "\n",
    "# ru_ip_ranges[\"first_digit\"] = ru_ip_ranges.range.str.split(\".\").str[:2].str.join(\".\")\n",
    "# ru_ip_ranges = ru_ip_ranges[[\"first_digit\", \"range\"]]\n",
    "# ru_ip_ranges.head()"
   ]
  },
  {
   "cell_type": "code",
   "execution_count": 448,
   "id": "2e514ed7-a895-4cc5-99a4-095e165cc0bb",
   "metadata": {},
   "outputs": [],
   "source": [
    "# ru_ip_first_ranges = ru_ip_ranges.groupby(\"first_digit\", as_index=False).head(1).reset_index(drop=True)\n",
    "# ru_ip_first_ranges.head()"
   ]
  },
  {
   "cell_type": "code",
   "execution_count": 438,
   "id": "945766e1-2bfb-4f7e-a93b-a59a57e9a746",
   "metadata": {},
   "outputs": [
    {
     "data": {
      "text/plain": [
       "(2162, 2)"
      ]
     },
     "execution_count": 438,
     "metadata": {},
     "output_type": "execute_result"
    }
   ],
   "source": [
    "# ru_ip_first_ranges.shape"
   ]
  },
  {
   "cell_type": "code",
   "execution_count": 449,
   "id": "bd77fc82-5183-4aa7-abe3-4989c8ffbbcb",
   "metadata": {},
   "outputs": [],
   "source": [
    "# ru_ip_first_ranges.first_digit.str.split(\".\").str[0].nunique()"
   ]
  },
  {
   "cell_type": "code",
   "execution_count": 439,
   "id": "9d916134-2676-4068-a979-b6751f6e88b4",
   "metadata": {},
   "outputs": [],
   "source": [
    "# for range in ru_ip_ranges.head().values:\n",
    "#     print(range[0], \"0000\")"
   ]
  },
  {
   "cell_type": "code",
   "execution_count": 468,
   "id": "b88f80d6-9d8d-4e4a-9509-200b5b468e0c",
   "metadata": {},
   "outputs": [],
   "source": [
    "def get_ips_from_range(ip_range):\n",
    "    unpacked_ips = []\n",
    "    # Создаём объект сети\n",
    "    network = ipaddress.ip_network(ip_range)\n",
    "    \n",
    "    # Вывод всех хостов в сети (исключая сетевой и broadcast-адрес)\n",
    "    for ip in network.hosts():\n",
    "        unpacked_ips.append(str(ip))\n",
    "    return pd.Series(unpacked_ips)"
   ]
  },
  {
   "cell_type": "code",
   "execution_count": 552,
   "id": "7e4011e2-9ebb-4406-a720-656651d43bb5",
   "metadata": {},
   "outputs": [
    {
     "data": {
      "text/plain": [
       "606876"
      ]
     },
     "execution_count": 552,
     "metadata": {},
     "output_type": "execute_result"
    }
   ],
   "source": [
    "# unpacked_ips_glob = []\n",
    "# unpacked_ips_glob + (ru_ip_ranges_50.range.apply(get_ips_from_range))\n",
    "unpacked_ips_glob = pd.concat([get_ips_from_range(ip_range) for ip_range in ru_ip_ranges_50.range.values], ignore_index=True)\n",
    "unpacked_ips_glob.nunique()"
   ]
  },
  {
   "cell_type": "code",
   "execution_count": 554,
   "id": "7b4a83f4-7ea1-41dc-a80d-f8d9968f251a",
   "metadata": {},
   "outputs": [
    {
     "data": {
      "text/plain": [
       "606871    5.8.31.250\n",
       "606872    5.8.31.251\n",
       "606873    5.8.31.252\n",
       "606874    5.8.31.253\n",
       "606875    5.8.31.254\n",
       "dtype: object"
      ]
     },
     "execution_count": 554,
     "metadata": {},
     "output_type": "execute_result"
    }
   ],
   "source": [
    "unpacked_ips_glob.tail()"
   ]
  },
  {
   "cell_type": "markdown",
   "id": "a78b1bcb-be92-46bc-a4af-f288e9716aef",
   "metadata": {},
   "source": [
    "## Присвоение ip клиентам и потенциальным мошенникам"
   ]
  },
  {
   "cell_type": "code",
   "execution_count": 474,
   "id": "2f115950-5f61-43fd-a21d-58369998699b",
   "metadata": {},
   "outputs": [
    {
     "data": {
      "text/html": [
       "<div>\n",
       "<style scoped>\n",
       "    .dataframe tbody tr th:only-of-type {\n",
       "        vertical-align: middle;\n",
       "    }\n",
       "\n",
       "    .dataframe tbody tr th {\n",
       "        vertical-align: top;\n",
       "    }\n",
       "\n",
       "    .dataframe thead th {\n",
       "        text-align: right;\n",
       "    }\n",
       "</style>\n",
       "<table border=\"1\" class=\"dataframe\">\n",
       "  <thead>\n",
       "    <tr style=\"text-align: right;\">\n",
       "      <th></th>\n",
       "      <th>client_id</th>\n",
       "      <th>district_id</th>\n",
       "      <th>birth_date</th>\n",
       "      <th>sex</th>\n",
       "      <th>district_code</th>\n",
       "      <th>region</th>\n",
       "      <th>area</th>\n",
       "      <th>timezone</th>\n",
       "      <th>lat</th>\n",
       "      <th>lon</th>\n",
       "      <th>population</th>\n",
       "      <th>clients</th>\n",
       "      <th>geometry</th>\n",
       "    </tr>\n",
       "  </thead>\n",
       "  <tbody>\n",
       "    <tr>\n",
       "      <th>0</th>\n",
       "      <td>1</td>\n",
       "      <td>18</td>\n",
       "      <td>1970-12-13</td>\n",
       "      <td>female</td>\n",
       "      <td>18</td>\n",
       "      <td>Рязанская</td>\n",
       "      <td>Рязань</td>\n",
       "      <td>UTC+3</td>\n",
       "      <td>54.625</td>\n",
       "      <td>39.736</td>\n",
       "      <td>525062</td>\n",
       "      <td>60</td>\n",
       "      <td>POLYGON ((39.53667 54.6385, 39.53677 54.63889,...</td>\n",
       "    </tr>\n",
       "    <tr>\n",
       "      <th>1</th>\n",
       "      <td>2</td>\n",
       "      <td>1</td>\n",
       "      <td>1945-02-04</td>\n",
       "      <td>male</td>\n",
       "      <td>1</td>\n",
       "      <td>Москва</td>\n",
       "      <td>Москва</td>\n",
       "      <td>UTC+3</td>\n",
       "      <td>55.754</td>\n",
       "      <td>37.620</td>\n",
       "      <td>11514330</td>\n",
       "      <td>663</td>\n",
       "      <td>MULTIPOLYGON (((37.2905 55.80199, 37.29542 55....</td>\n",
       "    </tr>\n",
       "    <tr>\n",
       "      <th>2</th>\n",
       "      <td>3</td>\n",
       "      <td>1</td>\n",
       "      <td>1940-10-09</td>\n",
       "      <td>female</td>\n",
       "      <td>1</td>\n",
       "      <td>Москва</td>\n",
       "      <td>Москва</td>\n",
       "      <td>UTC+3</td>\n",
       "      <td>55.754</td>\n",
       "      <td>37.620</td>\n",
       "      <td>11514330</td>\n",
       "      <td>663</td>\n",
       "      <td>MULTIPOLYGON (((37.2905 55.80199, 37.29542 55....</td>\n",
       "    </tr>\n",
       "    <tr>\n",
       "      <th>3</th>\n",
       "      <td>4</td>\n",
       "      <td>5</td>\n",
       "      <td>1956-12-01</td>\n",
       "      <td>male</td>\n",
       "      <td>5</td>\n",
       "      <td>Ростовская</td>\n",
       "      <td>Ростов-на-Дону</td>\n",
       "      <td>UTC+3</td>\n",
       "      <td>47.222</td>\n",
       "      <td>39.719</td>\n",
       "      <td>1091544</td>\n",
       "      <td>71</td>\n",
       "      <td>POLYGON ((39.47099 47.20487, 39.48381 47.22205...</td>\n",
       "    </tr>\n",
       "    <tr>\n",
       "      <th>4</th>\n",
       "      <td>5</td>\n",
       "      <td>5</td>\n",
       "      <td>1960-07-03</td>\n",
       "      <td>female</td>\n",
       "      <td>5</td>\n",
       "      <td>Ростовская</td>\n",
       "      <td>Ростов-на-Дону</td>\n",
       "      <td>UTC+3</td>\n",
       "      <td>47.222</td>\n",
       "      <td>39.719</td>\n",
       "      <td>1091544</td>\n",
       "      <td>71</td>\n",
       "      <td>POLYGON ((39.47099 47.20487, 39.48381 47.22205...</td>\n",
       "    </tr>\n",
       "  </tbody>\n",
       "</table>\n",
       "</div>"
      ],
      "text/plain": [
       "   client_id  district_id  birth_date     sex  district_code      region  \\\n",
       "0          1           18  1970-12-13  female             18   Рязанская   \n",
       "1          2            1  1945-02-04    male              1      Москва   \n",
       "2          3            1  1940-10-09  female              1      Москва   \n",
       "3          4            5  1956-12-01    male              5  Ростовская   \n",
       "4          5            5  1960-07-03  female              5  Ростовская   \n",
       "\n",
       "             area timezone    lat    lon  population  clients  \\\n",
       "0          Рязань    UTC+3 54.625 39.736      525062       60   \n",
       "1          Москва    UTC+3 55.754 37.620    11514330      663   \n",
       "2          Москва    UTC+3 55.754 37.620    11514330      663   \n",
       "3  Ростов-на-Дону    UTC+3 47.222 39.719     1091544       71   \n",
       "4  Ростов-на-Дону    UTC+3 47.222 39.719     1091544       71   \n",
       "\n",
       "                                            geometry  \n",
       "0  POLYGON ((39.53667 54.6385, 39.53677 54.63889,...  \n",
       "1  MULTIPOLYGON (((37.2905 55.80199, 37.29542 55....  \n",
       "2  MULTIPOLYGON (((37.2905 55.80199, 37.29542 55....  \n",
       "3  POLYGON ((39.47099 47.20487, 39.48381 47.22205...  \n",
       "4  POLYGON ((39.47099 47.20487, 39.48381 47.22205...  "
      ]
     },
     "execution_count": 474,
     "metadata": {},
     "output_type": "execute_result"
    }
   ],
   "source": [
    "clients_with_geo.head()"
   ]
  },
  {
   "cell_type": "code",
   "execution_count": 442,
   "id": "c65b942b-e250-4cc7-8dea-1d612c2b9dfc",
   "metadata": {},
   "outputs": [],
   "source": [
    "# pd.concat([ru_ip_first_ranges.range.apply(get_ips_from_range)], ignore_index=True)"
   ]
  },
  {
   "cell_type": "code",
   "execution_count": 477,
   "id": "03096bd8-3bf9-40e9-b4f6-f43037a04094",
   "metadata": {},
   "outputs": [
    {
     "data": {
      "text/plain": [
       "5369"
      ]
     },
     "execution_count": 477,
     "metadata": {},
     "output_type": "execute_result"
    }
   ],
   "source": [
    "clients_rows = clients_with_geo.shape[0]\n",
    "clients_rows"
   ]
  },
  {
   "cell_type": "code",
   "execution_count": 555,
   "id": "c1b70d62-9282-42ee-befb-5d4f123f9195",
   "metadata": {
    "scrolled": true
   },
   "outputs": [
    {
     "data": {
      "text/html": [
       "<div>\n",
       "<style scoped>\n",
       "    .dataframe tbody tr th:only-of-type {\n",
       "        vertical-align: middle;\n",
       "    }\n",
       "\n",
       "    .dataframe tbody tr th {\n",
       "        vertical-align: top;\n",
       "    }\n",
       "\n",
       "    .dataframe thead th {\n",
       "        text-align: right;\n",
       "    }\n",
       "</style>\n",
       "<table border=\"1\" class=\"dataframe\">\n",
       "  <thead>\n",
       "    <tr style=\"text-align: right;\">\n",
       "      <th></th>\n",
       "      <th>client_id</th>\n",
       "      <th>district_id</th>\n",
       "      <th>birth_date</th>\n",
       "      <th>sex</th>\n",
       "      <th>district_code</th>\n",
       "      <th>region</th>\n",
       "      <th>area</th>\n",
       "      <th>timezone</th>\n",
       "      <th>lat</th>\n",
       "      <th>lon</th>\n",
       "      <th>population</th>\n",
       "      <th>clients</th>\n",
       "      <th>geometry</th>\n",
       "      <th>home_ip</th>\n",
       "    </tr>\n",
       "  </thead>\n",
       "  <tbody>\n",
       "    <tr>\n",
       "      <th>0</th>\n",
       "      <td>1</td>\n",
       "      <td>18</td>\n",
       "      <td>1970-12-13</td>\n",
       "      <td>female</td>\n",
       "      <td>18</td>\n",
       "      <td>Рязанская</td>\n",
       "      <td>Рязань</td>\n",
       "      <td>UTC+3</td>\n",
       "      <td>54.625457</td>\n",
       "      <td>39.735999</td>\n",
       "      <td>525062</td>\n",
       "      <td>60</td>\n",
       "      <td>POLYGON ((39.53667 54.6385, 39.53677 54.63889,...</td>\n",
       "      <td>2.60.0.1</td>\n",
       "    </tr>\n",
       "    <tr>\n",
       "      <th>1</th>\n",
       "      <td>2</td>\n",
       "      <td>1</td>\n",
       "      <td>1945-02-04</td>\n",
       "      <td>male</td>\n",
       "      <td>1</td>\n",
       "      <td>Москва</td>\n",
       "      <td>Москва</td>\n",
       "      <td>UTC+3</td>\n",
       "      <td>55.753879</td>\n",
       "      <td>37.620373</td>\n",
       "      <td>11514330</td>\n",
       "      <td>663</td>\n",
       "      <td>MULTIPOLYGON (((37.2905 55.80199, 37.29542 55....</td>\n",
       "      <td>2.60.0.2</td>\n",
       "    </tr>\n",
       "    <tr>\n",
       "      <th>2</th>\n",
       "      <td>3</td>\n",
       "      <td>1</td>\n",
       "      <td>1940-10-09</td>\n",
       "      <td>female</td>\n",
       "      <td>1</td>\n",
       "      <td>Москва</td>\n",
       "      <td>Москва</td>\n",
       "      <td>UTC+3</td>\n",
       "      <td>55.753879</td>\n",
       "      <td>37.620373</td>\n",
       "      <td>11514330</td>\n",
       "      <td>663</td>\n",
       "      <td>MULTIPOLYGON (((37.2905 55.80199, 37.29542 55....</td>\n",
       "      <td>2.60.0.3</td>\n",
       "    </tr>\n",
       "    <tr>\n",
       "      <th>3</th>\n",
       "      <td>4</td>\n",
       "      <td>5</td>\n",
       "      <td>1956-12-01</td>\n",
       "      <td>male</td>\n",
       "      <td>5</td>\n",
       "      <td>Ростовская</td>\n",
       "      <td>Ростов-на-Дону</td>\n",
       "      <td>UTC+3</td>\n",
       "      <td>47.222436</td>\n",
       "      <td>39.718787</td>\n",
       "      <td>1091544</td>\n",
       "      <td>71</td>\n",
       "      <td>POLYGON ((39.47099 47.20487, 39.48381 47.22205...</td>\n",
       "      <td>2.60.0.4</td>\n",
       "    </tr>\n",
       "    <tr>\n",
       "      <th>4</th>\n",
       "      <td>5</td>\n",
       "      <td>5</td>\n",
       "      <td>1960-07-03</td>\n",
       "      <td>female</td>\n",
       "      <td>5</td>\n",
       "      <td>Ростовская</td>\n",
       "      <td>Ростов-на-Дону</td>\n",
       "      <td>UTC+3</td>\n",
       "      <td>47.222436</td>\n",
       "      <td>39.718787</td>\n",
       "      <td>1091544</td>\n",
       "      <td>71</td>\n",
       "      <td>POLYGON ((39.47099 47.20487, 39.48381 47.22205...</td>\n",
       "      <td>2.60.0.5</td>\n",
       "    </tr>\n",
       "  </tbody>\n",
       "</table>\n",
       "</div>"
      ],
      "text/plain": [
       "   client_id  district_id  birth_date     sex  district_code      region  \\\n",
       "0          1           18  1970-12-13  female             18   Рязанская   \n",
       "1          2            1  1945-02-04    male              1      Москва   \n",
       "2          3            1  1940-10-09  female              1      Москва   \n",
       "3          4            5  1956-12-01    male              5  Ростовская   \n",
       "4          5            5  1960-07-03  female              5  Ростовская   \n",
       "\n",
       "             area timezone        lat        lon  population  clients  \\\n",
       "0          Рязань    UTC+3  54.625457  39.735999      525062       60   \n",
       "1          Москва    UTC+3  55.753879  37.620373    11514330      663   \n",
       "2          Москва    UTC+3  55.753879  37.620373    11514330      663   \n",
       "3  Ростов-на-Дону    UTC+3  47.222436  39.718787     1091544       71   \n",
       "4  Ростов-на-Дону    UTC+3  47.222436  39.718787     1091544       71   \n",
       "\n",
       "                                            geometry   home_ip  \n",
       "0  POLYGON ((39.53667 54.6385, 39.53677 54.63889,...  2.60.0.1  \n",
       "1  MULTIPOLYGON (((37.2905 55.80199, 37.29542 55....  2.60.0.2  \n",
       "2  MULTIPOLYGON (((37.2905 55.80199, 37.29542 55....  2.60.0.3  \n",
       "3  POLYGON ((39.47099 47.20487, 39.48381 47.22205...  2.60.0.4  \n",
       "4  POLYGON ((39.47099 47.20487, 39.48381 47.22205...  2.60.0.5  "
      ]
     },
     "execution_count": 555,
     "metadata": {},
     "output_type": "execute_result"
    }
   ],
   "source": [
    "clients_with_geo[\"home_ip\"] = unpacked_ips_glob[:clients_rows].copy()\n",
    "clients_with_geo.head()"
   ]
  },
  {
   "cell_type": "code",
   "execution_count": 556,
   "id": "f332df79-47b1-4366-8968-a3ca3485a74e",
   "metadata": {},
   "outputs": [
    {
     "data": {
      "text/plain": [
       "0            Рязань\n",
       "1            Москва\n",
       "2    Ростов-на-Дону\n",
       "3      Петрозаводск\n",
       "4         Ульяновск\n",
       "dtype: object"
      ]
     },
     "execution_count": 556,
     "metadata": {},
     "output_type": "execute_result"
    }
   ],
   "source": [
    "ru_77_cities_series.head()"
   ]
  },
  {
   "cell_type": "code",
   "execution_count": 571,
   "id": "db0e6cfc-a585-4aca-9a6b-8a8a5b8af960",
   "metadata": {},
   "outputs": [
    {
     "name": "stdout",
     "output_type": "stream",
     "text": [
      "(7700,)\n"
     ]
    },
    {
     "data": {
      "text/plain": [
       "7695         Стерлитамак\n",
       "7696    Набережные Челны\n",
       "7697           Астрахань\n",
       "7698            Владимир\n",
       "7699         Новокузнецк\n",
       "dtype: object"
      ]
     },
     "execution_count": 571,
     "metadata": {},
     "output_type": "execute_result"
    }
   ],
   "source": [
    "# умножим количество имеющихся городов в 100 раз для добавления 7700 мошеннических/подозрительных ip адресов\n",
    "\n",
    "online_fraud_cities = pd.concat([ru_77_cities_series for _ in range(100)], ignore_index=True)\n",
    "print(online_fraud_cities.shape)\n",
    "online_fraud_cities.tail()"
   ]
  },
  {
   "cell_type": "code",
   "execution_count": 572,
   "id": "d0407b57-e48e-4291-9c39-6cdc8cf01872",
   "metadata": {},
   "outputs": [
    {
     "data": {
      "text/plain": [
       "0       5.3.252.223\n",
       "1       5.3.252.224\n",
       "2       5.3.252.225\n",
       "3       5.3.252.226\n",
       "4       5.3.252.227\n",
       "           ...     \n",
       "7695     5.8.31.250\n",
       "7696     5.8.31.251\n",
       "7697     5.8.31.252\n",
       "7698     5.8.31.253\n",
       "7699     5.8.31.254\n",
       "Length: 7700, dtype: object"
      ]
     },
     "execution_count": 572,
     "metadata": {},
     "output_type": "execute_result"
    }
   ],
   "source": [
    "# возьмем 7700 ip с конца серии. home ip клиентов мы сзяли с начала серии. Серия очень большая: 600+ тыс адресов\n",
    "fraud_ip_ser = unpacked_ips_glob.iloc[np.r_[-online_fraud_cities.shape[0]:0]].reset_index(drop=True)\n",
    "fraud_ip_ser"
   ]
  },
  {
   "cell_type": "code",
   "execution_count": 574,
   "id": "629b9be3-240a-46b8-9865-282fc4d677f5",
   "metadata": {},
   "outputs": [
    {
     "name": "stdout",
     "output_type": "stream",
     "text": [
      "(7700, 2)\n"
     ]
    },
    {
     "data": {
      "text/html": [
       "<div>\n",
       "<style scoped>\n",
       "    .dataframe tbody tr th:only-of-type {\n",
       "        vertical-align: middle;\n",
       "    }\n",
       "\n",
       "    .dataframe tbody tr th {\n",
       "        vertical-align: top;\n",
       "    }\n",
       "\n",
       "    .dataframe thead th {\n",
       "        text-align: right;\n",
       "    }\n",
       "</style>\n",
       "<table border=\"1\" class=\"dataframe\">\n",
       "  <thead>\n",
       "    <tr style=\"text-align: right;\">\n",
       "      <th></th>\n",
       "      <th>area</th>\n",
       "      <th>fraud_ip</th>\n",
       "    </tr>\n",
       "  </thead>\n",
       "  <tbody>\n",
       "    <tr>\n",
       "      <th>7695</th>\n",
       "      <td>Стерлитамак</td>\n",
       "      <td>5.8.31.250</td>\n",
       "    </tr>\n",
       "    <tr>\n",
       "      <th>7696</th>\n",
       "      <td>Набережные Челны</td>\n",
       "      <td>5.8.31.251</td>\n",
       "    </tr>\n",
       "    <tr>\n",
       "      <th>7697</th>\n",
       "      <td>Астрахань</td>\n",
       "      <td>5.8.31.252</td>\n",
       "    </tr>\n",
       "    <tr>\n",
       "      <th>7698</th>\n",
       "      <td>Владимир</td>\n",
       "      <td>5.8.31.253</td>\n",
       "    </tr>\n",
       "    <tr>\n",
       "      <th>7699</th>\n",
       "      <td>Новокузнецк</td>\n",
       "      <td>5.8.31.254</td>\n",
       "    </tr>\n",
       "  </tbody>\n",
       "</table>\n",
       "</div>"
      ],
      "text/plain": [
       "                  area    fraud_ip\n",
       "7695       Стерлитамак  5.8.31.250\n",
       "7696  Набережные Челны  5.8.31.251\n",
       "7697         Астрахань  5.8.31.252\n",
       "7698          Владимир  5.8.31.253\n",
       "7699       Новокузнецк  5.8.31.254"
      ]
     },
     "execution_count": 574,
     "metadata": {},
     "output_type": "execute_result"
    }
   ],
   "source": [
    "# соединим названия городов и ip адреса\n",
    "\n",
    "fraud_ips = pd.concat([online_fraud_cities, fraud_ip_ser], axis=1)\n",
    "fraud_ips.columns = [\"area\", \"fraud_ip\"]\n",
    "print(fraud_ips.shape)\n",
    "fraud_ips.tail()"
   ]
  },
  {
   "cell_type": "code",
   "execution_count": 575,
   "id": "3263e4d3-e7ca-4139-a5fa-54d36149f5e2",
   "metadata": {},
   "outputs": [],
   "source": [
    "# cities_for_fraud_trans = ru_cities_short.sort_values(\"popul_ru_clean\", ascending=False).reset_index(drop=True)[:400].copy()\n",
    "# print(cities_for_fraud_trans.shape[0])\n",
    "# cities_for_fraud_trans.head()"
   ]
  },
  {
   "cell_type": "code",
   "execution_count": null,
   "id": "e291a87a-5bbc-472c-8008-16273b70e8be",
   "metadata": {},
   "outputs": [],
   "source": []
  },
  {
   "cell_type": "markdown",
   "id": "c1a96966-6e15-479f-929f-c8bac51cf2f3",
   "metadata": {},
   "source": [
    "# Генерация транзакций"
   ]
  },
  {
   "cell_type": "code",
   "execution_count": 576,
   "id": "aaaae433-d258-4764-a53a-349f90f6aa36",
   "metadata": {},
   "outputs": [],
   "source": [
    "import random\n",
    "from datetime import timedelta"
   ]
  },
  {
   "cell_type": "code",
   "execution_count": 640,
   "id": "f88b2f8d-9278-4b37-9da4-96e47948a2f0",
   "metadata": {},
   "outputs": [],
   "source": [
    "# trans_exp = trans[:1000].copy()\n",
    "# trans_exp.tail()"
   ]
  },
  {
   "cell_type": "code",
   "execution_count": 641,
   "id": "380a51cd-3874-4285-86e5-40e87daf4458",
   "metadata": {},
   "outputs": [],
   "source": [
    "# trans_exp[\"date\"] = pd.to_datetime(trans_exp.date)"
   ]
  },
  {
   "cell_type": "code",
   "execution_count": 639,
   "id": "2679ebe0-2086-467c-a9ec-12f2f3a8e9aa",
   "metadata": {},
   "outputs": [],
   "source": [
    "# leap_year_tx = pd.DataFrame({\"trans_id\":[88888888], \"account_id\":[99999999], \\\n",
    "#                              \"date\": [pd.to_datetime(\"1996-02-29\")], \"type\":[\"withdrawal\"], \\\n",
    "#                              \"operation\":[\"withdrawal in cash\"], \"amount\":[2000], \\\n",
    "#                              \"balance\":[100000]})"
   ]
  },
  {
   "cell_type": "code",
   "execution_count": 628,
   "id": "2eb25f4e-1b35-47e4-a06b-2288adf1ac9d",
   "metadata": {},
   "outputs": [],
   "source": [
    "# trans_exp = \n",
    "# trans_exp.loc[1000] = leap_year_tx\n",
    "# trans_exp = pd.concat([trans_exp, leap_year_tx], ignore_index=True)"
   ]
  },
  {
   "cell_type": "code",
   "execution_count": 636,
   "id": "93944bd0-3715-4c71-a7c0-06229e56e688",
   "metadata": {},
   "outputs": [],
   "source": [
    "# trans_exp.drop(index=1000, inplace=True)"
   ]
  },
  {
   "cell_type": "code",
   "execution_count": 638,
   "id": "8c92dac2-842d-45e6-a0da-374673df8bae",
   "metadata": {},
   "outputs": [],
   "source": [
    "# trans_exp[\"changed_date\"] = pd.to_datetime(trans_exp.date.dt.year.add(24).astype(str) \\\n",
    "#                                     + \"-\" + trans_exp.date.dt.month.astype(str) \\\n",
    "#                                     + \"-\" + trans_exp.date.dt.day.astype(str))"
   ]
  },
  {
   "cell_type": "code",
   "execution_count": 642,
   "id": "4310c0fe-ce78-47c1-90f1-72809ebc6008",
   "metadata": {},
   "outputs": [],
   "source": [
    "# trans_exp[[\"date\", \"changed_date\"]]"
   ]
  },
  {
   "cell_type": "code",
   "execution_count": 652,
   "id": "20ed09f0-c5a5-42b5-a84e-a46ecc49199f",
   "metadata": {},
   "outputs": [],
   "source": [
    "# clients_with_card = disp.merge(clients, on=\"client_id\") \\\n",
    "#                         .merge(card, on=\"disp_id\") \\\n",
    "#                         [[\"client_id\", \"district_id\", \"birth_date\", \"sex\", \"type_y\", \"issued\"]] \\\n",
    "#                         .rename(columns={\"type_y\":\"card_type\"}).copy()"
   ]
  },
  {
   "cell_type": "code",
   "execution_count": 663,
   "id": "4da04e6e-29a1-483f-8034-1a5533e8ba80",
   "metadata": {},
   "outputs": [],
   "source": [
    "dates = pd.Series(pd.date_range(pd.to_datetime(\"2017-01-01\"), pd.to_datetime(\"2022-12-31\"), freq='min'))"
   ]
  },
  {
   "cell_type": "code",
   "execution_count": 665,
   "id": "adabbd4e-252f-42c2-8c87-0a33ca5d70c1",
   "metadata": {},
   "outputs": [
    {
     "data": {
      "text/plain": [
       "min   2017-01-03 12:12:00\n",
       "max   2022-12-30 19:32:00\n",
       "dtype: datetime64[ns]"
      ]
     },
     "execution_count": 665,
     "metadata": {},
     "output_type": "execute_result"
    }
   ],
   "source": [
    "dates.sample(n=1000, replace=True).agg([\"min\", \"max\"]) #.to_pydatetime().tolist()"
   ]
  },
  {
   "cell_type": "code",
   "execution_count": 799,
   "id": "741ed0c3-f951-4f37-ac92-9979ce08addc",
   "metadata": {},
   "outputs": [
    {
     "data": {
      "text/plain": [
       "Timestamp('2018-11-17 13:08:00')"
      ]
     },
     "execution_count": 799,
     "metadata": {},
     "output_type": "execute_result"
    }
   ],
   "source": [
    "dates.sample(n=1, replace=True).iloc[0]"
   ]
  },
  {
   "cell_type": "code",
   "execution_count": 1081,
   "id": "5baa2db8-cc19-45e5-9646-9ba6a9008cbc",
   "metadata": {},
   "outputs": [
    {
     "data": {
      "text/html": [
       "<div>\n",
       "<style scoped>\n",
       "    .dataframe tbody tr th:only-of-type {\n",
       "        vertical-align: middle;\n",
       "    }\n",
       "\n",
       "    .dataframe tbody tr th {\n",
       "        vertical-align: top;\n",
       "    }\n",
       "\n",
       "    .dataframe thead th {\n",
       "        text-align: right;\n",
       "    }\n",
       "</style>\n",
       "<table border=\"1\" class=\"dataframe\">\n",
       "  <thead>\n",
       "    <tr style=\"text-align: right;\">\n",
       "      <th></th>\n",
       "      <th>category</th>\n",
       "      <th>avg_amt</th>\n",
       "      <th>amt_std</th>\n",
       "      <th>cat_count</th>\n",
       "      <th>online</th>\n",
       "      <th>share</th>\n",
       "    </tr>\n",
       "  </thead>\n",
       "  <tbody>\n",
       "    <tr>\n",
       "      <th>0</th>\n",
       "      <td>gas_transport</td>\n",
       "      <td>63.577001</td>\n",
       "      <td>15.828399</td>\n",
       "      <td>56370</td>\n",
       "      <td>False</td>\n",
       "      <td>0.101436</td>\n",
       "    </tr>\n",
       "    <tr>\n",
       "      <th>1</th>\n",
       "      <td>grocery_pos</td>\n",
       "      <td>115.885327</td>\n",
       "      <td>51.552330</td>\n",
       "      <td>52553</td>\n",
       "      <td>False</td>\n",
       "      <td>0.094568</td>\n",
       "    </tr>\n",
       "    <tr>\n",
       "      <th>2</th>\n",
       "      <td>home</td>\n",
       "      <td>57.995413</td>\n",
       "      <td>48.085281</td>\n",
       "      <td>52345</td>\n",
       "      <td>False</td>\n",
       "      <td>0.094193</td>\n",
       "    </tr>\n",
       "    <tr>\n",
       "      <th>3</th>\n",
       "      <td>shopping_pos</td>\n",
       "      <td>76.862457</td>\n",
       "      <td>232.484678</td>\n",
       "      <td>49791</td>\n",
       "      <td>False</td>\n",
       "      <td>0.089597</td>\n",
       "    </tr>\n",
       "    <tr>\n",
       "      <th>4</th>\n",
       "      <td>kids_pets</td>\n",
       "      <td>57.506913</td>\n",
       "      <td>48.748482</td>\n",
       "      <td>48692</td>\n",
       "      <td>False</td>\n",
       "      <td>0.087620</td>\n",
       "    </tr>\n",
       "    <tr>\n",
       "      <th>5</th>\n",
       "      <td>shopping_net</td>\n",
       "      <td>83.481653</td>\n",
       "      <td>237.219758</td>\n",
       "      <td>41779</td>\n",
       "      <td>True</td>\n",
       "      <td>0.075180</td>\n",
       "    </tr>\n",
       "  </tbody>\n",
       "</table>\n",
       "</div>"
      ],
      "text/plain": [
       "        category     avg_amt     amt_std  cat_count online     share\n",
       "0  gas_transport   63.577001   15.828399      56370  False  0.101436\n",
       "1    grocery_pos  115.885327   51.552330      52553  False  0.094568\n",
       "2           home   57.995413   48.085281      52345  False  0.094193\n",
       "3   shopping_pos   76.862457  232.484678      49791  False  0.089597\n",
       "4      kids_pets   57.506913   48.748482      48692  False  0.087620\n",
       "5   shopping_net   83.481653  237.219758      41779   True  0.075180"
      ]
     },
     "execution_count": 1081,
     "metadata": {},
     "output_type": "execute_result"
    }
   ],
   "source": [
    "# добавим колонку онлайн или не онлайн категория со значениями 1 и 0 соответсвенно\n",
    "\n",
    "category_stats.loc[category_stats.category.str.contains(\"net\"), \"online\"] = True\n",
    "category_stats.loc[~category_stats.category.str.contains(\"net\"), \"online\"] = False\n",
    "category_stats.head(6)"
   ]
  },
  {
   "cell_type": "code",
   "execution_count": 1082,
   "id": "5707ab2e-a864-41bc-9cf5-d56e21883cce",
   "metadata": {},
   "outputs": [
    {
     "data": {
      "text/html": [
       "<div>\n",
       "<style scoped>\n",
       "    .dataframe tbody tr th:only-of-type {\n",
       "        vertical-align: middle;\n",
       "    }\n",
       "\n",
       "    .dataframe tbody tr th {\n",
       "        vertical-align: top;\n",
       "    }\n",
       "\n",
       "    .dataframe thead th {\n",
       "        text-align: right;\n",
       "    }\n",
       "</style>\n",
       "<table border=\"1\" class=\"dataframe\">\n",
       "  <thead>\n",
       "    <tr style=\"text-align: right;\">\n",
       "      <th></th>\n",
       "      <th>category</th>\n",
       "      <th>avg_amt</th>\n",
       "      <th>amt_std</th>\n",
       "      <th>cat_count</th>\n",
       "      <th>online</th>\n",
       "      <th>share</th>\n",
       "    </tr>\n",
       "  </thead>\n",
       "  <tbody>\n",
       "    <tr>\n",
       "      <th>0</th>\n",
       "      <td>gas_transport</td>\n",
       "      <td>63.577001</td>\n",
       "      <td>15.828399</td>\n",
       "      <td>56370</td>\n",
       "      <td>False</td>\n",
       "      <td>0.101436</td>\n",
       "    </tr>\n",
       "    <tr>\n",
       "      <th>1</th>\n",
       "      <td>grocery_pos</td>\n",
       "      <td>115.885327</td>\n",
       "      <td>51.552330</td>\n",
       "      <td>52553</td>\n",
       "      <td>False</td>\n",
       "      <td>0.094568</td>\n",
       "    </tr>\n",
       "    <tr>\n",
       "      <th>2</th>\n",
       "      <td>home</td>\n",
       "      <td>57.995413</td>\n",
       "      <td>48.085281</td>\n",
       "      <td>52345</td>\n",
       "      <td>False</td>\n",
       "      <td>0.094193</td>\n",
       "    </tr>\n",
       "    <tr>\n",
       "      <th>3</th>\n",
       "      <td>shopping_pos</td>\n",
       "      <td>76.862457</td>\n",
       "      <td>232.484678</td>\n",
       "      <td>49791</td>\n",
       "      <td>False</td>\n",
       "      <td>0.089597</td>\n",
       "    </tr>\n",
       "    <tr>\n",
       "      <th>4</th>\n",
       "      <td>kids_pets</td>\n",
       "      <td>57.506913</td>\n",
       "      <td>48.748482</td>\n",
       "      <td>48692</td>\n",
       "      <td>False</td>\n",
       "      <td>0.087620</td>\n",
       "    </tr>\n",
       "  </tbody>\n",
       "</table>\n",
       "</div>"
      ],
      "text/plain": [
       "        category     avg_amt     amt_std  cat_count online     share\n",
       "0  gas_transport   63.577001   15.828399      56370  False  0.101436\n",
       "1    grocery_pos  115.885327   51.552330      52553  False  0.094568\n",
       "2           home   57.995413   48.085281      52345  False  0.094193\n",
       "3   shopping_pos   76.862457  232.484678      49791  False  0.089597\n",
       "4      kids_pets   57.506913   48.748482      48692  False  0.087620"
      ]
     },
     "execution_count": 1082,
     "metadata": {},
     "output_type": "execute_result"
    }
   ],
   "source": [
    "# добавим долю категории, ее \"вес\" среди категорий - для определения распростаненности категории\n",
    "\n",
    "category_stats[\"share\"] = category_stats.cat_count.div(category_stats.cat_count.sum())\n",
    "category_stats.head()"
   ]
  },
  {
   "cell_type": "code",
   "execution_count": 1083,
   "id": "d16d2a65-64e4-4f7b-852c-1be89dc2725b",
   "metadata": {},
   "outputs": [],
   "source": [
    "category_stats_final = category_stats.copy()"
   ]
  },
  {
   "cell_type": "code",
   "execution_count": 1084,
   "id": "51834053-e117-40c3-82b4-46742128ed22",
   "metadata": {},
   "outputs": [
    {
     "data": {
      "text/html": [
       "<div>\n",
       "<style scoped>\n",
       "    .dataframe tbody tr th:only-of-type {\n",
       "        vertical-align: middle;\n",
       "    }\n",
       "\n",
       "    .dataframe tbody tr th {\n",
       "        vertical-align: top;\n",
       "    }\n",
       "\n",
       "    .dataframe thead th {\n",
       "        text-align: right;\n",
       "    }\n",
       "</style>\n",
       "<table border=\"1\" class=\"dataframe\">\n",
       "  <thead>\n",
       "    <tr style=\"text-align: right;\">\n",
       "      <th></th>\n",
       "      <th>category</th>\n",
       "      <th>avg_amt</th>\n",
       "      <th>amt_std</th>\n",
       "      <th>cat_count</th>\n",
       "      <th>online</th>\n",
       "      <th>share</th>\n",
       "    </tr>\n",
       "  </thead>\n",
       "  <tbody>\n",
       "    <tr>\n",
       "      <th>0</th>\n",
       "      <td>gas_transport</td>\n",
       "      <td>635.770012</td>\n",
       "      <td>158.283987</td>\n",
       "      <td>56370</td>\n",
       "      <td>False</td>\n",
       "      <td>0.101436</td>\n",
       "    </tr>\n",
       "    <tr>\n",
       "      <th>1</th>\n",
       "      <td>grocery_pos</td>\n",
       "      <td>1158.853270</td>\n",
       "      <td>515.523301</td>\n",
       "      <td>52553</td>\n",
       "      <td>False</td>\n",
       "      <td>0.094568</td>\n",
       "    </tr>\n",
       "    <tr>\n",
       "      <th>2</th>\n",
       "      <td>home</td>\n",
       "      <td>579.954129</td>\n",
       "      <td>480.852810</td>\n",
       "      <td>52345</td>\n",
       "      <td>False</td>\n",
       "      <td>0.094193</td>\n",
       "    </tr>\n",
       "    <tr>\n",
       "      <th>3</th>\n",
       "      <td>shopping_pos</td>\n",
       "      <td>768.624573</td>\n",
       "      <td>2324.846777</td>\n",
       "      <td>49791</td>\n",
       "      <td>False</td>\n",
       "      <td>0.089597</td>\n",
       "    </tr>\n",
       "    <tr>\n",
       "      <th>4</th>\n",
       "      <td>kids_pets</td>\n",
       "      <td>575.069126</td>\n",
       "      <td>487.484822</td>\n",
       "      <td>48692</td>\n",
       "      <td>False</td>\n",
       "      <td>0.087620</td>\n",
       "    </tr>\n",
       "    <tr>\n",
       "      <th>5</th>\n",
       "      <td>shopping_net</td>\n",
       "      <td>834.816532</td>\n",
       "      <td>2372.197581</td>\n",
       "      <td>41779</td>\n",
       "      <td>True</td>\n",
       "      <td>0.075180</td>\n",
       "    </tr>\n",
       "    <tr>\n",
       "      <th>6</th>\n",
       "      <td>entertainment</td>\n",
       "      <td>639.848399</td>\n",
       "      <td>642.299347</td>\n",
       "      <td>40104</td>\n",
       "      <td>False</td>\n",
       "      <td>0.072166</td>\n",
       "    </tr>\n",
       "    <tr>\n",
       "      <th>7</th>\n",
       "      <td>personal_care</td>\n",
       "      <td>482.330206</td>\n",
       "      <td>494.109413</td>\n",
       "      <td>39327</td>\n",
       "      <td>False</td>\n",
       "      <td>0.070768</td>\n",
       "    </tr>\n",
       "    <tr>\n",
       "      <th>8</th>\n",
       "      <td>food_dining</td>\n",
       "      <td>507.779383</td>\n",
       "      <td>484.490535</td>\n",
       "      <td>39268</td>\n",
       "      <td>False</td>\n",
       "      <td>0.070662</td>\n",
       "    </tr>\n",
       "    <tr>\n",
       "      <th>9</th>\n",
       "      <td>health_fitness</td>\n",
       "      <td>538.674317</td>\n",
       "      <td>479.652511</td>\n",
       "      <td>36674</td>\n",
       "      <td>False</td>\n",
       "      <td>0.065994</td>\n",
       "    </tr>\n",
       "    <tr>\n",
       "      <th>10</th>\n",
       "      <td>misc_pos</td>\n",
       "      <td>621.822459</td>\n",
       "      <td>1339.872277</td>\n",
       "      <td>34574</td>\n",
       "      <td>False</td>\n",
       "      <td>0.062215</td>\n",
       "    </tr>\n",
       "    <tr>\n",
       "      <th>11</th>\n",
       "      <td>misc_net</td>\n",
       "      <td>786.002368</td>\n",
       "      <td>1636.390889</td>\n",
       "      <td>27367</td>\n",
       "      <td>True</td>\n",
       "      <td>0.049246</td>\n",
       "    </tr>\n",
       "    <tr>\n",
       "      <th>12</th>\n",
       "      <td>grocery_net</td>\n",
       "      <td>537.316674</td>\n",
       "      <td>229.084365</td>\n",
       "      <td>19426</td>\n",
       "      <td>True</td>\n",
       "      <td>0.034957</td>\n",
       "    </tr>\n",
       "    <tr>\n",
       "      <th>13</th>\n",
       "      <td>travel</td>\n",
       "      <td>1123.896825</td>\n",
       "      <td>5959.462948</td>\n",
       "      <td>17449</td>\n",
       "      <td>False</td>\n",
       "      <td>0.031399</td>\n",
       "    </tr>\n",
       "  </tbody>\n",
       "</table>\n",
       "</div>"
      ],
      "text/plain": [
       "          category      avg_amt      amt_std  cat_count online     share\n",
       "0    gas_transport   635.770012   158.283987      56370  False  0.101436\n",
       "1      grocery_pos  1158.853270   515.523301      52553  False  0.094568\n",
       "2             home   579.954129   480.852810      52345  False  0.094193\n",
       "3     shopping_pos   768.624573  2324.846777      49791  False  0.089597\n",
       "4        kids_pets   575.069126   487.484822      48692  False  0.087620\n",
       "5     shopping_net   834.816532  2372.197581      41779   True  0.075180\n",
       "6    entertainment   639.848399   642.299347      40104  False  0.072166\n",
       "7    personal_care   482.330206   494.109413      39327  False  0.070768\n",
       "8      food_dining   507.779383   484.490535      39268  False  0.070662\n",
       "9   health_fitness   538.674317   479.652511      36674  False  0.065994\n",
       "10        misc_pos   621.822459  1339.872277      34574  False  0.062215\n",
       "11        misc_net   786.002368  1636.390889      27367   True  0.049246\n",
       "12     grocery_net   537.316674   229.084365      19426   True  0.034957\n",
       "13          travel  1123.896825  5959.462948      17449  False  0.031399"
      ]
     },
     "execution_count": 1084,
     "metadata": {},
     "output_type": "execute_result"
    }
   ],
   "source": [
    "category_stats_final[[\"avg_amt\",\"amt_std\"]] = category_stats_final[[\"avg_amt\",\"amt_std\"]] * 10\n",
    "category_stats_final"
   ]
  },
  {
   "cell_type": "code",
   "execution_count": 735,
   "id": "5701f17f-4fea-4f7d-88ef-31f168a6cb4b",
   "metadata": {},
   "outputs": [],
   "source": [
    "# cat_sample_1000 = category_stats_final.category.sample(1000, replace=True, weights=category_stats_final.share)"
   ]
  },
  {
   "cell_type": "code",
   "execution_count": 736,
   "id": "afe35b08-98af-494f-9a22-c7895a829a2e",
   "metadata": {},
   "outputs": [],
   "source": [
    "# pd.concat([category_stats_final, cat_sample_100.value_counts(normalize=True).reset_index()], axis=1)"
   ]
  },
  {
   "cell_type": "markdown",
   "id": "c6fd0b7e-ee97-425c-88fe-46f273086b57",
   "metadata": {},
   "source": [
    "# Создал доли категорий. И семплинг в зависимости от доли. Можно встраивать в генератор транзакций"
   ]
  },
  {
   "cell_type": "code",
   "execution_count": 1085,
   "id": "4c2d7d05-2620-4882-84ac-4bad3b68c0ca",
   "metadata": {},
   "outputs": [
    {
     "data": {
      "text/html": [
       "<div>\n",
       "<style scoped>\n",
       "    .dataframe tbody tr th:only-of-type {\n",
       "        vertical-align: middle;\n",
       "    }\n",
       "\n",
       "    .dataframe tbody tr th {\n",
       "        vertical-align: top;\n",
       "    }\n",
       "\n",
       "    .dataframe thead th {\n",
       "        text-align: right;\n",
       "    }\n",
       "</style>\n",
       "<table border=\"1\" class=\"dataframe\">\n",
       "  <thead>\n",
       "    <tr style=\"text-align: right;\">\n",
       "      <th></th>\n",
       "      <th>category</th>\n",
       "      <th>avg_amt</th>\n",
       "      <th>amt_std</th>\n",
       "      <th>cat_count</th>\n",
       "      <th>online</th>\n",
       "      <th>share</th>\n",
       "    </tr>\n",
       "  </thead>\n",
       "  <tbody>\n",
       "    <tr>\n",
       "      <th>8</th>\n",
       "      <td>food_dining</td>\n",
       "      <td>507.779383</td>\n",
       "      <td>484.490535</td>\n",
       "      <td>39268</td>\n",
       "      <td>False</td>\n",
       "      <td>0.070662</td>\n",
       "    </tr>\n",
       "  </tbody>\n",
       "</table>\n",
       "</div>"
      ],
      "text/plain": [
       "      category     avg_amt     amt_std  cat_count online     share\n",
       "8  food_dining  507.779383  484.490535      39268  False  0.070662"
      ]
     },
     "execution_count": 1085,
     "metadata": {},
     "output_type": "execute_result"
    }
   ],
   "source": [
    "category_stats_final.sample(1, replace=True, weights=category_stats_final.share)"
   ]
  },
  {
   "cell_type": "code",
   "execution_count": 795,
   "id": "17e95fbc-930a-4a77-8dd3-ae58d73afd42",
   "metadata": {},
   "outputs": [],
   "source": [
    "# pd.Series([random.random() for i in range(100)]).agg([\"min\",\"max\"])"
   ]
  },
  {
   "cell_type": "code",
   "execution_count": 754,
   "id": "86cf200d-b8c1-4113-8ad4-35d462375701",
   "metadata": {},
   "outputs": [],
   "source": [
    "# 100 * 2145 / 520_000"
   ]
  },
  {
   "cell_type": "markdown",
   "id": "52cb0931-3306-42b8-984d-3a6a9e819521",
   "metadata": {},
   "source": [
    "### Найдем долю фрода по категориям из датасета kaggle. Для определения вероятности фрода при генерации транзакций"
   ]
  },
  {
   "cell_type": "code",
   "execution_count": 762,
   "id": "f596b1d6-57c7-4007-b707-08e2419b644c",
   "metadata": {},
   "outputs": [
    {
     "data": {
      "text/html": [
       "<div>\n",
       "<style scoped>\n",
       "    .dataframe tbody tr th:only-of-type {\n",
       "        vertical-align: middle;\n",
       "    }\n",
       "\n",
       "    .dataframe tbody tr th {\n",
       "        vertical-align: top;\n",
       "    }\n",
       "\n",
       "    .dataframe thead th {\n",
       "        text-align: right;\n",
       "    }\n",
       "</style>\n",
       "<table border=\"1\" class=\"dataframe\">\n",
       "  <thead>\n",
       "    <tr style=\"text-align: right;\">\n",
       "      <th></th>\n",
       "      <th>category</th>\n",
       "      <th>fraud_count</th>\n",
       "    </tr>\n",
       "  </thead>\n",
       "  <tbody>\n",
       "    <tr>\n",
       "      <th>0</th>\n",
       "      <td>entertainment</td>\n",
       "      <td>59</td>\n",
       "    </tr>\n",
       "    <tr>\n",
       "      <th>1</th>\n",
       "      <td>food_dining</td>\n",
       "      <td>54</td>\n",
       "    </tr>\n",
       "    <tr>\n",
       "      <th>2</th>\n",
       "      <td>gas_transport</td>\n",
       "      <td>154</td>\n",
       "    </tr>\n",
       "    <tr>\n",
       "      <th>3</th>\n",
       "      <td>grocery_net</td>\n",
       "      <td>41</td>\n",
       "    </tr>\n",
       "    <tr>\n",
       "      <th>4</th>\n",
       "      <td>grocery_pos</td>\n",
       "      <td>485</td>\n",
       "    </tr>\n",
       "  </tbody>\n",
       "</table>\n",
       "</div>"
      ],
      "text/plain": [
       "        category  fraud_count\n",
       "0  entertainment           59\n",
       "1    food_dining           54\n",
       "2  gas_transport          154\n",
       "3    grocery_net           41\n",
       "4    grocery_pos          485"
      ]
     },
     "execution_count": 762,
     "metadata": {},
     "output_type": "execute_result"
    }
   ],
   "source": [
    "fraud_trans_count_by_cat = fraud_kaggle.query(\"is_fraud == 1\") \\\n",
    "                                        .groupby(\"category\", as_index=False).agg({\"trans_num\":\"count\"}) \\\n",
    "                                        .rename(columns={\"trans_num\":\"fraud_count\"})\n",
    "fraud_trans_count_by_cat.head()"
   ]
  },
  {
   "cell_type": "code",
   "execution_count": 1086,
   "id": "5f8203eb-be4c-4712-a75b-f8ed49fbc3c6",
   "metadata": {},
   "outputs": [
    {
     "data": {
      "text/html": [
       "<div>\n",
       "<style scoped>\n",
       "    .dataframe tbody tr th:only-of-type {\n",
       "        vertical-align: middle;\n",
       "    }\n",
       "\n",
       "    .dataframe tbody tr th {\n",
       "        vertical-align: top;\n",
       "    }\n",
       "\n",
       "    .dataframe thead th {\n",
       "        text-align: right;\n",
       "    }\n",
       "</style>\n",
       "<table border=\"1\" class=\"dataframe\">\n",
       "  <thead>\n",
       "    <tr style=\"text-align: right;\">\n",
       "      <th></th>\n",
       "      <th>category</th>\n",
       "      <th>avg_amt</th>\n",
       "      <th>amt_std</th>\n",
       "      <th>cat_count</th>\n",
       "      <th>online</th>\n",
       "      <th>share</th>\n",
       "      <th>fraud_count</th>\n",
       "    </tr>\n",
       "  </thead>\n",
       "  <tbody>\n",
       "    <tr>\n",
       "      <th>0</th>\n",
       "      <td>gas_transport</td>\n",
       "      <td>635.770012</td>\n",
       "      <td>158.283987</td>\n",
       "      <td>56370</td>\n",
       "      <td>False</td>\n",
       "      <td>0.101436</td>\n",
       "      <td>154</td>\n",
       "    </tr>\n",
       "    <tr>\n",
       "      <th>1</th>\n",
       "      <td>grocery_pos</td>\n",
       "      <td>1158.853270</td>\n",
       "      <td>515.523301</td>\n",
       "      <td>52553</td>\n",
       "      <td>False</td>\n",
       "      <td>0.094568</td>\n",
       "      <td>485</td>\n",
       "    </tr>\n",
       "    <tr>\n",
       "      <th>2</th>\n",
       "      <td>home</td>\n",
       "      <td>579.954129</td>\n",
       "      <td>480.852810</td>\n",
       "      <td>52345</td>\n",
       "      <td>False</td>\n",
       "      <td>0.094193</td>\n",
       "      <td>67</td>\n",
       "    </tr>\n",
       "  </tbody>\n",
       "</table>\n",
       "</div>"
      ],
      "text/plain": [
       "        category      avg_amt     amt_std  cat_count online     share  \\\n",
       "0  gas_transport   635.770012  158.283987      56370  False  0.101436   \n",
       "1    grocery_pos  1158.853270  515.523301      52553  False  0.094568   \n",
       "2           home   579.954129  480.852810      52345  False  0.094193   \n",
       "\n",
       "   fraud_count  \n",
       "0          154  \n",
       "1          485  \n",
       "2           67  "
      ]
     },
     "execution_count": 1086,
     "metadata": {},
     "output_type": "execute_result"
    }
   ],
   "source": [
    "cat_stats_full = category_stats_final.merge(fraud_trans_count_by_cat, on=\"category\")\n",
    "cat_stats_full.head(3)"
   ]
  },
  {
   "cell_type": "code",
   "execution_count": 1087,
   "id": "6a326e14-e929-4b3b-b9d6-07837366ecbd",
   "metadata": {
    "scrolled": true
   },
   "outputs": [
    {
     "data": {
      "text/html": [
       "<div>\n",
       "<style scoped>\n",
       "    .dataframe tbody tr th:only-of-type {\n",
       "        vertical-align: middle;\n",
       "    }\n",
       "\n",
       "    .dataframe tbody tr th {\n",
       "        vertical-align: top;\n",
       "    }\n",
       "\n",
       "    .dataframe thead th {\n",
       "        text-align: right;\n",
       "    }\n",
       "</style>\n",
       "<table border=\"1\" class=\"dataframe\">\n",
       "  <thead>\n",
       "    <tr style=\"text-align: right;\">\n",
       "      <th></th>\n",
       "      <th>category</th>\n",
       "      <th>avg_amt</th>\n",
       "      <th>amt_std</th>\n",
       "      <th>cat_count</th>\n",
       "      <th>online</th>\n",
       "      <th>share</th>\n",
       "      <th>fraud_count</th>\n",
       "      <th>fraud_share</th>\n",
       "    </tr>\n",
       "  </thead>\n",
       "  <tbody>\n",
       "    <tr>\n",
       "      <th>0</th>\n",
       "      <td>gas_transport</td>\n",
       "      <td>635.770012</td>\n",
       "      <td>158.283987</td>\n",
       "      <td>56370</td>\n",
       "      <td>False</td>\n",
       "      <td>0.101436</td>\n",
       "      <td>154</td>\n",
       "      <td>0.002732</td>\n",
       "    </tr>\n",
       "    <tr>\n",
       "      <th>1</th>\n",
       "      <td>grocery_pos</td>\n",
       "      <td>1158.853270</td>\n",
       "      <td>515.523301</td>\n",
       "      <td>52553</td>\n",
       "      <td>False</td>\n",
       "      <td>0.094568</td>\n",
       "      <td>485</td>\n",
       "      <td>0.009229</td>\n",
       "    </tr>\n",
       "    <tr>\n",
       "      <th>2</th>\n",
       "      <td>home</td>\n",
       "      <td>579.954129</td>\n",
       "      <td>480.852810</td>\n",
       "      <td>52345</td>\n",
       "      <td>False</td>\n",
       "      <td>0.094193</td>\n",
       "      <td>67</td>\n",
       "      <td>0.001280</td>\n",
       "    </tr>\n",
       "    <tr>\n",
       "      <th>3</th>\n",
       "      <td>shopping_pos</td>\n",
       "      <td>768.624573</td>\n",
       "      <td>2324.846777</td>\n",
       "      <td>49791</td>\n",
       "      <td>False</td>\n",
       "      <td>0.089597</td>\n",
       "      <td>213</td>\n",
       "      <td>0.004278</td>\n",
       "    </tr>\n",
       "    <tr>\n",
       "      <th>4</th>\n",
       "      <td>kids_pets</td>\n",
       "      <td>575.069126</td>\n",
       "      <td>487.484822</td>\n",
       "      <td>48692</td>\n",
       "      <td>False</td>\n",
       "      <td>0.087620</td>\n",
       "      <td>65</td>\n",
       "      <td>0.001335</td>\n",
       "    </tr>\n",
       "  </tbody>\n",
       "</table>\n",
       "</div>"
      ],
      "text/plain": [
       "        category      avg_amt      amt_std  cat_count online     share  \\\n",
       "0  gas_transport   635.770012   158.283987      56370  False  0.101436   \n",
       "1    grocery_pos  1158.853270   515.523301      52553  False  0.094568   \n",
       "2           home   579.954129   480.852810      52345  False  0.094193   \n",
       "3   shopping_pos   768.624573  2324.846777      49791  False  0.089597   \n",
       "4      kids_pets   575.069126   487.484822      48692  False  0.087620   \n",
       "\n",
       "   fraud_count  fraud_share  \n",
       "0          154     0.002732  \n",
       "1          485     0.009229  \n",
       "2           67     0.001280  \n",
       "3          213     0.004278  \n",
       "4           65     0.001335  "
      ]
     },
     "execution_count": 1087,
     "metadata": {},
     "output_type": "execute_result"
    }
   ],
   "source": [
    "# доля фрода в категории\n",
    "\n",
    "cat_stats_full[\"fraud_share\"] = cat_stats_full.fraud_count.div(cat_stats_full.cat_count)\n",
    "cat_stats_full.head()"
   ]
  },
  {
   "cell_type": "markdown",
   "id": "274c25ef-e3db-4144-86e3-8a6b80a5f2cf",
   "metadata": {},
   "source": [
    "### Добавим критерий возможности круглосуточной покупки в категории"
   ]
  },
  {
   "cell_type": "code",
   "execution_count": 1088,
   "id": "9133806d-911e-4dfe-8b58-c796fc57e1a9",
   "metadata": {},
   "outputs": [],
   "source": [
    "cat_stats_full[\"round_clock_cat\"] = False"
   ]
  },
  {
   "cell_type": "code",
   "execution_count": 1089,
   "id": "63555a3d-da64-43a2-954f-9be547736d85",
   "metadata": {},
   "outputs": [
    {
     "data": {
      "text/html": [
       "<div>\n",
       "<style scoped>\n",
       "    .dataframe tbody tr th:only-of-type {\n",
       "        vertical-align: middle;\n",
       "    }\n",
       "\n",
       "    .dataframe tbody tr th {\n",
       "        vertical-align: top;\n",
       "    }\n",
       "\n",
       "    .dataframe thead th {\n",
       "        text-align: right;\n",
       "    }\n",
       "</style>\n",
       "<table border=\"1\" class=\"dataframe\">\n",
       "  <thead>\n",
       "    <tr style=\"text-align: right;\">\n",
       "      <th></th>\n",
       "      <th>category</th>\n",
       "      <th>avg_amt</th>\n",
       "      <th>amt_std</th>\n",
       "      <th>cat_count</th>\n",
       "      <th>online</th>\n",
       "      <th>share</th>\n",
       "      <th>fraud_count</th>\n",
       "      <th>fraud_share</th>\n",
       "      <th>round_clock_cat</th>\n",
       "    </tr>\n",
       "  </thead>\n",
       "  <tbody>\n",
       "    <tr>\n",
       "      <th>0</th>\n",
       "      <td>gas_transport</td>\n",
       "      <td>635.770012</td>\n",
       "      <td>158.283987</td>\n",
       "      <td>56370</td>\n",
       "      <td>False</td>\n",
       "      <td>0.101436</td>\n",
       "      <td>154</td>\n",
       "      <td>0.002732</td>\n",
       "      <td>True</td>\n",
       "    </tr>\n",
       "    <tr>\n",
       "      <th>1</th>\n",
       "      <td>grocery_pos</td>\n",
       "      <td>1158.853270</td>\n",
       "      <td>515.523301</td>\n",
       "      <td>52553</td>\n",
       "      <td>False</td>\n",
       "      <td>0.094568</td>\n",
       "      <td>485</td>\n",
       "      <td>0.009229</td>\n",
       "      <td>True</td>\n",
       "    </tr>\n",
       "    <tr>\n",
       "      <th>2</th>\n",
       "      <td>home</td>\n",
       "      <td>579.954129</td>\n",
       "      <td>480.852810</td>\n",
       "      <td>52345</td>\n",
       "      <td>False</td>\n",
       "      <td>0.094193</td>\n",
       "      <td>67</td>\n",
       "      <td>0.001280</td>\n",
       "      <td>False</td>\n",
       "    </tr>\n",
       "    <tr>\n",
       "      <th>3</th>\n",
       "      <td>shopping_pos</td>\n",
       "      <td>768.624573</td>\n",
       "      <td>2324.846777</td>\n",
       "      <td>49791</td>\n",
       "      <td>False</td>\n",
       "      <td>0.089597</td>\n",
       "      <td>213</td>\n",
       "      <td>0.004278</td>\n",
       "      <td>False</td>\n",
       "    </tr>\n",
       "    <tr>\n",
       "      <th>4</th>\n",
       "      <td>kids_pets</td>\n",
       "      <td>575.069126</td>\n",
       "      <td>487.484822</td>\n",
       "      <td>48692</td>\n",
       "      <td>False</td>\n",
       "      <td>0.087620</td>\n",
       "      <td>65</td>\n",
       "      <td>0.001335</td>\n",
       "      <td>False</td>\n",
       "    </tr>\n",
       "    <tr>\n",
       "      <th>5</th>\n",
       "      <td>shopping_net</td>\n",
       "      <td>834.816532</td>\n",
       "      <td>2372.197581</td>\n",
       "      <td>41779</td>\n",
       "      <td>True</td>\n",
       "      <td>0.075180</td>\n",
       "      <td>506</td>\n",
       "      <td>0.012111</td>\n",
       "      <td>True</td>\n",
       "    </tr>\n",
       "    <tr>\n",
       "      <th>6</th>\n",
       "      <td>entertainment</td>\n",
       "      <td>639.848399</td>\n",
       "      <td>642.299347</td>\n",
       "      <td>40104</td>\n",
       "      <td>False</td>\n",
       "      <td>0.072166</td>\n",
       "      <td>59</td>\n",
       "      <td>0.001471</td>\n",
       "      <td>False</td>\n",
       "    </tr>\n",
       "    <tr>\n",
       "      <th>7</th>\n",
       "      <td>personal_care</td>\n",
       "      <td>482.330206</td>\n",
       "      <td>494.109413</td>\n",
       "      <td>39327</td>\n",
       "      <td>False</td>\n",
       "      <td>0.070768</td>\n",
       "      <td>70</td>\n",
       "      <td>0.001780</td>\n",
       "      <td>False</td>\n",
       "    </tr>\n",
       "    <tr>\n",
       "      <th>8</th>\n",
       "      <td>food_dining</td>\n",
       "      <td>507.779383</td>\n",
       "      <td>484.490535</td>\n",
       "      <td>39268</td>\n",
       "      <td>False</td>\n",
       "      <td>0.070662</td>\n",
       "      <td>54</td>\n",
       "      <td>0.001375</td>\n",
       "      <td>True</td>\n",
       "    </tr>\n",
       "    <tr>\n",
       "      <th>9</th>\n",
       "      <td>health_fitness</td>\n",
       "      <td>538.674317</td>\n",
       "      <td>479.652511</td>\n",
       "      <td>36674</td>\n",
       "      <td>False</td>\n",
       "      <td>0.065994</td>\n",
       "      <td>52</td>\n",
       "      <td>0.001418</td>\n",
       "      <td>False</td>\n",
       "    </tr>\n",
       "    <tr>\n",
       "      <th>10</th>\n",
       "      <td>misc_pos</td>\n",
       "      <td>621.822459</td>\n",
       "      <td>1339.872277</td>\n",
       "      <td>34574</td>\n",
       "      <td>False</td>\n",
       "      <td>0.062215</td>\n",
       "      <td>72</td>\n",
       "      <td>0.002082</td>\n",
       "      <td>True</td>\n",
       "    </tr>\n",
       "    <tr>\n",
       "      <th>11</th>\n",
       "      <td>misc_net</td>\n",
       "      <td>786.002368</td>\n",
       "      <td>1636.390889</td>\n",
       "      <td>27367</td>\n",
       "      <td>True</td>\n",
       "      <td>0.049246</td>\n",
       "      <td>267</td>\n",
       "      <td>0.009756</td>\n",
       "      <td>True</td>\n",
       "    </tr>\n",
       "    <tr>\n",
       "      <th>12</th>\n",
       "      <td>grocery_net</td>\n",
       "      <td>537.316674</td>\n",
       "      <td>229.084365</td>\n",
       "      <td>19426</td>\n",
       "      <td>True</td>\n",
       "      <td>0.034957</td>\n",
       "      <td>41</td>\n",
       "      <td>0.002111</td>\n",
       "      <td>True</td>\n",
       "    </tr>\n",
       "    <tr>\n",
       "      <th>13</th>\n",
       "      <td>travel</td>\n",
       "      <td>1123.896825</td>\n",
       "      <td>5959.462948</td>\n",
       "      <td>17449</td>\n",
       "      <td>False</td>\n",
       "      <td>0.031399</td>\n",
       "      <td>40</td>\n",
       "      <td>0.002292</td>\n",
       "      <td>False</td>\n",
       "    </tr>\n",
       "  </tbody>\n",
       "</table>\n",
       "</div>"
      ],
      "text/plain": [
       "          category      avg_amt      amt_std  cat_count online     share  \\\n",
       "0    gas_transport   635.770012   158.283987      56370  False  0.101436   \n",
       "1      grocery_pos  1158.853270   515.523301      52553  False  0.094568   \n",
       "2             home   579.954129   480.852810      52345  False  0.094193   \n",
       "3     shopping_pos   768.624573  2324.846777      49791  False  0.089597   \n",
       "4        kids_pets   575.069126   487.484822      48692  False  0.087620   \n",
       "5     shopping_net   834.816532  2372.197581      41779   True  0.075180   \n",
       "6    entertainment   639.848399   642.299347      40104  False  0.072166   \n",
       "7    personal_care   482.330206   494.109413      39327  False  0.070768   \n",
       "8      food_dining   507.779383   484.490535      39268  False  0.070662   \n",
       "9   health_fitness   538.674317   479.652511      36674  False  0.065994   \n",
       "10        misc_pos   621.822459  1339.872277      34574  False  0.062215   \n",
       "11        misc_net   786.002368  1636.390889      27367   True  0.049246   \n",
       "12     grocery_net   537.316674   229.084365      19426   True  0.034957   \n",
       "13          travel  1123.896825  5959.462948      17449  False  0.031399   \n",
       "\n",
       "    fraud_count  fraud_share  round_clock_cat  \n",
       "0           154     0.002732             True  \n",
       "1           485     0.009229             True  \n",
       "2            67     0.001280            False  \n",
       "3           213     0.004278            False  \n",
       "4            65     0.001335            False  \n",
       "5           506     0.012111             True  \n",
       "6            59     0.001471            False  \n",
       "7            70     0.001780            False  \n",
       "8            54     0.001375             True  \n",
       "9            52     0.001418            False  \n",
       "10           72     0.002082             True  \n",
       "11          267     0.009756             True  \n",
       "12           41     0.002111             True  \n",
       "13           40     0.002292            False  "
      ]
     },
     "execution_count": 1089,
     "metadata": {},
     "output_type": "execute_result"
    }
   ],
   "source": [
    "round_clock = ['gas_transport', 'grocery_pos','shopping_net', 'food_dining', 'misc_pos', 'misc_net', 'grocery_net']\n",
    "\n",
    "for category in round_clock:\n",
    "    cat_stats_full.loc[cat_stats_full.category == category, \"round_clock_cat\"] = True\n",
    "cat_stats_full"
   ]
  },
  {
   "cell_type": "code",
   "execution_count": 740,
   "id": "614ccd81-4b80-4a13-9a7f-6ccee3431392",
   "metadata": {},
   "outputs": [
    {
     "data": {
      "text/plain": [
       "('2017-01-01', '2022-12-31')"
      ]
     },
     "execution_count": 740,
     "metadata": {},
     "output_type": "execute_result"
    }
   ],
   "source": [
    "\"2017-01-01\", \"2022-12-31\""
   ]
  },
  {
   "cell_type": "code",
   "execution_count": 894,
   "id": "73ecb2d7-0ead-48c0-89ee-9cba0efd65c4",
   "metadata": {},
   "outputs": [
    {
     "data": {
      "text/plain": [
       "shapely.geometry.point.Point"
      ]
     },
     "execution_count": 894,
     "metadata": {},
     "output_type": "execute_result"
    }
   ],
   "source": [
    "type(Point(0, 0))"
   ]
  },
  {
   "cell_type": "code",
   "execution_count": 896,
   "id": "a4e2440a-3f03-47e4-89a9-7e1e73dbcf3e",
   "metadata": {},
   "outputs": [],
   "source": [
    "# transactions = pd.DataFrame(\n",
    "#             {\"client_id\": [0],\n",
    "#             \"time\": [pd.to_datetime(\"1899-01-01 00:00:00\", format=\"%Y-%m-%d %H:%M:%S\")] ,\n",
    "#             \"amount\": [0.0],\n",
    "#             \"type\": [\"unspecified\"],\n",
    "#             \"channel\": [\"unspecified\"],\n",
    "#             \"category\": [\"unspecified\"],\n",
    "#             \"online\":[0],\n",
    "#             \"merchant_id\":[0],\n",
    "#             \"merchant_loc\":[Point(0, 0)],\n",
    "#             \"client_ip\":[\"0.0.0.0\"],\n",
    "#             \"ip_location\": \"Nowhere\",\n",
    "#              \"account_to\": 777777,\n",
    "#             \"is_fraud\": 0})\n",
    "# transactions"
   ]
  },
  {
   "cell_type": "code",
   "execution_count": 930,
   "id": "60ff92e8-6469-4e89-930b-a939b8fc5a83",
   "metadata": {},
   "outputs": [],
   "source": [
    "# df = pd.DataFrame({\n",
    "#     \"trans_id\": pd.Series(dtype=\"int64\"),\n",
    "#     \"account_id\": pd.Series(dtype=\"int64\"),\n",
    "#     \"date\": pd.Series(dtype=\"datetime64[ns]\"),\n",
    "#     \"type\": pd.Series(dtype=\"string\"),\n",
    "#     \"operation\": pd.Series(dtype=\"string\"),\n",
    "#     \"amount\": pd.Series(dtype=\"float64\"),\n",
    "#     \"balance\": pd.Series(dtype=\"float64\"),\n",
    "# })"
   ]
  },
  {
   "cell_type": "markdown",
   "id": "87cd1131-924c-4444-b156-10774decef8f",
   "metadata": {},
   "source": [
    "### Создадим пустой датафрейм для записи транзакций в него"
   ]
  },
  {
   "cell_type": "code",
   "execution_count": 898,
   "id": "56f17b02-9a4f-4829-b4b5-56eb6c4f829b",
   "metadata": {},
   "outputs": [
    {
     "data": {
      "text/html": [
       "<div>\n",
       "<style scoped>\n",
       "    .dataframe tbody tr th:only-of-type {\n",
       "        vertical-align: middle;\n",
       "    }\n",
       "\n",
       "    .dataframe tbody tr th {\n",
       "        vertical-align: top;\n",
       "    }\n",
       "\n",
       "    .dataframe thead th {\n",
       "        text-align: right;\n",
       "    }\n",
       "</style>\n",
       "<table border=\"1\" class=\"dataframe\">\n",
       "  <thead>\n",
       "    <tr style=\"text-align: right;\">\n",
       "      <th></th>\n",
       "      <th>client_id</th>\n",
       "      <th>time</th>\n",
       "      <th>amount</th>\n",
       "      <th>type</th>\n",
       "      <th>channel</th>\n",
       "      <th>category</th>\n",
       "      <th>online</th>\n",
       "      <th>merchant_id</th>\n",
       "      <th>merchant_loc</th>\n",
       "      <th>client_ip</th>\n",
       "      <th>ip_location</th>\n",
       "      <th>account_to</th>\n",
       "      <th>is_fraud</th>\n",
       "    </tr>\n",
       "  </thead>\n",
       "  <tbody>\n",
       "  </tbody>\n",
       "</table>\n",
       "</div>"
      ],
      "text/plain": [
       "Empty GeoDataFrame\n",
       "Columns: [client_id, time, amount, type, channel, category, online, merchant_id, merchant_loc, client_ip, ip_location, account_to, is_fraud]\n",
       "Index: []"
      ]
     },
     "execution_count": 898,
     "metadata": {},
     "output_type": "execute_result"
    }
   ],
   "source": [
    "transactions = gpd.GeoDataFrame(\n",
    "            {\"client_id\": pd.Series(dtype=\"int64\"),\n",
    "            \"time\": pd.Series(dtype=\"datetime64[ns]\"),\n",
    "            \"amount\": pd.Series(dtype=\"float64\"),\n",
    "            \"type\": pd.Series(dtype=\"string\"),\n",
    "            \"channel\": pd.Series(dtype=\"string\"),\n",
    "            \"category\": pd.Series(dtype=\"string\"),\n",
    "            \"online\":pd.Series(dtype=\"int64\"),\n",
    "            \"merchant_id\":pd.Series(dtype=\"int64\"),\n",
    "            \"merchant_loc\":pd.Series(dtype=\"geometry\"),\n",
    "            \"client_ip\":pd.Series(dtype=\"string\"),\n",
    "            \"ip_location\": pd.Series(dtype=\"string\"),\n",
    "             \"account_to\": pd.Series(dtype=\"int64\"),\n",
    "            \"is_fraud\": pd.Series(dtype=\"int64\")})\n",
    "transactions"
   ]
  },
  {
   "cell_type": "markdown",
   "id": "261c5804-ef2d-43b6-994b-1b8ac04e2d33",
   "metadata": {},
   "source": [
    "### Сгенерируем id для онлайн мерчантов. Просто, чтобы было чем заполнить поле merchant_id для онлайн покупок"
   ]
  },
  {
   "cell_type": "code",
   "execution_count": 783,
   "id": "b23be0b5-7886-45e9-8307-1418ce774892",
   "metadata": {},
   "outputs": [
    {
     "data": {
      "text/plain": [
       "0      6777\n",
       "1      6778\n",
       "2      6779\n",
       "3      6780\n",
       "4      6781\n",
       "       ... \n",
       "195    6972\n",
       "196    6973\n",
       "197    6974\n",
       "198    6975\n",
       "199    6976\n",
       "Length: 200, dtype: int64"
      ]
     },
     "execution_count": 783,
     "metadata": {},
     "output_type": "execute_result"
    }
   ],
   "source": [
    "offline_merch_max_id = int(selling_points_8_merchants.merchant_id.max())\n",
    "online_merchant_ids = pd.Series([i for i in range(offline_merch_max_id + 1, offline_merch_max_id + 201)])\n",
    "online_merchant_ids"
   ]
  },
  {
   "cell_type": "code",
   "execution_count": 788,
   "id": "dffab3a4-39d1-4f45-93a2-03624dd11bef",
   "metadata": {},
   "outputs": [
    {
     "data": {
      "text/html": [
       "<div>\n",
       "<style scoped>\n",
       "    .dataframe tbody tr th:only-of-type {\n",
       "        vertical-align: middle;\n",
       "    }\n",
       "\n",
       "    .dataframe tbody tr th {\n",
       "        vertical-align: top;\n",
       "    }\n",
       "\n",
       "    .dataframe thead th {\n",
       "        text-align: right;\n",
       "    }\n",
       "</style>\n",
       "<table border=\"1\" class=\"dataframe\">\n",
       "  <thead>\n",
       "    <tr style=\"text-align: right;\">\n",
       "      <th></th>\n",
       "      <th>client_id</th>\n",
       "      <th>district_id</th>\n",
       "      <th>birth_date</th>\n",
       "      <th>sex</th>\n",
       "      <th>district_code</th>\n",
       "      <th>region</th>\n",
       "      <th>area</th>\n",
       "      <th>timezone</th>\n",
       "      <th>lat</th>\n",
       "      <th>lon</th>\n",
       "      <th>population</th>\n",
       "      <th>clients</th>\n",
       "      <th>geometry</th>\n",
       "      <th>home_ip</th>\n",
       "    </tr>\n",
       "  </thead>\n",
       "  <tbody>\n",
       "    <tr>\n",
       "      <th>0</th>\n",
       "      <td>1</td>\n",
       "      <td>18</td>\n",
       "      <td>1970-12-13</td>\n",
       "      <td>female</td>\n",
       "      <td>18</td>\n",
       "      <td>Рязанская</td>\n",
       "      <td>Рязань</td>\n",
       "      <td>UTC+3</td>\n",
       "      <td>54.625457</td>\n",
       "      <td>39.735999</td>\n",
       "      <td>525062</td>\n",
       "      <td>60</td>\n",
       "      <td>POLYGON ((39.53667 54.6385, 39.53677 54.63889,...</td>\n",
       "      <td>2.60.0.1</td>\n",
       "    </tr>\n",
       "    <tr>\n",
       "      <th>1</th>\n",
       "      <td>2</td>\n",
       "      <td>1</td>\n",
       "      <td>1945-02-04</td>\n",
       "      <td>male</td>\n",
       "      <td>1</td>\n",
       "      <td>Москва</td>\n",
       "      <td>Москва</td>\n",
       "      <td>UTC+3</td>\n",
       "      <td>55.753879</td>\n",
       "      <td>37.620373</td>\n",
       "      <td>11514330</td>\n",
       "      <td>663</td>\n",
       "      <td>MULTIPOLYGON (((37.2905 55.80199, 37.29542 55....</td>\n",
       "      <td>2.60.0.2</td>\n",
       "    </tr>\n",
       "  </tbody>\n",
       "</table>\n",
       "</div>"
      ],
      "text/plain": [
       "   client_id  district_id  birth_date     sex  district_code     region  \\\n",
       "0          1           18  1970-12-13  female             18  Рязанская   \n",
       "1          2            1  1945-02-04    male              1     Москва   \n",
       "\n",
       "     area timezone        lat        lon  population  clients  \\\n",
       "0  Рязань    UTC+3  54.625457  39.735999      525062       60   \n",
       "1  Москва    UTC+3  55.753879  37.620373    11514330      663   \n",
       "\n",
       "                                            geometry   home_ip  \n",
       "0  POLYGON ((39.53667 54.6385, 39.53677 54.63889,...  2.60.0.1  \n",
       "1  MULTIPOLYGON (((37.2905 55.80199, 37.29542 55....  2.60.0.2  "
      ]
     },
     "execution_count": 788,
     "metadata": {},
     "output_type": "execute_result"
    }
   ],
   "source": [
    "clients_with_geo.head(2)"
   ]
  },
  {
   "cell_type": "code",
   "execution_count": 791,
   "id": "b4e03185-f740-46d7-9caa-ad940c3c9c41",
   "metadata": {},
   "outputs": [
    {
     "data": {
      "text/html": [
       "<div>\n",
       "<style scoped>\n",
       "    .dataframe tbody tr th:only-of-type {\n",
       "        vertical-align: middle;\n",
       "    }\n",
       "\n",
       "    .dataframe tbody tr th {\n",
       "        vertical-align: top;\n",
       "    }\n",
       "\n",
       "    .dataframe thead th {\n",
       "        text-align: right;\n",
       "    }\n",
       "</style>\n",
       "<table border=\"1\" class=\"dataframe\">\n",
       "  <thead>\n",
       "    <tr style=\"text-align: right;\">\n",
       "      <th></th>\n",
       "      <th>category</th>\n",
       "      <th>avg_amt</th>\n",
       "      <th>amt_std</th>\n",
       "      <th>cat_count</th>\n",
       "      <th>online</th>\n",
       "      <th>share</th>\n",
       "      <th>fraud_count</th>\n",
       "      <th>fraud_share</th>\n",
       "    </tr>\n",
       "  </thead>\n",
       "  <tbody>\n",
       "    <tr>\n",
       "      <th>0</th>\n",
       "      <td>gas_transport</td>\n",
       "      <td>635.770012</td>\n",
       "      <td>158.283987</td>\n",
       "      <td>56370</td>\n",
       "      <td>0.0</td>\n",
       "      <td>0.101436</td>\n",
       "      <td>154</td>\n",
       "      <td>0.002732</td>\n",
       "    </tr>\n",
       "  </tbody>\n",
       "</table>\n",
       "</div>"
      ],
      "text/plain": [
       "        category     avg_amt     amt_std  cat_count  online     share  \\\n",
       "0  gas_transport  635.770012  158.283987      56370     0.0  0.101436   \n",
       "\n",
       "   fraud_count  fraud_share  \n",
       "0          154     0.002732  "
      ]
     },
     "execution_count": 791,
     "metadata": {},
     "output_type": "execute_result"
    }
   ],
   "source": [
    "cat_stats_full.head(1)"
   ]
  },
  {
   "cell_type": "code",
   "execution_count": 792,
   "id": "62603d7c-dd36-41c9-b7a5-abb6430b7cd8",
   "metadata": {},
   "outputs": [
    {
     "data": {
      "text/html": [
       "<div>\n",
       "<style scoped>\n",
       "    .dataframe tbody tr th:only-of-type {\n",
       "        vertical-align: middle;\n",
       "    }\n",
       "\n",
       "    .dataframe tbody tr th {\n",
       "        vertical-align: top;\n",
       "    }\n",
       "\n",
       "    .dataframe thead th {\n",
       "        text-align: right;\n",
       "    }\n",
       "</style>\n",
       "<table border=\"1\" class=\"dataframe\">\n",
       "  <thead>\n",
       "    <tr style=\"text-align: right;\">\n",
       "      <th></th>\n",
       "      <th>district_code</th>\n",
       "      <th>region</th>\n",
       "      <th>area</th>\n",
       "      <th>timezone</th>\n",
       "      <th>lat</th>\n",
       "      <th>lon</th>\n",
       "      <th>population</th>\n",
       "      <th>clients</th>\n",
       "      <th>geometry</th>\n",
       "      <th>category</th>\n",
       "      <th>avg_amt</th>\n",
       "      <th>amt_std</th>\n",
       "      <th>cat_count</th>\n",
       "      <th>merchant_id</th>\n",
       "      <th>merchant_loc</th>\n",
       "    </tr>\n",
       "  </thead>\n",
       "  <tbody>\n",
       "    <tr>\n",
       "      <th>0</th>\n",
       "      <td>1</td>\n",
       "      <td>Москва</td>\n",
       "      <td>Москва</td>\n",
       "      <td>UTC+3</td>\n",
       "      <td>55.753879</td>\n",
       "      <td>37.620373</td>\n",
       "      <td>11514330</td>\n",
       "      <td>663</td>\n",
       "      <td>MULTIPOLYGON (((37.2905 55.80199, 37.29542 55....</td>\n",
       "      <td>kids_pets</td>\n",
       "      <td>575.069126</td>\n",
       "      <td>487.484822</td>\n",
       "      <td>486920</td>\n",
       "      <td>1.0</td>\n",
       "      <td>POINT (37.474316943268114 55.88357347760059)</td>\n",
       "    </tr>\n",
       "  </tbody>\n",
       "</table>\n",
       "</div>"
      ],
      "text/plain": [
       "   district_code  region    area timezone        lat        lon  population  \\\n",
       "0              1  Москва  Москва    UTC+3  55.753879  37.620373    11514330   \n",
       "\n",
       "   clients                                           geometry   category  \\\n",
       "0      663  MULTIPOLYGON (((37.2905 55.80199, 37.29542 55....  kids_pets   \n",
       "\n",
       "      avg_amt     amt_std  cat_count  merchant_id  \\\n",
       "0  575.069126  487.484822     486920          1.0   \n",
       "\n",
       "                                   merchant_loc  \n",
       "0  POINT (37.474316943268114 55.88357347760059)  "
      ]
     },
     "execution_count": 792,
     "metadata": {},
     "output_type": "execute_result"
    }
   ],
   "source": [
    "selling_points_8_merchants.head(1)"
   ]
  },
  {
   "cell_type": "code",
   "execution_count": 811,
   "id": "b57a376a-3fe7-49f4-b4b7-69514ceab3b9",
   "metadata": {},
   "outputs": [
    {
     "data": {
      "text/plain": [
       "True"
      ]
     },
     "execution_count": 811,
     "metadata": {},
     "output_type": "execute_result"
    }
   ],
   "source": [
    "pd.to_datetime(\"2025-05-28 15:00:31\", format=\"%Y-%m-%d %H:%M:%S\") \\\n",
    "- pd.to_datetime(\"2025-05-28 14:35:31\", format=\"%Y-%m-%d %H:%M:%S\") < pd.Timedelta(1800, unit='s')"
   ]
  },
  {
   "cell_type": "code",
   "execution_count": 868,
   "id": "6a987ccf-0ca3-414d-b4f1-fcd741017873",
   "metadata": {},
   "outputs": [],
   "source": []
  },
  {
   "cell_type": "code",
   "execution_count": 864,
   "id": "362a359a-c9c6-4a41-b5ed-c2a117759335",
   "metadata": {},
   "outputs": [
    {
     "data": {
      "text/plain": [
       "0    6777\n",
       "1    6778\n",
       "dtype: int64"
      ]
     },
     "execution_count": 864,
     "metadata": {},
     "output_type": "execute_result"
    }
   ],
   "source": [
    "online_merchant_ids.head(2)"
   ]
  },
  {
   "cell_type": "code",
   "execution_count": 866,
   "id": "77bd05e1-bc7d-48fe-9e67-6a74a9e7f0c6",
   "metadata": {},
   "outputs": [
    {
     "data": {
      "text/html": [
       "<div>\n",
       "<style scoped>\n",
       "    .dataframe tbody tr th:only-of-type {\n",
       "        vertical-align: middle;\n",
       "    }\n",
       "\n",
       "    .dataframe tbody tr th {\n",
       "        vertical-align: top;\n",
       "    }\n",
       "\n",
       "    .dataframe thead th {\n",
       "        text-align: right;\n",
       "    }\n",
       "</style>\n",
       "<table border=\"1\" class=\"dataframe\">\n",
       "  <thead>\n",
       "    <tr style=\"text-align: right;\">\n",
       "      <th></th>\n",
       "      <th>district_code</th>\n",
       "      <th>region</th>\n",
       "      <th>area</th>\n",
       "      <th>timezone</th>\n",
       "      <th>lat</th>\n",
       "      <th>lon</th>\n",
       "      <th>population</th>\n",
       "      <th>clients</th>\n",
       "      <th>geometry</th>\n",
       "      <th>category</th>\n",
       "      <th>avg_amt</th>\n",
       "      <th>amt_std</th>\n",
       "      <th>cat_count</th>\n",
       "      <th>merchant_id</th>\n",
       "      <th>merchant_loc</th>\n",
       "    </tr>\n",
       "  </thead>\n",
       "  <tbody>\n",
       "    <tr>\n",
       "      <th>0</th>\n",
       "      <td>1</td>\n",
       "      <td>Москва</td>\n",
       "      <td>Москва</td>\n",
       "      <td>UTC+3</td>\n",
       "      <td>55.753879</td>\n",
       "      <td>37.620373</td>\n",
       "      <td>11514330</td>\n",
       "      <td>663</td>\n",
       "      <td>MULTIPOLYGON (((37.2905 55.80199, 37.29542 55....</td>\n",
       "      <td>kids_pets</td>\n",
       "      <td>575.069126</td>\n",
       "      <td>487.484822</td>\n",
       "      <td>486920</td>\n",
       "      <td>1.0</td>\n",
       "      <td>POINT (37.474316943268114 55.88357347760059)</td>\n",
       "    </tr>\n",
       "  </tbody>\n",
       "</table>\n",
       "</div>"
      ],
      "text/plain": [
       "   district_code  region    area timezone        lat        lon  population  \\\n",
       "0              1  Москва  Москва    UTC+3  55.753879  37.620373    11514330   \n",
       "\n",
       "   clients                                           geometry   category  \\\n",
       "0      663  MULTIPOLYGON (((37.2905 55.80199, 37.29542 55....  kids_pets   \n",
       "\n",
       "      avg_amt     amt_std  cat_count  merchant_id  \\\n",
       "0  575.069126  487.484822     486920          1.0   \n",
       "\n",
       "                                   merchant_loc  \n",
       "0  POINT (37.474316943268114 55.88357347760059)  "
      ]
     },
     "execution_count": 866,
     "metadata": {},
     "output_type": "execute_result"
    }
   ],
   "source": [
    "selling_points_8_merchants.head(1)"
   ]
  },
  {
   "cell_type": "code",
   "execution_count": 865,
   "id": "95a56f36-d6fd-4c1b-8e83-7c6ad640dcab",
   "metadata": {},
   "outputs": [
    {
     "data": {
      "text/html": [
       "<div>\n",
       "<style scoped>\n",
       "    .dataframe tbody tr th:only-of-type {\n",
       "        vertical-align: middle;\n",
       "    }\n",
       "\n",
       "    .dataframe tbody tr th {\n",
       "        vertical-align: top;\n",
       "    }\n",
       "\n",
       "    .dataframe thead th {\n",
       "        text-align: right;\n",
       "    }\n",
       "</style>\n",
       "<table border=\"1\" class=\"dataframe\">\n",
       "  <thead>\n",
       "    <tr style=\"text-align: right;\">\n",
       "      <th></th>\n",
       "      <th>client_id</th>\n",
       "      <th>time</th>\n",
       "      <th>amount</th>\n",
       "      <th>type</th>\n",
       "      <th>channel</th>\n",
       "      <th>category</th>\n",
       "      <th>online</th>\n",
       "      <th>merchant_id</th>\n",
       "      <th>merchant_loc</th>\n",
       "      <th>client_ip</th>\n",
       "      <th>ip_location</th>\n",
       "      <th>account_to</th>\n",
       "      <th>is_fraud</th>\n",
       "    </tr>\n",
       "  </thead>\n",
       "  <tbody>\n",
       "    <tr>\n",
       "      <th>0</th>\n",
       "      <td>None</td>\n",
       "      <td>None</td>\n",
       "      <td>None</td>\n",
       "      <td>None</td>\n",
       "      <td>None</td>\n",
       "      <td>None</td>\n",
       "      <td>None</td>\n",
       "      <td>None</td>\n",
       "      <td>None</td>\n",
       "      <td>None</td>\n",
       "      <td>None</td>\n",
       "      <td>None</td>\n",
       "      <td>None</td>\n",
       "    </tr>\n",
       "  </tbody>\n",
       "</table>\n",
       "</div>"
      ],
      "text/plain": [
       "  client_id  time amount  type channel category online merchant_id  \\\n",
       "0      None  None   None  None    None     None   None        None   \n",
       "\n",
       "  merchant_loc client_ip ip_location account_to is_fraud  \n",
       "0         None      None        None       None     None  "
      ]
     },
     "execution_count": 865,
     "metadata": {},
     "output_type": "execute_result"
    }
   ],
   "source": [
    "transactions.head()"
   ]
  },
  {
   "cell_type": "code",
   "execution_count": 879,
   "id": "c8add71f-6b63-4dbf-9098-4e314b314ba1",
   "metadata": {},
   "outputs": [],
   "source": [
    "catcat = cat_stats_full.sample(1, replace=True, weights=cat_stats_full.share)"
   ]
  },
  {
   "cell_type": "code",
   "execution_count": 883,
   "id": "3c1a8877-a8f9-47fe-88df-ec5d4dfbea21",
   "metadata": {},
   "outputs": [],
   "source": [
    "# catcat[\"category\"].loc[0] # <---- ошибка потому что времсто iloc - loc"
   ]
  },
  {
   "cell_type": "code",
   "execution_count": 914,
   "id": "77c024a2-c6ba-40df-b328-5b2e38d32952",
   "metadata": {},
   "outputs": [],
   "source": [
    "general_time = pd.Series(pd.date_range(pd.to_datetime(\"2017-01-01 00:00:00\", format=\"%Y-%m-%d %H:%M:%S\"), \\\n",
    "                                       pd.to_datetime(\"2022-12-31 23:59:59\", format=\"%Y-%m-%d %H:%M:%S\"), freq='min'))"
   ]
  },
  {
   "cell_type": "code",
   "execution_count": 1090,
   "id": "e56bb140-78b5-447e-b7bb-c7514180203c",
   "metadata": {},
   "outputs": [],
   "source": [
    "# legit_time = general_time[(general_time.dt.hour >= 6) & (general_time.dt.hour < 22)].reset_index(drop=True)\n",
    "# legit_time.dt.hour.value_counts()"
   ]
  },
  {
   "cell_type": "code",
   "execution_count": 1091,
   "id": "a4996104-04c1-4e0f-9b51-9197821a105d",
   "metadata": {},
   "outputs": [],
   "source": [
    "# fraud_time = general_time[((general_time.dt.hour < 6) & (general_time.dt.hour >= 0)) \\\n",
    "#                 | (general_time.dt.hour >= 22) & (general_time.dt.hour <= 23)] \\\n",
    "#                 .reset_index(drop=True)\n",
    "# fraud_time.dt.hour.value_counts()"
   ]
  },
  {
   "cell_type": "code",
   "execution_count": 954,
   "id": "0b7e66cb-11ff-4ee6-8ab8-ca97aec0d0b5",
   "metadata": {},
   "outputs": [],
   "source": [
    "hours_dist = [round(np.random.normal(12, 3)) for i in range(10000)]\n",
    "hours_dist = [hour for hour in hours_dist if hour < 24 and hour >= 0]"
   ]
  },
  {
   "cell_type": "code",
   "execution_count": null,
   "id": "079bf1d9-f66b-4243-8147-f67dd79e921a",
   "metadata": {},
   "outputs": [],
   "source": [
    "for hour in hours_dist:\n",
    "    if hour +"
   ]
  },
  {
   "cell_type": "code",
   "execution_count": 955,
   "id": "8b84418d-8bcb-446b-8d05-de7bc860f881",
   "metadata": {},
   "outputs": [],
   "source": [
    "hours_dist_ser = pd.Series(hours_dist)#.value_counts(normalize=True).sort_index()"
   ]
  },
  {
   "cell_type": "code",
   "execution_count": 956,
   "id": "006ebdae-2c81-4b83-9665-7dd449fb07f4",
   "metadata": {},
   "outputs": [
    {
     "data": {
      "image/png": "[encoded data removed]",
      "text/plain": [
       "<Figure size 640x480 with 1 Axes>"
      ]
     },
     "metadata": {},
     "output_type": "display_data"
    }
   ],
   "source": [
    "sns.countplot(x=hours_dist_ser);"
   ]
  },
  {
   "cell_type": "code",
   "execution_count": 1092,
   "id": "c64f470b-7e44-402d-94ec-acf730cdf054",
   "metadata": {},
   "outputs": [],
   "source": [
    "# fraud_kaggle[\"trans_date_trans_time\"] = pd.to_datetime(fraud_kaggle.trans_date_trans_time)"
   ]
  },
  {
   "cell_type": "code",
   "execution_count": 1093,
   "id": "6f5656bc-6ce6-43a5-839e-05fcee888766",
   "metadata": {},
   "outputs": [],
   "source": [
    "# fraud_kaggle[\"trans_hour\"] = fraud_kaggle[\"trans_date_trans_time\"].dt.hour"
   ]
  },
  {
   "cell_type": "code",
   "execution_count": 1094,
   "id": "2d6cdf0d-3ace-4157-b893-cf73d65fe8c9",
   "metadata": {},
   "outputs": [],
   "source": [
    "# fraud_kaggle[[\"trans_date_trans_time\", \"trans_hour\"]].iloc[list(range(0,24000,1000))]"
   ]
  },
  {
   "cell_type": "code",
   "execution_count": 1095,
   "id": "9985892e-b219-4316-aa71-19da5de1840b",
   "metadata": {},
   "outputs": [],
   "source": [
    "# legit_kaggle = fraud_kaggle.query(\"is_fraud == 0\")"
   ]
  },
  {
   "cell_type": "code",
   "execution_count": 1096,
   "id": "bfa42bff-d753-452e-9dc1-8df862be9b7b",
   "metadata": {},
   "outputs": [],
   "source": [
    "# legit_by_cat_and_hour = legit_kaggle.groupby([\"trans_hour\",\"category\"], as_index=False).agg({\"trans_num\":\"count\"}) \\\n",
    "#                                     .rename(columns={\"trans_num\":\"trans_count\"})\n",
    "# legit_by_cat_and_hour.head()"
   ]
  },
  {
   "cell_type": "code",
   "execution_count": 1098,
   "id": "813a74ad-2305-4102-9c73-082c4a1dc687",
   "metadata": {},
   "outputs": [],
   "source": [
    "# legit_kaggle_by_cat = legit_kaggle.groupby([\"category\"], as_index=False).agg({\"trans_num\":\"count\"}) \\\n",
    "#                                     .rename(columns={\"trans_num\":\"total_trans\"})\n",
    "# legit_kaggle_by_cat.head()"
   ]
  },
  {
   "cell_type": "code",
   "execution_count": 1038,
   "id": "01ef3726-832c-44dd-a764-b2248837e266",
   "metadata": {},
   "outputs": [],
   "source": [
    "legit_merge_hour_and_total = legit_by_cat_and_hour.merge(legit_kaggle_by_cat, on=\"category\") \\\n",
    "                                                [[\"category\", \"trans_hour\", \"trans_count\", \"total_trans\"]] \\\n",
    "                                                .sort_values([\"category\", \"trans_hour\"])\n",
    "legit_merge_hour_and_total.shape"
   ]
  },
  {
   "cell_type": "code",
   "execution_count": 1039,
   "id": "cc5f114e-091d-43d4-a19d-5ec64a011937",
   "metadata": {},
   "outputs": [],
   "source": [
    "# legit_merge_hour_and_total[\"hour_share\"] = legit_merge_hour_and_total.trans_count.div(legit_merge_hour_and_total.total_trans)\n",
    "# legit_merge_hour_and_total.head()"
   ]
  },
  {
   "cell_type": "code",
   "execution_count": 1037,
   "id": "569cce57-0b11-4f1d-89e8-c8dacaceb7ec",
   "metadata": {
    "scrolled": true
   },
   "outputs": [],
   "source": [
    "# fig, axes = plt.subplots(nrows=cat_stats_full.shape[0], figsize=(10, 60))\n",
    "\n",
    "# # df = legit_merge_hour_and_total.query(\"category == 'health_fitness'\")\n",
    "# for ax, category in zip(axes, cat_stats_full[\"category\"]):\n",
    "#     sns.lineplot(data=legit_merge_hour_and_total.query(\"category == @category\"), x=\"trans_hour\", y=\"hour_share\", ax=ax)\n",
    "#     ax.set_title(category)\n",
    "#     ax.set_ylim(0)\n",
    "# plt.tight_layout()    \n",
    "# plt.show()"
   ]
  },
  {
   "cell_type": "code",
   "execution_count": 1026,
   "id": "6f61bc2b-c3d1-4517-ba6e-a48f21ad4d16",
   "metadata": {},
   "outputs": [],
   "source": [
    "# df = legit_merge_hour_and_total.query(\"category == 'grocery_pos'\")\n",
    "\n",
    "# p = sns.barplot(data=df, x=\"trans_hour\", y=\"trans_count\")\n",
    "# p.set_ylim(0);"
   ]
  },
  {
   "cell_type": "code",
   "execution_count": 1040,
   "id": "82790706-c9bb-4913-a32d-d75239e44c43",
   "metadata": {},
   "outputs": [],
   "source": [
    "from scipy.stats import truncnorm"
   ]
  },
  {
   "cell_type": "code",
   "execution_count": 1054,
   "id": "131e82c2-f4b4-43c8-b880-5091790d8963",
   "metadata": {},
   "outputs": [],
   "source": [
    "# Время в минутах с начала суток\n",
    "start, end = 0, 1439  # 00:00 до 23:59\n",
    "\n",
    "# Пример: сдвиг к дневным часам (12:00 — 720 минут)\n",
    "mean = 900\n",
    "std = 180\n",
    "\n",
    "# Truncated normal для ограничения в рамках суток\n",
    "dist = truncnorm((start - mean) / std, (end - mean) / std, loc=mean, scale=std)\n",
    "minutes = dist.rvs(10000).astype(int)"
   ]
  },
  {
   "cell_type": "code",
   "execution_count": null,
   "id": "523fc99b-8a61-4235-862e-944843ed7927",
   "metadata": {},
   "outputs": [],
   "source": []
  },
  {
   "cell_type": "code",
   "execution_count": 1055,
   "id": "0b9e7c3a-c29f-411f-b10e-5265f363a3b7",
   "metadata": {},
   "outputs": [],
   "source": [
    "times = pd.Series(pd.to_timedelta(minutes, unit=\"min\")).dt.components\n",
    "# time_objects = [datetime.time(h, m) for h, m in zip(times.hours, times.minutes)]\n",
    "time_hours = [h for h in times.hours]"
   ]
  },
  {
   "cell_type": "code",
   "execution_count": 1056,
   "id": "cfd06904-1d51-4437-89c2-ce4fd10e1724",
   "metadata": {},
   "outputs": [
    {
     "data": {
      "image/png": "[encoded data removed]",
      "text/plain": [
       "<Figure size 640x480 with 1 Axes>"
      ]
     },
     "metadata": {},
     "output_type": "display_data"
    }
   ],
   "source": [
    "sns.histplot(x=time_hours);"
   ]
  },
  {
   "cell_type": "code",
   "execution_count": 1057,
   "id": "78e5c656-2aed-41a6-b1c9-c636f701998a",
   "metadata": {},
   "outputs": [],
   "source": [
    "day_times = pd.Series(pd.date_range(\"06:00\", \"22:00\", freq=\"1min\").time)\n",
    "weights = np.linspace(1, 2, len(day_times))  # например: активность ближе к полудню\n",
    "chosen = day_times.sample(n=1000, weights=weights, replace=True)"
   ]
  },
  {
   "cell_type": "code",
   "execution_count": 1072,
   "id": "52c62f38-600c-4982-ae7c-58d1b968cb26",
   "metadata": {},
   "outputs": [],
   "source": [
    "day_times = pd.Series(pd.date_range(\"06:00\", \"22:00\", freq=\"1min\"))\n",
    "day_times_h = day_times.dt.hour\n",
    "weights = np.linspace(1, 2, len(day_times))  # например: активность ближе к полудню\n",
    "chosen = day_times_h.sample(n=1000, weights=weights, replace=True)"
   ]
  },
  {
   "cell_type": "code",
   "execution_count": 1074,
   "id": "54bc0faf-2600-4ff2-ac25-d6a8efa0274d",
   "metadata": {},
   "outputs": [
    {
     "data": {
      "image/png": "[encoded data removed]",
      "text/plain": [
       "<Figure size 640x480 with 1 Axes>"
      ]
     },
     "metadata": {},
     "output_type": "display_data"
    }
   ],
   "source": [
    "sns.histplot(x=chosen);"
   ]
  },
  {
   "cell_type": "code",
   "execution_count": 1075,
   "id": "801492c9-92ab-4b06-86ab-37bee8a938a8",
   "metadata": {},
   "outputs": [],
   "source": [
    "from scipy.stats import norm"
   ]
  },
  {
   "cell_type": "code",
   "execution_count": 1077,
   "id": "fa0f395b-270d-46e4-ba7a-f960b95f6339",
   "metadata": {},
   "outputs": [
    {
     "data": {
      "text/plain": [
       "array([0.00000446, 0.00000509, 0.00000581, ..., 0.        , 0.        ,\n",
       "       0.        ], shape=(1440,))"
      ]
     },
     "execution_count": 1077,
     "metadata": {},
     "output_type": "execute_result"
    }
   ],
   "source": [
    "\n",
    "times = pd.date_range(\"00:00\", \"23:59\", freq=\"1min\")\n",
    "minutes = np.arange(len(times))\n",
    "norm.pdf(minutes, loc=2 * 60, scale=30)"
   ]
  },
  {
   "cell_type": "code",
   "execution_count": null,
   "id": "693824aa-46f8-4200-adc1-c58b5a47e942",
   "metadata": {},
   "outputs": [],
   "source": []
  },
  {
   "cell_type": "code",
   "execution_count": null,
   "id": "4ebde646-cd4f-4d73-bca4-f8fe5468a1d6",
   "metadata": {},
   "outputs": [],
   "source": []
  },
  {
   "cell_type": "code",
   "execution_count": null,
   "id": "ac5adb75-8321-43ab-906c-5747336de0fe",
   "metadata": {},
   "outputs": [],
   "source": [
    "def get_weights_for_time(round_clock, is_fraud):\n",
    "    \"\"\"\n",
    "    round_clock - круглые сутки или нет. 1 или 0 соотвественно\n",
    "    is_fraud - фрод или нет. True или False соотвественно\n",
    "    \"\"\"\n",
    "\n",
    "    if round_clock == 1 and is_fraud"
   ]
  },
  {
   "cell_type": "code",
   "execution_count": null,
   "id": "f1b7d667-31c9-4584-9d38-25256a7ae8d0",
   "metadata": {},
   "outputs": [],
   "source": []
  },
  {
   "cell_type": "code",
   "execution_count": 909,
   "id": "628efc78-5ff7-4d5d-abb5-2c70033b7173",
   "metadata": {},
   "outputs": [],
   "source": [
    "# Генерация POS транзакций\n",
    "def generate_pos_transactions(client_info, start_date, end_date, categories, fraud_ips, trans_df, merchants_df \\\n",
    "                              ,online_merchant_ids, num=50, fraud_rate=0.05):\n",
    "    \"\"\"\n",
    "    client_info  - датафрейм с данными клиента\n",
    "    start_date - первая транзакция\n",
    "    end_date - последняя транзакция\n",
    "    num - количество транзакций на клиента\n",
    "    fraud_rate - доля фрода во всех транзакциях\n",
    "    categories - датафрейм с категориями и их характеристиками\n",
    "    fraud_ips - датафрейм с фродовыми ip адресами\n",
    "    trans_df - датафрейм с транзакциями.\n",
    "               Куда их писать и куда обращаться за информацией по предыдущим транзакциям\n",
    "    merchants_df - датафрейм с оффлайн мерачантами\n",
    "    online_merchant_ids - id для онлайн мерчантов\n",
    "    \"\"\"\n",
    "    timestamps = pd.Series(pd.date_range(pd.to_datetime(start_date), pd.to_datetime(end_date), freq='min'))\n",
    "    \n",
    "    day_time = timestamps[(timestamps.dt.hour >= 6) & (timestamps.dt.hour < 22)].reset_index(drop=True)\n",
    "    night_time = timestamps[((timestamps.dt.hour < 6) & (timestamps.dt.hour >= 0)) \\\n",
    "                | (timestamps.dt.hour >= 22) & (timestamps.dt.hour <= 23)] \\\n",
    "                .reset_index(drop=True)\n",
    "\n",
    "    def get_time_for_trans(trans_df, client_id, round_clock_cat, is_fraud):\n",
    "        # дата и время последней транзакции клиента\n",
    "        last_txn_time = trans_df[trans_df.client_id == client_id].time.max()\n",
    "        \n",
    "        # если нет предыдущей транзакции\n",
    "        if last_txn_time is np.nan:\n",
    "            if round_clock_cat == 1 and not is_fraud:\n",
    "                txn_time = timestamps.sample(n=1, weights=, replace=True).iloc[0]\n",
    "\n",
    "            else:\n",
    "                txn_time = day_time.sample(n=1, replace=True).iloc[0]\n",
    "\n",
    "        # если есть предыдущая транзакция\n",
    "        else:\n",
    "            txn_time = timestamps.sample(n=1, replace=True).iloc[0]\n",
    "            trans_time_diff = txn_time - last_txn_time\n",
    "            one_hour_delta = pd.Timedelta(3600, unit=\"s\")\n",
    "\n",
    "            # если время между текущей и последней транзакцией меньше часа, то добавим время чтобы было час минимум\n",
    "            if trans_time_diff < one_hour_delta:\n",
    "                time_addition = one_hour_delta - trans_time_diff\n",
    "                txn_time = txn_time + time_addition\n",
    "    \n",
    "    for lab, row in client_info.iterrows():\n",
    "        pos_txns = [] # сюда временно будут добавляться созданные транзакции для текущего клиента\n",
    "\n",
    "        \n",
    "        # данные клиента\n",
    "        client_id = client_info.loc[lab, \"client_id\"]\n",
    "        client_area = client_info.loc[lab, \"area\"]\n",
    "        client_area_geometry = client_info.loc[lab, \"geometry\"]\n",
    "        client_ip = client_info.loc[lab, \"home_ip\"]\n",
    "\n",
    "        # цикл создания n транзакций для текущего клиента\n",
    "        for _ in range(num):\n",
    "            \n",
    "                    \n",
    "            # случайный выбор категории транзакции    \n",
    "            category = categories.sample(1, replace=True, weights=categories.share)\n",
    "            category_name = category[\"category\"].iloc[0]\n",
    "            round_clock = category[\"round_clock_cat\"].iloc[0]\n",
    "            # средняя сумма для этой категории\n",
    "            amt_mean = category[\"avg_amt\"].iloc[0]\n",
    "            # стандартное отклонение сумм для этой категории\n",
    "            amt_std = category[\"amt_std\"].iloc[0]\n",
    "            # случайно сгенерированная сумма не менее 1\n",
    "            amount = max(1, np.random.normal(amt_mean, amt_std))\n",
    "\n",
    "            # будет ли транзакция фродом или нет. \n",
    "            is_fraud = random.random() < fraud_rate\n",
    "\n",
    "            # генерация данных для оффлайн покупок - не фрод\n",
    "            if category[\"online\"].iloc[0] == 0 and not is_fraud:\n",
    "                merchant = merchants_df.loc[(merchants_df.area == client_area) & (merchants_df.category == category_name)].sample(1, replace=True)\n",
    "                merchant_id = merchant[\"merchant_id\"].iloc[0]\n",
    "                merchant_loc = merchant[\"merchant_loc\"].iloc[0]\n",
    "                \n",
    "                pos_txns.append({\n",
    "                \"client_id\": client_id, \"time\": txn_time, \"amount\": round(amount, 2), \"type\": \"purchase\",\n",
    "                \"channel\": \"POS\", \"category\": category_name, \"online\": category[\"online\"].iloc[0],\n",
    "                \"merchant_id\": merchant_id, \"merchant_loc\": merchant_loc, \"is_fraud\": is_fraud\n",
    "            })\n",
    "\n",
    "            trans_df_one_client = pd.DataFrame(pos_txns)\n",
    "        trans_df = pd.concat([trans_df, trans_df_one_client], ignore_index=True)\n",
    "\n",
    "    return trans_df"
   ]
  },
  {
   "cell_type": "code",
   "execution_count": 872,
   "id": "9deb21b8-651f-47ea-b628-c86784026b96",
   "metadata": {},
   "outputs": [],
   "source": [
    "client_subset = clients_with_geo.query(\"client_id == 1\")"
   ]
  },
  {
   "cell_type": "code",
   "execution_count": 907,
   "id": "c80a4947-2abf-4200-940f-b87c9dde3fe8",
   "metadata": {},
   "outputs": [
    {
     "data": {
      "text/html": [
       "<div>\n",
       "<style scoped>\n",
       "    .dataframe tbody tr th:only-of-type {\n",
       "        vertical-align: middle;\n",
       "    }\n",
       "\n",
       "    .dataframe tbody tr th {\n",
       "        vertical-align: top;\n",
       "    }\n",
       "\n",
       "    .dataframe thead th {\n",
       "        text-align: right;\n",
       "    }\n",
       "</style>\n",
       "<table border=\"1\" class=\"dataframe\">\n",
       "  <thead>\n",
       "    <tr style=\"text-align: right;\">\n",
       "      <th></th>\n",
       "      <th>client_id</th>\n",
       "      <th>district_id</th>\n",
       "      <th>birth_date</th>\n",
       "      <th>sex</th>\n",
       "      <th>district_code</th>\n",
       "      <th>region</th>\n",
       "      <th>area</th>\n",
       "      <th>timezone</th>\n",
       "      <th>lat</th>\n",
       "      <th>lon</th>\n",
       "      <th>population</th>\n",
       "      <th>clients</th>\n",
       "      <th>geometry</th>\n",
       "      <th>home_ip</th>\n",
       "    </tr>\n",
       "  </thead>\n",
       "  <tbody>\n",
       "    <tr>\n",
       "      <th>0</th>\n",
       "      <td>1</td>\n",
       "      <td>18</td>\n",
       "      <td>1970-12-13</td>\n",
       "      <td>female</td>\n",
       "      <td>18</td>\n",
       "      <td>Рязанская</td>\n",
       "      <td>Рязань</td>\n",
       "      <td>UTC+3</td>\n",
       "      <td>54.625457</td>\n",
       "      <td>39.735999</td>\n",
       "      <td>525062</td>\n",
       "      <td>60</td>\n",
       "      <td>POLYGON ((39.53667 54.6385, 39.53677 54.63889,...</td>\n",
       "      <td>2.60.0.1</td>\n",
       "    </tr>\n",
       "  </tbody>\n",
       "</table>\n",
       "</div>"
      ],
      "text/plain": [
       "   client_id  district_id  birth_date     sex  district_code     region  \\\n",
       "0          1           18  1970-12-13  female             18  Рязанская   \n",
       "\n",
       "     area timezone        lat        lon  population  clients  \\\n",
       "0  Рязань    UTC+3  54.625457  39.735999      525062       60   \n",
       "\n",
       "                                            geometry   home_ip  \n",
       "0  POLYGON ((39.53667 54.6385, 39.53677 54.63889,...  2.60.0.1  "
      ]
     },
     "execution_count": 907,
     "metadata": {},
     "output_type": "execute_result"
    }
   ],
   "source": [
    "client_subset"
   ]
  },
  {
   "cell_type": "code",
   "execution_count": 910,
   "id": "e140cf82-6d13-4994-b7e8-72d0d77894c6",
   "metadata": {},
   "outputs": [
    {
     "data": {
      "text/html": [
       "<div>\n",
       "<style scoped>\n",
       "    .dataframe tbody tr th:only-of-type {\n",
       "        vertical-align: middle;\n",
       "    }\n",
       "\n",
       "    .dataframe tbody tr th {\n",
       "        vertical-align: top;\n",
       "    }\n",
       "\n",
       "    .dataframe thead th {\n",
       "        text-align: right;\n",
       "    }\n",
       "</style>\n",
       "<table border=\"1\" class=\"dataframe\">\n",
       "  <thead>\n",
       "    <tr style=\"text-align: right;\">\n",
       "      <th></th>\n",
       "      <th>client_id</th>\n",
       "      <th>time</th>\n",
       "      <th>amount</th>\n",
       "      <th>type</th>\n",
       "      <th>channel</th>\n",
       "      <th>category</th>\n",
       "      <th>online</th>\n",
       "      <th>merchant_id</th>\n",
       "      <th>merchant_loc</th>\n",
       "      <th>client_ip</th>\n",
       "      <th>ip_location</th>\n",
       "      <th>account_to</th>\n",
       "      <th>is_fraud</th>\n",
       "    </tr>\n",
       "  </thead>\n",
       "  <tbody>\n",
       "  </tbody>\n",
       "</table>\n",
       "</div>"
      ],
      "text/plain": [
       "Empty GeoDataFrame\n",
       "Columns: [client_id, time, amount, type, channel, category, online, merchant_id, merchant_loc, client_ip, ip_location, account_to, is_fraud]\n",
       "Index: []"
      ]
     },
     "execution_count": 910,
     "metadata": {},
     "output_type": "execute_result"
    }
   ],
   "source": [
    "trans_for_test = transactions.copy()\n",
    "trans_for_test"
   ]
  },
  {
   "cell_type": "code",
   "execution_count": 911,
   "id": "1963d753-dea1-4a9a-ab1e-97be597a8b43",
   "metadata": {},
   "outputs": [],
   "source": [
    "trans_gen_test_01 = generate_pos_transactions(client_info=client_subset, start_date=\"2017-01-01\", end_date=\"2022-12-31\", num=5, fraud_rate=0.05, \\\n",
    "                              categories=cat_stats_full, fraud_ips=fraud_ips, trans_df=trans_for_test, \\\n",
    "                              merchants_df = selling_points_8_merchants, online_merchant_ids=online_merchant_ids)"
   ]
  },
  {
   "cell_type": "code",
   "execution_count": 912,
   "id": "a5dc50bf-656e-4b19-8af1-db5c15fdc0e8",
   "metadata": {},
   "outputs": [
    {
     "data": {
      "text/html": [
       "<div>\n",
       "<style scoped>\n",
       "    .dataframe tbody tr th:only-of-type {\n",
       "        vertical-align: middle;\n",
       "    }\n",
       "\n",
       "    .dataframe tbody tr th {\n",
       "        vertical-align: top;\n",
       "    }\n",
       "\n",
       "    .dataframe thead th {\n",
       "        text-align: right;\n",
       "    }\n",
       "</style>\n",
       "<table border=\"1\" class=\"dataframe\">\n",
       "  <thead>\n",
       "    <tr style=\"text-align: right;\">\n",
       "      <th></th>\n",
       "      <th>client_id</th>\n",
       "      <th>time</th>\n",
       "      <th>amount</th>\n",
       "      <th>type</th>\n",
       "      <th>channel</th>\n",
       "      <th>category</th>\n",
       "      <th>online</th>\n",
       "      <th>merchant_id</th>\n",
       "      <th>merchant_loc</th>\n",
       "      <th>client_ip</th>\n",
       "      <th>ip_location</th>\n",
       "      <th>account_to</th>\n",
       "      <th>is_fraud</th>\n",
       "    </tr>\n",
       "  </thead>\n",
       "  <tbody>\n",
       "    <tr>\n",
       "      <th>0</th>\n",
       "      <td>1</td>\n",
       "      <td>2020-06-17 15:32:00</td>\n",
       "      <td>388.33</td>\n",
       "      <td>purchase</td>\n",
       "      <td>POS</td>\n",
       "      <td>misc_pos</td>\n",
       "      <td>0.0</td>\n",
       "      <td>2876.0</td>\n",
       "      <td>POINT (39.58864244042683 54.64360405430491)</td>\n",
       "      <td>&lt;NA&gt;</td>\n",
       "      <td>&lt;NA&gt;</td>\n",
       "      <td>NaN</td>\n",
       "      <td>0</td>\n",
       "    </tr>\n",
       "    <tr>\n",
       "      <th>1</th>\n",
       "      <td>1</td>\n",
       "      <td>2021-07-04 23:52:00</td>\n",
       "      <td>539.23</td>\n",
       "      <td>purchase</td>\n",
       "      <td>POS</td>\n",
       "      <td>personal_care</td>\n",
       "      <td>0.0</td>\n",
       "      <td>3729.0</td>\n",
       "      <td>POINT (39.74591808527166 54.637572015694126)</td>\n",
       "      <td>&lt;NA&gt;</td>\n",
       "      <td>&lt;NA&gt;</td>\n",
       "      <td>NaN</td>\n",
       "      <td>0</td>\n",
       "    </tr>\n",
       "    <tr>\n",
       "      <th>2</th>\n",
       "      <td>1</td>\n",
       "      <td>2021-11-30 08:10:00</td>\n",
       "      <td>105.37</td>\n",
       "      <td>purchase</td>\n",
       "      <td>POS</td>\n",
       "      <td>kids_pets</td>\n",
       "      <td>0.0</td>\n",
       "      <td>6262.0</td>\n",
       "      <td>POINT (39.79949759003459 54.60411155098016)</td>\n",
       "      <td>&lt;NA&gt;</td>\n",
       "      <td>&lt;NA&gt;</td>\n",
       "      <td>NaN</td>\n",
       "      <td>0</td>\n",
       "    </tr>\n",
       "  </tbody>\n",
       "</table>\n",
       "</div>"
      ],
      "text/plain": [
       "   client_id                time  amount      type channel       category  \\\n",
       "0          1 2020-06-17 15:32:00  388.33  purchase     POS       misc_pos   \n",
       "1          1 2021-07-04 23:52:00  539.23  purchase     POS  personal_care   \n",
       "2          1 2021-11-30 08:10:00  105.37  purchase     POS      kids_pets   \n",
       "\n",
       "   online  merchant_id                                  merchant_loc  \\\n",
       "0     0.0       2876.0   POINT (39.58864244042683 54.64360405430491)   \n",
       "1     0.0       3729.0  POINT (39.74591808527166 54.637572015694126)   \n",
       "2     0.0       6262.0   POINT (39.79949759003459 54.60411155098016)   \n",
       "\n",
       "  client_ip ip_location  account_to  is_fraud  \n",
       "0      <NA>        <NA>         NaN         0  \n",
       "1      <NA>        <NA>         NaN         0  \n",
       "2      <NA>        <NA>         NaN         0  "
      ]
     },
     "execution_count": 912,
     "metadata": {},
     "output_type": "execute_result"
    }
   ],
   "source": [
    "trans_gen_test_01.sort_values(\"time\")"
   ]
  },
  {
   "cell_type": "code",
   "execution_count": null,
   "id": "806bfe4c-6170-4a10-ba2e-a9c6b5f7df00",
   "metadata": {},
   "outputs": [],
   "source": [
    "# amounts = []\n",
    "# category = cat_stats_full.sample(1, replace=True, weights=cat_stats_full.share)\n",
    "# for _ in range(100):\n",
    "\n",
    "    \n",
    "#     amt_mean = category[\"avg_amt\"].iloc[0]\n",
    "#     amt_std = category[\"amt_std\"].iloc[0]\n",
    "#     amount = max(1, np.random.normal(amt_mean, amt_std))\n",
    "\n",
    "#     amounts.append(amount)\n",
    "#     # print(f\"\"\"\n",
    "#     # Category: {category[\"category\"]}\n",
    "#     # Amount: {amount}\n",
    "#     # \"\"\")\n",
    "\n",
    "# print(f\"\"\"Category: {category[\"category\"]}\"\"\")\n",
    "# pd.Series(amounts).mean()"
   ]
  },
  {
   "cell_type": "code",
   "execution_count": null,
   "id": "42038506-f4ce-487c-a8f4-938ef0bd7d85",
   "metadata": {},
   "outputs": [],
   "source": [
    "# cat_stats_full.query(\"category == @category['category'].iloc[0]\")"
   ]
  },
  {
   "cell_type": "markdown",
   "id": "99ccc76b-779e-4780-9148-5b8dd6e6b9ce",
   "metadata": {},
   "source": [
    "### Часть от оригинальной функции от GPT"
   ]
  },
  {
   "cell_type": "code",
   "execution_count": 908,
   "id": "cedd8cd6-f259-4b11-8419-a7016692afbb",
   "metadata": {},
   "outputs": [],
   "source": [
    "                \n",
    "            # генерация данных для онлайн покупок: ip\n",
    "            # if category[\"online\"] == 1:\n",
    "                \n",
    "            # Гео — нормальный город\n",
    "            # city = random.choice(list(city_coords.keys()))\n",
    "            # lat, lon = city_coords[city]\n",
    "            # lat += np.random.normal(0, 0.01)\n",
    "            # lon += np.random.normal(0, 0.01)\n",
    "    \n",
    "            \n",
    "            # if is_fraud:\n",
    "            #     # Фрод: другой город, высокая сумма, необычная категория\n",
    "            #     category = \"luxury\"\n",
    "            #     amount = np.random.uniform(20000, 150000)\n",
    "            #     lat += np.random.normal(5, 2)  # далеко\n",
    "            #     lon += np.random.normal(5, 2)\n",
    "    \n",
    "            # pos_txns.append({\n",
    "            #     \"client_id\": client_id,\n",
    "            #     \"date\": txn_date,\n",
    "            #     \"amount\": round(amount, 2),\n",
    "            #     \"type\": \"purchase\",\n",
    "            #     \"channel\": \"POS\",\n",
    "            #     \"category\": category,\n",
    "            #     \"latitude\": lat,\n",
    "            #     \"longitude\": lon,\n",
    "            #     \"is_fraud\": is_fraud\n",
    "            # })\n",
    "\n",
    "    # return pd.DataFrame(pos_txns)"
   ]
  },
  {
   "cell_type": "code",
   "execution_count": null,
   "id": "7939b75b-e266-4cde-8249-c9b98671aa58",
   "metadata": {},
   "outputs": [],
   "source": []
  },
  {
   "cell_type": "code",
   "execution_count": null,
   "id": "288064bb-6698-40c2-9d7f-40bbdd8f864e",
   "metadata": {},
   "outputs": [],
   "source": []
  },
  {
   "cell_type": "code",
   "execution_count": null,
   "id": "0762f4d0-c01f-406a-9e0c-70702e533434",
   "metadata": {},
   "outputs": [],
   "source": []
  },
  {
   "cell_type": "code",
   "execution_count": null,
   "id": "47b566a1-9a42-472b-8915-42c0a3d14206",
   "metadata": {},
   "outputs": [],
   "source": []
  },
  {
   "cell_type": "code",
   "execution_count": null,
   "id": "cb70731a-cd97-4741-938b-a96019e34504",
   "metadata": {},
   "outputs": [],
   "source": []
  },
  {
   "cell_type": "code",
   "execution_count": null,
   "id": "adc188fd-70bc-4959-aacd-45e9e308e569",
   "metadata": {},
   "outputs": [],
   "source": []
  },
  {
   "cell_type": "code",
   "execution_count": null,
   "id": "84c29781-401f-4c2c-a384-31d8d41afd46",
   "metadata": {},
   "outputs": [],
   "source": []
  },
  {
   "cell_type": "code",
   "execution_count": null,
   "id": "d8a4f622-3f17-4eb5-b4cc-63e56a8e25a8",
   "metadata": {},
   "outputs": [],
   "source": []
  },
  {
   "cell_type": "code",
   "execution_count": null,
   "id": "2a3c6762-9644-4519-84f5-7890cd69dca7",
   "metadata": {},
   "outputs": [],
   "source": []
  },
  {
   "cell_type": "code",
   "execution_count": null,
   "id": "6b123219-e195-4cc1-9421-3e05d44e78b4",
   "metadata": {},
   "outputs": [],
   "source": []
  },
  {
   "cell_type": "code",
   "execution_count": null,
   "id": "6ad426d1-b818-433a-956b-708a86181c64",
   "metadata": {},
   "outputs": [],
   "source": []
  },
  {
   "cell_type": "code",
   "execution_count": null,
   "id": "8c7c5cfa-becf-4af4-82ae-f04a158568c3",
   "metadata": {},
   "outputs": [],
   "source": []
  },
  {
   "cell_type": "markdown",
   "id": "f7dd7954-756e-4d89-b92b-57f99eaa75fa",
   "metadata": {},
   "source": [
    "# Внизу образец генерации транзакций от GPT"
   ]
  },
  {
   "cell_type": "code",
   "execution_count": null,
   "id": "b1a9ee0b-42de-4c12-9130-b2b00e7f08b3",
   "metadata": {},
   "outputs": [],
   "source": [
    "import random\n",
    "from datetime import timedelta\n",
    "\n",
    "# Категории и примерные средние суммы (можно расширить)\n",
    "categories = {\n",
    "    \"grocery\": (300, 100),\n",
    "    \"electronics\": (10000, 5000),\n",
    "    \"transport\": (150, 50),\n",
    "    \"restaurants\": (800, 200),\n",
    "    \"clothing\": (2000, 800)\n",
    "}\n",
    "\n",
    "# Список городов с координатами\n",
    "city_coords = {\n",
    "    \"Москва\": (55.75, 37.62),\n",
    "    \"Санкт-Петербург\": (59.94, 30.31),\n",
    "    \"Казань\": (55.79, 49.12),\n",
    "    \"Екатеринбург\": (56.84, 60.61)\n",
    "}"
   ]
  },
  {
   "cell_type": "code",
   "execution_count": null,
   "id": "66ee65d3-b21e-4c42-af63-0267156eb988",
   "metadata": {},
   "outputs": [],
   "source": [
    "# Генерация POS транзакций\n",
    "def generate_pos_transactions(account_id, client_id, start_date, end_date, num=50, fraud_rate=0.05):\n",
    "    dates = pd.date_range(start_date, end_date, freq='D').to_pydatetime().tolist()\n",
    "    pos_txns = []\n",
    "\n",
    "    for _ in range(num):\n",
    "        txn_date = random.choice(dates)\n",
    "        category = random.choice(list(categories.keys()))\n",
    "        mean, std = categories[category]\n",
    "        amount = max(1, np.random.normal(mean, std))\n",
    "\n",
    "        # Гео — нормальный город\n",
    "        city = random.choice(list(city_coords.keys()))\n",
    "        lat, lon = city_coords[city]\n",
    "        lat += np.random.normal(0, 0.01)\n",
    "        lon += np.random.normal(0, 0.01)\n",
    "\n",
    "        is_fraud = random.random() < fraud_rate\n",
    "        if is_fraud:\n",
    "            # Фрод: другой город, высокая сумма, необычная категория\n",
    "            category = \"luxury\"\n",
    "            amount = np.random.uniform(20000, 150000)\n",
    "            lat += np.random.normal(5, 2)  # далеко\n",
    "            lon += np.random.normal(5, 2)\n",
    "\n",
    "        pos_txns.append({\n",
    "            \"account_id\": account_id,\n",
    "            \"client_id\": client_id,\n",
    "            \"date\": txn_date,\n",
    "            \"amount\": round(amount, 2),\n",
    "            \"type\": \"purchase\",\n",
    "            \"channel\": \"POS\",\n",
    "            \"category\": category,\n",
    "            \"latitude\": lat,\n",
    "            \"longitude\": lon,\n",
    "            \"is_fraud\": is_fraud\n",
    "        })\n",
    "\n",
    "    return pd.DataFrame(pos_txns)"
   ]
  },
  {
   "cell_type": "code",
   "execution_count": null,
   "id": "3c8a2f2e-f820-4449-9167-e0ef36a2fa63",
   "metadata": {},
   "outputs": [],
   "source": []
  },
  {
   "cell_type": "code",
   "execution_count": null,
   "id": "11c13f7e-c545-4cc1-b02c-190a81069b09",
   "metadata": {},
   "outputs": [],
   "source": []
  },
  {
   "cell_type": "code",
   "execution_count": null,
   "id": "d042357e-3ee1-4878-881b-39ff34bad961",
   "metadata": {},
   "outputs": [],
   "source": []
  },
  {
   "cell_type": "code",
   "execution_count": null,
   "id": "45d629d6-72a2-40f2-8480-70c97bb9350a",
   "metadata": {},
   "outputs": [],
   "source": []
  },
  {
   "cell_type": "code",
   "execution_count": null,
   "id": "7f0b6aa3-9db0-4279-b3f2-7567cc4de2de",
   "metadata": {},
   "outputs": [],
   "source": []
  },
  {
   "cell_type": "code",
   "execution_count": null,
   "id": "b85aacb6-c2d1-4fdc-beed-7b1b018fbeb5",
   "metadata": {},
   "outputs": [],
   "source": []
  },
  {
   "cell_type": "code",
   "execution_count": null,
   "id": "6c3b491b-565a-4052-bee2-0af55b80657e",
   "metadata": {},
   "outputs": [],
   "source": []
  },
  {
   "cell_type": "markdown",
   "id": "36c89c83-fde3-499e-93a8-377f94956def",
   "metadata": {},
   "source": [
    "## Нормальное распределение"
   ]
  },
  {
   "cell_type": "code",
   "execution_count": 707,
   "id": "1ed8488f-6632-43de-ba94-7ec99285c83b",
   "metadata": {},
   "outputs": [],
   "source": [
    "# 56.310481, 43.989214"
   ]
  },
  {
   "cell_type": "code",
   "execution_count": 708,
   "id": "c5a3b829-42d1-429a-8a9f-3513825e4311",
   "metadata": {},
   "outputs": [],
   "source": [
    "# 56.335365, 43.922722 # std\n"
   ]
  },
  {
   "cell_type": "code",
   "execution_count": 709,
   "id": "de8e4beb-e4a6-46f0-b279-9af7226a5c25",
   "metadata": {},
   "outputs": [],
   "source": [
    "# 56.335365 - 56.304909"
   ]
  },
  {
   "cell_type": "code",
   "execution_count": 710,
   "id": "a047b750-c3af-4f6f-b2df-121188cf748d",
   "metadata": {},
   "outputs": [],
   "source": [
    "# 43.989214 - 43.922722"
   ]
  },
  {
   "cell_type": "code",
   "execution_count": 711,
   "id": "2871dbba-53dd-435b-820f-f9cc338b264a",
   "metadata": {},
   "outputs": [],
   "source": [
    "# from shapely.geometry import Point, Polygon\n",
    "\n",
    "# def Random_Points_in_Bounds_Normal(polygon, number, mean_x, mean_y, std_x, std_y):   \n",
    "    \n",
    "#     x = np.random.normal(mean_x, std_x, number)\n",
    "#     y = np.random.normal(mean_y, std_y, number)\n",
    "#     return x, y"
   ]
  },
  {
   "cell_type": "code",
   "execution_count": 712,
   "id": "3c3304b9-fb33-4b1f-b790-e372729346bd",
   "metadata": {},
   "outputs": [],
   "source": [
    "# nn_poly = district_ru_merge.query(\"area == 'Нижний Новгород'\").iloc[0,-1]"
   ]
  },
  {
   "cell_type": "code",
   "execution_count": 713,
   "id": "864633f6-af08-4158-8285-588b5e2de72c",
   "metadata": {},
   "outputs": [],
   "source": [
    "# gdf_poly = gpd.GeoDataFrame(index=[\"myPoly\"], geometry=[nn_poly])\n",
    "# gdf_poly"
   ]
  },
  {
   "cell_type": "code",
   "execution_count": 714,
   "id": "4e9da959-a6fd-437b-b3c3-38aa702fa13f",
   "metadata": {},
   "outputs": [],
   "source": [
    "# x,y = Random_Points_in_Bounds_Normal(nn_poly, 1000, mean_x=43.989214, mean_y= 56.310481, std_x=0.066491999, std_y=0.030456)\n",
    "# df = pd.DataFrame()\n",
    "# df['points'] = list(zip(x,y))\n",
    "# df['points'] = df['points'].apply(Point)\n",
    "# gdf_points = gpd.GeoDataFrame(df, geometry='points')"
   ]
  },
  {
   "cell_type": "code",
   "execution_count": 715,
   "id": "a2c2a870-f29b-4f65-85cd-f5641c15d72b",
   "metadata": {},
   "outputs": [],
   "source": [
    "# Sjoin = gpd.tools.sjoin(gdf_points, gdf_poly, predicate=\"within\", how='left')\n",
    "\n",
    "# # Keep points in \"myPoly\"\n",
    "# pnts_in_poly = gdf_points[Sjoin.index_right=='myPoly']\n",
    "\n",
    "# # Plot result\n",
    "# base = gdf_poly.boundary.plot(linewidth=1, edgecolor=\"black\")\n",
    "# gdf_points.plot(ax=base, linewidth=1, color=\"red\", markersize=8)\n",
    "# plt.show()"
   ]
  },
  {
   "cell_type": "code",
   "execution_count": null,
   "id": "6e29449a-9751-4a6c-aa31-7be285ef1dfb",
   "metadata": {},
   "outputs": [],
   "source": []
  },
  {
   "cell_type": "code",
   "execution_count": 716,
   "id": "d48278de-a092-4522-8e40-83b53fdf819a",
   "metadata": {},
   "outputs": [
    {
     "data": {
      "text/plain": [
       "<Geographic 2D CRS: EPSG:4326>\n",
       "Name: WGS 84\n",
       "Axis Info [ellipsoidal]:\n",
       "- Lat[north]: Geodetic latitude (degree)\n",
       "- Lon[east]: Geodetic longitude (degree)\n",
       "Area of Use:\n",
       "- name: World.\n",
       "- bounds: (-180.0, -90.0, 180.0, 90.0)\n",
       "Datum: World Geodetic System 1984 ensemble\n",
       "- Ellipsoid: WGS 84\n",
       "- Prime Meridian: Greenwich"
      ]
     },
     "execution_count": 716,
     "metadata": {},
     "output_type": "execute_result"
    }
   ],
   "source": [
    "ru_cities_tent_subset.crs"
   ]
  },
  {
   "cell_type": "code",
   "execution_count": 717,
   "id": "295520a8-27de-4463-80d6-59152035d691",
   "metadata": {},
   "outputs": [
    {
     "name": "stdout",
     "output_type": "stream",
     "text": [
      "Расстояние: 2304.08 км\n"
     ]
    }
   ],
   "source": [
    "from shapely.ops import transform\n",
    "from pyproj import Geod\n",
    "\n",
    "# Две координаты: (долгота, широта)\n",
    "coord1 = (37.6173, 55.7558)   # Москва\n",
    "coord2 = (65.502079, 44.848393)   # Кызылорда 2300 km\n",
    "\n",
    "# Геодезический расчёт по эллипсоиду WGS84\n",
    "geod = Geod(ellps=\"WGS84\")\n",
    "distance_m = geod.inv(coord1[0], coord1[1], coord2[0], coord2[1])[-1]\n",
    "\n",
    "print(f\"Расстояние: {distance_m / 1000:.2f} км\")"
   ]
  },
  {
   "cell_type": "code",
   "execution_count": null,
   "id": "6c539cbd-3caf-42c4-b034-8566d86a0349",
   "metadata": {},
   "outputs": [],
   "source": []
  },
  {
   "cell_type": "code",
   "execution_count": null,
   "id": "bb05dca9-c2cd-4980-9bf7-1997556e33a7",
   "metadata": {},
   "outputs": [],
   "source": []
  },
  {
   "cell_type": "code",
   "execution_count": 718,
   "id": "5e5ae352-ca52-4dff-9f71-25512d5bc4c4",
   "metadata": {},
   "outputs": [],
   "source": [
    "# files = os.listdir()\n",
    "# files\n",
    "# name_part = \"10_kalin_ru\"\n",
    "\n",
    "# for file in files:\n",
    "#     file_split =  file.split(\".\")\n",
    "#     if file_split[0] == \"gis_osm_places_a_free_1\":\n",
    "#         new_name = name_part + \".\" + file_split[-1]\n",
    "#         print(new_name)\n",
    "#         os.rename(file, new_name)\n",
    "    # elif file_split[0] == \"07_ural_ru\":\n",
    "    #     new_name = name_part + \".\" + file_split[-1]\n",
    "    #     print(new_name)\n",
    "    #     os.rename(file, new_name)\n",
    "        \n",
    "# os.rename(\"test.txt\", \"renamed\")\n",
    "# \"asdasd.shp\".split(\".\")[-1]"
   ]
  },
  {
   "cell_type": "code",
   "execution_count": 719,
   "id": "5d3a3b82-dd64-4c3d-98f4-021fe7a207e8",
   "metadata": {},
   "outputs": [],
   "source": [
    "# os.chdir(\"./data/raw_data/geo/\")"
   ]
  },
  {
   "cell_type": "code",
   "execution_count": 720,
   "id": "bfdeb0c9-742a-4222-a1d9-680620ad0dee",
   "metadata": {
    "scrolled": true
   },
   "outputs": [],
   "source": [
    "# gpd.read_file(\"data/raw_data/geo/01_central_ru.shp\")"
   ]
  },
  {
   "cell_type": "code",
   "execution_count": 721,
   "id": "7564f161-c680-4977-8d6c-a0aa905fca80",
   "metadata": {},
   "outputs": [],
   "source": [
    "# # ru_city_shapes = \n",
    "# pd.concat([gpd.read_file(f\"./data/raw_data/geo/{file}\").query(\"fclass == 'city'\") for file in geo_files])"
   ]
  },
  {
   "cell_type": "code",
   "execution_count": 722,
   "id": "2f292245-514e-4fa1-a5c4-d266242b024d",
   "metadata": {},
   "outputs": [],
   "source": [
    "# os.chdir(\"C:\\\\Users\\\\iaros\\\\My_documents\\\\Education\\\\projects\\\\fraud_detection_01\\\\\")"
   ]
  },
  {
   "cell_type": "code",
   "execution_count": null,
   "id": "2f1ce98f-bc6d-4606-82c5-96fbfd0d5fcf",
   "metadata": {},
   "outputs": [],
   "source": []
  }
 ],
 "metadata": {
  "kernelspec": {
   "display_name": "Python 3 (ipykernel)",
   "language": "python",
   "name": "python3"
  },
  "language_info": {
   "codemirror_mode": {
    "name": "ipython",
    "version": 3
   },
   "file_extension": ".py",
   "mimetype": "text/x-python",
   "name": "python",
   "nbconvert_exporter": "python",
   "pygments_lexer": "ipython3",
   "version": "3.13.3"
  }
 },
 "nbformat": 4,
 "nbformat_minor": 5
}
