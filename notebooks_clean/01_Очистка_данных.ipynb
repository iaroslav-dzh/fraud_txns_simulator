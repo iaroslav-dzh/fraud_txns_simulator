{
 "cells": [
  {
   "cell_type": "markdown",
   "id": "488f454c",
   "metadata": {},
   "source": [
    "# **Чистка и изменение таблиц `clients` и `districts`**\n",
    "- **ноутбуки лучше просматривать** на nbviewer.org, т.к. там нет проблем с отображением, которые могут быть на Github:\n",
    "    -  **[Ссылка](https://nbviewer.org/github/iaroslav-dzh/fraud_txns_simulator/blob/main/notebooks_clean/01_%D0%9E%D1%87%D0%B8%D1%81%D1%82%D0%BA%D0%B0_%D0%B4%D0%B0%D0%BD%D0%BD%D1%8B%D1%85.ipynb)** на этот ноутбук\n",
    "    -  **[Ссылка](https://nbviewer.org/github/iaroslav-dzh/fraud_txns_simulator/tree/main/notebooks_clean/)** на папку со всеми ноутбуками  \n",
    "\n",
    "**Информация о ноутбуке**\n",
    "- эти таблицы взяты из Berka dataset (Czech bank dataset). Изначально предполагалось работать с исходными таблицами, только немного трансформировав их, но потом я решил заменить чешские районы на российские города, что будет сделано в другом ноутбуке далее"
   ]
  },
  {
   "cell_type": "code",
   "execution_count": 2,
   "id": "d2a6fd5f-062d-4ddd-8b9f-e3fa5777de5d",
   "metadata": {},
   "outputs": [],
   "source": [
    "import pandas as pd\n",
    "import numpy as np\n",
    "import os\n",
    "from data_generator.utils import load_configs"
   ]
  },
  {
   "cell_type": "code",
   "execution_count": 3,
   "id": "e06b3f6c-8b83-49c5-b20a-addec282b409",
   "metadata": {},
   "outputs": [],
   "source": [
    "os.chdir('..')"
   ]
  },
  {
   "cell_type": "code",
   "execution_count": 23,
   "id": "405b8753-246c-4828-a349-b6cf9caa8e25",
   "metadata": {
    "scrolled": true
   },
   "outputs": [],
   "source": [
    "# Загрузка базовых конфигов\n",
    "base_cfg = load_configs(\"./config/base.yaml\")\n",
    "\n",
    "# Пути к файлам\n",
    "data_paths = base_cfg[\"data_paths\"]"
   ]
  },
  {
   "cell_type": "code",
   "execution_count": 9,
   "id": "f483395c-686a-404e-8623-b258d73fab39",
   "metadata": {},
   "outputs": [],
   "source": [
    "# Функция проверки на NaN в любом месте датафрейма\n",
    "def check_for_nans(df: pd.DataFrame):\n",
    "    rows_isna = df.isna().any(axis=1)\n",
    "    \n",
    "    if rows_isna.any():\n",
    "        print(\"Following rows have missing values!\")\n",
    "        return df[rows_isna]\n",
    "    else:\n",
    "        print(\"No missing values\")"
   ]
  },
  {
   "cell_type": "code",
   "execution_count": 10,
   "id": "6e6dbf3f-286c-4025-aee6-1867446652aa",
   "metadata": {},
   "outputs": [],
   "source": [
    "# функция проверки датафрейма после изменений\n",
    "# df_name название датафрейма\n",
    "\n",
    "def check_df_integrity(initial_df_shape: tuple[int, int], current_df: pd.DataFrame, df_name: str, axis: int | None = None):\n",
    "\n",
    "    if not isinstance(df_name, str):\n",
    "        raise TypeError(f'df_name must be a string (name of a DataFrame), but got {type(df_name)}')\n",
    "        \n",
    "    current_shape = current_df.shape\n",
    "    axis_names = {0:'rows', 1:'columns'}\n",
    "    \n",
    "    \n",
    "    if axis != None:\n",
    "        initial_ax = initial_df_shape[axis]\n",
    "        current_ax = current_shape[axis]\n",
    "        other_axis = 1 - axis\n",
    "        \n",
    "    \n",
    "        if initial_ax != current_ax:\n",
    "            raise ValueError(f'''Something is wrong with {axis_names[axis]}!\n",
    "            initial {axis_names[axis]} shape is: {initial_ax}\n",
    "            current {axis_names[axis]} shape is: {current_ax}''')\n",
    "            \n",
    "        else:\n",
    "            initial_other = initial_df_shape[other_axis]\n",
    "            current_other = current_shape[other_axis]\n",
    "            \n",
    "            if current_other != initial_other:\n",
    "                print(f'''{axis_names[axis]} count is equal.\n",
    "But changes were made to {axis_names[other_axis]}\n",
    "initial {axis_names[other_axis]} shape is: {initial_df_shape[other_axis]}\n",
    "current {axis_names[other_axis]} shape is: {current_shape[other_axis]}''')\n",
    "            else:\n",
    "                print(f\"{df_name} is intact!\")\n",
    "\n",
    "    else:\n",
    "        if initial_df_shape != current_shape:\n",
    "           raise ValueError(f'''Something is wrong!\n",
    "           initial shape is: {initial_df_shape}\n",
    "           current shape is: {current_shape}''')\n",
    "        else:    \n",
    "            print(f\"{df_name} is intact!\")"
   ]
  },
  {
   "cell_type": "markdown",
   "id": "557a08d8-6c81-43ab-bf81-99d0ecc585ce",
   "metadata": {},
   "source": [
    "## Таблица client\n",
    "| item         | meaning                  | remark                                                                                                                                   |\n",
    "| ------------ | ------------------------ | ---------------------------------------------------------------------------------------------------------------------------------------- |\n",
    "| client_id    | record identifier        |                                                                                                                                          |\n",
    "| birth number | identification of client | the number is in the form YYMMDD for men,  <br>the number is in the form YYMM+50DD for women,  <br><br>where YYMMDD is the date of birth |\n",
    "| district_id  | address of the client    |                                                                                                                                          |\n",
    "\n",
    "***YYMM+50DD for women** значит что для мужчины например 1972-04-01 будет 720401, а для женщины 725401. Нужно отфильтровать где средние два числа больше 12 и на этом условии создать колонку с полом; а также заменить две средние цифры для женщин - вычесть из них 50 или 5000 из всего числа\n"
   ]
  },
  {
   "cell_type": "code",
   "execution_count": 5,
   "id": "b8d9d9e7-b60e-4d7c-aa8b-2e232893cbfe",
   "metadata": {},
   "outputs": [],
   "source": [
    "client_df = pd.read_csv(data_paths[\"raw\"][\"clients\"], sep=';')"
   ]
  },
  {
   "cell_type": "code",
   "execution_count": 6,
   "id": "eab158d2-493f-4ebe-974e-a1c6699d00ba",
   "metadata": {
    "scrolled": true
   },
   "outputs": [
    {
     "data": {
      "text/html": [
       "<div>\n",
       "<style scoped>\n",
       "    .dataframe tbody tr th:only-of-type {\n",
       "        vertical-align: middle;\n",
       "    }\n",
       "\n",
       "    .dataframe tbody tr th {\n",
       "        vertical-align: top;\n",
       "    }\n",
       "\n",
       "    .dataframe thead th {\n",
       "        text-align: right;\n",
       "    }\n",
       "</style>\n",
       "<table border=\"1\" class=\"dataframe\">\n",
       "  <thead>\n",
       "    <tr style=\"text-align: right;\">\n",
       "      <th></th>\n",
       "      <th>client_id</th>\n",
       "      <th>birth_number</th>\n",
       "      <th>district_id</th>\n",
       "    </tr>\n",
       "  </thead>\n",
       "  <tbody>\n",
       "    <tr>\n",
       "      <th>0</th>\n",
       "      <td>1</td>\n",
       "      <td>706213</td>\n",
       "      <td>18</td>\n",
       "    </tr>\n",
       "    <tr>\n",
       "      <th>1</th>\n",
       "      <td>2</td>\n",
       "      <td>450204</td>\n",
       "      <td>1</td>\n",
       "    </tr>\n",
       "    <tr>\n",
       "      <th>2</th>\n",
       "      <td>3</td>\n",
       "      <td>406009</td>\n",
       "      <td>1</td>\n",
       "    </tr>\n",
       "  </tbody>\n",
       "</table>\n",
       "</div>"
      ],
      "text/plain": [
       "   client_id  birth_number  district_id\n",
       "0          1        706213           18\n",
       "1          2        450204            1\n",
       "2          3        406009            1"
      ]
     },
     "execution_count": 6,
     "metadata": {},
     "output_type": "execute_result"
    }
   ],
   "source": [
    "client_df.head(3)"
   ]
  },
  {
   "cell_type": "code",
   "execution_count": 7,
   "id": "f1dfcc50-5da8-4887-92f2-eea438263ab4",
   "metadata": {},
   "outputs": [
    {
     "data": {
      "text/plain": [
       "client_id       int64\n",
       "birth_number    int64\n",
       "district_id     int64\n",
       "dtype: object"
      ]
     },
     "execution_count": 7,
     "metadata": {},
     "output_type": "execute_result"
    }
   ],
   "source": [
    "client_df.dtypes"
   ]
  },
  {
   "cell_type": "code",
   "execution_count": 11,
   "id": "5cdecd98-25f7-4d91-bd51-1d6c65f7427d",
   "metadata": {},
   "outputs": [
    {
     "name": "stdout",
     "output_type": "stream",
     "text": [
      "No missing values\n"
     ]
    }
   ],
   "source": [
    "# проверка на NaN в любой колонке\n",
    "check_for_nans(client_df)"
   ]
  },
  {
   "cell_type": "code",
   "execution_count": 12,
   "id": "ed27b2f8-e01a-44c0-b740-0ff2352b5285",
   "metadata": {},
   "outputs": [
    {
     "data": {
      "text/plain": [
       "(5369, 3)"
      ]
     },
     "execution_count": 12,
     "metadata": {},
     "output_type": "execute_result"
    }
   ],
   "source": [
    "client_initial_shape = client_df.shape\n",
    "client_initial_shape"
   ]
  },
  {
   "cell_type": "code",
   "execution_count": 13,
   "id": "fb2e9a10-a566-470b-adaf-40acd6c1139a",
   "metadata": {},
   "outputs": [],
   "source": [
    "# функция определения пола по дате и возврата обычной даты для женщин, но всё еще в виде\n",
    "# целого числа\n",
    "\n",
    "def check_birth_num(birth_num):\n",
    "    if birth_num // 100 % 100 > 50:\n",
    "        return birth_num - 5000, 'female'\n",
    "    elif birth_num // 100 % 100 <= 12:\n",
    "        return birth_num, 'male'\n",
    "    else:\n",
    "        return 'invalid_date', 'unknown'"
   ]
  },
  {
   "cell_type": "code",
   "execution_count": 14,
   "id": "19160ae5-2531-4b8a-aa5d-fcf4c647a813",
   "metadata": {},
   "outputs": [],
   "source": [
    "client_df['birth_date'], client_df['sex'] = zip(*client_df.birth_number.map(check_birth_num))"
   ]
  },
  {
   "cell_type": "code",
   "execution_count": 15,
   "id": "4f5da23c-e794-4a45-a15d-b3e907e3983f",
   "metadata": {},
   "outputs": [],
   "source": [
    "def parse_int_date(date: int):\n",
    "    \"\"\"\n",
    "    Преобразовать дату в виде целого числа в pd.Timestamp.\n",
    "    \"\"\"\n",
    "    year = date // 10_000\n",
    "    month = date % 10_000 // 100\n",
    "    day = date % 10_000 % 100\n",
    "\n",
    "    full_year = 1900 + year if year > 9 else 2000 + year\n",
    "    return pd.to_datetime(f'{full_year}-{month}-{day}')\n",
    "    \n"
   ]
  },
  {
   "cell_type": "code",
   "execution_count": 16,
   "id": "bcecc1ab-f448-49b0-a30a-adae093e27df",
   "metadata": {},
   "outputs": [],
   "source": [
    "client_df['birth_date'] = client_df['birth_date'].map(parse_int_date)"
   ]
  },
  {
   "cell_type": "code",
   "execution_count": 17,
   "id": "f800154d-42a1-4254-b320-cd0712b1999f",
   "metadata": {},
   "outputs": [
    {
     "data": {
      "text/html": [
       "<div>\n",
       "<style scoped>\n",
       "    .dataframe tbody tr th:only-of-type {\n",
       "        vertical-align: middle;\n",
       "    }\n",
       "\n",
       "    .dataframe tbody tr th {\n",
       "        vertical-align: top;\n",
       "    }\n",
       "\n",
       "    .dataframe thead th {\n",
       "        text-align: right;\n",
       "    }\n",
       "</style>\n",
       "<table border=\"1\" class=\"dataframe\">\n",
       "  <thead>\n",
       "    <tr style=\"text-align: right;\">\n",
       "      <th></th>\n",
       "      <th>client_id</th>\n",
       "      <th>birth_number</th>\n",
       "      <th>district_id</th>\n",
       "      <th>birth_date</th>\n",
       "      <th>sex</th>\n",
       "    </tr>\n",
       "  </thead>\n",
       "  <tbody>\n",
       "    <tr>\n",
       "      <th>0</th>\n",
       "      <td>1</td>\n",
       "      <td>706213</td>\n",
       "      <td>18</td>\n",
       "      <td>1970-12-13</td>\n",
       "      <td>female</td>\n",
       "    </tr>\n",
       "    <tr>\n",
       "      <th>1</th>\n",
       "      <td>2</td>\n",
       "      <td>450204</td>\n",
       "      <td>1</td>\n",
       "      <td>1945-02-04</td>\n",
       "      <td>male</td>\n",
       "    </tr>\n",
       "    <tr>\n",
       "      <th>2</th>\n",
       "      <td>3</td>\n",
       "      <td>406009</td>\n",
       "      <td>1</td>\n",
       "      <td>1940-10-09</td>\n",
       "      <td>female</td>\n",
       "    </tr>\n",
       "    <tr>\n",
       "      <th>3</th>\n",
       "      <td>4</td>\n",
       "      <td>561201</td>\n",
       "      <td>5</td>\n",
       "      <td>1956-12-01</td>\n",
       "      <td>male</td>\n",
       "    </tr>\n",
       "    <tr>\n",
       "      <th>4</th>\n",
       "      <td>5</td>\n",
       "      <td>605703</td>\n",
       "      <td>5</td>\n",
       "      <td>1960-07-03</td>\n",
       "      <td>female</td>\n",
       "    </tr>\n",
       "  </tbody>\n",
       "</table>\n",
       "</div>"
      ],
      "text/plain": [
       "   client_id  birth_number  district_id birth_date     sex\n",
       "0          1        706213           18 1970-12-13  female\n",
       "1          2        450204            1 1945-02-04    male\n",
       "2          3        406009            1 1940-10-09  female\n",
       "3          4        561201            5 1956-12-01    male\n",
       "4          5        605703            5 1960-07-03  female"
      ]
     },
     "execution_count": 17,
     "metadata": {},
     "output_type": "execute_result"
    }
   ],
   "source": [
    "client_df.head()"
   ]
  },
  {
   "cell_type": "code",
   "execution_count": 18,
   "id": "1d2ed35c-5408-4ea5-a311-0da4b6dea869",
   "metadata": {},
   "outputs": [
    {
     "name": "stdout",
     "output_type": "stream",
     "text": [
      "client_df is correct.\n"
     ]
    }
   ],
   "source": [
    "# Проверка что нет дат с 50+MM и полом \"не женщина\"\n",
    "# filtered_df это датафрейм где первые две цифры birth_number отличаются если отнять 5000 и пол \"female\"\n",
    "# то есть по ошибке мужчину отметили как женщину\n",
    "\n",
    "filtered_df =  client_df[((client_df.birth_number - 5000) // 10000 != client_df.birth_number // 10000) \\\n",
    "          & (client_df.sex == 'female')]\n",
    "\n",
    "if not filtered_df.empty:\n",
    "    raise ValueError(f'''Wrong rows in client_df!\n",
    "{filtered_df}''')\n",
    "else:\n",
    "    print('client_df is correct.')"
   ]
  },
  {
   "cell_type": "code",
   "execution_count": 19,
   "id": "fb95122b-022b-41b7-a6c0-e96cd305ba76",
   "metadata": {},
   "outputs": [
    {
     "data": {
      "text/plain": [
       "client_id                int64\n",
       "birth_number             int64\n",
       "district_id              int64\n",
       "birth_date      datetime64[ns]\n",
       "sex                     object\n",
       "dtype: object"
      ]
     },
     "execution_count": 19,
     "metadata": {},
     "output_type": "execute_result"
    }
   ],
   "source": [
    "client_df.dtypes"
   ]
  },
  {
   "cell_type": "code",
   "execution_count": 20,
   "id": "75c52655-15ab-4a42-baca-c2e4ac0f889f",
   "metadata": {},
   "outputs": [
    {
     "data": {
      "text/html": [
       "<div>\n",
       "<style scoped>\n",
       "    .dataframe tbody tr th:only-of-type {\n",
       "        vertical-align: middle;\n",
       "    }\n",
       "\n",
       "    .dataframe tbody tr th {\n",
       "        vertical-align: top;\n",
       "    }\n",
       "\n",
       "    .dataframe thead th {\n",
       "        text-align: right;\n",
       "    }\n",
       "</style>\n",
       "<table border=\"1\" class=\"dataframe\">\n",
       "  <thead>\n",
       "    <tr style=\"text-align: right;\">\n",
       "      <th></th>\n",
       "      <th>client_id</th>\n",
       "      <th>district_id</th>\n",
       "      <th>birth_date</th>\n",
       "      <th>sex</th>\n",
       "    </tr>\n",
       "  </thead>\n",
       "  <tbody>\n",
       "    <tr>\n",
       "      <th>0</th>\n",
       "      <td>1</td>\n",
       "      <td>18</td>\n",
       "      <td>1970-12-13</td>\n",
       "      <td>female</td>\n",
       "    </tr>\n",
       "    <tr>\n",
       "      <th>1</th>\n",
       "      <td>2</td>\n",
       "      <td>1</td>\n",
       "      <td>1945-02-04</td>\n",
       "      <td>male</td>\n",
       "    </tr>\n",
       "  </tbody>\n",
       "</table>\n",
       "</div>"
      ],
      "text/plain": [
       "   client_id  district_id birth_date     sex\n",
       "0          1           18 1970-12-13  female\n",
       "1          2            1 1945-02-04    male"
      ]
     },
     "execution_count": 20,
     "metadata": {},
     "output_type": "execute_result"
    }
   ],
   "source": [
    "client_df = client_df.drop(columns='birth_number')\n",
    "client_df.head(2)"
   ]
  },
  {
   "cell_type": "code",
   "execution_count": 21,
   "id": "faefcbeb-b136-4f5b-8848-81a364aae907",
   "metadata": {},
   "outputs": [
    {
     "name": "stdout",
     "output_type": "stream",
     "text": [
      "rows count is equal.\n",
      "But changes were made to columns\n",
      "initial columns shape is: 3\n",
      "current columns shape is: 4\n"
     ]
    }
   ],
   "source": [
    "# Проверка целостности client_df по строкам после изменений\n",
    "check_df_integrity(client_initial_shape, client_df, 'client_df', 0)"
   ]
  },
  {
   "cell_type": "code",
   "execution_count": 22,
   "id": "aba947f3",
   "metadata": {},
   "outputs": [],
   "source": [
    "client_df.to_csv(data_paths[\"cleaned\"][\"clients\"], index=False)"
   ]
  },
  {
   "cell_type": "markdown",
   "id": "29df0818-971c-40c6-9c50-9944c5245b78",
   "metadata": {},
   "source": [
    "# Таблица Demographic data (District)\n",
    "- из имеющихся колонок возьмем только `district code`, `district name`, `no. of inhabitants`  \n",
    "  \n",
    "  \n",
    "| item             | meaning                                          | remark |\n",
    "| ---------------- | ------------------------------------------------ | ------ |\n",
    "| A1 = district_id | district code                                    |        |\n",
    "| A2               | district name                                    |        |\n",
    "| A3               | region                                           |        |\n",
    "| A4               | no. of inhabitants                               |        |\n",
    "| A5               | no. of municipalities with inhabitants < 499     |        |\n",
    "| A6               | no. of municipalities with inhabitants 500-1999  |        |\n",
    "| A7               | no. of municipalities with inhabitants 2000-9999 |        |\n",
    "| A8               | no. of municipalities with inhabitants >10000    |        |\n",
    "| A9               | no. of cities                                    |        |\n",
    "| A10              | ratio of urban inhabitants                       |        |\n",
    "| A11              | average salary                                   |        |\n",
    "| A12              | unemploymant rate '95                            |        |\n",
    "| A13              | unemploymant rate '96                            |        |\n",
    "| A14              | no. of enterpreneurs per 1000 inhabitants        |        |\n",
    "| A15              | no. of commited crimes '95                       |        |\n",
    "| A16              | no. of commited crimes '96                       |        |\n",
    "\n"
   ]
  },
  {
   "cell_type": "code",
   "execution_count": 24,
   "id": "b888a856-56d6-4bc8-bf07-bb5f116a1e63",
   "metadata": {},
   "outputs": [],
   "source": [
    "district_df = pd.read_csv(data_paths[\"raw\"][\"district\"], sep=';')"
   ]
  },
  {
   "cell_type": "code",
   "execution_count": 25,
   "id": "5d2570dc-1655-437b-830c-b527c1c31b5e",
   "metadata": {},
   "outputs": [
    {
     "data": {
      "text/plain": [
       "(77, 16)"
      ]
     },
     "execution_count": 25,
     "metadata": {},
     "output_type": "execute_result"
    }
   ],
   "source": [
    "district_initial_shape = district_df.shape\n",
    "district_initial_shape"
   ]
  },
  {
   "cell_type": "code",
   "execution_count": 30,
   "id": "9ae3a8e3-8c53-4048-bd04-eeda3d07dca5",
   "metadata": {},
   "outputs": [
    {
     "data": {
      "text/html": [
       "<div>\n",
       "<style scoped>\n",
       "    .dataframe tbody tr th:only-of-type {\n",
       "        vertical-align: middle;\n",
       "    }\n",
       "\n",
       "    .dataframe tbody tr th {\n",
       "        vertical-align: top;\n",
       "    }\n",
       "\n",
       "    .dataframe thead th {\n",
       "        text-align: right;\n",
       "    }\n",
       "</style>\n",
       "<table border=\"1\" class=\"dataframe\">\n",
       "  <thead>\n",
       "    <tr style=\"text-align: right;\">\n",
       "      <th></th>\n",
       "      <th>A1</th>\n",
       "      <th>A2</th>\n",
       "      <th>A3</th>\n",
       "      <th>A4</th>\n",
       "      <th>A5</th>\n",
       "      <th>A6</th>\n",
       "      <th>A7</th>\n",
       "      <th>A8</th>\n",
       "      <th>A9</th>\n",
       "      <th>A10</th>\n",
       "      <th>A11</th>\n",
       "      <th>A12</th>\n",
       "      <th>A13</th>\n",
       "      <th>A14</th>\n",
       "      <th>A15</th>\n",
       "      <th>A16</th>\n",
       "    </tr>\n",
       "  </thead>\n",
       "  <tbody>\n",
       "    <tr>\n",
       "      <th>0</th>\n",
       "      <td>1</td>\n",
       "      <td>Hl.m. Praha</td>\n",
       "      <td>Prague</td>\n",
       "      <td>1204953</td>\n",
       "      <td>0</td>\n",
       "      <td>0</td>\n",
       "      <td>0</td>\n",
       "      <td>1</td>\n",
       "      <td>1</td>\n",
       "      <td>100.0</td>\n",
       "      <td>12541</td>\n",
       "      <td>0.29</td>\n",
       "      <td>0.43</td>\n",
       "      <td>167</td>\n",
       "      <td>85677</td>\n",
       "      <td>99107</td>\n",
       "    </tr>\n",
       "    <tr>\n",
       "      <th>1</th>\n",
       "      <td>2</td>\n",
       "      <td>Benesov</td>\n",
       "      <td>central Bohemia</td>\n",
       "      <td>88884</td>\n",
       "      <td>80</td>\n",
       "      <td>26</td>\n",
       "      <td>6</td>\n",
       "      <td>2</td>\n",
       "      <td>5</td>\n",
       "      <td>46.7</td>\n",
       "      <td>8507</td>\n",
       "      <td>1.67</td>\n",
       "      <td>1.85</td>\n",
       "      <td>132</td>\n",
       "      <td>2159</td>\n",
       "      <td>2674</td>\n",
       "    </tr>\n",
       "    <tr>\n",
       "      <th>2</th>\n",
       "      <td>3</td>\n",
       "      <td>Beroun</td>\n",
       "      <td>central Bohemia</td>\n",
       "      <td>75232</td>\n",
       "      <td>55</td>\n",
       "      <td>26</td>\n",
       "      <td>4</td>\n",
       "      <td>1</td>\n",
       "      <td>5</td>\n",
       "      <td>41.7</td>\n",
       "      <td>8980</td>\n",
       "      <td>1.95</td>\n",
       "      <td>2.21</td>\n",
       "      <td>111</td>\n",
       "      <td>2824</td>\n",
       "      <td>2813</td>\n",
       "    </tr>\n",
       "  </tbody>\n",
       "</table>\n",
       "</div>"
      ],
      "text/plain": [
       "   A1           A2               A3       A4  A5  A6  A7  A8  A9    A10  \\\n",
       "0   1  Hl.m. Praha           Prague  1204953   0   0   0   1   1  100.0   \n",
       "1   2      Benesov  central Bohemia    88884  80  26   6   2   5   46.7   \n",
       "2   3       Beroun  central Bohemia    75232  55  26   4   1   5   41.7   \n",
       "\n",
       "     A11   A12   A13  A14    A15    A16  \n",
       "0  12541  0.29  0.43  167  85677  99107  \n",
       "1   8507  1.67  1.85  132   2159   2674  \n",
       "2   8980  1.95  2.21  111   2824   2813  "
      ]
     },
     "execution_count": 30,
     "metadata": {},
     "output_type": "execute_result"
    }
   ],
   "source": [
    "district_df.head(3)"
   ]
  },
  {
   "cell_type": "code",
   "execution_count": 27,
   "id": "0dd852a1-6d4b-4df5-a954-81a729162548",
   "metadata": {},
   "outputs": [],
   "source": [
    "# строка со значениями колонок по порядку\n",
    "\n",
    "district_col_raw = ''' district code |\n",
    "| district name |\n",
    "| region |\n",
    "| population |\n",
    "| no_of_mun_below_500     |\n",
    "| no of mun_between_500_1999  |\n",
    "| no of mun_between_2000_9999 |\n",
    "| no of mun_above_10000    |\n",
    "| no. of cities |\n",
    "| ratio of urban population |\n",
    "| avg_salary |\n",
    "| unemployment rate '95 |\n",
    "| unemployment rate '96 |\n",
    "| enterpreneurs per_1000 |\n",
    "| crimes num '95 |\n",
    "| crimes num '96 '''"
   ]
  },
  {
   "cell_type": "code",
   "execution_count": 28,
   "id": "2cc1a88c-bbca-4e90-be5c-a453b52acb05",
   "metadata": {},
   "outputs": [],
   "source": [
    "# разбиваем строку по символу |\n",
    "district_col_split = district_col_raw.split('|')"
   ]
  },
  {
   "cell_type": "code",
   "execution_count": 29,
   "id": "c174ab9b-0956-4642-87e6-500e1b99a6a9",
   "metadata": {},
   "outputs": [
    {
     "data": {
      "text/plain": [
       "[' district code ',\n",
       " '\\n',\n",
       " ' district name ',\n",
       " '\\n',\n",
       " ' region ',\n",
       " '\\n',\n",
       " ' population ',\n",
       " '\\n',\n",
       " ' no_of_mun_below_500     ',\n",
       " '\\n',\n",
       " ' no of mun_between_500_1999  ',\n",
       " '\\n',\n",
       " ' no of mun_between_2000_9999 ',\n",
       " '\\n',\n",
       " ' no of mun_above_10000    ',\n",
       " '\\n',\n",
       " ' no. of cities ',\n",
       " '\\n',\n",
       " ' ratio of urban population ',\n",
       " '\\n',\n",
       " ' avg_salary ',\n",
       " '\\n',\n",
       " \" unemployment rate '95 \",\n",
       " '\\n',\n",
       " \" unemployment rate '96 \",\n",
       " '\\n',\n",
       " ' enterpreneurs per_1000 ',\n",
       " '\\n',\n",
       " \" crimes num '95 \",\n",
       " '\\n',\n",
       " \" crimes num '96 \"]"
      ]
     },
     "execution_count": 29,
     "metadata": {},
     "output_type": "execute_result"
    }
   ],
   "source": [
    "district_col_split"
   ]
  },
  {
   "cell_type": "code",
   "execution_count": 31,
   "id": "77b50d38-c0f9-4132-9710-219a57219d75",
   "metadata": {},
   "outputs": [
    {
     "data": {
      "text/plain": [
       "0                   district_code\n",
       "1                   district_name\n",
       "2                          region\n",
       "3                      population\n",
       "4             no_of_mun_below_500\n",
       "5      no_of_mun_between_500_1999\n",
       "6     no_of_mun_between_2000_9999\n",
       "7           no_of_mun_above_10000\n",
       "8                    no_of_cities\n",
       "9       ratio_of_urban_population\n",
       "10                     avg_salary\n",
       "11           unemployment_rate_95\n",
       "12           unemployment_rate_96\n",
       "13         enterpreneurs_per_1000\n",
       "14                  crimes_num_95\n",
       "15                  crimes_num_96\n",
       "dtype: object"
      ]
     },
     "execution_count": 31,
     "metadata": {},
     "output_type": "execute_result"
    }
   ],
   "source": [
    "# убираем пробелы с начала и конца каждой строки\n",
    "# меняем пробелы на _\n",
    "# удаляем апострофы\n",
    "# удаляем точки\n",
    "\n",
    "dist_col_series = pd.Series(district_col_split).str.strip() \\\n",
    ".str.replace(' ','_') \\\n",
    ".str.replace('\\'', '') \\\n",
    ".str.replace('.', '')\n",
    "\n",
    "# Фильтруем серию, чтобы избавиться от пустых строк. Сбрасываем индекс\n",
    "dist_col_clean = dist_col_series[dist_col_series != ''].reset_index(drop=True)\n",
    "dist_col_clean"
   ]
  },
  {
   "cell_type": "code",
   "execution_count": 33,
   "id": "b54242b2-0282-42e8-bd6d-8b99b0706aa4",
   "metadata": {},
   "outputs": [
    {
     "data": {
      "text/html": [
       "<div>\n",
       "<style scoped>\n",
       "    .dataframe tbody tr th:only-of-type {\n",
       "        vertical-align: middle;\n",
       "    }\n",
       "\n",
       "    .dataframe tbody tr th {\n",
       "        vertical-align: top;\n",
       "    }\n",
       "\n",
       "    .dataframe thead th {\n",
       "        text-align: right;\n",
       "    }\n",
       "</style>\n",
       "<table border=\"1\" class=\"dataframe\">\n",
       "  <thead>\n",
       "    <tr style=\"text-align: right;\">\n",
       "      <th></th>\n",
       "      <th>district_code</th>\n",
       "      <th>district_name</th>\n",
       "      <th>region</th>\n",
       "      <th>population</th>\n",
       "      <th>no_of_mun_below_500</th>\n",
       "      <th>no_of_mun_between_500_1999</th>\n",
       "      <th>no_of_mun_between_2000_9999</th>\n",
       "      <th>no_of_mun_above_10000</th>\n",
       "      <th>no_of_cities</th>\n",
       "      <th>ratio_of_urban_population</th>\n",
       "      <th>avg_salary</th>\n",
       "      <th>unemployment_rate_95</th>\n",
       "      <th>unemployment_rate_96</th>\n",
       "      <th>enterpreneurs_per_1000</th>\n",
       "      <th>crimes_num_95</th>\n",
       "      <th>crimes_num_96</th>\n",
       "    </tr>\n",
       "  </thead>\n",
       "  <tbody>\n",
       "    <tr>\n",
       "      <th>0</th>\n",
       "      <td>1</td>\n",
       "      <td>Hl.m. Praha</td>\n",
       "      <td>Prague</td>\n",
       "      <td>1204953</td>\n",
       "      <td>0</td>\n",
       "      <td>0</td>\n",
       "      <td>0</td>\n",
       "      <td>1</td>\n",
       "      <td>1</td>\n",
       "      <td>100.0</td>\n",
       "      <td>12541</td>\n",
       "      <td>0.29</td>\n",
       "      <td>0.43</td>\n",
       "      <td>167</td>\n",
       "      <td>85677</td>\n",
       "      <td>99107</td>\n",
       "    </tr>\n",
       "    <tr>\n",
       "      <th>1</th>\n",
       "      <td>2</td>\n",
       "      <td>Benesov</td>\n",
       "      <td>central Bohemia</td>\n",
       "      <td>88884</td>\n",
       "      <td>80</td>\n",
       "      <td>26</td>\n",
       "      <td>6</td>\n",
       "      <td>2</td>\n",
       "      <td>5</td>\n",
       "      <td>46.7</td>\n",
       "      <td>8507</td>\n",
       "      <td>1.67</td>\n",
       "      <td>1.85</td>\n",
       "      <td>132</td>\n",
       "      <td>2159</td>\n",
       "      <td>2674</td>\n",
       "    </tr>\n",
       "    <tr>\n",
       "      <th>2</th>\n",
       "      <td>3</td>\n",
       "      <td>Beroun</td>\n",
       "      <td>central Bohemia</td>\n",
       "      <td>75232</td>\n",
       "      <td>55</td>\n",
       "      <td>26</td>\n",
       "      <td>4</td>\n",
       "      <td>1</td>\n",
       "      <td>5</td>\n",
       "      <td>41.7</td>\n",
       "      <td>8980</td>\n",
       "      <td>1.95</td>\n",
       "      <td>2.21</td>\n",
       "      <td>111</td>\n",
       "      <td>2824</td>\n",
       "      <td>2813</td>\n",
       "    </tr>\n",
       "  </tbody>\n",
       "</table>\n",
       "</div>"
      ],
      "text/plain": [
       "   district_code district_name           region  population  \\\n",
       "0              1   Hl.m. Praha           Prague     1204953   \n",
       "1              2       Benesov  central Bohemia       88884   \n",
       "2              3        Beroun  central Bohemia       75232   \n",
       "\n",
       "   no_of_mun_below_500  no_of_mun_between_500_1999  \\\n",
       "0                    0                           0   \n",
       "1                   80                          26   \n",
       "2                   55                          26   \n",
       "\n",
       "   no_of_mun_between_2000_9999  no_of_mun_above_10000  no_of_cities  \\\n",
       "0                            0                      1             1   \n",
       "1                            6                      2             5   \n",
       "2                            4                      1             5   \n",
       "\n",
       "   ratio_of_urban_population  avg_salary unemployment_rate_95  \\\n",
       "0                      100.0       12541                 0.29   \n",
       "1                       46.7        8507                 1.67   \n",
       "2                       41.7        8980                 1.95   \n",
       "\n",
       "   unemployment_rate_96  enterpreneurs_per_1000 crimes_num_95  crimes_num_96  \n",
       "0                  0.43                     167         85677          99107  \n",
       "1                  1.85                     132          2159           2674  \n",
       "2                  2.21                     111          2824           2813  "
      ]
     },
     "execution_count": 33,
     "metadata": {},
     "output_type": "execute_result"
    }
   ],
   "source": [
    "# назначаем district_df очищенные названия колонок\n",
    "\n",
    "district_df.columns = dist_col_clean\n",
    "district_df.head(3)"
   ]
  },
  {
   "cell_type": "code",
   "execution_count": 35,
   "id": "7cdbf1ce-c642-4166-a6b9-97a53ae4630c",
   "metadata": {
    "scrolled": true
   },
   "outputs": [
    {
     "data": {
      "text/html": [
       "<div>\n",
       "<style scoped>\n",
       "    .dataframe tbody tr th:only-of-type {\n",
       "        vertical-align: middle;\n",
       "    }\n",
       "\n",
       "    .dataframe tbody tr th {\n",
       "        vertical-align: top;\n",
       "    }\n",
       "\n",
       "    .dataframe thead th {\n",
       "        text-align: right;\n",
       "    }\n",
       "</style>\n",
       "<table border=\"1\" class=\"dataframe\">\n",
       "  <thead>\n",
       "    <tr style=\"text-align: right;\">\n",
       "      <th></th>\n",
       "      <th>district_code</th>\n",
       "      <th>district_name</th>\n",
       "      <th>population</th>\n",
       "    </tr>\n",
       "  </thead>\n",
       "  <tbody>\n",
       "    <tr>\n",
       "      <th>0</th>\n",
       "      <td>1</td>\n",
       "      <td>Hl.m. Praha</td>\n",
       "      <td>1204953</td>\n",
       "    </tr>\n",
       "    <tr>\n",
       "      <th>1</th>\n",
       "      <td>2</td>\n",
       "      <td>Benesov</td>\n",
       "      <td>88884</td>\n",
       "    </tr>\n",
       "  </tbody>\n",
       "</table>\n",
       "</div>"
      ],
      "text/plain": [
       "   district_code district_name  population\n",
       "0              1   Hl.m. Praha     1204953\n",
       "1              2       Benesov       88884"
      ]
     },
     "execution_count": 35,
     "metadata": {},
     "output_type": "execute_result"
    }
   ],
   "source": [
    "# Оставляем только нужные колонки\n",
    "\n",
    "district_df = district_df.loc[:, ['district_code', 'district_name', 'population']]\n",
    "district_df.head(2)"
   ]
  },
  {
   "cell_type": "code",
   "execution_count": 36,
   "id": "cf105edc-7470-406b-b757-02a434055df2",
   "metadata": {},
   "outputs": [
    {
     "data": {
      "text/plain": [
       "district_code    0\n",
       "district_name    0\n",
       "population       0\n",
       "dtype: int64"
      ]
     },
     "execution_count": 36,
     "metadata": {},
     "output_type": "execute_result"
    }
   ],
   "source": [
    "district_df.isna().sum()"
   ]
  },
  {
   "cell_type": "code",
   "execution_count": 37,
   "id": "87d87118",
   "metadata": {},
   "outputs": [],
   "source": [
    "district_df.to_csv(data_paths[\"cleaned\"][\"districts\"])"
   ]
  }
 ],
 "metadata": {
  "kernelspec": {
   "display_name": "Python (poetry-env)",
   "language": "python",
   "name": "poetry-env"
  },
  "language_info": {
   "codemirror_mode": {
    "name": "ipython",
    "version": 3
   },
   "file_extension": ".py",
   "mimetype": "text/x-python",
   "name": "python",
   "nbconvert_exporter": "python",
   "pygments_lexer": "ipython3",
   "version": "3.13.2"
  }
 },
 "nbformat": 4,
 "nbformat_minor": 5
}
