{
 "cells": [
  {
   "cell_type": "markdown",
   "id": "e57789c0-9887-43bd-8b33-d1cc6a58cf31",
   "metadata": {},
   "source": [
    "# **Генерация географических данных**\n",
    "- **ноутбуки лучше просматривать** на Github pages, т.к. при просмотре прямо в репозитории могут быть проблемы с отображением, например, обрезка вывода с широкими датафреймами. **Если в адресной строке браузера есть** `iaroslav-dzh.github.io`, то вы уже на Github pages.  \n",
    "Ссылки:\n",
    "    -  **[Ссылка](https://iaroslav-dzh.github.io/fraud_txns_simulator/notebooks/02_%D0%93%D0%B5%D0%BD%D0%B5%D1%80%D0%B0%D1%86%D0%B8%D1%8F_%D0%B3%D0%B5%D0%BE_%D0%B4%D0%B0%D0%BD%D0%BD%D1%8B%D1%85.html)** на этот ноутбук\n",
    "    -  **[Ссылка](https://iaroslav-dzh.github.io/fraud_txns_simulator/02_Страница_генератора_транзакций.html)** на страницу генератора где есть все ноутбуки  \n",
    "\n",
    "**Информация о ноутбуке**\n",
    "- загрузка геоданных российских городов и добавление их к данным клиентов\n",
    "- замена чешских районов на российские города\n",
    "- создание функции генерации случайных координат внутри городоа"
   ]
  },
  {
   "cell_type": "code",
   "execution_count": null,
   "id": "c30e67d7-4a3c-4d29-9477-ab02b02e86fc",
   "metadata": {},
   "outputs": [],
   "source": [
    "import pandas as pd\n",
    "import numpy as np\n",
    "import matplotlib.pyplot as plt\n",
    "import seaborn as sns\n",
    "import os\n",
    "import re\n",
    "import geopandas as gpd\n",
    "from shapely.geometry import Point, Polygon\n",
    "import random\n",
    "import pyarrow\n",
    "from data_generator.utils import load_configs"
   ]
  },
  {
   "cell_type": "code",
   "execution_count": 2,
   "id": "6c6c9867-8d32-4b4d-9923-2b2f5711bfc8",
   "metadata": {},
   "outputs": [],
   "source": [
    "np.set_printoptions(suppress=True)\n",
    "pd.set_option('display.max_columns', None)"
   ]
  },
  {
   "cell_type": "code",
   "execution_count": 3,
   "id": "71fc90ba-44d1-4bc6-b2a3-edda53a9123b",
   "metadata": {},
   "outputs": [
    {
     "data": {
      "text/plain": [
       "'c:\\\\Users\\\\iaros\\\\My_documents\\\\Education\\\\projects\\\\fraud_detection_01'"
      ]
     },
     "execution_count": 3,
     "metadata": {},
     "output_type": "execute_result"
    }
   ],
   "source": [
    "os.chdir(\"..\")\n",
    "os.getcwd()"
   ]
  },
  {
   "cell_type": "code",
   "execution_count": 5,
   "id": "b3c5976f",
   "metadata": {},
   "outputs": [],
   "source": [
    "# Загрузка базовых конфигов\n",
    "base_cfg = load_configs(\"./config/base.yaml\")\n",
    "\n",
    "# Пути к файлам\n",
    "data_paths = base_cfg[\"data_paths\"]"
   ]
  },
  {
   "cell_type": "code",
   "execution_count": 6,
   "id": "bbfceaca-a495-446e-8f7c-b7f3aac20cab",
   "metadata": {},
   "outputs": [],
   "source": [
    "clients = pd.read_csv(data_paths[\"cleaned\"][\"clients\"])\n",
    "district = pd.read_csv(data_paths[\"cleaned\"][\"districts\"])"
   ]
  },
  {
   "cell_type": "code",
   "execution_count": 7,
   "id": "663c4a4c-6f47-4266-b05c-05d13caafc2e",
   "metadata": {},
   "outputs": [
    {
     "name": "stdout",
     "output_type": "stream",
     "text": [
      "(77, 16)\n"
     ]
    },
    {
     "data": {
      "text/html": [
       "<div>\n",
       "<style scoped>\n",
       "    .dataframe tbody tr th:only-of-type {\n",
       "        vertical-align: middle;\n",
       "    }\n",
       "\n",
       "    .dataframe tbody tr th {\n",
       "        vertical-align: top;\n",
       "    }\n",
       "\n",
       "    .dataframe thead th {\n",
       "        text-align: right;\n",
       "    }\n",
       "</style>\n",
       "<table border=\"1\" class=\"dataframe\">\n",
       "  <thead>\n",
       "    <tr style=\"text-align: right;\">\n",
       "      <th></th>\n",
       "      <th>district_code</th>\n",
       "      <th>district_name</th>\n",
       "      <th>region</th>\n",
       "      <th>population</th>\n",
       "      <th>no_of_mun_below_500</th>\n",
       "      <th>no_of_mun_between_500_1999</th>\n",
       "      <th>no_of_mun_between_2000_9999</th>\n",
       "      <th>no_of_mun_above_10000</th>\n",
       "      <th>no_of_cities</th>\n",
       "      <th>ratio_of_urban_population</th>\n",
       "      <th>avg_salary</th>\n",
       "      <th>unemployment_rate_95</th>\n",
       "      <th>unemployment_rate_96</th>\n",
       "      <th>enterpreneurs_per_1000</th>\n",
       "      <th>crimes_num_95</th>\n",
       "      <th>crimes_num_96</th>\n",
       "    </tr>\n",
       "  </thead>\n",
       "  <tbody>\n",
       "    <tr>\n",
       "      <th>0</th>\n",
       "      <td>1</td>\n",
       "      <td>Hl.m. Praha</td>\n",
       "      <td>Prague</td>\n",
       "      <td>1204953</td>\n",
       "      <td>0</td>\n",
       "      <td>0</td>\n",
       "      <td>0</td>\n",
       "      <td>1</td>\n",
       "      <td>1</td>\n",
       "      <td>100.0</td>\n",
       "      <td>12541</td>\n",
       "      <td>0.29</td>\n",
       "      <td>0.43</td>\n",
       "      <td>167</td>\n",
       "      <td>85677.0</td>\n",
       "      <td>99107</td>\n",
       "    </tr>\n",
       "  </tbody>\n",
       "</table>\n",
       "</div>"
      ],
      "text/plain": [
       "   district_code district_name  region  population  no_of_mun_below_500  \\\n",
       "0              1   Hl.m. Praha  Prague     1204953                    0   \n",
       "\n",
       "   no_of_mun_between_500_1999  no_of_mun_between_2000_9999  \\\n",
       "0                           0                            0   \n",
       "\n",
       "   no_of_mun_above_10000  no_of_cities  ratio_of_urban_population  avg_salary  \\\n",
       "0                      1             1                      100.0       12541   \n",
       "\n",
       "   unemployment_rate_95  unemployment_rate_96  enterpreneurs_per_1000  \\\n",
       "0                  0.29                  0.43                     167   \n",
       "\n",
       "   crimes_num_95  crimes_num_96  \n",
       "0        85677.0          99107  "
      ]
     },
     "execution_count": 7,
     "metadata": {},
     "output_type": "execute_result"
    }
   ],
   "source": [
    "print(district.shape)\n",
    "district.head(1)"
   ]
  },
  {
   "cell_type": "code",
   "execution_count": 8,
   "id": "78f9610f-a80b-4518-b26d-8a6e7db77522",
   "metadata": {},
   "outputs": [
    {
     "data": {
      "text/html": [
       "<div>\n",
       "<style scoped>\n",
       "    .dataframe tbody tr th:only-of-type {\n",
       "        vertical-align: middle;\n",
       "    }\n",
       "\n",
       "    .dataframe tbody tr th {\n",
       "        vertical-align: top;\n",
       "    }\n",
       "\n",
       "    .dataframe thead th {\n",
       "        text-align: right;\n",
       "    }\n",
       "</style>\n",
       "<table border=\"1\" class=\"dataframe\">\n",
       "  <thead>\n",
       "    <tr style=\"text-align: right;\">\n",
       "      <th></th>\n",
       "      <th>district_code</th>\n",
       "      <th>district_name</th>\n",
       "      <th>region</th>\n",
       "      <th>population</th>\n",
       "    </tr>\n",
       "  </thead>\n",
       "  <tbody>\n",
       "    <tr>\n",
       "      <th>0</th>\n",
       "      <td>1</td>\n",
       "      <td>Hl.m. Praha</td>\n",
       "      <td>Prague</td>\n",
       "      <td>1204953</td>\n",
       "    </tr>\n",
       "    <tr>\n",
       "      <th>1</th>\n",
       "      <td>54</td>\n",
       "      <td>Brno - mesto</td>\n",
       "      <td>south Moravia</td>\n",
       "      <td>387570</td>\n",
       "    </tr>\n",
       "    <tr>\n",
       "      <th>2</th>\n",
       "      <td>74</td>\n",
       "      <td>Ostrava - mesto</td>\n",
       "      <td>north Moravia</td>\n",
       "      <td>323870</td>\n",
       "    </tr>\n",
       "    <tr>\n",
       "      <th>3</th>\n",
       "      <td>70</td>\n",
       "      <td>Karvina</td>\n",
       "      <td>north Moravia</td>\n",
       "      <td>285387</td>\n",
       "    </tr>\n",
       "    <tr>\n",
       "      <th>4</th>\n",
       "      <td>68</td>\n",
       "      <td>Frydek - Mistek</td>\n",
       "      <td>north Moravia</td>\n",
       "      <td>228848</td>\n",
       "    </tr>\n",
       "  </tbody>\n",
       "</table>\n",
       "</div>"
      ],
      "text/plain": [
       "   district_code    district_name         region  population\n",
       "0              1      Hl.m. Praha         Prague     1204953\n",
       "1             54     Brno - mesto  south Moravia      387570\n",
       "2             74  Ostrava - mesto  north Moravia      323870\n",
       "3             70          Karvina  north Moravia      285387\n",
       "4             68  Frydek - Mistek  north Moravia      228848"
      ]
     },
     "execution_count": 8,
     "metadata": {},
     "output_type": "execute_result"
    }
   ],
   "source": [
    "district_short = district[[\"district_code\",\"district_name\", \"region\", \"population\"]].sort_values(\"population\", ascending=False).reset_index(drop=True)\n",
    "district_short.head()"
   ]
  },
  {
   "cell_type": "code",
   "execution_count": 9,
   "id": "8816f20a-2be6-44e9-9feb-fa2d24577402",
   "metadata": {},
   "outputs": [],
   "source": [
    "# посчитаем клиентов по районам. Это нужно для дальнейшей замены чешских районов\n",
    "\n",
    "clients_by_dist = clients.groupby(\"district_id\", as_index=False).agg({\"client_id\":\"count\"}) \\\n",
    "                        .rename(columns={\"client_id\":\"clients\"})"
   ]
  },
  {
   "cell_type": "code",
   "execution_count": 10,
   "id": "620cc02d-ff35-4683-86f7-742673c4962a",
   "metadata": {},
   "outputs": [
    {
     "name": "stdout",
     "output_type": "stream",
     "text": [
      "(77, 6)\n"
     ]
    },
    {
     "data": {
      "text/html": [
       "<div>\n",
       "<style scoped>\n",
       "    .dataframe tbody tr th:only-of-type {\n",
       "        vertical-align: middle;\n",
       "    }\n",
       "\n",
       "    .dataframe tbody tr th {\n",
       "        vertical-align: top;\n",
       "    }\n",
       "\n",
       "    .dataframe thead th {\n",
       "        text-align: right;\n",
       "    }\n",
       "</style>\n",
       "<table border=\"1\" class=\"dataframe\">\n",
       "  <thead>\n",
       "    <tr style=\"text-align: right;\">\n",
       "      <th></th>\n",
       "      <th>district_code</th>\n",
       "      <th>district_name</th>\n",
       "      <th>region</th>\n",
       "      <th>population</th>\n",
       "      <th>district_id</th>\n",
       "      <th>clients</th>\n",
       "    </tr>\n",
       "  </thead>\n",
       "  <tbody>\n",
       "    <tr>\n",
       "      <th>0</th>\n",
       "      <td>1</td>\n",
       "      <td>Hl.m. Praha</td>\n",
       "      <td>Prague</td>\n",
       "      <td>1204953</td>\n",
       "      <td>1</td>\n",
       "      <td>663</td>\n",
       "    </tr>\n",
       "    <tr>\n",
       "      <th>1</th>\n",
       "      <td>54</td>\n",
       "      <td>Brno - mesto</td>\n",
       "      <td>south Moravia</td>\n",
       "      <td>387570</td>\n",
       "      <td>54</td>\n",
       "      <td>155</td>\n",
       "    </tr>\n",
       "    <tr>\n",
       "      <th>2</th>\n",
       "      <td>74</td>\n",
       "      <td>Ostrava - mesto</td>\n",
       "      <td>north Moravia</td>\n",
       "      <td>323870</td>\n",
       "      <td>74</td>\n",
       "      <td>180</td>\n",
       "    </tr>\n",
       "    <tr>\n",
       "      <th>3</th>\n",
       "      <td>70</td>\n",
       "      <td>Karvina</td>\n",
       "      <td>north Moravia</td>\n",
       "      <td>285387</td>\n",
       "      <td>70</td>\n",
       "      <td>169</td>\n",
       "    </tr>\n",
       "    <tr>\n",
       "      <th>4</th>\n",
       "      <td>68</td>\n",
       "      <td>Frydek - Mistek</td>\n",
       "      <td>north Moravia</td>\n",
       "      <td>228848</td>\n",
       "      <td>68</td>\n",
       "      <td>86</td>\n",
       "    </tr>\n",
       "  </tbody>\n",
       "</table>\n",
       "</div>"
      ],
      "text/plain": [
       "   district_code    district_name         region  population  district_id  \\\n",
       "0              1      Hl.m. Praha         Prague     1204953            1   \n",
       "1             54     Brno - mesto  south Moravia      387570           54   \n",
       "2             74  Ostrava - mesto  north Moravia      323870           74   \n",
       "3             70          Karvina  north Moravia      285387           70   \n",
       "4             68  Frydek - Mistek  north Moravia      228848           68   \n",
       "\n",
       "   clients  \n",
       "0      663  \n",
       "1      155  \n",
       "2      180  \n",
       "3      169  \n",
       "4       86  "
      ]
     },
     "execution_count": 10,
     "metadata": {},
     "output_type": "execute_result"
    }
   ],
   "source": [
    "# соединим district_short и clieints_by_dist чтобы отсортировать районы по количеству клиентов в дальнейшем\n",
    "\n",
    "district_short = district_short.merge(clients_by_dist, left_on=\"district_code\", right_on=\"district_id\")\n",
    "print(district_short.shape)\n",
    "district_short.head()"
   ]
  },
  {
   "cell_type": "markdown",
   "id": "157ae04a-2c3c-4444-945f-48321d49b5fa",
   "metadata": {},
   "source": [
    "# **Замена чешских районов на российские города**\n",
    "С целью чтобы упростить в дальнейшем процесс реалистичной генерации координат транзакций клиентов, я решил заменить чешские районы на российские города.\n",
    "Далее мы проверим насколько схожи профиля городов России и районов Чехии. Но сильное сходство нам не нужно"
   ]
  },
  {
   "cell_type": "markdown",
   "id": "cc5eaaae-2244-4019-97c6-9ef9fcfef1d7",
   "metadata": {},
   "source": [
    "<br>"
   ]
  },
  {
   "cell_type": "markdown",
   "id": "dd2df005-978b-42d3-8104-505a1cd52b42",
   "metadata": {},
   "source": [
    "## 1. Загрузка российских городов. Очистка данных"
   ]
  },
  {
   "cell_type": "code",
   "execution_count": 9,
   "id": "d7f98930-5d14-4821-a461-56a00c14296a",
   "metadata": {},
   "outputs": [],
   "source": [
    "# список российских городов с населением и другой информацией\n",
    "# \"https://gist.githubusercontent.com/dnovik/694d106be3ff20eb0c73a0511c83b7f3/raw/056b7ece3b762723c02d3809ef77e2ae92a2bcd0/cities.csv\""
   ]
  },
  {
   "cell_type": "code",
   "execution_count": 11,
   "id": "0e0dfc71-df37-4165-aa2c-b3895481df9c",
   "metadata": {},
   "outputs": [],
   "source": [
    "russian_cities = pd.read_csv(r\"./data/raw/russian_cities.csv\")"
   ]
  },
  {
   "cell_type": "code",
   "execution_count": 12,
   "id": "5f6c969e-89be-466d-9e6e-df89725b71bf",
   "metadata": {},
   "outputs": [
    {
     "data": {
      "text/html": [
       "<div>\n",
       "<style scoped>\n",
       "    .dataframe tbody tr th:only-of-type {\n",
       "        vertical-align: middle;\n",
       "    }\n",
       "\n",
       "    .dataframe tbody tr th {\n",
       "        vertical-align: top;\n",
       "    }\n",
       "\n",
       "    .dataframe thead th {\n",
       "        text-align: right;\n",
       "    }\n",
       "</style>\n",
       "<table border=\"1\" class=\"dataframe\">\n",
       "  <thead>\n",
       "    <tr style=\"text-align: right;\">\n",
       "      <th></th>\n",
       "      <th>Индекс</th>\n",
       "      <th>Тип региона</th>\n",
       "      <th>Регион</th>\n",
       "      <th>Тип района</th>\n",
       "      <th>Район</th>\n",
       "      <th>Тип города</th>\n",
       "      <th>Город</th>\n",
       "      <th>Тип н/п</th>\n",
       "      <th>Н/п</th>\n",
       "      <th>Код КЛАДР</th>\n",
       "      <th>Код ФИАС</th>\n",
       "      <th>Уровень по ФИАС</th>\n",
       "      <th>Признак центра района или региона</th>\n",
       "      <th>Код ОКАТО</th>\n",
       "      <th>Код ОКТМО</th>\n",
       "      <th>Код ИФНС</th>\n",
       "      <th>Часовой пояс</th>\n",
       "      <th>Широта</th>\n",
       "      <th>Долгота</th>\n",
       "      <th>Федеральный округ</th>\n",
       "      <th>Население</th>\n",
       "    </tr>\n",
       "  </thead>\n",
       "  <tbody>\n",
       "    <tr>\n",
       "      <th>0</th>\n",
       "      <td>385200.0</td>\n",
       "      <td>Респ</td>\n",
       "      <td>Адыгея</td>\n",
       "      <td>NaN</td>\n",
       "      <td>NaN</td>\n",
       "      <td>г</td>\n",
       "      <td>Адыгейск</td>\n",
       "      <td>NaN</td>\n",
       "      <td>NaN</td>\n",
       "      <td>100000200000</td>\n",
       "      <td>ccdfd496-8108-4655-aadd-bd228747306d</td>\n",
       "      <td>4: город</td>\n",
       "      <td>0</td>\n",
       "      <td>79403000000</td>\n",
       "      <td>7.970300e+10</td>\n",
       "      <td>107</td>\n",
       "      <td>UTC+3</td>\n",
       "      <td>44.878372</td>\n",
       "      <td>39.190172</td>\n",
       "      <td>Южный</td>\n",
       "      <td>12689</td>\n",
       "    </tr>\n",
       "    <tr>\n",
       "      <th>1</th>\n",
       "      <td>385000.0</td>\n",
       "      <td>Респ</td>\n",
       "      <td>Адыгея</td>\n",
       "      <td>NaN</td>\n",
       "      <td>NaN</td>\n",
       "      <td>г</td>\n",
       "      <td>Майкоп</td>\n",
       "      <td>NaN</td>\n",
       "      <td>NaN</td>\n",
       "      <td>100000100000</td>\n",
       "      <td>8cfbe842-e803-49ca-9347-1ef90481dd98</td>\n",
       "      <td>4: город</td>\n",
       "      <td>2</td>\n",
       "      <td>79401000000</td>\n",
       "      <td>7.970100e+10</td>\n",
       "      <td>105</td>\n",
       "      <td>UTC+3</td>\n",
       "      <td>44.609827</td>\n",
       "      <td>40.100653</td>\n",
       "      <td>Южный</td>\n",
       "      <td>144055</td>\n",
       "    </tr>\n",
       "    <tr>\n",
       "      <th>2</th>\n",
       "      <td>649000.0</td>\n",
       "      <td>Респ</td>\n",
       "      <td>Алтай</td>\n",
       "      <td>NaN</td>\n",
       "      <td>NaN</td>\n",
       "      <td>г</td>\n",
       "      <td>Горно-Алтайск</td>\n",
       "      <td>NaN</td>\n",
       "      <td>NaN</td>\n",
       "      <td>400000100000</td>\n",
       "      <td>0839d751-b940-4d3d-afb6-5df03fdd7791</td>\n",
       "      <td>4: город</td>\n",
       "      <td>2</td>\n",
       "      <td>84401000000</td>\n",
       "      <td>8.470100e+07</td>\n",
       "      <td>400</td>\n",
       "      <td>UTC+7</td>\n",
       "      <td>51.958268</td>\n",
       "      <td>85.960296</td>\n",
       "      <td>Сибирский</td>\n",
       "      <td>62861</td>\n",
       "    </tr>\n",
       "    <tr>\n",
       "      <th>3</th>\n",
       "      <td>658125.0</td>\n",
       "      <td>край</td>\n",
       "      <td>Алтайский</td>\n",
       "      <td>NaN</td>\n",
       "      <td>NaN</td>\n",
       "      <td>г</td>\n",
       "      <td>Алейск</td>\n",
       "      <td>NaN</td>\n",
       "      <td>NaN</td>\n",
       "      <td>2200000200000</td>\n",
       "      <td>ae716080-f27b-40b6-a555-cf8b518e849e</td>\n",
       "      <td>4: город</td>\n",
       "      <td>0</td>\n",
       "      <td>1403000000</td>\n",
       "      <td>1.703000e+06</td>\n",
       "      <td>2201</td>\n",
       "      <td>UTC+7</td>\n",
       "      <td>52.492091</td>\n",
       "      <td>82.779415</td>\n",
       "      <td>Сибирский</td>\n",
       "      <td>28528</td>\n",
       "    </tr>\n",
       "    <tr>\n",
       "      <th>4</th>\n",
       "      <td>656000.0</td>\n",
       "      <td>край</td>\n",
       "      <td>Алтайский</td>\n",
       "      <td>NaN</td>\n",
       "      <td>NaN</td>\n",
       "      <td>г</td>\n",
       "      <td>Барнаул</td>\n",
       "      <td>NaN</td>\n",
       "      <td>NaN</td>\n",
       "      <td>2200000100000</td>\n",
       "      <td>d13945a8-7017-46ab-b1e6-ede1e89317ad</td>\n",
       "      <td>4: город</td>\n",
       "      <td>2</td>\n",
       "      <td>1401000000</td>\n",
       "      <td>1.701000e+06</td>\n",
       "      <td>2200</td>\n",
       "      <td>UTC+7</td>\n",
       "      <td>53.348115</td>\n",
       "      <td>83.779836</td>\n",
       "      <td>Сибирский</td>\n",
       "      <td>635585</td>\n",
       "    </tr>\n",
       "  </tbody>\n",
       "</table>\n",
       "</div>"
      ],
      "text/plain": [
       "     Индекс Тип региона     Регион Тип района Район Тип города          Город  \\\n",
       "0  385200.0        Респ     Адыгея        NaN   NaN          г       Адыгейск   \n",
       "1  385000.0        Респ     Адыгея        NaN   NaN          г         Майкоп   \n",
       "2  649000.0        Респ      Алтай        NaN   NaN          г  Горно-Алтайск   \n",
       "3  658125.0        край  Алтайский        NaN   NaN          г         Алейск   \n",
       "4  656000.0        край  Алтайский        NaN   NaN          г        Барнаул   \n",
       "\n",
       "  Тип н/п  Н/п      Код КЛАДР                              Код ФИАС  \\\n",
       "0     NaN  NaN   100000200000  ccdfd496-8108-4655-aadd-bd228747306d   \n",
       "1     NaN  NaN   100000100000  8cfbe842-e803-49ca-9347-1ef90481dd98   \n",
       "2     NaN  NaN   400000100000  0839d751-b940-4d3d-afb6-5df03fdd7791   \n",
       "3     NaN  NaN  2200000200000  ae716080-f27b-40b6-a555-cf8b518e849e   \n",
       "4     NaN  NaN  2200000100000  d13945a8-7017-46ab-b1e6-ede1e89317ad   \n",
       "\n",
       "  Уровень по ФИАС  Признак центра района или региона    Код ОКАТО  \\\n",
       "0        4: город                                  0  79403000000   \n",
       "1        4: город                                  2  79401000000   \n",
       "2        4: город                                  2  84401000000   \n",
       "3        4: город                                  0   1403000000   \n",
       "4        4: город                                  2   1401000000   \n",
       "\n",
       "      Код ОКТМО  Код ИФНС Часовой пояс     Широта    Долгота  \\\n",
       "0  7.970300e+10       107        UTC+3  44.878372  39.190172   \n",
       "1  7.970100e+10       105        UTC+3  44.609827  40.100653   \n",
       "2  8.470100e+07       400        UTC+7  51.958268  85.960296   \n",
       "3  1.703000e+06      2201        UTC+7  52.492091  82.779415   \n",
       "4  1.701000e+06      2200        UTC+7  53.348115  83.779836   \n",
       "\n",
       "  Федеральный округ Население  \n",
       "0             Южный     12689  \n",
       "1             Южный    144055  \n",
       "2         Сибирский     62861  \n",
       "3         Сибирский     28528  \n",
       "4         Сибирский    635585  "
      ]
     },
     "execution_count": 12,
     "metadata": {},
     "output_type": "execute_result"
    }
   ],
   "source": [
    "russian_cities.head()"
   ]
  },
  {
   "cell_type": "code",
   "execution_count": 13,
   "id": "c02df835-87d5-47ec-ba4b-9baaa9f0ecd4",
   "metadata": {},
   "outputs": [],
   "source": [
    "# создадим маппинг для переименования колонок\n",
    "\n",
    "ru_cities_col_mapping = {\"Регион\":\"region\", \"Город\":\"city\", \"Часовой пояс\":\"timezone\", \"Широта\":\"lat\", \"Долгота\":\"lon\", \"Население\":\"population_ru\"}"
   ]
  },
  {
   "cell_type": "code",
   "execution_count": 14,
   "id": "67c71c5c-9af9-4a71-b37c-95a7f935afc2",
   "metadata": {},
   "outputs": [],
   "source": [
    "# переименуем нужные нам колонки и оставим только их. Население приведем к типу int\n",
    "\n",
    "ru_cities_short = russian_cities.rename(columns=ru_cities_col_mapping).loc[:, ru_cities_col_mapping.values()].copy()"
   ]
  },
  {
   "cell_type": "code",
   "execution_count": 15,
   "id": "eb36d0dd-b6af-4309-a0e3-eb80eef8e823",
   "metadata": {},
   "outputs": [
    {
     "data": {
      "text/plain": [
       "region            object\n",
       "city              object\n",
       "timezone          object\n",
       "lat              float64\n",
       "lon              float64\n",
       "population_ru     object\n",
       "dtype: object"
      ]
     },
     "execution_count": 15,
     "metadata": {},
     "output_type": "execute_result"
    }
   ],
   "source": [
    "ru_cities_short.dtypes"
   ]
  },
  {
   "cell_type": "code",
   "execution_count": 16,
   "id": "23315f45-3f4d-412d-a16a-243be3b82f55",
   "metadata": {},
   "outputs": [
    {
     "data": {
      "text/html": [
       "<div>\n",
       "<style scoped>\n",
       "    .dataframe tbody tr th:only-of-type {\n",
       "        vertical-align: middle;\n",
       "    }\n",
       "\n",
       "    .dataframe tbody tr th {\n",
       "        vertical-align: top;\n",
       "    }\n",
       "\n",
       "    .dataframe thead th {\n",
       "        text-align: right;\n",
       "    }\n",
       "</style>\n",
       "<table border=\"1\" class=\"dataframe\">\n",
       "  <thead>\n",
       "    <tr style=\"text-align: right;\">\n",
       "      <th></th>\n",
       "      <th>region</th>\n",
       "      <th>city</th>\n",
       "      <th>timezone</th>\n",
       "      <th>lat</th>\n",
       "      <th>lon</th>\n",
       "      <th>population_ru</th>\n",
       "    </tr>\n",
       "  </thead>\n",
       "  <tbody>\n",
       "    <tr>\n",
       "      <th>923</th>\n",
       "      <td>Татарстан</td>\n",
       "      <td>Иннополис</td>\n",
       "      <td>UTC+3</td>\n",
       "      <td>55.752154</td>\n",
       "      <td>48.744616</td>\n",
       "      <td>96[3]</td>\n",
       "    </tr>\n",
       "  </tbody>\n",
       "</table>\n",
       "</div>"
      ],
      "text/plain": [
       "        region       city timezone        lat        lon population_ru\n",
       "923  Татарстан  Иннополис    UTC+3  55.752154  48.744616         96[3]"
      ]
     },
     "execution_count": 16,
     "metadata": {},
     "output_type": "execute_result"
    }
   ],
   "source": [
    "# проверим на значения в population где кроме чисел есть что-то еще\n",
    "# отфильтруем по булевой маске: сперва создадим массив с булевыми значениями,\n",
    "# где True это совпадение с regex - у нас regex проверяет является ли строка числом с количеством цифр от 1 до 8\n",
    "# через тильду ~ мы инвертируем этот массив. И у нас теперь True это все строки где кроме цельного числа есть что-то еще в строке\n",
    "# ^ начало строки. $ конец строки. \\d{1,8} это значит \"числа, от 1 до 8 чисел подряд\"\n",
    "\n",
    "dirty_records = ru_cities_short[~ru_cities_short.population_ru.str.match(r\"^\\d{1,8}$\")].population_ru\n",
    "ru_cities_short.loc[dirty_records.index]"
   ]
  },
  {
   "cell_type": "code",
   "execution_count": 17,
   "id": "cc52cabb-ec4a-4d12-879a-ac31247e0bd3",
   "metadata": {},
   "outputs": [],
   "source": [
    "# создадим дубликат колонки для дальнейших изменений в ней. Чтобы можно было коротко сверить что значения для остальных записей\n",
    "# остались прежними\n",
    "\n",
    "ru_cities_short.loc[:, \"popul_ru_clean\"] = ru_cities_short.loc[:, \"population_ru\"]"
   ]
  },
  {
   "cell_type": "code",
   "execution_count": 18,
   "id": "6f317e6f-1f22-49f5-a672-a11f0ab7f065",
   "metadata": {},
   "outputs": [],
   "source": [
    "# извлечем чистые числа из грязных значений. Отфильтруем по индексу для изменения и вставки значений\n",
    "# сделаем этом кусок кода масштабируемым на случай если у нас изменятся исходные данные - прибавятся новые и т.п.\n",
    "\n",
    "ru_cities_short.loc[dirty_records.index, \"popul_ru_clean\"] = ru_cities_short.loc[dirty_records.index, \"population_ru\"] \\\n",
    "                                                                .str.findall(r\"\\d{1,8}\").str[0]"
   ]
  },
  {
   "cell_type": "code",
   "execution_count": 19,
   "id": "aa132a3b-b664-4082-8e82-c6681075011e",
   "metadata": {},
   "outputs": [
    {
     "data": {
      "text/html": [
       "<div>\n",
       "<style scoped>\n",
       "    .dataframe tbody tr th:only-of-type {\n",
       "        vertical-align: middle;\n",
       "    }\n",
       "\n",
       "    .dataframe tbody tr th {\n",
       "        vertical-align: top;\n",
       "    }\n",
       "\n",
       "    .dataframe thead th {\n",
       "        text-align: right;\n",
       "    }\n",
       "</style>\n",
       "<table border=\"1\" class=\"dataframe\">\n",
       "  <thead>\n",
       "    <tr style=\"text-align: right;\">\n",
       "      <th></th>\n",
       "      <th>region</th>\n",
       "      <th>city</th>\n",
       "      <th>timezone</th>\n",
       "      <th>lat</th>\n",
       "      <th>lon</th>\n",
       "      <th>population_ru</th>\n",
       "      <th>popul_ru_clean</th>\n",
       "    </tr>\n",
       "  </thead>\n",
       "  <tbody>\n",
       "    <tr>\n",
       "      <th>0</th>\n",
       "      <td>Адыгея</td>\n",
       "      <td>Адыгейск</td>\n",
       "      <td>UTC+3</td>\n",
       "      <td>44.878372</td>\n",
       "      <td>39.190172</td>\n",
       "      <td>12689</td>\n",
       "      <td>12689</td>\n",
       "    </tr>\n",
       "    <tr>\n",
       "      <th>1</th>\n",
       "      <td>Адыгея</td>\n",
       "      <td>Майкоп</td>\n",
       "      <td>UTC+3</td>\n",
       "      <td>44.609827</td>\n",
       "      <td>40.100653</td>\n",
       "      <td>144055</td>\n",
       "      <td>144055</td>\n",
       "    </tr>\n",
       "    <tr>\n",
       "      <th>2</th>\n",
       "      <td>Алтай</td>\n",
       "      <td>Горно-Алтайск</td>\n",
       "      <td>UTC+7</td>\n",
       "      <td>51.958268</td>\n",
       "      <td>85.960296</td>\n",
       "      <td>62861</td>\n",
       "      <td>62861</td>\n",
       "    </tr>\n",
       "    <tr>\n",
       "      <th>3</th>\n",
       "      <td>Алтайский</td>\n",
       "      <td>Алейск</td>\n",
       "      <td>UTC+7</td>\n",
       "      <td>52.492091</td>\n",
       "      <td>82.779415</td>\n",
       "      <td>28528</td>\n",
       "      <td>28528</td>\n",
       "    </tr>\n",
       "    <tr>\n",
       "      <th>4</th>\n",
       "      <td>Алтайский</td>\n",
       "      <td>Барнаул</td>\n",
       "      <td>UTC+7</td>\n",
       "      <td>53.348115</td>\n",
       "      <td>83.779836</td>\n",
       "      <td>635585</td>\n",
       "      <td>635585</td>\n",
       "    </tr>\n",
       "  </tbody>\n",
       "</table>\n",
       "</div>"
      ],
      "text/plain": [
       "      region           city timezone        lat        lon population_ru  \\\n",
       "0     Адыгея       Адыгейск    UTC+3  44.878372  39.190172         12689   \n",
       "1     Адыгея         Майкоп    UTC+3  44.609827  40.100653        144055   \n",
       "2      Алтай  Горно-Алтайск    UTC+7  51.958268  85.960296         62861   \n",
       "3  Алтайский         Алейск    UTC+7  52.492091  82.779415         28528   \n",
       "4  Алтайский        Барнаул    UTC+7  53.348115  83.779836        635585   \n",
       "\n",
       "  popul_ru_clean  \n",
       "0          12689  \n",
       "1         144055  \n",
       "2          62861  \n",
       "3          28528  \n",
       "4         635585  "
      ]
     },
     "execution_count": 19,
     "metadata": {},
     "output_type": "execute_result"
    }
   ],
   "source": [
    "ru_cities_short.head()"
   ]
  },
  {
   "cell_type": "code",
   "execution_count": 20,
   "id": "2f6482ca-31cc-4db0-9c0e-6de8d1d7bec6",
   "metadata": {},
   "outputs": [
    {
     "data": {
      "text/html": [
       "<div>\n",
       "<style scoped>\n",
       "    .dataframe tbody tr th:only-of-type {\n",
       "        vertical-align: middle;\n",
       "    }\n",
       "\n",
       "    .dataframe tbody tr th {\n",
       "        vertical-align: top;\n",
       "    }\n",
       "\n",
       "    .dataframe thead th {\n",
       "        text-align: right;\n",
       "    }\n",
       "</style>\n",
       "<table border=\"1\" class=\"dataframe\">\n",
       "  <thead>\n",
       "    <tr style=\"text-align: right;\">\n",
       "      <th></th>\n",
       "      <th>region</th>\n",
       "      <th>city</th>\n",
       "      <th>timezone</th>\n",
       "      <th>lat</th>\n",
       "      <th>lon</th>\n",
       "      <th>population_ru</th>\n",
       "      <th>popul_ru_clean</th>\n",
       "    </tr>\n",
       "  </thead>\n",
       "  <tbody>\n",
       "    <tr>\n",
       "      <th>1107</th>\n",
       "      <td>Ярославская</td>\n",
       "      <td>Ростов</td>\n",
       "      <td>UTC+3</td>\n",
       "      <td>57.205018</td>\n",
       "      <td>39.437836</td>\n",
       "      <td>31791</td>\n",
       "      <td>31791</td>\n",
       "    </tr>\n",
       "    <tr>\n",
       "      <th>1108</th>\n",
       "      <td>Ярославская</td>\n",
       "      <td>Рыбинск</td>\n",
       "      <td>UTC+3</td>\n",
       "      <td>58.048380</td>\n",
       "      <td>38.858338</td>\n",
       "      <td>200771</td>\n",
       "      <td>200771</td>\n",
       "    </tr>\n",
       "    <tr>\n",
       "      <th>1109</th>\n",
       "      <td>Ярославская</td>\n",
       "      <td>Тутаев</td>\n",
       "      <td>UTC+3</td>\n",
       "      <td>57.867424</td>\n",
       "      <td>39.536823</td>\n",
       "      <td>41001</td>\n",
       "      <td>41001</td>\n",
       "    </tr>\n",
       "    <tr>\n",
       "      <th>1110</th>\n",
       "      <td>Ярославская</td>\n",
       "      <td>Углич</td>\n",
       "      <td>UTC+3</td>\n",
       "      <td>57.522387</td>\n",
       "      <td>38.301979</td>\n",
       "      <td>34505</td>\n",
       "      <td>34505</td>\n",
       "    </tr>\n",
       "    <tr>\n",
       "      <th>1111</th>\n",
       "      <td>Ярославская</td>\n",
       "      <td>Ярославль</td>\n",
       "      <td>UTC+3</td>\n",
       "      <td>57.621614</td>\n",
       "      <td>39.897878</td>\n",
       "      <td>591486</td>\n",
       "      <td>591486</td>\n",
       "    </tr>\n",
       "  </tbody>\n",
       "</table>\n",
       "</div>"
      ],
      "text/plain": [
       "           region       city timezone        lat        lon population_ru  \\\n",
       "1107  Ярославская     Ростов    UTC+3  57.205018  39.437836         31791   \n",
       "1108  Ярославская    Рыбинск    UTC+3  58.048380  38.858338        200771   \n",
       "1109  Ярославская     Тутаев    UTC+3  57.867424  39.536823         41001   \n",
       "1110  Ярославская      Углич    UTC+3  57.522387  38.301979         34505   \n",
       "1111  Ярославская  Ярославль    UTC+3  57.621614  39.897878        591486   \n",
       "\n",
       "     popul_ru_clean  \n",
       "1107          31791  \n",
       "1108         200771  \n",
       "1109          41001  \n",
       "1110          34505  \n",
       "1111         591486  "
      ]
     },
     "execution_count": 20,
     "metadata": {},
     "output_type": "execute_result"
    }
   ],
   "source": [
    "ru_cities_short.tail()"
   ]
  },
  {
   "cell_type": "code",
   "execution_count": 21,
   "id": "9e6a7296-6f72-4eea-ab4a-2a5ca19839b4",
   "metadata": {},
   "outputs": [],
   "source": [
    "# удалим колонку population_ru со старыми значениями\n",
    "\n",
    "ru_cities_short.drop(columns=\"population_ru\", inplace=True)"
   ]
  },
  {
   "cell_type": "code",
   "execution_count": 22,
   "id": "f4fdf7ff-3b69-498f-b868-5a6b30a2eb79",
   "metadata": {},
   "outputs": [],
   "source": [
    "# приведем значения в колонке к int\n",
    "\n",
    "ru_cities_short[\"popul_ru_clean\"] = ru_cities_short.loc[:, \"popul_ru_clean\"].astype(\"int\")"
   ]
  },
  {
   "cell_type": "code",
   "execution_count": 23,
   "id": "853729c0-efbb-4f15-9e73-202463dce421",
   "metadata": {},
   "outputs": [
    {
     "data": {
      "text/html": [
       "<div>\n",
       "<style scoped>\n",
       "    .dataframe tbody tr th:only-of-type {\n",
       "        vertical-align: middle;\n",
       "    }\n",
       "\n",
       "    .dataframe tbody tr th {\n",
       "        vertical-align: top;\n",
       "    }\n",
       "\n",
       "    .dataframe thead th {\n",
       "        text-align: right;\n",
       "    }\n",
       "</style>\n",
       "<table border=\"1\" class=\"dataframe\">\n",
       "  <thead>\n",
       "    <tr style=\"text-align: right;\">\n",
       "      <th></th>\n",
       "      <th>region</th>\n",
       "      <th>city</th>\n",
       "      <th>timezone</th>\n",
       "      <th>lat</th>\n",
       "      <th>lon</th>\n",
       "      <th>popul_ru_clean</th>\n",
       "    </tr>\n",
       "  </thead>\n",
       "  <tbody>\n",
       "    <tr>\n",
       "      <th>0</th>\n",
       "      <td>Адыгея</td>\n",
       "      <td>Адыгейск</td>\n",
       "      <td>UTC+3</td>\n",
       "      <td>44.878372</td>\n",
       "      <td>39.190172</td>\n",
       "      <td>12689</td>\n",
       "    </tr>\n",
       "    <tr>\n",
       "      <th>1</th>\n",
       "      <td>Адыгея</td>\n",
       "      <td>Майкоп</td>\n",
       "      <td>UTC+3</td>\n",
       "      <td>44.609827</td>\n",
       "      <td>40.100653</td>\n",
       "      <td>144055</td>\n",
       "    </tr>\n",
       "    <tr>\n",
       "      <th>2</th>\n",
       "      <td>Алтай</td>\n",
       "      <td>Горно-Алтайск</td>\n",
       "      <td>UTC+7</td>\n",
       "      <td>51.958268</td>\n",
       "      <td>85.960296</td>\n",
       "      <td>62861</td>\n",
       "    </tr>\n",
       "    <tr>\n",
       "      <th>3</th>\n",
       "      <td>Алтайский</td>\n",
       "      <td>Алейск</td>\n",
       "      <td>UTC+7</td>\n",
       "      <td>52.492091</td>\n",
       "      <td>82.779415</td>\n",
       "      <td>28528</td>\n",
       "    </tr>\n",
       "    <tr>\n",
       "      <th>4</th>\n",
       "      <td>Алтайский</td>\n",
       "      <td>Барнаул</td>\n",
       "      <td>UTC+7</td>\n",
       "      <td>53.348115</td>\n",
       "      <td>83.779836</td>\n",
       "      <td>635585</td>\n",
       "    </tr>\n",
       "  </tbody>\n",
       "</table>\n",
       "</div>"
      ],
      "text/plain": [
       "      region           city timezone        lat        lon  popul_ru_clean\n",
       "0     Адыгея       Адыгейск    UTC+3  44.878372  39.190172           12689\n",
       "1     Адыгея         Майкоп    UTC+3  44.609827  40.100653          144055\n",
       "2      Алтай  Горно-Алтайск    UTC+7  51.958268  85.960296           62861\n",
       "3  Алтайский         Алейск    UTC+7  52.492091  82.779415           28528\n",
       "4  Алтайский        Барнаул    UTC+7  53.348115  83.779836          635585"
      ]
     },
     "execution_count": 23,
     "metadata": {},
     "output_type": "execute_result"
    }
   ],
   "source": [
    "ru_cities_short.head()"
   ]
  },
  {
   "cell_type": "code",
   "execution_count": 24,
   "id": "a9376579-f7c1-4e33-b0ab-ba6608c8018f",
   "metadata": {},
   "outputs": [
    {
     "data": {
      "text/plain": [
       "region             object\n",
       "city               object\n",
       "timezone           object\n",
       "lat               float64\n",
       "lon               float64\n",
       "popul_ru_clean      int64\n",
       "dtype: object"
      ]
     },
     "execution_count": 24,
     "metadata": {},
     "output_type": "execute_result"
    }
   ],
   "source": [
    "ru_cities_short.dtypes"
   ]
  },
  {
   "cell_type": "code",
   "execution_count": 25,
   "id": "e596c13d-9fae-4191-8188-3973eb25d669",
   "metadata": {},
   "outputs": [
    {
     "data": {
      "text/html": [
       "<div>\n",
       "<style scoped>\n",
       "    .dataframe tbody tr th:only-of-type {\n",
       "        vertical-align: middle;\n",
       "    }\n",
       "\n",
       "    .dataframe tbody tr th {\n",
       "        vertical-align: top;\n",
       "    }\n",
       "\n",
       "    .dataframe thead th {\n",
       "        text-align: right;\n",
       "    }\n",
       "</style>\n",
       "<table border=\"1\" class=\"dataframe\">\n",
       "  <thead>\n",
       "    <tr style=\"text-align: right;\">\n",
       "      <th></th>\n",
       "      <th>region</th>\n",
       "      <th>city</th>\n",
       "      <th>timezone</th>\n",
       "      <th>lat</th>\n",
       "      <th>lon</th>\n",
       "      <th>popul_ru_clean</th>\n",
       "    </tr>\n",
       "  </thead>\n",
       "  <tbody>\n",
       "    <tr>\n",
       "      <th>506</th>\n",
       "      <td>Москва</td>\n",
       "      <td>NaN</td>\n",
       "      <td>UTC+3</td>\n",
       "      <td>55.753879</td>\n",
       "      <td>37.620373</td>\n",
       "      <td>11514330</td>\n",
       "    </tr>\n",
       "    <tr>\n",
       "      <th>782</th>\n",
       "      <td>Санкт-Петербург</td>\n",
       "      <td>NaN</td>\n",
       "      <td>UTC+3</td>\n",
       "      <td>59.939125</td>\n",
       "      <td>30.315822</td>\n",
       "      <td>4848742</td>\n",
       "    </tr>\n",
       "    <tr>\n",
       "      <th>863</th>\n",
       "      <td>Севастополь</td>\n",
       "      <td>NaN</td>\n",
       "      <td>UTC+3</td>\n",
       "      <td>44.616733</td>\n",
       "      <td>33.525355</td>\n",
       "      <td>344479</td>\n",
       "    </tr>\n",
       "    <tr>\n",
       "      <th>1066</th>\n",
       "      <td>Чеченская</td>\n",
       "      <td>NaN</td>\n",
       "      <td>UTC+3</td>\n",
       "      <td>43.127607</td>\n",
       "      <td>45.540684</td>\n",
       "      <td>49071</td>\n",
       "    </tr>\n",
       "  </tbody>\n",
       "</table>\n",
       "</div>"
      ],
      "text/plain": [
       "               region city timezone        lat        lon  popul_ru_clean\n",
       "506            Москва  NaN    UTC+3  55.753879  37.620373        11514330\n",
       "782   Санкт-Петербург  NaN    UTC+3  59.939125  30.315822         4848742\n",
       "863       Севастополь  NaN    UTC+3  44.616733  33.525355          344479\n",
       "1066        Чеченская  NaN    UTC+3  43.127607  45.540684           49071"
      ]
     },
     "execution_count": 25,
     "metadata": {},
     "output_type": "execute_result"
    }
   ],
   "source": [
    "# Проверим на пустые значения\n",
    "\n",
    "nan_city = ru_cities_short[ru_cities_short.isna().any(axis=1)]\n",
    "nan_city"
   ]
  },
  {
   "cell_type": "code",
   "execution_count": 26,
   "id": "0d880e0a-d56c-47ec-9327-3c5050cd087f",
   "metadata": {},
   "outputs": [],
   "source": [
    "# город из Чеченской республики узнаем по координатам и заполним вручную. Остальные названия возьмем из region\n",
    "\n",
    "ru_cities_short.loc[(ru_cities_short.lat == 43.1276072) & (ru_cities_short.lon == 45.5406838), \"city\"] = \"Урус-Мартан\""
   ]
  },
  {
   "cell_type": "code",
   "execution_count": 27,
   "id": "54e55b5e-41d9-4c06-bcfb-a3a18e3a442c",
   "metadata": {},
   "outputs": [],
   "source": [
    "# заполняем остальное\n",
    "\n",
    "ru_cities_short[\"city\"] = ru_cities_short[\"city\"].fillna(ru_cities_short[\"region\"])"
   ]
  },
  {
   "cell_type": "code",
   "execution_count": 28,
   "id": "e2e796e4-d5a3-4073-a829-2ae4a548a899",
   "metadata": {},
   "outputs": [
    {
     "data": {
      "text/html": [
       "<div>\n",
       "<style scoped>\n",
       "    .dataframe tbody tr th:only-of-type {\n",
       "        vertical-align: middle;\n",
       "    }\n",
       "\n",
       "    .dataframe tbody tr th {\n",
       "        vertical-align: top;\n",
       "    }\n",
       "\n",
       "    .dataframe thead th {\n",
       "        text-align: right;\n",
       "    }\n",
       "</style>\n",
       "<table border=\"1\" class=\"dataframe\">\n",
       "  <thead>\n",
       "    <tr style=\"text-align: right;\">\n",
       "      <th></th>\n",
       "      <th>region</th>\n",
       "      <th>city</th>\n",
       "      <th>timezone</th>\n",
       "      <th>lat</th>\n",
       "      <th>lon</th>\n",
       "      <th>popul_ru_clean</th>\n",
       "    </tr>\n",
       "  </thead>\n",
       "  <tbody>\n",
       "    <tr>\n",
       "      <th>506</th>\n",
       "      <td>Москва</td>\n",
       "      <td>Москва</td>\n",
       "      <td>UTC+3</td>\n",
       "      <td>55.753879</td>\n",
       "      <td>37.620373</td>\n",
       "      <td>11514330</td>\n",
       "    </tr>\n",
       "    <tr>\n",
       "      <th>782</th>\n",
       "      <td>Санкт-Петербург</td>\n",
       "      <td>Санкт-Петербург</td>\n",
       "      <td>UTC+3</td>\n",
       "      <td>59.939125</td>\n",
       "      <td>30.315822</td>\n",
       "      <td>4848742</td>\n",
       "    </tr>\n",
       "    <tr>\n",
       "      <th>863</th>\n",
       "      <td>Севастополь</td>\n",
       "      <td>Севастополь</td>\n",
       "      <td>UTC+3</td>\n",
       "      <td>44.616733</td>\n",
       "      <td>33.525355</td>\n",
       "      <td>344479</td>\n",
       "    </tr>\n",
       "    <tr>\n",
       "      <th>1066</th>\n",
       "      <td>Чеченская</td>\n",
       "      <td>Урус-Мартан</td>\n",
       "      <td>UTC+3</td>\n",
       "      <td>43.127607</td>\n",
       "      <td>45.540684</td>\n",
       "      <td>49071</td>\n",
       "    </tr>\n",
       "  </tbody>\n",
       "</table>\n",
       "</div>"
      ],
      "text/plain": [
       "               region             city timezone        lat        lon  \\\n",
       "506            Москва           Москва    UTC+3  55.753879  37.620373   \n",
       "782   Санкт-Петербург  Санкт-Петербург    UTC+3  59.939125  30.315822   \n",
       "863       Севастополь      Севастополь    UTC+3  44.616733  33.525355   \n",
       "1066        Чеченская      Урус-Мартан    UTC+3  43.127607  45.540684   \n",
       "\n",
       "      popul_ru_clean  \n",
       "506         11514330  \n",
       "782          4848742  \n",
       "863           344479  \n",
       "1066           49071  "
      ]
     },
     "execution_count": 28,
     "metadata": {},
     "output_type": "execute_result"
    }
   ],
   "source": [
    "# проверим результат\n",
    "\n",
    "ru_cities_short.loc[(ru_cities_short.lat.isin(nan_city.lat)) & (ru_cities_short.lon.isin(nan_city.lon))]"
   ]
  },
  {
   "cell_type": "code",
   "execution_count": 29,
   "id": "e6d1b15e-b6c5-412d-80b8-76f1283b355e",
   "metadata": {},
   "outputs": [
    {
     "data": {
      "text/plain": [
       "77"
      ]
     },
     "execution_count": 29,
     "metadata": {},
     "output_type": "execute_result"
    }
   ],
   "source": [
    "# количество чешских районов в data berka \n",
    "\n",
    "district_short.shape[0]"
   ]
  },
  {
   "cell_type": "code",
   "execution_count": 30,
   "id": "9bca15d3-b5d6-4d97-9bd4-5a9c3b805ff1",
   "metadata": {},
   "outputs": [],
   "source": [
    "# значит нужно 77 первых по населению городов РФ\n",
    "\n",
    "ru_77_cities = ru_cities_short.sort_values(\"popul_ru_clean\", ascending=False).copy().reset_index(drop=True).loc[0:76]"
   ]
  },
  {
   "cell_type": "code",
   "execution_count": 31,
   "id": "2428bae3-b019-48f2-b949-174f60593091",
   "metadata": {},
   "outputs": [
    {
     "data": {
      "text/html": [
       "<div>\n",
       "<style scoped>\n",
       "    .dataframe tbody tr th:only-of-type {\n",
       "        vertical-align: middle;\n",
       "    }\n",
       "\n",
       "    .dataframe tbody tr th {\n",
       "        vertical-align: top;\n",
       "    }\n",
       "\n",
       "    .dataframe thead th {\n",
       "        text-align: right;\n",
       "    }\n",
       "</style>\n",
       "<table border=\"1\" class=\"dataframe\">\n",
       "  <thead>\n",
       "    <tr style=\"text-align: right;\">\n",
       "      <th></th>\n",
       "      <th>region</th>\n",
       "      <th>city</th>\n",
       "      <th>timezone</th>\n",
       "      <th>lat</th>\n",
       "      <th>lon</th>\n",
       "      <th>popul_ru_clean</th>\n",
       "    </tr>\n",
       "  </thead>\n",
       "  <tbody>\n",
       "    <tr>\n",
       "      <th>0</th>\n",
       "      <td>Москва</td>\n",
       "      <td>Москва</td>\n",
       "      <td>UTC+3</td>\n",
       "      <td>55.753879</td>\n",
       "      <td>37.620373</td>\n",
       "      <td>11514330</td>\n",
       "    </tr>\n",
       "    <tr>\n",
       "      <th>1</th>\n",
       "      <td>Санкт-Петербург</td>\n",
       "      <td>Санкт-Петербург</td>\n",
       "      <td>UTC+3</td>\n",
       "      <td>59.939125</td>\n",
       "      <td>30.315822</td>\n",
       "      <td>4848742</td>\n",
       "    </tr>\n",
       "    <tr>\n",
       "      <th>2</th>\n",
       "      <td>Новосибирская</td>\n",
       "      <td>Новосибирск</td>\n",
       "      <td>UTC+7</td>\n",
       "      <td>55.028102</td>\n",
       "      <td>82.921058</td>\n",
       "      <td>1498921</td>\n",
       "    </tr>\n",
       "    <tr>\n",
       "      <th>3</th>\n",
       "      <td>Свердловская</td>\n",
       "      <td>Екатеринбург</td>\n",
       "      <td>UTC+5</td>\n",
       "      <td>56.838633</td>\n",
       "      <td>60.605489</td>\n",
       "      <td>1377738</td>\n",
       "    </tr>\n",
       "    <tr>\n",
       "      <th>4</th>\n",
       "      <td>Нижегородская</td>\n",
       "      <td>Нижний Новгород</td>\n",
       "      <td>UTC+3</td>\n",
       "      <td>56.324209</td>\n",
       "      <td>44.005395</td>\n",
       "      <td>1250615</td>\n",
       "    </tr>\n",
       "    <tr>\n",
       "      <th>72</th>\n",
       "      <td>Карелия</td>\n",
       "      <td>Петрозаводск</td>\n",
       "      <td>UTC+3</td>\n",
       "      <td>61.789090</td>\n",
       "      <td>34.359626</td>\n",
       "      <td>263540</td>\n",
       "    </tr>\n",
       "    <tr>\n",
       "      <th>73</th>\n",
       "      <td>Ростовская</td>\n",
       "      <td>Таганрог</td>\n",
       "      <td>UTC+3</td>\n",
       "      <td>47.209491</td>\n",
       "      <td>38.935154</td>\n",
       "      <td>257692</td>\n",
       "    </tr>\n",
       "    <tr>\n",
       "      <th>74</th>\n",
       "      <td>Ханты-Мансийский Автономный округ - Югра</td>\n",
       "      <td>Нижневартовск</td>\n",
       "      <td>UTC+5</td>\n",
       "      <td>60.939738</td>\n",
       "      <td>76.569621</td>\n",
       "      <td>251860</td>\n",
       "    </tr>\n",
       "    <tr>\n",
       "      <th>75</th>\n",
       "      <td>Марий Эл</td>\n",
       "      <td>Йошкар-Ола</td>\n",
       "      <td>UTC+3</td>\n",
       "      <td>56.634376</td>\n",
       "      <td>47.899845</td>\n",
       "      <td>248688</td>\n",
       "    </tr>\n",
       "    <tr>\n",
       "      <th>76</th>\n",
       "      <td>Иркутская</td>\n",
       "      <td>Братск</td>\n",
       "      <td>UTC+8</td>\n",
       "      <td>56.151395</td>\n",
       "      <td>101.633989</td>\n",
       "      <td>246348</td>\n",
       "    </tr>\n",
       "  </tbody>\n",
       "</table>\n",
       "</div>"
      ],
      "text/plain": [
       "                                      region             city timezone  \\\n",
       "0                                     Москва           Москва    UTC+3   \n",
       "1                            Санкт-Петербург  Санкт-Петербург    UTC+3   \n",
       "2                              Новосибирская      Новосибирск    UTC+7   \n",
       "3                               Свердловская     Екатеринбург    UTC+5   \n",
       "4                              Нижегородская  Нижний Новгород    UTC+3   \n",
       "72                                   Карелия     Петрозаводск    UTC+3   \n",
       "73                                Ростовская         Таганрог    UTC+3   \n",
       "74  Ханты-Мансийский Автономный округ - Югра    Нижневартовск    UTC+5   \n",
       "75                                  Марий Эл       Йошкар-Ола    UTC+3   \n",
       "76                                 Иркутская           Братск    UTC+8   \n",
       "\n",
       "          lat         lon  popul_ru_clean  \n",
       "0   55.753879   37.620373        11514330  \n",
       "1   59.939125   30.315822         4848742  \n",
       "2   55.028102   82.921058         1498921  \n",
       "3   56.838633   60.605489         1377738  \n",
       "4   56.324209   44.005395         1250615  \n",
       "72  61.789090   34.359626          263540  \n",
       "73  47.209491   38.935154          257692  \n",
       "74  60.939738   76.569621          251860  \n",
       "75  56.634376   47.899845          248688  \n",
       "76  56.151395  101.633989          246348  "
      ]
     },
     "execution_count": 31,
     "metadata": {},
     "output_type": "execute_result"
    }
   ],
   "source": [
    "# первые 5 и последние 5 записей урезанного до 77 городов датафрейма\n",
    "\n",
    "ru_77_cities.iloc[np.r_[0:5,-5:0]]"
   ]
  },
  {
   "cell_type": "code",
   "execution_count": 32,
   "id": "7e238c31-c7cd-4b4b-a03b-acbc49aa0167",
   "metadata": {},
   "outputs": [
    {
     "data": {
      "text/plain": [
       "(77, 6)"
      ]
     },
     "execution_count": 32,
     "metadata": {},
     "output_type": "execute_result"
    }
   ],
   "source": [
    "# количество записей\n",
    "\n",
    "ru_77_cities.shape"
   ]
  },
  {
   "cell_type": "markdown",
   "id": "8d23fc1d-addd-4aa8-a5fb-d2ce4cb9a13e",
   "metadata": {},
   "source": [
    "<br>"
   ]
  },
  {
   "cell_type": "markdown",
   "id": "7100019d-64ff-4703-a31e-8d3826eb3ecf",
   "metadata": {},
   "source": [
    "## 2. Сравнение профилей численности населения чешских районов и российских городов\n",
    "- Насколько подходит замена чешских районов на российские города?"
   ]
  },
  {
   "cell_type": "markdown",
   "id": "2b64c239-9de1-45b3-87d1-bffa60ce057a",
   "metadata": {},
   "source": [
    "### **А. Сравним коэффиценты изменчивости численности населения для чешских районов и для российских городов**\n",
    "\n",
    "Формула коэффициента: cv = standard deviation / mean * 100"
   ]
  },
  {
   "cell_type": "code",
   "execution_count": 33,
   "id": "b303e302-eaf1-4529-8737-00bc4b39abd8",
   "metadata": {},
   "outputs": [
    {
     "name": "stdout",
     "output_type": "stream",
     "text": [
      "Czech variability coefficient: 102.26%\n"
     ]
    }
   ],
   "source": [
    "cz_mean_pop = district_short.population.mean()\n",
    "cz_pop_std = district_short.population.std()\n",
    "czech_cv = cz_pop_std / cz_mean_pop * 100\n",
    "\n",
    "\n",
    "print(f\"\"\"Czech variability coefficient: {czech_cv:.2f}%\"\"\")"
   ]
  },
  {
   "cell_type": "code",
   "execution_count": 34,
   "id": "6d48cc27-2d01-4ec8-adb8-2b01904e85b4",
   "metadata": {},
   "outputs": [
    {
     "name": "stdout",
     "output_type": "stream",
     "text": [
      "Russian variability coefficient: 183.48%\n"
     ]
    }
   ],
   "source": [
    "ru_mean_pop = ru_77_cities.popul_ru_clean.mean()\n",
    "ru_pop_std = ru_77_cities.popul_ru_clean.std()\n",
    "\n",
    "ru_cv = ru_pop_std / ru_mean_pop * 100\n",
    "\n",
    "print(f\"\"\"Russian variability coefficient: {ru_cv:.2f}%\"\"\")"
   ]
  },
  {
   "cell_type": "code",
   "execution_count": 35,
   "id": "4e809992-0291-4ff7-9a0d-bbd4cc811891",
   "metadata": {},
   "outputs": [
    {
     "name": "stdout",
     "output_type": "stream",
     "text": [
      "Russian population cv is 1.79 times higher than czech cv\n"
     ]
    }
   ],
   "source": [
    "# во сколько раз российский коэффициент изменчивости больше чешского\n",
    "\n",
    "print(f\"\"\"Russian population cv is {ru_cv / czech_cv:.2f} times higher than czech cv\"\"\")"
   ]
  },
  {
   "cell_type": "markdown",
   "id": "bcf57f6f-4a5b-40cd-baea-90d939698c93",
   "metadata": {},
   "source": [
    "### **Вывод по коэффициентам изменчивости**\n",
    "В России отклонение от среднего почти в два раза больше чем Чехии"
   ]
  },
  {
   "cell_type": "markdown",
   "id": "b1359e77-ff78-4308-b349-ee71f9e39b76",
   "metadata": {},
   "source": [
    "### **Б. Сравним процент населения от столицы в Чехии и России**"
   ]
  },
  {
   "cell_type": "code",
   "execution_count": 36,
   "id": "abc2a23c-d72f-4f08-a11a-a759fe2680f3",
   "metadata": {},
   "outputs": [],
   "source": [
    "czech_pop_perc_from_max = district_short.population.div(district_short.population.max()).mul(100).round(2)"
   ]
  },
  {
   "cell_type": "code",
   "execution_count": 37,
   "id": "0f80497f-bc4a-4e3f-b296-590f208053a7",
   "metadata": {},
   "outputs": [],
   "source": [
    "ru_pop_perc_from_max = ru_77_cities.popul_ru_clean.div(ru_77_cities.popul_ru_clean.max()).mul(100).round(2)"
   ]
  },
  {
   "cell_type": "code",
   "execution_count": 38,
   "id": "bc330b6a-fbf0-4b57-a9a5-910335226d87",
   "metadata": {},
   "outputs": [
    {
     "data": {
      "text/html": [
       "<div>\n",
       "<style scoped>\n",
       "    .dataframe tbody tr th:only-of-type {\n",
       "        vertical-align: middle;\n",
       "    }\n",
       "\n",
       "    .dataframe tbody tr th {\n",
       "        vertical-align: top;\n",
       "    }\n",
       "\n",
       "    .dataframe thead th {\n",
       "        text-align: right;\n",
       "    }\n",
       "</style>\n",
       "<table border=\"1\" class=\"dataframe\">\n",
       "  <thead>\n",
       "    <tr style=\"text-align: right;\">\n",
       "      <th></th>\n",
       "      <th>pop_perc_cz</th>\n",
       "      <th>pop_perc_ru</th>\n",
       "    </tr>\n",
       "  </thead>\n",
       "  <tbody>\n",
       "    <tr>\n",
       "      <th>1</th>\n",
       "      <td>32.16</td>\n",
       "      <td>42.11</td>\n",
       "    </tr>\n",
       "    <tr>\n",
       "      <th>2</th>\n",
       "      <td>26.88</td>\n",
       "      <td>13.02</td>\n",
       "    </tr>\n",
       "    <tr>\n",
       "      <th>3</th>\n",
       "      <td>23.68</td>\n",
       "      <td>11.97</td>\n",
       "    </tr>\n",
       "    <tr>\n",
       "      <th>4</th>\n",
       "      <td>18.99</td>\n",
       "      <td>10.86</td>\n",
       "    </tr>\n",
       "    <tr>\n",
       "      <th>5</th>\n",
       "      <td>18.77</td>\n",
       "      <td>10.57</td>\n",
       "    </tr>\n",
       "  </tbody>\n",
       "</table>\n",
       "</div>"
      ],
      "text/plain": [
       "   pop_perc_cz  pop_perc_ru\n",
       "1        32.16        42.11\n",
       "2        26.88        13.02\n",
       "3        23.68        11.97\n",
       "4        18.99        10.86\n",
       "5        18.77        10.57"
      ]
     },
     "execution_count": 38,
     "metadata": {},
     "output_type": "execute_result"
    }
   ],
   "source": [
    "pop_perc_from_capital = pd.concat([czech_pop_perc_from_max, ru_pop_perc_from_max], axis=1) \\\n",
    "                                .rename(columns={\"population\":\"pop_perc_cz\",\"popul_ru_clean\":\"pop_perc_ru\"}) \\\n",
    "                                .query(\"pop_perc_cz < 100 and pop_perc_ru < 100\")\n",
    "pop_perc_from_capital.head()"
   ]
  },
  {
   "cell_type": "markdown",
   "id": "1f49d01e-455c-4108-b254-ec2dca0708bf",
   "metadata": {},
   "source": [
    "#### Посмотрим на графике"
   ]
  },
  {
   "cell_type": "code",
   "execution_count": 39,
   "id": "4b8c1476-420a-4b48-900f-4b00990e5346",
   "metadata": {
    "scrolled": true
   },
   "outputs": [
    {
     "data": {
      "image/png": "[encoded data removed]",
      "text/plain": [
       "<Figure size 640x480 with 1 Axes>"
      ]
     },
     "metadata": {},
     "output_type": "display_data"
    }
   ],
   "source": [
    "fig, ax = plt.subplots()\n",
    "\n",
    "sns.lineplot(data=pop_perc_from_capital, x=pop_perc_from_capital.index, y=\"pop_perc_cz\", label=\"Czechia\", color=\"red\", ax=ax)\n",
    "sns.lineplot(data=pop_perc_from_capital, x=pop_perc_from_capital.index, y=\"pop_perc_ru\", label=\"Russia\", color=\"steelblue\", ax=ax)\n",
    "ax.grid(which=\"both\")\n",
    "ax.set_title(\"Cities population percentage from capital city\", pad=20)\n",
    "ax.set_xlabel(\"City index\")\n",
    "ax.set_ylabel(\"Population percent\");"
   ]
  },
  {
   "cell_type": "markdown",
   "id": "de0e6cf3-b8cf-48c9-879a-9a6e992f60a6",
   "metadata": {},
   "source": [
    "### **Вывод по проценту населения относительно столицы**\n",
    "В России он меньше, кроме первого города в сравнении - С.Петербурга  \n",
    "Но динамика в целом схожа. Так что остановимся на выборе российских городов для замены в датасете.\n"
   ]
  },
  {
   "cell_type": "markdown",
   "id": "c08b943d-b791-44bb-a15f-1c37a58dfa05",
   "metadata": {},
   "source": [
    "## 3. Непосредственно замена районов на города РФ"
   ]
  },
  {
   "cell_type": "code",
   "execution_count": 40,
   "id": "42460505-c13f-43ea-9b7c-b490bbf9e9af",
   "metadata": {},
   "outputs": [],
   "source": [
    "cities_ru = ru_77_cities.copy()"
   ]
  },
  {
   "cell_type": "code",
   "execution_count": 41,
   "id": "a655c900-d4a2-44fb-925e-3b7d6eb370ef",
   "metadata": {},
   "outputs": [
    {
     "data": {
      "text/html": [
       "<div>\n",
       "<style scoped>\n",
       "    .dataframe tbody tr th:only-of-type {\n",
       "        vertical-align: middle;\n",
       "    }\n",
       "\n",
       "    .dataframe tbody tr th {\n",
       "        vertical-align: top;\n",
       "    }\n",
       "\n",
       "    .dataframe thead th {\n",
       "        text-align: right;\n",
       "    }\n",
       "</style>\n",
       "<table border=\"1\" class=\"dataframe\">\n",
       "  <thead>\n",
       "    <tr style=\"text-align: right;\">\n",
       "      <th></th>\n",
       "      <th>district_code</th>\n",
       "      <th>district_name</th>\n",
       "      <th>region</th>\n",
       "      <th>population</th>\n",
       "      <th>district_id</th>\n",
       "      <th>clients</th>\n",
       "    </tr>\n",
       "  </thead>\n",
       "  <tbody>\n",
       "    <tr>\n",
       "      <th>0</th>\n",
       "      <td>1</td>\n",
       "      <td>Hl.m. Praha</td>\n",
       "      <td>Prague</td>\n",
       "      <td>1204953</td>\n",
       "      <td>1</td>\n",
       "      <td>663</td>\n",
       "    </tr>\n",
       "    <tr>\n",
       "      <th>1</th>\n",
       "      <td>74</td>\n",
       "      <td>Ostrava - mesto</td>\n",
       "      <td>north Moravia</td>\n",
       "      <td>323870</td>\n",
       "      <td>74</td>\n",
       "      <td>180</td>\n",
       "    </tr>\n",
       "    <tr>\n",
       "      <th>2</th>\n",
       "      <td>70</td>\n",
       "      <td>Karvina</td>\n",
       "      <td>north Moravia</td>\n",
       "      <td>285387</td>\n",
       "      <td>70</td>\n",
       "      <td>169</td>\n",
       "    </tr>\n",
       "    <tr>\n",
       "      <th>3</th>\n",
       "      <td>54</td>\n",
       "      <td>Brno - mesto</td>\n",
       "      <td>south Moravia</td>\n",
       "      <td>387570</td>\n",
       "      <td>54</td>\n",
       "      <td>155</td>\n",
       "    </tr>\n",
       "    <tr>\n",
       "      <th>4</th>\n",
       "      <td>64</td>\n",
       "      <td>Zlin</td>\n",
       "      <td>south Moravia</td>\n",
       "      <td>197099</td>\n",
       "      <td>64</td>\n",
       "      <td>109</td>\n",
       "    </tr>\n",
       "    <tr>\n",
       "      <th>72</th>\n",
       "      <td>12</td>\n",
       "      <td>Pribram</td>\n",
       "      <td>central Bohemia</td>\n",
       "      <td>107870</td>\n",
       "      <td>12</td>\n",
       "      <td>44</td>\n",
       "    </tr>\n",
       "    <tr>\n",
       "      <th>73</th>\n",
       "      <td>65</td>\n",
       "      <td>Znojmo</td>\n",
       "      <td>south Moravia</td>\n",
       "      <td>114200</td>\n",
       "      <td>65</td>\n",
       "      <td>44</td>\n",
       "    </tr>\n",
       "    <tr>\n",
       "      <th>74</th>\n",
       "      <td>58</td>\n",
       "      <td>Jihlava</td>\n",
       "      <td>south Moravia</td>\n",
       "      <td>109164</td>\n",
       "      <td>58</td>\n",
       "      <td>44</td>\n",
       "    </tr>\n",
       "    <tr>\n",
       "      <th>75</th>\n",
       "      <td>24</td>\n",
       "      <td>Karlovy Vary</td>\n",
       "      <td>west Bohemia</td>\n",
       "      <td>122603</td>\n",
       "      <td>24</td>\n",
       "      <td>43</td>\n",
       "    </tr>\n",
       "    <tr>\n",
       "      <th>76</th>\n",
       "      <td>20</td>\n",
       "      <td>Strakonice</td>\n",
       "      <td>south Bohemia</td>\n",
       "      <td>70646</td>\n",
       "      <td>20</td>\n",
       "      <td>43</td>\n",
       "    </tr>\n",
       "  </tbody>\n",
       "</table>\n",
       "</div>"
      ],
      "text/plain": [
       "    district_code    district_name           region  population  district_id  \\\n",
       "0               1      Hl.m. Praha           Prague     1204953            1   \n",
       "1              74  Ostrava - mesto    north Moravia      323870           74   \n",
       "2              70          Karvina    north Moravia      285387           70   \n",
       "3              54     Brno - mesto    south Moravia      387570           54   \n",
       "4              64             Zlin    south Moravia      197099           64   \n",
       "72             12          Pribram  central Bohemia      107870           12   \n",
       "73             65           Znojmo    south Moravia      114200           65   \n",
       "74             58          Jihlava    south Moravia      109164           58   \n",
       "75             24     Karlovy Vary     west Bohemia      122603           24   \n",
       "76             20       Strakonice    south Bohemia       70646           20   \n",
       "\n",
       "    clients  \n",
       "0       663  \n",
       "1       180  \n",
       "2       169  \n",
       "3       155  \n",
       "4       109  \n",
       "72       44  \n",
       "73       44  \n",
       "74       44  \n",
       "75       43  \n",
       "76       43  "
      ]
     },
     "execution_count": 41,
     "metadata": {},
     "output_type": "execute_result"
    }
   ],
   "source": [
    "# отсортируем district_short по количеству клиентов в районе, по убыванию. \n",
    "# Чтобы у нас в дальнейшей замене динамика населения городов России совпадала с количеством клиентов в городах\n",
    "\n",
    "district_short = district_short.sort_values(\"clients\", ascending=False).reset_index(drop=True)\n",
    "district_short.iloc[np.r_[0:5,-5:0]] # первые 5 и последние 5 записей"
   ]
  },
  {
   "cell_type": "code",
   "execution_count": 42,
   "id": "aa476594-ca02-4caf-a048-f1d649239504",
   "metadata": {},
   "outputs": [],
   "source": [
    "# просто берем отсортированные по количеству клиентов коды районов и добавляем в датафрейм с российскими городами\n",
    "\n",
    "cities_ru[\"district_code\"] = district_short.district_code"
   ]
  },
  {
   "cell_type": "code",
   "execution_count": 43,
   "id": "1ea60bb8-8415-409a-8433-13b9bbb1a402",
   "metadata": {},
   "outputs": [],
   "source": [
    "# количество колонок в cities_ru\n",
    "cities_ru_col_number = cities_ru.shape[1]"
   ]
  },
  {
   "cell_type": "code",
   "execution_count": 44,
   "id": "3979fd80-a027-484f-bbcf-4c5d4088341d",
   "metadata": {},
   "outputs": [],
   "source": [
    "# переставим добавленную колонку district_code в начало\n",
    "# для этого создадим список с желаемыми позициями колонок. последняя позиция + список позиций с 0 до предпоследней\n",
    "cities_cols_reorder = [-1] + list(range(cities_ru.shape[1] - 1))\n",
    "district_ru = cities_ru.iloc[:, cities_cols_reorder].copy()"
   ]
  },
  {
   "cell_type": "code",
   "execution_count": 45,
   "id": "131198c2-f699-4fbc-8bf1-627698c39d08",
   "metadata": {},
   "outputs": [
    {
     "name": "stdout",
     "output_type": "stream",
     "text": [
      "Initial cols and current cols number are identical:\n",
      "Initial cols shape: 7\n",
      "Current cols shape: 7\n"
     ]
    }
   ],
   "source": [
    "# Сверим количество колонок после перестановки\n",
    "\n",
    "if cities_ru_col_number > cities_ru.shape[1]:\n",
    "    raise ValueError(f\"\"\"Initial cols number is bigger than current cols number for cities_ru:\n",
    "Initial cols shape: {cities_ru_col_number}\n",
    "Current cols shape: {cities_ru.shape[1]}\"\"\")\n",
    "\n",
    "elif cities_ru_col_number < cities_ru.shape[1]:\n",
    "    raise ValueError(f\"\"\"Initial cols number is less than current cols number for cities_ru:\n",
    "Initial cols shape: {cities_ru_col_number}\n",
    "Current cols shape: {cities_ru.shape[1]}\"\"\")  \n",
    "\n",
    "else:\n",
    "    print(f\"\"\"Initial cols and current cols number are identical:\n",
    "Initial cols shape: {cities_ru_col_number}\n",
    "Current cols shape: {cities_ru.shape[1]}\"\"\") \n",
    "    "
   ]
  },
  {
   "cell_type": "code",
   "execution_count": 46,
   "id": "fc96b3a6-4e96-4cdd-a57d-bdf7826dd9ca",
   "metadata": {},
   "outputs": [],
   "source": [
    "# добавим также количество клиентов.\n",
    "\n",
    "cities_ru[\"clients\"] = district_short.clients"
   ]
  },
  {
   "cell_type": "code",
   "execution_count": 47,
   "id": "ab220c9a-e9f1-47c7-a75c-330e058d610e",
   "metadata": {},
   "outputs": [],
   "source": [
    "# переименуем popul_ru_clean\n",
    "\n",
    "cities_ru = cities_ru.rename(columns={\"popul_ru_clean\":\"population\"})"
   ]
  },
  {
   "cell_type": "code",
   "execution_count": 48,
   "id": "b2c3c093-5890-45d4-95d3-e263db1fde0e",
   "metadata": {},
   "outputs": [
    {
     "data": {
      "text/html": [
       "<div>\n",
       "<style scoped>\n",
       "    .dataframe tbody tr th:only-of-type {\n",
       "        vertical-align: middle;\n",
       "    }\n",
       "\n",
       "    .dataframe tbody tr th {\n",
       "        vertical-align: top;\n",
       "    }\n",
       "\n",
       "    .dataframe thead th {\n",
       "        text-align: right;\n",
       "    }\n",
       "</style>\n",
       "<table border=\"1\" class=\"dataframe\">\n",
       "  <thead>\n",
       "    <tr style=\"text-align: right;\">\n",
       "      <th></th>\n",
       "      <th>region</th>\n",
       "      <th>city</th>\n",
       "      <th>timezone</th>\n",
       "      <th>lat</th>\n",
       "      <th>lon</th>\n",
       "      <th>population</th>\n",
       "      <th>district_code</th>\n",
       "      <th>clients</th>\n",
       "    </tr>\n",
       "  </thead>\n",
       "  <tbody>\n",
       "    <tr>\n",
       "      <th>0</th>\n",
       "      <td>Москва</td>\n",
       "      <td>Москва</td>\n",
       "      <td>UTC+3</td>\n",
       "      <td>55.753879</td>\n",
       "      <td>37.620373</td>\n",
       "      <td>11514330</td>\n",
       "      <td>1</td>\n",
       "      <td>663</td>\n",
       "    </tr>\n",
       "    <tr>\n",
       "      <th>1</th>\n",
       "      <td>Санкт-Петербург</td>\n",
       "      <td>Санкт-Петербург</td>\n",
       "      <td>UTC+3</td>\n",
       "      <td>59.939125</td>\n",
       "      <td>30.315822</td>\n",
       "      <td>4848742</td>\n",
       "      <td>74</td>\n",
       "      <td>180</td>\n",
       "    </tr>\n",
       "    <tr>\n",
       "      <th>2</th>\n",
       "      <td>Новосибирская</td>\n",
       "      <td>Новосибирск</td>\n",
       "      <td>UTC+7</td>\n",
       "      <td>55.028102</td>\n",
       "      <td>82.921058</td>\n",
       "      <td>1498921</td>\n",
       "      <td>70</td>\n",
       "      <td>169</td>\n",
       "    </tr>\n",
       "    <tr>\n",
       "      <th>3</th>\n",
       "      <td>Свердловская</td>\n",
       "      <td>Екатеринбург</td>\n",
       "      <td>UTC+5</td>\n",
       "      <td>56.838633</td>\n",
       "      <td>60.605489</td>\n",
       "      <td>1377738</td>\n",
       "      <td>54</td>\n",
       "      <td>155</td>\n",
       "    </tr>\n",
       "    <tr>\n",
       "      <th>4</th>\n",
       "      <td>Нижегородская</td>\n",
       "      <td>Нижний Новгород</td>\n",
       "      <td>UTC+3</td>\n",
       "      <td>56.324209</td>\n",
       "      <td>44.005395</td>\n",
       "      <td>1250615</td>\n",
       "      <td>64</td>\n",
       "      <td>109</td>\n",
       "    </tr>\n",
       "    <tr>\n",
       "      <th>72</th>\n",
       "      <td>Карелия</td>\n",
       "      <td>Петрозаводск</td>\n",
       "      <td>UTC+3</td>\n",
       "      <td>61.789090</td>\n",
       "      <td>34.359626</td>\n",
       "      <td>263540</td>\n",
       "      <td>12</td>\n",
       "      <td>44</td>\n",
       "    </tr>\n",
       "    <tr>\n",
       "      <th>73</th>\n",
       "      <td>Ростовская</td>\n",
       "      <td>Таганрог</td>\n",
       "      <td>UTC+3</td>\n",
       "      <td>47.209491</td>\n",
       "      <td>38.935154</td>\n",
       "      <td>257692</td>\n",
       "      <td>65</td>\n",
       "      <td>44</td>\n",
       "    </tr>\n",
       "    <tr>\n",
       "      <th>74</th>\n",
       "      <td>Ханты-Мансийский Автономный округ - Югра</td>\n",
       "      <td>Нижневартовск</td>\n",
       "      <td>UTC+5</td>\n",
       "      <td>60.939738</td>\n",
       "      <td>76.569621</td>\n",
       "      <td>251860</td>\n",
       "      <td>58</td>\n",
       "      <td>44</td>\n",
       "    </tr>\n",
       "    <tr>\n",
       "      <th>75</th>\n",
       "      <td>Марий Эл</td>\n",
       "      <td>Йошкар-Ола</td>\n",
       "      <td>UTC+3</td>\n",
       "      <td>56.634376</td>\n",
       "      <td>47.899845</td>\n",
       "      <td>248688</td>\n",
       "      <td>24</td>\n",
       "      <td>43</td>\n",
       "    </tr>\n",
       "    <tr>\n",
       "      <th>76</th>\n",
       "      <td>Иркутская</td>\n",
       "      <td>Братск</td>\n",
       "      <td>UTC+8</td>\n",
       "      <td>56.151395</td>\n",
       "      <td>101.633989</td>\n",
       "      <td>246348</td>\n",
       "      <td>20</td>\n",
       "      <td>43</td>\n",
       "    </tr>\n",
       "  </tbody>\n",
       "</table>\n",
       "</div>"
      ],
      "text/plain": [
       "                                      region             city timezone  \\\n",
       "0                                     Москва           Москва    UTC+3   \n",
       "1                            Санкт-Петербург  Санкт-Петербург    UTC+3   \n",
       "2                              Новосибирская      Новосибирск    UTC+7   \n",
       "3                               Свердловская     Екатеринбург    UTC+5   \n",
       "4                              Нижегородская  Нижний Новгород    UTC+3   \n",
       "72                                   Карелия     Петрозаводск    UTC+3   \n",
       "73                                Ростовская         Таганрог    UTC+3   \n",
       "74  Ханты-Мансийский Автономный округ - Югра    Нижневартовск    UTC+5   \n",
       "75                                  Марий Эл       Йошкар-Ола    UTC+3   \n",
       "76                                 Иркутская           Братск    UTC+8   \n",
       "\n",
       "          lat         lon  population  district_code  clients  \n",
       "0   55.753879   37.620373    11514330              1      663  \n",
       "1   59.939125   30.315822     4848742             74      180  \n",
       "2   55.028102   82.921058     1498921             70      169  \n",
       "3   56.838633   60.605489     1377738             54      155  \n",
       "4   56.324209   44.005395     1250615             64      109  \n",
       "72  61.789090   34.359626      263540             12       44  \n",
       "73  47.209491   38.935154      257692             65       44  \n",
       "74  60.939738   76.569621      251860             58       44  \n",
       "75  56.634376   47.899845      248688             24       43  \n",
       "76  56.151395  101.633989      246348             20       43  "
      ]
     },
     "execution_count": 48,
     "metadata": {},
     "output_type": "execute_result"
    }
   ],
   "source": [
    "cities_ru.iloc[np.r_[0:5, -5:0]] # первые 5 и последние 5 записей"
   ]
  },
  {
   "cell_type": "code",
   "execution_count": 49,
   "id": "b44e71b0-bf2b-428d-9df3-15e6c3212fee",
   "metadata": {},
   "outputs": [
    {
     "data": {
      "text/plain": [
       "(77, 8)"
      ]
     },
     "execution_count": 49,
     "metadata": {},
     "output_type": "execute_result"
    }
   ],
   "source": [
    "# проверим форму district_ru после всех изменений\n",
    "\n",
    "cities_ru.shape"
   ]
  },
  {
   "cell_type": "markdown",
   "id": "835455ef-6298-42d9-a61f-cec0fcf6ef16",
   "metadata": {},
   "source": [
    "<br><br>"
   ]
  },
  {
   "cell_type": "markdown",
   "id": "411b134b-c8e7-454d-8b16-354ed7b90966",
   "metadata": {},
   "source": [
    "# **Получение геополигонов городов России. Написание генератора координат внутри геополигона города**"
   ]
  },
  {
   "cell_type": "markdown",
   "id": "ad70160d-fdfb-4b08-8699-27c2e308090f",
   "metadata": {},
   "source": [
    "<br>"
   ]
  },
  {
   "cell_type": "markdown",
   "id": "a32fa09c-cf00-4dbe-882f-5c7b1bce9b89",
   "metadata": {},
   "source": [
    "## 1. Работа с сырыми геоданными\n",
    "- получение геополигонов (границ) городов "
   ]
  },
  {
   "cell_type": "code",
   "execution_count": 50,
   "id": "7a44670d-f8c4-4867-9467-7edb4f75b404",
   "metadata": {},
   "outputs": [
    {
     "data": {
      "text/plain": [
       "['01_central_ru.cpg',\n",
       " '01_central_ru.dbf',\n",
       " '01_central_ru.prj',\n",
       " '01_central_ru.shp',\n",
       " '01_central_ru.shx']"
      ]
     },
     "execution_count": 50,
     "metadata": {},
     "output_type": "execute_result"
    }
   ],
   "source": [
    "geo_files = os.listdir(\"./data/raw/geo/\")\n",
    "geo_files[:5]"
   ]
  },
  {
   "cell_type": "code",
   "execution_count": 51,
   "id": "9685d5a0-65be-429e-96c0-59ffed57bb78",
   "metadata": {},
   "outputs": [
    {
     "data": {
      "text/plain": [
       "['01_central_ru.shp',\n",
       " '02_crimea_ru.shp',\n",
       " '03_far_east_ru.shp',\n",
       " '04_caucasus_ru.shp',\n",
       " '05_northwest_ru.shp',\n",
       " '06_siberia_ru.shp',\n",
       " '07_south_ru.shp',\n",
       " '08_ural_ru.shp',\n",
       " '09_volga_ru.shp']"
      ]
     },
     "execution_count": 51,
     "metadata": {},
     "output_type": "execute_result"
    }
   ],
   "source": [
    "[file for file in geo_files if re.match(r\".+\\.shp\", file)]"
   ]
  },
  {
   "cell_type": "markdown",
   "id": "fc37b388-3f17-4fa6-9958-2537c878e032",
   "metadata": {},
   "source": [
    "**Загрузка геоданных**\n",
    "- города и их геополигоны (координаты границ)"
   ]
  },
  {
   "cell_type": "code",
   "execution_count": 52,
   "id": "8f1b392d-a6f4-48dd-b130-6a7b5bfedc6d",
   "metadata": {},
   "outputs": [],
   "source": [
    "ru_cities_tentative = pd.concat([gpd.read_file(f\"./data/raw/geo/{file}\") \\\n",
    "                       .query(\"fclass =='city' or fclass =='town'\") for file in geo_files if re.match(r\".+\\.shp\", file)], \\\n",
    "                     ignore_index=True)"
   ]
  },
  {
   "cell_type": "code",
   "execution_count": 53,
   "id": "7c213e5c-89b6-4878-be70-1576b84e1ea8",
   "metadata": {},
   "outputs": [],
   "source": [
    "# сузим данные, отфильтровав по именам городов из cities_ru\n",
    "\n",
    "ru_cities_tent_subset = ru_cities_tentative.loc[ru_cities_tentative.name.isin(cities_ru.city)]\n"
   ]
  },
  {
   "cell_type": "code",
   "execution_count": 54,
   "id": "4d69c55a-745b-469b-aaac-fa80dcfff9a8",
   "metadata": {
    "scrolled": true
   },
   "outputs": [
    {
     "data": {
      "text/html": [
       "<div>\n",
       "<style scoped>\n",
       "    .dataframe tbody tr th:only-of-type {\n",
       "        vertical-align: middle;\n",
       "    }\n",
       "\n",
       "    .dataframe tbody tr th {\n",
       "        vertical-align: top;\n",
       "    }\n",
       "\n",
       "    .dataframe thead th {\n",
       "        text-align: right;\n",
       "    }\n",
       "</style>\n",
       "<table border=\"1\" class=\"dataframe\">\n",
       "  <thead>\n",
       "    <tr style=\"text-align: right;\">\n",
       "      <th></th>\n",
       "      <th>osm_id</th>\n",
       "      <th>code</th>\n",
       "      <th>fclass</th>\n",
       "      <th>population</th>\n",
       "      <th>name</th>\n",
       "      <th>geometry</th>\n",
       "    </tr>\n",
       "  </thead>\n",
       "  <tbody>\n",
       "    <tr>\n",
       "      <th>300</th>\n",
       "      <td>3401282</td>\n",
       "      <td>1002</td>\n",
       "      <td>town</td>\n",
       "      <td>0</td>\n",
       "      <td>Киров</td>\n",
       "      <td>POLYGON ((34.22729 54.09437, 34.23057 54.09479...</td>\n",
       "    </tr>\n",
       "    <tr>\n",
       "      <th>2671</th>\n",
       "      <td>2383150</td>\n",
       "      <td>1001</td>\n",
       "      <td>city</td>\n",
       "      <td>521091</td>\n",
       "      <td>Киров</td>\n",
       "      <td>MULTIPOLYGON (((49.34343 58.4958, 49.34606 58....</td>\n",
       "    </tr>\n",
       "  </tbody>\n",
       "</table>\n",
       "</div>"
      ],
      "text/plain": [
       "       osm_id  code fclass  population   name  \\\n",
       "300   3401282  1002   town           0  Киров   \n",
       "2671  2383150  1001   city      521091  Киров   \n",
       "\n",
       "                                               geometry  \n",
       "300   POLYGON ((34.22729 54.09437, 34.23057 54.09479...  \n",
       "2671  MULTIPOLYGON (((49.34343 58.4958, 49.34606 58....  "
      ]
     },
     "execution_count": 54,
     "metadata": {},
     "output_type": "execute_result"
    }
   ],
   "source": [
    "# проверка на одинаковые названия городов\n",
    "\n",
    "ru_cities_tent_subset[ru_cities_tent_subset.duplicated(\"name\", keep=False)]"
   ]
  },
  {
   "cell_type": "code",
   "execution_count": 55,
   "id": "9372b78a-1940-4fa9-aed7-7d16737c23b7",
   "metadata": {},
   "outputs": [
    {
     "data": {
      "text/html": [
       "<div>\n",
       "<style scoped>\n",
       "    .dataframe tbody tr th:only-of-type {\n",
       "        vertical-align: middle;\n",
       "    }\n",
       "\n",
       "    .dataframe tbody tr th {\n",
       "        vertical-align: top;\n",
       "    }\n",
       "\n",
       "    .dataframe thead th {\n",
       "        text-align: right;\n",
       "    }\n",
       "</style>\n",
       "<table border=\"1\" class=\"dataframe\">\n",
       "  <thead>\n",
       "    <tr style=\"text-align: right;\">\n",
       "      <th></th>\n",
       "      <th>osm_id</th>\n",
       "      <th>code</th>\n",
       "      <th>fclass</th>\n",
       "      <th>population</th>\n",
       "      <th>name</th>\n",
       "      <th>geometry</th>\n",
       "    </tr>\n",
       "  </thead>\n",
       "  <tbody>\n",
       "    <tr>\n",
       "      <th>242</th>\n",
       "      <td>930950</td>\n",
       "      <td>1001</td>\n",
       "      <td>city</td>\n",
       "      <td>425000</td>\n",
       "      <td>Тверь</td>\n",
       "      <td>MULTIPOLYGON (((35.72142 56.83594, 35.72156 56...</td>\n",
       "    </tr>\n",
       "    <tr>\n",
       "      <th>315</th>\n",
       "      <td>3134925</td>\n",
       "      <td>1001</td>\n",
       "      <td>city</td>\n",
       "      <td>503216</td>\n",
       "      <td>Липецк</td>\n",
       "      <td>MULTIPOLYGON (((39.37977 52.62677, 39.38317 52...</td>\n",
       "    </tr>\n",
       "    <tr>\n",
       "      <th>388</th>\n",
       "      <td>389790</td>\n",
       "      <td>1001</td>\n",
       "      <td>city</td>\n",
       "      <td>401505</td>\n",
       "      <td>Иваново</td>\n",
       "      <td>POLYGON ((40.86788 56.99265, 40.87023 56.99384...</td>\n",
       "    </tr>\n",
       "    <tr>\n",
       "      <th>432</th>\n",
       "      <td>3348896</td>\n",
       "      <td>1001</td>\n",
       "      <td>city</td>\n",
       "      <td>449556</td>\n",
       "      <td>Курск</td>\n",
       "      <td>POLYGON ((36.0603 51.67692, 36.06039 51.67947,...</td>\n",
       "    </tr>\n",
       "    <tr>\n",
       "      <th>438</th>\n",
       "      <td>1991003</td>\n",
       "      <td>1001</td>\n",
       "      <td>city</td>\n",
       "      <td>352347</td>\n",
       "      <td>Владимир</td>\n",
       "      <td>MULTIPOLYGON (((40.16496 56.12132, 40.16772 56...</td>\n",
       "    </tr>\n",
       "  </tbody>\n",
       "</table>\n",
       "</div>"
      ],
      "text/plain": [
       "      osm_id  code fclass  population      name  \\\n",
       "242   930950  1001   city      425000     Тверь   \n",
       "315  3134925  1001   city      503216    Липецк   \n",
       "388   389790  1001   city      401505   Иваново   \n",
       "432  3348896  1001   city      449556     Курск   \n",
       "438  1991003  1001   city      352347  Владимир   \n",
       "\n",
       "                                              geometry  \n",
       "242  MULTIPOLYGON (((35.72142 56.83594, 35.72156 56...  \n",
       "315  MULTIPOLYGON (((39.37977 52.62677, 39.38317 52...  \n",
       "388  POLYGON ((40.86788 56.99265, 40.87023 56.99384...  \n",
       "432  POLYGON ((36.0603 51.67692, 36.06039 51.67947,...  \n",
       "438  MULTIPOLYGON (((40.16496 56.12132, 40.16772 56...  "
      ]
     },
     "execution_count": 55,
     "metadata": {},
     "output_type": "execute_result"
    }
   ],
   "source": [
    "# Удалим дубликаты. Ставим флаг keep='last', чтобы оставить последний из дубликатов\n",
    "\n",
    "ru_cities_tent_subset = ru_cities_tent_subset.drop_duplicates(subset=\"name\", keep='last')\n",
    "\n",
    "ru_cities_tent_subset.head()"
   ]
  },
  {
   "cell_type": "code",
   "execution_count": 56,
   "id": "08782aae-3b42-4914-8638-22acd2f60795",
   "metadata": {},
   "outputs": [
    {
     "data": {
      "text/plain": [
       "(76, 6)"
      ]
     },
     "execution_count": 56,
     "metadata": {},
     "output_type": "execute_result"
    }
   ],
   "source": [
    "# проверим форму датафрейма\n",
    "\n",
    "ru_cities_tent_subset.shape"
   ]
  },
  {
   "cell_type": "markdown",
   "id": "a590a1b5-f89c-4ba2-ab59-6a94eca04b70",
   "metadata": {},
   "source": [
    "**Не хватает одного города, должно быть 77. Проверим какого**"
   ]
  },
  {
   "cell_type": "code",
   "execution_count": 57,
   "id": "2d5bc3b6-ebad-4b67-b81a-d5c38aef6854",
   "metadata": {},
   "outputs": [
    {
     "data": {
      "text/html": [
       "<div>\n",
       "<style scoped>\n",
       "    .dataframe tbody tr th:only-of-type {\n",
       "        vertical-align: middle;\n",
       "    }\n",
       "\n",
       "    .dataframe tbody tr th {\n",
       "        vertical-align: top;\n",
       "    }\n",
       "\n",
       "    .dataframe thead th {\n",
       "        text-align: right;\n",
       "    }\n",
       "</style>\n",
       "<table border=\"1\" class=\"dataframe\">\n",
       "  <thead>\n",
       "    <tr style=\"text-align: right;\">\n",
       "      <th></th>\n",
       "      <th>region</th>\n",
       "      <th>city</th>\n",
       "      <th>timezone</th>\n",
       "      <th>lat</th>\n",
       "      <th>lon</th>\n",
       "      <th>population</th>\n",
       "      <th>district_code</th>\n",
       "      <th>clients</th>\n",
       "    </tr>\n",
       "  </thead>\n",
       "  <tbody>\n",
       "    <tr>\n",
       "      <th>25</th>\n",
       "      <td>Дагестан</td>\n",
       "      <td>Махачкала</td>\n",
       "      <td>UTC+3</td>\n",
       "      <td>42.984857</td>\n",
       "      <td>47.50463</td>\n",
       "      <td>577990</td>\n",
       "      <td>51</td>\n",
       "      <td>61</td>\n",
       "    </tr>\n",
       "  </tbody>\n",
       "</table>\n",
       "</div>"
      ],
      "text/plain": [
       "      region       city timezone        lat       lon  population  \\\n",
       "25  Дагестан  Махачкала    UTC+3  42.984857  47.50463      577990   \n",
       "\n",
       "    district_code  clients  \n",
       "25             51       61  "
      ]
     },
     "execution_count": 57,
     "metadata": {},
     "output_type": "execute_result"
    }
   ],
   "source": [
    "# сделаем булеву маску и инвертируем ее значения.\n",
    "# Покажет True для города, который не в ru_cities_tent_subset, но есть в cities_ru\n",
    "\n",
    "cities_ru[~cities_ru.city.isin(ru_cities_tent_subset.name)]"
   ]
  },
  {
   "cell_type": "code",
   "execution_count": 58,
   "id": "74b9126d-a4a5-4584-ab1d-b63319e47398",
   "metadata": {},
   "outputs": [
    {
     "data": {
      "text/html": [
       "<div>\n",
       "<style scoped>\n",
       "    .dataframe tbody tr th:only-of-type {\n",
       "        vertical-align: middle;\n",
       "    }\n",
       "\n",
       "    .dataframe tbody tr th {\n",
       "        vertical-align: top;\n",
       "    }\n",
       "\n",
       "    .dataframe thead th {\n",
       "        text-align: right;\n",
       "    }\n",
       "</style>\n",
       "<table border=\"1\" class=\"dataframe\">\n",
       "  <thead>\n",
       "    <tr style=\"text-align: right;\">\n",
       "      <th></th>\n",
       "      <th>geometry</th>\n",
       "    </tr>\n",
       "  </thead>\n",
       "  <tbody>\n",
       "    <tr>\n",
       "      <th>0</th>\n",
       "      <td>POLYGON ((47.51911 42.90425, 47.53096 42.90538...</td>\n",
       "    </tr>\n",
       "  </tbody>\n",
       "</table>\n",
       "</div>"
      ],
      "text/plain": [
       "                                            geometry\n",
       "0  POLYGON ((47.51911 42.90425, 47.53096 42.90538..."
      ]
     },
     "execution_count": 58,
     "metadata": {},
     "output_type": "execute_result"
    }
   ],
   "source": [
    "# создадим вручную геополигон для Махачкалы на сайте https://geojson.io. Загрузим этот .geojson файл как geodataframe\n",
    "# после соединения датафреймов, мы заполним недостающие данные для Махачкалы\n",
    "\n",
    "makhachkala_poly = gpd.read_file(\"./data/raw/geo/makhachkala.geojson\")\n",
    "makhachkala_poly"
   ]
  },
  {
   "cell_type": "code",
   "execution_count": 59,
   "id": "f224d372-8cac-4ac0-8044-caf3eaa709a8",
   "metadata": {},
   "outputs": [
    {
     "data": {
      "text/plain": [
       "<Axes: >"
      ]
     },
     "execution_count": 59,
     "metadata": {},
     "output_type": "execute_result"
    },
    {
     "data": {
      "image/png": "[encoded data removed]",
      "text/plain": [
       "<Figure size 640x480 with 1 Axes>"
      ]
     },
     "metadata": {},
     "output_type": "display_data"
    }
   ],
   "source": [
    "# график чтобы проверить, что полигон правильно загрузился\n",
    "\n",
    "makhachkala_poly.plot() "
   ]
  },
  {
   "cell_type": "code",
   "execution_count": 60,
   "id": "5dbf16ef-20c9-4db8-800c-ba7395c86cb0",
   "metadata": {},
   "outputs": [
    {
     "data": {
      "text/html": [
       "<div>\n",
       "<style scoped>\n",
       "    .dataframe tbody tr th:only-of-type {\n",
       "        vertical-align: middle;\n",
       "    }\n",
       "\n",
       "    .dataframe tbody tr th {\n",
       "        vertical-align: top;\n",
       "    }\n",
       "\n",
       "    .dataframe thead th {\n",
       "        text-align: right;\n",
       "    }\n",
       "</style>\n",
       "<table border=\"1\" class=\"dataframe\">\n",
       "  <thead>\n",
       "    <tr style=\"text-align: right;\">\n",
       "      <th></th>\n",
       "      <th>name</th>\n",
       "      <th>geometry</th>\n",
       "    </tr>\n",
       "  </thead>\n",
       "  <tbody>\n",
       "    <tr>\n",
       "      <th>0</th>\n",
       "      <td>Тверь</td>\n",
       "      <td>MULTIPOLYGON (((35.72142 56.83594, 35.72156 56...</td>\n",
       "    </tr>\n",
       "    <tr>\n",
       "      <th>1</th>\n",
       "      <td>Липецк</td>\n",
       "      <td>MULTIPOLYGON (((39.37977 52.62677, 39.38317 52...</td>\n",
       "    </tr>\n",
       "    <tr>\n",
       "      <th>2</th>\n",
       "      <td>Иваново</td>\n",
       "      <td>POLYGON ((40.86788 56.99265, 40.87023 56.99384...</td>\n",
       "    </tr>\n",
       "    <tr>\n",
       "      <th>3</th>\n",
       "      <td>Курск</td>\n",
       "      <td>POLYGON ((36.0603 51.67692, 36.06039 51.67947,...</td>\n",
       "    </tr>\n",
       "    <tr>\n",
       "      <th>4</th>\n",
       "      <td>Владимир</td>\n",
       "      <td>MULTIPOLYGON (((40.16496 56.12132, 40.16772 56...</td>\n",
       "    </tr>\n",
       "  </tbody>\n",
       "</table>\n",
       "</div>"
      ],
      "text/plain": [
       "       name                                           geometry\n",
       "0     Тверь  MULTIPOLYGON (((35.72142 56.83594, 35.72156 56...\n",
       "1    Липецк  MULTIPOLYGON (((39.37977 52.62677, 39.38317 52...\n",
       "2   Иваново  POLYGON ((40.86788 56.99265, 40.87023 56.99384...\n",
       "3     Курск  POLYGON ((36.0603 51.67692, 36.06039 51.67947,...\n",
       "4  Владимир  MULTIPOLYGON (((40.16496 56.12132, 40.16772 56..."
      ]
     },
     "execution_count": 60,
     "metadata": {},
     "output_type": "execute_result"
    }
   ],
   "source": [
    "# сузим датафрейм с гео данными до двух колонок\n",
    "\n",
    "ru_cities_tent = ru_cities_tent_subset.loc[:, [\"name\", \"geometry\"]].copy().reset_index(drop=True)\n",
    "ru_cities_tent.head()"
   ]
  },
  {
   "cell_type": "markdown",
   "id": "5f8ca2d1-ec38-48c5-af10-98abd132f5d2",
   "metadata": {},
   "source": [
    "<br>"
   ]
  },
  {
   "cell_type": "markdown",
   "id": "c94d64be-bb62-4f7b-b692-9ac119a03315",
   "metadata": {},
   "source": [
    "## 2. Соедининение `cities_ru` и датафрейма с гео данными"
   ]
  },
  {
   "cell_type": "code",
   "execution_count": 61,
   "id": "54e0d489-b28c-4b1f-a936-a59f8ce8c896",
   "metadata": {},
   "outputs": [
    {
     "data": {
      "text/html": [
       "<div>\n",
       "<style scoped>\n",
       "    .dataframe tbody tr th:only-of-type {\n",
       "        vertical-align: middle;\n",
       "    }\n",
       "\n",
       "    .dataframe tbody tr th {\n",
       "        vertical-align: top;\n",
       "    }\n",
       "\n",
       "    .dataframe thead th {\n",
       "        text-align: right;\n",
       "    }\n",
       "</style>\n",
       "<table border=\"1\" class=\"dataframe\">\n",
       "  <thead>\n",
       "    <tr style=\"text-align: right;\">\n",
       "      <th></th>\n",
       "      <th>region</th>\n",
       "      <th>city</th>\n",
       "      <th>timezone</th>\n",
       "      <th>lat</th>\n",
       "      <th>lon</th>\n",
       "      <th>population</th>\n",
       "      <th>district_code</th>\n",
       "      <th>clients</th>\n",
       "      <th>name</th>\n",
       "      <th>geometry</th>\n",
       "    </tr>\n",
       "  </thead>\n",
       "  <tbody>\n",
       "    <tr>\n",
       "      <th>0</th>\n",
       "      <td>Москва</td>\n",
       "      <td>Москва</td>\n",
       "      <td>UTC+3</td>\n",
       "      <td>55.753879</td>\n",
       "      <td>37.620373</td>\n",
       "      <td>11514330</td>\n",
       "      <td>1</td>\n",
       "      <td>663</td>\n",
       "      <td>Москва</td>\n",
       "      <td>MULTIPOLYGON (((37.2905 55.80199, 37.29542 55....</td>\n",
       "    </tr>\n",
       "    <tr>\n",
       "      <th>1</th>\n",
       "      <td>Санкт-Петербург</td>\n",
       "      <td>Санкт-Петербург</td>\n",
       "      <td>UTC+3</td>\n",
       "      <td>59.939125</td>\n",
       "      <td>30.315822</td>\n",
       "      <td>4848742</td>\n",
       "      <td>74</td>\n",
       "      <td>180</td>\n",
       "      <td>Санкт-Петербург</td>\n",
       "      <td>POLYGON ((30.04334 59.76418, 30.04535 59.76553...</td>\n",
       "    </tr>\n",
       "    <tr>\n",
       "      <th>2</th>\n",
       "      <td>Новосибирская</td>\n",
       "      <td>Новосибирск</td>\n",
       "      <td>UTC+7</td>\n",
       "      <td>55.028102</td>\n",
       "      <td>82.921058</td>\n",
       "      <td>1498921</td>\n",
       "      <td>70</td>\n",
       "      <td>169</td>\n",
       "      <td>Новосибирск</td>\n",
       "      <td>MULTIPOLYGON (((82.75113 54.99103, 82.75147 54...</td>\n",
       "    </tr>\n",
       "  </tbody>\n",
       "</table>\n",
       "</div>"
      ],
      "text/plain": [
       "            region             city timezone        lat        lon  \\\n",
       "0           Москва           Москва    UTC+3  55.753879  37.620373   \n",
       "1  Санкт-Петербург  Санкт-Петербург    UTC+3  59.939125  30.315822   \n",
       "2    Новосибирская      Новосибирск    UTC+7  55.028102  82.921058   \n",
       "\n",
       "   population  district_code  clients             name  \\\n",
       "0    11514330              1      663           Москва   \n",
       "1     4848742             74      180  Санкт-Петербург   \n",
       "2     1498921             70      169      Новосибирск   \n",
       "\n",
       "                                            geometry  \n",
       "0  MULTIPOLYGON (((37.2905 55.80199, 37.29542 55....  \n",
       "1  POLYGON ((30.04334 59.76418, 30.04535 59.76553...  \n",
       "2  MULTIPOLYGON (((82.75113 54.99103, 82.75147 54...  "
      ]
     },
     "execution_count": 61,
     "metadata": {},
     "output_type": "execute_result"
    }
   ],
   "source": [
    "cities_ru_merge = cities_ru.merge(ru_cities_tent, how='left', left_on=\"city\", right_on=\"name\")\n",
    "cities_ru_merge.head(3)"
   ]
  },
  {
   "cell_type": "code",
   "execution_count": 62,
   "id": "70de7aee-eca9-4bf0-a5af-635372e769f8",
   "metadata": {
    "scrolled": true
   },
   "outputs": [
    {
     "data": {
      "text/html": [
       "<div>\n",
       "<style scoped>\n",
       "    .dataframe tbody tr th:only-of-type {\n",
       "        vertical-align: middle;\n",
       "    }\n",
       "\n",
       "    .dataframe tbody tr th {\n",
       "        vertical-align: top;\n",
       "    }\n",
       "\n",
       "    .dataframe thead th {\n",
       "        text-align: right;\n",
       "    }\n",
       "</style>\n",
       "<table border=\"1\" class=\"dataframe\">\n",
       "  <thead>\n",
       "    <tr style=\"text-align: right;\">\n",
       "      <th></th>\n",
       "      <th>region</th>\n",
       "      <th>city</th>\n",
       "      <th>timezone</th>\n",
       "      <th>lat</th>\n",
       "      <th>lon</th>\n",
       "      <th>population</th>\n",
       "      <th>district_code</th>\n",
       "      <th>clients</th>\n",
       "      <th>name</th>\n",
       "      <th>geometry</th>\n",
       "    </tr>\n",
       "  </thead>\n",
       "  <tbody>\n",
       "    <tr>\n",
       "      <th>25</th>\n",
       "      <td>Дагестан</td>\n",
       "      <td>Махачкала</td>\n",
       "      <td>UTC+3</td>\n",
       "      <td>42.984857</td>\n",
       "      <td>47.50463</td>\n",
       "      <td>577990</td>\n",
       "      <td>51</td>\n",
       "      <td>61</td>\n",
       "      <td>NaN</td>\n",
       "      <td>None</td>\n",
       "    </tr>\n",
       "  </tbody>\n",
       "</table>\n",
       "</div>"
      ],
      "text/plain": [
       "      region       city timezone        lat       lon  population  \\\n",
       "25  Дагестан  Махачкала    UTC+3  42.984857  47.50463      577990   \n",
       "\n",
       "    district_code  clients name geometry  \n",
       "25             51       61  NaN     None  "
      ]
     },
     "execution_count": 62,
     "metadata": {},
     "output_type": "execute_result"
    }
   ],
   "source": [
    "# проверка где не хватает значений после джоина\n",
    "\n",
    "cities_ru_merge[cities_ru_merge.isna().any(axis=1)]"
   ]
  },
  {
   "cell_type": "code",
   "execution_count": 63,
   "id": "567ec09c-7961-4199-800b-6fc957179e2d",
   "metadata": {},
   "outputs": [
    {
     "data": {
      "text/html": [
       "<div>\n",
       "<style scoped>\n",
       "    .dataframe tbody tr th:only-of-type {\n",
       "        vertical-align: middle;\n",
       "    }\n",
       "\n",
       "    .dataframe tbody tr th {\n",
       "        vertical-align: top;\n",
       "    }\n",
       "\n",
       "    .dataframe thead th {\n",
       "        text-align: right;\n",
       "    }\n",
       "</style>\n",
       "<table border=\"1\" class=\"dataframe\">\n",
       "  <thead>\n",
       "    <tr style=\"text-align: right;\">\n",
       "      <th></th>\n",
       "      <th>region</th>\n",
       "      <th>city</th>\n",
       "      <th>timezone</th>\n",
       "      <th>lat</th>\n",
       "      <th>lon</th>\n",
       "      <th>population</th>\n",
       "      <th>district_code</th>\n",
       "      <th>clients</th>\n",
       "      <th>name</th>\n",
       "      <th>geometry</th>\n",
       "    </tr>\n",
       "  </thead>\n",
       "  <tbody>\n",
       "    <tr>\n",
       "      <th>25</th>\n",
       "      <td>Дагестан</td>\n",
       "      <td>Махачкала</td>\n",
       "      <td>UTC+3</td>\n",
       "      <td>42.984857</td>\n",
       "      <td>47.50463</td>\n",
       "      <td>577990</td>\n",
       "      <td>51</td>\n",
       "      <td>61</td>\n",
       "      <td>NaN</td>\n",
       "      <td>POLYGON ((47.51911 42.90425, 47.53096 42.90538...</td>\n",
       "    </tr>\n",
       "  </tbody>\n",
       "</table>\n",
       "</div>"
      ],
      "text/plain": [
       "      region       city timezone        lat       lon  population  \\\n",
       "25  Дагестан  Махачкала    UTC+3  42.984857  47.50463      577990   \n",
       "\n",
       "    district_code  clients name  \\\n",
       "25             51       61  NaN   \n",
       "\n",
       "                                             geometry  \n",
       "25  POLYGON ((47.51911 42.90425, 47.53096 42.90538...  "
      ]
     },
     "execution_count": 63,
     "metadata": {},
     "output_type": "execute_result"
    }
   ],
   "source": [
    "# заполним данные о полигоне для Махачкалы\n",
    "\n",
    "cities_ru_merge.loc[cities_ru_merge.city == \"Махачкала\", \"geometry\"] = makhachkala_poly.iloc[0,0]\n",
    "cities_ru_merge.loc[cities_ru_merge.city == \"Махачкала\"]"
   ]
  },
  {
   "cell_type": "code",
   "execution_count": null,
   "id": "8684c268-b3ff-44a2-b8cd-e6120b3ed97f",
   "metadata": {},
   "outputs": [],
   "source": [
    "# удалим колонку name и clients. Они не нужны\n",
    "\n",
    "cities_ru_merge.drop(columns=[\"name\",\"clients\",] inplace=True)"
   ]
  },
  {
   "cell_type": "code",
   "execution_count": 70,
   "id": "dbe37a46-f515-4384-860b-b00b885257fd",
   "metadata": {},
   "outputs": [
    {
     "data": {
      "text/html": [
       "<div>\n",
       "<style scoped>\n",
       "    .dataframe tbody tr th:only-of-type {\n",
       "        vertical-align: middle;\n",
       "    }\n",
       "\n",
       "    .dataframe tbody tr th {\n",
       "        vertical-align: top;\n",
       "    }\n",
       "\n",
       "    .dataframe thead th {\n",
       "        text-align: right;\n",
       "    }\n",
       "</style>\n",
       "<table border=\"1\" class=\"dataframe\">\n",
       "  <thead>\n",
       "    <tr style=\"text-align: right;\">\n",
       "      <th></th>\n",
       "      <th>region</th>\n",
       "      <th>city</th>\n",
       "      <th>timezone</th>\n",
       "      <th>lat</th>\n",
       "      <th>lon</th>\n",
       "      <th>population</th>\n",
       "      <th>city_id</th>\n",
       "      <th>geometry</th>\n",
       "    </tr>\n",
       "  </thead>\n",
       "  <tbody>\n",
       "    <tr>\n",
       "      <th>0</th>\n",
       "      <td>Москва</td>\n",
       "      <td>Москва</td>\n",
       "      <td>UTC+3</td>\n",
       "      <td>55.753879</td>\n",
       "      <td>37.620373</td>\n",
       "      <td>11514330</td>\n",
       "      <td>1</td>\n",
       "      <td>MULTIPOLYGON (((37.2905 55.80199, 37.29542 55....</td>\n",
       "    </tr>\n",
       "    <tr>\n",
       "      <th>1</th>\n",
       "      <td>Санкт-Петербург</td>\n",
       "      <td>Санкт-Петербург</td>\n",
       "      <td>UTC+3</td>\n",
       "      <td>59.939125</td>\n",
       "      <td>30.315822</td>\n",
       "      <td>4848742</td>\n",
       "      <td>74</td>\n",
       "      <td>POLYGON ((30.04334 59.76418, 30.04535 59.76553...</td>\n",
       "    </tr>\n",
       "    <tr>\n",
       "      <th>2</th>\n",
       "      <td>Новосибирская</td>\n",
       "      <td>Новосибирск</td>\n",
       "      <td>UTC+7</td>\n",
       "      <td>55.028102</td>\n",
       "      <td>82.921058</td>\n",
       "      <td>1498921</td>\n",
       "      <td>70</td>\n",
       "      <td>MULTIPOLYGON (((82.75113 54.99103, 82.75147 54...</td>\n",
       "    </tr>\n",
       "  </tbody>\n",
       "</table>\n",
       "</div>"
      ],
      "text/plain": [
       "            region             city timezone        lat        lon  \\\n",
       "0           Москва           Москва    UTC+3  55.753879  37.620373   \n",
       "1  Санкт-Петербург  Санкт-Петербург    UTC+3  59.939125  30.315822   \n",
       "2    Новосибирская      Новосибирск    UTC+7  55.028102  82.921058   \n",
       "\n",
       "   population  city_id                                           geometry  \n",
       "0    11514330        1  MULTIPOLYGON (((37.2905 55.80199, 37.29542 55....  \n",
       "1     4848742       74  POLYGON ((30.04334 59.76418, 30.04535 59.76553...  \n",
       "2     1498921       70  MULTIPOLYGON (((82.75113 54.99103, 82.75147 54...  "
      ]
     },
     "execution_count": 70,
     "metadata": {},
     "output_type": "execute_result"
    }
   ],
   "source": [
    "cities_ru_merge.head(3)"
   ]
  },
  {
   "cell_type": "code",
   "execution_count": 71,
   "id": "3c3f17a7-8c46-4c74-b0a0-897fc3896570",
   "metadata": {},
   "outputs": [
    {
     "data": {
      "text/plain": [
       "(77, 8)"
      ]
     },
     "execution_count": 71,
     "metadata": {},
     "output_type": "execute_result"
    }
   ],
   "source": [
    "# проверим форму\n",
    "\n",
    "cities_ru_merge.shape"
   ]
  },
  {
   "cell_type": "code",
   "execution_count": 72,
   "id": "c7037159-5dce-43b0-b5b5-acf48d669007",
   "metadata": {},
   "outputs": [
    {
     "data": {
      "text/plain": [
       "region        0\n",
       "city          0\n",
       "timezone      0\n",
       "lat           0\n",
       "lon           0\n",
       "population    0\n",
       "city_id       0\n",
       "geometry      0\n",
       "dtype: int64"
      ]
     },
     "execution_count": 72,
     "metadata": {},
     "output_type": "execute_result"
    }
   ],
   "source": [
    "# остались ли пустые значения\n",
    "\n",
    "cities_ru_merge.isna().sum()"
   ]
  },
  {
   "cell_type": "code",
   "execution_count": 68,
   "id": "40d52046-bd01-4d03-855d-2869bb1394d2",
   "metadata": {},
   "outputs": [
    {
     "data": {
      "text/html": [
       "<div>\n",
       "<style scoped>\n",
       "    .dataframe tbody tr th:only-of-type {\n",
       "        vertical-align: middle;\n",
       "    }\n",
       "\n",
       "    .dataframe tbody tr th {\n",
       "        vertical-align: top;\n",
       "    }\n",
       "\n",
       "    .dataframe thead th {\n",
       "        text-align: right;\n",
       "    }\n",
       "</style>\n",
       "<table border=\"1\" class=\"dataframe\">\n",
       "  <thead>\n",
       "    <tr style=\"text-align: right;\">\n",
       "      <th></th>\n",
       "      <th>region</th>\n",
       "      <th>city</th>\n",
       "      <th>timezone</th>\n",
       "      <th>lat</th>\n",
       "      <th>lon</th>\n",
       "      <th>population</th>\n",
       "      <th>city_id</th>\n",
       "      <th>clients</th>\n",
       "      <th>geometry</th>\n",
       "    </tr>\n",
       "  </thead>\n",
       "  <tbody>\n",
       "    <tr>\n",
       "      <th>0</th>\n",
       "      <td>Москва</td>\n",
       "      <td>Москва</td>\n",
       "      <td>UTC+3</td>\n",
       "      <td>55.753879</td>\n",
       "      <td>37.620373</td>\n",
       "      <td>11514330</td>\n",
       "      <td>1</td>\n",
       "      <td>663</td>\n",
       "      <td>MULTIPOLYGON (((37.2905 55.80199, 37.29542 55....</td>\n",
       "    </tr>\n",
       "    <tr>\n",
       "      <th>1</th>\n",
       "      <td>Санкт-Петербург</td>\n",
       "      <td>Санкт-Петербург</td>\n",
       "      <td>UTC+3</td>\n",
       "      <td>59.939125</td>\n",
       "      <td>30.315822</td>\n",
       "      <td>4848742</td>\n",
       "      <td>74</td>\n",
       "      <td>180</td>\n",
       "      <td>POLYGON ((30.04334 59.76418, 30.04535 59.76553...</td>\n",
       "    </tr>\n",
       "    <tr>\n",
       "      <th>2</th>\n",
       "      <td>Новосибирская</td>\n",
       "      <td>Новосибирск</td>\n",
       "      <td>UTC+7</td>\n",
       "      <td>55.028102</td>\n",
       "      <td>82.921058</td>\n",
       "      <td>1498921</td>\n",
       "      <td>70</td>\n",
       "      <td>169</td>\n",
       "      <td>MULTIPOLYGON (((82.75113 54.99103, 82.75147 54...</td>\n",
       "    </tr>\n",
       "  </tbody>\n",
       "</table>\n",
       "</div>"
      ],
      "text/plain": [
       "            region             city timezone        lat        lon  \\\n",
       "0           Москва           Москва    UTC+3  55.753879  37.620373   \n",
       "1  Санкт-Петербург  Санкт-Петербург    UTC+3  59.939125  30.315822   \n",
       "2    Новосибирская      Новосибирск    UTC+7  55.028102  82.921058   \n",
       "\n",
       "   population  city_id  clients  \\\n",
       "0    11514330        1      663   \n",
       "1     4848742       74      180   \n",
       "2     1498921       70      169   \n",
       "\n",
       "                                            geometry  \n",
       "0  MULTIPOLYGON (((37.2905 55.80199, 37.29542 55....  \n",
       "1  POLYGON ((30.04334 59.76418, 30.04535 59.76553...  \n",
       "2  MULTIPOLYGON (((82.75113 54.99103, 82.75147 54...  "
      ]
     },
     "execution_count": 68,
     "metadata": {},
     "output_type": "execute_result"
    }
   ],
   "source": [
    "# переименуем колонку district_code в city_id\n",
    "\n",
    "cities_ru_merge = cities_ru_merge.rename(columns={\"district_code\":\"city_id\"})\n",
    "cities_ru_merge.head(3)"
   ]
  },
  {
   "cell_type": "markdown",
   "id": "6243d671-ecd1-4016-a0a9-11254429d044",
   "metadata": {},
   "source": [
    "### **Выгрузка `cities_ru_merge` в файл**"
   ]
  },
  {
   "cell_type": "code",
   "execution_count": 73,
   "id": "d37b3c4a-2482-4ae3-8f11-d649ff7b3775",
   "metadata": {},
   "outputs": [],
   "source": [
    "# выгрузим датафрейм т.к. он будет использоваться в других ноутбуках\n",
    "\n",
    "cities_ru_merge = gpd.GeoDataFrame(cities_ru_merge, geometry=\"geometry\", crs=\"EPSG:4326\")\n",
    "cities_ru_merge.to_file(data_paths[\"base\"][\"cities\"], layer='layer_name', driver=\"GPKG\")"
   ]
  },
  {
   "cell_type": "markdown",
   "id": "3595e19f-f371-4eb9-859c-4780ae67575e",
   "metadata": {},
   "source": [
    "<br>"
   ]
  },
  {
   "cell_type": "markdown",
   "id": "67289210-8dc6-4923-8e6b-ba462044fcfa",
   "metadata": {},
   "source": [
    "## 3. Создание геодатафрейма с точками координат центров городов"
   ]
  },
  {
   "cell_type": "code",
   "execution_count": 75,
   "id": "8f67126f-0280-4c04-b26b-6220ee5a6611",
   "metadata": {},
   "outputs": [],
   "source": [
    "# создадим отдельный датафрейм для точек центра городов. Пригодится в дальнейшем.\n",
    "\n",
    "city_centers_gdf = cities_ru_merge[[\"city\", \"lat\", \"lon\"]].copy()"
   ]
  },
  {
   "cell_type": "code",
   "execution_count": 76,
   "id": "7900e16f-dfbf-4000-ae70-fcf3b4aa1de1",
   "metadata": {},
   "outputs": [],
   "source": [
    "# Сделаем из двух колонок lat и lon колонку с точкой координат центра города\n",
    "\n",
    "city_centers_gdf[\"city_center\"] = pd.Series(list(zip(city_centers_gdf.lon, city_centers_gdf.lat))).apply(Point)"
   ]
  },
  {
   "cell_type": "code",
   "execution_count": 77,
   "id": "3e1b5835-6ffc-44c5-b6b1-ebb02ac3129a",
   "metadata": {},
   "outputs": [],
   "source": [
    "city_centers_gdf = gpd.GeoDataFrame(city_centers_gdf, geometry=\"city_center\", crs=\"EPSG:4326\")"
   ]
  },
  {
   "cell_type": "code",
   "execution_count": 78,
   "id": "7184c1df-d19d-4267-8fc9-afc608e60f98",
   "metadata": {},
   "outputs": [
    {
     "data": {
      "text/plain": [
       "(77, 4)"
      ]
     },
     "execution_count": 78,
     "metadata": {},
     "output_type": "execute_result"
    }
   ],
   "source": [
    "# проверим форму\n",
    "\n",
    "city_centers_gdf.shape"
   ]
  },
  {
   "cell_type": "code",
   "execution_count": 79,
   "id": "27471290-33b9-40c0-8600-3ef0c2b55af1",
   "metadata": {},
   "outputs": [
    {
     "data": {
      "text/plain": [
       "city             object\n",
       "lat             float64\n",
       "lon             float64\n",
       "city_center    geometry\n",
       "dtype: object"
      ]
     },
     "execution_count": 79,
     "metadata": {},
     "output_type": "execute_result"
    }
   ],
   "source": [
    "# типы данных\n",
    "\n",
    "city_centers_gdf.dtypes"
   ]
  },
  {
   "cell_type": "code",
   "execution_count": 80,
   "id": "a37e7f9e-41cf-4d98-b10d-b0539e76ad8a",
   "metadata": {},
   "outputs": [
    {
     "data": {
      "text/html": [
       "<div>\n",
       "<style scoped>\n",
       "    .dataframe tbody tr th:only-of-type {\n",
       "        vertical-align: middle;\n",
       "    }\n",
       "\n",
       "    .dataframe tbody tr th {\n",
       "        vertical-align: top;\n",
       "    }\n",
       "\n",
       "    .dataframe thead th {\n",
       "        text-align: right;\n",
       "    }\n",
       "</style>\n",
       "<table border=\"1\" class=\"dataframe\">\n",
       "  <thead>\n",
       "    <tr style=\"text-align: right;\">\n",
       "      <th></th>\n",
       "      <th>city</th>\n",
       "      <th>lat</th>\n",
       "      <th>lon</th>\n",
       "      <th>city_center</th>\n",
       "    </tr>\n",
       "  </thead>\n",
       "  <tbody>\n",
       "    <tr>\n",
       "      <th>0</th>\n",
       "      <td>Москва</td>\n",
       "      <td>55.753879</td>\n",
       "      <td>37.620373</td>\n",
       "      <td>POINT (37.62037 55.75388)</td>\n",
       "    </tr>\n",
       "    <tr>\n",
       "      <th>1</th>\n",
       "      <td>Санкт-Петербург</td>\n",
       "      <td>59.939125</td>\n",
       "      <td>30.315822</td>\n",
       "      <td>POINT (30.31582 59.93912)</td>\n",
       "    </tr>\n",
       "    <tr>\n",
       "      <th>2</th>\n",
       "      <td>Новосибирск</td>\n",
       "      <td>55.028102</td>\n",
       "      <td>82.921058</td>\n",
       "      <td>POINT (82.92106 55.0281)</td>\n",
       "    </tr>\n",
       "    <tr>\n",
       "      <th>3</th>\n",
       "      <td>Екатеринбург</td>\n",
       "      <td>56.838633</td>\n",
       "      <td>60.605489</td>\n",
       "      <td>POINT (60.60549 56.83863)</td>\n",
       "    </tr>\n",
       "    <tr>\n",
       "      <th>4</th>\n",
       "      <td>Нижний Новгород</td>\n",
       "      <td>56.324209</td>\n",
       "      <td>44.005395</td>\n",
       "      <td>POINT (44.00539 56.32421)</td>\n",
       "    </tr>\n",
       "  </tbody>\n",
       "</table>\n",
       "</div>"
      ],
      "text/plain": [
       "              city        lat        lon                city_center\n",
       "0           Москва  55.753879  37.620373  POINT (37.62037 55.75388)\n",
       "1  Санкт-Петербург  59.939125  30.315822  POINT (30.31582 59.93912)\n",
       "2      Новосибирск  55.028102  82.921058   POINT (82.92106 55.0281)\n",
       "3     Екатеринбург  56.838633  60.605489  POINT (60.60549 56.83863)\n",
       "4  Нижний Новгород  56.324209  44.005395  POINT (44.00539 56.32421)"
      ]
     },
     "execution_count": 80,
     "metadata": {},
     "output_type": "execute_result"
    }
   ],
   "source": [
    "city_centers_gdf.head()"
   ]
  },
  {
   "cell_type": "markdown",
   "id": "3e54695f-99d6-46e9-b1dd-e4d079c546fd",
   "metadata": {},
   "source": [
    "### **Выгрузка `city_centers_gdf` в файл**"
   ]
  },
  {
   "cell_type": "code",
   "execution_count": 81,
   "id": "6fc343bc-7fbb-4ce0-9872-87b048e2c530",
   "metadata": {},
   "outputs": [],
   "source": [
    "city_centers_gdf.to_file(data_paths[\"base\"][\"city_centers\"], layer='layer_name', driver=\"GPKG\")"
   ]
  },
  {
   "cell_type": "markdown",
   "id": "68aa8902-d5f7-45cf-aba4-bf3215d00bd8",
   "metadata": {},
   "source": [
    "<br>"
   ]
  },
  {
   "cell_type": "markdown",
   "id": "43b48d58-1bd6-4aec-a971-7ee553c5d92a",
   "metadata": {},
   "source": [
    "## 4. Функция генерации случайных координат внутри городов\n",
    "- нужна для создания координат оффлайн мерчантов"
   ]
  },
  {
   "cell_type": "markdown",
   "id": "c8ff6d10-b7b0-46a5-8e6d-3f35fc2e5504",
   "metadata": {},
   "source": [
    "### **А. Пример генерации координат внутри карты города**\n",
    "- Равномерное распределение точек"
   ]
  },
  {
   "cell_type": "code",
   "execution_count": 82,
   "id": "101e68a3-de45-4540-985e-4a675fc1aa18",
   "metadata": {},
   "outputs": [],
   "source": [
    "# функция генерации случайных точек в указанной зоне\n",
    "# это не сам полигон города, а четырехугольник из крайних точек полигона города\n",
    "\n",
    "def Random_Points_in_Bounds(polygon, number):   \n",
    "    minx, miny, maxx, maxy = polygon.bounds\n",
    "    x = np.random.uniform( minx, maxx, number )\n",
    "    y = np.random.uniform( miny, maxy, number )\n",
    "    return x, y"
   ]
  },
  {
   "cell_type": "code",
   "execution_count": 83,
   "id": "687f6167-9357-4f31-a089-87c1c604d9ca",
   "metadata": {},
   "outputs": [],
   "source": [
    "# пример полигона\n",
    "nn_poly = cities_ru_merge.query(\"city == 'Нижний Новгород'\").loc[:,\"geometry\"].iloc[0]"
   ]
  },
  {
   "cell_type": "code",
   "execution_count": 84,
   "id": "984a9546-e4e9-4e69-b564-24f41cfd9f77",
   "metadata": {},
   "outputs": [],
   "source": [
    "# геодатафрейм с полигоном города\n",
    "\n",
    "gdf_poly = gpd.GeoDataFrame(index=[\"myPoly\"], geometry=[nn_poly])"
   ]
  },
  {
   "cell_type": "code",
   "execution_count": 85,
   "id": "9265b8cc-ac81-4ef5-9156-50b9e9d3374a",
   "metadata": {},
   "outputs": [],
   "source": [
    "# сгенерировать 500 точек в четырехугольнике\n",
    "\n",
    "x,y = Random_Points_in_Bounds(nn_poly, 500)\n",
    "# pandas датафрейм для точек\n",
    "df = pd.DataFrame()\n",
    "# сделать кортежи с парами координат\n",
    "df['points'] = list(zip(x,y))\n",
    "# перевести кортежи в тип Point\n",
    "df['points'] = df['points'].apply(Point)\n",
    "# создать геодатафрейм из pandas датафрейма с точками\n",
    "gdf_points = gpd.GeoDataFrame(df, geometry='points')"
   ]
  },
  {
   "cell_type": "code",
   "execution_count": 86,
   "id": "557fe878-5212-4aec-907a-323476d1e4d2",
   "metadata": {
    "scrolled": true
   },
   "outputs": [
    {
     "data": {
      "image/png": "[encoded data removed]",
      "text/plain": [
       "<Figure size 640x480 with 1 Axes>"
      ]
     },
     "metadata": {},
     "output_type": "display_data"
    }
   ],
   "source": [
    "# space join. Соединение сгенерированных точек с полигоном города\n",
    "Sjoin = gpd.tools.sjoin(gdf_points, gdf_poly, predicate=\"within\", how='left')\n",
    "\n",
    "# оставить только совпадения с gdf_poly\n",
    "pnts_in_poly = gdf_points[Sjoin.index_right=='myPoly']\n",
    "\n",
    "# Построим график с результатом\n",
    "base = gdf_poly.boundary.plot(linewidth=1, edgecolor=\"black\")\n",
    "pnts_in_poly.plot(ax=base, linewidth=1, color=\"red\", markersize=8)\n",
    "plt.show()"
   ]
  },
  {
   "cell_type": "markdown",
   "id": "c7272d6d-98be-46ff-848e-c1a565bb947b",
   "metadata": {},
   "source": [
    "### **Б. Функция генерации координат внутри города(полигона)**"
   ]
  },
  {
   "cell_type": "code",
   "execution_count": 87,
   "id": "419a86fb-25a5-43c1-91e9-546559d95552",
   "metadata": {},
   "outputs": [],
   "source": [
    "def gen_trans_coordinates(polygon, number):\n",
    "    \"\"\"\n",
    "    Функция генерации координат внутри города(полигона)\n",
    "    \"\"\"\n",
    "    x,y = Random_Points_in_Bounds(polygon, number)\n",
    "    df = pd.DataFrame()\n",
    "    df['points'] = list(zip(x,y))\n",
    "    df['points'] = df['points'].apply(Point)\n",
    "    gdf_points = gpd.GeoDataFrame(df, geometry='points')\n",
    "\n",
    "    gdf_poly = gpd.GeoDataFrame(index=[\"myPoly\"], geometry=[polygon])\n",
    "    \n",
    "    Sjoin = gpd.tools.sjoin(gdf_points, gdf_poly, predicate=\"within\", how='left')\n",
    "\n",
    "    # Оставить точки внутри \"myPoly\"\n",
    "    pnts_in_poly = gdf_points[Sjoin.index_right=='myPoly']\n",
    "\n",
    "    return pnts_in_poly, gdf_poly"
   ]
  },
  {
   "cell_type": "code",
   "execution_count": 88,
   "id": "51085f60-f33f-4baf-96f0-bf4b15157437",
   "metadata": {},
   "outputs": [
    {
     "data": {
      "image/png": "[encoded data removed]",
      "text/plain": [
       "<Figure size 640x480 with 1 Axes>"
      ]
     },
     "metadata": {},
     "output_type": "display_data"
    }
   ],
   "source": [
    "#  Проверим функцию\n",
    "pnts_in_poly = gpd.GeoDataFrame()\n",
    "gdf_poly = gpd.GeoDataFrame()\n",
    "\n",
    "while pnts_in_poly.empty:\n",
    "    pnts_in_poly, gdf_poly = gen_trans_coordinates(nn_poly, 1)\n",
    "\n",
    "base = gdf_poly.boundary.plot(linewidth=1, edgecolor=\"black\")\n",
    "pnts_in_poly.plot(ax=base, linewidth=1, color=\"red\", markersize=8)\n",
    "plt.show()"
   ]
  }
 ],
 "metadata": {
  "kernelspec": {
   "display_name": "Python 3 (ipykernel)",
   "language": "python",
   "name": "python3"
  },
  "language_info": {
   "codemirror_mode": {
    "name": "ipython",
    "version": 3
   },
   "file_extension": ".py",
   "mimetype": "text/x-python",
   "name": "python",
   "nbconvert_exporter": "python",
   "pygments_lexer": "ipython3",
   "version": "3.12.9"
  }
 },
 "nbformat": 4,
 "nbformat_minor": 5
}
