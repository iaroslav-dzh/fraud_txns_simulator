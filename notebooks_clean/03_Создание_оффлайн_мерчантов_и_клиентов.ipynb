{
 "cells": [
  {
   "cell_type": "markdown",
   "id": "e57789c0-9887-43bd-8b33-d1cc6a58cf31",
   "metadata": {},
   "source": [
    "# **Генерация оффлайн мерчантов и клиентов**"
   ]
  },
  {
   "cell_type": "markdown",
   "id": "da868dbe-f97a-4705-a490-8354fa1774ce",
   "metadata": {},
   "source": [
    "- **ноутбуки лучше просматривать** на Github pages, т.к. при просмотре прямо в репозитории могут быть проблемы с отображением, например, обрезка вывода с широкими датафреймами. **Если в адресной строке браузера есть** `iaroslav-dzh.github.io`, то вы уже на Github pages.  \n",
    "Ссылки:\n",
    "    -  **[Ссылка](https://iaroslav-dzh.github.io/fraud_txns_simulator/notebooks/03_%D0%A1%D0%BE%D0%B7%D0%B4%D0%B0%D0%BD%D0%B8%D0%B5_%D0%BE%D1%84%D1%84%D0%BB%D0%B0%D0%B9%D0%BD_%D0%BC%D0%B5%D1%80%D1%87%D0%B0%D0%BD%D1%82%D0%BE%D0%B2_%D0%B8_%D0%BA%D0%BB%D0%B8%D0%B5%D0%BD%D1%82%D0%BE%D0%B2.html)** на этот ноутбук\n",
    "    -  **[Ссылка](https://iaroslav-dzh.github.io/fraud_txns_simulator/02_Страница_генератора_транзакций.html)** на страницу генератора где есть все ноутбуки   \n",
    "\n",
    "**Информация о ноутбуке**\n",
    "- генерация оффлайн мерчантов для каждого города:\n",
    "    - мерчанты в каждой категории товаров/услуг\n",
    "    - создание координат в пределах городов для каждого мерчанта\n",
    "    - уникальные id для каждого мерчанта\n",
    "- создание датасета с клиентами:\n",
    "    - возьмем ранее очищенный датасет\n",
    "    - добавим клиентам информацию о городах\n",
    "    - сместим даты рождения клиентов на ~30 лет вперед для большей релевантности к 2025 году"
   ]
  },
  {
   "cell_type": "code",
   "execution_count": null,
   "id": "c30e67d7-4a3c-4d29-9477-ab02b02e86fc",
   "metadata": {},
   "outputs": [],
   "source": [
    "import pandas as pd\n",
    "import numpy as np\n",
    "import matplotlib.pyplot as plt\n",
    "import os\n",
    "import geopandas as gpd\n",
    "import pyarrow\n",
    "from data_generator.utils import load_configs, gen_trans_coordinates"
   ]
  },
  {
   "cell_type": "code",
   "execution_count": 2,
   "id": "6c6c9867-8d32-4b4d-9923-2b2f5711bfc8",
   "metadata": {},
   "outputs": [],
   "source": [
    "np.set_printoptions(suppress=True)\n",
    "pd.set_option('display.max_columns', None)"
   ]
  },
  {
   "cell_type": "code",
   "execution_count": 3,
   "id": "71fc90ba-44d1-4bc6-b2a3-edda53a9123b",
   "metadata": {},
   "outputs": [
    {
     "data": {
      "text/plain": [
       "'c:\\\\Users\\\\iaros\\\\My_documents\\\\Education\\\\projects\\\\fraud_detection_01'"
      ]
     },
     "execution_count": 3,
     "metadata": {},
     "output_type": "execute_result"
    }
   ],
   "source": [
    "os.chdir(\"..\")\n",
    "os.getcwd()"
   ]
  },
  {
   "cell_type": "code",
   "execution_count": 7,
   "id": "21eb36f7",
   "metadata": {},
   "outputs": [],
   "source": [
    "# Загрузка базовых конфигов\n",
    "base_cfg = load_configs(\"./config/base.yaml\")"
   ]
  },
  {
   "cell_type": "code",
   "execution_count": 8,
   "id": "221ce584-cedb-4e3d-87dc-ab314c23ce30",
   "metadata": {},
   "outputs": [],
   "source": [
    "# Пути к файлам\n",
    "data_paths = base_cfg[\"data_paths\"]"
   ]
  },
  {
   "cell_type": "code",
   "execution_count": 9,
   "id": "d39c3990",
   "metadata": {},
   "outputs": [],
   "source": [
    "cities_path = data_paths[\"base\"][\"cities\"]\n",
    "cities = gpd.read_file(cities_path)"
   ]
  },
  {
   "cell_type": "markdown",
   "id": "b473f814-8ad1-45b9-8495-d6b906abe4e9",
   "metadata": {},
   "source": [
    "<br>"
   ]
  },
  {
   "cell_type": "markdown",
   "id": "1ceed23f",
   "metadata": {},
   "source": [
    "# **Генерация оффлайн мерчантов**\n",
    "- создание мерчантов для каждого города с разными координатами"
   ]
  },
  {
   "cell_type": "markdown",
   "id": "dbec7bf9-780d-41e4-82a0-84ec1c477370",
   "metadata": {},
   "source": [
    "<br>"
   ]
  },
  {
   "cell_type": "code",
   "execution_count": 10,
   "id": "1276e227-7dc7-4602-ac0f-c0d3507f6b6a",
   "metadata": {},
   "outputs": [],
   "source": [
    "# загрузим датасет по фрод транзакциям для заимстования категорий товаров и их средних цен, и других параметров.\n",
    "# Он взят с Kaggle вот отсюда: https://www.kaggle.com/datasets/kartik2112/fraud-detection\n",
    "\n",
    "fraud_kaggle = pd.read_csv(\"./data/raw/fraudTest.csv.zip\", \\\n",
    "                          compression=\"zip\")"
   ]
  },
  {
   "cell_type": "code",
   "execution_count": 11,
   "id": "412c4234-10f3-45b1-8926-c64290f761ad",
   "metadata": {},
   "outputs": [
    {
     "data": {
      "text/html": [
       "<div>\n",
       "<style scoped>\n",
       "    .dataframe tbody tr th:only-of-type {\n",
       "        vertical-align: middle;\n",
       "    }\n",
       "\n",
       "    .dataframe tbody tr th {\n",
       "        vertical-align: top;\n",
       "    }\n",
       "\n",
       "    .dataframe thead th {\n",
       "        text-align: right;\n",
       "    }\n",
       "</style>\n",
       "<table border=\"1\" class=\"dataframe\">\n",
       "  <thead>\n",
       "    <tr style=\"text-align: right;\">\n",
       "      <th></th>\n",
       "      <th>Unnamed: 0</th>\n",
       "      <th>trans_date_trans_time</th>\n",
       "      <th>cc_num</th>\n",
       "      <th>merchant</th>\n",
       "      <th>category</th>\n",
       "      <th>amt</th>\n",
       "      <th>first</th>\n",
       "      <th>last</th>\n",
       "      <th>gender</th>\n",
       "      <th>street</th>\n",
       "      <th>city</th>\n",
       "      <th>state</th>\n",
       "      <th>zip</th>\n",
       "      <th>lat</th>\n",
       "      <th>long</th>\n",
       "      <th>city_pop</th>\n",
       "      <th>job</th>\n",
       "      <th>dob</th>\n",
       "      <th>trans_num</th>\n",
       "      <th>unix_time</th>\n",
       "      <th>merch_lat</th>\n",
       "      <th>merch_long</th>\n",
       "      <th>is_fraud</th>\n",
       "    </tr>\n",
       "  </thead>\n",
       "  <tbody>\n",
       "    <tr>\n",
       "      <th>0</th>\n",
       "      <td>0</td>\n",
       "      <td>2020-06-21 12:14:25</td>\n",
       "      <td>2291163933867244</td>\n",
       "      <td>fraud_Kirlin and Sons</td>\n",
       "      <td>personal_care</td>\n",
       "      <td>2.86</td>\n",
       "      <td>Jeff</td>\n",
       "      <td>Elliott</td>\n",
       "      <td>M</td>\n",
       "      <td>351 Darlene Green</td>\n",
       "      <td>Columbia</td>\n",
       "      <td>SC</td>\n",
       "      <td>29209</td>\n",
       "      <td>33.9659</td>\n",
       "      <td>-80.9355</td>\n",
       "      <td>333497</td>\n",
       "      <td>Mechanical engineer</td>\n",
       "      <td>1968-03-19</td>\n",
       "      <td>2da90c7d74bd46a0caf3777415b3ebd3</td>\n",
       "      <td>1371816865</td>\n",
       "      <td>33.986391</td>\n",
       "      <td>-81.200714</td>\n",
       "      <td>0</td>\n",
       "    </tr>\n",
       "  </tbody>\n",
       "</table>\n",
       "</div>"
      ],
      "text/plain": [
       "   Unnamed: 0 trans_date_trans_time            cc_num               merchant  \\\n",
       "0           0   2020-06-21 12:14:25  2291163933867244  fraud_Kirlin and Sons   \n",
       "\n",
       "        category   amt first     last gender             street      city  \\\n",
       "0  personal_care  2.86  Jeff  Elliott      M  351 Darlene Green  Columbia   \n",
       "\n",
       "  state    zip      lat     long  city_pop                  job         dob  \\\n",
       "0    SC  29209  33.9659 -80.9355    333497  Mechanical engineer  1968-03-19   \n",
       "\n",
       "                          trans_num   unix_time  merch_lat  merch_long  \\\n",
       "0  2da90c7d74bd46a0caf3777415b3ebd3  1371816865  33.986391  -81.200714   \n",
       "\n",
       "   is_fraud  \n",
       "0         0  "
      ]
     },
     "execution_count": 11,
     "metadata": {},
     "output_type": "execute_result"
    }
   ],
   "source": [
    "fraud_kaggle.head(1)"
   ]
  },
  {
   "cell_type": "markdown",
   "id": "de647209-ff68-4b11-ba1d-74020b7a9978",
   "metadata": {},
   "source": [
    "## 1. Данные по категориям покупок\n",
    "- в целом нужны для генерации транзакций, но сейчас нужны названия категорий и их онлайн статус для создания оффлайн мерчантов на основании оффлайн категорий"
   ]
  },
  {
   "cell_type": "code",
   "execution_count": 12,
   "id": "3c45ab9b-9072-4e12-b143-2d9f148ad68b",
   "metadata": {
    "scrolled": true
   },
   "outputs": [
    {
     "data": {
      "text/html": [
       "<div>\n",
       "<style scoped>\n",
       "    .dataframe tbody tr th:only-of-type {\n",
       "        vertical-align: middle;\n",
       "    }\n",
       "\n",
       "    .dataframe tbody tr th {\n",
       "        vertical-align: top;\n",
       "    }\n",
       "\n",
       "    .dataframe thead th {\n",
       "        text-align: right;\n",
       "    }\n",
       "</style>\n",
       "<table border=\"1\" class=\"dataframe\">\n",
       "  <thead>\n",
       "    <tr style=\"text-align: right;\">\n",
       "      <th></th>\n",
       "      <th>category</th>\n",
       "      <th>avg_amt</th>\n",
       "      <th>amt_std</th>\n",
       "      <th>cat_count</th>\n",
       "    </tr>\n",
       "  </thead>\n",
       "  <tbody>\n",
       "    <tr>\n",
       "      <th>0</th>\n",
       "      <td>gas_transport</td>\n",
       "      <td>63.577001</td>\n",
       "      <td>15.828399</td>\n",
       "      <td>56370</td>\n",
       "    </tr>\n",
       "    <tr>\n",
       "      <th>1</th>\n",
       "      <td>grocery_pos</td>\n",
       "      <td>115.885327</td>\n",
       "      <td>51.552330</td>\n",
       "      <td>52553</td>\n",
       "    </tr>\n",
       "    <tr>\n",
       "      <th>2</th>\n",
       "      <td>home</td>\n",
       "      <td>57.995413</td>\n",
       "      <td>48.085281</td>\n",
       "      <td>52345</td>\n",
       "    </tr>\n",
       "    <tr>\n",
       "      <th>3</th>\n",
       "      <td>shopping_pos</td>\n",
       "      <td>76.862457</td>\n",
       "      <td>232.484678</td>\n",
       "      <td>49791</td>\n",
       "    </tr>\n",
       "    <tr>\n",
       "      <th>4</th>\n",
       "      <td>kids_pets</td>\n",
       "      <td>57.506913</td>\n",
       "      <td>48.748482</td>\n",
       "      <td>48692</td>\n",
       "    </tr>\n",
       "    <tr>\n",
       "      <th>5</th>\n",
       "      <td>shopping_net</td>\n",
       "      <td>83.481653</td>\n",
       "      <td>237.219758</td>\n",
       "      <td>41779</td>\n",
       "    </tr>\n",
       "    <tr>\n",
       "      <th>6</th>\n",
       "      <td>entertainment</td>\n",
       "      <td>63.984840</td>\n",
       "      <td>64.229935</td>\n",
       "      <td>40104</td>\n",
       "    </tr>\n",
       "    <tr>\n",
       "      <th>7</th>\n",
       "      <td>personal_care</td>\n",
       "      <td>48.233021</td>\n",
       "      <td>49.410941</td>\n",
       "      <td>39327</td>\n",
       "    </tr>\n",
       "    <tr>\n",
       "      <th>8</th>\n",
       "      <td>food_dining</td>\n",
       "      <td>50.777938</td>\n",
       "      <td>48.449053</td>\n",
       "      <td>39268</td>\n",
       "    </tr>\n",
       "    <tr>\n",
       "      <th>9</th>\n",
       "      <td>health_fitness</td>\n",
       "      <td>53.867432</td>\n",
       "      <td>47.965251</td>\n",
       "      <td>36674</td>\n",
       "    </tr>\n",
       "    <tr>\n",
       "      <th>10</th>\n",
       "      <td>misc_pos</td>\n",
       "      <td>62.182246</td>\n",
       "      <td>133.987228</td>\n",
       "      <td>34574</td>\n",
       "    </tr>\n",
       "    <tr>\n",
       "      <th>11</th>\n",
       "      <td>misc_net</td>\n",
       "      <td>78.600237</td>\n",
       "      <td>163.639089</td>\n",
       "      <td>27367</td>\n",
       "    </tr>\n",
       "    <tr>\n",
       "      <th>12</th>\n",
       "      <td>grocery_net</td>\n",
       "      <td>53.731667</td>\n",
       "      <td>22.908437</td>\n",
       "      <td>19426</td>\n",
       "    </tr>\n",
       "    <tr>\n",
       "      <th>13</th>\n",
       "      <td>travel</td>\n",
       "      <td>112.389683</td>\n",
       "      <td>595.946295</td>\n",
       "      <td>17449</td>\n",
       "    </tr>\n",
       "  </tbody>\n",
       "</table>\n",
       "</div>"
      ],
      "text/plain": [
       "          category     avg_amt     amt_std  cat_count\n",
       "0    gas_transport   63.577001   15.828399      56370\n",
       "1      grocery_pos  115.885327   51.552330      52553\n",
       "2             home   57.995413   48.085281      52345\n",
       "3     shopping_pos   76.862457  232.484678      49791\n",
       "4        kids_pets   57.506913   48.748482      48692\n",
       "5     shopping_net   83.481653  237.219758      41779\n",
       "6    entertainment   63.984840   64.229935      40104\n",
       "7    personal_care   48.233021   49.410941      39327\n",
       "8      food_dining   50.777938   48.449053      39268\n",
       "9   health_fitness   53.867432   47.965251      36674\n",
       "10        misc_pos   62.182246  133.987228      34574\n",
       "11        misc_net   78.600237  163.639089      27367\n",
       "12     grocery_net   53.731667   22.908437      19426\n",
       "13          travel  112.389683  595.946295      17449"
      ]
     },
     "execution_count": 12,
     "metadata": {},
     "output_type": "execute_result"
    }
   ],
   "source": [
    "category_stats = fraud_kaggle.groupby(\"category\").agg({\"amt\":[\"mean\",\"std\"], \"category\":\"count\"})\n",
    "category_stats.columns = [\"avg_amt\", \"amt_std\", \"cat_count\"]\n",
    "category_stats = category_stats.sort_values(\"cat_count\",ascending=False).reset_index()\n",
    "category_stats"
   ]
  },
  {
   "cell_type": "markdown",
   "id": "55aeb9be-6596-4fd0-9ead-867f3be7ca9a",
   "metadata": {},
   "source": [
    "**Выгрузка category_stats в csv файл**  \n",
    "Эти данные понадобятся в других ноутбуках"
   ]
  },
  {
   "cell_type": "code",
   "execution_count": 86,
   "id": "05c44bbe-f01f-48d9-9c79-000c0ab3d374",
   "metadata": {},
   "outputs": [],
   "source": [
    "category_stats.to_csv(\"./data/base/category_stats.csv\", index=False)"
   ]
  },
  {
   "cell_type": "code",
   "execution_count": 13,
   "id": "fd51a52f-1685-4dbd-8d85-06394056e2d4",
   "metadata": {},
   "outputs": [
    {
     "data": {
      "text/html": [
       "<div>\n",
       "<style scoped>\n",
       "    .dataframe tbody tr th:only-of-type {\n",
       "        vertical-align: middle;\n",
       "    }\n",
       "\n",
       "    .dataframe tbody tr th {\n",
       "        vertical-align: top;\n",
       "    }\n",
       "\n",
       "    .dataframe thead th {\n",
       "        text-align: right;\n",
       "    }\n",
       "</style>\n",
       "<table border=\"1\" class=\"dataframe\">\n",
       "  <thead>\n",
       "    <tr style=\"text-align: right;\">\n",
       "      <th></th>\n",
       "      <th>category</th>\n",
       "      <th>avg_amt</th>\n",
       "      <th>amt_std</th>\n",
       "      <th>cat_count</th>\n",
       "    </tr>\n",
       "  </thead>\n",
       "  <tbody>\n",
       "    <tr>\n",
       "      <th>0</th>\n",
       "      <td>gas_transport</td>\n",
       "      <td>63.577001</td>\n",
       "      <td>15.828399</td>\n",
       "      <td>56370</td>\n",
       "    </tr>\n",
       "    <tr>\n",
       "      <th>1</th>\n",
       "      <td>grocery_pos</td>\n",
       "      <td>115.885327</td>\n",
       "      <td>51.552330</td>\n",
       "      <td>52553</td>\n",
       "    </tr>\n",
       "    <tr>\n",
       "      <th>2</th>\n",
       "      <td>home</td>\n",
       "      <td>57.995413</td>\n",
       "      <td>48.085281</td>\n",
       "      <td>52345</td>\n",
       "    </tr>\n",
       "    <tr>\n",
       "      <th>3</th>\n",
       "      <td>shopping_pos</td>\n",
       "      <td>76.862457</td>\n",
       "      <td>232.484678</td>\n",
       "      <td>49791</td>\n",
       "    </tr>\n",
       "    <tr>\n",
       "      <th>4</th>\n",
       "      <td>kids_pets</td>\n",
       "      <td>57.506913</td>\n",
       "      <td>48.748482</td>\n",
       "      <td>48692</td>\n",
       "    </tr>\n",
       "    <tr>\n",
       "      <th>5</th>\n",
       "      <td>entertainment</td>\n",
       "      <td>63.984840</td>\n",
       "      <td>64.229935</td>\n",
       "      <td>40104</td>\n",
       "    </tr>\n",
       "    <tr>\n",
       "      <th>6</th>\n",
       "      <td>personal_care</td>\n",
       "      <td>48.233021</td>\n",
       "      <td>49.410941</td>\n",
       "      <td>39327</td>\n",
       "    </tr>\n",
       "    <tr>\n",
       "      <th>7</th>\n",
       "      <td>food_dining</td>\n",
       "      <td>50.777938</td>\n",
       "      <td>48.449053</td>\n",
       "      <td>39268</td>\n",
       "    </tr>\n",
       "    <tr>\n",
       "      <th>8</th>\n",
       "      <td>health_fitness</td>\n",
       "      <td>53.867432</td>\n",
       "      <td>47.965251</td>\n",
       "      <td>36674</td>\n",
       "    </tr>\n",
       "    <tr>\n",
       "      <th>9</th>\n",
       "      <td>misc_pos</td>\n",
       "      <td>62.182246</td>\n",
       "      <td>133.987228</td>\n",
       "      <td>34574</td>\n",
       "    </tr>\n",
       "    <tr>\n",
       "      <th>10</th>\n",
       "      <td>travel</td>\n",
       "      <td>112.389683</td>\n",
       "      <td>595.946295</td>\n",
       "      <td>17449</td>\n",
       "    </tr>\n",
       "  </tbody>\n",
       "</table>\n",
       "</div>"
      ],
      "text/plain": [
       "          category     avg_amt     amt_std  cat_count\n",
       "0    gas_transport   63.577001   15.828399      56370\n",
       "1      grocery_pos  115.885327   51.552330      52553\n",
       "2             home   57.995413   48.085281      52345\n",
       "3     shopping_pos   76.862457  232.484678      49791\n",
       "4        kids_pets   57.506913   48.748482      48692\n",
       "5    entertainment   63.984840   64.229935      40104\n",
       "6    personal_care   48.233021   49.410941      39327\n",
       "7      food_dining   50.777938   48.449053      39268\n",
       "8   health_fitness   53.867432   47.965251      36674\n",
       "9         misc_pos   62.182246  133.987228      34574\n",
       "10          travel  112.389683  595.946295      17449"
      ]
     },
     "execution_count": 13,
     "metadata": {},
     "output_type": "execute_result"
    }
   ],
   "source": [
    "# т.к. генерируем оффлайн мерчантов, то берем оффлайн категории\n",
    "\n",
    "offline_categories = category_stats[~category_stats.category.str.contains(\"net\")].reset_index(drop=True)\n",
    "offline_categories"
   ]
  },
  {
   "cell_type": "markdown",
   "id": "a61ba3b8-1ff3-462e-be0e-5c980ce2d81c",
   "metadata": {},
   "source": [
    "<br>"
   ]
  },
  {
   "cell_type": "markdown",
   "id": "ab4d7013-c954-4d90-ac41-73b2cd6a7ea9",
   "metadata": {},
   "source": [
    "## 2. Кросс джойн категорий и городов - подготовительная таблица мерчантов\n",
    "- таким образом получим все категории во всех городах, чтобы в каждом городе были мерчанты всех категорий"
   ]
  },
  {
   "cell_type": "code",
   "execution_count": 14,
   "id": "ad1589ef-1c85-4459-8685-4f70d5491014",
   "metadata": {
    "scrolled": true
   },
   "outputs": [
    {
     "data": {
      "text/html": [
       "<div>\n",
       "<style scoped>\n",
       "    .dataframe tbody tr th:only-of-type {\n",
       "        vertical-align: middle;\n",
       "    }\n",
       "\n",
       "    .dataframe tbody tr th {\n",
       "        vertical-align: top;\n",
       "    }\n",
       "\n",
       "    .dataframe thead th {\n",
       "        text-align: right;\n",
       "    }\n",
       "</style>\n",
       "<table border=\"1\" class=\"dataframe\">\n",
       "  <thead>\n",
       "    <tr style=\"text-align: right;\">\n",
       "      <th></th>\n",
       "      <th>region</th>\n",
       "      <th>city</th>\n",
       "      <th>timezone</th>\n",
       "      <th>lat</th>\n",
       "      <th>lon</th>\n",
       "      <th>population</th>\n",
       "      <th>city_id</th>\n",
       "      <th>geometry</th>\n",
       "      <th>category</th>\n",
       "      <th>avg_amt</th>\n",
       "      <th>amt_std</th>\n",
       "      <th>cat_count</th>\n",
       "    </tr>\n",
       "  </thead>\n",
       "  <tbody>\n",
       "    <tr>\n",
       "      <th>0</th>\n",
       "      <td>Москва</td>\n",
       "      <td>Москва</td>\n",
       "      <td>UTC+3</td>\n",
       "      <td>55.753879</td>\n",
       "      <td>37.620373</td>\n",
       "      <td>11514330</td>\n",
       "      <td>1</td>\n",
       "      <td>MULTIPOLYGON (((37.2905 55.80199, 37.29542 55....</td>\n",
       "      <td>gas_transport</td>\n",
       "      <td>63.577001</td>\n",
       "      <td>15.828399</td>\n",
       "      <td>56370</td>\n",
       "    </tr>\n",
       "    <tr>\n",
       "      <th>1</th>\n",
       "      <td>Москва</td>\n",
       "      <td>Москва</td>\n",
       "      <td>UTC+3</td>\n",
       "      <td>55.753879</td>\n",
       "      <td>37.620373</td>\n",
       "      <td>11514330</td>\n",
       "      <td>1</td>\n",
       "      <td>MULTIPOLYGON (((37.2905 55.80199, 37.29542 55....</td>\n",
       "      <td>grocery_pos</td>\n",
       "      <td>115.885327</td>\n",
       "      <td>51.552330</td>\n",
       "      <td>52553</td>\n",
       "    </tr>\n",
       "    <tr>\n",
       "      <th>2</th>\n",
       "      <td>Москва</td>\n",
       "      <td>Москва</td>\n",
       "      <td>UTC+3</td>\n",
       "      <td>55.753879</td>\n",
       "      <td>37.620373</td>\n",
       "      <td>11514330</td>\n",
       "      <td>1</td>\n",
       "      <td>MULTIPOLYGON (((37.2905 55.80199, 37.29542 55....</td>\n",
       "      <td>home</td>\n",
       "      <td>57.995413</td>\n",
       "      <td>48.085281</td>\n",
       "      <td>52345</td>\n",
       "    </tr>\n",
       "  </tbody>\n",
       "</table>\n",
       "</div>"
      ],
      "text/plain": [
       "   region    city timezone        lat        lon  population  city_id  \\\n",
       "0  Москва  Москва    UTC+3  55.753879  37.620373    11514330        1   \n",
       "1  Москва  Москва    UTC+3  55.753879  37.620373    11514330        1   \n",
       "2  Москва  Москва    UTC+3  55.753879  37.620373    11514330        1   \n",
       "\n",
       "                                            geometry       category  \\\n",
       "0  MULTIPOLYGON (((37.2905 55.80199, 37.29542 55....  gas_transport   \n",
       "1  MULTIPOLYGON (((37.2905 55.80199, 37.29542 55....    grocery_pos   \n",
       "2  MULTIPOLYGON (((37.2905 55.80199, 37.29542 55....           home   \n",
       "\n",
       "      avg_amt    amt_std  cat_count  \n",
       "0   63.577001  15.828399      56370  \n",
       "1  115.885327  51.552330      52553  \n",
       "2   57.995413  48.085281      52345  "
      ]
     },
     "execution_count": 14,
     "metadata": {},
     "output_type": "execute_result"
    }
   ],
   "source": [
    "# подготовительный датафрейм для генерации оффлайн мерантов\n",
    "# cross join чтобы к каждому городу присоединить категорию покупки. Это будет категория мерчанта\n",
    "\n",
    "offline_merchants_prep = cities.merge(offline_categories, how=\"cross\").sort_values(\"population\", ascending=False)\n",
    "offline_merchants_prep.head(3)"
   ]
  },
  {
   "cell_type": "code",
   "execution_count": 15,
   "id": "9de3897b",
   "metadata": {},
   "outputs": [
    {
     "data": {
      "text/plain": [
       "Index(['region', 'city', 'timezone', 'lat', 'lon', 'population', 'city_id',\n",
       "       'geometry', 'category', 'avg_amt', 'amt_std', 'cat_count'],\n",
       "      dtype='object')"
      ]
     },
     "execution_count": 15,
     "metadata": {},
     "output_type": "execute_result"
    }
   ],
   "source": [
    "offline_merchants_prep.columns"
   ]
  },
  {
   "cell_type": "code",
   "execution_count": 16,
   "id": "30f9b274",
   "metadata": {},
   "outputs": [],
   "source": [
    "# Уберем некоторые колонки\n",
    "\n",
    "offline_merchants_prep.drop(columns=['region', 'timezone', 'population','avg_amt', \\\n",
    "                                     'amt_std', 'cat_count'], inplace=True)"
   ]
  },
  {
   "cell_type": "markdown",
   "id": "375a5bf7-0805-4039-899c-511b82fba455",
   "metadata": {},
   "source": [
    "<br>"
   ]
  },
  {
   "cell_type": "markdown",
   "id": "928e2679-4f45-4448-bc55-e68f6c2e6f8a",
   "metadata": {},
   "source": [
    "## 3. Увеличение количества мерчантов в каждом городе\n",
    "- в каждом городе будет несколько мерчантов на каждую категорию"
   ]
  },
  {
   "cell_type": "code",
   "execution_count": 17,
   "id": "05e77935-19cb-49bd-9adf-6fc6b2769349",
   "metadata": {},
   "outputs": [],
   "source": [
    "# сделаем 8 мерчантов по каждой категории в каждом городе\n",
    "\n",
    "offline_merchants = offline_merchants_prep.copy()\n",
    "\n",
    "for i in range(1,8):\n",
    "    df = offline_merchants_prep.copy()\n",
    "    offline_merchants = pd.concat([offline_merchants, df], ignore_index=True)"
   ]
  },
  {
   "cell_type": "code",
   "execution_count": 18,
   "id": "6914dabe-bf47-4b7c-a5d8-6ccbb91ec060",
   "metadata": {},
   "outputs": [
    {
     "data": {
      "text/plain": [
       "(6776, 6)"
      ]
     },
     "execution_count": 18,
     "metadata": {},
     "output_type": "execute_result"
    }
   ],
   "source": [
    "offline_merchants.shape"
   ]
  },
  {
   "cell_type": "markdown",
   "id": "19d0188c-7d92-473d-af26-bd2ed9ad3800",
   "metadata": {},
   "source": [
    "<br>"
   ]
  },
  {
   "cell_type": "markdown",
   "id": "fb21cdd1-8fff-4df8-ac90-530a6f730f95",
   "metadata": {},
   "source": [
    "## 4. Генерация id мерчантов"
   ]
  },
  {
   "cell_type": "code",
   "execution_count": 19,
   "id": "ab383955-6f29-4b77-a7c9-2336d20a1c1a",
   "metadata": {},
   "outputs": [],
   "source": [
    "# дадим мерчантам id. Просто числа, начиная с 1\n",
    "\n",
    "merchant_id = 1\n",
    "for row in offline_merchants.itertuples():\n",
    "        offline_merchants.loc[row.Index, \"merchant_id\"] = merchant_id\n",
    "        merchant_id += 1"
   ]
  },
  {
   "cell_type": "code",
   "execution_count": 20,
   "id": "469a6fb9-fe54-4b70-abf3-37830399b9b9",
   "metadata": {},
   "outputs": [
    {
     "data": {
      "text/plain": [
       "6776"
      ]
     },
     "execution_count": 20,
     "metadata": {},
     "output_type": "execute_result"
    }
   ],
   "source": [
    "# проверим что все id уникальные\n",
    "\n",
    "offline_merchants.merchant_id.nunique()"
   ]
  },
  {
   "cell_type": "code",
   "execution_count": 21,
   "id": "6f33c3a9-16f2-4065-8815-fd1a5d66c427",
   "metadata": {
    "scrolled": true
   },
   "outputs": [
    {
     "data": {
      "text/html": [
       "<div>\n",
       "<style scoped>\n",
       "    .dataframe tbody tr th:only-of-type {\n",
       "        vertical-align: middle;\n",
       "    }\n",
       "\n",
       "    .dataframe tbody tr th {\n",
       "        vertical-align: top;\n",
       "    }\n",
       "\n",
       "    .dataframe thead th {\n",
       "        text-align: right;\n",
       "    }\n",
       "</style>\n",
       "<table border=\"1\" class=\"dataframe\">\n",
       "  <thead>\n",
       "    <tr style=\"text-align: right;\">\n",
       "      <th></th>\n",
       "      <th>city</th>\n",
       "      <th>lat</th>\n",
       "      <th>lon</th>\n",
       "      <th>city_id</th>\n",
       "      <th>geometry</th>\n",
       "      <th>category</th>\n",
       "      <th>merchant_id</th>\n",
       "    </tr>\n",
       "  </thead>\n",
       "  <tbody>\n",
       "    <tr>\n",
       "      <th>0</th>\n",
       "      <td>Москва</td>\n",
       "      <td>55.753879</td>\n",
       "      <td>37.620373</td>\n",
       "      <td>1</td>\n",
       "      <td>MULTIPOLYGON (((37.2905 55.80199, 37.29542 55....</td>\n",
       "      <td>gas_transport</td>\n",
       "      <td>1.0</td>\n",
       "    </tr>\n",
       "    <tr>\n",
       "      <th>1</th>\n",
       "      <td>Москва</td>\n",
       "      <td>55.753879</td>\n",
       "      <td>37.620373</td>\n",
       "      <td>1</td>\n",
       "      <td>MULTIPOLYGON (((37.2905 55.80199, 37.29542 55....</td>\n",
       "      <td>grocery_pos</td>\n",
       "      <td>2.0</td>\n",
       "    </tr>\n",
       "  </tbody>\n",
       "</table>\n",
       "</div>"
      ],
      "text/plain": [
       "     city        lat        lon  city_id  \\\n",
       "0  Москва  55.753879  37.620373        1   \n",
       "1  Москва  55.753879  37.620373        1   \n",
       "\n",
       "                                            geometry       category  \\\n",
       "0  MULTIPOLYGON (((37.2905 55.80199, 37.29542 55....  gas_transport   \n",
       "1  MULTIPOLYGON (((37.2905 55.80199, 37.29542 55....    grocery_pos   \n",
       "\n",
       "   merchant_id  \n",
       "0          1.0  \n",
       "1          2.0  "
      ]
     },
     "execution_count": 21,
     "metadata": {},
     "output_type": "execute_result"
    }
   ],
   "source": [
    "offline_merchants.head(2)"
   ]
  },
  {
   "cell_type": "markdown",
   "id": "554b52f1-b539-4bd9-9106-a14468e5c79f",
   "metadata": {},
   "source": [
    "<br>"
   ]
  },
  {
   "cell_type": "markdown",
   "id": "e5e98573-c48c-4e21-aa3c-289ff31fbe67",
   "metadata": {},
   "source": [
    "## 5. Генерация координат для мерчантов в каждом городе"
   ]
  },
  {
   "cell_type": "code",
   "execution_count": 22,
   "id": "30648df0-7280-4341-b43a-5c5995084571",
   "metadata": {},
   "outputs": [],
   "source": [
    "# для каждого мерчанта генерируем свои координаты. цикл while для случаев если gen_trans_coordinates не вернет точек внутри города т.е. пустая серия\n",
    "\n",
    "for row in offline_merchants.itertuples():\n",
    "    points = pd.Series()\n",
    "    while points.empty:\n",
    "        points, gdp_poly = gen_trans_coordinates(row.geometry, 20)\n",
    "    offline_merchants.loc[row.Index, \"merchant_loc\"] = points.iloc[0,0]"
   ]
  },
  {
   "cell_type": "code",
   "execution_count": 23,
   "id": "3e797308-19d6-4adf-a858-fd6f24a6ffe4",
   "metadata": {},
   "outputs": [
    {
     "data": {
      "text/plain": [
       "np.int64(0)"
      ]
     },
     "execution_count": 23,
     "metadata": {},
     "output_type": "execute_result"
    }
   ],
   "source": [
    "offline_merchants.merchant_loc.isna().sum()"
   ]
  },
  {
   "cell_type": "code",
   "execution_count": 24,
   "id": "8ced9f4c-e090-4e04-8539-ac9a812b6ce6",
   "metadata": {},
   "outputs": [
    {
     "data": {
      "text/plain": [
       "6776"
      ]
     },
     "execution_count": 24,
     "metadata": {},
     "output_type": "execute_result"
    }
   ],
   "source": [
    "offline_merchants.merchant_loc.nunique()"
   ]
  },
  {
   "cell_type": "code",
   "execution_count": 25,
   "id": "3cd57781-f7b8-45af-b518-1392b13e856e",
   "metadata": {},
   "outputs": [],
   "source": [
    "# Проверка результата на нескольких случайных городах\n",
    "six_random_cities_check = offline_merchants \\\n",
    "                            .query(\"city in ['Нижний Новгород', 'Калининград', 'Магнитогорск', 'Екатеринбург', 'Братск', 'Махачкала']\") \\\n",
    "                            [[\"city\", \"geometry\", \"merchant_loc\"]]"
   ]
  },
  {
   "cell_type": "code",
   "execution_count": 26,
   "id": "ccb6644b-7e75-4313-92c5-d3660dd13f66",
   "metadata": {
    "scrolled": true
   },
   "outputs": [
    {
     "data": {
      "image/png": "[encoded data removed]",
      "text/plain": [
       "<Figure size 640x480 with 6 Axes>"
      ]
     },
     "metadata": {},
     "output_type": "display_data"
    }
   ],
   "source": [
    "fig, axes = plt.subplots(nrows=3, ncols=2)\n",
    "\n",
    "six_random_cities_names = [['Нижний Новгород', 'Калининград'], \\\n",
    "                           ['Магнитогорск', 'Екатеринбург'], ['Братск', 'Махачкала']]\n",
    "for row, two_cities in zip(axes, six_random_cities_names):\n",
    "    for ax, city in zip(row, two_cities):\n",
    "        gpd.GeoSeries(six_random_cities_check.query(\"city == @city\").head(1).geometry).boundary.plot(linewidth=1, edgecolor=\"black\", ax=ax)\n",
    "        gpd.GeoSeries(six_random_cities_check.query(\"city == @city\").merchant_loc).plot(ax=ax, linewidth=1, color=\"red\", markersize=8)\n",
    "        ax.set_title(city)\n",
    "        # ax.set_xlim(minx, maxx)\n",
    "        # ax.set_ylim(miny, maxy)\n",
    "plt.tight_layout()\n",
    "plt.show()"
   ]
  },
  {
   "cell_type": "code",
   "execution_count": 27,
   "id": "2e4a7279-c5e1-47fd-8c06-167ea37d4f73",
   "metadata": {},
   "outputs": [
    {
     "data": {
      "text/html": [
       "<div>\n",
       "<style scoped>\n",
       "    .dataframe tbody tr th:only-of-type {\n",
       "        vertical-align: middle;\n",
       "    }\n",
       "\n",
       "    .dataframe tbody tr th {\n",
       "        vertical-align: top;\n",
       "    }\n",
       "\n",
       "    .dataframe thead th {\n",
       "        text-align: right;\n",
       "    }\n",
       "</style>\n",
       "<table border=\"1\" class=\"dataframe\">\n",
       "  <thead>\n",
       "    <tr style=\"text-align: right;\">\n",
       "      <th></th>\n",
       "      <th>city</th>\n",
       "      <th>lat</th>\n",
       "      <th>lon</th>\n",
       "      <th>city_id</th>\n",
       "      <th>geometry</th>\n",
       "      <th>category</th>\n",
       "      <th>merchant_id</th>\n",
       "      <th>merchant_loc</th>\n",
       "    </tr>\n",
       "  </thead>\n",
       "  <tbody>\n",
       "    <tr>\n",
       "      <th>0</th>\n",
       "      <td>Москва</td>\n",
       "      <td>55.753879</td>\n",
       "      <td>37.620373</td>\n",
       "      <td>1</td>\n",
       "      <td>MULTIPOLYGON (((37.2905 55.80199, 37.29542 55....</td>\n",
       "      <td>gas_transport</td>\n",
       "      <td>1.0</td>\n",
       "      <td>POINT (37.86393175448196 55.7111778864965)</td>\n",
       "    </tr>\n",
       "    <tr>\n",
       "      <th>1</th>\n",
       "      <td>Москва</td>\n",
       "      <td>55.753879</td>\n",
       "      <td>37.620373</td>\n",
       "      <td>1</td>\n",
       "      <td>MULTIPOLYGON (((37.2905 55.80199, 37.29542 55....</td>\n",
       "      <td>grocery_pos</td>\n",
       "      <td>2.0</td>\n",
       "      <td>POINT (37.370256980974254 55.89674562778272)</td>\n",
       "    </tr>\n",
       "  </tbody>\n",
       "</table>\n",
       "</div>"
      ],
      "text/plain": [
       "     city        lat        lon  city_id  \\\n",
       "0  Москва  55.753879  37.620373        1   \n",
       "1  Москва  55.753879  37.620373        1   \n",
       "\n",
       "                                            geometry       category  \\\n",
       "0  MULTIPOLYGON (((37.2905 55.80199, 37.29542 55....  gas_transport   \n",
       "1  MULTIPOLYGON (((37.2905 55.80199, 37.29542 55....    grocery_pos   \n",
       "\n",
       "   merchant_id                                  merchant_loc  \n",
       "0          1.0    POINT (37.86393175448196 55.7111778864965)  \n",
       "1          2.0  POINT (37.370256980974254 55.89674562778272)  "
      ]
     },
     "execution_count": 27,
     "metadata": {},
     "output_type": "execute_result"
    }
   ],
   "source": [
    "offline_merchants.head(2)"
   ]
  },
  {
   "cell_type": "markdown",
   "id": "30c1721d-87b5-4ff5-a120-1ce100ba7324",
   "metadata": {},
   "source": [
    "## 6. Сохранение координат мерчантов в виде float-ов в отдельные колонки\n",
    "- Координаты в виде float-ов могут понадобиться для расчета дистанции между точками на земном шаре"
   ]
  },
  {
   "cell_type": "code",
   "execution_count": 28,
   "id": "832f8bfb-5bd8-483a-997a-3d82cc5009fb",
   "metadata": {},
   "outputs": [],
   "source": [
    "# широта мерчанта\n",
    "offline_merchants[\"merchant_lat\"] = gpd.GeoSeries(offline_merchants.merchant_loc).y\n",
    "\n",
    "# долгота мерчанта\n",
    "offline_merchants[\"merchant_lon\"] = gpd.GeoSeries(offline_merchants.merchant_loc).x"
   ]
  },
  {
   "cell_type": "code",
   "execution_count": 29,
   "id": "d145c34f-3955-49f0-b40a-2038cccd3006",
   "metadata": {},
   "outputs": [],
   "source": [
    "# Удалим широту и долготу города, geometry и merchant_loc. Они нам не нужны\n",
    "\n",
    "offline_merchants.drop(columns=[\"lat\",\"lon\", \"geometry\", \"merchant_loc\"], inplace=True)"
   ]
  },
  {
   "cell_type": "code",
   "execution_count": 30,
   "id": "d16dad63-64a4-4886-ace0-abc5dd4c0dbb",
   "metadata": {},
   "outputs": [
    {
     "data": {
      "text/html": [
       "<div>\n",
       "<style scoped>\n",
       "    .dataframe tbody tr th:only-of-type {\n",
       "        vertical-align: middle;\n",
       "    }\n",
       "\n",
       "    .dataframe tbody tr th {\n",
       "        vertical-align: top;\n",
       "    }\n",
       "\n",
       "    .dataframe thead th {\n",
       "        text-align: right;\n",
       "    }\n",
       "</style>\n",
       "<table border=\"1\" class=\"dataframe\">\n",
       "  <thead>\n",
       "    <tr style=\"text-align: right;\">\n",
       "      <th></th>\n",
       "      <th>city</th>\n",
       "      <th>city_id</th>\n",
       "      <th>category</th>\n",
       "      <th>merchant_id</th>\n",
       "      <th>merchant_lat</th>\n",
       "      <th>merchant_lon</th>\n",
       "    </tr>\n",
       "  </thead>\n",
       "  <tbody>\n",
       "    <tr>\n",
       "      <th>0</th>\n",
       "      <td>Москва</td>\n",
       "      <td>1</td>\n",
       "      <td>gas_transport</td>\n",
       "      <td>1.0</td>\n",
       "      <td>55.711178</td>\n",
       "      <td>37.863932</td>\n",
       "    </tr>\n",
       "    <tr>\n",
       "      <th>1</th>\n",
       "      <td>Москва</td>\n",
       "      <td>1</td>\n",
       "      <td>grocery_pos</td>\n",
       "      <td>2.0</td>\n",
       "      <td>55.896746</td>\n",
       "      <td>37.370257</td>\n",
       "    </tr>\n",
       "  </tbody>\n",
       "</table>\n",
       "</div>"
      ],
      "text/plain": [
       "     city  city_id       category  merchant_id  merchant_lat  merchant_lon\n",
       "0  Москва        1  gas_transport          1.0     55.711178     37.863932\n",
       "1  Москва        1    grocery_pos          2.0     55.896746     37.370257"
      ]
     },
     "execution_count": 30,
     "metadata": {},
     "output_type": "execute_result"
    }
   ],
   "source": [
    "offline_merchants.head(2)"
   ]
  },
  {
   "cell_type": "markdown",
   "id": "1dc32aac-545d-49a7-8fa3-d34cdc76f89a",
   "metadata": {},
   "source": [
    "### **Выгрузка сгенерированных данных мерчантов  файл**"
   ]
  },
  {
   "cell_type": "code",
   "execution_count": 31,
   "id": "1ed3b74e-7d84-4c02-957d-9daa98f86f24",
   "metadata": {},
   "outputs": [],
   "source": [
    "# выгрузим датафрейм т.к. он будет использоваться в других ноутбуках\n",
    "\n",
    "offline_merchants.to_parquet(data_paths[\"base\"][\"offline_merchants\"], engine=\"pyarrow\")"
   ]
  },
  {
   "cell_type": "markdown",
   "id": "3e74b1ac-e4c8-45c6-829f-8be2695829a8",
   "metadata": {},
   "source": [
    "<br><br>"
   ]
  },
  {
   "cell_type": "markdown",
   "id": "638f3776-13ae-4ac2-82ea-5e9e8680c8a3",
   "metadata": {},
   "source": [
    "# **Создание таблицы клиентов**\n",
    "- добавим информацию к таблице `clients` очищенной в ноутбуке `01_Очистка_данных`"
   ]
  },
  {
   "cell_type": "markdown",
   "id": "0ce94c20-3f85-4dbb-a9b7-7ba6161ee487",
   "metadata": {},
   "source": [
    "<br>"
   ]
  },
  {
   "cell_type": "code",
   "execution_count": 63,
   "id": "38086e69-7957-49cd-b8fa-dc747e1c16d4",
   "metadata": {},
   "outputs": [],
   "source": [
    "clients_prep = pd.read_csv(data_paths[\"cleaned\"][\"clients\"])"
   ]
  },
  {
   "cell_type": "code",
   "execution_count": 64,
   "id": "32e9ad24",
   "metadata": {},
   "outputs": [
    {
     "data": {
      "text/html": [
       "<div>\n",
       "<style scoped>\n",
       "    .dataframe tbody tr th:only-of-type {\n",
       "        vertical-align: middle;\n",
       "    }\n",
       "\n",
       "    .dataframe tbody tr th {\n",
       "        vertical-align: top;\n",
       "    }\n",
       "\n",
       "    .dataframe thead th {\n",
       "        text-align: right;\n",
       "    }\n",
       "</style>\n",
       "<table border=\"1\" class=\"dataframe\">\n",
       "  <thead>\n",
       "    <tr style=\"text-align: right;\">\n",
       "      <th></th>\n",
       "      <th>region</th>\n",
       "      <th>city</th>\n",
       "      <th>timezone</th>\n",
       "      <th>lat</th>\n",
       "      <th>lon</th>\n",
       "      <th>population</th>\n",
       "      <th>city_id</th>\n",
       "      <th>geometry</th>\n",
       "    </tr>\n",
       "  </thead>\n",
       "  <tbody>\n",
       "    <tr>\n",
       "      <th>0</th>\n",
       "      <td>Москва</td>\n",
       "      <td>Москва</td>\n",
       "      <td>UTC+3</td>\n",
       "      <td>55.753879</td>\n",
       "      <td>37.620373</td>\n",
       "      <td>11514330</td>\n",
       "      <td>1</td>\n",
       "      <td>MULTIPOLYGON (((37.2905 55.80199, 37.29542 55....</td>\n",
       "    </tr>\n",
       "  </tbody>\n",
       "</table>\n",
       "</div>"
      ],
      "text/plain": [
       "   region    city timezone        lat        lon  population  city_id  \\\n",
       "0  Москва  Москва    UTC+3  55.753879  37.620373    11514330        1   \n",
       "\n",
       "                                            geometry  \n",
       "0  MULTIPOLYGON (((37.2905 55.80199, 37.29542 55....  "
      ]
     },
     "execution_count": 64,
     "metadata": {},
     "output_type": "execute_result"
    }
   ],
   "source": [
    "cities.head(1)"
   ]
  },
  {
   "cell_type": "code",
   "execution_count": 77,
   "id": "7c3d4029-c248-4bac-85d6-0e8a3ebc7dc3",
   "metadata": {},
   "outputs": [
    {
     "data": {
      "text/html": [
       "<div>\n",
       "<style scoped>\n",
       "    .dataframe tbody tr th:only-of-type {\n",
       "        vertical-align: middle;\n",
       "    }\n",
       "\n",
       "    .dataframe tbody tr th {\n",
       "        vertical-align: top;\n",
       "    }\n",
       "\n",
       "    .dataframe thead th {\n",
       "        text-align: right;\n",
       "    }\n",
       "</style>\n",
       "<table border=\"1\" class=\"dataframe\">\n",
       "  <thead>\n",
       "    <tr style=\"text-align: right;\">\n",
       "      <th></th>\n",
       "      <th>client_id</th>\n",
       "      <th>birth_date</th>\n",
       "      <th>sex</th>\n",
       "      <th>region</th>\n",
       "      <th>city</th>\n",
       "      <th>lat</th>\n",
       "      <th>lon</th>\n",
       "      <th>city_id</th>\n",
       "    </tr>\n",
       "  </thead>\n",
       "  <tbody>\n",
       "    <tr>\n",
       "      <th>0</th>\n",
       "      <td>1</td>\n",
       "      <td>1970-12-13</td>\n",
       "      <td>female</td>\n",
       "      <td>Рязанская</td>\n",
       "      <td>Рязань</td>\n",
       "      <td>54.625457</td>\n",
       "      <td>39.735999</td>\n",
       "      <td>18</td>\n",
       "    </tr>\n",
       "    <tr>\n",
       "      <th>1</th>\n",
       "      <td>2</td>\n",
       "      <td>1945-02-04</td>\n",
       "      <td>male</td>\n",
       "      <td>Москва</td>\n",
       "      <td>Москва</td>\n",
       "      <td>55.753879</td>\n",
       "      <td>37.620373</td>\n",
       "      <td>1</td>\n",
       "    </tr>\n",
       "    <tr>\n",
       "      <th>2</th>\n",
       "      <td>3</td>\n",
       "      <td>1940-10-09</td>\n",
       "      <td>female</td>\n",
       "      <td>Москва</td>\n",
       "      <td>Москва</td>\n",
       "      <td>55.753879</td>\n",
       "      <td>37.620373</td>\n",
       "      <td>1</td>\n",
       "    </tr>\n",
       "  </tbody>\n",
       "</table>\n",
       "</div>"
      ],
      "text/plain": [
       "   client_id  birth_date     sex     region    city        lat        lon  \\\n",
       "0          1  1970-12-13  female  Рязанская  Рязань  54.625457  39.735999   \n",
       "1          2  1945-02-04    male     Москва  Москва  55.753879  37.620373   \n",
       "2          3  1940-10-09  female     Москва  Москва  55.753879  37.620373   \n",
       "\n",
       "   city_id  \n",
       "0       18  \n",
       "1        1  \n",
       "2        1  "
      ]
     },
     "execution_count": 77,
     "metadata": {},
     "output_type": "execute_result"
    }
   ],
   "source": [
    "clients = clients_prep.merge(cities, left_on=\"district_id\", \\\n",
    "                             right_on=\"city_id\").drop(columns= \\\n",
    "                             [\"district_id\", \"geometry\", \"population\", \"timezone\"])\n",
    "clients.head(3)"
   ]
  },
  {
   "cell_type": "code",
   "execution_count": 78,
   "id": "3f79e3a7-630c-42e2-a553-afe7b3382dbd",
   "metadata": {},
   "outputs": [
    {
     "data": {
      "text/plain": [
       "(5369, 8)"
      ]
     },
     "execution_count": 78,
     "metadata": {},
     "output_type": "execute_result"
    }
   ],
   "source": [
    "clients.shape"
   ]
  },
  {
   "cell_type": "markdown",
   "id": "6086d7da",
   "metadata": {},
   "source": [
    "**Смещение `birth_date` клиентов на ~30 лет вперед**\n",
    "- Т.к. изначальный датасет с клиентами создан в 90-х"
   ]
  },
  {
   "cell_type": "code",
   "execution_count": 79,
   "id": "240f6ef4-8c73-4bda-b7c3-3404f97ad28a",
   "metadata": {},
   "outputs": [],
   "source": [
    "clients[\"birth_date\"] = pd.to_datetime(clients.birth_date)"
   ]
  },
  {
   "cell_type": "code",
   "execution_count": 80,
   "id": "39282e93-8c28-4452-946f-71646455174e",
   "metadata": {},
   "outputs": [
    {
     "data": {
      "text/plain": [
       "min   1911-08-20\n",
       "max   1987-09-27\n",
       "Name: birth_date, dtype: datetime64[ns]"
      ]
     },
     "execution_count": 80,
     "metadata": {},
     "output_type": "execute_result"
    }
   ],
   "source": [
    "clients.birth_date.agg([\"min\", \"max\"])"
   ]
  },
  {
   "cell_type": "code",
   "execution_count": 81,
   "id": "30523f79-74e8-41ea-872b-e67384ebf6e1",
   "metadata": {},
   "outputs": [],
   "source": [
    "# Попробуем примерно на 25 лет\n",
    "shifted_dob = clients.birth_date + pd.to_timedelta(365 * 25, unit=\"D\")"
   ]
  },
  {
   "cell_type": "code",
   "execution_count": 82,
   "id": "d7c89dc5-d995-4191-adda-a472eb03b111",
   "metadata": {},
   "outputs": [],
   "source": [
    "# примерный смещенный возраст клиентов\n",
    "shifted_age = (pd.to_datetime(\"2025-01-01\") - shifted_dob).dt.days // 365.2425"
   ]
  },
  {
   "cell_type": "code",
   "execution_count": 83,
   "id": "2401a75b-ebdb-4058-81ce-61ce74c8f978",
   "metadata": {},
   "outputs": [
    {
     "data": {
      "text/plain": [
       "min     12.000000\n",
       "mean    45.821755\n",
       "max     88.000000\n",
       "Name: birth_date, dtype: float64"
      ]
     },
     "execution_count": 83,
     "metadata": {},
     "output_type": "execute_result"
    }
   ],
   "source": [
    "shifted_age.agg([\"min\", \"mean\", \"max\"])"
   ]
  },
  {
   "cell_type": "code",
   "execution_count": 84,
   "id": "e753af2d-5dc3-44ac-b1b8-303a2bff06e5",
   "metadata": {},
   "outputs": [
    {
     "name": "stdout",
     "output_type": "stream",
     "text": [
      "1.0 6.0\n"
     ]
    }
   ],
   "source": [
    "# У кого возраст меньше 18, тому рассчитаем сколько отнять от даты рождения, чтобы было 18\n",
    "subt_years = np.where(shifted_age < 18, 18 - shifted_age, 0)\n",
    "print(subt_years[subt_years > 0].min(), subt_years.max())"
   ]
  },
  {
   "cell_type": "code",
   "execution_count": 85,
   "id": "913e644a-0b54-4c86-b105-cf9dc4104367",
   "metadata": {},
   "outputs": [
    {
     "name": "stdout",
     "output_type": "stream",
     "text": [
      "min:  365 days 05:49:12  max:  2191 days 10:55:11.999999991\n"
     ]
    }
   ],
   "source": [
    "subt_delta = pd.to_timedelta(subt_years * 365.2425, unit=\"D\")\n",
    "print(\"min: \", subt_delta[subt_delta > pd.to_timedelta(0)].min(), \" max: \", subt_delta.max())"
   ]
  },
  {
   "cell_type": "code",
   "execution_count": 86,
   "id": "18a499bf-8867-439c-91f2-50e930a59d7e",
   "metadata": {},
   "outputs": [
    {
     "data": {
      "text/plain": [
       "min   1936-08-13\n",
       "max   2006-12-29\n",
       "Name: birth_date, dtype: datetime64[ns]"
      ]
     },
     "execution_count": 86,
     "metadata": {},
     "output_type": "execute_result"
    }
   ],
   "source": [
    "# Прибавляем 25 лет для всех клиентов и отнимаем дельту для тех кому нет 18\n",
    "\n",
    "clients[\"birth_date\"] = clients.birth_date.add(pd.to_timedelta(365 * 25, unit=\"D\")).sub(subt_delta)\n",
    "clients[\"birth_date\"].agg([\"min\",\"max\"])"
   ]
  },
  {
   "cell_type": "code",
   "execution_count": 87,
   "id": "7772f674-867b-47a1-be20-3d84dbcecdb2",
   "metadata": {},
   "outputs": [
    {
     "data": {
      "text/html": [
       "<div>\n",
       "<style scoped>\n",
       "    .dataframe tbody tr th:only-of-type {\n",
       "        vertical-align: middle;\n",
       "    }\n",
       "\n",
       "    .dataframe tbody tr th {\n",
       "        vertical-align: top;\n",
       "    }\n",
       "\n",
       "    .dataframe thead th {\n",
       "        text-align: right;\n",
       "    }\n",
       "</style>\n",
       "<table border=\"1\" class=\"dataframe\">\n",
       "  <thead>\n",
       "    <tr style=\"text-align: right;\">\n",
       "      <th></th>\n",
       "      <th>client_id</th>\n",
       "      <th>birth_date</th>\n",
       "      <th>sex</th>\n",
       "      <th>region</th>\n",
       "      <th>city</th>\n",
       "      <th>lat</th>\n",
       "      <th>lon</th>\n",
       "      <th>city_id</th>\n",
       "    </tr>\n",
       "  </thead>\n",
       "  <tbody>\n",
       "    <tr>\n",
       "      <th>0</th>\n",
       "      <td>1</td>\n",
       "      <td>1995-12-07</td>\n",
       "      <td>female</td>\n",
       "      <td>Рязанская</td>\n",
       "      <td>Рязань</td>\n",
       "      <td>54.625457</td>\n",
       "      <td>39.735999</td>\n",
       "      <td>18</td>\n",
       "    </tr>\n",
       "    <tr>\n",
       "      <th>1</th>\n",
       "      <td>2</td>\n",
       "      <td>1970-01-29</td>\n",
       "      <td>male</td>\n",
       "      <td>Москва</td>\n",
       "      <td>Москва</td>\n",
       "      <td>55.753879</td>\n",
       "      <td>37.620373</td>\n",
       "      <td>1</td>\n",
       "    </tr>\n",
       "    <tr>\n",
       "      <th>2</th>\n",
       "      <td>3</td>\n",
       "      <td>1965-10-03</td>\n",
       "      <td>female</td>\n",
       "      <td>Москва</td>\n",
       "      <td>Москва</td>\n",
       "      <td>55.753879</td>\n",
       "      <td>37.620373</td>\n",
       "      <td>1</td>\n",
       "    </tr>\n",
       "    <tr>\n",
       "      <th>3</th>\n",
       "      <td>4</td>\n",
       "      <td>1981-11-25</td>\n",
       "      <td>male</td>\n",
       "      <td>Ростовская</td>\n",
       "      <td>Ростов-на-Дону</td>\n",
       "      <td>47.222436</td>\n",
       "      <td>39.718787</td>\n",
       "      <td>5</td>\n",
       "    </tr>\n",
       "    <tr>\n",
       "      <th>4</th>\n",
       "      <td>5</td>\n",
       "      <td>1985-06-27</td>\n",
       "      <td>female</td>\n",
       "      <td>Ростовская</td>\n",
       "      <td>Ростов-на-Дону</td>\n",
       "      <td>47.222436</td>\n",
       "      <td>39.718787</td>\n",
       "      <td>5</td>\n",
       "    </tr>\n",
       "  </tbody>\n",
       "</table>\n",
       "</div>"
      ],
      "text/plain": [
       "   client_id birth_date     sex      region            city        lat  \\\n",
       "0          1 1995-12-07  female   Рязанская          Рязань  54.625457   \n",
       "1          2 1970-01-29    male      Москва          Москва  55.753879   \n",
       "2          3 1965-10-03  female      Москва          Москва  55.753879   \n",
       "3          4 1981-11-25    male  Ростовская  Ростов-на-Дону  47.222436   \n",
       "4          5 1985-06-27  female  Ростовская  Ростов-на-Дону  47.222436   \n",
       "\n",
       "         lon  city_id  \n",
       "0  39.735999       18  \n",
       "1  37.620373        1  \n",
       "2  37.620373        1  \n",
       "3  39.718787        5  \n",
       "4  39.718787        5  "
      ]
     },
     "execution_count": 87,
     "metadata": {},
     "output_type": "execute_result"
    }
   ],
   "source": [
    "clients.head()"
   ]
  },
  {
   "cell_type": "markdown",
   "id": "17e374ac-4f7c-486d-980c-bc3b58bb30da",
   "metadata": {},
   "source": [
    "### **Запись клиентов в файл**\n",
    "- это еще не конец наполнения таблицы клиентов. В следующем ноутбуке будут генерироваться ip адреса и в т.ч. часть ip адресов будет присвоена клиентам "
   ]
  },
  {
   "cell_type": "code",
   "execution_count": 88,
   "id": "b0e3c979-a2db-440e-aa68-2cf6fc4b1466",
   "metadata": {},
   "outputs": [],
   "source": [
    "clients.to_parquet(data_paths[\"clients\"][\"clients\"], engine=\"pyarrow\")"
   ]
  }
 ],
 "metadata": {
  "kernelspec": {
   "display_name": "Python 3 (ipykernel)",
   "language": "python",
   "name": "python3"
  },
  "language_info": {
   "codemirror_mode": {
    "name": "ipython",
    "version": 3
   },
   "file_extension": ".py",
   "mimetype": "text/x-python",
   "name": "python",
   "nbconvert_exporter": "python",
   "pygments_lexer": "ipython3",
   "version": "3.12.9"
  }
 },
 "nbformat": 4,
 "nbformat_minor": 5
}
