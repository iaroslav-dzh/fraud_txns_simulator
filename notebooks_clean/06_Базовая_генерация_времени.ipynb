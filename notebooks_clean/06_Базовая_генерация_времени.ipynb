{
 "cells": [
  {
   "cell_type": "markdown",
   "id": "1ede3ec6-d56f-4efe-aa65-ccf438637d93",
   "metadata": {},
   "source": [
    "# **Создание функций отвечающих за базовые части генерации времени**\n",
    "- **ноутбуки лучше просматривать** на Github pages, т.к. при просмотре прямо в репозитории могут быть проблемы с отображением, например, обрезка вывода с широкими датафреймами. **Если в адресной строке браузера есть** `iaroslav-dzh.github.io`, то вы уже на Github pages.  \n",
    "Ссылки:\n",
    "    -  **[Ссылка](https://iaroslav-dzh.github.io/fraud_txns_simulator/06_%D0%91%D0%B0%D0%B7%D0%BE%D0%B2%D0%B0%D1%8F_%D0%B3%D0%B5%D0%BD%D0%B5%D1%80%D0%B0%D1%86%D0%B8%D1%8F_%D0%B2%D1%80%D0%B5%D0%BC%D0%B5%D0%BD%D0%B8.html)** на этот ноутбук\n",
    "    -  **[Ссылка](https://iaroslav-dzh.github.io/fraud_txns_simulator/)** на страницу со всеми ноутбуками   \n",
    "\n",
    "**Информация о ноутбуке**\n",
    "- функции могут быть применены и для легальных транзакций и для фрода\n",
    "- расположены в модуле `data_generator.general_time`. **[Ссылка](https://github.com/iaroslav-dzh/fraud_txns_simulator/blob/main/data_generator/general_time.py)** на исходный код в Github  "
   ]
  },
  {
   "cell_type": "code",
   "execution_count": 1,
   "id": "c30e67d7-4a3c-4d29-9477-ab02b02e86fc",
   "metadata": {},
   "outputs": [],
   "source": [
    "import pandas as pd\n",
    "import numpy as np\n",
    "import matplotlib.pyplot as plt\n",
    "import seaborn as sns\n",
    "import os\n",
    "from scipy.stats import truncnorm, norm\n",
    "from collections import defaultdict\n",
    "import math\n",
    "from data_generator.utils import load_configs"
   ]
  },
  {
   "cell_type": "code",
   "execution_count": 2,
   "id": "6c6c9867-8d32-4b4d-9923-2b2f5711bfc8",
   "metadata": {},
   "outputs": [],
   "source": [
    "np.set_printoptions(suppress=True)\n",
    "pd.set_option('display.max_columns', None)"
   ]
  },
  {
   "cell_type": "code",
   "execution_count": 3,
   "id": "71fc90ba-44d1-4bc6-b2a3-edda53a9123b",
   "metadata": {},
   "outputs": [],
   "source": [
    "os.chdir(\"..\")"
   ]
  },
  {
   "cell_type": "code",
   "execution_count": 4,
   "id": "4c92f5c7-1b75-4e1b-97a1-34a61031d901",
   "metadata": {},
   "outputs": [
    {
     "data": {
      "text/plain": [
       "'C:\\\\Users\\\\iaros\\\\My_documents\\\\Education\\\\projects\\\\fraud_detection_01'"
      ]
     },
     "execution_count": 4,
     "metadata": {},
     "output_type": "execute_result"
    }
   ],
   "source": [
    "os.getcwd()"
   ]
  },
  {
   "cell_type": "code",
   "execution_count": 6,
   "id": "4235582e-7767-4294-86bc-3c45c7a8038e",
   "metadata": {},
   "outputs": [],
   "source": [
    "# Базовые конфиги\n",
    "base_cfg = load_configs(\"./config/base.yaml\")\n",
    "\n",
    "# Пути к файлам\n",
    "data_paths = base_cfg[\"data_paths\"]"
   ]
  },
  {
   "cell_type": "code",
   "execution_count": 8,
   "id": "6f14bf80-fa06-4e9b-9343-1c87e9ccf839",
   "metadata": {},
   "outputs": [],
   "source": [
    "category_stats = pd.read_csv(data_paths[\"base\"][\"category_stats\"])\n",
    "fraud_kaggle = pd.read_csv(\"data/raw/fraudTest.csv.zip\", compression=\"zip\")"
   ]
  },
  {
   "cell_type": "markdown",
   "id": "c06838ad-bbc9-40e4-bc20-1c84336f74ce",
   "metadata": {},
   "source": [
    "<br>"
   ]
  },
  {
   "cell_type": "markdown",
   "id": "6c7ba1fa-8e52-4e44-beb2-95f3600f98a5",
   "metadata": {},
   "source": [
    "# **Создание паттернов времени - распределений времени активности**"
   ]
  },
  {
   "cell_type": "markdown",
   "id": "beba5cd3-7474-46fc-bb5e-eb262373912d",
   "metadata": {},
   "source": [
    "<br>"
   ]
  },
  {
   "cell_type": "markdown",
   "id": "0af6a89f-5e6a-424a-b057-d2cbb9b6d02e",
   "metadata": {},
   "source": [
    "## Аннотация"
   ]
  },
  {
   "cell_type": "markdown",
   "id": "72fdd603-227e-4714-bebd-92a1c87473f0",
   "metadata": {},
   "source": [
    "Будет создано несколько распределений времени. На данный момент 6 распределений:\n",
    "1. круглосуточные категории, НЕ фрод:\n",
    "\t- основной пик в районе 18-19. от 18 до 22 примерно\n",
    "2. Кругосуточные категории - фрод\n",
    "\t- равномерно днем и ночью равномерно, но меньше чем днем\n",
    "3. Онлайн категории, НЕ фрод\n",
    "\t- Пик Вечером после 18. между 18 и 22 включительно\n",
    "4. Онлайн фрод\n",
    "\t- равномерно днем и пик вечером-ночью\n",
    "5. дневной оффлайн - НЕ фрод.\n",
    "\t- Обрезанное распределение круглосуточных оффлайн категорий. Без позднего вечера и ночи.\n",
    "6. дневной оффлайн - фрод\n",
    "\t- равномерно с 8 до 22.\n",
    "\n",
    "Далее под обозначением часа 0,1,2,3 ... 23; имеется в виду соотвествие обозначения периодам времени:<br>\n",
    "0 - от 00:00 до 00:59<br>\n",
    "1 - от 01:00 до 01:59<br>\n",
    "3 - от 03:00 до 03:59<br>\n",
    "... <br>\n",
    "23 - от 23:00 до 23:59 <br>\n",
    "\n",
    "Т.е. вероятностный вес часа (распределение времени), это вероятность получить время в рамках соответсвующего периода\n",
    "Эти веса будут позже применены при генерации транзакций. В зависимости от характеристик транзакции время транзакции будет случайно браться из массива отметок времени (через `pd.DataFrame.sample`), и каждая отметка будет иметь свою вероятность на основании веса для её часа  \n",
    "\n",
    "---------------\n",
    "**На момент завершения написания генератора транзакций** выяснилось, что для фрода паттерны времени не пригодились. Во всех вариантах фрода время создается по своей логике. Но я решил оставить паттерны времени для фрода. Для демонстрации идеи и возможно на случай если они пригодятся в дальнейшем если буду дописывать что-то в рамках фрода."
   ]
  },
  {
   "cell_type": "markdown",
   "id": "a991ee77-9af8-4216-a918-2e8028277614",
   "metadata": {},
   "source": [
    "<br>"
   ]
  },
  {
   "cell_type": "markdown",
   "id": "73dd1c45-a9e5-4067-92c7-4733611a1b63",
   "metadata": {},
   "source": [
    "## **Создание функций для каждого паттерна времени**\n",
    "- в дальнейшем они все будут обернуты в общую функцию\n",
    "- Т.к. эти функции сложно сделать универсальными, не задавая множества аргументов, то я просто пропишу внутри функции постоянные значения времени и размеров распределений из которых создается целое распределение."
   ]
  },
  {
   "cell_type": "markdown",
   "id": "a66e9c27-a11a-4847-8bbb-a549833049bc",
   "metadata": {},
   "source": [
    "### 1. Круглосуточные оффлайн legit транзакции `offline_24h_legit_time_dist`\n",
    "- Распределение времени для легитимных транзакций в круглосуточных оффлайн категориях"
   ]
  },
  {
   "cell_type": "code",
   "execution_count": 9,
   "id": "790e4da8-e633-40ec-9840-4903f436d5ba",
   "metadata": {},
   "outputs": [],
   "source": [
    "def offline_24h_legit_time_dist():\n",
    "    # Время в минутах с начала суток\n",
    "    start, end = 0, 1439  # 00:00 до 23:59\n",
    "    \n",
    "    # название паттерна. Пригодится если нужно построить график распределения\n",
    "    title = \"Offline. 24h. Legit\"\n",
    "    \n",
    "    # небольшой пик утром в районе 9. Обрезаный слева по 6-и утра\n",
    "    mean_morn = 9 * 60\n",
    "    std_morn = 90\n",
    "    morn_start = 6 * 60\n",
    "    \n",
    "    # Truncated normal - пик утро\n",
    "    dist_morn = truncnorm((morn_start - mean_morn)/ std_morn, (end - mean_morn) / std_morn, loc=mean_morn, scale=std_morn)\n",
    "    minutes_morn = dist_morn.rvs(3000).astype(int)\n",
    "    \n",
    "    # небольшой пик обед в районе 13. Обрезанный по 16-и часам справа\n",
    "    mean_noon = 14 * 60\n",
    "    std_noon= 75\n",
    "    noon_end = 16.5 * 60\n",
    "    \n",
    "    # Truncated normal - пик обед\n",
    "    dist_noon = truncnorm((start - mean_noon)/ std_noon, (noon_end - mean_noon) / std_noon, loc=mean_noon, scale=std_noon)\n",
    "    minutes_noon = dist_noon.rvs(5000).astype(int)\n",
    "    \n",
    "    \n",
    "    # Вечерний пик. В районе 19 часов\n",
    "    mean_evn = 19.7 * 60\n",
    "    std_evn = 120\n",
    "    evn_start = 17 * 60\n",
    "    evn_end = 23.3 * 60\n",
    "    \n",
    "    # Truncated normal - пик вечером\n",
    "    dist_evn = truncnorm((evn_start - mean_evn) / std_evn, (evn_end - mean_evn) / std_evn, loc=mean_evn, scale=std_evn)\n",
    "    minutes_evn = dist_evn.rvs(9000).astype(int)\n",
    "    \n",
    "    # ночная равномерная небольшая активность с 0 до 6:50 утра включительно\n",
    "    night_hours_add =  np.array([np.random.uniform(0, 710) for _ in range(300)]).astype(int)\n",
    "    \n",
    "    # соединяем все созданные массивы в один\n",
    "    minutes = np.concatenate((minutes_morn, minutes_noon, minutes_evn, night_hours_add), axis=0) #  \n",
    "\n",
    "    # переводим значения массива в тип pd.Timedelta.\n",
    "    # Затем через аттрибут .dt.components получаем датафрейм со значениями массива разбитых на колонки hours и minutes\n",
    "    # берем hours оттуда\n",
    "    times = pd.Series(pd.to_timedelta(minutes, unit=\"min\")).dt.components\n",
    "    time_hours = times.hours\n",
    "\n",
    "    return time_hours, title"
   ]
  },
  {
   "cell_type": "code",
   "execution_count": 10,
   "id": "2e45117c-f860-43e4-94ba-35c85d05e23f",
   "metadata": {},
   "outputs": [
    {
     "data": {
      "image/png": "[encoded data removed]",
      "text/plain": [
       "<Figure size 640x480 with 1 Axes>"
      ]
     },
     "metadata": {},
     "output_type": "display_data"
    }
   ],
   "source": [
    "# проверка получившегося распределения часов\n",
    "\n",
    "time_hours, title = offline_24h_legit_time_dist()\n",
    "\n",
    "p = sns.histplot(x=time_hours, binwidth=1, discrete=True)\n",
    "p.set_xticks(ticks=time_hours.sort_values().unique())\n",
    "p.set_ylim(0, 5000);"
   ]
  },
  {
   "cell_type": "markdown",
   "id": "24e97fe5-a22d-4b97-ac29-341dfda8e8c0",
   "metadata": {},
   "source": [
    "<br>"
   ]
  },
  {
   "cell_type": "markdown",
   "id": "a38a6414-bec9-4243-adf6-05a7ebde50b2",
   "metadata": {},
   "source": [
    "### 2. Круглосуточные оффлайн категории - фрод.\n",
    "- фрод транзакции в круглосуточных оффлайн категориях"
   ]
  },
  {
   "cell_type": "code",
   "execution_count": 11,
   "id": "2ed933e4-6ecb-48c5-9de8-62caf3c2e0b0",
   "metadata": {},
   "outputs": [],
   "source": [
    "def offline_24h_fraud_time_dist():\n",
    "    \n",
    "    # название паттерна. Пригодится если нужно построить график распределения\n",
    "    title = \"Offline. 24h. Fraud\"\n",
    "    \n",
    "    # равномерная активность с 8 до 23\n",
    "    day_time =  np.array([np.random.uniform(8, 23.9) for _ in range(500)]).astype(int)\n",
    "    \n",
    "    # равномерная сниженная активность с 0 до 8\n",
    "    night_time = np.array([np.random.uniform(0, 7.9) for _ in range(120)]).astype(int)\n",
    "    \n",
    "    # соединяем все созданные массивы в один и делаем серией\n",
    "    time_hours = pd.Series(np.concatenate((day_time, night_time), axis=0), name=\"hours\")\n",
    "\n",
    "    return time_hours, title"
   ]
  },
  {
   "cell_type": "code",
   "execution_count": 12,
   "id": "90dc296f-a285-4d94-a030-660aafb99c29",
   "metadata": {},
   "outputs": [
    {
     "data": {
      "image/png": "[encoded data removed]",
      "text/plain": [
       "<Figure size 640x480 with 1 Axes>"
      ]
     },
     "metadata": {},
     "output_type": "display_data"
    }
   ],
   "source": [
    "time_hours, title = offline_24h_fraud_time_dist()\n",
    "\n",
    "p = sns.histplot(x=time_hours, binwidth=1, discrete=True, color=\"indianred\")\n",
    "p.set_xticks(ticks=time_hours.sort_values().unique())\n",
    "p.set_ylim(0, 150);"
   ]
  },
  {
   "cell_type": "markdown",
   "id": "43d2375f-7001-48c7-97ac-e2173e971c7e",
   "metadata": {},
   "source": [
    "<br><br>"
   ]
  },
  {
   "cell_type": "markdown",
   "id": "a23bbce6-8c86-4afc-be9b-0214dc0c53de",
   "metadata": {},
   "source": [
    "### 3. Онлайн категории, НЕ фрод `online_legit_time_dist`\n",
    "- Легитимные транзакции. Онлайн покупки. Круглые сутки.\n",
    "- Равномерно низкая активность ночью и рано утром: с 23:00 до 08:00\n",
    "- Равномерно низкая активность с 08:00 до 12:00, но чуть выше чем ночью\n",
    "- небольшой пик в обед: с 12:00 до 16:00\n",
    "- Пик Вечером после 17:00. между 17 и 22 включительно"
   ]
  },
  {
   "cell_type": "code",
   "execution_count": 14,
   "id": "08d152d4-1bc4-4a51-a515-262d696d81dc",
   "metadata": {},
   "outputs": [],
   "source": [
    "def online_legit_time_dist():\n",
    "    \n",
    "    # название паттерна. Пригодится если нужно построить график распределения\n",
    "    title = \"Online. Legit\"\n",
    "    \n",
    "    # Первый слой. равномерно с утра до вечера. с 8:00 до 16:59\n",
    "    day_time = np.array([np.random.uniform(8*60, 16.9*60) for _ in range(500)]).astype(int)\n",
    "    \n",
    "    # небольшой пик обед в районе 13. Обрезанный по 12 и 17 часам\n",
    "    mean_noon = 14 * 60\n",
    "    std_noon= 75\n",
    "    noon_start = 12 * 60\n",
    "    noon_end = 16.5 * 60\n",
    "    \n",
    "    # пик обед. Распределение\n",
    "    dist_noon = truncnorm((noon_start - mean_noon)/ std_noon, (noon_end - mean_noon) / std_noon, loc=mean_noon, scale=std_noon)\n",
    "    minutes_noon = dist_noon.rvs(400).astype(int)\n",
    "    \n",
    "    # Вечерний пик. От 17 до 23 часов.\n",
    "    mean_evn = 19.7 * 60\n",
    "    std_evn = 120\n",
    "    evn_start = 17 * 60\n",
    "    evn_end = 23.3 * 60\n",
    "    \n",
    "    # пик вечером. Распределение\n",
    "    dist_evn = truncnorm((evn_start - mean_evn) / std_evn, (evn_end - mean_evn) / std_evn, loc=mean_evn, scale=std_evn)\n",
    "    minutes_evn = dist_evn.rvs(2000).astype(int)\n",
    "    \n",
    "    # ночная равномерная низкая активность с 0 до 7:59 утра\n",
    "    night_hours_add = np.array([np.random.uniform(0, 7.9*60) for _ in range(200)]).astype(int)\n",
    "    \n",
    "    # соединяем все созданные массивы в один\n",
    "    minutes = np.concatenate((day_time, minutes_noon, minutes_evn, night_hours_add), axis=0) #  \n",
    "    \n",
    "    times = pd.Series(pd.to_timedelta(minutes, unit=\"min\")).dt.components\n",
    "    time_hours = times.hours\n",
    "\n",
    "    return time_hours, title"
   ]
  },
  {
   "cell_type": "code",
   "execution_count": 15,
   "id": "42b35287-7049-415b-941a-b5e83afb800d",
   "metadata": {},
   "outputs": [
    {
     "data": {
      "image/png": "[encoded data removed]",
      "text/plain": [
       "<Figure size 640x480 with 1 Axes>"
      ]
     },
     "metadata": {},
     "output_type": "display_data"
    }
   ],
   "source": [
    "# проверка результата\n",
    "\n",
    "time_hours, title = online_legit_time_dist()\n",
    "\n",
    "p = sns.histplot(x=time_hours, binwidth=1, discrete=True)\n",
    "p.set_xticks(ticks=time_hours.unique())\n",
    "p.set_ylim(0, 1000);"
   ]
  },
  {
   "cell_type": "markdown",
   "id": "d664e6a7-2f93-44f6-97f5-f19777913c7a",
   "metadata": {},
   "source": [
    "<br>"
   ]
  },
  {
   "cell_type": "markdown",
   "id": "e6436dd0-a484-4017-891f-d4837e3bb46c",
   "metadata": {},
   "source": [
    "### 4. Онлайн фрод\n",
    "- Равномерно с раннего утра до вечера\n",
    "- активность вечером-ночью с пиком в районе 00:00"
   ]
  },
  {
   "cell_type": "code",
   "execution_count": 16,
   "id": "497c212f-274d-4c9e-a720-22a14de0a457",
   "metadata": {},
   "outputs": [],
   "source": [
    "def online_fraud_time_dist():\n",
    "    # Время в минутах с начала суток. В данном случае нужно для ограничения распределения в рамках 24 часов.\n",
    "    start, end = 0, 1439  # 00:00 до 23:59\n",
    "\n",
    "    # название паттерна. Пригодится если нужно построить график распределения\n",
    "    title = \"Online. Fraud\"\n",
    "    \n",
    "    # Ночной пик после 00:00\n",
    "    mean = 1 # 1-я минута суток\n",
    "    std = 120\n",
    "    \n",
    "    # распределение ночного пика с максимумом примерно в первом часу суток: 00:00-00:59.\n",
    "    # Обрезка распределения слева по 00:00\n",
    "    dist = truncnorm((start - mean) / std, (end - mean) / std, loc=mean, scale=std)\n",
    "    minutes = dist.rvs(2000).astype(int)\n",
    "    \n",
    "    # Добавляем вечернюю активность - обрезка справа в 0 часов. Ограничиваем значения 00:00 часами справа\n",
    "    mean_evn = 23.9*60\n",
    "    std_evn = 120\n",
    "    evn_end = 23.9*60\n",
    "    \n",
    "    dist_evn = truncnorm((start - mean_evn) / std_evn, (evn_end - mean_evn) / std_evn, loc=mean_evn, scale=std_evn)\n",
    "    minutes_evn = dist_evn.rvs(2000).astype(int)\n",
    "    \n",
    "    # добавим небольшое количество равномерных значений на протяжении дня, с 4 до 20 включительно\n",
    "    mid_start = 4 * 60\n",
    "    mid_end = 20.9 * 60\n",
    "    midday_add =  np.array([np.random.uniform(mid_start, mid_end) for _ in range(4250)]).astype(int)\n",
    "    \n",
    "    # соединяем все три массива\n",
    "    total_minutes = np.concatenate((minutes, midday_add, minutes_evn)) # \n",
    "    \n",
    "    times = pd.Series(pd.to_timedelta(total_minutes, unit=\"min\")).dt.components\n",
    "    time_hours = times.hours\n",
    "\n",
    "    return time_hours, title"
   ]
  },
  {
   "cell_type": "code",
   "execution_count": 17,
   "id": "c4a126ab-564c-496c-b4e7-895aa93862c5",
   "metadata": {},
   "outputs": [
    {
     "data": {
      "image/png": "[encoded data removed]",
      "text/plain": [
       "<Figure size 640x480 with 1 Axes>"
      ]
     },
     "metadata": {},
     "output_type": "display_data"
    }
   ],
   "source": [
    "time_hours, title = online_fraud_time_dist()\n",
    "\n",
    "p = sns.histplot(x=time_hours, binwidth=1, discrete=True, color=\"indianred\")\n",
    "p.set_xticks(ticks=time_hours.sort_values().unique())\n",
    "p.set_ylim(0,2500);"
   ]
  },
  {
   "cell_type": "markdown",
   "id": "2ef37e84-18fa-4363-8c27-957ead1e36ef",
   "metadata": {},
   "source": [
    "<br>"
   ]
  },
  {
   "cell_type": "markdown",
   "id": "dd0e5c7d-5c65-486c-90f8-f77bcb73be53",
   "metadata": {},
   "source": [
    "### 5. Дневной оффлайн, легитимные транзакции.\n",
    "- Время с 8:00 до 22:00. С пиками в обед (небольшой) и вечером (основной)"
   ]
  },
  {
   "cell_type": "code",
   "execution_count": 18,
   "id": "2fd93ade-0a50-4322-96e6-ab5022f10923",
   "metadata": {},
   "outputs": [],
   "source": [
    "def offline_day_legit_time_dist():\n",
    "    # название паттерна. Пригодится если нужно построить график распределения\n",
    "    title = \"Offline. Day-only. Legit\"\n",
    "    \n",
    "    # равномерное распределение с 8:00 до 17:00\n",
    "    day_time = np.array([np.random.uniform(8*60, 16.9*60) for _ in range(2000)]).astype(int)\n",
    "    \n",
    "    # слабый пик обед в районе 13. Интервал с 12 до 17:00\n",
    "    mean_noon = 14 * 60\n",
    "    std_noon= 75\n",
    "    noon_start = 12 * 60\n",
    "    noon_end = 16.5 * 60\n",
    "    \n",
    "    # пик обед\n",
    "    dist_noon = truncnorm((noon_start - mean_noon)/ std_noon, (noon_end - mean_noon) / std_noon, loc=mean_noon, scale=std_noon)\n",
    "    minutes_noon = dist_noon.rvs(1000).astype(int)\n",
    "    \n",
    "    # Вечерний пик. С 17:00 до 22:00\n",
    "    mean_evn = 19.7 * 60\n",
    "    std_evn = 120\n",
    "    evn_start = 17 * 60\n",
    "    evn_end = 21.9 * 60\n",
    "    \n",
    "    # пик вечером\n",
    "    dist_evn = truncnorm((evn_start - mean_evn) / std_evn, (evn_end - mean_evn) / std_evn, loc=mean_evn, scale=std_evn)\n",
    "    minutes_evn = dist_evn.rvs(9000).astype(int)\n",
    "    \n",
    "    # соединяем все созданные массивы в один\n",
    "    minutes = np.concatenate((day_time, minutes_noon, minutes_evn), axis=0) #\n",
    "    \n",
    "    # переводим значения массива в тип pd.Timedelta.\n",
    "    # Затем через аттрибут .dt.components получаем датафрейм со значениями массива разбитых на колонки hours и minutes\n",
    "    # берем hours оттуда\n",
    "    times = pd.Series(pd.to_timedelta(minutes, unit=\"min\")).dt.components\n",
    "    time_hours = times.hours\n",
    "\n",
    "    return time_hours, title"
   ]
  },
  {
   "cell_type": "code",
   "execution_count": 19,
   "id": "5171a1e4-0f53-4e62-947e-4a27bba9612a",
   "metadata": {},
   "outputs": [
    {
     "data": {
      "image/png": "[encoded data removed]",
      "text/plain": [
       "<Figure size 640x480 with 1 Axes>"
      ]
     },
     "metadata": {},
     "output_type": "display_data"
    }
   ],
   "source": [
    "time_hours, title = offline_day_legit_time_dist()\n",
    "\n",
    "p = sns.histplot(x=time_hours, binwidth=1, discrete=True, color=\"steelblue\")\n",
    "p.set_xticks(ticks=time_hours.sort_values().unique())\n",
    "p.set_ylim(0,5000);"
   ]
  },
  {
   "cell_type": "markdown",
   "id": "e48cd16e-8717-4f9a-b4ac-cf3fc67720ca",
   "metadata": {},
   "source": [
    "<br>"
   ]
  },
  {
   "cell_type": "markdown",
   "id": "78bef52c-cd26-46c6-8d06-c35521c04da5",
   "metadata": {},
   "source": [
    "### 6. Дневной оффлайн. Фрод\n",
    "- равномерно с 08:00 до 22:00"
   ]
  },
  {
   "cell_type": "code",
   "execution_count": 20,
   "id": "5f258d3b-8ce5-4afc-bf95-9aed8d88035b",
   "metadata": {},
   "outputs": [],
   "source": [
    "def offline_day_fraud_time_dist():\n",
    "    # название паттерна. Пригодится если нужно построить график распределения\n",
    "    title = \"Offline. Day-only. Fraud\"\n",
    "\n",
    "    # равномерная активность с 8:00 до 22:00\n",
    "    day_time =  np.array([np.random.uniform(8, 21.9) for _ in range(500)]).astype(int)\n",
    "    \n",
    "    # переведем массив в серию\n",
    "    time_hours = pd.Series(day_time, name=\"hours\")\n",
    "\n",
    "    return time_hours, title"
   ]
  },
  {
   "cell_type": "code",
   "execution_count": 21,
   "id": "78b75ef0-bfdf-4bbe-88fd-845e12401fea",
   "metadata": {},
   "outputs": [
    {
     "data": {
      "image/png": "[encoded data removed]",
      "text/plain": [
       "<Figure size 640x480 with 1 Axes>"
      ]
     },
     "metadata": {},
     "output_type": "display_data"
    }
   ],
   "source": [
    "time_hours, title = offline_day_fraud_time_dist()\n",
    "\n",
    "p = sns.histplot(x=time_hours, binwidth=1, discrete=True, color=\"indianred\")\n",
    "p.set_xticks(ticks=time_hours.sort_values().unique())\n",
    "p.set_ylim(0, 150);"
   ]
  },
  {
   "cell_type": "markdown",
   "id": "1ac3bf64-246e-4068-944c-67e0d1bc3323",
   "metadata": {},
   "source": [
    "<br><br>"
   ]
  },
  {
   "cell_type": "markdown",
   "id": "872c849b-680a-4ea7-bd8e-c964747033c8",
   "metadata": {},
   "source": [
    "## **Оркестрирующие функции генерации паттернов времени**"
   ]
  },
  {
   "cell_type": "markdown",
   "id": "dc4f799b-5e43-421a-840f-6b26d7e58af0",
   "metadata": {},
   "source": [
    "<br>"
   ]
  },
  {
   "cell_type": "markdown",
   "id": "817e7d1b-99e8-4a19-9afd-9d04e83eba7b",
   "metadata": {},
   "source": [
    "## 1. Функция генерации весов для часов в периоде времени `gen_weights_for_time` - Созданная из подфункций <br>\n",
    "- на основании созданных функций распределений времени для соответсвующих временных паттернов, выдает веса (доли) для каждого часа в распределении, которые будут в использоваться в рандомизации времени генерируемой транзакции"
   ]
  },
  {
   "cell_type": "code",
   "execution_count": 22,
   "id": "bc695e71-e767-4b2f-afe1-1c044f4f7721",
   "metadata": {},
   "outputs": [],
   "source": [
    "def gen_weights_for_time(is_fraud=False, round_clock=False, online=False):\n",
    "    \"\"\"\n",
    "    возвращает датафрейм с часами от 0 до 23 и их весами,\n",
    "    название паттерна в виде строки и цвет для возможного графика - в зависимости от фрод не фрод\n",
    "    \n",
    "    is_fraud - True или False. По умолчанию False\n",
    "    round_clock - Круглосуточная категория или нет. True или False. По умолчанию False\n",
    "    online - None, True или False. По умолчанию False\n",
    "    \"\"\"\n",
    "    #  Далее в зависимости от условий генерация распределения времени для транзакций\n",
    "\n",
    "    # 1. Категория - круглосуточные, оффлайн, НЕ фрод \n",
    "    if not is_fraud and round_clock and not online:\n",
    "        time_hours, title = offline_24h_legit_time_dist()\n",
    "        \n",
    "    # 2. Оффлайн фрод. круглосуточные категории\n",
    "    elif is_fraud and round_clock and not online:\n",
    "        time_hours, title = offline_24h_fraud_time_dist()\n",
    "\n",
    "    # 3. НЕ фрод. Онлайн покупки\n",
    "    elif not is_fraud and round_clock and online:\n",
    "        time_hours, title = online_legit_time_dist()\n",
    "        \n",
    "    # 4. онлайн фрод\n",
    "    elif is_fraud and round_clock and online:\n",
    "        time_hours, title = online_fraud_time_dist()\n",
    "\n",
    "    # 5. Не круглосуточный. Не фрод. Оффлайн\n",
    "    elif not is_fraud and not round_clock and not online:\n",
    "        time_hours, title = offline_day_legit_time_dist()\n",
    "\n",
    "    # 6. Фрод. Не круглосуточный. Оффлайн. \n",
    "    elif is_fraud and not round_clock and not online:\n",
    "        time_hours, title = offline_day_fraud_time_dist()\n",
    "        \n",
    "    # посчитаем долю каждого часа. Это и будут веса \n",
    "    # т.е. вероятность транзакций в этот час для выбранного временного паттерна\n",
    "    # переведем индекс в колонку т.к. в индексе у нас часы\n",
    "    hour_weights = time_hours.value_counts(normalize=True).sort_index().reset_index()\n",
    "\n",
    "    # если период не круглосуточный. То добавить колонку остальных часов со значениями равными 0, для построения графиков со шкалой от 0 до 23\n",
    "    if not round_clock:\n",
    "        all_hours = pd.DataFrame({\"hours\":np.arange(0,24, step=1)}).astype(int)\n",
    "        hour_weights = all_hours.merge(hour_weights, how=\"left\", on=\"hours\").fillna(0)\n",
    "        \n",
    "    # цвет для графика.\n",
    "    if not is_fraud:\n",
    "        color = \"steelblue\"\n",
    "    elif is_fraud:\n",
    "        color = \"indianred\"\n",
    "        \n",
    "    return hour_weights, title, color"
   ]
  },
  {
   "cell_type": "markdown",
   "id": "53957c2b-f960-4985-8474-aad6647d14c0",
   "metadata": {},
   "source": [
    "<br>"
   ]
  },
  {
   "cell_type": "markdown",
   "id": "712ed2af-50e2-4b05-bdb1-f7a89274c381",
   "metadata": {},
   "source": [
    "## 2. Функция генерации весов для всех паттернов времени и сбора их в словарь\n",
    "- содержит в себе функцию `gen_weights_for_time()`\n",
    "- нужна для генерации всех паттернов один раз, чтобы дальше не вызывать функцию генерации каждого паттерна каждый раз для транзакции либо по отдельности записывать в переменные"
   ]
  },
  {
   "cell_type": "code",
   "execution_count": 23,
   "id": "32269da4-ddb2-4496-ba81-6437bb7a98ed",
   "metadata": {},
   "outputs": [],
   "source": [
    "def get_all_time_patterns(pattern_args):\n",
    "    \"\"\"\n",
    "    pattern_args - словарь с названием паттерна в ключе и словарем из аргументов для функции gen_weights_for_time,\n",
    "                   соответствующим паттерну.\n",
    "    \"\"\"\n",
    "\n",
    "    time_weights = defaultdict(dict)\n",
    "    \n",
    "    for key in pattern_args.keys():\n",
    "        weights, title, color = gen_weights_for_time(**pattern_args[key])\n",
    "        time_weights[key][\"weights\"] = weights\n",
    "        time_weights[key][\"title\"] = title\n",
    "        time_weights[key][\"color\"] = color\n",
    "\n",
    "    return time_weights"
   ]
  },
  {
   "cell_type": "markdown",
   "id": "075f4058-fc18-4c68-9033-874d318b11c1",
   "metadata": {},
   "source": [
    "<br>"
   ]
  },
  {
   "cell_type": "markdown",
   "id": "1b2a0c27-1d9d-487f-af31-a1ccb80b2207",
   "metadata": {},
   "source": [
    "## 3. Тест функции `gen_weights_for_time()`"
   ]
  },
  {
   "cell_type": "code",
   "execution_count": 24,
   "id": "45d9c8d6-3f8d-4d83-9974-4f416df68499",
   "metadata": {},
   "outputs": [],
   "source": [
    "# маппинг типа распределения и аргументов для функции gen_weights_for_time\n",
    "\n",
    "time_weight_args = {\n",
    "                        \"Offline_24h_Legit\":{\"is_fraud\":False, \"round_clock\":True, \"online\":False},\n",
    "                        \"Offline_24h_Fraud\":{\"is_fraud\":True, \"round_clock\":True, \"online\":False},\n",
    "                        \"Online_Legit\":{\"is_fraud\":False, \"round_clock\":True, \"online\":True},\n",
    "                        \"Online_Fraud\":{\"is_fraud\":True, \"round_clock\":True, \"online\":True},\n",
    "                        \"Offline_Day_Legit\":{\"is_fraud\":False, \"round_clock\":False, \"online\":False},\n",
    "                        \"Offline_Day_Fraud\":{\"is_fraud\":True, \"round_clock\":False, \"online\":False},\n",
    "                        }"
   ]
  },
  {
   "cell_type": "markdown",
   "id": "7e13936f-01b3-474e-956a-f334a3a947f6",
   "metadata": {},
   "source": [
    "### А. Графики каждого из распределений весов времени\n",
    "- запустим функцию и построим график каждого из распределений"
   ]
  },
  {
   "cell_type": "markdown",
   "id": "38f59622-4956-4e13-9b11-a1002600231a",
   "metadata": {},
   "source": [
    "**Функция построения одиночного графика распределения**"
   ]
  },
  {
   "cell_type": "code",
   "execution_count": 25,
   "id": "3ed39846-1597-4973-9477-8f4fc7846998",
   "metadata": {},
   "outputs": [],
   "source": [
    "def plot_time_weights(weights, title, color, ax):\n",
    "    sns.barplot(x=weights.hours, y=weights.proportion, color=color, ax=ax)\n",
    "    ax.set_xlim(-0.5, 23.5)\n",
    "    ax.set_ylim(0, 0.4)\n",
    "    ax.grid(axis=\"y\")\n",
    "    ax.set_title(title)"
   ]
  },
  {
   "cell_type": "code",
   "execution_count": 28,
   "id": "5a1ec294-e189-48ae-acc3-7a5cb886dbcd",
   "metadata": {},
   "outputs": [],
   "source": [
    "time_weights_test = get_all_time_patterns(time_weight_args)"
   ]
  },
  {
   "cell_type": "markdown",
   "id": "c9f993ed-2601-4e17-b3c8-21a69ec0eb1f",
   "metadata": {},
   "source": [
    "**Функция построения нескольких графиков time_weights в две колонки**"
   ]
  },
  {
   "cell_type": "code",
   "execution_count": 26,
   "id": "5dbddd19-3de5-48a2-877c-7b430183b919",
   "metadata": {},
   "outputs": [],
   "source": [
    "def plot_all_patterns(time_weights):\n",
    "    \"\"\"\n",
    "    Строит графики всех распределений из time_weights\n",
    "    time_weights - словарь с ключами - названиями паттернов и\n",
    "                   под каждым ключом еще словарь с весами для паттерна,\n",
    "                   названием для графика и цветом графика.\n",
    "                   Его можно сгенерировать функцией get_all_time_patterns\n",
    "    \"\"\"\n",
    "    dict_len = len(time_weights)\n",
    "    rows_number = math.ceil(dict_len / 2)\n",
    "    \n",
    "    rows_list = []\n",
    "    one_row = []\n",
    "      \n",
    "    for index, key in enumerate(time_weights.keys(), start=1):\n",
    "        one_row.append(key)\n",
    "        if len(one_row) == 2 or index == dict_len:\n",
    "            rows_list.append(one_row.copy())\n",
    "            one_row = []\n",
    "    \n",
    "    fig, axes = plt.subplots(nrows=rows_number, ncols=2, figsize=(10, rows_number*3))\n",
    "    \n",
    "    for sub_axes, keys in zip(axes, rows_list):\n",
    "        for ax, key in zip(sub_axes, keys):\n",
    "            weights = time_weights[key][\"weights\"]\n",
    "            title = time_weights[key][\"title\"]\n",
    "            color = time_weights[key][\"color\"]\n",
    "            # строим график на его оси\n",
    "            plot_time_weights(weights, title, color, ax)\n",
    "    \n",
    "    plt.tight_layout()\n",
    "    plt.show()"
   ]
  },
  {
   "cell_type": "markdown",
   "id": "11c26979-8fbc-4337-a310-5157615e6ebc",
   "metadata": {},
   "source": [
    "#### **Построим графики для всех распределений**"
   ]
  },
  {
   "cell_type": "code",
   "execution_count": 29,
   "id": "95da1433-8aaa-4e50-92c3-a6eb290c3e29",
   "metadata": {},
   "outputs": [
    {
     "data": {
      "image/png": "[encoded data removed]",
      "text/plain": [
       "<Figure size 1000x900 with 6 Axes>"
      ]
     },
     "metadata": {},
     "output_type": "display_data"
    }
   ],
   "source": [
    "\n",
    "\n",
    "plot_all_patterns(time_weights_test)"
   ]
  },
  {
   "cell_type": "markdown",
   "id": "4b3a9bcf-b58d-4d85-973f-8497e2863708",
   "metadata": {},
   "source": [
    "### Б. Проверка функции `gen_weights_for_time` на генерацию пустых значений\n",
    "Запустим функцию 100 раз для каждого типа распределения и проверим были ли случаи когда для какого-то часа не создался вес.\n",
    "Будет посчитано количество случаев когда создалось распределение с весами не для всех часов, которые указаны в периоде для распределения"
   ]
  },
  {
   "cell_type": "code",
   "execution_count": 30,
   "id": "2cb4aa04-af63-4ee5-880e-2cd379167e58",
   "metadata": {},
   "outputs": [
    {
     "name": "stdout",
     "output_type": "stream",
     "text": [
      "No empty values generated in distributions\n"
     ]
    }
   ],
   "source": [
    "# словарь для подсчета распределений в которых были пустые значения\n",
    "empt = defaultdict(int)\n",
    "\n",
    "# итерирование через варианты распределений\n",
    "for preset in time_weight_args.keys():\n",
    "    i = 0\n",
    "    round_clock =  time_weight_args[preset][\"round_clock\"]\n",
    "\n",
    "    # создать каждое распределение 100 раз\n",
    "    while i < 100:\n",
    "        weights, _, _ = gen_weights_for_time(**time_weight_args[preset])\n",
    "        \n",
    "        # если круглосуточное распределение и меньше 24 записей\n",
    "        if round_clock and weights.shape[0] < 24:\n",
    "            empt[preset] += 1\n",
    "            \n",
    "        # если чисто дневное распределение и меньше 14 записей (22 - 8)\n",
    "        elif not round_clock and weights[weights.proportion != 0].shape[0] < (22 - 8):\n",
    "            empt[preset] += 1\n",
    "        \n",
    "        i += 1\n",
    "\n",
    "# если словарь не пуст, то ошибка\n",
    "if empt:\n",
    "    raise ValueError(f\"Some time distributions may generate 0 values. {empt}\")\n",
    "else:\n",
    "    print(\"No empty values generated in distributions\")"
   ]
  },
  {
   "cell_type": "markdown",
   "id": "e559c911-1884-420a-a2de-99869cd6019b",
   "metadata": {},
   "source": [
    "<br><br>"
   ]
  },
  {
   "cell_type": "markdown",
   "id": "7b728a52-d2f1-40ae-a3af-27b60bcd21a1",
   "metadata": {},
   "source": [
    "# **Другие базовые функции для генерации времени**"
   ]
  },
  {
   "cell_type": "markdown",
   "id": "ee148337-2aa7-4d05-9159-6a533bb783f9",
   "metadata": {},
   "source": [
    "<br>"
   ]
  },
  {
   "cell_type": "markdown",
   "id": "82ad50f1-c5d2-4423-908b-1779798a8d07",
   "metadata": {},
   "source": [
    "## 1. Функции для генерации диапазона timestamp-ов"
   ]
  },
  {
   "cell_type": "markdown",
   "id": "1c7d62be-a088-4ec5-b3f8-4bd866940999",
   "metadata": {},
   "source": [
    "**А. Функция перевода pd.Series с datetime64 в unix time в секундах**"
   ]
  },
  {
   "cell_type": "code",
   "execution_count": 42,
   "id": "25b0538c-3471-47c1-8078-78683b242bf6",
   "metadata": {},
   "outputs": [],
   "source": [
    "def datetime_series_to_unix(series):\n",
    "    \"\"\"\n",
    "    Функция перевода pd.Series с datetime64 в unix time в секундах\n",
    "    ----------------------\n",
    "    series - pd.Series с типом datetime64\n",
    "    \"\"\"\n",
    "    unix_time_series = (series - pd.Timestamp(\"1970-01-01\")) // pd.Timedelta('1s')\n",
    "\n",
    "    return unix_time_series"
   ]
  },
  {
   "cell_type": "markdown",
   "id": "698a4618-b1e7-4e87-a397-4098d31efa3f",
   "metadata": {},
   "source": [
    "**Б. Функция создания датафрейма с диапазоном timestamp-ов**"
   ]
  },
  {
   "cell_type": "code",
   "execution_count": 43,
   "id": "958b8931-5968-4c87-98b1-5222357a7df7",
   "metadata": {},
   "outputs": [],
   "source": [
    "def create_timestamps_range_df(start, end, format=\"%Y-%m-%d\", freq=\"min\"):\n",
    "    \"\"\"\n",
    "    функция создания датафрейма с диапазоном timestamp-ов.\n",
    "    Возвращает pd.DataFrame | timestamp | hour | unix_time\n",
    "    -----------------------------------------------------\n",
    "    start - str. начало диапазона. Дата или дата и время формата указанного в format. По умолчанию %Y-%m-%d\n",
    "    end - str. конец диапазона. Дата или дата и время формата указанного в format. По умолчанию %Y-%m-%d\n",
    "    format - str. Строка формата stftime. Формат передаваемых start и end. \n",
    "    freq - str. частота генерации timestamp-ов. Минуты, секунды, дни и т.д. 'min', 's', 'D' etc.\n",
    "    \"\"\"\n",
    "    timestamps = pd.DataFrame(pd.Series(pd.date_range(pd.to_datetime(start, format=format), \\\n",
    "                                                  pd.to_datetime(end, format=format), freq=freq), name=\"timestamp\"))\n",
    "    timestamps[\"hour\"] = timestamps.timestamp.dt.hour\n",
    "    timestamps[\"unix_time\"] = datetime_series_to_unix(timestamps.timestamp)\n",
    "\n",
    "    return timestamps"
   ]
  },
  {
   "cell_type": "markdown",
   "id": "df06fe86-f005-4d20-9716-03f72b5d29a6",
   "metadata": {},
   "source": [
    "**В. Функция перевода pd.Timestamp в unix время**"
   ]
  },
  {
   "cell_type": "code",
   "execution_count": 44,
   "id": "3df8ce7c-f667-4f29-96c9-0cab31fd2cea",
   "metadata": {},
   "outputs": [],
   "source": [
    "def pd_timestamp_to_unix(timestamp):\n",
    "    \"\"\"\n",
    "    Переводит pandas timestamp в unix время\n",
    "    timestamp - чистый pandas timestamp. Без индексов. Не серия, не датафрейм.\n",
    "    \"\"\"\n",
    "    unix_time = (timestamp - pd.Timestamp(\"1970-01-01\")) // pd.Timedelta('1s')\n",
    "\n",
    "    return unix_time"
   ]
  },
  {
   "cell_type": "markdown",
   "id": "153cb07d-27b5-4453-918f-d6795c0548c9",
   "metadata": {},
   "source": [
    "<br>"
   ]
  },
  {
   "cell_type": "markdown",
   "id": "06393c6c-13a3-4c5a-a5ae-17940342eedf",
   "metadata": {},
   "source": [
    "## 2. Функция для генерации случайного времени транзакций согласно весам `sample_time_for_trans`"
   ]
  },
  {
   "cell_type": "code",
   "execution_count": 46,
   "id": "2c4254ab-e41b-4f46-b8e9-c8e786ac6467",
   "metadata": {},
   "outputs": [],
   "source": [
    "def sample_time_for_trans(timestamps, time_weights):\n",
    "    \"\"\"\n",
    "    Семплирует время из данных timestamps согласно переданным весам\n",
    "    ------------------------------\n",
    "    timestamps - pd.DataFrame. С колонками: | timestamp | unix_time | hour |  - pd.Timestamp, int, int.\n",
    "    time_weights - pd.DataFrame. С колонками: | hours | proportion | - int, float.\n",
    "    ------------------------------\n",
    "    Возвращает pd.Timestamp и int unix время в секундах\n",
    "    \"\"\"\n",
    "    # семплируем час из весов времени, указав веса для семплирования\n",
    "    txn_hour = time_weights.hours.sample(n=1, weights=time_weights.proportion, replace=True).iloc[0]\n",
    "    \n",
    "    # фильтруем основной датафрейм с диапазоном таймстемпов по этому часу\n",
    "    timestamps_subset = timestamps.loc[timestamps.hour == txn_hour]\n",
    "    \n",
    "    # из отфильтрованного датафрейма таймстемпов семплируем один таймстемп с равной вероятностью\n",
    "    txn_time = timestamps_subset.timestamp.sample(n=1, replace=True).iloc[0]\n",
    "    txn_unix = pd_timestamp_to_unix(txn_time)\n",
    "\n",
    "    return txn_time, txn_unix"
   ]
  }
 ],
 "metadata": {
  "kernelspec": {
   "display_name": "Python (poetry-env)",
   "language": "python",
   "name": "poetry-env"
  },
  "language_info": {
   "codemirror_mode": {
    "name": "ipython",
    "version": 3
   },
   "file_extension": ".py",
   "mimetype": "text/x-python",
   "name": "python",
   "nbconvert_exporter": "python",
   "pygments_lexer": "ipython3",
   "version": "3.12.7"
  }
 },
 "nbformat": 4,
 "nbformat_minor": 5
}
