{
 "cells": [
  {
   "cell_type": "markdown",
   "id": "6e67f9f0-aa7f-4dee-bfe2-42e82ed56749",
   "metadata": {},
   "source": [
    "# **Создание дополнительных данных для генерации транзакций**\n",
    "- Полные данные для категорий покупок\n",
    "- Правила для compromised client фрода\n",
    "- Распределение сумм для категорий, для compromised client фрода\n",
    "- Категории и их данные для purchase дроп фрода\n",
    "- Генерация счетов клиентов и внешних счетов"
   ]
  },
  {
   "cell_type": "code",
   "execution_count": 4,
   "id": "12be7ad7-dd4b-489d-bf97-e1c3662b6812",
   "metadata": {},
   "outputs": [],
   "source": [
    "import pandas as pd\n",
    "import numpy as np\n",
    "import os\n",
    "import pyarrow\n",
    "import yaml\n",
    "from data_generator.utils import load_configs"
   ]
  },
  {
   "cell_type": "code",
   "execution_count": 2,
   "id": "7f012542-3780-48db-a212-51d087c389f6",
   "metadata": {},
   "outputs": [],
   "source": [
    "np.set_printoptions(suppress=True)\n",
    "pd.set_option('display.max_columns', None)"
   ]
  },
  {
   "cell_type": "code",
   "execution_count": 3,
   "id": "edca314b-3d3b-4ef8-9f1c-2ec84f0f82bb",
   "metadata": {},
   "outputs": [
    {
     "data": {
      "text/plain": [
       "'C:\\\\Users\\\\iaros\\\\My_documents\\\\Education\\\\projects\\\\fraud_detection_01'"
      ]
     },
     "execution_count": 3,
     "metadata": {},
     "output_type": "execute_result"
    }
   ],
   "source": [
    "os.chdir(\"..\")\n",
    "os.getcwd()"
   ]
  },
  {
   "cell_type": "code",
   "execution_count": 7,
   "id": "9e4b7ea9-c8d1-4405-8258-ae940e992081",
   "metadata": {},
   "outputs": [],
   "source": [
    "# Базовые конфиги\n",
    "base_cfg = load_configs(\"./config/base.yaml\")\n",
    "\n",
    "# Фрод конфиги\n",
    "fraud_cfg = load_configs(\"./config/fraud.yaml\")\n",
    "\n",
    "# Пути к файлам\n",
    "data_paths = base_cfg[\"data_paths\"]"
   ]
  },
  {
   "cell_type": "code",
   "execution_count": 6,
   "id": "6c2bcd5c-1b50-4a5b-af1c-e4844f1c01c4",
   "metadata": {},
   "outputs": [],
   "source": [
    "category_stats = pd.read_csv(data_paths[\"base\"][\"category_stats\"])\n",
    "fraud_kaggle = pd.read_csv(\"data/raw/fraudTest.csv.zip\", compression=\"zip\")\n",
    "clients = pd.read_parquet(data_paths[\"clients\"][\"clients\"])"
   ]
  },
  {
   "cell_type": "markdown",
   "id": "0be28af3-499c-441d-b6f5-1d524c594079",
   "metadata": {},
   "source": [
    "<br>"
   ]
  },
  {
   "cell_type": "markdown",
   "id": "a5386235-ca67-42e4-8763-c163afb1b77f",
   "metadata": {},
   "source": [
    "# **Создание признаков для категорий покупок**  \n",
    "- нам понадобятся данные о категориях покупок, также нужны веса категорий (как часто в них покупают) и их информация: онлайн/оффлайн, круглосуточная/некруглосуточная, вероятность фрода. Далее мы создадим небольшой датафрейм с нужными данными для категорий"
   ]
  },
  {
   "cell_type": "code",
   "execution_count": 8,
   "id": "83a7ddb2-de11-45e6-b9c4-6898d1353de4",
   "metadata": {},
   "outputs": [
    {
     "data": {
      "text/html": [
       "<div>\n",
       "<style scoped>\n",
       "    .dataframe tbody tr th:only-of-type {\n",
       "        vertical-align: middle;\n",
       "    }\n",
       "\n",
       "    .dataframe tbody tr th {\n",
       "        vertical-align: top;\n",
       "    }\n",
       "\n",
       "    .dataframe thead th {\n",
       "        text-align: right;\n",
       "    }\n",
       "</style>\n",
       "<table border=\"1\" class=\"dataframe\">\n",
       "  <thead>\n",
       "    <tr style=\"text-align: right;\">\n",
       "      <th></th>\n",
       "      <th>category</th>\n",
       "      <th>avg_amt</th>\n",
       "      <th>amt_std</th>\n",
       "      <th>cat_count</th>\n",
       "      <th>online</th>\n",
       "    </tr>\n",
       "  </thead>\n",
       "  <tbody>\n",
       "    <tr>\n",
       "      <th>0</th>\n",
       "      <td>gas_transport</td>\n",
       "      <td>63.577001</td>\n",
       "      <td>15.828399</td>\n",
       "      <td>56370</td>\n",
       "      <td>False</td>\n",
       "    </tr>\n",
       "    <tr>\n",
       "      <th>1</th>\n",
       "      <td>grocery_pos</td>\n",
       "      <td>115.885327</td>\n",
       "      <td>51.552330</td>\n",
       "      <td>52553</td>\n",
       "      <td>False</td>\n",
       "    </tr>\n",
       "    <tr>\n",
       "      <th>2</th>\n",
       "      <td>home</td>\n",
       "      <td>57.995413</td>\n",
       "      <td>48.085281</td>\n",
       "      <td>52345</td>\n",
       "      <td>False</td>\n",
       "    </tr>\n",
       "    <tr>\n",
       "      <th>3</th>\n",
       "      <td>shopping_pos</td>\n",
       "      <td>76.862457</td>\n",
       "      <td>232.484678</td>\n",
       "      <td>49791</td>\n",
       "      <td>False</td>\n",
       "    </tr>\n",
       "    <tr>\n",
       "      <th>4</th>\n",
       "      <td>kids_pets</td>\n",
       "      <td>57.506913</td>\n",
       "      <td>48.748482</td>\n",
       "      <td>48692</td>\n",
       "      <td>False</td>\n",
       "    </tr>\n",
       "    <tr>\n",
       "      <th>5</th>\n",
       "      <td>shopping_net</td>\n",
       "      <td>83.481653</td>\n",
       "      <td>237.219758</td>\n",
       "      <td>41779</td>\n",
       "      <td>True</td>\n",
       "    </tr>\n",
       "  </tbody>\n",
       "</table>\n",
       "</div>"
      ],
      "text/plain": [
       "        category     avg_amt     amt_std  cat_count online\n",
       "0  gas_transport   63.577001   15.828399      56370  False\n",
       "1    grocery_pos  115.885327   51.552330      52553  False\n",
       "2           home   57.995413   48.085281      52345  False\n",
       "3   shopping_pos   76.862457  232.484678      49791  False\n",
       "4      kids_pets   57.506913   48.748482      48692  False\n",
       "5   shopping_net   83.481653  237.219758      41779   True"
      ]
     },
     "execution_count": 8,
     "metadata": {},
     "output_type": "execute_result"
    }
   ],
   "source": [
    "# добавим колонку онлайн или не онлайн категория со значениями True и False соответсвенно\n",
    "\n",
    "category_stats.loc[category_stats.category.str.contains(\"net\"), \"online\"] = True\n",
    "category_stats.loc[~category_stats.category.str.contains(\"net\"), \"online\"] = False\n",
    "category_stats.head(6)"
   ]
  },
  {
   "cell_type": "code",
   "execution_count": 9,
   "id": "8211faf0-7c5a-449f-8098-1414b54a5721",
   "metadata": {},
   "outputs": [
    {
     "data": {
      "text/html": [
       "<div>\n",
       "<style scoped>\n",
       "    .dataframe tbody tr th:only-of-type {\n",
       "        vertical-align: middle;\n",
       "    }\n",
       "\n",
       "    .dataframe tbody tr th {\n",
       "        vertical-align: top;\n",
       "    }\n",
       "\n",
       "    .dataframe thead th {\n",
       "        text-align: right;\n",
       "    }\n",
       "</style>\n",
       "<table border=\"1\" class=\"dataframe\">\n",
       "  <thead>\n",
       "    <tr style=\"text-align: right;\">\n",
       "      <th></th>\n",
       "      <th>category</th>\n",
       "      <th>avg_amt</th>\n",
       "      <th>amt_std</th>\n",
       "      <th>cat_count</th>\n",
       "      <th>online</th>\n",
       "      <th>share</th>\n",
       "    </tr>\n",
       "  </thead>\n",
       "  <tbody>\n",
       "    <tr>\n",
       "      <th>0</th>\n",
       "      <td>gas_transport</td>\n",
       "      <td>63.577001</td>\n",
       "      <td>15.828399</td>\n",
       "      <td>56370</td>\n",
       "      <td>False</td>\n",
       "      <td>0.101436</td>\n",
       "    </tr>\n",
       "    <tr>\n",
       "      <th>1</th>\n",
       "      <td>grocery_pos</td>\n",
       "      <td>115.885327</td>\n",
       "      <td>51.552330</td>\n",
       "      <td>52553</td>\n",
       "      <td>False</td>\n",
       "      <td>0.094568</td>\n",
       "    </tr>\n",
       "    <tr>\n",
       "      <th>2</th>\n",
       "      <td>home</td>\n",
       "      <td>57.995413</td>\n",
       "      <td>48.085281</td>\n",
       "      <td>52345</td>\n",
       "      <td>False</td>\n",
       "      <td>0.094193</td>\n",
       "    </tr>\n",
       "    <tr>\n",
       "      <th>3</th>\n",
       "      <td>shopping_pos</td>\n",
       "      <td>76.862457</td>\n",
       "      <td>232.484678</td>\n",
       "      <td>49791</td>\n",
       "      <td>False</td>\n",
       "      <td>0.089597</td>\n",
       "    </tr>\n",
       "    <tr>\n",
       "      <th>4</th>\n",
       "      <td>kids_pets</td>\n",
       "      <td>57.506913</td>\n",
       "      <td>48.748482</td>\n",
       "      <td>48692</td>\n",
       "      <td>False</td>\n",
       "      <td>0.087620</td>\n",
       "    </tr>\n",
       "  </tbody>\n",
       "</table>\n",
       "</div>"
      ],
      "text/plain": [
       "        category     avg_amt     amt_std  cat_count online     share\n",
       "0  gas_transport   63.577001   15.828399      56370  False  0.101436\n",
       "1    grocery_pos  115.885327   51.552330      52553  False  0.094568\n",
       "2           home   57.995413   48.085281      52345  False  0.094193\n",
       "3   shopping_pos   76.862457  232.484678      49791  False  0.089597\n",
       "4      kids_pets   57.506913   48.748482      48692  False  0.087620"
      ]
     },
     "execution_count": 9,
     "metadata": {},
     "output_type": "execute_result"
    }
   ],
   "source": [
    "# добавим долю категории, ее \"вес\" среди категорий - для определения распростаненности категории\n",
    "\n",
    "category_stats[\"share\"] = category_stats.cat_count.div(category_stats.cat_count.sum())\n",
    "category_stats.head()"
   ]
  },
  {
   "cell_type": "code",
   "execution_count": 10,
   "id": "0c72d7b4-d5f6-4a8c-8343-ba3c9c62d9b9",
   "metadata": {},
   "outputs": [],
   "source": [
    "category_stats_final = category_stats.copy()"
   ]
  },
  {
   "cell_type": "code",
   "execution_count": 11,
   "id": "63683e5c-2af2-4aa7-abc1-42de1593b13b",
   "metadata": {},
   "outputs": [
    {
     "data": {
      "text/html": [
       "<div>\n",
       "<style scoped>\n",
       "    .dataframe tbody tr th:only-of-type {\n",
       "        vertical-align: middle;\n",
       "    }\n",
       "\n",
       "    .dataframe tbody tr th {\n",
       "        vertical-align: top;\n",
       "    }\n",
       "\n",
       "    .dataframe thead th {\n",
       "        text-align: right;\n",
       "    }\n",
       "</style>\n",
       "<table border=\"1\" class=\"dataframe\">\n",
       "  <thead>\n",
       "    <tr style=\"text-align: right;\">\n",
       "      <th></th>\n",
       "      <th>category</th>\n",
       "      <th>avg_amt</th>\n",
       "      <th>amt_std</th>\n",
       "      <th>cat_count</th>\n",
       "      <th>online</th>\n",
       "      <th>share</th>\n",
       "    </tr>\n",
       "  </thead>\n",
       "  <tbody>\n",
       "    <tr>\n",
       "      <th>0</th>\n",
       "      <td>gas_transport</td>\n",
       "      <td>953.655019</td>\n",
       "      <td>237.425981</td>\n",
       "      <td>56370</td>\n",
       "      <td>False</td>\n",
       "      <td>0.101436</td>\n",
       "    </tr>\n",
       "    <tr>\n",
       "      <th>1</th>\n",
       "      <td>grocery_pos</td>\n",
       "      <td>1738.279905</td>\n",
       "      <td>773.284951</td>\n",
       "      <td>52553</td>\n",
       "      <td>False</td>\n",
       "      <td>0.094568</td>\n",
       "    </tr>\n",
       "    <tr>\n",
       "      <th>2</th>\n",
       "      <td>home</td>\n",
       "      <td>869.931194</td>\n",
       "      <td>721.279215</td>\n",
       "      <td>52345</td>\n",
       "      <td>False</td>\n",
       "      <td>0.094193</td>\n",
       "    </tr>\n",
       "    <tr>\n",
       "      <th>3</th>\n",
       "      <td>shopping_pos</td>\n",
       "      <td>1152.936859</td>\n",
       "      <td>3487.270165</td>\n",
       "      <td>49791</td>\n",
       "      <td>False</td>\n",
       "      <td>0.089597</td>\n",
       "    </tr>\n",
       "    <tr>\n",
       "      <th>4</th>\n",
       "      <td>kids_pets</td>\n",
       "      <td>862.603690</td>\n",
       "      <td>731.227232</td>\n",
       "      <td>48692</td>\n",
       "      <td>False</td>\n",
       "      <td>0.087620</td>\n",
       "    </tr>\n",
       "    <tr>\n",
       "      <th>5</th>\n",
       "      <td>shopping_net</td>\n",
       "      <td>1252.224798</td>\n",
       "      <td>3558.296372</td>\n",
       "      <td>41779</td>\n",
       "      <td>True</td>\n",
       "      <td>0.075180</td>\n",
       "    </tr>\n",
       "    <tr>\n",
       "      <th>6</th>\n",
       "      <td>entertainment</td>\n",
       "      <td>959.772599</td>\n",
       "      <td>963.449020</td>\n",
       "      <td>40104</td>\n",
       "      <td>False</td>\n",
       "      <td>0.072166</td>\n",
       "    </tr>\n",
       "    <tr>\n",
       "      <th>7</th>\n",
       "      <td>personal_care</td>\n",
       "      <td>723.495309</td>\n",
       "      <td>741.164119</td>\n",
       "      <td>39327</td>\n",
       "      <td>False</td>\n",
       "      <td>0.070768</td>\n",
       "    </tr>\n",
       "    <tr>\n",
       "      <th>8</th>\n",
       "      <td>food_dining</td>\n",
       "      <td>761.669074</td>\n",
       "      <td>726.735802</td>\n",
       "      <td>39268</td>\n",
       "      <td>False</td>\n",
       "      <td>0.070662</td>\n",
       "    </tr>\n",
       "    <tr>\n",
       "      <th>9</th>\n",
       "      <td>health_fitness</td>\n",
       "      <td>808.011475</td>\n",
       "      <td>719.478766</td>\n",
       "      <td>36674</td>\n",
       "      <td>False</td>\n",
       "      <td>0.065994</td>\n",
       "    </tr>\n",
       "    <tr>\n",
       "      <th>10</th>\n",
       "      <td>misc_pos</td>\n",
       "      <td>932.733689</td>\n",
       "      <td>2009.808415</td>\n",
       "      <td>34574</td>\n",
       "      <td>False</td>\n",
       "      <td>0.062215</td>\n",
       "    </tr>\n",
       "    <tr>\n",
       "      <th>11</th>\n",
       "      <td>misc_net</td>\n",
       "      <td>1179.003552</td>\n",
       "      <td>2454.586333</td>\n",
       "      <td>27367</td>\n",
       "      <td>True</td>\n",
       "      <td>0.049246</td>\n",
       "    </tr>\n",
       "    <tr>\n",
       "      <th>12</th>\n",
       "      <td>grocery_net</td>\n",
       "      <td>805.975010</td>\n",
       "      <td>343.626548</td>\n",
       "      <td>19426</td>\n",
       "      <td>True</td>\n",
       "      <td>0.034957</td>\n",
       "    </tr>\n",
       "    <tr>\n",
       "      <th>13</th>\n",
       "      <td>travel</td>\n",
       "      <td>1685.845238</td>\n",
       "      <td>8939.194422</td>\n",
       "      <td>17449</td>\n",
       "      <td>False</td>\n",
       "      <td>0.031399</td>\n",
       "    </tr>\n",
       "  </tbody>\n",
       "</table>\n",
       "</div>"
      ],
      "text/plain": [
       "          category      avg_amt      amt_std  cat_count online     share\n",
       "0    gas_transport   953.655019   237.425981      56370  False  0.101436\n",
       "1      grocery_pos  1738.279905   773.284951      52553  False  0.094568\n",
       "2             home   869.931194   721.279215      52345  False  0.094193\n",
       "3     shopping_pos  1152.936859  3487.270165      49791  False  0.089597\n",
       "4        kids_pets   862.603690   731.227232      48692  False  0.087620\n",
       "5     shopping_net  1252.224798  3558.296372      41779   True  0.075180\n",
       "6    entertainment   959.772599   963.449020      40104  False  0.072166\n",
       "7    personal_care   723.495309   741.164119      39327  False  0.070768\n",
       "8      food_dining   761.669074   726.735802      39268  False  0.070662\n",
       "9   health_fitness   808.011475   719.478766      36674  False  0.065994\n",
       "10        misc_pos   932.733689  2009.808415      34574  False  0.062215\n",
       "11        misc_net  1179.003552  2454.586333      27367   True  0.049246\n",
       "12     grocery_net   805.975010   343.626548      19426   True  0.034957\n",
       "13          travel  1685.845238  8939.194422      17449  False  0.031399"
      ]
     },
     "execution_count": 11,
     "metadata": {},
     "output_type": "execute_result"
    }
   ],
   "source": [
    "# умножим средние суммы транзакций по категориям и стандартное отклонение сумм на 15, для приближенности к ценам в рублях\n",
    "\n",
    "category_stats_final[[\"avg_amt\",\"amt_std\"]] = category_stats_final[[\"avg_amt\",\"amt_std\"]] * 15\n",
    "category_stats_final"
   ]
  },
  {
   "cell_type": "code",
   "execution_count": 12,
   "id": "f2057b38-0339-48ed-aba4-eca6d532dd65",
   "metadata": {},
   "outputs": [
    {
     "data": {
      "text/html": [
       "<div>\n",
       "<style scoped>\n",
       "    .dataframe tbody tr th:only-of-type {\n",
       "        vertical-align: middle;\n",
       "    }\n",
       "\n",
       "    .dataframe tbody tr th {\n",
       "        vertical-align: top;\n",
       "    }\n",
       "\n",
       "    .dataframe thead th {\n",
       "        text-align: right;\n",
       "    }\n",
       "</style>\n",
       "<table border=\"1\" class=\"dataframe\">\n",
       "  <thead>\n",
       "    <tr style=\"text-align: right;\">\n",
       "      <th></th>\n",
       "      <th>category</th>\n",
       "      <th>fraud_count</th>\n",
       "    </tr>\n",
       "  </thead>\n",
       "  <tbody>\n",
       "    <tr>\n",
       "      <th>0</th>\n",
       "      <td>entertainment</td>\n",
       "      <td>59</td>\n",
       "    </tr>\n",
       "    <tr>\n",
       "      <th>1</th>\n",
       "      <td>food_dining</td>\n",
       "      <td>54</td>\n",
       "    </tr>\n",
       "    <tr>\n",
       "      <th>2</th>\n",
       "      <td>gas_transport</td>\n",
       "      <td>154</td>\n",
       "    </tr>\n",
       "    <tr>\n",
       "      <th>3</th>\n",
       "      <td>grocery_net</td>\n",
       "      <td>41</td>\n",
       "    </tr>\n",
       "    <tr>\n",
       "      <th>4</th>\n",
       "      <td>grocery_pos</td>\n",
       "      <td>485</td>\n",
       "    </tr>\n",
       "  </tbody>\n",
       "</table>\n",
       "</div>"
      ],
      "text/plain": [
       "        category  fraud_count\n",
       "0  entertainment           59\n",
       "1    food_dining           54\n",
       "2  gas_transport          154\n",
       "3    grocery_net           41\n",
       "4    grocery_pos          485"
      ]
     },
     "execution_count": 12,
     "metadata": {},
     "output_type": "execute_result"
    }
   ],
   "source": [
    "# Найдем количество фрода по категориям из датасета kaggle. Для определения вероятности фрода при генерации транзакций\n",
    "\n",
    "fraud_trans_count_by_cat = fraud_kaggle.query(\"is_fraud == 1\") \\\n",
    "                                        .groupby(\"category\", as_index=False).agg({\"trans_num\":\"count\"}) \\\n",
    "                                        .rename(columns={\"trans_num\":\"fraud_count\"})\n",
    "fraud_trans_count_by_cat.head()"
   ]
  },
  {
   "cell_type": "code",
   "execution_count": 13,
   "id": "d6a22e93-4cc1-4608-a063-c645aa72a3cb",
   "metadata": {},
   "outputs": [
    {
     "data": {
      "text/html": [
       "<div>\n",
       "<style scoped>\n",
       "    .dataframe tbody tr th:only-of-type {\n",
       "        vertical-align: middle;\n",
       "    }\n",
       "\n",
       "    .dataframe tbody tr th {\n",
       "        vertical-align: top;\n",
       "    }\n",
       "\n",
       "    .dataframe thead th {\n",
       "        text-align: right;\n",
       "    }\n",
       "</style>\n",
       "<table border=\"1\" class=\"dataframe\">\n",
       "  <thead>\n",
       "    <tr style=\"text-align: right;\">\n",
       "      <th></th>\n",
       "      <th>category</th>\n",
       "      <th>avg_amt</th>\n",
       "      <th>amt_std</th>\n",
       "      <th>cat_count</th>\n",
       "      <th>online</th>\n",
       "      <th>share</th>\n",
       "      <th>fraud_count</th>\n",
       "    </tr>\n",
       "  </thead>\n",
       "  <tbody>\n",
       "    <tr>\n",
       "      <th>0</th>\n",
       "      <td>gas_transport</td>\n",
       "      <td>953.655019</td>\n",
       "      <td>237.425981</td>\n",
       "      <td>56370</td>\n",
       "      <td>False</td>\n",
       "      <td>0.101436</td>\n",
       "      <td>154</td>\n",
       "    </tr>\n",
       "    <tr>\n",
       "      <th>1</th>\n",
       "      <td>grocery_pos</td>\n",
       "      <td>1738.279905</td>\n",
       "      <td>773.284951</td>\n",
       "      <td>52553</td>\n",
       "      <td>False</td>\n",
       "      <td>0.094568</td>\n",
       "      <td>485</td>\n",
       "    </tr>\n",
       "    <tr>\n",
       "      <th>2</th>\n",
       "      <td>home</td>\n",
       "      <td>869.931194</td>\n",
       "      <td>721.279215</td>\n",
       "      <td>52345</td>\n",
       "      <td>False</td>\n",
       "      <td>0.094193</td>\n",
       "      <td>67</td>\n",
       "    </tr>\n",
       "  </tbody>\n",
       "</table>\n",
       "</div>"
      ],
      "text/plain": [
       "        category      avg_amt     amt_std  cat_count online     share  \\\n",
       "0  gas_transport   953.655019  237.425981      56370  False  0.101436   \n",
       "1    grocery_pos  1738.279905  773.284951      52553  False  0.094568   \n",
       "2           home   869.931194  721.279215      52345  False  0.094193   \n",
       "\n",
       "   fraud_count  \n",
       "0          154  \n",
       "1          485  \n",
       "2           67  "
      ]
     },
     "execution_count": 13,
     "metadata": {},
     "output_type": "execute_result"
    }
   ],
   "source": [
    "cat_stats_full = category_stats_final.merge(fraud_trans_count_by_cat, on=\"category\")\n",
    "cat_stats_full.head(3)"
   ]
  },
  {
   "cell_type": "code",
   "execution_count": 14,
   "id": "d225ece7-800c-4d97-a3d3-ca4dd417e66e",
   "metadata": {},
   "outputs": [
    {
     "data": {
      "text/html": [
       "<div>\n",
       "<style scoped>\n",
       "    .dataframe tbody tr th:only-of-type {\n",
       "        vertical-align: middle;\n",
       "    }\n",
       "\n",
       "    .dataframe tbody tr th {\n",
       "        vertical-align: top;\n",
       "    }\n",
       "\n",
       "    .dataframe thead th {\n",
       "        text-align: right;\n",
       "    }\n",
       "</style>\n",
       "<table border=\"1\" class=\"dataframe\">\n",
       "  <thead>\n",
       "    <tr style=\"text-align: right;\">\n",
       "      <th></th>\n",
       "      <th>category</th>\n",
       "      <th>avg_amt</th>\n",
       "      <th>amt_std</th>\n",
       "      <th>cat_count</th>\n",
       "      <th>online</th>\n",
       "      <th>share</th>\n",
       "      <th>fraud_count</th>\n",
       "      <th>fraud_share</th>\n",
       "    </tr>\n",
       "  </thead>\n",
       "  <tbody>\n",
       "    <tr>\n",
       "      <th>0</th>\n",
       "      <td>gas_transport</td>\n",
       "      <td>953.655019</td>\n",
       "      <td>237.425981</td>\n",
       "      <td>56370</td>\n",
       "      <td>False</td>\n",
       "      <td>0.101436</td>\n",
       "      <td>154</td>\n",
       "      <td>0.002732</td>\n",
       "    </tr>\n",
       "    <tr>\n",
       "      <th>1</th>\n",
       "      <td>grocery_pos</td>\n",
       "      <td>1738.279905</td>\n",
       "      <td>773.284951</td>\n",
       "      <td>52553</td>\n",
       "      <td>False</td>\n",
       "      <td>0.094568</td>\n",
       "      <td>485</td>\n",
       "      <td>0.009229</td>\n",
       "    </tr>\n",
       "    <tr>\n",
       "      <th>2</th>\n",
       "      <td>home</td>\n",
       "      <td>869.931194</td>\n",
       "      <td>721.279215</td>\n",
       "      <td>52345</td>\n",
       "      <td>False</td>\n",
       "      <td>0.094193</td>\n",
       "      <td>67</td>\n",
       "      <td>0.001280</td>\n",
       "    </tr>\n",
       "    <tr>\n",
       "      <th>3</th>\n",
       "      <td>shopping_pos</td>\n",
       "      <td>1152.936859</td>\n",
       "      <td>3487.270165</td>\n",
       "      <td>49791</td>\n",
       "      <td>False</td>\n",
       "      <td>0.089597</td>\n",
       "      <td>213</td>\n",
       "      <td>0.004278</td>\n",
       "    </tr>\n",
       "    <tr>\n",
       "      <th>4</th>\n",
       "      <td>kids_pets</td>\n",
       "      <td>862.603690</td>\n",
       "      <td>731.227232</td>\n",
       "      <td>48692</td>\n",
       "      <td>False</td>\n",
       "      <td>0.087620</td>\n",
       "      <td>65</td>\n",
       "      <td>0.001335</td>\n",
       "    </tr>\n",
       "  </tbody>\n",
       "</table>\n",
       "</div>"
      ],
      "text/plain": [
       "        category      avg_amt      amt_std  cat_count online     share  \\\n",
       "0  gas_transport   953.655019   237.425981      56370  False  0.101436   \n",
       "1    grocery_pos  1738.279905   773.284951      52553  False  0.094568   \n",
       "2           home   869.931194   721.279215      52345  False  0.094193   \n",
       "3   shopping_pos  1152.936859  3487.270165      49791  False  0.089597   \n",
       "4      kids_pets   862.603690   731.227232      48692  False  0.087620   \n",
       "\n",
       "   fraud_count  fraud_share  \n",
       "0          154     0.002732  \n",
       "1          485     0.009229  \n",
       "2           67     0.001280  \n",
       "3          213     0.004278  \n",
       "4           65     0.001335  "
      ]
     },
     "execution_count": 14,
     "metadata": {},
     "output_type": "execute_result"
    }
   ],
   "source": [
    "# доля фрода в категории\n",
    "\n",
    "cat_stats_full[\"fraud_share\"] = cat_stats_full.fraud_count.div(cat_stats_full.cat_count)\n",
    "cat_stats_full.head()"
   ]
  },
  {
   "cell_type": "code",
   "execution_count": 15,
   "id": "d52842d9-3ca9-4674-9e5b-52bb2cd77a82",
   "metadata": {},
   "outputs": [],
   "source": [
    "# Добавим критерий возможности круглосуточной покупки в категории\n",
    "\n",
    "cat_stats_full[\"round_clock\"] = False"
   ]
  },
  {
   "cell_type": "code",
   "execution_count": 16,
   "id": "cb99db5d-0dc6-4854-8638-d7b16429e4fc",
   "metadata": {},
   "outputs": [],
   "source": [
    "round_clock = ['gas_transport', 'grocery_pos','shopping_net', 'food_dining', 'misc_pos', 'misc_net', 'grocery_net']"
   ]
  },
  {
   "cell_type": "code",
   "execution_count": 17,
   "id": "a983adc2-057c-411f-aa6f-1216d81778da",
   "metadata": {},
   "outputs": [
    {
     "data": {
      "text/html": [
       "<div>\n",
       "<style scoped>\n",
       "    .dataframe tbody tr th:only-of-type {\n",
       "        vertical-align: middle;\n",
       "    }\n",
       "\n",
       "    .dataframe tbody tr th {\n",
       "        vertical-align: top;\n",
       "    }\n",
       "\n",
       "    .dataframe thead th {\n",
       "        text-align: right;\n",
       "    }\n",
       "</style>\n",
       "<table border=\"1\" class=\"dataframe\">\n",
       "  <thead>\n",
       "    <tr style=\"text-align: right;\">\n",
       "      <th></th>\n",
       "      <th>category</th>\n",
       "      <th>avg_amt</th>\n",
       "      <th>amt_std</th>\n",
       "      <th>cat_count</th>\n",
       "      <th>online</th>\n",
       "      <th>share</th>\n",
       "      <th>fraud_count</th>\n",
       "      <th>fraud_share</th>\n",
       "      <th>round_clock</th>\n",
       "    </tr>\n",
       "  </thead>\n",
       "  <tbody>\n",
       "    <tr>\n",
       "      <th>0</th>\n",
       "      <td>gas_transport</td>\n",
       "      <td>953.655019</td>\n",
       "      <td>237.425981</td>\n",
       "      <td>56370</td>\n",
       "      <td>False</td>\n",
       "      <td>0.101436</td>\n",
       "      <td>154</td>\n",
       "      <td>0.002732</td>\n",
       "      <td>True</td>\n",
       "    </tr>\n",
       "    <tr>\n",
       "      <th>1</th>\n",
       "      <td>grocery_pos</td>\n",
       "      <td>1738.279905</td>\n",
       "      <td>773.284951</td>\n",
       "      <td>52553</td>\n",
       "      <td>False</td>\n",
       "      <td>0.094568</td>\n",
       "      <td>485</td>\n",
       "      <td>0.009229</td>\n",
       "      <td>True</td>\n",
       "    </tr>\n",
       "    <tr>\n",
       "      <th>2</th>\n",
       "      <td>home</td>\n",
       "      <td>869.931194</td>\n",
       "      <td>721.279215</td>\n",
       "      <td>52345</td>\n",
       "      <td>False</td>\n",
       "      <td>0.094193</td>\n",
       "      <td>67</td>\n",
       "      <td>0.001280</td>\n",
       "      <td>False</td>\n",
       "    </tr>\n",
       "    <tr>\n",
       "      <th>3</th>\n",
       "      <td>shopping_pos</td>\n",
       "      <td>1152.936859</td>\n",
       "      <td>3487.270165</td>\n",
       "      <td>49791</td>\n",
       "      <td>False</td>\n",
       "      <td>0.089597</td>\n",
       "      <td>213</td>\n",
       "      <td>0.004278</td>\n",
       "      <td>False</td>\n",
       "    </tr>\n",
       "    <tr>\n",
       "      <th>4</th>\n",
       "      <td>kids_pets</td>\n",
       "      <td>862.603690</td>\n",
       "      <td>731.227232</td>\n",
       "      <td>48692</td>\n",
       "      <td>False</td>\n",
       "      <td>0.087620</td>\n",
       "      <td>65</td>\n",
       "      <td>0.001335</td>\n",
       "      <td>False</td>\n",
       "    </tr>\n",
       "    <tr>\n",
       "      <th>5</th>\n",
       "      <td>shopping_net</td>\n",
       "      <td>1252.224798</td>\n",
       "      <td>3558.296372</td>\n",
       "      <td>41779</td>\n",
       "      <td>True</td>\n",
       "      <td>0.075180</td>\n",
       "      <td>506</td>\n",
       "      <td>0.012111</td>\n",
       "      <td>True</td>\n",
       "    </tr>\n",
       "    <tr>\n",
       "      <th>6</th>\n",
       "      <td>entertainment</td>\n",
       "      <td>959.772599</td>\n",
       "      <td>963.449020</td>\n",
       "      <td>40104</td>\n",
       "      <td>False</td>\n",
       "      <td>0.072166</td>\n",
       "      <td>59</td>\n",
       "      <td>0.001471</td>\n",
       "      <td>False</td>\n",
       "    </tr>\n",
       "    <tr>\n",
       "      <th>7</th>\n",
       "      <td>personal_care</td>\n",
       "      <td>723.495309</td>\n",
       "      <td>741.164119</td>\n",
       "      <td>39327</td>\n",
       "      <td>False</td>\n",
       "      <td>0.070768</td>\n",
       "      <td>70</td>\n",
       "      <td>0.001780</td>\n",
       "      <td>False</td>\n",
       "    </tr>\n",
       "    <tr>\n",
       "      <th>8</th>\n",
       "      <td>food_dining</td>\n",
       "      <td>761.669074</td>\n",
       "      <td>726.735802</td>\n",
       "      <td>39268</td>\n",
       "      <td>False</td>\n",
       "      <td>0.070662</td>\n",
       "      <td>54</td>\n",
       "      <td>0.001375</td>\n",
       "      <td>True</td>\n",
       "    </tr>\n",
       "    <tr>\n",
       "      <th>9</th>\n",
       "      <td>health_fitness</td>\n",
       "      <td>808.011475</td>\n",
       "      <td>719.478766</td>\n",
       "      <td>36674</td>\n",
       "      <td>False</td>\n",
       "      <td>0.065994</td>\n",
       "      <td>52</td>\n",
       "      <td>0.001418</td>\n",
       "      <td>False</td>\n",
       "    </tr>\n",
       "    <tr>\n",
       "      <th>10</th>\n",
       "      <td>misc_pos</td>\n",
       "      <td>932.733689</td>\n",
       "      <td>2009.808415</td>\n",
       "      <td>34574</td>\n",
       "      <td>False</td>\n",
       "      <td>0.062215</td>\n",
       "      <td>72</td>\n",
       "      <td>0.002082</td>\n",
       "      <td>True</td>\n",
       "    </tr>\n",
       "    <tr>\n",
       "      <th>11</th>\n",
       "      <td>misc_net</td>\n",
       "      <td>1179.003552</td>\n",
       "      <td>2454.586333</td>\n",
       "      <td>27367</td>\n",
       "      <td>True</td>\n",
       "      <td>0.049246</td>\n",
       "      <td>267</td>\n",
       "      <td>0.009756</td>\n",
       "      <td>True</td>\n",
       "    </tr>\n",
       "    <tr>\n",
       "      <th>12</th>\n",
       "      <td>grocery_net</td>\n",
       "      <td>805.975010</td>\n",
       "      <td>343.626548</td>\n",
       "      <td>19426</td>\n",
       "      <td>True</td>\n",
       "      <td>0.034957</td>\n",
       "      <td>41</td>\n",
       "      <td>0.002111</td>\n",
       "      <td>True</td>\n",
       "    </tr>\n",
       "    <tr>\n",
       "      <th>13</th>\n",
       "      <td>travel</td>\n",
       "      <td>1685.845238</td>\n",
       "      <td>8939.194422</td>\n",
       "      <td>17449</td>\n",
       "      <td>False</td>\n",
       "      <td>0.031399</td>\n",
       "      <td>40</td>\n",
       "      <td>0.002292</td>\n",
       "      <td>False</td>\n",
       "    </tr>\n",
       "  </tbody>\n",
       "</table>\n",
       "</div>"
      ],
      "text/plain": [
       "          category      avg_amt      amt_std  cat_count online     share  \\\n",
       "0    gas_transport   953.655019   237.425981      56370  False  0.101436   \n",
       "1      grocery_pos  1738.279905   773.284951      52553  False  0.094568   \n",
       "2             home   869.931194   721.279215      52345  False  0.094193   \n",
       "3     shopping_pos  1152.936859  3487.270165      49791  False  0.089597   \n",
       "4        kids_pets   862.603690   731.227232      48692  False  0.087620   \n",
       "5     shopping_net  1252.224798  3558.296372      41779   True  0.075180   \n",
       "6    entertainment   959.772599   963.449020      40104  False  0.072166   \n",
       "7    personal_care   723.495309   741.164119      39327  False  0.070768   \n",
       "8      food_dining   761.669074   726.735802      39268  False  0.070662   \n",
       "9   health_fitness   808.011475   719.478766      36674  False  0.065994   \n",
       "10        misc_pos   932.733689  2009.808415      34574  False  0.062215   \n",
       "11        misc_net  1179.003552  2454.586333      27367   True  0.049246   \n",
       "12     grocery_net   805.975010   343.626548      19426   True  0.034957   \n",
       "13          travel  1685.845238  8939.194422      17449  False  0.031399   \n",
       "\n",
       "    fraud_count  fraud_share  round_clock  \n",
       "0           154     0.002732         True  \n",
       "1           485     0.009229         True  \n",
       "2            67     0.001280        False  \n",
       "3           213     0.004278        False  \n",
       "4            65     0.001335        False  \n",
       "5           506     0.012111         True  \n",
       "6            59     0.001471        False  \n",
       "7            70     0.001780        False  \n",
       "8            54     0.001375         True  \n",
       "9            52     0.001418        False  \n",
       "10           72     0.002082         True  \n",
       "11          267     0.009756         True  \n",
       "12           41     0.002111         True  \n",
       "13           40     0.002292        False  "
      ]
     },
     "execution_count": 17,
     "metadata": {},
     "output_type": "execute_result"
    }
   ],
   "source": [
    "for category in round_clock:\n",
    "    cat_stats_full.loc[cat_stats_full.category == category, \"round_clock\"] = True\n",
    "cat_stats_full"
   ]
  },
  {
   "cell_type": "markdown",
   "id": "8fe319bf-8b37-4387-8b22-0bb239e54b28",
   "metadata": {},
   "source": [
    "### **Сохранение `cat_stats_full` в csv**"
   ]
  },
  {
   "cell_type": "code",
   "execution_count": 17,
   "id": "c30df384-e7cc-4322-bd23-13102dfa39cd",
   "metadata": {},
   "outputs": [],
   "source": [
    "cat_stats_full.to_csv(data_paths[\"base\"][\"cat_stats_full\"], index=False)"
   ]
  },
  {
   "cell_type": "markdown",
   "id": "61d325bf-1b8e-40ea-abea-e3e357a8bae3",
   "metadata": {},
   "source": [
    "<br><br>"
   ]
  },
  {
   "cell_type": "markdown",
   "id": "d943abf7-c8eb-4688-8737-8bba891ac5da",
   "metadata": {},
   "source": [
    "# **Правила для compromised client фрода**"
   ]
  },
  {
   "cell_type": "markdown",
   "id": "1792cc40-fab5-425f-83ec-d45032954577",
   "metadata": {},
   "source": [
    "<br>"
   ]
  },
  {
   "cell_type": "markdown",
   "id": "79e51402-7d6c-4d30-87d1-167027ca7182",
   "metadata": {},
   "source": [
    "**Список правил:**\n",
    "1. быстрая смена гео при оффлайн покупке `fast_geo_change`\n",
    "2. другой ip и быстрая смена гео при онлайн покупке `fast_geo_change_online`\n",
    "3. другой ip(другого города) + другой девайс + высокая сумма - `new_ip_and_device_high_amount`\n",
    "4. другой ip(но тот же город), другой девайс + высокая сумма,а - `new_device_and_high_amount`\n",
    "5. увеличение кол-ва транзакций в единицу времени. `trans_freq_increase`"
   ]
  },
  {
   "cell_type": "code",
   "execution_count": 18,
   "id": "a1379591-2448-4b85-929c-06bf84f339df",
   "metadata": {},
   "outputs": [],
   "source": [
    "# вручную зададим веса правил детекта фрода - по каким правилам чаще будут генерироваться фрод/подозрительные транзакции\n",
    "# воспользуюсь шкалой от 1 до 10\n",
    "\n",
    "rule_names_and_weights = {\"fast_geo_change\":4, \"fast_geo_change_online\":7, \\\n",
    "                          \"new_ip_and_device_high_amount\":8, \\\n",
    "                          \"new_device_and_high_amount\":6, \\\n",
    "                          \"trans_freq_increase\":7}"
   ]
  },
  {
   "cell_type": "code",
   "execution_count": 19,
   "id": "151a2d77-8238-46dc-97d9-177b3ff7c86e",
   "metadata": {},
   "outputs": [
    {
     "data": {
      "text/html": [
       "<div>\n",
       "<style scoped>\n",
       "    .dataframe tbody tr th:only-of-type {\n",
       "        vertical-align: middle;\n",
       "    }\n",
       "\n",
       "    .dataframe tbody tr th {\n",
       "        vertical-align: top;\n",
       "    }\n",
       "\n",
       "    .dataframe thead th {\n",
       "        text-align: right;\n",
       "    }\n",
       "</style>\n",
       "<table border=\"1\" class=\"dataframe\">\n",
       "  <thead>\n",
       "    <tr style=\"text-align: right;\">\n",
       "      <th></th>\n",
       "      <th>rule</th>\n",
       "      <th>weight</th>\n",
       "    </tr>\n",
       "  </thead>\n",
       "  <tbody>\n",
       "  </tbody>\n",
       "</table>\n",
       "</div>"
      ],
      "text/plain": [
       "Empty DataFrame\n",
       "Columns: [rule, weight]\n",
       "Index: []"
      ]
     },
     "execution_count": 19,
     "metadata": {},
     "output_type": "execute_result"
    }
   ],
   "source": [
    "# создадим пустой датафрейм для правил\n",
    "rules_df = pd.DataFrame({\"rule\":pd.Series(dtype=\"str\"),\n",
    "             \"weight\":pd.Series(dtype=\"int\")})\n",
    "rules_df"
   ]
  },
  {
   "cell_type": "code",
   "execution_count": 20,
   "id": "42cd5201-7eda-46a3-a1dc-0e4ab4a4d9f6",
   "metadata": {},
   "outputs": [],
   "source": [
    "# данные словаря запишем в датафрейм\n",
    "\n",
    "for index, key in enumerate(rule_names_and_weights.keys()):\n",
    "    rules_df.loc[index, \"rule\"] = key\n",
    "    rules_df.loc[index, \"weight\"] = rule_names_and_weights[key]"
   ]
  },
  {
   "cell_type": "code",
   "execution_count": 21,
   "id": "4b743074-7cf2-4329-b6f5-e1c39f09b144",
   "metadata": {},
   "outputs": [
    {
     "data": {
      "text/html": [
       "<div>\n",
       "<style scoped>\n",
       "    .dataframe tbody tr th:only-of-type {\n",
       "        vertical-align: middle;\n",
       "    }\n",
       "\n",
       "    .dataframe tbody tr th {\n",
       "        vertical-align: top;\n",
       "    }\n",
       "\n",
       "    .dataframe thead th {\n",
       "        text-align: right;\n",
       "    }\n",
       "</style>\n",
       "<table border=\"1\" class=\"dataframe\">\n",
       "  <thead>\n",
       "    <tr style=\"text-align: right;\">\n",
       "      <th></th>\n",
       "      <th>rule</th>\n",
       "      <th>weight</th>\n",
       "    </tr>\n",
       "  </thead>\n",
       "  <tbody>\n",
       "    <tr>\n",
       "      <th>0</th>\n",
       "      <td>fast_geo_change</td>\n",
       "      <td>0.12500</td>\n",
       "    </tr>\n",
       "    <tr>\n",
       "      <th>1</th>\n",
       "      <td>fast_geo_change_online</td>\n",
       "      <td>0.21875</td>\n",
       "    </tr>\n",
       "    <tr>\n",
       "      <th>2</th>\n",
       "      <td>new_ip_and_device_high_amount</td>\n",
       "      <td>0.25000</td>\n",
       "    </tr>\n",
       "    <tr>\n",
       "      <th>3</th>\n",
       "      <td>new_device_and_high_amount</td>\n",
       "      <td>0.18750</td>\n",
       "    </tr>\n",
       "    <tr>\n",
       "      <th>4</th>\n",
       "      <td>trans_freq_increase</td>\n",
       "      <td>0.21875</td>\n",
       "    </tr>\n",
       "  </tbody>\n",
       "</table>\n",
       "</div>"
      ],
      "text/plain": [
       "                            rule   weight\n",
       "0                fast_geo_change  0.12500\n",
       "1         fast_geo_change_online  0.21875\n",
       "2  new_ip_and_device_high_amount  0.25000\n",
       "3     new_device_and_high_amount  0.18750\n",
       "4            trans_freq_increase  0.21875"
      ]
     },
     "execution_count": 21,
     "metadata": {},
     "output_type": "execute_result"
    }
   ],
   "source": [
    "# нормализуем веса - сделаем их долями от суммы всех весов\n",
    "\n",
    "rules_df[\"weight\"] = rules_df.weight.div(rules_df.weight.sum())\n",
    "rules_df"
   ]
  },
  {
   "cell_type": "code",
   "execution_count": 22,
   "id": "c6dfb40e-b8ba-448c-a07e-f7cba8cbf967",
   "metadata": {},
   "outputs": [
    {
     "data": {
      "text/html": [
       "<div>\n",
       "<style scoped>\n",
       "    .dataframe tbody tr th:only-of-type {\n",
       "        vertical-align: middle;\n",
       "    }\n",
       "\n",
       "    .dataframe tbody tr th {\n",
       "        vertical-align: top;\n",
       "    }\n",
       "\n",
       "    .dataframe thead th {\n",
       "        text-align: right;\n",
       "    }\n",
       "</style>\n",
       "<table border=\"1\" class=\"dataframe\">\n",
       "  <thead>\n",
       "    <tr style=\"text-align: right;\">\n",
       "      <th></th>\n",
       "      <th>rule</th>\n",
       "      <th>weight</th>\n",
       "      <th>online</th>\n",
       "    </tr>\n",
       "  </thead>\n",
       "  <tbody>\n",
       "    <tr>\n",
       "      <th>0</th>\n",
       "      <td>fast_geo_change</td>\n",
       "      <td>0.12500</td>\n",
       "      <td>False</td>\n",
       "    </tr>\n",
       "    <tr>\n",
       "      <th>1</th>\n",
       "      <td>fast_geo_change_online</td>\n",
       "      <td>0.21875</td>\n",
       "      <td>True</td>\n",
       "    </tr>\n",
       "    <tr>\n",
       "      <th>2</th>\n",
       "      <td>new_ip_and_device_high_amount</td>\n",
       "      <td>0.25000</td>\n",
       "      <td>True</td>\n",
       "    </tr>\n",
       "    <tr>\n",
       "      <th>3</th>\n",
       "      <td>new_device_and_high_amount</td>\n",
       "      <td>0.18750</td>\n",
       "      <td>True</td>\n",
       "    </tr>\n",
       "    <tr>\n",
       "      <th>4</th>\n",
       "      <td>trans_freq_increase</td>\n",
       "      <td>0.21875</td>\n",
       "      <td>True</td>\n",
       "    </tr>\n",
       "  </tbody>\n",
       "</table>\n",
       "</div>"
      ],
      "text/plain": [
       "                            rule   weight  online\n",
       "0                fast_geo_change  0.12500   False\n",
       "1         fast_geo_change_online  0.21875    True\n",
       "2  new_ip_and_device_high_amount  0.25000    True\n",
       "3     new_device_and_high_amount  0.18750    True\n",
       "4            trans_freq_increase  0.21875    True"
      ]
     },
     "execution_count": 22,
     "metadata": {},
     "output_type": "execute_result"
    }
   ],
   "source": [
    "# Флаг онлайн/оффлайн для правил\n",
    "# Пока что только одно правило относится к оффлайну - fast_geo_change\n",
    "\n",
    "rules_df[\"online\"] = True\n",
    "rules_df.loc[rules_df.rule == \"fast_geo_change\", \"online\"] = False\n",
    "rules_df"
   ]
  },
  {
   "cell_type": "markdown",
   "id": "2762536d-f36a-4885-a060-2113f639e57b",
   "metadata": {},
   "source": [
    "### **Выгрузка правил в csv**"
   ]
  },
  {
   "cell_type": "code",
   "execution_count": 23,
   "id": "5bee727a-c3da-4f5f-9afa-8fcd3fb0eb81",
   "metadata": {},
   "outputs": [],
   "source": [
    "rules_df.to_csv(data_paths[\"base_fraud\"][\"rules\"], index=False)"
   ]
  },
  {
   "cell_type": "markdown",
   "id": "a571087e-bcfc-4618-9e2d-f4c39f8b4932",
   "metadata": {},
   "source": [
    "<br><br>"
   ]
  },
  {
   "cell_type": "markdown",
   "id": "9d6c2034-c950-4559-b311-c400fc66b1dd",
   "metadata": {},
   "source": [
    "# **Распределение сумм для категорий, для compromised client фрода**\n",
    "- У compromised client фрода свои параметры сумм транзакций\n",
    "- Зададим значения для генерации сумм в рамках каждой категории покупок."
   ]
  },
  {
   "cell_type": "markdown",
   "id": "ec2475f1-8af1-426a-a08d-7cb41e52d7f3",
   "metadata": {},
   "source": [
    "<br>"
   ]
  },
  {
   "cell_type": "markdown",
   "id": "73689db1-a513-468a-a707-a76a7125216e",
   "metadata": {},
   "source": [
    "**Датафрейм с параметрами распределения сумм для категорий**"
   ]
  },
  {
   "cell_type": "code",
   "execution_count": 26,
   "id": "68ee0d06-8a27-48d9-9fad-dc71dc246e29",
   "metadata": {},
   "outputs": [],
   "source": [
    "cat_fraud_amts = cat_stats_full[['category', 'avg_amt', 'amt_std']].copy()"
   ]
  },
  {
   "cell_type": "code",
   "execution_count": 27,
   "id": "facd41ef-07ca-4212-be37-f7c5fffee2a8",
   "metadata": {},
   "outputs": [],
   "source": [
    "# конфиги для сумм compromised client фрода\n",
    "compr_f_amt_cfg = fraud_cfg[\"purchase\"][\"amount\"]"
   ]
  },
  {
   "cell_type": "code",
   "execution_count": 28,
   "id": "9c77f842-b3d7-4233-a3f0-e699f36f0607",
   "metadata": {},
   "outputs": [
    {
     "data": {
      "text/html": [
       "<div>\n",
       "<style scoped>\n",
       "    .dataframe tbody tr th:only-of-type {\n",
       "        vertical-align: middle;\n",
       "    }\n",
       "\n",
       "    .dataframe tbody tr th {\n",
       "        vertical-align: top;\n",
       "    }\n",
       "\n",
       "    .dataframe thead th {\n",
       "        text-align: right;\n",
       "    }\n",
       "</style>\n",
       "<table border=\"1\" class=\"dataframe\">\n",
       "  <thead>\n",
       "    <tr style=\"text-align: right;\">\n",
       "      <th></th>\n",
       "      <th>category</th>\n",
       "      <th>avg_amt</th>\n",
       "      <th>amt_std</th>\n",
       "      <th>extreme</th>\n",
       "    </tr>\n",
       "  </thead>\n",
       "  <tbody>\n",
       "    <tr>\n",
       "      <th>0</th>\n",
       "      <td>gas_transport</td>\n",
       "      <td>953.655019</td>\n",
       "      <td>237.425981</td>\n",
       "      <td>False</td>\n",
       "    </tr>\n",
       "    <tr>\n",
       "      <th>1</th>\n",
       "      <td>grocery_pos</td>\n",
       "      <td>1738.279905</td>\n",
       "      <td>773.284951</td>\n",
       "      <td>False</td>\n",
       "    </tr>\n",
       "    <tr>\n",
       "      <th>2</th>\n",
       "      <td>home</td>\n",
       "      <td>869.931194</td>\n",
       "      <td>721.279215</td>\n",
       "      <td>False</td>\n",
       "    </tr>\n",
       "    <tr>\n",
       "      <th>3</th>\n",
       "      <td>shopping_pos</td>\n",
       "      <td>1152.936859</td>\n",
       "      <td>3487.270165</td>\n",
       "      <td>True</td>\n",
       "    </tr>\n",
       "    <tr>\n",
       "      <th>4</th>\n",
       "      <td>kids_pets</td>\n",
       "      <td>862.603690</td>\n",
       "      <td>731.227232</td>\n",
       "      <td>False</td>\n",
       "    </tr>\n",
       "  </tbody>\n",
       "</table>\n",
       "</div>"
      ],
      "text/plain": [
       "        category      avg_amt      amt_std  extreme\n",
       "0  gas_transport   953.655019   237.425981    False\n",
       "1    grocery_pos  1738.279905   773.284951    False\n",
       "2           home   869.931194   721.279215    False\n",
       "3   shopping_pos  1152.936859  3487.270165     True\n",
       "4      kids_pets   862.603690   731.227232    False"
      ]
     },
     "execution_count": 28,
     "metadata": {},
     "output_type": "execute_result"
    }
   ],
   "source": [
    "# Категории где более вероятна очень высокая сумма при мошенничестве\n",
    "extreme_amt = compr_f_amt_cfg[\"extreme\"][\"categories\"]\n",
    "\n",
    "cat_fraud_amts[\"extreme\"] = False\n",
    "cat_fraud_amts.loc[cat_fraud_amts.category.isin(extreme_amt), \"extreme\"] = True\n",
    "cat_fraud_amts.head()"
   ]
  },
  {
   "cell_type": "code",
   "execution_count": 29,
   "id": "1ad7a3db-b9ec-47e5-a955-1efb2677e7fe",
   "metadata": {},
   "outputs": [
    {
     "data": {
      "text/html": [
       "<div>\n",
       "<style scoped>\n",
       "    .dataframe tbody tr th:only-of-type {\n",
       "        vertical-align: middle;\n",
       "    }\n",
       "\n",
       "    .dataframe tbody tr th {\n",
       "        vertical-align: top;\n",
       "    }\n",
       "\n",
       "    .dataframe thead th {\n",
       "        text-align: right;\n",
       "    }\n",
       "</style>\n",
       "<table border=\"1\" class=\"dataframe\">\n",
       "  <thead>\n",
       "    <tr style=\"text-align: right;\">\n",
       "      <th></th>\n",
       "      <th>category</th>\n",
       "      <th>extreme</th>\n",
       "      <th>fraud_low</th>\n",
       "      <th>fraud_high</th>\n",
       "      <th>fraud_mean</th>\n",
       "      <th>fraud_std</th>\n",
       "    </tr>\n",
       "  </thead>\n",
       "  <tbody>\n",
       "    <tr>\n",
       "      <th>0</th>\n",
       "      <td>gas_transport</td>\n",
       "      <td>False</td>\n",
       "      <td>500</td>\n",
       "      <td>8000</td>\n",
       "      <td>4000</td>\n",
       "      <td>1000</td>\n",
       "    </tr>\n",
       "    <tr>\n",
       "      <th>1</th>\n",
       "      <td>grocery_pos</td>\n",
       "      <td>False</td>\n",
       "      <td>500</td>\n",
       "      <td>8000</td>\n",
       "      <td>4000</td>\n",
       "      <td>1000</td>\n",
       "    </tr>\n",
       "    <tr>\n",
       "      <th>2</th>\n",
       "      <td>home</td>\n",
       "      <td>False</td>\n",
       "      <td>500</td>\n",
       "      <td>8000</td>\n",
       "      <td>4000</td>\n",
       "      <td>1000</td>\n",
       "    </tr>\n",
       "    <tr>\n",
       "      <th>3</th>\n",
       "      <td>shopping_pos</td>\n",
       "      <td>True</td>\n",
       "      <td>1000</td>\n",
       "      <td>60000</td>\n",
       "      <td>20000</td>\n",
       "      <td>20000</td>\n",
       "    </tr>\n",
       "    <tr>\n",
       "      <th>4</th>\n",
       "      <td>kids_pets</td>\n",
       "      <td>False</td>\n",
       "      <td>500</td>\n",
       "      <td>8000</td>\n",
       "      <td>4000</td>\n",
       "      <td>1000</td>\n",
       "    </tr>\n",
       "  </tbody>\n",
       "</table>\n",
       "</div>"
      ],
      "text/plain": [
       "        category  extreme  fraud_low  fraud_high  fraud_mean  fraud_std\n",
       "0  gas_transport    False        500        8000        4000       1000\n",
       "1    grocery_pos    False        500        8000        4000       1000\n",
       "2           home    False        500        8000        4000       1000\n",
       "3   shopping_pos     True       1000       60000       20000      20000\n",
       "4      kids_pets    False        500        8000        4000       1000"
      ]
     },
     "execution_count": 29,
     "metadata": {},
     "output_type": "execute_result"
    }
   ],
   "source": [
    "# Назначение минимальной, максимальной, средней и отклонения суммы для фрода по критерию extreme\n",
    "# extreme - категории где возможны очень высокие суммы\n",
    "# other - остальные категории \n",
    "\n",
    "cat_fraud_amts[\"fraud_low\"] = compr_f_amt_cfg[\"other\"][\"low\"]\n",
    "cat_fraud_amts[\"fraud_high\"] = compr_f_amt_cfg[\"other\"][\"high\"]\n",
    "cat_fraud_amts[\"fraud_mean\"] = compr_f_amt_cfg[\"other\"][\"mean\"]\n",
    "cat_fraud_amts[\"fraud_std\"] = compr_f_amt_cfg[\"other\"][\"std\"]\n",
    "\n",
    "cat_fraud_amts.loc[cat_fraud_amts.extreme == True, \"fraud_low\"] = compr_f_amt_cfg[\"extreme\"][\"low\"]\n",
    "cat_fraud_amts.loc[cat_fraud_amts.extreme == True, \"fraud_high\"] = compr_f_amt_cfg[\"extreme\"][\"high\"]\n",
    "cat_fraud_amts.loc[cat_fraud_amts.extreme == True, \"fraud_mean\"] = compr_f_amt_cfg[\"extreme\"][\"mean\"]\n",
    "cat_fraud_amts.loc[cat_fraud_amts.extreme == True, \"fraud_std\"] = compr_f_amt_cfg[\"extreme\"][\"std\"]\n",
    "cat_fraud_amts.drop(columns=[\"avg_amt\", \"amt_std\"], inplace=True)\n",
    "cat_fraud_amts.head()"
   ]
  },
  {
   "cell_type": "code",
   "execution_count": 30,
   "id": "b309c16f-f520-42ee-bb41-92c6d9f84a00",
   "metadata": {},
   "outputs": [],
   "source": [
    "cat_fraud_amts.to_csv(data_paths[\"base_fraud\"][\"cat_fraud_amts\"], index=False)"
   ]
  },
  {
   "cell_type": "markdown",
   "id": "0615f9a6-58b9-4d0e-a29b-4229c0b1974c",
   "metadata": {},
   "source": [
    "<br><br>"
   ]
  },
  {
   "cell_type": "markdown",
   "id": "8cd52e5a-898d-466e-968f-91d89711245a",
   "metadata": {},
   "source": [
    "# **Категории и их данные для purchase дроп фрода** \n",
    "- purchase дроп фрод это дропы покупатели: получают деньги и покупают на них товары для отмывания"
   ]
  },
  {
   "cell_type": "code",
   "execution_count": 31,
   "id": "0dfef0f0-fd0d-4661-8998-578f55e80d5e",
   "metadata": {},
   "outputs": [],
   "source": [
    "drop_purch_cats = cat_stats_full.query(\"online == True and category != 'grocery_net'\")[[\"category\"]] \\\n",
    "                                .reset_index(drop=True).copy()"
   ]
  },
  {
   "cell_type": "code",
   "execution_count": 32,
   "id": "75de559a-4a5c-441e-8257-e85917034d03",
   "metadata": {},
   "outputs": [
    {
     "data": {
      "text/html": [
       "<div>\n",
       "<style scoped>\n",
       "    .dataframe tbody tr th:only-of-type {\n",
       "        vertical-align: middle;\n",
       "    }\n",
       "\n",
       "    .dataframe tbody tr th {\n",
       "        vertical-align: top;\n",
       "    }\n",
       "\n",
       "    .dataframe thead th {\n",
       "        text-align: right;\n",
       "    }\n",
       "</style>\n",
       "<table border=\"1\" class=\"dataframe\">\n",
       "  <thead>\n",
       "    <tr style=\"text-align: right;\">\n",
       "      <th></th>\n",
       "      <th>category</th>\n",
       "    </tr>\n",
       "  </thead>\n",
       "  <tbody>\n",
       "    <tr>\n",
       "      <th>0</th>\n",
       "      <td>shopping_net</td>\n",
       "    </tr>\n",
       "    <tr>\n",
       "      <th>1</th>\n",
       "      <td>misc_net</td>\n",
       "    </tr>\n",
       "    <tr>\n",
       "      <th>2</th>\n",
       "      <td>travel_net</td>\n",
       "    </tr>\n",
       "  </tbody>\n",
       "</table>\n",
       "</div>"
      ],
      "text/plain": [
       "       category\n",
       "0  shopping_net\n",
       "1      misc_net\n",
       "2    travel_net"
      ]
     },
     "execution_count": 32,
     "metadata": {},
     "output_type": "execute_result"
    }
   ],
   "source": [
    "drop_purch_cats.loc[drop_purch_cats.shape[0], \"category\"] = \"travel_net\"\n",
    "drop_purch_cats"
   ]
  },
  {
   "cell_type": "code",
   "execution_count": 33,
   "id": "b546d115-0752-445a-8c2e-30435273e7ee",
   "metadata": {},
   "outputs": [
    {
     "data": {
      "text/html": [
       "<div>\n",
       "<style scoped>\n",
       "    .dataframe tbody tr th:only-of-type {\n",
       "        vertical-align: middle;\n",
       "    }\n",
       "\n",
       "    .dataframe tbody tr th {\n",
       "        vertical-align: top;\n",
       "    }\n",
       "\n",
       "    .dataframe thead th {\n",
       "        text-align: right;\n",
       "    }\n",
       "</style>\n",
       "<table border=\"1\" class=\"dataframe\">\n",
       "  <thead>\n",
       "    <tr style=\"text-align: right;\">\n",
       "      <th></th>\n",
       "      <th>category</th>\n",
       "      <th>weight</th>\n",
       "    </tr>\n",
       "  </thead>\n",
       "  <tbody>\n",
       "    <tr>\n",
       "      <th>0</th>\n",
       "      <td>shopping_net</td>\n",
       "      <td>0.60</td>\n",
       "    </tr>\n",
       "    <tr>\n",
       "      <th>1</th>\n",
       "      <td>misc_net</td>\n",
       "      <td>0.25</td>\n",
       "    </tr>\n",
       "    <tr>\n",
       "      <th>2</th>\n",
       "      <td>travel_net</td>\n",
       "      <td>0.15</td>\n",
       "    </tr>\n",
       "  </tbody>\n",
       "</table>\n",
       "</div>"
      ],
      "text/plain": [
       "       category  weight\n",
       "0  shopping_net    0.60\n",
       "1      misc_net    0.25\n",
       "2    travel_net    0.15"
      ]
     },
     "execution_count": 33,
     "metadata": {},
     "output_type": "execute_result"
    }
   ],
   "source": [
    "drop_purch_cats[\"weight\"] = [0.6, 0.25, 0.15]\n",
    "assert drop_purch_cats.weight.sum() == 1\n",
    "drop_purch_cats"
   ]
  },
  {
   "cell_type": "code",
   "execution_count": 35,
   "id": "e7423c34-d0c7-46ca-a855-6f65e9f8c356",
   "metadata": {},
   "outputs": [],
   "source": [
    "drop_purch_cats.to_csv(data_paths[\"base_fraud\"][\"drop_purch_cats\"], index=False)"
   ]
  },
  {
   "cell_type": "markdown",
   "id": "63fd06bc-cd8e-4e1a-a566-257d9e254dcd",
   "metadata": {},
   "source": [
    "<br><br>"
   ]
  },
  {
   "cell_type": "markdown",
   "id": "7cee1be0-3604-4e21-ad41-c862c1813877",
   "metadata": {},
   "source": [
    "# **Генерация счетов клиентов и внешних счетов**\n",
    "- внешние счета это счета вне нашего банка"
   ]
  },
  {
   "cell_type": "markdown",
   "id": "2f3d6b58-0ce7-4e90-afe5-0fec1181de62",
   "metadata": {},
   "source": [
    "<br>"
   ]
  },
  {
   "cell_type": "markdown",
   "id": "9b0a8724-a96f-4d2a-b33c-7bcd6b9f22c1",
   "metadata": {},
   "source": [
    "## 1. Счета клиентов \n",
    "Пускай начинаются с 10000"
   ]
  },
  {
   "cell_type": "code",
   "execution_count": 36,
   "id": "3324d8a5-d37b-4fc9-992e-3016037a2719",
   "metadata": {},
   "outputs": [],
   "source": [
    "accounts = clients[[\"client_id\"]].copy()"
   ]
  },
  {
   "cell_type": "code",
   "execution_count": 37,
   "id": "8d24df07-af86-464e-a0fc-9ee3f42d1e70",
   "metadata": {},
   "outputs": [],
   "source": [
    "accounts[\"account_id\"] = 1"
   ]
  },
  {
   "cell_type": "code",
   "execution_count": 38,
   "id": "29ffc754-0686-4467-94a9-84b01b827e16",
   "metadata": {},
   "outputs": [],
   "source": [
    "accounts.loc[0, \"account_id\"] = 10000"
   ]
  },
  {
   "cell_type": "code",
   "execution_count": 39,
   "id": "c5843da4-4482-43b1-b0f9-e74130737777",
   "metadata": {},
   "outputs": [
    {
     "data": {
      "text/html": [
       "<div>\n",
       "<style scoped>\n",
       "    .dataframe tbody tr th:only-of-type {\n",
       "        vertical-align: middle;\n",
       "    }\n",
       "\n",
       "    .dataframe tbody tr th {\n",
       "        vertical-align: top;\n",
       "    }\n",
       "\n",
       "    .dataframe thead th {\n",
       "        text-align: right;\n",
       "    }\n",
       "</style>\n",
       "<table border=\"1\" class=\"dataframe\">\n",
       "  <thead>\n",
       "    <tr style=\"text-align: right;\">\n",
       "      <th></th>\n",
       "      <th>client_id</th>\n",
       "      <th>account_id</th>\n",
       "    </tr>\n",
       "  </thead>\n",
       "  <tbody>\n",
       "    <tr>\n",
       "      <th>0</th>\n",
       "      <td>1</td>\n",
       "      <td>10000</td>\n",
       "    </tr>\n",
       "    <tr>\n",
       "      <th>1</th>\n",
       "      <td>2</td>\n",
       "      <td>1</td>\n",
       "    </tr>\n",
       "    <tr>\n",
       "      <th>2</th>\n",
       "      <td>3</td>\n",
       "      <td>1</td>\n",
       "    </tr>\n",
       "    <tr>\n",
       "      <th>3</th>\n",
       "      <td>4</td>\n",
       "      <td>1</td>\n",
       "    </tr>\n",
       "    <tr>\n",
       "      <th>4</th>\n",
       "      <td>5</td>\n",
       "      <td>1</td>\n",
       "    </tr>\n",
       "  </tbody>\n",
       "</table>\n",
       "</div>"
      ],
      "text/plain": [
       "   client_id  account_id\n",
       "0          1       10000\n",
       "1          2           1\n",
       "2          3           1\n",
       "3          4           1\n",
       "4          5           1"
      ]
     },
     "execution_count": 39,
     "metadata": {},
     "output_type": "execute_result"
    }
   ],
   "source": [
    "accounts.head()"
   ]
  },
  {
   "cell_type": "code",
   "execution_count": 40,
   "id": "a9bd6c16-9b4d-4170-a419-92aa55a0a8b2",
   "metadata": {},
   "outputs": [
    {
     "data": {
      "text/html": [
       "<div>\n",
       "<style scoped>\n",
       "    .dataframe tbody tr th:only-of-type {\n",
       "        vertical-align: middle;\n",
       "    }\n",
       "\n",
       "    .dataframe tbody tr th {\n",
       "        vertical-align: top;\n",
       "    }\n",
       "\n",
       "    .dataframe thead th {\n",
       "        text-align: right;\n",
       "    }\n",
       "</style>\n",
       "<table border=\"1\" class=\"dataframe\">\n",
       "  <thead>\n",
       "    <tr style=\"text-align: right;\">\n",
       "      <th></th>\n",
       "      <th>client_id</th>\n",
       "      <th>account_id</th>\n",
       "    </tr>\n",
       "  </thead>\n",
       "  <tbody>\n",
       "    <tr>\n",
       "      <th>0</th>\n",
       "      <td>1</td>\n",
       "      <td>10000</td>\n",
       "    </tr>\n",
       "    <tr>\n",
       "      <th>1</th>\n",
       "      <td>2</td>\n",
       "      <td>10001</td>\n",
       "    </tr>\n",
       "    <tr>\n",
       "      <th>2</th>\n",
       "      <td>3</td>\n",
       "      <td>10002</td>\n",
       "    </tr>\n",
       "    <tr>\n",
       "      <th>3</th>\n",
       "      <td>4</td>\n",
       "      <td>10003</td>\n",
       "    </tr>\n",
       "    <tr>\n",
       "      <th>4</th>\n",
       "      <td>5</td>\n",
       "      <td>10004</td>\n",
       "    </tr>\n",
       "  </tbody>\n",
       "</table>\n",
       "</div>"
      ],
      "text/plain": [
       "   client_id  account_id\n",
       "0          1       10000\n",
       "1          2       10001\n",
       "2          3       10002\n",
       "3          4       10003\n",
       "4          5       10004"
      ]
     },
     "execution_count": 40,
     "metadata": {},
     "output_type": "execute_result"
    }
   ],
   "source": [
    "# Кумулятивно складываем числа в серии. Получается в каждой записи будет результат сложения текущего и всех предыдущих чисел\n",
    "# Т.е. 10000, 10000 + 1, 10001 + 1 и т.д. Так будут счета с номерами от 10000 до 10000 + n-1 клиентов\n",
    "\n",
    "accounts[\"account_id\"] = accounts[\"account_id\"].cumsum()\n",
    "accounts.head()"
   ]
  },
  {
   "cell_type": "code",
   "execution_count": 41,
   "id": "6a1c28f7-0d2c-41be-8118-28d49ad2076b",
   "metadata": {},
   "outputs": [
    {
     "data": {
      "text/html": [
       "<div>\n",
       "<style scoped>\n",
       "    .dataframe tbody tr th:only-of-type {\n",
       "        vertical-align: middle;\n",
       "    }\n",
       "\n",
       "    .dataframe tbody tr th {\n",
       "        vertical-align: top;\n",
       "    }\n",
       "\n",
       "    .dataframe thead th {\n",
       "        text-align: right;\n",
       "    }\n",
       "</style>\n",
       "<table border=\"1\" class=\"dataframe\">\n",
       "  <thead>\n",
       "    <tr style=\"text-align: right;\">\n",
       "      <th></th>\n",
       "      <th>account_id</th>\n",
       "    </tr>\n",
       "  </thead>\n",
       "  <tbody>\n",
       "    <tr>\n",
       "      <th>min</th>\n",
       "      <td>10000</td>\n",
       "    </tr>\n",
       "    <tr>\n",
       "      <th>max</th>\n",
       "      <td>15368</td>\n",
       "    </tr>\n",
       "  </tbody>\n",
       "</table>\n",
       "</div>"
      ],
      "text/plain": [
       "     account_id\n",
       "min       10000\n",
       "max       15368"
      ]
     },
     "execution_count": 41,
     "metadata": {},
     "output_type": "execute_result"
    }
   ],
   "source": [
    "accounts.agg({\"account_id\":[\"min\",\"max\"]})"
   ]
  },
  {
   "cell_type": "code",
   "execution_count": 42,
   "id": "6656f783-0abc-4650-8624-aeb7e43c5b76",
   "metadata": {},
   "outputs": [],
   "source": [
    "assert accounts.shape[0] == accounts.account_id.nunique(), \"Values in account_id are not unique!\""
   ]
  },
  {
   "cell_type": "code",
   "execution_count": 43,
   "id": "37953609-cf2a-4f64-a63d-fb3a2c25ae0b",
   "metadata": {},
   "outputs": [
    {
     "data": {
      "text/plain": [
       "5369"
      ]
     },
     "execution_count": 43,
     "metadata": {},
     "output_type": "execute_result"
    }
   ],
   "source": [
    "accounts.shape[0]"
   ]
  },
  {
   "cell_type": "code",
   "execution_count": 44,
   "id": "8e1a0ebd-5f7a-4c6a-bdf1-d5e580e9ce28",
   "metadata": {},
   "outputs": [
    {
     "data": {
      "text/html": [
       "<div>\n",
       "<style scoped>\n",
       "    .dataframe tbody tr th:only-of-type {\n",
       "        vertical-align: middle;\n",
       "    }\n",
       "\n",
       "    .dataframe tbody tr th {\n",
       "        vertical-align: top;\n",
       "    }\n",
       "\n",
       "    .dataframe thead th {\n",
       "        text-align: right;\n",
       "    }\n",
       "</style>\n",
       "<table border=\"1\" class=\"dataframe\">\n",
       "  <thead>\n",
       "    <tr style=\"text-align: right;\">\n",
       "      <th></th>\n",
       "      <th>client_id</th>\n",
       "      <th>account_id</th>\n",
       "      <th>is_drop</th>\n",
       "    </tr>\n",
       "  </thead>\n",
       "  <tbody>\n",
       "    <tr>\n",
       "      <th>0</th>\n",
       "      <td>1</td>\n",
       "      <td>10000</td>\n",
       "      <td>False</td>\n",
       "    </tr>\n",
       "    <tr>\n",
       "      <th>1</th>\n",
       "      <td>2</td>\n",
       "      <td>10001</td>\n",
       "      <td>False</td>\n",
       "    </tr>\n",
       "    <tr>\n",
       "      <th>2</th>\n",
       "      <td>3</td>\n",
       "      <td>10002</td>\n",
       "      <td>False</td>\n",
       "    </tr>\n",
       "    <tr>\n",
       "      <th>3</th>\n",
       "      <td>4</td>\n",
       "      <td>10003</td>\n",
       "      <td>False</td>\n",
       "    </tr>\n",
       "    <tr>\n",
       "      <th>4</th>\n",
       "      <td>5</td>\n",
       "      <td>10004</td>\n",
       "      <td>False</td>\n",
       "    </tr>\n",
       "  </tbody>\n",
       "</table>\n",
       "</div>"
      ],
      "text/plain": [
       "   client_id  account_id  is_drop\n",
       "0          1       10000    False\n",
       "1          2       10001    False\n",
       "2          3       10002    False\n",
       "3          4       10003    False\n",
       "4          5       10004    False"
      ]
     },
     "execution_count": 44,
     "metadata": {},
     "output_type": "execute_result"
    }
   ],
   "source": [
    "# Колонка is_drop. Дроп клиент или нет. Пока нет дропов.\n",
    "# Они будут обозначаться непосредственно во время генерации активности дропов\n",
    "\n",
    "accounts[\"is_drop\"] = False\n",
    "accounts.head()"
   ]
  },
  {
   "cell_type": "markdown",
   "id": "d003af43-c6e4-40d8-bfed-0dba8e6b7a6a",
   "metadata": {},
   "source": [
    "<br>"
   ]
  },
  {
   "cell_type": "markdown",
   "id": "87121640-2394-4711-be99-3eb74c01f19e",
   "metadata": {},
   "source": [
    "## 2. Внешние счета \n",
    "- счета начинающиеся с максимального номера счета нашего клиента + 1"
   ]
  },
  {
   "cell_type": "code",
   "execution_count": 45,
   "id": "75ef4485-ceec-4f21-b601-16f043e05d8b",
   "metadata": {},
   "outputs": [],
   "source": [
    "# Пусть будет 10000 счетов\n",
    "\n",
    "start_id = accounts.account_id.max() + 1\n",
    "outer_accounts = pd.Series(data=np.arange(start_id, start_id + 10000, step=1), name=\"account_id\", dtype=\"int\")"
   ]
  },
  {
   "cell_type": "code",
   "execution_count": 46,
   "id": "d70e2cae-518d-4cbf-859e-bca050218fe3",
   "metadata": {},
   "outputs": [
    {
     "data": {
      "text/plain": [
       "0       15369\n",
       "1       15370\n",
       "2       15371\n",
       "9997    25366\n",
       "9998    25367\n",
       "9999    25368\n",
       "Name: account_id, dtype: int64"
      ]
     },
     "execution_count": 46,
     "metadata": {},
     "output_type": "execute_result"
    }
   ],
   "source": [
    "outer_accounts.iloc[np.r_[0:3,-3:0]]"
   ]
  },
  {
   "cell_type": "code",
   "execution_count": 47,
   "id": "48b94323-8e09-4cb8-afc4-7832b35e4391",
   "metadata": {},
   "outputs": [],
   "source": [
    "# Не должно быть пересечений по account_id\n",
    "assert accounts.merge(outer_accounts, on=\"account_id\").empty, \"Clients account ids are in the outer account ids\""
   ]
  },
  {
   "cell_type": "markdown",
   "id": "94ec4aec-4fc8-4513-beef-7f8d02ef56a6",
   "metadata": {},
   "source": [
    "### **Сохранение счетов в файлы**"
   ]
  },
  {
   "cell_type": "code",
   "execution_count": 48,
   "id": "cdfc1ce9-97a1-426e-a959-d55d7a58de05",
   "metadata": {},
   "outputs": [],
   "source": [
    "accounts.to_csv(data_paths[\"base\"][\"accounts_default\"], index=False)"
   ]
  },
  {
   "cell_type": "code",
   "execution_count": 49,
   "id": "e34345b3-13f0-4b8c-95a8-537a01d77ddb",
   "metadata": {},
   "outputs": [],
   "source": [
    "outer_accounts.to_csv(data_paths[\"base\"][\"outer_accounts\"], index=False)"
   ]
  }
 ],
 "metadata": {
  "kernelspec": {
   "display_name": "Python (poetry-env)",
   "language": "python",
   "name": "poetry-env"
  },
  "language_info": {
   "codemirror_mode": {
    "name": "ipython",
    "version": 3
   },
   "file_extension": ".py",
   "mimetype": "text/x-python",
   "name": "python",
   "nbconvert_exporter": "python",
   "pygments_lexer": "ipython3",
   "version": "3.13.2"
  }
 },
 "nbformat": 4,
 "nbformat_minor": 5
}
