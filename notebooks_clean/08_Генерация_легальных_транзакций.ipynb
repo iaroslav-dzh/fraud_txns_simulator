{
 "cells": [
  {
   "cell_type": "markdown",
   "id": "42711171-f54e-44bc-8771-dbdca7453587",
   "metadata": {},
   "source": [
    "# **Генерация легальных транзакций**  \n",
    "- **ноутбуки лучше просматривать** на nbviewer.org, т.к. там нет проблем с отображением, которые могут быть на Github:\n",
    "    -  **[Ссылка](https://nbviewer.org/github/iaroslav-dzh/fraud_txns_simulator/blob/main/notebooks_clean/08_%D0%93%D0%B5%D0%BD%D0%B5%D1%80%D0%B0%D1%86%D0%B8%D1%8F_%D0%BB%D0%B5%D0%B3%D0%B0%D0%BB%D1%8C%D0%BD%D1%8B%D1%85_%D1%82%D1%80%D0%B0%D0%BD%D0%B7%D0%B0%D0%BA%D1%86%D0%B8%D0%B9.ipynb)** на этот ноутбук\n",
    "    -  **[Ссылка](https://nbviewer.org/github/iaroslav-dzh/fraud_txns_simulator/tree/main/notebooks_clean/)** на папку со всеми ноутбуками  \n",
    "\n",
    "**Информация о ноутбуке**  \n",
    "- В этом ноутбуке демонстрация **основных** функций и классов относящихся к генерации легальных транзакций:\n",
    "    - генерация времени, генерация одной транзакции, многих транзакций, запись транзакций в файл"
   ]
  },
  {
   "cell_type": "code",
   "execution_count": 14,
   "id": "c30e67d7-4a3c-4d29-9477-ab02b02e86fc",
   "metadata": {},
   "outputs": [],
   "source": [
    "import pandas as pd\n",
    "import numpy as np\n",
    "import matplotlib.pyplot as plt\n",
    "import seaborn as sns\n",
    "import os\n",
    "import geopandas as gpd\n",
    "from scipy.stats import truncnorm, norm\n",
    "import pyarrow\n",
    "import yaml\n",
    "from data_generator.utils import load_configs, create_txns_df\n",
    "from data_generator.general_time import *\n",
    "from data_generator.legit.time.utils import log_check_min_time"
   ]
  },
  {
   "cell_type": "code",
   "execution_count": 2,
   "id": "6c6c9867-8d32-4b4d-9923-2b2f5711bfc8",
   "metadata": {},
   "outputs": [],
   "source": [
    "np.set_printoptions(suppress=True)\n",
    "pd.set_option('display.max_columns', None)"
   ]
  },
  {
   "cell_type": "code",
   "execution_count": 3,
   "id": "71fc90ba-44d1-4bc6-b2a3-edda53a9123b",
   "metadata": {},
   "outputs": [
    {
     "data": {
      "text/plain": [
       "'C:\\\\Users\\\\iaros\\\\My_documents\\\\Education\\\\projects\\\\fraud_detection_01'"
      ]
     },
     "execution_count": 3,
     "metadata": {},
     "output_type": "execute_result"
    }
   ],
   "source": [
    "os.chdir(\"..\")\n",
    "os.getcwd()"
   ]
  },
  {
   "cell_type": "code",
   "execution_count": 73,
   "id": "0e080ce2-be25-4a7f-ba8a-f52c99b3d1f8",
   "metadata": {},
   "outputs": [],
   "source": [
    "# Базовые конфиги\n",
    "base_cfg = load_configs(\"./config/base.yaml\")\n",
    "# Настройки легальных транзакций\n",
    "legit_cfg = load_configs(\"./config/legit.yaml\")\n",
    "# Настройки времени\n",
    "time_cfg = load_configs(\"./config/time.yaml\") \n",
    "\n",
    "# Пути к файлам\n",
    "data_paths = base_cfg[\"data_paths\"]"
   ]
  },
  {
   "cell_type": "markdown",
   "id": "4b69d68f-ef43-4c70-9eef-3c8a71ac2a13",
   "metadata": {},
   "source": [
    "<br>"
   ]
  },
  {
   "cell_type": "markdown",
   "id": "744bc733-c171-4aa7-bace-4e6284ecab50",
   "metadata": {},
   "source": [
    "# **Создание конфиг класса с конфигами и данными для генерации**"
   ]
  },
  {
   "cell_type": "markdown",
   "id": "fdbd9a1c-8290-4313-b66b-735dbe0b48fe",
   "metadata": {},
   "source": [
    "<br>"
   ]
  },
  {
   "cell_type": "markdown",
   "id": "7cb2f200-88f3-467d-9b4b-ff16492e3f4b",
   "metadata": {},
   "source": [
    "------------------\n",
    "# 1. Конструктор конфиг класса `LegitConfigBuilder`\n",
    "- модуль `data_generator.legit.build.config` . **[Ссылка](https://github.com/iaroslav-dzh/fraud_txns_simulator/blob/main/data_generator/legit/build/config.py)** на файл в Github \n",
    "- Принимает на вход словари с данными из конфиг файлов для создания объекта\n",
    "- Метод `build_cfg()` создает объект конфиг класса легальных транзакций с данными и конфигами для генерации легальных транзакций, например:\n",
    "    - датафреймами с данными - timestamp-ы для семплирования времени, данные выбранных клиентов, мерчанты; путями к директориям для записи файлов"
   ]
  },
  {
   "cell_type": "markdown",
   "id": "e12c9801-6ece-43d0-bec2-e31cda177265",
   "metadata": {},
   "source": [
    "### **Демонстрация**"
   ]
  },
  {
   "cell_type": "code",
   "execution_count": 15,
   "id": "53059f37-8045-4e5d-a5f6-9e69b58c17ca",
   "metadata": {},
   "outputs": [],
   "source": [
    "from data_generator.legit.build.config import LegitConfigBuilder\n",
    "from data_generator.runner.utils import make_dir_for_run"
   ]
  },
  {
   "cell_type": "code",
   "execution_count": 190,
   "id": "c01cde97-bf6e-43c0-b727-7455fdce739c",
   "metadata": {},
   "outputs": [],
   "source": [
    "# Нужно создать директорию в которой хранятся файлы целого запуска генератора всех транзакций\n",
    "# Т.к. билдеру необходимо знать этот путь\n",
    "run_dir = make_dir_for_run(base_cfg) \n",
    "builder = LegitConfigBuilder(base_cfg, legit_cfg, time_cfg, run_dir) # передаем конфиги и путь\n",
    "configs = builder.build_cfg() # Создаем объект конфиг класса"
   ]
  },
  {
   "cell_type": "markdown",
   "id": "a5342724-fa58-4b6b-a851-944625c9bb72",
   "metadata": {},
   "source": [
    "Примеры атрибутов созданного конфиг класса"
   ]
  },
  {
   "cell_type": "code",
   "execution_count": 18,
   "id": "5a650de2-c22a-4a8f-a01a-d29e789ab445",
   "metadata": {},
   "outputs": [
    {
     "data": {
      "text/html": [
       "<div>\n",
       "<style scoped>\n",
       "    .dataframe tbody tr th:only-of-type {\n",
       "        vertical-align: middle;\n",
       "    }\n",
       "\n",
       "    .dataframe tbody tr th {\n",
       "        vertical-align: top;\n",
       "    }\n",
       "\n",
       "    .dataframe thead th {\n",
       "        text-align: right;\n",
       "    }\n",
       "</style>\n",
       "<table border=\"1\" class=\"dataframe\">\n",
       "  <thead>\n",
       "    <tr style=\"text-align: right;\">\n",
       "      <th></th>\n",
       "      <th>client_id</th>\n",
       "      <th>birth_date</th>\n",
       "      <th>sex</th>\n",
       "      <th>region</th>\n",
       "      <th>city</th>\n",
       "      <th>lat</th>\n",
       "      <th>lon</th>\n",
       "      <th>city_id</th>\n",
       "      <th>home_ip</th>\n",
       "    </tr>\n",
       "  </thead>\n",
       "  <tbody>\n",
       "    <tr>\n",
       "      <th>0</th>\n",
       "      <td>2269</td>\n",
       "      <td>1988-11-03</td>\n",
       "      <td>female</td>\n",
       "      <td>Кемеровская</td>\n",
       "      <td>Кемерово</td>\n",
       "      <td>55.390972</td>\n",
       "      <td>86.046786</td>\n",
       "      <td>48</td>\n",
       "      <td>2.60.8.101</td>\n",
       "    </tr>\n",
       "    <tr>\n",
       "      <th>1</th>\n",
       "      <td>2529</td>\n",
       "      <td>1964-06-15</td>\n",
       "      <td>male</td>\n",
       "      <td>Новосибирская</td>\n",
       "      <td>Новосибирск</td>\n",
       "      <td>55.028102</td>\n",
       "      <td>82.921058</td>\n",
       "      <td>70</td>\n",
       "      <td>2.60.9.97</td>\n",
       "    </tr>\n",
       "    <tr>\n",
       "      <th>2</th>\n",
       "      <td>4768</td>\n",
       "      <td>1985-03-28</td>\n",
       "      <td>female</td>\n",
       "      <td>Москва</td>\n",
       "      <td>Москва</td>\n",
       "      <td>55.753879</td>\n",
       "      <td>37.620373</td>\n",
       "      <td>1</td>\n",
       "      <td>2.60.17.157</td>\n",
       "    </tr>\n",
       "  </tbody>\n",
       "</table>\n",
       "</div>"
      ],
      "text/plain": [
       "   client_id birth_date     sex         region         city        lat  \\\n",
       "0       2269 1988-11-03  female    Кемеровская     Кемерово  55.390972   \n",
       "1       2529 1964-06-15    male  Новосибирская  Новосибирск  55.028102   \n",
       "2       4768 1985-03-28  female         Москва       Москва  55.753879   \n",
       "\n",
       "         lon  city_id      home_ip  \n",
       "0  86.046786       48   2.60.8.101  \n",
       "1  82.921058       70    2.60.9.97  \n",
       "2  37.620373        1  2.60.17.157  "
      ]
     },
     "execution_count": 18,
     "metadata": {},
     "output_type": "execute_result"
    }
   ],
   "source": [
    "# Семпл клиентов под генерацию легальных транзакций\n",
    "configs.clients.head(3)"
   ]
  },
  {
   "cell_type": "code",
   "execution_count": 19,
   "id": "e3ac8e25-9c03-4cb1-bb80-d3b90132c2ed",
   "metadata": {},
   "outputs": [
    {
     "data": {
      "text/html": [
       "<div>\n",
       "<style scoped>\n",
       "    .dataframe tbody tr th:only-of-type {\n",
       "        vertical-align: middle;\n",
       "    }\n",
       "\n",
       "    .dataframe tbody tr th {\n",
       "        vertical-align: top;\n",
       "    }\n",
       "\n",
       "    .dataframe thead th {\n",
       "        text-align: right;\n",
       "    }\n",
       "</style>\n",
       "<table border=\"1\" class=\"dataframe\">\n",
       "  <thead>\n",
       "    <tr style=\"text-align: right;\">\n",
       "      <th></th>\n",
       "      <th>timestamp</th>\n",
       "      <th>hour</th>\n",
       "      <th>unix_time</th>\n",
       "    </tr>\n",
       "  </thead>\n",
       "  <tbody>\n",
       "    <tr>\n",
       "      <th>0</th>\n",
       "      <td>2025-01-01 00:00:00</td>\n",
       "      <td>0</td>\n",
       "      <td>1735689600</td>\n",
       "    </tr>\n",
       "    <tr>\n",
       "      <th>1</th>\n",
       "      <td>2025-01-01 00:01:00</td>\n",
       "      <td>0</td>\n",
       "      <td>1735689660</td>\n",
       "    </tr>\n",
       "    <tr>\n",
       "      <th>2</th>\n",
       "      <td>2025-01-01 00:02:00</td>\n",
       "      <td>0</td>\n",
       "      <td>1735689720</td>\n",
       "    </tr>\n",
       "  </tbody>\n",
       "</table>\n",
       "</div>"
      ],
      "text/plain": [
       "            timestamp  hour   unix_time\n",
       "0 2025-01-01 00:00:00     0  1735689600\n",
       "1 2025-01-01 00:01:00     0  1735689660\n",
       "2 2025-01-01 00:02:00     0  1735689720"
      ]
     },
     "execution_count": 19,
     "metadata": {},
     "output_type": "execute_result"
    }
   ],
   "source": [
    "# Диапазон timestamp-ов под генерацию случайного времени\n",
    "configs.timestamps.head(3)"
   ]
  },
  {
   "cell_type": "markdown",
   "id": "017d7dec-bb51-4aeb-b3bd-0826e4453298",
   "metadata": {},
   "source": [
    "<br><br>"
   ]
  },
  {
   "cell_type": "markdown",
   "id": "aad8c98d-2737-4b7c-a449-b2d4ed78b306",
   "metadata": {},
   "source": [
    "------------------\n",
    "# **Функции генерации времени легальных транзакций**\n",
    "--------------------------------------------------"
   ]
  },
  {
   "cell_type": "markdown",
   "id": "49887ded-f685-4d46-81db-a882d11d1fc3",
   "metadata": {},
   "source": [
    "<br>"
   ]
  },
  {
   "cell_type": "markdown",
   "id": "89b619cf-0aea-4b79-b60c-9ca56a6c881d",
   "metadata": {},
   "source": [
    "## 1. Функция `check_min_interval_from_near_txn`\n",
    "- модуль `data_generator.legit.time.time`. **[Ссылка](https://github.com/iaroslav-dzh/fraud_txns_simulator/blob/main/data_generator/legit/time/time.py)** на файл в Github\n",
    "- проверка что сгенерированное время создаваемой транзакции не ближе по времени к другим транзакциям чем выставлено в минимальных интервалах в конфиг файле `legit.yaml`\n",
    "- подразумевается вызов функции когда есть предыдущие транзакции"
   ]
  },
  {
   "cell_type": "markdown",
   "id": "8f015875-ae65-43cb-aeb2-08d97b4ed057",
   "metadata": {},
   "source": [
    "**Основная логика функции**  \n",
    "1. получает на вход семплированное ранее время для создаваемой транзакции - и другие аргументы\n",
    "2. проверяет есть ли среди уже созданных транзакций такие, которые по времени ближе допутимого - мин. допустимые интервалы зависят от того онлайн или оффлайн создаваемая транзакция и от онлайн/оффлайн статуса уже созданных транзакций. Для разных отношений онлайн статусов, разные мин. интервалы.\n",
    "3. Если есть любые транзакции, которые ближе допустимого по времени, то проверяем онлайн статус последней по времени транзакции и в зависимости от отношения онлайн статусов генерируемой транзакции и последней создаем случайную дельту времени в соответствии с установленными мин. и макс. лимитами. Например: отношение онлайн-онлайн, создать дельту от 6 до 30 минут; оффлайн-онлайн создать дельту от 30 до 60 минут и т.п.\n",
    "4. Затем эту дельту прибавляем ко времени последней транзакции. Это и будет время текущей транзакции.\n",
    "5. Если нет транзакций близких по времени меньше допустимого, то просто возвращаем семплированное время"
   ]
  },
  {
   "cell_type": "markdown",
   "id": "217c9e3f-891d-4808-9761-6acb91e7bd16",
   "metadata": {},
   "source": [
    "### **Демонстрация**"
   ]
  },
  {
   "cell_type": "code",
   "execution_count": 27,
   "id": "053dc02c-ef73-4cd5-8b8d-662a3109743f",
   "metadata": {},
   "outputs": [
    {
     "name": "stdout",
     "output_type": "stream",
     "text": [
      "ready for tests\n"
     ]
    }
   ],
   "source": [
    "from data_generator.legit.time.time import check_min_interval_from_near_txn\n",
    "from data_generator.legit.build.config import LegitConfigBuilder\n",
    "\n",
    "# Создадим пустой датафрейм под транзакции с ограниченными колонками\n",
    "trans_time_test = create_txns_df(base_cfg[\"txns_df\"]).loc[:, ['client_id', 'txn_time', 'unix_time','online', 'is_fraud',]]\n",
    "print(\"ready for tests\")"
   ]
  },
  {
   "cell_type": "markdown",
   "id": "82a57bc9-0590-4da3-992b-17be8a2eedfc",
   "metadata": {},
   "source": [
    "#### **Кейс**\n",
    "- Текущая транзакция онлайн\n",
    "- Ближайшая к ней транзакция - онлайн. Она ближе допустимой `online_time_diff`\n",
    "- Последняя транзакция - оффлайн.  \n",
    "\n",
    "Ожидается:\n",
    "- детект недопустимого минимального интервала с ближайшей транзакцией\n",
    "- создание нового времени через создание дельты времени с учетом того что текущая транзакция онлайн, а последняя оффлайн и прибавление этой дельты ко времени последней транзакции"
   ]
  },
  {
   "cell_type": "markdown",
   "id": "b78834da-6681-402d-ab5b-86451159dbf0",
   "metadata": {},
   "source": [
    "Какие мин. интервалы выставлены в конфигах для легальных транзакций  \n",
    "Возьмем только несколько примеров:\n",
    "- `online_time_diff` мин. разница между онлайн транз\n",
    "- `online_ceil` макс. разница от последней онлайн транз. если текущая онлайн.\n",
    "- `general_diff` мин. разница между онлайн и оффлайн транз.\n",
    "- `general_ceil` макс. разница от последней транз. если online статусы разные (оффлайн-онлайн, онлайн-оффлайн)"
   ]
  },
  {
   "cell_type": "code",
   "execution_count": 22,
   "id": "ee2d2fd8-6310-49a5-8a92-b31cd68afff3",
   "metadata": {},
   "outputs": [
    {
     "name": "stdout",
     "output_type": "stream",
     "text": [
      "Время в минутах\n",
      "online_time_diff: 6 \n",
      "online_ceil: 60\n",
      "general_diff: 30\n",
      "general_ceil: 90\n"
     ]
    }
   ],
   "source": [
    "min_intervals = legit_cfg[\"time\"][\"min_intervals\"]\n",
    "online_time_diff = min_intervals[\"online_time_diff\"]\n",
    "online_ceil = min_intervals[\"online_ceil\"]\n",
    "general_diff = min_intervals[\"general_diff\"]\n",
    "general_ceil = min_intervals[\"general_ceil\"]\n",
    "print(f\"\"\"Время в минутах\n",
    "online_time_diff: {online_time_diff} \n",
    "online_ceil: {online_ceil}\n",
    "general_diff: {general_diff}\n",
    "general_ceil: {general_ceil}\"\"\")"
   ]
  },
  {
   "cell_type": "code",
   "execution_count": 23,
   "id": "d03d0369-f30b-433b-bd88-266799da9dde",
   "metadata": {},
   "outputs": [
    {
     "name": "stdout",
     "output_type": "stream",
     "text": [
      "nearest: 2025-01-31 08:14:00, 1738311240\n",
      "last: 2025-01-31 09:28:00, 1738315680\n"
     ]
    },
    {
     "data": {
      "text/html": [
       "<div>\n",
       "<style scoped>\n",
       "    .dataframe tbody tr th:only-of-type {\n",
       "        vertical-align: middle;\n",
       "    }\n",
       "\n",
       "    .dataframe tbody tr th {\n",
       "        vertical-align: top;\n",
       "    }\n",
       "\n",
       "    .dataframe thead th {\n",
       "        text-align: right;\n",
       "    }\n",
       "</style>\n",
       "<table border=\"1\" class=\"dataframe\">\n",
       "  <thead>\n",
       "    <tr style=\"text-align: right;\">\n",
       "      <th></th>\n",
       "      <th>timestamp</th>\n",
       "      <th>unix_time</th>\n",
       "    </tr>\n",
       "  </thead>\n",
       "  <tbody>\n",
       "    <tr>\n",
       "      <th>0</th>\n",
       "      <td>2025-01-31 08:19:00</td>\n",
       "      <td>1738311540</td>\n",
       "    </tr>\n",
       "  </tbody>\n",
       "</table>\n",
       "</div>"
      ],
      "text/plain": [
       "            timestamp   unix_time\n",
       "0 2025-01-31 08:19:00  1738311540"
      ]
     },
     "execution_count": 23,
     "metadata": {},
     "output_type": "execute_result"
    }
   ],
   "source": [
    "# Условно семплированное время создаваемой транзакции, которое нуждается в проверке\n",
    "timstamp_check_min = pd.to_datetime(\"2025-01-31 08:19:00\", format=\"%Y-%m-%d %H:%M:%S\")\n",
    "timstamp_check_min_unix = pd_timestamp_to_unix(timstamp_check_min)\n",
    "timestamp_sample_check_min = pd.DataFrame([{\"timestamp\":timstamp_check_min, \"unix_time\":timstamp_check_min_unix}])\n",
    "\n",
    "# Время ближайшей транзакции. 5 минут разницы. Допустимая разница 6 минут и более\n",
    "nearest_time = pd.to_datetime(\"2025-01-31 08:14:00\", format=\"%Y-%m-%d %H:%M:%S\")\n",
    "nearest_unix = pd_timestamp_to_unix(nearest_time)\n",
    "print(f\"nearest: {nearest_time}, {nearest_unix}\")\n",
    "\n",
    "# Время последней транзакции\n",
    "last_time = pd.to_datetime(\"2025-01-31 09::00\", format=\"%Y-%m-%d %H:%M:%S\")\n",
    "last_unix = pd_timestamp_to_unix(last_time)\n",
    "print(f\"last: {last_time}, {last_unix}\")\n",
    "\n",
    "timestamp_sample_check_min"
   ]
  },
  {
   "cell_type": "markdown",
   "id": "3cee4dbe-499f-49ea-b7f4-31ebad9ffe11",
   "metadata": {},
   "source": [
    "**Заполняем датафрейм**  \n",
    "- с условно уже сущействующими ближайшей и последней транзакциями\n",
    "- указываем `client_id`, время и онлайн статус и какая это транзакция в контексте демонстрации\n",
    "- Выставить online флаги для ближайшей и последней в соответствии с кейсом: True и False"
   ]
  },
  {
   "cell_type": "code",
   "execution_count": 28,
   "id": "312b813c-e33e-49a5-b048-cd938ce15141",
   "metadata": {},
   "outputs": [
    {
     "data": {
      "text/html": [
       "<div>\n",
       "<style scoped>\n",
       "    .dataframe tbody tr th:only-of-type {\n",
       "        vertical-align: middle;\n",
       "    }\n",
       "\n",
       "    .dataframe tbody tr th {\n",
       "        vertical-align: top;\n",
       "    }\n",
       "\n",
       "    .dataframe thead th {\n",
       "        text-align: right;\n",
       "    }\n",
       "</style>\n",
       "<table border=\"1\" class=\"dataframe\">\n",
       "  <thead>\n",
       "    <tr style=\"text-align: right;\">\n",
       "      <th></th>\n",
       "      <th>client_id</th>\n",
       "      <th>txn_time</th>\n",
       "      <th>unix_time</th>\n",
       "      <th>online</th>\n",
       "      <th>is_fraud</th>\n",
       "      <th>txn_type</th>\n",
       "    </tr>\n",
       "  </thead>\n",
       "  <tbody>\n",
       "    <tr>\n",
       "      <th>1</th>\n",
       "      <td>28.0</td>\n",
       "      <td>2025-01-31 08:14:00</td>\n",
       "      <td>1.738311e+09</td>\n",
       "      <td>True</td>\n",
       "      <td>NaN</td>\n",
       "      <td>closest</td>\n",
       "    </tr>\n",
       "    <tr>\n",
       "      <th>2</th>\n",
       "      <td>28.0</td>\n",
       "      <td>2025-01-31 09:28:00</td>\n",
       "      <td>1.738316e+09</td>\n",
       "      <td>False</td>\n",
       "      <td>NaN</td>\n",
       "      <td>last</td>\n",
       "    </tr>\n",
       "  </tbody>\n",
       "</table>\n",
       "</div>"
      ],
      "text/plain": [
       "   client_id            txn_time     unix_time online is_fraud txn_type\n",
       "1       28.0 2025-01-31 08:14:00  1.738311e+09   True      NaN  closest\n",
       "2       28.0 2025-01-31 09:28:00  1.738316e+09  False      NaN     last"
      ]
     },
     "execution_count": 28,
     "metadata": {},
     "output_type": "execute_result"
    }
   ],
   "source": [
    "trans_time_test.loc[1, [\"client_id\", \"txn_time\",\"unix_time\", \"online\", \"txn_type\"]] = 28, nearest_time, nearest_unix, True, \"closest\"\n",
    "trans_time_test.loc[2, [\"client_id\", \"txn_time\",\"unix_time\", \"online\", \"txn_type\"]] = 28, last_time, last_unix, False, \"last\"\n",
    "trans_time_test"
   ]
  },
  {
   "cell_type": "markdown",
   "id": "bfab7f7c-76f9-411c-8222-5bf9f1c2f5e4",
   "metadata": {},
   "source": [
    "**Запуск функции**"
   ]
  },
  {
   "cell_type": "code",
   "execution_count": 29,
   "id": "a46b3428-39eb-4db2-9582-022c0c91d883",
   "metadata": {},
   "outputs": [
    {
     "data": {
      "text/html": [
       "<div>\n",
       "<style scoped>\n",
       "    .dataframe tbody tr th:only-of-type {\n",
       "        vertical-align: middle;\n",
       "    }\n",
       "\n",
       "    .dataframe tbody tr th {\n",
       "        vertical-align: top;\n",
       "    }\n",
       "\n",
       "    .dataframe thead th {\n",
       "        text-align: right;\n",
       "    }\n",
       "</style>\n",
       "<table border=\"1\" class=\"dataframe\">\n",
       "  <thead>\n",
       "    <tr style=\"text-align: right;\">\n",
       "      <th></th>\n",
       "      <th>client_id</th>\n",
       "      <th>txn_time</th>\n",
       "      <th>unix_time</th>\n",
       "      <th>online</th>\n",
       "      <th>is_fraud</th>\n",
       "      <th>txn_type</th>\n",
       "      <th>abs_time_proximity</th>\n",
       "    </tr>\n",
       "  </thead>\n",
       "  <tbody>\n",
       "    <tr>\n",
       "      <th>1</th>\n",
       "      <td>28.0</td>\n",
       "      <td>2025-01-31 08:14:00</td>\n",
       "      <td>1.738311e+09</td>\n",
       "      <td>True</td>\n",
       "      <td>NaN</td>\n",
       "      <td>closest</td>\n",
       "      <td>NaN</td>\n",
       "    </tr>\n",
       "    <tr>\n",
       "      <th>2</th>\n",
       "      <td>28.0</td>\n",
       "      <td>2025-01-31 09:28:00</td>\n",
       "      <td>1.738316e+09</td>\n",
       "      <td>False</td>\n",
       "      <td>NaN</td>\n",
       "      <td>last</td>\n",
       "      <td>74.000000</td>\n",
       "    </tr>\n",
       "    <tr>\n",
       "      <th>3</th>\n",
       "      <td>28.0</td>\n",
       "      <td>2025-01-31 10:22:04</td>\n",
       "      <td>1.738319e+09</td>\n",
       "      <td>True</td>\n",
       "      <td>NaN</td>\n",
       "      <td>current</td>\n",
       "      <td>54.066667</td>\n",
       "    </tr>\n",
       "  </tbody>\n",
       "</table>\n",
       "</div>"
      ],
      "text/plain": [
       "   client_id            txn_time     unix_time online is_fraud txn_type  \\\n",
       "1       28.0 2025-01-31 08:14:00  1.738311e+09   True      NaN  closest   \n",
       "2       28.0 2025-01-31 09:28:00  1.738316e+09  False      NaN     last   \n",
       "3       28.0 2025-01-31 10:22:04  1.738319e+09   True      NaN  current   \n",
       "\n",
       "   abs_time_proximity  \n",
       "1                 NaN  \n",
       "2           74.000000  \n",
       "3           54.066667  "
      ]
     },
     "execution_count": 29,
     "metadata": {},
     "output_type": "execute_result"
    }
   ],
   "source": [
    "# Выставить в функции аргумент online в соответсвии с тест-кейсом\n",
    "# True - создаваемая транзакция - онлайн. False - оффлайн\n",
    "txn_time, txn_unix = check_min_interval_from_near_txn(client_txns=trans_time_test, timestamp_sample=timestamp_sample_check_min, \\\n",
    "                                                      online=True, round_clock=True, configs=configs)\n",
    "\n",
    "# Запись сгенерированной транзакции в датафрейм: время, online флаг\n",
    "trans_time_test.loc[3, [\"client_id\", \"txn_time\",\"unix_time\", \"online\", \"txn_type\"]] = 28, txn_time, txn_unix, True, \"current\"\n",
    "trans_time_test = trans_time_test.sort_values(\"txn_time\")\n",
    "\n",
    "# Расчет времени между транзакциями в минутах\n",
    "trans_time_test[\"abs_time_proximity\"] = trans_time_test.unix_time.sub(trans_time_test.unix_time.shift(1)).div(60)\n",
    "trans_time_test"
   ]
  },
  {
   "cell_type": "markdown",
   "id": "182cfe18-82c0-476e-94a2-681772c0f1df",
   "metadata": {},
   "source": [
    "Как видно выше, текущая транзакция получила новое время на основе времени последней транзакции. Ко времени последней был прибавлено 54 минуты что в рамках границ для случайной разницы во времени между онлайн и оффлайн транзакциями - 30-90 минут.\n"
   ]
  },
  {
   "cell_type": "markdown",
   "id": "d1bc67a0-18a0-4cbe-ac69-deb67d0d82f3",
   "metadata": {},
   "source": [
    "<br>"
   ]
  },
  {
   "cell_type": "markdown",
   "id": "46f6c154-a9a7-4286-b570-b22863877a80",
   "metadata": {},
   "source": [
    "-----------------------\n",
    "# 2. Функция `get_legit_txn_time`\n",
    "- модуль `data_generator.legit.time.time`. **[Ссылка](https://github.com/iaroslav-dzh/fraud_txns_simulator/blob/main/data_generator/legit/time/time.py)** на файл в Github\n",
    "- генерация времени легальной транзакции"
   ]
  },
  {
   "cell_type": "markdown",
   "id": "c72e7ce0-c8e7-41ef-a1be-df5dbfd97764",
   "metadata": {},
   "source": [
    "**Основная логика функции**  \n",
    "1. проверяет есть ли созданные ранее транзакции\n",
    "2. если нет ни одной то просто семплирует время датафрейма с timestamp-ами и возвращает его\n",
    "3. если есть хотя бы одна транзакция, то семплирует время и проверяет его на нарушение минимальных интервалов времени между ним и уже имеющимися транзакциями через функцию `check_min_interval_from_near_txn`. Если нарушены интервалы, то создается другое время на основании времени последней транзакции, тоже через `check_min_interval_from_near_txn` и возвращается как результат."
   ]
  },
  {
   "cell_type": "code",
   "execution_count": 64,
   "id": "ec5108bb-5b81-4855-854a-f2844b258937",
   "metadata": {},
   "outputs": [],
   "source": [
    "def get_legit_txn_time(trans_df, time_weights, configs, round_clock, online=None):\n",
    "    \"\"\"\n",
    "    Генерация времени для легальной транзакции\n",
    "    ------------------------------------------\n",
    "    trans_df: pd.DataFrame. Транзакции текущего клиента. Откуда брать информацию по предыдущим транзакциям клиента\n",
    "    time_weights: pd.DataFrame. Веса часов в периоде времени\n",
    "    configs: LegitCfg. Конфиги и данные для генерации легальных транзакций. \n",
    "    round_clock: bool. Круглосуточная или дневная категория.\n",
    "    online: bool. Онлайн или оффлайн покупка. True or False\n",
    "    -------------------------------------------\n",
    "    Возвращает время для генерируемой транзакции в виде pd.Timestamp и в виде unix времени\n",
    "    \"\"\"\n",
    "    timestamps = configs.timestamps\n",
    "    timestamps_1st = configs.timestamps_1st\n",
    "\n",
    "    # Время последней транзакции клиента. pd.Timestamp и unix в секундах\n",
    "    last_txn_time = trans_df.txn_time.max()\n",
    "    \n",
    "    # Если нет никакой предыдущей транзакции т.е. нет последнего времени совсем\n",
    "    if last_txn_time is pd.NaT:\n",
    "        # время транзакции в виде timestamp и unix time.\n",
    "        return sample_time_for_trans(timestamps=timestamps_1st, time_weights=time_weights)\n",
    "\n",
    "    # Если есть предыдущая транзакция\n",
    "\n",
    "    # берем случайный час передав веса часов для соответсвующейго временного паттерна\n",
    "    txn_hour = time_weights.hours.sample(n=1, weights=time_weights.proportion, replace=True).iloc[0]\n",
    "    \n",
    "    # фильтруем по этому часу timestamp-ы и семплируем timestamp уже с равной вероятностью\n",
    "    # Дальше будем обрабатывать этот timestamp в некоторых случаях\n",
    "    timestamps_subset = timestamps.loc[timestamps.hour == txn_hour]\n",
    "    timestamp_sample = timestamps_subset.sample(n=1, replace=True)\n",
    "\n",
    "    # check_min_interval_from_near_txn проверит ближайшие к timestamp_sample по времени транзакции\n",
    "    # в соответствии с установленными интервалами и если время до ближайшей транзакции меньше \n",
    "    # допустимогшо, то создаст другой timestamp. сли интервал допустимый, то вернет исходный timestamp\n",
    "    txn_time, txn_unix = check_min_interval_from_near_txn(client_txns=trans_df, timestamp_sample=timestamp_sample, \\\n",
    "                                                          online=online, round_clock=round_clock, configs=configs)\n",
    "    return txn_time, txn_unix"
   ]
  },
  {
   "cell_type": "markdown",
   "id": "0879f761-4016-452a-a3d7-8690cdaf56f3",
   "metadata": {},
   "source": [
    "<br><br>"
   ]
  },
  {
   "cell_type": "markdown",
   "id": "329eef6a-aad7-4b04-b1be-29c1d53b837c",
   "metadata": {},
   "source": [
    "-----------------------------------------------------"
   ]
  },
  {
   "cell_type": "markdown",
   "id": "b89c6eae-63e0-4fc7-98d7-1600330555c4",
   "metadata": {},
   "source": [
    "# **Функции генерации остальных данных транзакции и самих транзакций**   \n",
    "- Вспомогательные и самостоятельные\n",
    "---------------------------------------------------"
   ]
  },
  {
   "cell_type": "markdown",
   "id": "67c1247b-0325-4da5-b602-a3331a790830",
   "metadata": {},
   "source": [
    "<br>"
   ]
  },
  {
   "cell_type": "markdown",
   "id": "77a721f9-ef43-4e0e-96e6-6200e3ca4e4d",
   "metadata": {},
   "source": [
    "## 1. Функция генератор локации и мерчанта транзакции `get_txn_location_and_merchant`\n",
    "- модуль `data_generator.legit.txndata`. **[Ссылка](https://github.com/iaroslav-dzh/fraud_txns_simulator/blob/main/data_generator/legit/txndata.py)** на файл в Github \n",
    "\n",
    "Возвращает:  \n",
    "- id мерчанта, координаты транзакции, ip адрес транзакции если это применимо и город транзакции\n",
    "\n",
    "**Основная логика**  \n",
    "В зависимости от online флага текущей транзакции генерирует данные немного по-разному\n",
    "1. онлайн покупка: семплирование id онлайн мерчанта, координаты просто координаты города клиента, ip просто ip клиента, город - город клиента\n",
    "2. оффлайн покупка семплирует данные оффлайн мерчанта и оттуда берет: id мерчанта, его координаты как координаты транзакции"
   ]
  },
  {
   "cell_type": "markdown",
   "id": "21938777-441b-4471-8b50-965a3ae86024",
   "metadata": {},
   "source": [
    "### **Демонстрация**"
   ]
  },
  {
   "cell_type": "code",
   "execution_count": 189,
   "id": "35c199dc-5720-49cd-9556-05ae386d7e21",
   "metadata": {},
   "outputs": [],
   "source": [
    "# Импорт самой функции\n",
    "from data_generator.legit.txndata import get_txn_location_and_merchant"
   ]
  },
  {
   "cell_type": "code",
   "execution_count": 37,
   "id": "90b5b26a-f65f-4e63-93cd-f53f3a764dff",
   "metadata": {},
   "outputs": [],
   "source": [
    "# Возьмем нужные данные из конфиг класса созданного ранее\n",
    "\n",
    "offline_merchants = configs.offline_merchants\n",
    "clients = configs.clients"
   ]
  },
  {
   "cell_type": "code",
   "execution_count": 32,
   "id": "826b4069-d821-43f6-8146-8d13141e7577",
   "metadata": {},
   "outputs": [
    {
     "data": {
      "text/plain": [
       "Pandas(Index=0, client_id=2269, birth_date=Timestamp('1988-11-03 00:00:00'), sex='female', region='Кемеровская', city='Кемерово', lat=55.3909721, lon=86.0467864, city_id=48, home_ip='2.60.8.101')"
      ]
     },
     "execution_count": 32,
     "metadata": {},
     "output_type": "execute_result"
    }
   ],
   "source": [
    "# namedtuple с информацией об одном клиенте для примера\n",
    "for row in clients.iloc[[0]].itertuples():\n",
    "    one_client_info = row\n",
    "one_client_info"
   ]
  },
  {
   "cell_type": "code",
   "execution_count": 34,
   "id": "e4d35a2d-4d04-47f1-8b19-9ffd271a138a",
   "metadata": {},
   "outputs": [
    {
     "data": {
      "text/html": [
       "<div>\n",
       "<style scoped>\n",
       "    .dataframe tbody tr th:only-of-type {\n",
       "        vertical-align: middle;\n",
       "    }\n",
       "\n",
       "    .dataframe tbody tr th {\n",
       "        vertical-align: top;\n",
       "    }\n",
       "\n",
       "    .dataframe thead th {\n",
       "        text-align: right;\n",
       "    }\n",
       "</style>\n",
       "<table border=\"1\" class=\"dataframe\">\n",
       "  <thead>\n",
       "    <tr style=\"text-align: right;\">\n",
       "      <th></th>\n",
       "      <th>city</th>\n",
       "      <th>city_id</th>\n",
       "      <th>category</th>\n",
       "      <th>merchant_id</th>\n",
       "      <th>merchant_lat</th>\n",
       "      <th>merchant_lon</th>\n",
       "    </tr>\n",
       "  </thead>\n",
       "  <tbody>\n",
       "    <tr>\n",
       "      <th>319</th>\n",
       "      <td>Кемерово</td>\n",
       "      <td>48</td>\n",
       "      <td>gas_transport</td>\n",
       "      <td>320.0</td>\n",
       "      <td>55.288288</td>\n",
       "      <td>86.073445</td>\n",
       "    </tr>\n",
       "    <tr>\n",
       "      <th>320</th>\n",
       "      <td>Кемерово</td>\n",
       "      <td>48</td>\n",
       "      <td>grocery_pos</td>\n",
       "      <td>321.0</td>\n",
       "      <td>55.305180</td>\n",
       "      <td>86.101067</td>\n",
       "    </tr>\n",
       "  </tbody>\n",
       "</table>\n",
       "</div>"
      ],
      "text/plain": [
       "         city  city_id       category  merchant_id  merchant_lat  merchant_lon\n",
       "319  Кемерово       48  gas_transport        320.0     55.288288     86.073445\n",
       "320  Кемерово       48    grocery_pos        321.0     55.305180     86.101067"
      ]
     },
     "execution_count": 34,
     "metadata": {},
     "output_type": "execute_result"
    }
   ],
   "source": [
    "# Фильтруем оффлайн мерчантов по городу клиента т.к. на вход подается отфильтрованный датафрейм\n",
    "offline_merchants_test_one_txn = offline_merchants[offline_merchants[\"city\"] == one_client_info.city]\n",
    "offline_merchants_test_one_txn.head(2)"
   ]
  },
  {
   "cell_type": "code",
   "execution_count": 185,
   "id": "2910a893-cfcd-4aea-b380-ad25c15e6cf4",
   "metadata": {},
   "outputs": [
    {
     "data": {
      "text/plain": [
       "(np.float64(4555.0),\n",
       " np.float64(55.388418458753),\n",
       " np.float64(86.168305358768),\n",
       " 'not applicable',\n",
       " 'Кемерово')"
      ]
     },
     "execution_count": 185,
     "metadata": {},
     "output_type": "execute_result"
    }
   ],
   "source": [
    "# Вызов get_txn_location_and_merchant - оффлайн покупка\n",
    "\n",
    "get_txn_location_and_merchant(online=False, merchants_df=offline_merchants_test_one_txn, category_name=\"gas_transport\", \\\n",
    "                              client_info=one_client_info, configs=configs)\n",
    "# Получаем offline merchant id, его широта и долгота, значение для колонки ip, город транзакции"
   ]
  },
  {
   "cell_type": "code",
   "execution_count": 42,
   "id": "6b158242-8fb5-4caf-af23-bba8f320ca68",
   "metadata": {},
   "outputs": [
    {
     "data": {
      "text/plain": [
       "(np.int64(6858), 55.3909721, 86.0467864, '2.60.8.101', 'Кемерово')"
      ]
     },
     "execution_count": 42,
     "metadata": {},
     "output_type": "execute_result"
    }
   ],
   "source": [
    "# Вызов get_txn_location_and_merchant - онлайн покупка\n",
    "\n",
    "get_txn_location_and_merchant(online=True, merchants_df=offline_merchants_test_one_txn, category_name=\"gas_transport\", \\\n",
    "                              client_info=one_client_info, configs=configs)\n",
    "# Получаем online merchant id, широта и долгота города клиента(координаты транзакции), ip клиента, город клиента(город транзакции)"
   ]
  },
  {
   "cell_type": "markdown",
   "id": "8d8b3e9b-aee5-4ce8-8b47-75a81efbd3ef",
   "metadata": {},
   "source": [
    "<br>"
   ]
  },
  {
   "cell_type": "markdown",
   "id": "89bf2e7e-4355-42f5-ada8-1d93d3161fd4",
   "metadata": {},
   "source": [
    "-----------------------\n",
    "# 2. Функция генератор одной легальной транзакции `generate_one_legit_txn`  \n",
    "- модуль `data_generator.legit.txns`. **[Ссылка](https://github.com/iaroslav-dzh/fraud_txns_simulator/blob/main/data_generator/legit/txns.py)** на файл в Github\n",
    "- Полное создание одной легальной транзакции. Возвращает словарь с данными для каждого поля в датафрейме транзакций"
   ]
  },
  {
   "cell_type": "markdown",
   "id": "1c7a9ce8-b7b2-4f23-94f9-764257026631",
   "metadata": {},
   "source": [
    "**Основные действия функции**\n",
    "1. Создать случайную сумму транзакции по нормальному распределению в соот-вии с характеристиками категории покупки\n",
    "2. получить данные мерчанта, локации транзакции и ip от `get_txn_location_and_merchant`\n",
    "3. Определить типа распределения времени к которому относится категория: круглосуточная оффлайн, онлайн, оффлайн дневная и получить время от `get_legit_txn_time`\n",
    "4. Если это онлайн то семплировать id девайса клиента\n",
    "5. Задать канал транзакции в зависимости от онлайн статуса\n",
    "6. Задать значения для статичных полей, которые неизменны для легальных транзакций: is_fraud, txn_type (всегда purchase), rule и др.\n",
    "7. Собрать все значения в словарь через функцию `build_transaction` и вернуть их"
   ]
  },
  {
   "cell_type": "code",
   "execution_count": 43,
   "id": "8e4be37b-06b8-4f18-b50c-4e421c1018e4",
   "metadata": {},
   "outputs": [],
   "source": [
    "def generate_one_legit_txn(client_info, client_trans_df, client_device_ids, category, \\\n",
    "                           merchants_df, configs):\n",
    "    \"\"\"\n",
    "    Генерация одной легальной транзакции покупки для клиента.\n",
    "    ------------------------------------------------\n",
    "    client_info: namedtuple, полученная в результате итерации с помощью\n",
    "                 .itertuples() через датафрейм с информацией о клиентах.\n",
    "    client_trans_df: pd.DataFrame. Транзакции клиента.\n",
    "    client_device_ids: pd.Series. id девайсов клиента.\n",
    "    category: pd.DataFrame. Одна запись с категорией и её характеристиками.\n",
    "    merchants_df: pd.DataFrame. Оффлайн мерчанты заранее отфильтрованные по\n",
    "                  городу клиента т.к. это легальные транзакции.\n",
    "    configs: LegitCfg. Конфиги и данные для генерации легальных транзакций.\n",
    "    \"\"\"\n",
    "    all_time_weights = configs.all_time_weights\n",
    "\n",
    "    client_id = client_info.client_id\n",
    "    \n",
    "    category_name = category[\"category\"].iloc[0]\n",
    "    round_clock = category[\"round_clock\"].iloc[0]\n",
    "    online = category[\"online\"].iloc[0]\n",
    "    # средняя сумма для этой категории\n",
    "    amt_mean = category[\"avg_amt\"].iloc[0]\n",
    "    # стандартное отклонение сумм для этой категории\n",
    "    amt_std = category[\"amt_std\"].iloc[0]\n",
    "    \n",
    "    # случайно сгенерированная сумма транзакции, но не менее 1\n",
    "    amount = max(1, round(np.random.normal(amt_mean, amt_std), 2))\n",
    "    amount = amt_rounding(amount=amount, rate=0.6) # Случайное целочисленное округление\n",
    "\n",
    "    # 1. Offline_24h_Legit - круглосуточные оффлайн покупки\n",
    "    if not online and round_clock:\n",
    "        weights_key = \"Offline_24h_Legit\"\n",
    "        channel = \"POS\"\n",
    "        device_id = np.nan\n",
    "        \n",
    "    # 2. Online_Legit - Онлайн покупки\n",
    "    elif online:\n",
    "        weights_key = \"Online_Legit\"\n",
    "        # локация клиента по IP. Т.к. это не фрод. Просто записываем координаты города клиента\n",
    "        channel = \"ecom\"\n",
    "        device_id = client_device_ids.sample(n=1).iloc[0]\n",
    "        \n",
    "    # 3. Offline_Day_Legit - Оффлайн покупки. Дневные категории.\n",
    "    elif not online and not round_clock:\n",
    "        weights_key = \"Offline_Day_Legit\"\n",
    "        channel = \"POS\"\n",
    "        device_id = np.nan\n",
    "        \n",
    "    # Генерация мерчанта, координат транзакции. И если это онлайн, то IP адреса с которого сделана транзакция\n",
    "    merchant_id, trans_lat, trans_lon, trans_ip, trans_city = \\\n",
    "                                get_txn_location_and_merchant(online=online, merchants_df=merchants_df, \\\n",
    "                                                              category_name=category_name, client_info=client_info, \\\n",
    "                                                              configs=configs)\n",
    "    \n",
    "    time_weights = all_time_weights[weights_key][\"weights\"]\n",
    "    \n",
    "    # Генерация времени транзакции\n",
    "    txn_time, txn_unix = get_legit_txn_time(trans_df=client_trans_df, time_weights=time_weights, \\\n",
    "                                            configs=configs, round_clock=round_clock, online=online)\n",
    "    # Статичные значения для данной функции.\n",
    "    status = \"approved\"\n",
    "    txn_type = \"purchase\"\n",
    "    is_fraud = False\n",
    "    is_suspicious = False\n",
    "    account = np.nan\n",
    "    rule = \"not applicable\"\n",
    "    \n",
    "    # Возвращаем словарь со всеми данными сгенерированной транзакции\n",
    "    return build_transaction(client_id=client_id, txn_time=txn_time, txn_unix=txn_unix, amount=amount, txn_type=txn_type, \\\n",
    "                             channel=channel, category_name=category_name, online=online, merchant_id=merchant_id, \\\n",
    "                             trans_city=trans_city, trans_lat=trans_lat, trans_lon=trans_lon, trans_ip=trans_ip, \\\n",
    "                             device_id=device_id, account=account, is_fraud=is_fraud, is_suspicious=is_suspicious, \\\n",
    "                             status=status, rule=rule)"
   ]
  },
  {
   "cell_type": "markdown",
   "id": "04c9f27e-5fc7-42b8-b3d0-b7b8c714c7ac",
   "metadata": {},
   "source": [
    "### **Демонстрация**"
   ]
  },
  {
   "cell_type": "code",
   "execution_count": 61,
   "id": "a4c07289-2fa5-4409-8065-36d368c38d99",
   "metadata": {},
   "outputs": [],
   "source": [
    "# Импорт функций которые используются в generate_one_legit_txn\n",
    "from data_generator.utils import build_transaction, amt_rounding\n",
    "from data_generator.legit.time.time import get_legit_txn_time\n",
    "from data_generator.legit.txndata import get_txn_location_and_merchant"
   ]
  },
  {
   "cell_type": "code",
   "execution_count": 50,
   "id": "a015f760-0381-466b-846c-c55fae2f16b1",
   "metadata": {},
   "outputs": [],
   "source": [
    "client_devices = configs.client_devices"
   ]
  },
  {
   "cell_type": "code",
   "execution_count": 49,
   "id": "77009132-81c5-40a0-9112-a328d2dd8e95",
   "metadata": {},
   "outputs": [
    {
     "data": {
      "text/plain": [
       "Pandas(Index=0, client_id=2269, birth_date=Timestamp('1988-11-03 00:00:00'), sex='female', region='Кемеровская', city='Кемерово', lat=55.3909721, lon=86.0467864, city_id=48, home_ip='2.60.8.101')"
      ]
     },
     "execution_count": 49,
     "metadata": {},
     "output_type": "execute_result"
    }
   ],
   "source": [
    "for row in clients.iloc[[0]].itertuples():\n",
    "    one_client_info = row\n",
    "one_client_info"
   ]
  },
  {
   "cell_type": "code",
   "execution_count": 51,
   "id": "8d2d4d79-71ae-4705-a7b9-89469b9d8d14",
   "metadata": {},
   "outputs": [
    {
     "data": {
      "text/plain": [
       "2148    3848\n",
       "7068    3849\n",
       "Name: device_id, dtype: int64"
      ]
     },
     "execution_count": 51,
     "metadata": {},
     "output_type": "execute_result"
    }
   ],
   "source": [
    "# id устройств которые принадлежат клиенту\n",
    "device_id_demo = client_devices.loc[client_devices.client_id == one_client_info.client_id, \"device_id\"]\n",
    "device_id_demo"
   ]
  },
  {
   "cell_type": "code",
   "execution_count": 52,
   "id": "76659f5b-c013-4693-bcc5-6c8ac0c0530c",
   "metadata": {},
   "outputs": [
    {
     "data": {
      "text/html": [
       "<div>\n",
       "<style scoped>\n",
       "    .dataframe tbody tr th:only-of-type {\n",
       "        vertical-align: middle;\n",
       "    }\n",
       "\n",
       "    .dataframe tbody tr th {\n",
       "        vertical-align: top;\n",
       "    }\n",
       "\n",
       "    .dataframe thead th {\n",
       "        text-align: right;\n",
       "    }\n",
       "</style>\n",
       "<table border=\"1\" class=\"dataframe\">\n",
       "  <thead>\n",
       "    <tr style=\"text-align: right;\">\n",
       "      <th></th>\n",
       "      <th>client_id</th>\n",
       "      <th>txn_time</th>\n",
       "      <th>unix_time</th>\n",
       "      <th>amount</th>\n",
       "      <th>type</th>\n",
       "      <th>channel</th>\n",
       "      <th>category</th>\n",
       "      <th>online</th>\n",
       "      <th>merchant_id</th>\n",
       "      <th>trans_city</th>\n",
       "      <th>trans_lat</th>\n",
       "      <th>trans_lon</th>\n",
       "      <th>trans_ip</th>\n",
       "      <th>device_id</th>\n",
       "      <th>account</th>\n",
       "      <th>is_fraud</th>\n",
       "      <th>is_suspicious</th>\n",
       "      <th>status</th>\n",
       "      <th>rule</th>\n",
       "    </tr>\n",
       "  </thead>\n",
       "  <tbody>\n",
       "  </tbody>\n",
       "</table>\n",
       "</div>"
      ],
      "text/plain": [
       "Empty DataFrame\n",
       "Columns: [client_id, txn_time, unix_time, amount, type, channel, category, online, merchant_id, trans_city, trans_lat, trans_lon, trans_ip, device_id, account, is_fraud, is_suspicious, status, rule]\n",
       "Index: []"
      ]
     },
     "execution_count": 52,
     "metadata": {},
     "output_type": "execute_result"
    }
   ],
   "source": [
    "# Датафрейм под запись транзакций\n",
    "client_trans_df = create_txns_df(base_cfg[\"txns_df\"])\n",
    "client_trans_df"
   ]
  },
  {
   "cell_type": "markdown",
   "id": "8f3c2f99-c9fa-40f0-8a91-25105e0cd3f5",
   "metadata": {},
   "source": [
    "**Онлайн пример**"
   ]
  },
  {
   "cell_type": "code",
   "execution_count": 56,
   "id": "d6041d5a-6ec7-49f4-b455-22e6ca2c6dd2",
   "metadata": {},
   "outputs": [
    {
     "data": {
      "text/html": [
       "<div>\n",
       "<style scoped>\n",
       "    .dataframe tbody tr th:only-of-type {\n",
       "        vertical-align: middle;\n",
       "    }\n",
       "\n",
       "    .dataframe tbody tr th {\n",
       "        vertical-align: top;\n",
       "    }\n",
       "\n",
       "    .dataframe thead th {\n",
       "        text-align: right;\n",
       "    }\n",
       "</style>\n",
       "<table border=\"1\" class=\"dataframe\">\n",
       "  <thead>\n",
       "    <tr style=\"text-align: right;\">\n",
       "      <th></th>\n",
       "      <th>category</th>\n",
       "      <th>avg_amt</th>\n",
       "      <th>amt_std</th>\n",
       "      <th>cat_count</th>\n",
       "      <th>online</th>\n",
       "      <th>share</th>\n",
       "      <th>fraud_count</th>\n",
       "      <th>fraud_share</th>\n",
       "      <th>round_clock</th>\n",
       "    </tr>\n",
       "  </thead>\n",
       "  <tbody>\n",
       "    <tr>\n",
       "      <th>5</th>\n",
       "      <td>shopping_net</td>\n",
       "      <td>1252.224798</td>\n",
       "      <td>3558.296372</td>\n",
       "      <td>41779</td>\n",
       "      <td>True</td>\n",
       "      <td>0.07518</td>\n",
       "      <td>506</td>\n",
       "      <td>0.012111</td>\n",
       "      <td>False</td>\n",
       "    </tr>\n",
       "  </tbody>\n",
       "</table>\n",
       "</div>"
      ],
      "text/plain": [
       "       category      avg_amt      amt_std  cat_count  online    share  \\\n",
       "5  shopping_net  1252.224798  3558.296372      41779    True  0.07518   \n",
       "\n",
       "   fraud_count  fraud_share  round_clock  \n",
       "5          506     0.012111        False  "
      ]
     },
     "execution_count": 56,
     "metadata": {},
     "output_type": "execute_result"
    }
   ],
   "source": [
    "# выберем одну категорию и возьмем запись с ее характеристиками\n",
    "category_demo_on_txn = cat_stats_full.query(\"category == 'shopping_net'\")\n",
    "category_demo_on_txn"
   ]
  },
  {
   "cell_type": "code",
   "execution_count": 64,
   "id": "5accd8b6-e54d-4bce-97fc-c55cd5b66c92",
   "metadata": {},
   "outputs": [
    {
     "data": {
      "text/html": [
       "<div>\n",
       "<style scoped>\n",
       "    .dataframe tbody tr th:only-of-type {\n",
       "        vertical-align: middle;\n",
       "    }\n",
       "\n",
       "    .dataframe tbody tr th {\n",
       "        vertical-align: top;\n",
       "    }\n",
       "\n",
       "    .dataframe thead th {\n",
       "        text-align: right;\n",
       "    }\n",
       "</style>\n",
       "<table border=\"1\" class=\"dataframe\">\n",
       "  <thead>\n",
       "    <tr style=\"text-align: right;\">\n",
       "      <th></th>\n",
       "      <th>client_id</th>\n",
       "      <th>txn_time</th>\n",
       "      <th>unix_time</th>\n",
       "      <th>amount</th>\n",
       "      <th>type</th>\n",
       "      <th>channel</th>\n",
       "      <th>category</th>\n",
       "      <th>online</th>\n",
       "      <th>merchant_id</th>\n",
       "      <th>trans_city</th>\n",
       "      <th>trans_lat</th>\n",
       "      <th>trans_lon</th>\n",
       "      <th>trans_ip</th>\n",
       "      <th>device_id</th>\n",
       "      <th>account</th>\n",
       "      <th>is_fraud</th>\n",
       "      <th>is_suspicious</th>\n",
       "      <th>status</th>\n",
       "      <th>rule</th>\n",
       "    </tr>\n",
       "  </thead>\n",
       "  <tbody>\n",
       "    <tr>\n",
       "      <th>0</th>\n",
       "      <td>2269</td>\n",
       "      <td>2025-01-06 14:54:00</td>\n",
       "      <td>1736175240</td>\n",
       "      <td>3293.61</td>\n",
       "      <td>purchase</td>\n",
       "      <td>ecom</td>\n",
       "      <td>shopping_net</td>\n",
       "      <td>True</td>\n",
       "      <td>6923</td>\n",
       "      <td>Кемерово</td>\n",
       "      <td>55.390972</td>\n",
       "      <td>86.046786</td>\n",
       "      <td>2.60.8.101</td>\n",
       "      <td>3849</td>\n",
       "      <td>NaN</td>\n",
       "      <td>False</td>\n",
       "      <td>False</td>\n",
       "      <td>approved</td>\n",
       "      <td>not applicable</td>\n",
       "    </tr>\n",
       "  </tbody>\n",
       "</table>\n",
       "</div>"
      ],
      "text/plain": [
       "   client_id            txn_time   unix_time   amount      type channel  \\\n",
       "0       2269 2025-01-06 14:54:00  1736175240  3293.61  purchase    ecom   \n",
       "\n",
       "       category  online  merchant_id trans_city  trans_lat  trans_lon  \\\n",
       "0  shopping_net    True         6923   Кемерово  55.390972  86.046786   \n",
       "\n",
       "     trans_ip  device_id  account  is_fraud  is_suspicious    status  \\\n",
       "0  2.60.8.101       3849      NaN     False          False  approved   \n",
       "\n",
       "             rule  \n",
       "0  not applicable  "
      ]
     },
     "execution_count": 64,
     "metadata": {},
     "output_type": "execute_result"
    }
   ],
   "source": [
    "one_txn_demo = generate_one_legit_txn(client_info=one_client_info, client_trans_df=client_trans_df, \\\n",
    "                                      client_device_ids=device_id_demo, category=category_demo_on_txn, \\\n",
    "                                      merchants_df=offline_merchants_test_one_txn, configs=configs)\n",
    "pd.DataFrame([one_txn_demo])"
   ]
  },
  {
   "cell_type": "markdown",
   "id": "17f1b335-08f9-42d6-8731-824700e6c2cf",
   "metadata": {},
   "source": [
    "**Оффлайн пример**"
   ]
  },
  {
   "cell_type": "code",
   "execution_count": 65,
   "id": "c9afffd4-4441-455e-8f09-b8ab8f299a5a",
   "metadata": {},
   "outputs": [
    {
     "data": {
      "text/html": [
       "<div>\n",
       "<style scoped>\n",
       "    .dataframe tbody tr th:only-of-type {\n",
       "        vertical-align: middle;\n",
       "    }\n",
       "\n",
       "    .dataframe tbody tr th {\n",
       "        vertical-align: top;\n",
       "    }\n",
       "\n",
       "    .dataframe thead th {\n",
       "        text-align: right;\n",
       "    }\n",
       "</style>\n",
       "<table border=\"1\" class=\"dataframe\">\n",
       "  <thead>\n",
       "    <tr style=\"text-align: right;\">\n",
       "      <th></th>\n",
       "      <th>category</th>\n",
       "      <th>avg_amt</th>\n",
       "      <th>amt_std</th>\n",
       "      <th>cat_count</th>\n",
       "      <th>online</th>\n",
       "      <th>share</th>\n",
       "      <th>fraud_count</th>\n",
       "      <th>fraud_share</th>\n",
       "      <th>round_clock</th>\n",
       "    </tr>\n",
       "  </thead>\n",
       "  <tbody>\n",
       "    <tr>\n",
       "      <th>1</th>\n",
       "      <td>grocery_pos</td>\n",
       "      <td>1738.279905</td>\n",
       "      <td>773.284951</td>\n",
       "      <td>52553</td>\n",
       "      <td>False</td>\n",
       "      <td>0.094568</td>\n",
       "      <td>485</td>\n",
       "      <td>0.009229</td>\n",
       "      <td>False</td>\n",
       "    </tr>\n",
       "  </tbody>\n",
       "</table>\n",
       "</div>"
      ],
      "text/plain": [
       "      category      avg_amt     amt_std  cat_count  online     share  \\\n",
       "1  grocery_pos  1738.279905  773.284951      52553   False  0.094568   \n",
       "\n",
       "   fraud_count  fraud_share  round_clock  \n",
       "1          485     0.009229        False  "
      ]
     },
     "execution_count": 65,
     "metadata": {},
     "output_type": "execute_result"
    }
   ],
   "source": [
    "# выберем одну категорию и возьмем запись с ее характеристиками\n",
    "category_demo_on_txn2 = cat_stats_full.query(\"category == 'grocery_pos'\")\n",
    "category_demo_on_txn2"
   ]
  },
  {
   "cell_type": "code",
   "execution_count": 66,
   "id": "7e8dc677-aad6-465b-899a-887e3e006c9c",
   "metadata": {},
   "outputs": [
    {
     "data": {
      "text/html": [
       "<div>\n",
       "<style scoped>\n",
       "    .dataframe tbody tr th:only-of-type {\n",
       "        vertical-align: middle;\n",
       "    }\n",
       "\n",
       "    .dataframe tbody tr th {\n",
       "        vertical-align: top;\n",
       "    }\n",
       "\n",
       "    .dataframe thead th {\n",
       "        text-align: right;\n",
       "    }\n",
       "</style>\n",
       "<table border=\"1\" class=\"dataframe\">\n",
       "  <thead>\n",
       "    <tr style=\"text-align: right;\">\n",
       "      <th></th>\n",
       "      <th>client_id</th>\n",
       "      <th>txn_time</th>\n",
       "      <th>unix_time</th>\n",
       "      <th>amount</th>\n",
       "      <th>type</th>\n",
       "      <th>channel</th>\n",
       "      <th>category</th>\n",
       "      <th>online</th>\n",
       "      <th>merchant_id</th>\n",
       "      <th>trans_city</th>\n",
       "      <th>trans_lat</th>\n",
       "      <th>trans_lon</th>\n",
       "      <th>trans_ip</th>\n",
       "      <th>device_id</th>\n",
       "      <th>account</th>\n",
       "      <th>is_fraud</th>\n",
       "      <th>is_suspicious</th>\n",
       "      <th>status</th>\n",
       "      <th>rule</th>\n",
       "    </tr>\n",
       "  </thead>\n",
       "  <tbody>\n",
       "    <tr>\n",
       "      <th>0</th>\n",
       "      <td>2269</td>\n",
       "      <td>2025-01-01 18:18:00</td>\n",
       "      <td>1735755480</td>\n",
       "      <td>921.0</td>\n",
       "      <td>purchase</td>\n",
       "      <td>POS</td>\n",
       "      <td>grocery_pos</td>\n",
       "      <td>False</td>\n",
       "      <td>1168.0</td>\n",
       "      <td>Кемерово</td>\n",
       "      <td>55.410074</td>\n",
       "      <td>86.060446</td>\n",
       "      <td>not applicable</td>\n",
       "      <td>NaN</td>\n",
       "      <td>NaN</td>\n",
       "      <td>False</td>\n",
       "      <td>False</td>\n",
       "      <td>approved</td>\n",
       "      <td>not applicable</td>\n",
       "    </tr>\n",
       "  </tbody>\n",
       "</table>\n",
       "</div>"
      ],
      "text/plain": [
       "   client_id            txn_time   unix_time  amount      type channel  \\\n",
       "0       2269 2025-01-01 18:18:00  1735755480   921.0  purchase     POS   \n",
       "\n",
       "      category  online  merchant_id trans_city  trans_lat  trans_lon  \\\n",
       "0  grocery_pos   False       1168.0   Кемерово  55.410074  86.060446   \n",
       "\n",
       "         trans_ip  device_id  account  is_fraud  is_suspicious    status  \\\n",
       "0  not applicable        NaN      NaN     False          False  approved   \n",
       "\n",
       "             rule  \n",
       "0  not applicable  "
      ]
     },
     "execution_count": 66,
     "metadata": {},
     "output_type": "execute_result"
    }
   ],
   "source": [
    "one_txn_demo2 = generate_one_legit_txn(client_info=one_client_info, client_trans_df=client_trans_df, \\\n",
    "                                      client_device_ids=device_id_demo, category=category_demo_on_txn2, \\\n",
    "                                      merchants_df=offline_merchants_test_one_txn, configs=configs)\n",
    "pd.DataFrame([one_txn_demo2])"
   ]
  },
  {
   "cell_type": "markdown",
   "id": "65791d54-0f2f-453a-abb9-4e9c45012fb5",
   "metadata": {},
   "source": [
    "<br>"
   ]
  },
  {
   "cell_type": "markdown",
   "id": "131bcc01-e377-4b9e-8ef7-a6e876a5fd8a",
   "metadata": {},
   "source": [
    "---------------------------------------------------------------------------------"
   ]
  },
  {
   "cell_type": "markdown",
   "id": "2ee593fd-9037-4ee4-8972-17dbed9c6a3e",
   "metadata": {},
   "source": [
    "## 3. Класс `LegitTxnsRecorder`\n",
    "- модуль `data_generator.legit.recorder`. **[Ссылка](https://github.com/iaroslav-dzh/fraud_txns_simulator/blob/main/data_generator/legit/recorder.py)** на файл в Github \n",
    "- Пишет легальные транзакции в файл"
   ]
  },
  {
   "cell_type": "markdown",
   "id": "7f42ba4d-1f23-4d0d-93a9-db622ca2d14e",
   "metadata": {},
   "source": [
    "**Основные функции класса**\n",
    "- демонстрации работы не будет, просто опишу его функционал\n",
    "1. Создает поддиректорию `chunks` в директории текущей генерации легальных транзакций\n",
    "2. Пишет транзакции в файлы чанками в эту поддиректорию. Размер чанков определяется в конфигах `legit.yaml`\n",
    "4. Читает все созданные чанки и собирает в единый датафрейм\n",
    "5. Записывает этот датафрейм в две директории: текущего запуска генератора транзакций и последнего запуска генератора  \n",
    "\n",
    "Подразумевается встраивание recorder-а в функцию генерации множества легальных транзакций. Сам по себе он не определяет логику когда писать/читать транзакции.  "
   ]
  },
  {
   "cell_type": "markdown",
   "id": "4c7d0d3f-9e32-4160-92ad-3e9ed5edcb12",
   "metadata": {},
   "source": [
    "<br>"
   ]
  },
  {
   "cell_type": "markdown",
   "id": "77bc698b-a8ef-47e6-a474-ed533eb702d1",
   "metadata": {},
   "source": [
    "----------------------------------------------------------------------"
   ]
  },
  {
   "cell_type": "markdown",
   "id": "30dba552-44d1-4eaa-a5ec-098c7037f784",
   "metadata": {},
   "source": [
    "## 4. Функция генерации нескольких легальных транзакций `gen_multiple_legit_txns`\n",
    "- модуль `data_generator.legit.txns`. **[Ссылка](https://github.com/iaroslav-dzh/fraud_txns_simulator/blob/main/data_generator/legit/txns.py)** на файл в Github \n",
    "- Основная функция для генерации легальных транзакций"
   ]
  },
  {
   "cell_type": "markdown",
   "id": "3baf65d5-be56-4ed7-be45-e7ead6569d37",
   "metadata": {},
   "source": [
    "**Основная логика работы**\n",
    "1. Итерирование через семпл клиентов хранящихся в `configs.clients`\n",
    "2. Генерация случайного числа транзакций для каждого клиента. Число транзакций берется из обрезанного норм. распределения. Параметры распределения указаны в `legit.yaml`\n",
    "3. Запись создаваемых транзакций чанками\n",
    "4. В конце чтение чанков и сборка единого датафрейма, запись этого датафрейма в файл"
   ]
  },
  {
   "cell_type": "code",
   "execution_count": 168,
   "id": "6d2ce747-8937-46ad-b64d-abfba88fad98",
   "metadata": {},
   "outputs": [],
   "source": [
    "def gen_multiple_legit_txns(configs, txn_recorder, ignore_index=True):\n",
    "    \"\"\"\n",
    "    Генерирует несколько транзакций для каждого клиента ориентируясь \n",
    "    на существующие транзакции если они есть.\n",
    "    Количество на клиента берется по нормальному распределению с \n",
    "    указанными средним и стандартным отклонением.\n",
    "    Ограничение забито в функцию gen_trans_number_norm: от 1 до 120 транзакций.\n",
    "    ---------------------------------------------------\n",
    "    configs: LegitCfg. Конфиги и данные для генерации легальных транзакций.\n",
    "    txn_recorder: LegitTxnsRecorder. \n",
    "    ignore_index: bool. Сбросить ли индекс при конкатенации датафреймов\n",
    "                  в финальный датафрейм с транзакциями всех клиентов\n",
    "    \"\"\"\n",
    "    clients_df = configs.clients\n",
    "    trans_df = configs.transactions\n",
    "    client_devices = configs.client_devices\n",
    "    offline_merchants = configs.offline_merchants\n",
    "    categories = configs.categories\n",
    "    avg_txn_num = configs.txn_num[\"avg_txn_num\"]\n",
    "    txn_num_std = configs.txn_num[\"txn_num_std\"]\n",
    "    low_bound = configs.txn_num[\"low_bound\"]\n",
    "    up_bound = configs.txn_num[\"up_bound\"]\n",
    "    \n",
    "    # Сюда будем собирать сгенрированные транзакции клиента в виде словарей.\n",
    "    client_txns = txn_recorder.client_txns\n",
    "    \n",
    "    for client_info in clients_df.itertuples():\n",
    "        txn_recorder.clients_counter += 1\n",
    "\n",
    "        # случайное кол-во транзакций на клиента взятое из нормального распределения с мин. и макс. лимитами\n",
    "        txns_num = gen_trans_number_norm(avg_num=avg_txn_num, num_std=txn_num_std, low_bound=low_bound, \\\n",
    "                                             up_bound=up_bound)\n",
    "        merchants_from_city = offline_merchants[offline_merchants[\"city\"] == client_info.city]\n",
    "        client_transactions = trans_df.loc[trans_df.client_id == client_info.client_id]\n",
    "        \n",
    "        # id девайсов клиента для онлайн транзакций\n",
    "        client_device_ids = client_devices.loc[client_devices.client_id == client_info.client_id, \"device_id\"]\n",
    "        \n",
    "        for _ in range(txns_num):\n",
    "            # семплирование категории для транзакции\n",
    "            category = categories.sample(1, replace=True, weights=categories.share)\n",
    "\n",
    "            # генерация одной транзакции\n",
    "            one_txn = generate_one_legit_txn(client_info=client_info, client_trans_df=client_transactions, \\\n",
    "                                             category=category, client_device_ids=client_device_ids, \\\n",
    "                                             merchants_df=merchants_from_city, configs=configs)\n",
    "            # Запись транз-ции в список транз-ций текущего клиента.\n",
    "            client_txns.append(one_txn)\n",
    "            txn_recorder.txns_counter += 1 # счетчик всех транз-ций\n",
    "\n",
    "            # Управление записью транзакций чанками в файлы.\n",
    "            txn_recorder.record_chunk(txn=one_txn, txns_num=txns_num)\n",
    "            \n",
    "            # Добавляем созданную транзакцию к транзакциям клиента, т.к. иногда \n",
    "            # при генерации других транзакций нужно знать уже созданные транзакции\n",
    "            one_txn_df = pd.DataFrame([one_txn])\n",
    "            client_transactions = pd.concat([client_transactions, one_txn_df], ignore_index=ignore_index)\n",
    "        \n",
    "        client_txns.clear() # Конец генерации на клиента. Чистим список для текущего кл-та\n",
    "\n",
    "    # Сборка цельного датафрейма из чанков записанных в файлы. Датафрейм сохраняется \n",
    "    # в txn_recorder.all_txns.\n",
    "    txn_recorder.build_from_chunks()\n",
    "\n",
    "    # Запись собранного датафрейма в два файла в разные директории: data/generated/lastest/\n",
    "    # И data/generated/history/<своя_папка_с_датой_временем>\n",
    "    txn_recorder.write_built_data()"
   ]
  },
  {
   "cell_type": "markdown",
   "id": "4b93060f-2df1-4e93-a5b9-b46144cf35e1",
   "metadata": {},
   "source": [
    "### **Демонстрация**"
   ]
  },
  {
   "cell_type": "code",
   "execution_count": 77,
   "id": "18e963f2-49a9-44e5-b43e-f35a814f610f",
   "metadata": {},
   "outputs": [],
   "source": [
    "# Импорт зависимостей\n",
    "from data_generator.legit.recorder import LegitTxnsRecorder\n",
    "from data_generator.utils import gen_trans_number_norm"
   ]
  },
  {
   "cell_type": "code",
   "execution_count": 172,
   "id": "9de4b30f-43c0-43f0-8ff8-d09b506749eb",
   "metadata": {},
   "outputs": [],
   "source": [
    "# Нужно создать объект LegitTxnsRecorder для передачи в gen_multiple_legit_txns\n",
    "# Это надо делать заново если повторяем генерацию в этом ноутбуке т.к. нужно очистить некоторые атрибуты\n",
    "# txn_recorder, в которых остаются некоторые данные после предыдущего запуска\n",
    "\n",
    "txn_recorder = LegitTxnsRecorder(configs=configs)"
   ]
  },
  {
   "cell_type": "code",
   "execution_count": 173,
   "id": "5abb07a6-41cc-4201-9b00-1b02aec5d777",
   "metadata": {},
   "outputs": [
    {
     "data": {
      "text/plain": [
       "WindowsPath('data/generated/history/generation_run_2025-07-25_121029')"
      ]
     },
     "execution_count": 173,
     "metadata": {},
     "output_type": "execute_result"
    }
   ],
   "source": [
    "# Путь к директории которую мы создали в самом начале\n",
    "# В этой директории в папке legit будут храниться созданные легальные транзакции\n",
    "configs.run_dir"
   ]
  },
  {
   "cell_type": "markdown",
   "id": "b9de3f4d-1cb6-49c1-b095-9e7b02552250",
   "metadata": {},
   "source": [
    "**Если запуск повторный с теми же конфигами то** в директории указанной в `configs.run_dir` открыть папку `legit` и удалить ее содержимое, т.к. это содержимое предыдущего запуска. Но это только если мы используем те же конфиги где указан тот же путь до директории прошлого запуска `configs.run_dir`. В целом варианте подразумевается что конфиг создается каждый запуск генератора и каждый раз это другая директория, но в тестовых запусках нужно это учесть если повторяем запуск с тем же `configs`"
   ]
  },
  {
   "cell_type": "code",
   "execution_count": 174,
   "id": "e4ccbeab-a0c4-47c9-b40e-f47aab9b5183",
   "metadata": {},
   "outputs": [],
   "source": [
    "# Непосредственно генерация транзакций. \n",
    "\n",
    "gen_multiple_legit_txns(configs=configs, txn_recorder=txn_recorder)"
   ]
  },
  {
   "cell_type": "code",
   "execution_count": 175,
   "id": "dbae3046-fc21-4744-a477-fe3316498ba0",
   "metadata": {},
   "outputs": [],
   "source": [
    "# gen_multiple_legit_txns не возвращает результат. Прочитаем его из файла с транзакциями\n",
    "# Также датафрейм со всеми созданными транзакциями можно взять из txn_recorder.all_txns\n",
    "\n",
    "# Соберем полный путь к файлу\n",
    "data_storage = legit_cfg[\"data_storage\"] # конфиги названий поддиректорий и файлов\n",
    "leg_dir = data_storage[\"folder_name\"] # название поддиректории легальных транз.\n",
    "leg_file = data_storage[\"files\"][\"txns\"] # название файла с легальными транз.\n",
    "path_to_leg_txns = os.path.join(run_dir, leg_dir, leg_file)\n",
    "\n",
    "# Чтение датафрейма\n",
    "multi_leg_txn_demo = pd.read_parquet(path_to_leg_txns)"
   ]
  },
  {
   "cell_type": "code",
   "execution_count": 181,
   "id": "5b92d8ed-52d2-446a-9bb8-46d111554d01",
   "metadata": {},
   "outputs": [
    {
     "data": {
      "text/html": [
       "<div>\n",
       "<style scoped>\n",
       "    .dataframe tbody tr th:only-of-type {\n",
       "        vertical-align: middle;\n",
       "    }\n",
       "\n",
       "    .dataframe tbody tr th {\n",
       "        vertical-align: top;\n",
       "    }\n",
       "\n",
       "    .dataframe thead th {\n",
       "        text-align: right;\n",
       "    }\n",
       "</style>\n",
       "<table border=\"1\" class=\"dataframe\">\n",
       "  <thead>\n",
       "    <tr style=\"text-align: right;\">\n",
       "      <th></th>\n",
       "      <th>client_id</th>\n",
       "      <th>txn_time</th>\n",
       "      <th>unix_time</th>\n",
       "      <th>amount</th>\n",
       "      <th>type</th>\n",
       "      <th>channel</th>\n",
       "      <th>category</th>\n",
       "      <th>online</th>\n",
       "      <th>merchant_id</th>\n",
       "      <th>trans_city</th>\n",
       "      <th>trans_lat</th>\n",
       "      <th>trans_lon</th>\n",
       "      <th>trans_ip</th>\n",
       "      <th>device_id</th>\n",
       "      <th>account</th>\n",
       "      <th>is_fraud</th>\n",
       "      <th>is_suspicious</th>\n",
       "      <th>status</th>\n",
       "      <th>rule</th>\n",
       "    </tr>\n",
       "  </thead>\n",
       "  <tbody>\n",
       "    <tr>\n",
       "      <th>0</th>\n",
       "      <td>13556</td>\n",
       "      <td>2025-01-01 01:16:00</td>\n",
       "      <td>1735694160</td>\n",
       "      <td>615.46</td>\n",
       "      <td>purchase</td>\n",
       "      <td>ecom</td>\n",
       "      <td>shopping_net</td>\n",
       "      <td>True</td>\n",
       "      <td>6828.0</td>\n",
       "      <td>Курск</td>\n",
       "      <td>51.730339</td>\n",
       "      <td>36.192645</td>\n",
       "      <td>2.60.20.218</td>\n",
       "      <td>9613.0</td>\n",
       "      <td>NaN</td>\n",
       "      <td>False</td>\n",
       "      <td>False</td>\n",
       "      <td>approved</td>\n",
       "      <td>not applicable</td>\n",
       "    </tr>\n",
       "    <tr>\n",
       "      <th>1</th>\n",
       "      <td>3733</td>\n",
       "      <td>2025-01-01 01:50:00</td>\n",
       "      <td>1735696200</td>\n",
       "      <td>955.55</td>\n",
       "      <td>purchase</td>\n",
       "      <td>ecom</td>\n",
       "      <td>grocery_net</td>\n",
       "      <td>True</td>\n",
       "      <td>6787.0</td>\n",
       "      <td>Москва</td>\n",
       "      <td>55.753879</td>\n",
       "      <td>37.620373</td>\n",
       "      <td>2.60.13.206</td>\n",
       "      <td>6350.0</td>\n",
       "      <td>NaN</td>\n",
       "      <td>False</td>\n",
       "      <td>False</td>\n",
       "      <td>approved</td>\n",
       "      <td>not applicable</td>\n",
       "    </tr>\n",
       "    <tr>\n",
       "      <th>2</th>\n",
       "      <td>3289</td>\n",
       "      <td>2025-01-01 02:49:00</td>\n",
       "      <td>1735699740</td>\n",
       "      <td>1746.00</td>\n",
       "      <td>purchase</td>\n",
       "      <td>ecom</td>\n",
       "      <td>shopping_net</td>\n",
       "      <td>True</td>\n",
       "      <td>6782.0</td>\n",
       "      <td>Калининград</td>\n",
       "      <td>54.707322</td>\n",
       "      <td>20.507246</td>\n",
       "      <td>2.60.12.44</td>\n",
       "      <td>5588.0</td>\n",
       "      <td>NaN</td>\n",
       "      <td>False</td>\n",
       "      <td>False</td>\n",
       "      <td>approved</td>\n",
       "      <td>not applicable</td>\n",
       "    </tr>\n",
       "    <tr>\n",
       "      <th>3</th>\n",
       "      <td>3769</td>\n",
       "      <td>2025-01-01 04:02:00</td>\n",
       "      <td>1735704120</td>\n",
       "      <td>204.63</td>\n",
       "      <td>purchase</td>\n",
       "      <td>ecom</td>\n",
       "      <td>grocery_net</td>\n",
       "      <td>True</td>\n",
       "      <td>6820.0</td>\n",
       "      <td>Екатеринбург</td>\n",
       "      <td>56.838633</td>\n",
       "      <td>60.605489</td>\n",
       "      <td>2.60.13.241</td>\n",
       "      <td>6419.0</td>\n",
       "      <td>NaN</td>\n",
       "      <td>False</td>\n",
       "      <td>False</td>\n",
       "      <td>approved</td>\n",
       "      <td>not applicable</td>\n",
       "    </tr>\n",
       "    <tr>\n",
       "      <th>4</th>\n",
       "      <td>1245</td>\n",
       "      <td>2025-01-01 04:23:00</td>\n",
       "      <td>1735705380</td>\n",
       "      <td>1.00</td>\n",
       "      <td>purchase</td>\n",
       "      <td>ecom</td>\n",
       "      <td>shopping_net</td>\n",
       "      <td>True</td>\n",
       "      <td>6862.0</td>\n",
       "      <td>Нижний Новгород</td>\n",
       "      <td>56.324209</td>\n",
       "      <td>44.005395</td>\n",
       "      <td>2.60.4.161</td>\n",
       "      <td>2105.0</td>\n",
       "      <td>NaN</td>\n",
       "      <td>False</td>\n",
       "      <td>False</td>\n",
       "      <td>approved</td>\n",
       "      <td>not applicable</td>\n",
       "    </tr>\n",
       "  </tbody>\n",
       "</table>\n",
       "</div>"
      ],
      "text/plain": [
       "   client_id            txn_time   unix_time   amount      type channel  \\\n",
       "0      13556 2025-01-01 01:16:00  1735694160   615.46  purchase    ecom   \n",
       "1       3733 2025-01-01 01:50:00  1735696200   955.55  purchase    ecom   \n",
       "2       3289 2025-01-01 02:49:00  1735699740  1746.00  purchase    ecom   \n",
       "3       3769 2025-01-01 04:02:00  1735704120   204.63  purchase    ecom   \n",
       "4       1245 2025-01-01 04:23:00  1735705380     1.00  purchase    ecom   \n",
       "\n",
       "       category  online  merchant_id       trans_city  trans_lat  trans_lon  \\\n",
       "0  shopping_net    True       6828.0            Курск  51.730339  36.192645   \n",
       "1   grocery_net    True       6787.0           Москва  55.753879  37.620373   \n",
       "2  shopping_net    True       6782.0      Калининград  54.707322  20.507246   \n",
       "3   grocery_net    True       6820.0     Екатеринбург  56.838633  60.605489   \n",
       "4  shopping_net    True       6862.0  Нижний Новгород  56.324209  44.005395   \n",
       "\n",
       "      trans_ip  device_id  account  is_fraud  is_suspicious    status  \\\n",
       "0  2.60.20.218     9613.0      NaN     False          False  approved   \n",
       "1  2.60.13.206     6350.0      NaN     False          False  approved   \n",
       "2   2.60.12.44     5588.0      NaN     False          False  approved   \n",
       "3  2.60.13.241     6419.0      NaN     False          False  approved   \n",
       "4   2.60.4.161     2105.0      NaN     False          False  approved   \n",
       "\n",
       "             rule  \n",
       "0  not applicable  \n",
       "1  not applicable  \n",
       "2  not applicable  \n",
       "3  not applicable  \n",
       "4  not applicable  "
      ]
     },
     "execution_count": 181,
     "metadata": {},
     "output_type": "execute_result"
    }
   ],
   "source": [
    "# Итоговый датафрейм с легальными транзакциями. Уже отсортирован по времени\n",
    "\n",
    "multi_leg_txn_demo.head(5)"
   ]
  },
  {
   "cell_type": "code",
   "execution_count": 177,
   "id": "1e39b3db-0c43-491a-96b3-20f3a0276641",
   "metadata": {},
   "outputs": [
    {
     "data": {
      "text/plain": [
       "(5045, 19)"
      ]
     },
     "execution_count": 177,
     "metadata": {},
     "output_type": "execute_result"
    }
   ],
   "source": [
    "# Сколько транзакций сгенерировалось\n",
    "multi_leg_txn_demo.shape"
   ]
  },
  {
   "cell_type": "markdown",
   "id": "d5b31f0d-a1b7-4663-a9cc-7a21cbf0fcc8",
   "metadata": {},
   "source": [
    "<br><br>"
   ]
  },
  {
   "cell_type": "markdown",
   "id": "0b3c1761-8644-487c-b50c-38ba8ad43db9",
   "metadata": {},
   "source": [
    "-------------------------------------------------"
   ]
  },
  {
   "cell_type": "markdown",
   "id": "3846e962-3d8e-4d2e-b6df-8cf50c35476a",
   "metadata": {},
   "source": [
    "# **Оркестрация генерации легальных транзакций**"
   ]
  },
  {
   "cell_type": "markdown",
   "id": "31f20060-5489-4af4-91d8-9f4dec1a3754",
   "metadata": {},
   "source": [
    "# 1. Класс `LegitRunner`\n",
    "- модуль `data_generator.runner.legit`. **[Ссылка](https://github.com/iaroslav-dzh/fraud_txns_simulator/blob/main/data_generator/runner/legit.py)** на файл в Github \n",
    "- Оркестрация генерации легальных транзакций\n",
    "- Это финальный уровень для легальных транзакций. Метод `run()` этого класса вызывается в файле запуска генератора всех транзакций `run_generator.py`"
   ]
  },
  {
   "cell_type": "markdown",
   "id": "3978b99b-8b0e-454a-a4b7-e82970faf034",
   "metadata": {},
   "source": [
    "**Функции класса**\n",
    "1. Собирает все что нужно для генерации легальных транзакций воедино\n",
    "2. Запускает полную генерацию легальных транзакций  \n",
    "\n",
    "При создании объекта класса нужно просто передать загруженные конфиги из `yaml` файлов и путь к созданной директории текущего запуска генератора (создается функцией `make_dir_for_run` из модуля `data_generator.runner.utils`)"
   ]
  },
  {
   "cell_type": "code",
   "execution_count": null,
   "id": "f96542f8-1783-407e-b106-fe7dacd726ca",
   "metadata": {},
   "outputs": [],
   "source": [
    "class LegitRunner:\n",
    "    \"\"\"\n",
    "    Запуск генератора легальных транзакций.\n",
    "    ----------\n",
    "    Атрибуты:\n",
    "    ----------\n",
    "    cfg_builder: LegitConfigBuilder.\n",
    "    configs: LegitCfg. Конфиги и данные для генерации легальных транзакций.\n",
    "    txn_recorder: LegitTxnsRecorder. Запись легальных транзакций в файл.\n",
    "    text: str. Текст для вставки в спиннер.\n",
    "    \"\"\"\n",
    "    def __init__(self, base_cfg, legit_cfg, time_cfg, run_dir):\n",
    "        \"\"\"\n",
    "        base_cfg: dict. Конфиги из base.yaml\n",
    "        legit_cfg: dict. Конфиги из legit.yaml\n",
    "        time_cfg: dict. Конфиги из time.yaml\n",
    "        run_dir: str. Название директории для хранения сгенерированных\n",
    "                 данных текущей генерации.\n",
    "        \"\"\"\n",
    "        self.cfg_builder = LegitConfigBuilder(base_cfg=base_cfg, legit_cfg=legit_cfg, \\\n",
    "                                              time_cfg=time_cfg, run_dir=run_dir)\n",
    "        self.configs = self.cfg_builder.build_cfg()\n",
    "        self.txn_recorder = LegitTxnsRecorder(configs=self.configs)\n",
    "        self.text = \"Legit txns generation\"\n",
    "\n",
    "\n",
    "    @spinner_decorator\n",
    "    def run(self):\n",
    "        \"\"\"\n",
    "        Запуск генератора.\n",
    "        \"\"\"\n",
    "        configs = self.configs\n",
    "        txn_recorder = self.txn_recorder\n",
    "\n",
    "        gen_multiple_legit_txns(configs=configs, txn_recorder=txn_recorder)"
   ]
  }
 ],
 "metadata": {
  "kernelspec": {
   "display_name": "Python (poetry-env)",
   "language": "python",
   "name": "poetry-env"
  },
  "language_info": {
   "codemirror_mode": {
    "name": "ipython",
    "version": 3
   },
   "file_extension": ".py",
   "mimetype": "text/x-python",
   "name": "python",
   "nbconvert_exporter": "python",
   "pygments_lexer": "ipython3",
   "version": "3.13.2"
  }
 },
 "nbformat": 4,
 "nbformat_minor": 5
}
