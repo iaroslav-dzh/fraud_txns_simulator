{
 "cells": [
  {
   "cell_type": "markdown",
   "id": "7d2f9ac1-f258-44d8-9ef9-2a7d132584bb",
   "metadata": {},
   "source": [
    "# **Генерация транзакций в рамках compromised client фрода**  \n",
    "- **ноутбуки лучше просматривать** на Github pages, т.к. при просмотре прямо в репозитории могут быть проблемы с отображением, например, обрезка вывода с широкими датафреймами. **Если в адресной строке браузера есть** `iaroslav-dzh.github.io`, то вы уже на Github pages.  \n",
    "Ссылки:\n",
    "    -  **[Ссылка](https://iaroslav-dzh.github.io/fraud_txns_simulator/09_%D0%93%D0%B5%D0%BD%D0%B5%D1%80%D0%B0%D1%86%D0%B8%D1%8F_compromised_clients_%D1%84%D1%80%D0%BE%D0%B4%D0%B0.html)** на этот ноутбук\n",
    "    -  **[Ссылка](https://iaroslav-dzh.github.io/fraud_txns_simulator/)** на страницу со всеми ноутбуками  \n",
    "\n",
    "**Что подразумевается под compromised client фродом**\n",
    "- транзакции покупок клиентов, которые были скомпрометированы - условно говоря скомпрометированы их карты или аккаунты ДБО т.е. кто-то посторонний совершает онлайн или оффлайн покупки от лица клиентов\n",
    "- транзакции генерируются, чтобы попадать по логике под какое-либо антифрод правило в рамках compromised фрода, напр.: резкая смена гео, покупка с другого ip и  устройства и т.п.\n",
    "\n",
    "**Информация о ноутбуке**\n",
    "- в этом ноутбуке демонстрация **основных** функций и классов относящихся к генерации compromised client фрода\n",
    "- где-то будет просто объяснение основной логики функции/класса, где-то также демонстрация работы\n",
    "- в compromised фроде будут только покупки, переводов пока не будет\n",
    "- **в целом** то, что генерируется в рамках compromised фрода можно увидеть почти в конце ноутбука под заголовком **Функция генерации нескольких фрод транзакций `gen_multi_fraud_txns`**"
   ]
  },
  {
   "cell_type": "code",
   "execution_count": 1,
   "id": "c30e67d7-4a3c-4d29-9477-ab02b02e86fc",
   "metadata": {},
   "outputs": [],
   "source": [
    "import pandas as pd\n",
    "import numpy as np\n",
    "import os\n",
    "import pyarrow\n",
    "import yaml\n",
    "from data_generator.general_time import *\n",
    "from data_generator.utils import load_configs, build_transaction, create_txns_df"
   ]
  },
  {
   "cell_type": "code",
   "execution_count": 2,
   "id": "6c6c9867-8d32-4b4d-9923-2b2f5711bfc8",
   "metadata": {},
   "outputs": [],
   "source": [
    "np.set_printoptions(suppress=True)\n",
    "pd.set_option('display.max_columns', None)"
   ]
  },
  {
   "cell_type": "code",
   "execution_count": 3,
   "id": "71fc90ba-44d1-4bc6-b2a3-edda53a9123b",
   "metadata": {},
   "outputs": [
    {
     "data": {
      "text/plain": [
       "'C:\\\\Users\\\\iaros\\\\My_documents\\\\Education\\\\projects\\\\fraud_detection_01'"
      ]
     },
     "execution_count": 3,
     "metadata": {},
     "output_type": "execute_result"
    }
   ],
   "source": [
    "os.chdir(\"..\")\n",
    "os.getcwd()"
   ]
  },
  {
   "cell_type": "code",
   "execution_count": 4,
   "id": "6f14bf80-fa06-4e9b-9343-1c87e9ccf839",
   "metadata": {},
   "outputs": [],
   "source": [
    "# Базовые конфиги\n",
    "base_cfg = load_configs(\"./config/base.yaml\")\n",
    "# Настройки легальных транзакций\n",
    "legit_cfg = load_configs(\"./config/legit.yaml\")\n",
    "# Общие настройки фрода\n",
    "fraud_cfg = load_configs(\"./config/fraud.yaml\")\n",
    "# Настройки compromised client фрода\n",
    "compr_cfg = load_configs(\"./config/compr.yaml\")\n",
    "# Настройки времени\n",
    "time_cfg = load_configs(\"./config/time.yaml\") \n",
    "\n",
    "# Пути к файлам\n",
    "data_paths = base_cfg[\"data_paths\"]"
   ]
  },
  {
   "cell_type": "markdown",
   "id": "0f34d901-b42f-4721-a535-d4f483b5c388",
   "metadata": {},
   "source": [
    "<br><br>"
   ]
  },
  {
   "cell_type": "markdown",
   "id": "32364551-7295-42ac-8d33-7f41154063fd",
   "metadata": {},
   "source": [
    "# **Создание конфиг класса с конфигами и данными для генерации**"
   ]
  },
  {
   "cell_type": "markdown",
   "id": "6d5571dd-824b-4132-adfc-41b63e977202",
   "metadata": {},
   "source": [
    "<br>"
   ]
  },
  {
   "cell_type": "markdown",
   "id": "388d7f15-d8cc-47b7-878f-d495c41f61c3",
   "metadata": {},
   "source": [
    "------------------------------------------------------\n",
    "## 1. Конструктор конфиг класса `ComprConfigBuilder`\n",
    "- модуль `data_generator.fraud.compr.build.config`. **[Ссылка](https://github.com/iaroslav-dzh/fraud_txns_simulator/blob/main/data_generator/fraud/compr/build/config.py)**  на исходный код в Github  \n",
    "- создает объект `CompPurchFraudCfg` - содержащий конфиги и данные для генерации транзакций\n",
    "- Смысл такой же как у конфиг билдера для легальных транзакций:\n",
    "    - Принимает на вход словари с данными из конфиг файлов и путь к директории текущего запуска для создания объекта\n",
    "    - Метод `build_cfg()` создает объект конфиг класса compromised client fraud транзакций с данными и конфигами для генерации транзакций, например:\n",
    "        - датафреймами с данными: timestamp-ы для семплирования времени, данные выбранных клиентов, мерчанты, фрод ip адреса, фрод девайсы; путями к директориям для записи файлов"
   ]
  },
  {
   "cell_type": "markdown",
   "id": "5c26e5d1-6922-48d6-8aa2-5bebf81bc642",
   "metadata": {},
   "source": [
    "**Путь к директории для файлов текущего запуска генерации** возьмем из прошлого ноутбука с легальными транзакциями т.к. у генератора в целом каскадный процесс генерации и генерация идет поэтапно: легальные, compromised фрод, дропы распределители, дропы покупатели. И каждый этап в разной степени зависит от предыдущего. В текущем случае для compromised фрода обязательно наличие созданных ранее легальных транзакций и семпла клиентов взятого под создание тех легальных транз-ций, т.к. от легальных транзакций берется время для расчета времени фрод транзакции, а от клиентов берется семпл под compromised фрод."
   ]
  },
  {
   "cell_type": "code",
   "execution_count": 7,
   "id": "9d4303ac-643c-4cc8-922d-31bb66c92b2e",
   "metadata": {},
   "outputs": [],
   "source": [
    "run_dir = './data/generated/history/generation_run_2025-07-25_121029'"
   ]
  },
  {
   "cell_type": "code",
   "execution_count": 8,
   "id": "a96f7231-f00b-4639-ad1d-1d8cb04f5ab2",
   "metadata": {},
   "outputs": [],
   "source": [
    "# Создадим объект конфиг класса при помощи билдера. Будем использовать конфиг класс дальше\n",
    "from data_generator.fraud.compr.build.config import ComprConfigBuilder\n",
    "\n",
    "cfg_builder = ComprConfigBuilder(base_cfg=base_cfg, legit_cfg=legit_cfg, time_cfg=time_cfg, \\\n",
    "                                 fraud_cfg=fraud_cfg, compr_cfg=compr_cfg, run_dir=run_dir)\n",
    "configs = cfg_builder.build_cfg()"
   ]
  },
  {
   "cell_type": "code",
   "execution_count": 9,
   "id": "0ee5aef9-c993-4e48-bd8c-4c0db1427dae",
   "metadata": {},
   "outputs": [
    {
     "data": {
      "text/html": [
       "<div>\n",
       "<style scoped>\n",
       "    .dataframe tbody tr th:only-of-type {\n",
       "        vertical-align: middle;\n",
       "    }\n",
       "\n",
       "    .dataframe tbody tr th {\n",
       "        vertical-align: top;\n",
       "    }\n",
       "\n",
       "    .dataframe thead th {\n",
       "        text-align: right;\n",
       "    }\n",
       "</style>\n",
       "<table border=\"1\" class=\"dataframe\">\n",
       "  <thead>\n",
       "    <tr style=\"text-align: right;\">\n",
       "      <th></th>\n",
       "      <th>client_id</th>\n",
       "      <th>city_id</th>\n",
       "      <th>birth_date</th>\n",
       "      <th>sex</th>\n",
       "      <th>region</th>\n",
       "      <th>city</th>\n",
       "      <th>timezone</th>\n",
       "      <th>lat</th>\n",
       "      <th>lon</th>\n",
       "      <th>population</th>\n",
       "      <th>home_ip</th>\n",
       "    </tr>\n",
       "  </thead>\n",
       "  <tbody>\n",
       "    <tr>\n",
       "      <th>0</th>\n",
       "      <td>1114</td>\n",
       "      <td>59</td>\n",
       "      <td>2005-06-12</td>\n",
       "      <td>male</td>\n",
       "      <td>Краснодарский</td>\n",
       "      <td>Краснодар</td>\n",
       "      <td>UTC+3</td>\n",
       "      <td>45.040235</td>\n",
       "      <td>38.976080</td>\n",
       "      <td>744933</td>\n",
       "      <td>2.60.4.36</td>\n",
       "    </tr>\n",
       "    <tr>\n",
       "      <th>1</th>\n",
       "      <td>1125</td>\n",
       "      <td>9</td>\n",
       "      <td>1959-03-24</td>\n",
       "      <td>female</td>\n",
       "      <td>Кемеровская</td>\n",
       "      <td>Новокузнецк</td>\n",
       "      <td>UTC+7</td>\n",
       "      <td>53.794276</td>\n",
       "      <td>87.214405</td>\n",
       "      <td>547885</td>\n",
       "      <td>2.60.4.47</td>\n",
       "    </tr>\n",
       "  </tbody>\n",
       "</table>\n",
       "</div>"
      ],
      "text/plain": [
       "   client_id  city_id birth_date     sex         region         city timezone  \\\n",
       "0       1114       59 2005-06-12    male  Краснодарский    Краснодар    UTC+3   \n",
       "1       1125        9 1959-03-24  female    Кемеровская  Новокузнецк    UTC+7   \n",
       "\n",
       "         lat        lon  population    home_ip  \n",
       "0  45.040235  38.976080      744933  2.60.4.36  \n",
       "1  53.794276  87.214405      547885  2.60.4.47  "
      ]
     },
     "execution_count": 9,
     "metadata": {},
     "output_type": "execute_result"
    }
   ],
   "source": [
    "# Проверка и демонстрация конфиг класса. Клиенты семплированные под фрод\n",
    "configs.clients.head(2)"
   ]
  },
  {
   "cell_type": "code",
   "execution_count": 8,
   "id": "f21c8027-a4f2-4491-a3b5-16aecffdd234",
   "metadata": {},
   "outputs": [
    {
     "data": {
      "text/html": [
       "<div>\n",
       "<style scoped>\n",
       "    .dataframe tbody tr th:only-of-type {\n",
       "        vertical-align: middle;\n",
       "    }\n",
       "\n",
       "    .dataframe tbody tr th {\n",
       "        vertical-align: top;\n",
       "    }\n",
       "\n",
       "    .dataframe thead th {\n",
       "        text-align: right;\n",
       "    }\n",
       "</style>\n",
       "<table border=\"1\" class=\"dataframe\">\n",
       "  <thead>\n",
       "    <tr style=\"text-align: right;\">\n",
       "      <th></th>\n",
       "      <th>city</th>\n",
       "      <th>lat</th>\n",
       "      <th>lon</th>\n",
       "      <th>fraud_ip</th>\n",
       "    </tr>\n",
       "  </thead>\n",
       "  <tbody>\n",
       "    <tr>\n",
       "      <th>0</th>\n",
       "      <td>Москва</td>\n",
       "      <td>55.753879</td>\n",
       "      <td>37.620373</td>\n",
       "      <td>5.3.252.223</td>\n",
       "    </tr>\n",
       "    <tr>\n",
       "      <th>1</th>\n",
       "      <td>Санкт-Петербург</td>\n",
       "      <td>59.939125</td>\n",
       "      <td>30.315822</td>\n",
       "      <td>5.3.252.224</td>\n",
       "    </tr>\n",
       "  </tbody>\n",
       "</table>\n",
       "</div>"
      ],
      "text/plain": [
       "              city        lat        lon     fraud_ip\n",
       "0           Москва  55.753879  37.620373  5.3.252.223\n",
       "1  Санкт-Петербург  59.939125  30.315822  5.3.252.224"
      ]
     },
     "execution_count": 8,
     "metadata": {},
     "output_type": "execute_result"
    }
   ],
   "source": [
    "# Фрод ip адреса, которые будут использоваться для онлайн транзакций\n",
    "configs.fraud_ips.head(2)"
   ]
  },
  {
   "cell_type": "code",
   "execution_count": 9,
   "id": "763fcee6-f2f9-4551-a6e5-052ff1c6d578",
   "metadata": {},
   "outputs": [
    {
     "data": {
      "text/html": [
       "<div>\n",
       "<style scoped>\n",
       "    .dataframe tbody tr th:only-of-type {\n",
       "        vertical-align: middle;\n",
       "    }\n",
       "\n",
       "    .dataframe tbody tr th {\n",
       "        vertical-align: top;\n",
       "    }\n",
       "\n",
       "    .dataframe thead th {\n",
       "        text-align: right;\n",
       "    }\n",
       "</style>\n",
       "<table border=\"1\" class=\"dataframe\">\n",
       "  <thead>\n",
       "    <tr style=\"text-align: right;\">\n",
       "      <th></th>\n",
       "      <th>device_id</th>\n",
       "      <th>platform</th>\n",
       "    </tr>\n",
       "  </thead>\n",
       "  <tbody>\n",
       "    <tr>\n",
       "      <th>0</th>\n",
       "      <td>9670</td>\n",
       "      <td>Windows</td>\n",
       "    </tr>\n",
       "    <tr>\n",
       "      <th>1</th>\n",
       "      <td>9671</td>\n",
       "      <td>Windows</td>\n",
       "    </tr>\n",
       "  </tbody>\n",
       "</table>\n",
       "</div>"
      ],
      "text/plain": [
       "   device_id platform\n",
       "0       9670  Windows\n",
       "1       9671  Windows"
      ]
     },
     "execution_count": 9,
     "metadata": {},
     "output_type": "execute_result"
    }
   ],
   "source": [
    "# Фрод девайсы, которые будут использоваться для онлайн транзакций\n",
    "configs.fraud_devices.head(2)"
   ]
  },
  {
   "cell_type": "markdown",
   "id": "acf71cb2-1013-40b6-a00a-c4572bfd94d6",
   "metadata": {},
   "source": [
    "<br><br>"
   ]
  },
  {
   "cell_type": "markdown",
   "id": "ac12ce0e-4bba-4692-a19e-9b44b69c6ff0",
   "metadata": {},
   "source": [
    "----------------------------------\n",
    "# **Генерация времени**\n",
    "-----------------------------"
   ]
  },
  {
   "cell_type": "markdown",
   "id": "9445e106-c3e3-4ed6-b188-40d36583113d",
   "metadata": {},
   "source": [
    "<br>"
   ]
  },
  {
   "cell_type": "markdown",
   "id": "a69da40d-61a7-442a-b0e5-8b84a3eeda77",
   "metadata": {},
   "source": [
    "## 1. Функция генерации времени `generate_time_fast_geo_jump`\n",
    "- для фрод кейсов в рамках правил резкой смены гео клиентом: `fast_geo_change` и `fast_geo_change_online`\n",
    "- модуль `data_generator.fraud.compr.time`. **[Ссылка](https://github.com/iaroslav-dzh/fraud_txns_simulator/blob/main/data_generator/fraud/compr/time.py)** на исходный код в Github  "
   ]
  },
  {
   "cell_type": "markdown",
   "id": "b8e41a5f-3f76-447e-a29f-7c67be0f572e",
   "metadata": {},
   "source": [
    "**Условия**\n",
    "1. Подразумевается что у клиента не было фрода\n",
    "\n",
    "**Основная логика функции**  \n",
    "1. Принимает на вход:\n",
    "    - время последней легальной транзакций\n",
    "    - крачайшую дистанцию между координатами последней легальной транз-ции и координатами текущей транзакции. Подразумевается что координаты текущей транзакции генерируются до вызова это функции и также до вызова считается дистанция между координатами\n",
    "    - дистанцию между координатами последней легальной транзакции и текущей транзакции\n",
    "    - пороговое значение максимальной допустимой скорости перемещения клиента между совершением транзакций км/ч. Все что строго выше по скорости - фрод. Пороговое значение будет браться из конфига `compr.yaml`, вне функции.\n",
    "2. На основании дистанции между координатами и порога по скорости задается случайная скорость перемещения выше указанного порога, чтобы попасть под фрод.\n",
    "3. Дистанция делится на полученную скорость для получения разницы во времени между последней легальной и текущей фрод транзакциями\n",
    "4. Полученная разница прибавляется ко времени последней легальной транзакции. Это и будет временем фрод транзакции"
   ]
  },
  {
   "cell_type": "markdown",
   "id": "cd7752c7-0191-4afe-ac1f-9398714a2b1f",
   "metadata": {},
   "source": [
    "### **Демонстрация**"
   ]
  },
  {
   "cell_type": "code",
   "execution_count": 15,
   "id": "d453c2e7-cdc6-4582-9067-23314daacf6c",
   "metadata": {},
   "outputs": [],
   "source": [
    "from data_generator.fraud.compr.time import generate_time_fast_geo_jump"
   ]
  },
  {
   "cell_type": "markdown",
   "id": "c70c1842-6597-43f7-8e00-83b95fb4044a",
   "metadata": {},
   "source": [
    "Создадим датафрейм с дистанциями, колонками под время в минутах и под время последней легальной транзакции. Будем проходить в цикле через этот датафрейм и генерировать время каждый раз, чтобы была выборка из нескольких вариантов"
   ]
  },
  {
   "cell_type": "code",
   "execution_count": 13,
   "id": "492d91e8-c9ee-412a-b250-fe7bddcc63b1",
   "metadata": {},
   "outputs": [
    {
     "data": {
      "text/html": [
       "<div>\n",
       "<style scoped>\n",
       "    .dataframe tbody tr th:only-of-type {\n",
       "        vertical-align: middle;\n",
       "    }\n",
       "\n",
       "    .dataframe tbody tr th {\n",
       "        vertical-align: top;\n",
       "    }\n",
       "\n",
       "    .dataframe thead th {\n",
       "        text-align: right;\n",
       "    }\n",
       "</style>\n",
       "<table border=\"1\" class=\"dataframe\">\n",
       "  <thead>\n",
       "    <tr style=\"text-align: right;\">\n",
       "      <th></th>\n",
       "      <th>distance</th>\n",
       "      <th>minutes</th>\n",
       "      <th>last_unix</th>\n",
       "    </tr>\n",
       "  </thead>\n",
       "  <tbody>\n",
       "    <tr>\n",
       "      <th>0</th>\n",
       "      <td>800</td>\n",
       "      <td>0</td>\n",
       "      <td>1695201240</td>\n",
       "    </tr>\n",
       "    <tr>\n",
       "      <th>1</th>\n",
       "      <td>1200</td>\n",
       "      <td>0</td>\n",
       "      <td>1695201240</td>\n",
       "    </tr>\n",
       "    <tr>\n",
       "      <th>2</th>\n",
       "      <td>5000</td>\n",
       "      <td>0</td>\n",
       "      <td>1695201240</td>\n",
       "    </tr>\n",
       "    <tr>\n",
       "      <th>3</th>\n",
       "      <td>7500</td>\n",
       "      <td>0</td>\n",
       "      <td>1695201240</td>\n",
       "    </tr>\n",
       "  </tbody>\n",
       "</table>\n",
       "</div>"
      ],
      "text/plain": [
       "   distance  minutes   last_unix\n",
       "0       800        0  1695201240\n",
       "1      1200        0  1695201240\n",
       "2      5000        0  1695201240\n",
       "3      7500        0  1695201240"
      ]
     },
     "execution_count": 13,
     "metadata": {},
     "output_type": "execute_result"
    }
   ],
   "source": [
    "# 4 варианта дистанции между транзакциями в километрах\n",
    "distances = pd.DataFrame({\"distance\":[800, 1200, 5000, 7500]})\n",
    "distances[\"minutes\"] = 0\n",
    "\n",
    "# Время последней легальной транзакции на основании которого будет рассчитываться время для фрода\n",
    "last_time = pd.to_datetime(\"2023-09-20 09:14:00\", format=\"%Y-%m-%d %H:%M:%S\")\n",
    "last_unix = pd_timestamp_to_unix(last_time)\n",
    "distances[\"last_unix\"] = last_unix\n",
    "\n",
    "distances"
   ]
  },
  {
   "cell_type": "markdown",
   "id": "cb21b8bb-20d2-4887-8454-ded024a74396",
   "metadata": {},
   "source": [
    "Вызов функции в цикле и запись созданного времени"
   ]
  },
  {
   "cell_type": "code",
   "execution_count": 18,
   "id": "e7d0e582-3893-4996-9d96-51acad796800",
   "metadata": {},
   "outputs": [
    {
     "data": {
      "text/html": [
       "<div>\n",
       "<style scoped>\n",
       "    .dataframe tbody tr th:only-of-type {\n",
       "        vertical-align: middle;\n",
       "    }\n",
       "\n",
       "    .dataframe tbody tr th {\n",
       "        vertical-align: top;\n",
       "    }\n",
       "\n",
       "    .dataframe thead th {\n",
       "        text-align: right;\n",
       "    }\n",
       "</style>\n",
       "<table border=\"1\" class=\"dataframe\">\n",
       "  <thead>\n",
       "    <tr style=\"text-align: right;\">\n",
       "      <th></th>\n",
       "      <th>distance</th>\n",
       "      <th>time_diff</th>\n",
       "    </tr>\n",
       "  </thead>\n",
       "  <tbody>\n",
       "    <tr>\n",
       "      <th>0</th>\n",
       "      <td>800</td>\n",
       "      <td>20.0</td>\n",
       "    </tr>\n",
       "    <tr>\n",
       "      <th>1</th>\n",
       "      <td>1200</td>\n",
       "      <td>13.0</td>\n",
       "    </tr>\n",
       "    <tr>\n",
       "      <th>2</th>\n",
       "      <td>5000</td>\n",
       "      <td>53.0</td>\n",
       "    </tr>\n",
       "    <tr>\n",
       "      <th>3</th>\n",
       "      <td>7500</td>\n",
       "      <td>127.0</td>\n",
       "    </tr>\n",
       "  </tbody>\n",
       "</table>\n",
       "</div>"
      ],
      "text/plain": [
       "   distance  time_diff\n",
       "0       800       20.0\n",
       "1      1200       13.0\n",
       "2      5000       53.0\n",
       "3      7500      127.0"
      ]
     },
     "execution_count": 18,
     "metadata": {},
     "output_type": "execute_result"
    }
   ],
   "source": [
    "for row in distances.itertuples():\n",
    "    _, txn_unix = generate_time_fast_geo_jump(last_txn_unix=last_unix, geo_distance=row.distance, threshold=800)\n",
    "    distances.loc[row.Index, \"txn_unix\"] = txn_unix\n",
    "\n",
    "# Получившаяся разнциа в минутах\n",
    "distances[\"time_diff\"] = (distances[\"txn_unix\"] - distances[\"last_unix\"]) // 60\n",
    "\n",
    "# Можно увидеть заданную дистанцию и время за которое клиент \"переместился\"\n",
    "distances[[\"distance\", \"time_diff\"]]"
   ]
  },
  {
   "cell_type": "markdown",
   "id": "5b924f21-14c3-4dd3-94f6-fa7c441e810f",
   "metadata": {},
   "source": [
    "<br>"
   ]
  },
  {
   "cell_type": "markdown",
   "id": "e7516449-caf0-4395-bd94-8d1781cb0e4c",
   "metadata": {},
   "source": [
    "--------------------------------"
   ]
  },
  {
   "cell_type": "markdown",
   "id": "6874d92a-2b98-40d2-883b-0d8b2ba4d823",
   "metadata": {},
   "source": [
    "## 2. Функция генерации времени транзакции для симуляции участившихся транзакций `gen_time_for_frequent_trans`\n",
    "- для фрод кейсов когда транзакции клиента резко участились - серия из нескольких частых транзакций подряд - правило `trans_freq_increase`\n",
    "- модуль `data_generator.fraud.compr.time`. **[Ссылка](https://github.com/iaroslav-dzh/fraud_txns_simulator/blob/main/data_generator/fraud/compr/time.py)** на исходный код в Github  "
   ]
  },
  {
   "cell_type": "markdown",
   "id": "f63de9a1-7b1b-4108-9813-3a3e57f9eebf",
   "metadata": {},
   "source": [
    "**Условия**\n",
    "1. Подразумевается что время перввой фрод транзакции в серии участившихся транзакций создается функцией `derive_from_last_time` которая будет объеяснена дальше в ноутбуке, а эта функция создает время для всех последующих транзакций в серии, это как бы один фрод кейс все вместе.\n",
    "\n",
    "**Основная логика функции**  \n",
    "1. Берется время предыдущей транзакции\n",
    "2. Создается случайная разница времени, но в рамках заданных минимума и максимума, указанных в конфигах в `compr.yaml`\n",
    "3. Ко времени предыдущей транзакции прибавляется эта случайная разница"
   ]
  },
  {
   "cell_type": "markdown",
   "id": "f321db6b-358a-44fd-86d6-cd35abe3214f",
   "metadata": {},
   "source": [
    "### **Демонстрация**"
   ]
  },
  {
   "cell_type": "code",
   "execution_count": 19,
   "id": "c819578d-f41f-473e-b37a-11c5e28aead8",
   "metadata": {},
   "outputs": [],
   "source": [
    "from data_generator.fraud.compr.time import gen_time_for_frequent_trans"
   ]
  },
  {
   "cell_type": "markdown",
   "id": "6d1bc3ea-07f2-41fa-8eaf-bf705a9a6b76",
   "metadata": {},
   "source": [
    "**Тест `gen_time_for_frequent_trans` в цикле**"
   ]
  },
  {
   "cell_type": "code",
   "execution_count": 26,
   "id": "e35f978c-d623-47ec-8ea6-affd74376222",
   "metadata": {},
   "outputs": [],
   "source": [
    "transactions = create_txns_df(base_cfg[\"txns_df\"])"
   ]
  },
  {
   "cell_type": "code",
   "execution_count": 28,
   "id": "58525933-c73a-40b1-a197-4bcf2e4f6cb4",
   "metadata": {},
   "outputs": [
    {
     "data": {
      "text/html": [
       "<div>\n",
       "<style scoped>\n",
       "    .dataframe tbody tr th:only-of-type {\n",
       "        vertical-align: middle;\n",
       "    }\n",
       "\n",
       "    .dataframe tbody tr th {\n",
       "        vertical-align: top;\n",
       "    }\n",
       "\n",
       "    .dataframe thead th {\n",
       "        text-align: right;\n",
       "    }\n",
       "</style>\n",
       "<table border=\"1\" class=\"dataframe\">\n",
       "  <thead>\n",
       "    <tr style=\"text-align: right;\">\n",
       "      <th></th>\n",
       "      <th>txn_time</th>\n",
       "      <th>unix_time</th>\n",
       "      <th>is_fraud</th>\n",
       "    </tr>\n",
       "  </thead>\n",
       "  <tbody>\n",
       "    <tr>\n",
       "      <th>0</th>\n",
       "      <td>2023-09-20 09:14:00</td>\n",
       "      <td>1.695201e+09</td>\n",
       "      <td>False</td>\n",
       "    </tr>\n",
       "  </tbody>\n",
       "</table>\n",
       "</div>"
      ],
      "text/plain": [
       "             txn_time     unix_time is_fraud\n",
       "0 2023-09-20 09:14:00  1.695201e+09    False"
      ]
     },
     "execution_count": 28,
     "metadata": {},
     "output_type": "execute_result"
    }
   ],
   "source": [
    "# Датафрейм со временем одной условно легальной транзакции\n",
    "last_time = pd.to_datetime(\"2023-09-20 09:14:00\", format=\"%Y-%m-%d %H:%M:%S\")\n",
    "last_unix = pd_timestamp_to_unix(last_time)\n",
    "\n",
    "trans_test_freq_time = transactions.copy().loc[:, ['txn_time', 'unix_time', \"is_fraud\"]]\n",
    "trans_test_freq_time.loc[0, [\"txn_time\",\"unix_time\", \"is_fraud\"]] = last_time, last_unix, False\n",
    "trans_test_freq_time"
   ]
  },
  {
   "cell_type": "markdown",
   "id": "77c26a91-6c04-46bd-b84d-125d32d36552",
   "metadata": {},
   "source": [
    "В конфигах выставлена частота транзакций от 1 до 5 минут включительно"
   ]
  },
  {
   "cell_type": "code",
   "execution_count": 29,
   "id": "e30010b4-5099-44e6-99d8-79c5e9dec8f2",
   "metadata": {},
   "outputs": [
    {
     "name": "stdout",
     "output_type": "stream",
     "text": [
      "\n",
      "\n",
      " Mean freq:  2.6666666666666665  minutes\n",
      "\n",
      "\n"
     ]
    },
    {
     "data": {
      "text/html": [
       "<div>\n",
       "<style scoped>\n",
       "    .dataframe tbody tr th:only-of-type {\n",
       "        vertical-align: middle;\n",
       "    }\n",
       "\n",
       "    .dataframe tbody tr th {\n",
       "        vertical-align: top;\n",
       "    }\n",
       "\n",
       "    .dataframe thead th {\n",
       "        text-align: right;\n",
       "    }\n",
       "</style>\n",
       "<table border=\"1\" class=\"dataframe\">\n",
       "  <thead>\n",
       "    <tr style=\"text-align: right;\">\n",
       "      <th></th>\n",
       "      <th>txn_time</th>\n",
       "      <th>unix_time</th>\n",
       "      <th>is_fraud</th>\n",
       "      <th>time_diff</th>\n",
       "    </tr>\n",
       "  </thead>\n",
       "  <tbody>\n",
       "    <tr>\n",
       "      <th>0</th>\n",
       "      <td>2023-09-20 09:14:00</td>\n",
       "      <td>1.695201e+09</td>\n",
       "      <td>False</td>\n",
       "      <td>NaN</td>\n",
       "    </tr>\n",
       "    <tr>\n",
       "      <th>1</th>\n",
       "      <td>2023-09-20 09:17:00</td>\n",
       "      <td>1.695201e+09</td>\n",
       "      <td>True</td>\n",
       "      <td>3.0</td>\n",
       "    </tr>\n",
       "    <tr>\n",
       "      <th>2</th>\n",
       "      <td>2023-09-20 09:20:00</td>\n",
       "      <td>1.695202e+09</td>\n",
       "      <td>True</td>\n",
       "      <td>3.0</td>\n",
       "    </tr>\n",
       "    <tr>\n",
       "      <th>3</th>\n",
       "      <td>2023-09-20 09:21:00</td>\n",
       "      <td>1.695202e+09</td>\n",
       "      <td>True</td>\n",
       "      <td>1.0</td>\n",
       "    </tr>\n",
       "    <tr>\n",
       "      <th>4</th>\n",
       "      <td>2023-09-20 09:24:00</td>\n",
       "      <td>1.695202e+09</td>\n",
       "      <td>True</td>\n",
       "      <td>3.0</td>\n",
       "    </tr>\n",
       "    <tr>\n",
       "      <th>5</th>\n",
       "      <td>2023-09-20 09:26:00</td>\n",
       "      <td>1.695202e+09</td>\n",
       "      <td>True</td>\n",
       "      <td>2.0</td>\n",
       "    </tr>\n",
       "    <tr>\n",
       "      <th>6</th>\n",
       "      <td>2023-09-20 09:30:00</td>\n",
       "      <td>1.695202e+09</td>\n",
       "      <td>True</td>\n",
       "      <td>4.0</td>\n",
       "    </tr>\n",
       "  </tbody>\n",
       "</table>\n",
       "</div>"
      ],
      "text/plain": [
       "             txn_time     unix_time is_fraud  time_diff\n",
       "0 2023-09-20 09:14:00  1.695201e+09    False        NaN\n",
       "1 2023-09-20 09:17:00  1.695201e+09     True        3.0\n",
       "2 2023-09-20 09:20:00  1.695202e+09     True        3.0\n",
       "3 2023-09-20 09:21:00  1.695202e+09     True        1.0\n",
       "4 2023-09-20 09:24:00  1.695202e+09     True        3.0\n",
       "5 2023-09-20 09:26:00  1.695202e+09     True        2.0\n",
       "6 2023-09-20 09:30:00  1.695202e+09     True        4.0"
      ]
     },
     "execution_count": 29,
     "metadata": {},
     "output_type": "execute_result"
    }
   ],
   "source": [
    "\n",
    "freq_values = []\n",
    "\n",
    "for i in range(1,7):\n",
    "    txn_time, txn_unix, freq = gen_time_for_frequent_trans(last_txn_unix=last_unix, configs=configs, test=True)\n",
    "    freq_values.append(freq / 60)\n",
    "        \n",
    "    trans_test_freq_time.loc[i, \"txn_time\"] = txn_time\n",
    "    trans_test_freq_time.loc[i, \"unix_time\"] = txn_unix\n",
    "    trans_test_freq_time.loc[i, \"is_fraud\"] = True\n",
    "\n",
    "    last_time = txn_time\n",
    "    last_unix = txn_unix\n",
    "    # к последней легальной транзакции присоединяем сгенерированные частые транзакции\n",
    "    # trans_test_freq_time = pd.concat([trans_test_freq_time, trans_test_freq_time])\n",
    "\n",
    "# средняя частота фрод транзакций - всех, кроме первой фрод транзакции\n",
    "print(\"\\n\\n Mean freq: \",pd.Series(freq_values).mean(), \" minutes\\n\\n\")\n",
    "\n",
    "# разница во времени с предыдущей транзакцией, в минутах\n",
    "trans_test_freq_time[\"time_diff\"] = trans_test_freq_time.unix_time.sub(trans_test_freq_time.unix_time.shift(1)) / 60\n",
    "trans_test_freq_time"
   ]
  },
  {
   "cell_type": "markdown",
   "id": "a3b9f95d-e961-4457-9329-9eeb76747c43",
   "metadata": {},
   "source": [
    "<br>"
   ]
  },
  {
   "cell_type": "markdown",
   "id": "cf195bfe-ca99-4996-a311-ebfb80ea722e",
   "metadata": {},
   "source": [
    "------------------------\n",
    "## 3. Функция `derive_from_last_time`  \n",
    "- модуль `data_generator.fraud.time`. **[Ссылка](https://github.com/iaroslav-dzh/fraud_txns_simulator/blob/main/data_generator/fraud/time.py)**  на исходный код в Github  \n",
    "- генерация времени через прибавление ко времени последней транзакции:\n",
    "    - Либо на основании гео дистанции между транзакциями либо на основании заданного лага по времени.\n",
    "    - Для генерации по дистанции надо передать geo_distance. Для генерации по лагу, НЕ передавать geo_distance, ввести lag_interval\n",
    "- **Одна из целей использования функции** это генерация времени фрод транзакций антифрод правило которых не является одним из правил с резкой сменой гео, чтобы они не попадали под такие правила "
   ]
  },
  {
   "cell_type": "markdown",
   "id": "53278f4a-ca74-444a-b2e9-e516de558b3c",
   "metadata": {},
   "source": [
    "**Основная логика функции**  \n",
    "Use-case #1 - контроль времени, чтобы не попадать под антифрод правила резкой смены гео \n",
    "1. Берется время последней легальной транзакции и гео дистанция между этой транзакцией и текущей\n",
    "2. Берется порог скорости перемещения между совершением транзакций - из конфиг файла `compr.yaml`\n",
    "3. Считается разница во времени обеспечивающая допустимую скорость перемещение - значит непопадание под правило резкой смены гео\n",
    "4. Разница прибавляется ко времени последней легальной транзакции\n",
    "\n",
    "Use-case #2 - создание времени на основании переданного лага по времени\n",
    "1. Берется время последней легальной транзакции\n",
    "2. Берется переданный желаемый лаг по времени\n",
    "3. Лаг прибавляется ко времени последней транзакции\n",
    "4. В данном случае гео дистанция не передается\n",
    "\n",
    "Use-case #3 - создание времени на основании случайного лага по времени\n",
    "1. Берется время последней легальной транзакции\n",
    "2. random_lag=True\n",
    "3. Передаются мин. и макс. возможные значения лага\n",
    "4. Генерируется случайный лаг\n",
    "5. Лаг прибавляется ко времени последней транзакции\n",
    "6. В данном случае гео дистанция не передается"
   ]
  },
  {
   "cell_type": "markdown",
   "id": "542da55c-a7e8-4870-8f75-99509e0ca3ee",
   "metadata": {},
   "source": [
    "### **Демонстрация**"
   ]
  },
  {
   "cell_type": "code",
   "execution_count": 10,
   "id": "90ff19ef-ee77-4ec5-be57-efeaefd6d4e8",
   "metadata": {},
   "outputs": [],
   "source": [
    "from data_generator.fraud.time import derive_from_last_time"
   ]
  },
  {
   "cell_type": "markdown",
   "id": "763862ef-bdb4-44f3-9436-23152737bf77",
   "metadata": {},
   "source": [
    "**Расчет по гео**"
   ]
  },
  {
   "cell_type": "code",
   "execution_count": 11,
   "id": "f459ba82-ff2c-4033-be38-39c3f3617963",
   "metadata": {},
   "outputs": [],
   "source": [
    "# Unix время последней транзакции\n",
    "last_unix_deriv = pd_timestamp_to_unix(pd.to_datetime(\"2025-06-20 11:57:12\", format=\"%Y-%m-%d %H:%M:%S\"))"
   ]
  },
  {
   "cell_type": "code",
   "execution_count": 44,
   "id": "abd8bdab-0b18-44de-a2f0-6a4ff4aad7fc",
   "metadata": {},
   "outputs": [],
   "source": [
    "# Передаем дистанцию и порог скорости км/ч\n",
    "geo_distance = 1800\n",
    "\n",
    "_, derived_unix = derive_from_last_time(last_unix_deriv, geo_distance=geo_distance, threshold=800)"
   ]
  },
  {
   "cell_type": "code",
   "execution_count": 45,
   "id": "c828ba05-611c-40bb-8bf4-57eda4c1d0b4",
   "metadata": {},
   "outputs": [
    {
     "data": {
      "text/plain": [
       "Timedelta('0 days 05:31:17')"
      ]
     },
     "execution_count": 45,
     "metadata": {},
     "output_type": "execute_result"
    }
   ],
   "source": [
    "# Смотрим разницу во времени\n",
    "pd.to_timedelta((derived_unix - last_unix_deriv), unit=\"s\")"
   ]
  },
  {
   "cell_type": "code",
   "execution_count": 50,
   "id": "fcb3b749-37a1-446a-834e-7a18897cc101",
   "metadata": {},
   "outputs": [
    {
     "data": {
      "text/plain": [
       "326.0049303214771"
      ]
     },
     "execution_count": 50,
     "metadata": {},
     "output_type": "execute_result"
    }
   ],
   "source": [
    "# Скорость перемещения км/ч. Должна получится ниже или равна порогу в 800. Т.к. делим на секунды то делим также на 3600\n",
    "\n",
    "geo_distance / ((derived_unix - last_unix_deriv) / 3600)"
   ]
  },
  {
   "cell_type": "markdown",
   "id": "fd193257-6520-4d99-bf3d-c3967cc2d43b",
   "metadata": {},
   "source": [
    "<br>"
   ]
  },
  {
   "cell_type": "markdown",
   "id": "7478ddaf-4b83-4b77-a163-2d09d4f84bd6",
   "metadata": {},
   "source": [
    "-------------------------------------"
   ]
  },
  {
   "cell_type": "markdown",
   "id": "34eb1228-557e-4f2e-9173-1640217ac085",
   "metadata": {},
   "source": [
    "## 4. Функция `get_time_fraud_txn`\n",
    "- модуль `data_generator.fraud.compr.time`. **[Ссылка](https://github.com/iaroslav-dzh/fraud_txns_simulator/blob/main/data_generator/fraud/compr/time.py)** на исходный код в Github  \n",
    "- конечная функция генерации времени для compomised фрода, использует в себе другие функции времени"
   ]
  },
  {
   "cell_type": "markdown",
   "id": "550303eb-bedf-494f-81a0-98afa534b00f",
   "metadata": {},
   "source": [
    "**Основная логика функции**\n",
    "1. в зависимости от переданного антифрод правила выбирает функцию для генерации времени\n",
    "2. Для этого применяет показанные ранее функции\n",
    "    - `generate_time_fast_geo_jump`\n",
    "    - `gen_time_for_frequent_trans`\n",
    "    - `derive_from_last_time`  \n",
    "\n",
    "Есть также вариант простого семплирования времени в соотвествии с одним из распределений времени заложенном в конфигах: `Offline_24h_Fraud`, `Online_Fraud`, `Offline_Day_Fraud`. Сейчас такой вариант будет применен если переданное антифрод правило под которое должна попасть транзакция не входит ни в одно правило упомянутое в `if-elif блоке`. Но на данный момент таких правил нет."
   ]
  },
  {
   "cell_type": "markdown",
   "id": "754bb33f-a676-4455-826c-da1cc0726d18",
   "metadata": {},
   "source": [
    "<br><br>"
   ]
  },
  {
   "cell_type": "markdown",
   "id": "e82ce844-9d9c-4390-bed7-d852a5b55e41",
   "metadata": {},
   "source": [
    "-----------------------\n",
    "# **Генерация части данных транзакции, генерация суммы транзакции**\n",
    "--------------------"
   ]
  },
  {
   "cell_type": "markdown",
   "id": "597b60df-41f2-45d4-845c-90e274ab57e5",
   "metadata": {},
   "source": [
    "<br>"
   ]
  },
  {
   "cell_type": "markdown",
   "id": "ce779776-cb0b-437b-8f47-cb04122e0437",
   "metadata": {},
   "source": [
    "## 1. Класс `FraudTxnPartData` - генерация части данных транзакции\n",
    "- модуль `data_generator.fraud.compr.txndata`. **[Ссылка](https://github.com/iaroslav-dzh/fraud_txns_simulator/blob/main/data_generator/fraud/compr/txndata.py)** на исходный код в Github  \n",
    "-  генерирует: мерчант id, координаты, ip адрес, город, device id, канал, тип транзакции."
   ]
  },
  {
   "cell_type": "markdown",
   "id": "d2ea52df-4513-4f2a-88e2-b2027673ed09",
   "metadata": {},
   "source": [
    "**Основная логика класса**\n",
    "1. Отталкивается от антифрод правила под которое создается транзакция и онлайн статуса транзакции. Так, например, если транзакция оффлайн то для значений ip адреса, device id будут возвращены `\"not applicable\"`, `np.nan` соотвественно, а при онлайн транзакции ip адрес и device id. \n",
    "2. Основной метод - `get_data()`. Возвращает упомянутые ранее данные или то, что должно быть вместо них в транзакции. Включает в себя другие методы, которые вызываются в зависимости от правила:\n",
    "    - `another_city()` - имитация транзакции в городе отличном от города клиента. Для онлайн это: другой ip (и при этом другого города), другое устройство, координаты другого города. Для оффлайна: мерчант из другого города, координаты этого мерчанта.\n",
    "    - `new_device_and_ip()` - чисто онлайн метод. Получение device id отличного от id имеющихся у клиента и ip адреса отличного от клиента. Может вернуть при этом либо ip другого города либо ip города клиента, но отличный от ip клиента.\n",
    "    - `freq_trans()` - чисто онлайн метод. Сделан для правила `trans_freq_increase` - резкое учащение транз-ций. Использует внутри `new_device_and_ip()`, но только кэширует созданные данные в атрибут `last_txn` чтобы в следующих транзакциях внутри `get_data()` обращаться к кэшированным данным. Это для того, чтобы для одного фрод кейса `trans_freq_increase` не менялись данные о девайсе, ip и т.д.\n",
    "3. Для генерации данных **нуждается в переданных данных о текущем клиенте** в атрибут `client_info` в виде `namedtuple`. Подразумевается что при итерировании через клиентов при помощи `itertuples()` мы передаем `namedtuple` в этот атрибут"
   ]
  },
  {
   "cell_type": "markdown",
   "id": "f8ac0bf9-5463-4374-ba50-886e1ec8efa1",
   "metadata": {},
   "source": [
    "### **Демонстрация**"
   ]
  },
  {
   "cell_type": "code",
   "execution_count": 51,
   "id": "5019297b-2e19-4157-bf42-aaff75539323",
   "metadata": {},
   "outputs": [],
   "source": [
    "from data_generator.fraud.compr.txndata import FraudTxnPartData\n",
    "part_data = FraudTxnPartData(configs=configs)"
   ]
  },
  {
   "cell_type": "code",
   "execution_count": 53,
   "id": "504c61f4-b9f1-4079-bdf3-2d883e0f9930",
   "metadata": {},
   "outputs": [
    {
     "data": {
      "text/plain": [
       "Pandas(Index=1, client_id=418, city_id=28, birth_date=Timestamp('1991-10-07 00:00:00'), sex='male', region='Челябинская', city='Магнитогорск', timezone='UTC+5', lat=53.4071891, lon=58.9791432, population=408401, home_ip='2.60.1.142')"
      ]
     },
     "execution_count": 53,
     "metadata": {},
     "output_type": "execute_result"
    }
   ],
   "source": [
    "# Класс должен получить данные о клиенте в виде namedtuple\n",
    "for client_info in configs.clients.loc[[1]].itertuples():\n",
    "    part_data.client_info = client_info\n",
    "part_data.client_info"
   ]
  },
  {
   "cell_type": "code",
   "execution_count": 59,
   "id": "e4ca6d59-1c4d-40ed-b818-34f5be5bbfcc",
   "metadata": {},
   "outputs": [
    {
     "data": {
      "text/html": [
       "<div>\n",
       "<style scoped>\n",
       "    .dataframe tbody tr th:only-of-type {\n",
       "        vertical-align: middle;\n",
       "    }\n",
       "\n",
       "    .dataframe tbody tr th {\n",
       "        vertical-align: top;\n",
       "    }\n",
       "\n",
       "    .dataframe thead th {\n",
       "        text-align: right;\n",
       "    }\n",
       "</style>\n",
       "<table border=\"1\" class=\"dataframe\">\n",
       "  <thead>\n",
       "    <tr style=\"text-align: right;\">\n",
       "      <th></th>\n",
       "      <th>rule</th>\n",
       "      <th>weight</th>\n",
       "      <th>online</th>\n",
       "    </tr>\n",
       "  </thead>\n",
       "  <tbody>\n",
       "    <tr>\n",
       "      <th>0</th>\n",
       "      <td>fast_geo_change</td>\n",
       "      <td>0.12500</td>\n",
       "      <td>False</td>\n",
       "    </tr>\n",
       "    <tr>\n",
       "      <th>1</th>\n",
       "      <td>fast_geo_change_online</td>\n",
       "      <td>0.21875</td>\n",
       "      <td>True</td>\n",
       "    </tr>\n",
       "    <tr>\n",
       "      <th>2</th>\n",
       "      <td>new_ip_and_device_high_amount</td>\n",
       "      <td>0.25000</td>\n",
       "      <td>True</td>\n",
       "    </tr>\n",
       "    <tr>\n",
       "      <th>3</th>\n",
       "      <td>new_device_and_high_amount</td>\n",
       "      <td>0.18750</td>\n",
       "      <td>True</td>\n",
       "    </tr>\n",
       "    <tr>\n",
       "      <th>4</th>\n",
       "      <td>trans_freq_increase</td>\n",
       "      <td>0.21875</td>\n",
       "      <td>True</td>\n",
       "    </tr>\n",
       "  </tbody>\n",
       "</table>\n",
       "</div>"
      ],
      "text/plain": [
       "                            rule   weight  online\n",
       "0                fast_geo_change  0.12500   False\n",
       "1         fast_geo_change_online  0.21875    True\n",
       "2  new_ip_and_device_high_amount  0.25000    True\n",
       "3     new_device_and_high_amount  0.18750    True\n",
       "4            trans_freq_increase  0.21875    True"
      ]
     },
     "execution_count": 59,
     "metadata": {},
     "output_type": "execute_result"
    }
   ],
   "source": [
    "# Какие правила под compromised фрод есть\n",
    "configs.rules"
   ]
  },
  {
   "cell_type": "code",
   "execution_count": 65,
   "id": "4c481383-9927-4e29-8adb-da9095f4f330",
   "metadata": {},
   "outputs": [],
   "source": [
    "# Например возьмем правило быстрой смены гео. Транзакция оффлайн\n",
    "rule = \"fast_geo_change\"\n",
    "\n",
    "merchant_id, trans_lat, trans_lon, trans_ip, trans_city, device_id, channel, txn_type \\\n",
    "                            = part_data.get_data(rule=rule, online=False, category_name=\"gas_transport\", txn_num=1)"
   ]
  },
  {
   "cell_type": "code",
   "execution_count": 66,
   "id": "3f8c8ec4-e3b0-4faa-81a3-69f36e78d9d1",
   "metadata": {},
   "outputs": [
    {
     "name": "stdout",
     "output_type": "stream",
     "text": [
      "Город клиента: Магнитогорск\n",
      "Город транзакции: Липецк\n"
     ]
    }
   ],
   "source": [
    "# Город будет отличаться от города клиента. Также будут отличаться координаты, device_id\n",
    "client_city = part_data.client_info.city\n",
    "\n",
    "print(f\"\"\"Город клиента: {client_city}\n",
    "Город транзакции: {trans_city}\"\"\")"
   ]
  },
  {
   "cell_type": "code",
   "execution_count": 68,
   "id": "452644f1-27fe-4faa-aa6a-619b2545fa5f",
   "metadata": {},
   "outputs": [],
   "source": [
    "# Например возьмем правило транзакции с другого ip (при этом ip другого города) и другого девайса\n",
    "rule = \"new_ip_and_device_high_amount\"\n",
    "\n",
    "merchant_id, trans_lat, trans_lon, trans_ip, trans_city, device_id, channel, txn_type \\\n",
    "                            = part_data.get_data(rule=rule, online=True, category_name=\"shopping_net\", txn_num=1)"
   ]
  },
  {
   "cell_type": "code",
   "execution_count": 71,
   "id": "72a56a04-e032-4b6f-8ed3-289e784f7b10",
   "metadata": {},
   "outputs": [
    {
     "name": "stdout",
     "output_type": "stream",
     "text": [
      "Город клиента: Магнитогорск\n",
      "Город транзакции: Стерлитамак\n"
     ]
    }
   ],
   "source": [
    "# Город будет отличаться от города клиента. Также будут отличаться координаты, ip адрес, device_id\n",
    "\n",
    "print(f\"\"\"Город клиента: {client_city}\n",
    "Город транзакции: {trans_city}\"\"\")"
   ]
  },
  {
   "cell_type": "code",
   "execution_count": 74,
   "id": "b23deb5c-f08d-4d18-891d-c4d6154692e5",
   "metadata": {},
   "outputs": [
    {
     "data": {
      "text/html": [
       "<div>\n",
       "<style scoped>\n",
       "    .dataframe tbody tr th:only-of-type {\n",
       "        vertical-align: middle;\n",
       "    }\n",
       "\n",
       "    .dataframe tbody tr th {\n",
       "        vertical-align: top;\n",
       "    }\n",
       "\n",
       "    .dataframe thead th {\n",
       "        text-align: right;\n",
       "    }\n",
       "</style>\n",
       "<table border=\"1\" class=\"dataframe\">\n",
       "  <thead>\n",
       "    <tr style=\"text-align: right;\">\n",
       "      <th></th>\n",
       "      <th>client_id</th>\n",
       "      <th>platform</th>\n",
       "      <th>device_id</th>\n",
       "    </tr>\n",
       "  </thead>\n",
       "  <tbody>\n",
       "    <tr>\n",
       "      <th>397</th>\n",
       "      <td>418</td>\n",
       "      <td>iOS</td>\n",
       "      <td>703</td>\n",
       "    </tr>\n",
       "    <tr>\n",
       "      <th>5674</th>\n",
       "      <td>418</td>\n",
       "      <td>Windows</td>\n",
       "      <td>704</td>\n",
       "    </tr>\n",
       "  </tbody>\n",
       "</table>\n",
       "</div>"
      ],
      "text/plain": [
       "      client_id platform  device_id\n",
       "397         418      iOS        703\n",
       "5674        418  Windows        704"
      ]
     },
     "execution_count": 74,
     "metadata": {},
     "output_type": "execute_result"
    }
   ],
   "source": [
    "# Нужно подгрузить девайсы клиентов и взять девайс(ы) клиента\n",
    "clients_devices = pd.read_csv(data_paths[\"base\"][\"client_devices\"])\n",
    "client_id = part_data.client_info.client_id\n",
    "devices = clients_devices.loc[clients_devices.client_id == client_id]\n",
    "devices"
   ]
  },
  {
   "cell_type": "code",
   "execution_count": 75,
   "id": "efc32d59-71bd-4951-97a7-4934a5a45d82",
   "metadata": {},
   "outputs": [
    {
     "name": "stdout",
     "output_type": "stream",
     "text": [
      "Device id транзакции: 12780\n"
     ]
    }
   ],
   "source": [
    "# девайс транзакции\n",
    "\n",
    "print(f\"\"\"Device id транзакции: {device_id}\"\"\")"
   ]
  },
  {
   "cell_type": "markdown",
   "id": "1feea1f0-de11-4cde-b058-ffb04e10f5be",
   "metadata": {},
   "source": [
    "<br>"
   ]
  },
  {
   "cell_type": "markdown",
   "id": "c91e4265-0f11-48ef-9529-a27169b95d64",
   "metadata": {},
   "source": [
    "------------------------------------\n",
    "## 2. Класс `TransAmount`\n",
    "- модуль `data_generator.fraud.compr.txndata`. **[Ссылка](https://github.com/iaroslav-dzh/fraud_txns_simulator/blob/main/data_generator/fraud/compr/txndata.py)** на исходный код в Github  \n",
    "- генерация суммы транзакции для compromised client фрода.\n",
    "- демонстрации работы не будет, только объяснение"
   ]
  },
  {
   "cell_type": "markdown",
   "id": "fdcee96c-5dde-4235-93e1-df46dd445c58",
   "metadata": {
    "jp-MarkdownHeadingCollapsed": true
   },
   "source": [
    "**Основная логика класса**\n",
    "1. создает сумму по нормальному распределению с ограничениями\n",
    "2. Для всех правил кроме `trans_freq_increase` создает сумму на основе датафрейма из конфигов `configs.fraud_amounts`\n",
    "3. Для `trans_freq_increase` создает сумму на основе индивидуальных конфигов для этого правила берущихся из `configs.rules_cfg[\"freq_txn\"]`\n",
    "4. В обоих случаях случайно применяет целочисленное округление через функцию `amt_rounding` из модуля `data_generator.utils` - либо округляет либо оставляет сумму как есть. В свою очередь целочисленное округление включает случайное число округления: 1, 10, 100, 1000, но не больше самой суммы."
   ]
  },
  {
   "cell_type": "markdown",
   "id": "2d7d2390-b6e6-4554-8d15-5af055594dd1",
   "metadata": {},
   "source": [
    "<br>"
   ]
  },
  {
   "cell_type": "markdown",
   "id": "db9034ce-f54e-4df8-9b27-fff93947d477",
   "metadata": {},
   "source": [
    "-------------------------------------\n",
    "## 3. Функция генерации одной транзакции `gen_purchase_fraud_txn`\n",
    "- модуль `data_generator.fraud.compr.txns`. **[Ссылка](https://github.com/iaroslav-dzh/fraud_txns_simulator/blob/main/data_generator/fraud/compr/txns.py)** на исходный код в Github  \n",
    "- полное создание одной транзакции "
   ]
  },
  {
   "cell_type": "markdown",
   "id": "612a39be-f8f0-4cfd-b230-5768a608fef3",
   "metadata": {},
   "source": [
    "**Основная логика**\n",
    "1. На основе переданного правила, последней легальной транзакции клиента и других аргументов создает целую транзакцию\n",
    "2. Использует:\n",
    "    - `sample_category()` - функция случайного выбора категории покупки\n",
    "    - ранее упомянутый `FraudTxnPartData` - мерчант, гео, ip и др.\n",
    "    - ранее упомянутый `TransAmount` - сумма транзакции\n",
    "    - `calc_distance()` - функция расчета дистанции между текущей и последней легальной транзакцией\n",
    "    - ранее упомянутая `get_time_fraud_txn()` - генерация времени"
   ]
  },
  {
   "cell_type": "code",
   "execution_count": 78,
   "id": "44ac38b8-2424-4020-93d7-b9bdcdf70375",
   "metadata": {},
   "outputs": [],
   "source": [
    "def gen_purchase_fraud_txn(rule, client_trans_df, configs: ComprClientFraudCfg, \\\n",
    "                           part_data: FraudTxnPartData, fraud_amts: TransAmount, \\\n",
    "                           txn_num=0, lag=False):\n",
    "    \"\"\"\n",
    "    Генерация одной compromised client фрод транзакции для клиента.\n",
    "    ------------------------------------------------\n",
    "    rule - str.\n",
    "    client_trans_df - датафрейм с транзакциями клиента.\n",
    "    configs - ComprClientFraudCfg. Конфиги и данные для генерации фрод транзакций.\n",
    "    client_device_ids - pd.Series. id девайсов клиента.\n",
    "    part_data - FraudTxnPartData.\n",
    "    fraud_amts - TransAmount class.\n",
    "    txn_num - int. Какая по счету транзакция в данном фрод кейсе.\n",
    "    lag - bool. Нужен ли лаг по времени от последней легальной транзакции.\n",
    "          Используется для trans_freq_increase\n",
    "    -------------------------------------------------\n",
    "    Возвращает словарь с готовой транзакцией\n",
    "    \"\"\"\n",
    "    client_info = part_data.client_info\n",
    "    rules_cfg = configs.rules_cfg\n",
    "    \n",
    "    # Запись о последней транзакции клиента\n",
    "    last_txn = client_trans_df.loc[client_trans_df.unix_time == client_trans_df.unix_time.max()]\n",
    "    \n",
    "    # Записываем данные клиента в переменные\n",
    "    client_id = client_info.client_id\n",
    "\n",
    "    # Берем значение online флага для выбранного правила\n",
    "    online = configs.rules.loc[configs.rules.rule == rule, \"online\"].iat[0]\n",
    "    \n",
    "    # Семплирование категории. У категорий свой вес в разрезе вероятности быть фродом\n",
    "    category = sample_category(configs.categories, online=online, is_fraud=is_fraud)\n",
    "    \n",
    "    category_name = category[\"category\"].iat[0]\n",
    "    round_clock = category[\"round_clock\"].iat[0]\n",
    "    \n",
    "    # Генерация суммы транзакции. \n",
    "    # Пока что для всех правил кроме trans_freq_increase генерация через один и тот же метод\n",
    "    if rule == \"trans_freq_increase\":\n",
    "        amount = fraud_amts.freq_trans_amount()\n",
    "    else:\n",
    "        amount = fraud_amts.fraud_amount(category_name=category_name)\n",
    "    \n",
    "    partial_data = part_data.get_data(rule=rule, online=online, category_name=category_name, \\\n",
    "                                      txn_num=txn_num)\n",
    "    # Распаковка кортежа в переменные\n",
    "    merchant_id, trans_lat, trans_lon, trans_ip, trans_city, device_id, channel, txn_type = partial_data\n",
    "    \n",
    "    # Физическое расстояние между координатами последней транзакции и координатами текущей.\n",
    "    geo_distance = calc_distance(lat_01=last_txn.trans_lat.iat[0], lon_01=last_txn.trans_lon.iat[0], \\\n",
    "                                 lat_02=trans_lat, lon_02=trans_lon)\n",
    "    \n",
    "    txn_time, txn_unix = get_time_fraud_txn(trans_df=client_trans_df, configs=configs, online=online, \\\n",
    "                                            round_clock=round_clock, rule=rule, geo_distance=geo_distance, \\\n",
    "                                            lag=lag)\n",
    "    # Только для freq_trans статус может отличаться от declined и is_fraud быть False для части транз-ций\n",
    "    # При кол-ве до freq_min - approved и False. Условно, детект по этому правилу начинается\n",
    "    # с freq_min транз-ций\n",
    "    freq_min = rules_cfg[\"freq_txn\"][\"txn_num\"][\"min\"]\n",
    "    if rule == \"trans_freq_increase\" and (txn_num > 0 and txn_num < freq_min):\n",
    "        rule_to_txn = \"not applicable\"\n",
    "        status = \"approved\"\n",
    "        is_fraud = False\n",
    "\n",
    "    elif rule == \"trans_freq_increase\":\n",
    "        rule_to_txn = \"trans_freq_increase\"\n",
    "        status = \"declined\"\n",
    "        is_fraud = True\n",
    "\n",
    "    else:\n",
    "        rule_to_txn = rule\n",
    "        status = \"declined\"\n",
    "        is_fraud = True\n",
    "        \n",
    "    # Статичные значения для данной функции\n",
    "    is_suspicious = False\n",
    "    account = np.nan\n",
    "    \n",
    "    # Возвращаем словарь со всеми данными сгенерированной транзакции\n",
    "    return build_transaction(client_id=client_id, txn_time=txn_time, txn_unix=txn_unix, amount=amount, \\\n",
    "                             txn_type=txn_type,  channel=channel, category_name=category_name, online=online, \\\n",
    "                             merchant_id=merchant_id, trans_city=trans_city, trans_lat=trans_lat, \\\n",
    "                             trans_lon=trans_lon, trans_ip=trans_ip, device_id=device_id, account=account, \\\n",
    "                             is_fraud=is_fraud, is_suspicious=is_suspicious, status=status, rule=rule_to_txn)"
   ]
  },
  {
   "cell_type": "markdown",
   "id": "591b3dcf-7356-4c25-8521-39204f4332dc",
   "metadata": {},
   "source": [
    "### **Демонстрация**"
   ]
  },
  {
   "cell_type": "code",
   "execution_count": 28,
   "id": "d1c4448b-d12c-4cdb-acd6-55729b2beffc",
   "metadata": {},
   "outputs": [
    {
     "data": {
      "text/plain": [
       "Pandas(Index=1, client_id=1125, city_id=9, birth_date=Timestamp('1959-03-24 00:00:00'), sex='female', region='Кемеровская', city='Новокузнецк', timezone='UTC+7', lat=53.7942757, lon=87.2144046, population=547885, home_ip='2.60.4.47')"
      ]
     },
     "execution_count": 28,
     "metadata": {},
     "output_type": "execute_result"
    }
   ],
   "source": [
    "from data_generator.fraud.compr.txndata import FraudTxnPartData, TransAmount\n",
    "from data_generator.fraud.compr.txns import gen_purchase_fraud_txn\n",
    "from data_generator.utils import create_txns_df, calc_distance\n",
    "\n",
    "transactions = create_txns_df(base_cfg[\"txns_df\"])\n",
    "part_data = FraudTxnPartData(configs)\n",
    "txn_amt = TransAmount(configs)\n",
    "\n",
    "for client in configs.clients.loc[[1]].itertuples():\n",
    "    client_info = client\n",
    "client_id = client_info.client_id\n",
    "\n",
    "client_txns_df = configs.transactions.query(\"client_id == @client_id\")\n",
    "part_data.client_info = client_info\n",
    "client_info"
   ]
  },
  {
   "cell_type": "code",
   "execution_count": 29,
   "id": "e4e1b494-3ef7-4211-a94d-354bab8c84be",
   "metadata": {},
   "outputs": [
    {
     "data": {
      "text/html": [
       "<div>\n",
       "<style scoped>\n",
       "    .dataframe tbody tr th:only-of-type {\n",
       "        vertical-align: middle;\n",
       "    }\n",
       "\n",
       "    .dataframe tbody tr th {\n",
       "        vertical-align: top;\n",
       "    }\n",
       "\n",
       "    .dataframe thead th {\n",
       "        text-align: right;\n",
       "    }\n",
       "</style>\n",
       "<table border=\"1\" class=\"dataframe\">\n",
       "  <thead>\n",
       "    <tr style=\"text-align: right;\">\n",
       "      <th></th>\n",
       "      <th>rule</th>\n",
       "      <th>weight</th>\n",
       "      <th>online</th>\n",
       "    </tr>\n",
       "  </thead>\n",
       "  <tbody>\n",
       "    <tr>\n",
       "      <th>0</th>\n",
       "      <td>fast_geo_change</td>\n",
       "      <td>0.12500</td>\n",
       "      <td>False</td>\n",
       "    </tr>\n",
       "    <tr>\n",
       "      <th>1</th>\n",
       "      <td>fast_geo_change_online</td>\n",
       "      <td>0.21875</td>\n",
       "      <td>True</td>\n",
       "    </tr>\n",
       "    <tr>\n",
       "      <th>2</th>\n",
       "      <td>new_ip_and_device_high_amount</td>\n",
       "      <td>0.25000</td>\n",
       "      <td>True</td>\n",
       "    </tr>\n",
       "    <tr>\n",
       "      <th>3</th>\n",
       "      <td>new_device_and_high_amount</td>\n",
       "      <td>0.18750</td>\n",
       "      <td>True</td>\n",
       "    </tr>\n",
       "    <tr>\n",
       "      <th>4</th>\n",
       "      <td>trans_freq_increase</td>\n",
       "      <td>0.21875</td>\n",
       "      <td>True</td>\n",
       "    </tr>\n",
       "  </tbody>\n",
       "</table>\n",
       "</div>"
      ],
      "text/plain": [
       "                            rule   weight  online\n",
       "0                fast_geo_change  0.12500   False\n",
       "1         fast_geo_change_online  0.21875    True\n",
       "2  new_ip_and_device_high_amount  0.25000    True\n",
       "3     new_device_and_high_amount  0.18750    True\n",
       "4            trans_freq_increase  0.21875    True"
      ]
     },
     "execution_count": 29,
     "metadata": {},
     "output_type": "execute_result"
    }
   ],
   "source": [
    "configs.rules"
   ]
  },
  {
   "cell_type": "markdown",
   "id": "4b7962e8-70cc-478f-ad45-a45fb54c4570",
   "metadata": {},
   "source": [
    "В примере возьмем не просто последнюю транзакцию клиента, а последнюю онлайн. Конечно при генерации будет учитываться именно последняя транзакция любого типа, но тут возьмем, чтобы увидеть в т.ч. разные ip адреса и device id"
   ]
  },
  {
   "cell_type": "code",
   "execution_count": 30,
   "id": "050064b4-2be7-4407-bb47-b4461d235133",
   "metadata": {},
   "outputs": [
    {
     "data": {
      "text/html": [
       "<div>\n",
       "<style scoped>\n",
       "    .dataframe tbody tr th:only-of-type {\n",
       "        vertical-align: middle;\n",
       "    }\n",
       "\n",
       "    .dataframe tbody tr th {\n",
       "        vertical-align: top;\n",
       "    }\n",
       "\n",
       "    .dataframe thead th {\n",
       "        text-align: right;\n",
       "    }\n",
       "</style>\n",
       "<table border=\"1\" class=\"dataframe\">\n",
       "  <thead>\n",
       "    <tr style=\"text-align: right;\">\n",
       "      <th></th>\n",
       "      <th>client_id</th>\n",
       "      <th>txn_time</th>\n",
       "      <th>unix_time</th>\n",
       "      <th>amount</th>\n",
       "      <th>type</th>\n",
       "      <th>channel</th>\n",
       "      <th>category</th>\n",
       "      <th>online</th>\n",
       "      <th>merchant_id</th>\n",
       "      <th>trans_city</th>\n",
       "      <th>trans_lat</th>\n",
       "      <th>trans_lon</th>\n",
       "      <th>trans_ip</th>\n",
       "      <th>device_id</th>\n",
       "      <th>account</th>\n",
       "      <th>is_fraud</th>\n",
       "      <th>is_suspicious</th>\n",
       "      <th>status</th>\n",
       "      <th>rule</th>\n",
       "    </tr>\n",
       "  </thead>\n",
       "  <tbody>\n",
       "    <tr>\n",
       "      <th>0</th>\n",
       "      <td>1125</td>\n",
       "      <td>2025-01-12 10:16:00</td>\n",
       "      <td>1736676960</td>\n",
       "      <td>1.0</td>\n",
       "      <td>purchase</td>\n",
       "      <td>ecom</td>\n",
       "      <td>misc_net</td>\n",
       "      <td>True</td>\n",
       "      <td>6930.0</td>\n",
       "      <td>Новокузнецк</td>\n",
       "      <td>53.794276</td>\n",
       "      <td>87.214405</td>\n",
       "      <td>2.60.4.47</td>\n",
       "      <td>1961.0</td>\n",
       "      <td>NaN</td>\n",
       "      <td>False</td>\n",
       "      <td>False</td>\n",
       "      <td>approved</td>\n",
       "      <td>not applicable</td>\n",
       "    </tr>\n",
       "    <tr>\n",
       "      <th>1</th>\n",
       "      <td>1125</td>\n",
       "      <td>2025-01-12 11:50:52</td>\n",
       "      <td>1736682652</td>\n",
       "      <td>5840.0</td>\n",
       "      <td>purchase</td>\n",
       "      <td>ecom</td>\n",
       "      <td>misc_net</td>\n",
       "      <td>True</td>\n",
       "      <td>6959.0</td>\n",
       "      <td>Уфа</td>\n",
       "      <td>54.734853</td>\n",
       "      <td>55.957865</td>\n",
       "      <td>5.8.14.16</td>\n",
       "      <td>14984.0</td>\n",
       "      <td>NaN</td>\n",
       "      <td>True</td>\n",
       "      <td>False</td>\n",
       "      <td>declined</td>\n",
       "      <td>fast_geo_change_online</td>\n",
       "    </tr>\n",
       "  </tbody>\n",
       "</table>\n",
       "</div>"
      ],
      "text/plain": [
       "   client_id            txn_time   unix_time  amount      type channel  \\\n",
       "0       1125 2025-01-12 10:16:00  1736676960     1.0  purchase    ecom   \n",
       "1       1125 2025-01-12 11:50:52  1736682652  5840.0  purchase    ecom   \n",
       "\n",
       "   category  online  merchant_id   trans_city  trans_lat  trans_lon  \\\n",
       "0  misc_net    True       6930.0  Новокузнецк  53.794276  87.214405   \n",
       "1  misc_net    True       6959.0          Уфа  54.734853  55.957865   \n",
       "\n",
       "    trans_ip  device_id  account  is_fraud  is_suspicious    status  \\\n",
       "0  2.60.4.47     1961.0      NaN     False          False  approved   \n",
       "1  5.8.14.16    14984.0      NaN      True          False  declined   \n",
       "\n",
       "                     rule  \n",
       "0          not applicable  \n",
       "1  fast_geo_change_online  "
      ]
     },
     "execution_count": 30,
     "metadata": {},
     "output_type": "execute_result"
    }
   ],
   "source": [
    "# Возьмем последнюю легальную ОНЛАЙН транзакцию клиента. Этого достаточно\n",
    "client_one_txn =  client_txns_df.query(\"online == True\").loc[[client_txns_df.query(\"online == True\").unix_time.idxmax()]]\n",
    "\n",
    "# Генерация одной фрод транзакции под антифрод правило быстрой смены гео при онлайн транзакции\n",
    "fraud_one_test = gen_purchase_fraud_txn(rule=\"fast_geo_change_online\", client_trans_df=client_one_txn, \\\n",
    "                                        configs=configs, part_data=part_data, fraud_amts=txn_amt,\n",
    "                                        txn_num=1, lag=False)\n",
    "\n",
    "fraud_all_txns = pd.concat([client_one_txn, pd.DataFrame([fraud_one_test])]).reset_index(drop=True)\n",
    "fraud_all_txns"
   ]
  },
  {
   "cell_type": "markdown",
   "id": "6e952aa0-f4ed-4cda-9ea7-b890b7d31e34",
   "metadata": {},
   "source": [
    "**Выше обратите внимание** на разные города, ip адреса и device id. Также на status и rule транзакции"
   ]
  },
  {
   "cell_type": "markdown",
   "id": "37c832fd-6572-4a86-852d-9f41c872165a",
   "metadata": {},
   "source": [
    "----------------\n",
    "Расчет разницы во времени между последней легальной транз. и фрод транз."
   ]
  },
  {
   "cell_type": "code",
   "execution_count": 31,
   "id": "f006360d-6fc9-446a-8a5e-97792b1be846",
   "metadata": {},
   "outputs": [
    {
     "data": {
      "text/plain": [
       "0               NaT\n",
       "1   0 days 01:34:52\n",
       "Name: unix_time, dtype: timedelta64[ns]"
      ]
     },
     "execution_count": 31,
     "metadata": {},
     "output_type": "execute_result"
    }
   ],
   "source": [
    "# Расчет разницы во времени между последней легальной транз. и фрод транз.\n",
    "pd.to_timedelta(fraud_all_txns.unix_time.sub(fraud_all_txns.unix_time.shift(1)).abs(), unit=\"s\")"
   ]
  },
  {
   "cell_type": "markdown",
   "id": "89621ea1-3c08-4132-8e1f-629d83ef834e",
   "metadata": {},
   "source": [
    "Расчет расстояния между координатами транзакций. Будет видно, что для разницы во времени дистанция довольно большая"
   ]
  },
  {
   "cell_type": "code",
   "execution_count": 32,
   "id": "c56fb3e9-9fa0-4542-8f4a-a41412c81194",
   "metadata": {},
   "outputs": [],
   "source": [
    "lat_prev = fraud_all_txns.loc[0, \"trans_lat\"]\n",
    "lon_prev = fraud_all_txns.loc[0, \"trans_lon\"]\n",
    "lat_now = fraud_all_txns.loc[1, \"trans_lat\"]\n",
    "lon_now = fraud_all_txns.loc[1, \"trans_lon\"]"
   ]
  },
  {
   "cell_type": "code",
   "execution_count": 33,
   "id": "ac1496e6-6652-41ee-807f-7ac5b05c062d",
   "metadata": {},
   "outputs": [
    {
     "data": {
      "text/plain": [
       "2022.44"
      ]
     },
     "execution_count": 33,
     "metadata": {},
     "output_type": "execute_result"
    }
   ],
   "source": [
    "calc_distance(lat_01=lat_prev, lon_01=lon_prev, lat_02=lat_now, lon_02=lon_now)"
   ]
  },
  {
   "cell_type": "markdown",
   "id": "689b893e-8951-4c81-b090-7fe45b58130a",
   "metadata": {},
   "source": [
    "<br>"
   ]
  },
  {
   "cell_type": "markdown",
   "id": "cadf55f4-097d-456b-986f-a958313f3b0e",
   "metadata": {},
   "source": [
    "-------------------\n",
    "## 4. Функция обертка `trans_freq_wrapper` для функции `gen_purchase_fraud_txn`\n",
    "- модуль `data_generator.fraud.compr.txns`. **[Ссылка](https://github.com/iaroslav-dzh/fraud_txns_simulator/blob/main/data_generator/fraud/compr/txns.py)** на исходный код в Github  \n",
    "-  обертка нужна под правило `trans_freq_increase`\n",
    "- т.к. правило `trans_freq_increase` подразумевает фрод кейс с несколькими транзакциями, то `gen_purchase_fraud_txn` должна быть вызвана несколько раз. Эта функция обеспечивает это и контроль логики для фрод кейса под это правило. Это единственное правило из compromised clients правил где создается больше одной транзакции"
   ]
  },
  {
   "cell_type": "markdown",
   "id": "e6ec3942-37c8-4eb9-af8e-a41f06fed2b9",
   "metadata": {},
   "source": [
    "**Основная логика функции**\n",
    "1. Задача функции вызвать `gen_purchase_fraud_txn` указанное число раз и записать это все во временный датафрейм и вернуть его как результат\n",
    "2. Также задача выставить значение аргумента `lag` для `gen_purchase_fraud_txn` в зависимости от того первая это транзакция в серии или не первая. `lag` значит нужен ли лаг по времени от предыдущей транзакции, подразумевается что он нужен для первой фрод транзакции, чтобы была достаточная временная разница с последней легальной транзакцией, чтобы не попадать под правило резкой смены гео."
   ]
  },
  {
   "cell_type": "markdown",
   "id": "f2028d99-9a8e-4084-80f5-7e30142e79cc",
   "metadata": {},
   "source": [
    "### **Демонстрация**"
   ]
  },
  {
   "cell_type": "code",
   "execution_count": 99,
   "id": "18ca384b-3a75-4ced-b9d6-d67f6e1264fe",
   "metadata": {},
   "outputs": [
    {
     "data": {
      "text/plain": [
       "Pandas(Index=1, client_id=1971, city_id=3, birth_date=Timestamp('1994-03-08 00:00:00'), sex='female', region='Удмуртская', city='Ижевск', timezone='UTC+4', lat=56.8527444, lon=53.2113961, population=628117, home_ip='2.60.7.69')"
      ]
     },
     "execution_count": 99,
     "metadata": {},
     "output_type": "execute_result"
    }
   ],
   "source": [
    "from data_generator.fraud.compr.txns import trans_freq_wrapper\n",
    "\n",
    "transactions = create_txns_df(base_cfg[\"txns_df\"])\n",
    "\n",
    "part_data = FraudTxnPartData(configs)\n",
    "txn_amt = TransAmount(configs)\n",
    "\n",
    "for client in configs.clients.loc[[1]].itertuples():\n",
    "    client_info = client\n",
    "client_id = client_info.client_id\n",
    "\n",
    "client_txns_df = configs.transactions.query(\"client_id == @client_id\")\n",
    "part_data.client_info = client_info\n",
    "client_info"
   ]
  },
  {
   "cell_type": "code",
   "execution_count": 102,
   "id": "20be739c-496f-460c-88e6-70dfb58681f2",
   "metadata": {},
   "outputs": [],
   "source": [
    "# Датафрейм с последней легальной транзакцией клиента\n",
    "client_txns_copy = client_txns_df.loc[[client_txns_df.unix_time.idxmax()]].copy()\n",
    "\n",
    "# txns_total - сколько транзакций будет в серии\n",
    "fraud_only = trans_freq_wrapper(client_txns_temp=client_txns_copy, txns_total=6, configs=configs, \\\n",
    "                                part_data=part_data, fraud_amts=txn_amt)\n",
    "\n",
    "client_trans_copy = pd.concat([client_txns_copy, fraud_only], ignore_index=True)"
   ]
  },
  {
   "cell_type": "markdown",
   "id": "617c164a-90a0-4d58-b3cc-f3f2b1dc22db",
   "metadata": {},
   "source": [
    "**Результат**   \n",
    "- первая в списке транзакция это легальная транзакция клиента, остальное все фрод в рамках правила `trans_freq_increase`\n",
    "- обратите внимание что условный фрод детект происходит не сразу, и транзакция помечается как фрод, только на 4-й раз. Этот порог задается в конфиге `compr.yaml`. Т.е. как-будто бы 3 частых транзакции еще нормально, но 4 и более - фрод."
   ]
  },
  {
   "cell_type": "code",
   "execution_count": 4,
   "id": "f703ee09-902d-4104-be4d-1f8c4601c969",
   "metadata": {},
   "outputs": [
    {
     "data": {
      "text/html": [
       "<div>\n",
       "<style scoped>\n",
       "    .dataframe tbody tr th:only-of-type {\n",
       "        vertical-align: middle;\n",
       "    }\n",
       "\n",
       "    .dataframe tbody tr th {\n",
       "        vertical-align: top;\n",
       "    }\n",
       "\n",
       "    .dataframe thead th {\n",
       "        text-align: right;\n",
       "    }\n",
       "</style>\n",
       "<table border=\"1\" class=\"dataframe\">\n",
       "  <thead>\n",
       "    <tr style=\"text-align: right;\">\n",
       "      <th></th>\n",
       "      <th>client_id</th>\n",
       "      <th>txn_time</th>\n",
       "      <th>unix_time</th>\n",
       "      <th>amount</th>\n",
       "      <th>type</th>\n",
       "      <th>channel</th>\n",
       "      <th>category</th>\n",
       "      <th>online</th>\n",
       "      <th>merchant_id</th>\n",
       "      <th>trans_city</th>\n",
       "      <th>trans_lat</th>\n",
       "      <th>trans_lon</th>\n",
       "      <th>trans_ip</th>\n",
       "      <th>device_id</th>\n",
       "      <th>account</th>\n",
       "      <th>is_fraud</th>\n",
       "      <th>is_suspicious</th>\n",
       "      <th>status</th>\n",
       "      <th>rule</th>\n",
       "    </tr>\n",
       "  </thead>\n",
       "  <tbody>\n",
       "    <tr>\n",
       "      <th>0</th>\n",
       "      <td>445</td>\n",
       "      <td>2025-01-30 12:41:39</td>\n",
       "      <td>1738240899</td>\n",
       "      <td>3000.00</td>\n",
       "      <td>purchase</td>\n",
       "      <td>ecom</td>\n",
       "      <td>misc_net</td>\n",
       "      <td>True</td>\n",
       "      <td>6960.0</td>\n",
       "      <td>Москва</td>\n",
       "      <td>55.753879</td>\n",
       "      <td>37.620373</td>\n",
       "      <td>2.60.1.169</td>\n",
       "      <td>782.0</td>\n",
       "      <td>NaN</td>\n",
       "      <td>False</td>\n",
       "      <td>False</td>\n",
       "      <td>approved</td>\n",
       "      <td>not applicable</td>\n",
       "    </tr>\n",
       "    <tr>\n",
       "      <th>1</th>\n",
       "      <td>445</td>\n",
       "      <td>2025-01-30 15:59:57</td>\n",
       "      <td>1738252797</td>\n",
       "      <td>3000.00</td>\n",
       "      <td>purchase</td>\n",
       "      <td>ecom</td>\n",
       "      <td>shopping_net</td>\n",
       "      <td>True</td>\n",
       "      <td>6947.0</td>\n",
       "      <td>Кострома</td>\n",
       "      <td>57.802945</td>\n",
       "      <td>40.990728</td>\n",
       "      <td>5.8.8.149</td>\n",
       "      <td>11218.0</td>\n",
       "      <td>NaN</td>\n",
       "      <td>True</td>\n",
       "      <td>False</td>\n",
       "      <td>approved</td>\n",
       "      <td>not applicable</td>\n",
       "    </tr>\n",
       "    <tr>\n",
       "      <th>2</th>\n",
       "      <td>445</td>\n",
       "      <td>2025-01-30 16:00:57</td>\n",
       "      <td>1738252857</td>\n",
       "      <td>4817.66</td>\n",
       "      <td>purchase</td>\n",
       "      <td>ecom</td>\n",
       "      <td>shopping_net</td>\n",
       "      <td>True</td>\n",
       "      <td>6947.0</td>\n",
       "      <td>Кострома</td>\n",
       "      <td>57.802945</td>\n",
       "      <td>40.990728</td>\n",
       "      <td>5.8.8.149</td>\n",
       "      <td>11218.0</td>\n",
       "      <td>NaN</td>\n",
       "      <td>True</td>\n",
       "      <td>False</td>\n",
       "      <td>approved</td>\n",
       "      <td>not applicable</td>\n",
       "    </tr>\n",
       "    <tr>\n",
       "      <th>3</th>\n",
       "      <td>445</td>\n",
       "      <td>2025-01-30 16:03:57</td>\n",
       "      <td>1738253037</td>\n",
       "      <td>2892.04</td>\n",
       "      <td>purchase</td>\n",
       "      <td>ecom</td>\n",
       "      <td>shopping_net</td>\n",
       "      <td>True</td>\n",
       "      <td>6947.0</td>\n",
       "      <td>Кострома</td>\n",
       "      <td>57.802945</td>\n",
       "      <td>40.990728</td>\n",
       "      <td>5.8.8.149</td>\n",
       "      <td>11218.0</td>\n",
       "      <td>NaN</td>\n",
       "      <td>True</td>\n",
       "      <td>False</td>\n",
       "      <td>approved</td>\n",
       "      <td>not applicable</td>\n",
       "    </tr>\n",
       "    <tr>\n",
       "      <th>4</th>\n",
       "      <td>445</td>\n",
       "      <td>2025-01-30 16:04:57</td>\n",
       "      <td>1738253097</td>\n",
       "      <td>5200.00</td>\n",
       "      <td>purchase</td>\n",
       "      <td>ecom</td>\n",
       "      <td>misc_net</td>\n",
       "      <td>True</td>\n",
       "      <td>6947.0</td>\n",
       "      <td>Кострома</td>\n",
       "      <td>57.802945</td>\n",
       "      <td>40.990728</td>\n",
       "      <td>5.8.8.149</td>\n",
       "      <td>11218.0</td>\n",
       "      <td>NaN</td>\n",
       "      <td>True</td>\n",
       "      <td>False</td>\n",
       "      <td>declined</td>\n",
       "      <td>trans_freq_increase</td>\n",
       "    </tr>\n",
       "    <tr>\n",
       "      <th>5</th>\n",
       "      <td>445</td>\n",
       "      <td>2025-01-30 16:07:57</td>\n",
       "      <td>1738253277</td>\n",
       "      <td>3670.88</td>\n",
       "      <td>purchase</td>\n",
       "      <td>ecom</td>\n",
       "      <td>misc_net</td>\n",
       "      <td>True</td>\n",
       "      <td>6947.0</td>\n",
       "      <td>Кострома</td>\n",
       "      <td>57.802945</td>\n",
       "      <td>40.990728</td>\n",
       "      <td>5.8.8.149</td>\n",
       "      <td>11218.0</td>\n",
       "      <td>NaN</td>\n",
       "      <td>True</td>\n",
       "      <td>False</td>\n",
       "      <td>declined</td>\n",
       "      <td>trans_freq_increase</td>\n",
       "    </tr>\n",
       "    <tr>\n",
       "      <th>6</th>\n",
       "      <td>445</td>\n",
       "      <td>2025-01-30 16:10:57</td>\n",
       "      <td>1738253457</td>\n",
       "      <td>4520.00</td>\n",
       "      <td>purchase</td>\n",
       "      <td>ecom</td>\n",
       "      <td>shopping_net</td>\n",
       "      <td>True</td>\n",
       "      <td>6947.0</td>\n",
       "      <td>Кострома</td>\n",
       "      <td>57.802945</td>\n",
       "      <td>40.990728</td>\n",
       "      <td>5.8.8.149</td>\n",
       "      <td>11218.0</td>\n",
       "      <td>NaN</td>\n",
       "      <td>True</td>\n",
       "      <td>False</td>\n",
       "      <td>declined</td>\n",
       "      <td>trans_freq_increase</td>\n",
       "    </tr>\n",
       "  </tbody>\n",
       "</table>\n",
       "</div>"
      ],
      "text/plain": [
       "   client_id            txn_time   unix_time   amount      type channel  \\\n",
       "0        445 2025-01-30 12:41:39  1738240899  3000.00  purchase    ecom   \n",
       "1        445 2025-01-30 15:59:57  1738252797  3000.00  purchase    ecom   \n",
       "2        445 2025-01-30 16:00:57  1738252857  4817.66  purchase    ecom   \n",
       "3        445 2025-01-30 16:03:57  1738253037  2892.04  purchase    ecom   \n",
       "4        445 2025-01-30 16:04:57  1738253097  5200.00  purchase    ecom   \n",
       "5        445 2025-01-30 16:07:57  1738253277  3670.88  purchase    ecom   \n",
       "6        445 2025-01-30 16:10:57  1738253457  4520.00  purchase    ecom   \n",
       "\n",
       "       category  online  merchant_id trans_city  trans_lat  trans_lon  \\\n",
       "0      misc_net    True       6960.0     Москва  55.753879  37.620373   \n",
       "1  shopping_net    True       6947.0   Кострома  57.802945  40.990728   \n",
       "2  shopping_net    True       6947.0   Кострома  57.802945  40.990728   \n",
       "3  shopping_net    True       6947.0   Кострома  57.802945  40.990728   \n",
       "4      misc_net    True       6947.0   Кострома  57.802945  40.990728   \n",
       "5      misc_net    True       6947.0   Кострома  57.802945  40.990728   \n",
       "6  shopping_net    True       6947.0   Кострома  57.802945  40.990728   \n",
       "\n",
       "     trans_ip  device_id  account  is_fraud  is_suspicious    status  \\\n",
       "0  2.60.1.169      782.0      NaN     False          False  approved   \n",
       "1   5.8.8.149    11218.0      NaN      True          False  approved   \n",
       "2   5.8.8.149    11218.0      NaN      True          False  approved   \n",
       "3   5.8.8.149    11218.0      NaN      True          False  approved   \n",
       "4   5.8.8.149    11218.0      NaN      True          False  declined   \n",
       "5   5.8.8.149    11218.0      NaN      True          False  declined   \n",
       "6   5.8.8.149    11218.0      NaN      True          False  declined   \n",
       "\n",
       "                  rule  \n",
       "0       not applicable  \n",
       "1       not applicable  \n",
       "2       not applicable  \n",
       "3       not applicable  \n",
       "4  trans_freq_increase  \n",
       "5  trans_freq_increase  \n",
       "6  trans_freq_increase  "
      ]
     },
     "execution_count": 4,
     "metadata": {},
     "output_type": "execute_result"
    }
   ],
   "source": [
    "client_txns_copy"
   ]
  },
  {
   "cell_type": "markdown",
   "id": "ae6eb1e5-9d9e-4779-bf71-b2c170e82b43",
   "metadata": {},
   "source": [
    "**Разница во времени с предыдущей транзакцией**  \n",
    "Можно заметить что сперва большая разница между первой фрод транзакцией и последней легальной(т.е. которая самая первая), а дальше идут разницы меньше 5 минут, так и задумано."
   ]
  },
  {
   "cell_type": "code",
   "execution_count": 103,
   "id": "f9298d00-444e-46d9-bf4a-ec980aa6b2e5",
   "metadata": {},
   "outputs": [
    {
     "data": {
      "text/plain": [
       "0               NaT\n",
       "1   0 days 02:44:32\n",
       "2   0 days 00:01:00\n",
       "3   0 days 00:03:00\n",
       "4   0 days 00:02:00\n",
       "5   0 days 00:02:00\n",
       "6   0 days 00:05:00\n",
       "Name: unix_time, dtype: timedelta64[ns]"
      ]
     },
     "execution_count": 103,
     "metadata": {},
     "output_type": "execute_result"
    }
   ],
   "source": [
    "pd.to_timedelta(client_trans_copy.unix_time.sub(client_trans_copy.unix_time.shift(1)).abs(), unit=\"s\")"
   ]
  },
  {
   "cell_type": "markdown",
   "id": "bb5c68fa-c71a-422a-8ef7-ad6e5679910e",
   "metadata": {},
   "source": [
    "**Проверим что** дистанция между координатами последней легальной и первой фрод транзакциями приемлема с точки зрения разницы времени"
   ]
  },
  {
   "cell_type": "code",
   "execution_count": 104,
   "id": "d9ee0394-a409-48f2-8750-7db7f82fcf35",
   "metadata": {},
   "outputs": [],
   "source": [
    "lat_prev = client_trans_copy.loc[0, \"trans_lat\"]\n",
    "lon_prev = client_trans_copy.loc[0, \"trans_lon\"]\n",
    "lat_now = client_trans_copy.loc[1, \"trans_lat\"]\n",
    "lon_now = client_trans_copy.loc[1, \"trans_lon\"]"
   ]
  },
  {
   "cell_type": "code",
   "execution_count": 105,
   "id": "467ee245-5c17-4553-b6d0-81ef254187b4",
   "metadata": {},
   "outputs": [
    {
     "data": {
      "text/plain": [
       "293.43"
      ]
     },
     "execution_count": 105,
     "metadata": {},
     "output_type": "execute_result"
    }
   ],
   "source": [
    "calc_distance(lat_01=lat_prev, lon_01=lon_prev, lat_02=lat_now, lon_02=lon_now)"
   ]
  },
  {
   "cell_type": "markdown",
   "id": "b9bf62ae-6ec9-4185-8e1c-0e61828fb2d0",
   "metadata": {},
   "source": [
    "<br><br>"
   ]
  },
  {
   "cell_type": "markdown",
   "id": "f1c4e49f-c516-4004-8523-1c672813016b",
   "metadata": {},
   "source": [
    "------------------------------------------\n",
    "# **Генерация нескольких транзакций, запись транзакций в файл**\n",
    "--------------------"
   ]
  },
  {
   "cell_type": "markdown",
   "id": "4a69ab4c-822c-4617-aba9-d1db076346c5",
   "metadata": {},
   "source": [
    "<br>"
   ]
  },
  {
   "cell_type": "markdown",
   "id": "ef0135bf-6400-4d1c-9b80-92562893e1cd",
   "metadata": {},
   "source": [
    "## 1. Класс `FraudTxnsRecorder`\n",
    "- модуль `data_generator.fraud.recorder`. **[Ссылка](https://github.com/iaroslav-dzh/fraud_txns_simulator/blob/main/data_generator/fraud/recorder.py)** на исходный код в Github  \n",
    "- Запись фрод транзакций в файл. **Этот класс** таже применяется для записи транзакций при дроп фроде, о котором будет в следующих ноутбуках"
   ]
  },
  {
   "cell_type": "markdown",
   "id": "82ebf6ca-472c-4678-98bf-17aa2a785bbd",
   "metadata": {},
   "source": [
    "**Основная логика**\n",
    "1. Получает в атрибут `all_txns` `pd.DataFrame` со всеми созданными транзакции по определенному типу фрода\n",
    "2. Записывает этот датафрейм в `parquet` в двух директориях: индивидуальной директории текущей генерации и директории последнего запуска генератора транзакций. Т.е. например `data/generated/history/<текущий_запуск>/<тип_фрода>` и `data/generated/latest/`\n",
    "3. В случае `compromised` фрода подразумевается встраивание объекта этого класса в функцию `gen_multi_fraud_txns`"
   ]
  },
  {
   "cell_type": "markdown",
   "id": "4c0bad0b-6740-4bca-9cac-7c59cca6b1c2",
   "metadata": {},
   "source": [
    "<br><br>"
   ]
  },
  {
   "cell_type": "markdown",
   "id": "ce0fb7c7-ec2f-4d76-b860-915605a6ae3d",
   "metadata": {},
   "source": [
    "-------\n",
    "## 2. Функция генерации нескольких фрод транзакций `gen_multi_fraud_txns`\n",
    "- модуль `data_generator.fraud.compr.txns`. **[Ссылка](https://github.com/iaroslav-dzh/fraud_txns_simulator/blob/main/data_generator/fraud/compr/txns.py)** на исходный код в Github  \n",
    "- полная генерация множетсва транзакций для переданных клиентов под разные антифрод правила в рамках compromised client фрода"
   ]
  },
  {
   "cell_type": "markdown",
   "id": "b6f1f802-e31d-4771-bb50-a13cc402cd99",
   "metadata": {},
   "source": [
    "**Основная логика**\n",
    "1. Итерирование через переданных клиентов и генерация фрод транзакций для них.\n",
    "2. Антифрод правило для каждого клиента берется случайно и под это правило генерируется фрод для клиента.\n",
    "3. Все датафреймы с фрод транзакциями пишутся в общий список объявенный перед началом цикла. Потом всё соединяется через `pd.concat` и передается в `FraudTxnsRecorder.all_txns`, затем вызвается `FraudTxnsRecorder.write_to_file()` и транзакции записываются в файлы в двух директориях."
   ]
  },
  {
   "cell_type": "code",
   "execution_count": 439,
   "id": "cbbde6ea-fb54-45b0-b3c7-7a7101c40674",
   "metadata": {},
   "outputs": [],
   "source": [
    "def gen_multi_fraud_txns(configs: ComprClientFraudCfg, part_data: FraudTxnPartData, \\\n",
    "                         fraud_amts: TransAmount, txn_recorder: FraudTxnsRecorder):\n",
    "    \"\"\"\n",
    "    clients_subset: pd.DataFrame. Клиенты у которых будут фрод транзакции. Сабсет клиентов для кого нагенерили\n",
    "                     легальных транзакций ранее.\n",
    "    configs: ComprClientFraudCfg. Конфиги для транзакций.\n",
    "    part_data: FraudTxnPartData. Генератор части данных транзакций.\n",
    "    fraud_amts: TransAmount. Генератор сумм транзакций.\n",
    "    txn_recorder: FraudTxnsRecorder. \n",
    "    \"\"\"\n",
    "    all_fraud_txns = []\n",
    "    # Конфиги кол-ва транз. для правила trans_freq_increase\n",
    "    freq_cfg = configs.rules_cfg[\"freq_txn\"][\"txn_num\"]\n",
    "\n",
    "    for client in configs.clients.itertuples():\n",
    "        rule = sample_rule(configs.rules)\n",
    "\n",
    "        client_txns = configs.transactions.loc[configs.transactions.client_id == client.client_id]\n",
    "        # Записываем данные текущего клиента в атрибут client_info класса FraudTxnPartData\n",
    "        part_data.client_info = client\n",
    "        \n",
    "        # Это правило отдельно т.к. такой случай имеет несколько транз-ций\n",
    "        if rule == \"trans_freq_increase\":\n",
    "            client_txns_temp = client_txns.loc[[client_txns.unix_time.idxmax()]]\n",
    "            # Сколько транз. будет создано под это правило\n",
    "            low = freq_cfg[\"min\"]\n",
    "            high = freq_cfg[\"max\"]\n",
    "            txns_total = np.random.randint(low, high + 1) \n",
    "\n",
    "            # Генерируем txns_total число фрод транзакций. Датафрейм с ними записываем в переменную\n",
    "            fraud_only = trans_freq_wrapper(client_txns_temp=client_txns_temp, \\\n",
    "                                            txns_total=txns_total, configs=configs, \\\n",
    "                                            part_data=part_data, fraud_amts=fraud_amts)\n",
    "            \n",
    "            # Добавляем созданные транзакции в общий список и сразу переводим цикл на следующую итерацию\n",
    "            all_fraud_txns.append(fraud_only)\n",
    "            continue\n",
    "\n",
    "        # Остальные правила. Генерация одной транз-ции\n",
    "        else:\n",
    "            one_txn = gen_purchase_fraud_txn(rule=rule, client_trans_df=client_txns, \\\n",
    "                                             configs=configs, part_data=part_data, \\\n",
    "                                             fraud_amts=fraud_amts)\n",
    "            \n",
    "            all_fraud_txns.append(pd.DataFrame([one_txn]))\n",
    "\n",
    "    # Запись транзакций в файл  \n",
    "    txn_recorder.all_txns = pd.concat(all_fraud_txns, ignore_index=True)\n",
    "    txn_recorder.write_to_file()"
   ]
  },
  {
   "cell_type": "markdown",
   "id": "8ad4aaf1-af19-4cc0-9036-b9938a13f460",
   "metadata": {},
   "source": [
    "### **Демонстрация**"
   ]
  },
  {
   "cell_type": "code",
   "execution_count": 10,
   "id": "bcfebd37-bb9b-4897-996f-c5d4d7fe9870",
   "metadata": {},
   "outputs": [],
   "source": [
    "from data_generator.fraud.compr.txns import gen_multi_fraud_txns\n",
    "from data_generator.fraud.recorder import FraudTxnsRecorder\n",
    "from data_generator.fraud.compr.txndata import FraudTxnPartData, TransAmount\n",
    "\n",
    "part_data = FraudTxnPartData(configs)\n",
    "txn_amt = TransAmount(configs)\n",
    "txn_recorder = FraudTxnsRecorder(configs)"
   ]
  },
  {
   "cell_type": "code",
   "execution_count": 11,
   "id": "a6ca4bd1-a405-499f-8712-56b7e85d4881",
   "metadata": {},
   "outputs": [],
   "source": [
    "# Тест\n",
    "gen_multi_fraud_txns(configs=configs, part_data=part_data, fraud_amts=txn_amt, txn_recorder=txn_recorder)"
   ]
  },
  {
   "cell_type": "code",
   "execution_count": 12,
   "id": "73eb6f4b-0f67-4660-b184-cc2e138a1b03",
   "metadata": {},
   "outputs": [],
   "source": [
    "data_storage = compr_cfg[\"data_storage\"]\n",
    "compr_subdir = data_storage[\"folder_name\"] # Название поддиректории в папке созданной под текущую генерацию\n",
    "compr_file = data_storage[\"files\"][\"txns\"] # Название файла с транзакциями\n",
    "path_to_compr = os.path.join(run_dir, compr_subdir, compr_file)\n",
    "\n",
    "compr_fraud_demo = pd.read_parquet(path_to_compr)"
   ]
  },
  {
   "cell_type": "code",
   "execution_count": 13,
   "id": "3f21f621-2f49-4286-a563-070fbcde0db1",
   "metadata": {},
   "outputs": [
    {
     "data": {
      "text/html": [
       "<div>\n",
       "<style scoped>\n",
       "    .dataframe tbody tr th:only-of-type {\n",
       "        vertical-align: middle;\n",
       "    }\n",
       "\n",
       "    .dataframe tbody tr th {\n",
       "        vertical-align: top;\n",
       "    }\n",
       "\n",
       "    .dataframe thead th {\n",
       "        text-align: right;\n",
       "    }\n",
       "</style>\n",
       "<table border=\"1\" class=\"dataframe\">\n",
       "  <thead>\n",
       "    <tr style=\"text-align: right;\">\n",
       "      <th></th>\n",
       "      <th>client_id</th>\n",
       "      <th>txn_time</th>\n",
       "      <th>unix_time</th>\n",
       "      <th>amount</th>\n",
       "      <th>type</th>\n",
       "      <th>channel</th>\n",
       "      <th>category</th>\n",
       "      <th>online</th>\n",
       "      <th>merchant_id</th>\n",
       "      <th>trans_city</th>\n",
       "      <th>trans_lat</th>\n",
       "      <th>trans_lon</th>\n",
       "      <th>trans_ip</th>\n",
       "      <th>device_id</th>\n",
       "      <th>account</th>\n",
       "      <th>is_fraud</th>\n",
       "      <th>is_suspicious</th>\n",
       "      <th>status</th>\n",
       "      <th>rule</th>\n",
       "    </tr>\n",
       "  </thead>\n",
       "  <tbody>\n",
       "    <tr>\n",
       "      <th>0</th>\n",
       "      <td>1114</td>\n",
       "      <td>2025-01-20 11:13:47</td>\n",
       "      <td>1737371627</td>\n",
       "      <td>24741.85</td>\n",
       "      <td>purchase</td>\n",
       "      <td>ecom</td>\n",
       "      <td>shopping_net</td>\n",
       "      <td>True</td>\n",
       "      <td>6949.0</td>\n",
       "      <td>Иваново</td>\n",
       "      <td>56.999468</td>\n",
       "      <td>40.972823</td>\n",
       "      <td>5.8.23.242</td>\n",
       "      <td>12408.0</td>\n",
       "      <td>NaN</td>\n",
       "      <td>True</td>\n",
       "      <td>False</td>\n",
       "      <td>declined</td>\n",
       "      <td>new_ip_and_device_high_amount</td>\n",
       "    </tr>\n",
       "    <tr>\n",
       "      <th>1</th>\n",
       "      <td>1125</td>\n",
       "      <td>2025-01-18 18:47:28</td>\n",
       "      <td>1737226048</td>\n",
       "      <td>19148.95</td>\n",
       "      <td>purchase</td>\n",
       "      <td>ecom</td>\n",
       "      <td>misc_net</td>\n",
       "      <td>True</td>\n",
       "      <td>6835.0</td>\n",
       "      <td>Новокузнецк</td>\n",
       "      <td>53.794276</td>\n",
       "      <td>87.214405</td>\n",
       "      <td>5.8.0.153</td>\n",
       "      <td>14458.0</td>\n",
       "      <td>NaN</td>\n",
       "      <td>True</td>\n",
       "      <td>False</td>\n",
       "      <td>declined</td>\n",
       "      <td>new_device_and_high_amount</td>\n",
       "    </tr>\n",
       "    <tr>\n",
       "      <th>2</th>\n",
       "      <td>2401</td>\n",
       "      <td>2025-01-20 10:57:21</td>\n",
       "      <td>1737370641</td>\n",
       "      <td>49142.25</td>\n",
       "      <td>purchase</td>\n",
       "      <td>ecom</td>\n",
       "      <td>shopping_net</td>\n",
       "      <td>True</td>\n",
       "      <td>6964.0</td>\n",
       "      <td>Новосибирск</td>\n",
       "      <td>55.028102</td>\n",
       "      <td>82.921058</td>\n",
       "      <td>5.8.14.8</td>\n",
       "      <td>10034.0</td>\n",
       "      <td>NaN</td>\n",
       "      <td>True</td>\n",
       "      <td>False</td>\n",
       "      <td>declined</td>\n",
       "      <td>fast_geo_change_online</td>\n",
       "    </tr>\n",
       "    <tr>\n",
       "      <th>3</th>\n",
       "      <td>875</td>\n",
       "      <td>2025-01-20 10:00:45</td>\n",
       "      <td>1737367245</td>\n",
       "      <td>5400.00</td>\n",
       "      <td>purchase</td>\n",
       "      <td>ecom</td>\n",
       "      <td>shopping_net</td>\n",
       "      <td>True</td>\n",
       "      <td>6812.0</td>\n",
       "      <td>Иркутск</td>\n",
       "      <td>52.286351</td>\n",
       "      <td>104.280655</td>\n",
       "      <td>5.8.12.79</td>\n",
       "      <td>14763.0</td>\n",
       "      <td>NaN</td>\n",
       "      <td>True</td>\n",
       "      <td>False</td>\n",
       "      <td>declined</td>\n",
       "      <td>new_ip_and_device_high_amount</td>\n",
       "    </tr>\n",
       "    <tr>\n",
       "      <th>4</th>\n",
       "      <td>3522</td>\n",
       "      <td>2025-01-20 00:47:50</td>\n",
       "      <td>1737334070</td>\n",
       "      <td>8570.35</td>\n",
       "      <td>purchase</td>\n",
       "      <td>ecom</td>\n",
       "      <td>misc_net</td>\n",
       "      <td>True</td>\n",
       "      <td>6895.0</td>\n",
       "      <td>Ярославль</td>\n",
       "      <td>57.621614</td>\n",
       "      <td>39.897878</td>\n",
       "      <td>5.8.28.44</td>\n",
       "      <td>12616.0</td>\n",
       "      <td>NaN</td>\n",
       "      <td>True</td>\n",
       "      <td>False</td>\n",
       "      <td>declined</td>\n",
       "      <td>new_ip_and_device_high_amount</td>\n",
       "    </tr>\n",
       "  </tbody>\n",
       "</table>\n",
       "</div>"
      ],
      "text/plain": [
       "   client_id            txn_time   unix_time    amount      type channel  \\\n",
       "0       1114 2025-01-20 11:13:47  1737371627  24741.85  purchase    ecom   \n",
       "1       1125 2025-01-18 18:47:28  1737226048  19148.95  purchase    ecom   \n",
       "2       2401 2025-01-20 10:57:21  1737370641  49142.25  purchase    ecom   \n",
       "3        875 2025-01-20 10:00:45  1737367245   5400.00  purchase    ecom   \n",
       "4       3522 2025-01-20 00:47:50  1737334070   8570.35  purchase    ecom   \n",
       "\n",
       "       category  online  merchant_id   trans_city  trans_lat   trans_lon  \\\n",
       "0  shopping_net    True       6949.0      Иваново  56.999468   40.972823   \n",
       "1      misc_net    True       6835.0  Новокузнецк  53.794276   87.214405   \n",
       "2  shopping_net    True       6964.0  Новосибирск  55.028102   82.921058   \n",
       "3  shopping_net    True       6812.0      Иркутск  52.286351  104.280655   \n",
       "4      misc_net    True       6895.0    Ярославль  57.621614   39.897878   \n",
       "\n",
       "     trans_ip  device_id  account  is_fraud  is_suspicious    status  \\\n",
       "0  5.8.23.242    12408.0      NaN      True          False  declined   \n",
       "1   5.8.0.153    14458.0      NaN      True          False  declined   \n",
       "2    5.8.14.8    10034.0      NaN      True          False  declined   \n",
       "3   5.8.12.79    14763.0      NaN      True          False  declined   \n",
       "4   5.8.28.44    12616.0      NaN      True          False  declined   \n",
       "\n",
       "                            rule  \n",
       "0  new_ip_and_device_high_amount  \n",
       "1     new_device_and_high_amount  \n",
       "2         fast_geo_change_online  \n",
       "3  new_ip_and_device_high_amount  \n",
       "4  new_ip_and_device_high_amount  "
      ]
     },
     "execution_count": 13,
     "metadata": {},
     "output_type": "execute_result"
    }
   ],
   "source": [
    "compr_fraud_demo.head(5)"
   ]
  },
  {
   "cell_type": "code",
   "execution_count": 14,
   "id": "faff1f68-a721-4326-a2a4-ae5f450036b2",
   "metadata": {},
   "outputs": [
    {
     "data": {
      "text/plain": [
       "(185, 19)"
      ]
     },
     "execution_count": 14,
     "metadata": {},
     "output_type": "execute_result"
    }
   ],
   "source": [
    "compr_fraud_demo.shape"
   ]
  },
  {
   "cell_type": "markdown",
   "id": "92d8db2e-3c1a-44fd-aaf9-0ca162f0ac5f",
   "metadata": {},
   "source": [
    "**Возьмем пример для каждого правила:** последняя легальная транзакция клиента, затем фрод, который у него был"
   ]
  },
  {
   "cell_type": "code",
   "execution_count": 15,
   "id": "bb25658b-c0ee-494a-ae1b-e7c2055c530e",
   "metadata": {},
   "outputs": [
    {
     "data": {
      "text/html": [
       "<div>\n",
       "<style scoped>\n",
       "    .dataframe tbody tr th:only-of-type {\n",
       "        vertical-align: middle;\n",
       "    }\n",
       "\n",
       "    .dataframe tbody tr th {\n",
       "        vertical-align: top;\n",
       "    }\n",
       "\n",
       "    .dataframe thead th {\n",
       "        text-align: right;\n",
       "    }\n",
       "</style>\n",
       "<table border=\"1\" class=\"dataframe\">\n",
       "  <thead>\n",
       "    <tr style=\"text-align: right;\">\n",
       "      <th></th>\n",
       "      <th>client_id</th>\n",
       "      <th>txn_time</th>\n",
       "      <th>unix_time</th>\n",
       "      <th>amount</th>\n",
       "      <th>type</th>\n",
       "      <th>channel</th>\n",
       "      <th>category</th>\n",
       "      <th>online</th>\n",
       "      <th>merchant_id</th>\n",
       "      <th>trans_city</th>\n",
       "      <th>trans_lat</th>\n",
       "      <th>trans_lon</th>\n",
       "      <th>trans_ip</th>\n",
       "      <th>device_id</th>\n",
       "      <th>account</th>\n",
       "      <th>is_fraud</th>\n",
       "      <th>is_suspicious</th>\n",
       "      <th>status</th>\n",
       "      <th>rule</th>\n",
       "    </tr>\n",
       "  </thead>\n",
       "  <tbody>\n",
       "    <tr>\n",
       "      <th>1108</th>\n",
       "      <td>4</td>\n",
       "      <td>2025-01-02 14:17:00</td>\n",
       "      <td>1735827420</td>\n",
       "      <td>1722.00</td>\n",
       "      <td>purchase</td>\n",
       "      <td>POS</td>\n",
       "      <td>grocery_pos</td>\n",
       "      <td>False</td>\n",
       "      <td>4336.0</td>\n",
       "      <td>Ростов-на-Дону</td>\n",
       "      <td>47.186882</td>\n",
       "      <td>39.540858</td>\n",
       "      <td>not applicable</td>\n",
       "      <td>NaN</td>\n",
       "      <td>NaN</td>\n",
       "      <td>False</td>\n",
       "      <td>False</td>\n",
       "      <td>approved</td>\n",
       "      <td>not applicable</td>\n",
       "    </tr>\n",
       "    <tr>\n",
       "      <th>1837</th>\n",
       "      <td>4</td>\n",
       "      <td>2025-01-03 08:14:00</td>\n",
       "      <td>1735892040</td>\n",
       "      <td>1070.83</td>\n",
       "      <td>purchase</td>\n",
       "      <td>POS</td>\n",
       "      <td>shopping_pos</td>\n",
       "      <td>False</td>\n",
       "      <td>6038.0</td>\n",
       "      <td>Ростов-на-Дону</td>\n",
       "      <td>47.269532</td>\n",
       "      <td>39.734244</td>\n",
       "      <td>not applicable</td>\n",
       "      <td>NaN</td>\n",
       "      <td>NaN</td>\n",
       "      <td>False</td>\n",
       "      <td>False</td>\n",
       "      <td>approved</td>\n",
       "      <td>not applicable</td>\n",
       "    </tr>\n",
       "  </tbody>\n",
       "</table>\n",
       "</div>"
      ],
      "text/plain": [
       "      client_id            txn_time   unix_time   amount      type channel  \\\n",
       "1108          4 2025-01-02 14:17:00  1735827420  1722.00  purchase     POS   \n",
       "1837          4 2025-01-03 08:14:00  1735892040  1070.83  purchase     POS   \n",
       "\n",
       "          category  online  merchant_id      trans_city  trans_lat  trans_lon  \\\n",
       "1108   grocery_pos   False       4336.0  Ростов-на-Дону  47.186882  39.540858   \n",
       "1837  shopping_pos   False       6038.0  Ростов-на-Дону  47.269532  39.734244   \n",
       "\n",
       "            trans_ip  device_id  account  is_fraud  is_suspicious    status  \\\n",
       "1108  not applicable        NaN      NaN     False          False  approved   \n",
       "1837  not applicable        NaN      NaN     False          False  approved   \n",
       "\n",
       "                rule  \n",
       "1108  not applicable  \n",
       "1837  not applicable  "
      ]
     },
     "execution_count": 15,
     "metadata": {},
     "output_type": "execute_result"
    }
   ],
   "source": [
    "# Подгрузим легальные транзакции. Сразу отсортируем по client_id и времени\n",
    "\n",
    "legit_txns_full = pd.read_parquet(run_dir + \"/legit/legit_txns.parquet\").sort_values([\"client_id\",\"unix_time\"])\n",
    "legit_txns_full.head(2)"
   ]
  },
  {
   "cell_type": "code",
   "execution_count": 16,
   "id": "e3387e7d-df2b-48e0-9469-4f210f87be0a",
   "metadata": {},
   "outputs": [
    {
     "data": {
      "text/html": [
       "<div>\n",
       "<style scoped>\n",
       "    .dataframe tbody tr th:only-of-type {\n",
       "        vertical-align: middle;\n",
       "    }\n",
       "\n",
       "    .dataframe tbody tr th {\n",
       "        vertical-align: top;\n",
       "    }\n",
       "\n",
       "    .dataframe thead th {\n",
       "        text-align: right;\n",
       "    }\n",
       "</style>\n",
       "<table border=\"1\" class=\"dataframe\">\n",
       "  <thead>\n",
       "    <tr style=\"text-align: right;\">\n",
       "      <th></th>\n",
       "      <th>client_id</th>\n",
       "      <th>txn_time</th>\n",
       "      <th>unix_time</th>\n",
       "      <th>amount</th>\n",
       "      <th>type</th>\n",
       "      <th>channel</th>\n",
       "      <th>category</th>\n",
       "      <th>online</th>\n",
       "      <th>merchant_id</th>\n",
       "      <th>trans_city</th>\n",
       "      <th>trans_lat</th>\n",
       "      <th>trans_lon</th>\n",
       "      <th>trans_ip</th>\n",
       "      <th>device_id</th>\n",
       "      <th>account</th>\n",
       "      <th>is_fraud</th>\n",
       "      <th>is_suspicious</th>\n",
       "      <th>status</th>\n",
       "      <th>rule</th>\n",
       "    </tr>\n",
       "  </thead>\n",
       "  <tbody>\n",
       "    <tr>\n",
       "      <th>18764</th>\n",
       "      <td>4</td>\n",
       "      <td>2025-01-19 21:53:00</td>\n",
       "      <td>1737323580</td>\n",
       "      <td>1837.07</td>\n",
       "      <td>purchase</td>\n",
       "      <td>POS</td>\n",
       "      <td>grocery_pos</td>\n",
       "      <td>False</td>\n",
       "      <td>948.0</td>\n",
       "      <td>Ростов-на-Дону</td>\n",
       "      <td>47.264105</td>\n",
       "      <td>39.643790</td>\n",
       "      <td>not applicable</td>\n",
       "      <td>NaN</td>\n",
       "      <td>NaN</td>\n",
       "      <td>False</td>\n",
       "      <td>False</td>\n",
       "      <td>approved</td>\n",
       "      <td>not applicable</td>\n",
       "    </tr>\n",
       "    <tr>\n",
       "      <th>19043</th>\n",
       "      <td>5</td>\n",
       "      <td>2025-01-20 08:48:00</td>\n",
       "      <td>1737362880</td>\n",
       "      <td>1.00</td>\n",
       "      <td>purchase</td>\n",
       "      <td>POS</td>\n",
       "      <td>shopping_pos</td>\n",
       "      <td>False</td>\n",
       "      <td>2650.0</td>\n",
       "      <td>Ростов-на-Дону</td>\n",
       "      <td>47.198945</td>\n",
       "      <td>39.493719</td>\n",
       "      <td>not applicable</td>\n",
       "      <td>NaN</td>\n",
       "      <td>NaN</td>\n",
       "      <td>False</td>\n",
       "      <td>False</td>\n",
       "      <td>approved</td>\n",
       "      <td>not applicable</td>\n",
       "    </tr>\n",
       "    <tr>\n",
       "      <th>17964</th>\n",
       "      <td>17</td>\n",
       "      <td>2025-01-19 18:24:20</td>\n",
       "      <td>1737311060</td>\n",
       "      <td>473.47</td>\n",
       "      <td>purchase</td>\n",
       "      <td>POS</td>\n",
       "      <td>home</td>\n",
       "      <td>False</td>\n",
       "      <td>6204.0</td>\n",
       "      <td>Тюмень</td>\n",
       "      <td>57.211488</td>\n",
       "      <td>65.566663</td>\n",
       "      <td>not applicable</td>\n",
       "      <td>NaN</td>\n",
       "      <td>NaN</td>\n",
       "      <td>False</td>\n",
       "      <td>False</td>\n",
       "      <td>approved</td>\n",
       "      <td>not applicable</td>\n",
       "    </tr>\n",
       "  </tbody>\n",
       "</table>\n",
       "</div>"
      ],
      "text/plain": [
       "       client_id            txn_time   unix_time   amount      type channel  \\\n",
       "18764          4 2025-01-19 21:53:00  1737323580  1837.07  purchase     POS   \n",
       "19043          5 2025-01-20 08:48:00  1737362880     1.00  purchase     POS   \n",
       "17964         17 2025-01-19 18:24:20  1737311060   473.47  purchase     POS   \n",
       "\n",
       "           category  online  merchant_id      trans_city  trans_lat  \\\n",
       "18764   grocery_pos   False        948.0  Ростов-на-Дону  47.264105   \n",
       "19043  shopping_pos   False       2650.0  Ростов-на-Дону  47.198945   \n",
       "17964          home   False       6204.0          Тюмень  57.211488   \n",
       "\n",
       "       trans_lon        trans_ip  device_id  account  is_fraud  is_suspicious  \\\n",
       "18764  39.643790  not applicable        NaN      NaN     False          False   \n",
       "19043  39.493719  not applicable        NaN      NaN     False          False   \n",
       "17964  65.566663  not applicable        NaN      NaN     False          False   \n",
       "\n",
       "         status            rule  \n",
       "18764  approved  not applicable  \n",
       "19043  approved  not applicable  \n",
       "17964  approved  not applicable  "
      ]
     },
     "execution_count": 16,
     "metadata": {},
     "output_type": "execute_result"
    }
   ],
   "source": [
    "# Возьмем только последнюю легальную транзакцию для каждого клиента\n",
    "legit_full_last_only = legit_txns_full.groupby(\"client_id\", as_index=False).tail(1)\n",
    "legit_full_last_only.head(3)"
   ]
  },
  {
   "cell_type": "code",
   "execution_count": 17,
   "id": "dbfa28a6-81c2-4090-8e5a-bacd49ab3cda",
   "metadata": {},
   "outputs": [
    {
     "data": {
      "text/html": [
       "<div>\n",
       "<style scoped>\n",
       "    .dataframe tbody tr th:only-of-type {\n",
       "        vertical-align: middle;\n",
       "    }\n",
       "\n",
       "    .dataframe tbody tr th {\n",
       "        vertical-align: top;\n",
       "    }\n",
       "\n",
       "    .dataframe thead th {\n",
       "        text-align: right;\n",
       "    }\n",
       "</style>\n",
       "<table border=\"1\" class=\"dataframe\">\n",
       "  <thead>\n",
       "    <tr style=\"text-align: right;\">\n",
       "      <th></th>\n",
       "      <th>client_id</th>\n",
       "      <th>txn_time</th>\n",
       "      <th>unix_time</th>\n",
       "      <th>amount</th>\n",
       "      <th>type</th>\n",
       "      <th>channel</th>\n",
       "      <th>category</th>\n",
       "      <th>online</th>\n",
       "      <th>merchant_id</th>\n",
       "      <th>trans_city</th>\n",
       "      <th>trans_lat</th>\n",
       "      <th>trans_lon</th>\n",
       "      <th>trans_ip</th>\n",
       "      <th>device_id</th>\n",
       "      <th>account</th>\n",
       "      <th>is_fraud</th>\n",
       "      <th>is_suspicious</th>\n",
       "      <th>status</th>\n",
       "      <th>rule</th>\n",
       "    </tr>\n",
       "  </thead>\n",
       "  <tbody>\n",
       "    <tr>\n",
       "      <th>18666</th>\n",
       "      <td>66</td>\n",
       "      <td>2025-01-19 21:34:06</td>\n",
       "      <td>1737322446</td>\n",
       "      <td>1.0</td>\n",
       "      <td>purchase</td>\n",
       "      <td>POS</td>\n",
       "      <td>shopping_pos</td>\n",
       "      <td>False</td>\n",
       "      <td>2549.0</td>\n",
       "      <td>Москва</td>\n",
       "      <td>55.702551</td>\n",
       "      <td>37.417362</td>\n",
       "      <td>not applicable</td>\n",
       "      <td>NaN</td>\n",
       "      <td>NaN</td>\n",
       "      <td>False</td>\n",
       "      <td>False</td>\n",
       "      <td>approved</td>\n",
       "      <td>not applicable</td>\n",
       "    </tr>\n",
       "    <tr>\n",
       "      <th>19088</th>\n",
       "      <td>97</td>\n",
       "      <td>2025-01-20 09:04:00</td>\n",
       "      <td>1737363840</td>\n",
       "      <td>1000.0</td>\n",
       "      <td>purchase</td>\n",
       "      <td>POS</td>\n",
       "      <td>gas_transport</td>\n",
       "      <td>False</td>\n",
       "      <td>3188.0</td>\n",
       "      <td>Орёл</td>\n",
       "      <td>52.934794</td>\n",
       "      <td>36.058780</td>\n",
       "      <td>not applicable</td>\n",
       "      <td>NaN</td>\n",
       "      <td>NaN</td>\n",
       "      <td>False</td>\n",
       "      <td>False</td>\n",
       "      <td>approved</td>\n",
       "      <td>not applicable</td>\n",
       "    </tr>\n",
       "  </tbody>\n",
       "</table>\n",
       "</div>"
      ],
      "text/plain": [
       "       client_id            txn_time   unix_time  amount      type channel  \\\n",
       "18666         66 2025-01-19 21:34:06  1737322446     1.0  purchase     POS   \n",
       "19088         97 2025-01-20 09:04:00  1737363840  1000.0  purchase     POS   \n",
       "\n",
       "            category  online  merchant_id trans_city  trans_lat  trans_lon  \\\n",
       "18666   shopping_pos   False       2549.0     Москва  55.702551  37.417362   \n",
       "19088  gas_transport   False       3188.0       Орёл  52.934794  36.058780   \n",
       "\n",
       "             trans_ip  device_id  account  is_fraud  is_suspicious    status  \\\n",
       "18666  not applicable        NaN      NaN     False          False  approved   \n",
       "19088  not applicable        NaN      NaN     False          False  approved   \n",
       "\n",
       "                 rule  \n",
       "18666  not applicable  \n",
       "19088  not applicable  "
      ]
     },
     "execution_count": 17,
     "metadata": {},
     "output_type": "execute_result"
    }
   ],
   "source": [
    "# Отфильтруем только те легальные, которые принадлежат клиентам у которых был фрод\n",
    "\n",
    "fraud_client_ids = compr_fraud_demo.client_id.unique()\n",
    "legit_txns = legit_full_last_only.loc[legit_full_last_only.client_id.isin(fraud_client_ids)]\n",
    "legit_txns.head(2)"
   ]
  },
  {
   "cell_type": "code",
   "execution_count": 18,
   "id": "0a875a36-774a-498f-af5f-e6c88b745bcd",
   "metadata": {
    "scrolled": true
   },
   "outputs": [
    {
     "data": {
      "text/html": [
       "<div>\n",
       "<style scoped>\n",
       "    .dataframe tbody tr th:only-of-type {\n",
       "        vertical-align: middle;\n",
       "    }\n",
       "\n",
       "    .dataframe tbody tr th {\n",
       "        vertical-align: top;\n",
       "    }\n",
       "\n",
       "    .dataframe thead th {\n",
       "        text-align: right;\n",
       "    }\n",
       "</style>\n",
       "<table border=\"1\" class=\"dataframe\">\n",
       "  <thead>\n",
       "    <tr style=\"text-align: right;\">\n",
       "      <th></th>\n",
       "      <th>client_id</th>\n",
       "      <th>txn_time</th>\n",
       "      <th>unix_time</th>\n",
       "      <th>amount</th>\n",
       "      <th>type</th>\n",
       "      <th>channel</th>\n",
       "      <th>category</th>\n",
       "      <th>online</th>\n",
       "      <th>merchant_id</th>\n",
       "      <th>trans_city</th>\n",
       "      <th>trans_lat</th>\n",
       "      <th>trans_lon</th>\n",
       "      <th>trans_ip</th>\n",
       "      <th>device_id</th>\n",
       "      <th>account</th>\n",
       "      <th>is_fraud</th>\n",
       "      <th>is_suspicious</th>\n",
       "      <th>status</th>\n",
       "      <th>rule</th>\n",
       "    </tr>\n",
       "  </thead>\n",
       "  <tbody>\n",
       "    <tr>\n",
       "      <th>0</th>\n",
       "      <td>66</td>\n",
       "      <td>2025-01-19 21:34:06</td>\n",
       "      <td>1737322446</td>\n",
       "      <td>1.0</td>\n",
       "      <td>purchase</td>\n",
       "      <td>POS</td>\n",
       "      <td>shopping_pos</td>\n",
       "      <td>False</td>\n",
       "      <td>2549.0</td>\n",
       "      <td>Москва</td>\n",
       "      <td>55.702551</td>\n",
       "      <td>37.417362</td>\n",
       "      <td>not applicable</td>\n",
       "      <td>NaN</td>\n",
       "      <td>NaN</td>\n",
       "      <td>False</td>\n",
       "      <td>False</td>\n",
       "      <td>approved</td>\n",
       "      <td>not applicable</td>\n",
       "    </tr>\n",
       "    <tr>\n",
       "      <th>1</th>\n",
       "      <td>66</td>\n",
       "      <td>2025-01-19 21:42:01</td>\n",
       "      <td>1737322921</td>\n",
       "      <td>7000.0</td>\n",
       "      <td>purchase</td>\n",
       "      <td>ecom</td>\n",
       "      <td>shopping_net</td>\n",
       "      <td>True</td>\n",
       "      <td>6923.0</td>\n",
       "      <td>Москва</td>\n",
       "      <td>55.753879</td>\n",
       "      <td>37.620373</td>\n",
       "      <td>5.8.30.49</td>\n",
       "      <td>10821.0</td>\n",
       "      <td>NaN</td>\n",
       "      <td>True</td>\n",
       "      <td>False</td>\n",
       "      <td>declined</td>\n",
       "      <td>new_device_and_high_amount</td>\n",
       "    </tr>\n",
       "  </tbody>\n",
       "</table>\n",
       "</div>"
      ],
      "text/plain": [
       "   client_id            txn_time   unix_time  amount      type channel  \\\n",
       "0         66 2025-01-19 21:34:06  1737322446     1.0  purchase     POS   \n",
       "1         66 2025-01-19 21:42:01  1737322921  7000.0  purchase    ecom   \n",
       "\n",
       "       category  online  merchant_id trans_city  trans_lat  trans_lon  \\\n",
       "0  shopping_pos   False       2549.0     Москва  55.702551  37.417362   \n",
       "1  shopping_net    True       6923.0     Москва  55.753879  37.620373   \n",
       "\n",
       "         trans_ip  device_id  account  is_fraud  is_suspicious    status  \\\n",
       "0  not applicable        NaN      NaN     False          False  approved   \n",
       "1       5.8.30.49    10821.0      NaN      True          False  declined   \n",
       "\n",
       "                         rule  \n",
       "0              not applicable  \n",
       "1  new_device_and_high_amount  "
      ]
     },
     "execution_count": 18,
     "metadata": {},
     "output_type": "execute_result"
    }
   ],
   "source": [
    "# Соединим последние легальные и созданный фрод.\n",
    "\n",
    "last_leg_and_fraud = pd.concat([legit_txns, compr_fraud_demo]).sort_values([\"client_id\",\"unix_time\"]).reset_index(drop=True)\n",
    "last_leg_and_fraud.head(2)"
   ]
  },
  {
   "cell_type": "markdown",
   "id": "36bdc35d-9189-48fe-b5c3-92cc9ef387a0",
   "metadata": {},
   "source": [
    "<br>"
   ]
  },
  {
   "cell_type": "markdown",
   "id": "96fb85bc-f0c2-4fba-9193-9f99802a51bf",
   "metadata": {},
   "source": [
    "**Правило `fast_geo_change`**  \n",
    "- резкая смена гео между транзакциями.\n",
    "- фрод транзакция оффлайн"
   ]
  },
  {
   "cell_type": "code",
   "execution_count": 19,
   "id": "20744288-4ca2-45b4-a999-52e3bfbd7ddf",
   "metadata": {
    "scrolled": true
   },
   "outputs": [
    {
     "data": {
      "text/html": [
       "<div>\n",
       "<style scoped>\n",
       "    .dataframe tbody tr th:only-of-type {\n",
       "        vertical-align: middle;\n",
       "    }\n",
       "\n",
       "    .dataframe tbody tr th {\n",
       "        vertical-align: top;\n",
       "    }\n",
       "\n",
       "    .dataframe thead th {\n",
       "        text-align: right;\n",
       "    }\n",
       "</style>\n",
       "<table border=\"1\" class=\"dataframe\">\n",
       "  <thead>\n",
       "    <tr style=\"text-align: right;\">\n",
       "      <th></th>\n",
       "      <th>client_id</th>\n",
       "      <th>txn_time</th>\n",
       "      <th>unix_time</th>\n",
       "      <th>amount</th>\n",
       "      <th>type</th>\n",
       "      <th>channel</th>\n",
       "      <th>category</th>\n",
       "      <th>online</th>\n",
       "      <th>merchant_id</th>\n",
       "      <th>trans_city</th>\n",
       "      <th>trans_lat</th>\n",
       "      <th>trans_lon</th>\n",
       "      <th>trans_ip</th>\n",
       "      <th>device_id</th>\n",
       "      <th>account</th>\n",
       "      <th>is_fraud</th>\n",
       "      <th>is_suspicious</th>\n",
       "      <th>status</th>\n",
       "      <th>rule</th>\n",
       "    </tr>\n",
       "  </thead>\n",
       "  <tbody>\n",
       "    <tr>\n",
       "      <th>15</th>\n",
       "      <td>527</td>\n",
       "      <td>2025-01-20 12:09:00</td>\n",
       "      <td>1737374940</td>\n",
       "      <td>3627.31</td>\n",
       "      <td>purchase</td>\n",
       "      <td>POS</td>\n",
       "      <td>grocery_pos</td>\n",
       "      <td>False</td>\n",
       "      <td>3019.0</td>\n",
       "      <td>Иваново</td>\n",
       "      <td>56.994509</td>\n",
       "      <td>40.883388</td>\n",
       "      <td>not applicable</td>\n",
       "      <td>NaN</td>\n",
       "      <td>NaN</td>\n",
       "      <td>False</td>\n",
       "      <td>False</td>\n",
       "      <td>approved</td>\n",
       "      <td>not applicable</td>\n",
       "    </tr>\n",
       "    <tr>\n",
       "      <th>16</th>\n",
       "      <td>527</td>\n",
       "      <td>2025-01-20 12:25:34</td>\n",
       "      <td>1737375934</td>\n",
       "      <td>32204.00</td>\n",
       "      <td>purchase</td>\n",
       "      <td>POS</td>\n",
       "      <td>misc_pos</td>\n",
       "      <td>False</td>\n",
       "      <td>505.0</td>\n",
       "      <td>Тверь</td>\n",
       "      <td>56.826437</td>\n",
       "      <td>35.920547</td>\n",
       "      <td>not applicable</td>\n",
       "      <td>NaN</td>\n",
       "      <td>NaN</td>\n",
       "      <td>True</td>\n",
       "      <td>False</td>\n",
       "      <td>declined</td>\n",
       "      <td>fast_geo_change</td>\n",
       "    </tr>\n",
       "  </tbody>\n",
       "</table>\n",
       "</div>"
      ],
      "text/plain": [
       "    client_id            txn_time   unix_time    amount      type channel  \\\n",
       "15        527 2025-01-20 12:09:00  1737374940   3627.31  purchase     POS   \n",
       "16        527 2025-01-20 12:25:34  1737375934  32204.00  purchase     POS   \n",
       "\n",
       "       category  online  merchant_id trans_city  trans_lat  trans_lon  \\\n",
       "15  grocery_pos   False       3019.0    Иваново  56.994509  40.883388   \n",
       "16     misc_pos   False        505.0      Тверь  56.826437  35.920547   \n",
       "\n",
       "          trans_ip  device_id  account  is_fraud  is_suspicious    status  \\\n",
       "15  not applicable        NaN      NaN     False          False  approved   \n",
       "16  not applicable        NaN      NaN      True          False  declined   \n",
       "\n",
       "               rule  \n",
       "15   not applicable  \n",
       "16  fast_geo_change  "
      ]
     },
     "execution_count": 19,
     "metadata": {},
     "output_type": "execute_result"
    }
   ],
   "source": [
    "# Чтобы показать не только фрод но и последнюю легальную транзакцию, нужно фильтровать по client_id\n",
    "# И взять client_id клиента у которого был нужный фрод\n",
    "fast_geo_client = last_leg_and_fraud.query(\"rule == 'fast_geo_change'\").client_id.head(1).iat[0]\n",
    "\n",
    "last_leg_and_fraud.loc[last_leg_and_fraud.client_id == fast_geo_client]"
   ]
  },
  {
   "cell_type": "markdown",
   "id": "5c9bad92-b45e-4ec1-8ffa-69e0a677fdd0",
   "metadata": {},
   "source": [
    "<br>"
   ]
  },
  {
   "cell_type": "markdown",
   "id": "ec0844c1-6015-45e8-b17e-50777561137f",
   "metadata": {},
   "source": [
    "**Правило `fast_geo_change_online`**  \n",
    "- резкая смена гео между транзакциями.\n",
    "- фрод транзакция онлайн"
   ]
  },
  {
   "cell_type": "code",
   "execution_count": 20,
   "id": "7b8680f9-5708-4a7a-972f-5ba59d1bbc3a",
   "metadata": {
    "scrolled": true
   },
   "outputs": [
    {
     "data": {
      "text/html": [
       "<div>\n",
       "<style scoped>\n",
       "    .dataframe tbody tr th:only-of-type {\n",
       "        vertical-align: middle;\n",
       "    }\n",
       "\n",
       "    .dataframe tbody tr th {\n",
       "        vertical-align: top;\n",
       "    }\n",
       "\n",
       "    .dataframe thead th {\n",
       "        text-align: right;\n",
       "    }\n",
       "</style>\n",
       "<table border=\"1\" class=\"dataframe\">\n",
       "  <thead>\n",
       "    <tr style=\"text-align: right;\">\n",
       "      <th></th>\n",
       "      <th>client_id</th>\n",
       "      <th>txn_time</th>\n",
       "      <th>unix_time</th>\n",
       "      <th>amount</th>\n",
       "      <th>type</th>\n",
       "      <th>channel</th>\n",
       "      <th>category</th>\n",
       "      <th>online</th>\n",
       "      <th>merchant_id</th>\n",
       "      <th>trans_city</th>\n",
       "      <th>trans_lat</th>\n",
       "      <th>trans_lon</th>\n",
       "      <th>trans_ip</th>\n",
       "      <th>device_id</th>\n",
       "      <th>account</th>\n",
       "      <th>is_fraud</th>\n",
       "      <th>is_suspicious</th>\n",
       "      <th>status</th>\n",
       "      <th>rule</th>\n",
       "    </tr>\n",
       "  </thead>\n",
       "  <tbody>\n",
       "    <tr>\n",
       "      <th>2</th>\n",
       "      <td>97</td>\n",
       "      <td>2025-01-20 09:04:00</td>\n",
       "      <td>1737363840</td>\n",
       "      <td>1000.0</td>\n",
       "      <td>purchase</td>\n",
       "      <td>POS</td>\n",
       "      <td>gas_transport</td>\n",
       "      <td>False</td>\n",
       "      <td>3188.0</td>\n",
       "      <td>Орёл</td>\n",
       "      <td>52.934794</td>\n",
       "      <td>36.058780</td>\n",
       "      <td>not applicable</td>\n",
       "      <td>NaN</td>\n",
       "      <td>NaN</td>\n",
       "      <td>False</td>\n",
       "      <td>False</td>\n",
       "      <td>approved</td>\n",
       "      <td>not applicable</td>\n",
       "    </tr>\n",
       "    <tr>\n",
       "      <th>3</th>\n",
       "      <td>97</td>\n",
       "      <td>2025-01-20 09:06:35</td>\n",
       "      <td>1737363995</td>\n",
       "      <td>3700.0</td>\n",
       "      <td>purchase</td>\n",
       "      <td>ecom</td>\n",
       "      <td>misc_net</td>\n",
       "      <td>True</td>\n",
       "      <td>6878.0</td>\n",
       "      <td>Брянск</td>\n",
       "      <td>53.242007</td>\n",
       "      <td>34.365272</td>\n",
       "      <td>5.8.3.245</td>\n",
       "      <td>11543.0</td>\n",
       "      <td>NaN</td>\n",
       "      <td>True</td>\n",
       "      <td>False</td>\n",
       "      <td>declined</td>\n",
       "      <td>fast_geo_change_online</td>\n",
       "    </tr>\n",
       "  </tbody>\n",
       "</table>\n",
       "</div>"
      ],
      "text/plain": [
       "   client_id            txn_time   unix_time  amount      type channel  \\\n",
       "2         97 2025-01-20 09:04:00  1737363840  1000.0  purchase     POS   \n",
       "3         97 2025-01-20 09:06:35  1737363995  3700.0  purchase    ecom   \n",
       "\n",
       "        category  online  merchant_id trans_city  trans_lat  trans_lon  \\\n",
       "2  gas_transport   False       3188.0       Орёл  52.934794  36.058780   \n",
       "3       misc_net    True       6878.0     Брянск  53.242007  34.365272   \n",
       "\n",
       "         trans_ip  device_id  account  is_fraud  is_suspicious    status  \\\n",
       "2  not applicable        NaN      NaN     False          False  approved   \n",
       "3       5.8.3.245    11543.0      NaN      True          False  declined   \n",
       "\n",
       "                     rule  \n",
       "2          not applicable  \n",
       "3  fast_geo_change_online  "
      ]
     },
     "execution_count": 20,
     "metadata": {},
     "output_type": "execute_result"
    }
   ],
   "source": [
    "fast_geo_net_client = last_leg_and_fraud.query(\"rule == 'fast_geo_change_online'\").client_id.head(1).iat[0]\n",
    "\n",
    "last_leg_and_fraud.loc[last_leg_and_fraud.client_id == fast_geo_net_client]"
   ]
  },
  {
   "cell_type": "markdown",
   "id": "88c6b02a-4784-4084-86b4-dc106e34f25c",
   "metadata": {},
   "source": [
    "<br>"
   ]
  },
  {
   "cell_type": "markdown",
   "id": "e8bcd764-c178-4220-b297-a22327d0ab17",
   "metadata": {},
   "source": [
    "**Правило `new_ip_and_device_high_amount`**  \n",
    "- транзакция на большую сумму с другого ip + это ip **другого города**, но без гео скачка; а также с другого устройства.\n",
    "- фрод транзакция онлайн"
   ]
  },
  {
   "cell_type": "code",
   "execution_count": 21,
   "id": "3ccb873c-42b2-4308-b28b-5cb6a7397319",
   "metadata": {
    "scrolled": true
   },
   "outputs": [
    {
     "data": {
      "text/html": [
       "<div>\n",
       "<style scoped>\n",
       "    .dataframe tbody tr th:only-of-type {\n",
       "        vertical-align: middle;\n",
       "    }\n",
       "\n",
       "    .dataframe tbody tr th {\n",
       "        vertical-align: top;\n",
       "    }\n",
       "\n",
       "    .dataframe thead th {\n",
       "        text-align: right;\n",
       "    }\n",
       "</style>\n",
       "<table border=\"1\" class=\"dataframe\">\n",
       "  <thead>\n",
       "    <tr style=\"text-align: right;\">\n",
       "      <th></th>\n",
       "      <th>client_id</th>\n",
       "      <th>txn_time</th>\n",
       "      <th>unix_time</th>\n",
       "      <th>amount</th>\n",
       "      <th>type</th>\n",
       "      <th>channel</th>\n",
       "      <th>category</th>\n",
       "      <th>online</th>\n",
       "      <th>merchant_id</th>\n",
       "      <th>trans_city</th>\n",
       "      <th>trans_lat</th>\n",
       "      <th>trans_lon</th>\n",
       "      <th>trans_ip</th>\n",
       "      <th>device_id</th>\n",
       "      <th>account</th>\n",
       "      <th>is_fraud</th>\n",
       "      <th>is_suspicious</th>\n",
       "      <th>status</th>\n",
       "      <th>rule</th>\n",
       "    </tr>\n",
       "  </thead>\n",
       "  <tbody>\n",
       "    <tr>\n",
       "      <th>4</th>\n",
       "      <td>398</td>\n",
       "      <td>2025-01-20 12:58:00</td>\n",
       "      <td>1737377880</td>\n",
       "      <td>742.4</td>\n",
       "      <td>purchase</td>\n",
       "      <td>POS</td>\n",
       "      <td>personal_care</td>\n",
       "      <td>False</td>\n",
       "      <td>5583.0</td>\n",
       "      <td>Тверь</td>\n",
       "      <td>56.882587</td>\n",
       "      <td>35.841957</td>\n",
       "      <td>not applicable</td>\n",
       "      <td>NaN</td>\n",
       "      <td>NaN</td>\n",
       "      <td>False</td>\n",
       "      <td>False</td>\n",
       "      <td>approved</td>\n",
       "      <td>not applicable</td>\n",
       "    </tr>\n",
       "    <tr>\n",
       "      <th>5</th>\n",
       "      <td>398</td>\n",
       "      <td>2025-01-20 17:50:22</td>\n",
       "      <td>1737395422</td>\n",
       "      <td>4000.0</td>\n",
       "      <td>purchase</td>\n",
       "      <td>ecom</td>\n",
       "      <td>misc_net</td>\n",
       "      <td>True</td>\n",
       "      <td>6937.0</td>\n",
       "      <td>Новосибирск</td>\n",
       "      <td>55.028102</td>\n",
       "      <td>82.921058</td>\n",
       "      <td>5.8.19.222</td>\n",
       "      <td>11861.0</td>\n",
       "      <td>NaN</td>\n",
       "      <td>True</td>\n",
       "      <td>False</td>\n",
       "      <td>declined</td>\n",
       "      <td>new_ip_and_device_high_amount</td>\n",
       "    </tr>\n",
       "  </tbody>\n",
       "</table>\n",
       "</div>"
      ],
      "text/plain": [
       "   client_id            txn_time   unix_time  amount      type channel  \\\n",
       "4        398 2025-01-20 12:58:00  1737377880   742.4  purchase     POS   \n",
       "5        398 2025-01-20 17:50:22  1737395422  4000.0  purchase    ecom   \n",
       "\n",
       "        category  online  merchant_id   trans_city  trans_lat  trans_lon  \\\n",
       "4  personal_care   False       5583.0        Тверь  56.882587  35.841957   \n",
       "5       misc_net    True       6937.0  Новосибирск  55.028102  82.921058   \n",
       "\n",
       "         trans_ip  device_id  account  is_fraud  is_suspicious    status  \\\n",
       "4  not applicable        NaN      NaN     False          False  approved   \n",
       "5      5.8.19.222    11861.0      NaN      True          False  declined   \n",
       "\n",
       "                            rule  \n",
       "4                 not applicable  \n",
       "5  new_ip_and_device_high_amount  "
      ]
     },
     "execution_count": 21,
     "metadata": {},
     "output_type": "execute_result"
    }
   ],
   "source": [
    "new_dev_and_ip_client = last_leg_and_fraud.query(\"rule == 'new_ip_and_device_high_amount'\").client_id.head(1).iat[0]\n",
    "\n",
    "last_leg_and_fraud.loc[last_leg_and_fraud.client_id == new_dev_and_ip_client]"
   ]
  },
  {
   "cell_type": "markdown",
   "id": "9cd57037-bf74-4050-8e58-d04b2537f190",
   "metadata": {},
   "source": [
    "<br>"
   ]
  },
  {
   "cell_type": "markdown",
   "id": "411de6f7-c091-4761-ac19-3be571b1d222",
   "metadata": {},
   "source": [
    "**Правило `new_device_and_high_amount`**  \n",
    "- транзакция на большую сумму с другого ip, **но это ip города клиента**; а также с другого устройства.\n",
    "- фрод транзакция онлайн"
   ]
  },
  {
   "cell_type": "code",
   "execution_count": 22,
   "id": "8d2ef6fe-b68e-4a07-b2e7-83d0b2354fff",
   "metadata": {
    "scrolled": true
   },
   "outputs": [
    {
     "data": {
      "text/html": [
       "<div>\n",
       "<style scoped>\n",
       "    .dataframe tbody tr th:only-of-type {\n",
       "        vertical-align: middle;\n",
       "    }\n",
       "\n",
       "    .dataframe tbody tr th {\n",
       "        vertical-align: top;\n",
       "    }\n",
       "\n",
       "    .dataframe thead th {\n",
       "        text-align: right;\n",
       "    }\n",
       "</style>\n",
       "<table border=\"1\" class=\"dataframe\">\n",
       "  <thead>\n",
       "    <tr style=\"text-align: right;\">\n",
       "      <th></th>\n",
       "      <th>client_id</th>\n",
       "      <th>txn_time</th>\n",
       "      <th>unix_time</th>\n",
       "      <th>amount</th>\n",
       "      <th>type</th>\n",
       "      <th>channel</th>\n",
       "      <th>category</th>\n",
       "      <th>online</th>\n",
       "      <th>merchant_id</th>\n",
       "      <th>trans_city</th>\n",
       "      <th>trans_lat</th>\n",
       "      <th>trans_lon</th>\n",
       "      <th>trans_ip</th>\n",
       "      <th>device_id</th>\n",
       "      <th>account</th>\n",
       "      <th>is_fraud</th>\n",
       "      <th>is_suspicious</th>\n",
       "      <th>status</th>\n",
       "      <th>rule</th>\n",
       "    </tr>\n",
       "  </thead>\n",
       "  <tbody>\n",
       "    <tr>\n",
       "      <th>0</th>\n",
       "      <td>66</td>\n",
       "      <td>2025-01-19 21:34:06</td>\n",
       "      <td>1737322446</td>\n",
       "      <td>1.0</td>\n",
       "      <td>purchase</td>\n",
       "      <td>POS</td>\n",
       "      <td>shopping_pos</td>\n",
       "      <td>False</td>\n",
       "      <td>2549.0</td>\n",
       "      <td>Москва</td>\n",
       "      <td>55.702551</td>\n",
       "      <td>37.417362</td>\n",
       "      <td>not applicable</td>\n",
       "      <td>NaN</td>\n",
       "      <td>NaN</td>\n",
       "      <td>False</td>\n",
       "      <td>False</td>\n",
       "      <td>approved</td>\n",
       "      <td>not applicable</td>\n",
       "    </tr>\n",
       "    <tr>\n",
       "      <th>1</th>\n",
       "      <td>66</td>\n",
       "      <td>2025-01-19 21:42:01</td>\n",
       "      <td>1737322921</td>\n",
       "      <td>7000.0</td>\n",
       "      <td>purchase</td>\n",
       "      <td>ecom</td>\n",
       "      <td>shopping_net</td>\n",
       "      <td>True</td>\n",
       "      <td>6923.0</td>\n",
       "      <td>Москва</td>\n",
       "      <td>55.753879</td>\n",
       "      <td>37.620373</td>\n",
       "      <td>5.8.30.49</td>\n",
       "      <td>10821.0</td>\n",
       "      <td>NaN</td>\n",
       "      <td>True</td>\n",
       "      <td>False</td>\n",
       "      <td>declined</td>\n",
       "      <td>new_device_and_high_amount</td>\n",
       "    </tr>\n",
       "  </tbody>\n",
       "</table>\n",
       "</div>"
      ],
      "text/plain": [
       "   client_id            txn_time   unix_time  amount      type channel  \\\n",
       "0         66 2025-01-19 21:34:06  1737322446     1.0  purchase     POS   \n",
       "1         66 2025-01-19 21:42:01  1737322921  7000.0  purchase    ecom   \n",
       "\n",
       "       category  online  merchant_id trans_city  trans_lat  trans_lon  \\\n",
       "0  shopping_pos   False       2549.0     Москва  55.702551  37.417362   \n",
       "1  shopping_net    True       6923.0     Москва  55.753879  37.620373   \n",
       "\n",
       "         trans_ip  device_id  account  is_fraud  is_suspicious    status  \\\n",
       "0  not applicable        NaN      NaN     False          False  approved   \n",
       "1       5.8.30.49    10821.0      NaN      True          False  declined   \n",
       "\n",
       "                         rule  \n",
       "0              not applicable  \n",
       "1  new_device_and_high_amount  "
      ]
     },
     "execution_count": 22,
     "metadata": {},
     "output_type": "execute_result"
    }
   ],
   "source": [
    "new_dev_client = last_leg_and_fraud.query(\"rule == 'new_device_and_high_amount'\").client_id.head(1).iat[0]\n",
    "\n",
    "last_leg_and_fraud.loc[last_leg_and_fraud.client_id == new_dev_client]"
   ]
  },
  {
   "cell_type": "markdown",
   "id": "55795d7c-ad6d-4947-a5a8-3b5bb21219d9",
   "metadata": {},
   "source": [
    "<br>"
   ]
  },
  {
   "cell_type": "markdown",
   "id": "6f544676-403e-4f6b-ae2a-257eac0ea682",
   "metadata": {},
   "source": [
    "**Правило `trans_freq_increase`**  \n",
    "- резкое учащение транзакций клиента. Несколько частых транзакций подряд\n",
    "- фрод транзакции онлайн\n",
    "- первые несколько транзакций из серии не отмечены как фрод и не отклонены, но подразумевается, что это тоже фрод, просто на тот момент еще не был достигнут порог частых транзакций. Напоминаю, что первая транзакция это последняя легальная транзакция клиента\n",
    "- суммы в этом типе фрода не слишком большие, подразумевается будто мошенник делает частые транзакции, но суммы не особо большие, чтобы избежать детекта"
   ]
  },
  {
   "cell_type": "code",
   "execution_count": 23,
   "id": "aa2ab66a-ef1c-40f8-9119-6004424bc806",
   "metadata": {},
   "outputs": [
    {
     "data": {
      "text/html": [
       "<div>\n",
       "<style scoped>\n",
       "    .dataframe tbody tr th:only-of-type {\n",
       "        vertical-align: middle;\n",
       "    }\n",
       "\n",
       "    .dataframe tbody tr th {\n",
       "        vertical-align: top;\n",
       "    }\n",
       "\n",
       "    .dataframe thead th {\n",
       "        text-align: right;\n",
       "    }\n",
       "</style>\n",
       "<table border=\"1\" class=\"dataframe\">\n",
       "  <thead>\n",
       "    <tr style=\"text-align: right;\">\n",
       "      <th></th>\n",
       "      <th>client_id</th>\n",
       "      <th>txn_time</th>\n",
       "      <th>unix_time</th>\n",
       "      <th>amount</th>\n",
       "      <th>type</th>\n",
       "      <th>channel</th>\n",
       "      <th>category</th>\n",
       "      <th>online</th>\n",
       "      <th>merchant_id</th>\n",
       "      <th>trans_city</th>\n",
       "      <th>trans_lat</th>\n",
       "      <th>trans_lon</th>\n",
       "      <th>trans_ip</th>\n",
       "      <th>device_id</th>\n",
       "      <th>account</th>\n",
       "      <th>is_fraud</th>\n",
       "      <th>is_suspicious</th>\n",
       "      <th>status</th>\n",
       "      <th>rule</th>\n",
       "    </tr>\n",
       "  </thead>\n",
       "  <tbody>\n",
       "    <tr>\n",
       "      <th>6</th>\n",
       "      <td>444</td>\n",
       "      <td>2025-01-19 11:08:00</td>\n",
       "      <td>1737284880</td>\n",
       "      <td>1030.15</td>\n",
       "      <td>purchase</td>\n",
       "      <td>POS</td>\n",
       "      <td>home</td>\n",
       "      <td>False</td>\n",
       "      <td>4250.0</td>\n",
       "      <td>Санкт-Петербург</td>\n",
       "      <td>60.029397</td>\n",
       "      <td>30.307338</td>\n",
       "      <td>not applicable</td>\n",
       "      <td>NaN</td>\n",
       "      <td>NaN</td>\n",
       "      <td>False</td>\n",
       "      <td>False</td>\n",
       "      <td>approved</td>\n",
       "      <td>not applicable</td>\n",
       "    </tr>\n",
       "    <tr>\n",
       "      <th>7</th>\n",
       "      <td>444</td>\n",
       "      <td>2025-01-20 03:54:52</td>\n",
       "      <td>1737345292</td>\n",
       "      <td>2555.48</td>\n",
       "      <td>purchase</td>\n",
       "      <td>ecom</td>\n",
       "      <td>shopping_net</td>\n",
       "      <td>True</td>\n",
       "      <td>6909.0</td>\n",
       "      <td>Севастополь</td>\n",
       "      <td>44.616733</td>\n",
       "      <td>33.525355</td>\n",
       "      <td>5.8.3.179</td>\n",
       "      <td>11052.0</td>\n",
       "      <td>NaN</td>\n",
       "      <td>False</td>\n",
       "      <td>False</td>\n",
       "      <td>approved</td>\n",
       "      <td>not applicable</td>\n",
       "    </tr>\n",
       "    <tr>\n",
       "      <th>8</th>\n",
       "      <td>444</td>\n",
       "      <td>2025-01-20 03:55:52</td>\n",
       "      <td>1737345352</td>\n",
       "      <td>4500.00</td>\n",
       "      <td>purchase</td>\n",
       "      <td>ecom</td>\n",
       "      <td>shopping_net</td>\n",
       "      <td>True</td>\n",
       "      <td>6909.0</td>\n",
       "      <td>Севастополь</td>\n",
       "      <td>44.616733</td>\n",
       "      <td>33.525355</td>\n",
       "      <td>5.8.3.179</td>\n",
       "      <td>11052.0</td>\n",
       "      <td>NaN</td>\n",
       "      <td>False</td>\n",
       "      <td>False</td>\n",
       "      <td>approved</td>\n",
       "      <td>not applicable</td>\n",
       "    </tr>\n",
       "    <tr>\n",
       "      <th>9</th>\n",
       "      <td>444</td>\n",
       "      <td>2025-01-20 03:57:52</td>\n",
       "      <td>1737345472</td>\n",
       "      <td>2186.00</td>\n",
       "      <td>purchase</td>\n",
       "      <td>ecom</td>\n",
       "      <td>grocery_net</td>\n",
       "      <td>True</td>\n",
       "      <td>6909.0</td>\n",
       "      <td>Севастополь</td>\n",
       "      <td>44.616733</td>\n",
       "      <td>33.525355</td>\n",
       "      <td>5.8.3.179</td>\n",
       "      <td>11052.0</td>\n",
       "      <td>NaN</td>\n",
       "      <td>False</td>\n",
       "      <td>False</td>\n",
       "      <td>approved</td>\n",
       "      <td>not applicable</td>\n",
       "    </tr>\n",
       "    <tr>\n",
       "      <th>10</th>\n",
       "      <td>444</td>\n",
       "      <td>2025-01-20 04:02:52</td>\n",
       "      <td>1737345772</td>\n",
       "      <td>2200.00</td>\n",
       "      <td>purchase</td>\n",
       "      <td>ecom</td>\n",
       "      <td>shopping_net</td>\n",
       "      <td>True</td>\n",
       "      <td>6909.0</td>\n",
       "      <td>Севастополь</td>\n",
       "      <td>44.616733</td>\n",
       "      <td>33.525355</td>\n",
       "      <td>5.8.3.179</td>\n",
       "      <td>11052.0</td>\n",
       "      <td>NaN</td>\n",
       "      <td>True</td>\n",
       "      <td>False</td>\n",
       "      <td>declined</td>\n",
       "      <td>trans_freq_increase</td>\n",
       "    </tr>\n",
       "    <tr>\n",
       "      <th>11</th>\n",
       "      <td>444</td>\n",
       "      <td>2025-01-20 04:03:52</td>\n",
       "      <td>1737345832</td>\n",
       "      <td>3914.00</td>\n",
       "      <td>purchase</td>\n",
       "      <td>ecom</td>\n",
       "      <td>grocery_net</td>\n",
       "      <td>True</td>\n",
       "      <td>6909.0</td>\n",
       "      <td>Севастополь</td>\n",
       "      <td>44.616733</td>\n",
       "      <td>33.525355</td>\n",
       "      <td>5.8.3.179</td>\n",
       "      <td>11052.0</td>\n",
       "      <td>NaN</td>\n",
       "      <td>True</td>\n",
       "      <td>False</td>\n",
       "      <td>declined</td>\n",
       "      <td>trans_freq_increase</td>\n",
       "    </tr>\n",
       "    <tr>\n",
       "      <th>12</th>\n",
       "      <td>444</td>\n",
       "      <td>2025-01-20 04:08:52</td>\n",
       "      <td>1737346132</td>\n",
       "      <td>4000.00</td>\n",
       "      <td>purchase</td>\n",
       "      <td>ecom</td>\n",
       "      <td>misc_net</td>\n",
       "      <td>True</td>\n",
       "      <td>6909.0</td>\n",
       "      <td>Севастополь</td>\n",
       "      <td>44.616733</td>\n",
       "      <td>33.525355</td>\n",
       "      <td>5.8.3.179</td>\n",
       "      <td>11052.0</td>\n",
       "      <td>NaN</td>\n",
       "      <td>True</td>\n",
       "      <td>False</td>\n",
       "      <td>declined</td>\n",
       "      <td>trans_freq_increase</td>\n",
       "    </tr>\n",
       "  </tbody>\n",
       "</table>\n",
       "</div>"
      ],
      "text/plain": [
       "    client_id            txn_time   unix_time   amount      type channel  \\\n",
       "6         444 2025-01-19 11:08:00  1737284880  1030.15  purchase     POS   \n",
       "7         444 2025-01-20 03:54:52  1737345292  2555.48  purchase    ecom   \n",
       "8         444 2025-01-20 03:55:52  1737345352  4500.00  purchase    ecom   \n",
       "9         444 2025-01-20 03:57:52  1737345472  2186.00  purchase    ecom   \n",
       "10        444 2025-01-20 04:02:52  1737345772  2200.00  purchase    ecom   \n",
       "11        444 2025-01-20 04:03:52  1737345832  3914.00  purchase    ecom   \n",
       "12        444 2025-01-20 04:08:52  1737346132  4000.00  purchase    ecom   \n",
       "\n",
       "        category  online  merchant_id       trans_city  trans_lat  trans_lon  \\\n",
       "6           home   False       4250.0  Санкт-Петербург  60.029397  30.307338   \n",
       "7   shopping_net    True       6909.0      Севастополь  44.616733  33.525355   \n",
       "8   shopping_net    True       6909.0      Севастополь  44.616733  33.525355   \n",
       "9    grocery_net    True       6909.0      Севастополь  44.616733  33.525355   \n",
       "10  shopping_net    True       6909.0      Севастополь  44.616733  33.525355   \n",
       "11   grocery_net    True       6909.0      Севастополь  44.616733  33.525355   \n",
       "12      misc_net    True       6909.0      Севастополь  44.616733  33.525355   \n",
       "\n",
       "          trans_ip  device_id  account  is_fraud  is_suspicious    status  \\\n",
       "6   not applicable        NaN      NaN     False          False  approved   \n",
       "7        5.8.3.179    11052.0      NaN     False          False  approved   \n",
       "8        5.8.3.179    11052.0      NaN     False          False  approved   \n",
       "9        5.8.3.179    11052.0      NaN     False          False  approved   \n",
       "10       5.8.3.179    11052.0      NaN      True          False  declined   \n",
       "11       5.8.3.179    11052.0      NaN      True          False  declined   \n",
       "12       5.8.3.179    11052.0      NaN      True          False  declined   \n",
       "\n",
       "                   rule  \n",
       "6        not applicable  \n",
       "7        not applicable  \n",
       "8        not applicable  \n",
       "9        not applicable  \n",
       "10  trans_freq_increase  \n",
       "11  trans_freq_increase  \n",
       "12  trans_freq_increase  "
      ]
     },
     "execution_count": 23,
     "metadata": {},
     "output_type": "execute_result"
    }
   ],
   "source": [
    "freq_txns_client = last_leg_and_fraud.query(\"rule == 'trans_freq_increase'\").client_id.head(1).iat[0]\n",
    "\n",
    "last_leg_and_fraud.loc[last_leg_and_fraud.client_id == freq_txns_client]"
   ]
  },
  {
   "cell_type": "markdown",
   "id": "cbd836f8-eb27-48fc-936c-1ed2b85cb960",
   "metadata": {},
   "source": [
    "<br><br>"
   ]
  },
  {
   "cell_type": "markdown",
   "id": "88718d18-7011-4a50-9198-64dda212c858",
   "metadata": {},
   "source": [
    "---------------------------------\n",
    "# **Оркестрация генерации compromised фрод транзакций**"
   ]
  },
  {
   "cell_type": "markdown",
   "id": "b5bfef69-4b98-4e13-ab07-df0be507b733",
   "metadata": {},
   "source": [
    "<br>"
   ]
  },
  {
   "cell_type": "markdown",
   "id": "10a68347-2bcd-4998-b1a7-8f12a02a5d56",
   "metadata": {},
   "source": [
    "## 1. Класс `ComprRunner`\n",
    "- модуль `data_generator.runner.compr`. **[Ссылка](https://github.com/iaroslav-dzh/fraud_txns_simulator/blob/main/data_generator/runner/compr.py)** на исходный код в Github  \n",
    "- Оркестрация генерации compromised client fraud транзакций\n",
    "- Это финальный уровень для compromised транзакций. Метод `run()` этого класса вызывается в файле запуска генератора всех транзакций `run_generator.py`"
   ]
  },
  {
   "cell_type": "code",
   "execution_count": 26,
   "id": "beffe5bf-c9a4-4d08-83e8-67a10b06264a",
   "metadata": {},
   "outputs": [],
   "source": [
    "class ComprRunner:\n",
    "    \"\"\"\n",
    "    Запуск генерации транзакций compromised фрода.\n",
    "    ---------\n",
    "    Атрибуты:\n",
    "    ---------\n",
    "    cfg_builder: ComprConfigBuilder.\n",
    "    configs: ComprClientFraudCfg. Конфиги и данные для генерации транзакций.\n",
    "    part_data: FraudTxnPartData. Генерация части данных транзакции:\n",
    "               мерчант, геопозиция, город, IP адрес и др.\n",
    "    fraud_amts: TransAmount. Генерация суммы транзакций.\n",
    "    txn_recorder: FraudTxnsRecorder. Запись транзакций в файл.\n",
    "    text: str. Текст для вставки в спиннер.\n",
    "    \"\"\"\n",
    "    def __init__(self, base_cfg, legit_cfg, time_cfg, fraud_cfg, compr_cfg, run_dir):\n",
    "        \"\"\"\n",
    "        base_cfg: dict. Конфиги из base.yaml\n",
    "        legit_cfg: dict. Конфиги из legit.yaml\n",
    "        time_cfg: dict. Конфиги из time.yaml\n",
    "        fraud_cfg: dict. Общие конфиги фрода из fraud.yaml\n",
    "        compr_cfg: dict. Конфиги для compromised фрода из compr.yaml\n",
    "        run_dir: str. Название директории для хранения сгенерированных\n",
    "                 данных текущей генерации.\n",
    "        \"\"\"\n",
    "        self.cfg_builder = ComprConfigBuilder(base_cfg=base_cfg, legit_cfg=legit_cfg, \\\n",
    "                                              time_cfg=time_cfg, fraud_cfg=fraud_cfg, \\\n",
    "                                              compr_cfg=compr_cfg, run_dir=run_dir)\n",
    "        self.configs = self.cfg_builder.build_cfg()\n",
    "        self.part_data = FraudTxnPartData(configs=self.configs)\n",
    "        self.fraud_amts = TransAmount(configs=self.configs)\n",
    "        self.txn_recorder = FraudTxnsRecorder(configs=self.configs)\n",
    "        self.text = \"Compromised clients fraud txns generation\"\n",
    "\n",
    "\n",
    "    @spinner_decorator\n",
    "    def run(self):\n",
    "        \"\"\"\n",
    "        Запуск генератора.\n",
    "        \"\"\"\n",
    "        configs = self.configs\n",
    "        part_data = self.part_data\n",
    "        fraud_amts = self.fraud_amts\n",
    "        txn_recorder = self.txn_recorder\n",
    "\n",
    "        gen_multi_fraud_txns(configs=configs, part_data=part_data, fraud_amts=fraud_amts, \\\n",
    "                             txn_recorder=txn_recorder)"
   ]
  }
 ],
 "metadata": {
  "kernelspec": {
   "display_name": "Python (poetry-env)",
   "language": "python",
   "name": "poetry-env"
  },
  "language_info": {
   "codemirror_mode": {
    "name": "ipython",
    "version": 3
   },
   "file_extension": ".py",
   "mimetype": "text/x-python",
   "name": "python",
   "nbconvert_exporter": "python",
   "pygments_lexer": "ipython3",
   "version": "3.12.7"
  }
 },
 "nbformat": 4,
 "nbformat_minor": 5
}
