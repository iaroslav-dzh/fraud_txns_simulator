{
 "cells": [
  {
   "cell_type": "markdown",
   "id": "e46304d3-c37f-4ba8-968b-e4088ff3a17d",
   "metadata": {},
   "source": [
    "# **Дроп фрод основные инструменты**\n",
    "- **ноутбуки лучше просматривать** на Github pages, т.к. при просмотре прямо в репозитории могут быть проблемы с отображением, например, обрезка вывода с широкими датафреймами. **Если в адресной строке браузера есть** `iaroslav-dzh.github.io`, то вы уже на Github pages.  \n",
    "Ссылки:\n",
    "    -  **[Ссылка](PASTE_HERE)** на этот ноутбук\n",
    "    -  **[Ссылка](https://iaroslav-dzh.github.io/fraud_txns_simulator/)** на страницу со всеми ноутбуками\n",
    " \n",
    "**Вступление к генерации дроп фрода**  \n",
    "Это начало демонстрации генерации дроп фрода - далее будет еще 2 ноутбука о генерации дроп фрода, т.к. этот раздел получился более обширным.  \n",
    "При написании генерации дроп фрода я полностью решил перейти на классы как основу кода, вместо функций.  \n",
    "\n",
    "Дропов будет два типа: \n",
    "- распределители (distributors): поведение основано на регулярном получении денег и их распределении - перевод, снятие, покупка криптовалюты.\n",
    "- покупатели (purchasers): поведение основано на регулярном получении денег и покупке на них товаров - отмыв денег.\n",
    "\n",
    "**Информация о ноутбуке**  \n",
    "- В этом ноутбуке базовые части генерации:\n",
    "    - создание конфиг классов\n",
    "    - управление счетами\n",
    "    - генерация сумм транзакций\n",
    "    - генерация времени транзакций\n",
    "    - управление поведением дропа"
   ]
  },
  {
   "cell_type": "code",
   "execution_count": 4,
   "id": "c30e67d7-4a3c-4d29-9477-ab02b02e86fc",
   "metadata": {},
   "outputs": [],
   "source": [
    "import pandas as pd\n",
    "import numpy as np\n",
    "# import matplotlib.pyplot as plt\n",
    "# import seaborn as sns\n",
    "import os\n",
    "# import re\n",
    "# import geopandas as gpd\n",
    "# from scipy.stats import truncnorm, norm\n",
    "# from collections import defaultdict\n",
    "# import math\n",
    "import pyarrow\n",
    "import yaml\n",
    "from typing import Union"
   ]
  },
  {
   "cell_type": "code",
   "execution_count": 7,
   "id": "9d87e6be-bb84-44d9-9d35-924a25f2ddca",
   "metadata": {},
   "outputs": [],
   "source": [
    "# Функции генерации паттернов времени и базовые функции времени созданные ранее\n",
    "from data_generator.general_time import *\n",
    "from data_generator.utils import load_configs"
   ]
  },
  {
   "cell_type": "code",
   "execution_count": 5,
   "id": "6c6c9867-8d32-4b4d-9923-2b2f5711bfc8",
   "metadata": {},
   "outputs": [],
   "source": [
    "np.set_printoptions(suppress=True)\n",
    "pd.set_option('display.max_columns', None)"
   ]
  },
  {
   "cell_type": "code",
   "execution_count": 6,
   "id": "71fc90ba-44d1-4bc6-b2a3-edda53a9123b",
   "metadata": {},
   "outputs": [
    {
     "data": {
      "text/plain": [
       "'C:\\\\Users\\\\iaros\\\\My_documents\\\\Education\\\\projects\\\\fraud_detection_01'"
      ]
     },
     "execution_count": 6,
     "metadata": {},
     "output_type": "execute_result"
    }
   ],
   "source": [
    "os.chdir(\"..\")\n",
    "os.getcwd()"
   ]
  },
  {
   "cell_type": "code",
   "execution_count": 8,
   "id": "2596e557-1894-4125-a02a-517e01ff04ff",
   "metadata": {},
   "outputs": [],
   "source": [
    "# Базовые конфиги\n",
    "base_cfg = load_configs(\"./config/base.yaml\")\n",
    "# Настройки легальных транзакций\n",
    "legit_cfg = load_configs(\"./config/legit.yaml\")\n",
    "# Общие настройки фрода\n",
    "fraud_cfg = load_configs(\"./config/fraud.yaml\")\n",
    "# Настройки для дроп фрода\n",
    "drops_cfg = load_configs(\"./config/drops.yaml\")\n",
    "# Настройки времени\n",
    "time_cfg = load_configs(\"./config/time.yaml\") \n",
    "\n",
    "# Пути к файлам\n",
    "data_paths = base_cfg[\"data_paths\"]"
   ]
  },
  {
   "cell_type": "markdown",
   "id": "64f9f8dd-cb84-4e9e-a579-e453dd69c762",
   "metadata": {},
   "source": [
    "<br><br>"
   ]
  },
  {
   "cell_type": "markdown",
   "id": "02b70137-6561-422a-821c-df7e8dda0ce9",
   "metadata": {},
   "source": [
    "# **Создание конфиг классов с конфигами и данными для генерации**\n",
    "<br>"
   ]
  },
  {
   "cell_type": "markdown",
   "id": "dc737a7f-1650-4115-886a-683a410cb21d",
   "metadata": {},
   "source": [
    "## 1. Класс `DropConfigBuilder`\n",
    "- модуль `data_generator.fraud.drops.build.config`. **[Ссылка](https://github.com/iaroslav-dzh/fraud_txns_simulator/blob/main/data_generator/fraud/drops/build/config.py)** на файл в Github\n",
    "- \n",
    "**Условия**  \n",
    "- до этого были сгенерированы легальные и compromised client fraud транзакции\n",
    "\n",
    "**Основная логика**\n",
    "- создает объект `DropDistributorCfg` или `DropPurchaserCfg` для дропов распределителей или покупателей соотвественно\n",
    "- суть такая же как у конфиг билдеров для легальных и compromised client fraud транзакций"
   ]
  },
  {
   "cell_type": "code",
   "execution_count": 9,
   "id": "bb43b79d-7926-407a-9d48-473b756307f6",
   "metadata": {},
   "outputs": [],
   "source": [
    "# директорию текущего запуска генератора возьмем из предыдущего ноутбука. Т.к. нужны данные того, что сгенерировано до дроп фрода\n",
    "run_dir = './data/generated/history/generation_run_2025-07-25_121029'"
   ]
  },
  {
   "cell_type": "code",
   "execution_count": 11,
   "id": "e8144753-45cb-4dee-8ca0-f0870cfaa22c",
   "metadata": {},
   "outputs": [],
   "source": [
    "from data_generator.fraud.drops.build.config import DropConfigBuilder\n",
    "\n",
    "# объект самого конфиг билдера\n",
    "cfg_build = DropConfigBuilder(base_cfg=base_cfg, legit_cfg=legit_cfg, time_cfg=time_cfg, fraud_cfg=fraud_cfg, \\\n",
    "                              drop_cfg=drops_cfg, run_dir=run_dir)\n",
    "\n",
    "# Конфиг класс для дропов распределителей\n",
    "dist_configs = cfg_build.build_dist_cfg()\n",
    "# Конфиг класс для дропов покупателей\n",
    "purch_configs = cfg_build.build_purch_cfg()"
   ]
  },
  {
   "cell_type": "markdown",
   "id": "029390b6-1108-4bf7-9f61-a64024abaeea",
   "metadata": {},
   "source": [
    "### **Демонстрация**"
   ]
  },
  {
   "cell_type": "code",
   "execution_count": 12,
   "id": "8aa105c2-c9f6-43b9-afa6-5a5aa36454f6",
   "metadata": {},
   "outputs": [
    {
     "data": {
      "text/html": [
       "<div>\n",
       "<style scoped>\n",
       "    .dataframe tbody tr th:only-of-type {\n",
       "        vertical-align: middle;\n",
       "    }\n",
       "\n",
       "    .dataframe tbody tr th {\n",
       "        vertical-align: top;\n",
       "    }\n",
       "\n",
       "    .dataframe thead th {\n",
       "        text-align: right;\n",
       "    }\n",
       "</style>\n",
       "<table border=\"1\" class=\"dataframe\">\n",
       "  <thead>\n",
       "    <tr style=\"text-align: right;\">\n",
       "      <th></th>\n",
       "      <th>client_id</th>\n",
       "      <th>birth_date</th>\n",
       "      <th>sex</th>\n",
       "      <th>region</th>\n",
       "      <th>city</th>\n",
       "      <th>lat</th>\n",
       "      <th>lon</th>\n",
       "      <th>city_id</th>\n",
       "      <th>home_ip</th>\n",
       "    </tr>\n",
       "  </thead>\n",
       "  <tbody>\n",
       "    <tr>\n",
       "      <th>0</th>\n",
       "      <td>4344</td>\n",
       "      <td>1950-06-09</td>\n",
       "      <td>male</td>\n",
       "      <td>Свердловская</td>\n",
       "      <td>Екатеринбург</td>\n",
       "      <td>56.838633</td>\n",
       "      <td>60.605489</td>\n",
       "      <td>54</td>\n",
       "      <td>2.60.16.18</td>\n",
       "    </tr>\n",
       "    <tr>\n",
       "      <th>1</th>\n",
       "      <td>2692</td>\n",
       "      <td>1950-05-24</td>\n",
       "      <td>male</td>\n",
       "      <td>Ставропольский</td>\n",
       "      <td>Ставрополь</td>\n",
       "      <td>45.044544</td>\n",
       "      <td>41.969017</td>\n",
       "      <td>44</td>\n",
       "      <td>2.60.9.247</td>\n",
       "    </tr>\n",
       "  </tbody>\n",
       "</table>\n",
       "</div>"
      ],
      "text/plain": [
       "   client_id birth_date   sex          region          city        lat  \\\n",
       "0       4344 1950-06-09  male    Свердловская  Екатеринбург  56.838633   \n",
       "1       2692 1950-05-24  male  Ставропольский    Ставрополь  45.044544   \n",
       "\n",
       "         lon  city_id     home_ip  \n",
       "0  60.605489       54  2.60.16.18  \n",
       "1  41.969017       44  2.60.9.247  "
      ]
     },
     "execution_count": 12,
     "metadata": {},
     "output_type": "execute_result"
    }
   ],
   "source": [
    "# Клиенты семплированные под дропов распределителей т.е. они будут дропами\n",
    "dist_configs.clients.head(2)"
   ]
  },
  {
   "cell_type": "code",
   "execution_count": 13,
   "id": "3fd48618-bea6-44e5-ba38-41d0a0debf15",
   "metadata": {},
   "outputs": [
    {
     "data": {
      "text/html": [
       "<div>\n",
       "<style scoped>\n",
       "    .dataframe tbody tr th:only-of-type {\n",
       "        vertical-align: middle;\n",
       "    }\n",
       "\n",
       "    .dataframe tbody tr th {\n",
       "        vertical-align: top;\n",
       "    }\n",
       "\n",
       "    .dataframe thead th {\n",
       "        text-align: right;\n",
       "    }\n",
       "</style>\n",
       "<table border=\"1\" class=\"dataframe\">\n",
       "  <thead>\n",
       "    <tr style=\"text-align: right;\">\n",
       "      <th></th>\n",
       "      <th>client_id</th>\n",
       "      <th>birth_date</th>\n",
       "      <th>sex</th>\n",
       "      <th>region</th>\n",
       "      <th>city</th>\n",
       "      <th>lat</th>\n",
       "      <th>lon</th>\n",
       "      <th>city_id</th>\n",
       "      <th>home_ip</th>\n",
       "    </tr>\n",
       "  </thead>\n",
       "  <tbody>\n",
       "    <tr>\n",
       "      <th>0</th>\n",
       "      <td>901</td>\n",
       "      <td>1944-12-14</td>\n",
       "      <td>male</td>\n",
       "      <td>Смоленская</td>\n",
       "      <td>Смоленск</td>\n",
       "      <td>54.786717</td>\n",
       "      <td>31.815337</td>\n",
       "      <td>39</td>\n",
       "      <td>2.60.3.87</td>\n",
       "    </tr>\n",
       "    <tr>\n",
       "      <th>1</th>\n",
       "      <td>3839</td>\n",
       "      <td>1962-06-29</td>\n",
       "      <td>female</td>\n",
       "      <td>Ростовская</td>\n",
       "      <td>Таганрог</td>\n",
       "      <td>47.209491</td>\n",
       "      <td>38.935154</td>\n",
       "      <td>65</td>\n",
       "      <td>2.60.14.50</td>\n",
       "    </tr>\n",
       "  </tbody>\n",
       "</table>\n",
       "</div>"
      ],
      "text/plain": [
       "   client_id birth_date     sex      region      city        lat        lon  \\\n",
       "0        901 1944-12-14    male  Смоленская  Смоленск  54.786717  31.815337   \n",
       "1       3839 1962-06-29  female  Ростовская  Таганрог  47.209491  38.935154   \n",
       "\n",
       "   city_id     home_ip  \n",
       "0       39   2.60.3.87  \n",
       "1       65  2.60.14.50  "
      ]
     },
     "execution_count": 13,
     "metadata": {},
     "output_type": "execute_result"
    }
   ],
   "source": [
    "# Клиенты семплированные под дропов покупателей т.е. они будут дропами\n",
    "purch_configs.clients.head(2)"
   ]
  },
  {
   "cell_type": "code",
   "execution_count": 14,
   "id": "1bfff7df-35a6-4226-9c25-8cb8aba647ec",
   "metadata": {},
   "outputs": [
    {
     "data": {
      "text/html": [
       "<div>\n",
       "<style scoped>\n",
       "    .dataframe tbody tr th:only-of-type {\n",
       "        vertical-align: middle;\n",
       "    }\n",
       "\n",
       "    .dataframe tbody tr th {\n",
       "        vertical-align: top;\n",
       "    }\n",
       "\n",
       "    .dataframe thead th {\n",
       "        text-align: right;\n",
       "    }\n",
       "</style>\n",
       "<table border=\"1\" class=\"dataframe\">\n",
       "  <thead>\n",
       "    <tr style=\"text-align: right;\">\n",
       "      <th></th>\n",
       "      <th>client_id</th>\n",
       "      <th>account_id</th>\n",
       "      <th>is_drop</th>\n",
       "    </tr>\n",
       "  </thead>\n",
       "  <tbody>\n",
       "    <tr>\n",
       "      <th>0</th>\n",
       "      <td>1</td>\n",
       "      <td>10000</td>\n",
       "      <td>False</td>\n",
       "    </tr>\n",
       "    <tr>\n",
       "      <th>1</th>\n",
       "      <td>2</td>\n",
       "      <td>10001</td>\n",
       "      <td>False</td>\n",
       "    </tr>\n",
       "  </tbody>\n",
       "</table>\n",
       "</div>"
      ],
      "text/plain": [
       "   client_id  account_id  is_drop\n",
       "0          1       10000    False\n",
       "1          2       10001    False"
      ]
     },
     "execution_count": 14,
     "metadata": {},
     "output_type": "execute_result"
    }
   ],
   "source": [
    "# таблица со счетами клиентов и информацией о том дропы ли они.\n",
    "# клиент помечается как дроп только когда непосредственно идет генерация его активности\n",
    "dist_configs.accounts.head(2)"
   ]
  },
  {
   "cell_type": "markdown",
   "id": "0b3b0dd9-e33e-4f42-a892-1baeb8ebfebc",
   "metadata": {},
   "source": [
    "<br><br>"
   ]
  },
  {
   "cell_type": "markdown",
   "id": "8e5cabc7-a342-4f02-8cc8-b7b45d31ba6c",
   "metadata": {},
   "source": [
    "# **Управление счетами транзакций. Генерация сумм транзакций и времени**\n",
    "<br>"
   ]
  },
  {
   "attachments": {},
   "cell_type": "markdown",
   "id": "9ddb6614-929c-4818-b90c-17786109d3c3",
   "metadata": {},
   "source": [
    "## 1. Класс `DropAccountHandler`\n",
    "- модуль `data_generator.fraud.drops.base`. **[Ссылка](https://github.com/iaroslav-dzh/fraud_txns_simulator/blob/main/data_generator/fraud/drops/base.py)** на файл в Github \n",
    "- Управление счетами переводов, статусами дропов в таблице accounts\n",
    "\n",
    "**Основной функционал**\n",
    "- запись номера счета текущего дропа в атрибут `account`\n",
    "- случайный выбор счета для исходящего перевода если это дроп распределитель\n",
    "- пометка текущего клиента, как дропа в таблице `accounts`"
   ]
  },
  {
   "cell_type": "markdown",
   "id": "aa005fb3-1eb5-4829-b1f5-ba5b8dc151e7",
   "metadata": {},
   "source": [
    "### **Демонстрация**"
   ]
  },
  {
   "cell_type": "code",
   "execution_count": 16,
   "id": "b72a9f22-a462-48a5-add0-58f66fed9515",
   "metadata": {},
   "outputs": [],
   "source": [
    "from data_generator.fraud.drops.base import DropAccountHandler\n",
    "\n",
    "acc_hand = DropAccountHandler(configs=dist_configs)\n",
    "# DropAccountHandler нуждается в передаче ему client_id, чтобы знать чей счет искать если нужен счет самого дропа \n",
    "# и чей счет исключить если это счет под исходящюю транзакцию\n",
    "acc_hand.client_id = 1"
   ]
  },
  {
   "cell_type": "markdown",
   "id": "b2eb3cb8-7b83-4eae-8407-e97b25f78d02",
   "metadata": {},
   "source": [
    "Найти и записать счет текущего клиента в атрибут account"
   ]
  },
  {
   "cell_type": "code",
   "execution_count": 19,
   "id": "aa8318ef-b7e8-4790-9bc4-f00d028b19bc",
   "metadata": {},
   "outputs": [
    {
     "data": {
      "text/plain": [
       "np.int64(10000)"
      ]
     },
     "execution_count": 19,
     "metadata": {},
     "output_type": "execute_result"
    }
   ],
   "source": [
    "acc_hand.get_account(own=True)\n",
    "acc_hand.account"
   ]
  },
  {
   "cell_type": "markdown",
   "id": "f072d0e6-cb35-456b-af41-67769e45a001",
   "metadata": {},
   "source": [
    "Выбрать случайный счет под исходящий перевод"
   ]
  },
  {
   "cell_type": "code",
   "execution_count": 18,
   "id": "7b2f697c-1a71-4ea8-a75a-f3d8ac10e9b2",
   "metadata": {},
   "outputs": [
    {
     "data": {
      "text/plain": [
       "np.int64(23260)"
      ]
     },
     "execution_count": 18,
     "metadata": {},
     "output_type": "execute_result"
    }
   ],
   "source": [
    "acc_hand.get_account()"
   ]
  },
  {
   "cell_type": "markdown",
   "id": "04986e13-913e-4092-9c0e-0b42b8f0a23d",
   "metadata": {},
   "source": [
    "Пометить текущего клиента, как дропа"
   ]
  },
  {
   "cell_type": "code",
   "execution_count": 20,
   "id": "5d9327d1-fafd-45d9-9419-f7812499d3aa",
   "metadata": {},
   "outputs": [
    {
     "data": {
      "text/html": [
       "<div>\n",
       "<style scoped>\n",
       "    .dataframe tbody tr th:only-of-type {\n",
       "        vertical-align: middle;\n",
       "    }\n",
       "\n",
       "    .dataframe tbody tr th {\n",
       "        vertical-align: top;\n",
       "    }\n",
       "\n",
       "    .dataframe thead th {\n",
       "        text-align: right;\n",
       "    }\n",
       "</style>\n",
       "<table border=\"1\" class=\"dataframe\">\n",
       "  <thead>\n",
       "    <tr style=\"text-align: right;\">\n",
       "      <th></th>\n",
       "      <th>client_id</th>\n",
       "      <th>account_id</th>\n",
       "      <th>is_drop</th>\n",
       "    </tr>\n",
       "  </thead>\n",
       "  <tbody>\n",
       "    <tr>\n",
       "      <th>0</th>\n",
       "      <td>1</td>\n",
       "      <td>10000</td>\n",
       "      <td>False</td>\n",
       "    </tr>\n",
       "  </tbody>\n",
       "</table>\n",
       "</div>"
      ],
      "text/plain": [
       "   client_id  account_id  is_drop\n",
       "0          1       10000    False"
      ]
     },
     "execution_count": 20,
     "metadata": {},
     "output_type": "execute_result"
    }
   ],
   "source": [
    "# смотрим до вызова метода. Клиент не помечен как дроп: is_drop = False\n",
    "accounts = acc_hand.accounts\n",
    "own_id = acc_hand.client_id\n",
    "accounts.query(\"client_id == @own_id\")"
   ]
  },
  {
   "cell_type": "code",
   "execution_count": 21,
   "id": "4f28cf59-94f0-4338-a623-7f9712b264f9",
   "metadata": {},
   "outputs": [
    {
     "data": {
      "text/html": [
       "<div>\n",
       "<style scoped>\n",
       "    .dataframe tbody tr th:only-of-type {\n",
       "        vertical-align: middle;\n",
       "    }\n",
       "\n",
       "    .dataframe tbody tr th {\n",
       "        vertical-align: top;\n",
       "    }\n",
       "\n",
       "    .dataframe thead th {\n",
       "        text-align: right;\n",
       "    }\n",
       "</style>\n",
       "<table border=\"1\" class=\"dataframe\">\n",
       "  <thead>\n",
       "    <tr style=\"text-align: right;\">\n",
       "      <th></th>\n",
       "      <th>client_id</th>\n",
       "      <th>account_id</th>\n",
       "      <th>is_drop</th>\n",
       "    </tr>\n",
       "  </thead>\n",
       "  <tbody>\n",
       "    <tr>\n",
       "      <th>0</th>\n",
       "      <td>1</td>\n",
       "      <td>10000</td>\n",
       "      <td>True</td>\n",
       "    </tr>\n",
       "  </tbody>\n",
       "</table>\n",
       "</div>"
      ],
      "text/plain": [
       "   client_id  account_id  is_drop\n",
       "0          1       10000     True"
      ]
     },
     "execution_count": 21,
     "metadata": {},
     "output_type": "execute_result"
    }
   ],
   "source": [
    "# Отмечаем клиента как дропа\n",
    "acc_hand.label_drop()\n",
    "\n",
    "# Снова смотрим на него в accounts\n",
    "accounts.query(\"client_id == @own_id\")"
   ]
  },
  {
   "cell_type": "markdown",
   "id": "18d9e273-9a48-4eff-bce7-48965cf5454c",
   "metadata": {},
   "source": [
    "<br>"
   ]
  },
  {
   "cell_type": "markdown",
   "id": "50d8d7cd-89a2-49a0-adef-3c5e5fb0ab3e",
   "metadata": {},
   "source": [
    "## 2. Класс `DropAmountHandler`\n",
    "- модуль `data_generator.fraud.drops.base`. **[Ссылка](https://github.com/iaroslav-dzh/fraud_txns_simulator/blob/main/data_generator/fraud/drops/base.py)** на файл в Github\n",
    "\n",
    "**Основной функционал**\n",
    "- генерация сумм транзакций: вх./исх. переводов, снятий, покупок:\n",
    "    - генерирует сумму в соответствии с конфигами в `drops.yaml` и в соответствии с переданными аргументами, например:\n",
    "        - генерация сумм для переводов, снятий или покупок частями - в соответствии с лимитами в конфиге `drops.yaml`\n",
    "        - генерация сумм для перевода всего баланса\n",
    "        - уменьшение суммы следующего перевода если текущий перевод отклонен\n",
    "- управление балансом текущего дропа:\n",
    "    - начисление при успешной входящей транзакции\n",
    "    - списание при успешной исх. транз-ции - перевод, снятие, покупка.\n",
    "    - неизменение баланса если вх./исх. транз-ция отклонена "
   ]
  },
  {
   "cell_type": "markdown",
   "id": "875e6b2e-9908-4310-8e40-7e4865122b2e",
   "metadata": {},
   "source": [
    "### **Демонстрация**"
   ]
  },
  {
   "cell_type": "code",
   "execution_count": 22,
   "id": "6d2c3ceb-e3e8-477b-a3f7-f02995bb270b",
   "metadata": {},
   "outputs": [],
   "source": [
    "from data_generator.fraud.drops.base import DropAmountHandler\n",
    "\n",
    "amt_hand = DropAmountHandler(configs=dist_configs)"
   ]
  },
  {
   "cell_type": "markdown",
   "id": "0c5b2e6a-0284-4aa6-947f-f784cb5730c4",
   "metadata": {},
   "source": [
    "**Метод `receive`**\n",
    "- генерация суммы входящего перевода\n",
    "- изменение баланса на сумму перевода если транз. не отклонена"
   ]
  },
  {
   "cell_type": "code",
   "execution_count": 25,
   "id": "4080b402-f487-4ca2-9e84-af9ee640ad91",
   "metadata": {},
   "outputs": [
    {
     "data": {
      "text/plain": [
       "0"
      ]
     },
     "execution_count": 25,
     "metadata": {},
     "output_type": "execute_result"
    }
   ],
   "source": [
    "# текущий баланс\n",
    "amt_hand.balance"
   ]
  },
  {
   "cell_type": "code",
   "execution_count": 27,
   "id": "bb326e2d-63fc-4ea1-a089-0a4ce5e343cb",
   "metadata": {},
   "outputs": [
    {
     "data": {
      "text/plain": [
       "np.float64(30700.0)"
      ]
     },
     "execution_count": 27,
     "metadata": {},
     "output_type": "execute_result"
    }
   ],
   "source": [
    "# сумма вх. перевода. Успешная транз\n",
    "amt_hand.receive(declined=False)"
   ]
  },
  {
   "cell_type": "code",
   "execution_count": 28,
   "id": "d52618f1-fb13-4d50-85ff-426c00b8a347",
   "metadata": {},
   "outputs": [
    {
     "data": {
      "text/plain": [
       "np.float64(30700.0)"
      ]
     },
     "execution_count": 28,
     "metadata": {},
     "output_type": "execute_result"
    }
   ],
   "source": [
    "# Баланс\n",
    "amt_hand.balance"
   ]
  },
  {
   "cell_type": "code",
   "execution_count": 29,
   "id": "cac6fef0-87c9-4b3e-a6bb-65ae34b3a73c",
   "metadata": {},
   "outputs": [
    {
     "data": {
      "text/plain": [
       "np.float64(34300.0)"
      ]
     },
     "execution_count": 29,
     "metadata": {},
     "output_type": "execute_result"
    }
   ],
   "source": [
    "# сумма вх. перевода. Отклоненная транз\n",
    "amt_hand.receive(declined=True)"
   ]
  },
  {
   "cell_type": "code",
   "execution_count": 30,
   "id": "b65aacca-0fe8-4460-ad11-60910df8e061",
   "metadata": {},
   "outputs": [
    {
     "data": {
      "text/plain": [
       "np.float64(30700.0)"
      ]
     },
     "execution_count": 30,
     "metadata": {},
     "output_type": "execute_result"
    }
   ],
   "source": [
    "# Баланс\n",
    "amt_hand.balance"
   ]
  },
  {
   "cell_type": "markdown",
   "id": "a997a601-a9aa-44c8-9c43-8850c62add2b",
   "metadata": {},
   "source": [
    "**Метод `one_operation`**\n",
    "- объединяет в себе несколько методов. Является конечным методом для генерации суммы транзакции и обновления баланса\n",
    "- возвращает сумму транзакции"
   ]
  },
  {
   "cell_type": "code",
   "execution_count": 31,
   "id": "1438c1b4-a060-4aa2-8831-f6ae5c23cb99",
   "metadata": {},
   "outputs": [
    {
     "data": {
      "text/plain": [
       "np.float64(30700.0)"
      ]
     },
     "execution_count": 31,
     "metadata": {},
     "output_type": "execute_result"
    }
   ],
   "source": [
    "# Баланс\n",
    "amt_hand.balance"
   ]
  },
  {
   "cell_type": "code",
   "execution_count": 32,
   "id": "7411d36f-0aed-4210-a9cf-5e30ea6d1b1a",
   "metadata": {},
   "outputs": [
    {
     "data": {
      "text/plain": [
       "np.float64(20000.0)"
      ]
     },
     "execution_count": 32,
     "metadata": {},
     "output_type": "execute_result"
    }
   ],
   "source": [
    "# Например текущая транзакция онлайн, она не отклонена и нужно перевести только часть баланса\n",
    "amt_hand.one_operation(online=True, declined=False, in_chunks=True)"
   ]
  },
  {
   "cell_type": "code",
   "execution_count": 33,
   "id": "4f683dfd-0f49-4d20-b397-404f20a91ee3",
   "metadata": {},
   "outputs": [
    {
     "data": {
      "text/plain": [
       "np.float64(10700.0)"
      ]
     },
     "execution_count": 33,
     "metadata": {},
     "output_type": "execute_result"
    }
   ],
   "source": [
    "amt_hand.balance"
   ]
  },
  {
   "cell_type": "markdown",
   "id": "7993afe4-0908-47ef-87e6-556c3e3c457c",
   "metadata": {},
   "source": [
    "**Пример с уменьшением суммы если транзакция отклонена**\n",
    "- каждая сумма будет меньше предыдущей, но не меньше минимального значения, которые выставлено в конфигах `drops.yaml`"
   ]
  },
  {
   "cell_type": "code",
   "execution_count": 42,
   "id": "fef049d4-eb3e-4de0-b49f-c5bb4d0c8232",
   "metadata": {},
   "outputs": [
    {
     "name": "stdout",
     "output_type": "stream",
     "text": [
      "Баланс перед запуском цикла: 47000\n",
      "Итоговый баланс: 47000\n",
      "Все созданные суммы: [24000, 18000, 12000, 6000, 3000]\n"
     ]
    }
   ],
   "source": [
    "amt_hand.reset_cache(all=True)\n",
    "amt_hand.balance = 47000\n",
    "print(f\"Баланс перед запуском цикла: {amt_hand.balance}\")\n",
    "\n",
    "all_ops = []\n",
    "while True:\n",
    "    one_op = int(amt_hand.one_operation(online=True, declined=True, in_chunks=True))\n",
    "    \n",
    "    all_ops.append(one_op)\n",
    "    if len(all_ops) == 5:\n",
    "        break\n",
    "print(f\"\"\"Итоговый баланс: {amt_hand.balance}\n",
    "Все созданные суммы: {all_ops}\"\"\")"
   ]
  },
  {
   "cell_type": "markdown",
   "id": "cdf5a3a8-bef1-4014-8d2f-e3c028967092",
   "metadata": {},
   "source": [
    "<br>"
   ]
  },
  {
   "cell_type": "markdown",
   "id": "01b32401-cd2e-45b8-abb0-6be9fb68197c",
   "metadata": {},
   "source": [
    "## 3. Класс `DropTimeHandler`\n",
    "- модуль `data_generator.fraud.drops.time`. **[Ссылка](https://github.com/iaroslav-dzh/fraud_txns_simulator/blob/main/data_generator/fraud/drops/time.py)** на файл в Github\n",
    "\n",
    "**Основной функционал**\n",
    "- управление временем транзакций дропа. Генерация времени  \n",
    "\n",
    "**Основная логика**\n",
    "1. время первой транзакции берется случайно из диапазона timestamp-ов\n",
    "2. создает время транзакций в соответсвии с лимитами активности для дропов выставленных в `drops.yaml`\n",
    "3. есть лимит на входящие транзакции и исходящие в периоде активности\n",
    "4. период активности это когда дроп \"работает\" с деньгами - переводит, снимает, покупает.\n",
    "5. период измеряется по кол-ву сделанных транзакций. Если достигнут какой-то из лимитов - входящие/исходящие - то дроп берет паузу в активности на период установленный в конфигах и +/- случайную дельту времени установленную также в конфигах. Пауза считается от первой транзакции в периоде, например новый период дроп перевел деньги в 12:00, и достиг лимита на исх. операции в текущем периоде. Берется время 12:00 и к нему прибавляется указанный лаг по времени, например 24 часа, и случайная положительная или отрицательная дельта, например -1 час. То есть дроп возобновляет активность в 12:00 + 24 часа + (-1) час = 11:00 следующего дня. Это будет транзакция уже нового периода активности.\n",
    "6. если лимит не достигнут то время текущей транзакции также основывается на времени предыдущей: прибавляется случайная положительная дельта времени."
   ]
  },
  {
   "cell_type": "markdown",
   "id": "ae1c5eff-2fd0-4b61-b3f7-ca4efe527087",
   "metadata": {},
   "source": [
    "### **Демонстрация**"
   ]
  },
  {
   "cell_type": "code",
   "execution_count": 49,
   "id": "a48fdfb8-849e-43cc-8946-82a8d4ca09cc",
   "metadata": {},
   "outputs": [],
   "source": [
    "from data_generator.fraud.drops.time import DropTimeHandler\n",
    "\n",
    "time_hand = DropTimeHandler(configs=dist_configs)"
   ]
  },
  {
   "cell_type": "markdown",
   "id": "f0465a9d-5834-402a-8c5e-9b3ab7c87515",
   "metadata": {},
   "source": [
    "**Метод `get_txn_time`**\n",
    "- основной метод класса. Генерирует время для вх. и исх. транз-ций\n",
    "- внизу будет симулирована генерация под активность дропа. Так время ведет себя и при полноценной генерации активности дропа\n",
    "- можно заметить что время между транзакциями `time_diff` периодами составляет не более 3-х часов и потом следует продолжительный перерыв в 15+ часов. Это и есть перерыв между периодами активности дропа. Условно, дроп \"работает\" какое-то время и уходит на долгий перерыв."
   ]
  },
  {
   "cell_type": "code",
   "execution_count": 50,
   "id": "3fdc5c66-71a6-45ba-bb55-87950938824c",
   "metadata": {},
   "outputs": [
    {
     "data": {
      "text/html": [
       "<div>\n",
       "<style scoped>\n",
       "    .dataframe tbody tr th:only-of-type {\n",
       "        vertical-align: middle;\n",
       "    }\n",
       "\n",
       "    .dataframe tbody tr th {\n",
       "        vertical-align: top;\n",
       "    }\n",
       "\n",
       "    .dataframe thead th {\n",
       "        text-align: right;\n",
       "    }\n",
       "</style>\n",
       "<table border=\"1\" class=\"dataframe\">\n",
       "  <thead>\n",
       "    <tr style=\"text-align: right;\">\n",
       "      <th></th>\n",
       "      <th>txn_time</th>\n",
       "      <th>time_diff</th>\n",
       "    </tr>\n",
       "  </thead>\n",
       "  <tbody>\n",
       "    <tr>\n",
       "      <th>0</th>\n",
       "      <td>2025-01-14 09:27:00</td>\n",
       "      <td>NaT</td>\n",
       "    </tr>\n",
       "    <tr>\n",
       "      <th>1</th>\n",
       "      <td>2025-01-14 10:35:00</td>\n",
       "      <td>0 days 01:08:00</td>\n",
       "    </tr>\n",
       "    <tr>\n",
       "      <th>2</th>\n",
       "      <td>2025-01-14 12:17:00</td>\n",
       "      <td>0 days 01:42:00</td>\n",
       "    </tr>\n",
       "    <tr>\n",
       "      <th>3</th>\n",
       "      <td>2025-01-14 13:11:00</td>\n",
       "      <td>0 days 00:54:00</td>\n",
       "    </tr>\n",
       "    <tr>\n",
       "      <th>4</th>\n",
       "      <td>2025-01-14 16:10:00</td>\n",
       "      <td>0 days 02:59:00</td>\n",
       "    </tr>\n",
       "    <tr>\n",
       "      <th>5</th>\n",
       "      <td>2025-01-14 18:55:00</td>\n",
       "      <td>0 days 02:45:00</td>\n",
       "    </tr>\n",
       "    <tr>\n",
       "      <th>6</th>\n",
       "      <td>2025-01-15 10:22:00</td>\n",
       "      <td>0 days 15:27:00</td>\n",
       "    </tr>\n",
       "    <tr>\n",
       "      <th>7</th>\n",
       "      <td>2025-01-15 11:52:00</td>\n",
       "      <td>0 days 01:30:00</td>\n",
       "    </tr>\n",
       "    <tr>\n",
       "      <th>8</th>\n",
       "      <td>2025-01-15 13:15:00</td>\n",
       "      <td>0 days 01:23:00</td>\n",
       "    </tr>\n",
       "    <tr>\n",
       "      <th>9</th>\n",
       "      <td>2025-01-15 15:02:00</td>\n",
       "      <td>0 days 01:47:00</td>\n",
       "    </tr>\n",
       "    <tr>\n",
       "      <th>10</th>\n",
       "      <td>2025-01-15 16:58:00</td>\n",
       "      <td>0 days 01:56:00</td>\n",
       "    </tr>\n",
       "    <tr>\n",
       "      <th>11</th>\n",
       "      <td>2025-01-16 09:02:00</td>\n",
       "      <td>0 days 16:04:00</td>\n",
       "    </tr>\n",
       "    <tr>\n",
       "      <th>12</th>\n",
       "      <td>2025-01-16 10:37:00</td>\n",
       "      <td>0 days 01:35:00</td>\n",
       "    </tr>\n",
       "  </tbody>\n",
       "</table>\n",
       "</div>"
      ],
      "text/plain": [
       "              txn_time       time_diff\n",
       "0  2025-01-14 09:27:00             NaT\n",
       "1  2025-01-14 10:35:00 0 days 01:08:00\n",
       "2  2025-01-14 12:17:00 0 days 01:42:00\n",
       "3  2025-01-14 13:11:00 0 days 00:54:00\n",
       "4  2025-01-14 16:10:00 0 days 02:59:00\n",
       "5  2025-01-14 18:55:00 0 days 02:45:00\n",
       "6  2025-01-15 10:22:00 0 days 15:27:00\n",
       "7  2025-01-15 11:52:00 0 days 01:30:00\n",
       "8  2025-01-15 13:15:00 0 days 01:23:00\n",
       "9  2025-01-15 15:02:00 0 days 01:47:00\n",
       "10 2025-01-15 16:58:00 0 days 01:56:00\n",
       "11 2025-01-16 09:02:00 0 days 16:04:00\n",
       "12 2025-01-16 10:37:00 0 days 01:35:00"
      ]
     },
     "execution_count": 50,
     "metadata": {},
     "output_type": "execute_result"
    }
   ],
   "source": [
    "all_times = []\n",
    "\n",
    "in_txns = 0\n",
    "txn_time, _ = time_hand.get_txn_time(receive=True, in_txns=in_txns) # первая транзакция. Входящая\n",
    "in_txns += 1\n",
    "all_times.append(txn_time)\n",
    "\n",
    "for _ in range(12): # цикл исходящих транзакций.\n",
    "    txn_time, _ = time_hand.get_txn_time(receive=False, in_txns=in_txns)\n",
    "    all_times.append(txn_time)\n",
    "    \n",
    "all_times = pd.DataFrame({\"txn_time\":all_times})\n",
    "all_times[\"time_diff\"] = all_times.txn_time - all_times.txn_time.shift(1)\n",
    "all_times"
   ]
  },
  {
   "cell_type": "markdown",
   "id": "b6c78236-201e-492e-b270-865b9b8d2880",
   "metadata": {},
   "source": [
    "<br><br>"
   ]
  },
  {
   "cell_type": "markdown",
   "id": "19a21d45-4021-4478-82dc-a032d82f6193",
   "metadata": {},
   "source": [
    "# **Управление поведением дропов**\n",
    "<br>"
   ]
  },
  {
   "cell_type": "markdown",
   "id": "4b379dde-5eb9-4135-b411-0a213481b847",
   "metadata": {},
   "source": [
    "## 1. Класс `DistBehaviorHandler`  \n",
    "- модуль `data_generator.fraud.drops.behavior`. **[Ссылка](https://github.com/iaroslav-dzh/fraud_txns_simulator/blob/main/data_generator/fraud/drops/behavior.py)** на файл в Github\n",
    "\n",
    "**Условия**\n",
    "- подразумевается, что дроп получает сумму и распределяет её до получения новой\n",
    "\n",
    "**Основной функционал**\n",
    "- управление поведением дропов распределителей\n",
    "- случайный выбор сценария распределения полученных денег - перевод всего, снятие всего, перевод частями, снятие+перевод частями - выбор сценария имеет зависимость от баланса. Например если баланс больше установленной суммы, то не может быть выбран сценарий с одной операцией.\n",
    "- случайно определять будет ли транзакция покупкой криптовалюты\n",
    "- определение кол-ва попыток совершить операцию после первой отклоненной транзакции\n",
    "- вычитание попыток когда дроп пытается совершать операции после первой отклоненной транз.\n",
    "- идентификация того нужно ли пытаться еще после последней отклоненной транзакции (это может быть первая отклоненная транз. если выпало 0 попыток)"
   ]
  },
  {
   "cell_type": "markdown",
   "id": "44ea56ff-4ab8-4167-854e-dc03c980c3f3",
   "metadata": {},
   "source": [
    "### **Демонстрация**"
   ]
  },
  {
   "cell_type": "code",
   "execution_count": 1,
   "id": "5b0c25ba-d6b7-436d-a78e-07ec52cc7e78",
   "metadata": {},
   "outputs": [],
   "source": [
    "# Временный импорт\n",
    "import os\n",
    "import yaml\n",
    "import pandas as pd\n",
    "import numpy as np\n",
    "os.chdir(\"..\")\n",
    "\n",
    "# Общие настройки\n",
    "with open(\"./config/base.yaml\") as f:\n",
    "    base_cfg = yaml.safe_load(f)\n",
    "# Настройки фрода\n",
    "with open(\"./config/fraud.yaml\") as f:\n",
    "    fraud_cfg = yaml.safe_load(f)\n",
    "# Настройки фрода для дропов\n",
    "with open(\"./config/drops.yaml\", encoding=\"utf8\") as f:\n",
    "    drops_cfg = yaml.safe_load(f)\n",
    "# Настройки времени\n",
    "with open(\"./config/time.yaml\") as f:\n",
    "    time_cfg = yaml.safe_load(f)"
   ]
  },
  {
   "cell_type": "code",
   "execution_count": 3,
   "id": "e95ac0c2-d599-4912-80a3-c7a1846469b6",
   "metadata": {},
   "outputs": [],
   "source": [
    "from data_generator.indev import DropConfigBuilder\n",
    "# from data_generator.configs import DropDistributorCfg\n",
    "from data_generator.fraud.drops.behavior import DistBehaviorHandler\n",
    "from data_generator.fraud.drops.base import DropAmountHandler\n",
    "\n",
    "drop_cfg_build = DropConfigBuilder(base_cfg=base_cfg, fraud_cfg=fraud_cfg, drop_cfg=drops_cfg)\n",
    "config3 = drop_cfg_build.build_dist_cfg()\n",
    "drop_amt1 = DropAmountHandler(configs=config3)\n",
    "dist_behav1 = DistBehaviorHandler(configs=config3, amt_hand=drop_amt1)"
   ]
  },
  {
   "cell_type": "markdown",
   "id": "c5a80071-84b9-4159-a4bd-dc03999e82e1",
   "metadata": {},
   "source": [
    "**`sample_scenario`**"
   ]
  },
  {
   "cell_type": "markdown",
   "id": "8895651e-c8f7-4d15-bcf8-a26d7bb501d6",
   "metadata": {},
   "source": [
    "`split_rate` = 0.7  \n",
    "Тест `large_balance`: баланс больше чем `DistBehaviorHandler.trf_max`"
   ]
  },
  {
   "cell_type": "code",
   "execution_count": 1242,
   "id": "8e99f5c3-de2e-4bba-8371-8e619ed0d134",
   "metadata": {},
   "outputs": [
    {
     "name": "stdout",
     "output_type": "stream",
     "text": [
      "atm+transfer prob: 0.35\n",
      "split_transfer prob: 0.35\n",
      "atm prob: 0.300\n"
     ]
    }
   ],
   "source": [
    "# Вероятности сценариев для large_balance\n",
    "split_rate = 0.7\n",
    "p_atm_and_trf = split_rate * 0.5\n",
    "p_split_trf = split_rate * 0.5\n",
    "p_atm = 1 - split_rate\n",
    "print(f\"\"\"atm+transfer prob: {p_atm_and_trf}\n",
    "split_transfer prob: {p_split_trf}\n",
    "atm prob: {p_atm:.3f}\"\"\")\n",
    "assert sum([p_atm_and_trf, p_split_trf, p_atm]) == 1"
   ]
  },
  {
   "cell_type": "code",
   "execution_count": 4,
   "id": "a7a46fff-d8e9-4110-8cdc-7ab8b5fc918f",
   "metadata": {},
   "outputs": [],
   "source": [
    "all_scens1 = []\n",
    "i = 0\n",
    "while i < 2000:\n",
    "    drop_amt1.reset_cache()\n",
    "    drop_amt1.balance = dist_behav1.trf_max + 1000\n",
    "    assert drop_amt1.balance > dist_behav1.trf_max, \"Balance is below trf_max\"\n",
    "    dist_behav1.sample_scenario()\n",
    "    # print(dist_behav1.scen)\n",
    "    all_scens1.append(dist_behav1.scen)\n",
    "    i += 1\n",
    "all_scens_ser1 = pd.Series(all_scens1)"
   ]
  },
  {
   "cell_type": "code",
   "execution_count": 5,
   "id": "d0c05bf1-c440-4709-8805-d0408042372c",
   "metadata": {},
   "outputs": [
    {
     "data": {
      "text/plain": [
       "split_transfer    0.3775\n",
       "atm+transfer      0.3270\n",
       "atm               0.2955\n",
       "Name: proportion, dtype: float64"
      ]
     },
     "execution_count": 5,
     "metadata": {},
     "output_type": "execute_result"
    }
   ],
   "source": [
    "all_scens_ser1.value_counts(normalize=True)"
   ]
  },
  {
   "cell_type": "markdown",
   "id": "1bfb33a7-3532-4732-aed8-8a3bb8b96b92",
   "metadata": {},
   "source": [
    "`split_rate` = 0.7  \n",
    "Тест `atm_eligible`: баланс больше чем `DistBehaviorHandler.atm_min`, но меньше чем `DistBehaviorHandler.trf_max`"
   ]
  },
  {
   "cell_type": "code",
   "execution_count": 1245,
   "id": "debc25e6-05c5-4e93-9f09-f6a776437289",
   "metadata": {},
   "outputs": [
    {
     "name": "stdout",
     "output_type": "stream",
     "text": [
      "atm+transfer prob: 0.35\n",
      "split_transfer prob: 0.35\n",
      "transfer prob: 0.15\n",
      "atm prob: 0.15\n"
     ]
    }
   ],
   "source": [
    "# Вероятности сценариев для atm_eligible\n",
    "split_rate = 0.7\n",
    "p_atm_and_trf = split_rate * 0.5\n",
    "p_split_trf = split_rate * 0.5\n",
    "p_trf = (1 - split_rate) * 0.5\n",
    "p_atm = (1 - split_rate) * 0.5\n",
    "print(f\"\"\"atm+transfer prob: {p_atm_and_trf}\n",
    "split_transfer prob: {p_split_trf}\n",
    "transfer prob: {round(p_trf, 3)}\n",
    "atm prob: {round(p_atm, 3)}\"\"\")\n",
    "assert sum([p_atm_and_trf, p_split_trf, p_trf, p_atm]) == 1"
   ]
  },
  {
   "cell_type": "code",
   "execution_count": 6,
   "id": "f304ac7e-282f-407d-a8c8-207917c12253",
   "metadata": {},
   "outputs": [],
   "source": [
    "all_scens2 = []\n",
    "i = 0\n",
    "while i < 2000:\n",
    "    drop_amt1.reset_cache()\n",
    "    drop_amt1.balance = dist_behav1.atm_min + 1000\n",
    "    assert drop_amt1.balance < dist_behav1.trf_max, \"Balance exceeds trf_max\"\n",
    "    dist_behav1.sample_scenario()\n",
    "    all_scens2.append(dist_behav1.scen)\n",
    "    i += 1\n",
    "all_scens_ser2 = pd.Series(all_scens2)"
   ]
  },
  {
   "cell_type": "code",
   "execution_count": 7,
   "id": "10057d4f-ba5b-47c7-a7cc-cb1c11a56466",
   "metadata": {},
   "outputs": [
    {
     "data": {
      "text/plain": [
       "atm+transfer      0.3455\n",
       "split_transfer    0.3420\n",
       "atm               0.1610\n",
       "transfer          0.1515\n",
       "Name: proportion, dtype: float64"
      ]
     },
     "execution_count": 7,
     "metadata": {},
     "output_type": "execute_result"
    }
   ],
   "source": [
    "all_scens_ser2.value_counts(normalize=True)"
   ]
  },
  {
   "cell_type": "markdown",
   "id": "809d027e-849c-412a-a24d-d9473a8dda58",
   "metadata": {},
   "source": [
    "`split_rate` = 0.7  \n",
    "Тест `split_eligible`: баланс больше чем `DistBehaviorHandler.trf_min * 2`,  \n",
    "но меньше чем `DistBehaviorHandler.atm_min` и `DistBehaviorHandler.trf_max`"
   ]
  },
  {
   "cell_type": "code",
   "execution_count": 8,
   "id": "df2988cb-726f-47dd-aa5f-3b3c362af396",
   "metadata": {},
   "outputs": [
    {
     "name": "stdout",
     "output_type": "stream",
     "text": [
      "split_transfer prob: 0.7\n",
      "transfer prob: 0.3\n"
     ]
    }
   ],
   "source": [
    "# Вероятности сценариев для split_eligible\n",
    "split_rate = 0.7\n",
    "p_split_trf = split_rate\n",
    "p_trf = 1 - split_rate\n",
    "print(f\"\"\"split_transfer prob: {p_split_trf}\n",
    "transfer prob: {round(p_trf, 3)}\"\"\")\n",
    "assert sum([p_split_trf, p_trf]) == 1"
   ]
  },
  {
   "cell_type": "code",
   "execution_count": 9,
   "id": "8c7c92d5-8b2d-41bb-adda-732e7bf28d7f",
   "metadata": {},
   "outputs": [],
   "source": [
    "all_scens3 = []\n",
    "i = 0\n",
    "while i < 3000:\n",
    "    drop_amt1.reset_cache()\n",
    "    drop_amt1.balance = dist_behav1.trf_min * 2\n",
    "    assert drop_amt1.balance < dist_behav1.atm_min, \"Balance exceeds atm_min\"\n",
    "    assert drop_amt1.balance < dist_behav1.trf_max, \"Balance exceeds trf_max\"\n",
    "    dist_behav1.sample_scenario()\n",
    "    all_scens3.append(dist_behav1.scen)\n",
    "    i += 1\n",
    "all_scens_ser3 = pd.Series(all_scens3)"
   ]
  },
  {
   "cell_type": "code",
   "execution_count": 10,
   "id": "f3e3965a-c6bf-4ab4-a001-14177f73521a",
   "metadata": {},
   "outputs": [
    {
     "data": {
      "text/plain": [
       "split_transfer    0.692333\n",
       "transfer          0.307667\n",
       "Name: proportion, dtype: float64"
      ]
     },
     "execution_count": 10,
     "metadata": {},
     "output_type": "execute_result"
    }
   ],
   "source": [
    "all_scens_ser3.value_counts(normalize=True)"
   ]
  },
  {
   "cell_type": "markdown",
   "id": "ed5e8365-39c8-4e9c-a711-226932025020",
   "metadata": {},
   "source": [
    "`split_rate` = 0.7  \n",
    "Остальные случаи. баланс меньше чем `DistBehaviorHandler.trf_min * 2`"
   ]
  },
  {
   "cell_type": "code",
   "execution_count": 1251,
   "id": "597d79b2-808c-4e71-8d8a-dcfb22aa3b9b",
   "metadata": {},
   "outputs": [],
   "source": [
    "all_scens4 = []\n",
    "i = 0\n",
    "while i < 3000:\n",
    "    drop_amt1.reset_cache()\n",
    "    drop_amt1.balance = dist_behav1.trf_min + 1000\n",
    "    assert drop_amt1.balance < dist_behav1.trf_min * 2, \"Balance exceeds the limit\"\n",
    "    dist_behav1.sample_scenario()\n",
    "    all_scens4.append(dist_behav1.scen)\n",
    "    i += 1\n",
    "all_scens_ser4 = pd.Series(all_scens4)"
   ]
  },
  {
   "cell_type": "code",
   "execution_count": 1252,
   "id": "004804fb-725a-49ea-856c-7cf1fddc532e",
   "metadata": {},
   "outputs": [
    {
     "data": {
      "text/plain": [
       "transfer    1.0\n",
       "Name: proportion, dtype: float64"
      ]
     },
     "execution_count": 1252,
     "metadata": {},
     "output_type": "execute_result"
    }
   ],
   "source": [
    "all_scens_ser4.value_counts(normalize=True)"
   ]
  },
  {
   "cell_type": "markdown",
   "id": "6b126e57-ca51-4fba-b8b6-b72896c2376f",
   "metadata": {},
   "source": [
    "**`in_chunks_val`**"
   ]
  },
  {
   "cell_type": "code",
   "execution_count": 1253,
   "id": "851b9f8a-7db1-4896-b5b2-dfbe2f5df957",
   "metadata": {},
   "outputs": [
    {
     "data": {
      "text/plain": [
       "True"
      ]
     },
     "execution_count": 1253,
     "metadata": {},
     "output_type": "execute_result"
    }
   ],
   "source": [
    "# Список сценариев\n",
    "# \"transfer\"\n",
    "# \"atm\"\n",
    "# \"atm+transfer\"\n",
    "# \"split_transfer\"\n",
    "\n",
    "dist_behav1.scen = \"split_transfer\"\n",
    "dist_behav1.in_chunks_val()\n",
    "dist_behav1.in_chunks"
   ]
  },
  {
   "cell_type": "markdown",
   "id": "649f888e-55c3-427f-9ea9-1b3a1ad5d99e",
   "metadata": {},
   "source": [
    "**`guide_scenario`**"
   ]
  },
  {
   "cell_type": "code",
   "execution_count": 1256,
   "id": "96c1ad17-cfb6-48be-be99-529bbecdab1a",
   "metadata": {},
   "outputs": [
    {
     "data": {
      "text/plain": [
       "True"
      ]
     },
     "execution_count": 1256,
     "metadata": {},
     "output_type": "execute_result"
    }
   ],
   "source": [
    "# Список сценариев\n",
    "# \"atm+transfer\"\n",
    "# \"atm\"\n",
    "# \"split_transfer\"\n",
    "# \"transfer\"\n",
    "\n",
    "dist_behav1.scen = \"transfer\"\n",
    "dist_behav1.guide_scenario()\n",
    "dist_behav1.online"
   ]
  },
  {
   "cell_type": "markdown",
   "id": "f6e2bb23-8c0a-4974-846a-6c99e1e63786",
   "metadata": {},
   "source": [
    "**`to_drop`**"
   ]
  },
  {
   "cell_type": "code",
   "execution_count": 1257,
   "id": "442e0749-5acc-45b4-929c-afbcd719b7bd",
   "metadata": {},
   "outputs": [
    {
     "name": "stdout",
     "output_type": "stream",
     "text": [
      "0.1\n"
     ]
    },
    {
     "data": {
      "text/plain": [
       "False    0.92\n",
       "True     0.08\n",
       "Name: proportion, dtype: float64"
      ]
     },
     "execution_count": 1257,
     "metadata": {},
     "output_type": "execute_result"
    }
   ],
   "source": [
    "print(dist_behav1.to_drop_rate)\n",
    "to_drop_list1 = []\n",
    "for _ in range(100):\n",
    "    to_drop_list1.append(dist_behav1.to_drop)\n",
    "to_drop_ser1 = pd.Series(to_drop_list1)\n",
    "to_drop_ser1.value_counts(normalize=True)"
   ]
  },
  {
   "cell_type": "markdown",
   "id": "bd27291e-c47a-4e1a-b832-d1527c2e325d",
   "metadata": {},
   "source": [
    "**`to_crypto`**"
   ]
  },
  {
   "cell_type": "code",
   "execution_count": 1258,
   "id": "d4185f2d-1865-4d07-9a6a-c08054d3bc4d",
   "metadata": {},
   "outputs": [
    {
     "name": "stdout",
     "output_type": "stream",
     "text": [
      "0.1\n"
     ]
    },
    {
     "data": {
      "text/plain": [
       "False    0.91\n",
       "True     0.09\n",
       "Name: proportion, dtype: float64"
      ]
     },
     "execution_count": 1258,
     "metadata": {},
     "output_type": "execute_result"
    }
   ],
   "source": [
    "dist_behav1.online = True\n",
    "print(dist_behav1.crypto_rate)\n",
    "to_drop_list2 = []\n",
    "\n",
    "for _ in range(100):\n",
    "    to_drop_list2.append(dist_behav1.to_drop)\n",
    "to_drop_ser2 = pd.Series(to_drop_list2)\n",
    "to_drop_ser2.value_counts(normalize=True)"
   ]
  },
  {
   "cell_type": "markdown",
   "id": "715e86be-6310-4d8c-a56b-d2a3dc4a2a2c",
   "metadata": {},
   "source": [
    "**`stop_after_decline`**"
   ]
  },
  {
   "cell_type": "code",
   "execution_count": 424,
   "id": "cdc58a09-76fd-4ccd-b4f7-2f726795a254",
   "metadata": {},
   "outputs": [
    {
     "data": {
      "text/plain": [
       "False"
      ]
     },
     "execution_count": 424,
     "metadata": {},
     "output_type": "execute_result"
    }
   ],
   "source": [
    "dist_behav1.attempts = 2\n",
    "dist_behav1.stop_after_decline(declined=True)"
   ]
  },
  {
   "cell_type": "markdown",
   "id": "c60ac3d1-203b-46bc-ac48-2994782aca63",
   "metadata": {},
   "source": [
    "**`reset_cache`**"
   ]
  },
  {
   "cell_type": "code",
   "execution_count": 1261,
   "id": "446904f2-b8b7-4af2-9bf4-5913858a4b0e",
   "metadata": {},
   "outputs": [
    {
     "data": {
      "text/plain": [
       "(0, None, None, None)"
      ]
     },
     "execution_count": 1261,
     "metadata": {},
     "output_type": "execute_result"
    }
   ],
   "source": [
    "dist_behav1.attempts = 3\n",
    "dist_behav1.scen = \"atm\"\n",
    "dist_behav1.online = True\n",
    "dist_behav1.in_chunks = False\n",
    "dist_behav1.reset_cache(all=True)\n",
    "dist_behav1.attempts, dist_behav1.scen, dist_behav1.online, dist_behav1.in_chunks"
   ]
  },
  {
   "cell_type": "markdown",
   "id": "64eaa02a-cd2d-4085-bbe8-41895303f9fe",
   "metadata": {},
   "source": [
    "**`attempts_after_decline`**  \n",
    "self.online = True, self.online = False"
   ]
  },
  {
   "cell_type": "code",
   "execution_count": 1264,
   "id": "945e52a8-c2aa-4d75-91af-664e64750921",
   "metadata": {},
   "outputs": [],
   "source": [
    "att_vals1 = []\n",
    "dist_behav1.online = True\n",
    "\n",
    "for _ in range(100):\n",
    "    dist_behav1.attempts_after_decline(declined=True)\n",
    "    att_vals1.append(dist_behav1.attempts)\n",
    "att_vals_ser1 = pd.Series(att_vals1)"
   ]
  },
  {
   "cell_type": "code",
   "execution_count": 1265,
   "id": "1f64eb20-fdfc-4ce2-99e3-0b2d0bc27f0d",
   "metadata": {},
   "outputs": [
    {
     "data": {
      "text/plain": [
       "min     0.00\n",
       "mean    1.94\n",
       "max     4.00\n",
       "dtype: float64"
      ]
     },
     "execution_count": 1265,
     "metadata": {},
     "output_type": "execute_result"
    }
   ],
   "source": [
    "att_vals_ser1.agg([\"min\",\"mean\", \"max\"])"
   ]
  },
  {
   "cell_type": "markdown",
   "id": "01de4895-2e77-4dde-b828-2b0edfb25a38",
   "metadata": {},
   "source": [
    "**`deduct_attempts`**"
   ]
  },
  {
   "cell_type": "code",
   "execution_count": 434,
   "id": "0beb0051-77be-4e00-a988-58f36de4211f",
   "metadata": {},
   "outputs": [
    {
     "data": {
      "text/plain": [
       "1"
      ]
     },
     "execution_count": 434,
     "metadata": {},
     "output_type": "execute_result"
    }
   ],
   "source": [
    "dist_behav1.attempts = 1\n",
    "dist_behav1.deduct_attempts(declined=True, receive=True)\n",
    "dist_behav1.attempts"
   ]
  },
  {
   "cell_type": "code",
   "execution_count": null,
   "id": "e32f2079-a46f-412c-b7c2-f2f547ea090f",
   "metadata": {},
   "outputs": [],
   "source": []
  },
  {
   "cell_type": "markdown",
   "id": "ed3be713-8ed6-42e7-943c-9dae25068e4f",
   "metadata": {},
   "source": [
    "**Расчет вероятностей сценариев в `DistBehaviorHandler`**"
   ]
  },
  {
   "cell_type": "code",
   "execution_count": null,
   "id": "1904efc4-7530-4ca5-bb54-669de7af8128",
   "metadata": {},
   "outputs": [],
   "source": [
    "# inbound_amt: \n",
    "#   low: 5000\n",
    "#   high: 100000\n",
    "#   mean: 30000\n",
    "#   std: 20000"
   ]
  },
  {
   "cell_type": "code",
   "execution_count": 308,
   "id": "1c81ad41-a44f-4d83-a0af-9d360c65513c",
   "metadata": {},
   "outputs": [],
   "source": [
    "# Баланс генерируется из обрезанного нормального распределения\n",
    "in_low1 = 5000\n",
    "in_high1 = 100000\n",
    "mean1 = 30000\n",
    "std1 = 20000\n",
    "a1 = (in_low1 - mean1) / std1\n",
    "b1 = (in_high1 - mean1) / std1\n",
    "\n",
    "split_rate = 0.7\n",
    "# Есть лимиты для сумм операций\n",
    "atm_min1 = 10000 # минимальная сумма для снятия. Частями или целиком определяется split_rate\n",
    "trf_lim = 40000 # максимальная сумма для перевода. Если больше - дробим на части\n",
    "trf_min = 3000*2 # минимальная сумма для перевода по частям. Если меньше - переводим целиком"
   ]
  },
  {
   "cell_type": "code",
   "execution_count": 309,
   "id": "7f23c923-6b11-428d-b20b-3a73893e6027",
   "metadata": {},
   "outputs": [
    {
     "data": {
      "text/plain": [
       "np.float64(0.345)"
      ]
     },
     "execution_count": 309,
     "metadata": {},
     "output_type": "execute_result"
    }
   ],
   "source": [
    "# вероятность что сумма будет больше trf_lim\n",
    "p_trf_lim = round(truncnorm(a=a1, b=b1, loc=mean1, scale=std1).sf(x=trf_lim), 3)\n",
    "p_trf_lim"
   ]
  },
  {
   "cell_type": "code",
   "execution_count": 310,
   "id": "04e15ce3-d049-4603-9a4e-ae3b7c875cb0",
   "metadata": {},
   "outputs": [
    {
     "data": {
      "text/plain": [
       "np.float64(0.596)"
      ]
     },
     "execution_count": 310,
     "metadata": {},
     "output_type": "execute_result"
    }
   ],
   "source": [
    "# Вероятность что сумма больше atm_min1 но меньше trf_lim\n",
    "p_atm_min = round(truncnorm(a=a1, b=b1, loc=mean1, scale=std1).sf(x=atm_min1) - p_trf_lim, 3)\n",
    "p_atm_min"
   ]
  },
  {
   "cell_type": "code",
   "execution_count": 311,
   "id": "e5b4c9d7-005d-455b-83c6-6bb998da5f38",
   "metadata": {},
   "outputs": [
    {
     "data": {
      "text/plain": [
       "np.float64(0.048)"
      ]
     },
     "execution_count": 311,
     "metadata": {},
     "output_type": "execute_result"
    }
   ],
   "source": [
    "# вероятность что сумма больше trf_min, но меньше trf_lim и atm_min1\n",
    "p_trf_min = round(truncnorm(a=a1, b=b1, loc=mean1, scale=std1).sf(x=trf_min) - p_trf_lim - p_atm_min, 3)\n",
    "p_trf_min"
   ]
  },
  {
   "cell_type": "code",
   "execution_count": 312,
   "id": "2f43a7d9-7b1a-4f11-801a-f64d043a1bf1",
   "metadata": {},
   "outputs": [
    {
     "data": {
      "text/plain": [
       "np.float64(0.6922999999999999)"
      ]
     },
     "execution_count": 312,
     "metadata": {},
     "output_type": "execute_result"
    }
   ],
   "source": [
    "split_rate = 0.7 # доля когда будем переводить частями\n",
    "\n",
    "(p_trf_lim + p_atm_min + p_trf_min) * split_rate"
   ]
  },
  {
   "cell_type": "code",
   "execution_count": 313,
   "id": "f4ed2841-b79d-4cfa-8bdc-e19bfca5cd9c",
   "metadata": {},
   "outputs": [
    {
     "data": {
      "text/plain": [
       "np.float64(0.6922999999999999)"
      ]
     },
     "execution_count": 313,
     "metadata": {},
     "output_type": "execute_result"
    }
   ],
   "source": [
    "round(truncnorm(a=a1, b=b1, loc=mean1, scale=std1).sf(x=trf_min), 3) * split_rate"
   ]
  },
  {
   "cell_type": "code",
   "execution_count": 315,
   "id": "e21aebcb-f010-443a-baba-26662b40ca19",
   "metadata": {},
   "outputs": [
    {
     "data": {
      "text/plain": [
       "np.float64(0.552)"
      ]
     },
     "execution_count": 315,
     "metadata": {},
     "output_type": "execute_result"
    }
   ],
   "source": [
    "\n",
    "# conditions = [\n",
    "#             (balance > self.trf_lim, [\"atm\",\"split_transfer\", \"atm+transfer\"]),\n",
    "#             (balance >= self.atm_min, [\"transfer\", \"atm\", \"split_transfer\", \"atm+transfer\"]),\n",
    "#             (balance >= self.trf_min * 2, [\"transfer\",\"split_transfer\"]),\n",
    "#             \"transfer\",\n",
    "#         ]\n",
    "# Вероятность случаев перевода частями если по условиям выше (синтаксически неправильно) и без split_rate\n",
    "p_trf_lim * 2/3 + p_atm_min * 1/2 + p_trf_min * 1/2"
   ]
  },
  {
   "cell_type": "code",
   "execution_count": 645,
   "id": "5d497ac0-6ba7-41b5-b3c1-40b347ffaa8b",
   "metadata": {},
   "outputs": [
    {
     "data": {
      "text/plain": [
       "np.float64(0.1015)"
      ]
     },
     "execution_count": 645,
     "metadata": {},
     "output_type": "execute_result"
    }
   ],
   "source": [
    "\n",
    "# conditions = [\n",
    "#             (balance > self.trf_lim, [\"atm\",\"split_transfer\", \"atm+transfer\"]),\n",
    "#             (balance >= self.atm_min, [\"transfer\", \"atm\", \"split_transfer\", \"atm+transfer\"]),\n",
    "#             (balance >= self.trf_min * 2, [\"transfer\",\"split_transfer\"]),\n",
    "#             \"transfer\",\n",
    "#         ]\n",
    "# Вероятность случаев перевода в крипту по условиям выше (синтаксически неправильно)\n",
    "crypto_rate = 0.14\n",
    "(p_trf_lim * 2/3 + p_atm_min * 3/4 + p_trf_min) * crypto_rate"
   ]
  },
  {
   "cell_type": "markdown",
   "id": "096f5dcf-6f90-4e92-97ee-8b6eed4aacd8",
   "metadata": {},
   "source": [
    "## Класс `PurchBehaviorHandler`  \n",
    "- модуль `data_generator.fraud.drops.behavior`\n",
    "- Управление поведением дропа покупателя"
   ]
  },
  {
   "cell_type": "code",
   "execution_count": null,
   "id": "6749d681-63e9-46fa-a416-4f9444c08688",
   "metadata": {},
   "outputs": [],
   "source": [
    "class PurchBehaviorHandler:\n",
    "    \"\"\"\n",
    "    Управление поведением дропа покупателя. Выбор сценария.\n",
    "    Контроль попыток после откл. транз.\n",
    "    ----------\n",
    "    Атрибуты:\n",
    "    --------\n",
    "    scen: str. Выбранный сценарий поведения. По умолчанию None.\n",
    "    amt_hand: DropAmountHandler. Управление балансом и суммами переводов.\n",
    "    amt_min: int. Мин. сумма покупки.\n",
    "    amt_max: int. Мак. сумма покупки.\n",
    "    split_rate: float. Доля случаев когда полученная сумма будет распределена по частям.\n",
    "                При условии что полученная сумма пройдет по лимитам.\n",
    "    online: bool. Какая должна быть транзакция: онлайн или оффлайн.\n",
    "            По умолчанию True. Не подразумевается оффлайна на данный момент.\n",
    "    in_chunks: bool. Использует ли дроп полученные деньги по частям. По умолчанию None.\n",
    "    attempts: int. Сколько попыток совершить операцию будет сделано \n",
    "               дропом после первой отклоненной транзакции. По умолчанию 0.\n",
    "    attempts_cfg: dict. Лимиты возможных попыток\n",
    "    \"\"\"\n",
    "\n",
    "    def __init__(self, configs: DropPurchaserCfg, amt_hand: DropAmountHandler):\n",
    "        \"\"\"\n",
    "        configs: DropPurchaserCfg. Конфиги и данные для создания дроп транзакций.\n",
    "        amt_hand: DropAmountHandler. Отсюда узнаем текущий баланс.\n",
    "        \n",
    "        \"\"\"\n",
    "        self.scen = None\n",
    "        self.amt_hand = amt_hand\n",
    "        self.amt_min = amt_hand.chunks[\"rcvd_small\"][\"min\"]\n",
    "        self.amt_max = configs.amt_max\n",
    "        self.split_rate = configs.split_rate\n",
    "        self.online = True\n",
    "        self.in_chunks = None\n",
    "        self.attempts = 0\n",
    "        self.attempts_cfg = configs.attempts\n",
    "\n",
    "\n",
    "    def sample_scenario(self):\n",
    "        \"\"\"\n",
    "        Выбор сценария поведения дропа с учётом текущего баланса \n",
    "        и актуальных лимитов.\n",
    "        \"\"\"\n",
    "        balance = self.amt_hand.balance\n",
    "        split = np.random.uniform(0,1) <= self.split_rate\n",
    "\n",
    "        # Минимальный баланс для переводов по частям будет самый маленький возможный размер чанка\n",
    "        # self.amt_min умноженный на 2\n",
    "        large_balance = balance > self.amt_max\n",
    "        split_eligible = balance >= self.amt_min * 2\n",
    "\n",
    "        # Список: (условие, возможный сценарий)\n",
    "        conditions = [\n",
    "            (large_balance, \"split_money\"),\n",
    "            (split_eligible and split, \"split_money\")\n",
    "        ]\n",
    "\n",
    "        for cond, scen in conditions:\n",
    "            if cond:\n",
    "                self.scen = scen\n",
    "                return\n",
    "        # Если ни одно из условий не сработало\n",
    "        self.scen = \"one_purchase\"\n",
    "\n",
    "\n",
    "    def in_chunks_val(self):\n",
    "        \"\"\"\n",
    "        Запись значения атрибута in_chunks в зависимости от\n",
    "        сценария.\n",
    "        \"\"\"\n",
    "        scen = self.scen\n",
    "\n",
    "        if scen == \"split_money\":\n",
    "            self.in_chunks = True\n",
    "            return\n",
    "        if scen == \"one_purchase\":\n",
    "            self.in_chunks = False\n",
    "\n",
    "\n",
    "    def stop_after_decline(self):\n",
    "        \"\"\"\n",
    "        Будет ли дроп пытаться еще после отклоненной операции\n",
    "        или остановится.\n",
    "        ---------------\n",
    "        \"\"\"\n",
    "        declined_txns = self.amt_hand.declined_txns\n",
    "\n",
    "        if declined_txns == 0:\n",
    "            return False\n",
    "        if self.attempts == 0:\n",
    "            return True\n",
    "        if self.attempts > 0:\n",
    "            return False\n",
    "\n",
    "\n",
    "    def attempts_after_decline(self):\n",
    "        \"\"\"\n",
    "        Рандомизация количества попыток дропа совершить операцию после первой\n",
    "        отклоненной транзакции.\n",
    "        Количество попыток определяется когда есть только одна отклоненная транзакция\n",
    "        на данный момент. Т.к. нужно задать число попыток только один раз.\n",
    "        \"\"\"\n",
    "        declined_txns = self.amt_hand.declined_txns\n",
    "        \n",
    "        if declined_txns != 1:\n",
    "            return\n",
    "        \n",
    "        att_min = self.attempts_cfg[\"min\"]\n",
    "        att_max = self.attempts_cfg[\"max\"]\n",
    "        self.attempts = np.random.randint(att_min, att_max + 1)\n",
    "        # print(\"attempts\", self.attempts)\n",
    "\n",
    "    \n",
    "    def deduct_attempts(self):\n",
    "        \"\"\"\n",
    "        Вычитание попытки исходящей транзакции совершенной\n",
    "        после первой отклоненной транзакции.\n",
    "        \"\"\"\n",
    "        declined_txns = self.amt_hand.declined_txns\n",
    "\n",
    "        if declined_txns <= 1:\n",
    "            return\n",
    "        if self.attempts == 0:\n",
    "            return\n",
    "        \n",
    "        # Иначе вычитаем попытку\n",
    "        self.attempts -= 1\n",
    "\n",
    "\n",
    "    def reset_cache(self, all=False):\n",
    "        \"\"\"\n",
    "        Сброс кэшированных данных\n",
    "        -------------\n",
    "        all: bool. Если False, не будут сброшены self.attempts\n",
    "        \"\"\"\n",
    "        self.scen = None\n",
    "        self.online = True\n",
    "        self.in_chunks = None\n",
    "        if not all:\n",
    "            return\n",
    "        self.attempts = 0"
   ]
  },
  {
   "cell_type": "markdown",
   "id": "aec57089-b72f-46c6-80fa-8c8aa8681ff7",
   "metadata": {},
   "source": [
    "**Тест `PurchBehaviorHandler`**"
   ]
  },
  {
   "cell_type": "code",
   "execution_count": 1,
   "id": "8ae5a990-6b0c-44e7-af2f-c58d20c1ceaa",
   "metadata": {},
   "outputs": [],
   "source": [
    "# Временный импорт\n",
    "import os\n",
    "import yaml\n",
    "import pandas as pd\n",
    "import numpy as np\n",
    "os.chdir(\"..\")\n",
    "\n",
    "# Общие настройки\n",
    "with open(\"./config/base.yaml\") as f:\n",
    "    base_cfg = yaml.safe_load(f)\n",
    "# Настройки фрода\n",
    "with open(\"./config/fraud.yaml\") as f:\n",
    "    fraud_cfg = yaml.safe_load(f)\n",
    "# Настройки фрода для дропов\n",
    "with open(\"./config/drops.yaml\", encoding=\"utf8\") as f:\n",
    "    drops_cfg = yaml.safe_load(f)\n",
    "# Настройки времени\n",
    "with open(\"./config/time.yaml\") as f:\n",
    "    time_cfg = yaml.safe_load(f)"
   ]
  },
  {
   "cell_type": "code",
   "execution_count": 2,
   "id": "e191ca7d-e560-40bc-8075-30281d3647f5",
   "metadata": {},
   "outputs": [],
   "source": [
    "from data_generator.indev import DropConfigBuilder\n",
    "from data_generator.fraud.drops.behavior import PurchBehaviorHandler\n",
    "from data_generator.fraud.drops.base import DropAmountHandler\n",
    "\n",
    "drop_cfg_build = DropConfigBuilder(base_cfg=base_cfg, fraud_cfg=fraud_cfg, drop_cfg=drops_cfg)\n",
    "configs = drop_cfg_build.build_purch_cfg()\n",
    "drop_amt1 = DropAmountHandler(configs=configs)\n",
    "purch_behav1 = PurchBehaviorHandler(configs=configs, amt_hand=drop_amt1)"
   ]
  },
  {
   "cell_type": "markdown",
   "id": "20fe5d48-a04c-4ef1-9d80-b5e7108ea2f7",
   "metadata": {},
   "source": [
    "`split_rate` = 0.7  \n",
    "Тест `large_balance`: баланс больше чем amt_max"
   ]
  },
  {
   "cell_type": "code",
   "execution_count": 3,
   "id": "aba854bf-bf2d-4e8c-a41c-2492daab3f6d",
   "metadata": {},
   "outputs": [
    {
     "data": {
      "text/plain": [
       "split_money    1.0\n",
       "Name: proportion, dtype: float64"
      ]
     },
     "execution_count": 3,
     "metadata": {},
     "output_type": "execute_result"
    }
   ],
   "source": [
    "all_scens1 = []\n",
    "i = 0\n",
    "while i < 2000:\n",
    "    drop_amt1.reset_cache()\n",
    "    drop_amt1.balance = purch_behav1.amt_max + 1000\n",
    "    assert drop_amt1.balance > purch_behav1.amt_max, \"Balance is below amt_max\"\n",
    "    purch_behav1.sample_scenario()\n",
    "    # print(purch_behav1.scen)\n",
    "    all_scens1.append(purch_behav1.scen)\n",
    "    i += 1\n",
    "all_scens_ser1 = pd.Series(all_scens1)\n",
    "\n",
    "all_scens_ser1.value_counts(normalize=True)"
   ]
  },
  {
   "cell_type": "markdown",
   "id": "e3f36c5a-d021-4331-b10c-f00f4bf2e9f0",
   "metadata": {},
   "source": [
    "`split_rate` = 0.7  \n",
    "Тест `split_eligible`: баланс больше чем `self.amt_min * 2`,  \n",
    "но меньше чем `self.amt_max`"
   ]
  },
  {
   "cell_type": "code",
   "execution_count": 5,
   "id": "a0289228-d4b5-441c-8289-e3e2b6eb49c9",
   "metadata": {},
   "outputs": [
    {
     "name": "stdout",
     "output_type": "stream",
     "text": [
      "split_money prob: 0.7\n",
      "one_purchase prob: 0.3\n"
     ]
    }
   ],
   "source": [
    "# Вероятности сценариев для split_eligible\n",
    "split_rate = 0.7\n",
    "p_split = split_rate\n",
    "p_one = 1 - split_rate\n",
    "print(f\"\"\"split_money prob: {p_split}\n",
    "one_purchase prob: {round(p_one, 3)}\"\"\")\n",
    "assert sum([p_split, p_one]) == 1"
   ]
  },
  {
   "cell_type": "code",
   "execution_count": 6,
   "id": "803e08c3-d1a3-4c6a-bdb8-4cc554d9be9d",
   "metadata": {},
   "outputs": [
    {
     "data": {
      "text/plain": [
       "split_money     0.697333\n",
       "one_purchase    0.302667\n",
       "Name: proportion, dtype: float64"
      ]
     },
     "execution_count": 6,
     "metadata": {},
     "output_type": "execute_result"
    }
   ],
   "source": [
    "all_scens3 = []\n",
    "i = 0\n",
    "while i < 3000:\n",
    "    drop_amt1.reset_cache()\n",
    "    drop_amt1.balance = purch_behav1.amt_min * 2\n",
    "    assert drop_amt1.balance < purch_behav1.amt_max, \"Balance exceeds amt_max\"\n",
    "    purch_behav1.sample_scenario()\n",
    "    all_scens3.append(purch_behav1.scen)\n",
    "    i += 1\n",
    "all_scens_ser3 = pd.Series(all_scens3)\n",
    "\n",
    "all_scens_ser3.value_counts(normalize=True)"
   ]
  },
  {
   "cell_type": "markdown",
   "id": "8e8f3bee-2dce-45cd-b67b-ffd5f76a9b32",
   "metadata": {},
   "source": [
    "`split_rate` = 0.7  \n",
    "баланс меньше чем `amt_min * 2`"
   ]
  },
  {
   "cell_type": "code",
   "execution_count": 8,
   "id": "9edf49de-561f-46a9-93ae-49edcab35655",
   "metadata": {},
   "outputs": [
    {
     "data": {
      "text/plain": [
       "one_purchase    1.0\n",
       "Name: proportion, dtype: float64"
      ]
     },
     "execution_count": 8,
     "metadata": {},
     "output_type": "execute_result"
    }
   ],
   "source": [
    "all_scens4 = []\n",
    "i = 0\n",
    "while i < 3000:\n",
    "    drop_amt1.reset_cache()\n",
    "    drop_amt1.balance = purch_behav1.amt_min + 1000\n",
    "    assert drop_amt1.balance < purch_behav1.amt_min * 2, \"Balance exceeds the limit\"\n",
    "    purch_behav1.sample_scenario()\n",
    "    all_scens4.append(purch_behav1.scen)\n",
    "    i += 1\n",
    "all_scens_ser4 = pd.Series(all_scens4)\n",
    "\n",
    "all_scens_ser4.value_counts(normalize=True)"
   ]
  },
  {
   "cell_type": "markdown",
   "id": "1e44e9a4-b1a5-46d0-ac79-7ceb3c820ef1",
   "metadata": {},
   "source": [
    "# **`in_chunks_val`**"
   ]
  },
  {
   "cell_type": "code",
   "execution_count": 4,
   "id": "c6ba60be-ba23-4779-8a05-8e63162c032b",
   "metadata": {},
   "outputs": [
    {
     "data": {
      "text/plain": [
       "False"
      ]
     },
     "execution_count": 4,
     "metadata": {},
     "output_type": "execute_result"
    }
   ],
   "source": [
    "# Список сценариев\n",
    "# \"split_money\"\n",
    "# \"one_purchase\"\n",
    "\n",
    "purch_behav1.scen = \"one_purchase\"\n",
    "purch_behav1.in_chunks_val()\n",
    "purch_behav1.in_chunks"
   ]
  },
  {
   "cell_type": "markdown",
   "id": "5353d21d-2c8a-40a1-9cd3-b41f77460711",
   "metadata": {},
   "source": [
    "**`stop_after_decline`**"
   ]
  },
  {
   "cell_type": "code",
   "execution_count": 8,
   "id": "e6c79f65-2e5c-431b-9f49-8c5322695308",
   "metadata": {},
   "outputs": [
    {
     "data": {
      "text/plain": [
       "True"
      ]
     },
     "execution_count": 8,
     "metadata": {},
     "output_type": "execute_result"
    }
   ],
   "source": [
    "purch_behav1.attempts = 0\n",
    "purch_behav1.stop_after_decline(declined=True)"
   ]
  },
  {
   "cell_type": "markdown",
   "id": "12af8edd-63a6-428e-a9fe-f132bf8b971e",
   "metadata": {},
   "source": [
    "**`reset_cache`**"
   ]
  },
  {
   "cell_type": "code",
   "execution_count": 9,
   "id": "d096a2a4-ca5a-4b50-ab69-dcfb49d35881",
   "metadata": {},
   "outputs": [
    {
     "data": {
      "text/plain": [
       "(0, None, True, None)"
      ]
     },
     "execution_count": 9,
     "metadata": {},
     "output_type": "execute_result"
    }
   ],
   "source": [
    "purch_behav1.attempts = 3\n",
    "purch_behav1.scen = \"split_money\"\n",
    "purch_behav1.online = True\n",
    "purch_behav1.in_chunks = False\n",
    "purch_behav1.reset_cache(all=True)\n",
    "purch_behav1.attempts, purch_behav1.scen, purch_behav1.online, purch_behav1.in_chunks"
   ]
  },
  {
   "cell_type": "markdown",
   "id": "01510476-1e5a-4e56-94ad-874e8e5946ac",
   "metadata": {},
   "source": [
    "**`attempts_after_decline`**  \n",
    "declined = True/False"
   ]
  },
  {
   "cell_type": "code",
   "execution_count": 3,
   "id": "c1683e5f-800a-4553-81cd-da2b836abe83",
   "metadata": {},
   "outputs": [
    {
     "data": {
      "text/plain": [
       "min     0.00\n",
       "mean    1.87\n",
       "max     4.00\n",
       "dtype: float64"
      ]
     },
     "execution_count": 3,
     "metadata": {},
     "output_type": "execute_result"
    }
   ],
   "source": [
    "att_vals1 = []\n",
    "\n",
    "for _ in range(100):\n",
    "    purch_behav1.attempts_after_decline(declined=True)\n",
    "    att_vals1.append(purch_behav1.attempts)\n",
    "att_vals_ser1 = pd.Series(att_vals1)\n",
    "\n",
    "att_vals_ser1.agg([\"min\",\"mean\", \"max\"])"
   ]
  },
  {
   "cell_type": "markdown",
   "id": "520ce9d3-e5a0-4afd-93b6-d062224a9636",
   "metadata": {},
   "source": [
    "**`deduct_attempts`**"
   ]
  },
  {
   "cell_type": "code",
   "execution_count": 6,
   "id": "ce5f6078-4bcc-444d-8741-c9a98faf8803",
   "metadata": {},
   "outputs": [
    {
     "data": {
      "text/plain": [
       "3"
      ]
     },
     "execution_count": 6,
     "metadata": {},
     "output_type": "execute_result"
    }
   ],
   "source": [
    "purch_behav1.attempts = 4\n",
    "purch_behav1.deduct_attempts(declined=True, receive=False)\n",
    "purch_behav1.attempts"
   ]
  },
  {
   "cell_type": "markdown",
   "id": "211ccbc6-9e4e-4195-82ea-e14b15a61949",
   "metadata": {},
   "source": [
    "## Конец информативной части"
   ]
  },
  {
   "cell_type": "markdown",
   "id": "e927ca5b-d562-413a-9750-46d20a4e1a18",
   "metadata": {},
   "source": [
    "# Старый код, функции и т.д."
   ]
  },
  {
   "cell_type": "code",
   "execution_count": null,
   "id": "1c1514a3-87af-43e0-97b9-00449c92ec7f",
   "metadata": {},
   "outputs": [],
   "source": []
  }
 ],
 "metadata": {
  "kernelspec": {
   "display_name": "Python (poetry-env)",
   "language": "python",
   "name": "poetry-env"
  },
  "language_info": {
   "codemirror_mode": {
    "name": "ipython",
    "version": 3
   },
   "file_extension": ".py",
   "mimetype": "text/x-python",
   "name": "python",
   "nbconvert_exporter": "python",
   "pygments_lexer": "ipython3",
   "version": "3.12.7"
  }
 },
 "nbformat": 4,
 "nbformat_minor": 5
}
