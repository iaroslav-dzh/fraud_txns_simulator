{
 "cells": [
  {
   "cell_type": "markdown",
   "id": "e46304d3-c37f-4ba8-968b-e4088ff3a17d",
   "metadata": {},
   "source": [
    "# **Дроп фрод основные инструменты**\n",
    "- **ноутбуки лучше просматривать** на Github pages, т.к. при просмотре прямо в репозитории могут быть проблемы с отображением, например, обрезка вывода с широкими датафреймами. **Если в адресной строке браузера есть** `iaroslav-dzh.github.io`, то вы уже на Github pages.  \n",
    "Ссылки:\n",
    "    -  **[Ссылка](https://iaroslav-dzh.github.io/fraud_txns_simulator/notebooks/10_%D0%94%D1%80%D0%BE%D0%BF_%D1%84%D1%80%D0%BE%D0%B4_%D0%BE%D1%81%D0%BD%D0%BE%D0%B2%D0%BD%D1%8B%D0%B5_%D0%B8%D0%BD%D1%81%D1%82%D1%80%D1%83%D0%BC%D0%B5%D0%BD%D1%82%D1%8B.ipynb.html)** на этот ноутбук\n",
    "    -  **[Ссылка](https://iaroslav-dzh.github.io/fraud_txns_simulator/02_Страница_генератора_транзакций.html)** на страницу генератора где есть все ноутбуки  \n",
    " \n",
    "**Вступление к генерации дроп фрода**  \n",
    "Это начало демонстрации генерации дроп фрода - далее будет еще 2 ноутбука о генерации дроп фрода, т.к. этот раздел получился более обширным.  \n",
    "При написании генерации дроп фрода я полностью решил перейти на классы как основу кода, вместо функций.  \n",
    "\n",
    "Дропов будет два типа: \n",
    "- распределители (distributors): поведение основано на регулярном получении денег и их распределении - перевод, снятие, покупка криптовалюты.\n",
    "- покупатели (purchasers): поведение основано на регулярном получении денег и покупке на них товаров - отмыв денег.\n",
    "\n",
    "**Информация о ноутбуке**  \n",
    "- В этом ноутбуке базовые части генерации:\n",
    "    - создание конфиг классов\n",
    "    - управление счетами\n",
    "    - генерация сумм транзакций\n",
    "    - генерация времени транзакций\n",
    "    - управление поведением дропа"
   ]
  },
  {
   "cell_type": "code",
   "execution_count": 4,
   "id": "c30e67d7-4a3c-4d29-9477-ab02b02e86fc",
   "metadata": {},
   "outputs": [],
   "source": [
    "import pandas as pd\n",
    "import numpy as np\n",
    "import os\n",
    "import pyarrow\n",
    "import yaml"
   ]
  },
  {
   "cell_type": "code",
   "execution_count": 7,
   "id": "9d87e6be-bb84-44d9-9d35-924a25f2ddca",
   "metadata": {},
   "outputs": [],
   "source": [
    "from data_generator.general_time import *\n",
    "from data_generator.utils import load_configs"
   ]
  },
  {
   "cell_type": "code",
   "execution_count": 5,
   "id": "6c6c9867-8d32-4b4d-9923-2b2f5711bfc8",
   "metadata": {},
   "outputs": [],
   "source": [
    "np.set_printoptions(suppress=True)\n",
    "pd.set_option('display.max_columns', None)"
   ]
  },
  {
   "cell_type": "code",
   "execution_count": 6,
   "id": "71fc90ba-44d1-4bc6-b2a3-edda53a9123b",
   "metadata": {},
   "outputs": [
    {
     "data": {
      "text/plain": [
       "'C:\\\\Users\\\\iaros\\\\My_documents\\\\Education\\\\projects\\\\fraud_detection_01'"
      ]
     },
     "execution_count": 6,
     "metadata": {},
     "output_type": "execute_result"
    }
   ],
   "source": [
    "os.chdir(\"..\")\n",
    "os.getcwd()"
   ]
  },
  {
   "cell_type": "code",
   "execution_count": 8,
   "id": "2596e557-1894-4125-a02a-517e01ff04ff",
   "metadata": {},
   "outputs": [],
   "source": [
    "# Базовые конфиги\n",
    "base_cfg = load_configs(\"./config/base.yaml\")\n",
    "# Настройки легальных транзакций\n",
    "legit_cfg = load_configs(\"./config/legit.yaml\")\n",
    "# Общие настройки фрода\n",
    "fraud_cfg = load_configs(\"./config/fraud.yaml\")\n",
    "# Настройки для дроп фрода\n",
    "drops_cfg = load_configs(\"./config/drops.yaml\")\n",
    "# Настройки времени\n",
    "time_cfg = load_configs(\"./config/time.yaml\") \n",
    "\n",
    "# Пути к файлам\n",
    "data_paths = base_cfg[\"data_paths\"]"
   ]
  },
  {
   "cell_type": "markdown",
   "id": "64f9f8dd-cb84-4e9e-a579-e453dd69c762",
   "metadata": {},
   "source": [
    "<br><br>"
   ]
  },
  {
   "cell_type": "markdown",
   "id": "02b70137-6561-422a-821c-df7e8dda0ce9",
   "metadata": {},
   "source": [
    "# **Создание конфиг классов с конфигами и данными для генерации**\n",
    "<br>"
   ]
  },
  {
   "cell_type": "markdown",
   "id": "dc737a7f-1650-4115-886a-683a410cb21d",
   "metadata": {},
   "source": [
    "## 1. Класс `DropConfigBuilder`\n",
    "- модуль `data_generator.fraud.drops.build.config`. **[Ссылка](https://github.com/iaroslav-dzh/fraud_txns_simulator/blob/main/data_generator/fraud/drops/build/config.py)** на файл в Github\n",
    "- \n",
    "**Условия**  \n",
    "- до этого были сгенерированы легальные и compromised client fraud транзакции\n",
    "\n",
    "**Основная логика**\n",
    "- создает объект `DropDistributorCfg` или `DropPurchaserCfg` для дропов распределителей или покупателей соотвественно\n",
    "- суть такая же как у конфиг билдеров для легальных и compromised client fraud транзакций"
   ]
  },
  {
   "cell_type": "code",
   "execution_count": 9,
   "id": "bb43b79d-7926-407a-9d48-473b756307f6",
   "metadata": {},
   "outputs": [],
   "source": [
    "# директорию текущего запуска генератора возьмем из предыдущего ноутбука. Т.к. нужны данные того, что сгенерировано до дроп фрода\n",
    "run_dir = './data/generated/history/generation_run_2025-07-25_121029'"
   ]
  },
  {
   "cell_type": "code",
   "execution_count": 11,
   "id": "e8144753-45cb-4dee-8ca0-f0870cfaa22c",
   "metadata": {},
   "outputs": [],
   "source": [
    "from data_generator.fraud.drops.build.config import DropConfigBuilder\n",
    "\n",
    "# объект самого конфиг билдера\n",
    "cfg_build = DropConfigBuilder(base_cfg=base_cfg, legit_cfg=legit_cfg, time_cfg=time_cfg, fraud_cfg=fraud_cfg, \\\n",
    "                              drop_cfg=drops_cfg, run_dir=run_dir)\n",
    "\n",
    "# Конфиг класс для дропов распределителей\n",
    "dist_configs = cfg_build.build_dist_cfg()\n",
    "# Конфиг класс для дропов покупателей\n",
    "purch_configs = cfg_build.build_purch_cfg()"
   ]
  },
  {
   "cell_type": "markdown",
   "id": "029390b6-1108-4bf7-9f61-a64024abaeea",
   "metadata": {},
   "source": [
    "### **Демонстрация**"
   ]
  },
  {
   "cell_type": "code",
   "execution_count": 12,
   "id": "8aa105c2-c9f6-43b9-afa6-5a5aa36454f6",
   "metadata": {},
   "outputs": [
    {
     "data": {
      "text/html": [
       "<div>\n",
       "<style scoped>\n",
       "    .dataframe tbody tr th:only-of-type {\n",
       "        vertical-align: middle;\n",
       "    }\n",
       "\n",
       "    .dataframe tbody tr th {\n",
       "        vertical-align: top;\n",
       "    }\n",
       "\n",
       "    .dataframe thead th {\n",
       "        text-align: right;\n",
       "    }\n",
       "</style>\n",
       "<table border=\"1\" class=\"dataframe\">\n",
       "  <thead>\n",
       "    <tr style=\"text-align: right;\">\n",
       "      <th></th>\n",
       "      <th>client_id</th>\n",
       "      <th>birth_date</th>\n",
       "      <th>sex</th>\n",
       "      <th>region</th>\n",
       "      <th>city</th>\n",
       "      <th>lat</th>\n",
       "      <th>lon</th>\n",
       "      <th>city_id</th>\n",
       "      <th>home_ip</th>\n",
       "    </tr>\n",
       "  </thead>\n",
       "  <tbody>\n",
       "    <tr>\n",
       "      <th>0</th>\n",
       "      <td>4344</td>\n",
       "      <td>1950-06-09</td>\n",
       "      <td>male</td>\n",
       "      <td>Свердловская</td>\n",
       "      <td>Екатеринбург</td>\n",
       "      <td>56.838633</td>\n",
       "      <td>60.605489</td>\n",
       "      <td>54</td>\n",
       "      <td>2.60.16.18</td>\n",
       "    </tr>\n",
       "    <tr>\n",
       "      <th>1</th>\n",
       "      <td>2692</td>\n",
       "      <td>1950-05-24</td>\n",
       "      <td>male</td>\n",
       "      <td>Ставропольский</td>\n",
       "      <td>Ставрополь</td>\n",
       "      <td>45.044544</td>\n",
       "      <td>41.969017</td>\n",
       "      <td>44</td>\n",
       "      <td>2.60.9.247</td>\n",
       "    </tr>\n",
       "  </tbody>\n",
       "</table>\n",
       "</div>"
      ],
      "text/plain": [
       "   client_id birth_date   sex          region          city        lat  \\\n",
       "0       4344 1950-06-09  male    Свердловская  Екатеринбург  56.838633   \n",
       "1       2692 1950-05-24  male  Ставропольский    Ставрополь  45.044544   \n",
       "\n",
       "         lon  city_id     home_ip  \n",
       "0  60.605489       54  2.60.16.18  \n",
       "1  41.969017       44  2.60.9.247  "
      ]
     },
     "execution_count": 12,
     "metadata": {},
     "output_type": "execute_result"
    }
   ],
   "source": [
    "# Клиенты семплированные под дропов распределителей т.е. они будут дропами\n",
    "dist_configs.clients.head(2)"
   ]
  },
  {
   "cell_type": "code",
   "execution_count": 13,
   "id": "3fd48618-bea6-44e5-ba38-41d0a0debf15",
   "metadata": {},
   "outputs": [
    {
     "data": {
      "text/html": [
       "<div>\n",
       "<style scoped>\n",
       "    .dataframe tbody tr th:only-of-type {\n",
       "        vertical-align: middle;\n",
       "    }\n",
       "\n",
       "    .dataframe tbody tr th {\n",
       "        vertical-align: top;\n",
       "    }\n",
       "\n",
       "    .dataframe thead th {\n",
       "        text-align: right;\n",
       "    }\n",
       "</style>\n",
       "<table border=\"1\" class=\"dataframe\">\n",
       "  <thead>\n",
       "    <tr style=\"text-align: right;\">\n",
       "      <th></th>\n",
       "      <th>client_id</th>\n",
       "      <th>birth_date</th>\n",
       "      <th>sex</th>\n",
       "      <th>region</th>\n",
       "      <th>city</th>\n",
       "      <th>lat</th>\n",
       "      <th>lon</th>\n",
       "      <th>city_id</th>\n",
       "      <th>home_ip</th>\n",
       "    </tr>\n",
       "  </thead>\n",
       "  <tbody>\n",
       "    <tr>\n",
       "      <th>0</th>\n",
       "      <td>901</td>\n",
       "      <td>1944-12-14</td>\n",
       "      <td>male</td>\n",
       "      <td>Смоленская</td>\n",
       "      <td>Смоленск</td>\n",
       "      <td>54.786717</td>\n",
       "      <td>31.815337</td>\n",
       "      <td>39</td>\n",
       "      <td>2.60.3.87</td>\n",
       "    </tr>\n",
       "    <tr>\n",
       "      <th>1</th>\n",
       "      <td>3839</td>\n",
       "      <td>1962-06-29</td>\n",
       "      <td>female</td>\n",
       "      <td>Ростовская</td>\n",
       "      <td>Таганрог</td>\n",
       "      <td>47.209491</td>\n",
       "      <td>38.935154</td>\n",
       "      <td>65</td>\n",
       "      <td>2.60.14.50</td>\n",
       "    </tr>\n",
       "  </tbody>\n",
       "</table>\n",
       "</div>"
      ],
      "text/plain": [
       "   client_id birth_date     sex      region      city        lat        lon  \\\n",
       "0        901 1944-12-14    male  Смоленская  Смоленск  54.786717  31.815337   \n",
       "1       3839 1962-06-29  female  Ростовская  Таганрог  47.209491  38.935154   \n",
       "\n",
       "   city_id     home_ip  \n",
       "0       39   2.60.3.87  \n",
       "1       65  2.60.14.50  "
      ]
     },
     "execution_count": 13,
     "metadata": {},
     "output_type": "execute_result"
    }
   ],
   "source": [
    "# Клиенты семплированные под дропов покупателей т.е. они будут дропами\n",
    "purch_configs.clients.head(2)"
   ]
  },
  {
   "cell_type": "code",
   "execution_count": 14,
   "id": "1bfff7df-35a6-4226-9c25-8cb8aba647ec",
   "metadata": {},
   "outputs": [
    {
     "data": {
      "text/html": [
       "<div>\n",
       "<style scoped>\n",
       "    .dataframe tbody tr th:only-of-type {\n",
       "        vertical-align: middle;\n",
       "    }\n",
       "\n",
       "    .dataframe tbody tr th {\n",
       "        vertical-align: top;\n",
       "    }\n",
       "\n",
       "    .dataframe thead th {\n",
       "        text-align: right;\n",
       "    }\n",
       "</style>\n",
       "<table border=\"1\" class=\"dataframe\">\n",
       "  <thead>\n",
       "    <tr style=\"text-align: right;\">\n",
       "      <th></th>\n",
       "      <th>client_id</th>\n",
       "      <th>account_id</th>\n",
       "      <th>is_drop</th>\n",
       "    </tr>\n",
       "  </thead>\n",
       "  <tbody>\n",
       "    <tr>\n",
       "      <th>0</th>\n",
       "      <td>1</td>\n",
       "      <td>10000</td>\n",
       "      <td>False</td>\n",
       "    </tr>\n",
       "    <tr>\n",
       "      <th>1</th>\n",
       "      <td>2</td>\n",
       "      <td>10001</td>\n",
       "      <td>False</td>\n",
       "    </tr>\n",
       "  </tbody>\n",
       "</table>\n",
       "</div>"
      ],
      "text/plain": [
       "   client_id  account_id  is_drop\n",
       "0          1       10000    False\n",
       "1          2       10001    False"
      ]
     },
     "execution_count": 14,
     "metadata": {},
     "output_type": "execute_result"
    }
   ],
   "source": [
    "# таблица со счетами клиентов и информацией о том дропы ли они.\n",
    "# клиент помечается как дроп только когда непосредственно идет генерация его активности\n",
    "dist_configs.accounts.head(2)"
   ]
  },
  {
   "cell_type": "markdown",
   "id": "0b3b0dd9-e33e-4f42-a892-1baeb8ebfebc",
   "metadata": {},
   "source": [
    "<br><br>"
   ]
  },
  {
   "cell_type": "markdown",
   "id": "8e5cabc7-a342-4f02-8cc8-b7b45d31ba6c",
   "metadata": {},
   "source": [
    "# **Управление счетами транзакций. Генерация сумм транзакций и времени**\n",
    "<br>"
   ]
  },
  {
   "attachments": {},
   "cell_type": "markdown",
   "id": "9ddb6614-929c-4818-b90c-17786109d3c3",
   "metadata": {},
   "source": [
    "## 1. Класс `DropAccountHandler`\n",
    "- модуль `data_generator.fraud.drops.base`. **[Ссылка](https://github.com/iaroslav-dzh/fraud_txns_simulator/blob/main/data_generator/fraud/drops/base.py)** на файл в Github \n",
    "- Управление счетами переводов, статусами дропов в таблице accounts\n",
    "\n",
    "**Основной функционал**\n",
    "- запись номера счета текущего дропа в атрибут `account`\n",
    "- случайный выбор счета для исходящего перевода если это дроп распределитель\n",
    "- пометка текущего клиента, как дропа в таблице `accounts`"
   ]
  },
  {
   "cell_type": "markdown",
   "id": "aa005fb3-1eb5-4829-b1f5-ba5b8dc151e7",
   "metadata": {},
   "source": [
    "### **Демонстрация**"
   ]
  },
  {
   "cell_type": "code",
   "execution_count": 16,
   "id": "b72a9f22-a462-48a5-add0-58f66fed9515",
   "metadata": {},
   "outputs": [],
   "source": [
    "from data_generator.fraud.drops.base import DropAccountHandler\n",
    "\n",
    "acc_hand = DropAccountHandler(configs=dist_configs)\n",
    "# DropAccountHandler нуждается в передаче ему client_id, чтобы знать чей счет искать если нужен счет самого дропа \n",
    "# и чей счет исключить если это счет под исходящюю транзакцию\n",
    "acc_hand.client_id = 1"
   ]
  },
  {
   "cell_type": "markdown",
   "id": "b2eb3cb8-7b83-4eae-8407-e97b25f78d02",
   "metadata": {},
   "source": [
    "Найти и записать счет текущего клиента в атрибут account"
   ]
  },
  {
   "cell_type": "code",
   "execution_count": 19,
   "id": "aa8318ef-b7e8-4790-9bc4-f00d028b19bc",
   "metadata": {},
   "outputs": [
    {
     "data": {
      "text/plain": [
       "np.int64(10000)"
      ]
     },
     "execution_count": 19,
     "metadata": {},
     "output_type": "execute_result"
    }
   ],
   "source": [
    "acc_hand.get_account(own=True)\n",
    "acc_hand.account"
   ]
  },
  {
   "cell_type": "markdown",
   "id": "f072d0e6-cb35-456b-af41-67769e45a001",
   "metadata": {},
   "source": [
    "Выбрать случайный счет под исходящий перевод"
   ]
  },
  {
   "cell_type": "code",
   "execution_count": 18,
   "id": "7b2f697c-1a71-4ea8-a75a-f3d8ac10e9b2",
   "metadata": {},
   "outputs": [
    {
     "data": {
      "text/plain": [
       "np.int64(23260)"
      ]
     },
     "execution_count": 18,
     "metadata": {},
     "output_type": "execute_result"
    }
   ],
   "source": [
    "acc_hand.get_account()"
   ]
  },
  {
   "cell_type": "markdown",
   "id": "04986e13-913e-4092-9c0e-0b42b8f0a23d",
   "metadata": {},
   "source": [
    "Пометить текущего клиента, как дропа"
   ]
  },
  {
   "cell_type": "code",
   "execution_count": 20,
   "id": "5d9327d1-fafd-45d9-9419-f7812499d3aa",
   "metadata": {},
   "outputs": [
    {
     "data": {
      "text/html": [
       "<div>\n",
       "<style scoped>\n",
       "    .dataframe tbody tr th:only-of-type {\n",
       "        vertical-align: middle;\n",
       "    }\n",
       "\n",
       "    .dataframe tbody tr th {\n",
       "        vertical-align: top;\n",
       "    }\n",
       "\n",
       "    .dataframe thead th {\n",
       "        text-align: right;\n",
       "    }\n",
       "</style>\n",
       "<table border=\"1\" class=\"dataframe\">\n",
       "  <thead>\n",
       "    <tr style=\"text-align: right;\">\n",
       "      <th></th>\n",
       "      <th>client_id</th>\n",
       "      <th>account_id</th>\n",
       "      <th>is_drop</th>\n",
       "    </tr>\n",
       "  </thead>\n",
       "  <tbody>\n",
       "    <tr>\n",
       "      <th>0</th>\n",
       "      <td>1</td>\n",
       "      <td>10000</td>\n",
       "      <td>False</td>\n",
       "    </tr>\n",
       "  </tbody>\n",
       "</table>\n",
       "</div>"
      ],
      "text/plain": [
       "   client_id  account_id  is_drop\n",
       "0          1       10000    False"
      ]
     },
     "execution_count": 20,
     "metadata": {},
     "output_type": "execute_result"
    }
   ],
   "source": [
    "# смотрим до вызова метода. Клиент не помечен как дроп: is_drop = False\n",
    "accounts = acc_hand.accounts\n",
    "own_id = acc_hand.client_id\n",
    "accounts.query(\"client_id == @own_id\")"
   ]
  },
  {
   "cell_type": "code",
   "execution_count": 21,
   "id": "4f28cf59-94f0-4338-a623-7f9712b264f9",
   "metadata": {},
   "outputs": [
    {
     "data": {
      "text/html": [
       "<div>\n",
       "<style scoped>\n",
       "    .dataframe tbody tr th:only-of-type {\n",
       "        vertical-align: middle;\n",
       "    }\n",
       "\n",
       "    .dataframe tbody tr th {\n",
       "        vertical-align: top;\n",
       "    }\n",
       "\n",
       "    .dataframe thead th {\n",
       "        text-align: right;\n",
       "    }\n",
       "</style>\n",
       "<table border=\"1\" class=\"dataframe\">\n",
       "  <thead>\n",
       "    <tr style=\"text-align: right;\">\n",
       "      <th></th>\n",
       "      <th>client_id</th>\n",
       "      <th>account_id</th>\n",
       "      <th>is_drop</th>\n",
       "    </tr>\n",
       "  </thead>\n",
       "  <tbody>\n",
       "    <tr>\n",
       "      <th>0</th>\n",
       "      <td>1</td>\n",
       "      <td>10000</td>\n",
       "      <td>True</td>\n",
       "    </tr>\n",
       "  </tbody>\n",
       "</table>\n",
       "</div>"
      ],
      "text/plain": [
       "   client_id  account_id  is_drop\n",
       "0          1       10000     True"
      ]
     },
     "execution_count": 21,
     "metadata": {},
     "output_type": "execute_result"
    }
   ],
   "source": [
    "# Отмечаем клиента как дропа\n",
    "acc_hand.label_drop()\n",
    "\n",
    "# Снова смотрим на него в accounts\n",
    "accounts.query(\"client_id == @own_id\")"
   ]
  },
  {
   "cell_type": "markdown",
   "id": "18d9e273-9a48-4eff-bce7-48965cf5454c",
   "metadata": {},
   "source": [
    "<br>"
   ]
  },
  {
   "cell_type": "markdown",
   "id": "50d8d7cd-89a2-49a0-adef-3c5e5fb0ab3e",
   "metadata": {},
   "source": [
    "## 2. Класс `DropAmountHandler`\n",
    "- модуль `data_generator.fraud.drops.base`. **[Ссылка](https://github.com/iaroslav-dzh/fraud_txns_simulator/blob/main/data_generator/fraud/drops/base.py)** на файл в Github\n",
    "\n",
    "**Основной функционал**\n",
    "- генерация сумм транзакций: вх./исх. переводов, снятий, покупок:\n",
    "    - генерирует сумму в соответствии с конфигами в `drops.yaml` и в соответствии с переданными аргументами, например:\n",
    "        - генерация сумм для переводов, снятий или покупок частями - в соответствии с лимитами в конфиге `drops.yaml`\n",
    "        - генерация сумм для перевода всего баланса\n",
    "        - уменьшение суммы следующего перевода если текущий перевод отклонен\n",
    "- управление балансом текущего дропа:\n",
    "    - начисление при успешной входящей транзакции\n",
    "    - списание при успешной исх. транз-ции - перевод, снятие, покупка.\n",
    "    - неизменение баланса если вх./исх. транз-ция отклонена "
   ]
  },
  {
   "cell_type": "markdown",
   "id": "875e6b2e-9908-4310-8e40-7e4865122b2e",
   "metadata": {},
   "source": [
    "### **Демонстрация**"
   ]
  },
  {
   "cell_type": "code",
   "execution_count": 22,
   "id": "6d2c3ceb-e3e8-477b-a3f7-f02995bb270b",
   "metadata": {},
   "outputs": [],
   "source": [
    "from data_generator.fraud.drops.base import DropAmountHandler\n",
    "\n",
    "amt_hand = DropAmountHandler(configs=dist_configs)"
   ]
  },
  {
   "cell_type": "markdown",
   "id": "0c5b2e6a-0284-4aa6-947f-f784cb5730c4",
   "metadata": {},
   "source": [
    "**Метод `receive`**\n",
    "- генерация суммы входящего перевода\n",
    "- изменение баланса на сумму перевода если транз. не отклонена"
   ]
  },
  {
   "cell_type": "code",
   "execution_count": 25,
   "id": "4080b402-f487-4ca2-9e84-af9ee640ad91",
   "metadata": {},
   "outputs": [
    {
     "data": {
      "text/plain": [
       "0"
      ]
     },
     "execution_count": 25,
     "metadata": {},
     "output_type": "execute_result"
    }
   ],
   "source": [
    "# текущий баланс\n",
    "amt_hand.balance"
   ]
  },
  {
   "cell_type": "code",
   "execution_count": 27,
   "id": "bb326e2d-63fc-4ea1-a089-0a4ce5e343cb",
   "metadata": {},
   "outputs": [
    {
     "data": {
      "text/plain": [
       "np.float64(30700.0)"
      ]
     },
     "execution_count": 27,
     "metadata": {},
     "output_type": "execute_result"
    }
   ],
   "source": [
    "# сумма вх. перевода. Успешная транз\n",
    "amt_hand.receive(declined=False)"
   ]
  },
  {
   "cell_type": "code",
   "execution_count": 28,
   "id": "d52618f1-fb13-4d50-85ff-426c00b8a347",
   "metadata": {},
   "outputs": [
    {
     "data": {
      "text/plain": [
       "np.float64(30700.0)"
      ]
     },
     "execution_count": 28,
     "metadata": {},
     "output_type": "execute_result"
    }
   ],
   "source": [
    "# Баланс\n",
    "amt_hand.balance"
   ]
  },
  {
   "cell_type": "code",
   "execution_count": 29,
   "id": "cac6fef0-87c9-4b3e-a6bb-65ae34b3a73c",
   "metadata": {},
   "outputs": [
    {
     "data": {
      "text/plain": [
       "np.float64(34300.0)"
      ]
     },
     "execution_count": 29,
     "metadata": {},
     "output_type": "execute_result"
    }
   ],
   "source": [
    "# сумма вх. перевода. Отклоненная транз\n",
    "amt_hand.receive(declined=True)"
   ]
  },
  {
   "cell_type": "code",
   "execution_count": 30,
   "id": "b65aacca-0fe8-4460-ad11-60910df8e061",
   "metadata": {},
   "outputs": [
    {
     "data": {
      "text/plain": [
       "np.float64(30700.0)"
      ]
     },
     "execution_count": 30,
     "metadata": {},
     "output_type": "execute_result"
    }
   ],
   "source": [
    "# Баланс\n",
    "amt_hand.balance"
   ]
  },
  {
   "cell_type": "markdown",
   "id": "a997a601-a9aa-44c8-9c43-8850c62add2b",
   "metadata": {},
   "source": [
    "**Метод `one_operation`**\n",
    "- объединяет в себе несколько методов. Является конечным методом для генерации суммы транзакции и обновления баланса\n",
    "- возвращает сумму транзакции"
   ]
  },
  {
   "cell_type": "code",
   "execution_count": 31,
   "id": "1438c1b4-a060-4aa2-8831-f6ae5c23cb99",
   "metadata": {},
   "outputs": [
    {
     "data": {
      "text/plain": [
       "np.float64(30700.0)"
      ]
     },
     "execution_count": 31,
     "metadata": {},
     "output_type": "execute_result"
    }
   ],
   "source": [
    "# Баланс\n",
    "amt_hand.balance"
   ]
  },
  {
   "cell_type": "code",
   "execution_count": 32,
   "id": "7411d36f-0aed-4210-a9cf-5e30ea6d1b1a",
   "metadata": {},
   "outputs": [
    {
     "data": {
      "text/plain": [
       "np.float64(20000.0)"
      ]
     },
     "execution_count": 32,
     "metadata": {},
     "output_type": "execute_result"
    }
   ],
   "source": [
    "# Например текущая транзакция онлайн, она не отклонена и нужно перевести только часть баланса\n",
    "amt_hand.one_operation(online=True, declined=False, in_chunks=True)"
   ]
  },
  {
   "cell_type": "code",
   "execution_count": 33,
   "id": "4f683dfd-0f49-4d20-b397-404f20a91ee3",
   "metadata": {},
   "outputs": [
    {
     "data": {
      "text/plain": [
       "np.float64(10700.0)"
      ]
     },
     "execution_count": 33,
     "metadata": {},
     "output_type": "execute_result"
    }
   ],
   "source": [
    "amt_hand.balance"
   ]
  },
  {
   "cell_type": "markdown",
   "id": "7993afe4-0908-47ef-87e6-556c3e3c457c",
   "metadata": {},
   "source": [
    "**Пример с уменьшением суммы если транзакция отклонена**\n",
    "- каждая сумма будет меньше предыдущей, но не меньше минимального значения, которые выставлено в конфигах `drops.yaml`"
   ]
  },
  {
   "cell_type": "code",
   "execution_count": 42,
   "id": "fef049d4-eb3e-4de0-b49f-c5bb4d0c8232",
   "metadata": {},
   "outputs": [
    {
     "name": "stdout",
     "output_type": "stream",
     "text": [
      "Баланс перед запуском цикла: 47000\n",
      "Итоговый баланс: 47000\n",
      "Все созданные суммы: [24000, 18000, 12000, 6000, 3000]\n"
     ]
    }
   ],
   "source": [
    "amt_hand.reset_cache(all=True)\n",
    "amt_hand.balance = 47000\n",
    "print(f\"Баланс перед запуском цикла: {amt_hand.balance}\")\n",
    "\n",
    "all_ops = []\n",
    "while True:\n",
    "    one_op = int(amt_hand.one_operation(online=True, declined=True, in_chunks=True))\n",
    "    \n",
    "    all_ops.append(one_op)\n",
    "    if len(all_ops) == 5:\n",
    "        break\n",
    "print(f\"\"\"Итоговый баланс: {amt_hand.balance}\n",
    "Все созданные суммы: {all_ops}\"\"\")"
   ]
  },
  {
   "cell_type": "markdown",
   "id": "cdf5a3a8-bef1-4014-8d2f-e3c028967092",
   "metadata": {},
   "source": [
    "<br>"
   ]
  },
  {
   "cell_type": "markdown",
   "id": "01b32401-cd2e-45b8-abb0-6be9fb68197c",
   "metadata": {},
   "source": [
    "## 3. Класс `DropTimeHandler`\n",
    "- модуль `data_generator.fraud.drops.time`. **[Ссылка](https://github.com/iaroslav-dzh/fraud_txns_simulator/blob/main/data_generator/fraud/drops/time.py)** на файл в Github\n",
    "\n",
    "**Основной функционал**\n",
    "- управление временем транзакций дропа. Генерация времени  \n",
    "\n",
    "**Основная логика**\n",
    "1. время первой транзакции берется случайно из диапазона timestamp-ов\n",
    "2. создает время транзакций в соответсвии с лимитами активности для дропов выставленных в `drops.yaml`\n",
    "3. есть лимит на входящие транзакции и исходящие в периоде активности\n",
    "4. период активности это когда дроп \"работает\" с деньгами - переводит, снимает, покупает.\n",
    "5. период измеряется по кол-ву сделанных транзакций. Если достигнут какой-то из лимитов - входящие/исходящие - то дроп берет паузу в активности на период установленный в конфигах и +/- случайную дельту времени установленную также в конфигах. Пауза считается от первой транзакции в периоде, например новый период дроп перевел деньги в 12:00, и достиг лимита на исх. операции в текущем периоде. Берется время 12:00 и к нему прибавляется указанный лаг по времени, например 24 часа, и случайная положительная или отрицательная дельта, например -1 час. То есть дроп возобновляет активность в 12:00 + 24 часа + (-1) час = 11:00 следующего дня. Это будет транзакция уже нового периода активности.\n",
    "6. если лимит не достигнут то время текущей транзакции также основывается на времени предыдущей: прибавляется случайная положительная дельта времени."
   ]
  },
  {
   "cell_type": "markdown",
   "id": "ae1c5eff-2fd0-4b61-b3f7-ca4efe527087",
   "metadata": {},
   "source": [
    "### **Демонстрация**"
   ]
  },
  {
   "cell_type": "code",
   "execution_count": 49,
   "id": "a48fdfb8-849e-43cc-8946-82a8d4ca09cc",
   "metadata": {},
   "outputs": [],
   "source": [
    "from data_generator.fraud.drops.time import DropTimeHandler\n",
    "\n",
    "time_hand = DropTimeHandler(configs=dist_configs)"
   ]
  },
  {
   "cell_type": "markdown",
   "id": "f0465a9d-5834-402a-8c5e-9b3ab7c87515",
   "metadata": {},
   "source": [
    "**Метод `get_txn_time`**\n",
    "- основной метод класса. Генерирует время для вх. и исх. транз-ций\n",
    "- внизу будет симулирована генерация под активность дропа. Так время ведет себя и при полноценной генерации активности дропа\n",
    "- можно заметить что время между транзакциями `time_diff` периодами составляет не более 3-х часов и потом следует продолжительный перерыв в 15+ часов. Это и есть перерыв между периодами активности дропа. Условно, дроп \"работает\" какое-то время и уходит на долгий перерыв."
   ]
  },
  {
   "cell_type": "code",
   "execution_count": 50,
   "id": "3fdc5c66-71a6-45ba-bb55-87950938824c",
   "metadata": {},
   "outputs": [
    {
     "data": {
      "text/html": [
       "<div>\n",
       "<style scoped>\n",
       "    .dataframe tbody tr th:only-of-type {\n",
       "        vertical-align: middle;\n",
       "    }\n",
       "\n",
       "    .dataframe tbody tr th {\n",
       "        vertical-align: top;\n",
       "    }\n",
       "\n",
       "    .dataframe thead th {\n",
       "        text-align: right;\n",
       "    }\n",
       "</style>\n",
       "<table border=\"1\" class=\"dataframe\">\n",
       "  <thead>\n",
       "    <tr style=\"text-align: right;\">\n",
       "      <th></th>\n",
       "      <th>txn_time</th>\n",
       "      <th>time_diff</th>\n",
       "    </tr>\n",
       "  </thead>\n",
       "  <tbody>\n",
       "    <tr>\n",
       "      <th>0</th>\n",
       "      <td>2025-01-14 09:27:00</td>\n",
       "      <td>NaT</td>\n",
       "    </tr>\n",
       "    <tr>\n",
       "      <th>1</th>\n",
       "      <td>2025-01-14 10:35:00</td>\n",
       "      <td>0 days 01:08:00</td>\n",
       "    </tr>\n",
       "    <tr>\n",
       "      <th>2</th>\n",
       "      <td>2025-01-14 12:17:00</td>\n",
       "      <td>0 days 01:42:00</td>\n",
       "    </tr>\n",
       "    <tr>\n",
       "      <th>3</th>\n",
       "      <td>2025-01-14 13:11:00</td>\n",
       "      <td>0 days 00:54:00</td>\n",
       "    </tr>\n",
       "    <tr>\n",
       "      <th>4</th>\n",
       "      <td>2025-01-14 16:10:00</td>\n",
       "      <td>0 days 02:59:00</td>\n",
       "    </tr>\n",
       "    <tr>\n",
       "      <th>5</th>\n",
       "      <td>2025-01-14 18:55:00</td>\n",
       "      <td>0 days 02:45:00</td>\n",
       "    </tr>\n",
       "    <tr>\n",
       "      <th>6</th>\n",
       "      <td>2025-01-15 10:22:00</td>\n",
       "      <td>0 days 15:27:00</td>\n",
       "    </tr>\n",
       "    <tr>\n",
       "      <th>7</th>\n",
       "      <td>2025-01-15 11:52:00</td>\n",
       "      <td>0 days 01:30:00</td>\n",
       "    </tr>\n",
       "    <tr>\n",
       "      <th>8</th>\n",
       "      <td>2025-01-15 13:15:00</td>\n",
       "      <td>0 days 01:23:00</td>\n",
       "    </tr>\n",
       "    <tr>\n",
       "      <th>9</th>\n",
       "      <td>2025-01-15 15:02:00</td>\n",
       "      <td>0 days 01:47:00</td>\n",
       "    </tr>\n",
       "    <tr>\n",
       "      <th>10</th>\n",
       "      <td>2025-01-15 16:58:00</td>\n",
       "      <td>0 days 01:56:00</td>\n",
       "    </tr>\n",
       "    <tr>\n",
       "      <th>11</th>\n",
       "      <td>2025-01-16 09:02:00</td>\n",
       "      <td>0 days 16:04:00</td>\n",
       "    </tr>\n",
       "    <tr>\n",
       "      <th>12</th>\n",
       "      <td>2025-01-16 10:37:00</td>\n",
       "      <td>0 days 01:35:00</td>\n",
       "    </tr>\n",
       "  </tbody>\n",
       "</table>\n",
       "</div>"
      ],
      "text/plain": [
       "              txn_time       time_diff\n",
       "0  2025-01-14 09:27:00             NaT\n",
       "1  2025-01-14 10:35:00 0 days 01:08:00\n",
       "2  2025-01-14 12:17:00 0 days 01:42:00\n",
       "3  2025-01-14 13:11:00 0 days 00:54:00\n",
       "4  2025-01-14 16:10:00 0 days 02:59:00\n",
       "5  2025-01-14 18:55:00 0 days 02:45:00\n",
       "6  2025-01-15 10:22:00 0 days 15:27:00\n",
       "7  2025-01-15 11:52:00 0 days 01:30:00\n",
       "8  2025-01-15 13:15:00 0 days 01:23:00\n",
       "9  2025-01-15 15:02:00 0 days 01:47:00\n",
       "10 2025-01-15 16:58:00 0 days 01:56:00\n",
       "11 2025-01-16 09:02:00 0 days 16:04:00\n",
       "12 2025-01-16 10:37:00 0 days 01:35:00"
      ]
     },
     "execution_count": 50,
     "metadata": {},
     "output_type": "execute_result"
    }
   ],
   "source": [
    "all_times = []\n",
    "\n",
    "in_txns = 0\n",
    "txn_time, _ = time_hand.get_txn_time(receive=True, in_txns=in_txns) # первая транзакция. Входящая\n",
    "in_txns += 1\n",
    "all_times.append(txn_time)\n",
    "\n",
    "for _ in range(12): # цикл исходящих транзакций.\n",
    "    txn_time, _ = time_hand.get_txn_time(receive=False, in_txns=in_txns)\n",
    "    all_times.append(txn_time)\n",
    "    \n",
    "all_times = pd.DataFrame({\"txn_time\":all_times})\n",
    "all_times[\"time_diff\"] = all_times.txn_time - all_times.txn_time.shift(1)\n",
    "all_times"
   ]
  },
  {
   "cell_type": "markdown",
   "id": "b6c78236-201e-492e-b270-865b9b8d2880",
   "metadata": {},
   "source": [
    "<br><br>"
   ]
  },
  {
   "cell_type": "markdown",
   "id": "19a21d45-4021-4478-82dc-a032d82f6193",
   "metadata": {},
   "source": [
    "# **Управление поведением дропов**\n",
    "<br>"
   ]
  },
  {
   "cell_type": "markdown",
   "id": "4b379dde-5eb9-4135-b411-0a213481b847",
   "metadata": {},
   "source": [
    "## 1. Класс `DistBehaviorHandler`  \n",
    "- модуль `data_generator.fraud.drops.behavior`. **[Ссылка](https://github.com/iaroslav-dzh/fraud_txns_simulator/blob/main/data_generator/fraud/drops/behavior.py)** на файл в Github\n",
    "\n",
    "**Условия**\n",
    "- подразумевается, что дроп получает сумму и распределяет её до получения новой\n",
    "\n",
    "**Основной функционал**\n",
    "- управление поведением дропов распределителей\n",
    "- случайный выбор сценария распределения полученных денег - перевод всего, снятие всего, перевод частями, снятие+перевод частями - выбор сценария имеет зависимость от баланса. Например если баланс больше установленной суммы, то не может быть выбран сценарий с одним переводом всей суммы на балансе.\n",
    "- случайно определять будет ли транзакция покупкой криптовалюты\n",
    "- случайно определять будет ли перевод другому дропу внутри банка - итоговый перевод зависит от кол-ва существующих дропов на момент создания транзакции\n",
    "- определение кол-ва попыток совершить операцию после первой отклоненной транзакции\n",
    "- вычитание попыток когда дроп пытается совершать операции после первой отклоненной транз.\n",
    "- идентификация того нужно ли пытаться еще после последней отклоненной транзакции (это может быть первая отклоненная транз. если выпало 0 попыток)"
   ]
  },
  {
   "cell_type": "markdown",
   "id": "44ea56ff-4ab8-4167-854e-dc03c980c3f3",
   "metadata": {},
   "source": [
    "### **Демонстрация**"
   ]
  },
  {
   "cell_type": "code",
   "execution_count": 51,
   "id": "e95ac0c2-d599-4912-80a3-c7a1846469b6",
   "metadata": {},
   "outputs": [],
   "source": [
    "from data_generator.fraud.drops.behavior import DistBehaviorHandler\n",
    "from data_generator.fraud.drops.base import DropAmountHandler\n",
    "\n",
    "amt_hand = DropAmountHandler(configs=dist_configs)\n",
    "dist_behav = DistBehaviorHandler(configs=dist_configs, amt_hand=amt_hand)"
   ]
  },
  {
   "cell_type": "markdown",
   "id": "c5a80071-84b9-4159-a4bd-dc03999e82e1",
   "metadata": {},
   "source": [
    "**Метод `sample_scenario`**\n",
    "- случайный выбор сценария\n",
    "- всего есть 4 сценария:\n",
    "    - `split_transfer` - перевод полученной суммы по частям - возможны случаи покупки криптовалюты вместо переводов (это перевод на криптобиржу)\n",
    "    - `atm+transfer` - снятие случайной доли суммы и перевод остального по частям - тоже возможна криптовалюта\n",
    "    - `transfer` - перевод всей суммы баланса либо покупка криптовалюты на всю сумму\n",
    "    - `atm`- снятие все суммы баланса  \n",
    "\n",
    "  \n",
    "Доступные варианты сценариев зависят от величины баланса и лимитов по суммам операций выставленных в конфиг файле `drops.yaml`\n",
    "- зависимость от лимитов:\n",
    "    -  `trf_max` - максимальная сумма одного перевода. Если на балансе больше этой суммы, то доступны только варианты: `split_transfer`, `atm+transfer`,`atm`\n",
    "    -  `atm_min` - минимальная сумма для снятия. Если баланс больше и равен этому лимиту, но меньше `trf_max`, то доступны варианты: `split_transfer`, `atm+transfer`,`atm`,`transfer`\n",
    "    -  `trf_min` - минимальная сумма одного перевода. Если баланс равен или больше `trf_min * 2`, но меньше `atm_min` то доступны сценарии: `split_transfer`, `transfer`\n",
    "    -  если баланс меньше `trf_min * 2`, то доступен только `transfer`"
   ]
  },
  {
   "cell_type": "markdown",
   "id": "9c851af5-4d3b-4886-a1e7-f0192ac22115",
   "metadata": {},
   "source": [
    "**Пример №1**\n",
    "- баланс **больше** `trf_max`\n",
    "- демонстрация долей выпадающих сценариев"
   ]
  },
  {
   "cell_type": "code",
   "execution_count": 53,
   "id": "a7a46fff-d8e9-4110-8cdc-7ab8b5fc918f",
   "metadata": {},
   "outputs": [
    {
     "data": {
      "text/plain": [
       "split_transfer    0.3475\n",
       "atm+transfer      0.3430\n",
       "atm               0.3095\n",
       "Name: proportion, dtype: float64"
      ]
     },
     "execution_count": 53,
     "metadata": {},
     "output_type": "execute_result"
    }
   ],
   "source": [
    "all_scens = [] # Все случаи выбора сценария\n",
    "i = 0\n",
    "while i < 2000:\n",
    "    amt_hand.reset_cache()\n",
    "    amt_hand.balance = dist_behav.trf_max + 1000\n",
    "    assert amt_hand.balance > dist_behav.trf_max, \"Balance is below trf_max\"\n",
    "    dist_behav.sample_scenario()\n",
    "    all_scens.append(dist_behav.scen)\n",
    "    i += 1\n",
    "all_scens_ser = pd.Series(all_scens)\n",
    "all_scens_ser.value_counts(normalize=True)"
   ]
  },
  {
   "cell_type": "markdown",
   "id": "4053f7d4-b84f-4f78-abc1-30f519145064",
   "metadata": {},
   "source": [
    "**Пример №2**\n",
    "- баланс **меньше** `trf_max`, но больше `atm_min`\n",
    "- демонстрация долей выпадающих сценариев"
   ]
  },
  {
   "cell_type": "code",
   "execution_count": 54,
   "id": "96a52aee-9863-4d3c-8943-c7d31b9e1436",
   "metadata": {},
   "outputs": [
    {
     "data": {
      "text/plain": [
       "atm+transfer      0.3465\n",
       "split_transfer    0.3430\n",
       "transfer          0.1555\n",
       "atm               0.1550\n",
       "Name: proportion, dtype: float64"
      ]
     },
     "execution_count": 54,
     "metadata": {},
     "output_type": "execute_result"
    }
   ],
   "source": [
    "all_scens = []\n",
    "i = 0\n",
    "while i < 2000:\n",
    "    amt_hand.reset_cache()\n",
    "    amt_hand.balance = dist_behav.atm_min + 1000\n",
    "    assert amt_hand.balance < dist_behav.trf_max, \"Balance exceeds trf_max\"\n",
    "    dist_behav.sample_scenario()\n",
    "    all_scens.append(dist_behav.scen)\n",
    "    i += 1\n",
    "all_scens_ser = pd.Series(all_scens)\n",
    "all_scens_ser.value_counts(normalize=True)"
   ]
  },
  {
   "cell_type": "markdown",
   "id": "0143cc87-f7ea-4d66-974b-3a6159741385",
   "metadata": {},
   "source": [
    "**Пример №3**\n",
    "- баланс **меньше** `atm_min`, но больше `trf_min * 2`\n",
    "- демонстрация долей выпадающих сценариев"
   ]
  },
  {
   "cell_type": "code",
   "execution_count": 55,
   "id": "445632ee-77c3-4dd0-8348-117ff65932c5",
   "metadata": {},
   "outputs": [
    {
     "data": {
      "text/plain": [
       "split_transfer    0.704\n",
       "transfer          0.296\n",
       "Name: proportion, dtype: float64"
      ]
     },
     "execution_count": 55,
     "metadata": {},
     "output_type": "execute_result"
    }
   ],
   "source": [
    "all_scens = []\n",
    "i = 0\n",
    "while i < 3000:\n",
    "    amt_hand.reset_cache()\n",
    "    amt_hand.balance = dist_behav.trf_min * 2\n",
    "    assert amt_hand.balance < dist_behav.atm_min, \"Balance exceeds atm_min\"\n",
    "    assert amt_hand.balance < dist_behav.trf_max, \"Balance exceeds trf_max\"\n",
    "    dist_behav.sample_scenario()\n",
    "    all_scens.append(dist_behav.scen)\n",
    "    i += 1\n",
    "all_scens_ser = pd.Series(all_scens)\n",
    "all_scens_ser.value_counts(normalize=True)"
   ]
  },
  {
   "cell_type": "markdown",
   "id": "538b5ec7-6207-488d-a108-e67d91327e70",
   "metadata": {},
   "source": [
    "**Пример №4**\n",
    "- баланс **меньше** `trf_min * 2`\n",
    "- выпадает только один сценарий"
   ]
  },
  {
   "cell_type": "code",
   "execution_count": 60,
   "id": "bb5223bb-190c-430d-bb68-c72ab3b3ad50",
   "metadata": {},
   "outputs": [
    {
     "data": {
      "text/plain": [
       "transfer    1.0\n",
       "Name: proportion, dtype: float64"
      ]
     },
     "execution_count": 60,
     "metadata": {},
     "output_type": "execute_result"
    }
   ],
   "source": [
    "all_scens = []\n",
    "i = 0\n",
    "while i < 3000:\n",
    "    amt_hand.reset_cache()\n",
    "    amt_hand.balance = dist_behav.trf_min + 1000\n",
    "    assert amt_hand.balance < dist_behav.trf_min * 2, \"Balance exceeds the limit\"\n",
    "    dist_behav.sample_scenario()\n",
    "    all_scens.append(dist_behav.scen)\n",
    "    i += 1\n",
    "all_scens_ser = pd.Series(all_scens)\n",
    "all_scens_ser.value_counts(normalize=True)"
   ]
  },
  {
   "cell_type": "markdown",
   "id": "c0597a0e-58fb-4dc0-96cb-cf7fb186d2bc",
   "metadata": {},
   "source": [
    "<br>"
   ]
  },
  {
   "cell_type": "markdown",
   "id": "096f5dcf-6f90-4e92-97ee-8b6eed4aacd8",
   "metadata": {},
   "source": [
    "## 2. Класс `PurchBehaviorHandler`  \n",
    "- модуль `data_generator.fraud.drops.behavior`. **[Ссылка](https://github.com/iaroslav-dzh/fraud_txns_simulator/blob/main/data_generator/fraud/drops/behavior.py)** на файл в Github \n",
    "- Управление поведением дропа покупателя\n",
    "\n",
    "**Условия**\n",
    "- подразумевается, что дроп получает сумму и тратит её до получения новой\n",
    "\n",
    "**Основной функционал**\n",
    "- управление поведением дропов покупателей\n",
    "- случайный выбор сценария распределения полученных денег - одна покупка на все деньги, несколько покупок частями - выбор сценария имеет зависимость от баланса. Например если баланс больше установленной суммы, то не может быть выбран сценарий с одной покупкой на всю сумму баланса.\n",
    "- определение кол-ва попыток совершить операцию после первой отклоненной транзакции\n",
    "- вычитание попыток когда дроп пытается совершать операции после первой отклоненной транз.\n",
    "- идентификация того нужно ли пытаться еще после последней отклоненной транзакции (это может быть первая отклоненная транз. если выпало 0 попыток)"
   ]
  },
  {
   "cell_type": "markdown",
   "id": "aec57089-b72f-46c6-80fa-8c8aa8681ff7",
   "metadata": {},
   "source": [
    "### **Демонстрация**"
   ]
  },
  {
   "cell_type": "code",
   "execution_count": 64,
   "id": "e191ca7d-e560-40bc-8075-30281d3647f5",
   "metadata": {},
   "outputs": [],
   "source": [
    "from data_generator.fraud.drops.behavior import PurchBehaviorHandler\n",
    "from data_generator.fraud.drops.base import DropAmountHandler\n",
    "\n",
    "amt_hand = DropAmountHandler(configs=purch_configs)\n",
    "purch_behav = PurchBehaviorHandler(configs=purch_configs, amt_hand=amt_hand)"
   ]
  },
  {
   "cell_type": "markdown",
   "id": "f80847c9-b557-4d8e-9332-37bfaf665aed",
   "metadata": {},
   "source": [
    "**Метод `sample_scenario`**\n",
    "- случайный выбор сценария\n",
    "- всего есть 2 сценария:\n",
    "    - `split_money` - трата полученной суммы по частям\n",
    "    - `one_purchase` - одна покупка покупка на всю полученную сумму\n",
    "\n",
    "Доступные варианты сценариев зависят от величины баланса и лимитов по суммам операций выставленных в конфиг файле `drops.yaml`\n",
    "- зависимость от лимитов:\n",
    "    -  `amt_max` - максимальная сумма одной покупки. Если на балансе больше этой суммы, то доступен только вариант: `split_money`\n",
    "    -  `amt_min`\n",
    "          1. если баланс **больше или равен** `amt_min * 2`, **но** меньше или равен `amt_max`то доступны сценарии: `split_money` и `one_purchase`\n",
    "          2. если баланс меньше `amt_min * 2`, то доступен только `one_purchase`"
   ]
  },
  {
   "cell_type": "markdown",
   "id": "8f512aaa-88a9-4a93-b1a0-0c00de5d2b9d",
   "metadata": {},
   "source": [
    "<br>"
   ]
  },
  {
   "cell_type": "markdown",
   "id": "20fe5d48-a04c-4ef1-9d80-b5e7108ea2f7",
   "metadata": {},
   "source": [
    "**Пример №1**\n",
    "- баланс больше чем `amt_max`"
   ]
  },
  {
   "cell_type": "code",
   "execution_count": 65,
   "id": "aba854bf-bf2d-4e8c-a41c-2492daab3f6d",
   "metadata": {},
   "outputs": [
    {
     "data": {
      "text/plain": [
       "split_money    1.0\n",
       "Name: proportion, dtype: float64"
      ]
     },
     "execution_count": 65,
     "metadata": {},
     "output_type": "execute_result"
    }
   ],
   "source": [
    "all_scens = []\n",
    "i = 0\n",
    "while i < 2000:\n",
    "    amt_hand.reset_cache()\n",
    "    amt_hand.balance = purch_behav.amt_max + 1000\n",
    "    assert amt_hand.balance > purch_behav.amt_max, \"Balance is below amt_max\"\n",
    "    purch_behav.sample_scenario()\n",
    "    all_scens.append(purch_behav.scen)\n",
    "    i += 1\n",
    "    \n",
    "all_scens_ser = pd.Series(all_scens)\n",
    "all_scens_ser.value_counts(normalize=True)"
   ]
  },
  {
   "cell_type": "markdown",
   "id": "e3f36c5a-d021-4331-b10c-f00f4bf2e9f0",
   "metadata": {},
   "source": [
    "**Пример №2**\n",
    "- баланс больше чем `amt_min * 2`, но меньше чем `amt_max`"
   ]
  },
  {
   "cell_type": "code",
   "execution_count": 66,
   "id": "803e08c3-d1a3-4c6a-bdb8-4cc554d9be9d",
   "metadata": {},
   "outputs": [
    {
     "data": {
      "text/plain": [
       "split_money     0.689667\n",
       "one_purchase    0.310333\n",
       "Name: proportion, dtype: float64"
      ]
     },
     "execution_count": 66,
     "metadata": {},
     "output_type": "execute_result"
    }
   ],
   "source": [
    "all_scens = []\n",
    "i = 0\n",
    "while i < 3000:\n",
    "    amt_hand.reset_cache()\n",
    "    amt_hand.balance = purch_behav.amt_min * 2\n",
    "    assert amt_hand.balance < purch_behav.amt_max, \"Balance exceeds amt_max\"\n",
    "    purch_behav.sample_scenario()\n",
    "    all_scens.append(purch_behav.scen)\n",
    "    i += 1\n",
    "    \n",
    "all_scens_ser = pd.Series(all_scens)\n",
    "all_scens_ser.value_counts(normalize=True)"
   ]
  },
  {
   "cell_type": "markdown",
   "id": "8e8f3bee-2dce-45cd-b67b-ffd5f76a9b32",
   "metadata": {},
   "source": [
    "**Пример №3**\n",
    "- баланс меньше чем `amt_min * 2`"
   ]
  },
  {
   "cell_type": "code",
   "execution_count": 67,
   "id": "9edf49de-561f-46a9-93ae-49edcab35655",
   "metadata": {},
   "outputs": [
    {
     "data": {
      "text/plain": [
       "one_purchase    1.0\n",
       "Name: proportion, dtype: float64"
      ]
     },
     "execution_count": 67,
     "metadata": {},
     "output_type": "execute_result"
    }
   ],
   "source": [
    "all_scens = []\n",
    "i = 0\n",
    "while i < 3000:\n",
    "    amt_hand.reset_cache()\n",
    "    amt_hand.balance = purch_behav.amt_min + 1000\n",
    "    assert amt_hand.balance < purch_behav.amt_min * 2, \"Balance exceeds the limit\"\n",
    "    purch_behav.sample_scenario()\n",
    "    all_scens.append(purch_behav.scen)\n",
    "    i += 1\n",
    "    \n",
    "all_scens_ser = pd.Series(all_scens)\n",
    "all_scens_ser.value_counts(normalize=True)"
   ]
  }
 ],
 "metadata": {
  "kernelspec": {
   "display_name": "Python (poetry-env)",
   "language": "python",
   "name": "poetry-env"
  },
  "language_info": {
   "codemirror_mode": {
    "name": "ipython",
    "version": 3
   },
   "file_extension": ".py",
   "mimetype": "text/x-python",
   "name": "python",
   "nbconvert_exporter": "python",
   "pygments_lexer": "ipython3",
   "version": "3.12.7"
  }
 },
 "nbformat": 4,
 "nbformat_minor": 5
}
