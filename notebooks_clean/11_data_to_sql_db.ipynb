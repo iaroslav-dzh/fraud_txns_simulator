{
 "cells": [
  {
   "cell_type": "code",
   "execution_count": 80,
   "id": "4247c850-10bc-4110-9387-59dc820a2892",
   "metadata": {},
   "outputs": [],
   "source": [
    "import pandas as pd\n",
    "import geopandas as gpd\n",
    "import os\n",
    "import pyarrow\n",
    "import psycopg2\n",
    "from dotenv import load_dotenv\n",
    "from sqlalchemy import create_engine, text, MetaData, Table, Column, Integer, Float, \\\n",
    "                       BigInteger, String, Date, Boolean, DateTime\n",
    "import yaml\n",
    "from data_generator.utils import load_configs"
   ]
  },
  {
   "cell_type": "code",
   "execution_count": 7,
   "id": "90cd17fe-54e8-494f-a7f5-104e07d31407",
   "metadata": {},
   "outputs": [],
   "source": [
    "os.chdir('..')\n"
   ]
  },
  {
   "cell_type": "code",
   "execution_count": 8,
   "id": "c48056ad",
   "metadata": {},
   "outputs": [
    {
     "data": {
      "text/plain": [
       "'c:\\\\Users\\\\iaros\\\\My_documents\\\\Education\\\\projects\\\\fraud_detection_01'"
      ]
     },
     "execution_count": 8,
     "metadata": {},
     "output_type": "execute_result"
    }
   ],
   "source": [
    "os.getcwd()"
   ]
  },
  {
   "cell_type": "code",
   "execution_count": 30,
   "id": "5892bf59",
   "metadata": {},
   "outputs": [],
   "source": [
    "load_dotenv()\n",
    "\n",
    "db_user = os.getenv(\"DB_USER\")\n",
    "db_pass = os.getenv(\"DB_PASSWORD\")\n",
    "db_host = os.getenv(\"DB_HOST\")\n",
    "db_name = os.getenv(\"DB_NAME\")"
   ]
  },
  {
   "cell_type": "code",
   "execution_count": 9,
   "id": "51da5724",
   "metadata": {},
   "outputs": [],
   "source": [
    "base_cfg = load_configs(\"./config/base.yaml\")"
   ]
  },
  {
   "cell_type": "markdown",
   "id": "176a8568-6ad3-4199-9749-36b55a8bb989",
   "metadata": {},
   "source": [
    "# Создание engine для подключения к БД"
   ]
  },
  {
   "cell_type": "code",
   "execution_count": 32,
   "id": "0bc121c4-8f60-4b9b-8a29-41a8a6605c6a",
   "metadata": {},
   "outputs": [],
   "source": [
    "# пустая postgresql БД предварительно создана\n",
    "\n",
    "engine = create_engine(f'postgresql+psycopg2://{db_user}:{db_pass}@{db_host}:5433/{db_name}')"
   ]
  },
  {
   "cell_type": "code",
   "execution_count": 12,
   "id": "9c863743-26ab-4a6f-89e9-78a8cf8ffda2",
   "metadata": {},
   "outputs": [],
   "source": [
    "# записываем структуру БД в переменную\n",
    "\n",
    "metadata = MetaData()"
   ]
  },
  {
   "cell_type": "markdown",
   "id": "4b4d11b7-a778-4f67-8698-9b87ecd19062",
   "metadata": {},
   "source": [
    "## Создание и заполнение таблицы `clients`"
   ]
  },
  {
   "cell_type": "code",
   "execution_count": 42,
   "id": "b260f5cb-16a5-4f78-8268-04a08ba3667e",
   "metadata": {},
   "outputs": [
    {
     "data": {
      "text/html": [
       "<div>\n",
       "<style scoped>\n",
       "    .dataframe tbody tr th:only-of-type {\n",
       "        vertical-align: middle;\n",
       "    }\n",
       "\n",
       "    .dataframe tbody tr th {\n",
       "        vertical-align: top;\n",
       "    }\n",
       "\n",
       "    .dataframe thead th {\n",
       "        text-align: right;\n",
       "    }\n",
       "</style>\n",
       "<table border=\"1\" class=\"dataframe\">\n",
       "  <thead>\n",
       "    <tr style=\"text-align: right;\">\n",
       "      <th></th>\n",
       "      <th>client_id</th>\n",
       "      <th>city_id</th>\n",
       "      <th>birth_date</th>\n",
       "      <th>sex</th>\n",
       "      <th>region</th>\n",
       "      <th>city</th>\n",
       "      <th>timezone</th>\n",
       "      <th>lat</th>\n",
       "      <th>lon</th>\n",
       "      <th>population</th>\n",
       "      <th>home_ip</th>\n",
       "    </tr>\n",
       "  </thead>\n",
       "  <tbody>\n",
       "    <tr>\n",
       "      <th>0</th>\n",
       "      <td>1</td>\n",
       "      <td>18</td>\n",
       "      <td>1995-12-07</td>\n",
       "      <td>female</td>\n",
       "      <td>Рязанская</td>\n",
       "      <td>Рязань</td>\n",
       "      <td>UTC+3</td>\n",
       "      <td>54.625457</td>\n",
       "      <td>39.735999</td>\n",
       "      <td>525062</td>\n",
       "      <td>2.60.0.1</td>\n",
       "    </tr>\n",
       "    <tr>\n",
       "      <th>1</th>\n",
       "      <td>2</td>\n",
       "      <td>1</td>\n",
       "      <td>1970-01-29</td>\n",
       "      <td>male</td>\n",
       "      <td>Москва</td>\n",
       "      <td>Москва</td>\n",
       "      <td>UTC+3</td>\n",
       "      <td>55.753879</td>\n",
       "      <td>37.620373</td>\n",
       "      <td>11514330</td>\n",
       "      <td>2.60.0.2</td>\n",
       "    </tr>\n",
       "  </tbody>\n",
       "</table>\n",
       "</div>"
      ],
      "text/plain": [
       "   client_id  city_id birth_date     sex     region    city timezone  \\\n",
       "0          1       18 1995-12-07  female  Рязанская  Рязань    UTC+3   \n",
       "1          2        1 1970-01-29    male     Москва  Москва    UTC+3   \n",
       "\n",
       "         lat        lon  population   home_ip  \n",
       "0  54.625457  39.735999      525062  2.60.0.1  \n",
       "1  55.753879  37.620373    11514330  2.60.0.2  "
      ]
     },
     "execution_count": 42,
     "metadata": {},
     "output_type": "execute_result"
    }
   ],
   "source": [
    "# подгружаем данные всех клиентов\n",
    "data_paths = base_cfg[\"data_paths\"]\n",
    "path_to_clts = data_paths[\"clients\"][\"clients\"]\n",
    "\n",
    "clients = pd.read_parquet(path_to_clts)\n",
    "clients.head(2)"
   ]
  },
  {
   "cell_type": "code",
   "execution_count": 16,
   "id": "5dc08676-386d-45db-84f5-8ed4dc916988",
   "metadata": {},
   "outputs": [
    {
     "data": {
      "text/plain": [
       "client_id              int64\n",
       "city_id                int64\n",
       "birth_date    datetime64[ns]\n",
       "sex                   object\n",
       "region                object\n",
       "city                  object\n",
       "timezone              object\n",
       "lat                  float64\n",
       "lon                  float64\n",
       "population             int64\n",
       "home_ip               object\n",
       "dtype: object"
      ]
     },
     "execution_count": 16,
     "metadata": {},
     "output_type": "execute_result"
    }
   ],
   "source": [
    "clients_types = clients.dtypes\n",
    "clients_types"
   ]
  },
  {
   "cell_type": "code",
   "execution_count": 47,
   "id": "dfd972d2",
   "metadata": {},
   "outputs": [
    {
     "data": {
      "text/plain": [
       "client_id       int64\n",
       "city_id         int64\n",
       "birth_date       date\n",
       "sex            object\n",
       "region         object\n",
       "city           object\n",
       "timezone       object\n",
       "lat           float64\n",
       "lon           float64\n",
       "population      int64\n",
       "home_ip        object\n",
       "dtype: object"
      ]
     },
     "execution_count": 47,
     "metadata": {},
     "output_type": "execute_result"
    }
   ],
   "source": [
    "clients_types[\"birth_date\"] = \"date\"\n",
    "clients_types"
   ]
  },
  {
   "cell_type": "code",
   "execution_count": 48,
   "id": "31aa0453-05bb-406b-a23e-a5d57374c88b",
   "metadata": {},
   "outputs": [],
   "source": [
    "def add_table_to_metadata(table_name: str, metadata, df_types: pd.Series):\n",
    "    \"\"\"\n",
    "    Добавление объекта sqlalchemy.Table в объект sqlalchemy.MetaData.\n",
    "    ------------------------\n",
    "    table_name: str. Название SQL таблицы.\n",
    "    metadata: sqlalchemy.MetaData.\n",
    "    df_types: pd.Series. Типы данных в датафрейме, предназначенном для выгрузки в таблицу.\n",
    "              Можно передать измененную серию с типами в виде строк. Значения в серии \n",
    "              будут маппиться со значениями типов sqlalchemy.\n",
    "              Принимаемые лейблы типов можно узнать из ключей словаря:\n",
    "              {'int64':Integer, 'BigInt': BigInteger, 'float64': Float, 'object': String,\n",
    "              'datetime64[ns]': Date}\n",
    "            Значения индекса серии будут использованы как навзания колонок в SQL таблице.\n",
    "    \"\"\"\n",
    "    if not isinstance(df_types, pd.Series):\n",
    "        raise TypeError(f'df_types must be pd.Series object, but got {type(df_types)}')\n",
    "        \n",
    "    # маппинг для pandas типов и sqlalchemy типов\n",
    "    # BigInt это кастомное значение для случаев очень больших целых чисел.\n",
    "    # если нужен BigInt, то тогда нужно в df_types передать серию где будет значение BigInt для соответсвующей колонки\n",
    "    \n",
    "    types_mapping = {'int64':Integer, 'BigInt':BigInteger, 'float64':Float, 'object':String, 'datetime64[ns]':DateTime, \\\n",
    "                     'date':Date, 'bool':Boolean}\n",
    "\n",
    "    # создание генератора на основании типов в датафрейме и типов sqlalchemy\n",
    "    # затем добавление таблицы в metadata\n",
    "    return Table(table_name, metadata, *[Column(col_name, types_mapping[str(dtype)]) \\\n",
    "                                         for col_name, dtype in df_types.items()])"
   ]
  },
  {
   "cell_type": "code",
   "execution_count": 52,
   "id": "f16ccc27-0cfd-405f-ba23-85fb33c89f0e",
   "metadata": {
    "scrolled": true
   },
   "outputs": [],
   "source": [
    "clients_tab = add_table_to_metadata(table_name='clients', metadata=metadata, df_types=clients_types)"
   ]
  },
  {
   "cell_type": "code",
   "execution_count": 53,
   "id": "e24a288b-ed32-44a3-9810-bee7998eb929",
   "metadata": {},
   "outputs": [],
   "source": [
    "# Создаем таблицу clients в нашей БД\n",
    "clients_tab.create(engine)"
   ]
  },
  {
   "cell_type": "code",
   "execution_count": 36,
   "id": "67fc3648-8e4d-4a56-b64c-dd3d89e39e65",
   "metadata": {},
   "outputs": [],
   "source": [
    "# функция добавления данных из датафрейма в имеющиюся таблицу SQL\n",
    "\n",
    "def append_df_to_sql(df, table_name, engine, if_exists='append', index=False, \\\n",
    "                     chunksize: int | None=None):\n",
    "    \"\"\"\n",
    "    df: pd.DataFrame. Данные для загрузки.\n",
    "    table_name: str. Название таблицы в БД.\n",
    "    engine: sqlalchemy.engine.base.Engine.\n",
    "    if_exists: str. Аргумент pd.DataFrame.to_sql(). По умолчанию 'append'.\n",
    "    index: bool. Аргумент pd.DataFrame.to_sql(). По умолчанию False.\n",
    "    \"\"\"\n",
    "    if not isinstance(table_name, str):\n",
    "        raise TypeError(f'table_name must be a string, but got {type(table_name)}')\n",
    "        \n",
    "    df.to_sql(table_name, engine, if_exists=if_exists, index=index, chunksize=chunksize)"
   ]
  },
  {
   "cell_type": "code",
   "execution_count": 55,
   "id": "9babe7fb-ee1d-4130-995d-2c974719c57f",
   "metadata": {},
   "outputs": [],
   "source": [
    "# добавляем данные из датафрейма в таблицу accounts\n",
    "\n",
    "append_df_to_sql(df=clients, table_name=\"clients\", engine=engine)"
   ]
  },
  {
   "cell_type": "code",
   "execution_count": 38,
   "id": "24110d13-6223-4e49-b50d-a6a8a974d227",
   "metadata": {},
   "outputs": [],
   "source": [
    "# функция сверки количества строк в датафрейме и строк добавленных в БД\n",
    "def count_rows(engine, table_name: str, df: pd.DataFrame | None=None):\n",
    "\n",
    "    # проверка типа для table_name\n",
    "    if not isinstance(table_name, str):\n",
    "        raise TypeError(f'table_name must be a string, but got {type(table_name)}')\n",
    "        \n",
    "    with engine.connect() as con:\n",
    "        query = con.execute(text(f'SELECT COUNT(*) FROM {table_name}'))\n",
    "        row_count = query.scalar() # результат запроса в виде числа\n",
    "    \n",
    "    if df is not None:\n",
    "        df_rows = df.shape[0]\n",
    "        if df_rows != row_count:\n",
    "            raise ValueError(f'''Dataframe row count is not equal to SQL table row count!\n",
    "Dataframe: {df_rows}\n",
    "SQL table: {row_count}''')\n",
    "        else:\n",
    "            print(f'Dataframe and SQL table row counts are equal.\\n{row_count} rows')\n",
    "    else:\n",
    "        print(f'{row_count} rows in the SQL table')\n",
    "        return row_count"
   ]
  },
  {
   "cell_type": "code",
   "execution_count": 56,
   "id": "3ee6da1b-e7d7-4839-bd15-323cb8ee1881",
   "metadata": {},
   "outputs": [
    {
     "name": "stdout",
     "output_type": "stream",
     "text": [
      "Dataframe and SQL table row counts are equal.\n",
      "5369 rows\n"
     ]
    }
   ],
   "source": [
    "# сверяем количество строк в датафрейме и в БД\n",
    "\n",
    "count_rows(engine=engine, table_name=\"clients\", df=clients)"
   ]
  },
  {
   "cell_type": "markdown",
   "id": "be3689d4-cca2-4198-917a-b5377b89c15c",
   "metadata": {},
   "source": [
    "## Создание таблицы txns"
   ]
  },
  {
   "cell_type": "code",
   "execution_count": 44,
   "id": "da53aa6b-dcdc-4c83-a245-a2949f8ce326",
   "metadata": {},
   "outputs": [
    {
     "data": {
      "text/html": [
       "<div>\n",
       "<style scoped>\n",
       "    .dataframe tbody tr th:only-of-type {\n",
       "        vertical-align: middle;\n",
       "    }\n",
       "\n",
       "    .dataframe tbody tr th {\n",
       "        vertical-align: top;\n",
       "    }\n",
       "\n",
       "    .dataframe thead th {\n",
       "        text-align: right;\n",
       "    }\n",
       "</style>\n",
       "<table border=\"1\" class=\"dataframe\">\n",
       "  <thead>\n",
       "    <tr style=\"text-align: right;\">\n",
       "      <th></th>\n",
       "      <th>client_id</th>\n",
       "      <th>txn_time</th>\n",
       "      <th>unix_time</th>\n",
       "      <th>amount</th>\n",
       "      <th>type</th>\n",
       "      <th>channel</th>\n",
       "      <th>category</th>\n",
       "      <th>online</th>\n",
       "      <th>merchant_id</th>\n",
       "      <th>trans_city</th>\n",
       "      <th>trans_lat</th>\n",
       "      <th>trans_lon</th>\n",
       "      <th>trans_ip</th>\n",
       "      <th>device_id</th>\n",
       "      <th>account</th>\n",
       "      <th>is_fraud</th>\n",
       "      <th>is_suspicious</th>\n",
       "      <th>status</th>\n",
       "      <th>rule</th>\n",
       "    </tr>\n",
       "  </thead>\n",
       "  <tbody>\n",
       "    <tr>\n",
       "      <th>0</th>\n",
       "      <td>3937</td>\n",
       "      <td>2025-01-01 00:02:00</td>\n",
       "      <td>1735689720</td>\n",
       "      <td>1878.0</td>\n",
       "      <td>purchase</td>\n",
       "      <td>POS</td>\n",
       "      <td>grocery_pos</td>\n",
       "      <td>False</td>\n",
       "      <td>989.0</td>\n",
       "      <td>Пермь</td>\n",
       "      <td>58.045040</td>\n",
       "      <td>56.170369</td>\n",
       "      <td>not applicable</td>\n",
       "      <td>NaN</td>\n",
       "      <td>NaN</td>\n",
       "      <td>False</td>\n",
       "      <td>False</td>\n",
       "      <td>approved</td>\n",
       "      <td>not applicable</td>\n",
       "    </tr>\n",
       "    <tr>\n",
       "      <th>1</th>\n",
       "      <td>4275</td>\n",
       "      <td>2025-01-01 00:27:00</td>\n",
       "      <td>1735691220</td>\n",
       "      <td>1000.0</td>\n",
       "      <td>purchase</td>\n",
       "      <td>POS</td>\n",
       "      <td>gas_transport</td>\n",
       "      <td>False</td>\n",
       "      <td>727.0</td>\n",
       "      <td>Тамбов</td>\n",
       "      <td>52.715932</td>\n",
       "      <td>41.465163</td>\n",
       "      <td>not applicable</td>\n",
       "      <td>NaN</td>\n",
       "      <td>NaN</td>\n",
       "      <td>False</td>\n",
       "      <td>False</td>\n",
       "      <td>approved</td>\n",
       "      <td>not applicable</td>\n",
       "    </tr>\n",
       "  </tbody>\n",
       "</table>\n",
       "</div>"
      ],
      "text/plain": [
       "   client_id            txn_time   unix_time  amount      type channel  \\\n",
       "0       3937 2025-01-01 00:02:00  1735689720  1878.0  purchase     POS   \n",
       "1       4275 2025-01-01 00:27:00  1735691220  1000.0  purchase     POS   \n",
       "\n",
       "        category  online  merchant_id trans_city  trans_lat  trans_lon  \\\n",
       "0    grocery_pos   False        989.0      Пермь  58.045040  56.170369   \n",
       "1  gas_transport   False        727.0     Тамбов  52.715932  41.465163   \n",
       "\n",
       "         trans_ip  device_id  account  is_fraud  is_suspicious    status  \\\n",
       "0  not applicable        NaN      NaN     False          False  approved   \n",
       "1  not applicable        NaN      NaN     False          False  approved   \n",
       "\n",
       "             rule  \n",
       "0  not applicable  \n",
       "1  not applicable  "
      ]
     },
     "execution_count": 44,
     "metadata": {},
     "output_type": "execute_result"
    }
   ],
   "source": [
    "txns_path = data_paths[\"generated\"][\"all_txns\"]\n",
    "all_txns = pd.read_parquet(txns_path)\n",
    "all_txns.head(2)"
   ]
  },
  {
   "cell_type": "code",
   "execution_count": 57,
   "id": "ea7ca26c-df3c-4050-998d-d88d7f012106",
   "metadata": {},
   "outputs": [
    {
     "data": {
      "text/plain": [
       "client_id                 int64\n",
       "txn_time         datetime64[ns]\n",
       "unix_time                 int64\n",
       "amount                  float64\n",
       "type                     object\n",
       "channel                  object\n",
       "category                 object\n",
       "online                     bool\n",
       "merchant_id             float64\n",
       "trans_city               object\n",
       "trans_lat               float64\n",
       "trans_lon               float64\n",
       "trans_ip                 object\n",
       "device_id               float64\n",
       "account                 float64\n",
       "is_fraud                   bool\n",
       "is_suspicious              bool\n",
       "status                   object\n",
       "rule                     object\n",
       "dtype: object"
      ]
     },
     "execution_count": 57,
     "metadata": {},
     "output_type": "execute_result"
    }
   ],
   "source": [
    "txns_dtypes = all_txns.dtypes\n",
    "txns_dtypes"
   ]
  },
  {
   "cell_type": "code",
   "execution_count": 58,
   "id": "72f63044",
   "metadata": {},
   "outputs": [],
   "source": [
    "txns_dtypes[\"unix_time\"] = \"BigInt\""
   ]
  },
  {
   "cell_type": "code",
   "execution_count": 66,
   "id": "afec0370-a246-41ce-8916-6c0a7c92084a",
   "metadata": {},
   "outputs": [],
   "source": [
    "\n",
    "txns_table = add_table_to_metadata(table_name='txns', metadata=metadata, df_types=txns_dtypes)"
   ]
  },
  {
   "cell_type": "code",
   "execution_count": 68,
   "id": "94ad2c3d",
   "metadata": {},
   "outputs": [
    {
     "data": {
      "text/plain": [
       "Table('txns', MetaData(), Column('client_id', Integer(), table=<txns>), Column('txn_time', DateTime(), table=<txns>), Column('unix_time', BigInteger(), table=<txns>), Column('amount', Float(), table=<txns>), Column('type', String(), table=<txns>), Column('channel', String(), table=<txns>), Column('category', String(), table=<txns>), Column('online', Boolean(), table=<txns>), Column('merchant_id', Float(), table=<txns>), Column('trans_city', String(), table=<txns>), Column('trans_lat', Float(), table=<txns>), Column('trans_lon', Float(), table=<txns>), Column('trans_ip', String(), table=<txns>), Column('device_id', Float(), table=<txns>), Column('account', Float(), table=<txns>), Column('is_fraud', Boolean(), table=<txns>), Column('is_suspicious', Boolean(), table=<txns>), Column('status', String(), table=<txns>), Column('rule', String(), table=<txns>), schema=None)"
      ]
     },
     "execution_count": 68,
     "metadata": {},
     "output_type": "execute_result"
    }
   ],
   "source": [
    "txns_table"
   ]
  },
  {
   "cell_type": "code",
   "execution_count": 62,
   "id": "09f3d28e-374e-4825-879e-48cde963d52a",
   "metadata": {},
   "outputs": [],
   "source": [
    "txns_table.create(engine)"
   ]
  },
  {
   "cell_type": "code",
   "execution_count": 70,
   "id": "65d234c9-a52d-4cd7-9fa2-7fa264607efd",
   "metadata": {},
   "outputs": [],
   "source": [
    "append_df_to_sql(df=all_txns, table_name=\"txns\", engine=engine)"
   ]
  },
  {
   "cell_type": "code",
   "execution_count": 71,
   "id": "45b22263-093f-4fce-91a3-8b895a4cca26",
   "metadata": {},
   "outputs": [
    {
     "name": "stdout",
     "output_type": "stream",
     "text": [
      "Dataframe and SQL table row counts are equal.\n",
      "19982 rows\n"
     ]
    }
   ],
   "source": [
    "# сверяем размеры датафрейма и БД таблицы\n",
    "\n",
    "count_rows(engine, 'txns', all_txns)"
   ]
  },
  {
   "cell_type": "markdown",
   "id": "a922bba5-f5bf-48aa-9b65-54d7b9dd4406",
   "metadata": {},
   "source": [
    "## Создание и заполнение таблицы `accounts`"
   ]
  },
  {
   "cell_type": "code",
   "execution_count": 72,
   "id": "4338857c-41af-4a3f-a0b8-cee1948a1be5",
   "metadata": {},
   "outputs": [
    {
     "data": {
      "text/html": [
       "<div>\n",
       "<style scoped>\n",
       "    .dataframe tbody tr th:only-of-type {\n",
       "        vertical-align: middle;\n",
       "    }\n",
       "\n",
       "    .dataframe tbody tr th {\n",
       "        vertical-align: top;\n",
       "    }\n",
       "\n",
       "    .dataframe thead th {\n",
       "        text-align: right;\n",
       "    }\n",
       "</style>\n",
       "<table border=\"1\" class=\"dataframe\">\n",
       "  <thead>\n",
       "    <tr style=\"text-align: right;\">\n",
       "      <th></th>\n",
       "      <th>client_id</th>\n",
       "      <th>account_id</th>\n",
       "      <th>is_drop</th>\n",
       "    </tr>\n",
       "  </thead>\n",
       "  <tbody>\n",
       "    <tr>\n",
       "      <th>0</th>\n",
       "      <td>1</td>\n",
       "      <td>10000</td>\n",
       "      <td>False</td>\n",
       "    </tr>\n",
       "    <tr>\n",
       "      <th>1</th>\n",
       "      <td>2</td>\n",
       "      <td>10001</td>\n",
       "      <td>False</td>\n",
       "    </tr>\n",
       "  </tbody>\n",
       "</table>\n",
       "</div>"
      ],
      "text/plain": [
       "   client_id  account_id  is_drop\n",
       "0          1       10000    False\n",
       "1          2       10001    False"
      ]
     },
     "execution_count": 72,
     "metadata": {},
     "output_type": "execute_result"
    }
   ],
   "source": [
    "acc_path = data_paths[\"generated\"][\"accounts\"]\n",
    "accounts = pd.read_csv(acc_path)\n",
    "accounts.head(2)"
   ]
  },
  {
   "cell_type": "code",
   "execution_count": 73,
   "id": "d298a1ad-fbc5-4c94-ab70-6b277ba157b7",
   "metadata": {},
   "outputs": [
    {
     "data": {
      "text/plain": [
       "client_id     int64\n",
       "account_id    int64\n",
       "is_drop        bool\n",
       "dtype: object"
      ]
     },
     "execution_count": 73,
     "metadata": {},
     "output_type": "execute_result"
    }
   ],
   "source": [
    "acc_dtypes = accounts.dtypes\n",
    "acc_dtypes"
   ]
  },
  {
   "cell_type": "code",
   "execution_count": 74,
   "id": "d0732c7b-5431-4de0-907a-446900638419",
   "metadata": {},
   "outputs": [],
   "source": [
    "accounts_tab = add_table_to_metadata(table_name=\"accounts\", metadata=metadata, df_types=acc_dtypes)"
   ]
  },
  {
   "cell_type": "code",
   "execution_count": 75,
   "id": "f26bce2e-e7a5-4813-bd92-4c196a755f0a",
   "metadata": {},
   "outputs": [],
   "source": [
    "accounts_tab.create(engine)"
   ]
  },
  {
   "cell_type": "code",
   "execution_count": 76,
   "id": "e5c27433-a5a3-4395-9665-a5c8253a875c",
   "metadata": {},
   "outputs": [],
   "source": [
    "# заполняем таблицу accounts\n",
    "\n",
    "append_df_to_sql(df=accounts, table_name=\"accounts\", engine=engine)"
   ]
  },
  {
   "cell_type": "code",
   "execution_count": 77,
   "id": "645aff8c-d811-4382-8939-8de60808af9a",
   "metadata": {},
   "outputs": [
    {
     "name": "stdout",
     "output_type": "stream",
     "text": [
      "Dataframe and SQL table row counts are equal.\n",
      "5369 rows\n"
     ]
    }
   ],
   "source": [
    "# сверяем количество строк\n",
    "\n",
    "count_rows(engine, 'accounts', accounts)"
   ]
  },
  {
   "cell_type": "markdown",
   "id": "abb7c361-bbf3-4de4-9b2c-ad77b2f7196f",
   "metadata": {},
   "source": [
    "## Создание и заполнение таблицы `cities`"
   ]
  },
  {
   "cell_type": "code",
   "execution_count": null,
   "id": "65eb93e3-dcfa-403f-8d8f-4d638dfb8d14",
   "metadata": {},
   "outputs": [
    {
     "data": {
      "text/html": [
       "<div>\n",
       "<style scoped>\n",
       "    .dataframe tbody tr th:only-of-type {\n",
       "        vertical-align: middle;\n",
       "    }\n",
       "\n",
       "    .dataframe tbody tr th {\n",
       "        vertical-align: top;\n",
       "    }\n",
       "\n",
       "    .dataframe thead th {\n",
       "        text-align: right;\n",
       "    }\n",
       "</style>\n",
       "<table border=\"1\" class=\"dataframe\">\n",
       "  <thead>\n",
       "    <tr style=\"text-align: right;\">\n",
       "      <th></th>\n",
       "      <th>region</th>\n",
       "      <th>city</th>\n",
       "      <th>timezone</th>\n",
       "      <th>lat</th>\n",
       "      <th>lon</th>\n",
       "      <th>population</th>\n",
       "      <th>city_id</th>\n",
       "      <th>clients</th>\n",
       "    </tr>\n",
       "  </thead>\n",
       "  <tbody>\n",
       "    <tr>\n",
       "      <th>0</th>\n",
       "      <td>Москва</td>\n",
       "      <td>Москва</td>\n",
       "      <td>UTC+3</td>\n",
       "      <td>55.753879</td>\n",
       "      <td>37.620373</td>\n",
       "      <td>11514330</td>\n",
       "      <td>1</td>\n",
       "      <td>663</td>\n",
       "    </tr>\n",
       "    <tr>\n",
       "      <th>1</th>\n",
       "      <td>Санкт-Петербург</td>\n",
       "      <td>Санкт-Петербург</td>\n",
       "      <td>UTC+3</td>\n",
       "      <td>59.939125</td>\n",
       "      <td>30.315822</td>\n",
       "      <td>4848742</td>\n",
       "      <td>74</td>\n",
       "      <td>180</td>\n",
       "    </tr>\n",
       "    <tr>\n",
       "      <th>2</th>\n",
       "      <td>Новосибирская</td>\n",
       "      <td>Новосибирск</td>\n",
       "      <td>UTC+7</td>\n",
       "      <td>55.028102</td>\n",
       "      <td>82.921058</td>\n",
       "      <td>1498921</td>\n",
       "      <td>70</td>\n",
       "      <td>169</td>\n",
       "    </tr>\n",
       "    <tr>\n",
       "      <th>3</th>\n",
       "      <td>Свердловская</td>\n",
       "      <td>Екатеринбург</td>\n",
       "      <td>UTC+5</td>\n",
       "      <td>56.838633</td>\n",
       "      <td>60.605489</td>\n",
       "      <td>1377738</td>\n",
       "      <td>54</td>\n",
       "      <td>155</td>\n",
       "    </tr>\n",
       "    <tr>\n",
       "      <th>4</th>\n",
       "      <td>Нижегородская</td>\n",
       "      <td>Нижний Новгород</td>\n",
       "      <td>UTC+3</td>\n",
       "      <td>56.324209</td>\n",
       "      <td>44.005395</td>\n",
       "      <td>1250615</td>\n",
       "      <td>64</td>\n",
       "      <td>109</td>\n",
       "    </tr>\n",
       "  </tbody>\n",
       "</table>\n",
       "</div>"
      ],
      "text/plain": [
       "            region             city timezone        lat        lon  \\\n",
       "0           Москва           Москва    UTC+3  55.753879  37.620373   \n",
       "1  Санкт-Петербург  Санкт-Петербург    UTC+3  59.939125  30.315822   \n",
       "2    Новосибирская      Новосибирск    UTC+7  55.028102  82.921058   \n",
       "3     Свердловская     Екатеринбург    UTC+5  56.838633  60.605489   \n",
       "4    Нижегородская  Нижний Новгород    UTC+3  56.324209  44.005395   \n",
       "\n",
       "   population  city_id  clients  \n",
       "0    11514330        1      663  \n",
       "1     4848742       74      180  \n",
       "2     1498921       70      169  \n",
       "3     1377738       54      155  \n",
       "4     1250615       64      109  "
      ]
     },
     "execution_count": 79,
     "metadata": {},
     "output_type": "execute_result"
    }
   ],
   "source": [
    "cities_path = data_paths[\"base\"][\"cities\"]\n",
    "cities = gpd.read_file(cities_path)\n",
    "cities.drop(columns=\"geometry\", inplace=True) # это геополигоны городов. Они не нужны в БД.\n",
    "cities.head()"
   ]
  },
  {
   "cell_type": "code",
   "execution_count": 81,
   "id": "55e21e5f-fde2-442e-a758-53dd4e185968",
   "metadata": {},
   "outputs": [
    {
     "data": {
      "text/plain": [
       "region         object\n",
       "city           object\n",
       "timezone       object\n",
       "lat           float64\n",
       "lon           float64\n",
       "population      int64\n",
       "city_id         int64\n",
       "clients         int64\n",
       "dtype: object"
      ]
     },
     "execution_count": 81,
     "metadata": {},
     "output_type": "execute_result"
    }
   ],
   "source": [
    "cities_dtypes = cities.dtypes\n",
    "cities_dtypes"
   ]
  },
  {
   "cell_type": "code",
   "execution_count": 82,
   "id": "40df5904-f407-4c84-b794-a70b995a94a3",
   "metadata": {},
   "outputs": [],
   "source": [
    "# создаем таблицу в БД\n",
    "\n",
    "cities_tab = add_table_to_metadata(table_name='cities', metadata=metadata, \\\n",
    "                                   df_types=cities_dtypes)"
   ]
  },
  {
   "cell_type": "code",
   "execution_count": 83,
   "id": "553627b0-007b-4020-8e6b-2d3e7c60effa",
   "metadata": {},
   "outputs": [],
   "source": [
    "cities_tab.create(engine)"
   ]
  },
  {
   "cell_type": "code",
   "execution_count": 84,
   "id": "59a03598-b6f0-45cd-9ff5-bd5085cde5ab",
   "metadata": {},
   "outputs": [],
   "source": [
    "# заполняем таблицу\n",
    "\n",
    "append_df_to_sql(df=cities, table_name=\"cities\", engine=engine)"
   ]
  },
  {
   "cell_type": "code",
   "execution_count": 85,
   "id": "9bfc323e-401f-42f5-95fe-cd4deb217188",
   "metadata": {},
   "outputs": [
    {
     "name": "stdout",
     "output_type": "stream",
     "text": [
      "Dataframe and SQL table row counts are equal.\n",
      "77 rows\n"
     ]
    }
   ],
   "source": [
    "# проверяем целостность\n",
    "count_rows(engine, 'cities', cities)"
   ]
  },
  {
   "cell_type": "markdown",
   "id": "52836789-9b57-4956-83b7-fa6fd4c0bfa5",
   "metadata": {},
   "source": [
    "## Создание и заполнение таблицы `client_devices`"
   ]
  },
  {
   "cell_type": "code",
   "execution_count": 86,
   "id": "0f02cdcc-b810-48de-9c2b-5bdb88c33a0a",
   "metadata": {},
   "outputs": [
    {
     "data": {
      "text/html": [
       "<div>\n",
       "<style scoped>\n",
       "    .dataframe tbody tr th:only-of-type {\n",
       "        vertical-align: middle;\n",
       "    }\n",
       "\n",
       "    .dataframe tbody tr th {\n",
       "        vertical-align: top;\n",
       "    }\n",
       "\n",
       "    .dataframe thead th {\n",
       "        text-align: right;\n",
       "    }\n",
       "</style>\n",
       "<table border=\"1\" class=\"dataframe\">\n",
       "  <thead>\n",
       "    <tr style=\"text-align: right;\">\n",
       "      <th></th>\n",
       "      <th>client_id</th>\n",
       "      <th>platform</th>\n",
       "      <th>device_id</th>\n",
       "    </tr>\n",
       "  </thead>\n",
       "  <tbody>\n",
       "    <tr>\n",
       "      <th>0</th>\n",
       "      <td>1</td>\n",
       "      <td>iOS</td>\n",
       "      <td>1</td>\n",
       "    </tr>\n",
       "    <tr>\n",
       "      <th>1</th>\n",
       "      <td>2</td>\n",
       "      <td>Android</td>\n",
       "      <td>3</td>\n",
       "    </tr>\n",
       "  </tbody>\n",
       "</table>\n",
       "</div>"
      ],
      "text/plain": [
       "   client_id platform  device_id\n",
       "0          1      iOS          1\n",
       "1          2  Android          3"
      ]
     },
     "execution_count": 86,
     "metadata": {},
     "output_type": "execute_result"
    }
   ],
   "source": [
    "clnt_dev_path = data_paths[\"base\"][\"client_devices\"]\n",
    "client_devices = pd.read_csv(clnt_dev_path)\n",
    "client_devices.head(2)"
   ]
  },
  {
   "cell_type": "code",
   "execution_count": 87,
   "id": "7b7cf22b-b6eb-47ff-90aa-b79836e349a4",
   "metadata": {
    "scrolled": true
   },
   "outputs": [
    {
     "data": {
      "text/plain": [
       "client_id     int64\n",
       "platform     object\n",
       "device_id     int64\n",
       "dtype: object"
      ]
     },
     "execution_count": 87,
     "metadata": {},
     "output_type": "execute_result"
    }
   ],
   "source": [
    "cl_dev_dtypes = client_devices.dtypes\n",
    "cl_dev_dtypes"
   ]
  },
  {
   "cell_type": "code",
   "execution_count": 88,
   "id": "3b43ee67-ee68-4085-9413-9327e5af7928",
   "metadata": {},
   "outputs": [],
   "source": [
    "cl_dev_tab = add_table_to_metadata(table_name='client_devices', metadata=metadata, \\\n",
    "                                   df_types=cl_dev_dtypes)"
   ]
  },
  {
   "cell_type": "code",
   "execution_count": 89,
   "id": "b25e0d04-9ff1-4369-9eeb-b7e9155ed741",
   "metadata": {},
   "outputs": [],
   "source": [
    "cl_dev_tab.create(engine)"
   ]
  },
  {
   "cell_type": "code",
   "execution_count": 90,
   "id": "ab5f355a-73db-4912-9af3-f174c9e02946",
   "metadata": {},
   "outputs": [],
   "source": [
    "append_df_to_sql(df=client_devices, table_name=\"client_devices\", engine=engine)"
   ]
  },
  {
   "cell_type": "code",
   "execution_count": 91,
   "id": "b6eaa649-e60b-4029-b860-75dec6134947",
   "metadata": {},
   "outputs": [
    {
     "name": "stdout",
     "output_type": "stream",
     "text": [
      "Dataframe and SQL table row counts are equal.\n",
      "9718 rows\n"
     ]
    }
   ],
   "source": [
    "count_rows(engine, 'client_devices', client_devices)"
   ]
  },
  {
   "cell_type": "markdown",
   "id": "45042dc4-eca1-47cd-b3f9-6eaafb905dab",
   "metadata": {},
   "source": [
    "## Создание и заполнение таблицы `offline_merchants`"
   ]
  },
  {
   "cell_type": "code",
   "execution_count": 92,
   "id": "e3a2951d-a273-464e-957a-be2663f10370",
   "metadata": {},
   "outputs": [
    {
     "data": {
      "text/html": [
       "<div>\n",
       "<style scoped>\n",
       "    .dataframe tbody tr th:only-of-type {\n",
       "        vertical-align: middle;\n",
       "    }\n",
       "\n",
       "    .dataframe tbody tr th {\n",
       "        vertical-align: top;\n",
       "    }\n",
       "\n",
       "    .dataframe thead th {\n",
       "        text-align: right;\n",
       "    }\n",
       "</style>\n",
       "<table border=\"1\" class=\"dataframe\">\n",
       "  <thead>\n",
       "    <tr style=\"text-align: right;\">\n",
       "      <th></th>\n",
       "      <th>region</th>\n",
       "      <th>city</th>\n",
       "      <th>timezone</th>\n",
       "      <th>population</th>\n",
       "      <th>district_code</th>\n",
       "      <th>clients</th>\n",
       "      <th>category</th>\n",
       "      <th>avg_amt</th>\n",
       "      <th>amt_std</th>\n",
       "      <th>cat_count</th>\n",
       "      <th>merchant_id</th>\n",
       "      <th>merchant_lat</th>\n",
       "      <th>merchant_lon</th>\n",
       "    </tr>\n",
       "  </thead>\n",
       "  <tbody>\n",
       "    <tr>\n",
       "      <th>0</th>\n",
       "      <td>Москва</td>\n",
       "      <td>Москва</td>\n",
       "      <td>UTC+3</td>\n",
       "      <td>11514330</td>\n",
       "      <td>1</td>\n",
       "      <td>663</td>\n",
       "      <td>kids_pets</td>\n",
       "      <td>57.506913</td>\n",
       "      <td>48.748482</td>\n",
       "      <td>48692</td>\n",
       "      <td>1.0</td>\n",
       "      <td>55.755159</td>\n",
       "      <td>37.471301</td>\n",
       "    </tr>\n",
       "    <tr>\n",
       "      <th>1</th>\n",
       "      <td>Москва</td>\n",
       "      <td>Москва</td>\n",
       "      <td>UTC+3</td>\n",
       "      <td>11514330</td>\n",
       "      <td>1</td>\n",
       "      <td>663</td>\n",
       "      <td>grocery_pos</td>\n",
       "      <td>115.885327</td>\n",
       "      <td>51.552330</td>\n",
       "      <td>52553</td>\n",
       "      <td>2.0</td>\n",
       "      <td>55.780892</td>\n",
       "      <td>37.638185</td>\n",
       "    </tr>\n",
       "    <tr>\n",
       "      <th>2</th>\n",
       "      <td>Москва</td>\n",
       "      <td>Москва</td>\n",
       "      <td>UTC+3</td>\n",
       "      <td>11514330</td>\n",
       "      <td>1</td>\n",
       "      <td>663</td>\n",
       "      <td>gas_transport</td>\n",
       "      <td>63.577001</td>\n",
       "      <td>15.828399</td>\n",
       "      <td>56370</td>\n",
       "      <td>3.0</td>\n",
       "      <td>55.902353</td>\n",
       "      <td>37.374232</td>\n",
       "    </tr>\n",
       "    <tr>\n",
       "      <th>3</th>\n",
       "      <td>Москва</td>\n",
       "      <td>Москва</td>\n",
       "      <td>UTC+3</td>\n",
       "      <td>11514330</td>\n",
       "      <td>1</td>\n",
       "      <td>663</td>\n",
       "      <td>home</td>\n",
       "      <td>57.995413</td>\n",
       "      <td>48.085281</td>\n",
       "      <td>52345</td>\n",
       "      <td>4.0</td>\n",
       "      <td>55.927664</td>\n",
       "      <td>37.377065</td>\n",
       "    </tr>\n",
       "    <tr>\n",
       "      <th>4</th>\n",
       "      <td>Москва</td>\n",
       "      <td>Москва</td>\n",
       "      <td>UTC+3</td>\n",
       "      <td>11514330</td>\n",
       "      <td>1</td>\n",
       "      <td>663</td>\n",
       "      <td>personal_care</td>\n",
       "      <td>48.233021</td>\n",
       "      <td>49.410941</td>\n",
       "      <td>39327</td>\n",
       "      <td>5.0</td>\n",
       "      <td>55.652154</td>\n",
       "      <td>37.589824</td>\n",
       "    </tr>\n",
       "  </tbody>\n",
       "</table>\n",
       "</div>"
      ],
      "text/plain": [
       "   region    city timezone  population  district_code  clients       category  \\\n",
       "0  Москва  Москва    UTC+3    11514330              1      663      kids_pets   \n",
       "1  Москва  Москва    UTC+3    11514330              1      663    grocery_pos   \n",
       "2  Москва  Москва    UTC+3    11514330              1      663  gas_transport   \n",
       "3  Москва  Москва    UTC+3    11514330              1      663           home   \n",
       "4  Москва  Москва    UTC+3    11514330              1      663  personal_care   \n",
       "\n",
       "      avg_amt    amt_std  cat_count  merchant_id  merchant_lat  merchant_lon  \n",
       "0   57.506913  48.748482      48692          1.0     55.755159     37.471301  \n",
       "1  115.885327  51.552330      52553          2.0     55.780892     37.638185  \n",
       "2   63.577001  15.828399      56370          3.0     55.902353     37.374232  \n",
       "3   57.995413  48.085281      52345          4.0     55.927664     37.377065  \n",
       "4   48.233021  49.410941      39327          5.0     55.652154     37.589824  "
      ]
     },
     "execution_count": 92,
     "metadata": {},
     "output_type": "execute_result"
    }
   ],
   "source": [
    "off_mer_path = data_paths[\"base\"][\"offline_merchants\"]\n",
    "offline_merchants = pd.read_parquet(off_mer_path)\n",
    "offline_merchants.head()"
   ]
  },
  {
   "cell_type": "code",
   "execution_count": 93,
   "id": "f1197cf0-eff0-416a-9536-ba5e859dc194",
   "metadata": {},
   "outputs": [
    {
     "data": {
      "text/plain": [
       "region            object\n",
       "city              object\n",
       "timezone          object\n",
       "population         int64\n",
       "district_code      int64\n",
       "clients            int64\n",
       "category          object\n",
       "avg_amt          float64\n",
       "amt_std          float64\n",
       "cat_count          int64\n",
       "merchant_id      float64\n",
       "merchant_lat     float64\n",
       "merchant_lon     float64\n",
       "dtype: object"
      ]
     },
     "execution_count": 93,
     "metadata": {},
     "output_type": "execute_result"
    }
   ],
   "source": [
    "off_mer_dtypes = offline_merchants.dtypes\n",
    "off_mer_dtypes"
   ]
  },
  {
   "cell_type": "code",
   "execution_count": 94,
   "id": "531bc187-fe72-41c0-9023-43dcb9cc59da",
   "metadata": {},
   "outputs": [],
   "source": [
    "merchants_table = add_table_to_metadata(table_name='offline_merchants', metadata=metadata, \\\n",
    "                                        df_types=off_mer_dtypes)"
   ]
  },
  {
   "cell_type": "code",
   "execution_count": 95,
   "id": "097a62ae-e4ab-421f-8f37-745bc1b8c9fa",
   "metadata": {},
   "outputs": [],
   "source": [
    "merchants_table.create(engine)"
   ]
  },
  {
   "cell_type": "code",
   "execution_count": 96,
   "id": "c60f83c6-4127-4fd3-b6c9-34a9c300b47c",
   "metadata": {},
   "outputs": [],
   "source": [
    "append_df_to_sql(df=offline_merchants, table_name=\"offline_merchants\", engine=engine)"
   ]
  },
  {
   "cell_type": "code",
   "execution_count": 97,
   "id": "cf81501c-d4f7-45c9-84bc-852a7c52e159",
   "metadata": {},
   "outputs": [
    {
     "name": "stdout",
     "output_type": "stream",
     "text": [
      "Dataframe and SQL table row counts are equal.\n",
      "6776 rows\n"
     ]
    }
   ],
   "source": [
    "count_rows(engine, 'offline_merchants', offline_merchants)"
   ]
  },
  {
   "cell_type": "markdown",
   "id": "322ca4ae-1436-4020-8b3c-10a25a33cdf8",
   "metadata": {},
   "source": [
    "## Создание и заполнение таблицы `fraud_devices`"
   ]
  },
  {
   "cell_type": "code",
   "execution_count": 98,
   "id": "4727d4cb-e5e0-48a3-9c76-0c05c789ea1c",
   "metadata": {},
   "outputs": [
    {
     "data": {
      "text/html": [
       "<div>\n",
       "<style scoped>\n",
       "    .dataframe tbody tr th:only-of-type {\n",
       "        vertical-align: middle;\n",
       "    }\n",
       "\n",
       "    .dataframe tbody tr th {\n",
       "        vertical-align: top;\n",
       "    }\n",
       "\n",
       "    .dataframe thead th {\n",
       "        text-align: right;\n",
       "    }\n",
       "</style>\n",
       "<table border=\"1\" class=\"dataframe\">\n",
       "  <thead>\n",
       "    <tr style=\"text-align: right;\">\n",
       "      <th></th>\n",
       "      <th>device_id</th>\n",
       "      <th>platform</th>\n",
       "    </tr>\n",
       "  </thead>\n",
       "  <tbody>\n",
       "    <tr>\n",
       "      <th>0</th>\n",
       "      <td>9719</td>\n",
       "      <td>Android</td>\n",
       "    </tr>\n",
       "    <tr>\n",
       "      <th>1</th>\n",
       "      <td>9720</td>\n",
       "      <td>iOS</td>\n",
       "    </tr>\n",
       "    <tr>\n",
       "      <th>2</th>\n",
       "      <td>9721</td>\n",
       "      <td>Windows</td>\n",
       "    </tr>\n",
       "    <tr>\n",
       "      <th>3</th>\n",
       "      <td>9722</td>\n",
       "      <td>Windows</td>\n",
       "    </tr>\n",
       "    <tr>\n",
       "      <th>4</th>\n",
       "      <td>9723</td>\n",
       "      <td>Android</td>\n",
       "    </tr>\n",
       "  </tbody>\n",
       "</table>\n",
       "</div>"
      ],
      "text/plain": [
       "   device_id platform\n",
       "0       9719  Android\n",
       "1       9720      iOS\n",
       "2       9721  Windows\n",
       "3       9722  Windows\n",
       "4       9723  Android"
      ]
     },
     "execution_count": 98,
     "metadata": {},
     "output_type": "execute_result"
    }
   ],
   "source": [
    "fr_dev_path = data_paths[\"base_fraud\"][\"fraud_devices\"]\n",
    "fraud_devices = pd.read_csv(fr_dev_path)\n",
    "fraud_devices.head()"
   ]
  },
  {
   "cell_type": "code",
   "execution_count": 99,
   "id": "08f25ccb-a446-412c-803e-39305bcbb440",
   "metadata": {
    "scrolled": true
   },
   "outputs": [
    {
     "data": {
      "text/plain": [
       "device_id     int64\n",
       "platform     object\n",
       "dtype: object"
      ]
     },
     "execution_count": 99,
     "metadata": {},
     "output_type": "execute_result"
    }
   ],
   "source": [
    "fr_dev_dtypes = fraud_devices.dtypes\n",
    "fr_dev_dtypes"
   ]
  },
  {
   "cell_type": "code",
   "execution_count": 100,
   "id": "2634036e-9ed0-4610-8eac-fd98f4fdfb1c",
   "metadata": {},
   "outputs": [],
   "source": [
    "fr_dev_table = add_table_to_metadata(table_name='fraud_devices', metadata=metadata, \\\n",
    "                                     df_types=fr_dev_dtypes)"
   ]
  },
  {
   "cell_type": "code",
   "execution_count": 101,
   "id": "439da57c-6094-44b6-aab4-cf50b3341074",
   "metadata": {},
   "outputs": [],
   "source": [
    "fr_dev_table.create(engine)"
   ]
  },
  {
   "cell_type": "code",
   "execution_count": 102,
   "id": "50835349-3776-4cee-b4e4-4d9199e0e8a9",
   "metadata": {},
   "outputs": [],
   "source": [
    "append_df_to_sql(df=fraud_devices, table_name=\"fraud_devices\", engine=engine)"
   ]
  },
  {
   "cell_type": "code",
   "execution_count": 103,
   "id": "1882c21b-7524-465c-a2df-b69924cec9f4",
   "metadata": {},
   "outputs": [
    {
     "name": "stdout",
     "output_type": "stream",
     "text": [
      "Dataframe and SQL table row counts are equal.\n",
      "5500 rows\n"
     ]
    }
   ],
   "source": [
    "count_rows(engine, 'fraud_devices', fraud_devices)"
   ]
  },
  {
   "cell_type": "markdown",
   "id": "4ce58b8d-fe94-4aa6-a922-cabf2322fc6d",
   "metadata": {},
   "source": [
    "## Создание и наполнение таблицы `fraud_ips`"
   ]
  },
  {
   "cell_type": "code",
   "execution_count": 105,
   "id": "2ab96d20-76c2-4c84-bbd1-059d5ed21d0f",
   "metadata": {},
   "outputs": [
    {
     "data": {
      "text/html": [
       "<div>\n",
       "<style scoped>\n",
       "    .dataframe tbody tr th:only-of-type {\n",
       "        vertical-align: middle;\n",
       "    }\n",
       "\n",
       "    .dataframe tbody tr th {\n",
       "        vertical-align: top;\n",
       "    }\n",
       "\n",
       "    .dataframe thead th {\n",
       "        text-align: right;\n",
       "    }\n",
       "</style>\n",
       "<table border=\"1\" class=\"dataframe\">\n",
       "  <thead>\n",
       "    <tr style=\"text-align: right;\">\n",
       "      <th></th>\n",
       "      <th>city</th>\n",
       "      <th>lat</th>\n",
       "      <th>lon</th>\n",
       "      <th>fraud_ip</th>\n",
       "    </tr>\n",
       "  </thead>\n",
       "  <tbody>\n",
       "    <tr>\n",
       "      <th>0</th>\n",
       "      <td>Москва</td>\n",
       "      <td>55.753879</td>\n",
       "      <td>37.620373</td>\n",
       "      <td>5.3.252.223</td>\n",
       "    </tr>\n",
       "    <tr>\n",
       "      <th>1</th>\n",
       "      <td>Санкт-Петербург</td>\n",
       "      <td>59.939125</td>\n",
       "      <td>30.315822</td>\n",
       "      <td>5.3.252.224</td>\n",
       "    </tr>\n",
       "  </tbody>\n",
       "</table>\n",
       "</div>"
      ],
      "text/plain": [
       "              city        lat        lon     fraud_ip\n",
       "0           Москва  55.753879  37.620373  5.3.252.223\n",
       "1  Санкт-Петербург  59.939125  30.315822  5.3.252.224"
      ]
     },
     "execution_count": 105,
     "metadata": {},
     "output_type": "execute_result"
    }
   ],
   "source": [
    "fr_ip_path = data_paths[\"base_fraud\"][\"fraud_ips\"]\n",
    "fraud_ips = pd.read_parquet(fr_ip_path)\n",
    "fraud_ips.head(2)"
   ]
  },
  {
   "cell_type": "code",
   "execution_count": 106,
   "id": "4d91c5a7-6bef-4d1d-b950-a36d83bd103f",
   "metadata": {},
   "outputs": [
    {
     "data": {
      "text/plain": [
       "city         object\n",
       "lat         float64\n",
       "lon         float64\n",
       "fraud_ip     object\n",
       "dtype: object"
      ]
     },
     "execution_count": 106,
     "metadata": {},
     "output_type": "execute_result"
    }
   ],
   "source": [
    "fr_ip_dtypes = fraud_ips.dtypes\n",
    "fr_ip_dtypes"
   ]
  },
  {
   "cell_type": "code",
   "execution_count": 110,
   "id": "0596e0d4-e0f5-435d-9bf0-d39389343a25",
   "metadata": {},
   "outputs": [],
   "source": [
    "fr_ip_table = add_table_to_metadata(table_name='fraud_ips', metadata=metadata, \\\n",
    "                                    df_types=fr_ip_dtypes)"
   ]
  },
  {
   "cell_type": "code",
   "execution_count": 111,
   "id": "52cc1f50-3fe1-4737-b0c3-f56d643a18fd",
   "metadata": {},
   "outputs": [],
   "source": [
    "fr_ip_table.create(engine)"
   ]
  },
  {
   "cell_type": "code",
   "execution_count": 112,
   "id": "2fb1f30b-7155-4fe2-a9ed-d93615777f46",
   "metadata": {},
   "outputs": [],
   "source": [
    "append_df_to_sql(df=fraud_ips, table_name=\"fraud_ips\", engine=engine)"
   ]
  },
  {
   "cell_type": "code",
   "execution_count": 113,
   "id": "2edde41a-b8bf-424f-9595-98f6d0aa5dd1",
   "metadata": {},
   "outputs": [
    {
     "name": "stdout",
     "output_type": "stream",
     "text": [
      "Dataframe and SQL table row counts are equal.\n",
      "7700 rows\n"
     ]
    }
   ],
   "source": [
    "count_rows(engine, 'fraud_ips', fraud_ips)"
   ]
  },
  {
   "cell_type": "markdown",
   "id": "a7852037",
   "metadata": {},
   "source": [
    "## Создание и наполнение таблицы `rules`"
   ]
  },
  {
   "cell_type": "code",
   "execution_count": 115,
   "id": "07eb1bdc",
   "metadata": {},
   "outputs": [
    {
     "data": {
      "text/html": [
       "<div>\n",
       "<style scoped>\n",
       "    .dataframe tbody tr th:only-of-type {\n",
       "        vertical-align: middle;\n",
       "    }\n",
       "\n",
       "    .dataframe tbody tr th {\n",
       "        vertical-align: top;\n",
       "    }\n",
       "\n",
       "    .dataframe thead th {\n",
       "        text-align: right;\n",
       "    }\n",
       "</style>\n",
       "<table border=\"1\" class=\"dataframe\">\n",
       "  <thead>\n",
       "    <tr style=\"text-align: right;\">\n",
       "      <th></th>\n",
       "      <th>rule</th>\n",
       "      <th>weight</th>\n",
       "      <th>online</th>\n",
       "    </tr>\n",
       "  </thead>\n",
       "  <tbody>\n",
       "    <tr>\n",
       "      <th>0</th>\n",
       "      <td>fast_geo_change</td>\n",
       "      <td>0.12500</td>\n",
       "      <td>False</td>\n",
       "    </tr>\n",
       "    <tr>\n",
       "      <th>1</th>\n",
       "      <td>fast_geo_change_online</td>\n",
       "      <td>0.21875</td>\n",
       "      <td>True</td>\n",
       "    </tr>\n",
       "    <tr>\n",
       "      <th>2</th>\n",
       "      <td>new_ip_and_device_high_amount</td>\n",
       "      <td>0.25000</td>\n",
       "      <td>True</td>\n",
       "    </tr>\n",
       "    <tr>\n",
       "      <th>3</th>\n",
       "      <td>new_device_and_high_amount</td>\n",
       "      <td>0.18750</td>\n",
       "      <td>True</td>\n",
       "    </tr>\n",
       "    <tr>\n",
       "      <th>4</th>\n",
       "      <td>trans_freq_increase</td>\n",
       "      <td>0.21875</td>\n",
       "      <td>True</td>\n",
       "    </tr>\n",
       "  </tbody>\n",
       "</table>\n",
       "</div>"
      ],
      "text/plain": [
       "                            rule   weight  online\n",
       "0                fast_geo_change  0.12500   False\n",
       "1         fast_geo_change_online  0.21875    True\n",
       "2  new_ip_and_device_high_amount  0.25000    True\n",
       "3     new_device_and_high_amount  0.18750    True\n",
       "4            trans_freq_increase  0.21875    True"
      ]
     },
     "execution_count": 115,
     "metadata": {},
     "output_type": "execute_result"
    }
   ],
   "source": [
    "rules_path = data_paths[\"base_fraud\"][\"rules\"]\n",
    "rules = pd.read_csv(rules_path)\n",
    "rules"
   ]
  },
  {
   "cell_type": "code",
   "execution_count": 116,
   "id": "80465edd",
   "metadata": {},
   "outputs": [
    {
     "data": {
      "text/plain": [
       "rule       object\n",
       "weight    float64\n",
       "online       bool\n",
       "dtype: object"
      ]
     },
     "execution_count": 116,
     "metadata": {},
     "output_type": "execute_result"
    }
   ],
   "source": [
    "rules_dtypes = rules.dtypes\n",
    "rules_dtypes"
   ]
  },
  {
   "cell_type": "code",
   "execution_count": 117,
   "id": "744589ad",
   "metadata": {},
   "outputs": [],
   "source": [
    "rules_table = add_table_to_metadata(table_name='rules', metadata=metadata, \\\n",
    "                                    df_types=rules_dtypes)"
   ]
  },
  {
   "cell_type": "code",
   "execution_count": 118,
   "id": "6bbf46f9",
   "metadata": {},
   "outputs": [],
   "source": [
    "append_df_to_sql(df=rules, table_name=\"rules\", engine=engine)"
   ]
  },
  {
   "cell_type": "code",
   "execution_count": 119,
   "id": "ba516fb1",
   "metadata": {},
   "outputs": [
    {
     "name": "stdout",
     "output_type": "stream",
     "text": [
      "Dataframe and SQL table row counts are equal.\n",
      "5 rows\n"
     ]
    }
   ],
   "source": [
    "count_rows(engine, 'rules', rules)"
   ]
  },
  {
   "cell_type": "markdown",
   "id": "7b4d1a87",
   "metadata": {},
   "source": [
    "## Демонстрационные запросы к наполненной БД\n",
    "- проверка общей корректности работы"
   ]
  },
  {
   "cell_type": "markdown",
   "id": "22a32ff4",
   "metadata": {},
   "source": [
    "#### Посчитаем процент платформ устройств с которых был совершен фрод"
   ]
  },
  {
   "cell_type": "code",
   "execution_count": null,
   "id": "b026ba8d",
   "metadata": {},
   "outputs": [],
   "source": [
    "# Создадим единую devices таблицу т.к. во фроде участвуют как клиенты банка с устройствами из client_devices\n",
    "# так и сторонние лица с устройствами из fraud_devices.\n",
    "# Потом заджоиним devices ко всем транзакциям по device_id и c условием что транзакция - фрод\n",
    "# Затем посчитаем кол-во девайсов во фроде по платфромам. И дальше вычислим процент платфромы во фрод\n",
    "# транзакциях\n",
    "plat_query = \"\"\"\n",
    "            WITH devices AS (SELECT platform, device_id\n",
    "\t\t\t\tFROM\n",
    "\t\t\t\tclient_devices\n",
    "\t\t\t\tUNION\n",
    "\t\t\t\tSELECT platform, device_id\n",
    "\t\t\t\tFROM\n",
    "\t\t\t\tfraud_devices),\n",
    "\t\t\t\n",
    "            platforms AS (SELECT platform, COUNT(t.device_id) AS devices\n",
    "                            FROM txns as t\n",
    "                            JOIN devices as d\n",
    "                            ON t.device_id = d.device_id AND t.is_fraud = true\n",
    "                            GROUP BY platform)\n",
    "\n",
    "            SELECT platform,\n",
    "                ROUND(100 * devices / (SELECT SUM(devices) FROM platforms), 2) AS percentage\n",
    "            FROM platforms\n",
    "            \"\"\""
   ]
  },
  {
   "cell_type": "code",
   "execution_count": 127,
   "id": "5b28e059-60a5-41ad-9d8b-fd6d18ca50de",
   "metadata": {},
   "outputs": [],
   "source": [
    "with engine.connect() as con:\n",
    "    rs = con.execute(text(plat_query))\n",
    "    plat_stats = pd.DataFrame(rs.fetchall())"
   ]
  },
  {
   "cell_type": "code",
   "execution_count": 128,
   "id": "2075d884",
   "metadata": {},
   "outputs": [
    {
     "data": {
      "text/html": [
       "<div>\n",
       "<style scoped>\n",
       "    .dataframe tbody tr th:only-of-type {\n",
       "        vertical-align: middle;\n",
       "    }\n",
       "\n",
       "    .dataframe tbody tr th {\n",
       "        vertical-align: top;\n",
       "    }\n",
       "\n",
       "    .dataframe thead th {\n",
       "        text-align: right;\n",
       "    }\n",
       "</style>\n",
       "<table border=\"1\" class=\"dataframe\">\n",
       "  <thead>\n",
       "    <tr style=\"text-align: right;\">\n",
       "      <th></th>\n",
       "      <th>platform</th>\n",
       "      <th>percentage</th>\n",
       "    </tr>\n",
       "  </thead>\n",
       "  <tbody>\n",
       "    <tr>\n",
       "      <th>0</th>\n",
       "      <td>macOS</td>\n",
       "      <td>5.90</td>\n",
       "    </tr>\n",
       "    <tr>\n",
       "      <th>1</th>\n",
       "      <td>Windows</td>\n",
       "      <td>58.03</td>\n",
       "    </tr>\n",
       "    <tr>\n",
       "      <th>2</th>\n",
       "      <td>Android</td>\n",
       "      <td>30.82</td>\n",
       "    </tr>\n",
       "    <tr>\n",
       "      <th>3</th>\n",
       "      <td>iOS</td>\n",
       "      <td>3.28</td>\n",
       "    </tr>\n",
       "    <tr>\n",
       "      <th>4</th>\n",
       "      <td>Linux</td>\n",
       "      <td>1.97</td>\n",
       "    </tr>\n",
       "  </tbody>\n",
       "</table>\n",
       "</div>"
      ],
      "text/plain": [
       "  platform percentage\n",
       "0    macOS       5.90\n",
       "1  Windows      58.03\n",
       "2  Android      30.82\n",
       "3      iOS       3.28\n",
       "4    Linux       1.97"
      ]
     },
     "execution_count": 128,
     "metadata": {},
     "output_type": "execute_result"
    }
   ],
   "source": [
    "plat_stats"
   ]
  }
 ],
 "metadata": {
  "jupytext": {
   "formats": "notebooks//ipynb,scripts//py:percent"
  },
  "kernelspec": {
   "display_name": "antifraud-simulator-2BSHYcN--py3.12",
   "language": "python",
   "name": "python3"
  },
  "language_info": {
   "codemirror_mode": {
    "name": "ipython",
    "version": 3
   },
   "file_extension": ".py",
   "mimetype": "text/x-python",
   "name": "python",
   "nbconvert_exporter": "python",
   "pygments_lexer": "ipython3",
   "version": "3.12.7"
  }
 },
 "nbformat": 4,
 "nbformat_minor": 5
}
