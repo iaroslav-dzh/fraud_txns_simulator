{
 "cells": [
  {
   "cell_type": "markdown",
   "id": "14b18edc-a113-4674-98aa-657b33b217e6",
   "metadata": {},
   "source": [
    "# **Объединение всех видов генерации. Оркестрация генерации в цельный генератор транзакций**\n",
    "- **ноутбуки лучше просматривать** на Github pages, т.к. при просмотре прямо в репозитории могут быть проблемы с отображением, например, обрезка вывода с широкими датафреймами. **Если в адресной строке браузера есть** `iaroslav-dzh.github.io`, то вы уже на Github pages.  \n",
    "Ссылки:\n",
    "    -  **[Ссылка](https://iaroslav-dzh.github.io/fraud_txns_simulator/13_%D0%9E%D0%B1%D1%8A%D0%B5%D0%B4%D0%B8%D0%BD%D0%B5%D0%BD%D0%B8%D0%B5_%D0%B2%D1%81%D0%B5%D1%85_%D0%B2%D0%B8%D0%B4%D0%BE%D0%B2_%D0%B3%D0%B5%D0%BD%D0%B5%D1%80%D0%B0%D1%86%D0%B8%D0%B8.html)** на этот ноутбук\n",
    "    -  **[Ссылка](https://iaroslav-dzh.github.io/fraud_txns_simulator/)** на страницу со всеми ноутбуками\n",
    "\n",
    "**Информация о ноутбуке**  \n",
    "- объединение в цельный генератор происходит в скрипте `run_generator.py` - **[ссылка в Github](https://github.com/iaroslav-dzh/fraud_txns_simulator/blob/main/run_generator.py)** - это входная точка в запуск генератора. В этом ноутбуке будут приведены два новых инструмента употребляемых в `run_generator.py`, ими являются:\n",
    "    - валидатор некоторых конфигураций, указанных в `yaml` файлах - класс `ConfigsValidator` \n",
    "    - класс `AllTxnsRecorder` - сборка файлов с транзакциями созданными при генерации каждого раздела транзакций - легальные, compromised fraud, дропы обоих типов - в единый датафрейм и запись в файл в двух копиях\n",
    "- также будет приведен и сам скрипт `run_generator.py`\n",
    "- это последний ноутбук описывающий генерацию транзакций\n"
   ]
  },
  {
   "cell_type": "markdown",
   "id": "fccef14b-89c8-4556-946b-a09f54fd75d1",
   "metadata": {},
   "source": [
    "<br>"
   ]
  },
  {
   "cell_type": "code",
   "execution_count": 1,
   "id": "9bae0688-e957-42bd-85f1-6ae1be67dca1",
   "metadata": {},
   "outputs": [],
   "source": [
    "import os\n",
    "import pandas as pd"
   ]
  },
  {
   "cell_type": "code",
   "execution_count": 2,
   "id": "2ede8b9d-5e1a-444c-a645-d64c0d40b96e",
   "metadata": {},
   "outputs": [],
   "source": [
    "from data_generator.utils import load_configs"
   ]
  },
  {
   "cell_type": "code",
   "execution_count": 3,
   "id": "0f128e57-c215-4a96-802f-c1f928f4d26e",
   "metadata": {},
   "outputs": [],
   "source": [
    "os.chdir(\"..\")"
   ]
  },
  {
   "cell_type": "code",
   "execution_count": 6,
   "id": "a7dbe7ed-9e19-418a-97ea-5b352f7fc0fb",
   "metadata": {},
   "outputs": [],
   "source": [
    "# Базовые конфиги\n",
    "base_cfg = load_configs(\"./config/base.yaml\")\n",
    "# Настройки легальных транзакций\n",
    "legit_cfg = load_configs(\"./config/legit.yaml\")\n",
    "# Общие настройки фрода\n",
    "fraud_cfg = load_configs(\"./config/fraud.yaml\")\n",
    "# Настройки compromised client фрода\n",
    "compr_cfg = load_configs(\"./config/compr.yaml\")\n",
    "# Настройки для дроп фрода\n",
    "drops_cfg = load_configs(\"./config/drops.yaml\")\n",
    "# Настройки времени\n",
    "time_cfg = load_configs(\"./config/time.yaml\") \n",
    "\n",
    "# Пути к файлам\n",
    "data_paths = base_cfg[\"data_paths\"]\n",
    "\n",
    "# директория текущего запуска генератора. Возьмем из предыдущего ноутбука.\n",
    "# Т.к. нужны транз-ции сгенерировнные всеми разделами\n",
    "\n",
    "run_dir = './data/generated/history/generation_run_2025-07-25_121029'"
   ]
  },
  {
   "cell_type": "markdown",
   "id": "354a0e15-45fd-440a-8bf6-cc54ac843c19",
   "metadata": {},
   "source": [
    "<br>"
   ]
  },
  {
   "cell_type": "markdown",
   "id": "eccbf410-ab37-4fa9-a3ad-f264a4b246fe",
   "metadata": {},
   "source": [
    "# **Дополнительные инструменты цельной генерации**\n",
    "<br>"
   ]
  },
  {
   "cell_type": "markdown",
   "id": "f70675f0-cd56-4b7c-83f6-580a5a228ac6",
   "metadata": {},
   "source": [
    "## 1. Валидатор конфигураций `ConfigsValidator`\n",
    "- модуль `data_generator.validator`. **[Ссылка](https://github.com/iaroslav-dzh/fraud_txns_simulator/blob/main/data_generator/validator.py)** на исходный код в Github\n",
    "\n",
    "**Основной функционал**\n",
    "- валидация некоторых конфигураций в `yaml` файлах из папки `configs/`.\n",
    "- подразумевается использование в начале запуска генератора перед генерацией транзакций, чтобы избежать случаев когда часть данных сгенерируется, а потом из-за невыполнимых конфигов будет ошибка и генерация не завершится, но время будет потрачено. Особенно это актуально если успешно сгенерировались легальные транзакции, которые генерируются самыми первыми и дольше всего, при том значительно дольше других разделов генерации; а потом ошибка в генерации compromised фрода или дроп фрода из-за того что их конфиги невыполнимы.\n",
    "    - Например, легальные транзакции и compromised fraud использовали всех клиентов под свою генерацию либо просто слишком много и для выставленного в конфигах желаемого процента дроп фрода, клиентов уже не хватает, следовательно, выходит ошибка, но время уже потрачено на генерацию легальных и compromised, и приходится менять конфиги и запускать заново. И если конфиги снова невыполнимы, то снова тратится время на генерацию прежде чем все \"упадет\".\n",
    "    - также тексты ошибок валидатора помогают быстрее понять, что дело в конфигах и в каких именно\n",
    "- Примеры частей валидации:\n",
    "    - валидация compromised client fraud rate. Клиентов под compromised фрод мы берем из числа клиентов использованных для генерации легальных транзакций. Но в отличии от легальных транзакций, где на одного клиента много транзакций, что значит что на 3000 клиентов можно сгенерировать например 10000 транзакций; в compromised фроде число транзакций немногим больше числа клиентов т.к. генерация под все антифрод правила кроме одного подразумевает 1 транзакцию на 1 клиента. Если fraud rate в конфигах слишком высок или входящий в него compromised fraud rate слишком высок или и то и другое, то может случиться, что клиентов для фрода, нужно больше чем было задействовано клиентов под легальные транзакции.\n",
    "    - валидация drop rate. Под дропов берутся клиенты не задействованные в генерации легальных и compromised fraud транзакций. Следовательно, может быть так, что легальные и compromised возьмут слишком много клиентов и для генерации drop rate процента транзакций клиентов уже не хватит"
   ]
  },
  {
   "cell_type": "markdown",
   "id": "cca63d22-e84f-42cf-a426-3dbd654693b5",
   "metadata": {},
   "source": [
    "### **Демонстрация `ConfigsValidator`**\n",
    "- просто один метод"
   ]
  },
  {
   "cell_type": "code",
   "execution_count": 2,
   "id": "b502c9c0-d7d6-408e-80e4-7b4083d24aeb",
   "metadata": {},
   "outputs": [],
   "source": [
    "from data_generator.validator import ConfigsValidator\n",
    "\n",
    "cfg_validator = ConfigsValidator(base_cfg, legit_cfg, fraud_cfg, drops_cfg)"
   ]
  },
  {
   "cell_type": "markdown",
   "id": "1f59fda0-7de8-45f6-b21c-9df895518f9f",
   "metadata": {},
   "source": [
    "#### **Метод `validate_drops_rate()`**\n",
    "- не хватает клиентов под дроп фрод\n",
    "- ниже в тексте ошибки предлагается снизить кол-во легальных транзакций в конфигах. Это чтобы уменьшить кол-во клиентов которые требуются под генерацию большого кол-ва легальных транзакций\n",
    "- также важно отметить, что все абсолютные числа кол-ва клиентов необходимых для того или иного раздела генерации **примерные** т.к. начиная с генерации легальных транзакций кол-во на каждого клиента определяется по нормальному обрезанному распределению, среднее и станд. откл. которого указывается в конфигах. То есть число легальных транзакций жестко не определено, отсюда кол-во транзакций под выставленный fraud rate считается уже исходя из фактического кол-ва легальных транз-ций. Для валидации конфигов т.к. неизвестно сколько сгенерируется легальных транзакций, берется максимально возможное кол-во легальных транзакций, учитывая вероятность возможного \"переполнения\" - вероятность что транз. сгенерируется больше чем расчитанное макс. возможное кол-во. Т.е. если допустимая вероятность \"переполнения\" выставленная в конфигах как `0.001`, то это значит, что мы возьмем макс. возможное число лег. транз. как 99,999 перцентиль в распределении возможного числа лег. транз."
   ]
  },
  {
   "cell_type": "code",
   "execution_count": 3,
   "id": "41c2b09e-ab9c-422f-af93-85d3bc609c12",
   "metadata": {
    "scrolled": true
   },
   "outputs": [
    {
     "name": "stdout",
     "output_type": "stream",
     "text": [
      "\n",
      "\n"
     ]
    },
    {
     "ename": "ValueError",
     "evalue": "Total clients number needed for drop fraud generation\n            exceeds the available clients number.\n            Clients number needed for drops: 2323\n            Available clients: 350\n            Legit txns clients: 5000\n            Compr fraud clients: 19\n            Please do one or both:\n            1. Reduce legit txns number.\n            2. Reduce total fraud rate.",
     "output_type": "error",
     "traceback": [
      "\u001b[31m---------------------------------------------------------------------------\u001b[39m",
      "\u001b[31mValueError\u001b[39m                                Traceback (most recent call last)",
      "\u001b[36mCell\u001b[39m\u001b[36m \u001b[39m\u001b[32mIn[3]\u001b[39m\u001b[32m, line 1\u001b[39m\n\u001b[32m----> \u001b[39m\u001b[32m1\u001b[39m \u001b[43mcfg_validator\u001b[49m\u001b[43m.\u001b[49m\u001b[43mvalidate_drops_rate\u001b[49m\u001b[43m(\u001b[49m\u001b[43m)\u001b[49m\n",
      "\u001b[36mFile \u001b[39m\u001b[32m~\\My_documents\\Education\\projects\\fraud_detection_01\\data_generator\\validator.py:199\u001b[39m, in \u001b[36mConfigsValidator.validate_drops_rate\u001b[39m\u001b[34m(self)\u001b[39m\n\u001b[32m    197\u001b[39m \u001b[38;5;28;01mif\u001b[39;00m remainder < total_drops:\n\u001b[32m    198\u001b[39m     \u001b[38;5;28mprint\u001b[39m(\u001b[33m\"\u001b[39m\u001b[38;5;130;01m\\n\u001b[39;00m\u001b[33m\"\u001b[39m)\n\u001b[32m--> \u001b[39m\u001b[32m199\u001b[39m     \u001b[38;5;28;01mraise\u001b[39;00m \u001b[38;5;167;01mValueError\u001b[39;00m(\u001b[33mf\u001b[39m\u001b[33m\"\"\"\u001b[39m\u001b[33mTotal clients number needed for drop fraud generation\u001b[39m\n\u001b[32m    200\u001b[39m \u001b[33m    exceeds the available clients number.\u001b[39m\n\u001b[32m    201\u001b[39m \u001b[33m    Clients number needed for drops: \u001b[39m\u001b[38;5;132;01m{\u001b[39;00mtotal_drops\u001b[38;5;132;01m}\u001b[39;00m\n\u001b[32m    202\u001b[39m \u001b[33m    Available clients: \u001b[39m\u001b[38;5;132;01m{\u001b[39;00mremainder\u001b[38;5;132;01m}\u001b[39;00m\n\u001b[32m    203\u001b[39m \u001b[33m    Legit txns clients: \u001b[39m\u001b[38;5;132;01m{\u001b[39;00mlegit_clients\u001b[38;5;132;01m}\u001b[39;00m\n\u001b[32m    204\u001b[39m \u001b[33m    Compr fraud clients: \u001b[39m\u001b[38;5;132;01m{\u001b[39;00mcompr_clients\u001b[38;5;132;01m}\u001b[39;00m\n\u001b[32m    205\u001b[39m \u001b[33m    Please do one or both:\u001b[39m\n\u001b[32m    206\u001b[39m \u001b[33m    1. Reduce legit txns number.\u001b[39m\n\u001b[32m    207\u001b[39m \u001b[33m    2. Reduce total fraud rate.\u001b[39m\u001b[33m\"\"\"\u001b[39m)\n\u001b[32m    209\u001b[39m \u001b[38;5;28;01mif\u001b[39;00m total_drops <= \u001b[32m0\u001b[39m:\n\u001b[32m    210\u001b[39m     \u001b[38;5;28;01mraise\u001b[39;00m \u001b[38;5;167;01mValueError\u001b[39;00m(\u001b[33mf\u001b[39m\u001b[33m\"\"\"\u001b[39m\u001b[38;5;130;01m\\n\u001b[39;00m\u001b[33mTotal drops number cannot be 0 or lower.\u001b[39m\n\u001b[32m    211\u001b[39m \u001b[33m    Total estimated drops: \u001b[39m\u001b[38;5;132;01m{\u001b[39;00mtotal_drops\u001b[38;5;132;01m}\u001b[39;00m\n\u001b[32m    212\u001b[39m \u001b[33m    Please do one of below or combine:\u001b[39m\n\u001b[32m    213\u001b[39m \u001b[33m    1. Increase drop fraud rates\u001b[39m\n\u001b[32m    214\u001b[39m \u001b[33m    2. Increase total fraud rate\u001b[39m\n\u001b[32m    215\u001b[39m \u001b[33m    3. Increase legit txns number\u001b[39m\u001b[33m\"\"\"\u001b[39m)\n",
      "\u001b[31mValueError\u001b[39m: Total clients number needed for drop fraud generation\n            exceeds the available clients number.\n            Clients number needed for drops: 2323\n            Available clients: 350\n            Legit txns clients: 5000\n            Compr fraud clients: 19\n            Please do one or both:\n            1. Reduce legit txns number.\n            2. Reduce total fraud rate."
     ]
    }
   ],
   "source": [
    "cfg_validator.validate_drops_rate()"
   ]
  },
  {
   "cell_type": "markdown",
   "id": "6bf6c36d-a246-46ab-a729-f891aba03afa",
   "metadata": {},
   "source": [
    "<br><br>"
   ]
  },
  {
   "cell_type": "markdown",
   "id": "21c4ac36-b0ef-43cd-b5be-4dce1942643f",
   "metadata": {},
   "source": [
    "# 2. Запись всех созданных транзакций в единый файл. Класс `AllTxnsRecorder`\n",
    "- модуль `data_generator.recorder`. **[Ссылка](https://github.com/iaroslav-dzh/fraud_txns_simulator/blob/main/data_generator/recorder.py)** на исходный код в Github\n",
    "\n",
    "**Основной функционал**\n",
    "- сборка целого датафрейма из всех созданных транзакций: легальных, фрода всех типов\n",
    "- запись собранного датафрейма в файл в двух директориях: индивидуальную под текущую генерацию и под последнюю генерацию  \n",
    "\n",
    "**Основная логика**\n",
    "- когда сгенерированы транзакции всех разделов:\n",
    "    1.  читает транзакции из всех отдельных файлов каждого раздела\n",
    "    2.  создает из них единый датафрейм и сортирует по времени транзакции\n",
    "    3.  пишет датафрейм в `parquet` файл в две директории"
   ]
  },
  {
   "cell_type": "markdown",
   "id": "edb82336-a5ea-4714-8670-e13abf1d64a2",
   "metadata": {},
   "source": [
    "### **Демонстрация `AllTxnsRecorder`**\n",
    "- просто соберем из файлов всех сгенерированных ранее транзакций один датафрейм и запишем в файл через метод `build_and_write()`, а затем сверим размер цельного датафрейма с суммой размеров всех отдельных датафреймов"
   ]
  },
  {
   "cell_type": "code",
   "execution_count": 7,
   "id": "a2f10d14-d5f6-401f-939b-189b91853b81",
   "metadata": {},
   "outputs": [],
   "source": [
    "from data_generator.recorder import AllTxnsRecorder\n",
    "\n",
    "all_recorder = AllTxnsRecorder(base_cfg, legit_cfg, compr_cfg, drops_cfg, run_dir)"
   ]
  },
  {
   "cell_type": "markdown",
   "id": "192a7484-c61c-4def-b228-a53ce0e02bdc",
   "metadata": {},
   "source": [
    "#### **1. Прочитаем и запишем в переменные одиночные файлы с транзакциями**\n",
    "- для сверки суммарной длины одиночных файлов и цельного файла"
   ]
  },
  {
   "cell_type": "code",
   "execution_count": 9,
   "id": "42683d9b-6ad2-4a90-9e3d-190dfa4eaa4b",
   "metadata": {},
   "outputs": [
    {
     "data": {
      "text/html": [
       "<div>\n",
       "<style scoped>\n",
       "    .dataframe tbody tr th:only-of-type {\n",
       "        vertical-align: middle;\n",
       "    }\n",
       "\n",
       "    .dataframe tbody tr th {\n",
       "        vertical-align: top;\n",
       "    }\n",
       "\n",
       "    .dataframe thead th {\n",
       "        text-align: right;\n",
       "    }\n",
       "</style>\n",
       "<table border=\"1\" class=\"dataframe\">\n",
       "  <thead>\n",
       "    <tr style=\"text-align: right;\">\n",
       "      <th></th>\n",
       "      <th>client_id</th>\n",
       "      <th>txn_time</th>\n",
       "      <th>unix_time</th>\n",
       "      <th>amount</th>\n",
       "      <th>type</th>\n",
       "      <th>channel</th>\n",
       "      <th>category</th>\n",
       "      <th>online</th>\n",
       "      <th>merchant_id</th>\n",
       "      <th>trans_city</th>\n",
       "      <th>trans_lat</th>\n",
       "      <th>trans_lon</th>\n",
       "      <th>trans_ip</th>\n",
       "      <th>device_id</th>\n",
       "      <th>account</th>\n",
       "      <th>is_fraud</th>\n",
       "      <th>is_suspicious</th>\n",
       "      <th>status</th>\n",
       "      <th>rule</th>\n",
       "    </tr>\n",
       "  </thead>\n",
       "  <tbody>\n",
       "    <tr>\n",
       "      <th>0</th>\n",
       "      <td>3937</td>\n",
       "      <td>2025-01-01 00:02:00</td>\n",
       "      <td>1735689720</td>\n",
       "      <td>1878.0</td>\n",
       "      <td>purchase</td>\n",
       "      <td>POS</td>\n",
       "      <td>grocery_pos</td>\n",
       "      <td>False</td>\n",
       "      <td>989.0</td>\n",
       "      <td>Пермь</td>\n",
       "      <td>58.045040</td>\n",
       "      <td>56.170369</td>\n",
       "      <td>not applicable</td>\n",
       "      <td>NaN</td>\n",
       "      <td>NaN</td>\n",
       "      <td>False</td>\n",
       "      <td>False</td>\n",
       "      <td>approved</td>\n",
       "      <td>not applicable</td>\n",
       "    </tr>\n",
       "    <tr>\n",
       "      <th>1</th>\n",
       "      <td>4275</td>\n",
       "      <td>2025-01-01 00:27:00</td>\n",
       "      <td>1735691220</td>\n",
       "      <td>1000.0</td>\n",
       "      <td>purchase</td>\n",
       "      <td>POS</td>\n",
       "      <td>gas_transport</td>\n",
       "      <td>False</td>\n",
       "      <td>727.0</td>\n",
       "      <td>Тамбов</td>\n",
       "      <td>52.715932</td>\n",
       "      <td>41.465163</td>\n",
       "      <td>not applicable</td>\n",
       "      <td>NaN</td>\n",
       "      <td>NaN</td>\n",
       "      <td>False</td>\n",
       "      <td>False</td>\n",
       "      <td>approved</td>\n",
       "      <td>not applicable</td>\n",
       "    </tr>\n",
       "  </tbody>\n",
       "</table>\n",
       "</div>"
      ],
      "text/plain": [
       "   client_id            txn_time   unix_time  amount      type channel  \\\n",
       "0       3937 2025-01-01 00:02:00  1735689720  1878.0  purchase     POS   \n",
       "1       4275 2025-01-01 00:27:00  1735691220  1000.0  purchase     POS   \n",
       "\n",
       "        category  online  merchant_id trans_city  trans_lat  trans_lon  \\\n",
       "0    grocery_pos   False        989.0      Пермь  58.045040  56.170369   \n",
       "1  gas_transport   False        727.0     Тамбов  52.715932  41.465163   \n",
       "\n",
       "         trans_ip  device_id  account  is_fraud  is_suspicious    status  \\\n",
       "0  not applicable        NaN      NaN     False          False  approved   \n",
       "1  not applicable        NaN      NaN     False          False  approved   \n",
       "\n",
       "             rule  \n",
       "0  not applicable  \n",
       "1  not applicable  "
      ]
     },
     "execution_count": 9,
     "metadata": {},
     "output_type": "execute_result"
    }
   ],
   "source": [
    "# Легальные транзакции. \n",
    "# соберем полный путь. run_dir определен в начале ноутбука, остальное из конфигов\n",
    "leg_storage = legit_cfg[\"data_storage\"]\n",
    "leg_folder = leg_storage[\"folder_name\"] # поддиректория для лег. транз.\n",
    "leg_file = leg_storage[\"files\"][\"txns\"] # название файла с лег. транз\n",
    "leg_path = os.path.join(run_dir, leg_folder, leg_file)\n",
    "\n",
    "leg_txns = pd.read_parquet(leg_path)\n",
    "leg_txns.head(2)"
   ]
  },
  {
   "cell_type": "code",
   "execution_count": 10,
   "id": "f38efd19-c3a1-483b-b1b7-0753fcd74e69",
   "metadata": {},
   "outputs": [
    {
     "data": {
      "text/html": [
       "<div>\n",
       "<style scoped>\n",
       "    .dataframe tbody tr th:only-of-type {\n",
       "        vertical-align: middle;\n",
       "    }\n",
       "\n",
       "    .dataframe tbody tr th {\n",
       "        vertical-align: top;\n",
       "    }\n",
       "\n",
       "    .dataframe thead th {\n",
       "        text-align: right;\n",
       "    }\n",
       "</style>\n",
       "<table border=\"1\" class=\"dataframe\">\n",
       "  <thead>\n",
       "    <tr style=\"text-align: right;\">\n",
       "      <th></th>\n",
       "      <th>client_id</th>\n",
       "      <th>txn_time</th>\n",
       "      <th>unix_time</th>\n",
       "      <th>amount</th>\n",
       "      <th>type</th>\n",
       "      <th>channel</th>\n",
       "      <th>category</th>\n",
       "      <th>online</th>\n",
       "      <th>merchant_id</th>\n",
       "      <th>trans_city</th>\n",
       "      <th>trans_lat</th>\n",
       "      <th>trans_lon</th>\n",
       "      <th>trans_ip</th>\n",
       "      <th>device_id</th>\n",
       "      <th>account</th>\n",
       "      <th>is_fraud</th>\n",
       "      <th>is_suspicious</th>\n",
       "      <th>status</th>\n",
       "      <th>rule</th>\n",
       "    </tr>\n",
       "  </thead>\n",
       "  <tbody>\n",
       "    <tr>\n",
       "      <th>0</th>\n",
       "      <td>1114</td>\n",
       "      <td>2025-01-20 11:13:47</td>\n",
       "      <td>1737371627</td>\n",
       "      <td>24741.85</td>\n",
       "      <td>purchase</td>\n",
       "      <td>ecom</td>\n",
       "      <td>shopping_net</td>\n",
       "      <td>True</td>\n",
       "      <td>6949.0</td>\n",
       "      <td>Иваново</td>\n",
       "      <td>56.999468</td>\n",
       "      <td>40.972823</td>\n",
       "      <td>5.8.23.242</td>\n",
       "      <td>12408.0</td>\n",
       "      <td>NaN</td>\n",
       "      <td>True</td>\n",
       "      <td>False</td>\n",
       "      <td>declined</td>\n",
       "      <td>new_ip_and_device_high_amount</td>\n",
       "    </tr>\n",
       "    <tr>\n",
       "      <th>1</th>\n",
       "      <td>1125</td>\n",
       "      <td>2025-01-18 18:47:28</td>\n",
       "      <td>1737226048</td>\n",
       "      <td>19148.95</td>\n",
       "      <td>purchase</td>\n",
       "      <td>ecom</td>\n",
       "      <td>misc_net</td>\n",
       "      <td>True</td>\n",
       "      <td>6835.0</td>\n",
       "      <td>Новокузнецк</td>\n",
       "      <td>53.794276</td>\n",
       "      <td>87.214405</td>\n",
       "      <td>5.8.0.153</td>\n",
       "      <td>14458.0</td>\n",
       "      <td>NaN</td>\n",
       "      <td>True</td>\n",
       "      <td>False</td>\n",
       "      <td>declined</td>\n",
       "      <td>new_device_and_high_amount</td>\n",
       "    </tr>\n",
       "  </tbody>\n",
       "</table>\n",
       "</div>"
      ],
      "text/plain": [
       "   client_id            txn_time   unix_time    amount      type channel  \\\n",
       "0       1114 2025-01-20 11:13:47  1737371627  24741.85  purchase    ecom   \n",
       "1       1125 2025-01-18 18:47:28  1737226048  19148.95  purchase    ecom   \n",
       "\n",
       "       category  online  merchant_id   trans_city  trans_lat  trans_lon  \\\n",
       "0  shopping_net    True       6949.0      Иваново  56.999468  40.972823   \n",
       "1      misc_net    True       6835.0  Новокузнецк  53.794276  87.214405   \n",
       "\n",
       "     trans_ip  device_id  account  is_fraud  is_suspicious    status  \\\n",
       "0  5.8.23.242    12408.0      NaN      True          False  declined   \n",
       "1   5.8.0.153    14458.0      NaN      True          False  declined   \n",
       "\n",
       "                            rule  \n",
       "0  new_ip_and_device_high_amount  \n",
       "1     new_device_and_high_amount  "
      ]
     },
     "execution_count": 10,
     "metadata": {},
     "output_type": "execute_result"
    }
   ],
   "source": [
    "# compromised fraud транзакции.\n",
    "compr_storage = compr_cfg[\"data_storage\"]\n",
    "compr_folder = compr_storage[\"folder_name\"] # поддиректория\n",
    "compr_file = compr_storage[\"files\"][\"txns\"] # название файла\n",
    "compr_path = os.path.join(run_dir, compr_folder, compr_file)\n",
    "\n",
    "compr_txns = pd.read_parquet(compr_path)\n",
    "compr_txns.head(2)"
   ]
  },
  {
   "cell_type": "code",
   "execution_count": 12,
   "id": "13f15c1a-63fa-4039-82d2-69357dd45c4d",
   "metadata": {},
   "outputs": [
    {
     "data": {
      "text/html": [
       "<div>\n",
       "<style scoped>\n",
       "    .dataframe tbody tr th:only-of-type {\n",
       "        vertical-align: middle;\n",
       "    }\n",
       "\n",
       "    .dataframe tbody tr th {\n",
       "        vertical-align: top;\n",
       "    }\n",
       "\n",
       "    .dataframe thead th {\n",
       "        text-align: right;\n",
       "    }\n",
       "</style>\n",
       "<table border=\"1\" class=\"dataframe\">\n",
       "  <thead>\n",
       "    <tr style=\"text-align: right;\">\n",
       "      <th></th>\n",
       "      <th>client_id</th>\n",
       "      <th>txn_time</th>\n",
       "      <th>unix_time</th>\n",
       "      <th>amount</th>\n",
       "      <th>type</th>\n",
       "      <th>channel</th>\n",
       "      <th>category</th>\n",
       "      <th>online</th>\n",
       "      <th>merchant_id</th>\n",
       "      <th>trans_city</th>\n",
       "      <th>trans_lat</th>\n",
       "      <th>trans_lon</th>\n",
       "      <th>trans_ip</th>\n",
       "      <th>device_id</th>\n",
       "      <th>account</th>\n",
       "      <th>is_fraud</th>\n",
       "      <th>is_suspicious</th>\n",
       "      <th>status</th>\n",
       "      <th>rule</th>\n",
       "    </tr>\n",
       "  </thead>\n",
       "  <tbody>\n",
       "    <tr>\n",
       "      <th>0</th>\n",
       "      <td>2101</td>\n",
       "      <td>2025-01-15 05:25:00</td>\n",
       "      <td>1736918700</td>\n",
       "      <td>15600.0</td>\n",
       "      <td>inbound</td>\n",
       "      <td>transfer</td>\n",
       "      <td>not applicable</td>\n",
       "      <td>True</td>\n",
       "      <td>NaN</td>\n",
       "      <td>not applicable</td>\n",
       "      <td>NaN</td>\n",
       "      <td>NaN</td>\n",
       "      <td>not applicable</td>\n",
       "      <td>NaN</td>\n",
       "      <td>11986.0</td>\n",
       "      <td>False</td>\n",
       "      <td>False</td>\n",
       "      <td>approved</td>\n",
       "      <td>not applicable</td>\n",
       "    </tr>\n",
       "    <tr>\n",
       "      <th>1</th>\n",
       "      <td>2101</td>\n",
       "      <td>2025-01-15 06:12:00</td>\n",
       "      <td>1736921520</td>\n",
       "      <td>9000.0</td>\n",
       "      <td>outbound</td>\n",
       "      <td>transfer</td>\n",
       "      <td>not applicable</td>\n",
       "      <td>True</td>\n",
       "      <td>NaN</td>\n",
       "      <td>Волгоград</td>\n",
       "      <td>48.7072</td>\n",
       "      <td>44.517021</td>\n",
       "      <td>2.60.7.195</td>\n",
       "      <td>3548.0</td>\n",
       "      <td>22668.0</td>\n",
       "      <td>False</td>\n",
       "      <td>False</td>\n",
       "      <td>approved</td>\n",
       "      <td>not applicable</td>\n",
       "    </tr>\n",
       "  </tbody>\n",
       "</table>\n",
       "</div>"
      ],
      "text/plain": [
       "   client_id            txn_time   unix_time   amount      type   channel  \\\n",
       "0       2101 2025-01-15 05:25:00  1736918700  15600.0   inbound  transfer   \n",
       "1       2101 2025-01-15 06:12:00  1736921520   9000.0  outbound  transfer   \n",
       "\n",
       "         category  online  merchant_id      trans_city  trans_lat  trans_lon  \\\n",
       "0  not applicable    True          NaN  not applicable        NaN        NaN   \n",
       "1  not applicable    True          NaN       Волгоград    48.7072  44.517021   \n",
       "\n",
       "         trans_ip  device_id  account  is_fraud  is_suspicious    status  \\\n",
       "0  not applicable        NaN  11986.0     False          False  approved   \n",
       "1      2.60.7.195     3548.0  22668.0     False          False  approved   \n",
       "\n",
       "             rule  \n",
       "0  not applicable  \n",
       "1  not applicable  "
      ]
     },
     "execution_count": 12,
     "metadata": {},
     "output_type": "execute_result"
    }
   ],
   "source": [
    "# транзакции дропов распределителей\n",
    "dist_storage = drops_cfg[\"distributor\"][\"data_storage\"]\n",
    "dist_folder = dist_storage[\"folder_name\"] # поддиректория\n",
    "dist_file = dist_storage[\"files\"][\"txns\"] # название файла\n",
    "dist_path = os.path.join(run_dir, dist_folder, dist_file)\n",
    "\n",
    "dist_txns = pd.read_parquet(dist_path)\n",
    "dist_txns.head(2)"
   ]
  },
  {
   "cell_type": "code",
   "execution_count": 13,
   "id": "1fd0f612-16bd-4b93-9d6d-77463b9d6d57",
   "metadata": {},
   "outputs": [
    {
     "data": {
      "text/html": [
       "<div>\n",
       "<style scoped>\n",
       "    .dataframe tbody tr th:only-of-type {\n",
       "        vertical-align: middle;\n",
       "    }\n",
       "\n",
       "    .dataframe tbody tr th {\n",
       "        vertical-align: top;\n",
       "    }\n",
       "\n",
       "    .dataframe thead th {\n",
       "        text-align: right;\n",
       "    }\n",
       "</style>\n",
       "<table border=\"1\" class=\"dataframe\">\n",
       "  <thead>\n",
       "    <tr style=\"text-align: right;\">\n",
       "      <th></th>\n",
       "      <th>client_id</th>\n",
       "      <th>txn_time</th>\n",
       "      <th>unix_time</th>\n",
       "      <th>amount</th>\n",
       "      <th>type</th>\n",
       "      <th>channel</th>\n",
       "      <th>category</th>\n",
       "      <th>online</th>\n",
       "      <th>merchant_id</th>\n",
       "      <th>trans_city</th>\n",
       "      <th>trans_lat</th>\n",
       "      <th>trans_lon</th>\n",
       "      <th>trans_ip</th>\n",
       "      <th>device_id</th>\n",
       "      <th>account</th>\n",
       "      <th>is_fraud</th>\n",
       "      <th>is_suspicious</th>\n",
       "      <th>status</th>\n",
       "      <th>rule</th>\n",
       "    </tr>\n",
       "  </thead>\n",
       "  <tbody>\n",
       "    <tr>\n",
       "      <th>0</th>\n",
       "      <td>454</td>\n",
       "      <td>2025-01-06 07:06:00</td>\n",
       "      <td>1736147160</td>\n",
       "      <td>31300.0</td>\n",
       "      <td>inbound</td>\n",
       "      <td>transfer</td>\n",
       "      <td>not applicable</td>\n",
       "      <td>True</td>\n",
       "      <td>NaN</td>\n",
       "      <td>not applicable</td>\n",
       "      <td>NaN</td>\n",
       "      <td>NaN</td>\n",
       "      <td>not applicable</td>\n",
       "      <td>NaN</td>\n",
       "      <td>10432.0</td>\n",
       "      <td>False</td>\n",
       "      <td>False</td>\n",
       "      <td>approved</td>\n",
       "      <td>not applicable</td>\n",
       "    </tr>\n",
       "    <tr>\n",
       "      <th>1</th>\n",
       "      <td>454</td>\n",
       "      <td>2025-01-06 08:14:00</td>\n",
       "      <td>1736151240</td>\n",
       "      <td>21000.0</td>\n",
       "      <td>purchase</td>\n",
       "      <td>ecom</td>\n",
       "      <td>shopping_net</td>\n",
       "      <td>True</td>\n",
       "      <td>6919.0</td>\n",
       "      <td>Саратов</td>\n",
       "      <td>51.530376</td>\n",
       "      <td>45.953026</td>\n",
       "      <td>2.60.1.177</td>\n",
       "      <td>763.0</td>\n",
       "      <td>NaN</td>\n",
       "      <td>False</td>\n",
       "      <td>False</td>\n",
       "      <td>approved</td>\n",
       "      <td>not applicable</td>\n",
       "    </tr>\n",
       "  </tbody>\n",
       "</table>\n",
       "</div>"
      ],
      "text/plain": [
       "   client_id            txn_time   unix_time   amount      type   channel  \\\n",
       "0        454 2025-01-06 07:06:00  1736147160  31300.0   inbound  transfer   \n",
       "1        454 2025-01-06 08:14:00  1736151240  21000.0  purchase      ecom   \n",
       "\n",
       "         category  online  merchant_id      trans_city  trans_lat  trans_lon  \\\n",
       "0  not applicable    True          NaN  not applicable        NaN        NaN   \n",
       "1    shopping_net    True       6919.0         Саратов  51.530376  45.953026   \n",
       "\n",
       "         trans_ip  device_id  account  is_fraud  is_suspicious    status  \\\n",
       "0  not applicable        NaN  10432.0     False          False  approved   \n",
       "1      2.60.1.177      763.0      NaN     False          False  approved   \n",
       "\n",
       "             rule  \n",
       "0  not applicable  \n",
       "1  not applicable  "
      ]
     },
     "execution_count": 13,
     "metadata": {},
     "output_type": "execute_result"
    }
   ],
   "source": [
    "# транзакции дропов покупателей\n",
    "purch_storage = drops_cfg[\"purchaser\"][\"data_storage\"]\n",
    "purch_folder = purch_storage[\"folder_name\"] # поддиректория\n",
    "purch_file = purch_storage[\"files\"][\"txns\"] # название файла\n",
    "purch_path = os.path.join(run_dir, purch_folder, purch_file)\n",
    "\n",
    "purch_txns = pd.read_parquet(purch_path)\n",
    "purch_txns.head(2)"
   ]
  },
  {
   "cell_type": "markdown",
   "id": "5a0386da-c9d2-441b-934b-89fcec4ac97a",
   "metadata": {},
   "source": [
    "#### **2. сборка всех транзакций в целый датафрейм и запись в один файл через метод `build_and_write()`**\n",
    "- затем прочитаем этот целый файл"
   ]
  },
  {
   "cell_type": "code",
   "execution_count": 14,
   "id": "7fc1d66d-0648-464b-8e47-50baa4f17a62",
   "metadata": {},
   "outputs": [
    {
     "name": "stdout",
     "output_type": "stream",
     "text": [
      "Building and writing all txns dataframe... completed.          \n"
     ]
    }
   ],
   "source": [
    "all_recorder.build_and_write()"
   ]
  },
  {
   "cell_type": "markdown",
   "id": "b0ddae6b-0518-4508-a2bf-47ba6b7afacf",
   "metadata": {},
   "source": [
    "**Читаем**\n",
    "- файл находится прямо в директории текущего запуска генератора `run_dir` "
   ]
  },
  {
   "cell_type": "code",
   "execution_count": 17,
   "id": "3951aad8-88fd-4195-91b3-54835b678e29",
   "metadata": {},
   "outputs": [
    {
     "data": {
      "text/html": [
       "<div>\n",
       "<style scoped>\n",
       "    .dataframe tbody tr th:only-of-type {\n",
       "        vertical-align: middle;\n",
       "    }\n",
       "\n",
       "    .dataframe tbody tr th {\n",
       "        vertical-align: top;\n",
       "    }\n",
       "\n",
       "    .dataframe thead th {\n",
       "        text-align: right;\n",
       "    }\n",
       "</style>\n",
       "<table border=\"1\" class=\"dataframe\">\n",
       "  <thead>\n",
       "    <tr style=\"text-align: right;\">\n",
       "      <th></th>\n",
       "      <th>client_id</th>\n",
       "      <th>txn_time</th>\n",
       "      <th>unix_time</th>\n",
       "      <th>amount</th>\n",
       "      <th>type</th>\n",
       "      <th>channel</th>\n",
       "      <th>category</th>\n",
       "      <th>online</th>\n",
       "      <th>merchant_id</th>\n",
       "      <th>trans_city</th>\n",
       "      <th>trans_lat</th>\n",
       "      <th>trans_lon</th>\n",
       "      <th>trans_ip</th>\n",
       "      <th>device_id</th>\n",
       "      <th>account</th>\n",
       "      <th>is_fraud</th>\n",
       "      <th>is_suspicious</th>\n",
       "      <th>status</th>\n",
       "      <th>rule</th>\n",
       "    </tr>\n",
       "  </thead>\n",
       "  <tbody>\n",
       "    <tr>\n",
       "      <th>0</th>\n",
       "      <td>3937</td>\n",
       "      <td>2025-01-01 00:02:00</td>\n",
       "      <td>1735689720</td>\n",
       "      <td>1878.0</td>\n",
       "      <td>purchase</td>\n",
       "      <td>POS</td>\n",
       "      <td>grocery_pos</td>\n",
       "      <td>False</td>\n",
       "      <td>989.0</td>\n",
       "      <td>Пермь</td>\n",
       "      <td>58.045040</td>\n",
       "      <td>56.170369</td>\n",
       "      <td>not applicable</td>\n",
       "      <td>NaN</td>\n",
       "      <td>NaN</td>\n",
       "      <td>False</td>\n",
       "      <td>False</td>\n",
       "      <td>approved</td>\n",
       "      <td>not applicable</td>\n",
       "    </tr>\n",
       "    <tr>\n",
       "      <th>1</th>\n",
       "      <td>4275</td>\n",
       "      <td>2025-01-01 00:27:00</td>\n",
       "      <td>1735691220</td>\n",
       "      <td>1000.0</td>\n",
       "      <td>purchase</td>\n",
       "      <td>POS</td>\n",
       "      <td>gas_transport</td>\n",
       "      <td>False</td>\n",
       "      <td>727.0</td>\n",
       "      <td>Тамбов</td>\n",
       "      <td>52.715932</td>\n",
       "      <td>41.465163</td>\n",
       "      <td>not applicable</td>\n",
       "      <td>NaN</td>\n",
       "      <td>NaN</td>\n",
       "      <td>False</td>\n",
       "      <td>False</td>\n",
       "      <td>approved</td>\n",
       "      <td>not applicable</td>\n",
       "    </tr>\n",
       "  </tbody>\n",
       "</table>\n",
       "</div>"
      ],
      "text/plain": [
       "   client_id            txn_time   unix_time  amount      type channel  \\\n",
       "0       3937 2025-01-01 00:02:00  1735689720  1878.0  purchase     POS   \n",
       "1       4275 2025-01-01 00:27:00  1735691220  1000.0  purchase     POS   \n",
       "\n",
       "        category  online  merchant_id trans_city  trans_lat  trans_lon  \\\n",
       "0    grocery_pos   False        989.0      Пермь  58.045040  56.170369   \n",
       "1  gas_transport   False        727.0     Тамбов  52.715932  41.465163   \n",
       "\n",
       "         trans_ip  device_id  account  is_fraud  is_suspicious    status  \\\n",
       "0  not applicable        NaN      NaN     False          False  approved   \n",
       "1  not applicable        NaN      NaN     False          False  approved   \n",
       "\n",
       "             rule  \n",
       "0  not applicable  \n",
       "1  not applicable  "
      ]
     },
     "execution_count": 17,
     "metadata": {},
     "output_type": "execute_result"
    }
   ],
   "source": [
    "base_storage = base_cfg[\"data_storage\"]\n",
    "all_txns_file = base_storage[\"files\"][\"all_txns\"] # название файла\n",
    "all_txns_path = os.path.join(run_dir, all_txns_file)\n",
    "\n",
    "all_txns = pd.read_parquet(all_txns_path)\n",
    "all_txns.head(2)"
   ]
  },
  {
   "cell_type": "markdown",
   "id": "7b9cda90-f027-47a4-b90a-d91e8c635da3",
   "metadata": {},
   "source": [
    "#### **3. Сверяем** "
   ]
  },
  {
   "cell_type": "code",
   "execution_count": 20,
   "id": "b1c21b4d-534e-453d-8ed0-135a82d9d1ac",
   "metadata": {},
   "outputs": [
    {
     "data": {
      "text/plain": [
       "19903"
      ]
     },
     "execution_count": 20,
     "metadata": {},
     "output_type": "execute_result"
    }
   ],
   "source": [
    "# суммарная длина датафреймов из отдельных файлов\n",
    "sep_file_len_sum = sum([leg_txns.shape[0], compr_txns.shape[0], dist_txns.shape[0], purch_txns.shape[0]])\n",
    "sep_file_len_sum"
   ]
  },
  {
   "cell_type": "code",
   "execution_count": 23,
   "id": "46c71390-c9bf-4940-bebf-7424a5e229e4",
   "metadata": {},
   "outputs": [
    {
     "name": "stdout",
     "output_type": "stream",
     "text": [
      "Длина единого датафрейма равна суммарной длине отдельных датафреймов.\n",
      "Длина: 19903\n"
     ]
    }
   ],
   "source": [
    "# длина датафрейма из единого файла\n",
    "whole_df_len = all_txns.shape[0]\n",
    "\n",
    "assert sep_file_len_sum == whole_df_len, \"Суммарная длина отдельных датафреймов не равна длине единого датафрейма.\"\n",
    "print(f\"\"\"Длина единого датафрейма равна суммарной длине отдельных датафреймов.\n",
    "Длина: {whole_df_len}\"\"\")"
   ]
  },
  {
   "cell_type": "markdown",
   "id": "983be8c9-1188-4b93-9f3e-2b08d27a0fcf",
   "metadata": {},
   "source": [
    "<br><br>"
   ]
  },
  {
   "cell_type": "markdown",
   "id": "346f632b-3de8-4d2c-83ad-52f6ffc3ac4d",
   "metadata": {},
   "source": [
    "# **Оркестрация разделов генерации в единый генератор транзакций**\n",
    "<br>"
   ]
  },
  {
   "cell_type": "markdown",
   "id": "b99cd0e0-568a-45db-8d54-6d2c6d3314e7",
   "metadata": {},
   "source": [
    "## Единая точка входа. Скрипт запуска генератора `run_generator.py`\n",
    "- **[Ссылка](https://github.com/iaroslav-dzh/fraud_txns_simulator/blob/main/run_generator.py)** на исходный код в Github   \n",
    "\n",
    "**Основной функционал**\n",
    "- создание индивидуальной директории под текущий запуск генератора\n",
    "- запуск всех разделов генерации: легальные транз., compromised fraud, дропы распределители, дропы покупатели\n",
    "- сборка отдельных файлов с транзакциями каждого раздела в один датафрейм и запись его в единый файл  \n",
    "\n",
    "**Основная логика**\n",
    "1. загрузка всех конфигов из `configs/`\n",
    "2. валидация конфигов при помощи `ConfigsValidator`\n",
    "3. создание директории под текущий запуск\n",
    "4. поочередное создание объектов оркестраторов каждого раздела генерации и запуск генерации для каждого раздела. Порядок:\n",
    "    - создать объект `LegitRunner`, запустить генерацию легальных транзакций\n",
    "    - создать объект `ComprRunner`, запустить генерацию compromised fraud транзакций\n",
    "    - создать объект `DropsRunner` для дропов *распределителей*, запустить генерацию транзакций\n",
    "    - создать объект `DropsRunner` для дропов *покупателей*, запустить генерацию транзакций\n",
    "5. создание объекта `AllTxnsRecorder` на основании конфиг файлов и пути директории текущего запуска\n",
    "6. сборка единого датафрейма и запись в файл в две директории: текущего запуска и последнего запуска при помощи метода `AllTxnsRecorder.build_and_write()`\n",
    "7. Вывод сообщения о том где искать конечный файл со сгенерированными транзакциями"
   ]
  },
  {
   "cell_type": "code",
   "execution_count": 1,
   "id": "6034dfb1-4cd5-4a8f-af5e-953a949db585",
   "metadata": {},
   "outputs": [],
   "source": [
    "from pathlib import Path\n",
    "\n",
    "from data_generator.utils import load_configs\n",
    "from data_generator.validator import ConfigsValidator \n",
    "from data_generator.runner.utils import make_dir_for_run\n",
    "from data_generator.runner.legit import LegitRunner\n",
    "from data_generator.runner.compr import ComprRunner\n",
    "from data_generator.runner.drops import DropsRunner\n",
    "from data_generator.recorder import AllTxnsRecorder\n",
    "\n",
    "# Общие настройки\n",
    "base_cfg = load_configs(\"./config/base.yaml\")\n",
    "# Настройки легальных транзакций\n",
    "legit_cfg = load_configs(\"./config/legit.yaml\")\n",
    "# Общие настройки фрода\n",
    "fraud_cfg = load_configs(\"./config/fraud.yaml\")\n",
    "# Настройки compromised client фрода\n",
    "compr_cfg = load_configs(\"./config/compr.yaml\")\n",
    "# Настройки времени\n",
    "time_cfg = load_configs(\"./config/time.yaml\")\n",
    "# Настройки дроп фрода\n",
    "drop_cfg = load_configs(\"./config/drops.yaml\")\n",
    "\n",
    "\n",
    "# Валидация основных конфигов перед началом генерации\n",
    "cfg_validator = ConfigsValidator(base_cfg=base_cfg, legit_cfg=legit_cfg, \\\n",
    "                                 fraud_cfg=fraud_cfg, drop_cfg=drop_cfg)\n",
    "cfg_validator.validate_all()\n",
    "\n",
    "# Создаем папку под файлы текущей генерации\n",
    "run_dir = make_dir_for_run(base_cfg=base_cfg)\n",
    "\n",
    "# Генерация легальных транзакций\n",
    "legit_runner = LegitRunner(base_cfg=base_cfg, legit_cfg=legit_cfg, \\\n",
    "                           time_cfg=time_cfg, run_dir=run_dir)\n",
    "legit_runner.run()\n",
    "\n",
    "\n",
    "# Генерация compromised client fraud транзакций\n",
    "compr_runner = ComprRunner(base_cfg=base_cfg, legit_cfg=legit_cfg, \\\n",
    "                           time_cfg=time_cfg, fraud_cfg=fraud_cfg, \\\n",
    "                           compr_cfg=compr_cfg, run_dir=run_dir)\n",
    "compr_runner.run()\n",
    "\n",
    "\n",
    "# Генерация фрода дропов распределителей \n",
    "dist_drops_runner = DropsRunner(base_cfg=base_cfg, legit_cfg=legit_cfg, \\\n",
    "                                time_cfg=time_cfg, fraud_cfg=fraud_cfg, \\\n",
    "                                drops_cfg=drop_cfg, run_dir=run_dir, \\\n",
    "                                drop_type=\"distributor\")\n",
    "dist_drops_runner.run()\n",
    "\n",
    "\n",
    "# Генерация фрода дропов покупателей \n",
    "purch_drops_runner = DropsRunner(base_cfg=base_cfg, legit_cfg=legit_cfg, \\\n",
    "                                time_cfg=time_cfg, fraud_cfg=fraud_cfg, \\\n",
    "                                drops_cfg=drop_cfg, run_dir=run_dir, \\\n",
    "                                drop_type=\"purchaser\")\n",
    "purch_drops_runner.run()\n",
    "\n",
    "\n",
    "# Сборка созданных транзакций в один датафрейм и запись в один файл в двух директориях\n",
    "recorder = AllTxnsRecorder(base_cfg=base_cfg, legit_cfg=legit_cfg, compr_cfg=compr_cfg, \\\n",
    "                           drops_cfg=drop_cfg, run_dir=run_dir)\n",
    "\n",
    "recorder.build_and_write()\n",
    "\n",
    "# Вывод сообщения о том куда сохранены сгенерированные транзакции\n",
    "latest_path = Path(base_cfg[\"data_paths\"][\"generated\"][\"latest\"])\n",
    "print(f\"\"\"\\n\n",
    "Generated files are located in {run_dir} - individual folder for this run.\n",
    "And in {latest_path} - contains files of the last run only.\"\"\")\n",
    "input(\"\\nPress Enter to exit...\")"
   ]
  },
  {
   "cell_type": "markdown",
   "id": "d66d6c2c-a644-4a11-ab2f-9dccb04f82f8",
   "metadata": {},
   "source": [
    "<br><br>\n",
    "# **Конец описания генерации транзакций**\n",
    "- на этом описание процесса генерации транзакций закончено. Следующий ноутбук будет о загрузке созданных транзакций и других таблиц в базу данных SQL. БД планируется использовать при создании веб-приложения для просмотра транзакций и фрода."
   ]
  }
 ],
 "metadata": {
  "kernelspec": {
   "display_name": "Python (poetry-env)",
   "language": "python",
   "name": "poetry-env"
  },
  "language_info": {
   "codemirror_mode": {
    "name": "ipython",
    "version": 3
   },
   "file_extension": ".py",
   "mimetype": "text/x-python",
   "name": "python",
   "nbconvert_exporter": "python",
   "pygments_lexer": "ipython3",
   "version": "3.12.7"
  }
 },
 "nbformat": 4,
 "nbformat_minor": 5
}
