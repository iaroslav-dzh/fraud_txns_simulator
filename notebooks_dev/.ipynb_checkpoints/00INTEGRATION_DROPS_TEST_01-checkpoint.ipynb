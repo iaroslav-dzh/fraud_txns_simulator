{
 "cells": [
  {
   "cell_type": "code",
   "execution_count": 235,
   "id": "c30e67d7-4a3c-4d29-9477-ab02b02e86fc",
   "metadata": {},
   "outputs": [],
   "source": [
    "import pandas as pd\n",
    "import numpy as np\n",
    "import matplotlib.pyplot as plt\n",
    "import seaborn as sns\n",
    "import os\n",
    "import re\n",
    "import geopandas as gpd\n",
    "import random\n",
    "from scipy.stats import truncnorm, norm\n",
    "from collections import defaultdict\n",
    "import math\n",
    "from shapely.ops import transform\n",
    "from pyproj import Geod\n",
    "import pyarrow\n",
    "from datetime import datetime\n",
    "import sys\n",
    "import importlib\n",
    "from dataclasses import dataclass\n",
    "import yaml\n",
    "from typing import Union"
   ]
  },
  {
   "cell_type": "code",
   "execution_count": 4,
   "id": "a6dc00ed-f62f-4871-8e41-47c85bc4c8a9",
   "metadata": {},
   "outputs": [],
   "source": [
    "# добавляем папку modules в sys.path, чтобы импортировать функции созданные ранее\n",
    "\n",
    "# sys.path.append(os.path.abspath(os.path.join(\"..\", \"modules\")))"
   ]
  },
  {
   "cell_type": "code",
   "execution_count": 501,
   "id": "9d87e6be-bb84-44d9-9d35-924a25f2ddca",
   "metadata": {},
   "outputs": [],
   "source": [
    "# Функции генерации паттернов времени и базовые функции времени созданные ранее\n",
    "import data_generator.fraud.time\n",
    "import data_generator.fraud.txndata\n",
    "import data_generator.configs\n",
    "importlib.reload(data_generator.fraud.time)\n",
    "importlib.reload(data_generator.fraud.txndata)\n",
    "importlib.reload(data_generator.configs)\n",
    "from data_generator.general_time import *\n",
    "from data_generator.utils import build_transaction\n",
    "from data_generator.fraud.txndata import FraudTxnPartData, TransAmount, sample_category\n",
    "from data_generator.fraud.time import derive_from_last_time\n",
    "from data_generator.configs import PurchBehaviorHandler"
   ]
  },
  {
   "cell_type": "code",
   "execution_count": null,
   "id": "23828f2a-bd6f-46f6-ab48-67e874a45a45",
   "metadata": {},
   "outputs": [],
   "source": []
  },
  {
   "cell_type": "code",
   "execution_count": 10,
   "id": "6c6c9867-8d32-4b4d-9923-2b2f5711bfc8",
   "metadata": {},
   "outputs": [],
   "source": [
    "np.set_printoptions(suppress=True)\n",
    "pd.set_option('display.max_columns', None)"
   ]
  },
  {
   "cell_type": "code",
   "execution_count": 7,
   "id": "122df125-874a-4cc5-a123-74aca56e5baf",
   "metadata": {},
   "outputs": [
    {
     "data": {
      "text/plain": [
       "'C:\\\\Users\\\\iaros\\\\My_documents\\\\Education\\\\projects\\\\fraud_detection_01\\\\notebooks'"
      ]
     },
     "execution_count": 7,
     "metadata": {},
     "output_type": "execute_result"
    }
   ],
   "source": [
    "os.getcwd()"
   ]
  },
  {
   "cell_type": "code",
   "execution_count": 8,
   "id": "71fc90ba-44d1-4bc6-b2a3-edda53a9123b",
   "metadata": {},
   "outputs": [],
   "source": [
    "os.chdir(\"..\")"
   ]
  },
  {
   "cell_type": "code",
   "execution_count": 9,
   "id": "4c92f5c7-1b75-4e1b-97a1-34a61031d901",
   "metadata": {},
   "outputs": [
    {
     "data": {
      "text/plain": [
       "'C:\\\\Users\\\\iaros\\\\My_documents\\\\Education\\\\projects\\\\fraud_detection_01'"
      ]
     },
     "execution_count": 9,
     "metadata": {},
     "output_type": "execute_result"
    }
   ],
   "source": [
    "os.getcwd()"
   ]
  },
  {
   "cell_type": "markdown",
   "id": "ecd83afb-aeee-4488-b237-366ed2c85d61",
   "metadata": {},
   "source": [
    "## Загрузка конфигураций"
   ]
  },
  {
   "cell_type": "code",
   "execution_count": 18,
   "id": "2596e557-1894-4125-a02a-517e01ff04ff",
   "metadata": {},
   "outputs": [],
   "source": [
    "# Общие настройки\n",
    "with open(\"./config/base.yaml\") as f:\n",
    "    base_cfg = yaml.safe_load(f)\n",
    "# Настройки фрода\n",
    "with open(\"./config/fraud.yaml\") as f:\n",
    "    fraud_cfg = yaml.safe_load(f)\n",
    "# Настройки фрода для дропов\n",
    "with open(\"./config/drops.yaml\", encoding=\"utf8\") as f:\n",
    "    drops_cfg = yaml.safe_load(f)\n",
    "# Настройки времени\n",
    "with open(\"./config/time.yaml\") as f:\n",
    "    time_cfg = yaml.safe_load(f)"
   ]
  },
  {
   "cell_type": "markdown",
   "id": "b44b5ea0-cf43-46d2-8441-a1bb4c2331b0",
   "metadata": {},
   "source": [
    "# Доп. данные для генерации фрод транзакций"
   ]
  },
  {
   "cell_type": "markdown",
   "id": "908fd76b-76e1-45a1-a001-d8d03ef4baed",
   "metadata": {},
   "source": [
    "**Загрузка данных:**\n",
    "- оффлайн мерчантов\n",
    "- онлайн мерчантов\n",
    "- девайсов клиентов и мошенников\n",
    "- городов с полигонами\n",
    "- городов с координатами центров\n",
    "- клиентов\n",
    "- фрод IP адресов\n",
    "- категорий и их характеристик\n",
    "- категорий для дропов покупателей\n",
    "- Счетов клиентов\n",
    "- Внешних счетов"
   ]
  },
  {
   "cell_type": "code",
   "execution_count": 612,
   "id": "7602ab36-bd72-4160-8fec-753775f89880",
   "metadata": {},
   "outputs": [],
   "source": [
    "offline_merchants = gpd.read_file(\"./data/cleaned_data/offline_merchants_points.gpkg\")\n",
    "online_merchant_ids = pd.read_csv(\"./data/cleaned_data/online_merchant_ids.csv\").iloc[:, 0] # нужны в виде серии\n",
    "client_devices = pd.read_csv(\"./data/cleaned_data/client_devices.csv\")\n",
    "fraud_devices = pd.read_csv(\"./data/cleaned_data/fraud_devices.csv\")\n",
    "districts_ru = gpd.read_file(\"./data/cleaned_data/district_ru.gpkg\")\n",
    "area_centers = gpd.read_file(\"./data/cleaned_data/area_centers.gpkg\")\n",
    "clients_with_geo = gpd.read_file(\"./data/cleaned_data/clients_with_geo.gpkg\") \n",
    "fraud_ips = gpd.read_file(\"./data/cleaned_data/fraud_ips.gpkg\")\n",
    "cat_stats_full = pd.read_csv(\"./data/cleaned_data/cat_stats_full.csv\")\n",
    "cat_fraud_amts = pd.read_csv(\"./data/cleaned_data/cat_fraud_amts.csv\")\n",
    "drop_purch_cats = pd.read_csv(\"./data/cleaned_data/drop_purch_cats.csv\")\n",
    "accounts = pd.read_csv(\"./data/generated_data/accounts.csv\")\n",
    "outer_accounts = pd.read_csv(\"./data/generated_data/outer_accounts.csv\").iloc[:, 0] # нужны в виде серии"
   ]
  },
  {
   "cell_type": "markdown",
   "id": "d6807bb8-d463-4747-a07e-2c043865484b",
   "metadata": {},
   "source": [
    "### Создание аргументов для `DropDistributorCfg`"
   ]
  },
  {
   "cell_type": "code",
   "execution_count": 16,
   "id": "54162d98-aa61-497a-9f86-91baa0907eed",
   "metadata": {},
   "outputs": [],
   "source": [
    "# timestamp-ы использованные еще для генерации легальных и purchase фрод транзакций\n",
    "timestamps = pd.read_parquet(\"./data/generated_data/timestamps.parquet\", engine=\"pyarrow\")"
   ]
  },
  {
   "cell_type": "code",
   "execution_count": 19,
   "id": "3ee9f416-e7c0-4bfa-8228-5380879bf788",
   "metadata": {},
   "outputs": [],
   "source": [
    "time_weight_args = time_cfg[\"time_weights_args\"]"
   ]
  },
  {
   "cell_type": "code",
   "execution_count": 20,
   "id": "5a9f0664-ba62-4db7-8317-96538b7703cd",
   "metadata": {},
   "outputs": [],
   "source": [
    "time_weights_dict = get_all_time_patterns(time_weight_args)"
   ]
  },
  {
   "cell_type": "markdown",
   "id": "2f932473-9b9b-4420-a515-4dff743428c7",
   "metadata": {},
   "source": [
    "**Легальные транзакции**  \n",
    "Нужно знать их количество для определения числа фрод транзакций  \n",
    "и следовательно, количества клиентов для их генерации"
   ]
  },
  {
   "cell_type": "code",
   "execution_count": 21,
   "id": "dedea0b9-5aee-40db-bb20-055d46c5f942",
   "metadata": {},
   "outputs": [],
   "source": [
    "legit_txns = pd.read_parquet(\"./data/generated_data/legit_trans_148K.parquet\", engine=\"pyarrow\")"
   ]
  },
  {
   "cell_type": "markdown",
   "id": "3eb754d0-1349-4db0-b57d-a8aef4789cca",
   "metadata": {},
   "source": [
    "**Клиенты для дроп фрода**  \n",
    "Случайно возьмем клиентов, у которых нет никаких транзакций  \n",
    "Для этого загрузим семплированных для легальных транзакций клиентов, т.е. у кого были созданы легальные транзакции.  \n",
    "У части этих клиентов также созданы purchase фрод транзакции. Всех этих клиентов надо исключить."
   ]
  },
  {
   "cell_type": "code",
   "execution_count": 22,
   "id": "7f88b9d0-d717-463e-9829-bbf6e4860da2",
   "metadata": {},
   "outputs": [],
   "source": [
    "clients_sample_df = gpd.read_file(\"./data/cleaned_data/clients_sample.gpkg\")"
   ]
  },
  {
   "cell_type": "code",
   "execution_count": 23,
   "id": "c973cadc-fb7a-41e0-a3f3-beddd4471cb6",
   "metadata": {},
   "outputs": [
    {
     "data": {
      "text/plain": [
       "(3000, 12)"
      ]
     },
     "execution_count": 23,
     "metadata": {},
     "output_type": "execute_result"
    }
   ],
   "source": [
    "clients_sample_df.shape"
   ]
  },
  {
   "cell_type": "markdown",
   "id": "14e17758-50df-45ec-a01b-0f67809b8020",
   "metadata": {},
   "source": [
    "Конфиги загружаются временно тут"
   ]
  },
  {
   "cell_type": "code",
   "execution_count": 316,
   "id": "f903ce78-5623-409c-a537-90e7569358bc",
   "metadata": {},
   "outputs": [],
   "source": [
    "# Общие настройки\n",
    "with open(\"./config/base.yaml\") as f:\n",
    "    base_cfg = yaml.safe_load(f)\n",
    "# Настройки фрода\n",
    "with open(\"./config/fraud.yaml\") as f:\n",
    "    fraud_cfg = yaml.safe_load(f)\n",
    "# Настройки фрода для дропов\n",
    "with open(\"./config/drops.yaml\", encoding=\"utf8\") as f:\n",
    "    drops_cfg = yaml.safe_load(f)\n",
    "# Настройки времени\n",
    "with open(\"./config/time.yaml\") as f:\n",
    "    time_cfg = yaml.safe_load(f)"
   ]
  },
  {
   "cell_type": "code",
   "execution_count": 24,
   "id": "1ca9e428-50d7-4a3e-a7f8-209648c37a8b",
   "metadata": {},
   "outputs": [],
   "source": [
    "# доля дроп фрода - Дропы занимающиеся переводами и снятиями; и дропы, которые покупают товары на присланные деньги\n",
    "fraud_rate = fraud_cfg[\"fraud_rates\"][\"total\"]\n",
    "drop_dist_share = drops_cfg[\"distributor\"][\"rate\"] # Дропы распределители. Доля от всего фрода\n",
    "drop_purch_share = drops_cfg[\"purchaser\"][\"rate\"] # Дропы покупатели. Доля от всего фрода"
   ]
  },
  {
   "cell_type": "code",
   "execution_count": 25,
   "id": "4be2e34c-bac8-400a-bfbf-0b04ee53f8ff",
   "metadata": {},
   "outputs": [],
   "source": [
    "# лимит на исходящие транзакции дропа. Нужен сейчас для вычисления количества дропов распределителей\n",
    "\n",
    "dist_out_lim = drops_cfg[\"distributor\"][\"out_lim\"]"
   ]
  },
  {
   "cell_type": "code",
   "execution_count": 33,
   "id": "443dd48a-51c3-4040-ac96-a3d9b63cce82",
   "metadata": {},
   "outputs": [
    {
     "data": {
      "text/plain": [
       "28"
      ]
     },
     "execution_count": 33,
     "metadata": {},
     "output_type": "execute_result"
    }
   ],
   "source": [
    "# отсюда посчитаем количество клиентов для дроп фрода с распределением денег\n",
    "\n",
    "legit_count = legit_txns.shape[0]\n",
    "# подсчет количества транзакций равных 1% от всех транзакций\n",
    "# т.к. не все транзакции еще созданные, то считаем основываясь на количестве легальных транзакций и fraud rate\n",
    "one_perc = round(legit_count / ((1 - fraud_rate) * 100))\n",
    "# Один процент транзакций умножаем на долю транзакций дропов-распределителей и делим на максимальное количество\n",
    "# исходящих транзакций которое распределитель может сделать до детекта. Так находим сколько примерно дропов будет под такой фрод\n",
    "dist_drops_count = round(one_perc * drop_dist_share / dist_out_lim) \n",
    "dist_drops_count"
   ]
  },
  {
   "cell_type": "code",
   "execution_count": 34,
   "id": "7ee558ad-80ac-49e2-8b42-b00f2cf10f2a",
   "metadata": {},
   "outputs": [],
   "source": [
    "# Клиенты незадействованные ранее\n",
    "\n",
    "not_used_clients = clients_with_geo.loc[~clients_with_geo.client_id.isin(clients_sample_df.client_id)].copy()"
   ]
  },
  {
   "cell_type": "code",
   "execution_count": 35,
   "id": "851f96f8-c8c8-4a15-8a70-8ed56b1d1295",
   "metadata": {},
   "outputs": [],
   "source": [
    "# семплируем dist_drops_count клиентов\n",
    "\n",
    "dist_drop_clients = not_used_clients.sample(n=dist_drops_count).reset_index(drop=True)"
   ]
  },
  {
   "cell_type": "code",
   "execution_count": 36,
   "id": "4891e94f-7561-494f-9232-e9d7d9f4adc1",
   "metadata": {},
   "outputs": [
    {
     "data": {
      "text/html": [
       "<div>\n",
       "<style scoped>\n",
       "    .dataframe tbody tr th:only-of-type {\n",
       "        vertical-align: middle;\n",
       "    }\n",
       "\n",
       "    .dataframe tbody tr th {\n",
       "        vertical-align: top;\n",
       "    }\n",
       "\n",
       "    .dataframe thead th {\n",
       "        text-align: right;\n",
       "    }\n",
       "</style>\n",
       "<table border=\"1\" class=\"dataframe\">\n",
       "  <thead>\n",
       "    <tr style=\"text-align: right;\">\n",
       "      <th></th>\n",
       "      <th>client_id</th>\n",
       "      <th>district_id</th>\n",
       "      <th>birth_date</th>\n",
       "      <th>sex</th>\n",
       "      <th>region</th>\n",
       "      <th>area</th>\n",
       "      <th>timezone</th>\n",
       "      <th>lat</th>\n",
       "      <th>lon</th>\n",
       "      <th>population</th>\n",
       "      <th>home_ip</th>\n",
       "      <th>geometry</th>\n",
       "    </tr>\n",
       "  </thead>\n",
       "  <tbody>\n",
       "    <tr>\n",
       "      <th>0</th>\n",
       "      <td>52</td>\n",
       "      <td>32</td>\n",
       "      <td>1924-12-12</td>\n",
       "      <td>male</td>\n",
       "      <td>Курская</td>\n",
       "      <td>Курск</td>\n",
       "      <td>UTC+3</td>\n",
       "      <td>51.730339</td>\n",
       "      <td>36.192645</td>\n",
       "      <td>414595</td>\n",
       "      <td>2.60.0.50</td>\n",
       "      <td>MULTIPOLYGON (((36.0603 51.67692, 36.06039 51....</td>\n",
       "    </tr>\n",
       "    <tr>\n",
       "      <th>1</th>\n",
       "      <td>403</td>\n",
       "      <td>42</td>\n",
       "      <td>1973-05-26</td>\n",
       "      <td>female</td>\n",
       "      <td>Астраханская</td>\n",
       "      <td>Астрахань</td>\n",
       "      <td>UTC+4</td>\n",
       "      <td>46.365581</td>\n",
       "      <td>48.055998</td>\n",
       "      <td>520662</td>\n",
       "      <td>2.60.1.127</td>\n",
       "      <td>MULTIPOLYGON (((47.87112 46.26966, 47.87127 46...</td>\n",
       "    </tr>\n",
       "  </tbody>\n",
       "</table>\n",
       "</div>"
      ],
      "text/plain": [
       "   client_id  district_id  birth_date     sex        region       area  \\\n",
       "0         52           32  1924-12-12    male       Курская      Курск   \n",
       "1        403           42  1973-05-26  female  Астраханская  Астрахань   \n",
       "\n",
       "  timezone        lat        lon  population     home_ip  \\\n",
       "0    UTC+3  51.730339  36.192645      414595   2.60.0.50   \n",
       "1    UTC+4  46.365581  48.055998      520662  2.60.1.127   \n",
       "\n",
       "                                            geometry  \n",
       "0  MULTIPOLYGON (((36.0603 51.67692, 36.06039 51....  \n",
       "1  MULTIPOLYGON (((47.87112 46.26966, 47.87127 46...  "
      ]
     },
     "execution_count": 36,
     "metadata": {},
     "output_type": "execute_result"
    }
   ],
   "source": [
    "dist_drop_clients.head(2)"
   ]
  },
  {
   "cell_type": "code",
   "execution_count": 37,
   "id": "c8b7fe8d-200e-491a-98d1-88dfbb8dfb06",
   "metadata": {},
   "outputs": [
    {
     "data": {
      "text/plain": [
       "(28, 12)"
      ]
     },
     "execution_count": 37,
     "metadata": {},
     "output_type": "execute_result"
    }
   ],
   "source": [
    "dist_drop_clients.shape"
   ]
  },
  {
   "cell_type": "markdown",
   "id": "41bc701a-1ba4-49ee-8fd7-010714fbf90d",
   "metadata": {},
   "source": [
    "## Объект датакласса `DropDistributorCfg` конфиги для дропов распределителей"
   ]
  },
  {
   "cell_type": "code",
   "execution_count": 1015,
   "id": "07c26c2b-b46d-4e58-921b-ccd4227336a7",
   "metadata": {},
   "outputs": [],
   "source": [
    "# Импорт на время разработки\n",
    "import data_generator.configs\n",
    "importlib.reload(data_generator.configs)\n",
    "from data_generator.configs import DropDistributorCfg"
   ]
  },
  {
   "cell_type": "markdown",
   "id": "490d0ee2-5f93-4469-97f2-cd1a93df80ba",
   "metadata": {},
   "source": [
    "**Доп. конфиги из `drop.yaml`**"
   ]
  },
  {
   "cell_type": "code",
   "execution_count": 1016,
   "id": "35c248e0-7ba5-4246-9c11-260175c8a72b",
   "metadata": {},
   "outputs": [],
   "source": [
    "# временно\n",
    "\n",
    "# Общие настройки\n",
    "with open(\"./config/base.yaml\") as f:\n",
    "    base_cfg = yaml.safe_load(f)\n",
    "# Настройки фрода\n",
    "with open(\"./config/fraud.yaml\") as f:\n",
    "    fraud_cfg = yaml.safe_load(f)\n",
    "# Настройки фрода для дропов\n",
    "with open(\"./config/drops.yaml\", encoding=\"utf8\") as f:\n",
    "    drops_cfg = yaml.safe_load(f)\n",
    "# Настройки времени\n",
    "with open(\"./config/time.yaml\") as f:\n",
    "    time_cfg = yaml.safe_load(f)"
   ]
  },
  {
   "cell_type": "code",
   "execution_count": 1017,
   "id": "6e837c6b-344b-4985-aa35-dd9cb71abddc",
   "metadata": {},
   "outputs": [],
   "source": [
    "# Параметры обозначенные в config/drops.yaml\n",
    "\n",
    "dist_cfg = drops_cfg[\"distributor\"]\n",
    "dist_in_lim = dist_cfg[\"in_lim\"]\n",
    "dist_out_im = dist_cfg[\"out_lim\"]\n",
    "period_in_lim = dist_cfg[\"period_in_lim\"]\n",
    "period_out_lim = dist_cfg[\"period_out_lim\"]\n",
    "dist_lag_int = drops_cfg[\"lag_interval\"]\n",
    "two_way_delta = drops_cfg[\"two_way_delta\"]\n",
    "pos_delta = drops_cfg[\"pos_delta\"]\n",
    "split_rate = dist_cfg[\"split_rate\"]\n",
    "chunks = dist_cfg[\"chunks\"]\n",
    "dist_inbound = drops_cfg[\"inbound_amt\"]\n",
    "dist_round = dist_cfg[\"round\"]\n",
    "dist_trf_max = dist_cfg[\"trf_max\"]\n",
    "dist_reduce = dist_cfg[\"reduce_share\"]\n",
    "dist_att = dist_cfg[\"attempts\"]\n",
    "to_drops = dist_cfg[\"to_drops\"]\n",
    "crypto_rate = dist_cfg[\"crypto_rate\"]"
   ]
  },
  {
   "cell_type": "code",
   "execution_count": 1018,
   "id": "c761f555-8c53-4941-99cb-f0946e664438",
   "metadata": {},
   "outputs": [],
   "source": [
    "dist_configs = DropDistributorCfg(clients=dist_drop_clients, timestamps=timestamps, accounts=accounts, \\\n",
    "                                  outer_accounts=outer_accounts, client_devices=client_devices, atms=None, \\\n",
    "                                  online_merchant_ids=online_merchant_ids, cities=districts_ru, in_lim=dist_in_lim, \n",
    "                                  out_lim=dist_out_im, period_in_lim=period_in_lim, period_out_lim=period_out_lim, \\\n",
    "                                  lag_interval=dist_lag_int, two_way_delta=two_way_delta, pos_delta=pos_delta, \\\n",
    "                                  split_rate=split_rate, chunks=chunks, inbound_amt=dist_inbound, round=dist_round, \\\n",
    "                                  trf_max=dist_trf_max, reduce_share=dist_reduce, attempts=dist_att, to_drops=to_drops, \\\n",
    "                                  crypto_rate=crypto_rate\n",
    "                                 )"
   ]
  },
  {
   "cell_type": "markdown",
   "id": "38d40f97-305b-4daa-b418-13d9e03b6980",
   "metadata": {},
   "source": [
    "## Класс `DropPurchaserCfg` конфиги для дропов покупателей"
   ]
  },
  {
   "cell_type": "code",
   "execution_count": null,
   "id": "8fbb203a-e536-434a-9e72-7bcd35637e22",
   "metadata": {},
   "outputs": [],
   "source": []
  },
  {
   "cell_type": "markdown",
   "id": "ce779776-cb0b-437b-8f47-cb04122e0437",
   "metadata": {},
   "source": [
    "## Объект класса `DropTxnPartData` для распределителей\n",
    "- генерация части данных транзакции"
   ]
  },
  {
   "cell_type": "code",
   "execution_count": 92,
   "id": "bc277e88-ecc1-4dca-9899-414dee8bda8e",
   "metadata": {},
   "outputs": [],
   "source": [
    "part_txn_data_dist = DropTxnPartData(configs=dist_configs)"
   ]
  },
  {
   "cell_type": "markdown",
   "id": "211ccbc6-9e4e-4195-82ea-e14b15a61949",
   "metadata": {},
   "source": [
    "## Класс `CreateDropTxn`"
   ]
  },
  {
   "cell_type": "code",
   "execution_count": 270,
   "id": "f300af58-3414-48c8-af1a-799e79120cf7",
   "metadata": {},
   "outputs": [],
   "source": [
    "class CreateDistTxn:\n",
    "    \"\"\"\n",
    "    Создание транзакций дропа распределителя под разное поведение.\n",
    "    \"\"\"\n",
    "    def __init__(self, timestamps, trans_partial_data, drop_client_cls, in_txns=0, out_txns=0, in_lim=6, out_lim=8, last_txn={}, \\\n",
    "                attempts=0):\n",
    "        \"\"\"\n",
    "        timestamps - pd.DataFrame.\n",
    "        trans_partial_data - FraudTransPartialData. Генератор части данных транзакции - мерчант, гео, ip, девайс и т.п.\n",
    "        drop_client_cls - DropClient. Генератор активности дропов: суммы, счета, баланс\n",
    "        in_txns - int. Количество входящих транзакций\n",
    "        out_txns - int. Количество исходящих транзакций\n",
    "        in_lim - int. Лимит входящих транзакций. Транзакции клиента совершенные после достижения этого лимита отклоняются\n",
    "        out_lim - int. Лимит исходящих транзакций. Транзакции клиента совершенные после достижения этого лимита отклоняются\n",
    "        last_txn - dict. Полные данные последней транзакции\n",
    "        attempts - int. Сколько попыток совершить операцию будет сделано дропом после первой отклоненной транзакции.\n",
    "        \"\"\"\n",
    "        self.timestamps = timestamps\n",
    "        self.trans_partial_data = trans_partial_data\n",
    "        self.drop_client = drop_client_cls\n",
    "        self.in_txns = in_txns\n",
    "        self.out_txns = out_txns\n",
    "        self.in_lim = in_lim\n",
    "        self.out_lim = out_lim\n",
    "        self.last_txn = last_txn\n",
    "        self.attempts = attempts\n",
    "\n",
    "\n",
    "    def cash_flow_action(self, online, declined, in_chunks, to_drop_share=0.2, receive=False): # <------------------------- KEEP, EDIT\n",
    "        \"\"\"\n",
    "        Один входящий/исходящий перевод либо одно снятие в банкомате.\n",
    "        ---------------------\n",
    "        online - bool. Онлайн перевод или снятие в банкомате.\n",
    "        declined - bool. Будет ли текущая транзакция отклонена.\n",
    "        in_chunks - bool. Транзакция будет частью серии транзакций.\n",
    "        to_drop_share - float. Вероятность, что дроп пошлет другому дропу\n",
    "        receive - входящий перевод или нет.\n",
    "        \"\"\"\n",
    "        client_id = self.trans_partial_data.client_info.client_id # берем из namedtuple\n",
    "        \n",
    "        # Время транзакции. Оно должно быть создано до увеличения счетчика self.in_txns\n",
    "        txn_time, txn_unix = self.get_txn_time(in_lim=2, out_lim=5, lag_interval=1440)\n",
    "\n",
    "        # перевод дропу\n",
    "        if receive:\n",
    "            self.in_txns += 1\n",
    "            amount = self.drop_client.receive(declined=declined)\n",
    "            account = self.drop_client.account\n",
    "        # перевод от дропа    \n",
    "        elif not receive and online:\n",
    "            to_drop = np.random.choice([True, False], p=[to_drop_share, 1 - to_drop_share])\n",
    "            self.out_txns += 1\n",
    "            account = self.drop_client.get_account(to_drop=to_drop)\n",
    "        # снятие дропом    \n",
    "        elif not receive and not online:\n",
    "            account = self.drop_client.account\n",
    "            self.out_txns += 1\n",
    "        \n",
    "        # Генерация части данных транзакции. Здесь прописываются аргументы online и receive\n",
    "        merchant_id, trans_lat, trans_lon, trans_ip, trans_city, device_id, channel, type = \\\n",
    "                                                self.trans_partial_data.original_transfer_or_atm(online=online, receive=receive)\n",
    "        \n",
    "        # Генерация суммы если исходящая транзакция\n",
    "        # Если эта транзакция только часть серии операций для распределения всего баланса\n",
    "        if in_chunks:\n",
    "            chunk = self.drop_client.get_chunk_size(online=online, atm_min=10000, start=5000, stop=25000, step=5000)\n",
    "            amount = self.drop_client.one_operation(declined=declined, in_chunks=in_chunks)\n",
    "            \n",
    "        # Иначе если не по частям и не входящая транзакция. not receive т.к. этот метод и для входящих транзакций\n",
    "        # а у входящих транзакций своя генерация суммы\n",
    "        elif not in_chunks and not receive:\n",
    "            amount = self.drop_client.one_operation(declined=declined, in_chunks=in_chunks)\n",
    "\n",
    "        if declined:\n",
    "            status = \"declined\"\n",
    "            is_fraud = True\n",
    "            rule = \"drop_flow_cashout\"\n",
    "        else:\n",
    "            status = \"approved\"\n",
    "            is_fraud = False\n",
    "            rule = \"not applicable\"\n",
    "\n",
    "        # Статичные характеристики\n",
    "        is_suspicious = False\n",
    "        category_name=\"not applicable\"\n",
    "\n",
    "        # Сборка всех данных в транзакцию и запись как послдней транзакции\n",
    "        self.last_txn = build_transaction(client_id=client_id, txn_time=txn_time, txn_unix=txn_unix, amount=amount, type=type, channel=channel, \\\n",
    "                             category_name=category_name, online=online, merchant_id=merchant_id, trans_city=trans_city, \\\n",
    "                             trans_lat=trans_lat, trans_lon=trans_lon, trans_ip=trans_ip, device_id=device_id, account=account, \\\n",
    "                             is_fraud=is_fraud, is_suspicious=is_suspicious, status=status, rule=rule)\n",
    "\n",
    "        return self.last_txn\n",
    "\n",
    "    \n",
    "    def limit_reached(self): # <------------------------- KEEP\n",
    "        \"\"\"\n",
    "        Проверка достижения лимитов входящих и исходящих транзакций\n",
    "        Сверка с self.in_lim и self.out_lim\n",
    "        ------------------------\n",
    "        Вернет True если какой либо лимит достигнут\n",
    "        \"\"\"\n",
    "        if self.in_lim == self.in_txns:\n",
    "            return True\n",
    "        if self.out_lim == self.out_txns:\n",
    "            return True\n",
    "        return False\n",
    "\n",
    "    def reset_cache(self, only_counters=True): # <------------------------- KEEP, EDIT\n",
    "        \"\"\"\n",
    "        Сброос кэшированных данных\n",
    "        -------------\n",
    "        only_counters - bool\n",
    "                        Если True будут сброшены: self.in_txns, self.out_txns, self.attempts.\n",
    "                        Если False то также сбросится информация о последней транзакции self.last_txn\n",
    "        \"\"\"\n",
    "        \n",
    "        self.in_txns = 0\n",
    "        self.out_txns = 0\n",
    "        self.batch_txns = 0\n",
    "\n",
    "        if only_counters:\n",
    "            return\n",
    "\n",
    "        self.last_txn = {}"
   ]
  },
  {
   "cell_type": "markdown",
   "id": "f434619c-ca8e-4675-895e-15b8182cabbe",
   "metadata": {},
   "source": [
    "### **`trf_or_atm`**"
   ]
  },
  {
   "cell_type": "markdown",
   "id": "6fb81fc0-5e0e-4da9-9b45-1e0639e9de6a",
   "metadata": {},
   "source": [
    "НЕ отклоненный входящий перевод  \n",
    "`BehavHand.online=None, receive=True, declined=False, BehavHand.in_chunks=False`"
   ]
  },
  {
   "cell_type": "code",
   "execution_count": 569,
   "id": "b07f5b4a-16f7-4dc0-98ad-0f8c15566ac7",
   "metadata": {
    "scrolled": true
   },
   "outputs": [
    {
     "data": {
      "text/html": [
       "<div>\n",
       "<style scoped>\n",
       "    .dataframe tbody tr th:only-of-type {\n",
       "        vertical-align: middle;\n",
       "    }\n",
       "\n",
       "    .dataframe tbody tr th {\n",
       "        vertical-align: top;\n",
       "    }\n",
       "\n",
       "    .dataframe thead th {\n",
       "        text-align: right;\n",
       "    }\n",
       "</style>\n",
       "<table border=\"1\" class=\"dataframe\">\n",
       "  <thead>\n",
       "    <tr style=\"text-align: right;\">\n",
       "      <th></th>\n",
       "      <th>client_id</th>\n",
       "      <th>account_id</th>\n",
       "      <th>is_drop</th>\n",
       "    </tr>\n",
       "  </thead>\n",
       "  <tbody>\n",
       "    <tr>\n",
       "      <th>5206</th>\n",
       "      <td>11794</td>\n",
       "      <td>15206</td>\n",
       "      <td>False</td>\n",
       "    </tr>\n",
       "  </tbody>\n",
       "</table>\n",
       "</div>"
      ],
      "text/plain": [
       "      client_id  account_id  is_drop\n",
       "5206      11794       15206    False"
      ]
     },
     "execution_count": 569,
     "metadata": {},
     "output_type": "execute_result"
    }
   ],
   "source": [
    "acc_hand1.accounts.query(\"client_id == 11794\")[\"account\"]\n",
    "acc_hand1.accounts.loc[acc_hand1.accounts.client_id == acc_hand1.client_id, \"account_id\"].iat[0]"
   ]
  },
  {
   "cell_type": "code",
   "execution_count": 993,
   "id": "30f3acbc-25f6-46e6-b03b-085f71301659",
   "metadata": {},
   "outputs": [
    {
     "data": {
      "text/html": [
       "<div>\n",
       "<style scoped>\n",
       "    .dataframe tbody tr th:only-of-type {\n",
       "        vertical-align: middle;\n",
       "    }\n",
       "\n",
       "    .dataframe tbody tr th {\n",
       "        vertical-align: top;\n",
       "    }\n",
       "\n",
       "    .dataframe thead th {\n",
       "        text-align: right;\n",
       "    }\n",
       "</style>\n",
       "<table border=\"1\" class=\"dataframe\">\n",
       "  <thead>\n",
       "    <tr style=\"text-align: right;\">\n",
       "      <th></th>\n",
       "      <th>client_id</th>\n",
       "      <th>txn_time</th>\n",
       "      <th>unix_time</th>\n",
       "      <th>amount</th>\n",
       "      <th>type</th>\n",
       "      <th>channel</th>\n",
       "      <th>category</th>\n",
       "      <th>online</th>\n",
       "      <th>merchant_id</th>\n",
       "      <th>trans_city</th>\n",
       "      <th>trans_lat</th>\n",
       "      <th>trans_lon</th>\n",
       "      <th>trans_ip</th>\n",
       "      <th>device_id</th>\n",
       "      <th>account</th>\n",
       "      <th>is_fraud</th>\n",
       "      <th>is_suspicious</th>\n",
       "      <th>status</th>\n",
       "      <th>rule</th>\n",
       "    </tr>\n",
       "  </thead>\n",
       "  <tbody>\n",
       "    <tr>\n",
       "      <th>0</th>\n",
       "      <td>11794</td>\n",
       "      <td>2025-01-09 23:00:00</td>\n",
       "      <td>1736463600</td>\n",
       "      <td>42500.0</td>\n",
       "      <td>inbound</td>\n",
       "      <td>transfer</td>\n",
       "      <td>not applicable</td>\n",
       "      <td>True</td>\n",
       "      <td>NaN</td>\n",
       "      <td>not applicable</td>\n",
       "      <td>NaN</td>\n",
       "      <td>NaN</td>\n",
       "      <td>not applicable</td>\n",
       "      <td>NaN</td>\n",
       "      <td>15206</td>\n",
       "      <td>False</td>\n",
       "      <td>False</td>\n",
       "      <td>approved</td>\n",
       "      <td>not applicable</td>\n",
       "    </tr>\n",
       "  </tbody>\n",
       "</table>\n",
       "</div>"
      ],
      "text/plain": [
       "   client_id            txn_time   unix_time   amount     type   channel  \\\n",
       "0      11794 2025-01-09 23:00:00  1736463600  42500.0  inbound  transfer   \n",
       "\n",
       "         category  online  merchant_id      trans_city  trans_lat  trans_lon  \\\n",
       "0  not applicable    True          NaN  not applicable        NaN        NaN   \n",
       "\n",
       "         trans_ip  device_id  account  is_fraud  is_suspicious    status  \\\n",
       "0  not applicable        NaN    15206     False          False  approved   \n",
       "\n",
       "             rule  \n",
       "0  not applicable  "
      ]
     },
     "execution_count": 993,
     "metadata": {},
     "output_type": "execute_result"
    }
   ],
   "source": [
    "reset_caches(cr_drop_txn1, behav_hand1, amt_hand1, time_hand1, part_data1)\n",
    "\n",
    "behav_hand1.online = None\n",
    "behav_hand1.in_chunks = None\n",
    "receive_txn = cr_drop_txn1.trf_or_atm(declined=False, to_drop=False, receive=True)\n",
    "\n",
    "pd.DataFrame([receive_txn])"
   ]
  },
  {
   "cell_type": "code",
   "execution_count": 723,
   "id": "c573a09e-762f-4427-a266-a6954782b53e",
   "metadata": {},
   "outputs": [
    {
     "data": {
      "text/plain": [
       "(np.float64(36000.0), 0)"
      ]
     },
     "execution_count": 723,
     "metadata": {},
     "output_type": "execute_result"
    }
   ],
   "source": [
    "amt_hand1.balance, behav_hand1.batch_txns"
   ]
  },
  {
   "cell_type": "code",
   "execution_count": 724,
   "id": "6f5a3fb7-1eef-4e20-8f87-95b1579a4ee7",
   "metadata": {},
   "outputs": [
    {
     "data": {
      "text/plain": [
       "(1, 0)"
      ]
     },
     "execution_count": 724,
     "metadata": {},
     "output_type": "execute_result"
    }
   ],
   "source": [
    "cr_drop_txn1.in_txns, cr_drop_txn1.out_txns"
   ]
  },
  {
   "cell_type": "markdown",
   "id": "709d8e19-3bed-4957-81bf-fcbe3071640f",
   "metadata": {},
   "source": [
    "НЕ отклоненный исходящий перевод целиком  \n",
    "`BehavHand.online=True, receive=False, declined=False, BehavHand.in_chunks=False`"
   ]
  },
  {
   "cell_type": "code",
   "execution_count": 725,
   "id": "3788eccd-e74f-44b2-963c-5d62f578ec26",
   "metadata": {},
   "outputs": [
    {
     "data": {
      "text/plain": [
       "'Томск'"
      ]
     },
     "execution_count": 725,
     "metadata": {},
     "output_type": "execute_result"
    }
   ],
   "source": [
    "part_data1.client_info.area"
   ]
  },
  {
   "cell_type": "code",
   "execution_count": 994,
   "id": "b44c7de4-45ae-4aed-8aa7-69d45c7760b5",
   "metadata": {},
   "outputs": [
    {
     "data": {
      "text/html": [
       "<div>\n",
       "<style scoped>\n",
       "    .dataframe tbody tr th:only-of-type {\n",
       "        vertical-align: middle;\n",
       "    }\n",
       "\n",
       "    .dataframe tbody tr th {\n",
       "        vertical-align: top;\n",
       "    }\n",
       "\n",
       "    .dataframe thead th {\n",
       "        text-align: right;\n",
       "    }\n",
       "</style>\n",
       "<table border=\"1\" class=\"dataframe\">\n",
       "  <thead>\n",
       "    <tr style=\"text-align: right;\">\n",
       "      <th></th>\n",
       "      <th>client_id</th>\n",
       "      <th>txn_time</th>\n",
       "      <th>unix_time</th>\n",
       "      <th>amount</th>\n",
       "      <th>type</th>\n",
       "      <th>channel</th>\n",
       "      <th>category</th>\n",
       "      <th>online</th>\n",
       "      <th>merchant_id</th>\n",
       "      <th>trans_city</th>\n",
       "      <th>trans_lat</th>\n",
       "      <th>trans_lon</th>\n",
       "      <th>trans_ip</th>\n",
       "      <th>device_id</th>\n",
       "      <th>account</th>\n",
       "      <th>is_fraud</th>\n",
       "      <th>is_suspicious</th>\n",
       "      <th>status</th>\n",
       "      <th>rule</th>\n",
       "    </tr>\n",
       "  </thead>\n",
       "  <tbody>\n",
       "    <tr>\n",
       "      <th>0</th>\n",
       "      <td>11794</td>\n",
       "      <td>2025-01-09 23:00:00</td>\n",
       "      <td>1736463600</td>\n",
       "      <td>42500.0</td>\n",
       "      <td>inbound</td>\n",
       "      <td>transfer</td>\n",
       "      <td>not applicable</td>\n",
       "      <td>True</td>\n",
       "      <td>NaN</td>\n",
       "      <td>not applicable</td>\n",
       "      <td>NaN</td>\n",
       "      <td>NaN</td>\n",
       "      <td>not applicable</td>\n",
       "      <td>NaN</td>\n",
       "      <td>15206</td>\n",
       "      <td>False</td>\n",
       "      <td>False</td>\n",
       "      <td>approved</td>\n",
       "      <td>not applicable</td>\n",
       "    </tr>\n",
       "    <tr>\n",
       "      <th>1</th>\n",
       "      <td>11794</td>\n",
       "      <td>2025-01-09 23:36:00</td>\n",
       "      <td>1736465760</td>\n",
       "      <td>42500.0</td>\n",
       "      <td>outbound</td>\n",
       "      <td>transfer</td>\n",
       "      <td>not applicable</td>\n",
       "      <td>True</td>\n",
       "      <td>NaN</td>\n",
       "      <td>Томск</td>\n",
       "      <td>56.484704</td>\n",
       "      <td>84.948174</td>\n",
       "      <td>2.60.20.87</td>\n",
       "      <td>9367.0</td>\n",
       "      <td>17770</td>\n",
       "      <td>False</td>\n",
       "      <td>False</td>\n",
       "      <td>approved</td>\n",
       "      <td>not applicable</td>\n",
       "    </tr>\n",
       "  </tbody>\n",
       "</table>\n",
       "</div>"
      ],
      "text/plain": [
       "   client_id            txn_time   unix_time   amount      type   channel  \\\n",
       "0      11794 2025-01-09 23:00:00  1736463600  42500.0   inbound  transfer   \n",
       "1      11794 2025-01-09 23:36:00  1736465760  42500.0  outbound  transfer   \n",
       "\n",
       "         category  online  merchant_id      trans_city  trans_lat  trans_lon  \\\n",
       "0  not applicable    True          NaN  not applicable        NaN        NaN   \n",
       "1  not applicable    True          NaN           Томск  56.484704  84.948174   \n",
       "\n",
       "         trans_ip  device_id  account  is_fraud  is_suspicious    status  \\\n",
       "0  not applicable        NaN    15206     False          False  approved   \n",
       "1      2.60.20.87     9367.0    17770     False          False  approved   \n",
       "\n",
       "             rule  \n",
       "0  not applicable  \n",
       "1  not applicable  "
      ]
     },
     "execution_count": 994,
     "metadata": {},
     "output_type": "execute_result"
    }
   ],
   "source": [
    "behav_hand1.online = True\n",
    "behav_hand1.in_chunks = False\n",
    "\n",
    "whole_out = cr_drop_txn1.trf_or_atm(receive=False, to_drop=False, declined=False)\n",
    "pd.concat([pd.DataFrame([receive_txn]), pd.DataFrame([whole_out])], ignore_index=True)"
   ]
  },
  {
   "cell_type": "markdown",
   "id": "8a0f5853-475c-4078-897f-cfe546a4260d",
   "metadata": {},
   "source": [
    "НЕ отклоненное снятие целиком  \n",
    "`BehavHand.online=False, receive=False, declined=False, BehavHand.in_chunks=False, BehavHand.scen = \"atm\"`"
   ]
  },
  {
   "cell_type": "code",
   "execution_count": 995,
   "id": "106c9a2b-ce5d-4b90-9242-bcbc4aad6ff9",
   "metadata": {},
   "outputs": [
    {
     "data": {
      "text/html": [
       "<div>\n",
       "<style scoped>\n",
       "    .dataframe tbody tr th:only-of-type {\n",
       "        vertical-align: middle;\n",
       "    }\n",
       "\n",
       "    .dataframe tbody tr th {\n",
       "        vertical-align: top;\n",
       "    }\n",
       "\n",
       "    .dataframe thead th {\n",
       "        text-align: right;\n",
       "    }\n",
       "</style>\n",
       "<table border=\"1\" class=\"dataframe\">\n",
       "  <thead>\n",
       "    <tr style=\"text-align: right;\">\n",
       "      <th></th>\n",
       "      <th>client_id</th>\n",
       "      <th>txn_time</th>\n",
       "      <th>unix_time</th>\n",
       "      <th>amount</th>\n",
       "      <th>type</th>\n",
       "      <th>channel</th>\n",
       "      <th>category</th>\n",
       "      <th>online</th>\n",
       "      <th>merchant_id</th>\n",
       "      <th>trans_city</th>\n",
       "      <th>trans_lat</th>\n",
       "      <th>trans_lon</th>\n",
       "      <th>trans_ip</th>\n",
       "      <th>device_id</th>\n",
       "      <th>account</th>\n",
       "      <th>is_fraud</th>\n",
       "      <th>is_suspicious</th>\n",
       "      <th>status</th>\n",
       "      <th>rule</th>\n",
       "    </tr>\n",
       "  </thead>\n",
       "  <tbody>\n",
       "    <tr>\n",
       "      <th>0</th>\n",
       "      <td>11794</td>\n",
       "      <td>2025-01-10 12:37:00</td>\n",
       "      <td>1736512620</td>\n",
       "      <td>24700.0</td>\n",
       "      <td>inbound</td>\n",
       "      <td>transfer</td>\n",
       "      <td>not applicable</td>\n",
       "      <td>True</td>\n",
       "      <td>NaN</td>\n",
       "      <td>not applicable</td>\n",
       "      <td>NaN</td>\n",
       "      <td>NaN</td>\n",
       "      <td>not applicable</td>\n",
       "      <td>NaN</td>\n",
       "      <td>15206</td>\n",
       "      <td>False</td>\n",
       "      <td>False</td>\n",
       "      <td>approved</td>\n",
       "      <td>not applicable</td>\n",
       "    </tr>\n",
       "    <tr>\n",
       "      <th>1</th>\n",
       "      <td>11794</td>\n",
       "      <td>2025-01-10 15:02:00</td>\n",
       "      <td>1736521320</td>\n",
       "      <td>24700.0</td>\n",
       "      <td>withdrawal</td>\n",
       "      <td>ATM</td>\n",
       "      <td>not applicable</td>\n",
       "      <td>False</td>\n",
       "      <td>NaN</td>\n",
       "      <td>Томск</td>\n",
       "      <td>56.484704</td>\n",
       "      <td>84.948174</td>\n",
       "      <td>not applicable</td>\n",
       "      <td>NaN</td>\n",
       "      <td>15206</td>\n",
       "      <td>False</td>\n",
       "      <td>False</td>\n",
       "      <td>approved</td>\n",
       "      <td>not applicable</td>\n",
       "    </tr>\n",
       "  </tbody>\n",
       "</table>\n",
       "</div>"
      ],
      "text/plain": [
       "   client_id            txn_time   unix_time   amount        type   channel  \\\n",
       "0      11794 2025-01-10 12:37:00  1736512620  24700.0     inbound  transfer   \n",
       "1      11794 2025-01-10 15:02:00  1736521320  24700.0  withdrawal       ATM   \n",
       "\n",
       "         category  online  merchant_id      trans_city  trans_lat  trans_lon  \\\n",
       "0  not applicable    True          NaN  not applicable        NaN        NaN   \n",
       "1  not applicable   False          NaN           Томск  56.484704  84.948174   \n",
       "\n",
       "         trans_ip  device_id  account  is_fraud  is_suspicious    status  \\\n",
       "0  not applicable        NaN    15206     False          False  approved   \n",
       "1  not applicable        NaN    15206     False          False  approved   \n",
       "\n",
       "             rule  \n",
       "0  not applicable  \n",
       "1  not applicable  "
      ]
     },
     "execution_count": 995,
     "metadata": {},
     "output_type": "execute_result"
    }
   ],
   "source": [
    "reset_caches(cr_drop_txn1, behav_hand1, amt_hand1, time_hand1, part_data1)\n",
    "\n",
    "behav_hand1.scen = \"atm\"\n",
    "behav_hand1.guide_scenario()\n",
    "behav_hand1.in_chunks = False\n",
    "\n",
    "receive_txn2 = cr_drop_txn1.trf_or_atm(declined=False, to_drop=False, receive=True)\n",
    "whole_atm = cr_drop_txn1.trf_or_atm(declined=False, to_drop=False, receive=False)\n",
    "\n",
    "pd.concat([pd.DataFrame([receive_txn2]), pd.DataFrame([whole_atm])], ignore_index=True)"
   ]
  },
  {
   "cell_type": "code",
   "execution_count": 920,
   "id": "822f40fe-2baf-4111-82e4-cfae1182e227",
   "metadata": {},
   "outputs": [
    {
     "data": {
      "text/plain": [
       "(np.float64(0.0), 1)"
      ]
     },
     "execution_count": 920,
     "metadata": {},
     "output_type": "execute_result"
    }
   ],
   "source": [
    "amt_hand1.balance, amt_hand1.batch_txns"
   ]
  },
  {
   "cell_type": "markdown",
   "id": "f82c661f-a9d7-4f7c-8ee0-95a49ff41bbe",
   "metadata": {},
   "source": [
    "НЕ отклоненный исходящий перевод частями  \n",
    "`BehavHand.online=True, receive=False, declined=False, BehavHand.in_chunks=True, BehavHand.scen = \"split_transfer\"`"
   ]
  },
  {
   "cell_type": "code",
   "execution_count": 996,
   "id": "83f5064d-4592-4777-9ccd-c891f41006fe",
   "metadata": {},
   "outputs": [
    {
     "data": {
      "text/html": [
       "<div>\n",
       "<style scoped>\n",
       "    .dataframe tbody tr th:only-of-type {\n",
       "        vertical-align: middle;\n",
       "    }\n",
       "\n",
       "    .dataframe tbody tr th {\n",
       "        vertical-align: top;\n",
       "    }\n",
       "\n",
       "    .dataframe thead th {\n",
       "        text-align: right;\n",
       "    }\n",
       "</style>\n",
       "<table border=\"1\" class=\"dataframe\">\n",
       "  <thead>\n",
       "    <tr style=\"text-align: right;\">\n",
       "      <th></th>\n",
       "      <th>client_id</th>\n",
       "      <th>txn_time</th>\n",
       "      <th>unix_time</th>\n",
       "      <th>amount</th>\n",
       "      <th>type</th>\n",
       "      <th>channel</th>\n",
       "      <th>category</th>\n",
       "      <th>online</th>\n",
       "      <th>merchant_id</th>\n",
       "      <th>trans_city</th>\n",
       "      <th>trans_lat</th>\n",
       "      <th>trans_lon</th>\n",
       "      <th>trans_ip</th>\n",
       "      <th>device_id</th>\n",
       "      <th>account</th>\n",
       "      <th>is_fraud</th>\n",
       "      <th>is_suspicious</th>\n",
       "      <th>status</th>\n",
       "      <th>rule</th>\n",
       "    </tr>\n",
       "  </thead>\n",
       "  <tbody>\n",
       "    <tr>\n",
       "      <th>0</th>\n",
       "      <td>11794</td>\n",
       "      <td>2025-01-03 15:51:00</td>\n",
       "      <td>1735919460</td>\n",
       "      <td>24600.0</td>\n",
       "      <td>inbound</td>\n",
       "      <td>transfer</td>\n",
       "      <td>not applicable</td>\n",
       "      <td>True</td>\n",
       "      <td>NaN</td>\n",
       "      <td>not applicable</td>\n",
       "      <td>NaN</td>\n",
       "      <td>NaN</td>\n",
       "      <td>not applicable</td>\n",
       "      <td>NaN</td>\n",
       "      <td>15206</td>\n",
       "      <td>False</td>\n",
       "      <td>False</td>\n",
       "      <td>approved</td>\n",
       "      <td>not applicable</td>\n",
       "    </tr>\n",
       "    <tr>\n",
       "      <th>1</th>\n",
       "      <td>11794</td>\n",
       "      <td>2025-01-03 18:22:00</td>\n",
       "      <td>1735928520</td>\n",
       "      <td>7000.0</td>\n",
       "      <td>outbound</td>\n",
       "      <td>transfer</td>\n",
       "      <td>not applicable</td>\n",
       "      <td>True</td>\n",
       "      <td>NaN</td>\n",
       "      <td>Томск</td>\n",
       "      <td>56.484704</td>\n",
       "      <td>84.948174</td>\n",
       "      <td>2.60.20.87</td>\n",
       "      <td>9367.0</td>\n",
       "      <td>20935</td>\n",
       "      <td>False</td>\n",
       "      <td>False</td>\n",
       "      <td>approved</td>\n",
       "      <td>not applicable</td>\n",
       "    </tr>\n",
       "    <tr>\n",
       "      <th>2</th>\n",
       "      <td>11794</td>\n",
       "      <td>2025-01-03 19:16:00</td>\n",
       "      <td>1735931760</td>\n",
       "      <td>10000.0</td>\n",
       "      <td>outbound</td>\n",
       "      <td>transfer</td>\n",
       "      <td>not applicable</td>\n",
       "      <td>True</td>\n",
       "      <td>NaN</td>\n",
       "      <td>Томск</td>\n",
       "      <td>56.484704</td>\n",
       "      <td>84.948174</td>\n",
       "      <td>2.60.20.87</td>\n",
       "      <td>9366.0</td>\n",
       "      <td>20245</td>\n",
       "      <td>False</td>\n",
       "      <td>False</td>\n",
       "      <td>approved</td>\n",
       "      <td>not applicable</td>\n",
       "    </tr>\n",
       "    <tr>\n",
       "      <th>3</th>\n",
       "      <td>11794</td>\n",
       "      <td>2025-01-03 20:46:00</td>\n",
       "      <td>1735937160</td>\n",
       "      <td>7000.0</td>\n",
       "      <td>outbound</td>\n",
       "      <td>transfer</td>\n",
       "      <td>not applicable</td>\n",
       "      <td>True</td>\n",
       "      <td>NaN</td>\n",
       "      <td>Томск</td>\n",
       "      <td>56.484704</td>\n",
       "      <td>84.948174</td>\n",
       "      <td>2.60.20.87</td>\n",
       "      <td>9367.0</td>\n",
       "      <td>16278</td>\n",
       "      <td>False</td>\n",
       "      <td>False</td>\n",
       "      <td>approved</td>\n",
       "      <td>not applicable</td>\n",
       "    </tr>\n",
       "    <tr>\n",
       "      <th>4</th>\n",
       "      <td>11794</td>\n",
       "      <td>2025-01-03 21:52:00</td>\n",
       "      <td>1735941120</td>\n",
       "      <td>600.0</td>\n",
       "      <td>outbound</td>\n",
       "      <td>transfer</td>\n",
       "      <td>not applicable</td>\n",
       "      <td>True</td>\n",
       "      <td>NaN</td>\n",
       "      <td>Томск</td>\n",
       "      <td>56.484704</td>\n",
       "      <td>84.948174</td>\n",
       "      <td>2.60.20.87</td>\n",
       "      <td>9366.0</td>\n",
       "      <td>20575</td>\n",
       "      <td>False</td>\n",
       "      <td>False</td>\n",
       "      <td>approved</td>\n",
       "      <td>not applicable</td>\n",
       "    </tr>\n",
       "  </tbody>\n",
       "</table>\n",
       "</div>"
      ],
      "text/plain": [
       "   client_id            txn_time   unix_time   amount      type   channel  \\\n",
       "0      11794 2025-01-03 15:51:00  1735919460  24600.0   inbound  transfer   \n",
       "1      11794 2025-01-03 18:22:00  1735928520   7000.0  outbound  transfer   \n",
       "2      11794 2025-01-03 19:16:00  1735931760  10000.0  outbound  transfer   \n",
       "3      11794 2025-01-03 20:46:00  1735937160   7000.0  outbound  transfer   \n",
       "4      11794 2025-01-03 21:52:00  1735941120    600.0  outbound  transfer   \n",
       "\n",
       "         category  online  merchant_id      trans_city  trans_lat  trans_lon  \\\n",
       "0  not applicable    True          NaN  not applicable        NaN        NaN   \n",
       "1  not applicable    True          NaN           Томск  56.484704  84.948174   \n",
       "2  not applicable    True          NaN           Томск  56.484704  84.948174   \n",
       "3  not applicable    True          NaN           Томск  56.484704  84.948174   \n",
       "4  not applicable    True          NaN           Томск  56.484704  84.948174   \n",
       "\n",
       "         trans_ip  device_id  account  is_fraud  is_suspicious    status  \\\n",
       "0  not applicable        NaN    15206     False          False  approved   \n",
       "1      2.60.20.87     9367.0    20935     False          False  approved   \n",
       "2      2.60.20.87     9366.0    20245     False          False  approved   \n",
       "3      2.60.20.87     9367.0    16278     False          False  approved   \n",
       "4      2.60.20.87     9366.0    20575     False          False  approved   \n",
       "\n",
       "             rule  \n",
       "0  not applicable  \n",
       "1  not applicable  \n",
       "2  not applicable  \n",
       "3  not applicable  \n",
       "4  not applicable  "
      ]
     },
     "execution_count": 996,
     "metadata": {},
     "output_type": "execute_result"
    }
   ],
   "source": [
    "reset_caches(cr_drop_txn1, behav_hand1, amt_hand1, time_hand1, part_data1)\n",
    "\n",
    "behav_hand1.scen = \"split_transfer\"\n",
    "behav_hand1.in_chunks = True\n",
    "\n",
    "receive_txn3 = cr_drop_txn1.trf_or_atm(declined=False, to_drop=False, receive=True)\n",
    "\n",
    "all_txns3 = [receive_txn3]\n",
    "while amt_hand1.balance > 0:\n",
    "    behav_hand1.guide_scenario()\n",
    "    part_out = cr_drop_txn1.trf_or_atm(declined=False, to_drop=False, receive=False)\n",
    "    all_txns3.append(part_out)\n",
    "pd.DataFrame(all_txns3)"
   ]
  },
  {
   "cell_type": "code",
   "execution_count": 923,
   "id": "c827257b-fade-406f-8aac-64c6d71b95b8",
   "metadata": {},
   "outputs": [
    {
     "data": {
      "text/plain": [
       "(np.float64(0.0), 3)"
      ]
     },
     "execution_count": 923,
     "metadata": {},
     "output_type": "execute_result"
    }
   ],
   "source": [
    "amt_hand1.balance, amt_hand1.batch_txns"
   ]
  },
  {
   "cell_type": "code",
   "execution_count": 763,
   "id": "6bee2152-5d75-490d-97b2-f195b4cdf171",
   "metadata": {},
   "outputs": [
    {
     "data": {
      "text/plain": [
       "(np.float64(0.0), 5)"
      ]
     },
     "execution_count": 763,
     "metadata": {},
     "output_type": "execute_result"
    }
   ],
   "source": [
    "amt_hand1.balance, amt_hand1.batch_txns"
   ]
  },
  {
   "cell_type": "markdown",
   "id": "fc0e62f1-16ea-4c19-b67e-4d745e33c426",
   "metadata": {},
   "source": [
    "Отклоненный входящий перевод  \n",
    "`BehavHand.online=None, receive=True, declined=True, BehavHand.in_chunks=False`"
   ]
  },
  {
   "cell_type": "code",
   "execution_count": 764,
   "id": "dca21431-1c51-416a-a8b8-643f65e117e8",
   "metadata": {},
   "outputs": [
    {
     "data": {
      "text/html": [
       "<div>\n",
       "<style scoped>\n",
       "    .dataframe tbody tr th:only-of-type {\n",
       "        vertical-align: middle;\n",
       "    }\n",
       "\n",
       "    .dataframe tbody tr th {\n",
       "        vertical-align: top;\n",
       "    }\n",
       "\n",
       "    .dataframe thead th {\n",
       "        text-align: right;\n",
       "    }\n",
       "</style>\n",
       "<table border=\"1\" class=\"dataframe\">\n",
       "  <thead>\n",
       "    <tr style=\"text-align: right;\">\n",
       "      <th></th>\n",
       "      <th>client_id</th>\n",
       "      <th>txn_time</th>\n",
       "      <th>unix_time</th>\n",
       "      <th>amount</th>\n",
       "      <th>type</th>\n",
       "      <th>channel</th>\n",
       "      <th>category</th>\n",
       "      <th>online</th>\n",
       "      <th>merchant_id</th>\n",
       "      <th>trans_city</th>\n",
       "      <th>trans_lat</th>\n",
       "      <th>trans_lon</th>\n",
       "      <th>trans_ip</th>\n",
       "      <th>device_id</th>\n",
       "      <th>account</th>\n",
       "      <th>is_fraud</th>\n",
       "      <th>is_suspicious</th>\n",
       "      <th>status</th>\n",
       "      <th>rule</th>\n",
       "    </tr>\n",
       "  </thead>\n",
       "  <tbody>\n",
       "    <tr>\n",
       "      <th>0</th>\n",
       "      <td>11794</td>\n",
       "      <td>2025-01-05 11:52:00</td>\n",
       "      <td>1736077920</td>\n",
       "      <td>40000.0</td>\n",
       "      <td>inbound</td>\n",
       "      <td>transfer</td>\n",
       "      <td>not applicable</td>\n",
       "      <td>True</td>\n",
       "      <td>NaN</td>\n",
       "      <td>not applicable</td>\n",
       "      <td>NaN</td>\n",
       "      <td>NaN</td>\n",
       "      <td>not applicable</td>\n",
       "      <td>NaN</td>\n",
       "      <td>15206</td>\n",
       "      <td>True</td>\n",
       "      <td>False</td>\n",
       "      <td>declined</td>\n",
       "      <td>drop_flow_cashout</td>\n",
       "    </tr>\n",
       "  </tbody>\n",
       "</table>\n",
       "</div>"
      ],
      "text/plain": [
       "   client_id            txn_time   unix_time   amount     type   channel  \\\n",
       "0      11794 2025-01-05 11:52:00  1736077920  40000.0  inbound  transfer   \n",
       "\n",
       "         category  online  merchant_id      trans_city  trans_lat  trans_lon  \\\n",
       "0  not applicable    True          NaN  not applicable        NaN        NaN   \n",
       "\n",
       "         trans_ip  device_id  account  is_fraud  is_suspicious    status  \\\n",
       "0  not applicable        NaN    15206      True          False  declined   \n",
       "\n",
       "                rule  \n",
       "0  drop_flow_cashout  "
      ]
     },
     "execution_count": 764,
     "metadata": {},
     "output_type": "execute_result"
    }
   ],
   "source": [
    "reset_caches(cr_drop_txn1, behav_hand1, amt_hand1, time_hand1)\n",
    "\n",
    "behav_hand1.online = None\n",
    "behav_hand1.in_chunks = None\n",
    "receive_txn5 = cr_drop_txn1.trf_or_atm(declined=True, to_drop=False, receive=True)\n",
    "\n",
    "pd.DataFrame([receive_txn5])"
   ]
  },
  {
   "cell_type": "code",
   "execution_count": 766,
   "id": "2b9921df-93e1-4c8a-8741-de85996b0e7a",
   "metadata": {},
   "outputs": [
    {
     "data": {
      "text/plain": [
       "(0, 0)"
      ]
     },
     "execution_count": 766,
     "metadata": {},
     "output_type": "execute_result"
    }
   ],
   "source": [
    "amt_hand1.balance, amt_hand1.batch_txns"
   ]
  },
  {
   "cell_type": "code",
   "execution_count": 1002,
   "id": "e6f0bc61-6c29-4b51-8170-d6d6b1c33f02",
   "metadata": {},
   "outputs": [
    {
     "data": {
      "text/plain": [
       "(np.float64(55500.0), 4, 4)"
      ]
     },
     "execution_count": 1002,
     "metadata": {},
     "output_type": "execute_result"
    }
   ],
   "source": [
    "amt_hand1.balance, amt_hand1.batch_txns, amt_hand1.declined_txns"
   ]
  },
  {
   "cell_type": "markdown",
   "id": "58fceb2c-2aa9-4b3a-925e-9c79e2ead3fc",
   "metadata": {},
   "source": [
    "**Отклоненный  исходящий перевод частями**  \n",
    "`BehavHand.online=True, receive=False, declined=True, BehavHand.in_chunks=True`"
   ]
  },
  {
   "cell_type": "code",
   "execution_count": 1007,
   "id": "5763b0bc-518f-4152-8c69-126c3e91c673",
   "metadata": {},
   "outputs": [
    {
     "data": {
      "text/html": [
       "<div>\n",
       "<style scoped>\n",
       "    .dataframe tbody tr th:only-of-type {\n",
       "        vertical-align: middle;\n",
       "    }\n",
       "\n",
       "    .dataframe tbody tr th {\n",
       "        vertical-align: top;\n",
       "    }\n",
       "\n",
       "    .dataframe thead th {\n",
       "        text-align: right;\n",
       "    }\n",
       "</style>\n",
       "<table border=\"1\" class=\"dataframe\">\n",
       "  <thead>\n",
       "    <tr style=\"text-align: right;\">\n",
       "      <th></th>\n",
       "      <th>client_id</th>\n",
       "      <th>txn_time</th>\n",
       "      <th>unix_time</th>\n",
       "      <th>amount</th>\n",
       "      <th>type</th>\n",
       "      <th>channel</th>\n",
       "      <th>category</th>\n",
       "      <th>online</th>\n",
       "      <th>merchant_id</th>\n",
       "      <th>trans_city</th>\n",
       "      <th>trans_lat</th>\n",
       "      <th>trans_lon</th>\n",
       "      <th>trans_ip</th>\n",
       "      <th>device_id</th>\n",
       "      <th>account</th>\n",
       "      <th>is_fraud</th>\n",
       "      <th>is_suspicious</th>\n",
       "      <th>status</th>\n",
       "      <th>rule</th>\n",
       "    </tr>\n",
       "  </thead>\n",
       "  <tbody>\n",
       "    <tr>\n",
       "      <th>0</th>\n",
       "      <td>11794</td>\n",
       "      <td>2025-01-22 23:58:00</td>\n",
       "      <td>1737590280</td>\n",
       "      <td>25300.0</td>\n",
       "      <td>inbound</td>\n",
       "      <td>transfer</td>\n",
       "      <td>not applicable</td>\n",
       "      <td>True</td>\n",
       "      <td>NaN</td>\n",
       "      <td>not applicable</td>\n",
       "      <td>NaN</td>\n",
       "      <td>NaN</td>\n",
       "      <td>not applicable</td>\n",
       "      <td>NaN</td>\n",
       "      <td>15206</td>\n",
       "      <td>False</td>\n",
       "      <td>False</td>\n",
       "      <td>approved</td>\n",
       "      <td>not applicable</td>\n",
       "    </tr>\n",
       "    <tr>\n",
       "      <th>1</th>\n",
       "      <td>11794</td>\n",
       "      <td>2025-01-23 02:01:00</td>\n",
       "      <td>1737597660</td>\n",
       "      <td>13000.0</td>\n",
       "      <td>outbound</td>\n",
       "      <td>transfer</td>\n",
       "      <td>not applicable</td>\n",
       "      <td>True</td>\n",
       "      <td>NaN</td>\n",
       "      <td>Томск</td>\n",
       "      <td>56.484704</td>\n",
       "      <td>84.948174</td>\n",
       "      <td>2.60.20.87</td>\n",
       "      <td>9366.0</td>\n",
       "      <td>15830</td>\n",
       "      <td>True</td>\n",
       "      <td>False</td>\n",
       "      <td>declined</td>\n",
       "      <td>drop_flow_cashout</td>\n",
       "    </tr>\n",
       "    <tr>\n",
       "      <th>2</th>\n",
       "      <td>11794</td>\n",
       "      <td>2025-01-23 04:03:00</td>\n",
       "      <td>1737604980</td>\n",
       "      <td>9800.0</td>\n",
       "      <td>outbound</td>\n",
       "      <td>transfer</td>\n",
       "      <td>not applicable</td>\n",
       "      <td>True</td>\n",
       "      <td>NaN</td>\n",
       "      <td>Томск</td>\n",
       "      <td>56.484704</td>\n",
       "      <td>84.948174</td>\n",
       "      <td>2.60.20.87</td>\n",
       "      <td>9367.0</td>\n",
       "      <td>17257</td>\n",
       "      <td>True</td>\n",
       "      <td>False</td>\n",
       "      <td>declined</td>\n",
       "      <td>drop_flow_cashout</td>\n",
       "    </tr>\n",
       "    <tr>\n",
       "      <th>3</th>\n",
       "      <td>11794</td>\n",
       "      <td>2025-01-23 06:54:00</td>\n",
       "      <td>1737615240</td>\n",
       "      <td>6600.0</td>\n",
       "      <td>outbound</td>\n",
       "      <td>transfer</td>\n",
       "      <td>not applicable</td>\n",
       "      <td>True</td>\n",
       "      <td>NaN</td>\n",
       "      <td>Томск</td>\n",
       "      <td>56.484704</td>\n",
       "      <td>84.948174</td>\n",
       "      <td>2.60.20.87</td>\n",
       "      <td>9367.0</td>\n",
       "      <td>15744</td>\n",
       "      <td>True</td>\n",
       "      <td>False</td>\n",
       "      <td>declined</td>\n",
       "      <td>drop_flow_cashout</td>\n",
       "    </tr>\n",
       "    <tr>\n",
       "      <th>4</th>\n",
       "      <td>11794</td>\n",
       "      <td>2025-01-23 07:25:00</td>\n",
       "      <td>1737617100</td>\n",
       "      <td>3400.0</td>\n",
       "      <td>outbound</td>\n",
       "      <td>transfer</td>\n",
       "      <td>not applicable</td>\n",
       "      <td>True</td>\n",
       "      <td>NaN</td>\n",
       "      <td>Томск</td>\n",
       "      <td>56.484704</td>\n",
       "      <td>84.948174</td>\n",
       "      <td>2.60.20.87</td>\n",
       "      <td>9366.0</td>\n",
       "      <td>17677</td>\n",
       "      <td>True</td>\n",
       "      <td>False</td>\n",
       "      <td>declined</td>\n",
       "      <td>drop_flow_cashout</td>\n",
       "    </tr>\n",
       "    <tr>\n",
       "      <th>5</th>\n",
       "      <td>11794</td>\n",
       "      <td>2025-01-23 09:44:00</td>\n",
       "      <td>1737625440</td>\n",
       "      <td>3000.0</td>\n",
       "      <td>outbound</td>\n",
       "      <td>transfer</td>\n",
       "      <td>not applicable</td>\n",
       "      <td>True</td>\n",
       "      <td>NaN</td>\n",
       "      <td>Томск</td>\n",
       "      <td>56.484704</td>\n",
       "      <td>84.948174</td>\n",
       "      <td>2.60.20.87</td>\n",
       "      <td>9366.0</td>\n",
       "      <td>22265</td>\n",
       "      <td>True</td>\n",
       "      <td>False</td>\n",
       "      <td>declined</td>\n",
       "      <td>drop_flow_cashout</td>\n",
       "    </tr>\n",
       "  </tbody>\n",
       "</table>\n",
       "</div>"
      ],
      "text/plain": [
       "   client_id            txn_time   unix_time   amount      type   channel  \\\n",
       "0      11794 2025-01-22 23:58:00  1737590280  25300.0   inbound  transfer   \n",
       "1      11794 2025-01-23 02:01:00  1737597660  13000.0  outbound  transfer   \n",
       "2      11794 2025-01-23 04:03:00  1737604980   9800.0  outbound  transfer   \n",
       "3      11794 2025-01-23 06:54:00  1737615240   6600.0  outbound  transfer   \n",
       "4      11794 2025-01-23 07:25:00  1737617100   3400.0  outbound  transfer   \n",
       "5      11794 2025-01-23 09:44:00  1737625440   3000.0  outbound  transfer   \n",
       "\n",
       "         category  online  merchant_id      trans_city  trans_lat  trans_lon  \\\n",
       "0  not applicable    True          NaN  not applicable        NaN        NaN   \n",
       "1  not applicable    True          NaN           Томск  56.484704  84.948174   \n",
       "2  not applicable    True          NaN           Томск  56.484704  84.948174   \n",
       "3  not applicable    True          NaN           Томск  56.484704  84.948174   \n",
       "4  not applicable    True          NaN           Томск  56.484704  84.948174   \n",
       "5  not applicable    True          NaN           Томск  56.484704  84.948174   \n",
       "\n",
       "         trans_ip  device_id  account  is_fraud  is_suspicious    status  \\\n",
       "0  not applicable        NaN    15206     False          False  approved   \n",
       "1      2.60.20.87     9366.0    15830      True          False  declined   \n",
       "2      2.60.20.87     9367.0    17257      True          False  declined   \n",
       "3      2.60.20.87     9367.0    15744      True          False  declined   \n",
       "4      2.60.20.87     9366.0    17677      True          False  declined   \n",
       "5      2.60.20.87     9366.0    22265      True          False  declined   \n",
       "\n",
       "                rule  \n",
       "0     not applicable  \n",
       "1  drop_flow_cashout  \n",
       "2  drop_flow_cashout  \n",
       "3  drop_flow_cashout  \n",
       "4  drop_flow_cashout  \n",
       "5  drop_flow_cashout  "
      ]
     },
     "execution_count": 1007,
     "metadata": {},
     "output_type": "execute_result"
    }
   ],
   "source": [
    "reset_caches(cr_drop_txn1, behav_hand1, amt_hand1, time_hand1, part_data1)\n",
    "\n",
    "behav_hand1.scen = \"split_transfer\"\n",
    "behav_hand1.in_chunks = True\n",
    "\n",
    "receive_txn8 = cr_drop_txn1.trf_or_atm(declined=False, to_drop=False, receive=True)\n",
    "all_txns8 = [receive_txn8]\n",
    "i = 0\n",
    "while amt_hand1.balance > 0:\n",
    "    behav_hand1.guide_scenario()\n",
    "    part_out8 = cr_drop_txn1.trf_or_atm(declined=True, to_drop=False, receive=False)\n",
    "    all_txns8.append(part_out8)\n",
    "    i += 1\n",
    "    if i > 4:\n",
    "        break\n",
    "        \n",
    "pd.DataFrame(all_txns8)"
   ]
  },
  {
   "cell_type": "markdown",
   "id": "b499a78e-0ab3-42ae-8011-2b8d54b7b940",
   "metadata": {},
   "source": [
    "**Отклоненный перевод другому дропу**  \n",
    "Дропов >= AccHand.min_drops"
   ]
  },
  {
   "cell_type": "markdown",
   "id": "87b9ccea-a26a-4e73-bbde-d96f38522148",
   "metadata": {},
   "source": [
    "## **Тест `CreateTxn.purchase`**"
   ]
  },
  {
   "cell_type": "markdown",
   "id": "031077da-4da0-43a1-bfc4-aec30cc90e94",
   "metadata": {},
   "source": [
    "### **`dist=True` дроп распределитель**"
   ]
  },
  {
   "cell_type": "markdown",
   "id": "9916fa58-69f9-48a4-85c7-28b184d7f6d9",
   "metadata": {},
   "source": [
    "**НЕ отклоненная покупка крипты целиком**  \n",
    "`BehavHand.online=True, receive=False, declined=False, BehavHand.in_chunks=False`"
   ]
  },
  {
   "cell_type": "code",
   "execution_count": 838,
   "id": "3b7c1a24-6bd1-4797-b42f-9e4807dfcca3",
   "metadata": {},
   "outputs": [
    {
     "data": {
      "text/html": [
       "<div>\n",
       "<style scoped>\n",
       "    .dataframe tbody tr th:only-of-type {\n",
       "        vertical-align: middle;\n",
       "    }\n",
       "\n",
       "    .dataframe tbody tr th {\n",
       "        vertical-align: top;\n",
       "    }\n",
       "\n",
       "    .dataframe thead th {\n",
       "        text-align: right;\n",
       "    }\n",
       "</style>\n",
       "<table border=\"1\" class=\"dataframe\">\n",
       "  <thead>\n",
       "    <tr style=\"text-align: right;\">\n",
       "      <th></th>\n",
       "      <th>client_id</th>\n",
       "      <th>txn_time</th>\n",
       "      <th>unix_time</th>\n",
       "      <th>amount</th>\n",
       "      <th>type</th>\n",
       "      <th>channel</th>\n",
       "      <th>category</th>\n",
       "      <th>online</th>\n",
       "      <th>merchant_id</th>\n",
       "      <th>trans_city</th>\n",
       "      <th>trans_lat</th>\n",
       "      <th>trans_lon</th>\n",
       "      <th>trans_ip</th>\n",
       "      <th>device_id</th>\n",
       "      <th>account</th>\n",
       "      <th>is_fraud</th>\n",
       "      <th>is_suspicious</th>\n",
       "      <th>status</th>\n",
       "      <th>rule</th>\n",
       "    </tr>\n",
       "  </thead>\n",
       "  <tbody>\n",
       "    <tr>\n",
       "      <th>0</th>\n",
       "      <td>11794</td>\n",
       "      <td>2025-01-28 08:04:00</td>\n",
       "      <td>1738051440</td>\n",
       "      <td>36000.0</td>\n",
       "      <td>inbound</td>\n",
       "      <td>transfer</td>\n",
       "      <td>not applicable</td>\n",
       "      <td>True</td>\n",
       "      <td>NaN</td>\n",
       "      <td>not applicable</td>\n",
       "      <td>NaN</td>\n",
       "      <td>NaN</td>\n",
       "      <td>not applicable</td>\n",
       "      <td>NaN</td>\n",
       "      <td>15206.0</td>\n",
       "      <td>False</td>\n",
       "      <td>False</td>\n",
       "      <td>approved</td>\n",
       "      <td>not applicable</td>\n",
       "    </tr>\n",
       "    <tr>\n",
       "      <th>1</th>\n",
       "      <td>11794</td>\n",
       "      <td>2025-01-28 10:31:00</td>\n",
       "      <td>1738060260</td>\n",
       "      <td>36000.0</td>\n",
       "      <td>purchase</td>\n",
       "      <td>crypto_exchange</td>\n",
       "      <td>balance_top_up</td>\n",
       "      <td>True</td>\n",
       "      <td>6850.0</td>\n",
       "      <td>Томск</td>\n",
       "      <td>56.484704</td>\n",
       "      <td>84.948174</td>\n",
       "      <td>2.60.20.87</td>\n",
       "      <td>9366.0</td>\n",
       "      <td>NaN</td>\n",
       "      <td>False</td>\n",
       "      <td>False</td>\n",
       "      <td>approved</td>\n",
       "      <td>not applicable</td>\n",
       "    </tr>\n",
       "  </tbody>\n",
       "</table>\n",
       "</div>"
      ],
      "text/plain": [
       "   client_id            txn_time   unix_time   amount      type  \\\n",
       "0      11794 2025-01-28 08:04:00  1738051440  36000.0   inbound   \n",
       "1      11794 2025-01-28 10:31:00  1738060260  36000.0  purchase   \n",
       "\n",
       "           channel        category  online  merchant_id      trans_city  \\\n",
       "0         transfer  not applicable    True          NaN  not applicable   \n",
       "1  crypto_exchange  balance_top_up    True       6850.0           Томск   \n",
       "\n",
       "   trans_lat  trans_lon        trans_ip  device_id  account  is_fraud  \\\n",
       "0        NaN        NaN  not applicable        NaN  15206.0     False   \n",
       "1  56.484704  84.948174      2.60.20.87     9366.0      NaN     False   \n",
       "\n",
       "   is_suspicious    status            rule  \n",
       "0          False  approved  not applicable  \n",
       "1          False  approved  not applicable  "
      ]
     },
     "execution_count": 838,
     "metadata": {},
     "output_type": "execute_result"
    }
   ],
   "source": [
    "reset_caches(cr_drop_txn1, behav_hand1, amt_hand1, time_hand1)\n",
    "acc_hand1.reset_cache()\n",
    "\n",
    "behav_hand1.scen = \"transfer\"\n",
    "behav_hand1.in_chunks_val()\n",
    "\n",
    "receive_txn17 = cr_drop_txn1.trf_or_atm(declined=False, to_drop=False, receive=True)\n",
    "all_txns17 = [receive_txn17]\n",
    "\n",
    "behav_hand1.guide_scenario()\n",
    "whole_out17 = cr_drop_txn1.purchase(declined=False, dist=True)\n",
    "all_txns17.append(whole_out17)\n",
    "all_df17 = pd.DataFrame(all_txns17)\n",
    "all_df17"
   ]
  },
  {
   "cell_type": "markdown",
   "id": "adb77bdd-6d24-413e-a93c-97846067ba80",
   "metadata": {},
   "source": [
    "### **`dist=False` дроп покупатель**"
   ]
  },
  {
   "cell_type": "markdown",
   "id": "6388b074-29b1-45af-9840-8433e8335df8",
   "metadata": {},
   "source": [
    "**НЕ отклоненная покупка целиком**  \n",
    "`BehavHand.online=True, declined=False, BehavHand.in_chunks=False`"
   ]
  },
  {
   "cell_type": "code",
   "execution_count": 900,
   "id": "ae728eae-0d8d-46db-9ccb-62e096128ed4",
   "metadata": {},
   "outputs": [
    {
     "data": {
      "text/html": [
       "<div>\n",
       "<style scoped>\n",
       "    .dataframe tbody tr th:only-of-type {\n",
       "        vertical-align: middle;\n",
       "    }\n",
       "\n",
       "    .dataframe tbody tr th {\n",
       "        vertical-align: top;\n",
       "    }\n",
       "\n",
       "    .dataframe thead th {\n",
       "        text-align: right;\n",
       "    }\n",
       "</style>\n",
       "<table border=\"1\" class=\"dataframe\">\n",
       "  <thead>\n",
       "    <tr style=\"text-align: right;\">\n",
       "      <th></th>\n",
       "      <th>client_id</th>\n",
       "      <th>txn_time</th>\n",
       "      <th>unix_time</th>\n",
       "      <th>amount</th>\n",
       "      <th>type</th>\n",
       "      <th>channel</th>\n",
       "      <th>category</th>\n",
       "      <th>online</th>\n",
       "      <th>merchant_id</th>\n",
       "      <th>trans_city</th>\n",
       "      <th>trans_lat</th>\n",
       "      <th>trans_lon</th>\n",
       "      <th>trans_ip</th>\n",
       "      <th>device_id</th>\n",
       "      <th>account</th>\n",
       "      <th>is_fraud</th>\n",
       "      <th>is_suspicious</th>\n",
       "      <th>status</th>\n",
       "      <th>rule</th>\n",
       "    </tr>\n",
       "  </thead>\n",
       "  <tbody>\n",
       "    <tr>\n",
       "      <th>0</th>\n",
       "      <td>11794</td>\n",
       "      <td>2025-01-11 17:34:00</td>\n",
       "      <td>1736616840</td>\n",
       "      <td>38600.0</td>\n",
       "      <td>inbound</td>\n",
       "      <td>transfer</td>\n",
       "      <td>not applicable</td>\n",
       "      <td>True</td>\n",
       "      <td>NaN</td>\n",
       "      <td>not applicable</td>\n",
       "      <td>NaN</td>\n",
       "      <td>NaN</td>\n",
       "      <td>not applicable</td>\n",
       "      <td>NaN</td>\n",
       "      <td>15206.0</td>\n",
       "      <td>False</td>\n",
       "      <td>False</td>\n",
       "      <td>approved</td>\n",
       "      <td>not applicable</td>\n",
       "    </tr>\n",
       "    <tr>\n",
       "      <th>1</th>\n",
       "      <td>11794</td>\n",
       "      <td>2025-01-11 18:50:00</td>\n",
       "      <td>1736621400</td>\n",
       "      <td>38600.0</td>\n",
       "      <td>purchase</td>\n",
       "      <td>ecom</td>\n",
       "      <td>shopping_net</td>\n",
       "      <td>True</td>\n",
       "      <td>6971.0</td>\n",
       "      <td>Томск</td>\n",
       "      <td>56.484704</td>\n",
       "      <td>84.948174</td>\n",
       "      <td>2.60.20.87</td>\n",
       "      <td>9367.0</td>\n",
       "      <td>NaN</td>\n",
       "      <td>False</td>\n",
       "      <td>False</td>\n",
       "      <td>approved</td>\n",
       "      <td>not applicable</td>\n",
       "    </tr>\n",
       "  </tbody>\n",
       "</table>\n",
       "</div>"
      ],
      "text/plain": [
       "   client_id            txn_time   unix_time   amount      type   channel  \\\n",
       "0      11794 2025-01-11 17:34:00  1736616840  38600.0   inbound  transfer   \n",
       "1      11794 2025-01-11 18:50:00  1736621400  38600.0  purchase      ecom   \n",
       "\n",
       "         category  online  merchant_id      trans_city  trans_lat  trans_lon  \\\n",
       "0  not applicable    True          NaN  not applicable        NaN        NaN   \n",
       "1    shopping_net    True       6971.0           Томск  56.484704  84.948174   \n",
       "\n",
       "         trans_ip  device_id  account  is_fraud  is_suspicious    status  \\\n",
       "0  not applicable        NaN  15206.0     False          False  approved   \n",
       "1      2.60.20.87     9367.0      NaN     False          False  approved   \n",
       "\n",
       "             rule  \n",
       "0  not applicable  \n",
       "1  not applicable  "
      ]
     },
     "execution_count": 900,
     "metadata": {},
     "output_type": "execute_result"
    }
   ],
   "source": [
    "reset_caches(cr_drop_txn1, behav_hand1, amt_hand1, time_hand1, part_data1)\n",
    "\n",
    "all_txns21 = []\n",
    "\n",
    "receive_txn21 = cr_drop_txn1.trf_or_atm(declined=False, to_drop=False, receive=True)\n",
    "all_txns21.append(receive_txn21)\n",
    "\n",
    "behav_hand1.online = True\n",
    "behav_hand1.in_chunks = False\n",
    "\n",
    "while amt_hand1.balance > 0:\n",
    "    behav_hand1.guide_scenario()\n",
    "    part_out21 = cr_drop_txn1.purchase(declined=False, dist=False)\n",
    "    all_txns21.append(part_out21)\n",
    "    \n",
    "all_df21 = pd.DataFrame(all_txns21)\n",
    "all_df21"
   ]
  },
  {
   "cell_type": "markdown",
   "id": "965d4e33-49ab-40ea-abe5-0bd18bac37f4",
   "metadata": {},
   "source": [
    "**НЕ отклоненная покупка частями**  \n",
    "`BehavHand.online=True, declined=False, BehavHand.in_chunks=True, BehavHand.scen = \"split_transfer\"`"
   ]
  },
  {
   "cell_type": "code",
   "execution_count": 901,
   "id": "c6c71f11-56df-4477-a3d8-396d7942a8a6",
   "metadata": {},
   "outputs": [
    {
     "data": {
      "text/html": [
       "<div>\n",
       "<style scoped>\n",
       "    .dataframe tbody tr th:only-of-type {\n",
       "        vertical-align: middle;\n",
       "    }\n",
       "\n",
       "    .dataframe tbody tr th {\n",
       "        vertical-align: top;\n",
       "    }\n",
       "\n",
       "    .dataframe thead th {\n",
       "        text-align: right;\n",
       "    }\n",
       "</style>\n",
       "<table border=\"1\" class=\"dataframe\">\n",
       "  <thead>\n",
       "    <tr style=\"text-align: right;\">\n",
       "      <th></th>\n",
       "      <th>client_id</th>\n",
       "      <th>txn_time</th>\n",
       "      <th>unix_time</th>\n",
       "      <th>amount</th>\n",
       "      <th>type</th>\n",
       "      <th>channel</th>\n",
       "      <th>category</th>\n",
       "      <th>online</th>\n",
       "      <th>merchant_id</th>\n",
       "      <th>trans_city</th>\n",
       "      <th>trans_lat</th>\n",
       "      <th>trans_lon</th>\n",
       "      <th>trans_ip</th>\n",
       "      <th>device_id</th>\n",
       "      <th>account</th>\n",
       "      <th>is_fraud</th>\n",
       "      <th>is_suspicious</th>\n",
       "      <th>status</th>\n",
       "      <th>rule</th>\n",
       "    </tr>\n",
       "  </thead>\n",
       "  <tbody>\n",
       "    <tr>\n",
       "      <th>0</th>\n",
       "      <td>11794</td>\n",
       "      <td>2025-01-10 03:25:00</td>\n",
       "      <td>1736479500</td>\n",
       "      <td>38600.0</td>\n",
       "      <td>inbound</td>\n",
       "      <td>transfer</td>\n",
       "      <td>not applicable</td>\n",
       "      <td>True</td>\n",
       "      <td>NaN</td>\n",
       "      <td>not applicable</td>\n",
       "      <td>NaN</td>\n",
       "      <td>NaN</td>\n",
       "      <td>not applicable</td>\n",
       "      <td>NaN</td>\n",
       "      <td>15206.0</td>\n",
       "      <td>False</td>\n",
       "      <td>False</td>\n",
       "      <td>approved</td>\n",
       "      <td>not applicable</td>\n",
       "    </tr>\n",
       "    <tr>\n",
       "      <th>1</th>\n",
       "      <td>11794</td>\n",
       "      <td>2025-01-10 05:32:00</td>\n",
       "      <td>1736487120</td>\n",
       "      <td>25000.0</td>\n",
       "      <td>purchase</td>\n",
       "      <td>ecom</td>\n",
       "      <td>misc_net</td>\n",
       "      <td>True</td>\n",
       "      <td>6791.0</td>\n",
       "      <td>Томск</td>\n",
       "      <td>56.484704</td>\n",
       "      <td>84.948174</td>\n",
       "      <td>2.60.20.87</td>\n",
       "      <td>9367.0</td>\n",
       "      <td>NaN</td>\n",
       "      <td>False</td>\n",
       "      <td>False</td>\n",
       "      <td>approved</td>\n",
       "      <td>not applicable</td>\n",
       "    </tr>\n",
       "    <tr>\n",
       "      <th>2</th>\n",
       "      <td>11794</td>\n",
       "      <td>2025-01-10 06:27:00</td>\n",
       "      <td>1736490420</td>\n",
       "      <td>8000.0</td>\n",
       "      <td>purchase</td>\n",
       "      <td>ecom</td>\n",
       "      <td>misc_net</td>\n",
       "      <td>True</td>\n",
       "      <td>6960.0</td>\n",
       "      <td>Томск</td>\n",
       "      <td>56.484704</td>\n",
       "      <td>84.948174</td>\n",
       "      <td>2.60.20.87</td>\n",
       "      <td>9366.0</td>\n",
       "      <td>NaN</td>\n",
       "      <td>False</td>\n",
       "      <td>False</td>\n",
       "      <td>approved</td>\n",
       "      <td>not applicable</td>\n",
       "    </tr>\n",
       "    <tr>\n",
       "      <th>3</th>\n",
       "      <td>11794</td>\n",
       "      <td>2025-01-10 07:06:00</td>\n",
       "      <td>1736492760</td>\n",
       "      <td>5600.0</td>\n",
       "      <td>purchase</td>\n",
       "      <td>ecom</td>\n",
       "      <td>shopping_net</td>\n",
       "      <td>True</td>\n",
       "      <td>6908.0</td>\n",
       "      <td>Томск</td>\n",
       "      <td>56.484704</td>\n",
       "      <td>84.948174</td>\n",
       "      <td>2.60.20.87</td>\n",
       "      <td>9366.0</td>\n",
       "      <td>NaN</td>\n",
       "      <td>False</td>\n",
       "      <td>False</td>\n",
       "      <td>approved</td>\n",
       "      <td>not applicable</td>\n",
       "    </tr>\n",
       "  </tbody>\n",
       "</table>\n",
       "</div>"
      ],
      "text/plain": [
       "   client_id            txn_time   unix_time   amount      type   channel  \\\n",
       "0      11794 2025-01-10 03:25:00  1736479500  38600.0   inbound  transfer   \n",
       "1      11794 2025-01-10 05:32:00  1736487120  25000.0  purchase      ecom   \n",
       "2      11794 2025-01-10 06:27:00  1736490420   8000.0  purchase      ecom   \n",
       "3      11794 2025-01-10 07:06:00  1736492760   5600.0  purchase      ecom   \n",
       "\n",
       "         category  online  merchant_id      trans_city  trans_lat  trans_lon  \\\n",
       "0  not applicable    True          NaN  not applicable        NaN        NaN   \n",
       "1        misc_net    True       6791.0           Томск  56.484704  84.948174   \n",
       "2        misc_net    True       6960.0           Томск  56.484704  84.948174   \n",
       "3    shopping_net    True       6908.0           Томск  56.484704  84.948174   \n",
       "\n",
       "         trans_ip  device_id  account  is_fraud  is_suspicious    status  \\\n",
       "0  not applicable        NaN  15206.0     False          False  approved   \n",
       "1      2.60.20.87     9367.0      NaN     False          False  approved   \n",
       "2      2.60.20.87     9366.0      NaN     False          False  approved   \n",
       "3      2.60.20.87     9366.0      NaN     False          False  approved   \n",
       "\n",
       "             rule  \n",
       "0  not applicable  \n",
       "1  not applicable  \n",
       "2  not applicable  \n",
       "3  not applicable  "
      ]
     },
     "execution_count": 901,
     "metadata": {},
     "output_type": "execute_result"
    }
   ],
   "source": [
    "reset_caches(cr_drop_txn1, behav_hand1, amt_hand1, time_hand1, part_data1)\n",
    "\n",
    "all_txns22 = []\n",
    "\n",
    "receive_txn22 = cr_drop_txn1.trf_or_atm(declined=False, to_drop=False, receive=True)\n",
    "all_txns22.append(receive_txn22)\n",
    "\n",
    "behav_hand1.online = True\n",
    "behav_hand1.in_chunks = True\n",
    "\n",
    "while amt_hand1.balance > 0:\n",
    "    behav_hand1.guide_scenario()\n",
    "    part_out22 = cr_drop_txn1.purchase(declined=False, dist=False)\n",
    "    all_txns22.append(part_out22)\n",
    "    \n",
    "all_df22 = pd.DataFrame(all_txns22)\n",
    "all_df22"
   ]
  },
  {
   "cell_type": "markdown",
   "id": "f4fa1bb3-aa36-4eb7-b54f-8260737ba526",
   "metadata": {},
   "source": [
    "**Конец теста `CreateDropTxn`**"
   ]
  }
 ],
 "metadata": {
  "kernelspec": {
   "display_name": "Python 3 (ipykernel)",
   "language": "python",
   "name": "python3"
  },
  "language_info": {
   "codemirror_mode": {
    "name": "ipython",
    "version": 3
   },
   "file_extension": ".py",
   "mimetype": "text/x-python",
   "name": "python",
   "nbconvert_exporter": "python",
   "pygments_lexer": "ipython3",
   "version": "3.13.3"
  }
 },
 "nbformat": 4,
 "nbformat_minor": 5
}
