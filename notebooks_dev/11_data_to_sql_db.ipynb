{
 "cells": [
  {
   "cell_type": "code",
   "execution_count": 11,
   "id": "4247c850-10bc-4110-9387-59dc820a2892",
   "metadata": {},
   "outputs": [],
   "source": [
    "import pandas as pd\n",
    "import os\n",
    "import pyarrow\n",
    "import psycopg2\n",
    "from dotenv import load_dotenv\n",
    "from sqlalchemy import create_engine, text, MetaData, Table, Column, Integer, Float, BigInteger, String, Date"
   ]
  },
  {
   "cell_type": "code",
   "execution_count": 2,
   "id": "90cd17fe-54e8-494f-a7f5-104e07d31407",
   "metadata": {},
   "outputs": [],
   "source": [
    "os.chdir('..')\n"
   ]
  },
  {
   "cell_type": "code",
   "execution_count": 7,
   "id": "5892bf59",
   "metadata": {},
   "outputs": [],
   "source": [
    "load_dotenv()\n",
    "\n",
    "db_user = os.getenv(\"DB_USER\")\n",
    "db_pass = os.getenv(\"DB_PASSWORD\")\n",
    "db_host = os.getenv(\"DB_HOST\")\n",
    "db_name = os.getenv(\"DB_NAME\")"
   ]
  },
  {
   "cell_type": "markdown",
   "id": "176a8568-6ad3-4199-9749-36b55a8bb989",
   "metadata": {},
   "source": [
    "# Создание engine для подключения к БД"
   ]
  },
  {
   "cell_type": "code",
   "execution_count": 10,
   "id": "0bc121c4-8f60-4b9b-8a29-41a8a6605c6a",
   "metadata": {},
   "outputs": [],
   "source": [
    "# пустая postgresql БД предварительно создана, называется berka_db\n",
    "\n",
    "engine = create_engine(f'postgresql+psycopg2://{db_user}:{db_pass}@{db_host}:5433/{db_name}')"
   ]
  },
  {
   "cell_type": "code",
   "execution_count": 4,
   "id": "9c863743-26ab-4a6f-89e9-78a8cf8ffda2",
   "metadata": {},
   "outputs": [],
   "source": [
    "# записываем структуру БД в переменную\n",
    "\n",
    "metadata = MetaData()"
   ]
  },
  {
   "cell_type": "markdown",
   "id": "4b4d11b7-a778-4f67-8698-9b87ecd19062",
   "metadata": {},
   "source": [
    "## Создание и заполнение таблицы `clients`"
   ]
  },
  {
   "cell_type": "code",
   "execution_count": null,
   "id": "b260f5cb-16a5-4f78-8268-04a08ba3667e",
   "metadata": {},
   "outputs": [],
   "source": [
    "# подгружаем очищенные данные\n",
    "\n",
    "clients = pd.read_parquet(\"\")"
   ]
  },
  {
   "cell_type": "code",
   "execution_count": 7,
   "id": "61c26f35-b841-4a7a-9727-4adf24d46115",
   "metadata": {
    "scrolled": true
   },
   "outputs": [
    {
     "data": {
      "text/html": [
       "<div>\n",
       "<style scoped>\n",
       "    .dataframe tbody tr th:only-of-type {\n",
       "        vertical-align: middle;\n",
       "    }\n",
       "\n",
       "    .dataframe tbody tr th {\n",
       "        vertical-align: top;\n",
       "    }\n",
       "\n",
       "    .dataframe thead th {\n",
       "        text-align: right;\n",
       "    }\n",
       "</style>\n",
       "<table border=\"1\" class=\"dataframe\">\n",
       "  <thead>\n",
       "    <tr style=\"text-align: right;\">\n",
       "      <th></th>\n",
       "      <th>account_id</th>\n",
       "      <th>district_id</th>\n",
       "      <th>frequency</th>\n",
       "      <th>date</th>\n",
       "    </tr>\n",
       "  </thead>\n",
       "  <tbody>\n",
       "    <tr>\n",
       "      <th>0</th>\n",
       "      <td>576</td>\n",
       "      <td>55</td>\n",
       "      <td>monthly issuance</td>\n",
       "      <td>1993-01-01</td>\n",
       "    </tr>\n",
       "    <tr>\n",
       "      <th>1</th>\n",
       "      <td>3818</td>\n",
       "      <td>74</td>\n",
       "      <td>monthly issuance</td>\n",
       "      <td>1993-01-01</td>\n",
       "    </tr>\n",
       "    <tr>\n",
       "      <th>2</th>\n",
       "      <td>704</td>\n",
       "      <td>55</td>\n",
       "      <td>monthly issuance</td>\n",
       "      <td>1993-01-01</td>\n",
       "    </tr>\n",
       "  </tbody>\n",
       "</table>\n",
       "</div>"
      ],
      "text/plain": [
       "   account_id  district_id         frequency       date\n",
       "0         576           55  monthly issuance 1993-01-01\n",
       "1        3818           74  monthly issuance 1993-01-01\n",
       "2         704           55  monthly issuance 1993-01-01"
      ]
     },
     "execution_count": 7,
     "metadata": {},
     "output_type": "execute_result"
    }
   ],
   "source": [
    "account_clean.head(3)"
   ]
  },
  {
   "cell_type": "code",
   "execution_count": 8,
   "id": "5dc08676-386d-45db-84f5-8ed4dc916988",
   "metadata": {},
   "outputs": [
    {
     "data": {
      "text/plain": [
       "account_id              int64\n",
       "district_id             int64\n",
       "frequency              object\n",
       "date           datetime64[ns]\n",
       "dtype: object"
      ]
     },
     "execution_count": 8,
     "metadata": {},
     "output_type": "execute_result"
    }
   ],
   "source": [
    "account_types = account_clean.dtypes\n",
    "account_types"
   ]
  },
  {
   "cell_type": "code",
   "execution_count": null,
   "id": "31aa0453-05bb-406b-a23e-a5d57374c88b",
   "metadata": {},
   "outputs": [],
   "source": [
    "def add_table_to_metadata(table_name: str, metadata, df_types: pd.Series):\n",
    "    \"\"\"\n",
    "    table_name - string, name of a SQL table\n",
    "    metadata - sqlalchemy object MetaData()\n",
    "    df_types - pandas series with dataframe's data types. You can pass edited series with types as strings.\n",
    "            To learn accepted type labels refer to keys of {'int64':Integer, 'BigInt':BigInteger, 'float64':Float, 'object':String, 'datetime64[ns]':Date}\n",
    "            Series index values will be used as columns names in the SQL table\n",
    "    \"\"\"\n",
    "    if not isinstance(df_types, pd.Series):\n",
    "        raise TypeError(f'df_types must be pd.Series object, but got {type(df_types)}')\n",
    "        \n",
    "    # маппинг для датафрейм типов и sqlalchemy типов\n",
    "    # BigInt это кастомное значение для случаев очень больших целых чисел.\n",
    "    # если нужен BigInt, то тогда нужно в df_types передать серию где будет значение BigInt для соответсвующей колонки\n",
    "    \n",
    "    types_mapping = {'int64':Integer, 'BigInt':BigInteger, 'float64':Float, 'object':String, 'datetime64[ns]':Date}\n",
    "\n",
    "    # создание генератора на основании типов в датафрейме и типов sqlalchemy\n",
    "    # затем добавление таблицы в metadata\n",
    "    return Table(table_name, metadata, *[Column(col_name, types_mapping[str(dtype)]) for col_name, dtype in df_types.items()])"
   ]
  },
  {
   "cell_type": "code",
   "execution_count": 10,
   "id": "f16ccc27-0cfd-405f-ba23-85fb33c89f0e",
   "metadata": {
    "scrolled": true
   },
   "outputs": [],
   "source": [
    "accounts_tab = add_table_to_metadata('accounts', metadata, account_types)"
   ]
  },
  {
   "cell_type": "code",
   "execution_count": 11,
   "id": "e24a288b-ed32-44a3-9810-bee7998eb929",
   "metadata": {},
   "outputs": [],
   "source": [
    "accounts_tab.create(engine)"
   ]
  },
  {
   "cell_type": "code",
   "execution_count": 12,
   "id": "67fc3648-8e4d-4a56-b64c-dd3d89e39e65",
   "metadata": {},
   "outputs": [],
   "source": [
    "# функция добавления данных из датафрейма в имеющиюся таблицу SQL\n",
    "\n",
    "def append_df_to_sql(df, table_name, engine, if_exists='append', index=False, chunksize: int | None=None):\n",
    "    if not isinstance(table_name, str):\n",
    "        raise TypeError(f'table_name must be a string, but got {type(table_name)}')\n",
    "        \n",
    "    df.to_sql(table_name, engine, if_exists=if_exists, index=index)"
   ]
  },
  {
   "cell_type": "code",
   "execution_count": 13,
   "id": "9babe7fb-ee1d-4130-995d-2c974719c57f",
   "metadata": {},
   "outputs": [],
   "source": [
    "# добавляем данные из датафрейма в таблицу accounts\n",
    "\n",
    "append_df_to_sql(account_clean, 'accounts', engine)"
   ]
  },
  {
   "cell_type": "code",
   "execution_count": 14,
   "id": "24110d13-6223-4e49-b50d-a6a8a974d227",
   "metadata": {},
   "outputs": [],
   "source": [
    "# функция сверки количества строк в датафрейме и строк добавленных в БД\n",
    "def count_rows(engine, table_name: str, df: pd.DataFrame | None=None):\n",
    "\n",
    "    # проверка типа для table_name\n",
    "    if not isinstance(table_name, str):\n",
    "        raise TypeError(f'table_name must be a string, but got {type(table_name)}')\n",
    "        \n",
    "    with engine.connect() as con:\n",
    "        query = con.execute(text(f'SELECT COUNT(*) FROM {table_name}'))\n",
    "        row_count = query.scalar() # результат запроса в виде числа\n",
    "    \n",
    "    if df is not None:\n",
    "        df_rows = df.shape[0]\n",
    "        if df_rows != row_count:\n",
    "            raise ValueError(f'''Dataframe row count is not equal to SQL table row count!\n",
    "Dataframe: {df_rows}\n",
    "SQL table: {row_count}''')\n",
    "        else:\n",
    "            print(f'Dataframe and SQL table row counts are equal.\\n{row_count} rows')\n",
    "    else:\n",
    "        print(f'{row_count} rows in the SQL table')\n",
    "        return row_count"
   ]
  },
  {
   "cell_type": "code",
   "execution_count": 15,
   "id": "3ee6da1b-e7d7-4839-bd15-323cb8ee1881",
   "metadata": {},
   "outputs": [
    {
     "name": "stdout",
     "output_type": "stream",
     "text": [
      "Dataframe and SQL table row counts are equal.\n",
      "4500 rows\n"
     ]
    }
   ],
   "source": [
    "# сверяем количество строк в датафрейме и в БД\n",
    "\n",
    "count_rows(engine, 'accounts', account_clean)"
   ]
  },
  {
   "cell_type": "markdown",
   "id": "be3689d4-cca2-4198-917a-b5377b89c15c",
   "metadata": {},
   "source": [
    "## Создание таблицы client"
   ]
  },
  {
   "cell_type": "code",
   "execution_count": 16,
   "id": "da53aa6b-dcdc-4c83-a245-a2949f8ce326",
   "metadata": {},
   "outputs": [],
   "source": [
    "client_clean = df_from_csv('client_df_clean.csv', parse_dates=['birth_date'])"
   ]
  },
  {
   "cell_type": "code",
   "execution_count": 17,
   "id": "8533315e-3c6d-4d8a-a71c-4675c5942e50",
   "metadata": {},
   "outputs": [
    {
     "data": {
      "text/html": [
       "<div>\n",
       "<style scoped>\n",
       "    .dataframe tbody tr th:only-of-type {\n",
       "        vertical-align: middle;\n",
       "    }\n",
       "\n",
       "    .dataframe tbody tr th {\n",
       "        vertical-align: top;\n",
       "    }\n",
       "\n",
       "    .dataframe thead th {\n",
       "        text-align: right;\n",
       "    }\n",
       "</style>\n",
       "<table border=\"1\" class=\"dataframe\">\n",
       "  <thead>\n",
       "    <tr style=\"text-align: right;\">\n",
       "      <th></th>\n",
       "      <th>client_id</th>\n",
       "      <th>district_id</th>\n",
       "      <th>birth_date</th>\n",
       "      <th>sex</th>\n",
       "    </tr>\n",
       "  </thead>\n",
       "  <tbody>\n",
       "    <tr>\n",
       "      <th>0</th>\n",
       "      <td>1</td>\n",
       "      <td>18</td>\n",
       "      <td>1970-12-13</td>\n",
       "      <td>female</td>\n",
       "    </tr>\n",
       "    <tr>\n",
       "      <th>1</th>\n",
       "      <td>2</td>\n",
       "      <td>1</td>\n",
       "      <td>1945-02-04</td>\n",
       "      <td>male</td>\n",
       "    </tr>\n",
       "    <tr>\n",
       "      <th>2</th>\n",
       "      <td>3</td>\n",
       "      <td>1</td>\n",
       "      <td>1940-10-09</td>\n",
       "      <td>female</td>\n",
       "    </tr>\n",
       "  </tbody>\n",
       "</table>\n",
       "</div>"
      ],
      "text/plain": [
       "   client_id  district_id birth_date     sex\n",
       "0          1           18 1970-12-13  female\n",
       "1          2            1 1945-02-04    male\n",
       "2          3            1 1940-10-09  female"
      ]
     },
     "execution_count": 17,
     "metadata": {},
     "output_type": "execute_result"
    }
   ],
   "source": [
    "client_clean.head(3)"
   ]
  },
  {
   "cell_type": "code",
   "execution_count": 18,
   "id": "ea7ca26c-df3c-4050-998d-d88d7f012106",
   "metadata": {},
   "outputs": [
    {
     "data": {
      "text/plain": [
       "client_id               int64\n",
       "district_id             int64\n",
       "birth_date     datetime64[ns]\n",
       "sex                    object\n",
       "dtype: object"
      ]
     },
     "execution_count": 18,
     "metadata": {},
     "output_type": "execute_result"
    }
   ],
   "source": [
    "client_types = client_clean.dtypes\n",
    "client_types"
   ]
  },
  {
   "cell_type": "code",
   "execution_count": 19,
   "id": "afec0370-a246-41ce-8916-6c0a7c92084a",
   "metadata": {},
   "outputs": [],
   "source": [
    "client_tab = add_table_to_metadata('clients', metadata, client_types)"
   ]
  },
  {
   "cell_type": "code",
   "execution_count": 20,
   "id": "09f3d28e-374e-4825-879e-48cde963d52a",
   "metadata": {},
   "outputs": [],
   "source": [
    "client_tab.create(engine)"
   ]
  },
  {
   "cell_type": "code",
   "execution_count": 21,
   "id": "65d234c9-a52d-4cd7-9fa2-7fa264607efd",
   "metadata": {},
   "outputs": [],
   "source": [
    "append_df_to_sql(client_clean, 'clients', engine)"
   ]
  },
  {
   "cell_type": "code",
   "execution_count": 22,
   "id": "45b22263-093f-4fce-91a3-8b895a4cca26",
   "metadata": {},
   "outputs": [
    {
     "name": "stdout",
     "output_type": "stream",
     "text": [
      "Dataframe and SQL table row counts are equal.\n",
      "5369 rows\n"
     ]
    }
   ],
   "source": [
    "# сверяем размеры датафрейма и БД таблицы\n",
    "\n",
    "count_rows(engine, 'clients', client_clean)"
   ]
  },
  {
   "cell_type": "markdown",
   "id": "a922bba5-f5bf-48aa-9b65-54d7b9dd4406",
   "metadata": {},
   "source": [
    "## Создание и заполнение таблицы disposition"
   ]
  },
  {
   "cell_type": "code",
   "execution_count": 23,
   "id": "4338857c-41af-4a3f-a0b8-cee1948a1be5",
   "metadata": {},
   "outputs": [],
   "source": [
    "disp_clean = df_from_csv('disposition_df_clean.csv')"
   ]
  },
  {
   "cell_type": "code",
   "execution_count": 24,
   "id": "61f9b1d9-d79c-45a1-bd7c-840ae429befd",
   "metadata": {},
   "outputs": [
    {
     "data": {
      "text/html": [
       "<div>\n",
       "<style scoped>\n",
       "    .dataframe tbody tr th:only-of-type {\n",
       "        vertical-align: middle;\n",
       "    }\n",
       "\n",
       "    .dataframe tbody tr th {\n",
       "        vertical-align: top;\n",
       "    }\n",
       "\n",
       "    .dataframe thead th {\n",
       "        text-align: right;\n",
       "    }\n",
       "</style>\n",
       "<table border=\"1\" class=\"dataframe\">\n",
       "  <thead>\n",
       "    <tr style=\"text-align: right;\">\n",
       "      <th></th>\n",
       "      <th>disp_id</th>\n",
       "      <th>client_id</th>\n",
       "      <th>account_id</th>\n",
       "      <th>type</th>\n",
       "    </tr>\n",
       "  </thead>\n",
       "  <tbody>\n",
       "    <tr>\n",
       "      <th>0</th>\n",
       "      <td>1</td>\n",
       "      <td>1</td>\n",
       "      <td>1</td>\n",
       "      <td>OWNER</td>\n",
       "    </tr>\n",
       "    <tr>\n",
       "      <th>1</th>\n",
       "      <td>2</td>\n",
       "      <td>2</td>\n",
       "      <td>2</td>\n",
       "      <td>OWNER</td>\n",
       "    </tr>\n",
       "    <tr>\n",
       "      <th>2</th>\n",
       "      <td>3</td>\n",
       "      <td>3</td>\n",
       "      <td>2</td>\n",
       "      <td>DISPONENT</td>\n",
       "    </tr>\n",
       "  </tbody>\n",
       "</table>\n",
       "</div>"
      ],
      "text/plain": [
       "   disp_id  client_id  account_id       type\n",
       "0        1          1           1      OWNER\n",
       "1        2          2           2      OWNER\n",
       "2        3          3           2  DISPONENT"
      ]
     },
     "execution_count": 24,
     "metadata": {},
     "output_type": "execute_result"
    }
   ],
   "source": [
    "disp_clean.head(3)"
   ]
  },
  {
   "cell_type": "code",
   "execution_count": 25,
   "id": "d298a1ad-fbc5-4c94-ab70-6b277ba157b7",
   "metadata": {},
   "outputs": [
    {
     "data": {
      "text/plain": [
       "disp_id        int64\n",
       "client_id      int64\n",
       "account_id     int64\n",
       "type          object\n",
       "dtype: object"
      ]
     },
     "execution_count": 25,
     "metadata": {},
     "output_type": "execute_result"
    }
   ],
   "source": [
    "disp_types = disp_clean.dtypes\n",
    "disp_types"
   ]
  },
  {
   "cell_type": "code",
   "execution_count": 26,
   "id": "d0732c7b-5431-4de0-907a-446900638419",
   "metadata": {},
   "outputs": [],
   "source": [
    "disp_tab = add_table_to_metadata('disposition', metadata, disp_types)"
   ]
  },
  {
   "cell_type": "code",
   "execution_count": 27,
   "id": "f26bce2e-e7a5-4813-bd92-4c196a755f0a",
   "metadata": {},
   "outputs": [],
   "source": [
    "disp_tab.create(engine)"
   ]
  },
  {
   "cell_type": "code",
   "execution_count": 28,
   "id": "e5c27433-a5a3-4395-9665-a5c8253a875c",
   "metadata": {},
   "outputs": [],
   "source": [
    "# заполняем таблицу disposition\n",
    "\n",
    "append_df_to_sql(disp_clean, 'disposition', engine)"
   ]
  },
  {
   "cell_type": "code",
   "execution_count": 29,
   "id": "645aff8c-d811-4382-8939-8de60808af9a",
   "metadata": {},
   "outputs": [
    {
     "name": "stdout",
     "output_type": "stream",
     "text": [
      "Dataframe and SQL table row counts are equal.\n",
      "5369 rows\n"
     ]
    }
   ],
   "source": [
    "# сверяем количество строк\n",
    "\n",
    "count_rows(engine, 'disposition', disp_clean)"
   ]
  },
  {
   "cell_type": "markdown",
   "id": "abb7c361-bbf3-4de4-9b2c-ad77b2f7196f",
   "metadata": {},
   "source": [
    "## Создание и заполнение таблицы permanent order"
   ]
  },
  {
   "cell_type": "code",
   "execution_count": 30,
   "id": "65eb93e3-dcfa-403f-8d8f-4d638dfb8d14",
   "metadata": {},
   "outputs": [],
   "source": [
    "order_clean = df_from_csv('order_df_clean.csv')"
   ]
  },
  {
   "cell_type": "code",
   "execution_count": 31,
   "id": "ca5e2181-0ca3-4fd6-9033-6928176ce298",
   "metadata": {},
   "outputs": [
    {
     "data": {
      "text/html": [
       "<div>\n",
       "<style scoped>\n",
       "    .dataframe tbody tr th:only-of-type {\n",
       "        vertical-align: middle;\n",
       "    }\n",
       "\n",
       "    .dataframe tbody tr th {\n",
       "        vertical-align: top;\n",
       "    }\n",
       "\n",
       "    .dataframe thead th {\n",
       "        text-align: right;\n",
       "    }\n",
       "</style>\n",
       "<table border=\"1\" class=\"dataframe\">\n",
       "  <thead>\n",
       "    <tr style=\"text-align: right;\">\n",
       "      <th></th>\n",
       "      <th>order_id</th>\n",
       "      <th>account_id</th>\n",
       "      <th>bank_to</th>\n",
       "      <th>account_to</th>\n",
       "      <th>amount</th>\n",
       "      <th>k_symbol</th>\n",
       "    </tr>\n",
       "  </thead>\n",
       "  <tbody>\n",
       "    <tr>\n",
       "      <th>0</th>\n",
       "      <td>29401</td>\n",
       "      <td>1</td>\n",
       "      <td>YZ</td>\n",
       "      <td>87144583</td>\n",
       "      <td>2452.0</td>\n",
       "      <td>household</td>\n",
       "    </tr>\n",
       "    <tr>\n",
       "      <th>1</th>\n",
       "      <td>29402</td>\n",
       "      <td>2</td>\n",
       "      <td>ST</td>\n",
       "      <td>89597016</td>\n",
       "      <td>3372.7</td>\n",
       "      <td>loan payment</td>\n",
       "    </tr>\n",
       "    <tr>\n",
       "      <th>2</th>\n",
       "      <td>29403</td>\n",
       "      <td>2</td>\n",
       "      <td>QR</td>\n",
       "      <td>13943797</td>\n",
       "      <td>7266.0</td>\n",
       "      <td>household</td>\n",
       "    </tr>\n",
       "  </tbody>\n",
       "</table>\n",
       "</div>"
      ],
      "text/plain": [
       "   order_id  account_id bank_to  account_to  amount      k_symbol\n",
       "0     29401           1      YZ    87144583  2452.0     household\n",
       "1     29402           2      ST    89597016  3372.7  loan payment\n",
       "2     29403           2      QR    13943797  7266.0     household"
      ]
     },
     "execution_count": 31,
     "metadata": {},
     "output_type": "execute_result"
    }
   ],
   "source": [
    "order_clean.head(3)"
   ]
  },
  {
   "cell_type": "code",
   "execution_count": 32,
   "id": "55e21e5f-fde2-442e-a758-53dd4e185968",
   "metadata": {},
   "outputs": [
    {
     "data": {
      "text/plain": [
       "order_id        int64\n",
       "account_id      int64\n",
       "bank_to        object\n",
       "account_to      int64\n",
       "amount        float64\n",
       "k_symbol       object\n",
       "dtype: object"
      ]
     },
     "execution_count": 32,
     "metadata": {},
     "output_type": "execute_result"
    }
   ],
   "source": [
    "order_types = order_clean.dtypes\n",
    "order_types"
   ]
  },
  {
   "cell_type": "code",
   "execution_count": 33,
   "id": "40df5904-f407-4c84-b794-a70b995a94a3",
   "metadata": {},
   "outputs": [],
   "source": [
    "# создаем таблицу в БД\n",
    "\n",
    "order_tab = add_table_to_metadata('orders', metadata, order_types)"
   ]
  },
  {
   "cell_type": "code",
   "execution_count": 34,
   "id": "553627b0-007b-4020-8e6b-2d3e7c60effa",
   "metadata": {},
   "outputs": [],
   "source": [
    "order_tab.create(engine)"
   ]
  },
  {
   "cell_type": "code",
   "execution_count": 35,
   "id": "59a03598-b6f0-45cd-9ff5-bd5085cde5ab",
   "metadata": {},
   "outputs": [],
   "source": [
    "# заполняем таблицу\n",
    "\n",
    "append_df_to_sql(order_clean, 'orders', engine)"
   ]
  },
  {
   "cell_type": "code",
   "execution_count": 36,
   "id": "9bfc323e-401f-42f5-95fe-cd4deb217188",
   "metadata": {},
   "outputs": [
    {
     "name": "stdout",
     "output_type": "stream",
     "text": [
      "Dataframe and SQL table row counts are equal.\n",
      "6471 rows\n"
     ]
    }
   ],
   "source": [
    "# проверяем целостность\n",
    "count_rows(engine, 'orders', order_clean)"
   ]
  },
  {
   "cell_type": "markdown",
   "id": "52836789-9b57-4956-83b7-fa6fd4c0bfa5",
   "metadata": {},
   "source": [
    "## Создание и заполнение таблицы transaction"
   ]
  },
  {
   "cell_type": "code",
   "execution_count": 37,
   "id": "0f02cdcc-b810-48de-9c2b-5bdb88c33a0a",
   "metadata": {},
   "outputs": [],
   "source": [
    "trans_clean = df_from_csv('transaction_df_clean.csv', parse_dates=['date'], dtype={'bank':'str'})"
   ]
  },
  {
   "cell_type": "code",
   "execution_count": 38,
   "id": "3f945c18-67c3-4c3c-a2ab-72cbdd9f34bf",
   "metadata": {},
   "outputs": [
    {
     "data": {
      "text/html": [
       "<div>\n",
       "<style scoped>\n",
       "    .dataframe tbody tr th:only-of-type {\n",
       "        vertical-align: middle;\n",
       "    }\n",
       "\n",
       "    .dataframe tbody tr th {\n",
       "        vertical-align: top;\n",
       "    }\n",
       "\n",
       "    .dataframe thead th {\n",
       "        text-align: right;\n",
       "    }\n",
       "</style>\n",
       "<table border=\"1\" class=\"dataframe\">\n",
       "  <thead>\n",
       "    <tr style=\"text-align: right;\">\n",
       "      <th></th>\n",
       "      <th>trans_id</th>\n",
       "      <th>account_id</th>\n",
       "      <th>date</th>\n",
       "      <th>type</th>\n",
       "      <th>operation</th>\n",
       "      <th>amount</th>\n",
       "      <th>balance</th>\n",
       "      <th>k_symbol</th>\n",
       "      <th>bank</th>\n",
       "      <th>account</th>\n",
       "    </tr>\n",
       "  </thead>\n",
       "  <tbody>\n",
       "    <tr>\n",
       "      <th>0</th>\n",
       "      <td>695247</td>\n",
       "      <td>2378</td>\n",
       "      <td>1993-01-01</td>\n",
       "      <td>credit</td>\n",
       "      <td>credit in cash</td>\n",
       "      <td>700.0</td>\n",
       "      <td>700.0</td>\n",
       "      <td>NaN</td>\n",
       "      <td>NaN</td>\n",
       "      <td>NaN</td>\n",
       "    </tr>\n",
       "    <tr>\n",
       "      <th>1</th>\n",
       "      <td>171812</td>\n",
       "      <td>576</td>\n",
       "      <td>1993-01-01</td>\n",
       "      <td>credit</td>\n",
       "      <td>credit in cash</td>\n",
       "      <td>900.0</td>\n",
       "      <td>900.0</td>\n",
       "      <td>NaN</td>\n",
       "      <td>NaN</td>\n",
       "      <td>NaN</td>\n",
       "    </tr>\n",
       "    <tr>\n",
       "      <th>2</th>\n",
       "      <td>207264</td>\n",
       "      <td>704</td>\n",
       "      <td>1993-01-01</td>\n",
       "      <td>credit</td>\n",
       "      <td>credit in cash</td>\n",
       "      <td>1000.0</td>\n",
       "      <td>1000.0</td>\n",
       "      <td>NaN</td>\n",
       "      <td>NaN</td>\n",
       "      <td>NaN</td>\n",
       "    </tr>\n",
       "  </tbody>\n",
       "</table>\n",
       "</div>"
      ],
      "text/plain": [
       "   trans_id  account_id       date    type       operation  amount  balance  \\\n",
       "0    695247        2378 1993-01-01  credit  credit in cash   700.0    700.0   \n",
       "1    171812         576 1993-01-01  credit  credit in cash   900.0    900.0   \n",
       "2    207264         704 1993-01-01  credit  credit in cash  1000.0   1000.0   \n",
       "\n",
       "  k_symbol bank  account  \n",
       "0      NaN  NaN      NaN  \n",
       "1      NaN  NaN      NaN  \n",
       "2      NaN  NaN      NaN  "
      ]
     },
     "execution_count": 38,
     "metadata": {},
     "output_type": "execute_result"
    }
   ],
   "source": [
    "trans_clean.head(3)"
   ]
  },
  {
   "cell_type": "code",
   "execution_count": 39,
   "id": "7b7cf22b-b6eb-47ff-90aa-b79836e349a4",
   "metadata": {
    "scrolled": true
   },
   "outputs": [
    {
     "data": {
      "text/plain": [
       "trans_id               int64\n",
       "account_id             int64\n",
       "date          datetime64[ns]\n",
       "type                  object\n",
       "operation             object\n",
       "amount               float64\n",
       "balance              float64\n",
       "k_symbol              object\n",
       "bank                  object\n",
       "account              float64\n",
       "dtype: object"
      ]
     },
     "execution_count": 39,
     "metadata": {},
     "output_type": "execute_result"
    }
   ],
   "source": [
    "trans_types = trans_clean.dtypes\n",
    "trans_types"
   ]
  },
  {
   "cell_type": "code",
   "execution_count": 40,
   "id": "3b43ee67-ee68-4085-9413-9327e5af7928",
   "metadata": {},
   "outputs": [],
   "source": [
    "trans_tab = add_table_to_metadata('transactions', metadata, trans_types)"
   ]
  },
  {
   "cell_type": "code",
   "execution_count": 41,
   "id": "b25e0d04-9ff1-4369-9eeb-b7e9155ed741",
   "metadata": {},
   "outputs": [],
   "source": [
    "trans_tab.create(engine)"
   ]
  },
  {
   "cell_type": "code",
   "execution_count": 42,
   "id": "ab5f355a-73db-4912-9af3-f174c9e02946",
   "metadata": {},
   "outputs": [],
   "source": [
    "# chunksize 1000: time taken - 68 s\n",
    "append_df_to_sql(trans_clean, 'transactions', engine, chunksize=1000)"
   ]
  },
  {
   "cell_type": "code",
   "execution_count": 43,
   "id": "b6eaa649-e60b-4029-b860-75dec6134947",
   "metadata": {},
   "outputs": [
    {
     "name": "stdout",
     "output_type": "stream",
     "text": [
      "Dataframe and SQL table row counts are equal.\n",
      "1056320 rows\n"
     ]
    }
   ],
   "source": [
    "count_rows(engine, 'transactions', trans_clean)"
   ]
  },
  {
   "cell_type": "markdown",
   "id": "45042dc4-eca1-47cd-b3f9-6eaafb905dab",
   "metadata": {},
   "source": [
    "## Создание и заполнение таблицы loan"
   ]
  },
  {
   "cell_type": "code",
   "execution_count": 44,
   "id": "e3a2951d-a273-464e-957a-be2663f10370",
   "metadata": {},
   "outputs": [],
   "source": [
    "loan_clean = df_from_csv('loan_df_clean.csv', parse_dates=['date'])"
   ]
  },
  {
   "cell_type": "code",
   "execution_count": 45,
   "id": "301ba2a0-e0ad-4429-baf4-3f786c8b5918",
   "metadata": {},
   "outputs": [
    {
     "data": {
      "text/html": [
       "<div>\n",
       "<style scoped>\n",
       "    .dataframe tbody tr th:only-of-type {\n",
       "        vertical-align: middle;\n",
       "    }\n",
       "\n",
       "    .dataframe tbody tr th {\n",
       "        vertical-align: top;\n",
       "    }\n",
       "\n",
       "    .dataframe thead th {\n",
       "        text-align: right;\n",
       "    }\n",
       "</style>\n",
       "<table border=\"1\" class=\"dataframe\">\n",
       "  <thead>\n",
       "    <tr style=\"text-align: right;\">\n",
       "      <th></th>\n",
       "      <th>loan_id</th>\n",
       "      <th>account_id</th>\n",
       "      <th>date</th>\n",
       "      <th>amount</th>\n",
       "      <th>duration</th>\n",
       "      <th>payments</th>\n",
       "      <th>status</th>\n",
       "    </tr>\n",
       "  </thead>\n",
       "  <tbody>\n",
       "    <tr>\n",
       "      <th>0</th>\n",
       "      <td>5314</td>\n",
       "      <td>1787</td>\n",
       "      <td>1993-07-05</td>\n",
       "      <td>96396.0</td>\n",
       "      <td>12</td>\n",
       "      <td>8033.0</td>\n",
       "      <td>contract finished, loan not paid</td>\n",
       "    </tr>\n",
       "    <tr>\n",
       "      <th>1</th>\n",
       "      <td>5316</td>\n",
       "      <td>1801</td>\n",
       "      <td>1993-07-11</td>\n",
       "      <td>165960.0</td>\n",
       "      <td>36</td>\n",
       "      <td>4610.0</td>\n",
       "      <td>contract finished, no problems</td>\n",
       "    </tr>\n",
       "    <tr>\n",
       "      <th>2</th>\n",
       "      <td>6863</td>\n",
       "      <td>9188</td>\n",
       "      <td>1993-07-28</td>\n",
       "      <td>127080.0</td>\n",
       "      <td>60</td>\n",
       "      <td>2118.0</td>\n",
       "      <td>contract finished, no problems</td>\n",
       "    </tr>\n",
       "  </tbody>\n",
       "</table>\n",
       "</div>"
      ],
      "text/plain": [
       "   loan_id  account_id       date    amount  duration  payments  \\\n",
       "0     5314        1787 1993-07-05   96396.0        12    8033.0   \n",
       "1     5316        1801 1993-07-11  165960.0        36    4610.0   \n",
       "2     6863        9188 1993-07-28  127080.0        60    2118.0   \n",
       "\n",
       "                             status  \n",
       "0  contract finished, loan not paid  \n",
       "1    contract finished, no problems  \n",
       "2    contract finished, no problems  "
      ]
     },
     "execution_count": 45,
     "metadata": {},
     "output_type": "execute_result"
    }
   ],
   "source": [
    "loan_clean.head(3)"
   ]
  },
  {
   "cell_type": "code",
   "execution_count": 46,
   "id": "f1197cf0-eff0-416a-9536-ba5e859dc194",
   "metadata": {},
   "outputs": [
    {
     "data": {
      "text/plain": [
       "loan_id                int64\n",
       "account_id             int64\n",
       "date          datetime64[ns]\n",
       "amount               float64\n",
       "duration               int64\n",
       "payments             float64\n",
       "status                object\n",
       "dtype: object"
      ]
     },
     "execution_count": 46,
     "metadata": {},
     "output_type": "execute_result"
    }
   ],
   "source": [
    "loan_types = loan_clean.dtypes\n",
    "loan_types"
   ]
  },
  {
   "cell_type": "code",
   "execution_count": 47,
   "id": "531bc187-fe72-41c0-9023-43dcb9cc59da",
   "metadata": {},
   "outputs": [],
   "source": [
    "loan_tab = add_table_to_metadata('loan', metadata, loan_types)"
   ]
  },
  {
   "cell_type": "code",
   "execution_count": 48,
   "id": "097a62ae-e4ab-421f-8f37-745bc1b8c9fa",
   "metadata": {},
   "outputs": [],
   "source": [
    "loan_tab.create(engine)"
   ]
  },
  {
   "cell_type": "code",
   "execution_count": 49,
   "id": "c60f83c6-4127-4fd3-b6c9-34a9c300b47c",
   "metadata": {},
   "outputs": [],
   "source": [
    "append_df_to_sql(loan_clean, 'loan', engine)"
   ]
  },
  {
   "cell_type": "code",
   "execution_count": 50,
   "id": "cf81501c-d4f7-45c9-84bc-852a7c52e159",
   "metadata": {},
   "outputs": [
    {
     "name": "stdout",
     "output_type": "stream",
     "text": [
      "Dataframe and SQL table row counts are equal.\n",
      "682 rows\n"
     ]
    }
   ],
   "source": [
    "count_rows(engine, 'loan', loan_clean)"
   ]
  },
  {
   "cell_type": "markdown",
   "id": "322ca4ae-1436-4020-8b3c-10a25a33cdf8",
   "metadata": {},
   "source": [
    "## Создание и заполнение таблицы credit card"
   ]
  },
  {
   "cell_type": "code",
   "execution_count": 51,
   "id": "4727d4cb-e5e0-48a3-9c76-0c05c789ea1c",
   "metadata": {},
   "outputs": [],
   "source": [
    "card_clean = df_from_csv('card_df_clean.csv', parse_dates=['issued'])"
   ]
  },
  {
   "cell_type": "code",
   "execution_count": 52,
   "id": "081b3f4f-e2ea-43f2-b754-b2ff11b37493",
   "metadata": {},
   "outputs": [
    {
     "data": {
      "text/html": [
       "<div>\n",
       "<style scoped>\n",
       "    .dataframe tbody tr th:only-of-type {\n",
       "        vertical-align: middle;\n",
       "    }\n",
       "\n",
       "    .dataframe tbody tr th {\n",
       "        vertical-align: top;\n",
       "    }\n",
       "\n",
       "    .dataframe thead th {\n",
       "        text-align: right;\n",
       "    }\n",
       "</style>\n",
       "<table border=\"1\" class=\"dataframe\">\n",
       "  <thead>\n",
       "    <tr style=\"text-align: right;\">\n",
       "      <th></th>\n",
       "      <th>card_id</th>\n",
       "      <th>disp_id</th>\n",
       "      <th>type</th>\n",
       "      <th>issued</th>\n",
       "    </tr>\n",
       "  </thead>\n",
       "  <tbody>\n",
       "    <tr>\n",
       "      <th>0</th>\n",
       "      <td>1005</td>\n",
       "      <td>9285</td>\n",
       "      <td>classic</td>\n",
       "      <td>1993-11-07</td>\n",
       "    </tr>\n",
       "    <tr>\n",
       "      <th>1</th>\n",
       "      <td>104</td>\n",
       "      <td>588</td>\n",
       "      <td>classic</td>\n",
       "      <td>1994-01-19</td>\n",
       "    </tr>\n",
       "    <tr>\n",
       "      <th>2</th>\n",
       "      <td>747</td>\n",
       "      <td>4915</td>\n",
       "      <td>classic</td>\n",
       "      <td>1994-02-05</td>\n",
       "    </tr>\n",
       "  </tbody>\n",
       "</table>\n",
       "</div>"
      ],
      "text/plain": [
       "   card_id  disp_id     type     issued\n",
       "0     1005     9285  classic 1993-11-07\n",
       "1      104      588  classic 1994-01-19\n",
       "2      747     4915  classic 1994-02-05"
      ]
     },
     "execution_count": 52,
     "metadata": {},
     "output_type": "execute_result"
    }
   ],
   "source": [
    "card_clean.head(3)"
   ]
  },
  {
   "cell_type": "code",
   "execution_count": 53,
   "id": "08f25ccb-a446-412c-803e-39305bcbb440",
   "metadata": {
    "scrolled": true
   },
   "outputs": [
    {
     "data": {
      "text/plain": [
       "card_id             int64\n",
       "disp_id             int64\n",
       "type               object\n",
       "issued     datetime64[ns]\n",
       "dtype: object"
      ]
     },
     "execution_count": 53,
     "metadata": {},
     "output_type": "execute_result"
    }
   ],
   "source": [
    "card_types = card_clean.dtypes\n",
    "card_types"
   ]
  },
  {
   "cell_type": "code",
   "execution_count": 54,
   "id": "2634036e-9ed0-4610-8eac-fd98f4fdfb1c",
   "metadata": {},
   "outputs": [],
   "source": [
    "card_tab = add_table_to_metadata('cards', metadata, card_types)"
   ]
  },
  {
   "cell_type": "code",
   "execution_count": 55,
   "id": "439da57c-6094-44b6-aab4-cf50b3341074",
   "metadata": {},
   "outputs": [],
   "source": [
    "card_tab.create(engine)"
   ]
  },
  {
   "cell_type": "code",
   "execution_count": 56,
   "id": "50835349-3776-4cee-b4e4-4d9199e0e8a9",
   "metadata": {},
   "outputs": [],
   "source": [
    "append_df_to_sql(card_clean, 'cards', engine)"
   ]
  },
  {
   "cell_type": "code",
   "execution_count": 57,
   "id": "1882c21b-7524-465c-a2df-b69924cec9f4",
   "metadata": {},
   "outputs": [
    {
     "name": "stdout",
     "output_type": "stream",
     "text": [
      "Dataframe and SQL table row counts are equal.\n",
      "892 rows\n"
     ]
    }
   ],
   "source": [
    "count_rows(engine, 'cards', card_clean)"
   ]
  },
  {
   "cell_type": "markdown",
   "id": "4ce58b8d-fe94-4aa6-a922-cabf2322fc6d",
   "metadata": {},
   "source": [
    "## Создание и наполнение таблицы district (Demographic data)"
   ]
  },
  {
   "cell_type": "code",
   "execution_count": 58,
   "id": "2ab96d20-76c2-4c84-bbd1-059d5ed21d0f",
   "metadata": {},
   "outputs": [],
   "source": [
    "district_clean = df_from_csv('district_df_clean.csv')"
   ]
  },
  {
   "cell_type": "code",
   "execution_count": 59,
   "id": "247dd3b0-3e7f-4d40-8139-5fba9bf88c71",
   "metadata": {},
   "outputs": [
    {
     "data": {
      "text/html": [
       "<div>\n",
       "<style scoped>\n",
       "    .dataframe tbody tr th:only-of-type {\n",
       "        vertical-align: middle;\n",
       "    }\n",
       "\n",
       "    .dataframe tbody tr th {\n",
       "        vertical-align: top;\n",
       "    }\n",
       "\n",
       "    .dataframe thead th {\n",
       "        text-align: right;\n",
       "    }\n",
       "</style>\n",
       "<table border=\"1\" class=\"dataframe\">\n",
       "  <thead>\n",
       "    <tr style=\"text-align: right;\">\n",
       "      <th></th>\n",
       "      <th>district_code</th>\n",
       "      <th>district_name</th>\n",
       "      <th>region</th>\n",
       "      <th>population</th>\n",
       "      <th>no_of_mun_below_500</th>\n",
       "      <th>no_of_mun_between_500_1999</th>\n",
       "      <th>no_of_mun_between_2000_9999</th>\n",
       "      <th>no_of_mun_above_10000</th>\n",
       "      <th>no_of_cities</th>\n",
       "      <th>ratio_of_urban_population</th>\n",
       "      <th>avg_salary</th>\n",
       "      <th>unemployment_rate_95</th>\n",
       "      <th>unemployment_rate_96</th>\n",
       "      <th>enterpreneurs_per_1000</th>\n",
       "      <th>crimes_num_95</th>\n",
       "      <th>crimes_num_96</th>\n",
       "    </tr>\n",
       "  </thead>\n",
       "  <tbody>\n",
       "    <tr>\n",
       "      <th>0</th>\n",
       "      <td>1</td>\n",
       "      <td>Hl.m. Praha</td>\n",
       "      <td>Prague</td>\n",
       "      <td>1204953</td>\n",
       "      <td>0</td>\n",
       "      <td>0</td>\n",
       "      <td>0</td>\n",
       "      <td>1</td>\n",
       "      <td>1</td>\n",
       "      <td>100.0</td>\n",
       "      <td>12541</td>\n",
       "      <td>0.29</td>\n",
       "      <td>0.43</td>\n",
       "      <td>167</td>\n",
       "      <td>85677.0</td>\n",
       "      <td>99107</td>\n",
       "    </tr>\n",
       "    <tr>\n",
       "      <th>1</th>\n",
       "      <td>2</td>\n",
       "      <td>Benesov</td>\n",
       "      <td>central Bohemia</td>\n",
       "      <td>88884</td>\n",
       "      <td>80</td>\n",
       "      <td>26</td>\n",
       "      <td>6</td>\n",
       "      <td>2</td>\n",
       "      <td>5</td>\n",
       "      <td>46.7</td>\n",
       "      <td>8507</td>\n",
       "      <td>1.67</td>\n",
       "      <td>1.85</td>\n",
       "      <td>132</td>\n",
       "      <td>2159.0</td>\n",
       "      <td>2674</td>\n",
       "    </tr>\n",
       "    <tr>\n",
       "      <th>2</th>\n",
       "      <td>3</td>\n",
       "      <td>Beroun</td>\n",
       "      <td>central Bohemia</td>\n",
       "      <td>75232</td>\n",
       "      <td>55</td>\n",
       "      <td>26</td>\n",
       "      <td>4</td>\n",
       "      <td>1</td>\n",
       "      <td>5</td>\n",
       "      <td>41.7</td>\n",
       "      <td>8980</td>\n",
       "      <td>1.95</td>\n",
       "      <td>2.21</td>\n",
       "      <td>111</td>\n",
       "      <td>2824.0</td>\n",
       "      <td>2813</td>\n",
       "    </tr>\n",
       "  </tbody>\n",
       "</table>\n",
       "</div>"
      ],
      "text/plain": [
       "   district_code district_name           region  population  \\\n",
       "0              1   Hl.m. Praha           Prague     1204953   \n",
       "1              2       Benesov  central Bohemia       88884   \n",
       "2              3        Beroun  central Bohemia       75232   \n",
       "\n",
       "   no_of_mun_below_500  no_of_mun_between_500_1999  \\\n",
       "0                    0                           0   \n",
       "1                   80                          26   \n",
       "2                   55                          26   \n",
       "\n",
       "   no_of_mun_between_2000_9999  no_of_mun_above_10000  no_of_cities  \\\n",
       "0                            0                      1             1   \n",
       "1                            6                      2             5   \n",
       "2                            4                      1             5   \n",
       "\n",
       "   ratio_of_urban_population  avg_salary  unemployment_rate_95  \\\n",
       "0                      100.0       12541                  0.29   \n",
       "1                       46.7        8507                  1.67   \n",
       "2                       41.7        8980                  1.95   \n",
       "\n",
       "   unemployment_rate_96  enterpreneurs_per_1000  crimes_num_95  crimes_num_96  \n",
       "0                  0.43                     167        85677.0          99107  \n",
       "1                  1.85                     132         2159.0           2674  \n",
       "2                  2.21                     111         2824.0           2813  "
      ]
     },
     "execution_count": 59,
     "metadata": {},
     "output_type": "execute_result"
    }
   ],
   "source": [
    "district_clean.head(3)"
   ]
  },
  {
   "cell_type": "code",
   "execution_count": 60,
   "id": "4d91c5a7-6bef-4d1d-b950-a36d83bd103f",
   "metadata": {},
   "outputs": [
    {
     "data": {
      "text/plain": [
       "district_code                    int64\n",
       "district_name                   object\n",
       "region                          object\n",
       "population                       int64\n",
       "no_of_mun_below_500              int64\n",
       "no_of_mun_between_500_1999       int64\n",
       "no_of_mun_between_2000_9999      int64\n",
       "no_of_mun_above_10000            int64\n",
       "no_of_cities                     int64\n",
       "ratio_of_urban_population      float64\n",
       "avg_salary                       int64\n",
       "unemployment_rate_95           float64\n",
       "unemployment_rate_96           float64\n",
       "enterpreneurs_per_1000           int64\n",
       "crimes_num_95                  float64\n",
       "crimes_num_96                    int64\n",
       "dtype: object"
      ]
     },
     "execution_count": 60,
     "metadata": {},
     "output_type": "execute_result"
    }
   ],
   "source": [
    "district_types = district_clean.dtypes\n",
    "district_types"
   ]
  },
  {
   "cell_type": "code",
   "execution_count": 61,
   "id": "0596e0d4-e0f5-435d-9bf0-d39389343a25",
   "metadata": {},
   "outputs": [],
   "source": [
    "district_tab = add_table_to_metadata('district', metadata, district_types)"
   ]
  },
  {
   "cell_type": "code",
   "execution_count": 62,
   "id": "52cc1f50-3fe1-4737-b0c3-f56d643a18fd",
   "metadata": {},
   "outputs": [],
   "source": [
    "district_tab.create(engine)"
   ]
  },
  {
   "cell_type": "code",
   "execution_count": 63,
   "id": "2fb1f30b-7155-4fe2-a9ed-d93615777f46",
   "metadata": {},
   "outputs": [],
   "source": [
    "append_df_to_sql(district_clean, 'district', engine)"
   ]
  },
  {
   "cell_type": "code",
   "execution_count": 64,
   "id": "2edde41a-b8bf-424f-9595-98f6d0aa5dd1",
   "metadata": {},
   "outputs": [
    {
     "name": "stdout",
     "output_type": "stream",
     "text": [
      "Dataframe and SQL table row counts are equal.\n",
      "77 rows\n"
     ]
    }
   ],
   "source": [
    "count_rows(engine,'district',  district_clean)"
   ]
  },
  {
   "cell_type": "code",
   "execution_count": null,
   "id": "5b28e059-60a5-41ad-9d8b-fd6d18ca50de",
   "metadata": {},
   "outputs": [],
   "source": [
    "# создаем функцию подсчета файлов с определенным расширением в указанной директории\n",
    "# она нам понадобится для проверки количества файлов с очищенными данными и созданных таблиц\n",
    "\n",
    "def count_specific_files(dir='data/cleaned_data/', ext='.csv'):\n",
    "    \"\"\"\n",
    "    counts visible files with specified extension. Skips temporary and hidden files.\n",
    "    \n",
    "    dir - relative or absolute path to directory. Default is 'data/cleaned_data/'\n",
    "    ext - files extension. Default is '.csv'\n",
    "    \"\"\"\n",
    "    if not os.path.isdir(dir):\n",
    "        if os.path.isabs(dir):\n",
    "            raise ValueError(f'dir argument must existing path! {dir} does not exist')\n",
    "        else:\n",
    "            raise ValueError(f'dir argument must existing path! {dir} is relative path. Check current directory or if path is correct')\n",
    "\n",
    "    \n",
    "    filtered_files = [file for file in os.listdir(dir) if file.endswith(ext) and not file.startswith('.') and not file.startswith('~')]\n",
    "\n",
    "    return len(filtered_files)"
   ]
  },
  {
   "cell_type": "code",
   "execution_count": 66,
   "id": "ea5cdc22-cd67-491e-97a2-c4f0c2cd31be",
   "metadata": {},
   "outputs": [],
   "source": [
    "# определяем функцию сверки количества файлов с данными с количеством таблиц\n",
    "\n",
    "def cleaned_and_tables_count(engine, files_dir='data/cleaned_data/', file_ext='.csv', schema='public'):\n",
    "    \"\"\"\n",
    "    counts tables in a database and counts visible files in specified directory - temporary and hidden files are skipped\n",
    "    then compares the counts\n",
    "    ------------------------\n",
    "    engine - database engine\n",
    "    ------------------------\n",
    "    files_dir - directory in which files to be counted. The default is 'data/cleaned_data/'\n",
    "    file_ext - files extension. The default is '.csv'\n",
    "    schema - database schema in which tables must be counted. The default is 'public'\n",
    "    \"\"\"\n",
    "\n",
    "    # подсоединяемся к БД. Делаем запрос, считающий количество таблиц в указанной схеме БД\n",
    "    with engine.connect() as con:\n",
    "        query = con.execute(text(f\"\"\"\n",
    "        SELECT count(tablename)\n",
    "        FROM pg_catalog.pg_tables\n",
    "        WHERE schemaname = '{schema}'\"\"\"))\n",
    "        tables_count = query.scalar()\n",
    "\n",
    "    # через функцию count_specific_files() считаем количество файлов с указанны\n",
    "    files_count = count_specific_files(files_dir, file_ext)\n",
    "\n",
    "    # сравниваем количество. Выводим ошибку если не равно\n",
    "    if tables_count != files_count:\n",
    "        raise ValueError(f\"\"\"Files count is not equal to tables count!\n",
    "Files: {files_count}\n",
    "Tables: {tables_count}\"\"\")\n",
    "\n",
    "    # если равно, то выводим сообщение и количество.\n",
    "    else:\n",
    "        print(f'Files count is equal to tables count. The count is {tables_count}')\n",
    "    "
   ]
  },
  {
   "cell_type": "code",
   "execution_count": 67,
   "id": "1df22649-9526-4a71-b88b-d42f822472d8",
   "metadata": {},
   "outputs": [
    {
     "name": "stdout",
     "output_type": "stream",
     "text": [
      "Files count is equal to tables count. The count is 8\n"
     ]
    }
   ],
   "source": [
    "# проверяем количество файлов с очищенными данными и количество созданных таблиц в БД\n",
    "\n",
    "cleaned_and_tables_count(engine)"
   ]
  }
 ],
 "metadata": {
  "jupytext": {
   "formats": "notebooks//ipynb,scripts//py:percent"
  },
  "kernelspec": {
   "display_name": "antifraud-simulator-2BSHYcN--py3.12",
   "language": "python",
   "name": "python3"
  },
  "language_info": {
   "codemirror_mode": {
    "name": "ipython",
    "version": 3
   },
   "file_extension": ".py",
   "mimetype": "text/x-python",
   "name": "python",
   "nbconvert_exporter": "python",
   "pygments_lexer": "ipython3",
   "version": "3.12.7"
  }
 },
 "nbformat": 4,
 "nbformat_minor": 5
}
