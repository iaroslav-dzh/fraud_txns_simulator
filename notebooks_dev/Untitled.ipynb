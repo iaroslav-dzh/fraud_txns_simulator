{
 "cells": [
  {
   "cell_type": "code",
   "execution_count": 1,
   "id": "ffea4ed8-1dd0-4d02-bda8-3d85536ee43d",
   "metadata": {},
   "outputs": [],
   "source": [
    "import os\n",
    "import pandas as pd\n",
    "import geopandas as gpd\n",
    "from scipy.stats import truncnorm, norm"
   ]
  },
  {
   "cell_type": "code",
   "execution_count": 2,
   "id": "4e284a1a-efdf-46ee-8d1c-9698132bd278",
   "metadata": {},
   "outputs": [],
   "source": [
    "os.chdir(\"..\")"
   ]
  },
  {
   "cell_type": "code",
   "execution_count": 3,
   "id": "d81b964e-6195-463e-9249-c903c0ce7322",
   "metadata": {},
   "outputs": [
    {
     "data": {
      "text/html": [
       "<div>\n",
       "<style scoped>\n",
       "    .dataframe tbody tr th:only-of-type {\n",
       "        vertical-align: middle;\n",
       "    }\n",
       "\n",
       "    .dataframe tbody tr th {\n",
       "        vertical-align: top;\n",
       "    }\n",
       "\n",
       "    .dataframe thead th {\n",
       "        text-align: right;\n",
       "    }\n",
       "</style>\n",
       "<table border=\"1\" class=\"dataframe\">\n",
       "  <thead>\n",
       "    <tr style=\"text-align: right;\">\n",
       "      <th></th>\n",
       "      <th>client_id</th>\n",
       "      <th>txn_time</th>\n",
       "      <th>unix_time</th>\n",
       "      <th>amount</th>\n",
       "      <th>type</th>\n",
       "      <th>channel</th>\n",
       "      <th>category</th>\n",
       "      <th>online</th>\n",
       "      <th>merchant_id</th>\n",
       "      <th>trans_city</th>\n",
       "      <th>trans_lat</th>\n",
       "      <th>trans_lon</th>\n",
       "      <th>trans_ip</th>\n",
       "      <th>device_id</th>\n",
       "      <th>account</th>\n",
       "      <th>is_fraud</th>\n",
       "      <th>is_suspicious</th>\n",
       "      <th>status</th>\n",
       "      <th>rule</th>\n",
       "    </tr>\n",
       "  </thead>\n",
       "  <tbody>\n",
       "    <tr>\n",
       "      <th>0</th>\n",
       "      <td>3135</td>\n",
       "      <td>2025-01-01 00:01:00</td>\n",
       "      <td>1735689660</td>\n",
       "      <td>410.00</td>\n",
       "      <td>purchase</td>\n",
       "      <td>ecom</td>\n",
       "      <td>misc_net</td>\n",
       "      <td>True</td>\n",
       "      <td>6944.0</td>\n",
       "      <td>Кемерово</td>\n",
       "      <td>55.390972</td>\n",
       "      <td>86.046786</td>\n",
       "      <td>2.60.11.155</td>\n",
       "      <td>5322.0</td>\n",
       "      <td>NaN</td>\n",
       "      <td>False</td>\n",
       "      <td>False</td>\n",
       "      <td>approved</td>\n",
       "      <td>not applicable</td>\n",
       "    </tr>\n",
       "    <tr>\n",
       "      <th>1</th>\n",
       "      <td>11034</td>\n",
       "      <td>2025-01-01 00:02:00</td>\n",
       "      <td>1735689720</td>\n",
       "      <td>2404.68</td>\n",
       "      <td>purchase</td>\n",
       "      <td>ecom</td>\n",
       "      <td>misc_net</td>\n",
       "      <td>True</td>\n",
       "      <td>6885.0</td>\n",
       "      <td>Москва</td>\n",
       "      <td>55.753879</td>\n",
       "      <td>37.620373</td>\n",
       "      <td>2.60.20.15</td>\n",
       "      <td>9247.0</td>\n",
       "      <td>NaN</td>\n",
       "      <td>False</td>\n",
       "      <td>False</td>\n",
       "      <td>approved</td>\n",
       "      <td>not applicable</td>\n",
       "    </tr>\n",
       "  </tbody>\n",
       "</table>\n",
       "</div>"
      ],
      "text/plain": [
       "   client_id            txn_time   unix_time   amount      type channel  \\\n",
       "0       3135 2025-01-01 00:01:00  1735689660   410.00  purchase    ecom   \n",
       "1      11034 2025-01-01 00:02:00  1735689720  2404.68  purchase    ecom   \n",
       "\n",
       "   category  online  merchant_id trans_city  trans_lat  trans_lon  \\\n",
       "0  misc_net    True       6944.0   Кемерово  55.390972  86.046786   \n",
       "1  misc_net    True       6885.0     Москва  55.753879  37.620373   \n",
       "\n",
       "      trans_ip  device_id  account  is_fraud  is_suspicious    status  \\\n",
       "0  2.60.11.155     5322.0      NaN     False          False  approved   \n",
       "1   2.60.20.15     9247.0      NaN     False          False  approved   \n",
       "\n",
       "             rule  \n",
       "0  not applicable  \n",
       "1  not applicable  "
      ]
     },
     "execution_count": 3,
     "metadata": {},
     "output_type": "execute_result"
    }
   ],
   "source": [
    "mill_txns = pd.read_parquet(r\".\\data\\generated\\1M_txns_run\\parq_files\\all_txns.parquet\", engine=\"pyarrow\")\n",
    "mill_txns.head(2)"
   ]
  },
  {
   "cell_type": "code",
   "execution_count": 7,
   "id": "926c9b49-f441-41e2-afb9-a7702d9f8b86",
   "metadata": {},
   "outputs": [
    {
     "data": {
      "text/html": [
       "<div>\n",
       "<style scoped>\n",
       "    .dataframe tbody tr th:only-of-type {\n",
       "        vertical-align: middle;\n",
       "    }\n",
       "\n",
       "    .dataframe tbody tr th {\n",
       "        vertical-align: top;\n",
       "    }\n",
       "\n",
       "    .dataframe thead th {\n",
       "        text-align: right;\n",
       "    }\n",
       "</style>\n",
       "<table border=\"1\" class=\"dataframe\">\n",
       "  <thead>\n",
       "    <tr style=\"text-align: right;\">\n",
       "      <th></th>\n",
       "      <th>txn_id</th>\n",
       "      <th>client_id</th>\n",
       "      <th>txn_time</th>\n",
       "      <th>unix_time</th>\n",
       "      <th>amount</th>\n",
       "      <th>type</th>\n",
       "      <th>channel</th>\n",
       "      <th>category</th>\n",
       "      <th>online</th>\n",
       "      <th>merchant_id</th>\n",
       "      <th>trans_city</th>\n",
       "      <th>trans_lat</th>\n",
       "      <th>trans_lon</th>\n",
       "      <th>trans_ip</th>\n",
       "      <th>device_id</th>\n",
       "      <th>account</th>\n",
       "      <th>is_fraud</th>\n",
       "      <th>is_suspicious</th>\n",
       "      <th>status</th>\n",
       "      <th>rule</th>\n",
       "    </tr>\n",
       "  </thead>\n",
       "  <tbody>\n",
       "    <tr>\n",
       "      <th>0</th>\n",
       "      <td>1</td>\n",
       "      <td>3135</td>\n",
       "      <td>2025-01-01 00:01:00</td>\n",
       "      <td>1735689660</td>\n",
       "      <td>410.00</td>\n",
       "      <td>purchase</td>\n",
       "      <td>ecom</td>\n",
       "      <td>misc_net</td>\n",
       "      <td>True</td>\n",
       "      <td>6944.0</td>\n",
       "      <td>Кемерово</td>\n",
       "      <td>55.390972</td>\n",
       "      <td>86.046786</td>\n",
       "      <td>2.60.11.155</td>\n",
       "      <td>5322.0</td>\n",
       "      <td>NaN</td>\n",
       "      <td>False</td>\n",
       "      <td>False</td>\n",
       "      <td>approved</td>\n",
       "      <td>not applicable</td>\n",
       "    </tr>\n",
       "    <tr>\n",
       "      <th>1</th>\n",
       "      <td>2</td>\n",
       "      <td>11034</td>\n",
       "      <td>2025-01-01 00:02:00</td>\n",
       "      <td>1735689720</td>\n",
       "      <td>2404.68</td>\n",
       "      <td>purchase</td>\n",
       "      <td>ecom</td>\n",
       "      <td>misc_net</td>\n",
       "      <td>True</td>\n",
       "      <td>6885.0</td>\n",
       "      <td>Москва</td>\n",
       "      <td>55.753879</td>\n",
       "      <td>37.620373</td>\n",
       "      <td>2.60.20.15</td>\n",
       "      <td>9247.0</td>\n",
       "      <td>NaN</td>\n",
       "      <td>False</td>\n",
       "      <td>False</td>\n",
       "      <td>approved</td>\n",
       "      <td>not applicable</td>\n",
       "    </tr>\n",
       "    <tr>\n",
       "      <th>2</th>\n",
       "      <td>4</td>\n",
       "      <td>9833</td>\n",
       "      <td>2025-01-01 00:05:00</td>\n",
       "      <td>1735689900</td>\n",
       "      <td>1100.00</td>\n",
       "      <td>purchase</td>\n",
       "      <td>ecom</td>\n",
       "      <td>grocery_net</td>\n",
       "      <td>True</td>\n",
       "      <td>6886.0</td>\n",
       "      <td>Махачкала</td>\n",
       "      <td>42.984857</td>\n",
       "      <td>47.504630</td>\n",
       "      <td>2.60.19.182</td>\n",
       "      <td>9092.0</td>\n",
       "      <td>NaN</td>\n",
       "      <td>False</td>\n",
       "      <td>False</td>\n",
       "      <td>approved</td>\n",
       "      <td>not applicable</td>\n",
       "    </tr>\n",
       "    <tr>\n",
       "      <th>3</th>\n",
       "      <td>5</td>\n",
       "      <td>4025</td>\n",
       "      <td>2025-01-01 00:05:00</td>\n",
       "      <td>1735689900</td>\n",
       "      <td>1200.00</td>\n",
       "      <td>purchase</td>\n",
       "      <td>ecom</td>\n",
       "      <td>grocery_net</td>\n",
       "      <td>True</td>\n",
       "      <td>6805.0</td>\n",
       "      <td>Ижевск</td>\n",
       "      <td>56.852744</td>\n",
       "      <td>53.211396</td>\n",
       "      <td>2.60.14.228</td>\n",
       "      <td>6846.0</td>\n",
       "      <td>NaN</td>\n",
       "      <td>False</td>\n",
       "      <td>False</td>\n",
       "      <td>approved</td>\n",
       "      <td>not applicable</td>\n",
       "    </tr>\n",
       "    <tr>\n",
       "      <th>4</th>\n",
       "      <td>3</td>\n",
       "      <td>700</td>\n",
       "      <td>2025-01-01 00:05:00</td>\n",
       "      <td>1735689900</td>\n",
       "      <td>2143.25</td>\n",
       "      <td>purchase</td>\n",
       "      <td>ecom</td>\n",
       "      <td>shopping_net</td>\n",
       "      <td>True</td>\n",
       "      <td>6850.0</td>\n",
       "      <td>Петрозаводск</td>\n",
       "      <td>61.789090</td>\n",
       "      <td>34.359626</td>\n",
       "      <td>2.60.2.157</td>\n",
       "      <td>1174.0</td>\n",
       "      <td>NaN</td>\n",
       "      <td>False</td>\n",
       "      <td>False</td>\n",
       "      <td>approved</td>\n",
       "      <td>not applicable</td>\n",
       "    </tr>\n",
       "  </tbody>\n",
       "</table>\n",
       "</div>"
      ],
      "text/plain": [
       "   txn_id  client_id            txn_time   unix_time   amount      type  \\\n",
       "0       1       3135 2025-01-01 00:01:00  1735689660   410.00  purchase   \n",
       "1       2      11034 2025-01-01 00:02:00  1735689720  2404.68  purchase   \n",
       "2       4       9833 2025-01-01 00:05:00  1735689900  1100.00  purchase   \n",
       "3       5       4025 2025-01-01 00:05:00  1735689900  1200.00  purchase   \n",
       "4       3        700 2025-01-01 00:05:00  1735689900  2143.25  purchase   \n",
       "\n",
       "  channel      category  online  merchant_id    trans_city  trans_lat  \\\n",
       "0    ecom      misc_net    True       6944.0      Кемерово  55.390972   \n",
       "1    ecom      misc_net    True       6885.0        Москва  55.753879   \n",
       "2    ecom   grocery_net    True       6886.0     Махачкала  42.984857   \n",
       "3    ecom   grocery_net    True       6805.0        Ижевск  56.852744   \n",
       "4    ecom  shopping_net    True       6850.0  Петрозаводск  61.789090   \n",
       "\n",
       "   trans_lon     trans_ip  device_id  account  is_fraud  is_suspicious  \\\n",
       "0  86.046786  2.60.11.155     5322.0      NaN     False          False   \n",
       "1  37.620373   2.60.20.15     9247.0      NaN     False          False   \n",
       "2  47.504630  2.60.19.182     9092.0      NaN     False          False   \n",
       "3  53.211396  2.60.14.228     6846.0      NaN     False          False   \n",
       "4  34.359626   2.60.2.157     1174.0      NaN     False          False   \n",
       "\n",
       "     status            rule  \n",
       "0  approved  not applicable  \n",
       "1  approved  not applicable  \n",
       "2  approved  not applicable  \n",
       "3  approved  not applicable  \n",
       "4  approved  not applicable  "
      ]
     },
     "execution_count": 7,
     "metadata": {},
     "output_type": "execute_result"
    }
   ],
   "source": [
    "mill_txns = mill_txns.reset_index().rename(columns={\"index\":\"txn_id\"})\n",
    "mill_txns[\"txn_id\"] += 1\n",
    "mill_txns.head()"
   ]
  },
  {
   "cell_type": "code",
   "execution_count": 4,
   "id": "013eb9dc-eb74-44fe-a504-916b502d1937",
   "metadata": {},
   "outputs": [
    {
     "data": {
      "text/plain": [
       "(475387, 19)"
      ]
     },
     "execution_count": 4,
     "metadata": {},
     "output_type": "execute_result"
    }
   ],
   "source": [
    "mill_txns.shape"
   ]
  },
  {
   "cell_type": "code",
   "execution_count": 8,
   "id": "3522d07c-9c08-468a-bebf-16870237d2fe",
   "metadata": {},
   "outputs": [],
   "source": [
    "mill_txns.to_csv(r\".\\data\\generated\\1M_txns_run\\txns_475K.csv\", index=False)"
   ]
  },
  {
   "cell_type": "code",
   "execution_count": 3,
   "id": "29b0d797-3208-48d9-80ab-b1d83105f696",
   "metadata": {},
   "outputs": [
    {
     "data": {
      "text/html": [
       "<div>\n",
       "<style scoped>\n",
       "    .dataframe tbody tr th:only-of-type {\n",
       "        vertical-align: middle;\n",
       "    }\n",
       "\n",
       "    .dataframe tbody tr th {\n",
       "        vertical-align: top;\n",
       "    }\n",
       "\n",
       "    .dataframe thead th {\n",
       "        text-align: right;\n",
       "    }\n",
       "</style>\n",
       "<table border=\"1\" class=\"dataframe\">\n",
       "  <thead>\n",
       "    <tr style=\"text-align: right;\">\n",
       "      <th></th>\n",
       "      <th>txn_id</th>\n",
       "      <th>client_id</th>\n",
       "      <th>txn_time</th>\n",
       "      <th>unix_time</th>\n",
       "      <th>amount</th>\n",
       "      <th>type</th>\n",
       "      <th>channel</th>\n",
       "      <th>category</th>\n",
       "      <th>online</th>\n",
       "      <th>merchant_id</th>\n",
       "      <th>trans_city</th>\n",
       "      <th>trans_lat</th>\n",
       "      <th>trans_lon</th>\n",
       "      <th>trans_ip</th>\n",
       "      <th>device_id</th>\n",
       "      <th>account</th>\n",
       "      <th>is_fraud</th>\n",
       "      <th>is_suspicious</th>\n",
       "      <th>status</th>\n",
       "      <th>rule</th>\n",
       "    </tr>\n",
       "  </thead>\n",
       "  <tbody>\n",
       "    <tr>\n",
       "      <th>0</th>\n",
       "      <td>1</td>\n",
       "      <td>1514</td>\n",
       "      <td>2025-01-01 00:13:00</td>\n",
       "      <td>1735690380</td>\n",
       "      <td>1.00</td>\n",
       "      <td>purchase</td>\n",
       "      <td>ecom</td>\n",
       "      <td>shopping_net</td>\n",
       "      <td>True</td>\n",
       "      <td>6866.0</td>\n",
       "      <td>Самара</td>\n",
       "      <td>53.195166</td>\n",
       "      <td>50.106769</td>\n",
       "      <td>2.60.5.155</td>\n",
       "      <td>2552.0</td>\n",
       "      <td>NaN</td>\n",
       "      <td>False</td>\n",
       "      <td>False</td>\n",
       "      <td>approved</td>\n",
       "      <td>not applicable</td>\n",
       "    </tr>\n",
       "    <tr>\n",
       "      <th>1</th>\n",
       "      <td>2</td>\n",
       "      <td>399</td>\n",
       "      <td>2025-01-01 02:10:00</td>\n",
       "      <td>1735697400</td>\n",
       "      <td>929.02</td>\n",
       "      <td>purchase</td>\n",
       "      <td>ecom</td>\n",
       "      <td>grocery_net</td>\n",
       "      <td>True</td>\n",
       "      <td>6963.0</td>\n",
       "      <td>Курган</td>\n",
       "      <td>55.444345</td>\n",
       "      <td>65.316134</td>\n",
       "      <td>2.60.1.123</td>\n",
       "      <td>670.0</td>\n",
       "      <td>NaN</td>\n",
       "      <td>False</td>\n",
       "      <td>False</td>\n",
       "      <td>approved</td>\n",
       "      <td>not applicable</td>\n",
       "    </tr>\n",
       "  </tbody>\n",
       "</table>\n",
       "</div>"
      ],
      "text/plain": [
       "   txn_id  client_id            txn_time   unix_time  amount      type  \\\n",
       "0       1       1514 2025-01-01 00:13:00  1735690380    1.00  purchase   \n",
       "1       2        399 2025-01-01 02:10:00  1735697400  929.02  purchase   \n",
       "\n",
       "  channel      category  online  merchant_id trans_city  trans_lat  trans_lon  \\\n",
       "0    ecom  shopping_net    True       6866.0     Самара  53.195166  50.106769   \n",
       "1    ecom   grocery_net    True       6963.0     Курган  55.444345  65.316134   \n",
       "\n",
       "     trans_ip  device_id  account  is_fraud  is_suspicious    status  \\\n",
       "0  2.60.5.155     2552.0      NaN     False          False  approved   \n",
       "1  2.60.1.123      670.0      NaN     False          False  approved   \n",
       "\n",
       "             rule  \n",
       "0  not applicable  \n",
       "1  not applicable  "
      ]
     },
     "execution_count": 3,
     "metadata": {},
     "output_type": "execute_result"
    }
   ],
   "source": [
    "all_txns = pd.read_parquet(r\".\\data\\for_pbi\\not_csv\\all_txns.parquet\").reset_index().rename(columns={\"index\":\"txn_id\"})\n",
    "all_txns[\"txn_id\"] += 1\n",
    "all_txns.head(2)"
   ]
  },
  {
   "cell_type": "code",
   "execution_count": 6,
   "id": "f1b60fe5-bda3-4620-9e00-4c56bb47b40c",
   "metadata": {},
   "outputs": [
    {
     "data": {
      "text/plain": [
       "17176    581.18\n",
       "Name: amount, dtype: float64"
      ]
     },
     "execution_count": 6,
     "metadata": {},
     "output_type": "execute_result"
    }
   ],
   "source": [
    "all_txns_csv = pd.read_csv(r\".\\data\\for_pbi\\all_txns.csv\")\n",
    "all_txns_csv.query(\"txn_id == 16975\").loc[:, \"amount\"]"
   ]
  },
  {
   "cell_type": "code",
   "execution_count": 47,
   "id": "975d5df7-4d51-4d96-96dc-de8783ea14ca",
   "metadata": {},
   "outputs": [],
   "source": [
    "all_txns.to_csv(r\".\\data\\for_pbi\\all_txns.csv\", index=False)"
   ]
  },
  {
   "cell_type": "code",
   "execution_count": 13,
   "id": "9f2a1ca9-fbfe-4a60-8dab-21858b106de8",
   "metadata": {},
   "outputs": [
    {
     "data": {
      "text/html": [
       "<div>\n",
       "<style scoped>\n",
       "    .dataframe tbody tr th:only-of-type {\n",
       "        vertical-align: middle;\n",
       "    }\n",
       "\n",
       "    .dataframe tbody tr th {\n",
       "        vertical-align: top;\n",
       "    }\n",
       "\n",
       "    .dataframe thead th {\n",
       "        text-align: right;\n",
       "    }\n",
       "</style>\n",
       "<table border=\"1\" class=\"dataframe\">\n",
       "  <thead>\n",
       "    <tr style=\"text-align: right;\">\n",
       "      <th></th>\n",
       "      <th>region</th>\n",
       "      <th>city</th>\n",
       "      <th>timezone</th>\n",
       "      <th>lat</th>\n",
       "      <th>lon</th>\n",
       "      <th>population</th>\n",
       "      <th>city_id</th>\n",
       "    </tr>\n",
       "  </thead>\n",
       "  <tbody>\n",
       "    <tr>\n",
       "      <th>0</th>\n",
       "      <td>Москва</td>\n",
       "      <td>Москва</td>\n",
       "      <td>UTC+3</td>\n",
       "      <td>55.753879</td>\n",
       "      <td>37.620373</td>\n",
       "      <td>11514330</td>\n",
       "      <td>1</td>\n",
       "    </tr>\n",
       "    <tr>\n",
       "      <th>1</th>\n",
       "      <td>Санкт-Петербург</td>\n",
       "      <td>Санкт-Петербург</td>\n",
       "      <td>UTC+3</td>\n",
       "      <td>59.939125</td>\n",
       "      <td>30.315822</td>\n",
       "      <td>4848742</td>\n",
       "      <td>74</td>\n",
       "    </tr>\n",
       "  </tbody>\n",
       "</table>\n",
       "</div>"
      ],
      "text/plain": [
       "            region             city timezone        lat        lon  \\\n",
       "0           Москва           Москва    UTC+3  55.753879  37.620373   \n",
       "1  Санкт-Петербург  Санкт-Петербург    UTC+3  59.939125  30.315822   \n",
       "\n",
       "   population  city_id  \n",
       "0    11514330        1  \n",
       "1     4848742       74  "
      ]
     },
     "execution_count": 13,
     "metadata": {},
     "output_type": "execute_result"
    }
   ],
   "source": [
    "cities = gpd.read_file(r\".\\data\\for_pbi\\not_csv\\cities.gpkg\").drop(columns=\"geometry\")\n",
    "cities.head(2)"
   ]
  },
  {
   "cell_type": "code",
   "execution_count": 14,
   "id": "253b6cc4-191a-4dc3-8876-e0a243e20ea5",
   "metadata": {},
   "outputs": [
    {
     "data": {
      "text/plain": [
       "Index(['region', 'city', 'timezone', 'lat', 'lon', 'population', 'city_id'], dtype='object')"
      ]
     },
     "execution_count": 14,
     "metadata": {},
     "output_type": "execute_result"
    }
   ],
   "source": [
    "cities.columns"
   ]
  },
  {
   "cell_type": "code",
   "execution_count": 15,
   "id": "9af2f9d1-8a15-4139-a982-d2d6f4387100",
   "metadata": {},
   "outputs": [
    {
     "data": {
      "text/html": [
       "<div>\n",
       "<style scoped>\n",
       "    .dataframe tbody tr th:only-of-type {\n",
       "        vertical-align: middle;\n",
       "    }\n",
       "\n",
       "    .dataframe tbody tr th {\n",
       "        vertical-align: top;\n",
       "    }\n",
       "\n",
       "    .dataframe thead th {\n",
       "        text-align: right;\n",
       "    }\n",
       "</style>\n",
       "<table border=\"1\" class=\"dataframe\">\n",
       "  <thead>\n",
       "    <tr style=\"text-align: right;\">\n",
       "      <th></th>\n",
       "      <th>city_id</th>\n",
       "      <th>region</th>\n",
       "      <th>city</th>\n",
       "      <th>timezone</th>\n",
       "      <th>lat</th>\n",
       "      <th>lon</th>\n",
       "      <th>population</th>\n",
       "    </tr>\n",
       "  </thead>\n",
       "  <tbody>\n",
       "    <tr>\n",
       "      <th>0</th>\n",
       "      <td>1</td>\n",
       "      <td>Москва</td>\n",
       "      <td>Москва</td>\n",
       "      <td>UTC+3</td>\n",
       "      <td>55.753879</td>\n",
       "      <td>37.620373</td>\n",
       "      <td>11514330</td>\n",
       "    </tr>\n",
       "  </tbody>\n",
       "</table>\n",
       "</div>"
      ],
      "text/plain": [
       "   city_id  region    city timezone        lat        lon  population\n",
       "0        1  Москва  Москва    UTC+3  55.753879  37.620373    11514330"
      ]
     },
     "execution_count": 15,
     "metadata": {},
     "output_type": "execute_result"
    }
   ],
   "source": [
    "cities = cities[['city_id','region', 'city', 'timezone', 'lat', 'lon', 'population']]\n",
    "cities.head(1)"
   ]
  },
  {
   "cell_type": "code",
   "execution_count": 30,
   "id": "d087a2c0-a44b-4da7-81c1-fcdbcb9f421b",
   "metadata": {},
   "outputs": [
    {
     "data": {
      "text/html": [
       "<div>\n",
       "<style scoped>\n",
       "    .dataframe tbody tr th:only-of-type {\n",
       "        vertical-align: middle;\n",
       "    }\n",
       "\n",
       "    .dataframe tbody tr th {\n",
       "        vertical-align: top;\n",
       "    }\n",
       "\n",
       "    .dataframe thead th {\n",
       "        text-align: right;\n",
       "    }\n",
       "</style>\n",
       "<table border=\"1\" class=\"dataframe\">\n",
       "  <thead>\n",
       "    <tr style=\"text-align: right;\">\n",
       "      <th></th>\n",
       "      <th>city</th>\n",
       "      <th>city_id</th>\n",
       "      <th>category</th>\n",
       "      <th>merchant_id</th>\n",
       "      <th>merchant_lat</th>\n",
       "      <th>merchant_lon</th>\n",
       "    </tr>\n",
       "  </thead>\n",
       "  <tbody>\n",
       "    <tr>\n",
       "      <th>0</th>\n",
       "      <td>Москва</td>\n",
       "      <td>1</td>\n",
       "      <td>gas_transport</td>\n",
       "      <td>1</td>\n",
       "      <td>55.711178</td>\n",
       "      <td>37.863932</td>\n",
       "    </tr>\n",
       "  </tbody>\n",
       "</table>\n",
       "</div>"
      ],
      "text/plain": [
       "     city  city_id       category  merchant_id  merchant_lat  merchant_lon\n",
       "0  Москва        1  gas_transport            1     55.711178     37.863932"
      ]
     },
     "execution_count": 30,
     "metadata": {},
     "output_type": "execute_result"
    }
   ],
   "source": [
    "offline_merchants_points = pd.read_parquet(r\".\\data\\for_pbi\\not_csv\\offline_merchants_points.parquet\") \\\n",
    "                             .astype({\"merchant_id\":\"int\"})\n",
    "offline_merchants_points.head(1)"
   ]
  },
  {
   "cell_type": "code",
   "execution_count": 31,
   "id": "b6967c90-4e6a-48da-8464-df6bc60ee887",
   "metadata": {},
   "outputs": [
    {
     "data": {
      "text/plain": [
       "Index(['city', 'city_id', 'category', 'merchant_id', 'merchant_lat',\n",
       "       'merchant_lon'],\n",
       "      dtype='object')"
      ]
     },
     "execution_count": 31,
     "metadata": {},
     "output_type": "execute_result"
    }
   ],
   "source": [
    "offline_merchants_points.columns"
   ]
  },
  {
   "cell_type": "code",
   "execution_count": 32,
   "id": "3594fc5b-acd6-4ff5-8487-0f6a0b9278a9",
   "metadata": {},
   "outputs": [
    {
     "data": {
      "text/html": [
       "<div>\n",
       "<style scoped>\n",
       "    .dataframe tbody tr th:only-of-type {\n",
       "        vertical-align: middle;\n",
       "    }\n",
       "\n",
       "    .dataframe tbody tr th {\n",
       "        vertical-align: top;\n",
       "    }\n",
       "\n",
       "    .dataframe thead th {\n",
       "        text-align: right;\n",
       "    }\n",
       "</style>\n",
       "<table border=\"1\" class=\"dataframe\">\n",
       "  <thead>\n",
       "    <tr style=\"text-align: right;\">\n",
       "      <th></th>\n",
       "      <th>merchant_id</th>\n",
       "      <th>city</th>\n",
       "      <th>city_id</th>\n",
       "      <th>category</th>\n",
       "      <th>merchant_lat</th>\n",
       "      <th>merchant_lon</th>\n",
       "    </tr>\n",
       "  </thead>\n",
       "  <tbody>\n",
       "    <tr>\n",
       "      <th>0</th>\n",
       "      <td>1</td>\n",
       "      <td>Москва</td>\n",
       "      <td>1</td>\n",
       "      <td>gas_transport</td>\n",
       "      <td>55.711178</td>\n",
       "      <td>37.863932</td>\n",
       "    </tr>\n",
       "    <tr>\n",
       "      <th>1</th>\n",
       "      <td>2</td>\n",
       "      <td>Москва</td>\n",
       "      <td>1</td>\n",
       "      <td>grocery_pos</td>\n",
       "      <td>55.896746</td>\n",
       "      <td>37.370257</td>\n",
       "    </tr>\n",
       "  </tbody>\n",
       "</table>\n",
       "</div>"
      ],
      "text/plain": [
       "   merchant_id    city  city_id       category  merchant_lat  merchant_lon\n",
       "0            1  Москва        1  gas_transport     55.711178     37.863932\n",
       "1            2  Москва        1    grocery_pos     55.896746     37.370257"
      ]
     },
     "execution_count": 32,
     "metadata": {},
     "output_type": "execute_result"
    }
   ],
   "source": [
    "offline_merchants_points = offline_merchants_points[['merchant_id', 'city', 'city_id', 'category', 'merchant_lat',\n",
    "       'merchant_lon']]\n",
    "offline_merchants_points.head(2)"
   ]
  },
  {
   "cell_type": "code",
   "execution_count": 33,
   "id": "3f380641-33f6-428a-af8d-6b45a1759245",
   "metadata": {},
   "outputs": [],
   "source": [
    "offline_merchants_points.to_csv(r\".\\data\\for_pbi\\offline_merchants_points.csv\", index=False, date_format=\"%Y-%m-%d\")"
   ]
  },
  {
   "cell_type": "code",
   "execution_count": 34,
   "id": "3e5511df-d61f-448a-bf00-33db287eb685",
   "metadata": {},
   "outputs": [
    {
     "data": {
      "text/html": [
       "<div>\n",
       "<style scoped>\n",
       "    .dataframe tbody tr th:only-of-type {\n",
       "        vertical-align: middle;\n",
       "    }\n",
       "\n",
       "    .dataframe tbody tr th {\n",
       "        vertical-align: top;\n",
       "    }\n",
       "\n",
       "    .dataframe thead th {\n",
       "        text-align: right;\n",
       "    }\n",
       "</style>\n",
       "<table border=\"1\" class=\"dataframe\">\n",
       "  <thead>\n",
       "    <tr style=\"text-align: right;\">\n",
       "      <th></th>\n",
       "      <th>merchant_id</th>\n",
       "      <th>city</th>\n",
       "      <th>city_id</th>\n",
       "      <th>category</th>\n",
       "      <th>merchant_lat</th>\n",
       "      <th>merchant_lon</th>\n",
       "    </tr>\n",
       "  </thead>\n",
       "  <tbody>\n",
       "    <tr>\n",
       "      <th>0</th>\n",
       "      <td>1</td>\n",
       "      <td>Москва</td>\n",
       "      <td>1</td>\n",
       "      <td>gas_transport</td>\n",
       "      <td>55.711178</td>\n",
       "      <td>37.863932</td>\n",
       "    </tr>\n",
       "    <tr>\n",
       "      <th>1</th>\n",
       "      <td>2</td>\n",
       "      <td>Москва</td>\n",
       "      <td>1</td>\n",
       "      <td>grocery_pos</td>\n",
       "      <td>55.896746</td>\n",
       "      <td>37.370257</td>\n",
       "    </tr>\n",
       "    <tr>\n",
       "      <th>2</th>\n",
       "      <td>3</td>\n",
       "      <td>Москва</td>\n",
       "      <td>1</td>\n",
       "      <td>home</td>\n",
       "      <td>55.797594</td>\n",
       "      <td>37.382283</td>\n",
       "    </tr>\n",
       "    <tr>\n",
       "      <th>3</th>\n",
       "      <td>4</td>\n",
       "      <td>Москва</td>\n",
       "      <td>1</td>\n",
       "      <td>shopping_pos</td>\n",
       "      <td>55.723753</td>\n",
       "      <td>37.654267</td>\n",
       "    </tr>\n",
       "    <tr>\n",
       "      <th>4</th>\n",
       "      <td>5</td>\n",
       "      <td>Москва</td>\n",
       "      <td>1</td>\n",
       "      <td>kids_pets</td>\n",
       "      <td>55.907808</td>\n",
       "      <td>37.542508</td>\n",
       "    </tr>\n",
       "    <tr>\n",
       "      <th>...</th>\n",
       "      <td>...</td>\n",
       "      <td>...</td>\n",
       "      <td>...</td>\n",
       "      <td>...</td>\n",
       "      <td>...</td>\n",
       "      <td>...</td>\n",
       "    </tr>\n",
       "    <tr>\n",
       "      <th>6771</th>\n",
       "      <td>6772</td>\n",
       "      <td>Братск</td>\n",
       "      <td>20</td>\n",
       "      <td>personal_care</td>\n",
       "      <td>56.261769</td>\n",
       "      <td>101.949020</td>\n",
       "    </tr>\n",
       "    <tr>\n",
       "      <th>6772</th>\n",
       "      <td>6773</td>\n",
       "      <td>Братск</td>\n",
       "      <td>20</td>\n",
       "      <td>food_dining</td>\n",
       "      <td>56.054816</td>\n",
       "      <td>101.711361</td>\n",
       "    </tr>\n",
       "    <tr>\n",
       "      <th>6773</th>\n",
       "      <td>6774</td>\n",
       "      <td>Братск</td>\n",
       "      <td>20</td>\n",
       "      <td>health_fitness</td>\n",
       "      <td>56.159989</td>\n",
       "      <td>101.626347</td>\n",
       "    </tr>\n",
       "    <tr>\n",
       "      <th>6774</th>\n",
       "      <td>6775</td>\n",
       "      <td>Братск</td>\n",
       "      <td>20</td>\n",
       "      <td>misc_pos</td>\n",
       "      <td>56.246075</td>\n",
       "      <td>101.833742</td>\n",
       "    </tr>\n",
       "    <tr>\n",
       "      <th>6775</th>\n",
       "      <td>6776</td>\n",
       "      <td>Братск</td>\n",
       "      <td>20</td>\n",
       "      <td>travel</td>\n",
       "      <td>56.211508</td>\n",
       "      <td>101.831085</td>\n",
       "    </tr>\n",
       "  </tbody>\n",
       "</table>\n",
       "<p>6776 rows × 6 columns</p>\n",
       "</div>"
      ],
      "text/plain": [
       "      merchant_id    city  city_id        category  merchant_lat  merchant_lon\n",
       "0               1  Москва        1   gas_transport     55.711178     37.863932\n",
       "1               2  Москва        1     grocery_pos     55.896746     37.370257\n",
       "2               3  Москва        1            home     55.797594     37.382283\n",
       "3               4  Москва        1    shopping_pos     55.723753     37.654267\n",
       "4               5  Москва        1       kids_pets     55.907808     37.542508\n",
       "...           ...     ...      ...             ...           ...           ...\n",
       "6771         6772  Братск       20   personal_care     56.261769    101.949020\n",
       "6772         6773  Братск       20     food_dining     56.054816    101.711361\n",
       "6773         6774  Братск       20  health_fitness     56.159989    101.626347\n",
       "6774         6775  Братск       20        misc_pos     56.246075    101.833742\n",
       "6775         6776  Братск       20          travel     56.211508    101.831085\n",
       "\n",
       "[6776 rows x 6 columns]"
      ]
     },
     "execution_count": 34,
     "metadata": {},
     "output_type": "execute_result"
    }
   ],
   "source": [
    "pd.read_csv(r\".\\data\\for_pbi\\offline_merchants_points.csv\")"
   ]
  },
  {
   "cell_type": "code",
   "execution_count": 37,
   "id": "9abaae09-d188-40c4-97af-a43cfdfb0408",
   "metadata": {},
   "outputs": [],
   "source": [
    "from data_generator.utils import calc_distance"
   ]
  },
  {
   "cell_type": "code",
   "execution_count": 38,
   "id": "3fd1e225-49e8-4a7d-bdb8-2a61de103a6d",
   "metadata": {},
   "outputs": [
    {
     "data": {
      "text/html": [
       "<div>\n",
       "<style scoped>\n",
       "    .dataframe tbody tr th:only-of-type {\n",
       "        vertical-align: middle;\n",
       "    }\n",
       "\n",
       "    .dataframe tbody tr th {\n",
       "        vertical-align: top;\n",
       "    }\n",
       "\n",
       "    .dataframe thead th {\n",
       "        text-align: right;\n",
       "    }\n",
       "</style>\n",
       "<table border=\"1\" class=\"dataframe\">\n",
       "  <thead>\n",
       "    <tr style=\"text-align: right;\">\n",
       "      <th></th>\n",
       "      <th>client_id</th>\n",
       "      <th>birth_date</th>\n",
       "      <th>sex</th>\n",
       "      <th>region</th>\n",
       "      <th>city</th>\n",
       "      <th>lat</th>\n",
       "      <th>lon</th>\n",
       "      <th>city_id</th>\n",
       "      <th>home_ip</th>\n",
       "    </tr>\n",
       "  </thead>\n",
       "  <tbody>\n",
       "    <tr>\n",
       "      <th>0</th>\n",
       "      <td>1</td>\n",
       "      <td>1995-12-07</td>\n",
       "      <td>female</td>\n",
       "      <td>Рязанская</td>\n",
       "      <td>Рязань</td>\n",
       "      <td>54.625457</td>\n",
       "      <td>39.735999</td>\n",
       "      <td>18</td>\n",
       "      <td>2.60.0.1</td>\n",
       "    </tr>\n",
       "    <tr>\n",
       "      <th>1</th>\n",
       "      <td>2</td>\n",
       "      <td>1970-01-29</td>\n",
       "      <td>male</td>\n",
       "      <td>Москва</td>\n",
       "      <td>Москва</td>\n",
       "      <td>55.753879</td>\n",
       "      <td>37.620373</td>\n",
       "      <td>1</td>\n",
       "      <td>2.60.0.2</td>\n",
       "    </tr>\n",
       "  </tbody>\n",
       "</table>\n",
       "</div>"
      ],
      "text/plain": [
       "   client_id birth_date     sex     region    city        lat        lon  \\\n",
       "0          1 1995-12-07  female  Рязанская  Рязань  54.625457  39.735999   \n",
       "1          2 1970-01-29    male     Москва  Москва  55.753879  37.620373   \n",
       "\n",
       "   city_id   home_ip  \n",
       "0       18  2.60.0.1  \n",
       "1        1  2.60.0.2  "
      ]
     },
     "execution_count": 38,
     "metadata": {},
     "output_type": "execute_result"
    }
   ],
   "source": [
    "clients = pd.read_parquet(r\".\\data\\for_pbi\\not_csv\\clients.parquet\")\n",
    "clients.head(2)"
   ]
  },
  {
   "cell_type": "code",
   "execution_count": 98,
   "id": "2fa7694c-0aaf-4f05-bf62-a1d2fb039dee",
   "metadata": {},
   "outputs": [
    {
     "data": {
      "text/html": [
       "<div>\n",
       "<style scoped>\n",
       "    .dataframe tbody tr th:only-of-type {\n",
       "        vertical-align: middle;\n",
       "    }\n",
       "\n",
       "    .dataframe tbody tr th {\n",
       "        vertical-align: top;\n",
       "    }\n",
       "\n",
       "    .dataframe thead th {\n",
       "        text-align: right;\n",
       "    }\n",
       "</style>\n",
       "<table border=\"1\" class=\"dataframe\">\n",
       "  <thead>\n",
       "    <tr style=\"text-align: right;\">\n",
       "      <th></th>\n",
       "      <th>txn_id</th>\n",
       "      <th>client_id</th>\n",
       "      <th>txn_time</th>\n",
       "      <th>unix_time</th>\n",
       "      <th>amount</th>\n",
       "      <th>type</th>\n",
       "      <th>channel</th>\n",
       "      <th>category</th>\n",
       "      <th>online</th>\n",
       "      <th>merchant_id</th>\n",
       "      <th>...</th>\n",
       "      <th>trans_ip</th>\n",
       "      <th>device_id</th>\n",
       "      <th>account</th>\n",
       "      <th>is_fraud</th>\n",
       "      <th>is_suspicious</th>\n",
       "      <th>status</th>\n",
       "      <th>rule</th>\n",
       "      <th>city</th>\n",
       "      <th>lat</th>\n",
       "      <th>lon</th>\n",
       "    </tr>\n",
       "  </thead>\n",
       "  <tbody>\n",
       "    <tr>\n",
       "      <th>0</th>\n",
       "      <td>1</td>\n",
       "      <td>1514</td>\n",
       "      <td>2025-01-01 00:13:00</td>\n",
       "      <td>1735690380</td>\n",
       "      <td>1.00</td>\n",
       "      <td>purchase</td>\n",
       "      <td>ecom</td>\n",
       "      <td>shopping_net</td>\n",
       "      <td>True</td>\n",
       "      <td>6866.0</td>\n",
       "      <td>...</td>\n",
       "      <td>2.60.5.155</td>\n",
       "      <td>2552.0</td>\n",
       "      <td>NaN</td>\n",
       "      <td>False</td>\n",
       "      <td>False</td>\n",
       "      <td>approved</td>\n",
       "      <td>not applicable</td>\n",
       "      <td>Самара</td>\n",
       "      <td>53.195166</td>\n",
       "      <td>50.106769</td>\n",
       "    </tr>\n",
       "    <tr>\n",
       "      <th>1</th>\n",
       "      <td>2</td>\n",
       "      <td>399</td>\n",
       "      <td>2025-01-01 02:10:00</td>\n",
       "      <td>1735697400</td>\n",
       "      <td>929.02</td>\n",
       "      <td>purchase</td>\n",
       "      <td>ecom</td>\n",
       "      <td>grocery_net</td>\n",
       "      <td>True</td>\n",
       "      <td>6963.0</td>\n",
       "      <td>...</td>\n",
       "      <td>2.60.1.123</td>\n",
       "      <td>670.0</td>\n",
       "      <td>NaN</td>\n",
       "      <td>False</td>\n",
       "      <td>False</td>\n",
       "      <td>approved</td>\n",
       "      <td>not applicable</td>\n",
       "      <td>Курган</td>\n",
       "      <td>55.444345</td>\n",
       "      <td>65.316134</td>\n",
       "    </tr>\n",
       "  </tbody>\n",
       "</table>\n",
       "<p>2 rows × 23 columns</p>\n",
       "</div>"
      ],
      "text/plain": [
       "   txn_id  client_id            txn_time   unix_time  amount      type  \\\n",
       "0       1       1514 2025-01-01 00:13:00  1735690380    1.00  purchase   \n",
       "1       2        399 2025-01-01 02:10:00  1735697400  929.02  purchase   \n",
       "\n",
       "  channel      category  online  merchant_id  ...    trans_ip  device_id  \\\n",
       "0    ecom  shopping_net    True       6866.0  ...  2.60.5.155     2552.0   \n",
       "1    ecom   grocery_net    True       6963.0  ...  2.60.1.123      670.0   \n",
       "\n",
       "   account is_fraud  is_suspicious    status            rule    city  \\\n",
       "0      NaN    False          False  approved  not applicable  Самара   \n",
       "1      NaN    False          False  approved  not applicable  Курган   \n",
       "\n",
       "         lat        lon  \n",
       "0  53.195166  50.106769  \n",
       "1  55.444345  65.316134  \n",
       "\n",
       "[2 rows x 23 columns]"
      ]
     },
     "execution_count": 98,
     "metadata": {},
     "output_type": "execute_result"
    }
   ],
   "source": [
    "txns_merged = all_txns.merge(clients[[\"client_id\", \"city\", \"lat\", \"lon\"]], on=\"client_id\")\n",
    "txns_merged.head(2)"
   ]
  },
  {
   "cell_type": "code",
   "execution_count": 99,
   "id": "d7535071-e507-404b-893c-02917cc1f7e6",
   "metadata": {},
   "outputs": [
    {
     "data": {
      "text/html": [
       "<div>\n",
       "<style scoped>\n",
       "    .dataframe tbody tr th:only-of-type {\n",
       "        vertical-align: middle;\n",
       "    }\n",
       "\n",
       "    .dataframe tbody tr th {\n",
       "        vertical-align: top;\n",
       "    }\n",
       "\n",
       "    .dataframe thead th {\n",
       "        text-align: right;\n",
       "    }\n",
       "</style>\n",
       "<table border=\"1\" class=\"dataframe\">\n",
       "  <thead>\n",
       "    <tr style=\"text-align: right;\">\n",
       "      <th></th>\n",
       "      <th>txn_id</th>\n",
       "      <th>client_id</th>\n",
       "      <th>txn_time</th>\n",
       "      <th>unix_time</th>\n",
       "      <th>amount</th>\n",
       "      <th>type</th>\n",
       "      <th>channel</th>\n",
       "      <th>category</th>\n",
       "      <th>online</th>\n",
       "      <th>merchant_id</th>\n",
       "      <th>...</th>\n",
       "      <th>trans_lat</th>\n",
       "      <th>trans_lon</th>\n",
       "      <th>trans_ip</th>\n",
       "      <th>device_id</th>\n",
       "      <th>account</th>\n",
       "      <th>is_fraud</th>\n",
       "      <th>is_suspicious</th>\n",
       "      <th>status</th>\n",
       "      <th>rule</th>\n",
       "      <th>distance_km</th>\n",
       "    </tr>\n",
       "  </thead>\n",
       "  <tbody>\n",
       "    <tr>\n",
       "      <th>19696</th>\n",
       "      <td>19487</td>\n",
       "      <td>1526</td>\n",
       "      <td>2025-01-21 10:31:48</td>\n",
       "      <td>1737455508</td>\n",
       "      <td>4918.3</td>\n",
       "      <td>purchase</td>\n",
       "      <td>ecom</td>\n",
       "      <td>misc_net</td>\n",
       "      <td>True</td>\n",
       "      <td>6950.0</td>\n",
       "      <td>...</td>\n",
       "      <td>43.116381</td>\n",
       "      <td>131.882348</td>\n",
       "      <td>5.8.21.193</td>\n",
       "      <td>15020.0</td>\n",
       "      <td>NaN</td>\n",
       "      <td>True</td>\n",
       "      <td>False</td>\n",
       "      <td>declined</td>\n",
       "      <td>trans_freq_increase</td>\n",
       "      <td>6433.668</td>\n",
       "    </tr>\n",
       "    <tr>\n",
       "      <th>19697</th>\n",
       "      <td>19506</td>\n",
       "      <td>11710</td>\n",
       "      <td>2025-01-21 16:35:13</td>\n",
       "      <td>1737477313</td>\n",
       "      <td>5490.0</td>\n",
       "      <td>purchase</td>\n",
       "      <td>ecom</td>\n",
       "      <td>misc_net</td>\n",
       "      <td>True</td>\n",
       "      <td>6851.0</td>\n",
       "      <td>...</td>\n",
       "      <td>53.348115</td>\n",
       "      <td>83.779836</td>\n",
       "      <td>5.8.29.15</td>\n",
       "      <td>13705.0</td>\n",
       "      <td>NaN</td>\n",
       "      <td>False</td>\n",
       "      <td>False</td>\n",
       "      <td>approved</td>\n",
       "      <td>not applicable</td>\n",
       "      <td>2943.040</td>\n",
       "    </tr>\n",
       "    <tr>\n",
       "      <th>19698</th>\n",
       "      <td>19507</td>\n",
       "      <td>11710</td>\n",
       "      <td>2025-01-21 16:38:13</td>\n",
       "      <td>1737477493</td>\n",
       "      <td>4740.0</td>\n",
       "      <td>purchase</td>\n",
       "      <td>ecom</td>\n",
       "      <td>misc_net</td>\n",
       "      <td>True</td>\n",
       "      <td>6851.0</td>\n",
       "      <td>...</td>\n",
       "      <td>53.348115</td>\n",
       "      <td>83.779836</td>\n",
       "      <td>5.8.29.15</td>\n",
       "      <td>13705.0</td>\n",
       "      <td>NaN</td>\n",
       "      <td>False</td>\n",
       "      <td>False</td>\n",
       "      <td>approved</td>\n",
       "      <td>not applicable</td>\n",
       "      <td>2943.040</td>\n",
       "    </tr>\n",
       "    <tr>\n",
       "      <th>19699</th>\n",
       "      <td>19508</td>\n",
       "      <td>11710</td>\n",
       "      <td>2025-01-21 16:40:13</td>\n",
       "      <td>1737477613</td>\n",
       "      <td>3320.0</td>\n",
       "      <td>purchase</td>\n",
       "      <td>ecom</td>\n",
       "      <td>misc_net</td>\n",
       "      <td>True</td>\n",
       "      <td>6851.0</td>\n",
       "      <td>...</td>\n",
       "      <td>53.348115</td>\n",
       "      <td>83.779836</td>\n",
       "      <td>5.8.29.15</td>\n",
       "      <td>13705.0</td>\n",
       "      <td>NaN</td>\n",
       "      <td>False</td>\n",
       "      <td>False</td>\n",
       "      <td>approved</td>\n",
       "      <td>not applicable</td>\n",
       "      <td>2943.040</td>\n",
       "    </tr>\n",
       "    <tr>\n",
       "      <th>19700</th>\n",
       "      <td>19509</td>\n",
       "      <td>11710</td>\n",
       "      <td>2025-01-21 16:45:13</td>\n",
       "      <td>1737477913</td>\n",
       "      <td>3900.0</td>\n",
       "      <td>purchase</td>\n",
       "      <td>ecom</td>\n",
       "      <td>grocery_net</td>\n",
       "      <td>True</td>\n",
       "      <td>6851.0</td>\n",
       "      <td>...</td>\n",
       "      <td>53.348115</td>\n",
       "      <td>83.779836</td>\n",
       "      <td>5.8.29.15</td>\n",
       "      <td>13705.0</td>\n",
       "      <td>NaN</td>\n",
       "      <td>True</td>\n",
       "      <td>False</td>\n",
       "      <td>declined</td>\n",
       "      <td>trans_freq_increase</td>\n",
       "      <td>2943.040</td>\n",
       "    </tr>\n",
       "  </tbody>\n",
       "</table>\n",
       "<p>5 rows × 21 columns</p>\n",
       "</div>"
      ],
      "text/plain": [
       "       txn_id  client_id            txn_time   unix_time  amount      type  \\\n",
       "19696   19487       1526 2025-01-21 10:31:48  1737455508  4918.3  purchase   \n",
       "19697   19506      11710 2025-01-21 16:35:13  1737477313  5490.0  purchase   \n",
       "19698   19507      11710 2025-01-21 16:38:13  1737477493  4740.0  purchase   \n",
       "19699   19508      11710 2025-01-21 16:40:13  1737477613  3320.0  purchase   \n",
       "19700   19509      11710 2025-01-21 16:45:13  1737477913  3900.0  purchase   \n",
       "\n",
       "      channel     category  online  merchant_id  ...  trans_lat   trans_lon  \\\n",
       "19696    ecom     misc_net    True       6950.0  ...  43.116381  131.882348   \n",
       "19697    ecom     misc_net    True       6851.0  ...  53.348115   83.779836   \n",
       "19698    ecom     misc_net    True       6851.0  ...  53.348115   83.779836   \n",
       "19699    ecom     misc_net    True       6851.0  ...  53.348115   83.779836   \n",
       "19700    ecom  grocery_net    True       6851.0  ...  53.348115   83.779836   \n",
       "\n",
       "         trans_ip device_id  account  is_fraud  is_suspicious    status  \\\n",
       "19696  5.8.21.193   15020.0      NaN      True          False  declined   \n",
       "19697   5.8.29.15   13705.0      NaN     False          False  approved   \n",
       "19698   5.8.29.15   13705.0      NaN     False          False  approved   \n",
       "19699   5.8.29.15   13705.0      NaN     False          False  approved   \n",
       "19700   5.8.29.15   13705.0      NaN      True          False  declined   \n",
       "\n",
       "                      rule distance_km  \n",
       "19696  trans_freq_increase    6433.668  \n",
       "19697       not applicable    2943.040  \n",
       "19698       not applicable    2943.040  \n",
       "19699       not applicable    2943.040  \n",
       "19700  trans_freq_increase    2943.040  \n",
       "\n",
       "[5 rows x 21 columns]"
      ]
     },
     "execution_count": 99,
     "metadata": {},
     "output_type": "execute_result"
    }
   ],
   "source": [
    "txns_merged[\"distance_km\"] = geod.inv(txns_merged.trans_lon, txns_merged.trans_lat, \\\n",
    "                                            txns_merged.lon, txns_merged.lat)[-1]\n",
    "txns_merged[\"distance_km\"] = txns_merged[\"distance_km\"].round() / 1000\n",
    "txns_merged[\"distance_km\"] = txns_merged[\"distance_km\"].fillna(0)\n",
    "txns_merged.drop(columns=[\"city\", \"lat\", \"lon\"], inplace=True)\n",
    "txns_merged.tail()"
   ]
  },
  {
   "cell_type": "code",
   "execution_count": 100,
   "id": "b24511ef-b2d2-47a9-b0b5-98e99da30207",
   "metadata": {},
   "outputs": [],
   "source": [
    "txns_merged.to_csv(r\".\\data\\for_pbi\\all_txns.csv\", index=False)"
   ]
  },
  {
   "cell_type": "code",
   "execution_count": 95,
   "id": "0c4e1248-7916-4186-ac34-b8b0efe3e96f",
   "metadata": {},
   "outputs": [
    {
     "data": {
      "text/html": [
       "<div>\n",
       "<style scoped>\n",
       "    .dataframe tbody tr th:only-of-type {\n",
       "        vertical-align: middle;\n",
       "    }\n",
       "\n",
       "    .dataframe tbody tr th {\n",
       "        vertical-align: top;\n",
       "    }\n",
       "\n",
       "    .dataframe thead th {\n",
       "        text-align: right;\n",
       "    }\n",
       "</style>\n",
       "<table border=\"1\" class=\"dataframe\">\n",
       "  <thead>\n",
       "    <tr style=\"text-align: right;\">\n",
       "      <th></th>\n",
       "      <th>txn_id</th>\n",
       "      <th>client_id</th>\n",
       "      <th>txn_time</th>\n",
       "      <th>unix_time</th>\n",
       "      <th>amount</th>\n",
       "      <th>type</th>\n",
       "      <th>channel</th>\n",
       "      <th>category</th>\n",
       "      <th>online</th>\n",
       "      <th>merchant_id</th>\n",
       "      <th>...</th>\n",
       "      <th>trans_lat</th>\n",
       "      <th>trans_lon</th>\n",
       "      <th>trans_ip</th>\n",
       "      <th>device_id</th>\n",
       "      <th>account</th>\n",
       "      <th>is_fraud</th>\n",
       "      <th>is_suspicious</th>\n",
       "      <th>status</th>\n",
       "      <th>rule</th>\n",
       "      <th>distance_km</th>\n",
       "    </tr>\n",
       "  </thead>\n",
       "  <tbody>\n",
       "    <tr>\n",
       "      <th>0</th>\n",
       "      <td>1</td>\n",
       "      <td>1514</td>\n",
       "      <td>2025-01-01 00:13:00</td>\n",
       "      <td>1735690380</td>\n",
       "      <td>1.00</td>\n",
       "      <td>purchase</td>\n",
       "      <td>ecom</td>\n",
       "      <td>shopping_net</td>\n",
       "      <td>True</td>\n",
       "      <td>6866.0</td>\n",
       "      <td>...</td>\n",
       "      <td>53.195166</td>\n",
       "      <td>50.106769</td>\n",
       "      <td>2.60.5.155</td>\n",
       "      <td>2552.0</td>\n",
       "      <td>NaN</td>\n",
       "      <td>False</td>\n",
       "      <td>False</td>\n",
       "      <td>approved</td>\n",
       "      <td>not applicable</td>\n",
       "      <td>0.000</td>\n",
       "    </tr>\n",
       "    <tr>\n",
       "      <th>1</th>\n",
       "      <td>2</td>\n",
       "      <td>399</td>\n",
       "      <td>2025-01-01 02:10:00</td>\n",
       "      <td>1735697400</td>\n",
       "      <td>929.02</td>\n",
       "      <td>purchase</td>\n",
       "      <td>ecom</td>\n",
       "      <td>grocery_net</td>\n",
       "      <td>True</td>\n",
       "      <td>6963.0</td>\n",
       "      <td>...</td>\n",
       "      <td>55.444345</td>\n",
       "      <td>65.316134</td>\n",
       "      <td>2.60.1.123</td>\n",
       "      <td>670.0</td>\n",
       "      <td>NaN</td>\n",
       "      <td>False</td>\n",
       "      <td>False</td>\n",
       "      <td>approved</td>\n",
       "      <td>not applicable</td>\n",
       "      <td>0.000</td>\n",
       "    </tr>\n",
       "    <tr>\n",
       "      <th>2</th>\n",
       "      <td>3</td>\n",
       "      <td>491</td>\n",
       "      <td>2025-01-01 02:35:00</td>\n",
       "      <td>1735698900</td>\n",
       "      <td>2063.67</td>\n",
       "      <td>purchase</td>\n",
       "      <td>ecom</td>\n",
       "      <td>shopping_net</td>\n",
       "      <td>True</td>\n",
       "      <td>6957.0</td>\n",
       "      <td>...</td>\n",
       "      <td>56.143938</td>\n",
       "      <td>47.248872</td>\n",
       "      <td>2.60.1.212</td>\n",
       "      <td>825.0</td>\n",
       "      <td>NaN</td>\n",
       "      <td>False</td>\n",
       "      <td>False</td>\n",
       "      <td>approved</td>\n",
       "      <td>not applicable</td>\n",
       "      <td>0.000</td>\n",
       "    </tr>\n",
       "    <tr>\n",
       "      <th>3</th>\n",
       "      <td>4</td>\n",
       "      <td>576</td>\n",
       "      <td>2025-01-01 02:53:00</td>\n",
       "      <td>1735699980</td>\n",
       "      <td>1.00</td>\n",
       "      <td>purchase</td>\n",
       "      <td>ecom</td>\n",
       "      <td>misc_net</td>\n",
       "      <td>True</td>\n",
       "      <td>6861.0</td>\n",
       "      <td>...</td>\n",
       "      <td>60.939738</td>\n",
       "      <td>76.569621</td>\n",
       "      <td>2.60.2.39</td>\n",
       "      <td>969.0</td>\n",
       "      <td>NaN</td>\n",
       "      <td>False</td>\n",
       "      <td>False</td>\n",
       "      <td>approved</td>\n",
       "      <td>not applicable</td>\n",
       "      <td>0.000</td>\n",
       "    </tr>\n",
       "    <tr>\n",
       "      <th>4</th>\n",
       "      <td>5</td>\n",
       "      <td>482</td>\n",
       "      <td>2025-01-01 03:01:00</td>\n",
       "      <td>1735700460</td>\n",
       "      <td>770.00</td>\n",
       "      <td>purchase</td>\n",
       "      <td>ecom</td>\n",
       "      <td>grocery_net</td>\n",
       "      <td>True</td>\n",
       "      <td>6902.0</td>\n",
       "      <td>...</td>\n",
       "      <td>52.286351</td>\n",
       "      <td>104.280655</td>\n",
       "      <td>2.60.1.203</td>\n",
       "      <td>808.0</td>\n",
       "      <td>NaN</td>\n",
       "      <td>False</td>\n",
       "      <td>False</td>\n",
       "      <td>approved</td>\n",
       "      <td>not applicable</td>\n",
       "      <td>0.000</td>\n",
       "    </tr>\n",
       "    <tr>\n",
       "      <th>...</th>\n",
       "      <td>...</td>\n",
       "      <td>...</td>\n",
       "      <td>...</td>\n",
       "      <td>...</td>\n",
       "      <td>...</td>\n",
       "      <td>...</td>\n",
       "      <td>...</td>\n",
       "      <td>...</td>\n",
       "      <td>...</td>\n",
       "      <td>...</td>\n",
       "      <td>...</td>\n",
       "      <td>...</td>\n",
       "      <td>...</td>\n",
       "      <td>...</td>\n",
       "      <td>...</td>\n",
       "      <td>...</td>\n",
       "      <td>...</td>\n",
       "      <td>...</td>\n",
       "      <td>...</td>\n",
       "      <td>...</td>\n",
       "      <td>...</td>\n",
       "    </tr>\n",
       "    <tr>\n",
       "      <th>19696</th>\n",
       "      <td>19487</td>\n",
       "      <td>1526</td>\n",
       "      <td>2025-01-21 10:31:48</td>\n",
       "      <td>1737455508</td>\n",
       "      <td>4918.30</td>\n",
       "      <td>purchase</td>\n",
       "      <td>ecom</td>\n",
       "      <td>misc_net</td>\n",
       "      <td>True</td>\n",
       "      <td>6950.0</td>\n",
       "      <td>...</td>\n",
       "      <td>43.116381</td>\n",
       "      <td>131.882348</td>\n",
       "      <td>5.8.21.193</td>\n",
       "      <td>15020.0</td>\n",
       "      <td>NaN</td>\n",
       "      <td>True</td>\n",
       "      <td>False</td>\n",
       "      <td>declined</td>\n",
       "      <td>trans_freq_increase</td>\n",
       "      <td>6433.668</td>\n",
       "    </tr>\n",
       "    <tr>\n",
       "      <th>19697</th>\n",
       "      <td>19506</td>\n",
       "      <td>11710</td>\n",
       "      <td>2025-01-21 16:35:13</td>\n",
       "      <td>1737477313</td>\n",
       "      <td>5490.00</td>\n",
       "      <td>purchase</td>\n",
       "      <td>ecom</td>\n",
       "      <td>misc_net</td>\n",
       "      <td>True</td>\n",
       "      <td>6851.0</td>\n",
       "      <td>...</td>\n",
       "      <td>53.348115</td>\n",
       "      <td>83.779836</td>\n",
       "      <td>5.8.29.15</td>\n",
       "      <td>13705.0</td>\n",
       "      <td>NaN</td>\n",
       "      <td>False</td>\n",
       "      <td>False</td>\n",
       "      <td>approved</td>\n",
       "      <td>not applicable</td>\n",
       "      <td>2943.040</td>\n",
       "    </tr>\n",
       "    <tr>\n",
       "      <th>19698</th>\n",
       "      <td>19507</td>\n",
       "      <td>11710</td>\n",
       "      <td>2025-01-21 16:38:13</td>\n",
       "      <td>1737477493</td>\n",
       "      <td>4740.00</td>\n",
       "      <td>purchase</td>\n",
       "      <td>ecom</td>\n",
       "      <td>misc_net</td>\n",
       "      <td>True</td>\n",
       "      <td>6851.0</td>\n",
       "      <td>...</td>\n",
       "      <td>53.348115</td>\n",
       "      <td>83.779836</td>\n",
       "      <td>5.8.29.15</td>\n",
       "      <td>13705.0</td>\n",
       "      <td>NaN</td>\n",
       "      <td>False</td>\n",
       "      <td>False</td>\n",
       "      <td>approved</td>\n",
       "      <td>not applicable</td>\n",
       "      <td>2943.040</td>\n",
       "    </tr>\n",
       "    <tr>\n",
       "      <th>19699</th>\n",
       "      <td>19508</td>\n",
       "      <td>11710</td>\n",
       "      <td>2025-01-21 16:40:13</td>\n",
       "      <td>1737477613</td>\n",
       "      <td>3320.00</td>\n",
       "      <td>purchase</td>\n",
       "      <td>ecom</td>\n",
       "      <td>misc_net</td>\n",
       "      <td>True</td>\n",
       "      <td>6851.0</td>\n",
       "      <td>...</td>\n",
       "      <td>53.348115</td>\n",
       "      <td>83.779836</td>\n",
       "      <td>5.8.29.15</td>\n",
       "      <td>13705.0</td>\n",
       "      <td>NaN</td>\n",
       "      <td>False</td>\n",
       "      <td>False</td>\n",
       "      <td>approved</td>\n",
       "      <td>not applicable</td>\n",
       "      <td>2943.040</td>\n",
       "    </tr>\n",
       "    <tr>\n",
       "      <th>19700</th>\n",
       "      <td>19509</td>\n",
       "      <td>11710</td>\n",
       "      <td>2025-01-21 16:45:13</td>\n",
       "      <td>1737477913</td>\n",
       "      <td>3900.00</td>\n",
       "      <td>purchase</td>\n",
       "      <td>ecom</td>\n",
       "      <td>grocery_net</td>\n",
       "      <td>True</td>\n",
       "      <td>6851.0</td>\n",
       "      <td>...</td>\n",
       "      <td>53.348115</td>\n",
       "      <td>83.779836</td>\n",
       "      <td>5.8.29.15</td>\n",
       "      <td>13705.0</td>\n",
       "      <td>NaN</td>\n",
       "      <td>True</td>\n",
       "      <td>False</td>\n",
       "      <td>declined</td>\n",
       "      <td>trans_freq_increase</td>\n",
       "      <td>2943.040</td>\n",
       "    </tr>\n",
       "  </tbody>\n",
       "</table>\n",
       "<p>19701 rows × 21 columns</p>\n",
       "</div>"
      ],
      "text/plain": [
       "       txn_id  client_id             txn_time   unix_time   amount      type  \\\n",
       "0           1       1514  2025-01-01 00:13:00  1735690380     1.00  purchase   \n",
       "1           2        399  2025-01-01 02:10:00  1735697400   929.02  purchase   \n",
       "2           3        491  2025-01-01 02:35:00  1735698900  2063.67  purchase   \n",
       "3           4        576  2025-01-01 02:53:00  1735699980     1.00  purchase   \n",
       "4           5        482  2025-01-01 03:01:00  1735700460   770.00  purchase   \n",
       "...       ...        ...                  ...         ...      ...       ...   \n",
       "19696   19487       1526  2025-01-21 10:31:48  1737455508  4918.30  purchase   \n",
       "19697   19506      11710  2025-01-21 16:35:13  1737477313  5490.00  purchase   \n",
       "19698   19507      11710  2025-01-21 16:38:13  1737477493  4740.00  purchase   \n",
       "19699   19508      11710  2025-01-21 16:40:13  1737477613  3320.00  purchase   \n",
       "19700   19509      11710  2025-01-21 16:45:13  1737477913  3900.00  purchase   \n",
       "\n",
       "      channel      category  online  merchant_id  ...  trans_lat   trans_lon  \\\n",
       "0        ecom  shopping_net    True       6866.0  ...  53.195166   50.106769   \n",
       "1        ecom   grocery_net    True       6963.0  ...  55.444345   65.316134   \n",
       "2        ecom  shopping_net    True       6957.0  ...  56.143938   47.248872   \n",
       "3        ecom      misc_net    True       6861.0  ...  60.939738   76.569621   \n",
       "4        ecom   grocery_net    True       6902.0  ...  52.286351  104.280655   \n",
       "...       ...           ...     ...          ...  ...        ...         ...   \n",
       "19696    ecom      misc_net    True       6950.0  ...  43.116381  131.882348   \n",
       "19697    ecom      misc_net    True       6851.0  ...  53.348115   83.779836   \n",
       "19698    ecom      misc_net    True       6851.0  ...  53.348115   83.779836   \n",
       "19699    ecom      misc_net    True       6851.0  ...  53.348115   83.779836   \n",
       "19700    ecom   grocery_net    True       6851.0  ...  53.348115   83.779836   \n",
       "\n",
       "         trans_ip device_id  account  is_fraud  is_suspicious    status  \\\n",
       "0      2.60.5.155    2552.0      NaN     False          False  approved   \n",
       "1      2.60.1.123     670.0      NaN     False          False  approved   \n",
       "2      2.60.1.212     825.0      NaN     False          False  approved   \n",
       "3       2.60.2.39     969.0      NaN     False          False  approved   \n",
       "4      2.60.1.203     808.0      NaN     False          False  approved   \n",
       "...           ...       ...      ...       ...            ...       ...   \n",
       "19696  5.8.21.193   15020.0      NaN      True          False  declined   \n",
       "19697   5.8.29.15   13705.0      NaN     False          False  approved   \n",
       "19698   5.8.29.15   13705.0      NaN     False          False  approved   \n",
       "19699   5.8.29.15   13705.0      NaN     False          False  approved   \n",
       "19700   5.8.29.15   13705.0      NaN      True          False  declined   \n",
       "\n",
       "                      rule distance_km  \n",
       "0           not applicable       0.000  \n",
       "1           not applicable       0.000  \n",
       "2           not applicable       0.000  \n",
       "3           not applicable       0.000  \n",
       "4           not applicable       0.000  \n",
       "...                    ...         ...  \n",
       "19696  trans_freq_increase    6433.668  \n",
       "19697       not applicable    2943.040  \n",
       "19698       not applicable    2943.040  \n",
       "19699       not applicable    2943.040  \n",
       "19700  trans_freq_increase    2943.040  \n",
       "\n",
       "[19701 rows x 21 columns]"
      ]
     },
     "execution_count": 95,
     "metadata": {},
     "output_type": "execute_result"
    }
   ],
   "source": [
    "pd.read_csv(r\".\\data\\for_pbi\\all_txns.csv\")"
   ]
  },
  {
   "cell_type": "code",
   "execution_count": null,
   "id": "b5aa01a9-9995-4e78-b56f-90b4f1f92940",
   "metadata": {},
   "outputs": [],
   "source": []
  },
  {
   "cell_type": "code",
   "execution_count": null,
   "id": "0792ccd1-273c-40ef-bb53-425b53e7cc1e",
   "metadata": {},
   "outputs": [],
   "source": []
  },
  {
   "cell_type": "code",
   "execution_count": 72,
   "id": "da32bea7-97ad-427e-89ef-d0d00f3ac3de",
   "metadata": {},
   "outputs": [
    {
     "data": {
      "text/html": [
       "<div>\n",
       "<style scoped>\n",
       "    .dataframe tbody tr th:only-of-type {\n",
       "        vertical-align: middle;\n",
       "    }\n",
       "\n",
       "    .dataframe tbody tr th {\n",
       "        vertical-align: top;\n",
       "    }\n",
       "\n",
       "    .dataframe thead th {\n",
       "        text-align: right;\n",
       "    }\n",
       "</style>\n",
       "<table border=\"1\" class=\"dataframe\">\n",
       "  <thead>\n",
       "    <tr style=\"text-align: right;\">\n",
       "      <th></th>\n",
       "      <th>txn_id</th>\n",
       "      <th>client_id</th>\n",
       "      <th>txn_time</th>\n",
       "      <th>unix_time</th>\n",
       "      <th>amount</th>\n",
       "      <th>type</th>\n",
       "      <th>channel</th>\n",
       "      <th>category</th>\n",
       "      <th>online</th>\n",
       "      <th>merchant_id</th>\n",
       "      <th>...</th>\n",
       "      <th>trans_ip</th>\n",
       "      <th>device_id</th>\n",
       "      <th>account</th>\n",
       "      <th>is_fraud</th>\n",
       "      <th>is_suspicious</th>\n",
       "      <th>status</th>\n",
       "      <th>rule</th>\n",
       "      <th>city</th>\n",
       "      <th>lat</th>\n",
       "      <th>lon</th>\n",
       "    </tr>\n",
       "  </thead>\n",
       "  <tbody>\n",
       "    <tr>\n",
       "      <th>1901</th>\n",
       "      <td>19659</td>\n",
       "      <td>3269</td>\n",
       "      <td>2025-01-03 11:11:00</td>\n",
       "      <td>1735902660</td>\n",
       "      <td>8000.0</td>\n",
       "      <td>purchase</td>\n",
       "      <td>ecom</td>\n",
       "      <td>misc_net</td>\n",
       "      <td>True</td>\n",
       "      <td>6918.0</td>\n",
       "      <td>...</td>\n",
       "      <td>2.60.12.24</td>\n",
       "      <td>5555.0</td>\n",
       "      <td>NaN</td>\n",
       "      <td>False</td>\n",
       "      <td>False</td>\n",
       "      <td>approved</td>\n",
       "      <td>not applicable</td>\n",
       "      <td>Саранск</td>\n",
       "      <td>54.180760</td>\n",
       "      <td>45.186226</td>\n",
       "    </tr>\n",
       "    <tr>\n",
       "      <th>2713</th>\n",
       "      <td>19550</td>\n",
       "      <td>3602</td>\n",
       "      <td>2025-01-04 02:22:00</td>\n",
       "      <td>1735957320</td>\n",
       "      <td>25000.0</td>\n",
       "      <td>outbound</td>\n",
       "      <td>transfer</td>\n",
       "      <td>not applicable</td>\n",
       "      <td>True</td>\n",
       "      <td>NaN</td>\n",
       "      <td>...</td>\n",
       "      <td>2.60.13.86</td>\n",
       "      <td>6135.0</td>\n",
       "      <td>16832.0</td>\n",
       "      <td>False</td>\n",
       "      <td>False</td>\n",
       "      <td>approved</td>\n",
       "      <td>not applicable</td>\n",
       "      <td>Красноярск</td>\n",
       "      <td>56.009466</td>\n",
       "      <td>92.852416</td>\n",
       "    </tr>\n",
       "    <tr>\n",
       "      <th>2714</th>\n",
       "      <td>19581</td>\n",
       "      <td>3594</td>\n",
       "      <td>2025-01-04 02:42:00</td>\n",
       "      <td>1735958520</td>\n",
       "      <td>2300.0</td>\n",
       "      <td>outbound</td>\n",
       "      <td>transfer</td>\n",
       "      <td>not applicable</td>\n",
       "      <td>True</td>\n",
       "      <td>NaN</td>\n",
       "      <td>...</td>\n",
       "      <td>2.60.13.78</td>\n",
       "      <td>6119.0</td>\n",
       "      <td>15986.0</td>\n",
       "      <td>False</td>\n",
       "      <td>False</td>\n",
       "      <td>approved</td>\n",
       "      <td>not applicable</td>\n",
       "      <td>Сочи</td>\n",
       "      <td>43.585583</td>\n",
       "      <td>39.723142</td>\n",
       "    </tr>\n",
       "  </tbody>\n",
       "</table>\n",
       "<p>3 rows × 23 columns</p>\n",
       "</div>"
      ],
      "text/plain": [
       "      txn_id  client_id            txn_time   unix_time   amount      type  \\\n",
       "1901   19659       3269 2025-01-03 11:11:00  1735902660   8000.0  purchase   \n",
       "2713   19550       3602 2025-01-04 02:22:00  1735957320  25000.0  outbound   \n",
       "2714   19581       3594 2025-01-04 02:42:00  1735958520   2300.0  outbound   \n",
       "\n",
       "       channel        category  online  merchant_id  ...    trans_ip  \\\n",
       "1901      ecom        misc_net    True       6918.0  ...  2.60.12.24   \n",
       "2713  transfer  not applicable    True          NaN  ...  2.60.13.86   \n",
       "2714  transfer  not applicable    True          NaN  ...  2.60.13.78   \n",
       "\n",
       "      device_id  account is_fraud  is_suspicious    status            rule  \\\n",
       "1901     5555.0      NaN    False          False  approved  not applicable   \n",
       "2713     6135.0  16832.0    False          False  approved  not applicable   \n",
       "2714     6119.0  15986.0    False          False  approved  not applicable   \n",
       "\n",
       "            city        lat        lon  \n",
       "1901     Саранск  54.180760  45.186226  \n",
       "2713  Красноярск  56.009466  92.852416  \n",
       "2714        Сочи  43.585583  39.723142  \n",
       "\n",
       "[3 rows x 23 columns]"
      ]
     },
     "execution_count": 72,
     "metadata": {},
     "output_type": "execute_result"
    }
   ],
   "source": [
    "last_legit_txns = txns_merged.query(\"trans_city == city and status == 'approved'\").groupby(\"client_id\", as_index=False).tail(1)\n",
    "last_legit_txns.head(3)"
   ]
  },
  {
   "cell_type": "code",
   "execution_count": 71,
   "id": "212cdc26-60b7-478a-bf2a-193a0c128b3e",
   "metadata": {},
   "outputs": [
    {
     "data": {
      "text/html": [
       "<div>\n",
       "<style scoped>\n",
       "    .dataframe tbody tr th:only-of-type {\n",
       "        vertical-align: middle;\n",
       "    }\n",
       "\n",
       "    .dataframe tbody tr th {\n",
       "        vertical-align: top;\n",
       "    }\n",
       "\n",
       "    .dataframe thead th {\n",
       "        text-align: right;\n",
       "    }\n",
       "</style>\n",
       "<table border=\"1\" class=\"dataframe\">\n",
       "  <thead>\n",
       "    <tr style=\"text-align: right;\">\n",
       "      <th></th>\n",
       "      <th>client_id</th>\n",
       "      <th>txn_id</th>\n",
       "      <th>txn_time</th>\n",
       "      <th>trans_lat</th>\n",
       "      <th>trans_lon</th>\n",
       "    </tr>\n",
       "  </thead>\n",
       "  <tbody>\n",
       "    <tr>\n",
       "      <th>0</th>\n",
       "      <td>3269</td>\n",
       "      <td>19660</td>\n",
       "      <td>2025-01-03 13:43:00</td>\n",
       "      <td>54.180760</td>\n",
       "      <td>45.186226</td>\n",
       "    </tr>\n",
       "    <tr>\n",
       "      <th>1</th>\n",
       "      <td>3602</td>\n",
       "      <td>19551</td>\n",
       "      <td>2025-01-04 04:23:00</td>\n",
       "      <td>56.009466</td>\n",
       "      <td>92.852416</td>\n",
       "    </tr>\n",
       "    <tr>\n",
       "      <th>2</th>\n",
       "      <td>3594</td>\n",
       "      <td>19582</td>\n",
       "      <td>2025-01-04 20:30:00</td>\n",
       "      <td>43.585583</td>\n",
       "      <td>39.723142</td>\n",
       "    </tr>\n",
       "    <tr>\n",
       "      <th>3</th>\n",
       "      <td>3800</td>\n",
       "      <td>19618</td>\n",
       "      <td>2025-01-05 04:54:00</td>\n",
       "      <td>51.530376</td>\n",
       "      <td>45.953026</td>\n",
       "    </tr>\n",
       "    <tr>\n",
       "      <th>4</th>\n",
       "      <td>2949</td>\n",
       "      <td>19567</td>\n",
       "      <td>2025-01-07 23:11:00</td>\n",
       "      <td>53.630250</td>\n",
       "      <td>55.931571</td>\n",
       "    </tr>\n",
       "  </tbody>\n",
       "</table>\n",
       "</div>"
      ],
      "text/plain": [
       "   client_id  txn_id            txn_time  trans_lat  trans_lon\n",
       "0       3269   19660 2025-01-03 13:43:00  54.180760  45.186226\n",
       "1       3602   19551 2025-01-04 04:23:00  56.009466  92.852416\n",
       "2       3594   19582 2025-01-04 20:30:00  43.585583  39.723142\n",
       "3       3800   19618 2025-01-05 04:54:00  51.530376  45.953026\n",
       "4       2949   19567 2025-01-07 23:11:00  53.630250  55.931571"
      ]
     },
     "execution_count": 71,
     "metadata": {},
     "output_type": "execute_result"
    }
   ],
   "source": [
    "first_fraud = all_txns.query(\"is_fraud == True\").groupby(\"client_id\", as_index=False).head(1)\\\n",
    "                        [[\"client_id\", \"txn_id\", \"txn_time\", \"trans_lat\", \"trans_lon\"]].reset_index(drop=True)\n",
    "first_fraud[\"trans_lat\"] = first_fraud[\"trans_lat\"].fillna(first_fraud.merge(clients, on=\"client_id\")[\"lat\"])\n",
    "first_fraud[\"trans_lon\"] = first_fraud[\"trans_lon\"].fillna(first_fraud.merge(clients, on=\"client_id\")[\"lon\"])\n",
    "first_fraud.head()"
   ]
  },
  {
   "cell_type": "code",
   "execution_count": 74,
   "id": "8bb6858c-4c9f-4749-83fd-5ecb59acb996",
   "metadata": {},
   "outputs": [
    {
     "data": {
      "text/plain": [
       "\u001b[31mSignature:\u001b[39m calc_distance(lat_01, lon_01, lat_02, lon_02, km=\u001b[38;5;28;01mTrue\u001b[39;00m)\n",
       "\u001b[31mDocstring:\u001b[39m\n",
       "Считает растояние между двумя координатами на Земном шаре.\n",
       "Между координатами последней по времени транзакции и переданными координатами.\n",
       "-----------------------------\n",
       "lat_01 - float. Широта первой точки\n",
       "lon_01 - float. Долгота первой точки\n",
       "lat_02 - float. Широта второй точки\n",
       "lon_02 - float. Долгота второй точки\n",
       "km - bool. Единицы измерения. Либо километры либо метры. Километры округляет до 2-х знаков, метры до целого.\n",
       "\u001b[31mFile:\u001b[39m      c:\\users\\iaros\\my_documents\\education\\projects\\fraud_detection_01\\data_generator\\utils.py\n",
       "\u001b[31mType:\u001b[39m      function"
      ]
     },
     "metadata": {},
     "output_type": "display_data"
    }
   ],
   "source": [
    "?calc_distance"
   ]
  },
  {
   "cell_type": "code",
   "execution_count": 78,
   "id": "7eaf8354-582b-4b57-9e9b-7772d620059a",
   "metadata": {},
   "outputs": [],
   "source": [
    "from pyproj import Geod"
   ]
  },
  {
   "cell_type": "code",
   "execution_count": 80,
   "id": "58e8dc8d-3b38-4d0a-86dc-d1e7820318c6",
   "metadata": {},
   "outputs": [],
   "source": [
    "# Геодезический расчёт по эллипсоиду WGS84\n",
    "geod = Geod(ellps=\"WGS84\")\n",
    "# [-1] берет последний элемент из кортежа. Это метры\n",
    "# distance_m = geod.inv(lon_01, lat_01, lon_02, lat_02)[-1]"
   ]
  },
  {
   "cell_type": "code",
   "execution_count": 83,
   "id": "38c6e41b-c404-4886-b541-949a53b03929",
   "metadata": {},
   "outputs": [
    {
     "data": {
      "text/html": [
       "<div>\n",
       "<style scoped>\n",
       "    .dataframe tbody tr th:only-of-type {\n",
       "        vertical-align: middle;\n",
       "    }\n",
       "\n",
       "    .dataframe tbody tr th {\n",
       "        vertical-align: top;\n",
       "    }\n",
       "\n",
       "    .dataframe thead th {\n",
       "        text-align: right;\n",
       "    }\n",
       "</style>\n",
       "<table border=\"1\" class=\"dataframe\">\n",
       "  <thead>\n",
       "    <tr style=\"text-align: right;\">\n",
       "      <th></th>\n",
       "      <th>txn_id_L</th>\n",
       "      <th>client_id</th>\n",
       "      <th>txn_time_L</th>\n",
       "      <th>unix_time</th>\n",
       "      <th>amount</th>\n",
       "      <th>type</th>\n",
       "      <th>channel</th>\n",
       "      <th>category</th>\n",
       "      <th>online</th>\n",
       "      <th>merchant_id</th>\n",
       "      <th>...</th>\n",
       "      <th>status</th>\n",
       "      <th>rule</th>\n",
       "      <th>city</th>\n",
       "      <th>lat</th>\n",
       "      <th>lon</th>\n",
       "      <th>txn_id_f</th>\n",
       "      <th>txn_time_f</th>\n",
       "      <th>trans_lat_f</th>\n",
       "      <th>trans_lon_f</th>\n",
       "      <th>distance_km</th>\n",
       "    </tr>\n",
       "  </thead>\n",
       "  <tbody>\n",
       "    <tr>\n",
       "      <th>105</th>\n",
       "      <td>19298</td>\n",
       "      <td>2280</td>\n",
       "      <td>2025-01-20 14:33:28</td>\n",
       "      <td>1737383608</td>\n",
       "      <td>397.11</td>\n",
       "      <td>purchase</td>\n",
       "      <td>POS</td>\n",
       "      <td>personal_care</td>\n",
       "      <td>False</td>\n",
       "      <td>3934.0</td>\n",
       "      <td>...</td>\n",
       "      <td>approved</td>\n",
       "      <td>not applicable</td>\n",
       "      <td>Белгород</td>\n",
       "      <td>50.597735</td>\n",
       "      <td>36.585824</td>\n",
       "      <td>19524</td>\n",
       "      <td>2025-01-20 16:35:55</td>\n",
       "      <td>53.175388</td>\n",
       "      <td>45.034741</td>\n",
       "      <td>646.684</td>\n",
       "    </tr>\n",
       "    <tr>\n",
       "      <th>106</th>\n",
       "      <td>19302</td>\n",
       "      <td>4271</td>\n",
       "      <td>2025-01-20 14:47:00</td>\n",
       "      <td>1737384420</td>\n",
       "      <td>1378.88</td>\n",
       "      <td>purchase</td>\n",
       "      <td>POS</td>\n",
       "      <td>grocery_pos</td>\n",
       "      <td>False</td>\n",
       "      <td>1663.0</td>\n",
       "      <td>...</td>\n",
       "      <td>approved</td>\n",
       "      <td>not applicable</td>\n",
       "      <td>Нижневартовск</td>\n",
       "      <td>60.939738</td>\n",
       "      <td>76.569621</td>\n",
       "      <td>19460</td>\n",
       "      <td>2025-01-20 22:50:08</td>\n",
       "      <td>47.209491</td>\n",
       "      <td>38.935154</td>\n",
       "      <td>2834.384</td>\n",
       "    </tr>\n",
       "    <tr>\n",
       "      <th>107</th>\n",
       "      <td>19333</td>\n",
       "      <td>3211</td>\n",
       "      <td>2025-01-20 16:09:58</td>\n",
       "      <td>1737389398</td>\n",
       "      <td>262.92</td>\n",
       "      <td>purchase</td>\n",
       "      <td>POS</td>\n",
       "      <td>health_fitness</td>\n",
       "      <td>False</td>\n",
       "      <td>1384.0</td>\n",
       "      <td>...</td>\n",
       "      <td>approved</td>\n",
       "      <td>not applicable</td>\n",
       "      <td>Нижний Тагил</td>\n",
       "      <td>57.910104</td>\n",
       "      <td>59.981324</td>\n",
       "      <td>19470</td>\n",
       "      <td>2025-01-20 19:11:55</td>\n",
       "      <td>58.010321</td>\n",
       "      <td>56.234178</td>\n",
       "      <td>226.595</td>\n",
       "    </tr>\n",
       "    <tr>\n",
       "      <th>108</th>\n",
       "      <td>19335</td>\n",
       "      <td>13276</td>\n",
       "      <td>2025-01-20 16:30:29</td>\n",
       "      <td>1737390629</td>\n",
       "      <td>1580.89</td>\n",
       "      <td>purchase</td>\n",
       "      <td>POS</td>\n",
       "      <td>health_fitness</td>\n",
       "      <td>False</td>\n",
       "      <td>2814.0</td>\n",
       "      <td>...</td>\n",
       "      <td>approved</td>\n",
       "      <td>not applicable</td>\n",
       "      <td>Тюмень</td>\n",
       "      <td>57.153082</td>\n",
       "      <td>65.534312</td>\n",
       "      <td>19512</td>\n",
       "      <td>2025-01-20 16:37:43</td>\n",
       "      <td>57.153082</td>\n",
       "      <td>65.534312</td>\n",
       "      <td>10.839</td>\n",
       "    </tr>\n",
       "    <tr>\n",
       "      <th>109</th>\n",
       "      <td>19645</td>\n",
       "      <td>13285</td>\n",
       "      <td>2025-01-21 01:44:00</td>\n",
       "      <td>1737423840</td>\n",
       "      <td>23000.00</td>\n",
       "      <td>purchase</td>\n",
       "      <td>ecom</td>\n",
       "      <td>shopping_net</td>\n",
       "      <td>True</td>\n",
       "      <td>6922.0</td>\n",
       "      <td>...</td>\n",
       "      <td>approved</td>\n",
       "      <td>not applicable</td>\n",
       "      <td>Грозный</td>\n",
       "      <td>43.317924</td>\n",
       "      <td>45.698110</td>\n",
       "      <td>19646</td>\n",
       "      <td>2025-01-21 03:38:00</td>\n",
       "      <td>43.317924</td>\n",
       "      <td>45.698110</td>\n",
       "      <td>0.000</td>\n",
       "    </tr>\n",
       "  </tbody>\n",
       "</table>\n",
       "<p>5 rows × 28 columns</p>\n",
       "</div>"
      ],
      "text/plain": [
       "     txn_id_L  client_id          txn_time_L   unix_time    amount      type  \\\n",
       "105     19298       2280 2025-01-20 14:33:28  1737383608    397.11  purchase   \n",
       "106     19302       4271 2025-01-20 14:47:00  1737384420   1378.88  purchase   \n",
       "107     19333       3211 2025-01-20 16:09:58  1737389398    262.92  purchase   \n",
       "108     19335      13276 2025-01-20 16:30:29  1737390629   1580.89  purchase   \n",
       "109     19645      13285 2025-01-21 01:44:00  1737423840  23000.00  purchase   \n",
       "\n",
       "    channel        category  online  merchant_id  ...    status  \\\n",
       "105     POS   personal_care   False       3934.0  ...  approved   \n",
       "106     POS     grocery_pos   False       1663.0  ...  approved   \n",
       "107     POS  health_fitness   False       1384.0  ...  approved   \n",
       "108     POS  health_fitness   False       2814.0  ...  approved   \n",
       "109    ecom    shopping_net    True       6922.0  ...  approved   \n",
       "\n",
       "               rule           city        lat        lon  txn_id_f  \\\n",
       "105  not applicable       Белгород  50.597735  36.585824     19524   \n",
       "106  not applicable  Нижневартовск  60.939738  76.569621     19460   \n",
       "107  not applicable   Нижний Тагил  57.910104  59.981324     19470   \n",
       "108  not applicable         Тюмень  57.153082  65.534312     19512   \n",
       "109  not applicable        Грозный  43.317924  45.698110     19646   \n",
       "\n",
       "             txn_time_f  trans_lat_f trans_lon_f distance_km  \n",
       "105 2025-01-20 16:35:55    53.175388   45.034741     646.684  \n",
       "106 2025-01-20 22:50:08    47.209491   38.935154    2834.384  \n",
       "107 2025-01-20 19:11:55    58.010321   56.234178     226.595  \n",
       "108 2025-01-20 16:37:43    57.153082   65.534312      10.839  \n",
       "109 2025-01-21 03:38:00    43.317924   45.698110       0.000  \n",
       "\n",
       "[5 rows x 28 columns]"
      ]
     },
     "execution_count": 83,
     "metadata": {},
     "output_type": "execute_result"
    }
   ],
   "source": [
    "one_leg_and_fraud = last_legit_txns.merge(first_fraud, on=\"client_id\", suffixes=(\"_L\", \"_f\"))\n",
    "one_leg_and_fraud[\"distance_km\"] = geod.inv(one_leg_and_fraud.trans_lon_L, one_leg_and_fraud.trans_lat_L, \\\n",
    "                                            one_leg_and_fraud.trans_lon_f, one_leg_and_fraud.trans_lat_f)[-1]\n",
    "one_leg_and_fraud[\"distance_km\"] = one_leg_and_fraud[\"distance_km\"].round() / 1000\n",
    "one_leg_and_fraud.tail()"
   ]
  },
  {
   "cell_type": "code",
   "execution_count": null,
   "id": "bcedb9e0-6206-45cc-ba9d-241616e497a9",
   "metadata": {},
   "outputs": [],
   "source": [
    "one_leg_and_fraud = one_leg_and_fraud['txn_id_f']"
   ]
  },
  {
   "cell_type": "code",
   "execution_count": 84,
   "id": "0d4cca40-f214-4c9a-af91-f7c876050cfb",
   "metadata": {},
   "outputs": [
    {
     "data": {
      "text/plain": [
       "Index(['txn_id_L', 'client_id', 'txn_time_L', 'unix_time', 'amount', 'type',\n",
       "       'channel', 'category', 'online', 'merchant_id', 'trans_city',\n",
       "       'trans_lat_L', 'trans_lon_L', 'trans_ip', 'device_id', 'account',\n",
       "       'is_fraud', 'is_suspicious', 'status', 'rule', 'city', 'lat', 'lon',\n",
       "       'txn_id_f', 'txn_time_f', 'trans_lat_f', 'trans_lon_f', 'distance_km'],\n",
       "      dtype='object')"
      ]
     },
     "execution_count": 84,
     "metadata": {},
     "output_type": "execute_result"
    }
   ],
   "source": [
    "one_leg_and_fraud.columns"
   ]
  },
  {
   "cell_type": "code",
   "execution_count": 15,
   "id": "f577f9f2-4c94-4bb6-9ebd-3c02d9698ca8",
   "metadata": {},
   "outputs": [
    {
     "name": "stdin",
     "output_type": "stream",
     "text": [
      "file name : 10_Дроп_фрод_основные_инструменты.ipynb\n"
     ]
    },
    {
     "name": "stdout",
     "output_type": "stream",
     "text": [
      "10. Дроп фрод основные инструменты\n",
      "10_Дроп_фрод_основные_инструменты.html\n"
     ]
    }
   ],
   "source": [
    "docs_files = os.listdir(\"docs\")\n",
    "html_name = input(\"file name :\").split(\".\")[0]\n",
    "split_name = html_name.split(\"_\")\n",
    "num = split_name.pop(0) + \". \"\n",
    "clean_name = num + \" \".join(split_name)\n",
    "print(clean_name)\n",
    "print(html_name)"
   ]
  },
  {
   "cell_type": "code",
   "execution_count": 9,
   "id": "1f4002e9-4e88-409f-8996-c3ed0a56be4c",
   "metadata": {},
   "outputs": [],
   "source": [
    "def create_html_list(dir=\"docs\", exclude=[\"index.html\"]):\n",
    "    docs_files = [file for file in os.listdir(dir) if file not in exclude]\n",
    "    code_block = \"\"\n",
    "    \n",
    "    for file in docs_files:\n",
    "        html_name = file\n",
    "        name = file.split(\".\")[0]\n",
    "        split_name = name.split(\"_\")\n",
    "        num = split_name.pop(0) + \". \"\n",
    "        clean_name = num + \" \".join(split_name)\n",
    "        one_line = f\"\"\"<li><a href=\"{html_name}\" target=\"_blank\">{clean_name}</a></li>\\n\"\"\"\n",
    "        code_block += one_line\n",
    "    return code_block"
   ]
  },
  {
   "cell_type": "code",
   "execution_count": 4,
   "id": "aa5fbb28-95e1-43ef-8deb-ead0599031c8",
   "metadata": {},
   "outputs": [
    {
     "name": "stdout",
     "output_type": "stream",
     "text": [
      "Biba generation... failed.          \n"
     ]
    },
    {
     "name": "stderr",
     "output_type": "stream",
     "text": [
      "Traceback (most recent call last):\n",
      "  File \"C:\\Users\\iaros\\My_documents\\Education\\projects\\fraud_detection_01\\data_generator\\runner\\utils.py\", line 43, in wrapper\n",
      "    result = func(self, *args, **kwargs)\n",
      "             ^^^^^^^^^^^^^^^^^^^^^^^^^^^\n",
      "  File \"C:\\Users\\iaros\\AppData\\Local\\Temp\\ipykernel_28028\\1796705528.py\", line 12, in abba\n",
      "    raise ValueError(\"\"\"Biba went wrong...\n",
      "ValueError: Biba went wrong...\n",
      "    If you are going to print the exception, it is better to use print(repr(e));\n",
      "    the base Exception.__str__ implementation only returns the exception message,\n",
      "    not the type. Or, use the traceback module, which has methods for printing\n",
      "    the current exception, formatted, or the full traceback. \n"
     ]
    }
   ],
   "source": [
    "from data_generator.runner.utils import spinner_decorator\n",
    "import time\n",
    "\n",
    "class Biba:\n",
    "    def __init__(self):\n",
    "        self.text = \"Biba generation\"\n",
    "        \n",
    "    @spinner_decorator\n",
    "    def abba(self):\n",
    "        for _ in range(30):\n",
    "            time.sleep(0.1)\n",
    "        raise ValueError(\"\"\"Biba went wrong...\n",
    "    If you are going to print the exception, it is better to use print(repr(e));\n",
    "    the base Exception.__str__ implementation only returns the exception message,\n",
    "    not the type. Or, use the traceback module, which has methods for printing\n",
    "    the current exception, formatted, or the full traceback. \"\"\")\n",
    "\n",
    "biba = Biba()\n",
    "biba.abba()"
   ]
  },
  {
   "cell_type": "code",
   "execution_count": 16,
   "id": "7b74e86b-129f-44aa-a580-a5751a8a0a1d",
   "metadata": {},
   "outputs": [
    {
     "data": {
      "text/plain": [
       "'<li><a href=\"10_Дроп_фрод_основные_инструменты.html\" target=\"_blank\">10. Дроп фрод основные инструменты</a></li>'"
      ]
     },
     "execution_count": 16,
     "metadata": {},
     "output_type": "execute_result"
    }
   ],
   "source": [
    "f\"\"\"<li><a href=\"{html_name}\" target=\"_blank\">{clean_name}</a></li>\"\"\""
   ]
  },
  {
   "cell_type": "code",
   "execution_count": 11,
   "id": "a1a7c4ee-4156-4870-b508-f0b75973d336",
   "metadata": {},
   "outputs": [
    {
     "ename": "ModuleNotFoundError",
     "evalue": "No module named 'pyperclip'",
     "output_type": "error",
     "traceback": [
      "\u001b[31m---------------------------------------------------------------------------\u001b[39m",
      "\u001b[31mModuleNotFoundError\u001b[39m                       Traceback (most recent call last)",
      "\u001b[36mCell\u001b[39m\u001b[36m \u001b[39m\u001b[32mIn[11]\u001b[39m\u001b[32m, line 1\u001b[39m\n\u001b[32m----> \u001b[39m\u001b[32m1\u001b[39m \u001b[38;5;28;01mimport\u001b[39;00m\u001b[38;5;250m \u001b[39m\u001b[34;01mpyperclip\u001b[39;00m\n",
      "\u001b[31mModuleNotFoundError\u001b[39m: No module named 'pyperclip'"
     ]
    }
   ],
   "source": [
    "import pyperclip"
   ]
  },
  {
   "cell_type": "code",
   "execution_count": null,
   "id": "95d1ec67-f254-4e26-825f-c125bea8ccf4",
   "metadata": {},
   "outputs": [],
   "source": []
  },
  {
   "cell_type": "code",
   "execution_count": 3,
   "id": "7f0ab002-97b8-4e09-bb05-84afdbea3c13",
   "metadata": {},
   "outputs": [
    {
     "data": {
      "text/plain": [
       "['01_Очистка_данных.html',\n",
       " '02_Генерация_гео_данных.html',\n",
       " '03_Создание_оффлайн_мерчантов_и_клиентов.html',\n",
       " '04_Создание_ip_адресов.html',\n",
       " '05_Устройства_и_онлайн_мерчанты.html',\n",
       " '06_Базовая_генерация_времени.html',\n",
       " '07_Создание_дополнительных_данных.html',\n",
       " '08_Генерация_легальных_транзакций.html',\n",
       " '09_drop_core_tools.ipynb.html',\n",
       " '09_Генерация_compromised_clients_фрода.html',\n",
       " '10_drop_txn_generation.html',\n",
       " '11_data_to_sql_db.html',\n",
       " '11_drop_activity_simulation.html',\n",
       " '12_other_tools.html',\n",
       " 'index.html']"
      ]
     },
     "execution_count": 3,
     "metadata": {},
     "output_type": "execute_result"
    }
   ],
   "source": [
    "os.listdir(\"docs\")"
   ]
  },
  {
   "cell_type": "code",
   "execution_count": null,
   "id": "8903fbd5-212a-47bf-8a05-335336fa8fa4",
   "metadata": {},
   "outputs": [],
   "source": []
  },
  {
   "cell_type": "code",
   "execution_count": null,
   "id": "c8825218-2bf8-4999-aca3-99953dc1801e",
   "metadata": {},
   "outputs": [],
   "source": []
  },
  {
   "cell_type": "code",
   "execution_count": 5,
   "id": "85d31988-546d-420b-b75f-b36aff462d90",
   "metadata": {},
   "outputs": [],
   "source": [
    "def get_values_from_truncnorm(low_bound, high_bound, mean, std, size=1):\n",
    "    \"\"\"\n",
    "    Сгенерировать массив чисел из обрезанного нормального распределения.\n",
    "    Можно сгенерировать массив с одним числом\n",
    "    ------------\n",
    "    low_bound - float, int. Нижняя граница значений\n",
    "    high_bound - float, int. Верхняя граница значений \n",
    "    mean - float, int. Среднее\n",
    "    std - float, int. Стандартное отклонение\n",
    "    size - Количество чисел в возвращаемом массиве\n",
    "    ------------\n",
    "    Возвращает np.ndarray\n",
    "    \"\"\"\n",
    "    return truncnorm.rvs((low_bound - mean) / std, (high_bound - mean) / std, loc=mean, scale=std, size=size)"
   ]
  },
  {
   "cell_type": "code",
   "execution_count": 6,
   "id": "60cdb8d5-2447-4c12-996c-45376b9f42e1",
   "metadata": {},
   "outputs": [],
   "source": [
    "total_txns = 20000\n",
    "avg_num_per_client = 20 # Среднее кол-во на клиента\n",
    "txn_num_std = 10 # Стандартное откл. кол-ва транзакций на клиента\n",
    "low_bound = 1 # мин. транз-ций на клиента\n",
    "up_bound = 120 # макс. транз-ций на клиента\n",
    "\n",
    "avg_total = total_txns\n",
    "est_clients = total_txns / avg_num_per_client\n",
    "total_std = txn_num_std * est_clients\n",
    "total_low = 1 * est_clients\n",
    "total_up = 120 * est_clients"
   ]
  },
  {
   "cell_type": "code",
   "execution_count": 7,
   "id": "4a701c99-3682-4999-b92a-498fcf1e96e7",
   "metadata": {},
   "outputs": [],
   "source": [
    "a = (total_low - avg_total) / total_std\n",
    "b = (total_up - avg_total) / total_std\n",
    "dist01 = norm(loc=avg_total, scale=total_std)"
   ]
  },
  {
   "cell_type": "code",
   "execution_count": 8,
   "id": "571c664f-bfd4-4023-b0e1-cd9a72ea4989",
   "metadata": {},
   "outputs": [
    {
     "data": {
      "text/plain": [
       "np.float64(36448.53626951472)"
      ]
     },
     "execution_count": 8,
     "metadata": {},
     "output_type": "execute_result"
    }
   ],
   "source": [
    "dist01.ppf(0.95)"
   ]
  },
  {
   "cell_type": "code",
   "execution_count": 53,
   "id": "7ed76432-51a7-43d7-893f-bc1ad6557c90",
   "metadata": {},
   "outputs": [],
   "source": [
    "all_runs = []\n",
    "rand_txn_nums = []\n",
    "for _ in range(100):\n",
    "    for _ in range(est_clients):\n",
    "        rand_txn_nums.append(round(get_values_from_truncnorm(low_bound=low_bound, high_bound=up_bound, \\\n",
    "                                                             mean=avg_num_per_client, std=txn_num_std)[0]))\n",
    "    rand_nums_sum = sum(rand_txn_nums)\n",
    "    rand_txn_nums.clear()\n",
    "    all_runs.append(rand_nums_sum)"
   ]
  },
  {
   "cell_type": "code",
   "execution_count": 54,
   "id": "2b89b22a-73b1-4164-a627-f616d81c4653",
   "metadata": {},
   "outputs": [
    {
     "data": {
      "text/plain": [
       "(19968, 21349)"
      ]
     },
     "execution_count": 54,
     "metadata": {},
     "output_type": "execute_result"
    }
   ],
   "source": [
    "min(all_runs), max(all_runs)"
   ]
  },
  {
   "cell_type": "code",
   "execution_count": 59,
   "id": "038a2348-4e99-4933-b753-7efaeb210ab1",
   "metadata": {},
   "outputs": [
    {
     "data": {
      "text/plain": [
       "Text(0.5, 1.0, 'Распределение общего числа транзакций')"
      ]
     },
     "execution_count": 59,
     "metadata": {},
     "output_type": "execute_result"
    },
    {
     "data": {
      "image/png": "[encoded data removed]",
      "text/plain": [
       "<Figure size 640x480 with 1 Axes>"
      ]
     },
     "metadata": {},
     "output_type": "display_data"
    }
   ],
   "source": [
    "import matplotlib.pyplot as plt\n",
    "plt.hist(all_runs, bins=25)\n",
    "plt.title(\"Распределение общего числа транзакций\")"
   ]
  },
  {
   "cell_type": "code",
   "execution_count": 23,
   "id": "330c292d-b4f5-4219-80c1-f279276f6425",
   "metadata": {},
   "outputs": [
    {
     "data": {
      "text/plain": [
       "np.float64(36589.37713944947)"
      ]
     },
     "execution_count": 23,
     "metadata": {},
     "output_type": "execute_result"
    }
   ],
   "source": []
  },
  {
   "cell_type": "code",
   "execution_count": 125,
   "id": "69acc04e-7607-4b7e-bdec-366af09cdb8e",
   "metadata": {},
   "outputs": [],
   "source": [
    "from scipy.stats import truncnorm\n",
    "import numpy as np\n",
    "\n",
    "total_txns = 50000\n",
    "avg_num_per_client = 30\n",
    "txn_num_std = 10\n",
    "low_bound = 1\n",
    "up_bound = 120\n",
    "\n",
    "est_clients = int(total_txns / avg_num_per_client)\n",
    "\n",
    "# параметры отдельной транзакции на клиента\n",
    "a = (low_bound - avg_num_per_client) / txn_num_std\n",
    "b = (up_bound - avg_num_per_client) / txn_num_std\n",
    "per_client_dist = truncnorm(a=a, b=b, loc=avg_num_per_client, scale=txn_num_std)"
   ]
  },
  {
   "cell_type": "code",
   "execution_count": 126,
   "id": "03d036cd-997d-4333-8076-4fb7545129c1",
   "metadata": {},
   "outputs": [],
   "source": [
    "samples = per_client_dist.rvs(size=(10000, est_clients))\n",
    "sum_txns = samples.sum(axis=1)"
   ]
  },
  {
   "cell_type": "code",
   "execution_count": 127,
   "id": "2bc0fd6c-928c-4621-8323-8c77f585ba4b",
   "metadata": {},
   "outputs": [],
   "source": [
    "mean_sum = est_clients * per_client_dist.mean()\n",
    "std_sum = np.sqrt(est_clients) * per_client_dist.std()"
   ]
  },
  {
   "cell_type": "code",
   "execution_count": 128,
   "id": "47d9073a-6aaf-43f3-a365-fbbf72c8457a",
   "metadata": {},
   "outputs": [
    {
     "data": {
      "text/plain": [
       "(np.float64(50079.354567186376), np.float64(404.61437490963584))"
      ]
     },
     "execution_count": 128,
     "metadata": {},
     "output_type": "execute_result"
    }
   ],
   "source": [
    "mean_sum, std_sum"
   ]
  },
  {
   "cell_type": "code",
   "execution_count": 152,
   "id": "6cb4cf6c-8fb0-4001-b06a-b39b41ac1d3a",
   "metadata": {},
   "outputs": [
    {
     "data": {
      "text/plain": [
       "(1691, 1666, 0.68)"
      ]
     },
     "execution_count": 152,
     "metadata": {},
     "output_type": "execute_result"
    }
   ],
   "source": [
    "fraud_rate = 0.04499054820415879\n",
    "compr_share = 0.7\n",
    "\n",
    "legit_count = round(mean_sum + 3*std_sum)\n",
    "# подсчет количества транзакций равных 1% от всех транзакций\n",
    "# т.к. не все транзакции еще созданы, то считаем основываясь на количестве \n",
    "# легальных транзакций и fraud rate\n",
    "one_perc = round(legit_count / ((1 - fraud_rate) * 100))\n",
    "# Абсолютное кол-во всего фрода\n",
    "fraud_abs = one_perc * fraud_rate * 100\n",
    "# Абсолютное кол-во фрод транзакций умножаем на долю транзакций compromised фрода\n",
    "clients_count = round(fraud_abs * compr_share)\n",
    "clients_count, est_clients, est_clients/fraud_abs // 0.01 * 0.01"
   ]
  },
  {
   "cell_type": "code",
   "execution_count": 151,
   "id": "dc5ae31e-658d-4f47-b700-4a44e1519975",
   "metadata": {},
   "outputs": [
    {
     "data": {
      "text/plain": [
       "0.04499054820415879"
      ]
     },
     "execution_count": 151,
     "metadata": {},
     "output_type": "execute_result"
    }
   ],
   "source": [
    "# est_clients / (one_perc * fraud_rate * 100)\n",
    "# fraud_rate = est_clients / (one_perc * 100)\n",
    "# clients_count = (one_perc * fraud_rate * 100) * compr_share\n",
    "fraud_rate = est_clients / (one_perc * 100 * compr_share)\n",
    "fraud_rate"
   ]
  },
  {
   "cell_type": "code",
   "execution_count": 154,
   "id": "2950a574-80a2-4af3-ad2f-64c492b6433d",
   "metadata": {},
   "outputs": [
    {
     "data": {
      "text/plain": [
       "'C:\\\\Users\\\\iaros\\\\My_documents\\\\Education\\\\projects\\\\fraud_detection_01\\\\notebooks'"
      ]
     },
     "execution_count": 154,
     "metadata": {},
     "output_type": "execute_result"
    }
   ],
   "source": [
    "os.getcwd()"
   ]
  },
  {
   "cell_type": "code",
   "execution_count": 155,
   "id": "638ca1c4-2c0d-4187-8ca5-ed76067f95d9",
   "metadata": {},
   "outputs": [],
   "source": [
    "os.chdir(\"..\")"
   ]
  },
  {
   "cell_type": "code",
   "execution_count": 167,
   "id": "06235b64-a53c-4139-8e68-0c03007f8fb9",
   "metadata": {},
   "outputs": [
    {
     "ename": "NameError",
     "evalue": "name 'pd' is not defined",
     "output_type": "error",
     "traceback": [
      "\u001b[31m---------------------------------------------------------------------------\u001b[39m",
      "\u001b[31mNameError\u001b[39m                                 Traceback (most recent call last)",
      "\u001b[36mCell\u001b[39m\u001b[36m \u001b[39m\u001b[32mIn[167]\u001b[39m\u001b[32m, line 1\u001b[39m\n\u001b[32m----> \u001b[39m\u001b[32m1\u001b[39m \u001b[43mpd\u001b[49m.read_csv(\u001b[33m\"\u001b[39m\u001b[33m./data/base_fraud/cat_fraud_amts.csv\u001b[39m\u001b[33m\"\u001b[39m)\n",
      "\u001b[31mNameError\u001b[39m: name 'pd' is not defined"
     ]
    }
   ],
   "source": []
  },
  {
   "cell_type": "code",
   "execution_count": 158,
   "id": "9d4e3423-3d12-4383-9fc5-f65946aa8918",
   "metadata": {},
   "outputs": [],
   "source": [
    "\n",
    "from test01 import bimbus"
   ]
  },
  {
   "cell_type": "code",
   "execution_count": 166,
   "id": "937ce7f7-137c-4cfd-ad90-dcab70527462",
   "metadata": {},
   "outputs": [
    {
     "data": {
      "text/plain": [
       "'a\\\\b\\\\c'"
      ]
     },
     "execution_count": 166,
     "metadata": {},
     "output_type": "execute_result"
    }
   ],
   "source": [
    "args = (\"a\", \"b\", \"c\")\n",
    "os.path.join(*args)"
   ]
  },
  {
   "cell_type": "code",
   "execution_count": 159,
   "id": "a9abd69b-c1eb-4091-9e3d-ac0994e3b0bb",
   "metadata": {},
   "outputs": [
    {
     "data": {
      "text/plain": [
       "'aboba galaboba'"
      ]
     },
     "execution_count": 159,
     "metadata": {},
     "output_type": "execute_result"
    }
   ],
   "source": [
    "bimbus"
   ]
  },
  {
   "cell_type": "code",
   "execution_count": 172,
   "id": "f8f2bbb7-2818-46b3-a33a-adb902de177c",
   "metadata": {},
   "outputs": [
    {
     "name": "stdout",
     "output_type": "stream",
     "text": [
      "aaa\\avvv\n"
     ]
    }
   ],
   "source": [
    "from pathlib import Path\n",
    "print(Path(\"aaa/avvv\"))"
   ]
  },
  {
   "cell_type": "code",
   "execution_count": 160,
   "id": "8b556b07-44f7-45bf-90a7-6dffc110bd00",
   "metadata": {},
   "outputs": [
    {
     "data": {
      "text/plain": [
       "'aaa/'"
      ]
     },
     "execution_count": 160,
     "metadata": {},
     "output_type": "execute_result"
    }
   ],
   "source": [
    "os.path.join(\"aaa/\", \"\"и)"
   ]
  },
  {
   "cell_type": "code",
   "execution_count": 165,
   "id": "813af9a1-80db-423f-a744-c2a9ac889660",
   "metadata": {},
   "outputs": [
    {
     "data": {
      "text/plain": [
       "True"
      ]
     },
     "execution_count": 165,
     "metadata": {},
     "output_type": "execute_result"
    }
   ],
   "source": [
    "os.path.isdir(\"modules\")"
   ]
  },
  {
   "cell_type": "code",
   "execution_count": 93,
   "id": "768ececb-ccfc-49a5-9f18-ee67fd4cd197",
   "metadata": {},
   "outputs": [],
   "source": [
    "from scipy.stats import norm\n",
    "approx_dist = norm(loc=mean_sum, scale=std_sum)"
   ]
  },
  {
   "cell_type": "code",
   "execution_count": 94,
   "id": "f5648945-f06c-4230-a2bd-e77c9931dcdb",
   "metadata": {},
   "outputs": [
    {
     "name": "stdout",
     "output_type": "stream",
     "text": [
      "mean: 10338\n",
      "std: 208\n",
      "addition: 0\n"
     ]
    },
    {
     "data": {
      "text/plain": [
       "882"
      ]
     },
     "execution_count": 94,
     "metadata": {},
     "output_type": "execute_result"
    }
   ],
   "source": [
    "addition = 0\n",
    "mul = 3\n",
    "mean = approx_dist.mean()\n",
    "std = approx_dist.std()\n",
    "print(f\"\"\"mean: {round(mean)}\n",
    "std: {round(std)}\n",
    "addition: {addition}\"\"\")\n",
    "# approx_dist.cdf(mean + std + addition) - approx_dist.cdf(mean - std - addition)\n",
    "1 - approx_dist.cdf(mean + std*mul) - approx_dist.cdf(mean - std*mul)\n",
    "294 * mul"
   ]
  },
  {
   "cell_type": "code",
   "execution_count": 100,
   "id": "537de6a4-73f1-4e84-98bd-1859f5d9a755",
   "metadata": {},
   "outputs": [
    {
     "data": {
      "text/plain": [
       "(78, 500)"
      ]
     },
     "execution_count": 100,
     "metadata": {},
     "output_type": "execute_result"
    }
   ],
   "source": []
  },
  {
   "cell_type": "code",
   "execution_count": 77,
   "id": "dda56e77-7060-4784-955f-3b2650390ebc",
   "metadata": {},
   "outputs": [
    {
     "name": "stdout",
     "output_type": "stream",
     "text": [
      "mean: 20000\n",
      "std: 10000\n",
      "addition: 0\n"
     ]
    },
    {
     "data": {
      "text/plain": [
       "np.float64(0.6826894921370859)"
      ]
     },
     "execution_count": 77,
     "metadata": {},
     "output_type": "execute_result"
    }
   ],
   "source": [
    "addition = 0\n",
    "mean = dist01.mean()\n",
    "std = dist01.std()\n",
    "print(f\"\"\"mean: {round(mean)}\n",
    "std: {round(std)}\n",
    "addition: {addition}\"\"\")\n",
    "dist01.cdf(mean + std + addition) - dist01.cdf(mean - std - addition)"
   ]
  },
  {
   "cell_type": "code",
   "execution_count": 78,
   "id": "28618bf1-63c0-4cdb-b9a6-a73e8d6b0b27",
   "metadata": {},
   "outputs": [
    {
     "data": {
      "text/plain": [
       "2.220446049250313e-16"
      ]
     },
     "execution_count": 78,
     "metadata": {},
     "output_type": "execute_result"
    }
   ],
   "source": [
    "0.6826894921370859 - 0.6826894921370856"
   ]
  },
  {
   "cell_type": "code",
   "execution_count": 36,
   "id": "0a30d041-7c8c-4ae1-8636-1fc7b72b78ef",
   "metadata": {},
   "outputs": [
    {
     "data": {
      "text/plain": [
       "Text(0.5, 1.0, 'Распределение общего числа транзакций')"
      ]
     },
     "execution_count": 36,
     "metadata": {},
     "output_type": "execute_result"
    },
    {
     "data": {
      "image/png": "[encoded data removed]",
      "text/plain": [
       "<Figure size 640x480 with 1 Axes>"
      ]
     },
     "metadata": {},
     "output_type": "display_data"
    }
   ],
   "source": [
    "import matplotlib.pyplot as plt\n",
    "plt.hist(sum_txns, bins=50)\n",
    "plt.title(\"Распределение общего числа транзакций\")"
   ]
  },
  {
   "cell_type": "code",
   "execution_count": null,
   "id": "e78692f4-4f24-43d4-9711-23b6394d10db",
   "metadata": {},
   "outputs": [],
   "source": [
    "addition = 8000\n",
    "dist01.cdf(avg_total + total_std + addition) - dist01.cdf(avg_total - total_std - addition)"
   ]
  },
  {
   "cell_type": "code",
   "execution_count": null,
   "id": "50b2f677-bf27-4e42-b602-7d42390baf4f",
   "metadata": {},
   "outputs": [],
   "source": []
  },
  {
   "cell_type": "code",
   "execution_count": null,
   "id": "88c20026-eadc-4041-9ca7-6639823b5358",
   "metadata": {},
   "outputs": [],
   "source": []
  },
  {
   "cell_type": "code",
   "execution_count": 14,
   "id": "1bd5433b-0454-4c85-b00b-2da683c6bf5d",
   "metadata": {},
   "outputs": [],
   "source": [
    "import itertools, sys, time\n",
    "def spinner(static_text):\n",
    "    \"\"\"\n",
    "    \"\"\"\n",
    "    spinner = itertools.cycle(['', '..', '....', '.....'])\n",
    "    i = 0\n",
    "    while i < 10:\n",
    "        text = next(spinner)\n",
    "        sys.stdout.write('\\r' + static_text + text + ' ' * 10)  # перезаписываем строку + очищаем остатки\n",
    "        sys.stdout.flush()\n",
    "        time.sleep(1)\n",
    "        i += 1\n",
    "    \n",
    "    sys.stdout.write('\\nDone.\\n')\n",
    "\n",
    "# print(\"done with spinner\")"
   ]
  },
  {
   "cell_type": "code",
   "execution_count": 15,
   "id": "f3098e45-0428-43a5-911d-04f903d624c8",
   "metadata": {},
   "outputs": [
    {
     "name": "stdout",
     "output_type": "stream",
     "text": [
      "Generating legit txns..             \n",
      "Done.\n"
     ]
    }
   ],
   "source": [
    "spinner(\"Generating legit txns\")"
   ]
  },
  {
   "cell_type": "code",
   "execution_count": null,
   "id": "ee38bef5-4338-48d9-80c6-f3d2a04f1655",
   "metadata": {},
   "outputs": [],
   "source": []
  },
  {
   "cell_type": "code",
   "execution_count": 2,
   "id": "34aab34b-1156-4dff-8242-dfa9ab4d5d2d",
   "metadata": {},
   "outputs": [
    {
     "data": {
      "text/plain": [
       "['.ipynb_checkpoints',\n",
       " '01_data_cleaning.ipynb',\n",
       " '02_cleaned_data_to_sql_db.ipynb',\n",
       " '03_geo_data_generation.ipynb',\n",
       " '03_whole_notebook_data_generation_v2.ipynb',\n",
       " '04_ip_addresses_generation.ipynb',\n",
       " '05COMMON_time_time_patterns_generation_30-06-2025.ipynb',\n",
       " '05DUPLICATE.ipynb',\n",
       " '05WHOLE_NB_time_patterns_generation_18-06-25.ipynb',\n",
       " '05_time_patterns_generation.ipynb',\n",
       " '06_devices_and_online_merchants.ipynb',\n",
       " '07v1_legit_transactions_generation.ipynb',\n",
       " '07v2_legit_transactions_generation.ipynb',\n",
       " '08_purchase_fraud_generation.ipynb',\n",
       " '09_drop_txns_generation.ipynb',\n",
       " 'Untitled.ipynb']"
      ]
     },
     "execution_count": 2,
     "metadata": {},
     "output_type": "execute_result"
    }
   ],
   "source": [
    "os.listdir(r\"C:\\Users\\iaros\\My_documents\\Education\\projects\\fraud_detection_01\\notebooks\")"
   ]
  },
  {
   "cell_type": "code",
   "execution_count": null,
   "id": "9a56f3ad-b21d-4faf-8a12-792f1d8a20e9",
   "metadata": {},
   "outputs": [],
   "source": [
    "\t# 1. 01_data_cleaning\n",
    "\t# 2. 02_geo_data_generation\n",
    "\t# 3. 03_ip_addresses_generation\n",
    "\t# 4. 06_devices_and_online_merchants\n",
    "\t# 5. 05_time_patterns_generation\n",
    "\t# 6. other_additional_data\n",
    "\t# 7. 07v2_legit_transactions_generation\n",
    "\t# 8. 08_purchase_fraud_generation\n",
    "\t# 9. 09_drop_txns_generation\n",
    "\t# 10. data_to_sql_db"
   ]
  },
  {
   "cell_type": "code",
   "execution_count": 1,
   "id": "5c0fb876",
   "metadata": {},
   "outputs": [],
   "source": [
    "import os\n",
    "import yaml\n",
    "from data_generator.runner.utils import make_dir_for_run\n",
    "\n",
    "os.chdir(\"..\")\n",
    "with open(\"./config/base.yaml\") as f:\n",
    "    base_cfg = yaml.safe_load(f)"
   ]
  },
  {
   "cell_type": "code",
   "execution_count": 4,
   "id": "37a8110e",
   "metadata": {},
   "outputs": [
    {
     "data": {
      "text/plain": [
       "WindowsPath('data/generated/history/generation_run_2025-07-23_175759')"
      ]
     },
     "execution_count": 4,
     "metadata": {},
     "output_type": "execute_result"
    }
   ],
   "source": [
    "make_dir_for_run(base_cfg)"
   ]
  },
  {
   "cell_type": "code",
   "execution_count": 1,
   "id": "56196b6a",
   "metadata": {},
   "outputs": [],
   "source": [
    "import pandas as pd\n",
    "import os\n",
    "os.chdir(\"..\")"
   ]
  },
  {
   "cell_type": "code",
   "execution_count": null,
   "id": "a205c765",
   "metadata": {},
   "outputs": [],
   "source": [
    "accounts = pd.read_csv(\"./data/generated/latest/accounts.csv\")"
   ]
  },
  {
   "cell_type": "code",
   "execution_count": 6,
   "id": "0531d488",
   "metadata": {},
   "outputs": [
    {
     "data": {
      "text/html": [
       "<div>\n",
       "<style scoped>\n",
       "    .dataframe tbody tr th:only-of-type {\n",
       "        vertical-align: middle;\n",
       "    }\n",
       "\n",
       "    .dataframe tbody tr th {\n",
       "        vertical-align: top;\n",
       "    }\n",
       "\n",
       "    .dataframe thead th {\n",
       "        text-align: right;\n",
       "    }\n",
       "</style>\n",
       "<table border=\"1\" class=\"dataframe\">\n",
       "  <thead>\n",
       "    <tr style=\"text-align: right;\">\n",
       "      <th></th>\n",
       "      <th>client_id</th>\n",
       "      <th>account_id</th>\n",
       "      <th>is_drop</th>\n",
       "    </tr>\n",
       "  </thead>\n",
       "  <tbody>\n",
       "    <tr>\n",
       "      <th>42</th>\n",
       "      <td>45</td>\n",
       "      <td>10042</td>\n",
       "      <td>True</td>\n",
       "    </tr>\n",
       "    <tr>\n",
       "      <th>5198</th>\n",
       "      <td>11709</td>\n",
       "      <td>15198</td>\n",
       "      <td>True</td>\n",
       "    </tr>\n",
       "  </tbody>\n",
       "</table>\n",
       "</div>"
      ],
      "text/plain": [
       "      client_id  account_id  is_drop\n",
       "42           45       10042     True\n",
       "5198      11709       15198     True"
      ]
     },
     "execution_count": 6,
     "metadata": {},
     "output_type": "execute_result"
    }
   ],
   "source": [
    "drops = accounts.query(\"is_drop == True\")\n",
    "drops"
   ]
  },
  {
   "cell_type": "code",
   "execution_count": 5,
   "id": "dc068bad",
   "metadata": {},
   "outputs": [],
   "source": [
    "all_txns = pd.read_parquet(\"./data/generated/latest/all_txns.parquet\")"
   ]
  },
  {
   "cell_type": "code",
   "execution_count": 7,
   "id": "e31d7daf",
   "metadata": {},
   "outputs": [
    {
     "data": {
      "text/plain": [
       "array(['not applicable', 'new_ip_and_device_high_amount',\n",
       "       'drop_flow_cashout', 'fast_geo_change_online', 'fast_geo_change',\n",
       "       'new_device_and_high_amount', 'trans_freq_increase',\n",
       "       'drop_purchaser'], dtype=object)"
      ]
     },
     "execution_count": 7,
     "metadata": {},
     "output_type": "execute_result"
    }
   ],
   "source": [
    "all_txns.rule.unique()"
   ]
  },
  {
   "cell_type": "code",
   "execution_count": 10,
   "id": "7e7c0651",
   "metadata": {},
   "outputs": [
    {
     "data": {
      "text/plain": [
       "array([   45, 11709])"
      ]
     },
     "execution_count": 10,
     "metadata": {},
     "output_type": "execute_result"
    }
   ],
   "source": [
    "txns_drop_ids = all_txns.query(\"rule in ['drop_flow_cashout', 'drop_purchaser']\").client_id.unique()\n",
    "txns_drop_ids"
   ]
  },
  {
   "cell_type": "code",
   "execution_count": 13,
   "id": "2a758c27",
   "metadata": {},
   "outputs": [],
   "source": [
    "assert drops.loc[~drops.client_id.isin(txns_drop_ids)].empty"
   ]
  },
  {
   "cell_type": "code",
   "execution_count": 14,
   "id": "f8a36b96",
   "metadata": {},
   "outputs": [],
   "source": [
    "accs_fm_hist = pd.read_csv(r\"C:\\Users\\iaros\\My_documents\\Education\\projects\\fraud_detection_01\\data\\generated\\history\\generation_run_2025-07-24_085339\\accounts.csv\")"
   ]
  },
  {
   "cell_type": "code",
   "execution_count": 16,
   "id": "46611989",
   "metadata": {},
   "outputs": [
    {
     "data": {
      "text/html": [
       "<div>\n",
       "<style scoped>\n",
       "    .dataframe tbody tr th:only-of-type {\n",
       "        vertical-align: middle;\n",
       "    }\n",
       "\n",
       "    .dataframe tbody tr th {\n",
       "        vertical-align: top;\n",
       "    }\n",
       "\n",
       "    .dataframe thead th {\n",
       "        text-align: right;\n",
       "    }\n",
       "</style>\n",
       "<table border=\"1\" class=\"dataframe\">\n",
       "  <thead>\n",
       "    <tr style=\"text-align: right;\">\n",
       "      <th></th>\n",
       "      <th>client_id</th>\n",
       "      <th>account_id</th>\n",
       "      <th>is_drop</th>\n",
       "    </tr>\n",
       "  </thead>\n",
       "  <tbody>\n",
       "    <tr>\n",
       "      <th>42</th>\n",
       "      <td>45</td>\n",
       "      <td>10042</td>\n",
       "      <td>True</td>\n",
       "    </tr>\n",
       "    <tr>\n",
       "      <th>5198</th>\n",
       "      <td>11709</td>\n",
       "      <td>15198</td>\n",
       "      <td>True</td>\n",
       "    </tr>\n",
       "  </tbody>\n",
       "</table>\n",
       "</div>"
      ],
      "text/plain": [
       "      client_id  account_id  is_drop\n",
       "42           45       10042     True\n",
       "5198      11709       15198     True"
      ]
     },
     "execution_count": 16,
     "metadata": {},
     "output_type": "execute_result"
    }
   ],
   "source": [
    "drops_fm_hist = accs_fm_hist.query(\"is_drop == True\")\n",
    "drops_fm_hist"
   ]
  },
  {
   "cell_type": "code",
   "execution_count": 18,
   "id": "1b197d79",
   "metadata": {},
   "outputs": [
    {
     "data": {
      "text/html": [
       "<div>\n",
       "<style scoped>\n",
       "    .dataframe tbody tr th:only-of-type {\n",
       "        vertical-align: middle;\n",
       "    }\n",
       "\n",
       "    .dataframe tbody tr th {\n",
       "        vertical-align: top;\n",
       "    }\n",
       "\n",
       "    .dataframe thead th {\n",
       "        text-align: right;\n",
       "    }\n",
       "</style>\n",
       "<table border=\"1\" class=\"dataframe\">\n",
       "  <thead>\n",
       "    <tr style=\"text-align: right;\">\n",
       "      <th></th>\n",
       "      <th>client_id</th>\n",
       "      <th>account_id_x</th>\n",
       "      <th>is_drop_x</th>\n",
       "      <th>account_id_y</th>\n",
       "      <th>is_drop_y</th>\n",
       "    </tr>\n",
       "  </thead>\n",
       "  <tbody>\n",
       "    <tr>\n",
       "      <th>0</th>\n",
       "      <td>45</td>\n",
       "      <td>10042</td>\n",
       "      <td>True</td>\n",
       "      <td>10042</td>\n",
       "      <td>True</td>\n",
       "    </tr>\n",
       "    <tr>\n",
       "      <th>1</th>\n",
       "      <td>11709</td>\n",
       "      <td>15198</td>\n",
       "      <td>True</td>\n",
       "      <td>15198</td>\n",
       "      <td>True</td>\n",
       "    </tr>\n",
       "  </tbody>\n",
       "</table>\n",
       "</div>"
      ],
      "text/plain": [
       "   client_id  account_id_x  is_drop_x  account_id_y  is_drop_y\n",
       "0         45         10042       True         10042       True\n",
       "1      11709         15198       True         15198       True"
      ]
     },
     "execution_count": 18,
     "metadata": {},
     "output_type": "execute_result"
    }
   ],
   "source": [
    "accs_merged = drops_fm_hist.merge(drops, how=\"outer\", on=\"client_id\")\n",
    "accs_merged"
   ]
  },
  {
   "cell_type": "code",
   "execution_count": 21,
   "id": "c29d3d45",
   "metadata": {},
   "outputs": [
    {
     "data": {
      "text/plain": [
       "np.False_"
      ]
     },
     "execution_count": 21,
     "metadata": {},
     "output_type": "execute_result"
    }
   ],
   "source": [
    "accs_merged.isna().any().any()"
   ]
  },
  {
   "cell_type": "code",
   "execution_count": null,
   "id": "20658476",
   "metadata": {},
   "outputs": [],
   "source": []
  }
 ],
 "metadata": {
  "kernelspec": {
   "display_name": "python (fraud_sim)",
   "language": "python",
   "name": "poetry-env"
  },
  "language_info": {
   "codemirror_mode": {
    "name": "ipython",
    "version": 3
   },
   "file_extension": ".py",
   "mimetype": "text/x-python",
   "name": "python",
   "nbconvert_exporter": "python",
   "pygments_lexer": "ipython3",
   "version": "3.13.3"
  }
 },
 "nbformat": 4,
 "nbformat_minor": 5
}
